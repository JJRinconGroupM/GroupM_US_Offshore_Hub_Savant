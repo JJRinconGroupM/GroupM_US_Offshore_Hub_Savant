{
 "cells": [
  {
   "cell_type": "markdown",
   "id": "7a1a6f91-cbc9-4f29-a7a4-8cdfe0fbf7d3",
   "metadata": {},
   "source": [
    "# Data visualization and budget set up"
   ]
  },
  {
   "cell_type": "markdown",
   "id": "4a71ab0b-ab9b-45bc-b42b-42edd93ad573",
   "metadata": {},
   "source": [
    "import packages"
   ]
  },
  {
   "cell_type": "code",
   "execution_count": 41,
   "id": "ba75a647-c184-4e90-add2-eebf3019ad24",
   "metadata": {
    "tags": []
   },
   "outputs": [],
   "source": [
    "import sys\n",
    "sys.path.append(str('/home/jupyter/All Regions/'))\n",
    "\n",
    "from configparser import ConfigParser\n",
    "import matplotlib.pyplot as plt\n",
    "\n",
    "from repo.MyConfigParser import MyConfigParser\n",
    "\n",
    "from repo.LoadData import DataLoader\n",
    "from repo.BuildModel import GenerateModelFile, CreateModel\n",
    "from repo.Accuracy import AccuracyCalculator, ProphetParameterSearch, PlotAccuracyCharts\n",
    "from repo.FileGenerator import *"
   ]
  },
  {
   "cell_type": "code",
   "execution_count": 42,
   "id": "eb031e7e-974a-4205-8d9a-9b1f8d88c29b",
   "metadata": {
    "tags": []
   },
   "outputs": [],
   "source": [
    "pd.set_option('display.float_format', '{:.6f}'.format)\n"
   ]
  },
  {
   "cell_type": "markdown",
   "id": "88921a31-0ebf-462b-9323-eaba8f63ae05",
   "metadata": {},
   "source": [
    "initial config file to config_dict"
   ]
  },
  {
   "cell_type": "code",
   "execution_count": 43,
   "id": "6d376606-fede-4991-a6d0-f3804b952c96",
   "metadata": {
    "tags": []
   },
   "outputs": [
    {
     "name": "stdout",
     "output_type": "stream",
     "text": [
      "05.07.2024\n"
     ]
    }
   ],
   "source": [
    "updated_config = ConfigParser()\n",
    "config_in_path = \"/home/jupyter/All Regions/emea/June 2024 Update/config ups emea.ini\"\n",
    "updated_config.read(config_in_path)\n",
    "\n",
    "getdict = MyConfigParser()\n",
    "config_dict=getdict.GetDict(updated_config)\n",
    "region = config_dict['CLIENTINFO']['country']\n",
    "cutoff_month = config_dict['PROPHETSETTING']['cut_off_point']\n",
    "base_start = config_dict['PROPHETSETTING']['reference_start_date1']\n",
    "base_end = config_dict['PROPHETSETTING']['reference_end_date1']\n",
    "periods = config_dict['PROPHETSETTING']['periods']\n",
    "base_periods  = config_dict['PROPHETSETTING']['base_periods']\n",
    "\n",
    "training_query = config_dict[\"PROPHETSETTING\"][\"training_query\"]\n",
    "_input = config_dict[\"PROPHETSETTING\"][\"input\"]\n",
    "_output = config_dict[\"PROPHETSETTING\"][\"output\"]\n",
    "\n",
    "output_bucket = config_dict[\"FILEPATH\"][\"output_bucket\"]\n",
    "folder_name = config_dict[\"FILEPATH\"][\"folder_name\"]\n",
    "\n",
    "\n",
    "today = datetime.date.today().strftime(\"%m.%d.%Y\") #'03.10.2023' #\n",
    "print(today)\n",
    "base_path = config_dict[\"FILEPATH\"][\"base_path\"]\n",
    "\n",
    "boundary_df_in_path = base_path + config_dict[\"FILEPATH\"][\"boundary_df_in_path\"]\n",
    "daily_df_out_path = base_path + config_dict[\"FILEPATH\"][\"daily_df_out_path\"]\n",
    "analytical_file_path = base_path + config_dict[\"FILEPATH\"][\"analytical_file_path\"]\n",
    "cuts_df_in_path = base_path + config_dict[\"FILEPATH\"][\"cuts_df_in_path\"]\n",
    "plot_name = base_path + config_dict[\"FILEPATH\"][\"plot_name\"]\n",
    "constraint_file_name = base_path + config_dict[\"FILEPATH\"][\"constraint_file_name\"]"
   ]
  },
  {
   "cell_type": "markdown",
   "id": "44f154b8-88db-4f30-bac5-bca4748544bb",
   "metadata": {},
   "source": [
    "Query daily data"
   ]
  },
  {
   "cell_type": "code",
   "execution_count": 44,
   "id": "828f4e26-b7ae-4074-a8b2-ba2abff84ac5",
   "metadata": {
    "tags": []
   },
   "outputs": [
    {
     "name": "stderr",
     "output_type": "stream",
     "text": [
      "/home/jupyter/All Regions/repo/QueryingData.py:34: FutureWarning: DataFrame.fillna with 'method' is deprecated and will raise in a future version. Use obj.ffill() or obj.bfill() instead.\n",
      "  search_df.fillna(method = 'ffill', inplace = True)\n"
     ]
    }
   ],
   "source": [
    "daily_df = GetBQData(training_query, _input, _output)\n",
    "daily_df['month'] = daily_df.ds.dt.month\n",
    "daily_df['year'] = daily_df.ds.dt.year\n"
   ]
  },
  {
   "cell_type": "code",
   "execution_count": 45,
   "id": "c656518a-fc20-48d1-b1ab-a6dbc0df6f1a",
   "metadata": {
    "tags": []
   },
   "outputs": [
    {
     "data": {
      "text/plain": [
       "Timestamp('2024-05-06 00:00:00')"
      ]
     },
     "execution_count": 45,
     "metadata": {},
     "output_type": "execute_result"
    }
   ],
   "source": [
    "daily_df.ds.max()"
   ]
  },
  {
   "cell_type": "code",
   "execution_count": 46,
   "id": "7a2ab02f-8a90-466d-882a-59e047a14e77",
   "metadata": {
    "tags": []
   },
   "outputs": [
    {
     "data": {
      "text/plain": [
       "array(['Belgium', 'Czech', 'France', 'Germany', 'India', 'Ireland',\n",
       "       'Italy', 'Netherlands', 'Poland', 'Saudi Arabia', 'Spain',\n",
       "       'Sweden', 'Turkey', 'UAE', 'UK'], dtype=object)"
      ]
     },
     "execution_count": 46,
     "metadata": {},
     "output_type": "execute_result"
    }
   ],
   "source": [
    "daily_df.market.unique()"
   ]
  },
  {
   "cell_type": "code",
   "execution_count": 47,
   "id": "f76a4a16-a87b-4586-99ed-f7e458c8b55c",
   "metadata": {
    "tags": []
   },
   "outputs": [],
   "source": [
    "pre_optimization_budget = daily_df[['year','X']].loc[(daily_df.month == 5) & (daily_df.year >= 2020)].groupby(['year']).sum().mean()\n"
   ]
  },
  {
   "cell_type": "code",
   "execution_count": 48,
   "id": "2a4f8e56-cb7d-492d-97d1-bc656ee3ba1b",
   "metadata": {
    "tags": []
   },
   "outputs": [
    {
     "data": {
      "text/plain": [
       "X   386683.554303\n",
       "dtype: float64"
      ]
     },
     "execution_count": 48,
     "metadata": {},
     "output_type": "execute_result"
    }
   ],
   "source": [
    "pre_optimization_budget"
   ]
  },
  {
   "cell_type": "code",
   "execution_count": 49,
   "id": "d680e396-0c8b-470a-872a-cbb7f02f31b9",
   "metadata": {
    "tags": []
   },
   "outputs": [],
   "source": [
    "df = daily_df.copy()\n",
    "df = df.groupby(['region', 'market', 'account_type', 'funnel', 'ds']).sum().reset_index()\n"
   ]
  },
  {
   "cell_type": "code",
   "execution_count": 50,
   "id": "0856f2f8-fc73-4f8f-ba80-7fe7fc68996c",
   "metadata": {
    "tags": []
   },
   "outputs": [],
   "source": [
    "# remove rows without date or conversion quantity\n",
    "df = df[~df[['ds', 'y']].isin([np.nan, np.inf, -np.inf]).any(axis=1)]\n",
    "\n",
    "df = df[df.ds < cutoff_month] # ensure data is only up to cutoff_point"
   ]
  },
  {
   "cell_type": "code",
   "execution_count": 51,
   "id": "87a67542-ebbd-4dd9-8b70-3cf4849065b2",
   "metadata": {
    "tags": []
   },
   "outputs": [
    {
     "name": "stderr",
     "output_type": "stream",
     "text": [
      "/home/jupyter/All Regions/repo/QueryingData.py:84: SettingWithCopyWarning: \n",
      "A value is trying to be set on a copy of a slice from a DataFrame.\n",
      "Try using .loc[row_indexer,col_indexer] = value instead\n",
      "\n",
      "See the caveats in the documentation: https://pandas.pydata.org/pandas-docs/stable/user_guide/indexing.html#returning-a-view-versus-a-copy\n",
      "  large_countries_ori.loc[large_countries_ori[large_countries_ori['funnel'] == 'Generic'].index, 'generic_cost'] = large_countries_ori.loc[large_countries_ori['funnel'] == 'Generic', 'X']\n",
      "/home/jupyter/All Regions/repo/QueryingData.py:85: SettingWithCopyWarning: \n",
      "A value is trying to be set on a copy of a slice from a DataFrame.\n",
      "Try using .loc[row_indexer,col_indexer] = value instead\n",
      "\n",
      "See the caveats in the documentation: https://pandas.pydata.org/pandas-docs/stable/user_guide/indexing.html#returning-a-view-versus-a-copy\n",
      "  large_countries_ori.loc[large_countries_ori[large_countries_ori['funnel'] == 'Competitor'].index, 'competitor_cost'] = large_countries_ori.loc[large_countries_ori['funnel'] == 'Competitor', 'X']\n"
     ]
    },
    {
     "data": {
      "text/plain": [
       "array(['SM', 'France', 'Germany', 'Italy', 'Poland', 'Spain', 'UK',\n",
       "       'India'], dtype=object)"
      ]
     },
     "execution_count": 51,
     "metadata": {},
     "output_type": "execute_result"
    }
   ],
   "source": [
    "small_market_str = 'SaudiArabia|UAE|Turkey|Ireland|Sweden|Netherlands|Belgium|Czech'\n",
    "updated_df = Combine(df, 'L', small_market_str)\n",
    "updated_df.market.unique()"
   ]
  },
  {
   "cell_type": "code",
   "execution_count": 52,
   "id": "4d048a33-8371-42e8-8f95-535991cd5f87",
   "metadata": {
    "tags": []
   },
   "outputs": [],
   "source": [
    "#remove outliers\n",
    "\n",
    "updated_df.drop(updated_df[(updated_df.market == 'Germany') & (updated_df.funnel == 'Non_Brand') & (updated_df.ds <'2022-01-01')].index, inplace=True)\n"
   ]
  },
  {
   "cell_type": "code",
   "execution_count": 53,
   "id": "9b2a9d49-f449-49ed-b5d3-9e66e695533f",
   "metadata": {
    "tags": []
   },
   "outputs": [
    {
     "data": {
      "text/html": [
       "<div>\n",
       "<style scoped>\n",
       "    .dataframe tbody tr th:only-of-type {\n",
       "        vertical-align: middle;\n",
       "    }\n",
       "\n",
       "    .dataframe tbody tr th {\n",
       "        vertical-align: top;\n",
       "    }\n",
       "\n",
       "    .dataframe thead th {\n",
       "        text-align: right;\n",
       "    }\n",
       "</style>\n",
       "<table border=\"1\" class=\"dataframe\">\n",
       "  <thead>\n",
       "    <tr style=\"text-align: right;\">\n",
       "      <th></th>\n",
       "      <th>ds</th>\n",
       "      <th>region</th>\n",
       "      <th>market</th>\n",
       "      <th>account_type</th>\n",
       "      <th>funnel</th>\n",
       "      <th>Identifier</th>\n",
       "      <th>X</th>\n",
       "      <th>y</th>\n",
       "      <th>month</th>\n",
       "      <th>year</th>\n",
       "      <th>new_funnel</th>\n",
       "      <th>generic_cost</th>\n",
       "      <th>competitor_cost</th>\n",
       "      <th>generic_cost_split</th>\n",
       "      <th>competitor_cost_split</th>\n",
       "      <th>Weekend</th>\n",
       "    </tr>\n",
       "  </thead>\n",
       "  <tbody>\n",
       "    <tr>\n",
       "      <th>0</th>\n",
       "      <td>2017-08-10</td>\n",
       "      <td>Europe</td>\n",
       "      <td>SM</td>\n",
       "      <td>-</td>\n",
       "      <td>-</td>\n",
       "      <td>S</td>\n",
       "      <td>827.640008</td>\n",
       "      <td>112.000000</td>\n",
       "      <td>48.000000</td>\n",
       "      <td>12102.000000</td>\n",
       "      <td>BrandNon_BrandBrandBrandNon_BrandBrand</td>\n",
       "      <td>NaN</td>\n",
       "      <td>NaN</td>\n",
       "      <td>0.500000</td>\n",
       "      <td>0.500000</td>\n",
       "      <td>0</td>\n",
       "    </tr>\n",
       "    <tr>\n",
       "      <th>1</th>\n",
       "      <td>2017-08-10</td>\n",
       "      <td>Europe</td>\n",
       "      <td>France</td>\n",
       "      <td>-</td>\n",
       "      <td>Brand</td>\n",
       "      <td>L</td>\n",
       "      <td>173.279994</td>\n",
       "      <td>173.000000</td>\n",
       "      <td>8.000000</td>\n",
       "      <td>2017.000000</td>\n",
       "      <td>NaN</td>\n",
       "      <td>0.000000</td>\n",
       "      <td>0.000000</td>\n",
       "      <td>0.500000</td>\n",
       "      <td>0.500000</td>\n",
       "      <td>0</td>\n",
       "    </tr>\n",
       "    <tr>\n",
       "      <th>2</th>\n",
       "      <td>2017-08-10</td>\n",
       "      <td>Europe</td>\n",
       "      <td>France</td>\n",
       "      <td>-</td>\n",
       "      <td>Non_Brand</td>\n",
       "      <td>L</td>\n",
       "      <td>1159.840001</td>\n",
       "      <td>3.000000</td>\n",
       "      <td>8.000000</td>\n",
       "      <td>2017.000000</td>\n",
       "      <td>NaN</td>\n",
       "      <td>1159.840001</td>\n",
       "      <td>0.000000</td>\n",
       "      <td>1.000000</td>\n",
       "      <td>0.000000</td>\n",
       "      <td>0</td>\n",
       "    </tr>\n",
       "    <tr>\n",
       "      <th>3</th>\n",
       "      <td>2017-08-10</td>\n",
       "      <td>Europe</td>\n",
       "      <td>Germany</td>\n",
       "      <td>-</td>\n",
       "      <td>Brand</td>\n",
       "      <td>L</td>\n",
       "      <td>503.510001</td>\n",
       "      <td>654.000000</td>\n",
       "      <td>16.000000</td>\n",
       "      <td>4034.000000</td>\n",
       "      <td>NaN</td>\n",
       "      <td>0.000000</td>\n",
       "      <td>0.000000</td>\n",
       "      <td>0.500000</td>\n",
       "      <td>0.500000</td>\n",
       "      <td>0</td>\n",
       "    </tr>\n",
       "    <tr>\n",
       "      <th>5</th>\n",
       "      <td>2017-08-10</td>\n",
       "      <td>Europe</td>\n",
       "      <td>Italy</td>\n",
       "      <td>-</td>\n",
       "      <td>Brand</td>\n",
       "      <td>L</td>\n",
       "      <td>64.960001</td>\n",
       "      <td>117.000000</td>\n",
       "      <td>8.000000</td>\n",
       "      <td>2017.000000</td>\n",
       "      <td>NaN</td>\n",
       "      <td>0.000000</td>\n",
       "      <td>0.000000</td>\n",
       "      <td>0.500000</td>\n",
       "      <td>0.500000</td>\n",
       "      <td>0</td>\n",
       "    </tr>\n",
       "    <tr>\n",
       "      <th>...</th>\n",
       "      <td>...</td>\n",
       "      <td>...</td>\n",
       "      <td>...</td>\n",
       "      <td>...</td>\n",
       "      <td>...</td>\n",
       "      <td>...</td>\n",
       "      <td>...</td>\n",
       "      <td>...</td>\n",
       "      <td>...</td>\n",
       "      <td>...</td>\n",
       "      <td>...</td>\n",
       "      <td>...</td>\n",
       "      <td>...</td>\n",
       "      <td>...</td>\n",
       "      <td>...</td>\n",
       "      <td>...</td>\n",
       "    </tr>\n",
       "    <tr>\n",
       "      <th>36730</th>\n",
       "      <td>2024-04-23</td>\n",
       "      <td>Europe</td>\n",
       "      <td>Spain</td>\n",
       "      <td>-</td>\n",
       "      <td>Non_Brand</td>\n",
       "      <td>L</td>\n",
       "      <td>7.500000</td>\n",
       "      <td>3.000000</td>\n",
       "      <td>16.000000</td>\n",
       "      <td>8096.000000</td>\n",
       "      <td>NaN</td>\n",
       "      <td>0.000000</td>\n",
       "      <td>7.500000</td>\n",
       "      <td>0.000000</td>\n",
       "      <td>1.000000</td>\n",
       "      <td>0</td>\n",
       "    </tr>\n",
       "    <tr>\n",
       "      <th>36731</th>\n",
       "      <td>2024-04-23</td>\n",
       "      <td>Europe</td>\n",
       "      <td>UK</td>\n",
       "      <td>-</td>\n",
       "      <td>Brand</td>\n",
       "      <td>L</td>\n",
       "      <td>5927.946900</td>\n",
       "      <td>1057.000000</td>\n",
       "      <td>8.000000</td>\n",
       "      <td>4048.000000</td>\n",
       "      <td>NaN</td>\n",
       "      <td>0.000000</td>\n",
       "      <td>0.000000</td>\n",
       "      <td>0.500000</td>\n",
       "      <td>0.500000</td>\n",
       "      <td>0</td>\n",
       "    </tr>\n",
       "    <tr>\n",
       "      <th>36732</th>\n",
       "      <td>2024-04-23</td>\n",
       "      <td>Europe</td>\n",
       "      <td>UK</td>\n",
       "      <td>-</td>\n",
       "      <td>Non_Brand</td>\n",
       "      <td>L</td>\n",
       "      <td>50.350000</td>\n",
       "      <td>17.000000</td>\n",
       "      <td>16.000000</td>\n",
       "      <td>8096.000000</td>\n",
       "      <td>NaN</td>\n",
       "      <td>34.310000</td>\n",
       "      <td>16.040000</td>\n",
       "      <td>0.681430</td>\n",
       "      <td>0.318570</td>\n",
       "      <td>0</td>\n",
       "    </tr>\n",
       "    <tr>\n",
       "      <th>36733</th>\n",
       "      <td>2024-04-23</td>\n",
       "      <td>Europe</td>\n",
       "      <td>India</td>\n",
       "      <td>-</td>\n",
       "      <td>Brand</td>\n",
       "      <td>L</td>\n",
       "      <td>441.527800</td>\n",
       "      <td>193.000000</td>\n",
       "      <td>8.000000</td>\n",
       "      <td>4048.000000</td>\n",
       "      <td>NaN</td>\n",
       "      <td>0.000000</td>\n",
       "      <td>0.000000</td>\n",
       "      <td>0.500000</td>\n",
       "      <td>0.500000</td>\n",
       "      <td>0</td>\n",
       "    </tr>\n",
       "    <tr>\n",
       "      <th>36734</th>\n",
       "      <td>2024-04-23</td>\n",
       "      <td>Europe</td>\n",
       "      <td>India</td>\n",
       "      <td>-</td>\n",
       "      <td>Non_Brand</td>\n",
       "      <td>L</td>\n",
       "      <td>248.310000</td>\n",
       "      <td>62.000000</td>\n",
       "      <td>16.000000</td>\n",
       "      <td>8096.000000</td>\n",
       "      <td>NaN</td>\n",
       "      <td>15.960000</td>\n",
       "      <td>232.350000</td>\n",
       "      <td>0.064274</td>\n",
       "      <td>0.935726</td>\n",
       "      <td>0</td>\n",
       "    </tr>\n",
       "  </tbody>\n",
       "</table>\n",
       "<p>35130 rows × 16 columns</p>\n",
       "</div>"
      ],
      "text/plain": [
       "              ds  region   market account_type     funnel Identifier  \\\n",
       "0     2017-08-10  Europe       SM            -          -          S   \n",
       "1     2017-08-10  Europe   France            -      Brand          L   \n",
       "2     2017-08-10  Europe   France            -  Non_Brand          L   \n",
       "3     2017-08-10  Europe  Germany            -      Brand          L   \n",
       "5     2017-08-10  Europe    Italy            -      Brand          L   \n",
       "...          ...     ...      ...          ...        ...        ...   \n",
       "36730 2024-04-23  Europe    Spain            -  Non_Brand          L   \n",
       "36731 2024-04-23  Europe       UK            -      Brand          L   \n",
       "36732 2024-04-23  Europe       UK            -  Non_Brand          L   \n",
       "36733 2024-04-23  Europe    India            -      Brand          L   \n",
       "36734 2024-04-23  Europe    India            -  Non_Brand          L   \n",
       "\n",
       "                X           y     month         year  \\\n",
       "0      827.640008  112.000000 48.000000 12102.000000   \n",
       "1      173.279994  173.000000  8.000000  2017.000000   \n",
       "2     1159.840001    3.000000  8.000000  2017.000000   \n",
       "3      503.510001  654.000000 16.000000  4034.000000   \n",
       "5       64.960001  117.000000  8.000000  2017.000000   \n",
       "...           ...         ...       ...          ...   \n",
       "36730    7.500000    3.000000 16.000000  8096.000000   \n",
       "36731 5927.946900 1057.000000  8.000000  4048.000000   \n",
       "36732   50.350000   17.000000 16.000000  8096.000000   \n",
       "36733  441.527800  193.000000  8.000000  4048.000000   \n",
       "36734  248.310000   62.000000 16.000000  8096.000000   \n",
       "\n",
       "                                   new_funnel  generic_cost  competitor_cost  \\\n",
       "0      BrandNon_BrandBrandBrandNon_BrandBrand           NaN              NaN   \n",
       "1                                         NaN      0.000000         0.000000   \n",
       "2                                         NaN   1159.840001         0.000000   \n",
       "3                                         NaN      0.000000         0.000000   \n",
       "5                                         NaN      0.000000         0.000000   \n",
       "...                                       ...           ...              ...   \n",
       "36730                                     NaN      0.000000         7.500000   \n",
       "36731                                     NaN      0.000000         0.000000   \n",
       "36732                                     NaN     34.310000        16.040000   \n",
       "36733                                     NaN      0.000000         0.000000   \n",
       "36734                                     NaN     15.960000       232.350000   \n",
       "\n",
       "       generic_cost_split  competitor_cost_split  Weekend  \n",
       "0                0.500000               0.500000        0  \n",
       "1                0.500000               0.500000        0  \n",
       "2                1.000000               0.000000        0  \n",
       "3                0.500000               0.500000        0  \n",
       "5                0.500000               0.500000        0  \n",
       "...                   ...                    ...      ...  \n",
       "36730            0.000000               1.000000        0  \n",
       "36731            0.500000               0.500000        0  \n",
       "36732            0.681430               0.318570        0  \n",
       "36733            0.500000               0.500000        0  \n",
       "36734            0.064274               0.935726        0  \n",
       "\n",
       "[35130 rows x 16 columns]"
      ]
     },
     "execution_count": 53,
     "metadata": {},
     "output_type": "execute_result"
    }
   ],
   "source": [
    "updated_df"
   ]
  },
  {
   "cell_type": "code",
   "execution_count": 54,
   "id": "6de7fd86-ce6d-4d1c-87ba-5ee64b885390",
   "metadata": {
    "tags": []
   },
   "outputs": [],
   "source": [
    "df_filtered_plot = updated_df.copy()\n",
    "df_filtered_plot = df_filtered_plot.loc[(df_filtered_plot['market']=='France') & (df_filtered_plot['funnel']=='Non_Brand')]\n",
    "df_filtered_plot['year_month'] = df_filtered_plot.ds.dt.to_period('M')\n",
    "df_filtered_plot = df_filtered_plot.groupby(['market', 'account_type', 'funnel', 'year_month']).sum(numeric_only=True).reset_index()"
   ]
  },
  {
   "cell_type": "code",
   "execution_count": 55,
   "id": "2cd2062a-2cee-4609-8e0b-ba0a184f2701",
   "metadata": {
    "tags": []
   },
   "outputs": [
    {
     "data": {
      "text/html": [
       "<div>\n",
       "<style scoped>\n",
       "    .dataframe tbody tr th:only-of-type {\n",
       "        vertical-align: middle;\n",
       "    }\n",
       "\n",
       "    .dataframe tbody tr th {\n",
       "        vertical-align: top;\n",
       "    }\n",
       "\n",
       "    .dataframe thead th {\n",
       "        text-align: right;\n",
       "    }\n",
       "</style>\n",
       "<table border=\"1\" class=\"dataframe\">\n",
       "  <thead>\n",
       "    <tr style=\"text-align: right;\">\n",
       "      <th></th>\n",
       "      <th>market</th>\n",
       "      <th>account_type</th>\n",
       "      <th>funnel</th>\n",
       "      <th>year_month</th>\n",
       "      <th>X</th>\n",
       "      <th>y</th>\n",
       "      <th>month</th>\n",
       "      <th>year</th>\n",
       "      <th>generic_cost</th>\n",
       "      <th>competitor_cost</th>\n",
       "      <th>generic_cost_split</th>\n",
       "      <th>competitor_cost_split</th>\n",
       "      <th>Weekend</th>\n",
       "    </tr>\n",
       "  </thead>\n",
       "  <tbody>\n",
       "    <tr>\n",
       "      <th>0</th>\n",
       "      <td>France</td>\n",
       "      <td>-</td>\n",
       "      <td>Non_Brand</td>\n",
       "      <td>2017-08</td>\n",
       "      <td>21293.849982</td>\n",
       "      <td>100.000000</td>\n",
       "      <td>168.000000</td>\n",
       "      <td>42357.000000</td>\n",
       "      <td>21293.849982</td>\n",
       "      <td>0.000000</td>\n",
       "      <td>19.000000</td>\n",
       "      <td>3.000000</td>\n",
       "      <td>6</td>\n",
       "    </tr>\n",
       "    <tr>\n",
       "      <th>1</th>\n",
       "      <td>France</td>\n",
       "      <td>-</td>\n",
       "      <td>Non_Brand</td>\n",
       "      <td>2017-09</td>\n",
       "      <td>34260.779846</td>\n",
       "      <td>283.000000</td>\n",
       "      <td>270.000000</td>\n",
       "      <td>60510.000000</td>\n",
       "      <td>34260.779846</td>\n",
       "      <td>0.000000</td>\n",
       "      <td>25.500000</td>\n",
       "      <td>4.500000</td>\n",
       "      <td>9</td>\n",
       "    </tr>\n",
       "    <tr>\n",
       "      <th>2</th>\n",
       "      <td>France</td>\n",
       "      <td>-</td>\n",
       "      <td>Non_Brand</td>\n",
       "      <td>2017-10</td>\n",
       "      <td>54610.820239</td>\n",
       "      <td>385.000000</td>\n",
       "      <td>310.000000</td>\n",
       "      <td>62527.000000</td>\n",
       "      <td>54610.820239</td>\n",
       "      <td>0.000000</td>\n",
       "      <td>26.500000</td>\n",
       "      <td>4.500000</td>\n",
       "      <td>9</td>\n",
       "    </tr>\n",
       "    <tr>\n",
       "      <th>3</th>\n",
       "      <td>France</td>\n",
       "      <td>-</td>\n",
       "      <td>Non_Brand</td>\n",
       "      <td>2017-11</td>\n",
       "      <td>19531.210013</td>\n",
       "      <td>247.000000</td>\n",
       "      <td>330.000000</td>\n",
       "      <td>60510.000000</td>\n",
       "      <td>19531.210013</td>\n",
       "      <td>0.000000</td>\n",
       "      <td>30.000000</td>\n",
       "      <td>0.000000</td>\n",
       "      <td>8</td>\n",
       "    </tr>\n",
       "    <tr>\n",
       "      <th>4</th>\n",
       "      <td>France</td>\n",
       "      <td>-</td>\n",
       "      <td>Non_Brand</td>\n",
       "      <td>2017-12</td>\n",
       "      <td>13774.659985</td>\n",
       "      <td>99.000000</td>\n",
       "      <td>372.000000</td>\n",
       "      <td>62527.000000</td>\n",
       "      <td>13774.659985</td>\n",
       "      <td>0.000000</td>\n",
       "      <td>31.000000</td>\n",
       "      <td>0.000000</td>\n",
       "      <td>10</td>\n",
       "    </tr>\n",
       "    <tr>\n",
       "      <th>...</th>\n",
       "      <td>...</td>\n",
       "      <td>...</td>\n",
       "      <td>...</td>\n",
       "      <td>...</td>\n",
       "      <td>...</td>\n",
       "      <td>...</td>\n",
       "      <td>...</td>\n",
       "      <td>...</td>\n",
       "      <td>...</td>\n",
       "      <td>...</td>\n",
       "      <td>...</td>\n",
       "      <td>...</td>\n",
       "      <td>...</td>\n",
       "    </tr>\n",
       "    <tr>\n",
       "      <th>76</th>\n",
       "      <td>France</td>\n",
       "      <td>-</td>\n",
       "      <td>Non_Brand</td>\n",
       "      <td>2023-12</td>\n",
       "      <td>36141.010400</td>\n",
       "      <td>1193.000000</td>\n",
       "      <td>1356.000000</td>\n",
       "      <td>228599.000000</td>\n",
       "      <td>33409.900400</td>\n",
       "      <td>2731.110000</td>\n",
       "      <td>25.617748</td>\n",
       "      <td>5.382252</td>\n",
       "      <td>10</td>\n",
       "    </tr>\n",
       "    <tr>\n",
       "      <th>77</th>\n",
       "      <td>France</td>\n",
       "      <td>-</td>\n",
       "      <td>Non_Brand</td>\n",
       "      <td>2024-01</td>\n",
       "      <td>2474.168300</td>\n",
       "      <td>588.000000</td>\n",
       "      <td>115.000000</td>\n",
       "      <td>232760.000000</td>\n",
       "      <td>2149.478300</td>\n",
       "      <td>324.690000</td>\n",
       "      <td>27.872961</td>\n",
       "      <td>3.127039</td>\n",
       "      <td>8</td>\n",
       "    </tr>\n",
       "    <tr>\n",
       "      <th>78</th>\n",
       "      <td>France</td>\n",
       "      <td>-</td>\n",
       "      <td>Non_Brand</td>\n",
       "      <td>2024-02</td>\n",
       "      <td>11259.881000</td>\n",
       "      <td>709.000000</td>\n",
       "      <td>216.000000</td>\n",
       "      <td>218592.000000</td>\n",
       "      <td>10837.661000</td>\n",
       "      <td>422.220000</td>\n",
       "      <td>27.609291</td>\n",
       "      <td>1.390709</td>\n",
       "      <td>8</td>\n",
       "    </tr>\n",
       "    <tr>\n",
       "      <th>79</th>\n",
       "      <td>France</td>\n",
       "      <td>-</td>\n",
       "      <td>Non_Brand</td>\n",
       "      <td>2024-03</td>\n",
       "      <td>29975.794900</td>\n",
       "      <td>600.000000</td>\n",
       "      <td>342.000000</td>\n",
       "      <td>230736.000000</td>\n",
       "      <td>28467.624900</td>\n",
       "      <td>1508.170000</td>\n",
       "      <td>29.587440</td>\n",
       "      <td>1.412560</td>\n",
       "      <td>10</td>\n",
       "    </tr>\n",
       "    <tr>\n",
       "      <th>80</th>\n",
       "      <td>France</td>\n",
       "      <td>-</td>\n",
       "      <td>Non_Brand</td>\n",
       "      <td>2024-04</td>\n",
       "      <td>7287.292300</td>\n",
       "      <td>339.000000</td>\n",
       "      <td>340.000000</td>\n",
       "      <td>172040.000000</td>\n",
       "      <td>7190.862300</td>\n",
       "      <td>96.430000</td>\n",
       "      <td>18.093045</td>\n",
       "      <td>4.906955</td>\n",
       "      <td>6</td>\n",
       "    </tr>\n",
       "  </tbody>\n",
       "</table>\n",
       "<p>81 rows × 13 columns</p>\n",
       "</div>"
      ],
      "text/plain": [
       "    market account_type     funnel year_month            X           y  \\\n",
       "0   France            -  Non_Brand    2017-08 21293.849982  100.000000   \n",
       "1   France            -  Non_Brand    2017-09 34260.779846  283.000000   \n",
       "2   France            -  Non_Brand    2017-10 54610.820239  385.000000   \n",
       "3   France            -  Non_Brand    2017-11 19531.210013  247.000000   \n",
       "4   France            -  Non_Brand    2017-12 13774.659985   99.000000   \n",
       "..     ...          ...        ...        ...          ...         ...   \n",
       "76  France            -  Non_Brand    2023-12 36141.010400 1193.000000   \n",
       "77  France            -  Non_Brand    2024-01  2474.168300  588.000000   \n",
       "78  France            -  Non_Brand    2024-02 11259.881000  709.000000   \n",
       "79  France            -  Non_Brand    2024-03 29975.794900  600.000000   \n",
       "80  France            -  Non_Brand    2024-04  7287.292300  339.000000   \n",
       "\n",
       "         month          year  generic_cost  competitor_cost  \\\n",
       "0   168.000000  42357.000000  21293.849982         0.000000   \n",
       "1   270.000000  60510.000000  34260.779846         0.000000   \n",
       "2   310.000000  62527.000000  54610.820239         0.000000   \n",
       "3   330.000000  60510.000000  19531.210013         0.000000   \n",
       "4   372.000000  62527.000000  13774.659985         0.000000   \n",
       "..         ...           ...           ...              ...   \n",
       "76 1356.000000 228599.000000  33409.900400      2731.110000   \n",
       "77  115.000000 232760.000000   2149.478300       324.690000   \n",
       "78  216.000000 218592.000000  10837.661000       422.220000   \n",
       "79  342.000000 230736.000000  28467.624900      1508.170000   \n",
       "80  340.000000 172040.000000   7190.862300        96.430000   \n",
       "\n",
       "    generic_cost_split  competitor_cost_split  Weekend  \n",
       "0            19.000000               3.000000        6  \n",
       "1            25.500000               4.500000        9  \n",
       "2            26.500000               4.500000        9  \n",
       "3            30.000000               0.000000        8  \n",
       "4            31.000000               0.000000       10  \n",
       "..                 ...                    ...      ...  \n",
       "76           25.617748               5.382252       10  \n",
       "77           27.872961               3.127039        8  \n",
       "78           27.609291               1.390709        8  \n",
       "79           29.587440               1.412560       10  \n",
       "80           18.093045               4.906955        6  \n",
       "\n",
       "[81 rows x 13 columns]"
      ]
     },
     "execution_count": 55,
     "metadata": {},
     "output_type": "execute_result"
    }
   ],
   "source": [
    "df_filtered_plot"
   ]
  },
  {
   "cell_type": "code",
   "execution_count": 56,
   "id": "efa24a56-20a3-4787-82dc-f9fa7e29c790",
   "metadata": {
    "tags": []
   },
   "outputs": [],
   "source": [
    "# France Non_Brand\n",
    "## High cost 2017-2018 low CQ 2017-2019\n",
    "## decreasing trend in CQ 2020-2024 very low CQ in nov 2022. \n",
    "## High peaks in cost 2021-11 2023-12 2024-3. \n",
    "## remove data before 2020 -06 \n",
    "# Germany Non_Brand\n",
    "## decreasing trand in CQ 2022-2024, low trough in nov 2022\n"
   ]
  },
  {
   "cell_type": "code",
   "execution_count": 57,
   "id": "776c2f2c-f83a-4764-abf3-a64a2cd13c29",
   "metadata": {},
   "outputs": [
    {
     "data": {
      "image/png": "[encoded data removed]",
      "text/plain": [
       "<Figure size 1000x500 with 1 Axes>"
      ]
     },
     "metadata": {},
     "output_type": "display_data"
    }
   ],
   "source": [
    "plt.figure(figsize=(10, 5))\n",
    "plt.plot(df_filtered_plot['year_month'].astype(str), df_filtered_plot['y'])  # Convert year_month to string for plotting\n",
    "plt.title('Monthly Conversion Quantity')\n",
    "plt.xlabel('Year-Month')\n",
    "plt.ylabel('Conversion Quantity')\n",
    "plt.grid(True)\n",
    "plt.xticks(rotation=90)  # Rotate x-axis labels for better readability\n",
    "plt.tight_layout()  # Adjust layout\n",
    "plt.show()\n"
   ]
  },
  {
   "cell_type": "code",
   "execution_count": 58,
   "id": "c6fe6477-30d4-4d1b-880a-df25f9fe0b45",
   "metadata": {},
   "outputs": [
    {
     "data": {
      "image/png": "[encoded data removed]",
      "text/plain": [
       "<Figure size 1000x500 with 1 Axes>"
      ]
     },
     "metadata": {},
     "output_type": "display_data"
    }
   ],
   "source": [
    "plt.figure(figsize=(10, 5))\n",
    "plt.plot(df_filtered_plot['year_month'].astype(str), df_filtered_plot['X'])  # Convert year_month to string for plotting\n",
    "plt.title('Monthly Cost')\n",
    "plt.xlabel('Year-Month')\n",
    "plt.ylabel('Cost')\n",
    "plt.grid(True)\n",
    "plt.xticks(rotation=90)  # Rotate x-axis labels for better readability\n",
    "plt.tight_layout()  # Adjust layout\n",
    "plt.show()\n"
   ]
  },
  {
   "cell_type": "code",
   "execution_count": null,
   "id": "14e19c70-104c-4fc7-93ae-7a23c4e6031c",
   "metadata": {},
   "outputs": [],
   "source": []
  },
  {
   "cell_type": "code",
   "execution_count": null,
   "id": "9040cdec-5a81-4dda-8f44-b7cc51bdee2b",
   "metadata": {},
   "outputs": [],
   "source": []
  }
 ],
 "metadata": {
  "environment": {
   "kernel": "conda-root-py",
   "name": "workbench-notebooks.m119",
   "type": "gcloud",
   "uri": "us-docker.pkg.dev/deeplearning-platform-release/gcr.io/workbench-notebooks:m119"
  },
  "kernelspec": {
   "display_name": "Python 3 (ipykernel) (Local)",
   "language": "python",
   "name": "conda-root-py"
  },
  "language_info": {
   "codemirror_mode": {
    "name": "ipython",
    "version": 3
   },
   "file_extension": ".py",
   "mimetype": "text/x-python",
   "name": "python",
   "nbconvert_exporter": "python",
   "pygments_lexer": "ipython3",
   "version": "3.10.14"
  }
 },
 "nbformat": 4,
 "nbformat_minor": 5
}
