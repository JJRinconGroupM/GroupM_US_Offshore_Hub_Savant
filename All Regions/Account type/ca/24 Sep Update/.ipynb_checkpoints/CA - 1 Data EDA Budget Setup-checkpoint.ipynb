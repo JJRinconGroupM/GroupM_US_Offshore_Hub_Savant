{
 "cells": [
  {
   "cell_type": "markdown",
   "id": "7a1a6f91-cbc9-4f29-a7a4-8cdfe0fbf7d3",
   "metadata": {},
   "source": [
    "# Data visualization and budget set up"
   ]
  },
  {
   "cell_type": "markdown",
   "id": "4a71ab0b-ab9b-45bc-b42b-42edd93ad573",
   "metadata": {},
   "source": [
    "import packages"
   ]
  },
  {
   "cell_type": "code",
   "execution_count": 1,
   "id": "ba75a647-c184-4e90-add2-eebf3019ad24",
   "metadata": {
    "tags": []
   },
   "outputs": [],
   "source": [
    "import sys\n",
    "\n",
    "sys.path.append(str('/home/jupyter/GroupM_US_Offshore_Hub_Savant/All Regions/'))\n",
    "\n",
    "import pandas as pd\n",
    "import numpy as np\n",
    "import matplotlib.pyplot as plt\n",
    "\n",
    "from configparser import ConfigParser\n",
    "import datetime\n",
    "\n",
    "from new_repo.MyConfigParser import MyConfigParser\n",
    "from new_repo.LoadData import DataLoader\n",
    "from new_repo.QueryingData import Combine\n",
    "from new_repo.FileGenerator import *\n",
    "\n",
    "import new_repo.Accuracy\n",
    "import new_repo.BuildModel\n"
   ]
  },
  {
   "cell_type": "code",
   "execution_count": 2,
   "id": "eb031e7e-974a-4205-8d9a-9b1f8d88c29b",
   "metadata": {
    "tags": []
   },
   "outputs": [],
   "source": [
    "pd.set_option('display.float_format', '{:.6f}'.format)\n"
   ]
  },
  {
   "cell_type": "markdown",
   "id": "88921a31-0ebf-462b-9323-eaba8f63ae05",
   "metadata": {},
   "source": [
    "initial config file to config_dict"
   ]
  },
  {
   "cell_type": "code",
   "execution_count": 3,
   "id": "6d376606-fede-4991-a6d0-f3804b952c96",
   "metadata": {
    "tags": []
   },
   "outputs": [
    {
     "name": "stdout",
     "output_type": "stream",
     "text": [
      "07.16.2024\n"
     ]
    }
   ],
   "source": [
    "\n",
    "config_in_path = \"/home/jupyter/GroupM_US_Offshore_Hub_Savant/All Regions/Account type/ca/24 Sep Update/config ups CA 24 Sep.ini\"\n",
    "config_file = MyConfigParser(config_in_path)\n",
    "config_dict = config_file.GetDict()\n",
    "\n",
    "region = config_dict['CLIENTINFO']['country']\n",
    "cutoff_month = config_dict['PROPHETSETTING']['cut_off_point']\n",
    "base_start = config_dict['PROPHETSETTING']['reference_start_date1']\n",
    "base_end = config_dict['PROPHETSETTING']['reference_end_date1']\n",
    "periods = config_dict['PROPHETSETTING']['periods']\n",
    "base_periods  = config_dict['PROPHETSETTING']['base_periods']\n",
    "\n",
    "training_query = config_dict[\"PROPHETSETTING\"][\"training_query\"]\n",
    "_input = config_dict[\"PROPHETSETTING\"][\"input\"]\n",
    "_output = config_dict[\"PROPHETSETTING\"][\"output\"]\n",
    "\n",
    "output_bucket = config_dict[\"FILEPATH\"][\"output_bucket\"]\n",
    "folder_name = config_dict[\"FILEPATH\"][\"folder_name\"]\n",
    "\n",
    "\n",
    "today = datetime.date.today().strftime(\"%m.%d.%Y\") #'03.10.2023' #\n",
    "print(today)\n",
    "base_path = config_dict[\"FILEPATH\"][\"base_path\"]\n",
    "\n",
    "boundary_df_in_path = base_path + config_dict[\"FILEPATH\"][\"boundary_df_in_path\"]\n",
    "daily_df_out_path = base_path + config_dict[\"FILEPATH\"][\"daily_df_out_path\"]\n",
    "analytical_file_path = base_path + config_dict[\"FILEPATH\"][\"analytical_file_path\"]\n",
    "cuts_df_in_path = base_path + config_dict[\"FILEPATH\"][\"cuts_df_in_path\"]\n",
    "plot_name = base_path + config_dict[\"FILEPATH\"][\"plot_name\"]\n",
    "constraint_file_name = base_path + config_dict[\"FILEPATH\"][\"constraint_file_name\"]\n"
   ]
  },
  {
   "cell_type": "markdown",
   "id": "fca6f5a8-5100-44db-b52b-97386044ea59",
   "metadata": {},
   "source": [
    "# Model constraint file \n",
    "    Upload model constraint file, which has for each split the AOV and ROAS"
   ]
  },
  {
   "cell_type": "code",
   "execution_count": 4,
   "id": "98d03b8c-e11f-42e3-8177-40682bf4bff5",
   "metadata": {
    "tags": []
   },
   "outputs": [
    {
     "data": {
      "text/html": [
       "<div>\n",
       "<style scoped>\n",
       "    .dataframe tbody tr th:only-of-type {\n",
       "        vertical-align: middle;\n",
       "    }\n",
       "\n",
       "    .dataframe tbody tr th {\n",
       "        vertical-align: top;\n",
       "    }\n",
       "\n",
       "    .dataframe thead th {\n",
       "        text-align: right;\n",
       "    }\n",
       "</style>\n",
       "<table border=\"1\" class=\"dataframe\">\n",
       "  <thead>\n",
       "    <tr style=\"text-align: right;\">\n",
       "      <th></th>\n",
       "      <th>market</th>\n",
       "      <th>account_type</th>\n",
       "      <th>funnel</th>\n",
       "      <th>AOV</th>\n",
       "      <th>ROAS</th>\n",
       "    </tr>\n",
       "  </thead>\n",
       "  <tbody>\n",
       "    <tr>\n",
       "      <th>0</th>\n",
       "      <td>US General</td>\n",
       "      <td>Bing Ads</td>\n",
       "      <td>Brand</td>\n",
       "      <td>34.950000</td>\n",
       "      <td>35.660000</td>\n",
       "    </tr>\n",
       "    <tr>\n",
       "      <th>1</th>\n",
       "      <td>US General</td>\n",
       "      <td>Bing Ads</td>\n",
       "      <td>Competitor</td>\n",
       "      <td>33.090000</td>\n",
       "      <td>23.960000</td>\n",
       "    </tr>\n",
       "    <tr>\n",
       "      <th>2</th>\n",
       "      <td>US General</td>\n",
       "      <td>Bing Ads</td>\n",
       "      <td>Generic</td>\n",
       "      <td>36.630000</td>\n",
       "      <td>6.250000</td>\n",
       "    </tr>\n",
       "    <tr>\n",
       "      <th>3</th>\n",
       "      <td>US General</td>\n",
       "      <td>Google AdWords</td>\n",
       "      <td>Brand</td>\n",
       "      <td>34.540000</td>\n",
       "      <td>22.330000</td>\n",
       "    </tr>\n",
       "    <tr>\n",
       "      <th>4</th>\n",
       "      <td>US General</td>\n",
       "      <td>Google AdWords</td>\n",
       "      <td>Competitor</td>\n",
       "      <td>32.360000</td>\n",
       "      <td>33.840000</td>\n",
       "    </tr>\n",
       "    <tr>\n",
       "      <th>5</th>\n",
       "      <td>US General</td>\n",
       "      <td>Google AdWords</td>\n",
       "      <td>Generic</td>\n",
       "      <td>43.940000</td>\n",
       "      <td>5.990000</td>\n",
       "    </tr>\n",
       "    <tr>\n",
       "      <th>6</th>\n",
       "      <td>France</td>\n",
       "      <td>-</td>\n",
       "      <td>Brand</td>\n",
       "      <td>35.970000</td>\n",
       "      <td>7.830000</td>\n",
       "    </tr>\n",
       "    <tr>\n",
       "      <th>7</th>\n",
       "      <td>France</td>\n",
       "      <td>-</td>\n",
       "      <td>Non_Brand</td>\n",
       "      <td>31.040000</td>\n",
       "      <td>5.570000</td>\n",
       "    </tr>\n",
       "    <tr>\n",
       "      <th>8</th>\n",
       "      <td>Germany</td>\n",
       "      <td>-</td>\n",
       "      <td>Brand</td>\n",
       "      <td>24.690000</td>\n",
       "      <td>8.130000</td>\n",
       "    </tr>\n",
       "    <tr>\n",
       "      <th>9</th>\n",
       "      <td>Germany</td>\n",
       "      <td>-</td>\n",
       "      <td>Non_Brand</td>\n",
       "      <td>27.630000</td>\n",
       "      <td>6.910000</td>\n",
       "    </tr>\n",
       "    <tr>\n",
       "      <th>10</th>\n",
       "      <td>Italy</td>\n",
       "      <td>-</td>\n",
       "      <td>Brand</td>\n",
       "      <td>37.090000</td>\n",
       "      <td>12.420000</td>\n",
       "    </tr>\n",
       "    <tr>\n",
       "      <th>11</th>\n",
       "      <td>Italy</td>\n",
       "      <td>-</td>\n",
       "      <td>Non_Brand</td>\n",
       "      <td>41.720000</td>\n",
       "      <td>11.790000</td>\n",
       "    </tr>\n",
       "    <tr>\n",
       "      <th>12</th>\n",
       "      <td>Poland</td>\n",
       "      <td>-</td>\n",
       "      <td>Brand</td>\n",
       "      <td>20.260000</td>\n",
       "      <td>34.730000</td>\n",
       "    </tr>\n",
       "    <tr>\n",
       "      <th>13</th>\n",
       "      <td>Poland</td>\n",
       "      <td>-</td>\n",
       "      <td>Non_Brand</td>\n",
       "      <td>19.200000</td>\n",
       "      <td>14.670000</td>\n",
       "    </tr>\n",
       "    <tr>\n",
       "      <th>14</th>\n",
       "      <td>UK</td>\n",
       "      <td>-</td>\n",
       "      <td>Brand</td>\n",
       "      <td>23.160000</td>\n",
       "      <td>6.010000</td>\n",
       "    </tr>\n",
       "    <tr>\n",
       "      <th>15</th>\n",
       "      <td>UK</td>\n",
       "      <td>-</td>\n",
       "      <td>Non_Brand</td>\n",
       "      <td>24.360000</td>\n",
       "      <td>5.370000</td>\n",
       "    </tr>\n",
       "    <tr>\n",
       "      <th>16</th>\n",
       "      <td>SM</td>\n",
       "      <td>-</td>\n",
       "      <td>-</td>\n",
       "      <td>76.010000</td>\n",
       "      <td>28.370000</td>\n",
       "    </tr>\n",
       "    <tr>\n",
       "      <th>17</th>\n",
       "      <td>Canada</td>\n",
       "      <td>-</td>\n",
       "      <td>Brand</td>\n",
       "      <td>42.320000</td>\n",
       "      <td>26.360000</td>\n",
       "    </tr>\n",
       "    <tr>\n",
       "      <th>18</th>\n",
       "      <td>Canada</td>\n",
       "      <td>-</td>\n",
       "      <td>Non_Brand</td>\n",
       "      <td>43.890000</td>\n",
       "      <td>7.120000</td>\n",
       "    </tr>\n",
       "    <tr>\n",
       "      <th>19</th>\n",
       "      <td>Mexico</td>\n",
       "      <td>-</td>\n",
       "      <td>Brand</td>\n",
       "      <td>60.900000</td>\n",
       "      <td>20.690000</td>\n",
       "    </tr>\n",
       "    <tr>\n",
       "      <th>20</th>\n",
       "      <td>Mexico</td>\n",
       "      <td>-</td>\n",
       "      <td>Non_Brand</td>\n",
       "      <td>69.400000</td>\n",
       "      <td>3.790000</td>\n",
       "    </tr>\n",
       "  </tbody>\n",
       "</table>\n",
       "</div>"
      ],
      "text/plain": [
       "        market    account_type      funnel       AOV      ROAS\n",
       "0   US General        Bing Ads       Brand 34.950000 35.660000\n",
       "1   US General        Bing Ads  Competitor 33.090000 23.960000\n",
       "2   US General        Bing Ads     Generic 36.630000  6.250000\n",
       "3   US General  Google AdWords       Brand 34.540000 22.330000\n",
       "4   US General  Google AdWords  Competitor 32.360000 33.840000\n",
       "5   US General  Google AdWords     Generic 43.940000  5.990000\n",
       "6       France               -       Brand 35.970000  7.830000\n",
       "7       France               -   Non_Brand 31.040000  5.570000\n",
       "8      Germany               -       Brand 24.690000  8.130000\n",
       "9      Germany               -   Non_Brand 27.630000  6.910000\n",
       "10       Italy               -       Brand 37.090000 12.420000\n",
       "11       Italy               -   Non_Brand 41.720000 11.790000\n",
       "12      Poland               -       Brand 20.260000 34.730000\n",
       "13      Poland               -   Non_Brand 19.200000 14.670000\n",
       "14          UK               -       Brand 23.160000  6.010000\n",
       "15          UK               -   Non_Brand 24.360000  5.370000\n",
       "16          SM               -           - 76.010000 28.370000\n",
       "17      Canada               -       Brand 42.320000 26.360000\n",
       "18      Canada               -   Non_Brand 43.890000  7.120000\n",
       "19      Mexico               -       Brand 60.900000 20.690000\n",
       "20      Mexico               -   Non_Brand 69.400000  3.790000"
      ]
     },
     "execution_count": 4,
     "metadata": {},
     "output_type": "execute_result"
    }
   ],
   "source": [
    "boundary_df = pd.read_csv(boundary_df_in_path)\n",
    "boundary_df.rename(columns = {'Market': 'market', 'Account Type':'account_type','Funnel':'funnel'}, inplace = True)\n",
    "boundary_df\n"
   ]
  },
  {
   "cell_type": "markdown",
   "id": "d5f4e350-1f06-47d7-b403-f27ed32527d5",
   "metadata": {},
   "source": [
    "# Get Covid data\n"
   ]
  },
  {
   "cell_type": "code",
   "execution_count": null,
   "id": "cf3a8bc2-007c-4362-a541-5bef4aa5713f",
   "metadata": {},
   "outputs": [],
   "source": [
    "covid_df = GetCovidData(country_name = 'Canada')\n",
    "covid_df.tail()"
   ]
  },
  {
   "cell_type": "markdown",
   "id": "5cfed02c-1d06-4249-9bb2-9f011298bab6",
   "metadata": {},
   "source": [
    "# Query daily data"
   ]
  },
  {
   "cell_type": "code",
   "execution_count": 5,
   "id": "828f4e26-b7ae-4074-a8b2-ba2abff84ac5",
   "metadata": {
    "tags": []
   },
   "outputs": [],
   "source": [
    "daily_df = GetBQData(training_query, _input, _output) # import data from BQ\n",
    "\n",
    "df = daily_df.copy() # create a copy\n",
    "df = df.groupby(['region', 'market', 'account_type', 'funnel', 'ds']).sum().reset_index() # group data by date and breakdowns to remove potential duplicate ds\n",
    "\n",
    "df.ds = pd.to_datetime(df.ds) # ensure ds is date_time type\n",
    "\n",
    "df = df[~df[['ds', 'y']].isin([np.nan, np.inf, -np.inf]).any(axis=1)] # remove any nan or inf values \n",
    "\n",
    "df = df[df.ds < cutoff_month] # ensure data is only up to cutoff_point\n",
    "\n"
   ]
  },
  {
   "cell_type": "markdown",
   "id": "0c0c9b74-fd2d-4f65-a75d-7373aceafd0a",
   "metadata": {},
   "source": [
    "Drop outliers "
   ]
  },
  {
   "cell_type": "code",
   "execution_count": 6,
   "id": "b7662c14-988e-49dd-b20e-f506cf316848",
   "metadata": {
    "tags": []
   },
   "outputs": [],
   "source": [
    "# remove inactive days\n",
    "\n",
    "# august-21 to october-21 for Bing Ads Brand\n",
    "df.drop(df[((df['ds'] >= '2021-08-01')&(df['ds'] <= '2021-10-31')) & ((df.account_type == 'Bing Ads') & (df.funnel == 'Brand'))].index,\n",
    "       axis = 0, inplace = True)\n",
    "\n",
    "# march-19 to august-19 for Bing Ads Brand\n",
    "df.drop(df[((df['ds'] >= '2019-03-01')&(df['ds'] <= '2019-08-31')) & ((df.account_type == 'Bing Ads') & (df.funnel == 'Brand'))].index,\n",
    "       axis = 0, inplace = True)\n",
    "\n",
    "# July-21 to december-21 for Bing Ads Generic\n",
    "df.drop(df[((df['ds'] >= '2021-07-01')&(df['ds'] <= '2021-12-31')) & ((df.account_type == 'Bing Ads') & (df.funnel == 'Generic'))].index, # ask why this data is removed\n",
    "       axis = 0, inplace = True)\n",
    "\n",
    "# use the recent years might be helpful, filter data before 2022\n",
    "df.drop(df[(df.account_type == 'Bing Ads') & (df.funnel == 'Generic') & (df.ds < '2022-01-01')].index, inplace=True)\n"
   ]
  },
  {
   "cell_type": "markdown",
   "id": "4524b297-eeac-4a63-a256-ae956246bc3c",
   "metadata": {},
   "source": [
    "add regressors"
   ]
  },
  {
   "cell_type": "code",
   "execution_count": 7,
   "id": "bc1dea62-7a78-4fb3-988f-6cea8363a1bf",
   "metadata": {
    "tags": []
   },
   "outputs": [],
   "source": [
    "\n",
    "# anomaly data in august-october 2021\n",
    "df['anomaly_2021'] = df['ds'].apply(lambda x: 1 if (x >= datetime.datetime(2021,8,1))\\\n",
    "                                     & (x <= datetime.datetime(2021,12,31)) else 0)\n",
    "\n",
    "# Covid year(2020)\n",
    "df['covid_year_dummy'] = df['ds'].apply(lambda x: 1 if (x >= datetime.datetime(2020,1,1))\\\n",
    "                                     & (x <= datetime.datetime(2020,12,31)) else 0)\n",
    "\n",
    "# weekends seasonality\n",
    "df['weekday_or_weekend'] = df['ds'].apply(lambda x: 1 if x.dayofweek > 4 else 0)\n",
    "\n",
    "# Jul to Dec 2018\n",
    "df['jul_dec_2019'] = df['ds'].apply(lambda x: 1 if (x >= datetime.datetime(2019,7,1))\\\n",
    "                                     & (x <= datetime.datetime(2019,12,31)) else 0)\n",
    "\n",
    "# nov to Dec 2019\n",
    "df['nov_dec_2018'] = df['ds'].apply(lambda x: 1 if (x >= datetime.datetime(2018,11,1))\\\n",
    "                                     & (x <= datetime.datetime(2018,12,31)) else 0)\n",
    "\n",
    "# March 2018\n",
    "df['mar_2018'] = df['ds'].apply(lambda x: 1 if (x >= datetime.datetime(2018,3,1))\\\n",
    "                                     & (x <= datetime.datetime(2018,3,31)) else 0)\n",
    "\n",
    "# april 2019\n",
    "df['apr_2019'] = df['ds'].apply(lambda x: 1 if (x >= datetime.datetime(2019,4,1))\\\n",
    "                                     & (x <= datetime.datetime(2019,4,30)) else 0)\n",
    "\n",
    "# may 2019\n",
    "df['may_2019'] = df['ds'].apply(lambda x: 1 if (x >= datetime.datetime(2019,5,1))\\\n",
    "                                     & (x <= datetime.datetime(2019,5,31)) else 0)\n",
    "\n"
   ]
  },
  {
   "cell_type": "code",
   "execution_count": 8,
   "id": "c656518a-fc20-48d1-b1ab-a6dbc0df6f1a",
   "metadata": {
    "tags": []
   },
   "outputs": [
    {
     "data": {
      "text/plain": [
       "Timestamp('2024-04-23 00:00:00')"
      ]
     },
     "execution_count": 8,
     "metadata": {},
     "output_type": "execute_result"
    }
   ],
   "source": [
    "df.ds.max()"
   ]
  },
  {
   "cell_type": "markdown",
   "id": "4b89520f-6eec-42b4-bf32-258c4098a64c",
   "metadata": {},
   "source": [
    "### Combine funnel non_brand data"
   ]
  },
  {
   "cell_type": "code",
   "execution_count": null,
   "id": "2f8a0aac-3a11-459b-bc49-056c0dd3f7ad",
   "metadata": {},
   "outputs": [],
   "source": [
    "combined_df = Combine(df = df, config_dict = config_dict)\n",
    "\n",
    "combined_df.head()"
   ]
  },
  {
   "cell_type": "markdown",
   "id": "7f668538-d60f-44b3-9e59-229c364cd0ef",
   "metadata": {},
   "source": [
    "merge the combined daily data with the covid data"
   ]
  },
  {
   "cell_type": "code",
   "execution_count": null,
   "id": "93d45f01-4cfa-491d-b7cc-8f809121d1d5",
   "metadata": {},
   "outputs": [],
   "source": [
    "df = combined_df.merge(covid_df, how = 'left', on = ['ds', 'market'])\n",
    "df = df.fillna(0)"
   ]
  },
  {
   "cell_type": "markdown",
   "id": "76ee0b4c-e520-4f85-85b8-cbcf08d69da4",
   "metadata": {},
   "source": [
    "filter the data in df to just the one that is going to be used (only the ones with splits from the boundary_df) <br>\n",
    "this is set with an inner merge of boundary_df and df. "
   ]
  },
  {
   "cell_type": "code",
   "execution_count": 9,
   "id": "69e9f215-5e51-4949-8c2d-a82f0b26bae2",
   "metadata": {
    "tags": []
   },
   "outputs": [],
   "source": [
    "df = pd.merge(df, boundary_df, on = ['market','account_type', 'funnel'])\n"
   ]
  },
  {
   "cell_type": "markdown",
   "id": "e7725c9c-f251-4ac3-a6fd-2e7b683ba23f",
   "metadata": {},
   "source": [
    "add additional variables needed but that are not regressors in the prophet model "
   ]
  },
  {
   "cell_type": "code",
   "execution_count": 10,
   "id": "bd96bd16-dee8-48d1-b622-783fc3a16cca",
   "metadata": {
    "tags": []
   },
   "outputs": [
    {
     "data": {
      "text/html": [
       "<div>\n",
       "<style scoped>\n",
       "    .dataframe tbody tr th:only-of-type {\n",
       "        vertical-align: middle;\n",
       "    }\n",
       "\n",
       "    .dataframe tbody tr th {\n",
       "        vertical-align: top;\n",
       "    }\n",
       "\n",
       "    .dataframe thead th {\n",
       "        text-align: right;\n",
       "    }\n",
       "</style>\n",
       "<table border=\"1\" class=\"dataframe\">\n",
       "  <thead>\n",
       "    <tr style=\"text-align: right;\">\n",
       "      <th></th>\n",
       "      <th>region</th>\n",
       "      <th>market</th>\n",
       "      <th>account_type</th>\n",
       "      <th>funnel</th>\n",
       "      <th>ds</th>\n",
       "      <th>X</th>\n",
       "      <th>y</th>\n",
       "      <th>month</th>\n",
       "      <th>year</th>\n",
       "      <th>anomaly_2021</th>\n",
       "      <th>...</th>\n",
       "      <th>jul_dec_2019</th>\n",
       "      <th>nov_dec_2018</th>\n",
       "      <th>mar_2018</th>\n",
       "      <th>apr_2019</th>\n",
       "      <th>may_2019</th>\n",
       "      <th>AOV</th>\n",
       "      <th>ROAS</th>\n",
       "      <th>Month of Ds</th>\n",
       "      <th>floor</th>\n",
       "      <th>cap</th>\n",
       "    </tr>\n",
       "  </thead>\n",
       "  <tbody>\n",
       "    <tr>\n",
       "      <th>11930</th>\n",
       "      <td>US</td>\n",
       "      <td>US</td>\n",
       "      <td>Google AdWords</td>\n",
       "      <td>Generic</td>\n",
       "      <td>2024-04-19</td>\n",
       "      <td>444.887900</td>\n",
       "      <td>266.000000</td>\n",
       "      <td>4</td>\n",
       "      <td>2024</td>\n",
       "      <td>0</td>\n",
       "      <td>...</td>\n",
       "      <td>0</td>\n",
       "      <td>0</td>\n",
       "      <td>0</td>\n",
       "      <td>0</td>\n",
       "      <td>0</td>\n",
       "      <td>43.940000</td>\n",
       "      <td>5.990000</td>\n",
       "      <td>April</td>\n",
       "      <td>0</td>\n",
       "      <td>60.648123</td>\n",
       "    </tr>\n",
       "    <tr>\n",
       "      <th>11931</th>\n",
       "      <td>US</td>\n",
       "      <td>US</td>\n",
       "      <td>Google AdWords</td>\n",
       "      <td>Generic</td>\n",
       "      <td>2024-04-20</td>\n",
       "      <td>305.600000</td>\n",
       "      <td>7.000000</td>\n",
       "      <td>4</td>\n",
       "      <td>2024</td>\n",
       "      <td>0</td>\n",
       "      <td>...</td>\n",
       "      <td>0</td>\n",
       "      <td>0</td>\n",
       "      <td>0</td>\n",
       "      <td>0</td>\n",
       "      <td>0</td>\n",
       "      <td>43.940000</td>\n",
       "      <td>5.990000</td>\n",
       "      <td>April</td>\n",
       "      <td>0</td>\n",
       "      <td>41.660082</td>\n",
       "    </tr>\n",
       "    <tr>\n",
       "      <th>11932</th>\n",
       "      <td>US</td>\n",
       "      <td>US</td>\n",
       "      <td>Google AdWords</td>\n",
       "      <td>Generic</td>\n",
       "      <td>2024-04-21</td>\n",
       "      <td>330.450000</td>\n",
       "      <td>22.000000</td>\n",
       "      <td>4</td>\n",
       "      <td>2024</td>\n",
       "      <td>0</td>\n",
       "      <td>...</td>\n",
       "      <td>0</td>\n",
       "      <td>0</td>\n",
       "      <td>0</td>\n",
       "      <td>0</td>\n",
       "      <td>0</td>\n",
       "      <td>43.940000</td>\n",
       "      <td>5.990000</td>\n",
       "      <td>April</td>\n",
       "      <td>0</td>\n",
       "      <td>45.047690</td>\n",
       "    </tr>\n",
       "    <tr>\n",
       "      <th>11933</th>\n",
       "      <td>US</td>\n",
       "      <td>US</td>\n",
       "      <td>Google AdWords</td>\n",
       "      <td>Generic</td>\n",
       "      <td>2024-04-22</td>\n",
       "      <td>543.087100</td>\n",
       "      <td>286.000000</td>\n",
       "      <td>4</td>\n",
       "      <td>2024</td>\n",
       "      <td>0</td>\n",
       "      <td>...</td>\n",
       "      <td>0</td>\n",
       "      <td>0</td>\n",
       "      <td>0</td>\n",
       "      <td>0</td>\n",
       "      <td>0</td>\n",
       "      <td>43.940000</td>\n",
       "      <td>5.990000</td>\n",
       "      <td>April</td>\n",
       "      <td>0</td>\n",
       "      <td>74.034860</td>\n",
       "    </tr>\n",
       "    <tr>\n",
       "      <th>11934</th>\n",
       "      <td>US</td>\n",
       "      <td>US</td>\n",
       "      <td>Google AdWords</td>\n",
       "      <td>Generic</td>\n",
       "      <td>2024-04-23</td>\n",
       "      <td>560.229900</td>\n",
       "      <td>359.000000</td>\n",
       "      <td>4</td>\n",
       "      <td>2024</td>\n",
       "      <td>0</td>\n",
       "      <td>...</td>\n",
       "      <td>0</td>\n",
       "      <td>0</td>\n",
       "      <td>0</td>\n",
       "      <td>0</td>\n",
       "      <td>0</td>\n",
       "      <td>43.940000</td>\n",
       "      <td>5.990000</td>\n",
       "      <td>April</td>\n",
       "      <td>0</td>\n",
       "      <td>76.371805</td>\n",
       "    </tr>\n",
       "  </tbody>\n",
       "</table>\n",
       "<p>5 rows × 22 columns</p>\n",
       "</div>"
      ],
      "text/plain": [
       "      region market    account_type   funnel         ds          X          y  \\\n",
       "11930     US     US  Google AdWords  Generic 2024-04-19 444.887900 266.000000   \n",
       "11931     US     US  Google AdWords  Generic 2024-04-20 305.600000   7.000000   \n",
       "11932     US     US  Google AdWords  Generic 2024-04-21 330.450000  22.000000   \n",
       "11933     US     US  Google AdWords  Generic 2024-04-22 543.087100 286.000000   \n",
       "11934     US     US  Google AdWords  Generic 2024-04-23 560.229900 359.000000   \n",
       "\n",
       "       month  year  anomaly_2021  ...  jul_dec_2019  nov_dec_2018  mar_2018  \\\n",
       "11930      4  2024             0  ...             0             0         0   \n",
       "11931      4  2024             0  ...             0             0         0   \n",
       "11932      4  2024             0  ...             0             0         0   \n",
       "11933      4  2024             0  ...             0             0         0   \n",
       "11934      4  2024             0  ...             0             0         0   \n",
       "\n",
       "       apr_2019  may_2019       AOV     ROAS  Month of Ds  floor       cap  \n",
       "11930         0         0 43.940000 5.990000        April      0 60.648123  \n",
       "11931         0         0 43.940000 5.990000        April      0 41.660082  \n",
       "11932         0         0 43.940000 5.990000        April      0 45.047690  \n",
       "11933         0         0 43.940000 5.990000        April      0 74.034860  \n",
       "11934         0         0 43.940000 5.990000        April      0 76.371805  \n",
       "\n",
       "[5 rows x 22 columns]"
      ]
     },
     "execution_count": 10,
     "metadata": {},
     "output_type": "execute_result"
    }
   ],
   "source": [
    "\n",
    "# create  a variable that indicates the month of the date in words \n",
    "df['Month of Ds'] = df['ds'].dt.month_name()\n",
    "\n",
    "# set floor to the model forecast -> the model should not predict values below this value \n",
    "df['floor'] = 0\n",
    "\n",
    "# set cap to the mnodel forecast -> max values, where the model should not forecast above this values \n",
    "df['cap'] = df.ROAS * df.X / df.AOV\n",
    "df = df.fillna(0)\n",
    "df.loc[round(df.cap,0) == 0, 'cap'] = df.cap.mean()\n",
    "\n",
    "df.tail()"
   ]
  },
  {
   "cell_type": "code",
   "execution_count": null,
   "id": "f07c3c0a-1023-4f7c-a153-8dae69fb04e8",
   "metadata": {},
   "outputs": [],
   "source": [
    "df.to_csv(daily_df_out_path)"
   ]
  },
  {
   "cell_type": "markdown",
   "id": "c182c721-5020-4530-948d-4cf5945d7989",
   "metadata": {},
   "source": [
    "# Analytical File Generator\n",
    "\n",
    "Generate the analytical file. <br>\n",
    "    Data frame that sets the future values of X in base of the values of last years X by day <br>\n",
    "    Adds variables for each split (X value for the split and 0 other wise)"
   ]
  },
  {
   "cell_type": "code",
   "execution_count": null,
   "id": "50eb390d-b9f0-4aac-9fea-1f5a98f8e160",
   "metadata": {},
   "outputs": [],
   "source": [
    "analytical_input = GetBQData(config_dict[\"PROPHETSETTING\"][\"analytical_file_query\"], _input, _output)\n",
    "analytical_input = Combine(df = analytical_input, config_dict = config_dict)\n",
    "\n",
    "AnalyticalFile = AnalyticalFileGenerator(config_dict = config_dict, df = analytical_input)\n",
    "analytical_file_df = AnalyticalFile.generate()\n"
   ]
  },
  {
   "cell_type": "code",
   "execution_count": null,
   "id": "eed14dd3-abaf-48a3-b207-cdb6b15e8aca",
   "metadata": {},
   "outputs": [],
   "source": [
    "analytical_file_df = pd.merge(analytical_file_df, boundary_df, on = ['market','account_type', 'funnel']) # merge with boundary_df to filter data to only have the splits needed\n"
   ]
  },
  {
   "cell_type": "code",
   "execution_count": null,
   "id": "968a24d0-b03a-451b-ae1e-a5524dd9f271",
   "metadata": {},
   "outputs": [],
   "source": [
    "analytical_file_df.to_csv(analytical_file_path) # export the analytical file \n"
   ]
  },
  {
   "cell_type": "markdown",
   "id": "85424c1d-bab9-4bc9-b5af-096ac3e7db96",
   "metadata": {},
   "source": [
    "### Set the pre optimization budget based historic cost"
   ]
  },
  {
   "cell_type": "code",
   "execution_count": 25,
   "id": "399300f0-4c0d-4be0-9390-337a06bd7e12",
   "metadata": {
    "tags": []
   },
   "outputs": [],
   "source": [
    "reference_start_date  = config_dict['PROPHETSETTING']['reference_start_date1']\n",
    "optimization_start_date  = config_dict['PROPHETSETTING']['optimization_start_date']\n",
    "\n",
    "df['month_day'] = df['ds'].dt.strftime('%m-%d')\n",
    "df['pre_optimization'] = df['month_day'].apply(lambda x: reference_start_date.strftime('%m-%d') <= x <= optimization_start_date.strftime('%m-%d') )\n",
    "\n",
    "\n",
    "df['month'] = df.ds.dt.month\n",
    "df['year'] = df.ds.dt.year\n",
    "df['year_month'] = df.ds.dt.to_period('M')\n"
   ]
  },
  {
   "cell_type": "code",
   "execution_count": 30,
   "id": "2847f9e4-42e9-4990-a90c-2d9158e8fd41",
   "metadata": {
    "tags": []
   },
   "outputs": [
    {
     "data": {
      "text/plain": [
       "X   4547192.576447\n",
       "dtype: float64"
      ]
     },
     "execution_count": 30,
     "metadata": {},
     "output_type": "execute_result"
    }
   ],
   "source": [
    "pre_optimization_budget = df[['pre_optimization','year','X']].loc[df.year>=2020].groupby(['year','pre_optimization']).sum().mean()\n",
    "pre_optimization_budget"
   ]
  },
  {
   "cell_type": "markdown",
   "id": "0033fd98-13ce-4e06-9de7-ab4b563583eb",
   "metadata": {},
   "source": [
    "# Historical cost and conversions graphs"
   ]
  },
  {
   "cell_type": "code",
   "execution_count": 52,
   "id": "36eb6044-2832-43bb-80f5-00d70b0ba6d1",
   "metadata": {
    "tags": []
   },
   "outputs": [],
   "source": [
    "\n",
    "plot_df = df.loc[((df.account_type == 'Bing Ads') & (df.funnel == 'Generic'))].groupby(['year_month'])[['year_month','X','y']].sum(numeric_only=True).reset_index()\n"
   ]
  },
  {
   "cell_type": "code",
   "execution_count": 54,
   "id": "83096a1e-adc0-4851-a013-7f7ac79a8e36",
   "metadata": {
    "tags": []
   },
   "outputs": [
    {
     "data": {
      "image/png": "[encoded data removed]",
      "text/plain": [
       "<Figure size 1000x500 with 1 Axes>"
      ]
     },
     "metadata": {},
     "output_type": "display_data"
    }
   ],
   "source": [
    "# Plotting the time series graph\n",
    "plt.figure(figsize=(10, 5))\n",
    "plt.plot(plot_df['year_month'].astype(str), plot_df['X'])  # Convert year_month to string for plotting\n",
    "plt.title('Monthly Cost')\n",
    "plt.xlabel('Year-Month')\n",
    "plt.ylabel('Cost')\n",
    "plt.grid(True)\n",
    "plt.xticks(rotation=90)  # Rotate x-axis labels for better readability\n",
    "plt.tight_layout()  # Adjust layout\n",
    "plt.show()"
   ]
  },
  {
   "cell_type": "code",
   "execution_count": 55,
   "id": "747518d0-b287-4dd6-8c11-12aed6acac7b",
   "metadata": {
    "tags": []
   },
   "outputs": [
    {
     "data": {
      "image/png": "[encoded data removed]",
      "text/plain": [
       "<Figure size 1000x500 with 1 Axes>"
      ]
     },
     "metadata": {},
     "output_type": "display_data"
    }
   ],
   "source": [
    "# Plotting the time series graph\n",
    "plt.figure(figsize=(10, 5))\n",
    "plt.plot(plot_df['year_month'].astype(str), plot_df['y'])  # Convert year_month to string for plotting\n",
    "plt.title('Monthly Conversion Quantity')\n",
    "plt.xlabel('Year-Month')\n",
    "plt.ylabel('Conversion Quantity')\n",
    "plt.grid(True)\n",
    "plt.xticks(rotation=90)  # Rotate x-axis labels for better readability\n",
    "plt.tight_layout()  # Adjust layout\n",
    "plt.show()"
   ]
  }
 ],
 "metadata": {
  "environment": {
   "kernel": "conda-base-py",
   "name": "workbench-notebooks.m120",
   "type": "gcloud",
   "uri": "us-docker.pkg.dev/deeplearning-platform-release/gcr.io/workbench-notebooks:m120"
  },
  "kernelspec": {
   "display_name": "Python 3 (ipykernel) (Local)",
   "language": "python",
   "name": "conda-base-py"
  },
  "language_info": {
   "codemirror_mode": {
    "name": "ipython",
    "version": 3
   },
   "file_extension": ".py",
   "mimetype": "text/x-python",
   "name": "python",
   "nbconvert_exporter": "python",
   "pygments_lexer": "ipython3",
   "version": "3.10.14"
  }
 },
 "nbformat": 4,
 "nbformat_minor": 5
}
