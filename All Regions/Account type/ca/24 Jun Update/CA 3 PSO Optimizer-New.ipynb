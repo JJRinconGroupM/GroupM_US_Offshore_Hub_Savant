{
 "cells": [
  {
   "cell_type": "code",
   "execution_count": 2,
   "id": "b8d3f4f4-d729-4459-8adf-a20675a765d3",
   "metadata": {
    "tags": []
   },
   "outputs": [
    {
     "name": "stdout",
     "output_type": "stream",
     "text": [
      "Requirement already satisfied: pyswarms in /opt/conda/lib/python3.10/site-packages (1.3.0)\n",
      "Requirement already satisfied: scipy in /opt/conda/lib/python3.10/site-packages (from pyswarms) (1.11.4)\n",
      "Requirement already satisfied: numpy in /opt/conda/lib/python3.10/site-packages (from pyswarms) (1.26.4)\n",
      "Requirement already satisfied: matplotlib>=1.3.1 in /opt/conda/lib/python3.10/site-packages (from pyswarms) (3.8.4)\n",
      "Requirement already satisfied: attrs in /opt/conda/lib/python3.10/site-packages (from pyswarms) (23.2.0)\n",
      "Requirement already satisfied: tqdm in /opt/conda/lib/python3.10/site-packages (from pyswarms) (4.66.2)\n",
      "Requirement already satisfied: future in /opt/conda/lib/python3.10/site-packages (from pyswarms) (1.0.0)\n",
      "Requirement already satisfied: pyyaml in /opt/conda/lib/python3.10/site-packages (from pyswarms) (6.0.1)\n",
      "Requirement already satisfied: contourpy>=1.0.1 in /opt/conda/lib/python3.10/site-packages (from matplotlib>=1.3.1->pyswarms) (1.2.1)\n",
      "Requirement already satisfied: cycler>=0.10 in /opt/conda/lib/python3.10/site-packages (from matplotlib>=1.3.1->pyswarms) (0.12.1)\n",
      "Requirement already satisfied: fonttools>=4.22.0 in /opt/conda/lib/python3.10/site-packages (from matplotlib>=1.3.1->pyswarms) (4.51.0)\n",
      "Requirement already satisfied: kiwisolver>=1.3.1 in /opt/conda/lib/python3.10/site-packages (from matplotlib>=1.3.1->pyswarms) (1.4.5)\n",
      "Requirement already satisfied: packaging>=20.0 in /opt/conda/lib/python3.10/site-packages (from matplotlib>=1.3.1->pyswarms) (24.0)\n",
      "Requirement already satisfied: pillow>=8 in /opt/conda/lib/python3.10/site-packages (from matplotlib>=1.3.1->pyswarms) (10.3.0)\n",
      "Requirement already satisfied: pyparsing>=2.3.1 in /opt/conda/lib/python3.10/site-packages (from matplotlib>=1.3.1->pyswarms) (3.1.2)\n",
      "Requirement already satisfied: python-dateutil>=2.7 in /opt/conda/lib/python3.10/site-packages (from matplotlib>=1.3.1->pyswarms) (2.9.0)\n",
      "Requirement already satisfied: six>=1.5 in /opt/conda/lib/python3.10/site-packages (from python-dateutil>=2.7->matplotlib>=1.3.1->pyswarms) (1.16.0)\n"
     ]
    }
   ],
   "source": [
    "!pip install pyswarms"
   ]
  },
  {
   "cell_type": "code",
   "execution_count": 1,
   "id": "e69dc323",
   "metadata": {
    "tags": []
   },
   "outputs": [],
   "source": [
    "import sys\n",
    "sys.path.append(str('/home/jupyter/GroupM_US_Offshore_Hub_Savant/All Regions/'))\n",
    "\n",
    "import pandas as pd\n",
    "from configparser import ConfigParser\n",
    "from repo.MyConfigParser import MyConfigParser\n",
    "from repo.Optimization import SavantPSO\n",
    "import numpy as np"
   ]
  },
  {
   "cell_type": "markdown",
   "id": "395b6ca7-a2cc-4b83-ad2e-3b24d9d4d58e",
   "metadata": {
    "tags": []
   },
   "source": [
    "# Read In"
   ]
  },
  {
   "cell_type": "code",
   "execution_count": 2,
   "id": "95d5c25d",
   "metadata": {},
   "outputs": [],
   "source": [
    "updated_config = ConfigParser()\n",
    "config_in_path = \"/home/jupyter/GroupM_US_Offshore_Hub_Savant/All Regions/ca/1 June Update/config ups ca.ini\"\n",
    "updated_config.read(config_in_path)\n",
    "\n",
    "getdict = MyConfigParser()\n",
    "config_dict=getdict.GetDict(updated_config)\n",
    "region = config_dict['CLIENTINFO']['country']\n",
    "cutoff_month = config_dict['PROPHETSETTING']['cut_off_point']\n",
    "base_start = config_dict['PROPHETSETTING']['reference_start_date1']\n",
    "base_end = config_dict['PROPHETSETTING']['reference_end_date1']\n",
    "periods = config_dict['PROPHETSETTING']['periods']\n",
    "base_periods  = config_dict['PROPHETSETTING']['base_periods']\n",
    "optimization_start_date = config_dict['PROPHETSETTING']['optimization_start_date']\n",
    "optimization_end_date = config_dict['PROPHETSETTING']['optimization_end_date']\n",
    "\n",
    "output_bucket = config_dict[\"FILEPATH\"][\"output_bucket\"]\n",
    "folder_name = config_dict[\"FILEPATH\"][\"folder_name\"]\n",
    "\n",
    "base_path = config_dict[\"FILEPATH\"][\"base_path\"]\n",
    "\n",
    "boundary_df_in_path = base_path + config_dict[\"FILEPATH\"][\"boundary_df_in_path\"]\n",
    "daily_df_out_path = base_path + config_dict[\"FILEPATH\"][\"daily_df_out_path\"]\n",
    "analytical_file_path = base_path + config_dict[\"FILEPATH\"][\"analytical_file_path\"]\n",
    "cuts_df_in_path = base_path + config_dict[\"FILEPATH\"][\"cuts_df_in_path\"]\n",
    "plot_name = base_path + config_dict[\"FILEPATH\"][\"plot_name\"]\n",
    "constraint_file_name = base_path + config_dict[\"FILEPATH\"][\"constraint_file_name\"]\n",
    "breakdown_ls = [config_dict['CLIENTINFO'][i] for i in [f'breakdown{i}' for i in range(1,5)] if config_dict['CLIENTINFO'][i] != None]\n",
    "\n",
    "small_market_str = ''\n",
    "pre_forecast_period_budget = float(config_dict['CLIENTINFO']['pre_forecast_period_budget'])\n",
    "client_budget = float(config_dict['CLIENTINFO']['client_budget'])\n",
    "\n",
    "save_date = config_dict['CLIENTINFO']['save_date']"
   ]
  },
  {
   "cell_type": "code",
   "execution_count": 3,
   "id": "942ab79a-df3c-4fff-afbf-b3c47491dd85",
   "metadata": {},
   "outputs": [
    {
     "ename": "KeyError",
     "evalue": "'market'",
     "output_type": "error",
     "traceback": [
      "\u001b[0;31m---------------------------------------------------------------------------\u001b[0m",
      "\u001b[0;31mKeyError\u001b[0m                                  Traceback (most recent call last)",
      "File \u001b[0;32m/opt/conda/lib/python3.10/site-packages/pandas/core/indexes/base.py:3805\u001b[0m, in \u001b[0;36mIndex.get_loc\u001b[0;34m(self, key)\u001b[0m\n\u001b[1;32m   3804\u001b[0m \u001b[38;5;28;01mtry\u001b[39;00m:\n\u001b[0;32m-> 3805\u001b[0m     \u001b[38;5;28;01mreturn\u001b[39;00m \u001b[38;5;28;43mself\u001b[39;49m\u001b[38;5;241;43m.\u001b[39;49m\u001b[43m_engine\u001b[49m\u001b[38;5;241;43m.\u001b[39;49m\u001b[43mget_loc\u001b[49m\u001b[43m(\u001b[49m\u001b[43mcasted_key\u001b[49m\u001b[43m)\u001b[49m\n\u001b[1;32m   3806\u001b[0m \u001b[38;5;28;01mexcept\u001b[39;00m \u001b[38;5;167;01mKeyError\u001b[39;00m \u001b[38;5;28;01mas\u001b[39;00m err:\n",
      "File \u001b[0;32mindex.pyx:167\u001b[0m, in \u001b[0;36mpandas._libs.index.IndexEngine.get_loc\u001b[0;34m()\u001b[0m\n",
      "File \u001b[0;32mindex.pyx:196\u001b[0m, in \u001b[0;36mpandas._libs.index.IndexEngine.get_loc\u001b[0;34m()\u001b[0m\n",
      "File \u001b[0;32mpandas/_libs/hashtable_class_helper.pxi:7081\u001b[0m, in \u001b[0;36mpandas._libs.hashtable.PyObjectHashTable.get_item\u001b[0;34m()\u001b[0m\n",
      "File \u001b[0;32mpandas/_libs/hashtable_class_helper.pxi:7089\u001b[0m, in \u001b[0;36mpandas._libs.hashtable.PyObjectHashTable.get_item\u001b[0;34m()\u001b[0m\n",
      "\u001b[0;31mKeyError\u001b[0m: 'market'",
      "\nThe above exception was the direct cause of the following exception:\n",
      "\u001b[0;31mKeyError\u001b[0m                                  Traceback (most recent call last)",
      "Cell \u001b[0;32mIn[3], line 5\u001b[0m\n\u001b[1;32m      2\u001b[0m cuts_df \u001b[38;5;241m=\u001b[39m bdDf\n\u001b[1;32m      4\u001b[0m \u001b[38;5;66;03m# create a variable with the name of the pickle file\u001b[39;00m\n\u001b[0;32m----> 5\u001b[0m cuts_df[\u001b[38;5;124m'\u001b[39m\u001b[38;5;124mforecaster_name_list\u001b[39m\u001b[38;5;124m'\u001b[39m] \u001b[38;5;241m=\u001b[39m  \u001b[43mcuts_df\u001b[49m\u001b[43m[\u001b[49m\u001b[38;5;124;43m'\u001b[39;49m\u001b[38;5;124;43mmarket\u001b[39;49m\u001b[38;5;124;43m'\u001b[39;49m\u001b[43m]\u001b[49m \u001b[38;5;241m+\u001b[39m \u001b[38;5;124m'\u001b[39m\u001b[38;5;124m \u001b[39m\u001b[38;5;124m'\u001b[39m \u001b[38;5;241m+\u001b[39m cuts_df[\u001b[38;5;124m'\u001b[39m\u001b[38;5;124maccount_type\u001b[39m\u001b[38;5;124m'\u001b[39m] \u001b[38;5;241m+\u001b[39m \u001b[38;5;124m'\u001b[39m\u001b[38;5;124m \u001b[39m\u001b[38;5;124m'\u001b[39m \u001b[38;5;241m+\u001b[39m cuts_df[\u001b[38;5;124m'\u001b[39m\u001b[38;5;124mfunnel\u001b[39m\u001b[38;5;124m'\u001b[39m] \u001b[38;5;241m+\u001b[39m \u001b[38;5;124m'\u001b[39m\u001b[38;5;124m.pkl\u001b[39m\u001b[38;5;124m'\u001b[39m \n\u001b[1;32m      6\u001b[0m cuts_df[\u001b[38;5;124m'\u001b[39m\u001b[38;5;124mperiods\u001b[39m\u001b[38;5;124m'\u001b[39m] \u001b[38;5;241m=\u001b[39m periods \u001b[38;5;66;03m# create the variable with the number of periods to forecast\u001b[39;00m\n",
      "File \u001b[0;32m/opt/conda/lib/python3.10/site-packages/pandas/core/frame.py:4102\u001b[0m, in \u001b[0;36mDataFrame.__getitem__\u001b[0;34m(self, key)\u001b[0m\n\u001b[1;32m   4100\u001b[0m \u001b[38;5;28;01mif\u001b[39;00m \u001b[38;5;28mself\u001b[39m\u001b[38;5;241m.\u001b[39mcolumns\u001b[38;5;241m.\u001b[39mnlevels \u001b[38;5;241m>\u001b[39m \u001b[38;5;241m1\u001b[39m:\n\u001b[1;32m   4101\u001b[0m     \u001b[38;5;28;01mreturn\u001b[39;00m \u001b[38;5;28mself\u001b[39m\u001b[38;5;241m.\u001b[39m_getitem_multilevel(key)\n\u001b[0;32m-> 4102\u001b[0m indexer \u001b[38;5;241m=\u001b[39m \u001b[38;5;28;43mself\u001b[39;49m\u001b[38;5;241;43m.\u001b[39;49m\u001b[43mcolumns\u001b[49m\u001b[38;5;241;43m.\u001b[39;49m\u001b[43mget_loc\u001b[49m\u001b[43m(\u001b[49m\u001b[43mkey\u001b[49m\u001b[43m)\u001b[49m\n\u001b[1;32m   4103\u001b[0m \u001b[38;5;28;01mif\u001b[39;00m is_integer(indexer):\n\u001b[1;32m   4104\u001b[0m     indexer \u001b[38;5;241m=\u001b[39m [indexer]\n",
      "File \u001b[0;32m/opt/conda/lib/python3.10/site-packages/pandas/core/indexes/base.py:3812\u001b[0m, in \u001b[0;36mIndex.get_loc\u001b[0;34m(self, key)\u001b[0m\n\u001b[1;32m   3807\u001b[0m     \u001b[38;5;28;01mif\u001b[39;00m \u001b[38;5;28misinstance\u001b[39m(casted_key, \u001b[38;5;28mslice\u001b[39m) \u001b[38;5;129;01mor\u001b[39;00m (\n\u001b[1;32m   3808\u001b[0m         \u001b[38;5;28misinstance\u001b[39m(casted_key, abc\u001b[38;5;241m.\u001b[39mIterable)\n\u001b[1;32m   3809\u001b[0m         \u001b[38;5;129;01mand\u001b[39;00m \u001b[38;5;28many\u001b[39m(\u001b[38;5;28misinstance\u001b[39m(x, \u001b[38;5;28mslice\u001b[39m) \u001b[38;5;28;01mfor\u001b[39;00m x \u001b[38;5;129;01min\u001b[39;00m casted_key)\n\u001b[1;32m   3810\u001b[0m     ):\n\u001b[1;32m   3811\u001b[0m         \u001b[38;5;28;01mraise\u001b[39;00m InvalidIndexError(key)\n\u001b[0;32m-> 3812\u001b[0m     \u001b[38;5;28;01mraise\u001b[39;00m \u001b[38;5;167;01mKeyError\u001b[39;00m(key) \u001b[38;5;28;01mfrom\u001b[39;00m \u001b[38;5;21;01merr\u001b[39;00m\n\u001b[1;32m   3813\u001b[0m \u001b[38;5;28;01mexcept\u001b[39;00m \u001b[38;5;167;01mTypeError\u001b[39;00m:\n\u001b[1;32m   3814\u001b[0m     \u001b[38;5;66;03m# If we have a listlike key, _check_indexing_error will raise\u001b[39;00m\n\u001b[1;32m   3815\u001b[0m     \u001b[38;5;66;03m#  InvalidIndexError. Otherwise we fall through and re-raise\u001b[39;00m\n\u001b[1;32m   3816\u001b[0m     \u001b[38;5;66;03m#  the TypeError.\u001b[39;00m\n\u001b[1;32m   3817\u001b[0m     \u001b[38;5;28mself\u001b[39m\u001b[38;5;241m.\u001b[39m_check_indexing_error(key)\n",
      "\u001b[0;31mKeyError\u001b[0m: 'market'"
     ]
    }
   ],
   "source": [
    "\n",
    "bdDf = pd.read_csv(base_path+'New_Cuts_df.csv',index_col=0) # read the new_cuts_df.csv file \n",
    "cuts_df = bdDf\n",
    "\n",
    "# create a variable with the name of the pickle file\n",
    "cuts_df['forecaster_name_list'] =  cuts_df['market'] + ' ' + cuts_df['account_type'] + ' ' + cuts_df['funnel'] + '.pkl' \n",
    "cuts_df['periods'] = periods # create the variable with the number of periods to forecast"
   ]
  },
  {
   "cell_type": "code",
   "execution_count": null,
   "id": "ebefb6ee-7f1e-4821-855c-e5e2a8fc2323",
   "metadata": {},
   "outputs": [],
   "source": []
  },
  {
   "cell_type": "code",
   "execution_count": null,
   "id": "0b6604ab-724e-4321-bab2-775fc5c05f9e",
   "metadata": {},
   "outputs": [],
   "source": [
    "# Get analytical file\n",
    "analytical_file = pd.read_csv(analytical_file_path).drop('Unnamed: 0', axis = 1)\n",
    "analytical_file['ds'] = pd.to_datetime(analytical_file['ds'])\n",
    "analytical_file_check_version = analytical_file.copy()\n",
    "\n",
    "# Get constrain file\n",
    "constraint_file = pd.read_csv(constraint_file_name)\n",
    "constraint_file['init'] = constraint_file[['MinWeight', 'MaxWeight']].mean(axis = 1)"
   ]
  },
  {
   "cell_type": "markdown",
   "id": "758947a4-5b27-4b16-9df7-5d83798cd15d",
   "metadata": {
    "tags": []
   },
   "source": [
    "# Functions"
   ]
  },
  {
   "cell_type": "code",
   "execution_count": 4,
   "id": "1545638e-989d-4aa6-a930-977bb9e24a7d",
   "metadata": {},
   "outputs": [],
   "source": [
    "resultPSO = SavantPSO(cuts_df, analytical_file, constraint_file, config_dict)"
   ]
  },
  {
   "cell_type": "code",
   "execution_count": null,
   "id": "384d9bba-484c-45f1-b5cd-4baf3cdbd78d",
   "metadata": {
    "tags": []
   },
   "outputs": [
    {
     "name": "stderr",
     "output_type": "stream",
     "text": [
      "2024-01-21 21:10:19,275 - pyswarms.single.global_best - INFO - Optimize for 180 iters with {'c1': 0.20255337412386598, 'c2': 0.034812002156869526, 'w': 0.8707709059066462}\n"
     ]
    },
    {
     "name": "stdout",
     "output_type": "stream",
     "text": [
      "/home/jupyter/CA/24 Feb Update/Input Weight History 01.21.2024.csv\n"
     ]
    },
    {
     "name": "stderr",
     "output_type": "stream",
     "text": [
      "pyswarms.single.global_best:   0%|          |0/180"
     ]
    },
    {
     "name": "stdout",
     "output_type": "stream",
     "text": [
      "--------------Optimized spend isn't the same as what UPS planned.---------------\n",
      "Test 1: total X next year:  687361.0 difference between planned and forecast X:  0.0\n",
      "yhat: -250280.0\n",
      "client_budget - analytical_spend_latest_period: 0\n",
      "--------------Optimized spend isn't the same as what UPS planned.---------------\n",
      "Test 1: total X next year:  687361.0 difference between planned and forecast X:  0.0\n",
      "yhat: -250280.0\n",
      "client_budget - analytical_spend_latest_period: 0\n",
      "--------------Optimized spend isn't the same as what UPS planned.---------------\n",
      "Test 1: total X next year:  687361.0 difference between planned and forecast X:  0.0\n",
      "yhat: -250280.0\n",
      "client_budget - analytical_spend_latest_period: 0\n",
      "--------------Optimized spend isn't the same as what UPS planned.---------------\n",
      "Test 1: total X next year:  687361.0 difference between planned and forecast X:  0.0\n"
     ]
    }
   ],
   "source": [
    "# %load_ext autoreload\n",
    "# %autoreload 2\n",
    "itNum = 180\n",
    "# n_particles = 26\n",
    "options = {'c1': 0.20255337412386598,\n",
    " 'c2': 0.034812002156869526,\n",
    " 'w': 0.8707709059066462}\n",
    "# today = '01.15.2024' #datetime.date.today().strftime(\"%m.%d.%Y\")# \n",
    "# fileName = base_path + f'Pos Result {today}.csv' #today\n",
    "# pos_df = pd.read_csv(fileName).drop('Unnamed: 0', axis = 1)\n",
    "# inputWeights =np.tile(pos_df.pos.to_numpy(), [1, 1])\n",
    "result = resultPSO.run_pso(options, itNum = itNum)"
   ]
  },
  {
   "cell_type": "code",
   "execution_count": null,
   "id": "8343217d-0922-442e-b82c-4c811c4a8162",
   "metadata": {},
   "outputs": [],
   "source": [
    "resultPSO.SaveResult(result)"
   ]
  },
  {
   "cell_type": "code",
   "execution_count": null,
   "id": "607584ec-72ab-4770-a8fd-75930ab0dba5",
   "metadata": {},
   "outputs": [],
   "source": []
  }
 ],
 "metadata": {
  "environment": {
   "kernel": "conda-base-py",
   "name": "workbench-notebooks.m120",
   "type": "gcloud",
   "uri": "us-docker.pkg.dev/deeplearning-platform-release/gcr.io/workbench-notebooks:m120"
  },
  "kernelspec": {
   "display_name": "Python 3 (ipykernel) (Local)",
   "language": "python",
   "name": "conda-base-py"
  },
  "language_info": {
   "codemirror_mode": {
    "name": "ipython",
    "version": 3
   },
   "file_extension": ".py",
   "mimetype": "text/x-python",
   "name": "python",
   "nbconvert_exporter": "python",
   "pygments_lexer": "ipython3",
   "version": "3.10.14"
  }
 },
 "nbformat": 4,
 "nbformat_minor": 5
}
