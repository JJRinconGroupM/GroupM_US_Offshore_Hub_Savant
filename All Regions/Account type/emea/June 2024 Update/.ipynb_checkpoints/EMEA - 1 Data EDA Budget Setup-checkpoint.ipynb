{
 "cells": [
  {
   "cell_type": "markdown",
   "id": "7a1a6f91-cbc9-4f29-a7a4-8cdfe0fbf7d3",
   "metadata": {},
   "source": [
    "# Data visualization and budget set up"
   ]
  },
  {
   "cell_type": "markdown",
   "id": "4a71ab0b-ab9b-45bc-b42b-42edd93ad573",
   "metadata": {},
   "source": [
    "import packages"
   ]
  },
  {
   "cell_type": "code",
   "execution_count": 5,
   "id": "ba75a647-c184-4e90-add2-eebf3019ad24",
   "metadata": {
    "tags": []
   },
   "outputs": [],
   "source": [
    "import sys\n",
    "sys.path.append(str('/home/jupyter/GroupM_US_Offshore_Hub_Savant/All Regions/'))\n",
    "\n",
    "from configparser import ConfigParser\n",
    "\n",
    "from repo.MyConfigParser import MyConfigParser\n",
    "\n",
    "from repo.LoadData import DataLoader\n",
    "from repo.BuildModel import GenerateModelFile, CreateModel\n",
    "from repo.Accuracy import AccuracyCalculator, ProphetParameterSearch, PlotAccuracyCharts\n",
    "from repo.FileGenerator import *"
   ]
  },
  {
   "cell_type": "code",
   "execution_count": 6,
   "id": "eb031e7e-974a-4205-8d9a-9b1f8d88c29b",
   "metadata": {
    "tags": []
   },
   "outputs": [],
   "source": [
    "pd.set_option('display.float_format', '{:.6f}'.format)\n"
   ]
  },
  {
   "cell_type": "markdown",
   "id": "88921a31-0ebf-462b-9323-eaba8f63ae05",
   "metadata": {},
   "source": [
    "initial config file to config_dict"
   ]
  },
  {
   "cell_type": "code",
   "execution_count": 7,
   "id": "6d376606-fede-4991-a6d0-f3804b952c96",
   "metadata": {
    "tags": []
   },
   "outputs": [
    {
     "name": "stdout",
     "output_type": "stream",
     "text": [
      "04.30.2024\n"
     ]
    }
   ],
   "source": [
    "updated_config = ConfigParser()\n",
    "config_in_path = \"/home/jupyter/GroupM_US_Offshore_Hub_Savant/All Regions/emea/June 2024 Update/config ups emea.ini\"\n",
    "updated_config.read(config_in_path)\n",
    "\n",
    "getdict = MyConfigParser()\n",
    "config_dict=getdict.GetDict(updated_config)\n",
    "region = config_dict['CLIENTINFO']['country']\n",
    "cutoff_month = config_dict['PROPHETSETTING']['cut_off_point']\n",
    "base_start = config_dict['PROPHETSETTING']['reference_start_date1']\n",
    "base_end = config_dict['PROPHETSETTING']['reference_end_date1']\n",
    "periods = config_dict['PROPHETSETTING']['periods']\n",
    "base_periods  = config_dict['PROPHETSETTING']['base_periods']\n",
    "\n",
    "training_query = config_dict[\"PROPHETSETTING\"][\"training_query\"]\n",
    "_input = config_dict[\"PROPHETSETTING\"][\"input\"]\n",
    "_output = config_dict[\"PROPHETSETTING\"][\"output\"]\n",
    "\n",
    "output_bucket = config_dict[\"FILEPATH\"][\"output_bucket\"]\n",
    "folder_name = config_dict[\"FILEPATH\"][\"folder_name\"]\n",
    "\n",
    "\n",
    "today = datetime.date.today().strftime(\"%m.%d.%Y\") #'03.10.2023' #\n",
    "print(today)\n",
    "base_path = config_dict[\"FILEPATH\"][\"base_path\"]\n",
    "\n",
    "boundary_df_in_path = base_path + config_dict[\"FILEPATH\"][\"boundary_df_in_path\"]\n",
    "daily_df_out_path = base_path + config_dict[\"FILEPATH\"][\"daily_df_out_path\"]\n",
    "analytical_file_path = base_path + config_dict[\"FILEPATH\"][\"analytical_file_path\"]\n",
    "cuts_df_in_path = base_path + config_dict[\"FILEPATH\"][\"cuts_df_in_path\"]\n",
    "plot_name = base_path + config_dict[\"FILEPATH\"][\"plot_name\"]\n",
    "constraint_file_name = base_path + config_dict[\"FILEPATH\"][\"constraint_file_name\"]"
   ]
  },
  {
   "cell_type": "markdown",
   "id": "44f154b8-88db-4f30-bac5-bca4748544bb",
   "metadata": {},
   "source": [
    "Query daily data"
   ]
  },
  {
   "cell_type": "code",
   "execution_count": 22,
   "id": "828f4e26-b7ae-4074-a8b2-ba2abff84ac5",
   "metadata": {
    "tags": []
   },
   "outputs": [
    {
     "name": "stderr",
     "output_type": "stream",
     "text": [
      "/home/jupyter/All Regions/repo/QueryingData.py:34: FutureWarning: DataFrame.fillna with 'method' is deprecated and will raise in a future version. Use obj.ffill() or obj.bfill() instead.\n",
      "  search_df.fillna(method = 'ffill', inplace = True)\n"
     ]
    }
   ],
   "source": [
    "daily_df = GetBQData(training_query, _input, _output)\n",
    "daily_df['month'] = daily_df.ds.dt.month\n",
    "daily_df['year'] = daily_df.ds.dt.year\n"
   ]
  },
  {
   "cell_type": "code",
   "execution_count": 23,
   "id": "c656518a-fc20-48d1-b1ab-a6dbc0df6f1a",
   "metadata": {
    "tags": []
   },
   "outputs": [
    {
     "data": {
      "text/plain": [
       "Timestamp('2024-04-29 00:00:00')"
      ]
     },
     "execution_count": 23,
     "metadata": {},
     "output_type": "execute_result"
    }
   ],
   "source": [
    "daily_df.ds.max()"
   ]
  },
  {
   "cell_type": "code",
   "execution_count": 24,
   "id": "7a2ab02f-8a90-466d-882a-59e047a14e77",
   "metadata": {
    "tags": []
   },
   "outputs": [
    {
     "data": {
      "text/plain": [
       "array(['Belgium', 'Czech', 'France', 'Germany', 'India', 'Ireland',\n",
       "       'Italy', 'Netherlands', 'Poland', 'Saudi Arabia', 'Spain',\n",
       "       'Sweden', 'Turkey', 'UAE', 'UK'], dtype=object)"
      ]
     },
     "execution_count": 24,
     "metadata": {},
     "output_type": "execute_result"
    }
   ],
   "source": [
    "daily_df.market.unique()"
   ]
  },
  {
   "cell_type": "code",
   "execution_count": 25,
   "id": "f76a4a16-a87b-4586-99ed-f7e458c8b55c",
   "metadata": {
    "tags": []
   },
   "outputs": [],
   "source": [
    "pre_optimization_budget = daily_df[['year','X']].loc[(daily_df.month == 5) & (daily_df.year >= 2020)].groupby(['year']).sum().mean()\n"
   ]
  },
  {
   "cell_type": "code",
   "execution_count": 26,
   "id": "2a4f8e56-cb7d-492d-97d1-bc656ee3ba1b",
   "metadata": {
    "tags": []
   },
   "outputs": [
    {
     "data": {
      "text/plain": [
       "X   461955.472929\n",
       "dtype: float64"
      ]
     },
     "execution_count": 26,
     "metadata": {},
     "output_type": "execute_result"
    }
   ],
   "source": [
    "pre_optimization_budget"
   ]
  },
  {
   "cell_type": "code",
   "execution_count": 27,
   "id": "d680e396-0c8b-470a-872a-cbb7f02f31b9",
   "metadata": {
    "tags": []
   },
   "outputs": [],
   "source": [
    "df = daily_df.copy()\n",
    "df = df.groupby(['region', 'market', 'account_type', 'funnel', 'ds']).sum().reset_index()\n"
   ]
  },
  {
   "cell_type": "code",
   "execution_count": 28,
   "id": "0856f2f8-fc73-4f8f-ba80-7fe7fc68996c",
   "metadata": {
    "tags": []
   },
   "outputs": [],
   "source": [
    "# remove rows without date or conversion quantity\n",
    "df = df[~df[['ds', 'y']].isin([np.nan, np.inf, -np.inf]).any(axis=1)]\n"
   ]
  },
  {
   "cell_type": "code",
   "execution_count": 29,
   "id": "9b2a9d49-f449-49ed-b5d3-9e66e695533f",
   "metadata": {
    "tags": []
   },
   "outputs": [
    {
     "data": {
      "text/html": [
       "<div>\n",
       "<style scoped>\n",
       "    .dataframe tbody tr th:only-of-type {\n",
       "        vertical-align: middle;\n",
       "    }\n",
       "\n",
       "    .dataframe tbody tr th {\n",
       "        vertical-align: top;\n",
       "    }\n",
       "\n",
       "    .dataframe thead th {\n",
       "        text-align: right;\n",
       "    }\n",
       "</style>\n",
       "<table border=\"1\" class=\"dataframe\">\n",
       "  <thead>\n",
       "    <tr style=\"text-align: right;\">\n",
       "      <th></th>\n",
       "      <th>region</th>\n",
       "      <th>market</th>\n",
       "      <th>account_type</th>\n",
       "      <th>funnel</th>\n",
       "      <th>ds</th>\n",
       "      <th>X</th>\n",
       "      <th>y</th>\n",
       "      <th>month</th>\n",
       "      <th>year</th>\n",
       "    </tr>\n",
       "  </thead>\n",
       "  <tbody>\n",
       "    <tr>\n",
       "      <th>0</th>\n",
       "      <td>Europe</td>\n",
       "      <td>Belgium</td>\n",
       "      <td>Bing Ads</td>\n",
       "      <td>Brand</td>\n",
       "      <td>2018-10-05</td>\n",
       "      <td>13.910000</td>\n",
       "      <td>1.000000</td>\n",
       "      <td>10</td>\n",
       "      <td>2018</td>\n",
       "    </tr>\n",
       "    <tr>\n",
       "      <th>1</th>\n",
       "      <td>Europe</td>\n",
       "      <td>Belgium</td>\n",
       "      <td>Bing Ads</td>\n",
       "      <td>Brand</td>\n",
       "      <td>2018-10-08</td>\n",
       "      <td>11.760000</td>\n",
       "      <td>1.000000</td>\n",
       "      <td>10</td>\n",
       "      <td>2018</td>\n",
       "    </tr>\n",
       "    <tr>\n",
       "      <th>2</th>\n",
       "      <td>Europe</td>\n",
       "      <td>Belgium</td>\n",
       "      <td>Bing Ads</td>\n",
       "      <td>Brand</td>\n",
       "      <td>2018-10-09</td>\n",
       "      <td>19.040000</td>\n",
       "      <td>3.000000</td>\n",
       "      <td>10</td>\n",
       "      <td>2018</td>\n",
       "    </tr>\n",
       "    <tr>\n",
       "      <th>3</th>\n",
       "      <td>Europe</td>\n",
       "      <td>Belgium</td>\n",
       "      <td>Bing Ads</td>\n",
       "      <td>Brand</td>\n",
       "      <td>2018-10-10</td>\n",
       "      <td>12.260000</td>\n",
       "      <td>1.000000</td>\n",
       "      <td>10</td>\n",
       "      <td>2018</td>\n",
       "    </tr>\n",
       "    <tr>\n",
       "      <th>4</th>\n",
       "      <td>Europe</td>\n",
       "      <td>Belgium</td>\n",
       "      <td>Bing Ads</td>\n",
       "      <td>Brand</td>\n",
       "      <td>2018-10-11</td>\n",
       "      <td>18.020000</td>\n",
       "      <td>2.000000</td>\n",
       "      <td>10</td>\n",
       "      <td>2018</td>\n",
       "    </tr>\n",
       "    <tr>\n",
       "      <th>...</th>\n",
       "      <td>...</td>\n",
       "      <td>...</td>\n",
       "      <td>...</td>\n",
       "      <td>...</td>\n",
       "      <td>...</td>\n",
       "      <td>...</td>\n",
       "      <td>...</td>\n",
       "      <td>...</td>\n",
       "      <td>...</td>\n",
       "    </tr>\n",
       "    <tr>\n",
       "      <th>106700</th>\n",
       "      <td>Europe</td>\n",
       "      <td>UK</td>\n",
       "      <td>Google AdWords</td>\n",
       "      <td>Generic</td>\n",
       "      <td>2024-04-25</td>\n",
       "      <td>47.188900</td>\n",
       "      <td>2.000000</td>\n",
       "      <td>4</td>\n",
       "      <td>2024</td>\n",
       "    </tr>\n",
       "    <tr>\n",
       "      <th>106701</th>\n",
       "      <td>Europe</td>\n",
       "      <td>UK</td>\n",
       "      <td>Google AdWords</td>\n",
       "      <td>Generic</td>\n",
       "      <td>2024-04-26</td>\n",
       "      <td>9.930000</td>\n",
       "      <td>4.000000</td>\n",
       "      <td>4</td>\n",
       "      <td>2024</td>\n",
       "    </tr>\n",
       "    <tr>\n",
       "      <th>106702</th>\n",
       "      <td>Europe</td>\n",
       "      <td>UK</td>\n",
       "      <td>Google AdWords</td>\n",
       "      <td>Generic</td>\n",
       "      <td>2024-04-27</td>\n",
       "      <td>0.000000</td>\n",
       "      <td>0.000000</td>\n",
       "      <td>4</td>\n",
       "      <td>2024</td>\n",
       "    </tr>\n",
       "    <tr>\n",
       "      <th>106703</th>\n",
       "      <td>Europe</td>\n",
       "      <td>UK</td>\n",
       "      <td>Google AdWords</td>\n",
       "      <td>Generic</td>\n",
       "      <td>2024-04-28</td>\n",
       "      <td>0.000000</td>\n",
       "      <td>3.000000</td>\n",
       "      <td>4</td>\n",
       "      <td>2024</td>\n",
       "    </tr>\n",
       "    <tr>\n",
       "      <th>106704</th>\n",
       "      <td>Europe</td>\n",
       "      <td>UK</td>\n",
       "      <td>Google AdWords</td>\n",
       "      <td>Generic</td>\n",
       "      <td>2024-04-29</td>\n",
       "      <td>14.090000</td>\n",
       "      <td>5.000000</td>\n",
       "      <td>4</td>\n",
       "      <td>2024</td>\n",
       "    </tr>\n",
       "  </tbody>\n",
       "</table>\n",
       "<p>106705 rows × 9 columns</p>\n",
       "</div>"
      ],
      "text/plain": [
       "        region   market    account_type   funnel         ds         X  \\\n",
       "0       Europe  Belgium        Bing Ads    Brand 2018-10-05 13.910000   \n",
       "1       Europe  Belgium        Bing Ads    Brand 2018-10-08 11.760000   \n",
       "2       Europe  Belgium        Bing Ads    Brand 2018-10-09 19.040000   \n",
       "3       Europe  Belgium        Bing Ads    Brand 2018-10-10 12.260000   \n",
       "4       Europe  Belgium        Bing Ads    Brand 2018-10-11 18.020000   \n",
       "...        ...      ...             ...      ...        ...       ...   \n",
       "106700  Europe       UK  Google AdWords  Generic 2024-04-25 47.188900   \n",
       "106701  Europe       UK  Google AdWords  Generic 2024-04-26  9.930000   \n",
       "106702  Europe       UK  Google AdWords  Generic 2024-04-27  0.000000   \n",
       "106703  Europe       UK  Google AdWords  Generic 2024-04-28  0.000000   \n",
       "106704  Europe       UK  Google AdWords  Generic 2024-04-29 14.090000   \n",
       "\n",
       "              y  month  year  \n",
       "0      1.000000     10  2018  \n",
       "1      1.000000     10  2018  \n",
       "2      3.000000     10  2018  \n",
       "3      1.000000     10  2018  \n",
       "4      2.000000     10  2018  \n",
       "...         ...    ...   ...  \n",
       "106700 2.000000      4  2024  \n",
       "106701 4.000000      4  2024  \n",
       "106702 0.000000      4  2024  \n",
       "106703 3.000000      4  2024  \n",
       "106704 5.000000      4  2024  \n",
       "\n",
       "[106705 rows x 9 columns]"
      ]
     },
     "execution_count": 29,
     "metadata": {},
     "output_type": "execute_result"
    }
   ],
   "source": [
    "df"
   ]
  },
  {
   "cell_type": "code",
   "execution_count": null,
   "id": "776c2f2c-f83a-4764-abf3-a64a2cd13c29",
   "metadata": {},
   "outputs": [],
   "source": []
  }
 ],
 "metadata": {
  "environment": {
   "kernel": "conda-root-py",
   "name": "workbench-notebooks.m120",
   "type": "gcloud",
   "uri": "us-docker.pkg.dev/deeplearning-platform-release/gcr.io/workbench-notebooks:m120"
  },
  "kernelspec": {
   "display_name": "Python 3 (ipykernel) (Local)",
   "language": "python",
   "name": "conda-root-py"
  },
  "language_info": {
   "codemirror_mode": {
    "name": "ipython",
    "version": 3
   },
   "file_extension": ".py",
   "mimetype": "text/x-python",
   "name": "python",
   "nbconvert_exporter": "python",
   "pygments_lexer": "ipython3",
   "version": "3.10.14"
  }
 },
 "nbformat": 4,
 "nbformat_minor": 5
}
