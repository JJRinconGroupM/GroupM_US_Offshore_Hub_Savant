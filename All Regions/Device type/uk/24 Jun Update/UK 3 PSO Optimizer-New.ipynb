{
 "cells": [
  {
   "cell_type": "code",
   "execution_count": 1,
   "id": "e69dc323",
   "metadata": {
    "tags": []
   },
   "outputs": [],
   "source": [
    "import sys\n",
    "sys.path.append(str('/home/jupyter/'))\n",
    "\n",
    "import pandas as pd\n",
    "from configparser import ConfigParser\n",
    "from repo.MyConfigParser import MyConfigParser\n",
    "from repo.Optimization import SavantPSO\n",
    "import numpy as np"
   ]
  },
  {
   "cell_type": "markdown",
   "id": "395b6ca7-a2cc-4b83-ad2e-3b24d9d4d58e",
   "metadata": {
    "tags": []
   },
   "source": [
    "# Read In"
   ]
  },
  {
   "cell_type": "code",
   "execution_count": 2,
   "id": "95d5c25d",
   "metadata": {},
   "outputs": [],
   "source": [
    "updated_config = ConfigParser()\n",
    "config_in_path = \"/home/jupyter/CA/24 Feb Update/config ups ca.ini\"\n",
    "updated_config.read(config_in_path)\n",
    "\n",
    "getdict = MyConfigParser()\n",
    "config_dict=getdict.GetDict(updated_config)\n",
    "region = config_dict['CLIENTINFO']['country']\n",
    "cutoff_month = config_dict['PROPHETSETTING']['cut_off_point']\n",
    "base_start = config_dict['PROPHETSETTING']['reference_start_date1']\n",
    "base_end = config_dict['PROPHETSETTING']['reference_end_date1']\n",
    "periods = config_dict['PROPHETSETTING']['periods']\n",
    "base_periods  = config_dict['PROPHETSETTING']['base_periods']\n",
    "\n",
    "output_bucket = config_dict[\"FILEPATH\"][\"output_bucket\"]\n",
    "folder_name = config_dict[\"FILEPATH\"][\"folder_name\"]\n",
    "\n",
    "base_path = config_dict[\"FILEPATH\"][\"base_path\"]\n",
    "\n",
    "boundary_df_in_path = base_path + config_dict[\"FILEPATH\"][\"boundary_df_in_path\"]\n",
    "daily_df_out_path = base_path + config_dict[\"FILEPATH\"][\"daily_df_out_path\"]\n",
    "analytical_file_path = base_path + config_dict[\"FILEPATH\"][\"analytical_file_path\"]\n",
    "cuts_df_in_path = base_path + config_dict[\"FILEPATH\"][\"cuts_df_in_path\"]\n",
    "plot_name = base_path + config_dict[\"FILEPATH\"][\"plot_name\"]\n",
    "constraint_file_name = base_path + config_dict[\"FILEPATH\"][\"constraint_file_name\"]\n",
    "breakdown_ls = [config_dict['CLIENTINFO'][i] for i in [f'breakdown{i}' for i in range(1,5)] if config_dict['CLIENTINFO'][i] != None]\n",
    "\n",
    "small_market_str = ''\n",
    "pre_forecast_period_budget = float(config_dict['CLIENTINFO']['pre_forecast_period_budget'])\n",
    "client_budget = float(config_dict['CLIENTINFO']['client_budget'])\n",
    "\n",
    "save_date = config_dict['CLIENTINFO']['save_date']"
   ]
  },
  {
   "cell_type": "code",
   "execution_count": 3,
   "id": "942ab79a-df3c-4fff-afbf-b3c47491dd85",
   "metadata": {},
   "outputs": [],
   "source": [
    "# Get forecasters\n",
    "bdDf = pd.read_csv(cuts_df_in_path)#.drop('Unnamed: 0', axis = 1)\n",
    "cuts_df = bdDf.reset_index(drop = True)\n",
    "cuts_df['forecaster_name_list'] =  cuts_df['market'] + ' ' + cuts_df['account_type'] + ' ' + cuts_df['funnel'] + '.pkl' #' 05.19.2021 Final.pkl'\n",
    "cuts_df['periods'] = periods\n",
    "# get model list\n",
    "forecasters_array = cuts_df.forecaster_name_list\n",
    "\n",
    "# Get analytical file\n",
    "analytical_file = pd.read_csv(analytical_file_path).drop('Unnamed: 0', axis = 1)\n",
    "analytical_file['ds'] = pd.to_datetime(analytical_file['ds'])\n",
    "analytical_file_check_version = analytical_file.copy()\n",
    "\n",
    "# Get constrain file\n",
    "constraint_file = pd.read_csv(constraint_file_name)\n",
    "constraint_file['init'] = constraint_file[['MinWeight', 'MaxWeight']].mean(axis = 1)"
   ]
  },
  {
   "cell_type": "markdown",
   "id": "758947a4-5b27-4b16-9df7-5d83798cd15d",
   "metadata": {
    "tags": []
   },
   "source": [
    "# Functions"
   ]
  },
  {
   "cell_type": "code",
   "execution_count": 4,
   "id": "1545638e-989d-4aa6-a930-977bb9e24a7d",
   "metadata": {},
   "outputs": [],
   "source": [
    "resultPSO = SavantPSO(cuts_df, analytical_file, constraint_file, config_dict)"
   ]
  },
  {
   "cell_type": "code",
   "execution_count": null,
   "id": "384d9bba-484c-45f1-b5cd-4baf3cdbd78d",
   "metadata": {
    "tags": []
   },
   "outputs": [
    {
     "name": "stderr",
     "output_type": "stream",
     "text": [
      "2024-01-21 21:10:19,275 - pyswarms.single.global_best - INFO - Optimize for 180 iters with {'c1': 0.20255337412386598, 'c2': 0.034812002156869526, 'w': 0.8707709059066462}\n"
     ]
    },
    {
     "name": "stdout",
     "output_type": "stream",
     "text": [
      "/home/jupyter/CA/24 Feb Update/Input Weight History 01.21.2024.csv\n"
     ]
    },
    {
     "name": "stderr",
     "output_type": "stream",
     "text": [
      "pyswarms.single.global_best:   0%|          |0/180"
     ]
    },
    {
     "name": "stdout",
     "output_type": "stream",
     "text": [
      "--------------Optimized spend isn't the same as what UPS planned.---------------\n",
      "Test 1: total X next year:  687361.0 difference between planned and forecast X:  0.0\n",
      "yhat: -250280.0\n",
      "client_budget - analytical_spend_latest_period: 0\n",
      "--------------Optimized spend isn't the same as what UPS planned.---------------\n",
      "Test 1: total X next year:  687361.0 difference between planned and forecast X:  0.0\n",
      "yhat: -250280.0\n",
      "client_budget - analytical_spend_latest_period: 0\n",
      "--------------Optimized spend isn't the same as what UPS planned.---------------\n",
      "Test 1: total X next year:  687361.0 difference between planned and forecast X:  0.0\n",
      "yhat: -250280.0\n",
      "client_budget - analytical_spend_latest_period: 0\n",
      "--------------Optimized spend isn't the same as what UPS planned.---------------\n",
      "Test 1: total X next year:  687361.0 difference between planned and forecast X:  0.0\n"
     ]
    }
   ],
   "source": [
    "# %load_ext autoreload\n",
    "# %autoreload 2\n",
    "itNum = 180\n",
    "# n_particles = 26\n",
    "options = {'c1': 0.20255337412386598,\n",
    " 'c2': 0.034812002156869526,\n",
    " 'w': 0.8707709059066462}\n",
    "# today = '01.15.2024' #datetime.date.today().strftime(\"%m.%d.%Y\")# \n",
    "# fileName = base_path + f'Pos Result {today}.csv' #today\n",
    "# pos_df = pd.read_csv(fileName).drop('Unnamed: 0', axis = 1)\n",
    "# inputWeights =np.tile(pos_df.pos.to_numpy(), [1, 1])\n",
    "result = resultPSO.run_pso(options, itNum = itNum)"
   ]
  },
  {
   "cell_type": "code",
   "execution_count": null,
   "id": "8343217d-0922-442e-b82c-4c811c4a8162",
   "metadata": {},
   "outputs": [],
   "source": [
    "resultPSO.SaveResult(result)"
   ]
  },
  {
   "cell_type": "code",
   "execution_count": null,
   "id": "607584ec-72ab-4770-a8fd-75930ab0dba5",
   "metadata": {},
   "outputs": [],
   "source": []
  }
 ],
 "metadata": {
  "environment": {
   "kernel": "python3",
   "name": "workbench-notebooks.m120",
   "type": "gcloud",
   "uri": "us-docker.pkg.dev/deeplearning-platform-release/gcr.io/workbench-notebooks:m120"
  },
  "kernelspec": {
   "display_name": "Python 3",
   "language": "python",
   "name": "python3"
  },
  "language_info": {
   "codemirror_mode": {
    "name": "ipython",
    "version": 3
   },
   "file_extension": ".py",
   "mimetype": "text/x-python",
   "name": "python",
   "nbconvert_exporter": "python",
   "pygments_lexer": "ipython3",
   "version": "3.10.11"
  }
 },
 "nbformat": 4,
 "nbformat_minor": 5
}
