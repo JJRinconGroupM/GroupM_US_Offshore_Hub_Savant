{
 "cells": [
  {
   "cell_type": "code",
   "execution_count": 1,
   "id": "2efad419-eabe-447c-9b46-9efd96619cf3",
   "metadata": {},
   "outputs": [],
   "source": [
    "#pip install prophet\n",
    "#pip install pathos"
   ]
  },
  {
   "cell_type": "code",
   "execution_count": 57,
   "id": "126712d6",
   "metadata": {
    "tags": []
   },
   "outputs": [],
   "source": [
    "import sys\n",
    "sys.path.append(str('/home/jupyter/SearchForecasting/'))\n",
    "from configparser import ConfigParser\n",
    "\n",
    "from repo.MyConfigParser import MyConfigParser\n",
    "\n",
    "from repo.LoadData import DataLoader\n",
    "from repo.BuildModel import GenerateModelFile, CreateModel\n",
    "from repo.Accuracy import AccuracyCalculator, ProphetParameterSearch, PlotAccuracyCharts\n",
    "from repo.FileGenerator import *"
   ]
  },
  {
   "cell_type": "code",
   "execution_count": 58,
   "id": "5729a2a1",
   "metadata": {
    "tags": []
   },
   "outputs": [
    {
     "name": "stdout",
     "output_type": "stream",
     "text": [
      "05.20.2024\n"
     ]
    }
   ],
   "source": [
    "updated_config = ConfigParser()\n",
    "config_in_path = \"/home/jupyter/SearchForecasting/UK/June 2024 Update/config ups uk.ini\"\n",
    "updated_config.read(config_in_path)\n",
    "\n",
    "getdict = MyConfigParser()\n",
    "config_dict=getdict.GetDict(updated_config)\n",
    "\n",
    "region = config_dict['CLIENTINFO']['country']\n",
    "cutoff_month = config_dict['PROPHETSETTING']['cut_off_point']\n",
    "base_start = config_dict['PROPHETSETTING']['reference_start_date1']\n",
    "base_end = config_dict['PROPHETSETTING']['reference_end_date1']\n",
    "periods = config_dict['PROPHETSETTING']['periods']\n",
    "base_periods  = config_dict['PROPHETSETTING']['base_periods']\n",
    "\n",
    "training_query = config_dict[\"PROPHETSETTING\"][\"training_query\"]\n",
    "_input = config_dict[\"PROPHETSETTING\"][\"input\"]\n",
    "_output = config_dict[\"PROPHETSETTING\"][\"output\"]\n",
    "\n",
    "output_bucket = config_dict[\"FILEPATH\"][\"output_bucket\"]\n",
    "folder_name = config_dict[\"FILEPATH\"][\"folder_name\"]\n",
    "\n",
    "\n",
    "today = datetime.date.today().strftime(\"%m.%d.%Y\") #'03.10.2023' #\n",
    "print(today)\n",
    "base_path = config_dict[\"FILEPATH\"][\"base_path\"]\n",
    "\n",
    "boundary_df_in_path = base_path + config_dict[\"FILEPATH\"][\"boundary_df_in_path\"]\n",
    "daily_df_out_path = base_path + config_dict[\"FILEPATH\"][\"daily_df_out_path\"]\n",
    "analytical_file_path = base_path + config_dict[\"FILEPATH\"][\"analytical_file_path\"]\n",
    "cuts_df_in_path = base_path + config_dict[\"FILEPATH\"][\"cuts_df_in_path\"]\n",
    "plot_name = base_path + config_dict[\"FILEPATH\"][\"plot_name\"]\n",
    "constraint_file_name = base_path + config_dict[\"FILEPATH\"][\"constraint_file_name\"]"
   ]
  },
  {
   "cell_type": "code",
   "execution_count": 4,
   "id": "35bde526-14b3-406c-b87f-297eca94c8db",
   "metadata": {},
   "outputs": [],
   "source": [
    "# today = datetime.date.today().strftime(\"%m.%d.%Y\") #'03.10.2023' #\n",
    "# print(today)\n",
    "# base_path = '/home/jupyter/CA/24 Feb Update/'\n",
    "\n",
    "# config_in_path = base_path + \"config ups ca reg.ini\"\n",
    "\n",
    "# boundary_df_in_path = base_path + 'Floor Cap Setting 2023 Global.csv'\n",
    "# daily_df_out_path = base_path + f'Daily Data {today}.csv'\n",
    "# analytical_file_path = base_path + 'Analytical_File_NY'+ '.csv'\n",
    "# cuts_df_in_path = base_path + region + ' Breakdown (1).csv'\n",
    "# # constraint_file_out_path = base_path + 'Constraint File Modified Nov.csv'\n",
    "# plot_name = base_path + \"Accuracy_By_Month.jpg\"\n",
    "# constraint_file_name = \"Constraint File.csv\""
   ]
  },
  {
   "cell_type": "code",
   "execution_count": 59,
   "id": "2f8e8db8",
   "metadata": {
    "tags": []
   },
   "outputs": [
    {
     "name": "stderr",
     "output_type": "stream",
     "text": [
      "/home/jupyter/SearchForecasting/repo/QueryingData.py:34: FutureWarning: DataFrame.fillna with 'method' is deprecated and will raise in a future version. Use obj.ffill() or obj.bfill() instead.\n",
      "  search_df.fillna(method = 'ffill', inplace = True)\n"
     ]
    },
    {
     "data": {
      "text/html": [
       "<div>\n",
       "<style scoped>\n",
       "    .dataframe tbody tr th:only-of-type {\n",
       "        vertical-align: middle;\n",
       "    }\n",
       "\n",
       "    .dataframe tbody tr th {\n",
       "        vertical-align: top;\n",
       "    }\n",
       "\n",
       "    .dataframe thead th {\n",
       "        text-align: right;\n",
       "    }\n",
       "</style>\n",
       "<table border=\"1\" class=\"dataframe\">\n",
       "  <thead>\n",
       "    <tr style=\"text-align: right;\">\n",
       "      <th></th>\n",
       "      <th>region</th>\n",
       "      <th>market</th>\n",
       "      <th>funnel</th>\n",
       "      <th>ds</th>\n",
       "      <th>account_type</th>\n",
       "      <th>X</th>\n",
       "      <th>y</th>\n",
       "      <th>anomaly_2021</th>\n",
       "      <th>covid_year_dummy</th>\n",
       "      <th>weekday_or_weekend</th>\n",
       "      <th>Month of Ds</th>\n",
       "    </tr>\n",
       "  </thead>\n",
       "  <tbody>\n",
       "    <tr>\n",
       "      <th>810</th>\n",
       "      <td>Europe</td>\n",
       "      <td>-</td>\n",
       "      <td>-</td>\n",
       "      <td>2024-04-20</td>\n",
       "      <td>DesktopMobile &amp; Tablet</td>\n",
       "      <td>243.15</td>\n",
       "      <td>75.0</td>\n",
       "      <td>0</td>\n",
       "      <td>0</td>\n",
       "      <td>1</td>\n",
       "      <td>April</td>\n",
       "    </tr>\n",
       "    <tr>\n",
       "      <th>811</th>\n",
       "      <td>Europe</td>\n",
       "      <td>-</td>\n",
       "      <td>-</td>\n",
       "      <td>2024-04-21</td>\n",
       "      <td>DesktopMobile &amp; Tablet</td>\n",
       "      <td>243.15</td>\n",
       "      <td>126.0</td>\n",
       "      <td>0</td>\n",
       "      <td>0</td>\n",
       "      <td>1</td>\n",
       "      <td>April</td>\n",
       "    </tr>\n",
       "    <tr>\n",
       "      <th>812</th>\n",
       "      <td>Europe</td>\n",
       "      <td>-</td>\n",
       "      <td>-</td>\n",
       "      <td>2024-04-22</td>\n",
       "      <td>DesktopMobile &amp; Tablet</td>\n",
       "      <td>243.15</td>\n",
       "      <td>1170.0</td>\n",
       "      <td>0</td>\n",
       "      <td>0</td>\n",
       "      <td>0</td>\n",
       "      <td>April</td>\n",
       "    </tr>\n",
       "    <tr>\n",
       "      <th>813</th>\n",
       "      <td>Europe</td>\n",
       "      <td>-</td>\n",
       "      <td>-</td>\n",
       "      <td>2024-04-23</td>\n",
       "      <td>DesktopMobile &amp; Tablet</td>\n",
       "      <td>243.15</td>\n",
       "      <td>1074.0</td>\n",
       "      <td>0</td>\n",
       "      <td>0</td>\n",
       "      <td>0</td>\n",
       "      <td>April</td>\n",
       "    </tr>\n",
       "    <tr>\n",
       "      <th>814</th>\n",
       "      <td>Europe</td>\n",
       "      <td>-</td>\n",
       "      <td>-</td>\n",
       "      <td>2024-04-24</td>\n",
       "      <td>DesktopMobile &amp; Tablet</td>\n",
       "      <td>243.15</td>\n",
       "      <td>1148.0</td>\n",
       "      <td>0</td>\n",
       "      <td>0</td>\n",
       "      <td>0</td>\n",
       "      <td>April</td>\n",
       "    </tr>\n",
       "  </tbody>\n",
       "</table>\n",
       "</div>"
      ],
      "text/plain": [
       "     region market funnel         ds            account_type       X       y  \\\n",
       "810  Europe      -      - 2024-04-20  DesktopMobile & Tablet  243.15    75.0   \n",
       "811  Europe      -      - 2024-04-21  DesktopMobile & Tablet  243.15   126.0   \n",
       "812  Europe      -      - 2024-04-22  DesktopMobile & Tablet  243.15  1170.0   \n",
       "813  Europe      -      - 2024-04-23  DesktopMobile & Tablet  243.15  1074.0   \n",
       "814  Europe      -      - 2024-04-24  DesktopMobile & Tablet  243.15  1148.0   \n",
       "\n",
       "     anomaly_2021  covid_year_dummy  weekday_or_weekend Month of Ds  \n",
       "810             0                 0                   1       April  \n",
       "811             0                 0                   1       April  \n",
       "812             0                 0                   0       April  \n",
       "813             0                 0                   0       April  \n",
       "814             0                 0                   0       April  "
      ]
     },
     "execution_count": 59,
     "metadata": {},
     "output_type": "execute_result"
    }
   ],
   "source": [
    "daily_df = GetBQData(training_query, _input, _output)\n",
    "\n",
    "df = daily_df.copy()\n",
    "df['market'] = '-'\n",
    "df = df.groupby(['region', 'market', 'funnel', 'ds']).sum().reset_index()\n",
    "\n",
    "# log Transformation\n",
    "# df['cost'] = np.log(df['cost'])\n",
    "# df.loc[(df['cost'] < 0) | (np.isinf(df['cost'])), 'cost'] = 0\n",
    "\n",
    "df.ds = pd.to_datetime(df.ds)\n",
    "df = df[~df[['ds', 'y']].isin([np.nan, np.inf, -np.inf]).any(axis=1)]\n",
    "df = df[df.ds < cutoff_month]\n",
    "df['funnel'] = df['funnel'].str.replace('Competitor|Generic', 'Non_Brand', regex=True)\n",
    "\n",
    "# remove inactive days\n",
    "df.drop(df[((df['ds'] >= '2021-08-01')&(df['ds'] <= '2021-10-31')) & ((df.account_type == 'Bing Ads') & (df.funnel == 'Brand'))].index,\n",
    "       axis = 0, inplace = True)\n",
    "df.drop(df[((df['ds'] >= '2019-03-01')&(df['ds'] <= '2019-08-31')) & ((df.account_type == 'Bing Ads') & (df.funnel == 'Brand'))].index,\n",
    "       axis = 0, inplace = True)\n",
    "\n",
    "df.drop(df[((df['ds'] >= '2021-07-01')&(df['ds'] <= '2021-10-31')) & ((df.account_type == 'Bing Ads') & (df.funnel == 'Generic'))].index,\n",
    "       axis = 0, inplace = True)\n",
    "\n",
    "# add regressors\n",
    "df['anomaly_2021'] = df['ds'].apply(lambda x: 1 if (x >= datetime.datetime(2021,8,1))\\\n",
    "                                     & (x <= datetime.datetime(2021,10,31)) else 0)\n",
    "df['covid_year_dummy'] = 0\n",
    "df.loc[(df['ds'] >= '2020-01-01') & (df['ds'] <= '2020-12-31'), 'covid_year_dummy'] = 1\n",
    "\n",
    "df['weekday_or_weekend'] = df['ds'].apply(lambda x: 1 if x.dayofweek > 4 else 0)\n",
    "\n",
    "# set cap and floor for log regression\n",
    "df['Month of Ds'] = df['ds'].dt.month_name()\n",
    "\n",
    "df.tail()"
   ]
  },
  {
   "cell_type": "code",
   "execution_count": 62,
   "id": "804e6f68-7805-4fa1-84a2-2d1bc9526e73",
   "metadata": {
    "tags": []
   },
   "outputs": [
    {
     "data": {
      "text/plain": [
       "<DatetimeArray>\n",
       "['2022-01-01 00:00:00', '2022-01-02 00:00:00', '2022-01-03 00:00:00',\n",
       " '2022-01-04 00:00:00', '2022-01-05 00:00:00', '2022-01-06 00:00:00',\n",
       " '2022-01-07 00:00:00', '2022-01-08 00:00:00', '2022-01-09 00:00:00',\n",
       " '2022-01-10 00:00:00',\n",
       " ...\n",
       " '2024-04-15 00:00:00', '2024-04-16 00:00:00', '2024-04-17 00:00:00',\n",
       " '2024-04-18 00:00:00', '2024-04-19 00:00:00', '2024-04-20 00:00:00',\n",
       " '2024-04-21 00:00:00', '2024-04-22 00:00:00', '2024-04-23 00:00:00',\n",
       " '2024-04-24 00:00:00']\n",
       "Length: 815, dtype: datetime64[ns]"
      ]
     },
     "execution_count": 62,
     "metadata": {},
     "output_type": "execute_result"
    }
   ],
   "source": [
    "df['ds'].sort_values().unique()"
   ]
  },
  {
   "cell_type": "markdown",
   "id": "2709f904-fef3-4b17-a6ca-308a1fb7bc92",
   "metadata": {},
   "source": [
    "# Model constraint file \n",
    "    Upload model constraint file, which has for each split (account_type & funnel) the AOV and ROAS"
   ]
  },
  {
   "cell_type": "code",
   "execution_count": 53,
   "id": "6d432602-7332-413e-950b-54884fd173c4",
   "metadata": {
    "tags": []
   },
   "outputs": [],
   "source": [
    "boundary_df = pd.read_csv(boundary_df_in_path)\n",
    "boundary_df.rename(columns = {'Market': 'market','Account Type': 'account_type', 'Funnel':'funnel'}, inplace = True)\n",
    "boundary_df\n",
    "\n",
    "# filter the data in df to just the one that is going to be used (only the ones with splits from the boundary_df) <br>\n",
    "# this is set with an inner merge of boundary_df and df. \n",
    "\n",
    "df = pd.merge(df, boundary_df, on = ['market', 'funnel'])\\\n",
    "                                    .rename(columns={'account_type_x':'account_type'})\\\n",
    "                                    .drop('account_type_y', axis=1)\n",
    "df.to_csv('df.csv', index=False)\n",
    "\n",
    "\n",
    "# add additional variables needed but that are not regressors in the prophet model \n",
    "\n",
    "# set floor to the model forecast -> the model should not predict values below this value \n",
    "df['floor'] = 0\n",
    "\n",
    "# set cap to the mnodel forecast -> max values, where the model should not forecast above this values \n",
    "df['cap'] = df.ROAS * df.X / df.AOV\n",
    "df.loc[df.cap == 0, 'cap'] = df.cap.mean() # if cap is 0 set it to the mean cap \n",
    "\n",
    "df\n",
    "\n",
    "# Add Covid Data\n",
    "\n",
    "covid_df = GetCovidData('United Kingdom')\n",
    "# covid_df.loc[covid_df['market']=='Canada','market'] = 'Canada'\n",
    "final_df = df.merge(covid_df, how = 'left', on = ['ds', 'market'])\n",
    "final_df = final_df.fillna(0)\n",
    "\n",
    "final_df.to_csv(daily_df_out_path)\n",
    "final_df.to_csv('dfcovidconfirmed.csv', index=False)\n"
   ]
  },
  {
   "cell_type": "code",
   "execution_count": 6,
   "id": "a2f82e97",
   "metadata": {
    "collapsed": true,
    "jupyter": {
     "outputs_hidden": true
    },
    "tags": []
   },
   "outputs": [
    {
     "data": {
      "text/html": [
       "<div>\n",
       "<style scoped>\n",
       "    .dataframe tbody tr th:only-of-type {\n",
       "        vertical-align: middle;\n",
       "    }\n",
       "\n",
       "    .dataframe tbody tr th {\n",
       "        vertical-align: top;\n",
       "    }\n",
       "\n",
       "    .dataframe thead th {\n",
       "        text-align: right;\n",
       "    }\n",
       "</style>\n",
       "<table border=\"1\" class=\"dataframe\">\n",
       "  <thead>\n",
       "    <tr style=\"text-align: right;\">\n",
       "      <th></th>\n",
       "      <th>ds</th>\n",
       "      <th>region</th>\n",
       "      <th>market</th>\n",
       "      <th>account_type</th>\n",
       "      <th>funnel</th>\n",
       "      <th>Identifier</th>\n",
       "      <th>X</th>\n",
       "      <th>y</th>\n",
       "      <th>anomaly_2021</th>\n",
       "      <th>covid_year_dummy</th>\n",
       "      <th>weekday_or_weekend</th>\n",
       "      <th>Month of Ds</th>\n",
       "      <th>new_funnel</th>\n",
       "      <th>generic_cost</th>\n",
       "      <th>competitor_cost</th>\n",
       "      <th>generic_cost_split</th>\n",
       "      <th>competitor_cost_split</th>\n",
       "      <th>Weekend</th>\n",
       "    </tr>\n",
       "  </thead>\n",
       "  <tbody>\n",
       "    <tr>\n",
       "      <th>0</th>\n",
       "      <td>2017-08-10</td>\n",
       "      <td>Europe</td>\n",
       "      <td>UK</td>\n",
       "      <td>-</td>\n",
       "      <td>Brand</td>\n",
       "      <td>L</td>\n",
       "      <td>2409.129976</td>\n",
       "      <td>580.0</td>\n",
       "      <td>0.0</td>\n",
       "      <td>0.0</td>\n",
       "      <td>0.0</td>\n",
       "      <td>AugustAugust</td>\n",
       "      <td>NaN</td>\n",
       "      <td>0.000000</td>\n",
       "      <td>0.0</td>\n",
       "      <td>0.5</td>\n",
       "      <td>0.5</td>\n",
       "      <td>0</td>\n",
       "    </tr>\n",
       "    <tr>\n",
       "      <th>1</th>\n",
       "      <td>2017-08-10</td>\n",
       "      <td>Europe</td>\n",
       "      <td>UK</td>\n",
       "      <td>-</td>\n",
       "      <td>Non_Brand</td>\n",
       "      <td>L</td>\n",
       "      <td>1220.189985</td>\n",
       "      <td>5.0</td>\n",
       "      <td>0.0</td>\n",
       "      <td>0.0</td>\n",
       "      <td>0.0</td>\n",
       "      <td>AugustAugust</td>\n",
       "      <td>NaN</td>\n",
       "      <td>1220.189985</td>\n",
       "      <td>0.0</td>\n",
       "      <td>1.0</td>\n",
       "      <td>0.0</td>\n",
       "      <td>0</td>\n",
       "    </tr>\n",
       "    <tr>\n",
       "      <th>2</th>\n",
       "      <td>2017-08-11</td>\n",
       "      <td>Europe</td>\n",
       "      <td>UK</td>\n",
       "      <td>-</td>\n",
       "      <td>Brand</td>\n",
       "      <td>L</td>\n",
       "      <td>2212.890007</td>\n",
       "      <td>1041.0</td>\n",
       "      <td>0.0</td>\n",
       "      <td>0.0</td>\n",
       "      <td>0.0</td>\n",
       "      <td>AugustAugust</td>\n",
       "      <td>NaN</td>\n",
       "      <td>0.000000</td>\n",
       "      <td>0.0</td>\n",
       "      <td>0.5</td>\n",
       "      <td>0.5</td>\n",
       "      <td>0</td>\n",
       "    </tr>\n",
       "    <tr>\n",
       "      <th>3</th>\n",
       "      <td>2017-08-11</td>\n",
       "      <td>Europe</td>\n",
       "      <td>UK</td>\n",
       "      <td>-</td>\n",
       "      <td>Non_Brand</td>\n",
       "      <td>L</td>\n",
       "      <td>1126.269987</td>\n",
       "      <td>10.0</td>\n",
       "      <td>0.0</td>\n",
       "      <td>0.0</td>\n",
       "      <td>0.0</td>\n",
       "      <td>AugustAugust</td>\n",
       "      <td>NaN</td>\n",
       "      <td>1126.269987</td>\n",
       "      <td>0.0</td>\n",
       "      <td>1.0</td>\n",
       "      <td>0.0</td>\n",
       "      <td>0</td>\n",
       "    </tr>\n",
       "    <tr>\n",
       "      <th>4</th>\n",
       "      <td>2017-08-12</td>\n",
       "      <td>Europe</td>\n",
       "      <td>UK</td>\n",
       "      <td>-</td>\n",
       "      <td>Brand</td>\n",
       "      <td>L</td>\n",
       "      <td>0.000000</td>\n",
       "      <td>22.0</td>\n",
       "      <td>0.0</td>\n",
       "      <td>0.0</td>\n",
       "      <td>2.0</td>\n",
       "      <td>AugustAugust</td>\n",
       "      <td>NaN</td>\n",
       "      <td>0.000000</td>\n",
       "      <td>0.0</td>\n",
       "      <td>0.5</td>\n",
       "      <td>0.5</td>\n",
       "      <td>1</td>\n",
       "    </tr>\n",
       "  </tbody>\n",
       "</table>\n",
       "</div>"
      ],
      "text/plain": [
       "          ds  region market account_type     funnel Identifier            X  \\\n",
       "0 2017-08-10  Europe     UK            -      Brand          L  2409.129976   \n",
       "1 2017-08-10  Europe     UK            -  Non_Brand          L  1220.189985   \n",
       "2 2017-08-11  Europe     UK            -      Brand          L  2212.890007   \n",
       "3 2017-08-11  Europe     UK            -  Non_Brand          L  1126.269987   \n",
       "4 2017-08-12  Europe     UK            -      Brand          L     0.000000   \n",
       "\n",
       "        y  anomaly_2021  covid_year_dummy  weekday_or_weekend   Month of Ds  \\\n",
       "0   580.0           0.0               0.0                 0.0  AugustAugust   \n",
       "1     5.0           0.0               0.0                 0.0  AugustAugust   \n",
       "2  1041.0           0.0               0.0                 0.0  AugustAugust   \n",
       "3    10.0           0.0               0.0                 0.0  AugustAugust   \n",
       "4    22.0           0.0               0.0                 2.0  AugustAugust   \n",
       "\n",
       "  new_funnel  generic_cost  competitor_cost  generic_cost_split  \\\n",
       "0        NaN      0.000000              0.0                 0.5   \n",
       "1        NaN   1220.189985              0.0                 1.0   \n",
       "2        NaN      0.000000              0.0                 0.5   \n",
       "3        NaN   1126.269987              0.0                 1.0   \n",
       "4        NaN      0.000000              0.0                 0.5   \n",
       "\n",
       "   competitor_cost_split  Weekend  \n",
       "0                    0.5        0  \n",
       "1                    0.0        0  \n",
       "2                    0.5        0  \n",
       "3                    0.0        0  \n",
       "4                    0.5        1  "
      ]
     },
     "execution_count": 6,
     "metadata": {},
     "output_type": "execute_result"
    }
   ],
   "source": [
    "# updated_df = Combine(df, 'L')\n",
    "# updated_df.head()"
   ]
  },
  {
   "cell_type": "code",
   "execution_count": 7,
   "id": "c5222a05",
   "metadata": {
    "tags": []
   },
   "outputs": [
    {
     "data": {
      "text/html": [
       "<div>\n",
       "<style scoped>\n",
       "    .dataframe tbody tr th:only-of-type {\n",
       "        vertical-align: middle;\n",
       "    }\n",
       "\n",
       "    .dataframe tbody tr th {\n",
       "        vertical-align: top;\n",
       "    }\n",
       "\n",
       "    .dataframe thead th {\n",
       "        text-align: right;\n",
       "    }\n",
       "</style>\n",
       "<table border=\"1\" class=\"dataframe\">\n",
       "  <thead>\n",
       "    <tr style=\"text-align: right;\">\n",
       "      <th></th>\n",
       "      <th>ds</th>\n",
       "      <th>market</th>\n",
       "      <th>new_confirmed</th>\n",
       "    </tr>\n",
       "  </thead>\n",
       "  <tbody>\n",
       "    <tr>\n",
       "      <th>986</th>\n",
       "      <td>2022-09-13</td>\n",
       "      <td>United Kingdom</td>\n",
       "      <td>12828</td>\n",
       "    </tr>\n",
       "    <tr>\n",
       "      <th>987</th>\n",
       "      <td>2022-09-14</td>\n",
       "      <td>United Kingdom</td>\n",
       "      <td>8491</td>\n",
       "    </tr>\n",
       "    <tr>\n",
       "      <th>988</th>\n",
       "      <td>2022-09-15</td>\n",
       "      <td>United Kingdom</td>\n",
       "      <td>0</td>\n",
       "    </tr>\n",
       "    <tr>\n",
       "      <th>989</th>\n",
       "      <td>2022-09-16</td>\n",
       "      <td>United Kingdom</td>\n",
       "      <td>0</td>\n",
       "    </tr>\n",
       "    <tr>\n",
       "      <th>990</th>\n",
       "      <td>2022-09-17</td>\n",
       "      <td>United Kingdom</td>\n",
       "      <td>0</td>\n",
       "    </tr>\n",
       "  </tbody>\n",
       "</table>\n",
       "</div>"
      ],
      "text/plain": [
       "            ds          market  new_confirmed\n",
       "986 2022-09-13  United Kingdom          12828\n",
       "987 2022-09-14  United Kingdom           8491\n",
       "988 2022-09-15  United Kingdom              0\n",
       "989 2022-09-16  United Kingdom              0\n",
       "990 2022-09-17  United Kingdom              0"
      ]
     },
     "execution_count": 7,
     "metadata": {},
     "output_type": "execute_result"
    }
   ],
   "source": [
    "# covid_df = GetCovidData('United Kingdom')\n",
    "# covid_df.tail()"
   ]
  },
  {
   "cell_type": "code",
   "execution_count": 8,
   "id": "21d1d829",
   "metadata": {
    "collapsed": true,
    "jupyter": {
     "outputs_hidden": true
    },
    "tags": []
   },
   "outputs": [
    {
     "name": "stderr",
     "output_type": "stream",
     "text": [
      "/var/tmp/ipykernel_140193/3292308880.py:2: FutureWarning: Downcasting object dtype arrays on .fillna, .ffill, .bfill is deprecated and will change in a future version. Call result.infer_objects(copy=False) instead. To opt-in to the future behavior, set `pd.set_option('future.no_silent_downcasting', True)`\n",
      "  final_df = final_df.fillna(0)\n"
     ]
    },
    {
     "data": {
      "text/html": [
       "<div>\n",
       "<style scoped>\n",
       "    .dataframe tbody tr th:only-of-type {\n",
       "        vertical-align: middle;\n",
       "    }\n",
       "\n",
       "    .dataframe tbody tr th {\n",
       "        vertical-align: top;\n",
       "    }\n",
       "\n",
       "    .dataframe thead th {\n",
       "        text-align: right;\n",
       "    }\n",
       "</style>\n",
       "<table border=\"1\" class=\"dataframe\">\n",
       "  <thead>\n",
       "    <tr style=\"text-align: right;\">\n",
       "      <th></th>\n",
       "      <th>ds</th>\n",
       "      <th>region</th>\n",
       "      <th>market</th>\n",
       "      <th>account_type</th>\n",
       "      <th>funnel</th>\n",
       "      <th>Identifier</th>\n",
       "      <th>X</th>\n",
       "      <th>y</th>\n",
       "      <th>anomaly_2021</th>\n",
       "      <th>covid_year_dummy</th>\n",
       "      <th>...</th>\n",
       "      <th>generic_cost</th>\n",
       "      <th>competitor_cost</th>\n",
       "      <th>generic_cost_split</th>\n",
       "      <th>competitor_cost_split</th>\n",
       "      <th>Weekend</th>\n",
       "      <th>new_confirmed</th>\n",
       "      <th>floor</th>\n",
       "      <th>AOV</th>\n",
       "      <th>ROAS</th>\n",
       "      <th>cap</th>\n",
       "    </tr>\n",
       "  </thead>\n",
       "  <tbody>\n",
       "    <tr>\n",
       "      <th>0</th>\n",
       "      <td>2017-08-10</td>\n",
       "      <td>Europe</td>\n",
       "      <td>UK</td>\n",
       "      <td>-</td>\n",
       "      <td>Brand</td>\n",
       "      <td>L</td>\n",
       "      <td>2409.129976</td>\n",
       "      <td>580.0</td>\n",
       "      <td>0.0</td>\n",
       "      <td>0.0</td>\n",
       "      <td>...</td>\n",
       "      <td>0.000000</td>\n",
       "      <td>0.00</td>\n",
       "      <td>0.500000</td>\n",
       "      <td>0.500000</td>\n",
       "      <td>0</td>\n",
       "      <td>0</td>\n",
       "      <td>0</td>\n",
       "      <td>23.16</td>\n",
       "      <td>6.01</td>\n",
       "      <td>625.167148</td>\n",
       "    </tr>\n",
       "    <tr>\n",
       "      <th>1</th>\n",
       "      <td>2017-08-10</td>\n",
       "      <td>Europe</td>\n",
       "      <td>UK</td>\n",
       "      <td>-</td>\n",
       "      <td>Non_Brand</td>\n",
       "      <td>L</td>\n",
       "      <td>1220.189985</td>\n",
       "      <td>5.0</td>\n",
       "      <td>0.0</td>\n",
       "      <td>0.0</td>\n",
       "      <td>...</td>\n",
       "      <td>1220.189985</td>\n",
       "      <td>0.00</td>\n",
       "      <td>1.000000</td>\n",
       "      <td>0.000000</td>\n",
       "      <td>0</td>\n",
       "      <td>0</td>\n",
       "      <td>0</td>\n",
       "      <td>24.36</td>\n",
       "      <td>5.37</td>\n",
       "      <td>268.982768</td>\n",
       "    </tr>\n",
       "    <tr>\n",
       "      <th>2</th>\n",
       "      <td>2017-08-11</td>\n",
       "      <td>Europe</td>\n",
       "      <td>UK</td>\n",
       "      <td>-</td>\n",
       "      <td>Brand</td>\n",
       "      <td>L</td>\n",
       "      <td>2212.890007</td>\n",
       "      <td>1041.0</td>\n",
       "      <td>0.0</td>\n",
       "      <td>0.0</td>\n",
       "      <td>...</td>\n",
       "      <td>0.000000</td>\n",
       "      <td>0.00</td>\n",
       "      <td>0.500000</td>\n",
       "      <td>0.500000</td>\n",
       "      <td>0</td>\n",
       "      <td>0</td>\n",
       "      <td>0</td>\n",
       "      <td>23.16</td>\n",
       "      <td>6.01</td>\n",
       "      <td>574.243046</td>\n",
       "    </tr>\n",
       "    <tr>\n",
       "      <th>3</th>\n",
       "      <td>2017-08-11</td>\n",
       "      <td>Europe</td>\n",
       "      <td>UK</td>\n",
       "      <td>-</td>\n",
       "      <td>Non_Brand</td>\n",
       "      <td>L</td>\n",
       "      <td>1126.269987</td>\n",
       "      <td>10.0</td>\n",
       "      <td>0.0</td>\n",
       "      <td>0.0</td>\n",
       "      <td>...</td>\n",
       "      <td>1126.269987</td>\n",
       "      <td>0.00</td>\n",
       "      <td>1.000000</td>\n",
       "      <td>0.000000</td>\n",
       "      <td>0</td>\n",
       "      <td>0</td>\n",
       "      <td>0</td>\n",
       "      <td>24.36</td>\n",
       "      <td>5.37</td>\n",
       "      <td>248.278729</td>\n",
       "    </tr>\n",
       "    <tr>\n",
       "      <th>4</th>\n",
       "      <td>2017-08-12</td>\n",
       "      <td>Europe</td>\n",
       "      <td>UK</td>\n",
       "      <td>-</td>\n",
       "      <td>Brand</td>\n",
       "      <td>L</td>\n",
       "      <td>0.000000</td>\n",
       "      <td>22.0</td>\n",
       "      <td>0.0</td>\n",
       "      <td>0.0</td>\n",
       "      <td>...</td>\n",
       "      <td>0.000000</td>\n",
       "      <td>0.00</td>\n",
       "      <td>0.500000</td>\n",
       "      <td>0.500000</td>\n",
       "      <td>1</td>\n",
       "      <td>0</td>\n",
       "      <td>0</td>\n",
       "      <td>23.16</td>\n",
       "      <td>6.01</td>\n",
       "      <td>4563.432444</td>\n",
       "    </tr>\n",
       "    <tr>\n",
       "      <th>...</th>\n",
       "      <td>...</td>\n",
       "      <td>...</td>\n",
       "      <td>...</td>\n",
       "      <td>...</td>\n",
       "      <td>...</td>\n",
       "      <td>...</td>\n",
       "      <td>...</td>\n",
       "      <td>...</td>\n",
       "      <td>...</td>\n",
       "      <td>...</td>\n",
       "      <td>...</td>\n",
       "      <td>...</td>\n",
       "      <td>...</td>\n",
       "      <td>...</td>\n",
       "      <td>...</td>\n",
       "      <td>...</td>\n",
       "      <td>...</td>\n",
       "      <td>...</td>\n",
       "      <td>...</td>\n",
       "      <td>...</td>\n",
       "      <td>...</td>\n",
       "    </tr>\n",
       "    <tr>\n",
       "      <th>4895</th>\n",
       "      <td>2024-04-22</td>\n",
       "      <td>Europe</td>\n",
       "      <td>UK</td>\n",
       "      <td>-</td>\n",
       "      <td>Non_Brand</td>\n",
       "      <td>L</td>\n",
       "      <td>163.430000</td>\n",
       "      <td>13.0</td>\n",
       "      <td>0.0</td>\n",
       "      <td>0.0</td>\n",
       "      <td>...</td>\n",
       "      <td>19.790000</td>\n",
       "      <td>143.64</td>\n",
       "      <td>0.121092</td>\n",
       "      <td>0.878908</td>\n",
       "      <td>0</td>\n",
       "      <td>0</td>\n",
       "      <td>0</td>\n",
       "      <td>24.36</td>\n",
       "      <td>5.37</td>\n",
       "      <td>36.027057</td>\n",
       "    </tr>\n",
       "    <tr>\n",
       "      <th>4896</th>\n",
       "      <td>2024-04-23</td>\n",
       "      <td>Europe</td>\n",
       "      <td>UK</td>\n",
       "      <td>-</td>\n",
       "      <td>Brand</td>\n",
       "      <td>L</td>\n",
       "      <td>5927.946900</td>\n",
       "      <td>1057.0</td>\n",
       "      <td>0.0</td>\n",
       "      <td>0.0</td>\n",
       "      <td>...</td>\n",
       "      <td>0.000000</td>\n",
       "      <td>0.00</td>\n",
       "      <td>0.500000</td>\n",
       "      <td>0.500000</td>\n",
       "      <td>0</td>\n",
       "      <td>0</td>\n",
       "      <td>0</td>\n",
       "      <td>23.16</td>\n",
       "      <td>6.01</td>\n",
       "      <td>1538.297101</td>\n",
       "    </tr>\n",
       "    <tr>\n",
       "      <th>4897</th>\n",
       "      <td>2024-04-23</td>\n",
       "      <td>Europe</td>\n",
       "      <td>UK</td>\n",
       "      <td>-</td>\n",
       "      <td>Non_Brand</td>\n",
       "      <td>L</td>\n",
       "      <td>50.350000</td>\n",
       "      <td>17.0</td>\n",
       "      <td>0.0</td>\n",
       "      <td>0.0</td>\n",
       "      <td>...</td>\n",
       "      <td>34.310000</td>\n",
       "      <td>16.04</td>\n",
       "      <td>0.681430</td>\n",
       "      <td>0.318570</td>\n",
       "      <td>0</td>\n",
       "      <td>0</td>\n",
       "      <td>0</td>\n",
       "      <td>24.36</td>\n",
       "      <td>5.37</td>\n",
       "      <td>11.099323</td>\n",
       "    </tr>\n",
       "    <tr>\n",
       "      <th>4898</th>\n",
       "      <td>2024-04-24</td>\n",
       "      <td>Europe</td>\n",
       "      <td>UK</td>\n",
       "      <td>-</td>\n",
       "      <td>Brand</td>\n",
       "      <td>L</td>\n",
       "      <td>5234.656600</td>\n",
       "      <td>1121.0</td>\n",
       "      <td>0.0</td>\n",
       "      <td>0.0</td>\n",
       "      <td>...</td>\n",
       "      <td>0.000000</td>\n",
       "      <td>0.00</td>\n",
       "      <td>0.500000</td>\n",
       "      <td>0.500000</td>\n",
       "      <td>0</td>\n",
       "      <td>0</td>\n",
       "      <td>0</td>\n",
       "      <td>23.16</td>\n",
       "      <td>6.01</td>\n",
       "      <td>1358.388867</td>\n",
       "    </tr>\n",
       "    <tr>\n",
       "      <th>4899</th>\n",
       "      <td>2024-04-24</td>\n",
       "      <td>Europe</td>\n",
       "      <td>UK</td>\n",
       "      <td>-</td>\n",
       "      <td>Non_Brand</td>\n",
       "      <td>L</td>\n",
       "      <td>174.150000</td>\n",
       "      <td>27.0</td>\n",
       "      <td>0.0</td>\n",
       "      <td>0.0</td>\n",
       "      <td>...</td>\n",
       "      <td>14.640000</td>\n",
       "      <td>159.51</td>\n",
       "      <td>0.080000</td>\n",
       "      <td>0.920000</td>\n",
       "      <td>0</td>\n",
       "      <td>0</td>\n",
       "      <td>0</td>\n",
       "      <td>24.36</td>\n",
       "      <td>5.37</td>\n",
       "      <td>38.390209</td>\n",
       "    </tr>\n",
       "  </tbody>\n",
       "</table>\n",
       "<p>4900 rows × 23 columns</p>\n",
       "</div>"
      ],
      "text/plain": [
       "             ds  region market account_type     funnel Identifier  \\\n",
       "0    2017-08-10  Europe     UK            -      Brand          L   \n",
       "1    2017-08-10  Europe     UK            -  Non_Brand          L   \n",
       "2    2017-08-11  Europe     UK            -      Brand          L   \n",
       "3    2017-08-11  Europe     UK            -  Non_Brand          L   \n",
       "4    2017-08-12  Europe     UK            -      Brand          L   \n",
       "...         ...     ...    ...          ...        ...        ...   \n",
       "4895 2024-04-22  Europe     UK            -  Non_Brand          L   \n",
       "4896 2024-04-23  Europe     UK            -      Brand          L   \n",
       "4897 2024-04-23  Europe     UK            -  Non_Brand          L   \n",
       "4898 2024-04-24  Europe     UK            -      Brand          L   \n",
       "4899 2024-04-24  Europe     UK            -  Non_Brand          L   \n",
       "\n",
       "                X       y  anomaly_2021  covid_year_dummy  ...  generic_cost  \\\n",
       "0     2409.129976   580.0           0.0               0.0  ...      0.000000   \n",
       "1     1220.189985     5.0           0.0               0.0  ...   1220.189985   \n",
       "2     2212.890007  1041.0           0.0               0.0  ...      0.000000   \n",
       "3     1126.269987    10.0           0.0               0.0  ...   1126.269987   \n",
       "4        0.000000    22.0           0.0               0.0  ...      0.000000   \n",
       "...           ...     ...           ...               ...  ...           ...   \n",
       "4895   163.430000    13.0           0.0               0.0  ...     19.790000   \n",
       "4896  5927.946900  1057.0           0.0               0.0  ...      0.000000   \n",
       "4897    50.350000    17.0           0.0               0.0  ...     34.310000   \n",
       "4898  5234.656600  1121.0           0.0               0.0  ...      0.000000   \n",
       "4899   174.150000    27.0           0.0               0.0  ...     14.640000   \n",
       "\n",
       "     competitor_cost  generic_cost_split  competitor_cost_split  Weekend  \\\n",
       "0               0.00            0.500000               0.500000        0   \n",
       "1               0.00            1.000000               0.000000        0   \n",
       "2               0.00            0.500000               0.500000        0   \n",
       "3               0.00            1.000000               0.000000        0   \n",
       "4               0.00            0.500000               0.500000        1   \n",
       "...              ...                 ...                    ...      ...   \n",
       "4895          143.64            0.121092               0.878908        0   \n",
       "4896            0.00            0.500000               0.500000        0   \n",
       "4897           16.04            0.681430               0.318570        0   \n",
       "4898            0.00            0.500000               0.500000        0   \n",
       "4899          159.51            0.080000               0.920000        0   \n",
       "\n",
       "      new_confirmed  floor    AOV  ROAS          cap  \n",
       "0                 0      0  23.16  6.01   625.167148  \n",
       "1                 0      0  24.36  5.37   268.982768  \n",
       "2                 0      0  23.16  6.01   574.243046  \n",
       "3                 0      0  24.36  5.37   248.278729  \n",
       "4                 0      0  23.16  6.01  4563.432444  \n",
       "...             ...    ...    ...   ...          ...  \n",
       "4895              0      0  24.36  5.37    36.027057  \n",
       "4896              0      0  23.16  6.01  1538.297101  \n",
       "4897              0      0  24.36  5.37    11.099323  \n",
       "4898              0      0  23.16  6.01  1358.388867  \n",
       "4899              0      0  24.36  5.37    38.390209  \n",
       "\n",
       "[4900 rows x 23 columns]"
      ]
     },
     "execution_count": 8,
     "metadata": {},
     "output_type": "execute_result"
    }
   ],
   "source": [
    "# final_df = updated_df.merge(covid_df, how = 'left', on = ['ds', 'market'])\n",
    "# final_df = final_df.fillna(0)\n",
    "\n",
    "\n",
    "# final_df['floor'] = 0\n",
    "\n",
    "# boundary_df = pd.read_csv(boundary_df_in_path)\n",
    "# boundary_df.rename(columns = {'Market': 'market', 'Account Type': 'account_type', 'Funnel':'funnel'}, inplace = True)\n",
    "\n",
    "# final_df = pd.merge(final_df, boundary_df, on = ['market', 'account_type', 'funnel'])\n",
    "# final_df['cap'] = final_df.ROAS * final_df.X / final_df.AOV\n",
    "# final_df.loc[final_df.cap == 0, 'cap'] = final_df.cap.max()\n",
    "# final_df = final_df[final_df.ds < cutoff_month].copy()\n",
    "# final_df.to_csv(daily_df_out_path)\n",
    "# final_df"
   ]
  },
  {
   "cell_type": "markdown",
   "id": "95181402",
   "metadata": {},
   "source": [
    "# Analytical File Generator"
   ]
  },
  {
   "cell_type": "code",
   "execution_count": 54,
   "id": "9209c263-f426-4375-9b03-ab401c818fe5",
   "metadata": {
    "tags": []
   },
   "outputs": [
    {
     "name": "stderr",
     "output_type": "stream",
     "text": [
      "/home/jupyter/SearchForecasting/repo/QueryingData.py:34: FutureWarning: DataFrame.fillna with 'method' is deprecated and will raise in a future version. Use obj.ffill() or obj.bfill() instead.\n",
      "  search_df.fillna(method = 'ffill', inplace = True)\n"
     ]
    },
    {
     "ename": "KeyError",
     "evalue": "\"['Month of Ds'] not found in axis\"",
     "output_type": "error",
     "traceback": [
      "\u001b[0;31m---------------------------------------------------------------------------\u001b[0m",
      "\u001b[0;31mKeyError\u001b[0m                                  Traceback (most recent call last)",
      "Cell \u001b[0;32mIn[54], line 8\u001b[0m\n\u001b[1;32m      6\u001b[0m splits_names \u001b[38;5;241m=\u001b[39m \u001b[38;5;28mlist\u001b[39m(analytical_file_df[[\u001b[38;5;124m'\u001b[39m\u001b[38;5;124mmarket\u001b[39m\u001b[38;5;124m'\u001b[39m,\u001b[38;5;124m'\u001b[39m\u001b[38;5;124maccount_type\u001b[39m\u001b[38;5;124m'\u001b[39m,\u001b[38;5;124m'\u001b[39m\u001b[38;5;124mfunnel\u001b[39m\u001b[38;5;124m'\u001b[39m]]\u001b[38;5;241m.\u001b[39mdrop_duplicates()\u001b[38;5;241m.\u001b[39mitertuples(index\u001b[38;5;241m=\u001b[39m\u001b[38;5;28;01mFalse\u001b[39;00m, name\u001b[38;5;241m=\u001b[39m\u001b[38;5;28;01mNone\u001b[39;00m)) \u001b[38;5;66;03m# get the actual splits in df \u001b[39;00m\n\u001b[1;32m      7\u001b[0m splits_names \u001b[38;5;241m=\u001b[39m [\u001b[38;5;124m'\u001b[39m\u001b[38;5;124m_\u001b[39m\u001b[38;5;124m'\u001b[39m\u001b[38;5;241m.\u001b[39mjoin(item)\u001b[38;5;241m.\u001b[39mreplace(\u001b[38;5;124m'\u001b[39m\u001b[38;5;124m \u001b[39m\u001b[38;5;124m'\u001b[39m, \u001b[38;5;124m'\u001b[39m\u001b[38;5;124m_\u001b[39m\u001b[38;5;124m'\u001b[39m) \u001b[38;5;28;01mfor\u001b[39;00m item \u001b[38;5;129;01min\u001b[39;00m splits_names]\u001b[38;5;66;03m# organize the element splits names joining by '_' \u001b[39;00m\n\u001b[0;32m----> 8\u001b[0m \u001b[43manalytical_file_df\u001b[49m\u001b[38;5;241;43m.\u001b[39;49m\u001b[43mdrop\u001b[49m\u001b[43m(\u001b[49m\u001b[43mcolumns\u001b[49m\u001b[38;5;241;43m=\u001b[39;49m\u001b[43m[\u001b[49m\u001b[38;5;124;43m'\u001b[39;49m\u001b[38;5;124;43mMonth of Ds\u001b[39;49m\u001b[38;5;124;43m'\u001b[39;49m\u001b[43m]\u001b[49m\u001b[43m,\u001b[49m\u001b[43m \u001b[49m\u001b[43minplace\u001b[49m\u001b[38;5;241;43m=\u001b[39;49m\u001b[38;5;28;43;01mTrue\u001b[39;49;00m\u001b[43m)\u001b[49m\n\u001b[1;32m      9\u001b[0m analytical_file_columns \u001b[38;5;241m=\u001b[39m [\u001b[38;5;124m'\u001b[39m\u001b[38;5;124mregion\u001b[39m\u001b[38;5;124m'\u001b[39m, \u001b[38;5;124m'\u001b[39m\u001b[38;5;124mmarket\u001b[39m\u001b[38;5;124m'\u001b[39m, \u001b[38;5;124m'\u001b[39m\u001b[38;5;124maccount_type\u001b[39m\u001b[38;5;124m'\u001b[39m, \u001b[38;5;124m'\u001b[39m\u001b[38;5;124mfunnel\u001b[39m\u001b[38;5;124m'\u001b[39m, \u001b[38;5;124m'\u001b[39m\u001b[38;5;124mds\u001b[39m\u001b[38;5;124m'\u001b[39m, \u001b[38;5;124m'\u001b[39m\u001b[38;5;124mX\u001b[39m\u001b[38;5;124m'\u001b[39m, \u001b[38;5;124m'\u001b[39m\u001b[38;5;124mMonth\u001b[39m\u001b[38;5;124m'\u001b[39m,\u001b[38;5;124m'\u001b[39m\u001b[38;5;124mYear\u001b[39m\u001b[38;5;124m'\u001b[39m] \u001b[38;5;241m+\u001b[39m splits_names \u001b[38;5;241m+\u001b[39m [\u001b[38;5;124m'\u001b[39m\u001b[38;5;124mweekday_or_weekend\u001b[39m\u001b[38;5;124m'\u001b[39m,\u001b[38;5;124m'\u001b[39m\u001b[38;5;124mAOV\u001b[39m\u001b[38;5;124m'\u001b[39m,\u001b[38;5;124m'\u001b[39m\u001b[38;5;124mROAS\u001b[39m\u001b[38;5;124m'\u001b[39m,\u001b[38;5;124m'\u001b[39m\u001b[38;5;124mfloor\u001b[39m\u001b[38;5;124m'\u001b[39m,\u001b[38;5;124m'\u001b[39m\u001b[38;5;124mcap\u001b[39m\u001b[38;5;124m'\u001b[39m] \u001b[38;5;66;03m# add other columns needed in analytical file\u001b[39;00m\n\u001b[1;32m     11\u001b[0m \u001b[38;5;66;03m# drop columns that arent needed in analytical df, splits that aren't optimized \u001b[39;00m\n",
      "File \u001b[0;32m/opt/conda/lib/python3.10/site-packages/pandas/core/frame.py:5581\u001b[0m, in \u001b[0;36mDataFrame.drop\u001b[0;34m(self, labels, axis, index, columns, level, inplace, errors)\u001b[0m\n\u001b[1;32m   5433\u001b[0m \u001b[38;5;28;01mdef\u001b[39;00m \u001b[38;5;21mdrop\u001b[39m(\n\u001b[1;32m   5434\u001b[0m     \u001b[38;5;28mself\u001b[39m,\n\u001b[1;32m   5435\u001b[0m     labels: IndexLabel \u001b[38;5;241m|\u001b[39m \u001b[38;5;28;01mNone\u001b[39;00m \u001b[38;5;241m=\u001b[39m \u001b[38;5;28;01mNone\u001b[39;00m,\n\u001b[0;32m   (...)\u001b[0m\n\u001b[1;32m   5442\u001b[0m     errors: IgnoreRaise \u001b[38;5;241m=\u001b[39m \u001b[38;5;124m\"\u001b[39m\u001b[38;5;124mraise\u001b[39m\u001b[38;5;124m\"\u001b[39m,\n\u001b[1;32m   5443\u001b[0m ) \u001b[38;5;241m-\u001b[39m\u001b[38;5;241m>\u001b[39m DataFrame \u001b[38;5;241m|\u001b[39m \u001b[38;5;28;01mNone\u001b[39;00m:\n\u001b[1;32m   5444\u001b[0m \u001b[38;5;250m    \u001b[39m\u001b[38;5;124;03m\"\"\"\u001b[39;00m\n\u001b[1;32m   5445\u001b[0m \u001b[38;5;124;03m    Drop specified labels from rows or columns.\u001b[39;00m\n\u001b[1;32m   5446\u001b[0m \n\u001b[0;32m   (...)\u001b[0m\n\u001b[1;32m   5579\u001b[0m \u001b[38;5;124;03m            weight  1.0     0.8\u001b[39;00m\n\u001b[1;32m   5580\u001b[0m \u001b[38;5;124;03m    \"\"\"\u001b[39;00m\n\u001b[0;32m-> 5581\u001b[0m     \u001b[38;5;28;01mreturn\u001b[39;00m \u001b[38;5;28;43msuper\u001b[39;49m\u001b[43m(\u001b[49m\u001b[43m)\u001b[49m\u001b[38;5;241;43m.\u001b[39;49m\u001b[43mdrop\u001b[49m\u001b[43m(\u001b[49m\n\u001b[1;32m   5582\u001b[0m \u001b[43m        \u001b[49m\u001b[43mlabels\u001b[49m\u001b[38;5;241;43m=\u001b[39;49m\u001b[43mlabels\u001b[49m\u001b[43m,\u001b[49m\n\u001b[1;32m   5583\u001b[0m \u001b[43m        \u001b[49m\u001b[43maxis\u001b[49m\u001b[38;5;241;43m=\u001b[39;49m\u001b[43maxis\u001b[49m\u001b[43m,\u001b[49m\n\u001b[1;32m   5584\u001b[0m \u001b[43m        \u001b[49m\u001b[43mindex\u001b[49m\u001b[38;5;241;43m=\u001b[39;49m\u001b[43mindex\u001b[49m\u001b[43m,\u001b[49m\n\u001b[1;32m   5585\u001b[0m \u001b[43m        \u001b[49m\u001b[43mcolumns\u001b[49m\u001b[38;5;241;43m=\u001b[39;49m\u001b[43mcolumns\u001b[49m\u001b[43m,\u001b[49m\n\u001b[1;32m   5586\u001b[0m \u001b[43m        \u001b[49m\u001b[43mlevel\u001b[49m\u001b[38;5;241;43m=\u001b[39;49m\u001b[43mlevel\u001b[49m\u001b[43m,\u001b[49m\n\u001b[1;32m   5587\u001b[0m \u001b[43m        \u001b[49m\u001b[43minplace\u001b[49m\u001b[38;5;241;43m=\u001b[39;49m\u001b[43minplace\u001b[49m\u001b[43m,\u001b[49m\n\u001b[1;32m   5588\u001b[0m \u001b[43m        \u001b[49m\u001b[43merrors\u001b[49m\u001b[38;5;241;43m=\u001b[39;49m\u001b[43merrors\u001b[49m\u001b[43m,\u001b[49m\n\u001b[1;32m   5589\u001b[0m \u001b[43m    \u001b[49m\u001b[43m)\u001b[49m\n",
      "File \u001b[0;32m/opt/conda/lib/python3.10/site-packages/pandas/core/generic.py:4788\u001b[0m, in \u001b[0;36mNDFrame.drop\u001b[0;34m(self, labels, axis, index, columns, level, inplace, errors)\u001b[0m\n\u001b[1;32m   4786\u001b[0m \u001b[38;5;28;01mfor\u001b[39;00m axis, labels \u001b[38;5;129;01min\u001b[39;00m axes\u001b[38;5;241m.\u001b[39mitems():\n\u001b[1;32m   4787\u001b[0m     \u001b[38;5;28;01mif\u001b[39;00m labels \u001b[38;5;129;01mis\u001b[39;00m \u001b[38;5;129;01mnot\u001b[39;00m \u001b[38;5;28;01mNone\u001b[39;00m:\n\u001b[0;32m-> 4788\u001b[0m         obj \u001b[38;5;241m=\u001b[39m \u001b[43mobj\u001b[49m\u001b[38;5;241;43m.\u001b[39;49m\u001b[43m_drop_axis\u001b[49m\u001b[43m(\u001b[49m\u001b[43mlabels\u001b[49m\u001b[43m,\u001b[49m\u001b[43m \u001b[49m\u001b[43maxis\u001b[49m\u001b[43m,\u001b[49m\u001b[43m \u001b[49m\u001b[43mlevel\u001b[49m\u001b[38;5;241;43m=\u001b[39;49m\u001b[43mlevel\u001b[49m\u001b[43m,\u001b[49m\u001b[43m \u001b[49m\u001b[43merrors\u001b[49m\u001b[38;5;241;43m=\u001b[39;49m\u001b[43merrors\u001b[49m\u001b[43m)\u001b[49m\n\u001b[1;32m   4790\u001b[0m \u001b[38;5;28;01mif\u001b[39;00m inplace:\n\u001b[1;32m   4791\u001b[0m     \u001b[38;5;28mself\u001b[39m\u001b[38;5;241m.\u001b[39m_update_inplace(obj)\n",
      "File \u001b[0;32m/opt/conda/lib/python3.10/site-packages/pandas/core/generic.py:4830\u001b[0m, in \u001b[0;36mNDFrame._drop_axis\u001b[0;34m(self, labels, axis, level, errors, only_slice)\u001b[0m\n\u001b[1;32m   4828\u001b[0m         new_axis \u001b[38;5;241m=\u001b[39m axis\u001b[38;5;241m.\u001b[39mdrop(labels, level\u001b[38;5;241m=\u001b[39mlevel, errors\u001b[38;5;241m=\u001b[39merrors)\n\u001b[1;32m   4829\u001b[0m     \u001b[38;5;28;01melse\u001b[39;00m:\n\u001b[0;32m-> 4830\u001b[0m         new_axis \u001b[38;5;241m=\u001b[39m \u001b[43maxis\u001b[49m\u001b[38;5;241;43m.\u001b[39;49m\u001b[43mdrop\u001b[49m\u001b[43m(\u001b[49m\u001b[43mlabels\u001b[49m\u001b[43m,\u001b[49m\u001b[43m \u001b[49m\u001b[43merrors\u001b[49m\u001b[38;5;241;43m=\u001b[39;49m\u001b[43merrors\u001b[49m\u001b[43m)\u001b[49m\n\u001b[1;32m   4831\u001b[0m     indexer \u001b[38;5;241m=\u001b[39m axis\u001b[38;5;241m.\u001b[39mget_indexer(new_axis)\n\u001b[1;32m   4833\u001b[0m \u001b[38;5;66;03m# Case for non-unique axis\u001b[39;00m\n\u001b[1;32m   4834\u001b[0m \u001b[38;5;28;01melse\u001b[39;00m:\n",
      "File \u001b[0;32m/opt/conda/lib/python3.10/site-packages/pandas/core/indexes/base.py:7070\u001b[0m, in \u001b[0;36mIndex.drop\u001b[0;34m(self, labels, errors)\u001b[0m\n\u001b[1;32m   7068\u001b[0m \u001b[38;5;28;01mif\u001b[39;00m mask\u001b[38;5;241m.\u001b[39many():\n\u001b[1;32m   7069\u001b[0m     \u001b[38;5;28;01mif\u001b[39;00m errors \u001b[38;5;241m!=\u001b[39m \u001b[38;5;124m\"\u001b[39m\u001b[38;5;124mignore\u001b[39m\u001b[38;5;124m\"\u001b[39m:\n\u001b[0;32m-> 7070\u001b[0m         \u001b[38;5;28;01mraise\u001b[39;00m \u001b[38;5;167;01mKeyError\u001b[39;00m(\u001b[38;5;124mf\u001b[39m\u001b[38;5;124m\"\u001b[39m\u001b[38;5;132;01m{\u001b[39;00mlabels[mask]\u001b[38;5;241m.\u001b[39mtolist()\u001b[38;5;132;01m}\u001b[39;00m\u001b[38;5;124m not found in axis\u001b[39m\u001b[38;5;124m\"\u001b[39m)\n\u001b[1;32m   7071\u001b[0m     indexer \u001b[38;5;241m=\u001b[39m indexer[\u001b[38;5;241m~\u001b[39mmask]\n\u001b[1;32m   7072\u001b[0m \u001b[38;5;28;01mreturn\u001b[39;00m \u001b[38;5;28mself\u001b[39m\u001b[38;5;241m.\u001b[39mdelete(indexer)\n",
      "\u001b[0;31mKeyError\u001b[0m: \"['Month of Ds'] not found in axis\""
     ]
    }
   ],
   "source": [
    "generator = AnalyticalFileGenerator(config_dict, final_df)\n",
    "analytical_file_df = generator.generate()\n",
    "analytical_file_df.columns\n",
    "\n",
    "\n",
    "splits_names = list(analytical_file_df[['market','account_type','funnel']].drop_duplicates().itertuples(index=False, name=None)) # get the actual splits in df \n",
    "splits_names = ['_'.join(item).replace(' ', '_') for item in splits_names]# organize the element splits names joining by '_' \n",
    "analytical_file_df.drop(columns=['Month of Ds'], inplace=True)\n",
    "analytical_file_columns = ['region', 'market', 'account_type', 'funnel', 'ds', 'X', 'Month','Year'] + splits_names + ['weekday_or_weekend','AOV','ROAS','floor','cap'] # add other columns needed in analytical file\n",
    "\n",
    "# drop columns that arent needed in analytical df, splits that aren't optimized \n",
    "for col in analytical_file_df.columns: # Loop over each column in the DataFrame\n",
    "    if not any(col.startswith(prefix) for prefix in analytical_file_columns): # Check if the column starts with any of the prefixes in combined_strings\n",
    "        print(f'column {col} dropped from analytical_file_df')\n",
    "        analytical_file_df.drop(columns=col, inplace=True) # if the columns does not starts with any element in analytical_file_columns drop it \n",
    "\n",
    "analytical_file_df"
   ]
  },
  {
   "cell_type": "code",
   "execution_count": 9,
   "id": "60d162a5",
   "metadata": {
    "collapsed": true,
    "jupyter": {
     "outputs_hidden": true
    },
    "tags": []
   },
   "outputs": [
    {
     "name": "stderr",
     "output_type": "stream",
     "text": [
      "/home/jupyter/SearchForecasting/repo/QueryingData.py:34: FutureWarning: DataFrame.fillna with 'method' is deprecated and will raise in a future version. Use obj.ffill() or obj.bfill() instead.\n",
      "  search_df.fillna(method = 'ffill', inplace = True)\n",
      "/home/jupyter/SearchForecasting/repo/FileGenerator.py:149: FutureWarning: Downcasting object dtype arrays on .fillna, .ffill, .bfill is deprecated and will change in a future version. Call result.infer_objects(copy=False) instead. To opt-in to the future behavior, set `pd.set_option('future.no_silent_downcasting', True)`\n",
      "  analytical_file_NY_prep = analytical_file_NY_prep.fillna(0)\n"
     ]
    },
    {
     "data": {
      "text/html": [
       "<div>\n",
       "<style scoped>\n",
       "    .dataframe tbody tr th:only-of-type {\n",
       "        vertical-align: middle;\n",
       "    }\n",
       "\n",
       "    .dataframe tbody tr th {\n",
       "        vertical-align: top;\n",
       "    }\n",
       "\n",
       "    .dataframe thead th {\n",
       "        text-align: right;\n",
       "    }\n",
       "</style>\n",
       "<table border=\"1\" class=\"dataframe\">\n",
       "  <thead>\n",
       "    <tr style=\"text-align: right;\">\n",
       "      <th></th>\n",
       "      <th>ds</th>\n",
       "      <th>region</th>\n",
       "      <th>market</th>\n",
       "      <th>account_type</th>\n",
       "      <th>funnel</th>\n",
       "      <th>Identifier</th>\n",
       "      <th>X</th>\n",
       "      <th>new_funnel</th>\n",
       "      <th>generic_cost</th>\n",
       "      <th>competitor_cost</th>\n",
       "      <th>...</th>\n",
       "      <th>UK_-_Brand_Sep_2024</th>\n",
       "      <th>UK_-_Non_Brand_Aug_2024</th>\n",
       "      <th>UK_-_Non_Brand_Dec_2024</th>\n",
       "      <th>UK_-_Non_Brand_Jul_2024</th>\n",
       "      <th>UK_-_Non_Brand_Jun_2024</th>\n",
       "      <th>UK_-_Non_Brand_Nov_2024</th>\n",
       "      <th>UK_-_Non_Brand_Oct_2024</th>\n",
       "      <th>UK_-_Non_Brand_Sep_2024</th>\n",
       "      <th>AOV</th>\n",
       "      <th>ROAS</th>\n",
       "    </tr>\n",
       "  </thead>\n",
       "  <tbody>\n",
       "    <tr>\n",
       "      <th>0</th>\n",
       "      <td>2024-04-25</td>\n",
       "      <td>Europe</td>\n",
       "      <td>UK</td>\n",
       "      <td>-</td>\n",
       "      <td>Brand</td>\n",
       "      <td>L</td>\n",
       "      <td>5067.790000</td>\n",
       "      <td>0</td>\n",
       "      <td>0.0000</td>\n",
       "      <td>0.00</td>\n",
       "      <td>...</td>\n",
       "      <td>0.0</td>\n",
       "      <td>0.0</td>\n",
       "      <td>0.000000</td>\n",
       "      <td>0.0</td>\n",
       "      <td>0.0</td>\n",
       "      <td>0.0</td>\n",
       "      <td>0.0</td>\n",
       "      <td>0.0</td>\n",
       "      <td>23.16</td>\n",
       "      <td>6.01</td>\n",
       "    </tr>\n",
       "    <tr>\n",
       "      <th>1</th>\n",
       "      <td>2024-04-25</td>\n",
       "      <td>Europe</td>\n",
       "      <td>UK</td>\n",
       "      <td>-</td>\n",
       "      <td>Non_Brand</td>\n",
       "      <td>L</td>\n",
       "      <td>142.457400</td>\n",
       "      <td>0</td>\n",
       "      <td>8.6474</td>\n",
       "      <td>133.81</td>\n",
       "      <td>...</td>\n",
       "      <td>0.0</td>\n",
       "      <td>0.0</td>\n",
       "      <td>0.000000</td>\n",
       "      <td>0.0</td>\n",
       "      <td>0.0</td>\n",
       "      <td>0.0</td>\n",
       "      <td>0.0</td>\n",
       "      <td>0.0</td>\n",
       "      <td>24.36</td>\n",
       "      <td>5.37</td>\n",
       "    </tr>\n",
       "    <tr>\n",
       "      <th>2</th>\n",
       "      <td>2024-04-26</td>\n",
       "      <td>Europe</td>\n",
       "      <td>UK</td>\n",
       "      <td>-</td>\n",
       "      <td>Brand</td>\n",
       "      <td>L</td>\n",
       "      <td>12104.050000</td>\n",
       "      <td>0</td>\n",
       "      <td>0.0000</td>\n",
       "      <td>0.00</td>\n",
       "      <td>...</td>\n",
       "      <td>0.0</td>\n",
       "      <td>0.0</td>\n",
       "      <td>0.000000</td>\n",
       "      <td>0.0</td>\n",
       "      <td>0.0</td>\n",
       "      <td>0.0</td>\n",
       "      <td>0.0</td>\n",
       "      <td>0.0</td>\n",
       "      <td>23.16</td>\n",
       "      <td>6.01</td>\n",
       "    </tr>\n",
       "    <tr>\n",
       "      <th>3</th>\n",
       "      <td>2024-04-26</td>\n",
       "      <td>Europe</td>\n",
       "      <td>UK</td>\n",
       "      <td>-</td>\n",
       "      <td>Non_Brand</td>\n",
       "      <td>L</td>\n",
       "      <td>195.269600</td>\n",
       "      <td>0</td>\n",
       "      <td>42.9896</td>\n",
       "      <td>152.28</td>\n",
       "      <td>...</td>\n",
       "      <td>0.0</td>\n",
       "      <td>0.0</td>\n",
       "      <td>0.000000</td>\n",
       "      <td>0.0</td>\n",
       "      <td>0.0</td>\n",
       "      <td>0.0</td>\n",
       "      <td>0.0</td>\n",
       "      <td>0.0</td>\n",
       "      <td>24.36</td>\n",
       "      <td>5.37</td>\n",
       "    </tr>\n",
       "    <tr>\n",
       "      <th>4</th>\n",
       "      <td>2024-04-27</td>\n",
       "      <td>Europe</td>\n",
       "      <td>UK</td>\n",
       "      <td>-</td>\n",
       "      <td>Brand</td>\n",
       "      <td>L</td>\n",
       "      <td>1401.110000</td>\n",
       "      <td>0</td>\n",
       "      <td>0.0000</td>\n",
       "      <td>0.00</td>\n",
       "      <td>...</td>\n",
       "      <td>0.0</td>\n",
       "      <td>0.0</td>\n",
       "      <td>0.000000</td>\n",
       "      <td>0.0</td>\n",
       "      <td>0.0</td>\n",
       "      <td>0.0</td>\n",
       "      <td>0.0</td>\n",
       "      <td>0.0</td>\n",
       "      <td>23.16</td>\n",
       "      <td>6.01</td>\n",
       "    </tr>\n",
       "    <tr>\n",
       "      <th>...</th>\n",
       "      <td>...</td>\n",
       "      <td>...</td>\n",
       "      <td>...</td>\n",
       "      <td>...</td>\n",
       "      <td>...</td>\n",
       "      <td>...</td>\n",
       "      <td>...</td>\n",
       "      <td>...</td>\n",
       "      <td>...</td>\n",
       "      <td>...</td>\n",
       "      <td>...</td>\n",
       "      <td>...</td>\n",
       "      <td>...</td>\n",
       "      <td>...</td>\n",
       "      <td>...</td>\n",
       "      <td>...</td>\n",
       "      <td>...</td>\n",
       "      <td>...</td>\n",
       "      <td>...</td>\n",
       "      <td>...</td>\n",
       "      <td>...</td>\n",
       "    </tr>\n",
       "    <tr>\n",
       "      <th>497</th>\n",
       "      <td>2024-12-29</td>\n",
       "      <td>Europe</td>\n",
       "      <td>UK</td>\n",
       "      <td>-</td>\n",
       "      <td>Non_Brand</td>\n",
       "      <td>L</td>\n",
       "      <td>696.461616</td>\n",
       "      <td>0</td>\n",
       "      <td>0.0000</td>\n",
       "      <td>0.00</td>\n",
       "      <td>...</td>\n",
       "      <td>0.0</td>\n",
       "      <td>0.0</td>\n",
       "      <td>696.461616</td>\n",
       "      <td>0.0</td>\n",
       "      <td>0.0</td>\n",
       "      <td>0.0</td>\n",
       "      <td>0.0</td>\n",
       "      <td>0.0</td>\n",
       "      <td>24.36</td>\n",
       "      <td>5.37</td>\n",
       "    </tr>\n",
       "    <tr>\n",
       "      <th>498</th>\n",
       "      <td>2024-12-30</td>\n",
       "      <td>Europe</td>\n",
       "      <td>UK</td>\n",
       "      <td>-</td>\n",
       "      <td>Brand</td>\n",
       "      <td>L</td>\n",
       "      <td>674.420000</td>\n",
       "      <td>0</td>\n",
       "      <td>0.0000</td>\n",
       "      <td>0.00</td>\n",
       "      <td>...</td>\n",
       "      <td>0.0</td>\n",
       "      <td>0.0</td>\n",
       "      <td>0.000000</td>\n",
       "      <td>0.0</td>\n",
       "      <td>0.0</td>\n",
       "      <td>0.0</td>\n",
       "      <td>0.0</td>\n",
       "      <td>0.0</td>\n",
       "      <td>23.16</td>\n",
       "      <td>6.01</td>\n",
       "    </tr>\n",
       "    <tr>\n",
       "      <th>499</th>\n",
       "      <td>2024-12-30</td>\n",
       "      <td>Europe</td>\n",
       "      <td>UK</td>\n",
       "      <td>-</td>\n",
       "      <td>Non_Brand</td>\n",
       "      <td>L</td>\n",
       "      <td>60.898500</td>\n",
       "      <td>0</td>\n",
       "      <td>60.8985</td>\n",
       "      <td>0.00</td>\n",
       "      <td>...</td>\n",
       "      <td>0.0</td>\n",
       "      <td>0.0</td>\n",
       "      <td>60.898500</td>\n",
       "      <td>0.0</td>\n",
       "      <td>0.0</td>\n",
       "      <td>0.0</td>\n",
       "      <td>0.0</td>\n",
       "      <td>0.0</td>\n",
       "      <td>24.36</td>\n",
       "      <td>5.37</td>\n",
       "    </tr>\n",
       "    <tr>\n",
       "      <th>500</th>\n",
       "      <td>2024-12-31</td>\n",
       "      <td>Europe</td>\n",
       "      <td>UK</td>\n",
       "      <td>-</td>\n",
       "      <td>Brand</td>\n",
       "      <td>L</td>\n",
       "      <td>4183.490000</td>\n",
       "      <td>0</td>\n",
       "      <td>0.0000</td>\n",
       "      <td>0.00</td>\n",
       "      <td>...</td>\n",
       "      <td>0.0</td>\n",
       "      <td>0.0</td>\n",
       "      <td>0.000000</td>\n",
       "      <td>0.0</td>\n",
       "      <td>0.0</td>\n",
       "      <td>0.0</td>\n",
       "      <td>0.0</td>\n",
       "      <td>0.0</td>\n",
       "      <td>23.16</td>\n",
       "      <td>6.01</td>\n",
       "    </tr>\n",
       "    <tr>\n",
       "      <th>501</th>\n",
       "      <td>2024-12-31</td>\n",
       "      <td>Europe</td>\n",
       "      <td>UK</td>\n",
       "      <td>-</td>\n",
       "      <td>Non_Brand</td>\n",
       "      <td>L</td>\n",
       "      <td>161.464700</td>\n",
       "      <td>0</td>\n",
       "      <td>149.3247</td>\n",
       "      <td>12.14</td>\n",
       "      <td>...</td>\n",
       "      <td>0.0</td>\n",
       "      <td>0.0</td>\n",
       "      <td>161.464700</td>\n",
       "      <td>0.0</td>\n",
       "      <td>0.0</td>\n",
       "      <td>0.0</td>\n",
       "      <td>0.0</td>\n",
       "      <td>0.0</td>\n",
       "      <td>24.36</td>\n",
       "      <td>5.37</td>\n",
       "    </tr>\n",
       "  </tbody>\n",
       "</table>\n",
       "<p>502 rows × 31 columns</p>\n",
       "</div>"
      ],
      "text/plain": [
       "            ds  region market account_type     funnel Identifier  \\\n",
       "0   2024-04-25  Europe     UK            -      Brand          L   \n",
       "1   2024-04-25  Europe     UK            -  Non_Brand          L   \n",
       "2   2024-04-26  Europe     UK            -      Brand          L   \n",
       "3   2024-04-26  Europe     UK            -  Non_Brand          L   \n",
       "4   2024-04-27  Europe     UK            -      Brand          L   \n",
       "..         ...     ...    ...          ...        ...        ...   \n",
       "497 2024-12-29  Europe     UK            -  Non_Brand          L   \n",
       "498 2024-12-30  Europe     UK            -      Brand          L   \n",
       "499 2024-12-30  Europe     UK            -  Non_Brand          L   \n",
       "500 2024-12-31  Europe     UK            -      Brand          L   \n",
       "501 2024-12-31  Europe     UK            -  Non_Brand          L   \n",
       "\n",
       "                X  new_funnel  generic_cost  competitor_cost  ...  \\\n",
       "0     5067.790000           0        0.0000             0.00  ...   \n",
       "1      142.457400           0        8.6474           133.81  ...   \n",
       "2    12104.050000           0        0.0000             0.00  ...   \n",
       "3      195.269600           0       42.9896           152.28  ...   \n",
       "4     1401.110000           0        0.0000             0.00  ...   \n",
       "..            ...         ...           ...              ...  ...   \n",
       "497    696.461616           0        0.0000             0.00  ...   \n",
       "498    674.420000           0        0.0000             0.00  ...   \n",
       "499     60.898500           0       60.8985             0.00  ...   \n",
       "500   4183.490000           0        0.0000             0.00  ...   \n",
       "501    161.464700           0      149.3247            12.14  ...   \n",
       "\n",
       "     UK_-_Brand_Sep_2024  UK_-_Non_Brand_Aug_2024  UK_-_Non_Brand_Dec_2024  \\\n",
       "0                    0.0                      0.0                 0.000000   \n",
       "1                    0.0                      0.0                 0.000000   \n",
       "2                    0.0                      0.0                 0.000000   \n",
       "3                    0.0                      0.0                 0.000000   \n",
       "4                    0.0                      0.0                 0.000000   \n",
       "..                   ...                      ...                      ...   \n",
       "497                  0.0                      0.0               696.461616   \n",
       "498                  0.0                      0.0                 0.000000   \n",
       "499                  0.0                      0.0                60.898500   \n",
       "500                  0.0                      0.0                 0.000000   \n",
       "501                  0.0                      0.0               161.464700   \n",
       "\n",
       "    UK_-_Non_Brand_Jul_2024 UK_-_Non_Brand_Jun_2024  UK_-_Non_Brand_Nov_2024  \\\n",
       "0                       0.0                     0.0                      0.0   \n",
       "1                       0.0                     0.0                      0.0   \n",
       "2                       0.0                     0.0                      0.0   \n",
       "3                       0.0                     0.0                      0.0   \n",
       "4                       0.0                     0.0                      0.0   \n",
       "..                      ...                     ...                      ...   \n",
       "497                     0.0                     0.0                      0.0   \n",
       "498                     0.0                     0.0                      0.0   \n",
       "499                     0.0                     0.0                      0.0   \n",
       "500                     0.0                     0.0                      0.0   \n",
       "501                     0.0                     0.0                      0.0   \n",
       "\n",
       "     UK_-_Non_Brand_Oct_2024  UK_-_Non_Brand_Sep_2024    AOV  ROAS  \n",
       "0                        0.0                      0.0  23.16  6.01  \n",
       "1                        0.0                      0.0  24.36  5.37  \n",
       "2                        0.0                      0.0  23.16  6.01  \n",
       "3                        0.0                      0.0  24.36  5.37  \n",
       "4                        0.0                      0.0  23.16  6.01  \n",
       "..                       ...                      ...    ...   ...  \n",
       "497                      0.0                      0.0  24.36  5.37  \n",
       "498                      0.0                      0.0  23.16  6.01  \n",
       "499                      0.0                      0.0  24.36  5.37  \n",
       "500                      0.0                      0.0  23.16  6.01  \n",
       "501                      0.0                      0.0  24.36  5.37  \n",
       "\n",
       "[502 rows x 31 columns]"
      ]
     },
     "execution_count": 9,
     "metadata": {},
     "output_type": "execute_result"
    }
   ],
   "source": [
    "# analytical_input = GetBQData(config_dict[\"PROPHETSETTING\"][\"analytical_file_query\"], config_dict[\"PROPHETSETTING\"][\"input\"], config_dict[\"PROPHETSETTING\"][\"output\"])\n",
    "# analytical_input = Combine(analytical_input, 'L')\n",
    "\n",
    "# generator = AnalyticalFileGenerator(config_dict, analytical_input)\n",
    "# analytical_file_df = generator.generate()\n",
    "# analytical_file_df = pd.merge(analytical_file_df, boundary_df, on = ['market', 'account_type', 'funnel'])\n",
    "# analytical_file_df.drop(analytical_file_df.filter(regex = 'Apr|May').columns, axis=1, inplace = True)\n",
    "# # generator.SaveFile(analytical_file_name, folder_name) # X is input value which should be the sum of all variable splits\n",
    "# analytical_file_df.to_csv(analytical_file_path)\n",
    "# analytical_file_df"
   ]
  },
  {
   "cell_type": "markdown",
   "id": "3ae2284b-6108-4372-9033-116839d9f33f",
   "metadata": {},
   "source": [
    "# cuts df\n",
    "\n",
    "import cuts_df. Initial prophet hyper parameters the ones set on previous refresh"
   ]
  },
  {
   "cell_type": "code",
   "execution_count": 30,
   "id": "a10b3790",
   "metadata": {
    "tags": []
   },
   "outputs": [
    {
     "data": {
      "text/html": [
       "<div>\n",
       "<style scoped>\n",
       "    .dataframe tbody tr th:only-of-type {\n",
       "        vertical-align: middle;\n",
       "    }\n",
       "\n",
       "    .dataframe tbody tr th {\n",
       "        vertical-align: top;\n",
       "    }\n",
       "\n",
       "    .dataframe thead th {\n",
       "        text-align: right;\n",
       "    }\n",
       "</style>\n",
       "<table border=\"1\" class=\"dataframe\">\n",
       "  <thead>\n",
       "    <tr style=\"text-align: right;\">\n",
       "      <th></th>\n",
       "      <th>market</th>\n",
       "      <th>account_type</th>\n",
       "      <th>funnel</th>\n",
       "      <th>changepoint_prior_scale</th>\n",
       "      <th>seasonality_prior_scale</th>\n",
       "      <th>holidays_prior_scale</th>\n",
       "      <th>seasonality_mode</th>\n",
       "      <th>input_mode</th>\n",
       "      <th>weekday_or_weekend</th>\n",
       "      <th>include_holiday</th>\n",
       "      <th>...</th>\n",
       "      <th>generic_cost_split</th>\n",
       "      <th>competitor_cost_split</th>\n",
       "      <th>new_confirmed</th>\n",
       "      <th>Nov_Dec_2018</th>\n",
       "      <th>Jul_Dec_2019</th>\n",
       "      <th>power</th>\n",
       "      <th>growth</th>\n",
       "      <th>periods</th>\n",
       "      <th>periods_for_acc_cal</th>\n",
       "      <th>cutoff_month</th>\n",
       "    </tr>\n",
       "  </thead>\n",
       "  <tbody>\n",
       "    <tr>\n",
       "      <th>9</th>\n",
       "      <td>UK</td>\n",
       "      <td>-</td>\n",
       "      <td>Brand</td>\n",
       "      <td>0.5</td>\n",
       "      <td>0.01</td>\n",
       "      <td>10.00</td>\n",
       "      <td>additive</td>\n",
       "      <td>additive</td>\n",
       "      <td>multiplicative</td>\n",
       "      <td>na</td>\n",
       "      <td>...</td>\n",
       "      <td>na</td>\n",
       "      <td>na</td>\n",
       "      <td>na</td>\n",
       "      <td>na</td>\n",
       "      <td>na</td>\n",
       "      <td>na</td>\n",
       "      <td>logistic</td>\n",
       "      <td>251.0</td>\n",
       "      <td>183</td>\n",
       "      <td>2024-04-25</td>\n",
       "    </tr>\n",
       "    <tr>\n",
       "      <th>10</th>\n",
       "      <td>UK</td>\n",
       "      <td>-</td>\n",
       "      <td>Non_Brand</td>\n",
       "      <td>0.1</td>\n",
       "      <td>10.00</td>\n",
       "      <td>0.01</td>\n",
       "      <td>additive</td>\n",
       "      <td>multiplicative</td>\n",
       "      <td>na</td>\n",
       "      <td>na</td>\n",
       "      <td>...</td>\n",
       "      <td>na</td>\n",
       "      <td>na</td>\n",
       "      <td>na</td>\n",
       "      <td>na</td>\n",
       "      <td>na</td>\n",
       "      <td>na</td>\n",
       "      <td>linear</td>\n",
       "      <td>251.0</td>\n",
       "      <td>183</td>\n",
       "      <td>2024-04-25</td>\n",
       "    </tr>\n",
       "  </tbody>\n",
       "</table>\n",
       "<p>2 rows × 23 columns</p>\n",
       "</div>"
      ],
      "text/plain": [
       "   market account_type     funnel  changepoint_prior_scale  \\\n",
       "9      UK            -      Brand                      0.5   \n",
       "10     UK            -  Non_Brand                      0.1   \n",
       "\n",
       "    seasonality_prior_scale  holidays_prior_scale seasonality_mode  \\\n",
       "9                      0.01                 10.00         additive   \n",
       "10                    10.00                  0.01         additive   \n",
       "\n",
       "        input_mode weekday_or_weekend include_holiday  ... generic_cost_split  \\\n",
       "9         additive     multiplicative              na  ...                 na   \n",
       "10  multiplicative                 na              na  ...                 na   \n",
       "\n",
       "   competitor_cost_split new_confirmed Nov_Dec_2018 Jul_Dec_2019 power  \\\n",
       "9                     na            na           na           na    na   \n",
       "10                    na            na           na           na    na   \n",
       "\n",
       "      growth periods periods_for_acc_cal cutoff_month  \n",
       "9   logistic   251.0                 183   2024-04-25  \n",
       "10    linear   251.0                 183   2024-04-25  \n",
       "\n",
       "[2 rows x 23 columns]"
      ]
     },
     "execution_count": 30,
     "metadata": {},
     "output_type": "execute_result"
    }
   ],
   "source": [
    "cuts_df = pd.read_csv(cuts_df_in_path).query(\"market == 'UK'\")\n",
    "cuts_df['periods'] = periods\n",
    "cuts_df['periods_for_acc_cal'] = 183\n",
    "cuts_df['cutoff_month'] = cutoff_month\n",
    "\n",
    "query_item_list = [query_item for query_item in [config_dict[\"CLIENTINFO\"][\"breakdown1\"], \\\n",
    "                             # config_dict[\"CLIENTINFO\"][\"breakdown2\"], \\\n",
    "                             config_dict[\"CLIENTINFO\"][\"breakdown3\"], \\\n",
    "                             config_dict[\"CLIENTINFO\"][\"breakdown4\"]]\n",
    "                             if query_item != None]\n",
    "\n",
    "cuts_df"
   ]
  },
  {
   "cell_type": "markdown",
   "id": "a5aef5c3",
   "metadata": {
    "jp-MarkdownHeadingCollapsed": true,
    "tags": []
   },
   "source": [
    "# Parallel Param Search\n",
    "\n",
    "Probably to drop"
   ]
  },
  {
   "cell_type": "code",
   "execution_count": 25,
   "id": "38cf34a5-798b-4e5f-8783-17535b2a2c17",
   "metadata": {
    "tags": []
   },
   "outputs": [],
   "source": [
    "# cuts_df1 = cuts_df.drop(['Nov_Dec_2018', 'Jul_Dec_2019'], axis=1)"
   ]
  },
  {
   "cell_type": "code",
   "execution_count": 22,
   "id": "7c4604d6-e881-4bf4-9216-3e4dc1fb43d4",
   "metadata": {
    "tags": []
   },
   "outputs": [
    {
     "data": {
      "text/plain": [
       "Index(['market', 'account_type', 'funnel', 'changepoint_prior_scale',\n",
       "       'seasonality_prior_scale', 'holidays_prior_scale', 'seasonality_mode',\n",
       "       'input_mode', 'weekday_or_weekend', 'include_holiday',\n",
       "       'covid_year_exclude', 'covid_year_dummy', 'anomaly_2021',\n",
       "       'generic_cost_split', 'competitor_cost_split', 'new_confirmed',\n",
       "       'Nov_Dec_2018', 'Jul_Dec_2019', 'power', 'growth', 'periods',\n",
       "       'periods_for_acc_cal', 'cutoff_month'],\n",
       "      dtype='object')"
      ]
     },
     "execution_count": 22,
     "metadata": {},
     "output_type": "execute_result"
    }
   ],
   "source": [
    "# cuts_df[cuts_df.funnel == \"Non_Brand\"]"
   ]
  },
  {
   "cell_type": "code",
   "execution_count": 19,
   "id": "0b484a35-e37b-4fc8-ae0a-37895d4ffa1e",
   "metadata": {
    "tags": []
   },
   "outputs": [
    {
     "data": {
      "text/plain": [
       "Index(['ds', 'region', 'market', 'account_type', 'funnel', 'Identifier', 'X',\n",
       "       'y', 'anomaly_2021', 'covid_year_dummy', 'weekday_or_weekend',\n",
       "       'Month of Ds', 'new_funnel', 'generic_cost', 'competitor_cost',\n",
       "       'generic_cost_split', 'competitor_cost_split', 'Weekend',\n",
       "       'new_confirmed', 'floor', 'AOV', 'ROAS', 'cap'],\n",
       "      dtype='object')"
      ]
     },
     "execution_count": 19,
     "metadata": {},
     "output_type": "execute_result"
    }
   ],
   "source": [
    "# final_df.columns"
   ]
  },
  {
   "cell_type": "code",
   "execution_count": 26,
   "id": "68c78e52",
   "metadata": {
    "tags": []
   },
   "outputs": [
    {
     "name": "stderr",
     "output_type": "stream",
     "text": [
      "  0%|          | 0/1 [00:00<?, ?it/s]19:24:15 - cmdstanpy - INFO - Chain [1] start processing\n",
      "19:24:15 - cmdstanpy - INFO - Chain [1] start processing\n",
      "19:24:15 - cmdstanpy - INFO - Chain [1] done processing\n",
      "19:24:15 - cmdstanpy - INFO - Chain [1] done processing\n",
      "19:24:16 - cmdstanpy - INFO - Chain [1] start processing\n"
     ]
    },
    {
     "name": "stdout",
     "output_type": "stream",
     "text": [
      "It's overpredicted.\n",
      "Monthly Error: 83.29 Period MAE: 19.6\n"
     ]
    },
    {
     "name": "stderr",
     "output_type": "stream",
     "text": [
      "19:24:16 - cmdstanpy - INFO - Chain [1] start processing\n",
      "19:24:16 - cmdstanpy - INFO - Chain [1] done processing\n",
      "19:24:16 - cmdstanpy - INFO - Chain [1] done processing\n"
     ]
    },
    {
     "name": "stdout",
     "output_type": "stream",
     "text": [
      "It's overpredicted.\n",
      "Monthly Error: 83.29 Period MAE: 19.6\n"
     ]
    },
    {
     "name": "stderr",
     "output_type": "stream",
     "text": [
      "19:24:18 - cmdstanpy - INFO - Chain [1] start processing\n",
      "19:24:18 - cmdstanpy - INFO - Chain [1] start processing\n",
      "19:24:18 - cmdstanpy - INFO - Chain [1] done processing\n",
      "19:24:18 - cmdstanpy - INFO - Chain [1] done processing\n"
     ]
    },
    {
     "name": "stdout",
     "output_type": "stream",
     "text": [
      "It's overpredicted.\n",
      "Monthly Error: 83.29 Period MAE: 19.6\n",
      "It's underpredicted.\n",
      "Monthly Error: 46.84 Period MAE: 55.08\n"
     ]
    },
    {
     "name": "stderr",
     "output_type": "stream",
     "text": [
      "  0%|          | 0/1 [00:06<?, ?it/s]19:24:20 - cmdstanpy - INFO - Chain [1] start processing\n"
     ]
    },
    {
     "name": "stdout",
     "output_type": "stream",
     "text": [
      "parallel result concat error.\n"
     ]
    },
    {
     "name": "stderr",
     "output_type": "stream",
     "text": [
      "\n",
      "19:24:21 - cmdstanpy - INFO - Chain [1] start processing\n",
      "19:24:21 - cmdstanpy - INFO - Chain [1] done processing\n",
      "19:24:21 - cmdstanpy - INFO - Chain [1] done processing\n"
     ]
    },
    {
     "ename": "ValueError",
     "evalue": "Regressor 'Jul_Dec_2019' missing from dataframe",
     "output_type": "error",
     "traceback": [
      "\u001b[0;31m---------------------------------------------------------------------------\u001b[0m",
      "\u001b[0;31mRemoteTraceback\u001b[0m                           Traceback (most recent call last)",
      "\u001b[0;31mRemoteTraceback\u001b[0m: \n\"\"\"\nTraceback (most recent call last):\n  File \"/opt/conda/lib/python3.10/site-packages/multiprocess/pool.py\", line 125, in worker\n    result = (True, func(*args, **kwds))\n  File \"/opt/conda/lib/python3.10/site-packages/pathos/helpers/mp_helper.py\", line 15, in <lambda>\n    func = lambda args: f(*args)\n  File \"/home/jupyter/SearchForecasting/repo/Accuracy.py\", line 377, in _fit_n_evaluate\n    model = CreateModel(training_dataset, d.iloc[0,:])\n  File \"/home/jupyter/SearchForecasting/repo/BuildModel.py\", line 107, in CreateModel\n    model.fit(training_dataset)\n  File \"/opt/conda/lib/python3.10/site-packages/prophet/forecaster.py\", line 1217, in fit\n    model_inputs = self.preprocess(df, **kwargs)\n  File \"/opt/conda/lib/python3.10/site-packages/prophet/forecaster.py\", line 1135, in preprocess\n    self.history = self.setup_dataframe(history, initialize_scales=True)\n  File \"/opt/conda/lib/python3.10/site-packages/prophet/forecaster.py\", line 297, in setup_dataframe\n    raise ValueError(\nValueError: Regressor 'Jul_Dec_2019' missing from dataframe\n\"\"\"",
      "\nThe above exception was the direct cause of the following exception:\n",
      "\u001b[0;31mValueError\u001b[0m                                Traceback (most recent call last)",
      "Cell \u001b[0;32mIn[26], line 5\u001b[0m\n\u001b[1;32m      3\u001b[0m search_engine \u001b[38;5;241m=\u001b[39m ProphetParameterSearch(power_flag \u001b[38;5;241m=\u001b[39m \u001b[38;5;28;01mFalse\u001b[39;00m, base_path\u001b[38;5;241m=\u001b[39mbase_path) \u001b[38;5;66;03m# , logistic_flag = False\u001b[39;00m\n\u001b[1;32m      4\u001b[0m \u001b[38;5;66;03m# search_engine.add_power_params()\u001b[39;00m\n\u001b[0;32m----> 5\u001b[0m grid_brand \u001b[38;5;241m=\u001b[39m \u001b[43msearch_engine\u001b[49m\u001b[38;5;241;43m.\u001b[39;49m\u001b[43msearch\u001b[49m\u001b[43m(\u001b[49m\u001b[43mcuts_df1\u001b[49m\u001b[43m[\u001b[49m\u001b[43mcuts_df1\u001b[49m\u001b[38;5;241;43m.\u001b[39;49m\u001b[43mfunnel\u001b[49m\u001b[43m \u001b[49m\u001b[38;5;241;43m==\u001b[39;49m\u001b[43m \u001b[49m\u001b[38;5;124;43m\"\u001b[39;49m\u001b[38;5;124;43mNon_Brand\u001b[39;49m\u001b[38;5;124;43m\"\u001b[39;49m\u001b[43m]\u001b[49m\u001b[43m,\u001b[49m\u001b[43m \u001b[49m\u001b[43mfinal_df\u001b[49m\u001b[43m)\u001b[49m\n\u001b[1;32m      6\u001b[0m \u001b[38;5;66;03m# grid\u001b[39;00m\n",
      "File \u001b[0;32m~/SearchForecasting/repo/Accuracy.py:449\u001b[0m, in \u001b[0;36mProphetParameterSearch.search\u001b[0;34m(self, cuts_df, df, param_search_dict)\u001b[0m\n\u001b[1;32m    445\u001b[0m     record_df_ls \u001b[38;5;241m=\u001b[39m p\u001b[38;5;241m.\u001b[39mimap(\u001b[38;5;28mself\u001b[39m\u001b[38;5;241m.\u001b[39m_fit_n_evaluate, param_grid)\n\u001b[1;32m    448\u001b[0m \u001b[38;5;28;01mtry\u001b[39;00m:\n\u001b[0;32m--> 449\u001b[0m     \u001b[38;5;28mself\u001b[39m\u001b[38;5;241m.\u001b[39mrecord_df \u001b[38;5;241m=\u001b[39m \u001b[43mpd\u001b[49m\u001b[38;5;241;43m.\u001b[39;49m\u001b[43mconcat\u001b[49m\u001b[43m(\u001b[49m\u001b[43mrecord_df_ls\u001b[49m\u001b[43m)\u001b[49m     \n\u001b[1;32m    450\u001b[0m \u001b[38;5;28;01mexcept\u001b[39;00m \u001b[38;5;167;01mException\u001b[39;00m:\n\u001b[1;32m    451\u001b[0m     \u001b[38;5;28mprint\u001b[39m(\u001b[38;5;124m'\u001b[39m\u001b[38;5;124mparallel result concat error.\u001b[39m\u001b[38;5;124m'\u001b[39m)\n",
      "File \u001b[0;32m/opt/conda/lib/python3.10/site-packages/pandas/core/reshape/concat.py:382\u001b[0m, in \u001b[0;36mconcat\u001b[0;34m(objs, axis, join, ignore_index, keys, levels, names, verify_integrity, sort, copy)\u001b[0m\n\u001b[1;32m    379\u001b[0m \u001b[38;5;28;01melif\u001b[39;00m copy \u001b[38;5;129;01mand\u001b[39;00m using_copy_on_write():\n\u001b[1;32m    380\u001b[0m     copy \u001b[38;5;241m=\u001b[39m \u001b[38;5;28;01mFalse\u001b[39;00m\n\u001b[0;32m--> 382\u001b[0m op \u001b[38;5;241m=\u001b[39m \u001b[43m_Concatenator\u001b[49m\u001b[43m(\u001b[49m\n\u001b[1;32m    383\u001b[0m \u001b[43m    \u001b[49m\u001b[43mobjs\u001b[49m\u001b[43m,\u001b[49m\n\u001b[1;32m    384\u001b[0m \u001b[43m    \u001b[49m\u001b[43maxis\u001b[49m\u001b[38;5;241;43m=\u001b[39;49m\u001b[43maxis\u001b[49m\u001b[43m,\u001b[49m\n\u001b[1;32m    385\u001b[0m \u001b[43m    \u001b[49m\u001b[43mignore_index\u001b[49m\u001b[38;5;241;43m=\u001b[39;49m\u001b[43mignore_index\u001b[49m\u001b[43m,\u001b[49m\n\u001b[1;32m    386\u001b[0m \u001b[43m    \u001b[49m\u001b[43mjoin\u001b[49m\u001b[38;5;241;43m=\u001b[39;49m\u001b[43mjoin\u001b[49m\u001b[43m,\u001b[49m\n\u001b[1;32m    387\u001b[0m \u001b[43m    \u001b[49m\u001b[43mkeys\u001b[49m\u001b[38;5;241;43m=\u001b[39;49m\u001b[43mkeys\u001b[49m\u001b[43m,\u001b[49m\n\u001b[1;32m    388\u001b[0m \u001b[43m    \u001b[49m\u001b[43mlevels\u001b[49m\u001b[38;5;241;43m=\u001b[39;49m\u001b[43mlevels\u001b[49m\u001b[43m,\u001b[49m\n\u001b[1;32m    389\u001b[0m \u001b[43m    \u001b[49m\u001b[43mnames\u001b[49m\u001b[38;5;241;43m=\u001b[39;49m\u001b[43mnames\u001b[49m\u001b[43m,\u001b[49m\n\u001b[1;32m    390\u001b[0m \u001b[43m    \u001b[49m\u001b[43mverify_integrity\u001b[49m\u001b[38;5;241;43m=\u001b[39;49m\u001b[43mverify_integrity\u001b[49m\u001b[43m,\u001b[49m\n\u001b[1;32m    391\u001b[0m \u001b[43m    \u001b[49m\u001b[43mcopy\u001b[49m\u001b[38;5;241;43m=\u001b[39;49m\u001b[43mcopy\u001b[49m\u001b[43m,\u001b[49m\n\u001b[1;32m    392\u001b[0m \u001b[43m    \u001b[49m\u001b[43msort\u001b[49m\u001b[38;5;241;43m=\u001b[39;49m\u001b[43msort\u001b[49m\u001b[43m,\u001b[49m\n\u001b[1;32m    393\u001b[0m \u001b[43m\u001b[49m\u001b[43m)\u001b[49m\n\u001b[1;32m    395\u001b[0m \u001b[38;5;28;01mreturn\u001b[39;00m op\u001b[38;5;241m.\u001b[39mget_result()\n",
      "File \u001b[0;32m/opt/conda/lib/python3.10/site-packages/pandas/core/reshape/concat.py:445\u001b[0m, in \u001b[0;36m_Concatenator.__init__\u001b[0;34m(self, objs, axis, join, keys, levels, names, ignore_index, verify_integrity, copy, sort)\u001b[0m\n\u001b[1;32m    442\u001b[0m \u001b[38;5;28mself\u001b[39m\u001b[38;5;241m.\u001b[39mverify_integrity \u001b[38;5;241m=\u001b[39m verify_integrity\n\u001b[1;32m    443\u001b[0m \u001b[38;5;28mself\u001b[39m\u001b[38;5;241m.\u001b[39mcopy \u001b[38;5;241m=\u001b[39m copy\n\u001b[0;32m--> 445\u001b[0m objs, keys \u001b[38;5;241m=\u001b[39m \u001b[38;5;28;43mself\u001b[39;49m\u001b[38;5;241;43m.\u001b[39;49m\u001b[43m_clean_keys_and_objs\u001b[49m\u001b[43m(\u001b[49m\u001b[43mobjs\u001b[49m\u001b[43m,\u001b[49m\u001b[43m \u001b[49m\u001b[43mkeys\u001b[49m\u001b[43m)\u001b[49m\n\u001b[1;32m    447\u001b[0m \u001b[38;5;66;03m# figure out what our result ndim is going to be\u001b[39;00m\n\u001b[1;32m    448\u001b[0m ndims \u001b[38;5;241m=\u001b[39m \u001b[38;5;28mself\u001b[39m\u001b[38;5;241m.\u001b[39m_get_ndims(objs)\n",
      "File \u001b[0;32m/opt/conda/lib/python3.10/site-packages/pandas/core/reshape/concat.py:504\u001b[0m, in \u001b[0;36m_Concatenator._clean_keys_and_objs\u001b[0;34m(self, objs, keys)\u001b[0m\n\u001b[1;32m    502\u001b[0m     objs_list \u001b[38;5;241m=\u001b[39m [objs[k] \u001b[38;5;28;01mfor\u001b[39;00m k \u001b[38;5;129;01min\u001b[39;00m keys]\n\u001b[1;32m    503\u001b[0m \u001b[38;5;28;01melse\u001b[39;00m:\n\u001b[0;32m--> 504\u001b[0m     objs_list \u001b[38;5;241m=\u001b[39m \u001b[38;5;28;43mlist\u001b[39;49m\u001b[43m(\u001b[49m\u001b[43mobjs\u001b[49m\u001b[43m)\u001b[49m\n\u001b[1;32m    506\u001b[0m \u001b[38;5;28;01mif\u001b[39;00m \u001b[38;5;28mlen\u001b[39m(objs_list) \u001b[38;5;241m==\u001b[39m \u001b[38;5;241m0\u001b[39m:\n\u001b[1;32m    507\u001b[0m     \u001b[38;5;28;01mraise\u001b[39;00m \u001b[38;5;167;01mValueError\u001b[39;00m(\u001b[38;5;124m\"\u001b[39m\u001b[38;5;124mNo objects to concatenate\u001b[39m\u001b[38;5;124m\"\u001b[39m)\n",
      "File \u001b[0;32m/opt/conda/lib/python3.10/site-packages/multiprocess/pool.py:873\u001b[0m, in \u001b[0;36mIMapIterator.next\u001b[0;34m(self, timeout)\u001b[0m\n\u001b[1;32m    871\u001b[0m \u001b[38;5;28;01mif\u001b[39;00m success:\n\u001b[1;32m    872\u001b[0m     \u001b[38;5;28;01mreturn\u001b[39;00m value\n\u001b[0;32m--> 873\u001b[0m \u001b[38;5;28;01mraise\u001b[39;00m value\n",
      "\u001b[0;31mValueError\u001b[0m: Regressor 'Jul_Dec_2019' missing from dataframe"
     ]
    },
    {
     "name": "stdout",
     "output_type": "stream",
     "text": [
      "It's underpredicted.\n",
      "Monthly Error: 46.84 Period MAE: 55.08\n",
      "It's overpredicted.\n",
      "Monthly Error: 85.35 Period MAE: 19.08\n",
      "It's underpredicted.\n",
      "Monthly Error: "
     ]
    },
    {
     "name": "stderr",
     "output_type": "stream",
     "text": [
      "19:24:23 - cmdstanpy - INFO - Chain [1] start processing\n"
     ]
    },
    {
     "name": "stdout",
     "output_type": "stream",
     "text": [
      "46.84 Period MAE: 55.08\n"
     ]
    },
    {
     "name": "stderr",
     "output_type": "stream",
     "text": [
      "19:24:23 - cmdstanpy - INFO - Chain [1] start processing\n",
      "19:24:23 - cmdstanpy - INFO - Chain [1] done processing\n",
      "19:24:24 - cmdstanpy - INFO - Chain [1] done processing\n"
     ]
    },
    {
     "name": "stdout",
     "output_type": "stream",
     "text": [
      "It's overpredicted.\n",
      "Monthly Error:"
     ]
    },
    {
     "name": "stderr",
     "output_type": "stream",
     "text": [
      "19:24:25 - cmdstanpy - INFO - Chain [1] start processing\n"
     ]
    },
    {
     "name": "stdout",
     "output_type": "stream",
     "text": [
      " 85.35 Period MAE: 19.08\n"
     ]
    },
    {
     "name": "stderr",
     "output_type": "stream",
     "text": [
      "19:24:25 - cmdstanpy - INFO - Chain [1] done processing\n",
      "19:24:25 - cmdstanpy - INFO - Chain [1] start processing\n"
     ]
    },
    {
     "name": "stdout",
     "output_type": "stream",
     "text": [
      "It's underpredicted.\n",
      "Monthly Error: 46.55 Period MAE: 54.86"
     ]
    },
    {
     "name": "stderr",
     "output_type": "stream",
     "text": [
      "19:24:25 - cmdstanpy - INFO - Chain [1] done processing\n"
     ]
    },
    {
     "name": "stdout",
     "output_type": "stream",
     "text": [
      "\n",
      "It's overpredicted.\n",
      "Monthly Error: 85.35 Period MAE: 19.08\n"
     ]
    },
    {
     "name": "stderr",
     "output_type": "stream",
     "text": [
      "19:24:27 - cmdstanpy - INFO - Chain [1] start processing\n",
      "19:24:27 - cmdstanpy - INFO - Chain [1] start processing\n",
      "19:24:27 - cmdstanpy - INFO - Chain [1] done processing\n",
      "19:24:27 - cmdstanpy - INFO - Chain [1] done processing\n"
     ]
    },
    {
     "name": "stdout",
     "output_type": "stream",
     "text": [
      "It's underpredicted.\n",
      "Monthly Error: 46.55 Period MAE: 54.86\n",
      "It's overpredicted.\n",
      "Monthly Error: 80.64 Period MAE: 17.44\n"
     ]
    },
    {
     "name": "stderr",
     "output_type": "stream",
     "text": [
      "19:24:29 - cmdstanpy - INFO - Chain [1] start processing\n",
      "19:24:29 - cmdstanpy - INFO - Chain [1] start processing\n",
      "19:24:30 - cmdstanpy - INFO - Chain [1] done processing\n"
     ]
    },
    {
     "name": "stdout",
     "output_type": "stream",
     "text": [
      "It's underpredicted.\n",
      "Monthly Error: 46.55 Period MAE: 54.86\n"
     ]
    },
    {
     "name": "stderr",
     "output_type": "stream",
     "text": [
      "19:24:30 - cmdstanpy - INFO - Chain [1] done processing\n"
     ]
    },
    {
     "name": "stdout",
     "output_type": "stream",
     "text": [
      "It's overpredicted.\n",
      "Monthly Error:Period MAE: 80.64  17.44\n"
     ]
    },
    {
     "name": "stderr",
     "output_type": "stream",
     "text": [
      "19:24:31 - cmdstanpy - INFO - Chain [1] start processing\n",
      "19:24:32 - cmdstanpy - INFO - Chain [1] start processing\n"
     ]
    },
    {
     "name": "stdout",
     "output_type": "stream",
     "text": [
      "It's underpredicted.\n",
      "Monthly Error: 46.68 Period MAE: 54.96\n"
     ]
    },
    {
     "name": "stderr",
     "output_type": "stream",
     "text": [
      "19:24:32 - cmdstanpy - INFO - Chain [1] done processing\n",
      "19:24:32 - cmdstanpy - INFO - Chain [1] done processing\n"
     ]
    },
    {
     "name": "stdout",
     "output_type": "stream",
     "text": [
      "It's overpredicted.\n",
      "Monthly Error: 80.64 Period MAE: \n",
      "17.44"
     ]
    },
    {
     "name": "stderr",
     "output_type": "stream",
     "text": [
      "19:24:34 - cmdstanpy - INFO - Chain [1] start processing\n",
      "19:24:34 - cmdstanpy - INFO - Chain [1] start processing\n",
      "19:24:34 - cmdstanpy - INFO - Chain [1] done processing\n"
     ]
    },
    {
     "name": "stdout",
     "output_type": "stream",
     "text": [
      "It's underpredicted.\n",
      "Monthly Error:"
     ]
    },
    {
     "name": "stderr",
     "output_type": "stream",
     "text": [
      "19:24:35 - cmdstanpy - INFO - Chain [1] done processing\n"
     ]
    },
    {
     "name": "stdout",
     "output_type": "stream",
     "text": [
      " 46.68 Period MAE: 54.96\n",
      "It's overpredicted.\n",
      "Monthly Error: 83.33 Period MAE: \n",
      "19.03"
     ]
    },
    {
     "name": "stderr",
     "output_type": "stream",
     "text": [
      "19:24:37 - cmdstanpy - INFO - Chain [1] start processing\n",
      "19:24:37 - cmdstanpy - INFO - Chain [1] start processing\n",
      "19:24:37 - cmdstanpy - INFO - Chain [1] done processing\n"
     ]
    },
    {
     "name": "stdout",
     "output_type": "stream",
     "text": [
      "It's underpredicted.\n",
      "Monthly Error: 46.68 Period MAE: 54.96\n"
     ]
    },
    {
     "name": "stderr",
     "output_type": "stream",
     "text": [
      "19:24:38 - cmdstanpy - INFO - Chain [1] done processing\n"
     ]
    },
    {
     "name": "stdout",
     "output_type": "stream",
     "text": [
      "It's overpredicted.\n",
      "Monthly Error: 83.33"
     ]
    },
    {
     "name": "stderr",
     "output_type": "stream",
     "text": [
      "19:24:39 - cmdstanpy - INFO - Chain [1] start processing\n"
     ]
    },
    {
     "name": "stdout",
     "output_type": "stream",
     "text": [
      "It's underpredicted. \n",
      "Period MAE: Monthly Error: 19.03\n",
      "100.0 Period MAE: 100.0\n"
     ]
    },
    {
     "name": "stderr",
     "output_type": "stream",
     "text": [
      "19:24:39 - cmdstanpy - INFO - Chain [1] start processing\n",
      "19:24:39 - cmdstanpy - INFO - Chain [1] done processing\n",
      "19:24:40 - cmdstanpy - INFO - Chain [1] done processing\n",
      "19:24:40 - cmdstanpy - INFO - Chain [1] start processing\n"
     ]
    },
    {
     "name": "stdout",
     "output_type": "stream",
     "text": [
      "It's overpredicted.\n",
      "Monthly Error: 83.33 Period MAE: 19.03\n"
     ]
    },
    {
     "name": "stderr",
     "output_type": "stream",
     "text": [
      "19:24:41 - cmdstanpy - INFO - Chain [1] done processing\n",
      "19:24:42 - cmdstanpy - INFO - Chain [1] start processing\n"
     ]
    },
    {
     "name": "stdout",
     "output_type": "stream",
     "text": [
      "It's underpredicted.\n",
      "Monthly Error: 100.0 Period MAE: 100.0\n"
     ]
    },
    {
     "name": "stderr",
     "output_type": "stream",
     "text": [
      "19:24:42 - cmdstanpy - INFO - Chain [1] done processing\n"
     ]
    },
    {
     "name": "stdout",
     "output_type": "stream",
     "text": [
      "It's overpredicted.\n",
      "Monthly Error: 87.29 Period MAE: 22.900000000000002\n"
     ]
    },
    {
     "name": "stderr",
     "output_type": "stream",
     "text": [
      "19:24:43 - cmdstanpy - INFO - Chain [1] start processing\n",
      "19:24:43 - cmdstanpy - INFO - Chain [1] start processing\n"
     ]
    },
    {
     "name": "stdout",
     "output_type": "stream",
     "text": [
      "It's underpredicted.\n",
      "Monthly Error: 100.0 Period MAE: 100.0\n"
     ]
    },
    {
     "name": "stderr",
     "output_type": "stream",
     "text": [
      "19:24:44 - cmdstanpy - INFO - Chain [1] done processing\n",
      "19:24:45 - cmdstanpy - INFO - Chain [1] done processing\n",
      "19:24:45 - cmdstanpy - INFO - Chain [1] start processing\n"
     ]
    },
    {
     "name": "stdout",
     "output_type": "stream",
     "text": [
      "It's overpredicted.\n",
      "Monthly Error: 87.29 Period MAE: 22.900000000000002\n"
     ]
    },
    {
     "name": "stderr",
     "output_type": "stream",
     "text": [
      "19:24:46 - cmdstanpy - INFO - Chain [1] start processing\n",
      "19:24:46 - cmdstanpy - INFO - Chain [1] done processing\n",
      "19:24:46 - cmdstanpy - INFO - Chain [1] done processing\n"
     ]
    },
    {
     "name": "stdout",
     "output_type": "stream",
     "text": [
      "It's underpredicted.\n",
      "Monthly Error: 60.11 Period MAE: 75.07000000000001\n",
      "It's overpredicted.\n",
      "Monthly Error: 87.29 Period MAE: 22.900000000000002\n"
     ]
    },
    {
     "name": "stderr",
     "output_type": "stream",
     "text": [
      "19:24:48 - cmdstanpy - INFO - Chain [1] start processing\n",
      "19:24:48 - cmdstanpy - INFO - Chain [1] start processing\n",
      "19:24:48 - cmdstanpy - INFO - Chain [1] done processing\n"
     ]
    },
    {
     "name": "stdout",
     "output_type": "stream",
     "text": [
      "It's underpredicted.\n",
      "Monthly Error: 60.11 Period MAE: 75.07000000000001\n"
     ]
    },
    {
     "name": "stderr",
     "output_type": "stream",
     "text": [
      "19:24:49 - cmdstanpy - INFO - Chain [1] done processing\n"
     ]
    },
    {
     "name": "stdout",
     "output_type": "stream",
     "text": [
      "It's overpredicted.\n",
      "Monthly Error: 85.93 Period MAE: 21.75\n"
     ]
    },
    {
     "name": "stderr",
     "output_type": "stream",
     "text": [
      "19:24:50 - cmdstanpy - INFO - Chain [1] start processing\n",
      "19:24:51 - cmdstanpy - INFO - Chain [1] start processing\n",
      "19:24:51 - cmdstanpy - INFO - Chain [1] done processing\n"
     ]
    },
    {
     "name": "stdout",
     "output_type": "stream",
     "text": [
      "It's underpredicted.\n",
      "Monthly Error: 60.11 Period MAE: 75.07000000000001\n"
     ]
    },
    {
     "name": "stderr",
     "output_type": "stream",
     "text": [
      "19:24:52 - cmdstanpy - INFO - Chain [1] done processing\n"
     ]
    },
    {
     "name": "stdout",
     "output_type": "stream",
     "text": [
      "It's overpredicted.\n",
      "Monthly Error: 85.93 Period MAE: 21.75\n",
      "It's underpredicted.\n",
      "Monthly Error: 54.94 Period MAE: 69.14\n"
     ]
    },
    {
     "name": "stderr",
     "output_type": "stream",
     "text": [
      "19:24:53 - cmdstanpy - INFO - Chain [1] start processing\n",
      "19:24:53 - cmdstanpy - INFO - Chain [1] start processing\n",
      "19:24:53 - cmdstanpy - INFO - Chain [1] done processing\n",
      "19:24:54 - cmdstanpy - INFO - Chain [1] done processing\n",
      "19:24:54 - cmdstanpy - INFO - Chain [1] start processing\n",
      "19:24:55 - cmdstanpy - INFO - Chain [1] done processing\n"
     ]
    },
    {
     "name": "stdout",
     "output_type": "stream",
     "text": [
      "It's overpredicted.\n",
      "Monthly Error: 85.93 Period MAE: 21.75\n",
      "It's underpredicted.\n",
      "Monthly Error: "
     ]
    },
    {
     "name": "stderr",
     "output_type": "stream",
     "text": [
      "19:24:56 - cmdstanpy - INFO - Chain [1] start processing\n"
     ]
    },
    {
     "name": "stdout",
     "output_type": "stream",
     "text": [
      "54.94 Period MAE: 69.14\n"
     ]
    },
    {
     "name": "stderr",
     "output_type": "stream",
     "text": [
      "19:24:56 - cmdstanpy - INFO - Chain [1] done processing\n"
     ]
    },
    {
     "name": "stdout",
     "output_type": "stream",
     "text": [
      "It's overpredicted.\n",
      "Monthly Error: 83.29 Period MAE: 19.6\n"
     ]
    },
    {
     "name": "stderr",
     "output_type": "stream",
     "text": [
      "19:24:57 - cmdstanpy - INFO - Chain [1] start processing\n",
      "19:24:57 - cmdstanpy - INFO - Chain [1] start processing\n",
      "19:24:57 - cmdstanpy - INFO - Chain [1] done processing\n",
      "19:24:58 - cmdstanpy - INFO - Chain [1] done processing\n"
     ]
    },
    {
     "name": "stdout",
     "output_type": "stream",
     "text": [
      "It's underpredicted.\n",
      "Monthly Error: 54.94 Period MAE: 69.14\n",
      "It's overpredicted.\n",
      "Monthly Error: 83.29 Period MAE: 19.6\n"
     ]
    },
    {
     "name": "stderr",
     "output_type": "stream",
     "text": [
      "19:24:59 - cmdstanpy - INFO - Chain [1] start processing\n",
      "19:24:59 - cmdstanpy - INFO - Chain [1] start processing\n",
      "19:25:00 - cmdstanpy - INFO - Chain [1] done processing\n",
      "19:25:00 - cmdstanpy - INFO - Chain [1] done processing\n"
     ]
    },
    {
     "name": "stdout",
     "output_type": "stream",
     "text": [
      "It's underpredicted.\n",
      "Monthly Error: 46.84 Period MAE: 55.08\n",
      "It's overpredicted.\n",
      "Monthly Error: 83.29 Period MAE: 19.6\n"
     ]
    },
    {
     "name": "stderr",
     "output_type": "stream",
     "text": [
      "19:25:02 - cmdstanpy - INFO - Chain [1] start processing\n",
      "19:25:02 - cmdstanpy - INFO - Chain [1] start processing\n",
      "19:25:02 - cmdstanpy - INFO - Chain [1] done processing\n"
     ]
    },
    {
     "name": "stdout",
     "output_type": "stream",
     "text": [
      "It's underpredicted.\n",
      "Monthly Error:"
     ]
    },
    {
     "name": "stderr",
     "output_type": "stream",
     "text": [
      "19:25:02 - cmdstanpy - INFO - Chain [1] done processing\n"
     ]
    },
    {
     "name": "stdout",
     "output_type": "stream",
     "text": [
      " 46.84 Period MAE: 55.08\n",
      "It's overpredicted.\n",
      "Monthly Error: 84.87 Period MAE: 18.43\n",
      "It's underpredicted.\n",
      "Monthly Error: 46.84 Period MAE: 55.08\n"
     ]
    },
    {
     "name": "stderr",
     "output_type": "stream",
     "text": [
      "19:25:05 - cmdstanpy - INFO - Chain [1] start processing\n",
      "19:25:05 - cmdstanpy - INFO - Chain [1] start processing\n",
      "19:25:05 - cmdstanpy - INFO - Chain [1] done processing\n",
      "19:25:06 - cmdstanpy - INFO - Chain [1] done processing\n",
      "19:25:06 - cmdstanpy - INFO - Chain [1] start processing\n"
     ]
    },
    {
     "name": "stdout",
     "output_type": "stream",
     "text": [
      "It's overpredicted.\n",
      "Monthly Error: 84.87 Period MAE: 18.43\n"
     ]
    },
    {
     "name": "stderr",
     "output_type": "stream",
     "text": [
      "19:25:07 - cmdstanpy - INFO - Chain [1] done processing\n",
      "19:25:07 - cmdstanpy - INFO - Chain [1] start processing\n",
      "19:25:08 - cmdstanpy - INFO - Chain [1] done processing\n"
     ]
    },
    {
     "name": "stdout",
     "output_type": "stream",
     "text": [
      "It's underpredicted.\n",
      "Monthly Error: 46.83 Period MAE: 55.08\n",
      "It's overpredicted.\n",
      "Monthly Error: 84.87 \n",
      "18.43Period MAE: "
     ]
    },
    {
     "name": "stderr",
     "output_type": "stream",
     "text": [
      "19:25:09 - cmdstanpy - INFO - Chain [1] start processing\n",
      "19:25:09 - cmdstanpy - INFO - Chain [1] start processing\n",
      "19:25:10 - cmdstanpy - INFO - Chain [1] done processing\n"
     ]
    },
    {
     "name": "stdout",
     "output_type": "stream",
     "text": [
      "It's underpredicted.\n",
      "Monthly Error: "
     ]
    },
    {
     "name": "stderr",
     "output_type": "stream",
     "text": [
      "19:25:10 - cmdstanpy - INFO - Chain [1] done processing\n"
     ]
    },
    {
     "name": "stdout",
     "output_type": "stream",
     "text": [
      "46.83 Period MAE: 55.08\n",
      "It's overpredicted.\n",
      "Monthly Error: 71.66 Period MAE: 10.96\n"
     ]
    },
    {
     "name": "stderr",
     "output_type": "stream",
     "text": [
      "19:25:11 - cmdstanpy - INFO - Chain [1] start processing\n",
      "19:25:11 - cmdstanpy - INFO - Chain [1] start processing\n",
      "19:25:12 - cmdstanpy - INFO - Chain [1] done processing\n",
      "19:25:12 - cmdstanpy - INFO - Chain [1] done processing\n"
     ]
    },
    {
     "name": "stdout",
     "output_type": "stream",
     "text": [
      "It's underpredicted.\n",
      "Monthly Error: 46.83 Period MAE: 55.08\n",
      "It's overpredicted.\n",
      "Monthly Error: 71.66 Period MAE: \n",
      "10.96"
     ]
    },
    {
     "name": "stderr",
     "output_type": "stream",
     "text": [
      "19:25:14 - cmdstanpy - INFO - Chain [1] start processing\n",
      "19:25:14 - cmdstanpy - INFO - Chain [1] start processing\n",
      "19:25:14 - cmdstanpy - INFO - Chain [1] done processing\n"
     ]
    },
    {
     "name": "stdout",
     "output_type": "stream",
     "text": [
      "It's underpredicted.\n",
      "Monthly Error: 46.83 Period MAE: 55.06999999999999\n"
     ]
    },
    {
     "name": "stderr",
     "output_type": "stream",
     "text": [
      "19:25:15 - cmdstanpy - INFO - Chain [1] done processing\n"
     ]
    },
    {
     "name": "stdout",
     "output_type": "stream",
     "text": [
      "It's overpredicted.\n",
      "Monthly Error: 71.66 Period MAE: 10.96\n"
     ]
    },
    {
     "name": "stderr",
     "output_type": "stream",
     "text": [
      "19:25:16 - cmdstanpy - INFO - Chain [1] start processing\n",
      "19:25:16 - cmdstanpy - INFO - Chain [1] start processing\n",
      "19:25:16 - cmdstanpy - INFO - Chain [1] done processing\n"
     ]
    },
    {
     "name": "stdout",
     "output_type": "stream",
     "text": [
      "It's underpredicted.\n",
      "Monthly Error: 46.83 Period MAE: 55.06999999999999\n"
     ]
    },
    {
     "name": "stderr",
     "output_type": "stream",
     "text": [
      "19:25:18 - cmdstanpy - INFO - Chain [1] done processing\n"
     ]
    },
    {
     "name": "stdout",
     "output_type": "stream",
     "text": [
      "It's overpredicted.\n",
      "Monthly Error: 83.33 Period MAE: 19.03\n"
     ]
    },
    {
     "name": "stderr",
     "output_type": "stream",
     "text": [
      "19:25:19 - cmdstanpy - INFO - Chain [1] start processing\n",
      "19:25:19 - cmdstanpy - INFO - Chain [1] start processing\n",
      "19:25:19 - cmdstanpy - INFO - Chain [1] done processing\n"
     ]
    },
    {
     "name": "stdout",
     "output_type": "stream",
     "text": [
      "It's underpredicted.\n",
      "Monthly Error: 46.83 Period MAE: 55.06999999999999\n"
     ]
    },
    {
     "name": "stderr",
     "output_type": "stream",
     "text": [
      "19:25:20 - cmdstanpy - INFO - Chain [1] done processing\n",
      "19:25:21 - cmdstanpy - INFO - Chain [1] start processing\n"
     ]
    },
    {
     "name": "stdout",
     "output_type": "stream",
     "text": [
      "It's overpredicted.\n",
      "Monthly Error: 83.33 Period MAE: 19.03\n",
      "It's underpredicted.\n",
      "Monthly Error: 100.0 Period MAE: 100.0\n"
     ]
    },
    {
     "name": "stderr",
     "output_type": "stream",
     "text": [
      "19:25:22 - cmdstanpy - INFO - Chain [1] start processing\n",
      "19:25:22 - cmdstanpy - INFO - Chain [1] done processing\n",
      "19:25:22 - cmdstanpy - INFO - Chain [1] done processing\n"
     ]
    },
    {
     "name": "stdout",
     "output_type": "stream",
     "text": [
      "It's overpredicted.\n",
      "Monthly Error: "
     ]
    },
    {
     "name": "stderr",
     "output_type": "stream",
     "text": [
      "19:25:23 - cmdstanpy - INFO - Chain [1] start processing\n"
     ]
    },
    {
     "name": "stdout",
     "output_type": "stream",
     "text": [
      "83.33 Period MAE: 19.03\n",
      "It's underpredicted.\n",
      "Monthly Error: 100.0 Period MAE: 100.0\n"
     ]
    },
    {
     "name": "stderr",
     "output_type": "stream",
     "text": [
      "19:25:24 - cmdstanpy - INFO - Chain [1] start processing\n",
      "19:25:24 - cmdstanpy - INFO - Chain [1] done processing\n",
      "19:25:24 - cmdstanpy - INFO - Chain [1] done processing\n",
      "19:25:25 - cmdstanpy - INFO - Chain [1] start processing\n"
     ]
    },
    {
     "name": "stdout",
     "output_type": "stream",
     "text": [
      "It's overpredicted.\n",
      "Monthly Error: 86.37 Period MAE: 22.21\n"
     ]
    },
    {
     "name": "stderr",
     "output_type": "stream",
     "text": [
      "19:25:26 - cmdstanpy - INFO - Chain [1] start processing\n",
      "19:25:26 - cmdstanpy - INFO - Chain [1] done processing\n",
      "19:25:26 - cmdstanpy - INFO - Chain [1] done processing\n"
     ]
    },
    {
     "name": "stdout",
     "output_type": "stream",
     "text": [
      "It's underpredicted.\n",
      "Monthly Error: 100.0 Period MAE: 100.0\n",
      "It's overpredicted.\n",
      "Monthly Error: 86.37 Period MAE: 22.21\n"
     ]
    },
    {
     "name": "stderr",
     "output_type": "stream",
     "text": [
      "19:25:28 - cmdstanpy - INFO - Chain [1] start processing\n",
      "19:25:28 - cmdstanpy - INFO - Chain [1] start processing\n",
      "19:25:28 - cmdstanpy - INFO - Chain [1] done processing\n"
     ]
    },
    {
     "name": "stdout",
     "output_type": "stream",
     "text": [
      "It's underpredicted.\n",
      "Monthly Error: 55.97 Period MAE: 72.48\n"
     ]
    },
    {
     "name": "stderr",
     "output_type": "stream",
     "text": [
      "19:25:29 - cmdstanpy - INFO - Chain [1] done processing\n"
     ]
    },
    {
     "name": "stdout",
     "output_type": "stream",
     "text": [
      "It's overpredicted.\n",
      "Monthly Error: 86.37 Period MAE: 22.21\n"
     ]
    },
    {
     "name": "stderr",
     "output_type": "stream",
     "text": [
      "19:25:30 - cmdstanpy - INFO - Chain [1] start processing\n"
     ]
    },
    {
     "name": "stdout",
     "output_type": "stream",
     "text": [
      "It's underpredicted.\n",
      "Monthly Error: 55.97 Period MAE: 72.48\n"
     ]
    },
    {
     "name": "stderr",
     "output_type": "stream",
     "text": [
      "19:25:31 - cmdstanpy - INFO - Chain [1] start processing\n",
      "19:25:31 - cmdstanpy - INFO - Chain [1] done processing\n",
      "19:25:32 - cmdstanpy - INFO - Chain [1] done processing\n",
      "19:25:32 - cmdstanpy - INFO - Chain [1] start processing\n"
     ]
    },
    {
     "name": "stdout",
     "output_type": "stream",
     "text": [
      "It's overpredicted.\n",
      "Monthly Error: 86.17 Period MAE: It's underpredicted.\n",
      "Monthly Error:21.529999999999998\n",
      " 55.97 Period MAE: 72.48\n"
     ]
    },
    {
     "name": "stderr",
     "output_type": "stream",
     "text": [
      "19:25:34 - cmdstanpy - INFO - Chain [1] start processing\n",
      "19:25:34 - cmdstanpy - INFO - Chain [1] done processing\n",
      "19:25:34 - cmdstanpy - INFO - Chain [1] done processing\n"
     ]
    },
    {
     "name": "stdout",
     "output_type": "stream",
     "text": [
      "It's overpredicted.\n",
      "Monthly Error: 86.17 Period MAE: 21.529999999999998\n"
     ]
    },
    {
     "name": "stderr",
     "output_type": "stream",
     "text": [
      "19:25:36 - cmdstanpy - INFO - Chain [1] start processing\n",
      "19:25:36 - cmdstanpy - INFO - Chain [1] start processing\n",
      "19:25:36 - cmdstanpy - INFO - Chain [1] done processing\n"
     ]
    },
    {
     "name": "stdout",
     "output_type": "stream",
     "text": [
      "It's underpredicted.\n",
      "Monthly Error: 100.0 Period MAE: 100.0\n"
     ]
    },
    {
     "name": "stderr",
     "output_type": "stream",
     "text": [
      "19:25:37 - cmdstanpy - INFO - Chain [1] done processing\n"
     ]
    },
    {
     "name": "stdout",
     "output_type": "stream",
     "text": [
      "It's overpredicted.\n",
      "Monthly Error: 86.17 Period MAE: 21.529999999999998"
     ]
    },
    {
     "name": "stderr",
     "output_type": "stream",
     "text": [
      "19:25:38 - cmdstanpy - INFO - Chain [1] start processing\n"
     ]
    },
    {
     "name": "stdout",
     "output_type": "stream",
     "text": [
      "\n"
     ]
    },
    {
     "name": "stderr",
     "output_type": "stream",
     "text": [
      "19:25:39 - cmdstanpy - INFO - Chain [1] start processing\n",
      "19:25:39 - cmdstanpy - INFO - Chain [1] done processing\n",
      "19:25:39 - cmdstanpy - INFO - Chain [1] done processing\n"
     ]
    },
    {
     "name": "stdout",
     "output_type": "stream",
     "text": [
      "It's underpredicted.\n",
      "Monthly Error: 100.0 Period MAE: 100.0\n",
      "It's overpredicted.\n",
      "Monthly Error: 83.29 Period MAE: 19.6\n"
     ]
    },
    {
     "name": "stderr",
     "output_type": "stream",
     "text": [
      "19:25:40 - cmdstanpy - INFO - Chain [1] start processing\n",
      "19:25:41 - cmdstanpy - INFO - Chain [1] start processing\n"
     ]
    },
    {
     "name": "stdout",
     "output_type": "stream",
     "text": [
      "It's underpredicted.\n",
      "Monthly Error: 100.0 "
     ]
    },
    {
     "name": "stderr",
     "output_type": "stream",
     "text": [
      "19:25:41 - cmdstanpy - INFO - Chain [1] done processing\n"
     ]
    },
    {
     "name": "stdout",
     "output_type": "stream",
     "text": [
      "Period MAE: 100.0\n"
     ]
    },
    {
     "name": "stderr",
     "output_type": "stream",
     "text": [
      "19:25:41 - cmdstanpy - INFO - Chain [1] done processing\n"
     ]
    },
    {
     "name": "stdout",
     "output_type": "stream",
     "text": [
      "It's overpredicted.\n",
      "Monthly Error: 83.29 Period MAE: 19.6\n"
     ]
    },
    {
     "name": "stderr",
     "output_type": "stream",
     "text": [
      "19:25:42 - cmdstanpy - INFO - Chain [1] start processing\n",
      "19:25:43 - cmdstanpy - INFO - Chain [1] start processing\n",
      "19:25:43 - cmdstanpy - INFO - Chain [1] done processing\n",
      "19:25:43 - cmdstanpy - INFO - Chain [1] done processing\n"
     ]
    },
    {
     "name": "stdout",
     "output_type": "stream",
     "text": [
      "It's underpredicted.\n",
      "Monthly Error: 46.84 Period MAE: 55.08\n",
      "It's overpredicted.\n",
      "Monthly Error: 83.29 \n",
      "Period MAE: 19.6"
     ]
    },
    {
     "name": "stderr",
     "output_type": "stream",
     "text": [
      "19:25:45 - cmdstanpy - INFO - Chain [1] start processing\n",
      "19:25:45 - cmdstanpy - INFO - Chain [1] start processing\n"
     ]
    },
    {
     "name": "stdout",
     "output_type": "stream",
     "text": [
      "It's underpredicted.\n",
      "Monthly Error: 46.84 Period MAE: 55.08\n"
     ]
    },
    {
     "name": "stderr",
     "output_type": "stream",
     "text": [
      "19:25:45 - cmdstanpy - INFO - Chain [1] done processing\n",
      "19:25:45 - cmdstanpy - INFO - Chain [1] done processing\n"
     ]
    },
    {
     "name": "stdout",
     "output_type": "stream",
     "text": [
      "It's overpredicted.\n",
      "Monthly Error: 85.15 Period MAE: 18.790000000000003\n"
     ]
    },
    {
     "name": "stderr",
     "output_type": "stream",
     "text": [
      "19:25:47 - cmdstanpy - INFO - Chain [1] start processing\n"
     ]
    },
    {
     "name": "stdout",
     "output_type": "stream",
     "text": [
      "It's underpredicted.\n",
      "Monthly Error: 46.84 Period MAE: 55.08\n"
     ]
    },
    {
     "name": "stderr",
     "output_type": "stream",
     "text": [
      "19:25:47 - cmdstanpy - INFO - Chain [1] start processing\n",
      "19:25:47 - cmdstanpy - INFO - Chain [1] done processing\n",
      "19:25:48 - cmdstanpy - INFO - Chain [1] done processing\n"
     ]
    },
    {
     "name": "stdout",
     "output_type": "stream",
     "text": [
      "It's overpredicted.\n",
      "Monthly Error: 85.15 Period MAE: 18.790000000000003\n"
     ]
    },
    {
     "name": "stderr",
     "output_type": "stream",
     "text": [
      "19:25:49 - cmdstanpy - INFO - Chain [1] start processing\n",
      "19:25:49 - cmdstanpy - INFO - Chain [1] start processing\n",
      "19:25:49 - cmdstanpy - INFO - Chain [1] done processing\n",
      "19:25:49 - cmdstanpy - INFO - Chain [1] done processing\n"
     ]
    },
    {
     "name": "stdout",
     "output_type": "stream",
     "text": [
      "It's overpredicted.\n",
      "Monthly Error: 85.15 Period MAE: 18.790000000000003\n",
      "It's underpredicted.\n",
      "Monthly Error: 46.82 Period MAE: 55.06999999999999\n"
     ]
    },
    {
     "name": "stderr",
     "output_type": "stream",
     "text": [
      "19:25:51 - cmdstanpy - INFO - Chain [1] start processing\n",
      "19:25:51 - cmdstanpy - INFO - Chain [1] start processing\n",
      "19:25:52 - cmdstanpy - INFO - Chain [1] done processing\n",
      "19:25:52 - cmdstanpy - INFO - Chain [1] done processing\n"
     ]
    },
    {
     "name": "stdout",
     "output_type": "stream",
     "text": [
      "It's overpredicted.\n",
      "Monthly Error: 72.77It's underpredicted.\n",
      " Monthly Error: Period MAE:46.82 11.72 \n",
      "Period MAE: 55.06999999999999\n",
      "It's underpredicted.\n",
      "Monthly Error: 46.82 Period MAE: 55.06999999999999\n"
     ]
    },
    {
     "name": "stderr",
     "output_type": "stream",
     "text": [
      "19:25:54 - cmdstanpy - INFO - Chain [1] start processing\n",
      "19:25:54 - cmdstanpy - INFO - Chain [1] start processing\n",
      "19:25:54 - cmdstanpy - INFO - Chain [1] done processing\n",
      "19:25:54 - cmdstanpy - INFO - Chain [1] done processing\n"
     ]
    },
    {
     "name": "stdout",
     "output_type": "stream",
     "text": [
      "It's overpredicted.\n",
      "Monthly Error: 72.77 Period MAE: 11.72\n"
     ]
    },
    {
     "name": "stderr",
     "output_type": "stream",
     "text": [
      "19:25:55 - cmdstanpy - INFO - Chain [1] start processing\n",
      "19:25:56 - cmdstanpy - INFO - Chain [1] start processing\n"
     ]
    },
    {
     "name": "stdout",
     "output_type": "stream",
     "text": [
      "It's underpredicted."
     ]
    },
    {
     "name": "stderr",
     "output_type": "stream",
     "text": [
      "19:25:56 - cmdstanpy - INFO - Chain [1] done processing\n"
     ]
    },
    {
     "name": "stdout",
     "output_type": "stream",
     "text": [
      "\n",
      "Monthly Error:"
     ]
    },
    {
     "name": "stderr",
     "output_type": "stream",
     "text": [
      "19:25:56 - cmdstanpy - INFO - Chain [1] done processing\n"
     ]
    },
    {
     "name": "stdout",
     "output_type": "stream",
     "text": [
      " 46.85 Period MAE: 55.08\n",
      "It's overpredicted.\n",
      "Monthly Error: 72.77 Period MAE: 11.72\n"
     ]
    },
    {
     "name": "stderr",
     "output_type": "stream",
     "text": [
      "19:25:57 - cmdstanpy - INFO - Chain [1] start processing\n",
      "19:25:58 - cmdstanpy - INFO - Chain [1] start processing\n",
      "19:25:58 - cmdstanpy - INFO - Chain [1] done processing\n"
     ]
    },
    {
     "name": "stdout",
     "output_type": "stream",
     "text": [
      "It's underpredicted.\n",
      "Monthly Error: 46.85 Period MAE: 55.08\n"
     ]
    },
    {
     "name": "stderr",
     "output_type": "stream",
     "text": [
      "19:25:59 - cmdstanpy - INFO - Chain [1] done processing\n"
     ]
    },
    {
     "name": "stdout",
     "output_type": "stream",
     "text": [
      "It's overpredicted.\n",
      "Monthly Error: 83.33 Period MAE: 19.03\n"
     ]
    },
    {
     "name": "stderr",
     "output_type": "stream",
     "text": [
      "19:26:00 - cmdstanpy - INFO - Chain [1] start processing\n"
     ]
    },
    {
     "name": "stdout",
     "output_type": "stream",
     "text": [
      "It's underpredicted.\n",
      "Monthly Error:"
     ]
    },
    {
     "name": "stderr",
     "output_type": "stream",
     "text": [
      "19:26:00 - cmdstanpy - INFO - Chain [1] start processing\n"
     ]
    },
    {
     "name": "stdout",
     "output_type": "stream",
     "text": [
      " 46.85 Period MAE: 55.08\n"
     ]
    },
    {
     "name": "stderr",
     "output_type": "stream",
     "text": [
      "19:26:01 - cmdstanpy - INFO - Chain [1] done processing\n",
      "19:26:02 - cmdstanpy - INFO - Chain [1] done processing\n",
      "19:26:02 - cmdstanpy - INFO - Chain [1] start processing\n"
     ]
    },
    {
     "name": "stdout",
     "output_type": "stream",
     "text": [
      "It's underpredicted.\n",
      "Monthly Error: 100.0 Period MAE: 100.0\n",
      "It's overpredicted.\n"
     ]
    },
    {
     "name": "stderr",
     "output_type": "stream",
     "text": [
      "19:26:03 - cmdstanpy - INFO - Chain [1] start processing\n"
     ]
    },
    {
     "name": "stdout",
     "output_type": "stream",
     "text": [
      "Monthly Error: 83.33 Period MAE: 19.03\n"
     ]
    },
    {
     "name": "stderr",
     "output_type": "stream",
     "text": [
      "19:26:04 - cmdstanpy - INFO - Chain [1] done processing\n",
      "19:26:04 - cmdstanpy - INFO - Chain [1] done processing\n"
     ]
    },
    {
     "name": "stdout",
     "output_type": "stream",
     "text": [
      "It's overpredicted.\n",
      "Monthly Error: 83.33 Period MAE: 19.03\n"
     ]
    },
    {
     "name": "stderr",
     "output_type": "stream",
     "text": [
      "19:26:05 - cmdstanpy - INFO - Chain [1] start processing\n",
      "19:26:06 - cmdstanpy - INFO - Chain [1] start processing\n"
     ]
    },
    {
     "name": "stdout",
     "output_type": "stream",
     "text": [
      "It's underpredicted.\n",
      "Monthly Error: 100.0 Period MAE: 100.0\n"
     ]
    },
    {
     "name": "stderr",
     "output_type": "stream",
     "text": [
      "19:26:06 - cmdstanpy - INFO - Chain [1] done processing\n",
      "19:26:07 - cmdstanpy - INFO - Chain [1] done processing\n"
     ]
    },
    {
     "name": "stdout",
     "output_type": "stream",
     "text": [
      "It's overpredicted.\n",
      "Monthly Error:"
     ]
    },
    {
     "name": "stderr",
     "output_type": "stream",
     "text": [
      "19:26:07 - cmdstanpy - INFO - Chain [1] start processing\n"
     ]
    },
    {
     "name": "stdout",
     "output_type": "stream",
     "text": [
      " 85.69 Period MAE: 21.4\n"
     ]
    },
    {
     "name": "stderr",
     "output_type": "stream",
     "text": [
      "19:26:08 - cmdstanpy - INFO - Chain [1] start processing\n",
      "19:26:08 - cmdstanpy - INFO - Chain [1] done processing\n",
      "19:26:09 - cmdstanpy - INFO - Chain [1] done processing\n"
     ]
    },
    {
     "name": "stdout",
     "output_type": "stream",
     "text": [
      "It's underpredicted.\n",
      "Monthly Error: 100.0 Period MAE: 100.0\n",
      "It's overpredicted.\n",
      "Monthly Error: 85.69 Period MAE: 21.4\n"
     ]
    },
    {
     "name": "stderr",
     "output_type": "stream",
     "text": [
      "19:26:10 - cmdstanpy - INFO - Chain [1] start processing\n",
      "19:26:11 - cmdstanpy - INFO - Chain [1] start processing\n",
      "19:26:11 - cmdstanpy - INFO - Chain [1] done processing\n"
     ]
    },
    {
     "name": "stdout",
     "output_type": "stream",
     "text": [
      "It's underpredicted.\n",
      "Monthly Error: 55.95 Period MAE: 72.46000000000001\n"
     ]
    },
    {
     "name": "stderr",
     "output_type": "stream",
     "text": [
      "19:26:12 - cmdstanpy - INFO - Chain [1] done processing\n"
     ]
    },
    {
     "name": "stdout",
     "output_type": "stream",
     "text": [
      "It's overpredicted.\n",
      "Monthly Error:"
     ]
    },
    {
     "name": "stderr",
     "output_type": "stream",
     "text": [
      "19:26:13 - cmdstanpy - INFO - Chain [1] start processing\n"
     ]
    },
    {
     "name": "stdout",
     "output_type": "stream",
     "text": [
      " 85.69 Period MAE: 21.4\n",
      "It's underpredicted.\n",
      "Monthly Error: 55.95 Period MAE: 72.46000000000001\n"
     ]
    },
    {
     "name": "stderr",
     "output_type": "stream",
     "text": [
      "19:26:13 - cmdstanpy - INFO - Chain [1] start processing\n",
      "19:26:14 - cmdstanpy - INFO - Chain [1] done processing\n",
      "19:26:14 - cmdstanpy - INFO - Chain [1] done processing\n",
      "19:26:15 - cmdstanpy - INFO - Chain [1] start processing\n"
     ]
    },
    {
     "name": "stdout",
     "output_type": "stream",
     "text": [
      "It's overpredicted.\n",
      "Monthly Error: 86.94 Period MAE: 22.75\n"
     ]
    },
    {
     "name": "stderr",
     "output_type": "stream",
     "text": [
      "19:26:16 - cmdstanpy - INFO - Chain [1] start processing\n",
      "19:26:16 - cmdstanpy - INFO - Chain [1] done processing\n"
     ]
    },
    {
     "name": "stdout",
     "output_type": "stream",
     "text": [
      "It's underpredicted.\n",
      "Monthly Error: 55.95 Period MAE: 72.46000000000001\n"
     ]
    },
    {
     "name": "stderr",
     "output_type": "stream",
     "text": [
      "19:26:16 - cmdstanpy - INFO - Chain [1] done processing\n"
     ]
    },
    {
     "name": "stdout",
     "output_type": "stream",
     "text": [
      "It's overpredicted.86.94\n",
      "Monthly Error:  Period MAE: 22.75\n"
     ]
    },
    {
     "name": "stderr",
     "output_type": "stream",
     "text": [
      "19:26:18 - cmdstanpy - INFO - Chain [1] start processing\n",
      "19:26:18 - cmdstanpy - INFO - Chain [1] start processing\n",
      "19:26:18 - cmdstanpy - INFO - Chain [1] done processing\n"
     ]
    },
    {
     "name": "stdout",
     "output_type": "stream",
     "text": [
      "It's underpredicted.\n",
      "Monthly Error: 100.0 Period MAE: 100.0\n"
     ]
    },
    {
     "name": "stderr",
     "output_type": "stream",
     "text": [
      "19:26:19 - cmdstanpy - INFO - Chain [1] done processing\n"
     ]
    },
    {
     "name": "stdout",
     "output_type": "stream",
     "text": [
      "It's overpredicted.\n",
      "Monthly Error: 86.94 Period MAE: 22.75\n"
     ]
    },
    {
     "name": "stderr",
     "output_type": "stream",
     "text": [
      "19:26:20 - cmdstanpy - INFO - Chain [1] start processing\n",
      "19:26:20 - cmdstanpy - INFO - Chain [1] start processing\n"
     ]
    },
    {
     "name": "stdout",
     "output_type": "stream",
     "text": [
      "It's underpredicted.\n",
      "Monthly Error: 100.0 Period MAE: 100.0\n"
     ]
    },
    {
     "name": "stderr",
     "output_type": "stream",
     "text": [
      "19:26:20 - cmdstanpy - INFO - Chain [1] done processing\n",
      "19:26:20 - cmdstanpy - INFO - Chain [1] done processing\n"
     ]
    },
    {
     "name": "stdout",
     "output_type": "stream",
     "text": [
      "It's overpredicted.\n",
      "Monthly Error: 83.29 Period MAE:19.6 \n"
     ]
    },
    {
     "name": "stderr",
     "output_type": "stream",
     "text": [
      "19:26:22 - cmdstanpy - INFO - Chain [1] start processing\n",
      "19:26:22 - cmdstanpy - INFO - Chain [1] start processing\n",
      "19:26:22 - cmdstanpy - INFO - Chain [1] done processing\n",
      "19:26:22 - cmdstanpy - INFO - Chain [1] done processing\n"
     ]
    },
    {
     "name": "stdout",
     "output_type": "stream",
     "text": [
      "It's underpredicted.\n",
      "Monthly Error: 100.0 Period MAE: 100.0\n",
      "It's overpredicted.\n",
      "Monthly Error: 83.29 Period MAE: 19.6\n"
     ]
    },
    {
     "name": "stderr",
     "output_type": "stream",
     "text": [
      "19:26:24 - cmdstanpy - INFO - Chain [1] start processing\n",
      "19:26:24 - cmdstanpy - INFO - Chain [1] start processing\n",
      "19:26:24 - cmdstanpy - INFO - Chain [1] done processing\n",
      "19:26:24 - cmdstanpy - INFO - Chain [1] done processing\n"
     ]
    },
    {
     "name": "stdout",
     "output_type": "stream",
     "text": [
      "It's underpredicted.\n",
      "Monthly Error: 46.84 Period MAE: 55.08\n",
      "It's overpredicted.\n",
      "Monthly Error: 83.29 Period MAE: 19.6\n"
     ]
    },
    {
     "name": "stderr",
     "output_type": "stream",
     "text": [
      "19:26:26 - cmdstanpy - INFO - Chain [1] start processing\n",
      "19:26:26 - cmdstanpy - INFO - Chain [1] start processing\n",
      "19:26:26 - cmdstanpy - INFO - Chain [1] done processing\n",
      "19:26:27 - cmdstanpy - INFO - Chain [1] done processing\n"
     ]
    },
    {
     "name": "stdout",
     "output_type": "stream",
     "text": [
      "It's underpredicted.\n",
      "Monthly Error: 46.84 Period MAE: 55.08\n",
      "It's overpredicted.\n",
      "Monthly Error: 84.51 Period MAE: 18.17\n"
     ]
    },
    {
     "name": "stderr",
     "output_type": "stream",
     "text": [
      "19:26:28 - cmdstanpy - INFO - Chain [1] start processing\n",
      "19:26:29 - cmdstanpy - INFO - Chain [1] start processing\n",
      "19:26:29 - cmdstanpy - INFO - Chain [1] done processing\n"
     ]
    },
    {
     "name": "stdout",
     "output_type": "stream",
     "text": [
      "It's underpredicted.\n",
      "Monthly Error: 46.84 Period MAE: 55.08\n"
     ]
    },
    {
     "name": "stderr",
     "output_type": "stream",
     "text": [
      "19:26:29 - cmdstanpy - INFO - Chain [1] done processing\n"
     ]
    },
    {
     "name": "stdout",
     "output_type": "stream",
     "text": [
      "It's overpredicted.\n",
      "Monthly Error: 84.51 Period MAE: 18.17\n"
     ]
    },
    {
     "name": "stderr",
     "output_type": "stream",
     "text": [
      "19:26:30 - cmdstanpy - INFO - Chain [1] start processing\n",
      "19:26:31 - cmdstanpy - INFO - Chain [1] start processing\n",
      "19:26:31 - cmdstanpy - INFO - Chain [1] done processing\n"
     ]
    },
    {
     "name": "stdout",
     "output_type": "stream",
     "text": [
      "It's underpredicted.\n",
      "Monthly Error: 46.84 Period MAE: 55.08\n"
     ]
    },
    {
     "name": "stderr",
     "output_type": "stream",
     "text": [
      "19:26:31 - cmdstanpy - INFO - Chain [1] done processing\n"
     ]
    },
    {
     "name": "stdout",
     "output_type": "stream",
     "text": [
      "It's overpredicted.\n",
      "Monthly Error: \n",
      "18.1784.51 Period MAE: "
     ]
    },
    {
     "name": "stderr",
     "output_type": "stream",
     "text": [
      "19:26:33 - cmdstanpy - INFO - Chain [1] start processing\n",
      "19:26:33 - cmdstanpy - INFO - Chain [1] start processing\n",
      "19:26:33 - cmdstanpy - INFO - Chain [1] done processing\n",
      "19:26:33 - cmdstanpy - INFO - Chain [1] done processing\n"
     ]
    },
    {
     "name": "stdout",
     "output_type": "stream",
     "text": [
      "It's underpredicted.\n",
      "Monthly Error: 46.84 Period MAE: 55.08\n",
      "It's overpredicted.Monthly Error:\n",
      " 72.5 Period MAE:11.3 \n"
     ]
    },
    {
     "name": "stderr",
     "output_type": "stream",
     "text": [
      "19:26:35 - cmdstanpy - INFO - Chain [1] start processing\n",
      "19:26:35 - cmdstanpy - INFO - Chain [1] start processing\n"
     ]
    },
    {
     "name": "stdout",
     "output_type": "stream",
     "text": [
      "It's underpredicted.\n"
     ]
    },
    {
     "name": "stderr",
     "output_type": "stream",
     "text": [
      "19:26:36 - cmdstanpy - INFO - Chain [1] done processing\n"
     ]
    },
    {
     "name": "stdout",
     "output_type": "stream",
     "text": [
      "Monthly Error: 46.84 Period MAE: 55.08\n"
     ]
    },
    {
     "name": "stderr",
     "output_type": "stream",
     "text": [
      "19:26:36 - cmdstanpy - INFO - Chain [1] done processing\n",
      "19:26:37 - cmdstanpy - INFO - Chain [1] start processing\n"
     ]
    },
    {
     "name": "stdout",
     "output_type": "stream",
     "text": [
      "It's overpredicted.\n",
      "Monthly Error: 72.5 Period MAE: 11.3\n"
     ]
    },
    {
     "name": "stderr",
     "output_type": "stream",
     "text": [
      "19:26:38 - cmdstanpy - INFO - Chain [1] done processing\n",
      "19:26:38 - cmdstanpy - INFO - Chain [1] start processing\n"
     ]
    },
    {
     "name": "stdout",
     "output_type": "stream",
     "text": [
      "It's underpredicted.\n",
      "Monthly Error: 46.84 Period MAE: 55.08\n"
     ]
    },
    {
     "name": "stderr",
     "output_type": "stream",
     "text": [
      "19:26:39 - cmdstanpy - INFO - Chain [1] done processing\n"
     ]
    },
    {
     "name": "stdout",
     "output_type": "stream",
     "text": [
      "It's overpredicted.\n",
      "Monthly Error: 72.5 Period MAE: 11.3\n"
     ]
    },
    {
     "name": "stderr",
     "output_type": "stream",
     "text": [
      "19:26:40 - cmdstanpy - INFO - Chain [1] start processing\n",
      "19:26:40 - cmdstanpy - INFO - Chain [1] start processing\n",
      "19:26:40 - cmdstanpy - INFO - Chain [1] done processing\n"
     ]
    },
    {
     "name": "stdout",
     "output_type": "stream",
     "text": [
      "It's underpredicted.\n",
      "Monthly Error: 46.84 Period MAE: 55.08\n"
     ]
    },
    {
     "name": "stderr",
     "output_type": "stream",
     "text": [
      "19:26:41 - cmdstanpy - INFO - Chain [1] done processing\n"
     ]
    },
    {
     "name": "stdout",
     "output_type": "stream",
     "text": [
      "It's overpredicted.\n",
      "Monthly Error: 83.33 Period MAE: 19.03\n"
     ]
    },
    {
     "name": "stderr",
     "output_type": "stream",
     "text": [
      "19:26:43 - cmdstanpy - INFO - Chain [1] start processing\n",
      "19:26:43 - cmdstanpy - INFO - Chain [1] start processing\n"
     ]
    },
    {
     "name": "stdout",
     "output_type": "stream",
     "text": [
      "It's underpredicted.\n",
      "Monthly Error: 46.84 Period MAE: 55.08\n"
     ]
    },
    {
     "name": "stderr",
     "output_type": "stream",
     "text": [
      "19:26:43 - cmdstanpy - INFO - Chain [1] done processing\n",
      "19:26:44 - cmdstanpy - INFO - Chain [1] done processing\n",
      "19:26:44 - cmdstanpy - INFO - Chain [1] start processing\n"
     ]
    },
    {
     "name": "stdout",
     "output_type": "stream",
     "text": [
      "It's overpredicted.\n",
      "Monthly Error: 83.33 Period MAE: It's underpredicted.19.03\n",
      "\n",
      "Monthly Error: 100.0 Period MAE: 100.0\n"
     ]
    },
    {
     "name": "stderr",
     "output_type": "stream",
     "text": [
      "19:26:45 - cmdstanpy - INFO - Chain [1] start processing\n",
      "19:26:45 - cmdstanpy - INFO - Chain [1] done processing\n",
      "19:26:46 - cmdstanpy - INFO - Chain [1] done processing\n"
     ]
    },
    {
     "name": "stdout",
     "output_type": "stream",
     "text": [
      "It's overpredicted."
     ]
    },
    {
     "name": "stderr",
     "output_type": "stream",
     "text": [
      "19:26:47 - cmdstanpy - INFO - Chain [1] start processing\n"
     ]
    },
    {
     "name": "stdout",
     "output_type": "stream",
     "text": [
      "\n",
      "Monthly Error: 83.33 Period MAE: 19.03\n"
     ]
    },
    {
     "name": "stderr",
     "output_type": "stream",
     "text": [
      "19:26:47 - cmdstanpy - INFO - Chain [1] start processing\n",
      "19:26:47 - cmdstanpy - INFO - Chain [1] done processing\n"
     ]
    },
    {
     "name": "stdout",
     "output_type": "stream",
     "text": [
      "It's underpredicted.\n"
     ]
    },
    {
     "name": "stderr",
     "output_type": "stream",
     "text": [
      "19:26:47 - cmdstanpy - INFO - Chain [1] done processing\n"
     ]
    },
    {
     "name": "stdout",
     "output_type": "stream",
     "text": [
      "Monthly Error: 100.0 Period MAE: 100.0\n",
      "It's overpredicted. \n",
      "Monthly Error:86.23 Period MAE: 22.12\n"
     ]
    },
    {
     "name": "stderr",
     "output_type": "stream",
     "text": [
      "19:26:49 - cmdstanpy - INFO - Chain [1] start processing\n",
      "19:26:49 - cmdstanpy - INFO - Chain [1] start processing\n",
      "19:26:50 - cmdstanpy - INFO - Chain [1] done processing\n",
      "19:26:50 - cmdstanpy - INFO - Chain [1] done processing\n"
     ]
    },
    {
     "name": "stdout",
     "output_type": "stream",
     "text": [
      "It's underpredicted.\n",
      "Monthly Error: 100.0 Period MAE: 100.0\n",
      "It's overpredicted.\n",
      "Monthly Error: 86.23 Period MAE: 22.12\n"
     ]
    },
    {
     "name": "stderr",
     "output_type": "stream",
     "text": [
      "19:26:52 - cmdstanpy - INFO - Chain [1] start processing\n",
      "19:26:52 - cmdstanpy - INFO - Chain [1] start processing\n",
      "19:26:52 - cmdstanpy - INFO - Chain [1] done processing\n"
     ]
    },
    {
     "name": "stdout",
     "output_type": "stream",
     "text": [
      "It's underpredicted.\n",
      "Monthly Error: 55.97 Period MAE: 72.48\n"
     ]
    },
    {
     "name": "stderr",
     "output_type": "stream",
     "text": [
      "19:26:53 - cmdstanpy - INFO - Chain [1] done processing\n"
     ]
    },
    {
     "name": "stdout",
     "output_type": "stream",
     "text": [
      "It's overpredicted.\n",
      "Monthly Error: 86.23 Period MAE: 22.12\n"
     ]
    },
    {
     "name": "stderr",
     "output_type": "stream",
     "text": [
      "19:26:54 - cmdstanpy - INFO - Chain [1] start processing\n",
      "19:26:54 - cmdstanpy - INFO - Chain [1] start processing\n"
     ]
    },
    {
     "name": "stdout",
     "output_type": "stream",
     "text": [
      "It's underpredicted.\n",
      "Monthly Error: 55.97 Period MAE:"
     ]
    },
    {
     "name": "stderr",
     "output_type": "stream",
     "text": [
      "19:26:54 - cmdstanpy - INFO - Chain [1] done processing\n"
     ]
    },
    {
     "name": "stdout",
     "output_type": "stream",
     "text": [
      " 72.48\n"
     ]
    },
    {
     "name": "stderr",
     "output_type": "stream",
     "text": [
      "19:26:55 - cmdstanpy - INFO - Chain [1] done processing\n",
      "19:26:56 - cmdstanpy - INFO - Chain [1] start processing\n"
     ]
    },
    {
     "name": "stdout",
     "output_type": "stream",
     "text": [
      "It's overpredicted.\n",
      "Monthly Error: 87.15 Period MAE: 22.919999999999998\n",
      "It's underpredicted.\n",
      "Monthly Error: 55.97 Period MAE: 72.48\n"
     ]
    },
    {
     "name": "stderr",
     "output_type": "stream",
     "text": [
      "19:26:57 - cmdstanpy - INFO - Chain [1] start processing\n",
      "19:26:57 - cmdstanpy - INFO - Chain [1] done processing\n",
      "19:26:57 - cmdstanpy - INFO - Chain [1] done processing\n"
     ]
    },
    {
     "name": "stdout",
     "output_type": "stream",
     "text": [
      "It's overpredicted.\n",
      "Monthly Error: 87.15 Period MAE: 22.919999999999998\n"
     ]
    },
    {
     "name": "stderr",
     "output_type": "stream",
     "text": [
      "19:26:58 - cmdstanpy - INFO - Chain [1] start processing\n",
      "19:26:59 - cmdstanpy - INFO - Chain [1] start processing\n"
     ]
    },
    {
     "name": "stdout",
     "output_type": "stream",
     "text": [
      "It's underpredicted.\n",
      "Monthly Error: 100.0 Period MAE:"
     ]
    },
    {
     "name": "stderr",
     "output_type": "stream",
     "text": [
      "19:26:59 - cmdstanpy - INFO - Chain [1] done processing\n"
     ]
    },
    {
     "name": "stdout",
     "output_type": "stream",
     "text": [
      " 100.0\n"
     ]
    },
    {
     "name": "stderr",
     "output_type": "stream",
     "text": [
      "19:27:00 - cmdstanpy - INFO - Chain [1] done processing\n"
     ]
    },
    {
     "name": "stdout",
     "output_type": "stream",
     "text": [
      "It's overpredicted.\n",
      "Monthly Error: 87.15 Period MAE: 22.919999999999998\n"
     ]
    },
    {
     "name": "stderr",
     "output_type": "stream",
     "text": [
      "19:27:01 - cmdstanpy - INFO - Chain [1] start processing\n",
      "19:27:01 - cmdstanpy - INFO - Chain [1] start processing\n",
      "19:27:01 - cmdstanpy - INFO - Chain [1] done processing\n",
      "19:27:01 - cmdstanpy - INFO - Chain [1] done processing\n"
     ]
    },
    {
     "name": "stdout",
     "output_type": "stream",
     "text": [
      "It's underpredicted.\n",
      "Monthly Error: 100.0 It's overpredicted.\n",
      "Period MAE:Monthly Error: 100.0 \n",
      "81.53 Period MAE: 17.580000000000002\n"
     ]
    },
    {
     "name": "stderr",
     "output_type": "stream",
     "text": [
      "19:27:04 - cmdstanpy - INFO - Chain [1] start processing\n",
      "19:27:04 - cmdstanpy - INFO - Chain [1] start processing\n",
      "19:27:04 - cmdstanpy - INFO - Chain [1] done processing\n",
      "19:27:05 - cmdstanpy - INFO - Chain [1] done processing\n"
     ]
    },
    {
     "name": "stdout",
     "output_type": "stream",
     "text": [
      "It's overpredicted.\n",
      "Monthly Error: 81.53 Period MAE:It's underpredicted.\n",
      "Monthly Error:  17.580000000000002100.0 Period MAE: 100.0\n",
      "\n",
      "It's underpredicted.\n",
      "Monthly Error: 37.73 Period MAE: 45.12\n"
     ]
    },
    {
     "name": "stderr",
     "output_type": "stream",
     "text": [
      "19:27:06 - cmdstanpy - INFO - Chain [1] start processing\n",
      "19:27:06 - cmdstanpy - INFO - Chain [1] start processing\n",
      "19:27:07 - cmdstanpy - INFO - Chain [1] done processing\n",
      "19:27:07 - cmdstanpy - INFO - Chain [1] done processing\n"
     ]
    },
    {
     "name": "stdout",
     "output_type": "stream",
     "text": [
      "It's overpredicted.\n",
      "Monthly Error: 81.53 Period MAE: 17.580000000000002\n"
     ]
    },
    {
     "name": "stderr",
     "output_type": "stream",
     "text": [
      "19:27:08 - cmdstanpy - INFO - Chain [1] start processing\n",
      "19:27:08 - cmdstanpy - INFO - Chain [1] start processing\n",
      "19:27:08 - cmdstanpy - INFO - Chain [1] done processing\n",
      "19:27:09 - cmdstanpy - INFO - Chain [1] done processing\n"
     ]
    },
    {
     "name": "stdout",
     "output_type": "stream",
     "text": [
      "It's underpredicted.\n",
      "Monthly Error: 37.73 Period MAE: 45.12\n",
      "It's overpredicted.\n",
      "Monthly Error: 86.75 Period MAE: 18.59\n"
     ]
    },
    {
     "name": "stderr",
     "output_type": "stream",
     "text": [
      "19:27:11 - cmdstanpy - INFO - Chain [1] start processing\n",
      "19:27:11 - cmdstanpy - INFO - Chain [1] start processing\n",
      "19:27:11 - cmdstanpy - INFO - Chain [1] done processing\n",
      "19:27:11 - cmdstanpy - INFO - Chain [1] done processing\n"
     ]
    },
    {
     "name": "stdout",
     "output_type": "stream",
     "text": [
      "It's underpredicted.\n",
      "Monthly Error: 37.73 Period MAE: 45.12\n",
      "It's overpredicted.\n",
      "Monthly Error: 86.75 Period MAE: 18.59\n"
     ]
    },
    {
     "name": "stderr",
     "output_type": "stream",
     "text": [
      "19:27:13 - cmdstanpy - INFO - Chain [1] start processing\n"
     ]
    },
    {
     "name": "stdout",
     "output_type": "stream",
     "text": [
      "It's underpredicted.\n",
      "Monthly Error: 37.77 Period MAE: 45.42\n"
     ]
    },
    {
     "name": "stderr",
     "output_type": "stream",
     "text": [
      "19:27:13 - cmdstanpy - INFO - Chain [1] start processing\n",
      "19:27:13 - cmdstanpy - INFO - Chain [1] done processing\n",
      "19:27:14 - cmdstanpy - INFO - Chain [1] done processing\n"
     ]
    },
    {
     "name": "stdout",
     "output_type": "stream",
     "text": [
      "It's overpredicted.\n",
      "Monthly Error: 86.75"
     ]
    },
    {
     "name": "stderr",
     "output_type": "stream",
     "text": [
      "19:27:15 - cmdstanpy - INFO - Chain [1] start processing\n"
     ]
    },
    {
     "name": "stdout",
     "output_type": "stream",
     "text": [
      " Period MAE: 18.59\n"
     ]
    },
    {
     "name": "stderr",
     "output_type": "stream",
     "text": [
      "19:27:15 - cmdstanpy - INFO - Chain [1] start processing\n",
      "19:27:15 - cmdstanpy - INFO - Chain [1] done processing\n",
      "19:27:15 - cmdstanpy - INFO - Chain [1] done processing\n"
     ]
    },
    {
     "name": "stdout",
     "output_type": "stream",
     "text": [
      "It's underpredicted.\n",
      "Monthly Error: 37.77 Period MAE: 45.42\n",
      "It's overpredicted.\n",
      "Monthly Error: 79.85 Period MAE: 16.3\n"
     ]
    },
    {
     "name": "stderr",
     "output_type": "stream",
     "text": [
      "19:27:17 - cmdstanpy - INFO - Chain [1] start processing\n",
      "19:27:17 - cmdstanpy - INFO - Chain [1] start processing\n",
      "19:27:17 - cmdstanpy - INFO - Chain [1] done processing\n",
      "19:27:18 - cmdstanpy - INFO - Chain [1] done processing\n"
     ]
    },
    {
     "name": "stdout",
     "output_type": "stream",
     "text": [
      "It's underpredicted.\n",
      "Monthly Error: 37.77 Period MAE: 45.42\n",
      "It's overpredicted.\n",
      "Monthly Error: 79.85 Period MAE: 16.3\n"
     ]
    },
    {
     "name": "stderr",
     "output_type": "stream",
     "text": [
      "19:27:19 - cmdstanpy - INFO - Chain [1] start processing\n"
     ]
    },
    {
     "name": "stdout",
     "output_type": "stream",
     "text": [
      "It's underpredicted.\n",
      "Monthly Error: 55.41 Period MAE: 62.339999999999996"
     ]
    },
    {
     "name": "stderr",
     "output_type": "stream",
     "text": [
      "19:27:20 - cmdstanpy - INFO - Chain [1] start processing\n"
     ]
    },
    {
     "name": "stdout",
     "output_type": "stream",
     "text": [
      "\n"
     ]
    },
    {
     "name": "stderr",
     "output_type": "stream",
     "text": [
      "19:27:20 - cmdstanpy - INFO - Chain [1] done processing\n",
      "19:27:20 - cmdstanpy - INFO - Chain [1] done processing\n"
     ]
    },
    {
     "name": "stdout",
     "output_type": "stream",
     "text": [
      "It's overpredicted.\n",
      "Monthly Error: 79.85 Period MAE: 16.3\n"
     ]
    },
    {
     "name": "stderr",
     "output_type": "stream",
     "text": [
      "19:27:21 - cmdstanpy - INFO - Chain [1] start processing\n",
      "19:27:21 - cmdstanpy - INFO - Chain [1] start processing\n",
      "19:27:22 - cmdstanpy - INFO - Chain [1] done processing\n",
      "19:27:22 - cmdstanpy - INFO - Chain [1] done processing\n"
     ]
    },
    {
     "name": "stdout",
     "output_type": "stream",
     "text": [
      "It's underpredicted.\n",
      "Monthly Error: 55.41 Period MAE:It's underpredicted.\n",
      "Monthly Error: 62.339999999999996 \n",
      "71.36 Period MAE: 7.02\n"
     ]
    },
    {
     "name": "stderr",
     "output_type": "stream",
     "text": [
      "19:27:23 - cmdstanpy - INFO - Chain [1] start processing\n",
      "19:27:24 - cmdstanpy - INFO - Chain [1] start processing\n",
      "19:27:24 - cmdstanpy - INFO - Chain [1] done processing\n",
      "19:27:24 - cmdstanpy - INFO - Chain [1] done processing\n"
     ]
    },
    {
     "name": "stdout",
     "output_type": "stream",
     "text": [
      "It's underpredicted.\n",
      "Monthly Error: 71.36 Period MAE: 7.02\n",
      "It's underpredicted.\n",
      "Monthly Error: 55.41 Period MAE: 62.339999999999996\n"
     ]
    },
    {
     "name": "stderr",
     "output_type": "stream",
     "text": [
      "19:27:26 - cmdstanpy - INFO - Chain [1] start processing\n"
     ]
    },
    {
     "name": "stdout",
     "output_type": "stream",
     "text": [
      "It's underpredicted.\n",
      "Monthly Error:"
     ]
    },
    {
     "name": "stderr",
     "output_type": "stream",
     "text": [
      "19:27:26 - cmdstanpy - INFO - Chain [1] start processing\n"
     ]
    },
    {
     "name": "stdout",
     "output_type": "stream",
     "text": [
      " 100.0 Period MAE: 100.0\n"
     ]
    },
    {
     "name": "stderr",
     "output_type": "stream",
     "text": [
      "19:27:26 - cmdstanpy - INFO - Chain [1] done processing\n",
      "19:27:26 - cmdstanpy - INFO - Chain [1] done processing\n"
     ]
    },
    {
     "name": "stdout",
     "output_type": "stream",
     "text": [
      "It's underpredicted.\n",
      "Monthly Error: 71.36 Period MAE: 7.02\n"
     ]
    },
    {
     "name": "stderr",
     "output_type": "stream",
     "text": [
      "19:27:28 - cmdstanpy - INFO - Chain [1] start processing\n"
     ]
    },
    {
     "name": "stdout",
     "output_type": "stream",
     "text": [
      "It's underpredicted.\n",
      "Monthly Error: 100.0 Period MAE: "
     ]
    },
    {
     "name": "stderr",
     "output_type": "stream",
     "text": [
      "19:27:28 - cmdstanpy - INFO - Chain [1] start processing\n"
     ]
    },
    {
     "name": "stdout",
     "output_type": "stream",
     "text": [
      "100.0\n"
     ]
    },
    {
     "name": "stderr",
     "output_type": "stream",
     "text": [
      "19:27:28 - cmdstanpy - INFO - Chain [1] done processing\n",
      "19:27:28 - cmdstanpy - INFO - Chain [1] done processing\n"
     ]
    },
    {
     "name": "stdout",
     "output_type": "stream",
     "text": [
      "It's overpredicted.\n",
      "Monthly Error: 84.94 Period MAE: 1.11\n"
     ]
    },
    {
     "name": "stderr",
     "output_type": "stream",
     "text": [
      "19:27:30 - cmdstanpy - INFO - Chain [1] start processing\n",
      "19:27:30 - cmdstanpy - INFO - Chain [1] start processing\n",
      "19:27:30 - cmdstanpy - INFO - Chain [1] done processing\n",
      "19:27:30 - cmdstanpy - INFO - Chain [1] done processing\n"
     ]
    },
    {
     "name": "stdout",
     "output_type": "stream",
     "text": [
      "It's underpredicted.\n",
      "Monthly Error: 100.0 Period MAE: 100.0\n",
      "It's overpredicted.\n",
      "Monthly Error: 84.94 Period MAE: 1.11\n"
     ]
    },
    {
     "name": "stderr",
     "output_type": "stream",
     "text": [
      "19:27:32 - cmdstanpy - INFO - Chain [1] start processing\n",
      "19:27:32 - cmdstanpy - INFO - Chain [1] start processing\n",
      "19:27:33 - cmdstanpy - INFO - Chain [1] done processing\n"
     ]
    },
    {
     "name": "stdout",
     "output_type": "stream",
     "text": [
      "It's underpredicted.\n",
      "Monthly Error: 60.1 Period MAE: 75.06\n"
     ]
    },
    {
     "name": "stderr",
     "output_type": "stream",
     "text": [
      "19:27:33 - cmdstanpy - INFO - Chain [1] done processing\n"
     ]
    },
    {
     "name": "stdout",
     "output_type": "stream",
     "text": [
      "It's overpredicted.\n",
      "Monthly Error: 84.94 Period MAE: 1.11\n"
     ]
    },
    {
     "name": "stderr",
     "output_type": "stream",
     "text": [
      "19:27:34 - cmdstanpy - INFO - Chain [1] start processing\n",
      "19:27:35 - cmdstanpy - INFO - Chain [1] start processing\n"
     ]
    },
    {
     "name": "stdout",
     "output_type": "stream",
     "text": [
      "It's underpredicted.\n",
      "Monthly Error: 60.1 Period MAE: 75.06\n"
     ]
    },
    {
     "name": "stderr",
     "output_type": "stream",
     "text": [
      "19:27:35 - cmdstanpy - INFO - Chain [1] done processing\n",
      "19:27:35 - cmdstanpy - INFO - Chain [1] done processing\n"
     ]
    },
    {
     "name": "stdout",
     "output_type": "stream",
     "text": [
      "It's overpredicted.\n",
      "Monthly Error: 81.5 Period MAE: 2.44\n"
     ]
    },
    {
     "name": "stderr",
     "output_type": "stream",
     "text": [
      "19:27:36 - cmdstanpy - INFO - Chain [1] start processing\n",
      "19:27:36 - cmdstanpy - INFO - Chain [1] start processing\n",
      "19:27:37 - cmdstanpy - INFO - Chain [1] done processing\n",
      "19:27:37 - cmdstanpy - INFO - Chain [1] done processing\n"
     ]
    },
    {
     "name": "stdout",
     "output_type": "stream",
     "text": [
      "It's underpredicted.\n",
      "Monthly Error: 60.1 Period MAE: 75.06\n",
      "It's overpredicted.\n",
      "Monthly Error: 81.5 Period MAE: 2.44\n"
     ]
    },
    {
     "name": "stderr",
     "output_type": "stream",
     "text": [
      "19:27:39 - cmdstanpy - INFO - Chain [1] start processing\n",
      "19:27:39 - cmdstanpy - INFO - Chain [1] start processing\n",
      "19:27:39 - cmdstanpy - INFO - Chain [1] done processing\n",
      "19:27:39 - cmdstanpy - INFO - Chain [1] done processing\n"
     ]
    },
    {
     "name": "stdout",
     "output_type": "stream",
     "text": [
      "It's underpredicted.\n",
      "Monthly Error: 100.0 Period MAE: 100.0\n",
      "It's overpredicted.\n",
      "Monthly Error: 81.5 Period MAE: 2.44\n"
     ]
    },
    {
     "name": "stderr",
     "output_type": "stream",
     "text": [
      "19:27:42 - cmdstanpy - INFO - Chain [1] start processing\n"
     ]
    },
    {
     "name": "stdout",
     "output_type": "stream",
     "text": [
      "It's underpredicted.\n",
      "Monthly Error: 100.0 Period MAE: 100.0\n"
     ]
    },
    {
     "name": "stderr",
     "output_type": "stream",
     "text": [
      "19:27:42 - cmdstanpy - INFO - Chain [1] start processing\n",
      "19:27:42 - cmdstanpy - INFO - Chain [1] done processing\n",
      "19:27:42 - cmdstanpy - INFO - Chain [1] done processing\n"
     ]
    },
    {
     "name": "stdout",
     "output_type": "stream",
     "text": [
      "It's overpredicted.\n",
      "Monthly Error: 81.53 Period MAE: 17.580000000000002\n"
     ]
    },
    {
     "name": "stderr",
     "output_type": "stream",
     "text": [
      "19:27:43 - cmdstanpy - INFO - Chain [1] start processing\n",
      "19:27:44 - cmdstanpy - INFO - Chain [1] start processing\n",
      "19:27:44 - cmdstanpy - INFO - Chain [1] done processing\n",
      "19:27:44 - cmdstanpy - INFO - Chain [1] done processing\n"
     ]
    },
    {
     "name": "stdout",
     "output_type": "stream",
     "text": [
      "It's overpredicted.\n",
      "Monthly Error:It's underpredicted. \n",
      "Monthly Error: 81.53 100.0Period MAE: Period MAE:  17.580000000000002\n",
      "100.0\n"
     ]
    },
    {
     "name": "stderr",
     "output_type": "stream",
     "text": [
      "19:27:46 - cmdstanpy - INFO - Chain [1] start processing\n",
      "19:27:46 - cmdstanpy - INFO - Chain [1] start processing\n",
      "19:27:46 - cmdstanpy - INFO - Chain [1] done processing\n",
      "19:27:46 - cmdstanpy - INFO - Chain [1] done processing\n"
     ]
    },
    {
     "name": "stdout",
     "output_type": "stream",
     "text": [
      "It's overpredicted.\n",
      "Monthly Error: 81.53 Period MAE: 17.580000000000002\n",
      "It's underpredicted.\n",
      "Monthly Error: 37.73 Period MAE: 45.12\n",
      "It's underpredicted.\n",
      "Monthly Error: 37.73 Period MAE: 45.12\n"
     ]
    },
    {
     "name": "stderr",
     "output_type": "stream",
     "text": [
      "19:27:48 - cmdstanpy - INFO - Chain [1] start processing\n",
      "19:27:49 - cmdstanpy - INFO - Chain [1] start processing\n",
      "19:27:49 - cmdstanpy - INFO - Chain [1] done processing\n",
      "19:27:49 - cmdstanpy - INFO - Chain [1] done processing\n"
     ]
    },
    {
     "name": "stdout",
     "output_type": "stream",
     "text": [
      "It's underpredicted.\n"
     ]
    },
    {
     "name": "stderr",
     "output_type": "stream",
     "text": [
      "19:27:50 - cmdstanpy - INFO - Chain [1] start processing\n"
     ]
    },
    {
     "name": "stdout",
     "output_type": "stream",
     "text": [
      "Monthly Error:It's overpredicted. \n",
      "37.73Monthly Error:  Period MAE:86.51 Period MAE:  18.445.12\n",
      "\n"
     ]
    },
    {
     "name": "stderr",
     "output_type": "stream",
     "text": [
      "19:27:50 - cmdstanpy - INFO - Chain [1] start processing\n",
      "19:27:51 - cmdstanpy - INFO - Chain [1] done processing\n",
      "19:27:51 - cmdstanpy - INFO - Chain [1] done processing\n"
     ]
    },
    {
     "name": "stdout",
     "output_type": "stream",
     "text": [
      "It's overpredicted.\n",
      "Monthly Error: 86.51 Period MAE: 18.4\n"
     ]
    },
    {
     "name": "stderr",
     "output_type": "stream",
     "text": [
      "19:27:52 - cmdstanpy - INFO - Chain [1] start processing\n",
      "19:27:52 - cmdstanpy - INFO - Chain [1] start processing\n",
      "19:27:52 - cmdstanpy - INFO - Chain [1] done processing\n",
      "19:27:53 - cmdstanpy - INFO - Chain [1] done processing\n"
     ]
    },
    {
     "name": "stdout",
     "output_type": "stream",
     "text": [
      "It's underpredicted.\n",
      "Monthly Error: 37.73 Period MAE: 45.29\n",
      "It's overpredicted.\n",
      "Monthly Error: 86.51 Period MAE: 18.4\n"
     ]
    },
    {
     "name": "stderr",
     "output_type": "stream",
     "text": [
      "19:27:54 - cmdstanpy - INFO - Chain [1] start processing\n",
      "19:27:55 - cmdstanpy - INFO - Chain [1] start processing\n",
      "19:27:55 - cmdstanpy - INFO - Chain [1] done processing\n",
      "19:27:55 - cmdstanpy - INFO - Chain [1] done processing\n"
     ]
    },
    {
     "name": "stdout",
     "output_type": "stream",
     "text": [
      "It's underpredicted.\n",
      "Monthly Error: 37.73 Period MAE: 45.29\n",
      "It's overpredicted.\n",
      "Monthly Error: 72.31 Period MAE: 10.51\n",
      "It's underpredicted.\n",
      "Monthly Error: 37.73 "
     ]
    },
    {
     "name": "stderr",
     "output_type": "stream",
     "text": [
      "19:27:57 - cmdstanpy - INFO - Chain [1] start processing\n"
     ]
    },
    {
     "name": "stdout",
     "output_type": "stream",
     "text": [
      "Period MAE: 45.29\n"
     ]
    },
    {
     "name": "stderr",
     "output_type": "stream",
     "text": [
      "19:27:57 - cmdstanpy - INFO - Chain [1] start processing\n",
      "19:27:58 - cmdstanpy - INFO - Chain [1] done processing\n",
      "19:27:58 - cmdstanpy - INFO - Chain [1] done processing\n",
      "19:27:59 - cmdstanpy - INFO - Chain [1] start processing\n"
     ]
    },
    {
     "name": "stdout",
     "output_type": "stream",
     "text": [
      "It's overpredicted.\n",
      "Monthly Error: 72.31 Period MAE: 10.51\n",
      "It's underpredicted.\n",
      "Monthly Error: 41.16 Period MAE: 50.05\n"
     ]
    },
    {
     "name": "stderr",
     "output_type": "stream",
     "text": [
      "19:27:59 - cmdstanpy - INFO - Chain [1] start processing\n",
      "19:28:00 - cmdstanpy - INFO - Chain [1] done processing\n",
      "19:28:00 - cmdstanpy - INFO - Chain [1] done processing\n"
     ]
    },
    {
     "name": "stdout",
     "output_type": "stream",
     "text": [
      "It's overpredicted.\n",
      "Monthly Error: 72.31 Period MAE: 10.51\n"
     ]
    },
    {
     "name": "stderr",
     "output_type": "stream",
     "text": [
      "19:28:01 - cmdstanpy - INFO - Chain [1] start processing\n",
      "19:28:01 - cmdstanpy - INFO - Chain [1] start processing\n",
      "19:28:01 - cmdstanpy - INFO - Chain [1] done processing\n",
      "19:28:01 - cmdstanpy - INFO - Chain [1] done processing\n"
     ]
    },
    {
     "name": "stdout",
     "output_type": "stream",
     "text": [
      "It's underpredicted.\n",
      "Monthly Error: 71.36 Period MAE: It's underpredicted.7.02\n",
      "\n",
      "Monthly Error: 41.16 Period MAE: 50.05\n"
     ]
    },
    {
     "name": "stderr",
     "output_type": "stream",
     "text": [
      "19:28:04 - cmdstanpy - INFO - Chain [1] start processing\n",
      "19:28:04 - cmdstanpy - INFO - Chain [1] start processing\n",
      "19:28:04 - cmdstanpy - INFO - Chain [1] done processing\n",
      "19:28:05 - cmdstanpy - INFO - Chain [1] done processing\n"
     ]
    },
    {
     "name": "stdout",
     "output_type": "stream",
     "text": [
      "It's underpredicted.\n",
      "Monthly Error: 71.36 Period MAE: 7.02\n",
      "It's underpredicted.\n",
      "Monthly Error: 41.16 Period MAE: 50.05\n",
      "It's underpredicted.\n",
      "Monthly Error: 100.0 Period MAE: 100.0\n"
     ]
    },
    {
     "name": "stderr",
     "output_type": "stream",
     "text": [
      "19:28:07 - cmdstanpy - INFO - Chain [1] start processing\n",
      "19:28:07 - cmdstanpy - INFO - Chain [1] start processing\n",
      "19:28:07 - cmdstanpy - INFO - Chain [1] done processing\n",
      "19:28:07 - cmdstanpy - INFO - Chain [1] done processing\n"
     ]
    },
    {
     "name": "stdout",
     "output_type": "stream",
     "text": [
      "It's underpredicted.\n",
      "Monthly Error: 71.36 Period MAE: 7.02\n"
     ]
    },
    {
     "name": "stderr",
     "output_type": "stream",
     "text": [
      "19:28:08 - cmdstanpy - INFO - Chain [1] start processing\n",
      "19:28:08 - cmdstanpy - INFO - Chain [1] start processing\n",
      "19:28:09 - cmdstanpy - INFO - Chain [1] done processing\n"
     ]
    },
    {
     "name": "stdout",
     "output_type": "stream",
     "text": [
      "It's underpredicted.\n",
      "Monthly Error: "
     ]
    },
    {
     "name": "stderr",
     "output_type": "stream",
     "text": [
      "19:28:09 - cmdstanpy - INFO - Chain [1] done processing\n"
     ]
    },
    {
     "name": "stdout",
     "output_type": "stream",
     "text": [
      "100.0 Period MAE: 100.0\n",
      "It's overpredicted.\n",
      "Monthly Error: 86.52 Period MAE: 2.55\n"
     ]
    },
    {
     "name": "stderr",
     "output_type": "stream",
     "text": [
      "19:28:10 - cmdstanpy - INFO - Chain [1] start processing\n",
      "19:28:11 - cmdstanpy - INFO - Chain [1] start processing\n",
      "19:28:11 - cmdstanpy - INFO - Chain [1] done processing\n",
      "19:28:11 - cmdstanpy - INFO - Chain [1] done processing\n"
     ]
    },
    {
     "name": "stdout",
     "output_type": "stream",
     "text": [
      "It's underpredicted.\n",
      "Monthly Error: 100.0 Period MAE: 100.0\n",
      "It's overpredicted.\n",
      "Monthly Error: 86.52 Period MAE: 2.55\n"
     ]
    },
    {
     "name": "stderr",
     "output_type": "stream",
     "text": [
      "19:28:13 - cmdstanpy - INFO - Chain [1] start processing\n"
     ]
    },
    {
     "name": "stdout",
     "output_type": "stream",
     "text": [
      "It's underpredicted.\n",
      "Monthly Error: 56.0 Period MAE: 72.5\n"
     ]
    },
    {
     "name": "stderr",
     "output_type": "stream",
     "text": [
      "19:28:13 - cmdstanpy - INFO - Chain [1] start processing\n",
      "19:28:13 - cmdstanpy - INFO - Chain [1] done processing\n",
      "19:28:14 - cmdstanpy - INFO - Chain [1] done processing\n"
     ]
    },
    {
     "name": "stdout",
     "output_type": "stream",
     "text": [
      "It's overpredicted.\n"
     ]
    },
    {
     "name": "stderr",
     "output_type": "stream",
     "text": [
      "19:28:15 - cmdstanpy - INFO - Chain [1] start processing\n"
     ]
    },
    {
     "name": "stdout",
     "output_type": "stream",
     "text": [
      "Monthly Error: 86.52 Period MAE: 2.55\n"
     ]
    },
    {
     "name": "stderr",
     "output_type": "stream",
     "text": [
      "19:28:15 - cmdstanpy - INFO - Chain [1] start processing\n"
     ]
    },
    {
     "name": "stdout",
     "output_type": "stream",
     "text": [
      "It's underpredicted.\n",
      "Monthly Error: 56.0 "
     ]
    },
    {
     "name": "stderr",
     "output_type": "stream",
     "text": [
      "19:28:15 - cmdstanpy - INFO - Chain [1] done processing\n"
     ]
    },
    {
     "name": "stdout",
     "output_type": "stream",
     "text": [
      "Period MAE: 72.5\n"
     ]
    },
    {
     "name": "stderr",
     "output_type": "stream",
     "text": [
      "19:28:15 - cmdstanpy - INFO - Chain [1] done processing\n"
     ]
    },
    {
     "name": "stdout",
     "output_type": "stream",
     "text": [
      "It's underpredicted.\n",
      "Monthly Error: 72.82 Period MAE: 4.62\n"
     ]
    },
    {
     "name": "stderr",
     "output_type": "stream",
     "text": [
      "19:28:17 - cmdstanpy - INFO - Chain [1] start processing\n",
      "19:28:17 - cmdstanpy - INFO - Chain [1] start processing\n",
      "19:28:17 - cmdstanpy - INFO - Chain [1] done processing\n"
     ]
    },
    {
     "name": "stdout",
     "output_type": "stream",
     "text": [
      "It's underpredicted.\n",
      "Monthly Error: 56.0 Period MAE: 72.5\n"
     ]
    },
    {
     "name": "stderr",
     "output_type": "stream",
     "text": [
      "19:28:18 - cmdstanpy - INFO - Chain [1] done processing\n"
     ]
    },
    {
     "name": "stdout",
     "output_type": "stream",
     "text": [
      "It's underpredicted.\n",
      "Monthly Error: 72.82 Period MAE: 4.62\n"
     ]
    },
    {
     "name": "stderr",
     "output_type": "stream",
     "text": [
      "19:28:19 - cmdstanpy - INFO - Chain [1] start processing\n",
      "19:28:19 - cmdstanpy - INFO - Chain [1] start processing\n",
      "19:28:20 - cmdstanpy - INFO - Chain [1] done processing\n",
      "19:28:20 - cmdstanpy - INFO - Chain [1] done processing\n"
     ]
    },
    {
     "name": "stdout",
     "output_type": "stream",
     "text": [
      "It's underpredicted.\n",
      "Monthly Error: 100.0 Period MAE: 100.0\n",
      "It's underpredicted.\n",
      "Monthly Error: 72.82 Period MAE: 4.62\n"
     ]
    },
    {
     "name": "stderr",
     "output_type": "stream",
     "text": [
      "19:28:22 - cmdstanpy - INFO - Chain [1] start processing\n"
     ]
    },
    {
     "name": "stdout",
     "output_type": "stream",
     "text": [
      "It's underpredicted.\n",
      "Monthly Error: 100.0 Period MAE: 100.0\n"
     ]
    },
    {
     "name": "stderr",
     "output_type": "stream",
     "text": [
      "19:28:22 - cmdstanpy - INFO - Chain [1] start processing\n",
      "19:28:22 - cmdstanpy - INFO - Chain [1] done processing\n",
      "19:28:22 - cmdstanpy - INFO - Chain [1] done processing\n"
     ]
    },
    {
     "name": "stdout",
     "output_type": "stream",
     "text": [
      "It's overpredicted.\n",
      "Monthly Error:81.53  Period MAE: 17.580000000000002\n"
     ]
    },
    {
     "name": "stderr",
     "output_type": "stream",
     "text": [
      "19:28:24 - cmdstanpy - INFO - Chain [1] start processing\n",
      "19:28:24 - cmdstanpy - INFO - Chain [1] start processing\n",
      "19:28:24 - cmdstanpy - INFO - Chain [1] done processing\n",
      "19:28:24 - cmdstanpy - INFO - Chain [1] done processing\n"
     ]
    },
    {
     "name": "stdout",
     "output_type": "stream",
     "text": [
      "It's underpredicted.\n",
      "Monthly Error: 100.0 Period MAE: 100.0\n",
      "It's overpredicted.\n",
      "Monthly Error: 81.53 Period MAE: 17.580000000000002\n"
     ]
    },
    {
     "name": "stderr",
     "output_type": "stream",
     "text": [
      "19:28:26 - cmdstanpy - INFO - Chain [1] start processing\n",
      "19:28:26 - cmdstanpy - INFO - Chain [1] start processing\n",
      "19:28:26 - cmdstanpy - INFO - Chain [1] done processing\n",
      "19:28:26 - cmdstanpy - INFO - Chain [1] done processing\n"
     ]
    },
    {
     "name": "stdout",
     "output_type": "stream",
     "text": [
      "It's overpredicted.\n",
      "Monthly Error: 81.53 Period MAE: 17.580000000000002\n",
      "It's underpredicted.\n",
      "Monthly Error: 37.73 Period MAE: 45.12\n"
     ]
    },
    {
     "name": "stderr",
     "output_type": "stream",
     "text": [
      "19:28:28 - cmdstanpy - INFO - Chain [1] start processing\n"
     ]
    },
    {
     "name": "stdout",
     "output_type": "stream",
     "text": [
      "It's underpredicted.\n",
      "Monthly Error: 37.73 Period MAE: 45.12\n"
     ]
    },
    {
     "name": "stderr",
     "output_type": "stream",
     "text": [
      "19:28:28 - cmdstanpy - INFO - Chain [1] start processing\n",
      "19:28:29 - cmdstanpy - INFO - Chain [1] done processing\n",
      "19:28:29 - cmdstanpy - INFO - Chain [1] done processing\n",
      "19:28:30 - cmdstanpy - INFO - Chain [1] start processing\n"
     ]
    },
    {
     "name": "stdout",
     "output_type": "stream",
     "text": [
      "It's overpredicted.\n",
      "Monthly Error: 86.61 Period MAE: 18.43\n",
      "It's underpredicted.\n",
      "Monthly Error: 37.73 Period MAE: 45.12\n"
     ]
    },
    {
     "name": "stderr",
     "output_type": "stream",
     "text": [
      "19:28:31 - cmdstanpy - INFO - Chain [1] start processing\n",
      "19:28:31 - cmdstanpy - INFO - Chain [1] done processing\n",
      "19:28:31 - cmdstanpy - INFO - Chain [1] done processing\n",
      "19:28:32 - cmdstanpy - INFO - Chain [1] start processing\n"
     ]
    },
    {
     "name": "stdout",
     "output_type": "stream",
     "text": [
      "It's overpredicted.\n",
      "Monthly Error: 86.61 Period MAE: 18.43\n"
     ]
    },
    {
     "name": "stderr",
     "output_type": "stream",
     "text": [
      "19:28:33 - cmdstanpy - INFO - Chain [1] start processing\n",
      "19:28:33 - cmdstanpy - INFO - Chain [1] done processing\n",
      "19:28:33 - cmdstanpy - INFO - Chain [1] done processing\n"
     ]
    },
    {
     "name": "stdout",
     "output_type": "stream",
     "text": [
      "It's underpredicted.\n",
      "Monthly Error: 37.98 Period MAE: 45.6\n",
      "It's overpredicted.\n",
      "Monthly Error: 86.61 Period MAE: 18.43\n"
     ]
    },
    {
     "name": "stderr",
     "output_type": "stream",
     "text": [
      "19:28:35 - cmdstanpy - INFO - Chain [1] start processing\n",
      "19:28:35 - cmdstanpy - INFO - Chain [1] start processing\n",
      "19:28:35 - cmdstanpy - INFO - Chain [1] done processing\n",
      "19:28:35 - cmdstanpy - INFO - Chain [1] done processing\n"
     ]
    },
    {
     "name": "stdout",
     "output_type": "stream",
     "text": [
      "It's underpredicted.\n",
      "Monthly Error: 37.98 Period MAE: 45.6\n",
      "It's overpredicted.\n",
      "Monthly Error: 71.84 Period MAE: 10.31\n",
      "It's underpredicted.\n",
      "Monthly Error: 37.98 "
     ]
    },
    {
     "name": "stderr",
     "output_type": "stream",
     "text": [
      "19:28:38 - cmdstanpy - INFO - Chain [1] start processing\n"
     ]
    },
    {
     "name": "stdout",
     "output_type": "stream",
     "text": [
      "Period MAE: 45.6\n"
     ]
    },
    {
     "name": "stderr",
     "output_type": "stream",
     "text": [
      "19:28:38 - cmdstanpy - INFO - Chain [1] start processing\n",
      "19:28:38 - cmdstanpy - INFO - Chain [1] done processing\n",
      "19:28:39 - cmdstanpy - INFO - Chain [1] done processing\n",
      "19:28:39 - cmdstanpy - INFO - Chain [1] start processing\n"
     ]
    },
    {
     "name": "stdout",
     "output_type": "stream",
     "text": [
      "It's overpredicted.\n",
      "Monthly Error: 71.84 Period MAE: 10.31\n",
      "It's underpredicted.\n",
      "Monthly Error: 38.3 Period MAE: 43.3\n"
     ]
    },
    {
     "name": "stderr",
     "output_type": "stream",
     "text": [
      "19:28:40 - cmdstanpy - INFO - Chain [1] done processing\n",
      "19:28:40 - cmdstanpy - INFO - Chain [1] start processing\n",
      "19:28:40 - cmdstanpy - INFO - Chain [1] done processing\n"
     ]
    },
    {
     "name": "stdout",
     "output_type": "stream",
     "text": [
      "It's overpredicted.\n",
      "Monthly Error: 71.84 Period MAE: 10.31\n"
     ]
    },
    {
     "name": "stderr",
     "output_type": "stream",
     "text": [
      "19:28:42 - cmdstanpy - INFO - Chain [1] start processing\n",
      "19:28:42 - cmdstanpy - INFO - Chain [1] start processing\n",
      "19:28:42 - cmdstanpy - INFO - Chain [1] done processing\n",
      "19:28:42 - cmdstanpy - INFO - Chain [1] done processing\n"
     ]
    },
    {
     "name": "stdout",
     "output_type": "stream",
     "text": [
      "It's underpredicted.\n",
      "Monthly Error: 38.3 Period MAE: 43.3\n",
      "It's underpredicted.\n",
      "Monthly Error: 71.36 Period MAE: 7.02\n"
     ]
    },
    {
     "name": "stderr",
     "output_type": "stream",
     "text": [
      "19:28:45 - cmdstanpy - INFO - Chain [1] start processing\n",
      "19:28:45 - cmdstanpy - INFO - Chain [1] start processing\n",
      "19:28:45 - cmdstanpy - INFO - Chain [1] done processing\n",
      "19:28:45 - cmdstanpy - INFO - Chain [1] done processing\n"
     ]
    },
    {
     "name": "stdout",
     "output_type": "stream",
     "text": [
      "It's underpredicted.\n",
      "Monthly Error: 38.3 Period MAE: 43.3\n",
      "It's underpredicted.\n",
      "Monthly Error: 71.36 Period MAE: 7.02\n"
     ]
    },
    {
     "name": "stderr",
     "output_type": "stream",
     "text": [
      "19:28:47 - cmdstanpy - INFO - Chain [1] start processing\n"
     ]
    },
    {
     "name": "stdout",
     "output_type": "stream",
     "text": [
      "It's underpredicted.\n",
      "Monthly Error: "
     ]
    },
    {
     "name": "stderr",
     "output_type": "stream",
     "text": [
      "19:28:47 - cmdstanpy - INFO - Chain [1] start processing\n"
     ]
    },
    {
     "name": "stdout",
     "output_type": "stream",
     "text": [
      "100.0 Period MAE: 100.0\n"
     ]
    },
    {
     "name": "stderr",
     "output_type": "stream",
     "text": [
      "19:28:48 - cmdstanpy - INFO - Chain [1] done processing\n",
      "19:28:48 - cmdstanpy - INFO - Chain [1] done processing\n"
     ]
    },
    {
     "name": "stdout",
     "output_type": "stream",
     "text": [
      "It's underpredicted.\n",
      "Monthly Error: 71.36 Period MAE: 7.02\n"
     ]
    },
    {
     "name": "stderr",
     "output_type": "stream",
     "text": [
      "19:28:49 - cmdstanpy - INFO - Chain [1] start processing\n",
      "19:28:49 - cmdstanpy - INFO - Chain [1] start processing\n",
      "19:28:49 - cmdstanpy - INFO - Chain [1] done processing\n"
     ]
    },
    {
     "name": "stdout",
     "output_type": "stream",
     "text": [
      "It's underpredicted.\n",
      "Monthly Error: 100.0 Period MAE: 100.0\n"
     ]
    },
    {
     "name": "stderr",
     "output_type": "stream",
     "text": [
      "19:28:50 - cmdstanpy - INFO - Chain [1] done processing\n"
     ]
    },
    {
     "name": "stdout",
     "output_type": "stream",
     "text": [
      "It's overpredicted.\n",
      "Monthly Error: 86.28 Period MAE: 2.36\n"
     ]
    },
    {
     "name": "stderr",
     "output_type": "stream",
     "text": [
      "19:28:51 - cmdstanpy - INFO - Chain [1] start processing\n",
      "19:28:51 - cmdstanpy - INFO - Chain [1] start processing\n",
      "19:28:52 - cmdstanpy - INFO - Chain [1] done processing\n",
      "19:28:52 - cmdstanpy - INFO - Chain [1] done processing\n"
     ]
    },
    {
     "name": "stdout",
     "output_type": "stream",
     "text": [
      "It's underpredicted.\n",
      "Monthly Error: 100.0 Period MAE: 100.0\n",
      "It's overpredicted.\n",
      "Monthly Error:86.28  Period MAE: 2.36\n"
     ]
    },
    {
     "name": "stderr",
     "output_type": "stream",
     "text": [
      "19:28:54 - cmdstanpy - INFO - Chain [1] start processing\n",
      "19:28:54 - cmdstanpy - INFO - Chain [1] start processing\n"
     ]
    },
    {
     "name": "stdout",
     "output_type": "stream",
     "text": [
      "It's underpredicted.\n",
      "Monthly Error: 55.94 Period MAE: 72.46000000000001\n"
     ]
    },
    {
     "name": "stderr",
     "output_type": "stream",
     "text": [
      "19:28:54 - cmdstanpy - INFO - Chain [1] done processing\n",
      "19:28:54 - cmdstanpy - INFO - Chain [1] done processing\n"
     ]
    },
    {
     "name": "stdout",
     "output_type": "stream",
     "text": [
      "It's overpredicted.\n",
      "86.28Monthly Error:  Period MAE: 2.36\n"
     ]
    },
    {
     "name": "stderr",
     "output_type": "stream",
     "text": [
      "19:28:56 - cmdstanpy - INFO - Chain [1] start processing\n",
      "19:28:56 - cmdstanpy - INFO - Chain [1] start processing\n"
     ]
    },
    {
     "name": "stdout",
     "output_type": "stream",
     "text": [
      "It's underpredicted.\n"
     ]
    },
    {
     "name": "stderr",
     "output_type": "stream",
     "text": [
      "19:28:56 - cmdstanpy - INFO - Chain [1] done processing\n"
     ]
    },
    {
     "name": "stdout",
     "output_type": "stream",
     "text": [
      "Monthly Error: 55.94 Period MAE: 72.46000000000001\n"
     ]
    },
    {
     "name": "stderr",
     "output_type": "stream",
     "text": [
      "19:28:57 - cmdstanpy - INFO - Chain [1] done processing\n",
      "19:28:58 - cmdstanpy - INFO - Chain [1] start processing\n"
     ]
    },
    {
     "name": "stdout",
     "output_type": "stream",
     "text": [
      "It's underpredicted.\n",
      "Monthly Error: 70.61 Period MAE: 6.34\n"
     ]
    },
    {
     "name": "stderr",
     "output_type": "stream",
     "text": [
      "19:28:58 - cmdstanpy - INFO - Chain [1] start processing\n",
      "19:28:58 - cmdstanpy - INFO - Chain [1] done processing\n",
      "19:28:59 - cmdstanpy - INFO - Chain [1] done processing\n"
     ]
    },
    {
     "name": "stdout",
     "output_type": "stream",
     "text": [
      "It's underpredicted.\n",
      "Monthly Error: 55.94 Period MAE: 72.46000000000001\n",
      "It's underpredicted.\n",
      "Monthly Error: 70.61 Period MAE: 6.34\n",
      "It's underpredicted.\n",
      "Monthly Error: 100.0 Period MAE: 100.0\n"
     ]
    },
    {
     "name": "stderr",
     "output_type": "stream",
     "text": [
      "19:29:01 - cmdstanpy - INFO - Chain [1] start processing\n",
      "19:29:01 - cmdstanpy - INFO - Chain [1] start processing\n",
      "19:29:01 - cmdstanpy - INFO - Chain [1] done processing\n",
      "19:29:02 - cmdstanpy - INFO - Chain [1] done processing\n",
      "19:29:03 - cmdstanpy - INFO - Chain [1] start processing\n"
     ]
    },
    {
     "name": "stdout",
     "output_type": "stream",
     "text": [
      "It's underpredicted.\n",
      "Monthly Error: 100.0 Period MAE: 100.0\n",
      "It's underpredicted.\n",
      "Monthly Error: 70.61 Period MAE: 6.34\n"
     ]
    },
    {
     "name": "stderr",
     "output_type": "stream",
     "text": [
      "19:29:03 - cmdstanpy - INFO - Chain [1] done processing\n",
      "19:29:04 - cmdstanpy - INFO - Chain [1] start processing\n",
      "19:29:04 - cmdstanpy - INFO - Chain [1] done processing\n"
     ]
    },
    {
     "name": "stdout",
     "output_type": "stream",
     "text": [
      "It's overpredicted.\n",
      "Monthly Error: 81.53 Period MAE: 17.580000000000002\n"
     ]
    },
    {
     "name": "stderr",
     "output_type": "stream",
     "text": [
      "19:29:05 - cmdstanpy - INFO - Chain [1] start processing\n",
      "19:29:06 - cmdstanpy - INFO - Chain [1] start processing\n",
      "19:29:06 - cmdstanpy - INFO - Chain [1] done processing\n",
      "19:29:06 - cmdstanpy - INFO - Chain [1] done processing\n"
     ]
    },
    {
     "name": "stdout",
     "output_type": "stream",
     "text": [
      "It's underpredicted.\n",
      "Monthly Error: 100.0 Period MAE: 100.0\n",
      "It's overpredicted.\n",
      "Monthly Error: 81.53 Period MAE: 17.580000000000002\n"
     ]
    },
    {
     "name": "stderr",
     "output_type": "stream",
     "text": [
      "19:29:08 - cmdstanpy - INFO - Chain [1] start processing\n",
      "19:29:08 - cmdstanpy - INFO - Chain [1] start processing\n",
      "19:29:08 - cmdstanpy - INFO - Chain [1] done processing\n",
      "19:29:08 - cmdstanpy - INFO - Chain [1] done processing\n"
     ]
    },
    {
     "name": "stdout",
     "output_type": "stream",
     "text": [
      "It's underpredicted.\n",
      "Monthly Error: 37.73 Period MAE: 45.12\n",
      "It's overpredicted.\n",
      "Monthly Error: 81.53 Period MAE: 17.580000000000002\n",
      "It's underpredicted.\n",
      "Monthly Error: 37.73 Period MAE: 45.12\n"
     ]
    },
    {
     "name": "stderr",
     "output_type": "stream",
     "text": [
      "19:29:10 - cmdstanpy - INFO - Chain [1] start processing\n",
      "19:29:11 - cmdstanpy - INFO - Chain [1] start processing\n",
      "19:29:11 - cmdstanpy - INFO - Chain [1] done processing\n",
      "19:29:11 - cmdstanpy - INFO - Chain [1] done processing\n",
      "19:29:12 - cmdstanpy - INFO - Chain [1] start processing\n"
     ]
    },
    {
     "name": "stdout",
     "output_type": "stream",
     "text": [
      "It's overpredicted.\n",
      "Monthly Error: 84.56 Period MAE: 17.1\n",
      "It's underpredicted.\n",
      "Monthly Error: "
     ]
    },
    {
     "name": "stderr",
     "output_type": "stream",
     "text": [
      "19:29:12 - cmdstanpy - INFO - Chain [1] done processing\n"
     ]
    },
    {
     "name": "stdout",
     "output_type": "stream",
     "text": [
      "37.73 Period MAE: 45.12\n"
     ]
    },
    {
     "name": "stderr",
     "output_type": "stream",
     "text": [
      "19:29:13 - cmdstanpy - INFO - Chain [1] start processing\n",
      "19:29:13 - cmdstanpy - INFO - Chain [1] done processing\n"
     ]
    },
    {
     "name": "stdout",
     "output_type": "stream",
     "text": [
      "It's overpredicted.\n",
      "Monthly Error: 84.56 Period MAE: 17.1\n"
     ]
    },
    {
     "name": "stderr",
     "output_type": "stream",
     "text": [
      "19:29:14 - cmdstanpy - INFO - Chain [1] start processing\n",
      "19:29:14 - cmdstanpy - INFO - Chain [1] start processing\n",
      "19:29:14 - cmdstanpy - INFO - Chain [1] done processing\n",
      "19:29:15 - cmdstanpy - INFO - Chain [1] done processing\n"
     ]
    },
    {
     "name": "stdout",
     "output_type": "stream",
     "text": [
      "It's underpredicted.\n",
      "Monthly Error: It's overpredicted.37.89 \n",
      "Period MAE:Monthly Error: 84.56  45.48Period MAE: 17.1\n",
      "\n"
     ]
    },
    {
     "name": "stderr",
     "output_type": "stream",
     "text": [
      "19:29:17 - cmdstanpy - INFO - Chain [1] start processing\n",
      "19:29:17 - cmdstanpy - INFO - Chain [1] start processing\n",
      "19:29:17 - cmdstanpy - INFO - Chain [1] done processing\n"
     ]
    },
    {
     "name": "stdout",
     "output_type": "stream",
     "text": [
      "It's underpredicted.\n",
      "Monthly Error: 37.89 Period MAE: 45.48\n"
     ]
    },
    {
     "name": "stderr",
     "output_type": "stream",
     "text": [
      "19:29:18 - cmdstanpy - INFO - Chain [1] done processing\n"
     ]
    },
    {
     "name": "stdout",
     "output_type": "stream",
     "text": [
      "It's overpredicted.\n",
      "Monthly Error: 72.04 Period MAE: 10.440000000000001\n"
     ]
    },
    {
     "name": "stderr",
     "output_type": "stream",
     "text": [
      "19:29:19 - cmdstanpy - INFO - Chain [1] start processing\n"
     ]
    },
    {
     "name": "stdout",
     "output_type": "stream",
     "text": [
      "It's underpredicted.\n",
      "Monthly Error: 37.89"
     ]
    },
    {
     "name": "stderr",
     "output_type": "stream",
     "text": [
      "19:29:19 - cmdstanpy - INFO - Chain [1] start processing\n"
     ]
    },
    {
     "name": "stdout",
     "output_type": "stream",
     "text": [
      " Period MAE: 45.48\n"
     ]
    },
    {
     "name": "stderr",
     "output_type": "stream",
     "text": [
      "19:29:19 - cmdstanpy - INFO - Chain [1] done processing\n",
      "19:29:20 - cmdstanpy - INFO - Chain [1] done processing\n"
     ]
    },
    {
     "name": "stdout",
     "output_type": "stream",
     "text": [
      "It's overpredicted.\n",
      "Monthly Error: 72.04 Period MAE: 10.440000000000001\n"
     ]
    },
    {
     "name": "stderr",
     "output_type": "stream",
     "text": [
      "19:29:21 - cmdstanpy - INFO - Chain [1] start processing\n",
      "19:29:21 - cmdstanpy - INFO - Chain [1] start processing\n",
      "19:29:21 - cmdstanpy - INFO - Chain [1] done processing\n",
      "19:29:22 - cmdstanpy - INFO - Chain [1] done processing\n"
     ]
    },
    {
     "name": "stdout",
     "output_type": "stream",
     "text": [
      "It's underpredicted.\n",
      "Monthly Error: 38.3 Period MAE: 43.269999999999996\n",
      "It's overpredicted.\n",
      "Monthly Error: 72.04 Period MAE: 10.440000000000001\n"
     ]
    },
    {
     "name": "stderr",
     "output_type": "stream",
     "text": [
      "19:29:24 - cmdstanpy - INFO - Chain [1] start processing\n",
      "19:29:24 - cmdstanpy - INFO - Chain [1] start processing\n",
      "19:29:24 - cmdstanpy - INFO - Chain [1] done processing\n",
      "19:29:24 - cmdstanpy - INFO - Chain [1] done processing\n"
     ]
    },
    {
     "name": "stdout",
     "output_type": "stream",
     "text": [
      "It's underpredicted.\n",
      "Monthly Error: 38.3 Period MAE: 43.269999999999996\n",
      "It's underpredicted.\n",
      "Monthly Error: 71.36 Period MAE: 7.02\n"
     ]
    },
    {
     "name": "stderr",
     "output_type": "stream",
     "text": [
      "19:29:26 - cmdstanpy - INFO - Chain [1] start processing\n"
     ]
    },
    {
     "name": "stdout",
     "output_type": "stream",
     "text": [
      "It's underpredicted.\n",
      "Monthly Error:  38.3Period MAE: 43.269999999999996\n"
     ]
    },
    {
     "name": "stderr",
     "output_type": "stream",
     "text": [
      "19:29:26 - cmdstanpy - INFO - Chain [1] start processing\n",
      "19:29:26 - cmdstanpy - INFO - Chain [1] done processing\n",
      "19:29:27 - cmdstanpy - INFO - Chain [1] done processing\n"
     ]
    },
    {
     "name": "stdout",
     "output_type": "stream",
     "text": [
      "It's underpredicted.\n",
      "Monthly Error: 71.36 Period MAE: 7.02\n"
     ]
    },
    {
     "name": "stderr",
     "output_type": "stream",
     "text": [
      "19:29:28 - cmdstanpy - INFO - Chain [1] start processing\n",
      "19:29:28 - cmdstanpy - INFO - Chain [1] start processing\n",
      "19:29:28 - cmdstanpy - INFO - Chain [1] done processing\n",
      "19:29:28 - cmdstanpy - INFO - Chain [1] done processing\n"
     ]
    },
    {
     "name": "stdout",
     "output_type": "stream",
     "text": [
      "It's underpredicted.\n",
      "Monthly Error: 71.36 Period MAE: 7.02\n",
      "It's underpredicted.\n",
      "Monthly Error: 100.0 Period MAE: 100.0\n"
     ]
    },
    {
     "name": "stderr",
     "output_type": "stream",
     "text": [
      "19:29:30 - cmdstanpy - INFO - Chain [1] start processing\n",
      "19:29:30 - cmdstanpy - INFO - Chain [1] start processing\n",
      "19:29:31 - cmdstanpy - INFO - Chain [1] done processing\n",
      "19:29:31 - cmdstanpy - INFO - Chain [1] done processing\n"
     ]
    },
    {
     "name": "stdout",
     "output_type": "stream",
     "text": [
      "It's underpredicted.\n",
      "Monthly Error: 100.0 Period MAE: 100.0\n",
      "It's overpredicted.\n",
      "Monthly Error: 85.82 Period MAE: 1.8599999999999999\n",
      "It's underpredicted.\n",
      "Monthly Error: 100.0 Period MAE: 100.0\n"
     ]
    },
    {
     "name": "stderr",
     "output_type": "stream",
     "text": [
      "19:29:33 - cmdstanpy - INFO - Chain [1] start processing\n",
      "19:29:33 - cmdstanpy - INFO - Chain [1] start processing\n",
      "19:29:33 - cmdstanpy - INFO - Chain [1] done processing\n",
      "19:29:34 - cmdstanpy - INFO - Chain [1] done processing\n",
      "19:29:34 - cmdstanpy - INFO - Chain [1] start processing\n"
     ]
    },
    {
     "name": "stdout",
     "output_type": "stream",
     "text": [
      "It's overpredicted.\n",
      "Monthly Error: 85.82 Period MAE: 1.8599999999999999\n"
     ]
    },
    {
     "name": "stderr",
     "output_type": "stream",
     "text": [
      "19:29:35 - cmdstanpy - INFO - Chain [1] done processing\n",
      "19:29:35 - cmdstanpy - INFO - Chain [1] start processing\n"
     ]
    },
    {
     "name": "stdout",
     "output_type": "stream",
     "text": [
      "It's underpredicted.\n",
      "Monthly Error: 55.95 Period MAE: 72.46000000000001\n"
     ]
    },
    {
     "name": "stderr",
     "output_type": "stream",
     "text": [
      "19:29:36 - cmdstanpy - INFO - Chain [1] done processing\n"
     ]
    },
    {
     "name": "stdout",
     "output_type": "stream",
     "text": [
      "It's overpredicted.\n",
      "Monthly Error: 85.82 Period MAE: 1.8599999999999999\n"
     ]
    },
    {
     "name": "stderr",
     "output_type": "stream",
     "text": [
      "19:29:37 - cmdstanpy - INFO - Chain [1] start processing\n",
      "19:29:37 - cmdstanpy - INFO - Chain [1] start processing\n",
      "19:29:37 - cmdstanpy - INFO - Chain [1] done processing\n"
     ]
    },
    {
     "name": "stdout",
     "output_type": "stream",
     "text": [
      "It's underpredicted.\n",
      "Monthly Error: 55.95 Period MAE: 72.46000000000001\n"
     ]
    },
    {
     "name": "stderr",
     "output_type": "stream",
     "text": [
      "19:29:38 - cmdstanpy - INFO - Chain [1] done processing\n"
     ]
    },
    {
     "name": "stdout",
     "output_type": "stream",
     "text": [
      "It's underpredicted.\n",
      "Monthly Error: 71.53  Period MAE:5.87\n"
     ]
    },
    {
     "name": "stderr",
     "output_type": "stream",
     "text": [
      "19:29:39 - cmdstanpy - INFO - Chain [1] start processing\n",
      "19:29:40 - cmdstanpy - INFO - Chain [1] start processing\n",
      "19:29:40 - cmdstanpy - INFO - Chain [1] done processing\n",
      "19:29:40 - cmdstanpy - INFO - Chain [1] done processing\n"
     ]
    },
    {
     "name": "stdout",
     "output_type": "stream",
     "text": [
      "It's underpredicted.\n",
      "Monthly Error: 55.95 Period MAE: 72.46000000000001\n",
      "It's underpredicted.\n",
      "Monthly Error: 71.53 Period MAE: 5.87\n",
      "It's underpredicted.\n",
      "Monthly Error: 100.0 Period MAE: 100.0\n"
     ]
    },
    {
     "name": "stderr",
     "output_type": "stream",
     "text": [
      "19:29:42 - cmdstanpy - INFO - Chain [1] start processing\n",
      "19:29:42 - cmdstanpy - INFO - Chain [1] start processing\n",
      "19:29:42 - cmdstanpy - INFO - Chain [1] done processing\n",
      "19:29:43 - cmdstanpy - INFO - Chain [1] done processing\n",
      "19:29:43 - cmdstanpy - INFO - Chain [1] start processing\n"
     ]
    },
    {
     "name": "stdout",
     "output_type": "stream",
     "text": [
      "It's underpredicted.\n",
      "Monthly Error: 71.53 Period MAE: 5.87\n"
     ]
    },
    {
     "name": "stderr",
     "output_type": "stream",
     "text": [
      "19:29:44 - cmdstanpy - INFO - Chain [1] done processing\n",
      "19:29:44 - cmdstanpy - INFO - Chain [1] start processing\n"
     ]
    },
    {
     "name": "stdout",
     "output_type": "stream",
     "text": [
      "It's underpredicted.\n",
      "Monthly Error: 100.0"
     ]
    },
    {
     "name": "stderr",
     "output_type": "stream",
     "text": [
      "19:29:45 - cmdstanpy - INFO - Chain [1] done processing\n"
     ]
    },
    {
     "name": "stdout",
     "output_type": "stream",
     "text": [
      " Period MAE: 100.0\n",
      "It's overpredicted.\n",
      "Monthly Error: 84.23 Period MAE: 20.13\n"
     ]
    },
    {
     "name": "stderr",
     "output_type": "stream",
     "text": [
      "19:29:46 - cmdstanpy - INFO - Chain [1] start processing\n",
      "19:29:47 - cmdstanpy - INFO - Chain [1] start processing\n",
      "19:29:47 - cmdstanpy - INFO - Chain [1] done processing\n"
     ]
    },
    {
     "name": "stdout",
     "output_type": "stream",
     "text": [
      "It's underpredicted.\n",
      "Monthly Error: 100.0 Period MAE: 100.0\n"
     ]
    },
    {
     "name": "stderr",
     "output_type": "stream",
     "text": [
      "19:29:47 - cmdstanpy - INFO - Chain [1] done processing\n"
     ]
    },
    {
     "name": "stdout",
     "output_type": "stream",
     "text": [
      "It's overpredicted.\n",
      "Monthly Error: 84.23 Period MAE: 20.13\n"
     ]
    },
    {
     "name": "stderr",
     "output_type": "stream",
     "text": [
      "19:29:49 - cmdstanpy - INFO - Chain [1] start processing\n",
      "19:29:49 - cmdstanpy - INFO - Chain [1] start processing\n",
      "19:29:49 - cmdstanpy - INFO - Chain [1] done processing\n",
      "19:29:49 - cmdstanpy - INFO - Chain [1] done processing\n"
     ]
    },
    {
     "name": "stdout",
     "output_type": "stream",
     "text": [
      "It's underpredicted.\n",
      "Monthly Error: 46.95 Period MAE: 55.169999999999995\n",
      "It's overpredicted.\n",
      "Monthly Error: 84.23 Period MAE: 20.13\n"
     ]
    },
    {
     "name": "stderr",
     "output_type": "stream",
     "text": [
      "19:29:51 - cmdstanpy - INFO - Chain [1] start processing\n",
      "19:29:52 - cmdstanpy - INFO - Chain [1] start processing\n"
     ]
    },
    {
     "name": "stdout",
     "output_type": "stream",
     "text": [
      "It's underpredicted.\n",
      "Monthly Error: 46.95 "
     ]
    },
    {
     "name": "stderr",
     "output_type": "stream",
     "text": [
      "19:29:52 - cmdstanpy - INFO - Chain [1] done processing\n"
     ]
    },
    {
     "name": "stdout",
     "output_type": "stream",
     "text": [
      "Period MAE: 55.169999999999995"
     ]
    },
    {
     "name": "stderr",
     "output_type": "stream",
     "text": [
      "19:29:52 - cmdstanpy - INFO - Chain [1] done processing\n"
     ]
    },
    {
     "name": "stdout",
     "output_type": "stream",
     "text": [
      "\n",
      "It's overpredicted.\n",
      "Monthly Error: 86.33 Period MAE: 19.71\n"
     ]
    },
    {
     "name": "stderr",
     "output_type": "stream",
     "text": [
      "19:29:53 - cmdstanpy - INFO - Chain [1] start processing\n"
     ]
    },
    {
     "name": "stdout",
     "output_type": "stream",
     "text": [
      "It's underpredicted.\n"
     ]
    },
    {
     "name": "stderr",
     "output_type": "stream",
     "text": [
      "19:29:54 - cmdstanpy - INFO - Chain [1] start processing\n"
     ]
    },
    {
     "name": "stdout",
     "output_type": "stream",
     "text": [
      "Monthly Error: 46.95 Period MAE: 55.169999999999995\n"
     ]
    },
    {
     "name": "stderr",
     "output_type": "stream",
     "text": [
      "19:29:54 - cmdstanpy - INFO - Chain [1] done processing\n",
      "19:29:54 - cmdstanpy - INFO - Chain [1] done processing\n"
     ]
    },
    {
     "name": "stdout",
     "output_type": "stream",
     "text": [
      "It's overpredicted.\n",
      "Monthly Error: 86.33 Period MAE: 19.71\n"
     ]
    },
    {
     "name": "stderr",
     "output_type": "stream",
     "text": [
      "19:29:55 - cmdstanpy - INFO - Chain [1] start processing\n",
      "19:29:55 - cmdstanpy - INFO - Chain [1] start processing\n",
      "19:29:56 - cmdstanpy - INFO - Chain [1] done processing\n",
      "19:29:56 - cmdstanpy - INFO - Chain [1] done processing\n"
     ]
    },
    {
     "name": "stdout",
     "output_type": "stream",
     "text": [
      "It's underpredicted.\n",
      "Monthly Error: 46.66 Period MAE: 54.96\n",
      "It's overpredicted.\n",
      "Monthly Error: 86.33 Period MAE: 19.71\n"
     ]
    },
    {
     "name": "stderr",
     "output_type": "stream",
     "text": [
      "19:29:58 - cmdstanpy - INFO - Chain [1] start processing\n",
      "19:29:58 - cmdstanpy - INFO - Chain [1] start processing\n",
      "19:29:58 - cmdstanpy - INFO - Chain [1] done processing\n"
     ]
    },
    {
     "name": "stdout",
     "output_type": "stream",
     "text": [
      "It's underpredicted.\n",
      "Monthly Error: 46.66 Period MAE: 54.96\n"
     ]
    },
    {
     "name": "stderr",
     "output_type": "stream",
     "text": [
      "19:29:58 - cmdstanpy - INFO - Chain [1] done processing\n"
     ]
    },
    {
     "name": "stdout",
     "output_type": "stream",
     "text": [
      "It's overpredicted.\n",
      "Monthly Error: 80.96 Period MAE: 17.61\n",
      "It's underpredicted.\n",
      "Monthly Error: 46.66 Period MAE: 54.96\n"
     ]
    },
    {
     "name": "stderr",
     "output_type": "stream",
     "text": [
      "19:30:00 - cmdstanpy - INFO - Chain [1] start processing\n",
      "19:30:00 - cmdstanpy - INFO - Chain [1] start processing\n",
      "19:30:00 - cmdstanpy - INFO - Chain [1] done processing\n",
      "19:30:01 - cmdstanpy - INFO - Chain [1] done processing\n",
      "19:30:01 - cmdstanpy - INFO - Chain [1] start processing\n"
     ]
    },
    {
     "name": "stdout",
     "output_type": "stream",
     "text": [
      "It's overpredicted.\n",
      "Monthly Error: 80.96 Period MAE: 17.61\n"
     ]
    },
    {
     "name": "stderr",
     "output_type": "stream",
     "text": [
      "19:30:02 - cmdstanpy - INFO - Chain [1] done processing\n",
      "19:30:03 - cmdstanpy - INFO - Chain [1] start processing\n",
      "19:30:03 - cmdstanpy - INFO - Chain [1] done processing\n"
     ]
    },
    {
     "name": "stdout",
     "output_type": "stream",
     "text": [
      "It's overpredicted.\n",
      "Monthly Error: 80.96 Period MAE: 17.61\n",
      "It's underpredicted.\n",
      "Monthly Error: 46.78 Period MAE: 55.05\n",
      "It's underpredicted.\n",
      "Monthly Error: 46.78 Period MAE: 55.05\n"
     ]
    },
    {
     "name": "stderr",
     "output_type": "stream",
     "text": [
      "19:30:05 - cmdstanpy - INFO - Chain [1] start processing\n",
      "19:30:05 - cmdstanpy - INFO - Chain [1] start processing\n",
      "19:30:06 - cmdstanpy - INFO - Chain [1] done processing\n",
      "19:30:06 - cmdstanpy - INFO - Chain [1] done processing\n",
      "19:30:07 - cmdstanpy - INFO - Chain [1] start processing\n"
     ]
    },
    {
     "name": "stdout",
     "output_type": "stream",
     "text": [
      "It's overpredicted.\n",
      "Monthly Error: 87.26 Period MAE: 22.46\n"
     ]
    },
    {
     "name": "stderr",
     "output_type": "stream",
     "text": [
      "19:30:08 - cmdstanpy - INFO - Chain [1] done processing\n",
      "19:30:08 - cmdstanpy - INFO - Chain [1] start processing\n",
      "19:30:08 - cmdstanpy - INFO - Chain [1] done processing\n"
     ]
    },
    {
     "name": "stdout",
     "output_type": "stream",
     "text": [
      "It's overpredicted.\n",
      "Monthly Error: 87.26 Period MAE: 22.46\n",
      "It's underpredicted.\n",
      "Monthly Error: 46.78 Period MAE: 55.05\n"
     ]
    },
    {
     "name": "stderr",
     "output_type": "stream",
     "text": [
      "19:30:10 - cmdstanpy - INFO - Chain [1] start processing\n",
      "19:30:10 - cmdstanpy - INFO - Chain [1] start processing\n",
      "19:30:10 - cmdstanpy - INFO - Chain [1] done processing\n",
      "19:30:11 - cmdstanpy - INFO - Chain [1] done processing\n"
     ]
    },
    {
     "name": "stdout",
     "output_type": "stream",
     "text": [
      "It's underpredicted.\n",
      "Monthly Error: 100.0 Period MAE: 100.0\n",
      "It's overpredicted.\n",
      "Monthly Error: 87.26 Period MAE: 22.46\n"
     ]
    },
    {
     "name": "stderr",
     "output_type": "stream",
     "text": [
      "19:30:12 - cmdstanpy - INFO - Chain [1] start processing\n",
      "19:30:13 - cmdstanpy - INFO - Chain [1] start processing\n"
     ]
    },
    {
     "name": "stdout",
     "output_type": "stream",
     "text": [
      "It's underpredicted.\n",
      "Monthly Error: 100.0 Period MAE: 100.0\n"
     ]
    },
    {
     "name": "stderr",
     "output_type": "stream",
     "text": [
      "19:30:13 - cmdstanpy - INFO - Chain [1] done processing\n",
      "19:30:13 - cmdstanpy - INFO - Chain [1] done processing\n",
      "19:30:14 - cmdstanpy - INFO - Chain [1] start processing\n"
     ]
    },
    {
     "name": "stdout",
     "output_type": "stream",
     "text": [
      "It's underpredicted.\n",
      "Monthly Error: 100.0 Period MAE: 100.0\n",
      "It's overpredicted.\n",
      "Monthly Error: 86.46 Period MAE: 21.51\n"
     ]
    },
    {
     "name": "stderr",
     "output_type": "stream",
     "text": [
      "19:30:15 - cmdstanpy - INFO - Chain [1] start processing\n",
      "19:30:15 - cmdstanpy - INFO - Chain [1] done processing\n",
      "19:30:15 - cmdstanpy - INFO - Chain [1] done processing\n"
     ]
    },
    {
     "name": "stdout",
     "output_type": "stream",
     "text": [
      "It's overpredicted.\n",
      "Monthly Error: 86.46 Period MAE: 21.51\n"
     ]
    },
    {
     "name": "stderr",
     "output_type": "stream",
     "text": [
      "19:30:16 - cmdstanpy - INFO - Chain [1] start processing\n",
      "19:30:17 - cmdstanpy - INFO - Chain [1] start processing\n",
      "19:30:17 - cmdstanpy - INFO - Chain [1] done processing\n",
      "19:30:17 - cmdstanpy - INFO - Chain [1] done processing\n"
     ]
    },
    {
     "name": "stdout",
     "output_type": "stream",
     "text": [
      "It's underpredicted.\n",
      "Monthly Error: 42.75 Period MAE: 60.38\n",
      "It's overpredicted.\n",
      "Monthly Error: 86.46 Period MAE: 21.51\n"
     ]
    },
    {
     "name": "stderr",
     "output_type": "stream",
     "text": [
      "19:30:19 - cmdstanpy - INFO - Chain [1] start processing\n",
      "19:30:19 - cmdstanpy - INFO - Chain [1] start processing\n",
      "19:30:19 - cmdstanpy - INFO - Chain [1] done processing\n",
      "19:30:20 - cmdstanpy - INFO - Chain [1] done processing\n"
     ]
    },
    {
     "name": "stdout",
     "output_type": "stream",
     "text": [
      "It's underpredicted.\n",
      "Monthly Error: 42.75 Period MAE: 60.38\n",
      "It's overpredicted.\n",
      "Monthly Error: 87.69 Period MAE: 22.68\n"
     ]
    },
    {
     "name": "stderr",
     "output_type": "stream",
     "text": [
      "19:30:22 - cmdstanpy - INFO - Chain [1] start processing\n",
      "19:30:22 - cmdstanpy - INFO - Chain [1] start processing\n"
     ]
    },
    {
     "name": "stdout",
     "output_type": "stream",
     "text": [
      "It's underpredicted.\n",
      "Monthly Error: 42.75 Period MAE: 60.38\n"
     ]
    },
    {
     "name": "stderr",
     "output_type": "stream",
     "text": [
      "19:30:22 - cmdstanpy - INFO - Chain [1] done processing\n",
      "19:30:23 - cmdstanpy - INFO - Chain [1] done processing\n",
      "19:30:24 - cmdstanpy - INFO - Chain [1] start processing\n"
     ]
    },
    {
     "name": "stdout",
     "output_type": "stream",
     "text": [
      "It's overpredicted.\n",
      "Monthly Error: 87.69 Period MAE: 22.68\n",
      "It's underpredicted.\n",
      "Monthly Error: 77.74 Period MAE: 82.63000000000001\n"
     ]
    },
    {
     "name": "stderr",
     "output_type": "stream",
     "text": [
      "19:30:24 - cmdstanpy - INFO - Chain [1] start processing\n",
      "19:30:25 - cmdstanpy - INFO - Chain [1] done processing\n",
      "19:30:25 - cmdstanpy - INFO - Chain [1] done processing\n"
     ]
    },
    {
     "name": "stdout",
     "output_type": "stream",
     "text": [
      "It's overpredicted.\n",
      "Monthly Error: 87.69 Period MAE: 22.68\n"
     ]
    },
    {
     "name": "stderr",
     "output_type": "stream",
     "text": [
      "19:30:26 - cmdstanpy - INFO - Chain [1] start processing\n",
      "19:30:26 - cmdstanpy - INFO - Chain [1] start processing\n",
      "19:30:26 - cmdstanpy - INFO - Chain [1] done processing\n",
      "19:30:27 - cmdstanpy - INFO - Chain [1] done processing\n"
     ]
    },
    {
     "name": "stdout",
     "output_type": "stream",
     "text": [
      "It's underpredicted.\n",
      "Monthly Error: 77.74 Period MAE: 82.63000000000001\n",
      "It's overpredicted.\n",
      "Monthly Error: 84.23 Period MAE: 20.13\n"
     ]
    },
    {
     "name": "stderr",
     "output_type": "stream",
     "text": [
      "19:30:28 - cmdstanpy - INFO - Chain [1] start processing\n",
      "19:30:28 - cmdstanpy - INFO - Chain [1] start processing\n",
      "19:30:29 - cmdstanpy - INFO - Chain [1] done processing\n",
      "19:30:29 - cmdstanpy - INFO - Chain [1] done processing\n"
     ]
    },
    {
     "name": "stdout",
     "output_type": "stream",
     "text": [
      "It's underpredicted.\n",
      "Monthly Error: 77.74 Period MAE: 82.63000000000001\n",
      "It's overpredicted.\n",
      "Monthly Error: 84.23 Period MAE: 20.13\n",
      "It's underpredicted.\n",
      "Monthly Error: 46.95 Period MAE: 55.169999999999995\n"
     ]
    },
    {
     "name": "stderr",
     "output_type": "stream",
     "text": [
      "19:30:31 - cmdstanpy - INFO - Chain [1] start processing\n",
      "19:30:31 - cmdstanpy - INFO - Chain [1] start processing\n",
      "19:30:31 - cmdstanpy - INFO - Chain [1] done processing\n",
      "19:30:31 - cmdstanpy - INFO - Chain [1] done processing\n",
      "19:30:32 - cmdstanpy - INFO - Chain [1] start processing\n"
     ]
    },
    {
     "name": "stdout",
     "output_type": "stream",
     "text": [
      "It's overpredicted.\n",
      "Monthly Error: 84.23 Period MAE: 20.13\n"
     ]
    },
    {
     "name": "stderr",
     "output_type": "stream",
     "text": [
      "19:30:33 - cmdstanpy - INFO - Chain [1] done processing\n",
      "19:30:33 - cmdstanpy - INFO - Chain [1] start processing\n"
     ]
    },
    {
     "name": "stdout",
     "output_type": "stream",
     "text": [
      "It's underpredicted.\n",
      "Monthly Error:"
     ]
    },
    {
     "name": "stderr",
     "output_type": "stream",
     "text": [
      "19:30:33 - cmdstanpy - INFO - Chain [1] done processing\n"
     ]
    },
    {
     "name": "stdout",
     "output_type": "stream",
     "text": [
      " 46.95 Period MAE: 55.169999999999995\n",
      "It's overpredicted.\n",
      "Monthly Error: 84.07 Period MAE: 17.96\n"
     ]
    },
    {
     "name": "stderr",
     "output_type": "stream",
     "text": [
      "19:30:34 - cmdstanpy - INFO - Chain [1] start processing\n",
      "19:30:35 - cmdstanpy - INFO - Chain [1] start processing\n",
      "19:30:35 - cmdstanpy - INFO - Chain [1] done processing\n",
      "19:30:35 - cmdstanpy - INFO - Chain [1] done processing\n"
     ]
    },
    {
     "name": "stdout",
     "output_type": "stream",
     "text": [
      "It's underpredicted.\n",
      "Monthly Error: 46.95 Period MAE: 55.169999999999995\n",
      "It's overpredicted.\n",
      "Monthly Error: 84.07 Period MAE: 17.96\n"
     ]
    },
    {
     "name": "stderr",
     "output_type": "stream",
     "text": [
      "19:30:37 - cmdstanpy - INFO - Chain [1] start processing\n",
      "19:30:37 - cmdstanpy - INFO - Chain [1] start processing\n",
      "19:30:37 - cmdstanpy - INFO - Chain [1] done processing\n",
      "19:30:37 - cmdstanpy - INFO - Chain [1] done processing\n"
     ]
    },
    {
     "name": "stdout",
     "output_type": "stream",
     "text": [
      "It's underpredicted.\n",
      "Monthly Error: 46.92 Period MAE: 55.16\n",
      "It's overpredicted.\n",
      "17.96\n",
      "Monthly Error: 84.07 Period MAE: "
     ]
    },
    {
     "name": "stderr",
     "output_type": "stream",
     "text": [
      "19:30:39 - cmdstanpy - INFO - Chain [1] start processing\n"
     ]
    },
    {
     "name": "stdout",
     "output_type": "stream",
     "text": [
      "It's underpredicted.\n",
      "Monthly Error:"
     ]
    },
    {
     "name": "stderr",
     "output_type": "stream",
     "text": [
      "19:30:40 - cmdstanpy - INFO - Chain [1] start processing\n"
     ]
    },
    {
     "name": "stdout",
     "output_type": "stream",
     "text": [
      " 46.92 Period MAE: 55.16\n"
     ]
    },
    {
     "name": "stderr",
     "output_type": "stream",
     "text": [
      "19:30:40 - cmdstanpy - INFO - Chain [1] done processing\n",
      "19:30:40 - cmdstanpy - INFO - Chain [1] done processing\n"
     ]
    },
    {
     "name": "stdout",
     "output_type": "stream",
     "text": [
      "It's overpredicted.\n",
      "Monthly Error: 71.86 Period MAE: 10.879999999999999\n"
     ]
    },
    {
     "name": "stderr",
     "output_type": "stream",
     "text": [
      "19:30:41 - cmdstanpy - INFO - Chain [1] start processing\n",
      "19:30:41 - cmdstanpy - INFO - Chain [1] start processing\n",
      "19:30:42 - cmdstanpy - INFO - Chain [1] done processing\n",
      "19:30:42 - cmdstanpy - INFO - Chain [1] done processing\n"
     ]
    },
    {
     "name": "stdout",
     "output_type": "stream",
     "text": [
      "It's underpredicted.\n",
      "Monthly Error: 46.92 Period MAE: 55.16\n",
      "It's overpredicted.\n",
      "Monthly Error: 71.86 Period MAE: 10.879999999999999\n"
     ]
    },
    {
     "name": "stderr",
     "output_type": "stream",
     "text": [
      "19:30:43 - cmdstanpy - INFO - Chain [1] start processing\n",
      "19:30:43 - cmdstanpy - INFO - Chain [1] start processing\n",
      "19:30:44 - cmdstanpy - INFO - Chain [1] done processing\n",
      "19:30:44 - cmdstanpy - INFO - Chain [1] done processing\n"
     ]
    },
    {
     "name": "stdout",
     "output_type": "stream",
     "text": [
      "It's overpredicted.\n",
      "Monthly Error: 71.86 Period MAE: 10.879999999999999\n",
      "It's underpredicted.\n",
      "Monthly Error: 46.95 Period MAE: 55.169999999999995\n"
     ]
    },
    {
     "name": "stderr",
     "output_type": "stream",
     "text": [
      "19:30:46 - cmdstanpy - INFO - Chain [1] start processing\n",
      "19:30:46 - cmdstanpy - INFO - Chain [1] start processing\n",
      "19:30:46 - cmdstanpy - INFO - Chain [1] done processing\n"
     ]
    },
    {
     "name": "stdout",
     "output_type": "stream",
     "text": [
      "It's underpredicted.\n",
      "Monthly Error:"
     ]
    },
    {
     "name": "stderr",
     "output_type": "stream",
     "text": [
      "19:30:47 - cmdstanpy - INFO - Chain [1] done processing\n"
     ]
    },
    {
     "name": "stdout",
     "output_type": "stream",
     "text": [
      " 46.95 Period MAE: 55.169999999999995\n",
      "It's overpredicted.\n",
      "Monthly Error: 87.26 Period MAE: \n",
      "22.46"
     ]
    },
    {
     "name": "stderr",
     "output_type": "stream",
     "text": [
      "19:30:49 - cmdstanpy - INFO - Chain [1] start processing\n",
      "19:30:49 - cmdstanpy - INFO - Chain [1] start processing\n"
     ]
    },
    {
     "name": "stdout",
     "output_type": "stream",
     "text": [
      "It's underpredicted.\n",
      "Monthly Error: 46.95 Period MAE: 55.169999999999995\n"
     ]
    },
    {
     "name": "stderr",
     "output_type": "stream",
     "text": [
      "19:30:49 - cmdstanpy - INFO - Chain [1] done processing\n",
      "19:30:50 - cmdstanpy - INFO - Chain [1] done processing\n"
     ]
    },
    {
     "name": "stdout",
     "output_type": "stream",
     "text": [
      "It's overpredicted.\n",
      "Monthly Error: 87.26 Period MAE: 22.46\n"
     ]
    },
    {
     "name": "stderr",
     "output_type": "stream",
     "text": [
      "19:30:51 - cmdstanpy - INFO - Chain [1] start processing\n",
      "19:30:51 - cmdstanpy - INFO - Chain [1] start processing\n"
     ]
    },
    {
     "name": "stdout",
     "output_type": "stream",
     "text": [
      "It's underpredicted.\n",
      "Monthly Error: 100.0 Period MAE: 100.0\n"
     ]
    },
    {
     "name": "stderr",
     "output_type": "stream",
     "text": [
      "19:30:51 - cmdstanpy - INFO - Chain [1] done processing\n",
      "19:30:52 - cmdstanpy - INFO - Chain [1] done processing\n"
     ]
    },
    {
     "name": "stdout",
     "output_type": "stream",
     "text": [
      "It's overpredicted.\n",
      "Monthly Error: 87.26 Period MAE: 22.46\n"
     ]
    },
    {
     "name": "stderr",
     "output_type": "stream",
     "text": [
      "19:30:53 - cmdstanpy - INFO - Chain [1] start processing\n",
      "19:30:53 - cmdstanpy - INFO - Chain [1] start processing\n",
      "19:30:53 - cmdstanpy - INFO - Chain [1] done processing\n",
      "19:30:53 - cmdstanpy - INFO - Chain [1] done processing\n"
     ]
    },
    {
     "name": "stdout",
     "output_type": "stream",
     "text": [
      "It's underpredicted.\n",
      "Monthly Error: It's overpredicted.\n",
      "Monthly Error:100.0  87.31Period MAE:  100.0\n",
      "Period MAE: 22.18\n"
     ]
    },
    {
     "name": "stderr",
     "output_type": "stream",
     "text": [
      "19:30:55 - cmdstanpy - INFO - Chain [1] start processing\n",
      "19:30:56 - cmdstanpy - INFO - Chain [1] start processing\n",
      "19:30:56 - cmdstanpy - INFO - Chain [1] done processing\n"
     ]
    },
    {
     "name": "stdout",
     "output_type": "stream",
     "text": [
      "It's underpredicted.\n",
      "Monthly Error: 100.0 Period MAE: 100.0\n"
     ]
    },
    {
     "name": "stderr",
     "output_type": "stream",
     "text": [
      "19:30:56 - cmdstanpy - INFO - Chain [1] done processing\n"
     ]
    },
    {
     "name": "stdout",
     "output_type": "stream",
     "text": [
      "It's overpredicted.\n",
      "Monthly Error: 87.31 Period MAE: 22.18\n"
     ]
    },
    {
     "name": "stderr",
     "output_type": "stream",
     "text": [
      "19:30:58 - cmdstanpy - INFO - Chain [1] start processing\n",
      "19:30:58 - cmdstanpy - INFO - Chain [1] start processing\n"
     ]
    },
    {
     "name": "stdout",
     "output_type": "stream",
     "text": [
      "It's underpredicted.\n",
      "Monthly Error: 55.99 Period MAE: 72.49\n"
     ]
    },
    {
     "name": "stderr",
     "output_type": "stream",
     "text": [
      "19:30:58 - cmdstanpy - INFO - Chain [1] done processing\n",
      "19:30:58 - cmdstanpy - INFO - Chain [1] done processing\n"
     ]
    },
    {
     "name": "stdout",
     "output_type": "stream",
     "text": [
      "It's overpredicted.\n",
      "Monthly Error: 87.31 Period MAE: 22.18\n"
     ]
    },
    {
     "name": "stderr",
     "output_type": "stream",
     "text": [
      "19:31:00 - cmdstanpy - INFO - Chain [1] start processing\n",
      "19:31:00 - cmdstanpy - INFO - Chain [1] start processing\n",
      "19:31:00 - cmdstanpy - INFO - Chain [1] done processing\n"
     ]
    },
    {
     "name": "stdout",
     "output_type": "stream",
     "text": [
      "It's underpredicted.\n",
      "Monthly Error: 55.99 Period MAE: 72.49\n"
     ]
    },
    {
     "name": "stderr",
     "output_type": "stream",
     "text": [
      "19:31:01 - cmdstanpy - INFO - Chain [1] done processing\n"
     ]
    },
    {
     "name": "stdout",
     "output_type": "stream",
     "text": [
      "It's overpredicted.\n",
      "Monthly Error: 86.53 Period MAE: 22.06\n"
     ]
    },
    {
     "name": "stderr",
     "output_type": "stream",
     "text": [
      "19:31:02 - cmdstanpy - INFO - Chain [1] start processing\n",
      "19:31:03 - cmdstanpy - INFO - Chain [1] start processing\n",
      "19:31:03 - cmdstanpy - INFO - Chain [1] done processing\n",
      "19:31:04 - cmdstanpy - INFO - Chain [1] done processing\n"
     ]
    },
    {
     "name": "stdout",
     "output_type": "stream",
     "text": [
      "It's underpredicted.\n",
      "Monthly Error: 55.99 Period MAE: 72.49\n",
      "It's overpredicted.\n",
      "Monthly Error: 86.53 Period MAE: 22.06\n",
      "It's underpredicted.\n",
      "Monthly Error: 79.44 Period MAE: 84.09\n"
     ]
    },
    {
     "name": "stderr",
     "output_type": "stream",
     "text": [
      "19:31:06 - cmdstanpy - INFO - Chain [1] start processing\n",
      "19:31:06 - cmdstanpy - INFO - Chain [1] start processing\n",
      "19:31:06 - cmdstanpy - INFO - Chain [1] done processing\n",
      "19:31:06 - cmdstanpy - INFO - Chain [1] done processing\n",
      "19:31:07 - cmdstanpy - INFO - Chain [1] start processing\n"
     ]
    },
    {
     "name": "stdout",
     "output_type": "stream",
     "text": [
      "It's overpredicted.\n",
      "Monthly Error: 86.53 Period MAE: 22.06\n"
     ]
    },
    {
     "name": "stderr",
     "output_type": "stream",
     "text": [
      "19:31:08 - cmdstanpy - INFO - Chain [1] done processing\n",
      "19:31:08 - cmdstanpy - INFO - Chain [1] start processing\n",
      "19:31:08 - cmdstanpy - INFO - Chain [1] done processing\n"
     ]
    },
    {
     "name": "stdout",
     "output_type": "stream",
     "text": [
      "It's underpredicted.\n",
      "Monthly Error: 79.44 Period MAE: 84.09\n",
      "It's overpredicted.\n",
      "Monthly Error: 84.23 Period MAE: 20.13\n"
     ]
    },
    {
     "name": "stderr",
     "output_type": "stream",
     "text": [
      "19:31:09 - cmdstanpy - INFO - Chain [1] start processing\n",
      "19:31:10 - cmdstanpy - INFO - Chain [1] start processing\n",
      "19:31:10 - cmdstanpy - INFO - Chain [1] done processing\n",
      "19:31:10 - cmdstanpy - INFO - Chain [1] done processing\n"
     ]
    },
    {
     "name": "stdout",
     "output_type": "stream",
     "text": [
      "It's overpredicted.\n",
      "Monthly Error: 84.23 Period MAE:It's underpredicted. \n",
      "20.13Monthly Error:\n",
      " 79.44 Period MAE: 84.09\n"
     ]
    },
    {
     "name": "stderr",
     "output_type": "stream",
     "text": [
      "19:31:12 - cmdstanpy - INFO - Chain [1] start processing\n",
      "19:31:13 - cmdstanpy - INFO - Chain [1] start processing\n"
     ]
    },
    {
     "name": "stdout",
     "output_type": "stream",
     "text": [
      "It's underpredicted.\n",
      "Monthly Error: 46.95 Period MAE: 55.169999999999995\n"
     ]
    },
    {
     "name": "stderr",
     "output_type": "stream",
     "text": [
      "19:31:13 - cmdstanpy - INFO - Chain [1] done processing\n",
      "19:31:13 - cmdstanpy - INFO - Chain [1] done processing\n"
     ]
    },
    {
     "name": "stdout",
     "output_type": "stream",
     "text": [
      "It's overpredicted.\n",
      "Monthly Error: 84.23 Period MAE: 20.13\n",
      "It's underpredicted.\n",
      "Monthly Error: 46.95 Period MAE: 55.169999999999995\n"
     ]
    },
    {
     "name": "stderr",
     "output_type": "stream",
     "text": [
      "19:31:14 - cmdstanpy - INFO - Chain [1] start processing\n",
      "19:31:14 - cmdstanpy - INFO - Chain [1] start processing\n",
      "19:31:15 - cmdstanpy - INFO - Chain [1] done processing\n",
      "19:31:15 - cmdstanpy - INFO - Chain [1] done processing\n",
      "19:31:16 - cmdstanpy - INFO - Chain [1] start processing\n"
     ]
    },
    {
     "name": "stdout",
     "output_type": "stream",
     "text": [
      "It's overpredicted.\n",
      "Monthly Error: 86.25 Period MAE: 19.5\n"
     ]
    },
    {
     "name": "stderr",
     "output_type": "stream",
     "text": [
      "19:31:17 - cmdstanpy - INFO - Chain [1] start processing\n",
      "19:31:17 - cmdstanpy - INFO - Chain [1] done processing\n",
      "19:31:17 - cmdstanpy - INFO - Chain [1] done processing\n"
     ]
    },
    {
     "name": "stdout",
     "output_type": "stream",
     "text": [
      "It's overpredicted.\n",
      "Monthly Error: 86.25 Period MAE: 19.5\n",
      "It's underpredicted.\n",
      "Monthly Error: 46.95 Period MAE: 55.169999999999995\n"
     ]
    },
    {
     "name": "stderr",
     "output_type": "stream",
     "text": [
      "19:31:19 - cmdstanpy - INFO - Chain [1] start processing\n",
      "19:31:19 - cmdstanpy - INFO - Chain [1] start processing\n",
      "19:31:19 - cmdstanpy - INFO - Chain [1] done processing\n",
      "19:31:20 - cmdstanpy - INFO - Chain [1] done processing\n"
     ]
    },
    {
     "name": "stdout",
     "output_type": "stream",
     "text": [
      "It's underpredicted.\n",
      "Monthly Error: 46.95 Period MAE: 55.169999999999995\n",
      "It's overpredicted.\n",
      "Monthly Error: 86.25 Period MAE: 19.5\n"
     ]
    },
    {
     "name": "stderr",
     "output_type": "stream",
     "text": [
      "19:31:21 - cmdstanpy - INFO - Chain [1] start processing\n"
     ]
    },
    {
     "name": "stdout",
     "output_type": "stream",
     "text": [
      "It's underpredicted.\n",
      "Monthly Error: 46.95 Period MAE: 55.169999999999995\n"
     ]
    },
    {
     "name": "stderr",
     "output_type": "stream",
     "text": [
      "19:31:22 - cmdstanpy - INFO - Chain [1] start processing\n",
      "19:31:22 - cmdstanpy - INFO - Chain [1] done processing\n",
      "19:31:22 - cmdstanpy - INFO - Chain [1] done processing\n",
      "19:31:23 - cmdstanpy - INFO - Chain [1] start processing\n"
     ]
    },
    {
     "name": "stdout",
     "output_type": "stream",
     "text": [
      "It's overpredicted.\n",
      "Monthly Error: 73.62 Period MAE: 12.29\n",
      "It's underpredicted.\n",
      "Monthly Error: 46.95 Period MAE: 55.169999999999995\n"
     ]
    },
    {
     "name": "stderr",
     "output_type": "stream",
     "text": [
      "19:31:24 - cmdstanpy - INFO - Chain [1] start processing\n",
      "19:31:24 - cmdstanpy - INFO - Chain [1] done processing\n",
      "19:31:24 - cmdstanpy - INFO - Chain [1] done processing\n"
     ]
    },
    {
     "name": "stdout",
     "output_type": "stream",
     "text": [
      "It's overpredicted.\n",
      "Monthly Error: 73.62 Period MAE: 12.29\n"
     ]
    },
    {
     "name": "stderr",
     "output_type": "stream",
     "text": [
      "19:31:25 - cmdstanpy - INFO - Chain [1] start processing\n",
      "19:31:26 - cmdstanpy - INFO - Chain [1] start processing\n",
      "19:31:26 - cmdstanpy - INFO - Chain [1] done processing\n",
      "19:31:26 - cmdstanpy - INFO - Chain [1] done processing\n"
     ]
    },
    {
     "name": "stdout",
     "output_type": "stream",
     "text": [
      "It's underpredicted.\n",
      "Monthly Error: 46.95 Period MAE: 55.169999999999995\n",
      "It's overpredicted.\n",
      "Monthly Error: 73.62 Period MAE: 12.29\n"
     ]
    },
    {
     "name": "stderr",
     "output_type": "stream",
     "text": [
      "19:31:28 - cmdstanpy - INFO - Chain [1] start processing\n",
      "19:31:28 - cmdstanpy - INFO - Chain [1] start processing\n",
      "19:31:28 - cmdstanpy - INFO - Chain [1] done processing\n",
      "19:31:29 - cmdstanpy - INFO - Chain [1] done processing\n"
     ]
    },
    {
     "name": "stdout",
     "output_type": "stream",
     "text": [
      "It's underpredicted.\n",
      "Monthly Error: 46.95 Period MAE: 55.169999999999995\n",
      "It's overpredicted.\n",
      "\n",
      "22.46Monthly Error: 87.26 Period MAE: It's underpredicted.\n",
      "Monthly Error: 46.95 Period MAE: 55.169999999999995\n"
     ]
    },
    {
     "name": "stderr",
     "output_type": "stream",
     "text": [
      "19:31:30 - cmdstanpy - INFO - Chain [1] start processing\n",
      "19:31:31 - cmdstanpy - INFO - Chain [1] start processing\n",
      "19:31:31 - cmdstanpy - INFO - Chain [1] done processing\n",
      "19:31:31 - cmdstanpy - INFO - Chain [1] done processing\n",
      "19:31:32 - cmdstanpy - INFO - Chain [1] start processing\n"
     ]
    },
    {
     "name": "stdout",
     "output_type": "stream",
     "text": [
      "It's overpredicted.\n",
      "Monthly Error: 87.26 Period MAE: 22.46\n"
     ]
    },
    {
     "name": "stderr",
     "output_type": "stream",
     "text": [
      "19:31:33 - cmdstanpy - INFO - Chain [1] start processing\n"
     ]
    },
    {
     "name": "stdout",
     "output_type": "stream",
     "text": [
      "It's underpredicted.\n",
      "Monthly Error: 100.0 Period MAE: 100.0\n"
     ]
    },
    {
     "name": "stderr",
     "output_type": "stream",
     "text": [
      "19:31:33 - cmdstanpy - INFO - Chain [1] done processing\n",
      "19:31:33 - cmdstanpy - INFO - Chain [1] done processing\n"
     ]
    },
    {
     "name": "stdout",
     "output_type": "stream",
     "text": [
      "It's overpredicted. \n",
      "Monthly Error:87.26 Period MAE: 22.46\n"
     ]
    },
    {
     "name": "stderr",
     "output_type": "stream",
     "text": [
      "19:31:34 - cmdstanpy - INFO - Chain [1] start processing\n",
      "19:31:34 - cmdstanpy - INFO - Chain [1] start processing\n",
      "19:31:35 - cmdstanpy - INFO - Chain [1] done processing\n",
      "19:31:35 - cmdstanpy - INFO - Chain [1] done processing\n"
     ]
    },
    {
     "name": "stdout",
     "output_type": "stream",
     "text": [
      "It's underpredicted.\n",
      "Monthly Error: 100.0 Period MAE: 100.0\n",
      "It's overpredicted.\n",
      "Monthly Error: 87.58 Period MAE: 22.41\n"
     ]
    },
    {
     "name": "stderr",
     "output_type": "stream",
     "text": [
      "19:31:37 - cmdstanpy - INFO - Chain [1] start processing\n",
      "19:31:37 - cmdstanpy - INFO - Chain [1] start processing\n"
     ]
    },
    {
     "name": "stdout",
     "output_type": "stream",
     "text": [
      "It's underpredicted.\n",
      "Monthly Error: "
     ]
    },
    {
     "name": "stderr",
     "output_type": "stream",
     "text": [
      "19:31:38 - cmdstanpy - INFO - Chain [1] done processing\n"
     ]
    },
    {
     "name": "stdout",
     "output_type": "stream",
     "text": [
      "100.0 Period MAE: 100.0\n"
     ]
    },
    {
     "name": "stderr",
     "output_type": "stream",
     "text": [
      "19:31:38 - cmdstanpy - INFO - Chain [1] done processing\n"
     ]
    },
    {
     "name": "stdout",
     "output_type": "stream",
     "text": [
      "It's overpredicted.\n",
      "Monthly Error: 87.58 Period MAE: 22.41It's underpredicted.\n"
     ]
    },
    {
     "name": "stderr",
     "output_type": "stream",
     "text": [
      "19:31:39 - cmdstanpy - INFO - Chain [1] start processing\n"
     ]
    },
    {
     "name": "stdout",
     "output_type": "stream",
     "text": [
      "\n",
      "Monthly Error: 55.94 Period MAE: 72.46000000000001\n"
     ]
    },
    {
     "name": "stderr",
     "output_type": "stream",
     "text": [
      "19:31:39 - cmdstanpy - INFO - Chain [1] start processing\n",
      "19:31:40 - cmdstanpy - INFO - Chain [1] done processing\n",
      "19:31:40 - cmdstanpy - INFO - Chain [1] done processing\n",
      "19:31:41 - cmdstanpy - INFO - Chain [1] start processing\n"
     ]
    },
    {
     "name": "stdout",
     "output_type": "stream",
     "text": [
      "It's overpredicted.\n",
      "Monthly Error: 87.58 Period MAE: 22.41\n"
     ]
    },
    {
     "name": "stderr",
     "output_type": "stream",
     "text": [
      "19:31:41 - cmdstanpy - INFO - Chain [1] start processing\n",
      "19:31:42 - cmdstanpy - INFO - Chain [1] done processing\n",
      "19:31:42 - cmdstanpy - INFO - Chain [1] done processing\n"
     ]
    },
    {
     "name": "stdout",
     "output_type": "stream",
     "text": [
      "It's underpredicted.\n",
      "Monthly Error: 55.94 Period MAE: 72.46000000000001\n",
      "It's overpredicted.\n",
      "Monthly Error: 86.25 Period MAE: 21.82\n"
     ]
    },
    {
     "name": "stderr",
     "output_type": "stream",
     "text": [
      "19:31:44 - cmdstanpy - INFO - Chain [1] start processing\n",
      "19:31:44 - cmdstanpy - INFO - Chain [1] start processing\n",
      "19:31:45 - cmdstanpy - INFO - Chain [1] done processing\n"
     ]
    },
    {
     "name": "stdout",
     "output_type": "stream",
     "text": [
      "It's underpredicted.\n",
      "Monthly Error: 55.94 Period MAE:"
     ]
    },
    {
     "name": "stderr",
     "output_type": "stream",
     "text": [
      "19:31:45 - cmdstanpy - INFO - Chain [1] done processing\n"
     ]
    },
    {
     "name": "stdout",
     "output_type": "stream",
     "text": [
      " 72.46000000000001\n",
      "It's overpredicted.\n",
      "Monthly Error: 86.25 Period MAE: 21.82\n"
     ]
    },
    {
     "name": "stderr",
     "output_type": "stream",
     "text": [
      "19:31:47 - cmdstanpy - INFO - Chain [1] start processing\n",
      "19:31:47 - cmdstanpy - INFO - Chain [1] start processing\n"
     ]
    },
    {
     "name": "stdout",
     "output_type": "stream",
     "text": [
      "It's underpredicted.\n",
      "Monthly Error: "
     ]
    },
    {
     "name": "stderr",
     "output_type": "stream",
     "text": [
      "19:31:47 - cmdstanpy - INFO - Chain [1] done processing\n"
     ]
    },
    {
     "name": "stdout",
     "output_type": "stream",
     "text": [
      "100.0 Period MAE: 100.0\n"
     ]
    },
    {
     "name": "stderr",
     "output_type": "stream",
     "text": [
      "19:31:48 - cmdstanpy - INFO - Chain [1] done processing\n",
      "19:31:49 - cmdstanpy - INFO - Chain [1] start processing\n"
     ]
    },
    {
     "name": "stdout",
     "output_type": "stream",
     "text": [
      "It's overpredicted.\n",
      "Monthly Error: 86.25 Period MAE: 21.82\n",
      "It's underpredicted.\n",
      "Monthly Error: 100.0 Period MAE: 100.0\n"
     ]
    },
    {
     "name": "stderr",
     "output_type": "stream",
     "text": [
      "19:31:50 - cmdstanpy - INFO - Chain [1] start processing\n",
      "19:31:50 - cmdstanpy - INFO - Chain [1] done processing\n",
      "19:31:50 - cmdstanpy - INFO - Chain [1] done processing\n"
     ]
    },
    {
     "name": "stdout",
     "output_type": "stream",
     "text": [
      "It's overpredicted.\n",
      "Monthly Error: 84.23 Period MAE: 20.13\n"
     ]
    },
    {
     "name": "stderr",
     "output_type": "stream",
     "text": [
      "19:31:51 - cmdstanpy - INFO - Chain [1] start processing\n",
      "19:31:52 - cmdstanpy - INFO - Chain [1] start processing\n",
      "19:31:52 - cmdstanpy - INFO - Chain [1] done processing\n",
      "19:31:52 - cmdstanpy - INFO - Chain [1] done processing\n"
     ]
    },
    {
     "name": "stdout",
     "output_type": "stream",
     "text": [
      "It's underpredicted.\n",
      "Monthly Error: 100.0 Period MAE: 100.0\n",
      "It's overpredicted.\n",
      "Monthly Error: 84.23 Period MAE: 20.13\n"
     ]
    },
    {
     "name": "stderr",
     "output_type": "stream",
     "text": [
      "19:31:54 - cmdstanpy - INFO - Chain [1] start processing\n",
      "19:31:54 - cmdstanpy - INFO - Chain [1] start processing\n",
      "19:31:54 - cmdstanpy - INFO - Chain [1] done processing\n"
     ]
    },
    {
     "name": "stdout",
     "output_type": "stream",
     "text": [
      "It's underpredicted.\n",
      "Monthly Error: 46.95 Period MAE: 55.169999999999995\n"
     ]
    },
    {
     "name": "stderr",
     "output_type": "stream",
     "text": [
      "19:31:55 - cmdstanpy - INFO - Chain [1] done processing\n"
     ]
    },
    {
     "name": "stdout",
     "output_type": "stream",
     "text": [
      "It's overpredicted.\n",
      "Monthly Error: 84.23 Period MAE: 20.13\n"
     ]
    },
    {
     "name": "stderr",
     "output_type": "stream",
     "text": [
      "19:31:56 - cmdstanpy - INFO - Chain [1] start processing\n",
      "19:31:56 - cmdstanpy - INFO - Chain [1] start processing\n"
     ]
    },
    {
     "name": "stdout",
     "output_type": "stream",
     "text": [
      "It's underpredicted.\n",
      "Monthly Error: 46.95 Period MAE: 55.169999999999995\n"
     ]
    },
    {
     "name": "stderr",
     "output_type": "stream",
     "text": [
      "19:31:57 - cmdstanpy - INFO - Chain [1] done processing\n",
      "19:31:57 - cmdstanpy - INFO - Chain [1] done processing\n"
     ]
    },
    {
     "name": "stdout",
     "output_type": "stream",
     "text": [
      "It's overpredicted.\n",
      "Monthly Error: 83.85 Period MAE: 17.810000000000002\n"
     ]
    },
    {
     "name": "stderr",
     "output_type": "stream",
     "text": [
      "19:31:58 - cmdstanpy - INFO - Chain [1] start processing\n",
      "19:31:58 - cmdstanpy - INFO - Chain [1] start processing\n",
      "19:31:59 - cmdstanpy - INFO - Chain [1] done processing\n",
      "19:31:59 - cmdstanpy - INFO - Chain [1] done processing\n"
     ]
    },
    {
     "name": "stdout",
     "output_type": "stream",
     "text": [
      "It's underpredicted.\n",
      "Monthly Error: 46.95 Period MAE: 55.169999999999995\n",
      "It's overpredicted.\n",
      "Monthly Error: 83.85 Period MAE: 17.810000000000002\n"
     ]
    },
    {
     "name": "stderr",
     "output_type": "stream",
     "text": [
      "19:32:01 - cmdstanpy - INFO - Chain [1] start processing\n",
      "19:32:01 - cmdstanpy - INFO - Chain [1] start processing\n"
     ]
    },
    {
     "name": "stdout",
     "output_type": "stream",
     "text": [
      "It's underpredicted."
     ]
    },
    {
     "name": "stderr",
     "output_type": "stream",
     "text": [
      "19:32:01 - cmdstanpy - INFO - Chain [1] done processing\n"
     ]
    },
    {
     "name": "stdout",
     "output_type": "stream",
     "text": [
      "\n",
      "Monthly Error: 46.91 Period MAE: 55.15\n"
     ]
    },
    {
     "name": "stderr",
     "output_type": "stream",
     "text": [
      "19:32:01 - cmdstanpy - INFO - Chain [1] done processing\n"
     ]
    },
    {
     "name": "stdout",
     "output_type": "stream",
     "text": [
      "It's overpredicted.\n",
      "Monthly Error: 83.85 Period MAE: 17.810000000000002\n"
     ]
    },
    {
     "name": "stderr",
     "output_type": "stream",
     "text": [
      "19:32:03 - cmdstanpy - INFO - Chain [1] start processing\n",
      "19:32:04 - cmdstanpy - INFO - Chain [1] start processing\n",
      "19:32:04 - cmdstanpy - INFO - Chain [1] done processing\n",
      "19:32:04 - cmdstanpy - INFO - Chain [1] done processing\n"
     ]
    },
    {
     "name": "stdout",
     "output_type": "stream",
     "text": [
      "It's underpredicted.\n",
      "Monthly Error: 46.91 Period MAE: 55.15\n",
      "It's overpredicted.\n",
      "Monthly Error: 72.23 Period MAE: 11.450000000000001\n"
     ]
    },
    {
     "name": "stderr",
     "output_type": "stream",
     "text": [
      "19:32:06 - cmdstanpy - INFO - Chain [1] start processing\n"
     ]
    },
    {
     "name": "stdout",
     "output_type": "stream",
     "text": [
      "It's underpredicted.\n",
      "Monthly Error: 46.91 Period MAE: 55.15\n"
     ]
    },
    {
     "name": "stderr",
     "output_type": "stream",
     "text": [
      "19:32:06 - cmdstanpy - INFO - Chain [1] start processing\n",
      "19:32:07 - cmdstanpy - INFO - Chain [1] done processing\n",
      "19:32:07 - cmdstanpy - INFO - Chain [1] done processing\n"
     ]
    },
    {
     "name": "stdout",
     "output_type": "stream",
     "text": [
      "It's overpredicted.\n",
      "Monthly Error: 72.23 Period MAE: 11.450000000000001\n"
     ]
    },
    {
     "name": "stderr",
     "output_type": "stream",
     "text": [
      "19:32:08 - cmdstanpy - INFO - Chain [1] start processing\n",
      "19:32:08 - cmdstanpy - INFO - Chain [1] start processing\n",
      "19:32:09 - cmdstanpy - INFO - Chain [1] done processing\n",
      "19:32:09 - cmdstanpy - INFO - Chain [1] done processing\n"
     ]
    },
    {
     "name": "stdout",
     "output_type": "stream",
     "text": [
      "It's underpredicted.\n",
      "Monthly Error: 46.95 Period MAE: 55.17999999999999\n",
      "It's overpredicted.\n",
      "Monthly Error: 72.23 Period MAE: 11.450000000000001\n"
     ]
    },
    {
     "name": "stderr",
     "output_type": "stream",
     "text": [
      "19:32:10 - cmdstanpy - INFO - Chain [1] start processing\n",
      "19:32:11 - cmdstanpy - INFO - Chain [1] start processing\n",
      "19:32:11 - cmdstanpy - INFO - Chain [1] done processing\n"
     ]
    },
    {
     "name": "stdout",
     "output_type": "stream",
     "text": [
      "It's underpredicted.\n",
      "Monthly Error: 46.95 Period MAE: 55.17999999999999\n"
     ]
    },
    {
     "name": "stderr",
     "output_type": "stream",
     "text": [
      "19:32:11 - cmdstanpy - INFO - Chain [1] done processing\n"
     ]
    },
    {
     "name": "stdout",
     "output_type": "stream",
     "text": [
      "It's overpredicted.\n",
      "Monthly Error: 87.26 Period MAE: 22.46\n"
     ]
    },
    {
     "name": "stderr",
     "output_type": "stream",
     "text": [
      "19:32:13 - cmdstanpy - INFO - Chain [1] start processing\n",
      "19:32:13 - cmdstanpy - INFO - Chain [1] start processing\n"
     ]
    },
    {
     "name": "stdout",
     "output_type": "stream",
     "text": [
      "It's underpredicted.\n",
      "Monthly Error: 46.95 Period MAE: 55.17999999999999\n"
     ]
    },
    {
     "name": "stderr",
     "output_type": "stream",
     "text": [
      "19:32:13 - cmdstanpy - INFO - Chain [1] done processing\n",
      "19:32:14 - cmdstanpy - INFO - Chain [1] done processing\n"
     ]
    },
    {
     "name": "stdout",
     "output_type": "stream",
     "text": [
      "It's overpredicted.\n",
      "Monthly Error: 87.26 Period MAE: 22.46\n"
     ]
    },
    {
     "name": "stderr",
     "output_type": "stream",
     "text": [
      "19:32:15 - cmdstanpy - INFO - Chain [1] start processing\n",
      "19:32:15 - cmdstanpy - INFO - Chain [1] start processing\n",
      "19:32:15 - cmdstanpy - INFO - Chain [1] done processing\n",
      "19:32:16 - cmdstanpy - INFO - Chain [1] done processing\n"
     ]
    },
    {
     "name": "stdout",
     "output_type": "stream",
     "text": [
      "It's underpredicted.\n",
      "Monthly Error: 100.0 Period MAE: 100.0\n",
      "It's overpredicted.\n",
      "Monthly Error: 87.26 Period MAE: 22.46\n"
     ]
    },
    {
     "name": "stderr",
     "output_type": "stream",
     "text": [
      "19:32:17 - cmdstanpy - INFO - Chain [1] start processing\n",
      "19:32:17 - cmdstanpy - INFO - Chain [1] start processing\n",
      "19:32:18 - cmdstanpy - INFO - Chain [1] done processing\n"
     ]
    },
    {
     "name": "stdout",
     "output_type": "stream",
     "text": [
      "It's underpredicted.\n",
      "Monthly Error: 100.0 Period MAE: 100.0\n"
     ]
    },
    {
     "name": "stderr",
     "output_type": "stream",
     "text": [
      "19:32:18 - cmdstanpy - INFO - Chain [1] done processing\n"
     ]
    },
    {
     "name": "stdout",
     "output_type": "stream",
     "text": [
      "It's overpredicted.\n",
      "Monthly Error: 85.94 Period MAE: 21.16\n"
     ]
    },
    {
     "name": "stderr",
     "output_type": "stream",
     "text": [
      "19:32:20 - cmdstanpy - INFO - Chain [1] start processing\n",
      "19:32:20 - cmdstanpy - INFO - Chain [1] start processing\n"
     ]
    },
    {
     "name": "stdout",
     "output_type": "stream",
     "text": [
      "It's underpredicted.\n",
      "Monthly Error: 100.0 Period MAE: 100.0\n"
     ]
    },
    {
     "name": "stderr",
     "output_type": "stream",
     "text": [
      "19:32:20 - cmdstanpy - INFO - Chain [1] done processing\n",
      "19:32:21 - cmdstanpy - INFO - Chain [1] done processing\n",
      "19:32:21 - cmdstanpy - INFO - Chain [1] start processing\n"
     ]
    },
    {
     "name": "stdout",
     "output_type": "stream",
     "text": [
      "It's overpredicted.\n",
      "Monthly Error: 85.94 Period MAE: 21.16\n"
     ]
    },
    {
     "name": "stderr",
     "output_type": "stream",
     "text": [
      "19:32:22 - cmdstanpy - INFO - Chain [1] start processing\n",
      "19:32:22 - cmdstanpy - INFO - Chain [1] done processing\n"
     ]
    },
    {
     "name": "stdout",
     "output_type": "stream",
     "text": [
      "It's underpredicted.\n",
      "Monthly Error: 55.94 "
     ]
    },
    {
     "name": "stderr",
     "output_type": "stream",
     "text": [
      "19:32:23 - cmdstanpy - INFO - Chain [1] done processing\n"
     ]
    },
    {
     "name": "stdout",
     "output_type": "stream",
     "text": [
      "Period MAE: 72.46000000000001\n",
      "It's overpredicted.\n",
      "Monthly Error: 85.94 Period MAE: 21.16\n"
     ]
    },
    {
     "name": "stderr",
     "output_type": "stream",
     "text": [
      "19:32:24 - cmdstanpy - INFO - Chain [1] start processing\n",
      "19:32:24 - cmdstanpy - INFO - Chain [1] start processing\n",
      "19:32:25 - cmdstanpy - INFO - Chain [1] done processing\n",
      "19:32:25 - cmdstanpy - INFO - Chain [1] done processing\n"
     ]
    },
    {
     "name": "stdout",
     "output_type": "stream",
     "text": [
      "It's underpredicted.\n",
      "Monthly Error: 55.94 Period MAE: 72.46000000000001\n",
      "It's overpredicted.\n",
      "Monthly Error: 85.32 Period MAE: 21.0\n"
     ]
    },
    {
     "name": "stderr",
     "output_type": "stream",
     "text": [
      "19:32:26 - cmdstanpy - INFO - Chain [1] start processing\n",
      "19:32:26 - cmdstanpy - INFO - Chain [1] start processing\n",
      "19:32:27 - cmdstanpy - INFO - Chain [1] done processing\n",
      "19:32:27 - cmdstanpy - INFO - Chain [1] done processing\n"
     ]
    },
    {
     "name": "stdout",
     "output_type": "stream",
     "text": [
      "It's underpredicted.\n",
      "Monthly Error: 55.94 Period MAE: 72.46000000000001\n",
      "It's overpredicted.Monthly Error:\n",
      " 85.32 Period MAE: 21.0\n"
     ]
    },
    {
     "name": "stderr",
     "output_type": "stream",
     "text": [
      "19:32:29 - cmdstanpy - INFO - Chain [1] start processing\n",
      "19:32:29 - cmdstanpy - INFO - Chain [1] start processing\n",
      "19:32:29 - cmdstanpy - INFO - Chain [1] done processing\n",
      "19:32:29 - cmdstanpy - INFO - Chain [1] done processing\n"
     ]
    },
    {
     "name": "stdout",
     "output_type": "stream",
     "text": [
      "It's underpredicted.\n",
      "Monthly Error: 100.0 Period MAE: 100.0\n",
      "It's overpredicted.\n",
      "Monthly Error: 85.32 Period MAE: 21.0\n"
     ]
    },
    {
     "name": "stderr",
     "output_type": "stream",
     "text": [
      "19:32:31 - cmdstanpy - INFO - Chain [1] start processing\n"
     ]
    },
    {
     "name": "stdout",
     "output_type": "stream",
     "text": [
      "It's underpredicted.\n"
     ]
    },
    {
     "name": "stderr",
     "output_type": "stream",
     "text": [
      "19:32:31 - cmdstanpy - INFO - Chain [1] start processing\n"
     ]
    },
    {
     "name": "stdout",
     "output_type": "stream",
     "text": [
      "Monthly Error: 100.0 Period MAE: 100.0\n"
     ]
    },
    {
     "name": "stderr",
     "output_type": "stream",
     "text": [
      "19:32:31 - cmdstanpy - INFO - Chain [1] done processing\n",
      "19:32:32 - cmdstanpy - INFO - Chain [1] done processing\n"
     ]
    },
    {
     "name": "stdout",
     "output_type": "stream",
     "text": [
      "It's overpredicted.\n",
      "Monthly Error: 84.75 Period MAE: 20.54\n"
     ]
    },
    {
     "name": "stderr",
     "output_type": "stream",
     "text": [
      "19:32:33 - cmdstanpy - INFO - Chain [1] start processing\n",
      "19:32:33 - cmdstanpy - INFO - Chain [1] start processing\n",
      "19:32:33 - cmdstanpy - INFO - Chain [1] done processing\n",
      "19:32:33 - cmdstanpy - INFO - Chain [1] done processing\n"
     ]
    },
    {
     "name": "stdout",
     "output_type": "stream",
     "text": [
      "It's underpredicted.\n",
      "Monthly Error: 100.0 Period MAE: 100.0\n",
      "It's overpredicted.\n",
      "Monthly Error: 84.75 Period MAE: 20.54\n"
     ]
    },
    {
     "name": "stderr",
     "output_type": "stream",
     "text": [
      "19:32:35 - cmdstanpy - INFO - Chain [1] start processing\n",
      "19:32:35 - cmdstanpy - INFO - Chain [1] start processing\n",
      "19:32:35 - cmdstanpy - INFO - Chain [1] done processing\n",
      "19:32:35 - cmdstanpy - INFO - Chain [1] done processing\n"
     ]
    },
    {
     "name": "stdout",
     "output_type": "stream",
     "text": [
      "It's underpredicted.\n",
      "Monthly Error: 46.83 Period MAE: 55.08\n",
      "It's overpredicted.\n",
      "Monthly Error: 84.75 Period MAE: 20.54\n"
     ]
    },
    {
     "name": "stderr",
     "output_type": "stream",
     "text": [
      "19:32:37 - cmdstanpy - INFO - Chain [1] start processing\n",
      "19:32:37 - cmdstanpy - INFO - Chain [1] start processing\n",
      "19:32:37 - cmdstanpy - INFO - Chain [1] done processing\n",
      "19:32:37 - cmdstanpy - INFO - Chain [1] done processing\n"
     ]
    },
    {
     "name": "stdout",
     "output_type": "stream",
     "text": [
      "It's underpredicted.\n",
      "Monthly Error: 46.83 Period MAE: 55.08\n",
      "It's overpredicted.\n",
      "Monthly Error: 85.09 Period MAE: 18.970000000000002\n"
     ]
    },
    {
     "name": "stderr",
     "output_type": "stream",
     "text": [
      "19:32:39 - cmdstanpy - INFO - Chain [1] start processing\n",
      "19:32:39 - cmdstanpy - INFO - Chain [1] start processing\n",
      "19:32:39 - cmdstanpy - INFO - Chain [1] done processing\n",
      "19:32:40 - cmdstanpy - INFO - Chain [1] done processing\n"
     ]
    },
    {
     "name": "stdout",
     "output_type": "stream",
     "text": [
      "It's underpredicted.\n",
      "Monthly Error: 46.83 Period MAE: 55.08\n",
      "It's overpredicted.\n",
      "Monthly Error: 85.09 Period MAE: 18.970000000000002\n"
     ]
    },
    {
     "name": "stderr",
     "output_type": "stream",
     "text": [
      "19:32:41 - cmdstanpy - INFO - Chain [1] start processing\n",
      "19:32:41 - cmdstanpy - INFO - Chain [1] start processing\n",
      "19:32:42 - cmdstanpy - INFO - Chain [1] done processing\n"
     ]
    },
    {
     "name": "stdout",
     "output_type": "stream",
     "text": [
      "It's underpredicted.\n",
      "Monthly Error: 46.54 Period MAE: 54.86\n"
     ]
    },
    {
     "name": "stderr",
     "output_type": "stream",
     "text": [
      "19:32:42 - cmdstanpy - INFO - Chain [1] done processing\n"
     ]
    },
    {
     "name": "stdout",
     "output_type": "stream",
     "text": [
      "It's overpredicted.\n",
      " Monthly Error:85.09 Period MAE: 18.970000000000002\n"
     ]
    },
    {
     "name": "stderr",
     "output_type": "stream",
     "text": [
      "19:32:43 - cmdstanpy - INFO - Chain [1] start processing\n",
      "19:32:43 - cmdstanpy - INFO - Chain [1] start processing\n",
      "19:32:44 - cmdstanpy - INFO - Chain [1] done processing\n"
     ]
    },
    {
     "name": "stdout",
     "output_type": "stream",
     "text": [
      "It's underpredicted.\n",
      "Monthly Error: 46.54 Period MAE: 54.86\n"
     ]
    },
    {
     "name": "stderr",
     "output_type": "stream",
     "text": [
      "19:32:44 - cmdstanpy - INFO - Chain [1] done processing\n"
     ]
    },
    {
     "name": "stdout",
     "output_type": "stream",
     "text": [
      "It's overpredicted.\n",
      "Monthly Error: 82.17 Period MAE: 18.55\n"
     ]
    },
    {
     "name": "stderr",
     "output_type": "stream",
     "text": [
      "19:32:45 - cmdstanpy - INFO - Chain [1] start processing\n",
      "19:32:45 - cmdstanpy - INFO - Chain [1] start processing\n",
      "19:32:46 - cmdstanpy - INFO - Chain [1] done processing\n"
     ]
    },
    {
     "name": "stdout",
     "output_type": "stream",
     "text": [
      "It's underpredicted.\n",
      "Monthly Error: 46.54 Period MAE: 54.86\n"
     ]
    },
    {
     "name": "stderr",
     "output_type": "stream",
     "text": [
      "19:32:46 - cmdstanpy - INFO - Chain [1] done processing\n"
     ]
    },
    {
     "name": "stdout",
     "output_type": "stream",
     "text": [
      "It's overpredicted.\n",
      "Monthly Error: 82.17 Period MAE: 18.55\n"
     ]
    },
    {
     "name": "stderr",
     "output_type": "stream",
     "text": [
      "19:32:48 - cmdstanpy - INFO - Chain [1] start processing\n",
      "19:32:48 - cmdstanpy - INFO - Chain [1] start processing\n"
     ]
    },
    {
     "name": "stdout",
     "output_type": "stream",
     "text": [
      "It's underpredicted."
     ]
    },
    {
     "name": "stderr",
     "output_type": "stream",
     "text": [
      "19:32:48 - cmdstanpy - INFO - Chain [1] done processing\n"
     ]
    },
    {
     "name": "stdout",
     "output_type": "stream",
     "text": [
      "\n",
      "Monthly Error: 46.69 Period MAE: 54.97\n"
     ]
    },
    {
     "name": "stderr",
     "output_type": "stream",
     "text": [
      "19:32:48 - cmdstanpy - INFO - Chain [1] done processing\n"
     ]
    },
    {
     "name": "stdout",
     "output_type": "stream",
     "text": [
      "It's overpredicted.\n",
      " Monthly Error:82.17 \n",
      "18.55Period MAE: "
     ]
    },
    {
     "name": "stderr",
     "output_type": "stream",
     "text": [
      "19:32:50 - cmdstanpy - INFO - Chain [1] start processing\n",
      "19:32:50 - cmdstanpy - INFO - Chain [1] start processing\n",
      "19:32:50 - cmdstanpy - INFO - Chain [1] done processing\n"
     ]
    },
    {
     "name": "stdout",
     "output_type": "stream",
     "text": [
      "It's underpredicted.\n",
      "Monthly Error: 46.69 Period MAE: 54.97\n"
     ]
    },
    {
     "name": "stderr",
     "output_type": "stream",
     "text": [
      "19:32:51 - cmdstanpy - INFO - Chain [1] done processing\n"
     ]
    },
    {
     "name": "stdout",
     "output_type": "stream",
     "text": [
      "It's overpredicted.\n",
      "Monthly Error: 88.0 Period MAE: 23.52\n"
     ]
    },
    {
     "name": "stderr",
     "output_type": "stream",
     "text": [
      "19:32:53 - cmdstanpy - INFO - Chain [1] start processing\n",
      "19:32:53 - cmdstanpy - INFO - Chain [1] start processing\n",
      "19:32:53 - cmdstanpy - INFO - Chain [1] done processing\n"
     ]
    },
    {
     "name": "stdout",
     "output_type": "stream",
     "text": [
      "It's underpredicted.\n",
      "Monthly Error: 46.69 Period MAE: 54.97\n"
     ]
    },
    {
     "name": "stderr",
     "output_type": "stream",
     "text": [
      "19:32:54 - cmdstanpy - INFO - Chain [1] done processing\n"
     ]
    },
    {
     "name": "stdout",
     "output_type": "stream",
     "text": [
      "It's overpredicted.\n",
      "Monthly Error: 88.0 Period MAE: 23.52\n"
     ]
    },
    {
     "name": "stderr",
     "output_type": "stream",
     "text": [
      "19:32:55 - cmdstanpy - INFO - Chain [1] start processing\n",
      "19:32:55 - cmdstanpy - INFO - Chain [1] start processing\n"
     ]
    },
    {
     "name": "stdout",
     "output_type": "stream",
     "text": [
      "It's underpredicted.\n",
      "Monthly Error: 100.0 Period MAE: 100.0\n"
     ]
    },
    {
     "name": "stderr",
     "output_type": "stream",
     "text": [
      "19:32:55 - cmdstanpy - INFO - Chain [1] done processing\n",
      "19:32:56 - cmdstanpy - INFO - Chain [1] done processing\n"
     ]
    },
    {
     "name": "stdout",
     "output_type": "stream",
     "text": [
      "It's overpredicted.\n",
      "Monthly Error: 88.0 Period MAE: 23.52\n"
     ]
    },
    {
     "name": "stderr",
     "output_type": "stream",
     "text": [
      "19:32:57 - cmdstanpy - INFO - Chain [1] start processing\n",
      "19:32:57 - cmdstanpy - INFO - Chain [1] start processing\n"
     ]
    },
    {
     "name": "stdout",
     "output_type": "stream",
     "text": [
      "It's underpredicted.\n",
      "Monthly Error:"
     ]
    },
    {
     "name": "stderr",
     "output_type": "stream",
     "text": [
      "19:32:57 - cmdstanpy - INFO - Chain [1] done processing\n"
     ]
    },
    {
     "name": "stdout",
     "output_type": "stream",
     "text": [
      " 100.0 Period MAE: 100.0\n"
     ]
    },
    {
     "name": "stderr",
     "output_type": "stream",
     "text": [
      "19:32:58 - cmdstanpy - INFO - Chain [1] done processing\n",
      "19:32:59 - cmdstanpy - INFO - Chain [1] start processing\n"
     ]
    },
    {
     "name": "stdout",
     "output_type": "stream",
     "text": [
      "It's overpredicted.\n",
      "Monthly Error: 87.14 Period MAE: 22.37\n"
     ]
    },
    {
     "name": "stderr",
     "output_type": "stream",
     "text": [
      "19:33:00 - cmdstanpy - INFO - Chain [1] start processing\n"
     ]
    },
    {
     "name": "stdout",
     "output_type": "stream",
     "text": [
      "It's underpredicted.\n",
      "Monthly Error: 100.0 Period MAE: 100.0\n"
     ]
    },
    {
     "name": "stderr",
     "output_type": "stream",
     "text": [
      "19:33:00 - cmdstanpy - INFO - Chain [1] done processing\n",
      "19:33:01 - cmdstanpy - INFO - Chain [1] done processing\n",
      "19:33:01 - cmdstanpy - INFO - Chain [1] start processing\n"
     ]
    },
    {
     "name": "stdout",
     "output_type": "stream",
     "text": [
      "It's overpredicted.\n",
      "Monthly Error:It's underpredicted. 87.14 Period MAE: 22.37\n",
      "\n",
      "Monthly Error: 60.1 Period MAE: 75.06\n"
     ]
    },
    {
     "name": "stderr",
     "output_type": "stream",
     "text": [
      "19:33:02 - cmdstanpy - INFO - Chain [1] start processing\n",
      "19:33:03 - cmdstanpy - INFO - Chain [1] done processing\n",
      "19:33:04 - cmdstanpy - INFO - Chain [1] done processing\n",
      "19:33:04 - cmdstanpy - INFO - Chain [1] start processing\n"
     ]
    },
    {
     "name": "stdout",
     "output_type": "stream",
     "text": [
      "It's underpredicted.\n",
      "Monthly Error: 60.1 Period MAE: 75.06\n"
     ]
    },
    {
     "name": "stderr",
     "output_type": "stream",
     "text": [
      "19:33:05 - cmdstanpy - INFO - Chain [1] start processing\n"
     ]
    },
    {
     "name": "stdout",
     "output_type": "stream",
     "text": [
      "It's overpredicted.\n",
      "Monthly Error: 87.14 Period MAE: 22.37\n"
     ]
    },
    {
     "name": "stderr",
     "output_type": "stream",
     "text": [
      "19:33:05 - cmdstanpy - INFO - Chain [1] done processing\n",
      "19:33:05 - cmdstanpy - INFO - Chain [1] done processing\n"
     ]
    },
    {
     "name": "stdout",
     "output_type": "stream",
     "text": [
      "It's overpredicted.\n",
      "Monthly Error: Period MAE:85.91  21.68\n"
     ]
    },
    {
     "name": "stderr",
     "output_type": "stream",
     "text": [
      "19:33:07 - cmdstanpy - INFO - Chain [1] start processing\n",
      "19:33:07 - cmdstanpy - INFO - Chain [1] start processing\n",
      "19:33:07 - cmdstanpy - INFO - Chain [1] done processing\n"
     ]
    },
    {
     "name": "stdout",
     "output_type": "stream",
     "text": [
      "It's underpredicted.\n",
      "Monthly Error: 60.1 Period MAE:"
     ]
    },
    {
     "name": "stderr",
     "output_type": "stream",
     "text": [
      "19:33:08 - cmdstanpy - INFO - Chain [1] done processing\n"
     ]
    },
    {
     "name": "stdout",
     "output_type": "stream",
     "text": [
      " 75.06\n",
      "It's overpredicted.\n",
      "Monthly Error: 85.91 Period MAE: 21.68\n"
     ]
    },
    {
     "name": "stderr",
     "output_type": "stream",
     "text": [
      "19:33:09 - cmdstanpy - INFO - Chain [1] start processing\n",
      "19:33:09 - cmdstanpy - INFO - Chain [1] start processing\n"
     ]
    },
    {
     "name": "stdout",
     "output_type": "stream",
     "text": [
      "It's underpredicted.\n",
      "Monthly Error: 55.09 Period MAE: 69.39999999999999\n"
     ]
    },
    {
     "name": "stderr",
     "output_type": "stream",
     "text": [
      "19:33:10 - cmdstanpy - INFO - Chain [1] done processing\n",
      "19:33:10 - cmdstanpy - INFO - Chain [1] done processing\n"
     ]
    },
    {
     "name": "stdout",
     "output_type": "stream",
     "text": [
      "It's overpredicted.\n",
      "Monthly Error: 85.91 Period MAE: 21.68\n"
     ]
    },
    {
     "name": "stderr",
     "output_type": "stream",
     "text": [
      "19:33:11 - cmdstanpy - INFO - Chain [1] start processing\n"
     ]
    },
    {
     "name": "stdout",
     "output_type": "stream",
     "text": [
      "It's underpredicted.\n",
      "Monthly Error: 55.09 Period MAE: 69.39999999999999\n"
     ]
    },
    {
     "name": "stderr",
     "output_type": "stream",
     "text": [
      "19:33:12 - cmdstanpy - INFO - Chain [1] start processing\n",
      "19:33:12 - cmdstanpy - INFO - Chain [1] done processing\n",
      "19:33:12 - cmdstanpy - INFO - Chain [1] done processing\n"
     ]
    },
    {
     "name": "stdout",
     "output_type": "stream",
     "text": [
      "It's overpredicted.\n",
      "Monthly Error:84.75  Period MAE: 20.54\n"
     ]
    },
    {
     "name": "stderr",
     "output_type": "stream",
     "text": [
      "19:33:13 - cmdstanpy - INFO - Chain [1] start processing\n",
      "19:33:13 - cmdstanpy - INFO - Chain [1] start processing\n",
      "19:33:13 - cmdstanpy - INFO - Chain [1] done processing\n",
      "19:33:14 - cmdstanpy - INFO - Chain [1] done processing\n"
     ]
    },
    {
     "name": "stdout",
     "output_type": "stream",
     "text": [
      "It's underpredicted.\n",
      "Monthly Error: 55.09 It's overpredicted.\n",
      "Monthly Error:Period MAE:  84.7569.39999999999999\n",
      " Period MAE: 20.54\n"
     ]
    },
    {
     "name": "stderr",
     "output_type": "stream",
     "text": [
      "19:33:15 - cmdstanpy - INFO - Chain [1] start processing\n",
      "19:33:15 - cmdstanpy - INFO - Chain [1] start processing\n",
      "19:33:16 - cmdstanpy - INFO - Chain [1] done processing\n",
      "19:33:16 - cmdstanpy - INFO - Chain [1] done processing\n"
     ]
    },
    {
     "name": "stdout",
     "output_type": "stream",
     "text": [
      "It's underpredicted.\n",
      "Monthly Error: 46.83 Period MAE: 55.08\n",
      "It's overpredicted.\n",
      "Monthly Error: 84.75 Period MAE: 20.54\n",
      "It's underpredicted.\n",
      "Monthly Error: 46.83 Period MAE: 55.08\n"
     ]
    },
    {
     "name": "stderr",
     "output_type": "stream",
     "text": [
      "19:33:18 - cmdstanpy - INFO - Chain [1] start processing\n",
      "19:33:18 - cmdstanpy - INFO - Chain [1] start processing\n",
      "19:33:18 - cmdstanpy - INFO - Chain [1] done processing\n",
      "19:33:19 - cmdstanpy - INFO - Chain [1] done processing\n",
      "19:33:19 - cmdstanpy - INFO - Chain [1] start processing\n"
     ]
    },
    {
     "name": "stdout",
     "output_type": "stream",
     "text": [
      "It's underpredicted.\n",
      "Monthly Error: 46.83 Period MAE: 55.08\n",
      "It's overpredicted.\n",
      "Monthly Error: 83.91 Period MAE: 17.89\n"
     ]
    },
    {
     "name": "stderr",
     "output_type": "stream",
     "text": [
      "19:33:20 - cmdstanpy - INFO - Chain [1] start processing\n",
      "19:33:20 - cmdstanpy - INFO - Chain [1] done processing\n",
      "19:33:20 - cmdstanpy - INFO - Chain [1] done processing\n",
      "19:33:21 - cmdstanpy - INFO - Chain [1] start processing\n"
     ]
    },
    {
     "name": "stdout",
     "output_type": "stream",
     "text": [
      "It's overpredicted.\n",
      "Monthly Error: 83.91 Period MAE: 17.89\n"
     ]
    },
    {
     "name": "stderr",
     "output_type": "stream",
     "text": [
      "19:33:22 - cmdstanpy - INFO - Chain [1] start processing\n",
      "19:33:22 - cmdstanpy - INFO - Chain [1] done processing\n"
     ]
    },
    {
     "name": "stdout",
     "output_type": "stream",
     "text": [
      "It's underpredicted.\n",
      "Monthly Error: 46.85 Period MAE: 55.089999999999996\n"
     ]
    },
    {
     "name": "stderr",
     "output_type": "stream",
     "text": [
      "19:33:22 - cmdstanpy - INFO - Chain [1] done processing\n"
     ]
    },
    {
     "name": "stdout",
     "output_type": "stream",
     "text": [
      "It's overpredicted.\n",
      "Monthly Error: 83.91 Period MAE: 17.89\n"
     ]
    },
    {
     "name": "stderr",
     "output_type": "stream",
     "text": [
      "19:33:24 - cmdstanpy - INFO - Chain [1] start processing\n",
      "19:33:24 - cmdstanpy - INFO - Chain [1] start processing\n",
      "19:33:24 - cmdstanpy - INFO - Chain [1] done processing\n"
     ]
    },
    {
     "name": "stdout",
     "output_type": "stream",
     "text": [
      "It's underpredicted.\n",
      "Monthly Error: 46.85 Period MAE: 55.089999999999996\n"
     ]
    },
    {
     "name": "stderr",
     "output_type": "stream",
     "text": [
      "19:33:25 - cmdstanpy - INFO - Chain [1] done processing\n"
     ]
    },
    {
     "name": "stdout",
     "output_type": "stream",
     "text": [
      "It's overpredicted.\n",
      "Monthly Error: 74.89 Period MAE: 13.22\n"
     ]
    },
    {
     "name": "stderr",
     "output_type": "stream",
     "text": [
      "19:33:26 - cmdstanpy - INFO - Chain [1] start processing\n",
      "19:33:26 - cmdstanpy - INFO - Chain [1] start processing\n"
     ]
    },
    {
     "name": "stdout",
     "output_type": "stream",
     "text": [
      "It's underpredicted.\n",
      "Monthly Error: 46.85 Period MAE: 55.089999999999996\n"
     ]
    },
    {
     "name": "stderr",
     "output_type": "stream",
     "text": [
      "19:33:27 - cmdstanpy - INFO - Chain [1] done processing\n",
      "19:33:27 - cmdstanpy - INFO - Chain [1] done processing\n"
     ]
    },
    {
     "name": "stdout",
     "output_type": "stream",
     "text": [
      "It's overpredicted.\n",
      "Monthly Error: 74.89 Period MAE: 13.22\n"
     ]
    },
    {
     "name": "stderr",
     "output_type": "stream",
     "text": [
      "19:33:28 - cmdstanpy - INFO - Chain [1] start processing\n",
      "19:33:28 - cmdstanpy - INFO - Chain [1] start processing\n"
     ]
    },
    {
     "name": "stdout",
     "output_type": "stream",
     "text": [
      "It's underpredicted.\n",
      "Monthly Error: 46.84 Period MAE:55.089999999999996 \n"
     ]
    },
    {
     "name": "stderr",
     "output_type": "stream",
     "text": [
      "19:33:29 - cmdstanpy - INFO - Chain [1] done processing\n",
      "19:33:29 - cmdstanpy - INFO - Chain [1] done processing\n"
     ]
    },
    {
     "name": "stdout",
     "output_type": "stream",
     "text": [
      "It's overpredicted.\n",
      "Monthly Error: 74.89 Period MAE: 13.22\n"
     ]
    },
    {
     "name": "stderr",
     "output_type": "stream",
     "text": [
      "19:33:30 - cmdstanpy - INFO - Chain [1] start processing\n",
      "19:33:31 - cmdstanpy - INFO - Chain [1] start processing\n",
      "19:33:31 - cmdstanpy - INFO - Chain [1] done processing\n",
      "19:33:31 - cmdstanpy - INFO - Chain [1] done processing\n"
     ]
    },
    {
     "name": "stdout",
     "output_type": "stream",
     "text": [
      "It's underpredicted.\n",
      "Monthly Error: 46.84 Period MAE: 55.089999999999996\n",
      "It's overpredicted.\n",
      "Monthly Error: 88.0 Period MAE:23.52 \n"
     ]
    },
    {
     "name": "stderr",
     "output_type": "stream",
     "text": [
      "19:33:33 - cmdstanpy - INFO - Chain [1] start processing\n",
      "19:33:33 - cmdstanpy - INFO - Chain [1] start processing\n",
      "19:33:33 - cmdstanpy - INFO - Chain [1] done processing\n"
     ]
    },
    {
     "name": "stdout",
     "output_type": "stream",
     "text": [
      "It's underpredicted.\n",
      "Monthly Error: 46.84 Period MAE: 55.089999999999996\n"
     ]
    },
    {
     "name": "stderr",
     "output_type": "stream",
     "text": [
      "19:33:34 - cmdstanpy - INFO - Chain [1] done processing\n"
     ]
    },
    {
     "name": "stdout",
     "output_type": "stream",
     "text": [
      "It's overpredicted.\n",
      "Monthly Error: 88.0 Period MAE: 23.52\n"
     ]
    },
    {
     "name": "stderr",
     "output_type": "stream",
     "text": [
      "19:33:35 - cmdstanpy - INFO - Chain [1] start processing\n"
     ]
    },
    {
     "name": "stdout",
     "output_type": "stream",
     "text": [
      "It's underpredicted.\n",
      "Monthly Error: 100.0 Period MAE: 100.0\n"
     ]
    },
    {
     "name": "stderr",
     "output_type": "stream",
     "text": [
      "19:33:35 - cmdstanpy - INFO - Chain [1] start processing\n",
      "19:33:35 - cmdstanpy - INFO - Chain [1] done processing\n",
      "19:33:36 - cmdstanpy - INFO - Chain [1] done processing\n"
     ]
    },
    {
     "name": "stdout",
     "output_type": "stream",
     "text": [
      "It's overpredicted.\n",
      "Monthly Error: 88.0 Period MAE: 23.52\n"
     ]
    },
    {
     "name": "stderr",
     "output_type": "stream",
     "text": [
      "19:33:37 - cmdstanpy - INFO - Chain [1] start processing\n",
      "19:33:37 - cmdstanpy - INFO - Chain [1] start processing\n",
      "19:33:37 - cmdstanpy - INFO - Chain [1] done processing\n",
      "19:33:37 - cmdstanpy - INFO - Chain [1] done processing\n"
     ]
    },
    {
     "name": "stdout",
     "output_type": "stream",
     "text": [
      "It's underpredicted.\n",
      "Monthly Error: 100.0 Period MAE: 100.0\n",
      "It's overpredicted.\n",
      "Monthly Error: 86.73 Period MAE: 22.54\n"
     ]
    },
    {
     "name": "stderr",
     "output_type": "stream",
     "text": [
      "19:33:39 - cmdstanpy - INFO - Chain [1] start processing\n",
      "19:33:39 - cmdstanpy - INFO - Chain [1] start processing\n",
      "19:33:39 - cmdstanpy - INFO - Chain [1] done processing\n",
      "19:33:39 - cmdstanpy - INFO - Chain [1] done processing\n"
     ]
    },
    {
     "name": "stdout",
     "output_type": "stream",
     "text": [
      "It's underpredicted.\n",
      "Monthly Error: 100.0 Period MAE: 100.0\n",
      "It's overpredicted.\n",
      "Monthly Error: 86.73 Period MAE: 22.54\n"
     ]
    },
    {
     "name": "stderr",
     "output_type": "stream",
     "text": [
      "19:33:41 - cmdstanpy - INFO - Chain [1] start processing\n",
      "19:33:41 - cmdstanpy - INFO - Chain [1] start processing\n"
     ]
    },
    {
     "name": "stdout",
     "output_type": "stream",
     "text": [
      "It's underpredicted.\n",
      "Monthly Error: 56.0 Period MAE: 72.5\n"
     ]
    },
    {
     "name": "stderr",
     "output_type": "stream",
     "text": [
      "19:33:41 - cmdstanpy - INFO - Chain [1] done processing\n",
      "19:33:42 - cmdstanpy - INFO - Chain [1] done processing\n"
     ]
    },
    {
     "name": "stdout",
     "output_type": "stream",
     "text": [
      "It's overpredicted.\n",
      "Monthly Error:"
     ]
    },
    {
     "name": "stderr",
     "output_type": "stream",
     "text": [
      "19:33:43 - cmdstanpy - INFO - Chain [1] start processing\n"
     ]
    },
    {
     "name": "stdout",
     "output_type": "stream",
     "text": [
      " 86.73 Period MAE: 22.54\n"
     ]
    },
    {
     "name": "stderr",
     "output_type": "stream",
     "text": [
      "19:33:43 - cmdstanpy - INFO - Chain [1] start processing\n",
      "19:33:43 - cmdstanpy - INFO - Chain [1] done processing\n"
     ]
    },
    {
     "name": "stdout",
     "output_type": "stream",
     "text": [
      "It's underpredicted.\n",
      "Monthly Error: 56.0 Period MAE: 72.5\n"
     ]
    },
    {
     "name": "stderr",
     "output_type": "stream",
     "text": [
      "19:33:44 - cmdstanpy - INFO - Chain [1] done processing\n"
     ]
    },
    {
     "name": "stdout",
     "output_type": "stream",
     "text": [
      "It's overpredicted.\n",
      "Monthly Error: 81.25 Period MAE: 17.53\n"
     ]
    },
    {
     "name": "stderr",
     "output_type": "stream",
     "text": [
      "19:33:45 - cmdstanpy - INFO - Chain [1] start processing\n",
      "19:33:46 - cmdstanpy - INFO - Chain [1] start processing\n",
      "19:33:46 - cmdstanpy - INFO - Chain [1] done processing\n"
     ]
    },
    {
     "name": "stdout",
     "output_type": "stream",
     "text": [
      "It's underpredicted.\n",
      "Monthly Error: 56.0 Period MAE: 72.5\n"
     ]
    },
    {
     "name": "stderr",
     "output_type": "stream",
     "text": [
      "19:33:47 - cmdstanpy - INFO - Chain [1] done processing\n",
      "19:33:47 - cmdstanpy - INFO - Chain [1] start processing\n"
     ]
    },
    {
     "name": "stdout",
     "output_type": "stream",
     "text": [
      "It's overpredicted.\n",
      "Monthly Error: 81.25 Period MAE: 17.53\n",
      "It's underpredicted.\n",
      "Monthly Error: 100.0 Period MAE: 100.0\n"
     ]
    },
    {
     "name": "stderr",
     "output_type": "stream",
     "text": [
      "19:33:48 - cmdstanpy - INFO - Chain [1] start processing\n",
      "19:33:48 - cmdstanpy - INFO - Chain [1] done processing\n",
      "19:33:49 - cmdstanpy - INFO - Chain [1] done processing\n",
      "19:33:49 - cmdstanpy - INFO - Chain [1] start processing\n"
     ]
    },
    {
     "name": "stdout",
     "output_type": "stream",
     "text": [
      "It's overpredicted.\n",
      "Monthly Error: 81.25 Period MAE: 17.53\n"
     ]
    },
    {
     "name": "stderr",
     "output_type": "stream",
     "text": [
      "19:33:50 - cmdstanpy - INFO - Chain [1] done processing\n",
      "19:33:50 - cmdstanpy - INFO - Chain [1] start processing\n",
      "19:33:50 - cmdstanpy - INFO - Chain [1] done processing\n"
     ]
    },
    {
     "name": "stdout",
     "output_type": "stream",
     "text": [
      "It's underpredicted.\n",
      "Monthly Error: 100.0 Period MAE: 100.0\n",
      "It's overpredicted.\n",
      "Monthly Error: 84.75 Period MAE: 20.54\n"
     ]
    },
    {
     "name": "stderr",
     "output_type": "stream",
     "text": [
      "19:33:52 - cmdstanpy - INFO - Chain [1] start processing\n",
      "19:33:52 - cmdstanpy - INFO - Chain [1] start processing\n",
      "19:33:52 - cmdstanpy - INFO - Chain [1] done processing\n",
      "19:33:53 - cmdstanpy - INFO - Chain [1] done processing\n"
     ]
    },
    {
     "name": "stdout",
     "output_type": "stream",
     "text": [
      "It's underpredicted.\n",
      "Monthly Error: 100.0 Period MAE: 100.0\n",
      "It's overpredicted.\n",
      "Monthly Error: 84.75 Period MAE: 20.54\n",
      "It's underpredicted.\n",
      "Monthly Error: 46.83 Period MAE: 55.08\n"
     ]
    },
    {
     "name": "stderr",
     "output_type": "stream",
     "text": [
      "19:33:55 - cmdstanpy - INFO - Chain [1] start processing\n",
      "19:33:55 - cmdstanpy - INFO - Chain [1] start processing\n",
      "19:33:55 - cmdstanpy - INFO - Chain [1] done processing\n",
      "19:33:55 - cmdstanpy - INFO - Chain [1] done processing\n"
     ]
    },
    {
     "name": "stdout",
     "output_type": "stream",
     "text": [
      "It's overpredicted.\n",
      "Monthly Error: 84.75 Period MAE: 20.54\n"
     ]
    },
    {
     "name": "stderr",
     "output_type": "stream",
     "text": [
      "19:33:56 - cmdstanpy - INFO - Chain [1] start processing\n",
      "19:33:57 - cmdstanpy - INFO - Chain [1] start processing\n",
      "19:33:57 - cmdstanpy - INFO - Chain [1] done processing\n"
     ]
    },
    {
     "name": "stdout",
     "output_type": "stream",
     "text": [
      "It's underpredicted.\n",
      "Monthly Error: 46.83 Period MAE: 55.08\n"
     ]
    },
    {
     "name": "stderr",
     "output_type": "stream",
     "text": [
      "19:33:57 - cmdstanpy - INFO - Chain [1] done processing\n"
     ]
    },
    {
     "name": "stdout",
     "output_type": "stream",
     "text": [
      "It's overpredicted.\n",
      "Monthly Error: 87.9 Period MAE: 20.54\n"
     ]
    },
    {
     "name": "stderr",
     "output_type": "stream",
     "text": [
      "19:33:58 - cmdstanpy - INFO - Chain [1] start processing\n",
      "19:33:59 - cmdstanpy - INFO - Chain [1] start processing\n",
      "19:33:59 - cmdstanpy - INFO - Chain [1] done processing\n",
      "19:33:59 - cmdstanpy - INFO - Chain [1] done processing\n"
     ]
    },
    {
     "name": "stdout",
     "output_type": "stream",
     "text": [
      "It's underpredicted.\n",
      "Monthly Error: 46.83 Period MAE: 55.08\n",
      "It's overpredicted.\n",
      "Monthly Error: 87.9 Period MAE: 20.54\n"
     ]
    },
    {
     "name": "stderr",
     "output_type": "stream",
     "text": [
      "19:34:01 - cmdstanpy - INFO - Chain [1] start processing\n",
      "19:34:01 - cmdstanpy - INFO - Chain [1] start processing\n"
     ]
    },
    {
     "name": "stdout",
     "output_type": "stream",
     "text": [
      "It's underpredicted.\n",
      "Monthly Error: 46.82 Period MAE: 55.08\n"
     ]
    },
    {
     "name": "stderr",
     "output_type": "stream",
     "text": [
      "19:34:01 - cmdstanpy - INFO - Chain [1] done processing\n",
      "19:34:02 - cmdstanpy - INFO - Chain [1] done processing\n"
     ]
    },
    {
     "name": "stdout",
     "output_type": "stream",
     "text": [
      "It's overpredicted."
     ]
    },
    {
     "name": "stderr",
     "output_type": "stream",
     "text": [
      "19:34:03 - cmdstanpy - INFO - Chain [1] start processing\n"
     ]
    },
    {
     "name": "stdout",
     "output_type": "stream",
     "text": [
      "\n",
      "Monthly Error: 87.9 Period MAE: 20.54\n",
      "It's underpredicted.\n",
      "Monthly Error: 46.82 Period MAE: 55.08\n"
     ]
    },
    {
     "name": "stderr",
     "output_type": "stream",
     "text": [
      "19:34:04 - cmdstanpy - INFO - Chain [1] start processing\n",
      "19:34:04 - cmdstanpy - INFO - Chain [1] done processing\n",
      "19:34:04 - cmdstanpy - INFO - Chain [1] done processing\n"
     ]
    },
    {
     "name": "stdout",
     "output_type": "stream",
     "text": [
      "It's overpredicted.\n",
      "Monthly Error: 69.46 Period MAE: 9.29\n",
      "It's underpredicted.\n",
      "Monthly Error:"
     ]
    },
    {
     "name": "stderr",
     "output_type": "stream",
     "text": [
      "19:34:05 - cmdstanpy - INFO - Chain [1] start processing\n"
     ]
    },
    {
     "name": "stdout",
     "output_type": "stream",
     "text": [
      " 46.82 Period MAE: 55.08\n"
     ]
    },
    {
     "name": "stderr",
     "output_type": "stream",
     "text": [
      "19:34:06 - cmdstanpy - INFO - Chain [1] start processing\n",
      "19:34:06 - cmdstanpy - INFO - Chain [1] done processing\n",
      "19:34:06 - cmdstanpy - INFO - Chain [1] done processing\n"
     ]
    },
    {
     "name": "stdout",
     "output_type": "stream",
     "text": [
      "It's overpredicted.\n",
      "Monthly Error: 69.46 Period MAE: 9.29\n"
     ]
    },
    {
     "name": "stderr",
     "output_type": "stream",
     "text": [
      "19:34:07 - cmdstanpy - INFO - Chain [1] start processing\n",
      "19:34:08 - cmdstanpy - INFO - Chain [1] start processing\n",
      "19:34:08 - cmdstanpy - INFO - Chain [1] done processing\n",
      "19:34:08 - cmdstanpy - INFO - Chain [1] done processing\n"
     ]
    },
    {
     "name": "stdout",
     "output_type": "stream",
     "text": [
      "It's underpredicted.\n",
      "Monthly Error: 46.86 Period MAE: 55.089999999999996\n",
      "It's overpredicted.Monthly Error:\n",
      " 69.46 Period MAE: 9.29\n"
     ]
    },
    {
     "name": "stderr",
     "output_type": "stream",
     "text": [
      "19:34:10 - cmdstanpy - INFO - Chain [1] start processing\n",
      "19:34:10 - cmdstanpy - INFO - Chain [1] start processing\n",
      "19:34:10 - cmdstanpy - INFO - Chain [1] done processing\n"
     ]
    },
    {
     "name": "stdout",
     "output_type": "stream",
     "text": [
      "It's underpredicted.\n",
      "Monthly Error: 46.86 Period MAE: 55.089999999999996\n"
     ]
    },
    {
     "name": "stderr",
     "output_type": "stream",
     "text": [
      "19:34:11 - cmdstanpy - INFO - Chain [1] done processing\n"
     ]
    },
    {
     "name": "stdout",
     "output_type": "stream",
     "text": [
      "It's overpredicted.\n",
      "Monthly Error: 88.0 Period MAE: 23.52\n"
     ]
    },
    {
     "name": "stderr",
     "output_type": "stream",
     "text": [
      "19:34:12 - cmdstanpy - INFO - Chain [1] start processing\n"
     ]
    },
    {
     "name": "stdout",
     "output_type": "stream",
     "text": [
      "It's underpredicted.\n",
      "Monthly Error: 46.86 Period MAE: 55.089999999999996\n"
     ]
    },
    {
     "name": "stderr",
     "output_type": "stream",
     "text": [
      "19:34:12 - cmdstanpy - INFO - Chain [1] start processing\n",
      "19:34:12 - cmdstanpy - INFO - Chain [1] done processing\n",
      "19:34:13 - cmdstanpy - INFO - Chain [1] done processing\n",
      "19:34:14 - cmdstanpy - INFO - Chain [1] start processing\n"
     ]
    },
    {
     "name": "stdout",
     "output_type": "stream",
     "text": [
      "It's overpredicted.\n",
      "Monthly Error: 88.0 Period MAE: 23.52\n",
      "It's underpredicted.\n",
      "Monthly Error: 100.0 Period MAE: 100.0\n"
     ]
    },
    {
     "name": "stderr",
     "output_type": "stream",
     "text": [
      "19:34:15 - cmdstanpy - INFO - Chain [1] start processing\n",
      "19:34:15 - cmdstanpy - INFO - Chain [1] done processing\n",
      "19:34:15 - cmdstanpy - INFO - Chain [1] done processing\n"
     ]
    },
    {
     "name": "stdout",
     "output_type": "stream",
     "text": [
      "It's overpredicted.\n",
      "Monthly Error: 88.0 Period MAE: 23.52\n"
     ]
    },
    {
     "name": "stderr",
     "output_type": "stream",
     "text": [
      "19:34:16 - cmdstanpy - INFO - Chain [1] start processing\n",
      "19:34:16 - cmdstanpy - INFO - Chain [1] start processing\n",
      "19:34:16 - cmdstanpy - INFO - Chain [1] done processing\n",
      "19:34:16 - cmdstanpy - INFO - Chain [1] done processing\n"
     ]
    },
    {
     "name": "stdout",
     "output_type": "stream",
     "text": [
      "It's underpredicted.\n",
      "Monthly Error: 100.0 Period MAE: 100.0\n",
      "It's overpredicted.\n",
      "Monthly Error: 90.61 Period MAE: 25.729999999999997\n"
     ]
    },
    {
     "name": "stderr",
     "output_type": "stream",
     "text": [
      "19:34:18 - cmdstanpy - INFO - Chain [1] start processing\n",
      "19:34:18 - cmdstanpy - INFO - Chain [1] start processing\n",
      "19:34:18 - cmdstanpy - INFO - Chain [1] done processing\n",
      "19:34:18 - cmdstanpy - INFO - Chain [1] done processing\n"
     ]
    },
    {
     "name": "stdout",
     "output_type": "stream",
     "text": [
      "It's underpredicted.\n",
      "Monthly Error: 100.0 Period MAE: 100.0\n",
      "It's overpredicted.\n",
      "Monthly Error: 90.61 Period MAE: 25.729999999999997\n"
     ]
    },
    {
     "name": "stderr",
     "output_type": "stream",
     "text": [
      "19:34:20 - cmdstanpy - INFO - Chain [1] start processing\n",
      "19:34:20 - cmdstanpy - INFO - Chain [1] start processing\n"
     ]
    },
    {
     "name": "stdout",
     "output_type": "stream",
     "text": [
      "It's underpredicted.\n",
      "Monthly Error: 55.95 Period MAE: 72.46000000000001\n"
     ]
    },
    {
     "name": "stderr",
     "output_type": "stream",
     "text": [
      "19:34:21 - cmdstanpy - INFO - Chain [1] done processing\n",
      "19:34:21 - cmdstanpy - INFO - Chain [1] done processing\n"
     ]
    },
    {
     "name": "stdout",
     "output_type": "stream",
     "text": [
      "It's overpredicted.\n",
      "Monthly Error: 90.61 Period MAE: \n",
      "25.729999999999997"
     ]
    },
    {
     "name": "stderr",
     "output_type": "stream",
     "text": [
      "19:34:22 - cmdstanpy - INFO - Chain [1] start processing\n",
      "19:34:22 - cmdstanpy - INFO - Chain [1] start processing\n"
     ]
    },
    {
     "name": "stdout",
     "output_type": "stream",
     "text": [
      "It's underpredicted.\n",
      "Monthly Error: 55.95 Period MAE: 72.46000000000001\n"
     ]
    },
    {
     "name": "stderr",
     "output_type": "stream",
     "text": [
      "19:34:23 - cmdstanpy - INFO - Chain [1] done processing\n",
      "19:34:23 - cmdstanpy - INFO - Chain [1] done processing\n"
     ]
    },
    {
     "name": "stdout",
     "output_type": "stream",
     "text": [
      "It's overpredicted.\n"
     ]
    },
    {
     "name": "stderr",
     "output_type": "stream",
     "text": [
      "19:34:24 - cmdstanpy - INFO - Chain [1] start processing\n"
     ]
    },
    {
     "name": "stdout",
     "output_type": "stream",
     "text": [
      "Monthly Error: 87.41 Period MAE: 23.04\n"
     ]
    },
    {
     "name": "stderr",
     "output_type": "stream",
     "text": [
      "19:34:25 - cmdstanpy - INFO - Chain [1] start processing\n",
      "19:34:25 - cmdstanpy - INFO - Chain [1] done processing\n"
     ]
    },
    {
     "name": "stdout",
     "output_type": "stream",
     "text": [
      "It's underpredicted.\n",
      "Monthly Error: 55.95 Period MAE:"
     ]
    },
    {
     "name": "stderr",
     "output_type": "stream",
     "text": [
      "19:34:25 - cmdstanpy - INFO - Chain [1] done processing\n"
     ]
    },
    {
     "name": "stdout",
     "output_type": "stream",
     "text": [
      " 72.46000000000001\n",
      "It's overpredicted.\n",
      "Monthly Error: 87.41 Period MAE: 23.04\n"
     ]
    },
    {
     "name": "stderr",
     "output_type": "stream",
     "text": [
      "19:34:27 - cmdstanpy - INFO - Chain [1] start processing\n",
      "19:34:27 - cmdstanpy - INFO - Chain [1] start processing\n"
     ]
    },
    {
     "name": "stdout",
     "output_type": "stream",
     "text": [
      "It's underpredicted.\n",
      "Monthly Error: 100.0 Period MAE: 100.0\n"
     ]
    },
    {
     "name": "stderr",
     "output_type": "stream",
     "text": [
      "19:34:27 - cmdstanpy - INFO - Chain [1] done processing\n",
      "19:34:28 - cmdstanpy - INFO - Chain [1] done processing\n"
     ]
    },
    {
     "name": "stdout",
     "output_type": "stream",
     "text": [
      "It's overpredicted."
     ]
    },
    {
     "name": "stderr",
     "output_type": "stream",
     "text": [
      "19:34:28 - cmdstanpy - INFO - Chain [1] start processing\n"
     ]
    },
    {
     "name": "stdout",
     "output_type": "stream",
     "text": [
      "\n",
      "Monthly Error: 87.41 Period MAE: 23.04\n"
     ]
    },
    {
     "name": "stderr",
     "output_type": "stream",
     "text": [
      "19:34:29 - cmdstanpy - INFO - Chain [1] start processing\n",
      "19:34:29 - cmdstanpy - INFO - Chain [1] done processing\n",
      "19:34:29 - cmdstanpy - INFO - Chain [1] done processing\n"
     ]
    },
    {
     "name": "stdout",
     "output_type": "stream",
     "text": [
      "It's underpredicted.\n",
      "Monthly Error: 100.0 Period MAE: 100.0\n",
      "It's overpredicted.\n",
      "Monthly Error: 84.75 20.54\n",
      "Period MAE: "
     ]
    },
    {
     "name": "stderr",
     "output_type": "stream",
     "text": [
      "19:34:31 - cmdstanpy - INFO - Chain [1] start processing\n",
      "19:34:31 - cmdstanpy - INFO - Chain [1] start processing\n",
      "19:34:31 - cmdstanpy - INFO - Chain [1] done processing\n",
      "19:34:31 - cmdstanpy - INFO - Chain [1] done processing\n"
     ]
    },
    {
     "name": "stdout",
     "output_type": "stream",
     "text": [
      "It's underpredicted.\n",
      "Monthly Error: 100.0 It's overpredicted.\n",
      "Monthly Error:Period MAE:  84.75100.0 \n",
      "Period MAE: 20.54\n"
     ]
    },
    {
     "name": "stderr",
     "output_type": "stream",
     "text": [
      "19:34:33 - cmdstanpy - INFO - Chain [1] start processing\n",
      "19:34:33 - cmdstanpy - INFO - Chain [1] start processing\n",
      "19:34:33 - cmdstanpy - INFO - Chain [1] done processing\n"
     ]
    },
    {
     "name": "stdout",
     "output_type": "stream",
     "text": [
      "It's underpredicted.\n",
      "Monthly Error: 46.83 Period MAE: 55.08\n"
     ]
    },
    {
     "name": "stderr",
     "output_type": "stream",
     "text": [
      "19:34:34 - cmdstanpy - INFO - Chain [1] done processing\n"
     ]
    },
    {
     "name": "stdout",
     "output_type": "stream",
     "text": [
      "It's overpredicted.\n",
      "Monthly Error: 84.75 Period MAE: 20.54\n"
     ]
    },
    {
     "name": "stderr",
     "output_type": "stream",
     "text": [
      "19:34:35 - cmdstanpy - INFO - Chain [1] start processing\n",
      "19:34:35 - cmdstanpy - INFO - Chain [1] start processing\n",
      "19:34:35 - cmdstanpy - INFO - Chain [1] done processing\n"
     ]
    },
    {
     "name": "stdout",
     "output_type": "stream",
     "text": [
      "It's underpredicted.\n",
      "Monthly Error: 46.83 Period MAE: 55.08\n"
     ]
    },
    {
     "name": "stderr",
     "output_type": "stream",
     "text": [
      "19:34:36 - cmdstanpy - INFO - Chain [1] done processing\n"
     ]
    },
    {
     "name": "stdout",
     "output_type": "stream",
     "text": [
      "It's overpredicted.\n",
      "Monthly Error: 90.12 Period MAE: 22.36\n"
     ]
    },
    {
     "name": "stderr",
     "output_type": "stream",
     "text": [
      "19:34:37 - cmdstanpy - INFO - Chain [1] start processing\n",
      "19:34:37 - cmdstanpy - INFO - Chain [1] start processing\n"
     ]
    },
    {
     "name": "stdout",
     "output_type": "stream",
     "text": [
      "It's underpredicted.\n",
      "Monthly Error: 46.83 Period MAE: 55.08\n"
     ]
    },
    {
     "name": "stderr",
     "output_type": "stream",
     "text": [
      "19:34:38 - cmdstanpy - INFO - Chain [1] done processing\n",
      "19:34:38 - cmdstanpy - INFO - Chain [1] done processing\n",
      "19:34:39 - cmdstanpy - INFO - Chain [1] start processing\n"
     ]
    },
    {
     "name": "stdout",
     "output_type": "stream",
     "text": [
      "It's overpredicted.\n",
      "Monthly Error: 90.12 Period MAE: 22.36\n",
      "It's underpredicted.\n",
      "Monthly Error: 46.84 Period MAE: 55.089999999999996\n"
     ]
    },
    {
     "name": "stderr",
     "output_type": "stream",
     "text": [
      "19:34:40 - cmdstanpy - INFO - Chain [1] start processing\n",
      "19:34:40 - cmdstanpy - INFO - Chain [1] done processing\n",
      "19:34:40 - cmdstanpy - INFO - Chain [1] done processing\n"
     ]
    },
    {
     "name": "stdout",
     "output_type": "stream",
     "text": [
      "It's overpredicted.\n",
      "Monthly Error: 90.12 Period MAE: 22.36\n"
     ]
    },
    {
     "name": "stderr",
     "output_type": "stream",
     "text": [
      "19:34:41 - cmdstanpy - INFO - Chain [1] start processing\n",
      "19:34:42 - cmdstanpy - INFO - Chain [1] start processing\n",
      "19:34:42 - cmdstanpy - INFO - Chain [1] done processing\n",
      "19:34:42 - cmdstanpy - INFO - Chain [1] done processing\n"
     ]
    },
    {
     "name": "stdout",
     "output_type": "stream",
     "text": [
      "It's underpredicted.\n",
      "Monthly Error: 46.84 Period MAE: 55.089999999999996\n",
      "It's overpredicted.\n",
      "Monthly Error: 73.09 Period MAE: 11.92\n"
     ]
    },
    {
     "name": "stderr",
     "output_type": "stream",
     "text": [
      "19:34:43 - cmdstanpy - INFO - Chain [1] start processing\n",
      "19:34:44 - cmdstanpy - INFO - Chain [1] start processing\n",
      "19:34:44 - cmdstanpy - INFO - Chain [1] done processing\n",
      "19:34:44 - cmdstanpy - INFO - Chain [1] done processing\n"
     ]
    },
    {
     "name": "stdout",
     "output_type": "stream",
     "text": [
      "It's underpredicted.\n",
      "Monthly Error: 46.84 Period MAE: 55.089999999999996\n",
      "It's overpredicted.\n",
      "Monthly Error: 73.09 Period MAE: 11.92\n"
     ]
    },
    {
     "name": "stderr",
     "output_type": "stream",
     "text": [
      "19:34:46 - cmdstanpy - INFO - Chain [1] start processing\n",
      "19:34:46 - cmdstanpy - INFO - Chain [1] start processing\n",
      "19:34:46 - cmdstanpy - INFO - Chain [1] done processing\n"
     ]
    },
    {
     "name": "stdout",
     "output_type": "stream",
     "text": [
      "It's underpredicted.\n",
      "Monthly Error: 46.86 Period MAE: 55.1\n"
     ]
    },
    {
     "name": "stderr",
     "output_type": "stream",
     "text": [
      "19:34:47 - cmdstanpy - INFO - Chain [1] done processing\n"
     ]
    },
    {
     "name": "stdout",
     "output_type": "stream",
     "text": [
      "It's overpredicted.\n",
      "Monthly Error: 73.09 Period MAE: 11.92\n"
     ]
    },
    {
     "name": "stderr",
     "output_type": "stream",
     "text": [
      "19:34:48 - cmdstanpy - INFO - Chain [1] start processing\n",
      "19:34:48 - cmdstanpy - INFO - Chain [1] start processing\n",
      "19:34:48 - cmdstanpy - INFO - Chain [1] done processing\n"
     ]
    },
    {
     "name": "stdout",
     "output_type": "stream",
     "text": [
      "It's underpredicted.\n",
      "Monthly Error: 46.86 Period MAE: 55.1\n"
     ]
    },
    {
     "name": "stderr",
     "output_type": "stream",
     "text": [
      "19:34:49 - cmdstanpy - INFO - Chain [1] done processing\n"
     ]
    },
    {
     "name": "stdout",
     "output_type": "stream",
     "text": [
      "It's overpredicted.\n",
      "Monthly Error: 88.0 Period MAE: 23.52\n"
     ]
    },
    {
     "name": "stderr",
     "output_type": "stream",
     "text": [
      "19:34:50 - cmdstanpy - INFO - Chain [1] start processing\n",
      "19:34:50 - cmdstanpy - INFO - Chain [1] start processing\n",
      "19:34:50 - cmdstanpy - INFO - Chain [1] done processing\n"
     ]
    },
    {
     "name": "stdout",
     "output_type": "stream",
     "text": [
      "It's underpredicted.\n",
      "Monthly Error: 46.86 Period MAE: 55.1\n"
     ]
    },
    {
     "name": "stderr",
     "output_type": "stream",
     "text": [
      "19:34:51 - cmdstanpy - INFO - Chain [1] done processing\n"
     ]
    },
    {
     "name": "stdout",
     "output_type": "stream",
     "text": [
      "It's overpredicted.\n",
      "88.0Monthly Error:  Period MAE: 23.52\n",
      "It's underpredicted.\n",
      "Monthly Error: 100.0 Period MAE: 100.0\n"
     ]
    },
    {
     "name": "stderr",
     "output_type": "stream",
     "text": [
      "19:34:53 - cmdstanpy - INFO - Chain [1] start processing\n",
      "19:34:53 - cmdstanpy - INFO - Chain [1] start processing\n",
      "19:34:53 - cmdstanpy - INFO - Chain [1] done processing\n",
      "19:34:54 - cmdstanpy - INFO - Chain [1] done processing\n",
      "19:34:54 - cmdstanpy - INFO - Chain [1] start processing\n"
     ]
    },
    {
     "name": "stdout",
     "output_type": "stream",
     "text": [
      "It's overpredicted.\n",
      "Monthly Error: It's underpredicted.88.0 \n",
      "Period MAE:Monthly Error:  23.52100.0 \n",
      "Period MAE: 100.0\n"
     ]
    },
    {
     "name": "stderr",
     "output_type": "stream",
     "text": [
      "19:34:55 - cmdstanpy - INFO - Chain [1] start processing\n",
      "19:34:56 - cmdstanpy - INFO - Chain [1] done processing\n",
      "19:34:56 - cmdstanpy - INFO - Chain [1] done processing\n"
     ]
    },
    {
     "name": "stdout",
     "output_type": "stream",
     "text": [
      "It's overpredicted.\n",
      "Monthly Error: 87.15 Period MAE: "
     ]
    },
    {
     "name": "stderr",
     "output_type": "stream",
     "text": [
      "19:34:57 - cmdstanpy - INFO - Chain [1] start processing\n"
     ]
    },
    {
     "name": "stdout",
     "output_type": "stream",
     "text": [
      "22.88\n"
     ]
    },
    {
     "name": "stderr",
     "output_type": "stream",
     "text": [
      "19:34:57 - cmdstanpy - INFO - Chain [1] start processing\n",
      "19:34:57 - cmdstanpy - INFO - Chain [1] done processing\n"
     ]
    },
    {
     "name": "stdout",
     "output_type": "stream",
     "text": [
      "It's underpredicted.\n",
      "Monthly Error: 100.0 Period MAE: 100.0\n"
     ]
    },
    {
     "name": "stderr",
     "output_type": "stream",
     "text": [
      "19:34:58 - cmdstanpy - INFO - Chain [1] done processing\n"
     ]
    },
    {
     "name": "stdout",
     "output_type": "stream",
     "text": [
      "It's overpredicted.\n",
      "Monthly Error: 87.15 Period MAE: 22.88\n"
     ]
    },
    {
     "name": "stderr",
     "output_type": "stream",
     "text": [
      "19:34:59 - cmdstanpy - INFO - Chain [1] start processing\n",
      "19:34:59 - cmdstanpy - INFO - Chain [1] start processing\n",
      "19:34:59 - cmdstanpy - INFO - Chain [1] done processing\n",
      "19:35:00 - cmdstanpy - INFO - Chain [1] done processing\n"
     ]
    },
    {
     "name": "stdout",
     "output_type": "stream",
     "text": [
      "It's underpredicted.\n",
      "Monthly Error: 55.95 Period MAE: 72.46000000000001\n",
      "It's overpredicted.\n",
      "Monthly Error: 87.15 Period MAE: 22.88\n",
      "It's underpredicted.\n",
      "Monthly Error: 55.95 Period MAE: 72.46000000000001\n"
     ]
    },
    {
     "name": "stderr",
     "output_type": "stream",
     "text": [
      "19:35:03 - cmdstanpy - INFO - Chain [1] start processing\n",
      "19:35:03 - cmdstanpy - INFO - Chain [1] start processing\n",
      "19:35:03 - cmdstanpy - INFO - Chain [1] done processing\n",
      "19:35:04 - cmdstanpy - INFO - Chain [1] done processing\n"
     ]
    },
    {
     "name": "stdout",
     "output_type": "stream",
     "text": [
      "It's underpredicted.\n",
      "Monthly Error: 55.95 Period MAE: 72.46000000000001\n"
     ]
    },
    {
     "name": "stderr",
     "output_type": "stream",
     "text": [
      "19:35:05 - cmdstanpy - INFO - Chain [1] start processing\n"
     ]
    },
    {
     "name": "stdout",
     "output_type": "stream",
     "text": [
      "It's overpredicted.\n",
      "Monthly Error: 86.02 Period MAE: 21.75\n"
     ]
    },
    {
     "name": "stderr",
     "output_type": "stream",
     "text": [
      "19:35:05 - cmdstanpy - INFO - Chain [1] start processing\n",
      "19:35:05 - cmdstanpy - INFO - Chain [1] done processing\n",
      "19:35:06 - cmdstanpy - INFO - Chain [1] done processing\n",
      "19:35:06 - cmdstanpy - INFO - Chain [1] start processing\n"
     ]
    },
    {
     "name": "stdout",
     "output_type": "stream",
     "text": [
      "It's overpredicted.\n",
      "Monthly Error: 86.02 Period MAE: 21.75\n"
     ]
    },
    {
     "name": "stderr",
     "output_type": "stream",
     "text": [
      "19:35:07 - cmdstanpy - INFO - Chain [1] start processing\n",
      "19:35:07 - cmdstanpy - INFO - Chain [1] done processing\n",
      "19:35:07 - cmdstanpy - INFO - Chain [1] done processing\n"
     ]
    },
    {
     "name": "stdout",
     "output_type": "stream",
     "text": [
      "It's underpredicted.\n",
      "Monthly Error: 100.0 Period MAE: 100.0\n",
      "It's overpredicted.\n",
      "Monthly Error: 86.02 Period MAE: 21.75\n"
     ]
    },
    {
     "name": "stderr",
     "output_type": "stream",
     "text": [
      "19:35:09 - cmdstanpy - INFO - Chain [1] start processing\n",
      "19:35:10 - cmdstanpy - INFO - Chain [1] start processing\n",
      "19:35:10 - cmdstanpy - INFO - Chain [1] done processing\n"
     ]
    },
    {
     "name": "stdout",
     "output_type": "stream",
     "text": [
      "It's underpredicted.\n",
      "Monthly Error: 100.0 Period MAE: "
     ]
    },
    {
     "name": "stderr",
     "output_type": "stream",
     "text": [
      "19:35:10 - cmdstanpy - INFO - Chain [1] done processing\n"
     ]
    },
    {
     "name": "stdout",
     "output_type": "stream",
     "text": [
      "100.0\n",
      "It's overpredicted.\n",
      "Monthly Error: 201.96 Period MAE: 104.74000000000001\n",
      "It's underpredicted.\n",
      "Monthly Error: 100.0 "
     ]
    },
    {
     "name": "stderr",
     "output_type": "stream",
     "text": [
      "19:35:11 - cmdstanpy - INFO - Chain [1] start processing\n"
     ]
    },
    {
     "name": "stdout",
     "output_type": "stream",
     "text": [
      "Period MAE: 100.0\n"
     ]
    },
    {
     "name": "stderr",
     "output_type": "stream",
     "text": [
      "19:35:11 - cmdstanpy - INFO - Chain [1] start processing\n",
      "19:35:12 - cmdstanpy - INFO - Chain [1] done processing\n",
      "19:35:12 - cmdstanpy - INFO - Chain [1] done processing\n"
     ]
    },
    {
     "name": "stdout",
     "output_type": "stream",
     "text": [
      "It's overpredicted.\n",
      "Monthly Error: 201.96 Period MAE: 104.74000000000001\n"
     ]
    },
    {
     "name": "stderr",
     "output_type": "stream",
     "text": [
      "19:35:13 - cmdstanpy - INFO - Chain [1] start processing\n",
      "19:35:13 - cmdstanpy - INFO - Chain [1] start processing\n",
      "19:35:13 - cmdstanpy - INFO - Chain [1] done processing\n",
      "19:35:13 - cmdstanpy - INFO - Chain [1] done processing\n"
     ]
    },
    {
     "name": "stdout",
     "output_type": "stream",
     "text": [
      "It's underpredicted.\n",
      "Monthly Error: 36.9 Period MAE: 37.61\n",
      "It's overpredicted.\n",
      "Monthly Error: 201.96 Period MAE: 104.74000000000001\n"
     ]
    },
    {
     "name": "stderr",
     "output_type": "stream",
     "text": [
      "19:35:15 - cmdstanpy - INFO - Chain [1] start processing\n",
      "19:35:15 - cmdstanpy - INFO - Chain [1] start processing\n",
      "19:35:15 - cmdstanpy - INFO - Chain [1] done processing\n",
      "19:35:15 - cmdstanpy - INFO - Chain [1] done processing\n"
     ]
    },
    {
     "name": "stdout",
     "output_type": "stream",
     "text": [
      "It's underpredicted.\n",
      "Monthly Error: 36.9 Period MAE: 37.61\n",
      "It's overpredicted.\n",
      "Monthly Error: 192.27Period MAE:  98.42\n"
     ]
    },
    {
     "name": "stderr",
     "output_type": "stream",
     "text": [
      "19:35:17 - cmdstanpy - INFO - Chain [1] start processing\n",
      "19:35:17 - cmdstanpy - INFO - Chain [1] start processing\n",
      "19:35:17 - cmdstanpy - INFO - Chain [1] done processing\n",
      "19:35:17 - cmdstanpy - INFO - Chain [1] done processing\n"
     ]
    },
    {
     "name": "stdout",
     "output_type": "stream",
     "text": [
      "It's underpredicted.\n",
      "Monthly Error: 36.9 Period MAE: 37.61\n",
      "It's overpredicted.\n",
      "Monthly Error: 192.27 Period MAE: 98.42\n"
     ]
    },
    {
     "name": "stderr",
     "output_type": "stream",
     "text": [
      "19:35:19 - cmdstanpy - INFO - Chain [1] start processing\n",
      "19:35:19 - cmdstanpy - INFO - Chain [1] start processing\n",
      "19:35:19 - cmdstanpy - INFO - Chain [1] done processing\n",
      "19:35:19 - cmdstanpy - INFO - Chain [1] done processing\n"
     ]
    },
    {
     "name": "stdout",
     "output_type": "stream",
     "text": [
      "It's overpredicted.\n",
      "It's underpredicted.Monthly Error: 192.27\n",
      " Period MAE:Monthly Error: 36.72 98.42 \n",
      "Period MAE: 32.029999999999994\n"
     ]
    },
    {
     "name": "stderr",
     "output_type": "stream",
     "text": [
      "19:35:21 - cmdstanpy - INFO - Chain [1] start processing\n"
     ]
    },
    {
     "name": "stdout",
     "output_type": "stream",
     "text": [
      "It's underpredicted.\n",
      "Monthly Error: 36.72 Period MAE: 32.029999999999994\n"
     ]
    },
    {
     "name": "stderr",
     "output_type": "stream",
     "text": [
      "19:35:22 - cmdstanpy - INFO - Chain [1] start processing\n",
      "19:35:22 - cmdstanpy - INFO - Chain [1] done processing\n",
      "19:35:22 - cmdstanpy - INFO - Chain [1] done processing\n"
     ]
    },
    {
     "name": "stdout",
     "output_type": "stream",
     "text": [
      "It's overpredicted.\n",
      "Monthly Error: 198.15 Period MAE: 102.17\n"
     ]
    },
    {
     "name": "stderr",
     "output_type": "stream",
     "text": [
      "19:35:23 - cmdstanpy - INFO - Chain [1] start processing\n",
      "19:35:23 - cmdstanpy - INFO - Chain [1] start processing\n",
      "19:35:23 - cmdstanpy - INFO - Chain [1] done processing\n",
      "19:35:23 - cmdstanpy - INFO - Chain [1] done processing\n"
     ]
    },
    {
     "name": "stdout",
     "output_type": "stream",
     "text": [
      "It's underpredicted.\n",
      "Monthly Error: 36.72 Period MAE: 32.029999999999994\n",
      "It's overpredicted.\n",
      "Monthly Error: 198.15 Period MAE: 102.17\n"
     ]
    },
    {
     "name": "stderr",
     "output_type": "stream",
     "text": [
      "19:35:25 - cmdstanpy - INFO - Chain [1] start processing\n",
      "19:35:25 - cmdstanpy - INFO - Chain [1] start processing\n",
      "19:35:25 - cmdstanpy - INFO - Chain [1] done processing\n",
      "19:35:25 - cmdstanpy - INFO - Chain [1] done processing\n"
     ]
    },
    {
     "name": "stdout",
     "output_type": "stream",
     "text": [
      "It's overpredicted.\n",
      "Monthly Error: 198.15 Period MAE: 102.17\n",
      "It's underpredicted.\n",
      "Monthly Error: 45.87 Period MAE: 54.120000000000005\n",
      "It's underpredicted.\n",
      "Monthly Error: 45.87 Period MAE: 54.120000000000005\n"
     ]
    },
    {
     "name": "stderr",
     "output_type": "stream",
     "text": [
      "19:35:28 - cmdstanpy - INFO - Chain [1] start processing\n",
      "19:35:28 - cmdstanpy - INFO - Chain [1] start processing\n",
      "19:35:28 - cmdstanpy - INFO - Chain [1] done processing\n",
      "19:35:28 - cmdstanpy - INFO - Chain [1] done processing\n"
     ]
    },
    {
     "name": "stdout",
     "output_type": "stream",
     "text": [
      "It's overpredicted.\n",
      "Monthly Error: 198.34 Period MAE: 104.76\n"
     ]
    },
    {
     "name": "stderr",
     "output_type": "stream",
     "text": [
      "19:35:29 - cmdstanpy - INFO - Chain [1] start processing\n",
      "19:35:29 - cmdstanpy - INFO - Chain [1] start processing\n"
     ]
    },
    {
     "name": "stdout",
     "output_type": "stream",
     "text": [
      "It's underpredicted.\n",
      "Monthly Error: 45.87 Period MAE: 54.120000000000005\n"
     ]
    },
    {
     "name": "stderr",
     "output_type": "stream",
     "text": [
      "19:35:30 - cmdstanpy - INFO - Chain [1] done processing\n",
      "19:35:30 - cmdstanpy - INFO - Chain [1] done processing\n"
     ]
    },
    {
     "name": "stdout",
     "output_type": "stream",
     "text": [
      "It's overpredicted.\n",
      "Monthly Error: 198.34 Period MAE: 104.76\n"
     ]
    },
    {
     "name": "stderr",
     "output_type": "stream",
     "text": [
      "19:35:31 - cmdstanpy - INFO - Chain [1] start processing\n",
      "19:35:31 - cmdstanpy - INFO - Chain [1] start processing\n",
      "19:35:31 - cmdstanpy - INFO - Chain [1] done processing\n",
      "19:35:31 - cmdstanpy - INFO - Chain [1] done processing\n"
     ]
    },
    {
     "name": "stdout",
     "output_type": "stream",
     "text": [
      "It's overpredicted.\n",
      "Monthly Error: 198.34 Period MAE: 104.76\n",
      "It's underpredicted.\n",
      "Monthly Error: 46.44 Period MAE: 49.81\n"
     ]
    },
    {
     "name": "stderr",
     "output_type": "stream",
     "text": [
      "19:35:33 - cmdstanpy - INFO - Chain [1] start processing\n",
      "19:35:34 - cmdstanpy - INFO - Chain [1] start processing\n",
      "19:35:34 - cmdstanpy - INFO - Chain [1] done processing\n",
      "19:35:34 - cmdstanpy - INFO - Chain [1] done processing\n"
     ]
    },
    {
     "name": "stdout",
     "output_type": "stream",
     "text": [
      "It's underpredicted.\n",
      "Monthly Error: 46.44 Period MAE: 49.81\n",
      "It's overpredicted.\n",
      "Monthly Error:188.58  Period MAE: 105.42\n",
      "It's underpredicted.\n",
      "Monthly Error: 46.44 Period MAE: 49.81\n"
     ]
    },
    {
     "name": "stderr",
     "output_type": "stream",
     "text": [
      "19:35:35 - cmdstanpy - INFO - Chain [1] start processing\n",
      "19:35:36 - cmdstanpy - INFO - Chain [1] start processing\n",
      "19:35:36 - cmdstanpy - INFO - Chain [1] done processing\n",
      "19:35:36 - cmdstanpy - INFO - Chain [1] done processing\n"
     ]
    },
    {
     "name": "stdout",
     "output_type": "stream",
     "text": [
      "It's overpredicted.\n",
      "Monthly Error: 188.58 Period MAE: 105.42\n"
     ]
    },
    {
     "name": "stderr",
     "output_type": "stream",
     "text": [
      "19:35:37 - cmdstanpy - INFO - Chain [1] start processing\n",
      "19:35:37 - cmdstanpy - INFO - Chain [1] start processing\n",
      "19:35:37 - cmdstanpy - INFO - Chain [1] done processing\n",
      "19:35:37 - cmdstanpy - INFO - Chain [1] done processing\n"
     ]
    },
    {
     "name": "stdout",
     "output_type": "stream",
     "text": [
      "It's underpredicted.\n",
      "Monthly Error: 45.03 Period MAE: 29.99\n",
      "It's overpredicted.\n",
      "Monthly Error: 188.58 Period MAE: 105.42\n"
     ]
    },
    {
     "name": "stderr",
     "output_type": "stream",
     "text": [
      "19:35:39 - cmdstanpy - INFO - Chain [1] start processing\n",
      "19:35:40 - cmdstanpy - INFO - Chain [1] start processing\n",
      "19:35:40 - cmdstanpy - INFO - Chain [1] done processing\n"
     ]
    },
    {
     "name": "stdout",
     "output_type": "stream",
     "text": [
      "It's underpredicted."
     ]
    },
    {
     "name": "stderr",
     "output_type": "stream",
     "text": [
      "19:35:40 - cmdstanpy - INFO - Chain [1] done processing\n"
     ]
    },
    {
     "name": "stdout",
     "output_type": "stream",
     "text": [
      "\n",
      "Monthly Error: 45.03 Period MAE: 29.99\n",
      "It's overpredicted.\n",
      "Monthly Error: 179.95 Period MAE: 90.24\n"
     ]
    },
    {
     "name": "stderr",
     "output_type": "stream",
     "text": [
      "19:35:41 - cmdstanpy - INFO - Chain [1] start processing\n"
     ]
    },
    {
     "name": "stdout",
     "output_type": "stream",
     "text": [
      "It's underpredicted.\n"
     ]
    },
    {
     "name": "stderr",
     "output_type": "stream",
     "text": [
      "19:35:42 - cmdstanpy - INFO - Chain [1] start processing\n"
     ]
    },
    {
     "name": "stdout",
     "output_type": "stream",
     "text": [
      "Monthly Error: 45.03 Period MAE: 29.99\n"
     ]
    },
    {
     "name": "stderr",
     "output_type": "stream",
     "text": [
      "19:35:42 - cmdstanpy - INFO - Chain [1] done processing\n",
      "19:35:42 - cmdstanpy - INFO - Chain [1] done processing\n"
     ]
    },
    {
     "name": "stdout",
     "output_type": "stream",
     "text": [
      "It's overpredicted.\n",
      "Monthly Error: 179.95 Period MAE: 90.24\n"
     ]
    },
    {
     "name": "stderr",
     "output_type": "stream",
     "text": [
      "19:35:43 - cmdstanpy - INFO - Chain [1] start processing\n",
      "19:35:44 - cmdstanpy - INFO - Chain [1] start processing\n",
      "19:35:44 - cmdstanpy - INFO - Chain [1] done processing\n",
      "19:35:44 - cmdstanpy - INFO - Chain [1] done processing\n"
     ]
    },
    {
     "name": "stdout",
     "output_type": "stream",
     "text": [
      "It's underpredicted.\n",
      "Monthly Error: 99.84 Period MAE: 99.89\n",
      "It's overpredicted.\n",
      "Monthly Error: 179.95 Period MAE: 90.24\n"
     ]
    },
    {
     "name": "stderr",
     "output_type": "stream",
     "text": [
      "19:35:46 - cmdstanpy - INFO - Chain [1] start processing\n",
      "19:35:46 - cmdstanpy - INFO - Chain [1] start processing\n",
      "19:35:46 - cmdstanpy - INFO - Chain [1] done processing\n",
      "19:35:46 - cmdstanpy - INFO - Chain [1] done processing\n"
     ]
    },
    {
     "name": "stdout",
     "output_type": "stream",
     "text": [
      "It's underpredicted.\n",
      "Monthly Error: 99.84 Period MAE: 99.89\n",
      "It's overpredicted.\n",
      "Monthly Error: 201.96 Period MAE: 104.74000000000001\n"
     ]
    },
    {
     "name": "stderr",
     "output_type": "stream",
     "text": [
      "19:35:48 - cmdstanpy - INFO - Chain [1] start processing\n",
      "19:35:48 - cmdstanpy - INFO - Chain [1] start processing\n",
      "19:35:48 - cmdstanpy - INFO - Chain [1] done processing\n",
      "19:35:48 - cmdstanpy - INFO - Chain [1] done processing\n"
     ]
    },
    {
     "name": "stdout",
     "output_type": "stream",
     "text": [
      "It's underpredicted.\n",
      "Monthly Error: 99.84 Period MAE: 99.89\n",
      "It's overpredicted.\n",
      "Monthly Error: 201.96 Period MAE: 104.74000000000001\n"
     ]
    },
    {
     "name": "stderr",
     "output_type": "stream",
     "text": [
      "19:35:50 - cmdstanpy - INFO - Chain [1] start processing\n",
      "19:35:50 - cmdstanpy - INFO - Chain [1] start processing\n",
      "19:35:50 - cmdstanpy - INFO - Chain [1] done processing\n",
      "19:35:50 - cmdstanpy - INFO - Chain [1] done processing\n"
     ]
    },
    {
     "name": "stdout",
     "output_type": "stream",
     "text": [
      "It's underpredicted.\n",
      "Monthly Error: 36.9 Period MAE: 37.61\n",
      "It's overpredicted.\n",
      "Monthly Error: 201.96 Period MAE: 104.74000000000001\n"
     ]
    },
    {
     "name": "stderr",
     "output_type": "stream",
     "text": [
      "19:35:52 - cmdstanpy - INFO - Chain [1] start processing\n"
     ]
    },
    {
     "name": "stdout",
     "output_type": "stream",
     "text": [
      "It's underpredicted.\n",
      "Monthly Error: 36.9 Period MAE: 37.61\n"
     ]
    },
    {
     "name": "stderr",
     "output_type": "stream",
     "text": [
      "19:35:52 - cmdstanpy - INFO - Chain [1] start processing\n",
      "19:35:52 - cmdstanpy - INFO - Chain [1] done processing\n",
      "19:35:52 - cmdstanpy - INFO - Chain [1] done processing\n"
     ]
    },
    {
     "name": "stdout",
     "output_type": "stream",
     "text": [
      "It's overpredicted.\n",
      "Monthly Error: 204.61 Period MAE: 106.04\n"
     ]
    },
    {
     "name": "stderr",
     "output_type": "stream",
     "text": [
      "19:35:54 - cmdstanpy - INFO - Chain [1] start processing\n",
      "19:35:54 - cmdstanpy - INFO - Chain [1] done processing\n",
      "19:35:54 - cmdstanpy - INFO - Chain [1] start processing\n"
     ]
    },
    {
     "name": "stdout",
     "output_type": "stream",
     "text": [
      "It's underpredicted.\n",
      "Monthly Error: 36.9 Period MAE: 37.61\n"
     ]
    },
    {
     "name": "stderr",
     "output_type": "stream",
     "text": [
      "19:35:54 - cmdstanpy - INFO - Chain [1] done processing\n"
     ]
    },
    {
     "name": "stdout",
     "output_type": "stream",
     "text": [
      "It's overpredicted.\n",
      "Monthly Error: 204.61 Period MAE: 106.04\n"
     ]
    },
    {
     "name": "stderr",
     "output_type": "stream",
     "text": [
      "19:35:56 - cmdstanpy - INFO - Chain [1] start processing\n",
      "19:35:56 - cmdstanpy - INFO - Chain [1] done processing\n",
      "19:35:56 - cmdstanpy - INFO - Chain [1] start processing\n",
      "19:35:57 - cmdstanpy - INFO - Chain [1] done processing\n"
     ]
    },
    {
     "name": "stdout",
     "output_type": "stream",
     "text": [
      "It's overpredicted.\n",
      "Monthly Error: 204.61 Period MAE: 106.04\n",
      "It's underpredicted.\n",
      "Monthly Error: 43.18 Period MAE:\n",
      " 21.02It's underpredicted.\n",
      "Monthly Error:"
     ]
    },
    {
     "name": "stderr",
     "output_type": "stream",
     "text": [
      "19:35:59 - cmdstanpy - INFO - Chain [1] start processing\n"
     ]
    },
    {
     "name": "stdout",
     "output_type": "stream",
     "text": [
      " 43.18 Period MAE: 21.02\n"
     ]
    },
    {
     "name": "stderr",
     "output_type": "stream",
     "text": [
      "19:35:59 - cmdstanpy - INFO - Chain [1] start processing\n",
      "19:35:59 - cmdstanpy - INFO - Chain [1] done processing\n",
      "19:35:59 - cmdstanpy - INFO - Chain [1] done processing\n"
     ]
    },
    {
     "name": "stdout",
     "output_type": "stream",
     "text": [
      "It's overpredicted.\n",
      "Monthly Error: 187.41 Period MAE: 95.7\n"
     ]
    },
    {
     "name": "stderr",
     "output_type": "stream",
     "text": [
      "19:36:00 - cmdstanpy - INFO - Chain [1] start processing\n",
      "19:36:01 - cmdstanpy - INFO - Chain [1] start processing\n",
      "19:36:01 - cmdstanpy - INFO - Chain [1] done processing\n",
      "19:36:01 - cmdstanpy - INFO - Chain [1] done processing\n"
     ]
    },
    {
     "name": "stdout",
     "output_type": "stream",
     "text": [
      "It's underpredicted.\n",
      "Monthly Error: 43.18 Period MAE: 21.02\n",
      "It's overpredicted.\n",
      "Monthly Error: 187.41 Period MAE: 95.7\n"
     ]
    },
    {
     "name": "stderr",
     "output_type": "stream",
     "text": [
      "19:36:03 - cmdstanpy - INFO - Chain [1] start processing\n",
      "19:36:03 - cmdstanpy - INFO - Chain [1] start processing\n",
      "19:36:03 - cmdstanpy - INFO - Chain [1] done processing\n",
      "19:36:03 - cmdstanpy - INFO - Chain [1] done processing\n"
     ]
    },
    {
     "name": "stdout",
     "output_type": "stream",
     "text": [
      "It's underpredicted.\n",
      "Monthly Error: 36.87 Period MAE: 37.72\n",
      "It's overpredicted.\n",
      "Monthly Error: 187.41 Period MAE: 95.7\n",
      "It's underpredicted.\n",
      "Monthly Error: 36.87 Period MAE: 37.72\n"
     ]
    },
    {
     "name": "stderr",
     "output_type": "stream",
     "text": [
      "19:36:06 - cmdstanpy - INFO - Chain [1] start processing\n",
      "19:36:06 - cmdstanpy - INFO - Chain [1] start processing\n",
      "19:36:06 - cmdstanpy - INFO - Chain [1] done processing\n",
      "19:36:06 - cmdstanpy - INFO - Chain [1] done processing\n",
      "19:36:07 - cmdstanpy - INFO - Chain [1] start processing\n"
     ]
    },
    {
     "name": "stdout",
     "output_type": "stream",
     "text": [
      "It's overpredicted.\n",
      "Monthly Error: 198.34 Period MAE: 104.76\n"
     ]
    },
    {
     "name": "stderr",
     "output_type": "stream",
     "text": [
      "19:36:07 - cmdstanpy - INFO - Chain [1] done processing\n",
      "19:36:08 - cmdstanpy - INFO - Chain [1] start processing\n",
      "19:36:08 - cmdstanpy - INFO - Chain [1] done processing\n"
     ]
    },
    {
     "name": "stdout",
     "output_type": "stream",
     "text": [
      "It's underpredicted.\n",
      "Monthly Error: 36.87 Period MAE:It's overpredicted. 37.72\n",
      "Monthly Error:\n",
      " 198.34 Period MAE: 104.76\n"
     ]
    },
    {
     "name": "stderr",
     "output_type": "stream",
     "text": [
      "19:36:09 - cmdstanpy - INFO - Chain [1] start processing\n",
      "19:36:09 - cmdstanpy - INFO - Chain [1] start processing\n",
      "19:36:09 - cmdstanpy - INFO - Chain [1] done processing\n",
      "19:36:10 - cmdstanpy - INFO - Chain [1] done processing\n"
     ]
    },
    {
     "name": "stdout",
     "output_type": "stream",
     "text": [
      "It's overpredicted.\n",
      "Monthly Error: 198.34 Period MAE: 104.76\n",
      "It's underpredicted.\n",
      "Monthly Error: 46.44 Period MAE: 49.81\n"
     ]
    },
    {
     "name": "stderr",
     "output_type": "stream",
     "text": [
      "19:36:12 - cmdstanpy - INFO - Chain [1] start processing\n"
     ]
    },
    {
     "name": "stdout",
     "output_type": "stream",
     "text": [
      "It's underpredicted.\n",
      "Monthly Error: 46.44 Period MAE: 49.81\n"
     ]
    },
    {
     "name": "stderr",
     "output_type": "stream",
     "text": [
      "19:36:12 - cmdstanpy - INFO - Chain [1] done processing\n",
      "19:36:12 - cmdstanpy - INFO - Chain [1] start processing\n",
      "19:36:12 - cmdstanpy - INFO - Chain [1] done processing\n"
     ]
    },
    {
     "name": "stdout",
     "output_type": "stream",
     "text": [
      "It's overpredicted.\n",
      "Monthly Error: 193.37 Period MAE: 101.72000000000001\n",
      "It's underpredicted.\n",
      "Monthly Error: 46.44 Period MAE: 49.81\n"
     ]
    },
    {
     "name": "stderr",
     "output_type": "stream",
     "text": [
      "19:36:14 - cmdstanpy - INFO - Chain [1] start processing\n",
      "19:36:14 - cmdstanpy - INFO - Chain [1] start processing\n",
      "19:36:14 - cmdstanpy - INFO - Chain [1] done processing\n",
      "19:36:14 - cmdstanpy - INFO - Chain [1] done processing\n"
     ]
    },
    {
     "name": "stdout",
     "output_type": "stream",
     "text": [
      "It's overpredicted.\n",
      "Monthly Error: 193.37 Period MAE: 101.72000000000001\n"
     ]
    },
    {
     "name": "stderr",
     "output_type": "stream",
     "text": [
      "19:36:15 - cmdstanpy - INFO - Chain [1] start processing\n",
      "19:36:15 - cmdstanpy - INFO - Chain [1] done processing\n",
      "19:36:16 - cmdstanpy - INFO - Chain [1] start processing\n",
      "19:36:16 - cmdstanpy - INFO - Chain [1] done processing\n"
     ]
    },
    {
     "name": "stdout",
     "output_type": "stream",
     "text": [
      "It's overpredicted.\n",
      "Monthly Error: 193.37 Period MAE: 101.72000000000001\n",
      "It's underpredicted.\n",
      "Monthly Error: 43.34 Period MAE: 34.68\n"
     ]
    },
    {
     "name": "stderr",
     "output_type": "stream",
     "text": [
      "19:36:18 - cmdstanpy - INFO - Chain [1] start processing\n",
      "19:36:18 - cmdstanpy - INFO - Chain [1] start processing\n",
      "19:36:18 - cmdstanpy - INFO - Chain [1] done processing\n",
      "19:36:18 - cmdstanpy - INFO - Chain [1] done processing\n"
     ]
    },
    {
     "name": "stdout",
     "output_type": "stream",
     "text": [
      "It's underpredicted.\n",
      "Monthly Error: 43.34 Period MAE: 34.68\n",
      "It's overpredicted.\n",
      "Monthly Error: 143.27 Period MAE: 58.58\n"
     ]
    },
    {
     "name": "stderr",
     "output_type": "stream",
     "text": [
      "19:36:20 - cmdstanpy - INFO - Chain [1] start processing\n",
      "19:36:20 - cmdstanpy - INFO - Chain [1] start processing\n"
     ]
    },
    {
     "name": "stdout",
     "output_type": "stream",
     "text": [
      "It's underpredicted.\n",
      "Monthly Error: 43.34 Period MAE: "
     ]
    },
    {
     "name": "stderr",
     "output_type": "stream",
     "text": [
      "19:36:20 - cmdstanpy - INFO - Chain [1] done processing\n"
     ]
    },
    {
     "name": "stdout",
     "output_type": "stream",
     "text": [
      "34.68\n"
     ]
    },
    {
     "name": "stderr",
     "output_type": "stream",
     "text": [
      "19:36:20 - cmdstanpy - INFO - Chain [1] done processing\n"
     ]
    },
    {
     "name": "stdout",
     "output_type": "stream",
     "text": [
      "It's overpredicted.\n",
      "Monthly Error: 143.27 Period MAE: 58.58\n"
     ]
    },
    {
     "name": "stderr",
     "output_type": "stream",
     "text": [
      "19:36:22 - cmdstanpy - INFO - Chain [1] start processing\n",
      "19:36:22 - cmdstanpy - INFO - Chain [1] start processing\n",
      "19:36:22 - cmdstanpy - INFO - Chain [1] done processing\n",
      "19:36:22 - cmdstanpy - INFO - Chain [1] done processing\n"
     ]
    },
    {
     "name": "stdout",
     "output_type": "stream",
     "text": [
      "It's underpredicted.\n",
      "Monthly Error: 53.73 Period MAE: 34.78\n",
      "It's overpredicted.\n",
      "Monthly Error: 143.27 Period MAE: 58.58\n"
     ]
    },
    {
     "name": "stderr",
     "output_type": "stream",
     "text": [
      "19:36:24 - cmdstanpy - INFO - Chain [1] start processing\n",
      "19:36:24 - cmdstanpy - INFO - Chain [1] start processing\n",
      "19:36:24 - cmdstanpy - INFO - Chain [1] done processing\n",
      "19:36:24 - cmdstanpy - INFO - Chain [1] done processing\n"
     ]
    },
    {
     "name": "stdout",
     "output_type": "stream",
     "text": [
      "It's underpredicted.\n",
      "Monthly Error: 53.73 Period MAE: 34.78\n",
      "It's overpredicted.\n",
      "Monthly Error: 201.96 Period MAE: 104.74000000000001\n"
     ]
    },
    {
     "name": "stderr",
     "output_type": "stream",
     "text": [
      "19:36:26 - cmdstanpy - INFO - Chain [1] start processing\n",
      "19:36:26 - cmdstanpy - INFO - Chain [1] start processing\n",
      "19:36:26 - cmdstanpy - INFO - Chain [1] done processing\n",
      "19:36:26 - cmdstanpy - INFO - Chain [1] done processing\n"
     ]
    },
    {
     "name": "stdout",
     "output_type": "stream",
     "text": [
      "It's underpredicted.\n",
      "Monthly Error: 53.73 Period MAE:It's overpredicted.\n",
      "Monthly Error:  34.78201.96\n",
      " Period MAE: 104.74000000000001\n"
     ]
    },
    {
     "name": "stderr",
     "output_type": "stream",
     "text": [
      "19:36:28 - cmdstanpy - INFO - Chain [1] start processing\n",
      "19:36:28 - cmdstanpy - INFO - Chain [1] start processing\n",
      "19:36:28 - cmdstanpy - INFO - Chain [1] done processing\n",
      "19:36:29 - cmdstanpy - INFO - Chain [1] done processing\n"
     ]
    },
    {
     "name": "stdout",
     "output_type": "stream",
     "text": [
      "It's underpredicted.\n",
      "Monthly Error: 36.9 Period MAE: 37.61\n",
      "It's overpredicted.\n",
      "Monthly Error: 201.96 Period MAE: 104.74000000000001\n"
     ]
    },
    {
     "name": "stderr",
     "output_type": "stream",
     "text": [
      "19:36:30 - cmdstanpy - INFO - Chain [1] start processing\n",
      "19:36:30 - cmdstanpy - INFO - Chain [1] start processing\n"
     ]
    },
    {
     "name": "stdout",
     "output_type": "stream",
     "text": [
      "It's underpredicted.\n",
      "Monthly Error: "
     ]
    },
    {
     "name": "stderr",
     "output_type": "stream",
     "text": [
      "19:36:30 - cmdstanpy - INFO - Chain [1] done processing\n"
     ]
    },
    {
     "name": "stdout",
     "output_type": "stream",
     "text": [
      "36.9 Period MAE: 37.61\n"
     ]
    },
    {
     "name": "stderr",
     "output_type": "stream",
     "text": [
      "19:36:31 - cmdstanpy - INFO - Chain [1] done processing\n"
     ]
    },
    {
     "name": "stdout",
     "output_type": "stream",
     "text": [
      "It's overpredicted.\n",
      "Monthly Error: 204.16 Period MAE: 105.62\n"
     ]
    },
    {
     "name": "stderr",
     "output_type": "stream",
     "text": [
      "19:36:32 - cmdstanpy - INFO - Chain [1] start processing\n",
      "19:36:32 - cmdstanpy - INFO - Chain [1] start processing\n",
      "19:36:32 - cmdstanpy - INFO - Chain [1] done processing\n",
      "19:36:33 - cmdstanpy - INFO - Chain [1] done processing\n"
     ]
    },
    {
     "name": "stdout",
     "output_type": "stream",
     "text": [
      "It's underpredicted.\n",
      "Monthly Error: 36.9 Period MAE: 37.61\n",
      "It's overpredicted.\n",
      "Monthly Error: 204.16 Period MAE: 105.62\n"
     ]
    },
    {
     "name": "stderr",
     "output_type": "stream",
     "text": [
      "19:36:34 - cmdstanpy - INFO - Chain [1] start processing\n",
      "19:36:34 - cmdstanpy - INFO - Chain [1] start processing\n",
      "19:36:34 - cmdstanpy - INFO - Chain [1] done processing\n",
      "19:36:35 - cmdstanpy - INFO - Chain [1] done processing\n"
     ]
    },
    {
     "name": "stdout",
     "output_type": "stream",
     "text": [
      "It's overpredicted.\n",
      "Monthly Error: 204.16 Period MAE: It's underpredicted.105.62\n",
      "\n",
      "Monthly Error: 40.82 Period MAE: 27.42\n"
     ]
    },
    {
     "name": "stderr",
     "output_type": "stream",
     "text": [
      "19:36:37 - cmdstanpy - INFO - Chain [1] start processing\n",
      "19:36:37 - cmdstanpy - INFO - Chain [1] start processing\n",
      "19:36:37 - cmdstanpy - INFO - Chain [1] done processing\n",
      "19:36:37 - cmdstanpy - INFO - Chain [1] done processing\n"
     ]
    },
    {
     "name": "stdout",
     "output_type": "stream",
     "text": [
      "It's underpredicted.\n",
      "Monthly Error: 40.82 Period MAE: 27.42\n",
      "It's overpredicted.\n",
      "Monthly Error: 201.17 Period MAE: 104.08\n"
     ]
    },
    {
     "name": "stderr",
     "output_type": "stream",
     "text": [
      "19:36:38 - cmdstanpy - INFO - Chain [1] start processing\n",
      "19:36:39 - cmdstanpy - INFO - Chain [1] start processing\n",
      "19:36:39 - cmdstanpy - INFO - Chain [1] done processing\n",
      "19:36:39 - cmdstanpy - INFO - Chain [1] done processing\n"
     ]
    },
    {
     "name": "stdout",
     "output_type": "stream",
     "text": [
      "It's underpredicted.\n",
      "Monthly Error: 40.82 Period MAE: 27.42\n",
      "It's overpredicted.\n",
      "Monthly Error: 201.17 Period MAE: 104.08\n"
     ]
    },
    {
     "name": "stderr",
     "output_type": "stream",
     "text": [
      "19:36:40 - cmdstanpy - INFO - Chain [1] start processing\n",
      "19:36:41 - cmdstanpy - INFO - Chain [1] start processing\n",
      "19:36:41 - cmdstanpy - INFO - Chain [1] done processing\n",
      "19:36:41 - cmdstanpy - INFO - Chain [1] done processing\n"
     ]
    },
    {
     "name": "stdout",
     "output_type": "stream",
     "text": [
      "It's underpredicted.\n",
      "Monthly Error: 37.11 Period MAE: 41.86\n",
      "It's overpredicted.\n",
      "Monthly Error: 201.17 Period MAE: 104.08\n"
     ]
    },
    {
     "name": "stderr",
     "output_type": "stream",
     "text": [
      "19:36:42 - cmdstanpy - INFO - Chain [1] start processing\n",
      "19:36:43 - cmdstanpy - INFO - Chain [1] start processing\n",
      "19:36:43 - cmdstanpy - INFO - Chain [1] done processing\n",
      "19:36:43 - cmdstanpy - INFO - Chain [1] done processing\n"
     ]
    },
    {
     "name": "stdout",
     "output_type": "stream",
     "text": [
      "It's underpredicted.\n",
      "Monthly Error: 37.11 Period MAE: 41.86\n",
      "It's overpredicted.\n",
      "Monthly Error: 198.34 Period MAE: 104.76\n"
     ]
    },
    {
     "name": "stderr",
     "output_type": "stream",
     "text": [
      "19:36:45 - cmdstanpy - INFO - Chain [1] start processing\n"
     ]
    },
    {
     "name": "stdout",
     "output_type": "stream",
     "text": [
      "It's underpredicted.\n",
      "Monthly Error: 37.11 Period MAE: "
     ]
    },
    {
     "name": "stderr",
     "output_type": "stream",
     "text": [
      "19:36:45 - cmdstanpy - INFO - Chain [1] start processing\n"
     ]
    },
    {
     "name": "stdout",
     "output_type": "stream",
     "text": [
      "41.86\n"
     ]
    },
    {
     "name": "stderr",
     "output_type": "stream",
     "text": [
      "19:36:45 - cmdstanpy - INFO - Chain [1] done processing\n",
      "19:36:45 - cmdstanpy - INFO - Chain [1] done processing\n"
     ]
    },
    {
     "name": "stdout",
     "output_type": "stream",
     "text": [
      "It's overpredicted.\n",
      "Monthly Error: 104.76198.34 Period MAE: \n"
     ]
    },
    {
     "name": "stderr",
     "output_type": "stream",
     "text": [
      "19:36:47 - cmdstanpy - INFO - Chain [1] start processing\n",
      "19:36:47 - cmdstanpy - INFO - Chain [1] start processing\n",
      "19:36:47 - cmdstanpy - INFO - Chain [1] done processing\n",
      "19:36:47 - cmdstanpy - INFO - Chain [1] done processing\n"
     ]
    },
    {
     "name": "stdout",
     "output_type": "stream",
     "text": [
      "It's underpredicted.\n",
      "Monthly Error: 46.44 Period MAE: 49.81\n",
      "It's overpredicted.\n",
      "Monthly Error: 198.34 Period MAE: 104.76\n"
     ]
    },
    {
     "name": "stderr",
     "output_type": "stream",
     "text": [
      "19:36:49 - cmdstanpy - INFO - Chain [1] start processing\n",
      "19:36:49 - cmdstanpy - INFO - Chain [1] start processing\n",
      "19:36:49 - cmdstanpy - INFO - Chain [1] done processing\n",
      "19:36:49 - cmdstanpy - INFO - Chain [1] done processing\n"
     ]
    },
    {
     "name": "stdout",
     "output_type": "stream",
     "text": [
      "It's underpredicted.\n",
      "Monthly Error: 46.44 Period MAE: 49.81\n",
      "It's overpredicted.\n",
      "Monthly Error: 182.74 Period MAE: 90.46\n"
     ]
    },
    {
     "name": "stderr",
     "output_type": "stream",
     "text": [
      "19:36:51 - cmdstanpy - INFO - Chain [1] start processing\n"
     ]
    },
    {
     "name": "stdout",
     "output_type": "stream",
     "text": [
      "It's underpredicted.\n",
      "Monthly Error: 46.44 Period MAE: 49.81\n"
     ]
    },
    {
     "name": "stderr",
     "output_type": "stream",
     "text": [
      "19:36:51 - cmdstanpy - INFO - Chain [1] start processing\n",
      "19:36:51 - cmdstanpy - INFO - Chain [1] done processing\n",
      "19:36:52 - cmdstanpy - INFO - Chain [1] done processing\n"
     ]
    },
    {
     "name": "stdout",
     "output_type": "stream",
     "text": [
      "It's overpredicted.\n",
      "Monthly Error: 182.74 Period MAE: 90.46\n"
     ]
    },
    {
     "name": "stderr",
     "output_type": "stream",
     "text": [
      "19:36:53 - cmdstanpy - INFO - Chain [1] start processing\n",
      "19:36:53 - cmdstanpy - INFO - Chain [1] start processing\n",
      "19:36:53 - cmdstanpy - INFO - Chain [1] done processing\n",
      "19:36:53 - cmdstanpy - INFO - Chain [1] done processing\n"
     ]
    },
    {
     "name": "stdout",
     "output_type": "stream",
     "text": [
      "It's underpredicted.\n",
      "Monthly Error: 43.42 Period MAE: 33.72\n",
      "It's overpredicted.\n",
      "Monthly Error: 182.74 Period MAE: 90.46\n"
     ]
    },
    {
     "name": "stderr",
     "output_type": "stream",
     "text": [
      "19:36:55 - cmdstanpy - INFO - Chain [1] start processing\n",
      "19:36:55 - cmdstanpy - INFO - Chain [1] start processing\n",
      "19:36:56 - cmdstanpy - INFO - Chain [1] done processing\n",
      "19:36:56 - cmdstanpy - INFO - Chain [1] done processing\n"
     ]
    },
    {
     "name": "stdout",
     "output_type": "stream",
     "text": [
      "It's underpredicted.\n",
      "Monthly Error: 43.42 Period MAE: 33.72\n",
      "It's overpredicted.\n",
      "Monthly Error: 157.49 Period MAE: 66.47\n",
      "It's underpredicted.\n",
      "Monthly Error: 43.42 Period MAE: 33.72\n"
     ]
    },
    {
     "name": "stderr",
     "output_type": "stream",
     "text": [
      "19:36:58 - cmdstanpy - INFO - Chain [1] start processing\n",
      "19:36:58 - cmdstanpy - INFO - Chain [1] start processing\n",
      "19:36:58 - cmdstanpy - INFO - Chain [1] done processing\n",
      "19:36:59 - cmdstanpy - INFO - Chain [1] done processing\n"
     ]
    },
    {
     "name": "stdout",
     "output_type": "stream",
     "text": [
      "It's overpredicted.\n",
      "Monthly Error: 157.49 Period MAE: 66.47\n"
     ]
    },
    {
     "name": "stderr",
     "output_type": "stream",
     "text": [
      "19:37:00 - cmdstanpy - INFO - Chain [1] start processing\n",
      "19:37:00 - cmdstanpy - INFO - Chain [1] start processing\n",
      "19:37:00 - cmdstanpy - INFO - Chain [1] done processing\n"
     ]
    },
    {
     "name": "stdout",
     "output_type": "stream",
     "text": [
      "It's underpredicted.\n",
      "Monthly Error: 55.19 Period MAE: 32.67\n"
     ]
    },
    {
     "name": "stderr",
     "output_type": "stream",
     "text": [
      "19:37:01 - cmdstanpy - INFO - Chain [1] done processing\n"
     ]
    },
    {
     "name": "stdout",
     "output_type": "stream",
     "text": [
      "It's overpredicted.\n",
      "Monthly Error: 157.49 Period MAE: 66.47\n"
     ]
    },
    {
     "name": "stderr",
     "output_type": "stream",
     "text": [
      "19:37:03 - cmdstanpy - INFO - Chain [1] start processing\n",
      "19:37:03 - cmdstanpy - INFO - Chain [1] start processing\n",
      "19:37:03 - cmdstanpy - INFO - Chain [1] done processing\n",
      "19:37:03 - cmdstanpy - INFO - Chain [1] done processing\n"
     ]
    },
    {
     "name": "stdout",
     "output_type": "stream",
     "text": [
      "It's overpredicted.\n",
      "Monthly Error: 201.96 Period MAE: 104.74000000000001\n",
      "It's underpredicted.\n",
      "Monthly Error: 55.19 Period MAE: 32.67\n"
     ]
    },
    {
     "name": "stderr",
     "output_type": "stream",
     "text": [
      "19:37:06 - cmdstanpy - INFO - Chain [1] start processing\n",
      "19:37:06 - cmdstanpy - INFO - Chain [1] start processing\n",
      "19:37:06 - cmdstanpy - INFO - Chain [1] done processing\n",
      "19:37:06 - cmdstanpy - INFO - Chain [1] done processing\n"
     ]
    },
    {
     "name": "stdout",
     "output_type": "stream",
     "text": [
      "It's overpredicted.\n",
      "Monthly Error: 201.96 Period MAE: 104.74000000000001\n",
      "It's underpredicted.\n",
      "Monthly Error: 55.19 Period MAE: 32.67\n"
     ]
    },
    {
     "name": "stderr",
     "output_type": "stream",
     "text": [
      "19:37:08 - cmdstanpy - INFO - Chain [1] start processing\n"
     ]
    },
    {
     "name": "stdout",
     "output_type": "stream",
     "text": [
      "It's underpredicted.\n",
      "Monthly Error: 36.9 Period MAE: 37.61\n"
     ]
    },
    {
     "name": "stderr",
     "output_type": "stream",
     "text": [
      "19:37:08 - cmdstanpy - INFO - Chain [1] start processing\n",
      "19:37:08 - cmdstanpy - INFO - Chain [1] done processing\n",
      "19:37:08 - cmdstanpy - INFO - Chain [1] done processing\n"
     ]
    },
    {
     "name": "stdout",
     "output_type": "stream",
     "text": [
      "It's overpredicted.\n",
      "Monthly Error: 201.96 Period MAE: 104.74000000000001\n"
     ]
    },
    {
     "name": "stderr",
     "output_type": "stream",
     "text": [
      "19:37:09 - cmdstanpy - INFO - Chain [1] start processing\n",
      "19:37:10 - cmdstanpy - INFO - Chain [1] start processing\n",
      "19:37:10 - cmdstanpy - INFO - Chain [1] done processing\n",
      "19:37:10 - cmdstanpy - INFO - Chain [1] done processing\n"
     ]
    },
    {
     "name": "stdout",
     "output_type": "stream",
     "text": [
      "It's underpredicted.\n",
      "Monthly Error: 36.9 Period MAE: 37.61\n",
      "It's overpredicted.\n",
      "Monthly Error: 199.85 Period MAE: 103.38000000000001\n"
     ]
    },
    {
     "name": "stderr",
     "output_type": "stream",
     "text": [
      "19:37:11 - cmdstanpy - INFO - Chain [1] start processing\n",
      "19:37:12 - cmdstanpy - INFO - Chain [1] start processing\n",
      "19:37:12 - cmdstanpy - INFO - Chain [1] done processing\n",
      "19:37:12 - cmdstanpy - INFO - Chain [1] done processing\n"
     ]
    },
    {
     "name": "stdout",
     "output_type": "stream",
     "text": [
      "It's overpredicted.\n",
      "It's underpredicted.Monthly Error: \n",
      "199.85 Monthly Error: Period MAE:36.9 103.38000000000001 \n",
      "Period MAE: 37.61\n"
     ]
    },
    {
     "name": "stderr",
     "output_type": "stream",
     "text": [
      "19:37:14 - cmdstanpy - INFO - Chain [1] start processing\n",
      "19:37:14 - cmdstanpy - INFO - Chain [1] done processing\n"
     ]
    },
    {
     "name": "stdout",
     "output_type": "stream",
     "text": [
      "It's underpredicted.\n",
      "Monthly Error: 40.82 Period MAE: 27.43\n"
     ]
    },
    {
     "name": "stderr",
     "output_type": "stream",
     "text": [
      "19:37:14 - cmdstanpy - INFO - Chain [1] start processing\n",
      "19:37:15 - cmdstanpy - INFO - Chain [1] done processing\n"
     ]
    },
    {
     "name": "stdout",
     "output_type": "stream",
     "text": [
      "It's overpredicted.\n",
      "Monthly Error: 199.85 Period MAE: 103.38000000000001\n"
     ]
    },
    {
     "name": "stderr",
     "output_type": "stream",
     "text": [
      "19:37:16 - cmdstanpy - INFO - Chain [1] start processing\n",
      "19:37:16 - cmdstanpy - INFO - Chain [1] start processing\n",
      "19:37:16 - cmdstanpy - INFO - Chain [1] done processing\n",
      "19:37:16 - cmdstanpy - INFO - Chain [1] done processing\n"
     ]
    },
    {
     "name": "stdout",
     "output_type": "stream",
     "text": [
      "It's underpredicted.\n",
      "Monthly Error: 40.82 Period MAE: 27.43\n",
      "It's overpredicted. \n",
      "Monthly Error: 200.96Period MAE: 103.95\n"
     ]
    },
    {
     "name": "stderr",
     "output_type": "stream",
     "text": [
      "19:37:18 - cmdstanpy - INFO - Chain [1] start processing\n",
      "19:37:18 - cmdstanpy - INFO - Chain [1] start processing\n",
      "19:37:18 - cmdstanpy - INFO - Chain [1] done processing\n",
      "19:37:18 - cmdstanpy - INFO - Chain [1] done processing\n"
     ]
    },
    {
     "name": "stdout",
     "output_type": "stream",
     "text": [
      "It's overpredicted.\n",
      "Monthly Error: 200.96 Period MAE: 103.95\n",
      "It's underpredicted.\n",
      "40.82Monthly Error:  Period MAE: 27.43\n"
     ]
    },
    {
     "name": "stderr",
     "output_type": "stream",
     "text": [
      "19:37:20 - cmdstanpy - INFO - Chain [1] start processing\n",
      "19:37:20 - cmdstanpy - INFO - Chain [1] start processing\n",
      "19:37:21 - cmdstanpy - INFO - Chain [1] done processing\n",
      "19:37:21 - cmdstanpy - INFO - Chain [1] done processing\n"
     ]
    },
    {
     "name": "stdout",
     "output_type": "stream",
     "text": [
      "It's underpredicted.\n",
      "Monthly Error: 37.1 Period MAE: 41.82\n",
      "It's overpredicted.\n",
      "Monthly Error: 200.96 Period MAE: 103.95\n"
     ]
    },
    {
     "name": "stderr",
     "output_type": "stream",
     "text": [
      "19:37:23 - cmdstanpy - INFO - Chain [1] start processing\n"
     ]
    },
    {
     "name": "stdout",
     "output_type": "stream",
     "text": [
      "It's underpredicted.\n"
     ]
    },
    {
     "name": "stderr",
     "output_type": "stream",
     "text": [
      "19:37:23 - cmdstanpy - INFO - Chain [1] start processing\n"
     ]
    },
    {
     "name": "stdout",
     "output_type": "stream",
     "text": [
      "Monthly Error: 37.1 Period MAE: 41.82\n"
     ]
    },
    {
     "name": "stderr",
     "output_type": "stream",
     "text": [
      "19:37:23 - cmdstanpy - INFO - Chain [1] done processing\n",
      "19:37:23 - cmdstanpy - INFO - Chain [1] done processing\n"
     ]
    },
    {
     "name": "stdout",
     "output_type": "stream",
     "text": [
      "It's overpredicted.\n",
      "Monthly Error: 198.34 Period MAE: 104.76\n"
     ]
    },
    {
     "name": "stderr",
     "output_type": "stream",
     "text": [
      "19:37:25 - cmdstanpy - INFO - Chain [1] start processing\n",
      "19:37:25 - cmdstanpy - INFO - Chain [1] start processing\n",
      "19:37:25 - cmdstanpy - INFO - Chain [1] done processing\n"
     ]
    },
    {
     "name": "stdout",
     "output_type": "stream",
     "text": [
      "It's underpredicted.\n",
      "Monthly Error: 37.1 Period MAE: 41.82\n"
     ]
    },
    {
     "name": "stderr",
     "output_type": "stream",
     "text": [
      "19:37:25 - cmdstanpy - INFO - Chain [1] done processing\n"
     ]
    },
    {
     "name": "stdout",
     "output_type": "stream",
     "text": [
      "It's overpredicted.\n",
      "Monthly Error: 198.34 Period MAE:104.76 \n"
     ]
    },
    {
     "name": "stderr",
     "output_type": "stream",
     "text": [
      "19:37:26 - cmdstanpy - INFO - Chain [1] start processing\n",
      "19:37:27 - cmdstanpy - INFO - Chain [1] start processing\n",
      "19:37:27 - cmdstanpy - INFO - Chain [1] done processing\n",
      "19:37:27 - cmdstanpy - INFO - Chain [1] done processing\n"
     ]
    },
    {
     "name": "stdout",
     "output_type": "stream",
     "text": [
      "It's underpredicted.\n",
      "Monthly Error: 46.44 Period MAE: 49.81It's overpredicted.\n",
      "Monthly Error: 198.34 \n",
      "Period MAE: 104.76\n"
     ]
    },
    {
     "name": "stderr",
     "output_type": "stream",
     "text": [
      "19:37:29 - cmdstanpy - INFO - Chain [1] start processing\n",
      "19:37:29 - cmdstanpy - INFO - Chain [1] start processing\n",
      "19:37:29 - cmdstanpy - INFO - Chain [1] done processing\n",
      "19:37:29 - cmdstanpy - INFO - Chain [1] done processing\n"
     ]
    },
    {
     "name": "stdout",
     "output_type": "stream",
     "text": [
      "It's underpredicted.\n",
      "Monthly Error: 46.44 Period MAE: 49.81\n",
      "It's overpredicted.\n",
      "Monthly Error: 156.94 Period MAE: 64.13\n",
      "It's underpredicted.\n",
      "Monthly Error: 46.44 Period MAE: 49.81\n"
     ]
    },
    {
     "name": "stderr",
     "output_type": "stream",
     "text": [
      "19:37:31 - cmdstanpy - INFO - Chain [1] start processing\n",
      "19:37:31 - cmdstanpy - INFO - Chain [1] start processing\n",
      "19:37:31 - cmdstanpy - INFO - Chain [1] done processing\n",
      "19:37:31 - cmdstanpy - INFO - Chain [1] done processing\n"
     ]
    },
    {
     "name": "stdout",
     "output_type": "stream",
     "text": [
      "It's overpredicted.\n",
      "Monthly Error: 156.94 Period MAE: 64.13\n"
     ]
    },
    {
     "name": "stderr",
     "output_type": "stream",
     "text": [
      "19:37:33 - cmdstanpy - INFO - Chain [1] start processing\n",
      "19:37:33 - cmdstanpy - INFO - Chain [1] start processing\n",
      "19:37:33 - cmdstanpy - INFO - Chain [1] done processing\n",
      "19:37:33 - cmdstanpy - INFO - Chain [1] done processing\n"
     ]
    },
    {
     "name": "stdout",
     "output_type": "stream",
     "text": [
      "It's overpredicted.\n",
      "Monthly Error: 156.94 Period MAE: 64.13\n",
      "It's underpredicted.\n",
      "Monthly Error: 43.49 Period MAE: 34.27\n"
     ]
    },
    {
     "name": "stderr",
     "output_type": "stream",
     "text": [
      "19:37:35 - cmdstanpy - INFO - Chain [1] start processing\n",
      "19:37:35 - cmdstanpy - INFO - Chain [1] start processing\n",
      "19:37:36 - cmdstanpy - INFO - Chain [1] done processing\n",
      "19:37:36 - cmdstanpy - INFO - Chain [1] done processing\n"
     ]
    },
    {
     "name": "stdout",
     "output_type": "stream",
     "text": [
      "It's underpredicted.\n",
      "Monthly Error: 43.49 Period MAE: 34.27\n",
      "It's overpredicted.\n",
      "Monthly Error: 147.72 Period MAE: 65.28\n"
     ]
    },
    {
     "name": "stderr",
     "output_type": "stream",
     "text": [
      "19:37:37 - cmdstanpy - INFO - Chain [1] start processing\n",
      "19:37:37 - cmdstanpy - INFO - Chain [1] start processing\n"
     ]
    },
    {
     "name": "stdout",
     "output_type": "stream",
     "text": [
      "It's underpredicted.\n",
      "Monthly Error: 43.49 Period MAE: 34.27\n"
     ]
    },
    {
     "name": "stderr",
     "output_type": "stream",
     "text": [
      "19:37:38 - cmdstanpy - INFO - Chain [1] done processing\n",
      "19:37:38 - cmdstanpy - INFO - Chain [1] done processing\n"
     ]
    },
    {
     "name": "stdout",
     "output_type": "stream",
     "text": [
      "It's overpredicted.\n",
      "Monthly Error: 147.72 Period MAE: 65.28\n"
     ]
    },
    {
     "name": "stderr",
     "output_type": "stream",
     "text": [
      "19:37:39 - cmdstanpy - INFO - Chain [1] start processing\n",
      "19:37:39 - cmdstanpy - INFO - Chain [1] start processing\n",
      "19:37:40 - cmdstanpy - INFO - Chain [1] done processing\n",
      "19:37:40 - cmdstanpy - INFO - Chain [1] done processing\n"
     ]
    },
    {
     "name": "stdout",
     "output_type": "stream",
     "text": [
      "It's underpredicted.\n",
      "Monthly Error: 55.18 Period MAE: 32.65\n",
      "It's overpredicted.\n",
      "Monthly Error: 147.72 Period MAE: 65.28\n"
     ]
    },
    {
     "name": "stderr",
     "output_type": "stream",
     "text": [
      "19:37:41 - cmdstanpy - INFO - Chain [1] start processing\n",
      "19:37:42 - cmdstanpy - INFO - Chain [1] start processing\n",
      "19:37:42 - cmdstanpy - INFO - Chain [1] done processing\n",
      "19:37:42 - cmdstanpy - INFO - Chain [1] done processing\n"
     ]
    },
    {
     "name": "stdout",
     "output_type": "stream",
     "text": [
      "It's underpredicted.\n",
      "Monthly Error: 55.18 Period MAE: 32.65\n",
      "It's overpredicted.\n",
      "Monthly Error: 200.31 Period MAE: 102.61\n"
     ]
    },
    {
     "name": "stderr",
     "output_type": "stream",
     "text": [
      "19:37:44 - cmdstanpy - INFO - Chain [1] start processing\n"
     ]
    },
    {
     "name": "stdout",
     "output_type": "stream",
     "text": [
      "It's underpredicted.\n",
      "Monthly Error: 55.18 Period MAE: 32.65"
     ]
    },
    {
     "name": "stderr",
     "output_type": "stream",
     "text": [
      "19:37:44 - cmdstanpy - INFO - Chain [1] start processing\n"
     ]
    },
    {
     "name": "stdout",
     "output_type": "stream",
     "text": [
      "\n"
     ]
    },
    {
     "name": "stderr",
     "output_type": "stream",
     "text": [
      "19:37:44 - cmdstanpy - INFO - Chain [1] done processing\n",
      "19:37:44 - cmdstanpy - INFO - Chain [1] done processing\n"
     ]
    },
    {
     "name": "stdout",
     "output_type": "stream",
     "text": [
      "It's overpredicted.\n",
      "Monthly Error: 200.31 Period MAE: 102.61\n"
     ]
    },
    {
     "name": "stderr",
     "output_type": "stream",
     "text": [
      "19:37:45 - cmdstanpy - INFO - Chain [1] start processing\n",
      "19:37:46 - cmdstanpy - INFO - Chain [1] start processing\n",
      "19:37:46 - cmdstanpy - INFO - Chain [1] done processing\n",
      "19:37:46 - cmdstanpy - INFO - Chain [1] done processing\n"
     ]
    },
    {
     "name": "stdout",
     "output_type": "stream",
     "text": [
      "It's overpredicted.\n",
      "Monthly Error: 200.31 Period MAE: 102.61\n",
      "It's underpredicted.\n",
      "Monthly Error: 52.29 Period MAE: 59.27\n"
     ]
    },
    {
     "name": "stderr",
     "output_type": "stream",
     "text": [
      "19:37:48 - cmdstanpy - INFO - Chain [1] start processing\n",
      "19:37:48 - cmdstanpy - INFO - Chain [1] start processing\n",
      "19:37:48 - cmdstanpy - INFO - Chain [1] done processing\n",
      "19:37:48 - cmdstanpy - INFO - Chain [1] done processing\n"
     ]
    },
    {
     "name": "stdout",
     "output_type": "stream",
     "text": [
      "It's underpredicted.\n",
      "Monthly Error: 52.29 Period MAE: 59.27\n",
      "It's overpredicted.\n",
      "Monthly Error: 184.66 Period MAE: 92.23\n",
      "It's underpredicted.\n",
      "Monthly Error: 52.29 Period MAE: 59.27\n"
     ]
    },
    {
     "name": "stderr",
     "output_type": "stream",
     "text": [
      "19:37:50 - cmdstanpy - INFO - Chain [1] start processing\n",
      "19:37:50 - cmdstanpy - INFO - Chain [1] start processing\n",
      "19:37:51 - cmdstanpy - INFO - Chain [1] done processing\n",
      "19:37:51 - cmdstanpy - INFO - Chain [1] done processing\n"
     ]
    },
    {
     "name": "stdout",
     "output_type": "stream",
     "text": [
      "It's overpredicted.\n",
      "Monthly Error: 184.66 Period MAE: 92.23\n"
     ]
    },
    {
     "name": "stderr",
     "output_type": "stream",
     "text": [
      "19:37:52 - cmdstanpy - INFO - Chain [1] start processing\n",
      "19:37:52 - cmdstanpy - INFO - Chain [1] done processing\n",
      "19:37:52 - cmdstanpy - INFO - Chain [1] start processing\n",
      "19:37:52 - cmdstanpy - INFO - Chain [1] done processing\n"
     ]
    },
    {
     "name": "stdout",
     "output_type": "stream",
     "text": [
      "It's underpredicted.\n",
      "Monthly Error: 52.66 Period MAE: 60.84\n",
      "It's overpredicted.\n",
      "Monthly Error: 184.66 Period MAE: 92.23\n"
     ]
    },
    {
     "name": "stderr",
     "output_type": "stream",
     "text": [
      "19:37:54 - cmdstanpy - INFO - Chain [1] start processing\n",
      "19:37:54 - cmdstanpy - INFO - Chain [1] start processing\n",
      "19:37:54 - cmdstanpy - INFO - Chain [1] done processing\n",
      "19:37:54 - cmdstanpy - INFO - Chain [1] done processing\n"
     ]
    },
    {
     "name": "stdout",
     "output_type": "stream",
     "text": [
      "It's overpredicted.\n",
      "Monthly Error: 194.62 Period MAE: 98.53\n",
      "It's underpredicted.\n",
      "Monthly Error: 52.66 Period MAE: 60.84\n"
     ]
    },
    {
     "name": "stderr",
     "output_type": "stream",
     "text": [
      "19:37:57 - cmdstanpy - INFO - Chain [1] start processing\n",
      "19:37:57 - cmdstanpy - INFO - Chain [1] start processing\n",
      "19:37:57 - cmdstanpy - INFO - Chain [1] done processing\n",
      "19:37:57 - cmdstanpy - INFO - Chain [1] done processing\n"
     ]
    },
    {
     "name": "stdout",
     "output_type": "stream",
     "text": [
      "It's underpredicted.\n",
      "Monthly Error: 52.66 Period MAE: 60.84\n",
      "It's overpredicted.\n",
      "Monthly Error: 194.62 Period MAE: 98.53\n",
      "It's underpredicted.\n",
      "Monthly Error: 54.36 Period MAE: 61.809999999999995\n"
     ]
    },
    {
     "name": "stderr",
     "output_type": "stream",
     "text": [
      "19:37:59 - cmdstanpy - INFO - Chain [1] start processing\n",
      "19:37:59 - cmdstanpy - INFO - Chain [1] start processing\n",
      "19:37:59 - cmdstanpy - INFO - Chain [1] done processing\n",
      "19:37:59 - cmdstanpy - INFO - Chain [1] done processing\n",
      "19:38:00 - cmdstanpy - INFO - Chain [1] start processing\n"
     ]
    },
    {
     "name": "stdout",
     "output_type": "stream",
     "text": [
      "It's overpredicted.\n",
      "Monthly Error: 194.62 Period MAE: 98.53\n"
     ]
    },
    {
     "name": "stderr",
     "output_type": "stream",
     "text": [
      "19:38:01 - cmdstanpy - INFO - Chain [1] done processing\n",
      "19:38:01 - cmdstanpy - INFO - Chain [1] start processing\n",
      "19:38:02 - cmdstanpy - INFO - Chain [1] done processing\n"
     ]
    },
    {
     "name": "stdout",
     "output_type": "stream",
     "text": [
      "It's overpredicted.\n",
      "Monthly Error: 217.36 Period MAE: 99.99\n",
      "It's underpredicted.\n",
      "Monthly Error: 54.36 Period MAE: 61.809999999999995\n"
     ]
    },
    {
     "name": "stderr",
     "output_type": "stream",
     "text": [
      "19:38:04 - cmdstanpy - INFO - Chain [1] start processing\n",
      "19:38:04 - cmdstanpy - INFO - Chain [1] start processing\n",
      "19:38:04 - cmdstanpy - INFO - Chain [1] done processing\n",
      "19:38:05 - cmdstanpy - INFO - Chain [1] done processing\n"
     ]
    },
    {
     "name": "stdout",
     "output_type": "stream",
     "text": [
      "It's overpredicted.\n",
      "Monthly Error: 217.36It's underpredicted.\n",
      "Monthly Error:  54.36Period MAE:  99.99\n",
      "Period MAE: 61.809999999999995\n"
     ]
    },
    {
     "name": "stderr",
     "output_type": "stream",
     "text": [
      "19:38:06 - cmdstanpy - INFO - Chain [1] start processing\n",
      "19:38:06 - cmdstanpy - INFO - Chain [1] start processing\n"
     ]
    },
    {
     "name": "stdout",
     "output_type": "stream",
     "text": [
      "It's underpredicted.\n",
      "Monthly Error: 99.54"
     ]
    },
    {
     "name": "stderr",
     "output_type": "stream",
     "text": [
      "19:38:07 - cmdstanpy - INFO - Chain [1] done processing\n"
     ]
    },
    {
     "name": "stdout",
     "output_type": "stream",
     "text": [
      " Period MAE: 99.64\n"
     ]
    },
    {
     "name": "stderr",
     "output_type": "stream",
     "text": [
      "19:38:07 - cmdstanpy - INFO - Chain [1] done processing\n"
     ]
    },
    {
     "name": "stdout",
     "output_type": "stream",
     "text": [
      "It's overpredicted.\n",
      "Monthly Error: 217.36 Period MAE: 99.99\n"
     ]
    },
    {
     "name": "stderr",
     "output_type": "stream",
     "text": [
      "19:38:08 - cmdstanpy - INFO - Chain [1] start processing\n",
      "19:38:08 - cmdstanpy - INFO - Chain [1] start processing\n",
      "19:38:09 - cmdstanpy - INFO - Chain [1] done processing\n",
      "19:38:09 - cmdstanpy - INFO - Chain [1] done processing\n"
     ]
    },
    {
     "name": "stdout",
     "output_type": "stream",
     "text": [
      "It's overpredicted.\n",
      "Monthly Error:It's underpredicted.\n",
      "Monthly Error:  179.01 99.54Period MAE:  73.72Period MAE:\n",
      " 99.64\n"
     ]
    },
    {
     "name": "stderr",
     "output_type": "stream",
     "text": [
      "19:38:11 - cmdstanpy - INFO - Chain [1] start processing\n",
      "19:38:11 - cmdstanpy - INFO - Chain [1] start processing\n",
      "19:38:11 - cmdstanpy - INFO - Chain [1] done processing\n",
      "19:38:11 - cmdstanpy - INFO - Chain [1] done processing\n"
     ]
    },
    {
     "name": "stdout",
     "output_type": "stream",
     "text": [
      "It's underpredicted.\n",
      "Monthly Error: 99.54 Period MAE: 99.64\n",
      "It's overpredicted.\n",
      "Monthly Error: 179.01 Period MAE: 73.72\n"
     ]
    },
    {
     "name": "stderr",
     "output_type": "stream",
     "text": [
      "19:38:13 - cmdstanpy - INFO - Chain [1] start processing\n",
      "19:38:13 - cmdstanpy - INFO - Chain [1] start processing\n",
      "19:38:13 - cmdstanpy - INFO - Chain [1] done processing\n",
      "19:38:13 - cmdstanpy - INFO - Chain [1] done processing\n"
     ]
    },
    {
     "name": "stdout",
     "output_type": "stream",
     "text": [
      "It's underpredicted.\n",
      "Monthly Error: 63.08 Period MAE: 76.88000000000001\n",
      "It's overpredicted.\n",
      "Monthly Error: 179.01 Period MAE: 73.72\n"
     ]
    },
    {
     "name": "stderr",
     "output_type": "stream",
     "text": [
      "19:38:15 - cmdstanpy - INFO - Chain [1] start processing\n",
      "19:38:15 - cmdstanpy - INFO - Chain [1] start processing\n",
      "19:38:15 - cmdstanpy - INFO - Chain [1] done processing\n",
      "19:38:16 - cmdstanpy - INFO - Chain [1] done processing\n"
     ]
    },
    {
     "name": "stdout",
     "output_type": "stream",
     "text": [
      "It's overpredicted.\n",
      "Monthly Error: 217.79It's underpredicted.\n",
      " Monthly Error: Period MAE:63.08 Period MAE: 100.32000000000001 76.88000000000001\n",
      "\n"
     ]
    },
    {
     "name": "stderr",
     "output_type": "stream",
     "text": [
      "19:38:17 - cmdstanpy - INFO - Chain [1] start processing\n",
      "19:38:18 - cmdstanpy - INFO - Chain [1] start processing\n",
      "19:38:18 - cmdstanpy - INFO - Chain [1] done processing\n",
      "19:38:18 - cmdstanpy - INFO - Chain [1] done processing\n"
     ]
    },
    {
     "name": "stdout",
     "output_type": "stream",
     "text": [
      "It's underpredicted.\n",
      "Monthly Error: 63.08 Period MAE: 76.88000000000001\n",
      "It's overpredicted.\n",
      "Monthly Error: 217.79 Period MAE: 100.32000000000001\n"
     ]
    },
    {
     "name": "stderr",
     "output_type": "stream",
     "text": [
      "19:38:19 - cmdstanpy - INFO - Chain [1] start processing\n",
      "19:38:20 - cmdstanpy - INFO - Chain [1] start processing\n",
      "19:38:20 - cmdstanpy - INFO - Chain [1] done processing\n",
      "19:38:20 - cmdstanpy - INFO - Chain [1] done processing\n"
     ]
    },
    {
     "name": "stdout",
     "output_type": "stream",
     "text": [
      "It's underpredicted.\n",
      "Monthly Error: 99.73 Period MAE: 99.79\n",
      "It's overpredicted.\n",
      "Monthly Error: 217.79 Period MAE: 100.32000000000001\n"
     ]
    },
    {
     "name": "stderr",
     "output_type": "stream",
     "text": [
      "19:38:22 - cmdstanpy - INFO - Chain [1] start processing\n",
      "19:38:22 - cmdstanpy - INFO - Chain [1] start processing\n",
      "19:38:22 - cmdstanpy - INFO - Chain [1] done processing\n",
      "19:38:22 - cmdstanpy - INFO - Chain [1] done processing\n"
     ]
    },
    {
     "name": "stdout",
     "output_type": "stream",
     "text": [
      "It's overpredicted.\n",
      "Monthly Error: 200.31 Period MAE: 102.61\n",
      "It's underpredicted.\n",
      "Monthly Error: 99.73 Period MAE: 99.79\n"
     ]
    },
    {
     "name": "stderr",
     "output_type": "stream",
     "text": [
      "19:38:24 - cmdstanpy - INFO - Chain [1] start processing\n",
      "19:38:24 - cmdstanpy - INFO - Chain [1] start processing\n",
      "19:38:24 - cmdstanpy - INFO - Chain [1] done processing\n",
      "19:38:25 - cmdstanpy - INFO - Chain [1] done processing\n"
     ]
    },
    {
     "name": "stdout",
     "output_type": "stream",
     "text": [
      "It's underpredicted.\n",
      "Monthly Error: 99.73 Period MAE: 99.79\n",
      "It's overpredicted.\n",
      "Monthly Error: 200.31 Period MAE: 102.61\n"
     ]
    },
    {
     "name": "stderr",
     "output_type": "stream",
     "text": [
      "19:38:26 - cmdstanpy - INFO - Chain [1] start processing\n",
      "19:38:26 - cmdstanpy - INFO - Chain [1] start processing\n",
      "19:38:26 - cmdstanpy - INFO - Chain [1] done processing\n",
      "19:38:26 - cmdstanpy - INFO - Chain [1] done processing\n"
     ]
    },
    {
     "name": "stdout",
     "output_type": "stream",
     "text": [
      "It's underpredicted.\n",
      "Monthly Error: 52.29 Period MAE: 59.27\n",
      "It's overpredicted.\n",
      "Monthly Error: 200.31 Period MAE: 102.61\n"
     ]
    },
    {
     "name": "stderr",
     "output_type": "stream",
     "text": [
      "19:38:28 - cmdstanpy - INFO - Chain [1] start processing\n",
      "19:38:28 - cmdstanpy - INFO - Chain [1] start processing\n",
      "19:38:29 - cmdstanpy - INFO - Chain [1] done processing\n"
     ]
    },
    {
     "name": "stdout",
     "output_type": "stream",
     "text": [
      "It's underpredicted.\n",
      "Monthly Error: 52.29 Period MAE: "
     ]
    },
    {
     "name": "stderr",
     "output_type": "stream",
     "text": [
      "19:38:29 - cmdstanpy - INFO - Chain [1] done processing\n"
     ]
    },
    {
     "name": "stdout",
     "output_type": "stream",
     "text": [
      "59.27\n",
      "It's overpredicted.\n",
      "Monthly Error: 191.33 Period MAE: 96.44\n"
     ]
    },
    {
     "name": "stderr",
     "output_type": "stream",
     "text": [
      "19:38:30 - cmdstanpy - INFO - Chain [1] start processing\n",
      "19:38:30 - cmdstanpy - INFO - Chain [1] start processing\n"
     ]
    },
    {
     "name": "stdout",
     "output_type": "stream",
     "text": [
      "It's underpredicted.\n",
      "Monthly Error: 52.29 Period MAE: 59.27\n"
     ]
    },
    {
     "name": "stderr",
     "output_type": "stream",
     "text": [
      "19:38:31 - cmdstanpy - INFO - Chain [1] done processing\n",
      "19:38:31 - cmdstanpy - INFO - Chain [1] done processing\n"
     ]
    },
    {
     "name": "stdout",
     "output_type": "stream",
     "text": [
      "It's overpredicted.\n",
      "Monthly Error: 191.33 Period MAE: 96.44\n"
     ]
    },
    {
     "name": "stderr",
     "output_type": "stream",
     "text": [
      "19:38:32 - cmdstanpy - INFO - Chain [1] start processing\n",
      "19:38:33 - cmdstanpy - INFO - Chain [1] start processing\n",
      "19:38:33 - cmdstanpy - INFO - Chain [1] done processing\n",
      "19:38:33 - cmdstanpy - INFO - Chain [1] done processing\n"
     ]
    },
    {
     "name": "stdout",
     "output_type": "stream",
     "text": [
      "It's underpredicted.\n",
      "Monthly Error: 48.84 Period MAE: 57.550000000000004\n",
      "It's overpredicted.\n",
      "Monthly Error: 191.33 Period MAE: 96.44\n"
     ]
    },
    {
     "name": "stderr",
     "output_type": "stream",
     "text": [
      "19:38:35 - cmdstanpy - INFO - Chain [1] start processing\n",
      "19:38:35 - cmdstanpy - INFO - Chain [1] start processing\n",
      "19:38:35 - cmdstanpy - INFO - Chain [1] done processing\n",
      "19:38:35 - cmdstanpy - INFO - Chain [1] done processing\n"
     ]
    },
    {
     "name": "stdout",
     "output_type": "stream",
     "text": [
      "It's underpredicted.\n",
      "Monthly Error: 48.84 Period MAE: 57.550000000000004\n",
      "It's overpredicted.\n",
      "Monthly Error: 194.83 Period MAE: 98.7\n"
     ]
    },
    {
     "name": "stderr",
     "output_type": "stream",
     "text": [
      "19:38:37 - cmdstanpy - INFO - Chain [1] start processing\n"
     ]
    },
    {
     "name": "stdout",
     "output_type": "stream",
     "text": [
      "\n",
      "It's underpredicted.Monthly Error: 48.84 Period MAE: 57.550000000000004\n"
     ]
    },
    {
     "name": "stderr",
     "output_type": "stream",
     "text": [
      "19:38:37 - cmdstanpy - INFO - Chain [1] start processing\n",
      "19:38:37 - cmdstanpy - INFO - Chain [1] done processing\n",
      "19:38:37 - cmdstanpy - INFO - Chain [1] done processing\n"
     ]
    },
    {
     "name": "stdout",
     "output_type": "stream",
     "text": [
      "It's overpredicted.\n",
      "Monthly Error: 194.83 Period MAE: 98.7\n"
     ]
    },
    {
     "name": "stderr",
     "output_type": "stream",
     "text": [
      "19:38:38 - cmdstanpy - INFO - Chain [1] start processing\n",
      "19:38:39 - cmdstanpy - INFO - Chain [1] start processing\n",
      "19:38:39 - cmdstanpy - INFO - Chain [1] done processing\n",
      "19:38:39 - cmdstanpy - INFO - Chain [1] done processing\n"
     ]
    },
    {
     "name": "stdout",
     "output_type": "stream",
     "text": [
      "It's overpredicted.\n",
      "Monthly Error: 194.83 Period MAE: 98.7\n",
      "It's underpredicted.\n",
      "Monthly Error: 49.76  Period MAE:58.489999999999995\n"
     ]
    },
    {
     "name": "stderr",
     "output_type": "stream",
     "text": [
      "19:38:41 - cmdstanpy - INFO - Chain [1] start processing\n",
      "19:38:41 - cmdstanpy - INFO - Chain [1] done processing\n",
      "19:38:41 - cmdstanpy - INFO - Chain [1] start processing\n",
      "19:38:42 - cmdstanpy - INFO - Chain [1] done processing\n"
     ]
    },
    {
     "name": "stdout",
     "output_type": "stream",
     "text": [
      "It's overpredicted.\n",
      "Monthly Error: It's underpredicted.217.36\n",
      " Monthly Error:Period MAE: 49.76  Period MAE:99.99\n",
      " 58.489999999999995\n"
     ]
    },
    {
     "name": "stderr",
     "output_type": "stream",
     "text": [
      "19:38:43 - cmdstanpy - INFO - Chain [1] start processing\n",
      "19:38:43 - cmdstanpy - INFO - Chain [1] start processing\n",
      "19:38:43 - cmdstanpy - INFO - Chain [1] done processing\n"
     ]
    },
    {
     "name": "stdout",
     "output_type": "stream",
     "text": [
      "It's underpredicted.\n",
      "Monthly Error: 49.76 Period MAE: 58.489999999999995\n"
     ]
    },
    {
     "name": "stderr",
     "output_type": "stream",
     "text": [
      "19:38:44 - cmdstanpy - INFO - Chain [1] done processing\n"
     ]
    },
    {
     "name": "stdout",
     "output_type": "stream",
     "text": [
      "It's overpredicted.\n",
      "Monthly Error: 217.36 Period MAE: 99.99\n"
     ]
    },
    {
     "name": "stderr",
     "output_type": "stream",
     "text": [
      "19:38:45 - cmdstanpy - INFO - Chain [1] start processing\n",
      "19:38:45 - cmdstanpy - INFO - Chain [1] start processing\n",
      "19:38:45 - cmdstanpy - INFO - Chain [1] done processing\n",
      "19:38:45 - cmdstanpy - INFO - Chain [1] done processing\n"
     ]
    },
    {
     "name": "stdout",
     "output_type": "stream",
     "text": [
      "It's overpredicted.\n",
      "Monthly Error: 217.36 Period MAE: 99.99\n",
      "It's underpredicted.\n",
      "Monthly Error: 99.54 Period MAE: 99.64\n"
     ]
    },
    {
     "name": "stderr",
     "output_type": "stream",
     "text": [
      "19:38:47 - cmdstanpy - INFO - Chain [1] start processing\n",
      "19:38:47 - cmdstanpy - INFO - Chain [1] start processing\n",
      "19:38:47 - cmdstanpy - INFO - Chain [1] done processing\n",
      "19:38:48 - cmdstanpy - INFO - Chain [1] done processing\n"
     ]
    },
    {
     "name": "stdout",
     "output_type": "stream",
     "text": [
      "It's overpredicted.\n",
      "Monthly Error: 171.94 Period MAE: 69.17999999999999\n",
      "It's underpredicted.\n",
      "Monthly Error: 99.54 Period MAE: 99.64\n"
     ]
    },
    {
     "name": "stderr",
     "output_type": "stream",
     "text": [
      "19:38:50 - cmdstanpy - INFO - Chain [1] start processing\n",
      "19:38:50 - cmdstanpy - INFO - Chain [1] start processing\n",
      "19:38:50 - cmdstanpy - INFO - Chain [1] done processing\n"
     ]
    },
    {
     "name": "stdout",
     "output_type": "stream",
     "text": [
      "It's underpredicted.\n",
      "Monthly Error: 99.54 Period MAE: "
     ]
    },
    {
     "name": "stderr",
     "output_type": "stream",
     "text": [
      "19:38:50 - cmdstanpy - INFO - Chain [1] done processing\n"
     ]
    },
    {
     "name": "stdout",
     "output_type": "stream",
     "text": [
      "99.64\n",
      "It's overpredicted.\n",
      "Monthly Error: 171.94 Period MAE: 69.17999999999999\n"
     ]
    },
    {
     "name": "stderr",
     "output_type": "stream",
     "text": [
      "19:38:52 - cmdstanpy - INFO - Chain [1] start processing\n"
     ]
    },
    {
     "name": "stdout",
     "output_type": "stream",
     "text": [
      "It's underpredicted.\n",
      "Monthly Error: 56.0 Period MAE: 72.45\n"
     ]
    },
    {
     "name": "stderr",
     "output_type": "stream",
     "text": [
      "19:38:52 - cmdstanpy - INFO - Chain [1] start processing\n",
      "19:38:52 - cmdstanpy - INFO - Chain [1] done processing\n",
      "19:38:52 - cmdstanpy - INFO - Chain [1] done processing\n"
     ]
    },
    {
     "name": "stdout",
     "output_type": "stream",
     "text": [
      "It's overpredicted.\n",
      "Monthly Error: 171.94 Period MAE: 69.17999999999999\n"
     ]
    },
    {
     "name": "stderr",
     "output_type": "stream",
     "text": [
      "19:38:54 - cmdstanpy - INFO - Chain [1] start processing\n",
      "19:38:54 - cmdstanpy - INFO - Chain [1] start processing\n",
      "19:38:54 - cmdstanpy - INFO - Chain [1] done processing\n",
      "19:38:54 - cmdstanpy - INFO - Chain [1] done processing\n"
     ]
    },
    {
     "name": "stdout",
     "output_type": "stream",
     "text": [
      "It's underpredicted.\n",
      "Monthly Error: 56.0 Period MAE: 72.45\n",
      "It's overpredicted.\n",
      "Monthly Error: 186.15 Period MAE: 78.75\n"
     ]
    },
    {
     "name": "stderr",
     "output_type": "stream",
     "text": [
      "19:38:56 - cmdstanpy - INFO - Chain [1] start processing\n",
      "19:38:56 - cmdstanpy - INFO - Chain [1] start processing\n",
      "19:38:56 - cmdstanpy - INFO - Chain [1] done processing\n",
      "19:38:56 - cmdstanpy - INFO - Chain [1] done processing\n"
     ]
    },
    {
     "name": "stdout",
     "output_type": "stream",
     "text": [
      "It's underpredicted.\n",
      "Monthly Error: 56.0 Period MAE: 72.45\n",
      "It's overpredicted.\n",
      "Monthly Error: 186.15Period MAE:  78.75\n"
     ]
    },
    {
     "name": "stderr",
     "output_type": "stream",
     "text": [
      "19:38:58 - cmdstanpy - INFO - Chain [1] start processing\n",
      "19:38:58 - cmdstanpy - INFO - Chain [1] start processing\n",
      "19:38:59 - cmdstanpy - INFO - Chain [1] done processing\n",
      "19:38:59 - cmdstanpy - INFO - Chain [1] done processing\n"
     ]
    },
    {
     "name": "stdout",
     "output_type": "stream",
     "text": [
      "It's underpredicted.\n",
      "Monthly Error: 99.92 Period MAE: 99.94\n",
      "It's overpredicted.\n",
      "Monthly Error:  186.15 Period MAE:78.75\n"
     ]
    },
    {
     "name": "stderr",
     "output_type": "stream",
     "text": [
      "19:39:00 - cmdstanpy - INFO - Chain [1] start processing\n",
      "19:39:01 - cmdstanpy - INFO - Chain [1] start processing\n",
      "19:39:01 - cmdstanpy - INFO - Chain [1] done processing\n",
      "19:39:01 - cmdstanpy - INFO - Chain [1] done processing\n"
     ]
    },
    {
     "name": "stdout",
     "output_type": "stream",
     "text": [
      "It's overpredicted.\n",
      "Monthly Error: 200.31 It's underpredicted.Period MAE:\n",
      "Monthly Error: 102.61 \n",
      "99.92 Period MAE: 99.94\n"
     ]
    },
    {
     "name": "stderr",
     "output_type": "stream",
     "text": [
      "19:39:04 - cmdstanpy - INFO - Chain [1] start processing\n",
      "19:39:04 - cmdstanpy - INFO - Chain [1] start processing\n"
     ]
    },
    {
     "name": "stdout",
     "output_type": "stream",
     "text": [
      "It's underpredicted.\n",
      "Monthly Error: 99.92 Period MAE:"
     ]
    },
    {
     "name": "stderr",
     "output_type": "stream",
     "text": [
      "19:39:05 - cmdstanpy - INFO - Chain [1] done processing\n"
     ]
    },
    {
     "name": "stdout",
     "output_type": "stream",
     "text": [
      " 99.94\n"
     ]
    },
    {
     "name": "stderr",
     "output_type": "stream",
     "text": [
      "19:39:05 - cmdstanpy - INFO - Chain [1] done processing\n"
     ]
    },
    {
     "name": "stdout",
     "output_type": "stream",
     "text": [
      "It's overpredicted.\n",
      "Monthly Error: 200.31 Period MAE: 102.61\n"
     ]
    },
    {
     "name": "stderr",
     "output_type": "stream",
     "text": [
      "19:39:06 - cmdstanpy - INFO - Chain [1] start processing\n",
      "19:39:06 - cmdstanpy - INFO - Chain [1] start processing\n",
      "19:39:06 - cmdstanpy - INFO - Chain [1] done processing\n",
      "19:39:07 - cmdstanpy - INFO - Chain [1] done processing\n"
     ]
    },
    {
     "name": "stdout",
     "output_type": "stream",
     "text": [
      "It's overpredicted.\n",
      "Monthly Error: 200.31 Period MAE: 102.61\n",
      "It's underpredicted.\n",
      "Monthly Error: 52.29 Period MAE: 59.27\n"
     ]
    },
    {
     "name": "stderr",
     "output_type": "stream",
     "text": [
      "19:39:08 - cmdstanpy - INFO - Chain [1] start processing\n",
      "19:39:09 - cmdstanpy - INFO - Chain [1] done processing\n",
      "19:39:09 - cmdstanpy - INFO - Chain [1] start processing\n",
      "19:39:09 - cmdstanpy - INFO - Chain [1] done processing\n"
     ]
    },
    {
     "name": "stdout",
     "output_type": "stream",
     "text": [
      "It's overpredicted.\n",
      "Monthly Error: 186.4 Period MAE: 93.49\n",
      "It's underpredicted.\n",
      "Monthly Error: 52.29 Period MAE: 59.27\n"
     ]
    },
    {
     "name": "stderr",
     "output_type": "stream",
     "text": [
      "19:39:11 - cmdstanpy - INFO - Chain [1] start processing\n"
     ]
    },
    {
     "name": "stdout",
     "output_type": "stream",
     "text": [
      "It's underpredicted.\n",
      "Monthly Error: 52.29 Period MAE: 59.27\n"
     ]
    },
    {
     "name": "stderr",
     "output_type": "stream",
     "text": [
      "19:39:11 - cmdstanpy - INFO - Chain [1] start processing\n",
      "19:39:11 - cmdstanpy - INFO - Chain [1] done processing\n",
      "19:39:12 - cmdstanpy - INFO - Chain [1] done processing\n"
     ]
    },
    {
     "name": "stdout",
     "output_type": "stream",
     "text": [
      "It's overpredicted.\n",
      "Monthly Error: 186.4 Period MAE: 93.49\n"
     ]
    },
    {
     "name": "stderr",
     "output_type": "stream",
     "text": [
      "19:39:13 - cmdstanpy - INFO - Chain [1] start processing\n",
      "19:39:13 - cmdstanpy - INFO - Chain [1] start processing\n",
      "19:39:13 - cmdstanpy - INFO - Chain [1] done processing\n",
      "19:39:13 - cmdstanpy - INFO - Chain [1] done processing\n"
     ]
    },
    {
     "name": "stdout",
     "output_type": "stream",
     "text": [
      "It's underpredicted.\n",
      "Monthly Error: 49.18 Period MAE: 57.05\n",
      "It's overpredicted.\n",
      "Monthly Error: 186.4\n",
      " Period MAE: 93.49"
     ]
    },
    {
     "name": "stderr",
     "output_type": "stream",
     "text": [
      "19:39:15 - cmdstanpy - INFO - Chain [1] start processing\n",
      "19:39:15 - cmdstanpy - INFO - Chain [1] start processing\n",
      "19:39:15 - cmdstanpy - INFO - Chain [1] done processing\n",
      "19:39:15 - cmdstanpy - INFO - Chain [1] done processing\n"
     ]
    },
    {
     "name": "stdout",
     "output_type": "stream",
     "text": [
      "It's overpredicted.\n",
      "Monthly Error: 196.08 Period MAE: 99.88\n",
      "It's underpredicted.\n",
      "Monthly Error: 49.18 Period MAE: 57.05\n"
     ]
    },
    {
     "name": "stderr",
     "output_type": "stream",
     "text": [
      "19:39:17 - cmdstanpy - INFO - Chain [1] start processing\n",
      "19:39:18 - cmdstanpy - INFO - Chain [1] start processing\n",
      "19:39:18 - cmdstanpy - INFO - Chain [1] done processing\n",
      "19:39:18 - cmdstanpy - INFO - Chain [1] done processing\n"
     ]
    },
    {
     "name": "stdout",
     "output_type": "stream",
     "text": [
      "It's underpredicted.\n",
      "Monthly Error: 49.18 Period MAE: 57.05\n",
      "It's overpredicted.\n",
      "Monthly Error: 196.08 Period MAE: 99.88\n"
     ]
    },
    {
     "name": "stderr",
     "output_type": "stream",
     "text": [
      "19:39:19 - cmdstanpy - INFO - Chain [1] start processing\n"
     ]
    },
    {
     "name": "stdout",
     "output_type": "stream",
     "text": [
      "It's underpredicted.\n",
      "Monthly Error: "
     ]
    },
    {
     "name": "stderr",
     "output_type": "stream",
     "text": [
      "19:39:20 - cmdstanpy - INFO - Chain [1] start processing\n"
     ]
    },
    {
     "name": "stdout",
     "output_type": "stream",
     "text": [
      "51.89 Period MAE: 59.72"
     ]
    },
    {
     "name": "stderr",
     "output_type": "stream",
     "text": [
      "19:39:20 - cmdstanpy - INFO - Chain [1] done processing\n"
     ]
    },
    {
     "name": "stdout",
     "output_type": "stream",
     "text": [
      "\n"
     ]
    },
    {
     "name": "stderr",
     "output_type": "stream",
     "text": [
      "19:39:20 - cmdstanpy - INFO - Chain [1] done processing\n"
     ]
    },
    {
     "name": "stdout",
     "output_type": "stream",
     "text": [
      "It's overpredicted.\n",
      "Monthly Error: 196.08 Period MAE: \n",
      "99.88"
     ]
    },
    {
     "name": "stderr",
     "output_type": "stream",
     "text": [
      "19:39:21 - cmdstanpy - INFO - Chain [1] start processing\n",
      "19:39:21 - cmdstanpy - INFO - Chain [1] start processing\n",
      "19:39:22 - cmdstanpy - INFO - Chain [1] done processing\n",
      "19:39:22 - cmdstanpy - INFO - Chain [1] done processing\n"
     ]
    },
    {
     "name": "stdout",
     "output_type": "stream",
     "text": [
      "It's overpredicted.\n",
      "Monthly Error: 217.36 Period MAE: 99.99\n",
      "It's underpredicted.\n",
      " Monthly Error:51.89 Period MAE: 59.72\n"
     ]
    },
    {
     "name": "stderr",
     "output_type": "stream",
     "text": [
      "19:39:23 - cmdstanpy - INFO - Chain [1] start processing\n",
      "19:39:24 - cmdstanpy - INFO - Chain [1] start processing\n",
      "19:39:24 - cmdstanpy - INFO - Chain [1] done processing\n",
      "19:39:24 - cmdstanpy - INFO - Chain [1] done processing\n"
     ]
    },
    {
     "name": "stdout",
     "output_type": "stream",
     "text": [
      "It's overpredicted.\n",
      "Monthly Error: 217.36 Period MAE: 99.99\n",
      "It's underpredicted.\n",
      "Monthly Error: 51.89 Period MAE: 59.72\n"
     ]
    },
    {
     "name": "stderr",
     "output_type": "stream",
     "text": [
      "19:39:26 - cmdstanpy - INFO - Chain [1] start processing\n",
      "19:39:26 - cmdstanpy - INFO - Chain [1] start processing\n",
      "19:39:26 - cmdstanpy - INFO - Chain [1] done processing\n"
     ]
    },
    {
     "name": "stdout",
     "output_type": "stream",
     "text": [
      "It's underpredicted.\n",
      "Monthly Error: 99.54 Period MAE: 99.64\n"
     ]
    },
    {
     "name": "stderr",
     "output_type": "stream",
     "text": [
      "19:39:27 - cmdstanpy - INFO - Chain [1] done processing\n"
     ]
    },
    {
     "name": "stdout",
     "output_type": "stream",
     "text": [
      "It's overpredicted.\n",
      "Monthly Error: 217.36 Period MAE: 99.99\n"
     ]
    },
    {
     "name": "stderr",
     "output_type": "stream",
     "text": [
      "19:39:28 - cmdstanpy - INFO - Chain [1] start processing\n"
     ]
    },
    {
     "name": "stdout",
     "output_type": "stream",
     "text": [
      "It's underpredicted.\n",
      "Monthly Error: 99.54 Period MAE: 99.64\n"
     ]
    },
    {
     "name": "stderr",
     "output_type": "stream",
     "text": [
      "19:39:28 - cmdstanpy - INFO - Chain [1] start processing\n",
      "19:39:28 - cmdstanpy - INFO - Chain [1] done processing\n",
      "19:39:28 - cmdstanpy - INFO - Chain [1] done processing\n"
     ]
    },
    {
     "name": "stdout",
     "output_type": "stream",
     "text": [
      "It's overpredicted.\n",
      "Monthly Error: 171.52 Period MAE: 68.57\n"
     ]
    },
    {
     "name": "stderr",
     "output_type": "stream",
     "text": [
      "19:39:29 - cmdstanpy - INFO - Chain [1] start processing\n",
      "19:39:30 - cmdstanpy - INFO - Chain [1] start processing\n",
      "19:39:30 - cmdstanpy - INFO - Chain [1] done processing\n",
      "19:39:30 - cmdstanpy - INFO - Chain [1] done processing\n"
     ]
    },
    {
     "name": "stdout",
     "output_type": "stream",
     "text": [
      "It's overpredicted.\n",
      "Monthly Error: 171.52 Period MAE: 68.57\n",
      "It's underpredicted.\n",
      "Monthly Error: 99.54 Period MAE: 99.64\n"
     ]
    },
    {
     "name": "stderr",
     "output_type": "stream",
     "text": [
      "19:39:32 - cmdstanpy - INFO - Chain [1] start processing\n",
      "19:39:32 - cmdstanpy - INFO - Chain [1] start processing\n",
      "19:39:32 - cmdstanpy - INFO - Chain [1] done processing\n"
     ]
    },
    {
     "name": "stdout",
     "output_type": "stream",
     "text": [
      "It's underpredicted.\n",
      "Monthly Error: 55.97"
     ]
    },
    {
     "name": "stderr",
     "output_type": "stream",
     "text": [
      "19:39:32 - cmdstanpy - INFO - Chain [1] done processing\n"
     ]
    },
    {
     "name": "stdout",
     "output_type": "stream",
     "text": [
      " Period MAE: 72.43\n",
      "It's overpredicted.\n",
      "Monthly Error: 171.52 Period MAE: 68.57\n"
     ]
    },
    {
     "name": "stderr",
     "output_type": "stream",
     "text": [
      "19:39:34 - cmdstanpy - INFO - Chain [1] start processing\n",
      "19:39:34 - cmdstanpy - INFO - Chain [1] start processing\n",
      "19:39:34 - cmdstanpy - INFO - Chain [1] done processing\n"
     ]
    },
    {
     "name": "stdout",
     "output_type": "stream",
     "text": [
      "It's underpredicted.\n",
      "Monthly Error: 55.97 Period MAE:"
     ]
    },
    {
     "name": "stderr",
     "output_type": "stream",
     "text": [
      "19:39:35 - cmdstanpy - INFO - Chain [1] done processing\n"
     ]
    },
    {
     "name": "stdout",
     "output_type": "stream",
     "text": [
      " 72.43\n",
      "It's overpredicted.\n",
      "\n",
      "Monthly Error: 182.51 Period MAE: 76.14"
     ]
    },
    {
     "name": "stderr",
     "output_type": "stream",
     "text": [
      "19:39:36 - cmdstanpy - INFO - Chain [1] start processing\n",
      "19:39:36 - cmdstanpy - INFO - Chain [1] start processing\n",
      "19:39:36 - cmdstanpy - INFO - Chain [1] done processing\n",
      "19:39:36 - cmdstanpy - INFO - Chain [1] done processing\n"
     ]
    },
    {
     "name": "stdout",
     "output_type": "stream",
     "text": [
      "It's underpredicted.\n",
      "Monthly Error: 55.97 Period MAE: 72.43\n",
      "It's overpredicted.\n",
      "Monthly Error: 182.51 Period MAE: 76.14\n"
     ]
    },
    {
     "name": "stderr",
     "output_type": "stream",
     "text": [
      "19:39:38 - cmdstanpy - INFO - Chain [1] start processing\n",
      "19:39:38 - cmdstanpy - INFO - Chain [1] start processing\n",
      "19:39:39 - cmdstanpy - INFO - Chain [1] done processing\n",
      "19:39:39 - cmdstanpy - INFO - Chain [1] done processing\n"
     ]
    },
    {
     "name": "stdout",
     "output_type": "stream",
     "text": [
      "It's underpredicted.\n",
      "Monthly Error: 99.92 Period MAE: 99.94\n",
      "It's overpredicted.\n",
      "Monthly Error: 182.51 Period MAE: 76.14\n"
     ]
    },
    {
     "name": "stderr",
     "output_type": "stream",
     "text": [
      "19:39:41 - cmdstanpy - INFO - Chain [1] start processing\n",
      "19:39:41 - cmdstanpy - INFO - Chain [1] start processing\n",
      "19:39:41 - cmdstanpy - INFO - Chain [1] done processing\n",
      "19:39:41 - cmdstanpy - INFO - Chain [1] done processing\n"
     ]
    },
    {
     "name": "stdout",
     "output_type": "stream",
     "text": [
      "It's underpredicted.\n",
      "Monthly Error: 99.92 Period MAE: 99.94\n",
      "It's overpredicted.\n",
      "Monthly Error: 200.31 Period MAE: 102.61\n"
     ]
    },
    {
     "name": "stderr",
     "output_type": "stream",
     "text": [
      "19:39:43 - cmdstanpy - INFO - Chain [1] start processing\n"
     ]
    },
    {
     "name": "stdout",
     "output_type": "stream",
     "text": [
      "It's underpredicted.\n",
      "Monthly Error: 99.92"
     ]
    },
    {
     "name": "stderr",
     "output_type": "stream",
     "text": [
      "19:39:43 - cmdstanpy - INFO - Chain [1] start processing\n"
     ]
    },
    {
     "name": "stdout",
     "output_type": "stream",
     "text": [
      " Period MAE: 99.94\n"
     ]
    },
    {
     "name": "stderr",
     "output_type": "stream",
     "text": [
      "19:39:43 - cmdstanpy - INFO - Chain [1] done processing\n",
      "19:39:43 - cmdstanpy - INFO - Chain [1] done processing\n"
     ]
    },
    {
     "name": "stdout",
     "output_type": "stream",
     "text": [
      "It's overpredicted.\n",
      "Monthly Error: 200.31 Period MAE: 102.61\n"
     ]
    },
    {
     "name": "stderr",
     "output_type": "stream",
     "text": [
      "19:39:45 - cmdstanpy - INFO - Chain [1] start processing\n",
      "19:39:45 - cmdstanpy - INFO - Chain [1] start processing\n",
      "19:39:45 - cmdstanpy - INFO - Chain [1] done processing\n",
      "19:39:45 - cmdstanpy - INFO - Chain [1] done processing\n"
     ]
    },
    {
     "name": "stdout",
     "output_type": "stream",
     "text": [
      "It's underpredicted.\n",
      "Monthly Error: 52.29 Period MAE: 59.27\n",
      "It's overpredicted.\n",
      "Monthly Error: 200.31 Period MAE: 102.61\n"
     ]
    },
    {
     "name": "stderr",
     "output_type": "stream",
     "text": [
      "19:39:47 - cmdstanpy - INFO - Chain [1] start processing\n",
      "19:39:47 - cmdstanpy - INFO - Chain [1] start processing\n",
      "19:39:48 - cmdstanpy - INFO - Chain [1] done processing\n",
      "19:39:48 - cmdstanpy - INFO - Chain [1] done processing\n"
     ]
    },
    {
     "name": "stdout",
     "output_type": "stream",
     "text": [
      "It's underpredicted.\n",
      "Monthly Error: 52.29 Period MAE: 59.27\n",
      "It's overpredicted.\n",
      "Monthly Error: 187.75 Period MAE: 94.31\n",
      "It's underpredicted.\n",
      "Monthly Error: 52.29 Period MAE: "
     ]
    },
    {
     "name": "stderr",
     "output_type": "stream",
     "text": [
      "19:39:50 - cmdstanpy - INFO - Chain [1] start processing\n"
     ]
    },
    {
     "name": "stdout",
     "output_type": "stream",
     "text": [
      "59.27\n"
     ]
    },
    {
     "name": "stderr",
     "output_type": "stream",
     "text": [
      "19:39:50 - cmdstanpy - INFO - Chain [1] start processing\n",
      "19:39:50 - cmdstanpy - INFO - Chain [1] done processing\n",
      "19:39:50 - cmdstanpy - INFO - Chain [1] done processing\n"
     ]
    },
    {
     "name": "stdout",
     "output_type": "stream",
     "text": [
      "It's overpredicted.\n",
      "Monthly Error: 187.75 Period MAE: 94.31\n"
     ]
    },
    {
     "name": "stderr",
     "output_type": "stream",
     "text": [
      "19:39:51 - cmdstanpy - INFO - Chain [1] start processing\n",
      "19:39:51 - cmdstanpy - INFO - Chain [1] done processing\n",
      "19:39:52 - cmdstanpy - INFO - Chain [1] start processing\n"
     ]
    },
    {
     "name": "stdout",
     "output_type": "stream",
     "text": [
      "It's underpredicted."
     ]
    },
    {
     "name": "stderr",
     "output_type": "stream",
     "text": [
      "19:39:52 - cmdstanpy - INFO - Chain [1] done processing\n"
     ]
    },
    {
     "name": "stdout",
     "output_type": "stream",
     "text": [
      "\n",
      "Monthly Error: 49.98 Period MAE: 57.87\n",
      "It's overpredicted.\n",
      "Monthly Error: 187.75 Period MAE: 94.31\n"
     ]
    },
    {
     "name": "stderr",
     "output_type": "stream",
     "text": [
      "19:39:53 - cmdstanpy - INFO - Chain [1] start processing\n",
      "19:39:54 - cmdstanpy - INFO - Chain [1] start processing\n",
      "19:39:54 - cmdstanpy - INFO - Chain [1] done processing\n",
      "19:39:54 - cmdstanpy - INFO - Chain [1] done processing\n"
     ]
    },
    {
     "name": "stdout",
     "output_type": "stream",
     "text": [
      "It's overpredicted.\n",
      "Monthly Error: 197.42It's underpredicted. Period MAE:\n",
      "Monthly Error:  49.98100.62\n",
      " Period MAE: 57.87\n"
     ]
    },
    {
     "name": "stderr",
     "output_type": "stream",
     "text": [
      "19:39:56 - cmdstanpy - INFO - Chain [1] start processing\n",
      "19:39:56 - cmdstanpy - INFO - Chain [1] start processing\n"
     ]
    },
    {
     "name": "stdout",
     "output_type": "stream",
     "text": [
      "It's underpredicted.\n",
      "Monthly Error: 49.98 Period MAE: 57.87"
     ]
    },
    {
     "name": "stderr",
     "output_type": "stream",
     "text": [
      "19:39:56 - cmdstanpy - INFO - Chain [1] done processing\n"
     ]
    },
    {
     "name": "stdout",
     "output_type": "stream",
     "text": [
      "\n"
     ]
    },
    {
     "name": "stderr",
     "output_type": "stream",
     "text": [
      "19:39:57 - cmdstanpy - INFO - Chain [1] done processing\n"
     ]
    },
    {
     "name": "stdout",
     "output_type": "stream",
     "text": [
      "It's overpredicted.\n",
      "Monthly Error: 197.42 Period MAE: 100.62\n"
     ]
    },
    {
     "name": "stderr",
     "output_type": "stream",
     "text": [
      "19:39:58 - cmdstanpy - INFO - Chain [1] start processing\n",
      "19:39:58 - cmdstanpy - INFO - Chain [1] start processing\n",
      "19:39:58 - cmdstanpy - INFO - Chain [1] done processing\n"
     ]
    },
    {
     "name": "stdout",
     "output_type": "stream",
     "text": [
      "It's underpredicted.\n",
      "Monthly Error: 51.18 Period MAE: 59.38\n"
     ]
    },
    {
     "name": "stderr",
     "output_type": "stream",
     "text": [
      "19:39:58 - cmdstanpy - INFO - Chain [1] done processing\n"
     ]
    },
    {
     "name": "stdout",
     "output_type": "stream",
     "text": [
      "It's overpredicted.\n",
      "Monthly Error: 197.42 Period MAE: 100.62\n"
     ]
    },
    {
     "name": "stderr",
     "output_type": "stream",
     "text": [
      "19:40:00 - cmdstanpy - INFO - Chain [1] start processing\n",
      "19:40:00 - cmdstanpy - INFO - Chain [1] start processing\n",
      "19:40:00 - cmdstanpy - INFO - Chain [1] done processing\n",
      "19:40:00 - cmdstanpy - INFO - Chain [1] done processing\n"
     ]
    },
    {
     "name": "stdout",
     "output_type": "stream",
     "text": [
      "It's overpredicted.\n",
      "Monthly Error: 217.36 Period MAE: 99.99\n",
      "It's underpredicted.\n",
      "Monthly Error: 51.18 Period MAE: 59.38\n"
     ]
    },
    {
     "name": "stderr",
     "output_type": "stream",
     "text": [
      "19:40:03 - cmdstanpy - INFO - Chain [1] start processing\n",
      "19:40:03 - cmdstanpy - INFO - Chain [1] done processing\n",
      "19:40:03 - cmdstanpy - INFO - Chain [1] start processing\n",
      "19:40:04 - cmdstanpy - INFO - Chain [1] done processing\n"
     ]
    },
    {
     "name": "stdout",
     "output_type": "stream",
     "text": [
      "It's underpredicted.\n",
      "Monthly Error: 51.18 Period MAE: 59.38\n",
      "It's overpredicted.\n",
      "Monthly Error: 217.36 Period MAE: 99.99\n"
     ]
    },
    {
     "name": "stderr",
     "output_type": "stream",
     "text": [
      "19:40:06 - cmdstanpy - INFO - Chain [1] start processing\n",
      "19:40:06 - cmdstanpy - INFO - Chain [1] start processing\n"
     ]
    },
    {
     "name": "stdout",
     "output_type": "stream",
     "text": [
      "It's underpredicted.\n",
      "Monthly Error: 99.54 Period MAE: 99.64\n"
     ]
    },
    {
     "name": "stderr",
     "output_type": "stream",
     "text": [
      "19:40:06 - cmdstanpy - INFO - Chain [1] done processing\n",
      "19:40:06 - cmdstanpy - INFO - Chain [1] done processing\n"
     ]
    },
    {
     "name": "stdout",
     "output_type": "stream",
     "text": [
      "It's overpredicted.\n",
      "Monthly Error:  217.36Period MAE: 99.99\n"
     ]
    },
    {
     "name": "stderr",
     "output_type": "stream",
     "text": [
      "19:40:08 - cmdstanpy - INFO - Chain [1] start processing\n",
      "19:40:08 - cmdstanpy - INFO - Chain [1] start processing\n",
      "19:40:08 - cmdstanpy - INFO - Chain [1] done processing\n",
      "19:40:09 - cmdstanpy - INFO - Chain [1] done processing\n"
     ]
    },
    {
     "name": "stdout",
     "output_type": "stream",
     "text": [
      "It's overpredicted.\n",
      "Monthly Error:It's underpredicted. 174.26 Period MAE:\n",
      " Monthly Error:70.76 99.54\n",
      " Period MAE: 99.64\n"
     ]
    },
    {
     "name": "stderr",
     "output_type": "stream",
     "text": [
      "19:40:10 - cmdstanpy - INFO - Chain [1] start processing\n",
      "19:40:10 - cmdstanpy - INFO - Chain [1] start processing\n",
      "19:40:10 - cmdstanpy - INFO - Chain [1] done processing\n",
      "19:40:11 - cmdstanpy - INFO - Chain [1] done processing\n"
     ]
    },
    {
     "name": "stdout",
     "output_type": "stream",
     "text": [
      "It's underpredicted.\n",
      "Monthly Error: 99.54 Period MAE: 99.64\n",
      "It's overpredicted.\n",
      "Monthly Error: 174.26 Period MAE: 70.76\n"
     ]
    },
    {
     "name": "stderr",
     "output_type": "stream",
     "text": [
      "19:40:12 - cmdstanpy - INFO - Chain [1] start processing\n",
      "19:40:13 - cmdstanpy - INFO - Chain [1] done processing\n",
      "19:40:13 - cmdstanpy - INFO - Chain [1] start processing\n"
     ]
    },
    {
     "name": "stdout",
     "output_type": "stream",
     "text": [
      "It's underpredicted.\n",
      "Monthly Error: 55.97 Period MAE: 72.43\n"
     ]
    },
    {
     "name": "stderr",
     "output_type": "stream",
     "text": [
      "19:40:13 - cmdstanpy - INFO - Chain [1] done processing\n"
     ]
    },
    {
     "name": "stdout",
     "output_type": "stream",
     "text": [
      "It's overpredicted.\n",
      "Monthly Error: 174.26 Period MAE: 70.76\n"
     ]
    },
    {
     "name": "stderr",
     "output_type": "stream",
     "text": [
      "19:40:15 - cmdstanpy - INFO - Chain [1] start processing\n",
      "19:40:15 - cmdstanpy - INFO - Chain [1] start processing\n"
     ]
    },
    {
     "name": "stdout",
     "output_type": "stream",
     "text": [
      "It's underpredicted.\n",
      "Monthly Error: 55.97 Period MAE: 72.43\n"
     ]
    },
    {
     "name": "stderr",
     "output_type": "stream",
     "text": [
      "19:40:15 - cmdstanpy - INFO - Chain [1] done processing\n",
      "19:40:15 - cmdstanpy - INFO - Chain [1] done processing\n"
     ]
    },
    {
     "name": "stdout",
     "output_type": "stream",
     "text": [
      "It's overpredicted.\n",
      "Monthly Error: 180.56 Period MAE: 74.66000000000001\n"
     ]
    },
    {
     "name": "stderr",
     "output_type": "stream",
     "text": [
      "19:40:17 - cmdstanpy - INFO - Chain [1] start processing\n",
      "19:40:17 - cmdstanpy - INFO - Chain [1] start processing\n",
      "19:40:17 - cmdstanpy - INFO - Chain [1] done processing\n",
      "19:40:17 - cmdstanpy - INFO - Chain [1] done processing\n"
     ]
    },
    {
     "name": "stdout",
     "output_type": "stream",
     "text": [
      "It's underpredicted.\n",
      "Monthly Error: 55.97 Period MAE: 72.43\n",
      "It's overpredicted.\n",
      "Monthly Error: 180.56 Period MAE: 74.66000000000001\n"
     ]
    },
    {
     "name": "stderr",
     "output_type": "stream",
     "text": [
      "19:40:19 - cmdstanpy - INFO - Chain [1] start processing\n",
      "19:40:19 - cmdstanpy - INFO - Chain [1] start processing\n",
      "19:40:19 - cmdstanpy - INFO - Chain [1] done processing\n",
      "19:40:19 - cmdstanpy - INFO - Chain [1] done processing\n"
     ]
    },
    {
     "name": "stdout",
     "output_type": "stream",
     "text": [
      "It's underpredicted.\n",
      "Monthly Error: 99.92 Period MAE: It's overpredicted.\n",
      "99.94Monthly Error: 180.56 Period MAE: 74.66000000000001\n",
      "\n"
     ]
    },
    {
     "name": "stderr",
     "output_type": "stream",
     "text": [
      "19:40:21 - cmdstanpy - INFO - Chain [1] start processing\n",
      "19:40:21 - cmdstanpy - INFO - Chain [1] start processing\n",
      "19:40:22 - cmdstanpy - INFO - Chain [1] done processing\n",
      "19:40:22 - cmdstanpy - INFO - Chain [1] done processing\n"
     ]
    },
    {
     "name": "stdout",
     "output_type": "stream",
     "text": [
      "It's underpredicted.\n",
      "Monthly Error: 99.92 Period MAE: 99.94\n",
      "It's overpredicted.\n",
      "Monthly Error: 197.05 Period MAE: 101.11000000000001\n"
     ]
    },
    {
     "name": "stderr",
     "output_type": "stream",
     "text": [
      "19:40:23 - cmdstanpy - INFO - Chain [1] start processing\n",
      "19:40:24 - cmdstanpy - INFO - Chain [1] start processing\n",
      "19:40:24 - cmdstanpy - INFO - Chain [1] done processing\n",
      "19:40:24 - cmdstanpy - INFO - Chain [1] done processing\n"
     ]
    },
    {
     "name": "stdout",
     "output_type": "stream",
     "text": [
      "It's underpredicted.\n",
      "Monthly Error: 99.92 Period MAE: 99.94\n",
      "It's overpredicted.\n",
      "Monthly Error: 197.05 Period MAE: 101.11000000000001\n"
     ]
    },
    {
     "name": "stderr",
     "output_type": "stream",
     "text": [
      "19:40:25 - cmdstanpy - INFO - Chain [1] start processing\n",
      "19:40:26 - cmdstanpy - INFO - Chain [1] start processing\n",
      "19:40:26 - cmdstanpy - INFO - Chain [1] done processing\n",
      "19:40:26 - cmdstanpy - INFO - Chain [1] done processing\n"
     ]
    },
    {
     "name": "stdout",
     "output_type": "stream",
     "text": [
      "It's underpredicted.\n",
      "Monthly Error: 36.31 Period MAE: 37.32\n",
      "It's overpredicted.\n",
      "Monthly Error: 197.05 Period MAE: 101.11000000000001\n"
     ]
    },
    {
     "name": "stderr",
     "output_type": "stream",
     "text": [
      "19:40:27 - cmdstanpy - INFO - Chain [1] start processing\n",
      "19:40:28 - cmdstanpy - INFO - Chain [1] start processing\n",
      "19:40:28 - cmdstanpy - INFO - Chain [1] done processing\n",
      "19:40:28 - cmdstanpy - INFO - Chain [1] done processing\n"
     ]
    },
    {
     "name": "stdout",
     "output_type": "stream",
     "text": [
      "It's underpredicted.\n",
      "Monthly Error: 36.31 Period MAE: 37.32\n",
      "It's overpredicted.\n",
      "Monthly Error: 189.29 Period MAE: 96.27\n"
     ]
    },
    {
     "name": "stderr",
     "output_type": "stream",
     "text": [
      "19:40:30 - cmdstanpy - INFO - Chain [1] start processing\n",
      "19:40:30 - cmdstanpy - INFO - Chain [1] start processing\n",
      "19:40:30 - cmdstanpy - INFO - Chain [1] done processing\n",
      "19:40:30 - cmdstanpy - INFO - Chain [1] done processing\n"
     ]
    },
    {
     "name": "stdout",
     "output_type": "stream",
     "text": [
      "It's underpredicted.\n",
      "Monthly Error: 36.31 Period MAE: 37.32\n",
      "It's overpredicted.\n",
      "Monthly Error: 189.29 Period MAE: 96.27\n"
     ]
    },
    {
     "name": "stderr",
     "output_type": "stream",
     "text": [
      "19:40:32 - cmdstanpy - INFO - Chain [1] start processing\n",
      "19:40:32 - cmdstanpy - INFO - Chain [1] start processing\n",
      "19:40:32 - cmdstanpy - INFO - Chain [1] done processing\n",
      "19:40:32 - cmdstanpy - INFO - Chain [1] done processing\n"
     ]
    },
    {
     "name": "stdout",
     "output_type": "stream",
     "text": [
      "It's underpredicted.\n",
      "Monthly Error: 36.37 Period MAE: 34.300000000000004\n",
      "It's overpredicted.\n",
      "Monthly Error: 189.29 Period MAE: 96.27\n"
     ]
    },
    {
     "name": "stderr",
     "output_type": "stream",
     "text": [
      "19:40:34 - cmdstanpy - INFO - Chain [1] start processing\n",
      "19:40:34 - cmdstanpy - INFO - Chain [1] start processing\n",
      "19:40:34 - cmdstanpy - INFO - Chain [1] done processing\n",
      "19:40:34 - cmdstanpy - INFO - Chain [1] done processing\n"
     ]
    },
    {
     "name": "stdout",
     "output_type": "stream",
     "text": [
      "It's underpredicted.\n",
      "Monthly Error: 36.37 Period MAE: 34.300000000000004\n",
      "It's overpredicted.\n",
      "Monthly Error: 199.52 Period MAE: 102.88999999999999\n"
     ]
    },
    {
     "name": "stderr",
     "output_type": "stream",
     "text": [
      "19:40:36 - cmdstanpy - INFO - Chain [1] start processing\n",
      "19:40:36 - cmdstanpy - INFO - Chain [1] start processing\n",
      "19:40:36 - cmdstanpy - INFO - Chain [1] done processing\n",
      "19:40:36 - cmdstanpy - INFO - Chain [1] done processing\n"
     ]
    },
    {
     "name": "stdout",
     "output_type": "stream",
     "text": [
      "It's overpredicted.\n",
      "Monthly Error: It's underpredicted.\n",
      "199.52Monthly Error:  36.37 Period MAE:Period MAE: 34.300000000000004\n",
      " 102.88999999999999\n"
     ]
    },
    {
     "name": "stderr",
     "output_type": "stream",
     "text": [
      "19:40:38 - cmdstanpy - INFO - Chain [1] start processing\n",
      "19:40:39 - cmdstanpy - INFO - Chain [1] start processing\n"
     ]
    },
    {
     "name": "stdout",
     "output_type": "stream",
     "text": [
      "It's underpredicted.\n",
      "Monthly Error: 47.16 Period MAE: "
     ]
    },
    {
     "name": "stderr",
     "output_type": "stream",
     "text": [
      "19:40:39 - cmdstanpy - INFO - Chain [1] done processing\n",
      "19:40:39 - cmdstanpy - INFO - Chain [1] done processing\n"
     ]
    },
    {
     "name": "stdout",
     "output_type": "stream",
     "text": [
      "55.13\n",
      "It's overpredicted.\n",
      "Monthly Error: 199.52 Period MAE: 102.88999999999999\n",
      "It's underpredicted.\n",
      "Monthly Error: 47.16 Period MAE: 55.13"
     ]
    },
    {
     "name": "stderr",
     "output_type": "stream",
     "text": [
      "19:40:40 - cmdstanpy - INFO - Chain [1] start processing\n"
     ]
    },
    {
     "name": "stdout",
     "output_type": "stream",
     "text": [
      "\n"
     ]
    },
    {
     "name": "stderr",
     "output_type": "stream",
     "text": [
      "19:40:41 - cmdstanpy - INFO - Chain [1] start processing\n",
      "19:40:41 - cmdstanpy - INFO - Chain [1] done processing\n",
      "19:40:41 - cmdstanpy - INFO - Chain [1] done processing\n"
     ]
    },
    {
     "name": "stdout",
     "output_type": "stream",
     "text": [
      "It's overpredicted.\n",
      "Monthly Error: 183.13 Period MAE: 93.53\n"
     ]
    },
    {
     "name": "stderr",
     "output_type": "stream",
     "text": [
      "19:40:42 - cmdstanpy - INFO - Chain [1] start processing\n",
      "19:40:42 - cmdstanpy - INFO - Chain [1] start processing\n",
      "19:40:43 - cmdstanpy - INFO - Chain [1] done processing\n",
      "19:40:43 - cmdstanpy - INFO - Chain [1] done processing\n"
     ]
    },
    {
     "name": "stdout",
     "output_type": "stream",
     "text": [
      "It's overpredicted.\n",
      "Monthly Error: 183.13 Period MAE: 93.53\n",
      "It's underpredicted.\n",
      "Monthly Error: 47.16 Period MAE: 55.13\n",
      "It's underpredicted.\n"
     ]
    },
    {
     "name": "stderr",
     "output_type": "stream",
     "text": [
      "19:40:45 - cmdstanpy - INFO - Chain [1] start processing\n"
     ]
    },
    {
     "name": "stdout",
     "output_type": "stream",
     "text": [
      "Monthly Error: 58.0 Period MAE: 68.99\n"
     ]
    },
    {
     "name": "stderr",
     "output_type": "stream",
     "text": [
      "19:40:45 - cmdstanpy - INFO - Chain [1] start processing\n",
      "19:40:46 - cmdstanpy - INFO - Chain [1] done processing\n",
      "19:40:46 - cmdstanpy - INFO - Chain [1] done processing\n"
     ]
    },
    {
     "name": "stdout",
     "output_type": "stream",
     "text": [
      "It's overpredicted.\n",
      "Monthly Error: 183.13 Period MAE: 93.53\n"
     ]
    },
    {
     "name": "stderr",
     "output_type": "stream",
     "text": [
      "19:40:47 - cmdstanpy - INFO - Chain [1] start processing\n",
      "19:40:47 - cmdstanpy - INFO - Chain [1] start processing\n",
      "19:40:47 - cmdstanpy - INFO - Chain [1] done processing\n",
      "19:40:47 - cmdstanpy - INFO - Chain [1] done processing\n"
     ]
    },
    {
     "name": "stdout",
     "output_type": "stream",
     "text": [
      "It's underpredicted.\n",
      "Monthly Error: 58.0 Period MAE: 68.99\n",
      "It's overpredicted.\n",
      "Monthly Error: 178.69 Period MAE: 91.39\n"
     ]
    },
    {
     "name": "stderr",
     "output_type": "stream",
     "text": [
      "19:40:49 - cmdstanpy - INFO - Chain [1] start processing\n",
      "19:40:49 - cmdstanpy - INFO - Chain [1] start processing\n",
      "19:40:49 - cmdstanpy - INFO - Chain [1] done processing\n",
      "19:40:49 - cmdstanpy - INFO - Chain [1] done processing\n"
     ]
    },
    {
     "name": "stdout",
     "output_type": "stream",
     "text": [
      "It's overpredicted.\n",
      "Monthly Error: 178.69 Period MAE: 91.39\n",
      "It's underpredicted.\n",
      "Monthly Error: 58.0 Period MAE: 68.99\n"
     ]
    },
    {
     "name": "stderr",
     "output_type": "stream",
     "text": [
      "19:40:51 - cmdstanpy - INFO - Chain [1] start processing\n",
      "19:40:52 - cmdstanpy - INFO - Chain [1] start processing\n"
     ]
    },
    {
     "name": "stdout",
     "output_type": "stream",
     "text": [
      "It's underpredicted.\n",
      "Monthly Error: 46.62 Period MAE: 26.58\n"
     ]
    },
    {
     "name": "stderr",
     "output_type": "stream",
     "text": [
      "19:40:52 - cmdstanpy - INFO - Chain [1] done processing\n",
      "19:40:52 - cmdstanpy - INFO - Chain [1] done processing\n"
     ]
    },
    {
     "name": "stdout",
     "output_type": "stream",
     "text": [
      "It's overpredicted.\n",
      "Monthly Error: 178.69\n",
      " Period MAE: 91.39"
     ]
    },
    {
     "name": "stderr",
     "output_type": "stream",
     "text": [
      "19:40:53 - cmdstanpy - INFO - Chain [1] start processing\n"
     ]
    },
    {
     "name": "stdout",
     "output_type": "stream",
     "text": [
      "It's underpredicted.\n",
      "Monthly Error: 46.62 Period MAE: 26.58\n"
     ]
    },
    {
     "name": "stderr",
     "output_type": "stream",
     "text": [
      "19:40:53 - cmdstanpy - INFO - Chain [1] start processing\n",
      "19:40:54 - cmdstanpy - INFO - Chain [1] done processing\n",
      "19:40:54 - cmdstanpy - INFO - Chain [1] done processing\n"
     ]
    },
    {
     "name": "stdout",
     "output_type": "stream",
     "text": [
      "It's overpredicted.\n",
      "Monthly Error: 199.29 Period MAE: 103.95\n"
     ]
    },
    {
     "name": "stderr",
     "output_type": "stream",
     "text": [
      "19:40:55 - cmdstanpy - INFO - Chain [1] start processing\n",
      "19:40:55 - cmdstanpy - INFO - Chain [1] done processing\n",
      "19:40:55 - cmdstanpy - INFO - Chain [1] start processing\n",
      "19:40:56 - cmdstanpy - INFO - Chain [1] done processing\n"
     ]
    },
    {
     "name": "stdout",
     "output_type": "stream",
     "text": [
      "It's overpredicted.\n",
      "Monthly Error: 199.29 Period MAE: 103.95\n",
      "It's underpredicted.\n",
      "Monthly Error: 46.62 Period MAE:\n",
      "26.58 "
     ]
    },
    {
     "name": "stderr",
     "output_type": "stream",
     "text": [
      "19:40:58 - cmdstanpy - INFO - Chain [1] start processing\n",
      "19:40:58 - cmdstanpy - INFO - Chain [1] start processing\n",
      "19:40:58 - cmdstanpy - INFO - Chain [1] done processing\n",
      "19:40:58 - cmdstanpy - INFO - Chain [1] done processing\n"
     ]
    },
    {
     "name": "stdout",
     "output_type": "stream",
     "text": [
      "It's underpredicted.\n",
      "Monthly Error: 99.7 Period MAE: 99.8\n",
      "It's overpredicted.\n",
      "Monthly Error: 199.29 Period MAE: 103.95\n"
     ]
    },
    {
     "name": "stderr",
     "output_type": "stream",
     "text": [
      "19:41:00 - cmdstanpy - INFO - Chain [1] start processing\n",
      "19:41:00 - cmdstanpy - INFO - Chain [1] start processing\n"
     ]
    },
    {
     "name": "stdout",
     "output_type": "stream",
     "text": [
      "It's underpredicted.\n",
      "Monthly Error: 99.7 Period MAE: 99.8\n"
     ]
    },
    {
     "name": "stderr",
     "output_type": "stream",
     "text": [
      "19:41:00 - cmdstanpy - INFO - Chain [1] done processing\n",
      "19:41:00 - cmdstanpy - INFO - Chain [1] done processing\n"
     ]
    },
    {
     "name": "stdout",
     "output_type": "stream",
     "text": [
      "It's overpredicted.\n",
      "Monthly Error: 197.05 Period MAE: 101.11000000000001\n"
     ]
    },
    {
     "name": "stderr",
     "output_type": "stream",
     "text": [
      "19:41:02 - cmdstanpy - INFO - Chain [1] start processing\n",
      "19:41:02 - cmdstanpy - INFO - Chain [1] start processing\n",
      "19:41:03 - cmdstanpy - INFO - Chain [1] done processing\n",
      "19:41:03 - cmdstanpy - INFO - Chain [1] done processing\n"
     ]
    },
    {
     "name": "stdout",
     "output_type": "stream",
     "text": [
      "It's underpredicted.\n",
      "Monthly Error: 99.7 Period MAE: 99.8\n",
      "It's overpredicted.\n",
      "Monthly Error: 197.05 Period MAE: 101.11000000000001\n"
     ]
    },
    {
     "name": "stderr",
     "output_type": "stream",
     "text": [
      "19:41:05 - cmdstanpy - INFO - Chain [1] start processing\n",
      "19:41:06 - cmdstanpy - INFO - Chain [1] start processing\n",
      "19:41:06 - cmdstanpy - INFO - Chain [1] done processing\n"
     ]
    },
    {
     "name": "stdout",
     "output_type": "stream",
     "text": [
      "It's underpredicted.\n",
      "Monthly Error: 36.31 Period MAE: 37.32\n"
     ]
    },
    {
     "name": "stderr",
     "output_type": "stream",
     "text": [
      "19:41:06 - cmdstanpy - INFO - Chain [1] done processing\n"
     ]
    },
    {
     "name": "stdout",
     "output_type": "stream",
     "text": [
      "It's overpredicted.\n",
      "Monthly Error: 197.05 Period MAE: 101.11000000000001\n"
     ]
    },
    {
     "name": "stderr",
     "output_type": "stream",
     "text": [
      "19:41:08 - cmdstanpy - INFO - Chain [1] start processing\n",
      "19:41:08 - cmdstanpy - INFO - Chain [1] start processing\n",
      "19:41:08 - cmdstanpy - INFO - Chain [1] done processing\n"
     ]
    },
    {
     "name": "stdout",
     "output_type": "stream",
     "text": [
      "It's underpredicted.\n",
      "Monthly Error: 36.31 Period MAE: 37.32"
     ]
    },
    {
     "name": "stderr",
     "output_type": "stream",
     "text": [
      "19:41:08 - cmdstanpy - INFO - Chain [1] done processing\n"
     ]
    },
    {
     "name": "stdout",
     "output_type": "stream",
     "text": [
      "\n",
      "It's overpredicted.\n",
      "Monthly Error: 201.22 Period MAE: 103.71\n"
     ]
    },
    {
     "name": "stderr",
     "output_type": "stream",
     "text": [
      "19:41:10 - cmdstanpy - INFO - Chain [1] start processing\n",
      "19:41:10 - cmdstanpy - INFO - Chain [1] start processing\n",
      "19:41:10 - cmdstanpy - INFO - Chain [1] done processing\n",
      "19:41:10 - cmdstanpy - INFO - Chain [1] done processing\n"
     ]
    },
    {
     "name": "stdout",
     "output_type": "stream",
     "text": [
      "It's underpredicted.\n",
      "Monthly Error: 36.31 Period MAE: 37.32\n",
      "It's overpredicted.\n",
      "Monthly Error: 201.22 Period MAE: 103.71\n"
     ]
    },
    {
     "name": "stderr",
     "output_type": "stream",
     "text": [
      "19:41:12 - cmdstanpy - INFO - Chain [1] start processing\n",
      "19:41:12 - cmdstanpy - INFO - Chain [1] start processing\n",
      "19:41:12 - cmdstanpy - INFO - Chain [1] done processing\n",
      "19:41:12 - cmdstanpy - INFO - Chain [1] done processing\n"
     ]
    },
    {
     "name": "stdout",
     "output_type": "stream",
     "text": [
      "It's overpredicted.\n",
      "Monthly Error: 201.22 Period MAE: 103.71\n",
      "It's underpredicted.\n",
      "Monthly Error: 41.16 Period MAE:24.41 \n"
     ]
    },
    {
     "name": "stderr",
     "output_type": "stream",
     "text": [
      "19:41:14 - cmdstanpy - INFO - Chain [1] start processing\n",
      "19:41:14 - cmdstanpy - INFO - Chain [1] start processing\n",
      "19:41:15 - cmdstanpy - INFO - Chain [1] done processing\n",
      "19:41:15 - cmdstanpy - INFO - Chain [1] done processing\n"
     ]
    },
    {
     "name": "stdout",
     "output_type": "stream",
     "text": [
      "It's underpredicted.\n",
      "Monthly Error: 41.16 Period MAE: 24.41\n",
      "It's overpredicted.\n",
      "Monthly Error: 193.82 Period MAE: 99.48\n"
     ]
    },
    {
     "name": "stderr",
     "output_type": "stream",
     "text": [
      "19:41:16 - cmdstanpy - INFO - Chain [1] start processing\n"
     ]
    },
    {
     "name": "stdout",
     "output_type": "stream",
     "text": [
      "It's underpredicted.\n",
      "Monthly Error: 41.16 Period MAE: 24.41\n"
     ]
    },
    {
     "name": "stderr",
     "output_type": "stream",
     "text": [
      "19:41:16 - cmdstanpy - INFO - Chain [1] start processing\n",
      "19:41:17 - cmdstanpy - INFO - Chain [1] done processing\n",
      "19:41:17 - cmdstanpy - INFO - Chain [1] done processing\n"
     ]
    },
    {
     "name": "stdout",
     "output_type": "stream",
     "text": [
      "It's overpredicted.\n",
      "Monthly Error: 193.82 Period MAE: 99.48\n"
     ]
    },
    {
     "name": "stderr",
     "output_type": "stream",
     "text": [
      "19:41:18 - cmdstanpy - INFO - Chain [1] start processing\n",
      "19:41:18 - cmdstanpy - INFO - Chain [1] start processing\n",
      "19:41:18 - cmdstanpy - INFO - Chain [1] done processing\n",
      "19:41:18 - cmdstanpy - INFO - Chain [1] done processing\n"
     ]
    },
    {
     "name": "stdout",
     "output_type": "stream",
     "text": [
      "It's underpredicted.\n",
      "Monthly Error: 36.47 Period MAE: 41.38\n",
      "It's overpredicted.\n",
      "Monthly Error: 193.82 Period MAE: 99.48\n"
     ]
    },
    {
     "name": "stderr",
     "output_type": "stream",
     "text": [
      "19:41:21 - cmdstanpy - INFO - Chain [1] start processing\n",
      "19:41:21 - cmdstanpy - INFO - Chain [1] start processing\n",
      "19:41:21 - cmdstanpy - INFO - Chain [1] done processing\n",
      "19:41:21 - cmdstanpy - INFO - Chain [1] done processing\n"
     ]
    },
    {
     "name": "stdout",
     "output_type": "stream",
     "text": [
      "It's overpredicted.\n",
      "Monthly Error: 183.13 Period MAE: 93.53\n",
      "It's underpredicted.\n",
      "Monthly Error: 36.47 Period MAE: 41.38\n"
     ]
    },
    {
     "name": "stderr",
     "output_type": "stream",
     "text": [
      "19:41:23 - cmdstanpy - INFO - Chain [1] start processing\n",
      "19:41:23 - cmdstanpy - INFO - Chain [1] start processing\n"
     ]
    },
    {
     "name": "stdout",
     "output_type": "stream",
     "text": [
      "It's underpredicted.\n",
      "Monthly Error: 36.47"
     ]
    },
    {
     "name": "stderr",
     "output_type": "stream",
     "text": [
      "19:41:23 - cmdstanpy - INFO - Chain [1] done processing\n"
     ]
    },
    {
     "name": "stdout",
     "output_type": "stream",
     "text": [
      " Period MAE: 41.38\n"
     ]
    },
    {
     "name": "stderr",
     "output_type": "stream",
     "text": [
      "19:41:24 - cmdstanpy - INFO - Chain [1] done processing\n"
     ]
    },
    {
     "name": "stdout",
     "output_type": "stream",
     "text": [
      "It's overpredicted.\n",
      "Monthly Error: 183.13 Period MAE: 93.53\n"
     ]
    },
    {
     "name": "stderr",
     "output_type": "stream",
     "text": [
      "19:41:25 - cmdstanpy - INFO - Chain [1] start processing\n",
      "19:41:25 - cmdstanpy - INFO - Chain [1] start processing\n",
      "19:41:25 - cmdstanpy - INFO - Chain [1] done processing\n",
      "19:41:25 - cmdstanpy - INFO - Chain [1] done processing\n"
     ]
    },
    {
     "name": "stdout",
     "output_type": "stream",
     "text": [
      "It's underpredicted.\n",
      "Monthly Error: 58.0 Period MAE: 68.99\n",
      "It's overpredicted.\n",
      "Monthly Error: 183.13 Period MAE: 93.53\n"
     ]
    },
    {
     "name": "stderr",
     "output_type": "stream",
     "text": [
      "19:41:27 - cmdstanpy - INFO - Chain [1] start processing\n",
      "19:41:27 - cmdstanpy - INFO - Chain [1] start processing\n",
      "19:41:27 - cmdstanpy - INFO - Chain [1] done processing\n",
      "19:41:28 - cmdstanpy - INFO - Chain [1] done processing\n"
     ]
    },
    {
     "name": "stdout",
     "output_type": "stream",
     "text": [
      "It's underpredicted.\n",
      "Monthly Error: 58.0 Period MAE: 68.99\n",
      "It's overpredicted.\n",
      "Monthly Error: 180.82 Period MAE: 86.86\n"
     ]
    },
    {
     "name": "stderr",
     "output_type": "stream",
     "text": [
      "19:41:29 - cmdstanpy - INFO - Chain [1] start processing\n",
      "19:41:29 - cmdstanpy - INFO - Chain [1] start processing\n",
      "19:41:30 - cmdstanpy - INFO - Chain [1] done processing\n"
     ]
    },
    {
     "name": "stdout",
     "output_type": "stream",
     "text": [
      "It's underpredicted.\n",
      "Monthly Error: 58.0 Period MAE:"
     ]
    },
    {
     "name": "stderr",
     "output_type": "stream",
     "text": [
      "19:41:30 - cmdstanpy - INFO - Chain [1] done processing\n"
     ]
    },
    {
     "name": "stdout",
     "output_type": "stream",
     "text": [
      " 68.99\n",
      "It's overpredicted.\n",
      "Monthly Error: 180.82 Period MAE: 86.86\n"
     ]
    },
    {
     "name": "stderr",
     "output_type": "stream",
     "text": [
      "19:41:31 - cmdstanpy - INFO - Chain [1] start processing\n",
      "19:41:31 - cmdstanpy - INFO - Chain [1] start processing\n",
      "19:41:31 - cmdstanpy - INFO - Chain [1] done processing\n",
      "19:41:32 - cmdstanpy - INFO - Chain [1] done processing\n"
     ]
    },
    {
     "name": "stdout",
     "output_type": "stream",
     "text": [
      "It's underpredicted.\n",
      "Monthly Error: 43.05 Period MAE: 32.41\n",
      "It's overpredicted.\n",
      "Monthly Error: 180.82 Period MAE: 86.86\n"
     ]
    },
    {
     "name": "stderr",
     "output_type": "stream",
     "text": [
      "19:41:33 - cmdstanpy - INFO - Chain [1] start processing\n",
      "19:41:34 - cmdstanpy - INFO - Chain [1] start processing\n",
      "19:41:34 - cmdstanpy - INFO - Chain [1] done processing\n",
      "19:41:34 - cmdstanpy - INFO - Chain [1] done processing\n"
     ]
    },
    {
     "name": "stdout",
     "output_type": "stream",
     "text": [
      "It's overpredicted.\n",
      "Monthly Error: 171.38 Period MAE: It's underpredicted.78.03999999999999\n",
      "\n",
      "Monthly Error: 43.05 Period MAE: 32.41\n"
     ]
    },
    {
     "name": "stderr",
     "output_type": "stream",
     "text": [
      "19:41:36 - cmdstanpy - INFO - Chain [1] start processing\n"
     ]
    },
    {
     "name": "stdout",
     "output_type": "stream",
     "text": [
      "It's underpredicted.\n",
      "Monthly Error: 43.05 Period MAE: 32.41\n"
     ]
    },
    {
     "name": "stderr",
     "output_type": "stream",
     "text": [
      "19:41:36 - cmdstanpy - INFO - Chain [1] start processing\n",
      "19:41:36 - cmdstanpy - INFO - Chain [1] done processing\n",
      "19:41:37 - cmdstanpy - INFO - Chain [1] done processing\n"
     ]
    },
    {
     "name": "stdout",
     "output_type": "stream",
     "text": [
      "It's overpredicted.\n",
      "Monthly Error: 171.38 Period MAE: 78.03999999999999\n"
     ]
    },
    {
     "name": "stderr",
     "output_type": "stream",
     "text": [
      "19:41:38 - cmdstanpy - INFO - Chain [1] start processing\n",
      "19:41:38 - cmdstanpy - INFO - Chain [1] start processing\n"
     ]
    },
    {
     "name": "stdout",
     "output_type": "stream",
     "text": [
      "It's underpredicted.\n",
      "Monthly Error: 49.84"
     ]
    },
    {
     "name": "stderr",
     "output_type": "stream",
     "text": [
      "19:41:38 - cmdstanpy - INFO - Chain [1] done processing\n"
     ]
    },
    {
     "name": "stdout",
     "output_type": "stream",
     "text": [
      " Period MAE: 54.379999999999995\n"
     ]
    },
    {
     "name": "stderr",
     "output_type": "stream",
     "text": [
      "19:41:39 - cmdstanpy - INFO - Chain [1] done processing\n"
     ]
    },
    {
     "name": "stdout",
     "output_type": "stream",
     "text": [
      "It's overpredicted.\n",
      "Monthly Error: 171.38 Period MAE: 78.03999999999999\n"
     ]
    },
    {
     "name": "stderr",
     "output_type": "stream",
     "text": [
      "19:41:40 - cmdstanpy - INFO - Chain [1] start processing\n",
      "19:41:40 - cmdstanpy - INFO - Chain [1] start processing\n",
      "19:41:40 - cmdstanpy - INFO - Chain [1] done processing\n",
      "19:41:40 - cmdstanpy - INFO - Chain [1] done processing\n"
     ]
    },
    {
     "name": "stdout",
     "output_type": "stream",
     "text": [
      "It's overpredicted.\n",
      "Monthly Error: 197.05 Period MAE: 101.11000000000001\n",
      "It's underpredicted.Period MAE:\n",
      "Monthly Error: 49.84  54.379999999999995\n"
     ]
    },
    {
     "name": "stderr",
     "output_type": "stream",
     "text": [
      "19:41:42 - cmdstanpy - INFO - Chain [1] start processing\n",
      "19:41:43 - cmdstanpy - INFO - Chain [1] start processing\n",
      "19:41:43 - cmdstanpy - INFO - Chain [1] done processing\n",
      "19:41:43 - cmdstanpy - INFO - Chain [1] done processing\n"
     ]
    },
    {
     "name": "stdout",
     "output_type": "stream",
     "text": [
      "It's overpredicted.\n",
      "Monthly Error: 197.05 Period MAE: 101.11000000000001\n",
      "It's underpredicted.\n",
      "Monthly Error: 49.84 Period MAE: 54.379999999999995\n"
     ]
    },
    {
     "name": "stderr",
     "output_type": "stream",
     "text": [
      "19:41:45 - cmdstanpy - INFO - Chain [1] start processing\n"
     ]
    },
    {
     "name": "stdout",
     "output_type": "stream",
     "text": [
      "It's underpredicted.\n",
      "Monthly Error:"
     ]
    },
    {
     "name": "stderr",
     "output_type": "stream",
     "text": [
      "19:41:45 - cmdstanpy - INFO - Chain [1] start processing\n"
     ]
    },
    {
     "name": "stdout",
     "output_type": "stream",
     "text": [
      " 36.31 Period MAE: 37.32\n"
     ]
    },
    {
     "name": "stderr",
     "output_type": "stream",
     "text": [
      "19:41:45 - cmdstanpy - INFO - Chain [1] done processing\n",
      "19:41:45 - cmdstanpy - INFO - Chain [1] done processing\n"
     ]
    },
    {
     "name": "stdout",
     "output_type": "stream",
     "text": [
      "It's overpredicted.\n",
      "Monthly Error: 197.05 Period MAE: 101.11000000000001\n",
      "It's underpredicted.\n",
      "Monthly Error:"
     ]
    },
    {
     "name": "stderr",
     "output_type": "stream",
     "text": [
      "19:41:47 - cmdstanpy - INFO - Chain [1] start processing\n"
     ]
    },
    {
     "name": "stdout",
     "output_type": "stream",
     "text": [
      " 36.31 Period MAE: 37.32\n"
     ]
    },
    {
     "name": "stderr",
     "output_type": "stream",
     "text": [
      "19:41:47 - cmdstanpy - INFO - Chain [1] start processing\n",
      "19:41:47 - cmdstanpy - INFO - Chain [1] done processing\n",
      "19:41:47 - cmdstanpy - INFO - Chain [1] done processing\n"
     ]
    },
    {
     "name": "stdout",
     "output_type": "stream",
     "text": [
      "It's overpredicted.\n",
      "Monthly Error: 211.44 Period MAE: 109.46000000000001\n"
     ]
    },
    {
     "name": "stderr",
     "output_type": "stream",
     "text": [
      "19:41:48 - cmdstanpy - INFO - Chain [1] start processing\n",
      "19:41:49 - cmdstanpy - INFO - Chain [1] start processing\n",
      "19:41:49 - cmdstanpy - INFO - Chain [1] done processing\n",
      "19:41:49 - cmdstanpy - INFO - Chain [1] done processing\n"
     ]
    },
    {
     "name": "stdout",
     "output_type": "stream",
     "text": [
      "It's underpredicted.\n",
      "Monthly Error: 36.31 Period MAE: 37.32\n",
      "It's overpredicted.\n",
      "Monthly Error: 211.44 Period MAE: 109.46000000000001\n"
     ]
    },
    {
     "name": "stderr",
     "output_type": "stream",
     "text": [
      "19:41:51 - cmdstanpy - INFO - Chain [1] start processing\n",
      "19:41:51 - cmdstanpy - INFO - Chain [1] start processing\n",
      "19:41:51 - cmdstanpy - INFO - Chain [1] done processing\n",
      "19:41:52 - cmdstanpy - INFO - Chain [1] done processing\n"
     ]
    },
    {
     "name": "stdout",
     "output_type": "stream",
     "text": [
      "It's underpredicted.\n",
      "Monthly Error: 42.09 Period MAE: 24.529999999999998\n",
      "It's overpredicted.\n",
      "Monthly Error: 211.44 Period MAE: 109.46000000000001\n"
     ]
    },
    {
     "name": "stderr",
     "output_type": "stream",
     "text": [
      "19:41:53 - cmdstanpy - INFO - Chain [1] start processing\n"
     ]
    },
    {
     "name": "stdout",
     "output_type": "stream",
     "text": [
      "It's underpredicted.\n",
      "Monthly Error: 42.09"
     ]
    },
    {
     "name": "stderr",
     "output_type": "stream",
     "text": [
      "19:41:54 - cmdstanpy - INFO - Chain [1] start processing\n"
     ]
    },
    {
     "name": "stdout",
     "output_type": "stream",
     "text": [
      " Period MAE: 24.529999999999998\n"
     ]
    },
    {
     "name": "stderr",
     "output_type": "stream",
     "text": [
      "19:41:54 - cmdstanpy - INFO - Chain [1] done processing\n",
      "19:41:54 - cmdstanpy - INFO - Chain [1] done processing\n"
     ]
    },
    {
     "name": "stdout",
     "output_type": "stream",
     "text": [
      "It's overpredicted.\n",
      "Monthly Error: 191.49 Period MAE: 97.78999999999999\n"
     ]
    },
    {
     "name": "stderr",
     "output_type": "stream",
     "text": [
      "19:41:55 - cmdstanpy - INFO - Chain [1] start processing\n",
      "19:41:55 - cmdstanpy - INFO - Chain [1] start processing\n",
      "19:41:56 - cmdstanpy - INFO - Chain [1] done processing\n",
      "19:41:56 - cmdstanpy - INFO - Chain [1] done processing\n"
     ]
    },
    {
     "name": "stdout",
     "output_type": "stream",
     "text": [
      "It's underpredicted.\n",
      "Monthly Error: 42.09 Period MAE: 24.529999999999998\n",
      "It's overpredicted.\n",
      "Monthly Error: 191.49 Period MAE: 97.78999999999999\n"
     ]
    },
    {
     "name": "stderr",
     "output_type": "stream",
     "text": [
      "19:41:58 - cmdstanpy - INFO - Chain [1] start processing\n",
      "19:41:58 - cmdstanpy - INFO - Chain [1] start processing\n",
      "19:41:58 - cmdstanpy - INFO - Chain [1] done processing\n",
      "19:41:58 - cmdstanpy - INFO - Chain [1] done processing\n"
     ]
    },
    {
     "name": "stdout",
     "output_type": "stream",
     "text": [
      "It's underpredicted.\n",
      "Monthly Error: 36.36 Period MAE: 39.22\n",
      "It's overpredicted.\n",
      "Monthly Error: 191.49 Period MAE: 97.78999999999999\n"
     ]
    },
    {
     "name": "stderr",
     "output_type": "stream",
     "text": [
      "19:42:00 - cmdstanpy - INFO - Chain [1] start processing\n",
      "19:42:00 - cmdstanpy - INFO - Chain [1] start processing\n",
      "19:42:00 - cmdstanpy - INFO - Chain [1] done processing\n",
      "19:42:00 - cmdstanpy - INFO - Chain [1] done processing\n"
     ]
    },
    {
     "name": "stdout",
     "output_type": "stream",
     "text": [
      "It's underpredicted.\n",
      "Monthly Error: 36.36 Period MAE: 39.22\n",
      "It's overpredicted.\n",
      "Monthly Error: 183.13 Period MAE: 93.53\n"
     ]
    },
    {
     "name": "stderr",
     "output_type": "stream",
     "text": [
      "19:42:02 - cmdstanpy - INFO - Chain [1] start processing\n",
      "19:42:02 - cmdstanpy - INFO - Chain [1] start processing\n",
      "19:42:03 - cmdstanpy - INFO - Chain [1] done processing\n",
      "19:42:03 - cmdstanpy - INFO - Chain [1] done processing\n"
     ]
    },
    {
     "name": "stdout",
     "output_type": "stream",
     "text": [
      "It's underpredicted.\n",
      "Monthly Error: 36.36 Period MAE: 39.22\n",
      "It's overpredicted.\n",
      "Monthly Error: 183.13 Period MAE: 93.53\n"
     ]
    },
    {
     "name": "stderr",
     "output_type": "stream",
     "text": [
      "19:42:05 - cmdstanpy - INFO - Chain [1] start processing\n",
      "19:42:05 - cmdstanpy - INFO - Chain [1] start processing\n",
      "19:42:05 - cmdstanpy - INFO - Chain [1] done processing\n",
      "19:42:05 - cmdstanpy - INFO - Chain [1] done processing\n"
     ]
    },
    {
     "name": "stdout",
     "output_type": "stream",
     "text": [
      "It's underpredicted.\n",
      "Monthly Error: 58.0 Period MAE: 68.99\n",
      "It's overpredicted.\n",
      "Monthly Error: 183.13 Period MAE: 93.53\n"
     ]
    },
    {
     "name": "stderr",
     "output_type": "stream",
     "text": [
      "19:42:07 - cmdstanpy - INFO - Chain [1] start processing\n"
     ]
    },
    {
     "name": "stdout",
     "output_type": "stream",
     "text": [
      "It's underpredicted.\n",
      "Monthly Error: 58.0 Period MAE: 68.99\n"
     ]
    },
    {
     "name": "stderr",
     "output_type": "stream",
     "text": [
      "19:42:08 - cmdstanpy - INFO - Chain [1] start processing\n",
      "19:42:08 - cmdstanpy - INFO - Chain [1] done processing\n",
      "19:42:08 - cmdstanpy - INFO - Chain [1] done processing\n"
     ]
    },
    {
     "name": "stdout",
     "output_type": "stream",
     "text": [
      "It's overpredicted.\n",
      "Monthly Error: 151.8 Period MAE: 60.699999999999996\n"
     ]
    },
    {
     "name": "stderr",
     "output_type": "stream",
     "text": [
      "19:42:09 - cmdstanpy - INFO - Chain [1] start processing\n",
      "19:42:10 - cmdstanpy - INFO - Chain [1] done processing\n",
      "19:42:10 - cmdstanpy - INFO - Chain [1] start processing\n",
      "19:42:10 - cmdstanpy - INFO - Chain [1] done processing\n"
     ]
    },
    {
     "name": "stdout",
     "output_type": "stream",
     "text": [
      "It's underpredicted.\n",
      "Monthly Error: 58.0It's overpredicted. \n",
      "Period MAE: Monthly Error:68.99 151.8\n",
      " Period MAE: 60.699999999999996\n"
     ]
    },
    {
     "name": "stderr",
     "output_type": "stream",
     "text": [
      "19:42:12 - cmdstanpy - INFO - Chain [1] start processing\n",
      "19:42:12 - cmdstanpy - INFO - Chain [1] start processing\n",
      "19:42:12 - cmdstanpy - INFO - Chain [1] done processing\n",
      "19:42:12 - cmdstanpy - INFO - Chain [1] done processing\n"
     ]
    },
    {
     "name": "stdout",
     "output_type": "stream",
     "text": [
      "It's overpredicted.\n",
      "Monthly Error: 151.8 Period MAE: 60.699999999999996\n",
      "It's underpredicted.\n",
      "Monthly Error: 42.77 Period MAE: 33.26\n"
     ]
    },
    {
     "name": "stderr",
     "output_type": "stream",
     "text": [
      "19:42:15 - cmdstanpy - INFO - Chain [1] start processing\n"
     ]
    },
    {
     "name": "stdout",
     "output_type": "stream",
     "text": [
      "It's underpredicted.\n",
      "Monthly Error: 42.77 Period MAE: 33.26"
     ]
    },
    {
     "name": "stderr",
     "output_type": "stream",
     "text": [
      "19:42:15 - cmdstanpy - INFO - Chain [1] start processing\n"
     ]
    },
    {
     "name": "stdout",
     "output_type": "stream",
     "text": [
      "\n"
     ]
    },
    {
     "name": "stderr",
     "output_type": "stream",
     "text": [
      "19:42:15 - cmdstanpy - INFO - Chain [1] done processing\n",
      "19:42:15 - cmdstanpy - INFO - Chain [1] done processing\n"
     ]
    },
    {
     "name": "stdout",
     "output_type": "stream",
     "text": [
      "It's overpredicted.\n",
      "Monthly Error: 143.3 Period MAE: 57.96\n"
     ]
    },
    {
     "name": "stderr",
     "output_type": "stream",
     "text": [
      "19:42:16 - cmdstanpy - INFO - Chain [1] start processing\n"
     ]
    },
    {
     "name": "stdout",
     "output_type": "stream",
     "text": [
      "It's underpredicted.\n",
      "Monthly Error:"
     ]
    },
    {
     "name": "stderr",
     "output_type": "stream",
     "text": [
      "19:42:17 - cmdstanpy - INFO - Chain [1] start processing\n"
     ]
    },
    {
     "name": "stdout",
     "output_type": "stream",
     "text": [
      " 42.77 Period MAE: 33.26\n"
     ]
    },
    {
     "name": "stderr",
     "output_type": "stream",
     "text": [
      "19:42:17 - cmdstanpy - INFO - Chain [1] done processing\n",
      "19:42:17 - cmdstanpy - INFO - Chain [1] done processing\n"
     ]
    },
    {
     "name": "stdout",
     "output_type": "stream",
     "text": [
      "It's overpredicted.\n",
      "Monthly Error: 143.3 Period MAE: 57.96\n"
     ]
    },
    {
     "name": "stderr",
     "output_type": "stream",
     "text": [
      "19:42:18 - cmdstanpy - INFO - Chain [1] start processing\n",
      "19:42:18 - cmdstanpy - INFO - Chain [1] start processing\n",
      "19:42:19 - cmdstanpy - INFO - Chain [1] done processing\n",
      "19:42:19 - cmdstanpy - INFO - Chain [1] done processing\n"
     ]
    },
    {
     "name": "stdout",
     "output_type": "stream",
     "text": [
      "It's overpredicted.\n",
      "Monthly Error: It's underpredicted.\n",
      "Monthly Error:143.3 54.56  Period MAE: Period MAE:33.03\n",
      " 57.96\n"
     ]
    },
    {
     "name": "stderr",
     "output_type": "stream",
     "text": [
      "19:42:21 - cmdstanpy - INFO - Chain [1] start processing\n",
      "19:42:21 - cmdstanpy - INFO - Chain [1] start processing\n",
      "19:42:21 - cmdstanpy - INFO - Chain [1] done processing\n"
     ]
    },
    {
     "name": "stdout",
     "output_type": "stream",
     "text": [
      "It's underpredicted.\n",
      "Monthly Error: 54.56 Period MAE: 33.03\n"
     ]
    },
    {
     "name": "stderr",
     "output_type": "stream",
     "text": [
      "19:42:21 - cmdstanpy - INFO - Chain [1] done processing\n"
     ]
    },
    {
     "name": "stdout",
     "output_type": "stream",
     "text": [
      "It's overpredicted.\n",
      "Monthly Error: 197.05 Period MAE: 101.11000000000001\n",
      "It's underpredicted.\n",
      "Monthly Error: 54.56 Period MAE: 33.03\n"
     ]
    },
    {
     "name": "stderr",
     "output_type": "stream",
     "text": [
      "19:42:23 - cmdstanpy - INFO - Chain [1] start processing\n",
      "19:42:23 - cmdstanpy - INFO - Chain [1] start processing\n",
      "19:42:23 - cmdstanpy - INFO - Chain [1] done processing\n",
      "19:42:23 - cmdstanpy - INFO - Chain [1] done processing\n"
     ]
    },
    {
     "name": "stdout",
     "output_type": "stream",
     "text": [
      "It's overpredicted.\n",
      "Monthly Error: 197.05 Period MAE: 101.11000000000001\n"
     ]
    },
    {
     "name": "stderr",
     "output_type": "stream",
     "text": [
      "19:42:24 - cmdstanpy - INFO - Chain [1] start processing\n",
      "19:42:24 - cmdstanpy - INFO - Chain [1] start processing\n",
      "19:42:25 - cmdstanpy - INFO - Chain [1] done processing\n",
      "19:42:25 - cmdstanpy - INFO - Chain [1] done processing\n"
     ]
    },
    {
     "name": "stdout",
     "output_type": "stream",
     "text": [
      "It's overpredicted.\n",
      "Monthly Error:It's underpredicted. 197.05 Period MAE: 101.11000000000001\n",
      "\n",
      "Monthly Error: 36.31 Period MAE: 37.32\n"
     ]
    },
    {
     "name": "stderr",
     "output_type": "stream",
     "text": [
      "19:42:27 - cmdstanpy - INFO - Chain [1] start processing\n",
      "19:42:27 - cmdstanpy - INFO - Chain [1] start processing\n",
      "19:42:27 - cmdstanpy - INFO - Chain [1] done processing\n",
      "19:42:27 - cmdstanpy - INFO - Chain [1] done processing\n"
     ]
    },
    {
     "name": "stdout",
     "output_type": "stream",
     "text": [
      "It's underpredicted.\n",
      "Monthly Error: It's overpredicted.\n",
      "36.31 Period MAE: 37.32Monthly Error:\n",
      " 197.85 Period MAE: 102.07\n",
      "It's underpredicted.\n",
      "Monthly Error: 36.31 Period MAE: 37.32\n"
     ]
    },
    {
     "name": "stderr",
     "output_type": "stream",
     "text": [
      "19:42:29 - cmdstanpy - INFO - Chain [1] start processing\n",
      "19:42:29 - cmdstanpy - INFO - Chain [1] start processing\n",
      "19:42:29 - cmdstanpy - INFO - Chain [1] done processing\n",
      "19:42:29 - cmdstanpy - INFO - Chain [1] done processing\n"
     ]
    },
    {
     "name": "stdout",
     "output_type": "stream",
     "text": [
      "It's overpredicted.\n",
      "Monthly Error: 197.85 Period MAE: 102.07\n"
     ]
    },
    {
     "name": "stderr",
     "output_type": "stream",
     "text": [
      "19:42:31 - cmdstanpy - INFO - Chain [1] start processing\n",
      "19:42:31 - cmdstanpy - INFO - Chain [1] start processing\n",
      "19:42:31 - cmdstanpy - INFO - Chain [1] done processing\n",
      "19:42:31 - cmdstanpy - INFO - Chain [1] done processing\n"
     ]
    },
    {
     "name": "stdout",
     "output_type": "stream",
     "text": [
      "It's underpredicted.\n",
      "Monthly Error: 42.12 Period MAE: 24.5\n",
      "It's overpredicted.197.85\n",
      "Monthly Error:  Period MAE: 102.07\n"
     ]
    },
    {
     "name": "stderr",
     "output_type": "stream",
     "text": [
      "19:42:32 - cmdstanpy - INFO - Chain [1] start processing\n",
      "19:42:33 - cmdstanpy - INFO - Chain [1] start processing\n",
      "19:42:33 - cmdstanpy - INFO - Chain [1] done processing\n",
      "19:42:33 - cmdstanpy - INFO - Chain [1] done processing\n"
     ]
    },
    {
     "name": "stdout",
     "output_type": "stream",
     "text": [
      "It's overpredicted.\n",
      "Monthly Error: 194.17 Period MAE: 99.75\n",
      "It's underpredicted.\n",
      "Monthly Error: 42.12 Period MAE: 24.5\n"
     ]
    },
    {
     "name": "stderr",
     "output_type": "stream",
     "text": [
      "19:42:35 - cmdstanpy - INFO - Chain [1] start processing\n",
      "19:42:35 - cmdstanpy - INFO - Chain [1] start processing\n",
      "19:42:35 - cmdstanpy - INFO - Chain [1] done processing\n",
      "19:42:35 - cmdstanpy - INFO - Chain [1] done processing\n"
     ]
    },
    {
     "name": "stdout",
     "output_type": "stream",
     "text": [
      "It's underpredicted.\n",
      "Monthly Error: 42.12 Period MAE: 24.5\n",
      "It's overpredicted.\n",
      "Monthly Error: 194.17 Period MAE: 99.75\n"
     ]
    },
    {
     "name": "stderr",
     "output_type": "stream",
     "text": [
      "19:42:37 - cmdstanpy - INFO - Chain [1] start processing\n",
      "19:42:37 - cmdstanpy - INFO - Chain [1] start processing\n",
      "19:42:37 - cmdstanpy - INFO - Chain [1] done processing\n",
      "19:42:37 - cmdstanpy - INFO - Chain [1] done processing\n"
     ]
    },
    {
     "name": "stdout",
     "output_type": "stream",
     "text": [
      "It's underpredicted.\n",
      "Monthly Error: 36.45 Period MAE: 39.379999999999995\n",
      "It's overpredicted.\n",
      "Monthly Error: 194.17 Period MAE: 99.75\n"
     ]
    },
    {
     "name": "stderr",
     "output_type": "stream",
     "text": [
      "19:42:39 - cmdstanpy - INFO - Chain [1] start processing\n",
      "19:42:39 - cmdstanpy - INFO - Chain [1] start processing\n",
      "19:42:39 - cmdstanpy - INFO - Chain [1] done processing\n"
     ]
    },
    {
     "name": "stdout",
     "output_type": "stream",
     "text": [
      "It's underpredicted.\n",
      "Monthly Error: 36.45 "
     ]
    },
    {
     "name": "stderr",
     "output_type": "stream",
     "text": [
      "19:42:39 - cmdstanpy - INFO - Chain [1] done processing\n"
     ]
    },
    {
     "name": "stdout",
     "output_type": "stream",
     "text": [
      "Period MAE: 39.379999999999995\n",
      "It's overpredicted.\n",
      "Monthly Error: 183.13 Period MAE: 93.53\n"
     ]
    },
    {
     "name": "stderr",
     "output_type": "stream",
     "text": [
      "19:42:41 - cmdstanpy - INFO - Chain [1] start processing\n",
      "19:42:41 - cmdstanpy - INFO - Chain [1] start processing\n",
      "19:42:41 - cmdstanpy - INFO - Chain [1] done processing\n",
      "19:42:41 - cmdstanpy - INFO - Chain [1] done processing\n"
     ]
    },
    {
     "name": "stdout",
     "output_type": "stream",
     "text": [
      "It's underpredicted.\n",
      "Monthly Error:It's overpredicted.\n",
      " 36.45 Period MAE:Monthly Error: 183.13 Period MAE: 39.379999999999995 \n",
      "93.53\n"
     ]
    },
    {
     "name": "stderr",
     "output_type": "stream",
     "text": [
      "19:42:43 - cmdstanpy - INFO - Chain [1] start processing\n",
      "19:42:43 - cmdstanpy - INFO - Chain [1] start processing\n",
      "19:42:43 - cmdstanpy - INFO - Chain [1] done processing\n",
      "19:42:44 - cmdstanpy - INFO - Chain [1] done processing\n"
     ]
    },
    {
     "name": "stdout",
     "output_type": "stream",
     "text": [
      "It's underpredicted.\n",
      "Monthly Error: 58.0 Period MAE: 68.99\n",
      "It's overpredicted.\n",
      "Monthly Error:  183.13Period MAE: 93.53\n"
     ]
    },
    {
     "name": "stderr",
     "output_type": "stream",
     "text": [
      "19:42:45 - cmdstanpy - INFO - Chain [1] start processing\n"
     ]
    },
    {
     "name": "stdout",
     "output_type": "stream",
     "text": [
      "It's underpredicted.\n",
      "Monthly Error: 58.0 Period MAE: 68.99"
     ]
    },
    {
     "name": "stderr",
     "output_type": "stream",
     "text": [
      "19:42:45 - cmdstanpy - INFO - Chain [1] start processing\n"
     ]
    },
    {
     "name": "stdout",
     "output_type": "stream",
     "text": [
      "\n"
     ]
    },
    {
     "name": "stderr",
     "output_type": "stream",
     "text": [
      "19:42:45 - cmdstanpy - INFO - Chain [1] done processing\n",
      "19:42:45 - cmdstanpy - INFO - Chain [1] done processing\n"
     ]
    },
    {
     "name": "stdout",
     "output_type": "stream",
     "text": [
      "It's overpredicted.\n",
      "Monthly Error: 152.21 Period MAE: 60.79\n"
     ]
    },
    {
     "name": "stderr",
     "output_type": "stream",
     "text": [
      "19:42:47 - cmdstanpy - INFO - Chain [1] start processing\n",
      "19:42:47 - cmdstanpy - INFO - Chain [1] start processing\n",
      "19:42:47 - cmdstanpy - INFO - Chain [1] done processing\n",
      "19:42:47 - cmdstanpy - INFO - Chain [1] done processing\n"
     ]
    },
    {
     "name": "stdout",
     "output_type": "stream",
     "text": [
      "It's underpredicted.\n",
      "Monthly Error: 58.0 Period MAE: 68.99\n",
      "It's overpredicted.\n",
      "Monthly Error: 152.21 Period MAE: 60.79\n"
     ]
    },
    {
     "name": "stderr",
     "output_type": "stream",
     "text": [
      "19:42:49 - cmdstanpy - INFO - Chain [1] start processing\n",
      "19:42:49 - cmdstanpy - INFO - Chain [1] start processing\n",
      "19:42:49 - cmdstanpy - INFO - Chain [1] done processing\n",
      "19:42:49 - cmdstanpy - INFO - Chain [1] done processing\n"
     ]
    },
    {
     "name": "stdout",
     "output_type": "stream",
     "text": [
      "It's overpredicted.\n",
      "Monthly Error:It's underpredicted. 152.21 Period MAE: \n",
      "Monthly Error:60.79 42.76 \n",
      "Period MAE: 33.300000000000004\n"
     ]
    },
    {
     "name": "stderr",
     "output_type": "stream",
     "text": [
      "19:42:51 - cmdstanpy - INFO - Chain [1] start processing\n"
     ]
    },
    {
     "name": "stdout",
     "output_type": "stream",
     "text": [
      "It's underpredicted.\n",
      "Monthly Error: 42.76 Period MAE: 33.300000000000004\n"
     ]
    },
    {
     "name": "stderr",
     "output_type": "stream",
     "text": [
      "19:42:52 - cmdstanpy - INFO - Chain [1] start processing\n",
      "19:42:52 - cmdstanpy - INFO - Chain [1] done processing\n",
      "19:42:52 - cmdstanpy - INFO - Chain [1] done processing\n"
     ]
    },
    {
     "name": "stdout",
     "output_type": "stream",
     "text": [
      "It's overpredicted.\n",
      "Monthly Error: 161.42 Period MAE: 68.78999999999999\n"
     ]
    },
    {
     "name": "stderr",
     "output_type": "stream",
     "text": [
      "19:42:53 - cmdstanpy - INFO - Chain [1] start processing\n",
      "19:42:53 - cmdstanpy - INFO - Chain [1] done processing\n",
      "19:42:53 - cmdstanpy - INFO - Chain [1] start processing\n"
     ]
    },
    {
     "name": "stdout",
     "output_type": "stream",
     "text": [
      "It's underpredicted.\n",
      "Monthly Error: 42.76 Period MAE: 33.300000000000004\n"
     ]
    },
    {
     "name": "stderr",
     "output_type": "stream",
     "text": [
      "19:42:54 - cmdstanpy - INFO - Chain [1] done processing\n"
     ]
    },
    {
     "name": "stdout",
     "output_type": "stream",
     "text": [
      "It's overpredicted.\n",
      "Monthly Error: 161.42 Period MAE: 68.78999999999999\n"
     ]
    },
    {
     "name": "stderr",
     "output_type": "stream",
     "text": [
      "19:42:55 - cmdstanpy - INFO - Chain [1] start processing\n",
      "19:42:55 - cmdstanpy - INFO - Chain [1] start processing\n",
      "19:42:55 - cmdstanpy - INFO - Chain [1] done processing\n",
      "19:42:55 - cmdstanpy - INFO - Chain [1] done processing\n"
     ]
    },
    {
     "name": "stdout",
     "output_type": "stream",
     "text": [
      "It's overpredicted.\n",
      "Monthly Error: 161.42 Period MAE: 68.78999999999999\n",
      "It's underpredicted.\n",
      "Monthly Error: 54.59 Period MAE: 32.99\n"
     ]
    },
    {
     "name": "stderr",
     "output_type": "stream",
     "text": [
      "19:42:57 - cmdstanpy - INFO - Chain [1] start processing\n",
      "19:42:57 - cmdstanpy - INFO - Chain [1] start processing\n",
      "19:42:57 - cmdstanpy - INFO - Chain [1] done processing\n",
      "19:42:57 - cmdstanpy - INFO - Chain [1] done processing\n"
     ]
    },
    {
     "name": "stdout",
     "output_type": "stream",
     "text": [
      "It's underpredicted.\n",
      "It's overpredicted.\n",
      "Monthly Error:Monthly Error: 207.17  Period MAE:54.59 107.59 \n",
      "Period MAE: 32.99\n"
     ]
    },
    {
     "name": "stderr",
     "output_type": "stream",
     "text": [
      "19:42:59 - cmdstanpy - INFO - Chain [1] start processing\n",
      "19:42:59 - cmdstanpy - INFO - Chain [1] start processing\n",
      "19:43:00 - cmdstanpy - INFO - Chain [1] done processing\n",
      "19:43:00 - cmdstanpy - INFO - Chain [1] done processing\n"
     ]
    },
    {
     "name": "stdout",
     "output_type": "stream",
     "text": [
      "It's underpredicted.\n",
      "Monthly Error: 54.59 Period MAE: 32.99\n",
      "It's overpredicted.\n",
      "Monthly Error: 207.17 Period MAE: 107.59\n",
      "It's underpredicted.\n",
      "Monthly Error: 36.83 Period MAE: 37.04\n"
     ]
    },
    {
     "name": "stderr",
     "output_type": "stream",
     "text": [
      "19:43:02 - cmdstanpy - INFO - Chain [1] start processing\n",
      "19:43:02 - cmdstanpy - INFO - Chain [1] start processing\n",
      "19:43:02 - cmdstanpy - INFO - Chain [1] done processing\n",
      "19:43:02 - cmdstanpy - INFO - Chain [1] done processing\n"
     ]
    },
    {
     "name": "stdout",
     "output_type": "stream",
     "text": [
      "It's overpredicted.\n",
      "Monthly Error: 207.17 Period MAE: 107.59\n",
      "It's underpredicted.\n",
      "Monthly Error:"
     ]
    },
    {
     "name": "stderr",
     "output_type": "stream",
     "text": [
      "19:43:04 - cmdstanpy - INFO - Chain [1] start processing\n"
     ]
    },
    {
     "name": "stdout",
     "output_type": "stream",
     "text": [
      " 36.83 Period MAE: 37.04\n"
     ]
    },
    {
     "name": "stderr",
     "output_type": "stream",
     "text": [
      "19:43:04 - cmdstanpy - INFO - Chain [1] start processing\n",
      "19:43:04 - cmdstanpy - INFO - Chain [1] done processing\n",
      "19:43:04 - cmdstanpy - INFO - Chain [1] done processing\n"
     ]
    },
    {
     "name": "stdout",
     "output_type": "stream",
     "text": [
      "It's overpredicted.\n",
      "Monthly Error: 192.29 Period MAE: 98.41\n"
     ]
    },
    {
     "name": "stderr",
     "output_type": "stream",
     "text": [
      "19:43:06 - cmdstanpy - INFO - Chain [1] start processing\n",
      "19:43:06 - cmdstanpy - INFO - Chain [1] done processing\n",
      "19:43:06 - cmdstanpy - INFO - Chain [1] start processing\n",
      "19:43:06 - cmdstanpy - INFO - Chain [1] done processing\n"
     ]
    },
    {
     "name": "stdout",
     "output_type": "stream",
     "text": [
      "It's overpredicted.\n",
      "Monthly Error: It's underpredicted.\n",
      "192.29Monthly Error:  36.83 Period MAE:Period MAE: 98.41\n",
      " 37.04\n"
     ]
    },
    {
     "name": "stderr",
     "output_type": "stream",
     "text": [
      "19:43:08 - cmdstanpy - INFO - Chain [1] start processing\n",
      "19:43:08 - cmdstanpy - INFO - Chain [1] start processing\n",
      "19:43:09 - cmdstanpy - INFO - Chain [1] done processing\n",
      "19:43:09 - cmdstanpy - INFO - Chain [1] done processing\n"
     ]
    },
    {
     "name": "stdout",
     "output_type": "stream",
     "text": [
      "It's underpredicted.\n",
      "Monthly Error: 36.72 Period MAE: 31.97\n",
      "It's overpredicted.\n",
      "Monthly Error: 192.29 Period MAE: 98.41\n",
      "It's underpredicted.\n",
      "Monthly Error: 36.72 Period MAE: 31.97\n"
     ]
    },
    {
     "name": "stderr",
     "output_type": "stream",
     "text": [
      "19:43:11 - cmdstanpy - INFO - Chain [1] start processing\n",
      "19:43:11 - cmdstanpy - INFO - Chain [1] start processing\n",
      "19:43:11 - cmdstanpy - INFO - Chain [1] done processing\n",
      "19:43:11 - cmdstanpy - INFO - Chain [1] done processing\n"
     ]
    },
    {
     "name": "stdout",
     "output_type": "stream",
     "text": [
      "It's overpredicted.\n",
      "Monthly Error: 203.72 Period MAE: 105.27\n"
     ]
    },
    {
     "name": "stderr",
     "output_type": "stream",
     "text": [
      "19:43:12 - cmdstanpy - INFO - Chain [1] start processing\n",
      "19:43:13 - cmdstanpy - INFO - Chain [1] done processing\n",
      "19:43:13 - cmdstanpy - INFO - Chain [1] start processing\n",
      "19:43:13 - cmdstanpy - INFO - Chain [1] done processing\n"
     ]
    },
    {
     "name": "stdout",
     "output_type": "stream",
     "text": [
      "It's underpredicted.\n",
      "Monthly Error: 36.72 Period MAE: 31.97\n",
      "It's overpredicted.\n",
      " Monthly Error:203.72 Period MAE: 105.27\n"
     ]
    },
    {
     "name": "stderr",
     "output_type": "stream",
     "text": [
      "19:43:15 - cmdstanpy - INFO - Chain [1] start processing\n",
      "19:43:15 - cmdstanpy - INFO - Chain [1] start processing\n",
      "19:43:15 - cmdstanpy - INFO - Chain [1] done processing\n",
      "19:43:15 - cmdstanpy - INFO - Chain [1] done processing\n"
     ]
    },
    {
     "name": "stdout",
     "output_type": "stream",
     "text": [
      "It's underpredicted.\n",
      "Monthly Error: 47.39 Period MAE: 55.14\n",
      "It's overpredicted.\n",
      "Monthly Error: 203.72 Period MAE: 105.27\n",
      "It's underpredicted.\n",
      "Monthly Error: 47.39 Period MAE: 55.14\n"
     ]
    },
    {
     "name": "stderr",
     "output_type": "stream",
     "text": [
      "19:43:17 - cmdstanpy - INFO - Chain [1] start processing\n",
      "19:43:17 - cmdstanpy - INFO - Chain [1] start processing\n",
      "19:43:17 - cmdstanpy - INFO - Chain [1] done processing\n",
      "19:43:18 - cmdstanpy - INFO - Chain [1] done processing\n"
     ]
    },
    {
     "name": "stdout",
     "output_type": "stream",
     "text": [
      "It's overpredicted.\n",
      "Monthly Error: 171.72 Period MAE: 86.47\n"
     ]
    },
    {
     "name": "stderr",
     "output_type": "stream",
     "text": [
      "19:43:19 - cmdstanpy - INFO - Chain [1] start processing\n",
      "19:43:19 - cmdstanpy - INFO - Chain [1] start processing\n",
      "19:43:19 - cmdstanpy - INFO - Chain [1] done processing\n",
      "19:43:19 - cmdstanpy - INFO - Chain [1] done processing\n"
     ]
    },
    {
     "name": "stdout",
     "output_type": "stream",
     "text": [
      "It's underpredicted.\n",
      "Monthly Error: 47.39 Period MAE: 55.14\n",
      "It's overpredicted.\n",
      "Monthly Error: 171.72 Period MAE: 86.47\n"
     ]
    },
    {
     "name": "stderr",
     "output_type": "stream",
     "text": [
      "19:43:21 - cmdstanpy - INFO - Chain [1] start processing\n",
      "19:43:21 - cmdstanpy - INFO - Chain [1] start processing\n",
      "19:43:21 - cmdstanpy - INFO - Chain [1] done processing\n",
      "19:43:22 - cmdstanpy - INFO - Chain [1] done processing\n"
     ]
    },
    {
     "name": "stdout",
     "output_type": "stream",
     "text": [
      "It's underpredicted.\n",
      "Monthly Error: 44.99 Period MAE: 46.42\n",
      "It's overpredicted.\n",
      "Monthly Error: 171.72 Period MAE: 86.47\n"
     ]
    },
    {
     "name": "stderr",
     "output_type": "stream",
     "text": [
      "19:43:23 - cmdstanpy - INFO - Chain [1] start processing\n"
     ]
    },
    {
     "name": "stdout",
     "output_type": "stream",
     "text": [
      "It's underpredicted.\n",
      "Monthly Error: 44.99 Period MAE: 46.42\n"
     ]
    },
    {
     "name": "stderr",
     "output_type": "stream",
     "text": [
      "19:43:23 - cmdstanpy - INFO - Chain [1] done processing\n",
      "19:43:23 - cmdstanpy - INFO - Chain [1] start processing\n",
      "19:43:24 - cmdstanpy - INFO - Chain [1] done processing\n"
     ]
    },
    {
     "name": "stdout",
     "output_type": "stream",
     "text": [
      "It's overpredicted.\n",
      "Monthly Error: 189.81 Period MAE: 102.19\n"
     ]
    },
    {
     "name": "stderr",
     "output_type": "stream",
     "text": [
      "19:43:25 - cmdstanpy - INFO - Chain [1] start processing\n",
      "19:43:25 - cmdstanpy - INFO - Chain [1] start processing\n",
      "19:43:25 - cmdstanpy - INFO - Chain [1] done processing\n",
      "19:43:26 - cmdstanpy - INFO - Chain [1] done processing\n"
     ]
    },
    {
     "name": "stdout",
     "output_type": "stream",
     "text": [
      "It's underpredicted.\n",
      "Monthly Error: 44.99 Period MAE: 46.42\n",
      "It's overpredicted.\n",
      "Monthly Error: 189.81 Period MAE: 102.19\n"
     ]
    },
    {
     "name": "stderr",
     "output_type": "stream",
     "text": [
      "19:43:27 - cmdstanpy - INFO - Chain [1] start processing\n",
      "19:43:27 - cmdstanpy - INFO - Chain [1] start processing\n",
      "19:43:27 - cmdstanpy - INFO - Chain [1] done processing\n",
      "19:43:28 - cmdstanpy - INFO - Chain [1] done processing\n"
     ]
    },
    {
     "name": "stdout",
     "output_type": "stream",
     "text": [
      "It's underpredicted.\n",
      "Monthly Error: 47.08 Period MAE: 27.46\n",
      "It's overpredicted.\n",
      "Monthly Error: 189.81 Period MAE: 102.19\n",
      "It's underpredicted.\n",
      "Monthly Error: 47.08 Period MAE: 27.46\n"
     ]
    },
    {
     "name": "stderr",
     "output_type": "stream",
     "text": [
      "19:43:29 - cmdstanpy - INFO - Chain [1] start processing\n",
      "19:43:29 - cmdstanpy - INFO - Chain [1] start processing\n",
      "19:43:30 - cmdstanpy - INFO - Chain [1] done processing\n",
      "19:43:30 - cmdstanpy - INFO - Chain [1] done processing\n"
     ]
    },
    {
     "name": "stdout",
     "output_type": "stream",
     "text": [
      "It's overpredicted.\n",
      "Monthly Error: 176.39 Period MAE: 89.92\n"
     ]
    },
    {
     "name": "stderr",
     "output_type": "stream",
     "text": [
      "19:43:31 - cmdstanpy - INFO - Chain [1] start processing\n",
      "19:43:31 - cmdstanpy - INFO - Chain [1] start processing\n",
      "19:43:31 - cmdstanpy - INFO - Chain [1] done processing\n",
      "19:43:31 - cmdstanpy - INFO - Chain [1] done processing\n"
     ]
    },
    {
     "name": "stdout",
     "output_type": "stream",
     "text": [
      "It's underpredicted.\n",
      "Monthly Error: 47.08 Period MAE: 27.46\n",
      "It's overpredicted.\n",
      "Monthly Error: 176.39 Period MAE: 89.92\n"
     ]
    },
    {
     "name": "stderr",
     "output_type": "stream",
     "text": [
      "19:43:33 - cmdstanpy - INFO - Chain [1] start processing\n",
      "19:43:34 - cmdstanpy - INFO - Chain [1] done processing\n",
      "19:43:34 - cmdstanpy - INFO - Chain [1] start processing\n",
      "19:43:34 - cmdstanpy - INFO - Chain [1] done processing\n"
     ]
    },
    {
     "name": "stdout",
     "output_type": "stream",
     "text": [
      "It's underpredicted.\n",
      "Monthly Error: 99.84 Period MAE: 99.89\n",
      "It's overpredicted.\n",
      "Monthly Error: 176.39 Period MAE: 89.92\n",
      "It's underpredicted.\n",
      "Monthly Error: 99.84 Period MAE: 99.89\n"
     ]
    },
    {
     "name": "stderr",
     "output_type": "stream",
     "text": [
      "19:43:35 - cmdstanpy - INFO - Chain [1] start processing\n",
      "19:43:36 - cmdstanpy - INFO - Chain [1] start processing\n",
      "19:43:36 - cmdstanpy - INFO - Chain [1] done processing\n",
      "19:43:36 - cmdstanpy - INFO - Chain [1] done processing\n"
     ]
    },
    {
     "name": "stdout",
     "output_type": "stream",
     "text": [
      "It's overpredicted.\n",
      "Monthly Error:207.17  Period MAE: 107.59\n"
     ]
    },
    {
     "name": "stderr",
     "output_type": "stream",
     "text": [
      "19:43:37 - cmdstanpy - INFO - Chain [1] start processing\n",
      "19:43:37 - cmdstanpy - INFO - Chain [1] start processing\n",
      "19:43:37 - cmdstanpy - INFO - Chain [1] done processing\n",
      "19:43:37 - cmdstanpy - INFO - Chain [1] done processing\n"
     ]
    },
    {
     "name": "stdout",
     "output_type": "stream",
     "text": [
      "It's overpredicted.\n",
      "Monthly Error: 207.17 Period MAE: 107.59\n",
      "It's underpredicted.\n",
      "Monthly Error: 99.84Period MAE:  99.89\n"
     ]
    },
    {
     "name": "stderr",
     "output_type": "stream",
     "text": [
      "19:43:39 - cmdstanpy - INFO - Chain [1] start processing\n",
      "19:43:40 - cmdstanpy - INFO - Chain [1] start processing\n",
      "19:43:40 - cmdstanpy - INFO - Chain [1] done processing\n",
      "19:43:40 - cmdstanpy - INFO - Chain [1] done processing\n"
     ]
    },
    {
     "name": "stdout",
     "output_type": "stream",
     "text": [
      "It's underpredicted.\n",
      "Monthly Error: 36.83 Period MAE: 37.04\n",
      "It's overpredicted.\n",
      "Monthly Error: 207.17 Period MAE: 107.59\n",
      "It's underpredicted.\n",
      "Monthly Error: 36.83 Period MAE: 37.04\n"
     ]
    },
    {
     "name": "stderr",
     "output_type": "stream",
     "text": [
      "19:43:41 - cmdstanpy - INFO - Chain [1] start processing\n",
      "19:43:42 - cmdstanpy - INFO - Chain [1] start processing\n",
      "19:43:42 - cmdstanpy - INFO - Chain [1] done processing\n",
      "19:43:42 - cmdstanpy - INFO - Chain [1] done processing\n"
     ]
    },
    {
     "name": "stdout",
     "output_type": "stream",
     "text": [
      "It's overpredicted.\n",
      "Monthly Error: 209.39"
     ]
    },
    {
     "name": "stderr",
     "output_type": "stream",
     "text": [
      "19:43:43 - cmdstanpy - INFO - Chain [1] start processing\n"
     ]
    },
    {
     "name": "stdout",
     "output_type": "stream",
     "text": [
      " Period MAE: 108.69\n"
     ]
    },
    {
     "name": "stderr",
     "output_type": "stream",
     "text": [
      "19:43:43 - cmdstanpy - INFO - Chain [1] done processing\n",
      "19:43:43 - cmdstanpy - INFO - Chain [1] start processing\n",
      "19:43:44 - cmdstanpy - INFO - Chain [1] done processing\n"
     ]
    },
    {
     "name": "stdout",
     "output_type": "stream",
     "text": [
      "It's underpredicted.\n",
      "Monthly Error: 36.83 Period MAE: 37.04\n",
      "It's overpredicted.\n",
      "Monthly Error: 209.39 Period MAE: 108.69\n"
     ]
    },
    {
     "name": "stderr",
     "output_type": "stream",
     "text": [
      "19:43:45 - cmdstanpy - INFO - Chain [1] start processing\n",
      "19:43:46 - cmdstanpy - INFO - Chain [1] start processing\n",
      "19:43:46 - cmdstanpy - INFO - Chain [1] done processing\n",
      "19:43:46 - cmdstanpy - INFO - Chain [1] done processing\n"
     ]
    },
    {
     "name": "stdout",
     "output_type": "stream",
     "text": [
      "It's underpredicted.\n",
      "Monthly Error: 43.12 Period MAE: 21.490000000000002\n",
      "It's overpredicted.\n",
      "Monthly Error: 209.39 Period MAE: 108.69\n"
     ]
    },
    {
     "name": "stderr",
     "output_type": "stream",
     "text": [
      "19:43:48 - cmdstanpy - INFO - Chain [1] start processing\n"
     ]
    },
    {
     "name": "stdout",
     "output_type": "stream",
     "text": [
      "It's underpredicted.\n",
      "Monthly Error: 43.12 Period MAE: 21.490000000000002\n"
     ]
    },
    {
     "name": "stderr",
     "output_type": "stream",
     "text": [
      "19:43:48 - cmdstanpy - INFO - Chain [1] start processing\n",
      "19:43:48 - cmdstanpy - INFO - Chain [1] done processing\n",
      "19:43:48 - cmdstanpy - INFO - Chain [1] done processing\n"
     ]
    },
    {
     "name": "stdout",
     "output_type": "stream",
     "text": [
      "It's overpredicted.\n",
      "Monthly Error: 198.46 Period MAE: 102.41\n"
     ]
    },
    {
     "name": "stderr",
     "output_type": "stream",
     "text": [
      "19:43:49 - cmdstanpy - INFO - Chain [1] start processing\n",
      "19:43:49 - cmdstanpy - INFO - Chain [1] start processing\n",
      "19:43:50 - cmdstanpy - INFO - Chain [1] done processing\n",
      "19:43:50 - cmdstanpy - INFO - Chain [1] done processing\n"
     ]
    },
    {
     "name": "stdout",
     "output_type": "stream",
     "text": [
      "It's underpredicted.\n",
      "Monthly Error: 43.12 Period MAE: 21.490000000000002\n",
      "It's overpredicted.\n",
      "Monthly Error: 198.46 Period MAE: 102.41\n"
     ]
    },
    {
     "name": "stderr",
     "output_type": "stream",
     "text": [
      "19:43:51 - cmdstanpy - INFO - Chain [1] start processing\n",
      "19:43:51 - cmdstanpy - INFO - Chain [1] start processing\n",
      "19:43:52 - cmdstanpy - INFO - Chain [1] done processing\n",
      "19:43:52 - cmdstanpy - INFO - Chain [1] done processing\n"
     ]
    },
    {
     "name": "stdout",
     "output_type": "stream",
     "text": [
      "It's overpredicted.\n",
      "Monthly Error: 198.46 Period MAE: 102.41\n",
      "It's underpredicted.\n",
      "Monthly Error: Period MAE: 36.78 37.31\n"
     ]
    },
    {
     "name": "stderr",
     "output_type": "stream",
     "text": [
      "19:43:54 - cmdstanpy - INFO - Chain [1] start processing\n"
     ]
    },
    {
     "name": "stdout",
     "output_type": "stream",
     "text": [
      "It's underpredicted.\n",
      "Monthly Error: 36.78 Period MAE: 37.31\n"
     ]
    },
    {
     "name": "stderr",
     "output_type": "stream",
     "text": [
      "19:43:54 - cmdstanpy - INFO - Chain [1] start processing\n",
      "19:43:54 - cmdstanpy - INFO - Chain [1] done processing\n",
      "19:43:54 - cmdstanpy - INFO - Chain [1] done processing\n"
     ]
    },
    {
     "name": "stdout",
     "output_type": "stream",
     "text": [
      "It's overpredicted.\n",
      "Monthly Error: \n",
      "171.72 Period MAE: 86.47It's underpredicted.\n"
     ]
    },
    {
     "name": "stderr",
     "output_type": "stream",
     "text": [
      "19:43:55 - cmdstanpy - INFO - Chain [1] start processing\n"
     ]
    },
    {
     "name": "stdout",
     "output_type": "stream",
     "text": [
      "Monthly Error: 36.78 Period MAE: 37.31\n"
     ]
    },
    {
     "name": "stderr",
     "output_type": "stream",
     "text": [
      "19:43:56 - cmdstanpy - INFO - Chain [1] start processing\n",
      "19:43:56 - cmdstanpy - INFO - Chain [1] done processing\n",
      "19:43:56 - cmdstanpy - INFO - Chain [1] done processing\n"
     ]
    },
    {
     "name": "stdout",
     "output_type": "stream",
     "text": [
      "It's overpredicted.\n",
      "Monthly Error: 171.72 Period MAE: 86.47\n"
     ]
    },
    {
     "name": "stderr",
     "output_type": "stream",
     "text": [
      "19:43:57 - cmdstanpy - INFO - Chain [1] start processing\n",
      "19:43:57 - cmdstanpy - INFO - Chain [1] start processing\n",
      "19:43:57 - cmdstanpy - INFO - Chain [1] done processing\n",
      "19:43:57 - cmdstanpy - INFO - Chain [1] done processing\n"
     ]
    },
    {
     "name": "stdout",
     "output_type": "stream",
     "text": [
      "It's overpredicted.\n",
      "Monthly Error: 171.72 Period MAE: 86.47\n",
      "It's underpredicted.\n",
      "Monthly Error: 44.99 Period MAE: 46.42\n"
     ]
    },
    {
     "name": "stderr",
     "output_type": "stream",
     "text": [
      "19:43:59 - cmdstanpy - INFO - Chain [1] start processing\n",
      "19:44:00 - cmdstanpy - INFO - Chain [1] start processing\n",
      "19:44:00 - cmdstanpy - INFO - Chain [1] done processing\n",
      "19:44:00 - cmdstanpy - INFO - Chain [1] done processing\n"
     ]
    },
    {
     "name": "stdout",
     "output_type": "stream",
     "text": [
      "It's underpredicted.\n",
      "Monthly Error: 44.99 Period MAE: 46.42\n",
      "It's overpredicted.\n",
      "Monthly Error: 157.65 Period MAE: 64.79\n",
      "It's underpredicted.\n",
      "Monthly Error: 44.99 Period MAE: 46.42\n"
     ]
    },
    {
     "name": "stderr",
     "output_type": "stream",
     "text": [
      "19:44:02 - cmdstanpy - INFO - Chain [1] start processing\n",
      "19:44:02 - cmdstanpy - INFO - Chain [1] start processing\n",
      "19:44:02 - cmdstanpy - INFO - Chain [1] done processing\n",
      "19:44:02 - cmdstanpy - INFO - Chain [1] done processing\n"
     ]
    },
    {
     "name": "stdout",
     "output_type": "stream",
     "text": [
      "It's overpredicted.\n",
      "Monthly Error: 157.65 Period MAE: 64.79\n"
     ]
    },
    {
     "name": "stderr",
     "output_type": "stream",
     "text": [
      "19:44:04 - cmdstanpy - INFO - Chain [1] start processing\n",
      "19:44:04 - cmdstanpy - INFO - Chain [1] start processing\n",
      "19:44:04 - cmdstanpy - INFO - Chain [1] done processing\n"
     ]
    },
    {
     "name": "stdout",
     "output_type": "stream",
     "text": [
      "It's underpredicted.\n",
      "Monthly Error: 43.37"
     ]
    },
    {
     "name": "stderr",
     "output_type": "stream",
     "text": [
      "19:44:04 - cmdstanpy - INFO - Chain [1] done processing\n"
     ]
    },
    {
     "name": "stdout",
     "output_type": "stream",
     "text": [
      " Period MAE: 34.58\n",
      "It's overpredicted.\n",
      "Monthly Error: 157.65 Period MAE: 64.79\n"
     ]
    },
    {
     "name": "stderr",
     "output_type": "stream",
     "text": [
      "19:44:06 - cmdstanpy - INFO - Chain [1] start processing\n",
      "19:44:06 - cmdstanpy - INFO - Chain [1] start processing\n",
      "19:44:07 - cmdstanpy - INFO - Chain [1] done processing\n",
      "19:44:07 - cmdstanpy - INFO - Chain [1] done processing\n"
     ]
    },
    {
     "name": "stdout",
     "output_type": "stream",
     "text": [
      "It's underpredicted.\n",
      "Monthly Error: 43.37 Period MAE: 34.58\n",
      "It's overpredicted.\n",
      "Monthly Error: 148.69 Period MAE: 65.48\n"
     ]
    },
    {
     "name": "stderr",
     "output_type": "stream",
     "text": [
      "19:44:08 - cmdstanpy - INFO - Chain [1] start processing\n",
      "19:44:09 - cmdstanpy - INFO - Chain [1] start processing\n",
      "19:44:09 - cmdstanpy - INFO - Chain [1] done processing\n",
      "19:44:09 - cmdstanpy - INFO - Chain [1] done processing\n"
     ]
    },
    {
     "name": "stdout",
     "output_type": "stream",
     "text": [
      "It's underpredicted.\n",
      "Monthly Error: 43.37 Period MAE: 34.58\n",
      "It's overpredicted.\n",
      "Monthly Error: 148.69 Period MAE: 65.48\n"
     ]
    },
    {
     "name": "stderr",
     "output_type": "stream",
     "text": [
      "19:44:11 - cmdstanpy - INFO - Chain [1] start processing\n",
      "19:44:11 - cmdstanpy - INFO - Chain [1] start processing\n",
      "19:44:11 - cmdstanpy - INFO - Chain [1] done processing\n",
      "19:44:11 - cmdstanpy - INFO - Chain [1] done processing\n"
     ]
    },
    {
     "name": "stdout",
     "output_type": "stream",
     "text": [
      "It's underpredicted.\n",
      "Monthly Error: 53.74 Period MAE: 34.72\n",
      "It's overpredicted.\n",
      "Monthly Error: 148.69 Period MAE: 65.48\n"
     ]
    },
    {
     "name": "stderr",
     "output_type": "stream",
     "text": [
      "19:44:13 - cmdstanpy - INFO - Chain [1] start processing\n",
      "19:44:13 - cmdstanpy - INFO - Chain [1] start processing\n",
      "19:44:13 - cmdstanpy - INFO - Chain [1] done processing\n",
      "19:44:14 - cmdstanpy - INFO - Chain [1] done processing\n"
     ]
    },
    {
     "name": "stdout",
     "output_type": "stream",
     "text": [
      "It's underpredicted.\n",
      "Monthly Error: 53.74 Period MAE: 34.72\n",
      "It's overpredicted.\n",
      "Monthly Error: 207.17 Period MAE: 107.59\n"
     ]
    },
    {
     "name": "stderr",
     "output_type": "stream",
     "text": [
      "19:44:15 - cmdstanpy - INFO - Chain [1] start processing\n",
      "19:44:15 - cmdstanpy - INFO - Chain [1] start processing\n",
      "19:44:16 - cmdstanpy - INFO - Chain [1] done processing\n",
      "19:44:16 - cmdstanpy - INFO - Chain [1] done processing\n"
     ]
    },
    {
     "name": "stdout",
     "output_type": "stream",
     "text": [
      "It's underpredicted.\n",
      "Monthly Error: 53.74 Period MAE: 34.72\n",
      "It's overpredicted.\n",
      "Monthly Error: 207.17 Period MAE: 107.59\n"
     ]
    },
    {
     "name": "stderr",
     "output_type": "stream",
     "text": [
      "19:44:17 - cmdstanpy - INFO - Chain [1] start processing\n",
      "19:44:17 - cmdstanpy - INFO - Chain [1] start processing\n",
      "19:44:17 - cmdstanpy - INFO - Chain [1] done processing\n"
     ]
    },
    {
     "name": "stdout",
     "output_type": "stream",
     "text": [
      "It's underpredicted.\n"
     ]
    },
    {
     "name": "stderr",
     "output_type": "stream",
     "text": [
      "19:44:17 - cmdstanpy - INFO - Chain [1] done processing\n"
     ]
    },
    {
     "name": "stdout",
     "output_type": "stream",
     "text": [
      "Monthly Error: 36.83 Period MAE: 37.04\n",
      "It's overpredicted.\n",
      "Monthly Error: 207.17 Period MAE: 107.59\n"
     ]
    },
    {
     "name": "stderr",
     "output_type": "stream",
     "text": [
      "19:44:19 - cmdstanpy - INFO - Chain [1] start processing\n",
      "19:44:19 - cmdstanpy - INFO - Chain [1] start processing\n",
      "19:44:19 - cmdstanpy - INFO - Chain [1] done processing\n",
      "19:44:20 - cmdstanpy - INFO - Chain [1] done processing\n"
     ]
    },
    {
     "name": "stdout",
     "output_type": "stream",
     "text": [
      "It's underpredicted.\n",
      "Monthly Error: 36.83 Period MAE: 37.04\n",
      "It's overpredicted.\n",
      "Monthly Error: 200.44 Period MAE: 103.76\n"
     ]
    },
    {
     "name": "stderr",
     "output_type": "stream",
     "text": [
      "19:44:21 - cmdstanpy - INFO - Chain [1] start processing\n",
      "19:44:21 - cmdstanpy - INFO - Chain [1] start processing\n",
      "19:44:21 - cmdstanpy - INFO - Chain [1] done processing\n"
     ]
    },
    {
     "name": "stdout",
     "output_type": "stream",
     "text": [
      "It's underpredicted.\n",
      "Monthly Error: 36.83 Period MAE: 37.04\n"
     ]
    },
    {
     "name": "stderr",
     "output_type": "stream",
     "text": [
      "19:44:22 - cmdstanpy - INFO - Chain [1] done processing\n"
     ]
    },
    {
     "name": "stdout",
     "output_type": "stream",
     "text": [
      "It's overpredicted.\n",
      "Monthly Error: 200.44 Period MAE: 103.76\n"
     ]
    },
    {
     "name": "stderr",
     "output_type": "stream",
     "text": [
      "19:44:23 - cmdstanpy - INFO - Chain [1] start processing\n",
      "19:44:23 - cmdstanpy - INFO - Chain [1] start processing\n",
      "19:44:23 - cmdstanpy - INFO - Chain [1] done processing\n",
      "19:44:23 - cmdstanpy - INFO - Chain [1] done processing\n"
     ]
    },
    {
     "name": "stdout",
     "output_type": "stream",
     "text": [
      "It's underpredicted.\n",
      "Monthly Error: 40.82 Period MAE: 27.37\n",
      "It's overpredicted.\n",
      "Monthly Error: 200.44 Period MAE: 103.76\n"
     ]
    },
    {
     "name": "stderr",
     "output_type": "stream",
     "text": [
      "19:44:25 - cmdstanpy - INFO - Chain [1] start processing\n",
      "19:44:25 - cmdstanpy - INFO - Chain [1] start processing\n",
      "19:44:25 - cmdstanpy - INFO - Chain [1] done processing\n",
      "19:44:25 - cmdstanpy - INFO - Chain [1] done processing\n"
     ]
    },
    {
     "name": "stdout",
     "output_type": "stream",
     "text": [
      "It's underpredicted.\n",
      "Monthly Error: 40.82 Period MAE: 27.37\n",
      "It's overpredicted.\n",
      "Monthly Error: 199.55 Period MAE: 102.97\n"
     ]
    },
    {
     "name": "stderr",
     "output_type": "stream",
     "text": [
      "19:44:27 - cmdstanpy - INFO - Chain [1] start processing\n"
     ]
    },
    {
     "name": "stdout",
     "output_type": "stream",
     "text": [
      "It's underpredicted.\n",
      "Monthly Error: 40.82 Period MAE: 27.37\n"
     ]
    },
    {
     "name": "stderr",
     "output_type": "stream",
     "text": [
      "19:44:28 - cmdstanpy - INFO - Chain [1] start processing\n",
      "19:44:28 - cmdstanpy - INFO - Chain [1] done processing\n",
      "19:44:28 - cmdstanpy - INFO - Chain [1] done processing\n"
     ]
    },
    {
     "name": "stdout",
     "output_type": "stream",
     "text": [
      "It's overpredicted.\n",
      "Monthly Error: 199.55 Period MAE: 102.97\n"
     ]
    },
    {
     "name": "stderr",
     "output_type": "stream",
     "text": [
      "19:44:29 - cmdstanpy - INFO - Chain [1] start processing\n",
      "19:44:29 - cmdstanpy - INFO - Chain [1] start processing\n",
      "19:44:29 - cmdstanpy - INFO - Chain [1] done processing\n",
      "19:44:29 - cmdstanpy - INFO - Chain [1] done processing\n"
     ]
    },
    {
     "name": "stdout",
     "output_type": "stream",
     "text": [
      "It's underpredicted.\n",
      "Monthly Error: 37.08 Period MAE: 41.760000000000005\n",
      "It's overpredicted.\n",
      "Monthly Error: 199.55  Period MAE:102.97\n"
     ]
    },
    {
     "name": "stderr",
     "output_type": "stream",
     "text": [
      "19:44:31 - cmdstanpy - INFO - Chain [1] start processing\n",
      "19:44:31 - cmdstanpy - INFO - Chain [1] start processing\n",
      "19:44:31 - cmdstanpy - INFO - Chain [1] done processing\n",
      "19:44:32 - cmdstanpy - INFO - Chain [1] done processing\n"
     ]
    },
    {
     "name": "stdout",
     "output_type": "stream",
     "text": [
      "It's underpredicted.\n",
      "Monthly Error: 37.08 Period MAE: 41.760000000000005\n",
      "It's overpredicted.\n",
      "Monthly Error: 171.72 Period MAE: 86.47\n"
     ]
    },
    {
     "name": "stderr",
     "output_type": "stream",
     "text": [
      "19:44:33 - cmdstanpy - INFO - Chain [1] start processing\n",
      "19:44:33 - cmdstanpy - INFO - Chain [1] start processing\n",
      "19:44:34 - cmdstanpy - INFO - Chain [1] done processing\n"
     ]
    },
    {
     "name": "stdout",
     "output_type": "stream",
     "text": [
      "It's underpredicted.\n"
     ]
    },
    {
     "name": "stderr",
     "output_type": "stream",
     "text": [
      "19:44:34 - cmdstanpy - INFO - Chain [1] done processing\n"
     ]
    },
    {
     "name": "stdout",
     "output_type": "stream",
     "text": [
      "Monthly Error: 37.08 Period MAE: 41.760000000000005\n",
      "It's overpredicted.\n",
      "Monthly Error: 171.72 Period MAE: 86.47\n"
     ]
    },
    {
     "name": "stderr",
     "output_type": "stream",
     "text": [
      "19:44:35 - cmdstanpy - INFO - Chain [1] start processing\n",
      "19:44:35 - cmdstanpy - INFO - Chain [1] start processing\n",
      "19:44:35 - cmdstanpy - INFO - Chain [1] done processing\n",
      "19:44:36 - cmdstanpy - INFO - Chain [1] done processing\n"
     ]
    },
    {
     "name": "stdout",
     "output_type": "stream",
     "text": [
      "It's underpredicted.\n",
      "Monthly Error: 44.99 Period MAE: 46.42\n",
      "It's overpredicted.\n",
      "Monthly Error: 171.72 Period MAE: 86.47\n"
     ]
    },
    {
     "name": "stderr",
     "output_type": "stream",
     "text": [
      "19:44:37 - cmdstanpy - INFO - Chain [1] start processing\n",
      "19:44:37 - cmdstanpy - INFO - Chain [1] start processing\n",
      "19:44:37 - cmdstanpy - INFO - Chain [1] done processing\n",
      "19:44:38 - cmdstanpy - INFO - Chain [1] done processing\n"
     ]
    },
    {
     "name": "stdout",
     "output_type": "stream",
     "text": [
      "It's underpredicted.\n",
      "Monthly Error: 44.99 Period MAE: 46.42\n",
      "It's overpredicted.\n",
      "Monthly Error: 154.24 Period MAE: 62.41\n"
     ]
    },
    {
     "name": "stderr",
     "output_type": "stream",
     "text": [
      "19:44:40 - cmdstanpy - INFO - Chain [1] start processing\n"
     ]
    },
    {
     "name": "stdout",
     "output_type": "stream",
     "text": [
      "It's underpredicted.\n",
      "Monthly Error: "
     ]
    },
    {
     "name": "stderr",
     "output_type": "stream",
     "text": [
      "19:44:40 - cmdstanpy - INFO - Chain [1] start processing\n"
     ]
    },
    {
     "name": "stdout",
     "output_type": "stream",
     "text": [
      "44.99 Period MAE: 46.42\n"
     ]
    },
    {
     "name": "stderr",
     "output_type": "stream",
     "text": [
      "19:44:40 - cmdstanpy - INFO - Chain [1] done processing\n",
      "19:44:40 - cmdstanpy - INFO - Chain [1] done processing\n"
     ]
    },
    {
     "name": "stdout",
     "output_type": "stream",
     "text": [
      "It's overpredicted.\n",
      "Monthly Error: 154.24 Period MAE: 62.41\n"
     ]
    },
    {
     "name": "stderr",
     "output_type": "stream",
     "text": [
      "19:44:42 - cmdstanpy - INFO - Chain [1] start processing\n",
      "19:44:42 - cmdstanpy - INFO - Chain [1] start processing\n",
      "19:44:42 - cmdstanpy - INFO - Chain [1] done processing\n"
     ]
    },
    {
     "name": "stdout",
     "output_type": "stream",
     "text": [
      "It's underpredicted.\n",
      "Monthly Error: 43.33 Period MAE: 34.300000000000004\n"
     ]
    },
    {
     "name": "stderr",
     "output_type": "stream",
     "text": [
      "19:44:42 - cmdstanpy - INFO - Chain [1] done processing\n"
     ]
    },
    {
     "name": "stdout",
     "output_type": "stream",
     "text": [
      "It's overpredicted.\n",
      "Monthly Error: 154.24 Period MAE: 62.41\n"
     ]
    },
    {
     "name": "stderr",
     "output_type": "stream",
     "text": [
      "19:44:44 - cmdstanpy - INFO - Chain [1] start processing\n",
      "19:44:44 - cmdstanpy - INFO - Chain [1] start processing\n",
      "19:44:44 - cmdstanpy - INFO - Chain [1] done processing\n",
      "19:44:44 - cmdstanpy - INFO - Chain [1] done processing\n"
     ]
    },
    {
     "name": "stdout",
     "output_type": "stream",
     "text": [
      "It's underpredicted.\n",
      "Monthly Error: 43.33 Period MAE: 34.300000000000004\n",
      "It's overpredicted.\n",
      "Monthly Error: 160.54 Period MAE: 68.82000000000001\n"
     ]
    },
    {
     "name": "stderr",
     "output_type": "stream",
     "text": [
      "19:44:46 - cmdstanpy - INFO - Chain [1] start processing\n",
      "19:44:46 - cmdstanpy - INFO - Chain [1] start processing\n",
      "19:44:46 - cmdstanpy - INFO - Chain [1] done processing\n",
      "19:44:46 - cmdstanpy - INFO - Chain [1] done processing\n"
     ]
    },
    {
     "name": "stdout",
     "output_type": "stream",
     "text": [
      "It's underpredicted.\n",
      "Monthly Error: 43.33 Period MAE: 34.300000000000004\n",
      "It's overpredicted. \n",
      "Monthly Error:160.54 Period MAE: 68.82000000000001\n"
     ]
    },
    {
     "name": "stderr",
     "output_type": "stream",
     "text": [
      "19:44:48 - cmdstanpy - INFO - Chain [1] start processing\n",
      "19:44:48 - cmdstanpy - INFO - Chain [1] start processing\n",
      "19:44:48 - cmdstanpy - INFO - Chain [1] done processing\n",
      "19:44:48 - cmdstanpy - INFO - Chain [1] done processing\n"
     ]
    },
    {
     "name": "stdout",
     "output_type": "stream",
     "text": [
      "It's underpredicted.\n",
      "Monthly Error: 55.88 Period MAE: 31.419999999999998\n",
      "It's overpredicted.\n",
      "Monthly Error: 160.54 Period MAE: 68.82000000000001\n"
     ]
    },
    {
     "name": "stderr",
     "output_type": "stream",
     "text": [
      "19:44:50 - cmdstanpy - INFO - Chain [1] start processing\n",
      "19:44:50 - cmdstanpy - INFO - Chain [1] start processing\n",
      "19:44:51 - cmdstanpy - INFO - Chain [1] done processing\n",
      "19:44:51 - cmdstanpy - INFO - Chain [1] done processing\n"
     ]
    },
    {
     "name": "stdout",
     "output_type": "stream",
     "text": [
      "It's underpredicted.\n",
      "Monthly Error: 55.88 Period MAE: 31.419999999999998\n",
      "It's overpredicted.\n",
      "Monthly Error: 207.17 Period MAE: 107.59\n"
     ]
    },
    {
     "name": "stderr",
     "output_type": "stream",
     "text": [
      "19:44:52 - cmdstanpy - INFO - Chain [1] start processing\n",
      "19:44:52 - cmdstanpy - INFO - Chain [1] start processing\n"
     ]
    },
    {
     "name": "stdout",
     "output_type": "stream",
     "text": [
      "It's underpredicted.\n",
      "Monthly Error: 55.88 Period MAE: 31.419999999999998\n"
     ]
    },
    {
     "name": "stderr",
     "output_type": "stream",
     "text": [
      "19:44:53 - cmdstanpy - INFO - Chain [1] done processing\n",
      "19:44:53 - cmdstanpy - INFO - Chain [1] done processing\n"
     ]
    },
    {
     "name": "stdout",
     "output_type": "stream",
     "text": [
      "It's overpredicted.\n",
      "Monthly Error: 207.17Period MAE:  \n",
      "107.59"
     ]
    },
    {
     "name": "stderr",
     "output_type": "stream",
     "text": [
      "19:44:54 - cmdstanpy - INFO - Chain [1] start processing\n",
      "19:44:54 - cmdstanpy - INFO - Chain [1] start processing\n",
      "19:44:54 - cmdstanpy - INFO - Chain [1] done processing\n",
      "19:44:54 - cmdstanpy - INFO - Chain [1] done processing\n"
     ]
    },
    {
     "name": "stdout",
     "output_type": "stream",
     "text": [
      "It's underpredicted.\n",
      "Monthly Error: 36.83 Period MAE: 37.04\n",
      "It's overpredicted.\n",
      "Monthly Error: 207.17 Period MAE:107.59 \n"
     ]
    },
    {
     "name": "stderr",
     "output_type": "stream",
     "text": [
      "19:44:56 - cmdstanpy - INFO - Chain [1] start processing\n",
      "19:44:56 - cmdstanpy - INFO - Chain [1] start processing\n",
      "19:44:56 - cmdstanpy - INFO - Chain [1] done processing\n",
      "19:44:56 - cmdstanpy - INFO - Chain [1] done processing\n"
     ]
    },
    {
     "name": "stdout",
     "output_type": "stream",
     "text": [
      "It's overpredicted.\n",
      "Monthly Error: 199.49 Period MAE: 103.17\n",
      "It's underpredicted. \n",
      "Monthly Error: 36.83Period MAE: 37.04\n"
     ]
    },
    {
     "name": "stderr",
     "output_type": "stream",
     "text": [
      "19:44:58 - cmdstanpy - INFO - Chain [1] start processing\n",
      "19:44:58 - cmdstanpy - INFO - Chain [1] done processing\n",
      "19:44:58 - cmdstanpy - INFO - Chain [1] start processing\n",
      "19:44:59 - cmdstanpy - INFO - Chain [1] done processing\n"
     ]
    },
    {
     "name": "stdout",
     "output_type": "stream",
     "text": [
      "It's underpredicted.\n",
      "Monthly Error: 36.83 It's overpredicted.\n",
      "Period MAE:Monthly Error: 199.49  37.04\n",
      "Period MAE: 103.17\n",
      "It's underpredicted.\n",
      " Monthly Error:40.82 Period MAE: 27.41\n"
     ]
    },
    {
     "name": "stderr",
     "output_type": "stream",
     "text": [
      "19:45:00 - cmdstanpy - INFO - Chain [1] start processing\n",
      "19:45:01 - cmdstanpy - INFO - Chain [1] start processing\n",
      "19:45:01 - cmdstanpy - INFO - Chain [1] done processing\n",
      "19:45:01 - cmdstanpy - INFO - Chain [1] done processing\n"
     ]
    },
    {
     "name": "stdout",
     "output_type": "stream",
     "text": [
      "It's overpredicted.\n",
      "Monthly Error: 199.49 Period MAE: 103.17\n"
     ]
    },
    {
     "name": "stderr",
     "output_type": "stream",
     "text": [
      "19:45:02 - cmdstanpy - INFO - Chain [1] start processing\n",
      "19:45:03 - cmdstanpy - INFO - Chain [1] start processing\n",
      "19:45:03 - cmdstanpy - INFO - Chain [1] done processing\n",
      "19:45:03 - cmdstanpy - INFO - Chain [1] done processing\n"
     ]
    },
    {
     "name": "stdout",
     "output_type": "stream",
     "text": [
      "It's underpredicted.\n",
      "Monthly Error: 40.82 Period MAE: 27.41\n",
      "It's overpredicted.\n",
      "Monthly Error: 185.99 Period MAE: \n",
      "94.5"
     ]
    },
    {
     "name": "stderr",
     "output_type": "stream",
     "text": [
      "19:45:05 - cmdstanpy - INFO - Chain [1] start processing\n",
      "19:45:05 - cmdstanpy - INFO - Chain [1] start processing\n",
      "19:45:05 - cmdstanpy - INFO - Chain [1] done processing\n",
      "19:45:05 - cmdstanpy - INFO - Chain [1] done processing\n"
     ]
    },
    {
     "name": "stdout",
     "output_type": "stream",
     "text": [
      "It's overpredicted.\n",
      "Monthly Error: 185.99 Period MAE: 94.5\n",
      "It's underpredicted.\n",
      "Monthly Error: 40.82 Period MAE: 27.41\n",
      "It's underpredicted.\n",
      "Monthly Error: "
     ]
    },
    {
     "name": "stderr",
     "output_type": "stream",
     "text": [
      "19:45:08 - cmdstanpy - INFO - Chain [1] start processing\n"
     ]
    },
    {
     "name": "stdout",
     "output_type": "stream",
     "text": [
      "37.05 Period MAE: 41.68\n"
     ]
    },
    {
     "name": "stderr",
     "output_type": "stream",
     "text": [
      "19:45:08 - cmdstanpy - INFO - Chain [1] start processing\n",
      "19:45:08 - cmdstanpy - INFO - Chain [1] done processing\n",
      "19:45:08 - cmdstanpy - INFO - Chain [1] done processing\n"
     ]
    },
    {
     "name": "stdout",
     "output_type": "stream",
     "text": [
      "It's overpredicted.\n",
      "Monthly Error: 185.99 Period MAE: 94.5\n"
     ]
    },
    {
     "name": "stderr",
     "output_type": "stream",
     "text": [
      "19:45:09 - cmdstanpy - INFO - Chain [1] start processing\n"
     ]
    },
    {
     "name": "stdout",
     "output_type": "stream",
     "text": [
      "It's underpredicted.\n",
      "Monthly Error: 37.05 Period MAE: 41.68\n"
     ]
    },
    {
     "name": "stderr",
     "output_type": "stream",
     "text": [
      "19:45:09 - cmdstanpy - INFO - Chain [1] start processing\n",
      "19:45:10 - cmdstanpy - INFO - Chain [1] done processing\n",
      "19:45:10 - cmdstanpy - INFO - Chain [1] done processing\n"
     ]
    },
    {
     "name": "stdout",
     "output_type": "stream",
     "text": [
      "It's overpredicted.\n",
      "Monthly Error: 171.72 Period MAE: 86.47\n"
     ]
    },
    {
     "name": "stderr",
     "output_type": "stream",
     "text": [
      "19:45:11 - cmdstanpy - INFO - Chain [1] start processing\n",
      "19:45:11 - cmdstanpy - INFO - Chain [1] start processing\n",
      "19:45:11 - cmdstanpy - INFO - Chain [1] done processing\n",
      "19:45:11 - cmdstanpy - INFO - Chain [1] done processing\n"
     ]
    },
    {
     "name": "stdout",
     "output_type": "stream",
     "text": [
      "It's overpredicted.\n",
      "Monthly Error: 171.72 Period MAE: 86.47\n",
      "It's underpredicted.\n",
      "Monthly Error: 37.05 Period MAE: 41.68\n"
     ]
    },
    {
     "name": "stderr",
     "output_type": "stream",
     "text": [
      "19:45:14 - cmdstanpy - INFO - Chain [1] start processing\n",
      "19:45:14 - cmdstanpy - INFO - Chain [1] start processing\n",
      "19:45:14 - cmdstanpy - INFO - Chain [1] done processing\n",
      "19:45:14 - cmdstanpy - INFO - Chain [1] done processing\n"
     ]
    },
    {
     "name": "stdout",
     "output_type": "stream",
     "text": [
      "It's underpredicted.\n",
      "Monthly Error: 44.99 Period MAE: 46.42\n",
      "It's overpredicted.\n",
      "Monthly Error: 171.72 Period MAE: 86.47\n"
     ]
    },
    {
     "name": "stderr",
     "output_type": "stream",
     "text": [
      "19:45:16 - cmdstanpy - INFO - Chain [1] start processing\n"
     ]
    },
    {
     "name": "stdout",
     "output_type": "stream",
     "text": [
      "It's underpredicted.\n",
      "Monthly Error: 44.99 Period MAE: 46.42\n"
     ]
    },
    {
     "name": "stderr",
     "output_type": "stream",
     "text": [
      "19:45:16 - cmdstanpy - INFO - Chain [1] start processing\n",
      "19:45:16 - cmdstanpy - INFO - Chain [1] done processing\n",
      "19:45:17 - cmdstanpy - INFO - Chain [1] done processing\n"
     ]
    },
    {
     "name": "stdout",
     "output_type": "stream",
     "text": [
      "It's overpredicted.\n",
      "Monthly Error: 162.73 Period MAE: 67.74\n"
     ]
    },
    {
     "name": "stderr",
     "output_type": "stream",
     "text": [
      "19:45:18 - cmdstanpy - INFO - Chain [1] start processing\n",
      "19:45:18 - cmdstanpy - INFO - Chain [1] start processing\n",
      "19:45:18 - cmdstanpy - INFO - Chain [1] done processing\n",
      "19:45:18 - cmdstanpy - INFO - Chain [1] done processing\n"
     ]
    },
    {
     "name": "stdout",
     "output_type": "stream",
     "text": [
      "It's underpredicted.\n",
      "Monthly Error: 44.99 Period MAE: 46.42\n",
      "It's overpredicted.\n",
      "Monthly Error: 162.73 67.74Period MAE: \n"
     ]
    },
    {
     "name": "stderr",
     "output_type": "stream",
     "text": [
      "19:45:20 - cmdstanpy - INFO - Chain [1] start processing\n",
      "19:45:20 - cmdstanpy - INFO - Chain [1] start processing\n",
      "19:45:20 - cmdstanpy - INFO - Chain [1] done processing\n",
      "19:45:21 - cmdstanpy - INFO - Chain [1] done processing\n"
     ]
    },
    {
     "name": "stdout",
     "output_type": "stream",
     "text": [
      "It's overpredicted.\n",
      "Monthly Error: 162.73 Period MAE: 67.74\n",
      "It's underpredicted.\n",
      "Monthly Error: 43.1 Period MAE: 34.79\n",
      "It's underpredicted.\n",
      "Monthly Error: "
     ]
    },
    {
     "name": "stderr",
     "output_type": "stream",
     "text": [
      "19:45:23 - cmdstanpy - INFO - Chain [1] start processing\n"
     ]
    },
    {
     "name": "stdout",
     "output_type": "stream",
     "text": [
      "43.1 Period MAE: 34.79\n"
     ]
    },
    {
     "name": "stderr",
     "output_type": "stream",
     "text": [
      "19:45:23 - cmdstanpy - INFO - Chain [1] start processing\n",
      "19:45:23 - cmdstanpy - INFO - Chain [1] done processing\n",
      "19:45:23 - cmdstanpy - INFO - Chain [1] done processing\n"
     ]
    },
    {
     "name": "stdout",
     "output_type": "stream",
     "text": [
      "It's overpredicted.\n",
      "Monthly Error: 147.98 Period MAE: 62.96000000000001\n"
     ]
    },
    {
     "name": "stderr",
     "output_type": "stream",
     "text": [
      "19:45:24 - cmdstanpy - INFO - Chain [1] start processing\n"
     ]
    },
    {
     "name": "stdout",
     "output_type": "stream",
     "text": [
      "It's underpredicted.\n",
      "Monthly Error: 43.1 Period MAE: 34.79\n"
     ]
    },
    {
     "name": "stderr",
     "output_type": "stream",
     "text": [
      "19:45:25 - cmdstanpy - INFO - Chain [1] start processing\n",
      "19:45:25 - cmdstanpy - INFO - Chain [1] done processing\n",
      "19:45:25 - cmdstanpy - INFO - Chain [1] done processing\n"
     ]
    },
    {
     "name": "stdout",
     "output_type": "stream",
     "text": [
      "It's overpredicted.\n",
      "Monthly Error: 147.98 Period MAE: 62.96000000000001\n"
     ]
    },
    {
     "name": "stderr",
     "output_type": "stream",
     "text": [
      "19:45:26 - cmdstanpy - INFO - Chain [1] start processing\n",
      "19:45:27 - cmdstanpy - INFO - Chain [1] done processing\n",
      "19:45:27 - cmdstanpy - INFO - Chain [1] start processing\n",
      "19:45:27 - cmdstanpy - INFO - Chain [1] done processing\n"
     ]
    },
    {
     "name": "stdout",
     "output_type": "stream",
     "text": [
      "It's overpredicted.\n",
      "Monthly Error: 147.98 Period MAE: It's underpredicted.\n",
      "Monthly Error:62.96000000000001 56.15\n",
      " Period MAE: 30.990000000000002\n"
     ]
    },
    {
     "name": "stderr",
     "output_type": "stream",
     "text": [
      "19:45:29 - cmdstanpy - INFO - Chain [1] start processing\n"
     ]
    },
    {
     "name": "stdout",
     "output_type": "stream",
     "text": [
      "It's underpredicted.\n",
      "Monthly Error: 56.15 Period MAE: 30.990000000000002\n"
     ]
    },
    {
     "name": "stderr",
     "output_type": "stream",
     "text": [
      "19:45:29 - cmdstanpy - INFO - Chain [1] start processing\n",
      "19:45:29 - cmdstanpy - INFO - Chain [1] done processing\n",
      "19:45:30 - cmdstanpy - INFO - Chain [1] done processing\n",
      "19:45:31 - cmdstanpy - INFO - Chain [1] start processing\n"
     ]
    },
    {
     "name": "stdout",
     "output_type": "stream",
     "text": [
      "It's overpredicted.\n",
      "Monthly Error: 90.47 Period MAE: 23.26\n",
      "It's underpredicted.\n",
      "Monthly Error: 56.15 Period MAE: 30.990000000000002\n"
     ]
    },
    {
     "name": "stderr",
     "output_type": "stream",
     "text": [
      "19:45:31 - cmdstanpy - INFO - Chain [1] start processing\n",
      "19:45:32 - cmdstanpy - INFO - Chain [1] done processing\n",
      "19:45:32 - cmdstanpy - INFO - Chain [1] done processing\n"
     ]
    },
    {
     "name": "stdout",
     "output_type": "stream",
     "text": [
      "It's overpredicted.\n",
      "Monthly Error:90.47   Period MAE:23.26\n"
     ]
    },
    {
     "name": "stderr",
     "output_type": "stream",
     "text": [
      "19:45:33 - cmdstanpy - INFO - Chain [1] start processing\n",
      "19:45:33 - cmdstanpy - INFO - Chain [1] start processing\n",
      "19:45:33 - cmdstanpy - INFO - Chain [1] done processing\n"
     ]
    },
    {
     "name": "stdout",
     "output_type": "stream",
     "text": [
      "It's underpredicted.\n",
      "Monthly Error: 46.85 Period MAE: 55.08\n"
     ]
    },
    {
     "name": "stderr",
     "output_type": "stream",
     "text": [
      "19:45:34 - cmdstanpy - INFO - Chain [1] done processing\n"
     ]
    },
    {
     "name": "stdout",
     "output_type": "stream",
     "text": [
      "It's overpredicted.\n",
      "Monthly Error: 90.47 Period MAE: 23.26\n"
     ]
    },
    {
     "name": "stderr",
     "output_type": "stream",
     "text": [
      "19:45:35 - cmdstanpy - INFO - Chain [1] start processing\n",
      "19:45:36 - cmdstanpy - INFO - Chain [1] start processing\n",
      "19:45:36 - cmdstanpy - INFO - Chain [1] done processing\n",
      "19:45:36 - cmdstanpy - INFO - Chain [1] done processing\n"
     ]
    },
    {
     "name": "stdout",
     "output_type": "stream",
     "text": [
      "It's underpredicted.\n",
      "Monthly Error: 46.85 Period MAE: 55.08\n",
      "It's overpredicted.\n",
      "Monthly Error: 88.05 Period MAE:\n",
      " 19.49It's underpredicted."
     ]
    },
    {
     "name": "stderr",
     "output_type": "stream",
     "text": [
      "19:45:38 - cmdstanpy - INFO - Chain [1] start processing\n"
     ]
    },
    {
     "name": "stdout",
     "output_type": "stream",
     "text": [
      "\n",
      "Monthly Error: 46.85 Period MAE: 55.08\n"
     ]
    },
    {
     "name": "stderr",
     "output_type": "stream",
     "text": [
      "19:45:38 - cmdstanpy - INFO - Chain [1] start processing\n",
      "19:45:38 - cmdstanpy - INFO - Chain [1] done processing\n",
      "19:45:38 - cmdstanpy - INFO - Chain [1] done processing\n"
     ]
    },
    {
     "name": "stdout",
     "output_type": "stream",
     "text": [
      "It's overpredicted.\n",
      "Monthly Error: 88.05 Period MAE: 19.49\n"
     ]
    },
    {
     "name": "stderr",
     "output_type": "stream",
     "text": [
      "19:45:39 - cmdstanpy - INFO - Chain [1] start processing\n",
      "19:45:40 - cmdstanpy - INFO - Chain [1] start processing\n"
     ]
    },
    {
     "name": "stdout",
     "output_type": "stream",
     "text": [
      "It's underpredicted.\n",
      "Monthly Error: 46.66 Period MAE: 54.949999999999996\n"
     ]
    },
    {
     "name": "stderr",
     "output_type": "stream",
     "text": [
      "19:45:40 - cmdstanpy - INFO - Chain [1] done processing\n",
      "19:45:40 - cmdstanpy - INFO - Chain [1] done processing\n"
     ]
    },
    {
     "name": "stdout",
     "output_type": "stream",
     "text": [
      "It's overpredicted.\n",
      "Monthly Error: 88.05 Period MAE: 19.49\n"
     ]
    },
    {
     "name": "stderr",
     "output_type": "stream",
     "text": [
      "19:45:41 - cmdstanpy - INFO - Chain [1] start processing\n",
      "19:45:42 - cmdstanpy - INFO - Chain [1] start processing\n",
      "19:45:42 - cmdstanpy - INFO - Chain [1] done processing\n",
      "19:45:42 - cmdstanpy - INFO - Chain [1] done processing\n"
     ]
    },
    {
     "name": "stdout",
     "output_type": "stream",
     "text": [
      "It's underpredicted.\n",
      "Monthly Error: 46.66 Period MAE: 54.949999999999996\n",
      "It's overpredicted.\n",
      "Monthly Error: 84.13 Period MAE: 17.37\n"
     ]
    },
    {
     "name": "stderr",
     "output_type": "stream",
     "text": [
      "19:45:44 - cmdstanpy - INFO - Chain [1] start processing\n",
      "19:45:44 - cmdstanpy - INFO - Chain [1] start processing\n"
     ]
    },
    {
     "name": "stdout",
     "output_type": "stream",
     "text": [
      "It's underpredicted.\n",
      "Monthly Error: 46.66 Period MAE: 54.949999999999996\n"
     ]
    },
    {
     "name": "stderr",
     "output_type": "stream",
     "text": [
      "19:45:44 - cmdstanpy - INFO - Chain [1] done processing\n",
      "19:45:45 - cmdstanpy - INFO - Chain [1] done processing\n"
     ]
    },
    {
     "name": "stdout",
     "output_type": "stream",
     "text": [
      "It's overpredicted.\n",
      "Monthly Error: 84.13 It's underpredicted.\n",
      "Monthly Error:Period MAE: 46.65  Period MAE:17.37 \n",
      "54.94\n"
     ]
    },
    {
     "name": "stderr",
     "output_type": "stream",
     "text": [
      "19:45:46 - cmdstanpy - INFO - Chain [1] start processing\n",
      "19:45:46 - cmdstanpy - INFO - Chain [1] start processing\n",
      "19:45:47 - cmdstanpy - INFO - Chain [1] done processing\n",
      "19:45:47 - cmdstanpy - INFO - Chain [1] done processing\n",
      "19:45:48 - cmdstanpy - INFO - Chain [1] start processing\n"
     ]
    },
    {
     "name": "stdout",
     "output_type": "stream",
     "text": [
      "It's overpredicted.\n",
      "Monthly Error: 84.13 Period MAE: 17.37\n"
     ]
    },
    {
     "name": "stderr",
     "output_type": "stream",
     "text": [
      "19:45:49 - cmdstanpy - INFO - Chain [1] start processing\n",
      "19:45:49 - cmdstanpy - INFO - Chain [1] done processing\n"
     ]
    },
    {
     "name": "stdout",
     "output_type": "stream",
     "text": [
      "It's underpredicted.\n",
      "Monthly Error: 46.65 Period MAE: 54.94\n"
     ]
    },
    {
     "name": "stderr",
     "output_type": "stream",
     "text": [
      "19:45:50 - cmdstanpy - INFO - Chain [1] done processing\n",
      "19:45:51 - cmdstanpy - INFO - Chain [1] start processing\n"
     ]
    },
    {
     "name": "stdout",
     "output_type": "stream",
     "text": [
      "It's underpredicted.\n",
      "Monthly Error: 46.65 Period MAE: 54.94\n",
      "It's overpredicted.\n",
      "Monthly Error: 96.48 Period MAE: 22.7\n"
     ]
    },
    {
     "name": "stderr",
     "output_type": "stream",
     "text": [
      "19:45:52 - cmdstanpy - INFO - Chain [1] start processing\n",
      "19:45:52 - cmdstanpy - INFO - Chain [1] done processing\n"
     ]
    },
    {
     "name": "stdout",
     "output_type": "stream",
     "text": [
      "It's underpredicted.\n",
      "Monthly Error: 100.0 "
     ]
    },
    {
     "name": "stderr",
     "output_type": "stream",
     "text": [
      "19:45:53 - cmdstanpy - INFO - Chain [1] start processing\n"
     ]
    },
    {
     "name": "stdout",
     "output_type": "stream",
     "text": [
      "Period MAE: 100.0\n"
     ]
    },
    {
     "name": "stderr",
     "output_type": "stream",
     "text": [
      "19:45:53 - cmdstanpy - INFO - Chain [1] done processing\n",
      "19:45:53 - cmdstanpy - INFO - Chain [1] start processing\n",
      "19:45:53 - cmdstanpy - INFO - Chain [1] done processing\n"
     ]
    },
    {
     "name": "stdout",
     "output_type": "stream",
     "text": [
      "It's overpredicted.\n",
      "Monthly Error: 96.48 Period MAE: 22.7\n"
     ]
    },
    {
     "name": "stderr",
     "output_type": "stream",
     "text": [
      "19:45:55 - cmdstanpy - INFO - Chain [1] start processing\n",
      "19:45:55 - cmdstanpy - INFO - Chain [1] done processing\n"
     ]
    },
    {
     "name": "stdout",
     "output_type": "stream",
     "text": [
      "It's underpredicted.\n",
      "Monthly Error: 100.0It's overpredicted.\n",
      " Monthly Error:Period MAE:  96.48100.0 \n",
      "Period MAE: 22.7\n"
     ]
    },
    {
     "name": "stderr",
     "output_type": "stream",
     "text": [
      "19:45:57 - cmdstanpy - INFO - Chain [1] start processing\n",
      "19:45:57 - cmdstanpy - INFO - Chain [1] done processing\n",
      "19:45:58 - cmdstanpy - INFO - Chain [1] done processing\n"
     ]
    },
    {
     "name": "stdout",
     "output_type": "stream",
     "text": [
      "It's underpredicted.\n",
      "Monthly Error: 100.0 Period MAE: 100.0\n"
     ]
    },
    {
     "name": "stderr",
     "output_type": "stream",
     "text": [
      "19:45:58 - cmdstanpy - INFO - Chain [1] start processing\n",
      "19:45:58 - cmdstanpy - INFO - Chain [1] start processing\n"
     ]
    },
    {
     "name": "stdout",
     "output_type": "stream",
     "text": [
      "It's overpredicted.\n",
      "Monthly Error: 99.17 Period MAE: 27.139999999999997\n"
     ]
    },
    {
     "name": "stderr",
     "output_type": "stream",
     "text": [
      "19:45:59 - cmdstanpy - INFO - Chain [1] done processing\n",
      "19:46:00 - cmdstanpy - INFO - Chain [1] start processing\n",
      "19:46:00 - cmdstanpy - INFO - Chain [1] done processing\n"
     ]
    },
    {
     "name": "stdout",
     "output_type": "stream",
     "text": [
      "It's underpredicted.\n",
      "Monthly Error: 60.07 Period MAE: 75.03999999999999\n",
      "It's overpredicted.\n",
      "Monthly Error: 99.17 Period MAE: 27.139999999999997\n"
     ]
    },
    {
     "name": "stderr",
     "output_type": "stream",
     "text": [
      "19:46:02 - cmdstanpy - INFO - Chain [1] start processing\n",
      "19:46:02 - cmdstanpy - INFO - Chain [1] done processing\n",
      "19:46:03 - cmdstanpy - INFO - Chain [1] done processing\n"
     ]
    },
    {
     "name": "stdout",
     "output_type": "stream",
     "text": [
      "It's overpredicted.\n",
      "Monthly Error: 99.17 Period MAE: 27.139999999999997\n",
      "It's underpredicted.\n"
     ]
    },
    {
     "name": "stderr",
     "output_type": "stream",
     "text": [
      "19:46:04 - cmdstanpy - INFO - Chain [1] start processing\n"
     ]
    },
    {
     "name": "stdout",
     "output_type": "stream",
     "text": [
      "Monthly Error: 60.07 Period MAE: 75.03999999999999\n"
     ]
    },
    {
     "name": "stderr",
     "output_type": "stream",
     "text": [
      "19:46:04 - cmdstanpy - INFO - Chain [1] start processing\n",
      "19:46:04 - cmdstanpy - INFO - Chain [1] done processing\n",
      "19:46:06 - cmdstanpy - INFO - Chain [1] start processing\n",
      "19:46:07 - cmdstanpy - INFO - Chain [1] done processing\n"
     ]
    },
    {
     "name": "stdout",
     "output_type": "stream",
     "text": [
      "It's overpredicted.\n",
      "Monthly Error: 97.88 Period MAE: 25.45\n",
      "It's underpredicted.\n",
      "Monthly Error: 60.07 Period MAE: 75.03999999999999\n"
     ]
    },
    {
     "name": "stderr",
     "output_type": "stream",
     "text": [
      "19:46:08 - cmdstanpy - INFO - Chain [1] start processing\n",
      "19:46:08 - cmdstanpy - INFO - Chain [1] done processing\n",
      "19:46:08 - cmdstanpy - INFO - Chain [1] done processing\n"
     ]
    },
    {
     "name": "stdout",
     "output_type": "stream",
     "text": [
      "It's underpredicted.\n",
      "Monthly Error: 51.89 Period MAE: 45.879999999999995\n",
      "It's overpredicted.\n",
      "Monthly Error: 97.88 Period MAE: 25.45\n"
     ]
    },
    {
     "name": "stderr",
     "output_type": "stream",
     "text": [
      "19:46:09 - cmdstanpy - INFO - Chain [1] start processing\n",
      "19:46:09 - cmdstanpy - INFO - Chain [1] start processing\n",
      "19:46:10 - cmdstanpy - INFO - Chain [1] done processing\n",
      "19:46:11 - cmdstanpy - INFO - Chain [1] start processing\n",
      "19:46:12 - cmdstanpy - INFO - Chain [1] done processing\n",
      "19:46:12 - cmdstanpy - INFO - Chain [1] done processing\n"
     ]
    },
    {
     "name": "stdout",
     "output_type": "stream",
     "text": [
      "It's underpredicted.\n",
      "Monthly Error: 51.89 Period MAE: 45.879999999999995\n",
      "It's overpredicted.\n",
      "Monthly Error: 97.88 Period MAE: 25.45\n",
      "It's overpredicted.\n",
      "Monthly Error: 90.47 Period MAE: 23.26\n"
     ]
    },
    {
     "name": "stderr",
     "output_type": "stream",
     "text": [
      "19:46:13 - cmdstanpy - INFO - Chain [1] start processing\n",
      "19:46:13 - cmdstanpy - INFO - Chain [1] done processing\n",
      "19:46:14 - cmdstanpy - INFO - Chain [1] start processing\n"
     ]
    },
    {
     "name": "stdout",
     "output_type": "stream",
     "text": [
      "It's underpredicted."
     ]
    },
    {
     "name": "stderr",
     "output_type": "stream",
     "text": [
      "19:46:14 - cmdstanpy - INFO - Chain [1] start processing\n"
     ]
    },
    {
     "name": "stdout",
     "output_type": "stream",
     "text": [
      "\n",
      "Monthly Error: 51.89 Period MAE: 45.879999999999995\n"
     ]
    },
    {
     "name": "stderr",
     "output_type": "stream",
     "text": [
      "19:46:14 - cmdstanpy - INFO - Chain [1] done processing\n",
      "19:46:15 - cmdstanpy - INFO - Chain [1] done processing\n",
      "19:46:16 - cmdstanpy - INFO - Chain [1] start processing\n"
     ]
    },
    {
     "name": "stdout",
     "output_type": "stream",
     "text": [
      "It's overpredicted.\n",
      "Monthly Error: 90.47 Period MAE: 23.26\n"
     ]
    },
    {
     "name": "stderr",
     "output_type": "stream",
     "text": [
      "19:46:17 - cmdstanpy - INFO - Chain [1] start processing\n",
      "19:46:17 - cmdstanpy - INFO - Chain [1] done processing\n",
      "19:46:17 - cmdstanpy - INFO - Chain [1] done processing\n"
     ]
    },
    {
     "name": "stdout",
     "output_type": "stream",
     "text": [
      "It's overpredicted.\n",
      "Monthly Error: 90.47 Period MAE: 23.26\n",
      "It's underpredicted.\n",
      "Monthly Error: 46.85 Period MAE: 55.08\n",
      "It's underpredicted.\n",
      "Monthly Error: 46.85 Period MAE: 55.08\n"
     ]
    },
    {
     "name": "stderr",
     "output_type": "stream",
     "text": [
      "19:46:20 - cmdstanpy - INFO - Chain [1] start processing\n",
      "19:46:20 - cmdstanpy - INFO - Chain [1] start processing\n",
      "19:46:20 - cmdstanpy - INFO - Chain [1] done processing\n",
      "19:46:21 - cmdstanpy - INFO - Chain [1] done processing\n",
      "19:46:21 - cmdstanpy - INFO - Chain [1] start processing\n"
     ]
    },
    {
     "name": "stdout",
     "output_type": "stream",
     "text": [
      "It's underpredicted.\n",
      "Monthly Error: 46.85 Period MAE: 55.08\n",
      "It's overpredicted.\n",
      "Monthly Error: 87.93 Period MAE: 18.66\n"
     ]
    },
    {
     "name": "stderr",
     "output_type": "stream",
     "text": [
      "19:46:22 - cmdstanpy - INFO - Chain [1] start processing\n",
      "19:46:22 - cmdstanpy - INFO - Chain [1] done processing\n",
      "19:46:22 - cmdstanpy - INFO - Chain [1] done processing\n"
     ]
    },
    {
     "name": "stdout",
     "output_type": "stream",
     "text": [
      "It's overpredicted.\n",
      "Monthly Error: 87.93 Period MAE: 18.66"
     ]
    },
    {
     "name": "stderr",
     "output_type": "stream",
     "text": [
      "19:46:23 - cmdstanpy - INFO - Chain [1] start processing\n"
     ]
    },
    {
     "name": "stdout",
     "output_type": "stream",
     "text": [
      "\n"
     ]
    },
    {
     "name": "stderr",
     "output_type": "stream",
     "text": [
      "19:46:24 - cmdstanpy - INFO - Chain [1] start processing\n",
      "19:46:24 - cmdstanpy - INFO - Chain [1] done processing\n",
      "19:46:24 - cmdstanpy - INFO - Chain [1] done processing\n"
     ]
    },
    {
     "name": "stdout",
     "output_type": "stream",
     "text": [
      "It's underpredicted.\n",
      "Monthly Error: 46.83 Period MAE: 55.08\n",
      "It's overpredicted.\n",
      "Monthly Error: 87.93 Period MAE: 18.66\n"
     ]
    },
    {
     "name": "stderr",
     "output_type": "stream",
     "text": [
      "19:46:26 - cmdstanpy - INFO - Chain [1] start processing\n",
      "19:46:26 - cmdstanpy - INFO - Chain [1] start processing\n",
      "19:46:26 - cmdstanpy - INFO - Chain [1] done processing\n"
     ]
    },
    {
     "name": "stdout",
     "output_type": "stream",
     "text": [
      "It's underpredicted.\n",
      "Monthly Error: 46.83 Period MAE: 55.08\n"
     ]
    },
    {
     "name": "stderr",
     "output_type": "stream",
     "text": [
      "19:46:27 - cmdstanpy - INFO - Chain [1] done processing\n"
     ]
    },
    {
     "name": "stdout",
     "output_type": "stream",
     "text": [
      "It's overpredicted.\n",
      "Monthly Error:"
     ]
    },
    {
     "name": "stderr",
     "output_type": "stream",
     "text": [
      "19:46:28 - cmdstanpy - INFO - Chain [1] start processing\n"
     ]
    },
    {
     "name": "stdout",
     "output_type": "stream",
     "text": [
      " 77.32 Period MAE: 11.129999999999999\n",
      "It's underpredicted.\n",
      "Monthly Error: 46.83 Period MAE: 55.08\n"
     ]
    },
    {
     "name": "stderr",
     "output_type": "stream",
     "text": [
      "19:46:29 - cmdstanpy - INFO - Chain [1] start processing\n",
      "19:46:29 - cmdstanpy - INFO - Chain [1] done processing\n",
      "19:46:30 - cmdstanpy - INFO - Chain [1] done processing\n",
      "19:46:30 - cmdstanpy - INFO - Chain [1] start processing\n"
     ]
    },
    {
     "name": "stdout",
     "output_type": "stream",
     "text": [
      "It's underpredicted.\n",
      "Monthly Error: 46.81 Period MAE: 55.059999999999995\n",
      "It's overpredicted.\n",
      "Monthly Error: 77.32Period MAE:  11.129999999999999\n"
     ]
    },
    {
     "name": "stderr",
     "output_type": "stream",
     "text": [
      "19:46:31 - cmdstanpy - INFO - Chain [1] start processing\n",
      "19:46:31 - cmdstanpy - INFO - Chain [1] done processing\n",
      "19:46:32 - cmdstanpy - INFO - Chain [1] done processing\n",
      "19:46:32 - cmdstanpy - INFO - Chain [1] start processing\n"
     ]
    },
    {
     "name": "stdout",
     "output_type": "stream",
     "text": [
      "It's overpredicted.\n",
      "Monthly Error: 77.32 Period MAE: 11.129999999999999\n"
     ]
    },
    {
     "name": "stderr",
     "output_type": "stream",
     "text": [
      "19:46:33 - cmdstanpy - INFO - Chain [1] start processing\n",
      "19:46:33 - cmdstanpy - INFO - Chain [1] done processing\n"
     ]
    },
    {
     "name": "stdout",
     "output_type": "stream",
     "text": [
      "It's underpredicted.\n",
      "Monthly Error: 46.81 Period MAE: 55.059999999999995\n"
     ]
    },
    {
     "name": "stderr",
     "output_type": "stream",
     "text": [
      "19:46:35 - cmdstanpy - INFO - Chain [1] done processing\n"
     ]
    },
    {
     "name": "stdout",
     "output_type": "stream",
     "text": [
      "It's overpredicted.\n",
      "Monthly Error: 96.48 Period MAE: 22.7\n"
     ]
    },
    {
     "name": "stderr",
     "output_type": "stream",
     "text": [
      "19:46:36 - cmdstanpy - INFO - Chain [1] start processing\n",
      "19:46:36 - cmdstanpy - INFO - Chain [1] start processing\n",
      "19:46:36 - cmdstanpy - INFO - Chain [1] done processing\n"
     ]
    },
    {
     "name": "stdout",
     "output_type": "stream",
     "text": [
      "It's underpredicted.\n",
      "Monthly Error: 46.81 Period MAE: 55.059999999999995\n",
      "It's underpredicted.\n",
      "Monthly Error: 100.0 Period MAE: 100.0\n"
     ]
    },
    {
     "name": "stderr",
     "output_type": "stream",
     "text": [
      "19:46:38 - cmdstanpy - INFO - Chain [1] start processing\n",
      "19:46:38 - cmdstanpy - INFO - Chain [1] start processing\n",
      "19:46:38 - cmdstanpy - INFO - Chain [1] done processing\n",
      "19:46:38 - cmdstanpy - INFO - Chain [1] done processing\n"
     ]
    },
    {
     "name": "stdout",
     "output_type": "stream",
     "text": [
      "It's overpredicted.\n",
      "Monthly Error: 96.48 Period MAE: 22.7\n",
      "It's underpredicted.\n",
      "Monthly Error: 100.0 Period MAE: 100.0\n"
     ]
    },
    {
     "name": "stderr",
     "output_type": "stream",
     "text": [
      "19:46:41 - cmdstanpy - INFO - Chain [1] start processing\n",
      "19:46:41 - cmdstanpy - INFO - Chain [1] done processing\n",
      "19:46:41 - cmdstanpy - INFO - Chain [1] start processing\n",
      "19:46:41 - cmdstanpy - INFO - Chain [1] done processing\n"
     ]
    },
    {
     "name": "stdout",
     "output_type": "stream",
     "text": [
      "It's overpredicted.\n",
      "Monthly Error: 96.48 Period MAE: 22.7\n",
      "It's underpredicted.\n",
      "Monthly Error: 100.0 Period MAE: 100.0\n"
     ]
    },
    {
     "name": "stderr",
     "output_type": "stream",
     "text": [
      "19:46:43 - cmdstanpy - INFO - Chain [1] start processing\n",
      "19:46:43 - cmdstanpy - INFO - Chain [1] start processing\n",
      "19:46:44 - cmdstanpy - INFO - Chain [1] done processing\n",
      "19:46:44 - cmdstanpy - INFO - Chain [1] done processing\n"
     ]
    },
    {
     "name": "stdout",
     "output_type": "stream",
     "text": [
      "It's overpredicted.\n",
      "Monthly Error: 99.81 Period MAE: 26.05\n",
      "It's underpredicted.\n",
      "Monthly Error: 56.0 Period MAE: 72.5\n"
     ]
    },
    {
     "name": "stderr",
     "output_type": "stream",
     "text": [
      "19:46:46 - cmdstanpy - INFO - Chain [1] done processing\n",
      "19:46:46 - cmdstanpy - INFO - Chain [1] start processing\n",
      "19:46:46 - cmdstanpy - INFO - Chain [1] start processing\n",
      "19:46:47 - cmdstanpy - INFO - Chain [1] done processing\n"
     ]
    },
    {
     "name": "stdout",
     "output_type": "stream",
     "text": [
      "It's overpredicted.\n",
      "Monthly Error: 99.81 Period MAE: 26.05\n",
      "It's underpredicted.\n",
      "Monthly Error: 56.0 Period MAE: 72.5\n"
     ]
    },
    {
     "name": "stderr",
     "output_type": "stream",
     "text": [
      "19:46:49 - cmdstanpy - INFO - Chain [1] start processing\n",
      "19:46:49 - cmdstanpy - INFO - Chain [1] start processing\n",
      "19:46:49 - cmdstanpy - INFO - Chain [1] done processing\n",
      "19:46:50 - cmdstanpy - INFO - Chain [1] done processing\n"
     ]
    },
    {
     "name": "stdout",
     "output_type": "stream",
     "text": [
      "It's overpredicted.\n",
      "Monthly Error: 99.81 Period MAE: 26.05\n"
     ]
    },
    {
     "name": "stderr",
     "output_type": "stream",
     "text": [
      "19:46:51 - cmdstanpy - INFO - Chain [1] done processing\n"
     ]
    },
    {
     "name": "stdout",
     "output_type": "stream",
     "text": [
      "It's underpredicted.\n",
      "Monthly Error: 56.0 Period MAE: 72.5\n"
     ]
    },
    {
     "name": "stderr",
     "output_type": "stream",
     "text": [
      "19:46:52 - cmdstanpy - INFO - Chain [1] start processing\n"
     ]
    },
    {
     "name": "stdout",
     "output_type": "stream",
     "text": [
      "It's overpredicted.\n",
      "Monthly Error: 98.25 Period MAE: 24.779999999999998"
     ]
    },
    {
     "name": "stderr",
     "output_type": "stream",
     "text": [
      "19:46:52 - cmdstanpy - INFO - Chain [1] start processing\n"
     ]
    },
    {
     "name": "stdout",
     "output_type": "stream",
     "text": [
      "\n"
     ]
    },
    {
     "name": "stderr",
     "output_type": "stream",
     "text": [
      "19:46:52 - cmdstanpy - INFO - Chain [1] done processing\n",
      "19:46:54 - cmdstanpy - INFO - Chain [1] start processing\n"
     ]
    },
    {
     "name": "stdout",
     "output_type": "stream",
     "text": [
      "It's underpredicted.\n",
      "Monthly Error: 100.0 Period MAE: 100.0\n"
     ]
    },
    {
     "name": "stderr",
     "output_type": "stream",
     "text": [
      "19:46:54 - cmdstanpy - INFO - Chain [1] start processing\n",
      "19:46:54 - cmdstanpy - INFO - Chain [1] done processing\n",
      "19:46:54 - cmdstanpy - INFO - Chain [1] done processing\n"
     ]
    },
    {
     "name": "stdout",
     "output_type": "stream",
     "text": [
      "It's overpredicted.\n",
      "Monthly Error: 98.25 Period MAE: 24.779999999999998\n"
     ]
    },
    {
     "name": "stderr",
     "output_type": "stream",
     "text": [
      "19:46:56 - cmdstanpy - INFO - Chain [1] done processing\n",
      "19:46:57 - cmdstanpy - INFO - Chain [1] start processing\n"
     ]
    },
    {
     "name": "stdout",
     "output_type": "stream",
     "text": [
      "It's overpredicted.\n",
      "Monthly Error: 98.25 Period MAE:It's underpredicted. 24.779999999999998\n",
      "\n",
      "Monthly Error: 100.0 Period MAE: 100.0\n"
     ]
    },
    {
     "name": "stderr",
     "output_type": "stream",
     "text": [
      "19:46:58 - cmdstanpy - INFO - Chain [1] start processing\n",
      "19:46:58 - cmdstanpy - INFO - Chain [1] done processing\n",
      "19:46:58 - cmdstanpy - INFO - Chain [1] done processing\n"
     ]
    },
    {
     "name": "stdout",
     "output_type": "stream",
     "text": [
      "It's underpredicted.\n",
      "Monthly Error: 100.0 Period MAE: 100.0\n"
     ]
    },
    {
     "name": "stderr",
     "output_type": "stream",
     "text": [
      "19:46:59 - cmdstanpy - INFO - Chain [1] start processing\n"
     ]
    },
    {
     "name": "stdout",
     "output_type": "stream",
     "text": [
      "It's overpredicted.\n",
      "Monthly Error: 90.47 Period MAE: 23.26\n"
     ]
    },
    {
     "name": "stderr",
     "output_type": "stream",
     "text": [
      "19:46:59 - cmdstanpy - INFO - Chain [1] start processing\n",
      "19:46:59 - cmdstanpy - INFO - Chain [1] done processing\n",
      "19:47:00 - cmdstanpy - INFO - Chain [1] done processing\n",
      "19:47:01 - cmdstanpy - INFO - Chain [1] start processing\n"
     ]
    },
    {
     "name": "stdout",
     "output_type": "stream",
     "text": [
      "It's overpredicted.\n",
      "Monthly Error: 90.47 Period MAE: 23.26\n"
     ]
    },
    {
     "name": "stderr",
     "output_type": "stream",
     "text": [
      "19:47:02 - cmdstanpy - INFO - Chain [1] start processing\n",
      "19:47:02 - cmdstanpy - INFO - Chain [1] done processing\n"
     ]
    },
    {
     "name": "stdout",
     "output_type": "stream",
     "text": [
      "It's underpredicted.\n",
      "Monthly Error:"
     ]
    },
    {
     "name": "stderr",
     "output_type": "stream",
     "text": [
      "19:47:03 - cmdstanpy - INFO - Chain [1] done processing\n"
     ]
    },
    {
     "name": "stdout",
     "output_type": "stream",
     "text": [
      " 46.85 Period MAE: 55.08\n",
      "It's overpredicted.\n",
      "Monthly Error: 90.47 Period MAE: 23.26\n"
     ]
    },
    {
     "name": "stderr",
     "output_type": "stream",
     "text": [
      "19:47:05 - cmdstanpy - INFO - Chain [1] start processing\n",
      "19:47:05 - cmdstanpy - INFO - Chain [1] start processing\n"
     ]
    },
    {
     "name": "stdout",
     "output_type": "stream",
     "text": [
      "It's underpredicted.\n",
      "Monthly Error: 46.85"
     ]
    },
    {
     "name": "stderr",
     "output_type": "stream",
     "text": [
      "19:47:05 - cmdstanpy - INFO - Chain [1] done processing\n"
     ]
    },
    {
     "name": "stdout",
     "output_type": "stream",
     "text": [
      " Period MAE: 55.08\n"
     ]
    },
    {
     "name": "stderr",
     "output_type": "stream",
     "text": [
      "19:47:06 - cmdstanpy - INFO - Chain [1] done processing\n"
     ]
    },
    {
     "name": "stdout",
     "output_type": "stream",
     "text": [
      "It's underpredicted.\n",
      "Monthly Error: 46.85 Period MAE: 55.08\n"
     ]
    },
    {
     "name": "stderr",
     "output_type": "stream",
     "text": [
      "19:47:06 - cmdstanpy - INFO - Chain [1] start processing\n"
     ]
    },
    {
     "name": "stdout",
     "output_type": "stream",
     "text": [
      "It's overpredicted.\n",
      "Monthly Error: 87.98 Period MAE: 18.96\n"
     ]
    },
    {
     "name": "stderr",
     "output_type": "stream",
     "text": [
      "19:47:07 - cmdstanpy - INFO - Chain [1] start processing\n",
      "19:47:07 - cmdstanpy - INFO - Chain [1] done processing\n",
      "19:47:07 - cmdstanpy - INFO - Chain [1] done processing\n"
     ]
    },
    {
     "name": "stdout",
     "output_type": "stream",
     "text": [
      "It's overpredicted.\n",
      "Monthly Error: 87.98 Period MAE: 18.96\n"
     ]
    },
    {
     "name": "stderr",
     "output_type": "stream",
     "text": [
      "19:47:08 - cmdstanpy - INFO - Chain [1] start processing\n",
      "19:47:09 - cmdstanpy - INFO - Chain [1] start processing\n",
      "19:47:09 - cmdstanpy - INFO - Chain [1] done processing\n",
      "19:47:09 - cmdstanpy - INFO - Chain [1] done processing\n"
     ]
    },
    {
     "name": "stdout",
     "output_type": "stream",
     "text": [
      "It's underpredicted.\n",
      "Monthly Error: 46.82 Period MAE: 55.06999999999999\n",
      "It's overpredicted.\n",
      "Monthly Error: 87.98 Period MAE: 18.96\n"
     ]
    },
    {
     "name": "stderr",
     "output_type": "stream",
     "text": [
      "19:47:11 - cmdstanpy - INFO - Chain [1] start processing\n",
      "19:47:11 - cmdstanpy - INFO - Chain [1] start processing\n"
     ]
    },
    {
     "name": "stdout",
     "output_type": "stream",
     "text": [
      "It's underpredicted.\n",
      "Monthly Error: 46.82 Period MAE: 55.06999999999999\n"
     ]
    },
    {
     "name": "stderr",
     "output_type": "stream",
     "text": [
      "19:47:12 - cmdstanpy - INFO - Chain [1] done processing\n",
      "19:47:12 - cmdstanpy - INFO - Chain [1] done processing\n",
      "19:47:13 - cmdstanpy - INFO - Chain [1] start processing\n"
     ]
    },
    {
     "name": "stdout",
     "output_type": "stream",
     "text": [
      "It's overpredicted.\n",
      "Monthly Error:It's underpredicted.\n",
      " Monthly Error:77.62 Period MAE:  11.4346.82\n",
      " Period MAE: 55.06999999999999\n"
     ]
    },
    {
     "name": "stderr",
     "output_type": "stream",
     "text": [
      "19:47:14 - cmdstanpy - INFO - Chain [1] start processing\n",
      "19:47:14 - cmdstanpy - INFO - Chain [1] done processing\n",
      "19:47:14 - cmdstanpy - INFO - Chain [1] done processing\n",
      "19:47:15 - cmdstanpy - INFO - Chain [1] start processing\n"
     ]
    },
    {
     "name": "stdout",
     "output_type": "stream",
     "text": [
      "It's overpredicted.\n",
      "Monthly Error: 77.62 Period MAE: 11.43\n"
     ]
    },
    {
     "name": "stderr",
     "output_type": "stream",
     "text": [
      "19:47:16 - cmdstanpy - INFO - Chain [1] start processing\n"
     ]
    },
    {
     "name": "stdout",
     "output_type": "stream",
     "text": [
      "It's underpredicted.\n",
      "Monthly Error: 46.84 Period MAE: 55.08"
     ]
    },
    {
     "name": "stderr",
     "output_type": "stream",
     "text": [
      "19:47:16 - cmdstanpy - INFO - Chain [1] done processing\n"
     ]
    },
    {
     "name": "stdout",
     "output_type": "stream",
     "text": [
      "\n"
     ]
    },
    {
     "name": "stderr",
     "output_type": "stream",
     "text": [
      "19:47:16 - cmdstanpy - INFO - Chain [1] done processing\n"
     ]
    },
    {
     "name": "stdout",
     "output_type": "stream",
     "text": [
      "It's overpredicted.\n",
      "Monthly Error: 77.62 Period MAE: 11.43\n"
     ]
    },
    {
     "name": "stderr",
     "output_type": "stream",
     "text": [
      "19:47:18 - cmdstanpy - INFO - Chain [1] start processing\n",
      "19:47:18 - cmdstanpy - INFO - Chain [1] start processing\n",
      "19:47:18 - cmdstanpy - INFO - Chain [1] done processing\n"
     ]
    },
    {
     "name": "stdout",
     "output_type": "stream",
     "text": [
      "It's underpredicted.\n",
      "Monthly Error: 46.84 Period MAE: 55.08\n"
     ]
    },
    {
     "name": "stderr",
     "output_type": "stream",
     "text": [
      "19:47:21 - cmdstanpy - INFO - Chain [1] done processing\n",
      "19:47:21 - cmdstanpy - INFO - Chain [1] start processing\n"
     ]
    },
    {
     "name": "stdout",
     "output_type": "stream",
     "text": [
      "It's underpredicted.\n",
      "Monthly Error: 46.84 Period MAE: 55.08\n"
     ]
    },
    {
     "name": "stderr",
     "output_type": "stream",
     "text": [
      "19:47:22 - cmdstanpy - INFO - Chain [1] start processing\n"
     ]
    },
    {
     "name": "stdout",
     "output_type": "stream",
     "text": [
      "It's overpredicted.\n",
      "Monthly Error: 96.48 Period MAE: 22.7\n"
     ]
    },
    {
     "name": "stderr",
     "output_type": "stream",
     "text": [
      "19:47:22 - cmdstanpy - INFO - Chain [1] done processing\n"
     ]
    },
    {
     "name": "stdout",
     "output_type": "stream",
     "text": [
      "It's underpredicted.\n",
      "Monthly Error: 100.0 Period MAE: 100.0\n"
     ]
    },
    {
     "name": "stderr",
     "output_type": "stream",
     "text": [
      "19:47:23 - cmdstanpy - INFO - Chain [1] start processing\n",
      "19:47:24 - cmdstanpy - INFO - Chain [1] done processing\n",
      "19:47:24 - cmdstanpy - INFO - Chain [1] start processing\n",
      "19:47:24 - cmdstanpy - INFO - Chain [1] done processing\n"
     ]
    },
    {
     "name": "stdout",
     "output_type": "stream",
     "text": [
      "It's overpredicted.\n",
      "Monthly Error: 96.48 Period MAE: 22.7\n"
     ]
    },
    {
     "name": "stderr",
     "output_type": "stream",
     "text": [
      "19:47:26 - cmdstanpy - INFO - Chain [1] start processing\n"
     ]
    },
    {
     "name": "stdout",
     "output_type": "stream",
     "text": [
      "It's underpredicted.\n",
      "Monthly Error: 100.0"
     ]
    },
    {
     "name": "stderr",
     "output_type": "stream",
     "text": [
      "19:47:26 - cmdstanpy - INFO - Chain [1] done processing\n"
     ]
    },
    {
     "name": "stdout",
     "output_type": "stream",
     "text": [
      " Period MAE: 100.0\n"
     ]
    },
    {
     "name": "stderr",
     "output_type": "stream",
     "text": [
      "19:47:27 - cmdstanpy - INFO - Chain [1] start processing\n"
     ]
    },
    {
     "name": "stdout",
     "output_type": "stream",
     "text": [
      "It's overpredicted.\n",
      "Monthly Error: 96.48 Period MAE: 22.7\n"
     ]
    },
    {
     "name": "stderr",
     "output_type": "stream",
     "text": [
      "19:47:27 - cmdstanpy - INFO - Chain [1] done processing\n"
     ]
    },
    {
     "name": "stdout",
     "output_type": "stream",
     "text": [
      "It's underpredicted.\n",
      "Monthly Error: 100.0 Period MAE: 100.0\n"
     ]
    },
    {
     "name": "stderr",
     "output_type": "stream",
     "text": [
      "19:47:28 - cmdstanpy - INFO - Chain [1] start processing\n",
      "19:47:28 - cmdstanpy - INFO - Chain [1] done processing\n",
      "19:47:29 - cmdstanpy - INFO - Chain [1] start processing\n",
      "19:47:29 - cmdstanpy - INFO - Chain [1] done processing\n"
     ]
    },
    {
     "name": "stdout",
     "output_type": "stream",
     "text": [
      "It's overpredicted.\n",
      "Monthly Error: 100.31 Period MAE: 26.840000000000003\n"
     ]
    },
    {
     "name": "stderr",
     "output_type": "stream",
     "text": [
      "19:47:31 - cmdstanpy - INFO - Chain [1] done processing\n",
      "19:47:31 - cmdstanpy - INFO - Chain [1] start processing\n"
     ]
    },
    {
     "name": "stdout",
     "output_type": "stream",
     "text": [
      "It's underpredicted.\n",
      "Monthly Error: 55.95 Period MAE: 72.46000000000001\n",
      "It's overpredicted.\n",
      "Monthly Error: 100.31 Period MAE: 26.840000000000003\n"
     ]
    },
    {
     "name": "stderr",
     "output_type": "stream",
     "text": [
      "19:47:32 - cmdstanpy - INFO - Chain [1] start processing\n",
      "19:47:32 - cmdstanpy - INFO - Chain [1] done processing\n",
      "19:47:33 - cmdstanpy - INFO - Chain [1] done processing\n",
      "19:47:33 - cmdstanpy - INFO - Chain [1] start processing\n"
     ]
    },
    {
     "name": "stdout",
     "output_type": "stream",
     "text": [
      "It's underpredicted.\n",
      "Monthly Error: 55.95 Period MAE: 72.46000000000001\n"
     ]
    },
    {
     "name": "stderr",
     "output_type": "stream",
     "text": [
      "19:47:34 - cmdstanpy - INFO - Chain [1] start processing\n"
     ]
    },
    {
     "name": "stdout",
     "output_type": "stream",
     "text": [
      "It's overpredicted.\n",
      "Monthly Error:"
     ]
    },
    {
     "name": "stderr",
     "output_type": "stream",
     "text": [
      "19:47:34 - cmdstanpy - INFO - Chain [1] done processing\n"
     ]
    },
    {
     "name": "stdout",
     "output_type": "stream",
     "text": [
      " 100.31 Period MAE: 26.840000000000003\n"
     ]
    },
    {
     "name": "stderr",
     "output_type": "stream",
     "text": [
      "19:47:35 - cmdstanpy - INFO - Chain [1] done processing\n",
      "19:47:36 - cmdstanpy - INFO - Chain [1] start processing\n"
     ]
    },
    {
     "name": "stdout",
     "output_type": "stream",
     "text": [
      "It's overpredicted.\n",
      "Monthly Error: 96.06 Period MAE: 24.43\n"
     ]
    },
    {
     "name": "stderr",
     "output_type": "stream",
     "text": [
      "19:47:37 - cmdstanpy - INFO - Chain [1] start processing\n"
     ]
    },
    {
     "name": "stdout",
     "output_type": "stream",
     "text": [
      "It's underpredicted."
     ]
    },
    {
     "name": "stderr",
     "output_type": "stream",
     "text": [
      "19:47:37 - cmdstanpy - INFO - Chain [1] done processing\n"
     ]
    },
    {
     "name": "stdout",
     "output_type": "stream",
     "text": [
      "\n",
      "Monthly Error: 55.95 Period MAE: 72.46000000000001\n"
     ]
    },
    {
     "name": "stderr",
     "output_type": "stream",
     "text": [
      "19:47:38 - cmdstanpy - INFO - Chain [1] done processing\n",
      "19:47:38 - cmdstanpy - INFO - Chain [1] start processing\n"
     ]
    },
    {
     "name": "stdout",
     "output_type": "stream",
     "text": [
      "It's overpredicted.\n",
      "Monthly Error: 96.06 It's underpredicted.\n",
      "Monthly Error: 100.0 Period MAE:Period MAE: 24.43 \n",
      "100.0\n"
     ]
    },
    {
     "name": "stderr",
     "output_type": "stream",
     "text": [
      "19:47:39 - cmdstanpy - INFO - Chain [1] start processing\n",
      "19:47:39 - cmdstanpy - INFO - Chain [1] done processing\n",
      "19:47:40 - cmdstanpy - INFO - Chain [1] start processing\n",
      "19:47:40 - cmdstanpy - INFO - Chain [1] done processing\n"
     ]
    },
    {
     "name": "stdout",
     "output_type": "stream",
     "text": [
      "It's underpredicted.\n",
      "Monthly Error: 100.0 Period MAE: 100.0\n",
      "It's overpredicted.\n",
      "Monthly Error: 96.06 Period MAE: 24.43\n"
     ]
    },
    {
     "name": "stderr",
     "output_type": "stream",
     "text": [
      "19:47:41 - cmdstanpy - INFO - Chain [1] done processing\n",
      "19:47:42 - cmdstanpy - INFO - Chain [1] start processing\n",
      "19:47:42 - cmdstanpy - INFO - Chain [1] done processing\n"
     ]
    },
    {
     "name": "stdout",
     "output_type": "stream",
     "text": [
      "It's overpredicted.\n",
      "Monthly Error: 90.47 Period MAE:\n",
      " 23.26"
     ]
    },
    {
     "name": "stderr",
     "output_type": "stream",
     "text": [
      "19:47:43 - cmdstanpy - INFO - Chain [1] start processing\n",
      "19:47:43 - cmdstanpy - INFO - Chain [1] start processing\n",
      "19:47:43 - cmdstanpy - INFO - Chain [1] done processing\n"
     ]
    },
    {
     "name": "stdout",
     "output_type": "stream",
     "text": [
      "It's underpredicted.\n",
      "Monthly Error: 100.0 Period MAE: 100.0\n"
     ]
    },
    {
     "name": "stderr",
     "output_type": "stream",
     "text": [
      "19:47:44 - cmdstanpy - INFO - Chain [1] done processing\n"
     ]
    },
    {
     "name": "stdout",
     "output_type": "stream",
     "text": [
      "It's overpredicted.\n",
      "Monthly Error: 90.47 Period MAE: 23.26\n"
     ]
    },
    {
     "name": "stderr",
     "output_type": "stream",
     "text": [
      "19:47:45 - cmdstanpy - INFO - Chain [1] start processing\n",
      "19:47:45 - cmdstanpy - INFO - Chain [1] start processing\n",
      "19:47:46 - cmdstanpy - INFO - Chain [1] done processing\n",
      "19:47:46 - cmdstanpy - INFO - Chain [1] done processing\n"
     ]
    },
    {
     "name": "stdout",
     "output_type": "stream",
     "text": [
      "It's underpredicted.\n",
      "Monthly Error: 46.85 Period MAE: 55.08\n",
      "It's overpredicted.\n",
      "Monthly Error: 90.47 Period MAE: 23.26\n",
      "It's underpredicted.\n",
      "Monthly Error: 46.85 Period MAE: 55.08\n"
     ]
    },
    {
     "name": "stderr",
     "output_type": "stream",
     "text": [
      "19:47:48 - cmdstanpy - INFO - Chain [1] start processing\n",
      "19:47:48 - cmdstanpy - INFO - Chain [1] start processing\n",
      "19:47:48 - cmdstanpy - INFO - Chain [1] done processing\n",
      "19:47:49 - cmdstanpy - INFO - Chain [1] done processing\n",
      "19:47:49 - cmdstanpy - INFO - Chain [1] start processing\n"
     ]
    },
    {
     "name": "stdout",
     "output_type": "stream",
     "text": [
      "It's overpredicted.\n",
      "Monthly Error: 86.28 Period MAE: 17.98\n",
      "It's underpredicted.\n",
      "Monthly Error: 46.85 Period MAE: 55.08\n"
     ]
    },
    {
     "name": "stderr",
     "output_type": "stream",
     "text": [
      "19:47:50 - cmdstanpy - INFO - Chain [1] start processing\n",
      "19:47:50 - cmdstanpy - INFO - Chain [1] done processing\n",
      "19:47:50 - cmdstanpy - INFO - Chain [1] done processing\n"
     ]
    },
    {
     "name": "stdout",
     "output_type": "stream",
     "text": [
      "It's overpredicted.\n",
      "Monthly Error: 86.28 Period MAE: 17.98\n"
     ]
    },
    {
     "name": "stderr",
     "output_type": "stream",
     "text": [
      "19:47:51 - cmdstanpy - INFO - Chain [1] start processing\n",
      "19:47:52 - cmdstanpy - INFO - Chain [1] start processing\n",
      "19:47:52 - cmdstanpy - INFO - Chain [1] done processing\n",
      "19:47:52 - cmdstanpy - INFO - Chain [1] done processing\n"
     ]
    },
    {
     "name": "stdout",
     "output_type": "stream",
     "text": [
      "It's underpredicted.\n",
      "Monthly Error: 46.83 Period MAE: 55.08\n",
      "It's overpredicted.\n",
      "Monthly Error: 86.28 Period MAE: 17.98\n"
     ]
    },
    {
     "name": "stderr",
     "output_type": "stream",
     "text": [
      "19:47:54 - cmdstanpy - INFO - Chain [1] start processing\n",
      "19:47:55 - cmdstanpy - INFO - Chain [1] start processing\n",
      "19:47:55 - cmdstanpy - INFO - Chain [1] done processing\n"
     ]
    },
    {
     "name": "stdout",
     "output_type": "stream",
     "text": [
      "It's underpredicted.\n",
      "Monthly Error: 46.83 Period MAE: 55.08\n"
     ]
    },
    {
     "name": "stderr",
     "output_type": "stream",
     "text": [
      "19:47:56 - cmdstanpy - INFO - Chain [1] done processing\n"
     ]
    },
    {
     "name": "stdout",
     "output_type": "stream",
     "text": [
      "It's underpredicted.\n",
      "Monthly Error: 46.83 Period MAE: 55.08\n",
      "It's overpredicted.\n",
      "Monthly Error: 78.87 Period MAE: 12.139999999999999\n"
     ]
    },
    {
     "name": "stderr",
     "output_type": "stream",
     "text": [
      "19:47:57 - cmdstanpy - INFO - Chain [1] start processing\n",
      "19:47:57 - cmdstanpy - INFO - Chain [1] start processing\n",
      "19:47:57 - cmdstanpy - INFO - Chain [1] done processing\n",
      "19:47:58 - cmdstanpy - INFO - Chain [1] done processing\n",
      "19:47:58 - cmdstanpy - INFO - Chain [1] start processing\n"
     ]
    },
    {
     "name": "stdout",
     "output_type": "stream",
     "text": [
      "It's overpredicted.\n",
      "Monthly Error: 78.87 Period MAE: 12.139999999999999\n",
      "It's underpredicted.\n",
      "Monthly Error: 46.84 Period MAE: 55.08\n"
     ]
    },
    {
     "name": "stderr",
     "output_type": "stream",
     "text": [
      "19:47:59 - cmdstanpy - INFO - Chain [1] start processing\n",
      "19:48:00 - cmdstanpy - INFO - Chain [1] done processing\n",
      "19:48:00 - cmdstanpy - INFO - Chain [1] done processing\n"
     ]
    },
    {
     "name": "stdout",
     "output_type": "stream",
     "text": [
      "It's overpredicted.\n",
      "Monthly Error: 78.87 Period MAE: 12.139999999999999\n"
     ]
    },
    {
     "name": "stderr",
     "output_type": "stream",
     "text": [
      "19:48:01 - cmdstanpy - INFO - Chain [1] start processing\n",
      "19:48:01 - cmdstanpy - INFO - Chain [1] start processing\n",
      "19:48:02 - cmdstanpy - INFO - Chain [1] done processing\n"
     ]
    },
    {
     "name": "stdout",
     "output_type": "stream",
     "text": [
      "It's underpredicted.\n",
      "Monthly Error: 46.84 Period MAE: 55.08\n"
     ]
    },
    {
     "name": "stderr",
     "output_type": "stream",
     "text": [
      "19:48:04 - cmdstanpy - INFO - Chain [1] start processing\n",
      "19:48:04 - cmdstanpy - INFO - Chain [1] done processing\n"
     ]
    },
    {
     "name": "stdout",
     "output_type": "stream",
     "text": [
      "It's underpredicted.\n",
      "Monthly Error: 46.84 Period MAE:It's overpredicted. \n",
      "Monthly Error: 55.08\n",
      "96.48 Period MAE: 22.7\n"
     ]
    },
    {
     "name": "stderr",
     "output_type": "stream",
     "text": [
      "19:48:06 - cmdstanpy - INFO - Chain [1] start processing\n",
      "19:48:06 - cmdstanpy - INFO - Chain [1] done processing\n",
      "19:48:07 - cmdstanpy - INFO - Chain [1] start processing\n",
      "19:48:07 - cmdstanpy - INFO - Chain [1] done processing\n"
     ]
    },
    {
     "name": "stdout",
     "output_type": "stream",
     "text": [
      "It's underpredicted.\n",
      "Monthly Error: 100.0 Period MAE: 100.0\n"
     ]
    },
    {
     "name": "stderr",
     "output_type": "stream",
     "text": [
      "19:48:07 - cmdstanpy - INFO - Chain [1] start processing\n",
      "19:48:08 - cmdstanpy - INFO - Chain [1] done processing\n"
     ]
    },
    {
     "name": "stdout",
     "output_type": "stream",
     "text": [
      "It's overpredicted.\n",
      "Monthly Error: 96.48 Period MAE: 22.7\n"
     ]
    },
    {
     "name": "stderr",
     "output_type": "stream",
     "text": [
      "19:48:09 - cmdstanpy - INFO - Chain [1] start processing\n",
      "19:48:09 - cmdstanpy - INFO - Chain [1] done processing\n"
     ]
    },
    {
     "name": "stdout",
     "output_type": "stream",
     "text": [
      "It's underpredicted.\n",
      "Monthly Error: 100.0 Period MAE: 100.0\n",
      "It's overpredicted.\n",
      "Monthly Error: 96.48 Period MAE: 22.7\n"
     ]
    },
    {
     "name": "stderr",
     "output_type": "stream",
     "text": [
      "19:48:10 - cmdstanpy - INFO - Chain [1] start processing\n",
      "19:48:11 - cmdstanpy - INFO - Chain [1] done processing\n",
      "19:48:11 - cmdstanpy - INFO - Chain [1] done processing\n",
      "19:48:12 - cmdstanpy - INFO - Chain [1] start processing\n"
     ]
    },
    {
     "name": "stdout",
     "output_type": "stream",
     "text": [
      "It's overpredicted.It's underpredicted.\n",
      "\n",
      "Monthly Error: Monthly Error:100.0  98.47 Period MAE:Period MAE:  100.026.6\n",
      "\n"
     ]
    },
    {
     "name": "stderr",
     "output_type": "stream",
     "text": [
      "19:48:13 - cmdstanpy - INFO - Chain [1] start processing\n",
      "19:48:13 - cmdstanpy - INFO - Chain [1] done processing\n",
      "19:48:14 - cmdstanpy - INFO - Chain [1] done processing\n",
      "19:48:14 - cmdstanpy - INFO - Chain [1] start processing\n"
     ]
    },
    {
     "name": "stdout",
     "output_type": "stream",
     "text": [
      "It's overpredicted.\n",
      "Monthly Error: 98.47 Period MAE: 26.6\n"
     ]
    },
    {
     "name": "stderr",
     "output_type": "stream",
     "text": [
      "19:48:15 - cmdstanpy - INFO - Chain [1] start processing\n"
     ]
    },
    {
     "name": "stdout",
     "output_type": "stream",
     "text": [
      "It's underpredicted.\n",
      "Monthly Error: 55.95 "
     ]
    },
    {
     "name": "stderr",
     "output_type": "stream",
     "text": [
      "19:48:15 - cmdstanpy - INFO - Chain [1] done processing\n"
     ]
    },
    {
     "name": "stdout",
     "output_type": "stream",
     "text": [
      "Period MAE: 72.46000000000001\n"
     ]
    },
    {
     "name": "stderr",
     "output_type": "stream",
     "text": [
      "19:48:16 - cmdstanpy - INFO - Chain [1] done processing\n"
     ]
    },
    {
     "name": "stdout",
     "output_type": "stream",
     "text": [
      "It's overpredicted.\n",
      "Monthly Error: 98.47 Period MAE: 26.6\n"
     ]
    },
    {
     "name": "stderr",
     "output_type": "stream",
     "text": [
      "19:48:17 - cmdstanpy - INFO - Chain [1] start processing\n",
      "19:48:17 - cmdstanpy - INFO - Chain [1] start processing\n"
     ]
    },
    {
     "name": "stdout",
     "output_type": "stream",
     "text": [
      "It's underpredicted."
     ]
    },
    {
     "name": "stderr",
     "output_type": "stream",
     "text": [
      "19:48:17 - cmdstanpy - INFO - Chain [1] done processing\n"
     ]
    },
    {
     "name": "stdout",
     "output_type": "stream",
     "text": [
      "\n",
      "Monthly Error: 55.95 Period MAE: 72.46000000000001\n"
     ]
    },
    {
     "name": "stderr",
     "output_type": "stream",
     "text": [
      "19:48:19 - cmdstanpy - INFO - Chain [1] start processing\n",
      "19:48:19 - cmdstanpy - INFO - Chain [1] done processing\n"
     ]
    },
    {
     "name": "stdout",
     "output_type": "stream",
     "text": [
      "It's underpredicted.\n",
      "Monthly Error: 55.95 Period MAE: 72.46000000000001\n",
      "It's overpredicted.\n",
      "Monthly Error: 97.89 Period MAE: 24.63\n"
     ]
    },
    {
     "name": "stderr",
     "output_type": "stream",
     "text": [
      "19:48:21 - cmdstanpy - INFO - Chain [1] start processing\n",
      "19:48:21 - cmdstanpy - INFO - Chain [1] done processing\n",
      "19:48:22 - cmdstanpy - INFO - Chain [1] done processing\n",
      "19:48:22 - cmdstanpy - INFO - Chain [1] start processing\n"
     ]
    },
    {
     "name": "stdout",
     "output_type": "stream",
     "text": [
      "It's underpredicted.\n",
      "Monthly Error: 100.0 Period MAE: 100.0\n",
      "It's overpredicted.\n",
      "Monthly Error: 97.89 Period MAE: 24.63\n"
     ]
    },
    {
     "name": "stderr",
     "output_type": "stream",
     "text": [
      "19:48:23 - cmdstanpy - INFO - Chain [1] start processing\n",
      "19:48:24 - cmdstanpy - INFO - Chain [1] done processing\n",
      "19:48:25 - cmdstanpy - INFO - Chain [1] start processing\n",
      "19:48:25 - cmdstanpy - INFO - Chain [1] done processing\n",
      "19:48:26 - cmdstanpy - INFO - Chain [1] done processing\n"
     ]
    },
    {
     "name": "stdout",
     "output_type": "stream",
     "text": [
      "It's underpredicted.\n",
      "Monthly Error: 100.0 Period MAE: 100.0\n",
      "It's overpredicted.\n",
      "Monthly Error: 97.89 Period MAE: 24.63\n"
     ]
    },
    {
     "name": "stderr",
     "output_type": "stream",
     "text": [
      "19:48:26 - cmdstanpy - INFO - Chain [1] start processing\n"
     ]
    },
    {
     "name": "stdout",
     "output_type": "stream",
     "text": [
      "It's overpredicted.\n",
      "Monthly Error: 86.39 Period MAE: 19.52\n"
     ]
    },
    {
     "name": "stderr",
     "output_type": "stream",
     "text": [
      "19:48:27 - cmdstanpy - INFO - Chain [1] done processing\n",
      "19:48:27 - cmdstanpy - INFO - Chain [1] start processing\n"
     ]
    },
    {
     "name": "stdout",
     "output_type": "stream",
     "text": [
      "It's underpredicted."
     ]
    },
    {
     "name": "stderr",
     "output_type": "stream",
     "text": [
      "19:48:28 - cmdstanpy - INFO - Chain [1] start processing\n"
     ]
    },
    {
     "name": "stdout",
     "output_type": "stream",
     "text": [
      "\n",
      "Monthly Error: 100.0 Period MAE: 100.0\n"
     ]
    },
    {
     "name": "stderr",
     "output_type": "stream",
     "text": [
      "19:48:28 - cmdstanpy - INFO - Chain [1] done processing\n",
      "19:48:29 - cmdstanpy - INFO - Chain [1] done processing\n",
      "19:48:29 - cmdstanpy - INFO - Chain [1] start processing\n"
     ]
    },
    {
     "name": "stdout",
     "output_type": "stream",
     "text": [
      "It's overpredicted.\n",
      "Monthly Error: 86.39 Period MAE: 19.52\n"
     ]
    },
    {
     "name": "stderr",
     "output_type": "stream",
     "text": [
      "19:48:30 - cmdstanpy - INFO - Chain [1] start processing\n",
      "19:48:30 - cmdstanpy - INFO - Chain [1] done processing\n",
      "19:48:30 - cmdstanpy - INFO - Chain [1] done processing\n"
     ]
    },
    {
     "name": "stdout",
     "output_type": "stream",
     "text": [
      "It's underpredicted.\n",
      "Monthly Error: 38.15 Period MAE: 46.46\n",
      "It's overpredicted.\n",
      "Monthly Error: 86.39 Period MAE: 19.52\n",
      "It's underpredicted.\n",
      "Monthly Error:"
     ]
    },
    {
     "name": "stderr",
     "output_type": "stream",
     "text": [
      "19:48:32 - cmdstanpy - INFO - Chain [1] start processing\n"
     ]
    },
    {
     "name": "stdout",
     "output_type": "stream",
     "text": [
      " 38.15 Period MAE: 46.46\n"
     ]
    },
    {
     "name": "stderr",
     "output_type": "stream",
     "text": [
      "19:48:32 - cmdstanpy - INFO - Chain [1] start processing\n",
      "19:48:33 - cmdstanpy - INFO - Chain [1] done processing\n",
      "19:48:33 - cmdstanpy - INFO - Chain [1] done processing\n",
      "19:48:34 - cmdstanpy - INFO - Chain [1] start processing\n"
     ]
    },
    {
     "name": "stdout",
     "output_type": "stream",
     "text": [
      "It's underpredicted.\n",
      "Monthly Error: 38.15 Period MAE: It's overpredicted.46.46\n",
      "Monthly Error: \n",
      "86.05 Period MAE: 16.6\n"
     ]
    },
    {
     "name": "stderr",
     "output_type": "stream",
     "text": [
      "19:48:35 - cmdstanpy - INFO - Chain [1] start processing\n",
      "19:48:35 - cmdstanpy - INFO - Chain [1] done processing\n",
      "19:48:35 - cmdstanpy - INFO - Chain [1] done processing\n"
     ]
    },
    {
     "name": "stdout",
     "output_type": "stream",
     "text": [
      "It's overpredicted.\n",
      "Monthly Error: 86.05 Period MAE: 16.6\n"
     ]
    },
    {
     "name": "stderr",
     "output_type": "stream",
     "text": [
      "19:48:36 - cmdstanpy - INFO - Chain [1] start processing\n",
      "19:48:36 - cmdstanpy - INFO - Chain [1] start processing\n",
      "19:48:36 - cmdstanpy - INFO - Chain [1] done processing\n",
      "19:48:37 - cmdstanpy - INFO - Chain [1] done processing\n"
     ]
    },
    {
     "name": "stdout",
     "output_type": "stream",
     "text": [
      "It's underpredicted.\n",
      "Monthly Error: 38.85 Period MAE: 46.78\n",
      "It's overpredicted.\n",
      "Monthly Error: 86.05 Period MAE: 16.6\n"
     ]
    },
    {
     "name": "stderr",
     "output_type": "stream",
     "text": [
      "19:48:39 - cmdstanpy - INFO - Chain [1] start processing\n",
      "19:48:39 - cmdstanpy - INFO - Chain [1] start processing\n"
     ]
    },
    {
     "name": "stdout",
     "output_type": "stream",
     "text": [
      "It's underpredicted.\n",
      "Monthly Error: 38.85 Period MAE: 46.78\n"
     ]
    },
    {
     "name": "stderr",
     "output_type": "stream",
     "text": [
      "19:48:39 - cmdstanpy - INFO - Chain [1] done processing\n",
      "19:48:40 - cmdstanpy - INFO - Chain [1] done processing\n"
     ]
    },
    {
     "name": "stdout",
     "output_type": "stream",
     "text": [
      "It's underpredicted.\n",
      "Monthly Error: It's overpredicted.38.85\n",
      " Monthly Error:Period MAE: 46.78 \n",
      "82.3 Period MAE: 15.329999999999998\n"
     ]
    },
    {
     "name": "stderr",
     "output_type": "stream",
     "text": [
      "19:48:41 - cmdstanpy - INFO - Chain [1] start processing\n",
      "19:48:41 - cmdstanpy - INFO - Chain [1] start processing\n",
      "19:48:41 - cmdstanpy - INFO - Chain [1] done processing\n",
      "19:48:42 - cmdstanpy - INFO - Chain [1] done processing\n",
      "19:48:42 - cmdstanpy - INFO - Chain [1] start processing\n"
     ]
    },
    {
     "name": "stdout",
     "output_type": "stream",
     "text": [
      "It's overpredicted.\n",
      "Monthly Error: 82.3 Period MAE: 15.329999999999998\n"
     ]
    },
    {
     "name": "stderr",
     "output_type": "stream",
     "text": [
      "19:48:44 - cmdstanpy - INFO - Chain [1] start processing\n",
      "19:48:44 - cmdstanpy - INFO - Chain [1] done processing\n"
     ]
    },
    {
     "name": "stdout",
     "output_type": "stream",
     "text": [
      "It's underpredicted.\n",
      "Monthly Error: 55.4"
     ]
    },
    {
     "name": "stderr",
     "output_type": "stream",
     "text": [
      "19:48:44 - cmdstanpy - INFO - Chain [1] done processing\n"
     ]
    },
    {
     "name": "stdout",
     "output_type": "stream",
     "text": [
      " Period MAE: 62.33\n",
      "It's overpredicted.\n",
      "Monthly Error: 82.3 Period MAE: 15.329999999999998\n"
     ]
    },
    {
     "name": "stderr",
     "output_type": "stream",
     "text": [
      "19:48:45 - cmdstanpy - INFO - Chain [1] start processing\n",
      "19:48:46 - cmdstanpy - INFO - Chain [1] start processing\n",
      "19:48:46 - cmdstanpy - INFO - Chain [1] done processing\n"
     ]
    },
    {
     "name": "stdout",
     "output_type": "stream",
     "text": [
      "It's underpredicted.\n",
      "Monthly Error: 55.4 Period MAE: 62.33\n"
     ]
    },
    {
     "name": "stderr",
     "output_type": "stream",
     "text": [
      "19:48:46 - cmdstanpy - INFO - Chain [1] done processing\n"
     ]
    },
    {
     "name": "stdout",
     "output_type": "stream",
     "text": [
      "It's underpredicted.\n",
      "Monthly Error: 76.89 Period MAE: 1.43\n"
     ]
    },
    {
     "name": "stderr",
     "output_type": "stream",
     "text": [
      "19:48:48 - cmdstanpy - INFO - Chain [1] start processing\n",
      "19:48:48 - cmdstanpy - INFO - Chain [1] start processing\n",
      "19:48:48 - cmdstanpy - INFO - Chain [1] done processing\n"
     ]
    },
    {
     "name": "stdout",
     "output_type": "stream",
     "text": [
      "It's underpredicted.\n",
      "Monthly Error: 55.4 Period MAE: 62.33\n"
     ]
    },
    {
     "name": "stderr",
     "output_type": "stream",
     "text": [
      "19:48:49 - cmdstanpy - INFO - Chain [1] done processing\n"
     ]
    },
    {
     "name": "stdout",
     "output_type": "stream",
     "text": [
      "It's underpredicted.\n",
      "Monthly Error: 76.89 Period MAE: 1.43\n"
     ]
    },
    {
     "name": "stderr",
     "output_type": "stream",
     "text": [
      "19:48:50 - cmdstanpy - INFO - Chain [1] start processing\n"
     ]
    },
    {
     "name": "stdout",
     "output_type": "stream",
     "text": [
      "It's underpredicted.\n",
      "Monthly Error: 100.0 Period MAE: 100.0\n"
     ]
    },
    {
     "name": "stderr",
     "output_type": "stream",
     "text": [
      "19:48:50 - cmdstanpy - INFO - Chain [1] start processing\n",
      "19:48:50 - cmdstanpy - INFO - Chain [1] done processing\n",
      "19:48:51 - cmdstanpy - INFO - Chain [1] done processing\n"
     ]
    },
    {
     "name": "stdout",
     "output_type": "stream",
     "text": [
      "It's underpredicted.\n"
     ]
    },
    {
     "name": "stderr",
     "output_type": "stream",
     "text": [
      "19:48:52 - cmdstanpy - INFO - Chain [1] start processing\n"
     ]
    },
    {
     "name": "stdout",
     "output_type": "stream",
     "text": [
      "Monthly Error: 76.89 Period MAE: 1.43\n"
     ]
    },
    {
     "name": "stderr",
     "output_type": "stream",
     "text": [
      "19:48:52 - cmdstanpy - INFO - Chain [1] start processing\n",
      "19:48:52 - cmdstanpy - INFO - Chain [1] done processing\n"
     ]
    },
    {
     "name": "stdout",
     "output_type": "stream",
     "text": [
      "It's underpredicted.\n",
      "Monthly Error: 100.0 Period MAE: 100.0\n"
     ]
    },
    {
     "name": "stderr",
     "output_type": "stream",
     "text": [
      "19:48:52 - cmdstanpy - INFO - Chain [1] done processing\n"
     ]
    },
    {
     "name": "stdout",
     "output_type": "stream",
     "text": [
      "It's overpredicted.\n",
      "Monthly Error: 90.15\n",
      "6.0 Period MAE: "
     ]
    },
    {
     "name": "stderr",
     "output_type": "stream",
     "text": [
      "19:48:54 - cmdstanpy - INFO - Chain [1] start processing\n",
      "19:48:54 - cmdstanpy - INFO - Chain [1] start processing\n",
      "19:48:54 - cmdstanpy - INFO - Chain [1] done processing\n"
     ]
    },
    {
     "name": "stdout",
     "output_type": "stream",
     "text": [
      "It's underpredicted.\n",
      "Monthly Error: 100.0 Period MAE: 100.0\n"
     ]
    },
    {
     "name": "stderr",
     "output_type": "stream",
     "text": [
      "19:48:55 - cmdstanpy - INFO - Chain [1] done processing\n"
     ]
    },
    {
     "name": "stdout",
     "output_type": "stream",
     "text": [
      "It's overpredicted.\n",
      "Monthly Error: 90.15 Period MAE: 6.0\n"
     ]
    },
    {
     "name": "stderr",
     "output_type": "stream",
     "text": [
      "19:48:56 - cmdstanpy - INFO - Chain [1] start processing\n",
      "19:48:57 - cmdstanpy - INFO - Chain [1] start processing\n",
      "19:48:57 - cmdstanpy - INFO - Chain [1] done processing\n"
     ]
    },
    {
     "name": "stdout",
     "output_type": "stream",
     "text": [
      "It's underpredicted.\n",
      "Monthly Error: 60.1 Period MAE: 75.06\n"
     ]
    },
    {
     "name": "stderr",
     "output_type": "stream",
     "text": [
      "19:48:57 - cmdstanpy - INFO - Chain [1] done processing\n"
     ]
    },
    {
     "name": "stdout",
     "output_type": "stream",
     "text": [
      "It's overpredicted.\n",
      "Monthly Error: 90.15 Period MAE: 6.0\n"
     ]
    },
    {
     "name": "stderr",
     "output_type": "stream",
     "text": [
      "19:48:58 - cmdstanpy - INFO - Chain [1] start processing\n",
      "19:48:59 - cmdstanpy - INFO - Chain [1] start processing\n",
      "19:48:59 - cmdstanpy - INFO - Chain [1] done processing\n"
     ]
    },
    {
     "name": "stdout",
     "output_type": "stream",
     "text": [
      "It's underpredicted.\n",
      "Monthly Error: 60.1 Period MAE: 75.06\n"
     ]
    },
    {
     "name": "stderr",
     "output_type": "stream",
     "text": [
      "19:49:00 - cmdstanpy - INFO - Chain [1] done processing\n",
      "19:49:00 - cmdstanpy - INFO - Chain [1] start processing\n"
     ]
    },
    {
     "name": "stdout",
     "output_type": "stream",
     "text": [
      "It's overpredicted.\n",
      "Monthly Error: 84.33 Period MAE: 4.97\n"
     ]
    },
    {
     "name": "stderr",
     "output_type": "stream",
     "text": [
      "19:49:01 - cmdstanpy - INFO - Chain [1] start processing\n"
     ]
    },
    {
     "name": "stdout",
     "output_type": "stream",
     "text": [
      "It's underpredicted.\n",
      "Monthly Error: 60.1 Period MAE:"
     ]
    },
    {
     "name": "stderr",
     "output_type": "stream",
     "text": [
      "19:49:02 - cmdstanpy - INFO - Chain [1] done processing\n"
     ]
    },
    {
     "name": "stdout",
     "output_type": "stream",
     "text": [
      " 75.06\n"
     ]
    },
    {
     "name": "stderr",
     "output_type": "stream",
     "text": [
      "19:49:03 - cmdstanpy - INFO - Chain [1] done processing\n",
      "19:49:03 - cmdstanpy - INFO - Chain [1] start processing\n"
     ]
    },
    {
     "name": "stdout",
     "output_type": "stream",
     "text": [
      "It's overpredicted.\n",
      "Monthly Error: 84.33 Period MAE: 4.97\n"
     ]
    },
    {
     "name": "stderr",
     "output_type": "stream",
     "text": [
      "19:49:04 - cmdstanpy - INFO - Chain [1] start processing\n"
     ]
    },
    {
     "name": "stdout",
     "output_type": "stream",
     "text": [
      "It's underpredicted.\n",
      "Monthly Error: 100.0 Period MAE: 100.0\n"
     ]
    },
    {
     "name": "stderr",
     "output_type": "stream",
     "text": [
      "19:49:05 - cmdstanpy - INFO - Chain [1] done processing\n",
      "19:49:05 - cmdstanpy - INFO - Chain [1] done processing\n"
     ]
    },
    {
     "name": "stdout",
     "output_type": "stream",
     "text": [
      "It's overpredicted.\n",
      "Monthly Error:"
     ]
    },
    {
     "name": "stderr",
     "output_type": "stream",
     "text": [
      "19:49:06 - cmdstanpy - INFO - Chain [1] start processing\n"
     ]
    },
    {
     "name": "stdout",
     "output_type": "stream",
     "text": [
      " 84.33 Period MAE: 4.97\n"
     ]
    },
    {
     "name": "stderr",
     "output_type": "stream",
     "text": [
      "19:49:07 - cmdstanpy - INFO - Chain [1] start processing\n",
      "19:49:07 - cmdstanpy - INFO - Chain [1] done processing\n"
     ]
    },
    {
     "name": "stdout",
     "output_type": "stream",
     "text": [
      "It's underpredicted.\n",
      "Monthly Error: 100.0 Period MAE: 100.0\n"
     ]
    },
    {
     "name": "stderr",
     "output_type": "stream",
     "text": [
      "19:49:07 - cmdstanpy - INFO - Chain [1] done processing\n"
     ]
    },
    {
     "name": "stdout",
     "output_type": "stream",
     "text": [
      "It's overpredicted.\n",
      "\n",
      "Monthly Error: 86.39 Period MAE: 19.52"
     ]
    },
    {
     "name": "stderr",
     "output_type": "stream",
     "text": [
      "19:49:09 - cmdstanpy - INFO - Chain [1] start processing\n",
      "19:49:09 - cmdstanpy - INFO - Chain [1] start processing\n",
      "19:49:09 - cmdstanpy - INFO - Chain [1] done processing\n"
     ]
    },
    {
     "name": "stdout",
     "output_type": "stream",
     "text": [
      "It's underpredicted.\n",
      "Monthly Error: 100.0 Period MAE: 100.0\n"
     ]
    },
    {
     "name": "stderr",
     "output_type": "stream",
     "text": [
      "19:49:10 - cmdstanpy - INFO - Chain [1] done processing\n"
     ]
    },
    {
     "name": "stdout",
     "output_type": "stream",
     "text": [
      "It's overpredicted.\n",
      "Monthly Error: 86.39  Period MAE:19.52\n"
     ]
    },
    {
     "name": "stderr",
     "output_type": "stream",
     "text": [
      "19:49:11 - cmdstanpy - INFO - Chain [1] start processing\n",
      "19:49:11 - cmdstanpy - INFO - Chain [1] start processing\n"
     ]
    },
    {
     "name": "stdout",
     "output_type": "stream",
     "text": [
      "It's underpredicted.\n",
      "Monthly Error: 38.15 "
     ]
    },
    {
     "name": "stderr",
     "output_type": "stream",
     "text": [
      "19:49:11 - cmdstanpy - INFO - Chain [1] done processing\n"
     ]
    },
    {
     "name": "stdout",
     "output_type": "stream",
     "text": [
      "Period MAE: 46.46\n"
     ]
    },
    {
     "name": "stderr",
     "output_type": "stream",
     "text": [
      "19:49:12 - cmdstanpy - INFO - Chain [1] done processing\n"
     ]
    },
    {
     "name": "stdout",
     "output_type": "stream",
     "text": [
      "It's overpredicted.\n",
      "Monthly Error: 86.39 Period MAE: 19.52\n"
     ]
    },
    {
     "name": "stderr",
     "output_type": "stream",
     "text": [
      "19:49:13 - cmdstanpy - INFO - Chain [1] start processing\n"
     ]
    },
    {
     "name": "stdout",
     "output_type": "stream",
     "text": [
      "It's underpredicted.\n",
      "Monthly Error: "
     ]
    },
    {
     "name": "stderr",
     "output_type": "stream",
     "text": [
      "19:49:13 - cmdstanpy - INFO - Chain [1] start processing\n"
     ]
    },
    {
     "name": "stdout",
     "output_type": "stream",
     "text": [
      "38.15 Period MAE: 46.46\n"
     ]
    },
    {
     "name": "stderr",
     "output_type": "stream",
     "text": [
      "19:49:13 - cmdstanpy - INFO - Chain [1] done processing\n",
      "19:49:14 - cmdstanpy - INFO - Chain [1] done processing\n"
     ]
    },
    {
     "name": "stdout",
     "output_type": "stream",
     "text": [
      "It's overpredicted.\n",
      "Monthly Error: 86.39 "
     ]
    },
    {
     "name": "stderr",
     "output_type": "stream",
     "text": [
      "19:49:15 - cmdstanpy - INFO - Chain [1] start processing\n"
     ]
    },
    {
     "name": "stdout",
     "output_type": "stream",
     "text": [
      "Period MAE: 16.39\n"
     ]
    },
    {
     "name": "stderr",
     "output_type": "stream",
     "text": [
      "19:49:15 - cmdstanpy - INFO - Chain [1] start processing\n",
      "19:49:16 - cmdstanpy - INFO - Chain [1] done processing\n"
     ]
    },
    {
     "name": "stdout",
     "output_type": "stream",
     "text": [
      "It's underpredicted.\n",
      "Monthly Error: 38.15 Period MAE:"
     ]
    },
    {
     "name": "stderr",
     "output_type": "stream",
     "text": [
      "19:49:16 - cmdstanpy - INFO - Chain [1] done processing\n"
     ]
    },
    {
     "name": "stdout",
     "output_type": "stream",
     "text": [
      " 46.46\n",
      "It's overpredicted.\n",
      "Monthly Error: 86.39 Period MAE: 16.39\n"
     ]
    },
    {
     "name": "stderr",
     "output_type": "stream",
     "text": [
      "19:49:17 - cmdstanpy - INFO - Chain [1] start processing\n",
      "19:49:18 - cmdstanpy - INFO - Chain [1] start processing\n",
      "19:49:18 - cmdstanpy - INFO - Chain [1] done processing\n"
     ]
    },
    {
     "name": "stdout",
     "output_type": "stream",
     "text": [
      "It's underpredicted.\n",
      "Monthly Error: 38.57 Period MAE: 46.379999999999995"
     ]
    },
    {
     "name": "stderr",
     "output_type": "stream",
     "text": [
      "19:49:18 - cmdstanpy - INFO - Chain [1] done processing\n"
     ]
    },
    {
     "name": "stdout",
     "output_type": "stream",
     "text": [
      "\n",
      "It's overpredicted.\n",
      "Monthly Error: 86.39 Period MAE: 16.39\n"
     ]
    },
    {
     "name": "stderr",
     "output_type": "stream",
     "text": [
      "19:49:19 - cmdstanpy - INFO - Chain [1] start processing\n",
      "19:49:20 - cmdstanpy - INFO - Chain [1] start processing\n",
      "19:49:20 - cmdstanpy - INFO - Chain [1] done processing\n"
     ]
    },
    {
     "name": "stdout",
     "output_type": "stream",
     "text": [
      "It's underpredicted.\n",
      "Monthly Error: 38.57 Period MAE: 46.379999999999995\n"
     ]
    },
    {
     "name": "stderr",
     "output_type": "stream",
     "text": [
      "19:49:21 - cmdstanpy - INFO - Chain [1] done processing\n"
     ]
    },
    {
     "name": "stdout",
     "output_type": "stream",
     "text": [
      "It's overpredicted.\n",
      "Monthly Error: "
     ]
    },
    {
     "name": "stderr",
     "output_type": "stream",
     "text": [
      "19:49:22 - cmdstanpy - INFO - Chain [1] start processing\n"
     ]
    },
    {
     "name": "stdout",
     "output_type": "stream",
     "text": [
      "78.11 Period MAE: 11.12\n"
     ]
    },
    {
     "name": "stderr",
     "output_type": "stream",
     "text": [
      "19:49:23 - cmdstanpy - INFO - Chain [1] start processing\n"
     ]
    },
    {
     "name": "stdout",
     "output_type": "stream",
     "text": [
      "It's underpredicted.\n",
      "Monthly Error:"
     ]
    },
    {
     "name": "stderr",
     "output_type": "stream",
     "text": [
      "19:49:23 - cmdstanpy - INFO - Chain [1] done processing\n"
     ]
    },
    {
     "name": "stdout",
     "output_type": "stream",
     "text": [
      " 38.57 Period MAE: 46.379999999999995\n"
     ]
    },
    {
     "name": "stderr",
     "output_type": "stream",
     "text": [
      "19:49:24 - cmdstanpy - INFO - Chain [1] done processing\n",
      "19:49:25 - cmdstanpy - INFO - Chain [1] start processing\n"
     ]
    },
    {
     "name": "stdout",
     "output_type": "stream",
     "text": [
      "It's overpredicted.\n",
      "Monthly Error: 78.11 Period MAE: 11.12\n",
      "It's underpredicted.\n",
      "Monthly Error: 38.34 Period MAE: 46.77\n"
     ]
    },
    {
     "name": "stderr",
     "output_type": "stream",
     "text": [
      "19:49:26 - cmdstanpy - INFO - Chain [1] start processing\n",
      "19:49:26 - cmdstanpy - INFO - Chain [1] done processing\n",
      "19:49:26 - cmdstanpy - INFO - Chain [1] done processing\n",
      "19:49:27 - cmdstanpy - INFO - Chain [1] start processing\n"
     ]
    },
    {
     "name": "stdout",
     "output_type": "stream",
     "text": [
      "It's overpredicted.\n",
      "Monthly Error: 78.11 Period MAE: 11.12\n",
      "It's underpredicted.\n",
      "Monthly Error: 38.34"
     ]
    },
    {
     "name": "stderr",
     "output_type": "stream",
     "text": [
      "19:49:27 - cmdstanpy - INFO - Chain [1] start processing\n"
     ]
    },
    {
     "name": "stdout",
     "output_type": "stream",
     "text": [
      " Period MAE: 46.77\n"
     ]
    },
    {
     "name": "stderr",
     "output_type": "stream",
     "text": [
      "19:49:28 - cmdstanpy - INFO - Chain [1] done processing\n",
      "19:49:28 - cmdstanpy - INFO - Chain [1] done processing\n"
     ]
    },
    {
     "name": "stdout",
     "output_type": "stream",
     "text": [
      "It's underpredicted.\n",
      "Monthly Error:\n",
      " 76.89 Period MAE: 1.43"
     ]
    },
    {
     "name": "stderr",
     "output_type": "stream",
     "text": [
      "19:49:29 - cmdstanpy - INFO - Chain [1] start processing\n",
      "19:49:29 - cmdstanpy - INFO - Chain [1] start processing\n",
      "19:49:29 - cmdstanpy - INFO - Chain [1] done processing\n",
      "19:49:30 - cmdstanpy - INFO - Chain [1] done processing\n"
     ]
    },
    {
     "name": "stdout",
     "output_type": "stream",
     "text": [
      "It's underpredicted.\n",
      "Monthly Error: 38.34 Period MAE: 46.77\n",
      "It's underpredicted.\n",
      "Monthly Error: 76.89 Period MAE: 1.43\n"
     ]
    },
    {
     "name": "stderr",
     "output_type": "stream",
     "text": [
      "19:49:31 - cmdstanpy - INFO - Chain [1] start processing\n",
      "19:49:32 - cmdstanpy - INFO - Chain [1] start processing\n",
      "19:49:32 - cmdstanpy - INFO - Chain [1] done processing\n"
     ]
    },
    {
     "name": "stdout",
     "output_type": "stream",
     "text": [
      "It's underpredicted.\n",
      "Monthly Error: 100.0 Period MAE: 100.0\n"
     ]
    },
    {
     "name": "stderr",
     "output_type": "stream",
     "text": [
      "19:49:32 - cmdstanpy - INFO - Chain [1] done processing\n"
     ]
    },
    {
     "name": "stdout",
     "output_type": "stream",
     "text": [
      "It's underpredicted.\n",
      "Monthly Error: 76.89 Period MAE: 1.43\n"
     ]
    },
    {
     "name": "stderr",
     "output_type": "stream",
     "text": [
      "19:49:33 - cmdstanpy - INFO - Chain [1] start processing\n",
      "19:49:34 - cmdstanpy - INFO - Chain [1] start processing\n"
     ]
    },
    {
     "name": "stdout",
     "output_type": "stream",
     "text": [
      "It's underpredicted.\n",
      "Monthly Error: 100.0 Period MAE: 100.0\n"
     ]
    },
    {
     "name": "stderr",
     "output_type": "stream",
     "text": [
      "19:49:34 - cmdstanpy - INFO - Chain [1] done processing\n",
      "19:49:35 - cmdstanpy - INFO - Chain [1] done processing\n",
      "19:49:35 - cmdstanpy - INFO - Chain [1] start processing\n"
     ]
    },
    {
     "name": "stdout",
     "output_type": "stream",
     "text": [
      "It's overpredicted.\n",
      "Monthly Error: 91.07 Period MAE: 6.97\n",
      "It's underpredicted.\n",
      "Monthly Error: 100.0 Period MAE: 100.0\n"
     ]
    },
    {
     "name": "stderr",
     "output_type": "stream",
     "text": [
      "19:49:36 - cmdstanpy - INFO - Chain [1] start processing\n",
      "19:49:37 - cmdstanpy - INFO - Chain [1] done processing\n",
      "19:49:37 - cmdstanpy - INFO - Chain [1] done processing\n",
      "19:49:38 - cmdstanpy - INFO - Chain [1] start processing\n"
     ]
    },
    {
     "name": "stdout",
     "output_type": "stream",
     "text": [
      "It's overpredicted.\n",
      "Monthly Error: 91.07 Period MAE: 6.97\n",
      "It's underpredicted.\n",
      "Monthly Error: 56.0 Period MAE: 72.5\n"
     ]
    },
    {
     "name": "stderr",
     "output_type": "stream",
     "text": [
      "19:49:38 - cmdstanpy - INFO - Chain [1] start processing\n",
      "19:49:39 - cmdstanpy - INFO - Chain [1] done processing\n",
      "19:49:39 - cmdstanpy - INFO - Chain [1] done processing\n"
     ]
    },
    {
     "name": "stdout",
     "output_type": "stream",
     "text": [
      "It's overpredicted.\n",
      "Monthly Error: 91.07 Period MAE: 6.97\n"
     ]
    },
    {
     "name": "stderr",
     "output_type": "stream",
     "text": [
      "19:49:40 - cmdstanpy - INFO - Chain [1] start processing\n",
      "19:49:41 - cmdstanpy - INFO - Chain [1] start processing\n",
      "19:49:41 - cmdstanpy - INFO - Chain [1] done processing\n"
     ]
    },
    {
     "name": "stdout",
     "output_type": "stream",
     "text": [
      "It's underpredicted.\n",
      "Monthly Error: 56.0 Period MAE: 72.5\n"
     ]
    },
    {
     "name": "stderr",
     "output_type": "stream",
     "text": [
      "19:49:42 - cmdstanpy - INFO - Chain [1] done processing\n"
     ]
    },
    {
     "name": "stdout",
     "output_type": "stream",
     "text": [
      "It's overpredicted.\n",
      "Monthly Error: 82.03 Period MAE: 2.65\n"
     ]
    },
    {
     "name": "stderr",
     "output_type": "stream",
     "text": [
      "19:49:43 - cmdstanpy - INFO - Chain [1] start processing\n",
      "19:49:43 - cmdstanpy - INFO - Chain [1] start processing\n"
     ]
    },
    {
     "name": "stdout",
     "output_type": "stream",
     "text": [
      "It's underpredicted.\n",
      "Monthly Error: 56.0 Period MAE: 72.5\n"
     ]
    },
    {
     "name": "stderr",
     "output_type": "stream",
     "text": [
      "19:49:43 - cmdstanpy - INFO - Chain [1] done processing\n",
      "19:49:44 - cmdstanpy - INFO - Chain [1] done processing\n",
      "19:49:45 - cmdstanpy - INFO - Chain [1] start processing\n"
     ]
    },
    {
     "name": "stdout",
     "output_type": "stream",
     "text": [
      "It's underpredicted.\n",
      "Monthly Error: 100.0 Period MAE: 100.0\n",
      "It's overpredicted.\n",
      "Monthly Error: 82.03 Period MAE: 2.65\n"
     ]
    },
    {
     "name": "stderr",
     "output_type": "stream",
     "text": [
      "19:49:46 - cmdstanpy - INFO - Chain [1] start processing\n",
      "19:49:46 - cmdstanpy - INFO - Chain [1] done processing\n",
      "19:49:46 - cmdstanpy - INFO - Chain [1] done processing\n",
      "19:49:47 - cmdstanpy - INFO - Chain [1] start processing\n"
     ]
    },
    {
     "name": "stdout",
     "output_type": "stream",
     "text": [
      "It's overpredicted.\n",
      "Monthly Error: 82.03 Period MAE: 2.65\n",
      "It's underpredicted.\n",
      "Monthly Error: 100.0 Period MAE: 100.0\n"
     ]
    },
    {
     "name": "stderr",
     "output_type": "stream",
     "text": [
      "19:49:48 - cmdstanpy - INFO - Chain [1] start processing\n",
      "19:49:48 - cmdstanpy - INFO - Chain [1] done processing\n",
      "19:49:48 - cmdstanpy - INFO - Chain [1] done processing\n"
     ]
    },
    {
     "name": "stdout",
     "output_type": "stream",
     "text": [
      "It's overpredicted.\n",
      "Monthly Error: 86.39 Period MAE: 19.52\n"
     ]
    },
    {
     "name": "stderr",
     "output_type": "stream",
     "text": [
      "19:49:49 - cmdstanpy - INFO - Chain [1] start processing\n",
      "19:49:49 - cmdstanpy - INFO - Chain [1] start processing\n",
      "19:49:50 - cmdstanpy - INFO - Chain [1] done processing\n",
      "19:49:50 - cmdstanpy - INFO - Chain [1] done processing\n"
     ]
    },
    {
     "name": "stdout",
     "output_type": "stream",
     "text": [
      "It's underpredicted.\n",
      "Monthly Error: 100.0 Period MAE: 100.0\n",
      "It's overpredicted.\n",
      "Monthly Error: 86.39 Period MAE: 19.52\n"
     ]
    },
    {
     "name": "stderr",
     "output_type": "stream",
     "text": [
      "19:49:52 - cmdstanpy - INFO - Chain [1] start processing\n",
      "19:49:52 - cmdstanpy - INFO - Chain [1] start processing\n",
      "19:49:52 - cmdstanpy - INFO - Chain [1] done processing\n"
     ]
    },
    {
     "name": "stdout",
     "output_type": "stream",
     "text": [
      "It's underpredicted.\n",
      "Monthly Error: 38.15 Period MAE: 46.46\n"
     ]
    },
    {
     "name": "stderr",
     "output_type": "stream",
     "text": [
      "19:49:53 - cmdstanpy - INFO - Chain [1] done processing\n"
     ]
    },
    {
     "name": "stdout",
     "output_type": "stream",
     "text": [
      "It's overpredicted.\n",
      "Monthly Error: 86.39 Period MAE: 19.52\n"
     ]
    },
    {
     "name": "stderr",
     "output_type": "stream",
     "text": [
      "19:49:54 - cmdstanpy - INFO - Chain [1] start processing\n",
      "19:49:54 - cmdstanpy - INFO - Chain [1] start processing\n"
     ]
    },
    {
     "name": "stdout",
     "output_type": "stream",
     "text": [
      "It's underpredicted.\n",
      "Monthly Error: 38.15 Period MAE: 46.46\n"
     ]
    },
    {
     "name": "stderr",
     "output_type": "stream",
     "text": [
      "19:49:54 - cmdstanpy - INFO - Chain [1] done processing\n",
      "19:49:55 - cmdstanpy - INFO - Chain [1] done processing\n",
      "19:49:56 - cmdstanpy - INFO - Chain [1] start processing\n"
     ]
    },
    {
     "name": "stdout",
     "output_type": "stream",
     "text": [
      "It's overpredicted.\n",
      "Monthly Error: 85.83 Period MAE: 16.509999999999998\n"
     ]
    },
    {
     "name": "stderr",
     "output_type": "stream",
     "text": [
      "19:49:57 - cmdstanpy - INFO - Chain [1] start processing\n"
     ]
    },
    {
     "name": "stdout",
     "output_type": "stream",
     "text": [
      "It's underpredicted.\n",
      "Monthly Error: 38.15 Period MAE: 46.46\n"
     ]
    },
    {
     "name": "stderr",
     "output_type": "stream",
     "text": [
      "19:49:57 - cmdstanpy - INFO - Chain [1] done processing\n",
      "19:49:57 - cmdstanpy - INFO - Chain [1] done processing\n"
     ]
    },
    {
     "name": "stdout",
     "output_type": "stream",
     "text": [
      "It's overpredicted.\n",
      "Monthly Error: 85.83 Period MAE: 16.509999999999998\n"
     ]
    },
    {
     "name": "stderr",
     "output_type": "stream",
     "text": [
      "19:49:58 - cmdstanpy - INFO - Chain [1] start processing\n"
     ]
    },
    {
     "name": "stdout",
     "output_type": "stream",
     "text": [
      "It's underpredicted.\n",
      "Monthly Error:"
     ]
    },
    {
     "name": "stderr",
     "output_type": "stream",
     "text": [
      "19:49:59 - cmdstanpy - INFO - Chain [1] start processing\n"
     ]
    },
    {
     "name": "stdout",
     "output_type": "stream",
     "text": [
      " 38.41 Period MAE: 46.17\n"
     ]
    },
    {
     "name": "stderr",
     "output_type": "stream",
     "text": [
      "19:49:59 - cmdstanpy - INFO - Chain [1] done processing\n",
      "19:50:00 - cmdstanpy - INFO - Chain [1] done processing\n",
      "19:50:00 - cmdstanpy - INFO - Chain [1] start processing\n"
     ]
    },
    {
     "name": "stdout",
     "output_type": "stream",
     "text": [
      "It's overpredicted.\n",
      "Monthly Error: 85.83 Period MAE: 16.509999999999998\n"
     ]
    },
    {
     "name": "stderr",
     "output_type": "stream",
     "text": [
      "19:50:01 - cmdstanpy - INFO - Chain [1] start processing\n",
      "19:50:01 - cmdstanpy - INFO - Chain [1] done processing\n"
     ]
    },
    {
     "name": "stdout",
     "output_type": "stream",
     "text": [
      "It's underpredicted.\n",
      "Monthly Error: 38.41 Period MAE: 46.17\n"
     ]
    },
    {
     "name": "stderr",
     "output_type": "stream",
     "text": [
      "19:50:02 - cmdstanpy - INFO - Chain [1] done processing\n"
     ]
    },
    {
     "name": "stdout",
     "output_type": "stream",
     "text": [
      "It's underpredicted.\n",
      "Monthly Error: 38.41It's overpredicted. Period MAE:\n",
      " Monthly Error: 46.1777.55\n",
      " Period MAE: 10.63\n"
     ]
    },
    {
     "name": "stderr",
     "output_type": "stream",
     "text": [
      "19:50:04 - cmdstanpy - INFO - Chain [1] start processing\n",
      "19:50:04 - cmdstanpy - INFO - Chain [1] start processing\n",
      "19:50:04 - cmdstanpy - INFO - Chain [1] done processing\n",
      "19:50:05 - cmdstanpy - INFO - Chain [1] start processing\n",
      "19:50:06 - cmdstanpy - INFO - Chain [1] done processing\n"
     ]
    },
    {
     "name": "stdout",
     "output_type": "stream",
     "text": [
      "It's overpredicted.\n",
      "Monthly Error: 77.55 Period MAE: 10.63\n",
      "It's underpredicted.\n",
      "Monthly Error: 38.01 Period MAE: 46.050000000000004\n"
     ]
    },
    {
     "name": "stderr",
     "output_type": "stream",
     "text": [
      "19:50:07 - cmdstanpy - INFO - Chain [1] start processing\n",
      "19:50:07 - cmdstanpy - INFO - Chain [1] done processing\n",
      "19:50:07 - cmdstanpy - INFO - Chain [1] done processing\n"
     ]
    },
    {
     "name": "stdout",
     "output_type": "stream",
     "text": [
      "It's overpredicted.\n",
      "Monthly Error: 77.55 Period MAE: 10.63\n"
     ]
    },
    {
     "name": "stderr",
     "output_type": "stream",
     "text": [
      "19:50:08 - cmdstanpy - INFO - Chain [1] start processing\n",
      "19:50:09 - cmdstanpy - INFO - Chain [1] start processing\n",
      "19:50:09 - cmdstanpy - INFO - Chain [1] done processing\n"
     ]
    },
    {
     "name": "stdout",
     "output_type": "stream",
     "text": [
      "It's underpredicted.\n",
      "Monthly Error: 38.01 Period MAE: 46.050000000000004\n"
     ]
    },
    {
     "name": "stderr",
     "output_type": "stream",
     "text": [
      "19:50:09 - cmdstanpy - INFO - Chain [1] done processing\n"
     ]
    },
    {
     "name": "stdout",
     "output_type": "stream",
     "text": [
      "It's underpredicted.\n",
      "Monthly Error: 76.89 Period MAE: 1.43\n"
     ]
    },
    {
     "name": "stderr",
     "output_type": "stream",
     "text": [
      "19:50:11 - cmdstanpy - INFO - Chain [1] start processing\n",
      "19:50:11 - cmdstanpy - INFO - Chain [1] start processing\n",
      "19:50:11 - cmdstanpy - INFO - Chain [1] done processing\n",
      "19:50:12 - cmdstanpy - INFO - Chain [1] done processing\n"
     ]
    },
    {
     "name": "stdout",
     "output_type": "stream",
     "text": [
      "It's underpredicted.\n",
      "Monthly Error: 38.01 Period MAE: 46.050000000000004\n",
      "It's underpredicted.\n",
      "Monthly Error: 76.89 Period MAE: 1.43\n"
     ]
    },
    {
     "name": "stderr",
     "output_type": "stream",
     "text": [
      "19:50:13 - cmdstanpy - INFO - Chain [1] start processing\n"
     ]
    },
    {
     "name": "stdout",
     "output_type": "stream",
     "text": [
      "It's underpredicted.\n",
      "Monthly Error: 100.0 Period MAE: 100.0\n"
     ]
    },
    {
     "name": "stderr",
     "output_type": "stream",
     "text": [
      "19:50:13 - cmdstanpy - INFO - Chain [1] start processing\n",
      "19:50:13 - cmdstanpy - INFO - Chain [1] done processing\n",
      "19:50:14 - cmdstanpy - INFO - Chain [1] done processing\n",
      "19:50:15 - cmdstanpy - INFO - Chain [1] start processing\n"
     ]
    },
    {
     "name": "stdout",
     "output_type": "stream",
     "text": [
      "It's underpredicted.\n",
      "Monthly Error: 76.89 Period MAE: 1.43\n",
      "It's underpredicted.\n",
      "Monthly Error: 100.0 Period MAE: 100.0\n"
     ]
    },
    {
     "name": "stderr",
     "output_type": "stream",
     "text": [
      "19:50:15 - cmdstanpy - INFO - Chain [1] start processing\n",
      "19:50:16 - cmdstanpy - INFO - Chain [1] done processing\n",
      "19:50:16 - cmdstanpy - INFO - Chain [1] done processing\n"
     ]
    },
    {
     "name": "stdout",
     "output_type": "stream",
     "text": [
      "It's overpredicted.\n",
      "Monthly Error: 92.72 Period MAE: 7.9399999999999995\n"
     ]
    },
    {
     "name": "stderr",
     "output_type": "stream",
     "text": [
      "19:50:17 - cmdstanpy - INFO - Chain [1] start processing\n",
      "19:50:17 - cmdstanpy - INFO - Chain [1] start processing\n",
      "19:50:18 - cmdstanpy - INFO - Chain [1] done processing\n"
     ]
    },
    {
     "name": "stdout",
     "output_type": "stream",
     "text": [
      "It's underpredicted.\n",
      "Monthly Error: 100.0 Period MAE: 100.0\n"
     ]
    },
    {
     "name": "stderr",
     "output_type": "stream",
     "text": [
      "19:50:18 - cmdstanpy - INFO - Chain [1] done processing\n"
     ]
    },
    {
     "name": "stdout",
     "output_type": "stream",
     "text": [
      "It's overpredicted.\n",
      "Monthly Error: 92.72 Period MAE: 7.9399999999999995\n"
     ]
    },
    {
     "name": "stderr",
     "output_type": "stream",
     "text": [
      "19:50:19 - cmdstanpy - INFO - Chain [1] start processing\n",
      "19:50:20 - cmdstanpy - INFO - Chain [1] start processing\n",
      "19:50:20 - cmdstanpy - INFO - Chain [1] done processing\n"
     ]
    },
    {
     "name": "stdout",
     "output_type": "stream",
     "text": [
      "It's underpredicted.\n",
      "Monthly Error: 55.95 Period MAE: 72.46000000000001\n"
     ]
    },
    {
     "name": "stderr",
     "output_type": "stream",
     "text": [
      "19:50:20 - cmdstanpy - INFO - Chain [1] done processing\n"
     ]
    },
    {
     "name": "stdout",
     "output_type": "stream",
     "text": [
      "It's overpredicted.\n",
      "Monthly Error: 92.72 Period MAE: 7.9399999999999995\n"
     ]
    },
    {
     "name": "stderr",
     "output_type": "stream",
     "text": [
      "19:50:22 - cmdstanpy - INFO - Chain [1] start processing\n"
     ]
    },
    {
     "name": "stdout",
     "output_type": "stream",
     "text": [
      "It's underpredicted.\n",
      "Monthly Error: 55.95 Period MAE: 72.46000000000001\n"
     ]
    },
    {
     "name": "stderr",
     "output_type": "stream",
     "text": [
      "19:50:22 - cmdstanpy - INFO - Chain [1] start processing\n",
      "19:50:22 - cmdstanpy - INFO - Chain [1] done processing\n",
      "19:50:24 - cmdstanpy - INFO - Chain [1] start processing\n",
      "19:50:24 - cmdstanpy - INFO - Chain [1] done processing\n"
     ]
    },
    {
     "name": "stdout",
     "output_type": "stream",
     "text": [
      "It's underpredicted.\n",
      "Monthly Error: 55.95 Period MAE: 72.46000000000001\n",
      "It's overpredicted.\n",
      "Monthly Error: 84.3 Period MAE: 4.0\n"
     ]
    },
    {
     "name": "stderr",
     "output_type": "stream",
     "text": [
      "19:50:25 - cmdstanpy - INFO - Chain [1] start processing\n",
      "19:50:26 - cmdstanpy - INFO - Chain [1] done processing\n",
      "19:50:26 - cmdstanpy - INFO - Chain [1] done processing\n",
      "19:50:27 - cmdstanpy - INFO - Chain [1] start processing\n"
     ]
    },
    {
     "name": "stdout",
     "output_type": "stream",
     "text": [
      "It's overpredicted.\n",
      "Monthly Error: 84.3 Period MAE: 4.0\n",
      "It's underpredicted.\n",
      "Monthly Error: 100.0 Period MAE: 100.0\n"
     ]
    },
    {
     "name": "stderr",
     "output_type": "stream",
     "text": [
      "19:50:27 - cmdstanpy - INFO - Chain [1] start processing\n",
      "19:50:27 - cmdstanpy - INFO - Chain [1] done processing\n",
      "19:50:29 - cmdstanpy - INFO - Chain [1] start processing\n",
      "19:50:29 - cmdstanpy - INFO - Chain [1] done processing\n"
     ]
    },
    {
     "name": "stdout",
     "output_type": "stream",
     "text": [
      "It's overpredicted.\n",
      "Monthly Error: 84.3 Period MAE: 4.0\n"
     ]
    },
    {
     "name": "stderr",
     "output_type": "stream",
     "text": [
      "19:50:30 - cmdstanpy - INFO - Chain [1] done processing\n"
     ]
    },
    {
     "name": "stdout",
     "output_type": "stream",
     "text": [
      "It's underpredicted.\n",
      "Monthly Error: 100.0 Period MAE: 100.0\n"
     ]
    },
    {
     "name": "stderr",
     "output_type": "stream",
     "text": [
      "19:50:30 - cmdstanpy - INFO - Chain [1] start processing\n",
      "19:50:30 - cmdstanpy - INFO - Chain [1] done processing\n"
     ]
    },
    {
     "name": "stdout",
     "output_type": "stream",
     "text": [
      "It's overpredicted.\n",
      "Monthly Error:  Period MAE:86.39 19.52\n"
     ]
    },
    {
     "name": "stderr",
     "output_type": "stream",
     "text": [
      "19:50:31 - cmdstanpy - INFO - Chain [1] start processing\n",
      "19:50:32 - cmdstanpy - INFO - Chain [1] start processing\n"
     ]
    },
    {
     "name": "stdout",
     "output_type": "stream",
     "text": [
      "It's underpredicted.\n",
      "Monthly Error: 100.0 Period MAE: 100.0\n"
     ]
    },
    {
     "name": "stderr",
     "output_type": "stream",
     "text": [
      "19:50:32 - cmdstanpy - INFO - Chain [1] done processing\n",
      "19:50:33 - cmdstanpy - INFO - Chain [1] done processing\n",
      "19:50:33 - cmdstanpy - INFO - Chain [1] start processing\n"
     ]
    },
    {
     "name": "stdout",
     "output_type": "stream",
     "text": [
      "It's overpredicted.\n",
      "Monthly Error: 86.39 Period MAE: 19.52\n"
     ]
    },
    {
     "name": "stderr",
     "output_type": "stream",
     "text": [
      "19:50:34 - cmdstanpy - INFO - Chain [1] start processing\n",
      "19:50:34 - cmdstanpy - INFO - Chain [1] done processing\n"
     ]
    },
    {
     "name": "stdout",
     "output_type": "stream",
     "text": [
      "It's underpredicted.\n",
      "Monthly Error: 38.15 Period MAE: 46.46\n"
     ]
    },
    {
     "name": "stderr",
     "output_type": "stream",
     "text": [
      "19:50:34 - cmdstanpy - INFO - Chain [1] done processing\n"
     ]
    },
    {
     "name": "stdout",
     "output_type": "stream",
     "text": [
      "It's overpredicted.\n",
      "Monthly Error: 86.39 Period MAE: 19.52\n"
     ]
    },
    {
     "name": "stderr",
     "output_type": "stream",
     "text": [
      "19:50:36 - cmdstanpy - INFO - Chain [1] start processing\n",
      "19:50:36 - cmdstanpy - INFO - Chain [1] start processing\n"
     ]
    },
    {
     "name": "stdout",
     "output_type": "stream",
     "text": [
      "It's underpredicted.\n",
      "Monthly Error: 38.15 Period MAE: 46.46\n"
     ]
    },
    {
     "name": "stderr",
     "output_type": "stream",
     "text": [
      "19:50:36 - cmdstanpy - INFO - Chain [1] done processing\n",
      "19:50:37 - cmdstanpy - INFO - Chain [1] done processing\n",
      "19:50:38 - cmdstanpy - INFO - Chain [1] start processing\n"
     ]
    },
    {
     "name": "stdout",
     "output_type": "stream",
     "text": [
      "It's overpredicted.\n",
      "Monthly Error: 87.28 Period MAE: 17.49\n",
      "It's underpredicted.\n",
      "Monthly Error: 38.15 Period MAE: 46.46\n"
     ]
    },
    {
     "name": "stderr",
     "output_type": "stream",
     "text": [
      "19:50:38 - cmdstanpy - INFO - Chain [1] start processing\n",
      "19:50:39 - cmdstanpy - INFO - Chain [1] done processing\n",
      "19:50:39 - cmdstanpy - INFO - Chain [1] done processing\n",
      "19:50:40 - cmdstanpy - INFO - Chain [1] start processing\n"
     ]
    },
    {
     "name": "stdout",
     "output_type": "stream",
     "text": [
      "It's overpredicted.\n",
      "Monthly Error: 87.28 Period MAE: 17.49\n"
     ]
    },
    {
     "name": "stderr",
     "output_type": "stream",
     "text": [
      "19:50:40 - cmdstanpy - INFO - Chain [1] start processing\n",
      "19:50:41 - cmdstanpy - INFO - Chain [1] done processing\n"
     ]
    },
    {
     "name": "stdout",
     "output_type": "stream",
     "text": [
      "It's underpredicted.\n",
      "Monthly Error: 38.25 Period MAE: 45.95\n"
     ]
    },
    {
     "name": "stderr",
     "output_type": "stream",
     "text": [
      "19:50:41 - cmdstanpy - INFO - Chain [1] done processing\n"
     ]
    },
    {
     "name": "stdout",
     "output_type": "stream",
     "text": [
      "It's overpredicted.\n",
      "Monthly Error: 87.28 Period MAE: 17.49\n"
     ]
    },
    {
     "name": "stderr",
     "output_type": "stream",
     "text": [
      "19:50:42 - cmdstanpy - INFO - Chain [1] start processing\n",
      "19:50:43 - cmdstanpy - INFO - Chain [1] start processing\n",
      "19:50:43 - cmdstanpy - INFO - Chain [1] done processing\n"
     ]
    },
    {
     "name": "stdout",
     "output_type": "stream",
     "text": [
      "It's underpredicted.\n",
      "Monthly Error: 38.25 Period MAE: 45.95\n"
     ]
    },
    {
     "name": "stderr",
     "output_type": "stream",
     "text": [
      "19:50:44 - cmdstanpy - INFO - Chain [1] done processing\n"
     ]
    },
    {
     "name": "stdout",
     "output_type": "stream",
     "text": [
      "It's overpredicted.\n",
      "Monthly Error:"
     ]
    },
    {
     "name": "stderr",
     "output_type": "stream",
     "text": [
      "19:50:45 - cmdstanpy - INFO - Chain [1] start processing\n"
     ]
    },
    {
     "name": "stdout",
     "output_type": "stream",
     "text": [
      " 77.31 Period MAE: 10.58\n",
      "It's underpredicted.\n",
      "Monthly Error: 38.25 Period MAE: "
     ]
    },
    {
     "name": "stderr",
     "output_type": "stream",
     "text": [
      "19:50:45 - cmdstanpy - INFO - Chain [1] start processing\n"
     ]
    },
    {
     "name": "stdout",
     "output_type": "stream",
     "text": [
      "45.95\n"
     ]
    },
    {
     "name": "stderr",
     "output_type": "stream",
     "text": [
      "19:50:45 - cmdstanpy - INFO - Chain [1] done processing\n",
      "19:50:46 - cmdstanpy - INFO - Chain [1] done processing\n",
      "19:50:47 - cmdstanpy - INFO - Chain [1] start processing\n"
     ]
    },
    {
     "name": "stdout",
     "output_type": "stream",
     "text": [
      "It's overpredicted.\n",
      "Monthly Error: 77.31 Period MAE: 10.58\n",
      "It's underpredicted.\n",
      "Monthly Error: 38.06 Period MAE: 45.61\n"
     ]
    },
    {
     "name": "stderr",
     "output_type": "stream",
     "text": [
      "19:50:47 - cmdstanpy - INFO - Chain [1] start processing\n",
      "19:50:47 - cmdstanpy - INFO - Chain [1] done processing\n",
      "19:50:48 - cmdstanpy - INFO - Chain [1] done processing\n",
      "19:50:49 - cmdstanpy - INFO - Chain [1] start processing\n"
     ]
    },
    {
     "name": "stdout",
     "output_type": "stream",
     "text": [
      "It's overpredicted.\n",
      "Monthly Error: 77.31 Period MAE: 10.58\n"
     ]
    },
    {
     "name": "stderr",
     "output_type": "stream",
     "text": [
      "19:50:50 - cmdstanpy - INFO - Chain [1] start processing\n",
      "19:50:50 - cmdstanpy - INFO - Chain [1] done processing\n",
      "19:50:50 - cmdstanpy - INFO - Chain [1] done processing\n"
     ]
    },
    {
     "name": "stdout",
     "output_type": "stream",
     "text": [
      "It's underpredicted.\n",
      "Monthly Error: 38.06 Period MAE: 45.61\n",
      "It's underpredicted.\n",
      "Monthly Error: 76.89 Period MAE: 1.43\n"
     ]
    },
    {
     "name": "stderr",
     "output_type": "stream",
     "text": [
      "19:50:52 - cmdstanpy - INFO - Chain [1] start processing\n"
     ]
    },
    {
     "name": "stdout",
     "output_type": "stream",
     "text": [
      "It's underpredicted.\n",
      "Monthly Error: 38.06 Period MAE: 45.61\n"
     ]
    },
    {
     "name": "stderr",
     "output_type": "stream",
     "text": [
      "19:50:52 - cmdstanpy - INFO - Chain [1] start processing\n",
      "19:50:52 - cmdstanpy - INFO - Chain [1] done processing\n",
      "19:50:53 - cmdstanpy - INFO - Chain [1] done processing\n"
     ]
    },
    {
     "name": "stdout",
     "output_type": "stream",
     "text": [
      "It's underpredicted.\n",
      "Monthly Error: 76.89 Period MAE: 1.43\n",
      "It's underpredicted."
     ]
    },
    {
     "name": "stderr",
     "output_type": "stream",
     "text": [
      "19:50:54 - cmdstanpy - INFO - Chain [1] start processing\n"
     ]
    },
    {
     "name": "stdout",
     "output_type": "stream",
     "text": [
      "\n",
      "Monthly Error: 100.0 Period MAE: 100.0\n"
     ]
    },
    {
     "name": "stderr",
     "output_type": "stream",
     "text": [
      "19:50:54 - cmdstanpy - INFO - Chain [1] start processing\n",
      "19:50:54 - cmdstanpy - INFO - Chain [1] done processing\n",
      "19:50:55 - cmdstanpy - INFO - Chain [1] done processing\n",
      "19:50:55 - cmdstanpy - INFO - Chain [1] start processing\n"
     ]
    },
    {
     "name": "stdout",
     "output_type": "stream",
     "text": [
      "It's underpredicted.\n",
      "Monthly Error: 76.89 Period MAE: 1.43\n"
     ]
    },
    {
     "name": "stderr",
     "output_type": "stream",
     "text": [
      "19:50:56 - cmdstanpy - INFO - Chain [1] start processing\n",
      "19:50:56 - cmdstanpy - INFO - Chain [1] done processing\n"
     ]
    },
    {
     "name": "stdout",
     "output_type": "stream",
     "text": [
      "It's underpredicted.\n",
      "Monthly Error: 100.0 Period MAE: 100.0\n"
     ]
    },
    {
     "name": "stderr",
     "output_type": "stream",
     "text": [
      "19:50:57 - cmdstanpy - INFO - Chain [1] done processing\n"
     ]
    },
    {
     "name": "stdout",
     "output_type": "stream",
     "text": [
      "It's overpredicted.\n",
      "Monthly Error: 88.18 Period MAE: 4.590000000000001\n"
     ]
    },
    {
     "name": "stderr",
     "output_type": "stream",
     "text": [
      "19:50:58 - cmdstanpy - INFO - Chain [1] start processing\n",
      "19:50:58 - cmdstanpy - INFO - Chain [1] start processing\n"
     ]
    },
    {
     "name": "stdout",
     "output_type": "stream",
     "text": [
      "It's underpredicted.\n",
      "Monthly Error: 100.0 Period MAE: 100.0\n"
     ]
    },
    {
     "name": "stderr",
     "output_type": "stream",
     "text": [
      "19:50:59 - cmdstanpy - INFO - Chain [1] done processing\n",
      "19:51:00 - cmdstanpy - INFO - Chain [1] done processing\n",
      "19:51:00 - cmdstanpy - INFO - Chain [1] start processing\n"
     ]
    },
    {
     "name": "stdout",
     "output_type": "stream",
     "text": [
      "It's underpredicted.It's overpredicted.\n",
      "Monthly Error: 55.92 \n",
      "Monthly Error: Period MAE: 88.1872.45\n",
      " Period MAE: 4.590000000000001\n"
     ]
    },
    {
     "name": "stderr",
     "output_type": "stream",
     "text": [
      "19:51:01 - cmdstanpy - INFO - Chain [1] start processing\n",
      "19:51:01 - cmdstanpy - INFO - Chain [1] done processing\n",
      "19:51:02 - cmdstanpy - INFO - Chain [1] done processing\n",
      "19:51:03 - cmdstanpy - INFO - Chain [1] start processing\n"
     ]
    },
    {
     "name": "stdout",
     "output_type": "stream",
     "text": [
      "It's overpredicted.\n",
      "It's underpredicted.\n",
      "Monthly Error:Monthly Error: 88.18 Period MAE:  55.924.590000000000001 \n",
      "Period MAE: 72.45\n"
     ]
    },
    {
     "name": "stderr",
     "output_type": "stream",
     "text": [
      "19:51:04 - cmdstanpy - INFO - Chain [1] start processing\n",
      "19:51:04 - cmdstanpy - INFO - Chain [1] done processing\n",
      "19:51:05 - cmdstanpy - INFO - Chain [1] done processing\n"
     ]
    },
    {
     "name": "stdout",
     "output_type": "stream",
     "text": [
      "It's overpredicted.\n",
      "Monthly Error: 82.63 Period MAE: 2.98\n"
     ]
    },
    {
     "name": "stderr",
     "output_type": "stream",
     "text": [
      "19:51:06 - cmdstanpy - INFO - Chain [1] start processing\n",
      "19:51:06 - cmdstanpy - INFO - Chain [1] start processing\n",
      "19:51:06 - cmdstanpy - INFO - Chain [1] done processing\n"
     ]
    },
    {
     "name": "stdout",
     "output_type": "stream",
     "text": [
      "It's underpredicted.\n",
      "Monthly Error: 55.92 Period MAE: 72.45\n"
     ]
    },
    {
     "name": "stderr",
     "output_type": "stream",
     "text": [
      "19:51:07 - cmdstanpy - INFO - Chain [1] done processing\n"
     ]
    },
    {
     "name": "stdout",
     "output_type": "stream",
     "text": [
      "It's overpredicted.\n",
      "Monthly Error: 82.63 Period MAE: 2.98\n"
     ]
    },
    {
     "name": "stderr",
     "output_type": "stream",
     "text": [
      "19:51:09 - cmdstanpy - INFO - Chain [1] start processing\n",
      "19:51:09 - cmdstanpy - INFO - Chain [1] start processing\n",
      "19:51:09 - cmdstanpy - INFO - Chain [1] done processing\n"
     ]
    },
    {
     "name": "stdout",
     "output_type": "stream",
     "text": [
      "It's underpredicted.\n",
      "Monthly Error: 100.0 Period MAE: 100.0\n"
     ]
    },
    {
     "name": "stderr",
     "output_type": "stream",
     "text": [
      "19:51:10 - cmdstanpy - INFO - Chain [1] done processing\n"
     ]
    },
    {
     "name": "stdout",
     "output_type": "stream",
     "text": [
      "It's underpredicted.\n",
      "Monthly Error: 100.0 Period MAE: 100.0\n"
     ]
    },
    {
     "name": "stderr",
     "output_type": "stream",
     "text": [
      "19:51:11 - cmdstanpy - INFO - Chain [1] start processing\n"
     ]
    },
    {
     "name": "stdout",
     "output_type": "stream",
     "text": [
      "It's overpredicted.\n",
      "Monthly Error: 82.63 Period MAE: 2.98\n"
     ]
    },
    {
     "name": "stderr",
     "output_type": "stream",
     "text": [
      "19:51:12 - cmdstanpy - INFO - Chain [1] start processing\n",
      "19:51:12 - cmdstanpy - INFO - Chain [1] done processing\n",
      "19:51:12 - cmdstanpy - INFO - Chain [1] done processing\n"
     ]
    },
    {
     "name": "stdout",
     "output_type": "stream",
     "text": [
      "It's overpredicted.\n",
      "Monthly Error: 88.35 Period MAE: 21.490000000000002\n"
     ]
    },
    {
     "name": "stderr",
     "output_type": "stream",
     "text": [
      "19:51:13 - cmdstanpy - INFO - Chain [1] start processing\n",
      "19:51:13 - cmdstanpy - INFO - Chain [1] start processing\n",
      "19:51:14 - cmdstanpy - INFO - Chain [1] done processing\n"
     ]
    },
    {
     "name": "stdout",
     "output_type": "stream",
     "text": [
      "It's underpredicted.\n",
      "Monthly Error: 100.0 Period MAE: 100.0\n"
     ]
    },
    {
     "name": "stderr",
     "output_type": "stream",
     "text": [
      "19:51:14 - cmdstanpy - INFO - Chain [1] done processing\n"
     ]
    },
    {
     "name": "stdout",
     "output_type": "stream",
     "text": [
      "It's overpredicted.\n",
      "Monthly Error: 88.35 Period MAE:\n",
      " 21.490000000000002"
     ]
    },
    {
     "name": "stderr",
     "output_type": "stream",
     "text": [
      "19:51:15 - cmdstanpy - INFO - Chain [1] start processing\n",
      "19:51:16 - cmdstanpy - INFO - Chain [1] start processing\n",
      "19:51:16 - cmdstanpy - INFO - Chain [1] done processing\n",
      "19:51:16 - cmdstanpy - INFO - Chain [1] done processing\n"
     ]
    },
    {
     "name": "stdout",
     "output_type": "stream",
     "text": [
      "It's underpredicted.\n",
      "Monthly Error: 46.95 Period MAE: 55.169999999999995\n",
      "It's overpredicted.\n",
      "Monthly Error: 88.35 Period MAE: 21.490000000000002\n"
     ]
    },
    {
     "name": "stderr",
     "output_type": "stream",
     "text": [
      "19:51:18 - cmdstanpy - INFO - Chain [1] start processing\n",
      "19:51:18 - cmdstanpy - INFO - Chain [1] start processing\n",
      "19:51:18 - cmdstanpy - INFO - Chain [1] done processing\n"
     ]
    },
    {
     "name": "stdout",
     "output_type": "stream",
     "text": [
      "It's underpredicted.\n",
      "Monthly Error: 46.95 Period MAE: 55.169999999999995\n"
     ]
    },
    {
     "name": "stderr",
     "output_type": "stream",
     "text": [
      "19:51:19 - cmdstanpy - INFO - Chain [1] done processing\n"
     ]
    },
    {
     "name": "stdout",
     "output_type": "stream",
     "text": [
      "It's underpredicted.\n",
      "Monthly Error: 46.95 Period MAE: 55.169999999999995\n"
     ]
    },
    {
     "name": "stderr",
     "output_type": "stream",
     "text": [
      "19:51:20 - cmdstanpy - INFO - Chain [1] start processing\n"
     ]
    },
    {
     "name": "stdout",
     "output_type": "stream",
     "text": [
      "It's overpredicted.\n",
      "Monthly Error: 89.05 Period MAE: 19.84\n"
     ]
    },
    {
     "name": "stderr",
     "output_type": "stream",
     "text": [
      "19:51:20 - cmdstanpy - INFO - Chain [1] start processing\n",
      "19:51:21 - cmdstanpy - INFO - Chain [1] done processing\n",
      "19:51:21 - cmdstanpy - INFO - Chain [1] done processing\n",
      "19:51:22 - cmdstanpy - INFO - Chain [1] start processing\n"
     ]
    },
    {
     "name": "stdout",
     "output_type": "stream",
     "text": [
      "It's overpredicted.\n",
      "Monthly Error: 89.05 Period MAE: 19.84\n"
     ]
    },
    {
     "name": "stderr",
     "output_type": "stream",
     "text": [
      "19:51:23 - cmdstanpy - INFO - Chain [1] start processing\n"
     ]
    },
    {
     "name": "stdout",
     "output_type": "stream",
     "text": [
      "It's underpredicted.\n",
      "Monthly Error:"
     ]
    },
    {
     "name": "stderr",
     "output_type": "stream",
     "text": [
      "19:51:23 - cmdstanpy - INFO - Chain [1] done processing\n"
     ]
    },
    {
     "name": "stdout",
     "output_type": "stream",
     "text": [
      " 46.71 Period MAE: 55.00000000000001\n"
     ]
    },
    {
     "name": "stderr",
     "output_type": "stream",
     "text": [
      "19:51:23 - cmdstanpy - INFO - Chain [1] done processing\n"
     ]
    },
    {
     "name": "stdout",
     "output_type": "stream",
     "text": [
      "It's overpredicted.\n",
      "Monthly Error: 89.05 Period MAE: 19.84\n"
     ]
    },
    {
     "name": "stderr",
     "output_type": "stream",
     "text": [
      "19:51:25 - cmdstanpy - INFO - Chain [1] start processing\n",
      "19:51:25 - cmdstanpy - INFO - Chain [1] start processing\n",
      "19:51:25 - cmdstanpy - INFO - Chain [1] done processing\n"
     ]
    },
    {
     "name": "stdout",
     "output_type": "stream",
     "text": [
      "It's underpredicted.\n",
      "Monthly Error: 46.71 Period MAE: 55.00000000000001\n"
     ]
    },
    {
     "name": "stderr",
     "output_type": "stream",
     "text": [
      "19:51:26 - cmdstanpy - INFO - Chain [1] done processing\n"
     ]
    },
    {
     "name": "stdout",
     "output_type": "stream",
     "text": [
      "It's overpredicted.\n",
      "Monthly Error: 84.0 Period MAE: 17.349999999999998\n"
     ]
    },
    {
     "name": "stderr",
     "output_type": "stream",
     "text": [
      "19:51:27 - cmdstanpy - INFO - Chain [1] start processing\n",
      "19:51:28 - cmdstanpy - INFO - Chain [1] start processing\n",
      "19:51:28 - cmdstanpy - INFO - Chain [1] done processing\n",
      "19:51:28 - cmdstanpy - INFO - Chain [1] done processing\n"
     ]
    },
    {
     "name": "stdout",
     "output_type": "stream",
     "text": [
      "It's underpredicted.\n",
      "Monthly Error: 46.71 Period MAE: 55.00000000000001\n",
      "It's overpredicted.\n",
      "Monthly Error: 84.0 Period MAE:17.349999999999998 \n"
     ]
    },
    {
     "name": "stderr",
     "output_type": "stream",
     "text": [
      "19:51:30 - cmdstanpy - INFO - Chain [1] start processing\n"
     ]
    },
    {
     "name": "stdout",
     "output_type": "stream",
     "text": [
      "It's underpredicted.\n",
      "Monthly Error: 46.74 Period MAE: 55.02\n"
     ]
    },
    {
     "name": "stderr",
     "output_type": "stream",
     "text": [
      "19:51:30 - cmdstanpy - INFO - Chain [1] start processing\n",
      "19:51:30 - cmdstanpy - INFO - Chain [1] done processing\n",
      "19:51:31 - cmdstanpy - INFO - Chain [1] done processing\n",
      "19:51:32 - cmdstanpy - INFO - Chain [1] start processing\n"
     ]
    },
    {
     "name": "stdout",
     "output_type": "stream",
     "text": [
      "It's overpredicted.\n",
      "Monthly Error: 84.0 Period MAE: 17.349999999999998\n",
      "It's underpredicted.\n",
      "Monthly Error: 46.74 Period MAE: 55.02\n"
     ]
    },
    {
     "name": "stderr",
     "output_type": "stream",
     "text": [
      "19:51:33 - cmdstanpy - INFO - Chain [1] start processing\n",
      "19:51:33 - cmdstanpy - INFO - Chain [1] done processing\n",
      "19:51:33 - cmdstanpy - INFO - Chain [1] done processing\n",
      "19:51:34 - cmdstanpy - INFO - Chain [1] start processing\n"
     ]
    },
    {
     "name": "stdout",
     "output_type": "stream",
     "text": [
      "It's overpredicted.\n",
      "Monthly Error: 96.92 Period MAE: 25.119999999999997\n"
     ]
    },
    {
     "name": "stderr",
     "output_type": "stream",
     "text": [
      "19:51:35 - cmdstanpy - INFO - Chain [1] start processing\n",
      "19:51:35 - cmdstanpy - INFO - Chain [1] done processing\n"
     ]
    },
    {
     "name": "stdout",
     "output_type": "stream",
     "text": [
      "It's underpredicted.\n",
      "Monthly Error: 46.74 Period MAE: 55.02\n"
     ]
    },
    {
     "name": "stderr",
     "output_type": "stream",
     "text": [
      "19:51:36 - cmdstanpy - INFO - Chain [1] done processing\n"
     ]
    },
    {
     "name": "stdout",
     "output_type": "stream",
     "text": [
      "It's overpredicted.\n",
      "Monthly Error: 96.92 Period MAE: 25.119999999999997\n"
     ]
    },
    {
     "name": "stderr",
     "output_type": "stream",
     "text": [
      "19:51:37 - cmdstanpy - INFO - Chain [1] start processing\n",
      "19:51:37 - cmdstanpy - INFO - Chain [1] start processing\n"
     ]
    },
    {
     "name": "stdout",
     "output_type": "stream",
     "text": [
      "It's underpredicted.\n",
      "Monthly Error: 100.0 Period MAE: 100.0\n"
     ]
    },
    {
     "name": "stderr",
     "output_type": "stream",
     "text": [
      "19:51:37 - cmdstanpy - INFO - Chain [1] done processing\n",
      "19:51:39 - cmdstanpy - INFO - Chain [1] done processing\n",
      "19:51:39 - cmdstanpy - INFO - Chain [1] start processing\n"
     ]
    },
    {
     "name": "stdout",
     "output_type": "stream",
     "text": [
      "It's underpredicted.\n",
      "Monthly Error: 100.0 Period MAE: 100.0\n",
      "It's overpredicted.\n",
      "Monthly Error: 96.92 Period MAE: 25.119999999999997\n"
     ]
    },
    {
     "name": "stderr",
     "output_type": "stream",
     "text": [
      "19:51:40 - cmdstanpy - INFO - Chain [1] start processing\n",
      "19:51:40 - cmdstanpy - INFO - Chain [1] done processing\n",
      "19:51:41 - cmdstanpy - INFO - Chain [1] done processing\n",
      "19:51:41 - cmdstanpy - INFO - Chain [1] start processing\n"
     ]
    },
    {
     "name": "stdout",
     "output_type": "stream",
     "text": [
      "It's overpredicted.\n",
      "Monthly Error: 97.29 Period MAE: 25.080000000000002\n",
      "It's underpredicted.\n",
      "Monthly Error: 100.0 Period MAE: 100.0\n"
     ]
    },
    {
     "name": "stderr",
     "output_type": "stream",
     "text": [
      "19:51:42 - cmdstanpy - INFO - Chain [1] start processing\n",
      "19:51:43 - cmdstanpy - INFO - Chain [1] done processing\n",
      "19:51:43 - cmdstanpy - INFO - Chain [1] done processing\n",
      "19:51:44 - cmdstanpy - INFO - Chain [1] start processing\n"
     ]
    },
    {
     "name": "stdout",
     "output_type": "stream",
     "text": [
      "It's overpredicted.\n",
      "Monthly Error: 97.29 It's underpredicted.\n",
      "Monthly Error: Period MAE:41.56  25.080000000000002Period MAE: 58.91\n",
      "\n"
     ]
    },
    {
     "name": "stderr",
     "output_type": "stream",
     "text": [
      "19:51:45 - cmdstanpy - INFO - Chain [1] start processing\n",
      "19:51:45 - cmdstanpy - INFO - Chain [1] done processing\n",
      "19:51:46 - cmdstanpy - INFO - Chain [1] done processing\n",
      "19:51:46 - cmdstanpy - INFO - Chain [1] start processing\n"
     ]
    },
    {
     "name": "stdout",
     "output_type": "stream",
     "text": [
      "It's overpredicted.\n",
      "Monthly Error: 97.29 Period MAE: 25.080000000000002\n",
      "It's underpredicted.\n",
      "Monthly Error: 41.56 Period MAE: 58.91\n"
     ]
    },
    {
     "name": "stderr",
     "output_type": "stream",
     "text": [
      "19:51:47 - cmdstanpy - INFO - Chain [1] start processing\n",
      "19:51:47 - cmdstanpy - INFO - Chain [1] done processing\n",
      "19:51:48 - cmdstanpy - INFO - Chain [1] start processing\n",
      "19:51:48 - cmdstanpy - INFO - Chain [1] done processing\n"
     ]
    },
    {
     "name": "stdout",
     "output_type": "stream",
     "text": [
      "It's overpredicted.\n",
      "Monthly Error: 97.28 Period MAE: 24.69\n",
      "It's underpredicted.\n",
      "Monthly Error: 41.56 Period MAE: 58.91\n"
     ]
    },
    {
     "name": "stderr",
     "output_type": "stream",
     "text": [
      "19:51:50 - cmdstanpy - INFO - Chain [1] start processing\n",
      "19:51:50 - cmdstanpy - INFO - Chain [1] done processing\n",
      "19:51:51 - cmdstanpy - INFO - Chain [1] done processing\n",
      "19:51:51 - cmdstanpy - INFO - Chain [1] start processing\n"
     ]
    },
    {
     "name": "stdout",
     "output_type": "stream",
     "text": [
      "It's overpredicted.\n",
      "Monthly Error: 97.28 Period MAE: 24.69\n",
      "It's underpredicted.\n",
      "Monthly Error: 88.64 Period MAE: 91.13\n"
     ]
    },
    {
     "name": "stderr",
     "output_type": "stream",
     "text": [
      "19:51:52 - cmdstanpy - INFO - Chain [1] start processing\n",
      "19:51:52 - cmdstanpy - INFO - Chain [1] done processing\n",
      "19:51:53 - cmdstanpy - INFO - Chain [1] start processing\n",
      "19:51:54 - cmdstanpy - INFO - Chain [1] done processing\n",
      "19:51:54 - cmdstanpy - INFO - Chain [1] done processing\n"
     ]
    },
    {
     "name": "stdout",
     "output_type": "stream",
     "text": [
      "It's underpredicted.\n",
      "Monthly Error: 88.64 Period MAE: 91.13It's overpredicted.\n",
      "Monthly Error: \n",
      "97.28 Period MAE: 24.69\n",
      "It's overpredicted.\n",
      "Monthly Error: 88.35 Period MAE: 21.490000000000002\n"
     ]
    },
    {
     "name": "stderr",
     "output_type": "stream",
     "text": [
      "19:51:55 - cmdstanpy - INFO - Chain [1] start processing\n",
      "19:51:55 - cmdstanpy - INFO - Chain [1] done processing\n",
      "19:51:56 - cmdstanpy - INFO - Chain [1] start processing\n",
      "19:51:56 - cmdstanpy - INFO - Chain [1] start processing\n",
      "19:51:56 - cmdstanpy - INFO - Chain [1] done processing\n"
     ]
    },
    {
     "name": "stdout",
     "output_type": "stream",
     "text": [
      "It's underpredicted.\n",
      "Monthly Error: 88.64 Period MAE: 91.13\n"
     ]
    },
    {
     "name": "stderr",
     "output_type": "stream",
     "text": [
      "19:51:57 - cmdstanpy - INFO - Chain [1] done processing\n"
     ]
    },
    {
     "name": "stdout",
     "output_type": "stream",
     "text": [
      "It's overpredicted.\n",
      "Monthly Error: 88.35 Period MAE: 21.490000000000002\n"
     ]
    },
    {
     "name": "stderr",
     "output_type": "stream",
     "text": [
      "19:51:58 - cmdstanpy - INFO - Chain [1] start processing\n",
      "19:51:58 - cmdstanpy - INFO - Chain [1] start processing\n",
      "19:51:59 - cmdstanpy - INFO - Chain [1] done processing\n",
      "19:51:59 - cmdstanpy - INFO - Chain [1] done processing\n"
     ]
    },
    {
     "name": "stdout",
     "output_type": "stream",
     "text": [
      "It's overpredicted.\n",
      "Monthly Error: 88.35 Period MAE: 21.490000000000002\n",
      "It's underpredicted.\n",
      "Monthly Error: 46.95 Period MAE: \n",
      "55.169999999999995It's underpredicted.\n",
      "Monthly Error: 46.95 Period MAE: "
     ]
    },
    {
     "name": "stderr",
     "output_type": "stream",
     "text": [
      "19:52:01 - cmdstanpy - INFO - Chain [1] start processing\n"
     ]
    },
    {
     "name": "stdout",
     "output_type": "stream",
     "text": [
      "55.169999999999995\n"
     ]
    },
    {
     "name": "stderr",
     "output_type": "stream",
     "text": [
      "19:52:02 - cmdstanpy - INFO - Chain [1] start processing\n",
      "19:52:02 - cmdstanpy - INFO - Chain [1] done processing\n",
      "19:52:03 - cmdstanpy - INFO - Chain [1] done processing\n"
     ]
    },
    {
     "name": "stdout",
     "output_type": "stream",
     "text": [
      "It's underpredicted.\n",
      "Monthly Error: 46.95 Period MAE: 55.169999999999995\n"
     ]
    },
    {
     "name": "stderr",
     "output_type": "stream",
     "text": [
      "19:52:03 - cmdstanpy - INFO - Chain [1] start processing\n",
      "19:52:04 - cmdstanpy - INFO - Chain [1] start processing\n",
      "19:52:04 - cmdstanpy - INFO - Chain [1] done processing\n"
     ]
    },
    {
     "name": "stdout",
     "output_type": "stream",
     "text": [
      "It's overpredicted.\n",
      "Monthly Error: 88.55 Period MAE: 18.92\n"
     ]
    },
    {
     "name": "stderr",
     "output_type": "stream",
     "text": [
      "19:52:05 - cmdstanpy - INFO - Chain [1] done processing\n"
     ]
    },
    {
     "name": "stdout",
     "output_type": "stream",
     "text": [
      "It's overpredicted.\n",
      "Monthly Error: 88.55 Period MAE: 18.92\n"
     ]
    },
    {
     "name": "stderr",
     "output_type": "stream",
     "text": [
      "19:52:06 - cmdstanpy - INFO - Chain [1] start processing\n",
      "19:52:06 - cmdstanpy - INFO - Chain [1] start processing\n",
      "19:52:07 - cmdstanpy - INFO - Chain [1] done processing\n"
     ]
    },
    {
     "name": "stdout",
     "output_type": "stream",
     "text": [
      "It's underpredicted.\n",
      "Monthly Error: 46.94 Period MAE: 55.169999999999995\n"
     ]
    },
    {
     "name": "stderr",
     "output_type": "stream",
     "text": [
      "19:52:07 - cmdstanpy - INFO - Chain [1] done processing\n"
     ]
    },
    {
     "name": "stdout",
     "output_type": "stream",
     "text": [
      "It's overpredicted.\n",
      "Monthly Error: 88.55 Period MAE: 18.92"
     ]
    },
    {
     "name": "stderr",
     "output_type": "stream",
     "text": [
      "19:52:08 - cmdstanpy - INFO - Chain [1] start processing\n"
     ]
    },
    {
     "name": "stdout",
     "output_type": "stream",
     "text": [
      "\n"
     ]
    },
    {
     "name": "stderr",
     "output_type": "stream",
     "text": [
      "19:52:09 - cmdstanpy - INFO - Chain [1] start processing\n"
     ]
    },
    {
     "name": "stdout",
     "output_type": "stream",
     "text": [
      "It's underpredicted.\n",
      "Monthly Error: 46.94 Period MAE: 55.169999999999995\n"
     ]
    },
    {
     "name": "stderr",
     "output_type": "stream",
     "text": [
      "19:52:09 - cmdstanpy - INFO - Chain [1] done processing\n",
      "19:52:10 - cmdstanpy - INFO - Chain [1] done processing\n",
      "19:52:11 - cmdstanpy - INFO - Chain [1] start processing\n"
     ]
    },
    {
     "name": "stdout",
     "output_type": "stream",
     "text": [
      "It's overpredicted.\n",
      "Monthly Error: 80.57 Period MAE: 13.420000000000002\n",
      "It's underpredicted.\n",
      "Monthly Error: 46.94 Period MAE: 55.169999999999995\n"
     ]
    },
    {
     "name": "stderr",
     "output_type": "stream",
     "text": [
      "19:52:11 - cmdstanpy - INFO - Chain [1] start processing\n",
      "19:52:12 - cmdstanpy - INFO - Chain [1] done processing\n",
      "19:52:12 - cmdstanpy - INFO - Chain [1] done processing\n",
      "19:52:13 - cmdstanpy - INFO - Chain [1] start processing\n"
     ]
    },
    {
     "name": "stdout",
     "output_type": "stream",
     "text": [
      "It's overpredicted.\n",
      "Monthly Error: 80.57 Period MAE: 13.420000000000002\n"
     ]
    },
    {
     "name": "stderr",
     "output_type": "stream",
     "text": [
      "19:52:14 - cmdstanpy - INFO - Chain [1] start processing\n",
      "19:52:14 - cmdstanpy - INFO - Chain [1] done processing\n"
     ]
    },
    {
     "name": "stdout",
     "output_type": "stream",
     "text": [
      "It's underpredicted.\n",
      "Monthly Error: 46.95 Period MAE: 55.169999999999995\n"
     ]
    },
    {
     "name": "stderr",
     "output_type": "stream",
     "text": [
      "19:52:15 - cmdstanpy - INFO - Chain [1] done processing\n"
     ]
    },
    {
     "name": "stdout",
     "output_type": "stream",
     "text": [
      "It's overpredicted.\n",
      "Monthly Error: 80.57 Period MAE: 13.420000000000002\n"
     ]
    },
    {
     "name": "stderr",
     "output_type": "stream",
     "text": [
      "19:52:16 - cmdstanpy - INFO - Chain [1] start processing\n",
      "19:52:16 - cmdstanpy - INFO - Chain [1] start processing\n",
      "19:52:16 - cmdstanpy - INFO - Chain [1] done processing\n"
     ]
    },
    {
     "name": "stdout",
     "output_type": "stream",
     "text": [
      "It's underpredicted.\n",
      "Monthly Error: 46.95 Period MAE: 55.169999999999995\n"
     ]
    },
    {
     "name": "stderr",
     "output_type": "stream",
     "text": [
      "19:52:18 - cmdstanpy - INFO - Chain [1] done processing\n",
      "19:52:18 - cmdstanpy - INFO - Chain [1] start processing\n"
     ]
    },
    {
     "name": "stdout",
     "output_type": "stream",
     "text": [
      "It's underpredicted.\n",
      "Monthly Error: 46.95 Period MAE: 55.169999999999995\n",
      "It's overpredicted.\n",
      "Monthly Error: 96.92 Period MAE: 25.119999999999997\n"
     ]
    },
    {
     "name": "stderr",
     "output_type": "stream",
     "text": [
      "19:52:19 - cmdstanpy - INFO - Chain [1] start processing\n",
      "19:52:19 - cmdstanpy - INFO - Chain [1] done processing\n",
      "19:52:20 - cmdstanpy - INFO - Chain [1] done processing\n",
      "19:52:20 - cmdstanpy - INFO - Chain [1] start processing\n"
     ]
    },
    {
     "name": "stdout",
     "output_type": "stream",
     "text": [
      "It's underpredicted.\n",
      "Monthly Error: 100.0 Period MAE: 100.0\n",
      "It's overpredicted.\n",
      "Monthly Error:"
     ]
    },
    {
     "name": "stderr",
     "output_type": "stream",
     "text": [
      "19:52:21 - cmdstanpy - INFO - Chain [1] start processing\n"
     ]
    },
    {
     "name": "stdout",
     "output_type": "stream",
     "text": [
      " 96.92 Period MAE: 25.119999999999997\n"
     ]
    },
    {
     "name": "stderr",
     "output_type": "stream",
     "text": [
      "19:52:21 - cmdstanpy - INFO - Chain [1] done processing\n",
      "19:52:23 - cmdstanpy - INFO - Chain [1] done processing\n",
      "19:52:23 - cmdstanpy - INFO - Chain [1] start processing\n"
     ]
    },
    {
     "name": "stdout",
     "output_type": "stream",
     "text": [
      "It's overpredicted.\n",
      "Monthly Error: 96.92 Period MAE: 25.119999999999997\n",
      "It's underpredicted.\n",
      "Monthly Error: 100.0 Period MAE: 100.0\n"
     ]
    },
    {
     "name": "stderr",
     "output_type": "stream",
     "text": [
      "19:52:24 - cmdstanpy - INFO - Chain [1] start processing\n",
      "19:52:24 - cmdstanpy - INFO - Chain [1] done processing\n",
      "19:52:25 - cmdstanpy - INFO - Chain [1] done processing\n",
      "19:52:25 - cmdstanpy - INFO - Chain [1] start processing\n"
     ]
    },
    {
     "name": "stdout",
     "output_type": "stream",
     "text": [
      "It's underpredicted.\n",
      "Monthly Error: 100.0 Period MAE: 100.0\n",
      "It's overpredicted.\n",
      "Monthly Error: 98.01 Period MAE: 25.77\n"
     ]
    },
    {
     "name": "stderr",
     "output_type": "stream",
     "text": [
      "19:52:26 - cmdstanpy - INFO - Chain [1] start processing\n",
      "19:52:26 - cmdstanpy - INFO - Chain [1] done processing\n",
      "19:52:28 - cmdstanpy - INFO - Chain [1] start processing\n",
      "19:52:28 - cmdstanpy - INFO - Chain [1] done processing\n"
     ]
    },
    {
     "name": "stdout",
     "output_type": "stream",
     "text": [
      "It's overpredicted.\n",
      "Monthly Error: 98.01 Period MAE: 25.77\n",
      "It's underpredicted.\n",
      "Monthly Error: 56.0 Period MAE: 72.5\n"
     ]
    },
    {
     "name": "stderr",
     "output_type": "stream",
     "text": [
      "19:52:30 - cmdstanpy - INFO - Chain [1] start processing\n",
      "19:52:30 - cmdstanpy - INFO - Chain [1] done processing\n",
      "19:52:30 - cmdstanpy - INFO - Chain [1] done processing\n",
      "19:52:31 - cmdstanpy - INFO - Chain [1] start processing\n"
     ]
    },
    {
     "name": "stdout",
     "output_type": "stream",
     "text": [
      "It's overpredicted.\n",
      "Monthly Error: 98.01 Period MAE: 25.77\n",
      "It's underpredicted.\n",
      "Monthly Error: 56.0 Period MAE: 72.5\n"
     ]
    },
    {
     "name": "stderr",
     "output_type": "stream",
     "text": [
      "19:52:32 - cmdstanpy - INFO - Chain [1] start processing\n",
      "19:52:32 - cmdstanpy - INFO - Chain [1] done processing\n",
      "19:52:33 - cmdstanpy - INFO - Chain [1] start processing\n"
     ]
    },
    {
     "name": "stdout",
     "output_type": "stream",
     "text": [
      "It's underpredicted.\n",
      "Monthly Error: 56.0 Period MAE: 72.5\n"
     ]
    },
    {
     "name": "stderr",
     "output_type": "stream",
     "text": [
      "19:52:34 - cmdstanpy - INFO - Chain [1] done processing\n",
      "19:52:34 - cmdstanpy - INFO - Chain [1] start processing\n",
      "19:52:35 - cmdstanpy - INFO - Chain [1] done processing\n"
     ]
    },
    {
     "name": "stdout",
     "output_type": "stream",
     "text": [
      "It's overpredicted.\n",
      "Monthly Error: 96.08 Period MAE: 24.09\n"
     ]
    },
    {
     "name": "stderr",
     "output_type": "stream",
     "text": [
      "19:52:36 - cmdstanpy - INFO - Chain [1] done processing\n"
     ]
    },
    {
     "name": "stdout",
     "output_type": "stream",
     "text": [
      "It's underpredicted.\n",
      "Monthly Error: 86.43 Period MAE: 89.42\n",
      "It's overpredicted.\n",
      "Monthly Error: 96.08 Period MAE: 24.09\n"
     ]
    },
    {
     "name": "stderr",
     "output_type": "stream",
     "text": [
      "19:52:37 - cmdstanpy - INFO - Chain [1] start processing\n",
      "19:52:37 - cmdstanpy - INFO - Chain [1] start processing\n",
      "19:52:37 - cmdstanpy - INFO - Chain [1] done processing\n",
      "19:52:38 - cmdstanpy - INFO - Chain [1] start processing\n",
      "19:52:39 - cmdstanpy - INFO - Chain [1] done processing\n"
     ]
    },
    {
     "name": "stdout",
     "output_type": "stream",
     "text": [
      "It's underpredicted.\n",
      "Monthly Error: 86.43 Period MAE: 89.42\n"
     ]
    },
    {
     "name": "stderr",
     "output_type": "stream",
     "text": [
      "19:52:40 - cmdstanpy - INFO - Chain [1] start processing\n"
     ]
    },
    {
     "name": "stdout",
     "output_type": "stream",
     "text": [
      "It's overpredicted."
     ]
    },
    {
     "name": "stderr",
     "output_type": "stream",
     "text": [
      "19:52:40 - cmdstanpy - INFO - Chain [1] done processing\n"
     ]
    },
    {
     "name": "stdout",
     "output_type": "stream",
     "text": [
      "\n",
      "Monthly Error: 88.35 Period MAE: 21.490000000000002\n"
     ]
    },
    {
     "name": "stderr",
     "output_type": "stream",
     "text": [
      "19:52:40 - cmdstanpy - INFO - Chain [1] done processing\n"
     ]
    },
    {
     "name": "stdout",
     "output_type": "stream",
     "text": [
      "It's overpredicted.\n",
      "Monthly Error: 96.08 Period MAE: 24.09\n"
     ]
    },
    {
     "name": "stderr",
     "output_type": "stream",
     "text": [
      "19:52:41 - cmdstanpy - INFO - Chain [1] start processing\n"
     ]
    },
    {
     "name": "stdout",
     "output_type": "stream",
     "text": [
      "It's underpredicted.\n",
      "Monthly Error: 86.43 Period MAE: 89.42\n"
     ]
    },
    {
     "name": "stderr",
     "output_type": "stream",
     "text": [
      "19:52:42 - cmdstanpy - INFO - Chain [1] start processing\n",
      "19:52:42 - cmdstanpy - INFO - Chain [1] done processing\n",
      "19:52:42 - cmdstanpy - INFO - Chain [1] done processing\n"
     ]
    },
    {
     "name": "stdout",
     "output_type": "stream",
     "text": [
      "It's overpredicted.\n",
      "Monthly Error: 88.35 Period MAE: 21.490000000000002\n"
     ]
    },
    {
     "name": "stderr",
     "output_type": "stream",
     "text": [
      "19:52:43 - cmdstanpy - INFO - Chain [1] start processing\n",
      "19:52:43 - cmdstanpy - INFO - Chain [1] start processing\n",
      "19:52:44 - cmdstanpy - INFO - Chain [1] done processing\n",
      "19:52:44 - cmdstanpy - INFO - Chain [1] done processing\n"
     ]
    },
    {
     "name": "stdout",
     "output_type": "stream",
     "text": [
      "It's underpredicted.\n",
      "Monthly Error: 46.95 Period MAE: 55.169999999999995\n",
      "It's overpredicted.\n",
      "Monthly Error: 88.35 Period MAE: 21.490000000000002\n"
     ]
    },
    {
     "name": "stderr",
     "output_type": "stream",
     "text": [
      "19:52:45 - cmdstanpy - INFO - Chain [1] start processing\n",
      "19:52:46 - cmdstanpy - INFO - Chain [1] start processing\n",
      "19:52:46 - cmdstanpy - INFO - Chain [1] done processing\n",
      "19:52:46 - cmdstanpy - INFO - Chain [1] done processing\n"
     ]
    },
    {
     "name": "stdout",
     "output_type": "stream",
     "text": [
      "It's underpredicted.\n",
      "Monthly Error: 46.95 Period MAE: 55.169999999999995\n",
      "It's overpredicted.\n",
      "Monthly Error: 86.6 Period MAE: 17.849999999999998\n",
      "It's underpredicted.\n",
      "Monthly Error: 46.95 Period MAE: 55.169999999999995\n"
     ]
    },
    {
     "name": "stderr",
     "output_type": "stream",
     "text": [
      "19:52:48 - cmdstanpy - INFO - Chain [1] start processing\n",
      "19:52:48 - cmdstanpy - INFO - Chain [1] start processing\n",
      "19:52:48 - cmdstanpy - INFO - Chain [1] done processing\n",
      "19:52:49 - cmdstanpy - INFO - Chain [1] done processing\n",
      "19:52:50 - cmdstanpy - INFO - Chain [1] start processing\n"
     ]
    },
    {
     "name": "stdout",
     "output_type": "stream",
     "text": [
      "It's underpredicted.\n",
      "Monthly Error: 46.94 Period MAE: 55.169999999999995\n",
      "It's overpredicted.\n",
      "Monthly Error: 86.6 Period MAE: 17.849999999999998\n"
     ]
    },
    {
     "name": "stderr",
     "output_type": "stream",
     "text": [
      "19:52:50 - cmdstanpy - INFO - Chain [1] start processing\n",
      "19:52:51 - cmdstanpy - INFO - Chain [1] done processing\n",
      "19:52:51 - cmdstanpy - INFO - Chain [1] done processing\n"
     ]
    },
    {
     "name": "stdout",
     "output_type": "stream",
     "text": [
      "It's overpredicted.\n",
      "Monthly Error: 86.6 Period MAE: 17.849999999999998\n"
     ]
    },
    {
     "name": "stderr",
     "output_type": "stream",
     "text": [
      "19:52:52 - cmdstanpy - INFO - Chain [1] start processing\n",
      "19:52:52 - cmdstanpy - INFO - Chain [1] start processing\n",
      "19:52:53 - cmdstanpy - INFO - Chain [1] done processing\n"
     ]
    },
    {
     "name": "stdout",
     "output_type": "stream",
     "text": [
      "It's underpredicted.\n",
      "Monthly Error: 46.94 Period MAE: 55.169999999999995\n"
     ]
    },
    {
     "name": "stderr",
     "output_type": "stream",
     "text": [
      "19:52:53 - cmdstanpy - INFO - Chain [1] done processing\n"
     ]
    },
    {
     "name": "stdout",
     "output_type": "stream",
     "text": [
      "It's overpredicted.\n",
      "Monthly Error: 77.88 Period MAE: 11.5\n"
     ]
    },
    {
     "name": "stderr",
     "output_type": "stream",
     "text": [
      "19:52:55 - cmdstanpy - INFO - Chain [1] start processing\n",
      "19:52:55 - cmdstanpy - INFO - Chain [1] start processing\n"
     ]
    },
    {
     "name": "stdout",
     "output_type": "stream",
     "text": [
      "It's underpredicted."
     ]
    },
    {
     "name": "stderr",
     "output_type": "stream",
     "text": [
      "19:52:55 - cmdstanpy - INFO - Chain [1] done processing\n"
     ]
    },
    {
     "name": "stdout",
     "output_type": "stream",
     "text": [
      "\n",
      "Monthly Error: 46.94 Period MAE: 55.169999999999995\n"
     ]
    },
    {
     "name": "stderr",
     "output_type": "stream",
     "text": [
      "19:52:56 - cmdstanpy - INFO - Chain [1] done processing\n",
      "19:52:57 - cmdstanpy - INFO - Chain [1] start processing\n"
     ]
    },
    {
     "name": "stdout",
     "output_type": "stream",
     "text": [
      "It's overpredicted.\n",
      "Monthly Error: 77.88 Period MAE: It's underpredicted.\n",
      "11.5\n",
      "Monthly Error: 46.95 Period MAE: 55.169999999999995\n"
     ]
    },
    {
     "name": "stderr",
     "output_type": "stream",
     "text": [
      "19:52:57 - cmdstanpy - INFO - Chain [1] start processing\n",
      "19:52:58 - cmdstanpy - INFO - Chain [1] done processing\n",
      "19:52:58 - cmdstanpy - INFO - Chain [1] done processing\n",
      "19:52:59 - cmdstanpy - INFO - Chain [1] start processing\n"
     ]
    },
    {
     "name": "stdout",
     "output_type": "stream",
     "text": [
      "It's overpredicted.\n",
      "Monthly Error: 77.88 Period MAE: 11.5\n",
      "It's underpredicted."
     ]
    },
    {
     "name": "stderr",
     "output_type": "stream",
     "text": [
      "19:52:59 - cmdstanpy - INFO - Chain [1] start processing\n"
     ]
    },
    {
     "name": "stdout",
     "output_type": "stream",
     "text": [
      "\n",
      "Monthly Error: 46.95 Period MAE: 55.169999999999995\n"
     ]
    },
    {
     "name": "stderr",
     "output_type": "stream",
     "text": [
      "19:53:00 - cmdstanpy - INFO - Chain [1] done processing\n",
      "19:53:00 - cmdstanpy - INFO - Chain [1] done processing\n",
      "19:53:01 - cmdstanpy - INFO - Chain [1] start processing\n"
     ]
    },
    {
     "name": "stdout",
     "output_type": "stream",
     "text": [
      "It's overpredicted.\n",
      "Monthly Error: 96.92 Period MAE: 25.119999999999997\n"
     ]
    },
    {
     "name": "stderr",
     "output_type": "stream",
     "text": [
      "19:53:02 - cmdstanpy - INFO - Chain [1] start processing\n",
      "19:53:02 - cmdstanpy - INFO - Chain [1] done processing\n"
     ]
    },
    {
     "name": "stdout",
     "output_type": "stream",
     "text": [
      "It's underpredicted.\n",
      "Monthly Error: 46.95 Period MAE: 55.169999999999995\n"
     ]
    },
    {
     "name": "stderr",
     "output_type": "stream",
     "text": [
      "19:53:03 - cmdstanpy - INFO - Chain [1] done processing\n",
      "19:53:04 - cmdstanpy - INFO - Chain [1] start processing\n"
     ]
    },
    {
     "name": "stdout",
     "output_type": "stream",
     "text": [
      "It's overpredicted.\n",
      "Monthly Error: 96.92 Period MAE: 25.119999999999997\n",
      "It's underpredicted.\n",
      "Monthly Error: 100.0 Period MAE: 100.0\n"
     ]
    },
    {
     "name": "stderr",
     "output_type": "stream",
     "text": [
      "19:53:05 - cmdstanpy - INFO - Chain [1] start processing\n",
      "19:53:05 - cmdstanpy - INFO - Chain [1] done processing\n",
      "19:53:06 - cmdstanpy - INFO - Chain [1] done processing\n",
      "19:53:06 - cmdstanpy - INFO - Chain [1] start processing\n"
     ]
    },
    {
     "name": "stdout",
     "output_type": "stream",
     "text": [
      "It's overpredicted.\n",
      "Monthly Error: 96.92 Period MAE: 25.119999999999997\n",
      "It's underpredicted.\n"
     ]
    },
    {
     "name": "stderr",
     "output_type": "stream",
     "text": [
      "19:53:08 - cmdstanpy - INFO - Chain [1] start processing\n"
     ]
    },
    {
     "name": "stdout",
     "output_type": "stream",
     "text": [
      "Monthly Error: 100.0 Period MAE: 100.0\n"
     ]
    },
    {
     "name": "stderr",
     "output_type": "stream",
     "text": [
      "19:53:08 - cmdstanpy - INFO - Chain [1] done processing\n",
      "19:53:09 - cmdstanpy - INFO - Chain [1] done processing\n",
      "19:53:09 - cmdstanpy - INFO - Chain [1] start processing\n"
     ]
    },
    {
     "name": "stdout",
     "output_type": "stream",
     "text": [
      "It's underpredicted.\n",
      "Monthly Error: 100.0 Period MAE: 100.0\n",
      "It's overpredicted.\n",
      "Monthly Error: 96.85 Period MAE: 24.85\n"
     ]
    },
    {
     "name": "stderr",
     "output_type": "stream",
     "text": [
      "19:53:10 - cmdstanpy - INFO - Chain [1] start processing\n",
      "19:53:10 - cmdstanpy - INFO - Chain [1] done processing\n",
      "19:53:11 - cmdstanpy - INFO - Chain [1] done processing\n",
      "19:53:12 - cmdstanpy - INFO - Chain [1] start processing\n"
     ]
    },
    {
     "name": "stdout",
     "output_type": "stream",
     "text": [
      "It's underpredicted.\n",
      "Monthly Error: 55.94 Period MAE: 72.46000000000001\n",
      "It's overpredicted.\n",
      "Monthly Error: 96.85 Period MAE: 24.85\n"
     ]
    },
    {
     "name": "stderr",
     "output_type": "stream",
     "text": [
      "19:53:13 - cmdstanpy - INFO - Chain [1] start processing\n",
      "19:53:13 - cmdstanpy - INFO - Chain [1] done processing\n",
      "19:53:14 - cmdstanpy - INFO - Chain [1] done processing\n",
      "19:53:14 - cmdstanpy - INFO - Chain [1] start processing\n"
     ]
    },
    {
     "name": "stdout",
     "output_type": "stream",
     "text": [
      "It's underpredicted.\n",
      "Monthly Error: 55.94 Period MAE: 72.46000000000001\n",
      "It's overpredicted.\n",
      "Monthly Error: 96.85 Period MAE: 24.85\n"
     ]
    },
    {
     "name": "stderr",
     "output_type": "stream",
     "text": [
      "19:53:15 - cmdstanpy - INFO - Chain [1] start processing\n",
      "19:53:16 - cmdstanpy - INFO - Chain [1] done processing\n",
      "19:53:16 - cmdstanpy - INFO - Chain [1] done processing\n",
      "19:53:17 - cmdstanpy - INFO - Chain [1] start processing\n"
     ]
    },
    {
     "name": "stdout",
     "output_type": "stream",
     "text": [
      "It's overpredicted.\n",
      "Monthly Error: 97.14 Period MAE: 24.27\n",
      "It's underpredicted."
     ]
    },
    {
     "name": "stderr",
     "output_type": "stream",
     "text": [
      "19:53:17 - cmdstanpy - INFO - Chain [1] start processing\n"
     ]
    },
    {
     "name": "stdout",
     "output_type": "stream",
     "text": [
      "\n",
      "Monthly Error: 55.94 Period MAE: 72.46000000000001\n"
     ]
    },
    {
     "name": "stderr",
     "output_type": "stream",
     "text": [
      "19:53:18 - cmdstanpy - INFO - Chain [1] done processing\n",
      "19:53:19 - cmdstanpy - INFO - Chain [1] done processing\n",
      "19:53:19 - cmdstanpy - INFO - Chain [1] start processing\n"
     ]
    },
    {
     "name": "stdout",
     "output_type": "stream",
     "text": [
      "It's overpredicted.\n",
      "Monthly Error: 97.14 Period MAE: 24.27\n",
      "It's underpredicted.\n",
      "Monthly Error:"
     ]
    },
    {
     "name": "stderr",
     "output_type": "stream",
     "text": [
      "19:53:20 - cmdstanpy - INFO - Chain [1] start processing\n"
     ]
    },
    {
     "name": "stdout",
     "output_type": "stream",
     "text": [
      " 100.0 Period MAE: 100.0\n"
     ]
    },
    {
     "name": "stderr",
     "output_type": "stream",
     "text": [
      "19:53:20 - cmdstanpy - INFO - Chain [1] done processing\n",
      "19:53:21 - cmdstanpy - INFO - Chain [1] done processing\n",
      "19:53:22 - cmdstanpy - INFO - Chain [1] start processing\n"
     ]
    },
    {
     "name": "stdout",
     "output_type": "stream",
     "text": [
      "It's underpredicted.\n",
      "Monthly Error: 100.0 Period MAE: 100.0\n",
      "It's overpredicted.\n",
      "Monthly Error: 97.14 Period MAE: 24.27\n"
     ]
    },
    {
     "name": "stderr",
     "output_type": "stream",
     "text": [
      "19:53:22 - cmdstanpy - INFO - Chain [1] start processing\n",
      "19:53:23 - cmdstanpy - INFO - Chain [1] done processing\n",
      "19:53:23 - cmdstanpy - INFO - Chain [1] done processing\n"
     ]
    },
    {
     "name": "stdout",
     "output_type": "stream",
     "text": [
      "It's overpredicted.\n",
      "Monthly Error: 88.35 Period MAE: 21.490000000000002\n"
     ]
    },
    {
     "name": "stderr",
     "output_type": "stream",
     "text": [
      "19:53:24 - cmdstanpy - INFO - Chain [1] start processing\n",
      "19:53:24 - cmdstanpy - INFO - Chain [1] start processing\n",
      "19:53:24 - cmdstanpy - INFO - Chain [1] done processing\n",
      "19:53:25 - cmdstanpy - INFO - Chain [1] done processing\n"
     ]
    },
    {
     "name": "stdout",
     "output_type": "stream",
     "text": [
      "It's underpredicted.\n",
      "Monthly Error: 100.0 Period MAE: 100.0\n",
      "It's overpredicted.\n",
      "Monthly Error: 88.35 Period MAE: 21.490000000000002\n"
     ]
    },
    {
     "name": "stderr",
     "output_type": "stream",
     "text": [
      "19:53:26 - cmdstanpy - INFO - Chain [1] start processing\n",
      "19:53:27 - cmdstanpy - INFO - Chain [1] start processing\n",
      "19:53:27 - cmdstanpy - INFO - Chain [1] done processing\n"
     ]
    },
    {
     "name": "stdout",
     "output_type": "stream",
     "text": [
      "It's underpredicted.\n",
      "Monthly Error: 46.95 Period MAE: 55.169999999999995\n"
     ]
    },
    {
     "name": "stderr",
     "output_type": "stream",
     "text": [
      "19:53:27 - cmdstanpy - INFO - Chain [1] done processing\n"
     ]
    },
    {
     "name": "stdout",
     "output_type": "stream",
     "text": [
      "It's underpredicted.\n",
      "Monthly Error: 46.95 Period MAE: 55.169999999999995It's overpredicted.\n",
      "\n",
      "Monthly Error: 88.35 Period MAE: 21.490000000000002\n"
     ]
    },
    {
     "name": "stderr",
     "output_type": "stream",
     "text": [
      "19:53:29 - cmdstanpy - INFO - Chain [1] start processing\n",
      "19:53:29 - cmdstanpy - INFO - Chain [1] start processing\n",
      "19:53:29 - cmdstanpy - INFO - Chain [1] done processing\n",
      "19:53:30 - cmdstanpy - INFO - Chain [1] start processing\n",
      "19:53:30 - cmdstanpy - INFO - Chain [1] done processing\n"
     ]
    },
    {
     "name": "stdout",
     "output_type": "stream",
     "text": [
      "It's underpredicted.\n",
      "Monthly Error: 46.95 Period MAE: 55.169999999999995\n",
      "It's overpredicted.\n",
      "Monthly Error: 85.88 Period MAE: 17.61\n"
     ]
    },
    {
     "name": "stderr",
     "output_type": "stream",
     "text": [
      "19:53:32 - cmdstanpy - INFO - Chain [1] start processing\n",
      "19:53:32 - cmdstanpy - INFO - Chain [1] done processing\n",
      "19:53:32 - cmdstanpy - INFO - Chain [1] done processing\n"
     ]
    },
    {
     "name": "stdout",
     "output_type": "stream",
     "text": [
      "It's overpredicted.\n",
      "Monthly Error: 85.88 Period MAE: 17.61\n"
     ]
    },
    {
     "name": "stderr",
     "output_type": "stream",
     "text": [
      "19:53:33 - cmdstanpy - INFO - Chain [1] start processing\n",
      "19:53:34 - cmdstanpy - INFO - Chain [1] start processing\n",
      "19:53:34 - cmdstanpy - INFO - Chain [1] done processing\n"
     ]
    },
    {
     "name": "stdout",
     "output_type": "stream",
     "text": [
      "It's underpredicted.\n",
      "Monthly Error: 46.94 Period MAE: 55.16\n"
     ]
    },
    {
     "name": "stderr",
     "output_type": "stream",
     "text": [
      "19:53:34 - cmdstanpy - INFO - Chain [1] done processing\n"
     ]
    },
    {
     "name": "stdout",
     "output_type": "stream",
     "text": [
      "It's overpredicted.\n",
      "Monthly Error: 85.88 Period MAE: 17.61\n"
     ]
    },
    {
     "name": "stderr",
     "output_type": "stream",
     "text": [
      "19:53:35 - cmdstanpy - INFO - Chain [1] start processing\n",
      "19:53:36 - cmdstanpy - INFO - Chain [1] start processing\n",
      "19:53:36 - cmdstanpy - INFO - Chain [1] done processing\n"
     ]
    },
    {
     "name": "stdout",
     "output_type": "stream",
     "text": [
      "It's underpredicted.\n",
      "Monthly Error: 46.94 Period MAE: 55.16\n"
     ]
    },
    {
     "name": "stderr",
     "output_type": "stream",
     "text": [
      "19:53:37 - cmdstanpy - INFO - Chain [1] done processing\n"
     ]
    },
    {
     "name": "stdout",
     "output_type": "stream",
     "text": [
      "It's overpredicted.\n",
      "Monthly Error: 75.82 Period MAE: 10.05\n"
     ]
    },
    {
     "name": "stderr",
     "output_type": "stream",
     "text": [
      "19:53:38 - cmdstanpy - INFO - Chain [1] start processing\n",
      "19:53:38 - cmdstanpy - INFO - Chain [1] start processing\n"
     ]
    },
    {
     "name": "stdout",
     "output_type": "stream",
     "text": [
      "It's underpredicted.\n",
      "Monthly Error: 46.94 Period MAE: 55.16\n"
     ]
    },
    {
     "name": "stderr",
     "output_type": "stream",
     "text": [
      "19:53:39 - cmdstanpy - INFO - Chain [1] done processing\n",
      "19:53:39 - cmdstanpy - INFO - Chain [1] done processing\n",
      "19:53:40 - cmdstanpy - INFO - Chain [1] start processing\n"
     ]
    },
    {
     "name": "stdout",
     "output_type": "stream",
     "text": [
      "It's overpredicted.\n",
      "Monthly Error: 75.82 Period MAE: 10.05\n",
      "It's underpredicted.\n",
      "Monthly Error: 46.95 Period MAE: 55.169999999999995\n"
     ]
    },
    {
     "name": "stderr",
     "output_type": "stream",
     "text": [
      "19:53:41 - cmdstanpy - INFO - Chain [1] start processing\n",
      "19:53:41 - cmdstanpy - INFO - Chain [1] done processing\n",
      "19:53:41 - cmdstanpy - INFO - Chain [1] done processing\n"
     ]
    },
    {
     "name": "stdout",
     "output_type": "stream",
     "text": [
      "It's overpredicted.\n",
      "Monthly Error: 75.82 Period MAE: 10.05\n"
     ]
    },
    {
     "name": "stderr",
     "output_type": "stream",
     "text": [
      "19:53:42 - cmdstanpy - INFO - Chain [1] start processing\n",
      "19:53:43 - cmdstanpy - INFO - Chain [1] start processing\n",
      "19:53:43 - cmdstanpy - INFO - Chain [1] done processing\n"
     ]
    },
    {
     "name": "stdout",
     "output_type": "stream",
     "text": [
      "It's underpredicted.\n",
      "Monthly Error: 46.95 Period MAE: 55.169999999999995\n"
     ]
    },
    {
     "name": "stderr",
     "output_type": "stream",
     "text": [
      "19:53:44 - cmdstanpy - INFO - Chain [1] done processing\n",
      "19:53:45 - cmdstanpy - INFO - Chain [1] start processing\n"
     ]
    },
    {
     "name": "stdout",
     "output_type": "stream",
     "text": [
      "It's overpredicted.\n",
      "Monthly Error: 96.92 Period MAE: 25.119999999999997\n",
      "It's underpredicted.\n",
      "Monthly Error: 46.95 Period MAE:55.169999999999995 \n"
     ]
    },
    {
     "name": "stderr",
     "output_type": "stream",
     "text": [
      "19:53:46 - cmdstanpy - INFO - Chain [1] start processing\n",
      "19:53:46 - cmdstanpy - INFO - Chain [1] done processing\n",
      "19:53:47 - cmdstanpy - INFO - Chain [1] done processing\n"
     ]
    },
    {
     "name": "stdout",
     "output_type": "stream",
     "text": [
      "It's underpredicted.\n",
      "Monthly Error:"
     ]
    },
    {
     "name": "stderr",
     "output_type": "stream",
     "text": [
      "19:53:47 - cmdstanpy - INFO - Chain [1] start processing\n"
     ]
    },
    {
     "name": "stdout",
     "output_type": "stream",
     "text": [
      " 100.0 Period MAE: 100.0\n",
      "It's overpredicted.\n",
      "Monthly Error: 96.92 Period MAE: 25.119999999999997\n"
     ]
    },
    {
     "name": "stderr",
     "output_type": "stream",
     "text": [
      "19:53:48 - cmdstanpy - INFO - Chain [1] start processing\n",
      "19:53:48 - cmdstanpy - INFO - Chain [1] done processing\n",
      "19:53:49 - cmdstanpy - INFO - Chain [1] done processing\n",
      "19:53:49 - cmdstanpy - INFO - Chain [1] start processing\n"
     ]
    },
    {
     "name": "stdout",
     "output_type": "stream",
     "text": [
      "It's overpredicted.\n",
      "Monthly Error: 96.92 Period MAE: 25.119999999999997\n"
     ]
    },
    {
     "name": "stderr",
     "output_type": "stream",
     "text": [
      "19:53:50 - cmdstanpy - INFO - Chain [1] start processing\n"
     ]
    },
    {
     "name": "stdout",
     "output_type": "stream",
     "text": [
      "It's underpredicted.\n",
      "Monthly Error: 100.0 Period MAE: 100.0\n"
     ]
    },
    {
     "name": "stderr",
     "output_type": "stream",
     "text": [
      "19:53:51 - cmdstanpy - INFO - Chain [1] done processing\n",
      "19:53:51 - cmdstanpy - INFO - Chain [1] done processing\n",
      "19:53:52 - cmdstanpy - INFO - Chain [1] start processing\n"
     ]
    },
    {
     "name": "stdout",
     "output_type": "stream",
     "text": [
      "It's overpredicted.\n",
      "Monthly Error: 97.18 Period MAE: 25.130000000000003\n",
      "It's underpredicted.\n",
      "Monthly Error: 100.0 Period MAE: 100.0\n"
     ]
    },
    {
     "name": "stderr",
     "output_type": "stream",
     "text": [
      "19:53:53 - cmdstanpy - INFO - Chain [1] start processing\n",
      "19:53:53 - cmdstanpy - INFO - Chain [1] done processing\n",
      "19:53:54 - cmdstanpy - INFO - Chain [1] start processing\n",
      "19:53:54 - cmdstanpy - INFO - Chain [1] done processing\n"
     ]
    },
    {
     "name": "stdout",
     "output_type": "stream",
     "text": [
      "It's overpredicted.\n",
      "Monthly Error: 97.18 Period MAE: 25.130000000000003\n",
      "It's underpredicted.\n",
      "Monthly Error: 55.94 Period MAE: 72.46000000000001\n"
     ]
    },
    {
     "name": "stderr",
     "output_type": "stream",
     "text": [
      "19:53:56 - cmdstanpy - INFO - Chain [1] start processing\n",
      "19:53:56 - cmdstanpy - INFO - Chain [1] done processing\n",
      "19:53:56 - cmdstanpy - INFO - Chain [1] done processing\n"
     ]
    },
    {
     "name": "stdout",
     "output_type": "stream",
     "text": [
      "It's overpredicted.\n",
      "Monthly Error:"
     ]
    },
    {
     "name": "stderr",
     "output_type": "stream",
     "text": [
      "19:53:57 - cmdstanpy - INFO - Chain [1] start processing\n"
     ]
    },
    {
     "name": "stdout",
     "output_type": "stream",
     "text": [
      " 97.18 Period MAE: 25.130000000000003\n",
      "It's underpredicted.\n",
      "Monthly Error: 55.94 Period MAE: 72.46000000000001\n"
     ]
    },
    {
     "name": "stderr",
     "output_type": "stream",
     "text": [
      "19:53:58 - cmdstanpy - INFO - Chain [1] start processing\n",
      "19:53:58 - cmdstanpy - INFO - Chain [1] done processing\n",
      "19:53:59 - cmdstanpy - INFO - Chain [1] start processing\n",
      "19:54:00 - cmdstanpy - INFO - Chain [1] done processing\n"
     ]
    },
    {
     "name": "stdout",
     "output_type": "stream",
     "text": [
      "It's overpredicted.\n",
      "Monthly Error: 97.03 Period MAE: 24.45\n",
      "It's underpredicted.\n",
      "Monthly Error: 55.94 Period MAE: 72.46000000000001\n"
     ]
    },
    {
     "name": "stderr",
     "output_type": "stream",
     "text": [
      "19:54:01 - cmdstanpy - INFO - Chain [1] start processing\n",
      "19:54:01 - cmdstanpy - INFO - Chain [1] done processing\n",
      "19:54:02 - cmdstanpy - INFO - Chain [1] done processing\n",
      "19:54:03 - cmdstanpy - INFO - Chain [1] start processing\n"
     ]
    },
    {
     "name": "stdout",
     "output_type": "stream",
     "text": [
      "It's overpredicted.\n",
      "Monthly Error: 97.03It's underpredicted. \n",
      "Period MAE:Monthly Error:  24.45\n",
      "100.0 Period MAE: 100.0\n"
     ]
    },
    {
     "name": "stderr",
     "output_type": "stream",
     "text": [
      "19:54:04 - cmdstanpy - INFO - Chain [1] start processing\n",
      "19:54:04 - cmdstanpy - INFO - Chain [1] done processing\n",
      "19:54:06 - cmdstanpy - INFO - Chain [1] start processing\n",
      "19:54:06 - cmdstanpy - INFO - Chain [1] done processing\n"
     ]
    },
    {
     "name": "stdout",
     "output_type": "stream",
     "text": [
      "It's underpredicted.\n",
      "Monthly Error: 100.0 Period MAE: 100.0\n"
     ]
    },
    {
     "name": "stderr",
     "output_type": "stream",
     "text": [
      "19:54:06 - cmdstanpy - INFO - Chain [1] done processing\n",
      "19:54:07 - cmdstanpy - INFO - Chain [1] start processing\n"
     ]
    },
    {
     "name": "stdout",
     "output_type": "stream",
     "text": [
      "It's overpredicted.\n",
      "Monthly Error: 97.03 "
     ]
    },
    {
     "name": "stderr",
     "output_type": "stream",
     "text": [
      "19:54:07 - cmdstanpy - INFO - Chain [1] done processing\n"
     ]
    },
    {
     "name": "stdout",
     "output_type": "stream",
     "text": [
      "Period MAE: 24.45\n",
      "It's overpredicted.\n",
      "Monthly Error: 88.04 Period MAE: 21.26\n"
     ]
    },
    {
     "name": "stderr",
     "output_type": "stream",
     "text": [
      "19:54:08 - cmdstanpy - INFO - Chain [1] start processing\n"
     ]
    },
    {
     "name": "stdout",
     "output_type": "stream",
     "text": [
      "It's underpredicted.\n",
      "Monthly Error: 100.0"
     ]
    },
    {
     "name": "stderr",
     "output_type": "stream",
     "text": [
      "19:54:09 - cmdstanpy - INFO - Chain [1] start processing\n"
     ]
    },
    {
     "name": "stdout",
     "output_type": "stream",
     "text": [
      " Period MAE: 100.0\n"
     ]
    },
    {
     "name": "stderr",
     "output_type": "stream",
     "text": [
      "19:54:09 - cmdstanpy - INFO - Chain [1] done processing\n",
      "19:54:09 - cmdstanpy - INFO - Chain [1] done processing\n"
     ]
    },
    {
     "name": "stdout",
     "output_type": "stream",
     "text": [
      "It's overpredicted.\n",
      "Monthly Error: 88.04 Period MAE: 21.26\n"
     ]
    },
    {
     "name": "stderr",
     "output_type": "stream",
     "text": [
      "19:54:10 - cmdstanpy - INFO - Chain [1] start processing\n",
      "19:54:10 - cmdstanpy - INFO - Chain [1] start processing\n",
      "19:54:11 - cmdstanpy - INFO - Chain [1] done processing\n",
      "19:54:11 - cmdstanpy - INFO - Chain [1] done processing\n"
     ]
    },
    {
     "name": "stdout",
     "output_type": "stream",
     "text": [
      "It's underpredicted.\n",
      "Monthly Error: 46.85 Period MAE: 55.08\n",
      "It's overpredicted.\n",
      "Monthly Error: 88.0421.26 Period MAE: \n"
     ]
    },
    {
     "name": "stderr",
     "output_type": "stream",
     "text": [
      "19:54:13 - cmdstanpy - INFO - Chain [1] start processing\n",
      "19:54:13 - cmdstanpy - INFO - Chain [1] start processing\n"
     ]
    },
    {
     "name": "stdout",
     "output_type": "stream",
     "text": [
      "It's underpredicted.\n",
      "Monthly Error: 46.85 Period MAE: "
     ]
    },
    {
     "name": "stderr",
     "output_type": "stream",
     "text": [
      "19:54:13 - cmdstanpy - INFO - Chain [1] done processing\n"
     ]
    },
    {
     "name": "stdout",
     "output_type": "stream",
     "text": [
      "55.08\n"
     ]
    },
    {
     "name": "stderr",
     "output_type": "stream",
     "text": [
      "19:54:14 - cmdstanpy - INFO - Chain [1] done processing\n",
      "19:54:15 - cmdstanpy - INFO - Chain [1] start processing\n"
     ]
    },
    {
     "name": "stdout",
     "output_type": "stream",
     "text": [
      "It's underpredicted.\n",
      "Monthly Error: 46.85 Period MAE:It's overpredicted. 55.08\n",
      "Monthly Error:\n",
      " 86.43 Period MAE: 17.82\n"
     ]
    },
    {
     "name": "stderr",
     "output_type": "stream",
     "text": [
      "19:54:16 - cmdstanpy - INFO - Chain [1] start processing\n",
      "19:54:16 - cmdstanpy - INFO - Chain [1] done processing\n",
      "19:54:16 - cmdstanpy - INFO - Chain [1] done processing\n"
     ]
    },
    {
     "name": "stdout",
     "output_type": "stream",
     "text": [
      "It's overpredicted.\n",
      "Monthly Error: 86.43 Period MAE: 17.82\n"
     ]
    },
    {
     "name": "stderr",
     "output_type": "stream",
     "text": [
      "19:54:17 - cmdstanpy - INFO - Chain [1] start processing\n",
      "19:54:17 - cmdstanpy - INFO - Chain [1] start processing\n",
      "19:54:17 - cmdstanpy - INFO - Chain [1] done processing\n"
     ]
    },
    {
     "name": "stdout",
     "output_type": "stream",
     "text": [
      "It's underpredicted.\n",
      "Monthly Error: 46.65 Period MAE: 54.94\n"
     ]
    },
    {
     "name": "stderr",
     "output_type": "stream",
     "text": [
      "19:54:18 - cmdstanpy - INFO - Chain [1] done processing\n"
     ]
    },
    {
     "name": "stdout",
     "output_type": "stream",
     "text": [
      "It's overpredicted.\n",
      "Monthly Error:86.43  Period MAE: 17.82\n"
     ]
    },
    {
     "name": "stderr",
     "output_type": "stream",
     "text": [
      "19:54:19 - cmdstanpy - INFO - Chain [1] start processing\n",
      "19:54:19 - cmdstanpy - INFO - Chain [1] start processing\n",
      "19:54:20 - cmdstanpy - INFO - Chain [1] done processing\n",
      "19:54:20 - cmdstanpy - INFO - Chain [1] done processing\n"
     ]
    },
    {
     "name": "stdout",
     "output_type": "stream",
     "text": [
      "It's underpredicted.\n",
      "Monthly Error: 46.65 Period MAE: 54.94\n",
      "It's overpredicted.\n",
      "Monthly Error: 82.79 Period MAE: 16.37\n",
      "It's underpredicted.\n",
      "Monthly Error: 46.65"
     ]
    },
    {
     "name": "stderr",
     "output_type": "stream",
     "text": [
      "19:54:22 - cmdstanpy - INFO - Chain [1] start processing\n"
     ]
    },
    {
     "name": "stdout",
     "output_type": "stream",
     "text": [
      " Period MAE: 54.94\n"
     ]
    },
    {
     "name": "stderr",
     "output_type": "stream",
     "text": [
      "19:54:22 - cmdstanpy - INFO - Chain [1] start processing\n",
      "19:54:23 - cmdstanpy - INFO - Chain [1] done processing\n",
      "19:54:23 - cmdstanpy - INFO - Chain [1] done processing\n",
      "19:54:24 - cmdstanpy - INFO - Chain [1] start processing\n"
     ]
    },
    {
     "name": "stdout",
     "output_type": "stream",
     "text": [
      "It's underpredicted.\n",
      "Monthly Error: 46.65 Period MAE: 54.94\n",
      "It's overpredicted.\n",
      "Monthly Error: 82.79 Period MAE: 16.37\n"
     ]
    },
    {
     "name": "stderr",
     "output_type": "stream",
     "text": [
      "19:54:24 - cmdstanpy - INFO - Chain [1] start processing\n",
      "19:54:25 - cmdstanpy - INFO - Chain [1] done processing\n",
      "19:54:25 - cmdstanpy - INFO - Chain [1] done processing\n",
      "19:54:26 - cmdstanpy - INFO - Chain [1] start processing\n"
     ]
    },
    {
     "name": "stdout",
     "output_type": "stream",
     "text": [
      "It's overpredicted.\n",
      "Monthly Error: 82.79 Period MAE: 16.37\n"
     ]
    },
    {
     "name": "stderr",
     "output_type": "stream",
     "text": [
      "19:54:26 - cmdstanpy - INFO - Chain [1] start processing\n",
      "19:54:27 - cmdstanpy - INFO - Chain [1] done processing\n"
     ]
    },
    {
     "name": "stdout",
     "output_type": "stream",
     "text": [
      "It's underpredicted.\n",
      "Monthly Error: 46.65 Period MAE: 54.94\n"
     ]
    },
    {
     "name": "stderr",
     "output_type": "stream",
     "text": [
      "19:54:28 - cmdstanpy - INFO - Chain [1] done processing\n"
     ]
    },
    {
     "name": "stdout",
     "output_type": "stream",
     "text": [
      "It's overpredicted.\n",
      "Monthly Error: 97.64 Period MAE: 25.52\n"
     ]
    },
    {
     "name": "stderr",
     "output_type": "stream",
     "text": [
      "19:54:29 - cmdstanpy - INFO - Chain [1] start processing\n",
      "19:54:29 - cmdstanpy - INFO - Chain [1] start processing\n",
      "19:54:29 - cmdstanpy - INFO - Chain [1] done processing\n"
     ]
    },
    {
     "name": "stdout",
     "output_type": "stream",
     "text": [
      "It's underpredicted.\n",
      "Monthly Error: 46.65 Period MAE: 54.94\n",
      "It's underpredicted.\n",
      "Monthly Error: 100.0 Period MAE: 100.0\n"
     ]
    },
    {
     "name": "stderr",
     "output_type": "stream",
     "text": [
      "19:54:31 - cmdstanpy - INFO - Chain [1] done processing\n",
      "19:54:32 - cmdstanpy - INFO - Chain [1] start processing\n",
      "19:54:32 - cmdstanpy - INFO - Chain [1] start processing\n",
      "19:54:32 - cmdstanpy - INFO - Chain [1] done processing\n"
     ]
    },
    {
     "name": "stdout",
     "output_type": "stream",
     "text": [
      "It's overpredicted.\n",
      "Monthly Error: 97.64 Period MAE: 25.52\n"
     ]
    },
    {
     "name": "stderr",
     "output_type": "stream",
     "text": [
      "19:54:33 - cmdstanpy - INFO - Chain [1] done processing\n",
      "19:54:34 - cmdstanpy - INFO - Chain [1] start processing\n"
     ]
    },
    {
     "name": "stdout",
     "output_type": "stream",
     "text": [
      "It's underpredicted.It's overpredicted.\n",
      "\n",
      "Monthly Error:Monthly Error: 97.64 100.0  Period MAE: 100.0\n",
      "Period MAE: 25.52\n"
     ]
    },
    {
     "name": "stderr",
     "output_type": "stream",
     "text": [
      "19:54:35 - cmdstanpy - INFO - Chain [1] start processing\n",
      "19:54:35 - cmdstanpy - INFO - Chain [1] done processing\n",
      "19:54:36 - cmdstanpy - INFO - Chain [1] done processing\n",
      "19:54:36 - cmdstanpy - INFO - Chain [1] start processing\n"
     ]
    },
    {
     "name": "stdout",
     "output_type": "stream",
     "text": [
      "It's underpredicted.\n",
      "Monthly Error: 100.0 Period MAE: 100.0\n",
      "It's overpredicted.\n",
      "Monthly Error: 99.28 Period MAE: 27.250000000000004\n"
     ]
    },
    {
     "name": "stderr",
     "output_type": "stream",
     "text": [
      "19:54:37 - cmdstanpy - INFO - Chain [1] start processing\n",
      "19:54:37 - cmdstanpy - INFO - Chain [1] done processing\n",
      "19:54:38 - cmdstanpy - INFO - Chain [1] done processing\n",
      "19:54:39 - cmdstanpy - INFO - Chain [1] start processing\n"
     ]
    },
    {
     "name": "stdout",
     "output_type": "stream",
     "text": [
      "It's overpredicted.\n",
      " Monthly Error:99.28 Period MAE: 27.250000000000004\n",
      "It's underpredicted.\n",
      "Monthly Error: 60.09 Period MAE: 75.06\n"
     ]
    },
    {
     "name": "stderr",
     "output_type": "stream",
     "text": [
      "19:54:39 - cmdstanpy - INFO - Chain [1] start processing\n",
      "19:54:40 - cmdstanpy - INFO - Chain [1] done processing\n",
      "19:54:41 - cmdstanpy - INFO - Chain [1] done processing\n",
      "19:54:41 - cmdstanpy - INFO - Chain [1] start processing\n"
     ]
    },
    {
     "name": "stdout",
     "output_type": "stream",
     "text": [
      "It's overpredicted.\n",
      "Monthly Error: 99.28 Period MAE: 27.250000000000004\n",
      "It's underpredicted.\n",
      "Monthly Error: 60.09 Period MAE: 75.06\n"
     ]
    },
    {
     "name": "stderr",
     "output_type": "stream",
     "text": [
      "19:54:42 - cmdstanpy - INFO - Chain [1] start processing\n",
      "19:54:42 - cmdstanpy - INFO - Chain [1] done processing\n",
      "19:54:43 - cmdstanpy - INFO - Chain [1] done processing\n",
      "19:54:44 - cmdstanpy - INFO - Chain [1] start processing\n"
     ]
    },
    {
     "name": "stdout",
     "output_type": "stream",
     "text": [
      "It's overpredicted.\n",
      "Monthly Error: 96.93 Period MAE: 24.7\n"
     ]
    },
    {
     "name": "stderr",
     "output_type": "stream",
     "text": [
      "19:54:45 - cmdstanpy - INFO - Chain [1] start processing\n"
     ]
    },
    {
     "name": "stdout",
     "output_type": "stream",
     "text": [
      "It's underpredicted.\n",
      "Monthly Error: 60.09 Period MAE: 75.06\n"
     ]
    },
    {
     "name": "stderr",
     "output_type": "stream",
     "text": [
      "19:54:45 - cmdstanpy - INFO - Chain [1] done processing\n",
      "19:54:45 - cmdstanpy - INFO - Chain [1] done processing\n",
      "19:54:46 - cmdstanpy - INFO - Chain [1] start processing\n"
     ]
    },
    {
     "name": "stdout",
     "output_type": "stream",
     "text": [
      "It's overpredicted.\n",
      "Monthly Error: 96.93 Period MAE: 24.7\n",
      "It's underpredicted.\n",
      "Monthly Error: 50.26 Period MAE: 47.93\n"
     ]
    },
    {
     "name": "stderr",
     "output_type": "stream",
     "text": [
      "19:54:47 - cmdstanpy - INFO - Chain [1] start processing\n",
      "19:54:47 - cmdstanpy - INFO - Chain [1] done processing\n",
      "19:54:48 - cmdstanpy - INFO - Chain [1] done processing\n",
      "19:54:48 - cmdstanpy - INFO - Chain [1] start processing\n"
     ]
    },
    {
     "name": "stdout",
     "output_type": "stream",
     "text": [
      "It's overpredicted.\n",
      "Monthly Error: 96.93 Period MAE: 24.7\n"
     ]
    },
    {
     "name": "stderr",
     "output_type": "stream",
     "text": [
      "19:54:49 - cmdstanpy - INFO - Chain [1] done processing\n"
     ]
    },
    {
     "name": "stdout",
     "output_type": "stream",
     "text": [
      "It's underpredicted.\n"
     ]
    },
    {
     "name": "stderr",
     "output_type": "stream",
     "text": [
      "19:54:50 - cmdstanpy - INFO - Chain [1] start processing\n"
     ]
    },
    {
     "name": "stdout",
     "output_type": "stream",
     "text": [
      "Monthly Error: 50.26 Period MAE: 47.93\n",
      "It's overpredicted.\n",
      "Monthly Error: "
     ]
    },
    {
     "name": "stderr",
     "output_type": "stream",
     "text": [
      "19:54:50 - cmdstanpy - INFO - Chain [1] done processing\n"
     ]
    },
    {
     "name": "stdout",
     "output_type": "stream",
     "text": [
      "88.04 Period MAE: 21.26\n"
     ]
    },
    {
     "name": "stderr",
     "output_type": "stream",
     "text": [
      "19:54:51 - cmdstanpy - INFO - Chain [1] start processing\n",
      "19:54:51 - cmdstanpy - INFO - Chain [1] start processing\n",
      "19:54:52 - cmdstanpy - INFO - Chain [1] done processing\n"
     ]
    },
    {
     "name": "stdout",
     "output_type": "stream",
     "text": [
      "It's underpredicted.\n",
      "Monthly Error: 50.26 Period MAE: 47.93\n"
     ]
    },
    {
     "name": "stderr",
     "output_type": "stream",
     "text": [
      "19:54:52 - cmdstanpy - INFO - Chain [1] done processing\n"
     ]
    },
    {
     "name": "stdout",
     "output_type": "stream",
     "text": [
      "It's overpredicted.\n",
      "Monthly Error: 88.04 Period MAE: 21.26\n"
     ]
    },
    {
     "name": "stderr",
     "output_type": "stream",
     "text": [
      "19:54:53 - cmdstanpy - INFO - Chain [1] start processing\n",
      "19:54:53 - cmdstanpy - INFO - Chain [1] start processing\n",
      "19:54:54 - cmdstanpy - INFO - Chain [1] done processing\n"
     ]
    },
    {
     "name": "stdout",
     "output_type": "stream",
     "text": [
      "It's underpredicted.\n",
      "Monthly Error: 46.85 Period MAE: 55.08\n"
     ]
    },
    {
     "name": "stderr",
     "output_type": "stream",
     "text": [
      "19:54:54 - cmdstanpy - INFO - Chain [1] done processing\n"
     ]
    },
    {
     "name": "stdout",
     "output_type": "stream",
     "text": [
      "It's overpredicted.\n",
      "Monthly Error: 88.04 Period MAE: 21.26\n"
     ]
    },
    {
     "name": "stderr",
     "output_type": "stream",
     "text": [
      "19:54:55 - cmdstanpy - INFO - Chain [1] start processing\n",
      "19:54:56 - cmdstanpy - INFO - Chain [1] start processing\n",
      "19:54:56 - cmdstanpy - INFO - Chain [1] done processing\n"
     ]
    },
    {
     "name": "stdout",
     "output_type": "stream",
     "text": [
      "It's underpredicted.\n",
      "Monthly Error: 46.85 Period MAE: 55.08\n"
     ]
    },
    {
     "name": "stderr",
     "output_type": "stream",
     "text": [
      "19:54:56 - cmdstanpy - INFO - Chain [1] done processing\n"
     ]
    },
    {
     "name": "stdout",
     "output_type": "stream",
     "text": [
      "It's overpredicted.\n",
      "Monthly Error: 87.25 Period MAE: 18.240000000000002\n"
     ]
    },
    {
     "name": "stderr",
     "output_type": "stream",
     "text": [
      "19:54:58 - cmdstanpy - INFO - Chain [1] start processing\n",
      "19:54:58 - cmdstanpy - INFO - Chain [1] start processing\n"
     ]
    },
    {
     "name": "stdout",
     "output_type": "stream",
     "text": [
      "It's underpredicted.\n",
      "Monthly Error: 46.85 Period MAE: 55.08\n"
     ]
    },
    {
     "name": "stderr",
     "output_type": "stream",
     "text": [
      "19:54:58 - cmdstanpy - INFO - Chain [1] done processing\n",
      "19:54:58 - cmdstanpy - INFO - Chain [1] done processing\n"
     ]
    },
    {
     "name": "stdout",
     "output_type": "stream",
     "text": [
      "It's overpredicted.\n",
      "Monthly Error: 87.25 Period MAE: 18.240000000000002\n"
     ]
    },
    {
     "name": "stderr",
     "output_type": "stream",
     "text": [
      "19:55:00 - cmdstanpy - INFO - Chain [1] start processing\n",
      "19:55:00 - cmdstanpy - INFO - Chain [1] start processing\n",
      "19:55:00 - cmdstanpy - INFO - Chain [1] done processing\n"
     ]
    },
    {
     "name": "stdout",
     "output_type": "stream",
     "text": [
      "It's underpredicted.\n",
      "Monthly Error: 46.83 Period MAE: 55.08\n"
     ]
    },
    {
     "name": "stderr",
     "output_type": "stream",
     "text": [
      "19:55:01 - cmdstanpy - INFO - Chain [1] done processing\n"
     ]
    },
    {
     "name": "stdout",
     "output_type": "stream",
     "text": [
      "It's overpredicted.\n",
      "Monthly Error: 87.25 Period MAE: 18.240000000000002\n"
     ]
    },
    {
     "name": "stderr",
     "output_type": "stream",
     "text": [
      "19:55:02 - cmdstanpy - INFO - Chain [1] start processing\n",
      "19:55:03 - cmdstanpy - INFO - Chain [1] start processing\n",
      "19:55:03 - cmdstanpy - INFO - Chain [1] done processing\n"
     ]
    },
    {
     "name": "stdout",
     "output_type": "stream",
     "text": [
      "It's underpredicted.\n",
      "Monthly Error: 46.83 Period MAE: 55.08\n"
     ]
    },
    {
     "name": "stderr",
     "output_type": "stream",
     "text": [
      "19:55:04 - cmdstanpy - INFO - Chain [1] done processing\n"
     ]
    },
    {
     "name": "stdout",
     "output_type": "stream",
     "text": [
      "It's overpredicted.\n",
      "Monthly Error: 79.88 Period MAE: 13.200000000000001\n"
     ]
    },
    {
     "name": "stderr",
     "output_type": "stream",
     "text": [
      "19:55:05 - cmdstanpy - INFO - Chain [1] start processing\n",
      "19:55:05 - cmdstanpy - INFO - Chain [1] start processing\n"
     ]
    },
    {
     "name": "stdout",
     "output_type": "stream",
     "text": [
      "It's underpredicted.\n",
      "Monthly Error: 46.83 Period MAE: 55.08\n"
     ]
    },
    {
     "name": "stderr",
     "output_type": "stream",
     "text": [
      "19:55:06 - cmdstanpy - INFO - Chain [1] done processing\n",
      "19:55:06 - cmdstanpy - INFO - Chain [1] done processing\n"
     ]
    },
    {
     "name": "stdout",
     "output_type": "stream",
     "text": [
      "It's overpredicted.\n",
      "Monthly Error: 79.88 Period MAE: 13.200000000000001"
     ]
    },
    {
     "name": "stderr",
     "output_type": "stream",
     "text": [
      "19:55:07 - cmdstanpy - INFO - Chain [1] start processing\n"
     ]
    },
    {
     "name": "stdout",
     "output_type": "stream",
     "text": [
      "\n"
     ]
    },
    {
     "name": "stderr",
     "output_type": "stream",
     "text": [
      "19:55:08 - cmdstanpy - INFO - Chain [1] start processing\n",
      "19:55:08 - cmdstanpy - INFO - Chain [1] done processing\n",
      "19:55:08 - cmdstanpy - INFO - Chain [1] done processing\n"
     ]
    },
    {
     "name": "stdout",
     "output_type": "stream",
     "text": [
      "It's underpredicted.\n",
      "Monthly Error: 46.81 Period MAE: 55.059999999999995\n",
      "It's overpredicted.\n",
      "Monthly Error: 79.88 Period MAE: 13.200000000000001\n"
     ]
    },
    {
     "name": "stderr",
     "output_type": "stream",
     "text": [
      "19:55:10 - cmdstanpy - INFO - Chain [1] start processing\n",
      "19:55:10 - cmdstanpy - INFO - Chain [1] start processing\n",
      "19:55:10 - cmdstanpy - INFO - Chain [1] done processing\n"
     ]
    },
    {
     "name": "stdout",
     "output_type": "stream",
     "text": [
      "It's underpredicted.\n",
      "Monthly Error: 46.81 Period MAE: 55.059999999999995\n"
     ]
    },
    {
     "name": "stderr",
     "output_type": "stream",
     "text": [
      "19:55:12 - cmdstanpy - INFO - Chain [1] done processing\n",
      "19:55:12 - cmdstanpy - INFO - Chain [1] start processing\n"
     ]
    },
    {
     "name": "stdout",
     "output_type": "stream",
     "text": [
      "It's overpredicted.\n",
      "Monthly Error: 97.64 Period MAE: 25.52\n",
      "It's underpredicted.\n",
      "Monthly Error: 46.81 Period MAE: 55.059999999999995\n"
     ]
    },
    {
     "name": "stderr",
     "output_type": "stream",
     "text": [
      "19:55:13 - cmdstanpy - INFO - Chain [1] start processing\n",
      "19:55:13 - cmdstanpy - INFO - Chain [1] done processing\n",
      "19:55:14 - cmdstanpy - INFO - Chain [1] start processing\n",
      "19:55:14 - cmdstanpy - INFO - Chain [1] done processing\n"
     ]
    },
    {
     "name": "stdout",
     "output_type": "stream",
     "text": [
      "It's underpredicted.\n",
      "Monthly Error: 100.0 Period MAE: 100.0\n",
      "It's overpredicted.\n",
      "Monthly Error: 97.64 Period MAE: 25.52\n"
     ]
    },
    {
     "name": "stderr",
     "output_type": "stream",
     "text": [
      "19:55:15 - cmdstanpy - INFO - Chain [1] start processing\n",
      "19:55:15 - cmdstanpy - INFO - Chain [1] done processing\n",
      "19:55:16 - cmdstanpy - INFO - Chain [1] done processing\n",
      "19:55:17 - cmdstanpy - INFO - Chain [1] start processing\n"
     ]
    },
    {
     "name": "stdout",
     "output_type": "stream",
     "text": [
      "It's overpredicted.\n",
      "Monthly Error: 97.64 Period MAE: 25.52\n"
     ]
    },
    {
     "name": "stderr",
     "output_type": "stream",
     "text": [
      "19:55:17 - cmdstanpy - INFO - Chain [1] start processing\n"
     ]
    },
    {
     "name": "stdout",
     "output_type": "stream",
     "text": [
      "It's underpredicted.\n"
     ]
    },
    {
     "name": "stderr",
     "output_type": "stream",
     "text": [
      "19:55:18 - cmdstanpy - INFO - Chain [1] done processing\n"
     ]
    },
    {
     "name": "stdout",
     "output_type": "stream",
     "text": [
      "Monthly Error: 100.0 Period MAE: 100.0\n"
     ]
    },
    {
     "name": "stderr",
     "output_type": "stream",
     "text": [
      "19:55:19 - cmdstanpy - INFO - Chain [1] done processing\n",
      "19:55:19 - cmdstanpy - INFO - Chain [1] start processing\n"
     ]
    },
    {
     "name": "stdout",
     "output_type": "stream",
     "text": [
      "It's overpredicted.\n",
      "Monthly Error: 99.64 Period MAE: 27.41\n"
     ]
    },
    {
     "name": "stderr",
     "output_type": "stream",
     "text": [
      "19:55:20 - cmdstanpy - INFO - Chain [1] start processing\n"
     ]
    },
    {
     "name": "stdout",
     "output_type": "stream",
     "text": [
      "It's underpredicted.\n",
      "Monthly Error: 100.0 Period MAE: 100.0\n"
     ]
    },
    {
     "name": "stderr",
     "output_type": "stream",
     "text": [
      "19:55:20 - cmdstanpy - INFO - Chain [1] done processing\n",
      "19:55:21 - cmdstanpy - INFO - Chain [1] done processing\n",
      "19:55:22 - cmdstanpy - INFO - Chain [1] start processing\n"
     ]
    },
    {
     "name": "stdout",
     "output_type": "stream",
     "text": [
      "It's overpredicted.\n",
      "It's underpredicted.Monthly Error:\n",
      " Monthly Error: 99.6456.0 Period MAE: 72.5\n",
      " Period MAE: 27.41\n"
     ]
    },
    {
     "name": "stderr",
     "output_type": "stream",
     "text": [
      "19:55:23 - cmdstanpy - INFO - Chain [1] start processing\n",
      "19:55:23 - cmdstanpy - INFO - Chain [1] done processing\n",
      "19:55:24 - cmdstanpy - INFO - Chain [1] done processing\n",
      "19:55:24 - cmdstanpy - INFO - Chain [1] start processing\n"
     ]
    },
    {
     "name": "stdout",
     "output_type": "stream",
     "text": [
      "It's overpredicted.\n",
      "Monthly Error: 99.64 Period MAE: 27.41\n",
      "It's underpredicted.\n",
      "Monthly Error: 56.0 Period MAE: 72.5\n"
     ]
    },
    {
     "name": "stderr",
     "output_type": "stream",
     "text": [
      "19:55:25 - cmdstanpy - INFO - Chain [1] start processing\n",
      "19:55:25 - cmdstanpy - INFO - Chain [1] done processing\n",
      "19:55:27 - cmdstanpy - INFO - Chain [1] start processing\n",
      "19:55:27 - cmdstanpy - INFO - Chain [1] done processing\n"
     ]
    },
    {
     "name": "stdout",
     "output_type": "stream",
     "text": [
      "It's overpredicted.\n",
      "Monthly Error: 96.7It's underpredicted. \n",
      "Period MAE:Monthly Error:  56.023.34 Period MAE: 72.5\n",
      "\n"
     ]
    },
    {
     "name": "stderr",
     "output_type": "stream",
     "text": [
      "19:55:28 - cmdstanpy - INFO - Chain [1] start processing\n",
      "19:55:29 - cmdstanpy - INFO - Chain [1] done processing\n",
      "19:55:29 - cmdstanpy - INFO - Chain [1] done processing\n",
      "19:55:29 - cmdstanpy - INFO - Chain [1] start processing\n"
     ]
    },
    {
     "name": "stdout",
     "output_type": "stream",
     "text": [
      "It's underpredicted.\n",
      "Monthly Error: 100.0 Period MAE: 100.0It's overpredicted.\n",
      "\n",
      "Monthly Error: 96.7 Period MAE: 23.34\n"
     ]
    },
    {
     "name": "stderr",
     "output_type": "stream",
     "text": [
      "19:55:30 - cmdstanpy - INFO - Chain [1] start processing\n",
      "19:55:31 - cmdstanpy - INFO - Chain [1] done processing\n",
      "19:55:32 - cmdstanpy - INFO - Chain [1] start processing\n",
      "19:55:32 - cmdstanpy - INFO - Chain [1] done processing\n",
      "19:55:33 - cmdstanpy - INFO - Chain [1] done processing\n"
     ]
    },
    {
     "name": "stdout",
     "output_type": "stream",
     "text": [
      "It's overpredicted.\n",
      "Monthly Error: 96.7 Period MAE: 23.34\n",
      "It's overpredicted.\n",
      "Monthly Error: 88.04 Period MAE: 21.26It's underpredicted.\n",
      "\n",
      "Monthly Error: 100.0 Period MAE: 100.0\n"
     ]
    },
    {
     "name": "stderr",
     "output_type": "stream",
     "text": [
      "19:55:34 - cmdstanpy - INFO - Chain [1] start processing\n",
      "19:55:34 - cmdstanpy - INFO - Chain [1] done processing\n",
      "19:55:35 - cmdstanpy - INFO - Chain [1] start processing\n",
      "19:55:35 - cmdstanpy - INFO - Chain [1] start processing\n",
      "19:55:36 - cmdstanpy - INFO - Chain [1] done processing\n"
     ]
    },
    {
     "name": "stdout",
     "output_type": "stream",
     "text": [
      "It's underpredicted.\n",
      "Monthly Error: 100.0 Period MAE: 100.0\n"
     ]
    },
    {
     "name": "stderr",
     "output_type": "stream",
     "text": [
      "19:55:36 - cmdstanpy - INFO - Chain [1] done processing\n"
     ]
    },
    {
     "name": "stdout",
     "output_type": "stream",
     "text": [
      "It's overpredicted.\n",
      "Monthly Error: 88.04 Period MAE: 21.26\n"
     ]
    },
    {
     "name": "stderr",
     "output_type": "stream",
     "text": [
      "19:55:37 - cmdstanpy - INFO - Chain [1] start processing\n",
      "19:55:38 - cmdstanpy - INFO - Chain [1] start processing\n",
      "19:55:38 - cmdstanpy - INFO - Chain [1] done processing\n",
      "19:55:38 - cmdstanpy - INFO - Chain [1] done processing\n"
     ]
    },
    {
     "name": "stdout",
     "output_type": "stream",
     "text": [
      "It's underpredicted.\n",
      "Monthly Error: 46.85 Period MAE: 55.08\n",
      "It's overpredicted.\n",
      "Monthly Error: 88.04 Period MAE: 21.26\n"
     ]
    },
    {
     "name": "stderr",
     "output_type": "stream",
     "text": [
      "19:55:40 - cmdstanpy - INFO - Chain [1] start processing\n",
      "19:55:40 - cmdstanpy - INFO - Chain [1] start processing\n"
     ]
    },
    {
     "name": "stdout",
     "output_type": "stream",
     "text": [
      "It's underpredicted.\n",
      "Monthly Error: 46.85 Period MAE: 55.08\n"
     ]
    },
    {
     "name": "stderr",
     "output_type": "stream",
     "text": [
      "19:55:40 - cmdstanpy - INFO - Chain [1] done processing\n",
      "19:55:41 - cmdstanpy - INFO - Chain [1] done processing\n",
      "19:55:42 - cmdstanpy - INFO - Chain [1] start processing\n"
     ]
    },
    {
     "name": "stdout",
     "output_type": "stream",
     "text": [
      "It's overpredicted.\n",
      "Monthly Error: 87.6 Period MAE: 18.61\n"
     ]
    },
    {
     "name": "stderr",
     "output_type": "stream",
     "text": [
      "19:55:43 - cmdstanpy - INFO - Chain [1] start processing\n"
     ]
    },
    {
     "name": "stdout",
     "output_type": "stream",
     "text": [
      "It's underpredicted.\n",
      "Monthly Error: 46.85 Period MAE: 55.08\n"
     ]
    },
    {
     "name": "stderr",
     "output_type": "stream",
     "text": [
      "19:55:43 - cmdstanpy - INFO - Chain [1] done processing\n",
      "19:55:43 - cmdstanpy - INFO - Chain [1] done processing\n"
     ]
    },
    {
     "name": "stdout",
     "output_type": "stream",
     "text": [
      "It's overpredicted.\n",
      "Monthly Error: 87.6 Period MAE: 18.61\n"
     ]
    },
    {
     "name": "stderr",
     "output_type": "stream",
     "text": [
      "19:55:44 - cmdstanpy - INFO - Chain [1] start processing\n",
      "19:55:45 - cmdstanpy - INFO - Chain [1] start processing\n",
      "19:55:45 - cmdstanpy - INFO - Chain [1] done processing\n"
     ]
    },
    {
     "name": "stdout",
     "output_type": "stream",
     "text": [
      "It's underpredicted.\n",
      "Monthly Error: 46.82 Period MAE: 55.08\n"
     ]
    },
    {
     "name": "stderr",
     "output_type": "stream",
     "text": [
      "19:55:46 - cmdstanpy - INFO - Chain [1] done processing\n"
     ]
    },
    {
     "name": "stdout",
     "output_type": "stream",
     "text": [
      "It's overpredicted.\n",
      "Monthly Error: 87.6 Period MAE: 18.61\n"
     ]
    },
    {
     "name": "stderr",
     "output_type": "stream",
     "text": [
      "19:55:47 - cmdstanpy - INFO - Chain [1] start processing\n",
      "19:55:47 - cmdstanpy - INFO - Chain [1] start processing\n",
      "19:55:47 - cmdstanpy - INFO - Chain [1] done processing\n"
     ]
    },
    {
     "name": "stdout",
     "output_type": "stream",
     "text": [
      "It's underpredicted.\n",
      "Monthly Error: 46.82 Period MAE: 55.08\n"
     ]
    },
    {
     "name": "stderr",
     "output_type": "stream",
     "text": [
      "19:55:49 - cmdstanpy - INFO - Chain [1] done processing\n"
     ]
    },
    {
     "name": "stdout",
     "output_type": "stream",
     "text": [
      "It's overpredicted.\n",
      "Monthly Error: 77.56 Period MAE: 11.42\n"
     ]
    },
    {
     "name": "stderr",
     "output_type": "stream",
     "text": [
      "19:55:50 - cmdstanpy - INFO - Chain [1] start processing\n"
     ]
    },
    {
     "name": "stdout",
     "output_type": "stream",
     "text": [
      "It's underpredicted.\n",
      "Monthly Error: 46.82 Period MAE: 55.08\n"
     ]
    },
    {
     "name": "stderr",
     "output_type": "stream",
     "text": [
      "19:55:50 - cmdstanpy - INFO - Chain [1] start processing\n",
      "19:55:50 - cmdstanpy - INFO - Chain [1] done processing\n",
      "19:55:51 - cmdstanpy - INFO - Chain [1] start processing\n",
      "19:55:51 - cmdstanpy - INFO - Chain [1] done processing\n"
     ]
    },
    {
     "name": "stdout",
     "output_type": "stream",
     "text": [
      "It's overpredicted.\n",
      "Monthly Error:It's underpredicted.\n",
      "Monthly Error: 46.84  Period MAE:77.56 55.08\n",
      " Period MAE: 11.42\n"
     ]
    },
    {
     "name": "stderr",
     "output_type": "stream",
     "text": [
      "19:55:53 - cmdstanpy - INFO - Chain [1] start processing\n",
      "19:55:53 - cmdstanpy - INFO - Chain [1] done processing\n",
      "19:55:53 - cmdstanpy - INFO - Chain [1] done processing\n"
     ]
    },
    {
     "name": "stdout",
     "output_type": "stream",
     "text": [
      "It's overpredicted.\n",
      "Monthly Error:"
     ]
    },
    {
     "name": "stderr",
     "output_type": "stream",
     "text": [
      "19:55:54 - cmdstanpy - INFO - Chain [1] start processing\n"
     ]
    },
    {
     "name": "stdout",
     "output_type": "stream",
     "text": [
      " 77.56 Period MAE: 11.42\n"
     ]
    },
    {
     "name": "stderr",
     "output_type": "stream",
     "text": [
      "19:55:55 - cmdstanpy - INFO - Chain [1] start processing\n",
      "19:55:55 - cmdstanpy - INFO - Chain [1] done processing\n"
     ]
    },
    {
     "name": "stdout",
     "output_type": "stream",
     "text": [
      "It's underpredicted.\n",
      "Monthly Error: 46.84 Period MAE: 55.08\n"
     ]
    },
    {
     "name": "stderr",
     "output_type": "stream",
     "text": [
      "19:55:56 - cmdstanpy - INFO - Chain [1] done processing\n",
      "19:55:57 - cmdstanpy - INFO - Chain [1] start processing\n"
     ]
    },
    {
     "name": "stdout",
     "output_type": "stream",
     "text": [
      "It's overpredicted.\n",
      "Monthly Error: 97.64 Period MAE: 25.52\n",
      "It's underpredicted.\n",
      "Monthly Error: 46.84 Period MAE: 55.08\n"
     ]
    },
    {
     "name": "stderr",
     "output_type": "stream",
     "text": [
      "19:55:58 - cmdstanpy - INFO - Chain [1] start processing\n",
      "19:55:58 - cmdstanpy - INFO - Chain [1] done processing\n",
      "19:55:59 - cmdstanpy - INFO - Chain [1] done processing\n"
     ]
    },
    {
     "name": "stdout",
     "output_type": "stream",
     "text": [
      "It's overpredicted.\n",
      "Monthly Error: 97.64 Period MAE: 25.52\n",
      "It's underpredicted.\n",
      "Monthly Error: 100.0 Period MAE: 100.0"
     ]
    },
    {
     "name": "stderr",
     "output_type": "stream",
     "text": [
      "19:56:00 - cmdstanpy - INFO - Chain [1] start processing\n"
     ]
    },
    {
     "name": "stdout",
     "output_type": "stream",
     "text": [
      "\n"
     ]
    },
    {
     "name": "stderr",
     "output_type": "stream",
     "text": [
      "19:56:00 - cmdstanpy - INFO - Chain [1] start processing\n",
      "19:56:00 - cmdstanpy - INFO - Chain [1] done processing\n",
      "19:56:01 - cmdstanpy - INFO - Chain [1] start processing\n",
      "19:56:01 - cmdstanpy - INFO - Chain [1] done processing\n"
     ]
    },
    {
     "name": "stdout",
     "output_type": "stream",
     "text": [
      "It's overpredicted.\n",
      "Monthly Error: 97.64 Period MAE: 25.52\n",
      "It's underpredicted.\n",
      "Monthly Error:"
     ]
    },
    {
     "name": "stderr",
     "output_type": "stream",
     "text": [
      "19:56:03 - cmdstanpy - INFO - Chain [1] start processing\n"
     ]
    },
    {
     "name": "stdout",
     "output_type": "stream",
     "text": [
      " 100.0 Period MAE: 100.0\n"
     ]
    },
    {
     "name": "stderr",
     "output_type": "stream",
     "text": [
      "19:56:03 - cmdstanpy - INFO - Chain [1] done processing\n",
      "19:56:04 - cmdstanpy - INFO - Chain [1] done processing\n"
     ]
    },
    {
     "name": "stdout",
     "output_type": "stream",
     "text": [
      "It's overpredicted.\n",
      "Monthly Error: 100.66 Period MAE: 28.299999999999997\n",
      "It's underpredicted.\n"
     ]
    },
    {
     "name": "stderr",
     "output_type": "stream",
     "text": [
      "19:56:06 - cmdstanpy - INFO - Chain [1] start processing\n"
     ]
    },
    {
     "name": "stdout",
     "output_type": "stream",
     "text": [
      "Monthly Error: 100.0 Period MAE: 100.0\n"
     ]
    },
    {
     "name": "stderr",
     "output_type": "stream",
     "text": [
      "19:56:06 - cmdstanpy - INFO - Chain [1] start processing\n",
      "19:56:06 - cmdstanpy - INFO - Chain [1] done processing\n",
      "19:56:07 - cmdstanpy - INFO - Chain [1] start processing\n",
      "19:56:08 - cmdstanpy - INFO - Chain [1] done processing\n"
     ]
    },
    {
     "name": "stdout",
     "output_type": "stream",
     "text": [
      "It's overpredicted.\n",
      "Monthly Error: 100.66 Period MAE: 28.299999999999997\n",
      "It's underpredicted.\n",
      "Monthly Error: 55.95 Period MAE: 72.46000000000001\n"
     ]
    },
    {
     "name": "stderr",
     "output_type": "stream",
     "text": [
      "19:56:09 - cmdstanpy - INFO - Chain [1] start processing\n",
      "19:56:09 - cmdstanpy - INFO - Chain [1] done processing\n",
      "19:56:09 - cmdstanpy - INFO - Chain [1] done processing\n"
     ]
    },
    {
     "name": "stdout",
     "output_type": "stream",
     "text": [
      "It's overpredicted.\n",
      "Monthly Error: 100.66 Period MAE: 28.299999999999997\n"
     ]
    },
    {
     "name": "stderr",
     "output_type": "stream",
     "text": [
      "19:56:10 - cmdstanpy - INFO - Chain [1] start processing\n",
      "19:56:11 - cmdstanpy - INFO - Chain [1] start processing\n"
     ]
    },
    {
     "name": "stdout",
     "output_type": "stream",
     "text": [
      "It's underpredicted.\n",
      "Monthly Error: 55.95 Period MAE: 72.46000000000001\n"
     ]
    },
    {
     "name": "stderr",
     "output_type": "stream",
     "text": [
      "19:56:11 - cmdstanpy - INFO - Chain [1] done processing\n",
      "19:56:13 - cmdstanpy - INFO - Chain [1] start processing\n",
      "19:56:13 - cmdstanpy - INFO - Chain [1] done processing\n"
     ]
    },
    {
     "name": "stdout",
     "output_type": "stream",
     "text": [
      "It's overpredicted.\n",
      "Monthly Error: 96.17 Period MAE: 24.45\n"
     ]
    },
    {
     "name": "stderr",
     "output_type": "stream",
     "text": [
      "19:56:14 - cmdstanpy - INFO - Chain [1] start processing\n",
      "19:56:14 - cmdstanpy - INFO - Chain [1] done processing\n"
     ]
    },
    {
     "name": "stdout",
     "output_type": "stream",
     "text": [
      "It's underpredicted.\n",
      "Monthly Error: 55.95 Period MAE: 72.46000000000001\n"
     ]
    },
    {
     "name": "stderr",
     "output_type": "stream",
     "text": [
      "19:56:15 - cmdstanpy - INFO - Chain [1] done processing\n"
     ]
    },
    {
     "name": "stdout",
     "output_type": "stream",
     "text": [
      "It's overpredicted.\n",
      "Monthly Error: 96.17 Period MAE: 24.45\n",
      "It's underpredicted.\n"
     ]
    },
    {
     "name": "stderr",
     "output_type": "stream",
     "text": [
      "19:56:16 - cmdstanpy - INFO - Chain [1] start processing\n"
     ]
    },
    {
     "name": "stdout",
     "output_type": "stream",
     "text": [
      "Monthly Error: 100.0 Period MAE: 100.0\n"
     ]
    },
    {
     "name": "stderr",
     "output_type": "stream",
     "text": [
      "19:56:16 - cmdstanpy - INFO - Chain [1] start processing\n",
      "19:56:16 - cmdstanpy - INFO - Chain [1] done processing\n",
      "19:56:17 - cmdstanpy - INFO - Chain [1] start processing\n",
      "19:56:18 - cmdstanpy - INFO - Chain [1] done processing\n",
      "19:56:18 - cmdstanpy - INFO - Chain [1] done processing\n"
     ]
    },
    {
     "name": "stdout",
     "output_type": "stream",
     "text": [
      "It's underpredicted.\n",
      "Monthly Error: 100.0 Period MAE: 100.0\n",
      "It's overpredicted.\n",
      "Monthly Error: 96.17 "
     ]
    },
    {
     "name": "stderr",
     "output_type": "stream",
     "text": [
      "19:56:19 - cmdstanpy - INFO - Chain [1] start processing\n"
     ]
    },
    {
     "name": "stdout",
     "output_type": "stream",
     "text": [
      "Period MAE: 24.45\n",
      "It's overpredicted.\n",
      "Monthly Error: 88.04 Period MAE: 21.26"
     ]
    },
    {
     "name": "stderr",
     "output_type": "stream",
     "text": [
      "19:56:19 - cmdstanpy - INFO - Chain [1] done processing\n"
     ]
    },
    {
     "name": "stdout",
     "output_type": "stream",
     "text": [
      "\n"
     ]
    },
    {
     "name": "stderr",
     "output_type": "stream",
     "text": [
      "19:56:20 - cmdstanpy - INFO - Chain [1] start processing\n",
      "19:56:21 - cmdstanpy - INFO - Chain [1] start processing\n"
     ]
    },
    {
     "name": "stdout",
     "output_type": "stream",
     "text": [
      "It's underpredicted.\n",
      "Monthly Error: 100.0 "
     ]
    },
    {
     "name": "stderr",
     "output_type": "stream",
     "text": [
      "19:56:21 - cmdstanpy - INFO - Chain [1] done processing\n"
     ]
    },
    {
     "name": "stdout",
     "output_type": "stream",
     "text": [
      "Period MAE: 100.0\n"
     ]
    },
    {
     "name": "stderr",
     "output_type": "stream",
     "text": [
      "19:56:21 - cmdstanpy - INFO - Chain [1] done processing\n"
     ]
    },
    {
     "name": "stdout",
     "output_type": "stream",
     "text": [
      "It's overpredicted.\n",
      "\n",
      "Monthly Error: 88.04 Period MAE: 21.26"
     ]
    },
    {
     "name": "stderr",
     "output_type": "stream",
     "text": [
      "19:56:23 - cmdstanpy - INFO - Chain [1] start processing\n",
      "19:56:23 - cmdstanpy - INFO - Chain [1] start processing\n",
      "19:56:23 - cmdstanpy - INFO - Chain [1] done processing\n"
     ]
    },
    {
     "name": "stdout",
     "output_type": "stream",
     "text": [
      "It's underpredicted.\n"
     ]
    },
    {
     "name": "stderr",
     "output_type": "stream",
     "text": [
      "19:56:24 - cmdstanpy - INFO - Chain [1] done processing\n"
     ]
    },
    {
     "name": "stdout",
     "output_type": "stream",
     "text": [
      "Monthly Error: 46.85 Period MAE: 55.08\n",
      "It's overpredicted.\n",
      "Monthly Error: 88.04 Period MAE: 21.26\n"
     ]
    },
    {
     "name": "stderr",
     "output_type": "stream",
     "text": [
      "19:56:25 - cmdstanpy - INFO - Chain [1] start processing\n"
     ]
    },
    {
     "name": "stdout",
     "output_type": "stream",
     "text": [
      "It's underpredicted.\n",
      "Monthly Error: 46.85 Period MAE: 55.08"
     ]
    },
    {
     "name": "stderr",
     "output_type": "stream",
     "text": [
      "19:56:25 - cmdstanpy - INFO - Chain [1] start processing\n"
     ]
    },
    {
     "name": "stdout",
     "output_type": "stream",
     "text": [
      "\n"
     ]
    },
    {
     "name": "stderr",
     "output_type": "stream",
     "text": [
      "19:56:25 - cmdstanpy - INFO - Chain [1] done processing\n",
      "19:56:26 - cmdstanpy - INFO - Chain [1] done processing\n",
      "19:56:27 - cmdstanpy - INFO - Chain [1] start processing\n"
     ]
    },
    {
     "name": "stdout",
     "output_type": "stream",
     "text": [
      "It's overpredicted.\n",
      "Monthly Error: 88.92 Period MAE: 19.62\n",
      "It's underpredicted."
     ]
    },
    {
     "name": "stderr",
     "output_type": "stream",
     "text": [
      "19:56:28 - cmdstanpy - INFO - Chain [1] start processing\n"
     ]
    },
    {
     "name": "stdout",
     "output_type": "stream",
     "text": [
      "\n",
      "Monthly Error: 46.85 Period MAE: 55.08\n"
     ]
    },
    {
     "name": "stderr",
     "output_type": "stream",
     "text": [
      "19:56:28 - cmdstanpy - INFO - Chain [1] done processing\n",
      "19:56:28 - cmdstanpy - INFO - Chain [1] done processing\n"
     ]
    },
    {
     "name": "stdout",
     "output_type": "stream",
     "text": [
      "It's overpredicted.\n",
      "Monthly Error: 88.92 Period MAE: 19.62\n"
     ]
    },
    {
     "name": "stderr",
     "output_type": "stream",
     "text": [
      "19:56:29 - cmdstanpy - INFO - Chain [1] start processing\n",
      "19:56:30 - cmdstanpy - INFO - Chain [1] start processing\n",
      "19:56:30 - cmdstanpy - INFO - Chain [1] done processing\n"
     ]
    },
    {
     "name": "stdout",
     "output_type": "stream",
     "text": [
      "It's underpredicted.\n",
      "Monthly Error: 46.83 Period MAE: 55.08\n"
     ]
    },
    {
     "name": "stderr",
     "output_type": "stream",
     "text": [
      "19:56:31 - cmdstanpy - INFO - Chain [1] done processing\n"
     ]
    },
    {
     "name": "stdout",
     "output_type": "stream",
     "text": [
      "It's overpredicted.\n",
      "Monthly Error: 88.92 Period MAE: 19.62\n"
     ]
    },
    {
     "name": "stderr",
     "output_type": "stream",
     "text": [
      "19:56:32 - cmdstanpy - INFO - Chain [1] start processing\n",
      "19:56:32 - cmdstanpy - INFO - Chain [1] start processing\n",
      "19:56:32 - cmdstanpy - INFO - Chain [1] done processing\n"
     ]
    },
    {
     "name": "stdout",
     "output_type": "stream",
     "text": [
      "It's underpredicted.\n",
      "Monthly Error: 46.83 Period MAE: 55.08\n"
     ]
    },
    {
     "name": "stderr",
     "output_type": "stream",
     "text": [
      "19:56:33 - cmdstanpy - INFO - Chain [1] done processing\n"
     ]
    },
    {
     "name": "stdout",
     "output_type": "stream",
     "text": [
      "It's overpredicted.\n",
      "Monthly Error: 77.83 Period MAE: 11.559999999999999\n"
     ]
    },
    {
     "name": "stderr",
     "output_type": "stream",
     "text": [
      "19:56:34 - cmdstanpy - INFO - Chain [1] start processing\n"
     ]
    },
    {
     "name": "stdout",
     "output_type": "stream",
     "text": [
      "It's underpredicted.\n",
      "Monthly Error: "
     ]
    },
    {
     "name": "stderr",
     "output_type": "stream",
     "text": [
      "19:56:35 - cmdstanpy - INFO - Chain [1] start processing\n"
     ]
    },
    {
     "name": "stdout",
     "output_type": "stream",
     "text": [
      "46.83 Period MAE: 55.08\n"
     ]
    },
    {
     "name": "stderr",
     "output_type": "stream",
     "text": [
      "19:56:35 - cmdstanpy - INFO - Chain [1] done processing\n",
      "19:56:36 - cmdstanpy - INFO - Chain [1] done processing\n"
     ]
    },
    {
     "name": "stdout",
     "output_type": "stream",
     "text": [
      "It's overpredicted.\n",
      "Monthly Error: 77.83 Period MAE: 11.559999999999999\n"
     ]
    },
    {
     "name": "stderr",
     "output_type": "stream",
     "text": [
      "19:56:37 - cmdstanpy - INFO - Chain [1] start processing\n",
      "19:56:37 - cmdstanpy - INFO - Chain [1] start processing\n",
      "19:56:37 - cmdstanpy - INFO - Chain [1] done processing\n",
      "19:56:38 - cmdstanpy - INFO - Chain [1] done processing\n"
     ]
    },
    {
     "name": "stdout",
     "output_type": "stream",
     "text": [
      "It's underpredicted.\n",
      "Monthly Error: 46.85 Period MAE: 55.089999999999996\n",
      "It's overpredicted.\n",
      "Monthly Error: 77.83 Period MAE: 11.559999999999999\n"
     ]
    },
    {
     "name": "stderr",
     "output_type": "stream",
     "text": [
      "19:56:39 - cmdstanpy - INFO - Chain [1] start processing\n",
      "19:56:39 - cmdstanpy - INFO - Chain [1] start processing\n",
      "19:56:40 - cmdstanpy - INFO - Chain [1] done processing\n"
     ]
    },
    {
     "name": "stdout",
     "output_type": "stream",
     "text": [
      "It's underpredicted.\n",
      "Monthly Error: 46.85 Period MAE: 55.089999999999996\n"
     ]
    },
    {
     "name": "stderr",
     "output_type": "stream",
     "text": [
      "19:56:41 - cmdstanpy - INFO - Chain [1] done processing\n",
      "19:56:42 - cmdstanpy - INFO - Chain [1] start processing\n"
     ]
    },
    {
     "name": "stdout",
     "output_type": "stream",
     "text": [
      "It's overpredicted.\n",
      "Monthly Error: 97.64 Period MAE: 25.52\n",
      "It's underpredicted.\n",
      "Monthly Error: 46.85 Period MAE: 55.089999999999996\n"
     ]
    },
    {
     "name": "stderr",
     "output_type": "stream",
     "text": [
      "19:56:42 - cmdstanpy - INFO - Chain [1] start processing\n",
      "19:56:43 - cmdstanpy - INFO - Chain [1] done processing\n",
      "19:56:43 - cmdstanpy - INFO - Chain [1] done processing\n",
      "19:56:44 - cmdstanpy - INFO - Chain [1] start processing\n"
     ]
    },
    {
     "name": "stdout",
     "output_type": "stream",
     "text": [
      "It's underpredicted.\n",
      "Monthly Error: 100.0 Period MAE: 100.0\n",
      "It's overpredicted.\n",
      "Monthly Error: 97.64 Period MAE: 25.52\n"
     ]
    },
    {
     "name": "stderr",
     "output_type": "stream",
     "text": [
      "19:56:45 - cmdstanpy - INFO - Chain [1] start processing\n",
      "19:56:45 - cmdstanpy - INFO - Chain [1] done processing\n",
      "19:56:46 - cmdstanpy - INFO - Chain [1] done processing\n",
      "19:56:46 - cmdstanpy - INFO - Chain [1] start processing\n"
     ]
    },
    {
     "name": "stdout",
     "output_type": "stream",
     "text": [
      "It's overpredicted.\n",
      "Monthly Error: 97.64 Period MAE: 25.52\n"
     ]
    },
    {
     "name": "stderr",
     "output_type": "stream",
     "text": [
      "19:56:47 - cmdstanpy - INFO - Chain [1] start processing\n"
     ]
    },
    {
     "name": "stdout",
     "output_type": "stream",
     "text": [
      "It's underpredicted.\n",
      "Monthly Error: 100.0 Period MAE: 100.0\n"
     ]
    },
    {
     "name": "stderr",
     "output_type": "stream",
     "text": [
      "19:56:47 - cmdstanpy - INFO - Chain [1] done processing\n",
      "19:56:48 - cmdstanpy - INFO - Chain [1] done processing\n",
      "19:56:49 - cmdstanpy - INFO - Chain [1] start processing\n"
     ]
    },
    {
     "name": "stdout",
     "output_type": "stream",
     "text": [
      "It's overpredicted.\n",
      "Monthly Error: 99.47 Period MAE: 27.42\n"
     ]
    },
    {
     "name": "stderr",
     "output_type": "stream",
     "text": [
      "19:56:49 - cmdstanpy - INFO - Chain [1] start processing\n"
     ]
    },
    {
     "name": "stdout",
     "output_type": "stream",
     "text": [
      "It's underpredicted.\n",
      "Monthly Error: 100.0 Period MAE: 100.0\n"
     ]
    },
    {
     "name": "stderr",
     "output_type": "stream",
     "text": [
      "19:56:49 - cmdstanpy - INFO - Chain [1] done processing\n",
      "19:56:51 - cmdstanpy - INFO - Chain [1] done processing\n",
      "19:56:51 - cmdstanpy - INFO - Chain [1] start processing\n"
     ]
    },
    {
     "name": "stdout",
     "output_type": "stream",
     "text": [
      "It's underpredicted.\n",
      "Monthly Error:It's overpredicted. 55.95 \n",
      "Period MAE:Monthly Error:  99.47 Period MAE: 72.46000000000001\n",
      "27.42\n"
     ]
    },
    {
     "name": "stderr",
     "output_type": "stream",
     "text": [
      "19:56:52 - cmdstanpy - INFO - Chain [1] start processing\n",
      "19:56:52 - cmdstanpy - INFO - Chain [1] done processing\n",
      "19:56:53 - cmdstanpy - INFO - Chain [1] done processing\n",
      "19:56:53 - cmdstanpy - INFO - Chain [1] start processing\n"
     ]
    },
    {
     "name": "stdout",
     "output_type": "stream",
     "text": [
      "It's overpredicted.\n",
      "Monthly Error: 99.47 Period MAE: 27.42\n",
      "It's underpredicted.\n",
      "Monthly Error: 55.95 Period MAE: 72.46000000000001\n"
     ]
    },
    {
     "name": "stderr",
     "output_type": "stream",
     "text": [
      "19:56:54 - cmdstanpy - INFO - Chain [1] start processing\n",
      "19:56:54 - cmdstanpy - INFO - Chain [1] done processing\n",
      "19:56:56 - cmdstanpy - INFO - Chain [1] start processing\n",
      "19:56:56 - cmdstanpy - INFO - Chain [1] done processing\n"
     ]
    },
    {
     "name": "stdout",
     "output_type": "stream",
     "text": [
      "It's underpredicted.\n",
      "Monthly Error: 55.95It's overpredicted. \n",
      "Monthly Error: 96.22 Period MAE:Period MAE:  72.4600000000000122.75\n",
      "\n"
     ]
    },
    {
     "name": "stderr",
     "output_type": "stream",
     "text": [
      "19:56:57 - cmdstanpy - INFO - Chain [1] start processing\n",
      "19:56:57 - cmdstanpy - INFO - Chain [1] done processing\n",
      "19:56:58 - cmdstanpy - INFO - Chain [1] done processing\n"
     ]
    },
    {
     "name": "stdout",
     "output_type": "stream",
     "text": [
      "It's overpredicted."
     ]
    },
    {
     "name": "stderr",
     "output_type": "stream",
     "text": [
      "19:56:59 - cmdstanpy - INFO - Chain [1] start processing\n"
     ]
    },
    {
     "name": "stdout",
     "output_type": "stream",
     "text": [
      "\n",
      "Monthly Error: 96.22 Period MAE: 22.75\n",
      "It's underpredicted.\n",
      "Monthly Error: 100.0 Period MAE: 100.0\n"
     ]
    },
    {
     "name": "stderr",
     "output_type": "stream",
     "text": [
      "19:56:59 - cmdstanpy - INFO - Chain [1] start processing\n",
      "19:56:59 - cmdstanpy - INFO - Chain [1] done processing\n",
      "19:57:01 - cmdstanpy - INFO - Chain [1] start processing\n",
      "19:57:01 - cmdstanpy - INFO - Chain [1] done processing\n"
     ]
    },
    {
     "name": "stdout",
     "output_type": "stream",
     "text": [
      "It's overpredicted.\n",
      "Monthly Error: 96.22 Period MAE: 22.75\n",
      "It's underpredicted.\n",
      "Monthly Error: 100.0 Period MAE:100.0 \n"
     ]
    },
    {
     "name": "stderr",
     "output_type": "stream",
     "text": [
      "19:57:03 - cmdstanpy - INFO - Chain [1] start processing\n",
      "19:57:03 - cmdstanpy - INFO - Chain [1] done processing\n",
      "19:57:04 - cmdstanpy - INFO - Chain [1] done processing\n",
      "19:57:04 - cmdstanpy - INFO - Chain [1] start processing\n"
     ]
    },
    {
     "name": "stdout",
     "output_type": "stream",
     "text": [
      "It's underpredicted.\n",
      "Monthly Error: 100.0 Period MAE: 100.0\n",
      "It's overpredicted.\n",
      "Monthly Error: 105.05 Period MAE: 24.959999999999997\n"
     ]
    },
    {
     "name": "stderr",
     "output_type": "stream",
     "text": [
      "19:57:05 - cmdstanpy - INFO - Chain [1] start processing\n",
      "19:57:06 - cmdstanpy - INFO - Chain [1] done processing\n",
      "19:57:07 - cmdstanpy - INFO - Chain [1] start processing\n",
      "19:57:07 - cmdstanpy - INFO - Chain [1] done processing\n"
     ]
    },
    {
     "name": "stdout",
     "output_type": "stream",
     "text": [
      "It's overpredicted.\n",
      "Monthly Error: 105.05 Period MAE: 24.959999999999997\n"
     ]
    },
    {
     "name": "stderr",
     "output_type": "stream",
     "text": [
      "19:57:08 - cmdstanpy - INFO - Chain [1] start processing\n"
     ]
    },
    {
     "name": "stdout",
     "output_type": "stream",
     "text": [
      "It's underpredicted.\n",
      "Monthly Error: 46.85 Period MAE: 55.089999999999996\n"
     ]
    },
    {
     "name": "stderr",
     "output_type": "stream",
     "text": [
      "19:57:09 - cmdstanpy - INFO - Chain [1] done processing\n",
      "19:57:09 - cmdstanpy - INFO - Chain [1] done processing\n",
      "19:57:10 - cmdstanpy - INFO - Chain [1] start processing\n"
     ]
    },
    {
     "name": "stdout",
     "output_type": "stream",
     "text": [
      "It's overpredicted.\n",
      "Monthly Error: 105.05 Period MAE: 24.959999999999997\n",
      "It's underpredicted.\n",
      "Monthly Error: 46.85 Period MAE: 55.089999999999996\n"
     ]
    },
    {
     "name": "stderr",
     "output_type": "stream",
     "text": [
      "19:57:10 - cmdstanpy - INFO - Chain [1] start processing\n",
      "19:57:11 - cmdstanpy - INFO - Chain [1] done processing\n",
      "19:57:12 - cmdstanpy - INFO - Chain [1] start processing\n",
      "19:57:12 - cmdstanpy - INFO - Chain [1] done processing\n"
     ]
    },
    {
     "name": "stdout",
     "output_type": "stream",
     "text": [
      "It's overpredicted.It's underpredicted.\n",
      "\n",
      "Monthly Error:Monthly Error:  102.3 Period MAE: 46.85 21.63\n",
      "Period MAE: 55.089999999999996\n"
     ]
    },
    {
     "name": "stderr",
     "output_type": "stream",
     "text": [
      "19:57:14 - cmdstanpy - INFO - Chain [1] start processing\n",
      "19:57:14 - cmdstanpy - INFO - Chain [1] done processing\n",
      "19:57:15 - cmdstanpy - INFO - Chain [1] done processing\n",
      "19:57:15 - cmdstanpy - INFO - Chain [1] start processing\n"
     ]
    },
    {
     "name": "stdout",
     "output_type": "stream",
     "text": [
      "It's underpredicted.\n",
      "It's overpredicted.Monthly Error:\n",
      "Monthly Error:  102.346.58  Period MAE:Period MAE: 21.63\n",
      " 54.89000000000001\n"
     ]
    },
    {
     "name": "stderr",
     "output_type": "stream",
     "text": [
      "19:57:16 - cmdstanpy - INFO - Chain [1] start processing\n",
      "19:57:16 - cmdstanpy - INFO - Chain [1] done processing\n",
      "19:57:18 - cmdstanpy - INFO - Chain [1] start processing\n",
      "19:57:18 - cmdstanpy - INFO - Chain [1] done processing\n"
     ]
    },
    {
     "name": "stdout",
     "output_type": "stream",
     "text": [
      "It's overpredicted.\n",
      "Monthly Error: 102.3 Period MAE: 21.63\n"
     ]
    },
    {
     "name": "stderr",
     "output_type": "stream",
     "text": [
      "19:57:19 - cmdstanpy - INFO - Chain [1] start processing\n"
     ]
    },
    {
     "name": "stdout",
     "output_type": "stream",
     "text": [
      "It's underpredicted.\n",
      "Monthly Error: 46.58 Period MAE: 54.89000000000001\n"
     ]
    },
    {
     "name": "stderr",
     "output_type": "stream",
     "text": [
      "19:57:20 - cmdstanpy - INFO - Chain [1] done processing\n",
      "19:57:20 - cmdstanpy - INFO - Chain [1] done processing\n"
     ]
    },
    {
     "name": "stdout",
     "output_type": "stream",
     "text": [
      "It's underpredicted.\n"
     ]
    },
    {
     "name": "stderr",
     "output_type": "stream",
     "text": [
      "19:57:21 - cmdstanpy - INFO - Chain [1] start processing\n"
     ]
    },
    {
     "name": "stdout",
     "output_type": "stream",
     "text": [
      "Monthly Error: 46.58 Period MAE: 54.89000000000001\n"
     ]
    },
    {
     "name": "stderr",
     "output_type": "stream",
     "text": [
      "19:57:21 - cmdstanpy - INFO - Chain [1] start processing\n"
     ]
    },
    {
     "name": "stdout",
     "output_type": "stream",
     "text": [
      "It's overpredicted.\n",
      "Monthly Error: 99.5 Period MAE: 16.84\n"
     ]
    },
    {
     "name": "stderr",
     "output_type": "stream",
     "text": [
      "19:57:22 - cmdstanpy - INFO - Chain [1] done processing\n",
      "19:57:23 - cmdstanpy - INFO - Chain [1] start processing\n",
      "19:57:24 - cmdstanpy - INFO - Chain [1] done processing\n"
     ]
    },
    {
     "name": "stdout",
     "output_type": "stream",
     "text": [
      "It's underpredicted.\n",
      "Monthly Error: 46.57 Period MAE: 54.879999999999995\n"
     ]
    },
    {
     "name": "stderr",
     "output_type": "stream",
     "text": [
      "19:57:25 - cmdstanpy - INFO - Chain [1] start processing\n"
     ]
    },
    {
     "name": "stdout",
     "output_type": "stream",
     "text": [
      "It's overpredicted.\n",
      "Monthly Error: 99.5 Period MAE: 16.84\n"
     ]
    },
    {
     "name": "stderr",
     "output_type": "stream",
     "text": [
      "19:57:25 - cmdstanpy - INFO - Chain [1] done processing\n",
      "19:57:26 - cmdstanpy - INFO - Chain [1] done processing\n"
     ]
    },
    {
     "name": "stdout",
     "output_type": "stream",
     "text": [
      "It's underpredicted.\n",
      "Monthly Error: 46.57 Period MAE: 54.879999999999995"
     ]
    },
    {
     "name": "stderr",
     "output_type": "stream",
     "text": [
      "19:57:26 - cmdstanpy - INFO - Chain [1] start processing\n"
     ]
    },
    {
     "name": "stdout",
     "output_type": "stream",
     "text": [
      "\n"
     ]
    },
    {
     "name": "stderr",
     "output_type": "stream",
     "text": [
      "19:57:27 - cmdstanpy - INFO - Chain [1] start processing\n",
      "19:57:27 - cmdstanpy - INFO - Chain [1] done processing\n"
     ]
    },
    {
     "name": "stdout",
     "output_type": "stream",
     "text": [
      "It's overpredicted.\n",
      "Monthly Error: 99.5 Period MAE: 16.84\n"
     ]
    },
    {
     "name": "stderr",
     "output_type": "stream",
     "text": [
      "19:57:29 - cmdstanpy - INFO - Chain [1] start processing\n",
      "19:57:29 - cmdstanpy - INFO - Chain [1] done processing\n"
     ]
    },
    {
     "name": "stdout",
     "output_type": "stream",
     "text": [
      "It's underpredicted.\n",
      "Monthly Error: 46.57 Period MAE: 54.879999999999995\n",
      "It's overpredicted.\n",
      "Monthly Error: 108.92 Period MAE: 26.779999999999998\n"
     ]
    },
    {
     "name": "stderr",
     "output_type": "stream",
     "text": [
      "19:57:30 - cmdstanpy - INFO - Chain [1] start processing\n",
      "19:57:30 - cmdstanpy - INFO - Chain [1] done processing\n",
      "19:57:31 - cmdstanpy - INFO - Chain [1] done processing\n"
     ]
    },
    {
     "name": "stdout",
     "output_type": "stream",
     "text": [
      "It's underpredicted.\n",
      "Monthly Error: 100.0 Period MAE: 100.0\n"
     ]
    },
    {
     "name": "stderr",
     "output_type": "stream",
     "text": [
      "19:57:32 - cmdstanpy - INFO - Chain [1] start processing\n",
      "19:57:32 - cmdstanpy - INFO - Chain [1] start processing\n"
     ]
    },
    {
     "name": "stdout",
     "output_type": "stream",
     "text": [
      "It's overpredicted.\n",
      "Monthly Error: 108.92 Period MAE: 26.779999999999998\n"
     ]
    },
    {
     "name": "stderr",
     "output_type": "stream",
     "text": [
      "19:57:32 - cmdstanpy - INFO - Chain [1] done processing\n",
      "19:57:34 - cmdstanpy - INFO - Chain [1] start processing\n",
      "19:57:34 - cmdstanpy - INFO - Chain [1] done processing\n"
     ]
    },
    {
     "name": "stdout",
     "output_type": "stream",
     "text": [
      "It's underpredicted.\n",
      "Monthly Error: 100.0 It's overpredicted.\n",
      "Monthly Error:Period MAE:  108.92 Period MAE: 26.779999999999998100.0\n",
      "\n"
     ]
    },
    {
     "name": "stderr",
     "output_type": "stream",
     "text": [
      "19:57:36 - cmdstanpy - INFO - Chain [1] start processing\n",
      "19:57:36 - cmdstanpy - INFO - Chain [1] done processing\n",
      "19:57:37 - cmdstanpy - INFO - Chain [1] start processing\n"
     ]
    },
    {
     "name": "stdout",
     "output_type": "stream",
     "text": [
      "It's underpredicted.\n",
      "Monthly Error: 100.0 Period MAE: 100.0\n"
     ]
    },
    {
     "name": "stderr",
     "output_type": "stream",
     "text": [
      "19:57:38 - cmdstanpy - INFO - Chain [1] done processing\n",
      "19:57:38 - cmdstanpy - INFO - Chain [1] start processing\n",
      "19:57:38 - cmdstanpy - INFO - Chain [1] done processing\n"
     ]
    },
    {
     "name": "stdout",
     "output_type": "stream",
     "text": [
      "It's overpredicted.\n",
      "Monthly Error: 108.59 Period MAE: 26.68\n"
     ]
    },
    {
     "name": "stderr",
     "output_type": "stream",
     "text": [
      "19:57:40 - cmdstanpy - INFO - Chain [1] start processing\n",
      "19:57:40 - cmdstanpy - INFO - Chain [1] done processing\n"
     ]
    },
    {
     "name": "stdout",
     "output_type": "stream",
     "text": [
      "It's underpredicted.\n",
      "Monthly Error: 60.09 Period MAE: 75.06\n",
      "It's overpredicted.\n",
      "Monthly Error: 108.59 Period MAE: 26.68\n"
     ]
    },
    {
     "name": "stderr",
     "output_type": "stream",
     "text": [
      "19:57:42 - cmdstanpy - INFO - Chain [1] start processing\n",
      "19:57:42 - cmdstanpy - INFO - Chain [1] done processing\n"
     ]
    },
    {
     "name": "stdout",
     "output_type": "stream",
     "text": [
      "It's underpredicted.\n",
      "Monthly Error: 60.09 Period MAE: 75.06\n"
     ]
    },
    {
     "name": "stderr",
     "output_type": "stream",
     "text": [
      "19:57:43 - cmdstanpy - INFO - Chain [1] done processing\n",
      "19:57:43 - cmdstanpy - INFO - Chain [1] start processing\n",
      "19:57:43 - cmdstanpy - INFO - Chain [1] start processing\n"
     ]
    },
    {
     "name": "stdout",
     "output_type": "stream",
     "text": [
      "It's overpredicted.\n",
      "Monthly Error: 108.59 Period MAE: 26.68\n"
     ]
    },
    {
     "name": "stderr",
     "output_type": "stream",
     "text": [
      "19:57:45 - cmdstanpy - INFO - Chain [1] start processing\n",
      "19:57:45 - cmdstanpy - INFO - Chain [1] done processing\n"
     ]
    },
    {
     "name": "stdout",
     "output_type": "stream",
     "text": [
      "It's underpredicted.\n",
      "Monthly Error: 60.09 Period MAE: 75.06\n"
     ]
    },
    {
     "name": "stderr",
     "output_type": "stream",
     "text": [
      "19:57:46 - cmdstanpy - INFO - Chain [1] done processing\n"
     ]
    },
    {
     "name": "stdout",
     "output_type": "stream",
     "text": [
      "It's overpredicted.\n",
      "Monthly Error: 108.58 Period MAE: 26.88\n"
     ]
    },
    {
     "name": "stderr",
     "output_type": "stream",
     "text": [
      "19:57:47 - cmdstanpy - INFO - Chain [1] start processing\n",
      "19:57:48 - cmdstanpy - INFO - Chain [1] start processing\n",
      "19:57:48 - cmdstanpy - INFO - Chain [1] done processing\n"
     ]
    },
    {
     "name": "stdout",
     "output_type": "stream",
     "text": [
      "It's overpredicted.\n",
      "Monthly Error: 108.58 Period MAE: 26.88\n"
     ]
    },
    {
     "name": "stderr",
     "output_type": "stream",
     "text": [
      "19:57:49 - cmdstanpy - INFO - Chain [1] start processing\n",
      "19:57:50 - cmdstanpy - INFO - Chain [1] done processing\n"
     ]
    },
    {
     "name": "stdout",
     "output_type": "stream",
     "text": [
      "It's underpredicted.\n",
      "Monthly Error: 100.0 Period MAE: "
     ]
    },
    {
     "name": "stderr",
     "output_type": "stream",
     "text": [
      "19:57:51 - cmdstanpy - INFO - Chain [1] done processing\n"
     ]
    },
    {
     "name": "stdout",
     "output_type": "stream",
     "text": [
      "100.0\n",
      "It's overpredicted.\n",
      "Monthly Error: 108.58 Period MAE: 26.88\n"
     ]
    },
    {
     "name": "stderr",
     "output_type": "stream",
     "text": [
      "19:57:52 - cmdstanpy - INFO - Chain [1] start processing\n",
      "19:57:52 - cmdstanpy - INFO - Chain [1] done processing\n",
      "19:57:52 - cmdstanpy - INFO - Chain [1] start processing\n",
      "19:57:53 - cmdstanpy - INFO - Chain [1] done processing\n"
     ]
    },
    {
     "name": "stdout",
     "output_type": "stream",
     "text": [
      "It's underpredicted.\n",
      "Monthly Error: 100.0 Period MAE: 100.0\n"
     ]
    },
    {
     "name": "stderr",
     "output_type": "stream",
     "text": [
      "19:57:55 - cmdstanpy - INFO - Chain [1] done processing\n"
     ]
    },
    {
     "name": "stdout",
     "output_type": "stream",
     "text": [
      "It's overpredicted.\n",
      "Monthly Error: 105.05 Period MAE: 24.959999999999997\n"
     ]
    },
    {
     "name": "stderr",
     "output_type": "stream",
     "text": [
      "19:57:56 - cmdstanpy - INFO - Chain [1] start processing\n",
      "19:57:56 - cmdstanpy - INFO - Chain [1] start processing\n",
      "19:57:56 - cmdstanpy - INFO - Chain [1] done processing\n"
     ]
    },
    {
     "name": "stdout",
     "output_type": "stream",
     "text": [
      "It's underpredicted.\n",
      "Monthly Error: 100.0 Period MAE: 100.0\n",
      "It's underpredicted.\n",
      "Monthly Error: 46.85 Period MAE: 55.089999999999996\n"
     ]
    },
    {
     "name": "stderr",
     "output_type": "stream",
     "text": [
      "19:57:58 - cmdstanpy - INFO - Chain [1] done processing\n",
      "19:57:58 - cmdstanpy - INFO - Chain [1] start processing\n",
      "19:57:59 - cmdstanpy - INFO - Chain [1] start processing\n"
     ]
    },
    {
     "name": "stdout",
     "output_type": "stream",
     "text": [
      "It's overpredicted.\n",
      "Monthly Error: 105.05 Period MAE: 24.959999999999997\n"
     ]
    },
    {
     "name": "stderr",
     "output_type": "stream",
     "text": [
      "19:57:59 - cmdstanpy - INFO - Chain [1] done processing\n"
     ]
    },
    {
     "name": "stdout",
     "output_type": "stream",
     "text": [
      "It's underpredicted.\n",
      "Monthly Error: 46.85 Period MAE: 55.089999999999996\n"
     ]
    },
    {
     "name": "stderr",
     "output_type": "stream",
     "text": [
      "19:58:00 - cmdstanpy - INFO - Chain [1] start processing\n",
      "19:58:01 - cmdstanpy - INFO - Chain [1] start processing\n",
      "19:58:01 - cmdstanpy - INFO - Chain [1] done processing\n",
      "19:58:01 - cmdstanpy - INFO - Chain [1] done processing\n"
     ]
    },
    {
     "name": "stdout",
     "output_type": "stream",
     "text": [
      "It's overpredicted.\n",
      "Monthly Error: 105.05 Period MAE: 24.959999999999997\n"
     ]
    },
    {
     "name": "stderr",
     "output_type": "stream",
     "text": [
      "19:58:03 - cmdstanpy - INFO - Chain [1] start processing\n"
     ]
    },
    {
     "name": "stdout",
     "output_type": "stream",
     "text": [
      "It's underpredicted.\n",
      "Monthly Error: 46.85 Period MAE: 55.089999999999996\n"
     ]
    },
    {
     "name": "stderr",
     "output_type": "stream",
     "text": [
      "19:58:04 - cmdstanpy - INFO - Chain [1] start processing\n",
      "19:58:04 - cmdstanpy - INFO - Chain [1] done processing\n",
      "19:58:05 - cmdstanpy - INFO - Chain [1] done processing\n"
     ]
    },
    {
     "name": "stdout",
     "output_type": "stream",
     "text": [
      "It's overpredicted.\n",
      "Monthly Error: 102.76 Period MAE: 21.32\n"
     ]
    },
    {
     "name": "stderr",
     "output_type": "stream",
     "text": [
      "19:58:07 - cmdstanpy - INFO - Chain [1] start processing\n",
      "19:58:07 - cmdstanpy - INFO - Chain [1] done processing\n"
     ]
    },
    {
     "name": "stdout",
     "output_type": "stream",
     "text": [
      "It's underpredicted.\n",
      "Monthly Error: 46.83 Period MAE: 55.08\n"
     ]
    },
    {
     "name": "stderr",
     "output_type": "stream",
     "text": [
      "19:58:07 - cmdstanpy - INFO - Chain [1] start processing\n"
     ]
    },
    {
     "name": "stdout",
     "output_type": "stream",
     "text": [
      "It's overpredicted.\n",
      "Monthly Error: 102.76 Period MAE: 21.32\n"
     ]
    },
    {
     "name": "stderr",
     "output_type": "stream",
     "text": [
      "19:58:08 - cmdstanpy - INFO - Chain [1] done processing\n",
      "19:58:09 - cmdstanpy - INFO - Chain [1] start processing\n",
      "19:58:09 - cmdstanpy - INFO - Chain [1] done processing\n"
     ]
    },
    {
     "name": "stdout",
     "output_type": "stream",
     "text": [
      "It's underpredicted.\n",
      "Monthly Error: 46.83 Period MAE: 55.08\n"
     ]
    },
    {
     "name": "stderr",
     "output_type": "stream",
     "text": [
      "19:58:10 - cmdstanpy - INFO - Chain [1] start processing\n"
     ]
    },
    {
     "name": "stdout",
     "output_type": "stream",
     "text": [
      "It's overpredicted.\n",
      "Monthly Error: 102.76 Period MAE: 21.32\n"
     ]
    },
    {
     "name": "stderr",
     "output_type": "stream",
     "text": [
      "19:58:10 - cmdstanpy - INFO - Chain [1] done processing\n",
      "19:58:12 - cmdstanpy - INFO - Chain [1] start processing\n",
      "19:58:12 - cmdstanpy - INFO - Chain [1] done processing\n"
     ]
    },
    {
     "name": "stdout",
     "output_type": "stream",
     "text": [
      "It's underpredicted.\n",
      "Monthly Error: 46.83 Period MAE: 55.08\n"
     ]
    },
    {
     "name": "stderr",
     "output_type": "stream",
     "text": [
      "19:58:13 - cmdstanpy - INFO - Chain [1] start processing\n"
     ]
    },
    {
     "name": "stdout",
     "output_type": "stream",
     "text": [
      "It's overpredicted.\n",
      "Monthly Error: 87.7 Period MAE: 8.91\n"
     ]
    },
    {
     "name": "stderr",
     "output_type": "stream",
     "text": [
      "19:58:13 - cmdstanpy - INFO - Chain [1] done processing\n",
      "19:58:14 - cmdstanpy - INFO - Chain [1] start processing\n",
      "19:58:14 - cmdstanpy - INFO - Chain [1] done processing\n"
     ]
    },
    {
     "name": "stdout",
     "output_type": "stream",
     "text": [
      "It's underpredicted.\n",
      "Monthly Error: 46.78 Period MAE: 55.04\n",
      "It's overpredicted.\n",
      "Monthly Error:"
     ]
    },
    {
     "name": "stderr",
     "output_type": "stream",
     "text": [
      "19:58:15 - cmdstanpy - INFO - Chain [1] start processing\n"
     ]
    },
    {
     "name": "stdout",
     "output_type": "stream",
     "text": [
      " 87.7 Period MAE: 8.91\n"
     ]
    },
    {
     "name": "stderr",
     "output_type": "stream",
     "text": [
      "19:58:16 - cmdstanpy - INFO - Chain [1] done processing\n",
      "19:58:17 - cmdstanpy - INFO - Chain [1] start processing\n",
      "19:58:17 - cmdstanpy - INFO - Chain [1] done processing\n"
     ]
    },
    {
     "name": "stdout",
     "output_type": "stream",
     "text": [
      "It's underpredicted.\n",
      "Monthly Error: 46.78 Period MAE: 55.04\n"
     ]
    },
    {
     "name": "stderr",
     "output_type": "stream",
     "text": [
      "19:58:18 - cmdstanpy - INFO - Chain [1] start processing\n"
     ]
    },
    {
     "name": "stdout",
     "output_type": "stream",
     "text": [
      "It's overpredicted.\n",
      "Monthly Error: 87.7 Period MAE: 8.91\n"
     ]
    },
    {
     "name": "stderr",
     "output_type": "stream",
     "text": [
      "19:58:18 - cmdstanpy - INFO - Chain [1] done processing\n",
      "19:58:19 - cmdstanpy - INFO - Chain [1] start processing\n",
      "19:58:20 - cmdstanpy - INFO - Chain [1] done processing\n"
     ]
    },
    {
     "name": "stdout",
     "output_type": "stream",
     "text": [
      "It's underpredicted.\n",
      "Monthly Error: 46.78 Period MAE: 55.04\n"
     ]
    },
    {
     "name": "stderr",
     "output_type": "stream",
     "text": [
      "19:58:21 - cmdstanpy - INFO - Chain [1] start processing\n"
     ]
    },
    {
     "name": "stdout",
     "output_type": "stream",
     "text": [
      "It's overpredicted.\n",
      "Monthly Error: 108.92 Period MAE: 26.779999999999998\n"
     ]
    },
    {
     "name": "stderr",
     "output_type": "stream",
     "text": [
      "19:58:21 - cmdstanpy - INFO - Chain [1] done processing\n",
      "19:58:22 - cmdstanpy - INFO - Chain [1] done processing\n",
      "19:58:22 - cmdstanpy - INFO - Chain [1] start processing\n"
     ]
    },
    {
     "name": "stdout",
     "output_type": "stream",
     "text": [
      "It's underpredicted.\n",
      "Monthly Error: 100.0 Period MAE: 100.0\n",
      "It's overpredicted.\n",
      "Monthly Error: 108.92 Period MAE: 26.779999999999998\n"
     ]
    },
    {
     "name": "stderr",
     "output_type": "stream",
     "text": [
      "19:58:23 - cmdstanpy - INFO - Chain [1] start processing\n",
      "19:58:23 - cmdstanpy - INFO - Chain [1] done processing\n",
      "19:58:24 - cmdstanpy - INFO - Chain [1] start processing\n",
      "19:58:25 - cmdstanpy - INFO - Chain [1] done processing\n"
     ]
    },
    {
     "name": "stdout",
     "output_type": "stream",
     "text": [
      "It's underpredicted.\n",
      "Monthly Error: 100.0 Period MAE: 100.0\n",
      "It's overpredicted.\n",
      "Monthly Error: 108.92 "
     ]
    },
    {
     "name": "stderr",
     "output_type": "stream",
     "text": [
      "19:58:26 - cmdstanpy - INFO - Chain [1] start processing\n"
     ]
    },
    {
     "name": "stdout",
     "output_type": "stream",
     "text": [
      "Period MAE: 26.779999999999998\n"
     ]
    },
    {
     "name": "stderr",
     "output_type": "stream",
     "text": [
      "19:58:26 - cmdstanpy - INFO - Chain [1] done processing\n",
      "19:58:27 - cmdstanpy - INFO - Chain [1] done processing\n",
      "19:58:27 - cmdstanpy - INFO - Chain [1] start processing\n"
     ]
    },
    {
     "name": "stdout",
     "output_type": "stream",
     "text": [
      "It's overpredicted.\n",
      "Monthly Error: It's underpredicted.\n",
      "Monthly Error: 100.0108.13 Period MAE: Period MAE: 26.68\n",
      " 100.0\n"
     ]
    },
    {
     "name": "stderr",
     "output_type": "stream",
     "text": [
      "19:58:28 - cmdstanpy - INFO - Chain [1] start processing\n",
      "19:58:28 - cmdstanpy - INFO - Chain [1] done processing\n",
      "19:58:29 - cmdstanpy - INFO - Chain [1] start processing\n",
      "19:58:30 - cmdstanpy - INFO - Chain [1] done processing\n"
     ]
    },
    {
     "name": "stdout",
     "output_type": "stream",
     "text": [
      "It's underpredicted.\n",
      "Monthly Error: 56.0 Period MAE: 72.5\n",
      "It's overpredicted.\n",
      "Monthly Error: 108.13 Period MAE: 26.68\n"
     ]
    },
    {
     "name": "stderr",
     "output_type": "stream",
     "text": [
      "19:58:31 - cmdstanpy - INFO - Chain [1] start processing\n",
      "19:58:31 - cmdstanpy - INFO - Chain [1] done processing\n",
      "19:58:32 - cmdstanpy - INFO - Chain [1] done processing\n",
      "19:58:33 - cmdstanpy - INFO - Chain [1] start processing\n"
     ]
    },
    {
     "name": "stdout",
     "output_type": "stream",
     "text": [
      "It's underpredicted.\n",
      "Monthly Error: 56.0 Period MAE: 72.5\n",
      "It's overpredicted.\n",
      "Monthly Error: 108.13 Period MAE: 26.68\n"
     ]
    },
    {
     "name": "stderr",
     "output_type": "stream",
     "text": [
      "19:58:33 - cmdstanpy - INFO - Chain [1] start processing\n",
      "19:58:33 - cmdstanpy - INFO - Chain [1] done processing\n",
      "19:58:35 - cmdstanpy - INFO - Chain [1] start processing\n",
      "19:58:35 - cmdstanpy - INFO - Chain [1] done processing\n"
     ]
    },
    {
     "name": "stdout",
     "output_type": "stream",
     "text": [
      "It's underpredicted.\n",
      "Monthly Error: 56.0 Period MAE: 72.5\n",
      "It's overpredicted.\n",
      "Monthly Error: 106.83 Period MAE: 25.5\n"
     ]
    },
    {
     "name": "stderr",
     "output_type": "stream",
     "text": [
      "19:58:36 - cmdstanpy - INFO - Chain [1] start processing\n",
      "19:58:36 - cmdstanpy - INFO - Chain [1] done processing\n",
      "19:58:38 - cmdstanpy - INFO - Chain [1] done processing\n",
      "19:58:38 - cmdstanpy - INFO - Chain [1] start processing\n"
     ]
    },
    {
     "name": "stdout",
     "output_type": "stream",
     "text": [
      "It's underpredicted.\n",
      "Monthly Error: 100.0 Period MAE: 100.0\n",
      "It's overpredicted.\n",
      "Monthly Error: 106.83\n",
      " Period MAE: 25.5"
     ]
    },
    {
     "name": "stderr",
     "output_type": "stream",
     "text": [
      "19:58:39 - cmdstanpy - INFO - Chain [1] start processing\n",
      "19:58:39 - cmdstanpy - INFO - Chain [1] done processing\n",
      "19:58:40 - cmdstanpy - INFO - Chain [1] done processing\n",
      "19:58:41 - cmdstanpy - INFO - Chain [1] start processing\n"
     ]
    },
    {
     "name": "stdout",
     "output_type": "stream",
     "text": [
      "It's overpredicted.\n",
      "Monthly Error: 106.83 Period MAE: 25.5\n",
      "It's underpredicted.\n",
      "Monthly Error: 100.0 Period MAE: 100.0\n"
     ]
    },
    {
     "name": "stderr",
     "output_type": "stream",
     "text": [
      "19:58:42 - cmdstanpy - INFO - Chain [1] start processing\n",
      "19:58:42 - cmdstanpy - INFO - Chain [1] done processing\n",
      "19:58:43 - cmdstanpy - INFO - Chain [1] start processing\n",
      "19:58:43 - cmdstanpy - INFO - Chain [1] done processing\n"
     ]
    },
    {
     "name": "stdout",
     "output_type": "stream",
     "text": [
      "It's underpredicted.\n",
      "Monthly Error: 100.0 Period MAE: 100.0\n",
      "It's overpredicted.\n",
      "Monthly Error: 105.05 Period MAE: 24.959999999999997\n"
     ]
    },
    {
     "name": "stderr",
     "output_type": "stream",
     "text": [
      "19:58:45 - cmdstanpy - INFO - Chain [1] start processing\n",
      "19:58:45 - cmdstanpy - INFO - Chain [1] done processing\n",
      "19:58:46 - cmdstanpy - INFO - Chain [1] done processing\n",
      "19:58:46 - cmdstanpy - INFO - Chain [1] start processing\n"
     ]
    },
    {
     "name": "stdout",
     "output_type": "stream",
     "text": [
      "It's overpredicted.\n",
      "Monthly Error: 105.05 Period MAE: 24.959999999999997\n",
      "It's underpredicted.\n",
      "Monthly Error: 46.85 Period MAE: 55.089999999999996\n"
     ]
    },
    {
     "name": "stderr",
     "output_type": "stream",
     "text": [
      "19:58:47 - cmdstanpy - INFO - Chain [1] start processing\n",
      "19:58:47 - cmdstanpy - INFO - Chain [1] done processing\n",
      "19:58:48 - cmdstanpy - INFO - Chain [1] start processing\n",
      "19:58:48 - cmdstanpy - INFO - Chain [1] done processing\n"
     ]
    },
    {
     "name": "stdout",
     "output_type": "stream",
     "text": [
      "It's overpredicted.\n",
      "Monthly Error: 105.05 Period MAE: 24.959999999999997\n",
      "It's underpredicted.\n",
      "Monthly Error: 46.85 "
     ]
    },
    {
     "name": "stderr",
     "output_type": "stream",
     "text": [
      "19:58:50 - cmdstanpy - INFO - Chain [1] start processing\n"
     ]
    },
    {
     "name": "stdout",
     "output_type": "stream",
     "text": [
      "Period MAE: 55.089999999999996\n"
     ]
    },
    {
     "name": "stderr",
     "output_type": "stream",
     "text": [
      "19:58:50 - cmdstanpy - INFO - Chain [1] done processing\n",
      "19:58:51 - cmdstanpy - INFO - Chain [1] done processing\n",
      "19:58:51 - cmdstanpy - INFO - Chain [1] start processing\n"
     ]
    },
    {
     "name": "stdout",
     "output_type": "stream",
     "text": [
      "It's underpredicted.\n",
      "Monthly Error: 46.85 Period MAE: 55.089999999999996\n",
      "It's overpredicted.\n",
      " Monthly Error:102.5 Period MAE: 21.21\n"
     ]
    },
    {
     "name": "stderr",
     "output_type": "stream",
     "text": [
      "19:58:52 - cmdstanpy - INFO - Chain [1] start processing\n",
      "19:58:52 - cmdstanpy - INFO - Chain [1] done processing\n",
      "19:58:53 - cmdstanpy - INFO - Chain [1] start processing\n",
      "19:58:54 - cmdstanpy - INFO - Chain [1] done processing\n"
     ]
    },
    {
     "name": "stdout",
     "output_type": "stream",
     "text": [
      "It's underpredicted.\n",
      "Monthly Error: 46.83 Period MAE: 55.08\n"
     ]
    },
    {
     "name": "stderr",
     "output_type": "stream",
     "text": [
      "19:58:55 - cmdstanpy - INFO - Chain [1] start processing\n"
     ]
    },
    {
     "name": "stdout",
     "output_type": "stream",
     "text": [
      "It's overpredicted.\n",
      "Monthly Error: 102.5 Period MAE: 21.21\n"
     ]
    },
    {
     "name": "stderr",
     "output_type": "stream",
     "text": [
      "19:58:55 - cmdstanpy - INFO - Chain [1] done processing\n",
      "19:58:56 - cmdstanpy - INFO - Chain [1] start processing\n",
      "19:58:56 - cmdstanpy - INFO - Chain [1] done processing\n"
     ]
    },
    {
     "name": "stdout",
     "output_type": "stream",
     "text": [
      "It's underpredicted.\n",
      "Monthly Error: 46.83 Period MAE: 55.08\n",
      "It's overpredicted.\n",
      "Monthly Error: 102.5 Period MAE: 21.21\n"
     ]
    },
    {
     "name": "stderr",
     "output_type": "stream",
     "text": [
      "19:58:57 - cmdstanpy - INFO - Chain [1] start processing\n",
      "19:58:58 - cmdstanpy - INFO - Chain [1] done processing\n",
      "19:58:59 - cmdstanpy - INFO - Chain [1] start processing\n",
      "19:58:59 - cmdstanpy - INFO - Chain [1] done processing\n"
     ]
    },
    {
     "name": "stdout",
     "output_type": "stream",
     "text": [
      "It's underpredicted.\n",
      "Monthly Error: 46.83 Period MAE: 55.08\n",
      "It's overpredicted.\n",
      "Monthly Error: 88.36 Period MAE: 9.4\n"
     ]
    },
    {
     "name": "stderr",
     "output_type": "stream",
     "text": [
      "19:59:00 - cmdstanpy - INFO - Chain [1] start processing\n",
      "19:59:00 - cmdstanpy - INFO - Chain [1] done processing\n",
      "19:59:01 - cmdstanpy - INFO - Chain [1] done processing\n",
      "19:59:02 - cmdstanpy - INFO - Chain [1] start processing\n"
     ]
    },
    {
     "name": "stdout",
     "output_type": "stream",
     "text": [
      "It's overpredicted.\n",
      "Monthly Error: 88.36 Period MAE: 9.4\n",
      "It's underpredicted.\n",
      "Monthly Error: 46.85 Period MAE: 55.08\n"
     ]
    },
    {
     "name": "stderr",
     "output_type": "stream",
     "text": [
      "19:59:03 - cmdstanpy - INFO - Chain [1] start processing\n",
      "19:59:03 - cmdstanpy - INFO - Chain [1] done processing\n",
      "19:59:05 - cmdstanpy - INFO - Chain [1] start processing\n",
      "19:59:05 - cmdstanpy - INFO - Chain [1] done processing\n"
     ]
    },
    {
     "name": "stdout",
     "output_type": "stream",
     "text": [
      "It's underpredicted.\n",
      "Monthly Error: 46.85 Period MAE: 55.08\n",
      "It's overpredicted.\n",
      "Monthly Error: 88.36 Period MAE: 9.4\n"
     ]
    },
    {
     "name": "stderr",
     "output_type": "stream",
     "text": [
      "19:59:06 - cmdstanpy - INFO - Chain [1] start processing\n",
      "19:59:07 - cmdstanpy - INFO - Chain [1] done processing\n",
      "19:59:08 - cmdstanpy - INFO - Chain [1] done processing\n",
      "19:59:08 - cmdstanpy - INFO - Chain [1] start processing\n"
     ]
    },
    {
     "name": "stdout",
     "output_type": "stream",
     "text": [
      "It's overpredicted.\n",
      "Monthly Error: 108.92 Period MAE: 26.779999999999998\n",
      "It's underpredicted.\n",
      "Monthly Error: 46.85 Period MAE: 55.08"
     ]
    },
    {
     "name": "stderr",
     "output_type": "stream",
     "text": [
      "19:59:09 - cmdstanpy - INFO - Chain [1] start processing\n"
     ]
    },
    {
     "name": "stdout",
     "output_type": "stream",
     "text": [
      "\n"
     ]
    },
    {
     "name": "stderr",
     "output_type": "stream",
     "text": [
      "19:59:09 - cmdstanpy - INFO - Chain [1] done processing\n",
      "19:59:10 - cmdstanpy - INFO - Chain [1] start processing\n",
      "19:59:10 - cmdstanpy - INFO - Chain [1] done processing\n"
     ]
    },
    {
     "name": "stdout",
     "output_type": "stream",
     "text": [
      "It's overpredicted.\n",
      "Monthly Error: 108.92 Period MAE: 26.779999999999998\n",
      "It's underpredicted.\n",
      "Monthly Error: 100.0 Period MAE: 100.0\n"
     ]
    },
    {
     "name": "stderr",
     "output_type": "stream",
     "text": [
      "19:59:11 - cmdstanpy - INFO - Chain [1] start processing\n",
      "19:59:12 - cmdstanpy - INFO - Chain [1] done processing\n",
      "19:59:13 - cmdstanpy - INFO - Chain [1] start processing\n",
      "19:59:13 - cmdstanpy - INFO - Chain [1] done processing\n"
     ]
    },
    {
     "name": "stdout",
     "output_type": "stream",
     "text": [
      "It's underpredicted.\n",
      "Monthly Error: 100.0 Period MAE: 100.0\n",
      "It's overpredicted.\n",
      "Monthly Error: 108.92 Period MAE: 26.779999999999998\n"
     ]
    },
    {
     "name": "stderr",
     "output_type": "stream",
     "text": [
      "19:59:14 - cmdstanpy - INFO - Chain [1] start processing\n",
      "19:59:14 - cmdstanpy - INFO - Chain [1] done processing\n",
      "19:59:15 - cmdstanpy - INFO - Chain [1] start processing\n",
      "19:59:15 - cmdstanpy - INFO - Chain [1] done processing\n"
     ]
    },
    {
     "name": "stdout",
     "output_type": "stream",
     "text": [
      "It's underpredicted.\n",
      "Monthly Error: 100.0 Period MAE: 100.0\n",
      "It's overpredicted.\n",
      "Monthly Error: 108.38 Period MAE: 26.6\n"
     ]
    },
    {
     "name": "stderr",
     "output_type": "stream",
     "text": [
      "19:59:17 - cmdstanpy - INFO - Chain [1] start processing\n",
      "19:59:17 - cmdstanpy - INFO - Chain [1] done processing\n",
      "19:59:18 - cmdstanpy - INFO - Chain [1] start processing\n",
      "19:59:18 - cmdstanpy - INFO - Chain [1] done processing\n"
     ]
    },
    {
     "name": "stdout",
     "output_type": "stream",
     "text": [
      "It's underpredicted.\n",
      "Monthly Error: 55.95 Period MAE: 72.46000000000001\n",
      "It's overpredicted.\n",
      "Monthly Error: 108.38 Period MAE: 26.6\n"
     ]
    },
    {
     "name": "stderr",
     "output_type": "stream",
     "text": [
      "19:59:19 - cmdstanpy - INFO - Chain [1] start processing\n",
      "19:59:20 - cmdstanpy - INFO - Chain [1] done processing\n",
      "19:59:21 - cmdstanpy - INFO - Chain [1] done processing\n",
      "19:59:21 - cmdstanpy - INFO - Chain [1] start processing\n"
     ]
    },
    {
     "name": "stdout",
     "output_type": "stream",
     "text": [
      "It's overpredicted.\n",
      "Monthly Error: 108.38 Period MAE: 26.6\n",
      "It's underpredicted.\n",
      "Monthly Error: 55.95 Period MAE: 72.46000000000001\n"
     ]
    },
    {
     "name": "stderr",
     "output_type": "stream",
     "text": [
      "19:59:22 - cmdstanpy - INFO - Chain [1] start processing\n",
      "19:59:22 - cmdstanpy - INFO - Chain [1] done processing\n",
      "19:59:23 - cmdstanpy - INFO - Chain [1] start processing\n",
      "19:59:24 - cmdstanpy - INFO - Chain [1] done processing\n"
     ]
    },
    {
     "name": "stdout",
     "output_type": "stream",
     "text": [
      "It's underpredicted.\n",
      "Monthly Error: 55.95 Period MAE: 72.46000000000001\n"
     ]
    },
    {
     "name": "stderr",
     "output_type": "stream",
     "text": [
      "19:59:25 - cmdstanpy - INFO - Chain [1] start processing\n"
     ]
    },
    {
     "name": "stdout",
     "output_type": "stream",
     "text": [
      "It's overpredicted.\n",
      "Monthly Error: 107.04 Period MAE: 25.44\n"
     ]
    },
    {
     "name": "stderr",
     "output_type": "stream",
     "text": [
      "19:59:25 - cmdstanpy - INFO - Chain [1] done processing\n",
      "19:59:26 - cmdstanpy - INFO - Chain [1] done processing\n",
      "19:59:26 - cmdstanpy - INFO - Chain [1] start processing\n"
     ]
    },
    {
     "name": "stdout",
     "output_type": "stream",
     "text": [
      "It's underpredicted.\n",
      "Monthly Error: 100.0 Period MAE: 100.0\n",
      "It's overpredicted.\n",
      "Monthly Error: 107.04 Period MAE: 25.44\n"
     ]
    },
    {
     "name": "stderr",
     "output_type": "stream",
     "text": [
      "19:59:27 - cmdstanpy - INFO - Chain [1] start processing\n",
      "19:59:27 - cmdstanpy - INFO - Chain [1] done processing\n",
      "19:59:29 - cmdstanpy - INFO - Chain [1] start processing\n"
     ]
    },
    {
     "name": "stdout",
     "output_type": "stream",
     "text": [
      "It's underpredicted.\n",
      "Monthly Error: 100.0 Period MAE: 100.0\n"
     ]
    },
    {
     "name": "stderr",
     "output_type": "stream",
     "text": [
      "19:59:29 - cmdstanpy - INFO - Chain [1] done processing\n",
      "19:59:30 - cmdstanpy - INFO - Chain [1] start processing\n",
      "19:59:30 - cmdstanpy - INFO - Chain [1] done processing\n"
     ]
    },
    {
     "name": "stdout",
     "output_type": "stream",
     "text": [
      "It's overpredicted.\n",
      "Monthly Error: 107.04 Period MAE: 25.44\n"
     ]
    },
    {
     "name": "stderr",
     "output_type": "stream",
     "text": [
      "19:59:31 - cmdstanpy - INFO - Chain [1] done processing\n"
     ]
    },
    {
     "name": "stdout",
     "output_type": "stream",
     "text": [
      "It's overpredicted.\n",
      "Monthly Error: 105.05 Period MAE: 24.959999999999997\n",
      "It's underpredicted.\n",
      "Monthly Error: 100.0"
     ]
    },
    {
     "name": "stderr",
     "output_type": "stream",
     "text": [
      "19:59:32 - cmdstanpy - INFO - Chain [1] start processing\n"
     ]
    },
    {
     "name": "stdout",
     "output_type": "stream",
     "text": [
      " Period MAE: 100.0\n"
     ]
    },
    {
     "name": "stderr",
     "output_type": "stream",
     "text": [
      "19:59:32 - cmdstanpy - INFO - Chain [1] start processing\n",
      "19:59:32 - cmdstanpy - INFO - Chain [1] done processing\n",
      "19:59:33 - cmdstanpy - INFO - Chain [1] start processing\n"
     ]
    },
    {
     "name": "stdout",
     "output_type": "stream",
     "text": [
      "It's underpredicted.\n",
      "Monthly Error: 46.85 Period MAE: 55.089999999999996\n"
     ]
    },
    {
     "name": "stderr",
     "output_type": "stream",
     "text": [
      "19:59:34 - cmdstanpy - INFO - Chain [1] done processing\n",
      "19:59:35 - cmdstanpy - INFO - Chain [1] start processing\n",
      "19:59:35 - cmdstanpy - INFO - Chain [1] done processing\n"
     ]
    },
    {
     "name": "stdout",
     "output_type": "stream",
     "text": [
      "It's overpredicted.\n",
      "Monthly Error: 105.05 Period MAE: 24.959999999999997\n"
     ]
    },
    {
     "name": "stderr",
     "output_type": "stream",
     "text": [
      "19:59:36 - cmdstanpy - INFO - Chain [1] done processing\n",
      "19:59:37 - cmdstanpy - INFO - Chain [1] start processing\n"
     ]
    },
    {
     "name": "stdout",
     "output_type": "stream",
     "text": [
      "It's overpredicted.\n",
      "Monthly Error: It's underpredicted.105.05\n",
      "Monthly Error: 46.85 Period MAE:  55.089999999999996Period MAE:\n",
      " 24.959999999999997\n"
     ]
    },
    {
     "name": "stderr",
     "output_type": "stream",
     "text": [
      "19:59:37 - cmdstanpy - INFO - Chain [1] start processing\n",
      "19:59:38 - cmdstanpy - INFO - Chain [1] done processing\n",
      "19:59:39 - cmdstanpy - INFO - Chain [1] start processing\n",
      "19:59:39 - cmdstanpy - INFO - Chain [1] done processing\n"
     ]
    },
    {
     "name": "stdout",
     "output_type": "stream",
     "text": [
      "It's underpredicted.\n",
      "Monthly Error: 46.85 Period MAE: 55.089999999999996\n"
     ]
    },
    {
     "name": "stderr",
     "output_type": "stream",
     "text": [
      "19:59:40 - cmdstanpy - INFO - Chain [1] start processing\n",
      "19:59:41 - cmdstanpy - INFO - Chain [1] done processing\n"
     ]
    },
    {
     "name": "stdout",
     "output_type": "stream",
     "text": [
      "It's overpredicted.\n",
      "Monthly Error: 102.6 Period MAE: 21.58\n"
     ]
    },
    {
     "name": "stderr",
     "output_type": "stream",
     "text": [
      "19:59:42 - cmdstanpy - INFO - Chain [1] done processing\n",
      "19:59:43 - cmdstanpy - INFO - Chain [1] start processing\n"
     ]
    },
    {
     "name": "stdout",
     "output_type": "stream",
     "text": [
      "It's underpredicted.\n",
      "Monthly Error: 46.83 Period MAE: 55.08\n"
     ]
    },
    {
     "name": "stderr",
     "output_type": "stream",
     "text": [
      "19:59:43 - cmdstanpy - INFO - Chain [1] start processing\n"
     ]
    },
    {
     "name": "stdout",
     "output_type": "stream",
     "text": [
      "It's overpredicted.\n",
      "Monthly Error: 102.6 Period MAE: 21.58\n"
     ]
    },
    {
     "name": "stderr",
     "output_type": "stream",
     "text": [
      "19:59:43 - cmdstanpy - INFO - Chain [1] done processing\n",
      "19:59:45 - cmdstanpy - INFO - Chain [1] start processing\n",
      "19:59:45 - cmdstanpy - INFO - Chain [1] done processing\n"
     ]
    },
    {
     "name": "stdout",
     "output_type": "stream",
     "text": [
      "It's underpredicted.\n",
      "Monthly Error: 46.83 Period MAE: 55.08\n"
     ]
    },
    {
     "name": "stderr",
     "output_type": "stream",
     "text": [
      "19:59:46 - cmdstanpy - INFO - Chain [1] start processing\n"
     ]
    },
    {
     "name": "stdout",
     "output_type": "stream",
     "text": [
      "It's overpredicted.\n",
      "Monthly Error: 102.6 Period MAE: 21.58\n"
     ]
    },
    {
     "name": "stderr",
     "output_type": "stream",
     "text": [
      "19:59:46 - cmdstanpy - INFO - Chain [1] done processing\n",
      "19:59:47 - cmdstanpy - INFO - Chain [1] done processing\n",
      "19:59:48 - cmdstanpy - INFO - Chain [1] start processing\n"
     ]
    },
    {
     "name": "stdout",
     "output_type": "stream",
     "text": [
      "It's overpredicted.\n",
      "Monthly Error: It's underpredicted.87.57\n",
      "Monthly Error:  46.83 Period MAE: 55.08Period MAE:\n",
      " 9.15\n"
     ]
    },
    {
     "name": "stderr",
     "output_type": "stream",
     "text": [
      "19:59:49 - cmdstanpy - INFO - Chain [1] start processing\n",
      "19:59:49 - cmdstanpy - INFO - Chain [1] done processing\n",
      "19:59:50 - cmdstanpy - INFO - Chain [1] start processing\n",
      "19:59:50 - cmdstanpy - INFO - Chain [1] done processing\n"
     ]
    },
    {
     "name": "stdout",
     "output_type": "stream",
     "text": [
      "It's underpredicted.\n",
      "Monthly Error: 46.85 Period MAE: 55.08\n",
      "It's overpredicted.\n",
      "Monthly Error: 87.57 Period MAE:"
     ]
    },
    {
     "name": "stderr",
     "output_type": "stream",
     "text": [
      "19:59:51 - cmdstanpy - INFO - Chain [1] start processing\n"
     ]
    },
    {
     "name": "stdout",
     "output_type": "stream",
     "text": [
      " 9.15\n"
     ]
    },
    {
     "name": "stderr",
     "output_type": "stream",
     "text": [
      "19:59:52 - cmdstanpy - INFO - Chain [1] done processing\n",
      "19:59:53 - cmdstanpy - INFO - Chain [1] done processing\n",
      "19:59:53 - cmdstanpy - INFO - Chain [1] start processing\n"
     ]
    },
    {
     "name": "stdout",
     "output_type": "stream",
     "text": [
      "It's underpredicted.\n",
      "Monthly Error: 46.85 Period MAE: 55.08\n",
      "It's overpredicted.\n",
      "Monthly Error: 87.57 Period MAE: 9.15\n"
     ]
    },
    {
     "name": "stderr",
     "output_type": "stream",
     "text": [
      "19:59:54 - cmdstanpy - INFO - Chain [1] start processing\n",
      "19:59:54 - cmdstanpy - INFO - Chain [1] done processing\n",
      "19:59:55 - cmdstanpy - INFO - Chain [1] start processing\n",
      "19:59:56 - cmdstanpy - INFO - Chain [1] done processing\n"
     ]
    },
    {
     "name": "stdout",
     "output_type": "stream",
     "text": [
      "It's underpredicted.\n",
      "Monthly Error: 46.85 Period MAE: 55.08\n",
      "It's overpredicted.\n",
      "Monthly Error: 108.92 Period MAE: 26.779999999999998\n"
     ]
    },
    {
     "name": "stderr",
     "output_type": "stream",
     "text": [
      "19:59:57 - cmdstanpy - INFO - Chain [1] start processing\n",
      "19:59:57 - cmdstanpy - INFO - Chain [1] done processing\n",
      "19:59:58 - cmdstanpy - INFO - Chain [1] done processing\n",
      "19:59:58 - cmdstanpy - INFO - Chain [1] start processing\n"
     ]
    },
    {
     "name": "stdout",
     "output_type": "stream",
     "text": [
      "It's overpredicted.\n",
      "Monthly Error: 108.92 Period MAE: 26.779999999999998\n",
      "It's underpredicted.\n",
      "Monthly Error: 100.0 Period MAE: 100.0\n"
     ]
    },
    {
     "name": "stderr",
     "output_type": "stream",
     "text": [
      "19:59:59 - cmdstanpy - INFO - Chain [1] start processing\n",
      "19:59:59 - cmdstanpy - INFO - Chain [1] done processing\n",
      "20:00:01 - cmdstanpy - INFO - Chain [1] start processing\n",
      "20:00:01 - cmdstanpy - INFO - Chain [1] done processing\n"
     ]
    },
    {
     "name": "stdout",
     "output_type": "stream",
     "text": [
      "It's overpredicted.\n",
      "Monthly Error: 108.92 Period MAE: 26.779999999999998\n",
      "It's underpredicted.\n",
      "Monthly Error:  100.0Period MAE: 100.0\n"
     ]
    },
    {
     "name": "stderr",
     "output_type": "stream",
     "text": [
      "20:00:02 - cmdstanpy - INFO - Chain [1] start processing\n",
      "20:00:03 - cmdstanpy - INFO - Chain [1] done processing\n",
      "20:00:04 - cmdstanpy - INFO - Chain [1] done processing\n",
      "20:00:04 - cmdstanpy - INFO - Chain [1] start processing\n"
     ]
    },
    {
     "name": "stdout",
     "output_type": "stream",
     "text": [
      "It's underpredicted.\n",
      "Monthly Error: 100.0 Period MAE: 100.0\n"
     ]
    },
    {
     "name": "stderr",
     "output_type": "stream",
     "text": [
      "20:00:05 - cmdstanpy - INFO - Chain [1] start processing\n"
     ]
    },
    {
     "name": "stdout",
     "output_type": "stream",
     "text": [
      "It's overpredicted.\n",
      "Monthly Error: 107.55 Period MAE: 26.740000000000002\n"
     ]
    },
    {
     "name": "stderr",
     "output_type": "stream",
     "text": [
      "20:00:05 - cmdstanpy - INFO - Chain [1] done processing\n",
      "20:00:07 - cmdstanpy - INFO - Chain [1] start processing\n",
      "20:00:07 - cmdstanpy - INFO - Chain [1] done processing\n"
     ]
    },
    {
     "name": "stdout",
     "output_type": "stream",
     "text": [
      "It's overpredicted.\n",
      "Monthly Error: 107.55 Period MAE: 26.740000000000002\n",
      "It's underpredicted.\n",
      "Monthly Error: 55.95 Period MAE: 72.46000000000001\n"
     ]
    },
    {
     "name": "stderr",
     "output_type": "stream",
     "text": [
      "20:00:09 - cmdstanpy - INFO - Chain [1] start processing\n",
      "20:00:09 - cmdstanpy - INFO - Chain [1] done processing\n",
      "20:00:09 - cmdstanpy - INFO - Chain [1] done processing\n",
      "20:00:10 - cmdstanpy - INFO - Chain [1] start processing\n"
     ]
    },
    {
     "name": "stdout",
     "output_type": "stream",
     "text": [
      "It's underpredicted.\n",
      "Monthly Error: 55.95 Period MAE: 72.46000000000001\n",
      "It's overpredicted.\n",
      "Monthly Error: 107.55 Period MAE: 26.740000000000002\n"
     ]
    },
    {
     "name": "stderr",
     "output_type": "stream",
     "text": [
      "20:00:10 - cmdstanpy - INFO - Chain [1] start processing\n",
      "20:00:11 - cmdstanpy - INFO - Chain [1] done processing\n",
      "20:00:12 - cmdstanpy - INFO - Chain [1] start processing\n",
      "20:00:13 - cmdstanpy - INFO - Chain [1] done processing\n"
     ]
    },
    {
     "name": "stdout",
     "output_type": "stream",
     "text": [
      "It's underpredicted.\n",
      "Monthly Error: 55.95 Period MAE: 72.46000000000001\n",
      "It's overpredicted.\n",
      "Monthly Error: 106.52 Period MAE: "
     ]
    },
    {
     "name": "stderr",
     "output_type": "stream",
     "text": [
      "20:00:14 - cmdstanpy - INFO - Chain [1] start processing\n"
     ]
    },
    {
     "name": "stdout",
     "output_type": "stream",
     "text": [
      "25.47\n"
     ]
    },
    {
     "name": "stderr",
     "output_type": "stream",
     "text": [
      "20:00:14 - cmdstanpy - INFO - Chain [1] done processing\n",
      "20:00:15 - cmdstanpy - INFO - Chain [1] done processing\n"
     ]
    },
    {
     "name": "stdout",
     "output_type": "stream",
     "text": [
      "It's underpredicted.\n",
      "Monthly Error: 100.0 Period MAE: 100.0\n"
     ]
    },
    {
     "name": "stderr",
     "output_type": "stream",
     "text": [
      "20:00:15 - cmdstanpy - INFO - Chain [1] start processing\n"
     ]
    },
    {
     "name": "stdout",
     "output_type": "stream",
     "text": [
      "It's overpredicted.\n",
      "Monthly Error: 106.52 Period MAE: 25.47\n"
     ]
    },
    {
     "name": "stderr",
     "output_type": "stream",
     "text": [
      "20:00:16 - cmdstanpy - INFO - Chain [1] start processing\n",
      "20:00:16 - cmdstanpy - INFO - Chain [1] done processing\n",
      "20:00:17 - cmdstanpy - INFO - Chain [1] start processing\n",
      "20:00:18 - cmdstanpy - INFO - Chain [1] done processing\n"
     ]
    },
    {
     "name": "stdout",
     "output_type": "stream",
     "text": [
      "It's underpredicted.\n",
      "Monthly Error: 100.0 Period MAE: 100.0\n"
     ]
    },
    {
     "name": "stderr",
     "output_type": "stream",
     "text": [
      "20:00:19 - cmdstanpy - INFO - Chain [1] start processing\n",
      "20:00:19 - cmdstanpy - INFO - Chain [1] done processing\n"
     ]
    },
    {
     "name": "stdout",
     "output_type": "stream",
     "text": [
      "It's overpredicted.\n",
      "Monthly Error: 106.52 Period MAE: 25.47\n"
     ]
    },
    {
     "name": "stderr",
     "output_type": "stream",
     "text": [
      "20:00:20 - cmdstanpy - INFO - Chain [1] done processing\n"
     ]
    },
    {
     "name": "stdout",
     "output_type": "stream",
     "text": [
      "It's overpredicted.\n",
      "Monthly Error: 103.06 Period MAE: 23.52\n"
     ]
    },
    {
     "name": "stderr",
     "output_type": "stream",
     "text": [
      "20:00:21 - cmdstanpy - INFO - Chain [1] start processing\n"
     ]
    },
    {
     "name": "stdout",
     "output_type": "stream",
     "text": [
      "It's underpredicted.\n",
      "Monthly Error: 100.0 Period MAE: 100.0\n"
     ]
    },
    {
     "name": "stderr",
     "output_type": "stream",
     "text": [
      "20:00:21 - cmdstanpy - INFO - Chain [1] start processing\n",
      "20:00:21 - cmdstanpy - INFO - Chain [1] done processing\n",
      "20:00:22 - cmdstanpy - INFO - Chain [1] start processing\n",
      "20:00:23 - cmdstanpy - INFO - Chain [1] done processing\n"
     ]
    },
    {
     "name": "stdout",
     "output_type": "stream",
     "text": [
      "It's overpredicted.\n",
      "Monthly Error: 103.06 Period MAE: 23.52\n",
      "It's underpredicted.\n",
      "Monthly Error: 38.23 Period MAE: 46.550000000000004\n"
     ]
    },
    {
     "name": "stderr",
     "output_type": "stream",
     "text": [
      "20:00:24 - cmdstanpy - INFO - Chain [1] start processing\n",
      "20:00:24 - cmdstanpy - INFO - Chain [1] done processing\n",
      "20:00:25 - cmdstanpy - INFO - Chain [1] done processing\n"
     ]
    },
    {
     "name": "stdout",
     "output_type": "stream",
     "text": [
      "It's overpredicted.\n",
      "Monthly Error: 103.06 Period MAE: 23.52\n"
     ]
    },
    {
     "name": "stderr",
     "output_type": "stream",
     "text": [
      "20:00:26 - cmdstanpy - INFO - Chain [1] start processing\n"
     ]
    },
    {
     "name": "stdout",
     "output_type": "stream",
     "text": [
      "It's underpredicted.\n",
      "Monthly Error: 38.23 Period MAE: 46.550000000000004\n"
     ]
    },
    {
     "name": "stderr",
     "output_type": "stream",
     "text": [
      "20:00:26 - cmdstanpy - INFO - Chain [1] start processing\n",
      "20:00:26 - cmdstanpy - INFO - Chain [1] done processing\n",
      "20:00:27 - cmdstanpy - INFO - Chain [1] start processing\n"
     ]
    },
    {
     "name": "stdout",
     "output_type": "stream",
     "text": [
      "It's underpredicted.\n",
      "Monthly Error: 38.23 Period MAE: 46.550000000000004\n"
     ]
    },
    {
     "name": "stderr",
     "output_type": "stream",
     "text": [
      "20:00:29 - cmdstanpy - INFO - Chain [1] done processing\n",
      "20:00:29 - cmdstanpy - INFO - Chain [1] start processing\n",
      "20:00:30 - cmdstanpy - INFO - Chain [1] done processing\n"
     ]
    },
    {
     "name": "stdout",
     "output_type": "stream",
     "text": [
      "It's overpredicted.\n",
      "Monthly Error: 101.6 Period MAE: 20.369999999999997\n"
     ]
    },
    {
     "name": "stderr",
     "output_type": "stream",
     "text": [
      "20:00:30 - cmdstanpy - INFO - Chain [1] done processing\n"
     ]
    },
    {
     "name": "stdout",
     "output_type": "stream",
     "text": [
      "It's overpredicted.\n",
      "Monthly Error: It's underpredicted.\n",
      "Monthly Error:101.6  38.55Period MAE:  Period MAE:20.369999999999997 \n",
      "46.379999999999995\n"
     ]
    },
    {
     "name": "stderr",
     "output_type": "stream",
     "text": [
      "20:00:31 - cmdstanpy - INFO - Chain [1] start processing\n",
      "20:00:31 - cmdstanpy - INFO - Chain [1] start processing\n",
      "20:00:32 - cmdstanpy - INFO - Chain [1] done processing\n",
      "20:00:33 - cmdstanpy - INFO - Chain [1] start processing\n"
     ]
    },
    {
     "name": "stdout",
     "output_type": "stream",
     "text": [
      "It's underpredicted.\n",
      "Monthly Error: 38.55 Period MAE: 46.379999999999995\n"
     ]
    },
    {
     "name": "stderr",
     "output_type": "stream",
     "text": [
      "20:00:34 - cmdstanpy - INFO - Chain [1] done processing\n",
      "20:00:35 - cmdstanpy - INFO - Chain [1] start processing\n",
      "20:00:35 - cmdstanpy - INFO - Chain [1] done processing\n"
     ]
    },
    {
     "name": "stdout",
     "output_type": "stream",
     "text": [
      "It's overpredicted.\n",
      "Monthly Error: 101.6 Period MAE: 20.369999999999997\n"
     ]
    },
    {
     "name": "stderr",
     "output_type": "stream",
     "text": [
      "20:00:36 - cmdstanpy - INFO - Chain [1] done processing\n"
     ]
    },
    {
     "name": "stdout",
     "output_type": "stream",
     "text": [
      "It's overpredicted.\n",
      "Monthly Error: 97.82 Period MAE: 15.49\n",
      "It's underpredicted.\n",
      "Monthly Error: 38.55"
     ]
    },
    {
     "name": "stderr",
     "output_type": "stream",
     "text": [
      "20:00:37 - cmdstanpy - INFO - Chain [1] start processing\n"
     ]
    },
    {
     "name": "stdout",
     "output_type": "stream",
     "text": [
      " Period MAE: 46.379999999999995\n"
     ]
    },
    {
     "name": "stderr",
     "output_type": "stream",
     "text": [
      "20:00:37 - cmdstanpy - INFO - Chain [1] start processing\n",
      "20:00:37 - cmdstanpy - INFO - Chain [1] done processing\n",
      "20:00:38 - cmdstanpy - INFO - Chain [1] start processing\n"
     ]
    },
    {
     "name": "stdout",
     "output_type": "stream",
     "text": [
      "It's underpredicted.\n",
      "Monthly Error: 55.38 Period MAE: 62.31\n"
     ]
    },
    {
     "name": "stderr",
     "output_type": "stream",
     "text": [
      "20:00:40 - cmdstanpy - INFO - Chain [1] done processing\n",
      "20:00:40 - cmdstanpy - INFO - Chain [1] start processing\n",
      "20:00:41 - cmdstanpy - INFO - Chain [1] done processing\n"
     ]
    },
    {
     "name": "stdout",
     "output_type": "stream",
     "text": [
      "It's overpredicted.\n",
      "Monthly Error: 97.82 Period MAE: 15.49\n"
     ]
    },
    {
     "name": "stderr",
     "output_type": "stream",
     "text": [
      "20:00:41 - cmdstanpy - INFO - Chain [1] done processing\n"
     ]
    },
    {
     "name": "stdout",
     "output_type": "stream",
     "text": [
      "It's underpredicted.\n",
      "Monthly Error: 55.38 Period MAE: 62.31\n"
     ]
    },
    {
     "name": "stderr",
     "output_type": "stream",
     "text": [
      "20:00:42 - cmdstanpy - INFO - Chain [1] start processing\n"
     ]
    },
    {
     "name": "stdout",
     "output_type": "stream",
     "text": [
      "It's overpredicted.\n",
      "Monthly Error: 97.82 Period MAE: 15.49"
     ]
    },
    {
     "name": "stderr",
     "output_type": "stream",
     "text": [
      "20:00:43 - cmdstanpy - INFO - Chain [1] start processing\n"
     ]
    },
    {
     "name": "stdout",
     "output_type": "stream",
     "text": [
      "\n"
     ]
    },
    {
     "name": "stderr",
     "output_type": "stream",
     "text": [
      "20:00:43 - cmdstanpy - INFO - Chain [1] done processing\n",
      "20:00:45 - cmdstanpy - INFO - Chain [1] start processing\n",
      "20:00:45 - cmdstanpy - INFO - Chain [1] done processing\n"
     ]
    },
    {
     "name": "stdout",
     "output_type": "stream",
     "text": [
      "It's overpredicted.\n",
      "Monthly Error: 107.5 Period MAE: 18.6\n",
      "It's underpredicted.\n",
      "Monthly Error: 55.38 Period MAE:"
     ]
    },
    {
     "name": "stderr",
     "output_type": "stream",
     "text": [
      "20:00:46 - cmdstanpy - INFO - Chain [1] start processing\n"
     ]
    },
    {
     "name": "stdout",
     "output_type": "stream",
     "text": [
      " 62.31\n"
     ]
    },
    {
     "name": "stderr",
     "output_type": "stream",
     "text": [
      "20:00:47 - cmdstanpy - INFO - Chain [1] done processing\n",
      "20:00:47 - cmdstanpy - INFO - Chain [1] done processing\n"
     ]
    },
    {
     "name": "stdout",
     "output_type": "stream",
     "text": [
      "It's underpredicted.\n",
      "Monthly Error: 100.0 Period MAE: 100.0\n",
      "It's overpredicted.\n",
      "Monthly Error: 107.5 "
     ]
    },
    {
     "name": "stderr",
     "output_type": "stream",
     "text": [
      "20:00:48 - cmdstanpy - INFO - Chain [1] start processing\n"
     ]
    },
    {
     "name": "stdout",
     "output_type": "stream",
     "text": [
      "Period MAE: 18.6\n"
     ]
    },
    {
     "name": "stderr",
     "output_type": "stream",
     "text": [
      "20:00:48 - cmdstanpy - INFO - Chain [1] start processing\n",
      "20:00:48 - cmdstanpy - INFO - Chain [1] done processing\n",
      "20:00:50 - cmdstanpy - INFO - Chain [1] start processing\n",
      "20:00:50 - cmdstanpy - INFO - Chain [1] done processing\n"
     ]
    },
    {
     "name": "stdout",
     "output_type": "stream",
     "text": [
      "It's overpredicted.\n",
      "Monthly Error: 107.5 Period MAE: 18.6\n"
     ]
    },
    {
     "name": "stderr",
     "output_type": "stream",
     "text": [
      "20:00:51 - cmdstanpy - INFO - Chain [1] start processing\n"
     ]
    },
    {
     "name": "stdout",
     "output_type": "stream",
     "text": [
      "It's underpredicted.\n",
      "Monthly Error: 100.0 Period MAE: 100.0\n"
     ]
    },
    {
     "name": "stderr",
     "output_type": "stream",
     "text": [
      "20:00:51 - cmdstanpy - INFO - Chain [1] done processing\n",
      "20:00:52 - cmdstanpy - INFO - Chain [1] done processing\n",
      "20:00:53 - cmdstanpy - INFO - Chain [1] start processing\n"
     ]
    },
    {
     "name": "stdout",
     "output_type": "stream",
     "text": [
      "It's overpredicted.\n",
      "Monthly Error: 103.71 Period MAE: 14.48\n",
      "It's underpredicted.\n",
      "Monthly Error: 100.0 Period MAE: 100.0\n"
     ]
    },
    {
     "name": "stderr",
     "output_type": "stream",
     "text": [
      "20:00:53 - cmdstanpy - INFO - Chain [1] start processing\n",
      "20:00:54 - cmdstanpy - INFO - Chain [1] done processing\n",
      "20:00:55 - cmdstanpy - INFO - Chain [1] start processing\n",
      "20:00:55 - cmdstanpy - INFO - Chain [1] done processing\n"
     ]
    },
    {
     "name": "stdout",
     "output_type": "stream",
     "text": [
      "It's underpredicted.\n",
      "Monthly Error: 60.1 Period MAE: 75.06\n",
      "It's overpredicted.\n",
      "Monthly Error: 103.71 Period MAE: 14.48\n"
     ]
    },
    {
     "name": "stderr",
     "output_type": "stream",
     "text": [
      "20:00:56 - cmdstanpy - INFO - Chain [1] start processing\n",
      "20:00:56 - cmdstanpy - INFO - Chain [1] done processing\n",
      "20:00:57 - cmdstanpy - INFO - Chain [1] done processing\n",
      "20:00:57 - cmdstanpy - INFO - Chain [1] start processing\n"
     ]
    },
    {
     "name": "stdout",
     "output_type": "stream",
     "text": [
      "It's overpredicted.\n",
      "Monthly Error: 103.71 Period MAE: 14.48\n"
     ]
    },
    {
     "name": "stderr",
     "output_type": "stream",
     "text": [
      "20:00:58 - cmdstanpy - INFO - Chain [1] start processing\n"
     ]
    },
    {
     "name": "stdout",
     "output_type": "stream",
     "text": [
      "It's underpredicted.\n",
      "Monthly Error: 60.1 Period MAE:"
     ]
    },
    {
     "name": "stderr",
     "output_type": "stream",
     "text": [
      "20:00:58 - cmdstanpy - INFO - Chain [1] done processing\n"
     ]
    },
    {
     "name": "stdout",
     "output_type": "stream",
     "text": [
      " 75.06\n"
     ]
    },
    {
     "name": "stderr",
     "output_type": "stream",
     "text": [
      "20:01:00 - cmdstanpy - INFO - Chain [1] done processing\n",
      "20:01:00 - cmdstanpy - INFO - Chain [1] start processing\n"
     ]
    },
    {
     "name": "stdout",
     "output_type": "stream",
     "text": [
      "It's overpredicted.\n",
      "Monthly Error: 102.96 Period MAE: 16.0\n"
     ]
    },
    {
     "name": "stderr",
     "output_type": "stream",
     "text": [
      "20:01:01 - cmdstanpy - INFO - Chain [1] start processing\n"
     ]
    },
    {
     "name": "stdout",
     "output_type": "stream",
     "text": [
      "It's underpredicted.\n",
      "Monthly Error: 60.1 Period MAE: 75.06\n"
     ]
    },
    {
     "name": "stderr",
     "output_type": "stream",
     "text": [
      "20:01:01 - cmdstanpy - INFO - Chain [1] done processing\n",
      "20:01:03 - cmdstanpy - INFO - Chain [1] done processing\n",
      "20:01:03 - cmdstanpy - INFO - Chain [1] start processing\n"
     ]
    },
    {
     "name": "stdout",
     "output_type": "stream",
     "text": [
      "It's overpredicted.\n",
      "Monthly Error: 102.96 Period MAE:It's underpredicted.\n",
      " Monthly Error: 100.016.0 \n",
      "\n",
      "Period MAE: 100.0"
     ]
    },
    {
     "name": "stderr",
     "output_type": "stream",
     "text": [
      "20:01:05 - cmdstanpy - INFO - Chain [1] start processing\n",
      "20:01:05 - cmdstanpy - INFO - Chain [1] done processing\n",
      "20:01:05 - cmdstanpy - INFO - Chain [1] done processing\n",
      "20:01:06 - cmdstanpy - INFO - Chain [1] start processing\n"
     ]
    },
    {
     "name": "stdout",
     "output_type": "stream",
     "text": [
      "It's underpredicted.\n",
      "Monthly Error: 100.0 Period MAE: 100.0\n",
      "It's overpredicted.\n",
      "Monthly Error: 102.96 Period MAE: 16.0\n"
     ]
    },
    {
     "name": "stderr",
     "output_type": "stream",
     "text": [
      "20:01:07 - cmdstanpy - INFO - Chain [1] start processing\n",
      "20:01:07 - cmdstanpy - INFO - Chain [1] done processing\n",
      "20:01:08 - cmdstanpy - INFO - Chain [1] start processing\n",
      "20:01:08 - cmdstanpy - INFO - Chain [1] done processing\n"
     ]
    },
    {
     "name": "stdout",
     "output_type": "stream",
     "text": [
      "It's overpredicted.\n",
      "Monthly Error: 103.06 Period MAE: 23.52\n"
     ]
    },
    {
     "name": "stderr",
     "output_type": "stream",
     "text": [
      "20:01:09 - cmdstanpy - INFO - Chain [1] start processing\n"
     ]
    },
    {
     "name": "stdout",
     "output_type": "stream",
     "text": [
      "It's underpredicted.\n",
      "Monthly Error: 100.0 Period MAE: 100.0\n"
     ]
    },
    {
     "name": "stderr",
     "output_type": "stream",
     "text": [
      "20:01:10 - cmdstanpy - INFO - Chain [1] done processing\n",
      "20:01:10 - cmdstanpy - INFO - Chain [1] done processing\n"
     ]
    },
    {
     "name": "stdout",
     "output_type": "stream",
     "text": [
      "It's overpredicted.\n",
      "Monthly Error: 103.06 Period MAE: 23.52\n"
     ]
    },
    {
     "name": "stderr",
     "output_type": "stream",
     "text": [
      "20:01:11 - cmdstanpy - INFO - Chain [1] start processing\n"
     ]
    },
    {
     "name": "stdout",
     "output_type": "stream",
     "text": [
      "It's underpredicted.\n",
      "Monthly Error: 38.23 Period MAE: 46.550000000000004\n"
     ]
    },
    {
     "name": "stderr",
     "output_type": "stream",
     "text": [
      "20:01:11 - cmdstanpy - INFO - Chain [1] start processing\n",
      "20:01:12 - cmdstanpy - INFO - Chain [1] done processing\n",
      "20:01:13 - cmdstanpy - INFO - Chain [1] start processing\n",
      "20:01:14 - cmdstanpy - INFO - Chain [1] done processing\n"
     ]
    },
    {
     "name": "stdout",
     "output_type": "stream",
     "text": [
      "It's underpredicted.\n",
      "Monthly Error: 38.23 Period MAE: 46.550000000000004\n",
      "It's overpredicted.\n",
      "Monthly Error: 103.06 Period MAE: 23.52\n"
     ]
    },
    {
     "name": "stderr",
     "output_type": "stream",
     "text": [
      "20:01:14 - cmdstanpy - INFO - Chain [1] start processing\n",
      "20:01:15 - cmdstanpy - INFO - Chain [1] done processing\n",
      "20:01:15 - cmdstanpy - INFO - Chain [1] done processing\n"
     ]
    },
    {
     "name": "stdout",
     "output_type": "stream",
     "text": [
      "It's underpredicted.\n",
      "Monthly Error: 38.23 "
     ]
    },
    {
     "name": "stderr",
     "output_type": "stream",
     "text": [
      "20:01:16 - cmdstanpy - INFO - Chain [1] start processing\n"
     ]
    },
    {
     "name": "stdout",
     "output_type": "stream",
     "text": [
      "Period MAE: 46.550000000000004\n",
      "It's overpredicted.\n",
      "Monthly Error: 101.51 Period MAE: 20.31\n"
     ]
    },
    {
     "name": "stderr",
     "output_type": "stream",
     "text": [
      "20:01:17 - cmdstanpy - INFO - Chain [1] start processing\n",
      "20:01:17 - cmdstanpy - INFO - Chain [1] done processing\n",
      "20:01:18 - cmdstanpy - INFO - Chain [1] start processing\n",
      "20:01:19 - cmdstanpy - INFO - Chain [1] done processing\n"
     ]
    },
    {
     "name": "stdout",
     "output_type": "stream",
     "text": [
      "It's underpredicted.\n",
      "Monthly Error: 38.49 Period MAE: 46.28\n",
      "It's overpredicted.\n",
      "Monthly Error: 101.51 Period MAE: 20.31\n"
     ]
    },
    {
     "name": "stderr",
     "output_type": "stream",
     "text": [
      "20:01:20 - cmdstanpy - INFO - Chain [1] start processing\n",
      "20:01:20 - cmdstanpy - INFO - Chain [1] done processing\n",
      "20:01:20 - cmdstanpy - INFO - Chain [1] done processing\n"
     ]
    },
    {
     "name": "stdout",
     "output_type": "stream",
     "text": [
      "It's overpredicted.\n"
     ]
    },
    {
     "name": "stderr",
     "output_type": "stream",
     "text": [
      "20:01:21 - cmdstanpy - INFO - Chain [1] start processing\n"
     ]
    },
    {
     "name": "stdout",
     "output_type": "stream",
     "text": [
      "Monthly Error: 101.51 Period MAE: 20.31\n",
      "It's underpredicted.\n",
      "Monthly Error: 38.49 Period MAE: 46.28\n"
     ]
    },
    {
     "name": "stderr",
     "output_type": "stream",
     "text": [
      "20:01:22 - cmdstanpy - INFO - Chain [1] start processing\n",
      "20:01:22 - cmdstanpy - INFO - Chain [1] done processing\n",
      "20:01:23 - cmdstanpy - INFO - Chain [1] start processing\n",
      "20:01:24 - cmdstanpy - INFO - Chain [1] done processing\n"
     ]
    },
    {
     "name": "stdout",
     "output_type": "stream",
     "text": [
      "It's underpredicted.\n",
      "Monthly Error: 38.49 Period MAE: 46.28\n",
      "It's overpredicted.\n",
      "Monthly Error: 87.95 Period MAE: 9.17\n"
     ]
    },
    {
     "name": "stderr",
     "output_type": "stream",
     "text": [
      "20:01:25 - cmdstanpy - INFO - Chain [1] start processing\n",
      "20:01:25 - cmdstanpy - INFO - Chain [1] done processing\n",
      "20:01:26 - cmdstanpy - INFO - Chain [1] done processing\n"
     ]
    },
    {
     "name": "stdout",
     "output_type": "stream",
     "text": [
      "It's underpredicted.\n",
      "Monthly Error: 38.33 Period MAE: 46.78\n",
      "It's overpredicted.\n",
      "Monthly Error: 87.95 Period MAE:"
     ]
    },
    {
     "name": "stderr",
     "output_type": "stream",
     "text": [
      "20:01:27 - cmdstanpy - INFO - Chain [1] start processing\n"
     ]
    },
    {
     "name": "stdout",
     "output_type": "stream",
     "text": [
      " 9.17\n"
     ]
    },
    {
     "name": "stderr",
     "output_type": "stream",
     "text": [
      "20:01:27 - cmdstanpy - INFO - Chain [1] start processing\n",
      "20:01:27 - cmdstanpy - INFO - Chain [1] done processing\n",
      "20:01:28 - cmdstanpy - INFO - Chain [1] start processing\n",
      "20:01:29 - cmdstanpy - INFO - Chain [1] done processing\n"
     ]
    },
    {
     "name": "stdout",
     "output_type": "stream",
     "text": [
      "It's underpredicted.\n",
      "Monthly Error: 38.33 Period MAE: 46.78\n",
      "It's overpredicted.\n",
      "Monthly Error: 87.95 Period MAE: 9.17\n"
     ]
    },
    {
     "name": "stderr",
     "output_type": "stream",
     "text": [
      "20:01:30 - cmdstanpy - INFO - Chain [1] done processing\n",
      "20:01:31 - cmdstanpy - INFO - Chain [1] start processing\n",
      "20:01:31 - cmdstanpy - INFO - Chain [1] done processing\n"
     ]
    },
    {
     "name": "stdout",
     "output_type": "stream",
     "text": [
      "It's overpredicted. \n",
      "Monthly Error: 107.5 Period MAE:18.6\n"
     ]
    },
    {
     "name": "stderr",
     "output_type": "stream",
     "text": [
      "20:01:32 - cmdstanpy - INFO - Chain [1] start processing\n",
      "20:01:32 - cmdstanpy - INFO - Chain [1] start processing\n"
     ]
    },
    {
     "name": "stdout",
     "output_type": "stream",
     "text": [
      "It's underpredicted.\n",
      "Monthly Error: 38.33 Period MAE: 46.78\n"
     ]
    },
    {
     "name": "stderr",
     "output_type": "stream",
     "text": [
      "20:01:32 - cmdstanpy - INFO - Chain [1] done processing\n",
      "20:01:33 - cmdstanpy - INFO - Chain [1] start processing\n",
      "20:01:34 - cmdstanpy - INFO - Chain [1] done processing\n"
     ]
    },
    {
     "name": "stdout",
     "output_type": "stream",
     "text": [
      "It's overpredicted.\n",
      "Monthly Error: 107.5 Period MAE: 18.6\n",
      "It's underpredicted.\n",
      "Monthly Error: "
     ]
    },
    {
     "name": "stderr",
     "output_type": "stream",
     "text": [
      "20:01:35 - cmdstanpy - INFO - Chain [1] start processing\n"
     ]
    },
    {
     "name": "stdout",
     "output_type": "stream",
     "text": [
      "100.0 Period MAE: 100.0\n"
     ]
    },
    {
     "name": "stderr",
     "output_type": "stream",
     "text": [
      "20:01:35 - cmdstanpy - INFO - Chain [1] done processing\n",
      "20:01:36 - cmdstanpy - INFO - Chain [1] done processing\n"
     ]
    },
    {
     "name": "stdout",
     "output_type": "stream",
     "text": [
      "It's overpredicted.\n",
      "Monthly Error: 107.5 Period MAE: 18.6\n",
      "It's underpredicted.\n",
      "Monthly Error: 100.0 Period MAE: 100.0\n"
     ]
    },
    {
     "name": "stderr",
     "output_type": "stream",
     "text": [
      "20:01:37 - cmdstanpy - INFO - Chain [1] start processing\n",
      "20:01:37 - cmdstanpy - INFO - Chain [1] start processing\n",
      "20:01:37 - cmdstanpy - INFO - Chain [1] done processing\n",
      "20:01:38 - cmdstanpy - INFO - Chain [1] start processing\n",
      "20:01:39 - cmdstanpy - INFO - Chain [1] done processing\n"
     ]
    },
    {
     "name": "stdout",
     "output_type": "stream",
     "text": [
      "It's underpredicted.\n",
      "Monthly Error: 100.0 Period MAE: 100.0\n",
      "It's overpredicted.\n",
      "Monthly Error: 104.36 Period MAE: 15.010000000000002\n"
     ]
    },
    {
     "name": "stderr",
     "output_type": "stream",
     "text": [
      "20:01:40 - cmdstanpy - INFO - Chain [1] start processing\n",
      "20:01:40 - cmdstanpy - INFO - Chain [1] done processing\n",
      "20:01:41 - cmdstanpy - INFO - Chain [1] done processing\n"
     ]
    },
    {
     "name": "stdout",
     "output_type": "stream",
     "text": [
      "It's overpredicted.\n",
      "Monthly Error: 104.36 Period MAE: 15.010000000000002\n"
     ]
    },
    {
     "name": "stderr",
     "output_type": "stream",
     "text": [
      "20:01:42 - cmdstanpy - INFO - Chain [1] start processing\n"
     ]
    },
    {
     "name": "stdout",
     "output_type": "stream",
     "text": [
      "It's underpredicted.\n",
      "Monthly Error: 56.0 Period MAE: 72.5\n"
     ]
    },
    {
     "name": "stderr",
     "output_type": "stream",
     "text": [
      "20:01:42 - cmdstanpy - INFO - Chain [1] start processing\n",
      "20:01:42 - cmdstanpy - INFO - Chain [1] done processing\n",
      "20:01:43 - cmdstanpy - INFO - Chain [1] start processing\n",
      "20:01:44 - cmdstanpy - INFO - Chain [1] done processing\n"
     ]
    },
    {
     "name": "stdout",
     "output_type": "stream",
     "text": [
      "It's overpredicted.It's underpredicted.\n",
      "\n",
      "Monthly Error:Monthly Error:  56.0 104.36 Period MAE:Period MAE:  72.5\n",
      "15.010000000000002\n"
     ]
    },
    {
     "name": "stderr",
     "output_type": "stream",
     "text": [
      "20:01:46 - cmdstanpy - INFO - Chain [1] start processing\n",
      "20:01:46 - cmdstanpy - INFO - Chain [1] done processing\n",
      "20:01:46 - cmdstanpy - INFO - Chain [1] done processing\n",
      "20:01:47 - cmdstanpy - INFO - Chain [1] start processing\n"
     ]
    },
    {
     "name": "stdout",
     "output_type": "stream",
     "text": [
      "It's overpredicted.\n",
      "Monthly Error: 95.67 Period MAE: 10.63\n",
      "It's underpredicted.\n",
      "Monthly Error:"
     ]
    },
    {
     "name": "stderr",
     "output_type": "stream",
     "text": [
      "20:01:48 - cmdstanpy - INFO - Chain [1] start processing\n"
     ]
    },
    {
     "name": "stdout",
     "output_type": "stream",
     "text": [
      " 56.0 Period MAE: 72.5\n"
     ]
    },
    {
     "name": "stderr",
     "output_type": "stream",
     "text": [
      "20:01:48 - cmdstanpy - INFO - Chain [1] done processing\n",
      "20:01:49 - cmdstanpy - INFO - Chain [1] done processing\n",
      "20:01:49 - cmdstanpy - INFO - Chain [1] start processing\n"
     ]
    },
    {
     "name": "stdout",
     "output_type": "stream",
     "text": [
      "It's overpredicted.\n",
      "Monthly Error: 95.67 Period MAE: 10.63\n"
     ]
    },
    {
     "name": "stderr",
     "output_type": "stream",
     "text": [
      "20:01:50 - cmdstanpy - INFO - Chain [1] start processing\n"
     ]
    },
    {
     "name": "stdout",
     "output_type": "stream",
     "text": [
      "It's underpredicted.\n",
      "Monthly Error: 100.0 Period MAE: 100.0\n"
     ]
    },
    {
     "name": "stderr",
     "output_type": "stream",
     "text": [
      "20:01:51 - cmdstanpy - INFO - Chain [1] done processing\n",
      "20:01:51 - cmdstanpy - INFO - Chain [1] done processing\n",
      "20:01:52 - cmdstanpy - INFO - Chain [1] start processing\n"
     ]
    },
    {
     "name": "stdout",
     "output_type": "stream",
     "text": [
      "It's overpredicted.\n",
      "Monthly Error: 95.67 Period MAE: 10.63\n",
      "It's underpredicted.\n",
      "Monthly Error: 100.0 Period MAE: 100.0\n"
     ]
    },
    {
     "name": "stderr",
     "output_type": "stream",
     "text": [
      "20:01:53 - cmdstanpy - INFO - Chain [1] start processing\n",
      "20:01:53 - cmdstanpy - INFO - Chain [1] done processing\n",
      "20:01:54 - cmdstanpy - INFO - Chain [1] start processing\n",
      "20:01:54 - cmdstanpy - INFO - Chain [1] done processing\n"
     ]
    },
    {
     "name": "stdout",
     "output_type": "stream",
     "text": [
      "It's overpredicted.\n",
      "Monthly Error: 103.06 Period MAE: 23.52\n",
      "It's underpredicted.\n",
      "Monthly Error: 100.0 Period MAE: 100.0\n"
     ]
    },
    {
     "name": "stderr",
     "output_type": "stream",
     "text": [
      "20:01:56 - cmdstanpy - INFO - Chain [1] start processing\n",
      "20:01:56 - cmdstanpy - INFO - Chain [1] done processing\n",
      "20:01:56 - cmdstanpy - INFO - Chain [1] done processing\n",
      "20:01:57 - cmdstanpy - INFO - Chain [1] start processing\n"
     ]
    },
    {
     "name": "stdout",
     "output_type": "stream",
     "text": [
      "It's overpredicted.\n",
      "Monthly Error: 103.06 Period MAE: 23.52\n",
      "It's underpredicted.\n",
      "Monthly Error: 38.23 Period MAE: 46.550000000000004\n"
     ]
    },
    {
     "name": "stderr",
     "output_type": "stream",
     "text": [
      "20:01:58 - cmdstanpy - INFO - Chain [1] start processing\n",
      "20:01:58 - cmdstanpy - INFO - Chain [1] done processing\n",
      "20:01:59 - cmdstanpy - INFO - Chain [1] start processing\n",
      "20:01:59 - cmdstanpy - INFO - Chain [1] done processing\n"
     ]
    },
    {
     "name": "stdout",
     "output_type": "stream",
     "text": [
      "It's overpredicted.\n",
      "Monthly Error: 103.06 Period MAE: 23.52\n",
      "It's underpredicted.\n",
      "Monthly Error: 38.23 Period MAE: 46.550000000000004\n"
     ]
    },
    {
     "name": "stderr",
     "output_type": "stream",
     "text": [
      "20:02:01 - cmdstanpy - INFO - Chain [1] start processing\n",
      "20:02:01 - cmdstanpy - INFO - Chain [1] done processing\n",
      "20:02:02 - cmdstanpy - INFO - Chain [1] done processing\n",
      "20:02:02 - cmdstanpy - INFO - Chain [1] start processing\n"
     ]
    },
    {
     "name": "stdout",
     "output_type": "stream",
     "text": [
      "It's overpredicted.\n",
      "Monthly Error: 101.32 Period MAE: 20.45\n",
      "It's underpredicted.\n",
      "Monthly Error: 38.23 Period MAE: "
     ]
    },
    {
     "name": "stderr",
     "output_type": "stream",
     "text": [
      "20:02:03 - cmdstanpy - INFO - Chain [1] start processing\n"
     ]
    },
    {
     "name": "stdout",
     "output_type": "stream",
     "text": [
      "46.550000000000004\n"
     ]
    },
    {
     "name": "stderr",
     "output_type": "stream",
     "text": [
      "20:02:03 - cmdstanpy - INFO - Chain [1] done processing\n",
      "20:02:05 - cmdstanpy - INFO - Chain [1] start processing\n",
      "20:02:05 - cmdstanpy - INFO - Chain [1] done processing\n"
     ]
    },
    {
     "name": "stdout",
     "output_type": "stream",
     "text": [
      "It's underpredicted.\n",
      "Monthly Error: 38.47 Period MAE: 46.25\n",
      "It's overpredicted.\n",
      "Monthly Error: 101.32 Period MAE: 20.45\n"
     ]
    },
    {
     "name": "stderr",
     "output_type": "stream",
     "text": [
      "20:02:07 - cmdstanpy - INFO - Chain [1] start processing\n",
      "20:02:07 - cmdstanpy - INFO - Chain [1] done processing\n",
      "20:02:08 - cmdstanpy - INFO - Chain [1] done processing\n",
      "20:02:08 - cmdstanpy - INFO - Chain [1] start processing\n"
     ]
    },
    {
     "name": "stdout",
     "output_type": "stream",
     "text": [
      "It's underpredicted.\n",
      "Monthly Error: 38.47 Period MAE: 46.25\n",
      "It's overpredicted.\n",
      "Monthly Error: 101.32 Period MAE: 20.45\n"
     ]
    },
    {
     "name": "stderr",
     "output_type": "stream",
     "text": [
      "20:02:09 - cmdstanpy - INFO - Chain [1] start processing\n",
      "20:02:09 - cmdstanpy - INFO - Chain [1] done processing\n",
      "20:02:10 - cmdstanpy - INFO - Chain [1] start processing\n",
      "20:02:11 - cmdstanpy - INFO - Chain [1] done processing\n"
     ]
    },
    {
     "name": "stdout",
     "output_type": "stream",
     "text": [
      "It's underpredicted.\n",
      "Monthly Error: 38.47 Period MAE: 46.25\n",
      "It's overpredicted.\n",
      "Monthly Error: 87.73 Period MAE: 9.26\n"
     ]
    },
    {
     "name": "stderr",
     "output_type": "stream",
     "text": [
      "20:02:12 - cmdstanpy - INFO - Chain [1] start processing\n",
      "20:02:12 - cmdstanpy - INFO - Chain [1] done processing\n",
      "20:02:13 - cmdstanpy - INFO - Chain [1] done processing\n"
     ]
    },
    {
     "name": "stdout",
     "output_type": "stream",
     "text": [
      "It's underpredicted.\n"
     ]
    },
    {
     "name": "stderr",
     "output_type": "stream",
     "text": [
      "20:02:14 - cmdstanpy - INFO - Chain [1] start processing\n"
     ]
    },
    {
     "name": "stdout",
     "output_type": "stream",
     "text": [
      "Monthly Error: 39.74 Period MAE: 49.32\n",
      "It's overpredicted.\n",
      "Monthly Error: 87.73 Period MAE: 9.26\n"
     ]
    },
    {
     "name": "stderr",
     "output_type": "stream",
     "text": [
      "20:02:14 - cmdstanpy - INFO - Chain [1] start processing\n",
      "20:02:15 - cmdstanpy - INFO - Chain [1] done processing\n",
      "20:02:16 - cmdstanpy - INFO - Chain [1] start processing\n",
      "20:02:17 - cmdstanpy - INFO - Chain [1] done processing\n"
     ]
    },
    {
     "name": "stdout",
     "output_type": "stream",
     "text": [
      "It's underpredicted.\n",
      "Monthly Error: 39.74 Period MAE: 49.32\n",
      "It's overpredicted.\n",
      "Monthly Error: 87.73 Period MAE: 9.26\n"
     ]
    },
    {
     "name": "stderr",
     "output_type": "stream",
     "text": [
      "20:02:18 - cmdstanpy - INFO - Chain [1] start processing\n",
      "20:02:18 - cmdstanpy - INFO - Chain [1] done processing\n",
      "20:02:18 - cmdstanpy - INFO - Chain [1] done processing\n"
     ]
    },
    {
     "name": "stdout",
     "output_type": "stream",
     "text": [
      "It's overpredicted.\n",
      "Period MAE: Monthly Error: 107.5 18.6\n",
      "It's underpredicted.\n",
      "Monthly Error: 39.74 Period MAE: 49.32\n"
     ]
    },
    {
     "name": "stderr",
     "output_type": "stream",
     "text": [
      "20:02:19 - cmdstanpy - INFO - Chain [1] start processing\n",
      "20:02:19 - cmdstanpy - INFO - Chain [1] start processing\n",
      "20:02:20 - cmdstanpy - INFO - Chain [1] done processing\n",
      "20:02:21 - cmdstanpy - INFO - Chain [1] start processing\n",
      "20:02:22 - cmdstanpy - INFO - Chain [1] done processing\n"
     ]
    },
    {
     "name": "stdout",
     "output_type": "stream",
     "text": [
      "It's overpredicted.\n",
      "Monthly Error: 107.5 Period MAE: 18.6\n",
      "It's underpredicted.\n",
      "Monthly Error: 100.0 Period MAE: 100.0\n"
     ]
    },
    {
     "name": "stderr",
     "output_type": "stream",
     "text": [
      "20:02:23 - cmdstanpy - INFO - Chain [1] start processing\n",
      "20:02:23 - cmdstanpy - INFO - Chain [1] done processing\n",
      "20:02:23 - cmdstanpy - INFO - Chain [1] done processing\n"
     ]
    },
    {
     "name": "stdout",
     "output_type": "stream",
     "text": [
      "It's overpredicted.\n",
      "Monthly Error: 107.5 Period MAE: 18.6\n",
      "It's underpredicted.\n",
      "Monthly Error: 100.0 Period MAE: 100.0\n"
     ]
    },
    {
     "name": "stderr",
     "output_type": "stream",
     "text": [
      "20:02:24 - cmdstanpy - INFO - Chain [1] start processing\n",
      "20:02:24 - cmdstanpy - INFO - Chain [1] start processing\n",
      "20:02:25 - cmdstanpy - INFO - Chain [1] done processing\n",
      "20:02:26 - cmdstanpy - INFO - Chain [1] start processing\n",
      "20:02:26 - cmdstanpy - INFO - Chain [1] done processing\n"
     ]
    },
    {
     "name": "stdout",
     "output_type": "stream",
     "text": [
      "It's overpredicted.\n",
      "Monthly Error: 104.4 Period MAE:It's underpredicted. \n",
      "15.010000000000002Monthly Error:\n",
      " 100.0 Period MAE: 100.0\n"
     ]
    },
    {
     "name": "stderr",
     "output_type": "stream",
     "text": [
      "20:02:28 - cmdstanpy - INFO - Chain [1] done processing\n",
      "20:02:28 - cmdstanpy - INFO - Chain [1] start processing\n",
      "20:02:28 - cmdstanpy - INFO - Chain [1] done processing\n"
     ]
    },
    {
     "name": "stdout",
     "output_type": "stream",
     "text": [
      "It's overpredicted.\n",
      "Monthly Error: 104.4 Period MAE: 15.010000000000002\n"
     ]
    },
    {
     "name": "stderr",
     "output_type": "stream",
     "text": [
      "20:02:29 - cmdstanpy - INFO - Chain [1] start processing\n"
     ]
    },
    {
     "name": "stdout",
     "output_type": "stream",
     "text": [
      "It's underpredicted.\n",
      "Monthly Error: 55.95 Period MAE: 72.46000000000001\n"
     ]
    },
    {
     "name": "stderr",
     "output_type": "stream",
     "text": [
      "20:02:29 - cmdstanpy - INFO - Chain [1] start processing\n",
      "20:02:29 - cmdstanpy - INFO - Chain [1] done processing\n",
      "20:02:31 - cmdstanpy - INFO - Chain [1] start processing\n",
      "20:02:31 - cmdstanpy - INFO - Chain [1] done processing\n"
     ]
    },
    {
     "name": "stdout",
     "output_type": "stream",
     "text": [
      "It's overpredicted.\n",
      "Monthly Error: 104.4 Period MAE: 15.010000000000002\n",
      "It's underpredicted.\n",
      "Monthly Error: 55.95 Period MAE: 72.46000000000001\n"
     ]
    },
    {
     "name": "stderr",
     "output_type": "stream",
     "text": [
      "20:02:33 - cmdstanpy - INFO - Chain [1] start processing\n",
      "20:02:33 - cmdstanpy - INFO - Chain [1] done processing\n",
      "20:02:33 - cmdstanpy - INFO - Chain [1] done processing\n"
     ]
    },
    {
     "name": "stdout",
     "output_type": "stream",
     "text": [
      "It's underpredicted.\n",
      "Monthly Error: 55.95 Period MAE: 72.46000000000001\n"
     ]
    },
    {
     "name": "stderr",
     "output_type": "stream",
     "text": [
      "20:02:34 - cmdstanpy - INFO - Chain [1] start processing\n"
     ]
    },
    {
     "name": "stdout",
     "output_type": "stream",
     "text": [
      "It's overpredicted.\n",
      "Monthly Error: 95.71 Period MAE: 10.6\n"
     ]
    },
    {
     "name": "stderr",
     "output_type": "stream",
     "text": [
      "20:02:34 - cmdstanpy - INFO - Chain [1] start processing\n",
      "20:02:35 - cmdstanpy - INFO - Chain [1] done processing\n",
      "20:02:36 - cmdstanpy - INFO - Chain [1] start processing\n",
      "20:02:36 - cmdstanpy - INFO - Chain [1] done processing\n"
     ]
    },
    {
     "name": "stdout",
     "output_type": "stream",
     "text": [
      "It's overpredicted.\n",
      "Monthly Error: 95.71 Period MAE: 10.6\n",
      "It's underpredicted.\n",
      "Monthly Error: 100.0 Period MAE: 100.0\n"
     ]
    },
    {
     "name": "stderr",
     "output_type": "stream",
     "text": [
      "20:02:38 - cmdstanpy - INFO - Chain [1] start processing\n",
      "20:02:38 - cmdstanpy - INFO - Chain [1] done processing\n",
      "20:02:38 - cmdstanpy - INFO - Chain [1] done processing\n"
     ]
    },
    {
     "name": "stdout",
     "output_type": "stream",
     "text": [
      "It's overpredicted.\n",
      "Monthly Error:"
     ]
    },
    {
     "name": "stderr",
     "output_type": "stream",
     "text": [
      "20:02:39 - cmdstanpy - INFO - Chain [1] start processing\n"
     ]
    },
    {
     "name": "stdout",
     "output_type": "stream",
     "text": [
      " 95.71 Period MAE: 10.6\n",
      "It's underpredicted.\n",
      "Monthly Error: 100.0 Period MAE: 100.0\n"
     ]
    },
    {
     "name": "stderr",
     "output_type": "stream",
     "text": [
      "20:02:40 - cmdstanpy - INFO - Chain [1] start processing\n",
      "20:02:40 - cmdstanpy - INFO - Chain [1] done processing\n",
      "20:02:41 - cmdstanpy - INFO - Chain [1] done processing\n",
      "20:02:41 - cmdstanpy - INFO - Chain [1] start processing\n"
     ]
    },
    {
     "name": "stdout",
     "output_type": "stream",
     "text": [
      "It's overpredicted.\n",
      "Monthly Error: 103.06 Period MAE: 23.52\n"
     ]
    },
    {
     "name": "stderr",
     "output_type": "stream",
     "text": [
      "20:02:42 - cmdstanpy - INFO - Chain [1] start processing\n",
      "20:02:43 - cmdstanpy - INFO - Chain [1] done processing\n"
     ]
    },
    {
     "name": "stdout",
     "output_type": "stream",
     "text": [
      "It's underpredicted.\n",
      "Monthly Error: 100.0 Period MAE: 100.0\n"
     ]
    },
    {
     "name": "stderr",
     "output_type": "stream",
     "text": [
      "20:02:44 - cmdstanpy - INFO - Chain [1] done processing\n",
      "20:02:44 - cmdstanpy - INFO - Chain [1] start processing\n"
     ]
    },
    {
     "name": "stdout",
     "output_type": "stream",
     "text": [
      "It's overpredicted.\n",
      "Monthly Error: 103.06 Period MAE: 23.52\n",
      "It's underpredicted.\n",
      "Monthly Error: 38.23 Period MAE: 46.550000000000004\n"
     ]
    },
    {
     "name": "stderr",
     "output_type": "stream",
     "text": [
      "20:02:45 - cmdstanpy - INFO - Chain [1] start processing\n",
      "20:02:45 - cmdstanpy - INFO - Chain [1] done processing\n",
      "20:02:47 - cmdstanpy - INFO - Chain [1] start processing\n",
      "20:02:47 - cmdstanpy - INFO - Chain [1] done processing\n"
     ]
    },
    {
     "name": "stdout",
     "output_type": "stream",
     "text": [
      "It's underpredicted.\n",
      "Monthly Error: 38.23 Period MAE: 46.550000000000004\n",
      "It's overpredicted.\n",
      "Monthly Error: 103.06 Period MAE: 23.52\n"
     ]
    },
    {
     "name": "stderr",
     "output_type": "stream",
     "text": [
      "20:02:49 - cmdstanpy - INFO - Chain [1] start processing\n",
      "20:02:49 - cmdstanpy - INFO - Chain [1] done processing\n",
      "20:02:49 - cmdstanpy - INFO - Chain [1] done processing\n",
      "20:02:50 - cmdstanpy - INFO - Chain [1] start processing\n"
     ]
    },
    {
     "name": "stdout",
     "output_type": "stream",
     "text": [
      "It's overpredicted.\n",
      "Monthly Error: 102.19 Period MAE: 21.32It's underpredicted.\n",
      "\n",
      "Monthly Error: 38.23 Period MAE: 46.550000000000004\n"
     ]
    },
    {
     "name": "stderr",
     "output_type": "stream",
     "text": [
      "20:02:50 - cmdstanpy - INFO - Chain [1] start processing\n",
      "20:02:51 - cmdstanpy - INFO - Chain [1] done processing\n",
      "20:02:52 - cmdstanpy - INFO - Chain [1] start processing\n",
      "20:02:52 - cmdstanpy - INFO - Chain [1] done processing\n"
     ]
    },
    {
     "name": "stdout",
     "output_type": "stream",
     "text": [
      "It's overpredicted.\n",
      "Monthly Error: 102.19 Period MAE: 21.32\n"
     ]
    },
    {
     "name": "stderr",
     "output_type": "stream",
     "text": [
      "20:02:54 - cmdstanpy - INFO - Chain [1] start processing\n"
     ]
    },
    {
     "name": "stdout",
     "output_type": "stream",
     "text": [
      "It's underpredicted.\n"
     ]
    },
    {
     "name": "stderr",
     "output_type": "stream",
     "text": [
      "20:02:54 - cmdstanpy - INFO - Chain [1] done processing\n"
     ]
    },
    {
     "name": "stdout",
     "output_type": "stream",
     "text": [
      "Monthly Error: 38.46 Period MAE: 46.23\n"
     ]
    },
    {
     "name": "stderr",
     "output_type": "stream",
     "text": [
      "20:02:54 - cmdstanpy - INFO - Chain [1] done processing\n"
     ]
    },
    {
     "name": "stdout",
     "output_type": "stream",
     "text": [
      "It's overpredicted.\n",
      "Monthly Error: 102.19 Period MAE: 21.32\n",
      "It's underpredicted.\n",
      "Monthly Error: "
     ]
    },
    {
     "name": "stderr",
     "output_type": "stream",
     "text": [
      "20:02:55 - cmdstanpy - INFO - Chain [1] start processing\n"
     ]
    },
    {
     "name": "stdout",
     "output_type": "stream",
     "text": [
      "38.46 Period MAE: 46.23\n"
     ]
    },
    {
     "name": "stderr",
     "output_type": "stream",
     "text": [
      "20:02:55 - cmdstanpy - INFO - Chain [1] start processing\n",
      "20:02:56 - cmdstanpy - INFO - Chain [1] done processing\n",
      "20:02:57 - cmdstanpy - INFO - Chain [1] start processing\n"
     ]
    },
    {
     "name": "stdout",
     "output_type": "stream",
     "text": [
      "It's underpredicted.\n",
      "Monthly Error:"
     ]
    },
    {
     "name": "stderr",
     "output_type": "stream",
     "text": [
      "20:02:58 - cmdstanpy - INFO - Chain [1] done processing\n"
     ]
    },
    {
     "name": "stdout",
     "output_type": "stream",
     "text": [
      " 38.46 Period MAE: 46.23\n"
     ]
    },
    {
     "name": "stderr",
     "output_type": "stream",
     "text": [
      "20:02:59 - cmdstanpy - INFO - Chain [1] start processing\n"
     ]
    },
    {
     "name": "stdout",
     "output_type": "stream",
     "text": [
      "It's overpredicted.\n",
      "Monthly Error: 88.62 Period MAE: 9.84\n"
     ]
    },
    {
     "name": "stderr",
     "output_type": "stream",
     "text": [
      "20:02:59 - cmdstanpy - INFO - Chain [1] done processing\n",
      "20:03:00 - cmdstanpy - INFO - Chain [1] done processing\n"
     ]
    },
    {
     "name": "stdout",
     "output_type": "stream",
     "text": [
      "It's underpredicted.\n",
      "Monthly Error: 41.97 Period MAE: 52.65\n",
      "It's overpredicted.\n",
      "Monthly Error: 88.62 Period MAE:"
     ]
    },
    {
     "name": "stderr",
     "output_type": "stream",
     "text": [
      "20:03:01 - cmdstanpy - INFO - Chain [1] start processing\n"
     ]
    },
    {
     "name": "stdout",
     "output_type": "stream",
     "text": [
      " 9.84\n"
     ]
    },
    {
     "name": "stderr",
     "output_type": "stream",
     "text": [
      "20:03:01 - cmdstanpy - INFO - Chain [1] start processing\n",
      "20:03:01 - cmdstanpy - INFO - Chain [1] done processing\n",
      "20:03:02 - cmdstanpy - INFO - Chain [1] start processing\n"
     ]
    },
    {
     "name": "stdout",
     "output_type": "stream",
     "text": [
      "It's underpredicted.\n",
      "Monthly Error: 41.97 Period MAE: 52.65\n"
     ]
    },
    {
     "name": "stderr",
     "output_type": "stream",
     "text": [
      "20:03:05 - cmdstanpy - INFO - Chain [1] start processing\n",
      "20:03:05 - cmdstanpy - INFO - Chain [1] done processing\n",
      "20:03:05 - cmdstanpy - INFO - Chain [1] done processing\n",
      "20:03:05 - cmdstanpy - INFO - Chain [1] done processing\n"
     ]
    },
    {
     "name": "stdout",
     "output_type": "stream",
     "text": [
      "It's overpredicted.\n",
      "Monthly Error: It's overpredicted.\n",
      "107.5 Monthly Error:Period MAE:  18.688.62 \n",
      "Period MAE: 9.84\n",
      "It's underpredicted.\n",
      "Monthly Error: 41.97 Period MAE: 52.65\n"
     ]
    },
    {
     "name": "stderr",
     "output_type": "stream",
     "text": [
      "20:03:07 - cmdstanpy - INFO - Chain [1] start processing\n",
      "20:03:07 - cmdstanpy - INFO - Chain [1] start processing\n",
      "20:03:07 - cmdstanpy - INFO - Chain [1] done processing\n",
      "20:03:08 - cmdstanpy - INFO - Chain [1] start processing\n"
     ]
    },
    {
     "name": "stdout",
     "output_type": "stream",
     "text": [
      "It's underpredicted.\n",
      "Monthly Error: 100.0 Period MAE: 100.0\n"
     ]
    },
    {
     "name": "stderr",
     "output_type": "stream",
     "text": [
      "20:03:09 - cmdstanpy - INFO - Chain [1] done processing\n",
      "20:03:09 - cmdstanpy - INFO - Chain [1] start processing\n",
      "20:03:09 - cmdstanpy - INFO - Chain [1] done processing\n"
     ]
    },
    {
     "name": "stdout",
     "output_type": "stream",
     "text": [
      "It's overpredicted.\n",
      "Monthly Error: 107.5 Period MAE: 18.6\n"
     ]
    },
    {
     "name": "stderr",
     "output_type": "stream",
     "text": [
      "20:03:11 - cmdstanpy - INFO - Chain [1] done processing\n"
     ]
    },
    {
     "name": "stdout",
     "output_type": "stream",
     "text": [
      "It's overpredicted.\n",
      "Monthly Error: 107.5 Period MAE: 18.6\n"
     ]
    },
    {
     "name": "stderr",
     "output_type": "stream",
     "text": [
      "20:03:12 - cmdstanpy - INFO - Chain [1] start processing\n"
     ]
    },
    {
     "name": "stdout",
     "output_type": "stream",
     "text": [
      "It's underpredicted.\n",
      "Monthly Error: 100.0 Period MAE: 100.0\n"
     ]
    },
    {
     "name": "stderr",
     "output_type": "stream",
     "text": [
      "20:03:12 - cmdstanpy - INFO - Chain [1] start processing\n",
      "20:03:12 - cmdstanpy - INFO - Chain [1] done processing\n",
      "20:03:13 - cmdstanpy - INFO - Chain [1] start processing\n"
     ]
    },
    {
     "name": "stdout",
     "output_type": "stream",
     "text": [
      "It's underpredicted.\n",
      "Monthly Error: 100.0 Period MAE: 100.0\n"
     ]
    },
    {
     "name": "stderr",
     "output_type": "stream",
     "text": [
      "20:03:14 - cmdstanpy - INFO - Chain [1] done processing\n",
      "20:03:14 - cmdstanpy - INFO - Chain [1] start processing\n",
      "20:03:14 - cmdstanpy - INFO - Chain [1] done processing\n"
     ]
    },
    {
     "name": "stdout",
     "output_type": "stream",
     "text": [
      "It's overpredicted.\n",
      "Monthly Error: 104.5 Period MAE: 15.1\n"
     ]
    },
    {
     "name": "stderr",
     "output_type": "stream",
     "text": [
      "20:03:15 - cmdstanpy - INFO - Chain [1] done processing\n",
      "20:03:16 - cmdstanpy - INFO - Chain [1] start processing\n"
     ]
    },
    {
     "name": "stdout",
     "output_type": "stream",
     "text": [
      "It's overpredicted.\n",
      "Monthly Error: 104.5 Period MAE: 15.1\n"
     ]
    },
    {
     "name": "stderr",
     "output_type": "stream",
     "text": [
      "20:03:17 - cmdstanpy - INFO - Chain [1] start processing\n"
     ]
    },
    {
     "name": "stdout",
     "output_type": "stream",
     "text": [
      "It's underpredicted.\n",
      "Monthly Error: 55.95 Period MAE: 72.46000000000001\n"
     ]
    },
    {
     "name": "stderr",
     "output_type": "stream",
     "text": [
      "20:03:17 - cmdstanpy - INFO - Chain [1] done processing\n",
      "20:03:18 - cmdstanpy - INFO - Chain [1] start processing\n",
      "20:03:19 - cmdstanpy - INFO - Chain [1] done processing\n"
     ]
    },
    {
     "name": "stdout",
     "output_type": "stream",
     "text": [
      "It's underpredicted.\n",
      "Monthly Error: 55.95 Period MAE: 72.46000000000001\n",
      "It's overpredicted.\n",
      "Monthly Error: 104.5 Period MAE: 15.1\n"
     ]
    },
    {
     "name": "stderr",
     "output_type": "stream",
     "text": [
      "20:03:20 - cmdstanpy - INFO - Chain [1] start processing\n",
      "20:03:20 - cmdstanpy - INFO - Chain [1] done processing\n",
      "20:03:21 - cmdstanpy - INFO - Chain [1] done processing\n",
      "20:03:21 - cmdstanpy - INFO - Chain [1] start processing\n"
     ]
    },
    {
     "name": "stdout",
     "output_type": "stream",
     "text": [
      "It's underpredicted.\n",
      "Monthly Error: 55.95 Period MAE:It's overpredicted.\n",
      " 72.46000000000001\n",
      "Monthly Error: 95.68 Period MAE: 10.57\n"
     ]
    },
    {
     "name": "stderr",
     "output_type": "stream",
     "text": [
      "20:03:22 - cmdstanpy - INFO - Chain [1] start processing\n",
      "20:03:22 - cmdstanpy - INFO - Chain [1] done processing\n",
      "20:03:23 - cmdstanpy - INFO - Chain [1] done processing\n",
      "20:03:23 - cmdstanpy - INFO - Chain [1] start processing\n"
     ]
    },
    {
     "name": "stdout",
     "output_type": "stream",
     "text": [
      "It's overpredicted.\n",
      "Monthly Error: 95.68 Period MAE: 10.57\n",
      "It's underpredicted.\n",
      "Monthly Error: 100.0 Period MAE: 100.0\n"
     ]
    },
    {
     "name": "stderr",
     "output_type": "stream",
     "text": [
      "20:03:25 - cmdstanpy - INFO - Chain [1] start processing\n",
      "20:03:25 - cmdstanpy - INFO - Chain [1] done processing\n",
      "20:03:25 - cmdstanpy - INFO - Chain [1] done processing\n",
      "20:03:26 - cmdstanpy - INFO - Chain [1] start processing\n"
     ]
    },
    {
     "name": "stdout",
     "output_type": "stream",
     "text": [
      "It's overpredicted.\n",
      "Monthly Error: 95.68 Period MAE: 10.57\n",
      "It's underpredicted.\n",
      "Monthly Error: 100.0 Period MAE: 100.0\n"
     ]
    },
    {
     "name": "stderr",
     "output_type": "stream",
     "text": [
      "20:03:27 - cmdstanpy - INFO - Chain [1] start processing\n",
      "20:03:27 - cmdstanpy - INFO - Chain [1] done processing\n",
      "20:03:28 - cmdstanpy - INFO - Chain [1] done processing\n",
      "20:03:28 - cmdstanpy - INFO - Chain [1] start processing\n"
     ]
    },
    {
     "name": "stdout",
     "output_type": "stream",
     "text": [
      "It's overpredicted.\n",
      "Monthly Error: 102.92 Period MAE: 22.79\n",
      "It's underpredicted.\n",
      "Monthly Error: 100.0 Period MAE: 100.0\n"
     ]
    },
    {
     "name": "stderr",
     "output_type": "stream",
     "text": [
      "20:03:30 - cmdstanpy - INFO - Chain [1] start processing\n",
      "20:03:30 - cmdstanpy - INFO - Chain [1] done processing\n",
      "20:03:31 - cmdstanpy - INFO - Chain [1] start processing\n",
      "20:03:31 - cmdstanpy - INFO - Chain [1] done processing\n"
     ]
    },
    {
     "name": "stdout",
     "output_type": "stream",
     "text": [
      "It's overpredicted.\n",
      "Monthly Error: 102.92 Period MAE: 22.79\n",
      "It's underpredicted.\n",
      "Monthly Error: 46.95 Period MAE: 55.169999999999995\n"
     ]
    },
    {
     "name": "stderr",
     "output_type": "stream",
     "text": [
      "20:03:32 - cmdstanpy - INFO - Chain [1] start processing\n",
      "20:03:32 - cmdstanpy - INFO - Chain [1] done processing\n",
      "20:03:33 - cmdstanpy - INFO - Chain [1] start processing\n",
      "20:03:33 - cmdstanpy - INFO - Chain [1] done processing\n"
     ]
    },
    {
     "name": "stdout",
     "output_type": "stream",
     "text": [
      "It's overpredicted.\n",
      "Monthly Error: 102.92 Period MAE: 22.79\n",
      "It's underpredicted.\n",
      "Monthly Error: 46.95 Period MAE: 55.169999999999995\n"
     ]
    },
    {
     "name": "stderr",
     "output_type": "stream",
     "text": [
      "20:03:35 - cmdstanpy - INFO - Chain [1] start processing\n",
      "20:03:35 - cmdstanpy - INFO - Chain [1] done processing\n",
      "20:03:36 - cmdstanpy - INFO - Chain [1] done processing\n",
      "20:03:36 - cmdstanpy - INFO - Chain [1] start processing\n"
     ]
    },
    {
     "name": "stdout",
     "output_type": "stream",
     "text": [
      "It's underpredicted.\n",
      "Monthly Error: 46.95 Period MAE: 55.169999999999995\n",
      "It's overpredicted.\n",
      "Monthly Error: 102.18 Period MAE: 20.39\n"
     ]
    },
    {
     "name": "stderr",
     "output_type": "stream",
     "text": [
      "20:03:37 - cmdstanpy - INFO - Chain [1] start processing\n",
      "20:03:37 - cmdstanpy - INFO - Chain [1] done processing\n",
      "20:03:38 - cmdstanpy - INFO - Chain [1] start processing\n",
      "20:03:39 - cmdstanpy - INFO - Chain [1] done processing\n"
     ]
    },
    {
     "name": "stdout",
     "output_type": "stream",
     "text": [
      "It's underpredicted.\n",
      "Monthly Error: 46.75 Period MAE: 55.02\n",
      "It's overpredicted.\n",
      "Monthly Error: 102.18 Period MAE: 20.39\n"
     ]
    },
    {
     "name": "stderr",
     "output_type": "stream",
     "text": [
      "20:03:40 - cmdstanpy - INFO - Chain [1] start processing\n",
      "20:03:40 - cmdstanpy - INFO - Chain [1] done processing\n",
      "20:03:41 - cmdstanpy - INFO - Chain [1] done processing\n",
      "20:03:41 - cmdstanpy - INFO - Chain [1] start processing\n"
     ]
    },
    {
     "name": "stdout",
     "output_type": "stream",
     "text": [
      "It's overpredicted.It's underpredicted.\n",
      "Monthly Error:\n",
      " Monthly Error:102.18  46.75Period MAE:  Period MAE:20.39 \n",
      "55.02\n"
     ]
    },
    {
     "name": "stderr",
     "output_type": "stream",
     "text": [
      "20:03:42 - cmdstanpy - INFO - Chain [1] start processing\n",
      "20:03:42 - cmdstanpy - INFO - Chain [1] done processing\n",
      "20:03:43 - cmdstanpy - INFO - Chain [1] done processing\n",
      "20:03:43 - cmdstanpy - INFO - Chain [1] start processing\n"
     ]
    },
    {
     "name": "stdout",
     "output_type": "stream",
     "text": [
      "It's overpredicted.\n",
      "Monthly Error: 100.71 Period MAE: 19.21\n",
      "It's underpredicted.\n"
     ]
    },
    {
     "name": "stderr",
     "output_type": "stream",
     "text": [
      "20:03:45 - cmdstanpy - INFO - Chain [1] start processing\n"
     ]
    },
    {
     "name": "stdout",
     "output_type": "stream",
     "text": [
      "Monthly Error: 46.75 Period MAE: 55.02\n"
     ]
    },
    {
     "name": "stderr",
     "output_type": "stream",
     "text": [
      "20:03:45 - cmdstanpy - INFO - Chain [1] done processing\n",
      "20:03:46 - cmdstanpy - INFO - Chain [1] done processing\n"
     ]
    },
    {
     "name": "stdout",
     "output_type": "stream",
     "text": [
      "It's overpredicted.\n",
      "Monthly Error: 100.71 Period MAE:"
     ]
    },
    {
     "name": "stderr",
     "output_type": "stream",
     "text": [
      "20:03:46 - cmdstanpy - INFO - Chain [1] start processing\n"
     ]
    },
    {
     "name": "stdout",
     "output_type": "stream",
     "text": [
      " 19.21\n"
     ]
    },
    {
     "name": "stderr",
     "output_type": "stream",
     "text": [
      "20:03:47 - cmdstanpy - INFO - Chain [1] start processing\n",
      "20:03:47 - cmdstanpy - INFO - Chain [1] done processing\n"
     ]
    },
    {
     "name": "stdout",
     "output_type": "stream",
     "text": [
      "It's underpredicted.\n",
      "Monthly Error: 46.67 Period MAE: 54.96\n"
     ]
    },
    {
     "name": "stderr",
     "output_type": "stream",
     "text": [
      "20:03:49 - cmdstanpy - INFO - Chain [1] done processing\n",
      "20:03:50 - cmdstanpy - INFO - Chain [1] start processing\n"
     ]
    },
    {
     "name": "stdout",
     "output_type": "stream",
     "text": [
      "It's overpredicted.\n",
      "Monthly Error: 100.71 Period MAE: 19.21\n"
     ]
    },
    {
     "name": "stderr",
     "output_type": "stream",
     "text": [
      "20:03:50 - cmdstanpy - INFO - Chain [1] start processing\n",
      "20:03:50 - cmdstanpy - INFO - Chain [1] done processing\n"
     ]
    },
    {
     "name": "stdout",
     "output_type": "stream",
     "text": [
      "It's underpredicted.\n",
      "Monthly Error: 46.67 Period MAE: 54.96\n"
     ]
    },
    {
     "name": "stderr",
     "output_type": "stream",
     "text": [
      "20:03:52 - cmdstanpy - INFO - Chain [1] done processing\n",
      "20:03:52 - cmdstanpy - INFO - Chain [1] start processing\n"
     ]
    },
    {
     "name": "stdout",
     "output_type": "stream",
     "text": [
      "It's overpredicted.\n",
      "Monthly Error: 106.9 Period MAE: 25.490000000000002\n",
      "It's underpredicted.\n",
      "Monthly Error: 46.67 Period MAE: 54.96\n"
     ]
    },
    {
     "name": "stderr",
     "output_type": "stream",
     "text": [
      "20:03:53 - cmdstanpy - INFO - Chain [1] start processing\n",
      "20:03:53 - cmdstanpy - INFO - Chain [1] done processing\n",
      "20:03:54 - cmdstanpy - INFO - Chain [1] done processing\n",
      "20:03:54 - cmdstanpy - INFO - Chain [1] start processing\n"
     ]
    },
    {
     "name": "stdout",
     "output_type": "stream",
     "text": [
      "It's overpredicted.\n",
      "Monthly Error: 106.9 Period MAE: 25.490000000000002\n",
      "It's underpredicted.\n",
      "Monthly Error: 100.0 Period MAE: 100.0\n"
     ]
    },
    {
     "name": "stderr",
     "output_type": "stream",
     "text": [
      "20:03:55 - cmdstanpy - INFO - Chain [1] start processing\n",
      "20:03:56 - cmdstanpy - INFO - Chain [1] done processing\n",
      "20:03:57 - cmdstanpy - INFO - Chain [1] start processing\n",
      "20:03:57 - cmdstanpy - INFO - Chain [1] done processing\n"
     ]
    },
    {
     "name": "stdout",
     "output_type": "stream",
     "text": [
      "It's underpredicted.\n",
      "Monthly Error: 100.0 Period MAE: 100.0\n",
      "It's overpredicted.\n",
      "Monthly Error: 106.9 Period MAE: 25.490000000000002\n"
     ]
    },
    {
     "name": "stderr",
     "output_type": "stream",
     "text": [
      "20:03:58 - cmdstanpy - INFO - Chain [1] start processing\n",
      "20:03:58 - cmdstanpy - INFO - Chain [1] done processing\n",
      "20:03:59 - cmdstanpy - INFO - Chain [1] start processing\n",
      "20:04:00 - cmdstanpy - INFO - Chain [1] done processing\n"
     ]
    },
    {
     "name": "stdout",
     "output_type": "stream",
     "text": [
      "It's underpredicted.\n",
      "Monthly Error: 100.0 Period MAE: 100.0\n"
     ]
    },
    {
     "name": "stderr",
     "output_type": "stream",
     "text": [
      "20:04:00 - cmdstanpy - INFO - Chain [1] start processing\n",
      "20:04:01 - cmdstanpy - INFO - Chain [1] done processing\n"
     ]
    },
    {
     "name": "stdout",
     "output_type": "stream",
     "text": [
      "It's overpredicted.\n",
      "Monthly Error: 104.53 Period MAE: 22.79\n",
      "It's underpredicted.\n",
      "Monthly Error: 44.07 Period MAE: 62.11\n"
     ]
    },
    {
     "name": "stderr",
     "output_type": "stream",
     "text": [
      "20:04:03 - cmdstanpy - INFO - Chain [1] start processing\n",
      "20:04:03 - cmdstanpy - INFO - Chain [1] start processing\n",
      "20:04:03 - cmdstanpy - INFO - Chain [1] done processing\n",
      "20:04:04 - cmdstanpy - INFO - Chain [1] done processing\n"
     ]
    },
    {
     "name": "stdout",
     "output_type": "stream",
     "text": [
      "It's overpredicted.\n",
      "Monthly Error: 104.53 Period MAE: 22.79\n",
      "It's underpredicted.\n",
      "Monthly Error: 44.07 Period MAE: 62.11\n"
     ]
    },
    {
     "name": "stderr",
     "output_type": "stream",
     "text": [
      "20:04:06 - cmdstanpy - INFO - Chain [1] start processing\n",
      "20:04:06 - cmdstanpy - INFO - Chain [1] start processing\n",
      "20:04:06 - cmdstanpy - INFO - Chain [1] done processing\n",
      "20:04:07 - cmdstanpy - INFO - Chain [1] done processing\n"
     ]
    },
    {
     "name": "stdout",
     "output_type": "stream",
     "text": [
      "It's overpredicted.\n",
      "Monthly Error: 104.53 Period MAE: 22.79\n",
      "It's underpredicted.\n",
      "Monthly Error: 44.07 Period MAE: 62.11\n"
     ]
    },
    {
     "name": "stderr",
     "output_type": "stream",
     "text": [
      "20:04:09 - cmdstanpy - INFO - Chain [1] start processing\n",
      "20:04:09 - cmdstanpy - INFO - Chain [1] done processing\n",
      "20:04:09 - cmdstanpy - INFO - Chain [1] start processing\n",
      "20:04:09 - cmdstanpy - INFO - Chain [1] done processing\n"
     ]
    },
    {
     "name": "stdout",
     "output_type": "stream",
     "text": [
      "It's overpredicted.\n",
      "Monthly Error: 106.82 Period MAE: 25.080000000000002\n",
      "It's underpredicted.\n",
      "Monthly Error: 87.67 Period MAE: 90.33\n"
     ]
    },
    {
     "name": "stderr",
     "output_type": "stream",
     "text": [
      "20:04:11 - cmdstanpy - INFO - Chain [1] done processing\n",
      "20:04:12 - cmdstanpy - INFO - Chain [1] start processing\n"
     ]
    },
    {
     "name": "stdout",
     "output_type": "stream",
     "text": [
      "It's overpredicted.\n",
      "Monthly Error: 106.82 Period MAE: 25.080000000000002\n"
     ]
    },
    {
     "name": "stderr",
     "output_type": "stream",
     "text": [
      "20:04:12 - cmdstanpy - INFO - Chain [1] start processing\n",
      "20:04:12 - cmdstanpy - INFO - Chain [1] done processing\n",
      "20:04:13 - cmdstanpy - INFO - Chain [1] start processing\n"
     ]
    },
    {
     "name": "stdout",
     "output_type": "stream",
     "text": [
      "It's underpredicted.\n",
      "Monthly Error: 87.67 Period MAE: 90.33\n"
     ]
    },
    {
     "name": "stderr",
     "output_type": "stream",
     "text": [
      "20:04:14 - cmdstanpy - INFO - Chain [1] start processing\n",
      "20:04:14 - cmdstanpy - INFO - Chain [1] done processing\n",
      "20:04:14 - cmdstanpy - INFO - Chain [1] done processing\n"
     ]
    },
    {
     "name": "stdout",
     "output_type": "stream",
     "text": [
      "It's overpredicted.\n",
      "Monthly Error: 106.82 Period MAE: 25.080000000000002\n"
     ]
    },
    {
     "name": "stderr",
     "output_type": "stream",
     "text": [
      "20:04:16 - cmdstanpy - INFO - Chain [1] done processing\n"
     ]
    },
    {
     "name": "stdout",
     "output_type": "stream",
     "text": [
      "It's overpredicted.\n",
      "Monthly Error: 102.92 Period MAE: 22.79\n"
     ]
    },
    {
     "name": "stderr",
     "output_type": "stream",
     "text": [
      "20:04:17 - cmdstanpy - INFO - Chain [1] start processing\n"
     ]
    },
    {
     "name": "stdout",
     "output_type": "stream",
     "text": [
      "It's underpredicted.\n",
      "Monthly Error: 87.67 Period MAE: 90.33"
     ]
    },
    {
     "name": "stderr",
     "output_type": "stream",
     "text": [
      "20:04:17 - cmdstanpy - INFO - Chain [1] start processing\n"
     ]
    },
    {
     "name": "stdout",
     "output_type": "stream",
     "text": [
      "\n"
     ]
    },
    {
     "name": "stderr",
     "output_type": "stream",
     "text": [
      "20:04:17 - cmdstanpy - INFO - Chain [1] done processing\n"
     ]
    },
    {
     "name": "stdout",
     "output_type": "stream",
     "text": [
      "It's underpredicted.\n",
      "Monthly Error: 46.95 Period MAE: 55.169999999999995\n"
     ]
    },
    {
     "name": "stderr",
     "output_type": "stream",
     "text": [
      "20:04:19 - cmdstanpy - INFO - Chain [1] start processing\n",
      "20:04:19 - cmdstanpy - INFO - Chain [1] start processing\n",
      "20:04:19 - cmdstanpy - INFO - Chain [1] done processing\n",
      "20:04:20 - cmdstanpy - INFO - Chain [1] done processing\n"
     ]
    },
    {
     "name": "stdout",
     "output_type": "stream",
     "text": [
      "It's overpredicted.\n",
      "Monthly Error: 102.92 Period MAE: 22.79\n"
     ]
    },
    {
     "name": "stderr",
     "output_type": "stream",
     "text": [
      "20:04:21 - cmdstanpy - INFO - Chain [1] done processing\n"
     ]
    },
    {
     "name": "stdout",
     "output_type": "stream",
     "text": [
      "It's overpredicted.\n",
      "Monthly Error: 102.92 Period MAE: 22.79\n"
     ]
    },
    {
     "name": "stderr",
     "output_type": "stream",
     "text": [
      "20:04:22 - cmdstanpy - INFO - Chain [1] start processing\n"
     ]
    },
    {
     "name": "stdout",
     "output_type": "stream",
     "text": [
      "It's underpredicted.\n",
      "Monthly Error: 46.95 Period MAE: 55.169999999999995\n"
     ]
    },
    {
     "name": "stderr",
     "output_type": "stream",
     "text": [
      "20:04:23 - cmdstanpy - INFO - Chain [1] start processing\n",
      "20:04:23 - cmdstanpy - INFO - Chain [1] done processing\n"
     ]
    },
    {
     "name": "stdout",
     "output_type": "stream",
     "text": [
      "It's underpredicted.\n",
      "Monthly Error:"
     ]
    },
    {
     "name": "stderr",
     "output_type": "stream",
     "text": [
      "20:04:24 - cmdstanpy - INFO - Chain [1] start processing\n"
     ]
    },
    {
     "name": "stdout",
     "output_type": "stream",
     "text": [
      " 46.95 Period MAE: 55.169999999999995\n"
     ]
    },
    {
     "name": "stderr",
     "output_type": "stream",
     "text": [
      "20:04:24 - cmdstanpy - INFO - Chain [1] start processing\n",
      "20:04:25 - cmdstanpy - INFO - Chain [1] done processing\n",
      "20:04:25 - cmdstanpy - INFO - Chain [1] done processing\n"
     ]
    },
    {
     "name": "stdout",
     "output_type": "stream",
     "text": [
      "It's overpredicted.\n",
      "Monthly Error: 103.09 Period MAE: 21.82\n"
     ]
    },
    {
     "name": "stderr",
     "output_type": "stream",
     "text": [
      "20:04:26 - cmdstanpy - INFO - Chain [1] done processing\n",
      "20:04:27 - cmdstanpy - INFO - Chain [1] start processing\n"
     ]
    },
    {
     "name": "stdout",
     "output_type": "stream",
     "text": [
      "It's overpredicted.\n",
      "Monthly Error: 103.09 Period MAE: 21.82\n",
      "It's underpredicted.\n",
      "Monthly Error: 46.95 Period MAE: 55.17999999999999\n"
     ]
    },
    {
     "name": "stderr",
     "output_type": "stream",
     "text": [
      "20:04:28 - cmdstanpy - INFO - Chain [1] start processing\n",
      "20:04:28 - cmdstanpy - INFO - Chain [1] done processing\n",
      "20:04:29 - cmdstanpy - INFO - Chain [1] start processing\n"
     ]
    },
    {
     "name": "stdout",
     "output_type": "stream",
     "text": [
      "It's underpredicted.\n",
      "Monthly Error: 46.95 Period MAE: 55.17999999999999\n"
     ]
    },
    {
     "name": "stderr",
     "output_type": "stream",
     "text": [
      "20:04:30 - cmdstanpy - INFO - Chain [1] start processing\n",
      "20:04:30 - cmdstanpy - INFO - Chain [1] done processing\n",
      "20:04:30 - cmdstanpy - INFO - Chain [1] done processing\n"
     ]
    },
    {
     "name": "stdout",
     "output_type": "stream",
     "text": [
      "It's overpredicted.\n",
      "Monthly Error: 103.09 Period MAE: 21.82\n"
     ]
    },
    {
     "name": "stderr",
     "output_type": "stream",
     "text": [
      "20:04:32 - cmdstanpy - INFO - Chain [1] done processing\n",
      "20:04:32 - cmdstanpy - INFO - Chain [1] start processing\n"
     ]
    },
    {
     "name": "stdout",
     "output_type": "stream",
     "text": [
      "It's underpredicted.\n",
      "Monthly Error: 46.95 Period MAE: 55.17999999999999\n",
      "It's overpredicted.\n",
      "Monthly Error: 88.48 Period MAE: 9.27\n"
     ]
    },
    {
     "name": "stderr",
     "output_type": "stream",
     "text": [
      "20:04:33 - cmdstanpy - INFO - Chain [1] start processing\n",
      "20:04:34 - cmdstanpy - INFO - Chain [1] done processing\n"
     ]
    },
    {
     "name": "stdout",
     "output_type": "stream",
     "text": [
      "It's underpredicted.\n",
      "Monthly Error: 46.95 Period MAE: 55.169999999999995"
     ]
    },
    {
     "name": "stderr",
     "output_type": "stream",
     "text": [
      "20:04:35 - cmdstanpy - INFO - Chain [1] start processing\n"
     ]
    },
    {
     "name": "stdout",
     "output_type": "stream",
     "text": [
      "\n"
     ]
    },
    {
     "name": "stderr",
     "output_type": "stream",
     "text": [
      "20:04:35 - cmdstanpy - INFO - Chain [1] start processing\n",
      "20:04:35 - cmdstanpy - INFO - Chain [1] done processing\n",
      "20:04:35 - cmdstanpy - INFO - Chain [1] done processing\n"
     ]
    },
    {
     "name": "stdout",
     "output_type": "stream",
     "text": [
      "It's overpredicted.\n",
      "Monthly Error: 88.48 Period MAE: 9.27\n"
     ]
    },
    {
     "name": "stderr",
     "output_type": "stream",
     "text": [
      "20:04:38 - cmdstanpy - INFO - Chain [1] done processing\n",
      "20:04:38 - cmdstanpy - INFO - Chain [1] start processing\n"
     ]
    },
    {
     "name": "stdout",
     "output_type": "stream",
     "text": [
      "It's underpredicted.\n",
      "Monthly Error: 46.95 Period MAE: 55.169999999999995\n"
     ]
    },
    {
     "name": "stderr",
     "output_type": "stream",
     "text": [
      "20:04:39 - cmdstanpy - INFO - Chain [1] start processing\n"
     ]
    },
    {
     "name": "stdout",
     "output_type": "stream",
     "text": [
      "It's overpredicted.\n",
      "Monthly Error:"
     ]
    },
    {
     "name": "stderr",
     "output_type": "stream",
     "text": [
      "20:04:39 - cmdstanpy - INFO - Chain [1] done processing\n"
     ]
    },
    {
     "name": "stdout",
     "output_type": "stream",
     "text": [
      " 88.48 Period MAE: 9.27\n",
      "It's underpredicted.\n",
      "Monthly Error: 46.95 Period MAE: 55.169999999999995\n"
     ]
    },
    {
     "name": "stderr",
     "output_type": "stream",
     "text": [
      "20:04:40 - cmdstanpy - INFO - Chain [1] start processing\n",
      "20:04:40 - cmdstanpy - INFO - Chain [1] done processing\n",
      "20:04:41 - cmdstanpy - INFO - Chain [1] start processing\n",
      "20:04:41 - cmdstanpy - INFO - Chain [1] done processing\n"
     ]
    },
    {
     "name": "stdout",
     "output_type": "stream",
     "text": [
      "It's overpredicted.\n",
      "Monthly Error: 106.9 Period MAE: 25.490000000000002\n"
     ]
    },
    {
     "name": "stderr",
     "output_type": "stream",
     "text": [
      "20:04:42 - cmdstanpy - INFO - Chain [1] start processing\n",
      "20:04:42 - cmdstanpy - INFO - Chain [1] done processing\n"
     ]
    },
    {
     "name": "stdout",
     "output_type": "stream",
     "text": [
      "It's underpredicted.\n",
      "Monthly Error: 100.0 Period MAE: 100.0\n",
      "It's overpredicted.\n",
      "Monthly Error: 106.9 Period MAE: 25.490000000000002\n"
     ]
    },
    {
     "name": "stderr",
     "output_type": "stream",
     "text": [
      "20:04:43 - cmdstanpy - INFO - Chain [1] start processing\n",
      "20:04:44 - cmdstanpy - INFO - Chain [1] done processing\n",
      "20:04:45 - cmdstanpy - INFO - Chain [1] done processing\n",
      "20:04:45 - cmdstanpy - INFO - Chain [1] start processing\n"
     ]
    },
    {
     "name": "stdout",
     "output_type": "stream",
     "text": [
      "It's underpredicted.\n",
      "Monthly Error: 100.0 Period MAE: 100.0\n",
      "It's overpredicted.\n",
      "Monthly Error: 106.9 Period MAE: 25.490000000000002\n"
     ]
    },
    {
     "name": "stderr",
     "output_type": "stream",
     "text": [
      "20:04:46 - cmdstanpy - INFO - Chain [1] start processing\n",
      "20:04:46 - cmdstanpy - INFO - Chain [1] done processing\n",
      "20:04:47 - cmdstanpy - INFO - Chain [1] start processing\n"
     ]
    },
    {
     "name": "stdout",
     "output_type": "stream",
     "text": [
      "It's underpredicted.\n",
      "Monthly Error: 100.0 Period MAE: 100.0\n"
     ]
    },
    {
     "name": "stderr",
     "output_type": "stream",
     "text": [
      "20:04:48 - cmdstanpy - INFO - Chain [1] done processing\n",
      "20:04:49 - cmdstanpy - INFO - Chain [1] start processing\n"
     ]
    },
    {
     "name": "stdout",
     "output_type": "stream",
     "text": [
      "It's overpredicted.\n"
     ]
    },
    {
     "name": "stderr",
     "output_type": "stream",
     "text": [
      "20:04:49 - cmdstanpy - INFO - Chain [1] done processing\n"
     ]
    },
    {
     "name": "stdout",
     "output_type": "stream",
     "text": [
      "Monthly Error: 104.97 Period MAE: 22.97\n"
     ]
    },
    {
     "name": "stderr",
     "output_type": "stream",
     "text": [
      "20:04:51 - cmdstanpy - INFO - Chain [1] start processing\n",
      "20:04:51 - cmdstanpy - INFO - Chain [1] done processing\n"
     ]
    },
    {
     "name": "stdout",
     "output_type": "stream",
     "text": [
      "It's underpredicted.\n",
      "Monthly Error: 55.99 Period MAE: 72.49\n"
     ]
    },
    {
     "name": "stderr",
     "output_type": "stream",
     "text": [
      "20:04:52 - cmdstanpy - INFO - Chain [1] start processing\n"
     ]
    },
    {
     "name": "stdout",
     "output_type": "stream",
     "text": [
      "It's overpredicted.\n",
      "Monthly Error: 104.97 Period MAE: 22.97\n"
     ]
    },
    {
     "name": "stderr",
     "output_type": "stream",
     "text": [
      "20:04:52 - cmdstanpy - INFO - Chain [1] done processing\n",
      "20:04:54 - cmdstanpy - INFO - Chain [1] start processing\n"
     ]
    },
    {
     "name": "stdout",
     "output_type": "stream",
     "text": [
      "It's underpredicted.\n",
      "Monthly Error: 55.99 Period MAE: 72.49\n"
     ]
    },
    {
     "name": "stderr",
     "output_type": "stream",
     "text": [
      "20:04:54 - cmdstanpy - INFO - Chain [1] done processing\n",
      "20:04:55 - cmdstanpy - INFO - Chain [1] start processing\n",
      "20:04:55 - cmdstanpy - INFO - Chain [1] done processing\n"
     ]
    },
    {
     "name": "stdout",
     "output_type": "stream",
     "text": [
      "It's overpredicted.\n",
      "Monthly Error: 104.97 Period MAE: 22.97\n"
     ]
    },
    {
     "name": "stderr",
     "output_type": "stream",
     "text": [
      "20:04:56 - cmdstanpy - INFO - Chain [1] done processing\n"
     ]
    },
    {
     "name": "stdout",
     "output_type": "stream",
     "text": [
      "It's underpredicted.\n",
      "Monthly Error: 55.99 Period MAE: 72.49\n"
     ]
    },
    {
     "name": "stderr",
     "output_type": "stream",
     "text": [
      "20:04:57 - cmdstanpy - INFO - Chain [1] start processing\n"
     ]
    },
    {
     "name": "stdout",
     "output_type": "stream",
     "text": [
      "It's overpredicted."
     ]
    },
    {
     "name": "stderr",
     "output_type": "stream",
     "text": [
      "20:04:57 - cmdstanpy - INFO - Chain [1] start processing\n"
     ]
    },
    {
     "name": "stdout",
     "output_type": "stream",
     "text": [
      "\n",
      "Monthly Error: 102.89 Period MAE: 22.55\n"
     ]
    },
    {
     "name": "stderr",
     "output_type": "stream",
     "text": [
      "20:04:58 - cmdstanpy - INFO - Chain [1] done processing\n",
      "20:04:59 - cmdstanpy - INFO - Chain [1] start processing\n"
     ]
    },
    {
     "name": "stdout",
     "output_type": "stream",
     "text": [
      "It's underpredicted.\n",
      "Monthly Error: 100.0 Period MAE: 100.0\n"
     ]
    },
    {
     "name": "stderr",
     "output_type": "stream",
     "text": [
      "20:05:00 - cmdstanpy - INFO - Chain [1] start processing\n",
      "20:05:00 - cmdstanpy - INFO - Chain [1] done processing\n",
      "20:05:00 - cmdstanpy - INFO - Chain [1] done processing\n"
     ]
    },
    {
     "name": "stdout",
     "output_type": "stream",
     "text": [
      "It's overpredicted.\n",
      "Monthly Error: 102.89 Period MAE: 22.55\n"
     ]
    },
    {
     "name": "stderr",
     "output_type": "stream",
     "text": [
      "20:05:02 - cmdstanpy - INFO - Chain [1] done processing\n",
      "20:05:02 - cmdstanpy - INFO - Chain [1] start processing\n"
     ]
    },
    {
     "name": "stdout",
     "output_type": "stream",
     "text": [
      "It's underpredicted.\n",
      "Monthly Error: 100.0 Period MAE: 100.0\n"
     ]
    },
    {
     "name": "stderr",
     "output_type": "stream",
     "text": [
      "20:05:03 - cmdstanpy - INFO - Chain [1] start processing\n"
     ]
    },
    {
     "name": "stdout",
     "output_type": "stream",
     "text": [
      "It's overpredicted.\n",
      "Monthly Error: 102.89 Period MAE: 22.55\n"
     ]
    },
    {
     "name": "stderr",
     "output_type": "stream",
     "text": [
      "20:05:04 - cmdstanpy - INFO - Chain [1] done processing\n",
      "20:05:05 - cmdstanpy - INFO - Chain [1] start processing\n"
     ]
    },
    {
     "name": "stdout",
     "output_type": "stream",
     "text": [
      "It's underpredicted.\n",
      "Monthly Error: 100.0 Period MAE: 100.0\n"
     ]
    },
    {
     "name": "stderr",
     "output_type": "stream",
     "text": [
      "20:05:06 - cmdstanpy - INFO - Chain [1] done processing\n",
      "20:05:06 - cmdstanpy - INFO - Chain [1] start processing\n",
      "20:05:06 - cmdstanpy - INFO - Chain [1] done processing\n"
     ]
    },
    {
     "name": "stdout",
     "output_type": "stream",
     "text": [
      "It's overpredicted.\n",
      "Monthly Error: 102.92 Period MAE: 22.79\n"
     ]
    },
    {
     "name": "stderr",
     "output_type": "stream",
     "text": [
      "20:05:08 - cmdstanpy - INFO - Chain [1] done processing\n",
      "20:05:08 - cmdstanpy - INFO - Chain [1] start processing\n"
     ]
    },
    {
     "name": "stdout",
     "output_type": "stream",
     "text": [
      "It's underpredicted.\n",
      "Monthly Error: 46.95 Period MAE: 55.169999999999995\n",
      "It's overpredicted.\n",
      "Monthly Error: 102.92 Period MAE: 22.79\n"
     ]
    },
    {
     "name": "stderr",
     "output_type": "stream",
     "text": [
      "20:05:09 - cmdstanpy - INFO - Chain [1] start processing\n",
      "20:05:09 - cmdstanpy - INFO - Chain [1] done processing\n",
      "20:05:10 - cmdstanpy - INFO - Chain [1] start processing\n"
     ]
    },
    {
     "name": "stdout",
     "output_type": "stream",
     "text": [
      "It's underpredicted.\n",
      "Monthly Error: 46.95 Period MAE: 55.169999999999995\n"
     ]
    },
    {
     "name": "stderr",
     "output_type": "stream",
     "text": [
      "20:05:11 - cmdstanpy - INFO - Chain [1] done processing\n",
      "20:05:11 - cmdstanpy - INFO - Chain [1] start processing\n",
      "20:05:11 - cmdstanpy - INFO - Chain [1] done processing\n"
     ]
    },
    {
     "name": "stdout",
     "output_type": "stream",
     "text": [
      "It's overpredicted.\n",
      "Monthly Error: 102.92 Period MAE: 22.79\n"
     ]
    },
    {
     "name": "stderr",
     "output_type": "stream",
     "text": [
      "20:05:12 - cmdstanpy - INFO - Chain [1] done processing\n",
      "20:05:13 - cmdstanpy - INFO - Chain [1] start processing\n"
     ]
    },
    {
     "name": "stdout",
     "output_type": "stream",
     "text": [
      "It's underpredicted.\n",
      "Monthly Error: 46.95 Period MAE: 55.169999999999995\n",
      "It's overpredicted.\n",
      "Monthly Error: 103.36 Period MAE: 22.28\n"
     ]
    },
    {
     "name": "stderr",
     "output_type": "stream",
     "text": [
      "20:05:14 - cmdstanpy - INFO - Chain [1] start processing\n",
      "20:05:14 - cmdstanpy - INFO - Chain [1] done processing\n",
      "20:05:15 - cmdstanpy - INFO - Chain [1] start processing\n",
      "20:05:15 - cmdstanpy - INFO - Chain [1] done processing\n"
     ]
    },
    {
     "name": "stdout",
     "output_type": "stream",
     "text": [
      "It's underpredicted.\n",
      "Monthly Error: 46.94 Period MAE: 55.169999999999995\n",
      "It's overpredicted.\n",
      "Monthly Error: 103.36 Period MAE: 22.28"
     ]
    },
    {
     "name": "stderr",
     "output_type": "stream",
     "text": [
      "20:05:17 - cmdstanpy - INFO - Chain [1] start processing\n"
     ]
    },
    {
     "name": "stdout",
     "output_type": "stream",
     "text": [
      "\n"
     ]
    },
    {
     "name": "stderr",
     "output_type": "stream",
     "text": [
      "20:05:17 - cmdstanpy - INFO - Chain [1] done processing\n",
      "20:05:17 - cmdstanpy - INFO - Chain [1] done processing\n",
      "20:05:18 - cmdstanpy - INFO - Chain [1] start processing\n"
     ]
    },
    {
     "name": "stdout",
     "output_type": "stream",
     "text": [
      "It's overpredicted.\n",
      "Monthly Error: 103.36 Period MAE: 22.28\n"
     ]
    },
    {
     "name": "stderr",
     "output_type": "stream",
     "text": [
      "20:05:19 - cmdstanpy - INFO - Chain [1] start processing\n"
     ]
    },
    {
     "name": "stdout",
     "output_type": "stream",
     "text": [
      "It's underpredicted.\n",
      "Monthly Error: 46.94 Period MAE: 55.169999999999995\n"
     ]
    },
    {
     "name": "stderr",
     "output_type": "stream",
     "text": [
      "20:05:19 - cmdstanpy - INFO - Chain [1] done processing\n",
      "20:05:20 - cmdstanpy - INFO - Chain [1] done processing\n",
      "20:05:21 - cmdstanpy - INFO - Chain [1] start processing\n"
     ]
    },
    {
     "name": "stdout",
     "output_type": "stream",
     "text": [
      "It's overpredicted.\n",
      "Monthly Error: 88.37 Period MAE: 9.64\n",
      "It's underpredicted.\n",
      "Monthly Error: 46.94 Period MAE: 55.169999999999995\n"
     ]
    },
    {
     "name": "stderr",
     "output_type": "stream",
     "text": [
      "20:05:22 - cmdstanpy - INFO - Chain [1] start processing\n",
      "20:05:22 - cmdstanpy - INFO - Chain [1] done processing\n",
      "20:05:23 - cmdstanpy - INFO - Chain [1] done processing\n",
      "20:05:23 - cmdstanpy - INFO - Chain [1] start processing\n"
     ]
    },
    {
     "name": "stdout",
     "output_type": "stream",
     "text": [
      "It's overpredicted.\n",
      "Monthly Error: 88.37 Period MAE: 9.64\n"
     ]
    },
    {
     "name": "stderr",
     "output_type": "stream",
     "text": [
      "20:05:24 - cmdstanpy - INFO - Chain [1] start processing\n"
     ]
    },
    {
     "name": "stdout",
     "output_type": "stream",
     "text": [
      "It's underpredicted.\n",
      "Monthly Error: 46.95 Period MAE: 55.169999999999995\n"
     ]
    },
    {
     "name": "stderr",
     "output_type": "stream",
     "text": [
      "20:05:24 - cmdstanpy - INFO - Chain [1] done processing\n",
      "20:05:25 - cmdstanpy - INFO - Chain [1] done processing\n",
      "20:05:26 - cmdstanpy - INFO - Chain [1] start processing\n"
     ]
    },
    {
     "name": "stdout",
     "output_type": "stream",
     "text": [
      "It's overpredicted.\n",
      "Monthly Error: 88.37 Period MAE: 9.64\n",
      "It's underpredicted.\n",
      "Monthly Error: 46.95 Period MAE: 55.169999999999995\n"
     ]
    },
    {
     "name": "stderr",
     "output_type": "stream",
     "text": [
      "20:05:27 - cmdstanpy - INFO - Chain [1] start processing\n",
      "20:05:27 - cmdstanpy - INFO - Chain [1] done processing\n",
      "20:05:28 - cmdstanpy - INFO - Chain [1] start processing\n",
      "20:05:28 - cmdstanpy - INFO - Chain [1] done processing\n"
     ]
    },
    {
     "name": "stdout",
     "output_type": "stream",
     "text": [
      "It's underpredicted.\n",
      "Monthly Error: 46.95 Period MAE: 55.169999999999995\n",
      "It's overpredicted.\n",
      "Monthly Error: 106.9 Period MAE: 25.490000000000002\n"
     ]
    },
    {
     "name": "stderr",
     "output_type": "stream",
     "text": [
      "20:05:29 - cmdstanpy - INFO - Chain [1] start processing\n",
      "20:05:29 - cmdstanpy - INFO - Chain [1] done processing\n",
      "20:05:30 - cmdstanpy - INFO - Chain [1] done processing\n",
      "20:05:31 - cmdstanpy - INFO - Chain [1] start processing\n"
     ]
    },
    {
     "name": "stdout",
     "output_type": "stream",
     "text": [
      "It's overpredicted.\n",
      "Monthly Error: 106.9 Period MAE: 25.490000000000002\n",
      "It's underpredicted.\n",
      "Monthly Error: 100.0 Period MAE: 100.0\n"
     ]
    },
    {
     "name": "stderr",
     "output_type": "stream",
     "text": [
      "20:05:32 - cmdstanpy - INFO - Chain [1] start processing\n",
      "20:05:32 - cmdstanpy - INFO - Chain [1] done processing\n",
      "20:05:33 - cmdstanpy - INFO - Chain [1] done processing\n",
      "20:05:33 - cmdstanpy - INFO - Chain [1] start processing\n"
     ]
    },
    {
     "name": "stdout",
     "output_type": "stream",
     "text": [
      "It's overpredicted.\n",
      "Monthly Error: 106.9 Period MAE:It's underpredicted. \n",
      "25.490000000000002\n",
      "Monthly Error: 100.0 Period MAE: 100.0\n"
     ]
    },
    {
     "name": "stderr",
     "output_type": "stream",
     "text": [
      "20:05:34 - cmdstanpy - INFO - Chain [1] start processing\n",
      "20:05:34 - cmdstanpy - INFO - Chain [1] done processing\n",
      "20:05:35 - cmdstanpy - INFO - Chain [1] start processing\n",
      "20:05:35 - cmdstanpy - INFO - Chain [1] done processing\n"
     ]
    },
    {
     "name": "stdout",
     "output_type": "stream",
     "text": [
      "It's underpredicted.\n",
      "Monthly Error: 100.0 Period MAE: 100.0\n",
      "It's overpredicted.\n",
      "Monthly Error: 105.45 Period MAE: 23.77\n"
     ]
    },
    {
     "name": "stderr",
     "output_type": "stream",
     "text": [
      "20:05:37 - cmdstanpy - INFO - Chain [1] start processing\n",
      "20:05:37 - cmdstanpy - INFO - Chain [1] done processing\n",
      "20:05:38 - cmdstanpy - INFO - Chain [1] done processing\n",
      "20:05:38 - cmdstanpy - INFO - Chain [1] start processing\n"
     ]
    },
    {
     "name": "stdout",
     "output_type": "stream",
     "text": [
      "It's overpredicted.\n",
      "Monthly Error: 105.45 Period MAE: 23.77\n",
      "It's underpredicted.\n",
      "Monthly Error: 55.94 Period MAE: 72.46000000000001\n"
     ]
    },
    {
     "name": "stderr",
     "output_type": "stream",
     "text": [
      "20:05:39 - cmdstanpy - INFO - Chain [1] start processing\n",
      "20:05:39 - cmdstanpy - INFO - Chain [1] done processing\n",
      "20:05:40 - cmdstanpy - INFO - Chain [1] start processing\n",
      "20:05:40 - cmdstanpy - INFO - Chain [1] done processing\n"
     ]
    },
    {
     "name": "stdout",
     "output_type": "stream",
     "text": [
      "It's overpredicted.\n",
      "Monthly Error: 105.45 Period MAE: 23.77\n"
     ]
    },
    {
     "name": "stderr",
     "output_type": "stream",
     "text": [
      "20:05:42 - cmdstanpy - INFO - Chain [1] start processing\n"
     ]
    },
    {
     "name": "stdout",
     "output_type": "stream",
     "text": [
      "It's underpredicted.\n",
      "Monthly Error: 55.94 Period MAE: 72.46000000000001\n"
     ]
    },
    {
     "name": "stderr",
     "output_type": "stream",
     "text": [
      "20:05:42 - cmdstanpy - INFO - Chain [1] done processing\n",
      "20:05:43 - cmdstanpy - INFO - Chain [1] done processing\n",
      "20:05:43 - cmdstanpy - INFO - Chain [1] start processing\n"
     ]
    },
    {
     "name": "stdout",
     "output_type": "stream",
     "text": [
      "It's overpredicted.\n",
      "Monthly Error: 103.29 Period MAE: 22.96\n",
      "It's underpredicted.\n",
      "Monthly Error: "
     ]
    },
    {
     "name": "stderr",
     "output_type": "stream",
     "text": [
      "20:05:44 - cmdstanpy - INFO - Chain [1] start processing\n"
     ]
    },
    {
     "name": "stdout",
     "output_type": "stream",
     "text": [
      "55.94 Period MAE: 72.46000000000001\n"
     ]
    },
    {
     "name": "stderr",
     "output_type": "stream",
     "text": [
      "20:05:44 - cmdstanpy - INFO - Chain [1] done processing\n",
      "20:05:46 - cmdstanpy - INFO - Chain [1] start processing\n",
      "20:05:46 - cmdstanpy - INFO - Chain [1] done processing\n"
     ]
    },
    {
     "name": "stdout",
     "output_type": "stream",
     "text": [
      "It's overpredicted.\n",
      "Monthly Error:It's underpredicted. \n",
      "103.29Monthly Error:  100.0Period MAE: Period MAE:  100.0\n",
      "22.96\n"
     ]
    },
    {
     "name": "stderr",
     "output_type": "stream",
     "text": [
      "20:05:47 - cmdstanpy - INFO - Chain [1] start processing\n",
      "20:05:47 - cmdstanpy - INFO - Chain [1] done processing\n",
      "20:05:48 - cmdstanpy - INFO - Chain [1] done processing\n",
      "20:05:48 - cmdstanpy - INFO - Chain [1] start processing\n"
     ]
    },
    {
     "name": "stdout",
     "output_type": "stream",
     "text": [
      "It's overpredicted.\n",
      "Monthly Error: 103.29 Period MAE: 22.96\n",
      "It's underpredicted.\n",
      "Monthly Error: 100.0 Period MAE: 100.0\n"
     ]
    },
    {
     "name": "stderr",
     "output_type": "stream",
     "text": [
      "20:05:49 - cmdstanpy - INFO - Chain [1] start processing\n",
      "20:05:50 - cmdstanpy - INFO - Chain [1] done processing\n",
      "20:05:50 - cmdstanpy - INFO - Chain [1] done processing\n",
      "20:05:51 - cmdstanpy - INFO - Chain [1] start processing\n"
     ]
    },
    {
     "name": "stdout",
     "output_type": "stream",
     "text": [
      "It's overpredicted.\n",
      "Monthly Error: 102.92 Period MAE: 22.79\n",
      "It's underpredicted.\n",
      "Monthly Error: 100.0 Period MAE: 100.0"
     ]
    },
    {
     "name": "stderr",
     "output_type": "stream",
     "text": [
      "20:05:52 - cmdstanpy - INFO - Chain [1] start processing\n"
     ]
    },
    {
     "name": "stdout",
     "output_type": "stream",
     "text": [
      "\n"
     ]
    },
    {
     "name": "stderr",
     "output_type": "stream",
     "text": [
      "20:05:52 - cmdstanpy - INFO - Chain [1] done processing\n",
      "20:05:54 - cmdstanpy - INFO - Chain [1] done processing\n",
      "20:05:54 - cmdstanpy - INFO - Chain [1] start processing\n"
     ]
    },
    {
     "name": "stdout",
     "output_type": "stream",
     "text": [
      "It's underpredicted.\n",
      "Monthly Error: 46.95 Period MAE: 55.169999999999995\n",
      "It's overpredicted.\n",
      "Monthly Error: 102.92  Period MAE:22.79\n"
     ]
    },
    {
     "name": "stderr",
     "output_type": "stream",
     "text": [
      "20:05:55 - cmdstanpy - INFO - Chain [1] start processing\n",
      "20:05:55 - cmdstanpy - INFO - Chain [1] done processing\n",
      "20:05:56 - cmdstanpy - INFO - Chain [1] start processing\n",
      "20:05:57 - cmdstanpy - INFO - Chain [1] done processing\n"
     ]
    },
    {
     "name": "stdout",
     "output_type": "stream",
     "text": [
      "It's underpredicted.\n",
      "Monthly Error: 46.95 Period MAE: 55.169999999999995\n",
      "It's overpredicted.\n",
      "Monthly Error: 102.92 Period MAE: 22.79\n"
     ]
    },
    {
     "name": "stderr",
     "output_type": "stream",
     "text": [
      "20:05:58 - cmdstanpy - INFO - Chain [1] start processing\n",
      "20:05:58 - cmdstanpy - INFO - Chain [1] done processing\n",
      "20:05:59 - cmdstanpy - INFO - Chain [1] done processing\n",
      "20:05:59 - cmdstanpy - INFO - Chain [1] start processing\n"
     ]
    },
    {
     "name": "stdout",
     "output_type": "stream",
     "text": [
      "It's overpredicted.\n",
      "Monthly Error: 101.94 Period MAE: 20.89\n",
      "It's underpredicted.\n",
      "Monthly Error: 46.95 Period MAE: 55.169999999999995\n"
     ]
    },
    {
     "name": "stderr",
     "output_type": "stream",
     "text": [
      "20:06:00 - cmdstanpy - INFO - Chain [1] start processing\n",
      "20:06:00 - cmdstanpy - INFO - Chain [1] done processing\n",
      "20:06:01 - cmdstanpy - INFO - Chain [1] start processing\n",
      "20:06:02 - cmdstanpy - INFO - Chain [1] done processing\n"
     ]
    },
    {
     "name": "stdout",
     "output_type": "stream",
     "text": [
      "It's underpredicted.\n",
      "Monthly Error: 46.94 Period MAE: 55.169999999999995\n",
      "It's overpredicted.\n",
      "Monthly Error: 101.94 Period MAE: "
     ]
    },
    {
     "name": "stderr",
     "output_type": "stream",
     "text": [
      "20:06:03 - cmdstanpy - INFO - Chain [1] start processing\n"
     ]
    },
    {
     "name": "stdout",
     "output_type": "stream",
     "text": [
      "20.89\n"
     ]
    },
    {
     "name": "stderr",
     "output_type": "stream",
     "text": [
      "20:06:04 - cmdstanpy - INFO - Chain [1] done processing\n",
      "20:06:04 - cmdstanpy - INFO - Chain [1] done processing\n"
     ]
    },
    {
     "name": "stdout",
     "output_type": "stream",
     "text": [
      "It's overpredicted.\n",
      "Monthly Error: 101.94 Period MAE: 20.89\n"
     ]
    },
    {
     "name": "stderr",
     "output_type": "stream",
     "text": [
      "20:06:05 - cmdstanpy - INFO - Chain [1] start processing\n",
      "20:06:06 - cmdstanpy - INFO - Chain [1] start processing\n",
      "20:06:06 - cmdstanpy - INFO - Chain [1] done processing\n"
     ]
    },
    {
     "name": "stdout",
     "output_type": "stream",
     "text": [
      "It's underpredicted.\n",
      "Monthly Error: 46.94 Period MAE: 55.169999999999995\n"
     ]
    },
    {
     "name": "stderr",
     "output_type": "stream",
     "text": [
      "20:06:07 - cmdstanpy - INFO - Chain [1] start processing\n",
      "20:06:08 - cmdstanpy - INFO - Chain [1] done processing\n"
     ]
    },
    {
     "name": "stdout",
     "output_type": "stream",
     "text": [
      "It's overpredicted.\n",
      "Monthly Error: 87.74 Period MAE: 9.049999999999999\n",
      "It's underpredicted.\n",
      "Monthly Error: 46.94 Period MAE: 55.169999999999995\n"
     ]
    },
    {
     "name": "stderr",
     "output_type": "stream",
     "text": [
      "20:06:09 - cmdstanpy - INFO - Chain [1] start processing\n",
      "20:06:10 - cmdstanpy - INFO - Chain [1] done processing\n",
      "20:06:10 - cmdstanpy - INFO - Chain [1] done processing\n",
      "20:06:11 - cmdstanpy - INFO - Chain [1] start processing\n"
     ]
    },
    {
     "name": "stdout",
     "output_type": "stream",
     "text": [
      "It's underpredicted.\n",
      "Monthly Error: 46.95 Period MAE: 55.169999999999995\n",
      "It's overpredicted.\n",
      "Monthly Error: 87.74 Period MAE: 9.049999999999999\n"
     ]
    },
    {
     "name": "stderr",
     "output_type": "stream",
     "text": [
      "20:06:11 - cmdstanpy - INFO - Chain [1] start processing\n",
      "20:06:12 - cmdstanpy - INFO - Chain [1] done processing\n",
      "20:06:13 - cmdstanpy - INFO - Chain [1] start processing\n",
      "20:06:13 - cmdstanpy - INFO - Chain [1] done processing\n"
     ]
    },
    {
     "name": "stdout",
     "output_type": "stream",
     "text": [
      "It's underpredicted.\n",
      "Monthly Error: 46.95 Period MAE: 55.169999999999995\n",
      "It's overpredicted.\n",
      "Monthly Error: 87.74"
     ]
    },
    {
     "name": "stderr",
     "output_type": "stream",
     "text": [
      "20:06:15 - cmdstanpy - INFO - Chain [1] start processing\n"
     ]
    },
    {
     "name": "stdout",
     "output_type": "stream",
     "text": [
      " Period MAE: 9.049999999999999\n"
     ]
    },
    {
     "name": "stderr",
     "output_type": "stream",
     "text": [
      "20:06:15 - cmdstanpy - INFO - Chain [1] done processing\n",
      "20:06:15 - cmdstanpy - INFO - Chain [1] done processing\n"
     ]
    },
    {
     "name": "stdout",
     "output_type": "stream",
     "text": [
      "It's overpredicted.\n",
      "Monthly Error: 106.9 Period MAE: 25.490000000000002\n"
     ]
    },
    {
     "name": "stderr",
     "output_type": "stream",
     "text": [
      "20:06:16 - cmdstanpy - INFO - Chain [1] start processing\n",
      "20:06:16 - cmdstanpy - INFO - Chain [1] start processing\n"
     ]
    },
    {
     "name": "stdout",
     "output_type": "stream",
     "text": [
      "It's underpredicted."
     ]
    },
    {
     "name": "stderr",
     "output_type": "stream",
     "text": [
      "20:06:16 - cmdstanpy - INFO - Chain [1] done processing\n"
     ]
    },
    {
     "name": "stdout",
     "output_type": "stream",
     "text": [
      "\n",
      "Monthly Error: 46.95 Period MAE: 55.169999999999995\n"
     ]
    },
    {
     "name": "stderr",
     "output_type": "stream",
     "text": [
      "20:06:18 - cmdstanpy - INFO - Chain [1] start processing\n",
      "20:06:18 - cmdstanpy - INFO - Chain [1] done processing\n"
     ]
    },
    {
     "name": "stdout",
     "output_type": "stream",
     "text": [
      "It's overpredicted.\n",
      "Monthly Error: 106.9 Period MAE: 25.490000000000002\n"
     ]
    },
    {
     "name": "stderr",
     "output_type": "stream",
     "text": [
      "20:06:19 - cmdstanpy - INFO - Chain [1] start processing\n"
     ]
    },
    {
     "name": "stdout",
     "output_type": "stream",
     "text": [
      "It's underpredicted.\n",
      "Monthly Error: 100.0 Period MAE: 100.0\n"
     ]
    },
    {
     "name": "stderr",
     "output_type": "stream",
     "text": [
      "20:06:20 - cmdstanpy - INFO - Chain [1] done processing\n",
      "20:06:20 - cmdstanpy - INFO - Chain [1] done processing\n"
     ]
    },
    {
     "name": "stdout",
     "output_type": "stream",
     "text": [
      "It's overpredicted.\n",
      "Monthly Error: 106.9 Period MAE: 25.490000000000002\n",
      "It's underpredicted.\n",
      "Monthly Error: 100.0 Period MAE: 100.0\n"
     ]
    },
    {
     "name": "stderr",
     "output_type": "stream",
     "text": [
      "20:06:21 - cmdstanpy - INFO - Chain [1] start processing\n",
      "20:06:21 - cmdstanpy - INFO - Chain [1] start processing\n",
      "20:06:22 - cmdstanpy - INFO - Chain [1] done processing\n",
      "20:06:23 - cmdstanpy - INFO - Chain [1] start processing\n"
     ]
    },
    {
     "name": "stdout",
     "output_type": "stream",
     "text": [
      "It's underpredicted.\n",
      "Monthly Error: 100.0 Period MAE: 100.0\n"
     ]
    },
    {
     "name": "stderr",
     "output_type": "stream",
     "text": [
      "20:06:24 - cmdstanpy - INFO - Chain [1] done processing\n",
      "20:06:24 - cmdstanpy - INFO - Chain [1] start processing\n",
      "20:06:25 - cmdstanpy - INFO - Chain [1] done processing\n"
     ]
    },
    {
     "name": "stdout",
     "output_type": "stream",
     "text": [
      "It's overpredicted.\n",
      "Monthly Error: 104.04 Period MAE: 22.32\n"
     ]
    },
    {
     "name": "stderr",
     "output_type": "stream",
     "text": [
      "20:06:26 - cmdstanpy - INFO - Chain [1] done processing\n"
     ]
    },
    {
     "name": "stdout",
     "output_type": "stream",
     "text": [
      "It's underpredicted.\n",
      "Monthly Error: 55.94"
     ]
    },
    {
     "name": "stderr",
     "output_type": "stream",
     "text": [
      "20:06:26 - cmdstanpy - INFO - Chain [1] start processing\n"
     ]
    },
    {
     "name": "stdout",
     "output_type": "stream",
     "text": [
      " Period MAE: 72.46000000000001\n",
      "It's overpredicted.\n",
      "Monthly Error: 104.04 Period MAE: 22.32\n"
     ]
    },
    {
     "name": "stderr",
     "output_type": "stream",
     "text": [
      "20:06:27 - cmdstanpy - INFO - Chain [1] start processing\n",
      "20:06:27 - cmdstanpy - INFO - Chain [1] done processing\n",
      "20:06:28 - cmdstanpy - INFO - Chain [1] start processing\n"
     ]
    },
    {
     "name": "stdout",
     "output_type": "stream",
     "text": [
      "It's underpredicted.\n",
      "Monthly Error: 55.94 Period MAE: 72.46000000000001\n"
     ]
    },
    {
     "name": "stderr",
     "output_type": "stream",
     "text": [
      "20:06:29 - cmdstanpy - INFO - Chain [1] start processing\n",
      "20:06:29 - cmdstanpy - INFO - Chain [1] done processing\n",
      "20:06:29 - cmdstanpy - INFO - Chain [1] done processing\n"
     ]
    },
    {
     "name": "stdout",
     "output_type": "stream",
     "text": [
      "It's overpredicted.\n",
      "Monthly Error: 104.04 Period MAE: 22.32\n"
     ]
    },
    {
     "name": "stderr",
     "output_type": "stream",
     "text": [
      "20:06:31 - cmdstanpy - INFO - Chain [1] done processing\n"
     ]
    },
    {
     "name": "stdout",
     "output_type": "stream",
     "text": [
      "It's underpredicted.\n",
      "Monthly Error: 55.94 Period MAE: 72.46000000000001\n"
     ]
    },
    {
     "name": "stderr",
     "output_type": "stream",
     "text": [
      "20:06:32 - cmdstanpy - INFO - Chain [1] start processing\n"
     ]
    },
    {
     "name": "stdout",
     "output_type": "stream",
     "text": [
      "It's overpredicted.\n",
      "Monthly Error: 102.64 Period MAE: 22.27\n"
     ]
    },
    {
     "name": "stderr",
     "output_type": "stream",
     "text": [
      "20:06:32 - cmdstanpy - INFO - Chain [1] start processing\n",
      "20:06:33 - cmdstanpy - INFO - Chain [1] done processing\n",
      "20:06:34 - cmdstanpy - INFO - Chain [1] start processing\n"
     ]
    },
    {
     "name": "stdout",
     "output_type": "stream",
     "text": [
      "It's underpredicted.\n",
      "Monthly Error: 100.0 Period MAE: 100.0\n"
     ]
    },
    {
     "name": "stderr",
     "output_type": "stream",
     "text": [
      "20:06:34 - cmdstanpy - INFO - Chain [1] start processing\n",
      "20:06:35 - cmdstanpy - INFO - Chain [1] done processing\n",
      "20:06:35 - cmdstanpy - INFO - Chain [1] done processing\n"
     ]
    },
    {
     "name": "stdout",
     "output_type": "stream",
     "text": [
      "It's overpredicted.\n",
      "Monthly Error: 102.64 Period MAE: 22.27\n"
     ]
    },
    {
     "name": "stderr",
     "output_type": "stream",
     "text": [
      "20:06:37 - cmdstanpy - INFO - Chain [1] done processing\n"
     ]
    },
    {
     "name": "stdout",
     "output_type": "stream",
     "text": [
      "It's underpredicted.\n",
      "Monthly Error: 100.0 Period MAE: 100.0\n"
     ]
    },
    {
     "name": "stderr",
     "output_type": "stream",
     "text": [
      "20:06:38 - cmdstanpy - INFO - Chain [1] start processing\n"
     ]
    },
    {
     "name": "stdout",
     "output_type": "stream",
     "text": [
      "It's overpredicted.\n",
      "Monthly Error: 102.64 Period MAE: 22.27\n"
     ]
    },
    {
     "name": "stderr",
     "output_type": "stream",
     "text": [
      "20:06:38 - cmdstanpy - INFO - Chain [1] start processing\n",
      "20:06:38 - cmdstanpy - INFO - Chain [1] done processing\n"
     ]
    },
    {
     "name": "stdout",
     "output_type": "stream",
     "text": [
      "It's underpredicted.\n",
      "Monthly Error: 100.0 Period MAE: 100.0"
     ]
    },
    {
     "name": "stderr",
     "output_type": "stream",
     "text": [
      "20:06:39 - cmdstanpy - INFO - Chain [1] start processing\n"
     ]
    },
    {
     "name": "stdout",
     "output_type": "stream",
     "text": [
      "\n"
     ]
    },
    {
     "name": "stderr",
     "output_type": "stream",
     "text": [
      "20:06:40 - cmdstanpy - INFO - Chain [1] start processing\n",
      "20:06:40 - cmdstanpy - INFO - Chain [1] done processing\n",
      "20:06:40 - cmdstanpy - INFO - Chain [1] done processing\n"
     ]
    },
    {
     "name": "stdout",
     "output_type": "stream",
     "text": [
      "It's overpredicted.\n",
      "Monthly Error: 102.95 Period MAE: 22.689999999999998\n"
     ]
    },
    {
     "name": "stderr",
     "output_type": "stream",
     "text": [
      "20:06:42 - cmdstanpy - INFO - Chain [1] done processing\n"
     ]
    },
    {
     "name": "stdout",
     "output_type": "stream",
     "text": [
      "It's underpredicted.\n",
      "Monthly Error: 46.84 Period MAE: 55.08\n"
     ]
    },
    {
     "name": "stderr",
     "output_type": "stream",
     "text": [
      "20:06:43 - cmdstanpy - INFO - Chain [1] start processing\n"
     ]
    },
    {
     "name": "stdout",
     "output_type": "stream",
     "text": [
      "It's overpredicted.\n"
     ]
    },
    {
     "name": "stderr",
     "output_type": "stream",
     "text": [
      "20:06:43 - cmdstanpy - INFO - Chain [1] start processing\n"
     ]
    },
    {
     "name": "stdout",
     "output_type": "stream",
     "text": [
      "Monthly Error: 102.95 Period MAE: 22.689999999999998\n"
     ]
    },
    {
     "name": "stderr",
     "output_type": "stream",
     "text": [
      "20:06:43 - cmdstanpy - INFO - Chain [1] done processing\n"
     ]
    },
    {
     "name": "stdout",
     "output_type": "stream",
     "text": [
      "It's underpredicted.\n",
      "Monthly Error: 46.84 Period MAE: 55.08\n"
     ]
    },
    {
     "name": "stderr",
     "output_type": "stream",
     "text": [
      "20:06:45 - cmdstanpy - INFO - Chain [1] start processing\n",
      "20:06:45 - cmdstanpy - INFO - Chain [1] start processing\n",
      "20:06:45 - cmdstanpy - INFO - Chain [1] done processing\n",
      "20:06:46 - cmdstanpy - INFO - Chain [1] done processing\n"
     ]
    },
    {
     "name": "stdout",
     "output_type": "stream",
     "text": [
      "It's overpredicted.\n",
      "Monthly Error: 102.95 Period MAE: 22.689999999999998\n",
      "It's underpredicted.\n",
      "Monthly Error: 46.84 Period MAE: 55.08\n"
     ]
    },
    {
     "name": "stderr",
     "output_type": "stream",
     "text": [
      "20:06:48 - cmdstanpy - INFO - Chain [1] done processing\n",
      "20:06:48 - cmdstanpy - INFO - Chain [1] start processing\n",
      "20:06:48 - cmdstanpy - INFO - Chain [1] start processing\n",
      "20:06:49 - cmdstanpy - INFO - Chain [1] done processing\n"
     ]
    },
    {
     "name": "stdout",
     "output_type": "stream",
     "text": [
      "It's overpredicted.\n",
      "Monthly Error: 101.88 Period MAE: 20.13\n",
      "It's underpredicted.\n",
      "Monthly Error: 46.57 Period MAE: 54.879999999999995\n"
     ]
    },
    {
     "name": "stderr",
     "output_type": "stream",
     "text": [
      "20:06:50 - cmdstanpy - INFO - Chain [1] start processing\n",
      "20:06:50 - cmdstanpy - INFO - Chain [1] start processing\n",
      "20:06:51 - cmdstanpy - INFO - Chain [1] done processing\n",
      "20:06:51 - cmdstanpy - INFO - Chain [1] done processing\n"
     ]
    },
    {
     "name": "stdout",
     "output_type": "stream",
     "text": [
      "It's overpredicted.\n",
      "Monthly Error: 101.88 Period MAE: 20.13\n",
      "It's underpredicted.\n",
      "Monthly Error: 46.57 Period MAE: 54.879999999999995\n"
     ]
    },
    {
     "name": "stderr",
     "output_type": "stream",
     "text": [
      "20:06:53 - cmdstanpy - INFO - Chain [1] done processing\n",
      "20:06:54 - cmdstanpy - INFO - Chain [1] start processing\n",
      "20:06:54 - cmdstanpy - INFO - Chain [1] start processing\n",
      "20:06:54 - cmdstanpy - INFO - Chain [1] done processing\n"
     ]
    },
    {
     "name": "stdout",
     "output_type": "stream",
     "text": [
      "It's overpredicted.\n",
      "Monthly Error: 101.88 Period MAE: 20.13\n",
      "It's underpredicted.\n",
      "Monthly Error: 46.57 Period MAE: 54.879999999999995\n"
     ]
    },
    {
     "name": "stderr",
     "output_type": "stream",
     "text": [
      "20:06:56 - cmdstanpy - INFO - Chain [1] start processing\n",
      "20:06:57 - cmdstanpy - INFO - Chain [1] done processing\n",
      "20:06:57 - cmdstanpy - INFO - Chain [1] start processing\n",
      "20:06:57 - cmdstanpy - INFO - Chain [1] done processing\n"
     ]
    },
    {
     "name": "stdout",
     "output_type": "stream",
     "text": [
      "It's overpredicted.\n",
      "Monthly Error: 99.63 Period MAE: 16.830000000000002\n",
      "It's underpredicted.\n",
      "Monthly Error: 46.59 Period MAE: 54.89000000000001\n"
     ]
    },
    {
     "name": "stderr",
     "output_type": "stream",
     "text": [
      "20:06:59 - cmdstanpy - INFO - Chain [1] done processing\n",
      "20:06:59 - cmdstanpy - INFO - Chain [1] start processing\n",
      "20:06:59 - cmdstanpy - INFO - Chain [1] start processing\n",
      "20:07:00 - cmdstanpy - INFO - Chain [1] done processing\n"
     ]
    },
    {
     "name": "stdout",
     "output_type": "stream",
     "text": [
      "It's overpredicted.\n",
      "Monthly Error: 99.63 Period MAE: 16.830000000000002\n",
      "It's underpredicted.\n",
      "Monthly Error: 46.59 Period MAE: 54.89000000000001\n"
     ]
    },
    {
     "name": "stderr",
     "output_type": "stream",
     "text": [
      "20:07:02 - cmdstanpy - INFO - Chain [1] start processing\n",
      "20:07:02 - cmdstanpy - INFO - Chain [1] done processing\n",
      "20:07:02 - cmdstanpy - INFO - Chain [1] start processing\n",
      "20:07:02 - cmdstanpy - INFO - Chain [1] done processing\n"
     ]
    },
    {
     "name": "stdout",
     "output_type": "stream",
     "text": [
      "It's overpredicted.\n",
      "Monthly Error: 99.63 Period MAE: 16.830000000000002\n",
      "It's underpredicted.\n",
      "Monthly Error: 46.59 Period MAE: 54.89000000000001\n"
     ]
    },
    {
     "name": "stderr",
     "output_type": "stream",
     "text": [
      "20:07:05 - cmdstanpy - INFO - Chain [1] done processing\n",
      "20:07:05 - cmdstanpy - INFO - Chain [1] start processing\n",
      "20:07:06 - cmdstanpy - INFO - Chain [1] start processing\n"
     ]
    },
    {
     "name": "stdout",
     "output_type": "stream",
     "text": [
      "It's overpredicted.\n",
      "Monthly Error: 108.4 Period MAE: 26.46"
     ]
    },
    {
     "name": "stderr",
     "output_type": "stream",
     "text": [
      "20:07:06 - cmdstanpy - INFO - Chain [1] done processing\n"
     ]
    },
    {
     "name": "stdout",
     "output_type": "stream",
     "text": [
      "\n",
      "It's underpredicted.\n",
      "Monthly Error: 100.0 "
     ]
    },
    {
     "name": "stderr",
     "output_type": "stream",
     "text": [
      "20:07:07 - cmdstanpy - INFO - Chain [1] start processing\n"
     ]
    },
    {
     "name": "stdout",
     "output_type": "stream",
     "text": [
      "Period MAE: 100.0\n"
     ]
    },
    {
     "name": "stderr",
     "output_type": "stream",
     "text": [
      "20:07:08 - cmdstanpy - INFO - Chain [1] start processing\n",
      "20:07:08 - cmdstanpy - INFO - Chain [1] done processing\n",
      "20:07:08 - cmdstanpy - INFO - Chain [1] done processing\n"
     ]
    },
    {
     "name": "stdout",
     "output_type": "stream",
     "text": [
      "It's overpredicted.\n",
      "Monthly Error: 108.4 Period MAE: 26.46\n"
     ]
    },
    {
     "name": "stderr",
     "output_type": "stream",
     "text": [
      "20:07:10 - cmdstanpy - INFO - Chain [1] done processing\n"
     ]
    },
    {
     "name": "stdout",
     "output_type": "stream",
     "text": [
      "It's underpredicted.\n",
      "Monthly Error: 100.0 Period MAE: 100.0\n"
     ]
    },
    {
     "name": "stderr",
     "output_type": "stream",
     "text": [
      "20:07:10 - cmdstanpy - INFO - Chain [1] start processing\n"
     ]
    },
    {
     "name": "stdout",
     "output_type": "stream",
     "text": [
      "It's overpredicted.\n"
     ]
    },
    {
     "name": "stderr",
     "output_type": "stream",
     "text": [
      "20:07:11 - cmdstanpy - INFO - Chain [1] start processing\n"
     ]
    },
    {
     "name": "stdout",
     "output_type": "stream",
     "text": [
      "Monthly Error: 108.4 Period MAE: 26.46\n"
     ]
    },
    {
     "name": "stderr",
     "output_type": "stream",
     "text": [
      "20:07:11 - cmdstanpy - INFO - Chain [1] done processing\n",
      "20:07:12 - cmdstanpy - INFO - Chain [1] start processing\n"
     ]
    },
    {
     "name": "stdout",
     "output_type": "stream",
     "text": [
      "It's underpredicted.\n",
      "Monthly Error: 100.0 Period MAE: 100.0\n"
     ]
    },
    {
     "name": "stderr",
     "output_type": "stream",
     "text": [
      "20:07:13 - cmdstanpy - INFO - Chain [1] start processing\n",
      "20:07:13 - cmdstanpy - INFO - Chain [1] done processing\n",
      "20:07:13 - cmdstanpy - INFO - Chain [1] done processing\n"
     ]
    },
    {
     "name": "stdout",
     "output_type": "stream",
     "text": [
      "It's overpredicted.\n",
      "Monthly Error: 108.43 Period MAE: 26.540000000000003\n"
     ]
    },
    {
     "name": "stderr",
     "output_type": "stream",
     "text": [
      "20:07:15 - cmdstanpy - INFO - Chain [1] done processing\n"
     ]
    },
    {
     "name": "stdout",
     "output_type": "stream",
     "text": [
      "It's underpredicted.\n",
      "Monthly Error: 60.09 Period MAE: 75.06\n"
     ]
    },
    {
     "name": "stderr",
     "output_type": "stream",
     "text": [
      "20:07:16 - cmdstanpy - INFO - Chain [1] start processing\n",
      "20:07:16 - cmdstanpy - INFO - Chain [1] start processing\n"
     ]
    },
    {
     "name": "stdout",
     "output_type": "stream",
     "text": [
      "It's overpredicted.\n",
      "Monthly Error: 108.43 Period MAE: 26.540000000000003\n"
     ]
    },
    {
     "name": "stderr",
     "output_type": "stream",
     "text": [
      "20:07:16 - cmdstanpy - INFO - Chain [1] done processing\n"
     ]
    },
    {
     "name": "stdout",
     "output_type": "stream",
     "text": [
      "It's underpredicted.\n",
      "Monthly Error: 60.09 Period MAE: 75.06\n"
     ]
    },
    {
     "name": "stderr",
     "output_type": "stream",
     "text": [
      "20:07:18 - cmdstanpy - INFO - Chain [1] start processing\n",
      "20:07:18 - cmdstanpy - INFO - Chain [1] start processing\n",
      "20:07:19 - cmdstanpy - INFO - Chain [1] done processing\n"
     ]
    },
    {
     "name": "stdout",
     "output_type": "stream",
     "text": [
      "It's overpredicted.\n",
      "Monthly Error: 108.43 Period MAE: 26.540000000000003\n"
     ]
    },
    {
     "name": "stderr",
     "output_type": "stream",
     "text": [
      "20:07:20 - cmdstanpy - INFO - Chain [1] done processing\n"
     ]
    },
    {
     "name": "stdout",
     "output_type": "stream",
     "text": [
      "It's underpredicted."
     ]
    },
    {
     "name": "stderr",
     "output_type": "stream",
     "text": [
      "20:07:21 - cmdstanpy - INFO - Chain [1] done processing\n"
     ]
    },
    {
     "name": "stdout",
     "output_type": "stream",
     "text": [
      "\n",
      "Monthly Error: 60.09 Period MAE: 75.06\n"
     ]
    },
    {
     "name": "stderr",
     "output_type": "stream",
     "text": [
      "20:07:21 - cmdstanpy - INFO - Chain [1] start processing\n"
     ]
    },
    {
     "name": "stdout",
     "output_type": "stream",
     "text": [
      "It's overpredicted.\n",
      "Monthly Error: 107.05 Period MAE: 26.13\n"
     ]
    },
    {
     "name": "stderr",
     "output_type": "stream",
     "text": [
      "20:07:21 - cmdstanpy - INFO - Chain [1] start processing\n",
      "20:07:23 - cmdstanpy - INFO - Chain [1] start processing\n",
      "20:07:24 - cmdstanpy - INFO - Chain [1] done processing\n",
      "20:07:24 - cmdstanpy - INFO - Chain [1] done processing\n"
     ]
    },
    {
     "name": "stdout",
     "output_type": "stream",
     "text": [
      "It's overpredicted.\n",
      "Monthly Error: 107.05 Period MAE: 26.13\n",
      "It's underpredicted.\n",
      "Monthly Error: 100.0 "
     ]
    },
    {
     "name": "stderr",
     "output_type": "stream",
     "text": [
      "20:07:25 - cmdstanpy - INFO - Chain [1] start processing\n"
     ]
    },
    {
     "name": "stdout",
     "output_type": "stream",
     "text": [
      "Period MAE: 100.0\n"
     ]
    },
    {
     "name": "stderr",
     "output_type": "stream",
     "text": [
      "20:07:25 - cmdstanpy - INFO - Chain [1] done processing\n"
     ]
    },
    {
     "name": "stdout",
     "output_type": "stream",
     "text": [
      "It's overpredicted.\n",
      " 107.05Monthly Error: Period MAE: 26.13\n"
     ]
    },
    {
     "name": "stderr",
     "output_type": "stream",
     "text": [
      "20:07:27 - cmdstanpy - INFO - Chain [1] start processing\n",
      "20:07:27 - cmdstanpy - INFO - Chain [1] start processing\n",
      "20:07:27 - cmdstanpy - INFO - Chain [1] done processing\n",
      "20:07:28 - cmdstanpy - INFO - Chain [1] done processing\n"
     ]
    },
    {
     "name": "stdout",
     "output_type": "stream",
     "text": [
      "It's underpredicted.\n",
      "Monthly Error: 100.0 Period MAE: 100.0\n"
     ]
    },
    {
     "name": "stderr",
     "output_type": "stream",
     "text": [
      "20:07:29 - cmdstanpy - INFO - Chain [1] done processing\n",
      "20:07:30 - cmdstanpy - INFO - Chain [1] start processing\n"
     ]
    },
    {
     "name": "stdout",
     "output_type": "stream",
     "text": [
      "It's overpredicted.\n",
      "Monthly Error: 102.95 Period MAE: 22.689999999999998\n"
     ]
    },
    {
     "name": "stderr",
     "output_type": "stream",
     "text": [
      "20:07:31 - cmdstanpy - INFO - Chain [1] start processing\n",
      "20:07:31 - cmdstanpy - INFO - Chain [1] done processing\n"
     ]
    },
    {
     "name": "stdout",
     "output_type": "stream",
     "text": [
      "It's underpredicted.\n",
      "Monthly Error: 46.84 Period MAE: 55.08\n"
     ]
    },
    {
     "name": "stderr",
     "output_type": "stream",
     "text": [
      "20:07:32 - cmdstanpy - INFO - Chain [1] done processing\n"
     ]
    },
    {
     "name": "stdout",
     "output_type": "stream",
     "text": [
      "It's underpredicted.\n",
      "Monthly Error: 100.0 Period MAE: 100.0\n",
      "It's overpredicted.\n",
      "Monthly Error: 102.95 Period MAE: 22.689999999999998\n"
     ]
    },
    {
     "name": "stderr",
     "output_type": "stream",
     "text": [
      "20:07:33 - cmdstanpy - INFO - Chain [1] start processing\n",
      "20:07:33 - cmdstanpy - INFO - Chain [1] start processing\n",
      "20:07:34 - cmdstanpy - INFO - Chain [1] done processing\n",
      "20:07:35 - cmdstanpy - INFO - Chain [1] start processing\n"
     ]
    },
    {
     "name": "stdout",
     "output_type": "stream",
     "text": [
      "It's underpredicted.\n",
      "Monthly Error: 46.84 Period MAE: 55.08\n"
     ]
    },
    {
     "name": "stderr",
     "output_type": "stream",
     "text": [
      "20:07:35 - cmdstanpy - INFO - Chain [1] start processing\n",
      "20:07:36 - cmdstanpy - INFO - Chain [1] done processing\n",
      "20:07:36 - cmdstanpy - INFO - Chain [1] done processing\n"
     ]
    },
    {
     "name": "stdout",
     "output_type": "stream",
     "text": [
      "It's overpredicted.\n",
      "Monthly Error: 102.95 Period MAE: 22.689999999999998\n"
     ]
    },
    {
     "name": "stderr",
     "output_type": "stream",
     "text": [
      "20:07:37 - cmdstanpy - INFO - Chain [1] done processing\n"
     ]
    },
    {
     "name": "stdout",
     "output_type": "stream",
     "text": [
      "It's underpredicted.\n",
      "Monthly Error: 46.84 Period MAE: 55.08\n",
      "It's overpredicted.\n",
      "Monthly Error: 101.07 Period MAE:"
     ]
    },
    {
     "name": "stderr",
     "output_type": "stream",
     "text": [
      "20:07:38 - cmdstanpy - INFO - Chain [1] start processing\n"
     ]
    },
    {
     "name": "stdout",
     "output_type": "stream",
     "text": [
      " 19.84\n"
     ]
    },
    {
     "name": "stderr",
     "output_type": "stream",
     "text": [
      "20:07:39 - cmdstanpy - INFO - Chain [1] start processing\n",
      "20:07:39 - cmdstanpy - INFO - Chain [1] done processing\n",
      "20:07:40 - cmdstanpy - INFO - Chain [1] start processing\n"
     ]
    },
    {
     "name": "stdout",
     "output_type": "stream",
     "text": [
      "It's underpredicted.\n",
      "Monthly Error: 46.83 Period MAE: 55.08\n"
     ]
    },
    {
     "name": "stderr",
     "output_type": "stream",
     "text": [
      "20:07:41 - cmdstanpy - INFO - Chain [1] start processing\n",
      "20:07:41 - cmdstanpy - INFO - Chain [1] done processing\n",
      "20:07:41 - cmdstanpy - INFO - Chain [1] done processing\n"
     ]
    },
    {
     "name": "stdout",
     "output_type": "stream",
     "text": [
      "It's overpredicted.\n",
      "Monthly Error: 101.07 Period MAE: 19.84\n"
     ]
    },
    {
     "name": "stderr",
     "output_type": "stream",
     "text": [
      "20:07:42 - cmdstanpy - INFO - Chain [1] done processing\n"
     ]
    },
    {
     "name": "stdout",
     "output_type": "stream",
     "text": [
      "It's overpredicted.\n",
      "Monthly Error: 101.07 Period MAE: 19.84\n",
      "It's underpredicted.\n",
      "Monthly Error: 46.83 Period MAE: "
     ]
    },
    {
     "name": "stderr",
     "output_type": "stream",
     "text": [
      "20:07:43 - cmdstanpy - INFO - Chain [1] start processing\n"
     ]
    },
    {
     "name": "stdout",
     "output_type": "stream",
     "text": [
      "55.08\n"
     ]
    },
    {
     "name": "stderr",
     "output_type": "stream",
     "text": [
      "20:07:43 - cmdstanpy - INFO - Chain [1] start processing\n",
      "20:07:44 - cmdstanpy - INFO - Chain [1] done processing\n",
      "20:07:45 - cmdstanpy - INFO - Chain [1] start processing\n"
     ]
    },
    {
     "name": "stdout",
     "output_type": "stream",
     "text": [
      "It's underpredicted.\n",
      "Monthly Error: 46.83 Period MAE: 55.08\n"
     ]
    },
    {
     "name": "stderr",
     "output_type": "stream",
     "text": [
      "20:07:46 - cmdstanpy - INFO - Chain [1] done processing\n",
      "20:07:46 - cmdstanpy - INFO - Chain [1] start processing\n",
      "20:07:46 - cmdstanpy - INFO - Chain [1] done processing\n"
     ]
    },
    {
     "name": "stdout",
     "output_type": "stream",
     "text": [
      "It's overpredicted.\n",
      "Monthly Error: 88.62 Period MAE: 9.42\n"
     ]
    },
    {
     "name": "stderr",
     "output_type": "stream",
     "text": [
      "20:07:47 - cmdstanpy - INFO - Chain [1] done processing\n"
     ]
    },
    {
     "name": "stdout",
     "output_type": "stream",
     "text": [
      "It's overpredicted.\n",
      "Monthly Error: 88.62 Period MAE: 9.42\n",
      "It's underpredicted.\n",
      "Monthly Error: 46.77 Period MAE: 55.03\n"
     ]
    },
    {
     "name": "stderr",
     "output_type": "stream",
     "text": [
      "20:07:48 - cmdstanpy - INFO - Chain [1] start processing\n",
      "20:07:49 - cmdstanpy - INFO - Chain [1] start processing\n",
      "20:07:49 - cmdstanpy - INFO - Chain [1] done processing\n",
      "20:07:50 - cmdstanpy - INFO - Chain [1] start processing\n"
     ]
    },
    {
     "name": "stdout",
     "output_type": "stream",
     "text": [
      "It's underpredicted.\n",
      "Monthly Error: 46.77 Period MAE: 55.03"
     ]
    },
    {
     "name": "stderr",
     "output_type": "stream",
     "text": [
      "20:07:51 - cmdstanpy - INFO - Chain [1] done processing\n"
     ]
    },
    {
     "name": "stdout",
     "output_type": "stream",
     "text": [
      "\n"
     ]
    },
    {
     "name": "stderr",
     "output_type": "stream",
     "text": [
      "20:07:51 - cmdstanpy - INFO - Chain [1] start processing\n",
      "20:07:52 - cmdstanpy - INFO - Chain [1] done processing\n"
     ]
    },
    {
     "name": "stdout",
     "output_type": "stream",
     "text": [
      "It's overpredicted.\n",
      "Monthly Error: 88.62 Period MAE: 9.42\n"
     ]
    },
    {
     "name": "stderr",
     "output_type": "stream",
     "text": [
      "20:07:53 - cmdstanpy - INFO - Chain [1] done processing\n",
      "20:07:53 - cmdstanpy - INFO - Chain [1] start processing\n"
     ]
    },
    {
     "name": "stdout",
     "output_type": "stream",
     "text": [
      "It's overpredicted.\n",
      "Monthly Error: 108.4 Period MAE: 26.46\n",
      "It's underpredicted.\n",
      "Monthly Error: 46.77"
     ]
    },
    {
     "name": "stderr",
     "output_type": "stream",
     "text": [
      "20:07:54 - cmdstanpy - INFO - Chain [1] start processing\n"
     ]
    },
    {
     "name": "stdout",
     "output_type": "stream",
     "text": [
      " Period MAE: 55.03\n"
     ]
    },
    {
     "name": "stderr",
     "output_type": "stream",
     "text": [
      "20:07:54 - cmdstanpy - INFO - Chain [1] done processing\n",
      "20:07:55 - cmdstanpy - INFO - Chain [1] start processing\n",
      "20:07:56 - cmdstanpy - INFO - Chain [1] done processing\n"
     ]
    },
    {
     "name": "stdout",
     "output_type": "stream",
     "text": [
      "It's underpredicted.\n",
      "Monthly Error: 100.0 Period MAE: 100.0\n"
     ]
    },
    {
     "name": "stderr",
     "output_type": "stream",
     "text": [
      "20:07:57 - cmdstanpy - INFO - Chain [1] start processing\n"
     ]
    },
    {
     "name": "stdout",
     "output_type": "stream",
     "text": [
      "It's overpredicted.\n",
      "Monthly Error: 108.4 Period MAE: 26.46\n"
     ]
    },
    {
     "name": "stderr",
     "output_type": "stream",
     "text": [
      "20:07:57 - cmdstanpy - INFO - Chain [1] done processing\n",
      "20:07:59 - cmdstanpy - INFO - Chain [1] start processing\n",
      "20:07:59 - cmdstanpy - INFO - Chain [1] done processing\n"
     ]
    },
    {
     "name": "stdout",
     "output_type": "stream",
     "text": [
      "It's underpredicted.\n",
      "Monthly Error: 100.0 Period MAE: 100.0\n",
      "It's overpredicted.\n",
      "Monthly Error: 108.4"
     ]
    },
    {
     "name": "stderr",
     "output_type": "stream",
     "text": [
      "20:08:00 - cmdstanpy - INFO - Chain [1] start processing\n"
     ]
    },
    {
     "name": "stdout",
     "output_type": "stream",
     "text": [
      " Period MAE: 26.46\n"
     ]
    },
    {
     "name": "stderr",
     "output_type": "stream",
     "text": [
      "20:08:00 - cmdstanpy - INFO - Chain [1] done processing\n",
      "20:08:02 - cmdstanpy - INFO - Chain [1] start processing\n"
     ]
    },
    {
     "name": "stdout",
     "output_type": "stream",
     "text": [
      "It's underpredicted.\n",
      "Monthly Error: 100.0 Period MAE: 100.0\n"
     ]
    },
    {
     "name": "stderr",
     "output_type": "stream",
     "text": [
      "20:08:03 - cmdstanpy - INFO - Chain [1] done processing\n",
      "20:08:03 - cmdstanpy - INFO - Chain [1] start processing\n",
      "20:08:03 - cmdstanpy - INFO - Chain [1] done processing\n"
     ]
    },
    {
     "name": "stdout",
     "output_type": "stream",
     "text": [
      "It's overpredicted.\n",
      "Monthly Error: 108.08 Period MAE: 26.71\n"
     ]
    },
    {
     "name": "stderr",
     "output_type": "stream",
     "text": [
      "20:08:05 - cmdstanpy - INFO - Chain [1] start processing\n",
      "20:08:06 - cmdstanpy - INFO - Chain [1] done processing\n"
     ]
    },
    {
     "name": "stdout",
     "output_type": "stream",
     "text": [
      "It's underpredicted.\n",
      "Monthly Error: 56.0 Period MAE: 72.49\n"
     ]
    },
    {
     "name": "stderr",
     "output_type": "stream",
     "text": [
      "20:08:07 - cmdstanpy - INFO - Chain [1] start processing\n"
     ]
    },
    {
     "name": "stdout",
     "output_type": "stream",
     "text": [
      "It's overpredicted.\n",
      "Monthly Error: 108.08 Period MAE: 26.71\n"
     ]
    },
    {
     "name": "stderr",
     "output_type": "stream",
     "text": [
      "20:08:07 - cmdstanpy - INFO - Chain [1] done processing\n"
     ]
    },
    {
     "name": "stdout",
     "output_type": "stream",
     "text": [
      "It's underpredicted.\n",
      "Monthly Error: 56.0 Period MAE: 72.49\n"
     ]
    },
    {
     "name": "stderr",
     "output_type": "stream",
     "text": [
      "20:08:08 - cmdstanpy - INFO - Chain [1] start processing\n",
      "20:08:09 - cmdstanpy - INFO - Chain [1] start processing\n",
      "20:08:09 - cmdstanpy - INFO - Chain [1] done processing\n",
      "20:08:09 - cmdstanpy - INFO - Chain [1] done processing\n"
     ]
    },
    {
     "name": "stdout",
     "output_type": "stream",
     "text": [
      "It's overpredicted.\n",
      "Monthly Error: 108.08 Period MAE: 26.71\n"
     ]
    },
    {
     "name": "stderr",
     "output_type": "stream",
     "text": [
      "20:08:11 - cmdstanpy - INFO - Chain [1] start processing\n",
      "20:08:11 - cmdstanpy - INFO - Chain [1] done processing\n"
     ]
    },
    {
     "name": "stdout",
     "output_type": "stream",
     "text": [
      "It's underpredicted.\n",
      "Monthly Error: 56.0 Period MAE: 72.49\n",
      "It's overpredicted.\n",
      "Monthly Error: 107.14 Period MAE: 25.679999999999996\n"
     ]
    },
    {
     "name": "stderr",
     "output_type": "stream",
     "text": [
      "20:08:12 - cmdstanpy - INFO - Chain [1] start processing\n",
      "20:08:12 - cmdstanpy - INFO - Chain [1] done processing\n"
     ]
    },
    {
     "name": "stdout",
     "output_type": "stream",
     "text": [
      "It's underpredicted.\n",
      "Monthly Error: 100.0 Period MAE: 100.0\n"
     ]
    },
    {
     "name": "stderr",
     "output_type": "stream",
     "text": [
      "20:08:14 - cmdstanpy - INFO - Chain [1] start processing\n",
      "20:08:14 - cmdstanpy - INFO - Chain [1] start processing\n",
      "20:08:14 - cmdstanpy - INFO - Chain [1] done processing\n",
      "20:08:14 - cmdstanpy - INFO - Chain [1] done processing\n"
     ]
    },
    {
     "name": "stdout",
     "output_type": "stream",
     "text": [
      "It's overpredicted.\n",
      "Monthly Error: 107.14 Period MAE: 25.679999999999996\n"
     ]
    },
    {
     "name": "stderr",
     "output_type": "stream",
     "text": [
      "20:08:17 - cmdstanpy - INFO - Chain [1] start processing\n",
      "20:08:17 - cmdstanpy - INFO - Chain [1] done processing\n"
     ]
    },
    {
     "name": "stdout",
     "output_type": "stream",
     "text": [
      "It's underpredicted.\n",
      "Monthly Error: 100.0 Period MAE: 100.0\n",
      "It's overpredicted.\n",
      "Monthly Error: 107.14 Period MAE: 25.679999999999996\n"
     ]
    },
    {
     "name": "stderr",
     "output_type": "stream",
     "text": [
      "20:08:18 - cmdstanpy - INFO - Chain [1] start processing\n",
      "20:08:18 - cmdstanpy - INFO - Chain [1] done processing\n"
     ]
    },
    {
     "name": "stdout",
     "output_type": "stream",
     "text": [
      "It's underpredicted.\n",
      "Monthly Error: 100.0 Period MAE: 100.0\n"
     ]
    },
    {
     "name": "stderr",
     "output_type": "stream",
     "text": [
      "20:08:19 - cmdstanpy - INFO - Chain [1] start processing\n",
      "20:08:19 - cmdstanpy - INFO - Chain [1] start processing\n",
      "20:08:20 - cmdstanpy - INFO - Chain [1] done processing\n",
      "20:08:20 - cmdstanpy - INFO - Chain [1] done processing\n"
     ]
    },
    {
     "name": "stdout",
     "output_type": "stream",
     "text": [
      "It's overpredicted.\n",
      "Monthly Error: 102.95 Period MAE: 22.689999999999998\n"
     ]
    },
    {
     "name": "stderr",
     "output_type": "stream",
     "text": [
      "20:08:22 - cmdstanpy - INFO - Chain [1] start processing\n",
      "20:08:22 - cmdstanpy - INFO - Chain [1] done processing\n"
     ]
    },
    {
     "name": "stdout",
     "output_type": "stream",
     "text": [
      "It's underpredicted.\n",
      "Monthly Error: 46.84 Period MAE: 55.08\n",
      "It's overpredicted.\n",
      "Monthly Error: 102.95 Period MAE: 22.689999999999998\n"
     ]
    },
    {
     "name": "stderr",
     "output_type": "stream",
     "text": [
      "20:08:23 - cmdstanpy - INFO - Chain [1] start processing\n",
      "20:08:23 - cmdstanpy - INFO - Chain [1] done processing\n"
     ]
    },
    {
     "name": "stdout",
     "output_type": "stream",
     "text": [
      "It's underpredicted.\n",
      "Monthly Error: 46.84 Period MAE: 55.08\n"
     ]
    },
    {
     "name": "stderr",
     "output_type": "stream",
     "text": [
      "20:08:24 - cmdstanpy - INFO - Chain [1] done processing\n",
      "20:08:24 - cmdstanpy - INFO - Chain [1] start processing\n",
      "20:08:25 - cmdstanpy - INFO - Chain [1] start processing\n",
      "20:08:25 - cmdstanpy - INFO - Chain [1] done processing\n"
     ]
    },
    {
     "name": "stdout",
     "output_type": "stream",
     "text": [
      "It's overpredicted.\n",
      "Monthly Error: 102.95 Period MAE: 22.689999999999998\n"
     ]
    },
    {
     "name": "stderr",
     "output_type": "stream",
     "text": [
      "20:08:27 - cmdstanpy - INFO - Chain [1] done processing\n",
      "20:08:27 - cmdstanpy - INFO - Chain [1] start processing\n"
     ]
    },
    {
     "name": "stdout",
     "output_type": "stream",
     "text": [
      "It's overpredicted.It's underpredicted.\n",
      "Monthly Error: 102.46\n",
      " Monthly Error: 46.84 Period MAE:Period MAE:  55.0821.57\n",
      "\n"
     ]
    },
    {
     "name": "stderr",
     "output_type": "stream",
     "text": [
      "20:08:28 - cmdstanpy - INFO - Chain [1] start processing\n",
      "20:08:28 - cmdstanpy - INFO - Chain [1] done processing\n",
      "20:08:29 - cmdstanpy - INFO - Chain [1] start processing\n"
     ]
    },
    {
     "name": "stdout",
     "output_type": "stream",
     "text": [
      "It's underpredicted.\n",
      "Monthly Error: 46.83 Period MAE: 55.08\n"
     ]
    },
    {
     "name": "stderr",
     "output_type": "stream",
     "text": [
      "20:08:30 - cmdstanpy - INFO - Chain [1] done processing\n",
      "20:08:30 - cmdstanpy - INFO - Chain [1] start processing\n",
      "20:08:30 - cmdstanpy - INFO - Chain [1] done processing\n"
     ]
    },
    {
     "name": "stdout",
     "output_type": "stream",
     "text": [
      "It's overpredicted.It's overpredicted.\n",
      "Monthly Error: 107.38 Period MAE: 25.8\n",
      "It's underpredicted.\n"
     ]
    },
    {
     "name": "stderr",
     "output_type": "stream",
     "text": [
      "20:09:06 - cmdstanpy - INFO - Chain [1] start processing\n"
     ]
    },
    {
     "name": "stdout",
     "output_type": "stream",
     "text": [
      "Monthly Error: 100.0 Period MAE: 100.0\n"
     ]
    },
    {
     "name": "stderr",
     "output_type": "stream",
     "text": [
      "20:09:06 - cmdstanpy - INFO - Chain [1] done processing\n",
      "20:09:06 - cmdstanpy - INFO - Chain [1] start processing\n",
      "20:09:06 - cmdstanpy - INFO - Chain [1] done processing\n"
     ]
    },
    {
     "name": "stdout",
     "output_type": "stream",
     "text": [
      "It's overpredicted.\n",
      "Monthly Error: 107.38 Period MAE: 25.8\n"
     ]
    },
    {
     "name": "stderr",
     "output_type": "stream",
     "text": [
      "20:09:08 - cmdstanpy - INFO - Chain [1] start processing\n"
     ]
    },
    {
     "name": "stdout",
     "output_type": "stream",
     "text": [
      "It's underpredicted.\n",
      "Monthly Error: 100.0"
     ]
    },
    {
     "name": "stderr",
     "output_type": "stream",
     "text": [
      "20:09:08 - cmdstanpy - INFO - Chain [1] done processing\n"
     ]
    },
    {
     "name": "stdout",
     "output_type": "stream",
     "text": [
      " Period MAE: 100.0\n"
     ]
    },
    {
     "name": "stderr",
     "output_type": "stream",
     "text": [
      "20:09:09 - cmdstanpy - INFO - Chain [1] start processing\n"
     ]
    },
    {
     "name": "stdout",
     "output_type": "stream",
     "text": [
      "It's overpredicted.\n",
      "Monthly Error: 102.95 Period MAE: "
     ]
    },
    {
     "name": "stderr",
     "output_type": "stream",
     "text": [
      "20:09:09 - cmdstanpy - INFO - Chain [1] done processing\n"
     ]
    },
    {
     "name": "stdout",
     "output_type": "stream",
     "text": [
      "22.689999999999998\n",
      "It's underpredicted.\n",
      "Monthly Error: 46.84 Period MAE: 55.08\n"
     ]
    },
    {
     "name": "stderr",
     "output_type": "stream",
     "text": [
      "20:09:11 - cmdstanpy - INFO - Chain [1] start processing\n",
      "20:09:11 - cmdstanpy - INFO - Chain [1] done processing\n",
      "20:09:11 - cmdstanpy - INFO - Chain [1] start processing\n",
      "20:09:12 - cmdstanpy - INFO - Chain [1] done processing\n"
     ]
    },
    {
     "name": "stdout",
     "output_type": "stream",
     "text": [
      "It's overpredicted.\n",
      "Monthly Error: 102.95 Period MAE: 22.689999999999998\n"
     ]
    },
    {
     "name": "stderr",
     "output_type": "stream",
     "text": [
      "20:09:13 - cmdstanpy - INFO - Chain [1] start processing\n"
     ]
    },
    {
     "name": "stdout",
     "output_type": "stream",
     "text": [
      "It's underpredicted.\n",
      "Monthly Error: 46.84 Period MAE: 55.08\n"
     ]
    },
    {
     "name": "stderr",
     "output_type": "stream",
     "text": [
      "20:09:14 - cmdstanpy - INFO - Chain [1] done processing\n",
      "20:09:14 - cmdstanpy - INFO - Chain [1] start processing\n",
      "20:09:14 - cmdstanpy - INFO - Chain [1] done processing\n"
     ]
    },
    {
     "name": "stdout",
     "output_type": "stream",
     "text": [
      "It's overpredicted.\n",
      "Monthly Error: 102.95 Period MAE: 22.689999999999998\n",
      "It's underpredicted.Period MAE:\n",
      "Monthly Error: 46.84  55.08\n"
     ]
    },
    {
     "name": "stderr",
     "output_type": "stream",
     "text": [
      "20:09:16 - cmdstanpy - INFO - Chain [1] done processing\n",
      "20:09:16 - cmdstanpy - INFO - Chain [1] start processing\n",
      "20:09:17 - cmdstanpy - INFO - Chain [1] start processing\n"
     ]
    },
    {
     "name": "stdout",
     "output_type": "stream",
     "text": [
      "It's overpredicted.\n",
      "Monthly Error: 102.38 Period MAE: 21.36\n"
     ]
    },
    {
     "name": "stderr",
     "output_type": "stream",
     "text": [
      "20:09:17 - cmdstanpy - INFO - Chain [1] done processing\n",
      "20:09:18 - cmdstanpy - INFO - Chain [1] start processing\n"
     ]
    },
    {
     "name": "stdout",
     "output_type": "stream",
     "text": [
      "It's underpredicted.\n",
      "Monthly Error: 46.83 Period MAE: 55.08\n"
     ]
    },
    {
     "name": "stderr",
     "output_type": "stream",
     "text": [
      "20:09:19 - cmdstanpy - INFO - Chain [1] done processing\n",
      "20:09:19 - cmdstanpy - INFO - Chain [1] start processing\n",
      "20:09:20 - cmdstanpy - INFO - Chain [1] done processing\n"
     ]
    },
    {
     "name": "stdout",
     "output_type": "stream",
     "text": [
      "It's overpredicted.\n",
      "Monthly Error: 102.38 Period MAE: 21.36\n"
     ]
    },
    {
     "name": "stderr",
     "output_type": "stream",
     "text": [
      "20:09:21 - cmdstanpy - INFO - Chain [1] done processing\n"
     ]
    },
    {
     "name": "stdout",
     "output_type": "stream",
     "text": [
      "It's underpredicted.\n",
      "Monthly Error: 46.83 Period MAE: "
     ]
    },
    {
     "name": "stderr",
     "output_type": "stream",
     "text": [
      "20:09:22 - cmdstanpy - INFO - Chain [1] start processing\n"
     ]
    },
    {
     "name": "stdout",
     "output_type": "stream",
     "text": [
      "55.08\n",
      "It's overpredicted.\n",
      "Monthly Error: 102.38 Period MAE: 21.36\n"
     ]
    },
    {
     "name": "stderr",
     "output_type": "stream",
     "text": [
      "20:09:22 - cmdstanpy - INFO - Chain [1] start processing\n",
      "20:09:22 - cmdstanpy - INFO - Chain [1] done processing\n",
      "20:09:24 - cmdstanpy - INFO - Chain [1] start processing\n"
     ]
    },
    {
     "name": "stdout",
     "output_type": "stream",
     "text": [
      "It's underpredicted.\n",
      "Monthly Error: 46.83 "
     ]
    },
    {
     "name": "stderr",
     "output_type": "stream",
     "text": [
      "20:09:24 - cmdstanpy - INFO - Chain [1] done processing\n"
     ]
    },
    {
     "name": "stdout",
     "output_type": "stream",
     "text": [
      "Period MAE: 55.08\n"
     ]
    },
    {
     "name": "stderr",
     "output_type": "stream",
     "text": [
      "20:09:25 - cmdstanpy - INFO - Chain [1] start processing\n"
     ]
    },
    {
     "name": "stdout",
     "output_type": "stream",
     "text": [
      "It's overpredicted.\n",
      "Monthly Error:"
     ]
    },
    {
     "name": "stderr",
     "output_type": "stream",
     "text": [
      "20:09:25 - cmdstanpy - INFO - Chain [1] done processing\n"
     ]
    },
    {
     "name": "stdout",
     "output_type": "stream",
     "text": [
      " 87.57 Period MAE: 8.99\n"
     ]
    },
    {
     "name": "stderr",
     "output_type": "stream",
     "text": [
      "20:09:26 - cmdstanpy - INFO - Chain [1] done processing\n",
      "20:09:27 - cmdstanpy - INFO - Chain [1] start processing\n"
     ]
    },
    {
     "name": "stdout",
     "output_type": "stream",
     "text": [
      "It's underpredicted.\n",
      "Monthly Error: 46.85It's overpredicted. \n",
      "Monthly Error:Period MAE: 87.57 Period MAE: 8.99 55.089999999999996\n",
      "\n"
     ]
    },
    {
     "name": "stderr",
     "output_type": "stream",
     "text": [
      "20:09:28 - cmdstanpy - INFO - Chain [1] start processing\n",
      "20:09:28 - cmdstanpy - INFO - Chain [1] done processing\n",
      "20:09:29 - cmdstanpy - INFO - Chain [1] start processing\n",
      "20:09:29 - cmdstanpy - INFO - Chain [1] done processing\n"
     ]
    },
    {
     "name": "stdout",
     "output_type": "stream",
     "text": [
      "It's underpredicted.\n",
      "Monthly Error: 46.85 Period MAE: 55.089999999999996\n"
     ]
    },
    {
     "name": "stderr",
     "output_type": "stream",
     "text": [
      "20:09:30 - cmdstanpy - INFO - Chain [1] start processing\n"
     ]
    },
    {
     "name": "stdout",
     "output_type": "stream",
     "text": [
      "It's overpredicted.\n",
      "Monthly Error: 87.57"
     ]
    },
    {
     "name": "stderr",
     "output_type": "stream",
     "text": [
      "20:09:30 - cmdstanpy - INFO - Chain [1] done processing\n"
     ]
    },
    {
     "name": "stdout",
     "output_type": "stream",
     "text": [
      " Period MAE: 8.99\n"
     ]
    },
    {
     "name": "stderr",
     "output_type": "stream",
     "text": [
      "20:09:31 - cmdstanpy - INFO - Chain [1] done processing\n",
      "20:09:32 - cmdstanpy - INFO - Chain [1] start processing\n"
     ]
    },
    {
     "name": "stdout",
     "output_type": "stream",
     "text": [
      "It's overpredicted.\n",
      "It's underpredicted.\n",
      "Monthly Error:Monthly Error: 46.85  Period MAE: 55.089999999999996108.4\n",
      " Period MAE: 26.46\n"
     ]
    },
    {
     "name": "stderr",
     "output_type": "stream",
     "text": [
      "20:09:33 - cmdstanpy - INFO - Chain [1] start processing\n",
      "20:09:33 - cmdstanpy - INFO - Chain [1] done processing\n",
      "20:09:34 - cmdstanpy - INFO - Chain [1] start processing\n",
      "20:09:34 - cmdstanpy - INFO - Chain [1] done processing\n"
     ]
    },
    {
     "name": "stdout",
     "output_type": "stream",
     "text": [
      "It's underpredicted.\n",
      "Monthly Error: 100.0 Period MAE: 100.0\n",
      "It's overpredicted.\n",
      "Monthly Error: 108.4 Period MAE: "
     ]
    },
    {
     "name": "stderr",
     "output_type": "stream",
     "text": [
      "20:09:35 - cmdstanpy - INFO - Chain [1] start processing\n"
     ]
    },
    {
     "name": "stdout",
     "output_type": "stream",
     "text": [
      "26.46\n"
     ]
    },
    {
     "name": "stderr",
     "output_type": "stream",
     "text": [
      "20:09:35 - cmdstanpy - INFO - Chain [1] done processing\n",
      "20:09:36 - cmdstanpy - INFO - Chain [1] start processing\n",
      "20:09:37 - cmdstanpy - INFO - Chain [1] done processing\n"
     ]
    },
    {
     "name": "stdout",
     "output_type": "stream",
     "text": [
      "It's underpredicted.\n",
      "Monthly Error: 100.0 Period MAE: 100.0\n",
      "It's overpredicted.\n",
      "Monthly Error: 108.4 Period MAE: 26.46\n"
     ]
    },
    {
     "name": "stderr",
     "output_type": "stream",
     "text": [
      "20:09:38 - cmdstanpy - INFO - Chain [1] start processing\n",
      "20:09:38 - cmdstanpy - INFO - Chain [1] done processing\n",
      "20:09:39 - cmdstanpy - INFO - Chain [1] start processing\n",
      "20:09:39 - cmdstanpy - INFO - Chain [1] done processing\n"
     ]
    },
    {
     "name": "stdout",
     "output_type": "stream",
     "text": [
      "It's underpredicted.\n",
      "Monthly Error: 100.0 Period MAE: 100.0\n",
      "It's overpredicted.\n",
      "Monthly Error: 108.72 "
     ]
    },
    {
     "name": "stderr",
     "output_type": "stream",
     "text": [
      "20:09:40 - cmdstanpy - INFO - Chain [1] start processing\n"
     ]
    },
    {
     "name": "stdout",
     "output_type": "stream",
     "text": [
      "Period MAE: 26.790000000000003\n"
     ]
    },
    {
     "name": "stderr",
     "output_type": "stream",
     "text": [
      "20:09:40 - cmdstanpy - INFO - Chain [1] done processing\n",
      "20:09:42 - cmdstanpy - INFO - Chain [1] done processing\n",
      "20:09:42 - cmdstanpy - INFO - Chain [1] start processing\n"
     ]
    },
    {
     "name": "stdout",
     "output_type": "stream",
     "text": [
      "It's overpredicted.\n",
      "Monthly Error: 108.72 Period MAE: 26.790000000000003\n",
      "It's underpredicted.\n",
      "Monthly Error: 55.95 Period MAE: 72.46000000000001\n"
     ]
    },
    {
     "name": "stderr",
     "output_type": "stream",
     "text": [
      "20:09:43 - cmdstanpy - INFO - Chain [1] start processing\n",
      "20:09:43 - cmdstanpy - INFO - Chain [1] done processing\n",
      "20:09:44 - cmdstanpy - INFO - Chain [1] done processing\n",
      "20:09:44 - cmdstanpy - INFO - Chain [1] start processing\n"
     ]
    },
    {
     "name": "stdout",
     "output_type": "stream",
     "text": [
      "It's overpredicted.It's underpredicted.\n",
      "\n",
      "Monthly Error: 55.95 Period MAE: 72.46000000000001Monthly Error:\n",
      " 108.72 Period MAE: 26.790000000000003\n"
     ]
    },
    {
     "name": "stderr",
     "output_type": "stream",
     "text": [
      "20:09:46 - cmdstanpy - INFO - Chain [1] start processing\n",
      "20:09:46 - cmdstanpy - INFO - Chain [1] done processing\n",
      "20:09:47 - cmdstanpy - INFO - Chain [1] start processing\n",
      "20:09:48 - cmdstanpy - INFO - Chain [1] done processing\n"
     ]
    },
    {
     "name": "stdout",
     "output_type": "stream",
     "text": [
      "It's underpredicted.\n",
      "Monthly Error: 55.95 Period MAE: 72.46000000000001\n"
     ]
    },
    {
     "name": "stderr",
     "output_type": "stream",
     "text": [
      "20:09:48 - cmdstanpy - INFO - Chain [1] start processing\n"
     ]
    },
    {
     "name": "stdout",
     "output_type": "stream",
     "text": [
      "It's overpredicted.\n",
      "Monthly Error: 107.37"
     ]
    },
    {
     "name": "stderr",
     "output_type": "stream",
     "text": [
      "20:09:49 - cmdstanpy - INFO - Chain [1] done processing\n"
     ]
    },
    {
     "name": "stdout",
     "output_type": "stream",
     "text": [
      " Period MAE: 25.729999999999997\n"
     ]
    },
    {
     "name": "stderr",
     "output_type": "stream",
     "text": [
      "20:09:50 - cmdstanpy - INFO - Chain [1] start processing\n",
      "20:09:50 - cmdstanpy - INFO - Chain [1] done processing\n"
     ]
    },
    {
     "name": "stdout",
     "output_type": "stream",
     "text": [
      "It's underpredicted.\n",
      "Monthly Error: 100.0 Period MAE: 100.0\n",
      "It's overpredicted.\n",
      "Monthly Error: 107.37 Period MAE: 25.729999999999997\n"
     ]
    },
    {
     "name": "stderr",
     "output_type": "stream",
     "text": [
      "20:09:51 - cmdstanpy - INFO - Chain [1] start processing\n",
      "20:09:51 - cmdstanpy - INFO - Chain [1] done processing\n",
      "20:09:53 - cmdstanpy - INFO - Chain [1] done processing\n"
     ]
    },
    {
     "name": "stdout",
     "output_type": "stream",
     "text": [
      "It's underpredicted.\n",
      "Monthly Error: 100.0 Period MAE: 100.0\n",
      "It's overpredicted.\n",
      "Monthly Error: 107.37 Period MAE: 25.729999999999997\n",
      "It's underpredicted.\n",
      "Monthly Error: 100.0 Period MAE: 100.0\n"
     ]
    }
   ],
   "source": [
    "# # %load_ext autoreload\n",
    "# # %autoreload 2\n",
    "# search_engine = ProphetParameterSearch(power_flag = False, base_path=base_path) # , logistic_flag = False\n",
    "# # search_engine.add_power_params()\n",
    "# grid_brand = search_engine.search(cuts_df1[cuts_df1.funnel == \"Non_Brand\"], final_df)\n",
    "# # grid"
   ]
  },
  {
   "cell_type": "code",
   "execution_count": 79,
   "id": "af3ca217-1d0f-47ce-a767-69fe39529f3e",
   "metadata": {
    "tags": []
   },
   "outputs": [
    {
     "ename": "NameError",
     "evalue": "name 'grid_brand' is not defined",
     "output_type": "error",
     "traceback": [
      "\u001b[0;31m---------------------------------------------------------------------------\u001b[0m",
      "\u001b[0;31mNameError\u001b[0m                                 Traceback (most recent call last)",
      "Cell \u001b[0;32mIn[79], line 1\u001b[0m\n\u001b[0;32m----> 1\u001b[0m \u001b[43mgrid_brand\u001b[49m\n",
      "\u001b[0;31mNameError\u001b[0m: name 'grid_brand' is not defined"
     ]
    }
   ],
   "source": [
    "# grid_brand"
   ]
  },
  {
   "cell_type": "markdown",
   "id": "49f32068-c176-424f-a724-e1051e407c87",
   "metadata": {},
   "source": [
    "# Accuracy based on previous refresh"
   ]
  },
  {
   "cell_type": "markdown",
   "id": "666bbdd8-f78b-487e-928c-afc1db0fa97b",
   "metadata": {},
   "source": [
    "##### First check the accuracy based on previous refresh"
   ]
  },
  {
   "cell_type": "code",
   "execution_count": 48,
   "id": "c7e1197b-fb30-44d2-b889-1cbe03ed74ff",
   "metadata": {
    "tags": []
   },
   "outputs": [
    {
     "name": "stderr",
     "output_type": "stream",
     "text": [
      "13:43:32 - cmdstanpy - INFO - Chain [1] start processing\n",
      "13:43:32 - cmdstanpy - INFO - Chain [1] done processing\n"
     ]
    },
    {
     "name": "stdout",
     "output_type": "stream",
     "text": [
      "It's overpredicted.\n",
      "Monthly Error: 109.35 Period MAE: 105.36000000000001\n"
     ]
    },
    {
     "name": "stderr",
     "output_type": "stream",
     "text": [
      "/home/jupyter/SearchForecasting/repo/Accuracy.py:267: FutureWarning: The behavior of DataFrame concatenation with empty or all-NA entries is deprecated. In a future version, this will no longer exclude empty or all-NA columns when determining the result dtypes. To retain the old behavior, exclude the relevant entries before the concat operation.\n",
      "  self.monthly_acc_df_temp = pd.concat([self.monthly_acc_df_temp, monthly_acc_df], ignore_index=True)\n",
      "13:43:43 - cmdstanpy - INFO - Chain [1] start processing\n",
      "13:43:45 - cmdstanpy - INFO - Chain [1] done processing\n"
     ]
    },
    {
     "name": "stdout",
     "output_type": "stream",
     "text": [
      "It's overpredicted.\n",
      "Monthly Error: 144.15 Period MAE: 79.64\n",
      "Data Frame file saved\n"
     ]
    }
   ],
   "source": [
    "calculator = AccuracyCalculator() \n",
    "accuracy_df = calculator.CalculateAccuracy(cuts_df, final_df, query_item_list) # calculate accuracy based on cuts_df previous hyper parameters\n",
    "#calculator.SaveFile()\n",
    "calculator.SaveFile(output_bucket, folder_name, 'Accuracy.csv')"
   ]
  },
  {
   "cell_type": "code",
   "execution_count": 49,
   "id": "1ee2c3df-c213-4567-bb0d-b3598c963cd6",
   "metadata": {
    "tags": []
   },
   "outputs": [
    {
     "data": {
      "text/html": [
       "<div>\n",
       "<style scoped>\n",
       "    .dataframe tbody tr th:only-of-type {\n",
       "        vertical-align: middle;\n",
       "    }\n",
       "\n",
       "    .dataframe tbody tr th {\n",
       "        vertical-align: top;\n",
       "    }\n",
       "\n",
       "    .dataframe thead th {\n",
       "        text-align: right;\n",
       "    }\n",
       "</style>\n",
       "<table border=\"1\" class=\"dataframe\">\n",
       "  <thead>\n",
       "    <tr style=\"text-align: right;\">\n",
       "      <th></th>\n",
       "      <th>Actual</th>\n",
       "      <th>Forecast</th>\n",
       "      <th>Mean Percentage Error</th>\n",
       "      <th>Accuracy</th>\n",
       "      <th>Forecast Period Accuracy</th>\n",
       "    </tr>\n",
       "    <tr>\n",
       "      <th>funnel</th>\n",
       "      <th></th>\n",
       "      <th></th>\n",
       "      <th></th>\n",
       "      <th></th>\n",
       "      <th></th>\n",
       "    </tr>\n",
       "  </thead>\n",
       "  <tbody>\n",
       "    <tr>\n",
       "      <th>Brand</th>\n",
       "      <td>17546.000000</td>\n",
       "      <td>36033.181429</td>\n",
       "      <td>-109.347143</td>\n",
       "      <td>MAPE above 100%</td>\n",
       "      <td>Forecast Period MAE above 100%</td>\n",
       "    </tr>\n",
       "    <tr>\n",
       "      <th>Non_Brand</th>\n",
       "      <td>1172.142857</td>\n",
       "      <td>2105.675714</td>\n",
       "      <td>-143.080000</td>\n",
       "      <td>MAPE above 100%</td>\n",
       "      <td>20.36</td>\n",
       "    </tr>\n",
       "  </tbody>\n",
       "</table>\n",
       "</div>"
      ],
      "text/plain": [
       "                 Actual      Forecast  Mean Percentage Error         Accuracy  \\\n",
       "funnel                                                                          \n",
       "Brand      17546.000000  36033.181429            -109.347143  MAPE above 100%   \n",
       "Non_Brand   1172.142857   2105.675714            -143.080000  MAPE above 100%   \n",
       "\n",
       "                 Forecast Period Accuracy  \n",
       "funnel                                     \n",
       "Brand      Forecast Period MAE above 100%  \n",
       "Non_Brand                           20.36  "
      ]
     },
     "execution_count": 49,
     "metadata": {},
     "output_type": "execute_result"
    }
   ],
   "source": [
    "accuracy = accuracy_df.groupby([ 'funnel']).mean(numeric_only=1) # group by split \n",
    "accuracy['Accuracy'] = np.where(accuracy['MAPE'] > 100, 'MAPE above 100%', 100 - accuracy['MAPE']) # create accuracy from MAPE \n",
    "accuracy['Forecast Period Accuracy'] = np.where(accuracy['Forecast Period MAE'] > 100, 'Forecast Period MAE above 100%', 100 - accuracy['Forecast Period MAE']) # create period accuracy from period MAPE\n",
    "accuracy.drop(columns=['MAPE','Forecast Period MAE'], inplace=True) # drop error columns \n",
    "accuracy.rename(columns = {'Percentage Error': 'Mean Percentage Error'}, inplace = True) # rename columns\n",
    "accuracy\n"
   ]
  },
  {
   "cell_type": "code",
   "execution_count": 50,
   "id": "fe8ddadb-137d-4c26-93d2-548c6904c036",
   "metadata": {
    "tags": []
   },
   "outputs": [
    {
     "ename": "ValueError",
     "evalue": "not enough values to unpack (expected 3, got 2)",
     "output_type": "error",
     "traceback": [
      "\u001b[0;31m---------------------------------------------------------------------------\u001b[0m",
      "\u001b[0;31mValueError\u001b[0m                                Traceback (most recent call last)",
      "Cell \u001b[0;32mIn[50], line 1\u001b[0m\n\u001b[0;32m----> 1\u001b[0m \u001b[43mPlotAccuracyCharts\u001b[49m\u001b[43m(\u001b[49m\u001b[43maccuracy_df\u001b[49m\u001b[43m,\u001b[49m\u001b[43m \u001b[49m\u001b[43mcuts_df\u001b[49m\u001b[43m,\u001b[49m\u001b[43m \u001b[49m\u001b[43mquery_item_list\u001b[49m\u001b[43m)\u001b[49m\n",
      "File \u001b[0;32m~/SearchForecasting/repo/Accuracy.py:181\u001b[0m, in \u001b[0;36mPlotAccuracyCharts\u001b[0;34m(accuracy_df, cuts_df, query_item_list)\u001b[0m\n\u001b[1;32m    180\u001b[0m \u001b[38;5;28;01mdef\u001b[39;00m \u001b[38;5;21mPlotAccuracyCharts\u001b[39m(accuracy_df, cuts_df, query_item_list):\n\u001b[0;32m--> 181\u001b[0m     \u001b[38;5;28;01mfor\u001b[39;00m m, a, f \u001b[38;5;129;01min\u001b[39;00m cuts_df[query_item_list]\u001b[38;5;241m.\u001b[39mvalues:\n\u001b[1;32m    182\u001b[0m         df_for_plt \u001b[38;5;241m=\u001b[39m  accuracy_df[(accuracy_df[\u001b[38;5;124m'\u001b[39m\u001b[38;5;124mmarket\u001b[39m\u001b[38;5;124m'\u001b[39m]\u001b[38;5;241m==\u001b[39mm) \u001b[38;5;241m&\u001b[39m (accuracy_df[\u001b[38;5;124m'\u001b[39m\u001b[38;5;124maccount_type\u001b[39m\u001b[38;5;124m'\u001b[39m]\u001b[38;5;241m==\u001b[39ma) \u001b[38;5;241m&\u001b[39m (accuracy_df[\u001b[38;5;124m'\u001b[39m\u001b[38;5;124mfunnel\u001b[39m\u001b[38;5;124m'\u001b[39m]\u001b[38;5;241m==\u001b[39mf)]\u001b[38;5;241m.\u001b[39mdrop([ \u001b[38;5;124m'\u001b[39m\u001b[38;5;124mMAPE\u001b[39m\u001b[38;5;124m'\u001b[39m, \u001b[38;5;124m'\u001b[39m\u001b[38;5;124mForecast Period MAE\u001b[39m\u001b[38;5;124m'\u001b[39m, \u001b[38;5;124m'\u001b[39m\u001b[38;5;124mPredict Status\u001b[39m\u001b[38;5;124m'\u001b[39m], axis \u001b[38;5;241m=\u001b[39m \u001b[38;5;241m1\u001b[39m)\n\u001b[1;32m    183\u001b[0m         df_for_plt\u001b[38;5;241m.\u001b[39mset_index(\u001b[38;5;124m'\u001b[39m\u001b[38;5;124mMonth\u001b[39m\u001b[38;5;124m'\u001b[39m)\u001b[38;5;241m.\u001b[39mplot(y\u001b[38;5;241m=\u001b[39m[\u001b[38;5;124m'\u001b[39m\u001b[38;5;124mActual\u001b[39m\u001b[38;5;124m'\u001b[39m, \u001b[38;5;124m'\u001b[39m\u001b[38;5;124mForecast\u001b[39m\u001b[38;5;124m'\u001b[39m,\u001b[38;5;124m'\u001b[39m\u001b[38;5;124mPercentage Error\u001b[39m\u001b[38;5;124m'\u001b[39m], secondary_y\u001b[38;5;241m=\u001b[39m[\u001b[38;5;124m'\u001b[39m\u001b[38;5;124mPercentage Error\u001b[39m\u001b[38;5;124m'\u001b[39m], title\u001b[38;5;241m=\u001b[39m\u001b[38;5;124m'\u001b[39m\u001b[38;5;124m \u001b[39m\u001b[38;5;124m'\u001b[39m\u001b[38;5;241m.\u001b[39mjoin([m, a, f]))\n",
      "\u001b[0;31mValueError\u001b[0m: not enough values to unpack (expected 3, got 2)"
     ]
    }
   ],
   "source": [
    "PlotAccuracyCharts(accuracy_df, cuts_df, query_item_list)\n"
   ]
  },
  {
   "cell_type": "markdown",
   "id": "99e70165-e792-47d0-a3d3-dc909afc8493",
   "metadata": {},
   "source": [
    "# Prophet parameter search"
   ]
  },
  {
   "cell_type": "code",
   "execution_count": null,
   "id": "ad45d0b3-1be3-4afc-9244-8d23a4cabe9a",
   "metadata": {},
   "outputs": [],
   "source": [
    "param_grid = {\n",
    "    'changepoint_prior_scale': [ 0.1, 0.05, 0.001],   \n",
    "    'seasonality_prior_scale': [10.0, 0.1, 0.01, 1.0 ], \n",
    "    'holidays_prior_scale': [10.0, 1.0,  0.1, 0.01  ], \n",
    "    'seasonality_mode': ['additive','multiplicative'], \n",
    "    'input_mode': ['additive','multiplicative'], \n",
    "    'weekday_or_weekend':['na', 'additive', 'multiplicative'],  \n",
    "    'include_holiday': ['na', 'Default', 'custom'],\n",
    "    'covid_year_exclude':['na'],\n",
    "    'covid_year_dummy':['na'],#, 'additive', 'multiplicative'],\n",
    "    'anomaly_2021':['na'],#, 'additive', 'multiplicative'],\n",
    "    'generic_cost_split':['na'],#, 'additive', 'multiplicative'\n",
    "    'competitor_cost_split':['na'], #, 'additive', 'multiplicative'\n",
    "    'new_confirmed': ['na'],#, 'additive', 'multiplicative'\n",
    "            }\n"
   ]
  },
  {
   "cell_type": "code",
   "execution_count": null,
   "id": "692fc668-b2ee-4a3c-9949-33335ce274e1",
   "metadata": {},
   "outputs": [],
   "source": [
    "# set the prophet parameter search with the hyper parameter \n",
    "#grid created above and\n",
    "#power flag as false (not needed)\n",
    "search_engine = ProphetParameterSearch(param_grid = param_grid, power_flag = False, base_path=base_path) \n",
    "grid_brand = search_engine.search(cuts_df, final_df) # performs the grid search over \n",
    "#the hyper parameter grid. exports a best result .csv table with best hyper parameters by split and a record df .csv table with full hyper parameters results\n"
   ]
  },
  {
   "cell_type": "markdown",
   "id": "b275a031-be94-4213-88bd-663d776b0b46",
   "metadata": {},
   "source": [
    "# Set new Cuts_df with the new hyper parameters for prophet after the ProphetParameterSearch"
   ]
  },
  {
   "cell_type": "code",
   "execution_count": null,
   "id": "3025daf0-f1bc-4cf9-9705-29bfe4bb9561",
   "metadata": {},
   "outputs": [],
   "source": [
    "# set the new cuts df \n",
    "New_Cuts_df = pd.read_csv(base_path + 'record_df 2024-05-17 11:35:18 best result.csv', index_col = 0) # read the best results df from prophet hyper parameter search\n",
    "New_Cuts_df = New_Cuts_df.drop_duplicates() # drop duplicate rows, best result sometimes creates duplicate rows \n",
    "#New_Cuts_df = New_Cuts_df.sort_values(by=['market','account_type', 'funnel', 'MAPE'], ascending=[True, True, True, True]) # sort by\n",
    "New_Cuts_df = New_Cuts_df.groupby(['market','account_type', 'funnel']).apply(lambda x: x[x['MAPE'] == x['MAPE'].min()], include_groups=False) # group by breakdowns and select only the minimum MAPE values\n",
    "New_Cuts_df.reset_index(level=['market', 'account_type', 'funnel'], inplace=True)\n",
    "New_Cuts_df['na_count'] = New_Cuts_df.map(lambda x: x == 'na').sum(axis=1) # count number of 'na' hyper parameters \n",
    "New_Cuts_df = New_Cuts_df.groupby(['market','account_type', 'funnel']).apply(lambda x: x[x['na_count'] == x['na_count'].max()], include_groups=False) # select the set of hyper parameters that has more 'na' for parsimony porpuses\n",
    "New_Cuts_df.reset_index(level=['market', 'account_type', 'funnel'], inplace=True)\n",
    "New_Cuts_df.drop(columns=['na_count','MAPE', 'period_AE'], inplace=True) # drop columns that are not needed in cuts_df\n",
    "New_Cuts_df['periods'] = periods # add a variable of number of forecasting periods \n",
    "New_Cuts_df['periods_for_acc_cal'] = 183 # add a variable of number of out of sample forecasting for accuracy \n",
    "New_Cuts_df['cutoff_month'] = cutoff_month # add a variable of the cutoff day\n",
    "New_Cuts_df = New_Cuts_df.reset_index(drop=True)\n",
    "New_Cuts_df"
   ]
  },
  {
   "cell_type": "code",
   "execution_count": null,
   "id": "907c61eb-a6ab-4308-899e-1f643e4499e2",
   "metadata": {},
   "outputs": [],
   "source": [
    "new_cuts_df_FilePath = base_path + 'New_Cuts_df.csv'\n",
    "New_Cuts_df.to_csv(new_cuts_df_FilePath, index=False)"
   ]
  },
  {
   "cell_type": "markdown",
   "id": "2f33608a-6c6b-45f9-8caa-d9bcd63d6707",
   "metadata": {},
   "source": [
    "# Accuracy with new hyper parameters"
   ]
  },
  {
   "cell_type": "code",
   "execution_count": null,
   "id": "afaff682-f863-454f-9446-62ab3e3316a2",
   "metadata": {},
   "outputs": [],
   "source": [
    "calculator = AccuracyCalculator()\n",
    "new_accuracy_df = calculator.CalculateAccuracy(New_Cuts_df, final_df, query_item_list)\n",
    "#calculator.SaveFile()\n",
    "calculator.SaveFile(output_bucket, folder_name, 'New Accuracy.csv')"
   ]
  },
  {
   "cell_type": "code",
   "execution_count": null,
   "id": "43fbf891-41ac-473a-99d4-73f0b364500f",
   "metadata": {},
   "outputs": [],
   "source": [
    "new_accuracy_df['Percentage Error'] = np.abs(new_accuracy_df['Percentage Error'])\n",
    "new_accuracy = new_accuracy_df.groupby(['account_type', 'funnel']).mean(numeric_only=1) # group by split \n",
    "new_accuracy['Accuracy'] = np.where(new_accuracy['MAPE'] > 100, 'MAPE above 100%', 100 - new_accuracy['MAPE']) # create accuracy from MAPE \n",
    "new_accuracy['Forecast Period Accuracy'] = np.where(new_accuracy['Forecast Period MAE'] > 100, 'Forecast Period MAE above 100%', 100 - new_accuracy['Forecast Period MAE']) # create period accuracy from period MAPE\n",
    "new_accuracy.drop(columns=['MAPE','Forecast Period MAE'], inplace=True) # drop error columns \n",
    "new_accuracy\n"
   ]
  },
  {
   "cell_type": "markdown",
   "id": "002fc113-c791-4b5e-90c9-ecf0d50b2da5",
   "metadata": {},
   "source": [
    "## Prophet parameter search for Bing Ads Generic"
   ]
  },
  {
   "cell_type": "code",
   "execution_count": null,
   "id": "aa92879f-044b-4009-bdb1-c761bdb49147",
   "metadata": {},
   "outputs": [],
   "source": [
    "param_grid = {\n",
    "    'changepoint_prior_scale': [ 0.1, 0.05, 0.001],   \n",
    "    'seasonality_prior_scale': [10.0, 0.1, 0.01, 1.0 ], \n",
    "    'holidays_prior_scale': [10.0, 1.0,  0.1, 0.01  ], \n",
    "    'seasonality_mode': ['additive','multiplicative'], \n",
    "    'input_mode': ['additive','multiplicative'], \n",
    "    'weekday_or_weekend':['na', 'additive', 'multiplicative'],  \n",
    "    'include_holiday': ['na', 'default', 'customized'],\n",
    "    'covid_year_exclude':['na'],\n",
    "    'covid_year_dummy':['na'],#, 'additive', 'multiplicative'],\n",
    "    'anomaly_2021':['na'],#,, 'additive', 'multiplicative'\n",
    "    'generic_cost_split':['na'],#, 'additive', 'multiplicative'\n",
    "    'competitor_cost_split':['na'], #, 'additive', 'multiplicative'\n",
    "    'new_confirmed': ['na'],#, 'additive', 'multiplicative'\n",
    "    'January_Feb_2023':['na', 'additive', 'multiplicative']#,\n",
    "            }\n"
   ]
  },
  {
   "cell_type": "code",
   "execution_count": null,
   "id": "6689f809-46b8-400c-b78b-a7e0c0002fe0",
   "metadata": {},
   "outputs": [],
   "source": [
    "# set the prophet parameter search with the hyper parameter grid created above and power flag as True (since the basic set up isnt returning good results)\n",
    "search_engine = ProphetParameterSearch(param_grid = param_grid, power_flag = False, base_path=base_path) \n",
    "#search_engine.add_power_params() # consider using it when the basic setting won't get you good results\n",
    "grid_brand = search_engine.search(New_Cuts_df.loc[(New_Cuts_df['account_type']=='Bing Ads')&(New_Cuts_df['funnel']=='Generic')], df) # performs the grid search over the hyper parameter grid. exports a best result .csv table with best hyper parameters by split and a record df .csv table with full hyper parameters results\n",
    "\n"
   ]
  },
  {
   "cell_type": "markdown",
   "id": "a1c75cf7-56c8-44c4-94b6-5a21036cbff7",
   "metadata": {},
   "source": [
    "## Prophet parameter search for Google AdWords Competitor"
   ]
  },
  {
   "cell_type": "code",
   "execution_count": null,
   "id": "479a7f12-512f-4294-9f89-98f3bdc0df99",
   "metadata": {},
   "outputs": [],
   "source": [
    "param_grid = {\n",
    "    'changepoint_prior_scale': [ 0.1, 0.05, 0.001],   \n",
    "    'seasonality_prior_scale': [10.0, 0.1, 0.01, 1.0 ], \n",
    "    'holidays_prior_scale': [10.0, 1.0,  0.1, 0.01  ], \n",
    "    'seasonality_mode': ['additive','multiplicative'], \n",
    "    'input_mode': ['additive','multiplicative'], \n",
    "    'weekday_or_weekend':['na', 'additive', 'multiplicative'],  \n",
    "    'include_holiday': ['na', 'default', 'customized'],\n",
    "    'covid_year_exclude':['na'],\n",
    "    'covid_year_dummy':['na'],#, 'additive', 'multiplicative'],\n",
    "    'anomaly_2021':['na'],#, 'additive', 'multiplicative'\n",
    "    'generic_cost_split':['na'],#, 'additive', 'multiplicative'\n",
    "    'competitor_cost_split':['na'], #, 'additive', 'multiplicative'\n",
    "    'new_confirmed': ['na'],#, 'additive', 'multiplicative'\n",
    "    'January_Feb_2023':['na']#, 'additive', 'multiplicative'\n",
    "            }\n"
   ]
  },
  {
   "cell_type": "code",
   "execution_count": null,
   "id": "50bf991b-0a09-43cd-a18a-ad1a6a88675f",
   "metadata": {},
   "outputs": [],
   "source": [
    "\n",
    "# set the prophet parameter search with the hyper parameter grid created above and power flag as True (since the basic set up isnt returning good results)\n",
    "search_engine = ProphetParameterSearch(param_grid = param_grid, power_flag = False, base_path=base_path) \n",
    "#search_engine.add_power_params() # consider using it when the basic setting won't get you good results\n",
    "grid_brand = search_engine.search(New_Cuts_df.loc[(New_Cuts_df['account_type']=='Google AdWords')&(New_Cuts_df['funnel']=='Competitor')], df) # performs the grid search over the hyper parameter grid. exports a best result .csv table with best hyper parameters by split and a record df .csv table with full hyper parameters results\n",
    "\n"
   ]
  },
  {
   "cell_type": "code",
   "execution_count": null,
   "id": "9267cb36-c098-4d4e-8e89-a7598562b126",
   "metadata": {},
   "outputs": [],
   "source": [
    "# set the new cuts df \n",
    "Google_Competitor_Cuts = pd.read_csv(base_path + 'record_df 2024-04-30 12:41:45 best result.csv', index_col = 0) # read the best results df from prophet hyper parameter search\n",
    "Google_Competitor_Cuts = Google_Competitor_Cuts.drop_duplicates() # drop duplicate rows, best result sometimes creates duplicate rows \n",
    "Google_Competitor_Cuts = Google_Competitor_Cuts.groupby(['market','account_type', 'funnel']).apply(lambda x: x[x['MAPE'] == x['MAPE'].min()], include_groups=False) # group by breakdowns and select only the minimum MAPE values\n",
    "Google_Competitor_Cuts.reset_index(level=['market', 'account_type', 'funnel'], inplace=True)\n",
    "Google_Competitor_Cuts['na_count'] = Google_Competitor_Cuts.map(lambda x: x == 'na').sum(axis=1) # count number of 'na' hyper parameters \n",
    "Google_Competitor_Cuts = Google_Competitor_Cuts.groupby(['market','account_type', 'funnel']).apply(lambda x: x[x['na_count'] == x['na_count'].max()], include_groups=False) # select the set of hyper parameters that has more 'na' for parsimony porpuses\n",
    "Google_Competitor_Cuts.reset_index(level=['market', 'account_type', 'funnel'], inplace=True)\n",
    "Google_Competitor_Cuts.drop(columns=['na_count','MAPE', 'period_AE'], inplace=True) # drop columns that are not needed in cuts_df\n",
    "Google_Competitor_Cuts['periods'] = periods # add a variable of number of forecasting periods \n",
    "Google_Competitor_Cuts['periods_for_acc_cal'] = 183 # add a variable of number of out of sample forecasting for accuracy \n",
    "Google_Competitor_Cuts['cutoff_month'] = cutoff_month # add a variable of the cutoff day\n",
    "Google_Competitor_Cuts = Google_Competitor_Cuts.reset_index(drop=True)\n",
    "Google_Competitor_Cuts.drop(columns=['January_Feb_2023'], inplace=True)\n",
    "# replace the new Bing Ads Generic hyper parameters\n",
    "New_Cuts_df.loc[New_Cuts_df.loc[(New_Cuts_df['account_type']=='Google AdWords')&(New_Cuts_df['funnel']=='Competitor')].index] = Google_Competitor_Cuts.values[0]\n",
    "New_Cuts_df\n"
   ]
  },
  {
   "cell_type": "code",
   "execution_count": null,
   "id": "f04f6e92-7468-48c5-9cb6-cf7b9cef3a55",
   "metadata": {},
   "outputs": [],
   "source": [
    "param_grid = {\n",
    "    'changepoint_prior_scale': [ 0.1, 0.05, 0.001],   \n",
    "    'seasonality_prior_scale': [10.0, 0.1, 0.01, 1.0 ], \n",
    "    'holidays_prior_scale': [10.0, 1.0,  0.1, 0.01  ], \n",
    "    'seasonality_mode': ['additive','multiplicative'], \n",
    "    'input_mode': ['additive','multiplicative'], \n",
    "    'weekday_or_weekend':['na', 'additive', 'multiplicative'],  \n",
    "    'include_holiday': ['na', 'default', 'customized'],\n",
    "    'covid_year_exclude':['na'],\n",
    "    'covid_year_dummy':['na'],#, 'additive', 'multiplicative'],\n",
    "    'anomaly_2021':['na'],#, 'additive', 'multiplicative'\n",
    "    'generic_cost_split':['na'],#, 'additive', 'multiplicative'\n",
    "    'competitor_cost_split':['na'], #, 'additive', 'multiplicative'\n",
    "    'new_confirmed': ['na'],#, 'additive', 'multiplicative'\n",
    "    'January_Feb_2023':['na']#,, 'additive', 'multiplicative'\n",
    "            }\n"
   ]
  },
  {
   "cell_type": "code",
   "execution_count": null,
   "id": "34b04ecb-ef64-4eac-b49f-dae489597cab",
   "metadata": {},
   "outputs": [],
   "source": [
    "\n",
    "# set the prophet parameter search with the hyper parameter grid created above and power flag as True (since the basic set up isnt returning good results)\n",
    "search_engine = ProphetParameterSearch(param_grid = param_grid, power_flag = False, base_path=base_path) \n",
    "#search_engine.add_power_params() # consider using it when the basic setting won't get you good results\n",
    "grid_brand = search_engine.search(New_Cuts_df.loc[(New_Cuts_df['account_type']=='Bing Ads')&(New_Cuts_df['funnel']=='Competitor')], df) # performs the grid search over the hyper parameter grid. exports a best result .csv table with best hyper parameters by split and a record df .csv table with full hyper parameters results\n",
    "\n"
   ]
  },
  {
   "cell_type": "code",
   "execution_count": null,
   "id": "98e348b6-66fe-4aae-b2af-8e0b9fdf33f5",
   "metadata": {},
   "outputs": [],
   "source": [
    "# set the new cuts df \n",
    "BingAds_Competitor_Cuts = pd.read_csv(base_path + 'record_df 2024-04-30 15:27:52 best result.csv', index_col = 0) # read the best results df from prophet hyper parameter search\n",
    "BingAds_Competitor_Cuts = BingAds_Competitor_Cuts.drop_duplicates() # drop duplicate rows, best result sometimes creates duplicate rows \n",
    "BingAds_Competitor_Cuts = BingAds_Competitor_Cuts.groupby(['market','account_type', 'funnel']).apply(lambda x: x[x['MAPE'] == x['MAPE'].min()], include_groups=False) # group by breakdowns and select only the minimum MAPE values\n",
    "BingAds_Competitor_Cuts.reset_index(level=['market', 'account_type', 'funnel'], inplace=True)\n",
    "BingAds_Competitor_Cuts['na_count'] = BingAds_Competitor_Cuts.map(lambda x: x == 'na').sum(axis=1) # count number of 'na' hyper parameters \n",
    "BingAds_Competitor_Cuts = BingAds_Competitor_Cuts.groupby(['market','account_type', 'funnel']).apply(lambda x: x[x['na_count'] == x['na_count'].max()], include_groups=False) # select the set of hyper parameters that has more 'na' for parsimony porpuses\n",
    "BingAds_Competitor_Cuts.reset_index(level=['market', 'account_type', 'funnel'], inplace=True)\n",
    "BingAds_Competitor_Cuts.drop(columns=['na_count','MAPE', 'period_AE'], inplace=True) # drop columns that are not needed in cuts_df\n",
    "BingAds_Competitor_Cuts['periods'] = periods # add a variable of number of forecasting periods \n",
    "BingAds_Competitor_Cuts['periods_for_acc_cal'] = 183 # add a variable of number of out of sample forecasting for accuracy \n",
    "BingAds_Competitor_Cuts['cutoff_month'] = cutoff_month # add a variable of the cutoff day\n",
    "BingAds_Competitor_Cuts = BingAds_Competitor_Cuts.reset_index(drop=True)\n",
    "BingAds_Competitor_Cuts.drop(columns=['January_Feb_2023'], inplace=True)\n",
    "BingAds_Competitor_Cuts\n",
    "# replace the new Bing Ads Generic hyper parameters\n",
    "New_Cuts_df.loc[New_Cuts_df.loc[(New_Cuts_df['account_type']=='Bing Ads')&(New_Cuts_df['funnel']=='Competitor')].index] = BingAds_Competitor_Cuts.values[0]\n",
    "New_Cuts_df\n"
   ]
  },
  {
   "cell_type": "markdown",
   "id": "86e7debd-0cab-47e9-86e8-44b97afc1bad",
   "metadata": {},
   "source": [
    "## Trick\n",
    "##### When accuracy is too lower for certain splits, consider the recent year trend change, instead of running training from the first day of the history, only use the recent years might be helpful. be cautious if using this methodology. Rows in df will need to be dropped before creating pickle files.\n",
    "##### Below is an example for Google Competitor. Dropping the history data before Jan 1, 2022 will generate better accuracy.  "
   ]
  },
  {
   "cell_type": "code",
   "execution_count": null,
   "id": "eed49337-2dbf-430f-ab4a-b90a2b774fe7",
   "metadata": {},
   "outputs": [],
   "source": [
    "param_grid = {\n",
    "    'changepoint_prior_scale': [ 0.1, 0.05, 0.001],   \n",
    "    'seasonality_prior_scale': [10.0, 0.1, 0.01, 1.0 ], \n",
    "    'holidays_prior_scale': [10.0, 1.0,  0.1, 0.01  ], \n",
    "    'seasonality_mode': ['additive','multiplicative'], \n",
    "    'input_mode': ['additive','multiplicative'], \n",
    "    'weekday_or_weekend':['na', 'additive', 'multiplicative'],  \n",
    "    'include_holiday': ['na', 'default', 'customized'],\n",
    "    'covid_year_exclude':['na'],\n",
    "    'covid_year_dummy':['na'],#, 'additive', 'multiplicative'],\n",
    "    'anomaly_2021':['na'],#,, 'additive', 'multiplicative'\n",
    "    'generic_cost_split':['na'],#, 'additive', 'multiplicative'\n",
    "    'competitor_cost_split':['na'], #, 'additive', 'multiplicative'\n",
    "    'new_confirmed': ['na'],#, 'additive', 'multiplicative'\n",
    "    'January_Feb_2023':['na', 'additive', 'multiplicative']#,\n",
    "            }\n"
   ]
  },
  {
   "cell_type": "code",
   "execution_count": null,
   "id": "6bb29bdc-6570-471e-9e7f-ebe7a42133d4",
   "metadata": {},
   "outputs": [],
   "source": [
    "# use the recent years might be helpful, filter data before 2022\n",
    "temp_df = df[df.ds < cutoff_month].copy()\n",
    "temp_df.drop(temp_df[(temp_df.account_type == 'Bing Ads') & (temp_df.funnel == 'Generic') & (temp_df.ds <= '2022-01-01')].index, inplace=True)\n"
   ]
  },
  {
   "cell_type": "code",
   "execution_count": null,
   "id": "a000b441-cbea-4225-9c61-f51c5513a2d6",
   "metadata": {},
   "outputs": [],
   "source": [
    "# set the prophet parameter search with the hyper parameter grid created above and power flag as false (not needed)\n",
    "# instead of running training from the first day of the history, only use the recent years might be helpful\n",
    "# be cautious if using this methodolofy. rows in df will need to be dropped before creating pickle files\n",
    "\n",
    "search_engine = ProphetParameterSearch(param_grid = param_grid, power_flag = False, base_path=base_path) \n",
    "grid_brand = search_engine.search(New_Cuts_df.loc[(New_Cuts_df['account_type']=='Bing Ads')&(New_Cuts_df['funnel']=='Generic')], temp_df) # performs the grid search over the hyper parameter grid. exports a best result .csv table with best hyper parameters by split and a record df .csv table with full hyper parameters results\n"
   ]
  },
  {
   "cell_type": "markdown",
   "id": "befd98a2-2f53-4358-b652-833704dddd41",
   "metadata": {},
   "source": [
    "Since the trick hyper parameter search generates hyper parameters with lower MAPE, replace previous hyper params in cuts df "
   ]
  },
  {
   "cell_type": "code",
   "execution_count": null,
   "id": "6485d388-8115-49b0-8d2d-eb7a01598280",
   "metadata": {},
   "outputs": [],
   "source": [
    "# set the new cuts df \n",
    "BingAds_Generic_Cuts = pd.read_csv(base_path + 'record_df 2024-04-30 08:54:53 best result.csv', index_col = 0) # read the best results df from prophet hyper parameter search\n",
    "BingAds_Generic_Cuts = BingAds_Generic_Cuts.drop_duplicates() # drop duplicate rows, best result sometimes creates duplicate rows \n",
    "BingAds_Generic_Cuts = BingAds_Generic_Cuts.groupby(['market','account_type', 'funnel']).apply(lambda x: x[x['MAPE'] == x['MAPE'].min()], include_groups=False) # group by breakdowns and select only the minimum MAPE values\n",
    "BingAds_Generic_Cuts.reset_index(level=['market', 'account_type', 'funnel'], inplace=True)\n",
    "BingAds_Generic_Cuts['na_count'] = BingAds_Generic_Cuts.map(lambda x: x == 'na').sum(axis=1) # count number of 'na' hyper parameters \n",
    "BingAds_Generic_Cuts = BingAds_Generic_Cuts.groupby(['market','account_type', 'funnel']).apply(lambda x: x[x['na_count'] == x['na_count'].max()], include_groups=False) # select the set of hyper parameters that has more 'na' for parsimony porpuses\n",
    "BingAds_Generic_Cuts.reset_index(level=['market', 'account_type', 'funnel'], inplace=True)\n",
    "BingAds_Generic_Cuts.drop(columns=['na_count','MAPE', 'period_AE'], inplace=True) # drop columns that are not needed in cuts_df\n",
    "BingAds_Generic_Cuts['periods'] = periods # add a variable of number of forecasting periods \n",
    "BingAds_Generic_Cuts['periods_for_acc_cal'] = 183 # add a variable of number of out of sample forecasting for accuracy \n",
    "BingAds_Generic_Cuts['cutoff_month'] = cutoff_month # add a variable of the cutoff day\n",
    "BingAds_Generic_Cuts = BingAds_Generic_Cuts.reset_index(drop=True)\n",
    "# replace the new Bing Ads Generic hyper parameters\n",
    "New_Cuts_df.loc[New_Cuts_df.loc[(New_Cuts_df['account_type']=='Bing Ads')&(New_Cuts_df['funnel']=='Generic')].index] = BingAds_Generic_Cuts.values[0]\n",
    "New_Cuts_df"
   ]
  },
  {
   "cell_type": "markdown",
   "id": "4d2d5b2a-42d6-4d33-a37a-c0e56d921c9f",
   "metadata": {},
   "source": [
    "Export the new cuts df after the hyper parameter tuning"
   ]
  },
  {
   "cell_type": "markdown",
   "id": "620a0439-2a87-48cd-910f-c42ae7e6fe4d",
   "metadata": {},
   "source": [
    "# Update new_cuts_df with new hyper parameters"
   ]
  },
  {
   "cell_type": "code",
   "execution_count": null,
   "id": "c548c1f4-31e2-46bd-9052-ca668cf2935a",
   "metadata": {},
   "outputs": [],
   "source": [
    "new_cuts_df_FilePath = base_path + 'New_Cuts_df.csv'\n",
    "New_Cuts_df.to_csv(new_cuts_df_FilePath)"
   ]
  },
  {
   "cell_type": "markdown",
   "id": "b38aab82-8778-4338-afdc-47fd817ca07c",
   "metadata": {},
   "source": [
    "Since the trick hyper parameter search generates hyper parameters with lower MAPE, drop in df the data previous to 2022 for Bing Ads Generic"
   ]
  },
  {
   "cell_type": "code",
   "execution_count": null,
   "id": "d7b085fc-f4d4-42e2-bad3-affbdadbc2af",
   "metadata": {},
   "outputs": [],
   "source": [
    "# use the recent years might be helpful, filter data before 2022\n",
    "df = df[df.ds < cutoff_month].copy()\n",
    "df.drop(df[(temp_df.account_type == 'Bing Ads') & (df.funnel == 'Generic') & (df.ds <= '2022-01-01')].index, inplace=True)\n"
   ]
  },
  {
   "cell_type": "markdown",
   "id": "2c850177-38de-4df7-afcb-f8c18378e6da",
   "metadata": {},
   "source": [
    "# Model Generator\n",
    "\n",
    "Generate pickle files where are stored the prophet model trained with the selected hyper parameters, the training data set and the complete data set"
   ]
  },
  {
   "cell_type": "code",
   "execution_count": null,
   "id": "fe5c9147-46c3-41d0-91ef-ac0b69eabd77",
   "metadata": {},
   "outputs": [],
   "source": [
    "# %load_ext autoreload\n",
    "# %autoreload \n",
    "model_generator = GenerateModelFile()\n",
    "model_generator.Generate(New_Cuts_df, df , query_item_list, output_bucket, folder_name, base_path=base_path)"
   ]
  },
  {
   "cell_type": "markdown",
   "id": "6150876c-fa79-4453-8023-c457cc0cc3cc",
   "metadata": {},
   "source": [
    "# Exam\n",
    "\n",
    "Exam the performance of 'US Bing Ads Generic' to understand the prediction trend since it is gettiong bad results"
   ]
  },
  {
   "cell_type": "code",
   "execution_count": null,
   "id": "547c0108-e00b-4982-98d1-6e294ba2ba81",
   "metadata": {},
   "outputs": [],
   "source": [
    "# Import needed packages\n",
    "\n",
    "import pickle\n",
    "from repo.Accuracy import MakeFuture\n",
    "from prophet.plot import plot_plotly, plot_components_plotly"
   ]
  },
  {
   "cell_type": "code",
   "execution_count": null,
   "id": "749dea12-285f-4ae6-ae6f-7979df4ebf66",
   "metadata": {},
   "outputs": [],
   "source": [
    "# Read the split pickle file\n",
    "\n",
    "# set the pickle file name \n",
    "file_name = \"US Bing Ads Generic.pkl\"\n",
    "pickle_file_path = base_path + file_name\n",
    "\n",
    "# open the pickle file \n",
    "pickle_in = open(pickle_file_path,'rb') \n",
    "\n",
    "# unpickled model is the model to use, training_dataset is used to get historical spend\n",
    "unpickled_model, training_dataset, model_df = pickle.load(pickle_in)\n"
   ]
  },
  {
   "cell_type": "code",
   "execution_count": null,
   "id": "2726d8b7-7f87-4f8c-a99b-3d96f4844c32",
   "metadata": {},
   "outputs": [],
   "source": [
    "# Set a copy of the analytical file and some splits variables\n",
    "\n",
    "analytical_file_copy = analytical_file_df.copy() # set the analytical file copy\n",
    "market = 'US' # set the first split breakdown variable value\n",
    "account_type = 'Bing Ads' # set the second split breakdown variable value\n",
    "funnel = 'Generic' # set the third split breakdown variable value\n"
   ]
  },
  {
   "cell_type": "code",
   "execution_count": null,
   "id": "aeab4535-21e6-4723-8bf3-8657e99be857",
   "metadata": {},
   "outputs": [],
   "source": [
    "# Filter the analytical file for just the selected split\n",
    "\n",
    "spend_df_for_forecast = analytical_file_copy[(analytical_file_copy['market'] == market) & (analytical_file_copy['account_type'] == account_type) & \\\n",
    "                                              (analytical_file_copy['funnel'] == funnel)].copy()\n",
    "\n",
    "spend_df_for_forecast['ds'] = pd.to_datetime(spend_df_for_forecast.ds)\n",
    "\n",
    "for i in New_Cuts_df.loc[(New_Cuts_df['market']=='US') & (New_Cuts_df['account_type']=='Bing Ads') & (New_Cuts_df['funnel']=='Generic')].itertuples(): # get the itertuple for \n",
    "     pass \n"
   ]
  },
  {
   "cell_type": "code",
   "execution_count": null,
   "id": "6d868a6e-e7c7-4b6f-bf1c-899366b7a7f0",
   "metadata": {},
   "outputs": [],
   "source": [
    "# Create the future data frame and predict using the prophet model\n",
    "\n",
    "# create the future data frame\n",
    "future = MakeFuture(model = unpickled_model, model_df = training_dataset, values = i, periods = 183, future_input_df = spend_df_for_forecast)\n",
    "forecast = unpickled_model.predict(future) # predict the model with the future data frame\n"
   ]
  },
  {
   "cell_type": "code",
   "execution_count": null,
   "id": "8527baf5-3da1-4eb4-b0df-dadd11a0e2b3",
   "metadata": {},
   "outputs": [],
   "source": [
    "# Plot components of the prophet forecast and plot the forecast\n",
    "\n",
    "unpickled_model.plot_components(forecast) # plot components\n",
    "plot_plotly(unpickled_model, forecast) # plot the forecast model"
   ]
  },
  {
   "cell_type": "markdown",
   "id": "f63cbba6-f58c-4dbe-aa46-9687836b4704",
   "metadata": {},
   "source": [
    "# Constraint Setting"
   ]
  },
  {
   "cell_type": "code",
   "execution_count": null,
   "id": "f853c8d8-5427-4674-868d-04d93d26048e",
   "metadata": {},
   "outputs": [],
   "source": [
    "bounds = New_Cuts_df.copy()\n",
    "bounds['MinWeight'] = 0.8\n",
    "bounds['MaxWeight'] = 1.2\n",
    "bounds\n",
    "\n",
    "# %load_ext autoreload\n",
    "# %autoreload 2\n",
    "constraint_file_generator = ConstraintFileGenerator(config_dict, analytical_file_df)\n",
    "constraint_file = constraint_file_generator.Generate(bounds)\n",
    "constraint_file_generator.SaveFile(output_bucket, folder_name, constraint_file_name)"
   ]
  },
  {
   "cell_type": "markdown",
   "id": "d69e9ba8-f707-4f5f-945e-5bcda721beec",
   "metadata": {},
   "source": [
    "### When constraints are customized"
   ]
  },
  {
   "cell_type": "code",
   "execution_count": null,
   "id": "029548e1-e399-42dd-a092-a9a55ae64ef4",
   "metadata": {},
   "outputs": [],
   "source": [
    "constraint_file.loc[constraint_file['Month'].isin(['Nov']), 'MinWeight'] = 0.7\n",
    "constraint_file.loc[constraint_file['Month'].isin(['Nov']), 'MaxWeight'] = 0.8\n",
    "\n",
    "constraint_file_generator.SaveFile(output_bucket, folder_name, constraint_file_name, df=constraint_file)"
   ]
  },
  {
   "cell_type": "code",
   "execution_count": null,
   "id": "0475acb5-e4ac-47df-8a0d-3ced89f02bc4",
   "metadata": {},
   "outputs": [],
   "source": [
    "stop"
   ]
  },
  {
   "cell_type": "markdown",
   "id": "68a8f792-0a14-4970-bd1d-d6b7a11a8c40",
   "metadata": {},
   "source": [
    "---"
   ]
  },
  {
   "cell_type": "markdown",
   "id": "7f312715-9e0a-4bfc-9ee0-21d55956a62f",
   "metadata": {},
   "source": [
    "---"
   ]
  },
  {
   "cell_type": "markdown",
   "id": "66006cb6",
   "metadata": {},
   "source": [
    "# Accuracy Calculator"
   ]
  },
  {
   "cell_type": "code",
   "execution_count": 76,
   "id": "e407f5bb",
   "metadata": {
    "tags": []
   },
   "outputs": [
    {
     "name": "stderr",
     "output_type": "stream",
     "text": [
      "17:51:15 - cmdstanpy - INFO - Chain [1] start processing\n",
      "17:51:16 - cmdstanpy - INFO - Chain [1] done processing\n"
     ]
    },
    {
     "name": "stdout",
     "output_type": "stream",
     "text": [
      "It's underpredicted.\n",
      "Monthly Error: 47.62 Period MAE: 44.7\n"
     ]
    },
    {
     "name": "stderr",
     "output_type": "stream",
     "text": [
      "/home/jupyter/SearchForecasting/repo/Accuracy.py:267: FutureWarning: The behavior of DataFrame concatenation with empty or all-NA entries is deprecated. In a future version, this will no longer exclude empty or all-NA columns when determining the result dtypes. To retain the old behavior, exclude the relevant entries before the concat operation.\n",
      "  self.monthly_acc_df_temp = pd.concat([self.monthly_acc_df_temp, monthly_acc_df], ignore_index=True)\n",
      "17:51:27 - cmdstanpy - INFO - Chain [1] start processing\n",
      "17:51:28 - cmdstanpy - INFO - Chain [1] done processing\n"
     ]
    },
    {
     "name": "stdout",
     "output_type": "stream",
     "text": [
      "It's overpredicted.\n",
      "Monthly Error: 90.21 Period MAE: 25.319999999999997\n"
     ]
    }
   ],
   "source": [
    "# %load_ext autoreload\n",
    "# %autoreload 2\n",
    "calculator = AccuracyCalculator()\n",
    "accuracy_df = calculator.CalculateAccuracy(cuts_df, final_df, query_item_list)\n",
    "# calculator.SaveFile(bucket_name, folder_name)"
   ]
  },
  {
   "cell_type": "code",
   "execution_count": 77,
   "id": "c33e77b2",
   "metadata": {
    "tags": []
   },
   "outputs": [
    {
     "data": {
      "text/html": [
       "<div>\n",
       "<style scoped>\n",
       "    .dataframe tbody tr th:only-of-type {\n",
       "        vertical-align: middle;\n",
       "    }\n",
       "\n",
       "    .dataframe tbody tr th {\n",
       "        vertical-align: top;\n",
       "    }\n",
       "\n",
       "    .dataframe thead th {\n",
       "        text-align: right;\n",
       "    }\n",
       "</style>\n",
       "<table border=\"1\" class=\"dataframe\">\n",
       "  <thead>\n",
       "    <tr style=\"text-align: right;\">\n",
       "      <th></th>\n",
       "      <th></th>\n",
       "      <th>Actual</th>\n",
       "      <th>Forecast</th>\n",
       "      <th>Percentage Error</th>\n",
       "      <th>MAPE</th>\n",
       "      <th>Forecast Period MAE</th>\n",
       "    </tr>\n",
       "    <tr>\n",
       "      <th>account_type</th>\n",
       "      <th>funnel</th>\n",
       "      <th></th>\n",
       "      <th></th>\n",
       "      <th></th>\n",
       "      <th></th>\n",
       "      <th></th>\n",
       "    </tr>\n",
       "  </thead>\n",
       "  <tbody>\n",
       "    <tr>\n",
       "      <th rowspan=\"2\" valign=\"top\">-</th>\n",
       "      <th>Brand</th>\n",
       "      <td>-17446.000000</td>\n",
       "      <td>-9602.898571</td>\n",
       "      <td>55.624286</td>\n",
       "      <td>52.38</td>\n",
       "      <td>55.30</td>\n",
       "    </tr>\n",
       "    <tr>\n",
       "      <th>Non_Brand</th>\n",
       "      <td>-1072.142857</td>\n",
       "      <td>-1368.960000</td>\n",
       "      <td>177.167143</td>\n",
       "      <td>9.79</td>\n",
       "      <td>74.68</td>\n",
       "    </tr>\n",
       "  </tbody>\n",
       "</table>\n",
       "</div>"
      ],
      "text/plain": [
       "                              Actual     Forecast  Percentage Error   MAPE  \\\n",
       "account_type funnel                                                          \n",
       "-            Brand     -17446.000000 -9602.898571         55.624286  52.38   \n",
       "             Non_Brand  -1072.142857 -1368.960000        177.167143   9.79   \n",
       "\n",
       "                        Forecast Period MAE  \n",
       "account_type funnel                          \n",
       "-            Brand                    55.30  \n",
       "             Non_Brand                74.68  "
      ]
     },
     "execution_count": 77,
     "metadata": {},
     "output_type": "execute_result"
    }
   ],
   "source": [
    "100-accuracy_df.groupby(['account_type', 'funnel']).mean(numeric_only=1)"
   ]
  },
  {
   "cell_type": "code",
   "execution_count": null,
   "id": "f027887d",
   "metadata": {
    "tags": []
   },
   "outputs": [],
   "source": [
    "# PlotAccuracyCharts(accuracy_df, cuts_df, query_item_list)"
   ]
  },
  {
   "cell_type": "markdown",
   "id": "d390cc87",
   "metadata": {},
   "source": [
    "# Model Generator"
   ]
  },
  {
   "cell_type": "code",
   "execution_count": 78,
   "id": "128b8297",
   "metadata": {
    "tags": []
   },
   "outputs": [
    {
     "name": "stderr",
     "output_type": "stream",
     "text": [
      "17:53:54 - cmdstanpy - INFO - Chain [1] start processing\n",
      "17:53:56 - cmdstanpy - INFO - Chain [1] done processing\n",
      "17:53:58 - cmdstanpy - INFO - Chain [1] start processing\n",
      "17:54:00 - cmdstanpy - INFO - Chain [1] done processing\n"
     ]
    }
   ],
   "source": [
    "# %load_ext autoreload\n",
    "# %autoreload \n",
    "model_generator = GenerateModelFile()\n",
    "model_generator.Generate(cuts_df, final_df , query_item_list, output_bucket, folder_name, base_path=base_path)"
   ]
  },
  {
   "cell_type": "markdown",
   "id": "162a85af",
   "metadata": {},
   "source": [
    "# Constraint Setting"
   ]
  },
  {
   "cell_type": "code",
   "execution_count": null,
   "id": "fad21609",
   "metadata": {
    "tags": []
   },
   "outputs": [],
   "source": [
    "%load_ext autoreload\n",
    "%autoreload \n",
    "bounds = cuts_df.copy()\n",
    "bounds['MinWeight'] = 0.8\n",
    "bounds['MaxWeight'] = 1.2\n",
    "bounds\n",
    "\n",
    "# %load_ext autoreload\n",
    "# %autoreload 2\n",
    "constraint_file_generator = ConstraintFileGenerator(config_dict, analytical_file_df)\n",
    "constraint_file = constraint_file_generator.Generate(bounds)\n",
    "\n",
    "# Depends on buesiness requirements\n",
    "constraint_file.loc[constraint_file.Month == 'Nov', 'MinWeight'] = 1\n",
    "constraint_file.loc[constraint_file.Month == 'Nov', 'MaxWeight'] = 1.2\n",
    "\n",
    "constraint_file.loc[constraint_file.Month == 'Oct', 'MinWeight'] = 0.6\n",
    "constraint_file.loc[constraint_file.Month == 'Oct', 'MaxWeight'] = 0.8\n",
    "\n",
    "\n",
    "constraint_file_generator.SaveFile(output_bucket, folder_name, constraint_file_name, df=constraint_file)"
   ]
  },
  {
   "cell_type": "markdown",
   "id": "9e796d54-1b36-44f3-9798-54a6ff436687",
   "metadata": {},
   "source": [
    "# Regional pre forecast total spend"
   ]
  },
  {
   "cell_type": "code",
   "execution_count": null,
   "id": "4ce8514b-ec82-4502-b0ea-afa05db8882f",
   "metadata": {},
   "outputs": [],
   "source": [
    "final_df[(final_df.ds>='2022-12-31')&(final_df.ds<='2023-02-01')].groupby(by='region').sum(numeric_only=1)"
   ]
  },
  {
   "cell_type": "markdown",
   "id": "f723f9f0-3dee-4316-96c0-0a72ce01f7e5",
   "metadata": {},
   "source": [
    "# Exam"
   ]
  },
  {
   "cell_type": "code",
   "execution_count": null,
   "id": "224dcd5d-c336-4f2d-8b0a-194004fc602f",
   "metadata": {
    "tags": []
   },
   "outputs": [],
   "source": [
    "%load_ext autoreload\n",
    "%autoreload 2\n",
    "\n",
    "for i in cuts_df.itertuples():\n",
    "    break\n",
    "\n",
    "import pickle\n",
    "from repo.Accuracy import MakeFuture\n",
    "file_name = \"Canada - Brand.pkl\"\n",
    "pickle_file_path = base_path + file_name\n",
    "pickle_in = open(pickle_file_path,'rb') \n",
    "# unpickled model is the model to use, training_dataset is used to get historical spend\n",
    "unpickled_model, training_dataset, model_df = pickle.load(pickle_in)\n",
    "\n",
    "analytical_file_copy = analytical_file_df.copy()\n",
    "market = 'Canada'\n",
    "account_type = '-'\n",
    "funnel = 'Brand'\n",
    "\n",
    "spend_df_for_forecast = analytical_file_copy[(analytical_file_copy['market'] == market) & (analytical_file_copy['account_type'] == account_type) & \\\n",
    "                                             (analytical_file_copy['funnel'] == funnel)].copy()\n",
    "spend_df_for_forecast['ds'] = pd.to_datetime(spend_df_for_forecast.ds)\n",
    "\n",
    "future = MakeFuture(unpickled_model, training_dataset, i, 183, spend_df_for_forecast)\n",
    "print(future.ds.max())\n",
    "forecast = unpickled_model.predict(future)\n",
    "unpickled_model.plot_components(forecast)\n",
    "\n",
    "# from prophet.plot import plot_plotly, plot_components_plotly\n",
    "\n",
    "# plot_plotly(unpickled_model, forecast)"
   ]
  },
  {
   "cell_type": "code",
   "execution_count": null,
   "id": "64983945-83aa-46cb-9946-b5f884cc4009",
   "metadata": {},
   "outputs": [],
   "source": [
    "i"
   ]
  }
 ],
 "metadata": {
  "environment": {
   "kernel": "conda-base-py",
   "name": "workbench-notebooks.m120",
   "type": "gcloud",
   "uri": "us-docker.pkg.dev/deeplearning-platform-release/gcr.io/workbench-notebooks:m120"
  },
  "kernelspec": {
   "display_name": "Python 3 (ipykernel) (Local)",
   "language": "python",
   "name": "conda-base-py"
  },
  "language_info": {
   "codemirror_mode": {
    "name": "ipython",
    "version": 3
   },
   "file_extension": ".py",
   "mimetype": "text/x-python",
   "name": "python",
   "nbconvert_exporter": "python",
   "pygments_lexer": "ipython3",
   "version": "3.10.14"
  }
 },
 "nbformat": 4,
 "nbformat_minor": 5
}
