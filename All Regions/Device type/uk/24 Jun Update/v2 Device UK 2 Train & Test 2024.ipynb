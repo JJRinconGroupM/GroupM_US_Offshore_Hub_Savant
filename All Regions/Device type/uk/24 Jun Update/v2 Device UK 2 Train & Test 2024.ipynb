{
 "cells": [
  {
   "cell_type": "code",
   "execution_count": 21,
   "id": "106a9eda-3059-4701-b0b6-415dcb38b5d0",
   "metadata": {},
   "outputs": [],
   "source": [
    "#pip install prophet\n",
    "#pip install pathos"
   ]
  },
  {
   "cell_type": "code",
   "execution_count": 7,
   "id": "81439665",
   "metadata": {
    "tags": []
   },
   "outputs": [],
   "source": [
    "import sys\n",
    "sys.path.append(str('/home/jupyter/SearchForecasting/'))\n",
    "from configparser import ConfigParser\n",
    "\n",
    "from repo.MyConfigParser import MyConfigParser\n",
    "\n",
    "from repo.LoadData import DataLoader\n",
    "from repo.BuildModel import GenerateModelFile, CreateModel\n",
    "from repo.Accuracy import AccuracyCalculator, ProphetParameterSearch, PlotAccuracyCharts\n",
    "from repo.FileGenerator import *"
   ]
  },
  {
   "cell_type": "code",
   "execution_count": 8,
   "id": "30322320",
   "metadata": {
    "tags": []
   },
   "outputs": [
    {
     "name": "stdout",
     "output_type": "stream",
     "text": [
      "06.06.2024\n"
     ]
    }
   ],
   "source": [
    "updated_config = ConfigParser()\n",
    "config_in_path = \"/home/jupyter/SearchForecasting/UK/June 2024 Update 2/v2 config ups uk.ini\"\n",
    "updated_config.read(config_in_path)\n",
    "\n",
    "getdict = MyConfigParser()\n",
    "config_dict=getdict.GetDict(updated_config)\n",
    "\n",
    "region = config_dict['CLIENTINFO']['country']\n",
    "cutoff_month = config_dict['PROPHETSETTING']['cut_off_point']\n",
    "base_start = config_dict['PROPHETSETTING']['reference_start_date1']\n",
    "base_end = config_dict['PROPHETSETTING']['reference_end_date1']\n",
    "periods = config_dict['PROPHETSETTING']['periods']\n",
    "base_periods  = config_dict['PROPHETSETTING']['base_periods']\n",
    "\n",
    "training_query = config_dict[\"PROPHETSETTING\"][\"training_query\"]\n",
    "_input = config_dict[\"PROPHETSETTING\"][\"input\"]\n",
    "_output = config_dict[\"PROPHETSETTING\"][\"output\"]\n",
    "\n",
    "output_bucket = config_dict[\"FILEPATH\"][\"output_bucket\"]\n",
    "folder_name = config_dict[\"FILEPATH\"][\"folder_name\"]\n",
    "\n",
    "\n",
    "today = datetime.date.today().strftime(\"%m.%d.%Y\") #'03.10.2023' #\n",
    "print(today)\n",
    "base_path = config_dict[\"FILEPATH\"][\"base_path\"]\n",
    "\n",
    "boundary_df_in_path = base_path + config_dict[\"FILEPATH\"][\"boundary_df_in_path\"]\n",
    "daily_df_out_path = base_path + config_dict[\"FILEPATH\"][\"daily_df_out_path\"]\n",
    "analytical_file_path = base_path + config_dict[\"FILEPATH\"][\"analytical_file_path\"]\n",
    "cuts_df_in_path = base_path + config_dict[\"FILEPATH\"][\"cuts_df_in_path\"]\n",
    "plot_name = base_path + config_dict[\"FILEPATH\"][\"plot_name\"]\n",
    "constraint_file_name = base_path + config_dict[\"FILEPATH\"][\"constraint_file_name\"]"
   ]
  },
  {
   "cell_type": "code",
   "execution_count": 9,
   "id": "38579596-177b-4de0-8bbe-5febb358d3f5",
   "metadata": {
    "tags": []
   },
   "outputs": [
    {
     "name": "stderr",
     "output_type": "stream",
     "text": [
      "/home/jupyter/SearchForecasting/repo/QueryingData.py:34: FutureWarning: DataFrame.fillna with 'method' is deprecated and will raise in a future version. Use obj.ffill() or obj.bfill() instead.\n",
      "  search_df.fillna(method = 'ffill', inplace = True)\n"
     ]
    },
    {
     "data": {
      "text/html": [
       "<div>\n",
       "<style scoped>\n",
       "    .dataframe tbody tr th:only-of-type {\n",
       "        vertical-align: middle;\n",
       "    }\n",
       "\n",
       "    .dataframe tbody tr th {\n",
       "        vertical-align: top;\n",
       "    }\n",
       "\n",
       "    .dataframe thead th {\n",
       "        text-align: right;\n",
       "    }\n",
       "</style>\n",
       "<table border=\"1\" class=\"dataframe\">\n",
       "  <thead>\n",
       "    <tr style=\"text-align: right;\">\n",
       "      <th></th>\n",
       "      <th>market</th>\n",
       "      <th>account_type</th>\n",
       "      <th>funnel</th>\n",
       "      <th>ds</th>\n",
       "      <th>region</th>\n",
       "      <th>X</th>\n",
       "      <th>y</th>\n",
       "    </tr>\n",
       "  </thead>\n",
       "  <tbody>\n",
       "    <tr>\n",
       "      <th>0</th>\n",
       "      <td>UK</td>\n",
       "      <td>Desktop</td>\n",
       "      <td>-</td>\n",
       "      <td>2022-01-01</td>\n",
       "      <td>EMEA</td>\n",
       "      <td>451.76</td>\n",
       "      <td>58.0</td>\n",
       "    </tr>\n",
       "    <tr>\n",
       "      <th>1</th>\n",
       "      <td>UK</td>\n",
       "      <td>Desktop</td>\n",
       "      <td>-</td>\n",
       "      <td>2022-01-02</td>\n",
       "      <td>EMEA</td>\n",
       "      <td>748.38</td>\n",
       "      <td>119.0</td>\n",
       "    </tr>\n",
       "    <tr>\n",
       "      <th>2</th>\n",
       "      <td>UK</td>\n",
       "      <td>Desktop</td>\n",
       "      <td>-</td>\n",
       "      <td>2022-01-03</td>\n",
       "      <td>EMEA</td>\n",
       "      <td>1526.97</td>\n",
       "      <td>428.0</td>\n",
       "    </tr>\n",
       "    <tr>\n",
       "      <th>3</th>\n",
       "      <td>UK</td>\n",
       "      <td>Desktop</td>\n",
       "      <td>-</td>\n",
       "      <td>2022-01-04</td>\n",
       "      <td>EMEA</td>\n",
       "      <td>3765.39</td>\n",
       "      <td>1521.0</td>\n",
       "    </tr>\n",
       "    <tr>\n",
       "      <th>4</th>\n",
       "      <td>UK</td>\n",
       "      <td>Desktop</td>\n",
       "      <td>-</td>\n",
       "      <td>2022-01-05</td>\n",
       "      <td>EMEA</td>\n",
       "      <td>3341.83</td>\n",
       "      <td>1346.0</td>\n",
       "    </tr>\n",
       "    <tr>\n",
       "      <th>...</th>\n",
       "      <td>...</td>\n",
       "      <td>...</td>\n",
       "      <td>...</td>\n",
       "      <td>...</td>\n",
       "      <td>...</td>\n",
       "      <td>...</td>\n",
       "      <td>...</td>\n",
       "    </tr>\n",
       "    <tr>\n",
       "      <th>1637</th>\n",
       "      <td>UK</td>\n",
       "      <td>Mobile &amp; Tablet</td>\n",
       "      <td>-</td>\n",
       "      <td>2024-04-26</td>\n",
       "      <td>EMEA</td>\n",
       "      <td>175.69</td>\n",
       "      <td>25.0</td>\n",
       "    </tr>\n",
       "    <tr>\n",
       "      <th>1638</th>\n",
       "      <td>UK</td>\n",
       "      <td>Mobile &amp; Tablet</td>\n",
       "      <td>-</td>\n",
       "      <td>2024-04-27</td>\n",
       "      <td>EMEA</td>\n",
       "      <td>148.09</td>\n",
       "      <td>12.0</td>\n",
       "    </tr>\n",
       "    <tr>\n",
       "      <th>1639</th>\n",
       "      <td>UK</td>\n",
       "      <td>Mobile &amp; Tablet</td>\n",
       "      <td>-</td>\n",
       "      <td>2024-04-28</td>\n",
       "      <td>EMEA</td>\n",
       "      <td>209.39</td>\n",
       "      <td>26.0</td>\n",
       "    </tr>\n",
       "    <tr>\n",
       "      <th>1640</th>\n",
       "      <td>UK</td>\n",
       "      <td>Mobile &amp; Tablet</td>\n",
       "      <td>-</td>\n",
       "      <td>2024-04-29</td>\n",
       "      <td>EMEA</td>\n",
       "      <td>279.72</td>\n",
       "      <td>38.0</td>\n",
       "    </tr>\n",
       "    <tr>\n",
       "      <th>1641</th>\n",
       "      <td>UK</td>\n",
       "      <td>Mobile &amp; Tablet</td>\n",
       "      <td>-</td>\n",
       "      <td>2024-04-30</td>\n",
       "      <td>EMEA</td>\n",
       "      <td>299.58</td>\n",
       "      <td>47.0</td>\n",
       "    </tr>\n",
       "  </tbody>\n",
       "</table>\n",
       "<p>1642 rows × 7 columns</p>\n",
       "</div>"
      ],
      "text/plain": [
       "     market     account_type funnel         ds region        X       y\n",
       "0        UK          Desktop      - 2022-01-01   EMEA   451.76    58.0\n",
       "1        UK          Desktop      - 2022-01-02   EMEA   748.38   119.0\n",
       "2        UK          Desktop      - 2022-01-03   EMEA  1526.97   428.0\n",
       "3        UK          Desktop      - 2022-01-04   EMEA  3765.39  1521.0\n",
       "4        UK          Desktop      - 2022-01-05   EMEA  3341.83  1346.0\n",
       "...     ...              ...    ...        ...    ...      ...     ...\n",
       "1637     UK  Mobile & Tablet      - 2024-04-26   EMEA   175.69    25.0\n",
       "1638     UK  Mobile & Tablet      - 2024-04-27   EMEA   148.09    12.0\n",
       "1639     UK  Mobile & Tablet      - 2024-04-28   EMEA   209.39    26.0\n",
       "1640     UK  Mobile & Tablet      - 2024-04-29   EMEA   279.72    38.0\n",
       "1641     UK  Mobile & Tablet      - 2024-04-30   EMEA   299.58    47.0\n",
       "\n",
       "[1642 rows x 7 columns]"
      ]
     },
     "execution_count": 9,
     "metadata": {},
     "output_type": "execute_result"
    }
   ],
   "source": [
    "daily_df = GetBQData(training_query, _input, _output)\n",
    "\n",
    "df = daily_df.copy()\n",
    "df = df.groupby(['market', 'account_type', 'funnel', 'ds']).sum().reset_index()\n",
    "\n",
    "# log Transformation\n",
    "# df['cost'] = np.log(df['cost'])\n",
    "# df.loc[(df['cost'] < 0) | (np.isinf(df['cost'])), 'cost'] = 0\n",
    "\n",
    "df.ds = pd.to_datetime(df.ds)\n",
    "df = df[~df[['ds', 'y']].isin([np.nan, np.inf, -np.inf]).any(axis=1)]\n",
    "df\n",
    "#Combine Tablet and desktop together \n",
    "#For November data, use the daily average for that year to fill the missing data"
   ]
  },
  {
   "cell_type": "code",
   "execution_count": 10,
   "id": "f370e579",
   "metadata": {
    "tags": []
   },
   "outputs": [],
   "source": [
    "# df = daily_df.copy()\n",
    "# df.market = 'US'\n",
    "# df = df.groupby(['region', 'market', 'account_type', 'funnel', 'ds']).sum().reset_index()\n",
    "\n",
    "# # log Transformation\n",
    "# # df['cost'] = np.log(df['cost'])\n",
    "# # df.loc[(df['cost'] < 0) | (np.isinf(df['cost'])), 'cost'] = 0\n",
    "\n",
    "# df.ds = pd.to_datetime(df.ds)\n",
    "\n",
    "# df = df[~df[['ds', 'y']].isin([np.nan, np.inf, -np.inf]).any(axis=1)]\n",
    "# df = df[df.ds < cutoff_month]\n",
    "# # remove inactive days\n",
    "# df.drop(df[((df['ds'] >= '2021-08-01')&(df['ds'] <= '2021-10-31')) & ((df.account_type == 'Bing Ads') & (df.funnel == 'Brand'))].index,\n",
    "#        axis = 0, inplace = True)\n",
    "# df.drop(df[((df['ds'] >= '2019-03-01')&(df['ds'] <= '2019-08-31')) & ((df.account_type == 'Bing Ads') & (df.funnel == 'Brand'))].index,\n",
    "#        axis = 0, inplace = True)\n",
    "\n",
    "# df.drop(df[((df['ds'] >= '2021-07-01')&(df['ds'] <= '2021-10-31')) & ((df.account_type == 'Bing Ads') & (df.funnel == 'Generic'))].index,\n",
    "#        axis = 0, inplace = True)\n",
    "\n",
    "# # add regressors\n",
    "# df['anomaly_2021'] = df['ds'].apply(lambda x: 1 if (x >= datetime.datetime(2021,8,1))\\\n",
    "#                                      & (x <= datetime.datetime(2021,10,31)) else 0)\n",
    "# df['covid_year_dummy'] = 0\n",
    "# df.loc[(df['ds'] >= '2020-01-01') & (df['ds'] <= '2020-12-31'), 'Covid_Year_Dummy'] = 1\n",
    "\n",
    "# df['weekday_or_weekend'] = df['ds'].apply(lambda x: 1 if x.dayofweek > 4 else 0)\n",
    "\n",
    "# # set cap and floor for log regression\n",
    "# df['Month of Ds'] = df['ds'].dt.month_name()\n",
    "\n",
    "# df['floor'] = 0\n",
    "\n",
    "# boundary_df = pd.read_csv('Floor Cap Setting 2022.csv')\n",
    "# boundary_df.rename(columns = {'Account Type': 'account_type', 'Funnel':'funnel'}, inplace = True)\n",
    "# boundary_df.drop(['Market'], axis = 1, inplace = True)\n",
    "\n",
    "# df = pd.merge(df, boundary_df, on = ['account_type', 'funnel'])\n",
    "# df['cap'] = df.ROAS * df.X / df.AOV\n",
    "# df.loc[df.cap == 0, 'cap'] = df.cap.max()\n",
    "\n",
    "# # df.to_csv(f'Daily Data {today}.csv')\n",
    "# df.tail()\n",
    "\n",
    "#del df"
   ]
  },
  {
   "cell_type": "code",
   "execution_count": 11,
   "id": "d0a23c11-282c-49fd-b729-0c882a21628a",
   "metadata": {
    "tags": []
   },
   "outputs": [
    {
     "name": "stderr",
     "output_type": "stream",
     "text": [
      "/var/tmp/ipykernel_5927/3220856806.py:31: FutureWarning: DataFrame.fillna with 'method' is deprecated and will raise in a future version. Use obj.ffill() or obj.bfill() instead.\n",
      "  filled_november_df[['region', 'market', 'funnel']] = df_2022_account_type[['region', 'market', 'funnel']].fillna(method='ffill').iloc[-1]\n",
      "/var/tmp/ipykernel_5927/3220856806.py:31: FutureWarning: Series.__getitem__ treating keys as positions is deprecated. In a future version, integer keys will always be treated as labels (consistent with DataFrame behavior). To access a value by position, use `ser.iloc[pos]`\n",
      "  filled_november_df[['region', 'market', 'funnel']] = df_2022_account_type[['region', 'market', 'funnel']].fillna(method='ffill').iloc[-1]\n",
      "/var/tmp/ipykernel_5927/3220856806.py:31: FutureWarning: Series.__getitem__ treating keys as positions is deprecated. In a future version, integer keys will always be treated as labels (consistent with DataFrame behavior). To access a value by position, use `ser.iloc[pos]`\n",
      "  filled_november_df[['region', 'market', 'funnel']] = df_2022_account_type[['region', 'market', 'funnel']].fillna(method='ffill').iloc[-1]\n",
      "/var/tmp/ipykernel_5927/3220856806.py:31: FutureWarning: Series.__getitem__ treating keys as positions is deprecated. In a future version, integer keys will always be treated as labels (consistent with DataFrame behavior). To access a value by position, use `ser.iloc[pos]`\n",
      "  filled_november_df[['region', 'market', 'funnel']] = df_2022_account_type[['region', 'market', 'funnel']].fillna(method='ffill').iloc[-1]\n",
      "/var/tmp/ipykernel_5927/3220856806.py:31: FutureWarning: DataFrame.fillna with 'method' is deprecated and will raise in a future version. Use obj.ffill() or obj.bfill() instead.\n",
      "  filled_november_df[['region', 'market', 'funnel']] = df_2022_account_type[['region', 'market', 'funnel']].fillna(method='ffill').iloc[-1]\n",
      "/var/tmp/ipykernel_5927/3220856806.py:31: FutureWarning: Series.__getitem__ treating keys as positions is deprecated. In a future version, integer keys will always be treated as labels (consistent with DataFrame behavior). To access a value by position, use `ser.iloc[pos]`\n",
      "  filled_november_df[['region', 'market', 'funnel']] = df_2022_account_type[['region', 'market', 'funnel']].fillna(method='ffill').iloc[-1]\n",
      "/var/tmp/ipykernel_5927/3220856806.py:31: FutureWarning: Series.__getitem__ treating keys as positions is deprecated. In a future version, integer keys will always be treated as labels (consistent with DataFrame behavior). To access a value by position, use `ser.iloc[pos]`\n",
      "  filled_november_df[['region', 'market', 'funnel']] = df_2022_account_type[['region', 'market', 'funnel']].fillna(method='ffill').iloc[-1]\n",
      "/var/tmp/ipykernel_5927/3220856806.py:31: FutureWarning: Series.__getitem__ treating keys as positions is deprecated. In a future version, integer keys will always be treated as labels (consistent with DataFrame behavior). To access a value by position, use `ser.iloc[pos]`\n",
      "  filled_november_df[['region', 'market', 'funnel']] = df_2022_account_type[['region', 'market', 'funnel']].fillna(method='ffill').iloc[-1]\n"
     ]
    }
   ],
   "source": [
    "df['ds'] = pd.to_datetime(df['ds'])\n",
    "\n",
    "# Filter the data for the year 2022\n",
    "df_2022 = df[df['ds'].dt.year == 2022]\n",
    "\n",
    "# Get the unique account types\n",
    "account_types = df['account_type'].unique()\n",
    "\n",
    "# Initialize an empty dataframe to store the filled November data\n",
    "filled_november_data = pd.DataFrame()\n",
    "\n",
    "# Loop through the unique account types\n",
    "for account_type in account_types:\n",
    "    # Filter the data for the current account type\n",
    "    df_2022_account_type = df_2022[df_2022['account_type'] == account_type]\n",
    "\n",
    "    # Group the data by day of the month and calculate the mean for X and y columns\n",
    "    daily_avg_2022 = df_2022_account_type.groupby(df_2022_account_type['ds'].dt.day)[['X', 'y']].mean()\n",
    "\n",
    "    # Create a new dataframe for November 2022 with date range from 1st to 30th\n",
    "    november_2022 = pd.date_range(start='2022-11-01', end='2022-11-30', freq='D')\n",
    "    november_df = pd.DataFrame(november_2022, columns=['ds'])\n",
    "\n",
    "    # Merge the daily averages with the November dataframe\n",
    "    filled_november_df = november_df.merge(daily_avg_2022, left_on=november_df['ds'].dt.day, right_index=True)\n",
    "\n",
    "    # Update the 'ds' column with the correct dates for November 2022\n",
    "    filled_november_df['ds'] = november_2022\n",
    "\n",
    "    # Forward-fill the missing values in region, market, funnel, and account_type columns\n",
    "    filled_november_df[['region', 'market', 'funnel']] = df_2022_account_type[['region', 'market', 'funnel']].fillna(method='ffill').iloc[-1]\n",
    "    filled_november_df['account_type'] = account_type\n",
    "\n",
    "    # Append the filled November data for the current account type to the filled_november_data dataframe\n",
    "    filled_november_data = pd.concat([filled_november_data, filled_november_df], ignore_index=True)\n",
    "\n",
    "# Append the filled November data to the original dataframe\n",
    "df_filled = pd.concat([df, filled_november_data], ignore_index=True).drop(columns='key_0')"
   ]
  },
  {
   "cell_type": "code",
   "execution_count": 12,
   "id": "97479623-5bf7-49f5-9ca6-31bbc219bda3",
   "metadata": {},
   "outputs": [],
   "source": [
    "#missing_data_df = pd.DataFrame(missing_data)\n",
    "#df = pd.concat([df, missing_data_df], ignore_index=True)"
   ]
  },
  {
   "cell_type": "code",
   "execution_count": 13,
   "id": "549cac2a-af3e-4b0a-ad67-7bcaaf0befc6",
   "metadata": {
    "tags": []
   },
   "outputs": [
    {
     "data": {
      "text/html": [
       "<div>\n",
       "<style scoped>\n",
       "    .dataframe tbody tr th:only-of-type {\n",
       "        vertical-align: middle;\n",
       "    }\n",
       "\n",
       "    .dataframe tbody tr th {\n",
       "        vertical-align: top;\n",
       "    }\n",
       "\n",
       "    .dataframe thead th {\n",
       "        text-align: right;\n",
       "    }\n",
       "</style>\n",
       "<table border=\"1\" class=\"dataframe\">\n",
       "  <thead>\n",
       "    <tr style=\"text-align: right;\">\n",
       "      <th></th>\n",
       "      <th>market</th>\n",
       "      <th>account_type</th>\n",
       "      <th>funnel</th>\n",
       "      <th>ds</th>\n",
       "      <th>region</th>\n",
       "      <th>X</th>\n",
       "      <th>y</th>\n",
       "      <th>weekday_or_weekend</th>\n",
       "      <th>Month of Ds</th>\n",
       "      <th>floor</th>\n",
       "      <th>AOV</th>\n",
       "      <th>ROAS</th>\n",
       "      <th>cap</th>\n",
       "    </tr>\n",
       "  </thead>\n",
       "  <tbody>\n",
       "    <tr>\n",
       "      <th>0</th>\n",
       "      <td>UK</td>\n",
       "      <td>Desktop</td>\n",
       "      <td>-</td>\n",
       "      <td>2022-01-01</td>\n",
       "      <td>EMEA</td>\n",
       "      <td>451.760000</td>\n",
       "      <td>58.000000</td>\n",
       "      <td>1</td>\n",
       "      <td>January</td>\n",
       "      <td>0</td>\n",
       "      <td>23.28</td>\n",
       "      <td>1.98</td>\n",
       "      <td>38.422887</td>\n",
       "    </tr>\n",
       "    <tr>\n",
       "      <th>1</th>\n",
       "      <td>UK</td>\n",
       "      <td>Desktop</td>\n",
       "      <td>-</td>\n",
       "      <td>2022-01-02</td>\n",
       "      <td>EMEA</td>\n",
       "      <td>748.380000</td>\n",
       "      <td>119.000000</td>\n",
       "      <td>1</td>\n",
       "      <td>January</td>\n",
       "      <td>0</td>\n",
       "      <td>23.28</td>\n",
       "      <td>1.98</td>\n",
       "      <td>63.650876</td>\n",
       "    </tr>\n",
       "    <tr>\n",
       "      <th>2</th>\n",
       "      <td>UK</td>\n",
       "      <td>Desktop</td>\n",
       "      <td>-</td>\n",
       "      <td>2022-01-03</td>\n",
       "      <td>EMEA</td>\n",
       "      <td>1526.970000</td>\n",
       "      <td>428.000000</td>\n",
       "      <td>0</td>\n",
       "      <td>January</td>\n",
       "      <td>0</td>\n",
       "      <td>23.28</td>\n",
       "      <td>1.98</td>\n",
       "      <td>129.871160</td>\n",
       "    </tr>\n",
       "    <tr>\n",
       "      <th>3</th>\n",
       "      <td>UK</td>\n",
       "      <td>Desktop</td>\n",
       "      <td>-</td>\n",
       "      <td>2022-01-04</td>\n",
       "      <td>EMEA</td>\n",
       "      <td>3765.390000</td>\n",
       "      <td>1521.000000</td>\n",
       "      <td>0</td>\n",
       "      <td>January</td>\n",
       "      <td>0</td>\n",
       "      <td>23.28</td>\n",
       "      <td>1.98</td>\n",
       "      <td>320.252242</td>\n",
       "    </tr>\n",
       "    <tr>\n",
       "      <th>4</th>\n",
       "      <td>UK</td>\n",
       "      <td>Desktop</td>\n",
       "      <td>-</td>\n",
       "      <td>2022-01-05</td>\n",
       "      <td>EMEA</td>\n",
       "      <td>3341.830000</td>\n",
       "      <td>1346.000000</td>\n",
       "      <td>0</td>\n",
       "      <td>January</td>\n",
       "      <td>0</td>\n",
       "      <td>23.28</td>\n",
       "      <td>1.98</td>\n",
       "      <td>284.227809</td>\n",
       "    </tr>\n",
       "    <tr>\n",
       "      <th>...</th>\n",
       "      <td>...</td>\n",
       "      <td>...</td>\n",
       "      <td>...</td>\n",
       "      <td>...</td>\n",
       "      <td>...</td>\n",
       "      <td>...</td>\n",
       "      <td>...</td>\n",
       "      <td>...</td>\n",
       "      <td>...</td>\n",
       "      <td>...</td>\n",
       "      <td>...</td>\n",
       "      <td>...</td>\n",
       "      <td>...</td>\n",
       "    </tr>\n",
       "    <tr>\n",
       "      <th>1697</th>\n",
       "      <td>UK</td>\n",
       "      <td>Mobile &amp; Tablet</td>\n",
       "      <td>-</td>\n",
       "      <td>2022-11-26</td>\n",
       "      <td>EMEA</td>\n",
       "      <td>303.719091</td>\n",
       "      <td>51.909091</td>\n",
       "      <td>1</td>\n",
       "      <td>November</td>\n",
       "      <td>0</td>\n",
       "      <td>21.90</td>\n",
       "      <td>0.85</td>\n",
       "      <td>11.788184</td>\n",
       "    </tr>\n",
       "    <tr>\n",
       "      <th>1698</th>\n",
       "      <td>UK</td>\n",
       "      <td>Mobile &amp; Tablet</td>\n",
       "      <td>-</td>\n",
       "      <td>2022-11-27</td>\n",
       "      <td>EMEA</td>\n",
       "      <td>304.482727</td>\n",
       "      <td>62.000000</td>\n",
       "      <td>1</td>\n",
       "      <td>November</td>\n",
       "      <td>0</td>\n",
       "      <td>21.90</td>\n",
       "      <td>0.85</td>\n",
       "      <td>11.817823</td>\n",
       "    </tr>\n",
       "    <tr>\n",
       "      <th>1699</th>\n",
       "      <td>UK</td>\n",
       "      <td>Mobile &amp; Tablet</td>\n",
       "      <td>-</td>\n",
       "      <td>2022-11-28</td>\n",
       "      <td>EMEA</td>\n",
       "      <td>304.740909</td>\n",
       "      <td>65.818182</td>\n",
       "      <td>0</td>\n",
       "      <td>November</td>\n",
       "      <td>0</td>\n",
       "      <td>21.90</td>\n",
       "      <td>0.85</td>\n",
       "      <td>11.827844</td>\n",
       "    </tr>\n",
       "    <tr>\n",
       "      <th>1700</th>\n",
       "      <td>UK</td>\n",
       "      <td>Mobile &amp; Tablet</td>\n",
       "      <td>-</td>\n",
       "      <td>2022-11-29</td>\n",
       "      <td>EMEA</td>\n",
       "      <td>315.543000</td>\n",
       "      <td>67.100000</td>\n",
       "      <td>0</td>\n",
       "      <td>November</td>\n",
       "      <td>0</td>\n",
       "      <td>21.90</td>\n",
       "      <td>0.85</td>\n",
       "      <td>12.247103</td>\n",
       "    </tr>\n",
       "    <tr>\n",
       "      <th>1701</th>\n",
       "      <td>UK</td>\n",
       "      <td>Mobile &amp; Tablet</td>\n",
       "      <td>-</td>\n",
       "      <td>2022-11-30</td>\n",
       "      <td>EMEA</td>\n",
       "      <td>300.316000</td>\n",
       "      <td>59.400000</td>\n",
       "      <td>0</td>\n",
       "      <td>November</td>\n",
       "      <td>0</td>\n",
       "      <td>21.90</td>\n",
       "      <td>0.85</td>\n",
       "      <td>11.656100</td>\n",
       "    </tr>\n",
       "  </tbody>\n",
       "</table>\n",
       "<p>1702 rows × 13 columns</p>\n",
       "</div>"
      ],
      "text/plain": [
       "     market     account_type funnel         ds region            X  \\\n",
       "0        UK          Desktop      - 2022-01-01   EMEA   451.760000   \n",
       "1        UK          Desktop      - 2022-01-02   EMEA   748.380000   \n",
       "2        UK          Desktop      - 2022-01-03   EMEA  1526.970000   \n",
       "3        UK          Desktop      - 2022-01-04   EMEA  3765.390000   \n",
       "4        UK          Desktop      - 2022-01-05   EMEA  3341.830000   \n",
       "...     ...              ...    ...        ...    ...          ...   \n",
       "1697     UK  Mobile & Tablet      - 2022-11-26   EMEA   303.719091   \n",
       "1698     UK  Mobile & Tablet      - 2022-11-27   EMEA   304.482727   \n",
       "1699     UK  Mobile & Tablet      - 2022-11-28   EMEA   304.740909   \n",
       "1700     UK  Mobile & Tablet      - 2022-11-29   EMEA   315.543000   \n",
       "1701     UK  Mobile & Tablet      - 2022-11-30   EMEA   300.316000   \n",
       "\n",
       "                y  weekday_or_weekend Month of Ds  floor    AOV  ROAS  \\\n",
       "0       58.000000                   1     January      0  23.28  1.98   \n",
       "1      119.000000                   1     January      0  23.28  1.98   \n",
       "2      428.000000                   0     January      0  23.28  1.98   \n",
       "3     1521.000000                   0     January      0  23.28  1.98   \n",
       "4     1346.000000                   0     January      0  23.28  1.98   \n",
       "...           ...                 ...         ...    ...    ...   ...   \n",
       "1697    51.909091                   1    November      0  21.90  0.85   \n",
       "1698    62.000000                   1    November      0  21.90  0.85   \n",
       "1699    65.818182                   0    November      0  21.90  0.85   \n",
       "1700    67.100000                   0    November      0  21.90  0.85   \n",
       "1701    59.400000                   0    November      0  21.90  0.85   \n",
       "\n",
       "             cap  \n",
       "0      38.422887  \n",
       "1      63.650876  \n",
       "2     129.871160  \n",
       "3     320.252242  \n",
       "4     284.227809  \n",
       "...          ...  \n",
       "1697   11.788184  \n",
       "1698   11.817823  \n",
       "1699   11.827844  \n",
       "1700   12.247103  \n",
       "1701   11.656100  \n",
       "\n",
       "[1702 rows x 13 columns]"
      ]
     },
     "execution_count": 13,
     "metadata": {},
     "output_type": "execute_result"
    }
   ],
   "source": [
    "df_filled['weekday_or_weekend'] = df_filled['ds'].apply(lambda x: 1 if x.dayofweek > 4 else 0)\n",
    "\n",
    "# set cap and floor for log regression\n",
    "df_filled['Month of Ds'] = df_filled['ds'].dt.month_name()\n",
    "\n",
    "df_filled['floor'] = 0\n",
    "\n",
    "boundary_df = pd.read_csv(base_path + 'UK Floor Cap Setting Feb 2024.csv')\n",
    "boundary_df.rename(columns = {'Account Type': 'account_type', 'Funnel':'funnel'}, inplace = True)\n",
    "boundary_df.drop(['Market'], axis = 1, inplace = True)\n",
    "\n",
    "df_filled = pd.merge(df_filled, boundary_df, on = ['account_type', 'funnel'])\n",
    "df_filled['cap'] = df_filled.ROAS * df_filled.X / df_filled.AOV\n",
    "df_filled.loc[df_filled.cap == 0, 'cap'] = df_filled.cap.max()\n",
    "\n",
    "df_filled.to_csv(f'Daily Data {today}.csv')\n",
    "\n",
    "df_filled.to_csv(base_path + 'df_filled.csv')\n",
    "\n",
    "df_filled"
   ]
  },
  {
   "cell_type": "markdown",
   "id": "774b147c",
   "metadata": {},
   "source": [
    "# Analytical File Generator"
   ]
  },
  {
   "cell_type": "code",
   "execution_count": 14,
   "id": "19844efe-b38e-4fc0-ae9e-f5649a8805cd",
   "metadata": {
    "tags": []
   },
   "outputs": [
    {
     "name": "stderr",
     "output_type": "stream",
     "text": [
      "/home/jupyter/SearchForecasting/repo/QueryingData.py:34: FutureWarning: DataFrame.fillna with 'method' is deprecated and will raise in a future version. Use obj.ffill() or obj.bfill() instead.\n",
      "  search_df.fillna(method = 'ffill', inplace = True)\n"
     ]
    }
   ],
   "source": [
    "generator = AnalyticalFileGenerator(config_dict)\n",
    "analytical_file_df = generator.generate()\n",
    "analytical_file_df = pd.merge(analytical_file_df, boundary_df, on = ['account_type', 'funnel'])\n",
    "analytical_file_df.to_csv(analytical_file_path)"
   ]
  },
  {
   "cell_type": "code",
   "execution_count": 30,
   "id": "5bdb4876-a3ad-4c2a-ab3d-6fb36770bf46",
   "metadata": {
    "tags": []
   },
   "outputs": [
    {
     "data": {
      "text/plain": [
       "['UK_Desktop_-_Apr_2024',\n",
       " 'UK_Desktop_-_Aug_2024',\n",
       " 'UK_Desktop_-_Dec_2024',\n",
       " 'UK_Desktop_-_Jul_2024',\n",
       " 'UK_Desktop_-_Jun_2024',\n",
       " 'UK_Desktop_-_May_2024',\n",
       " 'UK_Desktop_-_Nov_2024',\n",
       " 'UK_Desktop_-_Oct_2024',\n",
       " 'UK_Desktop_-_Sep_2024',\n",
       " 'UK_Mobile_&_Tablet_-_Apr_2024',\n",
       " 'UK_Mobile_&_Tablet_-_Aug_2024',\n",
       " 'UK_Mobile_&_Tablet_-_Dec_2024',\n",
       " 'UK_Mobile_&_Tablet_-_Jul_2024',\n",
       " 'UK_Mobile_&_Tablet_-_Jun_2024',\n",
       " 'UK_Mobile_&_Tablet_-_May_2024',\n",
       " 'UK_Mobile_&_Tablet_-_Nov_2024',\n",
       " 'UK_Mobile_&_Tablet_-_Oct_2024',\n",
       " 'UK_Mobile_&_Tablet_-_Sep_2024']"
      ]
     },
     "execution_count": 30,
     "metadata": {},
     "output_type": "execute_result"
    }
   ],
   "source": [
    "[col for col in analytical_file_df.columns if 'UK' in col]"
   ]
  },
  {
   "cell_type": "code",
   "execution_count": 23,
   "id": "15bde631-43ff-4936-8868-1de8f69dd48d",
   "metadata": {
    "tags": []
   },
   "outputs": [
    {
     "data": {
      "text/html": [
       "<div>\n",
       "<style scoped>\n",
       "    .dataframe tbody tr th:only-of-type {\n",
       "        vertical-align: middle;\n",
       "    }\n",
       "\n",
       "    .dataframe tbody tr th {\n",
       "        vertical-align: top;\n",
       "    }\n",
       "\n",
       "    .dataframe thead th {\n",
       "        text-align: right;\n",
       "    }\n",
       "</style>\n",
       "<table border=\"1\" class=\"dataframe\">\n",
       "  <thead>\n",
       "    <tr style=\"text-align: right;\">\n",
       "      <th></th>\n",
       "      <th>market</th>\n",
       "      <th>account_type</th>\n",
       "      <th>funnel</th>\n",
       "      <th>periods_for_acc_cal</th>\n",
       "      <th>changepoint_prior_scale</th>\n",
       "      <th>seasonality_prior_scale</th>\n",
       "      <th>holidays_prior_scale</th>\n",
       "      <th>seasonality_mode</th>\n",
       "      <th>input_mode</th>\n",
       "      <th>weekday_or_weekend</th>\n",
       "      <th>...</th>\n",
       "      <th>anomaly_2021</th>\n",
       "      <th>generic_cost_split</th>\n",
       "      <th>competitor_cost_split</th>\n",
       "      <th>new_confirmed</th>\n",
       "      <th>power</th>\n",
       "      <th>growth</th>\n",
       "      <th>MAPE</th>\n",
       "      <th>period_AE</th>\n",
       "      <th>periods</th>\n",
       "      <th>cutoff_month</th>\n",
       "    </tr>\n",
       "  </thead>\n",
       "  <tbody>\n",
       "    <tr>\n",
       "      <th>0</th>\n",
       "      <td>UK</td>\n",
       "      <td>Desktop</td>\n",
       "      <td>-</td>\n",
       "      <td>183</td>\n",
       "      <td>0.050</td>\n",
       "      <td>10.00</td>\n",
       "      <td>1.00</td>\n",
       "      <td>multiplicative</td>\n",
       "      <td>multiplicative</td>\n",
       "      <td>additive</td>\n",
       "      <td>...</td>\n",
       "      <td>na</td>\n",
       "      <td>na</td>\n",
       "      <td>na</td>\n",
       "      <td>na</td>\n",
       "      <td>na</td>\n",
       "      <td>linear</td>\n",
       "      <td>9.71</td>\n",
       "      <td>1.04</td>\n",
       "      <td>251.0</td>\n",
       "      <td>2024-04-25</td>\n",
       "    </tr>\n",
       "    <tr>\n",
       "      <th>1</th>\n",
       "      <td>UK</td>\n",
       "      <td>Mobile &amp; Tablet</td>\n",
       "      <td>-</td>\n",
       "      <td>183</td>\n",
       "      <td>0.001</td>\n",
       "      <td>0.01</td>\n",
       "      <td>0.01</td>\n",
       "      <td>additive</td>\n",
       "      <td>multiplicative</td>\n",
       "      <td>na</td>\n",
       "      <td>...</td>\n",
       "      <td>na</td>\n",
       "      <td>na</td>\n",
       "      <td>na</td>\n",
       "      <td>na</td>\n",
       "      <td>na</td>\n",
       "      <td>logistic</td>\n",
       "      <td>30.00</td>\n",
       "      <td>5.46</td>\n",
       "      <td>251.0</td>\n",
       "      <td>2024-04-25</td>\n",
       "    </tr>\n",
       "  </tbody>\n",
       "</table>\n",
       "<p>2 rows × 23 columns</p>\n",
       "</div>"
      ],
      "text/plain": [
       "  market     account_type funnel  periods_for_acc_cal  \\\n",
       "0     UK          Desktop      -                  183   \n",
       "1     UK  Mobile & Tablet      -                  183   \n",
       "\n",
       "   changepoint_prior_scale  seasonality_prior_scale  holidays_prior_scale  \\\n",
       "0                    0.050                    10.00                  1.00   \n",
       "1                    0.001                     0.01                  0.01   \n",
       "\n",
       "  seasonality_mode      input_mode weekday_or_weekend  ... anomaly_2021  \\\n",
       "0   multiplicative  multiplicative           additive  ...           na   \n",
       "1         additive  multiplicative                 na  ...           na   \n",
       "\n",
       "  generic_cost_split competitor_cost_split new_confirmed power    growth  \\\n",
       "0                 na                    na            na    na    linear   \n",
       "1                 na                    na            na    na  logistic   \n",
       "\n",
       "    MAPE period_AE periods  cutoff_month  \n",
       "0   9.71      1.04   251.0    2024-04-25  \n",
       "1  30.00      5.46   251.0    2024-04-25  \n",
       "\n",
       "[2 rows x 23 columns]"
      ]
     },
     "execution_count": 23,
     "metadata": {},
     "output_type": "execute_result"
    }
   ],
   "source": [
    "cuts_df = pd.read_csv(base_path + region + ' Breakdown Feb.csv')#.drop('Unnamed: 0', axis = 1)\n",
    "cuts_df['periods'] = periods\n",
    "cuts_df['periods_for_acc_cal'] = 183\n",
    "cuts_df['cutoff_month'] = cutoff_month\n",
    "# cuts_df.account_type = 'unified'\n",
    "cuts_df.input_mode = 'multiplicative'\n",
    "query_item_list = [query_item for query_item in [config_dict[\"CLIENTINFO\"][\"breakdown1\"], \\\n",
    "                             config_dict[\"CLIENTINFO\"][\"breakdown2\"], \\\n",
    "                             config_dict[\"CLIENTINFO\"][\"breakdown3\"], \\\n",
    "                             config_dict[\"CLIENTINFO\"][\"breakdown4\"]]\n",
    "                             if query_item != None]\n",
    "#cuts_df.drop(columns='Unnamed: 0', inplace=True)\n",
    "cuts_df"
   ]
  },
  {
   "cell_type": "markdown",
   "id": "c0705169",
   "metadata": {},
   "source": [
    "# Accuracy Calculator"
   ]
  },
  {
   "cell_type": "markdown",
   "id": "c2018159-3cec-4e88-9683-a4072962b20a",
   "metadata": {},
   "source": [
    "generic_df = pd.read_csv(\"record_df 2023-08-16 18:16:20 best result.csv\")\n",
    "generic_df"
   ]
  },
  {
   "cell_type": "code",
   "execution_count": 24,
   "id": "914727bf",
   "metadata": {
    "tags": []
   },
   "outputs": [
    {
     "name": "stderr",
     "output_type": "stream",
     "text": [
      "16:14:52 - cmdstanpy - INFO - Chain [1] start processing\n",
      "16:14:52 - cmdstanpy - INFO - Chain [1] done processing\n",
      "/home/jupyter/SearchForecasting/repo/Accuracy.py:267: FutureWarning: The behavior of DataFrame concatenation with empty or all-NA entries is deprecated. In a future version, this will no longer exclude empty or all-NA columns when determining the result dtypes. To retain the old behavior, exclude the relevant entries before the concat operation.\n",
      "  self.monthly_acc_df_temp = pd.concat([self.monthly_acc_df_temp, monthly_acc_df], ignore_index=True)\n",
      "16:14:52 - cmdstanpy - INFO - Chain [1] start processing\n",
      "16:14:52 - cmdstanpy - INFO - Chain [1] done processing\n"
     ]
    },
    {
     "name": "stdout",
     "output_type": "stream",
     "text": [
      "It's underpredicted.\n",
      "Monthly Error: 21.8 Period MAE: 19.189999999999998\n",
      "It's underpredicted.\n",
      "Monthly Error: 87.65 Period MAE: 1.69\n"
     ]
    }
   ],
   "source": [
    "# %load_ext autoreload\n",
    "# %autoreload 2\n",
    "\n",
    "\n",
    "calculator = AccuracyCalculator()\n",
    "accuracy_df = calculator.CalculateAccuracy(cuts_df, df_filled, query_item_list)\n",
    "# calculator.SaveFile()"
   ]
  },
  {
   "cell_type": "code",
   "execution_count": 25,
   "id": "30b4d7b9-f202-4563-a6a3-feec5729d62e",
   "metadata": {
    "tags": []
   },
   "outputs": [],
   "source": [
    "accuracy_df.to_csv(base_path + 'test_Acc_feb.csv')"
   ]
  },
  {
   "cell_type": "code",
   "execution_count": 26,
   "id": "6e9a33d2",
   "metadata": {
    "tags": []
   },
   "outputs": [
    {
     "data": {
      "text/html": [
       "<div>\n",
       "<style scoped>\n",
       "    .dataframe tbody tr th:only-of-type {\n",
       "        vertical-align: middle;\n",
       "    }\n",
       "\n",
       "    .dataframe tbody tr th {\n",
       "        vertical-align: top;\n",
       "    }\n",
       "\n",
       "    .dataframe thead th {\n",
       "        text-align: right;\n",
       "    }\n",
       "</style>\n",
       "<table border=\"1\" class=\"dataframe\">\n",
       "  <thead>\n",
       "    <tr style=\"text-align: right;\">\n",
       "      <th></th>\n",
       "      <th>Actual</th>\n",
       "      <th>Forecast</th>\n",
       "      <th>Percentage Error</th>\n",
       "      <th>MAPE</th>\n",
       "      <th>Forecast Period MAE</th>\n",
       "    </tr>\n",
       "    <tr>\n",
       "      <th>account_type</th>\n",
       "      <th></th>\n",
       "      <th></th>\n",
       "      <th></th>\n",
       "      <th></th>\n",
       "      <th></th>\n",
       "    </tr>\n",
       "  </thead>\n",
       "  <tbody>\n",
       "    <tr>\n",
       "      <th>Desktop</th>\n",
       "      <td>-18288.857143</td>\n",
       "      <td>-14760.507143</td>\n",
       "      <td>81.798571</td>\n",
       "      <td>78.20</td>\n",
       "      <td>80.81</td>\n",
       "    </tr>\n",
       "    <tr>\n",
       "      <th>Mobile &amp; Tablet</th>\n",
       "      <td>-899.428571</td>\n",
       "      <td>-882.528571</td>\n",
       "      <td>100.948571</td>\n",
       "      <td>12.35</td>\n",
       "      <td>98.31</td>\n",
       "    </tr>\n",
       "  </tbody>\n",
       "</table>\n",
       "</div>"
      ],
      "text/plain": [
       "                       Actual      Forecast  Percentage Error   MAPE  \\\n",
       "account_type                                                           \n",
       "Desktop         -18288.857143 -14760.507143         81.798571  78.20   \n",
       "Mobile & Tablet   -899.428571   -882.528571        100.948571  12.35   \n",
       "\n",
       "                 Forecast Period MAE  \n",
       "account_type                          \n",
       "Desktop                        80.81  \n",
       "Mobile & Tablet                98.31  "
      ]
     },
     "execution_count": 26,
     "metadata": {},
     "output_type": "execute_result"
    }
   ],
   "source": [
    "# This is to convert error metrics to accuracy. Note the column names won't change\n",
    "100-accuracy_df.groupby(['account_type']).mean(numeric_only=1)"
   ]
  },
  {
   "cell_type": "code",
   "execution_count": 15,
   "id": "759cf7e6-36fd-406f-9206-9a3e2a79a69c",
   "metadata": {
    "tags": []
   },
   "outputs": [
    {
     "data": {
      "text/html": [
       "<div>\n",
       "<style scoped>\n",
       "    .dataframe tbody tr th:only-of-type {\n",
       "        vertical-align: middle;\n",
       "    }\n",
       "\n",
       "    .dataframe tbody tr th {\n",
       "        vertical-align: top;\n",
       "    }\n",
       "\n",
       "    .dataframe thead th {\n",
       "        text-align: right;\n",
       "    }\n",
       "</style>\n",
       "<table border=\"1\" class=\"dataframe\">\n",
       "  <thead>\n",
       "    <tr style=\"text-align: right;\">\n",
       "      <th></th>\n",
       "      <th>Actual</th>\n",
       "      <th>Forecast</th>\n",
       "      <th>Percentage Error</th>\n",
       "      <th>MAPE</th>\n",
       "      <th>Forecast Period MAE</th>\n",
       "    </tr>\n",
       "    <tr>\n",
       "      <th>market</th>\n",
       "      <th></th>\n",
       "      <th></th>\n",
       "      <th></th>\n",
       "      <th></th>\n",
       "      <th></th>\n",
       "    </tr>\n",
       "  </thead>\n",
       "  <tbody>\n",
       "    <tr>\n",
       "      <th>UK</th>\n",
       "      <td>-9594.142857</td>\n",
       "      <td>-9665.722143</td>\n",
       "      <td>94.370714</td>\n",
       "      <td>83.475</td>\n",
       "      <td>91.345</td>\n",
       "    </tr>\n",
       "  </tbody>\n",
       "</table>\n",
       "</div>"
      ],
      "text/plain": [
       "             Actual     Forecast  Percentage Error    MAPE  \\\n",
       "market                                                       \n",
       "UK     -9594.142857 -9665.722143         94.370714  83.475   \n",
       "\n",
       "        Forecast Period MAE  \n",
       "market                       \n",
       "UK                   91.345  "
      ]
     },
     "execution_count": 15,
     "metadata": {},
     "output_type": "execute_result"
    }
   ],
   "source": [
    "100-accuracy_df.groupby(['market']).mean(numeric_only=1)"
   ]
  },
  {
   "cell_type": "code",
   "execution_count": 16,
   "id": "45b16b97-2f01-4939-be0e-c08a75519fde",
   "metadata": {
    "tags": []
   },
   "outputs": [
    {
     "data": {
      "text/html": [
       "<div>\n",
       "<style scoped>\n",
       "    .dataframe tbody tr th:only-of-type {\n",
       "        vertical-align: middle;\n",
       "    }\n",
       "\n",
       "    .dataframe tbody tr th {\n",
       "        vertical-align: top;\n",
       "    }\n",
       "\n",
       "    .dataframe thead th {\n",
       "        text-align: right;\n",
       "    }\n",
       "</style>\n",
       "<table border=\"1\" class=\"dataframe\">\n",
       "  <thead>\n",
       "    <tr style=\"text-align: right;\">\n",
       "      <th></th>\n",
       "      <th>market</th>\n",
       "      <th>account_type</th>\n",
       "      <th>funnel</th>\n",
       "      <th>periods_for_acc_cal</th>\n",
       "      <th>changepoint_prior_scale</th>\n",
       "      <th>seasonality_prior_scale</th>\n",
       "      <th>holidays_prior_scale</th>\n",
       "      <th>seasonality_mode</th>\n",
       "      <th>input_mode</th>\n",
       "      <th>weekday_or_weekend</th>\n",
       "      <th>...</th>\n",
       "      <th>anomaly_2021</th>\n",
       "      <th>generic_cost_split</th>\n",
       "      <th>competitor_cost_split</th>\n",
       "      <th>new_confirmed</th>\n",
       "      <th>power</th>\n",
       "      <th>growth</th>\n",
       "      <th>MAPE</th>\n",
       "      <th>period_AE</th>\n",
       "      <th>periods</th>\n",
       "      <th>cutoff_month</th>\n",
       "    </tr>\n",
       "  </thead>\n",
       "  <tbody>\n",
       "    <tr>\n",
       "      <th>1</th>\n",
       "      <td>UK</td>\n",
       "      <td>Mobile &amp; Tablet</td>\n",
       "      <td>-</td>\n",
       "      <td>183</td>\n",
       "      <td>0.1</td>\n",
       "      <td>10.0</td>\n",
       "      <td>1.0</td>\n",
       "      <td>multiplicative</td>\n",
       "      <td>multiplicative</td>\n",
       "      <td>additive</td>\n",
       "      <td>...</td>\n",
       "      <td>na</td>\n",
       "      <td>na</td>\n",
       "      <td>na</td>\n",
       "      <td>na</td>\n",
       "      <td>na</td>\n",
       "      <td>logistic</td>\n",
       "      <td>17.61</td>\n",
       "      <td>9.84</td>\n",
       "      <td>251.0</td>\n",
       "      <td>2024-04-25</td>\n",
       "    </tr>\n",
       "  </tbody>\n",
       "</table>\n",
       "<p>1 rows × 23 columns</p>\n",
       "</div>"
      ],
      "text/plain": [
       "  market     account_type funnel  periods_for_acc_cal  \\\n",
       "1     UK  Mobile & Tablet      -                  183   \n",
       "\n",
       "   changepoint_prior_scale  seasonality_prior_scale  holidays_prior_scale  \\\n",
       "1                      0.1                     10.0                   1.0   \n",
       "\n",
       "  seasonality_mode      input_mode weekday_or_weekend  ... anomaly_2021  \\\n",
       "1   multiplicative  multiplicative           additive  ...           na   \n",
       "\n",
       "  generic_cost_split competitor_cost_split new_confirmed power    growth  \\\n",
       "1                 na                    na            na    na  logistic   \n",
       "\n",
       "    MAPE period_AE periods  cutoff_month  \n",
       "1  17.61      9.84   251.0    2024-04-25  \n",
       "\n",
       "[1 rows x 23 columns]"
      ]
     },
     "execution_count": 16,
     "metadata": {},
     "output_type": "execute_result"
    }
   ],
   "source": [
    "# param_grid = {\n",
    "#                 'changepoint_prior_scale': [0.05],# ,0.001,0.1, 0.5], #  \n",
    "#                 'seasonality_prior_scale': [10.0],#,0.01,  0.1, 1.0], #\n",
    "#                 'holidays_prior_scale': [0.01],#,0.1,1.0, 10.0], #\n",
    "#                 'seasonality_mode': ['additive'],#,'multiplicative'], #\n",
    "#                 'input_mode': ['na'], #'additive','multiplicative'], #\n",
    "#                 'weekday_or_weekend':['na'],#, 'additive', 'multiplicative'],  #\n",
    "#                 'include_holiday': ['na'],#, 'default', 'customized'],#\n",
    "#                 'covid_year_exclude':['na'],\n",
    "#                 'covid_year_dummy':['na'],\n",
    "#                 'anomaly_2021':['na'],\n",
    "#                 'generic_cost_split':['na'],#, 'additive'],#\n",
    "#                 'competitor_cost_split':['na'],#, 'additive'], #\n",
    "#                 'new_confirmed':['na'],#, 'additive'],#\n",
    "#             }\n",
    "param_grid = {\n",
    "    'changepoint_prior_scale': [ 0.1, 0.05],   # 0.001\n",
    "    'seasonality_prior_scale': [10.0, 1.0, 0.1],  # 0.01\n",
    "    'holidays_prior_scale': [10.0, 1.0,  0.1], # 0.01\n",
    "    'seasonality_mode': ['additive','multiplicative'], #'multiplicative'\n",
    "    'input_mode': ['additive','multiplicative'],  #,'multiplicative'\n",
    "    'weekday_or_weekend':['na', 'additive','multiplicative'],  #, 'multiplicative'\n",
    "    'include_holiday': ['na','Default', 'Custom'], #'Default', 'custom'\n",
    "    'covid_year_exclude':['na'],\n",
    "    'covid_year_dummy':['na'],#, 'additive', 'multiplicative'],\n",
    "    'anomaly_2021':['na'],#, 'additive', 'multiplicative'],\n",
    "    'generic_cost_split':['na'],#, 'additive', 'multiplicative'\n",
    "    'competitor_cost_split':['na'], #, 'additive', 'multiplicative'\n",
    "    'new_confirmed': ['na'],#, 'additive', 'multiplicative'\n",
    "            }\n",
    "\n",
    "cuts_df_mobile = cuts_df.query(\"account_type == 'Mobile & Tablet'\")\n",
    "\n",
    "cuts_df_desktop = cuts_df.loc[cuts_df['account_type'] == 'Desktop'] \n",
    "cuts_df_mobile"
   ]
  },
  {
   "cell_type": "markdown",
   "id": "45f486de-7678-4757-b866-7965908e7dea",
   "metadata": {
    "tags": []
   },
   "source": [
    "# Parallel Param Search"
   ]
  },
  {
   "cell_type": "code",
   "execution_count": null,
   "id": "fca2c299-1dd7-44c6-aea0-b05073248886",
   "metadata": {
    "tags": []
   },
   "outputs": [
    {
     "name": "stderr",
     "output_type": "stream",
     "text": [
      "  0%|          | 0/1 [00:00<?, ?it/s]22:19:58 - cmdstanpy - INFO - Chain [1] start processing\n",
      "22:19:58 - cmdstanpy - INFO - Chain [1] start processing\n",
      "22:19:58 - cmdstanpy - INFO - Chain [1] done processing\n",
      "22:19:58 - cmdstanpy - INFO - Chain [1] done processing\n",
      "22:19:58 - cmdstanpy - INFO - Chain [1] start processing\n",
      "22:19:58 - cmdstanpy - INFO - Chain [1] start processing\n",
      "22:19:58 - cmdstanpy - INFO - Chain [1] done processing\n",
      "22:19:58 - cmdstanpy - INFO - Chain [1] done processing\n"
     ]
    },
    {
     "name": "stdout",
     "output_type": "stream",
     "text": [
      "It's underpredicted.\n",
      "Monthly Error: 54.55 Period MAE: 20.810000000000002\n",
      "It's underpredicted."
     ]
    },
    {
     "name": "stderr",
     "output_type": "stream",
     "text": [
      "22:20:00 - cmdstanpy - INFO - Chain [1] start processing\n"
     ]
    },
    {
     "name": "stdout",
     "output_type": "stream",
     "text": [
      "\n",
      "Monthly Error: 50.45 Period MAE: 25.490000000000002\n",
      "It's underpredicted.\n",
      "Monthly Error: 80.3 Period MAE: "
     ]
    },
    {
     "name": "stderr",
     "output_type": "stream",
     "text": [
      "22:20:00 - cmdstanpy - INFO - Chain [1] done processing\n"
     ]
    },
    {
     "name": "stdout",
     "output_type": "stream",
     "text": [
      "80.57\n"
     ]
    },
    {
     "name": "stderr",
     "output_type": "stream",
     "text": [
      "22:20:01 - cmdstanpy - INFO - Chain [1] start processing\n",
      "22:20:01 - cmdstanpy - INFO - Chain [1] start processing\n",
      "22:20:01 - cmdstanpy - INFO - Chain [1] done processing\n"
     ]
    },
    {
     "name": "stdout",
     "output_type": "stream",
     "text": [
      "It's underpredicted.\n",
      "Monthly Error: 44.31 Period MAE: "
     ]
    },
    {
     "name": "stderr",
     "output_type": "stream",
     "text": [
      "22:20:01 - cmdstanpy - INFO - Chain [1] done processing\n"
     ]
    },
    {
     "name": "stdout",
     "output_type": "stream",
     "text": [
      "39.58\n"
     ]
    },
    {
     "name": "stderr",
     "output_type": "stream",
     "text": [
      "22:20:02 - cmdstanpy - INFO - Chain [1] start processing\n",
      "22:20:02 - cmdstanpy - INFO - Chain [1] done processing\n"
     ]
    },
    {
     "name": "stdout",
     "output_type": "stream",
     "text": [
      "It's underpredicted.\n",
      "Monthly Error: 60.38 Period MAE: 10.58\n",
      "It's underpredicted.\n",
      "Monthly Error: 54.61 Period MAE: 21.279999999999998\n"
     ]
    },
    {
     "name": "stderr",
     "output_type": "stream",
     "text": [
      "22:20:03 - cmdstanpy - INFO - Chain [1] start processing\n",
      "22:20:03 - cmdstanpy - INFO - Chain [1] done processing\n",
      "22:20:03 - cmdstanpy - INFO - Chain [1] start processing\n"
     ]
    },
    {
     "name": "stdout",
     "output_type": "stream",
     "text": [
      "It's overpredicted.\n",
      "Monthly Error: 63.09 Period MAE: "
     ]
    },
    {
     "name": "stderr",
     "output_type": "stream",
     "text": [
      "22:20:04 - cmdstanpy - INFO - Chain [1] done processing\n"
     ]
    },
    {
     "name": "stdout",
     "output_type": "stream",
     "text": [
      "61.22\n",
      "It's underpredicted.\n",
      "Monthly Error: 50.5 Period MAE: 24.560000000000002"
     ]
    },
    {
     "name": "stderr",
     "output_type": "stream",
     "text": [
      "22:20:05 - cmdstanpy - INFO - Chain [1] start processing\n"
     ]
    },
    {
     "name": "stdout",
     "output_type": "stream",
     "text": [
      "\n",
      "It's overpredicted.\n",
      "Monthly Error:  59.07 Period MAE:0.16999999999999998\n"
     ]
    },
    {
     "name": "stderr",
     "output_type": "stream",
     "text": [
      "22:20:06 - cmdstanpy - INFO - Chain [1] start processing\n",
      "22:20:06 - cmdstanpy - INFO - Chain [1] done processing\n",
      "22:20:06 - cmdstanpy - INFO - Chain [1] start processing\n",
      "22:20:06 - cmdstanpy - INFO - Chain [1] done processing\n",
      "22:20:06 - cmdstanpy - INFO - Chain [1] done processing\n"
     ]
    },
    {
     "name": "stdout",
     "output_type": "stream",
     "text": [
      "It's overpredicted.\n",
      "It's underpredicted.Monthly Error:\n",
      " Monthly Error:41.57  Period MAE:62.25  33.32Period MAE:\n",
      " 27.72\n"
     ]
    },
    {
     "name": "stderr",
     "output_type": "stream",
     "text": [
      "22:20:08 - cmdstanpy - INFO - Chain [1] start processing\n",
      "22:20:08 - cmdstanpy - INFO - Chain [1] start processing\n"
     ]
    },
    {
     "name": "stdout",
     "output_type": "stream",
     "text": [
      "It's underpredicted.\n",
      "Monthly Error: 61.78"
     ]
    },
    {
     "name": "stderr",
     "output_type": "stream",
     "text": [
      "22:20:08 - cmdstanpy - INFO - Chain [1] done processing\n"
     ]
    },
    {
     "name": "stdout",
     "output_type": "stream",
     "text": [
      " Period MAE: 12.02\n"
     ]
    },
    {
     "name": "stderr",
     "output_type": "stream",
     "text": [
      "22:20:08 - cmdstanpy - INFO - Chain [1] done processing\n",
      "22:20:09 - cmdstanpy - INFO - Chain [1] start processing\n"
     ]
    },
    {
     "name": "stdout",
     "output_type": "stream",
     "text": [
      "It's underpredicted.\n"
     ]
    },
    {
     "name": "stderr",
     "output_type": "stream",
     "text": [
      "22:20:09 - cmdstanpy - INFO - Chain [1] done processing\n"
     ]
    },
    {
     "name": "stdout",
     "output_type": "stream",
     "text": [
      "Monthly Error: 57.14 Period MAE: 30.53\n"
     ]
    },
    {
     "name": "stderr",
     "output_type": "stream",
     "text": [
      "22:20:10 - cmdstanpy - INFO - Chain [1] start processing\n"
     ]
    },
    {
     "name": "stdout",
     "output_type": "stream",
     "text": [
      "It's overpredicted.\n",
      "Monthly Error: 49.36 Period MAE: 45.129999999999995\n"
     ]
    },
    {
     "name": "stderr",
     "output_type": "stream",
     "text": [
      "22:20:11 - cmdstanpy - INFO - Chain [1] done processing\n",
      "22:20:11 - cmdstanpy - INFO - Chain [1] start processing\n"
     ]
    },
    {
     "name": "stdout",
     "output_type": "stream",
     "text": [
      "It's underpredicted.\n",
      "Monthly Error:It's overpredicted. \n",
      "64.63 Monthly Error:Period MAE:  132.5765.11 Period MAE:\n",
      " 114.31\n"
     ]
    },
    {
     "name": "stderr",
     "output_type": "stream",
     "text": [
      "22:20:12 - cmdstanpy - INFO - Chain [1] done processing\n",
      "22:20:12 - cmdstanpy - INFO - Chain [1] start processing\n",
      "22:20:12 - cmdstanpy - INFO - Chain [1] start processing\n",
      "22:20:12 - cmdstanpy - INFO - Chain [1] done processing\n"
     ]
    },
    {
     "name": "stdout",
     "output_type": "stream",
     "text": [
      "It's underpredicted.\n",
      "Monthly Error: "
     ]
    },
    {
     "name": "stderr",
     "output_type": "stream",
     "text": [
      "22:20:12 - cmdstanpy - INFO - Chain [1] done processing\n"
     ]
    },
    {
     "name": "stdout",
     "output_type": "stream",
     "text": [
      "68.63 Period MAE: 13.79\n"
     ]
    },
    {
     "name": "stderr",
     "output_type": "stream",
     "text": [
      "22:20:13 - cmdstanpy - INFO - Chain [1] start processing\n",
      "22:20:13 - cmdstanpy - INFO - Chain [1] done processing\n"
     ]
    },
    {
     "name": "stdout",
     "output_type": "stream",
     "text": [
      "It's underpredicted.\n",
      "Monthly Error: 44.54 Period MAE: 32.84\n"
     ]
    },
    {
     "name": "stderr",
     "output_type": "stream",
     "text": [
      "22:20:14 - cmdstanpy - INFO - Chain [1] start processing\n",
      "22:20:14 - cmdstanpy - INFO - Chain [1] done processing\n"
     ]
    },
    {
     "name": "stdout",
     "output_type": "stream",
     "text": [
      "It's underpredicted.\n",
      "Monthly Error: 45.81 Period MAE: 36.86\n",
      "It's overpredicted.\n",
      "Monthly Error: 151.16 Period MAE: 130.88\n",
      "It's overpredicted.\n",
      "Monthly Error: 135.59 Period MAE: 35.29\n"
     ]
    },
    {
     "name": "stderr",
     "output_type": "stream",
     "text": [
      "22:20:15 - cmdstanpy - INFO - Chain [1] start processing\n",
      "22:20:15 - cmdstanpy - INFO - Chain [1] start processing\n",
      "22:20:16 - cmdstanpy - INFO - Chain [1] done processing\n",
      "22:20:16 - cmdstanpy - INFO - Chain [1] start processing\n"
     ]
    },
    {
     "name": "stdout",
     "output_type": "stream",
     "text": [
      "It's underpredicted.\n",
      "Monthly Error: 33.33 Period MAE: 34.160000000000004\n"
     ]
    },
    {
     "name": "stderr",
     "output_type": "stream",
     "text": [
      "22:20:16 - cmdstanpy - INFO - Chain [1] done processing\n",
      "22:20:17 - cmdstanpy - INFO - Chain [1] done processing\n",
      "22:20:17 - cmdstanpy - INFO - Chain [1] start processing\n"
     ]
    },
    {
     "name": "stdout",
     "output_type": "stream",
     "text": [
      "It's underpredicted.\n",
      "Monthly Error: 49.84 Period MAE: 20.34"
     ]
    },
    {
     "name": "stderr",
     "output_type": "stream",
     "text": [
      "22:20:17 - cmdstanpy - INFO - Chain [1] done processing\n"
     ]
    },
    {
     "name": "stdout",
     "output_type": "stream",
     "text": [
      "\n"
     ]
    },
    {
     "name": "stderr",
     "output_type": "stream",
     "text": [
      "22:20:17 - cmdstanpy - INFO - Chain [1] start processing\n",
      "22:20:18 - cmdstanpy - INFO - Chain [1] done processing\n"
     ]
    },
    {
     "name": "stdout",
     "output_type": "stream",
     "text": [
      "It's underpredicted.\n",
      "Monthly Error: 49.29 Period MAE: 16.66\n"
     ]
    },
    {
     "name": "stderr",
     "output_type": "stream",
     "text": [
      "22:20:19 - cmdstanpy - INFO - Chain [1] start processing\n"
     ]
    },
    {
     "name": "stdout",
     "output_type": "stream",
     "text": [
      "It's underpredicted.\n"
     ]
    },
    {
     "name": "stderr",
     "output_type": "stream",
     "text": [
      "22:20:19 - cmdstanpy - INFO - Chain [1] done processing\n"
     ]
    },
    {
     "name": "stdout",
     "output_type": "stream",
     "text": [
      "Monthly Error: 36.03 It's overpredicted.Period MAE: \n",
      "36.68It's overpredicted.\n",
      "\n",
      "Monthly Error: Monthly Error: 65.91 90.49 Period MAE: 63.94Period MAE:\n",
      " 28.27\n"
     ]
    },
    {
     "name": "stderr",
     "output_type": "stream",
     "text": [
      "22:20:20 - cmdstanpy - INFO - Chain [1] start processing\n",
      "22:20:20 - cmdstanpy - INFO - Chain [1] done processing\n",
      "22:20:21 - cmdstanpy - INFO - Chain [1] start processing\n",
      "22:20:21 - cmdstanpy - INFO - Chain [1] done processing\n",
      "22:20:21 - cmdstanpy - INFO - Chain [1] start processing\n",
      "22:20:22 - cmdstanpy - INFO - Chain [1] done processing\n"
     ]
    },
    {
     "name": "stdout",
     "output_type": "stream",
     "text": [
      "It's underpredicted.\n",
      "Monthly Error: 45.05 Period MAE: 33.58\n"
     ]
    },
    {
     "name": "stderr",
     "output_type": "stream",
     "text": [
      "22:20:22 - cmdstanpy - INFO - Chain [1] start processing\n"
     ]
    },
    {
     "name": "stdout",
     "output_type": "stream",
     "text": [
      "It's overpredicted."
     ]
    },
    {
     "name": "stderr",
     "output_type": "stream",
     "text": [
      "22:20:22 - cmdstanpy - INFO - Chain [1] done processing\n"
     ]
    },
    {
     "name": "stdout",
     "output_type": "stream",
     "text": [
      "\n",
      "Monthly Error: 54.1 Period MAE: 52.43\n",
      "It's underpredicted.\n",
      "Monthly Error: 29.79 Period MAE: 17.94\n"
     ]
    },
    {
     "name": "stderr",
     "output_type": "stream",
     "text": [
      "22:20:23 - cmdstanpy - INFO - Chain [1] start processing\n",
      "22:20:23 - cmdstanpy - INFO - Chain [1] start processing\n"
     ]
    },
    {
     "name": "stdout",
     "output_type": "stream",
     "text": [
      "It's overpredicted.\n",
      "Monthly Error:"
     ]
    },
    {
     "name": "stderr",
     "output_type": "stream",
     "text": [
      "22:20:24 - cmdstanpy - INFO - Chain [1] done processing\n"
     ]
    },
    {
     "name": "stdout",
     "output_type": "stream",
     "text": [
      " 64.7 Period MAE: "
     ]
    },
    {
     "name": "stderr",
     "output_type": "stream",
     "text": [
      "22:20:24 - cmdstanpy - INFO - Chain [1] done processing\n"
     ]
    },
    {
     "name": "stdout",
     "output_type": "stream",
     "text": [
      "61.51\n",
      "It's overpredicted.\n",
      "Monthly Error: It's underpredicted.84.83\n",
      " Period MAE:Monthly Error:  32.76999999999999644.83\n",
      " Period MAE: 35.04"
     ]
    },
    {
     "name": "stderr",
     "output_type": "stream",
     "text": [
      "22:20:25 - cmdstanpy - INFO - Chain [1] start processing\n"
     ]
    },
    {
     "name": "stdout",
     "output_type": "stream",
     "text": [
      "\n"
     ]
    },
    {
     "name": "stderr",
     "output_type": "stream",
     "text": [
      "22:20:25 - cmdstanpy - INFO - Chain [1] start processing\n",
      "22:20:26 - cmdstanpy - INFO - Chain [1] done processing\n"
     ]
    },
    {
     "name": "stdout",
     "output_type": "stream",
     "text": [
      "It's underpredicted.\n",
      "Monthly Error: 68.91 Period MAE: 29.7\n"
     ]
    },
    {
     "name": "stderr",
     "output_type": "stream",
     "text": [
      "22:20:27 - cmdstanpy - INFO - Chain [1] start processing\n",
      "22:20:27 - cmdstanpy - INFO - Chain [1] start processing\n",
      "22:20:27 - cmdstanpy - INFO - Chain [1] done processing\n",
      "22:20:27 - cmdstanpy - INFO - Chain [1] done processing\n",
      "22:20:27 - cmdstanpy - INFO - Chain [1] done processing\n"
     ]
    },
    {
     "name": "stdout",
     "output_type": "stream",
     "text": [
      "It's overpredicted.\n",
      "Monthly Error: 54.62 Period MAE: 25.480000000000004\n"
     ]
    },
    {
     "name": "stderr",
     "output_type": "stream",
     "text": [
      "22:20:28 - cmdstanpy - INFO - Chain [1] start processing\n",
      "22:20:28 - cmdstanpy - INFO - Chain [1] done processing\n"
     ]
    },
    {
     "name": "stdout",
     "output_type": "stream",
     "text": [
      "It's underpredicted.\n",
      "Monthly Error: 50.6 Period MAE: 20.18\n",
      "It's underpredicted.\n",
      "Monthly Error: 64.98 It's underpredicted.Period MAE:\n",
      " Monthly Error:30.15 \n",
      "47.22 "
     ]
    },
    {
     "name": "stderr",
     "output_type": "stream",
     "text": [
      "22:20:29 - cmdstanpy - INFO - Chain [1] start processing\n"
     ]
    },
    {
     "name": "stdout",
     "output_type": "stream",
     "text": [
      "Period MAE: 7.08\n"
     ]
    },
    {
     "name": "stderr",
     "output_type": "stream",
     "text": [
      "22:20:30 - cmdstanpy - INFO - Chain [1] done processing\n",
      "22:20:30 - cmdstanpy - INFO - Chain [1] start processing\n"
     ]
    },
    {
     "name": "stdout",
     "output_type": "stream",
     "text": [
      "It's overpredicted.\n",
      "Monthly Error: "
     ]
    },
    {
     "name": "stderr",
     "output_type": "stream",
     "text": [
      "22:20:31 - cmdstanpy - INFO - Chain [1] start processing\n"
     ]
    },
    {
     "name": "stdout",
     "output_type": "stream",
     "text": [
      "69.87 Period MAE: 41.260000000000005\n"
     ]
    },
    {
     "name": "stderr",
     "output_type": "stream",
     "text": [
      "22:20:31 - cmdstanpy - INFO - Chain [1] done processing\n",
      "22:20:31 - cmdstanpy - INFO - Chain [1] start processing\n",
      "22:20:31 - cmdstanpy - INFO - Chain [1] done processing\n",
      "22:20:31 - cmdstanpy - INFO - Chain [1] done processing\n"
     ]
    },
    {
     "name": "stdout",
     "output_type": "stream",
     "text": [
      "It's overpredicted.\n",
      "Monthly Error: 24.36 Period MAE: 0.38999999999999996\n",
      "It's underpredicted.\n",
      "Monthly Error: 68.95"
     ]
    },
    {
     "name": "stderr",
     "output_type": "stream",
     "text": [
      "22:20:33 - cmdstanpy - INFO - Chain [1] start processing\n"
     ]
    },
    {
     "name": "stdout",
     "output_type": "stream",
     "text": [
      " Period MAE: 31.380000000000003\n"
     ]
    },
    {
     "name": "stderr",
     "output_type": "stream",
     "text": [
      "22:20:33 - cmdstanpy - INFO - Chain [1] done processing\n"
     ]
    },
    {
     "name": "stdout",
     "output_type": "stream",
     "text": [
      "It's underpredicted.\n",
      "Monthly Error: 68.19 Period MAE: 25.71\n"
     ]
    },
    {
     "name": "stderr",
     "output_type": "stream",
     "text": [
      "22:20:33 - cmdstanpy - INFO - Chain [1] start processing\n",
      "22:20:34 - cmdstanpy - INFO - Chain [1] done processing\n"
     ]
    },
    {
     "name": "stdout",
     "output_type": "stream",
     "text": [
      "It's overpredicted.\n",
      "Monthly Error: "
     ]
    },
    {
     "name": "stderr",
     "output_type": "stream",
     "text": [
      "22:20:34 - cmdstanpy - INFO - Chain [1] start processing\n"
     ]
    },
    {
     "name": "stdout",
     "output_type": "stream",
     "text": [
      "24.95 Period MAE: 1.66\n"
     ]
    },
    {
     "name": "stderr",
     "output_type": "stream",
     "text": [
      "22:20:34 - cmdstanpy - INFO - Chain [1] done processing\n",
      "22:20:35 - cmdstanpy - INFO - Chain [1] start processing\n"
     ]
    },
    {
     "name": "stdout",
     "output_type": "stream",
     "text": [
      "It's underpredicted.\n",
      "Monthly Error: 64.74 Period MAE: 31.380000000000003\n",
      "It's underpredicted.\n",
      "Monthly Error: 25.67 Period MAE: 10.32\n"
     ]
    },
    {
     "name": "stderr",
     "output_type": "stream",
     "text": [
      "22:20:36 - cmdstanpy - INFO - Chain [1] done processing\n",
      "22:20:36 - cmdstanpy - INFO - Chain [1] start processing\n",
      "22:20:37 - cmdstanpy - INFO - Chain [1] start processing\n",
      "22:20:37 - cmdstanpy - INFO - Chain [1] done processing\n"
     ]
    },
    {
     "name": "stdout",
     "output_type": "stream",
     "text": [
      "It's overpredicted.\n",
      "Monthly Error: 83.61 Period MAE: 79.85\n",
      "It's underpredicted.\n"
     ]
    },
    {
     "name": "stderr",
     "output_type": "stream",
     "text": [
      "22:20:38 - cmdstanpy - INFO - Chain [1] done processing\n"
     ]
    },
    {
     "name": "stdout",
     "output_type": "stream",
     "text": [
      "Monthly Error: 66.15 Period MAE: 22.41"
     ]
    },
    {
     "name": "stderr",
     "output_type": "stream",
     "text": [
      "22:20:38 - cmdstanpy - INFO - Chain [1] start processing\n"
     ]
    },
    {
     "name": "stdout",
     "output_type": "stream",
     "text": [
      "\n"
     ]
    },
    {
     "name": "stderr",
     "output_type": "stream",
     "text": [
      "22:20:38 - cmdstanpy - INFO - Chain [1] done processing\n",
      "22:20:38 - cmdstanpy - INFO - Chain [1] start processing\n"
     ]
    },
    {
     "name": "stdout",
     "output_type": "stream",
     "text": [
      "It's underpredicted.\n",
      "Monthly Error: 66.94 Period MAE: 17.8\n"
     ]
    },
    {
     "name": "stderr",
     "output_type": "stream",
     "text": [
      "22:20:40 - cmdstanpy - INFO - Chain [1] start processing\n",
      "22:20:40 - cmdstanpy - INFO - Chain [1] done processing\n",
      "22:20:41 - cmdstanpy - INFO - Chain [1] done processing\n"
     ]
    },
    {
     "name": "stdout",
     "output_type": "stream",
     "text": [
      "It's overpredicted.\n",
      "Monthly Error: 85.04 Period MAE: 81.19\n",
      "It's overpredicted.\n",
      "Monthly Error: 104.31 Period MAE: 96.46000000000001\n",
      "It's underpredicted.\n",
      "Monthly Error: 61.61 Period MAE: 17.93\n"
     ]
    },
    {
     "name": "stderr",
     "output_type": "stream",
     "text": [
      "22:20:42 - cmdstanpy - INFO - Chain [1] start processing\n"
     ]
    },
    {
     "name": "stdout",
     "output_type": "stream",
     "text": [
      "It's overpredicted.\n",
      "Monthly Error: "
     ]
    },
    {
     "name": "stderr",
     "output_type": "stream",
     "text": [
      "22:20:42 - cmdstanpy - INFO - Chain [1] start processing\n"
     ]
    },
    {
     "name": "stdout",
     "output_type": "stream",
     "text": [
      "108.95 Period MAE: 103.8\n"
     ]
    },
    {
     "name": "stderr",
     "output_type": "stream",
     "text": [
      "22:20:42 - cmdstanpy - INFO - Chain [1] done processing\n",
      "22:20:42 - cmdstanpy - INFO - Chain [1] start processing\n",
      "22:20:42 - cmdstanpy - INFO - Chain [1] start processing\n",
      "22:20:43 - cmdstanpy - INFO - Chain [1] done processing\n",
      "22:20:43 - cmdstanpy - INFO - Chain [1] done processing\n"
     ]
    },
    {
     "name": "stdout",
     "output_type": "stream",
     "text": [
      "It's underpredicted.\n",
      "Monthly Error: 46.72 Period MAE: 34.42\n"
     ]
    },
    {
     "name": "stderr",
     "output_type": "stream",
     "text": [
      "22:20:44 - cmdstanpy - INFO - Chain [1] start processing\n",
      "22:20:44 - cmdstanpy - INFO - Chain [1] done processing\n",
      "22:20:45 - cmdstanpy - INFO - Chain [1] done processing\n"
     ]
    },
    {
     "name": "stdout",
     "output_type": "stream",
     "text": [
      "It's overpredicted.\n",
      "Monthly Error: 108.82 Period MAE: 40.53\n"
     ]
    },
    {
     "name": "stderr",
     "output_type": "stream",
     "text": [
      "22:20:46 - cmdstanpy - INFO - Chain [1] start processing\n"
     ]
    },
    {
     "name": "stdout",
     "output_type": "stream",
     "text": [
      "It's underpredicted.\n",
      "Monthly Error: 44.69 Period MAE: 33.08\n"
     ]
    },
    {
     "name": "stderr",
     "output_type": "stream",
     "text": [
      "22:20:46 - cmdstanpy - INFO - Chain [1] done processing\n"
     ]
    },
    {
     "name": "stdout",
     "output_type": "stream",
     "text": [
      "It's overpredicted.\n",
      "Monthly Error: 108.38 Period MAE: 103.13000000000001\n",
      "It's underpredicted.\n",
      "Monthly Error: 63.11 Period MAE: "
     ]
    },
    {
     "name": "stderr",
     "output_type": "stream",
     "text": [
      "22:20:47 - cmdstanpy - INFO - Chain [1] start processing\n"
     ]
    },
    {
     "name": "stdout",
     "output_type": "stream",
     "text": [
      "14.75\n"
     ]
    },
    {
     "name": "stderr",
     "output_type": "stream",
     "text": [
      "22:20:47 - cmdstanpy - INFO - Chain [1] start processing\n",
      "22:20:48 - cmdstanpy - INFO - Chain [1] start processing\n",
      "22:20:48 - cmdstanpy - INFO - Chain [1] done processing\n",
      "22:20:48 - cmdstanpy - INFO - Chain [1] done processing\n",
      "22:20:48 - cmdstanpy - INFO - Chain [1] done processing\n"
     ]
    },
    {
     "name": "stdout",
     "output_type": "stream",
     "text": [
      "It's underpredicted.\n",
      "Monthly Error: 37.61 Period MAE: 17.88\n",
      "It's underpredicted."
     ]
    },
    {
     "name": "stderr",
     "output_type": "stream",
     "text": [
      "22:20:49 - cmdstanpy - INFO - Chain [1] start processing\n"
     ]
    },
    {
     "name": "stdout",
     "output_type": "stream",
     "text": [
      "\n",
      "Monthly Error: 46.81 Period MAE: 33.48\n"
     ]
    },
    {
     "name": "stderr",
     "output_type": "stream",
     "text": [
      "22:20:50 - cmdstanpy - INFO - Chain [1] done processing\n"
     ]
    },
    {
     "name": "stdout",
     "output_type": "stream",
     "text": [
      "It's underpredicted.\n",
      "Monthly Error: 45.35 Period MAE: 22.3\n"
     ]
    },
    {
     "name": "stderr",
     "output_type": "stream",
     "text": [
      "22:20:50 - cmdstanpy - INFO - Chain [1] start processing\n"
     ]
    },
    {
     "name": "stdout",
     "output_type": "stream",
     "text": [
      "It's underpredicted.\n",
      "Monthly Error: 38.3 Period MAE: 16.46\n"
     ]
    },
    {
     "name": "stderr",
     "output_type": "stream",
     "text": [
      "22:20:51 - cmdstanpy - INFO - Chain [1] start processing\n",
      "22:20:51 - cmdstanpy - INFO - Chain [1] done processing\n",
      "22:20:51 - cmdstanpy - INFO - Chain [1] done processing\n",
      "22:20:52 - cmdstanpy - INFO - Chain [1] start processing\n"
     ]
    },
    {
     "name": "stdout",
     "output_type": "stream",
     "text": [
      "It's underpredicted.\n",
      "Monthly Error: 48.47"
     ]
    },
    {
     "name": "stderr",
     "output_type": "stream",
     "text": [
      "22:20:53 - cmdstanpy - INFO - Chain [1] done processing\n"
     ]
    },
    {
     "name": "stdout",
     "output_type": "stream",
     "text": [
      " Period MAE: 38.07\n",
      "It's overpredicted.\n",
      "Monthly Error: 50.88 Period MAE: 11.57\n"
     ]
    },
    {
     "name": "stderr",
     "output_type": "stream",
     "text": [
      "22:20:54 - cmdstanpy - INFO - Chain [1] start processing\n",
      "22:20:54 - cmdstanpy - INFO - Chain [1] start processing\n",
      "22:20:54 - cmdstanpy - INFO - Chain [1] done processing\n"
     ]
    },
    {
     "name": "stdout",
     "output_type": "stream",
     "text": [
      "It's underpredicted.\n",
      "Monthly Error: 45.96 Period MAE: 24.05\n",
      "It's underpredicted.\n",
      "Monthly Error: 22.77 Period MAE: 1.97\n"
     ]
    },
    {
     "name": "stderr",
     "output_type": "stream",
     "text": [
      "22:20:55 - cmdstanpy - INFO - Chain [1] start processing\n",
      "22:20:55 - cmdstanpy - INFO - Chain [1] done processing\n",
      "22:20:55 - cmdstanpy - INFO - Chain [1] done processing\n",
      "22:20:55 - cmdstanpy - INFO - Chain [1] start processing\n"
     ]
    },
    {
     "name": "stdout",
     "output_type": "stream",
     "text": [
      "It's underpredicted.\n",
      "Monthly Error: 21.75 Period MAE: 3.47\n",
      "It's underpredicted.\n",
      "Monthly Error: 46.37 Period MAE: 17.16\n"
     ]
    },
    {
     "name": "stderr",
     "output_type": "stream",
     "text": [
      "22:20:56 - cmdstanpy - INFO - Chain [1] start processing\n",
      "22:20:56 - cmdstanpy - INFO - Chain [1] done processing\n",
      "22:20:57 - cmdstanpy - INFO - Chain [1] done processing\n",
      "22:20:57 - cmdstanpy - INFO - Chain [1] start processing\n"
     ]
    },
    {
     "name": "stdout",
     "output_type": "stream",
     "text": [
      "It's underpredicted.\n",
      "Monthly Error: 69.02 Period MAE: 50.970000000000006\n",
      "It's underpredicted.\n",
      "Monthly Error: 43.79 Period MAE: 18.81\n"
     ]
    },
    {
     "name": "stderr",
     "output_type": "stream",
     "text": [
      "22:20:59 - cmdstanpy - INFO - Chain [1] start processing\n",
      "22:20:59 - cmdstanpy - INFO - Chain [1] start processing\n",
      "22:20:59 - cmdstanpy - INFO - Chain [1] done processing\n"
     ]
    },
    {
     "name": "stdout",
     "output_type": "stream",
     "text": [
      "It's overpredicted.\n",
      "Monthly Error: "
     ]
    },
    {
     "name": "stderr",
     "output_type": "stream",
     "text": [
      "22:20:59 - cmdstanpy - INFO - Chain [1] done processing\n"
     ]
    },
    {
     "name": "stdout",
     "output_type": "stream",
     "text": [
      "94.5 Period MAE: 80.76\n"
     ]
    },
    {
     "name": "stderr",
     "output_type": "stream",
     "text": [
      "22:20:59 - cmdstanpy - INFO - Chain [1] start processing\n",
      "22:21:00 - cmdstanpy - INFO - Chain [1] done processing\n"
     ]
    },
    {
     "name": "stdout",
     "output_type": "stream",
     "text": [
      "It's underpredicted.\n",
      "Monthly Error: 54.54 Period MAE: 20.32\n"
     ]
    },
    {
     "name": "stderr",
     "output_type": "stream",
     "text": [
      "22:21:01 - cmdstanpy - INFO - Chain [1] start processing\n",
      "22:21:01 - cmdstanpy - INFO - Chain [1] done processing\n",
      "22:21:01 - cmdstanpy - INFO - Chain [1] done processing\n"
     ]
    },
    {
     "name": "stdout",
     "output_type": "stream",
     "text": [
      "It's underpredicted.\n",
      "Monthly Error: 80.3 Period MAE: 80.57\n",
      "It's underpredicted.\n",
      "Monthly Error: 50.5 Period MAE: 24.759999999999998\n",
      "It's overpredicted.\n"
     ]
    },
    {
     "name": "stderr",
     "output_type": "stream",
     "text": [
      "22:21:03 - cmdstanpy - INFO - Chain [1] start processing\n"
     ]
    },
    {
     "name": "stdout",
     "output_type": "stream",
     "text": [
      "Monthly Error: 100.98"
     ]
    },
    {
     "name": "stderr",
     "output_type": "stream",
     "text": [
      "22:21:03 - cmdstanpy - INFO - Chain [1] start processing\n"
     ]
    },
    {
     "name": "stdout",
     "output_type": "stream",
     "text": [
      " Period MAE: 87.18\n",
      "It's underpredicted."
     ]
    },
    {
     "name": "stderr",
     "output_type": "stream",
     "text": [
      "22:21:03 - cmdstanpy - INFO - Chain [1] done processing\n"
     ]
    },
    {
     "name": "stdout",
     "output_type": "stream",
     "text": [
      "\n",
      "Monthly Error: 45.98 Period MAE: 16.78\n"
     ]
    },
    {
     "name": "stderr",
     "output_type": "stream",
     "text": [
      "22:21:04 - cmdstanpy - INFO - Chain [1] start processing\n",
      "22:21:04 - cmdstanpy - INFO - Chain [1] done processing\n",
      "22:21:04 - cmdstanpy - INFO - Chain [1] done processing\n",
      "22:21:04 - cmdstanpy - INFO - Chain [1] start processing\n",
      "22:21:05 - cmdstanpy - INFO - Chain [1] done processing\n"
     ]
    },
    {
     "name": "stdout",
     "output_type": "stream",
     "text": [
      "It's underpredicted.\n",
      "Monthly Error: 54.77 Period MAE: 21.63\n",
      "It's underpredicted.\n",
      "Monthly Error: 61.41 Period MAE: 10.530000000000001\n"
     ]
    },
    {
     "name": "stderr",
     "output_type": "stream",
     "text": [
      "22:21:06 - cmdstanpy - INFO - Chain [1] start processing\n"
     ]
    },
    {
     "name": "stdout",
     "output_type": "stream",
     "text": [
      "It's underpredicted.\n",
      "Monthly Error: 45.04 Period MAE: "
     ]
    },
    {
     "name": "stderr",
     "output_type": "stream",
     "text": [
      "22:21:06 - cmdstanpy - INFO - Chain [1] done processing\n"
     ]
    },
    {
     "name": "stdout",
     "output_type": "stream",
     "text": [
      "41.0\n"
     ]
    },
    {
     "name": "stderr",
     "output_type": "stream",
     "text": [
      "22:21:06 - cmdstanpy - INFO - Chain [1] start processing\n",
      "22:21:06 - cmdstanpy - INFO - Chain [1] start processing\n",
      "22:21:07 - cmdstanpy - INFO - Chain [1] done processing\n",
      "22:21:07 - cmdstanpy - INFO - Chain [1] done processing\n"
     ]
    },
    {
     "name": "stdout",
     "output_type": "stream",
     "text": [
      "It's underpredicted.\n",
      "Monthly Error: 50.26 Period MAE: 24.529999999999998\n",
      "It's overpredicted.\n",
      "Monthly Error: 60.62 Period MAE: 0.24\n",
      "It's overpredicted.\n",
      "Monthly Error: 63.03 Period MAE: 61.160000000000004\n"
     ]
    },
    {
     "name": "stderr",
     "output_type": "stream",
     "text": [
      "22:21:09 - cmdstanpy - INFO - Chain [1] start processing\n",
      "22:21:09 - cmdstanpy - INFO - Chain [1] start processing\n",
      "22:21:09 - cmdstanpy - INFO - Chain [1] done processing\n",
      "22:21:09 - cmdstanpy - INFO - Chain [1] start processing\n"
     ]
    },
    {
     "name": "stdout",
     "output_type": "stream",
     "text": [
      "It's overpredicted.\n",
      "Monthly Error:"
     ]
    },
    {
     "name": "stderr",
     "output_type": "stream",
     "text": [
      "22:21:09 - cmdstanpy - INFO - Chain [1] done processing\n"
     ]
    },
    {
     "name": "stdout",
     "output_type": "stream",
     "text": [
      " 43.19 Period MAE: 36.67\n"
     ]
    },
    {
     "name": "stderr",
     "output_type": "stream",
     "text": [
      "22:21:10 - cmdstanpy - INFO - Chain [1] start processing\n",
      "22:21:10 - cmdstanpy - INFO - Chain [1] done processing\n",
      "22:21:10 - cmdstanpy - INFO - Chain [1] done processing\n"
     ]
    },
    {
     "name": "stdout",
     "output_type": "stream",
     "text": [
      "It's underpredicted.\n",
      "Monthly Error: 62.78 Period MAE: 28.93\n",
      "It's underpredicted.\n",
      "Monthly Error: 60.94 Period MAE: 9.73\n"
     ]
    },
    {
     "name": "stderr",
     "output_type": "stream",
     "text": [
      "22:21:11 - cmdstanpy - INFO - Chain [1] start processing\n",
      "22:21:11 - cmdstanpy - INFO - Chain [1] start processing\n"
     ]
    },
    {
     "name": "stdout",
     "output_type": "stream",
     "text": [
      "It's underpredicted."
     ]
    },
    {
     "name": "stderr",
     "output_type": "stream",
     "text": [
      "22:21:12 - cmdstanpy - INFO - Chain [1] done processing\n",
      "22:21:12 - cmdstanpy - INFO - Chain [1] done processing\n"
     ]
    },
    {
     "name": "stdout",
     "output_type": "stream",
     "text": [
      "\n",
      "Monthly Error: 71.11 Period MAE: 71.49\n"
     ]
    },
    {
     "name": "stderr",
     "output_type": "stream",
     "text": [
      "22:21:13 - cmdstanpy - INFO - Chain [1] start processing\n"
     ]
    },
    {
     "name": "stdout",
     "output_type": "stream",
     "text": [
      "It's underpredicted.\n",
      "Monthly Error: 56.53 Period MAE: 29.21\n",
      "It's overpredicted.\n",
      "Monthly Error: 56.72 Period MAE: 53.66\n"
     ]
    },
    {
     "name": "stderr",
     "output_type": "stream",
     "text": [
      "22:21:13 - cmdstanpy - INFO - Chain [1] done processing\n",
      "22:21:13 - cmdstanpy - INFO - Chain [1] start processing\n",
      "22:21:14 - cmdstanpy - INFO - Chain [1] start processing\n"
     ]
    },
    {
     "name": "stdout",
     "output_type": "stream",
     "text": [
      "It's overpredicted.\n",
      "Monthly Error: 105.84 Period MAE: 85.11999999999999\n"
     ]
    },
    {
     "name": "stderr",
     "output_type": "stream",
     "text": [
      "22:21:14 - cmdstanpy - INFO - Chain [1] done processing\n",
      "22:21:14 - cmdstanpy - INFO - Chain [1] done processing\n",
      "22:21:14 - cmdstanpy - INFO - Chain [1] start processing\n",
      "22:21:14 - cmdstanpy - INFO - Chain [1] done processing\n"
     ]
    },
    {
     "name": "stdout",
     "output_type": "stream",
     "text": [
      "It's underpredicted.\n",
      "Monthly Error: 69.08 Period MAE: 15.409999999999998\n",
      "It's underpredicted.\n",
      "Monthly Error: 43.88 Period MAE: 31.619999999999997\n"
     ]
    },
    {
     "name": "stderr",
     "output_type": "stream",
     "text": [
      "22:21:15 - cmdstanpy - INFO - Chain [1] start processing\n",
      "22:21:15 - cmdstanpy - INFO - Chain [1] start processing\n",
      "22:21:15 - cmdstanpy - INFO - Chain [1] done processing\n",
      "22:21:15 - cmdstanpy - INFO - Chain [1] done processing\n"
     ]
    },
    {
     "name": "stdout",
     "output_type": "stream",
     "text": [
      "It's underpredicted.\n",
      "Monthly Error:It's overpredicted.\n",
      " 43.12Monthly Error:  136.31 Period MAE:Period MAE:  32.1736.17\n",
      "\n",
      "It's overpredicted.\n",
      "Monthly Error: 130.27 Period MAE: 107.67\n"
     ]
    },
    {
     "name": "stderr",
     "output_type": "stream",
     "text": [
      "22:21:17 - cmdstanpy - INFO - Chain [1] start processing\n",
      "22:21:17 - cmdstanpy - INFO - Chain [1] start processing\n",
      "22:21:18 - cmdstanpy - INFO - Chain [1] start processing\n",
      "22:21:18 - cmdstanpy - INFO - Chain [1] done processing\n",
      "22:21:18 - cmdstanpy - INFO - Chain [1] done processing\n",
      "22:21:18 - cmdstanpy - INFO - Chain [1] done processing\n"
     ]
    },
    {
     "name": "stdout",
     "output_type": "stream",
     "text": [
      "It's overpredicted.\n",
      "Monthly Error: 67.93 Period MAE: 3.8699999999999997\n"
     ]
    },
    {
     "name": "stderr",
     "output_type": "stream",
     "text": [
      "22:21:19 - cmdstanpy - INFO - Chain [1] start processing\n",
      "22:21:19 - cmdstanpy - INFO - Chain [1] done processing\n"
     ]
    },
    {
     "name": "stdout",
     "output_type": "stream",
     "text": [
      "It's underpredicted.\n",
      "Monthly Error: 28.91It's underpredicted. Period MAE:\n",
      " 29.759999999999998Monthly Error:\n",
      " 49.65 Period MAE: 18.63\n"
     ]
    },
    {
     "name": "stderr",
     "output_type": "stream",
     "text": [
      "22:21:20 - cmdstanpy - INFO - Chain [1] start processing\n",
      "22:21:20 - cmdstanpy - INFO - Chain [1] start processing\n",
      "22:21:20 - cmdstanpy - INFO - Chain [1] done processing\n"
     ]
    },
    {
     "name": "stdout",
     "output_type": "stream",
     "text": [
      "It's overpredicted.\n",
      "Monthly Error: 105.52 Period MAE: It's overpredicted.\n",
      "44.629999999999995Monthly Error: \n",
      "64.27 Period MAE:"
     ]
    },
    {
     "name": "stderr",
     "output_type": "stream",
     "text": [
      "22:21:21 - cmdstanpy - INFO - Chain [1] done processing\n"
     ]
    },
    {
     "name": "stdout",
     "output_type": "stream",
     "text": [
      " 62.339999999999996\n"
     ]
    },
    {
     "name": "stderr",
     "output_type": "stream",
     "text": [
      "22:21:22 - cmdstanpy - INFO - Chain [1] start processing\n",
      "22:21:22 - cmdstanpy - INFO - Chain [1] start processing\n"
     ]
    },
    {
     "name": "stdout",
     "output_type": "stream",
     "text": [
      "It's underpredicted.\n",
      "Monthly Error: 36.35 Period MAE: 36.99\n"
     ]
    },
    {
     "name": "stderr",
     "output_type": "stream",
     "text": [
      "22:21:22 - cmdstanpy - INFO - Chain [1] done processing\n",
      "22:21:23 - cmdstanpy - INFO - Chain [1] start processing\n",
      "22:21:23 - cmdstanpy - INFO - Chain [1] done processing\n",
      "22:21:23 - cmdstanpy - INFO - Chain [1] done processing\n"
     ]
    },
    {
     "name": "stdout",
     "output_type": "stream",
     "text": [
      "It's overpredicted.\n",
      "Monthly Error: 57.11 Period MAE: 55.37\n"
     ]
    },
    {
     "name": "stderr",
     "output_type": "stream",
     "text": [
      "22:21:24 - cmdstanpy - INFO - Chain [1] start processing\n",
      "22:21:24 - cmdstanpy - INFO - Chain [1] done processing\n"
     ]
    },
    {
     "name": "stdout",
     "output_type": "stream",
     "text": [
      "It's underpredicted.\n",
      "Monthly Error: 44.34 Period MAE: 32.39\n",
      "It's overpredicted.\n",
      "Monthly Error: 64.51 Period MAE: 61.39\n"
     ]
    },
    {
     "name": "stderr",
     "output_type": "stream",
     "text": [
      "22:21:25 - cmdstanpy - INFO - Chain [1] start processing\n"
     ]
    },
    {
     "name": "stdout",
     "output_type": "stream",
     "text": [
      "It's underpredicted.\n",
      "Monthly Error: 29.41 Period MAE: 17.32\n"
     ]
    },
    {
     "name": "stderr",
     "output_type": "stream",
     "text": [
      "22:21:25 - cmdstanpy - INFO - Chain [1] start processing\n",
      "22:21:26 - cmdstanpy - INFO - Chain [1] done processing\n",
      "22:21:26 - cmdstanpy - INFO - Chain [1] done processing\n",
      "22:21:26 - cmdstanpy - INFO - Chain [1] start processing\n"
     ]
    },
    {
     "name": "stdout",
     "output_type": "stream",
     "text": [
      "It's overpredicted.\n",
      "Monthly Error: 102.37 Period MAE: 38.72\n",
      "It's underpredicted.\n",
      "Monthly Error: 45.22 Period MAE: "
     ]
    },
    {
     "name": "stderr",
     "output_type": "stream",
     "text": [
      "22:21:27 - cmdstanpy - INFO - Chain [1] done processing\n"
     ]
    },
    {
     "name": "stdout",
     "output_type": "stream",
     "text": [
      "35.78\n"
     ]
    },
    {
     "name": "stderr",
     "output_type": "stream",
     "text": [
      "22:21:27 - cmdstanpy - INFO - Chain [1] start processing\n",
      "22:21:27 - cmdstanpy - INFO - Chain [1] done processing\n",
      "22:21:28 - cmdstanpy - INFO - Chain [1] start processing\n",
      "22:21:28 - cmdstanpy - INFO - Chain [1] done processing\n"
     ]
    },
    {
     "name": "stdout",
     "output_type": "stream",
     "text": [
      "It's overpredicted.\n",
      "Monthly Error: 146.5 Period MAE: 132.05\n",
      "It's underpredicted.\n",
      "Monthly Error: Period MAE:50.39  19.77\n",
      "It's underpredicted.\n",
      "Monthly Error:"
     ]
    },
    {
     "name": "stderr",
     "output_type": "stream",
     "text": [
      "22:21:29 - cmdstanpy - INFO - Chain [1] start processing\n"
     ]
    },
    {
     "name": "stdout",
     "output_type": "stream",
     "text": [
      " 68.77 Period MAE:"
     ]
    },
    {
     "name": "stderr",
     "output_type": "stream",
     "text": [
      "22:21:29 - cmdstanpy - INFO - Chain [1] done processing\n"
     ]
    },
    {
     "name": "stdout",
     "output_type": "stream",
     "text": [
      " 28.1\n"
     ]
    },
    {
     "name": "stderr",
     "output_type": "stream",
     "text": [
      "22:21:29 - cmdstanpy - INFO - Chain [1] start processing\n",
      "22:21:29 - cmdstanpy - INFO - Chain [1] done processing\n",
      "22:21:29 - cmdstanpy - INFO - Chain [1] start processing\n",
      "22:21:30 - cmdstanpy - INFO - Chain [1] done processing\n"
     ]
    },
    {
     "name": "stdout",
     "output_type": "stream",
     "text": [
      "It's underpredicted.\n",
      "Monthly Error: 65.38 Period MAE: 30.2\n",
      "It's underpredicted.\n",
      "It's overpredicted.Monthly Error:\n",
      "Monthly Error: 47.85  Period MAE:95.3  2.45Period MAE:\n",
      " 55.779999999999994\n"
     ]
    },
    {
     "name": "stderr",
     "output_type": "stream",
     "text": [
      "22:21:31 - cmdstanpy - INFO - Chain [1] start processing\n",
      "22:21:31 - cmdstanpy - INFO - Chain [1] start processing\n",
      "22:21:31 - cmdstanpy - INFO - Chain [1] done processing\n",
      "22:21:32 - cmdstanpy - INFO - Chain [1] start processing\n",
      "22:21:32 - cmdstanpy - INFO - Chain [1] done processing\n"
     ]
    },
    {
     "name": "stdout",
     "output_type": "stream",
     "text": [
      "It's overpredicted.\n",
      "Monthly Error: 24.81 "
     ]
    },
    {
     "name": "stderr",
     "output_type": "stream",
     "text": [
      "22:21:32 - cmdstanpy - INFO - Chain [1] done processing\n"
     ]
    },
    {
     "name": "stdout",
     "output_type": "stream",
     "text": [
      "Period MAE: 1.09\n",
      "It's underpredicted.\n",
      "Monthly Error: 68.81 Period MAE: 29.770000000000003\n"
     ]
    },
    {
     "name": "stderr",
     "output_type": "stream",
     "text": [
      "22:21:33 - cmdstanpy - INFO - Chain [1] start processing\n",
      "22:21:33 - cmdstanpy - INFO - Chain [1] done processing\n",
      "22:21:33 - cmdstanpy - INFO - Chain [1] start processing\n",
      "22:21:34 - cmdstanpy - INFO - Chain [1] done processing\n"
     ]
    },
    {
     "name": "stdout",
     "output_type": "stream",
     "text": [
      "It's underpredicted.\n",
      "Monthly Error: 67.57 Period MAE: 23.79\n"
     ]
    },
    {
     "name": "stderr",
     "output_type": "stream",
     "text": [
      "22:21:34 - cmdstanpy - INFO - Chain [1] start processing\n"
     ]
    },
    {
     "name": "stdout",
     "output_type": "stream",
     "text": [
      "It's underpredicted.\n",
      "Monthly Error:"
     ]
    },
    {
     "name": "stderr",
     "output_type": "stream",
     "text": [
      "22:21:35 - cmdstanpy - INFO - Chain [1] done processing\n"
     ]
    },
    {
     "name": "stdout",
     "output_type": "stream",
     "text": [
      " 65.89 Period MAE: 33.62\n",
      "It's underpredicted.\n",
      "Monthly Error: 27.39 Period MAE: 6.41\n",
      "It's overpredicted.\n"
     ]
    },
    {
     "name": "stderr",
     "output_type": "stream",
     "text": [
      "22:21:36 - cmdstanpy - INFO - Chain [1] start processing\n"
     ]
    },
    {
     "name": "stdout",
     "output_type": "stream",
     "text": [
      "Monthly Error: 26.04 Period MAE: 5.63\n"
     ]
    },
    {
     "name": "stderr",
     "output_type": "stream",
     "text": [
      "22:21:36 - cmdstanpy - INFO - Chain [1] start processing\n",
      "22:21:36 - cmdstanpy - INFO - Chain [1] done processing\n",
      "22:21:36 - cmdstanpy - INFO - Chain [1] start processing\n"
     ]
    },
    {
     "name": "stdout",
     "output_type": "stream",
     "text": [
      "It's overpredicted.\n"
     ]
    },
    {
     "name": "stderr",
     "output_type": "stream",
     "text": [
      "22:21:37 - cmdstanpy - INFO - Chain [1] done processing\n"
     ]
    },
    {
     "name": "stdout",
     "output_type": "stream",
     "text": [
      "Monthly Error: 86.93 Period MAE: 83.06\n"
     ]
    },
    {
     "name": "stderr",
     "output_type": "stream",
     "text": [
      "22:21:37 - cmdstanpy - INFO - Chain [1] done processing\n",
      "22:21:37 - cmdstanpy - INFO - Chain [1] start processing\n",
      "22:21:38 - cmdstanpy - INFO - Chain [1] done processing\n"
     ]
    },
    {
     "name": "stdout",
     "output_type": "stream",
     "text": [
      "It's underpredicted.\n",
      "Monthly Error: 65.72 Period MAE: 22.400000000000002\n",
      "It's underpredicted.\n",
      "Monthly Error: 68.32 Period MAE: 23.9\n"
     ]
    },
    {
     "name": "stderr",
     "output_type": "stream",
     "text": [
      "22:21:39 - cmdstanpy - INFO - Chain [1] start processing\n",
      "22:21:39 - cmdstanpy - INFO - Chain [1] start processing\n",
      "22:21:39 - cmdstanpy - INFO - Chain [1] done processing\n",
      "22:21:40 - cmdstanpy - INFO - Chain [1] done processing\n"
     ]
    },
    {
     "name": "stdout",
     "output_type": "stream",
     "text": [
      "It's underpredicted.\n",
      "Monthly Error: 26.55 Period MAE: It's overpredicted.12.920000000000002\n",
      "\n",
      "Monthly Error: 87.53 Period MAE: 78.93\n",
      "It's overpredicted.\n",
      "Monthly Error: 86.13 "
     ]
    },
    {
     "name": "stderr",
     "output_type": "stream",
     "text": [
      "22:21:41 - cmdstanpy - INFO - Chain [1] start processing\n"
     ]
    },
    {
     "name": "stdout",
     "output_type": "stream",
     "text": [
      "Period MAE: 81.61\n",
      "It's underpredicted.\n",
      "Monthly Error: "
     ]
    },
    {
     "name": "stderr",
     "output_type": "stream",
     "text": [
      "22:21:41 - cmdstanpy - INFO - Chain [1] start processing\n"
     ]
    },
    {
     "name": "stdout",
     "output_type": "stream",
     "text": [
      "66.05 Period MAE: 26.46\n"
     ]
    },
    {
     "name": "stderr",
     "output_type": "stream",
     "text": [
      "22:21:41 - cmdstanpy - INFO - Chain [1] start processing\n",
      "22:21:42 - cmdstanpy - INFO - Chain [1] start processing\n",
      "22:21:42 - cmdstanpy - INFO - Chain [1] done processing\n",
      "22:21:42 - cmdstanpy - INFO - Chain [1] done processing\n",
      "22:21:42 - cmdstanpy - INFO - Chain [1] done processing\n",
      "22:21:42 - cmdstanpy - INFO - Chain [1] done processing\n"
     ]
    },
    {
     "name": "stdout",
     "output_type": "stream",
     "text": [
      "It's underpredicted.\n",
      "Monthly Error: 45.82 Period MAE: 32.97\n"
     ]
    },
    {
     "name": "stderr",
     "output_type": "stream",
     "text": [
      "22:21:43 - cmdstanpy - INFO - Chain [1] start processing\n",
      "22:21:43 - cmdstanpy - INFO - Chain [1] done processing\n"
     ]
    },
    {
     "name": "stdout",
     "output_type": "stream",
     "text": [
      "It's overpredicted.\n",
      "Monthly Error: 106.03 Period MAE: 37.25\n",
      "It's underpredicted.\n",
      "It's underpredicted.Monthly Error: \n",
      "Monthly Error:66.57 46.09  Period MAE:Period MAE:  21.74000000000000235.19\n",
      "\n"
     ]
    },
    {
     "name": "stderr",
     "output_type": "stream",
     "text": [
      "22:21:44 - cmdstanpy - INFO - Chain [1] start processing\n",
      "22:21:44 - cmdstanpy - INFO - Chain [1] done processing\n"
     ]
    },
    {
     "name": "stdout",
     "output_type": "stream",
     "text": [
      "It's overpredicted.\n",
      "Monthly Error:"
     ]
    },
    {
     "name": "stderr",
     "output_type": "stream",
     "text": [
      "22:21:45 - cmdstanpy - INFO - Chain [1] start processing\n",
      "22:21:45 - cmdstanpy - INFO - Chain [1] start processing\n"
     ]
    },
    {
     "name": "stdout",
     "output_type": "stream",
     "text": [
      " 100.08 Period MAE: 95.03\n"
     ]
    },
    {
     "name": "stderr",
     "output_type": "stream",
     "text": [
      "22:21:45 - cmdstanpy - INFO - Chain [1] done processing\n",
      "22:21:46 - cmdstanpy - INFO - Chain [1] start processing\n",
      "22:21:46 - cmdstanpy - INFO - Chain [1] done processing\n",
      "22:21:46 - cmdstanpy - INFO - Chain [1] done processing\n"
     ]
    },
    {
     "name": "stdout",
     "output_type": "stream",
     "text": [
      "It's underpredicted.\n",
      "Monthly Error: 38.74 Period MAE: 17.580000000000002\n"
     ]
    },
    {
     "name": "stderr",
     "output_type": "stream",
     "text": [
      "22:21:47 - cmdstanpy - INFO - Chain [1] start processing\n"
     ]
    },
    {
     "name": "stdout",
     "output_type": "stream",
     "text": [
      "It's underpredicted.\n",
      "Monthly Error: 46.72 Period MAE: 33.45\n"
     ]
    },
    {
     "name": "stderr",
     "output_type": "stream",
     "text": [
      "22:21:47 - cmdstanpy - INFO - Chain [1] done processing\n"
     ]
    },
    {
     "name": "stdout",
     "output_type": "stream",
     "text": [
      "It's underpredicted."
     ]
    },
    {
     "name": "stderr",
     "output_type": "stream",
     "text": [
      "22:21:48 - cmdstanpy - INFO - Chain [1] start processing\n"
     ]
    },
    {
     "name": "stdout",
     "output_type": "stream",
     "text": [
      "\n",
      "Monthly Error: 45.68 Period MAE: 23.27\n"
     ]
    },
    {
     "name": "stderr",
     "output_type": "stream",
     "text": [
      "22:21:48 - cmdstanpy - INFO - Chain [1] done processing\n"
     ]
    },
    {
     "name": "stdout",
     "output_type": "stream",
     "text": [
      "It's underpredicted.\n",
      "Monthly Error: 37.33 Period MAE: "
     ]
    },
    {
     "name": "stderr",
     "output_type": "stream",
     "text": [
      "22:21:48 - cmdstanpy - INFO - Chain [1] start processing\n"
     ]
    },
    {
     "name": "stdout",
     "output_type": "stream",
     "text": [
      "14.91\n"
     ]
    },
    {
     "name": "stderr",
     "output_type": "stream",
     "text": [
      "22:21:49 - cmdstanpy - INFO - Chain [1] done processing\n",
      "22:21:49 - cmdstanpy - INFO - Chain [1] start processing\n"
     ]
    },
    {
     "name": "stdout",
     "output_type": "stream",
     "text": [
      "It's underpredicted.\n",
      "Monthly Error: 49.15 Period MAE: 39.15\n",
      "It's overpredicted.\n",
      "Monthly Error: 49.97 Period MAE: 9.98\n"
     ]
    },
    {
     "name": "stderr",
     "output_type": "stream",
     "text": [
      "22:21:50 - cmdstanpy - INFO - Chain [1] done processing\n",
      "22:21:50 - cmdstanpy - INFO - Chain [1] start processing\n",
      "22:21:50 - cmdstanpy - INFO - Chain [1] start processing\n",
      "22:21:51 - cmdstanpy - INFO - Chain [1] done processing\n",
      "22:21:51 - cmdstanpy - INFO - Chain [1] done processing\n"
     ]
    },
    {
     "name": "stdout",
     "output_type": "stream",
     "text": [
      "It's underpredicted.\n",
      "Monthly Error: 18.39 Period MAE: It's underpredicted.8.540000000000001\n",
      "\n",
      "Monthly Error: 47.0 Period MAE: 25.679999999999996\n"
     ]
    },
    {
     "name": "stderr",
     "output_type": "stream",
     "text": [
      "22:21:52 - cmdstanpy - INFO - Chain [1] start processing\n",
      "22:21:52 - cmdstanpy - INFO - Chain [1] start processing\n",
      "22:21:52 - cmdstanpy - INFO - Chain [1] done processing\n"
     ]
    },
    {
     "name": "stdout",
     "output_type": "stream",
     "text": [
      "It's underpredicted.\n",
      "Monthly Error: 46.11 Period MAE: 21.029999999999998\n"
     ]
    },
    {
     "name": "stderr",
     "output_type": "stream",
     "text": [
      "22:21:53 - cmdstanpy - INFO - Chain [1] start processing\n",
      "22:21:53 - cmdstanpy - INFO - Chain [1] done processing\n",
      "22:21:53 - cmdstanpy - INFO - Chain [1] done processing\n"
     ]
    },
    {
     "name": "stdout",
     "output_type": "stream",
     "text": [
      "It's underpredicted.\n",
      "Monthly Error: 22.74 Period MAE: 2.3\n",
      "It's underpredicted.\n",
      "Monthly Error: 71.79 Period MAE: 45.23\n",
      "It's underpredicted.\n",
      "Monthly Error:"
     ]
    },
    {
     "name": "stderr",
     "output_type": "stream",
     "text": [
      "22:21:54 - cmdstanpy - INFO - Chain [1] start processing\n"
     ]
    },
    {
     "name": "stdout",
     "output_type": "stream",
     "text": [
      " 43.36 Period MAE: 22.71\n"
     ]
    },
    {
     "name": "stderr",
     "output_type": "stream",
     "text": [
      "22:21:55 - cmdstanpy - INFO - Chain [1] start processing\n"
     ]
    },
    {
     "name": "stdout",
     "output_type": "stream",
     "text": [
      "It's overpredicted.\n",
      "Monthly Error: 76.59 Period MAE: 61.650000000000006\n"
     ]
    },
    {
     "name": "stderr",
     "output_type": "stream",
     "text": [
      "22:21:55 - cmdstanpy - INFO - Chain [1] start processing\n",
      "22:21:55 - cmdstanpy - INFO - Chain [1] done processing\n",
      "22:21:55 - cmdstanpy - INFO - Chain [1] start processing\n",
      "22:21:55 - cmdstanpy - INFO - Chain [1] done processing\n",
      "22:21:56 - cmdstanpy - INFO - Chain [1] done processing\n"
     ]
    },
    {
     "name": "stdout",
     "output_type": "stream",
     "text": [
      "It's underpredicted.\n",
      "Monthly Error: 54.51 Period MAE: 20.86\n"
     ]
    },
    {
     "name": "stderr",
     "output_type": "stream",
     "text": [
      "22:21:57 - cmdstanpy - INFO - Chain [1] start processing\n",
      "22:21:57 - cmdstanpy - INFO - Chain [1] done processing\n",
      "22:21:57 - cmdstanpy - INFO - Chain [1] done processing\n"
     ]
    },
    {
     "name": "stdout",
     "output_type": "stream",
     "text": [
      "It's overpredicted.\n",
      "Monthly Error: 87.21 Period MAE: 72.94\n",
      "It's underpredicted.\n",
      "Monthly Error: 51.59 Period MAE: 23.06\n",
      "It's underpredicted.\n",
      "Monthly Error: 46.27 Period MAE: 17.150000000000002\n",
      "It's underpredicted.\n",
      "Monthly Error:"
     ]
    },
    {
     "name": "stderr",
     "output_type": "stream",
     "text": [
      "22:21:58 - cmdstanpy - INFO - Chain [1] start processing\n"
     ]
    },
    {
     "name": "stdout",
     "output_type": "stream",
     "text": [
      " 80.25 Period MAE: 80.52\n"
     ]
    },
    {
     "name": "stderr",
     "output_type": "stream",
     "text": [
      "22:21:58 - cmdstanpy - INFO - Chain [1] done processing\n",
      "22:21:59 - cmdstanpy - INFO - Chain [1] start processing\n",
      "22:21:59 - cmdstanpy - INFO - Chain [1] done processing\n",
      "22:21:59 - cmdstanpy - INFO - Chain [1] start processing\n",
      "22:21:59 - cmdstanpy - INFO - Chain [1] start processing\n",
      "22:21:59 - cmdstanpy - INFO - Chain [1] done processing\n"
     ]
    },
    {
     "name": "stdout",
     "output_type": "stream",
     "text": [
      "It's underpredicted.\n",
      "Monthly Error: 54.6 Period MAE: 20.7\n"
     ]
    },
    {
     "name": "stderr",
     "output_type": "stream",
     "text": [
      "22:22:00 - cmdstanpy - INFO - Chain [1] start processing\n",
      "22:22:00 - cmdstanpy - INFO - Chain [1] done processing\n",
      "22:22:00 - cmdstanpy - INFO - Chain [1] done processing\n"
     ]
    },
    {
     "name": "stdout",
     "output_type": "stream",
     "text": [
      "It's underpredicted.\n",
      "Monthly Error: 80.25 Period MAE: 80.52\n"
     ]
    },
    {
     "name": "stderr",
     "output_type": "stream",
     "text": [
      "22:22:01 - cmdstanpy - INFO - Chain [1] start processing\n",
      "22:22:02 - cmdstanpy - INFO - Chain [1] done processing\n"
     ]
    },
    {
     "name": "stdout",
     "output_type": "stream",
     "text": [
      "It's underpredicted.\n",
      "Monthly Error: 57.99 Period MAE: 14.219999999999999\n",
      "It's underpredicted.\n",
      "Monthly Error: 71.38 Period MAE: 72.41\n"
     ]
    },
    {
     "name": "stderr",
     "output_type": "stream",
     "text": [
      "22:22:03 - cmdstanpy - INFO - Chain [1] start processing\n"
     ]
    },
    {
     "name": "stdout",
     "output_type": "stream",
     "text": [
      "It's overpredicted.\n",
      "Monthly Error: 59.48 Period MAE:"
     ]
    },
    {
     "name": "stderr",
     "output_type": "stream",
     "text": [
      "22:22:03 - cmdstanpy - INFO - Chain [1] done processing\n"
     ]
    },
    {
     "name": "stdout",
     "output_type": "stream",
     "text": [
      " 57.65\n"
     ]
    },
    {
     "name": "stderr",
     "output_type": "stream",
     "text": [
      "22:22:04 - cmdstanpy - INFO - Chain [1] start processing\n"
     ]
    },
    {
     "name": "stdout",
     "output_type": "stream",
     "text": [
      "It's underpredicted.\n",
      "Monthly Error: 51.39 Period MAE: 22.98\n"
     ]
    },
    {
     "name": "stderr",
     "output_type": "stream",
     "text": [
      "22:22:04 - cmdstanpy - INFO - Chain [1] start processing\n",
      "22:22:05 - cmdstanpy - INFO - Chain [1] done processing\n",
      "22:22:05 - cmdstanpy - INFO - Chain [1] start processing\n",
      "22:22:05 - cmdstanpy - INFO - Chain [1] done processing\n",
      "22:22:05 - cmdstanpy - INFO - Chain [1] done processing\n"
     ]
    },
    {
     "name": "stdout",
     "output_type": "stream",
     "text": [
      "It's underpredicted.\n",
      "Monthly Error: 59.51 Period MAE: 25.929999999999996\n"
     ]
    },
    {
     "name": "stderr",
     "output_type": "stream",
     "text": [
      "22:22:06 - cmdstanpy - INFO - Chain [1] start processing\n"
     ]
    },
    {
     "name": "stdout",
     "output_type": "stream",
     "text": [
      "It's overpredicted.\n",
      "Monthly Error: 53.99 Period MAE: 52.339999999999996\n"
     ]
    },
    {
     "name": "stderr",
     "output_type": "stream",
     "text": [
      "22:22:06 - cmdstanpy - INFO - Chain [1] done processing\n",
      "22:22:07 - cmdstanpy - INFO - Chain [1] start processing\n"
     ]
    },
    {
     "name": "stdout",
     "output_type": "stream",
     "text": [
      "It's underpredicted.\n",
      "Monthly Error: 57.91 Period MAE: 13.4\n"
     ]
    },
    {
     "name": "stderr",
     "output_type": "stream",
     "text": [
      "22:22:07 - cmdstanpy - INFO - Chain [1] done processing\n",
      "22:22:07 - cmdstanpy - INFO - Chain [1] start processing\n",
      "22:22:08 - cmdstanpy - INFO - Chain [1] done processing\n"
     ]
    },
    {
     "name": "stdout",
     "output_type": "stream",
     "text": [
      "It's underpredicted.It's overpredicted.\n",
      "Monthly Error:\n",
      "Monthly Error:  58.9780.11  Period MAE:Period MAE: It's underpredicted. 56.45\n",
      "80.38\n",
      "Monthly Error:\n",
      " 56.32\n",
      " Period MAE: 28.549999999999997"
     ]
    },
    {
     "name": "stderr",
     "output_type": "stream",
     "text": [
      "22:22:09 - cmdstanpy - INFO - Chain [1] start processing\n",
      "22:22:10 - cmdstanpy - INFO - Chain [1] done processing\n",
      "22:22:10 - cmdstanpy - INFO - Chain [1] start processing\n",
      "22:22:10 - cmdstanpy - INFO - Chain [1] start processing\n",
      "22:22:10 - cmdstanpy - INFO - Chain [1] done processing\n"
     ]
    },
    {
     "name": "stdout",
     "output_type": "stream",
     "text": [
      "It's underpredicted.\n",
      "Monthly Error: 80.04 Period MAE: 80.31\n"
     ]
    },
    {
     "name": "stderr",
     "output_type": "stream",
     "text": [
      "22:22:11 - cmdstanpy - INFO - Chain [1] done processing\n"
     ]
    },
    {
     "name": "stdout",
     "output_type": "stream",
     "text": [
      "It's underpredicted.\n",
      "Monthly Error: 43.87 Period MAE: 33.379999999999995\n"
     ]
    },
    {
     "name": "stderr",
     "output_type": "stream",
     "text": [
      "22:22:11 - cmdstanpy - INFO - Chain [1] start processing\n",
      "22:22:11 - cmdstanpy - INFO - Chain [1] done processing\n",
      "22:22:11 - cmdstanpy - INFO - Chain [1] start processing\n",
      "22:22:12 - cmdstanpy - INFO - Chain [1] done processing\n"
     ]
    },
    {
     "name": "stdout",
     "output_type": "stream",
     "text": [
      "It's underpredicted.\n",
      "Monthly Error: 63.39 Period MAE: 17.34\n"
     ]
    },
    {
     "name": "stderr",
     "output_type": "stream",
     "text": [
      "22:22:13 - cmdstanpy - INFO - Chain [1] start processing\n",
      "22:22:13 - cmdstanpy - INFO - Chain [1] done processing\n"
     ]
    },
    {
     "name": "stdout",
     "output_type": "stream",
     "text": [
      "It's underpredicted.\n",
      "Monthly Error: 70.86 Period MAE: 71.91\n",
      "It's underpredicted.\n",
      "Monthly Error: 43.79 Period MAE: 33.489999999999995\n",
      "It's overpredicted.\n",
      "Monthly Error: 131.08 Period MAE: 31.39\n"
     ]
    },
    {
     "name": "stderr",
     "output_type": "stream",
     "text": [
      "22:22:14 - cmdstanpy - INFO - Chain [1] start processing\n",
      "22:22:14 - cmdstanpy - INFO - Chain [1] start processing\n",
      "22:22:14 - cmdstanpy - INFO - Chain [1] start processing\n",
      "22:22:15 - cmdstanpy - INFO - Chain [1] done processing\n",
      "22:22:15 - cmdstanpy - INFO - Chain [1] done processing\n",
      "22:22:15 - cmdstanpy - INFO - Chain [1] done processing\n"
     ]
    },
    {
     "name": "stdout",
     "output_type": "stream",
     "text": [
      "It's underpredicted.\n",
      "It's overpredicted.Monthly Error:\n",
      "Monthly Error: 33.3 128.41  Period MAE:Period MAE:  34.2229.79\n",
      "\n"
     ]
    },
    {
     "name": "stderr",
     "output_type": "stream",
     "text": [
      "22:22:16 - cmdstanpy - INFO - Chain [1] start processing\n"
     ]
    },
    {
     "name": "stdout",
     "output_type": "stream",
     "text": [
      "It's underpredicted."
     ]
    },
    {
     "name": "stderr",
     "output_type": "stream",
     "text": [
      "22:22:17 - cmdstanpy - INFO - Chain [1] start processing\n"
     ]
    },
    {
     "name": "stdout",
     "output_type": "stream",
     "text": [
      "\n"
     ]
    },
    {
     "name": "stderr",
     "output_type": "stream",
     "text": [
      "22:22:17 - cmdstanpy - INFO - Chain [1] done processing\n"
     ]
    },
    {
     "name": "stdout",
     "output_type": "stream",
     "text": [
      "Monthly Error: 44.74 Period MAE: 19.56\n"
     ]
    },
    {
     "name": "stderr",
     "output_type": "stream",
     "text": [
      "22:22:17 - cmdstanpy - INFO - Chain [1] done processing\n",
      "22:22:17 - cmdstanpy - INFO - Chain [1] start processing\n"
     ]
    },
    {
     "name": "stdout",
     "output_type": "stream",
     "text": [
      "It's overpredicted.\n",
      "Monthly Error: 134.4 "
     ]
    },
    {
     "name": "stderr",
     "output_type": "stream",
     "text": [
      "22:22:17 - cmdstanpy - INFO - Chain [1] done processing\n"
     ]
    },
    {
     "name": "stdout",
     "output_type": "stream",
     "text": [
      "Period MAE: 37.05\n",
      "It's underpredicted.\n",
      "Monthly Error: 36.03 Period MAE: 36.82\n"
     ]
    },
    {
     "name": "stderr",
     "output_type": "stream",
     "text": [
      "22:22:19 - cmdstanpy - INFO - Chain [1] start processing\n"
     ]
    },
    {
     "name": "stdout",
     "output_type": "stream",
     "text": [
      "It's overpredicted.\n",
      "Monthly Error: 67.47 Period MAE: 65.45\n"
     ]
    },
    {
     "name": "stderr",
     "output_type": "stream",
     "text": [
      "22:22:19 - cmdstanpy - INFO - Chain [1] start processing\n",
      "22:22:19 - cmdstanpy - INFO - Chain [1] start processing\n",
      "22:22:20 - cmdstanpy - INFO - Chain [1] done processing\n",
      "22:22:20 - cmdstanpy - INFO - Chain [1] done processing\n"
     ]
    },
    {
     "name": "stdout",
     "output_type": "stream",
     "text": [
      "It's overpredicted."
     ]
    },
    {
     "name": "stderr",
     "output_type": "stream",
     "text": [
      "22:22:20 - cmdstanpy - INFO - Chain [1] done processing\n"
     ]
    },
    {
     "name": "stdout",
     "output_type": "stream",
     "text": [
      "\n",
      "Monthly Error: 65.99 Period MAE: 64.05999999999999\n"
     ]
    },
    {
     "name": "stderr",
     "output_type": "stream",
     "text": [
      "22:22:21 - cmdstanpy - INFO - Chain [1] start processing\n"
     ]
    },
    {
     "name": "stdout",
     "output_type": "stream",
     "text": [
      "It's underpredicted."
     ]
    },
    {
     "name": "stderr",
     "output_type": "stream",
     "text": [
      "22:22:21 - cmdstanpy - INFO - Chain [1] done processing\n"
     ]
    },
    {
     "name": "stdout",
     "output_type": "stream",
     "text": [
      "\n",
      "Monthly Error: 44.68 Period MAE: 34.150000000000006\n",
      "It's underpredicted.\n",
      "Monthly Error: 28.85 Period MAE: 19.6\n"
     ]
    },
    {
     "name": "stderr",
     "output_type": "stream",
     "text": [
      "22:22:21 - cmdstanpy - INFO - Chain [1] start processing\n",
      "22:22:22 - cmdstanpy - INFO - Chain [1] start processing\n",
      "22:22:22 - cmdstanpy - INFO - Chain [1] done processing\n",
      "22:22:22 - cmdstanpy - INFO - Chain [1] done processing\n"
     ]
    },
    {
     "name": "stdout",
     "output_type": "stream",
     "text": [
      "It's overpredicted.\n",
      "Monthly Error: 130.4 Period MAE:It's overpredicted. \n",
      "Monthly Error: 31.41\n",
      "69.46 Period MAE: 66.72It's underpredicted.\n",
      "\n",
      "Monthly Error: 42.07 Period MAE: 30.819999999999997\n"
     ]
    },
    {
     "name": "stderr",
     "output_type": "stream",
     "text": [
      "22:22:24 - cmdstanpy - INFO - Chain [1] start processing\n",
      "22:22:24 - cmdstanpy - INFO - Chain [1] start processing\n",
      "22:22:24 - cmdstanpy - INFO - Chain [1] done processing\n",
      "22:22:24 - cmdstanpy - INFO - Chain [1] start processing\n",
      "22:22:24 - cmdstanpy - INFO - Chain [1] done processing\n"
     ]
    },
    {
     "name": "stdout",
     "output_type": "stream",
     "text": [
      "It's overpredicted.\n",
      "Monthly Error: 129.58 Period MAE: 32.190000000000005\n"
     ]
    },
    {
     "name": "stderr",
     "output_type": "stream",
     "text": [
      "22:22:25 - cmdstanpy - INFO - Chain [1] start processing\n"
     ]
    },
    {
     "name": "stdout",
     "output_type": "stream",
     "text": [
      "It's underpredicted.\n",
      "Monthly Error:"
     ]
    },
    {
     "name": "stderr",
     "output_type": "stream",
     "text": [
      "22:22:25 - cmdstanpy - INFO - Chain [1] done processing\n"
     ]
    },
    {
     "name": "stdout",
     "output_type": "stream",
     "text": [
      " 68.81 Period MAE: 30.55\n"
     ]
    },
    {
     "name": "stderr",
     "output_type": "stream",
     "text": [
      "22:22:25 - cmdstanpy - INFO - Chain [1] done processing\n",
      "22:22:25 - cmdstanpy - INFO - Chain [1] start processing\n",
      "22:22:26 - cmdstanpy - INFO - Chain [1] done processing\n"
     ]
    },
    {
     "name": "stdout",
     "output_type": "stream",
     "text": [
      "It's underpredicted.\n",
      "Monthly Error: 45.38 Period MAE: 20.419999999999998\n",
      "It's overpredicted.\n",
      "Monthly Error: 135.86 "
     ]
    },
    {
     "name": "stderr",
     "output_type": "stream",
     "text": [
      "22:22:27 - cmdstanpy - INFO - Chain [1] start processing\n"
     ]
    },
    {
     "name": "stdout",
     "output_type": "stream",
     "text": [
      "Period MAE:It's underpredicted. 39.83\n",
      "\n",
      "Monthly Error: 67.48 Period MAE: 28.01\n"
     ]
    },
    {
     "name": "stderr",
     "output_type": "stream",
     "text": [
      "22:22:27 - cmdstanpy - INFO - Chain [1] done processing\n",
      "22:22:28 - cmdstanpy - INFO - Chain [1] start processing\n"
     ]
    },
    {
     "name": "stdout",
     "output_type": "stream",
     "text": [
      "It's underpredicted.\n",
      "Monthly Error: 48.01"
     ]
    },
    {
     "name": "stderr",
     "output_type": "stream",
     "text": [
      "22:22:28 - cmdstanpy - INFO - Chain [1] start processing\n"
     ]
    },
    {
     "name": "stdout",
     "output_type": "stream",
     "text": [
      " Period MAE: 1.87\n"
     ]
    },
    {
     "name": "stderr",
     "output_type": "stream",
     "text": [
      "22:22:28 - cmdstanpy - INFO - Chain [1] done processing\n",
      "22:22:29 - cmdstanpy - INFO - Chain [1] done processing\n",
      "22:22:29 - cmdstanpy - INFO - Chain [1] start processing\n",
      "22:22:29 - cmdstanpy - INFO - Chain [1] done processing\n"
     ]
    },
    {
     "name": "stdout",
     "output_type": "stream",
     "text": [
      "It's underpredicted.\n",
      "Monthly Error: 70.2 Period MAE: 29.220000000000002\n"
     ]
    },
    {
     "name": "stderr",
     "output_type": "stream",
     "text": [
      "22:22:30 - cmdstanpy - INFO - Chain [1] start processing\n"
     ]
    },
    {
     "name": "stdout",
     "output_type": "stream",
     "text": [
      "It's underpredicted.\n",
      "Monthly Error: 41.24 It's underpredicted.\n",
      "Period MAE: Monthly Error:2.9000000000000004\n",
      " 68.94 Period MAE: "
     ]
    },
    {
     "name": "stderr",
     "output_type": "stream",
     "text": [
      "22:22:30 - cmdstanpy - INFO - Chain [1] done processing\n"
     ]
    },
    {
     "name": "stdout",
     "output_type": "stream",
     "text": [
      "29.92\n"
     ]
    },
    {
     "name": "stderr",
     "output_type": "stream",
     "text": [
      "22:22:31 - cmdstanpy - INFO - Chain [1] start processing\n",
      "22:22:31 - cmdstanpy - INFO - Chain [1] start processing\n",
      "22:22:31 - cmdstanpy - INFO - Chain [1] done processing\n",
      "22:22:31 - cmdstanpy - INFO - Chain [1] done processing\n"
     ]
    },
    {
     "name": "stdout",
     "output_type": "stream",
     "text": [
      "It's underpredicted.\n",
      "Monthly Error: 41.76 Period MAE: 5.3100000000000005\n",
      "It's underpredicted.\n",
      "Monthly Error: 67.83 Period MAE: 29.94\n",
      "It's underpredicted.\n",
      "Monthly Error: 26.76 Period MAE: 8.86\n"
     ]
    },
    {
     "name": "stderr",
     "output_type": "stream",
     "text": [
      "22:22:33 - cmdstanpy - INFO - Chain [1] start processing\n",
      "22:22:33 - cmdstanpy - INFO - Chain [1] start processing\n",
      "22:22:33 - cmdstanpy - INFO - Chain [1] start processing\n",
      "22:22:34 - cmdstanpy - INFO - Chain [1] done processing\n",
      "22:22:34 - cmdstanpy - INFO - Chain [1] done processing\n",
      "22:22:34 - cmdstanpy - INFO - Chain [1] done processing\n"
     ]
    },
    {
     "name": "stdout",
     "output_type": "stream",
     "text": [
      "It's underpredicted.\n",
      "Monthly Error: 70.97 Period MAE: 30.659999999999997\n",
      "It's overpredicted.\n",
      "Monthly Error: 65.41 Period MAE: 59.93000000000001\n"
     ]
    },
    {
     "name": "stderr",
     "output_type": "stream",
     "text": [
      "22:22:35 - cmdstanpy - INFO - Chain [1] start processing\n",
      "22:22:35 - cmdstanpy - INFO - Chain [1] done processing\n",
      "22:22:35 - cmdstanpy - INFO - Chain [1] start processing\n",
      "22:22:36 - cmdstanpy - INFO - Chain [1] done processing\n"
     ]
    },
    {
     "name": "stdout",
     "output_type": "stream",
     "text": [
      "It's underpredicted.\n",
      "Monthly Error: 70.48 Period MAE: 31.8\n"
     ]
    },
    {
     "name": "stderr",
     "output_type": "stream",
     "text": [
      "22:22:37 - cmdstanpy - INFO - Chain [1] start processing\n",
      "22:22:37 - cmdstanpy - INFO - Chain [1] done processing\n"
     ]
    },
    {
     "name": "stdout",
     "output_type": "stream",
     "text": [
      "It's underpredicted.\n",
      "Monthly Error: 68.11 Period MAE: 29.060000000000002\n",
      "It's overpredicted.\n",
      "Monthly Error: 65.36 Period MAE: 60.01\n",
      "It's overpredicted.\n",
      "Monthly Error: 47.3 Period MAE: 3.8899999999999997\n"
     ]
    },
    {
     "name": "stderr",
     "output_type": "stream",
     "text": [
      "22:22:39 - cmdstanpy - INFO - Chain [1] start processing\n",
      "22:22:39 - cmdstanpy - INFO - Chain [1] start processing\n",
      "22:22:40 - cmdstanpy - INFO - Chain [1] done processing\n",
      "22:22:40 - cmdstanpy - INFO - Chain [1] start processing\n",
      "22:22:40 - cmdstanpy - INFO - Chain [1] done processing\n",
      "22:22:40 - cmdstanpy - INFO - Chain [1] done processing\n"
     ]
    },
    {
     "name": "stdout",
     "output_type": "stream",
     "text": [
      "It's underpredicted.\n",
      "Monthly Error: 45.22 Period MAE: 33.37\n"
     ]
    },
    {
     "name": "stderr",
     "output_type": "stream",
     "text": [
      "22:22:41 - cmdstanpy - INFO - Chain [1] start processing\n",
      "22:22:42 - cmdstanpy - INFO - Chain [1] done processing\n"
     ]
    },
    {
     "name": "stdout",
     "output_type": "stream",
     "text": [
      "It's overpredicted.\n",
      "Monthly Error: 40.88 Period MAE: 0.72\n",
      "It's underpredicted."
     ]
    },
    {
     "name": "stderr",
     "output_type": "stream",
     "text": [
      "22:22:43 - cmdstanpy - INFO - Chain [1] start processing\n"
     ]
    },
    {
     "name": "stdout",
     "output_type": "stream",
     "text": [
      "\n",
      "Monthly Error: 68.27 Period MAE: 27.089999999999996\n"
     ]
    },
    {
     "name": "stderr",
     "output_type": "stream",
     "text": [
      "22:22:43 - cmdstanpy - INFO - Chain [1] start processing\n",
      "22:22:43 - cmdstanpy - INFO - Chain [1] done processing\n",
      "22:22:43 - cmdstanpy - INFO - Chain [1] done processing\n"
     ]
    },
    {
     "name": "stdout",
     "output_type": "stream",
     "text": [
      "It's underpredicted.\n",
      "Monthly Error: 47.11 Period MAE: 36.55\n",
      "It's overpredicted.\n",
      "Monthly Error: 41.05 Period MAE: It's overpredicted.1.08\n",
      "\n",
      "Monthly Error: 98.7 Period MAE: 29.9\n"
     ]
    },
    {
     "name": "stderr",
     "output_type": "stream",
     "text": [
      "22:22:46 - cmdstanpy - INFO - Chain [1] start processing\n",
      "22:22:46 - cmdstanpy - INFO - Chain [1] start processing\n",
      "22:22:47 - cmdstanpy - INFO - Chain [1] start processing\n",
      "22:22:47 - cmdstanpy - INFO - Chain [1] done processing\n",
      "22:22:47 - cmdstanpy - INFO - Chain [1] done processing\n"
     ]
    },
    {
     "name": "stdout",
     "output_type": "stream",
     "text": [
      "It's overpredicted.\n",
      "Monthly Error: 92.09 Period MAE: 34.17\n"
     ]
    },
    {
     "name": "stderr",
     "output_type": "stream",
     "text": [
      "22:22:47 - cmdstanpy - INFO - Chain [1] done processing\n",
      "22:22:48 - cmdstanpy - INFO - Chain [1] start processing\n"
     ]
    },
    {
     "name": "stdout",
     "output_type": "stream",
     "text": [
      "It's underpredicted.\n",
      "Monthly Error: 47.76 Period MAE: 36.51\n"
     ]
    },
    {
     "name": "stderr",
     "output_type": "stream",
     "text": [
      "22:22:48 - cmdstanpy - INFO - Chain [1] done processing\n",
      "22:22:49 - cmdstanpy - INFO - Chain [1] start processing\n"
     ]
    },
    {
     "name": "stdout",
     "output_type": "stream",
     "text": [
      "It's underpredicted.\n",
      "Monthly Error: 44.51 Period MAE: 29.299999999999997\n"
     ]
    },
    {
     "name": "stderr",
     "output_type": "stream",
     "text": [
      "22:22:50 - cmdstanpy - INFO - Chain [1] done processing\n",
      "22:22:50 - cmdstanpy - INFO - Chain [1] start processing\n",
      "22:22:51 - cmdstanpy - INFO - Chain [1] done processing\n"
     ]
    },
    {
     "name": "stdout",
     "output_type": "stream",
     "text": [
      "It's overpredicted.\n",
      "Monthly Error: 88.18 Period MAE: 23.35\n",
      "It's overpredicted.\n",
      "Monthly Error: 50.8 Period MAE: 11.39\n",
      "It's underpredicted.\n",
      "Monthly Error: 46.55 Period MAE: 34.78\n"
     ]
    },
    {
     "name": "stderr",
     "output_type": "stream",
     "text": [
      "22:22:52 - cmdstanpy - INFO - Chain [1] start processing\n",
      "22:22:53 - cmdstanpy - INFO - Chain [1] start processing\n",
      "22:22:53 - cmdstanpy - INFO - Chain [1] start processing\n",
      "22:22:53 - cmdstanpy - INFO - Chain [1] done processing\n",
      "22:22:54 - cmdstanpy - INFO - Chain [1] done processing\n",
      "22:22:54 - cmdstanpy - INFO - Chain [1] done processing\n"
     ]
    },
    {
     "name": "stdout",
     "output_type": "stream",
     "text": [
      "It's underpredicted.\n",
      "Monthly Error: 44.96 Period MAE: 32.97It's overpredicted.\n",
      "\n",
      "Monthly Error: 48.7 Period MAE: \n",
      "11.03"
     ]
    },
    {
     "name": "stderr",
     "output_type": "stream",
     "text": [
      "22:22:55 - cmdstanpy - INFO - Chain [1] start processing\n",
      "22:22:55 - cmdstanpy - INFO - Chain [1] done processing\n",
      "22:22:55 - cmdstanpy - INFO - Chain [1] start processing\n",
      "22:22:56 - cmdstanpy - INFO - Chain [1] done processing\n"
     ]
    },
    {
     "name": "stdout",
     "output_type": "stream",
     "text": [
      "It's underpredicted.\n",
      "Monthly Error: 46.68 Period MAE: 33.879999999999995\n"
     ]
    },
    {
     "name": "stderr",
     "output_type": "stream",
     "text": [
      "22:22:57 - cmdstanpy - INFO - Chain [1] start processing\n",
      "22:22:57 - cmdstanpy - INFO - Chain [1] done processing\n"
     ]
    },
    {
     "name": "stdout",
     "output_type": "stream",
     "text": [
      "It's underpredicted.\n",
      "Monthly Error: 43.89 Period MAE: 31.34\n",
      "It's underpredicted.It's overpredicted.\n",
      "\n",
      "Monthly Error:Monthly Error:  39.91 103.96Period MAE:  Period MAE:2.9000000000000004 41.99\n",
      "\n"
     ]
    },
    {
     "name": "stderr",
     "output_type": "stream",
     "text": [
      "22:22:59 - cmdstanpy - INFO - Chain [1] start processing\n",
      "22:22:59 - cmdstanpy - INFO - Chain [1] start processing\n",
      "22:22:59 - cmdstanpy - INFO - Chain [1] done processing\n",
      "22:23:00 - cmdstanpy - INFO - Chain [1] start processing\n"
     ]
    },
    {
     "name": "stdout",
     "output_type": "stream",
     "text": [
      "It's underpredicted.\n",
      "Monthly Error: 54.77 Period MAE: 21.41\n"
     ]
    },
    {
     "name": "stderr",
     "output_type": "stream",
     "text": [
      "22:23:00 - cmdstanpy - INFO - Chain [1] done processing\n",
      "22:23:00 - cmdstanpy - INFO - Chain [1] done processing\n",
      "22:23:00 - cmdstanpy - INFO - Chain [1] start processing\n",
      "22:23:01 - cmdstanpy - INFO - Chain [1] done processing\n"
     ]
    },
    {
     "name": "stdout",
     "output_type": "stream",
     "text": [
      "It's overpredicted.\n",
      "Monthly Error: 87.61Period MAE:  29.54\n",
      "It's underpredicted.\n"
     ]
    },
    {
     "name": "stderr",
     "output_type": "stream",
     "text": [
      "22:23:02 - cmdstanpy - INFO - Chain [1] start processing\n"
     ]
    },
    {
     "name": "stdout",
     "output_type": "stream",
     "text": [
      "Monthly Error: 44.74 Period MAE: 30.56\n"
     ]
    },
    {
     "name": "stderr",
     "output_type": "stream",
     "text": [
      "22:23:03 - cmdstanpy - INFO - Chain [1] done processing\n",
      "22:23:03 - cmdstanpy - INFO - Chain [1] start processing\n",
      "22:23:03 - cmdstanpy - INFO - Chain [1] done processing\n"
     ]
    },
    {
     "name": "stdout",
     "output_type": "stream",
     "text": [
      "It's underpredicted.\n",
      "Monthly Error: 49.97 Period MAE: 24.87\n",
      "It's underpredicted.\n",
      "Monthly Error: 80.31 Period MAE: 80.58\n"
     ]
    },
    {
     "name": "stderr",
     "output_type": "stream",
     "text": [
      "22:23:06 - cmdstanpy - INFO - Chain [1] start processing\n"
     ]
    },
    {
     "name": "stdout",
     "output_type": "stream",
     "text": [
      "It's overpredicted.\n",
      "Monthly Error: 88.79 Period MAE: 30.159999999999997\n"
     ]
    },
    {
     "name": "stderr",
     "output_type": "stream",
     "text": [
      "22:23:07 - cmdstanpy - INFO - Chain [1] start processing\n",
      "22:23:07 - cmdstanpy - INFO - Chain [1] start processing\n",
      "22:23:07 - cmdstanpy - INFO - Chain [1] done processing\n"
     ]
    },
    {
     "name": "stdout",
     "output_type": "stream",
     "text": [
      "It's underpredicted.\n",
      "Monthly Error:"
     ]
    },
    {
     "name": "stderr",
     "output_type": "stream",
     "text": [
      "22:23:07 - cmdstanpy - INFO - Chain [1] done processing\n"
     ]
    },
    {
     "name": "stdout",
     "output_type": "stream",
     "text": [
      " 44.66 Period MAE: "
     ]
    },
    {
     "name": "stderr",
     "output_type": "stream",
     "text": [
      "22:23:07 - cmdstanpy - INFO - Chain [1] done processing\n"
     ]
    },
    {
     "name": "stdout",
     "output_type": "stream",
     "text": [
      "40.48\n"
     ]
    },
    {
     "name": "stderr",
     "output_type": "stream",
     "text": [
      "22:23:08 - cmdstanpy - INFO - Chain [1] start processing\n",
      "22:23:08 - cmdstanpy - INFO - Chain [1] done processing\n"
     ]
    },
    {
     "name": "stdout",
     "output_type": "stream",
     "text": [
      "It's underpredicted.\n",
      "Monthly Error: 58.65 Period MAE: 25.619999999999997\n"
     ]
    },
    {
     "name": "stderr",
     "output_type": "stream",
     "text": [
      "22:23:09 - cmdstanpy - INFO - Chain [1] start processing\n",
      "22:23:10 - cmdstanpy - INFO - Chain [1] done processing\n"
     ]
    },
    {
     "name": "stdout",
     "output_type": "stream",
     "text": [
      "It's underpredicted.\n",
      "Monthly Error: 61.62 Period MAE: 11.64\n"
     ]
    },
    {
     "name": "stderr",
     "output_type": "stream",
     "text": [
      "22:23:10 - cmdstanpy - INFO - Chain [1] start processing\n"
     ]
    },
    {
     "name": "stdout",
     "output_type": "stream",
     "text": [
      "It's underpredicted."
     ]
    },
    {
     "name": "stderr",
     "output_type": "stream",
     "text": [
      "22:23:11 - cmdstanpy - INFO - Chain [1] done processing\n"
     ]
    },
    {
     "name": "stdout",
     "output_type": "stream",
     "text": [
      "\n",
      "Monthly Error: 50.09 Period MAE: 24.8\n",
      "It's underpredicted.\n",
      "Monthly Error: 58.0 Period MAE: 0.13\n",
      "It's overpredicted.\n",
      "Monthly Error: 62.93 Period MAE: 61.06\n"
     ]
    },
    {
     "name": "stderr",
     "output_type": "stream",
     "text": [
      "22:23:12 - cmdstanpy - INFO - Chain [1] start processing\n",
      "22:23:12 - cmdstanpy - INFO - Chain [1] start processing\n",
      "22:23:13 - cmdstanpy - INFO - Chain [1] done processing\n",
      "22:23:13 - cmdstanpy - INFO - Chain [1] start processing\n",
      "22:23:13 - cmdstanpy - INFO - Chain [1] done processing\n",
      "22:23:14 - cmdstanpy - INFO - Chain [1] done processing\n"
     ]
    },
    {
     "name": "stdout",
     "output_type": "stream",
     "text": [
      "It's underpredicted.\n",
      "Monthly Error: 61.98 Period MAE: 25.979999999999997\n",
      "It's overpredicted.\n",
      "Monthly Error: 41.87 Period MAE: 33.94\n"
     ]
    },
    {
     "name": "stderr",
     "output_type": "stream",
     "text": [
      "22:23:15 - cmdstanpy - INFO - Chain [1] start processing\n"
     ]
    },
    {
     "name": "stdout",
     "output_type": "stream",
     "text": [
      "It's underpredicted.\n",
      "Monthly Error: 61.23 Period MAE: 11.73\n"
     ]
    },
    {
     "name": "stderr",
     "output_type": "stream",
     "text": [
      "22:23:15 - cmdstanpy - INFO - Chain [1] done processing\n",
      "22:23:15 - cmdstanpy - INFO - Chain [1] start processing\n",
      "22:23:16 - cmdstanpy - INFO - Chain [1] done processing\n",
      "22:23:16 - cmdstanpy - INFO - Chain [1] start processing\n",
      "22:23:16 - cmdstanpy - INFO - Chain [1] done processing\n"
     ]
    },
    {
     "name": "stdout",
     "output_type": "stream",
     "text": [
      "It's underpredicted.\n",
      "Monthly Error: 56.42 Period MAE: 27.85\n",
      "It's overpredicted.\n",
      "Monthly Error: 52.91 Period MAE: 49.95\n"
     ]
    },
    {
     "name": "stderr",
     "output_type": "stream",
     "text": [
      "22:23:19 - cmdstanpy - INFO - Chain [1] start processing\n"
     ]
    },
    {
     "name": "stdout",
     "output_type": "stream",
     "text": [
      "It's underpredicted.\n",
      "Monthly Error: 62.64 Period MAE: 63.13999999999999\n"
     ]
    },
    {
     "name": "stderr",
     "output_type": "stream",
     "text": [
      "22:23:19 - cmdstanpy - INFO - Chain [1] start processing\n",
      "22:23:19 - cmdstanpy - INFO - Chain [1] done processing\n",
      "22:23:19 - cmdstanpy - INFO - Chain [1] done processing\n",
      "22:23:20 - cmdstanpy - INFO - Chain [1] start processing\n"
     ]
    },
    {
     "name": "stdout",
     "output_type": "stream",
     "text": [
      "It's overpredicted.\n",
      "Monthly Error: 124.54 Period MAE: 105.52\n"
     ]
    },
    {
     "name": "stderr",
     "output_type": "stream",
     "text": [
      "22:23:20 - cmdstanpy - INFO - Chain [1] done processing\n",
      "22:23:20 - cmdstanpy - INFO - Chain [1] start processing\n",
      "22:23:20 - cmdstanpy - INFO - Chain [1] done processing\n"
     ]
    },
    {
     "name": "stdout",
     "output_type": "stream",
     "text": [
      "It's underpredicted.\n",
      "Monthly Error: 42.23 Period MAE: 30.3\n"
     ]
    },
    {
     "name": "stderr",
     "output_type": "stream",
     "text": [
      "22:23:21 - cmdstanpy - INFO - Chain [1] start processing\n",
      "22:23:22 - cmdstanpy - INFO - Chain [1] done processing\n"
     ]
    },
    {
     "name": "stdout",
     "output_type": "stream",
     "text": [
      "It's underpredicted.\n",
      "Monthly Error: 69.29 Period MAE: 16.08\n"
     ]
    },
    {
     "name": "stderr",
     "output_type": "stream",
     "text": [
      "22:23:23 - cmdstanpy - INFO - Chain [1] start processing\n",
      "22:23:23 - cmdstanpy - INFO - Chain [1] done processing\n"
     ]
    },
    {
     "name": "stdout",
     "output_type": "stream",
     "text": [
      "It's underpredicted.\n",
      "Monthly Error: 46.69 Period MAE: 38.06\n",
      "It's overpredicted.\n",
      "Monthly Error: 135.98 Period MAE: 35.76\n"
     ]
    },
    {
     "name": "stderr",
     "output_type": "stream",
     "text": [
      "22:23:25 - cmdstanpy - INFO - Chain [1] start processing\n"
     ]
    },
    {
     "name": "stdout",
     "output_type": "stream",
     "text": [
      "It's overpredicted.\n",
      "Monthly Error: 159.31 Period MAE: 139.79\n"
     ]
    },
    {
     "name": "stderr",
     "output_type": "stream",
     "text": [
      "22:23:25 - cmdstanpy - INFO - Chain [1] start processing\n",
      "22:23:25 - cmdstanpy - INFO - Chain [1] start processing\n",
      "22:23:26 - cmdstanpy - INFO - Chain [1] done processing\n",
      "22:23:26 - cmdstanpy - INFO - Chain [1] done processing\n",
      "22:23:26 - cmdstanpy - INFO - Chain [1] done processing\n"
     ]
    },
    {
     "name": "stdout",
     "output_type": "stream",
     "text": [
      "It's underpredicted.\n",
      "Monthly Error: 44.37It's underpredicted. Period MAE:\n",
      "Monthly Error: 23.28 34.52\n",
      " Period MAE: 35.339999999999996\n"
     ]
    },
    {
     "name": "stderr",
     "output_type": "stream",
     "text": [
      "22:23:27 - cmdstanpy - INFO - Chain [1] start processing\n"
     ]
    },
    {
     "name": "stdout",
     "output_type": "stream",
     "text": [
      "It's underpredicted.\n",
      "Monthly Error:"
     ]
    },
    {
     "name": "stderr",
     "output_type": "stream",
     "text": [
      "22:23:28 - cmdstanpy - INFO - Chain [1] start processing\n"
     ]
    },
    {
     "name": "stdout",
     "output_type": "stream",
     "text": [
      " 49.02 Period MAE: 15.540000000000001"
     ]
    },
    {
     "name": "stderr",
     "output_type": "stream",
     "text": [
      "22:23:28 - cmdstanpy - INFO - Chain [1] done processing\n"
     ]
    },
    {
     "name": "stdout",
     "output_type": "stream",
     "text": [
      "\n"
     ]
    },
    {
     "name": "stderr",
     "output_type": "stream",
     "text": [
      "22:23:28 - cmdstanpy - INFO - Chain [1] done processing\n",
      "22:23:28 - cmdstanpy - INFO - Chain [1] start processing\n",
      "22:23:29 - cmdstanpy - INFO - Chain [1] done processing\n"
     ]
    },
    {
     "name": "stdout",
     "output_type": "stream",
     "text": [
      "It's underpredicted.\n",
      "Monthly Error: 36.88It's overpredicted. Period MAE: 37.53\n",
      "\n",
      "Monthly Error:92.88  Period MAE: 34.89\n",
      "It's overpredicted.\n",
      "Monthly Error:"
     ]
    },
    {
     "name": "stderr",
     "output_type": "stream",
     "text": [
      "22:23:31 - cmdstanpy - INFO - Chain [1] start processing\n"
     ]
    },
    {
     "name": "stdout",
     "output_type": "stream",
     "text": [
      " 65.64 Period MAE: 63.690000000000005\n"
     ]
    },
    {
     "name": "stderr",
     "output_type": "stream",
     "text": [
      "22:23:31 - cmdstanpy - INFO - Chain [1] start processing\n",
      "22:23:32 - cmdstanpy - INFO - Chain [1] start processing\n",
      "22:23:32 - cmdstanpy - INFO - Chain [1] done processing\n"
     ]
    },
    {
     "name": "stdout",
     "output_type": "stream",
     "text": [
      "It's overpredicted.\n"
     ]
    },
    {
     "name": "stderr",
     "output_type": "stream",
     "text": [
      "22:23:33 - cmdstanpy - INFO - Chain [1] done processing\n"
     ]
    },
    {
     "name": "stdout",
     "output_type": "stream",
     "text": [
      "Monthly Error: 47.42 Period MAE: 45.89\n"
     ]
    },
    {
     "name": "stderr",
     "output_type": "stream",
     "text": [
      "22:23:33 - cmdstanpy - INFO - Chain [1] start processing\n",
      "22:23:33 - cmdstanpy - INFO - Chain [1] done processing\n",
      "22:23:33 - cmdstanpy - INFO - Chain [1] done processing\n"
     ]
    },
    {
     "name": "stdout",
     "output_type": "stream",
     "text": [
      "It's underpredicted.\n",
      "Monthly Error: 44.25 Period MAE: 32.32\n"
     ]
    },
    {
     "name": "stderr",
     "output_type": "stream",
     "text": [
      "22:23:35 - cmdstanpy - INFO - Chain [1] start processing\n",
      "22:23:35 - cmdstanpy - INFO - Chain [1] done processing\n"
     ]
    },
    {
     "name": "stdout",
     "output_type": "stream",
     "text": [
      "It's underpredicted.\n",
      "Monthly Error: 29.91 Period MAE: 18.279999999999998\n",
      "It's overpredicted.\n",
      "Monthly Error: 66.18 Period MAE: 62.949999999999996\n",
      "It's overpredicted.\n",
      "Monthly Error: 87.16 Period MAE: 34.089999999999996\n"
     ]
    },
    {
     "name": "stderr",
     "output_type": "stream",
     "text": [
      "22:23:36 - cmdstanpy - INFO - Chain [1] start processing\n",
      "22:23:37 - cmdstanpy - INFO - Chain [1] done processing\n"
     ]
    },
    {
     "name": "stdout",
     "output_type": "stream",
     "text": [
      "It's underpredicted.\n",
      "Monthly Error: 45.88 Period MAE: 36.9\n"
     ]
    },
    {
     "name": "stderr",
     "output_type": "stream",
     "text": [
      "22:23:37 - cmdstanpy - INFO - Chain [1] start processing\n",
      "22:23:37 - cmdstanpy - INFO - Chain [1] start processing\n",
      "22:23:37 - cmdstanpy - INFO - Chain [1] start processing\n",
      "22:23:38 - cmdstanpy - INFO - Chain [1] done processing\n",
      "22:23:38 - cmdstanpy - INFO - Chain [1] done processing\n",
      "22:23:39 - cmdstanpy - INFO - Chain [1] done processing\n"
     ]
    },
    {
     "name": "stdout",
     "output_type": "stream",
     "text": [
      "It's underpredicted.\n",
      "Monthly Error: 69.17 Period MAE: 29.64\n"
     ]
    },
    {
     "name": "stderr",
     "output_type": "stream",
     "text": [
      "22:23:40 - cmdstanpy - INFO - Chain [1] start processing\n",
      "22:23:40 - cmdstanpy - INFO - Chain [1] done processing\n"
     ]
    },
    {
     "name": "stdout",
     "output_type": "stream",
     "text": [
      "It's overpredicted.\n",
      "Monthly Error: 42.95 Period MAE: 20.41\n",
      "It's underpredicted.\n",
      "Monthly Error: 49.34 Period MAE: 15.329999999999998\n"
     ]
    },
    {
     "name": "stderr",
     "output_type": "stream",
     "text": [
      "22:23:41 - cmdstanpy - INFO - Chain [1] start processing\n",
      "22:23:42 - cmdstanpy - INFO - Chain [1] start processing\n"
     ]
    },
    {
     "name": "stdout",
     "output_type": "stream",
     "text": [
      "It's overpredicted."
     ]
    },
    {
     "name": "stderr",
     "output_type": "stream",
     "text": [
      "22:23:42 - cmdstanpy - INFO - Chain [1] done processing\n"
     ]
    },
    {
     "name": "stdout",
     "output_type": "stream",
     "text": [
      "\n",
      "Monthly Error: 71.17 Period MAE: 42.27\n"
     ]
    },
    {
     "name": "stderr",
     "output_type": "stream",
     "text": [
      "22:23:42 - cmdstanpy - INFO - Chain [1] done processing\n"
     ]
    },
    {
     "name": "stdout",
     "output_type": "stream",
     "text": [
      "It's underpredicted.\n",
      "Monthly Error: 47.6 Period MAE: 3.44\n"
     ]
    },
    {
     "name": "stderr",
     "output_type": "stream",
     "text": [
      "22:23:43 - cmdstanpy - INFO - Chain [1] start processing\n"
     ]
    },
    {
     "name": "stdout",
     "output_type": "stream",
     "text": [
      "It's underpredicted.\n",
      "Monthly Error: 66.85 Period MAE: 34.04\n"
     ]
    },
    {
     "name": "stderr",
     "output_type": "stream",
     "text": [
      "22:23:44 - cmdstanpy - INFO - Chain [1] start processing\n",
      "22:23:44 - cmdstanpy - INFO - Chain [1] done processing\n",
      "22:23:44 - cmdstanpy - INFO - Chain [1] done processing\n",
      "22:23:44 - cmdstanpy - INFO - Chain [1] start processing\n",
      "22:23:45 - cmdstanpy - INFO - Chain [1] done processing\n"
     ]
    },
    {
     "name": "stdout",
     "output_type": "stream",
     "text": [
      "It's overpredicted.\n",
      "Monthly Error: 24.04 Period MAE: 0.04\n",
      "It's underpredicted.\n",
      "Monthly Error: 68.37 Period MAE: 29.830000000000002\n"
     ]
    },
    {
     "name": "stderr",
     "output_type": "stream",
     "text": [
      "22:23:46 - cmdstanpy - INFO - Chain [1] start processing\n",
      "22:23:46 - cmdstanpy - INFO - Chain [1] done processing\n",
      "22:23:46 - cmdstanpy - INFO - Chain [1] start processing\n"
     ]
    },
    {
     "name": "stdout",
     "output_type": "stream",
     "text": [
      "It's underpredicted.\n",
      "Monthly Error: 67.44 Period MAE: 24.09\n"
     ]
    },
    {
     "name": "stderr",
     "output_type": "stream",
     "text": [
      "22:23:47 - cmdstanpy - INFO - Chain [1] done processing\n",
      "22:23:47 - cmdstanpy - INFO - Chain [1] start processing\n",
      "22:23:48 - cmdstanpy - INFO - Chain [1] done processing\n"
     ]
    },
    {
     "name": "stdout",
     "output_type": "stream",
     "text": [
      "It's underpredicted.\n",
      "Monthly Error: 65.22 Period MAE: 32.910000000000004\n"
     ]
    },
    {
     "name": "stderr",
     "output_type": "stream",
     "text": [
      "22:23:50 - cmdstanpy - INFO - Chain [1] start processing\n"
     ]
    },
    {
     "name": "stdout",
     "output_type": "stream",
     "text": [
      "It's overpredicted.\n",
      "Monthly Error: 25.31 Period MAE: 2.8899999999999997\n",
      "It's underpredicted.\n",
      "Monthly Error: 28.65 Period MAE: 8.16\n"
     ]
    },
    {
     "name": "stderr",
     "output_type": "stream",
     "text": [
      "22:23:51 - cmdstanpy - INFO - Chain [1] start processing\n",
      "22:23:51 - cmdstanpy - INFO - Chain [1] done processing\n"
     ]
    },
    {
     "name": "stdout",
     "output_type": "stream",
     "text": [
      "It's overpredicted.\n",
      "Monthly Error: 79.64 Period MAE: 75.97\n"
     ]
    },
    {
     "name": "stderr",
     "output_type": "stream",
     "text": [
      "22:23:51 - cmdstanpy - INFO - Chain [1] start processing\n",
      "22:23:52 - cmdstanpy - INFO - Chain [1] start processing\n",
      "22:23:52 - cmdstanpy - INFO - Chain [1] done processing\n",
      "22:23:52 - cmdstanpy - INFO - Chain [1] done processing\n",
      "22:23:53 - cmdstanpy - INFO - Chain [1] done processing\n"
     ]
    },
    {
     "name": "stdout",
     "output_type": "stream",
     "text": [
      "It's underpredicted.\n",
      "Monthly Error: 67.49 Period MAE: 25.03\n"
     ]
    },
    {
     "name": "stderr",
     "output_type": "stream",
     "text": [
      "22:23:54 - cmdstanpy - INFO - Chain [1] start processing\n"
     ]
    },
    {
     "name": "stdout",
     "output_type": "stream",
     "text": [
      "It's underpredicted.\n",
      "Monthly Error: 67.63 Period MAE: 19.85\n"
     ]
    },
    {
     "name": "stderr",
     "output_type": "stream",
     "text": [
      "22:23:55 - cmdstanpy - INFO - Chain [1] start processing\n",
      "22:23:55 - cmdstanpy - INFO - Chain [1] done processing\n"
     ]
    },
    {
     "name": "stdout",
     "output_type": "stream",
     "text": [
      "It's overpredicted.\n",
      "Monthly Error: 102.08 Period MAE:"
     ]
    },
    {
     "name": "stderr",
     "output_type": "stream",
     "text": [
      "22:23:56 - cmdstanpy - INFO - Chain [1] done processing\n"
     ]
    },
    {
     "name": "stdout",
     "output_type": "stream",
     "text": [
      " 93.97\n",
      "It's overpredicted.\n",
      "Monthly Error: 83.89 Period MAE: 80.07\n"
     ]
    },
    {
     "name": "stderr",
     "output_type": "stream",
     "text": [
      "22:23:57 - cmdstanpy - INFO - Chain [1] start processing\n",
      "22:23:57 - cmdstanpy - INFO - Chain [1] start processing\n"
     ]
    },
    {
     "name": "stdout",
     "output_type": "stream",
     "text": [
      "It's underpredicted.\n",
      "Monthly Error: 63.21 Period MAE: 21.98\n"
     ]
    },
    {
     "name": "stderr",
     "output_type": "stream",
     "text": [
      "22:23:58 - cmdstanpy - INFO - Chain [1] done processing\n",
      "22:23:58 - cmdstanpy - INFO - Chain [1] start processing\n",
      "22:23:58 - cmdstanpy - INFO - Chain [1] done processing\n"
     ]
    },
    {
     "name": "stdout",
     "output_type": "stream",
     "text": [
      "It's overpredicted.\n",
      "Monthly Error: 108.7 Period MAE: 103.54\n"
     ]
    },
    {
     "name": "stderr",
     "output_type": "stream",
     "text": [
      "22:23:59 - cmdstanpy - INFO - Chain [1] done processing\n",
      "22:23:59 - cmdstanpy - INFO - Chain [1] start processing\n",
      "22:23:59 - cmdstanpy - INFO - Chain [1] done processing\n"
     ]
    },
    {
     "name": "stdout",
     "output_type": "stream",
     "text": [
      "It's underpredicted.\n",
      "Monthly Error: 46.33 Period MAE: 34.2\n"
     ]
    },
    {
     "name": "stderr",
     "output_type": "stream",
     "text": [
      "22:24:01 - cmdstanpy - INFO - Chain [1] start processing\n"
     ]
    },
    {
     "name": "stdout",
     "output_type": "stream",
     "text": [
      "It's underpredicted.\n",
      "Monthly Error: 64.92 Period MAE: 18.44\n"
     ]
    },
    {
     "name": "stderr",
     "output_type": "stream",
     "text": [
      "22:24:02 - cmdstanpy - INFO - Chain [1] done processing\n",
      "22:24:02 - cmdstanpy - INFO - Chain [1] start processing\n",
      "22:24:02 - cmdstanpy - INFO - Chain [1] done processing\n"
     ]
    },
    {
     "name": "stdout",
     "output_type": "stream",
     "text": [
      "It's overpredicted.\n",
      "Monthly Error: 112.96 Period MAE: 42.29\n",
      "It's overpredicted.\n",
      "Monthly Error: 107.82 Period MAE: 102.56\n",
      "It's underpredicted.\n",
      "Monthly Error: 46.19 Period MAE: 35.510000000000005\n"
     ]
    },
    {
     "name": "stderr",
     "output_type": "stream",
     "text": [
      "22:24:05 - cmdstanpy - INFO - Chain [1] start processing\n",
      "22:24:05 - cmdstanpy - INFO - Chain [1] start processing\n",
      "22:24:05 - cmdstanpy - INFO - Chain [1] start processing\n",
      "22:24:05 - cmdstanpy - INFO - Chain [1] done processing\n"
     ]
    },
    {
     "name": "stdout",
     "output_type": "stream",
     "text": [
      "It's underpredicted.\n"
     ]
    },
    {
     "name": "stderr",
     "output_type": "stream",
     "text": [
      "22:24:06 - cmdstanpy - INFO - Chain [1] done processing\n"
     ]
    },
    {
     "name": "stdout",
     "output_type": "stream",
     "text": [
      "Monthly Error: 37.86 Period MAE: 17.7\n"
     ]
    },
    {
     "name": "stderr",
     "output_type": "stream",
     "text": [
      "22:24:06 - cmdstanpy - INFO - Chain [1] start processing\n",
      "22:24:06 - cmdstanpy - INFO - Chain [1] done processing\n",
      "22:24:06 - cmdstanpy - INFO - Chain [1] done processing\n"
     ]
    },
    {
     "name": "stdout",
     "output_type": "stream",
     "text": [
      "It's underpredicted.\n",
      "Monthly Error: 47.15 Period MAE: 34.489999999999995\n"
     ]
    },
    {
     "name": "stderr",
     "output_type": "stream",
     "text": [
      "22:24:08 - cmdstanpy - INFO - Chain [1] start processing\n",
      "22:24:08 - cmdstanpy - INFO - Chain [1] done processing\n"
     ]
    },
    {
     "name": "stdout",
     "output_type": "stream",
     "text": [
      "It's underpredicted.\n",
      "Monthly Error: 45.05 Period MAE: 22.38\n"
     ]
    },
    {
     "name": "stderr",
     "output_type": "stream",
     "text": [
      "22:24:09 - cmdstanpy - INFO - Chain [1] start processing\n"
     ]
    },
    {
     "name": "stdout",
     "output_type": "stream",
     "text": [
      "It's underpredicted.\n",
      "Monthly Error: 38.47 Period MAE: 16.59\n",
      "It's overpredicted.\n",
      "Monthly Error: "
     ]
    },
    {
     "name": "stderr",
     "output_type": "stream",
     "text": [
      "22:24:10 - cmdstanpy - INFO - Chain [1] done processing\n"
     ]
    },
    {
     "name": "stdout",
     "output_type": "stream",
     "text": [
      "62.5 Period MAE: 20.69\n",
      "It's underpredicted.\n",
      "Monthly Error: 49.08 Period MAE: 38.84\n"
     ]
    },
    {
     "name": "stderr",
     "output_type": "stream",
     "text": [
      "22:24:11 - cmdstanpy - INFO - Chain [1] start processing\n",
      "22:24:11 - cmdstanpy - INFO - Chain [1] start processing\n",
      "22:24:11 - cmdstanpy - INFO - Chain [1] start processing\n",
      "22:24:11 - cmdstanpy - INFO - Chain [1] done processing\n",
      "22:24:12 - cmdstanpy - INFO - Chain [1] done processing\n",
      "22:24:12 - cmdstanpy - INFO - Chain [1] done processing\n"
     ]
    },
    {
     "name": "stdout",
     "output_type": "stream",
     "text": [
      "It's underpredicted.\n",
      "Monthly Error: It's underpredicted.24.46\n",
      " Monthly Error:Period MAE:  0.0699999999999999946.61 \n",
      "Period MAE: 19.35\n",
      "It's underpredicted.\n",
      "Monthly Error: 45.78 "
     ]
    },
    {
     "name": "stderr",
     "output_type": "stream",
     "text": [
      "22:24:14 - cmdstanpy - INFO - Chain [1] start processing\n"
     ]
    },
    {
     "name": "stdout",
     "output_type": "stream",
     "text": [
      "Period MAE: 23.09\n"
     ]
    },
    {
     "name": "stderr",
     "output_type": "stream",
     "text": [
      "22:24:14 - cmdstanpy - INFO - Chain [1] done processing\n",
      "22:24:14 - cmdstanpy - INFO - Chain [1] start processing\n",
      "22:24:15 - cmdstanpy - INFO - Chain [1] start processing\n",
      "22:24:15 - cmdstanpy - INFO - Chain [1] done processing\n"
     ]
    },
    {
     "name": "stdout",
     "output_type": "stream",
     "text": [
      "It's underpredicted.\n",
      "Monthly Error: 22.95 Period MAE: 23.44\n"
     ]
    },
    {
     "name": "stderr",
     "output_type": "stream",
     "text": [
      "22:24:16 - cmdstanpy - INFO - Chain [1] done processing\n",
      "22:24:17 - cmdstanpy - INFO - Chain [1] start processing\n"
     ]
    },
    {
     "name": "stdout",
     "output_type": "stream",
     "text": [
      "It's underpredicted.\n",
      "Monthly Error: 70.27 Period MAE: 48.58\n",
      "It's underpredicted.\n",
      "Monthly Error:It's overpredicted. 43.34\n",
      " Period MAE: Monthly Error: 19.04000000000000386.48\n",
      " Period MAE: 72.11999999999999\n"
     ]
    },
    {
     "name": "stderr",
     "output_type": "stream",
     "text": [
      "22:24:18 - cmdstanpy - INFO - Chain [1] start processing\n",
      "22:24:19 - cmdstanpy - INFO - Chain [1] start processing\n",
      "22:24:19 - cmdstanpy - INFO - Chain [1] done processing\n",
      "22:24:19 - cmdstanpy - INFO - Chain [1] done processing\n",
      "22:24:19 - cmdstanpy - INFO - Chain [1] start processing\n",
      "22:24:20 - cmdstanpy - INFO - Chain [1] done processing\n"
     ]
    },
    {
     "name": "stdout",
     "output_type": "stream",
     "text": [
      "It's underpredicted.\n",
      "Monthly Error: 54.58 Period MAE: 21.15\n"
     ]
    },
    {
     "name": "stderr",
     "output_type": "stream",
     "text": [
      "22:24:21 - cmdstanpy - INFO - Chain [1] start processing\n",
      "22:24:21 - cmdstanpy - INFO - Chain [1] done processing\n"
     ]
    },
    {
     "name": "stdout",
     "output_type": "stream",
     "text": [
      "It's underpredicted.\n",
      "Monthly Error: 80.31 Period MAE: 80.58\n"
     ]
    },
    {
     "name": "stderr",
     "output_type": "stream",
     "text": [
      "22:24:22 - cmdstanpy - INFO - Chain [1] done processing\n",
      "22:24:23 - cmdstanpy - INFO - Chain [1] start processing\n"
     ]
    },
    {
     "name": "stdout",
     "output_type": "stream",
     "text": [
      "It's underpredicted.\n",
      "Monthly Error: 49.71 Period MAE: 24.15\n"
     ]
    },
    {
     "name": "stderr",
     "output_type": "stream",
     "text": [
      "22:24:23 - cmdstanpy - INFO - Chain [1] done processing\n",
      "22:24:24 - cmdstanpy - INFO - Chain [1] start processing\n"
     ]
    },
    {
     "name": "stdout",
     "output_type": "stream",
     "text": [
      "It's overpredicted.\n",
      "Monthly Error: 99.81 Period MAE: 85.8\n",
      "It's underpredicted.\n",
      "Monthly Error: 46.51 Period MAE: 18.59\n"
     ]
    },
    {
     "name": "stderr",
     "output_type": "stream",
     "text": [
      "22:24:25 - cmdstanpy - INFO - Chain [1] start processing\n",
      "22:24:25 - cmdstanpy - INFO - Chain [1] done processing\n",
      "22:24:26 - cmdstanpy - INFO - Chain [1] start processing\n",
      "22:24:26 - cmdstanpy - INFO - Chain [1] done processing\n",
      "22:24:26 - cmdstanpy - INFO - Chain [1] done processing\n"
     ]
    },
    {
     "name": "stdout",
     "output_type": "stream",
     "text": [
      "It's underpredicted.\n",
      "Monthly Error: 44.72 Period MAE: 40.32\n",
      "It's underpredicted.\n",
      "Monthly Error: 55.59 Period MAE: "
     ]
    },
    {
     "name": "stderr",
     "output_type": "stream",
     "text": [
      "22:24:27 - cmdstanpy - INFO - Chain [1] start processing\n"
     ]
    },
    {
     "name": "stdout",
     "output_type": "stream",
     "text": [
      "22.770000000000003\n"
     ]
    },
    {
     "name": "stderr",
     "output_type": "stream",
     "text": [
      "22:24:27 - cmdstanpy - INFO - Chain [1] done processing\n",
      "22:24:27 - cmdstanpy - INFO - Chain [1] start processing\n"
     ]
    },
    {
     "name": "stdout",
     "output_type": "stream",
     "text": [
      "It's underpredicted.\n",
      "Monthly Error: 61.62 Period MAE: 11.83\n"
     ]
    },
    {
     "name": "stderr",
     "output_type": "stream",
     "text": [
      "22:24:28 - cmdstanpy - INFO - Chain [1] done processing\n",
      "22:24:29 - cmdstanpy - INFO - Chain [1] start processing\n",
      "22:24:29 - cmdstanpy - INFO - Chain [1] done processing\n"
     ]
    },
    {
     "name": "stdout",
     "output_type": "stream",
     "text": [
      "It's underpredicted.\n",
      "Monthly Error: 50.71 Period MAE: 25.580000000000002\n",
      "It's underpredicted.\n",
      "Monthly Error: 55.82 Period MAE: 2.52\n",
      "It's overpredicted.\n",
      "Monthly Error: 63.02 Period MAE: "
     ]
    },
    {
     "name": "stderr",
     "output_type": "stream",
     "text": [
      "22:24:31 - cmdstanpy - INFO - Chain [1] start processing\n"
     ]
    },
    {
     "name": "stdout",
     "output_type": "stream",
     "text": [
      "61.150000000000006\n"
     ]
    },
    {
     "name": "stderr",
     "output_type": "stream",
     "text": [
      "22:24:31 - cmdstanpy - INFO - Chain [1] start processing\n",
      "22:24:32 - cmdstanpy - INFO - Chain [1] start processing\n",
      "22:24:32 - cmdstanpy - INFO - Chain [1] done processing\n",
      "22:24:32 - cmdstanpy - INFO - Chain [1] done processing\n",
      "22:24:32 - cmdstanpy - INFO - Chain [1] done processing\n"
     ]
    },
    {
     "name": "stdout",
     "output_type": "stream",
     "text": [
      "It's overpredicted.\n",
      "Monthly Error: 43.51 Period MAE: 34.54It's underpredicted.\n",
      "\n",
      "Monthly Error: 61.97 Period MAE: 25.480000000000004\n"
     ]
    },
    {
     "name": "stderr",
     "output_type": "stream",
     "text": [
      "22:24:33 - cmdstanpy - INFO - Chain [1] start processing\n",
      "22:24:34 - cmdstanpy - INFO - Chain [1] done processing\n",
      "22:24:34 - cmdstanpy - INFO - Chain [1] start processing\n",
      "22:24:34 - cmdstanpy - INFO - Chain [1] done processing\n"
     ]
    },
    {
     "name": "stdout",
     "output_type": "stream",
     "text": [
      "It's underpredicted.\n",
      "Monthly Error: 61.24 Period MAE: 11.62\n"
     ]
    },
    {
     "name": "stderr",
     "output_type": "stream",
     "text": [
      "22:24:35 - cmdstanpy - INFO - Chain [1] start processing\n",
      "22:24:36 - cmdstanpy - INFO - Chain [1] done processing\n"
     ]
    },
    {
     "name": "stdout",
     "output_type": "stream",
     "text": [
      "It's underpredicted.\n",
      "Monthly Error: 56.72 Period MAE: 29.29\n",
      "It's overpredicted.\n",
      "Monthly Error: 52.63 Period MAE: 49.669999999999995\n",
      "It's underpredicted.\n",
      "Monthly Error: 71.94 Period MAE: 72.3\n"
     ]
    },
    {
     "name": "stderr",
     "output_type": "stream",
     "text": [
      "22:24:37 - cmdstanpy - INFO - Chain [1] start processing\n",
      "22:24:37 - cmdstanpy - INFO - Chain [1] start processing\n",
      "22:24:38 - cmdstanpy - INFO - Chain [1] start processing\n",
      "22:24:38 - cmdstanpy - INFO - Chain [1] done processing\n",
      "22:24:38 - cmdstanpy - INFO - Chain [1] done processing\n",
      "22:24:39 - cmdstanpy - INFO - Chain [1] done processing\n"
     ]
    },
    {
     "name": "stdout",
     "output_type": "stream",
     "text": [
      "It's overpredicted.\n",
      "Monthly Error: 110.23 Period MAE: 89.58\n",
      "It's underpredicted.\n",
      "Monthly Error:"
     ]
    },
    {
     "name": "stderr",
     "output_type": "stream",
     "text": [
      "22:24:39 - cmdstanpy - INFO - Chain [1] start processing\n"
     ]
    },
    {
     "name": "stdout",
     "output_type": "stream",
     "text": [
      " 43.76 Period MAE: 31.819999999999997\n"
     ]
    },
    {
     "name": "stderr",
     "output_type": "stream",
     "text": [
      "22:24:40 - cmdstanpy - INFO - Chain [1] done processing\n",
      "22:24:40 - cmdstanpy - INFO - Chain [1] start processing\n"
     ]
    },
    {
     "name": "stdout",
     "output_type": "stream",
     "text": [
      "It's underpredicted.\n",
      "Monthly Error: 68.59 Period MAE: 14.37\n"
     ]
    },
    {
     "name": "stderr",
     "output_type": "stream",
     "text": [
      "22:24:41 - cmdstanpy - INFO - Chain [1] done processing\n",
      "22:24:41 - cmdstanpy - INFO - Chain [1] start processing\n",
      "22:24:41 - cmdstanpy - INFO - Chain [1] done processing\n"
     ]
    },
    {
     "name": "stdout",
     "output_type": "stream",
     "text": [
      "It's underpredicted.\n",
      "Monthly Error: 42.85 Period MAE: 32.47\n",
      "It's overpredicted.\n",
      "Monthly Error: 132.94 Period MAE: 110.4\n",
      "It's overpredicted.\n",
      "Monthly Error: 135.59 Period MAE: 35.29\n"
     ]
    },
    {
     "name": "stderr",
     "output_type": "stream",
     "text": [
      "22:24:44 - cmdstanpy - INFO - Chain [1] start processing\n",
      "22:24:44 - cmdstanpy - INFO - Chain [1] start processing\n",
      "22:24:44 - cmdstanpy - INFO - Chain [1] start processing\n",
      "22:24:44 - cmdstanpy - INFO - Chain [1] done processing\n",
      "22:24:45 - cmdstanpy - INFO - Chain [1] done processing\n"
     ]
    },
    {
     "name": "stdout",
     "output_type": "stream",
     "text": [
      "It's overpredicted.\n",
      "Monthly Error: "
     ]
    },
    {
     "name": "stderr",
     "output_type": "stream",
     "text": [
      "22:24:45 - cmdstanpy - INFO - Chain [1] done processing\n"
     ]
    },
    {
     "name": "stdout",
     "output_type": "stream",
     "text": [
      "88.43 Period MAE: 17.91\n"
     ]
    },
    {
     "name": "stderr",
     "output_type": "stream",
     "text": [
      "22:24:46 - cmdstanpy - INFO - Chain [1] start processing\n"
     ]
    },
    {
     "name": "stdout",
     "output_type": "stream",
     "text": [
      "It's underpredicted.\n",
      "Monthly Error: 34.13 Period MAE: 34.949999999999996\n"
     ]
    },
    {
     "name": "stderr",
     "output_type": "stream",
     "text": [
      "22:24:46 - cmdstanpy - INFO - Chain [1] done processing\n",
      "22:24:47 - cmdstanpy - INFO - Chain [1] start processing\n",
      "22:24:47 - cmdstanpy - INFO - Chain [1] done processing\n"
     ]
    },
    {
     "name": "stdout",
     "output_type": "stream",
     "text": [
      "It's underpredicted.\n",
      "Monthly Error: 49.59 Period MAE: 18.11\n"
     ]
    },
    {
     "name": "stderr",
     "output_type": "stream",
     "text": [
      "22:24:49 - cmdstanpy - INFO - Chain [1] start processing\n"
     ]
    },
    {
     "name": "stdout",
     "output_type": "stream",
     "text": [
      "It's overpredicted.\n",
      "Monthly Error: 102.91 Period MAE:"
     ]
    },
    {
     "name": "stderr",
     "output_type": "stream",
     "text": [
      "22:24:49 - cmdstanpy - INFO - Chain [1] done processing\n"
     ]
    },
    {
     "name": "stdout",
     "output_type": "stream",
     "text": [
      " 42.41\n",
      "It's underpredicted.\n",
      "Monthly Error: 37.71 It's overpredicted.Period MAE:\n",
      " Monthly Error:38.35 \n",
      "67.22 Period MAE: 65.18\n"
     ]
    },
    {
     "name": "stderr",
     "output_type": "stream",
     "text": [
      "22:24:50 - cmdstanpy - INFO - Chain [1] start processing\n",
      "22:24:50 - cmdstanpy - INFO - Chain [1] start processing\n",
      "22:24:51 - cmdstanpy - INFO - Chain [1] done processing\n",
      "22:24:51 - cmdstanpy - INFO - Chain [1] start processing\n",
      "22:24:52 - cmdstanpy - INFO - Chain [1] done processing\n",
      "22:24:52 - cmdstanpy - INFO - Chain [1] done processing\n"
     ]
    },
    {
     "name": "stdout",
     "output_type": "stream",
     "text": [
      "It's underpredicted.\n",
      "Monthly Error: 46.36 Period MAE: 35.68\n"
     ]
    },
    {
     "name": "stderr",
     "output_type": "stream",
     "text": [
      "22:24:53 - cmdstanpy - INFO - Chain [1] start processing\n"
     ]
    },
    {
     "name": "stdout",
     "output_type": "stream",
     "text": [
      "It's overpredicted."
     ]
    },
    {
     "name": "stderr",
     "output_type": "stream",
     "text": [
      "22:24:53 - cmdstanpy - INFO - Chain [1] done processing\n"
     ]
    },
    {
     "name": "stdout",
     "output_type": "stream",
     "text": [
      "\n",
      "Monthly Error: 52.15 Period MAE: 50.51\n"
     ]
    },
    {
     "name": "stderr",
     "output_type": "stream",
     "text": [
      "22:24:54 - cmdstanpy - INFO - Chain [1] start processing\n"
     ]
    },
    {
     "name": "stdout",
     "output_type": "stream",
     "text": [
      "It's underpredicted.\n",
      "Monthly Error: 30.25 Period MAE: 18.96"
     ]
    },
    {
     "name": "stderr",
     "output_type": "stream",
     "text": [
      "22:24:54 - cmdstanpy - INFO - Chain [1] done processing\n"
     ]
    },
    {
     "name": "stdout",
     "output_type": "stream",
     "text": [
      "\n"
     ]
    },
    {
     "name": "stderr",
     "output_type": "stream",
     "text": [
      "22:24:55 - cmdstanpy - INFO - Chain [1] start processing\n",
      "22:24:55 - cmdstanpy - INFO - Chain [1] done processing\n"
     ]
    },
    {
     "name": "stdout",
     "output_type": "stream",
     "text": [
      "It's underpredicted.\n",
      "Monthly Error: It's overpredicted.\n",
      "46.9 Monthly Error: 64.36Period MAE: 38.46 Period MAE:\n",
      " 61.199999999999996It's overpredicted.\n",
      "\n",
      "Monthly Error: 110.93 Period MAE: 43.1\n"
     ]
    },
    {
     "name": "stderr",
     "output_type": "stream",
     "text": [
      "22:24:56 - cmdstanpy - INFO - Chain [1] start processing\n",
      "22:24:57 - cmdstanpy - INFO - Chain [1] start processing\n",
      "22:24:57 - cmdstanpy - INFO - Chain [1] done processing\n",
      "22:24:57 - cmdstanpy - INFO - Chain [1] start processing\n",
      "22:24:57 - cmdstanpy - INFO - Chain [1] done processing\n"
     ]
    },
    {
     "name": "stdout",
     "output_type": "stream",
     "text": [
      "It's underpredicted.\n",
      "Monthly Error: 68.45 Period MAE: 28.18\n"
     ]
    },
    {
     "name": "stderr",
     "output_type": "stream",
     "text": [
      "22:24:58 - cmdstanpy - INFO - Chain [1] done processing\n"
     ]
    },
    {
     "name": "stdout",
     "output_type": "stream",
     "text": [
      "It's overpredicted.\n",
      "Monthly Error: 69.49 "
     ]
    },
    {
     "name": "stderr",
     "output_type": "stream",
     "text": [
      "22:24:59 - cmdstanpy - INFO - Chain [1] start processing\n"
     ]
    },
    {
     "name": "stdout",
     "output_type": "stream",
     "text": [
      "Period MAE: 34.63\n"
     ]
    },
    {
     "name": "stderr",
     "output_type": "stream",
     "text": [
      "22:24:59 - cmdstanpy - INFO - Chain [1] done processing\n",
      "22:24:59 - cmdstanpy - INFO - Chain [1] start processing\n",
      "22:25:00 - cmdstanpy - INFO - Chain [1] done processing\n"
     ]
    },
    {
     "name": "stdout",
     "output_type": "stream",
     "text": [
      "It's underpredicted.\n",
      "Monthly Error: 50.19 Period MAE: 18.759999999999998\n",
      "It's underpredicted.It's overpredicted.\n",
      "Monthly Error: \n",
      "66.82 Monthly Error: 85.81Period MAE: Period MAE: 49.38\n",
      " 32.34\n"
     ]
    },
    {
     "name": "stderr",
     "output_type": "stream",
     "text": [
      "22:25:02 - cmdstanpy - INFO - Chain [1] start processing\n",
      "22:25:02 - cmdstanpy - INFO - Chain [1] start processing\n",
      "22:25:02 - cmdstanpy - INFO - Chain [1] done processing\n",
      "22:25:02 - cmdstanpy - INFO - Chain [1] done processing\n",
      "22:25:03 - cmdstanpy - INFO - Chain [1] start processing\n"
     ]
    },
    {
     "name": "stdout",
     "output_type": "stream",
     "text": [
      "It's underpredicted.\n",
      "Monthly Error: 47.6 Period MAE: 0.38\n"
     ]
    },
    {
     "name": "stderr",
     "output_type": "stream",
     "text": [
      "22:25:03 - cmdstanpy - INFO - Chain [1] start processing\n",
      "22:25:04 - cmdstanpy - INFO - Chain [1] done processing\n",
      "22:25:05 - cmdstanpy - INFO - Chain [1] done processing\n"
     ]
    },
    {
     "name": "stdout",
     "output_type": "stream",
     "text": [
      "It's underpredicted.\n",
      "Monthly Error: 68.17 Period MAE: 28.64\n"
     ]
    },
    {
     "name": "stderr",
     "output_type": "stream",
     "text": [
      "22:25:06 - cmdstanpy - INFO - Chain [1] start processing\n"
     ]
    },
    {
     "name": "stdout",
     "output_type": "stream",
     "text": [
      "It's underpredicted.\n",
      "Monthly Error: 24.24 "
     ]
    },
    {
     "name": "stderr",
     "output_type": "stream",
     "text": [
      "22:25:06 - cmdstanpy - INFO - Chain [1] done processing\n"
     ]
    },
    {
     "name": "stdout",
     "output_type": "stream",
     "text": [
      "Period MAE: 1.51\n",
      "It's underpredicted.\n",
      "Monthly Error: 67.58 Period MAE: 24.3\n",
      "It's overpredicted.\n",
      "Monthly Error:"
     ]
    },
    {
     "name": "stderr",
     "output_type": "stream",
     "text": [
      "22:25:07 - cmdstanpy - INFO - Chain [1] start processing\n"
     ]
    },
    {
     "name": "stdout",
     "output_type": "stream",
     "text": [
      " 24.49 Period MAE: 0.3\n"
     ]
    },
    {
     "name": "stderr",
     "output_type": "stream",
     "text": [
      "22:25:07 - cmdstanpy - INFO - Chain [1] done processing\n",
      "22:25:07 - cmdstanpy - INFO - Chain [1] start processing\n",
      "22:25:08 - cmdstanpy - INFO - Chain [1] done processing\n",
      "22:25:08 - cmdstanpy - INFO - Chain [1] start processing\n"
     ]
    },
    {
     "name": "stdout",
     "output_type": "stream",
     "text": [
      "It's underpredicted.\n",
      "Monthly Error: 65.68 Period MAE: 33.19\n"
     ]
    },
    {
     "name": "stderr",
     "output_type": "stream",
     "text": [
      "22:25:09 - cmdstanpy - INFO - Chain [1] done processing\n"
     ]
    },
    {
     "name": "stdout",
     "output_type": "stream",
     "text": [
      "It's overpredicted.\n",
      "Monthly Error: 35.24 Period MAE: 3.75\n"
     ]
    },
    {
     "name": "stderr",
     "output_type": "stream",
     "text": [
      "22:25:10 - cmdstanpy - INFO - Chain [1] start processing\n",
      "22:25:10 - cmdstanpy - INFO - Chain [1] start processing\n",
      "22:25:11 - cmdstanpy - INFO - Chain [1] done processing\n"
     ]
    },
    {
     "name": "stdout",
     "output_type": "stream",
     "text": [
      "It's overpredicted.\n",
      "Monthly Error: 81.65 Period MAE: 77.9\n"
     ]
    },
    {
     "name": "stderr",
     "output_type": "stream",
     "text": [
      "22:25:11 - cmdstanpy - INFO - Chain [1] start processing\n"
     ]
    },
    {
     "name": "stdout",
     "output_type": "stream",
     "text": [
      "It's underpredicted.\n",
      "Monthly Error: 67.19 Period MAE: 24.77\n"
     ]
    },
    {
     "name": "stderr",
     "output_type": "stream",
     "text": [
      "22:25:12 - cmdstanpy - INFO - Chain [1] done processing\n",
      "22:25:12 - cmdstanpy - INFO - Chain [1] done processing\n",
      "22:25:13 - cmdstanpy - INFO - Chain [1] start processing\n"
     ]
    },
    {
     "name": "stdout",
     "output_type": "stream",
     "text": [
      "It's underpredicted.\n",
      "Monthly Error: 68.41 Period MAE: 24.59\n"
     ]
    },
    {
     "name": "stderr",
     "output_type": "stream",
     "text": [
      "22:25:13 - cmdstanpy - INFO - Chain [1] done processing\n",
      "22:25:14 - cmdstanpy - INFO - Chain [1] start processing\n",
      "22:25:14 - cmdstanpy - INFO - Chain [1] done processing\n"
     ]
    },
    {
     "name": "stdout",
     "output_type": "stream",
     "text": [
      "It's overpredicted.\n",
      "Monthly Error:It's underpredicted.\n",
      " Monthly Error:78.27 Period MAE:  65.14 74.56Period MAE: \n",
      "26.68\n",
      "It's overpredicted.\n",
      "Monthly Error: 89.93 Period MAE: 81.31\n"
     ]
    },
    {
     "name": "stderr",
     "output_type": "stream",
     "text": [
      "22:25:16 - cmdstanpy - INFO - Chain [1] start processing\n",
      "22:25:16 - cmdstanpy - INFO - Chain [1] start processing\n",
      "22:25:16 - cmdstanpy - INFO - Chain [1] start processing\n",
      "22:25:17 - cmdstanpy - INFO - Chain [1] done processing\n",
      "22:25:17 - cmdstanpy - INFO - Chain [1] done processing\n"
     ]
    },
    {
     "name": "stdout",
     "output_type": "stream",
     "text": [
      "It's overpredicted.It's underpredicted.\n",
      "\n",
      "Monthly Error:Monthly Error:  94.147.09  Period MAE:Period MAE:  89.3534.73\n",
      "\n"
     ]
    },
    {
     "name": "stderr",
     "output_type": "stream",
     "text": [
      "22:25:19 - cmdstanpy - INFO - Chain [1] start processing\n",
      "22:25:19 - cmdstanpy - INFO - Chain [1] done processing\n",
      "22:25:19 - cmdstanpy - INFO - Chain [1] done processing\n",
      "22:25:19 - cmdstanpy - INFO - Chain [1] start processing\n",
      "22:25:20 - cmdstanpy - INFO - Chain [1] done processing\n"
     ]
    },
    {
     "name": "stdout",
     "output_type": "stream",
     "text": [
      "It's underpredicted.It's underpredicted.\n",
      "\n",
      "Monthly Error: 45.18 Period MAE:Monthly Error:  66.85 33.58\n",
      "Period MAE: \n",
      "It's overpredicted.22.58\n",
      " Monthly Error:87.3 Period MAE: 82.64\n"
     ]
    },
    {
     "name": "stderr",
     "output_type": "stream",
     "text": [
      "22:25:22 - cmdstanpy - INFO - Chain [1] start processing\n",
      "22:25:22 - cmdstanpy - INFO - Chain [1] done processing\n"
     ]
    },
    {
     "name": "stdout",
     "output_type": "stream",
     "text": [
      "It's overpredicted.\n",
      "Monthly Error: 117.72 Period MAE: 47.52\n"
     ]
    },
    {
     "name": "stderr",
     "output_type": "stream",
     "text": [
      "22:25:23 - cmdstanpy - INFO - Chain [1] start processing\n",
      "22:25:23 - cmdstanpy - INFO - Chain [1] start processing\n",
      "22:25:23 - cmdstanpy - INFO - Chain [1] start processing\n",
      "22:25:23 - cmdstanpy - INFO - Chain [1] done processing\n",
      "22:25:24 - cmdstanpy - INFO - Chain [1] done processing\n",
      "22:25:24 - cmdstanpy - INFO - Chain [1] done processing\n"
     ]
    },
    {
     "name": "stdout",
     "output_type": "stream",
     "text": [
      "It's underpredicted.\n",
      "Monthly Error:It's underpredicted. \n",
      "46.87Monthly Error: Period MAE:  45.5334.21 \n",
      "Period MAE: 23.25\n",
      "It's underpredicted.\n",
      "Monthly Error: 38.96 Period MAE: 18.4\n"
     ]
    },
    {
     "name": "stderr",
     "output_type": "stream",
     "text": [
      "22:25:26 - cmdstanpy - INFO - Chain [1] start processing\n",
      "22:25:26 - cmdstanpy - INFO - Chain [1] start processing\n",
      "22:25:27 - cmdstanpy - INFO - Chain [1] done processing\n",
      "22:25:27 - cmdstanpy - INFO - Chain [1] start processing\n",
      "22:25:27 - cmdstanpy - INFO - Chain [1] done processing\n",
      "22:25:27 - cmdstanpy - INFO - Chain [1] done processing\n"
     ]
    },
    {
     "name": "stdout",
     "output_type": "stream",
     "text": [
      "It's underpredicted.\n",
      "Monthly Error: 38.63 Period MAE: 18.02\n"
     ]
    },
    {
     "name": "stderr",
     "output_type": "stream",
     "text": [
      "22:25:29 - cmdstanpy - INFO - Chain [1] start processing\n"
     ]
    },
    {
     "name": "stdout",
     "output_type": "stream",
     "text": [
      "It's underpredicted.\n",
      "Monthly Error: 47.19 Period MAE: 36.0\n"
     ]
    },
    {
     "name": "stderr",
     "output_type": "stream",
     "text": [
      "22:25:30 - cmdstanpy - INFO - Chain [1] done processing\n",
      "22:25:30 - cmdstanpy - INFO - Chain [1] start processing\n"
     ]
    },
    {
     "name": "stdout",
     "output_type": "stream",
     "text": [
      "It's overpredicted.\n",
      "Monthly Error: 54.93 Period MAE: 10.12\n",
      "It's underpredicted.\n",
      "Monthly Error: "
     ]
    },
    {
     "name": "stderr",
     "output_type": "stream",
     "text": [
      "22:25:31 - cmdstanpy - INFO - Chain [1] start processing\n"
     ]
    },
    {
     "name": "stdout",
     "output_type": "stream",
     "text": [
      "18.32 Period MAE: 15.68\n"
     ]
    },
    {
     "name": "stderr",
     "output_type": "stream",
     "text": [
      "22:25:31 - cmdstanpy - INFO - Chain [1] done processing\n",
      "22:25:32 - cmdstanpy - INFO - Chain [1] start processing\n",
      "22:25:32 - cmdstanpy - INFO - Chain [1] done processing\n"
     ]
    },
    {
     "name": "stdout",
     "output_type": "stream",
     "text": [
      "It's underpredicted.\n",
      "Monthly Error: "
     ]
    },
    {
     "name": "stderr",
     "output_type": "stream",
     "text": [
      "22:25:32 - cmdstanpy - INFO - Chain [1] done processing\n"
     ]
    },
    {
     "name": "stdout",
     "output_type": "stream",
     "text": [
      "46.52 Period MAE: 24.44\n"
     ]
    },
    {
     "name": "stderr",
     "output_type": "stream",
     "text": [
      "22:25:33 - cmdstanpy - INFO - Chain [1] start processing\n"
     ]
    },
    {
     "name": "stdout",
     "output_type": "stream",
     "text": [
      "It's underpredicted.\n",
      "Monthly Error: 47.04 Period MAE: 25.119999999999997\n",
      "It's underpredicted.\n",
      "Monthly Error:"
     ]
    },
    {
     "name": "stderr",
     "output_type": "stream",
     "text": [
      "22:25:35 - cmdstanpy - INFO - Chain [1] done processing\n",
      "22:25:35 - cmdstanpy - INFO - Chain [1] start processing\n"
     ]
    },
    {
     "name": "stdout",
     "output_type": "stream",
     "text": [
      " 82.35 Period MAE: 27.18\n"
     ]
    },
    {
     "name": "stderr",
     "output_type": "stream",
     "text": [
      "22:25:35 - cmdstanpy - INFO - Chain [1] done processing\n"
     ]
    },
    {
     "name": "stdout",
     "output_type": "stream",
     "text": [
      "It's underpredicted.\n",
      "Monthly Error: 18.8 Period MAE: 9.48\n"
     ]
    },
    {
     "name": "stderr",
     "output_type": "stream",
     "text": [
      "22:25:36 - cmdstanpy - INFO - Chain [1] start processing\n"
     ]
    },
    {
     "name": "stdout",
     "output_type": "stream",
     "text": [
      "It's underpredicted.\n",
      "Monthly Error: "
     ]
    },
    {
     "name": "stderr",
     "output_type": "stream",
     "text": [
      "22:25:37 - cmdstanpy - INFO - Chain [1] start processing\n"
     ]
    },
    {
     "name": "stdout",
     "output_type": "stream",
     "text": [
      "43.92 Period MAE: 23.810000000000002\n"
     ]
    },
    {
     "name": "stderr",
     "output_type": "stream",
     "text": [
      "22:25:37 - cmdstanpy - INFO - Chain [1] start processing\n",
      "22:25:37 - cmdstanpy - INFO - Chain [1] done processing\n",
      "22:25:37 - cmdstanpy - INFO - Chain [1] done processing\n",
      "22:25:38 - cmdstanpy - INFO - Chain [1] done processing\n"
     ]
    },
    {
     "name": "stdout",
     "output_type": "stream",
     "text": [
      "It's underpredicted.\n",
      "Monthly Error: 54.34 Period MAE: 20.549999999999997\n",
      "It's overpredicted.\n",
      "Monthly Error: 71.25 Period MAE: 56.120000000000005\n"
     ]
    },
    {
     "name": "stderr",
     "output_type": "stream",
     "text": [
      "22:25:39 - cmdstanpy - INFO - Chain [1] start processing\n",
      "22:25:40 - cmdstanpy - INFO - Chain [1] done processing\n",
      "22:25:40 - cmdstanpy - INFO - Chain [1] start processing\n",
      "22:25:40 - cmdstanpy - INFO - Chain [1] done processing\n"
     ]
    },
    {
     "name": "stdout",
     "output_type": "stream",
     "text": [
      "It's underpredicted.\n",
      "Monthly Error: 47.24 Period MAE: 22.509999999999998\n"
     ]
    },
    {
     "name": "stderr",
     "output_type": "stream",
     "text": [
      "22:25:41 - cmdstanpy - INFO - Chain [1] start processing\n"
     ]
    },
    {
     "name": "stdout",
     "output_type": "stream",
     "text": [
      "It's overpredicted.\n",
      "Monthly Error: 78.92 Period MAE: 63.92\n"
     ]
    },
    {
     "name": "stderr",
     "output_type": "stream",
     "text": [
      "22:25:41 - cmdstanpy - INFO - Chain [1] done processing\n"
     ]
    },
    {
     "name": "stdout",
     "output_type": "stream",
     "text": [
      "It's underpredicted.\n",
      "Monthly Error: 51.52 Period MAE: 23.96\n"
     ]
    },
    {
     "name": "stderr",
     "output_type": "stream",
     "text": [
      "22:25:43 - cmdstanpy - INFO - Chain [1] start processing\n",
      "22:25:43 - cmdstanpy - INFO - Chain [1] start processing\n"
     ]
    },
    {
     "name": "stdout",
     "output_type": "stream",
     "text": [
      "It's underpredicted.\n",
      "Monthly Error: 80.24 Period MAE: 80.52"
     ]
    },
    {
     "name": "stderr",
     "output_type": "stream",
     "text": [
      "22:25:43 - cmdstanpy - INFO - Chain [1] done processing\n"
     ]
    },
    {
     "name": "stdout",
     "output_type": "stream",
     "text": [
      "\n"
     ]
    },
    {
     "name": "stderr",
     "output_type": "stream",
     "text": [
      "22:25:44 - cmdstanpy - INFO - Chain [1] done processing\n",
      "22:25:44 - cmdstanpy - INFO - Chain [1] start processing\n",
      "22:25:44 - cmdstanpy - INFO - Chain [1] done processing\n"
     ]
    },
    {
     "name": "stdout",
     "output_type": "stream",
     "text": [
      "It's underpredicted.\n",
      "Monthly Error: 80.34 Period MAE: 80.60000000000001\n"
     ]
    },
    {
     "name": "stderr",
     "output_type": "stream",
     "text": [
      "22:25:46 - cmdstanpy - INFO - Chain [1] start processing\n"
     ]
    },
    {
     "name": "stdout",
     "output_type": "stream",
     "text": [
      "It's underpredicted.\n",
      "Monthly Error: 54.6 Period MAE:"
     ]
    },
    {
     "name": "stderr",
     "output_type": "stream",
     "text": [
      "22:25:46 - cmdstanpy - INFO - Chain [1] done processing\n"
     ]
    },
    {
     "name": "stdout",
     "output_type": "stream",
     "text": [
      " 20.62\n",
      "It's underpredicted.\n",
      "Monthly Error: 58.97 Period MAE: 15.22\n"
     ]
    },
    {
     "name": "stderr",
     "output_type": "stream",
     "text": [
      "22:25:47 - cmdstanpy - INFO - Chain [1] start processing\n",
      "22:25:47 - cmdstanpy - INFO - Chain [1] start processing\n",
      "22:25:47 - cmdstanpy - INFO - Chain [1] done processing\n",
      "22:25:47 - cmdstanpy - INFO - Chain [1] done processing\n"
     ]
    },
    {
     "name": "stdout",
     "output_type": "stream",
     "text": [
      "It's underpredicted.\n",
      "Monthly Error: 71.42 Period MAE: 72.44\n",
      "It's underpredicted.\n",
      "Monthly Error: 54.08 Period MAE: "
     ]
    },
    {
     "name": "stderr",
     "output_type": "stream",
     "text": [
      "22:25:49 - cmdstanpy - INFO - Chain [1] start processing\n"
     ]
    },
    {
     "name": "stdout",
     "output_type": "stream",
     "text": [
      "26.63\n",
      "It's overpredicted.\n"
     ]
    },
    {
     "name": "stderr",
     "output_type": "stream",
     "text": [
      "22:25:50 - cmdstanpy - INFO - Chain [1] done processing\n"
     ]
    },
    {
     "name": "stdout",
     "output_type": "stream",
     "text": [
      "Monthly Error: 59.51 Period MAE: 57.68\n"
     ]
    },
    {
     "name": "stderr",
     "output_type": "stream",
     "text": [
      "22:25:50 - cmdstanpy - INFO - Chain [1] start processing\n",
      "22:25:50 - cmdstanpy - INFO - Chain [1] start processing\n",
      "22:25:51 - cmdstanpy - INFO - Chain [1] done processing\n",
      "22:25:51 - cmdstanpy - INFO - Chain [1] done processing\n"
     ]
    },
    {
     "name": "stdout",
     "output_type": "stream",
     "text": [
      "It's overpredicted.\n",
      "Monthly Error: 53.92 Period MAE: 52.27\n"
     ]
    },
    {
     "name": "stderr",
     "output_type": "stream",
     "text": [
      "22:25:52 - cmdstanpy - INFO - Chain [1] start processing\n",
      "22:25:52 - cmdstanpy - INFO - Chain [1] done processing\n"
     ]
    },
    {
     "name": "stdout",
     "output_type": "stream",
     "text": [
      "It's underpredicted.\n",
      "Monthly Error: 58.65 It's underpredicted.\n",
      "Period MAE:Monthly Error:  58.33 22.75Period MAE:\n",
      " 14.01\n"
     ]
    },
    {
     "name": "stderr",
     "output_type": "stream",
     "text": [
      "22:25:53 - cmdstanpy - INFO - Chain [1] start processing\n",
      "22:25:53 - cmdstanpy - INFO - Chain [1] start processing\n",
      "22:25:53 - cmdstanpy - INFO - Chain [1] done processing\n",
      "22:25:53 - cmdstanpy - INFO - Chain [1] done processing\n"
     ]
    },
    {
     "name": "stdout",
     "output_type": "stream",
     "text": [
      "It's overpredicted.It's underpredicted.\n",
      "It's underpredicted.\n",
      "Monthly Error:Monthly Error: 80.1 Period MAE:\n",
      " Monthly Error:59.61 80.38 55.8 Period MAE: \n",
      " 57.08Period MAE: \n",
      "26.44\n"
     ]
    },
    {
     "name": "stderr",
     "output_type": "stream",
     "text": [
      "22:25:56 - cmdstanpy - INFO - Chain [1] start processing\n",
      "22:25:56 - cmdstanpy - INFO - Chain [1] start processing\n",
      "22:25:57 - cmdstanpy - INFO - Chain [1] start processing\n",
      "22:25:57 - cmdstanpy - INFO - Chain [1] done processing\n"
     ]
    },
    {
     "name": "stdout",
     "output_type": "stream",
     "text": [
      "It's underpredicted.\n",
      "Monthly Error: "
     ]
    },
    {
     "name": "stderr",
     "output_type": "stream",
     "text": [
      "22:25:57 - cmdstanpy - INFO - Chain [1] done processing\n"
     ]
    },
    {
     "name": "stdout",
     "output_type": "stream",
     "text": [
      "80.12 Period MAE: 80.39\n"
     ]
    },
    {
     "name": "stderr",
     "output_type": "stream",
     "text": [
      "22:25:57 - cmdstanpy - INFO - Chain [1] done processing\n",
      "22:25:57 - cmdstanpy - INFO - Chain [1] start processing\n",
      "22:25:58 - cmdstanpy - INFO - Chain [1] done processing\n"
     ]
    },
    {
     "name": "stdout",
     "output_type": "stream",
     "text": [
      "It's underpredicted.\n",
      "Monthly Error: 42.42 Period MAE: 30.830000000000002\n"
     ]
    },
    {
     "name": "stderr",
     "output_type": "stream",
     "text": [
      "22:25:59 - cmdstanpy - INFO - Chain [1] start processing\n"
     ]
    },
    {
     "name": "stdout",
     "output_type": "stream",
     "text": [
      "It's underpredicted.\n",
      "Monthly Error: 64.34 Period MAE: 18.93\n"
     ]
    },
    {
     "name": "stderr",
     "output_type": "stream",
     "text": [
      "22:25:59 - cmdstanpy - INFO - Chain [1] done processing\n",
      "22:26:00 - cmdstanpy - INFO - Chain [1] start processing\n",
      "22:26:00 - cmdstanpy - INFO - Chain [1] done processing\n"
     ]
    },
    {
     "name": "stdout",
     "output_type": "stream",
     "text": [
      "It's overpredicted.\n",
      "Monthly Error: 131.24 Period MAE: 31.569999999999997\n",
      "It's underpredicted.\n",
      "Monthly Error: 43.85 Period MAE: 34.13\n",
      "It's underpredicted.\n",
      "Monthly Error: 70.92 Period MAE: 71.98\n"
     ]
    },
    {
     "name": "stderr",
     "output_type": "stream",
     "text": [
      "22:26:02 - cmdstanpy - INFO - Chain [1] start processing\n",
      "22:26:02 - cmdstanpy - INFO - Chain [1] start processing\n",
      "22:26:02 - cmdstanpy - INFO - Chain [1] start processing\n",
      "22:26:03 - cmdstanpy - INFO - Chain [1] done processing\n",
      "22:26:03 - cmdstanpy - INFO - Chain [1] done processing\n",
      "22:26:03 - cmdstanpy - INFO - Chain [1] done processing\n"
     ]
    },
    {
     "name": "stdout",
     "output_type": "stream",
     "text": [
      "It's underpredicted.\n",
      "Monthly Error: 34.22 Period MAE: 35.14\n"
     ]
    },
    {
     "name": "stderr",
     "output_type": "stream",
     "text": [
      "22:26:05 - cmdstanpy - INFO - Chain [1] start processing\n",
      "22:26:05 - cmdstanpy - INFO - Chain [1] done processing\n"
     ]
    },
    {
     "name": "stdout",
     "output_type": "stream",
     "text": [
      "It's overpredicted.\n",
      "Monthly Error: 128.99 Period MAE: 30.5\n",
      "It's underpredicted.\n",
      "Monthly Error: 45.39 Period MAE: 21.63\n"
     ]
    },
    {
     "name": "stderr",
     "output_type": "stream",
     "text": [
      "22:26:07 - cmdstanpy - INFO - Chain [1] start processing\n",
      "22:26:07 - cmdstanpy - INFO - Chain [1] start processing\n",
      "22:26:07 - cmdstanpy - INFO - Chain [1] done processing\n",
      "22:26:07 - cmdstanpy - INFO - Chain [1] done processing\n"
     ]
    },
    {
     "name": "stdout",
     "output_type": "stream",
     "text": [
      "It's overpredicted.\n",
      "Monthly Error: 134.05 Period MAE: 36.720000000000006\n",
      "It's overpredicted.\n",
      "Monthly Error: 67.47 Period MAE: 65.44\n",
      "It's underpredicted.\n",
      "Monthly Error: 35.82 Period MAE: 36.620000000000005\n"
     ]
    },
    {
     "name": "stderr",
     "output_type": "stream",
     "text": [
      "22:26:10 - cmdstanpy - INFO - Chain [1] start processing\n",
      "22:26:10 - cmdstanpy - INFO - Chain [1] start processing\n",
      "22:26:10 - cmdstanpy - INFO - Chain [1] start processing\n"
     ]
    },
    {
     "name": "stdout",
     "output_type": "stream",
     "text": [
      "It's overpredicted."
     ]
    },
    {
     "name": "stderr",
     "output_type": "stream",
     "text": [
      "22:26:10 - cmdstanpy - INFO - Chain [1] done processing\n"
     ]
    },
    {
     "name": "stdout",
     "output_type": "stream",
     "text": [
      "\n"
     ]
    },
    {
     "name": "stderr",
     "output_type": "stream",
     "text": [
      "22:26:10 - cmdstanpy - INFO - Chain [1] done processing\n"
     ]
    },
    {
     "name": "stdout",
     "output_type": "stream",
     "text": [
      "Monthly Error: 65.95 Period MAE: 64.02\n"
     ]
    },
    {
     "name": "stderr",
     "output_type": "stream",
     "text": [
      "22:26:11 - cmdstanpy - INFO - Chain [1] start processing\n",
      "22:26:11 - cmdstanpy - INFO - Chain [1] done processing\n",
      "22:26:12 - cmdstanpy - INFO - Chain [1] done processing\n"
     ]
    },
    {
     "name": "stdout",
     "output_type": "stream",
     "text": [
      "It's underpredicted.\n",
      "Monthly Error: 42.42 Period MAE: 31.14\n"
     ]
    },
    {
     "name": "stderr",
     "output_type": "stream",
     "text": [
      "22:26:13 - cmdstanpy - INFO - Chain [1] start processing\n",
      "22:26:13 - cmdstanpy - INFO - Chain [1] done processing\n"
     ]
    },
    {
     "name": "stdout",
     "output_type": "stream",
     "text": [
      "It's underpredicted.\n",
      "Monthly Error: 30.86 Period MAE: 22.91\n"
     ]
    },
    {
     "name": "stderr",
     "output_type": "stream",
     "text": [
      "22:26:14 - cmdstanpy - INFO - Chain [1] start processing\n"
     ]
    },
    {
     "name": "stdout",
     "output_type": "stream",
     "text": [
      "It's overpredicted.\n",
      "Monthly Error: It's underpredicted.\n",
      "67.78Monthly Error: 45.72 Period MAE:  Period MAE: 36.7465.07\n",
      "It's overpredicted.\n",
      "Monthly Error: \n",
      "130.03 Period MAE: 30.94\n"
     ]
    },
    {
     "name": "stderr",
     "output_type": "stream",
     "text": [
      "22:26:15 - cmdstanpy - INFO - Chain [1] done processing\n",
      "22:26:15 - cmdstanpy - INFO - Chain [1] start processing\n",
      "22:26:16 - cmdstanpy - INFO - Chain [1] done processing\n",
      "22:26:16 - cmdstanpy - INFO - Chain [1] start processing\n",
      "22:26:16 - cmdstanpy - INFO - Chain [1] start processing\n",
      "22:26:17 - cmdstanpy - INFO - Chain [1] done processing\n"
     ]
    },
    {
     "name": "stdout",
     "output_type": "stream",
     "text": [
      "It's underpredicted.\n",
      "Monthly Error: 68.43 Period MAE: 28.57\n"
     ]
    },
    {
     "name": "stderr",
     "output_type": "stream",
     "text": [
      "22:26:17 - cmdstanpy - INFO - Chain [1] done processing\n",
      "22:26:18 - cmdstanpy - INFO - Chain [1] start processing\n",
      "22:26:18 - cmdstanpy - INFO - Chain [1] done processing\n"
     ]
    },
    {
     "name": "stdout",
     "output_type": "stream",
     "text": [
      "It's overpredicted.\n",
      "Monthly Error: 130.7 Period MAE: 33.52\n",
      "It's underpredicted.\n",
      "Monthly Error: 44.94 Period MAE: 18.66\n"
     ]
    },
    {
     "name": "stderr",
     "output_type": "stream",
     "text": [
      "22:26:20 - cmdstanpy - INFO - Chain [1] start processing\n",
      "22:26:21 - cmdstanpy - INFO - Chain [1] start processing\n",
      "22:26:21 - cmdstanpy - INFO - Chain [1] done processing\n",
      "22:26:21 - cmdstanpy - INFO - Chain [1] done processing\n"
     ]
    },
    {
     "name": "stdout",
     "output_type": "stream",
     "text": [
      "It's underpredicted.\n",
      "Monthly Error: 47.76 Period MAE: 1.76It's overpredicted.\n",
      "\n",
      "Monthly Error: 135.44 Period MAE: 39.35\n",
      "It's underpredicted.\n",
      "Monthly Error: 69.37 Period MAE: 31.52\n"
     ]
    },
    {
     "name": "stderr",
     "output_type": "stream",
     "text": [
      "22:26:22 - cmdstanpy - INFO - Chain [1] start processing\n",
      "22:26:23 - cmdstanpy - INFO - Chain [1] start processing\n",
      "22:26:23 - cmdstanpy - INFO - Chain [1] start processing\n",
      "22:26:23 - cmdstanpy - INFO - Chain [1] done processing\n",
      "22:26:23 - cmdstanpy - INFO - Chain [1] done processing\n",
      "22:26:24 - cmdstanpy - INFO - Chain [1] done processing\n"
     ]
    },
    {
     "name": "stdout",
     "output_type": "stream",
     "text": [
      "It's underpredicted.\n",
      "Monthly Error: 42.47 Period MAE: 7.71\n",
      "It's underpredicted.\n",
      "Monthly Error: 68.61 Period MAE: 30.43\n"
     ]
    },
    {
     "name": "stderr",
     "output_type": "stream",
     "text": [
      "22:26:25 - cmdstanpy - INFO - Chain [1] start processing\n",
      "22:26:25 - cmdstanpy - INFO - Chain [1] done processing\n",
      "22:26:25 - cmdstanpy - INFO - Chain [1] start processing\n",
      "22:26:25 - cmdstanpy - INFO - Chain [1] done processing\n"
     ]
    },
    {
     "name": "stdout",
     "output_type": "stream",
     "text": [
      "It's underpredicted.\n",
      "Monthly Error: 69.06 Period MAE: 27.83\n"
     ]
    },
    {
     "name": "stderr",
     "output_type": "stream",
     "text": [
      "22:26:26 - cmdstanpy - INFO - Chain [1] start processing\n"
     ]
    },
    {
     "name": "stdout",
     "output_type": "stream",
     "text": [
      "It's underpredicted.\n"
     ]
    },
    {
     "name": "stderr",
     "output_type": "stream",
     "text": [
      "22:26:27 - cmdstanpy - INFO - Chain [1] done processing\n"
     ]
    },
    {
     "name": "stdout",
     "output_type": "stream",
     "text": [
      "Monthly Error: 42.12 Period MAE: 7.8\n",
      "It's underpredicted.\n",
      "Monthly Error: 67.41 Period MAE: 29.580000000000002\n"
     ]
    },
    {
     "name": "stderr",
     "output_type": "stream",
     "text": [
      "22:26:28 - cmdstanpy - INFO - Chain [1] start processing\n"
     ]
    },
    {
     "name": "stdout",
     "output_type": "stream",
     "text": [
      "It's underpredicted.\n",
      "Monthly Error: 31.09 Period MAE: 4.08\n"
     ]
    },
    {
     "name": "stderr",
     "output_type": "stream",
     "text": [
      "22:26:28 - cmdstanpy - INFO - Chain [1] start processing\n",
      "22:26:29 - cmdstanpy - INFO - Chain [1] start processing\n",
      "22:26:29 - cmdstanpy - INFO - Chain [1] done processing\n",
      "22:26:29 - cmdstanpy - INFO - Chain [1] done processing\n",
      "22:26:29 - cmdstanpy - INFO - Chain [1] done processing\n"
     ]
    },
    {
     "name": "stdout",
     "output_type": "stream",
     "text": [
      "It's overpredicted.\n",
      "Monthly Error: 60.37 Period MAE: 53.74\n",
      "It's underpredicted.\n",
      "Monthly Error: 68.73 Period MAE: 29.54\n"
     ]
    },
    {
     "name": "stderr",
     "output_type": "stream",
     "text": [
      "22:26:31 - cmdstanpy - INFO - Chain [1] start processing\n",
      "22:26:31 - cmdstanpy - INFO - Chain [1] done processing\n",
      "22:26:31 - cmdstanpy - INFO - Chain [1] start processing\n"
     ]
    },
    {
     "name": "stdout",
     "output_type": "stream",
     "text": [
      "It's underpredicted.\n",
      "Monthly Error:"
     ]
    },
    {
     "name": "stderr",
     "output_type": "stream",
     "text": [
      "22:26:32 - cmdstanpy - INFO - Chain [1] done processing\n"
     ]
    },
    {
     "name": "stdout",
     "output_type": "stream",
     "text": [
      " 70.74 Period MAE: 31.47\n"
     ]
    },
    {
     "name": "stderr",
     "output_type": "stream",
     "text": [
      "22:26:32 - cmdstanpy - INFO - Chain [1] start processing\n",
      "22:26:33 - cmdstanpy - INFO - Chain [1] done processing\n"
     ]
    },
    {
     "name": "stdout",
     "output_type": "stream",
     "text": [
      "It's overpredicted.\n",
      "Monthly Error: 59.5 Period MAE: 52.56999999999999\n"
     ]
    },
    {
     "name": "stderr",
     "output_type": "stream",
     "text": [
      "22:26:34 - cmdstanpy - INFO - Chain [1] start processing\n"
     ]
    },
    {
     "name": "stdout",
     "output_type": "stream",
     "text": [
      "It's underpredicted.\n",
      "Monthly Error: 67.35 Period MAE: 28.000000000000004\n",
      "It's underpredicted.\n",
      "Monthly Error: 47.27 Period MAE: 1.38\n"
     ]
    },
    {
     "name": "stderr",
     "output_type": "stream",
     "text": [
      "22:26:35 - cmdstanpy - INFO - Chain [1] start processing\n",
      "22:26:35 - cmdstanpy - INFO - Chain [1] done processing\n",
      "22:26:35 - cmdstanpy - INFO - Chain [1] done processing\n",
      "22:26:36 - cmdstanpy - INFO - Chain [1] start processing\n",
      "22:26:36 - cmdstanpy - INFO - Chain [1] done processing\n"
     ]
    },
    {
     "name": "stdout",
     "output_type": "stream",
     "text": [
      "It's underpredicted.\n",
      "Monthly Error: 41.67 Period MAE: 3.25\n",
      "It's underpredicted.\n",
      "Monthly Error: 45.74 Period MAE: 34.410000000000004\n"
     ]
    },
    {
     "name": "stderr",
     "output_type": "stream",
     "text": [
      "22:26:37 - cmdstanpy - INFO - Chain [1] start processing\n",
      "22:26:37 - cmdstanpy - INFO - Chain [1] done processing\n",
      "22:26:37 - cmdstanpy - INFO - Chain [1] start processing\n"
     ]
    },
    {
     "name": "stdout",
     "output_type": "stream",
     "text": [
      "It's underpredicted.\n",
      "Monthly Error: 69.26 Period MAE: 28.310000000000002"
     ]
    },
    {
     "name": "stderr",
     "output_type": "stream",
     "text": [
      "22:26:38 - cmdstanpy - INFO - Chain [1] done processing\n"
     ]
    },
    {
     "name": "stdout",
     "output_type": "stream",
     "text": [
      "\n"
     ]
    },
    {
     "name": "stderr",
     "output_type": "stream",
     "text": [
      "22:26:38 - cmdstanpy - INFO - Chain [1] start processing\n",
      "22:26:39 - cmdstanpy - INFO - Chain [1] done processing\n"
     ]
    },
    {
     "name": "stdout",
     "output_type": "stream",
     "text": [
      "It's underpredicted.\n",
      "Monthly Error: 43.83 Period MAE: 32.12\n",
      "It's overpredicted.\n",
      "Monthly Error: 101.52 Period MAE: 31.630000000000003\n"
     ]
    },
    {
     "name": "stderr",
     "output_type": "stream",
     "text": [
      "22:26:40 - cmdstanpy - INFO - Chain [1] start processing\n"
     ]
    },
    {
     "name": "stdout",
     "output_type": "stream",
     "text": [
      "It's overpredicted.\n",
      "Monthly Error: 41.19 Period MAE: 0.65\n"
     ]
    },
    {
     "name": "stderr",
     "output_type": "stream",
     "text": [
      "22:26:41 - cmdstanpy - INFO - Chain [1] done processing\n",
      "22:26:41 - cmdstanpy - INFO - Chain [1] start processing\n",
      "22:26:41 - cmdstanpy - INFO - Chain [1] start processing\n",
      "22:26:42 - cmdstanpy - INFO - Chain [1] done processing\n",
      "22:26:42 - cmdstanpy - INFO - Chain [1] done processing\n"
     ]
    },
    {
     "name": "stdout",
     "output_type": "stream",
     "text": [
      "It's overpredicted.\n",
      "Monthly Error: 87.73 Period MAE: 22.46\n"
     ]
    },
    {
     "name": "stderr",
     "output_type": "stream",
     "text": [
      "22:26:43 - cmdstanpy - INFO - Chain [1] start processing\n"
     ]
    },
    {
     "name": "stdout",
     "output_type": "stream",
     "text": [
      "It's underpredicted.\n",
      "Monthly Error: 47.24 It's underpredicted.Period MAE: "
     ]
    },
    {
     "name": "stderr",
     "output_type": "stream",
     "text": [
      "22:26:43 - cmdstanpy - INFO - Chain [1] done processing\n"
     ]
    },
    {
     "name": "stdout",
     "output_type": "stream",
     "text": [
      "\n",
      "Monthly Error:35.97 \n",
      "44.96 Period MAE: 31.64\n"
     ]
    },
    {
     "name": "stderr",
     "output_type": "stream",
     "text": [
      "22:26:44 - cmdstanpy - INFO - Chain [1] start processing\n",
      "22:26:44 - cmdstanpy - INFO - Chain [1] start processing\n",
      "22:26:44 - cmdstanpy - INFO - Chain [1] done processing\n",
      "22:26:44 - cmdstanpy - INFO - Chain [1] done processing\n"
     ]
    },
    {
     "name": "stdout",
     "output_type": "stream",
     "text": [
      "It's underpredicted.\n",
      "Monthly Error: 45.69 Period MAE: 33.2\n",
      "It's overpredicted.\n",
      "Monthly Error: 93.07 Period MAE: 27.889999999999997\n",
      "It's overpredicted.\n",
      "Monthly Error: 54.8 Period MAE: 12.68\n"
     ]
    },
    {
     "name": "stderr",
     "output_type": "stream",
     "text": [
      "22:26:47 - cmdstanpy - INFO - Chain [1] start processing\n",
      "22:26:48 - cmdstanpy - INFO - Chain [1] start processing\n",
      "22:26:48 - cmdstanpy - INFO - Chain [1] start processing\n",
      "22:26:48 - cmdstanpy - INFO - Chain [1] done processing\n"
     ]
    },
    {
     "name": "stdout",
     "output_type": "stream",
     "text": [
      "It's overpredicted.\n",
      "Monthly Error: 56.36 Period MAE: 21.91\n"
     ]
    },
    {
     "name": "stderr",
     "output_type": "stream",
     "text": [
      "22:26:48 - cmdstanpy - INFO - Chain [1] done processing\n",
      "22:26:49 - cmdstanpy - INFO - Chain [1] start processing\n",
      "22:26:49 - cmdstanpy - INFO - Chain [1] done processing\n"
     ]
    },
    {
     "name": "stdout",
     "output_type": "stream",
     "text": [
      "It's underpredicted.\n",
      "Monthly Error: 45.11 Period MAE: 33.19\n"
     ]
    },
    {
     "name": "stderr",
     "output_type": "stream",
     "text": [
      "22:26:50 - cmdstanpy - INFO - Chain [1] done processing\n",
      "22:26:50 - cmdstanpy - INFO - Chain [1] start processing\n",
      "22:26:51 - cmdstanpy - INFO - Chain [1] done processing\n"
     ]
    },
    {
     "name": "stdout",
     "output_type": "stream",
     "text": [
      "It's underpredicted.\n",
      "Monthly Error: 46.53 Period MAE: 32.96\n"
     ]
    },
    {
     "name": "stderr",
     "output_type": "stream",
     "text": [
      "22:26:52 - cmdstanpy - INFO - Chain [1] start processing\n",
      "22:26:52 - cmdstanpy - INFO - Chain [1] done processing\n"
     ]
    },
    {
     "name": "stdout",
     "output_type": "stream",
     "text": [
      "It's underpredicted.\n",
      "Monthly Error: 42.68 Period MAE: 30.0\n",
      "It's overpredicted.\n",
      "Monthly Error: 104.08 Period MAE: 41.74\n",
      "It's overpredicted.\n",
      "Monthly Error: 51.82 Period MAE: 12.61\n"
     ]
    },
    {
     "name": "stderr",
     "output_type": "stream",
     "text": [
      "22:26:54 - cmdstanpy - INFO - Chain [1] start processing\n",
      "22:26:54 - cmdstanpy - INFO - Chain [1] start processing\n",
      "22:26:54 - cmdstanpy - INFO - Chain [1] done processing\n",
      "22:26:54 - cmdstanpy - INFO - Chain [1] start processing\n",
      "22:26:55 - cmdstanpy - INFO - Chain [1] done processing\n"
     ]
    },
    {
     "name": "stdout",
     "output_type": "stream",
     "text": [
      "It's underpredicted.\n",
      "Monthly Error: 54.64 Period MAE: 20.18\n"
     ]
    },
    {
     "name": "stderr",
     "output_type": "stream",
     "text": [
      "22:26:55 - cmdstanpy - INFO - Chain [1] done processing\n",
      "22:26:56 - cmdstanpy - INFO - Chain [1] start processing\n",
      "22:26:56 - cmdstanpy - INFO - Chain [1] done processing\n"
     ]
    },
    {
     "name": "stdout",
     "output_type": "stream",
     "text": [
      "It's overpredicted.\n",
      "Monthly Error: 95.89 Period MAE: 32.49\n"
     ]
    },
    {
     "name": "stderr",
     "output_type": "stream",
     "text": [
      "22:26:57 - cmdstanpy - INFO - Chain [1] start processing\n",
      "22:26:57 - cmdstanpy - INFO - Chain [1] done processing\n"
     ]
    },
    {
     "name": "stdout",
     "output_type": "stream",
     "text": [
      "It's underpredicted.\n",
      "Monthly Error: 44.58 Period MAE: 29.909999999999997\n"
     ]
    },
    {
     "name": "stderr",
     "output_type": "stream",
     "text": [
      "22:26:58 - cmdstanpy - INFO - Chain [1] start processing\n",
      "22:26:58 - cmdstanpy - INFO - Chain [1] done processing\n"
     ]
    },
    {
     "name": "stdout",
     "output_type": "stream",
     "text": [
      "It's underpredicted.\n",
      "Monthly Error: 50.09 Period MAE: 23.45\n",
      "It's underpredicted.\n",
      "Monthly Error: 80.36 Period MAE: 80.63\n",
      "It's overpredicted.\n",
      "Monthly Error: 91.77 Period MAE: 29.09\n"
     ]
    },
    {
     "name": "stderr",
     "output_type": "stream",
     "text": [
      "22:27:00 - cmdstanpy - INFO - Chain [1] start processing\n",
      "22:27:00 - cmdstanpy - INFO - Chain [1] start processing\n",
      "22:27:01 - cmdstanpy - INFO - Chain [1] done processing\n",
      "22:27:01 - cmdstanpy - INFO - Chain [1] start processing\n",
      "22:27:01 - cmdstanpy - INFO - Chain [1] done processing\n",
      "22:27:01 - cmdstanpy - INFO - Chain [1] done processing\n"
     ]
    },
    {
     "name": "stdout",
     "output_type": "stream",
     "text": [
      "It's underpredicted.\n",
      "Monthly Error: 45.36 Period MAE: 41.55\n",
      "It's underpredicted.\n",
      "Monthly Error: 56.07 Period MAE: 23.630000000000003\n"
     ]
    },
    {
     "name": "stderr",
     "output_type": "stream",
     "text": [
      "22:27:03 - cmdstanpy - INFO - Chain [1] start processing\n",
      "22:27:03 - cmdstanpy - INFO - Chain [1] done processing\n",
      "22:27:03 - cmdstanpy - INFO - Chain [1] start processing\n"
     ]
    },
    {
     "name": "stdout",
     "output_type": "stream",
     "text": [
      "It's underpredicted.\n",
      "Monthly Error: 61.49 Period MAE: 11.73\n"
     ]
    },
    {
     "name": "stderr",
     "output_type": "stream",
     "text": [
      "22:27:04 - cmdstanpy - INFO - Chain [1] done processing\n",
      "22:27:05 - cmdstanpy - INFO - Chain [1] start processing\n",
      "22:27:05 - cmdstanpy - INFO - Chain [1] done processing\n"
     ]
    },
    {
     "name": "stdout",
     "output_type": "stream",
     "text": [
      "It's underpredicted.\n",
      "Monthly Error: 61.66 Period MAE: 0.89\n",
      "It's underpredicted.\n",
      "Monthly Error: 50.48 Period MAE: 25.8\n"
     ]
    },
    {
     "name": "stderr",
     "output_type": "stream",
     "text": [
      "22:27:08 - cmdstanpy - INFO - Chain [1] start processing\n"
     ]
    },
    {
     "name": "stdout",
     "output_type": "stream",
     "text": [
      "It's overpredicted.\n",
      "Monthly Error: 61.83 Period MAE: 59.97\n"
     ]
    },
    {
     "name": "stderr",
     "output_type": "stream",
     "text": [
      "22:27:09 - cmdstanpy - INFO - Chain [1] start processing\n",
      "22:27:09 - cmdstanpy - INFO - Chain [1] done processing\n",
      "22:27:09 - cmdstanpy - INFO - Chain [1] start processing\n"
     ]
    },
    {
     "name": "stdout",
     "output_type": "stream",
     "text": [
      "It's overpredicted.\n",
      "Monthly Error: 37.38 Period MAE:"
     ]
    },
    {
     "name": "stderr",
     "output_type": "stream",
     "text": [
      "22:27:10 - cmdstanpy - INFO - Chain [1] done processing\n"
     ]
    },
    {
     "name": "stdout",
     "output_type": "stream",
     "text": [
      " 23.189999999999998\n"
     ]
    },
    {
     "name": "stderr",
     "output_type": "stream",
     "text": [
      "22:27:10 - cmdstanpy - INFO - Chain [1] start processing\n",
      "22:27:10 - cmdstanpy - INFO - Chain [1] done processing\n",
      "22:27:10 - cmdstanpy - INFO - Chain [1] done processing\n"
     ]
    },
    {
     "name": "stdout",
     "output_type": "stream",
     "text": [
      "It's underpredicted.\n",
      "Monthly Error: 62.54 Period MAE: 26.86\n"
     ]
    },
    {
     "name": "stderr",
     "output_type": "stream",
     "text": [
      "22:27:11 - cmdstanpy - INFO - Chain [1] start processing\n",
      "22:27:12 - cmdstanpy - INFO - Chain [1] done processing\n"
     ]
    },
    {
     "name": "stdout",
     "output_type": "stream",
     "text": [
      "It's underpredicted.\n",
      "Monthly Error: 61.11 Period MAE: 10.86\n"
     ]
    },
    {
     "name": "stderr",
     "output_type": "stream",
     "text": [
      "22:27:13 - cmdstanpy - INFO - Chain [1] start processing\n",
      "22:27:13 - cmdstanpy - INFO - Chain [1] done processing\n"
     ]
    },
    {
     "name": "stdout",
     "output_type": "stream",
     "text": [
      "It's underpredicted.\n",
      "Monthly Error: 56.31 Period MAE: 28.07\n",
      "It's underpredicted.\n",
      "Monthly Error: 66.08 Period MAE: 66.53It's overpredicted.\n",
      "\n",
      "Monthly Error: 46.46 Period MAE: 40.57\n"
     ]
    },
    {
     "name": "stderr",
     "output_type": "stream",
     "text": [
      "22:27:15 - cmdstanpy - INFO - Chain [1] start processing\n",
      "22:27:15 - cmdstanpy - INFO - Chain [1] start processing\n",
      "22:27:15 - cmdstanpy - INFO - Chain [1] done processing\n",
      "22:27:15 - cmdstanpy - INFO - Chain [1] done processing\n",
      "22:27:15 - cmdstanpy - INFO - Chain [1] start processing\n",
      "22:27:16 - cmdstanpy - INFO - Chain [1] done processing\n"
     ]
    },
    {
     "name": "stdout",
     "output_type": "stream",
     "text": [
      "It's overpredicted.\n",
      "Monthly Error: It's underpredicted.131.41\n",
      " Monthly Error:Period MAE:  112.8444.33 Period MAE:\n",
      " 32.53\n"
     ]
    },
    {
     "name": "stderr",
     "output_type": "stream",
     "text": [
      "22:27:17 - cmdstanpy - INFO - Chain [1] start processing\n",
      "22:27:17 - cmdstanpy - INFO - Chain [1] done processing\n",
      "22:27:17 - cmdstanpy - INFO - Chain [1] start processing\n"
     ]
    },
    {
     "name": "stdout",
     "output_type": "stream",
     "text": [
      "It's underpredicted.\n",
      "Monthly Error: 68.23 Period MAE: 14.91\n"
     ]
    },
    {
     "name": "stderr",
     "output_type": "stream",
     "text": [
      "22:27:18 - cmdstanpy - INFO - Chain [1] done processing\n",
      "22:27:19 - cmdstanpy - INFO - Chain [1] start processing\n",
      "22:27:19 - cmdstanpy - INFO - Chain [1] done processing\n"
     ]
    },
    {
     "name": "stdout",
     "output_type": "stream",
     "text": [
      "It's underpredicted.\n",
      "Monthly Error: 42.81 Period MAE: 32.04\n",
      "It's overpredicted.\n",
      "Monthly Error: 150.07 Period MAE: 129.4\n",
      "It's underpredicted.\n",
      "Monthly Error: 70.81 Period MAE: 71.89\n",
      "It's underpredicted.\n",
      "Monthly Error:"
     ]
    },
    {
     "name": "stderr",
     "output_type": "stream",
     "text": [
      "22:33:33 - cmdstanpy - INFO - Chain [1] start processing\n"
     ]
    },
    {
     "name": "stdout",
     "output_type": "stream",
     "text": [
      " 62.07 Period MAE: 46.37\n",
      "It's overpredicted.\n",
      "Monthly Error: 59.51 Period MAE: 57.67\n"
     ]
    },
    {
     "name": "stderr",
     "output_type": "stream",
     "text": [
      "22:33:33 - cmdstanpy - INFO - Chain [1] start processing\n",
      "22:33:34 - cmdstanpy - INFO - Chain [1] done processing\n",
      "22:33:34 - cmdstanpy - INFO - Chain [1] done processing\n",
      "22:33:34 - cmdstanpy - INFO - Chain [1] start processing\n"
     ]
    },
    {
     "name": "stdout",
     "output_type": "stream",
     "text": [
      "It's overpredicted.\n",
      "Monthly Error: 52.89 Period MAE: 51.24999999999999\n"
     ]
    },
    {
     "name": "stderr",
     "output_type": "stream",
     "text": [
      "22:33:35 - cmdstanpy - INFO - Chain [1] done processing\n",
      "22:33:35 - cmdstanpy - INFO - Chain [1] start processing\n",
      "22:33:35 - cmdstanpy - INFO - Chain [1] done processing\n"
     ]
    },
    {
     "name": "stdout",
     "output_type": "stream",
     "text": [
      "It's underpredicted.\n",
      "Monthly Error: 68.16 Period MAE: 49.68\n",
      "It's underpredicted.\n",
      "Monthly Error: 65.59 Period MAE: 30.81\n"
     ]
    },
    {
     "name": "stderr",
     "output_type": "stream",
     "text": [
      "22:33:36 - cmdstanpy - INFO - Chain [1] start processing\n",
      "22:33:36 - cmdstanpy - INFO - Chain [1] start processing\n",
      "22:33:37 - cmdstanpy - INFO - Chain [1] done processing\n",
      "22:33:37 - cmdstanpy - INFO - Chain [1] done processing\n"
     ]
    },
    {
     "name": "stdout",
     "output_type": "stream",
     "text": [
      "It's underpredicted.\n",
      "Monthly Error: 79.88It's underpredicted. \n",
      "Period MAE:Monthly Error:  80.17\n",
      "66.1 Period MAE: 50.0\n",
      "It's overpredicted.\n",
      "Monthly Error: 63.66 Period MAE: 61.1\n"
     ]
    },
    {
     "name": "stderr",
     "output_type": "stream",
     "text": [
      "22:33:39 - cmdstanpy - INFO - Chain [1] start processing\n",
      "22:33:40 - cmdstanpy - INFO - Chain [1] done processing\n",
      "22:33:40 - cmdstanpy - INFO - Chain [1] start processing\n",
      "22:33:40 - cmdstanpy - INFO - Chain [1] start processing\n",
      "22:33:40 - cmdstanpy - INFO - Chain [1] done processing\n"
     ]
    },
    {
     "name": "stdout",
     "output_type": "stream",
     "text": [
      "It's underpredicted.\n",
      "Monthly Error: 80.22 Period MAE: 80.47999999999999\n"
     ]
    },
    {
     "name": "stderr",
     "output_type": "stream",
     "text": [
      "22:33:41 - cmdstanpy - INFO - Chain [1] done processing\n"
     ]
    },
    {
     "name": "stdout",
     "output_type": "stream",
     "text": [
      "It's underpredicted.\n",
      "Monthly Error: 52.88 Period MAE: 53.2\n"
     ]
    },
    {
     "name": "stderr",
     "output_type": "stream",
     "text": [
      "22:33:41 - cmdstanpy - INFO - Chain [1] start processing\n",
      "22:33:41 - cmdstanpy - INFO - Chain [1] done processing\n",
      "22:33:42 - cmdstanpy - INFO - Chain [1] start processing\n",
      "22:33:42 - cmdstanpy - INFO - Chain [1] done processing\n"
     ]
    },
    {
     "name": "stdout",
     "output_type": "stream",
     "text": [
      "It's underpredicted.\n",
      "Monthly Error: 70.11 Period MAE: 34.83\n"
     ]
    },
    {
     "name": "stderr",
     "output_type": "stream",
     "text": [
      "22:33:43 - cmdstanpy - INFO - Chain [1] start processing\n"
     ]
    },
    {
     "name": "stdout",
     "output_type": "stream",
     "text": [
      "It's underpredicted."
     ]
    },
    {
     "name": "stderr",
     "output_type": "stream",
     "text": [
      "22:33:44 - cmdstanpy - INFO - Chain [1] done processing\n"
     ]
    },
    {
     "name": "stdout",
     "output_type": "stream",
     "text": [
      "\n",
      "Monthly Error: 54.38 Period MAE: 54.93\n",
      "It's overpredicted.\n",
      "Monthly Error: 136.86 Period MAE: 38.35\n",
      "It's underpredicted.\n",
      "Monthly Error: 70.49 Period MAE: 71.57\n"
     ]
    },
    {
     "name": "stderr",
     "output_type": "stream",
     "text": [
      "22:33:45 - cmdstanpy - INFO - Chain [1] start processing\n",
      "22:33:46 - cmdstanpy - INFO - Chain [1] start processing\n",
      "22:33:46 - cmdstanpy - INFO - Chain [1] done processing\n",
      "22:33:46 - cmdstanpy - INFO - Chain [1] start processing\n",
      "22:33:46 - cmdstanpy - INFO - Chain [1] done processing\n",
      "22:33:46 - cmdstanpy - INFO - Chain [1] done processing\n"
     ]
    },
    {
     "name": "stdout",
     "output_type": "stream",
     "text": [
      "It's underpredicted.\n",
      "Monthly Error: 58.32 Period MAE: 58.89\n",
      "It's overpredicted.\n",
      "Monthly Error: 134.1"
     ]
    },
    {
     "name": "stderr",
     "output_type": "stream",
     "text": [
      "22:33:48 - cmdstanpy - INFO - Chain [1] start processing\n"
     ]
    },
    {
     "name": "stdout",
     "output_type": "stream",
     "text": [
      " Period MAE: 36.75\n"
     ]
    },
    {
     "name": "stderr",
     "output_type": "stream",
     "text": [
      "22:33:48 - cmdstanpy - INFO - Chain [1] done processing\n"
     ]
    },
    {
     "name": "stdout",
     "output_type": "stream",
     "text": [
      "It's underpredicted.\n",
      "Monthly Error: 47.88 Period MAE: 34.42\n"
     ]
    },
    {
     "name": "stderr",
     "output_type": "stream",
     "text": [
      "22:33:49 - cmdstanpy - INFO - Chain [1] start processing\n",
      "22:33:49 - cmdstanpy - INFO - Chain [1] done processing\n",
      "22:33:49 - cmdstanpy - INFO - Chain [1] start processing\n",
      "22:33:50 - cmdstanpy - INFO - Chain [1] done processing\n"
     ]
    },
    {
     "name": "stdout",
     "output_type": "stream",
     "text": [
      "It's underpredicted.\n",
      "Monthly Error: 55.45 Period MAE: 55.96\n",
      "It's overpredicted.\n",
      "Monthly Error: 133.54 Period MAE: 36.15\n"
     ]
    },
    {
     "name": "stderr",
     "output_type": "stream",
     "text": [
      "22:33:52 - cmdstanpy - INFO - Chain [1] start processing\n"
     ]
    },
    {
     "name": "stdout",
     "output_type": "stream",
     "text": [
      "It's overpredicted.\n",
      "Monthly Error: 68.4 Period MAE: 66.31\n"
     ]
    },
    {
     "name": "stderr",
     "output_type": "stream",
     "text": [
      "22:33:52 - cmdstanpy - INFO - Chain [1] start processing\n",
      "22:33:52 - cmdstanpy - INFO - Chain [1] done processing\n",
      "22:33:52 - cmdstanpy - INFO - Chain [1] start processing\n",
      "22:33:53 - cmdstanpy - INFO - Chain [1] done processing\n",
      "22:33:53 - cmdstanpy - INFO - Chain [1] done processing\n"
     ]
    },
    {
     "name": "stdout",
     "output_type": "stream",
     "text": [
      "It's overpredicted.\n",
      "Monthly Error: 66.65 Period MAE: 64.72\n"
     ]
    },
    {
     "name": "stderr",
     "output_type": "stream",
     "text": [
      "22:33:54 - cmdstanpy - INFO - Chain [1] start processing\n"
     ]
    },
    {
     "name": "stdout",
     "output_type": "stream",
     "text": [
      "It's underpredicted.\n",
      "Monthly Error: 54.95 Period MAE: 55.61000000000001\n"
     ]
    },
    {
     "name": "stderr",
     "output_type": "stream",
     "text": [
      "22:33:54 - cmdstanpy - INFO - Chain [1] done processing\n"
     ]
    },
    {
     "name": "stdout",
     "output_type": "stream",
     "text": [
      "It's underpredicted.\n",
      "Monthly Error: 40.08 Period MAE: 35.83"
     ]
    },
    {
     "name": "stderr",
     "output_type": "stream",
     "text": [
      "22:33:55 - cmdstanpy - INFO - Chain [1] start processing\n"
     ]
    },
    {
     "name": "stdout",
     "output_type": "stream",
     "text": [
      "\n"
     ]
    },
    {
     "name": "stderr",
     "output_type": "stream",
     "text": [
      "22:33:55 - cmdstanpy - INFO - Chain [1] done processing\n",
      "22:33:55 - cmdstanpy - INFO - Chain [1] start processing\n",
      "22:33:55 - cmdstanpy - INFO - Chain [1] done processing\n"
     ]
    },
    {
     "name": "stdout",
     "output_type": "stream",
     "text": [
      "It's underpredicted.\n",
      "Monthly Error: 55.06 Period MAE: 55.620000000000005\n",
      "It's overpredicted.\n",
      "It's overpredicted.Monthly Error: \n",
      "76.36Monthly Error:  Period MAE: 133.84 73.45Period MAE:\n",
      " 35.58\n"
     ]
    },
    {
     "name": "stderr",
     "output_type": "stream",
     "text": [
      "22:33:58 - cmdstanpy - INFO - Chain [1] start processing\n",
      "22:33:58 - cmdstanpy - INFO - Chain [1] done processing\n",
      "22:33:58 - cmdstanpy - INFO - Chain [1] start processing\n",
      "22:33:59 - cmdstanpy - INFO - Chain [1] start processing\n",
      "22:33:59 - cmdstanpy - INFO - Chain [1] done processing\n"
     ]
    },
    {
     "name": "stdout",
     "output_type": "stream",
     "text": [
      "It's overpredicted.\n",
      "Monthly Error: 132.91 "
     ]
    },
    {
     "name": "stderr",
     "output_type": "stream",
     "text": [
      "22:33:59 - cmdstanpy - INFO - Chain [1] done processing\n"
     ]
    },
    {
     "name": "stdout",
     "output_type": "stream",
     "text": [
      "Period MAE:It's underpredicted. 36.05\n",
      "\n",
      "Monthly Error: 72.11 Period MAE: 48.29\n"
     ]
    },
    {
     "name": "stderr",
     "output_type": "stream",
     "text": [
      "22:34:00 - cmdstanpy - INFO - Chain [1] start processing\n",
      "22:34:00 - cmdstanpy - INFO - Chain [1] done processing\n",
      "22:34:00 - cmdstanpy - INFO - Chain [1] start processing\n",
      "22:34:00 - cmdstanpy - INFO - Chain [1] done processing\n"
     ]
    },
    {
     "name": "stdout",
     "output_type": "stream",
     "text": [
      "It's underpredicted.\n",
      "Monthly Error: 49.11 Period MAE: 36.69\n",
      "It's underpredicted.\n",
      "Monthly Error: 71.98 Period MAE: 48.13\n"
     ]
    },
    {
     "name": "stderr",
     "output_type": "stream",
     "text": [
      "22:34:03 - cmdstanpy - INFO - Chain [1] start processing\n",
      "22:34:03 - cmdstanpy - INFO - Chain [1] done processing\n"
     ]
    },
    {
     "name": "stdout",
     "output_type": "stream",
     "text": [
      "It's underpredicted.\n",
      "Monthly Error: 46.8 Period MAE: 5.18"
     ]
    },
    {
     "name": "stderr",
     "output_type": "stream",
     "text": [
      "22:34:04 - cmdstanpy - INFO - Chain [1] start processing\n"
     ]
    },
    {
     "name": "stdout",
     "output_type": "stream",
     "text": [
      "\n",
      "It's overpredicted.\n",
      "Monthly Error: 133.14Period MAE: \n",
      " 36.57"
     ]
    },
    {
     "name": "stderr",
     "output_type": "stream",
     "text": [
      "22:34:05 - cmdstanpy - INFO - Chain [1] start processing\n",
      "22:34:05 - cmdstanpy - INFO - Chain [1] done processing\n",
      "22:34:05 - cmdstanpy - INFO - Chain [1] start processing\n",
      "22:34:05 - cmdstanpy - INFO - Chain [1] done processing\n",
      "22:34:06 - cmdstanpy - INFO - Chain [1] done processing\n"
     ]
    },
    {
     "name": "stdout",
     "output_type": "stream",
     "text": [
      "It's underpredicted.\n",
      "Monthly Error: 72.31 Period MAE: 48.61\n",
      "It's underpredicted.\n",
      "It's underpredicted.Monthly Error: \n",
      "72.37 Monthly Error: 41.92 Period MAE: Period MAE: 7.4246.56\n",
      "\n"
     ]
    },
    {
     "name": "stderr",
     "output_type": "stream",
     "text": [
      "22:34:08 - cmdstanpy - INFO - Chain [1] start processing\n",
      "22:34:08 - cmdstanpy - INFO - Chain [1] done processing\n",
      "22:34:08 - cmdstanpy - INFO - Chain [1] start processing\n",
      "22:34:08 - cmdstanpy - INFO - Chain [1] start processing\n",
      "22:34:08 - cmdstanpy - INFO - Chain [1] done processing\n",
      "22:34:08 - cmdstanpy - INFO - Chain [1] done processing\n"
     ]
    },
    {
     "name": "stdout",
     "output_type": "stream",
     "text": [
      "It's underpredicted.\n",
      "Monthly Error: 41.45 Period MAE: 4.569999999999999\n",
      "It's underpredicted.\n",
      "Monthly Error: 71.94 Period MAE: 47.8\n"
     ]
    },
    {
     "name": "stderr",
     "output_type": "stream",
     "text": [
      "22:34:11 - cmdstanpy - INFO - Chain [1] start processing\n"
     ]
    },
    {
     "name": "stdout",
     "output_type": "stream",
     "text": [
      "It's overpredicted.\n",
      "Monthly Error: 66.44 Period MAE: 58.96\n"
     ]
    },
    {
     "name": "stderr",
     "output_type": "stream",
     "text": [
      "22:34:11 - cmdstanpy - INFO - Chain [1] start processing\n",
      "22:34:11 - cmdstanpy - INFO - Chain [1] done processing\n"
     ]
    },
    {
     "name": "stdout",
     "output_type": "stream",
     "text": [
      "It's overpredicted.\n",
      "Monthly Error: 62.22 Period MAE: 56.279999999999994\n"
     ]
    },
    {
     "name": "stderr",
     "output_type": "stream",
     "text": [
      "22:34:12 - cmdstanpy - INFO - Chain [1] start processing\n",
      "22:34:12 - cmdstanpy - INFO - Chain [1] done processing\n",
      "22:34:12 - cmdstanpy - INFO - Chain [1] start processing\n",
      "22:34:12 - cmdstanpy - INFO - Chain [1] done processing\n",
      "22:34:12 - cmdstanpy - INFO - Chain [1] done processing\n"
     ]
    },
    {
     "name": "stdout",
     "output_type": "stream",
     "text": [
      "It's underpredicted.\n",
      "Monthly Error:It's underpredicted.\n",
      " Monthly Error: 72.1172.45 Period MAE:  Period MAE: 48.4448.5\n",
      "\n"
     ]
    },
    {
     "name": "stderr",
     "output_type": "stream",
     "text": [
      "22:34:14 - cmdstanpy - INFO - Chain [1] start processing\n",
      "22:34:14 - cmdstanpy - INFO - Chain [1] start processing\n",
      "22:34:14 - cmdstanpy - INFO - Chain [1] done processing\n",
      "22:34:15 - cmdstanpy - INFO - Chain [1] done processing\n"
     ]
    },
    {
     "name": "stdout",
     "output_type": "stream",
     "text": [
      "It's overpredicted.\n",
      "Monthly Error: 63.43 It's underpredicted.Period MAE:\n",
      " Monthly Error:57.78 \n",
      "47.36 Period MAE: 5.050000000000001\n",
      "It's underpredicted.\n",
      "Monthly Error: 71.6 Period MAE: 47.11\n"
     ]
    },
    {
     "name": "stderr",
     "output_type": "stream",
     "text": [
      "22:34:17 - cmdstanpy - INFO - Chain [1] start processing\n",
      "22:34:17 - cmdstanpy - INFO - Chain [1] start processing\n",
      "22:34:17 - cmdstanpy - INFO - Chain [1] start processing\n",
      "22:34:18 - cmdstanpy - INFO - Chain [1] done processing\n",
      "22:34:18 - cmdstanpy - INFO - Chain [1] done processing\n",
      "22:34:18 - cmdstanpy - INFO - Chain [1] done processing\n"
     ]
    },
    {
     "name": "stdout",
     "output_type": "stream",
     "text": [
      "It's underpredicted.\n",
      "Monthly Error: 42.14 Period MAE: 6.0600000000000005\n",
      "It's underpredicted.\n",
      "Monthly Error: 57.09"
     ]
    },
    {
     "name": "stderr",
     "output_type": "stream",
     "text": [
      "22:34:19 - cmdstanpy - INFO - Chain [1] start processing\n"
     ]
    },
    {
     "name": "stdout",
     "output_type": "stream",
     "text": [
      " Period MAE: 55.44\n"
     ]
    },
    {
     "name": "stderr",
     "output_type": "stream",
     "text": [
      "22:34:19 - cmdstanpy - INFO - Chain [1] done processing\n",
      "22:34:19 - cmdstanpy - INFO - Chain [1] start processing\n",
      "22:34:20 - cmdstanpy - INFO - Chain [1] done processing\n"
     ]
    },
    {
     "name": "stdout",
     "output_type": "stream",
     "text": [
      "It's underpredicted.\n",
      "Monthly Error: 72.43 Period MAE: 46.48\n"
     ]
    },
    {
     "name": "stderr",
     "output_type": "stream",
     "text": [
      "22:34:21 - cmdstanpy - INFO - Chain [1] start processing\n",
      "22:34:21 - cmdstanpy - INFO - Chain [1] done processing\n"
     ]
    },
    {
     "name": "stdout",
     "output_type": "stream",
     "text": [
      "It's underpredicted.\n",
      "Monthly Error: 56.69 Period MAE: 55.34\n",
      "It's underpredicted.\n",
      "Monthly Error: 42.12 Period MAE: 7.2700000000000005It's overpredicted.\n",
      "\n",
      "Monthly Error: 98.33 Period MAE: 28.689999999999998\n"
     ]
    },
    {
     "name": "stderr",
     "output_type": "stream",
     "text": [
      "22:34:23 - cmdstanpy - INFO - Chain [1] start processing\n",
      "22:34:23 - cmdstanpy - INFO - Chain [1] start processing\n",
      "22:34:23 - cmdstanpy - INFO - Chain [1] done processing\n",
      "22:34:23 - cmdstanpy - INFO - Chain [1] done processing\n",
      "22:34:24 - cmdstanpy - INFO - Chain [1] start processing\n"
     ]
    },
    {
     "name": "stdout",
     "output_type": "stream",
     "text": [
      "It's overpredicted.\n",
      "Monthly Error: 92.5 Period MAE: 26.939999999999998\n"
     ]
    },
    {
     "name": "stderr",
     "output_type": "stream",
     "text": [
      "22:34:24 - cmdstanpy - INFO - Chain [1] done processing\n",
      "22:34:24 - cmdstanpy - INFO - Chain [1] start processing\n",
      "22:34:25 - cmdstanpy - INFO - Chain [1] done processing\n"
     ]
    },
    {
     "name": "stdout",
     "output_type": "stream",
     "text": [
      "It's underpredicted.\n",
      "Monthly Error: 59.62 Period MAE: 58.76\n",
      "It's underpredicted.\n",
      "Monthly Error: 55.96"
     ]
    },
    {
     "name": "stderr",
     "output_type": "stream",
     "text": [
      "22:34:26 - cmdstanpy - INFO - Chain [1] start processing\n"
     ]
    },
    {
     "name": "stdout",
     "output_type": "stream",
     "text": [
      " Period MAE: 53.74\n"
     ]
    },
    {
     "name": "stderr",
     "output_type": "stream",
     "text": [
      "22:34:26 - cmdstanpy - INFO - Chain [1] done processing\n",
      "22:34:26 - cmdstanpy - INFO - Chain [1] start processing\n",
      "22:34:27 - cmdstanpy - INFO - Chain [1] done processing\n"
     ]
    },
    {
     "name": "stdout",
     "output_type": "stream",
     "text": [
      "It's overpredicted.\n",
      "Monthly Error: 99.17 Period MAE: 33.2\n",
      "It's underpredicted.\n",
      "Monthly Error: 59.96 Period MAE: 59.36\n",
      "It's overpredicted.\n",
      "Monthly Error: 50.88 Period MAE: 7.99\n"
     ]
    },
    {
     "name": "stderr",
     "output_type": "stream",
     "text": [
      "22:34:29 - cmdstanpy - INFO - Chain [1] start processing\n",
      "22:34:29 - cmdstanpy - INFO - Chain [1] start processing\n",
      "22:34:29 - cmdstanpy - INFO - Chain [1] done processing\n",
      "22:34:29 - cmdstanpy - INFO - Chain [1] start processing\n",
      "22:34:29 - cmdstanpy - INFO - Chain [1] done processing\n",
      "22:34:30 - cmdstanpy - INFO - Chain [1] done processing\n"
     ]
    },
    {
     "name": "stdout",
     "output_type": "stream",
     "text": [
      "It's overpredicted.\n",
      "Monthly Error: 54.9 Period MAE: It's underpredicted.17.32\n",
      "\n",
      "Monthly Error: 59.12 Period MAE: 59.150000000000006\n",
      "It's underpredicted.\n",
      "Monthly Error:  55.3Period MAE: 51.66\n"
     ]
    },
    {
     "name": "stderr",
     "output_type": "stream",
     "text": [
      "22:34:31 - cmdstanpy - INFO - Chain [1] start processing\n",
      "22:34:31 - cmdstanpy - INFO - Chain [1] done processing\n",
      "22:34:31 - cmdstanpy - INFO - Chain [1] start processing\n",
      "22:34:32 - cmdstanpy - INFO - Chain [1] start processing\n",
      "22:34:32 - cmdstanpy - INFO - Chain [1] done processing\n",
      "22:34:32 - cmdstanpy - INFO - Chain [1] done processing\n"
     ]
    },
    {
     "name": "stdout",
     "output_type": "stream",
     "text": [
      "It's underpredicted.\n",
      "Monthly Error: 58.83 Period MAE: 58.47\n",
      "It's overpredicted.\n",
      "Monthly Error: 47.5 Period MAE: 9.04\n"
     ]
    },
    {
     "name": "stderr",
     "output_type": "stream",
     "text": [
      "22:34:35 - cmdstanpy - INFO - Chain [1] start processing\n"
     ]
    },
    {
     "name": "stdout",
     "output_type": "stream",
     "text": [
      "It's overpredicted.\n",
      "Monthly Error: 103.87 Period MAE: It's overpredicted.38.78\n",
      "\n",
      "Monthly Error: 96.55 Period MAE: 34.13\n"
     ]
    },
    {
     "name": "stderr",
     "output_type": "stream",
     "text": [
      "22:34:35 - cmdstanpy - INFO - Chain [1] start processing\n",
      "22:34:36 - cmdstanpy - INFO - Chain [1] done processing\n",
      "22:34:36 - cmdstanpy - INFO - Chain [1] start processing\n",
      "22:34:36 - cmdstanpy - INFO - Chain [1] start processing\n",
      "22:34:36 - cmdstanpy - INFO - Chain [1] done processing\n",
      "22:34:36 - cmdstanpy - INFO - Chain [1] done processing\n",
      "22:34:36 - cmdstanpy - INFO - Chain [1] done processing\n"
     ]
    },
    {
     "name": "stdout",
     "output_type": "stream",
     "text": [
      "It's underpredicted.\n",
      "Monthly Error: 64.21 Period MAE: 45.89\n"
     ]
    },
    {
     "name": "stderr",
     "output_type": "stream",
     "text": [
      "22:34:38 - cmdstanpy - INFO - Chain [1] start processing\n",
      "22:34:38 - cmdstanpy - INFO - Chain [1] done processing\n"
     ]
    },
    {
     "name": "stdout",
     "output_type": "stream",
     "text": [
      "It's underpredicted.\n",
      "Monthly Error: 50.87 Period MAE: 45.46\n"
     ]
    },
    {
     "name": "stderr",
     "output_type": "stream",
     "text": [
      "22:34:39 - cmdstanpy - INFO - Chain [1] start processing\n"
     ]
    },
    {
     "name": "stdout",
     "output_type": "stream",
     "text": [
      "It's underpredicted.\n",
      "Monthly Error: 80.15 Period MAE:"
     ]
    },
    {
     "name": "stderr",
     "output_type": "stream",
     "text": [
      "22:34:39 - cmdstanpy - INFO - Chain [1] done processing\n"
     ]
    },
    {
     "name": "stdout",
     "output_type": "stream",
     "text": [
      " 80.42\n",
      "It's underpredicted.\n",
      "Monthly Error: 61.68 Period MAE: 47.089999999999996\n",
      "It's overpredicted.\n",
      "Monthly Error: 100.53 Period MAE: 36.97\n"
     ]
    },
    {
     "name": "stderr",
     "output_type": "stream",
     "text": [
      "22:34:41 - cmdstanpy - INFO - Chain [1] start processing\n",
      "22:34:41 - cmdstanpy - INFO - Chain [1] done processing\n",
      "22:34:41 - cmdstanpy - INFO - Chain [1] start processing\n",
      "22:34:41 - cmdstanpy - INFO - Chain [1] start processing\n",
      "22:34:41 - cmdstanpy - INFO - Chain [1] done processing\n",
      "22:34:42 - cmdstanpy - INFO - Chain [1] done processing\n"
     ]
    },
    {
     "name": "stdout",
     "output_type": "stream",
     "text": [
      "It's underpredicted.\n",
      "Monthly Error: 64.34 Period MAE: 46.08\n"
     ]
    },
    {
     "name": "stderr",
     "output_type": "stream",
     "text": [
      "22:34:43 - cmdstanpy - INFO - Chain [1] start processing\n"
     ]
    },
    {
     "name": "stdout",
     "output_type": "stream",
     "text": [
      "It's underpredicted.\n",
      "Monthly Error: 46.16 Period MAE: 43.830000000000005\n"
     ]
    },
    {
     "name": "stderr",
     "output_type": "stream",
     "text": [
      "22:34:43 - cmdstanpy - INFO - Chain [1] done processing\n",
      "22:34:44 - cmdstanpy - INFO - Chain [1] start processing\n"
     ]
    },
    {
     "name": "stdout",
     "output_type": "stream",
     "text": [
      "It's underpredicted.\n",
      "Monthly Error: 71.3 Period MAE: 27.47\n"
     ]
    },
    {
     "name": "stderr",
     "output_type": "stream",
     "text": [
      "22:34:45 - cmdstanpy - INFO - Chain [1] done processing\n"
     ]
    },
    {
     "name": "stdout",
     "output_type": "stream",
     "text": [
      "It's overpredicted.\n",
      "Monthly Error: 58.76 Period MAE: 0.22\n"
     ]
    },
    {
     "name": "stderr",
     "output_type": "stream",
     "text": [
      "22:34:46 - cmdstanpy - INFO - Chain [1] start processing\n",
      "22:34:46 - cmdstanpy - INFO - Chain [1] done processing\n"
     ]
    },
    {
     "name": "stdout",
     "output_type": "stream",
     "text": [
      "It's underpredicted.\n",
      "Monthly Error: 60.76 Period MAE: 46.39\n"
     ]
    },
    {
     "name": "stderr",
     "output_type": "stream",
     "text": [
      "22:34:47 - cmdstanpy - INFO - Chain [1] start processing\n"
     ]
    },
    {
     "name": "stdout",
     "output_type": "stream",
     "text": [
      "It's overpredicted.\n",
      "Monthly Error: 63.13 Period MAE: 61.260000000000005\n"
     ]
    },
    {
     "name": "stderr",
     "output_type": "stream",
     "text": [
      "22:34:47 - cmdstanpy - INFO - Chain [1] done processing\n",
      "22:34:48 - cmdstanpy - INFO - Chain [1] start processing\n",
      "22:34:48 - cmdstanpy - INFO - Chain [1] start processing\n",
      "22:34:48 - cmdstanpy - INFO - Chain [1] done processing\n",
      "22:34:48 - cmdstanpy - INFO - Chain [1] done processing\n"
     ]
    },
    {
     "name": "stdout",
     "output_type": "stream",
     "text": [
      "It's underpredicted.\n",
      "Monthly Error: It's underpredicted.71.83\n",
      "Monthly Error:  Period MAE:70.77 28.34 Period MAE:\n",
      " 51.839999999999996\n",
      "It's overpredicted.\n",
      "Monthly Error: 50.15 Period MAE: 48.559999999999995\n"
     ]
    },
    {
     "name": "stderr",
     "output_type": "stream",
     "text": [
      "22:34:50 - cmdstanpy - INFO - Chain [1] start processing\n",
      "22:34:50 - cmdstanpy - INFO - Chain [1] start processing\n",
      "22:34:50 - cmdstanpy - INFO - Chain [1] done processing\n",
      "22:34:50 - cmdstanpy - INFO - Chain [1] start processing\n",
      "22:34:50 - cmdstanpy - INFO - Chain [1] done processing\n",
      "22:34:51 - cmdstanpy - INFO - Chain [1] done processing\n"
     ]
    },
    {
     "name": "stdout",
     "output_type": "stream",
     "text": [
      "It's underpredicted.\n",
      "Monthly Error: 67.64 Period MAE: 52.12\n",
      "It's overpredicted.\n",
      "Monthly Error: 54.42 Period MAE: 51.33\n"
     ]
    },
    {
     "name": "stderr",
     "output_type": "stream",
     "text": [
      "22:34:53 - cmdstanpy - INFO - Chain [1] start processing\n",
      "22:34:54 - cmdstanpy - INFO - Chain [1] start processing\n"
     ]
    },
    {
     "name": "stdout",
     "output_type": "stream",
     "text": [
      "It's underpredicted.\n",
      "Monthly Error: "
     ]
    },
    {
     "name": "stderr",
     "output_type": "stream",
     "text": [
      "22:34:54 - cmdstanpy - INFO - Chain [1] done processing\n"
     ]
    },
    {
     "name": "stdout",
     "output_type": "stream",
     "text": [
      "79.69 Period MAE: "
     ]
    },
    {
     "name": "stderr",
     "output_type": "stream",
     "text": [
      "22:34:54 - cmdstanpy - INFO - Chain [1] done processing\n"
     ]
    },
    {
     "name": "stdout",
     "output_type": "stream",
     "text": [
      "79.97999999999999\n",
      "It's overpredicted.\n",
      "Monthly Error: 123.3 Period MAE: 104.11999999999999\n"
     ]
    },
    {
     "name": "stderr",
     "output_type": "stream",
     "text": [
      "22:34:55 - cmdstanpy - INFO - Chain [1] start processing\n",
      "22:34:55 - cmdstanpy - INFO - Chain [1] start processing\n",
      "22:34:55 - cmdstanpy - INFO - Chain [1] done processing\n",
      "22:34:55 - cmdstanpy - INFO - Chain [1] done processing\n"
     ]
    },
    {
     "name": "stdout",
     "output_type": "stream",
     "text": [
      "It's underpredicted.\n",
      "Monthly Error: 52.62 Period MAE: 51.61\n",
      "It's underpredicted.\n",
      "Monthly Error: 79.67 Period MAE: 34.9\n"
     ]
    },
    {
     "name": "stderr",
     "output_type": "stream",
     "text": [
      "22:34:57 - cmdstanpy - INFO - Chain [1] start processing\n",
      "22:34:57 - cmdstanpy - INFO - Chain [1] start processing\n",
      "22:34:57 - cmdstanpy - INFO - Chain [1] done processing\n",
      "22:34:57 - cmdstanpy - INFO - Chain [1] done processing\n"
     ]
    },
    {
     "name": "stdout",
     "output_type": "stream",
     "text": [
      "It's overpredicted.\n",
      "Monthly Error: 138.29 Period MAE: 38.47\n",
      "It's overpredicted.\n",
      "Monthly Error: 162.69 Period MAE: 143.06\n",
      "It's underpredicted.\n",
      "Monthly Error: 52.54 Period MAE: 52.66\n"
     ]
    },
    {
     "name": "stderr",
     "output_type": "stream",
     "text": [
      "22:34:59 - cmdstanpy - INFO - Chain [1] start processing\n",
      "22:35:00 - cmdstanpy - INFO - Chain [1] start processing\n",
      "22:35:00 - cmdstanpy - INFO - Chain [1] done processing\n",
      "22:35:00 - cmdstanpy - INFO - Chain [1] start processing\n"
     ]
    },
    {
     "name": "stdout",
     "output_type": "stream",
     "text": [
      "It's overpredicted.\n",
      "Monthly Error: 132.81 Period MAE: 34.43\n"
     ]
    },
    {
     "name": "stderr",
     "output_type": "stream",
     "text": [
      "22:35:01 - cmdstanpy - INFO - Chain [1] done processing\n",
      "22:35:01 - cmdstanpy - INFO - Chain [1] done processing\n",
      "22:35:01 - cmdstanpy - INFO - Chain [1] start processing\n",
      "22:35:01 - cmdstanpy - INFO - Chain [1] done processing\n"
     ]
    },
    {
     "name": "stdout",
     "output_type": "stream",
     "text": [
      "It's underpredicted.\n",
      "Monthly Error: 51.73 Period MAE: 52.44\n"
     ]
    },
    {
     "name": "stderr",
     "output_type": "stream",
     "text": [
      "22:35:03 - cmdstanpy - INFO - Chain [1] start processing\n",
      "22:35:03 - cmdstanpy - INFO - Chain [1] done processing\n"
     ]
    },
    {
     "name": "stdout",
     "output_type": "stream",
     "text": [
      "It's underpredicted.\n",
      "Monthly Error: 52.97 Period MAE: 27.93\n"
     ]
    },
    {
     "name": "stderr",
     "output_type": "stream",
     "text": [
      "22:35:05 - cmdstanpy - INFO - Chain [1] start processing\n",
      "22:35:05 - cmdstanpy - INFO - Chain [1] done processing\n"
     ]
    },
    {
     "name": "stdout",
     "output_type": "stream",
     "text": [
      "It's underpredicted.\n",
      "Monthly Error: 51.9 Period MAE: 52.44\n",
      "It's overpredicted.It's overpredicted.\n",
      "\n",
      "Monthly Error:Monthly Error: 146.31 Period MAE:  51.910000000000004\n",
      "75.83 Period MAE: 73.56\n"
     ]
    },
    {
     "name": "stderr",
     "output_type": "stream",
     "text": [
      "22:35:07 - cmdstanpy - INFO - Chain [1] start processing\n",
      "22:35:07 - cmdstanpy - INFO - Chain [1] start processing\n",
      "22:35:08 - cmdstanpy - INFO - Chain [1] done processing\n",
      "22:35:08 - cmdstanpy - INFO - Chain [1] start processing\n"
     ]
    },
    {
     "name": "stdout",
     "output_type": "stream",
     "text": [
      "It's overpredicted.\n",
      "Monthly Error: 72.82 Period MAE: 70.73\n"
     ]
    },
    {
     "name": "stderr",
     "output_type": "stream",
     "text": [
      "22:35:09 - cmdstanpy - INFO - Chain [1] done processing\n",
      "22:35:09 - cmdstanpy - INFO - Chain [1] done processing\n"
     ]
    },
    {
     "name": "stdout",
     "output_type": "stream",
     "text": [
      "It's underpredicted.\n",
      "Monthly Error: 53.87 Period MAE:"
     ]
    },
    {
     "name": "stderr",
     "output_type": "stream",
     "text": [
      "22:35:09 - cmdstanpy - INFO - Chain [1] start processing\n"
     ]
    },
    {
     "name": "stdout",
     "output_type": "stream",
     "text": [
      " 53.11\n"
     ]
    },
    {
     "name": "stderr",
     "output_type": "stream",
     "text": [
      "22:35:09 - cmdstanpy - INFO - Chain [1] done processing\n",
      "22:35:10 - cmdstanpy - INFO - Chain [1] start processing\n",
      "22:35:11 - cmdstanpy - INFO - Chain [1] done processing\n"
     ]
    },
    {
     "name": "stdout",
     "output_type": "stream",
     "text": [
      "It's underpredicted.\n",
      "Monthly Error: 37.22 Period MAE: 29.299999999999997\n"
     ]
    },
    {
     "name": "stderr",
     "output_type": "stream",
     "text": [
      "22:35:12 - cmdstanpy - INFO - Chain [1] start processing\n",
      "22:35:12 - cmdstanpy - INFO - Chain [1] done processing\n"
     ]
    },
    {
     "name": "stdout",
     "output_type": "stream",
     "text": [
      "It's underpredicted.\n",
      "Monthly Error: 56.16 Period MAE: 56.720000000000006\n"
     ]
    },
    {
     "name": "stderr",
     "output_type": "stream",
     "text": [
      "22:35:14 - cmdstanpy - INFO - Chain [1] start processing\n"
     ]
    },
    {
     "name": "stdout",
     "output_type": "stream",
     "text": [
      "It's overpredicted.\n",
      "Monthly Error: 60.49 Period MAE: It's overpredicted.57.440000000000005\n",
      "\n",
      "Monthly Error: 94.8 Period MAE: 37.45\n"
     ]
    },
    {
     "name": "stderr",
     "output_type": "stream",
     "text": [
      "22:35:14 - cmdstanpy - INFO - Chain [1] start processing\n",
      "22:35:15 - cmdstanpy - INFO - Chain [1] done processing\n",
      "22:35:15 - cmdstanpy - INFO - Chain [1] done processing\n",
      "22:35:15 - cmdstanpy - INFO - Chain [1] start processing\n",
      "22:35:15 - cmdstanpy - INFO - Chain [1] done processing\n"
     ]
    },
    {
     "name": "stdout",
     "output_type": "stream",
     "text": [
      "It's overpredicted.\n",
      "Monthly Error: 72.77 Period MAE: 39.129999999999995\n"
     ]
    },
    {
     "name": "stderr",
     "output_type": "stream",
     "text": [
      "22:35:16 - cmdstanpy - INFO - Chain [1] start processing\n"
     ]
    },
    {
     "name": "stdout",
     "output_type": "stream",
     "text": [
      "It's underpredicted.\n",
      "Monthly Error: 72.35 Period MAE: It's underpredicted.48.39\n",
      "\n"
     ]
    },
    {
     "name": "stderr",
     "output_type": "stream",
     "text": [
      "22:35:16 - cmdstanpy - INFO - Chain [1] done processing\n"
     ]
    },
    {
     "name": "stdout",
     "output_type": "stream",
     "text": [
      "Monthly Error: 54.95 Period MAE: 33.040000000000006\n"
     ]
    },
    {
     "name": "stderr",
     "output_type": "stream",
     "text": [
      "22:35:17 - cmdstanpy - INFO - Chain [1] start processing\n",
      "22:35:17 - cmdstanpy - INFO - Chain [1] start processing\n",
      "22:35:17 - cmdstanpy - INFO - Chain [1] done processing\n",
      "22:35:18 - cmdstanpy - INFO - Chain [1] done processing\n"
     ]
    },
    {
     "name": "stdout",
     "output_type": "stream",
     "text": [
      "It's underpredicted.\n",
      "Monthly Error: It's underpredicted.46.77 \n",
      "Period MAE:Monthly Error:  6.12\n",
      "68.52 Period MAE: 45.79\n",
      "It's overpredicted.\n",
      "Monthly Error: 82.27 Period MAE: 50.14999999999999\n"
     ]
    },
    {
     "name": "stderr",
     "output_type": "stream",
     "text": [
      "22:35:20 - cmdstanpy - INFO - Chain [1] start processing\n",
      "22:35:21 - cmdstanpy - INFO - Chain [1] done processing\n",
      "22:35:21 - cmdstanpy - INFO - Chain [1] start processing\n",
      "22:35:21 - cmdstanpy - INFO - Chain [1] start processing\n"
     ]
    },
    {
     "name": "stdout",
     "output_type": "stream",
     "text": [
      "It's overpredicted.\n",
      "Monthly Error: "
     ]
    },
    {
     "name": "stderr",
     "output_type": "stream",
     "text": [
      "22:35:21 - cmdstanpy - INFO - Chain [1] done processing\n"
     ]
    },
    {
     "name": "stdout",
     "output_type": "stream",
     "text": [
      "23.85 Period MAE: 0.27999999999999997\n"
     ]
    },
    {
     "name": "stderr",
     "output_type": "stream",
     "text": [
      "22:35:22 - cmdstanpy - INFO - Chain [1] done processing\n",
      "22:35:22 - cmdstanpy - INFO - Chain [1] start processing\n"
     ]
    },
    {
     "name": "stdout",
     "output_type": "stream",
     "text": [
      "It's underpredicted.\n",
      "Monthly Error: 72.55 Period MAE: 48.74\n"
     ]
    },
    {
     "name": "stderr",
     "output_type": "stream",
     "text": [
      "22:35:22 - cmdstanpy - INFO - Chain [1] done processing\n",
      "22:35:22 - cmdstanpy - INFO - Chain [1] start processing\n",
      "22:35:23 - cmdstanpy - INFO - Chain [1] done processing\n"
     ]
    },
    {
     "name": "stdout",
     "output_type": "stream",
     "text": [
      "It's underpredicted.\n",
      "Monthly Error: 71.26 Period MAE: 40.35\n"
     ]
    },
    {
     "name": "stderr",
     "output_type": "stream",
     "text": [
      "22:35:24 - cmdstanpy - INFO - Chain [1] start processing\n",
      "22:35:25 - cmdstanpy - INFO - Chain [1] done processing\n"
     ]
    },
    {
     "name": "stdout",
     "output_type": "stream",
     "text": [
      "It's underpredicted.\n",
      "Monthly Error: 70.03 Period MAE: 47.32\n",
      "It's overpredicted.\n",
      "Monthly Error: 24.66 Period MAE: 2.58\n",
      "It's overpredicted.\n",
      "Monthly Error: 61.21 Period MAE: 52.53\n"
     ]
    },
    {
     "name": "stderr",
     "output_type": "stream",
     "text": [
      "22:35:26 - cmdstanpy - INFO - Chain [1] start processing\n",
      "22:35:26 - cmdstanpy - INFO - Chain [1] done processing\n",
      "22:35:26 - cmdstanpy - INFO - Chain [1] start processing\n",
      "22:35:26 - cmdstanpy - INFO - Chain [1] start processing\n",
      "22:35:27 - cmdstanpy - INFO - Chain [1] done processing\n",
      "22:35:27 - cmdstanpy - INFO - Chain [1] done processing\n"
     ]
    },
    {
     "name": "stdout",
     "output_type": "stream",
     "text": [
      "It's underpredicted.\n",
      "Monthly Error: 72.53 Period MAE: 48.18\n"
     ]
    },
    {
     "name": "stderr",
     "output_type": "stream",
     "text": [
      "22:35:28 - cmdstanpy - INFO - Chain [1] start processing\n",
      "22:35:28 - cmdstanpy - INFO - Chain [1] done processing\n"
     ]
    },
    {
     "name": "stdout",
     "output_type": "stream",
     "text": [
      "It's overpredicted.\n",
      "Monthly Error:It's underpredicted.\n",
      " 82.53 Monthly Error:Period MAE:  71.1578.75999999999999\n",
      " Period MAE: 39.32\n"
     ]
    },
    {
     "name": "stderr",
     "output_type": "stream",
     "text": [
      "22:35:30 - cmdstanpy - INFO - Chain [1] start processing\n",
      "22:35:30 - cmdstanpy - INFO - Chain [1] start processing\n",
      "22:35:30 - cmdstanpy - INFO - Chain [1] done processing\n",
      "22:35:30 - cmdstanpy - INFO - Chain [1] done processing\n"
     ]
    },
    {
     "name": "stdout",
     "output_type": "stream",
     "text": [
      "It's overpredicted.\n",
      "Monthly Error: 84.23 Period MAE: It's overpredicted.80.39\n",
      "\n",
      "Monthly Error: 67.85 Period MAE: 56.74\n"
     ]
    },
    {
     "name": "stderr",
     "output_type": "stream",
     "text": [
      "22:35:32 - cmdstanpy - INFO - Chain [1] start processing\n"
     ]
    },
    {
     "name": "stdout",
     "output_type": "stream",
     "text": [
      "It's underpredicted.\n",
      "Monthly Error: 66.07"
     ]
    },
    {
     "name": "stderr",
     "output_type": "stream",
     "text": [
      "22:35:32 - cmdstanpy - INFO - Chain [1] start processing\n"
     ]
    },
    {
     "name": "stdout",
     "output_type": "stream",
     "text": [
      " Period MAE: 32.48\n"
     ]
    },
    {
     "name": "stderr",
     "output_type": "stream",
     "text": [
      "22:35:33 - cmdstanpy - INFO - Chain [1] done processing\n",
      "22:35:33 - cmdstanpy - INFO - Chain [1] start processing\n",
      "22:35:33 - cmdstanpy - INFO - Chain [1] done processing\n",
      "22:35:33 - cmdstanpy - INFO - Chain [1] done processing\n"
     ]
    },
    {
     "name": "stdout",
     "output_type": "stream",
     "text": [
      "It's overpredicted.\n",
      "Monthly Error: 90.74 Period MAE: 86.11\n"
     ]
    },
    {
     "name": "stderr",
     "output_type": "stream",
     "text": [
      "22:35:34 - cmdstanpy - INFO - Chain [1] start processing\n",
      "22:35:35 - cmdstanpy - INFO - Chain [1] done processing\n"
     ]
    },
    {
     "name": "stdout",
     "output_type": "stream",
     "text": [
      "It's underpredicted.\n",
      "Monthly Error: 58.57 Period MAE: 57.43000000000001\n",
      "It's underpredicted.\n",
      "Monthly Error: 66.85"
     ]
    },
    {
     "name": "stderr",
     "output_type": "stream",
     "text": [
      "22:35:36 - cmdstanpy - INFO - Chain [1] start processing\n"
     ]
    },
    {
     "name": "stdout",
     "output_type": "stream",
     "text": [
      " Period MAE: 25.11\n"
     ]
    },
    {
     "name": "stderr",
     "output_type": "stream",
     "text": [
      "22:35:36 - cmdstanpy - INFO - Chain [1] done processing\n",
      "22:35:36 - cmdstanpy - INFO - Chain [1] start processing\n",
      "22:35:36 - cmdstanpy - INFO - Chain [1] done processing\n"
     ]
    },
    {
     "name": "stdout",
     "output_type": "stream",
     "text": [
      "It's overpredicted.\n",
      "Monthly Error: 106.41 Period MAE: 101.2\n",
      "It's overpredicted.\n",
      "Monthly Error: 119.8 Period MAE: 44.59\n",
      "It's underpredicted.\n",
      "Monthly Error: 54.31 Period MAE: 51.24999999999999\n"
     ]
    },
    {
     "name": "stderr",
     "output_type": "stream",
     "text": [
      "22:35:38 - cmdstanpy - INFO - Chain [1] start processing\n",
      "22:35:38 - cmdstanpy - INFO - Chain [1] start processing\n",
      "22:35:38 - cmdstanpy - INFO - Chain [1] done processing\n",
      "22:35:39 - cmdstanpy - INFO - Chain [1] start processing\n",
      "22:35:39 - cmdstanpy - INFO - Chain [1] done processing\n"
     ]
    },
    {
     "name": "stdout",
     "output_type": "stream",
     "text": [
      "It's underpredicted.\n",
      "Monthly Error: 59.83 Period MAE: 58.42\n"
     ]
    },
    {
     "name": "stderr",
     "output_type": "stream",
     "text": [
      "22:35:40 - cmdstanpy - INFO - Chain [1] done processing\n",
      "22:35:40 - cmdstanpy - INFO - Chain [1] start processing\n",
      "22:35:40 - cmdstanpy - INFO - Chain [1] done processing\n"
     ]
    },
    {
     "name": "stdout",
     "output_type": "stream",
     "text": [
      "It's underpredicted.\n",
      "Monthly Error: 36.52 Period MAE: 13.120000000000001\n"
     ]
    },
    {
     "name": "stderr",
     "output_type": "stream",
     "text": [
      "22:35:41 - cmdstanpy - INFO - Chain [1] start processing\n"
     ]
    },
    {
     "name": "stdout",
     "output_type": "stream",
     "text": [
      "It's underpredicted.\n",
      "Monthly Error: 47.86 Period MAE: 39.629999999999995\n"
     ]
    },
    {
     "name": "stderr",
     "output_type": "stream",
     "text": [
      "22:35:42 - cmdstanpy - INFO - Chain [1] done processing\n",
      "22:35:42 - cmdstanpy - INFO - Chain [1] start processing\n",
      "22:35:42 - cmdstanpy - INFO - Chain [1] done processing\n"
     ]
    },
    {
     "name": "stdout",
     "output_type": "stream",
     "text": [
      "It's overpredicted.\n",
      "Monthly Error:It's underpredicted.\n",
      " 75.8Monthly Error: Period MAE:  37.8331.569999999999997\n",
      " Period MAE: 18.0\n",
      "It's underpredicted.\n",
      "Monthly Error: 57.77 Period MAE: 56.02\n"
     ]
    },
    {
     "name": "stderr",
     "output_type": "stream",
     "text": [
      "22:35:44 - cmdstanpy - INFO - Chain [1] start processing\n",
      "22:35:45 - cmdstanpy - INFO - Chain [1] start processing\n",
      "22:35:45 - cmdstanpy - INFO - Chain [1] start processing\n",
      "22:35:45 - cmdstanpy - INFO - Chain [1] done processing\n"
     ]
    },
    {
     "name": "stdout",
     "output_type": "stream",
     "text": [
      "It's underpredicted.\n"
     ]
    },
    {
     "name": "stderr",
     "output_type": "stream",
     "text": [
      "22:35:45 - cmdstanpy - INFO - Chain [1] done processing\n"
     ]
    },
    {
     "name": "stdout",
     "output_type": "stream",
     "text": [
      "Monthly Error: 23.94 Period MAE: 0.77\n"
     ]
    },
    {
     "name": "stderr",
     "output_type": "stream",
     "text": [
      "22:35:46 - cmdstanpy - INFO - Chain [1] done processing\n",
      "22:35:46 - cmdstanpy - INFO - Chain [1] start processing\n",
      "22:35:46 - cmdstanpy - INFO - Chain [1] done processing\n"
     ]
    },
    {
     "name": "stdout",
     "output_type": "stream",
     "text": [
      "It's underpredicted.\n",
      "Monthly Error: 52.13 Period MAE: 42.91\n"
     ]
    },
    {
     "name": "stderr",
     "output_type": "stream",
     "text": [
      "22:35:47 - cmdstanpy - INFO - Chain [1] start processing\n"
     ]
    },
    {
     "name": "stdout",
     "output_type": "stream",
     "text": [
      "It's underpredicted.\n",
      "Monthly Error: 50.23 Period MAE: 43.21\n"
     ]
    },
    {
     "name": "stderr",
     "output_type": "stream",
     "text": [
      "22:35:48 - cmdstanpy - INFO - Chain [1] done processing\n",
      "22:35:49 - cmdstanpy - INFO - Chain [1] start processing\n",
      "22:35:49 - cmdstanpy - INFO - Chain [1] done processing\n"
     ]
    },
    {
     "name": "stdout",
     "output_type": "stream",
     "text": [
      "It's underpredicted.\n",
      "Monthly Error: 79.45 Period MAE: 30.9\n",
      "It's overpredicted.\n",
      "Monthly Error: 26.19 Period MAE: 2.25\n",
      "It's underpredicted.\n",
      "Monthly Error: 47.41 Period MAE: 37.92\n"
     ]
    },
    {
     "name": "stderr",
     "output_type": "stream",
     "text": [
      "22:35:51 - cmdstanpy - INFO - Chain [1] start processing\n",
      "22:35:51 - cmdstanpy - INFO - Chain [1] start processing\n",
      "22:35:51 - cmdstanpy - INFO - Chain [1] done processing\n",
      "22:35:51 - cmdstanpy - INFO - Chain [1] start processing\n",
      "22:35:52 - cmdstanpy - INFO - Chain [1] done processing\n"
     ]
    },
    {
     "name": "stdout",
     "output_type": "stream",
     "text": [
      "It's underpredicted.\n",
      "Monthly Error: 64.75 Period MAE:It's overpredicted.\n",
      "Monthly Error: 46.58 \n",
      "75.71 Period MAE: 60.31999999999999\n"
     ]
    },
    {
     "name": "stderr",
     "output_type": "stream",
     "text": [
      "22:35:53 - cmdstanpy - INFO - Chain [1] start processing\n",
      "22:35:53 - cmdstanpy - INFO - Chain [1] done processing\n",
      "22:35:53 - cmdstanpy - INFO - Chain [1] start processing\n",
      "22:35:53 - cmdstanpy - INFO - Chain [1] done processing\n",
      "22:35:53 - cmdstanpy - INFO - Chain [1] done processing\n"
     ]
    },
    {
     "name": "stdout",
     "output_type": "stream",
     "text": [
      "It's underpredicted.\n",
      "Monthly Error: 61.75 Period MAE: 47.61\n",
      "It's underpredicted.\n",
      "Monthly Error: 46.98"
     ]
    },
    {
     "name": "stderr",
     "output_type": "stream",
     "text": [
      "22:35:56 - cmdstanpy - INFO - Chain [1] start processing\n"
     ]
    },
    {
     "name": "stdout",
     "output_type": "stream",
     "text": [
      " Period MAE: 31.97\n"
     ]
    },
    {
     "name": "stderr",
     "output_type": "stream",
     "text": [
      "22:35:56 - cmdstanpy - INFO - Chain [1] done processing\n"
     ]
    },
    {
     "name": "stdout",
     "output_type": "stream",
     "text": [
      "It's underpredicted.\n",
      "It's overpredicted.Monthly Error:\n",
      " 80.2Monthly Error: Period MAE:  80.47999999999999\n",
      "72.67 Period MAE: 57.599999999999994\n"
     ]
    },
    {
     "name": "stderr",
     "output_type": "stream",
     "text": [
      "22:35:57 - cmdstanpy - INFO - Chain [1] start processing\n",
      "22:35:57 - cmdstanpy - INFO - Chain [1] start processing\n",
      "22:35:57 - cmdstanpy - INFO - Chain [1] done processing\n",
      "22:35:58 - cmdstanpy - INFO - Chain [1] start processing\n",
      "22:35:58 - cmdstanpy - INFO - Chain [1] done processing\n",
      "22:35:58 - cmdstanpy - INFO - Chain [1] done processing\n"
     ]
    },
    {
     "name": "stdout",
     "output_type": "stream",
     "text": [
      "It's underpredicted.\n",
      "Monthly Error: 63.3 Period MAE: 44.32\n"
     ]
    },
    {
     "name": "stderr",
     "output_type": "stream",
     "text": [
      "22:35:59 - cmdstanpy - INFO - Chain [1] start processing\n"
     ]
    },
    {
     "name": "stdout",
     "output_type": "stream",
     "text": [
      "It's underpredicted.\n",
      "Monthly Error: 44.62 Period MAE: 39.65\n"
     ]
    },
    {
     "name": "stderr",
     "output_type": "stream",
     "text": [
      "22:35:59 - cmdstanpy - INFO - Chain [1] done processing\n"
     ]
    },
    {
     "name": "stdout",
     "output_type": "stream",
     "text": [
      "It's underpredicted.\n",
      "Monthly Error: 71.03"
     ]
    },
    {
     "name": "stderr",
     "output_type": "stream",
     "text": [
      "22:36:00 - cmdstanpy - INFO - Chain [1] start processing\n"
     ]
    },
    {
     "name": "stdout",
     "output_type": "stream",
     "text": [
      " Period MAE: 26.97\n"
     ]
    },
    {
     "name": "stderr",
     "output_type": "stream",
     "text": [
      "22:36:00 - cmdstanpy - INFO - Chain [1] done processing\n",
      "22:36:01 - cmdstanpy - INFO - Chain [1] start processing\n",
      "22:36:01 - cmdstanpy - INFO - Chain [1] done processing\n"
     ]
    },
    {
     "name": "stdout",
     "output_type": "stream",
     "text": [
      "It's underpredicted.\n",
      "Monthly Error: 59.51It's underpredicted. \n",
      "Period MAE:Monthly Error:  1.46\n",
      "62.42 Period MAE: 48.76\n",
      "It's overpredicted.\n",
      "Monthly Error: 62.39 Period MAE: 60.519999999999996\n"
     ]
    },
    {
     "name": "stderr",
     "output_type": "stream",
     "text": [
      "22:36:04 - cmdstanpy - INFO - Chain [1] start processing\n",
      "22:36:04 - cmdstanpy - INFO - Chain [1] start processing\n",
      "22:36:04 - cmdstanpy - INFO - Chain [1] start processing\n",
      "22:36:04 - cmdstanpy - INFO - Chain [1] done processing\n",
      "22:36:05 - cmdstanpy - INFO - Chain [1] done processing\n",
      "22:36:05 - cmdstanpy - INFO - Chain [1] done processing\n"
     ]
    },
    {
     "name": "stdout",
     "output_type": "stream",
     "text": [
      "It's overpredicted.\n",
      "Monthly Error: 46.14 Period MAE: 42.02\n"
     ]
    },
    {
     "name": "stderr",
     "output_type": "stream",
     "text": [
      "22:36:06 - cmdstanpy - INFO - Chain [1] start processing\n",
      "22:36:06 - cmdstanpy - INFO - Chain [1] done processing\n"
     ]
    },
    {
     "name": "stdout",
     "output_type": "stream",
     "text": [
      "It's underpredicted.\n",
      "Monthly Error: 70.44 Period MAE: 50.449999999999996\n"
     ]
    },
    {
     "name": "stderr",
     "output_type": "stream",
     "text": [
      "22:36:07 - cmdstanpy - INFO - Chain [1] start processing\n",
      "22:36:07 - cmdstanpy - INFO - Chain [1] done processing\n"
     ]
    },
    {
     "name": "stdout",
     "output_type": "stream",
     "text": [
      "It's underpredicted.\n",
      "Monthly Error: 70.73 Period MAE: 26.75\n"
     ]
    },
    {
     "name": "stderr",
     "output_type": "stream",
     "text": [
      "22:36:08 - cmdstanpy - INFO - Chain [1] start processing\n",
      "22:36:08 - cmdstanpy - INFO - Chain [1] done processing\n"
     ]
    },
    {
     "name": "stdout",
     "output_type": "stream",
     "text": [
      "It's underpredicted.\n",
      "Monthly Error: 69.11 Period MAE: 54.39000000000001\n",
      "It's overpredicted.\n",
      "Monthly Error: 53.9 Period MAE: 50.9\n",
      "It's underpredicted.\n",
      "Monthly Error: 79.65"
     ]
    },
    {
     "name": "stderr",
     "output_type": "stream",
     "text": [
      "22:36:10 - cmdstanpy - INFO - Chain [1] start processing\n"
     ]
    },
    {
     "name": "stdout",
     "output_type": "stream",
     "text": [
      " Period MAE: 79.95\n"
     ]
    },
    {
     "name": "stderr",
     "output_type": "stream",
     "text": [
      "22:36:10 - cmdstanpy - INFO - Chain [1] start processing\n",
      "22:36:11 - cmdstanpy - INFO - Chain [1] done processing\n",
      "22:36:11 - cmdstanpy - INFO - Chain [1] start processing\n",
      "22:36:11 - cmdstanpy - INFO - Chain [1] done processing\n",
      "22:36:11 - cmdstanpy - INFO - Chain [1] done processing\n"
     ]
    },
    {
     "name": "stdout",
     "output_type": "stream",
     "text": [
      "It's overpredicted.\n",
      "Monthly Error: 110.11 Period MAE: 89.63\n",
      "It's underpredicted.\n",
      "Monthly Error: 53.22 Period MAE: 52.300000000000004\n"
     ]
    },
    {
     "name": "stderr",
     "output_type": "stream",
     "text": [
      "22:36:12 - cmdstanpy - INFO - Chain [1] start processing\n",
      "22:36:13 - cmdstanpy - INFO - Chain [1] done processing\n",
      "22:36:13 - cmdstanpy - INFO - Chain [1] start processing\n"
     ]
    },
    {
     "name": "stdout",
     "output_type": "stream",
     "text": [
      "It's underpredicted.\n",
      "Monthly Error: 78.05 Period MAE: 32.190000000000005\n"
     ]
    },
    {
     "name": "stderr",
     "output_type": "stream",
     "text": [
      "22:36:14 - cmdstanpy - INFO - Chain [1] done processing\n",
      "22:36:14 - cmdstanpy - INFO - Chain [1] start processing\n",
      "22:36:14 - cmdstanpy - INFO - Chain [1] done processing\n"
     ]
    },
    {
     "name": "stdout",
     "output_type": "stream",
     "text": [
      "It's underpredicted.\n",
      "Monthly Error: 52.21 Period MAE: 52.12\n",
      "It's overpredicted.\n",
      "Monthly Error: 127.74 Period MAE: 105.04\n",
      "It's overpredicted.\n",
      "Monthly Error: 136.56 Period MAE: 36.59\n"
     ]
    },
    {
     "name": "stderr",
     "output_type": "stream",
     "text": [
      "22:36:17 - cmdstanpy - INFO - Chain [1] start processing\n",
      "22:36:17 - cmdstanpy - INFO - Chain [1] start processing\n",
      "22:36:17 - cmdstanpy - INFO - Chain [1] done processing\n",
      "22:36:17 - cmdstanpy - INFO - Chain [1] start processing\n",
      "22:36:18 - cmdstanpy - INFO - Chain [1] done processing\n",
      "22:36:18 - cmdstanpy - INFO - Chain [1] done processing\n"
     ]
    },
    {
     "name": "stdout",
     "output_type": "stream",
     "text": [
      "It's overpredicted.\n",
      "Monthly Error: 132.25 Period MAE: 33.650000000000006\n",
      "It's underpredicted."
     ]
    },
    {
     "name": "stderr",
     "output_type": "stream",
     "text": [
      "22:36:18 - cmdstanpy - INFO - Chain [1] start processing\n"
     ]
    },
    {
     "name": "stdout",
     "output_type": "stream",
     "text": [
      "\n",
      "Monthly Error: 47.86 Period MAE: 48.57\n"
     ]
    },
    {
     "name": "stderr",
     "output_type": "stream",
     "text": [
      "22:36:19 - cmdstanpy - INFO - Chain [1] done processing\n",
      "22:36:19 - cmdstanpy - INFO - Chain [1] start processing\n",
      "22:36:19 - cmdstanpy - INFO - Chain [1] done processing\n"
     ]
    },
    {
     "name": "stdout",
     "output_type": "stream",
     "text": [
      "It's underpredicted.\n",
      "Monthly Error: 53.11 Period MAE: 28.57\n"
     ]
    },
    {
     "name": "stderr",
     "output_type": "stream",
     "text": [
      "22:36:21 - cmdstanpy - INFO - Chain [1] start processing\n",
      "22:36:21 - cmdstanpy - INFO - Chain [1] done processing\n"
     ]
    },
    {
     "name": "stdout",
     "output_type": "stream",
     "text": [
      "It's underpredicted.\n",
      "Monthly Error: 51.37 Period MAE: 51.910000000000004\n",
      "It's overpredicted.\n",
      "Monthly Error: 75.47 It's overpredicted.\n",
      "Period MAE: Monthly Error: 142.7773.21\n",
      " Period MAE: 48.010000000000005\n"
     ]
    },
    {
     "name": "stderr",
     "output_type": "stream",
     "text": [
      "22:36:23 - cmdstanpy - INFO - Chain [1] start processing\n",
      "22:36:23 - cmdstanpy - INFO - Chain [1] start processing\n",
      "22:36:23 - cmdstanpy - INFO - Chain [1] done processing\n",
      "22:36:23 - cmdstanpy - INFO - Chain [1] start processing\n",
      "22:36:24 - cmdstanpy - INFO - Chain [1] done processing\n",
      "22:36:24 - cmdstanpy - INFO - Chain [1] done processing\n"
     ]
    },
    {
     "name": "stdout",
     "output_type": "stream",
     "text": [
      "It's overpredicted.\n",
      "Monthly Error: 72.59 Period MAE: It's underpredicted.70.50999999999999\n",
      "Monthly Error:\n",
      " 56.14 Period MAE: 56.8\n"
     ]
    },
    {
     "name": "stderr",
     "output_type": "stream",
     "text": [
      "22:36:25 - cmdstanpy - INFO - Chain [1] start processing\n",
      "22:36:25 - cmdstanpy - INFO - Chain [1] done processing\n",
      "22:36:25 - cmdstanpy - INFO - Chain [1] start processing\n",
      "22:36:26 - cmdstanpy - INFO - Chain [1] done processing\n"
     ]
    },
    {
     "name": "stdout",
     "output_type": "stream",
     "text": [
      "It's underpredicted.\n",
      "Monthly Error: 37.6 Period MAE: 29.26\n"
     ]
    },
    {
     "name": "stderr",
     "output_type": "stream",
     "text": [
      "22:36:27 - cmdstanpy - INFO - Chain [1] start processing\n",
      "22:36:27 - cmdstanpy - INFO - Chain [1] done processing\n"
     ]
    },
    {
     "name": "stdout",
     "output_type": "stream",
     "text": [
      "It's underpredicted.\n",
      "Monthly Error: 54.4 Period MAE: 54.99000000000001\n",
      "It's overpredicted.\n",
      "Monthly Error: 78.66 Period MAE: 75.17\n",
      "It's overpredicted.\n",
      "Monthly Error: 101.78 Period MAE: 38.11\n"
     ]
    },
    {
     "name": "stderr",
     "output_type": "stream",
     "text": [
      "22:36:29 - cmdstanpy - INFO - Chain [1] start processing\n",
      "22:36:29 - cmdstanpy - INFO - Chain [1] start processing\n",
      "22:36:29 - cmdstanpy - INFO - Chain [1] start processing\n",
      "22:36:30 - cmdstanpy - INFO - Chain [1] done processing\n",
      "22:36:30 - cmdstanpy - INFO - Chain [1] done processing\n",
      "22:36:30 - cmdstanpy - INFO - Chain [1] done processing\n"
     ]
    },
    {
     "name": "stdout",
     "output_type": "stream",
     "text": [
      "It's underpredicted.\n",
      "Monthly Error: 72.81 Period MAE: It's overpredicted.49.21\n",
      "\n",
      "Monthly Error: 161.73 Period MAE: 146.67\n"
     ]
    },
    {
     "name": "stderr",
     "output_type": "stream",
     "text": [
      "22:36:31 - cmdstanpy - INFO - Chain [1] start processing\n",
      "22:36:31 - cmdstanpy - INFO - Chain [1] done processing\n"
     ]
    },
    {
     "name": "stdout",
     "output_type": "stream",
     "text": [
      "It's underpredicted.\n",
      "Monthly Error: 55.35 Period MAE: 33.83\n"
     ]
    },
    {
     "name": "stderr",
     "output_type": "stream",
     "text": [
      "22:36:32 - cmdstanpy - INFO - Chain [1] start processing\n",
      "22:36:32 - cmdstanpy - INFO - Chain [1] start processing\n",
      "22:36:33 - cmdstanpy - INFO - Chain [1] done processing\n",
      "22:36:33 - cmdstanpy - INFO - Chain [1] done processing\n"
     ]
    },
    {
     "name": "stdout",
     "output_type": "stream",
     "text": [
      "It's overpredicted.\n",
      "Monthly Error: 94.51 Period MAE: 55.94\n",
      "It's underpredicted.\n",
      "Monthly Error: 70.17 Period MAE: 48.04\n"
     ]
    },
    {
     "name": "stderr",
     "output_type": "stream",
     "text": [
      "22:36:35 - cmdstanpy - INFO - Chain [1] start processing\n"
     ]
    },
    {
     "name": "stdout",
     "output_type": "stream",
     "text": [
      "It's underpredicted.\n",
      "Monthly Error: 46.82 Period MAE: 7.109999999999999\n"
     ]
    },
    {
     "name": "stderr",
     "output_type": "stream",
     "text": [
      "22:36:35 - cmdstanpy - INFO - Chain [1] start processing\n",
      "22:36:36 - cmdstanpy - INFO - Chain [1] start processing\n",
      "22:36:36 - cmdstanpy - INFO - Chain [1] done processing\n"
     ]
    },
    {
     "name": "stdout",
     "output_type": "stream",
     "text": [
      "It's underpredicted.\n",
      "Monthly Error: 24.44 Period MAE: 4.55\n"
     ]
    },
    {
     "name": "stderr",
     "output_type": "stream",
     "text": [
      "22:36:36 - cmdstanpy - INFO - Chain [1] done processing\n",
      "22:36:37 - cmdstanpy - INFO - Chain [1] done processing\n",
      "22:36:37 - cmdstanpy - INFO - Chain [1] start processing\n",
      "22:36:37 - cmdstanpy - INFO - Chain [1] done processing\n"
     ]
    },
    {
     "name": "stdout",
     "output_type": "stream",
     "text": [
      "It's underpredicted.\n",
      "Monthly Error: 72.95 Period MAE: 49.480000000000004\n"
     ]
    },
    {
     "name": "stderr",
     "output_type": "stream",
     "text": [
      "22:36:38 - cmdstanpy - INFO - Chain [1] start processing\n"
     ]
    },
    {
     "name": "stdout",
     "output_type": "stream",
     "text": [
      "It's underpredicted.\n",
      "Monthly Error: "
     ]
    },
    {
     "name": "stderr",
     "output_type": "stream",
     "text": [
      "22:36:39 - cmdstanpy - INFO - Chain [1] done processing\n"
     ]
    },
    {
     "name": "stdout",
     "output_type": "stream",
     "text": [
      "70.83 Period MAE: 36.480000000000004\n"
     ]
    },
    {
     "name": "stderr",
     "output_type": "stream",
     "text": [
      "22:36:39 - cmdstanpy - INFO - Chain [1] start processing\n",
      "22:36:40 - cmdstanpy - INFO - Chain [1] done processing\n"
     ]
    },
    {
     "name": "stdout",
     "output_type": "stream",
     "text": [
      "It's overpredicted.\n",
      "Monthly Error: 24.27 Period MAE: 0.77\n",
      "It's underpredicted.\n",
      "Monthly Error: 68.83 Period MAE: 46.660000000000004\n",
      "It's overpredicted.\n",
      "Monthly Error: 63.96 Period MAE: 55.720000000000006\n"
     ]
    },
    {
     "name": "stderr",
     "output_type": "stream",
     "text": [
      "22:36:41 - cmdstanpy - INFO - Chain [1] start processing\n",
      "22:36:41 - cmdstanpy - INFO - Chain [1] start processing\n",
      "22:36:41 - cmdstanpy - INFO - Chain [1] done processing\n",
      "22:36:42 - cmdstanpy - INFO - Chain [1] start processing\n",
      "22:36:42 - cmdstanpy - INFO - Chain [1] done processing\n",
      "22:36:43 - cmdstanpy - INFO - Chain [1] done processing\n"
     ]
    },
    {
     "name": "stdout",
     "output_type": "stream",
     "text": [
      "It's underpredicted.\n",
      "Monthly Error: 72.41 Period MAE: 46.300000000000004\n",
      "It's overpredicted.\n",
      "Monthly Error: 79.99 Period MAE: 76.28\n"
     ]
    },
    {
     "name": "stderr",
     "output_type": "stream",
     "text": [
      "22:36:44 - cmdstanpy - INFO - Chain [1] start processing\n",
      "22:36:44 - cmdstanpy - INFO - Chain [1] done processing\n",
      "22:36:44 - cmdstanpy - INFO - Chain [1] start processing\n",
      "22:36:45 - cmdstanpy - INFO - Chain [1] done processing\n"
     ]
    },
    {
     "name": "stdout",
     "output_type": "stream",
     "text": [
      "It's underpredicted.\n",
      "Monthly Error: 70.34 Period MAE: 36.480000000000004\n"
     ]
    },
    {
     "name": "stderr",
     "output_type": "stream",
     "text": [
      "22:36:46 - cmdstanpy - INFO - Chain [1] start processing\n"
     ]
    },
    {
     "name": "stdout",
     "output_type": "stream",
     "text": [
      "It's overpredicted.\n",
      "Monthly Error: 84.17"
     ]
    },
    {
     "name": "stderr",
     "output_type": "stream",
     "text": [
      "22:36:46 - cmdstanpy - INFO - Chain [1] done processing\n"
     ]
    },
    {
     "name": "stdout",
     "output_type": "stream",
     "text": [
      " Period MAE: 80.32000000000001\n",
      "It's underpredicted.\n",
      "Monthly Error: 68.58 Period MAE: 38.89\n",
      "It's overpredicted.\n",
      "Monthly Error: 52.05 Period MAE: 9.53\n"
     ]
    },
    {
     "name": "stderr",
     "output_type": "stream",
     "text": [
      "22:36:48 - cmdstanpy - INFO - Chain [1] start processing\n",
      "22:36:48 - cmdstanpy - INFO - Chain [1] start processing\n",
      "22:36:48 - cmdstanpy - INFO - Chain [1] start processing\n",
      "22:36:48 - cmdstanpy - INFO - Chain [1] done processing\n",
      "22:36:49 - cmdstanpy - INFO - Chain [1] done processing\n",
      "22:36:49 - cmdstanpy - INFO - Chain [1] done processing\n"
     ]
    },
    {
     "name": "stdout",
     "output_type": "stream",
     "text": [
      "It's underpredicted.\n",
      "Monthly Error: 57.66 Period MAE: 55.86\n"
     ]
    },
    {
     "name": "stderr",
     "output_type": "stream",
     "text": [
      "22:36:50 - cmdstanpy - INFO - Chain [1] start processing\n",
      "22:36:50 - cmdstanpy - INFO - Chain [1] done processing\n"
     ]
    },
    {
     "name": "stdout",
     "output_type": "stream",
     "text": [
      "It's overpredicted.\n",
      "Monthly Error: 82.54 Period MAE: 78.10000000000001\n"
     ]
    },
    {
     "name": "stderr",
     "output_type": "stream",
     "text": [
      "22:36:51 - cmdstanpy - INFO - Chain [1] start processing\n"
     ]
    },
    {
     "name": "stdout",
     "output_type": "stream",
     "text": [
      "It's underpredicted.\n",
      "Monthly Error: 70.94 Period MAE: 34.510000000000005\n"
     ]
    },
    {
     "name": "stderr",
     "output_type": "stream",
     "text": [
      "22:36:51 - cmdstanpy - INFO - Chain [1] done processing\n",
      "22:36:52 - cmdstanpy - INFO - Chain [1] start processing\n",
      "22:36:52 - cmdstanpy - INFO - Chain [1] done processing\n"
     ]
    },
    {
     "name": "stdout",
     "output_type": "stream",
     "text": [
      "It's overpredicted.\n",
      "Monthly Error: 91.34 Period MAE: 86.58\n",
      "It's underpredicted.\n",
      "Monthly Error: 55.26 Period MAE: 52.62\n",
      "It's overpredicted.\n",
      "Monthly Error: 105.86 Period MAE: 34.300000000000004\n"
     ]
    },
    {
     "name": "stderr",
     "output_type": "stream",
     "text": [
      "22:36:54 - cmdstanpy - INFO - Chain [1] start processing\n",
      "22:36:54 - cmdstanpy - INFO - Chain [1] start processing\n",
      "22:36:54 - cmdstanpy - INFO - Chain [1] start processing\n",
      "22:36:54 - cmdstanpy - INFO - Chain [1] done processing\n",
      "22:36:55 - cmdstanpy - INFO - Chain [1] done processing\n",
      "22:36:55 - cmdstanpy - INFO - Chain [1] done processing\n"
     ]
    },
    {
     "name": "stdout",
     "output_type": "stream",
     "text": [
      "It's underpredicted.\n",
      "Monthly Error: 59.22 Period MAE: 57.57\n",
      "It's underpredicted.\n",
      "Monthly Error: 40.43 Period MAE: 20.669999999999998\n"
     ]
    },
    {
     "name": "stderr",
     "output_type": "stream",
     "text": [
      "22:36:56 - cmdstanpy - INFO - Chain [1] start processing\n",
      "22:36:56 - cmdstanpy - INFO - Chain [1] done processing\n",
      "22:36:57 - cmdstanpy - INFO - Chain [1] start processing\n",
      "22:36:57 - cmdstanpy - INFO - Chain [1] done processing\n"
     ]
    },
    {
     "name": "stdout",
     "output_type": "stream",
     "text": [
      "It's underpredicted.\n",
      "Monthly Error: 51.15 Period MAE: 45.269999999999996\n"
     ]
    },
    {
     "name": "stderr",
     "output_type": "stream",
     "text": [
      "22:36:58 - cmdstanpy - INFO - Chain [1] start processing\n",
      "22:36:58 - cmdstanpy - INFO - Chain [1] done processing\n"
     ]
    },
    {
     "name": "stdout",
     "output_type": "stream",
     "text": [
      "It's underpredicted.\n",
      "Monthly Error: 40.87 Period MAE: 19.85\n",
      "It's underpredicted.\n",
      "Monthly Error: 58.03 Period MAE: 55.75\n",
      "It's overpredicted.\n",
      "Monthly Error: 67.57 Period MAE: 21.36\n"
     ]
    },
    {
     "name": "stderr",
     "output_type": "stream",
     "text": [
      "22:37:00 - cmdstanpy - INFO - Chain [1] start processing\n",
      "22:37:00 - cmdstanpy - INFO - Chain [1] start processing\n",
      "22:37:00 - cmdstanpy - INFO - Chain [1] done processing\n",
      "22:37:00 - cmdstanpy - INFO - Chain [1] start processing\n",
      "22:37:01 - cmdstanpy - INFO - Chain [1] done processing\n",
      "22:37:02 - cmdstanpy - INFO - Chain [1] done processing\n"
     ]
    },
    {
     "name": "stdout",
     "output_type": "stream",
     "text": [
      "It's underpredicted.\n",
      "Monthly Error: 52.47 It's overpredicted.Period MAE:\n",
      " Monthly Error:44.82 \n",
      "24.52 Period MAE: 0.01\n"
     ]
    },
    {
     "name": "stderr",
     "output_type": "stream",
     "text": [
      "22:37:03 - cmdstanpy - INFO - Chain [1] start processing\n",
      "22:37:03 - cmdstanpy - INFO - Chain [1] done processing\n",
      "22:37:04 - cmdstanpy - INFO - Chain [1] start processing\n",
      "22:37:04 - cmdstanpy - INFO - Chain [1] done processing\n"
     ]
    },
    {
     "name": "stdout",
     "output_type": "stream",
     "text": [
      "It's underpredicted.\n",
      "Monthly Error: 50.54 Period MAE: 43.980000000000004\n",
      "It's underpredicted.\n",
      "Monthly Error: 51.04 Period MAE: "
     ]
    },
    {
     "name": "stderr",
     "output_type": "stream",
     "text": [
      "22:37:06 - cmdstanpy - INFO - Chain [1] start processing\n"
     ]
    },
    {
     "name": "stdout",
     "output_type": "stream",
     "text": [
      "43.8\n"
     ]
    },
    {
     "name": "stderr",
     "output_type": "stream",
     "text": [
      "22:37:06 - cmdstanpy - INFO - Chain [1] done processing\n"
     ]
    },
    {
     "name": "stdout",
     "output_type": "stream",
     "text": [
      "It's overpredicted.\n",
      "Monthly Error: 25.63 Period MAE: 1.37\n"
     ]
    },
    {
     "name": "stderr",
     "output_type": "stream",
     "text": [
      "22:37:07 - cmdstanpy - INFO - Chain [1] start processing\n"
     ]
    },
    {
     "name": "stdout",
     "output_type": "stream",
     "text": [
      "It's overpredicted.\n",
      "Monthly Error: 108.98 Period MAE: 30.45\n"
     ]
    },
    {
     "name": "stderr",
     "output_type": "stream",
     "text": [
      "22:37:08 - cmdstanpy - INFO - Chain [1] start processing\n",
      "22:37:08 - cmdstanpy - INFO - Chain [1] done processing\n",
      "22:37:08 - cmdstanpy - INFO - Chain [1] start processing\n",
      "22:37:08 - cmdstanpy - INFO - Chain [1] done processing\n",
      "22:37:09 - cmdstanpy - INFO - Chain [1] done processing\n"
     ]
    },
    {
     "name": "stdout",
     "output_type": "stream",
     "text": [
      "It's overpredicted.\n",
      "Monthly Error: 73.95 Period MAE: It's underpredicted.58.660000000000004\n",
      "\n",
      "Monthly Error: 64.4 Period MAE: 46.31\n"
     ]
    },
    {
     "name": "stderr",
     "output_type": "stream",
     "text": [
      "22:37:10 - cmdstanpy - INFO - Chain [1] start processing\n"
     ]
    },
    {
     "name": "stdout",
     "output_type": "stream",
     "text": [
      "It's underpredicted.\n",
      "Monthly Error: 48.14 Period MAE: "
     ]
    },
    {
     "name": "stderr",
     "output_type": "stream",
     "text": [
      "22:37:10 - cmdstanpy - INFO - Chain [1] done processing\n"
     ]
    },
    {
     "name": "stdout",
     "output_type": "stream",
     "text": [
      "38.53\n"
     ]
    },
    {
     "name": "stderr",
     "output_type": "stream",
     "text": [
      "22:37:10 - cmdstanpy - INFO - Chain [1] start processing\n",
      "22:37:11 - cmdstanpy - INFO - Chain [1] done processing\n",
      "22:37:11 - cmdstanpy - INFO - Chain [1] start processing\n",
      "22:37:11 - cmdstanpy - INFO - Chain [1] done processing\n"
     ]
    },
    {
     "name": "stdout",
     "output_type": "stream",
     "text": [
      "It's underpredicted.\n",
      "Monthly Error: 63.06 Period MAE: 47.57\n",
      "It's overpredicted.\n",
      "Monthly Error: 81.98 Period MAE: 67.06\n"
     ]
    },
    {
     "name": "stderr",
     "output_type": "stream",
     "text": [
      "22:37:13 - cmdstanpy - INFO - Chain [1] start processing\n",
      "22:37:13 - cmdstanpy - INFO - Chain [1] start processing\n",
      "22:37:14 - cmdstanpy - INFO - Chain [1] done processing\n"
     ]
    },
    {
     "name": "stdout",
     "output_type": "stream",
     "text": [
      "It's underpredicted.\n",
      "It's underpredicted.Monthly Error:\n",
      " Monthly Error:80.04  80.48Period MAE:  Period MAE:80.31\n",
      " 80.74\n"
     ]
    },
    {
     "name": "stderr",
     "output_type": "stream",
     "text": [
      "22:37:14 - cmdstanpy - INFO - Chain [1] done processing\n",
      "22:37:15 - cmdstanpy - INFO - Chain [1] start processing\n",
      "22:37:15 - cmdstanpy - INFO - Chain [1] start processing\n",
      "22:37:15 - cmdstanpy - INFO - Chain [1] done processing\n",
      "22:37:15 - cmdstanpy - INFO - Chain [1] done processing\n"
     ]
    },
    {
     "name": "stdout",
     "output_type": "stream",
     "text": [
      "It's underpredicted.\n",
      "Monthly Error: 63.27 It's underpredicted.Period MAE:\n",
      " Monthly Error:44.81 66.09\n",
      " Period MAE: 31.65\n"
     ]
    },
    {
     "name": "stderr",
     "output_type": "stream",
     "text": [
      "22:37:17 - cmdstanpy - INFO - Chain [1] start processing\n",
      "22:37:17 - cmdstanpy - INFO - Chain [1] start processing\n",
      "22:37:17 - cmdstanpy - INFO - Chain [1] done processing\n",
      "22:37:17 - cmdstanpy - INFO - Chain [1] done processing\n"
     ]
    },
    {
     "name": "stdout",
     "output_type": "stream",
     "text": [
      "It's underpredicted.\n",
      "Monthly Error: 71.05 Period MAE: 72.11\n",
      "It's overpredicted.\n",
      "Monthly Error: 58.99 Period MAE: 57.16\n",
      "It's underpredicted.\n",
      "Monthly Error: 62.87 Period MAE: 47.38\n"
     ]
    },
    {
     "name": "stderr",
     "output_type": "stream",
     "text": [
      "22:37:19 - cmdstanpy - INFO - Chain [1] start processing\n",
      "22:37:19 - cmdstanpy - INFO - Chain [1] start processing\n",
      "22:37:20 - cmdstanpy - INFO - Chain [1] done processing\n",
      "22:37:20 - cmdstanpy - INFO - Chain [1] done processing\n",
      "22:37:20 - cmdstanpy - INFO - Chain [1] start processing\n",
      "22:37:20 - cmdstanpy - INFO - Chain [1] done processing\n"
     ]
    },
    {
     "name": "stdout",
     "output_type": "stream",
     "text": [
      "It's overpredicted.\n",
      "Monthly Error: 52.72 Period MAE: 51.080000000000005\n",
      "It's underpredicted.\n",
      "Monthly Error: 67.81 Period MAE: 49.04\n"
     ]
    },
    {
     "name": "stderr",
     "output_type": "stream",
     "text": [
      "22:37:21 - cmdstanpy - INFO - Chain [1] start processing\n",
      "22:37:22 - cmdstanpy - INFO - Chain [1] done processing\n",
      "22:37:22 - cmdstanpy - INFO - Chain [1] start processing\n"
     ]
    },
    {
     "name": "stdout",
     "output_type": "stream",
     "text": [
      "It's underpredicted.\n",
      "Monthly Error: "
     ]
    },
    {
     "name": "stderr",
     "output_type": "stream",
     "text": [
      "22:37:22 - cmdstanpy - INFO - Chain [1] done processing\n"
     ]
    },
    {
     "name": "stdout",
     "output_type": "stream",
     "text": [
      "66.04 Period MAE: 31.380000000000003\n"
     ]
    },
    {
     "name": "stderr",
     "output_type": "stream",
     "text": [
      "22:37:23 - cmdstanpy - INFO - Chain [1] start processing\n",
      "22:37:23 - cmdstanpy - INFO - Chain [1] done processing\n"
     ]
    },
    {
     "name": "stdout",
     "output_type": "stream",
     "text": [
      "It's underpredicted.\n",
      "Monthly Error: 64.78 Period MAE: 48.1\n",
      "It's overpredicted.\n",
      "Monthly Error: 63.83 Period MAE: 61.260000000000005\n",
      "It's underpredicted.\n",
      "Monthly Error: 79.84 Period MAE: "
     ]
    },
    {
     "name": "stderr",
     "output_type": "stream",
     "text": [
      "22:37:25 - cmdstanpy - INFO - Chain [1] start processing\n"
     ]
    },
    {
     "name": "stdout",
     "output_type": "stream",
     "text": [
      "80.12\n"
     ]
    },
    {
     "name": "stderr",
     "output_type": "stream",
     "text": [
      "22:37:25 - cmdstanpy - INFO - Chain [1] start processing\n",
      "22:37:26 - cmdstanpy - INFO - Chain [1] done processing\n",
      "22:37:26 - cmdstanpy - INFO - Chain [1] done processing\n",
      "22:37:26 - cmdstanpy - INFO - Chain [1] start processing\n",
      "22:37:27 - cmdstanpy - INFO - Chain [1] done processing\n"
     ]
    },
    {
     "name": "stdout",
     "output_type": "stream",
     "text": [
      "It's underpredicted.\n",
      "Monthly Error: 80.2It's underpredicted.\n",
      " Monthly Error:Period MAE:  80.4755.09\n",
      " Period MAE: 55.730000000000004\n"
     ]
    },
    {
     "name": "stderr",
     "output_type": "stream",
     "text": [
      "22:37:28 - cmdstanpy - INFO - Chain [1] start processing\n",
      "22:37:28 - cmdstanpy - INFO - Chain [1] done processing\n",
      "22:37:28 - cmdstanpy - INFO - Chain [1] start processing\n"
     ]
    },
    {
     "name": "stdout",
     "output_type": "stream",
     "text": [
      "It's underpredicted.\n",
      "Monthly Error: 70.14 Period MAE: 34.55\n"
     ]
    },
    {
     "name": "stderr",
     "output_type": "stream",
     "text": [
      "22:37:28 - cmdstanpy - INFO - Chain [1] done processing\n",
      "22:37:29 - cmdstanpy - INFO - Chain [1] start processing\n",
      "22:37:29 - cmdstanpy - INFO - Chain [1] done processing\n"
     ]
    },
    {
     "name": "stdout",
     "output_type": "stream",
     "text": [
      "It's underpredicted.\n",
      "Monthly Error: 52.98 Period MAE: 53.559999999999995\n",
      "It's overpredicted.\n",
      "Monthly Error:It's underpredicted. 132.84\n",
      " Period MAE:Monthly Error:  "
     ]
    },
    {
     "name": "stderr",
     "output_type": "stream",
     "text": [
      "22:37:31 - cmdstanpy - INFO - Chain [1] start processing\n"
     ]
    },
    {
     "name": "stdout",
     "output_type": "stream",
     "text": [
      "33.671.05\n",
      " 72.1Period MAE: \n"
     ]
    },
    {
     "name": "stderr",
     "output_type": "stream",
     "text": [
      "22:37:32 - cmdstanpy - INFO - Chain [1] start processing\n",
      "22:37:32 - cmdstanpy - INFO - Chain [1] done processing\n",
      "22:37:32 - cmdstanpy - INFO - Chain [1] done processing\n",
      "22:37:33 - cmdstanpy - INFO - Chain [1] start processing\n",
      "22:37:33 - cmdstanpy - INFO - Chain [1] done processing\n"
     ]
    },
    {
     "name": "stdout",
     "output_type": "stream",
     "text": [
      "It's overpredicted.\n",
      "Monthly Error: 134.67 Period MAE: 37.480000000000004\n"
     ]
    },
    {
     "name": "stderr",
     "output_type": "stream",
     "text": [
      "22:37:34 - cmdstanpy - INFO - Chain [1] start processing\n",
      "22:37:34 - cmdstanpy - INFO - Chain [1] done processing\n"
     ]
    },
    {
     "name": "stdout",
     "output_type": "stream",
     "text": [
      "It's underpredicted.\n",
      "Monthly Error: 57.06 Period MAE: 57.65It's underpredicted.\n",
      "\n",
      "Monthly Error: 48.05 Period MAE: 33.410000000000004\n"
     ]
    },
    {
     "name": "stderr",
     "output_type": "stream",
     "text": [
      "22:37:35 - cmdstanpy - INFO - Chain [1] start processing\n",
      "22:37:35 - cmdstanpy - INFO - Chain [1] start processing\n",
      "22:37:36 - cmdstanpy - INFO - Chain [1] done processing\n",
      "22:37:36 - cmdstanpy - INFO - Chain [1] done processing\n"
     ]
    },
    {
     "name": "stdout",
     "output_type": "stream",
     "text": [
      "It's underpredicted.\n",
      "Monthly Error: 55.02 Period MAE: 55.54\n",
      "It's overpredicted.\n",
      "Monthly Error: 134.06 Period MAE: 36.75\n",
      "It's overpredicted.\n"
     ]
    },
    {
     "name": "stderr",
     "output_type": "stream",
     "text": [
      "22:37:39 - cmdstanpy - INFO - Chain [1] start processing\n"
     ]
    },
    {
     "name": "stdout",
     "output_type": "stream",
     "text": [
      "Monthly Error: 68.17 Period MAE: 66.11\n"
     ]
    },
    {
     "name": "stderr",
     "output_type": "stream",
     "text": [
      "22:37:39 - cmdstanpy - INFO - Chain [1] start processing\n",
      "22:37:39 - cmdstanpy - INFO - Chain [1] done processing\n"
     ]
    },
    {
     "name": "stdout",
     "output_type": "stream",
     "text": [
      "It's underpredicted.\n",
      "Monthly Error:"
     ]
    },
    {
     "name": "stderr",
     "output_type": "stream",
     "text": [
      "22:37:40 - cmdstanpy - INFO - Chain [1] start processing\n"
     ]
    },
    {
     "name": "stdout",
     "output_type": "stream",
     "text": [
      " 54.0 Period MAE: 54.669999999999995\n"
     ]
    },
    {
     "name": "stderr",
     "output_type": "stream",
     "text": [
      "22:37:40 - cmdstanpy - INFO - Chain [1] start processing\n",
      "22:37:40 - cmdstanpy - INFO - Chain [1] done processing\n",
      "22:37:40 - cmdstanpy - INFO - Chain [1] done processing\n"
     ]
    },
    {
     "name": "stdout",
     "output_type": "stream",
     "text": [
      "It's overpredicted.\n",
      "Monthly Error: 66.87 Period MAE: 64.92"
     ]
    },
    {
     "name": "stderr",
     "output_type": "stream",
     "text": [
      "22:37:41 - cmdstanpy - INFO - Chain [1] done processing\n"
     ]
    },
    {
     "name": "stdout",
     "output_type": "stream",
     "text": [
      "\n"
     ]
    },
    {
     "name": "stderr",
     "output_type": "stream",
     "text": [
      "22:37:41 - cmdstanpy - INFO - Chain [1] start processing\n",
      "22:37:42 - cmdstanpy - INFO - Chain [1] done processing\n"
     ]
    },
    {
     "name": "stdout",
     "output_type": "stream",
     "text": [
      "It's underpredicted.\n",
      "Monthly Error: 39.65 Period MAE: 34.62\n"
     ]
    },
    {
     "name": "stderr",
     "output_type": "stream",
     "text": [
      "22:37:43 - cmdstanpy - INFO - Chain [1] start processing\n",
      "22:37:43 - cmdstanpy - INFO - Chain [1] done processing\n"
     ]
    },
    {
     "name": "stdout",
     "output_type": "stream",
     "text": [
      "It's underpredicted.\n",
      "Monthly Error: 54.43 Period MAE: 55.010000000000005\n",
      "It's overpredicted.\n",
      "Monthly Error: 130.45 Period MAE: 31.369999999999997\n"
     ]
    },
    {
     "name": "stderr",
     "output_type": "stream",
     "text": [
      "22:37:44 - cmdstanpy - INFO - Chain [1] start processing\n",
      "22:37:45 - cmdstanpy - INFO - Chain [1] start processing\n",
      "22:37:45 - cmdstanpy - INFO - Chain [1] done processing\n",
      "22:37:45 - cmdstanpy - INFO - Chain [1] done processing\n"
     ]
    },
    {
     "name": "stdout",
     "output_type": "stream",
     "text": [
      "It's overpredicted.\n",
      "Monthly Error: 76.18 Period MAE: 73.28\n"
     ]
    },
    {
     "name": "stderr",
     "output_type": "stream",
     "text": [
      "22:37:46 - cmdstanpy - INFO - Chain [1] start processing\n"
     ]
    },
    {
     "name": "stdout",
     "output_type": "stream",
     "text": [
      "It's overpredicted.\n",
      "Monthly Error: 130.57 Period MAE: 33.050000000000004\n"
     ]
    },
    {
     "name": "stderr",
     "output_type": "stream",
     "text": [
      "22:37:46 - cmdstanpy - INFO - Chain [1] start processing\n",
      "22:37:47 - cmdstanpy - INFO - Chain [1] done processing\n",
      "22:37:47 - cmdstanpy - INFO - Chain [1] done processing\n"
     ]
    },
    {
     "name": "stdout",
     "output_type": "stream",
     "text": [
      "It's underpredicted.\n",
      "Monthly Error: 49.12 Period MAE:It's underpredicted. \n",
      "37.49Monthly Error: \n",
      "71.81 Period MAE: 47.46\n"
     ]
    },
    {
     "name": "stderr",
     "output_type": "stream",
     "text": [
      "22:37:48 - cmdstanpy - INFO - Chain [1] start processing\n",
      "22:37:48 - cmdstanpy - INFO - Chain [1] start processing\n",
      "22:37:49 - cmdstanpy - INFO - Chain [1] done processing\n",
      "22:37:49 - cmdstanpy - INFO - Chain [1] done processing\n"
     ]
    },
    {
     "name": "stdout",
     "output_type": "stream",
     "text": [
      "It's overpredicted.\n",
      "Monthly Error: 134.35 Period MAE: 37.99\n",
      "It's underpredicted.\n",
      "Monthly Error: It's underpredicted.46.96\n",
      " Period MAE:Monthly Error:  72.418.42 \n",
      "Period MAE: 49.21\n"
     ]
    },
    {
     "name": "stderr",
     "output_type": "stream",
     "text": [
      "22:37:51 - cmdstanpy - INFO - Chain [1] start processing\n",
      "22:37:51 - cmdstanpy - INFO - Chain [1] start processing\n",
      "22:37:51 - cmdstanpy - INFO - Chain [1] done processing\n",
      "22:37:52 - cmdstanpy - INFO - Chain [1] start processing\n",
      "22:37:52 - cmdstanpy - INFO - Chain [1] done processing\n"
     ]
    },
    {
     "name": "stdout",
     "output_type": "stream",
     "text": [
      "It's underpredicted.\n"
     ]
    },
    {
     "name": "stderr",
     "output_type": "stream",
     "text": [
      "22:37:52 - cmdstanpy - INFO - Chain [1] done processing\n"
     ]
    },
    {
     "name": "stdout",
     "output_type": "stream",
     "text": [
      "Monthly Error: 43.74 Period MAE: 8.649999999999999\n"
     ]
    },
    {
     "name": "stderr",
     "output_type": "stream",
     "text": [
      "22:37:53 - cmdstanpy - INFO - Chain [1] start processing\n",
      "22:37:53 - cmdstanpy - INFO - Chain [1] done processing\n"
     ]
    },
    {
     "name": "stdout",
     "output_type": "stream",
     "text": [
      "It's underpredicted.\n",
      "Monthly Error: 72.89 Period MAE: 49.47\n",
      "It's underpredicted.\n",
      "Monthly Error: 72.52"
     ]
    },
    {
     "name": "stderr",
     "output_type": "stream",
     "text": [
      "22:37:54 - cmdstanpy - INFO - Chain [1] start processing\n"
     ]
    },
    {
     "name": "stdout",
     "output_type": "stream",
     "text": [
      " Period MAE: 46.5\n"
     ]
    },
    {
     "name": "stderr",
     "output_type": "stream",
     "text": [
      "22:37:55 - cmdstanpy - INFO - Chain [1] done processing\n",
      "22:37:55 - cmdstanpy - INFO - Chain [1] start processing\n",
      "22:37:55 - cmdstanpy - INFO - Chain [1] done processing\n"
     ]
    },
    {
     "name": "stdout",
     "output_type": "stream",
     "text": [
      "It's underpredicted.\n",
      "Monthly Error: 42.29 Period MAE: 7.199999999999999It's overpredicted.\n",
      "\n",
      "Monthly Error: 54.96 Period MAE: 45.129999999999995\n",
      "It's underpredicted.\n",
      "Monthly Error: 72.45 Period MAE: 49.18\n"
     ]
    },
    {
     "name": "stderr",
     "output_type": "stream",
     "text": [
      "22:37:57 - cmdstanpy - INFO - Chain [1] start processing\n",
      "22:37:57 - cmdstanpy - INFO - Chain [1] start processing\n",
      "22:37:57 - cmdstanpy - INFO - Chain [1] done processing\n",
      "22:37:58 - cmdstanpy - INFO - Chain [1] start processing\n",
      "22:37:58 - cmdstanpy - INFO - Chain [1] done processing\n",
      "22:37:58 - cmdstanpy - INFO - Chain [1] done processing\n"
     ]
    },
    {
     "name": "stdout",
     "output_type": "stream",
     "text": [
      "It's overpredicted.\n",
      "Monthly Error: 62.03 Period MAE: It's underpredicted.55.94\n",
      "Monthly Error:\n",
      " 72.34 Period MAE: 48.33\n"
     ]
    },
    {
     "name": "stderr",
     "output_type": "stream",
     "text": [
      "22:38:00 - cmdstanpy - INFO - Chain [1] start processing\n",
      "22:38:00 - cmdstanpy - INFO - Chain [1] done processing\n",
      "22:38:00 - cmdstanpy - INFO - Chain [1] start processing\n"
     ]
    },
    {
     "name": "stdout",
     "output_type": "stream",
     "text": [
      "It's underpredicted.\n",
      "Monthly Error: 72.05 "
     ]
    },
    {
     "name": "stderr",
     "output_type": "stream",
     "text": [
      "22:38:00 - cmdstanpy - INFO - Chain [1] done processing\n"
     ]
    },
    {
     "name": "stdout",
     "output_type": "stream",
     "text": [
      "Period MAE: 47.05\n"
     ]
    },
    {
     "name": "stderr",
     "output_type": "stream",
     "text": [
      "22:38:01 - cmdstanpy - INFO - Chain [1] start processing\n",
      "22:38:01 - cmdstanpy - INFO - Chain [1] done processing\n"
     ]
    },
    {
     "name": "stdout",
     "output_type": "stream",
     "text": [
      "It's underpredicted.\n",
      "Monthly Error: 72.1 Period MAE: 48.730000000000004\n",
      "It's overpredicted.\n",
      "Monthly Error:"
     ]
    },
    {
     "name": "stderr",
     "output_type": "stream",
     "text": [
      "22:38:04 - cmdstanpy - INFO - Chain [1] start processing\n"
     ]
    },
    {
     "name": "stdout",
     "output_type": "stream",
     "text": [
      " 60.34 Period MAE: 53.839999999999996\n",
      "It's underpredicted.\n",
      "Monthly Error: 47.35 Period MAE: 5.36\n"
     ]
    },
    {
     "name": "stderr",
     "output_type": "stream",
     "text": [
      "22:38:04 - cmdstanpy - INFO - Chain [1] start processing\n",
      "22:38:05 - cmdstanpy - INFO - Chain [1] start processing\n",
      "22:38:05 - cmdstanpy - INFO - Chain [1] done processing\n",
      "22:38:05 - cmdstanpy - INFO - Chain [1] done processing\n",
      "22:38:05 - cmdstanpy - INFO - Chain [1] done processing\n"
     ]
    },
    {
     "name": "stdout",
     "output_type": "stream",
     "text": [
      "It's underpredicted.\n",
      "Monthly Error: 61.56 Period MAE: 62.22\n"
     ]
    },
    {
     "name": "stderr",
     "output_type": "stream",
     "text": [
      "22:38:07 - cmdstanpy - INFO - Chain [1] start processing\n"
     ]
    },
    {
     "name": "stdout",
     "output_type": "stream",
     "text": [
      "It's overpredicted.\n",
      "Monthly Error: 41.53 Period MAE: 0.33"
     ]
    },
    {
     "name": "stderr",
     "output_type": "stream",
     "text": [
      "22:38:07 - cmdstanpy - INFO - Chain [1] done processing\n"
     ]
    },
    {
     "name": "stdout",
     "output_type": "stream",
     "text": [
      "\n",
      "It's underpredicted.\n",
      "Monthly Error: 72.63 Period MAE: 46.2\n"
     ]
    },
    {
     "name": "stderr",
     "output_type": "stream",
     "text": [
      "22:38:08 - cmdstanpy - INFO - Chain [1] start processing\n",
      "22:38:08 - cmdstanpy - INFO - Chain [1] done processing\n",
      "22:38:08 - cmdstanpy - INFO - Chain [1] start processing\n",
      "22:38:08 - cmdstanpy - INFO - Chain [1] done processing\n"
     ]
    },
    {
     "name": "stdout",
     "output_type": "stream",
     "text": [
      "It's overpredicted.\n",
      "Monthly Error: 41.86 Period MAE: 0.08\n",
      "It's underpredicted.\n",
      "Monthly Error: 57.05 Period MAE: 55.779999999999994\n",
      "It's overpredicted.\n",
      "Monthly Error: 101.09 Period MAE: "
     ]
    },
    {
     "name": "stderr",
     "output_type": "stream",
     "text": [
      "22:38:10 - cmdstanpy - INFO - Chain [1] start processing\n"
     ]
    },
    {
     "name": "stdout",
     "output_type": "stream",
     "text": [
      "31.009999999999998\n"
     ]
    },
    {
     "name": "stderr",
     "output_type": "stream",
     "text": [
      "22:38:11 - cmdstanpy - INFO - Chain [1] start processing\n",
      "22:38:11 - cmdstanpy - INFO - Chain [1] done processing\n",
      "22:38:11 - cmdstanpy - INFO - Chain [1] start processing\n",
      "22:38:11 - cmdstanpy - INFO - Chain [1] done processing\n"
     ]
    },
    {
     "name": "stdout",
     "output_type": "stream",
     "text": [
      "It's overpredicted."
     ]
    },
    {
     "name": "stderr",
     "output_type": "stream",
     "text": [
      "22:38:11 - cmdstanpy - INFO - Chain [1] done processing\n"
     ]
    },
    {
     "name": "stdout",
     "output_type": "stream",
     "text": [
      "\n",
      "Monthly Error: 84.06 Period MAE: 19.52\n"
     ]
    },
    {
     "name": "stderr",
     "output_type": "stream",
     "text": [
      "22:38:12 - cmdstanpy - INFO - Chain [1] start processing\n",
      "22:38:12 - cmdstanpy - INFO - Chain [1] done processing\n"
     ]
    },
    {
     "name": "stdout",
     "output_type": "stream",
     "text": [
      "It's underpredicted.\n",
      "Monthly Error: 58.9 Period MAE: 57.74\n"
     ]
    },
    {
     "name": "stderr",
     "output_type": "stream",
     "text": [
      "22:38:13 - cmdstanpy - INFO - Chain [1] start processing\n",
      "22:38:14 - cmdstanpy - INFO - Chain [1] done processing\n"
     ]
    },
    {
     "name": "stdout",
     "output_type": "stream",
     "text": [
      "It's underpredicted.\n",
      "Monthly Error: 56.41 Period MAE: 54.55\n"
     ]
    },
    {
     "name": "stderr",
     "output_type": "stream",
     "text": [
      "22:38:15 - cmdstanpy - INFO - Chain [1] start processing\n",
      "22:38:15 - cmdstanpy - INFO - Chain [1] done processing\n"
     ]
    },
    {
     "name": "stdout",
     "output_type": "stream",
     "text": [
      "It's overpredicted.\n",
      "Monthly Error: 90.33 Period MAE: 24.95\n",
      "It's underpredicted.\n",
      "Monthly Error: 58.04 Period MAE: 56.35\n",
      "It's overpredicted.\n",
      "Monthly Error: 72.54 Period MAE: 29.99\n"
     ]
    },
    {
     "name": "stderr",
     "output_type": "stream",
     "text": [
      "22:38:17 - cmdstanpy - INFO - Chain [1] start processing\n",
      "22:38:17 - cmdstanpy - INFO - Chain [1] done processing\n",
      "22:38:17 - cmdstanpy - INFO - Chain [1] start processing\n",
      "22:38:17 - cmdstanpy - INFO - Chain [1] start processing\n",
      "22:38:18 - cmdstanpy - INFO - Chain [1] done processing\n",
      "22:38:18 - cmdstanpy - INFO - Chain [1] done processing\n"
     ]
    },
    {
     "name": "stdout",
     "output_type": "stream",
     "text": [
      "It's underpredicted.\n",
      "Monthly Error: 57.88 Period MAE: 57.08\n",
      "It's overpredicted.\n",
      "Monthly Error: 52.02 Period MAE: 13.469999999999999\n"
     ]
    },
    {
     "name": "stderr",
     "output_type": "stream",
     "text": [
      "22:38:19 - cmdstanpy - INFO - Chain [1] start processing\n",
      "22:38:19 - cmdstanpy - INFO - Chain [1] done processing\n",
      "22:38:20 - cmdstanpy - INFO - Chain [1] start processing\n"
     ]
    },
    {
     "name": "stdout",
     "output_type": "stream",
     "text": [
      "It's underpredicted.\n",
      "Monthly Error: 58.21 "
     ]
    },
    {
     "name": "stderr",
     "output_type": "stream",
     "text": [
      "22:38:20 - cmdstanpy - INFO - Chain [1] done processing\n"
     ]
    },
    {
     "name": "stdout",
     "output_type": "stream",
     "text": [
      "Period MAE: 56.06\n"
     ]
    },
    {
     "name": "stderr",
     "output_type": "stream",
     "text": [
      "22:38:21 - cmdstanpy - INFO - Chain [1] start processing\n",
      "22:38:21 - cmdstanpy - INFO - Chain [1] done processing\n"
     ]
    },
    {
     "name": "stdout",
     "output_type": "stream",
     "text": [
      "It's underpredicted.\n",
      "Monthly Error: 57.99 Period MAE: 56.86\n"
     ]
    },
    {
     "name": "stderr",
     "output_type": "stream",
     "text": [
      "22:38:23 - cmdstanpy - INFO - Chain [1] start processing\n"
     ]
    },
    {
     "name": "stdout",
     "output_type": "stream",
     "text": [
      "It's overpredicted.\n",
      "Monthly Error: 58.13 Period MAE: 22.67\n"
     ]
    },
    {
     "name": "stderr",
     "output_type": "stream",
     "text": [
      "22:38:23 - cmdstanpy - INFO - Chain [1] done processing\n"
     ]
    },
    {
     "name": "stdout",
     "output_type": "stream",
     "text": [
      "It's overpredicted.\n",
      "Monthly Error: 104.45 Period MAE: 35.29\n"
     ]
    },
    {
     "name": "stderr",
     "output_type": "stream",
     "text": [
      "22:38:24 - cmdstanpy - INFO - Chain [1] start processing\n",
      "22:38:24 - cmdstanpy - INFO - Chain [1] start processing\n",
      "22:38:24 - cmdstanpy - INFO - Chain [1] done processing\n",
      "22:38:24 - cmdstanpy - INFO - Chain [1] done processing\n"
     ]
    },
    {
     "name": "stdout",
     "output_type": "stream",
     "text": [
      "It's overpredicted.\n",
      "Monthly Error: 89.56 Period MAE: 25.3\n",
      "It's underpredicted.\n",
      "Monthly Error: 54.67 Period MAE: "
     ]
    },
    {
     "name": "stderr",
     "output_type": "stream",
     "text": [
      "22:38:25 - cmdstanpy - INFO - Chain [1] start processing\n"
     ]
    },
    {
     "name": "stdout",
     "output_type": "stream",
     "text": [
      "51.519999999999996\n"
     ]
    },
    {
     "name": "stderr",
     "output_type": "stream",
     "text": [
      "22:38:25 - cmdstanpy - INFO - Chain [1] done processing\n"
     ]
    },
    {
     "name": "stdout",
     "output_type": "stream",
     "text": [
      "It's underpredicted.\n",
      "Monthly Error: 64.21 Period MAE: 45.87\n"
     ]
    },
    {
     "name": "stderr",
     "output_type": "stream",
     "text": [
      "22:38:26 - cmdstanpy - INFO - Chain [1] start processing\n",
      "22:38:26 - cmdstanpy - INFO - Chain [1] done processing\n",
      "22:38:26 - cmdstanpy - INFO - Chain [1] start processing\n",
      "22:38:27 - cmdstanpy - INFO - Chain [1] done processing\n"
     ]
    },
    {
     "name": "stdout",
     "output_type": "stream",
     "text": [
      "It's underpredicted.\n",
      "Monthly Error: 63.28 Period MAE: 49.64\n",
      "It's underpredicted.\n",
      "It's overpredicted.Monthly Error:\n",
      " Monthly Error:80.28 Period MAE: 104.93  80.55Period MAE:\n",
      " 40.17\n"
     ]
    },
    {
     "name": "stderr",
     "output_type": "stream",
     "text": [
      "22:38:29 - cmdstanpy - INFO - Chain [1] start processing\n",
      "22:38:29 - cmdstanpy - INFO - Chain [1] start processing\n",
      "22:38:30 - cmdstanpy - INFO - Chain [1] done processing\n",
      "22:38:30 - cmdstanpy - INFO - Chain [1] start processing\n",
      "22:38:30 - cmdstanpy - INFO - Chain [1] done processing\n"
     ]
    },
    {
     "name": "stdout",
     "output_type": "stream",
     "text": [
      "It's underpredicted.\n",
      "Monthly Error:"
     ]
    },
    {
     "name": "stderr",
     "output_type": "stream",
     "text": [
      "22:38:30 - cmdstanpy - INFO - Chain [1] done processing\n"
     ]
    },
    {
     "name": "stdout",
     "output_type": "stream",
     "text": [
      " 44.16 Period MAE: 38.65\n",
      "It's underpredicted.\n",
      "Monthly Error: "
     ]
    },
    {
     "name": "stderr",
     "output_type": "stream",
     "text": [
      "22:38:31 - cmdstanpy - INFO - Chain [1] start processing\n"
     ]
    },
    {
     "name": "stdout",
     "output_type": "stream",
     "text": [
      "64.63 Period MAE: 46.68\n"
     ]
    },
    {
     "name": "stderr",
     "output_type": "stream",
     "text": [
      "22:38:31 - cmdstanpy - INFO - Chain [1] done processing\n",
      "22:38:32 - cmdstanpy - INFO - Chain [1] start processing\n",
      "22:38:32 - cmdstanpy - INFO - Chain [1] done processing\n"
     ]
    },
    {
     "name": "stdout",
     "output_type": "stream",
     "text": [
      "It's underpredicted.\n",
      "Monthly Error: 71.92 Period MAE: 28.49\n"
     ]
    },
    {
     "name": "stderr",
     "output_type": "stream",
     "text": [
      "22:38:33 - cmdstanpy - INFO - Chain [1] start processing\n",
      "22:38:33 - cmdstanpy - INFO - Chain [1] done processing\n"
     ]
    },
    {
     "name": "stdout",
     "output_type": "stream",
     "text": [
      "It's underpredicted.\n",
      "Monthly Error: 60.71 Period MAE: 46.07\n"
     ]
    },
    {
     "name": "stderr",
     "output_type": "stream",
     "text": [
      "22:38:35 - cmdstanpy - INFO - Chain [1] start processing\n"
     ]
    },
    {
     "name": "stdout",
     "output_type": "stream",
     "text": [
      "It's overpredicted.It's overpredicted.\n",
      "Monthly Error:\n",
      " 62.01Monthly Error: Period MAE:  61.913.73\n",
      " Period MAE: 60.040000000000006\n"
     ]
    },
    {
     "name": "stderr",
     "output_type": "stream",
     "text": [
      "22:38:36 - cmdstanpy - INFO - Chain [1] start processing\n",
      "22:38:36 - cmdstanpy - INFO - Chain [1] done processing\n",
      "22:38:36 - cmdstanpy - INFO - Chain [1] done processing\n",
      "22:38:36 - cmdstanpy - INFO - Chain [1] start processing\n"
     ]
    },
    {
     "name": "stdout",
     "output_type": "stream",
     "text": [
      "It's overpredicted.\n",
      "Monthly Error:"
     ]
    },
    {
     "name": "stderr",
     "output_type": "stream",
     "text": [
      "22:38:37 - cmdstanpy - INFO - Chain [1] done processing\n"
     ]
    },
    {
     "name": "stdout",
     "output_type": "stream",
     "text": [
      " 41.58 Period MAE: 29.99\n",
      "It's underpredicted.\n",
      "Monthly Error: 70.63 Period MAE: "
     ]
    },
    {
     "name": "stderr",
     "output_type": "stream",
     "text": [
      "22:38:38 - cmdstanpy - INFO - Chain [1] start processing\n"
     ]
    },
    {
     "name": "stdout",
     "output_type": "stream",
     "text": [
      "26.36\n",
      "It's underpredicted.\n",
      "Monthly Error: 70.97 Period MAE: 51.349999999999994\n"
     ]
    },
    {
     "name": "stderr",
     "output_type": "stream",
     "text": [
      "22:38:38 - cmdstanpy - INFO - Chain [1] done processing\n",
      "22:38:38 - cmdstanpy - INFO - Chain [1] start processing\n",
      "22:38:39 - cmdstanpy - INFO - Chain [1] start processing\n",
      "22:38:39 - cmdstanpy - INFO - Chain [1] done processing\n",
      "22:38:39 - cmdstanpy - INFO - Chain [1] done processing\n"
     ]
    },
    {
     "name": "stdout",
     "output_type": "stream",
     "text": [
      "It's underpredicted.\n",
      "Monthly Error: 67.9 Period MAE: 52.6\n",
      "It's overpredicted.\n",
      "Monthly Error: 50.6 Period MAE: 46.17\n",
      "It's underpredicted."
     ]
    },
    {
     "name": "stderr",
     "output_type": "stream",
     "text": [
      "22:38:42 - cmdstanpy - INFO - Chain [1] start processing\n"
     ]
    },
    {
     "name": "stdout",
     "output_type": "stream",
     "text": [
      "\n",
      "Monthly Error: 79.86 Period MAE: 80.14\n"
     ]
    },
    {
     "name": "stderr",
     "output_type": "stream",
     "text": [
      "22:38:42 - cmdstanpy - INFO - Chain [1] start processing\n",
      "22:38:42 - cmdstanpy - INFO - Chain [1] done processing\n",
      "22:38:42 - cmdstanpy - INFO - Chain [1] start processing\n",
      "22:38:42 - cmdstanpy - INFO - Chain [1] done processing\n"
     ]
    },
    {
     "name": "stdout",
     "output_type": "stream",
     "text": [
      "It's overpredicted.\n",
      "Monthly Error: 121.68 Period MAE: 102.69\n"
     ]
    },
    {
     "name": "stderr",
     "output_type": "stream",
     "text": [
      "22:38:43 - cmdstanpy - INFO - Chain [1] done processing\n",
      "22:38:43 - cmdstanpy - INFO - Chain [1] start processing\n",
      "22:38:43 - cmdstanpy - INFO - Chain [1] done processing\n"
     ]
    },
    {
     "name": "stdout",
     "output_type": "stream",
     "text": [
      "It's underpredicted.\n",
      "Monthly Error: 55.35 Period MAE: 55.989999999999995\n",
      "It's underpredicted.\n",
      "Monthly Error:"
     ]
    },
    {
     "name": "stderr",
     "output_type": "stream",
     "text": [
      "22:38:45 - cmdstanpy - INFO - Chain [1] start processing\n"
     ]
    },
    {
     "name": "stdout",
     "output_type": "stream",
     "text": [
      " 79.14 Period MAE: 34.32\n"
     ]
    },
    {
     "name": "stderr",
     "output_type": "stream",
     "text": [
      "22:38:45 - cmdstanpy - INFO - Chain [1] done processing\n",
      "22:38:45 - cmdstanpy - INFO - Chain [1] start processing\n",
      "22:38:46 - cmdstanpy - INFO - Chain [1] done processing\n"
     ]
    },
    {
     "name": "stdout",
     "output_type": "stream",
     "text": [
      "It's underpredicted.\n",
      "Monthly Error: 52.62 Period MAE: 52.55\n",
      "It's overpredicted.\n",
      "Monthly Error: 136.93 Period MAE: 36.79\n"
     ]
    },
    {
     "name": "stderr",
     "output_type": "stream",
     "text": [
      "22:38:48 - cmdstanpy - INFO - Chain [1] start processing\n"
     ]
    },
    {
     "name": "stdout",
     "output_type": "stream",
     "text": [
      "It's overpredicted.\n",
      "Monthly Error: 162.83 Period MAE: 143.82\n"
     ]
    },
    {
     "name": "stderr",
     "output_type": "stream",
     "text": [
      "22:38:48 - cmdstanpy - INFO - Chain [1] start processing\n",
      "22:38:49 - cmdstanpy - INFO - Chain [1] done processing\n",
      "22:38:49 - cmdstanpy - INFO - Chain [1] done processing\n",
      "22:38:49 - cmdstanpy - INFO - Chain [1] start processing\n"
     ]
    },
    {
     "name": "stdout",
     "output_type": "stream",
     "text": [
      "It's overpredicted.\n",
      "Monthly Error: 130.51 Period MAE: 31.4\n"
     ]
    },
    {
     "name": "stderr",
     "output_type": "stream",
     "text": [
      "22:38:50 - cmdstanpy - INFO - Chain [1] done processing\n",
      "22:38:50 - cmdstanpy - INFO - Chain [1] start processing\n",
      "22:38:50 - cmdstanpy - INFO - Chain [1] done processing\n"
     ]
    },
    {
     "name": "stdout",
     "output_type": "stream",
     "text": [
      "It's underpredicted.\n",
      "Monthly Error: 54.84 Period MAE: 33.23\n",
      "It's underpredicted.\n",
      "Monthly Error: 51.33 Period MAE: 52.0\n"
     ]
    },
    {
     "name": "stderr",
     "output_type": "stream",
     "text": [
      "22:38:51 - cmdstanpy - INFO - Chain [1] start processing\n",
      "22:38:52 - cmdstanpy - INFO - Chain [1] start processing\n",
      "22:38:52 - cmdstanpy - INFO - Chain [1] done processing\n",
      "22:38:52 - cmdstanpy - INFO - Chain [1] done processing\n"
     ]
    },
    {
     "name": "stdout",
     "output_type": "stream",
     "text": [
      "It's overpredicted.\n",
      "Monthly Error: 151.72 Period MAE: 56.99999999999999\n",
      "It's overpredicted.\n",
      "Monthly Error: 73.89 Period MAE: 71.66\n",
      "It's underpredicted.\n",
      "Monthly Error: 51.86 Period MAE: 52.39\n"
     ]
    },
    {
     "name": "stderr",
     "output_type": "stream",
     "text": [
      "22:38:54 - cmdstanpy - INFO - Chain [1] start processing\n",
      "22:38:54 - cmdstanpy - INFO - Chain [1] start processing\n",
      "22:38:55 - cmdstanpy - INFO - Chain [1] done processing\n",
      "22:38:55 - cmdstanpy - INFO - Chain [1] start processing\n",
      "22:38:55 - cmdstanpy - INFO - Chain [1] done processing\n"
     ]
    },
    {
     "name": "stdout",
     "output_type": "stream",
     "text": [
      "It's overpredicted.\n",
      "Monthly Error: 70.68 Period MAE: 68.63\n"
     ]
    },
    {
     "name": "stderr",
     "output_type": "stream",
     "text": [
      "22:38:56 - cmdstanpy - INFO - Chain [1] done processing\n",
      "22:38:56 - cmdstanpy - INFO - Chain [1] start processing\n",
      "22:38:56 - cmdstanpy - INFO - Chain [1] done processing\n"
     ]
    },
    {
     "name": "stdout",
     "output_type": "stream",
     "text": [
      "It's underpredicted.\n",
      "Monthly Error: 55.6 Period MAE: 56.120000000000005\n"
     ]
    },
    {
     "name": "stderr",
     "output_type": "stream",
     "text": [
      "22:38:57 - cmdstanpy - INFO - Chain [1] start processing\n"
     ]
    },
    {
     "name": "stdout",
     "output_type": "stream",
     "text": [
      "It's underpredicted.\n",
      "Monthly Error: 38.46 Period MAE: 29.01\n"
     ]
    },
    {
     "name": "stderr",
     "output_type": "stream",
     "text": [
      "22:38:58 - cmdstanpy - INFO - Chain [1] done processing\n",
      "22:38:58 - cmdstanpy - INFO - Chain [1] start processing\n",
      "22:38:58 - cmdstanpy - INFO - Chain [1] done processing\n"
     ]
    },
    {
     "name": "stdout",
     "output_type": "stream",
     "text": [
      "It's underpredicted.\n",
      "Monthly Error: 55.41 Period MAE: It's overpredicted.55.989999999999995\n",
      "\n",
      "Monthly Error: 81.84 Period MAE: 28.439999999999998\n",
      "It's overpredicted.\n",
      "Monthly Error: 61.23 Period MAE: 58.160000000000004\n"
     ]
    },
    {
     "name": "stderr",
     "output_type": "stream",
     "text": [
      "22:39:01 - cmdstanpy - INFO - Chain [1] start processing\n",
      "22:39:01 - cmdstanpy - INFO - Chain [1] start processing\n",
      "22:39:01 - cmdstanpy - INFO - Chain [1] start processing\n",
      "22:39:02 - cmdstanpy - INFO - Chain [1] done processing\n"
     ]
    },
    {
     "name": "stdout",
     "output_type": "stream",
     "text": [
      "It's overpredicted.\n"
     ]
    },
    {
     "name": "stderr",
     "output_type": "stream",
     "text": [
      "22:39:02 - cmdstanpy - INFO - Chain [1] done processing\n"
     ]
    },
    {
     "name": "stdout",
     "output_type": "stream",
     "text": [
      "Monthly Error: 152.61 Period MAE: 139.65\n"
     ]
    },
    {
     "name": "stderr",
     "output_type": "stream",
     "text": [
      "22:39:02 - cmdstanpy - INFO - Chain [1] start processing\n",
      "22:39:03 - cmdstanpy - INFO - Chain [1] done processing\n",
      "22:39:03 - cmdstanpy - INFO - Chain [1] done processing\n"
     ]
    },
    {
     "name": "stdout",
     "output_type": "stream",
     "text": [
      "It's underpredicted.\n",
      "Monthly Error: 73.99 Period MAE: 48.6\n"
     ]
    },
    {
     "name": "stderr",
     "output_type": "stream",
     "text": [
      "22:39:04 - cmdstanpy - INFO - Chain [1] start processing\n",
      "22:39:05 - cmdstanpy - INFO - Chain [1] done processing\n"
     ]
    },
    {
     "name": "stdout",
     "output_type": "stream",
     "text": [
      "It's underpredicted.\n",
      "Monthly Error: 54.99 Period MAE: 32.879999999999995\n",
      "It's underpredicted.It's underpredicted.\n",
      "\n",
      "Monthly Error:Monthly Error: 58.24 71.25 Period MAE:  24.58Period MAE:\n",
      " 46.949999999999996\n"
     ]
    },
    {
     "name": "stderr",
     "output_type": "stream",
     "text": [
      "22:39:07 - cmdstanpy - INFO - Chain [1] start processing\n",
      "22:39:07 - cmdstanpy - INFO - Chain [1] done processing\n"
     ]
    },
    {
     "name": "stdout",
     "output_type": "stream",
     "text": [
      "It's overpredicted.\n",
      "Monthly Error: 69.68 Period MAE: 40.25\n"
     ]
    },
    {
     "name": "stderr",
     "output_type": "stream",
     "text": [
      "22:39:07 - cmdstanpy - INFO - Chain [1] start processing\n",
      "22:39:08 - cmdstanpy - INFO - Chain [1] start processing\n",
      "22:39:08 - cmdstanpy - INFO - Chain [1] done processing\n",
      "22:39:08 - cmdstanpy - INFO - Chain [1] start processing\n",
      "22:39:08 - cmdstanpy - INFO - Chain [1] done processing\n",
      "22:39:09 - cmdstanpy - INFO - Chain [1] done processing\n"
     ]
    },
    {
     "name": "stdout",
     "output_type": "stream",
     "text": [
      "It's underpredicted.\n",
      "Monthly Error: 71.98 Period MAE: 49.1\n"
     ]
    },
    {
     "name": "stderr",
     "output_type": "stream",
     "text": [
      "22:39:10 - cmdstanpy - INFO - Chain [1] start processing\n",
      "22:39:10 - cmdstanpy - INFO - Chain [1] done processing\n"
     ]
    },
    {
     "name": "stdout",
     "output_type": "stream",
     "text": [
      "It's underpredicted.\n",
      "Monthly Error: 41.81 Period MAE: 27.229999999999997\n"
     ]
    },
    {
     "name": "stderr",
     "output_type": "stream",
     "text": [
      "22:39:11 - cmdstanpy - INFO - Chain [1] start processing\n"
     ]
    },
    {
     "name": "stdout",
     "output_type": "stream",
     "text": [
      "It's underpredicted.\n",
      "Monthly Error: 73.19 Period MAE: 39.58\n",
      "It's underpredicted.\n",
      "Monthly Error: 37.87"
     ]
    },
    {
     "name": "stderr",
     "output_type": "stream",
     "text": [
      "22:39:12 - cmdstanpy - INFO - Chain [1] done processing\n"
     ]
    },
    {
     "name": "stdout",
     "output_type": "stream",
     "text": [
      " Period MAE: 25.77\n"
     ]
    },
    {
     "name": "stderr",
     "output_type": "stream",
     "text": [
      "22:39:12 - cmdstanpy - INFO - Chain [1] start processing\n",
      "22:39:12 - cmdstanpy - INFO - Chain [1] done processing\n",
      "22:39:14 - cmdstanpy - INFO - Chain [1] start processing\n"
     ]
    },
    {
     "name": "stdout",
     "output_type": "stream",
     "text": [
      "It's overpredicted.\n",
      "Monthly Error: 64.17 Period MAE: 11.12\n",
      "It's underpredicted.\n",
      "Monthly Error: 67.97 Period MAE: 46.400000000000006\n"
     ]
    },
    {
     "name": "stderr",
     "output_type": "stream",
     "text": [
      "22:39:15 - cmdstanpy - INFO - Chain [1] done processing\n",
      "22:39:15 - cmdstanpy - INFO - Chain [1] start processing\n",
      "22:39:15 - cmdstanpy - INFO - Chain [1] start processing\n",
      "22:39:15 - cmdstanpy - INFO - Chain [1] done processing\n"
     ]
    },
    {
     "name": "stdout",
     "output_type": "stream",
     "text": [
      "It's overpredicted.\n",
      "Monthly Error:"
     ]
    },
    {
     "name": "stderr",
     "output_type": "stream",
     "text": [
      "22:39:15 - cmdstanpy - INFO - Chain [1] done processing\n"
     ]
    },
    {
     "name": "stdout",
     "output_type": "stream",
     "text": [
      " 42.71 Period MAE: 12.83\n"
     ]
    },
    {
     "name": "stderr",
     "output_type": "stream",
     "text": [
      "22:39:16 - cmdstanpy - INFO - Chain [1] start processing\n",
      "22:39:16 - cmdstanpy - INFO - Chain [1] done processing\n"
     ]
    },
    {
     "name": "stdout",
     "output_type": "stream",
     "text": [
      "It's underpredicted.\n",
      "Monthly Error: 73.91 Period MAE: 49.85\n",
      "It's underpredicted.\n",
      "Monthly Error: 70.32 Period MAE: 39.43\n"
     ]
    },
    {
     "name": "stderr",
     "output_type": "stream",
     "text": [
      "22:39:18 - cmdstanpy - INFO - Chain [1] start processing\n",
      "22:39:18 - cmdstanpy - INFO - Chain [1] start processing\n",
      "22:39:18 - cmdstanpy - INFO - Chain [1] done processing\n",
      "22:39:18 - cmdstanpy - INFO - Chain [1] done processing\n"
     ]
    },
    {
     "name": "stdout",
     "output_type": "stream",
     "text": [
      "It's overpredicted.\n",
      "Monthly Error: 70.84 Period MAE: 3.44\n",
      "It's overpredicted.\n",
      "Monthly Error: It's underpredicted.40.83\n",
      "Monthly Error: 72.34  Period MAE:Period MAE:  13.30999999999999950.06\n",
      "\n"
     ]
    },
    {
     "name": "stderr",
     "output_type": "stream",
     "text": [
      "22:39:21 - cmdstanpy - INFO - Chain [1] start processing\n",
      "22:39:21 - cmdstanpy - INFO - Chain [1] start processing\n",
      "22:39:21 - cmdstanpy - INFO - Chain [1] done processing\n",
      "22:39:21 - cmdstanpy - INFO - Chain [1] start processing\n",
      "22:39:22 - cmdstanpy - INFO - Chain [1] done processing\n"
     ]
    },
    {
     "name": "stdout",
     "output_type": "stream",
     "text": [
      "It's underpredicted.\n",
      "Monthly Error: 49.47 It's underpredicted.\n",
      "Period MAE: Monthly Error: 7.0859.4\n",
      " Period MAE: 57.58\n"
     ]
    },
    {
     "name": "stderr",
     "output_type": "stream",
     "text": [
      "22:39:22 - cmdstanpy - INFO - Chain [1] done processing\n",
      "22:39:23 - cmdstanpy - INFO - Chain [1] start processing\n",
      "22:39:23 - cmdstanpy - INFO - Chain [1] start processing\n",
      "22:39:23 - cmdstanpy - INFO - Chain [1] done processing\n",
      "22:39:23 - cmdstanpy - INFO - Chain [1] done processing\n"
     ]
    },
    {
     "name": "stdout",
     "output_type": "stream",
     "text": [
      "It's underpredicted.\n",
      "Monthly Error: 72.82 Period MAE: 38.11\n",
      "It's underpredicted.\n",
      "Monthly Error: 55.78 Period MAE: 52.2\n"
     ]
    },
    {
     "name": "stderr",
     "output_type": "stream",
     "text": [
      "22:39:25 - cmdstanpy - INFO - Chain [1] start processing\n",
      "22:39:25 - cmdstanpy - INFO - Chain [1] done processing\n"
     ]
    },
    {
     "name": "stdout",
     "output_type": "stream",
     "text": [
      "It's overpredicted.\n",
      "Monthly Error: 155.31 Period MAE: 66.17\n"
     ]
    },
    {
     "name": "stderr",
     "output_type": "stream",
     "text": [
      "22:39:26 - cmdstanpy - INFO - Chain [1] start processing\n"
     ]
    },
    {
     "name": "stdout",
     "output_type": "stream",
     "text": [
      "It's underpredicted.\n",
      "Monthly Error: 46.61 Period MAE: 6.94\n"
     ]
    },
    {
     "name": "stderr",
     "output_type": "stream",
     "text": [
      "22:39:27 - cmdstanpy - INFO - Chain [1] done processing\n",
      "22:39:27 - cmdstanpy - INFO - Chain [1] start processing\n",
      "22:39:27 - cmdstanpy - INFO - Chain [1] done processing\n",
      "22:39:28 - cmdstanpy - INFO - Chain [1] start processing\n",
      "22:39:28 - cmdstanpy - INFO - Chain [1] done processing\n"
     ]
    },
    {
     "name": "stdout",
     "output_type": "stream",
     "text": [
      "It's underpredicted.\n",
      "Monthly Error: It's underpredicted.58.63\n",
      " Monthly Error:Period MAE:  60.5556.25\n",
      " Period MAE:It's underpredicted. 10.13\n",
      "\n",
      "Monthly Error: 47.96 Period MAE: 38.06\n"
     ]
    },
    {
     "name": "stderr",
     "output_type": "stream",
     "text": [
      "22:39:30 - cmdstanpy - INFO - Chain [1] start processing\n",
      "22:39:30 - cmdstanpy - INFO - Chain [1] done processing\n",
      "22:39:30 - cmdstanpy - INFO - Chain [1] start processing\n",
      "22:39:30 - cmdstanpy - INFO - Chain [1] start processing\n",
      "22:39:30 - cmdstanpy - INFO - Chain [1] done processing\n",
      "22:39:30 - cmdstanpy - INFO - Chain [1] done processing\n"
     ]
    },
    {
     "name": "stdout",
     "output_type": "stream",
     "text": [
      "It's underpredicted.\n",
      "Monthly Error: 55.14 Period MAE: 50.839999999999996\n",
      "It's underpredicted.\n",
      "Monthly Error: 57.38 Period MAE: 12.32\n",
      "It's overpredicted.\n",
      "Monthly Error: 148.21 Period MAE: 93.75\n"
     ]
    },
    {
     "name": "stderr",
     "output_type": "stream",
     "text": [
      "22:39:33 - cmdstanpy - INFO - Chain [1] start processing\n",
      "22:39:33 - cmdstanpy - INFO - Chain [1] start processing\n",
      "22:39:33 - cmdstanpy - INFO - Chain [1] start processing\n"
     ]
    },
    {
     "name": "stdout",
     "output_type": "stream",
     "text": [
      "It's overpredicted.\n",
      "Monthly Error: 47.58 Period MAE: 12.46\n"
     ]
    },
    {
     "name": "stderr",
     "output_type": "stream",
     "text": [
      "22:39:34 - cmdstanpy - INFO - Chain [1] done processing\n",
      "22:39:34 - cmdstanpy - INFO - Chain [1] done processing\n",
      "22:39:34 - cmdstanpy - INFO - Chain [1] start processing\n",
      "22:39:34 - cmdstanpy - INFO - Chain [1] done processing\n",
      "22:39:34 - cmdstanpy - INFO - Chain [1] done processing\n"
     ]
    },
    {
     "name": "stdout",
     "output_type": "stream",
     "text": [
      "It's underpredicted.\n",
      "Monthly Error: 58.47 Period MAE: 56.55\n"
     ]
    },
    {
     "name": "stderr",
     "output_type": "stream",
     "text": [
      "22:39:36 - cmdstanpy - INFO - Chain [1] start processing\n",
      "22:39:36 - cmdstanpy - INFO - Chain [1] done processing\n"
     ]
    },
    {
     "name": "stdout",
     "output_type": "stream",
     "text": [
      "It's underpredicted.\n",
      "Monthly Error: 49.84 Period MAE: 41.75\n"
     ]
    },
    {
     "name": "stderr",
     "output_type": "stream",
     "text": [
      "22:39:37 - cmdstanpy - INFO - Chain [1] start processing\n",
      "22:39:37 - cmdstanpy - INFO - Chain [1] done processing\n"
     ]
    },
    {
     "name": "stdout",
     "output_type": "stream",
     "text": [
      "It's overpredicted.\n",
      "Monthly Error: 158.81 It's underpredicted.\n",
      "Period MAE: Monthly Error: 76.87\n",
      "52.53It's underpredicted.\n",
      " Monthly Error:Period MAE: 33.4647.94\n",
      "  Period MAE: 1.15\n"
     ]
    },
    {
     "name": "stderr",
     "output_type": "stream",
     "text": [
      "22:39:38 - cmdstanpy - INFO - Chain [1] start processing\n",
      "22:39:39 - cmdstanpy - INFO - Chain [1] done processing\n",
      "22:39:39 - cmdstanpy - INFO - Chain [1] start processing\n",
      "22:39:39 - cmdstanpy - INFO - Chain [1] start processing\n",
      "22:39:40 - cmdstanpy - INFO - Chain [1] done processing\n"
     ]
    },
    {
     "name": "stdout",
     "output_type": "stream",
     "text": [
      "It's underpredicted.\n",
      "Monthly Error: 64.71 Period MAE: 46.21\n"
     ]
    },
    {
     "name": "stderr",
     "output_type": "stream",
     "text": [
      "22:39:40 - cmdstanpy - INFO - Chain [1] done processing\n",
      "22:39:40 - cmdstanpy - INFO - Chain [1] start processing\n",
      "22:39:41 - cmdstanpy - INFO - Chain [1] done processing\n"
     ]
    },
    {
     "name": "stdout",
     "output_type": "stream",
     "text": [
      "It's underpredicted.\n",
      "Monthly Error: 46.84 Period MAE: 10.84\n"
     ]
    },
    {
     "name": "stderr",
     "output_type": "stream",
     "text": [
      "22:39:42 - cmdstanpy - INFO - Chain [1] start processing\n",
      "22:39:42 - cmdstanpy - INFO - Chain [1] done processing\n"
     ]
    },
    {
     "name": "stdout",
     "output_type": "stream",
     "text": [
      "It's underpredicted.\n",
      "Monthly Error: 47.66 Period MAE: 38.67\n"
     ]
    },
    {
     "name": "stderr",
     "output_type": "stream",
     "text": [
      "22:39:43 - cmdstanpy - INFO - Chain [1] start processing\n"
     ]
    },
    {
     "name": "stdout",
     "output_type": "stream",
     "text": [
      "It's underpredicted.\n",
      "Monthly Error: 62.16 Period MAE: 47.88"
     ]
    },
    {
     "name": "stderr",
     "output_type": "stream",
     "text": [
      "22:39:44 - cmdstanpy - INFO - Chain [1] done processing\n"
     ]
    },
    {
     "name": "stdout",
     "output_type": "stream",
     "text": [
      "\n",
      "It's underpredicted.It's underpredicted.\n",
      "Monthly Error:\n",
      " Monthly Error:49.04 80.3  Period MAE:Period MAE:  80.57\n",
      "3.56\n"
     ]
    },
    {
     "name": "stderr",
     "output_type": "stream",
     "text": [
      "22:39:45 - cmdstanpy - INFO - Chain [1] start processing\n",
      "22:39:45 - cmdstanpy - INFO - Chain [1] start processing\n",
      "22:39:45 - cmdstanpy - INFO - Chain [1] done processing\n",
      "22:39:46 - cmdstanpy - INFO - Chain [1] start processing\n",
      "22:39:46 - cmdstanpy - INFO - Chain [1] done processing\n",
      "22:39:46 - cmdstanpy - INFO - Chain [1] done processing\n"
     ]
    },
    {
     "name": "stdout",
     "output_type": "stream",
     "text": [
      "It's underpredicted.\n",
      "Monthly Error: 64.59 Period MAE: 46.1\n"
     ]
    },
    {
     "name": "stderr",
     "output_type": "stream",
     "text": [
      "22:39:47 - cmdstanpy - INFO - Chain [1] start processing\n"
     ]
    },
    {
     "name": "stdout",
     "output_type": "stream",
     "text": [
      "It's underpredicted.\n",
      "Monthly Error: 44.88 Period MAE: 40.849999999999994\n"
     ]
    },
    {
     "name": "stderr",
     "output_type": "stream",
     "text": [
      "22:39:48 - cmdstanpy - INFO - Chain [1] done processing\n",
      "22:39:49 - cmdstanpy - INFO - Chain [1] start processing\n"
     ]
    },
    {
     "name": "stdout",
     "output_type": "stream",
     "text": [
      "It's underpredicted.\n",
      "Monthly Error: 71.75 Period MAE: 28.87\n"
     ]
    },
    {
     "name": "stderr",
     "output_type": "stream",
     "text": [
      "22:39:49 - cmdstanpy - INFO - Chain [1] done processing\n",
      "22:39:50 - cmdstanpy - INFO - Chain [1] start processing\n",
      "22:39:50 - cmdstanpy - INFO - Chain [1] done processing\n"
     ]
    },
    {
     "name": "stdout",
     "output_type": "stream",
     "text": [
      "It's underpredicted.\n",
      "Monthly Error: 61.81 Period MAE: 47.53\n",
      "It's overpredicted.\n",
      "Monthly Error: 61.87 Period MAE: 60.01\n",
      "It's underpredicted.\n",
      "Monthly Error: 58.61 Period MAE: 2.9499999999999997\n"
     ]
    },
    {
     "name": "stderr",
     "output_type": "stream",
     "text": [
      "22:39:52 - cmdstanpy - INFO - Chain [1] start processing\n",
      "22:39:52 - cmdstanpy - INFO - Chain [1] start processing\n",
      "22:39:53 - cmdstanpy - INFO - Chain [1] done processing\n",
      "22:39:53 - cmdstanpy - INFO - Chain [1] start processing\n",
      "22:39:53 - cmdstanpy - INFO - Chain [1] done processing\n",
      "22:39:53 - cmdstanpy - INFO - Chain [1] done processing\n"
     ]
    },
    {
     "name": "stdout",
     "output_type": "stream",
     "text": [
      "It's overpredicted.\n",
      "It's underpredicted.Monthly Error:\n",
      " Monthly Error:49.58  70.4Period MAE:  47.99Period MAE:\n",
      " 50.49\n"
     ]
    },
    {
     "name": "stderr",
     "output_type": "stream",
     "text": [
      "22:39:54 - cmdstanpy - INFO - Chain [1] start processing\n",
      "22:39:55 - cmdstanpy - INFO - Chain [1] start processing\n",
      "22:39:55 - cmdstanpy - INFO - Chain [1] done processing\n"
     ]
    },
    {
     "name": "stdout",
     "output_type": "stream",
     "text": [
      "It's underpredicted.\n",
      "Monthly Error: 71.67 Period MAE: 28.98\n"
     ]
    },
    {
     "name": "stderr",
     "output_type": "stream",
     "text": [
      "22:39:55 - cmdstanpy - INFO - Chain [1] done processing\n",
      "22:39:56 - cmdstanpy - INFO - Chain [1] start processing\n",
      "22:39:56 - cmdstanpy - INFO - Chain [1] done processing\n"
     ]
    },
    {
     "name": "stdout",
     "output_type": "stream",
     "text": [
      "It's underpredicted.\n",
      "Monthly Error: 67.6 Period MAE: 52.1\n",
      "It's overpredicted.\n",
      "Monthly Error: 54.77 Period MAE: 51.690000000000005\n",
      "It's underpredicted.\n",
      "Monthly Error: 79.96 Period MAE: "
     ]
    },
    {
     "name": "stderr",
     "output_type": "stream",
     "text": [
      "22:39:58 - cmdstanpy - INFO - Chain [1] start processing\n"
     ]
    },
    {
     "name": "stdout",
     "output_type": "stream",
     "text": [
      "80.24\n"
     ]
    },
    {
     "name": "stderr",
     "output_type": "stream",
     "text": [
      "22:39:59 - cmdstanpy - INFO - Chain [1] start processing\n",
      "22:39:59 - cmdstanpy - INFO - Chain [1] start processing\n",
      "22:39:59 - cmdstanpy - INFO - Chain [1] done processing\n",
      "22:39:59 - cmdstanpy - INFO - Chain [1] done processing\n"
     ]
    },
    {
     "name": "stdout",
     "output_type": "stream",
     "text": [
      "It's overpredicted.\n"
     ]
    },
    {
     "name": "stderr",
     "output_type": "stream",
     "text": [
      "22:40:00 - cmdstanpy - INFO - Chain [1] done processing\n"
     ]
    },
    {
     "name": "stdout",
     "output_type": "stream",
     "text": [
      "Monthly Error: 116.73 Period MAE: 96.89\n"
     ]
    },
    {
     "name": "stderr",
     "output_type": "stream",
     "text": [
      "22:40:00 - cmdstanpy - INFO - Chain [1] start processing\n",
      "22:40:01 - cmdstanpy - INFO - Chain [1] done processing\n"
     ]
    },
    {
     "name": "stdout",
     "output_type": "stream",
     "text": [
      "It's underpredicted.\n",
      "Monthly Error: 53.83 Period MAE: 53.480000000000004\n"
     ]
    },
    {
     "name": "stderr",
     "output_type": "stream",
     "text": [
      "22:40:02 - cmdstanpy - INFO - Chain [1] start processing\n"
     ]
    },
    {
     "name": "stdout",
     "output_type": "stream",
     "text": [
      "It's underpredicted."
     ]
    },
    {
     "name": "stderr",
     "output_type": "stream",
     "text": [
      "22:40:02 - cmdstanpy - INFO - Chain [1] done processing\n"
     ]
    },
    {
     "name": "stdout",
     "output_type": "stream",
     "text": [
      "\n",
      "Monthly Error: 78.39 Period MAE: 32.61\n",
      "It's underpredicted.\n",
      "Monthly Error: "
     ]
    },
    {
     "name": "stderr",
     "output_type": "stream",
     "text": [
      "22:40:03 - cmdstanpy - INFO - Chain [1] start processing\n"
     ]
    },
    {
     "name": "stdout",
     "output_type": "stream",
     "text": [
      "52.12 Period MAE: 51.64\n"
     ]
    },
    {
     "name": "stderr",
     "output_type": "stream",
     "text": [
      "22:40:04 - cmdstanpy - INFO - Chain [1] done processing\n"
     ]
    },
    {
     "name": "stdout",
     "output_type": "stream",
     "text": [
      "It's overpredicted.\n",
      "Monthly Error: 136.74 Period MAE: 36.57\n"
     ]
    },
    {
     "name": "stderr",
     "output_type": "stream",
     "text": [
      "22:40:05 - cmdstanpy - INFO - Chain [1] start processing\n"
     ]
    },
    {
     "name": "stdout",
     "output_type": "stream",
     "text": [
      "It's overpredicted.\n",
      "Monthly Error: 140.15 Period MAE: 118.21\n"
     ]
    },
    {
     "name": "stderr",
     "output_type": "stream",
     "text": [
      "22:40:06 - cmdstanpy - INFO - Chain [1] start processing\n",
      "22:40:06 - cmdstanpy - INFO - Chain [1] done processing\n",
      "22:40:06 - cmdstanpy - INFO - Chain [1] start processing\n",
      "22:40:06 - cmdstanpy - INFO - Chain [1] done processing\n",
      "22:40:06 - cmdstanpy - INFO - Chain [1] done processing\n"
     ]
    },
    {
     "name": "stdout",
     "output_type": "stream",
     "text": [
      "It's underpredicted.\n",
      "Monthly Error: 52.17It's overpredicted.\n",
      " Monthly Error:Period MAE:  131.06 52.83Period MAE:\n",
      " 32.07\n",
      "It's underpredicted.\n",
      "Monthly Error: 52.1 Period MAE: 24.8\n"
     ]
    },
    {
     "name": "stderr",
     "output_type": "stream",
     "text": [
      "22:40:08 - cmdstanpy - INFO - Chain [1] start processing\n",
      "22:40:08 - cmdstanpy - INFO - Chain [1] done processing\n",
      "22:40:08 - cmdstanpy - INFO - Chain [1] start processing\n",
      "22:40:09 - cmdstanpy - INFO - Chain [1] start processing\n",
      "22:40:09 - cmdstanpy - INFO - Chain [1] done processing\n",
      "22:40:09 - cmdstanpy - INFO - Chain [1] done processing\n"
     ]
    },
    {
     "name": "stdout",
     "output_type": "stream",
     "text": [
      "It's overpredicted.\n",
      "Monthly Error: 156.72 Period MAE: 62.35000000000001\n",
      "It's underpredicted.\n",
      "Monthly Error: 52.21 Period MAE: 52.739999999999995\n"
     ]
    },
    {
     "name": "stderr",
     "output_type": "stream",
     "text": [
      "22:40:11 - cmdstanpy - INFO - Chain [1] start processing\n"
     ]
    },
    {
     "name": "stdout",
     "output_type": "stream",
     "text": [
      "It's overpredicted.\n",
      "Monthly Error: 74.21 Period MAE:"
     ]
    },
    {
     "name": "stderr",
     "output_type": "stream",
     "text": [
      "22:40:12 - cmdstanpy - INFO - Chain [1] start processing\n"
     ]
    },
    {
     "name": "stdout",
     "output_type": "stream",
     "text": [
      " 71.95\n"
     ]
    },
    {
     "name": "stderr",
     "output_type": "stream",
     "text": [
      "22:40:12 - cmdstanpy - INFO - Chain [1] start processing\n"
     ]
    },
    {
     "name": "stdout",
     "output_type": "stream",
     "text": [
      "It's overpredicted.\n",
      "Monthly Error: 70.78 Period MAE: 68.72\n"
     ]
    },
    {
     "name": "stderr",
     "output_type": "stream",
     "text": [
      "22:40:12 - cmdstanpy - INFO - Chain [1] done processing\n",
      "22:40:12 - cmdstanpy - INFO - Chain [1] done processing\n",
      "22:40:13 - cmdstanpy - INFO - Chain [1] start processing\n",
      "22:40:13 - cmdstanpy - INFO - Chain [1] done processing\n",
      "22:40:13 - cmdstanpy - INFO - Chain [1] done processing\n"
     ]
    },
    {
     "name": "stdout",
     "output_type": "stream",
     "text": [
      "It's underpredicted.\n",
      "Monthly Error: 56.59 Period MAE: 57.25\n",
      "It's underpredicted.\n",
      "Monthly Error: 38.73 Period MAE: 29.459999999999997\n"
     ]
    },
    {
     "name": "stderr",
     "output_type": "stream",
     "text": [
      "22:40:15 - cmdstanpy - INFO - Chain [1] start processing\n",
      "22:40:16 - cmdstanpy - INFO - Chain [1] done processing\n",
      "22:40:16 - cmdstanpy - INFO - Chain [1] start processing\n",
      "22:40:16 - cmdstanpy - INFO - Chain [1] done processing\n"
     ]
    },
    {
     "name": "stdout",
     "output_type": "stream",
     "text": [
      "It's overpredicted.\n",
      "Monthly Error: 133.61 Period MAE: 33.97\n",
      "It's overpredicted.\n",
      "Monthly Error: 68.6 Period MAE: 65.33\n",
      "It's underpredicted.\n",
      "Monthly Error: 55.14 Period MAE: 55.730000000000004\n"
     ]
    },
    {
     "name": "stderr",
     "output_type": "stream",
     "text": [
      "22:40:18 - cmdstanpy - INFO - Chain [1] start processing\n",
      "22:40:18 - cmdstanpy - INFO - Chain [1] start processing\n",
      "22:40:18 - cmdstanpy - INFO - Chain [1] start processing\n",
      "22:40:18 - cmdstanpy - INFO - Chain [1] done processing\n",
      "22:40:19 - cmdstanpy - INFO - Chain [1] done processing\n",
      "22:40:19 - cmdstanpy - INFO - Chain [1] done processing\n"
     ]
    },
    {
     "name": "stdout",
     "output_type": "stream",
     "text": [
      "It's underpredicted.\n",
      "Monthly Error: 73.65 Period MAE: 47.74\n",
      "It's overpredicted.\n",
      "Monthly Error: 163.86 Period MAE: 149.13\n"
     ]
    },
    {
     "name": "stderr",
     "output_type": "stream",
     "text": [
      "22:40:20 - cmdstanpy - INFO - Chain [1] start processing\n",
      "22:40:20 - cmdstanpy - INFO - Chain [1] done processing\n",
      "22:40:20 - cmdstanpy - INFO - Chain [1] start processing\n",
      "22:40:21 - cmdstanpy - INFO - Chain [1] done processing\n"
     ]
    },
    {
     "name": "stdout",
     "output_type": "stream",
     "text": [
      "It's underpredicted.\n",
      "Monthly Error: 54.8 Period MAE: 30.759999999999998\n"
     ]
    },
    {
     "name": "stderr",
     "output_type": "stream",
     "text": [
      "22:40:22 - cmdstanpy - INFO - Chain [1] start processing\n",
      "22:40:22 - cmdstanpy - INFO - Chain [1] done processing\n"
     ]
    },
    {
     "name": "stdout",
     "output_type": "stream",
     "text": [
      "It's underpredicted.\n",
      "Monthly Error: 71.21 Period MAE: 46.650000000000006\n",
      "It's overpredicted.\n",
      "Monthly Error: 84.89 Period MAE: 48.339999999999996\n",
      "It's underpredicted.\n",
      "Monthly Error: 58.56 Period MAE: 23.799999999999997\n"
     ]
    },
    {
     "name": "stderr",
     "output_type": "stream",
     "text": [
      "22:40:24 - cmdstanpy - INFO - Chain [1] start processing\n",
      "22:40:24 - cmdstanpy - INFO - Chain [1] start processing\n",
      "22:40:24 - cmdstanpy - INFO - Chain [1] done processing\n",
      "22:40:24 - cmdstanpy - INFO - Chain [1] start processing\n",
      "22:40:25 - cmdstanpy - INFO - Chain [1] done processing\n",
      "22:40:25 - cmdstanpy - INFO - Chain [1] done processing\n"
     ]
    },
    {
     "name": "stdout",
     "output_type": "stream",
     "text": [
      "It's underpredicted.\n",
      "Monthly Error: 40.5 Period MAE: 26.11\n",
      "It's underpredicted.\n",
      "Monthly Error: 72.31 Period MAE: 49.66\n"
     ]
    },
    {
     "name": "stderr",
     "output_type": "stream",
     "text": [
      "22:40:26 - cmdstanpy - INFO - Chain [1] start processing\n",
      "22:40:26 - cmdstanpy - INFO - Chain [1] done processing\n",
      "22:40:27 - cmdstanpy - INFO - Chain [1] start processing\n"
     ]
    },
    {
     "name": "stdout",
     "output_type": "stream",
     "text": [
      "It's underpredicted.\n",
      "Monthly Error: 72.5 Period MAE: 37.19\n"
     ]
    },
    {
     "name": "stderr",
     "output_type": "stream",
     "text": [
      "22:40:27 - cmdstanpy - INFO - Chain [1] done processing\n",
      "22:40:28 - cmdstanpy - INFO - Chain [1] start processing\n",
      "22:40:28 - cmdstanpy - INFO - Chain [1] done processing\n"
     ]
    },
    {
     "name": "stdout",
     "output_type": "stream",
     "text": [
      "It's underpredicted.\n",
      "Monthly Error: 68.7 Period MAE: 47.63\n",
      "It's underpredicted.\n",
      "Monthly Error: 40.09 Period MAE:It's overpredicted. \n",
      "25.85\n",
      "Monthly Error: 63.87 Period MAE: 10.51\n"
     ]
    },
    {
     "name": "stderr",
     "output_type": "stream",
     "text": [
      "22:40:30 - cmdstanpy - INFO - Chain [1] start processing\n",
      "22:40:30 - cmdstanpy - INFO - Chain [1] start processing\n",
      "22:40:30 - cmdstanpy - INFO - Chain [1] done processing\n",
      "22:40:31 - cmdstanpy - INFO - Chain [1] start processing\n",
      "22:40:31 - cmdstanpy - INFO - Chain [1] done processing\n",
      "22:40:31 - cmdstanpy - INFO - Chain [1] done processing\n"
     ]
    },
    {
     "name": "stdout",
     "output_type": "stream",
     "text": [
      "It's overpredicted.\n",
      "Monthly Error: 41.99 Period MAE: 13.01\n",
      "It's underpredicted.\n",
      "Monthly Error: "
     ]
    },
    {
     "name": "stderr",
     "output_type": "stream",
     "text": [
      "22:40:32 - cmdstanpy - INFO - Chain [1] start processing\n"
     ]
    },
    {
     "name": "stdout",
     "output_type": "stream",
     "text": [
      "74.15 Period MAE: 50.739999999999995\n"
     ]
    },
    {
     "name": "stderr",
     "output_type": "stream",
     "text": [
      "22:40:32 - cmdstanpy - INFO - Chain [1] done processing\n",
      "22:40:33 - cmdstanpy - INFO - Chain [1] start processing\n",
      "22:40:33 - cmdstanpy - INFO - Chain [1] done processing\n"
     ]
    },
    {
     "name": "stdout",
     "output_type": "stream",
     "text": [
      "It's underpredicted.\n",
      "Monthly Error: 70.72 Period MAE: 41.339999999999996\n"
     ]
    },
    {
     "name": "stderr",
     "output_type": "stream",
     "text": [
      "22:40:34 - cmdstanpy - INFO - Chain [1] start processing\n",
      "22:40:34 - cmdstanpy - INFO - Chain [1] done processing\n"
     ]
    },
    {
     "name": "stdout",
     "output_type": "stream",
     "text": [
      "It's underpredicted.\n",
      "Monthly Error: 70.84 Period MAE: 46.800000000000004\n",
      "It's overpredicted.\n",
      "Monthly Error: 47.98 Period MAE: 13.29\n",
      "It's underpredicted.\n",
      "Monthly Error: 71.76 Period MAE: 1.17\n"
     ]
    },
    {
     "name": "stderr",
     "output_type": "stream",
     "text": [
      "22:40:36 - cmdstanpy - INFO - Chain [1] start processing\n",
      "22:40:36 - cmdstanpy - INFO - Chain [1] start processing\n",
      "22:40:36 - cmdstanpy - INFO - Chain [1] start processing\n",
      "22:40:37 - cmdstanpy - INFO - Chain [1] done processing\n",
      "22:40:37 - cmdstanpy - INFO - Chain [1] done processing\n",
      "22:40:37 - cmdstanpy - INFO - Chain [1] done processing\n"
     ]
    },
    {
     "name": "stdout",
     "output_type": "stream",
     "text": [
      "It's underpredicted.\n",
      "Monthly Error: 48.29 Period MAE: 8.6\n",
      "It's underpredicted.\n",
      "Monthly Error: 58.59 Period MAE: 56.37\n"
     ]
    },
    {
     "name": "stderr",
     "output_type": "stream",
     "text": [
      "22:40:38 - cmdstanpy - INFO - Chain [1] start processing\n",
      "22:40:39 - cmdstanpy - INFO - Chain [1] done processing\n",
      "22:40:39 - cmdstanpy - INFO - Chain [1] start processing\n",
      "22:40:39 - cmdstanpy - INFO - Chain [1] done processing\n"
     ]
    },
    {
     "name": "stdout",
     "output_type": "stream",
     "text": [
      "It's underpredicted.\n",
      "Monthly Error: 73.92 Period MAE: 42.59\n"
     ]
    },
    {
     "name": "stderr",
     "output_type": "stream",
     "text": [
      "22:40:40 - cmdstanpy - INFO - Chain [1] start processing\n",
      "22:40:40 - cmdstanpy - INFO - Chain [1] done processing\n"
     ]
    },
    {
     "name": "stdout",
     "output_type": "stream",
     "text": [
      "It's underpredicted.\n",
      "Monthly Error: 56.59 Period MAE: 53.76\n",
      "It's underpredicted.\n",
      "Monthly Error: 46.85 Period MAE: 7.55\n",
      "It's overpredicted.\n",
      "Monthly Error: 155.24 Period MAE: 66.09\n"
     ]
    },
    {
     "name": "stderr",
     "output_type": "stream",
     "text": [
      "22:40:42 - cmdstanpy - INFO - Chain [1] start processing\n",
      "22:40:42 - cmdstanpy - INFO - Chain [1] start processing\n",
      "22:40:43 - cmdstanpy - INFO - Chain [1] start processing\n",
      "22:40:43 - cmdstanpy - INFO - Chain [1] done processing\n",
      "22:40:43 - cmdstanpy - INFO - Chain [1] done processing\n",
      "22:40:43 - cmdstanpy - INFO - Chain [1] done processing\n"
     ]
    },
    {
     "name": "stdout",
     "output_type": "stream",
     "text": [
      "It's underpredicted.\n",
      "Monthly Error: 57.55 Period MAE: 12.31\n",
      "It's underpredicted.\n",
      "Monthly Error: 59.6 Period MAE: 57.410000000000004\n"
     ]
    },
    {
     "name": "stderr",
     "output_type": "stream",
     "text": [
      "22:40:44 - cmdstanpy - INFO - Chain [1] start processing\n",
      "22:40:44 - cmdstanpy - INFO - Chain [1] done processing\n",
      "22:40:45 - cmdstanpy - INFO - Chain [1] start processing\n"
     ]
    },
    {
     "name": "stdout",
     "output_type": "stream",
     "text": [
      "It's underpredicted.\n",
      "Monthly Error: 48.08 Period MAE: 40.089999999999996\n"
     ]
    },
    {
     "name": "stderr",
     "output_type": "stream",
     "text": [
      "22:40:45 - cmdstanpy - INFO - Chain [1] done processing\n",
      "22:40:46 - cmdstanpy - INFO - Chain [1] start processing\n",
      "22:40:46 - cmdstanpy - INFO - Chain [1] done processing\n"
     ]
    },
    {
     "name": "stdout",
     "output_type": "stream",
     "text": [
      "It's underpredicted.\n",
      "Monthly Error: 56.23 Period MAE: 52.75\n",
      "It's overpredicted.\n",
      "Monthly Error: 148.78It's underpredicted. \n",
      "Period MAE:Monthly Error:  94.646.89\n",
      " Period MAE: 27.49\n"
     ]
    },
    {
     "name": "stderr",
     "output_type": "stream",
     "text": [
      "22:40:48 - cmdstanpy - INFO - Chain [1] start processing\n",
      "22:40:48 - cmdstanpy - INFO - Chain [1] start processing\n",
      "22:40:48 - cmdstanpy - INFO - Chain [1] done processing\n",
      "22:40:49 - cmdstanpy - INFO - Chain [1] start processing\n",
      "22:40:49 - cmdstanpy - INFO - Chain [1] done processing\n",
      "22:40:49 - cmdstanpy - INFO - Chain [1] done processing\n"
     ]
    },
    {
     "name": "stdout",
     "output_type": "stream",
     "text": [
      "It's underpredicted.\n",
      "Monthly Error: 59.16 Period MAE: 57.49999999999999\n",
      "It's overpredicted.\n",
      "Monthly Error: 39.62 Period MAE: 6.25\n"
     ]
    },
    {
     "name": "stderr",
     "output_type": "stream",
     "text": [
      "22:40:50 - cmdstanpy - INFO - Chain [1] start processing\n",
      "22:40:50 - cmdstanpy - INFO - Chain [1] done processing\n",
      "22:40:50 - cmdstanpy - INFO - Chain [1] start processing\n",
      "22:40:51 - cmdstanpy - INFO - Chain [1] done processing\n"
     ]
    },
    {
     "name": "stdout",
     "output_type": "stream",
     "text": [
      "It's underpredicted.\n",
      "Monthly Error: 52.5 Period MAE: 46.48\n"
     ]
    },
    {
     "name": "stderr",
     "output_type": "stream",
     "text": [
      "22:40:52 - cmdstanpy - INFO - Chain [1] start processing\n",
      "22:40:53 - cmdstanpy - INFO - Chain [1] done processing\n"
     ]
    },
    {
     "name": "stdout",
     "output_type": "stream",
     "text": [
      "It's underpredicted.\n",
      "Monthly Error: 57.74 Period MAE: 55.910000000000004\n",
      "It's overpredicted.\n",
      "Monthly Error: 48.4 Period MAE: 14.360000000000001\n",
      "It's overpredicted.\n",
      "Monthly Error: 157.26 Period MAE: 75.42\n"
     ]
    },
    {
     "name": "stderr",
     "output_type": "stream",
     "text": [
      "22:40:55 - cmdstanpy - INFO - Chain [1] start processing\n",
      "22:40:55 - cmdstanpy - INFO - Chain [1] start processing\n",
      "22:40:55 - cmdstanpy - INFO - Chain [1] start processing\n",
      "22:40:55 - cmdstanpy - INFO - Chain [1] done processing\n",
      "22:40:55 - cmdstanpy - INFO - Chain [1] done processing\n"
     ]
    },
    {
     "name": "stdout",
     "output_type": "stream",
     "text": [
      "It's underpredicted.\n",
      "Monthly Error:"
     ]
    },
    {
     "name": "stderr",
     "output_type": "stream",
     "text": [
      "22:40:56 - cmdstanpy - INFO - Chain [1] done processing\n"
     ]
    },
    {
     "name": "stdout",
     "output_type": "stream",
     "text": [
      " 65.6 Period MAE: 47.760000000000005\n"
     ]
    },
    {
     "name": "stderr",
     "output_type": "stream",
     "text": [
      "22:40:56 - cmdstanpy - INFO - Chain [1] start processing\n"
     ]
    },
    {
     "name": "stdout",
     "output_type": "stream",
     "text": [
      "It's underpredicted.\n",
      "Monthly Error: 54.52 Period MAE: 0.84\n"
     ]
    },
    {
     "name": "stderr",
     "output_type": "stream",
     "text": [
      "22:40:57 - cmdstanpy - INFO - Chain [1] done processing\n",
      "22:40:57 - cmdstanpy - INFO - Chain [1] start processing\n",
      "22:40:57 - cmdstanpy - INFO - Chain [1] done processing\n"
     ]
    },
    {
     "name": "stdout",
     "output_type": "stream",
     "text": [
      "It's underpredicted.\n",
      "Monthly Error: 48.26 Period MAE: 39.09\n"
     ]
    },
    {
     "name": "stderr",
     "output_type": "stream",
     "text": [
      "22:40:59 - cmdstanpy - INFO - Chain [1] start processing\n"
     ]
    },
    {
     "name": "stdout",
     "output_type": "stream",
     "text": [
      "It's underpredicted.\n",
      "Monthly Error: 62.49 It's overpredicted.\n",
      "Period MAE: Monthly Error:46.81\n",
      " "
     ]
    },
    {
     "name": "stderr",
     "output_type": "stream",
     "text": [
      "22:40:59 - cmdstanpy - INFO - Chain [1] done processing\n"
     ]
    },
    {
     "name": "stdout",
     "output_type": "stream",
     "text": [
      "72.35 Period MAE: 12.67\n",
      "It's underpredicted.\n",
      "Monthly Error: 80.11 Period MAE: 80.39\n"
     ]
    },
    {
     "name": "stderr",
     "output_type": "stream",
     "text": [
      "22:41:00 - cmdstanpy - INFO - Chain [1] start processing\n",
      "22:41:00 - cmdstanpy - INFO - Chain [1] start processing\n",
      "22:41:00 - cmdstanpy - INFO - Chain [1] start processing\n",
      "22:41:01 - cmdstanpy - INFO - Chain [1] done processing\n",
      "22:41:01 - cmdstanpy - INFO - Chain [1] done processing\n",
      "22:41:01 - cmdstanpy - INFO - Chain [1] done processing\n"
     ]
    },
    {
     "name": "stdout",
     "output_type": "stream",
     "text": [
      "It's underpredicted.\n",
      "Monthly Error: 65.47 Period MAE: 47.61\n"
     ]
    },
    {
     "name": "stderr",
     "output_type": "stream",
     "text": [
      "22:41:04 - cmdstanpy - INFO - Chain [1] start processing\n",
      "22:41:04 - cmdstanpy - INFO - Chain [1] done processing\n"
     ]
    },
    {
     "name": "stdout",
     "output_type": "stream",
     "text": [
      "It's underpredicted.\n",
      "Monthly Error: 80.48 Period MAE: 80.75\n",
      "It's underpredicted.\n",
      "Monthly Error: 65.68 Period MAE: "
     ]
    },
    {
     "name": "stderr",
     "output_type": "stream",
     "text": [
      "22:41:05 - cmdstanpy - INFO - Chain [1] start processing\n"
     ]
    },
    {
     "name": "stdout",
     "output_type": "stream",
     "text": [
      "30.94\n"
     ]
    },
    {
     "name": "stderr",
     "output_type": "stream",
     "text": [
      "22:41:05 - cmdstanpy - INFO - Chain [1] done processing\n",
      "22:41:06 - cmdstanpy - INFO - Chain [1] start processing\n",
      "22:41:06 - cmdstanpy - INFO - Chain [1] done processing\n"
     ]
    },
    {
     "name": "stdout",
     "output_type": "stream",
     "text": [
      "It's underpredicted.\n",
      "Monthly Error: 70.63 Period MAE: 71.71\n",
      "It's underpredicted.\n",
      "Monthly Error: 62.54 Period MAE: 46.9\n",
      "It's overpredicted.\n",
      "Monthly Error: 58.05 Period MAE: 56.230000000000004\n"
     ]
    },
    {
     "name": "stderr",
     "output_type": "stream",
     "text": [
      "22:41:08 - cmdstanpy - INFO - Chain [1] start processing\n",
      "22:41:08 - cmdstanpy - INFO - Chain [1] start processing\n",
      "22:41:08 - cmdstanpy - INFO - Chain [1] done processing\n",
      "22:41:09 - cmdstanpy - INFO - Chain [1] start processing\n",
      "22:41:09 - cmdstanpy - INFO - Chain [1] done processing\n",
      "22:41:09 - cmdstanpy - INFO - Chain [1] done processing\n"
     ]
    },
    {
     "name": "stdout",
     "output_type": "stream",
     "text": [
      "It's underpredicted.\n",
      "Monthly Error: 67.56 Period MAE: 48.94\n",
      "It's overpredicted.\n",
      "Monthly Error: 52.76 Period MAE: 51.12\n"
     ]
    },
    {
     "name": "stderr",
     "output_type": "stream",
     "text": [
      "22:41:10 - cmdstanpy - INFO - Chain [1] start processing\n",
      "22:41:11 - cmdstanpy - INFO - Chain [1] done processing\n",
      "22:41:11 - cmdstanpy - INFO - Chain [1] start processing\n"
     ]
    },
    {
     "name": "stdout",
     "output_type": "stream",
     "text": [
      "It's underpredicted.\n",
      "Monthly Error: 65.7 Period MAE: 30.54\n"
     ]
    },
    {
     "name": "stderr",
     "output_type": "stream",
     "text": [
      "22:41:11 - cmdstanpy - INFO - Chain [1] done processing\n",
      "22:41:12 - cmdstanpy - INFO - Chain [1] start processing\n",
      "22:41:12 - cmdstanpy - INFO - Chain [1] done processing\n"
     ]
    },
    {
     "name": "stdout",
     "output_type": "stream",
     "text": [
      "It's underpredicted.\n",
      "Monthly Error: 65.97 Period MAE: 49.62\n",
      "It's overpredicted.\n",
      "Monthly Error: 63.75 Period MAE: 61.14000000000001\n",
      "It's underpredicted.\n"
     ]
    },
    {
     "name": "stderr",
     "output_type": "stream",
     "text": [
      "22:41:14 - cmdstanpy - INFO - Chain [1] start processing\n"
     ]
    },
    {
     "name": "stdout",
     "output_type": "stream",
     "text": [
      "Monthly Error: 80.06 Period MAE: 80.34\n"
     ]
    },
    {
     "name": "stderr",
     "output_type": "stream",
     "text": [
      "22:41:15 - cmdstanpy - INFO - Chain [1] start processing\n"
     ]
    },
    {
     "name": "stdout",
     "output_type": "stream",
     "text": [
      "It's underpredicted.\n",
      "Monthly Error: 80.33 Period MAE: 80.58999999999999\n"
     ]
    },
    {
     "name": "stderr",
     "output_type": "stream",
     "text": [
      "22:41:15 - cmdstanpy - INFO - Chain [1] start processing\n",
      "22:41:15 - cmdstanpy - INFO - Chain [1] done processing\n",
      "22:41:15 - cmdstanpy - INFO - Chain [1] done processing\n",
      "22:41:15 - cmdstanpy - INFO - Chain [1] start processing\n",
      "22:41:16 - cmdstanpy - INFO - Chain [1] done processing\n",
      "22:41:16 - cmdstanpy - INFO - Chain [1] done processing\n"
     ]
    },
    {
     "name": "stdout",
     "output_type": "stream",
     "text": [
      "It's underpredicted.\n",
      "Monthly Error: 52.18 Period MAE: 51.93\n",
      "It's underpredicted.\n",
      "Monthly Error: 69.68 Period MAE:"
     ]
    },
    {
     "name": "stderr",
     "output_type": "stream",
     "text": [
      "22:41:17 - cmdstanpy - INFO - Chain [1] start processing\n"
     ]
    },
    {
     "name": "stdout",
     "output_type": "stream",
     "text": [
      " 33.129999999999995\n"
     ]
    },
    {
     "name": "stderr",
     "output_type": "stream",
     "text": [
      "22:41:18 - cmdstanpy - INFO - Chain [1] done processing\n",
      "22:41:18 - cmdstanpy - INFO - Chain [1] start processing\n",
      "22:41:18 - cmdstanpy - INFO - Chain [1] done processing\n"
     ]
    },
    {
     "name": "stdout",
     "output_type": "stream",
     "text": [
      "It's overpredicted.\n",
      "Monthly Error: 134.0 Period MAE: 34.83\n",
      "It's underpredicted.\n",
      "Monthly Error: 51.65 Period MAE: 51.25999999999999\n"
     ]
    },
    {
     "name": "stderr",
     "output_type": "stream",
     "text": [
      "22:41:20 - cmdstanpy - INFO - Chain [1] start processing\n",
      "22:41:21 - cmdstanpy - INFO - Chain [1] start processing\n"
     ]
    },
    {
     "name": "stdout",
     "output_type": "stream",
     "text": [
      "It's underpredicted."
     ]
    },
    {
     "name": "stderr",
     "output_type": "stream",
     "text": [
      "22:41:21 - cmdstanpy - INFO - Chain [1] done processing\n"
     ]
    },
    {
     "name": "stdout",
     "output_type": "stream",
     "text": [
      "\n",
      "Monthly Error: 70.38 Period MAE: "
     ]
    },
    {
     "name": "stderr",
     "output_type": "stream",
     "text": [
      "22:41:21 - cmdstanpy - INFO - Chain [1] done processing\n"
     ]
    },
    {
     "name": "stdout",
     "output_type": "stream",
     "text": [
      "71.46000000000001\n",
      "It's overpredicted.\n",
      "Monthly Error: 131.93 Period MAE: 33.800000000000004\n"
     ]
    },
    {
     "name": "stderr",
     "output_type": "stream",
     "text": [
      "22:41:21 - cmdstanpy - INFO - Chain [1] start processing\n",
      "22:41:22 - cmdstanpy - INFO - Chain [1] start processing\n",
      "22:41:22 - cmdstanpy - INFO - Chain [1] done processing\n",
      "22:41:22 - cmdstanpy - INFO - Chain [1] done processing\n"
     ]
    },
    {
     "name": "stdout",
     "output_type": "stream",
     "text": [
      "It's underpredicted.\n",
      "Monthly Error: 49.29 Period MAE: 39.01\n"
     ]
    },
    {
     "name": "stderr",
     "output_type": "stream",
     "text": [
      "22:41:23 - cmdstanpy - INFO - Chain [1] start processing\n"
     ]
    },
    {
     "name": "stdout",
     "output_type": "stream",
     "text": [
      "It's underpredicted.\n",
      "Monthly Error: 54.48 Period MAE: 55.11000000000001\n"
     ]
    },
    {
     "name": "stderr",
     "output_type": "stream",
     "text": [
      "22:41:24 - cmdstanpy - INFO - Chain [1] done processing\n",
      "22:41:24 - cmdstanpy - INFO - Chain [1] start processing\n",
      "22:41:25 - cmdstanpy - INFO - Chain [1] done processing\n"
     ]
    },
    {
     "name": "stdout",
     "output_type": "stream",
     "text": [
      "It's overpredicted.\n",
      "Monthly Error:It's overpredicted. \n",
      "Monthly Error:135.11 66.76  Period MAE:Period MAE: 64.69 37.830000000000005\n",
      "\n",
      "It's underpredicted.\n",
      "Monthly Error: 53.64 Period MAE: 54.17999999999999\n"
     ]
    },
    {
     "name": "stderr",
     "output_type": "stream",
     "text": [
      "22:41:27 - cmdstanpy - INFO - Chain [1] start processing\n",
      "22:41:27 - cmdstanpy - INFO - Chain [1] start processing\n",
      "22:41:27 - cmdstanpy - INFO - Chain [1] start processing\n",
      "22:41:27 - cmdstanpy - INFO - Chain [1] done processing\n",
      "22:41:27 - cmdstanpy - INFO - Chain [1] done processing\n",
      "22:41:28 - cmdstanpy - INFO - Chain [1] done processing\n"
     ]
    },
    {
     "name": "stdout",
     "output_type": "stream",
     "text": [
      "It's overpredicted.\n",
      "Monthly Error: It's underpredicted.\n",
      "Monthly Error: 65.42 55.87Period MAE: Period MAE:  63.470000000000006\n",
      "56.52\n"
     ]
    },
    {
     "name": "stderr",
     "output_type": "stream",
     "text": [
      "22:41:29 - cmdstanpy - INFO - Chain [1] start processing\n",
      "22:41:29 - cmdstanpy - INFO - Chain [1] done processing\n",
      "22:41:29 - cmdstanpy - INFO - Chain [1] start processing\n",
      "22:41:30 - cmdstanpy - INFO - Chain [1] done processing\n"
     ]
    },
    {
     "name": "stdout",
     "output_type": "stream",
     "text": [
      "It's underpredicted.It's overpredicted.\n",
      "\n",
      "Monthly Error:Monthly Error: 75.03  42.0Period MAE: Period MAE:  72.1437.47\n",
      "\n"
     ]
    },
    {
     "name": "stderr",
     "output_type": "stream",
     "text": [
      "22:41:31 - cmdstanpy - INFO - Chain [1] start processing\n",
      "22:41:31 - cmdstanpy - INFO - Chain [1] done processing\n"
     ]
    },
    {
     "name": "stdout",
     "output_type": "stream",
     "text": [
      "It's underpredicted.\n",
      "Monthly Error: 56.08 Period MAE: 56.63\n"
     ]
    },
    {
     "name": "stderr",
     "output_type": "stream",
     "text": [
      "22:41:32 - cmdstanpy - INFO - Chain [1] start processing\n"
     ]
    },
    {
     "name": "stdout",
     "output_type": "stream",
     "text": [
      "It's overpredicted.\n",
      "Monthly Error: 133.69 Period MAE: 35.14\n"
     ]
    },
    {
     "name": "stderr",
     "output_type": "stream",
     "text": [
      "22:41:33 - cmdstanpy - INFO - Chain [1] done processing\n",
      "22:41:33 - cmdstanpy - INFO - Chain [1] start processing\n",
      "22:41:33 - cmdstanpy - INFO - Chain [1] start processing\n",
      "22:41:33 - cmdstanpy - INFO - Chain [1] done processing\n",
      "22:41:34 - cmdstanpy - INFO - Chain [1] done processing\n"
     ]
    },
    {
     "name": "stdout",
     "output_type": "stream",
     "text": [
      "It's underpredicted.\n",
      "Monthly Error: 73.6 Period MAE: 47.73It's underpredicted.\n",
      "\n",
      "Monthly Error: 48.7 Period MAE: 35.53\n",
      "It's overpredicted.\n",
      "Monthly Error: 132.67 Period MAE: 35.28\n"
     ]
    },
    {
     "name": "stderr",
     "output_type": "stream",
     "text": [
      "22:41:35 - cmdstanpy - INFO - Chain [1] start processing\n",
      "22:41:36 - cmdstanpy - INFO - Chain [1] done processing\n",
      "22:41:36 - cmdstanpy - INFO - Chain [1] start processing\n",
      "22:41:36 - cmdstanpy - INFO - Chain [1] start processing\n",
      "22:41:36 - cmdstanpy - INFO - Chain [1] done processing\n",
      "22:41:36 - cmdstanpy - INFO - Chain [1] done processing\n"
     ]
    },
    {
     "name": "stdout",
     "output_type": "stream",
     "text": [
      "It's overpredicted.\n",
      "Monthly Error: 134.65 Period MAE: 38.05\n",
      "It's underpredicted.\n",
      "Monthly Error: 73.39 Period MAE: 47.94\n"
     ]
    },
    {
     "name": "stderr",
     "output_type": "stream",
     "text": [
      "22:41:38 - cmdstanpy - INFO - Chain [1] start processing\n",
      "22:41:39 - cmdstanpy - INFO - Chain [1] done processing\n",
      "22:41:39 - cmdstanpy - INFO - Chain [1] start processing\n"
     ]
    },
    {
     "name": "stdout",
     "output_type": "stream",
     "text": [
      "It's underpredicted.\n",
      "Monthly Error: 58.32"
     ]
    },
    {
     "name": "stderr",
     "output_type": "stream",
     "text": [
      "22:41:39 - cmdstanpy - INFO - Chain [1] done processing\n"
     ]
    },
    {
     "name": "stdout",
     "output_type": "stream",
     "text": [
      " Period MAE: 24.52\n",
      "It's underpredicted.\n",
      "Monthly Error: "
     ]
    },
    {
     "name": "stderr",
     "output_type": "stream",
     "text": [
      "22:41:39 - cmdstanpy - INFO - Chain [1] start processing\n"
     ]
    },
    {
     "name": "stdout",
     "output_type": "stream",
     "text": [
      "50.69 Period MAE: 29.99\n"
     ]
    },
    {
     "name": "stderr",
     "output_type": "stream",
     "text": [
      "22:41:40 - cmdstanpy - INFO - Chain [1] start processing\n",
      "22:41:40 - cmdstanpy - INFO - Chain [1] done processing\n",
      "22:41:40 - cmdstanpy - INFO - Chain [1] done processing\n"
     ]
    },
    {
     "name": "stdout",
     "output_type": "stream",
     "text": [
      "It's underpredicted.\n",
      "Monthly Error: 74.36 Period MAE: 46.72\n",
      "It's underpredicted.\n",
      "Monthly Error: 71.77 Period MAE: 48.99\n"
     ]
    },
    {
     "name": "stderr",
     "output_type": "stream",
     "text": [
      "22:41:42 - cmdstanpy - INFO - Chain [1] start processing\n",
      "22:41:42 - cmdstanpy - INFO - Chain [1] done processing\n",
      "22:41:42 - cmdstanpy - INFO - Chain [1] start processing\n",
      "22:41:42 - cmdstanpy - INFO - Chain [1] done processing\n"
     ]
    },
    {
     "name": "stdout",
     "output_type": "stream",
     "text": [
      "It's overpredicted.\n",
      "Monthly Error: 63.53 Period MAE: 10.100000000000001\n",
      "It's underpredicted.\n",
      "Monthly Error: 50.53 Period MAE: 29.86\n",
      "It's underpredicted.\n",
      "Monthly Error: 71.27 Period MAE: 48.66\n"
     ]
    },
    {
     "name": "stderr",
     "output_type": "stream",
     "text": [
      "22:41:44 - cmdstanpy - INFO - Chain [1] start processing\n",
      "22:41:44 - cmdstanpy - INFO - Chain [1] start processing\n",
      "22:41:45 - cmdstanpy - INFO - Chain [1] done processing\n",
      "22:41:45 - cmdstanpy - INFO - Chain [1] start processing\n",
      "22:41:45 - cmdstanpy - INFO - Chain [1] done processing\n",
      "22:41:45 - cmdstanpy - INFO - Chain [1] done processing\n"
     ]
    },
    {
     "name": "stdout",
     "output_type": "stream",
     "text": [
      "It's overpredicted.\n",
      "Monthly Error: 57.26 Period MAE: 9.049999999999999\n",
      "It's underpredicted.\n",
      "Monthly Error: 73.31 Period MAE: 48.010000000000005\n"
     ]
    },
    {
     "name": "stderr",
     "output_type": "stream",
     "text": [
      "22:41:47 - cmdstanpy - INFO - Chain [1] start processing\n",
      "22:41:47 - cmdstanpy - INFO - Chain [1] done processing\n",
      "22:41:47 - cmdstanpy - INFO - Chain [1] start processing\n",
      "22:41:47 - cmdstanpy - INFO - Chain [1] done processing\n"
     ]
    },
    {
     "name": "stdout",
     "output_type": "stream",
     "text": [
      "It's underpredicted.\n",
      "Monthly Error: 70.62 Period MAE: 46.839999999999996\n"
     ]
    },
    {
     "name": "stderr",
     "output_type": "stream",
     "text": [
      "22:41:48 - cmdstanpy - INFO - Chain [1] start processing\n",
      "22:41:48 - cmdstanpy - INFO - Chain [1] done processing\n"
     ]
    },
    {
     "name": "stdout",
     "output_type": "stream",
     "text": [
      "It's underpredicted.\n",
      "Monthly Error: 73.75 Period MAE: It's overpredicted.49.8\n",
      "\n",
      "Monthly Error: 57.74 Period MAE: 9.36\n"
     ]
    },
    {
     "name": "stderr",
     "output_type": "stream",
     "text": [
      "22:41:51 - cmdstanpy - INFO - Chain [1] start processing\n",
      "22:41:51 - cmdstanpy - INFO - Chain [1] start processing\n"
     ]
    },
    {
     "name": "stdout",
     "output_type": "stream",
     "text": [
      "It's underpredicted.\n",
      "Monthly Error: 60.67 Period MAE: 21.26"
     ]
    },
    {
     "name": "stderr",
     "output_type": "stream",
     "text": [
      "22:41:51 - cmdstanpy - INFO - Chain [1] done processing\n"
     ]
    },
    {
     "name": "stdout",
     "output_type": "stream",
     "text": [
      "\n"
     ]
    },
    {
     "name": "stderr",
     "output_type": "stream",
     "text": [
      "22:41:51 - cmdstanpy - INFO - Chain [1] start processing\n",
      "22:41:51 - cmdstanpy - INFO - Chain [1] done processing\n",
      "22:41:52 - cmdstanpy - INFO - Chain [1] done processing\n"
     ]
    },
    {
     "name": "stdout",
     "output_type": "stream",
     "text": [
      "It's underpredicted.\n",
      "Monthly Error: 52.22 Period MAE: 25.509999999999998\n"
     ]
    },
    {
     "name": "stderr",
     "output_type": "stream",
     "text": [
      "22:41:52 - cmdstanpy - INFO - Chain [1] start processing\n",
      "22:41:53 - cmdstanpy - INFO - Chain [1] done processing\n"
     ]
    },
    {
     "name": "stdout",
     "output_type": "stream",
     "text": [
      "It's underpredicted.\n",
      "Monthly Error: 60.17 Period MAE: 59.37\n",
      "It's underpredicted.\n",
      "Monthly Error: 73.98 Period MAE: 46.89\n"
     ]
    },
    {
     "name": "stderr",
     "output_type": "stream",
     "text": [
      "22:41:54 - cmdstanpy - INFO - Chain [1] start processing\n",
      "22:41:54 - cmdstanpy - INFO - Chain [1] start processing\n",
      "22:41:54 - cmdstanpy - INFO - Chain [1] done processing\n",
      "22:41:54 - cmdstanpy - INFO - Chain [1] done processing\n"
     ]
    },
    {
     "name": "stdout",
     "output_type": "stream",
     "text": [
      "It's underpredicted.\n",
      "Monthly Error: 53.05 Period MAE: 26.3\n",
      "It's overpredicted.\n",
      "Monthly Error: 136.21 Period MAE: 49.370000000000005\n",
      "It's underpredicted.\n",
      "Monthly Error: 58.12 Period MAE: 56.54\n"
     ]
    },
    {
     "name": "stderr",
     "output_type": "stream",
     "text": [
      "22:41:56 - cmdstanpy - INFO - Chain [1] start processing\n",
      "22:41:56 - cmdstanpy - INFO - Chain [1] start processing\n",
      "22:41:57 - cmdstanpy - INFO - Chain [1] done processing\n",
      "22:41:57 - cmdstanpy - INFO - Chain [1] start processing\n",
      "22:41:57 - cmdstanpy - INFO - Chain [1] done processing\n",
      "22:41:57 - cmdstanpy - INFO - Chain [1] done processing\n"
     ]
    },
    {
     "name": "stdout",
     "output_type": "stream",
     "text": [
      "It's overpredicted.\n",
      "Monthly Error: 118.06 Period MAE: 34.050000000000004\n",
      "It's underpredicted.\n",
      "Monthly Error: 62.82 Period MAE: 63.41\n"
     ]
    },
    {
     "name": "stderr",
     "output_type": "stream",
     "text": [
      "22:41:58 - cmdstanpy - INFO - Chain [1] start processing\n",
      "22:41:58 - cmdstanpy - INFO - Chain [1] done processing\n",
      "22:41:59 - cmdstanpy - INFO - Chain [1] start processing\n"
     ]
    },
    {
     "name": "stdout",
     "output_type": "stream",
     "text": [
      "It's underpredicted.\n",
      "Monthly Error: 56.73 Period MAE: 54.03\n"
     ]
    },
    {
     "name": "stderr",
     "output_type": "stream",
     "text": [
      "22:41:59 - cmdstanpy - INFO - Chain [1] done processing\n",
      "22:41:59 - cmdstanpy - INFO - Chain [1] start processing\n",
      "22:42:00 - cmdstanpy - INFO - Chain [1] done processing\n"
     ]
    },
    {
     "name": "stdout",
     "output_type": "stream",
     "text": [
      "It's underpredicted.\n",
      "Monthly Error: 61.47 Period MAE: 61.5\n",
      "It's overpredicted.\n",
      "Monthly Error: 127.47 Period MAE: 73.53\n",
      "It's overpredicted.\n",
      "Monthly Error: 118.27 "
     ]
    },
    {
     "name": "stderr",
     "output_type": "stream",
     "text": [
      "22:42:03 - cmdstanpy - INFO - Chain [1] start processing\n"
     ]
    },
    {
     "name": "stdout",
     "output_type": "stream",
     "text": [
      "Period MAE: 34.239999999999995\n"
     ]
    },
    {
     "name": "stderr",
     "output_type": "stream",
     "text": [
      "22:42:03 - cmdstanpy - INFO - Chain [1] start processing\n",
      "22:42:03 - cmdstanpy - INFO - Chain [1] start processing\n",
      "22:42:04 - cmdstanpy - INFO - Chain [1] done processing\n",
      "22:42:04 - cmdstanpy - INFO - Chain [1] done processing\n",
      "22:42:04 - cmdstanpy - INFO - Chain [1] done processing\n"
     ]
    },
    {
     "name": "stdout",
     "output_type": "stream",
     "text": [
      "It's overpredicted.\n",
      "Monthly Error: 113.63 Period MAE: 63.06\n"
     ]
    },
    {
     "name": "stderr",
     "output_type": "stream",
     "text": [
      "22:42:05 - cmdstanpy - INFO - Chain [1] start processing\n",
      "22:42:05 - cmdstanpy - INFO - Chain [1] done processing\n"
     ]
    },
    {
     "name": "stdout",
     "output_type": "stream",
     "text": [
      "It's underpredicted.\n",
      "Monthly Error: 59.14 Period MAE: 57.86\n",
      "It's underpredicted.\n",
      "Monthly Error: 56.71 Period MAE: 53.71\n"
     ]
    },
    {
     "name": "stderr",
     "output_type": "stream",
     "text": [
      "22:42:07 - cmdstanpy - INFO - Chain [1] start processing\n"
     ]
    },
    {
     "name": "stdout",
     "output_type": "stream",
     "text": [
      "It's overpredicted.\n",
      "Monthly Error: 113.51"
     ]
    },
    {
     "name": "stderr",
     "output_type": "stream",
     "text": [
      "22:42:07 - cmdstanpy - INFO - Chain [1] start processing\n"
     ]
    },
    {
     "name": "stdout",
     "output_type": "stream",
     "text": [
      " "
     ]
    },
    {
     "name": "stderr",
     "output_type": "stream",
     "text": [
      "22:42:07 - cmdstanpy - INFO - Chain [1] done processing\n"
     ]
    },
    {
     "name": "stdout",
     "output_type": "stream",
     "text": [
      "Period MAE: 62.96000000000001\n"
     ]
    },
    {
     "name": "stderr",
     "output_type": "stream",
     "text": [
      "22:42:08 - cmdstanpy - INFO - Chain [1] done processing\n",
      "22:42:09 - cmdstanpy - INFO - Chain [1] start processing\n"
     ]
    },
    {
     "name": "stdout",
     "output_type": "stream",
     "text": [
      "It's overpredicted.\n",
      "It's underpredicted.Monthly Error:\n",
      " 137.65Monthly Error:  Period MAE:59.63 51.480000000000004\n",
      " Period MAE: 58.919999999999995\n"
     ]
    },
    {
     "name": "stderr",
     "output_type": "stream",
     "text": [
      "22:42:09 - cmdstanpy - INFO - Chain [1] done processing\n",
      "22:42:10 - cmdstanpy - INFO - Chain [1] start processing\n",
      "22:42:11 - cmdstanpy - INFO - Chain [1] done processing\n"
     ]
    },
    {
     "name": "stdout",
     "output_type": "stream",
     "text": [
      "It's underpredicted.\n",
      "Monthly Error: 58.22 Period MAE: 56.56\n",
      "It's overpredicted.\n",
      "Monthly Error: 119.93 Period MAE: 37.15\n",
      "It's overpredicted.\n",
      "Monthly Error: 121.77 Period MAE: 39.07\n"
     ]
    },
    {
     "name": "stderr",
     "output_type": "stream",
     "text": [
      "100%|██████████| 1/1 [22:19<00:00, 1339.94s/it]\n",
      "22:42:17 - cmdstanpy - INFO - Chain [1] start processing\n",
      "22:42:17 - cmdstanpy - INFO - Chain [1] start processing\n",
      "22:42:17 - cmdstanpy - INFO - Chain [1] done processing\n",
      "22:42:17 - cmdstanpy - INFO - Chain [1] start processing\n",
      "22:42:17 - cmdstanpy - INFO - Chain [1] done processing\n",
      "22:42:17 - cmdstanpy - INFO - Chain [1] start processing\n",
      "22:42:18 - cmdstanpy - INFO - Chain [1] done processing\n",
      "22:42:18 - cmdstanpy - INFO - Chain [1] done processing\n"
     ]
    },
    {
     "name": "stdout",
     "output_type": "stream",
     "text": [
      "It's underpredicted.\n",
      "Monthly Error: 19.71 Period MAE: 11.06\n",
      "It's underpredicted.\n",
      "Monthly Error: 19.16 Period MAE: 16.2\n"
     ]
    },
    {
     "name": "stderr",
     "output_type": "stream",
     "text": [
      "22:42:20 - cmdstanpy - INFO - Chain [1] start processing\n"
     ]
    },
    {
     "name": "stdout",
     "output_type": "stream",
     "text": [
      "It's underpredicted."
     ]
    },
    {
     "name": "stderr",
     "output_type": "stream",
     "text": [
      "22:42:20 - cmdstanpy - INFO - Chain [1] start processing\n"
     ]
    },
    {
     "name": "stdout",
     "output_type": "stream",
     "text": [
      "\n"
     ]
    },
    {
     "name": "stderr",
     "output_type": "stream",
     "text": [
      "22:42:20 - cmdstanpy - INFO - Chain [1] done processing\n"
     ]
    },
    {
     "name": "stdout",
     "output_type": "stream",
     "text": [
      "Monthly Error: 29.47 Period MAE: 22.79\n"
     ]
    },
    {
     "name": "stderr",
     "output_type": "stream",
     "text": [
      "22:42:21 - cmdstanpy - INFO - Chain [1] done processing\n",
      "22:42:21 - cmdstanpy - INFO - Chain [1] start processing\n",
      "22:42:21 - cmdstanpy - INFO - Chain [1] done processing\n"
     ]
    },
    {
     "name": "stdout",
     "output_type": "stream",
     "text": [
      "It's underpredicted.\n",
      "Monthly Error: 26.67 Period MAE: 23.94\n"
     ]
    },
    {
     "name": "stderr",
     "output_type": "stream",
     "text": [
      "22:42:22 - cmdstanpy - INFO - Chain [1] start processing\n",
      "22:42:22 - cmdstanpy - INFO - Chain [1] done processing\n"
     ]
    },
    {
     "name": "stdout",
     "output_type": "stream",
     "text": [
      "It's underpredicted.\n",
      "Monthly Error: 21.06 Period MAE: 9.950000000000001\n",
      "It's underpredicted.\n",
      "Monthly Error: 19.91 Period MAE: 12.02\n"
     ]
    },
    {
     "name": "stderr",
     "output_type": "stream",
     "text": [
      "22:42:23 - cmdstanpy - INFO - Chain [1] start processing\n",
      "22:42:24 - cmdstanpy - INFO - Chain [1] start processing\n",
      "22:42:24 - cmdstanpy - INFO - Chain [1] done processing\n",
      "22:42:24 - cmdstanpy - INFO - Chain [1] done processing\n"
     ]
    },
    {
     "name": "stdout",
     "output_type": "stream",
     "text": [
      "It's underpredicted.\n",
      "Monthly Error: 28.82 Period MAE: 12.43\n",
      "It's underpredicted.\n",
      "Monthly Error: 19.09 Period MAE: 15.9\n"
     ]
    },
    {
     "name": "stderr",
     "output_type": "stream",
     "text": [
      "22:42:26 - cmdstanpy - INFO - Chain [1] start processing\n"
     ]
    },
    {
     "name": "stdout",
     "output_type": "stream",
     "text": [
      "It's overpredicted.\n",
      "Monthly Error: 63.17 Period MAE: 58.39\n"
     ]
    },
    {
     "name": "stderr",
     "output_type": "stream",
     "text": [
      "22:42:27 - cmdstanpy - INFO - Chain [1] start processing\n",
      "22:42:27 - cmdstanpy - INFO - Chain [1] done processing\n",
      "22:42:27 - cmdstanpy - INFO - Chain [1] done processing\n",
      "22:42:27 - cmdstanpy - INFO - Chain [1] start processing\n"
     ]
    },
    {
     "name": "stdout",
     "output_type": "stream",
     "text": [
      "It's underpredicted.\n",
      "Monthly Error: 26.42 Period MAE: 21.8\n"
     ]
    },
    {
     "name": "stderr",
     "output_type": "stream",
     "text": [
      "22:42:28 - cmdstanpy - INFO - Chain [1] done processing\n"
     ]
    },
    {
     "name": "stdout",
     "output_type": "stream",
     "text": [
      "It's overpredicted.\n",
      "Monthly Error: 58.78 Period MAE: 54.269999999999996\n"
     ]
    },
    {
     "name": "stderr",
     "output_type": "stream",
     "text": [
      "22:42:28 - cmdstanpy - INFO - Chain [1] start processing\n",
      "22:42:28 - cmdstanpy - INFO - Chain [1] done processing\n",
      "22:42:29 - cmdstanpy - INFO - Chain [1] start processing\n",
      "22:42:29 - cmdstanpy - INFO - Chain [1] done processing\n"
     ]
    },
    {
     "name": "stdout",
     "output_type": "stream",
     "text": [
      "It's underpredicted.\n",
      "Monthly Error: 21.04 Period MAE: 9.78\n"
     ]
    },
    {
     "name": "stderr",
     "output_type": "stream",
     "text": [
      "22:42:30 - cmdstanpy - INFO - Chain [1] start processing\n",
      "22:42:30 - cmdstanpy - INFO - Chain [1] done processing\n"
     ]
    },
    {
     "name": "stdout",
     "output_type": "stream",
     "text": [
      "It's underpredicted.\n",
      "Monthly Error: 27.24 Period MAE: 26.91\n"
     ]
    },
    {
     "name": "stderr",
     "output_type": "stream",
     "text": [
      "22:42:31 - cmdstanpy - INFO - Chain [1] start processing\n"
     ]
    },
    {
     "name": "stdout",
     "output_type": "stream",
     "text": [
      "It's underpredicted.\n",
      "Monthly Error: 31.18 Period MAE: 10.76\n",
      "It's overpredicted.\n",
      "Monthly Error: 60.67 Period MAE: 55.87\n"
     ]
    },
    {
     "name": "stderr",
     "output_type": "stream",
     "text": [
      "22:42:33 - cmdstanpy - INFO - Chain [1] start processing\n",
      "22:42:33 - cmdstanpy - INFO - Chain [1] done processing\n",
      "22:42:33 - cmdstanpy - INFO - Chain [1] start processing\n",
      "22:42:33 - cmdstanpy - INFO - Chain [1] done processing\n"
     ]
    },
    {
     "name": "stdout",
     "output_type": "stream",
     "text": [
      "It's overpredicted.\n",
      "Monthly Error: 49.17 Period MAE: 34.64\n"
     ]
    },
    {
     "name": "stderr",
     "output_type": "stream",
     "text": [
      "22:42:34 - cmdstanpy - INFO - Chain [1] done processing\n",
      "22:42:34 - cmdstanpy - INFO - Chain [1] start processing\n",
      "22:42:34 - cmdstanpy - INFO - Chain [1] done processing\n"
     ]
    },
    {
     "name": "stdout",
     "output_type": "stream",
     "text": [
      "It's underpredicted.\n",
      "Monthly Error: 22.16 Period MAE: 23.13\n",
      "It's underpredicted.\n",
      "Monthly Error: 28.01 Period MAE: 19.84\n"
     ]
    },
    {
     "name": "stderr",
     "output_type": "stream",
     "text": [
      "22:42:35 - cmdstanpy - INFO - Chain [1] start processing\n",
      "22:42:36 - cmdstanpy - INFO - Chain [1] start processing\n",
      "22:42:36 - cmdstanpy - INFO - Chain [1] done processing\n",
      "22:42:36 - cmdstanpy - INFO - Chain [1] done processing\n"
     ]
    },
    {
     "name": "stdout",
     "output_type": "stream",
     "text": [
      "It's underpredicted.\n",
      "Monthly Error: 22.15 Period MAE: 23.13\n",
      "It's underpredicted.\n",
      "Monthly Error: 24.05 Period MAE: 6.59\n",
      "It's overpredicted.\n",
      "Monthly Error: 55.74 Period MAE: 41.69\n"
     ]
    },
    {
     "name": "stderr",
     "output_type": "stream",
     "text": [
      "22:42:38 - cmdstanpy - INFO - Chain [1] start processing\n",
      "22:42:39 - cmdstanpy - INFO - Chain [1] start processing\n"
     ]
    },
    {
     "name": "stdout",
     "output_type": "stream",
     "text": [
      "It's underpredicted.\n",
      "Monthly Error:"
     ]
    },
    {
     "name": "stderr",
     "output_type": "stream",
     "text": [
      "22:42:39 - cmdstanpy - INFO - Chain [1] done processing\n"
     ]
    },
    {
     "name": "stdout",
     "output_type": "stream",
     "text": [
      " 22.37 Period MAE:"
     ]
    },
    {
     "name": "stderr",
     "output_type": "stream",
     "text": [
      "22:42:39 - cmdstanpy - INFO - Chain [1] start processing\n"
     ]
    },
    {
     "name": "stdout",
     "output_type": "stream",
     "text": [
      " 7.89\n"
     ]
    },
    {
     "name": "stderr",
     "output_type": "stream",
     "text": [
      "22:42:39 - cmdstanpy - INFO - Chain [1] done processing\n",
      "22:42:40 - cmdstanpy - INFO - Chain [1] done processing\n",
      "22:42:40 - cmdstanpy - INFO - Chain [1] start processing\n",
      "22:42:40 - cmdstanpy - INFO - Chain [1] done processing\n"
     ]
    },
    {
     "name": "stdout",
     "output_type": "stream",
     "text": [
      "It's underpredicted.\n",
      "Monthly Error: 24.21 Period MAE: 25.240000000000002\n",
      "It's underpredicted.\n",
      "Monthly Error: "
     ]
    },
    {
     "name": "stderr",
     "output_type": "stream",
     "text": [
      "22:42:42 - cmdstanpy - INFO - Chain [1] start processing\n"
     ]
    },
    {
     "name": "stdout",
     "output_type": "stream",
     "text": [
      "20.71 Period MAE: 13.23\n"
     ]
    },
    {
     "name": "stderr",
     "output_type": "stream",
     "text": [
      "22:42:42 - cmdstanpy - INFO - Chain [1] done processing\n",
      "22:42:42 - cmdstanpy - INFO - Chain [1] start processing\n",
      "22:42:42 - cmdstanpy - INFO - Chain [1] done processing\n"
     ]
    },
    {
     "name": "stdout",
     "output_type": "stream",
     "text": [
      "It's overpredicted.\n",
      "Monthly Error:It's underpredicted.\n",
      " 63.01Monthly Error: Period MAE:  58.220000000000006\n",
      "17.32 Period MAE: It's overpredicted.13.94\n",
      "\n",
      "Monthly Error: 30.23 Period MAE:2.87 \n"
     ]
    },
    {
     "name": "stderr",
     "output_type": "stream",
     "text": [
      "22:42:45 - cmdstanpy - INFO - Chain [1] start processing\n",
      "22:42:45 - cmdstanpy - INFO - Chain [1] done processing\n",
      "22:42:45 - cmdstanpy - INFO - Chain [1] start processing\n",
      "22:42:46 - cmdstanpy - INFO - Chain [1] start processing\n",
      "22:42:46 - cmdstanpy - INFO - Chain [1] done processing\n"
     ]
    },
    {
     "name": "stdout",
     "output_type": "stream",
     "text": [
      "It's overpredicted.\n",
      "Monthly Error: 60.09 It's underpredicted.Period MAE:\n",
      " 55.57\n",
      "Monthly Error: 24.75 Period MAE:\n",
      " 24.65"
     ]
    },
    {
     "name": "stderr",
     "output_type": "stream",
     "text": [
      "22:42:47 - cmdstanpy - INFO - Chain [1] start processing\n",
      "22:42:47 - cmdstanpy - INFO - Chain [1] done processing\n",
      "22:42:47 - cmdstanpy - INFO - Chain [1] done processing\n",
      "22:42:47 - cmdstanpy - INFO - Chain [1] start processing\n",
      "22:42:48 - cmdstanpy - INFO - Chain [1] done processing\n"
     ]
    },
    {
     "name": "stdout",
     "output_type": "stream",
     "text": [
      "It's underpredicted.\n",
      "Monthly Error: 18.5 Period MAE: 10.75\n",
      "It's underpredicted.\n",
      "Monthly Error: 24.42 Period MAE: 25.180000000000003\n"
     ]
    },
    {
     "name": "stderr",
     "output_type": "stream",
     "text": [
      "22:42:50 - cmdstanpy - INFO - Chain [1] start processing\n",
      "22:42:50 - cmdstanpy - INFO - Chain [1] done processing\n",
      "22:42:50 - cmdstanpy - INFO - Chain [1] start processing\n"
     ]
    },
    {
     "name": "stdout",
     "output_type": "stream",
     "text": [
      "It's overpredicted.\n",
      "Monthly Error: 61.15 Period MAE: 56.35\n",
      "It's overpredicted.\n",
      "Monthly Error: 32.4 Period MAE: 8.81\n"
     ]
    },
    {
     "name": "stderr",
     "output_type": "stream",
     "text": [
      "22:42:52 - cmdstanpy - INFO - Chain [1] start processing\n",
      "22:42:52 - cmdstanpy - INFO - Chain [1] done processing\n",
      "22:42:52 - cmdstanpy - INFO - Chain [1] start processing\n",
      "22:42:52 - cmdstanpy - INFO - Chain [1] done processing\n",
      "22:42:52 - cmdstanpy - INFO - Chain [1] done processing\n"
     ]
    },
    {
     "name": "stdout",
     "output_type": "stream",
     "text": [
      "It's underpredicted.\n",
      "Monthly Error: 27.21 Period MAE: 24.93\n",
      "It's underpredicted.\n",
      "Monthly Error: 23.71 Period MAE: 18.13\n",
      "It's overpredicted.\n",
      "Monthly Error: 67.67"
     ]
    },
    {
     "name": "stderr",
     "output_type": "stream",
     "text": [
      "22:42:54 - cmdstanpy - INFO - Chain [1] start processing\n"
     ]
    },
    {
     "name": "stdout",
     "output_type": "stream",
     "text": [
      " Period MAE: 57.9\n"
     ]
    },
    {
     "name": "stderr",
     "output_type": "stream",
     "text": [
      "22:42:54 - cmdstanpy - INFO - Chain [1] done processing\n",
      "22:42:54 - cmdstanpy - INFO - Chain [1] start processing\n",
      "22:42:55 - cmdstanpy - INFO - Chain [1] start processing\n",
      "22:42:55 - cmdstanpy - INFO - Chain [1] done processing\n",
      "22:42:55 - cmdstanpy - INFO - Chain [1] done processing\n"
     ]
    },
    {
     "name": "stdout",
     "output_type": "stream",
     "text": [
      "It's underpredicted.\n",
      "It's overpredicted.\n",
      "Monthly Error: Monthly Error:21.59  65.45Period MAE:  20.01Period MAE:\n",
      " 54.58\n",
      "It's overpredicted.\n",
      "Monthly Error: 44.58 Period MAE: 38.23\n"
     ]
    },
    {
     "name": "stderr",
     "output_type": "stream",
     "text": [
      "22:42:58 - cmdstanpy - INFO - Chain [1] start processing\n",
      "22:42:58 - cmdstanpy - INFO - Chain [1] start processing\n",
      "22:42:58 - cmdstanpy - INFO - Chain [1] start processing\n"
     ]
    },
    {
     "name": "stdout",
     "output_type": "stream",
     "text": [
      "It's overpredicted.\n"
     ]
    },
    {
     "name": "stderr",
     "output_type": "stream",
     "text": [
      "22:42:59 - cmdstanpy - INFO - Chain [1] done processing\n"
     ]
    },
    {
     "name": "stdout",
     "output_type": "stream",
     "text": [
      "Monthly Error:"
     ]
    },
    {
     "name": "stderr",
     "output_type": "stream",
     "text": [
      "22:42:59 - cmdstanpy - INFO - Chain [1] done processing\n"
     ]
    },
    {
     "name": "stdout",
     "output_type": "stream",
     "text": [
      " 50.04"
     ]
    },
    {
     "name": "stderr",
     "output_type": "stream",
     "text": [
      "22:42:59 - cmdstanpy - INFO - Chain [1] done processing\n"
     ]
    },
    {
     "name": "stdout",
     "output_type": "stream",
     "text": [
      " Period MAE: 44.629999999999995\n"
     ]
    },
    {
     "name": "stderr",
     "output_type": "stream",
     "text": [
      "22:42:59 - cmdstanpy - INFO - Chain [1] start processing\n",
      "22:42:59 - cmdstanpy - INFO - Chain [1] done processing\n"
     ]
    },
    {
     "name": "stdout",
     "output_type": "stream",
     "text": [
      "It's underpredicted.\n",
      "Monthly Error: 22.61 Period MAE: 15.18\n",
      "It's underpredicted.\n",
      "Monthly Error: 22.12 Period MAE: 12.870000000000001\n"
     ]
    },
    {
     "name": "stderr",
     "output_type": "stream",
     "text": [
      "22:43:01 - cmdstanpy - INFO - Chain [1] start processing\n",
      "22:43:02 - cmdstanpy - INFO - Chain [1] start processing\n",
      "22:43:02 - cmdstanpy - INFO - Chain [1] done processing\n",
      "22:43:02 - cmdstanpy - INFO - Chain [1] done processing\n"
     ]
    },
    {
     "name": "stdout",
     "output_type": "stream",
     "text": [
      "It's overpredicted.\n",
      "Monthly Error: 54.83 Period MAE: 48.84\n",
      "It's underpredicted.It's overpredicted.\n",
      "\n",
      "Monthly Error: Monthly Error:19.87  61.9 Period MAE:Period MAE:  11.31\n",
      "56.54\n"
     ]
    },
    {
     "name": "stderr",
     "output_type": "stream",
     "text": [
      "22:43:05 - cmdstanpy - INFO - Chain [1] start processing\n",
      "22:43:05 - cmdstanpy - INFO - Chain [1] start processing\n",
      "22:43:05 - cmdstanpy - INFO - Chain [1] start processing\n",
      "22:43:06 - cmdstanpy - INFO - Chain [1] done processing\n"
     ]
    },
    {
     "name": "stdout",
     "output_type": "stream",
     "text": [
      "It's overpredicted.\n"
     ]
    },
    {
     "name": "stderr",
     "output_type": "stream",
     "text": [
      "22:43:06 - cmdstanpy - INFO - Chain [1] done processing\n"
     ]
    },
    {
     "name": "stdout",
     "output_type": "stream",
     "text": [
      "Monthly Error: "
     ]
    },
    {
     "name": "stderr",
     "output_type": "stream",
     "text": [
      "22:43:06 - cmdstanpy - INFO - Chain [1] done processing\n"
     ]
    },
    {
     "name": "stdout",
     "output_type": "stream",
     "text": [
      "69.58 Period MAE: 63.54\n"
     ]
    },
    {
     "name": "stderr",
     "output_type": "stream",
     "text": [
      "22:43:06 - cmdstanpy - INFO - Chain [1] start processing\n",
      "22:43:07 - cmdstanpy - INFO - Chain [1] done processing\n"
     ]
    },
    {
     "name": "stdout",
     "output_type": "stream",
     "text": [
      "It's underpredicted.\n",
      "Monthly Error: 18.33 Period MAE: 3.5999999999999996\n"
     ]
    },
    {
     "name": "stderr",
     "output_type": "stream",
     "text": [
      "22:43:08 - cmdstanpy - INFO - Chain [1] start processing\n"
     ]
    },
    {
     "name": "stdout",
     "output_type": "stream",
     "text": [
      "It's underpredicted.\n",
      "Monthly Error: 21.3 Period MAE: 6.04\n"
     ]
    },
    {
     "name": "stderr",
     "output_type": "stream",
     "text": [
      "22:43:09 - cmdstanpy - INFO - Chain [1] start processing\n",
      "22:43:10 - cmdstanpy - INFO - Chain [1] done processing\n"
     ]
    },
    {
     "name": "stdout",
     "output_type": "stream",
     "text": [
      "It's overpredicted.\n",
      "Monthly Error: 69.86 It's overpredicted.Period MAE:\n",
      "Monthly Error: 70.89"
     ]
    },
    {
     "name": "stderr",
     "output_type": "stream",
     "text": [
      "22:43:10 - cmdstanpy - INFO - Chain [1] done processing\n"
     ]
    },
    {
     "name": "stdout",
     "output_type": "stream",
     "text": [
      "  Period MAE:64.19 \n",
      "64.64999999999999\n"
     ]
    },
    {
     "name": "stderr",
     "output_type": "stream",
     "text": [
      "22:43:11 - cmdstanpy - INFO - Chain [1] start processing\n",
      "22:43:11 - cmdstanpy - INFO - Chain [1] start processing\n"
     ]
    },
    {
     "name": "stdout",
     "output_type": "stream",
     "text": [
      "It's underpredicted.\n",
      "Monthly Error: 17.22 Period MAE: 4.33\n"
     ]
    },
    {
     "name": "stderr",
     "output_type": "stream",
     "text": [
      "22:43:12 - cmdstanpy - INFO - Chain [1] done processing\n",
      "22:43:12 - cmdstanpy - INFO - Chain [1] start processing\n",
      "22:43:12 - cmdstanpy - INFO - Chain [1] done processing\n"
     ]
    },
    {
     "name": "stdout",
     "output_type": "stream",
     "text": [
      "It's underpredicted.\n",
      "Monthly Error: 24.16 Period MAE: 23.86\n",
      "It's overpredicted.\n",
      "Monthly Error: 77.5 "
     ]
    },
    {
     "name": "stderr",
     "output_type": "stream",
     "text": [
      "22:43:14 - cmdstanpy - INFO - Chain [1] start processing\n"
     ]
    },
    {
     "name": "stdout",
     "output_type": "stream",
     "text": [
      "Period MAE: 71.61\n"
     ]
    },
    {
     "name": "stderr",
     "output_type": "stream",
     "text": [
      "22:43:14 - cmdstanpy - INFO - Chain [1] done processing\n",
      "22:43:14 - cmdstanpy - INFO - Chain [1] done processing\n",
      "22:43:14 - cmdstanpy - INFO - Chain [1] start processing\n",
      "22:43:15 - cmdstanpy - INFO - Chain [1] done processing\n"
     ]
    },
    {
     "name": "stdout",
     "output_type": "stream",
     "text": [
      "It's overpredicted.\n",
      "Monthly Error: 76.47 Period MAE: 70.56\n",
      "It's overpredicted.\n",
      "Monthly Error: 19.18 Period MAE: 3.1\n"
     ]
    },
    {
     "name": "stderr",
     "output_type": "stream",
     "text": [
      "22:43:16 - cmdstanpy - INFO - Chain [1] start processing\n"
     ]
    },
    {
     "name": "stdout",
     "output_type": "stream",
     "text": [
      "It's overpredicted.\n",
      "Monthly Error: 43.01 Period MAE: 38.56\n"
     ]
    },
    {
     "name": "stderr",
     "output_type": "stream",
     "text": [
      "22:43:17 - cmdstanpy - INFO - Chain [1] done processing\n"
     ]
    },
    {
     "name": "stdout",
     "output_type": "stream",
     "text": [
      "It's underpredicted.\n",
      "Monthly Error: 18.49 Period MAE: 13.01\n"
     ]
    },
    {
     "name": "stderr",
     "output_type": "stream",
     "text": [
      "22:43:17 - cmdstanpy - INFO - Chain [1] start processing\n",
      "22:43:18 - cmdstanpy - INFO - Chain [1] start processing\n",
      "22:43:18 - cmdstanpy - INFO - Chain [1] done processing\n",
      "22:43:18 - cmdstanpy - INFO - Chain [1] done processing\n",
      "22:43:18 - cmdstanpy - INFO - Chain [1] start processing\n"
     ]
    },
    {
     "name": "stdout",
     "output_type": "stream",
     "text": [
      "It's underpredicted.\n",
      "Monthly Error: 21.07 Period MAE: 16.91\n"
     ]
    },
    {
     "name": "stderr",
     "output_type": "stream",
     "text": [
      "22:43:19 - cmdstanpy - INFO - Chain [1] done processing\n",
      "22:43:20 - cmdstanpy - INFO - Chain [1] start processing\n",
      "22:43:20 - cmdstanpy - INFO - Chain [1] done processing\n"
     ]
    },
    {
     "name": "stdout",
     "output_type": "stream",
     "text": [
      "It's overpredicted.\n",
      "Monthly Error: 46.29 Period MAE: 42.02\n"
     ]
    },
    {
     "name": "stderr",
     "output_type": "stream",
     "text": [
      "22:43:21 - cmdstanpy - INFO - Chain [1] start processing\n"
     ]
    },
    {
     "name": "stdout",
     "output_type": "stream",
     "text": [
      "It's overpredicted.\n",
      "Monthly Error: It's overpredicted.\n",
      "66.16 Monthly Error: Period MAE:47.72  Period MAE:60.95\n",
      " 43.33\n",
      "It's underpredicted.\n",
      "Monthly Error: 20.07 Period MAE: 8.06\n"
     ]
    },
    {
     "name": "stderr",
     "output_type": "stream",
     "text": [
      "22:43:22 - cmdstanpy - INFO - Chain [1] done processing\n",
      "22:43:23 - cmdstanpy - INFO - Chain [1] start processing\n",
      "22:43:23 - cmdstanpy - INFO - Chain [1] done processing\n",
      "22:43:23 - cmdstanpy - INFO - Chain [1] start processing\n",
      "22:43:24 - cmdstanpy - INFO - Chain [1] start processing\n",
      "22:43:24 - cmdstanpy - INFO - Chain [1] done processing\n"
     ]
    },
    {
     "name": "stdout",
     "output_type": "stream",
     "text": [
      "It's underpredicted.\n",
      "Monthly Error: 17.72 Period MAE: 9.139999999999999\n"
     ]
    },
    {
     "name": "stderr",
     "output_type": "stream",
     "text": [
      "22:43:24 - cmdstanpy - INFO - Chain [1] start processing\n",
      "22:43:25 - cmdstanpy - INFO - Chain [1] done processing\n",
      "22:43:26 - cmdstanpy - INFO - Chain [1] done processing\n"
     ]
    },
    {
     "name": "stdout",
     "output_type": "stream",
     "text": [
      "It's overpredicted.\n",
      "Monthly Error: 72.38 Period MAE: 66.75\n",
      "It's overpredicted.\n",
      "Monthly Error:It's underpredicted. Monthly Error:\n",
      "16.16 19.37 Period MAE: Period MAE: 1.37 \n",
      "5.01\n"
     ]
    },
    {
     "name": "stderr",
     "output_type": "stream",
     "text": [
      "22:43:27 - cmdstanpy - INFO - Chain [1] start processing\n",
      "22:43:28 - cmdstanpy - INFO - Chain [1] start processing\n",
      "22:43:28 - cmdstanpy - INFO - Chain [1] done processing\n",
      "22:43:28 - cmdstanpy - INFO - Chain [1] start processing\n"
     ]
    },
    {
     "name": "stdout",
     "output_type": "stream",
     "text": [
      "It's overpredicted.\n",
      "Monthly Error: "
     ]
    },
    {
     "name": "stderr",
     "output_type": "stream",
     "text": [
      "22:43:28 - cmdstanpy - INFO - Chain [1] done processing\n"
     ]
    },
    {
     "name": "stdout",
     "output_type": "stream",
     "text": [
      "74.94 Period MAE: 69.19999999999999\n"
     ]
    },
    {
     "name": "stderr",
     "output_type": "stream",
     "text": [
      "22:43:30 - cmdstanpy - INFO - Chain [1] done processing\n",
      "22:43:30 - cmdstanpy - INFO - Chain [1] start processing\n"
     ]
    },
    {
     "name": "stdout",
     "output_type": "stream",
     "text": [
      "It's overpredicted.\n",
      "Monthly Error: 14.73 Period MAE: 1.63\n",
      "It's overpredicted.\n",
      "Monthly Error: 75.4 Period MAE: 69.95\n",
      "It's overpredicted.\n",
      "Monthly Error: 83.48 Period MAE: 78.11\n"
     ]
    },
    {
     "name": "stderr",
     "output_type": "stream",
     "text": [
      "22:43:32 - cmdstanpy - INFO - Chain [1] start processing\n",
      "22:43:32 - cmdstanpy - INFO - Chain [1] start processing\n",
      "22:43:32 - cmdstanpy - INFO - Chain [1] start processing\n",
      "22:43:32 - cmdstanpy - INFO - Chain [1] done processing\n",
      "22:43:32 - cmdstanpy - INFO - Chain [1] done processing\n",
      "22:43:33 - cmdstanpy - INFO - Chain [1] done processing\n"
     ]
    },
    {
     "name": "stdout",
     "output_type": "stream",
     "text": [
      "It's underpredicted.\n",
      "Monthly Error: 19.52 Period MAE: 10.24\n"
     ]
    },
    {
     "name": "stderr",
     "output_type": "stream",
     "text": [
      "22:43:34 - cmdstanpy - INFO - Chain [1] done processing\n",
      "22:43:34 - cmdstanpy - INFO - Chain [1] start processing\n",
      "22:43:35 - cmdstanpy - INFO - Chain [1] done processing\n"
     ]
    },
    {
     "name": "stdout",
     "output_type": "stream",
     "text": [
      "It's underpredicted.\n",
      "Monthly Error: 29.44 Period MAE: 22.720000000000002\n",
      "It's underpredicted.\n",
      "Monthly Error: 19.21 Period MAE: 16.39\n",
      "It's overpredicted.\n",
      "Monthly Error: 19.78 Period MAE: 10.100000000000001"
     ]
    },
    {
     "name": "stderr",
     "output_type": "stream",
     "text": [
      "22:43:37 - cmdstanpy - INFO - Chain [1] start processing\n"
     ]
    },
    {
     "name": "stdout",
     "output_type": "stream",
     "text": [
      "\n"
     ]
    },
    {
     "name": "stderr",
     "output_type": "stream",
     "text": [
      "22:43:37 - cmdstanpy - INFO - Chain [1] done processing\n"
     ]
    },
    {
     "name": "stdout",
     "output_type": "stream",
     "text": [
      "It's overpredicted.\n",
      "Monthly Error: 80.87 Period MAE: 75.55\n"
     ]
    },
    {
     "name": "stderr",
     "output_type": "stream",
     "text": [
      "22:43:38 - cmdstanpy - INFO - Chain [1] start processing\n",
      "22:43:38 - cmdstanpy - INFO - Chain [1] start processing\n",
      "22:43:38 - cmdstanpy - INFO - Chain [1] start processing\n",
      "22:43:38 - cmdstanpy - INFO - Chain [1] done processing\n",
      "22:43:38 - cmdstanpy - INFO - Chain [1] done processing\n",
      "22:43:39 - cmdstanpy - INFO - Chain [1] done processing\n"
     ]
    },
    {
     "name": "stdout",
     "output_type": "stream",
     "text": [
      "It's underpredicted.\n",
      "Monthly Error: 19.7 Period MAE: 10.96\n"
     ]
    },
    {
     "name": "stderr",
     "output_type": "stream",
     "text": [
      "22:43:40 - cmdstanpy - INFO - Chain [1] start processing\n",
      "22:43:40 - cmdstanpy - INFO - Chain [1] done processing\n"
     ]
    },
    {
     "name": "stdout",
     "output_type": "stream",
     "text": [
      "It's underpredicted.\n",
      "Monthly Error: 21.0 Period MAE: 9.71\n",
      "It's underpredicted.\n",
      "Monthly Error: 26.63 Period MAE: 23.84\n"
     ]
    },
    {
     "name": "stderr",
     "output_type": "stream",
     "text": [
      "22:43:41 - cmdstanpy - INFO - Chain [1] start processing\n",
      "22:43:41 - cmdstanpy - INFO - Chain [1] start processing\n",
      "22:43:42 - cmdstanpy - INFO - Chain [1] done processing\n",
      "22:43:42 - cmdstanpy - INFO - Chain [1] done processing\n"
     ]
    },
    {
     "name": "stdout",
     "output_type": "stream",
     "text": [
      "It's underpredicted.\n",
      "Monthly Error: 28.75 Period MAE: 12.7\n",
      "It's underpredicted.\n",
      "Monthly Error: 19.02 Period MAE: 15.509999999999998\n"
     ]
    },
    {
     "name": "stderr",
     "output_type": "stream",
     "text": [
      "22:43:44 - cmdstanpy - INFO - Chain [1] start processing\n"
     ]
    },
    {
     "name": "stdout",
     "output_type": "stream",
     "text": [
      "It's overpredicted.\n"
     ]
    },
    {
     "name": "stderr",
     "output_type": "stream",
     "text": [
      "22:43:44 - cmdstanpy - INFO - Chain [1] start processing\n"
     ]
    },
    {
     "name": "stdout",
     "output_type": "stream",
     "text": [
      "Monthly Error: 63.14 Period MAE: 58.36\n"
     ]
    },
    {
     "name": "stderr",
     "output_type": "stream",
     "text": [
      "22:43:45 - cmdstanpy - INFO - Chain [1] start processing\n"
     ]
    },
    {
     "name": "stdout",
     "output_type": "stream",
     "text": [
      "It's overpredicted.\n",
      "Monthly Error: 58.68 Period MAE:"
     ]
    },
    {
     "name": "stderr",
     "output_type": "stream",
     "text": [
      "22:43:45 - cmdstanpy - INFO - Chain [1] done processing\n"
     ]
    },
    {
     "name": "stdout",
     "output_type": "stream",
     "text": [
      " 54.169999999999995\n"
     ]
    },
    {
     "name": "stderr",
     "output_type": "stream",
     "text": [
      "22:43:45 - cmdstanpy - INFO - Chain [1] done processing\n",
      "22:43:45 - cmdstanpy - INFO - Chain [1] done processing\n",
      "22:43:45 - cmdstanpy - INFO - Chain [1] start processing\n",
      "22:43:46 - cmdstanpy - INFO - Chain [1] done processing\n"
     ]
    },
    {
     "name": "stdout",
     "output_type": "stream",
     "text": [
      "It's underpredicted.\n",
      "Monthly Error: 26.3 Period MAE: 21.52\n"
     ]
    },
    {
     "name": "stderr",
     "output_type": "stream",
     "text": [
      "22:43:47 - cmdstanpy - INFO - Chain [1] start processing\n",
      "22:43:47 - cmdstanpy - INFO - Chain [1] done processing\n"
     ]
    },
    {
     "name": "stdout",
     "output_type": "stream",
     "text": [
      "It's underpredicted.\n",
      "Monthly Error: 20.9 Period MAE: 9.229999999999999\n"
     ]
    },
    {
     "name": "stderr",
     "output_type": "stream",
     "text": [
      "22:43:48 - cmdstanpy - INFO - Chain [1] start processing\n",
      "22:43:49 - cmdstanpy - INFO - Chain [1] done processing\n"
     ]
    },
    {
     "name": "stdout",
     "output_type": "stream",
     "text": [
      "It's underpredicted.\n",
      "Monthly Error: 31.23 Period MAE: 10.63\n",
      "It's overpredicted.\n",
      "Monthly Error:It's underpredicted.\n",
      " Monthly Error:60.82  27.49Period MAE: Period MAE:  56.0227.27\n",
      "\n"
     ]
    },
    {
     "name": "stderr",
     "output_type": "stream",
     "text": [
      "22:43:49 - cmdstanpy - INFO - Chain [1] start processing\n",
      "22:43:50 - cmdstanpy - INFO - Chain [1] start processing\n",
      "22:43:50 - cmdstanpy - INFO - Chain [1] done processing\n",
      "22:43:50 - cmdstanpy - INFO - Chain [1] start processing\n",
      "22:43:51 - cmdstanpy - INFO - Chain [1] done processing\n"
     ]
    },
    {
     "name": "stdout",
     "output_type": "stream",
     "text": [
      "It's underpredicted.\n",
      "Monthly Error: 21.78 Period MAE: 22.75\n"
     ]
    },
    {
     "name": "stderr",
     "output_type": "stream",
     "text": [
      "22:43:51 - cmdstanpy - INFO - Chain [1] done processing\n",
      "22:43:52 - cmdstanpy - INFO - Chain [1] start processing\n",
      "22:43:52 - cmdstanpy - INFO - Chain [1] done processing\n"
     ]
    },
    {
     "name": "stdout",
     "output_type": "stream",
     "text": [
      "It's overpredicted.\n",
      "Monthly Error: 41.31 Period MAE: 20.04\n"
     ]
    },
    {
     "name": "stderr",
     "output_type": "stream",
     "text": [
      "22:43:53 - cmdstanpy - INFO - Chain [1] start processing\n",
      "22:43:53 - cmdstanpy - INFO - Chain [1] done processing\n"
     ]
    },
    {
     "name": "stdout",
     "output_type": "stream",
     "text": [
      "It's underpredicted.\n",
      "Monthly Error: 27.46 Period MAE: 19.23\n"
     ]
    },
    {
     "name": "stderr",
     "output_type": "stream",
     "text": [
      "22:43:55 - cmdstanpy - INFO - Chain [1] start processing\n"
     ]
    },
    {
     "name": "stdout",
     "output_type": "stream",
     "text": [
      "It's underpredicted."
     ]
    },
    {
     "name": "stderr",
     "output_type": "stream",
     "text": [
      "22:43:55 - cmdstanpy - INFO - Chain [1] done processing\n"
     ]
    },
    {
     "name": "stdout",
     "output_type": "stream",
     "text": [
      "\n",
      "Monthly Error: 23.49 It's underpredicted.Period MAE:\n",
      " Monthly Error:24.42 \n",
      "23.98 Period MAE: 7.01\n",
      "It's overpredicted.\n",
      "Monthly Error: 45.67 Period MAE: 26.61\n"
     ]
    },
    {
     "name": "stderr",
     "output_type": "stream",
     "text": [
      "22:43:56 - cmdstanpy - INFO - Chain [1] start processing\n",
      "22:43:56 - cmdstanpy - INFO - Chain [1] done processing\n",
      "22:43:57 - cmdstanpy - INFO - Chain [1] start processing\n",
      "22:43:57 - cmdstanpy - INFO - Chain [1] start processing\n",
      "22:43:57 - cmdstanpy - INFO - Chain [1] done processing\n"
     ]
    },
    {
     "name": "stdout",
     "output_type": "stream",
     "text": [
      "It's underpredicted.\n",
      "Monthly Error: 24.0 Period MAE: 24.9\n"
     ]
    },
    {
     "name": "stderr",
     "output_type": "stream",
     "text": [
      "22:43:58 - cmdstanpy - INFO - Chain [1] done processing\n",
      "22:43:58 - cmdstanpy - INFO - Chain [1] start processing\n",
      "22:43:58 - cmdstanpy - INFO - Chain [1] done processing\n"
     ]
    },
    {
     "name": "stdout",
     "output_type": "stream",
     "text": [
      "It's underpredicted.\n",
      "Monthly Error: 22.43 Period MAE: 7.76\n",
      "It's underpredicted.\n",
      "Monthly Error: 21.67 Period MAE: 17.73\n"
     ]
    },
    {
     "name": "stderr",
     "output_type": "stream",
     "text": [
      "22:44:00 - cmdstanpy - INFO - Chain [1] start processing\n",
      "22:44:00 - cmdstanpy - INFO - Chain [1] start processing\n",
      "22:44:00 - cmdstanpy - INFO - Chain [1] done processing\n",
      "22:44:01 - cmdstanpy - INFO - Chain [1] done processing\n"
     ]
    },
    {
     "name": "stdout",
     "output_type": "stream",
     "text": [
      "It's overpredicted.\n",
      "Monthly Error: 62.97 Period MAE: 58.18\n",
      "It's overpredicted.\n",
      "Monthly Error: 30.34 Period MAE: 2.94\n",
      "It's underpredicted.\n",
      "Monthly Error: 19.17 Period MAE: 16.73\n"
     ]
    },
    {
     "name": "stderr",
     "output_type": "stream",
     "text": [
      "22:44:03 - cmdstanpy - INFO - Chain [1] start processing\n",
      "22:44:03 - cmdstanpy - INFO - Chain [1] start processing\n",
      "22:44:04 - cmdstanpy - INFO - Chain [1] start processing\n",
      "22:44:04 - cmdstanpy - INFO - Chain [1] done processing\n",
      "22:44:05 - cmdstanpy - INFO - Chain [1] done processing\n",
      "22:44:05 - cmdstanpy - INFO - Chain [1] done processing\n"
     ]
    },
    {
     "name": "stdout",
     "output_type": "stream",
     "text": [
      "It's overpredicted.\n",
      "Monthly Error: 60.08 Period MAE: 55.559999999999995\n"
     ]
    },
    {
     "name": "stderr",
     "output_type": "stream",
     "text": [
      "22:44:06 - cmdstanpy - INFO - Chain [1] start processing\n"
     ]
    },
    {
     "name": "stdout",
     "output_type": "stream",
     "text": [
      "It's underpredicted.\n",
      "Monthly Error: 24.6 Period MAE:"
     ]
    },
    {
     "name": "stderr",
     "output_type": "stream",
     "text": [
      "22:44:06 - cmdstanpy - INFO - Chain [1] done processing\n"
     ]
    },
    {
     "name": "stdout",
     "output_type": "stream",
     "text": [
      " 24.47\n"
     ]
    },
    {
     "name": "stderr",
     "output_type": "stream",
     "text": [
      "22:44:07 - cmdstanpy - INFO - Chain [1] start processing\n",
      "22:44:07 - cmdstanpy - INFO - Chain [1] done processing\n"
     ]
    },
    {
     "name": "stdout",
     "output_type": "stream",
     "text": [
      "It's underpredicted.\n",
      "Monthly Error: 17.89 Period MAE: 7.870000000000001\n",
      "It's overpredicted.\n",
      "Monthly Error: 61.32 Period MAE: 56.52\n"
     ]
    },
    {
     "name": "stderr",
     "output_type": "stream",
     "text": [
      "22:44:08 - cmdstanpy - INFO - Chain [1] start processing\n",
      "22:44:08 - cmdstanpy - INFO - Chain [1] done processing\n"
     ]
    },
    {
     "name": "stdout",
     "output_type": "stream",
     "text": [
      "It's underpredicted.\n",
      "Monthly Error: 25.37 Period MAE: 26.090000000000003\n"
     ]
    },
    {
     "name": "stderr",
     "output_type": "stream",
     "text": [
      "22:44:09 - cmdstanpy - INFO - Chain [1] start processing\n"
     ]
    },
    {
     "name": "stdout",
     "output_type": "stream",
     "text": [
      "It's overpredicted.\n",
      "Monthly Error: 31.11 Period MAE: 6.59\n"
     ]
    },
    {
     "name": "stderr",
     "output_type": "stream",
     "text": [
      "22:44:10 - cmdstanpy - INFO - Chain [1] start processing\n",
      "22:44:10 - cmdstanpy - INFO - Chain [1] start processing\n",
      "22:44:10 - cmdstanpy - INFO - Chain [1] done processing\n",
      "22:44:10 - cmdstanpy - INFO - Chain [1] done processing\n",
      "22:44:11 - cmdstanpy - INFO - Chain [1] done processing\n"
     ]
    },
    {
     "name": "stdout",
     "output_type": "stream",
     "text": [
      "It's underpredicted.\n",
      "Monthly Error: 27.73 Period MAE: 25.89\n"
     ]
    },
    {
     "name": "stderr",
     "output_type": "stream",
     "text": [
      "22:44:12 - cmdstanpy - INFO - Chain [1] start processing\n"
     ]
    },
    {
     "name": "stdout",
     "output_type": "stream",
     "text": [
      "It's overpredicted.\n",
      "Monthly Error: 44.86 Period MAE: 28.84\n"
     ]
    },
    {
     "name": "stderr",
     "output_type": "stream",
     "text": [
      "22:44:12 - cmdstanpy - INFO - Chain [1] done processing\n"
     ]
    },
    {
     "name": "stdout",
     "output_type": "stream",
     "text": [
      "It's underpredicted.\n",
      "Monthly Error: 23.06 Period MAE: 15.98\n"
     ]
    },
    {
     "name": "stderr",
     "output_type": "stream",
     "text": [
      "22:44:13 - cmdstanpy - INFO - Chain [1] start processing\n",
      "22:44:13 - cmdstanpy - INFO - Chain [1] start processing\n",
      "22:44:13 - cmdstanpy - INFO - Chain [1] done processing\n",
      "22:44:13 - cmdstanpy - INFO - Chain [1] done processing\n"
     ]
    },
    {
     "name": "stdout",
     "output_type": "stream",
     "text": [
      "It's overpredicted.\n",
      "Monthly Error: 51.57 Period MAE: 39.629999999999995\n",
      "It's underpredicted.\n",
      "Monthly Error: 20.57 Period MAE: 18.12\n",
      "It's overpredicted.\n",
      "Monthly Error:"
     ]
    },
    {
     "name": "stderr",
     "output_type": "stream",
     "text": [
      "22:44:16 - cmdstanpy - INFO - Chain [1] start processing\n"
     ]
    },
    {
     "name": "stdout",
     "output_type": "stream",
     "text": [
      " 41.77 Period MAE: 34.32\n"
     ]
    },
    {
     "name": "stderr",
     "output_type": "stream",
     "text": [
      "22:44:16 - cmdstanpy - INFO - Chain [1] start processing\n",
      "22:44:17 - cmdstanpy - INFO - Chain [1] done processing\n",
      "22:44:17 - cmdstanpy - INFO - Chain [1] start processing\n"
     ]
    },
    {
     "name": "stdout",
     "output_type": "stream",
     "text": [
      "It's overpredicted.\n",
      "Monthly Error: 48.83 Period MAE: 43.480000000000004\n"
     ]
    },
    {
     "name": "stderr",
     "output_type": "stream",
     "text": [
      "22:44:17 - cmdstanpy - INFO - Chain [1] done processing\n",
      "22:44:18 - cmdstanpy - INFO - Chain [1] start processing\n",
      "22:44:18 - cmdstanpy - INFO - Chain [1] done processing\n",
      "22:44:18 - cmdstanpy - INFO - Chain [1] done processing\n"
     ]
    },
    {
     "name": "stdout",
     "output_type": "stream",
     "text": [
      "It's underpredicted.\n",
      "Monthly Error: 22.57 Period MAE: 15.39\n"
     ]
    },
    {
     "name": "stderr",
     "output_type": "stream",
     "text": [
      "22:44:20 - cmdstanpy - INFO - Chain [1] start processing\n"
     ]
    },
    {
     "name": "stdout",
     "output_type": "stream",
     "text": [
      "It's underpredicted.\n",
      "Monthly Error: 21.84 "
     ]
    },
    {
     "name": "stderr",
     "output_type": "stream",
     "text": [
      "22:44:20 - cmdstanpy - INFO - Chain [1] done processing\n"
     ]
    },
    {
     "name": "stdout",
     "output_type": "stream",
     "text": [
      "Period MAE: 12.5\n",
      "It's overpredicted.\n",
      "Monthly Error: 51.95 "
     ]
    },
    {
     "name": "stderr",
     "output_type": "stream",
     "text": [
      "22:44:21 - cmdstanpy - INFO - Chain [1] start processing\n"
     ]
    },
    {
     "name": "stdout",
     "output_type": "stream",
     "text": [
      "Period MAE: 46.39\n",
      "It's overpredicted.\n",
      "Monthly Error: 62.26 Period MAE: 56.87\n"
     ]
    },
    {
     "name": "stderr",
     "output_type": "stream",
     "text": [
      "22:44:21 - cmdstanpy - INFO - Chain [1] done processing\n"
     ]
    },
    {
     "name": "stdout",
     "output_type": "stream",
     "text": [
      "It's underpredicted.\n",
      "Monthly Error: 20.23 Period MAE: 12.46\n"
     ]
    },
    {
     "name": "stderr",
     "output_type": "stream",
     "text": [
      "22:44:22 - cmdstanpy - INFO - Chain [1] start processing\n",
      "22:44:22 - cmdstanpy - INFO - Chain [1] start processing\n",
      "22:44:22 - cmdstanpy - INFO - Chain [1] start processing\n",
      "22:44:23 - cmdstanpy - INFO - Chain [1] done processing\n",
      "22:44:23 - cmdstanpy - INFO - Chain [1] done processing\n",
      "22:44:23 - cmdstanpy - INFO - Chain [1] done processing\n"
     ]
    },
    {
     "name": "stdout",
     "output_type": "stream",
     "text": [
      "It's underpredicted.\n",
      "Monthly Error: 19.33 Period MAE: 7.89\n"
     ]
    },
    {
     "name": "stderr",
     "output_type": "stream",
     "text": [
      "22:44:25 - cmdstanpy - INFO - Chain [1] start processing\n"
     ]
    },
    {
     "name": "stdout",
     "output_type": "stream",
     "text": [
      "It's overpredicted.\n",
      "Monthly Error: "
     ]
    },
    {
     "name": "stderr",
     "output_type": "stream",
     "text": [
      "22:44:25 - cmdstanpy - INFO - Chain [1] done processing\n"
     ]
    },
    {
     "name": "stdout",
     "output_type": "stream",
     "text": [
      "65.03 Period MAE: 59.35\n",
      "It's underpredicted.\n",
      "Monthly Error: 20.91 Period MAE: "
     ]
    },
    {
     "name": "stderr",
     "output_type": "stream",
     "text": [
      "22:44:26 - cmdstanpy - INFO - Chain [1] start processing\n"
     ]
    },
    {
     "name": "stdout",
     "output_type": "stream",
     "text": [
      "5.46\n"
     ]
    },
    {
     "name": "stderr",
     "output_type": "stream",
     "text": [
      "22:44:26 - cmdstanpy - INFO - Chain [1] start processing\n",
      "22:44:26 - cmdstanpy - INFO - Chain [1] done processing\n",
      "22:44:27 - cmdstanpy - INFO - Chain [1] done processing\n"
     ]
    },
    {
     "name": "stdout",
     "output_type": "stream",
     "text": [
      "It's overpredicted.\n",
      "Monthly Error: 65.74 Period MAE: 59.99\n"
     ]
    },
    {
     "name": "stderr",
     "output_type": "stream",
     "text": [
      "22:44:28 - cmdstanpy - INFO - Chain [1] start processing\n"
     ]
    },
    {
     "name": "stdout",
     "output_type": "stream",
     "text": [
      "It's underpredicted.\n",
      "Monthly Error: 18.84 Period MAE: 10.8\n",
      "It's overpredicted.\n",
      "Monthly Error: 65.65 Period MAE: 60.08\n"
     ]
    },
    {
     "name": "stderr",
     "output_type": "stream",
     "text": [
      "22:44:29 - cmdstanpy - INFO - Chain [1] start processing\n",
      "22:44:30 - cmdstanpy - INFO - Chain [1] done processing\n",
      "22:44:30 - cmdstanpy - INFO - Chain [1] start processing\n",
      "22:44:30 - cmdstanpy - INFO - Chain [1] done processing\n",
      "22:44:31 - cmdstanpy - INFO - Chain [1] done processing\n"
     ]
    },
    {
     "name": "stdout",
     "output_type": "stream",
     "text": [
      "It's overpredicted.\n",
      "Monthly Error: 72.98 Period MAE: 67.22\n"
     ]
    },
    {
     "name": "stderr",
     "output_type": "stream",
     "text": [
      "22:44:31 - cmdstanpy - INFO - Chain [1] start processing\n",
      "22:44:32 - cmdstanpy - INFO - Chain [1] done processing\n"
     ]
    },
    {
     "name": "stdout",
     "output_type": "stream",
     "text": [
      "It's underpredicted.\n",
      "Monthly Error: 23.76 Period MAE: 23.29\n",
      "It's underpredicted.\n",
      "Monthly Error: 19.37 Period MAE: 1.0\n"
     ]
    },
    {
     "name": "stderr",
     "output_type": "stream",
     "text": [
      "22:44:33 - cmdstanpy - INFO - Chain [1] start processing\n",
      "22:44:33 - cmdstanpy - INFO - Chain [1] start processing\n",
      "22:44:33 - cmdstanpy - INFO - Chain [1] done processing\n",
      "22:44:33 - cmdstanpy - INFO - Chain [1] done processing\n"
     ]
    },
    {
     "name": "stdout",
     "output_type": "stream",
     "text": [
      "It's overpredicted.\n",
      "Monthly Error:It's overpredicted. 76.54 \n",
      "Period MAE: Monthly Error:70.58\n",
      " 43.67 Period MAE:It's underpredicted. \n",
      "39.32Monthly Error:\n",
      " 19.62 Period MAE: 17.23\n"
     ]
    },
    {
     "name": "stderr",
     "output_type": "stream",
     "text": [
      "22:44:36 - cmdstanpy - INFO - Chain [1] start processing\n",
      "22:44:36 - cmdstanpy - INFO - Chain [1] start processing\n"
     ]
    },
    {
     "name": "stdout",
     "output_type": "stream",
     "text": [
      "It's overpredicted.\n",
      "Monthly Error:"
     ]
    },
    {
     "name": "stderr",
     "output_type": "stream",
     "text": [
      "22:44:36 - cmdstanpy - INFO - Chain [1] start processing\n"
     ]
    },
    {
     "name": "stdout",
     "output_type": "stream",
     "text": [
      " 46.31 Period MAE: 42.05\n"
     ]
    },
    {
     "name": "stderr",
     "output_type": "stream",
     "text": [
      "22:44:37 - cmdstanpy - INFO - Chain [1] done processing\n",
      "22:44:37 - cmdstanpy - INFO - Chain [1] done processing\n",
      "22:44:37 - cmdstanpy - INFO - Chain [1] start processing\n",
      "22:44:37 - cmdstanpy - INFO - Chain [1] done processing\n",
      "22:44:37 - cmdstanpy - INFO - Chain [1] done processing\n"
     ]
    },
    {
     "name": "stdout",
     "output_type": "stream",
     "text": [
      "It's underpredicted.\n",
      "Monthly Error: 21.26 Period MAE: 17.8\n"
     ]
    },
    {
     "name": "stderr",
     "output_type": "stream",
     "text": [
      "22:44:39 - cmdstanpy - INFO - Chain [1] start processing\n"
     ]
    },
    {
     "name": "stdout",
     "output_type": "stream",
     "text": [
      "It's underpredicted.\n",
      "Monthly Error: 19.98 Period MAE: 8.42\n"
     ]
    },
    {
     "name": "stderr",
     "output_type": "stream",
     "text": [
      "22:44:40 - cmdstanpy - INFO - Chain [1] done processing\n",
      "22:44:40 - cmdstanpy - INFO - Chain [1] start processing\n"
     ]
    },
    {
     "name": "stdout",
     "output_type": "stream",
     "text": [
      "It's overpredicted.\n",
      "Monthly Error: 43.39 Period MAE: 39.22\n"
     ]
    },
    {
     "name": "stderr",
     "output_type": "stream",
     "text": [
      "22:44:40 - cmdstanpy - INFO - Chain [1] done processing\n"
     ]
    },
    {
     "name": "stdout",
     "output_type": "stream",
     "text": [
      "It's overpredicted.\n",
      "Monthly Error: 64.93 Period MAE: 59.809999999999995\n"
     ]
    },
    {
     "name": "stderr",
     "output_type": "stream",
     "text": [
      "22:44:41 - cmdstanpy - INFO - Chain [1] start processing\n"
     ]
    },
    {
     "name": "stdout",
     "output_type": "stream",
     "text": [
      "It's underpredicted.\n",
      "Monthly Error: 18.29 Period MAE: "
     ]
    },
    {
     "name": "stderr",
     "output_type": "stream",
     "text": [
      "22:44:42 - cmdstanpy - INFO - Chain [1] start processing\n"
     ]
    },
    {
     "name": "stdout",
     "output_type": "stream",
     "text": [
      "11.360000000000001\n"
     ]
    },
    {
     "name": "stderr",
     "output_type": "stream",
     "text": [
      "22:44:42 - cmdstanpy - INFO - Chain [1] start processing\n",
      "22:44:42 - cmdstanpy - INFO - Chain [1] done processing\n",
      "22:44:43 - cmdstanpy - INFO - Chain [1] done processing\n",
      "22:44:43 - cmdstanpy - INFO - Chain [1] done processing\n"
     ]
    },
    {
     "name": "stdout",
     "output_type": "stream",
     "text": [
      "It's overpredicted.\n",
      "Monthly Error: 69.57 Period MAE: 64.14999999999999\n"
     ]
    },
    {
     "name": "stderr",
     "output_type": "stream",
     "text": [
      "22:44:44 - cmdstanpy - INFO - Chain [1] start processing\n",
      "22:44:45 - cmdstanpy - INFO - Chain [1] done processing\n"
     ]
    },
    {
     "name": "stdout",
     "output_type": "stream",
     "text": [
      "It's underpredicted.\n",
      "Monthly Error: 18.16 Period MAE: 6.49\n",
      "It's underpredicted.\n",
      "Monthly Error: 18.98 Period MAE: 3.92\n"
     ]
    },
    {
     "name": "stderr",
     "output_type": "stream",
     "text": [
      "22:44:45 - cmdstanpy - INFO - Chain [1] start processing\n",
      "22:44:45 - cmdstanpy - INFO - Chain [1] start processing\n",
      "22:44:46 - cmdstanpy - INFO - Chain [1] done processing\n"
     ]
    },
    {
     "name": "stdout",
     "output_type": "stream",
     "text": [
      "It's overpredicted.\n",
      "Monthly Error: 72.27"
     ]
    },
    {
     "name": "stderr",
     "output_type": "stream",
     "text": [
      "22:44:47 - cmdstanpy - INFO - Chain [1] done processing\n"
     ]
    },
    {
     "name": "stdout",
     "output_type": "stream",
     "text": [
      " Period MAE: 66.71000000000001\n"
     ]
    },
    {
     "name": "stderr",
     "output_type": "stream",
     "text": [
      "22:44:48 - cmdstanpy - INFO - Chain [1] start processing\n"
     ]
    },
    {
     "name": "stdout",
     "output_type": "stream",
     "text": [
      "It's overpredicted.\n",
      "Monthly Error: 63.92 Period MAE: 58.95\n",
      "It's underpredicted.\n",
      "Monthly Error: 16.56 Period MAE: 4.9\n"
     ]
    },
    {
     "name": "stderr",
     "output_type": "stream",
     "text": [
      "22:44:49 - cmdstanpy - INFO - Chain [1] start processing\n",
      "22:44:49 - cmdstanpy - INFO - Chain [1] start processing\n"
     ]
    },
    {
     "name": "stdout",
     "output_type": "stream",
     "text": [
      "It's overpredicted.\n",
      "Monthly Error:"
     ]
    },
    {
     "name": "stderr",
     "output_type": "stream",
     "text": [
      "22:44:49 - cmdstanpy - INFO - Chain [1] done processing\n"
     ]
    },
    {
     "name": "stdout",
     "output_type": "stream",
     "text": [
      " 74.31"
     ]
    },
    {
     "name": "stderr",
     "output_type": "stream",
     "text": [
      "22:44:49 - cmdstanpy - INFO - Chain [1] done processing\n"
     ]
    },
    {
     "name": "stdout",
     "output_type": "stream",
     "text": [
      " Period MAE: 69.06\n"
     ]
    },
    {
     "name": "stderr",
     "output_type": "stream",
     "text": [
      "22:44:49 - cmdstanpy - INFO - Chain [1] done processing\n",
      "22:44:50 - cmdstanpy - INFO - Chain [1] start processing\n",
      "22:44:50 - cmdstanpy - INFO - Chain [1] done processing\n"
     ]
    },
    {
     "name": "stdout",
     "output_type": "stream",
     "text": [
      "It's underpredicted.\n",
      "Monthly Error: 19.74 Period MAE: 11.29\n"
     ]
    },
    {
     "name": "stderr",
     "output_type": "stream",
     "text": [
      "22:44:51 - cmdstanpy - INFO - Chain [1] start processing\n"
     ]
    },
    {
     "name": "stdout",
     "output_type": "stream",
     "text": [
      "It's overpredicted.\n",
      "Monthly Error: 17.28 Period MAE: 2.6100000000000003\n"
     ]
    },
    {
     "name": "stderr",
     "output_type": "stream",
     "text": [
      "22:44:52 - cmdstanpy - INFO - Chain [1] done processing\n",
      "22:44:52 - cmdstanpy - INFO - Chain [1] start processing\n",
      "22:44:52 - cmdstanpy - INFO - Chain [1] done processing\n"
     ]
    },
    {
     "name": "stdout",
     "output_type": "stream",
     "text": [
      "It's underpredicted.\n",
      "Monthly Error: 19.32 Period MAE: 14.59\n",
      "It's underpredicted.\n",
      "Monthly Error: 29.43 Period MAE: It's overpredicted.22.66\n",
      "\n",
      "Monthly Error: 78.1 Period MAE: 72.78\n"
     ]
    },
    {
     "name": "stderr",
     "output_type": "stream",
     "text": [
      "22:44:54 - cmdstanpy - INFO - Chain [1] start processing\n",
      "22:44:54 - cmdstanpy - INFO - Chain [1] start processing\n",
      "22:44:55 - cmdstanpy - INFO - Chain [1] done processing\n",
      "22:44:55 - cmdstanpy - INFO - Chain [1] start processing\n",
      "22:44:55 - cmdstanpy - INFO - Chain [1] done processing\n"
     ]
    },
    {
     "name": "stdout",
     "output_type": "stream",
     "text": [
      "It's underpredicted.\n",
      "Monthly Error: 29.19 Period MAE: 22.98\n"
     ]
    },
    {
     "name": "stderr",
     "output_type": "stream",
     "text": [
      "22:44:56 - cmdstanpy - INFO - Chain [1] done processing\n"
     ]
    },
    {
     "name": "stdout",
     "output_type": "stream",
     "text": [
      "It's underpredicted.\n",
      "Monthly Error: 19.66 Period MAE: 10.870000000000001\n"
     ]
    },
    {
     "name": "stderr",
     "output_type": "stream",
     "text": [
      "22:44:56 - cmdstanpy - INFO - Chain [1] start processing\n",
      "22:44:56 - cmdstanpy - INFO - Chain [1] done processing\n",
      "22:44:57 - cmdstanpy - INFO - Chain [1] start processing\n",
      "22:44:57 - cmdstanpy - INFO - Chain [1] done processing\n"
     ]
    },
    {
     "name": "stdout",
     "output_type": "stream",
     "text": [
      "It's underpredicted.\n",
      "Monthly Error: 19.97 Period MAE: 11.14\n",
      "It's underpredicted.\n",
      "Monthly Error: 19.42 Period MAE: 15.010000000000002\n"
     ]
    },
    {
     "name": "stderr",
     "output_type": "stream",
     "text": [
      "22:44:59 - cmdstanpy - INFO - Chain [1] start processing\n",
      "22:44:59 - cmdstanpy - INFO - Chain [1] done processing\n"
     ]
    },
    {
     "name": "stdout",
     "output_type": "stream",
     "text": [
      "It's underpredicted.\n",
      "Monthly Error: 28.8 Period MAE: 21.19\n",
      "It's overpredicted.\n",
      "Monthly Error: 60.58 Period MAE: 55.879999999999995\n"
     ]
    },
    {
     "name": "stderr",
     "output_type": "stream",
     "text": [
      "22:45:00 - cmdstanpy - INFO - Chain [1] start processing\n",
      "22:45:00 - cmdstanpy - INFO - Chain [1] start processing\n",
      "22:45:00 - cmdstanpy - INFO - Chain [1] start processing\n",
      "22:45:01 - cmdstanpy - INFO - Chain [1] done processing\n",
      "22:45:01 - cmdstanpy - INFO - Chain [1] done processing\n",
      "22:45:01 - cmdstanpy - INFO - Chain [1] done processing\n"
     ]
    },
    {
     "name": "stdout",
     "output_type": "stream",
     "text": [
      "It's underpredicted.\n",
      "Monthly Error: 22.56 Period MAE: 19.38\n"
     ]
    },
    {
     "name": "stderr",
     "output_type": "stream",
     "text": [
      "22:45:04 - cmdstanpy - INFO - Chain [1] start processing\n",
      "22:45:04 - cmdstanpy - INFO - Chain [1] done processing\n"
     ]
    },
    {
     "name": "stdout",
     "output_type": "stream",
     "text": [
      "It's overpredicted.\n",
      "It's underpredicted.Monthly Error:\n",
      " Monthly Error:59.07 19.96  Period MAE:Period MAE:  54.4711.04\n",
      "\n"
     ]
    },
    {
     "name": "stderr",
     "output_type": "stream",
     "text": [
      "22:45:05 - cmdstanpy - INFO - Chain [1] start processing\n",
      "22:45:05 - cmdstanpy - INFO - Chain [1] start processing\n",
      "22:45:06 - cmdstanpy - INFO - Chain [1] done processing\n",
      "22:45:06 - cmdstanpy - INFO - Chain [1] done processing\n"
     ]
    },
    {
     "name": "stdout",
     "output_type": "stream",
     "text": [
      "It's overpredicted.\n",
      "Monthly Error: 59.91 Period MAE: 55.169999999999995\n",
      "It's underpredicted.\n",
      "It's underpredicted.Monthly Error:\n",
      " Monthly Error:29.5  Period MAE:24.39  22.31\n",
      "Period MAE: 24.52\n"
     ]
    },
    {
     "name": "stderr",
     "output_type": "stream",
     "text": [
      "22:45:08 - cmdstanpy - INFO - Chain [1] start processing\n",
      "22:45:09 - cmdstanpy - INFO - Chain [1] start processing\n",
      "22:45:09 - cmdstanpy - INFO - Chain [1] start processing\n"
     ]
    },
    {
     "name": "stdout",
     "output_type": "stream",
     "text": [
      "It's underpredicted."
     ]
    },
    {
     "name": "stderr",
     "output_type": "stream",
     "text": [
      "22:45:09 - cmdstanpy - INFO - Chain [1] done processing\n"
     ]
    },
    {
     "name": "stdout",
     "output_type": "stream",
     "text": [
      "\n",
      "Monthly Error: 29.01 "
     ]
    },
    {
     "name": "stderr",
     "output_type": "stream",
     "text": [
      "22:45:09 - cmdstanpy - INFO - Chain [1] done processing\n"
     ]
    },
    {
     "name": "stdout",
     "output_type": "stream",
     "text": [
      "Period MAE: 22.0\n"
     ]
    },
    {
     "name": "stderr",
     "output_type": "stream",
     "text": [
      "22:45:09 - cmdstanpy - INFO - Chain [1] done processing\n",
      "22:45:10 - cmdstanpy - INFO - Chain [1] start processing\n",
      "22:45:10 - cmdstanpy - INFO - Chain [1] done processing\n"
     ]
    },
    {
     "name": "stdout",
     "output_type": "stream",
     "text": [
      "It's underpredicted.\n",
      "Monthly Error: 21.39 Period MAE: 22.39\n"
     ]
    },
    {
     "name": "stderr",
     "output_type": "stream",
     "text": [
      "22:45:11 - cmdstanpy - INFO - Chain [1] start processing\n"
     ]
    },
    {
     "name": "stdout",
     "output_type": "stream",
     "text": [
      "It's underpredicted.\n",
      "Monthly Error: 24.0 "
     ]
    },
    {
     "name": "stderr",
     "output_type": "stream",
     "text": [
      "22:45:12 - cmdstanpy - INFO - Chain [1] done processing\n"
     ]
    },
    {
     "name": "stdout",
     "output_type": "stream",
     "text": [
      "Period MAE: 20.19\n"
     ]
    },
    {
     "name": "stderr",
     "output_type": "stream",
     "text": [
      "22:45:12 - cmdstanpy - INFO - Chain [1] start processing\n",
      "22:45:12 - cmdstanpy - INFO - Chain [1] done processing\n"
     ]
    },
    {
     "name": "stdout",
     "output_type": "stream",
     "text": [
      "It's underpredicted.\n",
      "Monthly Error: 23.35 Period MAE: 24.279999999999998\n",
      "It's underpredicted.\n",
      "Monthly Error: 23.2 Period MAE: 9.47\n",
      "It's underpredicted.\n",
      "Monthly Error: 28.88 Period MAE: 20.46\n"
     ]
    },
    {
     "name": "stderr",
     "output_type": "stream",
     "text": [
      "22:45:14 - cmdstanpy - INFO - Chain [1] start processing\n",
      "22:45:14 - cmdstanpy - INFO - Chain [1] start processing\n",
      "22:45:15 - cmdstanpy - INFO - Chain [1] done processing\n",
      "22:45:15 - cmdstanpy - INFO - Chain [1] start processing\n",
      "22:45:15 - cmdstanpy - INFO - Chain [1] done processing\n",
      "22:45:15 - cmdstanpy - INFO - Chain [1] done processing\n"
     ]
    },
    {
     "name": "stdout",
     "output_type": "stream",
     "text": [
      "It's underpredicted.It's underpredicted.\n",
      "\n",
      "Monthly Error: Monthly Error: 22.8923.36  Period MAE:Period MAE:  9.2124.310000000000002\n",
      "\n"
     ]
    },
    {
     "name": "stderr",
     "output_type": "stream",
     "text": [
      "22:45:17 - cmdstanpy - INFO - Chain [1] start processing\n",
      "22:45:17 - cmdstanpy - INFO - Chain [1] done processing\n",
      "22:45:17 - cmdstanpy - INFO - Chain [1] start processing\n"
     ]
    },
    {
     "name": "stdout",
     "output_type": "stream",
     "text": [
      "It's underpredicted.\n",
      "Monthly Error: 21.61 Period MAE: 20.91\n"
     ]
    },
    {
     "name": "stderr",
     "output_type": "stream",
     "text": [
      "22:45:18 - cmdstanpy - INFO - Chain [1] done processing\n",
      "22:45:18 - cmdstanpy - INFO - Chain [1] start processing\n",
      "22:45:19 - cmdstanpy - INFO - Chain [1] done processing\n"
     ]
    },
    {
     "name": "stdout",
     "output_type": "stream",
     "text": [
      "It's underpredicted.\n",
      "Monthly Error: 21.25 Period MAE: 22.2\n",
      "It's underpredicted.\n",
      "Monthly Error: 23.64 Period MAE: 7.7299999999999995\n",
      "It's overpredicted.\n",
      "Monthly Error: 60.58 Period MAE: 55.900000000000006\n"
     ]
    },
    {
     "name": "stderr",
     "output_type": "stream",
     "text": [
      "22:45:21 - cmdstanpy - INFO - Chain [1] start processing\n",
      "22:45:21 - cmdstanpy - INFO - Chain [1] start processing\n",
      "22:45:21 - cmdstanpy - INFO - Chain [1] start processing\n",
      "22:45:21 - cmdstanpy - INFO - Chain [1] done processing\n",
      "22:45:21 - cmdstanpy - INFO - Chain [1] done processing\n",
      "22:45:22 - cmdstanpy - INFO - Chain [1] done processing\n"
     ]
    },
    {
     "name": "stdout",
     "output_type": "stream",
     "text": [
      "It's overpredicted.\n",
      "Monthly Error: 59.65 Period MAE: 55.06999999999999\n",
      "It's underpredicted.\n",
      "Monthly Error: 25.63 Period MAE: "
     ]
    },
    {
     "name": "stderr",
     "output_type": "stream",
     "text": [
      "22:45:23 - cmdstanpy - INFO - Chain [1] start processing\n"
     ]
    },
    {
     "name": "stdout",
     "output_type": "stream",
     "text": [
      "26.369999999999997\n"
     ]
    },
    {
     "name": "stderr",
     "output_type": "stream",
     "text": [
      "22:45:24 - cmdstanpy - INFO - Chain [1] done processing\n"
     ]
    },
    {
     "name": "stdout",
     "output_type": "stream",
     "text": [
      "It's underpredicted.\n",
      "Monthly Error: 21.69"
     ]
    },
    {
     "name": "stderr",
     "output_type": "stream",
     "text": [
      "22:45:24 - cmdstanpy - INFO - Chain [1] start processing\n"
     ]
    },
    {
     "name": "stdout",
     "output_type": "stream",
     "text": [
      " Period MAE: 21.2\n"
     ]
    },
    {
     "name": "stderr",
     "output_type": "stream",
     "text": [
      "22:45:25 - cmdstanpy - INFO - Chain [1] start processing\n",
      "22:45:25 - cmdstanpy - INFO - Chain [1] done processing\n",
      "22:45:25 - cmdstanpy - INFO - Chain [1] done processing\n"
     ]
    },
    {
     "name": "stdout",
     "output_type": "stream",
     "text": [
      "It's overpredicted.\n",
      "Monthly Error: 60.33 Period MAE: 55.589999999999996\n",
      "It's underpredicted.\n",
      "Monthly Error: 24.95 Period MAE: 25.72\n"
     ]
    },
    {
     "name": "stderr",
     "output_type": "stream",
     "text": [
      "22:45:27 - cmdstanpy - INFO - Chain [1] start processing\n"
     ]
    },
    {
     "name": "stdout",
     "output_type": "stream",
     "text": [
      "It's underpredicted.\n",
      "Monthly Error: 23.29 Period MAE: 8.89\n"
     ]
    },
    {
     "name": "stderr",
     "output_type": "stream",
     "text": [
      "22:45:28 - cmdstanpy - INFO - Chain [1] start processing\n",
      "22:45:28 - cmdstanpy - INFO - Chain [1] start processing\n",
      "22:45:28 - cmdstanpy - INFO - Chain [1] done processing\n",
      "22:45:28 - cmdstanpy - INFO - Chain [1] done processing\n",
      "22:45:28 - cmdstanpy - INFO - Chain [1] done processing\n"
     ]
    },
    {
     "name": "stdout",
     "output_type": "stream",
     "text": [
      "It's underpredicted.\n",
      "Monthly Error: 23.09 Period MAE: 8.95\n"
     ]
    },
    {
     "name": "stderr",
     "output_type": "stream",
     "text": [
      "22:45:29 - cmdstanpy - INFO - Chain [1] start processing\n",
      "22:45:30 - cmdstanpy - INFO - Chain [1] done processing\n"
     ]
    },
    {
     "name": "stdout",
     "output_type": "stream",
     "text": [
      "It's underpredicted.\n",
      "Monthly Error: 26.98 Period MAE: 24.67\n"
     ]
    },
    {
     "name": "stderr",
     "output_type": "stream",
     "text": [
      "22:45:30 - cmdstanpy - INFO - Chain [1] start processing\n"
     ]
    },
    {
     "name": "stdout",
     "output_type": "stream",
     "text": [
      "It's underpredicted.\n",
      "Monthly Error: 21.37 Period MAE: 20.26\n"
     ]
    },
    {
     "name": "stderr",
     "output_type": "stream",
     "text": [
      "22:45:31 - cmdstanpy - INFO - Chain [1] done processing\n",
      "22:45:31 - cmdstanpy - INFO - Chain [1] start processing\n",
      "22:45:32 - cmdstanpy - INFO - Chain [1] done processing\n"
     ]
    },
    {
     "name": "stdout",
     "output_type": "stream",
     "text": [
      "It's underpredicted.\n",
      "Monthly Error: 25.68 Period MAE: 23.18\n",
      "It's overpredicted.\n",
      "Monthly Error: 42.41 Period MAE:It's underpredicted. 35.21\n",
      "\n",
      "Monthly Error: 23.94 Period MAE: 7.04\n"
     ]
    },
    {
     "name": "stderr",
     "output_type": "stream",
     "text": [
      "22:45:34 - cmdstanpy - INFO - Chain [1] start processing\n",
      "22:45:34 - cmdstanpy - INFO - Chain [1] start processing\n",
      "22:45:34 - cmdstanpy - INFO - Chain [1] start processing\n",
      "22:45:34 - cmdstanpy - INFO - Chain [1] done processing\n",
      "22:45:35 - cmdstanpy - INFO - Chain [1] done processing\n"
     ]
    },
    {
     "name": "stdout",
     "output_type": "stream",
     "text": [
      "It's underpredicted.\n",
      "Monthly Error: "
     ]
    },
    {
     "name": "stderr",
     "output_type": "stream",
     "text": [
      "22:45:36 - cmdstanpy - INFO - Chain [1] done processing\n"
     ]
    },
    {
     "name": "stdout",
     "output_type": "stream",
     "text": [
      "24.22 Period MAE: 18.07It's overpredicted.\n",
      "\n",
      "Monthly Error: 43.87 Period MAE: 37.46\n"
     ]
    },
    {
     "name": "stderr",
     "output_type": "stream",
     "text": [
      "22:45:36 - cmdstanpy - INFO - Chain [1] start processing\n",
      "22:45:37 - cmdstanpy - INFO - Chain [1] done processing\n",
      "22:45:37 - cmdstanpy - INFO - Chain [1] start processing\n",
      "22:45:37 - cmdstanpy - INFO - Chain [1] done processing\n"
     ]
    },
    {
     "name": "stdout",
     "output_type": "stream",
     "text": [
      "It's underpredicted.\n",
      "Monthly Error: 26.57 Period MAE: 23.880000000000003\n"
     ]
    },
    {
     "name": "stderr",
     "output_type": "stream",
     "text": [
      "22:45:39 - cmdstanpy - INFO - Chain [1] start processing\n"
     ]
    },
    {
     "name": "stdout",
     "output_type": "stream",
     "text": [
      "It's underpredicted.\n",
      "Monthly Error: 23.79"
     ]
    },
    {
     "name": "stderr",
     "output_type": "stream",
     "text": [
      "22:45:39 - cmdstanpy - INFO - Chain [1] done processing\n"
     ]
    },
    {
     "name": "stdout",
     "output_type": "stream",
     "text": [
      " Period MAE: 18.360000000000003\n",
      "It's overpredicted.\n",
      "Monthly Error: 44.46 Period MAE: 38.22\n",
      "It's overpredicted.\n",
      "Monthly Error: 60.59 Period MAE: 55.32\n"
     ]
    },
    {
     "name": "stderr",
     "output_type": "stream",
     "text": [
      "22:45:40 - cmdstanpy - INFO - Chain [1] start processing\n",
      "22:45:41 - cmdstanpy - INFO - Chain [1] start processing\n",
      "22:45:41 - cmdstanpy - INFO - Chain [1] start processing\n",
      "22:45:41 - cmdstanpy - INFO - Chain [1] done processing\n",
      "22:45:41 - cmdstanpy - INFO - Chain [1] done processing\n",
      "22:45:42 - cmdstanpy - INFO - Chain [1] done processing\n"
     ]
    },
    {
     "name": "stdout",
     "output_type": "stream",
     "text": [
      "It's overpredicted.\n",
      "Monthly Error: 60.94 Period MAE: 55.63\n",
      "It's underpredicted.\n",
      "Monthly Error: 28.42 Period MAE: 26.93\n"
     ]
    },
    {
     "name": "stderr",
     "output_type": "stream",
     "text": [
      "22:45:43 - cmdstanpy - INFO - Chain [1] start processing\n",
      "22:45:43 - cmdstanpy - INFO - Chain [1] done processing\n",
      "22:45:43 - cmdstanpy - INFO - Chain [1] start processing\n"
     ]
    },
    {
     "name": "stdout",
     "output_type": "stream",
     "text": [
      "It's underpredicted.\n",
      "Monthly Error: 23.35 Period MAE: 17.03\n"
     ]
    },
    {
     "name": "stderr",
     "output_type": "stream",
     "text": [
      "22:45:44 - cmdstanpy - INFO - Chain [1] done processing\n",
      "22:45:45 - cmdstanpy - INFO - Chain [1] start processing\n",
      "22:45:45 - cmdstanpy - INFO - Chain [1] done processing\n"
     ]
    },
    {
     "name": "stdout",
     "output_type": "stream",
     "text": [
      "It's overpredicted.\n",
      "Monthly Error: 62.27 Period MAE: 56.879999999999995\n",
      "It's underpredicted.\n",
      "Monthly Error: 25.72 Period MAE: 23.3\n",
      "It's overpredicted.\n",
      "Monthly Error: 45.6 Period MAE: 40.04"
     ]
    },
    {
     "name": "stderr",
     "output_type": "stream",
     "text": [
      "22:45:47 - cmdstanpy - INFO - Chain [1] start processing\n"
     ]
    },
    {
     "name": "stdout",
     "output_type": "stream",
     "text": [
      "\n"
     ]
    },
    {
     "name": "stderr",
     "output_type": "stream",
     "text": [
      "22:45:47 - cmdstanpy - INFO - Chain [1] start processing\n",
      "22:45:48 - cmdstanpy - INFO - Chain [1] done processing\n",
      "22:45:48 - cmdstanpy - INFO - Chain [1] done processing\n",
      "22:45:48 - cmdstanpy - INFO - Chain [1] start processing\n",
      "22:45:48 - cmdstanpy - INFO - Chain [1] done processing\n"
     ]
    },
    {
     "name": "stdout",
     "output_type": "stream",
     "text": [
      "It's underpredicted.\n",
      "Monthly Error: 23.47 Period MAE: 22.939999999999998\n",
      "It's overpredicted.\n",
      "Monthly Error: 44.6 Period MAE: 38.54"
     ]
    },
    {
     "name": "stderr",
     "output_type": "stream",
     "text": [
      "22:45:49 - cmdstanpy - INFO - Chain [1] start processing\n"
     ]
    },
    {
     "name": "stdout",
     "output_type": "stream",
     "text": [
      "\n"
     ]
    },
    {
     "name": "stderr",
     "output_type": "stream",
     "text": [
      "22:45:49 - cmdstanpy - INFO - Chain [1] done processing\n",
      "22:45:50 - cmdstanpy - INFO - Chain [1] start processing\n"
     ]
    },
    {
     "name": "stdout",
     "output_type": "stream",
     "text": [
      "It's underpredicted.\n",
      "Monthly Error: 25.45 Period MAE: 22.15\n"
     ]
    },
    {
     "name": "stderr",
     "output_type": "stream",
     "text": [
      "22:45:51 - cmdstanpy - INFO - Chain [1] start processing\n",
      "22:45:51 - cmdstanpy - INFO - Chain [1] done processing\n",
      "22:45:51 - cmdstanpy - INFO - Chain [1] done processing\n"
     ]
    },
    {
     "name": "stdout",
     "output_type": "stream",
     "text": [
      "It's overpredicted.\n",
      "Monthly Error: 44.35 Period MAE: 40.11\n",
      "It's underpredicted.\n",
      "Monthly Error: 21.42 Period MAE: 20.119999999999997\n",
      "It's overpredicted.\n",
      "Monthly Error: 44.37 Period MAE: 38.17\n"
     ]
    },
    {
     "name": "stderr",
     "output_type": "stream",
     "text": [
      "22:45:53 - cmdstanpy - INFO - Chain [1] start processing\n",
      "22:45:54 - cmdstanpy - INFO - Chain [1] done processing\n",
      "22:45:54 - cmdstanpy - INFO - Chain [1] start processing\n",
      "22:45:54 - cmdstanpy - INFO - Chain [1] start processing\n",
      "22:45:54 - cmdstanpy - INFO - Chain [1] done processing\n"
     ]
    },
    {
     "name": "stdout",
     "output_type": "stream",
     "text": [
      "It's overpredicted.\n",
      "Monthly Error: 42.36 Period MAE:"
     ]
    },
    {
     "name": "stderr",
     "output_type": "stream",
     "text": [
      "22:45:55 - cmdstanpy - INFO - Chain [1] done processing\n"
     ]
    },
    {
     "name": "stdout",
     "output_type": "stream",
     "text": [
      " 37.75\n",
      "It's underpredicted.\n",
      "Monthly Error: "
     ]
    },
    {
     "name": "stderr",
     "output_type": "stream",
     "text": [
      "22:45:55 - cmdstanpy - INFO - Chain [1] start processing\n"
     ]
    },
    {
     "name": "stdout",
     "output_type": "stream",
     "text": [
      "22.04 Period MAE: 20.380000000000003\n"
     ]
    },
    {
     "name": "stderr",
     "output_type": "stream",
     "text": [
      "22:45:55 - cmdstanpy - INFO - Chain [1] done processing\n",
      "22:45:56 - cmdstanpy - INFO - Chain [1] start processing\n",
      "22:45:56 - cmdstanpy - INFO - Chain [1] done processing\n"
     ]
    },
    {
     "name": "stdout",
     "output_type": "stream",
     "text": [
      "It's underpredicted.\n",
      "Monthly Error: 21.63 Period MAE: 19.54\n"
     ]
    },
    {
     "name": "stderr",
     "output_type": "stream",
     "text": [
      "22:45:57 - cmdstanpy - INFO - Chain [1] start processing\n",
      "22:45:58 - cmdstanpy - INFO - Chain [1] done processing\n"
     ]
    },
    {
     "name": "stdout",
     "output_type": "stream",
     "text": [
      "It's underpredicted.\n",
      "Monthly Error: 22.88 Period MAE: 22.38\n",
      "It's overpredicted.\n",
      "Monthly Error: 42.99 Period MAE: 38.519999999999996\n"
     ]
    },
    {
     "name": "stderr",
     "output_type": "stream",
     "text": [
      "22:45:59 - cmdstanpy - INFO - Chain [1] start processing\n"
     ]
    },
    {
     "name": "stdout",
     "output_type": "stream",
     "text": [
      "It's overpredicted.\n",
      "Monthly Error: 67.35 Period MAE: 62.21\n"
     ]
    },
    {
     "name": "stderr",
     "output_type": "stream",
     "text": [
      "22:45:59 - cmdstanpy - INFO - Chain [1] start processing\n",
      "22:46:00 - cmdstanpy - INFO - Chain [1] start processing\n",
      "22:46:00 - cmdstanpy - INFO - Chain [1] done processing\n",
      "22:46:00 - cmdstanpy - INFO - Chain [1] done processing\n",
      "22:46:01 - cmdstanpy - INFO - Chain [1] done processing\n"
     ]
    },
    {
     "name": "stdout",
     "output_type": "stream",
     "text": [
      "It's underpredicted.\n",
      "Monthly Error: 21.75 Period MAE: 20.18\n",
      "It's overpredicted.\n",
      "Monthly Error:"
     ]
    },
    {
     "name": "stderr",
     "output_type": "stream",
     "text": [
      "22:46:02 - cmdstanpy - INFO - Chain [1] start processing\n"
     ]
    },
    {
     "name": "stdout",
     "output_type": "stream",
     "text": [
      " 67.17 Period MAE: 62.0\n"
     ]
    },
    {
     "name": "stderr",
     "output_type": "stream",
     "text": [
      "22:46:02 - cmdstanpy - INFO - Chain [1] done processing\n"
     ]
    },
    {
     "name": "stdout",
     "output_type": "stream",
     "text": [
      "It's underpredicted.\n",
      "Monthly Error: 21.0 Period MAE: 17.119999999999997\n"
     ]
    },
    {
     "name": "stderr",
     "output_type": "stream",
     "text": [
      "22:46:03 - cmdstanpy - INFO - Chain [1] start processing\n",
      "22:46:03 - cmdstanpy - INFO - Chain [1] done processing\n",
      "22:46:03 - cmdstanpy - INFO - Chain [1] start processing\n",
      "22:46:04 - cmdstanpy - INFO - Chain [1] done processing\n"
     ]
    },
    {
     "name": "stdout",
     "output_type": "stream",
     "text": [
      "It's underpredicted.\n",
      "Monthly Error:It's overpredicted. \n",
      "Monthly Error:21.12  67.56Period MAE:  Period MAE:19.09 \n",
      "62.370000000000005\n",
      "It's overpredicted.\n",
      "Monthly Error: 44.57 Period MAE: 40.43\n"
     ]
    },
    {
     "name": "stderr",
     "output_type": "stream",
     "text": [
      "22:46:07 - cmdstanpy - INFO - Chain [1] start processing\n",
      "22:46:07 - cmdstanpy - INFO - Chain [1] done processing\n",
      "22:46:07 - cmdstanpy - INFO - Chain [1] start processing\n",
      "22:46:07 - cmdstanpy - INFO - Chain [1] start processing\n",
      "22:46:07 - cmdstanpy - INFO - Chain [1] done processing\n"
     ]
    },
    {
     "name": "stdout",
     "output_type": "stream",
     "text": [
      "It's overpredicted.\n",
      "Monthly Error: 46.02 Period MAE: 41.839999999999996\n",
      "It's underpredicted.\n",
      "Monthly Error: 19.43 Period MAE: 9.69\n"
     ]
    },
    {
     "name": "stderr",
     "output_type": "stream",
     "text": [
      "22:46:08 - cmdstanpy - INFO - Chain [1] done processing\n",
      "22:46:08 - cmdstanpy - INFO - Chain [1] start processing\n",
      "22:46:09 - cmdstanpy - INFO - Chain [1] done processing\n",
      "22:46:09 - cmdstanpy - INFO - Chain [1] start processing\n",
      "22:46:09 - cmdstanpy - INFO - Chain [1] done processing\n"
     ]
    },
    {
     "name": "stdout",
     "output_type": "stream",
     "text": [
      "It's underpredicted.\n",
      "Monthly Error: 21.36 Period MAE: 18.81\n",
      "It's underpredicted.\n",
      "Monthly Error: 19.35 Period MAE: 16.96\n"
     ]
    },
    {
     "name": "stderr",
     "output_type": "stream",
     "text": [
      "22:46:12 - cmdstanpy - INFO - Chain [1] start processing\n",
      "22:46:12 - cmdstanpy - INFO - Chain [1] done processing\n"
     ]
    },
    {
     "name": "stdout",
     "output_type": "stream",
     "text": [
      "It's underpredicted.\n",
      "Monthly Error: It's overpredicted.29.45 \n",
      "Monthly Error:Period MAE:  22.689999999999998\n",
      "45.24 Period MAE: 41.089999999999996\n"
     ]
    },
    {
     "name": "stderr",
     "output_type": "stream",
     "text": [
      "22:46:12 - cmdstanpy - INFO - Chain [1] start processing\n",
      "22:46:12 - cmdstanpy - INFO - Chain [1] start processing\n",
      "22:46:13 - cmdstanpy - INFO - Chain [1] done processing\n",
      "22:46:13 - cmdstanpy - INFO - Chain [1] start processing\n",
      "22:46:14 - cmdstanpy - INFO - Chain [1] done processing\n",
      "22:46:14 - cmdstanpy - INFO - Chain [1] done processing\n"
     ]
    },
    {
     "name": "stdout",
     "output_type": "stream",
     "text": [
      "It's underpredicted.\n",
      "Monthly Error: 19.83 Period MAE: 11.690000000000001\n"
     ]
    },
    {
     "name": "stderr",
     "output_type": "stream",
     "text": [
      "22:46:15 - cmdstanpy - INFO - Chain [1] start processing\n",
      "22:46:15 - cmdstanpy - INFO - Chain [1] done processing\n"
     ]
    },
    {
     "name": "stdout",
     "output_type": "stream",
     "text": [
      "It's underpredicted.\n",
      "Monthly Error: 26.49 Period MAE: 23.990000000000002\n"
     ]
    },
    {
     "name": "stderr",
     "output_type": "stream",
     "text": [
      "22:46:16 - cmdstanpy - INFO - Chain [1] start processing\n"
     ]
    },
    {
     "name": "stdout",
     "output_type": "stream",
     "text": [
      "It's underpredicted.\n"
     ]
    },
    {
     "name": "stderr",
     "output_type": "stream",
     "text": [
      "22:46:16 - cmdstanpy - INFO - Chain [1] done processing\n"
     ]
    },
    {
     "name": "stdout",
     "output_type": "stream",
     "text": [
      "Monthly Error: 21.0 Period MAE: 9.9\n"
     ]
    },
    {
     "name": "stderr",
     "output_type": "stream",
     "text": [
      "22:46:17 - cmdstanpy - INFO - Chain [1] start processing\n",
      "22:46:17 - cmdstanpy - INFO - Chain [1] done processing\n"
     ]
    },
    {
     "name": "stdout",
     "output_type": "stream",
     "text": [
      "It's underpredicted.\n",
      "Monthly Error: 19.19 Period MAE: 16.24\n",
      "It's underpredicted.It's overpredicted.\n",
      "\n",
      "Monthly Error:Monthly Error: 28.41  63.18Period MAE:  13.239999999999998Period MAE: \n",
      "58.4\n"
     ]
    },
    {
     "name": "stderr",
     "output_type": "stream",
     "text": [
      "22:46:19 - cmdstanpy - INFO - Chain [1] start processing\n",
      "22:46:19 - cmdstanpy - INFO - Chain [1] start processing\n",
      "22:46:19 - cmdstanpy - INFO - Chain [1] done processing\n",
      "22:46:19 - cmdstanpy - INFO - Chain [1] start processing\n",
      "22:46:20 - cmdstanpy - INFO - Chain [1] done processing\n",
      "22:46:20 - cmdstanpy - INFO - Chain [1] done processing\n"
     ]
    },
    {
     "name": "stdout",
     "output_type": "stream",
     "text": [
      "It's overpredicted.\n",
      "Monthly Error: 58.69 Period MAE: 54.17999999999999\n",
      "It's underpredicted.\n",
      "Monthly Error: 26.15 Period MAE: 21.3\n"
     ]
    },
    {
     "name": "stderr",
     "output_type": "stream",
     "text": [
      "22:46:21 - cmdstanpy - INFO - Chain [1] start processing\n",
      "22:46:21 - cmdstanpy - INFO - Chain [1] done processing\n",
      "22:46:21 - cmdstanpy - INFO - Chain [1] start processing\n"
     ]
    },
    {
     "name": "stdout",
     "output_type": "stream",
     "text": [
      "It's underpredicted.\n",
      "Monthly Error: "
     ]
    },
    {
     "name": "stderr",
     "output_type": "stream",
     "text": [
      "22:46:22 - cmdstanpy - INFO - Chain [1] done processing\n"
     ]
    },
    {
     "name": "stdout",
     "output_type": "stream",
     "text": [
      "21.0 Period MAE: 9.569999999999999\n"
     ]
    },
    {
     "name": "stderr",
     "output_type": "stream",
     "text": [
      "22:46:23 - cmdstanpy - INFO - Chain [1] start processing\n"
     ]
    },
    {
     "name": "stdout",
     "output_type": "stream",
     "text": [
      "It's underpredicted.\n",
      "Monthly Error: "
     ]
    },
    {
     "name": "stderr",
     "output_type": "stream",
     "text": [
      "22:46:23 - cmdstanpy - INFO - Chain [1] done processing\n"
     ]
    },
    {
     "name": "stdout",
     "output_type": "stream",
     "text": [
      "26.38 Period MAE: 25.759999999999998\n",
      "It's overpredicted.\n",
      "Monthly Error: 60.82 Period MAE: It's underpredicted.56.03\n",
      "\n",
      "Monthly Error: 31.44 Period MAE: 8.76"
     ]
    },
    {
     "name": "stderr",
     "output_type": "stream",
     "text": [
      "22:46:24 - cmdstanpy - INFO - Chain [1] start processing\n"
     ]
    },
    {
     "name": "stdout",
     "output_type": "stream",
     "text": [
      "\n"
     ]
    },
    {
     "name": "stderr",
     "output_type": "stream",
     "text": [
      "22:46:25 - cmdstanpy - INFO - Chain [1] start processing\n",
      "22:46:25 - cmdstanpy - INFO - Chain [1] start processing\n",
      "22:46:25 - cmdstanpy - INFO - Chain [1] done processing\n",
      "22:46:26 - cmdstanpy - INFO - Chain [1] done processing\n",
      "22:46:26 - cmdstanpy - INFO - Chain [1] done processing\n"
     ]
    },
    {
     "name": "stdout",
     "output_type": "stream",
     "text": [
      "It's overpredicted.\n",
      "Monthly Error: 51.3 Period MAE: 38.09\n"
     ]
    },
    {
     "name": "stderr",
     "output_type": "stream",
     "text": [
      "22:46:26 - cmdstanpy - INFO - Chain [1] start processing\n",
      "22:46:26 - cmdstanpy - INFO - Chain [1] done processing\n"
     ]
    },
    {
     "name": "stdout",
     "output_type": "stream",
     "text": [
      "It's underpredicted.\n",
      "Monthly Error: 22.22 Period MAE: 23.189999999999998\n",
      "It's underpredicted.\n",
      "Monthly Error: 28.57 Period MAE: "
     ]
    },
    {
     "name": "stderr",
     "output_type": "stream",
     "text": [
      "22:46:27 - cmdstanpy - INFO - Chain [1] start processing\n"
     ]
    },
    {
     "name": "stdout",
     "output_type": "stream",
     "text": [
      "20.8\n"
     ]
    },
    {
     "name": "stderr",
     "output_type": "stream",
     "text": [
      "22:46:27 - cmdstanpy - INFO - Chain [1] done processing\n",
      "22:46:28 - cmdstanpy - INFO - Chain [1] start processing\n",
      "22:46:28 - cmdstanpy - INFO - Chain [1] done processing\n"
     ]
    },
    {
     "name": "stdout",
     "output_type": "stream",
     "text": [
      "It's underpredicted.\n",
      "Monthly Error: 24.14 It's underpredicted.\n",
      "Period MAE:Monthly Error: 22.0  6.510000000000001Period MAE: \n",
      "22.99\n",
      "It's overpredicted.\n",
      "Monthly Error: 58.16 Period MAE: 45.17\n"
     ]
    },
    {
     "name": "stderr",
     "output_type": "stream",
     "text": [
      "22:46:30 - cmdstanpy - INFO - Chain [1] start processing\n",
      "22:46:30 - cmdstanpy - INFO - Chain [1] start processing\n",
      "22:46:30 - cmdstanpy - INFO - Chain [1] done processing\n",
      "22:46:30 - cmdstanpy - INFO - Chain [1] start processing\n",
      "22:46:31 - cmdstanpy - INFO - Chain [1] done processing\n",
      "22:46:31 - cmdstanpy - INFO - Chain [1] done processing\n"
     ]
    },
    {
     "name": "stdout",
     "output_type": "stream",
     "text": [
      "It's underpredicted.\n",
      "Monthly Error: 22.76 Period MAE: 23.0\n",
      "It's underpredicted.\n",
      "Monthly Error: Period MAE:22.4  7.85\n"
     ]
    },
    {
     "name": "stderr",
     "output_type": "stream",
     "text": [
      "22:46:32 - cmdstanpy - INFO - Chain [1] start processing\n",
      "22:46:32 - cmdstanpy - INFO - Chain [1] start processing\n",
      "22:46:32 - cmdstanpy - INFO - Chain [1] done processing\n",
      "22:46:32 - cmdstanpy - INFO - Chain [1] done processing\n"
     ]
    },
    {
     "name": "stdout",
     "output_type": "stream",
     "text": [
      "It's underpredicted.\n",
      "Monthly Error: 21.94 Period MAE: 18.240000000000002\n"
     ]
    },
    {
     "name": "stderr",
     "output_type": "stream",
     "text": [
      "22:46:34 - cmdstanpy - INFO - Chain [1] start processing\n",
      "22:46:34 - cmdstanpy - INFO - Chain [1] done processing\n"
     ]
    },
    {
     "name": "stdout",
     "output_type": "stream",
     "text": [
      "It's underpredicted.\n",
      "Monthly Error: 18.2 Period MAE: 15.39\n",
      "It's overpredicted.\n",
      "Monthly Error: 27.83 Period MAE: 1.73\n"
     ]
    },
    {
     "name": "stderr",
     "output_type": "stream",
     "text": [
      "22:46:35 - cmdstanpy - INFO - Chain [1] start processing\n",
      "22:46:36 - cmdstanpy - INFO - Chain [1] start processing\n"
     ]
    },
    {
     "name": "stdout",
     "output_type": "stream",
     "text": [
      "It's overpredicted.\n",
      "Monthly Error: 62.95 Period MAE:"
     ]
    },
    {
     "name": "stderr",
     "output_type": "stream",
     "text": [
      "22:46:36 - cmdstanpy - INFO - Chain [1] done processing\n"
     ]
    },
    {
     "name": "stdout",
     "output_type": "stream",
     "text": [
      " 58.160000000000004\n"
     ]
    },
    {
     "name": "stderr",
     "output_type": "stream",
     "text": [
      "22:46:36 - cmdstanpy - INFO - Chain [1] done processing\n",
      "22:46:36 - cmdstanpy - INFO - Chain [1] start processing\n",
      "22:46:37 - cmdstanpy - INFO - Chain [1] done processing\n"
     ]
    },
    {
     "name": "stdout",
     "output_type": "stream",
     "text": [
      "It's overpredicted.\n",
      "Monthly Error: 60.01 Period MAE: 55.50000000000001\n"
     ]
    },
    {
     "name": "stderr",
     "output_type": "stream",
     "text": [
      "22:46:38 - cmdstanpy - INFO - Chain [1] start processing\n",
      "22:46:38 - cmdstanpy - INFO - Chain [1] done processing\n"
     ]
    },
    {
     "name": "stdout",
     "output_type": "stream",
     "text": [
      "It's underpredicted.\n",
      "Monthly Error: 17.38 Period MAE: 5.99\n",
      "It's underpredicted.\n",
      "Monthly Error: 25.07 Period MAE: 25.180000000000003\n"
     ]
    },
    {
     "name": "stderr",
     "output_type": "stream",
     "text": [
      "22:46:39 - cmdstanpy - INFO - Chain [1] start processing\n",
      "22:46:39 - cmdstanpy - INFO - Chain [1] start processing\n",
      "22:46:39 - cmdstanpy - INFO - Chain [1] done processing\n",
      "22:46:40 - cmdstanpy - INFO - Chain [1] done processing\n"
     ]
    },
    {
     "name": "stdout",
     "output_type": "stream",
     "text": [
      "It's overpredicted.\n",
      "Monthly Error: 61.2 Period MAE: 56.39999999999999It's overpredicted.\n",
      "\n",
      "It's underpredicted.Monthly Error: 32.65 Period MAE: \n",
      "Monthly Error:9.27\n",
      " 21.121.790000000000003 Period MAE: \n"
     ]
    },
    {
     "name": "stderr",
     "output_type": "stream",
     "text": [
      "22:46:42 - cmdstanpy - INFO - Chain [1] start processing\n",
      "22:46:43 - cmdstanpy - INFO - Chain [1] done processing\n",
      "22:46:43 - cmdstanpy - INFO - Chain [1] start processing\n",
      "22:46:43 - cmdstanpy - INFO - Chain [1] start processing\n"
     ]
    },
    {
     "name": "stdout",
     "output_type": "stream",
     "text": [
      "It's underpredicted.\n",
      "Monthly Error:It's overpredicted. \n",
      "27.77Monthly Error:"
     ]
    },
    {
     "name": "stderr",
     "output_type": "stream",
     "text": [
      "22:46:44 - cmdstanpy - INFO - Chain [1] done processing\n"
     ]
    },
    {
     "name": "stdout",
     "output_type": "stream",
     "text": [
      "  Period MAE:61.38  25.900000000000002Period MAE:\n",
      " 50.5\n"
     ]
    },
    {
     "name": "stderr",
     "output_type": "stream",
     "text": [
      "22:46:44 - cmdstanpy - INFO - Chain [1] done processing\n",
      "22:46:44 - cmdstanpy - INFO - Chain [1] start processing\n",
      "22:46:44 - cmdstanpy - INFO - Chain [1] done processing\n",
      "22:46:45 - cmdstanpy - INFO - Chain [1] start processing\n",
      "22:46:46 - cmdstanpy - INFO - Chain [1] done processing\n"
     ]
    },
    {
     "name": "stdout",
     "output_type": "stream",
     "text": [
      "It's underpredicted.\n",
      "Monthly Error: 23.9 Period MAE: 18.62\n",
      "It's overpredicted."
     ]
    },
    {
     "name": "stderr",
     "output_type": "stream",
     "text": [
      "22:46:48 - cmdstanpy - INFO - Chain [1] start processing\n"
     ]
    },
    {
     "name": "stdout",
     "output_type": "stream",
     "text": [
      "\n",
      "Monthly Error: 40.19 Period MAE: 31.91\n"
     ]
    },
    {
     "name": "stderr",
     "output_type": "stream",
     "text": [
      "22:46:48 - cmdstanpy - INFO - Chain [1] done processing\n"
     ]
    },
    {
     "name": "stdout",
     "output_type": "stream",
     "text": [
      "It's underpredicted.\n",
      "Monthly Error: 21.68 Period MAE: 20.1\n"
     ]
    },
    {
     "name": "stderr",
     "output_type": "stream",
     "text": [
      "22:46:49 - cmdstanpy - INFO - Chain [1] start processing\n"
     ]
    },
    {
     "name": "stdout",
     "output_type": "stream",
     "text": [
      "It's overpredicted.\n",
      "Monthly Error: 57.65 Period MAE: 46.589999999999996\n"
     ]
    },
    {
     "name": "stderr",
     "output_type": "stream",
     "text": [
      "22:46:50 - cmdstanpy - INFO - Chain [1] start processing\n",
      "22:46:50 - cmdstanpy - INFO - Chain [1] start processing\n",
      "22:46:51 - cmdstanpy - INFO - Chain [1] done processing\n",
      "22:46:51 - cmdstanpy - INFO - Chain [1] done processing\n",
      "22:46:51 - cmdstanpy - INFO - Chain [1] done processing\n"
     ]
    },
    {
     "name": "stdout",
     "output_type": "stream",
     "text": [
      "It's underpredicted.It's overpredicted.\n",
      "\n",
      "Monthly Error: Monthly Error:24.05 48.86  Period MAE:Period MAE:  43.47\n",
      "17.64\n"
     ]
    },
    {
     "name": "stderr",
     "output_type": "stream",
     "text": [
      "22:46:52 - cmdstanpy - INFO - Chain [1] start processing\n",
      "22:46:52 - cmdstanpy - INFO - Chain [1] done processing\n",
      "22:46:52 - cmdstanpy - INFO - Chain [1] start processing\n"
     ]
    },
    {
     "name": "stdout",
     "output_type": "stream",
     "text": [
      "It's underpredicted.\n",
      "Monthly Error: 22.08 Period MAE: 12.8\n"
     ]
    },
    {
     "name": "stderr",
     "output_type": "stream",
     "text": [
      "22:46:54 - cmdstanpy - INFO - Chain [1] done processing\n",
      "22:46:54 - cmdstanpy - INFO - Chain [1] start processing\n",
      "22:46:54 - cmdstanpy - INFO - Chain [1] done processing\n"
     ]
    },
    {
     "name": "stdout",
     "output_type": "stream",
     "text": [
      "It's overpredicted.\n",
      "Monthly Error: 53.64 Period MAE: 47.72\n",
      "It's underpredicted.\n",
      "Monthly Error: 19.59 Period MAE: 10.24\n",
      "It's overpredicted.\n",
      "Monthly Error: 56.41 Period MAE: 51.39\n"
     ]
    },
    {
     "name": "stderr",
     "output_type": "stream",
     "text": [
      "22:46:56 - cmdstanpy - INFO - Chain [1] start processing\n",
      "22:46:56 - cmdstanpy - INFO - Chain [1] start processing\n",
      "22:46:56 - cmdstanpy - INFO - Chain [1] done processing\n",
      "22:46:57 - cmdstanpy - INFO - Chain [1] start processing\n"
     ]
    },
    {
     "name": "stdout",
     "output_type": "stream",
     "text": [
      "It's overpredicted.\n"
     ]
    },
    {
     "name": "stderr",
     "output_type": "stream",
     "text": [
      "22:46:57 - cmdstanpy - INFO - Chain [1] done processing\n"
     ]
    },
    {
     "name": "stdout",
     "output_type": "stream",
     "text": [
      "Monthly Error: 63.83 Period MAE: 58.17\n"
     ]
    },
    {
     "name": "stderr",
     "output_type": "stream",
     "text": [
      "22:46:58 - cmdstanpy - INFO - Chain [1] start processing\n",
      "22:46:58 - cmdstanpy - INFO - Chain [1] done processing\n",
      "22:46:58 - cmdstanpy - INFO - Chain [1] done processing\n"
     ]
    },
    {
     "name": "stdout",
     "output_type": "stream",
     "text": [
      "It's underpredicted.\n",
      "Monthly Error: 20.33 Period MAE: 12.19\n"
     ]
    },
    {
     "name": "stderr",
     "output_type": "stream",
     "text": [
      "22:46:58 - cmdstanpy - INFO - Chain [1] start processing\n",
      "22:46:59 - cmdstanpy - INFO - Chain [1] done processing\n"
     ]
    },
    {
     "name": "stdout",
     "output_type": "stream",
     "text": [
      "It's underpredicted.\n",
      "Monthly Error: 21.15 Period MAE: 5.25\n",
      "It's underpredicted.\n",
      "Monthly Error: 18.52 Period MAE: 9.64\n"
     ]
    },
    {
     "name": "stderr",
     "output_type": "stream",
     "text": [
      "22:47:01 - cmdstanpy - INFO - Chain [1] start processing\n",
      "22:47:02 - cmdstanpy - INFO - Chain [1] done processing\n"
     ]
    },
    {
     "name": "stdout",
     "output_type": "stream",
     "text": [
      "It's overpredicted.\n",
      "Monthly Error: 74.64 Period MAE: 68.8\n",
      "It's overpredicted.\n",
      "Monthly Error: 69.25 Period MAE: 63.080000000000005\n"
     ]
    },
    {
     "name": "stderr",
     "output_type": "stream",
     "text": [
      "22:47:03 - cmdstanpy - INFO - Chain [1] start processing\n",
      "22:47:03 - cmdstanpy - INFO - Chain [1] start processing\n",
      "22:47:03 - cmdstanpy - INFO - Chain [1] done processing\n",
      "22:47:04 - cmdstanpy - INFO - Chain [1] start processing\n",
      "22:47:04 - cmdstanpy - INFO - Chain [1] done processing\n"
     ]
    },
    {
     "name": "stdout",
     "output_type": "stream",
     "text": [
      "It's underpredicted.\n",
      "Monthly Error: 23.96 Period MAE: 23.47\n"
     ]
    },
    {
     "name": "stderr",
     "output_type": "stream",
     "text": [
      "22:47:05 - cmdstanpy - INFO - Chain [1] start processing\n",
      "22:47:05 - cmdstanpy - INFO - Chain [1] done processing\n",
      "22:47:05 - cmdstanpy - INFO - Chain [1] done processing\n"
     ]
    },
    {
     "name": "stdout",
     "output_type": "stream",
     "text": [
      "It's overpredicted.\n",
      "Monthly Error: 75.11 Period MAE: 69.32000000000001\n"
     ]
    },
    {
     "name": "stderr",
     "output_type": "stream",
     "text": [
      "22:47:06 - cmdstanpy - INFO - Chain [1] start processing\n",
      "22:47:07 - cmdstanpy - INFO - Chain [1] done processing\n"
     ]
    },
    {
     "name": "stdout",
     "output_type": "stream",
     "text": [
      "It's overpredicted.\n",
      "Monthly Error: 19.33 Period MAE: 0.45999999999999996\n"
     ]
    },
    {
     "name": "stderr",
     "output_type": "stream",
     "text": [
      "22:47:08 - cmdstanpy - INFO - Chain [1] start processing\n"
     ]
    },
    {
     "name": "stdout",
     "output_type": "stream",
     "text": [
      "It's overpredicted.\n",
      "Monthly Error: "
     ]
    },
    {
     "name": "stderr",
     "output_type": "stream",
     "text": [
      "22:47:08 - cmdstanpy - INFO - Chain [1] done processing\n"
     ]
    },
    {
     "name": "stdout",
     "output_type": "stream",
     "text": [
      "41.4 Period MAE: 36.59\n",
      "It's overpredicted.\n",
      "Monthly Error: 77.01 Period MAE: 71.17\n",
      "It's underpredicted.\n",
      "Monthly Error: 18.94 Period MAE: 14.790000000000001\n"
     ]
    },
    {
     "name": "stderr",
     "output_type": "stream",
     "text": [
      "22:47:09 - cmdstanpy - INFO - Chain [1] start processing\n",
      "22:47:09 - cmdstanpy - INFO - Chain [1] start processing\n",
      "22:47:10 - cmdstanpy - INFO - Chain [1] done processing\n",
      "22:47:10 - cmdstanpy - INFO - Chain [1] start processing\n",
      "22:47:10 - cmdstanpy - INFO - Chain [1] done processing\n",
      "22:47:11 - cmdstanpy - INFO - Chain [1] done processing\n"
     ]
    },
    {
     "name": "stdout",
     "output_type": "stream",
     "text": [
      "It's underpredicted.\n",
      "Monthly Error: 21.06 Period MAE: 17.01\n",
      "It's overpredicted.\n",
      "Monthly Error: 44.1 Period MAE: 39.93\n"
     ]
    },
    {
     "name": "stderr",
     "output_type": "stream",
     "text": [
      "22:47:12 - cmdstanpy - INFO - Chain [1] start processing\n",
      "22:47:12 - cmdstanpy - INFO - Chain [1] done processing\n",
      "22:47:12 - cmdstanpy - INFO - Chain [1] start processing\n"
     ]
    },
    {
     "name": "stdout",
     "output_type": "stream",
     "text": [
      "It's underpredicted.\n",
      "Monthly Error: 19.99 Period MAE: 7.290000000000001\n"
     ]
    },
    {
     "name": "stderr",
     "output_type": "stream",
     "text": [
      "22:47:13 - cmdstanpy - INFO - Chain [1] done processing\n",
      "22:47:14 - cmdstanpy - INFO - Chain [1] start processing\n",
      "22:47:14 - cmdstanpy - INFO - Chain [1] done processing\n"
     ]
    },
    {
     "name": "stdout",
     "output_type": "stream",
     "text": [
      "It's overpredicted.\n",
      "Monthly Error: 42.49 Period MAE: 38.35\n",
      "It's underpredicted.\n",
      "Monthly Error: 17.8 Period MAE: 9.59\n",
      "It's overpredicted.\n",
      "Monthly Error: 61.01 Period MAE: 56.07\n"
     ]
    },
    {
     "name": "stderr",
     "output_type": "stream",
     "text": [
      "22:47:16 - cmdstanpy - INFO - Chain [1] start processing\n",
      "22:47:16 - cmdstanpy - INFO - Chain [1] start processing\n",
      "22:47:16 - cmdstanpy - INFO - Chain [1] start processing\n",
      "22:47:17 - cmdstanpy - INFO - Chain [1] done processing\n",
      "22:47:17 - cmdstanpy - INFO - Chain [1] done processing\n",
      "22:47:17 - cmdstanpy - INFO - Chain [1] done processing\n"
     ]
    },
    {
     "name": "stdout",
     "output_type": "stream",
     "text": [
      "It's overpredicted.\n",
      "Monthly Error: 66.94 Period MAE: 61.629999999999995\n"
     ]
    },
    {
     "name": "stderr",
     "output_type": "stream",
     "text": [
      "22:47:18 - cmdstanpy - INFO - Chain [1] start processing\n"
     ]
    },
    {
     "name": "stdout",
     "output_type": "stream",
     "text": [
      "It's underpredicted.\n",
      "Monthly Error: 18.3 Period MAE:"
     ]
    },
    {
     "name": "stderr",
     "output_type": "stream",
     "text": [
      "22:47:18 - cmdstanpy - INFO - Chain [1] done processing\n"
     ]
    },
    {
     "name": "stdout",
     "output_type": "stream",
     "text": [
      " 7.13\n"
     ]
    },
    {
     "name": "stderr",
     "output_type": "stream",
     "text": [
      "22:47:19 - cmdstanpy - INFO - Chain [1] start processing\n"
     ]
    },
    {
     "name": "stdout",
     "output_type": "stream",
     "text": [
      "It's underpredicted.\n",
      "Monthly Error: 18.58 Period MAE: 0.52\n"
     ]
    },
    {
     "name": "stderr",
     "output_type": "stream",
     "text": [
      "22:47:20 - cmdstanpy - INFO - Chain [1] done processing\n",
      "22:47:20 - cmdstanpy - INFO - Chain [1] start processing\n",
      "22:47:21 - cmdstanpy - INFO - Chain [1] done processing\n"
     ]
    },
    {
     "name": "stdout",
     "output_type": "stream",
     "text": [
      "It's overpredicted.\n",
      "Monthly Error: 75.28 Period MAE: 69.41000000000001\n",
      "It's overpredicted.\n",
      "Monthly Error: 78.12 Period MAE: 72.59\n",
      "It's underpredicted.\n",
      "Monthly Error: 15.93 Period MAE: 2.9899999999999998\n"
     ]
    },
    {
     "name": "stderr",
     "output_type": "stream",
     "text": [
      "22:47:22 - cmdstanpy - INFO - Chain [1] start processing\n",
      "22:47:22 - cmdstanpy - INFO - Chain [1] start processing\n",
      "22:47:23 - cmdstanpy - INFO - Chain [1] done processing\n",
      "22:47:23 - cmdstanpy - INFO - Chain [1] start processing\n",
      "22:47:23 - cmdstanpy - INFO - Chain [1] done processing\n"
     ]
    },
    {
     "name": "stdout",
     "output_type": "stream",
     "text": [
      "It's underpredicted.\n",
      "Monthly Error: 19.77 Period MAE: 11.35\n"
     ]
    },
    {
     "name": "stderr",
     "output_type": "stream",
     "text": [
      "22:47:24 - cmdstanpy - INFO - Chain [1] done processing\n",
      "22:47:25 - cmdstanpy - INFO - Chain [1] start processing\n"
     ]
    },
    {
     "name": "stdout",
     "output_type": "stream",
     "text": [
      "It's overpredicted.\n",
      "Monthly Error: 78.08 Period MAE: 72.89\n"
     ]
    },
    {
     "name": "stderr",
     "output_type": "stream",
     "text": [
      "22:47:25 - cmdstanpy - INFO - Chain [1] done processing\n",
      "22:47:25 - cmdstanpy - INFO - Chain [1] start processing\n",
      "22:47:26 - cmdstanpy - INFO - Chain [1] done processing\n"
     ]
    },
    {
     "name": "stdout",
     "output_type": "stream",
     "text": [
      "It's overpredicted.It's overpredicted.\n",
      "\n",
      "Monthly Error:Monthly Error:  81.02 Period MAE:17.41  75.7Period MAE: \n",
      "3.52\n",
      "It's underpredicted.\n",
      " Monthly Error:19.13 Period MAE: 15.909999999999998\n"
     ]
    },
    {
     "name": "stderr",
     "output_type": "stream",
     "text": [
      "22:47:28 - cmdstanpy - INFO - Chain [1] start processing\n",
      "22:47:28 - cmdstanpy - INFO - Chain [1] done processing\n",
      "22:47:28 - cmdstanpy - INFO - Chain [1] start processing\n"
     ]
    },
    {
     "name": "stdout",
     "output_type": "stream",
     "text": [
      "It's underpredicted.\n"
     ]
    },
    {
     "name": "stderr",
     "output_type": "stream",
     "text": [
      "22:47:28 - cmdstanpy - INFO - Chain [1] start processing\n"
     ]
    },
    {
     "name": "stdout",
     "output_type": "stream",
     "text": [
      "Monthly Error: 29.43 Period MAE: 22.66\n"
     ]
    },
    {
     "name": "stderr",
     "output_type": "stream",
     "text": [
      "22:47:29 - cmdstanpy - INFO - Chain [1] start processing\n",
      "22:47:29 - cmdstanpy - INFO - Chain [1] done processing\n",
      "22:47:30 - cmdstanpy - INFO - Chain [1] done processing\n",
      "22:47:30 - cmdstanpy - INFO - Chain [1] done processing\n"
     ]
    },
    {
     "name": "stdout",
     "output_type": "stream",
     "text": [
      "It's underpredicted.\n",
      "Monthly Error: 19.63 It's underpredicted.Period MAE: \n",
      "Monthly Error: 10.7226.57\n",
      " Period MAE: 23.990000000000002\n"
     ]
    },
    {
     "name": "stderr",
     "output_type": "stream",
     "text": [
      "22:47:31 - cmdstanpy - INFO - Chain [1] start processing\n",
      "22:47:32 - cmdstanpy - INFO - Chain [1] done processing\n"
     ]
    },
    {
     "name": "stdout",
     "output_type": "stream",
     "text": [
      "It's underpredicted.\n",
      "Monthly Error: 20.82"
     ]
    },
    {
     "name": "stderr",
     "output_type": "stream",
     "text": [
      "22:47:32 - cmdstanpy - INFO - Chain [1] start processing\n"
     ]
    },
    {
     "name": "stdout",
     "output_type": "stream",
     "text": [
      " Period MAE: 8.81\n"
     ]
    },
    {
     "name": "stderr",
     "output_type": "stream",
     "text": [
      "22:47:32 - cmdstanpy - INFO - Chain [1] done processing\n",
      "22:47:32 - cmdstanpy - INFO - Chain [1] start processing\n",
      "22:47:33 - cmdstanpy - INFO - Chain [1] done processing\n"
     ]
    },
    {
     "name": "stdout",
     "output_type": "stream",
     "text": [
      "It's underpredicted.\n",
      "Monthly Error: 28.26 Period MAE: 12.920000000000002\n",
      "It's underpredicted.\n",
      "Monthly Error: 19.06 Period MAE: 15.8\n"
     ]
    },
    {
     "name": "stderr",
     "output_type": "stream",
     "text": [
      "22:47:35 - cmdstanpy - INFO - Chain [1] start processing\n"
     ]
    },
    {
     "name": "stdout",
     "output_type": "stream",
     "text": [
      "It's overpredicted.\n",
      "Monthly Error: 63.21 "
     ]
    },
    {
     "name": "stderr",
     "output_type": "stream",
     "text": [
      "22:47:35 - cmdstanpy - INFO - Chain [1] start processing\n"
     ]
    },
    {
     "name": "stdout",
     "output_type": "stream",
     "text": [
      "Period MAE: 58.440000000000005\n"
     ]
    },
    {
     "name": "stderr",
     "output_type": "stream",
     "text": [
      "22:47:36 - cmdstanpy - INFO - Chain [1] done processing\n",
      "22:47:36 - cmdstanpy - INFO - Chain [1] start processing\n",
      "22:47:36 - cmdstanpy - INFO - Chain [1] done processing\n"
     ]
    },
    {
     "name": "stdout",
     "output_type": "stream",
     "text": [
      "It's overpredicted.\n",
      "Monthly Error: 58.73 Period MAE: 54.22\n"
     ]
    },
    {
     "name": "stderr",
     "output_type": "stream",
     "text": [
      "22:47:37 - cmdstanpy - INFO - Chain [1] done processing\n",
      "22:47:37 - cmdstanpy - INFO - Chain [1] start processing\n",
      "22:47:37 - cmdstanpy - INFO - Chain [1] done processing\n"
     ]
    },
    {
     "name": "stdout",
     "output_type": "stream",
     "text": [
      "It's underpredicted.\n",
      "Monthly Error: 21.08 Period MAE:It's underpredicted. \n",
      "10.07Monthly Error:\n",
      " 26.32 Period MAE: 21.67\n"
     ]
    },
    {
     "name": "stderr",
     "output_type": "stream",
     "text": [
      "22:47:39 - cmdstanpy - INFO - Chain [1] start processing\n",
      "22:47:39 - cmdstanpy - INFO - Chain [1] start processing\n",
      "22:47:39 - cmdstanpy - INFO - Chain [1] done processing\n",
      "22:47:39 - cmdstanpy - INFO - Chain [1] done processing\n"
     ]
    },
    {
     "name": "stdout",
     "output_type": "stream",
     "text": [
      "It's underpredicted.\n",
      "Monthly Error: 31.13 Period MAE: 11.48\n",
      "It's overpredicted.\n",
      "Monthly Error: 60.79 Period MAE: 55.989999999999995\n",
      "It's underpredicted.\n",
      "Monthly Error: 27.68 Period MAE: 27.46\n"
     ]
    },
    {
     "name": "stderr",
     "output_type": "stream",
     "text": [
      "22:47:41 - cmdstanpy - INFO - Chain [1] start processing\n",
      "22:47:42 - cmdstanpy - INFO - Chain [1] start processing\n",
      "22:47:42 - cmdstanpy - INFO - Chain [1] done processing\n",
      "22:47:42 - cmdstanpy - INFO - Chain [1] start processing\n",
      "22:47:42 - cmdstanpy - INFO - Chain [1] done processing\n"
     ]
    },
    {
     "name": "stdout",
     "output_type": "stream",
     "text": [
      "It's underpredicted.It's overpredicted.\n",
      "\n",
      "Monthly Error:Monthly Error: 22.02  40.75Period MAE:  Period MAE:22.99\n",
      " 19.0\n"
     ]
    },
    {
     "name": "stderr",
     "output_type": "stream",
     "text": [
      "22:47:44 - cmdstanpy - INFO - Chain [1] start processing\n",
      "22:47:44 - cmdstanpy - INFO - Chain [1] start processing\n",
      "22:47:44 - cmdstanpy - INFO - Chain [1] done processing\n",
      "22:47:44 - cmdstanpy - INFO - Chain [1] done processing\n",
      "22:47:44 - cmdstanpy - INFO - Chain [1] done processing\n"
     ]
    },
    {
     "name": "stdout",
     "output_type": "stream",
     "text": [
      "It's underpredicted.\n",
      "Monthly Error: 21.73 Period MAE: 22.74\n"
     ]
    },
    {
     "name": "stderr",
     "output_type": "stream",
     "text": [
      "22:47:46 - cmdstanpy - INFO - Chain [1] start processing\n"
     ]
    },
    {
     "name": "stdout",
     "output_type": "stream",
     "text": [
      "It's underpredicted.\n",
      "Monthly Error: 27.96 Period MAE:"
     ]
    },
    {
     "name": "stderr",
     "output_type": "stream",
     "text": [
      "22:47:47 - cmdstanpy - INFO - Chain [1] done processing\n"
     ]
    },
    {
     "name": "stdout",
     "output_type": "stream",
     "text": [
      " 20.02\n",
      "It's underpredicted.\n",
      "Monthly Error: 24.0 Period MAE: It's overpredicted.\n",
      "Monthly Error: 39.266.92 \n",
      "Period MAE: 16.11\n"
     ]
    },
    {
     "name": "stderr",
     "output_type": "stream",
     "text": [
      "22:47:47 - cmdstanpy - INFO - Chain [1] start processing\n",
      "22:47:48 - cmdstanpy - INFO - Chain [1] start processing\n",
      "22:47:48 - cmdstanpy - INFO - Chain [1] start processing\n",
      "22:47:48 - cmdstanpy - INFO - Chain [1] done processing\n",
      "22:47:49 - cmdstanpy - INFO - Chain [1] done processing\n",
      "22:47:49 - cmdstanpy - INFO - Chain [1] done processing\n"
     ]
    },
    {
     "name": "stdout",
     "output_type": "stream",
     "text": [
      "It's underpredicted.\n",
      "Monthly Error:It's underpredicted.\n",
      " Monthly Error:19.7 Period MAE:  22.6418.57 \n",
      "Period MAE: 7.26\n"
     ]
    },
    {
     "name": "stderr",
     "output_type": "stream",
     "text": [
      "22:47:50 - cmdstanpy - INFO - Chain [1] start processing\n",
      "22:47:51 - cmdstanpy - INFO - Chain [1] done processing\n",
      "22:47:51 - cmdstanpy - INFO - Chain [1] start processing\n",
      "22:47:51 - cmdstanpy - INFO - Chain [1] done processing\n"
     ]
    },
    {
     "name": "stdout",
     "output_type": "stream",
     "text": [
      "It's underpredicted.\n",
      "Monthly Error: 21.91 Period MAE: 18.72\n"
     ]
    },
    {
     "name": "stderr",
     "output_type": "stream",
     "text": [
      "22:47:52 - cmdstanpy - INFO - Chain [1] start processing\n"
     ]
    },
    {
     "name": "stdout",
     "output_type": "stream",
     "text": [
      "It's underpredicted.\n",
      "Monthly Error: 20.88 Period MAE: 19.38\n"
     ]
    },
    {
     "name": "stderr",
     "output_type": "stream",
     "text": [
      "22:47:53 - cmdstanpy - INFO - Chain [1] done processing\n"
     ]
    },
    {
     "name": "stdout",
     "output_type": "stream",
     "text": [
      "It's overpredicted.\n",
      "Monthly Error: 29.7 Period MAE: 2.19\n"
     ]
    },
    {
     "name": "stderr",
     "output_type": "stream",
     "text": [
      "22:47:54 - cmdstanpy - INFO - Chain [1] start processing\n"
     ]
    },
    {
     "name": "stdout",
     "output_type": "stream",
     "text": [
      "It's overpredicted.\n",
      "Monthly Error: 63.03 Period MAE: 58.24"
     ]
    },
    {
     "name": "stderr",
     "output_type": "stream",
     "text": [
      "22:47:54 - cmdstanpy - INFO - Chain [1] start processing\n"
     ]
    },
    {
     "name": "stdout",
     "output_type": "stream",
     "text": [
      "\n"
     ]
    },
    {
     "name": "stderr",
     "output_type": "stream",
     "text": [
      "22:47:55 - cmdstanpy - INFO - Chain [1] done processing\n",
      "22:47:55 - cmdstanpy - INFO - Chain [1] start processing\n",
      "22:47:55 - cmdstanpy - INFO - Chain [1] done processing\n",
      "22:47:55 - cmdstanpy - INFO - Chain [1] done processing\n"
     ]
    },
    {
     "name": "stdout",
     "output_type": "stream",
     "text": [
      "It's underpredicted.\n",
      "Monthly Error: 24.94 Period MAE: 25.0\n"
     ]
    },
    {
     "name": "stderr",
     "output_type": "stream",
     "text": [
      "22:47:57 - cmdstanpy - INFO - Chain [1] start processing\n",
      "22:47:57 - cmdstanpy - INFO - Chain [1] done processing\n"
     ]
    },
    {
     "name": "stdout",
     "output_type": "stream",
     "text": [
      "It's underpredicted.\n",
      "Monthly Error: 18.44 It's overpredicted.Period MAE: \n",
      "10.440000000000001\n",
      "Monthly Error: 59.9 Period MAE: 55.400000000000006\n"
     ]
    },
    {
     "name": "stderr",
     "output_type": "stream",
     "text": [
      "22:47:58 - cmdstanpy - INFO - Chain [1] start processing\n",
      "22:47:58 - cmdstanpy - INFO - Chain [1] start processing\n",
      "22:47:58 - cmdstanpy - INFO - Chain [1] done processing\n",
      "22:47:59 - cmdstanpy - INFO - Chain [1] done processing\n"
     ]
    },
    {
     "name": "stdout",
     "output_type": "stream",
     "text": [
      "It's overpredicted.\n",
      "Monthly Error: 61.3 Period MAE: 56.49999999999999\n",
      "It's underpredicted.\n",
      "Monthly Error: "
     ]
    },
    {
     "name": "stderr",
     "output_type": "stream",
     "text": [
      "22:48:01 - cmdstanpy - INFO - Chain [1] start processing\n"
     ]
    },
    {
     "name": "stdout",
     "output_type": "stream",
     "text": [
      "21.82 Period MAE: 22.64\n",
      "It's overpredicted.\n",
      "Monthly Error: 30.84 Period MAE: 6.1\n"
     ]
    },
    {
     "name": "stderr",
     "output_type": "stream",
     "text": [
      "22:48:02 - cmdstanpy - INFO - Chain [1] start processing\n"
     ]
    },
    {
     "name": "stdout",
     "output_type": "stream",
     "text": [
      "It's overpredicted.\n",
      "Monthly Error: 42.0 Period MAE: 24.73\n"
     ]
    },
    {
     "name": "stderr",
     "output_type": "stream",
     "text": [
      "22:48:02 - cmdstanpy - INFO - Chain [1] done processing\n",
      "22:48:03 - cmdstanpy - INFO - Chain [1] start processing\n",
      "22:48:03 - cmdstanpy - INFO - Chain [1] start processing\n",
      "22:48:03 - cmdstanpy - INFO - Chain [1] done processing\n",
      "22:48:03 - cmdstanpy - INFO - Chain [1] done processing\n",
      "22:48:04 - cmdstanpy - INFO - Chain [1] done processing\n"
     ]
    },
    {
     "name": "stdout",
     "output_type": "stream",
     "text": [
      "It's underpredicted.\n",
      "Monthly Error: 27.36 Period MAE: 25.21\n",
      "It's overpredicted.\n",
      "Monthly Error: 41.05 Period MAE: 33.21\n"
     ]
    },
    {
     "name": "stderr",
     "output_type": "stream",
     "text": [
      "22:48:05 - cmdstanpy - INFO - Chain [1] start processing\n"
     ]
    },
    {
     "name": "stdout",
     "output_type": "stream",
     "text": [
      "It's underpredicted.\n",
      "Monthly Error: 23.36 Period MAE: 17.29\n"
     ]
    },
    {
     "name": "stderr",
     "output_type": "stream",
     "text": [
      "22:48:06 - cmdstanpy - INFO - Chain [1] start processing\n",
      "22:48:06 - cmdstanpy - INFO - Chain [1] done processing\n",
      "22:48:07 - cmdstanpy - INFO - Chain [1] done processing\n",
      "22:48:07 - cmdstanpy - INFO - Chain [1] start processing\n",
      "22:48:08 - cmdstanpy - INFO - Chain [1] done processing\n"
     ]
    },
    {
     "name": "stdout",
     "output_type": "stream",
     "text": [
      "It's underpredicted.\n",
      "Monthly Error: 21.42 Period MAE: 19.64\n",
      "It's overpredicted.\n",
      "Monthly Error: 48.25 Period MAE: 35.06\n"
     ]
    },
    {
     "name": "stderr",
     "output_type": "stream",
     "text": [
      "22:48:09 - cmdstanpy - INFO - Chain [1] start processing\n",
      "22:48:10 - cmdstanpy - INFO - Chain [1] start processing\n",
      "22:48:10 - cmdstanpy - INFO - Chain [1] done processing\n"
     ]
    },
    {
     "name": "stdout",
     "output_type": "stream",
     "text": [
      "It's underpredicted.\n",
      "Monthly Error: 21.99 It's overpredicted.\n",
      "Period MAE:Monthly Error:  13.08999999999999845.33\n",
      " Period MAE: 39.78\n"
     ]
    },
    {
     "name": "stderr",
     "output_type": "stream",
     "text": [
      "22:48:10 - cmdstanpy - INFO - Chain [1] done processing\n",
      "22:48:11 - cmdstanpy - INFO - Chain [1] start processing\n",
      "22:48:11 - cmdstanpy - INFO - Chain [1] start processing\n"
     ]
    },
    {
     "name": "stdout",
     "output_type": "stream",
     "text": [
      "It's underpredicted.\n",
      "Monthly Error: "
     ]
    },
    {
     "name": "stderr",
     "output_type": "stream",
     "text": [
      "22:48:11 - cmdstanpy - INFO - Chain [1] done processing\n"
     ]
    },
    {
     "name": "stdout",
     "output_type": "stream",
     "text": [
      "25.2 Period MAE: 19.439999999999998\n"
     ]
    },
    {
     "name": "stderr",
     "output_type": "stream",
     "text": [
      "22:48:11 - cmdstanpy - INFO - Chain [1] done processing\n",
      "22:48:11 - cmdstanpy - INFO - Chain [1] start processing\n",
      "22:48:12 - cmdstanpy - INFO - Chain [1] done processing\n"
     ]
    },
    {
     "name": "stdout",
     "output_type": "stream",
     "text": [
      "It's underpredicted.\n",
      "Monthly Error: 19.97 Period MAE: 11.58\n"
     ]
    },
    {
     "name": "stderr",
     "output_type": "stream",
     "text": [
      "22:48:14 - cmdstanpy - INFO - Chain [1] start processing\n"
     ]
    },
    {
     "name": "stdout",
     "output_type": "stream",
     "text": [
      "It's overpredicted.\n",
      "Monthly Error: 58.61It's overpredicted. Period MAE:\n",
      "Monthly Error:  53.547.65\n",
      " Period MAE: 42.05\n"
     ]
    },
    {
     "name": "stderr",
     "output_type": "stream",
     "text": [
      "22:48:15 - cmdstanpy - INFO - Chain [1] start processing\n",
      "22:48:15 - cmdstanpy - INFO - Chain [1] done processing\n"
     ]
    },
    {
     "name": "stdout",
     "output_type": "stream",
     "text": [
      "It's overpredicted.\n",
      "Monthly Error: 62.8 Period MAE: 57.24\n"
     ]
    },
    {
     "name": "stderr",
     "output_type": "stream",
     "text": [
      "22:48:16 - cmdstanpy - INFO - Chain [1] start processing\n",
      "22:48:16 - cmdstanpy - INFO - Chain [1] start processing\n",
      "22:48:16 - cmdstanpy - INFO - Chain [1] done processing\n",
      "22:48:16 - cmdstanpy - INFO - Chain [1] done processing\n",
      "22:48:17 - cmdstanpy - INFO - Chain [1] done processing\n"
     ]
    },
    {
     "name": "stdout",
     "output_type": "stream",
     "text": [
      "It's underpredicted.\n",
      "Monthly Error: 20.97 Period MAE: 5.65\n",
      "It's underpredicted.\n",
      "Monthly Error: 19.85 Period MAE: 9.84\n"
     ]
    },
    {
     "name": "stderr",
     "output_type": "stream",
     "text": [
      "22:48:18 - cmdstanpy - INFO - Chain [1] start processing\n",
      "22:48:18 - cmdstanpy - INFO - Chain [1] start processing\n",
      "22:48:19 - cmdstanpy - INFO - Chain [1] done processing\n",
      "22:48:19 - cmdstanpy - INFO - Chain [1] done processing\n"
     ]
    },
    {
     "name": "stdout",
     "output_type": "stream",
     "text": [
      "It's overpredicted.\n",
      "Monthly Error: 68.47 Period MAE: 62.83\n"
     ]
    },
    {
     "name": "stderr",
     "output_type": "stream",
     "text": [
      "22:48:21 - cmdstanpy - INFO - Chain [1] start processing\n"
     ]
    },
    {
     "name": "stdout",
     "output_type": "stream",
     "text": [
      "It's underpredicted.\n",
      "Monthly Error: 18.37 Period MAE: 8.66\n",
      "It's overpredicted.\n",
      "Monthly Error: 63.51 Period MAE: 57.91\n"
     ]
    },
    {
     "name": "stderr",
     "output_type": "stream",
     "text": [
      "22:48:22 - cmdstanpy - INFO - Chain [1] start processing\n",
      "22:48:22 - cmdstanpy - INFO - Chain [1] done processing\n",
      "22:48:22 - cmdstanpy - INFO - Chain [1] start processing\n"
     ]
    },
    {
     "name": "stdout",
     "output_type": "stream",
     "text": [
      "It's overpredicted.\n",
      "Monthly Error: 71.55 Period MAE: 65.86999999999999\n"
     ]
    },
    {
     "name": "stderr",
     "output_type": "stream",
     "text": [
      "22:48:22 - cmdstanpy - INFO - Chain [1] done processing\n",
      "22:48:23 - cmdstanpy - INFO - Chain [1] start processing\n",
      "22:48:23 - cmdstanpy - INFO - Chain [1] done processing\n",
      "22:48:23 - cmdstanpy - INFO - Chain [1] done processing\n"
     ]
    },
    {
     "name": "stdout",
     "output_type": "stream",
     "text": [
      "It's underpredicted.\n",
      "Monthly Error: 24.5 Period MAE: 24.36\n"
     ]
    },
    {
     "name": "stderr",
     "output_type": "stream",
     "text": [
      "22:48:24 - cmdstanpy - INFO - Chain [1] start processing\n"
     ]
    },
    {
     "name": "stdout",
     "output_type": "stream",
     "text": [
      "It's underpredicted.\n",
      "Monthly Error: 19.44 Period MAE: 0.9400000000000001\n"
     ]
    },
    {
     "name": "stderr",
     "output_type": "stream",
     "text": [
      "22:48:25 - cmdstanpy - INFO - Chain [1] done processing\n",
      "22:48:26 - cmdstanpy - INFO - Chain [1] start processing\n",
      "22:48:26 - cmdstanpy - INFO - Chain [1] done processing\n"
     ]
    },
    {
     "name": "stdout",
     "output_type": "stream",
     "text": [
      "It's underpredicted.\n",
      "Monthly Error: 19.08 Period MAE: 15.09\n",
      "It's overpredicted.\n",
      "Monthly Error:It's overpredicted. 40.52 Period MAE:\n",
      " Monthly Error:35.11\n",
      " 74.58 Period MAE: 68.75\n"
     ]
    },
    {
     "name": "stderr",
     "output_type": "stream",
     "text": [
      "22:48:27 - cmdstanpy - INFO - Chain [1] start processing\n",
      "22:48:28 - cmdstanpy - INFO - Chain [1] start processing\n",
      "22:48:28 - cmdstanpy - INFO - Chain [1] done processing\n",
      "22:48:28 - cmdstanpy - INFO - Chain [1] start processing\n",
      "22:48:29 - cmdstanpy - INFO - Chain [1] done processing\n",
      "22:48:29 - cmdstanpy - INFO - Chain [1] done processing\n"
     ]
    },
    {
     "name": "stdout",
     "output_type": "stream",
     "text": [
      "It's underpredicted.\n",
      "Monthly Error: 22.68 Period MAE: 21.11\n",
      "It's overpredicted.\n",
      "Monthly Error: 42.17 Period MAE: 38.11\n"
     ]
    },
    {
     "name": "stderr",
     "output_type": "stream",
     "text": [
      "22:48:30 - cmdstanpy - INFO - Chain [1] start processing\n",
      "22:48:30 - cmdstanpy - INFO - Chain [1] done processing\n",
      "22:48:31 - cmdstanpy - INFO - Chain [1] start processing\n"
     ]
    },
    {
     "name": "stdout",
     "output_type": "stream",
     "text": [
      "It's underpredicted.\n",
      "Monthly Error: 19.67 Period MAE: 6.859999999999999\n"
     ]
    },
    {
     "name": "stderr",
     "output_type": "stream",
     "text": [
      "22:48:31 - cmdstanpy - INFO - Chain [1] done processing\n",
      "22:48:32 - cmdstanpy - INFO - Chain [1] start processing\n",
      "22:48:32 - cmdstanpy - INFO - Chain [1] done processing\n"
     ]
    },
    {
     "name": "stdout",
     "output_type": "stream",
     "text": [
      "It's underpredicted.\n",
      "Monthly Error: 18.37 Period MAE: 11.559999999999999\n",
      "It's overpredicted.\n",
      "Monthly Error: 45.8 Period MAE: 41.510000000000005\n",
      "It's overpredicted.\n",
      "Monthly Error: 64.13 "
     ]
    },
    {
     "name": "stderr",
     "output_type": "stream",
     "text": [
      "22:48:34 - cmdstanpy - INFO - Chain [1] start processing\n"
     ]
    },
    {
     "name": "stdout",
     "output_type": "stream",
     "text": [
      "Period MAE: 59.040000000000006\n"
     ]
    },
    {
     "name": "stderr",
     "output_type": "stream",
     "text": [
      "22:48:35 - cmdstanpy - INFO - Chain [1] start processing\n",
      "22:48:35 - cmdstanpy - INFO - Chain [1] start processing\n",
      "22:48:35 - cmdstanpy - INFO - Chain [1] done processing\n"
     ]
    },
    {
     "name": "stdout",
     "output_type": "stream",
     "text": [
      "It's overpredicted.\n",
      "Monthly Error: 70.0 Period MAE: 64.53\n"
     ]
    },
    {
     "name": "stderr",
     "output_type": "stream",
     "text": [
      "22:48:36 - cmdstanpy - INFO - Chain [1] done processing\n",
      "22:48:36 - cmdstanpy - INFO - Chain [1] done processing\n",
      "22:48:36 - cmdstanpy - INFO - Chain [1] start processing\n",
      "22:48:36 - cmdstanpy - INFO - Chain [1] done processing\n"
     ]
    },
    {
     "name": "stdout",
     "output_type": "stream",
     "text": [
      "It's underpredicted.\n",
      "Monthly Error: 18.93 Period MAE: 9.67\n",
      "It's underpredicted.\n",
      "Monthly Error: 19.55 Period MAE: 6.21\n"
     ]
    },
    {
     "name": "stderr",
     "output_type": "stream",
     "text": [
      "22:48:38 - cmdstanpy - INFO - Chain [1] start processing\n",
      "22:48:38 - cmdstanpy - INFO - Chain [1] start processing\n",
      "22:48:39 - cmdstanpy - INFO - Chain [1] done processing\n",
      "22:48:39 - cmdstanpy - INFO - Chain [1] done processing\n"
     ]
    },
    {
     "name": "stdout",
     "output_type": "stream",
     "text": [
      "It's overpredicted.\n",
      "Monthly Error: 72.74 Period MAE: 67.43\n",
      "It's overpredicted.\n",
      "Monthly Error: 70.88 Period MAE: 65.38000000000001\n",
      "It's underpredicted.\n",
      "Monthly Error: 17.46 Period MAE: 8.43\n"
     ]
    },
    {
     "name": "stderr",
     "output_type": "stream",
     "text": [
      "22:48:41 - cmdstanpy - INFO - Chain [1] start processing\n",
      "22:48:41 - cmdstanpy - INFO - Chain [1] start processing\n",
      "22:48:41 - cmdstanpy - INFO - Chain [1] done processing\n",
      "22:48:41 - cmdstanpy - INFO - Chain [1] start processing\n",
      "22:48:42 - cmdstanpy - INFO - Chain [1] done processing\n"
     ]
    },
    {
     "name": "stdout",
     "output_type": "stream",
     "text": [
      "It's underpredicted.\n",
      "Monthly Error: 19.67 Period MAE: 10.96\n"
     ]
    },
    {
     "name": "stderr",
     "output_type": "stream",
     "text": [
      "22:48:42 - cmdstanpy - INFO - Chain [1] done processing\n",
      "22:48:43 - cmdstanpy - INFO - Chain [1] start processing\n"
     ]
    },
    {
     "name": "stdout",
     "output_type": "stream",
     "text": [
      "It's overpredicted."
     ]
    },
    {
     "name": "stderr",
     "output_type": "stream",
     "text": [
      "22:48:43 - cmdstanpy - INFO - Chain [1] done processing\n"
     ]
    },
    {
     "name": "stdout",
     "output_type": "stream",
     "text": [
      "\n",
      "Monthly Error: 73.08 Period MAE: 68.01\n"
     ]
    },
    {
     "name": "stderr",
     "output_type": "stream",
     "text": [
      "22:48:44 - cmdstanpy - INFO - Chain [1] start processing\n",
      "22:48:44 - cmdstanpy - INFO - Chain [1] done processing\n"
     ]
    },
    {
     "name": "stdout",
     "output_type": "stream",
     "text": [
      "It's overpredicted.\n",
      "Monthly Error: 17.44 Period MAE: 1.69\n",
      "It's underpredicted.\n",
      "Monthly Error: 19.32 Period MAE: 14.49\n"
     ]
    },
    {
     "name": "stderr",
     "output_type": "stream",
     "text": [
      "22:48:45 - cmdstanpy - INFO - Chain [1] start processing\n",
      "22:48:46 - cmdstanpy - INFO - Chain [1] done processing\n"
     ]
    },
    {
     "name": "stdout",
     "output_type": "stream",
     "text": [
      "It's underpredicted.\n",
      "Monthly Error: 29.42 Period MAE: 22.650000000000002\n",
      "It's overpredicted.\n",
      "Monthly Error: 76.1 Period MAE: 70.88"
     ]
    },
    {
     "name": "stderr",
     "output_type": "stream",
     "text": [
      "22:48:47 - cmdstanpy - INFO - Chain [1] start processing\n"
     ]
    },
    {
     "name": "stdout",
     "output_type": "stream",
     "text": [
      "\n"
     ]
    },
    {
     "name": "stderr",
     "output_type": "stream",
     "text": [
      "22:48:47 - cmdstanpy - INFO - Chain [1] start processing\n",
      "22:48:47 - cmdstanpy - INFO - Chain [1] done processing\n",
      "22:48:48 - cmdstanpy - INFO - Chain [1] done processing\n",
      "22:48:48 - cmdstanpy - INFO - Chain [1] start processing\n",
      "22:48:48 - cmdstanpy - INFO - Chain [1] done processing\n"
     ]
    },
    {
     "name": "stdout",
     "output_type": "stream",
     "text": [
      "It's underpredicted.\n",
      "Monthly Error: 19.65 Period MAE: 10.81\n",
      "It's underpredicted."
     ]
    },
    {
     "name": "stderr",
     "output_type": "stream",
     "text": [
      "22:48:49 - cmdstanpy - INFO - Chain [1] start processing\n"
     ]
    },
    {
     "name": "stdout",
     "output_type": "stream",
     "text": [
      "\n",
      "Monthly Error: 20.0 Period MAE:"
     ]
    },
    {
     "name": "stderr",
     "output_type": "stream",
     "text": [
      "22:48:49 - cmdstanpy - INFO - Chain [1] done processing\n"
     ]
    },
    {
     "name": "stdout",
     "output_type": "stream",
     "text": [
      " 11.1\n",
      "It's underpredicted.\n",
      "Monthly Error: 29.15 Period MAE: 22.88\n"
     ]
    },
    {
     "name": "stderr",
     "output_type": "stream",
     "text": [
      "22:48:50 - cmdstanpy - INFO - Chain [1] start processing\n",
      "22:48:50 - cmdstanpy - INFO - Chain [1] start processing\n",
      "22:48:50 - cmdstanpy - INFO - Chain [1] done processing\n",
      "22:48:51 - cmdstanpy - INFO - Chain [1] done processing\n"
     ]
    },
    {
     "name": "stdout",
     "output_type": "stream",
     "text": [
      "It's overpredicted.\n",
      "Monthly Error: 60.33 Period MAE: 55.65\n",
      "It's underpredicted.\n",
      "Monthly Error: 19.31 Period MAE: 14.469999999999999\n",
      "It's underpredicted.\n",
      "Monthly Error: 28.78 Period MAE: 21.11\n"
     ]
    },
    {
     "name": "stderr",
     "output_type": "stream",
     "text": [
      "22:48:53 - cmdstanpy - INFO - Chain [1] start processing\n",
      "22:48:53 - cmdstanpy - INFO - Chain [1] start processing\n",
      "22:48:53 - cmdstanpy - INFO - Chain [1] start processing\n",
      "22:48:54 - cmdstanpy - INFO - Chain [1] done processing\n",
      "22:48:54 - cmdstanpy - INFO - Chain [1] done processing\n",
      "22:48:54 - cmdstanpy - INFO - Chain [1] done processing\n"
     ]
    },
    {
     "name": "stdout",
     "output_type": "stream",
     "text": [
      "It's overpredicted.\n",
      "Monthly Error: 58.82 Period MAE: 54.22\n"
     ]
    },
    {
     "name": "stderr",
     "output_type": "stream",
     "text": [
      "22:48:55 - cmdstanpy - INFO - Chain [1] start processing\n"
     ]
    },
    {
     "name": "stdout",
     "output_type": "stream",
     "text": [
      "It's underpredicted.\n",
      "Monthly Error: 22.55 Period MAE:"
     ]
    },
    {
     "name": "stderr",
     "output_type": "stream",
     "text": [
      "22:48:55 - cmdstanpy - INFO - Chain [1] done processing\n"
     ]
    },
    {
     "name": "stdout",
     "output_type": "stream",
     "text": [
      " 19.28\n"
     ]
    },
    {
     "name": "stderr",
     "output_type": "stream",
     "text": [
      "22:48:56 - cmdstanpy - INFO - Chain [1] start processing\n",
      "22:48:56 - cmdstanpy - INFO - Chain [1] done processing\n"
     ]
    },
    {
     "name": "stdout",
     "output_type": "stream",
     "text": [
      "It's underpredicted.\n",
      "Monthly Error: 19.98 Period MAE: 11.020000000000001\n"
     ]
    },
    {
     "name": "stderr",
     "output_type": "stream",
     "text": [
      "22:48:57 - cmdstanpy - INFO - Chain [1] start processing\n",
      "22:48:58 - cmdstanpy - INFO - Chain [1] done processing\n"
     ]
    },
    {
     "name": "stdout",
     "output_type": "stream",
     "text": [
      "It's overpredicted.\n",
      "Monthly Error: 59.64 Period MAE: 54.92\n",
      "It's underpredicted.\n",
      "Monthly Error: 24.95 Period MAE: 25.11\n",
      "It's underpredicted.\n",
      "Monthly Error: 29.58 Period MAE: 22.38\n"
     ]
    },
    {
     "name": "stderr",
     "output_type": "stream",
     "text": [
      "22:49:00 - cmdstanpy - INFO - Chain [1] start processing\n",
      "22:49:00 - cmdstanpy - INFO - Chain [1] start processing\n",
      "22:49:00 - cmdstanpy - INFO - Chain [1] start processing\n",
      "22:49:00 - cmdstanpy - INFO - Chain [1] done processing\n",
      "22:49:00 - cmdstanpy - INFO - Chain [1] done processing\n",
      "22:49:00 - cmdstanpy - INFO - Chain [1] done processing\n"
     ]
    },
    {
     "name": "stdout",
     "output_type": "stream",
     "text": [
      "It's underpredicted.\n",
      "Monthly Error: 29.04It's underpredicted. \n",
      "Period MAE: Monthly Error:22.02\n",
      " 21.95 Period MAE: 22.939999999999998\n"
     ]
    },
    {
     "name": "stderr",
     "output_type": "stream",
     "text": [
      "22:49:02 - cmdstanpy - INFO - Chain [1] start processing\n",
      "22:49:02 - cmdstanpy - INFO - Chain [1] done processing\n",
      "22:49:03 - cmdstanpy - INFO - Chain [1] start processing\n",
      "22:49:03 - cmdstanpy - INFO - Chain [1] done processing\n"
     ]
    },
    {
     "name": "stdout",
     "output_type": "stream",
     "text": [
      "It's underpredicted.\n",
      "Monthly Error: 23.54 Period MAE: 19.31\n"
     ]
    },
    {
     "name": "stderr",
     "output_type": "stream",
     "text": [
      "22:49:05 - cmdstanpy - INFO - Chain [1] start processing\n",
      "22:49:05 - cmdstanpy - INFO - Chain [1] done processing\n"
     ]
    },
    {
     "name": "stdout",
     "output_type": "stream",
     "text": [
      "It's underpredicted.\n",
      "Monthly Error: 24.02 Period MAE: 24.92\n",
      "It's underpredicted.\n",
      "Monthly Error: 28.86 Period MAE: 20.380000000000003\n"
     ]
    },
    {
     "name": "stderr",
     "output_type": "stream",
     "text": [
      "22:49:07 - cmdstanpy - INFO - Chain [1] start processing\n"
     ]
    },
    {
     "name": "stdout",
     "output_type": "stream",
     "text": [
      "It's underpredicted.\n",
      "Monthly Error: 23.21 Period MAE: 9.47\n"
     ]
    },
    {
     "name": "stderr",
     "output_type": "stream",
     "text": [
      "22:49:07 - cmdstanpy - INFO - Chain [1] done processing\n",
      "22:49:07 - cmdstanpy - INFO - Chain [1] start processing\n",
      "22:49:08 - cmdstanpy - INFO - Chain [1] done processing\n"
     ]
    },
    {
     "name": "stdout",
     "output_type": "stream",
     "text": [
      "It's underpredicted.\n",
      "Monthly Error: 23.08 "
     ]
    },
    {
     "name": "stderr",
     "output_type": "stream",
     "text": [
      "22:49:08 - cmdstanpy - INFO - Chain [1] start processing\n"
     ]
    },
    {
     "name": "stdout",
     "output_type": "stream",
     "text": [
      "Period MAE: 9.91\n"
     ]
    },
    {
     "name": "stderr",
     "output_type": "stream",
     "text": [
      "22:49:08 - cmdstanpy - INFO - Chain [1] done processing\n",
      "22:49:08 - cmdstanpy - INFO - Chain [1] start processing\n",
      "22:49:09 - cmdstanpy - INFO - Chain [1] done processing\n"
     ]
    },
    {
     "name": "stdout",
     "output_type": "stream",
     "text": [
      "It's underpredicted.\n",
      "Monthly Error: 21.49 Period MAE: 22.509999999999998\n",
      "It's underpredicted.\n",
      "Monthly Error: 22.08 Period MAE: 21.88\n"
     ]
    },
    {
     "name": "stderr",
     "output_type": "stream",
     "text": [
      "22:49:10 - cmdstanpy - INFO - Chain [1] start processing\n",
      "22:49:10 - cmdstanpy - INFO - Chain [1] start processing\n",
      "22:49:11 - cmdstanpy - INFO - Chain [1] done processing\n",
      "22:49:11 - cmdstanpy - INFO - Chain [1] done processing\n"
     ]
    },
    {
     "name": "stdout",
     "output_type": "stream",
     "text": [
      "It's underpredicted.\n",
      "Monthly Error: 19.63 Period MAE: 19.79\n",
      "It's underpredicted.\n",
      "Monthly Error: 23.61 Period MAE: 7.8It's overpredicted.\n",
      "\n",
      "Monthly Error: 60.47 Period MAE: 55.78999999999999\n"
     ]
    },
    {
     "name": "stderr",
     "output_type": "stream",
     "text": [
      "22:49:13 - cmdstanpy - INFO - Chain [1] start processing\n",
      "22:49:14 - cmdstanpy - INFO - Chain [1] start processing\n",
      "22:49:14 - cmdstanpy - INFO - Chain [1] done processing\n",
      "22:49:14 - cmdstanpy - INFO - Chain [1] start processing\n",
      "22:49:14 - cmdstanpy - INFO - Chain [1] done processing\n"
     ]
    },
    {
     "name": "stdout",
     "output_type": "stream",
     "text": [
      "It's overpredicted.\n",
      "It's underpredicted.\n",
      "Monthly Error:Monthly Error:  25.0959.58  Period MAE:Period MAE:  55.0000000000000125.86\n",
      "\n"
     ]
    },
    {
     "name": "stderr",
     "output_type": "stream",
     "text": [
      "22:49:15 - cmdstanpy - INFO - Chain [1] start processing\n",
      "22:49:15 - cmdstanpy - INFO - Chain [1] start processing\n",
      "22:49:15 - cmdstanpy - INFO - Chain [1] done processing\n",
      "22:49:15 - cmdstanpy - INFO - Chain [1] done processing\n",
      "22:49:16 - cmdstanpy - INFO - Chain [1] done processing\n"
     ]
    },
    {
     "name": "stdout",
     "output_type": "stream",
     "text": [
      "It's underpredicted.\n",
      "Monthly Error: 27.44 Period MAE: 28.1\n",
      "It's underpredicted.\n",
      "Monthly Error: 19.95 Period MAE: 16.39\n",
      "It's underpredicted.\n",
      "Monthly Error: 23.5 Period MAE: 8.38\n"
     ]
    },
    {
     "name": "stderr",
     "output_type": "stream",
     "text": [
      "22:49:19 - cmdstanpy - INFO - Chain [1] start processing\n",
      "22:49:19 - cmdstanpy - INFO - Chain [1] done processing\n",
      "22:49:19 - cmdstanpy - INFO - Chain [1] start processing\n"
     ]
    },
    {
     "name": "stdout",
     "output_type": "stream",
     "text": [
      "It's overpredicted.\n",
      "Monthly Error: 60.28 Period MAE: 55.55\n"
     ]
    },
    {
     "name": "stderr",
     "output_type": "stream",
     "text": [
      "22:49:20 - cmdstanpy - INFO - Chain [1] start processing\n",
      "22:49:20 - cmdstanpy - INFO - Chain [1] start processing\n",
      "22:49:20 - cmdstanpy - INFO - Chain [1] done processing\n",
      "22:49:20 - cmdstanpy - INFO - Chain [1] done processing\n",
      "22:49:20 - cmdstanpy - INFO - Chain [1] done processing\n"
     ]
    },
    {
     "name": "stdout",
     "output_type": "stream",
     "text": [
      "It's underpredicted.\n",
      "Monthly Error: 28.23 Period MAE: 26.619999999999997\n"
     ]
    },
    {
     "name": "stderr",
     "output_type": "stream",
     "text": [
      "22:49:22 - cmdstanpy - INFO - Chain [1] start processing\n",
      "22:49:22 - cmdstanpy - INFO - Chain [1] done processing\n"
     ]
    },
    {
     "name": "stdout",
     "output_type": "stream",
     "text": [
      "It's underpredicted.\n",
      "Monthly Error: 23.56 Period MAE: 23.41It's underpredicted.\n",
      "\n",
      "Monthly Error:  23.2 Period MAE:8.88\n"
     ]
    },
    {
     "name": "stderr",
     "output_type": "stream",
     "text": [
      "22:49:23 - cmdstanpy - INFO - Chain [1] start processing\n",
      "22:49:24 - cmdstanpy - INFO - Chain [1] start processing\n",
      "22:49:24 - cmdstanpy - INFO - Chain [1] done processing\n",
      "22:49:24 - cmdstanpy - INFO - Chain [1] done processing\n"
     ]
    },
    {
     "name": "stdout",
     "output_type": "stream",
     "text": [
      "It's underpredicted.\n",
      "Monthly Error: 23.89 Period MAE: 7.07\n",
      "It's underpredicted.\n",
      "Monthly Error: 28.04It's overpredicted.\n",
      " Monthly Error:Period MAE: 41.53 26.790000000000003 Period MAE:\n"
     ]
    },
    {
     "name": "stderr",
     "output_type": "stream",
     "text": [
      "22:49:26 - cmdstanpy - INFO - Chain [1] start processing\n"
     ]
    },
    {
     "name": "stdout",
     "output_type": "stream",
     "text": [
      " 33.73\n"
     ]
    },
    {
     "name": "stderr",
     "output_type": "stream",
     "text": [
      "22:49:26 - cmdstanpy - INFO - Chain [1] start processing\n"
     ]
    },
    {
     "name": "stdout",
     "output_type": "stream",
     "text": [
      "It's overpredicted.\n",
      "Monthly Error: 42.55"
     ]
    },
    {
     "name": "stderr",
     "output_type": "stream",
     "text": [
      "22:49:27 - cmdstanpy - INFO - Chain [1] start processing\n"
     ]
    },
    {
     "name": "stdout",
     "output_type": "stream",
     "text": [
      " "
     ]
    },
    {
     "name": "stderr",
     "output_type": "stream",
     "text": [
      "22:49:27 - cmdstanpy - INFO - Chain [1] done processing\n"
     ]
    },
    {
     "name": "stdout",
     "output_type": "stream",
     "text": [
      "Period MAE: 35.4\n"
     ]
    },
    {
     "name": "stderr",
     "output_type": "stream",
     "text": [
      "22:49:27 - cmdstanpy - INFO - Chain [1] done processing\n",
      "22:49:27 - cmdstanpy - INFO - Chain [1] done processing\n",
      "22:49:27 - cmdstanpy - INFO - Chain [1] start processing\n",
      "22:49:27 - cmdstanpy - INFO - Chain [1] done processing\n"
     ]
    },
    {
     "name": "stdout",
     "output_type": "stream",
     "text": [
      "It's underpredicted.\n",
      "Monthly Error: 24.4 Period MAE: 18.43\n",
      "It's underpredicted.\n",
      "Monthly Error: 26.64 Period MAE:"
     ]
    },
    {
     "name": "stderr",
     "output_type": "stream",
     "text": [
      "22:49:29 - cmdstanpy - INFO - Chain [1] start processing\n"
     ]
    },
    {
     "name": "stdout",
     "output_type": "stream",
     "text": [
      " 24.0\n"
     ]
    },
    {
     "name": "stderr",
     "output_type": "stream",
     "text": [
      "22:49:30 - cmdstanpy - INFO - Chain [1] start processing\n",
      "22:49:30 - cmdstanpy - INFO - Chain [1] done processing\n",
      "22:49:30 - cmdstanpy - INFO - Chain [1] done processing\n"
     ]
    },
    {
     "name": "stdout",
     "output_type": "stream",
     "text": [
      "It's overpredicted.\n",
      "Monthly Error: 42.6 Period MAE: 35.28\n",
      "It's overpredicted.\n",
      "Monthly Error: 59.26 Period MAE: 54.06999999999999\n"
     ]
    },
    {
     "name": "stderr",
     "output_type": "stream",
     "text": [
      "22:49:31 - cmdstanpy - INFO - Chain [1] start processing\n"
     ]
    },
    {
     "name": "stdout",
     "output_type": "stream",
     "text": [
      "It's underpredicted.\n",
      "Monthly Error: 22.77 Period MAE: 16.88\n"
     ]
    },
    {
     "name": "stderr",
     "output_type": "stream",
     "text": [
      "22:49:32 - cmdstanpy - INFO - Chain [1] start processing\n",
      "22:49:32 - cmdstanpy - INFO - Chain [1] start processing\n",
      "22:49:32 - cmdstanpy - INFO - Chain [1] done processing\n",
      "22:49:33 - cmdstanpy - INFO - Chain [1] done processing\n",
      "22:49:33 - cmdstanpy - INFO - Chain [1] done processing\n"
     ]
    },
    {
     "name": "stdout",
     "output_type": "stream",
     "text": [
      "It's overpredicted.\n",
      "Monthly Error: 59.25 Period MAE: 54.04\n"
     ]
    },
    {
     "name": "stderr",
     "output_type": "stream",
     "text": [
      "22:49:34 - cmdstanpy - INFO - Chain [1] start processing\n"
     ]
    },
    {
     "name": "stdout",
     "output_type": "stream",
     "text": [
      "It's underpredicted.\n",
      "Monthly Error: 26.96 Period MAE: "
     ]
    },
    {
     "name": "stderr",
     "output_type": "stream",
     "text": [
      "22:49:35 - cmdstanpy - INFO - Chain [1] done processing\n"
     ]
    },
    {
     "name": "stdout",
     "output_type": "stream",
     "text": [
      "24.57\n",
      "It's underpredicted.\n",
      "Monthly Error: 24.7 Period MAE: 19.0\n"
     ]
    },
    {
     "name": "stderr",
     "output_type": "stream",
     "text": [
      "22:49:35 - cmdstanpy - INFO - Chain [1] start processing\n",
      "22:49:36 - cmdstanpy - INFO - Chain [1] start processing\n",
      "22:49:36 - cmdstanpy - INFO - Chain [1] done processing\n",
      "22:49:36 - cmdstanpy - INFO - Chain [1] done processing\n"
     ]
    },
    {
     "name": "stdout",
     "output_type": "stream",
     "text": [
      "It's overpredicted.\n",
      "Monthly Error: 58.12 Period MAE: 52.99\n",
      "It's overpredicted."
     ]
    },
    {
     "name": "stderr",
     "output_type": "stream",
     "text": [
      "22:49:38 - cmdstanpy - INFO - Chain [1] start processing\n"
     ]
    },
    {
     "name": "stdout",
     "output_type": "stream",
     "text": [
      "\n",
      "It's underpredicted.Monthly Error:\n",
      " 43.25Monthly Error:  Period MAE:26.23 36.58 \n",
      "Period MAE: 23.97\n"
     ]
    },
    {
     "name": "stderr",
     "output_type": "stream",
     "text": [
      "22:49:38 - cmdstanpy - INFO - Chain [1] start processing\n",
      "22:49:39 - cmdstanpy - INFO - Chain [1] done processing\n",
      "22:49:39 - cmdstanpy - INFO - Chain [1] done processing\n",
      "22:49:39 - cmdstanpy - INFO - Chain [1] start processing\n",
      "22:49:40 - cmdstanpy - INFO - Chain [1] done processing\n"
     ]
    },
    {
     "name": "stdout",
     "output_type": "stream",
     "text": [
      "It's overpredicted.\n",
      "Monthly Error: 41.33 Period MAE: 33.71\n",
      "It's underpredicted.\n",
      "Monthly Error: 23.05 Period MAE: 22.24\n"
     ]
    },
    {
     "name": "stderr",
     "output_type": "stream",
     "text": [
      "22:49:40 - cmdstanpy - INFO - Chain [1] start processing\n",
      "22:49:41 - cmdstanpy - INFO - Chain [1] done processing\n",
      "22:49:41 - cmdstanpy - INFO - Chain [1] start processing\n"
     ]
    },
    {
     "name": "stdout",
     "output_type": "stream",
     "text": [
      "It's underpredicted.\n",
      "Monthly Error: 25.32 Period MAE: 21.959999999999997\n"
     ]
    },
    {
     "name": "stderr",
     "output_type": "stream",
     "text": [
      "22:49:41 - cmdstanpy - INFO - Chain [1] done processing\n",
      "22:49:42 - cmdstanpy - INFO - Chain [1] start processing\n",
      "22:49:42 - cmdstanpy - INFO - Chain [1] done processing\n"
     ]
    },
    {
     "name": "stdout",
     "output_type": "stream",
     "text": [
      "It's underpredicted.\n",
      "Monthly Error: 21.3 Period MAE: 19.61\n",
      "It's overpredicted.\n",
      "Monthly Error: 43.75 Period MAE: 37.269999999999996\n"
     ]
    },
    {
     "name": "stderr",
     "output_type": "stream",
     "text": [
      "22:49:44 - cmdstanpy - INFO - Chain [1] start processing\n"
     ]
    },
    {
     "name": "stdout",
     "output_type": "stream",
     "text": [
      "It's overpredicted.\n",
      "Monthly Error: 41.66 Period MAE: 36.86\n"
     ]
    },
    {
     "name": "stderr",
     "output_type": "stream",
     "text": [
      "22:49:45 - cmdstanpy - INFO - Chain [1] start processing\n",
      "22:49:45 - cmdstanpy - INFO - Chain [1] done processing\n",
      "22:49:46 - cmdstanpy - INFO - Chain [1] done processing\n",
      "22:49:46 - cmdstanpy - INFO - Chain [1] start processing\n",
      "22:49:46 - cmdstanpy - INFO - Chain [1] done processing\n"
     ]
    },
    {
     "name": "stdout",
     "output_type": "stream",
     "text": [
      "It's overpredicted.\n",
      "Monthly Error: 43.18 Period MAE: 38.769999999999996\n",
      "It's underpredicted.\n",
      "Monthly Error: 20.82 Period MAE:"
     ]
    },
    {
     "name": "stderr",
     "output_type": "stream",
     "text": [
      "22:49:47 - cmdstanpy - INFO - Chain [1] start processing\n"
     ]
    },
    {
     "name": "stdout",
     "output_type": "stream",
     "text": [
      " 16.38\n"
     ]
    },
    {
     "name": "stderr",
     "output_type": "stream",
     "text": [
      "22:49:47 - cmdstanpy - INFO - Chain [1] done processing\n"
     ]
    },
    {
     "name": "stdout",
     "output_type": "stream",
     "text": [
      "It's underpredicted.\n",
      "Monthly Error: 21.03 Period MAE: 17.64\n"
     ]
    },
    {
     "name": "stderr",
     "output_type": "stream",
     "text": [
      "22:49:48 - cmdstanpy - INFO - Chain [1] start processing\n",
      "22:49:48 - cmdstanpy - INFO - Chain [1] start processing\n",
      "22:49:48 - cmdstanpy - INFO - Chain [1] done processing\n",
      "22:49:48 - cmdstanpy - INFO - Chain [1] done processing\n"
     ]
    },
    {
     "name": "stdout",
     "output_type": "stream",
     "text": [
      "It's underpredicted.\n",
      "Monthly Error: 20.05 Period MAE: 14.37\n",
      "It's overpredicted.\n",
      "Monthly Error: 42.44 Period MAE: It's overpredicted.37.88\n",
      "\n",
      "Monthly Error: 62.91 Period MAE: 57.92\n"
     ]
    },
    {
     "name": "stderr",
     "output_type": "stream",
     "text": [
      "22:49:51 - cmdstanpy - INFO - Chain [1] start processing\n",
      "22:49:52 - cmdstanpy - INFO - Chain [1] done processing\n"
     ]
    },
    {
     "name": "stdout",
     "output_type": "stream",
     "text": [
      "It's overpredicted.\n",
      "Monthly Error: "
     ]
    },
    {
     "name": "stderr",
     "output_type": "stream",
     "text": [
      "22:49:52 - cmdstanpy - INFO - Chain [1] start processing\n"
     ]
    },
    {
     "name": "stdout",
     "output_type": "stream",
     "text": [
      "64.16 Period MAE: 59.12\n"
     ]
    },
    {
     "name": "stderr",
     "output_type": "stream",
     "text": [
      "22:49:52 - cmdstanpy - INFO - Chain [1] start processing\n",
      "22:49:52 - cmdstanpy - INFO - Chain [1] start processing\n",
      "22:49:53 - cmdstanpy - INFO - Chain [1] done processing\n",
      "22:49:53 - cmdstanpy - INFO - Chain [1] done processing\n"
     ]
    },
    {
     "name": "stdout",
     "output_type": "stream",
     "text": [
      "It's underpredicted.\n",
      "Monthly Error: 24.21 "
     ]
    },
    {
     "name": "stderr",
     "output_type": "stream",
     "text": [
      "22:49:53 - cmdstanpy - INFO - Chain [1] done processing\n"
     ]
    },
    {
     "name": "stdout",
     "output_type": "stream",
     "text": [
      "Period MAE: 24.13\n"
     ]
    },
    {
     "name": "stderr",
     "output_type": "stream",
     "text": [
      "22:49:54 - cmdstanpy - INFO - Chain [1] start processing\n",
      "22:49:55 - cmdstanpy - INFO - Chain [1] done processing\n"
     ]
    },
    {
     "name": "stdout",
     "output_type": "stream",
     "text": [
      "It's underpredicted.\n",
      "Monthly Error: 20.91 Period MAE: 16.57\n"
     ]
    },
    {
     "name": "stderr",
     "output_type": "stream",
     "text": [
      "22:49:56 - cmdstanpy - INFO - Chain [1] start processing\n"
     ]
    },
    {
     "name": "stdout",
     "output_type": "stream",
     "text": [
      "It's overpredicted."
     ]
    },
    {
     "name": "stderr",
     "output_type": "stream",
     "text": [
      "22:49:56 - cmdstanpy - INFO - Chain [1] done processing\n"
     ]
    },
    {
     "name": "stdout",
     "output_type": "stream",
     "text": [
      "\n",
      "Monthly Error: 42.72 Period MAE: 38.15\n",
      "It's underpredicted.\n",
      "Monthly Error: 21.2 Period MAE: 19.2\n",
      "It's overpredicted.\n",
      "Monthly Error: 64.62 Period MAE: 59.540000000000006\n"
     ]
    },
    {
     "name": "stderr",
     "output_type": "stream",
     "text": [
      "22:49:58 - cmdstanpy - INFO - Chain [1] start processing\n",
      "22:49:58 - cmdstanpy - INFO - Chain [1] start processing\n",
      "22:49:58 - cmdstanpy - INFO - Chain [1] start processing\n",
      "22:49:58 - cmdstanpy - INFO - Chain [1] done processing\n",
      "22:49:58 - cmdstanpy - INFO - Chain [1] done processing\n",
      "22:49:59 - cmdstanpy - INFO - Chain [1] done processing\n"
     ]
    },
    {
     "name": "stdout",
     "output_type": "stream",
     "text": [
      "It's underpredicted.\n",
      "Monthly Error: 19.69 Period MAE: 10.879999999999999\n",
      "It's overpredicted.\n",
      "Monthly Error: 41.49 Period MAE: 36.64\n"
     ]
    },
    {
     "name": "stderr",
     "output_type": "stream",
     "text": [
      "22:50:00 - cmdstanpy - INFO - Chain [1] start processing\n",
      "22:50:00 - cmdstanpy - INFO - Chain [1] done processing\n",
      "22:50:01 - cmdstanpy - INFO - Chain [1] start processing\n"
     ]
    },
    {
     "name": "stdout",
     "output_type": "stream",
     "text": [
      "It's underpredicted.\n",
      "Monthly Error: 21.14 Period MAE: 17.7\n"
     ]
    },
    {
     "name": "stderr",
     "output_type": "stream",
     "text": [
      "22:50:01 - cmdstanpy - INFO - Chain [1] done processing\n",
      "22:50:02 - cmdstanpy - INFO - Chain [1] start processing\n"
     ]
    },
    {
     "name": "stdout",
     "output_type": "stream",
     "text": [
      "It's underpredicted.\n",
      "Monthly Error:"
     ]
    },
    {
     "name": "stderr",
     "output_type": "stream",
     "text": [
      "22:50:02 - cmdstanpy - INFO - Chain [1] done processing\n"
     ]
    },
    {
     "name": "stdout",
     "output_type": "stream",
     "text": [
      " 29.5 Period MAE: 22.689999999999998\n"
     ]
    },
    {
     "name": "stderr",
     "output_type": "stream",
     "text": [
      "22:50:02 - cmdstanpy - INFO - Chain [1] start processing\n"
     ]
    },
    {
     "name": "stdout",
     "output_type": "stream",
     "text": [
      "It's underpredicted.\n",
      "Monthly Error: 19.22 Period MAE: 16.25\n",
      "It's overpredicted.\n",
      "Monthly Error: 44.21 Period MAE: 40.02\n"
     ]
    },
    {
     "name": "stderr",
     "output_type": "stream",
     "text": [
      "22:50:04 - cmdstanpy - INFO - Chain [1] start processing\n",
      "22:50:04 - cmdstanpy - INFO - Chain [1] done processing\n",
      "22:50:05 - cmdstanpy - INFO - Chain [1] done processing\n",
      "22:50:05 - cmdstanpy - INFO - Chain [1] start processing\n",
      "22:50:05 - cmdstanpy - INFO - Chain [1] done processing\n"
     ]
    },
    {
     "name": "stdout",
     "output_type": "stream",
     "text": [
      "It's underpredicted.\n",
      "Monthly Error: It's underpredicted.\n",
      "19.78Monthly Error: Period MAE:  11.37999999999999926.68 \n",
      "Period MAE:\n",
      " 23.82"
     ]
    },
    {
     "name": "stderr",
     "output_type": "stream",
     "text": [
      "22:50:07 - cmdstanpy - INFO - Chain [1] start processing\n"
     ]
    },
    {
     "name": "stdout",
     "output_type": "stream",
     "text": [
      "It's underpredicted.\n",
      "Monthly Error: 20.87 Period MAE: 9.5"
     ]
    },
    {
     "name": "stderr",
     "output_type": "stream",
     "text": [
      "22:50:07 - cmdstanpy - INFO - Chain [1] done processing\n"
     ]
    },
    {
     "name": "stdout",
     "output_type": "stream",
     "text": [
      "\n"
     ]
    },
    {
     "name": "stderr",
     "output_type": "stream",
     "text": [
      "22:50:07 - cmdstanpy - INFO - Chain [1] start processing\n",
      "22:50:07 - cmdstanpy - INFO - Chain [1] done processing\n",
      "22:50:08 - cmdstanpy - INFO - Chain [1] start processing\n",
      "22:50:08 - cmdstanpy - INFO - Chain [1] done processing\n"
     ]
    },
    {
     "name": "stdout",
     "output_type": "stream",
     "text": [
      "It's underpredicted.\n",
      "Monthly Error: 19.2 Period MAE: 16.41\n",
      "It's underpredicted.\n",
      "It's overpredicted.Monthly Error:\n",
      " Monthly Error:26.91  62.44Period MAE: Period MAE:  57.70999999999999412.98\n",
      "\n"
     ]
    },
    {
     "name": "stderr",
     "output_type": "stream",
     "text": [
      "22:50:10 - cmdstanpy - INFO - Chain [1] start processing\n",
      "22:50:11 - cmdstanpy - INFO - Chain [1] start processing\n",
      "22:50:11 - cmdstanpy - INFO - Chain [1] done processing\n",
      "22:50:11 - cmdstanpy - INFO - Chain [1] start processing\n"
     ]
    },
    {
     "name": "stdout",
     "output_type": "stream",
     "text": [
      "It's overpredicted.\n",
      "Monthly Error:"
     ]
    },
    {
     "name": "stderr",
     "output_type": "stream",
     "text": [
      "22:50:11 - cmdstanpy - INFO - Chain [1] done processing\n"
     ]
    },
    {
     "name": "stdout",
     "output_type": "stream",
     "text": [
      " 58.01 Period MAE: 53.55\n"
     ]
    },
    {
     "name": "stderr",
     "output_type": "stream",
     "text": [
      "22:50:12 - cmdstanpy - INFO - Chain [1] start processing\n",
      "22:50:12 - cmdstanpy - INFO - Chain [1] done processing\n"
     ]
    },
    {
     "name": "stdout",
     "output_type": "stream",
     "text": [
      "It's underpredicted.\n",
      "Monthly Error: 27.0 Period MAE:"
     ]
    },
    {
     "name": "stderr",
     "output_type": "stream",
     "text": [
      "22:50:12 - cmdstanpy - INFO - Chain [1] done processing\n"
     ]
    },
    {
     "name": "stdout",
     "output_type": "stream",
     "text": [
      " 22.81\n"
     ]
    },
    {
     "name": "stderr",
     "output_type": "stream",
     "text": [
      "22:50:13 - cmdstanpy - INFO - Chain [1] start processing\n"
     ]
    },
    {
     "name": "stdout",
     "output_type": "stream",
     "text": [
      "It's underpredicted.\n",
      "Monthly Error: 21.06 Period MAE: 10.03\n"
     ]
    },
    {
     "name": "stderr",
     "output_type": "stream",
     "text": [
      "22:50:14 - cmdstanpy - INFO - Chain [1] done processing\n",
      "22:50:15 - cmdstanpy - INFO - Chain [1] start processing\n",
      "22:50:15 - cmdstanpy - INFO - Chain [1] done processing\n"
     ]
    },
    {
     "name": "stdout",
     "output_type": "stream",
     "text": [
      "It's underpredicted.\n",
      "Monthly Error: 27.87 Period MAE: 27.689999999999998\n",
      "It's underpredicted.\n",
      "Monthly Error: 31.41 Period MAE: 8.690000000000001\n",
      "It's overpredicted.\n",
      "Monthly Error: 59.91 Period MAE: 55.169999999999995\n"
     ]
    },
    {
     "name": "stderr",
     "output_type": "stream",
     "text": [
      "22:50:17 - cmdstanpy - INFO - Chain [1] start processing\n",
      "22:50:18 - cmdstanpy - INFO - Chain [1] start processing\n",
      "22:50:18 - cmdstanpy - INFO - Chain [1] start processing\n",
      "22:50:18 - cmdstanpy - INFO - Chain [1] done processing\n",
      "22:50:18 - cmdstanpy - INFO - Chain [1] done processing\n",
      "22:50:19 - cmdstanpy - INFO - Chain [1] done processing\n"
     ]
    },
    {
     "name": "stdout",
     "output_type": "stream",
     "text": [
      "It's overpredicted.\n",
      "Monthly Error: 55.42 Period MAE: 42.99\n"
     ]
    },
    {
     "name": "stderr",
     "output_type": "stream",
     "text": [
      "22:50:19 - cmdstanpy - INFO - Chain [1] start processing\n",
      "22:50:19 - cmdstanpy - INFO - Chain [1] done processing\n"
     ]
    },
    {
     "name": "stdout",
     "output_type": "stream",
     "text": [
      "It's underpredicted.\n",
      "Monthly Error: 22.49 Period MAE: 23.44\n"
     ]
    },
    {
     "name": "stderr",
     "output_type": "stream",
     "text": [
      "22:50:20 - cmdstanpy - INFO - Chain [1] start processing\n"
     ]
    },
    {
     "name": "stdout",
     "output_type": "stream",
     "text": [
      "It's underpredicted.\n",
      "Monthly Error: 27.32 Period MAE: 18.72\n"
     ]
    },
    {
     "name": "stderr",
     "output_type": "stream",
     "text": [
      "22:50:21 - cmdstanpy - INFO - Chain [1] done processing\n",
      "22:50:21 - cmdstanpy - INFO - Chain [1] start processing\n",
      "22:50:22 - cmdstanpy - INFO - Chain [1] done processing\n"
     ]
    },
    {
     "name": "stdout",
     "output_type": "stream",
     "text": [
      "It's underpredicted.\n",
      "Monthly Error: 24.26 Period MAE: 6.67\n",
      "It's underpredicted.\n",
      "Monthly Error: 21.75 Period MAE: 22.75\n",
      "It's overpredicted.\n",
      "Monthly Error: 59.06 Period MAE: 46.01"
     ]
    },
    {
     "name": "stderr",
     "output_type": "stream",
     "text": [
      "22:50:23 - cmdstanpy - INFO - Chain [1] start processing\n"
     ]
    },
    {
     "name": "stdout",
     "output_type": "stream",
     "text": [
      "\n"
     ]
    },
    {
     "name": "stderr",
     "output_type": "stream",
     "text": [
      "22:50:24 - cmdstanpy - INFO - Chain [1] start processing\n",
      "22:50:24 - cmdstanpy - INFO - Chain [1] start processing\n",
      "22:50:24 - cmdstanpy - INFO - Chain [1] done processing\n",
      "22:50:24 - cmdstanpy - INFO - Chain [1] done processing\n",
      "22:50:24 - cmdstanpy - INFO - Chain [1] done processing\n"
     ]
    },
    {
     "name": "stdout",
     "output_type": "stream",
     "text": [
      "It's underpredicted.\n",
      "Monthly Error: 22.65 Period MAE: 7.59\n"
     ]
    },
    {
     "name": "stderr",
     "output_type": "stream",
     "text": [
      "22:50:26 - cmdstanpy - INFO - Chain [1] start processing\n"
     ]
    },
    {
     "name": "stdout",
     "output_type": "stream",
     "text": [
      "It's underpredicted.\n",
      "Monthly Error: 21.48 Period MAE: 22.45\n"
     ]
    },
    {
     "name": "stderr",
     "output_type": "stream",
     "text": [
      "22:50:26 - cmdstanpy - INFO - Chain [1] done processing\n",
      "22:50:26 - cmdstanpy - INFO - Chain [1] start processing\n"
     ]
    },
    {
     "name": "stdout",
     "output_type": "stream",
     "text": [
      "It's underpredicted.\n",
      "Monthly Error: 21.73 Period MAE: 17.9\n"
     ]
    },
    {
     "name": "stderr",
     "output_type": "stream",
     "text": [
      "22:50:27 - cmdstanpy - INFO - Chain [1] done processing\n",
      "22:50:28 - cmdstanpy - INFO - Chain [1] start processing\n",
      "22:50:28 - cmdstanpy - INFO - Chain [1] done processing\n"
     ]
    },
    {
     "name": "stdout",
     "output_type": "stream",
     "text": [
      "It's overpredicted.\n",
      "Monthly Error: 27.77 Period MAE: 1.21\n",
      "It's underpredicted.\n",
      "Monthly Error: 18.79 Period MAE: 18.35\n",
      "It's overpredicted.\n",
      "Monthly Error: "
     ]
    },
    {
     "name": "stderr",
     "output_type": "stream",
     "text": [
      "22:50:30 - cmdstanpy - INFO - Chain [1] start processing\n"
     ]
    },
    {
     "name": "stdout",
     "output_type": "stream",
     "text": [
      "61.76 Period MAE: 57.04\n"
     ]
    },
    {
     "name": "stderr",
     "output_type": "stream",
     "text": [
      "22:50:30 - cmdstanpy - INFO - Chain [1] start processing\n",
      "22:50:30 - cmdstanpy - INFO - Chain [1] start processing\n",
      "22:50:31 - cmdstanpy - INFO - Chain [1] done processing\n",
      "22:50:31 - cmdstanpy - INFO - Chain [1] done processing\n",
      "22:50:31 - cmdstanpy - INFO - Chain [1] done processing\n"
     ]
    },
    {
     "name": "stdout",
     "output_type": "stream",
     "text": [
      "It's overpredicted.\n",
      "Monthly Error: 58.75 Period MAE: 54.290000000000006\n"
     ]
    },
    {
     "name": "stderr",
     "output_type": "stream",
     "text": [
      "22:50:32 - cmdstanpy - INFO - Chain [1] start processing\n",
      "22:50:32 - cmdstanpy - INFO - Chain [1] done processing\n"
     ]
    },
    {
     "name": "stdout",
     "output_type": "stream",
     "text": [
      "It's underpredicted.\n",
      "Monthly Error: 24.96 Period MAE: 25.009999999999998\n",
      "It's underpredicted.\n",
      "Monthly Error: 21.71 Period MAE: 17.849999999999998\n"
     ]
    },
    {
     "name": "stderr",
     "output_type": "stream",
     "text": [
      "22:50:33 - cmdstanpy - INFO - Chain [1] start processing\n",
      "22:50:34 - cmdstanpy - INFO - Chain [1] start processing\n",
      "22:50:34 - cmdstanpy - INFO - Chain [1] done processing\n",
      "22:50:34 - cmdstanpy - INFO - Chain [1] done processing\n"
     ]
    },
    {
     "name": "stdout",
     "output_type": "stream",
     "text": [
      "It's overpredicted.\n",
      "Monthly Error: 60.19 Period MAE: 55.44\n",
      "It's underpredicted.It's overpredicted.\n",
      "\n",
      "Monthly Error:Monthly Error:  32.64 Period MAE:25.37 Period MAE:  26.088.94\n",
      "\n"
     ]
    },
    {
     "name": "stderr",
     "output_type": "stream",
     "text": [
      "22:50:36 - cmdstanpy - INFO - Chain [1] start processing\n",
      "22:50:37 - cmdstanpy - INFO - Chain [1] start processing\n",
      "22:50:37 - cmdstanpy - INFO - Chain [1] done processing\n",
      "22:50:37 - cmdstanpy - INFO - Chain [1] start processing\n"
     ]
    },
    {
     "name": "stdout",
     "output_type": "stream",
     "text": [
      "It's overpredicted.\n",
      "Monthly Error: 60.73 Period MAE: 49.34\n"
     ]
    },
    {
     "name": "stderr",
     "output_type": "stream",
     "text": [
      "22:50:38 - cmdstanpy - INFO - Chain [1] start processing\n",
      "22:50:38 - cmdstanpy - INFO - Chain [1] done processing\n",
      "22:50:38 - cmdstanpy - INFO - Chain [1] done processing\n"
     ]
    },
    {
     "name": "stdout",
     "output_type": "stream",
     "text": [
      "It's underpredicted.\n"
     ]
    },
    {
     "name": "stderr",
     "output_type": "stream",
     "text": [
      "22:50:38 - cmdstanpy - INFO - Chain [1] done processing\n"
     ]
    },
    {
     "name": "stdout",
     "output_type": "stream",
     "text": [
      "Monthly Error: 28.44 Period MAE: 26.179999999999996\n"
     ]
    },
    {
     "name": "stderr",
     "output_type": "stream",
     "text": [
      "22:50:39 - cmdstanpy - INFO - Chain [1] start processing\n",
      "22:50:40 - cmdstanpy - INFO - Chain [1] done processing\n"
     ]
    },
    {
     "name": "stdout",
     "output_type": "stream",
     "text": [
      "It's underpredicted.\n",
      "Monthly Error: 23.32 Period MAE: 16.78\n",
      "It's underpredicted.\n",
      "Monthly Error: "
     ]
    },
    {
     "name": "stderr",
     "output_type": "stream",
     "text": [
      "22:50:41 - cmdstanpy - INFO - Chain [1] start processing\n"
     ]
    },
    {
     "name": "stdout",
     "output_type": "stream",
     "text": [
      "It's underpredicted.21.92\n",
      " Monthly Error:Period MAE:  27.0119.71\n",
      " Period MAE: 12.36\n"
     ]
    },
    {
     "name": "stderr",
     "output_type": "stream",
     "text": [
      "22:50:42 - cmdstanpy - INFO - Chain [1] done processing\n",
      "22:50:43 - cmdstanpy - INFO - Chain [1] start processing\n",
      "22:50:43 - cmdstanpy - INFO - Chain [1] start processing\n"
     ]
    },
    {
     "name": "stdout",
     "output_type": "stream",
     "text": [
      "It's overpredicted.\n",
      "Monthly Error: 67.46 Period MAE: 56.779999999999994\n"
     ]
    },
    {
     "name": "stderr",
     "output_type": "stream",
     "text": [
      "22:50:43 - cmdstanpy - INFO - Chain [1] done processing\n",
      "22:50:43 - cmdstanpy - INFO - Chain [1] done processing\n",
      "22:50:43 - cmdstanpy - INFO - Chain [1] start processing\n",
      "22:50:44 - cmdstanpy - INFO - Chain [1] done processing\n"
     ]
    },
    {
     "name": "stdout",
     "output_type": "stream",
     "text": [
      "It's underpredicted.\n",
      "Monthly Error: 26.45 Period MAE:It's underpredicted. 13.13\n",
      "\n",
      "Monthly Error: 22.53 Period MAE:It's underpredicted. 13.88\n",
      "\n",
      "Monthly Error: 26.89 Period MAE: 24.85\n"
     ]
    },
    {
     "name": "stderr",
     "output_type": "stream",
     "text": [
      "22:50:46 - cmdstanpy - INFO - Chain [1] start processing\n",
      "22:50:46 - cmdstanpy - INFO - Chain [1] done processing\n",
      "22:50:46 - cmdstanpy - INFO - Chain [1] start processing\n",
      "22:50:46 - cmdstanpy - INFO - Chain [1] start processing\n",
      "22:50:46 - cmdstanpy - INFO - Chain [1] done processing\n",
      "22:50:47 - cmdstanpy - INFO - Chain [1] done processing\n"
     ]
    },
    {
     "name": "stdout",
     "output_type": "stream",
     "text": [
      "It's underpredicted.\n",
      "Monthly Error: 25.57 Period MAE: 13.8\n"
     ]
    },
    {
     "name": "stderr",
     "output_type": "stream",
     "text": [
      "22:50:49 - cmdstanpy - INFO - Chain [1] start processing\n"
     ]
    },
    {
     "name": "stdout",
     "output_type": "stream",
     "text": [
      "It's underpredicted.\n",
      "Monthly Error: 20.91 Period MAE: 18.65\n",
      "It's overpredicted.\n",
      "Monthly Error: 34.17 Period MAE: 14.02\n"
     ]
    },
    {
     "name": "stderr",
     "output_type": "stream",
     "text": [
      "22:50:50 - cmdstanpy - INFO - Chain [1] start processing\n",
      "22:50:50 - cmdstanpy - INFO - Chain [1] done processing\n"
     ]
    },
    {
     "name": "stdout",
     "output_type": "stream",
     "text": [
      "It's overpredicted.\n",
      "Monthly Error: 33.21 Period MAE: 13.05\n"
     ]
    },
    {
     "name": "stderr",
     "output_type": "stream",
     "text": [
      "22:50:50 - cmdstanpy - INFO - Chain [1] start processing\n",
      "22:50:50 - cmdstanpy - INFO - Chain [1] done processing\n",
      "22:50:51 - cmdstanpy - INFO - Chain [1] start processing\n",
      "22:50:51 - cmdstanpy - INFO - Chain [1] done processing\n",
      "22:50:51 - cmdstanpy - INFO - Chain [1] done processing\n"
     ]
    },
    {
     "name": "stdout",
     "output_type": "stream",
     "text": [
      "It's underpredicted.\n",
      "Monthly Error: 27.22 Period MAE: 24.709999999999997\n",
      "It's underpredicted.\n",
      "Monthly Error: 22.23 Period MAE: 14.45\n"
     ]
    },
    {
     "name": "stderr",
     "output_type": "stream",
     "text": [
      "22:50:52 - cmdstanpy - INFO - Chain [1] start processing\n",
      "22:50:53 - cmdstanpy - INFO - Chain [1] done processing\n",
      "22:50:53 - cmdstanpy - INFO - Chain [1] start processing\n",
      "22:50:53 - cmdstanpy - INFO - Chain [1] done processing\n"
     ]
    },
    {
     "name": "stdout",
     "output_type": "stream",
     "text": [
      "It's underpredicted.\n",
      "Monthly Error: 26.3 Period MAE: 26.58\n",
      "It's underpredicted.\n",
      "Monthly Error: 32.34 Period MAE: 0.43\n",
      "It's overpredicted.\n",
      "Monthly Error: 32.36 Period MAE: 12.049999999999999\n"
     ]
    },
    {
     "name": "stderr",
     "output_type": "stream",
     "text": [
      "22:50:56 - cmdstanpy - INFO - Chain [1] start processing\n",
      "22:50:56 - cmdstanpy - INFO - Chain [1] done processing\n",
      "22:50:56 - cmdstanpy - INFO - Chain [1] start processing\n",
      "22:50:56 - cmdstanpy - INFO - Chain [1] start processing\n"
     ]
    },
    {
     "name": "stdout",
     "output_type": "stream",
     "text": [
      "It's overpredicted.\n",
      "Monthly Error: 31.76 Period MAE:It's underpredicted. \n",
      "Monthly Error:0.8500000000000001\n",
      " 23.73"
     ]
    },
    {
     "name": "stderr",
     "output_type": "stream",
     "text": [
      "22:50:57 - cmdstanpy - INFO - Chain [1] done processing\n"
     ]
    },
    {
     "name": "stdout",
     "output_type": "stream",
     "text": [
      " Period MAE: 22.55\n"
     ]
    },
    {
     "name": "stderr",
     "output_type": "stream",
     "text": [
      "22:50:57 - cmdstanpy - INFO - Chain [1] done processing\n",
      "22:50:57 - cmdstanpy - INFO - Chain [1] start processing\n",
      "22:50:57 - cmdstanpy - INFO - Chain [1] done processing\n",
      "22:50:58 - cmdstanpy - INFO - Chain [1] start processing\n",
      "22:50:59 - cmdstanpy - INFO - Chain [1] done processing\n"
     ]
    },
    {
     "name": "stdout",
     "output_type": "stream",
     "text": [
      "It's underpredicted.\n",
      "Monthly Error: 24.72 Period MAE: 18.85\n"
     ]
    },
    {
     "name": "stderr",
     "output_type": "stream",
     "text": [
      "22:51:00 - cmdstanpy - INFO - Chain [1] start processing\n"
     ]
    },
    {
     "name": "stdout",
     "output_type": "stream",
     "text": [
      "It's underpredicted.\n",
      "Monthly Error: 19.09 Period MAE:"
     ]
    },
    {
     "name": "stderr",
     "output_type": "stream",
     "text": [
      "22:51:00 - cmdstanpy - INFO - Chain [1] done processing\n"
     ]
    },
    {
     "name": "stdout",
     "output_type": "stream",
     "text": [
      " 14.7\n",
      "It's underpredicted."
     ]
    },
    {
     "name": "stderr",
     "output_type": "stream",
     "text": [
      "22:51:01 - cmdstanpy - INFO - Chain [1] start processing\n"
     ]
    },
    {
     "name": "stdout",
     "output_type": "stream",
     "text": [
      "\n",
      "Monthly Error: 28.92 Period MAE: 10.07\n",
      "It's underpredicted.\n",
      "Monthly Error: 28.29 Period MAE: 10.290000000000001\n"
     ]
    },
    {
     "name": "stderr",
     "output_type": "stream",
     "text": [
      "22:51:02 - cmdstanpy - INFO - Chain [1] start processing\n"
     ]
    },
    {
     "name": "stdout",
     "output_type": "stream",
     "text": [
      "It's overpredicted.\n",
      "Monthly Error: 32.11 Period MAE: 0.21\n"
     ]
    },
    {
     "name": "stderr",
     "output_type": "stream",
     "text": [
      "22:51:02 - cmdstanpy - INFO - Chain [1] done processing\n",
      "22:51:03 - cmdstanpy - INFO - Chain [1] done processing\n",
      "22:51:03 - cmdstanpy - INFO - Chain [1] start processing\n",
      "22:51:03 - cmdstanpy - INFO - Chain [1] start processing\n",
      "22:51:03 - cmdstanpy - INFO - Chain [1] done processing\n",
      "22:51:04 - cmdstanpy - INFO - Chain [1] done processing\n"
     ]
    },
    {
     "name": "stdout",
     "output_type": "stream",
     "text": [
      "It's underpredicted.\n",
      "Monthly Error: It's underpredicted.\n",
      "27.3Monthly Error: Period MAE:  27.860000000000003\n",
      "20.34 Period MAE: 8.52\n"
     ]
    },
    {
     "name": "stderr",
     "output_type": "stream",
     "text": [
      "22:51:05 - cmdstanpy - INFO - Chain [1] start processing\n",
      "22:51:05 - cmdstanpy - INFO - Chain [1] start processing\n",
      "22:51:05 - cmdstanpy - INFO - Chain [1] done processing\n",
      "22:51:06 - cmdstanpy - INFO - Chain [1] done processing\n"
     ]
    },
    {
     "name": "stdout",
     "output_type": "stream",
     "text": [
      "It's overpredicted.\n",
      "Monthly Error: 28.27 Period MAE: 0.86\n"
     ]
    },
    {
     "name": "stderr",
     "output_type": "stream",
     "text": [
      "22:51:07 - cmdstanpy - INFO - Chain [1] start processing\n"
     ]
    },
    {
     "name": "stdout",
     "output_type": "stream",
     "text": [
      "It's underpredicted.\n",
      "Monthly Error: 19.39 Period MAE: 17.4\n",
      "It's underpredicted.\n",
      "Monthly Error: 29.38 Period MAE: 9.21\n"
     ]
    },
    {
     "name": "stderr",
     "output_type": "stream",
     "text": [
      "22:51:09 - cmdstanpy - INFO - Chain [1] start processing\n",
      "22:51:09 - cmdstanpy - INFO - Chain [1] done processing\n"
     ]
    },
    {
     "name": "stdout",
     "output_type": "stream",
     "text": [
      "It's underpredicted.\n",
      "Monthly Error: 28.16 Period MAE: 0.41000000000000003\n"
     ]
    },
    {
     "name": "stderr",
     "output_type": "stream",
     "text": [
      "22:51:09 - cmdstanpy - INFO - Chain [1] done processing\n",
      "22:51:09 - cmdstanpy - INFO - Chain [1] start processing\n",
      "22:51:09 - cmdstanpy - INFO - Chain [1] start processing\n",
      "22:51:09 - cmdstanpy - INFO - Chain [1] done processing\n",
      "22:51:10 - cmdstanpy - INFO - Chain [1] done processing\n"
     ]
    },
    {
     "name": "stdout",
     "output_type": "stream",
     "text": [
      "It's underpredicted.\n",
      "Monthly Error: 25.78 Period MAE: 26.179999999999996\n",
      "It's underpredicted.\n",
      "Monthly Error: 20.83 Period MAE: 11.84\n"
     ]
    },
    {
     "name": "stderr",
     "output_type": "stream",
     "text": [
      "22:51:11 - cmdstanpy - INFO - Chain [1] start processing\n",
      "22:51:12 - cmdstanpy - INFO - Chain [1] start processing\n",
      "22:51:12 - cmdstanpy - INFO - Chain [1] done processing\n",
      "22:51:12 - cmdstanpy - INFO - Chain [1] done processing\n"
     ]
    },
    {
     "name": "stdout",
     "output_type": "stream",
     "text": [
      "It's underpredicted.\n",
      "Monthly Error: 28.95 Period MAE: 9.3\n",
      "It's overpredicted.\n",
      "Monthly Error:It's underpredicted. \n",
      "Monthly Error:28.29  Period MAE: 19.860.83 \n",
      "Period MAE: 17.84\n"
     ]
    },
    {
     "name": "stderr",
     "output_type": "stream",
     "text": [
      "22:51:14 - cmdstanpy - INFO - Chain [1] start processing\n",
      "22:51:14 - cmdstanpy - INFO - Chain [1] start processing\n",
      "22:51:15 - cmdstanpy - INFO - Chain [1] done processing\n"
     ]
    },
    {
     "name": "stdout",
     "output_type": "stream",
     "text": [
      "It's underpredicted.\n"
     ]
    },
    {
     "name": "stderr",
     "output_type": "stream",
     "text": [
      "22:51:15 - cmdstanpy - INFO - Chain [1] start processing\n"
     ]
    },
    {
     "name": "stdout",
     "output_type": "stream",
     "text": [
      "Monthly Error: 30.73 Period MAE: 2.82\n"
     ]
    },
    {
     "name": "stderr",
     "output_type": "stream",
     "text": [
      "22:51:15 - cmdstanpy - INFO - Chain [1] done processing\n",
      "22:51:15 - cmdstanpy - INFO - Chain [1] start processing\n",
      "22:51:16 - cmdstanpy - INFO - Chain [1] done processing\n",
      "22:51:16 - cmdstanpy - INFO - Chain [1] done processing\n"
     ]
    },
    {
     "name": "stdout",
     "output_type": "stream",
     "text": [
      "It's underpredicted.\n",
      "Monthly Error: 19.54 Period MAE: 10.12\n"
     ]
    },
    {
     "name": "stderr",
     "output_type": "stream",
     "text": [
      "22:51:17 - cmdstanpy - INFO - Chain [1] start processing\n",
      "22:51:17 - cmdstanpy - INFO - Chain [1] done processing\n"
     ]
    },
    {
     "name": "stdout",
     "output_type": "stream",
     "text": [
      "It's underpredicted.\n",
      "Monthly Error: 21.22 Period MAE: 13.05\n"
     ]
    },
    {
     "name": "stderr",
     "output_type": "stream",
     "text": [
      "22:51:18 - cmdstanpy - INFO - Chain [1] start processing\n"
     ]
    },
    {
     "name": "stdout",
     "output_type": "stream",
     "text": [
      "It's underpredicted."
     ]
    },
    {
     "name": "stderr",
     "output_type": "stream",
     "text": [
      "22:51:18 - cmdstanpy - INFO - Chain [1] done processing\n"
     ]
    },
    {
     "name": "stdout",
     "output_type": "stream",
     "text": [
      "\n",
      "Monthly Error: 19.06 Period MAE: 15.68\n"
     ]
    },
    {
     "name": "stderr",
     "output_type": "stream",
     "text": [
      "22:51:19 - cmdstanpy - INFO - Chain [1] start processing\n"
     ]
    },
    {
     "name": "stdout",
     "output_type": "stream",
     "text": [
      "It's underpredicted.\n",
      "Monthly Error: 29.5 Period MAE: 22.54\n",
      "It's overpredicted.\n",
      "Monthly Error: 32.38 Period MAE: 1.95\n"
     ]
    },
    {
     "name": "stderr",
     "output_type": "stream",
     "text": [
      "22:51:20 - cmdstanpy - INFO - Chain [1] start processing\n",
      "22:51:21 - cmdstanpy - INFO - Chain [1] start processing\n",
      "22:51:21 - cmdstanpy - INFO - Chain [1] done processing\n",
      "22:51:21 - cmdstanpy - INFO - Chain [1] done processing\n",
      "22:51:22 - cmdstanpy - INFO - Chain [1] done processing\n"
     ]
    },
    {
     "name": "stdout",
     "output_type": "stream",
     "text": [
      "It's underpredicted.\n",
      "Monthly Error: 26.86 Period MAE: 23.53\n"
     ]
    },
    {
     "name": "stderr",
     "output_type": "stream",
     "text": [
      "22:51:23 - cmdstanpy - INFO - Chain [1] start processing\n"
     ]
    },
    {
     "name": "stdout",
     "output_type": "stream",
     "text": [
      "It's underpredicted.\n",
      "Monthly Error: 19.59 Period MAE: 10.459999999999999\n"
     ]
    },
    {
     "name": "stderr",
     "output_type": "stream",
     "text": [
      "22:51:23 - cmdstanpy - INFO - Chain [1] done processing\n"
     ]
    },
    {
     "name": "stdout",
     "output_type": "stream",
     "text": [
      "It's underpredicted.\n",
      "Monthly Error: 21.03"
     ]
    },
    {
     "name": "stderr",
     "output_type": "stream",
     "text": [
      "22:51:24 - cmdstanpy - INFO - Chain [1] start processing\n"
     ]
    },
    {
     "name": "stdout",
     "output_type": "stream",
     "text": [
      " Period MAE: 9.53\n"
     ]
    },
    {
     "name": "stderr",
     "output_type": "stream",
     "text": [
      "22:51:24 - cmdstanpy - INFO - Chain [1] done processing\n",
      "22:51:24 - cmdstanpy - INFO - Chain [1] start processing\n",
      "22:51:25 - cmdstanpy - INFO - Chain [1] done processing\n"
     ]
    },
    {
     "name": "stdout",
     "output_type": "stream",
     "text": [
      "It's underpredicted.\n",
      "Monthly Error: 28.78 Period MAE: 12.590000000000002\n",
      "It's underpredicted.\n",
      "Monthly Error: 19.13 Period MAE: 16.02\n",
      "It's overpredicted.\n",
      "Monthly Error: 62.39 Period MAE: 57.67\n"
     ]
    },
    {
     "name": "stderr",
     "output_type": "stream",
     "text": [
      "22:51:27 - cmdstanpy - INFO - Chain [1] start processing\n",
      "22:51:27 - cmdstanpy - INFO - Chain [1] start processing\n",
      "22:51:27 - cmdstanpy - INFO - Chain [1] start processing\n",
      "22:51:27 - cmdstanpy - INFO - Chain [1] done processing\n",
      "22:51:27 - cmdstanpy - INFO - Chain [1] done processing\n",
      "22:51:28 - cmdstanpy - INFO - Chain [1] done processing\n"
     ]
    },
    {
     "name": "stdout",
     "output_type": "stream",
     "text": [
      "It's overpredicted.\n",
      "Monthly Error: 58.04 Period MAE: 53.580000000000005\n"
     ]
    },
    {
     "name": "stderr",
     "output_type": "stream",
     "text": [
      "22:51:28 - cmdstanpy - INFO - Chain [1] start processing\n",
      "22:51:29 - cmdstanpy - INFO - Chain [1] done processing\n"
     ]
    },
    {
     "name": "stdout",
     "output_type": "stream",
     "text": [
      "It's underpredicted.\n",
      "Monthly Error: 26.21 Period MAE: 21.5\n"
     ]
    },
    {
     "name": "stderr",
     "output_type": "stream",
     "text": [
      "22:51:30 - cmdstanpy - INFO - Chain [1] start processing\n"
     ]
    },
    {
     "name": "stdout",
     "output_type": "stream",
     "text": [
      "It's underpredicted.\n",
      "Monthly Error: 20.96 Period MAE: 9.65"
     ]
    },
    {
     "name": "stderr",
     "output_type": "stream",
     "text": [
      "22:51:30 - cmdstanpy - INFO - Chain [1] done processing\n"
     ]
    },
    {
     "name": "stdout",
     "output_type": "stream",
     "text": [
      "\n"
     ]
    },
    {
     "name": "stderr",
     "output_type": "stream",
     "text": [
      "22:51:31 - cmdstanpy - INFO - Chain [1] start processing\n",
      "22:51:31 - cmdstanpy - INFO - Chain [1] done processing\n"
     ]
    },
    {
     "name": "stdout",
     "output_type": "stream",
     "text": [
      "It's underpredicted.It's underpredicted.\n",
      "\n",
      "Monthly Error: Monthly Error:27.0  31.23Period MAE:It's overpredicted. 26.72 Period MAE:\n",
      "Monthly Error:\n",
      "  10.760.17\n",
      " Period MAE: 55.42\n"
     ]
    },
    {
     "name": "stderr",
     "output_type": "stream",
     "text": [
      "22:51:33 - cmdstanpy - INFO - Chain [1] start processing\n",
      "22:51:33 - cmdstanpy - INFO - Chain [1] done processing\n",
      "22:51:34 - cmdstanpy - INFO - Chain [1] start processing\n",
      "22:51:34 - cmdstanpy - INFO - Chain [1] start processing\n",
      "22:51:34 - cmdstanpy - INFO - Chain [1] done processing\n",
      "22:51:35 - cmdstanpy - INFO - Chain [1] done processing\n"
     ]
    },
    {
     "name": "stdout",
     "output_type": "stream",
     "text": [
      "It's underpredicted.\n",
      "Monthly Error: 22.05 Period MAE: 23.01\n",
      "It's overpredicted.\n",
      "Monthly Error: 37.11 Period MAE: 9.75\n"
     ]
    },
    {
     "name": "stderr",
     "output_type": "stream",
     "text": [
      "22:51:35 - cmdstanpy - INFO - Chain [1] start processing\n",
      "22:51:36 - cmdstanpy - INFO - Chain [1] done processing\n",
      "22:51:36 - cmdstanpy - INFO - Chain [1] start processing\n",
      "22:51:36 - cmdstanpy - INFO - Chain [1] done processing\n"
     ]
    },
    {
     "name": "stdout",
     "output_type": "stream",
     "text": [
      "It's underpredicted.\n",
      "Monthly Error: 28.7 Period MAE: 21.46\n",
      "It's underpredicted.\n",
      "Monthly Error: 23.26 Period MAE: "
     ]
    },
    {
     "name": "stderr",
     "output_type": "stream",
     "text": [
      "22:51:38 - cmdstanpy - INFO - Chain [1] start processing\n"
     ]
    },
    {
     "name": "stdout",
     "output_type": "stream",
     "text": [
      "24.19\n"
     ]
    },
    {
     "name": "stderr",
     "output_type": "stream",
     "text": [
      "22:51:38 - cmdstanpy - INFO - Chain [1] done processing\n"
     ]
    },
    {
     "name": "stdout",
     "output_type": "stream",
     "text": [
      "It's overpredicted.\n",
      "Monthly Error: 39.02 Period MAE: 17.4\n"
     ]
    },
    {
     "name": "stderr",
     "output_type": "stream",
     "text": [
      "22:51:39 - cmdstanpy - INFO - Chain [1] start processing\n"
     ]
    },
    {
     "name": "stdout",
     "output_type": "stream",
     "text": [
      "It's underpredicted.\n",
      "Monthly Error: 23.86 Period MAE: 7.920000000000001\n"
     ]
    },
    {
     "name": "stderr",
     "output_type": "stream",
     "text": [
      "22:51:40 - cmdstanpy - INFO - Chain [1] start processing\n",
      "22:51:40 - cmdstanpy - INFO - Chain [1] start processing\n",
      "22:51:40 - cmdstanpy - INFO - Chain [1] done processing\n",
      "22:51:40 - cmdstanpy - INFO - Chain [1] done processing\n",
      "22:51:40 - cmdstanpy - INFO - Chain [1] done processing\n"
     ]
    },
    {
     "name": "stdout",
     "output_type": "stream",
     "text": [
      "It's underpredicted.\n",
      "Monthly Error: 21.61 Period MAE: 22.59\n"
     ]
    },
    {
     "name": "stderr",
     "output_type": "stream",
     "text": [
      "22:51:41 - cmdstanpy - INFO - Chain [1] start processing\n",
      "22:51:42 - cmdstanpy - INFO - Chain [1] done processing\n"
     ]
    },
    {
     "name": "stdout",
     "output_type": "stream",
     "text": [
      "It's underpredicted.\n",
      "Monthly Error: 22.32It's underpredicted.\n",
      " Monthly Error:Period MAE:  21.828.18 \n",
      "Period MAE: 18.2\n"
     ]
    },
    {
     "name": "stderr",
     "output_type": "stream",
     "text": [
      "22:51:43 - cmdstanpy - INFO - Chain [1] start processing\n",
      "22:51:43 - cmdstanpy - INFO - Chain [1] start processing\n",
      "22:51:43 - cmdstanpy - INFO - Chain [1] done processing\n",
      "22:51:43 - cmdstanpy - INFO - Chain [1] done processing\n"
     ]
    },
    {
     "name": "stdout",
     "output_type": "stream",
     "text": [
      "It's overpredicted.\n",
      "Monthly Error: 27.61 Period MAE: 0.8500000000000001\n",
      "It's underpredicted.\n",
      "Monthly Error: 22.31 Period MAE: 23.27\n",
      "It's overpredicted.\n",
      "Monthly Error: 61.66 Period MAE: 56.940000000000005\n"
     ]
    },
    {
     "name": "stderr",
     "output_type": "stream",
     "text": [
      "22:51:45 - cmdstanpy - INFO - Chain [1] start processing\n",
      "22:51:46 - cmdstanpy - INFO - Chain [1] start processing\n",
      "22:51:46 - cmdstanpy - INFO - Chain [1] start processing\n",
      "22:51:46 - cmdstanpy - INFO - Chain [1] done processing\n",
      "22:51:46 - cmdstanpy - INFO - Chain [1] done processing\n",
      "22:51:46 - cmdstanpy - INFO - Chain [1] done processing\n"
     ]
    },
    {
     "name": "stdout",
     "output_type": "stream",
     "text": [
      "It's overpredicted.\n",
      "Monthly Error: 58.92 Period MAE: 54.449999999999996\n"
     ]
    },
    {
     "name": "stderr",
     "output_type": "stream",
     "text": [
      "22:51:47 - cmdstanpy - INFO - Chain [1] start processing\n",
      "22:51:47 - cmdstanpy - INFO - Chain [1] done processing\n"
     ]
    },
    {
     "name": "stdout",
     "output_type": "stream",
     "text": [
      "It's underpredicted.\n",
      "Monthly Error: 24.87 Period MAE: 24.82\n",
      "It's underpredicted.\n",
      "Monthly Error: 20.98 Period MAE: 14.760000000000002\n"
     ]
    },
    {
     "name": "stderr",
     "output_type": "stream",
     "text": [
      "22:51:49 - cmdstanpy - INFO - Chain [1] start processing\n",
      "22:51:49 - cmdstanpy - INFO - Chain [1] start processing\n",
      "22:51:49 - cmdstanpy - INFO - Chain [1] done processing\n",
      "22:51:49 - cmdstanpy - INFO - Chain [1] done processing\n"
     ]
    },
    {
     "name": "stdout",
     "output_type": "stream",
     "text": [
      "It's overpredicted.\n",
      "Monthly Error: 60.1 Period MAE: 55.35\n",
      "It's underpredicted.\n",
      "Monthly Error: 25.19 Period MAE: 25.91\n",
      "It's overpredicted.\n",
      "Monthly Error: 31.47 Period MAE: 6.98\n"
     ]
    },
    {
     "name": "stderr",
     "output_type": "stream",
     "text": [
      "22:51:52 - cmdstanpy - INFO - Chain [1] start processing\n",
      "22:51:52 - cmdstanpy - INFO - Chain [1] start processing\n",
      "22:51:52 - cmdstanpy - INFO - Chain [1] start processing\n",
      "22:51:52 - cmdstanpy - INFO - Chain [1] done processing\n",
      "22:51:52 - cmdstanpy - INFO - Chain [1] done processing\n"
     ]
    },
    {
     "name": "stdout",
     "output_type": "stream",
     "text": [
      "It's overpredicted.\n",
      "Monthly Error: 42.01 Period MAE: 24.36\n"
     ]
    },
    {
     "name": "stderr",
     "output_type": "stream",
     "text": [
      "22:51:53 - cmdstanpy - INFO - Chain [1] start processing\n",
      "22:51:53 - cmdstanpy - INFO - Chain [1] done processing\n",
      "22:51:54 - cmdstanpy - INFO - Chain [1] done processing\n"
     ]
    },
    {
     "name": "stdout",
     "output_type": "stream",
     "text": [
      "It's underpredicted.\n",
      "Monthly Error: 28.01 Period MAE: 25.52\n"
     ]
    },
    {
     "name": "stderr",
     "output_type": "stream",
     "text": [
      "22:51:54 - cmdstanpy - INFO - Chain [1] start processing\n",
      "22:51:55 - cmdstanpy - INFO - Chain [1] done processing\n"
     ]
    },
    {
     "name": "stdout",
     "output_type": "stream",
     "text": [
      "It's underpredicted.\n",
      "Monthly Error: 24.44 Period MAE: 20.39\n"
     ]
    },
    {
     "name": "stderr",
     "output_type": "stream",
     "text": [
      "22:51:56 - cmdstanpy - INFO - Chain [1] start processing\n"
     ]
    },
    {
     "name": "stdout",
     "output_type": "stream",
     "text": [
      "It's overpredicted.\n",
      "Monthly Error: 50.52 Period MAE:It's underpredicted. \n",
      "Monthly Error:37.830000000000005 \n",
      "22.59"
     ]
    },
    {
     "name": "stderr",
     "output_type": "stream",
     "text": [
      "22:51:57 - cmdstanpy - INFO - Chain [1] done processing\n"
     ]
    },
    {
     "name": "stdout",
     "output_type": "stream",
     "text": [
      " Period MAE:It's underpredicted. 20.69\n",
      "\n",
      "Monthly Error: 26.8 Period MAE: 12.32\n"
     ]
    },
    {
     "name": "stderr",
     "output_type": "stream",
     "text": [
      "22:51:57 - cmdstanpy - INFO - Chain [1] start processing\n",
      "22:51:58 - cmdstanpy - INFO - Chain [1] done processing\n",
      "22:51:58 - cmdstanpy - INFO - Chain [1] start processing\n",
      "22:51:58 - cmdstanpy - INFO - Chain [1] start processing\n",
      "22:51:59 - cmdstanpy - INFO - Chain [1] done processing\n",
      "22:51:59 - cmdstanpy - INFO - Chain [1] done processing\n"
     ]
    },
    {
     "name": "stdout",
     "output_type": "stream",
     "text": [
      "It's underpredicted.\n",
      "Monthly Error:It's underpredicted. \n",
      "27.1 Monthly Error:Period MAE:  25.180000000000003\n",
      "26.0 Period MAE: 13.51\n"
     ]
    },
    {
     "name": "stderr",
     "output_type": "stream",
     "text": [
      "22:52:00 - cmdstanpy - INFO - Chain [1] start processing\n",
      "22:52:00 - cmdstanpy - INFO - Chain [1] done processing\n",
      "22:52:00 - cmdstanpy - INFO - Chain [1] start processing\n",
      "22:52:01 - cmdstanpy - INFO - Chain [1] done processing\n"
     ]
    },
    {
     "name": "stdout",
     "output_type": "stream",
     "text": [
      "It's underpredicted.\n",
      "Monthly Error: 21.94 Period MAE: 11.200000000000001\n"
     ]
    },
    {
     "name": "stderr",
     "output_type": "stream",
     "text": [
      "22:52:03 - cmdstanpy - INFO - Chain [1] start processing\n",
      "22:52:03 - cmdstanpy - INFO - Chain [1] done processing\n"
     ]
    },
    {
     "name": "stdout",
     "output_type": "stream",
     "text": [
      "It's underpredicted.\n",
      "Monthly Error: 25.37 Period MAE: 13.569999999999999It's underpredicted.\n",
      "\n",
      "Monthly Error: 22.96 Period MAE: 21.85\n",
      "It's overpredicted.\n",
      "Monthly Error: 34.26 Period MAE: 14.42\n"
     ]
    },
    {
     "name": "stderr",
     "output_type": "stream",
     "text": [
      "22:52:05 - cmdstanpy - INFO - Chain [1] start processing\n",
      "22:52:05 - cmdstanpy - INFO - Chain [1] start processing\n",
      "22:52:05 - cmdstanpy - INFO - Chain [1] done processing\n",
      "22:52:05 - cmdstanpy - INFO - Chain [1] start processing\n",
      "22:52:05 - cmdstanpy - INFO - Chain [1] done processing\n",
      "22:52:06 - cmdstanpy - INFO - Chain [1] done processing\n"
     ]
    },
    {
     "name": "stdout",
     "output_type": "stream",
     "text": [
      "It's underpredicted.\n",
      "Monthly Error: 26.98 Period MAE: 24.33\n"
     ]
    },
    {
     "name": "stderr",
     "output_type": "stream",
     "text": [
      "22:52:07 - cmdstanpy - INFO - Chain [1] start processing\n",
      "22:52:07 - cmdstanpy - INFO - Chain [1] done processing\n"
     ]
    },
    {
     "name": "stdout",
     "output_type": "stream",
     "text": [
      "It's overpredicted.\n",
      "Monthly Error: 33.79 Period MAE: 13.819999999999999\n"
     ]
    },
    {
     "name": "stderr",
     "output_type": "stream",
     "text": [
      "22:52:08 - cmdstanpy - INFO - Chain [1] start processing\n"
     ]
    },
    {
     "name": "stdout",
     "output_type": "stream",
     "text": [
      "It's underpredicted.\n",
      "Monthly Error: 22.06 Period MAE: "
     ]
    },
    {
     "name": "stderr",
     "output_type": "stream",
     "text": [
      "22:52:08 - cmdstanpy - INFO - Chain [1] done processing\n"
     ]
    },
    {
     "name": "stdout",
     "output_type": "stream",
     "text": [
      "15.079999999999998\n"
     ]
    },
    {
     "name": "stderr",
     "output_type": "stream",
     "text": [
      "22:52:09 - cmdstanpy - INFO - Chain [1] start processing\n",
      "22:52:09 - cmdstanpy - INFO - Chain [1] done processing\n"
     ]
    },
    {
     "name": "stdout",
     "output_type": "stream",
     "text": [
      "It's overpredicted.\n",
      "Monthly Error: 33.12 Period MAE: 13.25\n",
      "It's underpredicted.\n",
      "Monthly Error: 27.22 \n",
      "Period MAE: 27.57It's underpredicted.\n",
      "Monthly Error: 30.96 Period MAE: 2.63\n"
     ]
    },
    {
     "name": "stderr",
     "output_type": "stream",
     "text": [
      "22:52:11 - cmdstanpy - INFO - Chain [1] start processing\n",
      "22:52:12 - cmdstanpy - INFO - Chain [1] start processing\n",
      "22:52:12 - cmdstanpy - INFO - Chain [1] done processing\n",
      "22:52:12 - cmdstanpy - INFO - Chain [1] start processing\n",
      "22:52:12 - cmdstanpy - INFO - Chain [1] done processing\n"
     ]
    },
    {
     "name": "stdout",
     "output_type": "stream",
     "text": [
      "It's underpredicted.\n",
      "Monthly Error: 24.39 Period MAE: 23.64\n",
      "It's underpredicted.\n",
      "Monthly Error: 30.97"
     ]
    },
    {
     "name": "stderr",
     "output_type": "stream",
     "text": [
      "22:52:13 - cmdstanpy - INFO - Chain [1] done processing\n"
     ]
    },
    {
     "name": "stdout",
     "output_type": "stream",
     "text": [
      " Period MAE: 2.1\n"
     ]
    },
    {
     "name": "stderr",
     "output_type": "stream",
     "text": [
      "22:52:14 - cmdstanpy - INFO - Chain [1] start processing\n",
      "22:52:14 - cmdstanpy - INFO - Chain [1] done processing\n",
      "22:52:14 - cmdstanpy - INFO - Chain [1] start processing\n",
      "22:52:15 - cmdstanpy - INFO - Chain [1] done processing\n"
     ]
    },
    {
     "name": "stdout",
     "output_type": "stream",
     "text": [
      "It's underpredicted.\n",
      "Monthly Error: 25.54 Period MAE: 20.419999999999998\n",
      "It's underpredicted.\n",
      "Monthly Error: 19.23 Period MAE: 14.71\n"
     ]
    },
    {
     "name": "stderr",
     "output_type": "stream",
     "text": [
      "22:52:17 - cmdstanpy - INFO - Chain [1] start processing\n",
      "22:52:17 - cmdstanpy - INFO - Chain [1] done processing\n"
     ]
    },
    {
     "name": "stdout",
     "output_type": "stream",
     "text": [
      "It's underpredicted.\n",
      "Monthly Error: 28.75 Period MAE:It's underpredicted.\n",
      " 10.02Monthly Error:\n",
      " 31.71 Period MAE: 1.06\n"
     ]
    },
    {
     "name": "stderr",
     "output_type": "stream",
     "text": [
      "22:52:18 - cmdstanpy - INFO - Chain [1] start processing\n",
      "22:52:18 - cmdstanpy - INFO - Chain [1] start processing\n",
      "22:52:18 - cmdstanpy - INFO - Chain [1] start processing\n",
      "22:52:19 - cmdstanpy - INFO - Chain [1] done processing\n",
      "22:52:19 - cmdstanpy - INFO - Chain [1] done processing\n",
      "22:52:20 - cmdstanpy - INFO - Chain [1] done processing\n"
     ]
    },
    {
     "name": "stdout",
     "output_type": "stream",
     "text": [
      "It's underpredicted.\n",
      "Monthly Error: 26.76 Period MAE: 27.35\n"
     ]
    },
    {
     "name": "stderr",
     "output_type": "stream",
     "text": [
      "22:52:21 - cmdstanpy - INFO - Chain [1] start processing\n"
     ]
    },
    {
     "name": "stdout",
     "output_type": "stream",
     "text": [
      "It's underpredicted.\n",
      "Monthly Error: 28.83 Period MAE: 10.2\n"
     ]
    },
    {
     "name": "stderr",
     "output_type": "stream",
     "text": [
      "22:52:21 - cmdstanpy - INFO - Chain [1] done processing\n",
      "22:52:21 - cmdstanpy - INFO - Chain [1] start processing\n"
     ]
    },
    {
     "name": "stdout",
     "output_type": "stream",
     "text": [
      "It's underpredicted.\n",
      "Monthly Error: 20.15 Period MAE: 8.02\n"
     ]
    },
    {
     "name": "stderr",
     "output_type": "stream",
     "text": [
      "22:52:22 - cmdstanpy - INFO - Chain [1] done processing\n",
      "22:52:23 - cmdstanpy - INFO - Chain [1] start processing\n"
     ]
    },
    {
     "name": "stdout",
     "output_type": "stream",
     "text": [
      "It's underpredicted.\n",
      "Monthly Error: 28.48 Period MAE: 9.969999999999999\n"
     ]
    },
    {
     "name": "stderr",
     "output_type": "stream",
     "text": [
      "22:52:23 - cmdstanpy - INFO - Chain [1] done processing\n"
     ]
    },
    {
     "name": "stdout",
     "output_type": "stream",
     "text": [
      "It's underpredicted.\n",
      "Monthly Error: 19.37 Period MAE: 16.75\n"
     ]
    },
    {
     "name": "stderr",
     "output_type": "stream",
     "text": [
      "22:52:24 - cmdstanpy - INFO - Chain [1] start processing\n"
     ]
    },
    {
     "name": "stdout",
     "output_type": "stream",
     "text": [
      "It's overpredicted.\n",
      "Monthly Error: 28.22 Period MAE: 0.5599999999999999\n"
     ]
    },
    {
     "name": "stderr",
     "output_type": "stream",
     "text": [
      "22:52:25 - cmdstanpy - INFO - Chain [1] start processing\n",
      "22:52:25 - cmdstanpy - INFO - Chain [1] start processing\n",
      "22:52:25 - cmdstanpy - INFO - Chain [1] done processing\n",
      "22:52:26 - cmdstanpy - INFO - Chain [1] done processing\n",
      "22:52:26 - cmdstanpy - INFO - Chain [1] done processing\n"
     ]
    },
    {
     "name": "stdout",
     "output_type": "stream",
     "text": [
      "It's underpredicted.\n",
      "Monthly Error: 25.42 Period MAE: 25.580000000000002\n"
     ]
    },
    {
     "name": "stderr",
     "output_type": "stream",
     "text": [
      "22:52:27 - cmdstanpy - INFO - Chain [1] start processing\n"
     ]
    },
    {
     "name": "stdout",
     "output_type": "stream",
     "text": [
      "It's underpredicted.\n"
     ]
    },
    {
     "name": "stderr",
     "output_type": "stream",
     "text": [
      "22:52:27 - cmdstanpy - INFO - Chain [1] done processing\n"
     ]
    },
    {
     "name": "stdout",
     "output_type": "stream",
     "text": [
      "Monthly Error: 27.4 Period MAE: 1.2\n",
      "It's underpredicted.\n",
      "Monthly Error: 20.7 Period MAE: 12.17\n"
     ]
    },
    {
     "name": "stderr",
     "output_type": "stream",
     "text": [
      "22:52:28 - cmdstanpy - INFO - Chain [1] start processing\n",
      "22:52:29 - cmdstanpy - INFO - Chain [1] start processing\n",
      "22:52:29 - cmdstanpy - INFO - Chain [1] done processing\n",
      "22:52:29 - cmdstanpy - INFO - Chain [1] done processing\n"
     ]
    },
    {
     "name": "stdout",
     "output_type": "stream",
     "text": [
      "It's underpredicted.\n",
      "Monthly Error: 27.74 Period MAE: 0.41000000000000003It's underpredicted.\n",
      "\n",
      "Monthly Error: 20.67It's underpredicted. Period MAE:\n",
      " Monthly Error:20.82\n",
      " 31.45 Period MAE: 0.91\n"
     ]
    },
    {
     "name": "stderr",
     "output_type": "stream",
     "text": [
      "22:52:31 - cmdstanpy - INFO - Chain [1] start processing\n",
      "22:52:31 - cmdstanpy - INFO - Chain [1] start processing\n",
      "22:52:32 - cmdstanpy - INFO - Chain [1] done processing\n",
      "22:52:32 - cmdstanpy - INFO - Chain [1] start processing\n",
      "22:52:32 - cmdstanpy - INFO - Chain [1] done processing\n"
     ]
    },
    {
     "name": "stdout",
     "output_type": "stream",
     "text": [
      "It's underpredicted.\n",
      "Monthly Error: 30.45 Period MAE: 3.19\n",
      "It's underpredicted.\n",
      "Monthly Error:"
     ]
    },
    {
     "name": "stderr",
     "output_type": "stream",
     "text": [
      "22:52:33 - cmdstanpy - INFO - Chain [1] done processing\n"
     ]
    },
    {
     "name": "stdout",
     "output_type": "stream",
     "text": [
      " 19.97 Period MAE: 12.27\n"
     ]
    },
    {
     "name": "stderr",
     "output_type": "stream",
     "text": [
      "22:52:33 - cmdstanpy - INFO - Chain [1] start processing\n",
      "22:52:33 - cmdstanpy - INFO - Chain [1] done processing\n",
      "22:52:34 - cmdstanpy - INFO - Chain [1] start processing\n",
      "22:52:35 - cmdstanpy - INFO - Chain [1] done processing\n"
     ]
    },
    {
     "name": "stdout",
     "output_type": "stream",
     "text": [
      "It's underpredicted.\n",
      "Monthly Error: 29.52 Period MAE: 22.58\n",
      "It's underpredicted.\n",
      "Monthly Error: 21.22 Period MAE:"
     ]
    },
    {
     "name": "stderr",
     "output_type": "stream",
     "text": [
      "22:52:36 - cmdstanpy - INFO - Chain [1] start processing\n"
     ]
    },
    {
     "name": "stdout",
     "output_type": "stream",
     "text": [
      " 13.420000000000002\n",
      "It's underpredicted.\n",
      "Monthly Error: 30.95 Period MAE: "
     ]
    },
    {
     "name": "stderr",
     "output_type": "stream",
     "text": [
      "22:52:36 - cmdstanpy - INFO - Chain [1] done processing\n"
     ]
    },
    {
     "name": "stdout",
     "output_type": "stream",
     "text": [
      "1.92\n",
      "It's underpredicted.\n",
      "Monthly Error: 19.36 Period MAE: 14.680000000000001\n"
     ]
    },
    {
     "name": "stderr",
     "output_type": "stream",
     "text": [
      "22:52:37 - cmdstanpy - INFO - Chain [1] start processing\n",
      "22:52:37 - cmdstanpy - INFO - Chain [1] start processing\n",
      "22:52:38 - cmdstanpy - INFO - Chain [1] done processing\n",
      "22:52:38 - cmdstanpy - INFO - Chain [1] start processing\n",
      "22:52:38 - cmdstanpy - INFO - Chain [1] done processing\n",
      "22:52:38 - cmdstanpy - INFO - Chain [1] done processing\n"
     ]
    },
    {
     "name": "stdout",
     "output_type": "stream",
     "text": [
      "It's underpredicted.\n",
      "Monthly Error: 19.66 Period MAE: 10.81\n"
     ]
    },
    {
     "name": "stderr",
     "output_type": "stream",
     "text": [
      "22:52:40 - cmdstanpy - INFO - Chain [1] start processing\n",
      "22:52:40 - cmdstanpy - INFO - Chain [1] done processing\n"
     ]
    },
    {
     "name": "stdout",
     "output_type": "stream",
     "text": [
      "It's underpredicted.\n",
      "Monthly Error: 29.44 Period MAE: 22.55\n",
      "It's underpredicted.\n",
      "Monthly Error: 19.96 Period MAE: 10.870000000000001\n"
     ]
    },
    {
     "name": "stderr",
     "output_type": "stream",
     "text": [
      "22:52:41 - cmdstanpy - INFO - Chain [1] start processing\n",
      "22:52:41 - cmdstanpy - INFO - Chain [1] done processing\n",
      "22:52:41 - cmdstanpy - INFO - Chain [1] start processing\n",
      "22:52:42 - cmdstanpy - INFO - Chain [1] done processing\n"
     ]
    },
    {
     "name": "stdout",
     "output_type": "stream",
     "text": [
      "It's underpredicted.\n",
      "Monthly Error: 19.36 It's underpredicted.Period MAE:\n",
      " Monthly Error: 29.1 Period MAE:14.649999999999999\n",
      " 21.11\n",
      "It's overpredicted.\n",
      "Monthly Error: 59.34 Period MAE: 54.71\n"
     ]
    },
    {
     "name": "stderr",
     "output_type": "stream",
     "text": [
      "22:52:43 - cmdstanpy - INFO - Chain [1] start processing\n",
      "22:52:44 - cmdstanpy - INFO - Chain [1] done processing\n",
      "22:52:44 - cmdstanpy - INFO - Chain [1] start processing\n",
      "22:52:44 - cmdstanpy - INFO - Chain [1] start processing\n",
      "22:52:44 - cmdstanpy - INFO - Chain [1] done processing\n",
      "22:52:45 - cmdstanpy - INFO - Chain [1] done processing\n"
     ]
    },
    {
     "name": "stdout",
     "output_type": "stream",
     "text": [
      "It's overpredicted.\n",
      "Monthly Error: 57.87 Period MAE: 53.33\n",
      "It's underpredicted.\n",
      "Monthly Error: 22.79 Period MAE: 19.56\n"
     ]
    },
    {
     "name": "stderr",
     "output_type": "stream",
     "text": [
      "22:52:46 - cmdstanpy - INFO - Chain [1] start processing\n",
      "22:52:46 - cmdstanpy - INFO - Chain [1] start processing\n",
      "22:52:46 - cmdstanpy - INFO - Chain [1] done processing\n",
      "22:52:47 - cmdstanpy - INFO - Chain [1] done processing\n"
     ]
    },
    {
     "name": "stdout",
     "output_type": "stream",
     "text": [
      "It's underpredicted.\n",
      "Monthly Error: 20.0 Period MAE: 10.99\n"
     ]
    },
    {
     "name": "stderr",
     "output_type": "stream",
     "text": [
      "22:52:48 - cmdstanpy - INFO - Chain [1] start processing\n",
      "22:52:48 - cmdstanpy - INFO - Chain [1] done processing\n"
     ]
    },
    {
     "name": "stdout",
     "output_type": "stream",
     "text": [
      "It's underpredicted.\n",
      "Monthly Error: 24.84 Period MAE: 25.0\n",
      "It's overpredicted.\n",
      "Monthly Error: 58.95 Period MAE: 54.269999999999996\n",
      "It's underpredicted.\n",
      "Monthly Error: "
     ]
    },
    {
     "name": "stderr",
     "output_type": "stream",
     "text": [
      "22:52:50 - cmdstanpy - INFO - Chain [1] start processing\n"
     ]
    },
    {
     "name": "stdout",
     "output_type": "stream",
     "text": [
      "29.57 Period MAE: 22.09\n"
     ]
    },
    {
     "name": "stderr",
     "output_type": "stream",
     "text": [
      "22:52:50 - cmdstanpy - INFO - Chain [1] start processing\n",
      "22:52:51 - cmdstanpy - INFO - Chain [1] done processing\n",
      "22:52:51 - cmdstanpy - INFO - Chain [1] start processing\n",
      "22:52:51 - cmdstanpy - INFO - Chain [1] done processing\n",
      "22:52:52 - cmdstanpy - INFO - Chain [1] done processing\n"
     ]
    },
    {
     "name": "stdout",
     "output_type": "stream",
     "text": [
      "It's underpredicted.\n",
      "Monthly Error: 21.14 Period MAE: It's underpredicted.22.07\n",
      "\n",
      "Monthly Error: 29.29 Period MAE: 22.08\n"
     ]
    },
    {
     "name": "stderr",
     "output_type": "stream",
     "text": [
      "22:52:53 - cmdstanpy - INFO - Chain [1] start processing\n",
      "22:52:53 - cmdstanpy - INFO - Chain [1] start processing\n",
      "22:52:53 - cmdstanpy - INFO - Chain [1] done processing\n"
     ]
    },
    {
     "name": "stdout",
     "output_type": "stream",
     "text": [
      "It's underpredicted."
     ]
    },
    {
     "name": "stderr",
     "output_type": "stream",
     "text": [
      "22:52:54 - cmdstanpy - INFO - Chain [1] done processing\n"
     ]
    },
    {
     "name": "stdout",
     "output_type": "stream",
     "text": [
      "\n",
      "Monthly Error: 23.8 Period MAE: 19.54\n"
     ]
    },
    {
     "name": "stderr",
     "output_type": "stream",
     "text": [
      "22:52:54 - cmdstanpy - INFO - Chain [1] start processing\n",
      "22:52:55 - cmdstanpy - INFO - Chain [1] done processing\n"
     ]
    },
    {
     "name": "stdout",
     "output_type": "stream",
     "text": [
      "It's underpredicted.\n",
      "Monthly Error: 18.92 Period MAE: 18.58\n",
      "It's underpredicted.\n",
      "Monthly Error: 28.94 Period MAE: 20.31\n",
      "It's underpredicted."
     ]
    },
    {
     "name": "stderr",
     "output_type": "stream",
     "text": [
      "22:52:57 - cmdstanpy - INFO - Chain [1] start processing\n"
     ]
    },
    {
     "name": "stdout",
     "output_type": "stream",
     "text": [
      "\n",
      "Monthly Error: 23.43 Period MAE: 10.18\n"
     ]
    },
    {
     "name": "stderr",
     "output_type": "stream",
     "text": [
      "22:52:57 - cmdstanpy - INFO - Chain [1] start processing\n",
      "22:52:57 - cmdstanpy - INFO - Chain [1] start processing\n",
      "22:52:57 - cmdstanpy - INFO - Chain [1] done processing\n",
      "22:52:57 - cmdstanpy - INFO - Chain [1] done processing\n",
      "22:52:57 - cmdstanpy - INFO - Chain [1] done processing\n"
     ]
    },
    {
     "name": "stdout",
     "output_type": "stream",
     "text": [
      "It's underpredicted.\n",
      "Monthly Error: 23.21 Period MAE: 9.950000000000001\n"
     ]
    },
    {
     "name": "stderr",
     "output_type": "stream",
     "text": [
      "22:52:58 - cmdstanpy - INFO - Chain [1] start processing\n",
      "22:52:58 - cmdstanpy - INFO - Chain [1] done processing\n"
     ]
    },
    {
     "name": "stdout",
     "output_type": "stream",
     "text": [
      "It's underpredicted.\n",
      "Monthly Error: 21.21 Period MAE: 22.12\n",
      "It's underpredicted.\n",
      "Monthly Error: 21.63 Period MAE: 20.97\n"
     ]
    },
    {
     "name": "stderr",
     "output_type": "stream",
     "text": [
      "22:53:00 - cmdstanpy - INFO - Chain [1] start processing\n",
      "22:53:00 - cmdstanpy - INFO - Chain [1] start processing\n",
      "22:53:00 - cmdstanpy - INFO - Chain [1] done processing\n",
      "22:53:00 - cmdstanpy - INFO - Chain [1] done processing\n"
     ]
    },
    {
     "name": "stdout",
     "output_type": "stream",
     "text": [
      "It's underpredicted.\n",
      "Monthly Error: 23.67 Period MAE: 8.4\n",
      "It's overpredicted.It's underpredicted.\n",
      "\n",
      "Monthly Error:Monthly Error:  59.2223.05  Period MAE:Period MAE:  54.5823.98\n",
      "\n"
     ]
    },
    {
     "name": "stderr",
     "output_type": "stream",
     "text": [
      "22:53:03 - cmdstanpy - INFO - Chain [1] start processing\n",
      "22:53:03 - cmdstanpy - INFO - Chain [1] done processing\n",
      "22:53:03 - cmdstanpy - INFO - Chain [1] start processing\n",
      "22:53:04 - cmdstanpy - INFO - Chain [1] start processing\n",
      "22:53:05 - cmdstanpy - INFO - Chain [1] done processing\n"
     ]
    },
    {
     "name": "stdout",
     "output_type": "stream",
     "text": [
      "It's underpredicted.\n",
      "Monthly Error: 25.05 It's overpredicted.\n",
      "Period MAE:Monthly Error:  25.858.42\n",
      " Period MAE:"
     ]
    },
    {
     "name": "stderr",
     "output_type": "stream",
     "text": [
      "22:53:05 - cmdstanpy - INFO - Chain [1] done processing\n"
     ]
    },
    {
     "name": "stdout",
     "output_type": "stream",
     "text": [
      " 53.879999999999995\n"
     ]
    },
    {
     "name": "stderr",
     "output_type": "stream",
     "text": [
      "22:53:06 - cmdstanpy - INFO - Chain [1] start processing\n",
      "22:53:06 - cmdstanpy - INFO - Chain [1] done processing\n",
      "22:53:06 - cmdstanpy - INFO - Chain [1] start processing\n",
      "22:53:06 - cmdstanpy - INFO - Chain [1] done processing\n"
     ]
    },
    {
     "name": "stdout",
     "output_type": "stream",
     "text": [
      "It's underpredicted.\n",
      "Monthly Error: 20.05 Period MAE: 16.37\n",
      "It's underpredicted.\n",
      "Monthly Error: 24.72"
     ]
    },
    {
     "name": "stderr",
     "output_type": "stream",
     "text": [
      "22:53:08 - cmdstanpy - INFO - Chain [1] start processing\n"
     ]
    },
    {
     "name": "stdout",
     "output_type": "stream",
     "text": [
      " Period MAE: 25.490000000000002\n"
     ]
    },
    {
     "name": "stderr",
     "output_type": "stream",
     "text": [
      "22:53:09 - cmdstanpy - INFO - Chain [1] done processing\n"
     ]
    },
    {
     "name": "stdout",
     "output_type": "stream",
     "text": [
      "It's overpredicted.\n",
      "Monthly Error: 59.42 Period MAE: 54.74\n"
     ]
    },
    {
     "name": "stderr",
     "output_type": "stream",
     "text": [
      "22:53:10 - cmdstanpy - INFO - Chain [1] start processing\n"
     ]
    },
    {
     "name": "stdout",
     "output_type": "stream",
     "text": [
      "It's underpredicted.\n",
      "Monthly Error: 23.57 Period MAE: 8.799999999999999\n"
     ]
    },
    {
     "name": "stderr",
     "output_type": "stream",
     "text": [
      "22:53:10 - cmdstanpy - INFO - Chain [1] done processing\n",
      "22:53:10 - cmdstanpy - INFO - Chain [1] start processing\n",
      "22:53:11 - cmdstanpy - INFO - Chain [1] start processing\n",
      "22:53:11 - cmdstanpy - INFO - Chain [1] done processing\n",
      "22:53:11 - cmdstanpy - INFO - Chain [1] done processing\n"
     ]
    },
    {
     "name": "stdout",
     "output_type": "stream",
     "text": [
      "It's underpredicted.\n",
      "Monthly Error:It's underpredicted.\n",
      "Monthly Error:  28.0823.36  Period MAE:Period MAE: 25.650000000000002 \n",
      "9.73\n",
      "It's underpredicted.\n",
      "Monthly Error: 24.93 Period MAE: 25.080000000000002\n"
     ]
    },
    {
     "name": "stderr",
     "output_type": "stream",
     "text": [
      "22:53:13 - cmdstanpy - INFO - Chain [1] start processing\n",
      "22:53:13 - cmdstanpy - INFO - Chain [1] done processing\n",
      "22:53:13 - cmdstanpy - INFO - Chain [1] start processing\n",
      "22:53:14 - cmdstanpy - INFO - Chain [1] start processing\n",
      "22:53:14 - cmdstanpy - INFO - Chain [1] done processing\n",
      "22:53:14 - cmdstanpy - INFO - Chain [1] done processing\n"
     ]
    },
    {
     "name": "stdout",
     "output_type": "stream",
     "text": [
      "It's underpredicted.\n",
      "Monthly Error: 23.97 Period MAE: 7.91\n",
      "It's underpredicted.\n",
      "Monthly Error: 26.56 Period MAE: 23.830000000000002\n",
      "It's underpredicted.\n",
      "Monthly Error: 26.82 "
     ]
    },
    {
     "name": "stderr",
     "output_type": "stream",
     "text": [
      "22:53:17 - cmdstanpy - INFO - Chain [1] start processing\n"
     ]
    },
    {
     "name": "stdout",
     "output_type": "stream",
     "text": [
      "Period MAE: 12.379999999999999\n"
     ]
    },
    {
     "name": "stderr",
     "output_type": "stream",
     "text": [
      "22:53:17 - cmdstanpy - INFO - Chain [1] start processing\n",
      "22:53:17 - cmdstanpy - INFO - Chain [1] start processing\n",
      "22:53:17 - cmdstanpy - INFO - Chain [1] done processing\n",
      "22:53:18 - cmdstanpy - INFO - Chain [1] done processing\n"
     ]
    },
    {
     "name": "stdout",
     "output_type": "stream",
     "text": [
      "It's underpredicted.\n",
      "Monthly Error: 26.63 Period MAE: 12.36\n"
     ]
    },
    {
     "name": "stderr",
     "output_type": "stream",
     "text": [
      "22:53:18 - cmdstanpy - INFO - Chain [1] done processing\n",
      "22:53:18 - cmdstanpy - INFO - Chain [1] start processing\n",
      "22:53:18 - cmdstanpy - INFO - Chain [1] done processing\n"
     ]
    },
    {
     "name": "stdout",
     "output_type": "stream",
     "text": [
      "It's underpredicted.\n",
      "Monthly Error: 26.51 Period MAE: 24.3\n"
     ]
    },
    {
     "name": "stderr",
     "output_type": "stream",
     "text": [
      "22:53:20 - cmdstanpy - INFO - Chain [1] start processing\n"
     ]
    },
    {
     "name": "stdout",
     "output_type": "stream",
     "text": [
      "It's underpredicted.\n",
      "Monthly Error: 27.98 "
     ]
    },
    {
     "name": "stderr",
     "output_type": "stream",
     "text": [
      "22:53:20 - cmdstanpy - INFO - Chain [1] done processing\n"
     ]
    },
    {
     "name": "stdout",
     "output_type": "stream",
     "text": [
      "Period MAE: 25.28\n"
     ]
    },
    {
     "name": "stderr",
     "output_type": "stream",
     "text": [
      "22:53:21 - cmdstanpy - INFO - Chain [1] start processing\n",
      "22:53:21 - cmdstanpy - INFO - Chain [1] done processing\n"
     ]
    },
    {
     "name": "stdout",
     "output_type": "stream",
     "text": [
      "It's underpredicted.\n",
      "Monthly Error: 26.7 Period MAE: 12.47\n",
      "It's underpredicted.\n",
      "Monthly Error: 26.93 Period MAE: 25.590000000000003\n",
      "It's overpredicted.\n",
      "Monthly Error: 33.59 Period MAE: 12.67\n"
     ]
    },
    {
     "name": "stderr",
     "output_type": "stream",
     "text": [
      "22:53:23 - cmdstanpy - INFO - Chain [1] start processing\n",
      "22:53:23 - cmdstanpy - INFO - Chain [1] start processing\n",
      "22:53:24 - cmdstanpy - INFO - Chain [1] start processing\n",
      "22:53:24 - cmdstanpy - INFO - Chain [1] done processing\n",
      "22:53:24 - cmdstanpy - INFO - Chain [1] done processing\n",
      "22:53:24 - cmdstanpy - INFO - Chain [1] done processing\n"
     ]
    },
    {
     "name": "stdout",
     "output_type": "stream",
     "text": [
      "It's overpredicted.\n",
      "Monthly Error: 33.31 Period MAE: 12.16\n",
      "It's underpredicted.\n",
      "Monthly Error: 27.32 Period MAE: 24.6\n"
     ]
    },
    {
     "name": "stderr",
     "output_type": "stream",
     "text": [
      "22:53:26 - cmdstanpy - INFO - Chain [1] start processing\n",
      "22:53:26 - cmdstanpy - INFO - Chain [1] done processing\n",
      "22:53:26 - cmdstanpy - INFO - Chain [1] start processing\n"
     ]
    },
    {
     "name": "stdout",
     "output_type": "stream",
     "text": [
      "It's underpredicted.\n",
      "Monthly Error: 26.42 Period MAE: 24.26\n"
     ]
    },
    {
     "name": "stderr",
     "output_type": "stream",
     "text": [
      "22:53:27 - cmdstanpy - INFO - Chain [1] done processing\n",
      "22:53:27 - cmdstanpy - INFO - Chain [1] start processing\n",
      "22:53:28 - cmdstanpy - INFO - Chain [1] done processing\n"
     ]
    },
    {
     "name": "stdout",
     "output_type": "stream",
     "text": [
      "It's underpredicted.\n",
      "Monthly Error: 28.67 Period MAE: 27.47\n",
      "It's overpredicted.\n",
      "Monthly Error: 33.46 Period MAE: 12.540000000000001\n",
      "It's underpredicted.\n",
      "Monthly Error: 26.9 Period MAE: 11.559999999999999\n"
     ]
    },
    {
     "name": "stderr",
     "output_type": "stream",
     "text": [
      "22:53:30 - cmdstanpy - INFO - Chain [1] start processing\n",
      "22:53:30 - cmdstanpy - INFO - Chain [1] start processing\n",
      "22:53:30 - cmdstanpy - INFO - Chain [1] start processing\n",
      "22:53:31 - cmdstanpy - INFO - Chain [1] done processing\n",
      "22:53:31 - cmdstanpy - INFO - Chain [1] done processing\n",
      "22:53:31 - cmdstanpy - INFO - Chain [1] done processing\n"
     ]
    },
    {
     "name": "stdout",
     "output_type": "stream",
     "text": [
      "It's underpredicted.\n",
      "Monthly Error: 24.28 Period MAE: 23.66\n",
      "It's underpredicted.\n",
      "Monthly Error:26.79  Period MAE: 11.77\n"
     ]
    },
    {
     "name": "stderr",
     "output_type": "stream",
     "text": [
      "22:53:32 - cmdstanpy - INFO - Chain [1] start processing\n",
      "22:53:32 - cmdstanpy - INFO - Chain [1] done processing\n",
      "22:53:33 - cmdstanpy - INFO - Chain [1] start processing\n"
     ]
    },
    {
     "name": "stdout",
     "output_type": "stream",
     "text": [
      "It's underpredicted.\n",
      "Monthly Error: 28.05 Period MAE: 25.77\n"
     ]
    },
    {
     "name": "stderr",
     "output_type": "stream",
     "text": [
      "22:53:34 - cmdstanpy - INFO - Chain [1] done processing\n",
      "22:53:34 - cmdstanpy - INFO - Chain [1] start processing\n",
      "22:53:34 - cmdstanpy - INFO - Chain [1] done processing\n"
     ]
    },
    {
     "name": "stdout",
     "output_type": "stream",
     "text": [
      "It's underpredicted.\n",
      "It's underpredicted.Monthly Error:\n",
      " 26.91Monthly Error:  27.96 Period MAE:Period MAE:  13.33\n",
      "12.01\n",
      "It's underpredicted.Monthly Error:\n",
      " 21.24 Period MAE: 18.509999999999998\n"
     ]
    },
    {
     "name": "stderr",
     "output_type": "stream",
     "text": [
      "22:53:36 - cmdstanpy - INFO - Chain [1] start processing\n",
      "22:53:37 - cmdstanpy - INFO - Chain [1] done processing\n",
      "22:53:37 - cmdstanpy - INFO - Chain [1] start processing\n",
      "22:53:37 - cmdstanpy - INFO - Chain [1] start processing\n",
      "22:53:37 - cmdstanpy - INFO - Chain [1] done processing\n"
     ]
    },
    {
     "name": "stdout",
     "output_type": "stream",
     "text": [
      "It's underpredicted.\n",
      "Monthly Error: 25.32 Period MAE: 25.97\n"
     ]
    },
    {
     "name": "stderr",
     "output_type": "stream",
     "text": [
      "22:53:38 - cmdstanpy - INFO - Chain [1] done processing\n"
     ]
    },
    {
     "name": "stdout",
     "output_type": "stream",
     "text": [
      "It's underpredicted.\n",
      "Monthly Error: "
     ]
    },
    {
     "name": "stderr",
     "output_type": "stream",
     "text": [
      "22:53:39 - cmdstanpy - INFO - Chain [1] start processing\n"
     ]
    },
    {
     "name": "stdout",
     "output_type": "stream",
     "text": [
      "27.93 Period MAE: 13.44\n"
     ]
    },
    {
     "name": "stderr",
     "output_type": "stream",
     "text": [
      "22:53:39 - cmdstanpy - INFO - Chain [1] done processing\n",
      "22:53:39 - cmdstanpy - INFO - Chain [1] start processing\n",
      "22:53:40 - cmdstanpy - INFO - Chain [1] done processing\n"
     ]
    },
    {
     "name": "stdout",
     "output_type": "stream",
     "text": [
      "It's underpredicted.\n",
      "Monthly Error: 22.27 Period MAE: 20.39\n"
     ]
    },
    {
     "name": "stderr",
     "output_type": "stream",
     "text": [
      "22:53:41 - cmdstanpy - INFO - Chain [1] start processing\n"
     ]
    },
    {
     "name": "stdout",
     "output_type": "stream",
     "text": [
      "It's underpredicted."
     ]
    },
    {
     "name": "stderr",
     "output_type": "stream",
     "text": [
      "22:53:42 - cmdstanpy - INFO - Chain [1] done processing\n"
     ]
    },
    {
     "name": "stdout",
     "output_type": "stream",
     "text": [
      "\n",
      "Monthly Error: 26.68 Period MAE: 27.3\n",
      "It's underpredicted.\n",
      "Monthly Error: 27.94 Period MAE: 13.389999999999999\n",
      "It's underpredicted.\n",
      "Monthly Error: 27.2 Period MAE: 2.5700000000000003\n"
     ]
    },
    {
     "name": "stderr",
     "output_type": "stream",
     "text": [
      "22:53:43 - cmdstanpy - INFO - Chain [1] start processing\n",
      "22:53:44 - cmdstanpy - INFO - Chain [1] start processing\n",
      "22:53:44 - cmdstanpy - INFO - Chain [1] start processing\n",
      "22:53:44 - cmdstanpy - INFO - Chain [1] done processing\n",
      "22:53:44 - cmdstanpy - INFO - Chain [1] done processing\n",
      "22:53:44 - cmdstanpy - INFO - Chain [1] done processing\n"
     ]
    },
    {
     "name": "stdout",
     "output_type": "stream",
     "text": [
      "It's underpredicted.\n",
      "Monthly Error: 24.9 It's underpredicted.Period MAE: \n",
      "24.8Monthly Error:\n",
      " 27.19 Period MAE: 3.2\n"
     ]
    },
    {
     "name": "stderr",
     "output_type": "stream",
     "text": [
      "22:53:47 - cmdstanpy - INFO - Chain [1] start processing\n"
     ]
    },
    {
     "name": "stdout",
     "output_type": "stream",
     "text": [
      "It's underpredicted.\n",
      "Monthly Error: 26.23 Period MAE: "
     ]
    },
    {
     "name": "stderr",
     "output_type": "stream",
     "text": [
      "22:53:47 - cmdstanpy - INFO - Chain [1] done processing\n"
     ]
    },
    {
     "name": "stdout",
     "output_type": "stream",
     "text": [
      "26.87\n"
     ]
    },
    {
     "name": "stderr",
     "output_type": "stream",
     "text": [
      "22:53:47 - cmdstanpy - INFO - Chain [1] start processing\n",
      "22:53:48 - cmdstanpy - INFO - Chain [1] start processing\n",
      "22:53:48 - cmdstanpy - INFO - Chain [1] done processing\n",
      "22:53:48 - cmdstanpy - INFO - Chain [1] done processing\n"
     ]
    },
    {
     "name": "stdout",
     "output_type": "stream",
     "text": [
      "It's underpredicted.\n",
      "Monthly Error: 27.0 Period MAE: 3.44\n",
      "It's underpredicted.\n",
      "Monthly Error: 22.34 Period MAE: 21.33\n",
      "It's underpredicted.\n",
      "Monthly Error: 27.87 Period MAE: 11.790000000000001\n"
     ]
    },
    {
     "name": "stderr",
     "output_type": "stream",
     "text": [
      "22:53:51 - cmdstanpy - INFO - Chain [1] start processing\n",
      "22:53:51 - cmdstanpy - INFO - Chain [1] start processing\n",
      "22:53:51 - cmdstanpy - INFO - Chain [1] start processing\n",
      "22:53:52 - cmdstanpy - INFO - Chain [1] done processing\n",
      "22:53:52 - cmdstanpy - INFO - Chain [1] done processing\n"
     ]
    },
    {
     "name": "stdout",
     "output_type": "stream",
     "text": [
      "It's underpredicted.\n",
      "Monthly Error:"
     ]
    },
    {
     "name": "stderr",
     "output_type": "stream",
     "text": [
      "22:53:52 - cmdstanpy - INFO - Chain [1] done processing\n"
     ]
    },
    {
     "name": "stdout",
     "output_type": "stream",
     "text": [
      " 27.68 Period MAE: 12.53\n"
     ]
    },
    {
     "name": "stderr",
     "output_type": "stream",
     "text": [
      "22:53:53 - cmdstanpy - INFO - Chain [1] start processing\n"
     ]
    },
    {
     "name": "stdout",
     "output_type": "stream",
     "text": [
      "It's underpredicted.\n",
      "Monthly Error: 18.25 Period MAE: 4.21\n"
     ]
    },
    {
     "name": "stderr",
     "output_type": "stream",
     "text": [
      "22:53:53 - cmdstanpy - INFO - Chain [1] done processing\n",
      "22:53:53 - cmdstanpy - INFO - Chain [1] start processing\n",
      "22:53:54 - cmdstanpy - INFO - Chain [1] done processing\n"
     ]
    },
    {
     "name": "stdout",
     "output_type": "stream",
     "text": [
      "It's underpredicted.\n",
      "Monthly Error: 22.56 Period MAE: 21.0\n"
     ]
    },
    {
     "name": "stderr",
     "output_type": "stream",
     "text": [
      "22:53:55 - cmdstanpy - INFO - Chain [1] start processing\n",
      "22:53:55 - cmdstanpy - INFO - Chain [1] done processing\n"
     ]
    },
    {
     "name": "stdout",
     "output_type": "stream",
     "text": [
      "It's underpredicted.\n",
      "Monthly Error: 18.12 Period MAE: 11.27\n",
      "It's underpredicted.\n",
      "Monthly Error: 27.72 Period MAE: 12.72\n",
      "It's underpredicted.\n",
      "Monthly Error: 29.65 Period MAE: 23.16\n"
     ]
    },
    {
     "name": "stderr",
     "output_type": "stream",
     "text": [
      "22:53:57 - cmdstanpy - INFO - Chain [1] start processing\n",
      "22:53:57 - cmdstanpy - INFO - Chain [1] start processing\n",
      "22:53:57 - cmdstanpy - INFO - Chain [1] done processing\n",
      "22:53:58 - cmdstanpy - INFO - Chain [1] done processing\n",
      "22:53:58 - cmdstanpy - INFO - Chain [1] start processing\n"
     ]
    },
    {
     "name": "stdout",
     "output_type": "stream",
     "text": [
      "It's underpredicted."
     ]
    },
    {
     "name": "stderr",
     "output_type": "stream",
     "text": [
      "22:53:58 - cmdstanpy - INFO - Chain [1] done processing\n"
     ]
    },
    {
     "name": "stdout",
     "output_type": "stream",
     "text": [
      "\n",
      "Monthly Error: 26.52 Period MAE: 23.68\n"
     ]
    },
    {
     "name": "stderr",
     "output_type": "stream",
     "text": [
      "22:53:59 - cmdstanpy - INFO - Chain [1] start processing\n"
     ]
    },
    {
     "name": "stdout",
     "output_type": "stream",
     "text": [
      "It's underpredicted.\n"
     ]
    },
    {
     "name": "stderr",
     "output_type": "stream",
     "text": [
      "22:53:59 - cmdstanpy - INFO - Chain [1] done processing\n"
     ]
    },
    {
     "name": "stdout",
     "output_type": "stream",
     "text": [
      "Monthly Error: 18.42 Period MAE: 4.9799999999999995\n"
     ]
    },
    {
     "name": "stderr",
     "output_type": "stream",
     "text": [
      "22:53:59 - cmdstanpy - INFO - Chain [1] start processing\n"
     ]
    },
    {
     "name": "stdout",
     "output_type": "stream",
     "text": [
      "It's underpredicted.\n",
      "Monthly Error: 19.41"
     ]
    },
    {
     "name": "stderr",
     "output_type": "stream",
     "text": [
      "22:54:00 - cmdstanpy - INFO - Chain [1] done processing\n"
     ]
    },
    {
     "name": "stdout",
     "output_type": "stream",
     "text": [
      " Period MAE: 3.4000000000000004\n"
     ]
    },
    {
     "name": "stderr",
     "output_type": "stream",
     "text": [
      "22:54:01 - cmdstanpy - INFO - Chain [1] start processing\n",
      "22:54:01 - cmdstanpy - INFO - Chain [1] done processing\n"
     ]
    },
    {
     "name": "stdout",
     "output_type": "stream",
     "text": [
      "It's underpredicted.\n",
      "Monthly Error: 17.81 Period MAE: 9.700000000000001\n",
      "It's overpredicted.\n",
      "Monthly Error: 63.1 Period MAE: 58.330000000000005\n",
      "It's underpredicted."
     ]
    },
    {
     "name": "stderr",
     "output_type": "stream",
     "text": [
      "22:54:03 - cmdstanpy - INFO - Chain [1] start processing\n"
     ]
    },
    {
     "name": "stdout",
     "output_type": "stream",
     "text": [
      "\n",
      "Monthly Error: 25.98 Period MAE: 13.750000000000002\n"
     ]
    },
    {
     "name": "stderr",
     "output_type": "stream",
     "text": [
      "22:54:04 - cmdstanpy - INFO - Chain [1] start processing\n",
      "22:54:04 - cmdstanpy - INFO - Chain [1] done processing\n"
     ]
    },
    {
     "name": "stdout",
     "output_type": "stream",
     "text": [
      "It's overpredicted.\n",
      "Monthly Error: 58.87"
     ]
    },
    {
     "name": "stderr",
     "output_type": "stream",
     "text": [
      "22:54:05 - cmdstanpy - INFO - Chain [1] done processing\n"
     ]
    },
    {
     "name": "stdout",
     "output_type": "stream",
     "text": [
      " Period MAE: 54.35\n"
     ]
    },
    {
     "name": "stderr",
     "output_type": "stream",
     "text": [
      "22:54:05 - cmdstanpy - INFO - Chain [1] start processing\n"
     ]
    },
    {
     "name": "stdout",
     "output_type": "stream",
     "text": [
      "It's underpredicted.\n",
      "Monthly Error: 22.2 Period MAE: 13.08\n"
     ]
    },
    {
     "name": "stderr",
     "output_type": "stream",
     "text": [
      "22:54:05 - cmdstanpy - INFO - Chain [1] start processing\n",
      "22:54:06 - cmdstanpy - INFO - Chain [1] done processing\n",
      "22:54:06 - cmdstanpy - INFO - Chain [1] done processing\n",
      "22:54:06 - cmdstanpy - INFO - Chain [1] start processing\n",
      "22:54:06 - cmdstanpy - INFO - Chain [1] done processing\n"
     ]
    },
    {
     "name": "stdout",
     "output_type": "stream",
     "text": [
      "It's underpredicted.\n",
      "Monthly Error: 19.41 Period MAE: 3.3300000000000005\n",
      "It's underpredicted.\n",
      "Monthly Error: 22.41 Period MAE: 18.95\n"
     ]
    },
    {
     "name": "stderr",
     "output_type": "stream",
     "text": [
      "22:54:08 - cmdstanpy - INFO - Chain [1] start processing\n",
      "22:54:08 - cmdstanpy - INFO - Chain [1] done processing\n",
      "22:54:09 - cmdstanpy - INFO - Chain [1] start processing\n"
     ]
    },
    {
     "name": "stdout",
     "output_type": "stream",
     "text": [
      "It's underpredicted.\n",
      "Monthly Error: 31.47 Period MAE: 8.450000000000001\n"
     ]
    },
    {
     "name": "stderr",
     "output_type": "stream",
     "text": [
      "22:54:09 - cmdstanpy - INFO - Chain [1] done processing\n"
     ]
    },
    {
     "name": "stdout",
     "output_type": "stream",
     "text": [
      "It's overpredicted.\n",
      "Monthly Error: 60.91 Period MAE: 56.11000000000001\n"
     ]
    },
    {
     "name": "stderr",
     "output_type": "stream",
     "text": [
      "22:54:10 - cmdstanpy - INFO - Chain [1] start processing\n",
      "22:54:10 - cmdstanpy - INFO - Chain [1] start processing\n",
      "22:54:10 - cmdstanpy - INFO - Chain [1] done processing\n"
     ]
    },
    {
     "name": "stdout",
     "output_type": "stream",
     "text": [
      "It's underpredicted.\n",
      "Monthly Error: 23.78 Period MAE: 11.020000000000001\n"
     ]
    },
    {
     "name": "stderr",
     "output_type": "stream",
     "text": [
      "22:54:11 - cmdstanpy - INFO - Chain [1] done processing\n",
      "22:54:12 - cmdstanpy - INFO - Chain [1] start processing\n"
     ]
    },
    {
     "name": "stdout",
     "output_type": "stream",
     "text": [
      "It's underpredicted.\n",
      "Monthly Error: 19.76 Period MAE: 16.919999999999998\n"
     ]
    },
    {
     "name": "stderr",
     "output_type": "stream",
     "text": [
      "22:54:12 - cmdstanpy - INFO - Chain [1] done processing\n"
     ]
    },
    {
     "name": "stdout",
     "output_type": "stream",
     "text": [
      "It's underpredicted.\n"
     ]
    },
    {
     "name": "stderr",
     "output_type": "stream",
     "text": [
      "22:54:12 - cmdstanpy - INFO - Chain [1] start processing\n"
     ]
    },
    {
     "name": "stdout",
     "output_type": "stream",
     "text": [
      "Monthly Error: 33.02 Period MAE: 2.01\n"
     ]
    },
    {
     "name": "stderr",
     "output_type": "stream",
     "text": [
      "22:54:13 - cmdstanpy - INFO - Chain [1] done processing\n",
      "22:54:13 - cmdstanpy - INFO - Chain [1] start processing\n",
      "22:54:13 - cmdstanpy - INFO - Chain [1] done processing\n"
     ]
    },
    {
     "name": "stdout",
     "output_type": "stream",
     "text": [
      "It's underpredicted.\n",
      "Monthly Error: 20.16 Period MAE: 20.549999999999997\n",
      "It's underpredicted.It's overpredicted.\n",
      "\n",
      "Monthly Error:Monthly Error:  35.64 24.22Period MAE:  Period MAE:10.45\n",
      " 5.99\n"
     ]
    },
    {
     "name": "stderr",
     "output_type": "stream",
     "text": [
      "22:54:15 - cmdstanpy - INFO - Chain [1] start processing\n",
      "22:54:16 - cmdstanpy - INFO - Chain [1] start processing\n",
      "22:54:16 - cmdstanpy - INFO - Chain [1] done processing\n",
      "22:54:16 - cmdstanpy - INFO - Chain [1] done processing\n",
      "22:54:17 - cmdstanpy - INFO - Chain [1] start processing\n"
     ]
    },
    {
     "name": "stdout",
     "output_type": "stream",
     "text": [
      "It's underpredicted.\n",
      "Monthly Error: 23.15 Period MAE: 8.42"
     ]
    },
    {
     "name": "stderr",
     "output_type": "stream",
     "text": [
      "22:54:17 - cmdstanpy - INFO - Chain [1] done processing\n"
     ]
    },
    {
     "name": "stdout",
     "output_type": "stream",
     "text": [
      "\n",
      "It's underpredicted.\n",
      "Monthly Error: 22.46"
     ]
    },
    {
     "name": "stderr",
     "output_type": "stream",
     "text": [
      "22:54:18 - cmdstanpy - INFO - Chain [1] start processing\n"
     ]
    },
    {
     "name": "stdout",
     "output_type": "stream",
     "text": [
      " Period MAE: 22.470000000000002\n"
     ]
    },
    {
     "name": "stderr",
     "output_type": "stream",
     "text": [
      "22:54:18 - cmdstanpy - INFO - Chain [1] done processing\n"
     ]
    },
    {
     "name": "stdout",
     "output_type": "stream",
     "text": [
      "It's underpredicted.\n",
      "Monthly Error: 21.09 Period MAE: 14.99\n"
     ]
    },
    {
     "name": "stderr",
     "output_type": "stream",
     "text": [
      "22:54:19 - cmdstanpy - INFO - Chain [1] start processing\n",
      "22:54:19 - cmdstanpy - INFO - Chain [1] done processing\n",
      "22:54:19 - cmdstanpy - INFO - Chain [1] start processing\n",
      "22:54:19 - cmdstanpy - INFO - Chain [1] done processing\n"
     ]
    },
    {
     "name": "stdout",
     "output_type": "stream",
     "text": [
      "It's underpredicted.\n",
      "Monthly Error: 26.83 Period MAE: 27.779999999999998\n"
     ]
    },
    {
     "name": "stderr",
     "output_type": "stream",
     "text": [
      "22:54:22 - cmdstanpy - INFO - Chain [1] start processing\n"
     ]
    },
    {
     "name": "stdout",
     "output_type": "stream",
     "text": [
      "It's overpredicted.\n",
      "Monthly Error: 63.05 Period MAE:It's overpredicted. \n",
      "Monthly Error:58.269999999999996 \n",
      "27.21 Period MAE: 0.9299999999999999\n"
     ]
    },
    {
     "name": "stderr",
     "output_type": "stream",
     "text": [
      "22:54:22 - cmdstanpy - INFO - Chain [1] start processing\n",
      "22:54:23 - cmdstanpy - INFO - Chain [1] done processing\n",
      "22:54:23 - cmdstanpy - INFO - Chain [1] done processing\n",
      "22:54:23 - cmdstanpy - INFO - Chain [1] start processing\n"
     ]
    },
    {
     "name": "stdout",
     "output_type": "stream",
     "text": [
      "It's overpredicted.\n",
      "Monthly Error: 59.96 Period MAE: 55.43\n"
     ]
    },
    {
     "name": "stderr",
     "output_type": "stream",
     "text": [
      "22:54:24 - cmdstanpy - INFO - Chain [1] done processing\n",
      "22:54:24 - cmdstanpy - INFO - Chain [1] start processing\n"
     ]
    },
    {
     "name": "stdout",
     "output_type": "stream",
     "text": [
      "It's underpredicted."
     ]
    },
    {
     "name": "stderr",
     "output_type": "stream",
     "text": [
      "22:54:24 - cmdstanpy - INFO - Chain [1] done processing\n"
     ]
    },
    {
     "name": "stdout",
     "output_type": "stream",
     "text": [
      "\n",
      "Monthly Error: 21.63 Period MAE: 17.919999999999998\n",
      "It's underpredicted.\n",
      "Monthly Error:"
     ]
    },
    {
     "name": "stderr",
     "output_type": "stream",
     "text": [
      "22:54:25 - cmdstanpy - INFO - Chain [1] start processing\n"
     ]
    },
    {
     "name": "stdout",
     "output_type": "stream",
     "text": [
      " 22.31 Period MAE: 21.17\n"
     ]
    },
    {
     "name": "stderr",
     "output_type": "stream",
     "text": [
      "22:54:25 - cmdstanpy - INFO - Chain [1] done processing\n",
      "22:54:25 - cmdstanpy - INFO - Chain [1] start processing\n",
      "22:54:26 - cmdstanpy - INFO - Chain [1] done processing\n"
     ]
    },
    {
     "name": "stdout",
     "output_type": "stream",
     "text": [
      "It's underpredicted.\n",
      "Monthly Error: 22.42 Period MAE: 22.939999999999998\n",
      "It's overpredicted.\n",
      "Monthly Error: 61.28 Period MAE: 56.48It's overpredicted.\n",
      "\n",
      "Monthly Error: 32.19 Period MAE: 8.450000000000001\n"
     ]
    },
    {
     "name": "stderr",
     "output_type": "stream",
     "text": [
      "22:54:28 - cmdstanpy - INFO - Chain [1] start processing\n",
      "22:54:28 - cmdstanpy - INFO - Chain [1] start processing\n",
      "22:54:29 - cmdstanpy - INFO - Chain [1] done processing\n"
     ]
    },
    {
     "name": "stdout",
     "output_type": "stream",
     "text": [
      "It's overpredicted.\n",
      "Monthly Error: 62.34 Period MAE: 51.559999999999995\n"
     ]
    },
    {
     "name": "stderr",
     "output_type": "stream",
     "text": [
      "22:54:29 - cmdstanpy - INFO - Chain [1] start processing\n",
      "22:54:29 - cmdstanpy - INFO - Chain [1] done processing\n",
      "22:54:29 - cmdstanpy - INFO - Chain [1] start processing\n",
      "22:54:30 - cmdstanpy - INFO - Chain [1] done processing\n",
      "22:54:30 - cmdstanpy - INFO - Chain [1] done processing\n"
     ]
    },
    {
     "name": "stdout",
     "output_type": "stream",
     "text": [
      "It's underpredicted.\n",
      "Monthly Error: 23.55 Period MAE: 18.759999999999998\n"
     ]
    },
    {
     "name": "stderr",
     "output_type": "stream",
     "text": [
      "22:54:31 - cmdstanpy - INFO - Chain [1] start processing\n"
     ]
    },
    {
     "name": "stdout",
     "output_type": "stream",
     "text": [
      "It's underpredicted.\n",
      "Monthly Error: 23.26 Period MAE: 17.53"
     ]
    },
    {
     "name": "stderr",
     "output_type": "stream",
     "text": [
      "22:54:31 - cmdstanpy - INFO - Chain [1] done processing\n"
     ]
    },
    {
     "name": "stdout",
     "output_type": "stream",
     "text": [
      "\n"
     ]
    },
    {
     "name": "stderr",
     "output_type": "stream",
     "text": [
      "22:54:32 - cmdstanpy - INFO - Chain [1] start processing\n",
      "22:54:33 - cmdstanpy - INFO - Chain [1] done processing\n"
     ]
    },
    {
     "name": "stdout",
     "output_type": "stream",
     "text": [
      "It's underpredicted.\n",
      "Monthly Error: 28.16 Period MAE: 28.51\n",
      "It's overpredicted.\n",
      "Monthly Error: 44.26 Period MAE: 37.9\n",
      "It's overpredicted.\n",
      "Monthly Error: 69.04"
     ]
    },
    {
     "name": "stderr",
     "output_type": "stream",
     "text": [
      "22:54:35 - cmdstanpy - INFO - Chain [1] start processing\n"
     ]
    },
    {
     "name": "stdout",
     "output_type": "stream",
     "text": [
      " Period MAE: 58.599999999999994\n"
     ]
    },
    {
     "name": "stderr",
     "output_type": "stream",
     "text": [
      "22:54:35 - cmdstanpy - INFO - Chain [1] start processing\n",
      "22:54:35 - cmdstanpy - INFO - Chain [1] start processing\n",
      "22:54:35 - cmdstanpy - INFO - Chain [1] done processing\n",
      "22:54:35 - cmdstanpy - INFO - Chain [1] done processing\n",
      "22:54:35 - cmdstanpy - INFO - Chain [1] done processing\n"
     ]
    },
    {
     "name": "stdout",
     "output_type": "stream",
     "text": [
      "It's overpredicted.\n",
      "Monthly Error: 53.19 Period MAE: 47.61\n",
      "It's underpredicted.\n",
      "Monthly Error: 22.02 Period MAE: 11.83\n"
     ]
    },
    {
     "name": "stderr",
     "output_type": "stream",
     "text": [
      "22:54:37 - cmdstanpy - INFO - Chain [1] start processing\n",
      "22:54:37 - cmdstanpy - INFO - Chain [1] done processing\n"
     ]
    },
    {
     "name": "stdout",
     "output_type": "stream",
     "text": [
      "It's underpredicted.\n",
      "Monthly Error: 23.92 "
     ]
    },
    {
     "name": "stderr",
     "output_type": "stream",
     "text": [
      "22:54:37 - cmdstanpy - INFO - Chain [1] start processing\n"
     ]
    },
    {
     "name": "stdout",
     "output_type": "stream",
     "text": [
      "Period MAE: 18.63\n"
     ]
    },
    {
     "name": "stderr",
     "output_type": "stream",
     "text": [
      "22:54:38 - cmdstanpy - INFO - Chain [1] done processing\n",
      "22:54:38 - cmdstanpy - INFO - Chain [1] start processing\n"
     ]
    },
    {
     "name": "stdout",
     "output_type": "stream",
     "text": [
      "It's overpredicted."
     ]
    },
    {
     "name": "stderr",
     "output_type": "stream",
     "text": [
      "22:54:39 - cmdstanpy - INFO - Chain [1] done processing\n"
     ]
    },
    {
     "name": "stdout",
     "output_type": "stream",
     "text": [
      "\n",
      "Monthly Error: 55.15 Period MAE: 49.39\n",
      "It's underpredicted.\n",
      "Monthly Error: 23.57 Period MAE: 20.11\n"
     ]
    },
    {
     "name": "stderr",
     "output_type": "stream",
     "text": [
      "22:54:40 - cmdstanpy - INFO - Chain [1] start processing\n"
     ]
    },
    {
     "name": "stdout",
     "output_type": "stream",
     "text": [
      "It's overpredicted.\n",
      "Monthly Error: 59.6 "
     ]
    },
    {
     "name": "stderr",
     "output_type": "stream",
     "text": [
      "22:54:41 - cmdstanpy - INFO - Chain [1] start processing\n"
     ]
    },
    {
     "name": "stdout",
     "output_type": "stream",
     "text": [
      "Period MAE: 54.410000000000004"
     ]
    },
    {
     "name": "stderr",
     "output_type": "stream",
     "text": [
      "22:54:41 - cmdstanpy - INFO - Chain [1] done processing\n"
     ]
    },
    {
     "name": "stdout",
     "output_type": "stream",
     "text": [
      "\n"
     ]
    },
    {
     "name": "stderr",
     "output_type": "stream",
     "text": [
      "22:54:41 - cmdstanpy - INFO - Chain [1] start processing\n",
      "22:54:41 - cmdstanpy - INFO - Chain [1] done processing\n",
      "22:54:41 - cmdstanpy - INFO - Chain [1] done processing\n"
     ]
    },
    {
     "name": "stdout",
     "output_type": "stream",
     "text": [
      "It's overpredicted.\n",
      "Monthly Error: 64.39 Period MAE: 58.75\n",
      "It's underpredicted.\n",
      "Monthly Error: 23.02 Period MAE:"
     ]
    },
    {
     "name": "stderr",
     "output_type": "stream",
     "text": [
      "22:54:42 - cmdstanpy - INFO - Chain [1] start processing\n"
     ]
    },
    {
     "name": "stdout",
     "output_type": "stream",
     "text": [
      " It's underpredicted.14.729999999999999\n",
      "\n",
      "Monthly Error: 24.66 Period MAE: "
     ]
    },
    {
     "name": "stderr",
     "output_type": "stream",
     "text": [
      "22:54:43 - cmdstanpy - INFO - Chain [1] done processing\n"
     ]
    },
    {
     "name": "stdout",
     "output_type": "stream",
     "text": [
      "20.68\n"
     ]
    },
    {
     "name": "stderr",
     "output_type": "stream",
     "text": [
      "22:54:43 - cmdstanpy - INFO - Chain [1] start processing\n",
      "22:54:43 - cmdstanpy - INFO - Chain [1] start processing\n",
      "22:54:43 - cmdstanpy - INFO - Chain [1] done processing\n",
      "22:54:44 - cmdstanpy - INFO - Chain [1] done processing\n"
     ]
    },
    {
     "name": "stdout",
     "output_type": "stream",
     "text": [
      "It's overpredicted.\n",
      "Monthly Error: 70.33 Period MAE: 64.23\n",
      "It's underpredicted.\n",
      "Monthly Error: 29.86It's overpredicted. Period MAE:\n",
      " Monthly Error:30.15\n",
      " 75.34 Period MAE: 69.43\n"
     ]
    },
    {
     "name": "stderr",
     "output_type": "stream",
     "text": [
      "22:54:45 - cmdstanpy - INFO - Chain [1] start processing\n",
      "22:54:45 - cmdstanpy - INFO - Chain [1] start processing\n",
      "22:54:46 - cmdstanpy - INFO - Chain [1] start processing\n",
      "22:54:46 - cmdstanpy - INFO - Chain [1] done processing\n",
      "22:54:46 - cmdstanpy - INFO - Chain [1] done processing\n"
     ]
    },
    {
     "name": "stdout",
     "output_type": "stream",
     "text": [
      "It's overpredicted.\n",
      "Monthly Error: 75.66 Period MAE: 69.72\n"
     ]
    },
    {
     "name": "stderr",
     "output_type": "stream",
     "text": [
      "22:54:46 - cmdstanpy - INFO - Chain [1] start processing\n",
      "22:54:46 - cmdstanpy - INFO - Chain [1] done processing\n",
      "22:54:46 - cmdstanpy - INFO - Chain [1] done processing\n"
     ]
    },
    {
     "name": "stdout",
     "output_type": "stream",
     "text": [
      "It's underpredicted.\n",
      "Monthly Error: 23.12 Period MAE: 21.72\n"
     ]
    },
    {
     "name": "stderr",
     "output_type": "stream",
     "text": [
      "22:54:47 - cmdstanpy - INFO - Chain [1] start processing\n",
      "22:54:47 - cmdstanpy - INFO - Chain [1] done processing\n"
     ]
    },
    {
     "name": "stdout",
     "output_type": "stream",
     "text": [
      "It's underpredicted.\n",
      "Monthly Error: 26.03 Period MAE: 21.84\n"
     ]
    },
    {
     "name": "stderr",
     "output_type": "stream",
     "text": [
      "22:54:48 - cmdstanpy - INFO - Chain [1] start processing\n",
      "22:54:48 - cmdstanpy - INFO - Chain [1] done processing\n"
     ]
    },
    {
     "name": "stdout",
     "output_type": "stream",
     "text": [
      "It's underpredicted.\n",
      "Monthly Error: 26.52 Period MAE: 27.21\n",
      "It's overpredicted.\n",
      "Monthly Error: 78.32 Period MAE: 72.32\n",
      "It's overpredicted.\n",
      "Monthly Error: 43.83 Period MAE:"
     ]
    },
    {
     "name": "stderr",
     "output_type": "stream",
     "text": [
      "22:54:49 - cmdstanpy - INFO - Chain [1] start processing\n"
     ]
    },
    {
     "name": "stdout",
     "output_type": "stream",
     "text": [
      " 39.53\n"
     ]
    },
    {
     "name": "stderr",
     "output_type": "stream",
     "text": [
      "22:54:50 - cmdstanpy - INFO - Chain [1] start processing\n",
      "22:54:50 - cmdstanpy - INFO - Chain [1] start processing\n",
      "22:54:50 - cmdstanpy - INFO - Chain [1] done processing\n",
      "22:54:50 - cmdstanpy - INFO - Chain [1] done processing\n",
      "22:54:50 - cmdstanpy - INFO - Chain [1] done processing\n"
     ]
    },
    {
     "name": "stdout",
     "output_type": "stream",
     "text": [
      "It's overpredicted.\n",
      "Monthly Error: 46.83 Period MAE: 42.52\n"
     ]
    },
    {
     "name": "stderr",
     "output_type": "stream",
     "text": [
      "22:54:51 - cmdstanpy - INFO - Chain [1] start processing\n",
      "22:54:51 - cmdstanpy - INFO - Chain [1] done processing\n"
     ]
    },
    {
     "name": "stdout",
     "output_type": "stream",
     "text": [
      "It's underpredicted.\n",
      "Monthly Error: 21.19 Period MAE: 16.21\n",
      "It's underpredicted.\n",
      "Monthly Error: 22.36 Period MAE: 19.09\n"
     ]
    },
    {
     "name": "stderr",
     "output_type": "stream",
     "text": [
      "22:54:52 - cmdstanpy - INFO - Chain [1] start processing\n",
      "22:54:52 - cmdstanpy - INFO - Chain [1] start processing\n",
      "22:54:52 - cmdstanpy - INFO - Chain [1] done processing\n",
      "22:54:52 - cmdstanpy - INFO - Chain [1] done processing\n"
     ]
    },
    {
     "name": "stdout",
     "output_type": "stream",
     "text": [
      "It's overpredicted.\n",
      "Monthly Error: 45.27 Period MAE: 40.98It's underpredicted.\n",
      "\n",
      "Monthly Error: 21.97It's overpredicted. \n",
      "Period MAE:Monthly Error:  22.72000000000000268.76\n",
      " Period MAE: 63.470000000000006\n"
     ]
    },
    {
     "name": "stderr",
     "output_type": "stream",
     "text": [
      "22:54:54 - cmdstanpy - INFO - Chain [1] start processing\n",
      "22:54:54 - cmdstanpy - INFO - Chain [1] done processing\n",
      "22:54:55 - cmdstanpy - INFO - Chain [1] start processing\n"
     ]
    },
    {
     "name": "stdout",
     "output_type": "stream",
     "text": [
      "It's overpredicted.\n",
      "Monthly Error:"
     ]
    },
    {
     "name": "stderr",
     "output_type": "stream",
     "text": [
      "22:54:55 - cmdstanpy - INFO - Chain [1] start processing\n"
     ]
    },
    {
     "name": "stdout",
     "output_type": "stream",
     "text": [
      " 67.43 Period MAE: 62.11\n"
     ]
    },
    {
     "name": "stderr",
     "output_type": "stream",
     "text": [
      "22:54:55 - cmdstanpy - INFO - Chain [1] done processing\n",
      "22:54:55 - cmdstanpy - INFO - Chain [1] start processing\n",
      "22:54:55 - cmdstanpy - INFO - Chain [1] done processing\n",
      "22:54:55 - cmdstanpy - INFO - Chain [1] done processing\n"
     ]
    },
    {
     "name": "stdout",
     "output_type": "stream",
     "text": [
      "It's underpredicted.\n",
      "Monthly Error: 23.46 Period MAE: 22.35\n"
     ]
    },
    {
     "name": "stderr",
     "output_type": "stream",
     "text": [
      "22:54:56 - cmdstanpy - INFO - Chain [1] start processing\n",
      "22:54:57 - cmdstanpy - INFO - Chain [1] done processing\n"
     ]
    },
    {
     "name": "stdout",
     "output_type": "stream",
     "text": [
      "It's underpredicted.\n",
      "Monthly Error: 21.74 Period MAE: 16.12\n"
     ]
    },
    {
     "name": "stderr",
     "output_type": "stream",
     "text": [
      "22:54:57 - cmdstanpy - INFO - Chain [1] start processing\n"
     ]
    },
    {
     "name": "stdout",
     "output_type": "stream",
     "text": [
      "It's overpredicted.\n"
     ]
    },
    {
     "name": "stderr",
     "output_type": "stream",
     "text": [
      "22:54:58 - cmdstanpy - INFO - Chain [1] done processing\n"
     ]
    },
    {
     "name": "stdout",
     "output_type": "stream",
     "text": [
      "Monthly Error: 81.59 Period MAE: 75.9\n",
      "It's underpredicted.\n",
      "Monthly Error: 27.84 Period MAE: 28.49\n",
      "It's overpredicted.\n",
      "Monthly Error: 76.23 Period MAE: 70.45\n"
     ]
    },
    {
     "name": "stderr",
     "output_type": "stream",
     "text": [
      "22:54:58 - cmdstanpy - INFO - Chain [1] start processing\n",
      "22:54:59 - cmdstanpy - INFO - Chain [1] start processing\n",
      "22:54:59 - cmdstanpy - INFO - Chain [1] done processing\n",
      "22:54:59 - cmdstanpy - INFO - Chain [1] start processing\n"
     ]
    },
    {
     "name": "stdout",
     "output_type": "stream",
     "text": [
      "It's underpredicted.\n",
      "Monthly Error: "
     ]
    },
    {
     "name": "stderr",
     "output_type": "stream",
     "text": [
      "22:54:59 - cmdstanpy - INFO - Chain [1] done processing\n"
     ]
    },
    {
     "name": "stdout",
     "output_type": "stream",
     "text": [
      "18.63"
     ]
    },
    {
     "name": "stderr",
     "output_type": "stream",
     "text": [
      "22:54:59 - cmdstanpy - INFO - Chain [1] done processing\n"
     ]
    },
    {
     "name": "stdout",
     "output_type": "stream",
     "text": [
      " Period MAE: 5.9799999999999995\n"
     ]
    },
    {
     "name": "stderr",
     "output_type": "stream",
     "text": [
      "22:55:00 - cmdstanpy - INFO - Chain [1] start processing\n",
      "22:55:00 - cmdstanpy - INFO - Chain [1] done processing\n"
     ]
    },
    {
     "name": "stdout",
     "output_type": "stream",
     "text": [
      "It's overpredicted.\n",
      "Monthly Error: 82.05 Period MAE: 76.44\n",
      "It's underpredicted.\n",
      "Monthly Error: 22.85 Period MAE: 20.369999999999997\n"
     ]
    },
    {
     "name": "stderr",
     "output_type": "stream",
     "text": [
      "22:55:01 - cmdstanpy - INFO - Chain [1] start processing\n",
      "22:55:02 - cmdstanpy - INFO - Chain [1] start processing\n",
      "22:55:02 - cmdstanpy - INFO - Chain [1] done processing\n",
      "22:55:02 - cmdstanpy - INFO - Chain [1] done processing\n"
     ]
    },
    {
     "name": "stdout",
     "output_type": "stream",
     "text": [
      "It's overpredicted.\n",
      "Monthly Error: 80.98 Period MAE: 75.38\n",
      "It's underpredicted.\n",
      "Monthly Error: 18.03 Period MAE: 10.79\n",
      "It's underpredicted.\n",
      "Monthly Error: 29.45 Period MAE: 22.770000000000003\n"
     ]
    },
    {
     "name": "stderr",
     "output_type": "stream",
     "text": [
      "22:55:03 - cmdstanpy - INFO - Chain [1] start processing\n",
      "22:55:04 - cmdstanpy - INFO - Chain [1] done processing\n",
      "22:55:04 - cmdstanpy - INFO - Chain [1] start processing\n",
      "22:55:04 - cmdstanpy - INFO - Chain [1] start processing\n",
      "22:55:05 - cmdstanpy - INFO - Chain [1] done processing\n",
      "22:55:05 - cmdstanpy - INFO - Chain [1] done processing\n"
     ]
    },
    {
     "name": "stdout",
     "output_type": "stream",
     "text": [
      "It's underpredicted.\n",
      "Monthly Error: 18.24 Period MAE: 4.109999999999999\n",
      "It's underpredicted.\n",
      "Monthly Error: 26.55 Period MAE: 23.68\n"
     ]
    },
    {
     "name": "stderr",
     "output_type": "stream",
     "text": [
      "22:55:05 - cmdstanpy - INFO - Chain [1] start processing\n",
      "22:55:06 - cmdstanpy - INFO - Chain [1] done processing\n",
      "22:55:06 - cmdstanpy - INFO - Chain [1] start processing\n",
      "22:55:06 - cmdstanpy - INFO - Chain [1] done processing\n"
     ]
    },
    {
     "name": "stdout",
     "output_type": "stream",
     "text": [
      "It's underpredicted.\n",
      "Monthly Error: 19.56 Period MAE: 4.16\n"
     ]
    },
    {
     "name": "stderr",
     "output_type": "stream",
     "text": [
      "22:55:07 - cmdstanpy - INFO - Chain [1] start processing\n",
      "22:55:07 - cmdstanpy - INFO - Chain [1] done processing\n"
     ]
    },
    {
     "name": "stdout",
     "output_type": "stream",
     "text": [
      "It's underpredicted.\n",
      "Monthly Error:It's underpredicted. \n",
      "18.15Monthly Error:  Period MAE:26.02  Period MAE: 11.3514.56\n",
      "\n",
      "It's overpredicted.\n",
      "Monthly Error: 62.99 Period MAE: 58.220000000000006"
     ]
    },
    {
     "name": "stderr",
     "output_type": "stream",
     "text": [
      "22:55:08 - cmdstanpy - INFO - Chain [1] start processing\n"
     ]
    },
    {
     "name": "stdout",
     "output_type": "stream",
     "text": [
      "\n"
     ]
    },
    {
     "name": "stderr",
     "output_type": "stream",
     "text": [
      "22:55:08 - cmdstanpy - INFO - Chain [1] start processing\n",
      "22:55:08 - cmdstanpy - INFO - Chain [1] start processing\n",
      "22:55:08 - cmdstanpy - INFO - Chain [1] done processing\n",
      "22:55:09 - cmdstanpy - INFO - Chain [1] done processing\n",
      "22:55:09 - cmdstanpy - INFO - Chain [1] done processing\n"
     ]
    },
    {
     "name": "stdout",
     "output_type": "stream",
     "text": [
      "It's underpredicted.\n",
      "Monthly Error: 22.34 Period MAE: 14.069999999999999\n"
     ]
    },
    {
     "name": "stderr",
     "output_type": "stream",
     "text": [
      "22:55:10 - cmdstanpy - INFO - Chain [1] start processing\n"
     ]
    },
    {
     "name": "stdout",
     "output_type": "stream",
     "text": [
      "It's overpredicted.\n",
      "Monthly Error: 58.59 Period MAE: 54.08It's underpredicted.\n",
      "\n",
      "Monthly Error: "
     ]
    },
    {
     "name": "stderr",
     "output_type": "stream",
     "text": [
      "22:55:10 - cmdstanpy - INFO - Chain [1] done processing\n"
     ]
    },
    {
     "name": "stdout",
     "output_type": "stream",
     "text": [
      "19.43 Period MAE: 3.46\n"
     ]
    },
    {
     "name": "stderr",
     "output_type": "stream",
     "text": [
      "22:55:10 - cmdstanpy - INFO - Chain [1] start processing\n",
      "22:55:10 - cmdstanpy - INFO - Chain [1] start processing\n",
      "22:55:11 - cmdstanpy - INFO - Chain [1] done processing\n",
      "22:55:11 - cmdstanpy - INFO - Chain [1] done processing\n"
     ]
    },
    {
     "name": "stdout",
     "output_type": "stream",
     "text": [
      "It's overpredicted.\n",
      "Monthly Error: 60.87 Period MAE: 56.08\n"
     ]
    },
    {
     "name": "stderr",
     "output_type": "stream",
     "text": [
      "22:55:12 - cmdstanpy - INFO - Chain [1] start processing\n"
     ]
    },
    {
     "name": "stdout",
     "output_type": "stream",
     "text": [
      "It's underpredicted.\n",
      "Monthly Error: 24.31 Period MAE: 22.439999999999998\n",
      "It's underpredicted.\n",
      " Monthly Error:31.18 Period MAE: 11.07\n"
     ]
    },
    {
     "name": "stderr",
     "output_type": "stream",
     "text": [
      "22:55:13 - cmdstanpy - INFO - Chain [1] start processing\n",
      "22:55:13 - cmdstanpy - INFO - Chain [1] done processing\n",
      "22:55:13 - cmdstanpy - INFO - Chain [1] start processing\n",
      "22:55:13 - cmdstanpy - INFO - Chain [1] done processing\n"
     ]
    },
    {
     "name": "stdout",
     "output_type": "stream",
     "text": [
      "It's underpredicted.\n",
      "Monthly Error: 29.04 Period MAE: 12.08\n",
      "It's underpredicted.\n",
      "Monthly Error: 19.72 Period MAE: 16.939999999999998"
     ]
    },
    {
     "name": "stderr",
     "output_type": "stream",
     "text": [
      "22:55:14 - cmdstanpy - INFO - Chain [1] done processing\n"
     ]
    },
    {
     "name": "stdout",
     "output_type": "stream",
     "text": [
      "\n"
     ]
    },
    {
     "name": "stderr",
     "output_type": "stream",
     "text": [
      "22:55:14 - cmdstanpy - INFO - Chain [1] start processing\n",
      "22:55:14 - cmdstanpy - INFO - Chain [1] done processing\n",
      "22:55:14 - cmdstanpy - INFO - Chain [1] start processing\n",
      "22:55:14 - cmdstanpy - INFO - Chain [1] done processing\n"
     ]
    },
    {
     "name": "stdout",
     "output_type": "stream",
     "text": [
      "It's underpredicted.\n",
      "Monthly Error: 23.95It's underpredicted.\n",
      "Monthly Error:  Period MAE: 20.17 Period MAE:13.22\n",
      " 20.57\n"
     ]
    },
    {
     "name": "stderr",
     "output_type": "stream",
     "text": [
      "22:55:16 - cmdstanpy - INFO - Chain [1] start processing\n",
      "22:55:16 - cmdstanpy - INFO - Chain [1] done processing\n",
      "22:55:16 - cmdstanpy - INFO - Chain [1] start processing\n"
     ]
    },
    {
     "name": "stdout",
     "output_type": "stream",
     "text": [
      "It's underpredicted.\n",
      "Monthly Error: 31.53 Period MAE: 2.1999999999999997\n",
      "It's underpredicted.\n",
      "Monthly Error: 24.14 Period MAE: 6.29\n"
     ]
    },
    {
     "name": "stderr",
     "output_type": "stream",
     "text": [
      "22:55:17 - cmdstanpy - INFO - Chain [1] done processing\n",
      "22:55:17 - cmdstanpy - INFO - Chain [1] start processing\n",
      "22:55:17 - cmdstanpy - INFO - Chain [1] start processing\n",
      "22:55:17 - cmdstanpy - INFO - Chain [1] done processing\n",
      "22:55:18 - cmdstanpy - INFO - Chain [1] done processing\n"
     ]
    },
    {
     "name": "stdout",
     "output_type": "stream",
     "text": [
      "It's underpredicted.\n",
      "Monthly Error: 20.89 Period MAE: 13.84\n"
     ]
    },
    {
     "name": "stderr",
     "output_type": "stream",
     "text": [
      "22:55:18 - cmdstanpy - INFO - Chain [1] start processing\n"
     ]
    },
    {
     "name": "stdout",
     "output_type": "stream",
     "text": [
      "It's underpredicted.\n",
      "Monthly Error: 24.07 Period MAE: 6.329999999999999\n"
     ]
    },
    {
     "name": "stderr",
     "output_type": "stream",
     "text": [
      "22:55:18 - cmdstanpy - INFO - Chain [1] done processing\n"
     ]
    },
    {
     "name": "stdout",
     "output_type": "stream",
     "text": [
      "It's underpredicted.\n",
      "Monthly Error: 22.36 Period MAE: 22.33\n"
     ]
    },
    {
     "name": "stderr",
     "output_type": "stream",
     "text": [
      "22:55:19 - cmdstanpy - INFO - Chain [1] start processing\n",
      "22:55:19 - cmdstanpy - INFO - Chain [1] done processing\n",
      "22:55:19 - cmdstanpy - INFO - Chain [1] start processing\n",
      "22:55:19 - cmdstanpy - INFO - Chain [1] done processing\n"
     ]
    },
    {
     "name": "stdout",
     "output_type": "stream",
     "text": [
      "It's underpredicted.\n",
      "Monthly Error: 26.8 Period MAE: 27.77\n",
      "It's overpredicted.\n",
      "Monthly Error: 27.23 Period MAE: 0.74\n",
      "It's overpredicted.\n",
      "Monthly Error: 63.09 Period MAE: 58.309999999999995\n"
     ]
    },
    {
     "name": "stderr",
     "output_type": "stream",
     "text": [
      "22:55:21 - cmdstanpy - INFO - Chain [1] start processing\n",
      "22:55:21 - cmdstanpy - INFO - Chain [1] start processing\n",
      "22:55:21 - cmdstanpy - INFO - Chain [1] start processing\n",
      "22:55:22 - cmdstanpy - INFO - Chain [1] done processing\n",
      "22:55:22 - cmdstanpy - INFO - Chain [1] done processing\n"
     ]
    },
    {
     "name": "stdout",
     "output_type": "stream",
     "text": [
      "It's overpredicted.\n",
      "Monthly Error: 60.19 Period MAE: 55.67999999999999\n"
     ]
    },
    {
     "name": "stderr",
     "output_type": "stream",
     "text": [
      "22:55:22 - cmdstanpy - INFO - Chain [1] done processing\n",
      "22:55:22 - cmdstanpy - INFO - Chain [1] start processing\n",
      "22:55:22 - cmdstanpy - INFO - Chain [1] done processing\n"
     ]
    },
    {
     "name": "stdout",
     "output_type": "stream",
     "text": [
      "It's underpredicted.\n",
      "Monthly Error: 21.52 Period MAE: 17.03\n"
     ]
    },
    {
     "name": "stderr",
     "output_type": "stream",
     "text": [
      "22:55:23 - cmdstanpy - INFO - Chain [1] start processing\n"
     ]
    },
    {
     "name": "stdout",
     "output_type": "stream",
     "text": [
      "It's underpredicted.\n",
      "Monthly Error: "
     ]
    },
    {
     "name": "stderr",
     "output_type": "stream",
     "text": [
      "22:55:24 - cmdstanpy - INFO - Chain [1] done processing\n"
     ]
    },
    {
     "name": "stdout",
     "output_type": "stream",
     "text": [
      "22.11 Period MAE: 20.76\n"
     ]
    },
    {
     "name": "stderr",
     "output_type": "stream",
     "text": [
      "22:55:24 - cmdstanpy - INFO - Chain [1] start processing\n"
     ]
    },
    {
     "name": "stdout",
     "output_type": "stream",
     "text": [
      "It's overpredicted.\n",
      "Monthly Error: 31.79 Period MAE: 7.84\n"
     ]
    },
    {
     "name": "stderr",
     "output_type": "stream",
     "text": [
      "22:55:25 - cmdstanpy - INFO - Chain [1] done processing\n"
     ]
    },
    {
     "name": "stdout",
     "output_type": "stream",
     "text": [
      "It's underpredicted.\n",
      "Monthly Error: 23.53 Period MAE: 24.22\n",
      "It's overpredicted.\n",
      "Monthly Error: 61.12 Period MAE: 56.330000000000005\n"
     ]
    },
    {
     "name": "stderr",
     "output_type": "stream",
     "text": [
      "22:55:25 - cmdstanpy - INFO - Chain [1] start processing\n",
      "22:55:25 - cmdstanpy - INFO - Chain [1] start processing\n",
      "22:55:26 - cmdstanpy - INFO - Chain [1] done processing\n",
      "22:55:26 - cmdstanpy - INFO - Chain [1] start processing\n",
      "22:55:26 - cmdstanpy - INFO - Chain [1] done processing\n",
      "22:55:26 - cmdstanpy - INFO - Chain [1] done processing\n"
     ]
    },
    {
     "name": "stdout",
     "output_type": "stream",
     "text": [
      "It's underpredicted.\n",
      "Monthly Error: 23.3 Period MAE:It's overpredicted. \n",
      "18.32Monthly Error:\n",
      " 50.92 Period MAE: 37.97\n"
     ]
    },
    {
     "name": "stderr",
     "output_type": "stream",
     "text": [
      "22:55:27 - cmdstanpy - INFO - Chain [1] start processing\n",
      "22:55:27 - cmdstanpy - INFO - Chain [1] done processing\n",
      "22:55:27 - cmdstanpy - INFO - Chain [1] start processing\n"
     ]
    },
    {
     "name": "stdout",
     "output_type": "stream",
     "text": [
      "It's underpredicted.\n",
      "Monthly Error: 23.18 Period MAE: "
     ]
    },
    {
     "name": "stderr",
     "output_type": "stream",
     "text": [
      "22:55:28 - cmdstanpy - INFO - Chain [1] done processing\n"
     ]
    },
    {
     "name": "stdout",
     "output_type": "stream",
     "text": [
      "16.13\n"
     ]
    },
    {
     "name": "stderr",
     "output_type": "stream",
     "text": [
      "22:55:28 - cmdstanpy - INFO - Chain [1] start processing\n",
      "22:55:28 - cmdstanpy - INFO - Chain [1] done processing\n"
     ]
    },
    {
     "name": "stdout",
     "output_type": "stream",
     "text": [
      "It's underpredicted.\n",
      "Monthly Error: 26.75 Period MAE: 26.87\n",
      "It's overpredicted.\n",
      "Monthly Error: 31.65 Period MAE: 7.95"
     ]
    },
    {
     "name": "stderr",
     "output_type": "stream",
     "text": [
      "22:55:29 - cmdstanpy - INFO - Chain [1] start processing\n"
     ]
    },
    {
     "name": "stdout",
     "output_type": "stream",
     "text": [
      "\n",
      "It's overpredicted.\n",
      "Monthly Error: 44.07 Period MAE: 37.74\n"
     ]
    },
    {
     "name": "stderr",
     "output_type": "stream",
     "text": [
      "22:55:30 - cmdstanpy - INFO - Chain [1] start processing\n",
      "22:55:30 - cmdstanpy - INFO - Chain [1] done processing\n",
      "22:55:31 - cmdstanpy - INFO - Chain [1] start processing\n"
     ]
    },
    {
     "name": "stdout",
     "output_type": "stream",
     "text": [
      "It's overpredicted.\n",
      "Monthly Error: 45.49 Period MAE:"
     ]
    },
    {
     "name": "stderr",
     "output_type": "stream",
     "text": [
      "22:55:31 - cmdstanpy - INFO - Chain [1] done processing\n"
     ]
    },
    {
     "name": "stdout",
     "output_type": "stream",
     "text": [
      " 40.02\n"
     ]
    },
    {
     "name": "stderr",
     "output_type": "stream",
     "text": [
      "22:55:31 - cmdstanpy - INFO - Chain [1] done processing\n"
     ]
    },
    {
     "name": "stdout",
     "output_type": "stream",
     "text": [
      "It's underpredicted.\n",
      "Monthly Error: 22.27 "
     ]
    },
    {
     "name": "stderr",
     "output_type": "stream",
     "text": [
      "22:55:31 - cmdstanpy - INFO - Chain [1] start processing\n"
     ]
    },
    {
     "name": "stdout",
     "output_type": "stream",
     "text": [
      "Period MAE: 12.989999999999998\n"
     ]
    },
    {
     "name": "stderr",
     "output_type": "stream",
     "text": [
      "22:55:32 - cmdstanpy - INFO - Chain [1] done processing\n",
      "22:55:32 - cmdstanpy - INFO - Chain [1] start processing\n"
     ]
    },
    {
     "name": "stdout",
     "output_type": "stream",
     "text": [
      "It's underpredicted."
     ]
    },
    {
     "name": "stderr",
     "output_type": "stream",
     "text": [
      "22:55:33 - cmdstanpy - INFO - Chain [1] done processing\n"
     ]
    },
    {
     "name": "stdout",
     "output_type": "stream",
     "text": [
      "\n",
      "Monthly Error: 24.01 Period MAE: 18.759999999999998\n"
     ]
    },
    {
     "name": "stderr",
     "output_type": "stream",
     "text": [
      "22:55:33 - cmdstanpy - INFO - Chain [1] start processing\n",
      "22:55:34 - cmdstanpy - INFO - Chain [1] done processing\n"
     ]
    },
    {
     "name": "stdout",
     "output_type": "stream",
     "text": [
      "It's overpredicted.\n",
      "Monthly Error: 63.38 It's overpredicted.Period MAE:\n",
      "Monthly Error:  57.94000000000000551.25It's underpredicted. \n",
      "\n",
      "Period MAE: Monthly Error:\n",
      "45.73 23.99 Period MAE:21.07 \n"
     ]
    },
    {
     "name": "stderr",
     "output_type": "stream",
     "text": [
      "22:55:34 - cmdstanpy - INFO - Chain [1] start processing\n",
      "22:55:34 - cmdstanpy - INFO - Chain [1] start processing\n",
      "22:55:35 - cmdstanpy - INFO - Chain [1] done processing\n",
      "22:55:35 - cmdstanpy - INFO - Chain [1] start processing\n",
      "22:55:35 - cmdstanpy - INFO - Chain [1] done processing\n",
      "22:55:35 - cmdstanpy - INFO - Chain [1] done processing\n"
     ]
    },
    {
     "name": "stdout",
     "output_type": "stream",
     "text": [
      "It's overpredicted.\n",
      "Monthly Error: 67.67 Period MAE: It's underpredicted.61.83\n",
      "\n",
      "Monthly Error: 25.0 Period MAE: 21.33\n",
      "It's underpredicted.\n",
      "Monthly Error: 23.04"
     ]
    },
    {
     "name": "stderr",
     "output_type": "stream",
     "text": [
      "22:55:36 - cmdstanpy - INFO - Chain [1] start processing\n"
     ]
    },
    {
     "name": "stdout",
     "output_type": "stream",
     "text": [
      " Period MAE: 15.86\n"
     ]
    },
    {
     "name": "stderr",
     "output_type": "stream",
     "text": [
      "22:55:36 - cmdstanpy - INFO - Chain [1] done processing\n",
      "22:55:36 - cmdstanpy - INFO - Chain [1] start processing\n",
      "22:55:37 - cmdstanpy - INFO - Chain [1] start processing\n",
      "22:55:37 - cmdstanpy - INFO - Chain [1] done processing\n",
      "22:55:37 - cmdstanpy - INFO - Chain [1] done processing\n"
     ]
    },
    {
     "name": "stdout",
     "output_type": "stream",
     "text": [
      "It's underpredicted.\n",
      "Monthly Error:It's overpredicted. 26.89\n",
      "Monthly Error:  64.52Period MAE:  27.169999999999998Period MAE:\n",
      " 58.87\n",
      "It's overpredicted.\n",
      "Monthly Error: 61.73 Period MAE: 56.26\n"
     ]
    },
    {
     "name": "stderr",
     "output_type": "stream",
     "text": [
      "22:55:39 - cmdstanpy - INFO - Chain [1] start processing\n",
      "22:55:39 - cmdstanpy - INFO - Chain [1] start processing\n",
      "22:55:39 - cmdstanpy - INFO - Chain [1] start processing\n",
      "22:55:39 - cmdstanpy - INFO - Chain [1] done processing\n",
      "22:55:39 - cmdstanpy - INFO - Chain [1] done processing\n"
     ]
    },
    {
     "name": "stdout",
     "output_type": "stream",
     "text": [
      "It's overpredicted.\n"
     ]
    },
    {
     "name": "stderr",
     "output_type": "stream",
     "text": [
      "22:55:40 - cmdstanpy - INFO - Chain [1] done processing\n"
     ]
    },
    {
     "name": "stdout",
     "output_type": "stream",
     "text": [
      "Monthly Error: 68.67 Period MAE: 63.0\n",
      "It's underpredicted.\n"
     ]
    },
    {
     "name": "stderr",
     "output_type": "stream",
     "text": [
      "22:55:40 - cmdstanpy - INFO - Chain [1] start processing\n"
     ]
    },
    {
     "name": "stdout",
     "output_type": "stream",
     "text": [
      "Monthly Error: 21.82 Period MAE: 18.8\n"
     ]
    },
    {
     "name": "stderr",
     "output_type": "stream",
     "text": [
      "22:55:40 - cmdstanpy - INFO - Chain [1] done processing\n",
      "22:55:41 - cmdstanpy - INFO - Chain [1] start processing\n",
      "22:55:41 - cmdstanpy - INFO - Chain [1] done processing\n"
     ]
    },
    {
     "name": "stdout",
     "output_type": "stream",
     "text": [
      "It's underpredicted.\n",
      "Monthly Error: 24.37 Period MAE: 19.41\n",
      "It's underpredicted.\n",
      "Monthly Error: 26.48 Period MAE: "
     ]
    },
    {
     "name": "stderr",
     "output_type": "stream",
     "text": [
      "22:55:42 - cmdstanpy - INFO - Chain [1] start processing\n"
     ]
    },
    {
     "name": "stdout",
     "output_type": "stream",
     "text": [
      "27.16\n"
     ]
    },
    {
     "name": "stderr",
     "output_type": "stream",
     "text": [
      "22:55:42 - cmdstanpy - INFO - Chain [1] done processing\n"
     ]
    },
    {
     "name": "stdout",
     "output_type": "stream",
     "text": [
      "It's overpredicted.\n",
      "Monthly Error: 74.1 Period MAE: 68.21000000000001\n"
     ]
    },
    {
     "name": "stderr",
     "output_type": "stream",
     "text": [
      "22:55:43 - cmdstanpy - INFO - Chain [1] start processing\n"
     ]
    },
    {
     "name": "stdout",
     "output_type": "stream",
     "text": [
      "It's overpredicted.\n",
      "Monthly Error: 39.71 Period MAE: 33.57\n"
     ]
    },
    {
     "name": "stderr",
     "output_type": "stream",
     "text": [
      "22:55:43 - cmdstanpy - INFO - Chain [1] start processing\n",
      "22:55:44 - cmdstanpy - INFO - Chain [1] start processing\n",
      "22:55:44 - cmdstanpy - INFO - Chain [1] done processing\n",
      "22:55:44 - cmdstanpy - INFO - Chain [1] done processing\n",
      "22:55:44 - cmdstanpy - INFO - Chain [1] done processing\n"
     ]
    },
    {
     "name": "stdout",
     "output_type": "stream",
     "text": [
      "It's overpredicted.\n",
      "Monthly Error: 48.3 Period MAE: 43.97\n",
      "It's underpredicted.\n"
     ]
    },
    {
     "name": "stderr",
     "output_type": "stream",
     "text": [
      "22:55:45 - cmdstanpy - INFO - Chain [1] start processing\n"
     ]
    },
    {
     "name": "stdout",
     "output_type": "stream",
     "text": [
      "Monthly Error: 21.31 Period MAE: 16.56\n"
     ]
    },
    {
     "name": "stderr",
     "output_type": "stream",
     "text": [
      "22:55:45 - cmdstanpy - INFO - Chain [1] done processing\n"
     ]
    },
    {
     "name": "stdout",
     "output_type": "stream",
     "text": [
      "It's underpredicted.\n",
      "Monthly Error: 22.88 Period MAE: 20.69\n"
     ]
    },
    {
     "name": "stderr",
     "output_type": "stream",
     "text": [
      "22:55:46 - cmdstanpy - INFO - Chain [1] start processing\n",
      "22:55:46 - cmdstanpy - INFO - Chain [1] start processing\n",
      "22:55:46 - cmdstanpy - INFO - Chain [1] done processing\n",
      "22:55:46 - cmdstanpy - INFO - Chain [1] done processing\n"
     ]
    },
    {
     "name": "stdout",
     "output_type": "stream",
     "text": [
      "It's underpredicted.It's overpredicted.\n",
      "Monthly Error:\n",
      " Monthly Error:22.39  Period MAE: 23.08000000000000247.31\n",
      " Period MAE: 42.970000000000006\n",
      "It's overpredicted.\n",
      "Monthly Error: 68.56 Period MAE: 63.24999999999999\n"
     ]
    },
    {
     "name": "stderr",
     "output_type": "stream",
     "text": [
      "22:55:48 - cmdstanpy - INFO - Chain [1] start processing\n",
      "22:55:48 - cmdstanpy - INFO - Chain [1] start processing\n",
      "22:55:48 - cmdstanpy - INFO - Chain [1] start processing\n"
     ]
    },
    {
     "name": "stdout",
     "output_type": "stream",
     "text": [
      "It's overpredicted."
     ]
    },
    {
     "name": "stderr",
     "output_type": "stream",
     "text": [
      "22:55:49 - cmdstanpy - INFO - Chain [1] done processing\n"
     ]
    },
    {
     "name": "stdout",
     "output_type": "stream",
     "text": [
      "\n",
      "Monthly Error: 76.4 Period MAE:"
     ]
    },
    {
     "name": "stderr",
     "output_type": "stream",
     "text": [
      "22:55:49 - cmdstanpy - INFO - Chain [1] done processing\n"
     ]
    },
    {
     "name": "stdout",
     "output_type": "stream",
     "text": [
      " 70.67\n"
     ]
    },
    {
     "name": "stderr",
     "output_type": "stream",
     "text": [
      "22:55:49 - cmdstanpy - INFO - Chain [1] start processing\n",
      "22:55:49 - cmdstanpy - INFO - Chain [1] done processing\n",
      "22:55:49 - cmdstanpy - INFO - Chain [1] done processing\n"
     ]
    },
    {
     "name": "stdout",
     "output_type": "stream",
     "text": [
      "It's underpredicted.\n",
      "Monthly Error: 23.3 Period MAE: 22.400000000000002\n"
     ]
    },
    {
     "name": "stderr",
     "output_type": "stream",
     "text": [
      "22:55:50 - cmdstanpy - INFO - Chain [1] start processing\n"
     ]
    },
    {
     "name": "stdout",
     "output_type": "stream",
     "text": [
      "It's underpredicted.\n",
      "Monthly Error: 22.1 "
     ]
    },
    {
     "name": "stderr",
     "output_type": "stream",
     "text": [
      "22:55:50 - cmdstanpy - INFO - Chain [1] done processing\n"
     ]
    },
    {
     "name": "stdout",
     "output_type": "stream",
     "text": [
      "Period MAE: 18.16\n"
     ]
    },
    {
     "name": "stderr",
     "output_type": "stream",
     "text": [
      "22:55:51 - cmdstanpy - INFO - Chain [1] start processing\n",
      "22:55:51 - cmdstanpy - INFO - Chain [1] done processing\n"
     ]
    },
    {
     "name": "stdout",
     "output_type": "stream",
     "text": [
      "It's underpredicted.\n",
      "Monthly Error: 26.79 Period MAE: 27.47\n",
      "It's overpredicted.\n",
      "Monthly Error: 59.67 Period MAE: 54.900000000000006\n",
      "It's overpredicted.\n",
      "Monthly Error: 72.32 Period MAE: 66.75\n"
     ]
    },
    {
     "name": "stderr",
     "output_type": "stream",
     "text": [
      "22:55:52 - cmdstanpy - INFO - Chain [1] start processing\n",
      "22:55:53 - cmdstanpy - INFO - Chain [1] start processing\n",
      "22:55:53 - cmdstanpy - INFO - Chain [1] start processing\n",
      "22:55:53 - cmdstanpy - INFO - Chain [1] done processing\n",
      "22:55:53 - cmdstanpy - INFO - Chain [1] done processing\n"
     ]
    },
    {
     "name": "stdout",
     "output_type": "stream",
     "text": [
      "It's overpredicted.\n",
      "Monthly Error: 75.3"
     ]
    },
    {
     "name": "stderr",
     "output_type": "stream",
     "text": [
      "22:55:53 - cmdstanpy - INFO - Chain [1] done processing\n"
     ]
    },
    {
     "name": "stdout",
     "output_type": "stream",
     "text": [
      " Period MAE: 69.99\n"
     ]
    },
    {
     "name": "stderr",
     "output_type": "stream",
     "text": [
      "22:55:54 - cmdstanpy - INFO - Chain [1] start processing\n",
      "22:55:54 - cmdstanpy - INFO - Chain [1] done processing\n"
     ]
    },
    {
     "name": "stdout",
     "output_type": "stream",
     "text": [
      "It's underpredicted.\n",
      "Monthly Error: 18.47 Period MAE: 5.35\n"
     ]
    },
    {
     "name": "stderr",
     "output_type": "stream",
     "text": [
      "22:55:55 - cmdstanpy - INFO - Chain [1] start processing\n",
      "22:55:55 - cmdstanpy - INFO - Chain [1] done processing\n"
     ]
    },
    {
     "name": "stdout",
     "output_type": "stream",
     "text": [
      "It's underpredicted.\n",
      "Monthly Error: 22.82 It's overpredicted.\n",
      "Period MAE:Monthly Error:  20.59999999999999877.59\n",
      " Period MAE: 72.13000000000001\n"
     ]
    },
    {
     "name": "stderr",
     "output_type": "stream",
     "text": [
      "22:55:56 - cmdstanpy - INFO - Chain [1] start processing\n",
      "22:55:56 - cmdstanpy - INFO - Chain [1] done processing\n"
     ]
    },
    {
     "name": "stdout",
     "output_type": "stream",
     "text": [
      "It's underpredicted."
     ]
    },
    {
     "name": "stderr",
     "output_type": "stream",
     "text": [
      "22:55:56 - cmdstanpy - INFO - Chain [1] start processing\n"
     ]
    },
    {
     "name": "stdout",
     "output_type": "stream",
     "text": [
      "\n",
      "It's underpredicted.Monthly Error:\n",
      " 29.39Monthly Error: 18.36 Period MAE: Period MAE:  10.059999999999999\n",
      "22.78\n"
     ]
    },
    {
     "name": "stderr",
     "output_type": "stream",
     "text": [
      "22:55:56 - cmdstanpy - INFO - Chain [1] start processing\n",
      "22:55:56 - cmdstanpy - INFO - Chain [1] done processing\n",
      "22:55:57 - cmdstanpy - INFO - Chain [1] done processing\n",
      "22:55:57 - cmdstanpy - INFO - Chain [1] start processing\n",
      "22:55:57 - cmdstanpy - INFO - Chain [1] done processing\n"
     ]
    },
    {
     "name": "stdout",
     "output_type": "stream",
     "text": [
      "It's underpredicted.It's underpredicted.\n",
      "\n",
      "Monthly Error:Monthly Error: 18.69  18.4 Period MAE: Period MAE:5.21 4.9799999999999995\n",
      "\n"
     ]
    },
    {
     "name": "stderr",
     "output_type": "stream",
     "text": [
      "22:55:58 - cmdstanpy - INFO - Chain [1] start processing\n",
      "22:55:58 - cmdstanpy - INFO - Chain [1] start processing\n",
      "22:55:58 - cmdstanpy - INFO - Chain [1] done processing\n"
     ]
    },
    {
     "name": "stdout",
     "output_type": "stream",
     "text": [
      "It's underpredicted.\n",
      "Monthly Error: 28.71 "
     ]
    },
    {
     "name": "stderr",
     "output_type": "stream",
     "text": [
      "22:55:59 - cmdstanpy - INFO - Chain [1] done processing\n"
     ]
    },
    {
     "name": "stdout",
     "output_type": "stream",
     "text": [
      "Period MAE: 22.89\n"
     ]
    },
    {
     "name": "stderr",
     "output_type": "stream",
     "text": [
      "22:55:59 - cmdstanpy - INFO - Chain [1] start processing\n",
      "22:55:59 - cmdstanpy - INFO - Chain [1] done processing\n"
     ]
    },
    {
     "name": "stdout",
     "output_type": "stream",
     "text": [
      "It's underpredicted.\n",
      "Monthly Error: 18.3 Period MAE: 9.6\n",
      "It's underpredicted.\n"
     ]
    },
    {
     "name": "stderr",
     "output_type": "stream",
     "text": [
      "22:56:01 - cmdstanpy - INFO - Chain [1] start processing\n"
     ]
    },
    {
     "name": "stdout",
     "output_type": "stream",
     "text": [
      "Monthly Error: 28.83 Period MAE: 21.240000000000002\n"
     ]
    },
    {
     "name": "stderr",
     "output_type": "stream",
     "text": [
      "22:56:01 - cmdstanpy - INFO - Chain [1] done processing\n"
     ]
    },
    {
     "name": "stdout",
     "output_type": "stream",
     "text": [
      "It's overpredicted.\n",
      "Monthly Error: 60.03 Period MAE: 55.35It's overpredicted.\n",
      "\n",
      "Monthly Error: 58.35 Period MAE: 53.769999999999996\n"
     ]
    },
    {
     "name": "stderr",
     "output_type": "stream",
     "text": [
      "22:56:02 - cmdstanpy - INFO - Chain [1] start processing\n",
      "22:56:02 - cmdstanpy - INFO - Chain [1] start processing\n",
      "22:56:02 - cmdstanpy - INFO - Chain [1] start processing\n",
      "22:56:02 - cmdstanpy - INFO - Chain [1] done processing\n",
      "22:56:03 - cmdstanpy - INFO - Chain [1] done processing\n",
      "22:56:02 - cmdstanpy - INFO - Chain [1] done processing\n"
     ]
    },
    {
     "name": "stdout",
     "output_type": "stream",
     "text": [
      "It's underpredicted.\n",
      "Monthly Error: 18.71 Period MAE: 4.95\n",
      "It's underpredicted.\n",
      "Monthly Error: 19.8 Period MAE: 10.33\n"
     ]
    },
    {
     "name": "stderr",
     "output_type": "stream",
     "text": [
      "22:56:04 - cmdstanpy - INFO - Chain [1] start processing\n",
      "22:56:04 - cmdstanpy - INFO - Chain [1] start processing\n",
      "22:56:04 - cmdstanpy - INFO - Chain [1] done processing\n",
      "22:56:04 - cmdstanpy - INFO - Chain [1] done processing\n"
     ]
    },
    {
     "name": "stdout",
     "output_type": "stream",
     "text": [
      "It's underpredicted.\n",
      "Monthly Error: 20.5 Period MAE: It's underpredicted.\n",
      "18.360000000000003Monthly Error:\n",
      " 29.46 Period MAE: 22.650000000000002\n",
      "It's overpredicted.\n",
      "Monthly Error: 60.14 Period MAE: 55.38999999999999\n"
     ]
    },
    {
     "name": "stderr",
     "output_type": "stream",
     "text": [
      "22:56:06 - cmdstanpy - INFO - Chain [1] start processing\n",
      "22:56:06 - cmdstanpy - INFO - Chain [1] start processing\n",
      "22:56:07 - cmdstanpy - INFO - Chain [1] start processing\n",
      "22:56:07 - cmdstanpy - INFO - Chain [1] done processing\n"
     ]
    },
    {
     "name": "stdout",
     "output_type": "stream",
     "text": [
      "It's underpredicted."
     ]
    },
    {
     "name": "stderr",
     "output_type": "stream",
     "text": [
      "22:56:07 - cmdstanpy - INFO - Chain [1] done processing\n"
     ]
    },
    {
     "name": "stdout",
     "output_type": "stream",
     "text": [
      "\n",
      "Monthly Error: 28.99 Period MAE: 21.91\n"
     ]
    },
    {
     "name": "stderr",
     "output_type": "stream",
     "text": [
      "22:56:07 - cmdstanpy - INFO - Chain [1] done processing\n",
      "22:56:07 - cmdstanpy - INFO - Chain [1] start processing\n",
      "22:56:07 - cmdstanpy - INFO - Chain [1] done processing\n"
     ]
    },
    {
     "name": "stdout",
     "output_type": "stream",
     "text": [
      "It's underpredicted.\n",
      "Monthly Error: 19.55 Period MAE: 16.21\n"
     ]
    },
    {
     "name": "stderr",
     "output_type": "stream",
     "text": [
      "22:56:08 - cmdstanpy - INFO - Chain [1] start processing\n",
      "22:56:08 - cmdstanpy - INFO - Chain [1] done processing\n"
     ]
    },
    {
     "name": "stdout",
     "output_type": "stream",
     "text": [
      "It's underpredicted.\n",
      "Monthly Error: 20.44 Period MAE: 10.77\n",
      "It's underpredicted."
     ]
    },
    {
     "name": "stderr",
     "output_type": "stream",
     "text": [
      "22:56:09 - cmdstanpy - INFO - Chain [1] start processing\n"
     ]
    },
    {
     "name": "stdout",
     "output_type": "stream",
     "text": [
      "\n",
      "Monthly Error: It's underpredicted.19.64 Period MAE:\n",
      " 19.650000000000002\n",
      "Monthly Error: 23.3 Period MAE: 9.65\n"
     ]
    },
    {
     "name": "stderr",
     "output_type": "stream",
     "text": [
      "22:56:10 - cmdstanpy - INFO - Chain [1] done processing\n"
     ]
    },
    {
     "name": "stdout",
     "output_type": "stream",
     "text": [
      "It's underpredicted.\n",
      "Monthly Error: 28.9 Period MAE: 20.61\n"
     ]
    },
    {
     "name": "stderr",
     "output_type": "stream",
     "text": [
      "22:56:10 - cmdstanpy - INFO - Chain [1] start processing\n",
      "22:56:10 - cmdstanpy - INFO - Chain [1] start processing\n",
      "22:56:10 - cmdstanpy - INFO - Chain [1] start processing\n",
      "22:56:11 - cmdstanpy - INFO - Chain [1] done processing\n",
      "22:56:11 - cmdstanpy - INFO - Chain [1] done processing\n",
      "22:56:11 - cmdstanpy - INFO - Chain [1] done processing\n"
     ]
    },
    {
     "name": "stdout",
     "output_type": "stream",
     "text": [
      "It's underpredicted.\n",
      "It's underpredicted.Monthly Error: 23.12 \n",
      "Period MAE:Monthly Error:  9.28\n",
      "19.55 Period MAE: 16.64\n"
     ]
    },
    {
     "name": "stderr",
     "output_type": "stream",
     "text": [
      "22:56:12 - cmdstanpy - INFO - Chain [1] start processing\n"
     ]
    },
    {
     "name": "stdout",
     "output_type": "stream",
     "text": [
      "It's underpredicted."
     ]
    },
    {
     "name": "stderr",
     "output_type": "stream",
     "text": [
      "22:56:12 - cmdstanpy - INFO - Chain [1] done processing\n"
     ]
    },
    {
     "name": "stdout",
     "output_type": "stream",
     "text": [
      "\n",
      "Monthly Error: 20.09 Period MAE: 15.52\n"
     ]
    },
    {
     "name": "stderr",
     "output_type": "stream",
     "text": [
      "22:56:12 - cmdstanpy - INFO - Chain [1] start processing\n",
      "22:56:13 - cmdstanpy - INFO - Chain [1] start processing\n",
      "22:56:13 - cmdstanpy - INFO - Chain [1] done processing\n",
      "22:56:13 - cmdstanpy - INFO - Chain [1] done processing\n"
     ]
    },
    {
     "name": "stdout",
     "output_type": "stream",
     "text": [
      "It's underpredicted.\n",
      "Monthly Error: 23.64 Period MAE: 7.7\n",
      "It's underpredicted.\n",
      "Monthly Error: 19.43 Period MAE: 19.21\n"
     ]
    },
    {
     "name": "stderr",
     "output_type": "stream",
     "text": [
      "22:56:14 - cmdstanpy - INFO - Chain [1] start processing\n"
     ]
    },
    {
     "name": "stdout",
     "output_type": "stream",
     "text": [
      "It's overpredicted.\n",
      "Monthly Error: 60.71 Period MAE: 56.02\n"
     ]
    },
    {
     "name": "stderr",
     "output_type": "stream",
     "text": [
      "22:56:15 - cmdstanpy - INFO - Chain [1] done processing\n",
      "22:56:15 - cmdstanpy - INFO - Chain [1] start processing\n",
      "22:56:15 - cmdstanpy - INFO - Chain [1] done processing\n",
      "22:56:15 - cmdstanpy - INFO - Chain [1] start processing\n"
     ]
    },
    {
     "name": "stdout",
     "output_type": "stream",
     "text": [
      "It's overpredicted.\n",
      "Monthly Error: 59.54 Period MAE: 54.97\n"
     ]
    },
    {
     "name": "stderr",
     "output_type": "stream",
     "text": [
      "22:56:15 - cmdstanpy - INFO - Chain [1] done processing\n",
      "22:56:16 - cmdstanpy - INFO - Chain [1] start processing\n",
      "22:56:16 - cmdstanpy - INFO - Chain [1] done processing\n"
     ]
    },
    {
     "name": "stdout",
     "output_type": "stream",
     "text": [
      "It's underpredicted.\n",
      "Monthly Error: 20.36 Period MAE: 18.34\n",
      "It's underpredicted.\n",
      "Monthly Error: 20.06 Period MAE: 16.25\n"
     ]
    },
    {
     "name": "stderr",
     "output_type": "stream",
     "text": [
      "22:56:17 - cmdstanpy - INFO - Chain [1] start processing\n",
      "22:56:17 - cmdstanpy - INFO - Chain [1] start processing\n",
      "22:56:17 - cmdstanpy - INFO - Chain [1] done processing\n",
      "22:56:17 - cmdstanpy - INFO - Chain [1] done processing\n"
     ]
    },
    {
     "name": "stdout",
     "output_type": "stream",
     "text": [
      "It's underpredicted.\n",
      "Monthly Error:It's underpredicted.\n",
      " Monthly Error: 21.28 23.57Period MAE:  Period MAE:22.189999999999998 \n",
      "8.02\n",
      "It's overpredicted.\n",
      "Monthly Error: 60.62 Period MAE: 55.879999999999995\n"
     ]
    },
    {
     "name": "stderr",
     "output_type": "stream",
     "text": [
      "22:56:19 - cmdstanpy - INFO - Chain [1] start processing\n",
      "22:56:19 - cmdstanpy - INFO - Chain [1] start processing\n",
      "22:56:19 - cmdstanpy - INFO - Chain [1] start processing\n",
      "22:56:19 - cmdstanpy - INFO - Chain [1] done processing\n"
     ]
    },
    {
     "name": "stdout",
     "output_type": "stream",
     "text": [
      "It's underpredicted.\n",
      "Monthly Error: 23.35 Period MAE: 8.17\n"
     ]
    },
    {
     "name": "stderr",
     "output_type": "stream",
     "text": [
      "22:56:20 - cmdstanpy - INFO - Chain [1] done processing\n",
      "22:56:20 - cmdstanpy - INFO - Chain [1] done processing\n",
      "22:56:20 - cmdstanpy - INFO - Chain [1] start processing\n",
      "22:56:20 - cmdstanpy - INFO - Chain [1] done processing\n"
     ]
    },
    {
     "name": "stdout",
     "output_type": "stream",
     "text": [
      "It's underpredicted.\n",
      "Monthly Error: 24.48 Period MAE: 20.4\n",
      "It's underpredicted.\n"
     ]
    },
    {
     "name": "stderr",
     "output_type": "stream",
     "text": [
      "22:56:21 - cmdstanpy - INFO - Chain [1] start processing\n"
     ]
    },
    {
     "name": "stdout",
     "output_type": "stream",
     "text": [
      "Monthly Error: 20.95 Period MAE: 17.88\n",
      "It's overpredicted.\n",
      "Monthly Error: "
     ]
    },
    {
     "name": "stderr",
     "output_type": "stream",
     "text": [
      "22:56:22 - cmdstanpy - INFO - Chain [1] start processing\n"
     ]
    },
    {
     "name": "stdout",
     "output_type": "stream",
     "text": [
      "42.32 Period MAE: 34.89\n"
     ]
    },
    {
     "name": "stderr",
     "output_type": "stream",
     "text": [
      "22:56:22 - cmdstanpy - INFO - Chain [1] done processing\n",
      "22:56:22 - cmdstanpy - INFO - Chain [1] done processing\n"
     ]
    },
    {
     "name": "stdout",
     "output_type": "stream",
     "text": [
      "It's underpredicted.\n",
      "Monthly Error: 24.38 Period MAE: 5.8500000000000005\n"
     ]
    },
    {
     "name": "stderr",
     "output_type": "stream",
     "text": [
      "22:56:23 - cmdstanpy - INFO - Chain [1] start processing\n"
     ]
    },
    {
     "name": "stdout",
     "output_type": "stream",
     "text": [
      "It's underpredicted.\n"
     ]
    },
    {
     "name": "stderr",
     "output_type": "stream",
     "text": [
      "22:56:23 - cmdstanpy - INFO - Chain [1] done processing\n"
     ]
    },
    {
     "name": "stdout",
     "output_type": "stream",
     "text": [
      "Monthly Error: 23.84 Period MAE: 19.68\n"
     ]
    },
    {
     "name": "stderr",
     "output_type": "stream",
     "text": [
      "22:56:23 - cmdstanpy - INFO - Chain [1] start processing\n",
      "22:56:23 - cmdstanpy - INFO - Chain [1] start processing\n",
      "22:56:24 - cmdstanpy - INFO - Chain [1] done processing\n",
      "22:56:24 - cmdstanpy - INFO - Chain [1] done processing\n"
     ]
    },
    {
     "name": "stdout",
     "output_type": "stream",
     "text": [
      "It's underpredicted.\n",
      "Monthly Error: 23.53 Period MAE: 18.64\n",
      "It's overpredicted.\n",
      "Monthly Error: 41.63 Period MAE: 34.39\n"
     ]
    },
    {
     "name": "stderr",
     "output_type": "stream",
     "text": [
      "22:56:25 - cmdstanpy - INFO - Chain [1] start processing\n"
     ]
    },
    {
     "name": "stdout",
     "output_type": "stream",
     "text": [
      "It's underpredicted.\n"
     ]
    },
    {
     "name": "stderr",
     "output_type": "stream",
     "text": [
      "22:56:25 - cmdstanpy - INFO - Chain [1] done processing\n"
     ]
    },
    {
     "name": "stdout",
     "output_type": "stream",
     "text": [
      "Monthly Error: 22.65 "
     ]
    },
    {
     "name": "stderr",
     "output_type": "stream",
     "text": [
      "22:56:25 - cmdstanpy - INFO - Chain [1] start processing\n"
     ]
    },
    {
     "name": "stdout",
     "output_type": "stream",
     "text": [
      "Period MAE: 14.96\n"
     ]
    },
    {
     "name": "stderr",
     "output_type": "stream",
     "text": [
      "22:56:25 - cmdstanpy - INFO - Chain [1] done processing\n"
     ]
    },
    {
     "name": "stdout",
     "output_type": "stream",
     "text": [
      "It's overpredicted.\n",
      "Monthly Error:"
     ]
    },
    {
     "name": "stderr",
     "output_type": "stream",
     "text": [
      "22:56:26 - cmdstanpy - INFO - Chain [1] start processing\n"
     ]
    },
    {
     "name": "stdout",
     "output_type": "stream",
     "text": [
      " 44.01 Period MAE: 37.580000000000005\n"
     ]
    },
    {
     "name": "stderr",
     "output_type": "stream",
     "text": [
      "22:56:26 - cmdstanpy - INFO - Chain [1] done processing\n",
      "22:56:26 - cmdstanpy - INFO - Chain [1] start processing\n"
     ]
    },
    {
     "name": "stdout",
     "output_type": "stream",
     "text": [
      "It's underpredicted.\n",
      "Monthly Error: 23.9 Period MAE: 18.09\n"
     ]
    },
    {
     "name": "stderr",
     "output_type": "stream",
     "text": [
      "22:56:27 - cmdstanpy - INFO - Chain [1] done processing\n"
     ]
    },
    {
     "name": "stdout",
     "output_type": "stream",
     "text": [
      "It's overpredicted.\n",
      "Monthly Error: 58.03 Period MAE: 52.92\n"
     ]
    },
    {
     "name": "stderr",
     "output_type": "stream",
     "text": [
      "22:56:28 - cmdstanpy - INFO - Chain [1] start processing\n",
      "22:56:28 - cmdstanpy - INFO - Chain [1] done processing\n",
      "22:56:28 - cmdstanpy - INFO - Chain [1] start processing\n",
      "22:56:28 - cmdstanpy - INFO - Chain [1] done processing\n"
     ]
    },
    {
     "name": "stdout",
     "output_type": "stream",
     "text": [
      "It's underpredicted.\n",
      "Monthly Error: 24.26 Period MAE: 18.25\n",
      "It's overpredicted.\n",
      "Monthly Error: 59.76 Period MAE: 54.56999999999999It's underpredicted."
     ]
    },
    {
     "name": "stderr",
     "output_type": "stream",
     "text": [
      "22:56:29 - cmdstanpy - INFO - Chain [1] start processing\n"
     ]
    },
    {
     "name": "stdout",
     "output_type": "stream",
     "text": [
      "\n",
      "\n",
      "Monthly Error: 23.48 Period MAE: 18.67"
     ]
    },
    {
     "name": "stderr",
     "output_type": "stream",
     "text": [
      "22:56:29 - cmdstanpy - INFO - Chain [1] done processing\n"
     ]
    },
    {
     "name": "stdout",
     "output_type": "stream",
     "text": [
      "\n"
     ]
    },
    {
     "name": "stderr",
     "output_type": "stream",
     "text": [
      "22:56:29 - cmdstanpy - INFO - Chain [1] start processing\n",
      "22:56:29 - cmdstanpy - INFO - Chain [1] start processing\n",
      "22:56:29 - cmdstanpy - INFO - Chain [1] done processing\n",
      "22:56:29 - cmdstanpy - INFO - Chain [1] done processing\n"
     ]
    },
    {
     "name": "stdout",
     "output_type": "stream",
     "text": [
      "It's underpredicted.\n",
      "Monthly Error: 24.04It's overpredicted. Period MAE: \n",
      "19.98Monthly Error:\n",
      " 55.88 Period MAE: 50.88\n",
      "It's overpredicted.\n",
      "Monthly Error: 46.95 Period MAE: 41.83\n"
     ]
    },
    {
     "name": "stderr",
     "output_type": "stream",
     "text": [
      "22:56:32 - cmdstanpy - INFO - Chain [1] start processing\n",
      "22:56:32 - cmdstanpy - INFO - Chain [1] start processing\n",
      "22:56:32 - cmdstanpy - INFO - Chain [1] start processing\n",
      "22:56:32 - cmdstanpy - INFO - Chain [1] done processing\n",
      "22:56:32 - cmdstanpy - INFO - Chain [1] done processing\n"
     ]
    },
    {
     "name": "stdout",
     "output_type": "stream",
     "text": [
      "It's overpredicted.\n",
      "Monthly Error: 45.88 Period MAE: 40.42\n"
     ]
    },
    {
     "name": "stderr",
     "output_type": "stream",
     "text": [
      "22:56:32 - cmdstanpy - INFO - Chain [1] done processing\n",
      "22:56:32 - cmdstanpy - INFO - Chain [1] start processing\n",
      "22:56:33 - cmdstanpy - INFO - Chain [1] done processing\n"
     ]
    },
    {
     "name": "stdout",
     "output_type": "stream",
     "text": [
      "It's underpredicted.\n",
      "Monthly Error: 22.09 Period MAE: 20.27\n"
     ]
    },
    {
     "name": "stderr",
     "output_type": "stream",
     "text": [
      "22:56:33 - cmdstanpy - INFO - Chain [1] start processing\n"
     ]
    },
    {
     "name": "stdout",
     "output_type": "stream",
     "text": [
      "It's underpredicted.\n",
      "Monthly Error: 23.4 Period MAE: "
     ]
    },
    {
     "name": "stderr",
     "output_type": "stream",
     "text": [
      "22:56:34 - cmdstanpy - INFO - Chain [1] done processing\n"
     ]
    },
    {
     "name": "stdout",
     "output_type": "stream",
     "text": [
      "18.5\n"
     ]
    },
    {
     "name": "stderr",
     "output_type": "stream",
     "text": [
      "22:56:34 - cmdstanpy - INFO - Chain [1] start processing\n"
     ]
    },
    {
     "name": "stdout",
     "output_type": "stream",
     "text": [
      "It's overpredicted.\n",
      "Monthly Error:"
     ]
    },
    {
     "name": "stderr",
     "output_type": "stream",
     "text": [
      "22:56:35 - cmdstanpy - INFO - Chain [1] done processing\n"
     ]
    },
    {
     "name": "stdout",
     "output_type": "stream",
     "text": [
      " 42.32It's overpredicted.It's underpredicted. \n",
      "\n",
      "Monthly Error:Period MAE:Monthly Error: 41.05  37.622.92 \n",
      "Period MAE:33.26  Period MAE: 21.990000000000002\n",
      "\n"
     ]
    },
    {
     "name": "stderr",
     "output_type": "stream",
     "text": [
      "22:56:36 - cmdstanpy - INFO - Chain [1] start processing\n",
      "22:56:36 - cmdstanpy - INFO - Chain [1] done processing\n",
      "22:56:36 - cmdstanpy - INFO - Chain [1] start processing\n",
      "22:56:36 - cmdstanpy - INFO - Chain [1] start processing\n",
      "22:56:36 - cmdstanpy - INFO - Chain [1] done processing\n",
      "22:56:36 - cmdstanpy - INFO - Chain [1] done processing\n"
     ]
    },
    {
     "name": "stdout",
     "output_type": "stream",
     "text": [
      "It's underpredicted.\n",
      "Monthly Error: 21.18 Period MAE: 16.32\n"
     ]
    },
    {
     "name": "stderr",
     "output_type": "stream",
     "text": [
      "22:56:37 - cmdstanpy - INFO - Chain [1] start processing\n",
      "22:56:37 - cmdstanpy - INFO - Chain [1] done processing\n"
     ]
    },
    {
     "name": "stdout",
     "output_type": "stream",
     "text": [
      "It's overpredicted.It's underpredicted.\n",
      "\n",
      "Monthly Error:Monthly Error:  42.3622.2  Period MAE: Period MAE:37.8 \n",
      "20.419999999999998\n"
     ]
    },
    {
     "name": "stderr",
     "output_type": "stream",
     "text": [
      "22:56:38 - cmdstanpy - INFO - Chain [1] start processing\n",
      "22:56:38 - cmdstanpy - INFO - Chain [1] done processing\n",
      "22:56:38 - cmdstanpy - INFO - Chain [1] start processing\n",
      "22:56:38 - cmdstanpy - INFO - Chain [1] done processing\n"
     ]
    },
    {
     "name": "stdout",
     "output_type": "stream",
     "text": [
      "It's underpredicted.\n",
      "Monthly Error:It's overpredicted.\n",
      " Monthly Error:21.77 42.72 Period MAE:  19.919999999999998Period MAE:\n",
      " 38.16\n"
     ]
    },
    {
     "name": "stderr",
     "output_type": "stream",
     "text": [
      "22:56:40 - cmdstanpy - INFO - Chain [1] start processing\n",
      "22:56:40 - cmdstanpy - INFO - Chain [1] start processing\n",
      "22:56:40 - cmdstanpy - INFO - Chain [1] done processing\n"
     ]
    },
    {
     "name": "stdout",
     "output_type": "stream",
     "text": [
      "It's overpredicted.\n",
      "Monthly Error: 64.11 Period MAE: 59.17\n"
     ]
    },
    {
     "name": "stderr",
     "output_type": "stream",
     "text": [
      "22:56:40 - cmdstanpy - INFO - Chain [1] start processing\n",
      "22:56:41 - cmdstanpy - INFO - Chain [1] done processing\n"
     ]
    },
    {
     "name": "stdout",
     "output_type": "stream",
     "text": [
      "It's overpredicted.\n",
      "Monthly Error: 60.84 Period MAE: 55.92\n"
     ]
    },
    {
     "name": "stderr",
     "output_type": "stream",
     "text": [
      "22:56:41 - cmdstanpy - INFO - Chain [1] done processing\n",
      "22:56:41 - cmdstanpy - INFO - Chain [1] start processing\n",
      "22:56:41 - cmdstanpy - INFO - Chain [1] done processing\n"
     ]
    },
    {
     "name": "stdout",
     "output_type": "stream",
     "text": [
      "It's underpredicted.\n",
      "Monthly Error: 22.3 Period MAE: 20.560000000000002\n",
      "It's underpredicted.\n",
      "Monthly Error: 21.64 Period MAE:It's overpredicted. \n",
      "18.48Monthly Error: 67.22 Period MAE: \n",
      "62.07\n"
     ]
    },
    {
     "name": "stderr",
     "output_type": "stream",
     "text": [
      "22:56:43 - cmdstanpy - INFO - Chain [1] start processing\n",
      "22:56:43 - cmdstanpy - INFO - Chain [1] start processing\n",
      "22:56:43 - cmdstanpy - INFO - Chain [1] done processing\n",
      "22:56:43 - cmdstanpy - INFO - Chain [1] done processing\n"
     ]
    },
    {
     "name": "stdout",
     "output_type": "stream",
     "text": [
      "It's overpredicted.\n",
      "Monthly Error: 40.75 Period MAE: 35.25\n"
     ]
    },
    {
     "name": "stderr",
     "output_type": "stream",
     "text": [
      "22:56:43 - cmdstanpy - INFO - Chain [1] start processing\n"
     ]
    },
    {
     "name": "stdout",
     "output_type": "stream",
     "text": [
      "It's underpredicted.\n",
      "Monthly Error: 24.29 Period MAE: 24.44\n"
     ]
    },
    {
     "name": "stderr",
     "output_type": "stream",
     "text": [
      "22:56:44 - cmdstanpy - INFO - Chain [1] done processing\n",
      "22:56:45 - cmdstanpy - INFO - Chain [1] start processing\n",
      "22:56:45 - cmdstanpy - INFO - Chain [1] start processing\n",
      "22:56:45 - cmdstanpy - INFO - Chain [1] done processing\n",
      "22:56:45 - cmdstanpy - INFO - Chain [1] done processing\n"
     ]
    },
    {
     "name": "stdout",
     "output_type": "stream",
     "text": [
      "It's overpredicted.\n",
      "Monthly Error: 42.11 Period MAE: 37.49\n"
     ]
    },
    {
     "name": "stderr",
     "output_type": "stream",
     "text": [
      "22:56:46 - cmdstanpy - INFO - Chain [1] start processing\n"
     ]
    },
    {
     "name": "stdout",
     "output_type": "stream",
     "text": [
      "It's underpredicted.\n",
      "Monthly Error: 23.18"
     ]
    },
    {
     "name": "stderr",
     "output_type": "stream",
     "text": [
      "22:56:46 - cmdstanpy - INFO - Chain [1] done processing\n"
     ]
    },
    {
     "name": "stdout",
     "output_type": "stream",
     "text": [
      " Period MAE:It's underpredicted. 22.06\n",
      "\n",
      "Monthly Error: 18.37 Period MAE: 4.77\n"
     ]
    },
    {
     "name": "stderr",
     "output_type": "stream",
     "text": [
      "22:56:46 - cmdstanpy - INFO - Chain [1] start processing\n",
      "22:56:46 - cmdstanpy - INFO - Chain [1] start processing\n",
      "22:56:46 - cmdstanpy - INFO - Chain [1] done processing\n",
      "22:56:46 - cmdstanpy - INFO - Chain [1] done processing\n"
     ]
    },
    {
     "name": "stdout",
     "output_type": "stream",
     "text": [
      "It's underpredicted.\n",
      "Monthly Error:It's underpredicted. \n",
      "29.33Monthly Error:  Period MAE:17.92  Period MAE:22.63 10.16\n",
      "\n",
      "It's overpredicted.\n",
      "Monthly Error: 41.69 Period MAE: 36.79\n"
     ]
    },
    {
     "name": "stderr",
     "output_type": "stream",
     "text": [
      "22:56:48 - cmdstanpy - INFO - Chain [1] start processing\n",
      "22:56:48 - cmdstanpy - INFO - Chain [1] done processing\n",
      "22:56:48 - cmdstanpy - INFO - Chain [1] start processing\n",
      "22:56:48 - cmdstanpy - INFO - Chain [1] start processing\n"
     ]
    },
    {
     "name": "stdout",
     "output_type": "stream",
     "text": [
      "It's underpredicted.\n",
      "Monthly Error: 29.18 Period MAE: 22.49\n"
     ]
    },
    {
     "name": "stderr",
     "output_type": "stream",
     "text": [
      "22:56:49 - cmdstanpy - INFO - Chain [1] done processing\n",
      "22:56:49 - cmdstanpy - INFO - Chain [1] start processing\n",
      "22:56:49 - cmdstanpy - INFO - Chain [1] done processing\n",
      "22:56:49 - cmdstanpy - INFO - Chain [1] done processing\n"
     ]
    },
    {
     "name": "stdout",
     "output_type": "stream",
     "text": [
      "It's underpredicted.\n",
      "Monthly Error: 18.52 Period MAE: 5.46\n"
     ]
    },
    {
     "name": "stderr",
     "output_type": "stream",
     "text": [
      "22:56:50 - cmdstanpy - INFO - Chain [1] start processing\n",
      "22:56:51 - cmdstanpy - INFO - Chain [1] done processing\n"
     ]
    },
    {
     "name": "stdout",
     "output_type": "stream",
     "text": [
      "It's underpredicted.\n",
      "Monthly Error: 19.6 Period MAE: 4.2\n"
     ]
    },
    {
     "name": "stderr",
     "output_type": "stream",
     "text": [
      "22:56:51 - cmdstanpy - INFO - Chain [1] start processing\n"
     ]
    },
    {
     "name": "stdout",
     "output_type": "stream",
     "text": [
      "It's underpredicted.\n",
      "Monthly Error: 25.82 Period MAE: 14.13It's overpredicted.\n",
      "\n"
     ]
    },
    {
     "name": "stderr",
     "output_type": "stream",
     "text": [
      "22:56:52 - cmdstanpy - INFO - Chain [1] done processing\n"
     ]
    },
    {
     "name": "stdout",
     "output_type": "stream",
     "text": [
      "Monthly Error: 63.43 Period MAE: 58.650000000000006\n",
      "It's underpredicted.\n",
      "Monthly Error: 18.23 Period MAE: 11.799999999999999\n"
     ]
    },
    {
     "name": "stderr",
     "output_type": "stream",
     "text": [
      "22:56:52 - cmdstanpy - INFO - Chain [1] start processing\n",
      "22:56:52 - cmdstanpy - INFO - Chain [1] start processing\n",
      "22:56:53 - cmdstanpy - INFO - Chain [1] start processing\n",
      "22:56:53 - cmdstanpy - INFO - Chain [1] done processing\n",
      "22:56:53 - cmdstanpy - INFO - Chain [1] done processing\n",
      "22:56:53 - cmdstanpy - INFO - Chain [1] done processing\n"
     ]
    },
    {
     "name": "stdout",
     "output_type": "stream",
     "text": [
      "It's underpredicted.\n",
      "Monthly Error: 22.15 Period MAE: 12.6\n",
      "It's underpredicted.\n",
      "Monthly Error: 19.32 Period MAE: 3.02\n"
     ]
    },
    {
     "name": "stderr",
     "output_type": "stream",
     "text": [
      "22:56:54 - cmdstanpy - INFO - Chain [1] start processing\n"
     ]
    },
    {
     "name": "stdout",
     "output_type": "stream",
     "text": [
      "It's overpredicted.\n"
     ]
    },
    {
     "name": "stderr",
     "output_type": "stream",
     "text": [
      "22:56:54 - cmdstanpy - INFO - Chain [1] done processing\n"
     ]
    },
    {
     "name": "stdout",
     "output_type": "stream",
     "text": [
      "Monthly Error: 58.84 "
     ]
    },
    {
     "name": "stderr",
     "output_type": "stream",
     "text": [
      "22:56:55 - cmdstanpy - INFO - Chain [1] start processing\n"
     ]
    },
    {
     "name": "stdout",
     "output_type": "stream",
     "text": [
      "Period MAE: 54.32\n"
     ]
    },
    {
     "name": "stderr",
     "output_type": "stream",
     "text": [
      "22:56:55 - cmdstanpy - INFO - Chain [1] done processing\n",
      "22:56:55 - cmdstanpy - INFO - Chain [1] start processing\n",
      "22:56:55 - cmdstanpy - INFO - Chain [1] done processing\n"
     ]
    },
    {
     "name": "stdout",
     "output_type": "stream",
     "text": [
      "It's overpredicted.\n",
      "Monthly Error: 60.94 It's underpredicted.Period MAE:\n",
      " 56.14Monthly Error:\n",
      " 23.33Period MAE:  20.669999999999998\n",
      "It's underpredicted.\n",
      "Monthly Error: 31.52 Period MAE: 9.04\n"
     ]
    },
    {
     "name": "stderr",
     "output_type": "stream",
     "text": [
      "22:56:57 - cmdstanpy - INFO - Chain [1] start processing\n",
      "22:56:57 - cmdstanpy - INFO - Chain [1] start processing\n",
      "22:56:57 - cmdstanpy - INFO - Chain [1] start processing\n",
      "22:56:57 - cmdstanpy - INFO - Chain [1] done processing\n",
      "22:56:58 - cmdstanpy - INFO - Chain [1] done processing\n",
      "22:56:58 - cmdstanpy - INFO - Chain [1] done processing\n"
     ]
    },
    {
     "name": "stdout",
     "output_type": "stream",
     "text": [
      "It's underpredicted.\n",
      "Monthly Error: 19.65 Period MAE: It's overpredicted.16.33\n",
      "\n",
      "Monthly Error: 51.99 Period MAE: 39.08\n"
     ]
    },
    {
     "name": "stderr",
     "output_type": "stream",
     "text": [
      "22:56:58 - cmdstanpy - INFO - Chain [1] start processing\n",
      "22:56:59 - cmdstanpy - INFO - Chain [1] done processing\n",
      "22:56:59 - cmdstanpy - INFO - Chain [1] start processing\n",
      "22:56:59 - cmdstanpy - INFO - Chain [1] done processing\n"
     ]
    },
    {
     "name": "stdout",
     "output_type": "stream",
     "text": [
      "It's underpredicted.\n",
      "Monthly Error: 23.96 Period MAE: 13.52\n"
     ]
    },
    {
     "name": "stderr",
     "output_type": "stream",
     "text": [
      "22:57:00 - cmdstanpy - INFO - Chain [1] start processing\n",
      "22:57:00 - cmdstanpy - INFO - Chain [1] done processing\n"
     ]
    },
    {
     "name": "stdout",
     "output_type": "stream",
     "text": [
      "It's underpredicted.\n",
      "Monthly Error: 19.75 Period MAE: 19.81\n",
      "It's overpredicted.\n",
      "Monthly Error: 53.95 Period MAE: 39.47\n",
      "It's underpredicted.\n",
      "Monthly Error: 23.93 Period MAE: 6.909999999999999\n"
     ]
    },
    {
     "name": "stderr",
     "output_type": "stream",
     "text": [
      "22:57:01 - cmdstanpy - INFO - Chain [1] start processing\n",
      "22:57:01 - cmdstanpy - INFO - Chain [1] start processing\n",
      "22:57:02 - cmdstanpy - INFO - Chain [1] done processing\n",
      "22:57:02 - cmdstanpy - INFO - Chain [1] start processing\n"
     ]
    },
    {
     "name": "stdout",
     "output_type": "stream",
     "text": [
      "It's underpredicted."
     ]
    },
    {
     "name": "stderr",
     "output_type": "stream",
     "text": [
      "22:57:02 - cmdstanpy - INFO - Chain [1] done processing\n"
     ]
    },
    {
     "name": "stdout",
     "output_type": "stream",
     "text": [
      "\n"
     ]
    },
    {
     "name": "stderr",
     "output_type": "stream",
     "text": [
      "22:57:02 - cmdstanpy - INFO - Chain [1] done processing\n"
     ]
    },
    {
     "name": "stdout",
     "output_type": "stream",
     "text": [
      "Monthly Error: 24.14 Period MAE: 6.1899999999999995\n"
     ]
    },
    {
     "name": "stderr",
     "output_type": "stream",
     "text": [
      "22:57:02 - cmdstanpy - INFO - Chain [1] start processing\n",
      "22:57:02 - cmdstanpy - INFO - Chain [1] done processing\n"
     ]
    },
    {
     "name": "stdout",
     "output_type": "stream",
     "text": [
      "It's underpredicted.\n",
      "Monthly Error: 21.27 Period MAE: 20.369999999999997\n",
      "It's underpredicted.\n",
      "Monthly Error: 21.1 Period MAE: 15.02\n"
     ]
    },
    {
     "name": "stderr",
     "output_type": "stream",
     "text": [
      "22:57:04 - cmdstanpy - INFO - Chain [1] start processing\n",
      "22:57:04 - cmdstanpy - INFO - Chain [1] start processing\n",
      "22:57:04 - cmdstanpy - INFO - Chain [1] done processing\n",
      "22:57:04 - cmdstanpy - INFO - Chain [1] done processing\n"
     ]
    },
    {
     "name": "stdout",
     "output_type": "stream",
     "text": [
      "It's overpredicted.\n",
      "Monthly Error: 63.25It's underpredicted.\n",
      "Monthly Error: Period MAE:  27.92 58.46\n",
      "Period MAE:It's overpredicted.\n",
      " Monthly Error:\n",
      "28.92 27.42 Period MAE: 1.43\n"
     ]
    },
    {
     "name": "stderr",
     "output_type": "stream",
     "text": [
      "22:57:06 - cmdstanpy - INFO - Chain [1] start processing\n",
      "22:57:07 - cmdstanpy - INFO - Chain [1] done processing\n",
      "22:57:07 - cmdstanpy - INFO - Chain [1] start processing\n",
      "22:57:07 - cmdstanpy - INFO - Chain [1] start processing\n",
      "22:57:07 - cmdstanpy - INFO - Chain [1] done processing\n"
     ]
    },
    {
     "name": "stdout",
     "output_type": "stream",
     "text": [
      "It's overpredicted.\n",
      "Monthly Error: 59.96 Period MAE: 55.46\n"
     ]
    },
    {
     "name": "stderr",
     "output_type": "stream",
     "text": [
      "22:57:08 - cmdstanpy - INFO - Chain [1] done processing\n",
      "22:57:08 - cmdstanpy - INFO - Chain [1] start processing\n"
     ]
    },
    {
     "name": "stdout",
     "output_type": "stream",
     "text": [
      "It's underpredicted.\n"
     ]
    },
    {
     "name": "stderr",
     "output_type": "stream",
     "text": [
      "22:57:08 - cmdstanpy - INFO - Chain [1] done processing\n"
     ]
    },
    {
     "name": "stdout",
     "output_type": "stream",
     "text": [
      "Monthly Error: 21.86 Period MAE: 19.259999999999998\n"
     ]
    },
    {
     "name": "stderr",
     "output_type": "stream",
     "text": [
      "22:57:09 - cmdstanpy - INFO - Chain [1] start processing\n"
     ]
    },
    {
     "name": "stdout",
     "output_type": "stream",
     "text": [
      "It's underpredicted.\n",
      "Monthly Error:"
     ]
    },
    {
     "name": "stderr",
     "output_type": "stream",
     "text": [
      "22:57:09 - cmdstanpy - INFO - Chain [1] done processing\n"
     ]
    },
    {
     "name": "stdout",
     "output_type": "stream",
     "text": [
      " 22.12 Period MAE: 20.64\n"
     ]
    },
    {
     "name": "stderr",
     "output_type": "stream",
     "text": [
      "22:57:10 - cmdstanpy - INFO - Chain [1] start processing\n",
      "22:57:10 - cmdstanpy - INFO - Chain [1] done processing\n"
     ]
    },
    {
     "name": "stdout",
     "output_type": "stream",
     "text": [
      "It's overpredicted.\n",
      "Monthly Error: 61.55 Period MAE: 56.74\n",
      "It's overpredicted.\n",
      "Monthly Error: 32.36 Period MAE: 8.75\n",
      "It's underpredicted.\n",
      "Monthly Error: 24.09 Period MAE: 24.82\n"
     ]
    },
    {
     "name": "stderr",
     "output_type": "stream",
     "text": [
      "22:57:11 - cmdstanpy - INFO - Chain [1] start processing\n",
      "22:57:11 - cmdstanpy - INFO - Chain [1] start processing\n",
      "22:57:11 - cmdstanpy - INFO - Chain [1] start processing\n",
      "22:57:11 - cmdstanpy - INFO - Chain [1] done processing\n",
      "22:57:11 - cmdstanpy - INFO - Chain [1] done processing\n",
      "22:57:12 - cmdstanpy - INFO - Chain [1] done processing\n"
     ]
    },
    {
     "name": "stdout",
     "output_type": "stream",
     "text": [
      "It's underpredicted.\n",
      "Monthly Error: 22.8 Period MAE: 17.54\n"
     ]
    },
    {
     "name": "stderr",
     "output_type": "stream",
     "text": [
      "22:57:12 - cmdstanpy - INFO - Chain [1] start processing\n",
      "22:57:12 - cmdstanpy - INFO - Chain [1] done processing\n"
     ]
    },
    {
     "name": "stdout",
     "output_type": "stream",
     "text": [
      "It's overpredicted.\n",
      "Monthly Error: 38.99 Period MAE: 19.27\n"
     ]
    },
    {
     "name": "stderr",
     "output_type": "stream",
     "text": [
      "22:57:13 - cmdstanpy - INFO - Chain [1] start processing\n"
     ]
    },
    {
     "name": "stdout",
     "output_type": "stream",
     "text": [
      "It's overpredicted.\n",
      "Monthly Error: 30.25 Period MAE: 7.7299999999999995It's underpredicted.\n",
      "\n",
      "Monthly Error: 23.57 Period MAE: 19.03\n"
     ]
    },
    {
     "name": "stderr",
     "output_type": "stream",
     "text": [
      "22:57:14 - cmdstanpy - INFO - Chain [1] start processing\n",
      "22:57:14 - cmdstanpy - INFO - Chain [1] done processing\n",
      "22:57:14 - cmdstanpy - INFO - Chain [1] done processing\n",
      "22:57:14 - cmdstanpy - INFO - Chain [1] start processing\n"
     ]
    },
    {
     "name": "stdout",
     "output_type": "stream",
     "text": [
      "It's overpredicted.\n",
      "Monthly Error: 40.86 Period MAE: 33.18\n",
      "It's underpredicted.\n",
      "Monthly Error: 26.89 Period MAE: 27.16\n"
     ]
    },
    {
     "name": "stderr",
     "output_type": "stream",
     "text": [
      "22:57:15 - cmdstanpy - INFO - Chain [1] done processing\n",
      "22:57:15 - cmdstanpy - INFO - Chain [1] start processing\n",
      "22:57:15 - cmdstanpy - INFO - Chain [1] start processing\n",
      "22:57:15 - cmdstanpy - INFO - Chain [1] done processing\n",
      "22:57:15 - cmdstanpy - INFO - Chain [1] done processing\n"
     ]
    },
    {
     "name": "stdout",
     "output_type": "stream",
     "text": [
      "It's underpredicted.\n",
      "Monthly Error: 23.7 Period MAE: 18.3\n",
      "It's underpredicted."
     ]
    },
    {
     "name": "stderr",
     "output_type": "stream",
     "text": [
      "22:57:17 - cmdstanpy - INFO - Chain [1] start processing\n"
     ]
    },
    {
     "name": "stdout",
     "output_type": "stream",
     "text": [
      "\n",
      "Monthly Error: It's overpredicted.22.3 \n",
      "Period MAE:Monthly Error: 46.9  13.13Period MAE:\n",
      " 41.67\n"
     ]
    },
    {
     "name": "stderr",
     "output_type": "stream",
     "text": [
      "22:57:17 - cmdstanpy - INFO - Chain [1] done processing\n",
      "22:57:17 - cmdstanpy - INFO - Chain [1] start processing\n",
      "22:57:17 - cmdstanpy - INFO - Chain [1] start processing\n",
      "22:57:17 - cmdstanpy - INFO - Chain [1] done processing\n",
      "22:57:18 - cmdstanpy - INFO - Chain [1] done processing\n"
     ]
    },
    {
     "name": "stdout",
     "output_type": "stream",
     "text": [
      "It's overpredicted.\n",
      "Monthly Error: 47.83 Period MAE: 42.51\n"
     ]
    },
    {
     "name": "stderr",
     "output_type": "stream",
     "text": [
      "22:57:19 - cmdstanpy - INFO - Chain [1] start processing\n"
     ]
    },
    {
     "name": "stdout",
     "output_type": "stream",
     "text": [
      "It's underpredicted.\n",
      "Monthly Error: 25.16 Period MAE: 23.119999999999997\n"
     ]
    },
    {
     "name": "stderr",
     "output_type": "stream",
     "text": [
      "22:57:19 - cmdstanpy - INFO - Chain [1] done processing\n"
     ]
    },
    {
     "name": "stdout",
     "output_type": "stream",
     "text": [
      "It's overpredicted.\n",
      "Monthly Error: 60.47 Period MAE: 55.21\n",
      "It's overpredicted."
     ]
    },
    {
     "name": "stderr",
     "output_type": "stream",
     "text": [
      "22:57:20 - cmdstanpy - INFO - Chain [1] start processing\n"
     ]
    },
    {
     "name": "stdout",
     "output_type": "stream",
     "text": [
      "\n",
      "Monthly Error: 65.85 Period MAE: 60.099999999999994\n"
     ]
    },
    {
     "name": "stderr",
     "output_type": "stream",
     "text": [
      "22:57:20 - cmdstanpy - INFO - Chain [1] start processing\n",
      "22:57:20 - cmdstanpy - INFO - Chain [1] start processing\n",
      "22:57:20 - cmdstanpy - INFO - Chain [1] done processing\n",
      "22:57:20 - cmdstanpy - INFO - Chain [1] done processing\n",
      "22:57:20 - cmdstanpy - INFO - Chain [1] done processing\n"
     ]
    },
    {
     "name": "stdout",
     "output_type": "stream",
     "text": [
      "It's underpredicted.\n",
      "Monthly Error: 23.01 Period MAE: 15.620000000000001\n",
      "It's underpredicted.\n",
      "Monthly Error: 24.74 Period MAE: 20.919999999999998\n"
     ]
    },
    {
     "name": "stderr",
     "output_type": "stream",
     "text": [
      "22:57:21 - cmdstanpy - INFO - Chain [1] start processing\n",
      "22:57:21 - cmdstanpy - INFO - Chain [1] done processing\n",
      "22:57:22 - cmdstanpy - INFO - Chain [1] start processing\n",
      "22:57:22 - cmdstanpy - INFO - Chain [1] done processing\n"
     ]
    },
    {
     "name": "stdout",
     "output_type": "stream",
     "text": [
      "It's underpredicted.\n",
      "Monthly Error: 27.18 Period MAE: 27.52\n",
      "It's overpredicted.\n",
      "Monthly Error: 70.61 Period MAE: 64.96\n"
     ]
    },
    {
     "name": "stderr",
     "output_type": "stream",
     "text": [
      "22:57:24 - cmdstanpy - INFO - Chain [1] start processing\n"
     ]
    },
    {
     "name": "stdout",
     "output_type": "stream",
     "text": [
      "It's overpredicted.\n",
      "Monthly Error: 62.08 Period MAE: 56.56\n"
     ]
    },
    {
     "name": "stderr",
     "output_type": "stream",
     "text": [
      "22:57:24 - cmdstanpy - INFO - Chain [1] start processing\n",
      "22:57:24 - cmdstanpy - INFO - Chain [1] start processing\n",
      "22:57:24 - cmdstanpy - INFO - Chain [1] done processing\n"
     ]
    },
    {
     "name": "stdout",
     "output_type": "stream",
     "text": [
      "It's overpredicted.\n",
      "Monthly Error:"
     ]
    },
    {
     "name": "stderr",
     "output_type": "stream",
     "text": [
      "22:57:24 - cmdstanpy - INFO - Chain [1] done processing\n"
     ]
    },
    {
     "name": "stdout",
     "output_type": "stream",
     "text": [
      " 70.74 Period MAE: 65.05\n"
     ]
    },
    {
     "name": "stderr",
     "output_type": "stream",
     "text": [
      "22:57:24 - cmdstanpy - INFO - Chain [1] done processing\n",
      "22:57:25 - cmdstanpy - INFO - Chain [1] start processing\n",
      "22:57:25 - cmdstanpy - INFO - Chain [1] done processing\n"
     ]
    },
    {
     "name": "stdout",
     "output_type": "stream",
     "text": [
      "It's underpredicted.\n",
      "Monthly Error: 22.22 Period MAE: 20.19\n"
     ]
    },
    {
     "name": "stderr",
     "output_type": "stream",
     "text": [
      "22:57:26 - cmdstanpy - INFO - Chain [1] start processing\n"
     ]
    },
    {
     "name": "stdout",
     "output_type": "stream",
     "text": [
      "It's underpredicted.\n",
      "Monthly Error: 25.02 Period MAE: 20.51\n"
     ]
    },
    {
     "name": "stderr",
     "output_type": "stream",
     "text": [
      "22:57:26 - cmdstanpy - INFO - Chain [1] done processing\n",
      "22:57:26 - cmdstanpy - INFO - Chain [1] start processing\n",
      "22:57:26 - cmdstanpy - INFO - Chain [1] done processing\n"
     ]
    },
    {
     "name": "stdout",
     "output_type": "stream",
     "text": [
      "It's overpredicted.\n",
      "Monthly Error: 78.87 Period MAE: 72.78\n",
      "It's underpredicted.\n",
      "Monthly Error: 26.47 Period MAE: 27.16\n",
      "It's overpredicted.\n",
      "Monthly Error:"
     ]
    },
    {
     "name": "stderr",
     "output_type": "stream",
     "text": [
      "22:57:28 - cmdstanpy - INFO - Chain [1] start processing\n"
     ]
    },
    {
     "name": "stdout",
     "output_type": "stream",
     "text": [
      " 38.79 Period MAE: 31.2\n"
     ]
    },
    {
     "name": "stderr",
     "output_type": "stream",
     "text": [
      "22:57:28 - cmdstanpy - INFO - Chain [1] start processing\n",
      "22:57:28 - cmdstanpy - INFO - Chain [1] start processing\n",
      "22:57:28 - cmdstanpy - INFO - Chain [1] done processing\n",
      "22:57:28 - cmdstanpy - INFO - Chain [1] done processing\n",
      "22:57:29 - cmdstanpy - INFO - Chain [1] done processing\n"
     ]
    },
    {
     "name": "stdout",
     "output_type": "stream",
     "text": [
      "It's overpredicted.\n",
      "Monthly Error: 45.83 Period MAE: 41.589999999999996\n",
      "It's underpredicted.\n",
      "Monthly Error: 20.98 Period MAE: 14.92\n"
     ]
    },
    {
     "name": "stderr",
     "output_type": "stream",
     "text": [
      "22:57:29 - cmdstanpy - INFO - Chain [1] start processing\n",
      "22:57:30 - cmdstanpy - INFO - Chain [1] done processing\n",
      "22:57:30 - cmdstanpy - INFO - Chain [1] start processing\n"
     ]
    },
    {
     "name": "stdout",
     "output_type": "stream",
     "text": [
      "It's underpredicted.\n",
      "Monthly Error: 22.28 Period MAE: 18.25\n"
     ]
    },
    {
     "name": "stderr",
     "output_type": "stream",
     "text": [
      "22:57:30 - cmdstanpy - INFO - Chain [1] done processing\n",
      "22:57:30 - cmdstanpy - INFO - Chain [1] start processing\n",
      "22:57:31 - cmdstanpy - INFO - Chain [1] done processing\n"
     ]
    },
    {
     "name": "stdout",
     "output_type": "stream",
     "text": [
      "It's underpredicted.\n",
      "Monthly Error: 22.09 Period MAE: 22.78\n",
      "It's overpredicted.\n",
      "Monthly Error: 45.18 Period MAE: 40.910000000000004\n",
      "It's overpredicted.\n",
      "Monthly Error: 65.71 Period MAE: 60.57\n"
     ]
    },
    {
     "name": "stderr",
     "output_type": "stream",
     "text": [
      "22:57:32 - cmdstanpy - INFO - Chain [1] start processing\n",
      "22:57:32 - cmdstanpy - INFO - Chain [1] start processing\n",
      "22:57:32 - cmdstanpy - INFO - Chain [1] start processing\n",
      "22:57:33 - cmdstanpy - INFO - Chain [1] done processing\n",
      "22:57:33 - cmdstanpy - INFO - Chain [1] done processing\n"
     ]
    },
    {
     "name": "stdout",
     "output_type": "stream",
     "text": [
      "It's overpredicted."
     ]
    },
    {
     "name": "stderr",
     "output_type": "stream",
     "text": [
      "22:57:33 - cmdstanpy - INFO - Chain [1] done processing\n"
     ]
    },
    {
     "name": "stdout",
     "output_type": "stream",
     "text": [
      "\n",
      "Monthly Error: 69.75 Period MAE: 64.3\n"
     ]
    },
    {
     "name": "stderr",
     "output_type": "stream",
     "text": [
      "22:57:33 - cmdstanpy - INFO - Chain [1] start processing\n"
     ]
    },
    {
     "name": "stdout",
     "output_type": "stream",
     "text": [
      "It's underpredicted.\n",
      "Monthly Error: 23.3 Period MAE: 22.31\n"
     ]
    },
    {
     "name": "stderr",
     "output_type": "stream",
     "text": [
      "22:57:34 - cmdstanpy - INFO - Chain [1] done processing\n",
      "22:57:34 - cmdstanpy - INFO - Chain [1] start processing\n"
     ]
    },
    {
     "name": "stdout",
     "output_type": "stream",
     "text": [
      "It's underpredicted.\n"
     ]
    },
    {
     "name": "stderr",
     "output_type": "stream",
     "text": [
      "22:57:35 - cmdstanpy - INFO - Chain [1] done processing\n"
     ]
    },
    {
     "name": "stdout",
     "output_type": "stream",
     "text": [
      "Monthly Error: 21.92 Period MAE: 16.96\n"
     ]
    },
    {
     "name": "stderr",
     "output_type": "stream",
     "text": [
      "22:57:35 - cmdstanpy - INFO - Chain [1] start processing\n",
      "22:57:35 - cmdstanpy - INFO - Chain [1] done processing\n"
     ]
    },
    {
     "name": "stdout",
     "output_type": "stream",
     "text": [
      "It's underpredicted.\n",
      "Monthly Error: 27.66 Period MAE: 28.32\n",
      "It's overpredicted.\n",
      "Monthly Error: 70.25 Period MAE: 64.67\n",
      "It's overpredicted.\n",
      "Monthly Error: 72.12 Period MAE: 66.81\n"
     ]
    },
    {
     "name": "stderr",
     "output_type": "stream",
     "text": [
      "22:57:37 - cmdstanpy - INFO - Chain [1] start processing\n",
      "22:57:37 - cmdstanpy - INFO - Chain [1] start processing\n",
      "22:57:37 - cmdstanpy - INFO - Chain [1] done processing\n",
      "22:57:37 - cmdstanpy - INFO - Chain [1] start processing\n"
     ]
    },
    {
     "name": "stdout",
     "output_type": "stream",
     "text": [
      "It's overpredicted."
     ]
    },
    {
     "name": "stderr",
     "output_type": "stream",
     "text": [
      "22:57:37 - cmdstanpy - INFO - Chain [1] done processing\n"
     ]
    },
    {
     "name": "stdout",
     "output_type": "stream",
     "text": [
      "\n",
      "Monthly Error: 79.78 Period MAE: 74.25\n",
      "It's underpredicted.\n",
      "Monthly Error: 18.25 Period MAE:"
     ]
    },
    {
     "name": "stderr",
     "output_type": "stream",
     "text": [
      "22:57:38 - cmdstanpy - INFO - Chain [1] start processing\n"
     ]
    },
    {
     "name": "stdout",
     "output_type": "stream",
     "text": [
      " 4.24\n"
     ]
    },
    {
     "name": "stderr",
     "output_type": "stream",
     "text": [
      "22:57:38 - cmdstanpy - INFO - Chain [1] done processing\n",
      "22:57:38 - cmdstanpy - INFO - Chain [1] done processing\n",
      "22:57:38 - cmdstanpy - INFO - Chain [1] start processing\n",
      "22:57:39 - cmdstanpy - INFO - Chain [1] done processing\n"
     ]
    },
    {
     "name": "stdout",
     "output_type": "stream",
     "text": [
      "It's underpredicted.\n",
      "Monthly Error: 18.04 It's overpredicted.Period MAE: \n",
      "10.870000000000001Monthly Error:\n",
      " 78.78 Period MAE: 73.27\n",
      "It's underpredicted.\n"
     ]
    },
    {
     "name": "stderr",
     "output_type": "stream",
     "text": [
      "22:57:41 - cmdstanpy - INFO - Chain [1] start processing\n"
     ]
    },
    {
     "name": "stdout",
     "output_type": "stream",
     "text": [
      "Monthly Error: 18.85 Period MAE: 4.25\n",
      "It's underpredicted.\n"
     ]
    },
    {
     "name": "stderr",
     "output_type": "stream",
     "text": [
      "22:57:41 - cmdstanpy - INFO - Chain [1] done processing\n"
     ]
    },
    {
     "name": "stdout",
     "output_type": "stream",
     "text": [
      "Monthly Error: 29.2 Period MAE: 22.3\n"
     ]
    },
    {
     "name": "stderr",
     "output_type": "stream",
     "text": [
      "22:57:41 - cmdstanpy - INFO - Chain [1] start processing\n",
      "22:57:41 - cmdstanpy - INFO - Chain [1] start processing\n",
      "22:57:42 - cmdstanpy - INFO - Chain [1] start processing\n",
      "22:57:42 - cmdstanpy - INFO - Chain [1] done processing\n",
      "22:57:42 - cmdstanpy - INFO - Chain [1] done processing\n",
      "22:57:42 - cmdstanpy - INFO - Chain [1] done processing\n"
     ]
    },
    {
     "name": "stdout",
     "output_type": "stream",
     "text": [
      "It's underpredicted.\n",
      "Monthly Error: 18.25 Period MAE: 4.2299999999999995\n"
     ]
    },
    {
     "name": "stderr",
     "output_type": "stream",
     "text": [
      "22:57:43 - cmdstanpy - INFO - Chain [1] start processing\n",
      "22:57:43 - cmdstanpy - INFO - Chain [1] done processing\n"
     ]
    },
    {
     "name": "stdout",
     "output_type": "stream",
     "text": [
      "It's underpredicted.\n",
      "Monthly Error: 19.42 Period MAE: 2.9000000000000004\n",
      "It's underpredicted.\n",
      "Monthly Error: 26.8 Period MAE:"
     ]
    },
    {
     "name": "stderr",
     "output_type": "stream",
     "text": [
      "22:57:44 - cmdstanpy - INFO - Chain [1] start processing\n"
     ]
    },
    {
     "name": "stdout",
     "output_type": "stream",
     "text": [
      " 23.69It's underpredicted.\n",
      "\n",
      "Monthly Error: 25.86 Period MAE: 14.34\n"
     ]
    },
    {
     "name": "stderr",
     "output_type": "stream",
     "text": [
      "22:57:44 - cmdstanpy - INFO - Chain [1] done processing\n",
      "22:57:45 - cmdstanpy - INFO - Chain [1] start processing\n",
      "22:57:45 - cmdstanpy - INFO - Chain [1] done processing\n"
     ]
    },
    {
     "name": "stdout",
     "output_type": "stream",
     "text": [
      "It's overpredicted.\n",
      "Monthly Error: 62.63 Period MAE: 57.87\n"
     ]
    },
    {
     "name": "stderr",
     "output_type": "stream",
     "text": [
      "22:57:45 - cmdstanpy - INFO - Chain [1] start processing\n"
     ]
    },
    {
     "name": "stdout",
     "output_type": "stream",
     "text": [
      "It's underpredicted.\n",
      "Monthly Error: 17.71 Period MAE: 9.26\n"
     ]
    },
    {
     "name": "stderr",
     "output_type": "stream",
     "text": [
      "22:57:46 - cmdstanpy - INFO - Chain [1] done processing\n",
      "22:57:46 - cmdstanpy - INFO - Chain [1] start processing\n",
      "22:57:46 - cmdstanpy - INFO - Chain [1] start processing\n",
      "22:57:46 - cmdstanpy - INFO - Chain [1] done processing\n",
      "22:57:46 - cmdstanpy - INFO - Chain [1] done processing\n"
     ]
    },
    {
     "name": "stdout",
     "output_type": "stream",
     "text": [
      "It's underpredicted.\n",
      "It's overpredicted.Monthly Error:\n",
      "Monthly Error:  22.4558.86It's underpredicted.  \n",
      "Period MAE:Period MAE:  54.33Monthly Error:13.74 \n",
      "19.5\n",
      " Period MAE: 3.81\n"
     ]
    },
    {
     "name": "stderr",
     "output_type": "stream",
     "text": [
      "22:57:48 - cmdstanpy - INFO - Chain [1] start processing\n",
      "22:57:48 - cmdstanpy - INFO - Chain [1] start processing\n",
      "22:57:48 - cmdstanpy - INFO - Chain [1] done processing\n",
      "22:57:48 - cmdstanpy - INFO - Chain [1] start processing\n",
      "22:57:48 - cmdstanpy - INFO - Chain [1] done processing\n",
      "22:57:48 - cmdstanpy - INFO - Chain [1] done processing\n"
     ]
    },
    {
     "name": "stdout",
     "output_type": "stream",
     "text": [
      "It's underpredicted.\n",
      "Monthly Error: 22.92 Period MAE: 20.1\n",
      "It's overpredicted.\n",
      "Monthly Error: 60.87 Period MAE: 56.07\n",
      "It's overpredicted.\n",
      "Monthly Error: 39.0 Period MAE: 14.149999999999999\n",
      "It's underpredicted."
     ]
    },
    {
     "name": "stderr",
     "output_type": "stream",
     "text": [
      "22:57:50 - cmdstanpy - INFO - Chain [1] start processing\n"
     ]
    },
    {
     "name": "stdout",
     "output_type": "stream",
     "text": [
      "\n",
      "Monthly Error: 31.19 Period MAE: 10.24\n"
     ]
    },
    {
     "name": "stderr",
     "output_type": "stream",
     "text": [
      "22:57:51 - cmdstanpy - INFO - Chain [1] start processing\n",
      "22:57:51 - cmdstanpy - INFO - Chain [1] start processing\n",
      "22:57:51 - cmdstanpy - INFO - Chain [1] done processing\n",
      "22:57:51 - cmdstanpy - INFO - Chain [1] start processing\n",
      "22:57:51 - cmdstanpy - INFO - Chain [1] done processing\n",
      "22:57:51 - cmdstanpy - INFO - Chain [1] done processing\n",
      "22:57:51 - cmdstanpy - INFO - Chain [1] done processing\n"
     ]
    },
    {
     "name": "stdout",
     "output_type": "stream",
     "text": [
      "It's underpredicted.\n",
      "Monthly Error: 19.82 Period MAE: 17.16\n"
     ]
    },
    {
     "name": "stderr",
     "output_type": "stream",
     "text": [
      "22:57:52 - cmdstanpy - INFO - Chain [1] start processing\n",
      "22:57:52 - cmdstanpy - INFO - Chain [1] done processing\n"
     ]
    },
    {
     "name": "stdout",
     "output_type": "stream",
     "text": [
      "It's underpredicted.\n",
      "Monthly Error: 23.69 Period MAE: 12.29\n"
     ]
    },
    {
     "name": "stderr",
     "output_type": "stream",
     "text": [
      "22:57:53 - cmdstanpy - INFO - Chain [1] start processing\n",
      "22:57:54 - cmdstanpy - INFO - Chain [1] done processing\n"
     ]
    },
    {
     "name": "stdout",
     "output_type": "stream",
     "text": [
      "It's underpredicted.It's underpredicted.\n",
      "Monthly Error:It's underpredicted. \n",
      "\n",
      "19.53Monthly Error:Monthly Error:   Period MAE: 33.2224.219.41 \n",
      " Period MAE:Period MAE: 6.13 3.64\n",
      "\n"
     ]
    },
    {
     "name": "stderr",
     "output_type": "stream",
     "text": [
      "22:57:54 - cmdstanpy - INFO - Chain [1] start processing\n",
      "22:57:54 - cmdstanpy - INFO - Chain [1] start processing\n",
      "22:57:54 - cmdstanpy - INFO - Chain [1] done processing\n",
      "22:57:55 - cmdstanpy - INFO - Chain [1] start processing\n",
      "22:57:55 - cmdstanpy - INFO - Chain [1] done processing\n",
      "22:57:55 - cmdstanpy - INFO - Chain [1] done processing\n"
     ]
    },
    {
     "name": "stdout",
     "output_type": "stream",
     "text": [
      "It's underpredicted.\n",
      "Monthly Error: 22.71 Period MAE: 23.35\n"
     ]
    },
    {
     "name": "stderr",
     "output_type": "stream",
     "text": [
      "22:57:56 - cmdstanpy - INFO - Chain [1] start processing\n",
      "22:57:56 - cmdstanpy - INFO - Chain [1] done processing\n"
     ]
    },
    {
     "name": "stdout",
     "output_type": "stream",
     "text": [
      "It's underpredicted.\n",
      "Monthly Error: 24.07 Period MAE: It's underpredicted.6.260000000000001\n",
      "\n",
      "Monthly Error: 20.91 Period MAE: 14.14\n"
     ]
    },
    {
     "name": "stderr",
     "output_type": "stream",
     "text": [
      "22:57:57 - cmdstanpy - INFO - Chain [1] start processing\n",
      "22:57:57 - cmdstanpy - INFO - Chain [1] done processing\n",
      "22:57:57 - cmdstanpy - INFO - Chain [1] start processing\n",
      "22:57:57 - cmdstanpy - INFO - Chain [1] done processing\n"
     ]
    },
    {
     "name": "stdout",
     "output_type": "stream",
     "text": [
      "It's overpredicted.\n",
      "Monthly Error: 27.41 Period MAE: 0.89\n",
      "It's underpredicted.\n",
      "It's overpredicted.Monthly Error:\n",
      " Monthly Error:26.07  62.95 Period MAE: Period MAE:27.029999999999998\n",
      " 58.17\n"
     ]
    },
    {
     "name": "stderr",
     "output_type": "stream",
     "text": [
      "22:57:59 - cmdstanpy - INFO - Chain [1] start processing\n",
      "22:57:59 - cmdstanpy - INFO - Chain [1] start processing\n",
      "22:57:59 - cmdstanpy - INFO - Chain [1] done processing\n",
      "22:57:59 - cmdstanpy - INFO - Chain [1] start processing\n",
      "22:57:59 - cmdstanpy - INFO - Chain [1] done processing\n"
     ]
    },
    {
     "name": "stdout",
     "output_type": "stream",
     "text": [
      "It's overpredicted.\n",
      "Monthly Error: 60.04 Period MAE:"
     ]
    },
    {
     "name": "stderr",
     "output_type": "stream",
     "text": [
      "22:58:00 - cmdstanpy - INFO - Chain [1] done processing\n"
     ]
    },
    {
     "name": "stdout",
     "output_type": "stream",
     "text": [
      " 55.54\n",
      "It's underpredicted.\n",
      "Monthly Error: 21.71 Period MAE:"
     ]
    },
    {
     "name": "stderr",
     "output_type": "stream",
     "text": [
      "22:58:00 - cmdstanpy - INFO - Chain [1] start processing\n"
     ]
    },
    {
     "name": "stdout",
     "output_type": "stream",
     "text": [
      " 18.52\n"
     ]
    },
    {
     "name": "stderr",
     "output_type": "stream",
     "text": [
      "22:58:00 - cmdstanpy - INFO - Chain [1] done processing\n",
      "22:58:00 - cmdstanpy - INFO - Chain [1] start processing\n",
      "22:58:01 - cmdstanpy - INFO - Chain [1] done processing\n"
     ]
    },
    {
     "name": "stdout",
     "output_type": "stream",
     "text": [
      "It's underpredicted.\n",
      "Monthly Error: 22.08 Period MAE: 20.49\n"
     ]
    },
    {
     "name": "stderr",
     "output_type": "stream",
     "text": [
      "22:58:02 - cmdstanpy - INFO - Chain [1] start processing\n",
      "22:58:03 - cmdstanpy - INFO - Chain [1] done processing\n"
     ]
    },
    {
     "name": "stdout",
     "output_type": "stream",
     "text": [
      "It's underpredicted.\n",
      "Monthly Error: 23.54 Period MAE: 24.25\n",
      "It's overpredicted.\n",
      "Monthly Error: 61.28It's overpredicted. Period MAE: \n",
      "56.48Monthly Error:\n",
      " 31.02 Period MAE: 6.370000000000001\n"
     ]
    },
    {
     "name": "stderr",
     "output_type": "stream",
     "text": [
      "22:58:04 - cmdstanpy - INFO - Chain [1] start processing\n",
      "22:58:04 - cmdstanpy - INFO - Chain [1] start processing\n",
      "22:58:04 - cmdstanpy - INFO - Chain [1] done processing\n",
      "22:58:04 - cmdstanpy - INFO - Chain [1] done processing\n",
      "22:58:05 - cmdstanpy - INFO - Chain [1] start processing\n",
      "22:58:05 - cmdstanpy - INFO - Chain [1] done processing\n"
     ]
    },
    {
     "name": "stdout",
     "output_type": "stream",
     "text": [
      "It's underpredicted.\n",
      "Monthly Error: 23.79It's overpredicted.\n",
      " Monthly Error: Period MAE:34.11 Period MAE:  It's underpredicted.12.41\n",
      "19.220000000000002\n",
      "Monthly Error:\n",
      " 23.1 Period MAE: 17.65\n"
     ]
    },
    {
     "name": "stderr",
     "output_type": "stream",
     "text": [
      "22:58:06 - cmdstanpy - INFO - Chain [1] start processing\n",
      "22:58:06 - cmdstanpy - INFO - Chain [1] done processing\n",
      "22:58:06 - cmdstanpy - INFO - Chain [1] start processing\n",
      "22:58:06 - cmdstanpy - INFO - Chain [1] start processing\n",
      "22:58:06 - cmdstanpy - INFO - Chain [1] done processing\n",
      "22:58:06 - cmdstanpy - INFO - Chain [1] done processing\n"
     ]
    },
    {
     "name": "stdout",
     "output_type": "stream",
     "text": [
      "It's underpredicted.\n",
      "Monthly Error: 25.95 Period MAE: 25.81\n",
      "It's overpredicted.It's overpredicted.\n",
      "\n",
      "Monthly Error: Monthly Error: 40.29 35.92 Period MAE:Period MAE:  11.3331.929999999999996\n",
      "\n"
     ]
    },
    {
     "name": "stderr",
     "output_type": "stream",
     "text": [
      "22:58:08 - cmdstanpy - INFO - Chain [1] start processing\n"
     ]
    },
    {
     "name": "stdout",
     "output_type": "stream",
     "text": [
      "It's overpredicted.\n",
      "Monthly Error:"
     ]
    },
    {
     "name": "stderr",
     "output_type": "stream",
     "text": [
      "22:58:09 - cmdstanpy - INFO - Chain [1] start processing\n"
     ]
    },
    {
     "name": "stdout",
     "output_type": "stream",
     "text": [
      " "
     ]
    },
    {
     "name": "stderr",
     "output_type": "stream",
     "text": [
      "22:58:09 - cmdstanpy - INFO - Chain [1] done processing\n"
     ]
    },
    {
     "name": "stdout",
     "output_type": "stream",
     "text": [
      "44.32 Period MAE:"
     ]
    },
    {
     "name": "stderr",
     "output_type": "stream",
     "text": [
      "22:58:09 - cmdstanpy - INFO - Chain [1] start processing\n"
     ]
    },
    {
     "name": "stdout",
     "output_type": "stream",
     "text": [
      " 38.46\n"
     ]
    },
    {
     "name": "stderr",
     "output_type": "stream",
     "text": [
      "22:58:09 - cmdstanpy - INFO - Chain [1] done processing\n",
      "22:58:09 - cmdstanpy - INFO - Chain [1] start processing\n",
      "22:58:09 - cmdstanpy - INFO - Chain [1] done processing\n",
      "22:58:09 - cmdstanpy - INFO - Chain [1] done processing\n"
     ]
    },
    {
     "name": "stdout",
     "output_type": "stream",
     "text": [
      "It's underpredicted.\n",
      "Monthly Error: 22.24 Period MAE: 12.9\n"
     ]
    },
    {
     "name": "stderr",
     "output_type": "stream",
     "text": [
      "22:58:10 - cmdstanpy - INFO - Chain [1] start processing\n"
     ]
    },
    {
     "name": "stdout",
     "output_type": "stream",
     "text": [
      "It's underpredicted.\n"
     ]
    },
    {
     "name": "stderr",
     "output_type": "stream",
     "text": [
      "22:58:11 - cmdstanpy - INFO - Chain [1] done processing\n"
     ]
    },
    {
     "name": "stdout",
     "output_type": "stream",
     "text": [
      "Monthly Error: 24.51 Period MAE: 19.61\n"
     ]
    },
    {
     "name": "stderr",
     "output_type": "stream",
     "text": [
      "22:58:11 - cmdstanpy - INFO - Chain [1] start processing\n",
      "22:58:11 - cmdstanpy - INFO - Chain [1] done processing\n"
     ]
    },
    {
     "name": "stdout",
     "output_type": "stream",
     "text": [
      "It's overpredicted.\n",
      "Monthly Error: 58.42 Period MAE: 53.32\n",
      "It's overpredicted.\n",
      "Monthly Error: 49.32 Period MAE: 43.91\n",
      "It's underpredicted.\n",
      "Monthly Error: 24.81 Period MAE: 21.97\n"
     ]
    },
    {
     "name": "stderr",
     "output_type": "stream",
     "text": [
      "22:58:12 - cmdstanpy - INFO - Chain [1] start processing\n",
      "22:58:13 - cmdstanpy - INFO - Chain [1] start processing\n",
      "22:58:13 - cmdstanpy - INFO - Chain [1] start processing\n",
      "22:58:13 - cmdstanpy - INFO - Chain [1] done processing\n",
      "22:58:13 - cmdstanpy - INFO - Chain [1] done processing\n",
      "22:58:13 - cmdstanpy - INFO - Chain [1] done processing\n"
     ]
    },
    {
     "name": "stdout",
     "output_type": "stream",
     "text": [
      "It's overpredicted.\n",
      "Monthly Error: 62.28 Period MAE: 56.769999999999996It's underpredicted.\n",
      "\n",
      "Monthly Error: 23.67 Period MAE: 19.06\n"
     ]
    },
    {
     "name": "stderr",
     "output_type": "stream",
     "text": [
      "22:58:14 - cmdstanpy - INFO - Chain [1] start processing\n",
      "22:58:14 - cmdstanpy - INFO - Chain [1] done processing\n",
      "22:58:15 - cmdstanpy - INFO - Chain [1] start processing\n"
     ]
    },
    {
     "name": "stdout",
     "output_type": "stream",
     "text": [
      "It's underpredicted.\n",
      "Monthly Error: 22.8 Period MAE: 14.23\n"
     ]
    },
    {
     "name": "stderr",
     "output_type": "stream",
     "text": [
      "22:58:15 - cmdstanpy - INFO - Chain [1] done processing\n",
      "22:58:15 - cmdstanpy - INFO - Chain [1] start processing\n",
      "22:58:16 - cmdstanpy - INFO - Chain [1] done processing\n"
     ]
    },
    {
     "name": "stdout",
     "output_type": "stream",
     "text": [
      "It's overpredicted.\n",
      "Monthly Error: 63.95 Period MAE: 58.309999999999995\n",
      "It's underpredicted.\n",
      "Monthly Error: 27.57 Period MAE: 27.91\n",
      "It's overpredicted.\n",
      "Monthly Error: 65.29 Period MAE: 59.79\n"
     ]
    },
    {
     "name": "stderr",
     "output_type": "stream",
     "text": [
      "22:58:17 - cmdstanpy - INFO - Chain [1] start processing\n",
      "22:58:17 - cmdstanpy - INFO - Chain [1] done processing\n",
      "22:58:17 - cmdstanpy - INFO - Chain [1] start processing\n",
      "22:58:18 - cmdstanpy - INFO - Chain [1] start processing\n"
     ]
    },
    {
     "name": "stdout",
     "output_type": "stream",
     "text": [
      "It's underpredicted.\n",
      "Monthly Error:"
     ]
    },
    {
     "name": "stderr",
     "output_type": "stream",
     "text": [
      "22:58:18 - cmdstanpy - INFO - Chain [1] done processing\n"
     ]
    },
    {
     "name": "stdout",
     "output_type": "stream",
     "text": [
      " 21.9 Period MAE: 19.53\n"
     ]
    },
    {
     "name": "stderr",
     "output_type": "stream",
     "text": [
      "22:58:18 - cmdstanpy - INFO - Chain [1] done processing\n",
      "22:58:18 - cmdstanpy - INFO - Chain [1] start processing\n",
      "22:58:19 - cmdstanpy - INFO - Chain [1] done processing\n"
     ]
    },
    {
     "name": "stdout",
     "output_type": "stream",
     "text": [
      "It's overpredicted.\n",
      "Monthly Error: 71.61 Period MAE: 65.9\n"
     ]
    },
    {
     "name": "stderr",
     "output_type": "stream",
     "text": [
      "22:58:20 - cmdstanpy - INFO - Chain [1] start processing\n",
      "22:58:20 - cmdstanpy - INFO - Chain [1] done processing\n"
     ]
    },
    {
     "name": "stdout",
     "output_type": "stream",
     "text": [
      "It's underpredicted.\n",
      "Monthly Error: 25.2 Period MAE: 20.78\n"
     ]
    },
    {
     "name": "stderr",
     "output_type": "stream",
     "text": [
      "22:58:21 - cmdstanpy - INFO - Chain [1] start processing\n",
      "22:58:21 - cmdstanpy - INFO - Chain [1] done processing\n"
     ]
    },
    {
     "name": "stdout",
     "output_type": "stream",
     "text": [
      "It's underpredicted.\n",
      "Monthly Error: 25.43It's overpredicted. \n",
      "Period MAE:It's overpredicted.\n",
      "Monthly Error:  Monthly Error:72.77  26.16Period MAE:39.13\n",
      "  Period MAE:66.97999999999999 31.830000000000002\n",
      "\n"
     ]
    },
    {
     "name": "stderr",
     "output_type": "stream",
     "text": [
      "22:58:22 - cmdstanpy - INFO - Chain [1] start processing\n",
      "22:58:22 - cmdstanpy - INFO - Chain [1] start processing\n",
      "22:58:22 - cmdstanpy - INFO - Chain [1] start processing\n",
      "22:58:22 - cmdstanpy - INFO - Chain [1] done processing\n",
      "22:58:22 - cmdstanpy - INFO - Chain [1] done processing\n",
      "22:58:22 - cmdstanpy - INFO - Chain [1] done processing\n"
     ]
    },
    {
     "name": "stdout",
     "output_type": "stream",
     "text": [
      "It's overpredicted.\n",
      "Monthly Error: 45.32 Period MAE: 41.11\n",
      "It's underpredicted.\n",
      "Monthly Error: 21.64 Period MAE: 18.32\n"
     ]
    },
    {
     "name": "stderr",
     "output_type": "stream",
     "text": [
      "22:58:24 - cmdstanpy - INFO - Chain [1] start processing\n",
      "22:58:24 - cmdstanpy - INFO - Chain [1] done processing\n"
     ]
    },
    {
     "name": "stdout",
     "output_type": "stream",
     "text": [
      "It's underpredicted.\n",
      "Monthly Error:"
     ]
    },
    {
     "name": "stderr",
     "output_type": "stream",
     "text": [
      "22:58:24 - cmdstanpy - INFO - Chain [1] start processing\n"
     ]
    },
    {
     "name": "stdout",
     "output_type": "stream",
     "text": [
      " 22.54 Period MAE: 19.93\n"
     ]
    },
    {
     "name": "stderr",
     "output_type": "stream",
     "text": [
      "22:58:24 - cmdstanpy - INFO - Chain [1] start processing\n",
      "22:58:24 - cmdstanpy - INFO - Chain [1] done processing\n",
      "22:58:25 - cmdstanpy - INFO - Chain [1] done processing\n"
     ]
    },
    {
     "name": "stdout",
     "output_type": "stream",
     "text": [
      "It's underpredicted.\n",
      "Monthly Error: 23.84 Period MAE: 24.64\n",
      "It's overpredicted.\n",
      "Monthly Error: 40.76 Period MAE: 35.92\n",
      "It's overpredicted.\n",
      "Monthly Error: 65.26 Period MAE: 60.12\n"
     ]
    },
    {
     "name": "stderr",
     "output_type": "stream",
     "text": [
      "22:58:26 - cmdstanpy - INFO - Chain [1] start processing\n",
      "22:58:27 - cmdstanpy - INFO - Chain [1] start processing\n",
      "22:58:27 - cmdstanpy - INFO - Chain [1] done processing\n",
      "22:58:27 - cmdstanpy - INFO - Chain [1] start processing\n",
      "22:58:27 - cmdstanpy - INFO - Chain [1] done processing\n",
      "22:58:27 - cmdstanpy - INFO - Chain [1] done processing\n"
     ]
    },
    {
     "name": "stdout",
     "output_type": "stream",
     "text": [
      "It's overpredicted.\n",
      "Monthly Error: 74.86 Period MAE: 69.22\n",
      "It's underpredicted.\n",
      "Monthly Error: 23.26 Period MAE:"
     ]
    },
    {
     "name": "stderr",
     "output_type": "stream",
     "text": [
      "22:58:28 - cmdstanpy - INFO - Chain [1] start processing\n"
     ]
    },
    {
     "name": "stdout",
     "output_type": "stream",
     "text": [
      " 21.94\n"
     ]
    },
    {
     "name": "stderr",
     "output_type": "stream",
     "text": [
      "22:58:28 - cmdstanpy - INFO - Chain [1] done processing\n",
      "22:58:29 - cmdstanpy - INFO - Chain [1] start processing\n"
     ]
    },
    {
     "name": "stdout",
     "output_type": "stream",
     "text": [
      "It's underpredicted.\n"
     ]
    },
    {
     "name": "stderr",
     "output_type": "stream",
     "text": [
      "22:58:29 - cmdstanpy - INFO - Chain [1] done processing\n"
     ]
    },
    {
     "name": "stdout",
     "output_type": "stream",
     "text": [
      "Monthly Error: 22.4 Period MAE: 19.6\n"
     ]
    },
    {
     "name": "stderr",
     "output_type": "stream",
     "text": [
      "22:58:30 - cmdstanpy - INFO - Chain [1] start processing\n"
     ]
    },
    {
     "name": "stdout",
     "output_type": "stream",
     "text": [
      "It's underpredicted.\n",
      "Monthly Error: 27.39 Period MAE: 28.04\n"
     ]
    },
    {
     "name": "stderr",
     "output_type": "stream",
     "text": [
      "22:58:30 - cmdstanpy - INFO - Chain [1] done processing\n"
     ]
    },
    {
     "name": "stdout",
     "output_type": "stream",
     "text": [
      "It's overpredicted.\n",
      "Monthly Error: 68.9 Period MAE: 63.480000000000004\n"
     ]
    },
    {
     "name": "stderr",
     "output_type": "stream",
     "text": [
      "22:58:31 - cmdstanpy - INFO - Chain [1] start processing\n"
     ]
    },
    {
     "name": "stdout",
     "output_type": "stream",
     "text": [
      "It's overpredicted.\n",
      "Monthly Error: 68.6 Period MAE: 63.449999999999996\n"
     ]
    },
    {
     "name": "stderr",
     "output_type": "stream",
     "text": [
      "22:58:31 - cmdstanpy - INFO - Chain [1] start processing\n",
      "22:58:31 - cmdstanpy - INFO - Chain [1] start processing\n",
      "22:58:31 - cmdstanpy - INFO - Chain [1] done processing\n",
      "22:58:32 - cmdstanpy - INFO - Chain [1] done processing\n",
      "22:58:32 - cmdstanpy - INFO - Chain [1] done processing\n"
     ]
    },
    {
     "name": "stdout",
     "output_type": "stream",
     "text": [
      "It's overpredicted.\n",
      "Monthly Error: 74.05 Period MAE: 68.77\n",
      "It's underpredicted.\n",
      "Monthly Error: 18.3 Period MAE: 4.58\n"
     ]
    },
    {
     "name": "stderr",
     "output_type": "stream",
     "text": [
      "22:58:33 - cmdstanpy - INFO - Chain [1] start processing\n",
      "22:58:33 - cmdstanpy - INFO - Chain [1] done processing\n",
      "22:58:33 - cmdstanpy - INFO - Chain [1] start processing\n"
     ]
    },
    {
     "name": "stdout",
     "output_type": "stream",
     "text": [
      "It's underpredicted.\n"
     ]
    },
    {
     "name": "stderr",
     "output_type": "stream",
     "text": [
      "22:58:33 - cmdstanpy - INFO - Chain [1] done processing\n"
     ]
    },
    {
     "name": "stdout",
     "output_type": "stream",
     "text": [
      "Monthly Error: 22.46 Period MAE: 19.900000000000002\n"
     ]
    },
    {
     "name": "stderr",
     "output_type": "stream",
     "text": [
      "22:58:34 - cmdstanpy - INFO - Chain [1] start processing\n",
      "22:58:34 - cmdstanpy - INFO - Chain [1] done processing\n"
     ]
    },
    {
     "name": "stdout",
     "output_type": "stream",
     "text": [
      "It's underpredicted.\n",
      "Monthly Error: 29.31 Period MAE:It's underpredicted. 22.439999999999998\n",
      "\n",
      "Monthly Error: 18.29 Period MAE: 9.47\n",
      "It's overpredicted.\n",
      "Monthly Error: 77.56 Period MAE: 72.11\n"
     ]
    },
    {
     "name": "stderr",
     "output_type": "stream",
     "text": [
      "22:58:35 - cmdstanpy - INFO - Chain [1] start processing\n",
      "22:58:35 - cmdstanpy - INFO - Chain [1] done processing\n",
      "22:58:35 - cmdstanpy - INFO - Chain [1] start processing\n",
      "22:58:35 - cmdstanpy - INFO - Chain [1] start processing\n",
      "22:58:36 - cmdstanpy - INFO - Chain [1] done processing\n",
      "22:58:36 - cmdstanpy - INFO - Chain [1] done processing\n"
     ]
    },
    {
     "name": "stdout",
     "output_type": "stream",
     "text": [
      "It's underpredicted.\n",
      "Monthly Error: 18.11 Period MAE: It's underpredicted.3.58\n",
      "\n",
      "Monthly Error: 29.22 Period MAE: 22.43\n"
     ]
    },
    {
     "name": "stderr",
     "output_type": "stream",
     "text": [
      "22:58:37 - cmdstanpy - INFO - Chain [1] start processing\n",
      "22:58:37 - cmdstanpy - INFO - Chain [1] done processing\n",
      "22:58:37 - cmdstanpy - INFO - Chain [1] start processing\n"
     ]
    },
    {
     "name": "stdout",
     "output_type": "stream",
     "text": [
      "It's underpredicted.\n",
      "Monthly Error: 18.73 Period MAE: 5.27\n"
     ]
    },
    {
     "name": "stderr",
     "output_type": "stream",
     "text": [
      "22:58:37 - cmdstanpy - INFO - Chain [1] done processing\n",
      "22:58:38 - cmdstanpy - INFO - Chain [1] start processing\n",
      "22:58:38 - cmdstanpy - INFO - Chain [1] done processing\n"
     ]
    },
    {
     "name": "stdout",
     "output_type": "stream",
     "text": [
      "It's underpredicted.\n",
      "Monthly Error: 28.78 Period MAE: 21.099999999999998\n",
      "It's underpredicted.\n",
      "Monthly Error: 18.34 Period MAE: 9.93\n"
     ]
    },
    {
     "name": "stderr",
     "output_type": "stream",
     "text": [
      "22:58:39 - cmdstanpy - INFO - Chain [1] start processing\n",
      "22:58:39 - cmdstanpy - INFO - Chain [1] done processing\n",
      "22:58:39 - cmdstanpy - INFO - Chain [1] start processing\n"
     ]
    },
    {
     "name": "stdout",
     "output_type": "stream",
     "text": [
      "It's overpredicted.\n"
     ]
    },
    {
     "name": "stderr",
     "output_type": "stream",
     "text": [
      "22:58:39 - cmdstanpy - INFO - Chain [1] done processing\n"
     ]
    },
    {
     "name": "stdout",
     "output_type": "stream",
     "text": [
      "Monthly Error: 60.29 Period MAE: 55.60000000000001\n"
     ]
    },
    {
     "name": "stderr",
     "output_type": "stream",
     "text": [
      "22:58:40 - cmdstanpy - INFO - Chain [1] start processing\n",
      "22:58:40 - cmdstanpy - INFO - Chain [1] done processing\n"
     ]
    },
    {
     "name": "stdout",
     "output_type": "stream",
     "text": [
      "It's underpredicted.\n",
      "Monthly Error: 18.64 Period MAE: 4.77\n",
      "It's overpredicted.\n",
      "Monthly Error: 59.13 Period MAE: 54.52\n",
      "It's underpredicted.\n"
     ]
    },
    {
     "name": "stderr",
     "output_type": "stream",
     "text": [
      "22:58:41 - cmdstanpy - INFO - Chain [1] start processing\n"
     ]
    },
    {
     "name": "stdout",
     "output_type": "stream",
     "text": [
      "Monthly Error: 20.11 Period MAE:"
     ]
    },
    {
     "name": "stderr",
     "output_type": "stream",
     "text": [
      "22:58:41 - cmdstanpy - INFO - Chain [1] done processing\n"
     ]
    },
    {
     "name": "stdout",
     "output_type": "stream",
     "text": [
      " 12.030000000000001\n"
     ]
    },
    {
     "name": "stderr",
     "output_type": "stream",
     "text": [
      "22:58:41 - cmdstanpy - INFO - Chain [1] start processing\n",
      "22:58:41 - cmdstanpy - INFO - Chain [1] start processing\n",
      "22:58:42 - cmdstanpy - INFO - Chain [1] done processing\n",
      "22:58:42 - cmdstanpy - INFO - Chain [1] done processing\n"
     ]
    },
    {
     "name": "stdout",
     "output_type": "stream",
     "text": [
      "It's overpredicted.\n",
      "Monthly Error: 60.06 Period MAE: 55.32\n",
      "It's underpredicted.\n",
      "Monthly Error: 20.22 Period MAE: 17.68\n"
     ]
    },
    {
     "name": "stderr",
     "output_type": "stream",
     "text": [
      "22:58:43 - cmdstanpy - INFO - Chain [1] start processing\n"
     ]
    },
    {
     "name": "stdout",
     "output_type": "stream",
     "text": [
      "It's underpredicted.\n",
      "Monthly Error: 29.36 Period MAE: "
     ]
    },
    {
     "name": "stderr",
     "output_type": "stream",
     "text": [
      "22:58:44 - cmdstanpy - INFO - Chain [1] done processing\n"
     ]
    },
    {
     "name": "stdout",
     "output_type": "stream",
     "text": [
      "22.42\n"
     ]
    },
    {
     "name": "stderr",
     "output_type": "stream",
     "text": [
      "22:58:44 - cmdstanpy - INFO - Chain [1] start processing\n",
      "22:58:44 - cmdstanpy - INFO - Chain [1] start processing\n",
      "22:58:44 - cmdstanpy - INFO - Chain [1] done processing\n",
      "22:58:44 - cmdstanpy - INFO - Chain [1] done processing\n"
     ]
    },
    {
     "name": "stdout",
     "output_type": "stream",
     "text": [
      "It's underpredicted.\n",
      "Monthly Error: 28.99 Period MAE: 21.87\n"
     ]
    },
    {
     "name": "stderr",
     "output_type": "stream",
     "text": [
      "22:58:45 - cmdstanpy - INFO - Chain [1] start processing\n"
     ]
    },
    {
     "name": "stdout",
     "output_type": "stream",
     "text": [
      "It's underpredicted.\n",
      "Monthly Error: 19.47 It's underpredicted.Period MAE:\n",
      "Monthly Error:"
     ]
    },
    {
     "name": "stderr",
     "output_type": "stream",
     "text": [
      "22:58:45 - cmdstanpy - INFO - Chain [1] done processing\n"
     ]
    },
    {
     "name": "stdout",
     "output_type": "stream",
     "text": [
      " 15.9 \n",
      "20.59 Period MAE: 11.74\n"
     ]
    },
    {
     "name": "stderr",
     "output_type": "stream",
     "text": [
      "22:58:46 - cmdstanpy - INFO - Chain [1] start processing\n",
      "22:58:46 - cmdstanpy - INFO - Chain [1] start processing\n",
      "22:58:46 - cmdstanpy - INFO - Chain [1] done processing\n",
      "22:58:46 - cmdstanpy - INFO - Chain [1] done processing\n"
     ]
    },
    {
     "name": "stdout",
     "output_type": "stream",
     "text": [
      "It's underpredicted.\n",
      "Monthly Error:It's underpredicted. \n",
      "19.88Monthly Error:  28.98Period MAE:  20.18Period MAE:\n",
      " 20.77\n",
      "It's underpredicted.\n",
      "Monthly Error: 23.37 Period MAE: 9.879999999999999\n"
     ]
    },
    {
     "name": "stderr",
     "output_type": "stream",
     "text": [
      "22:58:48 - cmdstanpy - INFO - Chain [1] start processing\n",
      "22:58:48 - cmdstanpy - INFO - Chain [1] start processing\n",
      "22:58:48 - cmdstanpy - INFO - Chain [1] done processing\n"
     ]
    },
    {
     "name": "stdout",
     "output_type": "stream",
     "text": [
      "It's underpredicted.\n",
      "Monthly Error: 23.19 "
     ]
    },
    {
     "name": "stderr",
     "output_type": "stream",
     "text": [
      "22:58:48 - cmdstanpy - INFO - Chain [1] start processing\n"
     ]
    },
    {
     "name": "stdout",
     "output_type": "stream",
     "text": [
      "Period MAE:"
     ]
    },
    {
     "name": "stderr",
     "output_type": "stream",
     "text": [
      "22:58:49 - cmdstanpy - INFO - Chain [1] done processing\n"
     ]
    },
    {
     "name": "stdout",
     "output_type": "stream",
     "text": [
      " 9.64\n"
     ]
    },
    {
     "name": "stderr",
     "output_type": "stream",
     "text": [
      "22:58:49 - cmdstanpy - INFO - Chain [1] done processing\n",
      "22:58:49 - cmdstanpy - INFO - Chain [1] start processing\n",
      "22:58:49 - cmdstanpy - INFO - Chain [1] done processing\n"
     ]
    },
    {
     "name": "stdout",
     "output_type": "stream",
     "text": [
      "It's underpredicted.\n",
      "Monthly Error: 19.67 Period MAE: 17.26\n",
      "It's underpredicted.\n",
      "Monthly Error: 19.84 Period MAE: 14.46\n"
     ]
    },
    {
     "name": "stderr",
     "output_type": "stream",
     "text": [
      "22:58:50 - cmdstanpy - INFO - Chain [1] start processing\n",
      "22:58:50 - cmdstanpy - INFO - Chain [1] start processing\n",
      "22:58:51 - cmdstanpy - INFO - Chain [1] done processing\n",
      "22:58:51 - cmdstanpy - INFO - Chain [1] done processing\n"
     ]
    },
    {
     "name": "stdout",
     "output_type": "stream",
     "text": [
      "It's underpredicted.\n",
      "Monthly Error: 19.72 Period MAE: 19.8\n",
      "It's overpredicted.\n",
      "Monthly Error: 60.6 It's underpredicted.Period MAE:\n",
      " 55.92Monthly Error:\n",
      " 23.45 Period MAE: 8.15\n"
     ]
    },
    {
     "name": "stderr",
     "output_type": "stream",
     "text": [
      "22:58:52 - cmdstanpy - INFO - Chain [1] start processing\n",
      "22:58:52 - cmdstanpy - INFO - Chain [1] start processing\n",
      "22:58:52 - cmdstanpy - INFO - Chain [1] done processing\n"
     ]
    },
    {
     "name": "stdout",
     "output_type": "stream",
     "text": [
      "It's overpredicted."
     ]
    },
    {
     "name": "stderr",
     "output_type": "stream",
     "text": [
      "22:58:53 - cmdstanpy - INFO - Chain [1] done processing\n"
     ]
    },
    {
     "name": "stdout",
     "output_type": "stream",
     "text": [
      "\n",
      "Monthly Error: 59.77"
     ]
    },
    {
     "name": "stderr",
     "output_type": "stream",
     "text": [
      "22:58:53 - cmdstanpy - INFO - Chain [1] start processing\n"
     ]
    },
    {
     "name": "stdout",
     "output_type": "stream",
     "text": [
      " Period MAE: 55.19\n"
     ]
    },
    {
     "name": "stderr",
     "output_type": "stream",
     "text": [
      "22:58:53 - cmdstanpy - INFO - Chain [1] done processing\n",
      "22:58:53 - cmdstanpy - INFO - Chain [1] start processing\n"
     ]
    },
    {
     "name": "stdout",
     "output_type": "stream",
     "text": [
      "It's underpredicted.\n",
      "Monthly Error: 20.38 Period MAE: "
     ]
    },
    {
     "name": "stderr",
     "output_type": "stream",
     "text": [
      "22:58:53 - cmdstanpy - INFO - Chain [1] done processing\n"
     ]
    },
    {
     "name": "stdout",
     "output_type": "stream",
     "text": [
      "18.64\n"
     ]
    },
    {
     "name": "stderr",
     "output_type": "stream",
     "text": [
      "22:58:54 - cmdstanpy - INFO - Chain [1] start processing\n",
      "22:58:54 - cmdstanpy - INFO - Chain [1] done processing\n"
     ]
    },
    {
     "name": "stdout",
     "output_type": "stream",
     "text": [
      "It's underpredicted.\n",
      "Monthly Error: 20.03 Period MAE: 15.65\n"
     ]
    },
    {
     "name": "stderr",
     "output_type": "stream",
     "text": [
      "22:58:55 - cmdstanpy - INFO - Chain [1] start processing\n",
      "22:58:55 - cmdstanpy - INFO - Chain [1] done processing\n"
     ]
    },
    {
     "name": "stdout",
     "output_type": "stream",
     "text": [
      "It's underpredicted.\n",
      "Monthly Error: 21.76 Period MAE: 22.66\n",
      "It's underpredicted.\n",
      "Monthly Error: 23.43 Period MAE: 10.07\n",
      "It's overpredicted.\n",
      "Monthly Error: 60.18 Period MAE: 55.44\n"
     ]
    },
    {
     "name": "stderr",
     "output_type": "stream",
     "text": [
      "22:58:56 - cmdstanpy - INFO - Chain [1] start processing\n",
      "22:58:56 - cmdstanpy - INFO - Chain [1] start processing\n",
      "22:58:57 - cmdstanpy - INFO - Chain [1] done processing\n",
      "22:58:57 - cmdstanpy - INFO - Chain [1] start processing\n",
      "22:58:57 - cmdstanpy - INFO - Chain [1] done processing\n"
     ]
    },
    {
     "name": "stdout",
     "output_type": "stream",
     "text": [
      "It's underpredicted.\n",
      "Monthly Error: 23.4 It's underpredicted.Period MAE:"
     ]
    },
    {
     "name": "stderr",
     "output_type": "stream",
     "text": [
      "22:58:57 - cmdstanpy - INFO - Chain [1] done processing\n"
     ]
    },
    {
     "name": "stdout",
     "output_type": "stream",
     "text": [
      "\n",
      " 8.07\n",
      "Monthly Error: 22.08 Period MAE: 16.2\n"
     ]
    },
    {
     "name": "stderr",
     "output_type": "stream",
     "text": [
      "22:58:58 - cmdstanpy - INFO - Chain [1] start processing\n",
      "22:58:58 - cmdstanpy - INFO - Chain [1] done processing\n",
      "22:58:58 - cmdstanpy - INFO - Chain [1] start processing\n",
      "22:58:58 - cmdstanpy - INFO - Chain [1] done processing\n"
     ]
    },
    {
     "name": "stdout",
     "output_type": "stream",
     "text": [
      "It's underpredicted.\n",
      "Monthly Error: 23.85 It's underpredicted.Period MAE: \n",
      "19.72Monthly Error: \n",
      "21.04 Period MAE: 18.52\n"
     ]
    },
    {
     "name": "stderr",
     "output_type": "stream",
     "text": [
      "22:59:00 - cmdstanpy - INFO - Chain [1] start processing\n",
      "22:59:00 - cmdstanpy - INFO - Chain [1] done processing\n"
     ]
    },
    {
     "name": "stdout",
     "output_type": "stream",
     "text": [
      "It's underpredicted.\n",
      "Monthly Error: "
     ]
    },
    {
     "name": "stderr",
     "output_type": "stream",
     "text": [
      "22:59:00 - cmdstanpy - INFO - Chain [1] start processing\n"
     ]
    },
    {
     "name": "stdout",
     "output_type": "stream",
     "text": [
      "24.32 Period MAE: 6.03\n"
     ]
    },
    {
     "name": "stderr",
     "output_type": "stream",
     "text": [
      "22:59:00 - cmdstanpy - INFO - Chain [1] done processing\n"
     ]
    },
    {
     "name": "stdout",
     "output_type": "stream",
     "text": [
      "It's overpredicted.\n",
      "Monthly Error: 39.57 Period MAE: "
     ]
    },
    {
     "name": "stderr",
     "output_type": "stream",
     "text": [
      "22:59:01 - cmdstanpy - INFO - Chain [1] start processing\n"
     ]
    },
    {
     "name": "stdout",
     "output_type": "stream",
     "text": [
      "31.25\n"
     ]
    },
    {
     "name": "stderr",
     "output_type": "stream",
     "text": [
      "22:59:01 - cmdstanpy - INFO - Chain [1] done processing\n",
      "22:59:01 - cmdstanpy - INFO - Chain [1] start processing\n",
      "22:59:01 - cmdstanpy - INFO - Chain [1] done processing\n"
     ]
    },
    {
     "name": "stdout",
     "output_type": "stream",
     "text": [
      "It's underpredicted.\n",
      "Monthly Error: 22.97 Period MAE: 17.71\n",
      "It's underpredicted.\n"
     ]
    },
    {
     "name": "stderr",
     "output_type": "stream",
     "text": [
      "22:59:03 - cmdstanpy - INFO - Chain [1] start processing\n"
     ]
    },
    {
     "name": "stdout",
     "output_type": "stream",
     "text": [
      "Monthly Error: 22.59 Period MAE: 14.7\n",
      "It's overpredicted.\n",
      "Monthly Error:"
     ]
    },
    {
     "name": "stderr",
     "output_type": "stream",
     "text": [
      "22:59:03 - cmdstanpy - INFO - Chain [1] done processing\n"
     ]
    },
    {
     "name": "stdout",
     "output_type": "stream",
     "text": [
      " 41.88 Period MAE: 34.52\n"
     ]
    },
    {
     "name": "stderr",
     "output_type": "stream",
     "text": [
      "22:59:04 - cmdstanpy - INFO - Chain [1] start processing\n",
      "22:59:04 - cmdstanpy - INFO - Chain [1] start processing\n",
      "22:59:04 - cmdstanpy - INFO - Chain [1] done processing\n"
     ]
    },
    {
     "name": "stdout",
     "output_type": "stream",
     "text": [
      "It's overpredicted.\n",
      "Monthly Error: 41.7 Period MAE: 34.03\n"
     ]
    },
    {
     "name": "stderr",
     "output_type": "stream",
     "text": [
      "22:59:04 - cmdstanpy - INFO - Chain [1] done processing\n",
      "22:59:05 - cmdstanpy - INFO - Chain [1] start processing\n"
     ]
    },
    {
     "name": "stdout",
     "output_type": "stream",
     "text": [
      "It's underpredicted.\n",
      "Monthly Error: 23.49 Period MAE: 17.49\n",
      "It's overpredicted.\n"
     ]
    },
    {
     "name": "stderr",
     "output_type": "stream",
     "text": [
      "22:59:06 - cmdstanpy - INFO - Chain [1] done processing\n"
     ]
    },
    {
     "name": "stdout",
     "output_type": "stream",
     "text": [
      "Monthly Error: 57.3 Period MAE: 52.27\n"
     ]
    },
    {
     "name": "stderr",
     "output_type": "stream",
     "text": [
      "22:59:07 - cmdstanpy - INFO - Chain [1] start processing\n"
     ]
    },
    {
     "name": "stdout",
     "output_type": "stream",
     "text": [
      "It's overpredicted.\n"
     ]
    },
    {
     "name": "stderr",
     "output_type": "stream",
     "text": [
      "22:59:07 - cmdstanpy - INFO - Chain [1] start processing\n"
     ]
    },
    {
     "name": "stdout",
     "output_type": "stream",
     "text": [
      "Monthly Error: 58.85 Period MAE: 53.669999999999995\n"
     ]
    },
    {
     "name": "stderr",
     "output_type": "stream",
     "text": [
      "22:59:07 - cmdstanpy - INFO - Chain [1] done processing\n",
      "22:59:07 - cmdstanpy - INFO - Chain [1] done processing\n",
      "22:59:07 - cmdstanpy - INFO - Chain [1] start processing\n",
      "22:59:08 - cmdstanpy - INFO - Chain [1] done processing\n"
     ]
    },
    {
     "name": "stdout",
     "output_type": "stream",
     "text": [
      "It's underpredicted.\n",
      "Monthly Error: 24.02 It's underpredicted.Period MAE:\n",
      " 19.6Monthly Error:\n",
      " 23.31 Period MAE: 16.72\n"
     ]
    },
    {
     "name": "stderr",
     "output_type": "stream",
     "text": [
      "22:59:09 - cmdstanpy - INFO - Chain [1] start processing\n",
      "22:59:09 - cmdstanpy - INFO - Chain [1] start processing\n",
      "22:59:09 - cmdstanpy - INFO - Chain [1] done processing\n"
     ]
    },
    {
     "name": "stdout",
     "output_type": "stream",
     "text": [
      "It's overpredicted.\n",
      "Monthly Error:"
     ]
    },
    {
     "name": "stderr",
     "output_type": "stream",
     "text": [
      "22:59:09 - cmdstanpy - INFO - Chain [1] done processing\n"
     ]
    },
    {
     "name": "stdout",
     "output_type": "stream",
     "text": [
      " 45.93 Period MAE: 40.47\n"
     ]
    },
    {
     "name": "stderr",
     "output_type": "stream",
     "text": [
      "22:59:10 - cmdstanpy - INFO - Chain [1] start processing\n"
     ]
    },
    {
     "name": "stdout",
     "output_type": "stream",
     "text": [
      "It's underpredicted.It's overpredicted.\n",
      "\n",
      "Monthly Error:Monthly Error:  55.9124.46 Period MAE:  50.949999999999996Period MAE:\n",
      " 20.77\n"
     ]
    },
    {
     "name": "stderr",
     "output_type": "stream",
     "text": [
      "22:59:11 - cmdstanpy - INFO - Chain [1] start processing\n",
      "22:59:11 - cmdstanpy - INFO - Chain [1] done processing\n"
     ]
    },
    {
     "name": "stdout",
     "output_type": "stream",
     "text": [
      "It's overpredicted.\n",
      "Monthly Error: 42.06 "
     ]
    },
    {
     "name": "stderr",
     "output_type": "stream",
     "text": [
      "22:59:11 - cmdstanpy - INFO - Chain [1] done processing\n"
     ]
    },
    {
     "name": "stdout",
     "output_type": "stream",
     "text": [
      "Period MAE: 35.010000000000005\n"
     ]
    },
    {
     "name": "stderr",
     "output_type": "stream",
     "text": [
      "22:59:11 - cmdstanpy - INFO - Chain [1] start processing\n",
      "22:59:11 - cmdstanpy - INFO - Chain [1] start processing\n",
      "22:59:12 - cmdstanpy - INFO - Chain [1] done processing\n"
     ]
    },
    {
     "name": "stdout",
     "output_type": "stream",
     "text": [
      "It's underpredicted.\n",
      "Monthly Error: 22.34 Period MAE: 20.76\n"
     ]
    },
    {
     "name": "stderr",
     "output_type": "stream",
     "text": [
      "22:59:12 - cmdstanpy - INFO - Chain [1] done processing\n",
      "22:59:12 - cmdstanpy - INFO - Chain [1] start processing\n"
     ]
    },
    {
     "name": "stdout",
     "output_type": "stream",
     "text": [
      "It's underpredicted.\n",
      "Monthly Error: 23.37 Period MAE: 18.5\n"
     ]
    },
    {
     "name": "stderr",
     "output_type": "stream",
     "text": [
      "22:59:13 - cmdstanpy - INFO - Chain [1] done processing\n",
      "22:59:13 - cmdstanpy - INFO - Chain [1] start processing\n",
      "22:59:13 - cmdstanpy - INFO - Chain [1] done processing\n"
     ]
    },
    {
     "name": "stdout",
     "output_type": "stream",
     "text": [
      "It's underpredicted.\n",
      "Monthly Error: 22.75 Period MAE: 21.8It's overpredicted.\n",
      "\n",
      "Monthly Error: 41.33 Period MAE: 36.230000000000004\n",
      "It's overpredicted.\n",
      "Monthly Error: 45.94 Period MAE: 40.61\n"
     ]
    },
    {
     "name": "stderr",
     "output_type": "stream",
     "text": [
      "22:59:15 - cmdstanpy - INFO - Chain [1] start processing\n",
      "22:59:15 - cmdstanpy - INFO - Chain [1] start processing\n",
      "22:59:15 - cmdstanpy - INFO - Chain [1] start processing\n",
      "22:59:15 - cmdstanpy - INFO - Chain [1] done processing\n",
      "22:59:15 - cmdstanpy - INFO - Chain [1] done processing\n"
     ]
    },
    {
     "name": "stdout",
     "output_type": "stream",
     "text": [
      "It's overpredicted.\n",
      "Monthly Error: 42.55 Period MAE: 37.99\n"
     ]
    },
    {
     "name": "stderr",
     "output_type": "stream",
     "text": [
      "22:59:16 - cmdstanpy - INFO - Chain [1] done processing\n",
      "22:59:16 - cmdstanpy - INFO - Chain [1] start processing\n"
     ]
    },
    {
     "name": "stdout",
     "output_type": "stream",
     "text": [
      "It's underpredicted.\n"
     ]
    },
    {
     "name": "stderr",
     "output_type": "stream",
     "text": [
      "22:59:16 - cmdstanpy - INFO - Chain [1] done processing\n"
     ]
    },
    {
     "name": "stdout",
     "output_type": "stream",
     "text": [
      "Monthly Error: 22.16 Period MAE: 20.22\n"
     ]
    },
    {
     "name": "stderr",
     "output_type": "stream",
     "text": [
      "22:59:17 - cmdstanpy - INFO - Chain [1] start processing\n"
     ]
    },
    {
     "name": "stdout",
     "output_type": "stream",
     "text": [
      "It's underpredicted.\n",
      "Monthly Error: 22.77 Period MAE: 21.279999999999998\n"
     ]
    },
    {
     "name": "stderr",
     "output_type": "stream",
     "text": [
      "22:59:17 - cmdstanpy - INFO - Chain [1] done processing\n",
      "22:59:18 - cmdstanpy - INFO - Chain [1] start processing\n"
     ]
    },
    {
     "name": "stdout",
     "output_type": "stream",
     "text": [
      "It's overpredicted.\n",
      "Monthly Error:"
     ]
    },
    {
     "name": "stderr",
     "output_type": "stream",
     "text": [
      "22:59:18 - cmdstanpy - INFO - Chain [1] done processing\n"
     ]
    },
    {
     "name": "stdout",
     "output_type": "stream",
     "text": [
      " 40.16 Period MAE: 33.86\n",
      "It's underpredicted.\n",
      "Monthly Error:"
     ]
    },
    {
     "name": "stderr",
     "output_type": "stream",
     "text": [
      "22:59:19 - cmdstanpy - INFO - Chain [1] start processing\n"
     ]
    },
    {
     "name": "stdout",
     "output_type": "stream",
     "text": [
      " 23.36 Period MAE: 22.67\n",
      "It's overpredicted.\n",
      "Monthly Error: 63.36 Period MAE: 58.39\n"
     ]
    },
    {
     "name": "stderr",
     "output_type": "stream",
     "text": [
      "22:59:19 - cmdstanpy - INFO - Chain [1] done processing\n",
      "22:59:19 - cmdstanpy - INFO - Chain [1] start processing\n",
      "22:59:20 - cmdstanpy - INFO - Chain [1] start processing\n",
      "22:59:20 - cmdstanpy - INFO - Chain [1] done processing\n",
      "22:59:20 - cmdstanpy - INFO - Chain [1] done processing\n"
     ]
    },
    {
     "name": "stdout",
     "output_type": "stream",
     "text": [
      "It's overpredicted.\n",
      "Monthly Error: 59.57 Period MAE: 54.7\n"
     ]
    },
    {
     "name": "stderr",
     "output_type": "stream",
     "text": [
      "22:59:20 - cmdstanpy - INFO - Chain [1] start processing\n"
     ]
    },
    {
     "name": "stdout",
     "output_type": "stream",
     "text": [
      "It's underpredicted."
     ]
    },
    {
     "name": "stderr",
     "output_type": "stream",
     "text": [
      "22:59:21 - cmdstanpy - INFO - Chain [1] done processing\n"
     ]
    },
    {
     "name": "stdout",
     "output_type": "stream",
     "text": [
      "\n",
      "Monthly Error: 21.81 Period MAE: 19.470000000000002\n",
      "It's underpredicted.\n",
      "Monthly Error: "
     ]
    },
    {
     "name": "stderr",
     "output_type": "stream",
     "text": [
      "22:59:21 - cmdstanpy - INFO - Chain [1] start processing\n"
     ]
    },
    {
     "name": "stdout",
     "output_type": "stream",
     "text": [
      "21.78 Period MAE: 19.189999999999998\n"
     ]
    },
    {
     "name": "stderr",
     "output_type": "stream",
     "text": [
      "22:59:22 - cmdstanpy - INFO - Chain [1] start processing\n",
      "22:59:22 - cmdstanpy - INFO - Chain [1] done processing\n"
     ]
    },
    {
     "name": "stdout",
     "output_type": "stream",
     "text": [
      "It's overpredicted.\n"
     ]
    },
    {
     "name": "stderr",
     "output_type": "stream",
     "text": [
      "22:59:22 - cmdstanpy - INFO - Chain [1] done processing\n"
     ]
    },
    {
     "name": "stdout",
     "output_type": "stream",
     "text": [
      "Monthly Error: 63.15 Period MAE: 58.209999999999994\n",
      "It's underpredicted.\n",
      "Monthly Error:It's overpredicted.\n",
      " Monthly Error:23.55 41.96"
     ]
    },
    {
     "name": "stderr",
     "output_type": "stream",
     "text": [
      "22:59:24 - cmdstanpy - INFO - Chain [1] start processing\n"
     ]
    },
    {
     "name": "stdout",
     "output_type": "stream",
     "text": [
      "  Period MAE:Period MAE:  37.269999999999996\n",
      "23.09\n"
     ]
    },
    {
     "name": "stderr",
     "output_type": "stream",
     "text": [
      "22:59:24 - cmdstanpy - INFO - Chain [1] start processing\n",
      "22:59:24 - cmdstanpy - INFO - Chain [1] start processing\n",
      "22:59:24 - cmdstanpy - INFO - Chain [1] done processing\n",
      "22:59:24 - cmdstanpy - INFO - Chain [1] done processing\n",
      "22:59:25 - cmdstanpy - INFO - Chain [1] done processing\n"
     ]
    },
    {
     "name": "stdout",
     "output_type": "stream",
     "text": [
      "It's overpredicted.\n",
      "Monthly Error: 41.57 Period MAE: 36.05\n",
      "It's underpredicted.\n",
      "Monthly Error:"
     ]
    },
    {
     "name": "stderr",
     "output_type": "stream",
     "text": [
      "22:59:25 - cmdstanpy - INFO - Chain [1] start processing\n"
     ]
    },
    {
     "name": "stdout",
     "output_type": "stream",
     "text": [
      " 18.11 Period MAE: 3.36\n"
     ]
    },
    {
     "name": "stderr",
     "output_type": "stream",
     "text": [
      "22:59:25 - cmdstanpy - INFO - Chain [1] done processing\n"
     ]
    },
    {
     "name": "stdout",
     "output_type": "stream",
     "text": [
      "It's underpredicted."
     ]
    },
    {
     "name": "stderr",
     "output_type": "stream",
     "text": [
      "22:59:26 - cmdstanpy - INFO - Chain [1] start processing\n"
     ]
    },
    {
     "name": "stdout",
     "output_type": "stream",
     "text": [
      "\n",
      "Monthly Error: 23.01 Period MAE: 21.86\n"
     ]
    },
    {
     "name": "stderr",
     "output_type": "stream",
     "text": [
      "22:59:26 - cmdstanpy - INFO - Chain [1] done processing\n",
      "22:59:26 - cmdstanpy - INFO - Chain [1] start processing\n",
      "22:59:26 - cmdstanpy - INFO - Chain [1] done processing\n"
     ]
    },
    {
     "name": "stdout",
     "output_type": "stream",
     "text": [
      "It's underpredicted.\n",
      "Monthly Error: It's underpredicted.\n",
      "18.14Monthly Error:  29.56Period MAE:  11.23\n",
      "Period MAE: 22.81\n",
      "It's overpredicted.\n",
      "Monthly Error: 40.31"
     ]
    },
    {
     "name": "stderr",
     "output_type": "stream",
     "text": [
      "22:59:28 - cmdstanpy - INFO - Chain [1] start processing\n"
     ]
    },
    {
     "name": "stdout",
     "output_type": "stream",
     "text": [
      " Period MAE: 34.050000000000004\n"
     ]
    },
    {
     "name": "stderr",
     "output_type": "stream",
     "text": [
      "22:59:28 - cmdstanpy - INFO - Chain [1] start processing\n",
      "22:59:28 - cmdstanpy - INFO - Chain [1] start processing\n",
      "22:59:28 - cmdstanpy - INFO - Chain [1] done processing\n",
      "22:59:28 - cmdstanpy - INFO - Chain [1] done processing\n"
     ]
    },
    {
     "name": "stdout",
     "output_type": "stream",
     "text": [
      "It's underpredicted.\n",
      "Monthly Error: 26.6 Period MAE: 23.7\n"
     ]
    },
    {
     "name": "stderr",
     "output_type": "stream",
     "text": [
      "22:59:29 - cmdstanpy - INFO - Chain [1] start processing\n"
     ]
    },
    {
     "name": "stdout",
     "output_type": "stream",
     "text": [
      "It's underpredicted.\n",
      "Monthly Error: 18.36 Period MAE:"
     ]
    },
    {
     "name": "stderr",
     "output_type": "stream",
     "text": [
      "22:59:29 - cmdstanpy - INFO - Chain [1] done processing\n"
     ]
    },
    {
     "name": "stdout",
     "output_type": "stream",
     "text": [
      " 4.68\n"
     ]
    },
    {
     "name": "stderr",
     "output_type": "stream",
     "text": [
      "22:59:29 - cmdstanpy - INFO - Chain [1] done processing\n"
     ]
    },
    {
     "name": "stdout",
     "output_type": "stream",
     "text": [
      "It's underpredicted.\n",
      "Monthly Error: 19.44 Period MAE: 3.6900000000000004\n"
     ]
    },
    {
     "name": "stderr",
     "output_type": "stream",
     "text": [
      "22:59:30 - cmdstanpy - INFO - Chain [1] start processing\n",
      "22:59:30 - cmdstanpy - INFO - Chain [1] start processing\n",
      "22:59:30 - cmdstanpy - INFO - Chain [1] done processing\n",
      "22:59:31 - cmdstanpy - INFO - Chain [1] done processing\n"
     ]
    },
    {
     "name": "stdout",
     "output_type": "stream",
     "text": [
      "It's overpredicted.\n",
      "Monthly Error: 62.64It's underpredicted. \n",
      "Period MAE:Monthly Error:  57.917.92\n",
      " Period MAE: 10.18\n",
      "It's underpredicted.\n",
      "Monthly Error: 26.39 Period MAE: 13.420000000000002\n"
     ]
    },
    {
     "name": "stderr",
     "output_type": "stream",
     "text": [
      "22:59:32 - cmdstanpy - INFO - Chain [1] start processing\n",
      "22:59:33 - cmdstanpy - INFO - Chain [1] start processing\n",
      "22:59:33 - cmdstanpy - INFO - Chain [1] start processing\n",
      "22:59:33 - cmdstanpy - INFO - Chain [1] done processing\n",
      "22:59:33 - cmdstanpy - INFO - Chain [1] done processing\n"
     ]
    },
    {
     "name": "stdout",
     "output_type": "stream",
     "text": [
      "It's overpredicted.\n",
      "Monthly Error: 58.38 Period MAE: 53.89000000000001\n"
     ]
    },
    {
     "name": "stderr",
     "output_type": "stream",
     "text": [
      "22:59:33 - cmdstanpy - INFO - Chain [1] done processing\n",
      "22:59:34 - cmdstanpy - INFO - Chain [1] start processing\n"
     ]
    },
    {
     "name": "stdout",
     "output_type": "stream",
     "text": [
      "It's underpredicted.\n",
      "Monthly Error: 22.39 Period MAE: "
     ]
    },
    {
     "name": "stderr",
     "output_type": "stream",
     "text": [
      "22:59:34 - cmdstanpy - INFO - Chain [1] done processing\n"
     ]
    },
    {
     "name": "stdout",
     "output_type": "stream",
     "text": [
      "13.459999999999999\n"
     ]
    },
    {
     "name": "stderr",
     "output_type": "stream",
     "text": [
      "22:59:34 - cmdstanpy - INFO - Chain [1] start processing\n",
      "22:59:35 - cmdstanpy - INFO - Chain [1] done processing\n"
     ]
    },
    {
     "name": "stdout",
     "output_type": "stream",
     "text": [
      "It's underpredicted.\n",
      "Monthly Error: 19.33 Period MAE: 3.19\n",
      "It's overpredicted.\n",
      "Monthly Error: 60.07"
     ]
    },
    {
     "name": "stderr",
     "output_type": "stream",
     "text": [
      "22:59:35 - cmdstanpy - INFO - Chain [1] start processing\n"
     ]
    },
    {
     "name": "stdout",
     "output_type": "stream",
     "text": [
      " Period MAE: 55.32\n"
     ]
    },
    {
     "name": "stderr",
     "output_type": "stream",
     "text": [
      "22:59:36 - cmdstanpy - INFO - Chain [1] done processing\n"
     ]
    },
    {
     "name": "stdout",
     "output_type": "stream",
     "text": [
      "It's underpredicted.\n",
      "Monthly Error: 23.2 Period MAE: 20.48\n",
      "It's underpredicted.\n",
      "Monthly Error: 31.3 Period MAE: 9.379999999999999\n"
     ]
    },
    {
     "name": "stderr",
     "output_type": "stream",
     "text": [
      "22:59:36 - cmdstanpy - INFO - Chain [1] start processing\n",
      "22:59:36 - cmdstanpy - INFO - Chain [1] start processing\n",
      "22:59:37 - cmdstanpy - INFO - Chain [1] done processing\n",
      "22:59:37 - cmdstanpy - INFO - Chain [1] done processing\n",
      "22:59:37 - cmdstanpy - INFO - Chain [1] start processing\n"
     ]
    },
    {
     "name": "stdout",
     "output_type": "stream",
     "text": [
      "It's underpredicted.\n",
      "Monthly Error: 19.8 Period MAE: 17.119999999999997\n"
     ]
    },
    {
     "name": "stderr",
     "output_type": "stream",
     "text": [
      "22:59:37 - cmdstanpy - INFO - Chain [1] done processing\n",
      "22:59:38 - cmdstanpy - INFO - Chain [1] start processing\n",
      "22:59:38 - cmdstanpy - INFO - Chain [1] done processing\n"
     ]
    },
    {
     "name": "stdout",
     "output_type": "stream",
     "text": [
      "It's overpredicted.\n",
      "Monthly Error: 48.82 Period MAE: 33.800000000000004\n",
      "It's underpredicted.\n",
      "Monthly Error: 23.7 "
     ]
    },
    {
     "name": "stderr",
     "output_type": "stream",
     "text": [
      "22:59:39 - cmdstanpy - INFO - Chain [1] start processing\n"
     ]
    },
    {
     "name": "stdout",
     "output_type": "stream",
     "text": [
      "Period MAE: 11.600000000000001\n"
     ]
    },
    {
     "name": "stderr",
     "output_type": "stream",
     "text": [
      "22:59:39 - cmdstanpy - INFO - Chain [1] done processing\n",
      "22:59:39 - cmdstanpy - INFO - Chain [1] start processing\n",
      "22:59:39 - cmdstanpy - INFO - Chain [1] done processing\n"
     ]
    },
    {
     "name": "stdout",
     "output_type": "stream",
     "text": [
      "It's underpredicted.\n",
      "Monthly Error: 20.61It's underpredicted. \n",
      "Monthly Error:Period MAE:  24.5 Period MAE:21.22\n",
      " 6.65\n"
     ]
    },
    {
     "name": "stderr",
     "output_type": "stream",
     "text": [
      "22:59:41 - cmdstanpy - INFO - Chain [1] start processing\n",
      "22:59:41 - cmdstanpy - INFO - Chain [1] done processing\n"
     ]
    },
    {
     "name": "stdout",
     "output_type": "stream",
     "text": [
      "It's overpredicted.\n",
      "Monthly Error: 51.1 Period MAE: 36.26\n"
     ]
    },
    {
     "name": "stderr",
     "output_type": "stream",
     "text": [
      "22:59:41 - cmdstanpy - INFO - Chain [1] start processing\n",
      "22:59:41 - cmdstanpy - INFO - Chain [1] start processing\n",
      "22:59:41 - cmdstanpy - INFO - Chain [1] done processing\n",
      "22:59:42 - cmdstanpy - INFO - Chain [1] done processing\n"
     ]
    },
    {
     "name": "stdout",
     "output_type": "stream",
     "text": [
      "It's underpredicted.\n",
      "Monthly Error: 24.39 Period MAE: 5.63\n",
      "It's underpredicted.\n",
      "Monthly Error: 21.03 "
     ]
    },
    {
     "name": "stderr",
     "output_type": "stream",
     "text": [
      "22:59:42 - cmdstanpy - INFO - Chain [1] start processing\n"
     ]
    },
    {
     "name": "stdout",
     "output_type": "stream",
     "text": [
      "Period MAE: 14.45It's underpredicted.\n",
      "\n"
     ]
    },
    {
     "name": "stderr",
     "output_type": "stream",
     "text": [
      "22:59:43 - cmdstanpy - INFO - Chain [1] done processing\n"
     ]
    },
    {
     "name": "stdout",
     "output_type": "stream",
     "text": [
      "Monthly Error: 19.69 Period MAE: 16.27\n"
     ]
    },
    {
     "name": "stderr",
     "output_type": "stream",
     "text": [
      "22:59:43 - cmdstanpy - INFO - Chain [1] start processing\n",
      "22:59:43 - cmdstanpy - INFO - Chain [1] start processing\n",
      "22:59:43 - cmdstanpy - INFO - Chain [1] done processing\n",
      "22:59:44 - cmdstanpy - INFO - Chain [1] done processing\n"
     ]
    },
    {
     "name": "stdout",
     "output_type": "stream",
     "text": [
      "It's overpredicted.\n",
      "Monthly Error: 27.44 Period MAE: 0.77\n"
     ]
    },
    {
     "name": "stderr",
     "output_type": "stream",
     "text": [
      "22:59:45 - cmdstanpy - INFO - Chain [1] start processing\n"
     ]
    },
    {
     "name": "stdout",
     "output_type": "stream",
     "text": [
      "It's underpredicted.\n",
      "Monthly Error: 20.25 Period MAE: 20.73\n",
      "It's overpredicted."
     ]
    },
    {
     "name": "stderr",
     "output_type": "stream",
     "text": [
      "22:59:45 - cmdstanpy - INFO - Chain [1] done processing\n"
     ]
    },
    {
     "name": "stdout",
     "output_type": "stream",
     "text": [
      "\n",
      "Monthly Error: 61.84 Period MAE: 57.120000000000005\n",
      "It's overpredicted."
     ]
    },
    {
     "name": "stderr",
     "output_type": "stream",
     "text": [
      "22:59:46 - cmdstanpy - INFO - Chain [1] start processing\n"
     ]
    },
    {
     "name": "stdout",
     "output_type": "stream",
     "text": [
      "\n",
      "Monthly Error: 59.02 Period MAE: 54.55\n"
     ]
    },
    {
     "name": "stderr",
     "output_type": "stream",
     "text": [
      "22:59:46 - cmdstanpy - INFO - Chain [1] start processing\n",
      "22:59:46 - cmdstanpy - INFO - Chain [1] done processing\n",
      "22:59:46 - cmdstanpy - INFO - Chain [1] done processing\n",
      "22:59:46 - cmdstanpy - INFO - Chain [1] start processing\n",
      "22:59:46 - cmdstanpy - INFO - Chain [1] done processing\n"
     ]
    },
    {
     "name": "stdout",
     "output_type": "stream",
     "text": [
      "It's underpredicted.\n",
      "Monthly Error: 21.72 Period MAE: 17.77\n",
      "It's underpredicted.\n",
      "Monthly Error: 20.8 Period MAE: 12.75\n"
     ]
    },
    {
     "name": "stderr",
     "output_type": "stream",
     "text": [
      "22:59:47 - cmdstanpy - INFO - Chain [1] start processing\n",
      "22:59:48 - cmdstanpy - INFO - Chain [1] done processing\n",
      "22:59:48 - cmdstanpy - INFO - Chain [1] start processing\n",
      "22:59:48 - cmdstanpy - INFO - Chain [1] done processing\n"
     ]
    },
    {
     "name": "stdout",
     "output_type": "stream",
     "text": [
      "It's overpredicted.\n",
      "Monthly Error: 32.16 Period MAE: 8.129999999999999\n",
      "It's overpredicted.\n",
      "Monthly Error: 60.54 Period MAE: 55.779999999999994\n"
     ]
    },
    {
     "name": "stderr",
     "output_type": "stream",
     "text": [
      "22:59:49 - cmdstanpy - INFO - Chain [1] start processing\n"
     ]
    },
    {
     "name": "stdout",
     "output_type": "stream",
     "text": [
      "It's underpredicted.\n",
      "Monthly Error: 22.87 Period MAE: 23.48\n"
     ]
    },
    {
     "name": "stderr",
     "output_type": "stream",
     "text": [
      "22:59:50 - cmdstanpy - INFO - Chain [1] start processing\n",
      "22:59:50 - cmdstanpy - INFO - Chain [1] start processing\n",
      "22:59:50 - cmdstanpy - INFO - Chain [1] done processing\n",
      "22:59:50 - cmdstanpy - INFO - Chain [1] done processing\n",
      "22:59:50 - cmdstanpy - INFO - Chain [1] done processing\n"
     ]
    },
    {
     "name": "stdout",
     "output_type": "stream",
     "text": [
      "It's overpredicted.\n",
      "Monthly Error: 36.05 Period MAE: 14.46\n",
      "It's underpredicted."
     ]
    },
    {
     "name": "stderr",
     "output_type": "stream",
     "text": [
      "22:59:51 - cmdstanpy - INFO - Chain [1] start processing\n"
     ]
    },
    {
     "name": "stdout",
     "output_type": "stream",
     "text": [
      "\n",
      "Monthly Error: 23.59 Period MAE: 17.9\n"
     ]
    },
    {
     "name": "stderr",
     "output_type": "stream",
     "text": [
      "22:59:51 - cmdstanpy - INFO - Chain [1] done processing\n"
     ]
    },
    {
     "name": "stdout",
     "output_type": "stream",
     "text": [
      "It's underpredicted."
     ]
    },
    {
     "name": "stderr",
     "output_type": "stream",
     "text": [
      "22:59:52 - cmdstanpy - INFO - Chain [1] start processing\n"
     ]
    },
    {
     "name": "stdout",
     "output_type": "stream",
     "text": [
      "\n",
      "Monthly Error: 24.14 Period MAE: 20.200000000000003\n"
     ]
    },
    {
     "name": "stderr",
     "output_type": "stream",
     "text": [
      "22:59:52 - cmdstanpy - INFO - Chain [1] start processing\n",
      "22:59:52 - cmdstanpy - INFO - Chain [1] done processing\n",
      "22:59:52 - cmdstanpy - INFO - Chain [1] done processing\n"
     ]
    },
    {
     "name": "stdout",
     "output_type": "stream",
     "text": [
      "It's overpredicted.\n",
      "Monthly Error: 29.95 Period MAE: 5.84\n"
     ]
    },
    {
     "name": "stderr",
     "output_type": "stream",
     "text": [
      "22:59:53 - cmdstanpy - INFO - Chain [1] start processing\n"
     ]
    },
    {
     "name": "stdout",
     "output_type": "stream",
     "text": [
      "It's underpredicted.It's underpredicted.\n",
      "\n",
      "Monthly Error:Monthly Error:  25.9326.77  Period MAE:Period MAE:  12.3425.619999999999997\n",
      "\n"
     ]
    },
    {
     "name": "stderr",
     "output_type": "stream",
     "text": [
      "22:59:54 - cmdstanpy - INFO - Chain [1] done processing\n",
      "22:59:54 - cmdstanpy - INFO - Chain [1] start processing\n",
      "22:59:54 - cmdstanpy - INFO - Chain [1] done processing\n"
     ]
    },
    {
     "name": "stdout",
     "output_type": "stream",
     "text": [
      "It's underpredicted.\n",
      "Monthly Error: 26.69 Period MAE: "
     ]
    },
    {
     "name": "stderr",
     "output_type": "stream",
     "text": [
      "22:59:55 - cmdstanpy - INFO - Chain [1] start processing\n"
     ]
    },
    {
     "name": "stdout",
     "output_type": "stream",
     "text": [
      "12.389999999999999\n"
     ]
    },
    {
     "name": "stderr",
     "output_type": "stream",
     "text": [
      "22:59:55 - cmdstanpy - INFO - Chain [1] start processing\n",
      "22:59:55 - cmdstanpy - INFO - Chain [1] done processing\n"
     ]
    },
    {
     "name": "stdout",
     "output_type": "stream",
     "text": [
      "It's underpredicted.\n",
      "Monthly Error:"
     ]
    },
    {
     "name": "stderr",
     "output_type": "stream",
     "text": [
      "22:59:55 - cmdstanpy - INFO - Chain [1] done processing\n"
     ]
    },
    {
     "name": "stdout",
     "output_type": "stream",
     "text": [
      " 22.85 Period MAE: 18.3\n",
      "It's underpredicted.\n",
      "Monthly Error: 23.21 Period MAE: 16.41\n"
     ]
    },
    {
     "name": "stderr",
     "output_type": "stream",
     "text": [
      "22:59:56 - cmdstanpy - INFO - Chain [1] start processing\n",
      "22:59:56 - cmdstanpy - INFO - Chain [1] start processing\n",
      "22:59:56 - cmdstanpy - INFO - Chain [1] done processing\n",
      "22:59:56 - cmdstanpy - INFO - Chain [1] done processing\n"
     ]
    },
    {
     "name": "stdout",
     "output_type": "stream",
     "text": [
      "It's overpredicted.\n",
      "Monthly Error: 34.15 Period MAE: 13.81\n",
      "It's underpredicted.\n",
      "Monthly Error: 25.72 Period MAE: 26.05\n",
      "It's underpredicted.\n",
      "Monthly Error: 26.77 Period MAE: "
     ]
    },
    {
     "name": "stderr",
     "output_type": "stream",
     "text": [
      "22:59:58 - cmdstanpy - INFO - Chain [1] start processing\n"
     ]
    },
    {
     "name": "stdout",
     "output_type": "stream",
     "text": [
      "12.5\n"
     ]
    },
    {
     "name": "stderr",
     "output_type": "stream",
     "text": [
      "22:59:58 - cmdstanpy - INFO - Chain [1] start processing\n",
      "22:59:59 - cmdstanpy - INFO - Chain [1] start processing\n",
      "22:59:59 - cmdstanpy - INFO - Chain [1] done processing\n",
      "22:59:59 - cmdstanpy - INFO - Chain [1] done processing\n",
      "22:59:59 - cmdstanpy - INFO - Chain [1] done processing\n"
     ]
    },
    {
     "name": "stdout",
     "output_type": "stream",
     "text": [
      "It's overpredicted.\n",
      "Monthly Error: 34.01 Period MAE: 13.750000000000002\n"
     ]
    },
    {
     "name": "stderr",
     "output_type": "stream",
     "text": [
      "22:59:59 - cmdstanpy - INFO - Chain [1] start processing\n",
      "23:00:00 - cmdstanpy - INFO - Chain [1] done processing\n"
     ]
    },
    {
     "name": "stdout",
     "output_type": "stream",
     "text": [
      "It's underpredicted.\n",
      "Monthly Error: 23.11 Period MAE: 17.64\n"
     ]
    },
    {
     "name": "stderr",
     "output_type": "stream",
     "text": [
      "23:00:00 - cmdstanpy - INFO - Chain [1] start processing\n"
     ]
    },
    {
     "name": "stdout",
     "output_type": "stream",
     "text": [
      "It's underpredicted.\n",
      "Monthly Error: 23.01 Period MAE: 18.64\n"
     ]
    },
    {
     "name": "stderr",
     "output_type": "stream",
     "text": [
      "23:00:01 - cmdstanpy - INFO - Chain [1] done processing\n",
      "23:00:01 - cmdstanpy - INFO - Chain [1] start processing\n",
      "23:00:01 - cmdstanpy - INFO - Chain [1] done processing\n"
     ]
    },
    {
     "name": "stdout",
     "output_type": "stream",
     "text": [
      "It's underpredicted.It's underpredicted.\n",
      "It's overpredicted.\n",
      "Monthly Error:\n",
      "Monthly Error: Monthly Error:25.22   26.91Period MAE:34.06 24.4  \n",
      "Period MAE:Period MAE:  11.8713.88\n",
      "\n"
     ]
    },
    {
     "name": "stderr",
     "output_type": "stream",
     "text": [
      "23:00:03 - cmdstanpy - INFO - Chain [1] start processing\n",
      "23:00:03 - cmdstanpy - INFO - Chain [1] start processing\n",
      "23:00:03 - cmdstanpy - INFO - Chain [1] done processing\n",
      "23:00:04 - cmdstanpy - INFO - Chain [1] done processing\n",
      "23:00:04 - cmdstanpy - INFO - Chain [1] start processing\n"
     ]
    },
    {
     "name": "stdout",
     "output_type": "stream",
     "text": [
      "It's underpredicted.\n",
      "Monthly Error: 26.85 Period MAE: 11.97\n"
     ]
    },
    {
     "name": "stderr",
     "output_type": "stream",
     "text": [
      "23:00:05 - cmdstanpy - INFO - Chain [1] done processing\n"
     ]
    },
    {
     "name": "stdout",
     "output_type": "stream",
     "text": [
      "It's underpredicted."
     ]
    },
    {
     "name": "stderr",
     "output_type": "stream",
     "text": [
      "23:00:05 - cmdstanpy - INFO - Chain [1] start processing\n"
     ]
    },
    {
     "name": "stdout",
     "output_type": "stream",
     "text": [
      "\n",
      "Monthly Error: 23.55 Period MAE: 22.02\n"
     ]
    },
    {
     "name": "stderr",
     "output_type": "stream",
     "text": [
      "23:00:05 - cmdstanpy - INFO - Chain [1] done processing\n",
      "23:00:05 - cmdstanpy - INFO - Chain [1] start processing\n",
      "23:00:05 - cmdstanpy - INFO - Chain [1] done processing\n"
     ]
    },
    {
     "name": "stdout",
     "output_type": "stream",
     "text": [
      "It's underpredicted.\n",
      "Monthly Error: 24.25 Period MAE: 18.95\n",
      "It's underpredicted.\n",
      "Monthly Error: 24.17 Period MAE: 24.93\n"
     ]
    },
    {
     "name": "stderr",
     "output_type": "stream",
     "text": [
      "23:00:07 - cmdstanpy - INFO - Chain [1] start processing\n",
      "23:00:07 - cmdstanpy - INFO - Chain [1] done processing\n"
     ]
    },
    {
     "name": "stdout",
     "output_type": "stream",
     "text": [
      "It's underpredicted.\n",
      "Monthly Error: 29.46 Period MAE:It's overpredicted. "
     ]
    },
    {
     "name": "stderr",
     "output_type": "stream",
     "text": [
      "23:00:07 - cmdstanpy - INFO - Chain [1] start processing\n"
     ]
    },
    {
     "name": "stdout",
     "output_type": "stream",
     "text": [
      "\n",
      "8.42Monthly Error:\n",
      " 32.78 Period MAE: 2.39\n"
     ]
    },
    {
     "name": "stderr",
     "output_type": "stream",
     "text": [
      "23:00:08 - cmdstanpy - INFO - Chain [1] start processing\n",
      "23:00:08 - cmdstanpy - INFO - Chain [1] done processing\n",
      "23:00:08 - cmdstanpy - INFO - Chain [1] start processing\n",
      "23:00:08 - cmdstanpy - INFO - Chain [1] done processing\n",
      "23:00:08 - cmdstanpy - INFO - Chain [1] done processing\n"
     ]
    },
    {
     "name": "stdout",
     "output_type": "stream",
     "text": [
      "It's underpredicted.\n",
      "It's underpredicted.\n",
      "Monthly Error:Monthly Error:  29.3122.46 Period MAE:  Period MAE: 8.421.43\n",
      "\n"
     ]
    },
    {
     "name": "stderr",
     "output_type": "stream",
     "text": [
      "23:00:09 - cmdstanpy - INFO - Chain [1] start processing\n"
     ]
    },
    {
     "name": "stdout",
     "output_type": "stream",
     "text": [
      "It's underpredicted.\n",
      "Monthly Error: 22.58 Period MAE: "
     ]
    },
    {
     "name": "stderr",
     "output_type": "stream",
     "text": [
      "23:00:10 - cmdstanpy - INFO - Chain [1] done processing\n"
     ]
    },
    {
     "name": "stdout",
     "output_type": "stream",
     "text": [
      "19.05\n"
     ]
    },
    {
     "name": "stderr",
     "output_type": "stream",
     "text": [
      "23:00:10 - cmdstanpy - INFO - Chain [1] start processing\n",
      "23:00:10 - cmdstanpy - INFO - Chain [1] start processing\n",
      "23:00:10 - cmdstanpy - INFO - Chain [1] done processing\n",
      "23:00:10 - cmdstanpy - INFO - Chain [1] done processing\n"
     ]
    },
    {
     "name": "stdout",
     "output_type": "stream",
     "text": [
      "It's underpredicted.\n",
      "Monthly Error: 29.26 Period MAE: 8.97\n",
      "It's underpredicted.\n",
      "Monthly Error: 27.25 Period MAE: 27.860000000000003\n"
     ]
    },
    {
     "name": "stderr",
     "output_type": "stream",
     "text": [
      "23:00:12 - cmdstanpy - INFO - Chain [1] start processing\n"
     ]
    },
    {
     "name": "stdout",
     "output_type": "stream",
     "text": [
      "It's overpredicted.\n",
      "Monthly Error: 28.46 Period MAE: 0.22999999999999998"
     ]
    },
    {
     "name": "stderr",
     "output_type": "stream",
     "text": [
      "23:00:13 - cmdstanpy - INFO - Chain [1] start processing\n"
     ]
    },
    {
     "name": "stdout",
     "output_type": "stream",
     "text": [
      "\n",
      "It's underpredicted."
     ]
    },
    {
     "name": "stderr",
     "output_type": "stream",
     "text": [
      "23:00:13 - cmdstanpy - INFO - Chain [1] done processing\n"
     ]
    },
    {
     "name": "stdout",
     "output_type": "stream",
     "text": [
      "\n",
      "Monthly Error: 28.12 Period MAE: 0.9900000000000001\n"
     ]
    },
    {
     "name": "stderr",
     "output_type": "stream",
     "text": [
      "23:00:13 - cmdstanpy - INFO - Chain [1] start processing\n",
      "23:00:13 - cmdstanpy - INFO - Chain [1] done processing\n",
      "23:00:13 - cmdstanpy - INFO - Chain [1] start processing\n",
      "23:00:13 - cmdstanpy - INFO - Chain [1] done processing\n",
      "23:00:13 - cmdstanpy - INFO - Chain [1] done processing\n"
     ]
    },
    {
     "name": "stdout",
     "output_type": "stream",
     "text": [
      "It's underpredicted.\n",
      "Monthly Error: 22.8 Period MAE: 21.029999999999998\n",
      "It's underpredicted.\n",
      "Monthly Error: 21.7 Period MAE: 17.89\n"
     ]
    },
    {
     "name": "stderr",
     "output_type": "stream",
     "text": [
      "23:00:15 - cmdstanpy - INFO - Chain [1] start processing\n",
      "23:00:15 - cmdstanpy - INFO - Chain [1] done processing\n",
      "23:00:15 - cmdstanpy - INFO - Chain [1] start processing\n",
      "23:00:15 - cmdstanpy - INFO - Chain [1] done processing\n"
     ]
    },
    {
     "name": "stdout",
     "output_type": "stream",
     "text": [
      "It's underpredicted.\n",
      "Monthly Error: 29.3 Period MAE: 8.64\n",
      "It's underpredicted.\n",
      "Monthly Error: 25.31 Period MAE: 26.05\n",
      "It's underpredicted.\n",
      "Monthly Error: 28.17 Period MAE: 0.29\n"
     ]
    },
    {
     "name": "stderr",
     "output_type": "stream",
     "text": [
      "23:00:17 - cmdstanpy - INFO - Chain [1] start processing\n",
      "23:00:17 - cmdstanpy - INFO - Chain [1] start processing\n",
      "23:00:17 - cmdstanpy - INFO - Chain [1] done processing\n",
      "23:00:17 - cmdstanpy - INFO - Chain [1] start processing\n",
      "23:00:17 - cmdstanpy - INFO - Chain [1] done processing\n",
      "23:00:17 - cmdstanpy - INFO - Chain [1] done processing\n"
     ]
    },
    {
     "name": "stdout",
     "output_type": "stream",
     "text": [
      "It's underpredicted.\n",
      "Monthly Error: 18.34 Period MAE: 4.5600000000000005\n"
     ]
    },
    {
     "name": "stderr",
     "output_type": "stream",
     "text": [
      "23:00:18 - cmdstanpy - INFO - Chain [1] start processing\n"
     ]
    },
    {
     "name": "stdout",
     "output_type": "stream",
     "text": [
      "It's underpredicted.\n",
      "Monthly Error: 29.32 Period MAE: 8.57\n"
     ]
    },
    {
     "name": "stderr",
     "output_type": "stream",
     "text": [
      "23:00:18 - cmdstanpy - INFO - Chain [1] done processing\n",
      "23:00:18 - cmdstanpy - INFO - Chain [1] start processing\n",
      "23:00:19 - cmdstanpy - INFO - Chain [1] done processing\n"
     ]
    },
    {
     "name": "stdout",
     "output_type": "stream",
     "text": [
      "It's underpredicted.\n",
      "Monthly Error: 22.23 Period MAE: 17.97\n"
     ]
    },
    {
     "name": "stderr",
     "output_type": "stream",
     "text": [
      "23:00:19 - cmdstanpy - INFO - Chain [1] start processing\n",
      "23:00:20 - cmdstanpy - INFO - Chain [1] done processing\n"
     ]
    },
    {
     "name": "stdout",
     "output_type": "stream",
     "text": [
      "It's underpredicted.\n",
      "Monthly Error: 18.21 Period MAE: 11.67\n",
      "It's underpredicted.\n",
      "Monthly Error: 29.29 Period MAE: 8.540000000000001\n",
      "It's underpredicted.\n",
      "Monthly Error: 29.45 Period MAE: 22.439999999999998\n"
     ]
    },
    {
     "name": "stderr",
     "output_type": "stream",
     "text": [
      "23:00:21 - cmdstanpy - INFO - Chain [1] start processing\n",
      "23:00:21 - cmdstanpy - INFO - Chain [1] start processing\n",
      "23:00:21 - cmdstanpy - INFO - Chain [1] done processing\n",
      "23:00:21 - cmdstanpy - INFO - Chain [1] start processing\n"
     ]
    },
    {
     "name": "stdout",
     "output_type": "stream",
     "text": [
      "It's underpredicted.\n"
     ]
    },
    {
     "name": "stderr",
     "output_type": "stream",
     "text": [
      "23:00:22 - cmdstanpy - INFO - Chain [1] done processing\n"
     ]
    },
    {
     "name": "stdout",
     "output_type": "stream",
     "text": [
      "Monthly Error: 26.55 Period MAE: 23.41\n"
     ]
    },
    {
     "name": "stderr",
     "output_type": "stream",
     "text": [
      "23:00:22 - cmdstanpy - INFO - Chain [1] done processing\n",
      "23:00:22 - cmdstanpy - INFO - Chain [1] start processing\n",
      "23:00:22 - cmdstanpy - INFO - Chain [1] done processing\n"
     ]
    },
    {
     "name": "stdout",
     "output_type": "stream",
     "text": [
      "It's underpredicted.\n",
      "Monthly Error: 18.75 Period MAE: 6.49\n"
     ]
    },
    {
     "name": "stderr",
     "output_type": "stream",
     "text": [
      "23:00:23 - cmdstanpy - INFO - Chain [1] start processing\n",
      "23:00:23 - cmdstanpy - INFO - Chain [1] done processing\n"
     ]
    },
    {
     "name": "stdout",
     "output_type": "stream",
     "text": [
      "It's underpredicted.\n",
      "Monthly Error: 19.51 Period MAE: 3.94\n"
     ]
    },
    {
     "name": "stderr",
     "output_type": "stream",
     "text": [
      "23:00:24 - cmdstanpy - INFO - Chain [1] start processing\n",
      "23:00:24 - cmdstanpy - INFO - Chain [1] done processing\n"
     ]
    },
    {
     "name": "stdout",
     "output_type": "stream",
     "text": [
      "It's underpredicted.It's underpredicted.\n",
      "Monthly Error:\n",
      " 26.08 Period MAE:Monthly Error:  17.8114.14\n",
      " Period MAE: 9.75\n",
      "It's overpredicted.\n",
      "Monthly Error: 61.97 Period MAE: 57.269999999999996\n"
     ]
    },
    {
     "name": "stderr",
     "output_type": "stream",
     "text": [
      "23:00:25 - cmdstanpy - INFO - Chain [1] start processing\n",
      "23:00:25 - cmdstanpy - INFO - Chain [1] start processing\n",
      "23:00:25 - cmdstanpy - INFO - Chain [1] done processing\n",
      "23:00:25 - cmdstanpy - INFO - Chain [1] start processing\n",
      "23:00:25 - cmdstanpy - INFO - Chain [1] done processing\n",
      "23:00:26 - cmdstanpy - INFO - Chain [1] done processing\n"
     ]
    },
    {
     "name": "stdout",
     "output_type": "stream",
     "text": [
      "It's underpredicted.\n",
      "Monthly Error: 22.03 Period MAE: 12.0\n"
     ]
    },
    {
     "name": "stderr",
     "output_type": "stream",
     "text": [
      "23:00:27 - cmdstanpy - INFO - Chain [1] start processing\n",
      "23:00:27 - cmdstanpy - INFO - Chain [1] done processing\n"
     ]
    },
    {
     "name": "stdout",
     "output_type": "stream",
     "text": [
      "It's overpredicted.\n",
      "Monthly Error: 58.1 Period MAE: 53.61\n",
      "It's underpredicted.\n",
      "Monthly Error: 19.74 Period MAE: 3.91\n"
     ]
    },
    {
     "name": "stderr",
     "output_type": "stream",
     "text": [
      "23:00:27 - cmdstanpy - INFO - Chain [1] start processing\n",
      "23:00:28 - cmdstanpy - INFO - Chain [1] done processing\n",
      "23:00:28 - cmdstanpy - INFO - Chain [1] start processing\n",
      "23:00:28 - cmdstanpy - INFO - Chain [1] done processing\n"
     ]
    },
    {
     "name": "stdout",
     "output_type": "stream",
     "text": [
      "It's overpredicted.\n",
      "Monthly Error: 60.16 Period MAE: 55.410000000000004\n",
      "It's underpredicted.\n",
      "Monthly Error:23.91  Period MAE: \n",
      "21.6It's underpredicted.\n",
      "Monthly Error: 31.15 Period MAE: 11.540000000000001\n"
     ]
    },
    {
     "name": "stderr",
     "output_type": "stream",
     "text": [
      "23:00:30 - cmdstanpy - INFO - Chain [1] start processing\n",
      "23:00:30 - cmdstanpy - INFO - Chain [1] start processing\n",
      "23:00:30 - cmdstanpy - INFO - Chain [1] start processing\n"
     ]
    },
    {
     "name": "stdout",
     "output_type": "stream",
     "text": [
      "It's underpredicted.\n"
     ]
    },
    {
     "name": "stderr",
     "output_type": "stream",
     "text": [
      "23:00:30 - cmdstanpy - INFO - Chain [1] done processing\n"
     ]
    },
    {
     "name": "stdout",
     "output_type": "stream",
     "text": [
      "Monthly Error: "
     ]
    },
    {
     "name": "stderr",
     "output_type": "stream",
     "text": [
      "23:00:30 - cmdstanpy - INFO - Chain [1] done processing\n"
     ]
    },
    {
     "name": "stdout",
     "output_type": "stream",
     "text": [
      "31.74"
     ]
    },
    {
     "name": "stderr",
     "output_type": "stream",
     "text": [
      "23:00:30 - cmdstanpy - INFO - Chain [1] done processing\n"
     ]
    },
    {
     "name": "stdout",
     "output_type": "stream",
     "text": [
      " Period MAE: 8.17\n"
     ]
    },
    {
     "name": "stderr",
     "output_type": "stream",
     "text": [
      "23:00:30 - cmdstanpy - INFO - Chain [1] start processing\n",
      "23:00:31 - cmdstanpy - INFO - Chain [1] done processing\n"
     ]
    },
    {
     "name": "stdout",
     "output_type": "stream",
     "text": [
      "It's underpredicted.\n",
      "Monthly Error: 19.63 Period MAE: 16.03\n",
      "It's underpredicted.\n",
      "Monthly Error: 23.84 Period MAE: "
     ]
    },
    {
     "name": "stderr",
     "output_type": "stream",
     "text": [
      "23:00:32 - cmdstanpy - INFO - Chain [1] start processing\n"
     ]
    },
    {
     "name": "stdout",
     "output_type": "stream",
     "text": [
      "13.41\n"
     ]
    },
    {
     "name": "stderr",
     "output_type": "stream",
     "text": [
      "23:00:32 - cmdstanpy - INFO - Chain [1] done processing\n",
      "23:00:33 - cmdstanpy - INFO - Chain [1] start processing\n",
      "23:00:33 - cmdstanpy - INFO - Chain [1] done processing\n"
     ]
    },
    {
     "name": "stdout",
     "output_type": "stream",
     "text": [
      "It's underpredicted.\n",
      "Monthly Error:It's underpredicted. \n",
      "23.54Monthly Error:  Period MAE: 8.54000000000000120.32 \n",
      "Period MAE: It's overpredicted.20.76\n",
      "\n",
      "Monthly Error: 40.3 Period MAE: 16.6\n"
     ]
    },
    {
     "name": "stderr",
     "output_type": "stream",
     "text": [
      "23:00:34 - cmdstanpy - INFO - Chain [1] start processing\n",
      "23:00:34 - cmdstanpy - INFO - Chain [1] done processing\n",
      "23:00:34 - cmdstanpy - INFO - Chain [1] start processing\n",
      "23:00:34 - cmdstanpy - INFO - Chain [1] start processing\n",
      "23:00:35 - cmdstanpy - INFO - Chain [1] done processing\n",
      "23:00:35 - cmdstanpy - INFO - Chain [1] done processing\n"
     ]
    },
    {
     "name": "stdout",
     "output_type": "stream",
     "text": [
      "It's underpredicted.\n",
      "Monthly Error: 19.62 Period MAE: 16.21\n"
     ]
    },
    {
     "name": "stderr",
     "output_type": "stream",
     "text": [
      "23:00:36 - cmdstanpy - INFO - Chain [1] start processing\n",
      "23:00:36 - cmdstanpy - INFO - Chain [1] done processing\n"
     ]
    },
    {
     "name": "stdout",
     "output_type": "stream",
     "text": [
      "It's underpredicted.\n",
      "Monthly Error: 23.57 Period MAE: 8.3\n",
      "It's underpredicted.\n",
      "Monthly Error: "
     ]
    },
    {
     "name": "stderr",
     "output_type": "stream",
     "text": [
      "23:00:37 - cmdstanpy - INFO - Chain [1] start processing\n"
     ]
    },
    {
     "name": "stdout",
     "output_type": "stream",
     "text": [
      "21.08 Period MAE: 14.860000000000001\n"
     ]
    },
    {
     "name": "stderr",
     "output_type": "stream",
     "text": [
      "23:00:37 - cmdstanpy - INFO - Chain [1] done processing\n",
      "23:00:37 - cmdstanpy - INFO - Chain [1] start processing\n",
      "23:00:37 - cmdstanpy - INFO - Chain [1] done processing\n"
     ]
    },
    {
     "name": "stdout",
     "output_type": "stream",
     "text": [
      "It's overpredicted.\n",
      "Monthly Error: 27.3 Period MAE: 0.49\n",
      "It's underpredicted.It's overpredicted.\n",
      "\n",
      "Monthly Error: Monthly Error:  61.2319.73 Period MAE:Period MAE:  19.8856.510000000000005\n",
      "\n"
     ]
    },
    {
     "name": "stderr",
     "output_type": "stream",
     "text": [
      "23:00:39 - cmdstanpy - INFO - Chain [1] start processing\n",
      "23:00:39 - cmdstanpy - INFO - Chain [1] done processing\n",
      "23:00:39 - cmdstanpy - INFO - Chain [1] start processing\n",
      "23:00:39 - cmdstanpy - INFO - Chain [1] start processing\n",
      "23:00:39 - cmdstanpy - INFO - Chain [1] done processing\n",
      "23:00:40 - cmdstanpy - INFO - Chain [1] done processing\n"
     ]
    },
    {
     "name": "stdout",
     "output_type": "stream",
     "text": [
      "It's overpredicted.\n",
      "Monthly Error: 59.06 Period MAE: 54.59\n",
      "It's underpredicted.\n",
      "Monthly Error: 21.59 Period MAE: 17.43\n"
     ]
    },
    {
     "name": "stderr",
     "output_type": "stream",
     "text": [
      "23:00:40 - cmdstanpy - INFO - Chain [1] start processing\n",
      "23:00:40 - cmdstanpy - INFO - Chain [1] done processing\n",
      "23:00:41 - cmdstanpy - INFO - Chain [1] start processing\n",
      "23:00:41 - cmdstanpy - INFO - Chain [1] done processing\n"
     ]
    },
    {
     "name": "stdout",
     "output_type": "stream",
     "text": [
      "It's underpredicted.\n",
      "Monthly Error: 20.83 Period MAE: 13.48\n"
     ]
    },
    {
     "name": "stderr",
     "output_type": "stream",
     "text": [
      "23:00:42 - cmdstanpy - INFO - Chain [1] start processing\n",
      "23:00:42 - cmdstanpy - INFO - Chain [1] done processing\n"
     ]
    },
    {
     "name": "stdout",
     "output_type": "stream",
     "text": [
      "It's underpredicted.\n",
      "Monthly Error:It's overpredicted.\n",
      " Monthly Error:22.8 60.34 Period MAE: Period MAE:  55.58999999999999623.36\n",
      "\n",
      "It's overpredicted.\n",
      "Monthly Error: 30.56 Period MAE: 5.27\n"
     ]
    },
    {
     "name": "stderr",
     "output_type": "stream",
     "text": [
      "23:00:43 - cmdstanpy - INFO - Chain [1] start processing\n",
      "23:00:43 - cmdstanpy - INFO - Chain [1] start processing\n",
      "23:00:43 - cmdstanpy - INFO - Chain [1] start processing\n",
      "23:00:44 - cmdstanpy - INFO - Chain [1] done processing\n",
      "23:00:44 - cmdstanpy - INFO - Chain [1] done processing\n",
      "23:00:44 - cmdstanpy - INFO - Chain [1] done processing\n"
     ]
    },
    {
     "name": "stdout",
     "output_type": "stream",
     "text": [
      "It's overpredicted.\n",
      "It's underpredicted.\n",
      "Monthly Error:Monthly Error:  47.0824.35  Period MAE:Period MAE:  32.53\n",
      "19.36\n"
     ]
    },
    {
     "name": "stderr",
     "output_type": "stream",
     "text": [
      "23:00:45 - cmdstanpy - INFO - Chain [1] start processing\n",
      "23:00:45 - cmdstanpy - INFO - Chain [1] start processing\n",
      "23:00:45 - cmdstanpy - INFO - Chain [1] done processing\n"
     ]
    },
    {
     "name": "stdout",
     "output_type": "stream",
     "text": [
      "It's underpredicted.\n",
      "Monthly Error: 23.67 Period MAE: 18.96\n"
     ]
    },
    {
     "name": "stderr",
     "output_type": "stream",
     "text": [
      "23:00:46 - cmdstanpy - INFO - Chain [1] done processing\n"
     ]
    },
    {
     "name": "stdout",
     "output_type": "stream",
     "text": [
      "It's overpredicted.\n",
      "Monthly Error: 39.33 Period MAE:"
     ]
    },
    {
     "name": "stderr",
     "output_type": "stream",
     "text": [
      "23:00:46 - cmdstanpy - INFO - Chain [1] start processing\n"
     ]
    },
    {
     "name": "stdout",
     "output_type": "stream",
     "text": [
      " 20.560000000000002\n"
     ]
    },
    {
     "name": "stderr",
     "output_type": "stream",
     "text": [
      "23:00:46 - cmdstanpy - INFO - Chain [1] done processing\n"
     ]
    },
    {
     "name": "stdout",
     "output_type": "stream",
     "text": [
      "It's underpredicted.\n",
      "Monthly Error:"
     ]
    },
    {
     "name": "stderr",
     "output_type": "stream",
     "text": [
      "23:00:47 - cmdstanpy - INFO - Chain [1] start processing\n"
     ]
    },
    {
     "name": "stdout",
     "output_type": "stream",
     "text": [
      " 26.28 Period MAE: 25.94\n",
      "It's underpredicted.\n",
      "Monthly Error: 26.87 Period MAE: 12.53\n"
     ]
    },
    {
     "name": "stderr",
     "output_type": "stream",
     "text": [
      "23:00:48 - cmdstanpy - INFO - Chain [1] done processing\n",
      "23:00:48 - cmdstanpy - INFO - Chain [1] start processing\n",
      "23:00:48 - cmdstanpy - INFO - Chain [1] start processing\n",
      "23:00:48 - cmdstanpy - INFO - Chain [1] done processing\n"
     ]
    },
    {
     "name": "stdout",
     "output_type": "stream",
     "text": [
      "It's underpredicted.\n",
      "Monthly Error: 26.74 Period MAE: 12.43\n"
     ]
    },
    {
     "name": "stderr",
     "output_type": "stream",
     "text": [
      "23:00:49 - cmdstanpy - INFO - Chain [1] done processing\n",
      "23:00:49 - cmdstanpy - INFO - Chain [1] start processing\n",
      "23:00:49 - cmdstanpy - INFO - Chain [1] done processing\n"
     ]
    },
    {
     "name": "stdout",
     "output_type": "stream",
     "text": [
      "It's underpredicted.\n",
      "Monthly Error: 23.01 Period MAE: It's underpredicted.18.529999999999998\n",
      "Monthly Error:\n",
      " 23.78 Period MAE: 17.72\n"
     ]
    },
    {
     "name": "stderr",
     "output_type": "stream",
     "text": [
      "23:00:50 - cmdstanpy - INFO - Chain [1] start processing\n",
      "23:00:50 - cmdstanpy - INFO - Chain [1] start processing\n",
      "23:00:50 - cmdstanpy - INFO - Chain [1] done processing\n",
      "23:00:50 - cmdstanpy - INFO - Chain [1] done processing\n"
     ]
    },
    {
     "name": "stdout",
     "output_type": "stream",
     "text": [
      "It's overpredicted.\n",
      "Monthly Error: 34.22 Period MAE: 14.05\n",
      "It's underpredicted.\n",
      "Monthly Error: 26.8 Period MAE: 12.43\n",
      "It's underpredicted.\n",
      "Monthly Error: 26.17 Period MAE: 26.46\n"
     ]
    },
    {
     "name": "stderr",
     "output_type": "stream",
     "text": [
      "23:00:52 - cmdstanpy - INFO - Chain [1] start processing\n",
      "23:00:52 - cmdstanpy - INFO - Chain [1] start processing\n",
      "23:00:52 - cmdstanpy - INFO - Chain [1] start processing\n",
      "23:00:52 - cmdstanpy - INFO - Chain [1] done processing\n",
      "23:00:52 - cmdstanpy - INFO - Chain [1] done processing\n",
      "23:00:52 - cmdstanpy - INFO - Chain [1] done processing\n"
     ]
    },
    {
     "name": "stdout",
     "output_type": "stream",
     "text": [
      "It's overpredicted.\n",
      "Monthly Error: 33.87 Period MAE: 13.38\n"
     ]
    },
    {
     "name": "stderr",
     "output_type": "stream",
     "text": [
      "23:00:53 - cmdstanpy - INFO - Chain [1] start processing\n",
      "23:00:53 - cmdstanpy - INFO - Chain [1] done processing\n"
     ]
    },
    {
     "name": "stdout",
     "output_type": "stream",
     "text": [
      "It's underpredicted.\n",
      "Monthly Error: 22.51 Period MAE: 16.57\n"
     ]
    },
    {
     "name": "stderr",
     "output_type": "stream",
     "text": [
      "23:00:54 - cmdstanpy - INFO - Chain [1] start processing\n"
     ]
    },
    {
     "name": "stdout",
     "output_type": "stream",
     "text": [
      "It's underpredicted.\n",
      "Monthly Error: 22.47 "
     ]
    },
    {
     "name": "stderr",
     "output_type": "stream",
     "text": [
      "23:00:54 - cmdstanpy - INFO - Chain [1] done processing\n"
     ]
    },
    {
     "name": "stdout",
     "output_type": "stream",
     "text": [
      "Period MAE: 17.810000000000002\n"
     ]
    },
    {
     "name": "stderr",
     "output_type": "stream",
     "text": [
      "23:00:55 - cmdstanpy - INFO - Chain [1] start processing\n",
      "23:00:55 - cmdstanpy - INFO - Chain [1] done processing\n"
     ]
    },
    {
     "name": "stdout",
     "output_type": "stream",
     "text": [
      "It's underpredicted.\n",
      "Monthly Error: 25.54It's overpredicted. Period MAE:\n",
      " Monthly Error:24.86 \n",
      "34.24 Period MAE: It's underpredicted.14.26\n",
      "\n",
      "Monthly Error: 26.93 Period MAE: 11.799999999999999\n"
     ]
    },
    {
     "name": "stderr",
     "output_type": "stream",
     "text": [
      "23:00:56 - cmdstanpy - INFO - Chain [1] start processing\n",
      "23:00:56 - cmdstanpy - INFO - Chain [1] done processing\n",
      "23:00:56 - cmdstanpy - INFO - Chain [1] start processing\n",
      "23:00:56 - cmdstanpy - INFO - Chain [1] start processing\n",
      "23:00:57 - cmdstanpy - INFO - Chain [1] done processing\n"
     ]
    },
    {
     "name": "stdout",
     "output_type": "stream",
     "text": [
      "It's underpredicted.\n",
      "Monthly Error: 29.83 Period MAE:It's underpredicted. 3.0300000000000002"
     ]
    },
    {
     "name": "stderr",
     "output_type": "stream",
     "text": [
      "23:00:57 - cmdstanpy - INFO - Chain [1] done processing\n"
     ]
    },
    {
     "name": "stdout",
     "output_type": "stream",
     "text": [
      "\n",
      "Monthly Error:\n",
      " 22.17 Period MAE: 19.67\n"
     ]
    },
    {
     "name": "stderr",
     "output_type": "stream",
     "text": [
      "23:00:57 - cmdstanpy - INFO - Chain [1] start processing\n",
      "23:00:58 - cmdstanpy - INFO - Chain [1] start processing\n",
      "23:00:58 - cmdstanpy - INFO - Chain [1] done processing\n",
      "23:00:58 - cmdstanpy - INFO - Chain [1] done processing\n"
     ]
    },
    {
     "name": "stdout",
     "output_type": "stream",
     "text": [
      "It's underpredicted.\n",
      "Monthly Error: 23.56 Period MAE: 17.87\n",
      "It's underpredicted.\n",
      "Monthly Error: 25.17 Period MAE: 25.89\n"
     ]
    },
    {
     "name": "stderr",
     "output_type": "stream",
     "text": [
      "23:00:59 - cmdstanpy - INFO - Chain [1] start processing\n",
      "23:01:00 - cmdstanpy - INFO - Chain [1] done processing\n",
      "23:01:00 - cmdstanpy - INFO - Chain [1] start processing\n"
     ]
    },
    {
     "name": "stdout",
     "output_type": "stream",
     "text": [
      "It's underpredicted.\n",
      "Monthly Error: 29.46 Period MAE: 5.55It's underpredicted.\n",
      "\n",
      "Monthly Error: 29.31 Period MAE: 8.76\n"
     ]
    },
    {
     "name": "stderr",
     "output_type": "stream",
     "text": [
      "23:01:00 - cmdstanpy - INFO - Chain [1] start processing\n",
      "23:01:01 - cmdstanpy - INFO - Chain [1] done processing\n",
      "23:01:01 - cmdstanpy - INFO - Chain [1] done processing\n",
      "23:01:01 - cmdstanpy - INFO - Chain [1] start processing\n",
      "23:01:01 - cmdstanpy - INFO - Chain [1] done processing\n"
     ]
    },
    {
     "name": "stdout",
     "output_type": "stream",
     "text": [
      "It's underpredicted.\n",
      "Monthly Error: 22.17 Period MAE: It's underpredicted.20.89\n",
      "\n",
      "Monthly Error: 22.53 19.12Period MAE: \n"
     ]
    },
    {
     "name": "stderr",
     "output_type": "stream",
     "text": [
      "23:01:03 - cmdstanpy - INFO - Chain [1] start processing\n",
      "23:01:03 - cmdstanpy - INFO - Chain [1] start processing\n"
     ]
    },
    {
     "name": "stdout",
     "output_type": "stream",
     "text": [
      "It's underpredicted."
     ]
    },
    {
     "name": "stderr",
     "output_type": "stream",
     "text": [
      "23:01:03 - cmdstanpy - INFO - Chain [1] done processing\n"
     ]
    },
    {
     "name": "stdout",
     "output_type": "stream",
     "text": [
      "\n",
      "Monthly Error: 28.91 Period MAE: 9.76\n"
     ]
    },
    {
     "name": "stderr",
     "output_type": "stream",
     "text": [
      "23:01:03 - cmdstanpy - INFO - Chain [1] done processing\n",
      "23:01:04 - cmdstanpy - INFO - Chain [1] start processing\n",
      "23:01:04 - cmdstanpy - INFO - Chain [1] done processing\n"
     ]
    },
    {
     "name": "stdout",
     "output_type": "stream",
     "text": [
      "It's underpredicted.\n",
      "Monthly Error: 27.39 Period MAE: 27.99\n"
     ]
    },
    {
     "name": "stderr",
     "output_type": "stream",
     "text": [
      "23:01:06 - cmdstanpy - INFO - Chain [1] start processing\n"
     ]
    },
    {
     "name": "stdout",
     "output_type": "stream",
     "text": [
      "It's underpredicted.It's underpredicted.\n",
      "Monthly Error:\n",
      "Monthly Error:  29.2228.18  Period MAE:Period MAE:  0.899.120000000000001\n",
      "\n"
     ]
    },
    {
     "name": "stderr",
     "output_type": "stream",
     "text": [
      "23:01:06 - cmdstanpy - INFO - Chain [1] done processing\n",
      "23:01:06 - cmdstanpy - INFO - Chain [1] start processing\n",
      "23:01:07 - cmdstanpy - INFO - Chain [1] done processing\n"
     ]
    },
    {
     "name": "stdout",
     "output_type": "stream",
     "text": [
      "It's underpredicted.\n",
      "Monthly Error: 28.09 Period MAE: 1.04\n"
     ]
    },
    {
     "name": "stderr",
     "output_type": "stream",
     "text": [
      "23:01:07 - cmdstanpy - INFO - Chain [1] start processing\n",
      "23:01:07 - cmdstanpy - INFO - Chain [1] start processing\n",
      "23:01:07 - cmdstanpy - INFO - Chain [1] done processing\n",
      "23:01:07 - cmdstanpy - INFO - Chain [1] done processing\n"
     ]
    },
    {
     "name": "stdout",
     "output_type": "stream",
     "text": [
      "It's underpredicted.\n",
      "Monthly Error: 22.97It's underpredicted. \n",
      "Period MAE:Monthly Error:  22.0\n",
      "21.76 Period MAE: 18.3\n"
     ]
    },
    {
     "name": "stderr",
     "output_type": "stream",
     "text": [
      "23:01:08 - cmdstanpy - INFO - Chain [1] start processing\n",
      "23:01:08 - cmdstanpy - INFO - Chain [1] start processing\n",
      "23:01:08 - cmdstanpy - INFO - Chain [1] done processing\n",
      "23:01:09 - cmdstanpy - INFO - Chain [1] done processing\n"
     ]
    },
    {
     "name": "stdout",
     "output_type": "stream",
     "text": [
      "It's overpredicted.\n",
      "Monthly Error:It's underpredicted. \n",
      "28.29Monthly Error:  Period MAE:29.4  0.24Period MAE:\n",
      " 8.450000000000001\n",
      "It's underpredicted.\n",
      "Monthly Error: 25.47 Period MAE: 26.19\n"
     ]
    },
    {
     "name": "stderr",
     "output_type": "stream",
     "text": [
      "23:01:11 - cmdstanpy - INFO - Chain [1] start processing\n"
     ]
    },
    {
     "name": "stdout",
     "output_type": "stream",
     "text": [
      "It's underpredicted.\n",
      "Monthly Error: "
     ]
    },
    {
     "name": "stderr",
     "output_type": "stream",
     "text": [
      "23:01:11 - cmdstanpy - INFO - Chain [1] start processing\n"
     ]
    },
    {
     "name": "stdout",
     "output_type": "stream",
     "text": [
      "28.86 Period MAE: 9.64\n"
     ]
    },
    {
     "name": "stderr",
     "output_type": "stream",
     "text": [
      "23:01:11 - cmdstanpy - INFO - Chain [1] done processing\n",
      "23:01:11 - cmdstanpy - INFO - Chain [1] start processing\n",
      "23:01:11 - cmdstanpy - INFO - Chain [1] start processing\n",
      "23:01:11 - cmdstanpy - INFO - Chain [1] done processing\n",
      "23:01:11 - cmdstanpy - INFO - Chain [1] done processing\n",
      "23:01:11 - cmdstanpy - INFO - Chain [1] done processing\n"
     ]
    },
    {
     "name": "stdout",
     "output_type": "stream",
     "text": [
      "It's underpredicted.\n",
      "Monthly Error: 18.45 Period MAE: 4.96\n"
     ]
    },
    {
     "name": "stderr",
     "output_type": "stream",
     "text": [
      "23:01:12 - cmdstanpy - INFO - Chain [1] start processing\n",
      "23:01:12 - cmdstanpy - INFO - Chain [1] done processing\n"
     ]
    },
    {
     "name": "stdout",
     "output_type": "stream",
     "text": [
      "It's underpredicted.\n",
      "Monthly Error: 29.38 Period MAE: 22.23\n",
      "It's underpredicted.\n",
      "Monthly Error: 22.27 Period MAE: 18.56\n"
     ]
    },
    {
     "name": "stderr",
     "output_type": "stream",
     "text": [
      "23:01:13 - cmdstanpy - INFO - Chain [1] start processing\n",
      "23:01:14 - cmdstanpy - INFO - Chain [1] done processing\n"
     ]
    },
    {
     "name": "stdout",
     "output_type": "stream",
     "text": [
      "It's underpredicted.\n",
      "Monthly Error:It's underpredicted.\n",
      " Monthly Error:29.24  Period MAE:18.29 8.59 \n",
      "Period MAE: 9.06\n"
     ]
    },
    {
     "name": "stderr",
     "output_type": "stream",
     "text": [
      "23:01:14 - cmdstanpy - INFO - Chain [1] start processing\n",
      "23:01:14 - cmdstanpy - INFO - Chain [1] done processing\n",
      "23:01:14 - cmdstanpy - INFO - Chain [1] start processing\n",
      "23:01:15 - cmdstanpy - INFO - Chain [1] done processing\n",
      "23:01:15 - cmdstanpy - INFO - Chain [1] start processing\n",
      "23:01:15 - cmdstanpy - INFO - Chain [1] done processing\n"
     ]
    },
    {
     "name": "stdout",
     "output_type": "stream",
     "text": [
      "It's underpredicted.\n",
      "Monthly Error: 18.4 Period MAE: 4.93\n"
     ]
    },
    {
     "name": "stderr",
     "output_type": "stream",
     "text": [
      "23:01:15 - cmdstanpy - INFO - Chain [1] start processing\n",
      "23:01:16 - cmdstanpy - INFO - Chain [1] done processing\n"
     ]
    },
    {
     "name": "stdout",
     "output_type": "stream",
     "text": [
      "It's underpredicted.It's underpredicted.\n",
      "\n",
      "Monthly Error: Monthly Error:18.86  29.28Period MAE:  5.29Period MAE: \n",
      "22.27\n"
     ]
    },
    {
     "name": "stderr",
     "output_type": "stream",
     "text": [
      "23:01:17 - cmdstanpy - INFO - Chain [1] start processing\n",
      "23:01:17 - cmdstanpy - INFO - Chain [1] start processing\n",
      "23:01:17 - cmdstanpy - INFO - Chain [1] done processing\n",
      "23:01:17 - cmdstanpy - INFO - Chain [1] done processing\n"
     ]
    },
    {
     "name": "stdout",
     "output_type": "stream",
     "text": [
      "It's overpredicted.\n",
      "Monthly Error: 59.27 Period MAE: 54.64\n",
      "It's underpredicted.\n",
      "Monthly Error: 28.87 It's underpredicted.Period MAE:\n",
      " Monthly Error:20.97 18.21\n",
      " Period MAE: 8.9\n"
     ]
    },
    {
     "name": "stderr",
     "output_type": "stream",
     "text": [
      "23:01:18 - cmdstanpy - INFO - Chain [1] start processing\n",
      "23:01:19 - cmdstanpy - INFO - Chain [1] start processing\n",
      "23:01:19 - cmdstanpy - INFO - Chain [1] done processing\n",
      "23:01:19 - cmdstanpy - INFO - Chain [1] done processing\n",
      "23:01:19 - cmdstanpy - INFO - Chain [1] start processing\n"
     ]
    },
    {
     "name": "stdout",
     "output_type": "stream",
     "text": [
      "It's overpredicted.\n",
      "Monthly Error: 57.57 Period MAE: 53.04\n"
     ]
    },
    {
     "name": "stderr",
     "output_type": "stream",
     "text": [
      "23:01:19 - cmdstanpy - INFO - Chain [1] done processing\n",
      "23:01:20 - cmdstanpy - INFO - Chain [1] start processing\n"
     ]
    },
    {
     "name": "stdout",
     "output_type": "stream",
     "text": [
      "It's underpredicted.\n",
      "Monthly Error:"
     ]
    },
    {
     "name": "stderr",
     "output_type": "stream",
     "text": [
      "23:01:20 - cmdstanpy - INFO - Chain [1] done processing\n"
     ]
    },
    {
     "name": "stdout",
     "output_type": "stream",
     "text": [
      " 20.0 Period MAE: 10.92\n"
     ]
    },
    {
     "name": "stderr",
     "output_type": "stream",
     "text": [
      "23:01:20 - cmdstanpy - INFO - Chain [1] start processing\n"
     ]
    },
    {
     "name": "stdout",
     "output_type": "stream",
     "text": [
      "It's underpredicted.\n",
      "Monthly Error: 18.75 Period MAE: 5.050000000000001\n"
     ]
    },
    {
     "name": "stderr",
     "output_type": "stream",
     "text": [
      "23:01:21 - cmdstanpy - INFO - Chain [1] done processing\n",
      "23:01:21 - cmdstanpy - INFO - Chain [1] start processing\n",
      "23:01:21 - cmdstanpy - INFO - Chain [1] done processing\n"
     ]
    },
    {
     "name": "stdout",
     "output_type": "stream",
     "text": [
      "It's underpredicted.\n",
      "Monthly Error: 20.03 Period MAE: 16.98\n",
      "It's overpredicted. \n",
      "Monthly Error:59.4 Period MAE: 54.7\n",
      "It's underpredicted.\n",
      "Monthly Error: 29.51 Period MAE: 21.48\n"
     ]
    },
    {
     "name": "stderr",
     "output_type": "stream",
     "text": [
      "23:01:23 - cmdstanpy - INFO - Chain [1] start processing\n",
      "23:01:23 - cmdstanpy - INFO - Chain [1] start processing\n",
      "23:01:23 - cmdstanpy - INFO - Chain [1] start processing\n",
      "23:01:23 - cmdstanpy - INFO - Chain [1] done processing\n",
      "23:01:24 - cmdstanpy - INFO - Chain [1] done processing\n"
     ]
    },
    {
     "name": "stdout",
     "output_type": "stream",
     "text": [
      "It's underpredicted.\n",
      "Monthly Error: 29.14 Period MAE:"
     ]
    },
    {
     "name": "stderr",
     "output_type": "stream",
     "text": [
      "23:01:24 - cmdstanpy - INFO - Chain [1] done processing\n"
     ]
    },
    {
     "name": "stdout",
     "output_type": "stream",
     "text": [
      " 22.11\n"
     ]
    },
    {
     "name": "stderr",
     "output_type": "stream",
     "text": [
      "23:01:24 - cmdstanpy - INFO - Chain [1] start processing\n",
      "23:01:24 - cmdstanpy - INFO - Chain [1] done processing\n"
     ]
    },
    {
     "name": "stdout",
     "output_type": "stream",
     "text": [
      "It's underpredicted.\n",
      "Monthly Error: 19.64 Period MAE: 16.59\n"
     ]
    },
    {
     "name": "stderr",
     "output_type": "stream",
     "text": [
      "23:01:25 - cmdstanpy - INFO - Chain [1] start processing\n"
     ]
    },
    {
     "name": "stdout",
     "output_type": "stream",
     "text": [
      "It's underpredicted."
     ]
    },
    {
     "name": "stderr",
     "output_type": "stream",
     "text": [
      "23:01:25 - cmdstanpy - INFO - Chain [1] done processing\n"
     ]
    },
    {
     "name": "stdout",
     "output_type": "stream",
     "text": [
      "\n",
      "Monthly Error: 20.62 Period MAE: 11.32\n"
     ]
    },
    {
     "name": "stderr",
     "output_type": "stream",
     "text": [
      "23:01:26 - cmdstanpy - INFO - Chain [1] start processing\n"
     ]
    },
    {
     "name": "stdout",
     "output_type": "stream",
     "text": [
      "It's underpredicted.\n",
      "Monthly Error: 19.48 "
     ]
    },
    {
     "name": "stderr",
     "output_type": "stream",
     "text": [
      "23:01:26 - cmdstanpy - INFO - Chain [1] done processing\n"
     ]
    },
    {
     "name": "stdout",
     "output_type": "stream",
     "text": [
      "Period MAE:It's underpredicted. \n",
      "Monthly Error:19.36 \n",
      "23.44 Period MAE: It's underpredicted.\n",
      "9.569999999999999\n",
      "Monthly Error: 28.91 Period MAE: 20.29\n"
     ]
    },
    {
     "name": "stderr",
     "output_type": "stream",
     "text": [
      "23:01:27 - cmdstanpy - INFO - Chain [1] start processing\n",
      "23:01:27 - cmdstanpy - INFO - Chain [1] done processing\n",
      "23:01:27 - cmdstanpy - INFO - Chain [1] start processing\n",
      "23:01:27 - cmdstanpy - INFO - Chain [1] start processing\n",
      "23:01:28 - cmdstanpy - INFO - Chain [1] done processing\n",
      "23:01:28 - cmdstanpy - INFO - Chain [1] done processing\n"
     ]
    },
    {
     "name": "stdout",
     "output_type": "stream",
     "text": [
      "It's underpredicted.\n",
      "Monthly Error: 19.52 Period MAE: 15.690000000000001\n"
     ]
    },
    {
     "name": "stderr",
     "output_type": "stream",
     "text": [
      "23:01:29 - cmdstanpy - INFO - Chain [1] start processing\n",
      "23:01:29 - cmdstanpy - INFO - Chain [1] done processing\n"
     ]
    },
    {
     "name": "stdout",
     "output_type": "stream",
     "text": [
      "It's underpredicted.\n",
      "Monthly Error: 23.23 Period MAE: 9.35\n"
     ]
    },
    {
     "name": "stderr",
     "output_type": "stream",
     "text": [
      "23:01:30 - cmdstanpy - INFO - Chain [1] start processing\n"
     ]
    },
    {
     "name": "stdout",
     "output_type": "stream",
     "text": [
      "It's underpredicted.\n",
      "Monthly Error: 20.1 Period MAE: 15.709999999999999\n"
     ]
    },
    {
     "name": "stderr",
     "output_type": "stream",
     "text": [
      "23:01:30 - cmdstanpy - INFO - Chain [1] done processing\n"
     ]
    },
    {
     "name": "stdout",
     "output_type": "stream",
     "text": [
      "It's underpredicted.\n",
      "Monthly Error:"
     ]
    },
    {
     "name": "stderr",
     "output_type": "stream",
     "text": [
      "23:01:31 - cmdstanpy - INFO - Chain [1] start processing\n"
     ]
    },
    {
     "name": "stdout",
     "output_type": "stream",
     "text": [
      " 24.09 Period MAE: 7.26\n"
     ]
    },
    {
     "name": "stderr",
     "output_type": "stream",
     "text": [
      "23:01:31 - cmdstanpy - INFO - Chain [1] done processing\n",
      "23:01:31 - cmdstanpy - INFO - Chain [1] start processing\n"
     ]
    },
    {
     "name": "stdout",
     "output_type": "stream",
     "text": [
      "It's underpredicted.\n",
      "Monthly Error: 19.64 Period MAE: 19.7\n",
      "It's overpredicted.\n",
      "Monthly Error: 58.64 Period MAE: 54.010000000000005\n"
     ]
    },
    {
     "name": "stderr",
     "output_type": "stream",
     "text": [
      "23:01:32 - cmdstanpy - INFO - Chain [1] done processing\n",
      "23:01:32 - cmdstanpy - INFO - Chain [1] start processing\n",
      "23:01:32 - cmdstanpy - INFO - Chain [1] done processing\n",
      "23:01:32 - cmdstanpy - INFO - Chain [1] start processing\n",
      "23:01:33 - cmdstanpy - INFO - Chain [1] done processing\n"
     ]
    },
    {
     "name": "stdout",
     "output_type": "stream",
     "text": [
      "It's overpredicted.\n",
      "Monthly Error: 58.67 Period MAE: 54.120000000000005It's underpredicted.\n",
      "\n",
      "Monthly Error: 20.46Period MAE:  19.39\n"
     ]
    },
    {
     "name": "stderr",
     "output_type": "stream",
     "text": [
      "23:01:34 - cmdstanpy - INFO - Chain [1] start processing\n"
     ]
    },
    {
     "name": "stdout",
     "output_type": "stream",
     "text": [
      "It's underpredicted.\n",
      "Monthly Error: 20.04 Period MAE: 15.39\n"
     ]
    },
    {
     "name": "stderr",
     "output_type": "stream",
     "text": [
      "23:01:34 - cmdstanpy - INFO - Chain [1] start processing\n",
      "23:01:34 - cmdstanpy - INFO - Chain [1] done processing\n",
      "23:01:34 - cmdstanpy - INFO - Chain [1] done processing\n",
      "23:01:34 - cmdstanpy - INFO - Chain [1] start processing\n",
      "23:01:34 - cmdstanpy - INFO - Chain [1] done processing\n"
     ]
    },
    {
     "name": "stdout",
     "output_type": "stream",
     "text": [
      "It's underpredicted.\n",
      "Monthly Error: 22.09 Period MAE: 22.96\n"
     ]
    },
    {
     "name": "stderr",
     "output_type": "stream",
     "text": [
      "23:01:36 - cmdstanpy - INFO - Chain [1] start processing\n"
     ]
    },
    {
     "name": "stdout",
     "output_type": "stream",
     "text": [
      "It's overpredicted.\n",
      "Monthly Error:It's underpredicted. 59.75\n",
      " Period MAE:Monthly Error:  55.05999999999999523.79\n",
      " Period MAE: 8.709999999999999\n",
      "It's underpredicted.\n",
      " Monthly Error:23.4 Period MAE: 8.66\n"
     ]
    },
    {
     "name": "stderr",
     "output_type": "stream",
     "text": [
      "23:01:36 - cmdstanpy - INFO - Chain [1] done processing\n",
      "23:01:37 - cmdstanpy - INFO - Chain [1] start processing\n",
      "23:01:37 - cmdstanpy - INFO - Chain [1] start processing\n",
      "23:01:37 - cmdstanpy - INFO - Chain [1] done processing\n",
      "23:01:37 - cmdstanpy - INFO - Chain [1] done processing\n",
      "23:01:37 - cmdstanpy - INFO - Chain [1] start processing\n",
      "23:01:37 - cmdstanpy - INFO - Chain [1] done processing\n"
     ]
    },
    {
     "name": "stdout",
     "output_type": "stream",
     "text": [
      "It's underpredicted.\n",
      "Monthly Error: 21.0 Period MAE: 18.240000000000002\n",
      "It's underpredicted.\n",
      "Monthly Error: 23.34 Period MAE: 17.66\n"
     ]
    },
    {
     "name": "stderr",
     "output_type": "stream",
     "text": [
      "23:01:38 - cmdstanpy - INFO - Chain [1] start processing\n",
      "23:01:38 - cmdstanpy - INFO - Chain [1] start processing\n",
      "23:01:39 - cmdstanpy - INFO - Chain [1] done processing\n",
      "23:01:39 - cmdstanpy - INFO - Chain [1] done processing\n"
     ]
    },
    {
     "name": "stdout",
     "output_type": "stream",
     "text": [
      "It's underpredicted.\n",
      "Monthly Error: 26.83 Period MAE: 12.65\n",
      "It's underpredicted.\n",
      "Monthly Error: 24.89 Period MAE: 20.8\n",
      "It's underpredicted.\n",
      "Monthly Error: 24.34 Period MAE: 6.49"
     ]
    },
    {
     "name": "stderr",
     "output_type": "stream",
     "text": [
      "23:01:41 - cmdstanpy - INFO - Chain [1] start processing\n"
     ]
    },
    {
     "name": "stdout",
     "output_type": "stream",
     "text": [
      "\n"
     ]
    },
    {
     "name": "stderr",
     "output_type": "stream",
     "text": [
      "23:01:41 - cmdstanpy - INFO - Chain [1] start processing\n",
      "23:01:41 - cmdstanpy - INFO - Chain [1] start processing\n",
      "23:01:41 - cmdstanpy - INFO - Chain [1] done processing\n",
      "23:01:41 - cmdstanpy - INFO - Chain [1] done processing\n"
     ]
    },
    {
     "name": "stdout",
     "output_type": "stream",
     "text": [
      "It's underpredicted.\n",
      "Monthly Error: 26.84 Period MAE: 12.82\n"
     ]
    },
    {
     "name": "stderr",
     "output_type": "stream",
     "text": [
      "23:01:41 - cmdstanpy - INFO - Chain [1] done processing\n",
      "23:01:42 - cmdstanpy - INFO - Chain [1] start processing\n",
      "23:01:42 - cmdstanpy - INFO - Chain [1] done processing\n"
     ]
    },
    {
     "name": "stdout",
     "output_type": "stream",
     "text": [
      "It's underpredicted.\n",
      "Monthly Error: 22.54 Period MAE: 17.599999999999998\n"
     ]
    },
    {
     "name": "stderr",
     "output_type": "stream",
     "text": [
      "23:01:43 - cmdstanpy - INFO - Chain [1] start processing\n"
     ]
    },
    {
     "name": "stdout",
     "output_type": "stream",
     "text": [
      "It's underpredicted.\n",
      "Monthly Error: 24.62 Period MAE: 19.830000000000002\n"
     ]
    },
    {
     "name": "stderr",
     "output_type": "stream",
     "text": [
      "23:01:43 - cmdstanpy - INFO - Chain [1] done processing\n",
      "23:01:43 - cmdstanpy - INFO - Chain [1] start processing\n",
      "23:01:44 - cmdstanpy - INFO - Chain [1] done processing\n"
     ]
    },
    {
     "name": "stdout",
     "output_type": "stream",
     "text": [
      "It's underpredicted.\n",
      "Monthly Error: 26.78 Period MAE: 12.65\n",
      "It's underpredicted.\n",
      "Monthly Error:"
     ]
    },
    {
     "name": "stderr",
     "output_type": "stream",
     "text": [
      "23:01:45 - cmdstanpy - INFO - Chain [1] start processing\n"
     ]
    },
    {
     "name": "stdout",
     "output_type": "stream",
     "text": [
      " 22.96 Period MAE: It's overpredicted.19.27\n",
      "Monthly Error:\n",
      " 33.59 Period MAE: 12.44\n"
     ]
    },
    {
     "name": "stderr",
     "output_type": "stream",
     "text": [
      "23:01:46 - cmdstanpy - INFO - Chain [1] start processing\n",
      "23:01:46 - cmdstanpy - INFO - Chain [1] done processing\n",
      "23:01:46 - cmdstanpy - INFO - Chain [1] start processing\n",
      "23:01:46 - cmdstanpy - INFO - Chain [1] done processing\n",
      "23:01:46 - cmdstanpy - INFO - Chain [1] done processing\n"
     ]
    },
    {
     "name": "stdout",
     "output_type": "stream",
     "text": [
      "It's overpredicted.\n",
      "Monthly Error: 33.56 Period MAE: 12.53\n"
     ]
    },
    {
     "name": "stderr",
     "output_type": "stream",
     "text": [
      "23:01:47 - cmdstanpy - INFO - Chain [1] start processing\n",
      "23:01:47 - cmdstanpy - INFO - Chain [1] done processing\n"
     ]
    },
    {
     "name": "stdout",
     "output_type": "stream",
     "text": [
      "It's underpredicted.\n",
      "Monthly Error: 23.25 Period MAE:It's underpredicted. \n",
      "17.68Monthly Error:\n",
      " 21.59 Period MAE: 16.41\n"
     ]
    },
    {
     "name": "stderr",
     "output_type": "stream",
     "text": [
      "23:01:48 - cmdstanpy - INFO - Chain [1] start processing\n",
      "23:01:48 - cmdstanpy - INFO - Chain [1] start processing\n",
      "23:01:48 - cmdstanpy - INFO - Chain [1] done processing\n",
      "23:01:48 - cmdstanpy - INFO - Chain [1] done processing\n"
     ]
    },
    {
     "name": "stdout",
     "output_type": "stream",
     "text": [
      "It's overpredicted.\n",
      "Monthly Error: 33.43 Period MAE: 12.120000000000001\n"
     ]
    },
    {
     "name": "stderr",
     "output_type": "stream",
     "text": [
      "23:01:49 - cmdstanpy - INFO - Chain [1] start processing\n"
     ]
    },
    {
     "name": "stdout",
     "output_type": "stream",
     "text": [
      "It's underpredicted.\n",
      "Monthly Error: 23.52 Period MAE: 18.57\n",
      "It's underpredicted.\n",
      "Monthly Error: 27.0 Period MAE: 12.370000000000001\n"
     ]
    },
    {
     "name": "stderr",
     "output_type": "stream",
     "text": [
      "23:01:50 - cmdstanpy - INFO - Chain [1] done processing\n",
      "23:01:50 - cmdstanpy - INFO - Chain [1] start processing\n"
     ]
    },
    {
     "name": "stdout",
     "output_type": "stream",
     "text": [
      "It's underpredicted.\n",
      "Monthly Error: 26.84 Period MAE:"
     ]
    },
    {
     "name": "stderr",
     "output_type": "stream",
     "text": [
      "23:01:50 - cmdstanpy - INFO - Chain [1] done processing\n"
     ]
    },
    {
     "name": "stdout",
     "output_type": "stream",
     "text": [
      " 12.36\n"
     ]
    },
    {
     "name": "stderr",
     "output_type": "stream",
     "text": [
      "23:01:51 - cmdstanpy - INFO - Chain [1] start processing\n",
      "23:01:51 - cmdstanpy - INFO - Chain [1] start processing\n",
      "23:01:51 - cmdstanpy - INFO - Chain [1] done processing\n",
      "23:01:51 - cmdstanpy - INFO - Chain [1] done processing\n"
     ]
    },
    {
     "name": "stdout",
     "output_type": "stream",
     "text": [
      "It's underpredicted.\n",
      "Monthly Error: 22.04 It's underpredicted.Period MAE: \n",
      "Monthly Error:19.470000000000002\n",
      " 23.19 Period MAE: 17.549999999999997\n"
     ]
    },
    {
     "name": "stderr",
     "output_type": "stream",
     "text": [
      "23:01:52 - cmdstanpy - INFO - Chain [1] start processing\n",
      "23:01:52 - cmdstanpy - INFO - Chain [1] start processing\n",
      "23:01:52 - cmdstanpy - INFO - Chain [1] done processing\n",
      "23:01:52 - cmdstanpy - INFO - Chain [1] done processing\n"
     ]
    },
    {
     "name": "stdout",
     "output_type": "stream",
     "text": [
      "It's underpredicted.\n",
      "Monthly Error: 22.95 Period MAE:It's underpredicted. \n",
      "21.51\n",
      "Monthly Error: 27.88 Period MAE: 12.78\n",
      "It's underpredicted.\n",
      "Monthly Error: 26.91 Period MAE: 12.25\n"
     ]
    },
    {
     "name": "stderr",
     "output_type": "stream",
     "text": [
      "23:01:54 - cmdstanpy - INFO - Chain [1] start processing\n",
      "23:01:54 - cmdstanpy - INFO - Chain [1] start processing\n",
      "23:01:54 - cmdstanpy - INFO - Chain [1] start processing\n",
      "23:01:54 - cmdstanpy - INFO - Chain [1] done processing\n",
      "23:01:55 - cmdstanpy - INFO - Chain [1] done processing\n"
     ]
    },
    {
     "name": "stdout",
     "output_type": "stream",
     "text": [
      "It's underpredicted.\n",
      "Monthly Error: 27.85 Period MAE: 12.97"
     ]
    },
    {
     "name": "stderr",
     "output_type": "stream",
     "text": [
      "23:01:55 - cmdstanpy - INFO - Chain [1] done processing\n"
     ]
    },
    {
     "name": "stdout",
     "output_type": "stream",
     "text": [
      "\n",
      "It's underpredicted.\n",
      "Monthly Error: "
     ]
    },
    {
     "name": "stderr",
     "output_type": "stream",
     "text": [
      "23:01:55 - cmdstanpy - INFO - Chain [1] start processing\n"
     ]
    },
    {
     "name": "stdout",
     "output_type": "stream",
     "text": [
      "22.54 Period MAE: 21.63\n"
     ]
    },
    {
     "name": "stderr",
     "output_type": "stream",
     "text": [
      "23:01:56 - cmdstanpy - INFO - Chain [1] done processing\n",
      "23:01:56 - cmdstanpy - INFO - Chain [1] start processing\n"
     ]
    },
    {
     "name": "stdout",
     "output_type": "stream",
     "text": [
      "It's underpredicted.\n",
      "Monthly Error: 22.63 Period MAE: 20.560000000000002\n"
     ]
    },
    {
     "name": "stderr",
     "output_type": "stream",
     "text": [
      "23:01:57 - cmdstanpy - INFO - Chain [1] done processing\n",
      "23:01:57 - cmdstanpy - INFO - Chain [1] start processing\n"
     ]
    },
    {
     "name": "stdout",
     "output_type": "stream",
     "text": [
      "It's underpredicted.\n",
      "Monthly Error: 27.85 Period MAE: 12.920000000000002\n"
     ]
    },
    {
     "name": "stderr",
     "output_type": "stream",
     "text": [
      "23:01:57 - cmdstanpy - INFO - Chain [1] done processing\n"
     ]
    },
    {
     "name": "stdout",
     "output_type": "stream",
     "text": [
      "It's underpredicted.\n",
      "Monthly Error: 26.94 Period MAE: 3.51\n",
      "It's underpredicted.\n",
      "Monthly Error: 23.74 Period MAE:"
     ]
    },
    {
     "name": "stderr",
     "output_type": "stream",
     "text": [
      "23:01:58 - cmdstanpy - INFO - Chain [1] start processing\n"
     ]
    },
    {
     "name": "stdout",
     "output_type": "stream",
     "text": [
      " 24.47\n"
     ]
    },
    {
     "name": "stderr",
     "output_type": "stream",
     "text": [
      "23:01:58 - cmdstanpy - INFO - Chain [1] start processing\n",
      "23:01:59 - cmdstanpy - INFO - Chain [1] start processing\n",
      "23:01:59 - cmdstanpy - INFO - Chain [1] done processing\n",
      "23:01:59 - cmdstanpy - INFO - Chain [1] done processing\n",
      "23:01:59 - cmdstanpy - INFO - Chain [1] done processing\n"
     ]
    },
    {
     "name": "stdout",
     "output_type": "stream",
     "text": [
      "It's underpredicted.\n",
      "Monthly Error: 27.1It's underpredicted. \n",
      "Monthly Error:Period MAE:  22.32 3.2099999999999995Period MAE:\n",
      " 20.16\n"
     ]
    },
    {
     "name": "stderr",
     "output_type": "stream",
     "text": [
      "23:02:00 - cmdstanpy - INFO - Chain [1] start processing\n"
     ]
    },
    {
     "name": "stdout",
     "output_type": "stream",
     "text": [
      "It's underpredicted.\n",
      "Monthly Error: 23.18"
     ]
    },
    {
     "name": "stderr",
     "output_type": "stream",
     "text": [
      "23:02:00 - cmdstanpy - INFO - Chain [1] done processing\n"
     ]
    },
    {
     "name": "stdout",
     "output_type": "stream",
     "text": [
      " Period MAE: "
     ]
    },
    {
     "name": "stderr",
     "output_type": "stream",
     "text": [
      "23:02:00 - cmdstanpy - INFO - Chain [1] start processing\n"
     ]
    },
    {
     "name": "stdout",
     "output_type": "stream",
     "text": [
      "23.03\n"
     ]
    },
    {
     "name": "stderr",
     "output_type": "stream",
     "text": [
      "23:02:01 - cmdstanpy - INFO - Chain [1] start processing\n",
      "23:02:01 - cmdstanpy - INFO - Chain [1] done processing\n",
      "23:02:01 - cmdstanpy - INFO - Chain [1] done processing\n"
     ]
    },
    {
     "name": "stdout",
     "output_type": "stream",
     "text": [
      "It's underpredicted.\n",
      "Monthly Error: 27.37 Period MAE: 2.32\n"
     ]
    },
    {
     "name": "stderr",
     "output_type": "stream",
     "text": [
      "23:02:02 - cmdstanpy - INFO - Chain [1] start processing\n"
     ]
    },
    {
     "name": "stdout",
     "output_type": "stream",
     "text": [
      "It's underpredicted.\n",
      "Monthly Error: 23.61 Period MAE: 22.82\n"
     ]
    },
    {
     "name": "stderr",
     "output_type": "stream",
     "text": [
      "23:02:04 - cmdstanpy - INFO - Chain [1] done processing\n"
     ]
    },
    {
     "name": "stdout",
     "output_type": "stream",
     "text": [
      "It's underpredicted.\n",
      "Monthly Error:"
     ]
    },
    {
     "name": "stderr",
     "output_type": "stream",
     "text": [
      "23:02:04 - cmdstanpy - INFO - Chain [1] start processing\n"
     ]
    },
    {
     "name": "stdout",
     "output_type": "stream",
     "text": [
      " 27.84 Period MAE: 12.590000000000002\n"
     ]
    },
    {
     "name": "stderr",
     "output_type": "stream",
     "text": [
      "23:02:04 - cmdstanpy - INFO - Chain [1] done processing\n"
     ]
    },
    {
     "name": "stdout",
     "output_type": "stream",
     "text": [
      "It's underpredicted.\n",
      "Monthly Error: 27.79 Period MAE: 12.629999999999999\n",
      "It's underpredicted.\n",
      "Monthly Error: 22.69 Period MAE: 20.78\n",
      "It's underpredicted.\n",
      "Monthly Error: 27.77 Period MAE: 12.690000000000001\n"
     ]
    }
   ],
   "source": [
    "# %load_ext autoreload\n",
    "# %autoreload 2\n",
    "# search_engine = ProphetParameterSearch(power_flag = False) # , logistic_flag = False\n",
    "# # search_engine.add_power_params()\n",
    "# grid_brand = search_engine.search(cuts_df, df_filled)\n",
    "# #grid_bing = search_engine.search(cuts_df[(cuts_df.index==0)], df_filled)\n",
    "\n",
    "# %load_ext autoreload\n",
    "# %autoreload 2\n",
    "search_engine = ProphetParameterSearch(param_grid=param_grid, power_flag = False, base_path=base_path) # \n",
    "# search_engine.add_power_params() # consider using it when the basic setting won't get you good results\n",
    "# Mobile\n",
    "grid_brand_mobile = search_engine.search(cuts_df_mobile, df_filled) #competitor and bing generic"
   ]
  },
  {
   "cell_type": "code",
   "execution_count": null,
   "id": "3ad1e939-12b8-4476-b32b-29033430e20d",
   "metadata": {
    "tags": []
   },
   "outputs": [
    {
     "name": "stderr",
     "output_type": "stream",
     "text": [
      "100%|██████████| 1/1 [19:50<00:00, 1190.82s/it]\n"
     ]
    }
   ],
   "source": [
    "# %load_ext autoreload\n",
    "# %autoreload 2\n",
    "# search_engine = ProphetParameterSearch(power_flag = False) # , logistic_flag = False\n",
    "# # search_engine.add_power_params()\n",
    "# grid_brand = search_engine.search(cuts_df, df_filled)\n",
    "# #grid_bing = search_engine.search(cuts_df[(cuts_df.index==0)], df_filled)\n",
    "\n",
    "# %load_ext autoreload\n",
    "# %autoreload 2\n",
    "search_engine = ProphetParameterSearch(param_grid=param_grid, power_flag = False, base_path=base_path) # \n",
    "# search_engine.add_power_params() # consider using it when the basic setting won't get you good results\n",
    "# Desktop\n",
    "grid_brand_desktop = search_engine.search(cuts_df_desktop, df_filled) #competitor and bing generic"
   ]
  },
  {
   "cell_type": "code",
   "execution_count": 19,
   "id": "1d399504-4f11-42a4-bc87-ef67f2407e29",
   "metadata": {
    "tags": []
   },
   "outputs": [],
   "source": [
    "# Read the two CSV files\n",
    "df_desktop = pd.read_csv('record_df 2024-05-29 18:42:16.csv')\n",
    "df_mobile = pd.read_csv('record_df 2024-05-29 18:19:56.csv')\n",
    "\n",
    "df_best_desktop = pd.read_csv('record_df 2024-05-29 18:42:16 best result.csv')\n",
    "df_best_mobile = pd.read_csv('record_df 2024-05-29 18:19:56 best result.csv')\n",
    "\n",
    "# Append the second dataframe to the first one\n",
    "#combined_df = df_desktop.concat(df_mobile)\n",
    "#combined_best_df = df_best_desktop.concat(df_best_mobile)\n",
    "combined_df = pd.concat([df_desktop, df_mobile], ignore_index=True)\n",
    "combined_best_df = pd.concat([df_best_desktop, df_best_mobile], ignore_index=True)\n",
    "\n",
    "# Save the combined dataframe to a new CSV file\n",
    "combined_df.to_csv('results record_df 2024-05-29 15:32:21.csv', index=False)\n",
    "combined_best_df.to_csv('best result record_df 2024-05-29 15:32:21.csv', index=False)"
   ]
  },
  {
   "cell_type": "code",
   "execution_count": 20,
   "id": "f115b541-d44c-48fc-996e-c0afaee349e1",
   "metadata": {
    "tags": []
   },
   "outputs": [
    {
     "data": {
      "text/html": [
       "<div>\n",
       "<style scoped>\n",
       "    .dataframe tbody tr th:only-of-type {\n",
       "        vertical-align: middle;\n",
       "    }\n",
       "\n",
       "    .dataframe tbody tr th {\n",
       "        vertical-align: top;\n",
       "    }\n",
       "\n",
       "    .dataframe thead th {\n",
       "        text-align: right;\n",
       "    }\n",
       "</style>\n",
       "<table border=\"1\" class=\"dataframe\">\n",
       "  <thead>\n",
       "    <tr style=\"text-align: right;\">\n",
       "      <th></th>\n",
       "      <th>market</th>\n",
       "      <th>account_type</th>\n",
       "      <th>Accuracy</th>\n",
       "    </tr>\n",
       "  </thead>\n",
       "  <tbody>\n",
       "    <tr>\n",
       "      <th>0</th>\n",
       "      <td>UK</td>\n",
       "      <td>Desktop</td>\n",
       "      <td>85.27</td>\n",
       "    </tr>\n",
       "    <tr>\n",
       "      <th>1</th>\n",
       "      <td>UK</td>\n",
       "      <td>Mobile &amp; Tablet</td>\n",
       "      <td>81.68</td>\n",
       "    </tr>\n",
       "  </tbody>\n",
       "</table>\n",
       "</div>"
      ],
      "text/plain": [
       "  market     account_type  Accuracy\n",
       "0     UK          Desktop     85.27\n",
       "1     UK  Mobile & Tablet     81.68"
      ]
     },
     "execution_count": 20,
     "metadata": {},
     "output_type": "execute_result"
    }
   ],
   "source": [
    "combined_best_df_2 = combined_best_df.copy()\n",
    "combined_best_df_2['Accuracy'] = 100-combined_best_df['MAPE']\n",
    "combined_best_df_2['Accuracy period_AE'] = 100-combined_best_df['MAPE']\n",
    "combined_best_df_2.filter(['market', 'account_type', 'Accuracy'])"
   ]
  },
  {
   "cell_type": "code",
   "execution_count": 23,
   "id": "5ad10d90-1d05-43fa-87b4-d2c67b4a2695",
   "metadata": {
    "tags": []
   },
   "outputs": [],
   "source": [
    "# Remove duplicate entries from index\n",
    "#accuracy_df = accuracy_df.drop_duplicates(subset=['Month', query_item_list])\n",
    "\n",
    "subset_columns = ['Month'] + query_item_list\n",
    "\n",
    "accuracy_df = accuracy_df.drop_duplicates(subset=subset_columns)\n",
    "\n",
    "# Pivot the data\n",
    "#df_for_plt = accuracy_df.drop(['Actual', 'Forecast', 'MAPE', 'Forecast Period MAE', 'Predict Status'], axis=1).pivot(index='Month', columns=query_item_list, values='Percentage Error')"
   ]
  },
  {
   "cell_type": "code",
   "execution_count": 24,
   "id": "758d92f8-a3fe-4e77-bbd6-e1350e3595de",
   "metadata": {
    "tags": []
   },
   "outputs": [],
   "source": [
    "df_for_plt = accuracy_df.drop(['Actual', 'Forecast', 'MAPE', 'Forecast Period MAE', 'Predict Status'], axis=1).pivot(index = 'Month', columns = (query_item_list), values = 'Percentage Error')"
   ]
  },
  {
   "cell_type": "code",
   "execution_count": 25,
   "id": "096fcf46",
   "metadata": {
    "tags": []
   },
   "outputs": [
    {
     "data": {
      "image/png": "[encoded data removed]",
      "text/plain": [
       "<Figure size 1000x300 with 1 Axes>"
      ]
     },
     "metadata": {},
     "output_type": "display_data"
    }
   ],
   "source": [
    "plot_printer = PlotAndSaveAccuracyDf()\n",
    "fig = plot_printer.Plot(df_for_plt)\n",
    "plot_name = \"Accuracy_By_Month.jpg\"\n",
    "%load_ext autoreload\n",
    "%autoreload 2"
   ]
  },
  {
   "cell_type": "code",
   "execution_count": 28,
   "id": "804d256c-7052-46e8-bfda-9fb2b7090ec0",
   "metadata": {
    "tags": []
   },
   "outputs": [
    {
     "name": "stdout",
     "output_type": "stream",
     "text": [
      "ups_bj_cost_by_device_optimization/UK/reg/jun_2024_upd_v2/Accuracy_By_Month.jpg\n",
      "Image saved: ups_bj_cost_by_device_optimization/UK/reg/jun_2024_upd_v2/Accuracy_By_Month.jpg\n"
     ]
    }
   ],
   "source": [
    "#fig.savefig(plot_name)\n",
    "plot_printer.SaveToGCS(output_bucket,  plot_name, folder_name)"
   ]
  },
  {
   "cell_type": "code",
   "execution_count": 40,
   "id": "9a41fdd4",
   "metadata": {
    "tags": []
   },
   "outputs": [],
   "source": [
    "# min_score = grid_competitor[(grid_competitor['account_type'] == 'Bing Ads')&(grid_competitor['funnel'] == 'Competitor')]['MAPE'].min()\n",
    "\n",
    "# best_setting_df = grid_competitor[(grid_competitor['account_type'] == 'Bing Ads')&(grid_competitor['funnel'] == 'Competitor')\\\n",
    "#                                           &(grid_competitor['MAPE'] == min_score)]"
   ]
  },
  {
   "cell_type": "code",
   "execution_count": 22,
   "id": "e890d1f4",
   "metadata": {
    "tags": []
   },
   "outputs": [],
   "source": [
    "# search_engine = ProphetParameterSearch()\n",
    "# search_engine.add_power_params(num=5)\n",
    "# df1, df2 = search_engine.search(cuts_df, df_filled)\n",
    "# df2.to_csv('best_setting_df.csv')\n",
    "# df1.to_csv('all_setting_result_acc_df.csv')  "
   ]
  },
  {
   "cell_type": "code",
   "execution_count": 23,
   "id": "eb2451e3",
   "metadata": {
    "tags": []
   },
   "outputs": [],
   "source": [
    "# new_cuts_df = pd.read_csv('US Model Setting.csv')\n",
    "# cuts_df_col_ls = ['market', 'account_type', 'funnel', 'starting_date', 'cutoff_month', 'periods', 'periods_for_acc_cal']\n",
    "# new_cuts_df = new_cuts_df.merge(cuts_df[cuts_df_col_ls], how = 'left', on = ['market', 'account_type', 'funnel'])\n",
    "\n",
    "# new_cuts_df.to_csv(config_dict['CLIENTINFO']['country'] + ' Breakdown.csv')\n",
    "# generator = BreakdownSettingFileGenerator()\n",
    "# new_cuts_df = generator.Generate(daily_df, config_dict, new_cuts_df)\n",
    "# new_cuts_df = generator.Update()\n",
    "# generator.SaveFile(bucket_name, folder_name, 'cuts_df.csv')\n",
    "# new_cuts_df"
   ]
  },
  {
   "cell_type": "code",
   "execution_count": 24,
   "id": "98f054af",
   "metadata": {
    "tags": []
   },
   "outputs": [],
   "source": [
    "# new_cuts_df.to_csv('cuts_df.csv')"
   ]
  },
  {
   "cell_type": "code",
   "execution_count": 42,
   "id": "8603df74",
   "metadata": {
    "tags": []
   },
   "outputs": [],
   "source": [
    "# calculator = AccuracyCalculator()\n",
    "# accuracy_df = calculator.CalculateAccuracy(new_cuts_df, df, query_item_list)\n",
    "# # %load_ext autoreload\n",
    "# # %autoreload 2\n",
    "# calculator.SaveFile(bucket_name, folder_name, 'Finalized Model Score.csv')\n",
    "# accuracy_df"
   ]
  },
  {
   "cell_type": "code",
   "execution_count": 58,
   "id": "3126eebe",
   "metadata": {
    "tags": []
   },
   "outputs": [],
   "source": [
    "# import json\n",
    "# param_search_dict = {'power': 5,\n",
    "#                      'growth': ['linear', 'logistic', 'power'],\n",
    "#                     'seasonality_mode': ['additive', 'multiplicative'],\n",
    "#                     'input_mode': ['additive', 'multiplicative'],\n",
    "#                     'include_holiday': ['NA', 'Custom', 'Default'],\n",
    "#                     'weekday_or_weekend': ['NA', 'additive', 'multiplicative'],\n",
    "#                     'covid_year_exclude': ['Exclude', 'na'],\n",
    "#                     'covid_year_dummy': ['NA', 'additive', 'multiplicative'],\n",
    "#                     'anomaly_2021':['NA', 'additive', 'multiplicative'],\n",
    "#                     }\n",
    "# with open(\"param serach.json\", \"w\") as outfile:\n",
    "#     json.dump(param_search_dict, outfile)"
   ]
  },
  {
   "cell_type": "code",
   "execution_count": 59,
   "id": "6c484d4b",
   "metadata": {
    "tags": []
   },
   "outputs": [],
   "source": [
    "# param_search_f = open(\"param serach.json\")\n",
    "# param_search_dict = json.load(param_search_f)\n",
    "# power_number = int(param_search_dict['power']) \n",
    "# param_search_dict = {k: v for i, (k, v) in enumerate(param_search_dict.items()) if i > 1}\n",
    "# power_number, param_search_dict"
   ]
  },
  {
   "cell_type": "code",
   "execution_count": 60,
   "id": "49f6ba96",
   "metadata": {
    "tags": []
   },
   "outputs": [],
   "source": [
    "# import itertools\n",
    "# list(itertools.product(*param_search_dict.values()))\n",
    "# list(param_search_dict.keys())"
   ]
  },
  {
   "cell_type": "markdown",
   "id": "ccc21532",
   "metadata": {},
   "source": [
    "# Model Generator"
   ]
  },
  {
   "cell_type": "code",
   "execution_count": 16,
   "id": "50ac10ba",
   "metadata": {
    "tags": []
   },
   "outputs": [
    {
     "name": "stderr",
     "output_type": "stream",
     "text": [
      "04:05:08 - cmdstanpy - INFO - Chain [1] start processing\n",
      "04:05:08 - cmdstanpy - INFO - Chain [1] done processing\n",
      "04:05:09 - cmdstanpy - INFO - Chain [1] start processing\n",
      "04:05:10 - cmdstanpy - INFO - Chain [1] done processing\n"
     ]
    }
   ],
   "source": [
    "# %load_ext autoreload\n",
    "# %autoreload 2\n",
    "# model_generator = GenerateModelFile()\n",
    "# model_generator.Generate(cuts_df, df_filled, query_item_list, output_bucket, folder_name)\n",
    "\n",
    "# %load_ext autoreload\n",
    "# %autoreload \n",
    "model_generator = GenerateModelFile()\n",
    "model_generator.Generate(cuts_df, df_filled , query_item_list, output_bucket, folder_name, base_path=base_path)"
   ]
  },
  {
   "cell_type": "markdown",
   "id": "d92338c0",
   "metadata": {},
   "source": [
    "# Constraint Setting"
   ]
  },
  {
   "cell_type": "code",
   "execution_count": 32,
   "id": "68436db0-20c2-4211-b98e-54570603c515",
   "metadata": {
    "tags": []
   },
   "outputs": [
    {
     "name": "stdout",
     "output_type": "stream",
     "text": [
      "Data Frame file saved\n"
     ]
    }
   ],
   "source": [
    "bounds = cuts_df.copy()\n",
    "bounds['MinWeight'] = 0.8\n",
    "bounds['MaxWeight'] = 1.2\n",
    "bounds\n",
    "\n",
    "# %load_ext autoreload\n",
    "# %autoreload 2\n",
    "constraint_file_generator = ConstraintFileGenerator(config_dict, analytical_file_df)\n",
    "constraint_file = constraint_file_generator.Generate(bounds)\n",
    "constraint_file.loc[constraint_file['Month'].isin(['Nov']), 'MinWeight'] = 1.0\n",
    "constraint_file.loc[constraint_file['Month'].isin(['Nov']), 'MaxWeight'] = 1.1\n",
    "constraint_file_generator.SaveFile(output_bucket, folder_name, constraint_file_name)"
   ]
  },
  {
   "cell_type": "code",
   "execution_count": 40,
   "id": "0d96d301",
   "metadata": {},
   "outputs": [],
   "source": [
    "#constraint_file.to_csv('Constrain File.csv')\n",
    "#constrain_file_generator.SaveFile(output_bucket, folder_name, 'Constraint File.csv')"
   ]
  },
  {
   "cell_type": "code",
   "execution_count": 19,
   "id": "69b816bf-aa13-4980-8721-4195d32ace2d",
   "metadata": {
    "tags": []
   },
   "outputs": [
    {
     "data": {
      "text/html": [
       "<div>\n",
       "<style scoped>\n",
       "    .dataframe tbody tr th:only-of-type {\n",
       "        vertical-align: middle;\n",
       "    }\n",
       "\n",
       "    .dataframe tbody tr th {\n",
       "        vertical-align: top;\n",
       "    }\n",
       "\n",
       "    .dataframe thead th {\n",
       "        text-align: right;\n",
       "    }\n",
       "</style>\n",
       "<table border=\"1\" class=\"dataframe\">\n",
       "  <thead>\n",
       "    <tr style=\"text-align: right;\">\n",
       "      <th></th>\n",
       "      <th>X</th>\n",
       "      <th>y</th>\n",
       "      <th>weekday_or_weekend</th>\n",
       "      <th>floor</th>\n",
       "      <th>AOV</th>\n",
       "      <th>ROAS</th>\n",
       "      <th>cap</th>\n",
       "    </tr>\n",
       "    <tr>\n",
       "      <th>region</th>\n",
       "      <th></th>\n",
       "      <th></th>\n",
       "      <th></th>\n",
       "      <th></th>\n",
       "      <th></th>\n",
       "      <th></th>\n",
       "      <th></th>\n",
       "    </tr>\n",
       "  </thead>\n",
       "  <tbody>\n",
       "    <tr>\n",
       "      <th>Europe</th>\n",
       "      <td>34689.53</td>\n",
       "      <td>4788.0</td>\n",
       "      <td>4</td>\n",
       "      <td>0</td>\n",
       "      <td>451.8</td>\n",
       "      <td>28.3</td>\n",
       "      <td>2750.7392</td>\n",
       "    </tr>\n",
       "  </tbody>\n",
       "</table>\n",
       "</div>"
      ],
      "text/plain": [
       "               X       y  weekday_or_weekend  floor    AOV  ROAS        cap\n",
       "region                                                                     \n",
       "Europe  34689.53  4788.0                   4      0  451.8  28.3  2750.7392"
      ]
     },
     "execution_count": 19,
     "metadata": {},
     "output_type": "execute_result"
    }
   ],
   "source": [
    "df_filled[(df_filled.ds>='2024-01-01')&(df_filled.ds<='2024-01-10')].groupby(by='region').sum(numeric_only=1)"
   ]
  },
  {
   "cell_type": "code",
   "execution_count": 25,
   "id": "5b6ac956-8dd2-4a78-9eb2-02bb628b17a9",
   "metadata": {
    "tags": []
   },
   "outputs": [
    {
     "data": {
      "text/html": [
       "<div>\n",
       "<style scoped>\n",
       "    .dataframe tbody tr th:only-of-type {\n",
       "        vertical-align: middle;\n",
       "    }\n",
       "\n",
       "    .dataframe tbody tr th {\n",
       "        vertical-align: top;\n",
       "    }\n",
       "\n",
       "    .dataframe thead th {\n",
       "        text-align: right;\n",
       "    }\n",
       "</style>\n",
       "<table border=\"1\" class=\"dataframe\">\n",
       "  <thead>\n",
       "    <tr style=\"text-align: right;\">\n",
       "      <th></th>\n",
       "      <th>market</th>\n",
       "      <th>account_type</th>\n",
       "      <th>funnel</th>\n",
       "      <th>periods_for_acc_cal</th>\n",
       "      <th>changepoint_prior_scale</th>\n",
       "      <th>seasonality_prior_scale</th>\n",
       "      <th>holidays_prior_scale</th>\n",
       "      <th>seasonality_mode</th>\n",
       "      <th>input_mode</th>\n",
       "      <th>weekday_or_weekend</th>\n",
       "      <th>...</th>\n",
       "      <th>anomaly_2021</th>\n",
       "      <th>generic_cost_split</th>\n",
       "      <th>competitor_cost_split</th>\n",
       "      <th>new_confirmed</th>\n",
       "      <th>power</th>\n",
       "      <th>growth</th>\n",
       "      <th>MAPE</th>\n",
       "      <th>period_AE</th>\n",
       "      <th>periods</th>\n",
       "      <th>cutoff_month</th>\n",
       "    </tr>\n",
       "  </thead>\n",
       "  <tbody>\n",
       "    <tr>\n",
       "      <th>0</th>\n",
       "      <td>UK</td>\n",
       "      <td>Desktop</td>\n",
       "      <td>-</td>\n",
       "      <td>183</td>\n",
       "      <td>0.1</td>\n",
       "      <td>1.0</td>\n",
       "      <td>1.0</td>\n",
       "      <td>multiplicative</td>\n",
       "      <td>multiplicative</td>\n",
       "      <td>multiplicative</td>\n",
       "      <td>...</td>\n",
       "      <td>na</td>\n",
       "      <td>na</td>\n",
       "      <td>na</td>\n",
       "      <td>na</td>\n",
       "      <td>na</td>\n",
       "      <td>linear</td>\n",
       "      <td>13.72</td>\n",
       "      <td>3.89</td>\n",
       "      <td>251.0</td>\n",
       "      <td>2024-04-25</td>\n",
       "    </tr>\n",
       "    <tr>\n",
       "      <th>1</th>\n",
       "      <td>UK</td>\n",
       "      <td>Mobile &amp; Tablet</td>\n",
       "      <td>-</td>\n",
       "      <td>183</td>\n",
       "      <td>0.1</td>\n",
       "      <td>10.0</td>\n",
       "      <td>10.0</td>\n",
       "      <td>multiplicative</td>\n",
       "      <td>multiplicative</td>\n",
       "      <td>multiplicative</td>\n",
       "      <td>...</td>\n",
       "      <td>na</td>\n",
       "      <td>na</td>\n",
       "      <td>na</td>\n",
       "      <td>na</td>\n",
       "      <td>na</td>\n",
       "      <td>linear</td>\n",
       "      <td>22.23</td>\n",
       "      <td>22.77</td>\n",
       "      <td>251.0</td>\n",
       "      <td>2024-04-25</td>\n",
       "    </tr>\n",
       "  </tbody>\n",
       "</table>\n",
       "<p>2 rows × 23 columns</p>\n",
       "</div>"
      ],
      "text/plain": [
       "  market     account_type funnel  periods_for_acc_cal  \\\n",
       "0     UK          Desktop      -                  183   \n",
       "1     UK  Mobile & Tablet      -                  183   \n",
       "\n",
       "   changepoint_prior_scale  seasonality_prior_scale  holidays_prior_scale  \\\n",
       "0                      0.1                      1.0                   1.0   \n",
       "1                      0.1                     10.0                  10.0   \n",
       "\n",
       "  seasonality_mode      input_mode weekday_or_weekend  ... anomaly_2021  \\\n",
       "0   multiplicative  multiplicative     multiplicative  ...           na   \n",
       "1   multiplicative  multiplicative     multiplicative  ...           na   \n",
       "\n",
       "  generic_cost_split competitor_cost_split new_confirmed power  growth   MAPE  \\\n",
       "0                 na                    na            na    na  linear  13.72   \n",
       "1                 na                    na            na    na  linear  22.23   \n",
       "\n",
       "  period_AE periods  cutoff_month  \n",
       "0      3.89   251.0    2024-04-25  \n",
       "1     22.77   251.0    2024-04-25  \n",
       "\n",
       "[2 rows x 23 columns]"
      ]
     },
     "execution_count": 25,
     "metadata": {},
     "output_type": "execute_result"
    }
   ],
   "source": [
    "cuts_df"
   ]
  },
  {
   "cell_type": "code",
   "execution_count": 29,
   "id": "9ca87871-be50-405e-8d54-c4cb03085bda",
   "metadata": {},
   "outputs": [],
   "source": [
    "# # cuts_df.loc[5, 'growth'] = 'linear'\n",
    "# for i in cuts_df.itertuples():\n",
    "#     pass\n",
    "\n",
    "# import pickle\n",
    "# from repo.Accuracy import MakeFuture\n",
    "# file_name = \"UK Mobile & Tablet -.pkl\"\n",
    "# pickle_file_path = base_path + file_name\n",
    "# pickle_in = open(pickle_file_path,'rb') \n",
    "# # unpickled model is the model to use, training_dataset is used to get historical spend\n",
    "# unpickled_model, training_dataset, model_df = pickle.load(pickle_in)\n",
    "\n",
    "# analytical_file_copy = analytical_file_df.copy()\n",
    "# market = 'UK'\n",
    "# account_type = 'Mobile & Tablet'\n",
    "# funnel = '-'\n",
    "\n",
    "# spend_df_for_forecast = analytical_file_copy[(analytical_file_copy['market'] == market) & (analytical_file_copy['account_type'] == account_type) & \\\n",
    "#                                              (analytical_file_copy['funnel'] == funnel)].copy()\n",
    "# spend_df_for_forecast['ds'] = pd.to_datetime(spend_df_for_forecast.ds)\n",
    "\n",
    "# future = MakeFuture(unpickled_model, training_dataset, i, 183, spend_df_for_forecast)\n",
    "# # print(training_dataset.ds.max(), i)\n",
    "# forecast = unpickled_model.predict(future)\n",
    "# unpickled_model.plot_components(forecast)\n",
    "\n",
    "# from prophet.plot import plot_plotly, plot_components_plotly\n",
    "\n",
    "# plot_plotly(unpickled_model, forecast)"
   ]
  },
  {
   "cell_type": "code",
   "execution_count": null,
   "id": "46624486-5fb9-449e-8518-f3cc00f59472",
   "metadata": {},
   "outputs": [],
   "source": []
  }
 ],
 "metadata": {
  "environment": {
   "kernel": "conda-base-py",
   "name": "workbench-notebooks.m120",
   "type": "gcloud",
   "uri": "us-docker.pkg.dev/deeplearning-platform-release/gcr.io/workbench-notebooks:m120"
  },
  "kernelspec": {
   "display_name": "Python 3 (ipykernel) (Local)",
   "language": "python",
   "name": "conda-base-py"
  },
  "language_info": {
   "codemirror_mode": {
    "name": "ipython",
    "version": 3
   },
   "file_extension": ".py",
   "mimetype": "text/x-python",
   "name": "python",
   "nbconvert_exporter": "python",
   "pygments_lexer": "ipython3",
   "version": "3.10.14"
  }
 },
 "nbformat": 4,
 "nbformat_minor": 5
}
