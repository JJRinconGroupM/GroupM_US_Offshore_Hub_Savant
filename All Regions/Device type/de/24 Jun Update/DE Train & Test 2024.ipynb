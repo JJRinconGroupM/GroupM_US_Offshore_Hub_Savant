{
 "cells": [
  {
   "cell_type": "code",
   "execution_count": 20,
   "id": "81439665",
   "metadata": {},
   "outputs": [],
   "source": [
    "import sys\n",
    "sys.path.append(str('/home/jupyter/'))\n",
    "from configparser import ConfigParser\n",
    "\n",
    "from repo.MyConfigParser import MyConfigParser\n",
    "\n",
    "from repo.LoadData import DataLoader\n",
    "from repo.BuildModel import GenerateModelFile, CreateModel\n",
    "from repo.Accuracy import AccuracyCalculator, ProphetParameterSearch, PlotAccuracyCharts\n",
    "from repo.FileGenerator import *"
   ]
  },
  {
   "cell_type": "code",
   "execution_count": 21,
   "id": "30322320",
   "metadata": {
    "tags": []
   },
   "outputs": [
    {
     "name": "stdout",
     "output_type": "stream",
     "text": [
      "06.06.2024\n"
     ]
    }
   ],
   "source": [
    "updated_config = ConfigParser()\n",
    "config_in_path = \"/home/jupyter/DE/Jun 2024/config ups de.ini\"\n",
    "updated_config.read(config_in_path)\n",
    "\n",
    "getdict = MyConfigParser()\n",
    "config_dict=getdict.GetDict(updated_config)\n",
    "region = config_dict['CLIENTINFO']['country']\n",
    "cutoff_month = config_dict['PROPHETSETTING']['cut_off_point']\n",
    "base_start = config_dict['PROPHETSETTING']['reference_start_date1']\n",
    "base_end = config_dict['PROPHETSETTING']['reference_end_date1']\n",
    "periods = config_dict['PROPHETSETTING']['periods']\n",
    "base_periods  = config_dict['PROPHETSETTING']['base_periods']\n",
    "\n",
    "training_query = config_dict[\"PROPHETSETTING\"][\"training_query\"]\n",
    "_input = config_dict[\"PROPHETSETTING\"][\"input\"]\n",
    "_output = config_dict[\"PROPHETSETTING\"][\"output\"]\n",
    "\n",
    "output_bucket = config_dict[\"FILEPATH\"][\"output_bucket\"]\n",
    "folder_name = config_dict[\"FILEPATH\"][\"folder_name\"]\n",
    "\n",
    "\n",
    "today = datetime.date.today().strftime(\"%m.%d.%Y\") #'03.10.2023' #\n",
    "print(today)\n",
    "base_path = config_dict[\"FILEPATH\"][\"base_path\"]\n",
    "\n",
    "boundary_df_in_path = base_path + config_dict[\"FILEPATH\"][\"boundary_df_in_path\"]\n",
    "daily_df_out_path = base_path + config_dict[\"FILEPATH\"][\"daily_df_out_path\"]\n",
    "analytical_file_path = base_path + config_dict[\"FILEPATH\"][\"analytical_file_path\"]\n",
    "cuts_df_in_path = base_path + config_dict[\"FILEPATH\"][\"cuts_df_in_path\"]\n",
    "plot_name = base_path + config_dict[\"FILEPATH\"][\"plot_name\"]\n",
    "constraint_file_name = base_path + config_dict[\"FILEPATH\"][\"constraint_file_name\"]"
   ]
  },
  {
   "cell_type": "code",
   "execution_count": 4,
   "id": "e0f97d3d-8027-448d-a40f-4bed644165e6",
   "metadata": {},
   "outputs": [
    {
     "name": "stderr",
     "output_type": "stream",
     "text": [
      "/home/jupyter/repo/QueryingData.py:34: FutureWarning: DataFrame.fillna with 'method' is deprecated and will raise in a future version. Use obj.ffill() or obj.bfill() instead.\n",
      "  search_df.fillna(method = 'ffill', inplace = True)\n"
     ]
    }
   ],
   "source": [
    "daily_df = GetBQData(config_dict[\"PROPHETSETTING\"][\"training_query\"], config_dict[\"PROPHETSETTING\"][\"input\"], config_dict[\"PROPHETSETTING\"][\"output\"])"
   ]
  },
  {
   "cell_type": "code",
   "execution_count": 5,
   "id": "38579596-177b-4de0-8bbe-5febb358d3f5",
   "metadata": {},
   "outputs": [],
   "source": [
    "df = daily_df.copy()\n",
    "df = df.groupby(['market', 'account_type', 'funnel', 'ds']).sum().reset_index()\n",
    "\n",
    "# log Transformation\n",
    "# df['cost'] = np.log(df['cost'])\n",
    "# df.loc[(df['cost'] < 0) | (np.isinf(df['cost'])), 'cost'] = 0\n",
    "\n",
    "df.ds = pd.to_datetime(df.ds)\n",
    "df = df[~df[['ds', 'y']].isin([np.nan, np.inf, -np.inf]).any(axis=1)]\n",
    "\n",
    "#Combine Tablet and desktop together \n",
    "#For November data, use the daily average for that year to fill the missing data"
   ]
  },
  {
   "cell_type": "code",
   "execution_count": 6,
   "id": "13cc96c7-1f42-416d-994d-db7e26eac96a",
   "metadata": {},
   "outputs": [],
   "source": [
    "df['ds'] = pd.to_datetime(df['ds'])"
   ]
  },
  {
   "cell_type": "code",
   "execution_count": 7,
   "id": "d0a23c11-282c-49fd-b729-0c882a21628a",
   "metadata": {},
   "outputs": [
    {
     "name": "stderr",
     "output_type": "stream",
     "text": [
      "/var/tmp/ipykernel_23078/3324172875.py:29: FutureWarning: DataFrame.fillna with 'method' is deprecated and will raise in a future version. Use obj.ffill() or obj.bfill() instead.\n",
      "  filled_november_df[['region', 'market', 'funnel']] = df_2022_account_type[['region', 'market', 'funnel']].fillna(method='ffill').iloc[-1]\n",
      "/var/tmp/ipykernel_23078/3324172875.py:29: FutureWarning: Series.__getitem__ treating keys as positions is deprecated. In a future version, integer keys will always be treated as labels (consistent with DataFrame behavior). To access a value by position, use `ser.iloc[pos]`\n",
      "  filled_november_df[['region', 'market', 'funnel']] = df_2022_account_type[['region', 'market', 'funnel']].fillna(method='ffill').iloc[-1]\n",
      "/var/tmp/ipykernel_23078/3324172875.py:29: FutureWarning: Series.__getitem__ treating keys as positions is deprecated. In a future version, integer keys will always be treated as labels (consistent with DataFrame behavior). To access a value by position, use `ser.iloc[pos]`\n",
      "  filled_november_df[['region', 'market', 'funnel']] = df_2022_account_type[['region', 'market', 'funnel']].fillna(method='ffill').iloc[-1]\n",
      "/var/tmp/ipykernel_23078/3324172875.py:29: FutureWarning: Series.__getitem__ treating keys as positions is deprecated. In a future version, integer keys will always be treated as labels (consistent with DataFrame behavior). To access a value by position, use `ser.iloc[pos]`\n",
      "  filled_november_df[['region', 'market', 'funnel']] = df_2022_account_type[['region', 'market', 'funnel']].fillna(method='ffill').iloc[-1]\n",
      "/var/tmp/ipykernel_23078/3324172875.py:29: FutureWarning: DataFrame.fillna with 'method' is deprecated and will raise in a future version. Use obj.ffill() or obj.bfill() instead.\n",
      "  filled_november_df[['region', 'market', 'funnel']] = df_2022_account_type[['region', 'market', 'funnel']].fillna(method='ffill').iloc[-1]\n",
      "/var/tmp/ipykernel_23078/3324172875.py:29: FutureWarning: Series.__getitem__ treating keys as positions is deprecated. In a future version, integer keys will always be treated as labels (consistent with DataFrame behavior). To access a value by position, use `ser.iloc[pos]`\n",
      "  filled_november_df[['region', 'market', 'funnel']] = df_2022_account_type[['region', 'market', 'funnel']].fillna(method='ffill').iloc[-1]\n",
      "/var/tmp/ipykernel_23078/3324172875.py:29: FutureWarning: Series.__getitem__ treating keys as positions is deprecated. In a future version, integer keys will always be treated as labels (consistent with DataFrame behavior). To access a value by position, use `ser.iloc[pos]`\n",
      "  filled_november_df[['region', 'market', 'funnel']] = df_2022_account_type[['region', 'market', 'funnel']].fillna(method='ffill').iloc[-1]\n",
      "/var/tmp/ipykernel_23078/3324172875.py:29: FutureWarning: Series.__getitem__ treating keys as positions is deprecated. In a future version, integer keys will always be treated as labels (consistent with DataFrame behavior). To access a value by position, use `ser.iloc[pos]`\n",
      "  filled_november_df[['region', 'market', 'funnel']] = df_2022_account_type[['region', 'market', 'funnel']].fillna(method='ffill').iloc[-1]\n"
     ]
    }
   ],
   "source": [
    "# Filter the data for the year 2022\n",
    "df_2022 = df[df['ds'].dt.year == 2022]\n",
    "\n",
    "# Get the unique account types\n",
    "account_types = df['account_type'].unique()\n",
    "\n",
    "# Initialize an empty dataframe to store the filled November data\n",
    "filled_november_data = pd.DataFrame()\n",
    "\n",
    "# Loop through the unique account types\n",
    "for account_type in account_types:\n",
    "    # Filter the data for the current account type\n",
    "    df_2022_account_type = df_2022[df_2022['account_type'] == account_type]\n",
    "\n",
    "    # Group the data by day of the month and calculate the mean for X and y columns\n",
    "    daily_avg_2022 = df_2022_account_type.groupby(df_2022_account_type['ds'].dt.day)[['X', 'y']].mean()\n",
    "\n",
    "    # Create a new dataframe for November 2022 with date range from 1st to 30th\n",
    "    november_2022 = pd.date_range(start='2022-11-01', end='2022-11-30', freq='D')\n",
    "    november_df = pd.DataFrame(november_2022, columns=['ds'])\n",
    "\n",
    "    # Merge the daily averages with the November dataframe\n",
    "    filled_november_df = november_df.merge(daily_avg_2022, left_on=november_df['ds'].dt.day, right_index=True)\n",
    "\n",
    "    # Update the 'ds' column with the correct dates for November 2022\n",
    "    filled_november_df['ds'] = november_2022\n",
    "\n",
    "    # Forward-fill the missing values in region, market, funnel, and account_type columns\n",
    "    filled_november_df[['region', 'market', 'funnel']] = df_2022_account_type[['region', 'market', 'funnel']].fillna(method='ffill').iloc[-1]\n",
    "    filled_november_df['account_type'] = account_type\n",
    "\n",
    "    # Append the filled November data for the current account type to the filled_november_data dataframe\n",
    "    filled_november_data = pd.concat([filled_november_data, filled_november_df], ignore_index=True)\n",
    "\n",
    "# Append the filled November data to the original dataframe\n",
    "df_filled = pd.concat([df, filled_november_data], ignore_index=True)"
   ]
  },
  {
   "cell_type": "code",
   "execution_count": 7,
   "id": "5b6076f6-ea4f-4129-9ab3-33be8e8e8d25",
   "metadata": {},
   "outputs": [],
   "source": [
    "df_filled.to_csv('filled_nov.csv')"
   ]
  },
  {
   "cell_type": "code",
   "execution_count": 8,
   "id": "97479623-5bf7-49f5-9ca6-31bbc219bda3",
   "metadata": {},
   "outputs": [],
   "source": [
    "#missing_data_df = pd.DataFrame(missing_data)\n",
    "#df = pd.concat([df, missing_data_df], ignore_index=True)"
   ]
  },
  {
   "cell_type": "code",
   "execution_count": 8,
   "id": "549cac2a-af3e-4b0a-ad67-7bcaaf0befc6",
   "metadata": {},
   "outputs": [],
   "source": [
    "df_filled['weekday_or_weekend'] = df_filled['ds'].apply(lambda x: 1 if x.dayofweek > 4 else 0)\n",
    "\n",
    "# set cap and floor for log regression\n",
    "df_filled['Month of Ds'] = df_filled['ds'].dt.month_name()\n",
    "\n",
    "df_filled['floor'] = 0\n",
    "\n",
    "boundary_df = pd.read_csv(base_path + 'DE Floor Cap Setting Feb 2024.csv')\n",
    "boundary_df.rename(columns = {'Account Type': 'account_type', 'Funnel':'funnel'}, inplace = True)\n",
    "boundary_df.drop(['Market'], axis = 1, inplace = True)\n",
    "\n",
    "df_filled = pd.merge(df_filled, boundary_df, on = ['account_type', 'funnel'])\n",
    "df_filled['cap'] = df_filled.ROAS * df_filled.X / df_filled.AOV\n",
    "df_filled.loc[df_filled.cap == 0, 'cap'] = df_filled.cap.max()\n",
    "\n",
    "df_filled.to_csv(f'Daily Data {today}.csv')"
   ]
  },
  {
   "cell_type": "code",
   "execution_count": 10,
   "id": "27a78aaf-567f-48ad-bba1-bf6a3edfaba0",
   "metadata": {},
   "outputs": [],
   "source": [
    "df_filled.to_csv(base_path + 'df_filled.csv')"
   ]
  },
  {
   "cell_type": "markdown",
   "id": "bb568449-a925-49ec-b03f-97660beb67a5",
   "metadata": {},
   "source": [
    "# Analytical File Generator\n"
   ]
  },
  {
   "cell_type": "code",
   "execution_count": 9,
   "id": "1808a933",
   "metadata": {},
   "outputs": [
    {
     "name": "stderr",
     "output_type": "stream",
     "text": [
      "/home/jupyter/repo/QueryingData.py:34: FutureWarning: DataFrame.fillna with 'method' is deprecated and will raise in a future version. Use obj.ffill() or obj.bfill() instead.\n",
      "  search_df.fillna(method = 'ffill', inplace = True)\n"
     ]
    }
   ],
   "source": [
    "generator = AnalyticalFileGenerator(config_dict)\n",
    "analytical_file_df = generator.generate()\n",
    "analytical_file_df = pd.merge(analytical_file_df, boundary_df, on = ['account_type', 'funnel']) # merge with boundary_df to filter data to only have the splits needed\n",
    "analytical_file_df.to_csv(analytical_file_path)\n",
    "# generator.SaveFile(analytical_file_name, folder_name) # X is input value which should be the sum of all variable splits"
   ]
  },
  {
   "cell_type": "code",
   "execution_count": 15,
   "id": "15bde631-43ff-4936-8868-1de8f69dd48d",
   "metadata": {},
   "outputs": [],
   "source": [
    "cuts_df = pd.read_csv(base_path + region + ' Breakdown 1_30.csv')\n",
    "cuts_df['periods'] = periods\n",
    "cuts_df['periods_for_acc_cal'] = 183\n",
    "cuts_df['cutoff_month'] = cutoff_month\n",
    "# cuts_df.account_type = 'unified'\n",
    "cuts_df.loc[cuts_df['account_type'] == 'Desktop', 'input_mode'] = 'additive'\n",
    "cuts_df.loc[cuts_df['account_type'] == 'Mobile & Tablet', 'input_mode'] = 'multiplicative'\n",
    "\n",
    "query_item_list = [query_item for query_item in [config_dict[\"CLIENTINFO\"][\"breakdown1\"], \\\n",
    "                             config_dict[\"CLIENTINFO\"][\"breakdown2\"], \\\n",
    "                             config_dict[\"CLIENTINFO\"][\"breakdown3\"], \\\n",
    "                             config_dict[\"CLIENTINFO\"][\"breakdown4\"]]\n",
    "                             if query_item != None]"
   ]
  },
  {
   "cell_type": "markdown",
   "id": "c0705169",
   "metadata": {},
   "source": [
    "# Accuracy Calculator"
   ]
  },
  {
   "cell_type": "markdown",
   "id": "c2018159-3cec-4e88-9683-a4072962b20a",
   "metadata": {},
   "source": [
    "generic_df = pd.read_csv(\"record_df 2023-08-16 18:16:20 best result.csv\")\n",
    "generic_df"
   ]
  },
  {
   "cell_type": "code",
   "execution_count": 16,
   "id": "914727bf",
   "metadata": {
    "tags": []
   },
   "outputs": [
    {
     "name": "stderr",
     "output_type": "stream",
     "text": [
      "15:47:30 - cmdstanpy - INFO - Chain [1] start processing\n",
      "15:47:30 - cmdstanpy - INFO - Chain [1] done processing\n",
      "/home/jupyter/repo/Accuracy.py:268: FutureWarning: The behavior of DataFrame concatenation with empty or all-NA entries is deprecated. In a future version, this will no longer exclude empty or all-NA columns when determining the result dtypes. To retain the old behavior, exclude the relevant entries before the concat operation.\n",
      "  self.monthly_acc_df_temp = pd.concat([self.monthly_acc_df_temp, monthly_acc_df], ignore_index=True)\n",
      "15:47:31 - cmdstanpy - INFO - Chain [1] start processing\n",
      "15:47:31 - cmdstanpy - INFO - Chain [1] done processing\n"
     ]
    },
    {
     "name": "stdout",
     "output_type": "stream",
     "text": [
      "It's underpredicted.\n",
      "Monthly Error: 11.92 Period MAE: 12.540000000000001\n",
      "It's underpredicted.\n",
      "Monthly Error: 50.59 Period MAE: 52.01\n",
      "Data Frame file saved\n"
     ]
    }
   ],
   "source": [
    "# %load_ext autoreload\n",
    "# %autoreload 2\n",
    "\n",
    "calculator = AccuracyCalculator()\n",
    "accuracy_df = calculator.CalculateAccuracy(cuts_df, df_filled, query_item_list)\n",
    "# calculator.SaveFile()\n",
    "calculator.SaveFile(output_bucket, folder_name, 'Accuracy.csv')"
   ]
  },
  {
   "cell_type": "code",
   "execution_count": 17,
   "id": "30b4d7b9-f202-4563-a6a3-feec5729d62e",
   "metadata": {},
   "outputs": [],
   "source": [
    "accuracy_df.to_csv(base_path + 'test_Acc_feb.csv')"
   ]
  },
  {
   "cell_type": "code",
   "execution_count": 18,
   "id": "6e9a33d2",
   "metadata": {},
   "outputs": [
    {
     "data": {
      "text/html": [
       "<div>\n",
       "<style scoped>\n",
       "    .dataframe tbody tr th:only-of-type {\n",
       "        vertical-align: middle;\n",
       "    }\n",
       "\n",
       "    .dataframe tbody tr th {\n",
       "        vertical-align: top;\n",
       "    }\n",
       "\n",
       "    .dataframe thead th {\n",
       "        text-align: right;\n",
       "    }\n",
       "</style>\n",
       "<table border=\"1\" class=\"dataframe\">\n",
       "  <thead>\n",
       "    <tr style=\"text-align: right;\">\n",
       "      <th></th>\n",
       "      <th>Actual</th>\n",
       "      <th>Forecast</th>\n",
       "      <th>Percentage Error</th>\n",
       "      <th>MAPE</th>\n",
       "      <th>Forecast Period MAE</th>\n",
       "    </tr>\n",
       "    <tr>\n",
       "      <th>account_type</th>\n",
       "      <th></th>\n",
       "      <th></th>\n",
       "      <th></th>\n",
       "      <th></th>\n",
       "      <th></th>\n",
       "    </tr>\n",
       "  </thead>\n",
       "  <tbody>\n",
       "    <tr>\n",
       "      <th>Desktop</th>\n",
       "      <td>-31261.714286</td>\n",
       "      <td>-27328.110000</td>\n",
       "      <td>89.668571</td>\n",
       "      <td>88.08</td>\n",
       "      <td>87.46</td>\n",
       "    </tr>\n",
       "    <tr>\n",
       "      <th>Mobile &amp; Tablet</th>\n",
       "      <td>-318.142857</td>\n",
       "      <td>-100.685714</td>\n",
       "      <td>49.410000</td>\n",
       "      <td>49.41</td>\n",
       "      <td>47.99</td>\n",
       "    </tr>\n",
       "  </tbody>\n",
       "</table>\n",
       "</div>"
      ],
      "text/plain": [
       "                       Actual      Forecast  Percentage Error   MAPE  \\\n",
       "account_type                                                           \n",
       "Desktop         -31261.714286 -27328.110000         89.668571  88.08   \n",
       "Mobile & Tablet   -318.142857   -100.685714         49.410000  49.41   \n",
       "\n",
       "                 Forecast Period MAE  \n",
       "account_type                          \n",
       "Desktop                        87.46  \n",
       "Mobile & Tablet                47.99  "
      ]
     },
     "execution_count": 18,
     "metadata": {},
     "output_type": "execute_result"
    }
   ],
   "source": [
    "# This is to convert error metrics to accuracy. Note the column names won't change\n",
    "100-accuracy_df.groupby(['account_type']).mean(numeric_only=1)"
   ]
  },
  {
   "cell_type": "code",
   "execution_count": 19,
   "id": "eb5f54e3-fb21-473d-80e2-e6e6512d2e57",
   "metadata": {},
   "outputs": [
    {
     "data": {
      "text/html": [
       "<div>\n",
       "<style scoped>\n",
       "    .dataframe tbody tr th:only-of-type {\n",
       "        vertical-align: middle;\n",
       "    }\n",
       "\n",
       "    .dataframe tbody tr th {\n",
       "        vertical-align: top;\n",
       "    }\n",
       "\n",
       "    .dataframe thead th {\n",
       "        text-align: right;\n",
       "    }\n",
       "</style>\n",
       "<table border=\"1\" class=\"dataframe\">\n",
       "  <thead>\n",
       "    <tr style=\"text-align: right;\">\n",
       "      <th></th>\n",
       "      <th>Actual</th>\n",
       "      <th>Forecast</th>\n",
       "      <th>Percentage Error</th>\n",
       "      <th>MAPE</th>\n",
       "      <th>Forecast Period MAE</th>\n",
       "    </tr>\n",
       "    <tr>\n",
       "      <th>market</th>\n",
       "      <th></th>\n",
       "      <th></th>\n",
       "      <th></th>\n",
       "      <th></th>\n",
       "      <th></th>\n",
       "    </tr>\n",
       "  </thead>\n",
       "  <tbody>\n",
       "    <tr>\n",
       "      <th>Germany</th>\n",
       "      <td>-15789.928571</td>\n",
       "      <td>-13714.397857</td>\n",
       "      <td>69.539286</td>\n",
       "      <td>68.745</td>\n",
       "      <td>67.725</td>\n",
       "    </tr>\n",
       "  </tbody>\n",
       "</table>\n",
       "</div>"
      ],
      "text/plain": [
       "               Actual      Forecast  Percentage Error    MAPE  \\\n",
       "market                                                          \n",
       "Germany -15789.928571 -13714.397857         69.539286  68.745   \n",
       "\n",
       "         Forecast Period MAE  \n",
       "market                        \n",
       "Germany               67.725  "
      ]
     },
     "execution_count": 19,
     "metadata": {},
     "output_type": "execute_result"
    }
   ],
   "source": [
    "100-accuracy_df.groupby(['market']).mean(numeric_only=1)"
   ]
  },
  {
   "cell_type": "code",
   "execution_count": 56,
   "id": "fd10886a-45dd-4533-bdde-7ba9c952bfba",
   "metadata": {},
   "outputs": [
    {
     "data": {
      "text/html": [
       "<div>\n",
       "<style scoped>\n",
       "    .dataframe tbody tr th:only-of-type {\n",
       "        vertical-align: middle;\n",
       "    }\n",
       "\n",
       "    .dataframe tbody tr th {\n",
       "        vertical-align: top;\n",
       "    }\n",
       "\n",
       "    .dataframe thead th {\n",
       "        text-align: right;\n",
       "    }\n",
       "</style>\n",
       "<table border=\"1\" class=\"dataframe\">\n",
       "  <thead>\n",
       "    <tr style=\"text-align: right;\">\n",
       "      <th></th>\n",
       "      <th>market</th>\n",
       "      <th>account_type</th>\n",
       "      <th>funnel</th>\n",
       "      <th>periods_for_acc_cal</th>\n",
       "      <th>changepoint_prior_scale</th>\n",
       "      <th>seasonality_prior_scale</th>\n",
       "      <th>holidays_prior_scale</th>\n",
       "      <th>seasonality_mode</th>\n",
       "      <th>input_mode</th>\n",
       "      <th>weekday_or_weekend</th>\n",
       "      <th>...</th>\n",
       "      <th>anomaly_2021</th>\n",
       "      <th>generic_cost_split</th>\n",
       "      <th>competitor_cost_split</th>\n",
       "      <th>new_confirmed</th>\n",
       "      <th>power</th>\n",
       "      <th>growth</th>\n",
       "      <th>MAPE</th>\n",
       "      <th>period_AE</th>\n",
       "      <th>periods</th>\n",
       "      <th>cutoff_month</th>\n",
       "    </tr>\n",
       "  </thead>\n",
       "  <tbody>\n",
       "    <tr>\n",
       "      <th>1</th>\n",
       "      <td>Germany</td>\n",
       "      <td>Mobile &amp; Tablet</td>\n",
       "      <td>-</td>\n",
       "      <td>183</td>\n",
       "      <td>0.05</td>\n",
       "      <td>1.0</td>\n",
       "      <td>0.01</td>\n",
       "      <td>additive</td>\n",
       "      <td>multiplicative</td>\n",
       "      <td>multiplicative</td>\n",
       "      <td>...</td>\n",
       "      <td>na</td>\n",
       "      <td>na</td>\n",
       "      <td>na</td>\n",
       "      <td>na</td>\n",
       "      <td>na</td>\n",
       "      <td>linear</td>\n",
       "      <td>36.97</td>\n",
       "      <td>0.86</td>\n",
       "      <td>251.0</td>\n",
       "      <td>2024-04-25</td>\n",
       "    </tr>\n",
       "  </tbody>\n",
       "</table>\n",
       "<p>1 rows × 23 columns</p>\n",
       "</div>"
      ],
      "text/plain": [
       "    market     account_type funnel  periods_for_acc_cal  \\\n",
       "1  Germany  Mobile & Tablet      -                  183   \n",
       "\n",
       "   changepoint_prior_scale  seasonality_prior_scale  holidays_prior_scale  \\\n",
       "1                     0.05                      1.0                  0.01   \n",
       "\n",
       "  seasonality_mode      input_mode weekday_or_weekend  ... anomaly_2021  \\\n",
       "1         additive  multiplicative     multiplicative  ...           na   \n",
       "\n",
       "  generic_cost_split competitor_cost_split new_confirmed power  growth   MAPE  \\\n",
       "1                 na                    na            na    na  linear  36.97   \n",
       "\n",
       "  period_AE periods  cutoff_month  \n",
       "1      0.86   251.0    2024-04-25  \n",
       "\n",
       "[1 rows x 23 columns]"
      ]
     },
     "execution_count": 56,
     "metadata": {},
     "output_type": "execute_result"
    }
   ],
   "source": [
    "param_grid = {\n",
    "    'changepoint_prior_scale': [ 0.1, 0.05],   # 0.001\n",
    "    'seasonality_prior_scale': [10.0, 1.0, 0.1],  # 0.01\n",
    "    'holidays_prior_scale': [10.0, 1.0,  0.1], # 0.01\n",
    "    'seasonality_mode': ['additive','multiplicative'], #'multiplicative'\n",
    "    'input_mode': ['additive','multiplicative'],  #,'multiplicative'\n",
    "    'weekday_or_weekend':['na', 'additive','multiplicative'],  #, 'multiplicative'\n",
    "    'include_holiday': ['na','Default'], #'Default', 'custom'\n",
    "    'covid_year_exclude':['na'],\n",
    "    'covid_year_dummy':['na'],#, 'additive', 'multiplicative'],\n",
    "    'anomaly_2021':['na'],#, 'additive', 'multiplicative'],\n",
    "    'generic_cost_split':['na'],#, 'additive', 'multiplicative'\n",
    "    'competitor_cost_split':['na'], #, 'additive', 'multiplicative'\n",
    "    'new_confirmed': ['na'],#, 'additive', 'multiplicative'\n",
    "            }\n",
    "\n",
    "cuts_df_mobile= cuts_df.loc[cuts_df['account_type'] == 'Mobile & Tablet'] \n",
    "\n",
    "cuts_df_desktop = cuts_df.loc[cuts_df['account_type'] == 'Desktop'] \n",
    "cuts_df_mobile"
   ]
  },
  {
   "cell_type": "markdown",
   "id": "45f486de-7678-4757-b866-7965908e7dea",
   "metadata": {
    "tags": []
   },
   "source": [
    "# Parallel Param Search"
   ]
  },
  {
   "cell_type": "code",
   "execution_count": 58,
   "id": "fca2c299-1dd7-44c6-aea0-b05073248886",
   "metadata": {
    "tags": []
   },
   "outputs": [
    {
     "name": "stdout",
     "output_type": "stream",
     "text": [
      "The autoreload extension is already loaded. To reload it, use:\n",
      "  %reload_ext autoreload\n"
     ]
    },
    {
     "name": "stderr",
     "output_type": "stream",
     "text": [
      "100%|██████████| 1/1 [07:39<00:00, 459.16s/it]\n"
     ]
    }
   ],
   "source": [
    "# %load_ext autoreload\n",
    "# %autoreload 2\n",
    "%load_ext autoreload\n",
    "%autoreload 2\n",
    "search_engine = ProphetParameterSearch(param_grid = param_grid,power_flag = False, base_path=base_path) # \n",
    "# search_engine.add_power_params() # consider using it when the basic setting won't get you good results\n",
    "grid_brand = search_engine.search(cuts_df_desktop, df_filled) #competitor and bing generic"
   ]
  },
  {
   "cell_type": "code",
   "execution_count": 29,
   "id": "5c0942ba-420f-44b3-8700-7c4de070c957",
   "metadata": {},
   "outputs": [
    {
     "ename": "FileNotFoundError",
     "evalue": "[Errno 2] No such file or directory: 'record_df 2024-05-16 14:48:58 best result.csv'",
     "output_type": "error",
     "traceback": [
      "\u001b[0;31m---------------------------------------------------------------------------\u001b[0m",
      "\u001b[0;31mFileNotFoundError\u001b[0m                         Traceback (most recent call last)",
      "Cell \u001b[0;32mIn[29], line 6\u001b[0m\n\u001b[1;32m      3\u001b[0m df_mobile \u001b[38;5;241m=\u001b[39m pd\u001b[38;5;241m.\u001b[39mread_csv(\u001b[38;5;124m'\u001b[39m\u001b[38;5;124mrecord_df 2024-05-16 14:48:58.csv\u001b[39m\u001b[38;5;124m'\u001b[39m)\n\u001b[1;32m      5\u001b[0m df_best_desktop \u001b[38;5;241m=\u001b[39m pd\u001b[38;5;241m.\u001b[39mread_csv(\u001b[38;5;124m'\u001b[39m\u001b[38;5;124mrecord_df 2024-05-16 14:11:37 best result.csv\u001b[39m\u001b[38;5;124m'\u001b[39m)\n\u001b[0;32m----> 6\u001b[0m df_best_mobile \u001b[38;5;241m=\u001b[39m \u001b[43mpd\u001b[49m\u001b[38;5;241;43m.\u001b[39;49m\u001b[43mread_csv\u001b[49m\u001b[43m(\u001b[49m\u001b[38;5;124;43m'\u001b[39;49m\u001b[38;5;124;43mrecord_df 2024-05-16 14:48:58 best result.csv\u001b[39;49m\u001b[38;5;124;43m'\u001b[39;49m\u001b[43m)\u001b[49m\n\u001b[1;32m      8\u001b[0m \u001b[38;5;66;03m# Append the second dataframe to the first one\u001b[39;00m\n\u001b[1;32m      9\u001b[0m \u001b[38;5;66;03m#combined_df = df_desktop.concat(df_mobile)\u001b[39;00m\n\u001b[1;32m     10\u001b[0m \u001b[38;5;66;03m#combined_best_df = df_best_desktop.concat(df_best_mobile)\u001b[39;00m\n\u001b[1;32m     11\u001b[0m combined_df \u001b[38;5;241m=\u001b[39m pd\u001b[38;5;241m.\u001b[39mconcat([df_desktop, df_mobile], ignore_index\u001b[38;5;241m=\u001b[39m\u001b[38;5;28;01mTrue\u001b[39;00m)\n",
      "File \u001b[0;32m/opt/conda/lib/python3.10/site-packages/pandas/io/parsers/readers.py:1024\u001b[0m, in \u001b[0;36mread_csv\u001b[0;34m(filepath_or_buffer, sep, delimiter, header, names, index_col, usecols, dtype, engine, converters, true_values, false_values, skipinitialspace, skiprows, skipfooter, nrows, na_values, keep_default_na, na_filter, verbose, skip_blank_lines, parse_dates, infer_datetime_format, keep_date_col, date_parser, date_format, dayfirst, cache_dates, iterator, chunksize, compression, thousands, decimal, lineterminator, quotechar, quoting, doublequote, escapechar, comment, encoding, encoding_errors, dialect, on_bad_lines, delim_whitespace, low_memory, memory_map, float_precision, storage_options, dtype_backend)\u001b[0m\n\u001b[1;32m   1011\u001b[0m kwds_defaults \u001b[38;5;241m=\u001b[39m _refine_defaults_read(\n\u001b[1;32m   1012\u001b[0m     dialect,\n\u001b[1;32m   1013\u001b[0m     delimiter,\n\u001b[0;32m   (...)\u001b[0m\n\u001b[1;32m   1020\u001b[0m     dtype_backend\u001b[38;5;241m=\u001b[39mdtype_backend,\n\u001b[1;32m   1021\u001b[0m )\n\u001b[1;32m   1022\u001b[0m kwds\u001b[38;5;241m.\u001b[39mupdate(kwds_defaults)\n\u001b[0;32m-> 1024\u001b[0m \u001b[38;5;28;01mreturn\u001b[39;00m \u001b[43m_read\u001b[49m\u001b[43m(\u001b[49m\u001b[43mfilepath_or_buffer\u001b[49m\u001b[43m,\u001b[49m\u001b[43m \u001b[49m\u001b[43mkwds\u001b[49m\u001b[43m)\u001b[49m\n",
      "File \u001b[0;32m/opt/conda/lib/python3.10/site-packages/pandas/io/parsers/readers.py:618\u001b[0m, in \u001b[0;36m_read\u001b[0;34m(filepath_or_buffer, kwds)\u001b[0m\n\u001b[1;32m    615\u001b[0m _validate_names(kwds\u001b[38;5;241m.\u001b[39mget(\u001b[38;5;124m\"\u001b[39m\u001b[38;5;124mnames\u001b[39m\u001b[38;5;124m\"\u001b[39m, \u001b[38;5;28;01mNone\u001b[39;00m))\n\u001b[1;32m    617\u001b[0m \u001b[38;5;66;03m# Create the parser.\u001b[39;00m\n\u001b[0;32m--> 618\u001b[0m parser \u001b[38;5;241m=\u001b[39m \u001b[43mTextFileReader\u001b[49m\u001b[43m(\u001b[49m\u001b[43mfilepath_or_buffer\u001b[49m\u001b[43m,\u001b[49m\u001b[43m \u001b[49m\u001b[38;5;241;43m*\u001b[39;49m\u001b[38;5;241;43m*\u001b[39;49m\u001b[43mkwds\u001b[49m\u001b[43m)\u001b[49m\n\u001b[1;32m    620\u001b[0m \u001b[38;5;28;01mif\u001b[39;00m chunksize \u001b[38;5;129;01mor\u001b[39;00m iterator:\n\u001b[1;32m    621\u001b[0m     \u001b[38;5;28;01mreturn\u001b[39;00m parser\n",
      "File \u001b[0;32m/opt/conda/lib/python3.10/site-packages/pandas/io/parsers/readers.py:1618\u001b[0m, in \u001b[0;36mTextFileReader.__init__\u001b[0;34m(self, f, engine, **kwds)\u001b[0m\n\u001b[1;32m   1615\u001b[0m     \u001b[38;5;28mself\u001b[39m\u001b[38;5;241m.\u001b[39moptions[\u001b[38;5;124m\"\u001b[39m\u001b[38;5;124mhas_index_names\u001b[39m\u001b[38;5;124m\"\u001b[39m] \u001b[38;5;241m=\u001b[39m kwds[\u001b[38;5;124m\"\u001b[39m\u001b[38;5;124mhas_index_names\u001b[39m\u001b[38;5;124m\"\u001b[39m]\n\u001b[1;32m   1617\u001b[0m \u001b[38;5;28mself\u001b[39m\u001b[38;5;241m.\u001b[39mhandles: IOHandles \u001b[38;5;241m|\u001b[39m \u001b[38;5;28;01mNone\u001b[39;00m \u001b[38;5;241m=\u001b[39m \u001b[38;5;28;01mNone\u001b[39;00m\n\u001b[0;32m-> 1618\u001b[0m \u001b[38;5;28mself\u001b[39m\u001b[38;5;241m.\u001b[39m_engine \u001b[38;5;241m=\u001b[39m \u001b[38;5;28;43mself\u001b[39;49m\u001b[38;5;241;43m.\u001b[39;49m\u001b[43m_make_engine\u001b[49m\u001b[43m(\u001b[49m\u001b[43mf\u001b[49m\u001b[43m,\u001b[49m\u001b[43m \u001b[49m\u001b[38;5;28;43mself\u001b[39;49m\u001b[38;5;241;43m.\u001b[39;49m\u001b[43mengine\u001b[49m\u001b[43m)\u001b[49m\n",
      "File \u001b[0;32m/opt/conda/lib/python3.10/site-packages/pandas/io/parsers/readers.py:1878\u001b[0m, in \u001b[0;36mTextFileReader._make_engine\u001b[0;34m(self, f, engine)\u001b[0m\n\u001b[1;32m   1876\u001b[0m     \u001b[38;5;28;01mif\u001b[39;00m \u001b[38;5;124m\"\u001b[39m\u001b[38;5;124mb\u001b[39m\u001b[38;5;124m\"\u001b[39m \u001b[38;5;129;01mnot\u001b[39;00m \u001b[38;5;129;01min\u001b[39;00m mode:\n\u001b[1;32m   1877\u001b[0m         mode \u001b[38;5;241m+\u001b[39m\u001b[38;5;241m=\u001b[39m \u001b[38;5;124m\"\u001b[39m\u001b[38;5;124mb\u001b[39m\u001b[38;5;124m\"\u001b[39m\n\u001b[0;32m-> 1878\u001b[0m \u001b[38;5;28mself\u001b[39m\u001b[38;5;241m.\u001b[39mhandles \u001b[38;5;241m=\u001b[39m \u001b[43mget_handle\u001b[49m\u001b[43m(\u001b[49m\n\u001b[1;32m   1879\u001b[0m \u001b[43m    \u001b[49m\u001b[43mf\u001b[49m\u001b[43m,\u001b[49m\n\u001b[1;32m   1880\u001b[0m \u001b[43m    \u001b[49m\u001b[43mmode\u001b[49m\u001b[43m,\u001b[49m\n\u001b[1;32m   1881\u001b[0m \u001b[43m    \u001b[49m\u001b[43mencoding\u001b[49m\u001b[38;5;241;43m=\u001b[39;49m\u001b[38;5;28;43mself\u001b[39;49m\u001b[38;5;241;43m.\u001b[39;49m\u001b[43moptions\u001b[49m\u001b[38;5;241;43m.\u001b[39;49m\u001b[43mget\u001b[49m\u001b[43m(\u001b[49m\u001b[38;5;124;43m\"\u001b[39;49m\u001b[38;5;124;43mencoding\u001b[39;49m\u001b[38;5;124;43m\"\u001b[39;49m\u001b[43m,\u001b[49m\u001b[43m \u001b[49m\u001b[38;5;28;43;01mNone\u001b[39;49;00m\u001b[43m)\u001b[49m\u001b[43m,\u001b[49m\n\u001b[1;32m   1882\u001b[0m \u001b[43m    \u001b[49m\u001b[43mcompression\u001b[49m\u001b[38;5;241;43m=\u001b[39;49m\u001b[38;5;28;43mself\u001b[39;49m\u001b[38;5;241;43m.\u001b[39;49m\u001b[43moptions\u001b[49m\u001b[38;5;241;43m.\u001b[39;49m\u001b[43mget\u001b[49m\u001b[43m(\u001b[49m\u001b[38;5;124;43m\"\u001b[39;49m\u001b[38;5;124;43mcompression\u001b[39;49m\u001b[38;5;124;43m\"\u001b[39;49m\u001b[43m,\u001b[49m\u001b[43m \u001b[49m\u001b[38;5;28;43;01mNone\u001b[39;49;00m\u001b[43m)\u001b[49m\u001b[43m,\u001b[49m\n\u001b[1;32m   1883\u001b[0m \u001b[43m    \u001b[49m\u001b[43mmemory_map\u001b[49m\u001b[38;5;241;43m=\u001b[39;49m\u001b[38;5;28;43mself\u001b[39;49m\u001b[38;5;241;43m.\u001b[39;49m\u001b[43moptions\u001b[49m\u001b[38;5;241;43m.\u001b[39;49m\u001b[43mget\u001b[49m\u001b[43m(\u001b[49m\u001b[38;5;124;43m\"\u001b[39;49m\u001b[38;5;124;43mmemory_map\u001b[39;49m\u001b[38;5;124;43m\"\u001b[39;49m\u001b[43m,\u001b[49m\u001b[43m \u001b[49m\u001b[38;5;28;43;01mFalse\u001b[39;49;00m\u001b[43m)\u001b[49m\u001b[43m,\u001b[49m\n\u001b[1;32m   1884\u001b[0m \u001b[43m    \u001b[49m\u001b[43mis_text\u001b[49m\u001b[38;5;241;43m=\u001b[39;49m\u001b[43mis_text\u001b[49m\u001b[43m,\u001b[49m\n\u001b[1;32m   1885\u001b[0m \u001b[43m    \u001b[49m\u001b[43merrors\u001b[49m\u001b[38;5;241;43m=\u001b[39;49m\u001b[38;5;28;43mself\u001b[39;49m\u001b[38;5;241;43m.\u001b[39;49m\u001b[43moptions\u001b[49m\u001b[38;5;241;43m.\u001b[39;49m\u001b[43mget\u001b[49m\u001b[43m(\u001b[49m\u001b[38;5;124;43m\"\u001b[39;49m\u001b[38;5;124;43mencoding_errors\u001b[39;49m\u001b[38;5;124;43m\"\u001b[39;49m\u001b[43m,\u001b[49m\u001b[43m \u001b[49m\u001b[38;5;124;43m\"\u001b[39;49m\u001b[38;5;124;43mstrict\u001b[39;49m\u001b[38;5;124;43m\"\u001b[39;49m\u001b[43m)\u001b[49m\u001b[43m,\u001b[49m\n\u001b[1;32m   1886\u001b[0m \u001b[43m    \u001b[49m\u001b[43mstorage_options\u001b[49m\u001b[38;5;241;43m=\u001b[39;49m\u001b[38;5;28;43mself\u001b[39;49m\u001b[38;5;241;43m.\u001b[39;49m\u001b[43moptions\u001b[49m\u001b[38;5;241;43m.\u001b[39;49m\u001b[43mget\u001b[49m\u001b[43m(\u001b[49m\u001b[38;5;124;43m\"\u001b[39;49m\u001b[38;5;124;43mstorage_options\u001b[39;49m\u001b[38;5;124;43m\"\u001b[39;49m\u001b[43m,\u001b[49m\u001b[43m \u001b[49m\u001b[38;5;28;43;01mNone\u001b[39;49;00m\u001b[43m)\u001b[49m\u001b[43m,\u001b[49m\n\u001b[1;32m   1887\u001b[0m \u001b[43m\u001b[49m\u001b[43m)\u001b[49m\n\u001b[1;32m   1888\u001b[0m \u001b[38;5;28;01massert\u001b[39;00m \u001b[38;5;28mself\u001b[39m\u001b[38;5;241m.\u001b[39mhandles \u001b[38;5;129;01mis\u001b[39;00m \u001b[38;5;129;01mnot\u001b[39;00m \u001b[38;5;28;01mNone\u001b[39;00m\n\u001b[1;32m   1889\u001b[0m f \u001b[38;5;241m=\u001b[39m \u001b[38;5;28mself\u001b[39m\u001b[38;5;241m.\u001b[39mhandles\u001b[38;5;241m.\u001b[39mhandle\n",
      "File \u001b[0;32m/opt/conda/lib/python3.10/site-packages/pandas/io/common.py:873\u001b[0m, in \u001b[0;36mget_handle\u001b[0;34m(path_or_buf, mode, encoding, compression, memory_map, is_text, errors, storage_options)\u001b[0m\n\u001b[1;32m    868\u001b[0m \u001b[38;5;28;01melif\u001b[39;00m \u001b[38;5;28misinstance\u001b[39m(handle, \u001b[38;5;28mstr\u001b[39m):\n\u001b[1;32m    869\u001b[0m     \u001b[38;5;66;03m# Check whether the filename is to be opened in binary mode.\u001b[39;00m\n\u001b[1;32m    870\u001b[0m     \u001b[38;5;66;03m# Binary mode does not support 'encoding' and 'newline'.\u001b[39;00m\n\u001b[1;32m    871\u001b[0m     \u001b[38;5;28;01mif\u001b[39;00m ioargs\u001b[38;5;241m.\u001b[39mencoding \u001b[38;5;129;01mand\u001b[39;00m \u001b[38;5;124m\"\u001b[39m\u001b[38;5;124mb\u001b[39m\u001b[38;5;124m\"\u001b[39m \u001b[38;5;129;01mnot\u001b[39;00m \u001b[38;5;129;01min\u001b[39;00m ioargs\u001b[38;5;241m.\u001b[39mmode:\n\u001b[1;32m    872\u001b[0m         \u001b[38;5;66;03m# Encoding\u001b[39;00m\n\u001b[0;32m--> 873\u001b[0m         handle \u001b[38;5;241m=\u001b[39m \u001b[38;5;28;43mopen\u001b[39;49m\u001b[43m(\u001b[49m\n\u001b[1;32m    874\u001b[0m \u001b[43m            \u001b[49m\u001b[43mhandle\u001b[49m\u001b[43m,\u001b[49m\n\u001b[1;32m    875\u001b[0m \u001b[43m            \u001b[49m\u001b[43mioargs\u001b[49m\u001b[38;5;241;43m.\u001b[39;49m\u001b[43mmode\u001b[49m\u001b[43m,\u001b[49m\n\u001b[1;32m    876\u001b[0m \u001b[43m            \u001b[49m\u001b[43mencoding\u001b[49m\u001b[38;5;241;43m=\u001b[39;49m\u001b[43mioargs\u001b[49m\u001b[38;5;241;43m.\u001b[39;49m\u001b[43mencoding\u001b[49m\u001b[43m,\u001b[49m\n\u001b[1;32m    877\u001b[0m \u001b[43m            \u001b[49m\u001b[43merrors\u001b[49m\u001b[38;5;241;43m=\u001b[39;49m\u001b[43merrors\u001b[49m\u001b[43m,\u001b[49m\n\u001b[1;32m    878\u001b[0m \u001b[43m            \u001b[49m\u001b[43mnewline\u001b[49m\u001b[38;5;241;43m=\u001b[39;49m\u001b[38;5;124;43m\"\u001b[39;49m\u001b[38;5;124;43m\"\u001b[39;49m\u001b[43m,\u001b[49m\n\u001b[1;32m    879\u001b[0m \u001b[43m        \u001b[49m\u001b[43m)\u001b[49m\n\u001b[1;32m    880\u001b[0m     \u001b[38;5;28;01melse\u001b[39;00m:\n\u001b[1;32m    881\u001b[0m         \u001b[38;5;66;03m# Binary mode\u001b[39;00m\n\u001b[1;32m    882\u001b[0m         handle \u001b[38;5;241m=\u001b[39m \u001b[38;5;28mopen\u001b[39m(handle, ioargs\u001b[38;5;241m.\u001b[39mmode)\n",
      "\u001b[0;31mFileNotFoundError\u001b[0m: [Errno 2] No such file or directory: 'record_df 2024-05-16 14:48:58 best result.csv'"
     ]
    }
   ],
   "source": [
    "# Read the two CSV files\n",
    "#df_desktop = pd.read_csv('record_df 2024-05-16 14:11:37.csv')\n",
    "#df_mobile = pd.read_csv('record_df 2024-05-16 14:48:58.csv')\n",
    "\n",
    "df_best_desktop = pd.read_csv('record_df 2024-05-27 12:17:33 best result.csv')\n",
    "df_best_mobile = pd.read_csv('record_df 2024-05-27 12:31:24 best result.csv')\n",
    "\n",
    "# Append the second dataframe to the first one\n",
    "#combined_df = df_desktop.concat(df_mobile)\n",
    "#combined_best_df = df_best_desktop.concat(df_best_mobile)\n",
    "#combined_df = pd.concat([df_desktop, df_mobile], ignore_index=True)\n",
    "combined_best_df = pd.concat([df_best_desktop, df_best_mobile], ignore_index=True)\n",
    "\n",
    "# Save the combined dataframe to a new CSV file\n",
    "#combined_df.to_csv('record_df 2024-05-16 14:48:58.csv', index=False)\n",
    "combined_best_df.to_csv('Germany Breakdown Jun_v2.csv', index=False)"
   ]
  },
  {
   "cell_type": "code",
   "execution_count": 17,
   "id": "5ad10d90-1d05-43fa-87b4-d2c67b4a2695",
   "metadata": {},
   "outputs": [],
   "source": [
    "# Remove duplicate entries from index\n",
    "#accuracy_df = accuracy_df.drop_duplicates(subset=['Month', query_item_list])\n",
    "\n",
    "subset_columns = ['Month'] + query_item_list\n",
    "\n",
    "accuracy_df = accuracy_df.drop_duplicates(subset=subset_columns)\n",
    "\n",
    "# Pivot the data\n",
    "#df_for_plt = accuracy_df.drop(['Actual', 'Forecast', 'MAPE', 'Forecast Period MAE', 'Predict Status'], axis=1).pivot(index='Month', columns=query_item_list, values='Percentage Error')"
   ]
  },
  {
   "cell_type": "code",
   "execution_count": 18,
   "id": "758d92f8-a3fe-4e77-bbd6-e1350e3595de",
   "metadata": {},
   "outputs": [],
   "source": [
    "df_for_plt = accuracy_df.drop(['Actual', 'Forecast', 'MAPE', 'Forecast Period MAE', 'Predict Status'], axis=1).pivot(index = 'Month', columns = (query_item_list), values = 'Percentage Error')"
   ]
  },
  {
   "cell_type": "code",
   "execution_count": 19,
   "id": "096fcf46",
   "metadata": {},
   "outputs": [
    {
     "data": {
      "image/png": "[encoded data removed]",
      "text/plain": [
       "<Figure size 1000x300 with 1 Axes>"
      ]
     },
     "metadata": {},
     "output_type": "display_data"
    }
   ],
   "source": [
    "plot_printer = PlotAndSaveAccuracyDf()\n",
    "fig = plot_printer.Plot(df_for_plt)\n",
    "plot_name = \"Accuracy_By_Month.jpg\"\n",
    "%load_ext autoreload\n",
    "%autoreload 2"
   ]
  },
  {
   "cell_type": "code",
   "execution_count": 20,
   "id": "804d256c-7052-46e8-bfda-9fb2b7090ec0",
   "metadata": {},
   "outputs": [
    {
     "name": "stdout",
     "output_type": "stream",
     "text": [
      "ups_bj_cost_by_device_optimization/DE/jun_2024_device_upd/Accuracy_By_Month.jpg\n",
      "Image saved: ups_bj_cost_by_device_optimization/DE/jun_2024_device_upd/Accuracy_By_Month.jpg\n"
     ]
    }
   ],
   "source": [
    "#fig.savefig(plot_name)\n",
    "plot_printer.SaveToGCS(output_bucket,  plot_name, folder_name)"
   ]
  },
  {
   "cell_type": "markdown",
   "id": "ccc21532",
   "metadata": {},
   "source": [
    "# Model Generator"
   ]
  },
  {
   "cell_type": "code",
   "execution_count": 21,
   "id": "50ac10ba",
   "metadata": {
    "tags": []
   },
   "outputs": [
    {
     "name": "stdout",
     "output_type": "stream",
     "text": [
      "The autoreload extension is already loaded. To reload it, use:\n",
      "  %reload_ext autoreload\n"
     ]
    },
    {
     "name": "stderr",
     "output_type": "stream",
     "text": [
      "22:43:20 - cmdstanpy - INFO - Chain [1] start processing\n",
      "22:43:20 - cmdstanpy - INFO - Chain [1] done processing\n",
      "22:43:21 - cmdstanpy - INFO - Chain [1] start processing\n",
      "22:43:21 - cmdstanpy - INFO - Chain [1] done processing\n"
     ]
    }
   ],
   "source": [
    "%load_ext autoreload\n",
    "%autoreload 2\n",
    "model_generator = GenerateModelFile()\n",
    "model_generator.Generate(cuts_df, df_filled, query_item_list, output_bucket, folder_name)"
   ]
  },
  {
   "cell_type": "markdown",
   "id": "d92338c0",
   "metadata": {},
   "source": [
    "# Constraint Setting"
   ]
  },
  {
   "cell_type": "code",
   "execution_count": 22,
   "id": "02027a03-74ca-480d-9772-eb318ed93e6e",
   "metadata": {
    "tags": []
   },
   "outputs": [
    {
     "name": "stdout",
     "output_type": "stream",
     "text": [
      "Data Frame file saved\n"
     ]
    }
   ],
   "source": [
    "bounds = cuts_df.copy()\n",
    "bounds['MinWeight'] = 0.8\n",
    "bounds['MaxWeight'] = 1.2\n",
    "bounds\n",
    "\n",
    "# %load_ext autoreload\n",
    "# %autoreload 2\n",
    "constraint_file_generator = ConstraintFileGenerator(config_dict, analytical_file_df)\n",
    "constraint_file = constraint_file_generator.Generate(bounds)\n",
    "\n",
    "\n",
    "constraint_file.loc[constraint_file['Month'].isin(['Nov']), 'MinWeight'] = 0.7\n",
    "constraint_file.loc[constraint_file['Month'].isin(['Nov']), 'MaxWeight'] = 0.8\n",
    "\n",
    "\n",
    "constraint_file_generator.SaveFile(output_bucket, folder_name, constraint_file_name)"
   ]
  }
 ],
 "metadata": {
  "environment": {
   "kernel": "conda-root-py",
   "name": "workbench-notebooks.m117",
   "type": "gcloud",
   "uri": "us-docker.pkg.dev/deeplearning-platform-release/gcr.io/workbench-notebooks:m117"
  },
  "kernelspec": {
   "display_name": "Python 3 (ipykernel) (Local)",
   "language": "python",
   "name": "conda-root-py"
  },
  "language_info": {
   "codemirror_mode": {
    "name": "ipython",
    "version": 3
   },
   "file_extension": ".py",
   "mimetype": "text/x-python",
   "name": "python",
   "nbconvert_exporter": "python",
   "pygments_lexer": "ipython3",
   "version": "3.10.13"
  }
 },
 "nbformat": 4,
 "nbformat_minor": 5
}
