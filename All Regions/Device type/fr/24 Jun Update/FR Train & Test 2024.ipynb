{
 "cells": [
  {
   "cell_type": "code",
   "execution_count": 1,
   "id": "3b9f06ed-d82a-40ac-8fff-655c4a61f743",
   "metadata": {
    "tags": []
   },
   "outputs": [
    {
     "name": "stdout",
     "output_type": "stream",
     "text": [
      "Requirement already satisfied: pathos in /opt/conda/lib/python3.10/site-packages (0.3.2)\n",
      "Requirement already satisfied: ppft>=1.7.6.8 in /opt/conda/lib/python3.10/site-packages (from pathos) (1.7.6.8)\n",
      "Requirement already satisfied: dill>=0.3.8 in /opt/conda/lib/python3.10/site-packages (from pathos) (0.3.8)\n",
      "Requirement already satisfied: pox>=0.3.4 in /opt/conda/lib/python3.10/site-packages (from pathos) (0.3.4)\n",
      "Requirement already satisfied: multiprocess>=0.70.16 in /opt/conda/lib/python3.10/site-packages (from pathos) (0.70.16)\n",
      "Note: you may need to restart the kernel to use updated packages.\n"
     ]
    }
   ],
   "source": [
    "pip install pathos"
   ]
  },
  {
   "cell_type": "code",
   "execution_count": 2,
   "id": "4071be55-6d46-440d-9a76-8fd240d7dc0a",
   "metadata": {
    "tags": []
   },
   "outputs": [
    {
     "name": "stdout",
     "output_type": "stream",
     "text": [
      "Requirement already satisfied: prophet in /opt/conda/lib/python3.10/site-packages (1.1.5)\n",
      "Requirement already satisfied: cmdstanpy>=1.0.4 in /opt/conda/lib/python3.10/site-packages (from prophet) (1.2.2)\n",
      "Requirement already satisfied: numpy>=1.15.4 in /opt/conda/lib/python3.10/site-packages (from prophet) (1.25.2)\n",
      "Requirement already satisfied: matplotlib>=2.0.0 in /opt/conda/lib/python3.10/site-packages (from prophet) (3.8.3)\n",
      "Requirement already satisfied: pandas>=1.0.4 in /opt/conda/lib/python3.10/site-packages (from prophet) (2.2.0)\n",
      "Requirement already satisfied: holidays>=0.25 in /opt/conda/lib/python3.10/site-packages (from prophet) (0.47)\n",
      "Requirement already satisfied: tqdm>=4.36.1 in /opt/conda/lib/python3.10/site-packages (from prophet) (4.66.2)\n",
      "Requirement already satisfied: importlib-resources in /opt/conda/lib/python3.10/site-packages (from prophet) (6.1.1)\n",
      "Requirement already satisfied: stanio<2.0.0,>=0.4.0 in /opt/conda/lib/python3.10/site-packages (from cmdstanpy>=1.0.4->prophet) (0.5.0)\n",
      "Requirement already satisfied: python-dateutil in /opt/conda/lib/python3.10/site-packages (from holidays>=0.25->prophet) (2.8.2)\n",
      "Requirement already satisfied: contourpy>=1.0.1 in /opt/conda/lib/python3.10/site-packages (from matplotlib>=2.0.0->prophet) (1.2.0)\n",
      "Requirement already satisfied: cycler>=0.10 in /opt/conda/lib/python3.10/site-packages (from matplotlib>=2.0.0->prophet) (0.12.1)\n",
      "Requirement already satisfied: fonttools>=4.22.0 in /opt/conda/lib/python3.10/site-packages (from matplotlib>=2.0.0->prophet) (4.48.1)\n",
      "Requirement already satisfied: kiwisolver>=1.3.1 in /opt/conda/lib/python3.10/site-packages (from matplotlib>=2.0.0->prophet) (1.4.5)\n",
      "Requirement already satisfied: packaging>=20.0 in /opt/conda/lib/python3.10/site-packages (from matplotlib>=2.0.0->prophet) (23.2)\n",
      "Requirement already satisfied: pillow>=8 in /opt/conda/lib/python3.10/site-packages (from matplotlib>=2.0.0->prophet) (10.2.0)\n",
      "Requirement already satisfied: pyparsing>=2.3.1 in /opt/conda/lib/python3.10/site-packages (from matplotlib>=2.0.0->prophet) (3.1.1)\n",
      "Requirement already satisfied: pytz>=2020.1 in /opt/conda/lib/python3.10/site-packages (from pandas>=1.0.4->prophet) (2024.1)\n",
      "Requirement already satisfied: tzdata>=2022.7 in /opt/conda/lib/python3.10/site-packages (from pandas>=1.0.4->prophet) (2024.1)\n",
      "Requirement already satisfied: six>=1.5 in /opt/conda/lib/python3.10/site-packages (from python-dateutil->holidays>=0.25->prophet) (1.16.0)\n",
      "Note: you may need to restart the kernel to use updated packages.\n"
     ]
    }
   ],
   "source": [
    "pip install prophet"
   ]
  },
  {
   "cell_type": "code",
   "execution_count": 3,
   "id": "81439665",
   "metadata": {},
   "outputs": [],
   "source": [
    "import pandas as pd\n",
    "import sys\n",
    "sys.path.append(str('/home/jupyter/'))\n",
    "from configparser import ConfigParser\n",
    "\n",
    "from repo.MyConfigParser import MyConfigParser\n",
    "\n",
    "from repo.LoadData import DataLoader\n",
    "from repo.BuildModel import GenerateModelFile, CreateModel\n",
    "from repo.Accuracy import AccuracyCalculator, ProphetParameterSearch, PlotAccuracyCharts\n",
    "from repo.FileGenerator import *"
   ]
  },
  {
   "cell_type": "code",
   "execution_count": 4,
   "id": "30322320",
   "metadata": {
    "tags": []
   },
   "outputs": [
    {
     "name": "stdout",
     "output_type": "stream",
     "text": [
      "06.06.2024\n"
     ]
    }
   ],
   "source": [
    "updated_config = ConfigParser()\n",
    "config_in_path = \"/home/jupyter/FR/Jun 2024/config ups fr.ini\"\n",
    "updated_config.read(config_in_path)\n",
    "\n",
    "getdict = MyConfigParser()\n",
    "config_dict=getdict.GetDict(updated_config)\n",
    "region = config_dict['CLIENTINFO']['country']\n",
    "cutoff_month = config_dict['PROPHETSETTING']['cut_off_point']\n",
    "base_start = config_dict['PROPHETSETTING']['reference_start_date1']\n",
    "base_end = config_dict['PROPHETSETTING']['reference_end_date1']\n",
    "periods = config_dict['PROPHETSETTING']['periods']\n",
    "base_periods  = config_dict['PROPHETSETTING']['base_periods']\n",
    "\n",
    "training_query = config_dict[\"PROPHETSETTING\"][\"training_query\"]\n",
    "_input = config_dict[\"PROPHETSETTING\"][\"input\"]\n",
    "_output = config_dict[\"PROPHETSETTING\"][\"output\"]\n",
    "\n",
    "output_bucket = config_dict[\"FILEPATH\"][\"output_bucket\"]\n",
    "folder_name = config_dict[\"FILEPATH\"][\"folder_name\"]\n",
    "\n",
    "\n",
    "today = datetime.date.today().strftime(\"%m.%d.%Y\") #'03.10.2023' #\n",
    "print(today)\n",
    "base_path = config_dict[\"FILEPATH\"][\"base_path\"]\n",
    "\n",
    "boundary_df_in_path = base_path + config_dict[\"FILEPATH\"][\"boundary_df_in_path\"]\n",
    "daily_df_out_path = base_path + config_dict[\"FILEPATH\"][\"daily_df_out_path\"]\n",
    "analytical_file_path = base_path + config_dict[\"FILEPATH\"][\"analytical_file_path\"]\n",
    "cuts_df_in_path = base_path + config_dict[\"FILEPATH\"][\"cuts_df_in_path\"]\n",
    "plot_name = base_path + config_dict[\"FILEPATH\"][\"plot_name\"]\n",
    "constraint_file_name = base_path + config_dict[\"FILEPATH\"][\"constraint_file_name\"]"
   ]
  },
  {
   "cell_type": "code",
   "execution_count": 5,
   "id": "e0f97d3d-8027-448d-a40f-4bed644165e6",
   "metadata": {},
   "outputs": [
    {
     "name": "stderr",
     "output_type": "stream",
     "text": [
      "/home/jupyter/repo/QueryingData.py:34: FutureWarning: DataFrame.fillna with 'method' is deprecated and will raise in a future version. Use obj.ffill() or obj.bfill() instead.\n",
      "  search_df.fillna(method = 'ffill', inplace = True)\n"
     ]
    }
   ],
   "source": [
    "daily_df = GetBQData(config_dict[\"PROPHETSETTING\"][\"training_query\"], config_dict[\"PROPHETSETTING\"][\"input\"], config_dict[\"PROPHETSETTING\"][\"output\"])"
   ]
  },
  {
   "cell_type": "code",
   "execution_count": 6,
   "id": "38579596-177b-4de0-8bbe-5febb358d3f5",
   "metadata": {},
   "outputs": [],
   "source": [
    "df = daily_df.copy()\n",
    "df = df.groupby(['market', 'account_type', 'funnel', 'ds']).sum().reset_index()\n",
    "\n",
    "# log Transformation\n",
    "# df['cost'] = np.log(df['cost'])\n",
    "# df.loc[(df['cost'] < 0) | (np.isinf(df['cost'])), 'cost'] = 0\n",
    "\n",
    "df.ds = pd.to_datetime(df.ds)\n",
    "df = df[~df[['ds', 'y']].isin([np.nan, np.inf, -np.inf]).any(axis=1)]\n",
    "\n",
    "#Combine Tablet and desktop together \n",
    "#For November data, use the daily average for that year to fill the missing data"
   ]
  },
  {
   "cell_type": "code",
   "execution_count": 11,
   "id": "f370e579",
   "metadata": {
    "tags": []
   },
   "outputs": [],
   "source": [
    "# df = daily_df.copy()\n",
    "# df.market = 'US'\n",
    "# df = df.groupby(['region', 'market', 'account_type', 'funnel', 'ds']).sum().reset_index()\n",
    "\n",
    "# # log Transformation\n",
    "# # df['cost'] = np.log(df['cost'])\n",
    "# # df.loc[(df['cost'] < 0) | (np.isinf(df['cost'])), 'cost'] = 0\n",
    "\n",
    "# df.ds = pd.to_datetime(df.ds)\n",
    "\n",
    "# df = df[~df[['ds', 'y']].isin([np.nan, np.inf, -np.inf]).any(axis=1)]\n",
    "# df = df[df.ds < cutoff_month]\n",
    "# # remove inactive days\n",
    "# df.drop(df[((df['ds'] >= '2021-08-01')&(df['ds'] <= '2021-10-31')) & ((df.account_type == 'Bing Ads') & (df.funnel == 'Brand'))].index,\n",
    "#        axis = 0, inplace = True)\n",
    "# df.drop(df[((df['ds'] >= '2019-03-01')&(df['ds'] <= '2019-08-31')) & ((df.account_type == 'Bing Ads') & (df.funnel == 'Brand'))].index,\n",
    "#        axis = 0, inplace = True)\n",
    "\n",
    "# df.drop(df[((df['ds'] >= '2021-07-01')&(df['ds'] <= '2021-10-31')) & ((df.account_type == 'Bing Ads') & (df.funnel == 'Generic'))].index,\n",
    "#        axis = 0, inplace = True)\n",
    "\n",
    "# # add regressors\n",
    "# df['anomaly_2021'] = df['ds'].apply(lambda x: 1 if (x >= datetime.datetime(2021,8,1))\\\n",
    "#                                      & (x <= datetime.datetime(2021,10,31)) else 0)\n",
    "# df['covid_year_dummy'] = 0\n",
    "# df.loc[(df['ds'] >= '2020-01-01') & (df['ds'] <= '2020-12-31'), 'Covid_Year_Dummy'] = 1\n",
    "\n",
    "# df['weekday_or_weekend'] = df['ds'].apply(lambda x: 1 if x.dayofweek > 4 else 0)\n",
    "\n",
    "# # set cap and floor for log regression\n",
    "# df['Month of Ds'] = df['ds'].dt.month_name()\n",
    "\n",
    "# df['floor'] = 0\n",
    "\n",
    "# boundary_df = pd.read_csv('Floor Cap Setting 2022.csv')\n",
    "# boundary_df.rename(columns = {'Account Type': 'account_type', 'Funnel':'funnel'}, inplace = True)\n",
    "# boundary_df.drop(['Market'], axis = 1, inplace = True)\n",
    "\n",
    "# df = pd.merge(df, boundary_df, on = ['account_type', 'funnel'])\n",
    "# df['cap'] = df.ROAS * df.X / df.AOV\n",
    "# df.loc[df.cap == 0, 'cap'] = df.cap.max()\n",
    "\n",
    "# # df.to_csv(f'Daily Data {today}.csv')\n",
    "# df.tail()\n",
    "\n",
    "#del df"
   ]
  },
  {
   "cell_type": "code",
   "execution_count": 7,
   "id": "13cc96c7-1f42-416d-994d-db7e26eac96a",
   "metadata": {},
   "outputs": [],
   "source": [
    "df['ds'] = pd.to_datetime(df['ds'])"
   ]
  },
  {
   "cell_type": "code",
   "execution_count": 8,
   "id": "d0a23c11-282c-49fd-b729-0c882a21628a",
   "metadata": {},
   "outputs": [
    {
     "name": "stderr",
     "output_type": "stream",
     "text": [
      "/var/tmp/ipykernel_26040/3324172875.py:29: FutureWarning: DataFrame.fillna with 'method' is deprecated and will raise in a future version. Use obj.ffill() or obj.bfill() instead.\n",
      "  filled_november_df[['region', 'market', 'funnel']] = df_2022_account_type[['region', 'market', 'funnel']].fillna(method='ffill').iloc[-1]\n",
      "/var/tmp/ipykernel_26040/3324172875.py:29: FutureWarning: Series.__getitem__ treating keys as positions is deprecated. In a future version, integer keys will always be treated as labels (consistent with DataFrame behavior). To access a value by position, use `ser.iloc[pos]`\n",
      "  filled_november_df[['region', 'market', 'funnel']] = df_2022_account_type[['region', 'market', 'funnel']].fillna(method='ffill').iloc[-1]\n",
      "/var/tmp/ipykernel_26040/3324172875.py:29: FutureWarning: Series.__getitem__ treating keys as positions is deprecated. In a future version, integer keys will always be treated as labels (consistent with DataFrame behavior). To access a value by position, use `ser.iloc[pos]`\n",
      "  filled_november_df[['region', 'market', 'funnel']] = df_2022_account_type[['region', 'market', 'funnel']].fillna(method='ffill').iloc[-1]\n",
      "/var/tmp/ipykernel_26040/3324172875.py:29: FutureWarning: Series.__getitem__ treating keys as positions is deprecated. In a future version, integer keys will always be treated as labels (consistent with DataFrame behavior). To access a value by position, use `ser.iloc[pos]`\n",
      "  filled_november_df[['region', 'market', 'funnel']] = df_2022_account_type[['region', 'market', 'funnel']].fillna(method='ffill').iloc[-1]\n",
      "/var/tmp/ipykernel_26040/3324172875.py:29: FutureWarning: DataFrame.fillna with 'method' is deprecated and will raise in a future version. Use obj.ffill() or obj.bfill() instead.\n",
      "  filled_november_df[['region', 'market', 'funnel']] = df_2022_account_type[['region', 'market', 'funnel']].fillna(method='ffill').iloc[-1]\n",
      "/var/tmp/ipykernel_26040/3324172875.py:29: FutureWarning: Series.__getitem__ treating keys as positions is deprecated. In a future version, integer keys will always be treated as labels (consistent with DataFrame behavior). To access a value by position, use `ser.iloc[pos]`\n",
      "  filled_november_df[['region', 'market', 'funnel']] = df_2022_account_type[['region', 'market', 'funnel']].fillna(method='ffill').iloc[-1]\n",
      "/var/tmp/ipykernel_26040/3324172875.py:29: FutureWarning: Series.__getitem__ treating keys as positions is deprecated. In a future version, integer keys will always be treated as labels (consistent with DataFrame behavior). To access a value by position, use `ser.iloc[pos]`\n",
      "  filled_november_df[['region', 'market', 'funnel']] = df_2022_account_type[['region', 'market', 'funnel']].fillna(method='ffill').iloc[-1]\n",
      "/var/tmp/ipykernel_26040/3324172875.py:29: FutureWarning: Series.__getitem__ treating keys as positions is deprecated. In a future version, integer keys will always be treated as labels (consistent with DataFrame behavior). To access a value by position, use `ser.iloc[pos]`\n",
      "  filled_november_df[['region', 'market', 'funnel']] = df_2022_account_type[['region', 'market', 'funnel']].fillna(method='ffill').iloc[-1]\n"
     ]
    }
   ],
   "source": [
    "# Filter the data for the year 2022\n",
    "df_2022 = df[df['ds'].dt.year == 2022]\n",
    "\n",
    "# Get the unique account types\n",
    "account_types = df['account_type'].unique()\n",
    "\n",
    "# Initialize an empty dataframe to store the filled November data\n",
    "filled_november_data = pd.DataFrame()\n",
    "\n",
    "# Loop through the unique account types\n",
    "for account_type in account_types:\n",
    "    # Filter the data for the current account type\n",
    "    df_2022_account_type = df_2022[df_2022['account_type'] == account_type]\n",
    "\n",
    "    # Group the data by day of the month and calculate the mean for X and y columns\n",
    "    daily_avg_2022 = df_2022_account_type.groupby(df_2022_account_type['ds'].dt.day)[['X', 'y']].mean()\n",
    "\n",
    "    # Create a new dataframe for November 2022 with date range from 1st to 30th\n",
    "    november_2022 = pd.date_range(start='2022-11-01', end='2022-11-30', freq='D')\n",
    "    november_df = pd.DataFrame(november_2022, columns=['ds'])\n",
    "\n",
    "    # Merge the daily averages with the November dataframe\n",
    "    filled_november_df = november_df.merge(daily_avg_2022, left_on=november_df['ds'].dt.day, right_index=True)\n",
    "\n",
    "    # Update the 'ds' column with the correct dates for November 2022\n",
    "    filled_november_df['ds'] = november_2022\n",
    "\n",
    "    # Forward-fill the missing values in region, market, funnel, and account_type columns\n",
    "    filled_november_df[['region', 'market', 'funnel']] = df_2022_account_type[['region', 'market', 'funnel']].fillna(method='ffill').iloc[-1]\n",
    "    filled_november_df['account_type'] = account_type\n",
    "\n",
    "    # Append the filled November data for the current account type to the filled_november_data dataframe\n",
    "    filled_november_data = pd.concat([filled_november_data, filled_november_df], ignore_index=True)\n",
    "\n",
    "# Append the filled November data to the original dataframe\n",
    "df_filled = pd.concat([df, filled_november_data], ignore_index=True)"
   ]
  },
  {
   "cell_type": "code",
   "execution_count": 14,
   "id": "5b6076f6-ea4f-4129-9ab3-33be8e8e8d25",
   "metadata": {},
   "outputs": [],
   "source": [
    "df_filled.to_csv('filled_nov.csv')"
   ]
  },
  {
   "cell_type": "code",
   "execution_count": 15,
   "id": "97479623-5bf7-49f5-9ca6-31bbc219bda3",
   "metadata": {},
   "outputs": [],
   "source": [
    "#missing_data_df = pd.DataFrame(missing_data)\n",
    "#df = pd.concat([df, missing_data_df], ignore_index=True)"
   ]
  },
  {
   "cell_type": "code",
   "execution_count": 9,
   "id": "549cac2a-af3e-4b0a-ad67-7bcaaf0befc6",
   "metadata": {},
   "outputs": [],
   "source": [
    "df_filled['weekday_or_weekend'] = df_filled['ds'].apply(lambda x: 1 if x.dayofweek > 4 else 0)\n",
    "\n",
    "# set cap and floor for log regression\n",
    "df_filled['Month of Ds'] = df_filled['ds'].dt.month_name()\n",
    "\n",
    "df_filled['floor'] = 0\n",
    "\n",
    "boundary_df = pd.read_csv(base_path + 'FR Floor Cap Setting Feb 2024.csv')\n",
    "boundary_df.rename(columns = {'Account Type': 'account_type', 'Funnel':'funnel'}, inplace = True)\n",
    "boundary_df.drop(['Market'], axis = 1, inplace = True)\n",
    "\n",
    "df_filled = pd.merge(df_filled, boundary_df, on = ['account_type', 'funnel'])\n",
    "df_filled['cap'] = df_filled.ROAS * df_filled.X / df_filled.AOV\n",
    "df_filled.loc[df_filled.cap == 0, 'cap'] = df_filled.cap.max()\n",
    "\n",
    "df_filled.to_csv(f'Daily Data {today}.csv')"
   ]
  },
  {
   "cell_type": "code",
   "execution_count": 17,
   "id": "27a78aaf-567f-48ad-bba1-bf6a3edfaba0",
   "metadata": {},
   "outputs": [],
   "source": [
    "df_filled.to_csv(base_path + 'df_filled.csv')"
   ]
  },
  {
   "cell_type": "markdown",
   "id": "774b147c",
   "metadata": {},
   "source": [
    "# Analytical File Generator"
   ]
  },
  {
   "cell_type": "code",
   "execution_count": 10,
   "id": "1808a933",
   "metadata": {},
   "outputs": [
    {
     "name": "stderr",
     "output_type": "stream",
     "text": [
      "/home/jupyter/repo/QueryingData.py:34: FutureWarning: DataFrame.fillna with 'method' is deprecated and will raise in a future version. Use obj.ffill() or obj.bfill() instead.\n",
      "  search_df.fillna(method = 'ffill', inplace = True)\n"
     ]
    }
   ],
   "source": [
    "analytical_file_name = 'Analytical_File_Jun.csv'\n",
    "generator = AnalyticalFileGenerator(config_dict)\n",
    "analytical_file_df = generator.generate()\n",
    "analytical_file_df = pd.merge(analytical_file_df, boundary_df, on = ['account_type', 'funnel']) # merge with boundary_df to filter data to only have the splits needed\n",
    "analytical_file_df.to_csv(analytical_file_path)\n",
    "# generator.SaveFile(analytical_file_name, folder_name) # X is input value which should be the sum of all variable splits"
   ]
  },
  {
   "cell_type": "code",
   "execution_count": 15,
   "id": "15bde631-43ff-4936-8868-1de8f69dd48d",
   "metadata": {},
   "outputs": [
    {
     "data": {
      "text/html": [
       "<div>\n",
       "<style scoped>\n",
       "    .dataframe tbody tr th:only-of-type {\n",
       "        vertical-align: middle;\n",
       "    }\n",
       "\n",
       "    .dataframe tbody tr th {\n",
       "        vertical-align: top;\n",
       "    }\n",
       "\n",
       "    .dataframe thead th {\n",
       "        text-align: right;\n",
       "    }\n",
       "</style>\n",
       "<table border=\"1\" class=\"dataframe\">\n",
       "  <thead>\n",
       "    <tr style=\"text-align: right;\">\n",
       "      <th></th>\n",
       "      <th>market</th>\n",
       "      <th>account_type</th>\n",
       "      <th>funnel</th>\n",
       "      <th>periods_for_acc_cal</th>\n",
       "      <th>changepoint_prior_scale</th>\n",
       "      <th>seasonality_prior_scale</th>\n",
       "      <th>holidays_prior_scale</th>\n",
       "      <th>seasonality_mode</th>\n",
       "      <th>input_mode</th>\n",
       "      <th>weekday_or_weekend</th>\n",
       "      <th>...</th>\n",
       "      <th>anomaly_2021</th>\n",
       "      <th>generic_cost_split</th>\n",
       "      <th>competitor_cost_split</th>\n",
       "      <th>new_confirmed</th>\n",
       "      <th>power</th>\n",
       "      <th>growth</th>\n",
       "      <th>MAPE</th>\n",
       "      <th>period_AE</th>\n",
       "      <th>periods</th>\n",
       "      <th>cutoff_month</th>\n",
       "    </tr>\n",
       "  </thead>\n",
       "  <tbody>\n",
       "    <tr>\n",
       "      <th>0</th>\n",
       "      <td>France</td>\n",
       "      <td>Desktop</td>\n",
       "      <td>-</td>\n",
       "      <td>183</td>\n",
       "      <td>0.10</td>\n",
       "      <td>10</td>\n",
       "      <td>10.0</td>\n",
       "      <td>multiplicative</td>\n",
       "      <td>multiplicative</td>\n",
       "      <td>additive</td>\n",
       "      <td>...</td>\n",
       "      <td>na</td>\n",
       "      <td>na</td>\n",
       "      <td>na</td>\n",
       "      <td>na</td>\n",
       "      <td>na</td>\n",
       "      <td>linear</td>\n",
       "      <td>13.15</td>\n",
       "      <td>6.19</td>\n",
       "      <td>251.0</td>\n",
       "      <td>2024-04-25</td>\n",
       "    </tr>\n",
       "    <tr>\n",
       "      <th>1</th>\n",
       "      <td>France</td>\n",
       "      <td>Mobile &amp; Tablet</td>\n",
       "      <td>-</td>\n",
       "      <td>183</td>\n",
       "      <td>0.05</td>\n",
       "      <td>10</td>\n",
       "      <td>0.1</td>\n",
       "      <td>additive</td>\n",
       "      <td>multiplicative</td>\n",
       "      <td>additive</td>\n",
       "      <td>...</td>\n",
       "      <td>na</td>\n",
       "      <td>na</td>\n",
       "      <td>na</td>\n",
       "      <td>na</td>\n",
       "      <td>na</td>\n",
       "      <td>linear</td>\n",
       "      <td>32.79</td>\n",
       "      <td>4.73</td>\n",
       "      <td>251.0</td>\n",
       "      <td>2024-04-25</td>\n",
       "    </tr>\n",
       "  </tbody>\n",
       "</table>\n",
       "<p>2 rows × 23 columns</p>\n",
       "</div>"
      ],
      "text/plain": [
       "   market     account_type funnel  periods_for_acc_cal  \\\n",
       "0  France          Desktop      -                  183   \n",
       "1  France  Mobile & Tablet      -                  183   \n",
       "\n",
       "   changepoint_prior_scale  seasonality_prior_scale  holidays_prior_scale  \\\n",
       "0                     0.10                       10                  10.0   \n",
       "1                     0.05                       10                   0.1   \n",
       "\n",
       "  seasonality_mode      input_mode weekday_or_weekend  ... anomaly_2021  \\\n",
       "0   multiplicative  multiplicative           additive  ...           na   \n",
       "1         additive  multiplicative           additive  ...           na   \n",
       "\n",
       "  generic_cost_split competitor_cost_split new_confirmed power  growth   MAPE  \\\n",
       "0                 na                    na            na    na  linear  13.15   \n",
       "1                 na                    na            na    na  linear  32.79   \n",
       "\n",
       "  period_AE periods  cutoff_month  \n",
       "0      6.19   251.0    2024-04-25  \n",
       "1      4.73   251.0    2024-04-25  \n",
       "\n",
       "[2 rows x 23 columns]"
      ]
     },
     "execution_count": 15,
     "metadata": {},
     "output_type": "execute_result"
    }
   ],
   "source": [
    "cuts_df = pd.read_csv(base_path + region + ' Breakdown 1_31.csv')\n",
    "cuts_df['periods'] = periods\n",
    "cuts_df['periods_for_acc_cal'] = 183\n",
    "cuts_df['cutoff_month'] = cutoff_month\n",
    "cuts_df.input_mode = 'multiplicative'\n",
    "# cuts_df.account_type = 'unified'\n",
    "#cuts_df.loc[cuts_df['account_type'] == 'Desktop', 'input_mode'] = 'multiplicative'\n",
    "#cuts_df.loc[cuts_df['account_type'] == 'Mobile & Tablet', 'input_mode'] = 'additive'\n",
    "\n",
    "query_item_list = [query_item for query_item in [config_dict[\"CLIENTINFO\"][\"breakdown1\"], \\\n",
    "                             config_dict[\"CLIENTINFO\"][\"breakdown2\"], \\\n",
    "                             config_dict[\"CLIENTINFO\"][\"breakdown3\"], \\\n",
    "                             config_dict[\"CLIENTINFO\"][\"breakdown4\"]]\n",
    "                             if query_item != None]\n",
    "cuts_df"
   ]
  },
  {
   "cell_type": "markdown",
   "id": "c0705169",
   "metadata": {},
   "source": [
    "# Accuracy Calculator"
   ]
  },
  {
   "cell_type": "markdown",
   "id": "c2018159-3cec-4e88-9683-a4072962b20a",
   "metadata": {},
   "source": [
    "generic_df = pd.read_csv(\"record_df 2023-08-16 18:16:20 best result.csv\")\n",
    "generic_df"
   ]
  },
  {
   "cell_type": "code",
   "execution_count": 16,
   "id": "914727bf",
   "metadata": {
    "tags": []
   },
   "outputs": [
    {
     "name": "stderr",
     "output_type": "stream",
     "text": [
      "15:56:45 - cmdstanpy - INFO - Chain [1] start processing\n",
      "15:56:45 - cmdstanpy - INFO - Chain [1] done processing\n",
      "/home/jupyter/repo/Accuracy.py:268: FutureWarning: The behavior of DataFrame concatenation with empty or all-NA entries is deprecated. In a future version, this will no longer exclude empty or all-NA columns when determining the result dtypes. To retain the old behavior, exclude the relevant entries before the concat operation.\n",
      "  self.monthly_acc_df_temp = pd.concat([self.monthly_acc_df_temp, monthly_acc_df], ignore_index=True)\n",
      "15:56:45 - cmdstanpy - INFO - Chain [1] start processing\n",
      "15:56:45 - cmdstanpy - INFO - Chain [1] done processing\n"
     ]
    },
    {
     "name": "stdout",
     "output_type": "stream",
     "text": [
      "It's underpredicted.\n",
      "Monthly Error: 13.35 Period MAE: 2.23\n",
      "It's underpredicted.\n",
      "Monthly Error: 40.43 Period MAE: 40.22\n",
      "Data Frame file saved\n"
     ]
    }
   ],
   "source": [
    "# %load_ext autoreload\n",
    "# %autoreload 2\n",
    "\n",
    "\n",
    "calculator = AccuracyCalculator()\n",
    "accuracy_df = calculator.CalculateAccuracy(cuts_df, df_filled, query_item_list)\n",
    "# calculator.SaveFile()\n",
    "calculator.SaveFile(output_bucket, folder_name, 'Accuracy.csv')"
   ]
  },
  {
   "cell_type": "code",
   "execution_count": 17,
   "id": "30b4d7b9-f202-4563-a6a3-feec5729d62e",
   "metadata": {},
   "outputs": [],
   "source": [
    "accuracy_df.to_csv(base_path + 'test_Acc_feb.csv')"
   ]
  },
  {
   "cell_type": "code",
   "execution_count": 18,
   "id": "6e9a33d2",
   "metadata": {},
   "outputs": [
    {
     "data": {
      "text/html": [
       "<div>\n",
       "<style scoped>\n",
       "    .dataframe tbody tr th:only-of-type {\n",
       "        vertical-align: middle;\n",
       "    }\n",
       "\n",
       "    .dataframe tbody tr th {\n",
       "        vertical-align: top;\n",
       "    }\n",
       "\n",
       "    .dataframe thead th {\n",
       "        text-align: right;\n",
       "    }\n",
       "</style>\n",
       "<table border=\"1\" class=\"dataframe\">\n",
       "  <thead>\n",
       "    <tr style=\"text-align: right;\">\n",
       "      <th></th>\n",
       "      <th>Actual</th>\n",
       "      <th>Forecast</th>\n",
       "      <th>Percentage Error</th>\n",
       "      <th>MAPE</th>\n",
       "      <th>Forecast Period MAE</th>\n",
       "    </tr>\n",
       "    <tr>\n",
       "      <th>account_type</th>\n",
       "      <th></th>\n",
       "      <th></th>\n",
       "      <th></th>\n",
       "      <th></th>\n",
       "      <th></th>\n",
       "    </tr>\n",
       "  </thead>\n",
       "  <tbody>\n",
       "    <tr>\n",
       "      <th>Desktop</th>\n",
       "      <td>-15728.714286</td>\n",
       "      <td>-15375.967143</td>\n",
       "      <td>100.154286</td>\n",
       "      <td>86.65</td>\n",
       "      <td>97.77</td>\n",
       "    </tr>\n",
       "    <tr>\n",
       "      <th>Mobile &amp; Tablet</th>\n",
       "      <td>-492.142857</td>\n",
       "      <td>-253.960000</td>\n",
       "      <td>59.571429</td>\n",
       "      <td>59.57</td>\n",
       "      <td>59.78</td>\n",
       "    </tr>\n",
       "  </tbody>\n",
       "</table>\n",
       "</div>"
      ],
      "text/plain": [
       "                       Actual      Forecast  Percentage Error   MAPE  \\\n",
       "account_type                                                           \n",
       "Desktop         -15728.714286 -15375.967143        100.154286  86.65   \n",
       "Mobile & Tablet   -492.142857   -253.960000         59.571429  59.57   \n",
       "\n",
       "                 Forecast Period MAE  \n",
       "account_type                          \n",
       "Desktop                        97.77  \n",
       "Mobile & Tablet                59.78  "
      ]
     },
     "execution_count": 18,
     "metadata": {},
     "output_type": "execute_result"
    }
   ],
   "source": [
    "# This is to convert error metrics to accuracy. Note the column names won't change\n",
    "100-accuracy_df.groupby(['account_type']).mean(numeric_only=1)"
   ]
  },
  {
   "cell_type": "code",
   "execution_count": 19,
   "id": "08a39189-16e4-4bde-80fb-c19045562e3c",
   "metadata": {},
   "outputs": [
    {
     "data": {
      "text/html": [
       "<div>\n",
       "<style scoped>\n",
       "    .dataframe tbody tr th:only-of-type {\n",
       "        vertical-align: middle;\n",
       "    }\n",
       "\n",
       "    .dataframe tbody tr th {\n",
       "        vertical-align: top;\n",
       "    }\n",
       "\n",
       "    .dataframe thead th {\n",
       "        text-align: right;\n",
       "    }\n",
       "</style>\n",
       "<table border=\"1\" class=\"dataframe\">\n",
       "  <thead>\n",
       "    <tr style=\"text-align: right;\">\n",
       "      <th></th>\n",
       "      <th>Actual</th>\n",
       "      <th>Forecast</th>\n",
       "      <th>Percentage Error</th>\n",
       "      <th>MAPE</th>\n",
       "      <th>Forecast Period MAE</th>\n",
       "    </tr>\n",
       "    <tr>\n",
       "      <th>market</th>\n",
       "      <th></th>\n",
       "      <th></th>\n",
       "      <th></th>\n",
       "      <th></th>\n",
       "      <th></th>\n",
       "    </tr>\n",
       "  </thead>\n",
       "  <tbody>\n",
       "    <tr>\n",
       "      <th>France</th>\n",
       "      <td>-8110.428571</td>\n",
       "      <td>-7814.963571</td>\n",
       "      <td>79.862857</td>\n",
       "      <td>73.11</td>\n",
       "      <td>78.775</td>\n",
       "    </tr>\n",
       "  </tbody>\n",
       "</table>\n",
       "</div>"
      ],
      "text/plain": [
       "             Actual     Forecast  Percentage Error   MAPE  Forecast Period MAE\n",
       "market                                                                        \n",
       "France -8110.428571 -7814.963571         79.862857  73.11               78.775"
      ]
     },
     "execution_count": 19,
     "metadata": {},
     "output_type": "execute_result"
    }
   ],
   "source": [
    "100-accuracy_df.groupby(['market']).mean(numeric_only=1)"
   ]
  },
  {
   "cell_type": "code",
   "execution_count": 19,
   "id": "fd10886a-45dd-4533-bdde-7ba9c952bfba",
   "metadata": {},
   "outputs": [],
   "source": [
    "param_grid = {\n",
    "    'changepoint_prior_scale': [ 0.1, 0.05, 0.001],   \n",
    "    'seasonality_prior_scale': [10.0, 1.0, 0.1, 0.01 ], \n",
    "    'holidays_prior_scale': [10.0, 1.0,  0.1, 0.01], \n",
    "    'seasonality_mode': ['additive','multiplicative'], \n",
    "    'input_mode': ['additive','multiplicative'], \n",
    "    'weekday_or_weekend':['na', 'additive', 'multiplicative'],  \n",
    "    'include_holiday': ['na', 'Default'],\n",
    "    'covid_year_exclude':['na'],\n",
    "    'covid_year_dummy':['na'],#, 'additive', 'multiplicative'],\n",
    "    'anomaly_2021':['na'],#, 'additive', 'multiplicative'],\n",
    "    'generic_cost_split':['na'],#, 'additive', 'multiplicative'\n",
    "    'competitor_cost_split':['na'], #, 'additive', 'multiplicative'\n",
    "    'new_confirmed': ['na'],#, 'additive', 'multiplicative'\n",
    "            }"
   ]
  },
  {
   "cell_type": "code",
   "execution_count": 20,
   "id": "74827afb-a57a-4acc-80d0-2fed64e30ecc",
   "metadata": {
    "tags": []
   },
   "outputs": [
    {
     "data": {
      "text/html": [
       "<div>\n",
       "<style scoped>\n",
       "    .dataframe tbody tr th:only-of-type {\n",
       "        vertical-align: middle;\n",
       "    }\n",
       "\n",
       "    .dataframe tbody tr th {\n",
       "        vertical-align: top;\n",
       "    }\n",
       "\n",
       "    .dataframe thead th {\n",
       "        text-align: right;\n",
       "    }\n",
       "</style>\n",
       "<table border=\"1\" class=\"dataframe\">\n",
       "  <thead>\n",
       "    <tr style=\"text-align: right;\">\n",
       "      <th></th>\n",
       "      <th>market</th>\n",
       "      <th>account_type</th>\n",
       "      <th>funnel</th>\n",
       "      <th>periods_for_acc_cal</th>\n",
       "      <th>changepoint_prior_scale</th>\n",
       "      <th>seasonality_prior_scale</th>\n",
       "      <th>holidays_prior_scale</th>\n",
       "      <th>seasonality_mode</th>\n",
       "      <th>input_mode</th>\n",
       "      <th>weekday_or_weekend</th>\n",
       "      <th>...</th>\n",
       "      <th>anomaly_2021</th>\n",
       "      <th>generic_cost_split</th>\n",
       "      <th>competitor_cost_split</th>\n",
       "      <th>new_confirmed</th>\n",
       "      <th>power</th>\n",
       "      <th>growth</th>\n",
       "      <th>MAPE</th>\n",
       "      <th>period_AE</th>\n",
       "      <th>periods</th>\n",
       "      <th>cutoff_month</th>\n",
       "    </tr>\n",
       "  </thead>\n",
       "  <tbody>\n",
       "    <tr>\n",
       "      <th>1</th>\n",
       "      <td>France</td>\n",
       "      <td>Mobile &amp; Tablet</td>\n",
       "      <td>-</td>\n",
       "      <td>183</td>\n",
       "      <td>0.05</td>\n",
       "      <td>10</td>\n",
       "      <td>0.1</td>\n",
       "      <td>additive</td>\n",
       "      <td>multiplicative</td>\n",
       "      <td>additive</td>\n",
       "      <td>...</td>\n",
       "      <td>na</td>\n",
       "      <td>na</td>\n",
       "      <td>na</td>\n",
       "      <td>na</td>\n",
       "      <td>na</td>\n",
       "      <td>linear</td>\n",
       "      <td>32.79</td>\n",
       "      <td>4.73</td>\n",
       "      <td>251.0</td>\n",
       "      <td>2024-04-25</td>\n",
       "    </tr>\n",
       "  </tbody>\n",
       "</table>\n",
       "<p>1 rows × 23 columns</p>\n",
       "</div>"
      ],
      "text/plain": [
       "   market     account_type funnel  periods_for_acc_cal  \\\n",
       "1  France  Mobile & Tablet      -                  183   \n",
       "\n",
       "   changepoint_prior_scale  seasonality_prior_scale  holidays_prior_scale  \\\n",
       "1                     0.05                       10                   0.1   \n",
       "\n",
       "  seasonality_mode      input_mode weekday_or_weekend  ... anomaly_2021  \\\n",
       "1         additive  multiplicative           additive  ...           na   \n",
       "\n",
       "  generic_cost_split competitor_cost_split new_confirmed power  growth   MAPE  \\\n",
       "1                 na                    na            na    na  linear  32.79   \n",
       "\n",
       "  period_AE periods  cutoff_month  \n",
       "1      4.73   251.0    2024-04-25  \n",
       "\n",
       "[1 rows x 23 columns]"
      ]
     },
     "execution_count": 20,
     "metadata": {},
     "output_type": "execute_result"
    }
   ],
   "source": [
    "cuts_df_mobile= cuts_df.loc[cuts_df['account_type'] == 'Mobile & Tablet'] \n",
    "\n",
    "cuts_df_desktop = cuts_df.loc[cuts_df['account_type'] == 'Desktop'] \n",
    "cuts_df_mobile"
   ]
  },
  {
   "cell_type": "markdown",
   "id": "45f486de-7678-4757-b866-7965908e7dea",
   "metadata": {
    "tags": []
   },
   "source": [
    "# Parallel Param Search"
   ]
  },
  {
   "cell_type": "code",
   "execution_count": null,
   "id": "fca2c299-1dd7-44c6-aea0-b05073248886",
   "metadata": {
    "tags": []
   },
   "outputs": [
    {
     "name": "stdout",
     "output_type": "stream",
     "text": [
      "The autoreload extension is already loaded. To reload it, use:\n",
      "  %reload_ext autoreload\n"
     ]
    },
    {
     "name": "stderr",
     "output_type": "stream",
     "text": [
      "  0%|          | 0/1 [00:00<?, ?it/s]"
     ]
    }
   ],
   "source": [
    "# %load_ext autoreload\n",
    "# %autoreload 2\n",
    "# search_engine = ProphetParameterSearch(power_flag = False) # , logistic_flag = False\n",
    "# # search_engine.add_power_params()\n",
    "# grid_brand = search_engine.search(cuts_df, df_filled)\n",
    "# #grid_bing = search_engine.search(cuts_df[(cuts_df.index==0)], df_filled)\n",
    "\n",
    "%load_ext autoreload\n",
    "%autoreload 2\n",
    "search_engine = ProphetParameterSearch(param_grid = param_grid,power_flag = False, base_path=base_path) # \n",
    "# search_engine.add_power_params() # consider using it when the basic setting won't get you good results\n",
    "grid_brand = search_engine.search(cuts_df_mobile, df_filled) #competitor and bing generic"
   ]
  },
  {
   "cell_type": "code",
   "execution_count": 29,
   "id": "2ce879c9-4c0f-4d93-a6e4-50592eb3cc60",
   "metadata": {
    "tags": []
   },
   "outputs": [],
   "source": [
    "# Read the two CSV files\n",
    "\n",
    "df_best_desktop = pd.read_csv('record_df 2024-05-27 15:48:15 best result.csv')\n",
    "df_best_mobile = pd.read_csv('record_df 2024-05-27 16:05:19 best result.csv')\n",
    "# Append the second dataframe to the first one\n",
    "combined_best_df = pd.concat([df_best_desktop, df_best_mobile], ignore_index=True)\n",
    "# Step 2: Exclude the first column\n",
    "combined_best_df = combined_best_df.iloc[:2, 1:]\n",
    "# Save the combined dataframe to a new CSV file\n",
    "combined_best_df.to_csv('France Breakdown Jun.csv', index=False)"
   ]
  },
  {
   "cell_type": "code",
   "execution_count": 25,
   "id": "5ad10d90-1d05-43fa-87b4-d2c67b4a2695",
   "metadata": {},
   "outputs": [],
   "source": [
    "# Remove duplicate entries from index\n",
    "#accuracy_df = accuracy_df.drop_duplicates(subset=['Month', query_item_list])\n",
    "\n",
    "subset_columns = ['Month'] + query_item_list\n",
    "\n",
    "accuracy_df = accuracy_df.drop_duplicates(subset=subset_columns)\n",
    "\n",
    "# Pivot the data\n",
    "#df_for_plt = accuracy_df.drop(['Actual', 'Forecast', 'MAPE', 'Forecast Period MAE', 'Predict Status'], axis=1).pivot(index='Month', columns=query_item_list, values='Percentage Error')"
   ]
  },
  {
   "cell_type": "code",
   "execution_count": 26,
   "id": "758d92f8-a3fe-4e77-bbd6-e1350e3595de",
   "metadata": {},
   "outputs": [],
   "source": [
    "df_for_plt = accuracy_df.drop(['Actual', 'Forecast', 'MAPE', 'Forecast Period MAE', 'Predict Status'], axis=1).pivot(index = 'Month', columns = (query_item_list), values = 'Percentage Error')"
   ]
  },
  {
   "cell_type": "code",
   "execution_count": 27,
   "id": "096fcf46",
   "metadata": {},
   "outputs": [
    {
     "data": {
      "image/png": "[encoded data removed]",
      "text/plain": [
       "<Figure size 1000x300 with 1 Axes>"
      ]
     },
     "metadata": {},
     "output_type": "display_data"
    }
   ],
   "source": [
    "plot_printer = PlotAndSaveAccuracyDf()\n",
    "fig = plot_printer.Plot(df_for_plt)\n",
    "plot_name = \"Accuracy_By_Month.jpg\"\n",
    "%load_ext autoreload\n",
    "%autoreload 2"
   ]
  },
  {
   "cell_type": "code",
   "execution_count": 28,
   "id": "804d256c-7052-46e8-bfda-9fb2b7090ec0",
   "metadata": {},
   "outputs": [
    {
     "name": "stdout",
     "output_type": "stream",
     "text": [
      "ups_bj_cost_by_device_optimization/FR/Jun 2024/Accuracy_By_Month.jpg\n",
      "Image saved: ups_bj_cost_by_device_optimization/FR/Jun 2024/Accuracy_By_Month.jpg\n"
     ]
    }
   ],
   "source": [
    "#fig.savefig(plot_name)\n",
    "plot_printer.SaveToGCS(output_bucket,  plot_name, folder_name)"
   ]
  },
  {
   "cell_type": "markdown",
   "id": "ccc21532",
   "metadata": {},
   "source": [
    "# Model Generator"
   ]
  },
  {
   "cell_type": "code",
   "execution_count": 29,
   "id": "50ac10ba",
   "metadata": {
    "tags": []
   },
   "outputs": [
    {
     "name": "stderr",
     "output_type": "stream",
     "text": [
      "22:38:02 - cmdstanpy - INFO - Chain [1] start processing\n"
     ]
    },
    {
     "name": "stdout",
     "output_type": "stream",
     "text": [
      "The autoreload extension is already loaded. To reload it, use:\n",
      "  %reload_ext autoreload\n"
     ]
    },
    {
     "name": "stderr",
     "output_type": "stream",
     "text": [
      "22:38:02 - cmdstanpy - INFO - Chain [1] done processing\n",
      "22:38:04 - cmdstanpy - INFO - Chain [1] start processing\n",
      "22:38:04 - cmdstanpy - INFO - Chain [1] done processing\n"
     ]
    }
   ],
   "source": [
    "%load_ext autoreload\n",
    "%autoreload 2\n",
    "model_generator = GenerateModelFile()\n",
    "model_generator.Generate(cuts_df, df_filled, query_item_list, output_bucket, folder_name)"
   ]
  },
  {
   "cell_type": "markdown",
   "id": "d92338c0",
   "metadata": {},
   "source": [
    "# Constraint Setting"
   ]
  },
  {
   "cell_type": "code",
   "execution_count": 30,
   "id": "68436db0-20c2-4211-b98e-54570603c515",
   "metadata": {},
   "outputs": [
    {
     "name": "stdout",
     "output_type": "stream",
     "text": [
      "Data Frame file saved\n"
     ]
    }
   ],
   "source": [
    "bounds = cuts_df.copy()\n",
    "bounds['MinWeight'] = 0.8\n",
    "bounds['MaxWeight'] = 1.2\n",
    "bounds\n",
    "\n",
    "# %load_ext autoreload\n",
    "# %autoreload 2\n",
    "constraint_file_generator = ConstraintFileGenerator(config_dict, analytical_file_df)\n",
    "constraint_file = constraint_file_generator.Generate(bounds)\n",
    "\n",
    "\n",
    "constraint_file.loc[constraint_file['Month'].isin(['Nov']), 'MinWeight'] = 0.7\n",
    "constraint_file.loc[constraint_file['Month'].isin(['Nov']), 'MaxWeight'] = 0.8\n",
    "\n",
    "constraint_file_generator.SaveFile(output_bucket, folder_name, constraint_file_name)"
   ]
  },
  {
   "cell_type": "code",
   "execution_count": 31,
   "id": "69b816bf-aa13-4980-8721-4195d32ace2d",
   "metadata": {},
   "outputs": [
    {
     "data": {
      "text/html": [
       "<div>\n",
       "<style scoped>\n",
       "    .dataframe tbody tr th:only-of-type {\n",
       "        vertical-align: middle;\n",
       "    }\n",
       "\n",
       "    .dataframe tbody tr th {\n",
       "        vertical-align: top;\n",
       "    }\n",
       "\n",
       "    .dataframe thead th {\n",
       "        text-align: right;\n",
       "    }\n",
       "</style>\n",
       "<table border=\"1\" class=\"dataframe\">\n",
       "  <thead>\n",
       "    <tr style=\"text-align: right;\">\n",
       "      <th></th>\n",
       "      <th>X</th>\n",
       "      <th>y</th>\n",
       "      <th>key_0</th>\n",
       "      <th>weekday_or_weekend</th>\n",
       "      <th>floor</th>\n",
       "      <th>AOV</th>\n",
       "      <th>ROAS</th>\n",
       "      <th>cap</th>\n",
       "    </tr>\n",
       "    <tr>\n",
       "      <th>region</th>\n",
       "      <th></th>\n",
       "      <th></th>\n",
       "      <th></th>\n",
       "      <th></th>\n",
       "      <th></th>\n",
       "      <th></th>\n",
       "      <th></th>\n",
       "      <th></th>\n",
       "    </tr>\n",
       "  </thead>\n",
       "  <tbody>\n",
       "    <tr>\n",
       "      <th>Europe</th>\n",
       "      <td>81563.56</td>\n",
       "      <td>21734.0</td>\n",
       "      <td>0.0</td>\n",
       "      <td>16</td>\n",
       "      <td>0</td>\n",
       "      <td>2063.36</td>\n",
       "      <td>82.15</td>\n",
       "      <td>4627.713327</td>\n",
       "    </tr>\n",
       "  </tbody>\n",
       "</table>\n",
       "</div>"
      ],
      "text/plain": [
       "               X        y  key_0  weekday_or_weekend  floor      AOV   ROAS  \\\n",
       "region                                                                        \n",
       "Europe  81563.56  21734.0    0.0                  16      0  2063.36  82.15   \n",
       "\n",
       "                cap  \n",
       "region               \n",
       "Europe  4627.713327  "
      ]
     },
     "execution_count": 31,
     "metadata": {},
     "output_type": "execute_result"
    }
   ],
   "source": [
    "#df_filled[(df_filled.ds>='2024-01-01')&(df_filled.ds<='2024-01-10')].groupby(by='region').sum(numeric_only=1)\n",
    "df_filled[(df_filled.ds>='2023-05-01')&(df_filled.ds<='2023-05-31')].groupby(by='region').sum(numeric_only=1)"
   ]
  },
  {
   "cell_type": "code",
   "execution_count": null,
   "id": "7be38463-8c7e-4b47-91ec-51607afd689d",
   "metadata": {},
   "outputs": [],
   "source": []
  }
 ],
 "metadata": {
  "environment": {
   "kernel": "conda-root-py",
   "name": "workbench-notebooks.m117",
   "type": "gcloud",
   "uri": "us-docker.pkg.dev/deeplearning-platform-release/gcr.io/workbench-notebooks:m117"
  },
  "kernelspec": {
   "display_name": "Python 3 (ipykernel) (Local)",
   "language": "python",
   "name": "conda-root-py"
  },
  "language_info": {
   "codemirror_mode": {
    "name": "ipython",
    "version": 3
   },
   "file_extension": ".py",
   "mimetype": "text/x-python",
   "name": "python",
   "nbconvert_exporter": "python",
   "pygments_lexer": "ipython3",
   "version": "3.10.13"
  }
 },
 "nbformat": 4,
 "nbformat_minor": 5
}
