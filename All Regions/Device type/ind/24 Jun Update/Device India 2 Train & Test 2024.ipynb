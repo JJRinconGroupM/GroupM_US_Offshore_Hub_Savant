{
 "cells": [
  {
   "cell_type": "code",
   "execution_count": 1,
   "id": "106a9eda-3059-4701-b0b6-415dcb38b5d0",
   "metadata": {},
   "outputs": [],
   "source": [
    "#pip install prophet\n",
    "#pip install pathos"
   ]
  },
  {
   "cell_type": "code",
   "execution_count": 2,
   "id": "81439665",
   "metadata": {
    "tags": []
   },
   "outputs": [],
   "source": [
    "import sys\n",
    "sys.path.append(str('/home/jupyter/SearchForecasting/'))\n",
    "from configparser import ConfigParser\n",
    "\n",
    "from repo.MyConfigParser import MyConfigParser\n",
    "\n",
    "from repo.LoadData import DataLoader\n",
    "from repo.BuildModel import GenerateModelFile, CreateModel\n",
    "from repo.Accuracy import AccuracyCalculator, ProphetParameterSearch, PlotAccuracyCharts\n",
    "from repo.FileGenerator import *"
   ]
  },
  {
   "cell_type": "code",
   "execution_count": 3,
   "id": "30322320",
   "metadata": {
    "tags": []
   },
   "outputs": [
    {
     "name": "stdout",
     "output_type": "stream",
     "text": [
      "06.05.2024\n"
     ]
    }
   ],
   "source": [
    "updated_config = ConfigParser()\n",
    "config_in_path = \"/home/jupyter/SearchForecasting/India/June 2024 Update/config ups india.ini\"\n",
    "updated_config.read(config_in_path)\n",
    "\n",
    "getdict = MyConfigParser()\n",
    "config_dict=getdict.GetDict(updated_config)\n",
    "\n",
    "region = config_dict['CLIENTINFO']['country']\n",
    "cutoff_month = config_dict['PROPHETSETTING']['cut_off_point']\n",
    "base_start = config_dict['PROPHETSETTING']['reference_start_date1']\n",
    "base_end = config_dict['PROPHETSETTING']['reference_end_date1']\n",
    "periods = config_dict['PROPHETSETTING']['periods']\n",
    "base_periods  = config_dict['PROPHETSETTING']['base_periods']\n",
    "\n",
    "training_query = config_dict[\"PROPHETSETTING\"][\"training_query\"]\n",
    "_input = config_dict[\"PROPHETSETTING\"][\"input\"]\n",
    "_output = config_dict[\"PROPHETSETTING\"][\"output\"]\n",
    "\n",
    "output_bucket = config_dict[\"FILEPATH\"][\"output_bucket\"]\n",
    "folder_name = config_dict[\"FILEPATH\"][\"folder_name\"]\n",
    "\n",
    "\n",
    "today = datetime.date.today().strftime(\"%m.%d.%Y\") #'03.10.2023' #\n",
    "print(today)\n",
    "base_path = config_dict[\"FILEPATH\"][\"base_path\"]\n",
    "\n",
    "boundary_df_in_path = base_path + config_dict[\"FILEPATH\"][\"boundary_df_in_path\"]\n",
    "daily_df_out_path = base_path + config_dict[\"FILEPATH\"][\"daily_df_out_path\"]\n",
    "analytical_file_path = base_path + config_dict[\"FILEPATH\"][\"analytical_file_path\"]\n",
    "cuts_df_in_path = base_path + config_dict[\"FILEPATH\"][\"cuts_df_in_path\"]\n",
    "plot_name = base_path + config_dict[\"FILEPATH\"][\"plot_name\"]\n",
    "constraint_file_name = base_path + config_dict[\"FILEPATH\"][\"constraint_file_name\"]"
   ]
  },
  {
   "cell_type": "code",
   "execution_count": 4,
   "id": "e0f97d3d-8027-448d-a40f-4bed644165e6",
   "metadata": {
    "tags": []
   },
   "outputs": [
    {
     "name": "stderr",
     "output_type": "stream",
     "text": [
      "/home/jupyter/SearchForecasting/repo/QueryingData.py:34: FutureWarning: DataFrame.fillna with 'method' is deprecated and will raise in a future version. Use obj.ffill() or obj.bfill() instead.\n",
      "  search_df.fillna(method = 'ffill', inplace = True)\n"
     ]
    },
    {
     "data": {
      "text/html": [
       "<div>\n",
       "<style scoped>\n",
       "    .dataframe tbody tr th:only-of-type {\n",
       "        vertical-align: middle;\n",
       "    }\n",
       "\n",
       "    .dataframe tbody tr th {\n",
       "        vertical-align: top;\n",
       "    }\n",
       "\n",
       "    .dataframe thead th {\n",
       "        text-align: right;\n",
       "    }\n",
       "</style>\n",
       "<table border=\"1\" class=\"dataframe\">\n",
       "  <thead>\n",
       "    <tr style=\"text-align: right;\">\n",
       "      <th></th>\n",
       "      <th>region</th>\n",
       "      <th>market</th>\n",
       "      <th>funnel</th>\n",
       "      <th>account_type</th>\n",
       "      <th>ds</th>\n",
       "      <th>X</th>\n",
       "      <th>y</th>\n",
       "    </tr>\n",
       "  </thead>\n",
       "  <tbody>\n",
       "    <tr>\n",
       "      <th>0</th>\n",
       "      <td>EMEA</td>\n",
       "      <td>India</td>\n",
       "      <td>-</td>\n",
       "      <td>Desktop</td>\n",
       "      <td>2022-01-01</td>\n",
       "      <td>55.37</td>\n",
       "      <td>49.0</td>\n",
       "    </tr>\n",
       "    <tr>\n",
       "      <th>1</th>\n",
       "      <td>EMEA</td>\n",
       "      <td>India</td>\n",
       "      <td>-</td>\n",
       "      <td>Desktop</td>\n",
       "      <td>2022-01-02</td>\n",
       "      <td>35.53</td>\n",
       "      <td>20.0</td>\n",
       "    </tr>\n",
       "    <tr>\n",
       "      <th>2</th>\n",
       "      <td>EMEA</td>\n",
       "      <td>India</td>\n",
       "      <td>-</td>\n",
       "      <td>Desktop</td>\n",
       "      <td>2022-01-03</td>\n",
       "      <td>223.41</td>\n",
       "      <td>199.0</td>\n",
       "    </tr>\n",
       "    <tr>\n",
       "      <th>3</th>\n",
       "      <td>EMEA</td>\n",
       "      <td>India</td>\n",
       "      <td>-</td>\n",
       "      <td>Desktop</td>\n",
       "      <td>2022-01-04</td>\n",
       "      <td>1593.64</td>\n",
       "      <td>245.0</td>\n",
       "    </tr>\n",
       "    <tr>\n",
       "      <th>4</th>\n",
       "      <td>EMEA</td>\n",
       "      <td>India</td>\n",
       "      <td>-</td>\n",
       "      <td>Desktop</td>\n",
       "      <td>2022-01-05</td>\n",
       "      <td>1125.09</td>\n",
       "      <td>202.0</td>\n",
       "    </tr>\n",
       "    <tr>\n",
       "      <th>...</th>\n",
       "      <td>...</td>\n",
       "      <td>...</td>\n",
       "      <td>...</td>\n",
       "      <td>...</td>\n",
       "      <td>...</td>\n",
       "      <td>...</td>\n",
       "      <td>...</td>\n",
       "    </tr>\n",
       "    <tr>\n",
       "      <th>1637</th>\n",
       "      <td>EMEA</td>\n",
       "      <td>India</td>\n",
       "      <td>-</td>\n",
       "      <td>Mobile &amp; Tablet</td>\n",
       "      <td>2024-04-26</td>\n",
       "      <td>38.79</td>\n",
       "      <td>1.0</td>\n",
       "    </tr>\n",
       "    <tr>\n",
       "      <th>1638</th>\n",
       "      <td>EMEA</td>\n",
       "      <td>India</td>\n",
       "      <td>-</td>\n",
       "      <td>Mobile &amp; Tablet</td>\n",
       "      <td>2024-04-27</td>\n",
       "      <td>22.58</td>\n",
       "      <td>1.0</td>\n",
       "    </tr>\n",
       "    <tr>\n",
       "      <th>1639</th>\n",
       "      <td>EMEA</td>\n",
       "      <td>India</td>\n",
       "      <td>-</td>\n",
       "      <td>Mobile &amp; Tablet</td>\n",
       "      <td>2024-04-28</td>\n",
       "      <td>9.90</td>\n",
       "      <td>1.0</td>\n",
       "    </tr>\n",
       "    <tr>\n",
       "      <th>1640</th>\n",
       "      <td>EMEA</td>\n",
       "      <td>India</td>\n",
       "      <td>-</td>\n",
       "      <td>Mobile &amp; Tablet</td>\n",
       "      <td>2024-04-29</td>\n",
       "      <td>22.46</td>\n",
       "      <td>3.0</td>\n",
       "    </tr>\n",
       "    <tr>\n",
       "      <th>1641</th>\n",
       "      <td>EMEA</td>\n",
       "      <td>India</td>\n",
       "      <td>-</td>\n",
       "      <td>Mobile &amp; Tablet</td>\n",
       "      <td>2024-04-30</td>\n",
       "      <td>33.32</td>\n",
       "      <td>7.0</td>\n",
       "    </tr>\n",
       "  </tbody>\n",
       "</table>\n",
       "<p>1642 rows × 7 columns</p>\n",
       "</div>"
      ],
      "text/plain": [
       "     region market funnel     account_type         ds        X      y\n",
       "0      EMEA  India      -          Desktop 2022-01-01    55.37   49.0\n",
       "1      EMEA  India      -          Desktop 2022-01-02    35.53   20.0\n",
       "2      EMEA  India      -          Desktop 2022-01-03   223.41  199.0\n",
       "3      EMEA  India      -          Desktop 2022-01-04  1593.64  245.0\n",
       "4      EMEA  India      -          Desktop 2022-01-05  1125.09  202.0\n",
       "...     ...    ...    ...              ...        ...      ...    ...\n",
       "1637   EMEA  India      -  Mobile & Tablet 2024-04-26    38.79    1.0\n",
       "1638   EMEA  India      -  Mobile & Tablet 2024-04-27    22.58    1.0\n",
       "1639   EMEA  India      -  Mobile & Tablet 2024-04-28     9.90    1.0\n",
       "1640   EMEA  India      -  Mobile & Tablet 2024-04-29    22.46    3.0\n",
       "1641   EMEA  India      -  Mobile & Tablet 2024-04-30    33.32    7.0\n",
       "\n",
       "[1642 rows x 7 columns]"
      ]
     },
     "execution_count": 4,
     "metadata": {},
     "output_type": "execute_result"
    }
   ],
   "source": [
    "daily_df = GetBQData(training_query, _input, _output)\n",
    "daily_df"
   ]
  },
  {
   "cell_type": "code",
   "execution_count": 5,
   "id": "38579596-177b-4de0-8bbe-5febb358d3f5",
   "metadata": {
    "tags": []
   },
   "outputs": [],
   "source": [
    "df = daily_df.copy()\n",
    "df = df.groupby(['market', 'account_type', 'funnel', 'ds']).sum().reset_index()\n",
    "\n",
    "# log Transformation\n",
    "# df['cost'] = np.log(df['cost'])\n",
    "# df.loc[(df['cost'] < 0) | (np.isinf(df['cost'])), 'cost'] = 0\n",
    "\n",
    "df.ds = pd.to_datetime(df.ds)\n",
    "df = df[~df[['ds', 'y']].isin([np.nan, np.inf, -np.inf]).any(axis=1)]\n",
    "\n",
    "#Combine Tablet and desktop together \n",
    "#For November data, use the daily average for that year to fill the missing data"
   ]
  },
  {
   "cell_type": "code",
   "execution_count": 6,
   "id": "f370e579",
   "metadata": {
    "tags": []
   },
   "outputs": [],
   "source": [
    "# df = daily_df.copy()\n",
    "# df.market = 'US'\n",
    "# df = df.groupby(['region', 'market', 'account_type', 'funnel', 'ds']).sum().reset_index()\n",
    "\n",
    "# # log Transformation\n",
    "# # df['cost'] = np.log(df['cost'])\n",
    "# # df.loc[(df['cost'] < 0) | (np.isinf(df['cost'])), 'cost'] = 0\n",
    "\n",
    "# df.ds = pd.to_datetime(df.ds)\n",
    "\n",
    "# df = df[~df[['ds', 'y']].isin([np.nan, np.inf, -np.inf]).any(axis=1)]\n",
    "# df = df[df.ds < cutoff_month]\n",
    "# # remove inactive days\n",
    "# df.drop(df[((df['ds'] >= '2021-08-01')&(df['ds'] <= '2021-10-31')) & ((df.account_type == 'Bing Ads') & (df.funnel == 'Brand'))].index,\n",
    "#        axis = 0, inplace = True)\n",
    "# df.drop(df[((df['ds'] >= '2019-03-01')&(df['ds'] <= '2019-08-31')) & ((df.account_type == 'Bing Ads') & (df.funnel == 'Brand'))].index,\n",
    "#        axis = 0, inplace = True)\n",
    "\n",
    "# df.drop(df[((df['ds'] >= '2021-07-01')&(df['ds'] <= '2021-10-31')) & ((df.account_type == 'Bing Ads') & (df.funnel == 'Generic'))].index,\n",
    "#        axis = 0, inplace = True)\n",
    "\n",
    "# # add regressors\n",
    "# df['anomaly_2021'] = df['ds'].apply(lambda x: 1 if (x >= datetime.datetime(2021,8,1))\\\n",
    "#                                      & (x <= datetime.datetime(2021,10,31)) else 0)\n",
    "# df['covid_year_dummy'] = 0\n",
    "# df.loc[(df['ds'] >= '2020-01-01') & (df['ds'] <= '2020-12-31'), 'Covid_Year_Dummy'] = 1\n",
    "\n",
    "# df['weekday_or_weekend'] = df['ds'].apply(lambda x: 1 if x.dayofweek > 4 else 0)\n",
    "\n",
    "# # set cap and floor for log regression\n",
    "# df['Month of Ds'] = df['ds'].dt.month_name()\n",
    "\n",
    "# df['floor'] = 0\n",
    "\n",
    "# boundary_df = pd.read_csv('Floor Cap Setting 2022.csv')\n",
    "# boundary_df.rename(columns = {'Account Type': 'account_type', 'Funnel':'funnel'}, inplace = True)\n",
    "# boundary_df.drop(['Market'], axis = 1, inplace = True)\n",
    "\n",
    "# df = pd.merge(df, boundary_df, on = ['account_type', 'funnel'])\n",
    "# df['cap'] = df.ROAS * df.X / df.AOV\n",
    "# df.loc[df.cap == 0, 'cap'] = df.cap.max()\n",
    "\n",
    "# # df.to_csv(f'Daily Data {today}.csv')\n",
    "# df.tail()\n",
    "\n",
    "#del df"
   ]
  },
  {
   "cell_type": "code",
   "execution_count": 7,
   "id": "13cc96c7-1f42-416d-994d-db7e26eac96a",
   "metadata": {
    "tags": []
   },
   "outputs": [],
   "source": [
    "df['ds'] = pd.to_datetime(df['ds'])"
   ]
  },
  {
   "cell_type": "code",
   "execution_count": 8,
   "id": "d0a23c11-282c-49fd-b729-0c882a21628a",
   "metadata": {
    "tags": []
   },
   "outputs": [
    {
     "name": "stderr",
     "output_type": "stream",
     "text": [
      "/var/tmp/ipykernel_23921/2616906414.py:29: FutureWarning: DataFrame.fillna with 'method' is deprecated and will raise in a future version. Use obj.ffill() or obj.bfill() instead.\n",
      "  filled_november_df[['region', 'market', 'funnel']] = df_2022_account_type[['region', 'market', 'funnel']].fillna(method='ffill').iloc[-1]\n",
      "/var/tmp/ipykernel_23921/2616906414.py:29: FutureWarning: Series.__getitem__ treating keys as positions is deprecated. In a future version, integer keys will always be treated as labels (consistent with DataFrame behavior). To access a value by position, use `ser.iloc[pos]`\n",
      "  filled_november_df[['region', 'market', 'funnel']] = df_2022_account_type[['region', 'market', 'funnel']].fillna(method='ffill').iloc[-1]\n",
      "/var/tmp/ipykernel_23921/2616906414.py:29: FutureWarning: Series.__getitem__ treating keys as positions is deprecated. In a future version, integer keys will always be treated as labels (consistent with DataFrame behavior). To access a value by position, use `ser.iloc[pos]`\n",
      "  filled_november_df[['region', 'market', 'funnel']] = df_2022_account_type[['region', 'market', 'funnel']].fillna(method='ffill').iloc[-1]\n",
      "/var/tmp/ipykernel_23921/2616906414.py:29: FutureWarning: Series.__getitem__ treating keys as positions is deprecated. In a future version, integer keys will always be treated as labels (consistent with DataFrame behavior). To access a value by position, use `ser.iloc[pos]`\n",
      "  filled_november_df[['region', 'market', 'funnel']] = df_2022_account_type[['region', 'market', 'funnel']].fillna(method='ffill').iloc[-1]\n",
      "/var/tmp/ipykernel_23921/2616906414.py:29: FutureWarning: DataFrame.fillna with 'method' is deprecated and will raise in a future version. Use obj.ffill() or obj.bfill() instead.\n",
      "  filled_november_df[['region', 'market', 'funnel']] = df_2022_account_type[['region', 'market', 'funnel']].fillna(method='ffill').iloc[-1]\n",
      "/var/tmp/ipykernel_23921/2616906414.py:29: FutureWarning: Series.__getitem__ treating keys as positions is deprecated. In a future version, integer keys will always be treated as labels (consistent with DataFrame behavior). To access a value by position, use `ser.iloc[pos]`\n",
      "  filled_november_df[['region', 'market', 'funnel']] = df_2022_account_type[['region', 'market', 'funnel']].fillna(method='ffill').iloc[-1]\n",
      "/var/tmp/ipykernel_23921/2616906414.py:29: FutureWarning: Series.__getitem__ treating keys as positions is deprecated. In a future version, integer keys will always be treated as labels (consistent with DataFrame behavior). To access a value by position, use `ser.iloc[pos]`\n",
      "  filled_november_df[['region', 'market', 'funnel']] = df_2022_account_type[['region', 'market', 'funnel']].fillna(method='ffill').iloc[-1]\n",
      "/var/tmp/ipykernel_23921/2616906414.py:29: FutureWarning: Series.__getitem__ treating keys as positions is deprecated. In a future version, integer keys will always be treated as labels (consistent with DataFrame behavior). To access a value by position, use `ser.iloc[pos]`\n",
      "  filled_november_df[['region', 'market', 'funnel']] = df_2022_account_type[['region', 'market', 'funnel']].fillna(method='ffill').iloc[-1]\n"
     ]
    },
    {
     "data": {
      "text/html": [
       "<div>\n",
       "<style scoped>\n",
       "    .dataframe tbody tr th:only-of-type {\n",
       "        vertical-align: middle;\n",
       "    }\n",
       "\n",
       "    .dataframe tbody tr th {\n",
       "        vertical-align: top;\n",
       "    }\n",
       "\n",
       "    .dataframe thead th {\n",
       "        text-align: right;\n",
       "    }\n",
       "</style>\n",
       "<table border=\"1\" class=\"dataframe\">\n",
       "  <thead>\n",
       "    <tr style=\"text-align: right;\">\n",
       "      <th></th>\n",
       "      <th>market</th>\n",
       "      <th>account_type</th>\n",
       "      <th>funnel</th>\n",
       "      <th>ds</th>\n",
       "      <th>region</th>\n",
       "      <th>X</th>\n",
       "      <th>y</th>\n",
       "    </tr>\n",
       "  </thead>\n",
       "  <tbody>\n",
       "    <tr>\n",
       "      <th>0</th>\n",
       "      <td>India</td>\n",
       "      <td>Desktop</td>\n",
       "      <td>-</td>\n",
       "      <td>2022-01-01</td>\n",
       "      <td>EMEA</td>\n",
       "      <td>55.370000</td>\n",
       "      <td>49.000000</td>\n",
       "    </tr>\n",
       "    <tr>\n",
       "      <th>1</th>\n",
       "      <td>India</td>\n",
       "      <td>Desktop</td>\n",
       "      <td>-</td>\n",
       "      <td>2022-01-02</td>\n",
       "      <td>EMEA</td>\n",
       "      <td>35.530000</td>\n",
       "      <td>20.000000</td>\n",
       "    </tr>\n",
       "    <tr>\n",
       "      <th>2</th>\n",
       "      <td>India</td>\n",
       "      <td>Desktop</td>\n",
       "      <td>-</td>\n",
       "      <td>2022-01-03</td>\n",
       "      <td>EMEA</td>\n",
       "      <td>223.410000</td>\n",
       "      <td>199.000000</td>\n",
       "    </tr>\n",
       "    <tr>\n",
       "      <th>3</th>\n",
       "      <td>India</td>\n",
       "      <td>Desktop</td>\n",
       "      <td>-</td>\n",
       "      <td>2022-01-04</td>\n",
       "      <td>EMEA</td>\n",
       "      <td>1593.640000</td>\n",
       "      <td>245.000000</td>\n",
       "    </tr>\n",
       "    <tr>\n",
       "      <th>4</th>\n",
       "      <td>India</td>\n",
       "      <td>Desktop</td>\n",
       "      <td>-</td>\n",
       "      <td>2022-01-05</td>\n",
       "      <td>EMEA</td>\n",
       "      <td>1125.090000</td>\n",
       "      <td>202.000000</td>\n",
       "    </tr>\n",
       "    <tr>\n",
       "      <th>...</th>\n",
       "      <td>...</td>\n",
       "      <td>...</td>\n",
       "      <td>...</td>\n",
       "      <td>...</td>\n",
       "      <td>...</td>\n",
       "      <td>...</td>\n",
       "      <td>...</td>\n",
       "    </tr>\n",
       "    <tr>\n",
       "      <th>1697</th>\n",
       "      <td>India</td>\n",
       "      <td>Mobile &amp; Tablet</td>\n",
       "      <td>-</td>\n",
       "      <td>2022-11-26</td>\n",
       "      <td>EMEA</td>\n",
       "      <td>125.320000</td>\n",
       "      <td>1.181818</td>\n",
       "    </tr>\n",
       "    <tr>\n",
       "      <th>1698</th>\n",
       "      <td>India</td>\n",
       "      <td>Mobile &amp; Tablet</td>\n",
       "      <td>-</td>\n",
       "      <td>2022-11-27</td>\n",
       "      <td>EMEA</td>\n",
       "      <td>136.405455</td>\n",
       "      <td>1.272727</td>\n",
       "    </tr>\n",
       "    <tr>\n",
       "      <th>1699</th>\n",
       "      <td>India</td>\n",
       "      <td>Mobile &amp; Tablet</td>\n",
       "      <td>-</td>\n",
       "      <td>2022-11-28</td>\n",
       "      <td>EMEA</td>\n",
       "      <td>146.394545</td>\n",
       "      <td>1.727273</td>\n",
       "    </tr>\n",
       "    <tr>\n",
       "      <th>1700</th>\n",
       "      <td>India</td>\n",
       "      <td>Mobile &amp; Tablet</td>\n",
       "      <td>-</td>\n",
       "      <td>2022-11-29</td>\n",
       "      <td>EMEA</td>\n",
       "      <td>148.750000</td>\n",
       "      <td>1.700000</td>\n",
       "    </tr>\n",
       "    <tr>\n",
       "      <th>1701</th>\n",
       "      <td>India</td>\n",
       "      <td>Mobile &amp; Tablet</td>\n",
       "      <td>-</td>\n",
       "      <td>2022-11-30</td>\n",
       "      <td>EMEA</td>\n",
       "      <td>120.755000</td>\n",
       "      <td>1.700000</td>\n",
       "    </tr>\n",
       "  </tbody>\n",
       "</table>\n",
       "<p>1702 rows × 7 columns</p>\n",
       "</div>"
      ],
      "text/plain": [
       "     market     account_type funnel         ds region            X           y\n",
       "0     India          Desktop      - 2022-01-01   EMEA    55.370000   49.000000\n",
       "1     India          Desktop      - 2022-01-02   EMEA    35.530000   20.000000\n",
       "2     India          Desktop      - 2022-01-03   EMEA   223.410000  199.000000\n",
       "3     India          Desktop      - 2022-01-04   EMEA  1593.640000  245.000000\n",
       "4     India          Desktop      - 2022-01-05   EMEA  1125.090000  202.000000\n",
       "...     ...              ...    ...        ...    ...          ...         ...\n",
       "1697  India  Mobile & Tablet      - 2022-11-26   EMEA   125.320000    1.181818\n",
       "1698  India  Mobile & Tablet      - 2022-11-27   EMEA   136.405455    1.272727\n",
       "1699  India  Mobile & Tablet      - 2022-11-28   EMEA   146.394545    1.727273\n",
       "1700  India  Mobile & Tablet      - 2022-11-29   EMEA   148.750000    1.700000\n",
       "1701  India  Mobile & Tablet      - 2022-11-30   EMEA   120.755000    1.700000\n",
       "\n",
       "[1702 rows x 7 columns]"
      ]
     },
     "execution_count": 8,
     "metadata": {},
     "output_type": "execute_result"
    }
   ],
   "source": [
    "# Filter the data for the year 2022\n",
    "df_2022 = df[df['ds'].dt.year == 2022]\n",
    "\n",
    "# Get the unique account types\n",
    "account_types = df['account_type'].unique()\n",
    "\n",
    "# Initialize an empty dataframe to store the filled November data\n",
    "filled_november_data = pd.DataFrame()\n",
    "\n",
    "# Loop through the unique account types\n",
    "for account_type in account_types:\n",
    "    # Filter the data for the current account type\n",
    "    df_2022_account_type = df_2022[df_2022['account_type'] == account_type]\n",
    "\n",
    "    # Group the data by day of the month and calculate the mean for X and y columns\n",
    "    daily_avg_2022 = df_2022_account_type.groupby(df_2022_account_type['ds'].dt.day)[['X', 'y']].mean()\n",
    "\n",
    "    # Create a new dataframe for November 2022 with date range from 1st to 30th\n",
    "    november_2022 = pd.date_range(start='2022-11-01', end='2022-11-30', freq='D')\n",
    "    november_df = pd.DataFrame(november_2022, columns=['ds'])\n",
    "\n",
    "    # Merge the daily averages with the November dataframe\n",
    "    filled_november_df = november_df.merge(daily_avg_2022, left_on=november_df['ds'].dt.day, right_index=True)\n",
    "\n",
    "    # Update the 'ds' column with the correct dates for November 2022\n",
    "    filled_november_df['ds'] = november_2022\n",
    "\n",
    "    # Forward-fill the missing values in region, market, funnel, and account_type columns\n",
    "    filled_november_df[['region', 'market', 'funnel']] = df_2022_account_type[['region', 'market', 'funnel']].fillna(method='ffill').iloc[-1]\n",
    "    filled_november_df['account_type'] = account_type\n",
    "\n",
    "    # Append the filled November data for the current account type to the filled_november_data dataframe\n",
    "    filled_november_data = pd.concat([filled_november_data, filled_november_df], ignore_index=True)\n",
    "\n",
    "# Append the filled November data to the original dataframe\n",
    "df_filled = pd.concat([df, filled_november_data], ignore_index=True).drop(columns='key_0')\n",
    "df_filled"
   ]
  },
  {
   "cell_type": "code",
   "execution_count": 9,
   "id": "97479623-5bf7-49f5-9ca6-31bbc219bda3",
   "metadata": {},
   "outputs": [],
   "source": [
    "#missing_data_df = pd.DataFrame(missing_data)\n",
    "#df = pd.concat([df, missing_data_df], ignore_index=True)"
   ]
  },
  {
   "cell_type": "code",
   "execution_count": 10,
   "id": "549cac2a-af3e-4b0a-ad67-7bcaaf0befc6",
   "metadata": {
    "tags": []
   },
   "outputs": [
    {
     "data": {
      "text/html": [
       "<div>\n",
       "<style scoped>\n",
       "    .dataframe tbody tr th:only-of-type {\n",
       "        vertical-align: middle;\n",
       "    }\n",
       "\n",
       "    .dataframe tbody tr th {\n",
       "        vertical-align: top;\n",
       "    }\n",
       "\n",
       "    .dataframe thead th {\n",
       "        text-align: right;\n",
       "    }\n",
       "</style>\n",
       "<table border=\"1\" class=\"dataframe\">\n",
       "  <thead>\n",
       "    <tr style=\"text-align: right;\">\n",
       "      <th></th>\n",
       "      <th>market</th>\n",
       "      <th>account_type</th>\n",
       "      <th>funnel</th>\n",
       "      <th>ds</th>\n",
       "      <th>region</th>\n",
       "      <th>X</th>\n",
       "      <th>y</th>\n",
       "      <th>weekday_or_weekend</th>\n",
       "      <th>Month of Ds</th>\n",
       "      <th>floor</th>\n",
       "      <th>AOV</th>\n",
       "      <th>ROAS</th>\n",
       "      <th>cap</th>\n",
       "    </tr>\n",
       "  </thead>\n",
       "  <tbody>\n",
       "    <tr>\n",
       "      <th>0</th>\n",
       "      <td>India</td>\n",
       "      <td>Desktop</td>\n",
       "      <td>-</td>\n",
       "      <td>2022-01-01</td>\n",
       "      <td>EMEA</td>\n",
       "      <td>55.370000</td>\n",
       "      <td>49.000000</td>\n",
       "      <td>1</td>\n",
       "      <td>January</td>\n",
       "      <td>0</td>\n",
       "      <td>103.043417</td>\n",
       "      <td>17.666048</td>\n",
       "      <td>9.492786</td>\n",
       "    </tr>\n",
       "    <tr>\n",
       "      <th>1</th>\n",
       "      <td>India</td>\n",
       "      <td>Desktop</td>\n",
       "      <td>-</td>\n",
       "      <td>2022-01-02</td>\n",
       "      <td>EMEA</td>\n",
       "      <td>35.530000</td>\n",
       "      <td>20.000000</td>\n",
       "      <td>1</td>\n",
       "      <td>January</td>\n",
       "      <td>0</td>\n",
       "      <td>103.043417</td>\n",
       "      <td>17.666048</td>\n",
       "      <td>6.091361</td>\n",
       "    </tr>\n",
       "    <tr>\n",
       "      <th>2</th>\n",
       "      <td>India</td>\n",
       "      <td>Desktop</td>\n",
       "      <td>-</td>\n",
       "      <td>2022-01-03</td>\n",
       "      <td>EMEA</td>\n",
       "      <td>223.410000</td>\n",
       "      <td>199.000000</td>\n",
       "      <td>0</td>\n",
       "      <td>January</td>\n",
       "      <td>0</td>\n",
       "      <td>103.043417</td>\n",
       "      <td>17.666048</td>\n",
       "      <td>38.302027</td>\n",
       "    </tr>\n",
       "    <tr>\n",
       "      <th>3</th>\n",
       "      <td>India</td>\n",
       "      <td>Desktop</td>\n",
       "      <td>-</td>\n",
       "      <td>2022-01-04</td>\n",
       "      <td>EMEA</td>\n",
       "      <td>1593.640000</td>\n",
       "      <td>245.000000</td>\n",
       "      <td>0</td>\n",
       "      <td>January</td>\n",
       "      <td>0</td>\n",
       "      <td>103.043417</td>\n",
       "      <td>17.666048</td>\n",
       "      <td>273.218042</td>\n",
       "    </tr>\n",
       "    <tr>\n",
       "      <th>4</th>\n",
       "      <td>India</td>\n",
       "      <td>Desktop</td>\n",
       "      <td>-</td>\n",
       "      <td>2022-01-05</td>\n",
       "      <td>EMEA</td>\n",
       "      <td>1125.090000</td>\n",
       "      <td>202.000000</td>\n",
       "      <td>0</td>\n",
       "      <td>January</td>\n",
       "      <td>0</td>\n",
       "      <td>103.043417</td>\n",
       "      <td>17.666048</td>\n",
       "      <td>192.888536</td>\n",
       "    </tr>\n",
       "    <tr>\n",
       "      <th>...</th>\n",
       "      <td>...</td>\n",
       "      <td>...</td>\n",
       "      <td>...</td>\n",
       "      <td>...</td>\n",
       "      <td>...</td>\n",
       "      <td>...</td>\n",
       "      <td>...</td>\n",
       "      <td>...</td>\n",
       "      <td>...</td>\n",
       "      <td>...</td>\n",
       "      <td>...</td>\n",
       "      <td>...</td>\n",
       "      <td>...</td>\n",
       "    </tr>\n",
       "    <tr>\n",
       "      <th>1697</th>\n",
       "      <td>India</td>\n",
       "      <td>Mobile &amp; Tablet</td>\n",
       "      <td>-</td>\n",
       "      <td>2022-11-26</td>\n",
       "      <td>EMEA</td>\n",
       "      <td>125.320000</td>\n",
       "      <td>1.181818</td>\n",
       "      <td>1</td>\n",
       "      <td>November</td>\n",
       "      <td>0</td>\n",
       "      <td>56.697681</td>\n",
       "      <td>1.161865</td>\n",
       "      <td>2.568092</td>\n",
       "    </tr>\n",
       "    <tr>\n",
       "      <th>1698</th>\n",
       "      <td>India</td>\n",
       "      <td>Mobile &amp; Tablet</td>\n",
       "      <td>-</td>\n",
       "      <td>2022-11-27</td>\n",
       "      <td>EMEA</td>\n",
       "      <td>136.405455</td>\n",
       "      <td>1.272727</td>\n",
       "      <td>1</td>\n",
       "      <td>November</td>\n",
       "      <td>0</td>\n",
       "      <td>56.697681</td>\n",
       "      <td>1.161865</td>\n",
       "      <td>2.795259</td>\n",
       "    </tr>\n",
       "    <tr>\n",
       "      <th>1699</th>\n",
       "      <td>India</td>\n",
       "      <td>Mobile &amp; Tablet</td>\n",
       "      <td>-</td>\n",
       "      <td>2022-11-28</td>\n",
       "      <td>EMEA</td>\n",
       "      <td>146.394545</td>\n",
       "      <td>1.727273</td>\n",
       "      <td>0</td>\n",
       "      <td>November</td>\n",
       "      <td>0</td>\n",
       "      <td>56.697681</td>\n",
       "      <td>1.161865</td>\n",
       "      <td>2.999958</td>\n",
       "    </tr>\n",
       "    <tr>\n",
       "      <th>1700</th>\n",
       "      <td>India</td>\n",
       "      <td>Mobile &amp; Tablet</td>\n",
       "      <td>-</td>\n",
       "      <td>2022-11-29</td>\n",
       "      <td>EMEA</td>\n",
       "      <td>148.750000</td>\n",
       "      <td>1.700000</td>\n",
       "      <td>0</td>\n",
       "      <td>November</td>\n",
       "      <td>0</td>\n",
       "      <td>56.697681</td>\n",
       "      <td>1.161865</td>\n",
       "      <td>3.048227</td>\n",
       "    </tr>\n",
       "    <tr>\n",
       "      <th>1701</th>\n",
       "      <td>India</td>\n",
       "      <td>Mobile &amp; Tablet</td>\n",
       "      <td>-</td>\n",
       "      <td>2022-11-30</td>\n",
       "      <td>EMEA</td>\n",
       "      <td>120.755000</td>\n",
       "      <td>1.700000</td>\n",
       "      <td>0</td>\n",
       "      <td>November</td>\n",
       "      <td>0</td>\n",
       "      <td>56.697681</td>\n",
       "      <td>1.161865</td>\n",
       "      <td>2.474545</td>\n",
       "    </tr>\n",
       "  </tbody>\n",
       "</table>\n",
       "<p>1702 rows × 13 columns</p>\n",
       "</div>"
      ],
      "text/plain": [
       "     market     account_type funnel         ds region            X  \\\n",
       "0     India          Desktop      - 2022-01-01   EMEA    55.370000   \n",
       "1     India          Desktop      - 2022-01-02   EMEA    35.530000   \n",
       "2     India          Desktop      - 2022-01-03   EMEA   223.410000   \n",
       "3     India          Desktop      - 2022-01-04   EMEA  1593.640000   \n",
       "4     India          Desktop      - 2022-01-05   EMEA  1125.090000   \n",
       "...     ...              ...    ...        ...    ...          ...   \n",
       "1697  India  Mobile & Tablet      - 2022-11-26   EMEA   125.320000   \n",
       "1698  India  Mobile & Tablet      - 2022-11-27   EMEA   136.405455   \n",
       "1699  India  Mobile & Tablet      - 2022-11-28   EMEA   146.394545   \n",
       "1700  India  Mobile & Tablet      - 2022-11-29   EMEA   148.750000   \n",
       "1701  India  Mobile & Tablet      - 2022-11-30   EMEA   120.755000   \n",
       "\n",
       "               y  weekday_or_weekend Month of Ds  floor         AOV  \\\n",
       "0      49.000000                   1     January      0  103.043417   \n",
       "1      20.000000                   1     January      0  103.043417   \n",
       "2     199.000000                   0     January      0  103.043417   \n",
       "3     245.000000                   0     January      0  103.043417   \n",
       "4     202.000000                   0     January      0  103.043417   \n",
       "...          ...                 ...         ...    ...         ...   \n",
       "1697    1.181818                   1    November      0   56.697681   \n",
       "1698    1.272727                   1    November      0   56.697681   \n",
       "1699    1.727273                   0    November      0   56.697681   \n",
       "1700    1.700000                   0    November      0   56.697681   \n",
       "1701    1.700000                   0    November      0   56.697681   \n",
       "\n",
       "           ROAS         cap  \n",
       "0     17.666048    9.492786  \n",
       "1     17.666048    6.091361  \n",
       "2     17.666048   38.302027  \n",
       "3     17.666048  273.218042  \n",
       "4     17.666048  192.888536  \n",
       "...         ...         ...  \n",
       "1697   1.161865    2.568092  \n",
       "1698   1.161865    2.795259  \n",
       "1699   1.161865    2.999958  \n",
       "1700   1.161865    3.048227  \n",
       "1701   1.161865    2.474545  \n",
       "\n",
       "[1702 rows x 13 columns]"
      ]
     },
     "execution_count": 10,
     "metadata": {},
     "output_type": "execute_result"
    }
   ],
   "source": [
    "df_filled['weekday_or_weekend'] = df_filled['ds'].apply(lambda x: 1 if x.dayofweek > 4 else 0)\n",
    "\n",
    "# set cap and floor for log regression\n",
    "df_filled['Month of Ds'] = df_filled['ds'].dt.month_name()\n",
    "\n",
    "df_filled['floor'] = 0\n",
    "\n",
    "boundary_df = pd.read_csv(base_path + 'India Floor Cap Setting June 2024.csv')\n",
    "boundary_df.rename(columns = {'Account Type': 'account_type', 'Funnel':'funnel'}, inplace = True)\n",
    "boundary_df.drop(['Market'], axis = 1, inplace = True)\n",
    "\n",
    "df_filled = pd.merge(df_filled, boundary_df, on = ['account_type', 'funnel'])\n",
    "df_filled['cap'] = df_filled.ROAS * df_filled.X / df_filled.AOV\n",
    "df_filled.loc[df_filled.cap == 0, 'cap'] = df_filled.cap.max()\n",
    "\n",
    "df_filled.to_csv(f'Daily Data {today}.csv')\n",
    "df_filled.to_csv(base_path + 'df_filled.csv')\n",
    "df_filled"
   ]
  },
  {
   "cell_type": "markdown",
   "id": "774b147c",
   "metadata": {},
   "source": [
    "# Analytical File Generator"
   ]
  },
  {
   "cell_type": "code",
   "execution_count": 11,
   "id": "19844efe-b38e-4fc0-ae9e-f5649a8805cd",
   "metadata": {
    "tags": []
   },
   "outputs": [
    {
     "name": "stderr",
     "output_type": "stream",
     "text": [
      "/home/jupyter/SearchForecasting/repo/QueryingData.py:34: FutureWarning: DataFrame.fillna with 'method' is deprecated and will raise in a future version. Use obj.ffill() or obj.bfill() instead.\n",
      "  search_df.fillna(method = 'ffill', inplace = True)\n"
     ]
    }
   ],
   "source": [
    "generator = AnalyticalFileGenerator(config_dict)\n",
    "analytical_file_df = generator.generate()\n",
    "analytical_file_df = pd.merge(analytical_file_df, boundary_df, on = ['account_type', 'funnel'])\n",
    "analytical_file_df.to_csv(analytical_file_path)"
   ]
  },
  {
   "cell_type": "code",
   "execution_count": 12,
   "id": "5bdb4876-a3ad-4c2a-ab3d-6fb36770bf46",
   "metadata": {
    "tags": []
   },
   "outputs": [
    {
     "data": {
      "text/plain": [
       "['India_Desktop_-_Apr_2024',\n",
       " 'India_Desktop_-_Aug_2024',\n",
       " 'India_Desktop_-_Dec_2024',\n",
       " 'India_Desktop_-_Jul_2024',\n",
       " 'India_Desktop_-_Jun_2024',\n",
       " 'India_Desktop_-_May_2024',\n",
       " 'India_Desktop_-_Nov_2024',\n",
       " 'India_Desktop_-_Oct_2024',\n",
       " 'India_Desktop_-_Sep_2024',\n",
       " 'India_Mobile_&_Tablet_-_Apr_2024',\n",
       " 'India_Mobile_&_Tablet_-_Aug_2024',\n",
       " 'India_Mobile_&_Tablet_-_Dec_2024',\n",
       " 'India_Mobile_&_Tablet_-_Jul_2024',\n",
       " 'India_Mobile_&_Tablet_-_Jun_2024',\n",
       " 'India_Mobile_&_Tablet_-_May_2024',\n",
       " 'India_Mobile_&_Tablet_-_Nov_2024',\n",
       " 'India_Mobile_&_Tablet_-_Oct_2024',\n",
       " 'India_Mobile_&_Tablet_-_Sep_2024']"
      ]
     },
     "execution_count": 12,
     "metadata": {},
     "output_type": "execute_result"
    }
   ],
   "source": [
    "[col for col in analytical_file_df.columns if 'India' in col]"
   ]
  },
  {
   "cell_type": "code",
   "execution_count": 13,
   "id": "15bde631-43ff-4936-8868-1de8f69dd48d",
   "metadata": {
    "tags": []
   },
   "outputs": [
    {
     "data": {
      "text/html": [
       "<div>\n",
       "<style scoped>\n",
       "    .dataframe tbody tr th:only-of-type {\n",
       "        vertical-align: middle;\n",
       "    }\n",
       "\n",
       "    .dataframe tbody tr th {\n",
       "        vertical-align: top;\n",
       "    }\n",
       "\n",
       "    .dataframe thead th {\n",
       "        text-align: right;\n",
       "    }\n",
       "</style>\n",
       "<table border=\"1\" class=\"dataframe\">\n",
       "  <thead>\n",
       "    <tr style=\"text-align: right;\">\n",
       "      <th></th>\n",
       "      <th>market</th>\n",
       "      <th>account_type</th>\n",
       "      <th>funnel</th>\n",
       "      <th>periods_for_acc_cal</th>\n",
       "      <th>changepoint_prior_scale</th>\n",
       "      <th>seasonality_prior_scale</th>\n",
       "      <th>holidays_prior_scale</th>\n",
       "      <th>seasonality_mode</th>\n",
       "      <th>input_mode</th>\n",
       "      <th>weekday_or_weekend</th>\n",
       "      <th>...</th>\n",
       "      <th>anomaly_2021</th>\n",
       "      <th>generic_cost_split</th>\n",
       "      <th>competitor_cost_split</th>\n",
       "      <th>new_confirmed</th>\n",
       "      <th>power</th>\n",
       "      <th>growth</th>\n",
       "      <th>MAPE</th>\n",
       "      <th>period_AE</th>\n",
       "      <th>periods</th>\n",
       "      <th>cutoff_month</th>\n",
       "    </tr>\n",
       "  </thead>\n",
       "  <tbody>\n",
       "    <tr>\n",
       "      <th>0</th>\n",
       "      <td>India</td>\n",
       "      <td>Desktop</td>\n",
       "      <td>-</td>\n",
       "      <td>183</td>\n",
       "      <td>0.05</td>\n",
       "      <td>1.0</td>\n",
       "      <td>0.1</td>\n",
       "      <td>additive</td>\n",
       "      <td>multiplicative</td>\n",
       "      <td>multiplicative</td>\n",
       "      <td>...</td>\n",
       "      <td>na</td>\n",
       "      <td>na</td>\n",
       "      <td>na</td>\n",
       "      <td>na</td>\n",
       "      <td>na</td>\n",
       "      <td>logistic</td>\n",
       "      <td>9.65</td>\n",
       "      <td>9.85</td>\n",
       "      <td>251.0</td>\n",
       "      <td>2024-04-25</td>\n",
       "    </tr>\n",
       "    <tr>\n",
       "      <th>1</th>\n",
       "      <td>India</td>\n",
       "      <td>Mobile &amp; Tablet</td>\n",
       "      <td>-</td>\n",
       "      <td>183</td>\n",
       "      <td>0.05</td>\n",
       "      <td>1.0</td>\n",
       "      <td>0.1</td>\n",
       "      <td>multiplicative</td>\n",
       "      <td>multiplicative</td>\n",
       "      <td>multiplicative</td>\n",
       "      <td>...</td>\n",
       "      <td>na</td>\n",
       "      <td>na</td>\n",
       "      <td>na</td>\n",
       "      <td>na</td>\n",
       "      <td>na</td>\n",
       "      <td>logistic</td>\n",
       "      <td>11.95</td>\n",
       "      <td>0.54</td>\n",
       "      <td>251.0</td>\n",
       "      <td>2024-04-25</td>\n",
       "    </tr>\n",
       "  </tbody>\n",
       "</table>\n",
       "<p>2 rows × 23 columns</p>\n",
       "</div>"
      ],
      "text/plain": [
       "  market     account_type funnel  periods_for_acc_cal  \\\n",
       "0  India          Desktop      -                  183   \n",
       "1  India  Mobile & Tablet      -                  183   \n",
       "\n",
       "   changepoint_prior_scale  seasonality_prior_scale  holidays_prior_scale  \\\n",
       "0                     0.05                      1.0                   0.1   \n",
       "1                     0.05                      1.0                   0.1   \n",
       "\n",
       "  seasonality_mode      input_mode weekday_or_weekend  ... anomaly_2021  \\\n",
       "0         additive  multiplicative     multiplicative  ...           na   \n",
       "1   multiplicative  multiplicative     multiplicative  ...           na   \n",
       "\n",
       "  generic_cost_split competitor_cost_split new_confirmed power    growth  \\\n",
       "0                 na                    na            na    na  logistic   \n",
       "1                 na                    na            na    na  logistic   \n",
       "\n",
       "    MAPE period_AE periods  cutoff_month  \n",
       "0   9.65      9.85   251.0    2024-04-25  \n",
       "1  11.95      0.54   251.0    2024-04-25  \n",
       "\n",
       "[2 rows x 23 columns]"
      ]
     },
     "execution_count": 13,
     "metadata": {},
     "output_type": "execute_result"
    }
   ],
   "source": [
    "cuts_df = pd.read_csv(base_path + region + ' Breakdown June 2024.csv')\n",
    "cuts_df['periods'] = periods\n",
    "cuts_df['periods_for_acc_cal'] = 183\n",
    "cuts_df['cutoff_month'] = cutoff_month\n",
    "# cuts_df.account_type = 'unified'\n",
    "cuts_df.input_mode = 'multiplicative'\n",
    "query_item_list = [query_item for query_item in [config_dict[\"CLIENTINFO\"][\"breakdown1\"], \\\n",
    "                             config_dict[\"CLIENTINFO\"][\"breakdown2\"], \\\n",
    "                             config_dict[\"CLIENTINFO\"][\"breakdown3\"], \\\n",
    "                             config_dict[\"CLIENTINFO\"][\"breakdown4\"]]\n",
    "                             if query_item != None]\n",
    "cuts_df.drop(columns='Unnamed: 0', inplace=True)\n",
    "cuts_df"
   ]
  },
  {
   "cell_type": "markdown",
   "id": "c0705169",
   "metadata": {},
   "source": [
    "# Accuracy Calculator"
   ]
  },
  {
   "cell_type": "markdown",
   "id": "c2018159-3cec-4e88-9683-a4072962b20a",
   "metadata": {},
   "source": [
    "generic_df = pd.read_csv(\"record_df 2023-08-16 18:16:20 best result.csv\")\n",
    "generic_df"
   ]
  },
  {
   "cell_type": "code",
   "execution_count": 14,
   "id": "914727bf",
   "metadata": {
    "tags": []
   },
   "outputs": [
    {
     "name": "stderr",
     "output_type": "stream",
     "text": [
      "/opt/conda/lib/python3.10/site-packages/holidays/countries/india.py:100: Warning: Diwali and Holi holidays available from 2001 to 2030 only\n",
      "  warnings.warn(warning_msg, Warning)\n",
      "03:58:39 - cmdstanpy - INFO - Chain [1] start processing\n",
      "03:58:39 - cmdstanpy - INFO - Chain [1] done processing\n",
      "/home/jupyter/SearchForecasting/repo/Accuracy.py:267: FutureWarning: The behavior of DataFrame concatenation with empty or all-NA entries is deprecated. In a future version, this will no longer exclude empty or all-NA columns when determining the result dtypes. To retain the old behavior, exclude the relevant entries before the concat operation.\n",
      "  self.monthly_acc_df_temp = pd.concat([self.monthly_acc_df_temp, monthly_acc_df], ignore_index=True)\n",
      "03:58:40 - cmdstanpy - INFO - Chain [1] start processing\n",
      "03:58:40 - cmdstanpy - INFO - Chain [1] done processing\n"
     ]
    },
    {
     "name": "stdout",
     "output_type": "stream",
     "text": [
      "It's underpredicted.\n",
      "Monthly Error: 17.76 Period MAE: 17.76\n",
      "It's overpredicted.\n",
      "Monthly Error: 43.69 Period MAE: 4.93\n"
     ]
    }
   ],
   "source": [
    "# %load_ext autoreload\n",
    "# %autoreload 2\n",
    "\n",
    "\n",
    "calculator = AccuracyCalculator()\n",
    "accuracy_df = calculator.CalculateAccuracy(cuts_df, df_filled, query_item_list)\n",
    "# calculator.SaveFile()"
   ]
  },
  {
   "cell_type": "code",
   "execution_count": 15,
   "id": "30b4d7b9-f202-4563-a6a3-feec5729d62e",
   "metadata": {
    "tags": []
   },
   "outputs": [],
   "source": [
    "accuracy_df.to_csv(base_path + 'test_Acc.csv')"
   ]
  },
  {
   "cell_type": "code",
   "execution_count": 16,
   "id": "6e9a33d2",
   "metadata": {
    "tags": []
   },
   "outputs": [
    {
     "data": {
      "text/html": [
       "<div>\n",
       "<style scoped>\n",
       "    .dataframe tbody tr th:only-of-type {\n",
       "        vertical-align: middle;\n",
       "    }\n",
       "\n",
       "    .dataframe tbody tr th {\n",
       "        vertical-align: top;\n",
       "    }\n",
       "\n",
       "    .dataframe thead th {\n",
       "        text-align: right;\n",
       "    }\n",
       "</style>\n",
       "<table border=\"1\" class=\"dataframe\">\n",
       "  <thead>\n",
       "    <tr style=\"text-align: right;\">\n",
       "      <th></th>\n",
       "      <th>Actual</th>\n",
       "      <th>Forecast</th>\n",
       "      <th>Percentage Error</th>\n",
       "      <th>MAPE</th>\n",
       "      <th>Forecast Period MAE</th>\n",
       "    </tr>\n",
       "    <tr>\n",
       "      <th>account_type</th>\n",
       "      <th></th>\n",
       "      <th></th>\n",
       "      <th></th>\n",
       "      <th></th>\n",
       "      <th></th>\n",
       "    </tr>\n",
       "  </thead>\n",
       "  <tbody>\n",
       "    <tr>\n",
       "      <th>Desktop</th>\n",
       "      <td>-4509.571429</td>\n",
       "      <td>-3691.058571</td>\n",
       "      <td>84.475714</td>\n",
       "      <td>82.24</td>\n",
       "      <td>82.24</td>\n",
       "    </tr>\n",
       "    <tr>\n",
       "      <th>Mobile &amp; Tablet</th>\n",
       "      <td>41.000000</td>\n",
       "      <td>38.091429</td>\n",
       "      <td>113.052857</td>\n",
       "      <td>56.31</td>\n",
       "      <td>95.07</td>\n",
       "    </tr>\n",
       "  </tbody>\n",
       "</table>\n",
       "</div>"
      ],
      "text/plain": [
       "                      Actual     Forecast  Percentage Error   MAPE  \\\n",
       "account_type                                                         \n",
       "Desktop         -4509.571429 -3691.058571         84.475714  82.24   \n",
       "Mobile & Tablet    41.000000    38.091429        113.052857  56.31   \n",
       "\n",
       "                 Forecast Period MAE  \n",
       "account_type                          \n",
       "Desktop                        82.24  \n",
       "Mobile & Tablet                95.07  "
      ]
     },
     "execution_count": 16,
     "metadata": {},
     "output_type": "execute_result"
    }
   ],
   "source": [
    "# This is to convert error metrics to accuracy. Note the column names won't change\n",
    "100-accuracy_df.groupby(['account_type']).mean(numeric_only=1)"
   ]
  },
  {
   "cell_type": "code",
   "execution_count": 17,
   "id": "759cf7e6-36fd-406f-9206-9a3e2a79a69c",
   "metadata": {
    "tags": []
   },
   "outputs": [
    {
     "data": {
      "text/html": [
       "<div>\n",
       "<style scoped>\n",
       "    .dataframe tbody tr th:only-of-type {\n",
       "        vertical-align: middle;\n",
       "    }\n",
       "\n",
       "    .dataframe tbody tr th {\n",
       "        vertical-align: top;\n",
       "    }\n",
       "\n",
       "    .dataframe thead th {\n",
       "        text-align: right;\n",
       "    }\n",
       "</style>\n",
       "<table border=\"1\" class=\"dataframe\">\n",
       "  <thead>\n",
       "    <tr style=\"text-align: right;\">\n",
       "      <th></th>\n",
       "      <th>Actual</th>\n",
       "      <th>Forecast</th>\n",
       "      <th>Percentage Error</th>\n",
       "      <th>MAPE</th>\n",
       "      <th>Forecast Period MAE</th>\n",
       "    </tr>\n",
       "    <tr>\n",
       "      <th>market</th>\n",
       "      <th></th>\n",
       "      <th></th>\n",
       "      <th></th>\n",
       "      <th></th>\n",
       "      <th></th>\n",
       "    </tr>\n",
       "  </thead>\n",
       "  <tbody>\n",
       "    <tr>\n",
       "      <th>India</th>\n",
       "      <td>-2234.285714</td>\n",
       "      <td>-1826.483571</td>\n",
       "      <td>98.764286</td>\n",
       "      <td>69.275</td>\n",
       "      <td>88.655</td>\n",
       "    </tr>\n",
       "  </tbody>\n",
       "</table>\n",
       "</div>"
      ],
      "text/plain": [
       "             Actual     Forecast  Percentage Error    MAPE  \\\n",
       "market                                                       \n",
       "India  -2234.285714 -1826.483571         98.764286  69.275   \n",
       "\n",
       "        Forecast Period MAE  \n",
       "market                       \n",
       "India                88.655  "
      ]
     },
     "execution_count": 17,
     "metadata": {},
     "output_type": "execute_result"
    }
   ],
   "source": [
    "100-accuracy_df.groupby(['market']).mean(numeric_only=1)"
   ]
  },
  {
   "cell_type": "code",
   "execution_count": 40,
   "id": "45b16b97-2f01-4939-be0e-c08a75519fde",
   "metadata": {
    "tags": []
   },
   "outputs": [
    {
     "data": {
      "text/html": [
       "<div>\n",
       "<style scoped>\n",
       "    .dataframe tbody tr th:only-of-type {\n",
       "        vertical-align: middle;\n",
       "    }\n",
       "\n",
       "    .dataframe tbody tr th {\n",
       "        vertical-align: top;\n",
       "    }\n",
       "\n",
       "    .dataframe thead th {\n",
       "        text-align: right;\n",
       "    }\n",
       "</style>\n",
       "<table border=\"1\" class=\"dataframe\">\n",
       "  <thead>\n",
       "    <tr style=\"text-align: right;\">\n",
       "      <th></th>\n",
       "      <th>market</th>\n",
       "      <th>account_type</th>\n",
       "      <th>funnel</th>\n",
       "      <th>periods_for_acc_cal</th>\n",
       "      <th>changepoint_prior_scale</th>\n",
       "      <th>seasonality_prior_scale</th>\n",
       "      <th>holidays_prior_scale</th>\n",
       "      <th>seasonality_mode</th>\n",
       "      <th>input_mode</th>\n",
       "      <th>weekday_or_weekend</th>\n",
       "      <th>...</th>\n",
       "      <th>anomaly_2021</th>\n",
       "      <th>generic_cost_split</th>\n",
       "      <th>competitor_cost_split</th>\n",
       "      <th>new_confirmed</th>\n",
       "      <th>power</th>\n",
       "      <th>growth</th>\n",
       "      <th>MAPE</th>\n",
       "      <th>period_AE</th>\n",
       "      <th>periods</th>\n",
       "      <th>cutoff_month</th>\n",
       "    </tr>\n",
       "  </thead>\n",
       "  <tbody>\n",
       "    <tr>\n",
       "      <th>1</th>\n",
       "      <td>India</td>\n",
       "      <td>Mobile &amp; Tablet</td>\n",
       "      <td>-</td>\n",
       "      <td>183</td>\n",
       "      <td>0.05</td>\n",
       "      <td>10.0</td>\n",
       "      <td>0.1</td>\n",
       "      <td>multiplicative</td>\n",
       "      <td>multiplicative</td>\n",
       "      <td>multiplicative</td>\n",
       "      <td>...</td>\n",
       "      <td>na</td>\n",
       "      <td>na</td>\n",
       "      <td>na</td>\n",
       "      <td>na</td>\n",
       "      <td>na</td>\n",
       "      <td>logistic</td>\n",
       "      <td>12.27</td>\n",
       "      <td>1.39</td>\n",
       "      <td>251.0</td>\n",
       "      <td>2024-04-25</td>\n",
       "    </tr>\n",
       "  </tbody>\n",
       "</table>\n",
       "<p>1 rows × 23 columns</p>\n",
       "</div>"
      ],
      "text/plain": [
       "  market     account_type funnel  periods_for_acc_cal  \\\n",
       "1  India  Mobile & Tablet      -                  183   \n",
       "\n",
       "   changepoint_prior_scale  seasonality_prior_scale  holidays_prior_scale  \\\n",
       "1                     0.05                     10.0                   0.1   \n",
       "\n",
       "  seasonality_mode      input_mode weekday_or_weekend  ... anomaly_2021  \\\n",
       "1   multiplicative  multiplicative     multiplicative  ...           na   \n",
       "\n",
       "  generic_cost_split competitor_cost_split new_confirmed power    growth  \\\n",
       "1                 na                    na            na    na  logistic   \n",
       "\n",
       "    MAPE period_AE periods  cutoff_month  \n",
       "1  12.27      1.39   251.0    2024-04-25  \n",
       "\n",
       "[1 rows x 23 columns]"
      ]
     },
     "execution_count": 40,
     "metadata": {},
     "output_type": "execute_result"
    }
   ],
   "source": [
    "# param_grid = {\n",
    "#                 'changepoint_prior_scale': [0.05],# ,0.001,0.1, 0.5], #  \n",
    "#                 'seasonality_prior_scale': [10.0],#,0.01,  0.1, 1.0], #\n",
    "#                 'holidays_prior_scale': [0.01],#,0.1,1.0, 10.0], #\n",
    "#                 'seasonality_mode': ['additive'],#,'multiplicative'], #\n",
    "#                 'input_mode': ['na'], #'additive','multiplicative'], #\n",
    "#                 'weekday_or_weekend':['na'],#, 'additive', 'multiplicative'],  #\n",
    "#                 'include_holiday': ['na'],#, 'default', 'customized'],#\n",
    "#                 'covid_year_exclude':['na'],\n",
    "#                 'covid_year_dummy':['na'],\n",
    "#                 'anomaly_2021':['na'],\n",
    "#                 'generic_cost_split':['na'],#, 'additive'],#\n",
    "#                 'competitor_cost_split':['na'],#, 'additive'], #\n",
    "#                 'new_confirmed':['na'],#, 'additive'],#\n",
    "#             }\n",
    "param_grid = {\n",
    "    'changepoint_prior_scale': [ 0.1, 0.05],   # 0.001\n",
    "    'seasonality_prior_scale': [10.0, 1.0, 0.1],  # 0.01\n",
    "    'holidays_prior_scale': [10.0, 1.0,  0.1], # 0.01\n",
    "    'seasonality_mode': ['additive','multiplicative'], #'multiplicative'\n",
    "    'input_mode': ['additive','multiplicative'],  #,'multiplicative'\n",
    "    'weekday_or_weekend':['na', 'additive','multiplicative'],  #, 'multiplicative'\n",
    "    'include_holiday': ['na','Default', 'Custom'], #'Default', 'custom'\n",
    "    'covid_year_exclude':['na'],\n",
    "    'covid_year_dummy':['na'],#, 'additive', 'multiplicative'],\n",
    "    'anomaly_2021':['na'],#, 'additive', 'multiplicative'],\n",
    "    'generic_cost_split':['na'],#, 'additive', 'multiplicative'\n",
    "    'competitor_cost_split':['na'], #, 'additive', 'multiplicative'\n",
    "    'new_confirmed': ['na'],#, 'additive', 'multiplicative'\n",
    "            }\n",
    "\n",
    "cuts_df_mobile = cuts_df.query(\"account_type == 'Mobile & Tablet'\")\n",
    "\n",
    "cuts_df_desktop = cuts_df.loc[cuts_df['account_type'] == 'Desktop'] \n",
    "cuts_df_mobile"
   ]
  },
  {
   "cell_type": "markdown",
   "id": "45f486de-7678-4757-b866-7965908e7dea",
   "metadata": {
    "tags": []
   },
   "source": [
    "# Parallel Param Search"
   ]
  },
  {
   "cell_type": "code",
   "execution_count": null,
   "id": "fca2c299-1dd7-44c6-aea0-b05073248886",
   "metadata": {
    "tags": []
   },
   "outputs": [
    {
     "name": "stderr",
     "output_type": "stream",
     "text": [
      "  0%|          | 0/1 [00:00<?, ?it/s]22:16:27 - cmdstanpy - INFO - Chain [1] start processing\n",
      "22:16:27 - cmdstanpy - INFO - Chain [1] start processing\n",
      "22:16:27 - cmdstanpy - INFO - Chain [1] done processing\n",
      "22:16:27 - cmdstanpy - INFO - Chain [1] done processing\n",
      "22:16:27 - cmdstanpy - INFO - Chain [1] start processing\n",
      "22:16:27 - cmdstanpy - INFO - Chain [1] start processing\n",
      "22:16:27 - cmdstanpy - INFO - Chain [1] done processing\n",
      "22:16:27 - cmdstanpy - INFO - Chain [1] done processing\n"
     ]
    },
    {
     "name": "stdout",
     "output_type": "stream",
     "text": [
      "It's underpredicted.\n",
      "Monthly Error: 68.45 Period MAE: 67.82000000000001\n",
      "It's underpredicted.\n"
     ]
    },
    {
     "name": "stderr",
     "output_type": "stream",
     "text": [
      "22:16:28 - cmdstanpy - INFO - Chain [1] start processing\n"
     ]
    },
    {
     "name": "stdout",
     "output_type": "stream",
     "text": [
      "Monthly Error: 68.72 Period MAE: 67.99\n"
     ]
    },
    {
     "name": "stderr",
     "output_type": "stream",
     "text": [
      "22:16:28 - cmdstanpy - INFO - Chain [1] done processing\n"
     ]
    },
    {
     "name": "stdout",
     "output_type": "stream",
     "text": [
      "It's underpredicted.\n",
      "Monthly Error: 15.97 Period MAE: 4.45\n",
      "It's underpredicted.\n",
      "Monthly Error: 15.38 Period MAE: "
     ]
    },
    {
     "name": "stderr",
     "output_type": "stream",
     "text": [
      "22:16:28 - cmdstanpy - INFO - Chain [1] start processing\n"
     ]
    },
    {
     "name": "stdout",
     "output_type": "stream",
     "text": [
      "0.96\n"
     ]
    },
    {
     "name": "stderr",
     "output_type": "stream",
     "text": [
      "22:16:28 - cmdstanpy - INFO - Chain [1] start processing\n",
      "22:16:28 - cmdstanpy - INFO - Chain [1] start processing\n",
      "22:16:28 - cmdstanpy - INFO - Chain [1] done processing\n",
      "22:16:28 - cmdstanpy - INFO - Chain [1] done processing\n",
      "22:16:28 - cmdstanpy - INFO - Chain [1] done processing\n"
     ]
    },
    {
     "name": "stdout",
     "output_type": "stream",
     "text": [
      "It's underpredicted.\n",
      "Monthly Error: 68.34 Period MAE: 68.33\n"
     ]
    },
    {
     "name": "stderr",
     "output_type": "stream",
     "text": [
      "22:16:29 - cmdstanpy - INFO - Chain [1] start processing\n"
     ]
    },
    {
     "name": "stdout",
     "output_type": "stream",
     "text": [
      "It's underpredicted.\n",
      "Monthly Error: 68.72 Period MAE: 68.08\n"
     ]
    },
    {
     "name": "stderr",
     "output_type": "stream",
     "text": [
      "22:16:29 - cmdstanpy - INFO - Chain [1] done processing\n",
      "22:16:29 - cmdstanpy - INFO - Chain [1] start processing\n"
     ]
    },
    {
     "name": "stdout",
     "output_type": "stream",
     "text": [
      "It's underpredicted.\n",
      "Monthly Error: 15.6"
     ]
    },
    {
     "name": "stderr",
     "output_type": "stream",
     "text": [
      "22:16:29 - cmdstanpy - INFO - Chain [1] done processing\n"
     ]
    },
    {
     "name": "stdout",
     "output_type": "stream",
     "text": [
      " Period MAE: 0.58\n",
      "It's overpredicted.\n",
      "Monthly Error: 20.9 Period MAE: 7.93\n"
     ]
    },
    {
     "name": "stderr",
     "output_type": "stream",
     "text": [
      "22:16:30 - cmdstanpy - INFO - Chain [1] start processing\n"
     ]
    },
    {
     "name": "stdout",
     "output_type": "stream",
     "text": [
      "It's underpredicted.\n",
      "Monthly Error: 66.05 Period MAE: 65.52\n"
     ]
    },
    {
     "name": "stderr",
     "output_type": "stream",
     "text": [
      "22:16:30 - cmdstanpy - INFO - Chain [1] start processing\n",
      "22:16:30 - cmdstanpy - INFO - Chain [1] done processing\n",
      "22:16:30 - cmdstanpy - INFO - Chain [1] start processing\n",
      "22:16:30 - cmdstanpy - INFO - Chain [1] done processing\n",
      "22:16:30 - cmdstanpy - INFO - Chain [1] done processing\n"
     ]
    },
    {
     "name": "stdout",
     "output_type": "stream",
     "text": [
      "It's overpredicted.\n",
      "Monthly Error: 16.47 Period MAE: 0.26\n"
     ]
    },
    {
     "name": "stderr",
     "output_type": "stream",
     "text": [
      "22:16:30 - cmdstanpy - INFO - Chain [1] start processing\n",
      "22:16:31 - cmdstanpy - INFO - Chain [1] done processing\n"
     ]
    },
    {
     "name": "stdout",
     "output_type": "stream",
     "text": [
      "It's underpredicted.\n",
      "Monthly Error: 70.35 Period MAE: 69.78\n",
      "It's underpredicted.\n",
      "Monthly Error: 69.52 Period MAE: 69.46\n"
     ]
    },
    {
     "name": "stderr",
     "output_type": "stream",
     "text": [
      "22:16:31 - cmdstanpy - INFO - Chain [1] start processing\n",
      "22:16:31 - cmdstanpy - INFO - Chain [1] start processing\n",
      "22:16:31 - cmdstanpy - INFO - Chain [1] done processing\n",
      "22:16:31 - cmdstanpy - INFO - Chain [1] done processing\n"
     ]
    },
    {
     "name": "stdout",
     "output_type": "stream",
     "text": [
      "It's overpredicted.\n",
      "Monthly Error: 20.59 Period MAE: 1.49\n",
      "It's overpredicted.\n",
      "Monthly Error: 29.01 Period MAE: 24.12\n"
     ]
    },
    {
     "name": "stderr",
     "output_type": "stream",
     "text": [
      "22:16:32 - cmdstanpy - INFO - Chain [1] start processing\n"
     ]
    },
    {
     "name": "stdout",
     "output_type": "stream",
     "text": [
      "It's underpredicted.\n",
      "Monthly Error: 72.08 Period MAE: 71.38\n"
     ]
    },
    {
     "name": "stderr",
     "output_type": "stream",
     "text": [
      "22:16:32 - cmdstanpy - INFO - Chain [1] start processing\n",
      "22:16:32 - cmdstanpy - INFO - Chain [1] done processing\n",
      "22:16:32 - cmdstanpy - INFO - Chain [1] start processing\n",
      "22:16:32 - cmdstanpy - INFO - Chain [1] done processing\n",
      "22:16:32 - cmdstanpy - INFO - Chain [1] done processing\n"
     ]
    },
    {
     "name": "stdout",
     "output_type": "stream",
     "text": [
      "It's overpredicted.\n",
      "Monthly Error: 15.59 Period MAE: 8.04\n"
     ]
    },
    {
     "name": "stderr",
     "output_type": "stream",
     "text": [
      "22:16:33 - cmdstanpy - INFO - Chain [1] start processing\n"
     ]
    },
    {
     "name": "stdout",
     "output_type": "stream",
     "text": [
      "It's underpredicted.\n",
      "Monthly Error: "
     ]
    },
    {
     "name": "stderr",
     "output_type": "stream",
     "text": [
      "22:16:33 - cmdstanpy - INFO - Chain [1] done processing\n"
     ]
    },
    {
     "name": "stdout",
     "output_type": "stream",
     "text": [
      "70.58 It's underpredicted.Period MAE: \n",
      "70.53Monthly Error:\n",
      " 72.55 Period MAE: 71.46000000000001\n"
     ]
    },
    {
     "name": "stderr",
     "output_type": "stream",
     "text": [
      "22:16:33 - cmdstanpy - INFO - Chain [1] start processing\n",
      "22:16:33 - cmdstanpy - INFO - Chain [1] start processing\n",
      "22:16:33 - cmdstanpy - INFO - Chain [1] done processing\n",
      "22:16:33 - cmdstanpy - INFO - Chain [1] done processing\n"
     ]
    },
    {
     "name": "stdout",
     "output_type": "stream",
     "text": [
      "It's overpredicted.\n",
      "Monthly Error: 23.58It's overpredicted. \n",
      "Period MAE:Monthly Error:  8.2545.2 \n",
      "It's underpredicted.\n",
      "Period MAE: Monthly Error: 70.3210.15 \n",
      "Period MAE: 69.28999999999999\n"
     ]
    },
    {
     "name": "stderr",
     "output_type": "stream",
     "text": [
      "22:16:34 - cmdstanpy - INFO - Chain [1] start processing\n",
      "22:16:34 - cmdstanpy - INFO - Chain [1] start processing\n",
      "22:16:34 - cmdstanpy - INFO - Chain [1] done processing\n",
      "22:16:34 - cmdstanpy - INFO - Chain [1] start processing\n"
     ]
    },
    {
     "name": "stdout",
     "output_type": "stream",
     "text": [
      "It's overpredicted.\n",
      "Monthly Error: 42.22 Period MAE: 2.02"
     ]
    },
    {
     "name": "stderr",
     "output_type": "stream",
     "text": [
      "22:16:34 - cmdstanpy - INFO - Chain [1] done processing\n"
     ]
    },
    {
     "name": "stdout",
     "output_type": "stream",
     "text": [
      "\n"
     ]
    },
    {
     "name": "stderr",
     "output_type": "stream",
     "text": [
      "22:16:34 - cmdstanpy - INFO - Chain [1] done processing\n"
     ]
    },
    {
     "name": "stdout",
     "output_type": "stream",
     "text": [
      "It's underpredicted.\n"
     ]
    },
    {
     "name": "stderr",
     "output_type": "stream",
     "text": [
      "22:16:34 - cmdstanpy - INFO - Chain [1] start processing\n"
     ]
    },
    {
     "name": "stdout",
     "output_type": "stream",
     "text": [
      "Monthly Error: 70.53 Period MAE:"
     ]
    },
    {
     "name": "stderr",
     "output_type": "stream",
     "text": [
      "22:16:35 - cmdstanpy - INFO - Chain [1] done processing\n"
     ]
    },
    {
     "name": "stdout",
     "output_type": "stream",
     "text": [
      " 69.57\n"
     ]
    },
    {
     "name": "stderr",
     "output_type": "stream",
     "text": [
      "22:16:35 - cmdstanpy - INFO - Chain [1] start processing\n",
      "22:16:35 - cmdstanpy - INFO - Chain [1] done processing\n"
     ]
    },
    {
     "name": "stdout",
     "output_type": "stream",
     "text": [
      "It's underpredicted.\n",
      "Monthly Error: 72.31 Period MAE: 71.78999999999999\n"
     ]
    },
    {
     "name": "stderr",
     "output_type": "stream",
     "text": [
      "22:16:36 - cmdstanpy - INFO - Chain [1] start processing\n"
     ]
    },
    {
     "name": "stdout",
     "output_type": "stream",
     "text": [
      "It's overpredicted.\n",
      "Monthly Error: It's underpredicted.50.48\n",
      " Period MAE:Monthly Error:"
     ]
    },
    {
     "name": "stderr",
     "output_type": "stream",
     "text": [
      "22:16:36 - cmdstanpy - INFO - Chain [1] done processing\n"
     ]
    },
    {
     "name": "stdout",
     "output_type": "stream",
     "text": [
      "  70.79.55 \n",
      "Period MAE: 69.67\n",
      "It's overpredicted.\n",
      "Monthly Error:  48.47Period MAE: 6.909999999999999\n"
     ]
    },
    {
     "name": "stderr",
     "output_type": "stream",
     "text": [
      "22:16:36 - cmdstanpy - INFO - Chain [1] start processing\n",
      "22:16:36 - cmdstanpy - INFO - Chain [1] start processing\n",
      "22:16:36 - cmdstanpy - INFO - Chain [1] start processing\n",
      "22:16:36 - cmdstanpy - INFO - Chain [1] done processing\n",
      "22:16:36 - cmdstanpy - INFO - Chain [1] done processing\n",
      "22:16:37 - cmdstanpy - INFO - Chain [1] done processing\n"
     ]
    },
    {
     "name": "stdout",
     "output_type": "stream",
     "text": [
      "It's overpredicted.\n",
      "Monthly Error: 46.34 It's underpredicted.Period MAE: \n",
      "Monthly Error:1.29 74.01\n",
      " Period MAE:73.04 \n"
     ]
    },
    {
     "name": "stderr",
     "output_type": "stream",
     "text": [
      "22:16:37 - cmdstanpy - INFO - Chain [1] start processing\n",
      "22:16:37 - cmdstanpy - INFO - Chain [1] done processing\n",
      "22:16:37 - cmdstanpy - INFO - Chain [1] start processing\n"
     ]
    },
    {
     "name": "stdout",
     "output_type": "stream",
     "text": [
      "It's underpredicted.\n",
      "Monthly Error: 70.47 Period MAE: 70.06"
     ]
    },
    {
     "name": "stderr",
     "output_type": "stream",
     "text": [
      "22:16:38 - cmdstanpy - INFO - Chain [1] done processing\n"
     ]
    },
    {
     "name": "stdout",
     "output_type": "stream",
     "text": [
      "\n",
      "It's overpredicted.\n",
      "Monthly Error: 51.12 Period MAE: 1.92\n"
     ]
    },
    {
     "name": "stderr",
     "output_type": "stream",
     "text": [
      "22:16:38 - cmdstanpy - INFO - Chain [1] start processing\n",
      "22:16:38 - cmdstanpy - INFO - Chain [1] done processing\n"
     ]
    },
    {
     "name": "stdout",
     "output_type": "stream",
     "text": [
      "It's underpredicted.\n",
      "Monthly Error:"
     ]
    },
    {
     "name": "stderr",
     "output_type": "stream",
     "text": [
      "22:16:38 - cmdstanpy - INFO - Chain [1] start processing\n"
     ]
    },
    {
     "name": "stdout",
     "output_type": "stream",
     "text": [
      " 74.02 Period MAE: 73.03\n"
     ]
    },
    {
     "name": "stderr",
     "output_type": "stream",
     "text": [
      "22:16:39 - cmdstanpy - INFO - Chain [1] done processing\n"
     ]
    },
    {
     "name": "stdout",
     "output_type": "stream",
     "text": [
      "It's overpredicted.\n",
      "Monthly Error: 44.57 Period MAE: 6.9\n"
     ]
    },
    {
     "name": "stderr",
     "output_type": "stream",
     "text": [
      "22:16:39 - cmdstanpy - INFO - Chain [1] start processing\n",
      "22:16:39 - cmdstanpy - INFO - Chain [1] start processing\n",
      "22:16:39 - cmdstanpy - INFO - Chain [1] done processing\n",
      "22:16:39 - cmdstanpy - INFO - Chain [1] done processing\n"
     ]
    },
    {
     "name": "stdout",
     "output_type": "stream",
     "text": [
      "It's underpredicted.\n",
      "Monthly Error: It's overpredicted.It's underpredicted.\n",
      "75.77Monthly Error:  \n",
      "Period MAE:Monthly Error:74.12  43.7175.32 \n",
      " Period MAE:Period MAE:\n",
      "  2.840000000000000372.99\n"
     ]
    },
    {
     "name": "stderr",
     "output_type": "stream",
     "text": [
      "22:16:40 - cmdstanpy - INFO - Chain [1] start processing\n",
      "22:16:40 - cmdstanpy - INFO - Chain [1] done processing\n",
      "22:16:40 - cmdstanpy - INFO - Chain [1] start processing\n",
      "22:16:40 - cmdstanpy - INFO - Chain [1] start processing\n",
      "22:16:40 - cmdstanpy - INFO - Chain [1] done processing\n",
      "22:16:40 - cmdstanpy - INFO - Chain [1] done processing\n"
     ]
    },
    {
     "name": "stdout",
     "output_type": "stream",
     "text": [
      "It's overpredicted.\n",
      "Monthly Error: 47.94 Period MAE: 2.29\n"
     ]
    },
    {
     "name": "stderr",
     "output_type": "stream",
     "text": [
      "22:16:41 - cmdstanpy - INFO - Chain [1] start processing\n"
     ]
    },
    {
     "name": "stdout",
     "output_type": "stream",
     "text": [
      "It's underpredicted.\n",
      "Monthly Error: 82.18 Period MAE: 81.25\n",
      "It's underpredicted."
     ]
    },
    {
     "name": "stderr",
     "output_type": "stream",
     "text": [
      "22:16:41 - cmdstanpy - INFO - Chain [1] done processing\n"
     ]
    },
    {
     "name": "stdout",
     "output_type": "stream",
     "text": [
      "\n",
      "Monthly Error: 17.6 Period MAE: 9.92\n"
     ]
    },
    {
     "name": "stderr",
     "output_type": "stream",
     "text": [
      "22:16:42 - cmdstanpy - INFO - Chain [1] start processing\n"
     ]
    },
    {
     "name": "stdout",
     "output_type": "stream",
     "text": [
      "It's underpredicted.\n",
      "Monthly Error: 17.97 Period MAE: "
     ]
    },
    {
     "name": "stderr",
     "output_type": "stream",
     "text": [
      "22:16:42 - cmdstanpy - INFO - Chain [1] done processing\n"
     ]
    },
    {
     "name": "stdout",
     "output_type": "stream",
     "text": [
      "10.41\n"
     ]
    },
    {
     "name": "stderr",
     "output_type": "stream",
     "text": [
      "22:16:42 - cmdstanpy - INFO - Chain [1] start processing\n",
      "22:16:42 - cmdstanpy - INFO - Chain [1] done processing\n",
      "22:16:42 - cmdstanpy - INFO - Chain [1] start processing\n"
     ]
    },
    {
     "name": "stdout",
     "output_type": "stream",
     "text": [
      "It's underpredicted."
     ]
    },
    {
     "name": "stderr",
     "output_type": "stream",
     "text": [
      "22:16:42 - cmdstanpy - INFO - Chain [1] done processing\n"
     ]
    },
    {
     "name": "stdout",
     "output_type": "stream",
     "text": [
      "\n",
      "Monthly Error: 84.45 Period MAE: 83.75\n",
      "It's underpredicted.\n",
      "Monthly Error: 75.98 Period MAE: 74.85000000000001\n"
     ]
    },
    {
     "name": "stderr",
     "output_type": "stream",
     "text": [
      "22:16:43 - cmdstanpy - INFO - Chain [1] start processing\n",
      "22:16:43 - cmdstanpy - INFO - Chain [1] done processing\n",
      "22:16:43 - cmdstanpy - INFO - Chain [1] start processing\n",
      "22:16:43 - cmdstanpy - INFO - Chain [1] done processing\n"
     ]
    },
    {
     "name": "stdout",
     "output_type": "stream",
     "text": [
      "It's underpredicted.\n",
      "Monthly Error: 78.58 Period MAE: 77.56\n",
      "It's overpredicted.\n",
      "Monthly Error: 14.9 Period MAE: 3.6799999999999997\n",
      "It's underpredicted.\n",
      "Monthly Error: 17.12 "
     ]
    },
    {
     "name": "stderr",
     "output_type": "stream",
     "text": [
      "22:16:44 - cmdstanpy - INFO - Chain [1] start processing\n"
     ]
    },
    {
     "name": "stdout",
     "output_type": "stream",
     "text": [
      "Period MAE: 9.15\n"
     ]
    },
    {
     "name": "stderr",
     "output_type": "stream",
     "text": [
      "22:16:44 - cmdstanpy - INFO - Chain [1] start processing\n",
      "22:16:44 - cmdstanpy - INFO - Chain [1] done processing\n",
      "22:16:44 - cmdstanpy - INFO - Chain [1] start processing\n"
     ]
    },
    {
     "name": "stdout",
     "output_type": "stream",
     "text": [
      "It's overpredicted.\n",
      "Monthly Error: 28.21 "
     ]
    },
    {
     "name": "stderr",
     "output_type": "stream",
     "text": [
      "22:16:45 - cmdstanpy - INFO - Chain [1] done processing\n"
     ]
    },
    {
     "name": "stdout",
     "output_type": "stream",
     "text": [
      "Period MAE: "
     ]
    },
    {
     "name": "stderr",
     "output_type": "stream",
     "text": [
      "22:16:45 - cmdstanpy - INFO - Chain [1] done processing\n"
     ]
    },
    {
     "name": "stdout",
     "output_type": "stream",
     "text": [
      "21.34\n"
     ]
    },
    {
     "name": "stderr",
     "output_type": "stream",
     "text": [
      "22:16:45 - cmdstanpy - INFO - Chain [1] start processing\n"
     ]
    },
    {
     "name": "stdout",
     "output_type": "stream",
     "text": [
      "It's underpredicted.\n",
      "Monthly Error: 77.25 Period MAE: "
     ]
    },
    {
     "name": "stderr",
     "output_type": "stream",
     "text": [
      "22:16:45 - cmdstanpy - INFO - Chain [1] done processing\n"
     ]
    },
    {
     "name": "stdout",
     "output_type": "stream",
     "text": [
      "76.14999999999999\n"
     ]
    },
    {
     "name": "stderr",
     "output_type": "stream",
     "text": [
      "22:16:45 - cmdstanpy - INFO - Chain [1] start processing\n"
     ]
    },
    {
     "name": "stdout",
     "output_type": "stream",
     "text": [
      "It's underpredicted.\n",
      "Monthly Error: 79.16 Period MAE:"
     ]
    },
    {
     "name": "stderr",
     "output_type": "stream",
     "text": [
      "22:16:46 - cmdstanpy - INFO - Chain [1] done processing\n"
     ]
    },
    {
     "name": "stdout",
     "output_type": "stream",
     "text": [
      " 78.14\n"
     ]
    },
    {
     "name": "stderr",
     "output_type": "stream",
     "text": [
      "22:16:46 - cmdstanpy - INFO - Chain [1] start processing\n"
     ]
    },
    {
     "name": "stdout",
     "output_type": "stream",
     "text": [
      "It's overpredicted.\n",
      "It's underpredicted.Monthly Error:\n",
      "Monthly Error: It's overpredicted.\n",
      " 32.78Monthly Error:"
     ]
    },
    {
     "name": "stderr",
     "output_type": "stream",
     "text": [
      "22:16:46 - cmdstanpy - INFO - Chain [1] done processing\n"
     ]
    },
    {
     "name": "stdout",
     "output_type": "stream",
     "text": [
      "85.1 22.48 Period MAE:  11.16 Period MAE:Period MAE:  \n",
      "84.4424.279999999999998\n",
      "\n"
     ]
    },
    {
     "name": "stderr",
     "output_type": "stream",
     "text": [
      "22:16:47 - cmdstanpy - INFO - Chain [1] start processing\n",
      "22:16:47 - cmdstanpy - INFO - Chain [1] start processing\n",
      "22:16:47 - cmdstanpy - INFO - Chain [1] done processing\n",
      "22:16:47 - cmdstanpy - INFO - Chain [1] start processing\n",
      "22:16:47 - cmdstanpy - INFO - Chain [1] done processing\n",
      "22:16:47 - cmdstanpy - INFO - Chain [1] done processing\n"
     ]
    },
    {
     "name": "stdout",
     "output_type": "stream",
     "text": [
      "It's underpredicted.\n",
      "Monthly Error: 77.48 Period MAE: 76.13\n"
     ]
    },
    {
     "name": "stderr",
     "output_type": "stream",
     "text": [
      "22:16:48 - cmdstanpy - INFO - Chain [1] start processing\n"
     ]
    },
    {
     "name": "stdout",
     "output_type": "stream",
     "text": [
      "It's overpredicted.\n",
      "Monthly Error:"
     ]
    },
    {
     "name": "stderr",
     "output_type": "stream",
     "text": [
      "22:16:48 - cmdstanpy - INFO - Chain [1] done processing\n"
     ]
    },
    {
     "name": "stdout",
     "output_type": "stream",
     "text": [
      " 22.71 Period MAE: 11.99\n"
     ]
    },
    {
     "name": "stderr",
     "output_type": "stream",
     "text": [
      "22:16:48 - cmdstanpy - INFO - Chain [1] start processing\n",
      "22:16:48 - cmdstanpy - INFO - Chain [1] done processing\n"
     ]
    },
    {
     "name": "stdout",
     "output_type": "stream",
     "text": [
      "It's underpredicted.\n",
      "Monthly Error: 83.51 It's overpredicted.\n",
      "Period MAE:Monthly Error:  23.1 Period MAE:82.72 13.84\n",
      "\n",
      "It's underpredicted.\n",
      "Monthly Error: 81.27 Period MAE: 80.13\n"
     ]
    },
    {
     "name": "stderr",
     "output_type": "stream",
     "text": [
      "22:16:49 - cmdstanpy - INFO - Chain [1] start processing\n",
      "22:16:49 - cmdstanpy - INFO - Chain [1] start processing\n"
     ]
    },
    {
     "name": "stdout",
     "output_type": "stream",
     "text": [
      "It's overpredicted.\n",
      "Monthly Error: 51.89 Period MAE: 18.86\n"
     ]
    },
    {
     "name": "stderr",
     "output_type": "stream",
     "text": [
      "22:16:49 - cmdstanpy - INFO - Chain [1] done processing\n",
      "22:16:49 - cmdstanpy - INFO - Chain [1] start processing\n",
      "22:16:49 - cmdstanpy - INFO - Chain [1] start processing\n",
      "22:16:49 - cmdstanpy - INFO - Chain [1] done processing\n",
      "22:16:50 - cmdstanpy - INFO - Chain [1] done processing\n",
      "22:16:50 - cmdstanpy - INFO - Chain [1] done processing\n"
     ]
    },
    {
     "name": "stdout",
     "output_type": "stream",
     "text": [
      "It's underpredicted.\n",
      "Monthly Error: 78.19 Period MAE: 76.88000000000001\n",
      "It's underpredicted.\n"
     ]
    },
    {
     "name": "stderr",
     "output_type": "stream",
     "text": [
      "22:16:50 - cmdstanpy - INFO - Chain [1] start processing\n"
     ]
    },
    {
     "name": "stdout",
     "output_type": "stream",
     "text": [
      "Monthly Error: 82.35 Period MAE: 81.37\n"
     ]
    },
    {
     "name": "stderr",
     "output_type": "stream",
     "text": [
      "22:16:51 - cmdstanpy - INFO - Chain [1] done processing\n"
     ]
    },
    {
     "name": "stdout",
     "output_type": "stream",
     "text": [
      "It's overpredicted.\n",
      "Monthly Error: 48.73 Period MAE: "
     ]
    },
    {
     "name": "stderr",
     "output_type": "stream",
     "text": [
      "22:16:51 - cmdstanpy - INFO - Chain [1] start processing\n"
     ]
    },
    {
     "name": "stdout",
     "output_type": "stream",
     "text": [
      "15.15\n",
      "It's overpredicted.\n"
     ]
    },
    {
     "name": "stderr",
     "output_type": "stream",
     "text": [
      "22:16:51 - cmdstanpy - INFO - Chain [1] start processing\n"
     ]
    },
    {
     "name": "stdout",
     "output_type": "stream",
     "text": [
      "Monthly Error: 46.82 "
     ]
    },
    {
     "name": "stderr",
     "output_type": "stream",
     "text": [
      "22:16:51 - cmdstanpy - INFO - Chain [1] done processing\n"
     ]
    },
    {
     "name": "stdout",
     "output_type": "stream",
     "text": [
      "Period MAE: 12.73\n"
     ]
    },
    {
     "name": "stderr",
     "output_type": "stream",
     "text": [
      "22:16:51 - cmdstanpy - INFO - Chain [1] done processing\n",
      "22:16:52 - cmdstanpy - INFO - Chain [1] start processing\n"
     ]
    },
    {
     "name": "stdout",
     "output_type": "stream",
     "text": [
      "It's underpredicted.\n",
      "Monthly Error: 84.23 It's overpredicted.Period MAE:\n",
      " 83.43Monthly Error: \n",
      "45.6 Period MAE: 8.64\n"
     ]
    },
    {
     "name": "stderr",
     "output_type": "stream",
     "text": [
      "22:16:52 - cmdstanpy - INFO - Chain [1] start processing\n",
      "22:16:52 - cmdstanpy - INFO - Chain [1] start processing\n",
      "22:16:52 - cmdstanpy - INFO - Chain [1] done processing\n"
     ]
    },
    {
     "name": "stdout",
     "output_type": "stream",
     "text": [
      "It's overpredicted.\n",
      "Monthly Error: 54.57"
     ]
    },
    {
     "name": "stderr",
     "output_type": "stream",
     "text": [
      "22:16:52 - cmdstanpy - INFO - Chain [1] done processing\n"
     ]
    },
    {
     "name": "stdout",
     "output_type": "stream",
     "text": [
      " Period MAE: 20.14\n"
     ]
    },
    {
     "name": "stderr",
     "output_type": "stream",
     "text": [
      "22:16:52 - cmdstanpy - INFO - Chain [1] done processing\n",
      "22:16:53 - cmdstanpy - INFO - Chain [1] start processing\n",
      "22:16:53 - cmdstanpy - INFO - Chain [1] done processing\n"
     ]
    },
    {
     "name": "stdout",
     "output_type": "stream",
     "text": [
      "It's underpredicted.\n",
      "Monthly Error: 82.82 Period MAE: 81.83\n",
      "It's underpredicted.\n",
      "Monthly Error: 83.64 Period MAE: 82.82000000000001\n"
     ]
    },
    {
     "name": "stderr",
     "output_type": "stream",
     "text": [
      "22:16:54 - cmdstanpy - INFO - Chain [1] start processing\n",
      "22:16:54 - cmdstanpy - INFO - Chain [1] start processing\n",
      "22:16:54 - cmdstanpy - INFO - Chain [1] done processing\n",
      "22:16:54 - cmdstanpy - INFO - Chain [1] done processing\n"
     ]
    },
    {
     "name": "stdout",
     "output_type": "stream",
     "text": [
      "It's overpredicted.\n",
      "Monthly Error: It's overpredicted.43.67\n",
      " Monthly Error:Period MAE:  48.340.75 \n",
      "Period MAE:13.15 \n"
     ]
    },
    {
     "name": "stderr",
     "output_type": "stream",
     "text": [
      "22:16:55 - cmdstanpy - INFO - Chain [1] start processing\n"
     ]
    },
    {
     "name": "stdout",
     "output_type": "stream",
     "text": [
      "It's underpredicted.\n",
      "Monthly Error: "
     ]
    },
    {
     "name": "stderr",
     "output_type": "stream",
     "text": [
      "22:16:55 - cmdstanpy - INFO - Chain [1] done processing\n"
     ]
    },
    {
     "name": "stdout",
     "output_type": "stream",
     "text": [
      "86.73"
     ]
    },
    {
     "name": "stderr",
     "output_type": "stream",
     "text": [
      "22:16:55 - cmdstanpy - INFO - Chain [1] start processing\n"
     ]
    },
    {
     "name": "stdout",
     "output_type": "stream",
     "text": [
      " Period MAE: 86.27\n"
     ]
    },
    {
     "name": "stderr",
     "output_type": "stream",
     "text": [
      "22:16:55 - cmdstanpy - INFO - Chain [1] start processing\n",
      "22:16:55 - cmdstanpy - INFO - Chain [1] done processing\n",
      "22:16:55 - cmdstanpy - INFO - Chain [1] done processing\n"
     ]
    },
    {
     "name": "stdout",
     "output_type": "stream",
     "text": [
      "It's overpredicted.\n",
      "Monthly Error: 43.62 Period MAE: 0.06\n"
     ]
    },
    {
     "name": "stderr",
     "output_type": "stream",
     "text": [
      "22:16:56 - cmdstanpy - INFO - Chain [1] start processing\n",
      "22:16:56 - cmdstanpy - INFO - Chain [1] done processing\n"
     ]
    },
    {
     "name": "stdout",
     "output_type": "stream",
     "text": [
      "It's underpredicted.\n",
      "Monthly Error: 69.08 Period MAE: 68.4\n",
      "It's underpredicted.\n",
      "Monthly Error: 86.25 Period MAE: 85.75\n",
      "It's overpredicted.\n",
      "Monthly Error: 43.88 Period MAE: 0.3\n"
     ]
    },
    {
     "name": "stderr",
     "output_type": "stream",
     "text": [
      "22:16:56 - cmdstanpy - INFO - Chain [1] start processing\n",
      "22:16:56 - cmdstanpy - INFO - Chain [1] start processing\n",
      "22:16:56 - cmdstanpy - INFO - Chain [1] done processing\n",
      "22:16:56 - cmdstanpy - INFO - Chain [1] done processing\n",
      "22:16:56 - cmdstanpy - INFO - Chain [1] start processing\n",
      "22:16:57 - cmdstanpy - INFO - Chain [1] done processing\n"
     ]
    },
    {
     "name": "stdout",
     "output_type": "stream",
     "text": [
      "It's underpredicted.\n",
      "Monthly Error: It's underpredicted.16.12\n",
      "Monthly Error: Period MAE:  69.14.859999999999999 Period MAE:\n",
      " 68.35\n"
     ]
    },
    {
     "name": "stderr",
     "output_type": "stream",
     "text": [
      "22:16:57 - cmdstanpy - INFO - Chain [1] start processing\n",
      "22:16:57 - cmdstanpy - INFO - Chain [1] done processing\n"
     ]
    },
    {
     "name": "stdout",
     "output_type": "stream",
     "text": [
      "It's underpredicted.\n",
      "Monthly Error: 15.19 "
     ]
    },
    {
     "name": "stderr",
     "output_type": "stream",
     "text": [
      "22:16:57 - cmdstanpy - INFO - Chain [1] start processing\n"
     ]
    },
    {
     "name": "stdout",
     "output_type": "stream",
     "text": [
      "Period MAE: 0.26\n"
     ]
    },
    {
     "name": "stderr",
     "output_type": "stream",
     "text": [
      "22:16:57 - cmdstanpy - INFO - Chain [1] done processing\n"
     ]
    },
    {
     "name": "stdout",
     "output_type": "stream",
     "text": [
      "It's underpredicted.\n",
      "Monthly Error: "
     ]
    },
    {
     "name": "stderr",
     "output_type": "stream",
     "text": [
      "22:16:58 - cmdstanpy - INFO - Chain [1] start processing\n"
     ]
    },
    {
     "name": "stdout",
     "output_type": "stream",
     "text": [
      "69.83 Period MAE: 69.72"
     ]
    },
    {
     "name": "stderr",
     "output_type": "stream",
     "text": [
      "22:16:58 - cmdstanpy - INFO - Chain [1] done processing\n"
     ]
    },
    {
     "name": "stdout",
     "output_type": "stream",
     "text": [
      "\n",
      "It's underpredicted.\n",
      "Monthly Error: 68.54 Period MAE: 67.9\n"
     ]
    },
    {
     "name": "stderr",
     "output_type": "stream",
     "text": [
      "22:16:58 - cmdstanpy - INFO - Chain [1] start processing\n",
      "22:16:58 - cmdstanpy - INFO - Chain [1] start processing\n",
      "22:16:58 - cmdstanpy - INFO - Chain [1] done processing\n",
      "22:16:58 - cmdstanpy - INFO - Chain [1] done processing\n"
     ]
    },
    {
     "name": "stdout",
     "output_type": "stream",
     "text": [
      "It's overpredicted.\n",
      "Monthly Error: 16.59 Period MAE: 2.77\n",
      "It's underpredicted.\n",
      "Monthly Error: 66.47 Period MAE: 65.92\n",
      "It's overpredicted.\n",
      "Monthly Error: 19.0 Period MAE: 5.63\n"
     ]
    },
    {
     "name": "stderr",
     "output_type": "stream",
     "text": [
      "22:16:59 - cmdstanpy - INFO - Chain [1] start processing\n",
      "22:16:59 - cmdstanpy - INFO - Chain [1] start processing\n",
      "22:16:59 - cmdstanpy - INFO - Chain [1] start processing\n",
      "22:16:59 - cmdstanpy - INFO - Chain [1] done processing\n"
     ]
    },
    {
     "name": "stdout",
     "output_type": "stream",
     "text": [
      "It's underpredicted."
     ]
    },
    {
     "name": "stderr",
     "output_type": "stream",
     "text": [
      "22:16:59 - cmdstanpy - INFO - Chain [1] done processing\n"
     ]
    },
    {
     "name": "stdout",
     "output_type": "stream",
     "text": [
      "\n",
      "Monthly Error: "
     ]
    },
    {
     "name": "stderr",
     "output_type": "stream",
     "text": [
      "22:16:59 - cmdstanpy - INFO - Chain [1] done processing\n"
     ]
    },
    {
     "name": "stdout",
     "output_type": "stream",
     "text": [
      "16.05 Period MAE: 1.0\n"
     ]
    },
    {
     "name": "stderr",
     "output_type": "stream",
     "text": [
      "22:17:00 - cmdstanpy - INFO - Chain [1] start processing\n",
      "22:17:00 - cmdstanpy - INFO - Chain [1] done processing\n"
     ]
    },
    {
     "name": "stdout",
     "output_type": "stream",
     "text": [
      "It's underpredicted.\n",
      "Monthly Error: 71.41 Period MAE: 70.75\n"
     ]
    },
    {
     "name": "stderr",
     "output_type": "stream",
     "text": [
      "22:17:00 - cmdstanpy - INFO - Chain [1] start processing\n"
     ]
    },
    {
     "name": "stdout",
     "output_type": "stream",
     "text": [
      "It's underpredicted.\n",
      "Monthly Error: "
     ]
    },
    {
     "name": "stderr",
     "output_type": "stream",
     "text": [
      "22:17:00 - cmdstanpy - INFO - Chain [1] done processing\n"
     ]
    },
    {
     "name": "stdout",
     "output_type": "stream",
     "text": [
      "68.1 Period MAE: 68.06\n",
      "It's underpredicted.\n",
      "Monthly Error: 19.15 Period MAE: 1.94\n"
     ]
    },
    {
     "name": "stderr",
     "output_type": "stream",
     "text": [
      "22:17:01 - cmdstanpy - INFO - Chain [1] start processing\n"
     ]
    },
    {
     "name": "stdout",
     "output_type": "stream",
     "text": [
      "It's overpredicted.\n",
      "Monthly Error: It's underpredicted.29.06\n",
      "Monthly Error:  Period MAE: 71.09 Period MAE:24.169999999999998"
     ]
    },
    {
     "name": "stderr",
     "output_type": "stream",
     "text": [
      "22:17:01 - cmdstanpy - INFO - Chain [1] done processing\n",
      "22:17:01 - cmdstanpy - INFO - Chain [1] start processing\n"
     ]
    },
    {
     "name": "stdout",
     "output_type": "stream",
     "text": [
      " \n",
      "70.44\n"
     ]
    },
    {
     "name": "stderr",
     "output_type": "stream",
     "text": [
      "22:17:01 - cmdstanpy - INFO - Chain [1] done processing\n",
      "22:17:02 - cmdstanpy - INFO - Chain [1] start processing\n",
      "22:17:02 - cmdstanpy - INFO - Chain [1] done processing\n",
      "22:17:02 - cmdstanpy - INFO - Chain [1] start processing\n",
      "22:17:02 - cmdstanpy - INFO - Chain [1] done processing\n"
     ]
    },
    {
     "name": "stdout",
     "output_type": "stream",
     "text": [
      "It's underpredicted.\n",
      "Monthly Error: 70.43 Period MAE: 69.46\n",
      "It's underpredicted."
     ]
    },
    {
     "name": "stderr",
     "output_type": "stream",
     "text": [
      "22:17:03 - cmdstanpy - INFO - Chain [1] start processing\n"
     ]
    },
    {
     "name": "stdout",
     "output_type": "stream",
     "text": [
      "\n",
      "Monthly Error: 70.54 Period MAE: "
     ]
    },
    {
     "name": "stderr",
     "output_type": "stream",
     "text": [
      "22:17:03 - cmdstanpy - INFO - Chain [1] done processing\n"
     ]
    },
    {
     "name": "stdout",
     "output_type": "stream",
     "text": [
      "70.44\n"
     ]
    },
    {
     "name": "stderr",
     "output_type": "stream",
     "text": [
      "22:17:03 - cmdstanpy - INFO - Chain [1] start processing\n",
      "22:17:03 - cmdstanpy - INFO - Chain [1] done processing\n"
     ]
    },
    {
     "name": "stdout",
     "output_type": "stream",
     "text": [
      "It's overpredicted.\n",
      "Monthly Error: 14.24 Period MAE: 4.78\n",
      "It's overpredicted.\n",
      "Monthly Error: 24.66 Period MAE: "
     ]
    },
    {
     "name": "stderr",
     "output_type": "stream",
     "text": [
      "22:17:04 - cmdstanpy - INFO - Chain [1] start processing\n"
     ]
    },
    {
     "name": "stdout",
     "output_type": "stream",
     "text": [
      "9.719999999999999\n"
     ]
    },
    {
     "name": "stderr",
     "output_type": "stream",
     "text": [
      "22:17:04 - cmdstanpy - INFO - Chain [1] done processing\n"
     ]
    },
    {
     "name": "stdout",
     "output_type": "stream",
     "text": [
      "It's underpredicted.\n",
      "It's overpredicted.Monthly Error:\n",
      " 69.78Monthly Error: Period MAE:  68.78999999999999\n",
      "45.29 Period MAE: 10.33\n"
     ]
    },
    {
     "name": "stderr",
     "output_type": "stream",
     "text": [
      "22:17:05 - cmdstanpy - INFO - Chain [1] start processing\n",
      "22:17:05 - cmdstanpy - INFO - Chain [1] start processing\n",
      "22:17:05 - cmdstanpy - INFO - Chain [1] done processing\n",
      "22:17:05 - cmdstanpy - INFO - Chain [1] start processing\n",
      "22:17:05 - cmdstanpy - INFO - Chain [1] done processing\n",
      "22:17:05 - cmdstanpy - INFO - Chain [1] done processing\n"
     ]
    },
    {
     "name": "stdout",
     "output_type": "stream",
     "text": [
      "It's underpredicted.\n",
      "Monthly Error: 69.57 Period MAE: 68.67\n",
      "It's overpredicted.\n",
      "Monthly Error: 41.97 Period MAE: 1.43"
     ]
    },
    {
     "name": "stderr",
     "output_type": "stream",
     "text": [
      "22:17:06 - cmdstanpy - INFO - Chain [1] start processing\n"
     ]
    },
    {
     "name": "stdout",
     "output_type": "stream",
     "text": [
      "\n",
      "It's underpredicted.\n",
      "Monthly Error: 72.33 "
     ]
    },
    {
     "name": "stderr",
     "output_type": "stream",
     "text": [
      "22:17:06 - cmdstanpy - INFO - Chain [1] done processing\n"
     ]
    },
    {
     "name": "stdout",
     "output_type": "stream",
     "text": [
      "Period MAE: 71.66\n"
     ]
    },
    {
     "name": "stderr",
     "output_type": "stream",
     "text": [
      "22:17:06 - cmdstanpy - INFO - Chain [1] start processing\n",
      "22:17:06 - cmdstanpy - INFO - Chain [1] start processing\n",
      "22:17:06 - cmdstanpy - INFO - Chain [1] done processing\n",
      "22:17:06 - cmdstanpy - INFO - Chain [1] done processing\n"
     ]
    },
    {
     "name": "stdout",
     "output_type": "stream",
     "text": [
      "It's overpredicted.\n",
      "Monthly Error: 49.46 Period MAE:It's overpredicted. \n",
      "Monthly Error:8.0 48.47\n",
      " Period MAE: It's underpredicted.6.7299999999999995\n",
      "\n",
      "Monthly Error: 71.48 Period MAE: 70.39999999999999\n"
     ]
    },
    {
     "name": "stderr",
     "output_type": "stream",
     "text": [
      "22:17:07 - cmdstanpy - INFO - Chain [1] start processing\n",
      "22:17:07 - cmdstanpy - INFO - Chain [1] start processing\n",
      "22:17:07 - cmdstanpy - INFO - Chain [1] done processing\n"
     ]
    },
    {
     "name": "stdout",
     "output_type": "stream",
     "text": [
      "It's overpredicted.\n",
      "Monthly Error:"
     ]
    },
    {
     "name": "stderr",
     "output_type": "stream",
     "text": [
      "22:17:07 - cmdstanpy - INFO - Chain [1] start processing\n"
     ]
    },
    {
     "name": "stdout",
     "output_type": "stream",
     "text": [
      " 46.31 Period MAE: 1.02"
     ]
    },
    {
     "name": "stderr",
     "output_type": "stream",
     "text": [
      "22:17:07 - cmdstanpy - INFO - Chain [1] done processing\n"
     ]
    },
    {
     "name": "stdout",
     "output_type": "stream",
     "text": [
      "\n"
     ]
    },
    {
     "name": "stderr",
     "output_type": "stream",
     "text": [
      "22:17:07 - cmdstanpy - INFO - Chain [1] done processing\n",
      "22:17:07 - cmdstanpy - INFO - Chain [1] start processing\n"
     ]
    },
    {
     "name": "stdout",
     "output_type": "stream",
     "text": [
      "It's underpredicted.\n"
     ]
    },
    {
     "name": "stderr",
     "output_type": "stream",
     "text": [
      "22:17:07 - cmdstanpy - INFO - Chain [1] done processing\n"
     ]
    },
    {
     "name": "stdout",
     "output_type": "stream",
     "text": [
      "Monthly Error: 71.36 Period MAE: 70.5\n"
     ]
    },
    {
     "name": "stderr",
     "output_type": "stream",
     "text": [
      "22:17:08 - cmdstanpy - INFO - Chain [1] start processing\n",
      "22:17:08 - cmdstanpy - INFO - Chain [1] done processing\n"
     ]
    },
    {
     "name": "stdout",
     "output_type": "stream",
     "text": [
      "It's underpredicted.\n",
      "Monthly Error: 69.37 Period MAE: 69.06\n"
     ]
    },
    {
     "name": "stderr",
     "output_type": "stream",
     "text": [
      "22:17:08 - cmdstanpy - INFO - Chain [1] start processing\n"
     ]
    },
    {
     "name": "stdout",
     "output_type": "stream",
     "text": [
      "It's overpredicted.It's underpredicted.\n",
      "\n",
      "Monthly Error: 74.28 Monthly Error:Period MAE: 73.28\n",
      " 51.5"
     ]
    },
    {
     "name": "stderr",
     "output_type": "stream",
     "text": [
      "22:17:09 - cmdstanpy - INFO - Chain [1] done processing\n"
     ]
    },
    {
     "name": "stdout",
     "output_type": "stream",
     "text": [
      " It's overpredicted.Period MAE:\n",
      "Monthly Error:  44.55 Period MAE: 6.859999999999999\n",
      "2.73\n"
     ]
    },
    {
     "name": "stderr",
     "output_type": "stream",
     "text": [
      "22:17:09 - cmdstanpy - INFO - Chain [1] start processing\n",
      "22:17:09 - cmdstanpy - INFO - Chain [1] start processing\n",
      "22:17:09 - cmdstanpy - INFO - Chain [1] start processing\n",
      "22:17:09 - cmdstanpy - INFO - Chain [1] done processing\n",
      "22:17:09 - cmdstanpy - INFO - Chain [1] done processing\n",
      "22:17:09 - cmdstanpy - INFO - Chain [1] done processing\n"
     ]
    },
    {
     "name": "stdout",
     "output_type": "stream",
     "text": [
      "It's underpredicted.\n",
      "Monthly Error: 74.43 Period MAE: 73.29\n"
     ]
    },
    {
     "name": "stderr",
     "output_type": "stream",
     "text": [
      "22:17:10 - cmdstanpy - INFO - Chain [1] start processing\n",
      "22:17:10 - cmdstanpy - INFO - Chain [1] done processing\n"
     ]
    },
    {
     "name": "stdout",
     "output_type": "stream",
     "text": [
      "It's overpredicted.\n",
      "It's underpredicted.Monthly Error: \n",
      "43.6Monthly Error: Period MAE:  2.7473.31\n",
      " Period MAE: 72.95\n"
     ]
    },
    {
     "name": "stderr",
     "output_type": "stream",
     "text": [
      "22:17:10 - cmdstanpy - INFO - Chain [1] start processing\n",
      "22:17:10 - cmdstanpy - INFO - Chain [1] start processing\n",
      "22:17:10 - cmdstanpy - INFO - Chain [1] done processing\n",
      "22:17:10 - cmdstanpy - INFO - Chain [1] done processing\n"
     ]
    },
    {
     "name": "stdout",
     "output_type": "stream",
     "text": [
      "It's overpredicted.\n",
      "Monthly Error: 47.85 Period MAE: 2.4899999999999998\n",
      "It's underpredicted.\n",
      "Monthly Error: 17.23 Period MAE:"
     ]
    },
    {
     "name": "stderr",
     "output_type": "stream",
     "text": [
      "22:17:11 - cmdstanpy - INFO - Chain [1] start processing\n"
     ]
    },
    {
     "name": "stdout",
     "output_type": "stream",
     "text": [
      " 9.43\n",
      "It's underpredicted.\n",
      "Monthly Error: 82.19 Period MAE: 81.25\n"
     ]
    },
    {
     "name": "stderr",
     "output_type": "stream",
     "text": [
      "22:17:11 - cmdstanpy - INFO - Chain [1] done processing\n",
      "22:17:11 - cmdstanpy - INFO - Chain [1] start processing\n",
      "22:17:11 - cmdstanpy - INFO - Chain [1] start processing\n",
      "22:17:11 - cmdstanpy - INFO - Chain [1] done processing\n",
      "22:17:11 - cmdstanpy - INFO - Chain [1] done processing\n"
     ]
    },
    {
     "name": "stdout",
     "output_type": "stream",
     "text": [
      "It's underpredicted.\n",
      "Monthly Error: 16.08 Period MAE: 5.8999999999999995\n"
     ]
    },
    {
     "name": "stderr",
     "output_type": "stream",
     "text": [
      "22:17:12 - cmdstanpy - INFO - Chain [1] start processing\n",
      "22:17:12 - cmdstanpy - INFO - Chain [1] done processing\n"
     ]
    },
    {
     "name": "stdout",
     "output_type": "stream",
     "text": [
      "It's underpredicted.\n",
      "Monthly Error: 75.34 Period MAE: 74.22It's underpredicted.\n",
      "\n",
      "Monthly Error: 79.09 Period MAE: 78.01\n"
     ]
    },
    {
     "name": "stderr",
     "output_type": "stream",
     "text": [
      "22:17:12 - cmdstanpy - INFO - Chain [1] start processing\n",
      "22:17:12 - cmdstanpy - INFO - Chain [1] start processing\n",
      "22:17:12 - cmdstanpy - INFO - Chain [1] done processing\n",
      "22:17:12 - cmdstanpy - INFO - Chain [1] done processing\n"
     ]
    },
    {
     "name": "stdout",
     "output_type": "stream",
     "text": [
      "It's underpredicted.\n",
      "Monthly Error: It's overpredicted.17.26\n",
      " Monthly Error:Period MAE:  17.299.53 \n",
      "Period MAE: 8.4\n",
      "It's underpredicted.\n",
      "Monthly Error: 80.88 Period MAE: 80.0\n"
     ]
    },
    {
     "name": "stderr",
     "output_type": "stream",
     "text": [
      "22:17:13 - cmdstanpy - INFO - Chain [1] start processing\n",
      "22:17:13 - cmdstanpy - INFO - Chain [1] start processing\n",
      "22:17:13 - cmdstanpy - INFO - Chain [1] start processing\n",
      "22:17:13 - cmdstanpy - INFO - Chain [1] done processing\n",
      "22:17:13 - cmdstanpy - INFO - Chain [1] done processing\n",
      "22:17:13 - cmdstanpy - INFO - Chain [1] done processing\n"
     ]
    },
    {
     "name": "stdout",
     "output_type": "stream",
     "text": [
      "It's overpredicted.\n",
      "Monthly Error: 28.97 Period MAE: 22.509999999999998\n"
     ]
    },
    {
     "name": "stderr",
     "output_type": "stream",
     "text": [
      "22:17:14 - cmdstanpy - INFO - Chain [1] start processing\n",
      "22:17:14 - cmdstanpy - INFO - Chain [1] done processing\n"
     ]
    },
    {
     "name": "stdout",
     "output_type": "stream",
     "text": [
      "It's underpredicted.\n",
      "Monthly Error: 76.38 Period MAE: 75.25\n"
     ]
    },
    {
     "name": "stderr",
     "output_type": "stream",
     "text": [
      "22:17:14 - cmdstanpy - INFO - Chain [1] start processing\n"
     ]
    },
    {
     "name": "stdout",
     "output_type": "stream",
     "text": [
      "It's underpredicted.\n",
      "Monthly Error: 76.41 Period MAE: 75.3\n",
      "It's overpredicted.\n",
      "Monthly Error: 14.8"
     ]
    },
    {
     "name": "stderr",
     "output_type": "stream",
     "text": [
      "22:17:15 - cmdstanpy - INFO - Chain [1] done processing\n"
     ]
    },
    {
     "name": "stdout",
     "output_type": "stream",
     "text": [
      " Period MAE: 3.88\n"
     ]
    },
    {
     "name": "stderr",
     "output_type": "stream",
     "text": [
      "22:17:15 - cmdstanpy - INFO - Chain [1] start processing\n",
      "22:17:15 - cmdstanpy - INFO - Chain [1] done processing\n"
     ]
    },
    {
     "name": "stdout",
     "output_type": "stream",
     "text": [
      "It's overpredicted.\n",
      "Monthly Error: 22.62 Period MAE: 11.97\n"
     ]
    },
    {
     "name": "stderr",
     "output_type": "stream",
     "text": [
      "22:17:15 - cmdstanpy - INFO - Chain [1] start processing\n"
     ]
    },
    {
     "name": "stdout",
     "output_type": "stream",
     "text": [
      "It's underpredicted.\n",
      "Monthly Error: 84.55 Period MAE: 83.83"
     ]
    },
    {
     "name": "stderr",
     "output_type": "stream",
     "text": [
      "22:17:15 - cmdstanpy - INFO - Chain [1] start processing\n"
     ]
    },
    {
     "name": "stdout",
     "output_type": "stream",
     "text": [
      "\n"
     ]
    },
    {
     "name": "stderr",
     "output_type": "stream",
     "text": [
      "22:17:15 - cmdstanpy - INFO - Chain [1] done processing\n",
      "22:17:15 - cmdstanpy - INFO - Chain [1] done processing\n",
      "22:17:15 - cmdstanpy - INFO - Chain [1] start processing\n",
      "22:17:16 - cmdstanpy - INFO - Chain [1] done processing\n"
     ]
    },
    {
     "name": "stdout",
     "output_type": "stream",
     "text": [
      "It's overpredicted.\n",
      "Monthly Error: 22.69 Period MAE: 11.51\n",
      "It's underpredicted.\n"
     ]
    },
    {
     "name": "stderr",
     "output_type": "stream",
     "text": [
      "22:17:16 - cmdstanpy - INFO - Chain [1] start processing\n"
     ]
    },
    {
     "name": "stdout",
     "output_type": "stream",
     "text": [
      "Monthly Error: 78.49 Period MAE: 77.17\n"
     ]
    },
    {
     "name": "stderr",
     "output_type": "stream",
     "text": [
      "22:17:16 - cmdstanpy - INFO - Chain [1] done processing\n"
     ]
    },
    {
     "name": "stdout",
     "output_type": "stream",
     "text": [
      "It's underpredicted.\n",
      "Monthly Error: 82.52 Period MAE: 81.64\n"
     ]
    },
    {
     "name": "stderr",
     "output_type": "stream",
     "text": [
      "22:17:16 - cmdstanpy - INFO - Chain [1] start processing\n",
      "22:17:17 - cmdstanpy - INFO - Chain [1] start processing\n",
      "22:17:17 - cmdstanpy - INFO - Chain [1] done processing\n",
      "22:17:17 - cmdstanpy - INFO - Chain [1] done processing\n"
     ]
    },
    {
     "name": "stdout",
     "output_type": "stream",
     "text": [
      "It's overpredicted.\n",
      "Monthly Error: 22.99 Period MAE: 11.91\n"
     ]
    },
    {
     "name": "stderr",
     "output_type": "stream",
     "text": [
      "22:17:17 - cmdstanpy - INFO - Chain [1] start processing\n"
     ]
    },
    {
     "name": "stdout",
     "output_type": "stream",
     "text": [
      "It's overpredicted.\n",
      "Monthly Error: 56.62 It's underpredicted.\n",
      "Monthly Error:Period MAE:  83.06 Period MAE: 82.1300000000000124.27\n",
      "\n"
     ]
    },
    {
     "name": "stderr",
     "output_type": "stream",
     "text": [
      "22:17:18 - cmdstanpy - INFO - Chain [1] start processing\n",
      "22:17:18 - cmdstanpy - INFO - Chain [1] done processing\n",
      "22:17:18 - cmdstanpy - INFO - Chain [1] done processing\n",
      "22:17:18 - cmdstanpy - INFO - Chain [1] start processing\n"
     ]
    },
    {
     "name": "stdout",
     "output_type": "stream",
     "text": [
      "It's overpredicted.\n",
      "Monthly Error: 58.36 Period MAE: 25.88"
     ]
    },
    {
     "name": "stderr",
     "output_type": "stream",
     "text": [
      "22:17:18 - cmdstanpy - INFO - Chain [1] done processing\n"
     ]
    },
    {
     "name": "stdout",
     "output_type": "stream",
     "text": [
      "\n"
     ]
    },
    {
     "name": "stderr",
     "output_type": "stream",
     "text": [
      "22:17:18 - cmdstanpy - INFO - Chain [1] start processing\n"
     ]
    },
    {
     "name": "stdout",
     "output_type": "stream",
     "text": [
      "It's underpredicted.\n",
      "Monthly Error:"
     ]
    },
    {
     "name": "stderr",
     "output_type": "stream",
     "text": [
      "22:17:18 - cmdstanpy - INFO - Chain [1] done processing\n"
     ]
    },
    {
     "name": "stdout",
     "output_type": "stream",
     "text": [
      " 77.46 Period MAE: 76.14\n",
      "It's underpredicted.\n",
      "Monthly Error: 83.11 Period MAE: 82.22\n"
     ]
    },
    {
     "name": "stderr",
     "output_type": "stream",
     "text": [
      "22:17:19 - cmdstanpy - INFO - Chain [1] start processing\n",
      "22:17:19 - cmdstanpy - INFO - Chain [1] done processing\n",
      "22:17:19 - cmdstanpy - INFO - Chain [1] start processing\n",
      "22:17:19 - cmdstanpy - INFO - Chain [1] done processing\n"
     ]
    },
    {
     "name": "stdout",
     "output_type": "stream",
     "text": [
      "It's overpredicted.\n",
      "Monthly Error: 59.1 Period MAE: 24.86\n",
      "It's underpredicted.\n",
      "Monthly Error: It's overpredicted.\n",
      "83.06 Monthly Error:Period MAE: 82.13000000000001 46.15\n",
      " Period MAE: 9.9\n"
     ]
    },
    {
     "name": "stderr",
     "output_type": "stream",
     "text": [
      "22:17:20 - cmdstanpy - INFO - Chain [1] start processing\n",
      "22:17:20 - cmdstanpy - INFO - Chain [1] start processing\n",
      "22:17:21 - cmdstanpy - INFO - Chain [1] start processing\n",
      "22:17:21 - cmdstanpy - INFO - Chain [1] done processing\n",
      "22:17:21 - cmdstanpy - INFO - Chain [1] done processing\n",
      "22:17:21 - cmdstanpy - INFO - Chain [1] done processing\n"
     ]
    },
    {
     "name": "stdout",
     "output_type": "stream",
     "text": [
      "It's overpredicted.\n",
      "Monthly Error: 54.25 Period MAE: 19.650000000000002\n",
      "It's underpredicted.\n",
      "Monthly Error: 82.23 Period MAE: "
     ]
    },
    {
     "name": "stderr",
     "output_type": "stream",
     "text": [
      "22:17:21 - cmdstanpy - INFO - Chain [1] start processing\n"
     ]
    },
    {
     "name": "stdout",
     "output_type": "stream",
     "text": [
      "81.17\n",
      "It's underpredicted.\n",
      "Monthly Error: "
     ]
    },
    {
     "name": "stderr",
     "output_type": "stream",
     "text": [
      "22:17:21 - cmdstanpy - INFO - Chain [1] done processing\n"
     ]
    },
    {
     "name": "stdout",
     "output_type": "stream",
     "text": [
      "81.45 Period MAE: 80.4\n"
     ]
    },
    {
     "name": "stderr",
     "output_type": "stream",
     "text": [
      "22:17:22 - cmdstanpy - INFO - Chain [1] start processing\n",
      "22:17:22 - cmdstanpy - INFO - Chain [1] start processing\n",
      "22:17:22 - cmdstanpy - INFO - Chain [1] done processing\n",
      "22:17:22 - cmdstanpy - INFO - Chain [1] done processing\n"
     ]
    },
    {
     "name": "stdout",
     "output_type": "stream",
     "text": [
      "It's overpredicted.\n",
      "Monthly Error: 48.4 Period MAE: 13.15\n",
      "It's overpredicted.\n",
      "Monthly Error: 43.7 "
     ]
    },
    {
     "name": "stderr",
     "output_type": "stream",
     "text": [
      "22:17:22 - cmdstanpy - INFO - Chain [1] start processing\n"
     ]
    },
    {
     "name": "stdout",
     "output_type": "stream",
     "text": [
      "Period MAE: It's underpredicted.1.02\n",
      "\n",
      "Monthly Error: 85.16 Period MAE: 84.5\n"
     ]
    },
    {
     "name": "stderr",
     "output_type": "stream",
     "text": [
      "22:17:23 - cmdstanpy - INFO - Chain [1] start processing\n",
      "22:17:23 - cmdstanpy - INFO - Chain [1] done processing\n",
      "22:17:23 - cmdstanpy - INFO - Chain [1] done processing\n",
      "22:17:23 - cmdstanpy - INFO - Chain [1] start processing\n",
      "22:17:23 - cmdstanpy - INFO - Chain [1] done processing\n"
     ]
    },
    {
     "name": "stdout",
     "output_type": "stream",
     "text": [
      "It's overpredicted.\n",
      "Monthly Error: 43.71 Period MAE: 0.67\n",
      "It's underpredicted.\n",
      "Monthly Error: 67.6 Period MAE: 67.03\n"
     ]
    },
    {
     "name": "stderr",
     "output_type": "stream",
     "text": [
      "22:17:23 - cmdstanpy - INFO - Chain [1] start processing\n",
      "22:17:23 - cmdstanpy - INFO - Chain [1] done processing\n",
      "22:17:23 - cmdstanpy - INFO - Chain [1] start processing\n"
     ]
    },
    {
     "name": "stdout",
     "output_type": "stream",
     "text": [
      "It's underpredicted.\n",
      "Monthly Error: 86.12"
     ]
    },
    {
     "name": "stderr",
     "output_type": "stream",
     "text": [
      "22:17:24 - cmdstanpy - INFO - Chain [1] done processing\n"
     ]
    },
    {
     "name": "stdout",
     "output_type": "stream",
     "text": [
      " Period MAE: 85.61999999999999\n"
     ]
    },
    {
     "name": "stderr",
     "output_type": "stream",
     "text": [
      "22:17:24 - cmdstanpy - INFO - Chain [1] start processing\n"
     ]
    },
    {
     "name": "stdout",
     "output_type": "stream",
     "text": [
      "It's overpredicted.It's underpredicted.\n",
      "Monthly Error: \n",
      "69.04 Period MAE: Monthly Error:68.34 \n",
      "44.19 Period MAE: 1.7999999999999998"
     ]
    },
    {
     "name": "stderr",
     "output_type": "stream",
     "text": [
      "22:17:24 - cmdstanpy - INFO - Chain [1] done processing\n"
     ]
    },
    {
     "name": "stdout",
     "output_type": "stream",
     "text": [
      "\n",
      "It's underpredicted.\n",
      "Monthly Error: 15.52 Period MAE: 3.09\n"
     ]
    },
    {
     "name": "stderr",
     "output_type": "stream",
     "text": [
      "22:17:24 - cmdstanpy - INFO - Chain [1] start processing\n",
      "22:17:25 - cmdstanpy - INFO - Chain [1] done processing\n",
      "22:17:25 - cmdstanpy - INFO - Chain [1] start processing\n",
      "22:17:25 - cmdstanpy - INFO - Chain [1] start processing\n",
      "22:17:25 - cmdstanpy - INFO - Chain [1] done processing\n",
      "22:17:25 - cmdstanpy - INFO - Chain [1] done processing\n"
     ]
    },
    {
     "name": "stdout",
     "output_type": "stream",
     "text": [
      "It's underpredicted.\n",
      "Monthly Error: 70.86 Period MAE: 70.06\n",
      "It's underpredicted.\n",
      " Monthly Error:18.29 Period MAE: 11.360000000000001\n"
     ]
    },
    {
     "name": "stderr",
     "output_type": "stream",
     "text": [
      "22:17:25 - cmdstanpy - INFO - Chain [1] start processing\n",
      "22:17:25 - cmdstanpy - INFO - Chain [1] done processing\n",
      "22:17:25 - cmdstanpy - INFO - Chain [1] start processing\n"
     ]
    },
    {
     "name": "stdout",
     "output_type": "stream",
     "text": [
      "It's underpredicted.\n",
      "Monthly Error: 68.45 Period MAE: 68.16\n"
     ]
    },
    {
     "name": "stderr",
     "output_type": "stream",
     "text": [
      "22:17:26 - cmdstanpy - INFO - Chain [1] done processing\n"
     ]
    },
    {
     "name": "stdout",
     "output_type": "stream",
     "text": [
      "It's underpredicted.\n",
      "Monthly Error: 18.69 Period MAE: 4.84"
     ]
    },
    {
     "name": "stderr",
     "output_type": "stream",
     "text": [
      "22:17:26 - cmdstanpy - INFO - Chain [1] start processing\n"
     ]
    },
    {
     "name": "stdout",
     "output_type": "stream",
     "text": [
      "\n"
     ]
    },
    {
     "name": "stderr",
     "output_type": "stream",
     "text": [
      "22:17:26 - cmdstanpy - INFO - Chain [1] done processing\n"
     ]
    },
    {
     "name": "stdout",
     "output_type": "stream",
     "text": [
      "It's underpredicted.\n",
      "Monthly Error: 70.49 Period MAE:"
     ]
    },
    {
     "name": "stderr",
     "output_type": "stream",
     "text": [
      "22:17:26 - cmdstanpy - INFO - Chain [1] start processing\n"
     ]
    },
    {
     "name": "stdout",
     "output_type": "stream",
     "text": [
      " 69.69\n",
      "It's overpredicted.\n",
      "Monthly Error: 19.65"
     ]
    },
    {
     "name": "stderr",
     "output_type": "stream",
     "text": [
      "22:17:27 - cmdstanpy - INFO - Chain [1] done processing\n"
     ]
    },
    {
     "name": "stdout",
     "output_type": "stream",
     "text": [
      " Period MAE: 7.75\n"
     ]
    },
    {
     "name": "stderr",
     "output_type": "stream",
     "text": [
      "22:17:27 - cmdstanpy - INFO - Chain [1] start processing\n",
      "22:17:27 - cmdstanpy - INFO - Chain [1] start processing\n",
      "22:17:27 - cmdstanpy - INFO - Chain [1] done processing\n",
      "22:17:27 - cmdstanpy - INFO - Chain [1] done processing\n"
     ]
    },
    {
     "name": "stdout",
     "output_type": "stream",
     "text": [
      "It's underpredicted.\n",
      "Monthly Error: 15.2 Period MAE: 2.81\n",
      "It's underpredicted.\n",
      "It's underpredicted.Monthly Error:\n",
      " Monthly Error: 69.1368.22 Period MAE:  68.47999999999999Period MAE: 67.92\n",
      "\n"
     ]
    },
    {
     "name": "stderr",
     "output_type": "stream",
     "text": [
      "22:17:28 - cmdstanpy - INFO - Chain [1] start processing\n",
      "22:17:28 - cmdstanpy - INFO - Chain [1] done processing\n",
      "22:17:28 - cmdstanpy - INFO - Chain [1] start processing\n",
      "22:17:28 - cmdstanpy - INFO - Chain [1] start processing\n",
      "22:17:28 - cmdstanpy - INFO - Chain [1] done processing\n",
      "22:17:28 - cmdstanpy - INFO - Chain [1] done processing\n"
     ]
    },
    {
     "name": "stdout",
     "output_type": "stream",
     "text": [
      "It's overpredicted.\n",
      "Monthly Error: 18.67 Period MAE: 2.52\n",
      "It's underpredicted.\n",
      "Monthly Error: 68.08 Period MAE: 67.45\n",
      "It's overpredicted.\n",
      "Monthly Error: 13.67 "
     ]
    },
    {
     "name": "stderr",
     "output_type": "stream",
     "text": [
      "22:17:29 - cmdstanpy - INFO - Chain [1] start processing\n"
     ]
    },
    {
     "name": "stdout",
     "output_type": "stream",
     "text": [
      "Period MAE: 6.909999999999999\n"
     ]
    },
    {
     "name": "stderr",
     "output_type": "stream",
     "text": [
      "22:17:29 - cmdstanpy - INFO - Chain [1] start processing\n",
      "22:17:29 - cmdstanpy - INFO - Chain [1] done processing\n",
      "22:17:29 - cmdstanpy - INFO - Chain [1] done processing\n"
     ]
    },
    {
     "name": "stdout",
     "output_type": "stream",
     "text": [
      "It's underpredicted."
     ]
    },
    {
     "name": "stderr",
     "output_type": "stream",
     "text": [
      "22:17:29 - cmdstanpy - INFO - Chain [1] start processing\n"
     ]
    },
    {
     "name": "stdout",
     "output_type": "stream",
     "text": [
      "\n",
      "Monthly Error: 15.48 Period MAE: 6.11"
     ]
    },
    {
     "name": "stderr",
     "output_type": "stream",
     "text": [
      "22:17:29 - cmdstanpy - INFO - Chain [1] done processing\n"
     ]
    },
    {
     "name": "stdout",
     "output_type": "stream",
     "text": [
      "\n"
     ]
    },
    {
     "name": "stderr",
     "output_type": "stream",
     "text": [
      "22:17:29 - cmdstanpy - INFO - Chain [1] start processing\n",
      "22:17:29 - cmdstanpy - INFO - Chain [1] done processing\n"
     ]
    },
    {
     "name": "stdout",
     "output_type": "stream",
     "text": [
      "It's underpredicted.\n",
      "Monthly Error: 72.73 Period MAE: 71.61999999999999\n",
      "It's underpredicted.\n",
      "Monthly Error: "
     ]
    },
    {
     "name": "stderr",
     "output_type": "stream",
     "text": [
      "22:17:30 - cmdstanpy - INFO - Chain [1] start processing\n"
     ]
    },
    {
     "name": "stdout",
     "output_type": "stream",
     "text": [
      "67.71 Period MAE: 67.51\n"
     ]
    },
    {
     "name": "stderr",
     "output_type": "stream",
     "text": [
      "22:17:30 - cmdstanpy - INFO - Chain [1] done processing\n",
      "22:17:30 - cmdstanpy - INFO - Chain [1] start processing\n",
      "22:17:30 - cmdstanpy - INFO - Chain [1] done processing\n"
     ]
    },
    {
     "name": "stdout",
     "output_type": "stream",
     "text": [
      "It's underpredicted.\n",
      "Monthly Error: 16.81 Period MAE: 2.7199999999999998\n",
      "It's underpredicted.\n",
      "Monthly Error: 73.28It's overpredicted. \n",
      "Monthly Error:Period MAE: 72.14 \n",
      "43.88 Period MAE: 7.07\n"
     ]
    },
    {
     "name": "stderr",
     "output_type": "stream",
     "text": [
      "22:17:31 - cmdstanpy - INFO - Chain [1] start processing\n",
      "22:17:31 - cmdstanpy - INFO - Chain [1] start processing\n",
      "22:17:31 - cmdstanpy - INFO - Chain [1] start processing\n",
      "22:17:31 - cmdstanpy - INFO - Chain [1] done processing\n",
      "22:17:31 - cmdstanpy - INFO - Chain [1] done processing\n",
      "22:17:31 - cmdstanpy - INFO - Chain [1] done processing\n"
     ]
    },
    {
     "name": "stdout",
     "output_type": "stream",
     "text": [
      "It's overpredicted.\n",
      "Monthly Error: 42.01 Period MAE: 0.8500000000000001\n"
     ]
    },
    {
     "name": "stderr",
     "output_type": "stream",
     "text": [
      "22:17:31 - cmdstanpy - INFO - Chain [1] start processing\n"
     ]
    },
    {
     "name": "stdout",
     "output_type": "stream",
     "text": [
      "It's underpredicted.\n",
      "Monthly Error: 70.13 Period MAE: 69.17999999999999"
     ]
    },
    {
     "name": "stderr",
     "output_type": "stream",
     "text": [
      "22:17:32 - cmdstanpy - INFO - Chain [1] done processing\n"
     ]
    },
    {
     "name": "stdout",
     "output_type": "stream",
     "text": [
      "\n",
      "It's underpredicted.\n",
      "Monthly Error: 73.13 Period MAE:"
     ]
    },
    {
     "name": "stderr",
     "output_type": "stream",
     "text": [
      "22:17:32 - cmdstanpy - INFO - Chain [1] start processing\n"
     ]
    },
    {
     "name": "stdout",
     "output_type": "stream",
     "text": [
      " 72.28\n"
     ]
    },
    {
     "name": "stderr",
     "output_type": "stream",
     "text": [
      "22:17:32 - cmdstanpy - INFO - Chain [1] done processing\n",
      "22:17:32 - cmdstanpy - INFO - Chain [1] start processing\n",
      "22:17:32 - cmdstanpy - INFO - Chain [1] done processing\n"
     ]
    },
    {
     "name": "stdout",
     "output_type": "stream",
     "text": [
      "It's overpredicted.\n",
      "Monthly Error: 45.9 Period MAE: It's overpredicted.5.27\n",
      "Monthly Error:\n",
      " 48.99 Period MAE: 7.7299999999999995\n",
      "It's underpredicted.\n",
      "Monthly Error: 70.93 Period MAE: 69.91000000000001\n"
     ]
    },
    {
     "name": "stderr",
     "output_type": "stream",
     "text": [
      "22:17:33 - cmdstanpy - INFO - Chain [1] start processing\n",
      "22:17:33 - cmdstanpy - INFO - Chain [1] start processing\n",
      "22:17:33 - cmdstanpy - INFO - Chain [1] done processing\n",
      "22:17:33 - cmdstanpy - INFO - Chain [1] start processing\n",
      "22:17:33 - cmdstanpy - INFO - Chain [1] done processing\n",
      "22:17:33 - cmdstanpy - INFO - Chain [1] done processing\n"
     ]
    },
    {
     "name": "stdout",
     "output_type": "stream",
     "text": [
      "It's underpredicted.\n",
      "Monthly Error: 71.77 Period MAE: 70.75\n"
     ]
    },
    {
     "name": "stderr",
     "output_type": "stream",
     "text": [
      "22:17:34 - cmdstanpy - INFO - Chain [1] start processing\n"
     ]
    },
    {
     "name": "stdout",
     "output_type": "stream",
     "text": [
      "It's overpredicted."
     ]
    },
    {
     "name": "stderr",
     "output_type": "stream",
     "text": [
      "22:17:34 - cmdstanpy - INFO - Chain [1] done processing\n"
     ]
    },
    {
     "name": "stdout",
     "output_type": "stream",
     "text": [
      "\n",
      "Monthly Error: 47.23 It's underpredicted.\n",
      "Period MAE:Monthly Error: 3.46 \n",
      "72.2 Period MAE: 71.47\n"
     ]
    },
    {
     "name": "stderr",
     "output_type": "stream",
     "text": [
      "22:17:34 - cmdstanpy - INFO - Chain [1] start processing\n",
      "22:17:34 - cmdstanpy - INFO - Chain [1] done processing\n",
      "22:17:34 - cmdstanpy - INFO - Chain [1] start processing\n",
      "22:17:34 - cmdstanpy - INFO - Chain [1] done processing\n"
     ]
    },
    {
     "name": "stdout",
     "output_type": "stream",
     "text": [
      "It's overpredicted.\n",
      "Monthly Error: 53.33 Period MAE: 9.8\n",
      "It's underpredicted.\n",
      "Monthly Error: 72.13 Period MAE:"
     ]
    },
    {
     "name": "stderr",
     "output_type": "stream",
     "text": [
      "22:17:35 - cmdstanpy - INFO - Chain [1] start processing\n"
     ]
    },
    {
     "name": "stdout",
     "output_type": "stream",
     "text": [
      " It's overpredicted.71.06\n",
      "\n",
      "Monthly Error: 42.56 Period MAE: 1.69\n"
     ]
    },
    {
     "name": "stderr",
     "output_type": "stream",
     "text": [
      "22:17:35 - cmdstanpy - INFO - Chain [1] start processing\n",
      "22:17:35 - cmdstanpy - INFO - Chain [1] done processing\n",
      "22:17:35 - cmdstanpy - INFO - Chain [1] start processing\n",
      "22:17:35 - cmdstanpy - INFO - Chain [1] done processing\n"
     ]
    },
    {
     "name": "stdout",
     "output_type": "stream",
     "text": [
      "It's overpredicted.\n",
      "Monthly Error: 43.48 "
     ]
    },
    {
     "name": "stderr",
     "output_type": "stream",
     "text": [
      "22:17:35 - cmdstanpy - INFO - Chain [1] done processing\n"
     ]
    },
    {
     "name": "stdout",
     "output_type": "stream",
     "text": [
      "Period MAE: 2.97\n"
     ]
    },
    {
     "name": "stderr",
     "output_type": "stream",
     "text": [
      "22:17:36 - cmdstanpy - INFO - Chain [1] start processing\n"
     ]
    },
    {
     "name": "stdout",
     "output_type": "stream",
     "text": [
      "It's underpredicted."
     ]
    },
    {
     "name": "stderr",
     "output_type": "stream",
     "text": [
      "22:17:36 - cmdstanpy - INFO - Chain [1] done processing\n"
     ]
    },
    {
     "name": "stdout",
     "output_type": "stream",
     "text": [
      "\n",
      "Monthly Error: 72.89 Period MAE: 71.8\n"
     ]
    },
    {
     "name": "stderr",
     "output_type": "stream",
     "text": [
      "22:17:36 - cmdstanpy - INFO - Chain [1] start processing\n",
      "22:17:36 - cmdstanpy - INFO - Chain [1] done processing\n"
     ]
    },
    {
     "name": "stdout",
     "output_type": "stream",
     "text": [
      "It's underpredicted.\n",
      "Monthly Error: 73.9 Period MAE: 73.1\n"
     ]
    },
    {
     "name": "stderr",
     "output_type": "stream",
     "text": [
      "22:17:37 - cmdstanpy - INFO - Chain [1] start processing\n"
     ]
    },
    {
     "name": "stdout",
     "output_type": "stream",
     "text": [
      "It's underpredicted.\n",
      "Monthly Error: 16.62 Period MAE: 7.7700000000000005\n"
     ]
    },
    {
     "name": "stderr",
     "output_type": "stream",
     "text": [
      "22:17:37 - cmdstanpy - INFO - Chain [1] done processing\n"
     ]
    },
    {
     "name": "stdout",
     "output_type": "stream",
     "text": [
      "It's overpredicted.\n",
      "Monthly Error: 45.55 Period MAE: 3.3000000000000003\n"
     ]
    },
    {
     "name": "stderr",
     "output_type": "stream",
     "text": [
      "22:17:37 - cmdstanpy - INFO - Chain [1] start processing\n"
     ]
    },
    {
     "name": "stdout",
     "output_type": "stream",
     "text": [
      "It's underpredicted.\n",
      "Monthly Error: 72.87 Period MAE: 71.78999999999999\n"
     ]
    },
    {
     "name": "stderr",
     "output_type": "stream",
     "text": [
      "22:17:37 - cmdstanpy - INFO - Chain [1] done processing\n",
      "22:17:37 - cmdstanpy - INFO - Chain [1] start processing\n",
      "22:17:37 - cmdstanpy - INFO - Chain [1] done processing\n",
      "22:17:37 - cmdstanpy - INFO - Chain [1] start processing\n",
      "22:17:38 - cmdstanpy - INFO - Chain [1] done processing\n"
     ]
    },
    {
     "name": "stdout",
     "output_type": "stream",
     "text": [
      "It's underpredicted.\n",
      "Monthly Error: 16.56 Period MAE: 7.5600000000000005\n",
      "It's underpredicted.\n",
      "Monthly Error: 74.05 "
     ]
    },
    {
     "name": "stderr",
     "output_type": "stream",
     "text": [
      "22:17:38 - cmdstanpy - INFO - Chain [1] start processing\n"
     ]
    },
    {
     "name": "stdout",
     "output_type": "stream",
     "text": [
      "Period MAE: 72.92\n"
     ]
    },
    {
     "name": "stderr",
     "output_type": "stream",
     "text": [
      "22:17:38 - cmdstanpy - INFO - Chain [1] done processing\n"
     ]
    },
    {
     "name": "stdout",
     "output_type": "stream",
     "text": [
      "It's underpredicted.\n",
      "Monthly Error: 74.98 Period MAE: 73.87\n"
     ]
    },
    {
     "name": "stderr",
     "output_type": "stream",
     "text": [
      "22:17:38 - cmdstanpy - INFO - Chain [1] start processing\n",
      "22:17:38 - cmdstanpy - INFO - Chain [1] start processing\n",
      "22:17:38 - cmdstanpy - INFO - Chain [1] done processing\n",
      "22:17:38 - cmdstanpy - INFO - Chain [1] done processing\n"
     ]
    },
    {
     "name": "stdout",
     "output_type": "stream",
     "text": [
      "It's overpredicted.\n",
      "Monthly Error: 14.07It's underpredicted.\n",
      "It's underpredicted.\n",
      "Monthly Error:  75.65Period MAE:  Monthly Error:Period MAE:1.67\n",
      "  15.8974.53 Period MAE:\n",
      " 5.29\n"
     ]
    },
    {
     "name": "stderr",
     "output_type": "stream",
     "text": [
      "22:17:39 - cmdstanpy - INFO - Chain [1] start processing\n",
      "22:17:40 - cmdstanpy - INFO - Chain [1] start processing\n",
      "22:17:40 - cmdstanpy - INFO - Chain [1] done processing\n"
     ]
    },
    {
     "name": "stdout",
     "output_type": "stream",
     "text": [
      "It's overpredicted.\n",
      "Monthly Error: 16.81 Period MAE:"
     ]
    },
    {
     "name": "stderr",
     "output_type": "stream",
     "text": [
      "22:17:40 - cmdstanpy - INFO - Chain [1] start processing\n"
     ]
    },
    {
     "name": "stdout",
     "output_type": "stream",
     "text": [
      " 7.960000000000001\n"
     ]
    },
    {
     "name": "stderr",
     "output_type": "stream",
     "text": [
      "22:17:40 - cmdstanpy - INFO - Chain [1] done processing\n",
      "22:17:40 - cmdstanpy - INFO - Chain [1] done processing\n",
      "22:17:40 - cmdstanpy - INFO - Chain [1] start processing\n",
      "22:17:40 - cmdstanpy - INFO - Chain [1] done processing\n"
     ]
    },
    {
     "name": "stdout",
     "output_type": "stream",
     "text": [
      "It's underpredicted.\n",
      "Monthly Error: 73.15 Period MAE: 72.05\n",
      "It's underpredicted.\n",
      "Monthly Error: 74.82 Period MAE: 73.7\n"
     ]
    },
    {
     "name": "stderr",
     "output_type": "stream",
     "text": [
      "22:17:41 - cmdstanpy - INFO - Chain [1] start processing\n",
      "22:17:41 - cmdstanpy - INFO - Chain [1] done processing\n"
     ]
    },
    {
     "name": "stdout",
     "output_type": "stream",
     "text": [
      "It's overpredicted.\n",
      "Monthly Error: 14.16 Period MAE: "
     ]
    },
    {
     "name": "stderr",
     "output_type": "stream",
     "text": [
      "22:17:41 - cmdstanpy - INFO - Chain [1] start processing\n"
     ]
    },
    {
     "name": "stdout",
     "output_type": "stream",
     "text": [
      "7.000000000000001\n"
     ]
    },
    {
     "name": "stderr",
     "output_type": "stream",
     "text": [
      "22:17:41 - cmdstanpy - INFO - Chain [1] done processing\n"
     ]
    },
    {
     "name": "stdout",
     "output_type": "stream",
     "text": [
      "It's overpredicted.\n",
      "Monthly Error: 14.73 Period MAE: 3.08\n",
      "It's underpredicted.\n",
      "Monthly Error: "
     ]
    },
    {
     "name": "stderr",
     "output_type": "stream",
     "text": [
      "22:17:42 - cmdstanpy - INFO - Chain [1] start processing\n"
     ]
    },
    {
     "name": "stdout",
     "output_type": "stream",
     "text": [
      "73.52 Period MAE: 72.39999999999999\n"
     ]
    },
    {
     "name": "stderr",
     "output_type": "stream",
     "text": [
      "22:17:42 - cmdstanpy - INFO - Chain [1] start processing\n",
      "22:17:42 - cmdstanpy - INFO - Chain [1] done processing\n",
      "22:17:42 - cmdstanpy - INFO - Chain [1] start processing\n",
      "22:17:42 - cmdstanpy - INFO - Chain [1] done processing\n",
      "22:17:42 - cmdstanpy - INFO - Chain [1] done processing\n"
     ]
    },
    {
     "name": "stdout",
     "output_type": "stream",
     "text": [
      "It's underpredicted.\n",
      "Monthly Error:It's overpredicted. \n",
      "Monthly Error:75.84  14.04 Period MAE: Period MAE: 74.460000000000016.7299999999999995\n",
      "\n"
     ]
    },
    {
     "name": "stderr",
     "output_type": "stream",
     "text": [
      "22:17:42 - cmdstanpy - INFO - Chain [1] start processing\n",
      "22:17:42 - cmdstanpy - INFO - Chain [1] done processing\n"
     ]
    },
    {
     "name": "stdout",
     "output_type": "stream",
     "text": [
      "It's underpredicted.\n",
      "Monthly Error: "
     ]
    },
    {
     "name": "stderr",
     "output_type": "stream",
     "text": [
      "22:17:43 - cmdstanpy - INFO - Chain [1] start processing\n"
     ]
    },
    {
     "name": "stdout",
     "output_type": "stream",
     "text": [
      "73.1 Period MAE: 72.0\n"
     ]
    },
    {
     "name": "stderr",
     "output_type": "stream",
     "text": [
      "22:17:43 - cmdstanpy - INFO - Chain [1] done processing\n",
      "22:17:43 - cmdstanpy - INFO - Chain [1] start processing\n",
      "22:17:43 - cmdstanpy - INFO - Chain [1] done processing\n"
     ]
    },
    {
     "name": "stdout",
     "output_type": "stream",
     "text": [
      "It's overpredicted.\n",
      "Monthly Error: 13.56 Period MAE: 5.17\n",
      "It's underpredicted.\n",
      "Monthly Error: 76.55 It's overpredicted.\n",
      "Period MAE:Monthly Error: 42.87  75.18\n",
      "Period MAE: 4.46\n"
     ]
    },
    {
     "name": "stderr",
     "output_type": "stream",
     "text": [
      "22:17:44 - cmdstanpy - INFO - Chain [1] start processing\n",
      "22:17:44 - cmdstanpy - INFO - Chain [1] start processing\n",
      "22:17:44 - cmdstanpy - INFO - Chain [1] done processing\n",
      "22:17:44 - cmdstanpy - INFO - Chain [1] done processing\n",
      "22:17:44 - cmdstanpy - INFO - Chain [1] start processing\n",
      "22:17:44 - cmdstanpy - INFO - Chain [1] done processing\n"
     ]
    },
    {
     "name": "stdout",
     "output_type": "stream",
     "text": [
      "It's overpredicted.\n",
      "Monthly Error: 43.31 Period MAE: 5.72\n",
      "It's underpredicted.\n",
      "Monthly Error: 75.43 Period MAE: 74.09\n"
     ]
    },
    {
     "name": "stderr",
     "output_type": "stream",
     "text": [
      "22:17:44 - cmdstanpy - INFO - Chain [1] start processing\n"
     ]
    },
    {
     "name": "stdout",
     "output_type": "stream",
     "text": [
      "It's underpredicted.\n"
     ]
    },
    {
     "name": "stderr",
     "output_type": "stream",
     "text": [
      "22:17:45 - cmdstanpy - INFO - Chain [1] done processing\n"
     ]
    },
    {
     "name": "stdout",
     "output_type": "stream",
     "text": [
      "Monthly Error: 76.94 Period MAE: 75.58\n"
     ]
    },
    {
     "name": "stderr",
     "output_type": "stream",
     "text": [
      "22:17:45 - cmdstanpy - INFO - Chain [1] start processing\n",
      "22:17:45 - cmdstanpy - INFO - Chain [1] done processing\n",
      "22:17:45 - cmdstanpy - INFO - Chain [1] start processing\n",
      "22:17:45 - cmdstanpy - INFO - Chain [1] done processing\n"
     ]
    },
    {
     "name": "stdout",
     "output_type": "stream",
     "text": [
      "It's overpredicted.\n",
      "Monthly Error: 43.16 Period MAE: 5.1499999999999995\n",
      "It's underpredicted.\n",
      "Monthly Error: 76.38 Period MAE: "
     ]
    },
    {
     "name": "stderr",
     "output_type": "stream",
     "text": [
      "22:17:46 - cmdstanpy - INFO - Chain [1] start processing\n"
     ]
    },
    {
     "name": "stdout",
     "output_type": "stream",
     "text": [
      "75.03\n",
      "It's overpredicted.\n",
      "Monthly Error: 48.66 Period MAE: 13.55\n"
     ]
    },
    {
     "name": "stderr",
     "output_type": "stream",
     "text": [
      "22:17:46 - cmdstanpy - INFO - Chain [1] done processing\n",
      "22:17:46 - cmdstanpy - INFO - Chain [1] start processing\n",
      "22:17:46 - cmdstanpy - INFO - Chain [1] done processing\n",
      "22:17:46 - cmdstanpy - INFO - Chain [1] start processing\n"
     ]
    },
    {
     "name": "stdout",
     "output_type": "stream",
     "text": [
      "It's overpredicted.\n",
      "Monthly Error: 48.43 Period MAE: 13.15\n"
     ]
    },
    {
     "name": "stderr",
     "output_type": "stream",
     "text": [
      "22:17:46 - cmdstanpy - INFO - Chain [1] start processing\n",
      "22:17:46 - cmdstanpy - INFO - Chain [1] done processing\n",
      "22:17:46 - cmdstanpy - INFO - Chain [1] done processing\n"
     ]
    },
    {
     "name": "stdout",
     "output_type": "stream",
     "text": [
      "It's underpredicted.\n",
      "Monthly Error: It's underpredicted.77.43\n",
      "Monthly Error:  Period MAE:76.0 Period MAE:  76.08\n",
      "74.66000000000001\n"
     ]
    },
    {
     "name": "stderr",
     "output_type": "stream",
     "text": [
      "22:17:47 - cmdstanpy - INFO - Chain [1] start processing\n",
      "22:17:47 - cmdstanpy - INFO - Chain [1] start processing\n",
      "22:17:47 - cmdstanpy - INFO - Chain [1] done processing\n",
      "22:17:47 - cmdstanpy - INFO - Chain [1] done processing\n"
     ]
    },
    {
     "name": "stdout",
     "output_type": "stream",
     "text": [
      "It's overpredicted.\n",
      "Monthly Error: 45.21 Period MAE: 9.07\n",
      "It's underpredicted.\n",
      "Monthly Error:"
     ]
    },
    {
     "name": "stderr",
     "output_type": "stream",
     "text": [
      "22:17:48 - cmdstanpy - INFO - Chain [1] start processing\n"
     ]
    },
    {
     "name": "stdout",
     "output_type": "stream",
     "text": [
      " 76.31It's overpredicted. Period MAE:\n",
      " 74.94\n",
      "Monthly Error: 48.26 Period MAE: 12.94\n"
     ]
    },
    {
     "name": "stderr",
     "output_type": "stream",
     "text": [
      "22:17:48 - cmdstanpy - INFO - Chain [1] done processing\n",
      "22:17:48 - cmdstanpy - INFO - Chain [1] start processing\n",
      "22:17:48 - cmdstanpy - INFO - Chain [1] done processing\n",
      "22:17:48 - cmdstanpy - INFO - Chain [1] start processing\n"
     ]
    },
    {
     "name": "stdout",
     "output_type": "stream",
     "text": [
      "It's overpredicted.\n",
      "Monthly Error: 45.49 Period MAE: 9.790000000000001\n"
     ]
    },
    {
     "name": "stderr",
     "output_type": "stream",
     "text": [
      "22:17:48 - cmdstanpy - INFO - Chain [1] done processing\n",
      "22:17:48 - cmdstanpy - INFO - Chain [1] start processing\n",
      "22:17:48 - cmdstanpy - INFO - Chain [1] done processing\n"
     ]
    },
    {
     "name": "stdout",
     "output_type": "stream",
     "text": [
      "It's underpredicted.\n",
      "Monthly Error: 69.28 Period MAE: 68.60000000000001\n",
      "It's underpredicted.\n",
      "Monthly Error: 77.05 Period MAE: 75.69\n"
     ]
    },
    {
     "name": "stderr",
     "output_type": "stream",
     "text": [
      "22:17:49 - cmdstanpy - INFO - Chain [1] start processing\n",
      "22:17:49 - cmdstanpy - INFO - Chain [1] done processing\n",
      "22:17:49 - cmdstanpy - INFO - Chain [1] start processing\n",
      "22:17:49 - cmdstanpy - INFO - Chain [1] done processing\n"
     ]
    },
    {
     "name": "stdout",
     "output_type": "stream",
     "text": [
      "It's underpredicted.\n",
      "Monthly Error: 15.95 Period MAE: 4.41\n",
      "It's underpredicted.\n",
      "Monthly Error: 69.53 Period MAE: 68.74\n",
      "It's overpredicted.\n",
      "Monthly Error: 45.53"
     ]
    },
    {
     "name": "stderr",
     "output_type": "stream",
     "text": [
      "22:17:50 - cmdstanpy - INFO - Chain [1] start processing\n"
     ]
    },
    {
     "name": "stdout",
     "output_type": "stream",
     "text": [
      " Period MAE: 9.700000000000001\n"
     ]
    },
    {
     "name": "stderr",
     "output_type": "stream",
     "text": [
      "22:17:50 - cmdstanpy - INFO - Chain [1] start processing\n",
      "22:17:50 - cmdstanpy - INFO - Chain [1] done processing\n"
     ]
    },
    {
     "name": "stdout",
     "output_type": "stream",
     "text": [
      "It's overpredicted.\n",
      "Monthly Error: 15.04 Period MAE: 0.24\n"
     ]
    },
    {
     "name": "stderr",
     "output_type": "stream",
     "text": [
      "22:17:50 - cmdstanpy - INFO - Chain [1] start processing\n",
      "22:17:50 - cmdstanpy - INFO - Chain [1] done processing\n",
      "22:17:51 - cmdstanpy - INFO - Chain [1] start processing\n",
      "22:17:51 - cmdstanpy - INFO - Chain [1] done processing\n",
      "22:17:51 - cmdstanpy - INFO - Chain [1] done processing\n"
     ]
    },
    {
     "name": "stdout",
     "output_type": "stream",
     "text": [
      "It's underpredicted.\n",
      "Monthly Error: 68.56 Period MAE: 68.47\n",
      "It's underpredicted.\n",
      "Monthly Error: 69.2 Period MAE: 68.52000000000001\n"
     ]
    },
    {
     "name": "stderr",
     "output_type": "stream",
     "text": [
      "22:17:51 - cmdstanpy - INFO - Chain [1] start processing\n",
      "22:17:51 - cmdstanpy - INFO - Chain [1] done processing\n",
      "22:17:51 - cmdstanpy - INFO - Chain [1] start processing\n",
      "22:17:52 - cmdstanpy - INFO - Chain [1] done processing\n"
     ]
    },
    {
     "name": "stdout",
     "output_type": "stream",
     "text": [
      "It's overpredicted.\n",
      "Monthly Error: 20.78 Period MAE: 7.8100000000000005\n",
      "It's overpredicted.\n",
      "Monthly Error: 22.18 Period MAE: 11.16\n",
      "It's underpredicted.\n",
      "Monthly Error: 67.02 Period MAE:"
     ]
    },
    {
     "name": "stderr",
     "output_type": "stream",
     "text": [
      "22:17:52 - cmdstanpy - INFO - Chain [1] start processing\n"
     ]
    },
    {
     "name": "stdout",
     "output_type": "stream",
     "text": [
      " 66.42\n"
     ]
    },
    {
     "name": "stderr",
     "output_type": "stream",
     "text": [
      "22:17:52 - cmdstanpy - INFO - Chain [1] start processing\n",
      "22:17:52 - cmdstanpy - INFO - Chain [1] start processing\n",
      "22:17:52 - cmdstanpy - INFO - Chain [1] done processing\n",
      "22:17:52 - cmdstanpy - INFO - Chain [1] done processing\n",
      "22:17:52 - cmdstanpy - INFO - Chain [1] done processing\n"
     ]
    },
    {
     "name": "stdout",
     "output_type": "stream",
     "text": [
      "It's overpredicted.\n",
      "Monthly Error: 16.46 Period MAE: 0.19\n",
      "It's underpredicted.\n",
      "Monthly Error: 70.39It's underpredicted. Period MAE: 69.78999999999999\n",
      "\n",
      "Monthly Error:"
     ]
    },
    {
     "name": "stderr",
     "output_type": "stream",
     "text": [
      "22:17:53 - cmdstanpy - INFO - Chain [1] start processing\n"
     ]
    },
    {
     "name": "stdout",
     "output_type": "stream",
     "text": [
      " 67.27 Period MAE: 67.2\n"
     ]
    },
    {
     "name": "stderr",
     "output_type": "stream",
     "text": [
      "22:17:53 - cmdstanpy - INFO - Chain [1] done processing\n",
      "22:17:53 - cmdstanpy - INFO - Chain [1] start processing\n",
      "22:17:53 - cmdstanpy - INFO - Chain [1] start processing\n",
      "22:17:54 - cmdstanpy - INFO - Chain [1] done processing\n",
      "22:17:54 - cmdstanpy - INFO - Chain [1] done processing\n"
     ]
    },
    {
     "name": "stdout",
     "output_type": "stream",
     "text": [
      "It's underpredicted.\n",
      "Monthly Error: 71.17 Period MAE: 70.52000000000001\n",
      "It's overpredicted.\n",
      "Monthly Error: 20.75 Period MAE: 1.79\n",
      "It's overpredicted.\n",
      "Monthly Error: 28.91 Period MAE:"
     ]
    },
    {
     "name": "stderr",
     "output_type": "stream",
     "text": [
      "22:17:54 - cmdstanpy - INFO - Chain [1] start processing\n"
     ]
    },
    {
     "name": "stdout",
     "output_type": "stream",
     "text": [
      " 24.04\n"
     ]
    },
    {
     "name": "stderr",
     "output_type": "stream",
     "text": [
      "22:17:54 - cmdstanpy - INFO - Chain [1] start processing\n",
      "22:17:54 - cmdstanpy - INFO - Chain [1] start processing\n",
      "22:17:55 - cmdstanpy - INFO - Chain [1] done processing\n",
      "22:17:55 - cmdstanpy - INFO - Chain [1] done processing\n",
      "22:17:55 - cmdstanpy - INFO - Chain [1] done processing\n"
     ]
    },
    {
     "name": "stdout",
     "output_type": "stream",
     "text": [
      "It's overpredicted.\n",
      "Monthly Error: 14.92 Period MAE: 6.7\n"
     ]
    },
    {
     "name": "stderr",
     "output_type": "stream",
     "text": [
      "22:17:55 - cmdstanpy - INFO - Chain [1] start processing\n"
     ]
    },
    {
     "name": "stdout",
     "output_type": "stream",
     "text": [
      "It's underpredicted.\n"
     ]
    },
    {
     "name": "stderr",
     "output_type": "stream",
     "text": [
      "22:17:55 - cmdstanpy - INFO - Chain [1] done processing\n"
     ]
    },
    {
     "name": "stdout",
     "output_type": "stream",
     "text": [
      "Monthly Error: 74.84 Period MAE: 73.67\n",
      "It's underpredicted.\n",
      "Monthly Error: 70.72"
     ]
    },
    {
     "name": "stderr",
     "output_type": "stream",
     "text": [
      "22:17:55 - cmdstanpy - INFO - Chain [1] start processing\n"
     ]
    },
    {
     "name": "stdout",
     "output_type": "stream",
     "text": [
      " Period MAE: 70.69\n"
     ]
    },
    {
     "name": "stderr",
     "output_type": "stream",
     "text": [
      "22:17:56 - cmdstanpy - INFO - Chain [1] done processing\n"
     ]
    },
    {
     "name": "stdout",
     "output_type": "stream",
     "text": [
      "It's overpredicted.\n",
      "Monthly Error:"
     ]
    },
    {
     "name": "stderr",
     "output_type": "stream",
     "text": [
      "22:17:56 - cmdstanpy - INFO - Chain [1] start processing\n"
     ]
    },
    {
     "name": "stdout",
     "output_type": "stream",
     "text": [
      " 23.32 Period MAE: 8.129999999999999\n"
     ]
    },
    {
     "name": "stderr",
     "output_type": "stream",
     "text": [
      "22:17:56 - cmdstanpy - INFO - Chain [1] done processing\n",
      "22:17:56 - cmdstanpy - INFO - Chain [1] start processing\n"
     ]
    },
    {
     "name": "stdout",
     "output_type": "stream",
     "text": [
      "It's overpredicted.\n",
      "It's underpredicted.\n",
      "Monthly Error: Monthly Error: 71.38 Period MAE: 44.09 Period MAE: 7.91\n",
      "70.28999999999999\n"
     ]
    },
    {
     "name": "stderr",
     "output_type": "stream",
     "text": [
      "22:17:56 - cmdstanpy - INFO - Chain [1] start processing\n",
      "22:17:56 - cmdstanpy - INFO - Chain [1] done processing\n",
      "22:17:56 - cmdstanpy - INFO - Chain [1] done processing\n",
      "22:17:57 - cmdstanpy - INFO - Chain [1] start processing\n",
      "22:17:57 - cmdstanpy - INFO - Chain [1] done processing\n"
     ]
    },
    {
     "name": "stdout",
     "output_type": "stream",
     "text": [
      "It's overpredicted.\n",
      "Monthly Error: 42.28 Period MAE: 2.23\n",
      "It's underpredicted.\n",
      "Monthly Error: It's underpredicted.73.23 \n",
      "Monthly Error:Period MAE: 70.45 "
     ]
    },
    {
     "name": "stderr",
     "output_type": "stream",
     "text": [
      "22:17:57 - cmdstanpy - INFO - Chain [1] start processing\n"
     ]
    },
    {
     "name": "stdout",
     "output_type": "stream",
     "text": [
      "72.64\n",
      " Period MAE: 69.48"
     ]
    },
    {
     "name": "stderr",
     "output_type": "stream",
     "text": [
      "22:17:57 - cmdstanpy - INFO - Chain [1] done processing\n"
     ]
    },
    {
     "name": "stdout",
     "output_type": "stream",
     "text": [
      "\n"
     ]
    },
    {
     "name": "stderr",
     "output_type": "stream",
     "text": [
      "22:17:57 - cmdstanpy - INFO - Chain [1] start processing\n",
      "22:17:57 - cmdstanpy - INFO - Chain [1] start processing\n",
      "22:17:58 - cmdstanpy - INFO - Chain [1] done processing\n",
      "22:17:58 - cmdstanpy - INFO - Chain [1] done processing\n"
     ]
    },
    {
     "name": "stdout",
     "output_type": "stream",
     "text": [
      "It's overpredicted.\n",
      "Monthly Error: 49.74 Period MAE: 8.39\n",
      "It's overpredicted.\n",
      "Monthly Error: 49.03 Period MAE: It's underpredicted.8.219999999999999\n",
      "\n",
      "Monthly Error: 72.6 Period MAE: 71.46000000000001\n"
     ]
    },
    {
     "name": "stderr",
     "output_type": "stream",
     "text": [
      "22:17:58 - cmdstanpy - INFO - Chain [1] start processing\n",
      "22:17:58 - cmdstanpy - INFO - Chain [1] start processing\n",
      "22:17:58 - cmdstanpy - INFO - Chain [1] done processing\n",
      "22:17:59 - cmdstanpy - INFO - Chain [1] start processing\n",
      "22:17:59 - cmdstanpy - INFO - Chain [1] done processing\n",
      "22:17:59 - cmdstanpy - INFO - Chain [1] done processing\n"
     ]
    },
    {
     "name": "stdout",
     "output_type": "stream",
     "text": [
      "It's overpredicted.\n",
      "Monthly Error: 50.47 Period MAE: 9.879999999999999\n",
      "It's underpredicted.\n",
      "Monthly Error: 70.93 Period MAE: "
     ]
    },
    {
     "name": "stderr",
     "output_type": "stream",
     "text": [
      "22:17:59 - cmdstanpy - INFO - Chain [1] start processing\n"
     ]
    },
    {
     "name": "stdout",
     "output_type": "stream",
     "text": [
      "70.1\n"
     ]
    },
    {
     "name": "stderr",
     "output_type": "stream",
     "text": [
      "22:17:59 - cmdstanpy - INFO - Chain [1] done processing\n"
     ]
    },
    {
     "name": "stdout",
     "output_type": "stream",
     "text": [
      "It's underpredicted.\n",
      "Monthly Error: 72.59 Period MAE: 72.18\n"
     ]
    },
    {
     "name": "stderr",
     "output_type": "stream",
     "text": [
      "22:17:59 - cmdstanpy - INFO - Chain [1] start processing\n",
      "22:18:00 - cmdstanpy - INFO - Chain [1] done processing\n",
      "22:18:00 - cmdstanpy - INFO - Chain [1] start processing\n",
      "22:18:00 - cmdstanpy - INFO - Chain [1] done processing\n"
     ]
    },
    {
     "name": "stdout",
     "output_type": "stream",
     "text": [
      "It's underpredicted.\n",
      "Monthly Error: 74.11 Period MAE: It's overpredicted.73.11\n",
      "Monthly Error:\n",
      " 51.64 Period MAE: 3.5900000000000003It's overpredicted.\n",
      "\n",
      "Monthly Error: 44.55 Period MAE: 6.83\n"
     ]
    },
    {
     "name": "stderr",
     "output_type": "stream",
     "text": [
      "22:18:01 - cmdstanpy - INFO - Chain [1] start processing\n",
      "22:18:01 - cmdstanpy - INFO - Chain [1] start processing\n",
      "22:18:01 - cmdstanpy - INFO - Chain [1] done processing\n",
      "22:18:01 - cmdstanpy - INFO - Chain [1] start processing\n"
     ]
    },
    {
     "name": "stdout",
     "output_type": "stream",
     "text": [
      "It's overpredicted.\n",
      "Monthly Error: 43.9 "
     ]
    },
    {
     "name": "stderr",
     "output_type": "stream",
     "text": [
      "22:18:01 - cmdstanpy - INFO - Chain [1] done processing\n"
     ]
    },
    {
     "name": "stdout",
     "output_type": "stream",
     "text": [
      "Period MAE: "
     ]
    },
    {
     "name": "stderr",
     "output_type": "stream",
     "text": [
      "22:18:01 - cmdstanpy - INFO - Chain [1] done processing\n"
     ]
    },
    {
     "name": "stdout",
     "output_type": "stream",
     "text": [
      "3.29\n"
     ]
    },
    {
     "name": "stderr",
     "output_type": "stream",
     "text": [
      "22:18:01 - cmdstanpy - INFO - Chain [1] start processing\n",
      "22:18:01 - cmdstanpy - INFO - Chain [1] done processing\n"
     ]
    },
    {
     "name": "stdout",
     "output_type": "stream",
     "text": [
      "It's underpredicted.\n",
      "Monthly Error: 73.04 Period MAE: 71.94\n"
     ]
    },
    {
     "name": "stderr",
     "output_type": "stream",
     "text": [
      "22:18:01 - cmdstanpy - INFO - Chain [1] start processing\n"
     ]
    },
    {
     "name": "stdout",
     "output_type": "stream",
     "text": [
      "It's underpredicted.\n",
      "Monthly Error: 74.91 Period MAE:"
     ]
    },
    {
     "name": "stderr",
     "output_type": "stream",
     "text": [
      "22:18:02 - cmdstanpy - INFO - Chain [1] done processing\n"
     ]
    },
    {
     "name": "stdout",
     "output_type": "stream",
     "text": [
      " 74.47\n",
      "It's overpredicted.\n",
      "Monthly Error: 47.71 Period MAE: 2.12\n"
     ]
    },
    {
     "name": "stderr",
     "output_type": "stream",
     "text": [
      "22:18:02 - cmdstanpy - INFO - Chain [1] start processing\n",
      "22:18:02 - cmdstanpy - INFO - Chain [1] done processing\n"
     ]
    },
    {
     "name": "stdout",
     "output_type": "stream",
     "text": [
      "It's underpredicted.\n",
      "Monthly Error: 17.02 Period MAE:It's underpredicted.\n",
      "Monthly Error: 8.95\n",
      " 77.95 Period MAE: 76.84\n"
     ]
    },
    {
     "name": "stderr",
     "output_type": "stream",
     "text": [
      "22:18:03 - cmdstanpy - INFO - Chain [1] start processing\n",
      "22:18:03 - cmdstanpy - INFO - Chain [1] start processing\n",
      "22:18:03 - cmdstanpy - INFO - Chain [1] done processing\n",
      "22:18:03 - cmdstanpy - INFO - Chain [1] start processing\n",
      "22:18:03 - cmdstanpy - INFO - Chain [1] done processing\n",
      "22:18:03 - cmdstanpy - INFO - Chain [1] done processing\n"
     ]
    },
    {
     "name": "stdout",
     "output_type": "stream",
     "text": [
      "It's underpredicted.\n",
      "Monthly Error: It's underpredicted.\n",
      "75.63Monthly Error:  Period MAE:16.61 Period MAE:  7.63000000000000174.51\n",
      "\n",
      "It's underpredicted.\n",
      "Monthly Error:"
     ]
    },
    {
     "name": "stderr",
     "output_type": "stream",
     "text": [
      "22:18:04 - cmdstanpy - INFO - Chain [1] start processing\n"
     ]
    },
    {
     "name": "stdout",
     "output_type": "stream",
     "text": [
      " 80.13 Period MAE:"
     ]
    },
    {
     "name": "stderr",
     "output_type": "stream",
     "text": [
      "22:18:04 - cmdstanpy - INFO - Chain [1] start processing\n"
     ]
    },
    {
     "name": "stdout",
     "output_type": "stream",
     "text": [
      " 79.09\n"
     ]
    },
    {
     "name": "stderr",
     "output_type": "stream",
     "text": [
      "22:18:04 - cmdstanpy - INFO - Chain [1] done processing\n",
      "22:18:04 - cmdstanpy - INFO - Chain [1] done processing\n",
      "22:18:05 - cmdstanpy - INFO - Chain [1] start processing\n",
      "22:18:05 - cmdstanpy - INFO - Chain [1] done processing\n"
     ]
    },
    {
     "name": "stdout",
     "output_type": "stream",
     "text": [
      "It's underpredicted.\n",
      "Monthly Error: 17.29 Period MAE: 9.51\n",
      "It's underpredicted.\n",
      "Monthly Error: 82.99 Period MAE: 82.17"
     ]
    },
    {
     "name": "stderr",
     "output_type": "stream",
     "text": [
      "22:18:05 - cmdstanpy - INFO - Chain [1] start processing\n"
     ]
    },
    {
     "name": "stdout",
     "output_type": "stream",
     "text": [
      "It's overpredicted.\n",
      "\n",
      "Monthly Error: 13.58 Period MAE: 0.24\n"
     ]
    },
    {
     "name": "stderr",
     "output_type": "stream",
     "text": [
      "22:18:06 - cmdstanpy - INFO - Chain [1] start processing\n",
      "22:18:06 - cmdstanpy - INFO - Chain [1] done processing\n",
      "22:18:06 - cmdstanpy - INFO - Chain [1] done processing\n"
     ]
    },
    {
     "name": "stdout",
     "output_type": "stream",
     "text": [
      "It's overpredicted."
     ]
    },
    {
     "name": "stderr",
     "output_type": "stream",
     "text": [
      "22:18:06 - cmdstanpy - INFO - Chain [1] start processing\n"
     ]
    },
    {
     "name": "stdout",
     "output_type": "stream",
     "text": [
      "\n",
      "Monthly Error: 28.83 Period MAE:"
     ]
    },
    {
     "name": "stderr",
     "output_type": "stream",
     "text": [
      "22:18:06 - cmdstanpy - INFO - Chain [1] done processing\n"
     ]
    },
    {
     "name": "stdout",
     "output_type": "stream",
     "text": [
      " 22.21\n"
     ]
    },
    {
     "name": "stderr",
     "output_type": "stream",
     "text": [
      "22:18:06 - cmdstanpy - INFO - Chain [1] start processing\n",
      "22:18:06 - cmdstanpy - INFO - Chain [1] done processing\n"
     ]
    },
    {
     "name": "stdout",
     "output_type": "stream",
     "text": [
      "It's underpredicted.\n",
      "Monthly Error: 79.28 Period MAE: 78.23\n",
      "It's underpredicted.\n",
      "Monthly Error: 81.9 Period MAE: 81.02000000000001\n"
     ]
    },
    {
     "name": "stderr",
     "output_type": "stream",
     "text": [
      "22:18:07 - cmdstanpy - INFO - Chain [1] start processing\n",
      "22:18:07 - cmdstanpy - INFO - Chain [1] start processing\n",
      "22:18:07 - cmdstanpy - INFO - Chain [1] done processing\n",
      "22:18:07 - cmdstanpy - INFO - Chain [1] done processing\n"
     ]
    },
    {
     "name": "stdout",
     "output_type": "stream",
     "text": [
      "It's overpredicted.\n",
      "Monthly Error: 14.09 Period MAE: 0.9299999999999999\n",
      "It's overpredicted.\n",
      "Monthly Error:It's underpredicted. 21.72\n",
      " Monthly Error: Period MAE: 84.43 12.93Period MAE: \n",
      "83.7\n"
     ]
    },
    {
     "name": "stderr",
     "output_type": "stream",
     "text": [
      "22:18:07 - cmdstanpy - INFO - Chain [1] start processing\n",
      "22:18:08 - cmdstanpy - INFO - Chain [1] start processing\n",
      "22:18:08 - cmdstanpy - INFO - Chain [1] done processing\n",
      "22:18:08 - cmdstanpy - INFO - Chain [1] start processing\n"
     ]
    },
    {
     "name": "stdout",
     "output_type": "stream",
     "text": [
      "It's overpredicted.\n",
      "Monthly Error: 22.85 "
     ]
    },
    {
     "name": "stderr",
     "output_type": "stream",
     "text": [
      "22:18:08 - cmdstanpy - INFO - Chain [1] done processing\n"
     ]
    },
    {
     "name": "stdout",
     "output_type": "stream",
     "text": [
      "Period MAE: 14.24\n",
      "It's underpredicted.\n",
      "Monthly Error:"
     ]
    },
    {
     "name": "stderr",
     "output_type": "stream",
     "text": [
      "22:18:08 - cmdstanpy - INFO - Chain [1] done processing\n"
     ]
    },
    {
     "name": "stdout",
     "output_type": "stream",
     "text": [
      " "
     ]
    },
    {
     "name": "stderr",
     "output_type": "stream",
     "text": [
      "22:18:08 - cmdstanpy - INFO - Chain [1] start processing\n"
     ]
    },
    {
     "name": "stdout",
     "output_type": "stream",
     "text": [
      "77.18 Period MAE: 75.83\n"
     ]
    },
    {
     "name": "stderr",
     "output_type": "stream",
     "text": [
      "22:18:08 - cmdstanpy - INFO - Chain [1] done processing\n",
      "22:18:08 - cmdstanpy - INFO - Chain [1] start processing\n",
      "22:18:08 - cmdstanpy - INFO - Chain [1] done processing\n"
     ]
    },
    {
     "name": "stdout",
     "output_type": "stream",
     "text": [
      "It's underpredicted.\n",
      "Monthly Error:It's overpredicted. \n",
      "83.67Monthly Error:  Period MAE:43.77  82.89Period MAE: \n",
      "6.890000000000001\n",
      "It's underpredicted.It's overpredicted.\n",
      "\n",
      "Monthly Error:Monthly Error:  22.8983.57  Period MAE:Period MAE:  82.7112.11\n",
      "\n"
     ]
    },
    {
     "name": "stderr",
     "output_type": "stream",
     "text": [
      "22:18:09 - cmdstanpy - INFO - Chain [1] start processing\n",
      "22:18:09 - cmdstanpy - INFO - Chain [1] done processing\n",
      "22:18:09 - cmdstanpy - INFO - Chain [1] start processing\n",
      "22:18:10 - cmdstanpy - INFO - Chain [1] done processing\n",
      "22:18:10 - cmdstanpy - INFO - Chain [1] start processing\n",
      "22:18:10 - cmdstanpy - INFO - Chain [1] start processing\n",
      "22:18:10 - cmdstanpy - INFO - Chain [1] done processing\n",
      "22:18:10 - cmdstanpy - INFO - Chain [1] done processing\n"
     ]
    },
    {
     "name": "stdout",
     "output_type": "stream",
     "text": [
      "It's underpredicted.\n",
      "Monthly Error: 78.06 Period MAE: 76.75999999999999\n"
     ]
    },
    {
     "name": "stderr",
     "output_type": "stream",
     "text": [
      "22:18:10 - cmdstanpy - INFO - Chain [1] start processing\n",
      "22:18:10 - cmdstanpy - INFO - Chain [1] done processing\n"
     ]
    },
    {
     "name": "stdout",
     "output_type": "stream",
     "text": [
      "It's overpredicted.\n",
      "Monthly Error: 48.42 Period MAE: 14.75\n",
      "It's underpredicted.\n",
      "Monthly Error: 83.38 Period MAE: 82.54\n"
     ]
    },
    {
     "name": "stderr",
     "output_type": "stream",
     "text": [
      "22:18:11 - cmdstanpy - INFO - Chain [1] start processing\n"
     ]
    },
    {
     "name": "stdout",
     "output_type": "stream",
     "text": [
      "It's overpredicted."
     ]
    },
    {
     "name": "stderr",
     "output_type": "stream",
     "text": [
      "22:18:11 - cmdstanpy - INFO - Chain [1] done processing\n"
     ]
    },
    {
     "name": "stdout",
     "output_type": "stream",
     "text": [
      "\n",
      "Monthly Error: 45.9"
     ]
    },
    {
     "name": "stderr",
     "output_type": "stream",
     "text": [
      "22:18:11 - cmdstanpy - INFO - Chain [1] start processing\n"
     ]
    },
    {
     "name": "stdout",
     "output_type": "stream",
     "text": [
      " Period MAE: 10.92\n"
     ]
    },
    {
     "name": "stderr",
     "output_type": "stream",
     "text": [
      "22:18:11 - cmdstanpy - INFO - Chain [1] done processing\n"
     ]
    },
    {
     "name": "stdout",
     "output_type": "stream",
     "text": [
      "It's overpredicted.\n",
      "Monthly Error: 46.82 Period MAE: 11.17\n"
     ]
    },
    {
     "name": "stderr",
     "output_type": "stream",
     "text": [
      "22:18:11 - cmdstanpy - INFO - Chain [1] start processing\n"
     ]
    },
    {
     "name": "stdout",
     "output_type": "stream",
     "text": [
      "It's underpredicted.\n",
      "Monthly Error: 82.76 Period MAE: 81.81\n"
     ]
    },
    {
     "name": "stderr",
     "output_type": "stream",
     "text": [
      "22:18:12 - cmdstanpy - INFO - Chain [1] start processing\n",
      "22:18:12 - cmdstanpy - INFO - Chain [1] start processing\n",
      "22:18:12 - cmdstanpy - INFO - Chain [1] done processing\n",
      "22:18:12 - cmdstanpy - INFO - Chain [1] done processing\n",
      "22:18:12 - cmdstanpy - INFO - Chain [1] done processing\n"
     ]
    },
    {
     "name": "stdout",
     "output_type": "stream",
     "text": [
      "It's overpredicted.\n",
      "Monthly Error: 53.58 It's underpredicted.Period MAE:\n",
      " 18.45Monthly Error: \n",
      "80.31 Period MAE: 79.09\n"
     ]
    },
    {
     "name": "stderr",
     "output_type": "stream",
     "text": [
      "22:18:13 - cmdstanpy - INFO - Chain [1] start processing\n",
      "22:18:13 - cmdstanpy - INFO - Chain [1] done processing\n"
     ]
    },
    {
     "name": "stdout",
     "output_type": "stream",
     "text": [
      "It's underpredicted.\n",
      "Monthly Error: "
     ]
    },
    {
     "name": "stderr",
     "output_type": "stream",
     "text": [
      "22:18:13 - cmdstanpy - INFO - Chain [1] start processing\n"
     ]
    },
    {
     "name": "stdout",
     "output_type": "stream",
     "text": [
      "82.14 Period MAE: 81.16\n"
     ]
    },
    {
     "name": "stderr",
     "output_type": "stream",
     "text": [
      "22:18:13 - cmdstanpy - INFO - Chain [1] done processing\n",
      "22:18:13 - cmdstanpy - INFO - Chain [1] start processing\n"
     ]
    },
    {
     "name": "stdout",
     "output_type": "stream",
     "text": [
      "It's overpredicted.\n",
      "Monthly Error: 48.47 Period MAE: 13.22\n"
     ]
    },
    {
     "name": "stderr",
     "output_type": "stream",
     "text": [
      "22:18:13 - cmdstanpy - INFO - Chain [1] done processing\n",
      "22:18:14 - cmdstanpy - INFO - Chain [1] start processing\n"
     ]
    },
    {
     "name": "stdout",
     "output_type": "stream",
     "text": [
      "It's underpredicted.\n",
      "Monthly Error: 82.28 It's overpredicted.\n",
      "Period MAE: Monthly Error:81.2\n",
      " 43.72 Period MAE: 0.8\n"
     ]
    },
    {
     "name": "stderr",
     "output_type": "stream",
     "text": [
      "22:18:14 - cmdstanpy - INFO - Chain [1] start processing\n",
      "22:18:14 - cmdstanpy - INFO - Chain [1] done processing\n",
      "22:18:14 - cmdstanpy - INFO - Chain [1] done processing\n"
     ]
    },
    {
     "name": "stdout",
     "output_type": "stream",
     "text": [
      "It's overpredicted.\n",
      "Monthly Error: 43.63 "
     ]
    },
    {
     "name": "stderr",
     "output_type": "stream",
     "text": [
      "22:18:14 - cmdstanpy - INFO - Chain [1] start processing\n"
     ]
    },
    {
     "name": "stdout",
     "output_type": "stream",
     "text": [
      "Period MAE: 0.16999999999999998\n",
      "It's underpredicted.\n",
      "Monthly Error: "
     ]
    },
    {
     "name": "stderr",
     "output_type": "stream",
     "text": [
      "22:18:14 - cmdstanpy - INFO - Chain [1] done processing\n"
     ]
    },
    {
     "name": "stdout",
     "output_type": "stream",
     "text": [
      "67.74 Period MAE:"
     ]
    },
    {
     "name": "stderr",
     "output_type": "stream",
     "text": [
      "22:18:14 - cmdstanpy - INFO - Chain [1] start processing\n"
     ]
    },
    {
     "name": "stdout",
     "output_type": "stream",
     "text": [
      " 67.16\n"
     ]
    },
    {
     "name": "stderr",
     "output_type": "stream",
     "text": [
      "22:18:14 - cmdstanpy - INFO - Chain [1] done processing\n",
      "22:18:15 - cmdstanpy - INFO - Chain [1] start processing\n"
     ]
    },
    {
     "name": "stdout",
     "output_type": "stream",
     "text": [
      "It's underpredicted.\n",
      "Monthly Error: 85.58 Period MAE: 85.00999999999999\n"
     ]
    },
    {
     "name": "stderr",
     "output_type": "stream",
     "text": [
      "22:18:15 - cmdstanpy - INFO - Chain [1] done processing\n",
      "22:18:15 - cmdstanpy - INFO - Chain [1] start processing\n",
      "22:18:15 - cmdstanpy - INFO - Chain [1] done processing\n"
     ]
    },
    {
     "name": "stdout",
     "output_type": "stream",
     "text": [
      "It's underpredicted.\n",
      "Monthly Error: 67.96 Period MAE: 67.29\n",
      "It's underpredicted.\n",
      "Monthly Error: 43.79 Period MAE: 0.09\n",
      "It's underpredicted.\n",
      "Monthly Error: 15.94 Period MAE: 4.279999999999999\n"
     ]
    },
    {
     "name": "stderr",
     "output_type": "stream",
     "text": [
      "22:18:16 - cmdstanpy - INFO - Chain [1] start processing\n",
      "22:18:16 - cmdstanpy - INFO - Chain [1] done processing\n",
      "22:18:16 - cmdstanpy - INFO - Chain [1] start processing\n",
      "22:18:16 - cmdstanpy - INFO - Chain [1] start processing\n",
      "22:18:16 - cmdstanpy - INFO - Chain [1] done processing\n",
      "22:18:16 - cmdstanpy - INFO - Chain [1] done processing\n"
     ]
    },
    {
     "name": "stdout",
     "output_type": "stream",
     "text": [
      "It's underpredicted.\n",
      "Monthly Error: 15.19 Period MAE: 0.22999999999999998\n",
      "It's underpredicted.\n",
      "Monthly Error: 66.79 Period MAE: 66.28\n"
     ]
    },
    {
     "name": "stderr",
     "output_type": "stream",
     "text": [
      "22:18:17 - cmdstanpy - INFO - Chain [1] start processing\n",
      "22:18:17 - cmdstanpy - INFO - Chain [1] done processing\n",
      "22:18:17 - cmdstanpy - INFO - Chain [1] start processing\n"
     ]
    },
    {
     "name": "stdout",
     "output_type": "stream",
     "text": [
      "It's underpredicted.\n",
      "Monthly Error: 69.13 Period MAE: 69.13\n"
     ]
    },
    {
     "name": "stderr",
     "output_type": "stream",
     "text": [
      "22:18:17 - cmdstanpy - INFO - Chain [1] done processing\n",
      "22:18:17 - cmdstanpy - INFO - Chain [1] start processing\n"
     ]
    },
    {
     "name": "stdout",
     "output_type": "stream",
     "text": [
      "It's overpredicted.\n",
      "Monthly Error: "
     ]
    },
    {
     "name": "stderr",
     "output_type": "stream",
     "text": [
      "22:18:17 - cmdstanpy - INFO - Chain [1] done processing\n"
     ]
    },
    {
     "name": "stdout",
     "output_type": "stream",
     "text": [
      "19.1 Period MAE: 5.8999999999999995\n",
      "It's underpredicted.\n",
      "It's overpredicted.Monthly Error:\n",
      "Monthly Error:  68.08 16.33Period MAE: Period MAE: 67.4\n",
      " 1.8900000000000001\n"
     ]
    },
    {
     "name": "stderr",
     "output_type": "stream",
     "text": [
      "22:18:18 - cmdstanpy - INFO - Chain [1] start processing\n",
      "22:18:18 - cmdstanpy - INFO - Chain [1] start processing\n",
      "22:18:18 - cmdstanpy - INFO - Chain [1] done processing\n",
      "22:18:18 - cmdstanpy - INFO - Chain [1] start processing\n",
      "22:18:18 - cmdstanpy - INFO - Chain [1] done processing\n",
      "22:18:18 - cmdstanpy - INFO - Chain [1] done processing\n"
     ]
    },
    {
     "name": "stdout",
     "output_type": "stream",
     "text": [
      "It's underpredicted.\n",
      "Monthly Error: 70.98 Period MAE: 70.35\n",
      "It's underpredicted.\n",
      "Monthly Error: 16.06 Period MAE: "
     ]
    },
    {
     "name": "stderr",
     "output_type": "stream",
     "text": [
      "22:18:19 - cmdstanpy - INFO - Chain [1] start processing\n"
     ]
    },
    {
     "name": "stdout",
     "output_type": "stream",
     "text": [
      "1.0\n"
     ]
    },
    {
     "name": "stderr",
     "output_type": "stream",
     "text": [
      "22:18:19 - cmdstanpy - INFO - Chain [1] done processing\n"
     ]
    },
    {
     "name": "stdout",
     "output_type": "stream",
     "text": [
      "It's underpredicted.\n"
     ]
    },
    {
     "name": "stderr",
     "output_type": "stream",
     "text": [
      "22:18:19 - cmdstanpy - INFO - Chain [1] start processing\n"
     ]
    },
    {
     "name": "stdout",
     "output_type": "stream",
     "text": [
      "Monthly Error: 69.72 Period MAE: 69.58\n"
     ]
    },
    {
     "name": "stderr",
     "output_type": "stream",
     "text": [
      "22:18:19 - cmdstanpy - INFO - Chain [1] done processing\n"
     ]
    },
    {
     "name": "stdout",
     "output_type": "stream",
     "text": [
      "It's underpredicted.\n",
      "Monthly Error: 19.22 Period MAE: 1.78\n"
     ]
    },
    {
     "name": "stderr",
     "output_type": "stream",
     "text": [
      "22:18:19 - cmdstanpy - INFO - Chain [1] start processing\n"
     ]
    },
    {
     "name": "stdout",
     "output_type": "stream",
     "text": [
      "It's underpredicted."
     ]
    },
    {
     "name": "stderr",
     "output_type": "stream",
     "text": [
      "22:18:20 - cmdstanpy - INFO - Chain [1] done processing\n"
     ]
    },
    {
     "name": "stdout",
     "output_type": "stream",
     "text": [
      "\n",
      "Monthly Error: 71.98 Period MAE: 71.28\n"
     ]
    },
    {
     "name": "stderr",
     "output_type": "stream",
     "text": [
      "22:18:20 - cmdstanpy - INFO - Chain [1] start processing\n"
     ]
    },
    {
     "name": "stdout",
     "output_type": "stream",
     "text": [
      "It's overpredicted.\n",
      "Monthly Error: 29.01"
     ]
    },
    {
     "name": "stderr",
     "output_type": "stream",
     "text": [
      "22:18:20 - cmdstanpy - INFO - Chain [1] done processing\n"
     ]
    },
    {
     "name": "stdout",
     "output_type": "stream",
     "text": [
      " Period MAE: 24.13\n"
     ]
    },
    {
     "name": "stderr",
     "output_type": "stream",
     "text": [
      "22:18:20 - cmdstanpy - INFO - Chain [1] start processing\n",
      "22:18:20 - cmdstanpy - INFO - Chain [1] done processing\n",
      "22:18:20 - cmdstanpy - INFO - Chain [1] start processing\n",
      "22:18:20 - cmdstanpy - INFO - Chain [1] done processing\n"
     ]
    },
    {
     "name": "stdout",
     "output_type": "stream",
     "text": [
      "It's underpredicted.\n",
      "Monthly Error: 70.37 It's underpredicted.Period MAE:\n",
      " Monthly Error:70.30999999999999 70.68\n",
      " Period MAE: 69.67\n"
     ]
    },
    {
     "name": "stderr",
     "output_type": "stream",
     "text": [
      "22:18:21 - cmdstanpy - INFO - Chain [1] start processing\n"
     ]
    },
    {
     "name": "stdout",
     "output_type": "stream",
     "text": [
      "It's overpredicted.\n",
      "Monthly Error: 14.27 Period MAE:4.569999999999999 \n"
     ]
    },
    {
     "name": "stderr",
     "output_type": "stream",
     "text": [
      "22:18:21 - cmdstanpy - INFO - Chain [1] done processing\n",
      "22:18:21 - cmdstanpy - INFO - Chain [1] start processing\n",
      "22:18:21 - cmdstanpy - INFO - Chain [1] start processing\n",
      "22:18:21 - cmdstanpy - INFO - Chain [1] done processing\n",
      "22:18:21 - cmdstanpy - INFO - Chain [1] done processing\n"
     ]
    },
    {
     "name": "stdout",
     "output_type": "stream",
     "text": [
      "It's underpredicted.Monthly Error:\n",
      " 74.49 Period MAE: 73.27\n"
     ]
    },
    {
     "name": "stderr",
     "output_type": "stream",
     "text": [
      "22:18:22 - cmdstanpy - INFO - Chain [1] start processing\n"
     ]
    },
    {
     "name": "stdout",
     "output_type": "stream",
     "text": [
      "It's overpredicted. \n",
      "Monthly Error:44.14 It's overpredicted.Period MAE: \n",
      "Monthly Error:8.07\n",
      " 24.96 Period MAE: 9.89\n"
     ]
    },
    {
     "name": "stderr",
     "output_type": "stream",
     "text": [
      "22:18:23 - cmdstanpy - INFO - Chain [1] done processing\n",
      "22:18:23 - cmdstanpy - INFO - Chain [1] start processing\n"
     ]
    },
    {
     "name": "stdout",
     "output_type": "stream",
     "text": [
      "It's overpredicted.\n",
      "Monthly Error: 42.19 Period MAE: 1.96\n"
     ]
    },
    {
     "name": "stderr",
     "output_type": "stream",
     "text": [
      "22:18:23 - cmdstanpy - INFO - Chain [1] start processing\n",
      "22:18:23 - cmdstanpy - INFO - Chain [1] start processing\n",
      "22:18:23 - cmdstanpy - INFO - Chain [1] done processing\n",
      "22:18:23 - cmdstanpy - INFO - Chain [1] done processing\n",
      "22:18:23 - cmdstanpy - INFO - Chain [1] done processing\n"
     ]
    },
    {
     "name": "stdout",
     "output_type": "stream",
     "text": [
      "It's underpredicted.\n",
      "Monthly Error: 71.9It's underpredicted.\n",
      "Monthly Error: 69.62 Period MAE: 68.72 \n",
      "Period MAE: 71.46000000000001\n"
     ]
    },
    {
     "name": "stderr",
     "output_type": "stream",
     "text": [
      "22:18:24 - cmdstanpy - INFO - Chain [1] start processing\n",
      "22:18:24 - cmdstanpy - INFO - Chain [1] start processing\n"
     ]
    },
    {
     "name": "stdout",
     "output_type": "stream",
     "text": [
      "It's overpredicted.\n"
     ]
    },
    {
     "name": "stderr",
     "output_type": "stream",
     "text": [
      "22:18:24 - cmdstanpy - INFO - Chain [1] done processing\n"
     ]
    },
    {
     "name": "stdout",
     "output_type": "stream",
     "text": [
      "Monthly Error: "
     ]
    },
    {
     "name": "stderr",
     "output_type": "stream",
     "text": [
      "22:18:24 - cmdstanpy - INFO - Chain [1] done processing\n"
     ]
    },
    {
     "name": "stdout",
     "output_type": "stream",
     "text": [
      "48.91 Period MAE: 7.76\n",
      "It's overpredicted.\n",
      "Monthly Error: 49.0 Period MAE: 7.28\n"
     ]
    },
    {
     "name": "stderr",
     "output_type": "stream",
     "text": [
      "22:18:24 - cmdstanpy - INFO - Chain [1] start processing\n",
      "22:18:25 - cmdstanpy - INFO - Chain [1] done processing\n"
     ]
    },
    {
     "name": "stdout",
     "output_type": "stream",
     "text": [
      "It's underpredicted.\n",
      "Monthly Error: 68.89 "
     ]
    },
    {
     "name": "stderr",
     "output_type": "stream",
     "text": [
      "22:18:25 - cmdstanpy - INFO - Chain [1] start processing\n"
     ]
    },
    {
     "name": "stdout",
     "output_type": "stream",
     "text": [
      "Period MAE: 67.95\n"
     ]
    },
    {
     "name": "stderr",
     "output_type": "stream",
     "text": [
      "22:18:25 - cmdstanpy - INFO - Chain [1] done processing\n",
      "22:18:25 - cmdstanpy - INFO - Chain [1] start processing\n"
     ]
    },
    {
     "name": "stdout",
     "output_type": "stream",
     "text": [
      "It's overpredicted.\n",
      "Monthly Error: 46.07 Period MAE: 1.26\n"
     ]
    },
    {
     "name": "stderr",
     "output_type": "stream",
     "text": [
      "22:18:25 - cmdstanpy - INFO - Chain [1] done processing\n",
      "22:18:25 - cmdstanpy - INFO - Chain [1] start processing\n",
      "22:18:25 - cmdstanpy - INFO - Chain [1] done processing\n"
     ]
    },
    {
     "name": "stdout",
     "output_type": "stream",
     "text": [
      "It's underpredicted.\n",
      "Monthly Error: 72.68 Period MAE: 72.16\n",
      "It's underpredicted.\n",
      "Monthly Error: 71.91 Period MAE: 71.02000000000001\n"
     ]
    },
    {
     "name": "stderr",
     "output_type": "stream",
     "text": [
      "22:18:26 - cmdstanpy - INFO - Chain [1] start processing\n",
      "22:18:26 - cmdstanpy - INFO - Chain [1] done processing\n",
      "22:18:26 - cmdstanpy - INFO - Chain [1] start processing\n"
     ]
    },
    {
     "name": "stdout",
     "output_type": "stream",
     "text": [
      "It's overpredicted.\n",
      "Monthly Error: 51.56 Period MAE: 2.68\n"
     ]
    },
    {
     "name": "stderr",
     "output_type": "stream",
     "text": [
      "22:18:26 - cmdstanpy - INFO - Chain [1] done processing\n"
     ]
    },
    {
     "name": "stdout",
     "output_type": "stream",
     "text": [
      "It's overpredicted.\n",
      "Monthly Error: 44.53 Period MAE: 6.819999999999999\n"
     ]
    },
    {
     "name": "stderr",
     "output_type": "stream",
     "text": [
      "22:18:27 - cmdstanpy - INFO - Chain [1] start processing\n"
     ]
    },
    {
     "name": "stdout",
     "output_type": "stream",
     "text": [
      "It's underpredicted.\n",
      "Monthly Error: 73.89 Period MAE: 72.92\n"
     ]
    },
    {
     "name": "stderr",
     "output_type": "stream",
     "text": [
      "22:18:27 - cmdstanpy - INFO - Chain [1] start processing\n",
      "22:18:27 - cmdstanpy - INFO - Chain [1] done processing\n",
      "22:18:27 - cmdstanpy - INFO - Chain [1] start processing\n",
      "22:18:27 - cmdstanpy - INFO - Chain [1] done processing\n",
      "22:18:27 - cmdstanpy - INFO - Chain [1] done processing\n"
     ]
    },
    {
     "name": "stdout",
     "output_type": "stream",
     "text": [
      "It's overpredicted.\n",
      "Monthly Error: 43.35 Period MAE: 2.08\n"
     ]
    },
    {
     "name": "stderr",
     "output_type": "stream",
     "text": [
      "22:18:27 - cmdstanpy - INFO - Chain [1] start processing\n",
      "22:18:27 - cmdstanpy - INFO - Chain [1] done processing\n"
     ]
    },
    {
     "name": "stdout",
     "output_type": "stream",
     "text": [
      "It's underpredicted.It's underpredicted.\n",
      "Monthly Error:\n",
      " 73.71Monthly Error: Period MAE:  74.0173.32 \n",
      "Period MAE: 72.88\n"
     ]
    },
    {
     "name": "stderr",
     "output_type": "stream",
     "text": [
      "22:18:28 - cmdstanpy - INFO - Chain [1] start processing\n",
      "22:18:28 - cmdstanpy - INFO - Chain [1] start processing\n",
      "22:18:28 - cmdstanpy - INFO - Chain [1] done processing\n",
      "22:18:28 - cmdstanpy - INFO - Chain [1] done processing\n"
     ]
    },
    {
     "name": "stdout",
     "output_type": "stream",
     "text": [
      "It's overpredicted.\n",
      "Monthly Error: 47.78 Period MAE: It's underpredicted.2.12\n",
      "\n",
      "Monthly Error:\n",
      "It's underpredicted.Monthly Error:  17.1181.86  Period MAE:Period MAE:  80.929.19\n",
      "\n"
     ]
    },
    {
     "name": "stderr",
     "output_type": "stream",
     "text": [
      "22:18:29 - cmdstanpy - INFO - Chain [1] start processing\n",
      "22:18:29 - cmdstanpy - INFO - Chain [1] start processing\n",
      "22:18:29 - cmdstanpy - INFO - Chain [1] done processing\n",
      "22:18:29 - cmdstanpy - INFO - Chain [1] start processing\n"
     ]
    },
    {
     "name": "stdout",
     "output_type": "stream",
     "text": [
      "It's overpredicted.\n",
      "Monthly Error: 45.55 "
     ]
    },
    {
     "name": "stderr",
     "output_type": "stream",
     "text": [
      "22:18:29 - cmdstanpy - INFO - Chain [1] done processing\n"
     ]
    },
    {
     "name": "stdout",
     "output_type": "stream",
     "text": [
      "Period MAE: 39.62"
     ]
    },
    {
     "name": "stderr",
     "output_type": "stream",
     "text": [
      "22:18:29 - cmdstanpy - INFO - Chain [1] done processing\n"
     ]
    },
    {
     "name": "stdout",
     "output_type": "stream",
     "text": [
      "\n"
     ]
    },
    {
     "name": "stderr",
     "output_type": "stream",
     "text": [
      "22:18:29 - cmdstanpy - INFO - Chain [1] start processing\n",
      "22:18:29 - cmdstanpy - INFO - Chain [1] done processing\n"
     ]
    },
    {
     "name": "stdout",
     "output_type": "stream",
     "text": [
      "It's underpredicted.\n",
      "Monthly Error: 76.53 Period MAE: 75.41\n"
     ]
    },
    {
     "name": "stderr",
     "output_type": "stream",
     "text": [
      "22:18:30 - cmdstanpy - INFO - Chain [1] start processing\n"
     ]
    },
    {
     "name": "stdout",
     "output_type": "stream",
     "text": [
      "It's underpredicted.\n",
      "Monthly Error: 79.76 Period MAE: 78.72\n"
     ]
    },
    {
     "name": "stderr",
     "output_type": "stream",
     "text": [
      "22:18:30 - cmdstanpy - INFO - Chain [1] done processing\n",
      "22:18:30 - cmdstanpy - INFO - Chain [1] start processing\n"
     ]
    },
    {
     "name": "stdout",
     "output_type": "stream",
     "text": [
      "It's underpredicted.\n",
      "Monthly Error: 17.95 Period MAE:It's overpredicted. 10.299999999999999"
     ]
    },
    {
     "name": "stderr",
     "output_type": "stream",
     "text": [
      "22:18:30 - cmdstanpy - INFO - Chain [1] done processing\n"
     ]
    },
    {
     "name": "stdout",
     "output_type": "stream",
     "text": [
      "\n",
      "\n",
      "Monthly Error: 17.22 Period MAE: 8.72\n",
      "It's underpredicted.\n",
      "Monthly Error: 80.57 Period MAE: 79.64\n"
     ]
    },
    {
     "name": "stderr",
     "output_type": "stream",
     "text": [
      "22:18:31 - cmdstanpy - INFO - Chain [1] start processing\n",
      "22:18:31 - cmdstanpy - INFO - Chain [1] done processing\n",
      "22:18:31 - cmdstanpy - INFO - Chain [1] start processing\n",
      "22:18:31 - cmdstanpy - INFO - Chain [1] start processing\n",
      "22:18:31 - cmdstanpy - INFO - Chain [1] done processing\n",
      "22:18:31 - cmdstanpy - INFO - Chain [1] done processing\n"
     ]
    },
    {
     "name": "stdout",
     "output_type": "stream",
     "text": [
      "It's underpredicted.\n",
      "Monthly Error: 75.33 Period MAE: 74.19It's overpredicted.\n",
      "\n",
      "Monthly Error: 28.95Period MAE:  23.06\n"
     ]
    },
    {
     "name": "stderr",
     "output_type": "stream",
     "text": [
      "22:18:32 - cmdstanpy - INFO - Chain [1] start processing\n",
      "22:18:32 - cmdstanpy - INFO - Chain [1] done processing\n",
      "22:18:32 - cmdstanpy - INFO - Chain [1] start processing\n",
      "22:18:32 - cmdstanpy - INFO - Chain [1] done processing\n"
     ]
    },
    {
     "name": "stdout",
     "output_type": "stream",
     "text": [
      "It's underpredicted.\n",
      "Monthly Error: 82.36 Period MAE: 81.51\n",
      "It's overpredicted.\n",
      "Monthly Error: 14.85 Period MAE: 3.08\n",
      "It's underpredicted.\n",
      "Monthly Error: 84.45"
     ]
    },
    {
     "name": "stderr",
     "output_type": "stream",
     "text": [
      "22:18:33 - cmdstanpy - INFO - Chain [1] start processing\n"
     ]
    },
    {
     "name": "stdout",
     "output_type": "stream",
     "text": [
      " Period MAE: 83.71\n"
     ]
    },
    {
     "name": "stderr",
     "output_type": "stream",
     "text": [
      "22:18:33 - cmdstanpy - INFO - Chain [1] done processing\n",
      "22:18:33 - cmdstanpy - INFO - Chain [1] start processing\n"
     ]
    },
    {
     "name": "stdout",
     "output_type": "stream",
     "text": [
      "It's overpredicted.\n",
      "Monthly Error: 22.16 Period MAE: 12.06\n"
     ]
    },
    {
     "name": "stderr",
     "output_type": "stream",
     "text": [
      "22:18:33 - cmdstanpy - INFO - Chain [1] start processing\n",
      "22:18:33 - cmdstanpy - INFO - Chain [1] start processing\n",
      "22:18:33 - cmdstanpy - INFO - Chain [1] done processing\n",
      "22:18:33 - cmdstanpy - INFO - Chain [1] done processing\n",
      "22:18:33 - cmdstanpy - INFO - Chain [1] done processing\n"
     ]
    },
    {
     "name": "stdout",
     "output_type": "stream",
     "text": [
      "It's underpredicted.\n",
      "It's overpredicted.\n",
      "Monthly Error: Monthly Error: 22.778.11  Period MAE:Period MAE:  76.78\n",
      "12.049999999999999\n",
      "It's underpredicted.\n",
      "Monthly Error: 84.38 Period MAE:83.66 "
     ]
    },
    {
     "name": "stderr",
     "output_type": "stream",
     "text": [
      "22:18:34 - cmdstanpy - INFO - Chain [1] start processing\n"
     ]
    },
    {
     "name": "stdout",
     "output_type": "stream",
     "text": [
      "\n"
     ]
    },
    {
     "name": "stderr",
     "output_type": "stream",
     "text": [
      "22:18:34 - cmdstanpy - INFO - Chain [1] done processing\n",
      "22:18:34 - cmdstanpy - INFO - Chain [1] start processing\n",
      "22:18:34 - cmdstanpy - INFO - Chain [1] done processing\n",
      "22:18:34 - cmdstanpy - INFO - Chain [1] start processing\n",
      "22:18:34 - cmdstanpy - INFO - Chain [1] done processing\n"
     ]
    },
    {
     "name": "stdout",
     "output_type": "stream",
     "text": [
      "It's overpredicted.\n",
      "Monthly Error: 22.91 Period MAE: 12.520000000000001\n",
      "It's underpredicted.\n",
      "Monthly Error: 81.3 Period MAE: 80.16\n",
      "It's overpredicted.\n",
      "Monthly Error: 45.52 Period MAE: 10.42"
     ]
    },
    {
     "name": "stderr",
     "output_type": "stream",
     "text": [
      "22:18:35 - cmdstanpy - INFO - Chain [1] start processing\n"
     ]
    },
    {
     "name": "stdout",
     "output_type": "stream",
     "text": [
      "\n"
     ]
    },
    {
     "name": "stderr",
     "output_type": "stream",
     "text": [
      "22:18:35 - cmdstanpy - INFO - Chain [1] start processing\n",
      "22:18:35 - cmdstanpy - INFO - Chain [1] done processing\n"
     ]
    },
    {
     "name": "stdout",
     "output_type": "stream",
     "text": [
      "It's overpredicted.\n",
      "Monthly Error: "
     ]
    },
    {
     "name": "stderr",
     "output_type": "stream",
     "text": [
      "22:18:35 - cmdstanpy - INFO - Chain [1] start processing\n"
     ]
    },
    {
     "name": "stdout",
     "output_type": "stream",
     "text": [
      "58.23 "
     ]
    },
    {
     "name": "stderr",
     "output_type": "stream",
     "text": [
      "22:18:35 - cmdstanpy - INFO - Chain [1] done processing\n"
     ]
    },
    {
     "name": "stdout",
     "output_type": "stream",
     "text": [
      "Period MAE: 25.740000000000002\n"
     ]
    },
    {
     "name": "stderr",
     "output_type": "stream",
     "text": [
      "22:18:36 - cmdstanpy - INFO - Chain [1] done processing\n",
      "22:18:36 - cmdstanpy - INFO - Chain [1] start processing\n",
      "22:18:36 - cmdstanpy - INFO - Chain [1] done processing\n"
     ]
    },
    {
     "name": "stdout",
     "output_type": "stream",
     "text": [
      "It's underpredicted.\n",
      "Monthly Error: 76.86 Period MAE: 75.53\n",
      "It's underpredicted.\n",
      "Monthly Error: "
     ]
    },
    {
     "name": "stderr",
     "output_type": "stream",
     "text": [
      "22:18:36 - cmdstanpy - INFO - Chain [1] start processing\n"
     ]
    },
    {
     "name": "stdout",
     "output_type": "stream",
     "text": [
      "82.9 Period MAE: 81.98\n"
     ]
    },
    {
     "name": "stderr",
     "output_type": "stream",
     "text": [
      "22:18:36 - cmdstanpy - INFO - Chain [1] done processing\n",
      "22:18:37 - cmdstanpy - INFO - Chain [1] start processing\n",
      "22:18:37 - cmdstanpy - INFO - Chain [1] done processing\n"
     ]
    },
    {
     "name": "stdout",
     "output_type": "stream",
     "text": [
      "It's overpredicted.\n",
      "Monthly Error: 46.1 Period MAE: It's overpredicted.9.700000000000001\n",
      "\n",
      "Monthly Error: 46.11 Period MAE: 11.35\n",
      "It's underpredicted.\n",
      "Monthly Error: 82.6 Period MAE: 81.63\n"
     ]
    },
    {
     "name": "stderr",
     "output_type": "stream",
     "text": [
      "22:18:37 - cmdstanpy - INFO - Chain [1] start processing\n",
      "22:18:37 - cmdstanpy - INFO - Chain [1] start processing\n",
      "22:18:37 - cmdstanpy - INFO - Chain [1] start processing\n",
      "22:18:38 - cmdstanpy - INFO - Chain [1] done processing\n",
      "22:18:38 - cmdstanpy - INFO - Chain [1] done processing\n",
      "22:18:38 - cmdstanpy - INFO - Chain [1] done processing\n"
     ]
    },
    {
     "name": "stdout",
     "output_type": "stream",
     "text": [
      "It's overpredicted.\n",
      "Monthly Error: 52.91 Period MAE: 18.38\n",
      "It's underpredicted.\n",
      "Monthly Error: 80.82 Period MAE:"
     ]
    },
    {
     "name": "stderr",
     "output_type": "stream",
     "text": [
      "22:18:38 - cmdstanpy - INFO - Chain [1] start processing\n"
     ]
    },
    {
     "name": "stdout",
     "output_type": "stream",
     "text": [
      " 79.64\n"
     ]
    },
    {
     "name": "stderr",
     "output_type": "stream",
     "text": [
      "22:18:38 - cmdstanpy - INFO - Chain [1] done processing\n",
      "22:18:38 - cmdstanpy - INFO - Chain [1] start processing\n",
      "22:18:39 - cmdstanpy - INFO - Chain [1] done processing\n"
     ]
    },
    {
     "name": "stdout",
     "output_type": "stream",
     "text": [
      "It's underpredicted.\n",
      "Monthly Error: 79.81 Period MAE: 78.62\n"
     ]
    },
    {
     "name": "stderr",
     "output_type": "stream",
     "text": [
      "22:18:39 - cmdstanpy - INFO - Chain [1] start processing\n"
     ]
    },
    {
     "name": "stdout",
     "output_type": "stream",
     "text": [
      "It's overpredicted.\n",
      "Monthly Error:"
     ]
    },
    {
     "name": "stderr",
     "output_type": "stream",
     "text": [
      "22:18:39 - cmdstanpy - INFO - Chain [1] done processing\n"
     ]
    },
    {
     "name": "stdout",
     "output_type": "stream",
     "text": [
      " 48.21 Period MAE: 13.0\n",
      "It's underpredicted.\n",
      "Monthly Error: 85.01 Period MAE:It's overpredicted.\n",
      " Monthly Error:84.34\n",
      " 43.92 Period MAE: 1.73\n"
     ]
    },
    {
     "name": "stderr",
     "output_type": "stream",
     "text": [
      "22:18:39 - cmdstanpy - INFO - Chain [1] start processing\n",
      "22:18:40 - cmdstanpy - INFO - Chain [1] start processing\n",
      "22:18:40 - cmdstanpy - INFO - Chain [1] start processing\n",
      "22:18:40 - cmdstanpy - INFO - Chain [1] done processing\n",
      "22:18:40 - cmdstanpy - INFO - Chain [1] done processing\n",
      "22:18:40 - cmdstanpy - INFO - Chain [1] done processing\n"
     ]
    },
    {
     "name": "stdout",
     "output_type": "stream",
     "text": [
      "It's underpredicted.\n",
      "Monthly Error: 68.27 Period MAE: 67.66\n"
     ]
    },
    {
     "name": "stderr",
     "output_type": "stream",
     "text": [
      "22:18:40 - cmdstanpy - INFO - Chain [1] start processing\n",
      "22:18:40 - cmdstanpy - INFO - Chain [1] done processing\n"
     ]
    },
    {
     "name": "stdout",
     "output_type": "stream",
     "text": [
      "It's overpredicted.\n",
      "Monthly Error: 43.68 Period MAE: 0.38999999999999996\n"
     ]
    },
    {
     "name": "stderr",
     "output_type": "stream",
     "text": [
      "22:18:41 - cmdstanpy - INFO - Chain [1] start processing\n"
     ]
    },
    {
     "name": "stdout",
     "output_type": "stream",
     "text": [
      "It's underpredicted.\n",
      "Monthly Error: 83.97 Period MAE: 83.17999999999999\n"
     ]
    },
    {
     "name": "stderr",
     "output_type": "stream",
     "text": [
      "22:18:41 - cmdstanpy - INFO - Chain [1] done processing\n",
      "22:18:41 - cmdstanpy - INFO - Chain [1] start processing\n"
     ]
    },
    {
     "name": "stdout",
     "output_type": "stream",
     "text": [
      "It's overpredicted.\n",
      "Monthly Error: "
     ]
    },
    {
     "name": "stderr",
     "output_type": "stream",
     "text": [
      "22:18:41 - cmdstanpy - INFO - Chain [1] done processing\n"
     ]
    },
    {
     "name": "stdout",
     "output_type": "stream",
     "text": [
      "44.2 Period MAE: 1.9900000000000002\n",
      "It's underpredicted.\n",
      "Monthly Error: 15.7 Period MAE: 3.63\n",
      "It's underpredicted.\n",
      "Monthly Error: 66.58 Period MAE: 66.05\n"
     ]
    },
    {
     "name": "stderr",
     "output_type": "stream",
     "text": [
      "22:18:42 - cmdstanpy - INFO - Chain [1] start processing\n",
      "22:18:42 - cmdstanpy - INFO - Chain [1] start processing\n",
      "22:18:42 - cmdstanpy - INFO - Chain [1] done processing\n",
      "22:18:42 - cmdstanpy - INFO - Chain [1] start processing\n",
      "22:18:42 - cmdstanpy - INFO - Chain [1] done processing\n",
      "22:18:42 - cmdstanpy - INFO - Chain [1] done processing\n"
     ]
    },
    {
     "name": "stdout",
     "output_type": "stream",
     "text": [
      "It's underpredicted.\n",
      "Monthly Error: 69.18It's underpredicted. Period MAE: 68.5\n",
      "Monthly Error:\n",
      " 18.34 Period MAE: 11.44\n"
     ]
    },
    {
     "name": "stderr",
     "output_type": "stream",
     "text": [
      "22:18:42 - cmdstanpy - INFO - Chain [1] start processing\n",
      "22:18:42 - cmdstanpy - INFO - Chain [1] done processing\n"
     ]
    },
    {
     "name": "stdout",
     "output_type": "stream",
     "text": [
      "It's underpredicted.\n",
      "Monthly Error: 69.26 Period MAE: 68.94\n"
     ]
    },
    {
     "name": "stderr",
     "output_type": "stream",
     "text": [
      "22:18:43 - cmdstanpy - INFO - Chain [1] start processing\n",
      "22:18:43 - cmdstanpy - INFO - Chain [1] done processing\n",
      "22:18:43 - cmdstanpy - INFO - Chain [1] start processing\n",
      "22:18:43 - cmdstanpy - INFO - Chain [1] done processing\n"
     ]
    },
    {
     "name": "stdout",
     "output_type": "stream",
     "text": [
      "It's underpredicted.\n",
      "Monthly Error: 18.69 Period MAE: 4.82\n",
      "It's underpredicted.\n",
      "Monthly Error:"
     ]
    },
    {
     "name": "stderr",
     "output_type": "stream",
     "text": [
      "22:18:43 - cmdstanpy - INFO - Chain [1] start processing\n"
     ]
    },
    {
     "name": "stdout",
     "output_type": "stream",
     "text": [
      " 66.94 Period MAE:It's overpredicted. \n",
      "66.38\n",
      "Monthly Error: 19.46 Period MAE: 7.61\n"
     ]
    },
    {
     "name": "stderr",
     "output_type": "stream",
     "text": [
      "22:18:44 - cmdstanpy - INFO - Chain [1] start processing\n",
      "22:18:44 - cmdstanpy - INFO - Chain [1] done processing\n",
      "22:18:44 - cmdstanpy - INFO - Chain [1] done processing\n",
      "22:18:44 - cmdstanpy - INFO - Chain [1] start processing\n",
      "22:18:44 - cmdstanpy - INFO - Chain [1] done processing\n"
     ]
    },
    {
     "name": "stdout",
     "output_type": "stream",
     "text": [
      "It's overpredicted.\n",
      "Monthly Error: 16.12 Period MAE: 0.72\n"
     ]
    },
    {
     "name": "stderr",
     "output_type": "stream",
     "text": [
      "22:18:44 - cmdstanpy - INFO - Chain [1] start processing\n",
      "22:18:44 - cmdstanpy - INFO - Chain [1] done processing\n"
     ]
    },
    {
     "name": "stdout",
     "output_type": "stream",
     "text": [
      "It's underpredicted.\n",
      "Monthly Error: 68.2 Period MAE: 67.94\n",
      "It's underpredicted.\n",
      "Monthly Error: 67.33 Period MAE: 66.81\n"
     ]
    },
    {
     "name": "stderr",
     "output_type": "stream",
     "text": [
      "22:18:45 - cmdstanpy - INFO - Chain [1] start processing\n",
      "22:18:45 - cmdstanpy - INFO - Chain [1] done processing\n",
      "22:18:45 - cmdstanpy - INFO - Chain [1] start processing\n",
      "22:18:45 - cmdstanpy - INFO - Chain [1] done processing\n"
     ]
    },
    {
     "name": "stdout",
     "output_type": "stream",
     "text": [
      "It's underpredicted.\n",
      "It's overpredicted.\n",
      "Monthly Error:Monthly Error:  13.87 Period MAE:18.18 7.489999999999999 \n",
      "Period MAE: 0.36\n",
      "It's underpredicted.\n",
      "Monthly Error: 70.78 Period MAE: 69.98\n"
     ]
    },
    {
     "name": "stderr",
     "output_type": "stream",
     "text": [
      "22:18:46 - cmdstanpy - INFO - Chain [1] start processing\n",
      "22:18:46 - cmdstanpy - INFO - Chain [1] done processing\n",
      "22:18:46 - cmdstanpy - INFO - Chain [1] start processing\n",
      "22:18:46 - cmdstanpy - INFO - Chain [1] start processing\n",
      "22:18:46 - cmdstanpy - INFO - Chain [1] done processing\n",
      "22:18:46 - cmdstanpy - INFO - Chain [1] done processing\n"
     ]
    },
    {
     "name": "stdout",
     "output_type": "stream",
     "text": [
      "It's underpredicted.\n",
      "Monthly Error: 71.18 Period MAE: 70.17\n",
      "It's underpredicted.\n",
      "Monthly Error: "
     ]
    },
    {
     "name": "stderr",
     "output_type": "stream",
     "text": [
      "22:18:46 - cmdstanpy - INFO - Chain [1] start processing\n"
     ]
    },
    {
     "name": "stdout",
     "output_type": "stream",
     "text": [
      "14.44 Period MAE: 3.1300000000000003\n"
     ]
    },
    {
     "name": "stderr",
     "output_type": "stream",
     "text": [
      "22:18:46 - cmdstanpy - INFO - Chain [1] done processing\n",
      "22:18:47 - cmdstanpy - INFO - Chain [1] start processing\n",
      "22:18:47 - cmdstanpy - INFO - Chain [1] done processing\n"
     ]
    },
    {
     "name": "stdout",
     "output_type": "stream",
     "text": [
      "It's underpredicted.\n",
      "Monthly Error: 68.68 Period MAE: 68.39\n"
     ]
    },
    {
     "name": "stderr",
     "output_type": "stream",
     "text": [
      "22:18:47 - cmdstanpy - INFO - Chain [1] start processing\n"
     ]
    },
    {
     "name": "stdout",
     "output_type": "stream",
     "text": [
      "It's underpredicted.\n",
      "Monthly Error:It's underpredicted. \n",
      "Monthly Error:"
     ]
    },
    {
     "name": "stderr",
     "output_type": "stream",
     "text": [
      "22:18:47 - cmdstanpy - INFO - Chain [1] done processing\n"
     ]
    },
    {
     "name": "stdout",
     "output_type": "stream",
     "text": [
      " 16.7571.66  Period MAE: Period MAE:70.58\n",
      " 2.54\n",
      "It's overpredicted.\n",
      "Monthly Error: 43.86 Period MAE: 7.109999999999999\n"
     ]
    },
    {
     "name": "stderr",
     "output_type": "stream",
     "text": [
      "22:18:48 - cmdstanpy - INFO - Chain [1] start processing\n",
      "22:18:48 - cmdstanpy - INFO - Chain [1] start processing\n",
      "22:18:48 - cmdstanpy - INFO - Chain [1] start processing\n",
      "22:18:48 - cmdstanpy - INFO - Chain [1] done processing\n",
      "22:18:48 - cmdstanpy - INFO - Chain [1] done processing\n",
      "22:18:48 - cmdstanpy - INFO - Chain [1] done processing\n"
     ]
    },
    {
     "name": "stdout",
     "output_type": "stream",
     "text": [
      "It's underpredicted.\n",
      "Monthly Error: 72.97 It's overpredicted.Period MAE:\n",
      " 71.87Monthly Error: \n",
      "41.74 Period MAE:0.16999999999999998 \n"
     ]
    },
    {
     "name": "stderr",
     "output_type": "stream",
     "text": [
      "22:18:49 - cmdstanpy - INFO - Chain [1] start processing\n"
     ]
    },
    {
     "name": "stdout",
     "output_type": "stream",
     "text": [
      "It's underpredicted."
     ]
    },
    {
     "name": "stderr",
     "output_type": "stream",
     "text": [
      "22:18:49 - cmdstanpy - INFO - Chain [1] done processing\n"
     ]
    },
    {
     "name": "stdout",
     "output_type": "stream",
     "text": [
      "\n",
      "Monthly Error: 72.22 Period MAE: "
     ]
    },
    {
     "name": "stderr",
     "output_type": "stream",
     "text": [
      "22:18:49 - cmdstanpy - INFO - Chain [1] start processing\n"
     ]
    },
    {
     "name": "stdout",
     "output_type": "stream",
     "text": [
      "71.43\n"
     ]
    },
    {
     "name": "stderr",
     "output_type": "stream",
     "text": [
      "22:18:49 - cmdstanpy - INFO - Chain [1] done processing\n"
     ]
    },
    {
     "name": "stdout",
     "output_type": "stream",
     "text": [
      "It's overpredicted.\n",
      "Monthly Error: "
     ]
    },
    {
     "name": "stderr",
     "output_type": "stream",
     "text": [
      "22:18:49 - cmdstanpy - INFO - Chain [1] start processing\n"
     ]
    },
    {
     "name": "stdout",
     "output_type": "stream",
     "text": [
      "44.81 Period MAE:"
     ]
    },
    {
     "name": "stderr",
     "output_type": "stream",
     "text": [
      "22:18:49 - cmdstanpy - INFO - Chain [1] done processing\n"
     ]
    },
    {
     "name": "stdout",
     "output_type": "stream",
     "text": [
      " 2.35\n",
      "It's overpredicted.\n",
      "Monthly Error: 48.95 Period MAE: 7.26\n"
     ]
    },
    {
     "name": "stderr",
     "output_type": "stream",
     "text": [
      "22:18:50 - cmdstanpy - INFO - Chain [1] start processing\n"
     ]
    },
    {
     "name": "stdout",
     "output_type": "stream",
     "text": [
      "It's underpredicted.\n",
      "Monthly Error: 71.06 Period MAE: 70.03\n"
     ]
    },
    {
     "name": "stderr",
     "output_type": "stream",
     "text": [
      "22:18:50 - cmdstanpy - INFO - Chain [1] done processing\n",
      "22:18:50 - cmdstanpy - INFO - Chain [1] start processing\n",
      "22:18:50 - cmdstanpy - INFO - Chain [1] start processing\n",
      "22:18:50 - cmdstanpy - INFO - Chain [1] done processing\n",
      "22:18:50 - cmdstanpy - INFO - Chain [1] done processing\n"
     ]
    },
    {
     "name": "stdout",
     "output_type": "stream",
     "text": [
      "It's overpredicted.\n",
      "Monthly Error: 47.88 Period MAE: 4.43\n"
     ]
    },
    {
     "name": "stderr",
     "output_type": "stream",
     "text": [
      "22:18:51 - cmdstanpy - INFO - Chain [1] start processing\n"
     ]
    },
    {
     "name": "stdout",
     "output_type": "stream",
     "text": [
      "It's underpredicted."
     ]
    },
    {
     "name": "stderr",
     "output_type": "stream",
     "text": [
      "22:18:51 - cmdstanpy - INFO - Chain [1] done processing\n"
     ]
    },
    {
     "name": "stdout",
     "output_type": "stream",
     "text": [
      "\n",
      "Monthly Error: 71.26 Period MAE: 70.26\n",
      "It's underpredicted.\n",
      "Monthly Error: 69.78 Period MAE: 69.23\n"
     ]
    },
    {
     "name": "stderr",
     "output_type": "stream",
     "text": [
      "22:18:51 - cmdstanpy - INFO - Chain [1] start processing\n",
      "22:18:51 - cmdstanpy - INFO - Chain [1] start processing\n",
      "22:18:51 - cmdstanpy - INFO - Chain [1] done processing\n",
      "22:18:51 - cmdstanpy - INFO - Chain [1] done processing\n"
     ]
    },
    {
     "name": "stdout",
     "output_type": "stream",
     "text": [
      "It's overpredicted.\n",
      "Monthly Error: 50.08 It's overpredicted.Period MAE:\n",
      "Monthly Error:  42.664.47\n",
      " Period MAE: 1.94\n",
      "It's underpredicted.\n",
      "Monthly Error: 71.61 Period MAE: 70.56\n"
     ]
    },
    {
     "name": "stderr",
     "output_type": "stream",
     "text": [
      "22:18:52 - cmdstanpy - INFO - Chain [1] start processing\n",
      "22:18:52 - cmdstanpy - INFO - Chain [1] start processing\n",
      "22:18:52 - cmdstanpy - INFO - Chain [1] done processing\n",
      "22:18:52 - cmdstanpy - INFO - Chain [1] start processing\n",
      "22:18:53 - cmdstanpy - INFO - Chain [1] done processing\n",
      "22:18:53 - cmdstanpy - INFO - Chain [1] done processing\n"
     ]
    },
    {
     "name": "stdout",
     "output_type": "stream",
     "text": [
      "It's overpredicted.\n",
      "Monthly Error: 43.49It's underpredicted. \n",
      "Period MAE: Monthly Error: 2.9899999999999998\n",
      "73.52 Period MAE: 72.41\n"
     ]
    },
    {
     "name": "stderr",
     "output_type": "stream",
     "text": [
      "22:18:53 - cmdstanpy - INFO - Chain [1] start processing\n",
      "22:18:53 - cmdstanpy - INFO - Chain [1] done processing\n",
      "22:18:53 - cmdstanpy - INFO - Chain [1] start processing\n",
      "22:18:53 - cmdstanpy - INFO - Chain [1] done processing\n"
     ]
    },
    {
     "name": "stdout",
     "output_type": "stream",
     "text": [
      "It's underpredicted.\n",
      "Monthly Error: 72.69 Period MAE: 71.97\n"
     ]
    },
    {
     "name": "stderr",
     "output_type": "stream",
     "text": [
      "22:18:54 - cmdstanpy - INFO - Chain [1] start processing\n"
     ]
    },
    {
     "name": "stdout",
     "output_type": "stream",
     "text": [
      "It's underpredicted.\n",
      "Monthly Error: 74.95 Period MAE: 73.81\n"
     ]
    },
    {
     "name": "stderr",
     "output_type": "stream",
     "text": [
      "22:18:54 - cmdstanpy - INFO - Chain [1] done processing\n"
     ]
    },
    {
     "name": "stdout",
     "output_type": "stream",
     "text": [
      "It's underpredicted.\n",
      "Monthly Error: 18.31 Period MAE: 10.86\n",
      "It's overpredicted.\n",
      "Monthly Error: 45.02 Period MAE: 1.77\n"
     ]
    },
    {
     "name": "stderr",
     "output_type": "stream",
     "text": [
      "22:18:54 - cmdstanpy - INFO - Chain [1] start processing\n",
      "22:18:54 - cmdstanpy - INFO - Chain [1] start processing\n",
      "22:18:54 - cmdstanpy - INFO - Chain [1] start processing\n",
      "22:18:54 - cmdstanpy - INFO - Chain [1] done processing\n",
      "22:18:55 - cmdstanpy - INFO - Chain [1] done processing\n",
      "22:18:55 - cmdstanpy - INFO - Chain [1] done processing\n"
     ]
    },
    {
     "name": "stdout",
     "output_type": "stream",
     "text": [
      "It's underpredicted.\n",
      "Monthly Error: 73.08 Period MAE: 72.00999999999999\n",
      "It's underpredicted.\n",
      "Monthly Error: 16.17 Period MAE: 6.329999999999999\n",
      "It's underpredicted.\n",
      "Monthly Error: 73.0 Period MAE: "
     ]
    },
    {
     "name": "stderr",
     "output_type": "stream",
     "text": [
      "22:18:55 - cmdstanpy - INFO - Chain [1] start processing\n"
     ]
    },
    {
     "name": "stdout",
     "output_type": "stream",
     "text": [
      "71.89999999999999\n"
     ]
    },
    {
     "name": "stderr",
     "output_type": "stream",
     "text": [
      "22:18:55 - cmdstanpy - INFO - Chain [1] start processing\n",
      "22:18:55 - cmdstanpy - INFO - Chain [1] done processing\n",
      "22:18:56 - cmdstanpy - INFO - Chain [1] done processing\n",
      "22:18:56 - cmdstanpy - INFO - Chain [1] start processing\n"
     ]
    },
    {
     "name": "stdout",
     "output_type": "stream",
     "text": [
      "It's underpredicted.\n"
     ]
    },
    {
     "name": "stderr",
     "output_type": "stream",
     "text": [
      "22:18:56 - cmdstanpy - INFO - Chain [1] done processing\n"
     ]
    },
    {
     "name": "stdout",
     "output_type": "stream",
     "text": [
      "Monthly Error: 17.03 Period MAE: 9.17\n"
     ]
    },
    {
     "name": "stderr",
     "output_type": "stream",
     "text": [
      "22:18:56 - cmdstanpy - INFO - Chain [1] start processing\n"
     ]
    },
    {
     "name": "stdout",
     "output_type": "stream",
     "text": [
      "It's underpredicted.\n",
      "Monthly Error: 75.07 Period MAE: 73.94\n",
      "It's overpredicted.\n",
      "Monthly Error: 15.32 Period MAE: 5.35\n"
     ]
    },
    {
     "name": "stderr",
     "output_type": "stream",
     "text": [
      "22:18:57 - cmdstanpy - INFO - Chain [1] done processing\n",
      "22:18:57 - cmdstanpy - INFO - Chain [1] start processing\n",
      "22:18:57 - cmdstanpy - INFO - Chain [1] done processing\n",
      "22:18:57 - cmdstanpy - INFO - Chain [1] start processing\n"
     ]
    },
    {
     "name": "stdout",
     "output_type": "stream",
     "text": [
      "It's overpredicted.\n",
      "Monthly Error: 14.63 Period MAE: 2.8899999999999997\n"
     ]
    },
    {
     "name": "stderr",
     "output_type": "stream",
     "text": [
      "22:18:57 - cmdstanpy - INFO - Chain [1] done processing\n",
      "22:18:57 - cmdstanpy - INFO - Chain [1] start processing\n"
     ]
    },
    {
     "name": "stdout",
     "output_type": "stream",
     "text": [
      "It's underpredicted.\n"
     ]
    },
    {
     "name": "stderr",
     "output_type": "stream",
     "text": [
      "22:18:57 - cmdstanpy - INFO - Chain [1] done processing\n"
     ]
    },
    {
     "name": "stdout",
     "output_type": "stream",
     "text": [
      "Monthly Error: 74.62 Period MAE: 73.49\n",
      "It's underpredicted.\n",
      "Monthly Error: 73.57 Period MAE: 72.49\n"
     ]
    },
    {
     "name": "stderr",
     "output_type": "stream",
     "text": [
      "22:18:58 - cmdstanpy - INFO - Chain [1] start processing\n",
      "22:18:58 - cmdstanpy - INFO - Chain [1] done processing\n",
      "22:18:58 - cmdstanpy - INFO - Chain [1] start processing\n",
      "22:18:58 - cmdstanpy - INFO - Chain [1] done processing\n"
     ]
    },
    {
     "name": "stdout",
     "output_type": "stream",
     "text": [
      "It's overpredicted.\n",
      "Monthly Error: 13.99 Period MAE: 6.49\n",
      "It's overpredicted.\n",
      "Monthly Error: 14.85 Period MAE: 3.37\n",
      "It's underpredicted.\n",
      "Monthly Error: 74.47 Period MAE: "
     ]
    },
    {
     "name": "stderr",
     "output_type": "stream",
     "text": [
      "22:18:59 - cmdstanpy - INFO - Chain [1] start processing\n"
     ]
    },
    {
     "name": "stdout",
     "output_type": "stream",
     "text": [
      "73.33\n"
     ]
    },
    {
     "name": "stderr",
     "output_type": "stream",
     "text": [
      "22:18:59 - cmdstanpy - INFO - Chain [1] start processing\n",
      "22:18:59 - cmdstanpy - INFO - Chain [1] done processing\n",
      "22:18:59 - cmdstanpy - INFO - Chain [1] done processing\n"
     ]
    },
    {
     "name": "stdout",
     "output_type": "stream",
     "text": [
      "It's overpredicted."
     ]
    },
    {
     "name": "stderr",
     "output_type": "stream",
     "text": [
      "22:18:59 - cmdstanpy - INFO - Chain [1] start processing\n"
     ]
    },
    {
     "name": "stdout",
     "output_type": "stream",
     "text": [
      "\n",
      "Monthly Error: 14.43 Period MAE: "
     ]
    },
    {
     "name": "stderr",
     "output_type": "stream",
     "text": [
      "22:18:59 - cmdstanpy - INFO - Chain [1] done processing\n"
     ]
    },
    {
     "name": "stdout",
     "output_type": "stream",
     "text": [
      "7.779999999999999\n",
      "It's underpredicted.\n",
      "Monthly Error: 78.2 Period MAE: 76.88000000000001\n"
     ]
    },
    {
     "name": "stderr",
     "output_type": "stream",
     "text": [
      "22:18:59 - cmdstanpy - INFO - Chain [1] start processing\n",
      "22:18:59 - cmdstanpy - INFO - Chain [1] done processing\n",
      "22:18:59 - cmdstanpy - INFO - Chain [1] start processing\n"
     ]
    },
    {
     "name": "stdout",
     "output_type": "stream",
     "text": [
      "It's underpredicted.\n",
      "Monthly Error: 74.09 Period MAE: 72.95\n"
     ]
    },
    {
     "name": "stderr",
     "output_type": "stream",
     "text": [
      "22:19:00 - cmdstanpy - INFO - Chain [1] done processing\n",
      "22:19:00 - cmdstanpy - INFO - Chain [1] start processing\n",
      "22:19:00 - cmdstanpy - INFO - Chain [1] done processing\n"
     ]
    },
    {
     "name": "stdout",
     "output_type": "stream",
     "text": [
      "It's underpredicted.\n",
      "Monthly Error: 76.72It's overpredicted. \n",
      "Period MAE:Monthly Error:  42.8975.35\n",
      " Period MAE: 4.5600000000000005\n",
      "It's overpredicted.\n",
      "Monthly Error: 13.98 Period MAE: 6.329999999999999\n"
     ]
    },
    {
     "name": "stderr",
     "output_type": "stream",
     "text": [
      "22:19:01 - cmdstanpy - INFO - Chain [1] start processing\n",
      "22:19:01 - cmdstanpy - INFO - Chain [1] start processing\n",
      "22:19:01 - cmdstanpy - INFO - Chain [1] start processing\n"
     ]
    },
    {
     "name": "stdout",
     "output_type": "stream",
     "text": [
      "It's overpredicted.\n",
      "Monthly Error: 43.03 Period MAE: 4.92\n"
     ]
    },
    {
     "name": "stderr",
     "output_type": "stream",
     "text": [
      "22:19:01 - cmdstanpy - INFO - Chain [1] done processing\n",
      "22:19:01 - cmdstanpy - INFO - Chain [1] done processing\n",
      "22:19:01 - cmdstanpy - INFO - Chain [1] done processing\n",
      "22:19:02 - cmdstanpy - INFO - Chain [1] start processing\n",
      "22:19:02 - cmdstanpy - INFO - Chain [1] done processing\n"
     ]
    },
    {
     "name": "stdout",
     "output_type": "stream",
     "text": [
      "It's underpredicted.\n",
      "Monthly Error: 77.17 Period MAE: 75.84\n"
     ]
    },
    {
     "name": "stderr",
     "output_type": "stream",
     "text": [
      "22:19:03 - cmdstanpy - INFO - Chain [1] start processing\n"
     ]
    },
    {
     "name": "stdout",
     "output_type": "stream",
     "text": [
      "It's underpredicted.\n",
      "Monthly Error: 75.94 Period MAE: 74.56\n"
     ]
    },
    {
     "name": "stderr",
     "output_type": "stream",
     "text": [
      "22:19:03 - cmdstanpy - INFO - Chain [1] done processing\n",
      "22:19:03 - cmdstanpy - INFO - Chain [1] start processing\n",
      "22:19:03 - cmdstanpy - INFO - Chain [1] done processing\n"
     ]
    },
    {
     "name": "stdout",
     "output_type": "stream",
     "text": [
      "It's overpredicted.\n",
      "Monthly Error: 43.18 Period MAE: 5.24\n",
      "It's overpredicted.\n",
      "Monthly Error: 47.91 Period MAE: 12.72\n",
      "It's underpredicted.\n",
      "Monthly Error:"
     ]
    },
    {
     "name": "stderr",
     "output_type": "stream",
     "text": [
      "22:19:04 - cmdstanpy - INFO - Chain [1] start processing\n"
     ]
    },
    {
     "name": "stdout",
     "output_type": "stream",
     "text": [
      " 76.37 Period MAE: 75.03\n"
     ]
    },
    {
     "name": "stderr",
     "output_type": "stream",
     "text": [
      "22:19:05 - cmdstanpy - INFO - Chain [1] done processing\n",
      "22:19:05 - cmdstanpy - INFO - Chain [1] start processing\n",
      "22:19:05 - cmdstanpy - INFO - Chain [1] start processing\n",
      "22:19:05 - cmdstanpy - INFO - Chain [1] done processing\n",
      "22:19:05 - cmdstanpy - INFO - Chain [1] done processing\n"
     ]
    },
    {
     "name": "stdout",
     "output_type": "stream",
     "text": [
      "It's overpredicted.\n",
      "Monthly Error: 47.3 Period MAE: 11.82\n"
     ]
    },
    {
     "name": "stderr",
     "output_type": "stream",
     "text": [
      "22:19:05 - cmdstanpy - INFO - Chain [1] start processing\n"
     ]
    },
    {
     "name": "stdout",
     "output_type": "stream",
     "text": [
      "It's underpredicted.\n",
      "Monthly Error:"
     ]
    },
    {
     "name": "stderr",
     "output_type": "stream",
     "text": [
      "22:19:05 - cmdstanpy - INFO - Chain [1] done processing\n"
     ]
    },
    {
     "name": "stdout",
     "output_type": "stream",
     "text": [
      " 76.26 Period MAE: 74.89\n",
      "It's underpredicted.\n",
      "Monthly Error: 76.0 Period MAE: 74.66000000000001\n"
     ]
    },
    {
     "name": "stderr",
     "output_type": "stream",
     "text": [
      "22:19:06 - cmdstanpy - INFO - Chain [1] start processing\n",
      "22:19:06 - cmdstanpy - INFO - Chain [1] done processing\n",
      "22:19:06 - cmdstanpy - INFO - Chain [1] start processing\n"
     ]
    },
    {
     "name": "stdout",
     "output_type": "stream",
     "text": [
      "It's overpredicted.\n",
      "Monthly Error: 45.97 Period MAE: 9.42\n"
     ]
    },
    {
     "name": "stderr",
     "output_type": "stream",
     "text": [
      "22:19:06 - cmdstanpy - INFO - Chain [1] done processing\n",
      "22:19:07 - cmdstanpy - INFO - Chain [1] start processing\n"
     ]
    },
    {
     "name": "stdout",
     "output_type": "stream",
     "text": [
      "It's overpredicted.\n",
      "Monthly Error: 45.28 Period MAE: 9.26\n",
      "It's underpredicted.\n",
      "Monthly Error: 77.56 Period MAE: 76.22"
     ]
    },
    {
     "name": "stderr",
     "output_type": "stream",
     "text": [
      "22:19:07 - cmdstanpy - INFO - Chain [1] done processing\n"
     ]
    },
    {
     "name": "stdout",
     "output_type": "stream",
     "text": [
      "\n"
     ]
    },
    {
     "name": "stderr",
     "output_type": "stream",
     "text": [
      "22:19:07 - cmdstanpy - INFO - Chain [1] start processing\n",
      "22:19:07 - cmdstanpy - INFO - Chain [1] start processing\n",
      "22:19:07 - cmdstanpy - INFO - Chain [1] done processing\n",
      "22:19:08 - cmdstanpy - INFO - Chain [1] done processing\n"
     ]
    },
    {
     "name": "stdout",
     "output_type": "stream",
     "text": [
      "It's overpredicted.\n",
      "Monthly Error: 45.52 It's underpredicted.Period MAE:\n",
      " Monthly Error:9.92 76.35 \n",
      "Period MAE: 74.98\n",
      "It's underpredicted."
     ]
    },
    {
     "name": "stderr",
     "output_type": "stream",
     "text": [
      "22:19:08 - cmdstanpy - INFO - Chain [1] start processing\n"
     ]
    },
    {
     "name": "stdout",
     "output_type": "stream",
     "text": [
      "\n",
      "Monthly Error: 69.35 Period MAE: "
     ]
    },
    {
     "name": "stderr",
     "output_type": "stream",
     "text": [
      "22:19:08 - cmdstanpy - INFO - Chain [1] done processing\n"
     ]
    },
    {
     "name": "stdout",
     "output_type": "stream",
     "text": [
      "68.64\n"
     ]
    },
    {
     "name": "stderr",
     "output_type": "stream",
     "text": [
      "22:19:08 - cmdstanpy - INFO - Chain [1] start processing\n",
      "22:19:09 - cmdstanpy - INFO - Chain [1] done processing\n",
      "22:19:09 - cmdstanpy - INFO - Chain [1] start processing\n",
      "22:19:09 - cmdstanpy - INFO - Chain [1] done processing\n"
     ]
    },
    {
     "name": "stdout",
     "output_type": "stream",
     "text": [
      "It's overpredicted.\n",
      "Monthly Error: 45.54 Period MAE: 9.74\n"
     ]
    },
    {
     "name": "stderr",
     "output_type": "stream",
     "text": [
      "22:19:09 - cmdstanpy - INFO - Chain [1] start processing\n"
     ]
    },
    {
     "name": "stdout",
     "output_type": "stream",
     "text": [
      "It's underpredicted.\n",
      "Monthly Error: 66.85 Period MAE: 66.25\n",
      "It's underpredicted.\n",
      "Monthly Error: 14.83 Period MAE: 0.5"
     ]
    },
    {
     "name": "stderr",
     "output_type": "stream",
     "text": [
      "22:19:10 - cmdstanpy - INFO - Chain [1] done processing\n"
     ]
    },
    {
     "name": "stdout",
     "output_type": "stream",
     "text": [
      "\n"
     ]
    },
    {
     "name": "stderr",
     "output_type": "stream",
     "text": [
      "22:19:10 - cmdstanpy - INFO - Chain [1] start processing\n",
      "22:19:10 - cmdstanpy - INFO - Chain [1] start processing\n",
      "22:19:10 - cmdstanpy - INFO - Chain [1] done processing\n"
     ]
    },
    {
     "name": "stdout",
     "output_type": "stream",
     "text": [
      "It's overpredicted.\n",
      "Monthly Error: "
     ]
    },
    {
     "name": "stderr",
     "output_type": "stream",
     "text": [
      "22:19:10 - cmdstanpy - INFO - Chain [1] done processing\n"
     ]
    },
    {
     "name": "stdout",
     "output_type": "stream",
     "text": [
      "15.02 Period MAE: 0.31\n"
     ]
    },
    {
     "name": "stderr",
     "output_type": "stream",
     "text": [
      "22:19:10 - cmdstanpy - INFO - Chain [1] start processing\n"
     ]
    },
    {
     "name": "stdout",
     "output_type": "stream",
     "text": [
      "It's underpredicted.\n"
     ]
    },
    {
     "name": "stderr",
     "output_type": "stream",
     "text": [
      "22:19:11 - cmdstanpy - INFO - Chain [1] done processing\n"
     ]
    },
    {
     "name": "stdout",
     "output_type": "stream",
     "text": [
      "Monthly Error: 68.17 Period MAE: It's underpredicted.68.15\n",
      "\n",
      "Monthly Error: 66.8 Period MAE: 66.28\n"
     ]
    },
    {
     "name": "stderr",
     "output_type": "stream",
     "text": [
      "22:19:11 - cmdstanpy - INFO - Chain [1] start processing\n",
      "22:19:11 - cmdstanpy - INFO - Chain [1] start processing\n",
      "22:19:11 - cmdstanpy - INFO - Chain [1] done processing\n",
      "22:19:11 - cmdstanpy - INFO - Chain [1] done processing\n"
     ]
    },
    {
     "name": "stdout",
     "output_type": "stream",
     "text": [
      "It's overpredicted.\n",
      "Monthly Error: 18.27 Period MAE:It's overpredicted.\n",
      " 4.12Monthly Error:\n",
      " 16.53 Period MAE: 2.74\n",
      "It's underpredicted.\n",
      "Monthly Error: 67.6 Period MAE: "
     ]
    },
    {
     "name": "stderr",
     "output_type": "stream",
     "text": [
      "22:19:12 - cmdstanpy - INFO - Chain [1] start processing\n"
     ]
    },
    {
     "name": "stdout",
     "output_type": "stream",
     "text": [
      "66.96\n"
     ]
    },
    {
     "name": "stderr",
     "output_type": "stream",
     "text": [
      "22:19:12 - cmdstanpy - INFO - Chain [1] done processing\n",
      "22:19:12 - cmdstanpy - INFO - Chain [1] start processing\n",
      "22:19:12 - cmdstanpy - INFO - Chain [1] start processing\n",
      "22:19:12 - cmdstanpy - INFO - Chain [1] done processing\n",
      "22:19:12 - cmdstanpy - INFO - Chain [1] done processing\n"
     ]
    },
    {
     "name": "stdout",
     "output_type": "stream",
     "text": [
      "It's underpredicted.\n",
      "Monthly Error: 16.31 Period MAE: 0.03\n"
     ]
    },
    {
     "name": "stderr",
     "output_type": "stream",
     "text": [
      "22:19:13 - cmdstanpy - INFO - Chain [1] start processing\n"
     ]
    },
    {
     "name": "stdout",
     "output_type": "stream",
     "text": [
      "It's underpredicted.\n",
      "Monthly Error: 69.12"
     ]
    },
    {
     "name": "stderr",
     "output_type": "stream",
     "text": [
      "22:19:13 - cmdstanpy - INFO - Chain [1] done processing\n"
     ]
    },
    {
     "name": "stdout",
     "output_type": "stream",
     "text": [
      " Period MAE:It's underpredicted. \n",
      "68.58999999999999\n",
      "Monthly Error: 67.91 Period MAE: 67.86\n"
     ]
    },
    {
     "name": "stderr",
     "output_type": "stream",
     "text": [
      "22:19:13 - cmdstanpy - INFO - Chain [1] start processing\n",
      "22:19:13 - cmdstanpy - INFO - Chain [1] start processing\n",
      "22:19:13 - cmdstanpy - INFO - Chain [1] done processing\n",
      "22:19:13 - cmdstanpy - INFO - Chain [1] done processing\n"
     ]
    },
    {
     "name": "stdout",
     "output_type": "stream",
     "text": [
      "It's overpredicted.\n",
      "Monthly Error: 21.04 Period MAE: 2.36\n",
      "It's overpredicted.\n",
      "Monthly Error: It's underpredicted.\n",
      "28.85Monthly Error:  70.86 Period MAE: Period MAE:23.990000000000002 \n",
      "70.22\n"
     ]
    },
    {
     "name": "stderr",
     "output_type": "stream",
     "text": [
      "22:19:14 - cmdstanpy - INFO - Chain [1] start processing\n",
      "22:19:14 - cmdstanpy - INFO - Chain [1] start processing\n",
      "22:19:14 - cmdstanpy - INFO - Chain [1] done processing\n",
      "22:19:14 - cmdstanpy - INFO - Chain [1] done processing\n",
      "22:19:14 - cmdstanpy - INFO - Chain [1] start processing\n"
     ]
    },
    {
     "name": "stdout",
     "output_type": "stream",
     "text": [
      "It's overpredicted.\n",
      "Monthly Error: 13.33"
     ]
    },
    {
     "name": "stderr",
     "output_type": "stream",
     "text": [
      "22:19:14 - cmdstanpy - INFO - Chain [1] done processing\n"
     ]
    },
    {
     "name": "stdout",
     "output_type": "stream",
     "text": [
      " Period MAE: 2.94\n",
      "It's underpredicted.\n"
     ]
    },
    {
     "name": "stderr",
     "output_type": "stream",
     "text": [
      "22:19:15 - cmdstanpy - INFO - Chain [1] start processing\n"
     ]
    },
    {
     "name": "stdout",
     "output_type": "stream",
     "text": [
      "Monthly Error: 71.13 Period MAE: 70.12\n"
     ]
    },
    {
     "name": "stderr",
     "output_type": "stream",
     "text": [
      "22:19:15 - cmdstanpy - INFO - Chain [1] done processing\n",
      "22:19:15 - cmdstanpy - INFO - Chain [1] start processing\n"
     ]
    },
    {
     "name": "stdout",
     "output_type": "stream",
     "text": [
      "It's underpredicted.\n",
      "Monthly Error: 71.3"
     ]
    },
    {
     "name": "stderr",
     "output_type": "stream",
     "text": [
      "22:19:15 - cmdstanpy - INFO - Chain [1] done processing\n"
     ]
    },
    {
     "name": "stdout",
     "output_type": "stream",
     "text": [
      " Period MAE: 71.15\n"
     ]
    },
    {
     "name": "stderr",
     "output_type": "stream",
     "text": [
      "22:19:15 - cmdstanpy - INFO - Chain [1] start processing\n",
      "22:19:15 - cmdstanpy - INFO - Chain [1] done processing\n"
     ]
    },
    {
     "name": "stdout",
     "output_type": "stream",
     "text": [
      "It's underpredicted.\n",
      "Monthly Error: 71.86 Period MAE: 70.73\n",
      "It's overpredicted.\n",
      "It's overpredicted.Monthly Error: \n",
      "Monthly Error:41.88  22.47 Period MAE: Period MAE: 6.41\n",
      "1.7999999999999998\n"
     ]
    },
    {
     "name": "stderr",
     "output_type": "stream",
     "text": [
      "22:19:16 - cmdstanpy - INFO - Chain [1] start processing\n",
      "22:19:16 - cmdstanpy - INFO - Chain [1] start processing\n",
      "22:19:16 - cmdstanpy - INFO - Chain [1] done processing\n",
      "22:19:16 - cmdstanpy - INFO - Chain [1] done processing\n",
      "22:19:16 - cmdstanpy - INFO - Chain [1] start processing\n",
      "22:19:16 - cmdstanpy - INFO - Chain [1] done processing\n"
     ]
    },
    {
     "name": "stdout",
     "output_type": "stream",
     "text": [
      "It's overpredicted.\n",
      "Monthly Error: 42.08 Period MAE: 1.7000000000000002\n",
      "It's underpredicted.\n",
      "Monthly Error: 68.83 "
     ]
    },
    {
     "name": "stderr",
     "output_type": "stream",
     "text": [
      "22:19:17 - cmdstanpy - INFO - Chain [1] start processing\n"
     ]
    },
    {
     "name": "stdout",
     "output_type": "stream",
     "text": [
      "Period MAE: 67.97999999999999\n",
      "It's underpredicted.\n",
      "Monthly Error: 72.18 Period MAE: 71.72\n"
     ]
    },
    {
     "name": "stderr",
     "output_type": "stream",
     "text": [
      "22:19:17 - cmdstanpy - INFO - Chain [1] done processing\n",
      "22:19:17 - cmdstanpy - INFO - Chain [1] start processing\n",
      "22:19:17 - cmdstanpy - INFO - Chain [1] start processing\n",
      "22:19:17 - cmdstanpy - INFO - Chain [1] done processing\n",
      "22:19:17 - cmdstanpy - INFO - Chain [1] done processing\n"
     ]
    },
    {
     "name": "stdout",
     "output_type": "stream",
     "text": [
      "It's underpredicted.\n",
      "Monthly Error: 69.67It's overpredicted. \n",
      "Period MAE:Monthly Error: 50.59 68.69 Period MAE: 9.2\n",
      "\n",
      "It's overpredicted.\n",
      "Monthly Error: 46.84 Period MAE: 3.02\n"
     ]
    },
    {
     "name": "stderr",
     "output_type": "stream",
     "text": [
      "22:19:18 - cmdstanpy - INFO - Chain [1] start processing\n",
      "22:19:18 - cmdstanpy - INFO - Chain [1] start processing\n"
     ]
    },
    {
     "name": "stdout",
     "output_type": "stream",
     "text": [
      "It's overpredicted.\n",
      "Monthly Error:"
     ]
    },
    {
     "name": "stderr",
     "output_type": "stream",
     "text": [
      "22:19:18 - cmdstanpy - INFO - Chain [1] start processing\n"
     ]
    },
    {
     "name": "stdout",
     "output_type": "stream",
     "text": [
      " 47.24 "
     ]
    },
    {
     "name": "stderr",
     "output_type": "stream",
     "text": [
      "22:19:18 - cmdstanpy - INFO - Chain [1] done processing\n"
     ]
    },
    {
     "name": "stdout",
     "output_type": "stream",
     "text": [
      "Period MAE: "
     ]
    },
    {
     "name": "stderr",
     "output_type": "stream",
     "text": [
      "22:19:18 - cmdstanpy - INFO - Chain [1] done processing\n"
     ]
    },
    {
     "name": "stdout",
     "output_type": "stream",
     "text": [
      "3.4299999999999997\n"
     ]
    },
    {
     "name": "stderr",
     "output_type": "stream",
     "text": [
      "22:19:19 - cmdstanpy - INFO - Chain [1] start processing\n",
      "22:19:19 - cmdstanpy - INFO - Chain [1] done processing\n",
      "22:19:19 - cmdstanpy - INFO - Chain [1] done processing\n"
     ]
    },
    {
     "name": "stdout",
     "output_type": "stream",
     "text": [
      "It's underpredicted.\n",
      "Monthly Error: 73.43 Period MAE: 72.47\n"
     ]
    },
    {
     "name": "stderr",
     "output_type": "stream",
     "text": [
      "22:19:19 - cmdstanpy - INFO - Chain [1] start processing\n",
      "22:19:19 - cmdstanpy - INFO - Chain [1] done processing\n"
     ]
    },
    {
     "name": "stdout",
     "output_type": "stream",
     "text": [
      "It's underpredicted.\n",
      "Monthly Error: 70.23 Period MAE: It's overpredicted.69.88\n",
      "\n",
      "Monthly Error: 44.42 Period MAE: 6.529999999999999\n"
     ]
    },
    {
     "name": "stderr",
     "output_type": "stream",
     "text": [
      "22:19:20 - cmdstanpy - INFO - Chain [1] start processing\n"
     ]
    },
    {
     "name": "stdout",
     "output_type": "stream",
     "text": [
      "It's overpredicted.\n",
      "Monthly Error: 50.4 Period MAE: "
     ]
    },
    {
     "name": "stderr",
     "output_type": "stream",
     "text": [
      "22:19:20 - cmdstanpy - INFO - Chain [1] done processing\n"
     ]
    },
    {
     "name": "stdout",
     "output_type": "stream",
     "text": [
      "0.5499999999999999It's underpredicted.\n",
      "\n",
      "Monthly Error: 74.54 Period MAE: "
     ]
    },
    {
     "name": "stderr",
     "output_type": "stream",
     "text": [
      "22:19:20 - cmdstanpy - INFO - Chain [1] start processing\n"
     ]
    },
    {
     "name": "stdout",
     "output_type": "stream",
     "text": [
      "73.54\n"
     ]
    },
    {
     "name": "stderr",
     "output_type": "stream",
     "text": [
      "22:19:20 - cmdstanpy - INFO - Chain [1] done processing\n",
      "22:19:20 - cmdstanpy - INFO - Chain [1] start processing\n",
      "22:19:21 - cmdstanpy - INFO - Chain [1] start processing\n",
      "22:19:21 - cmdstanpy - INFO - Chain [1] done processing\n",
      "22:19:21 - cmdstanpy - INFO - Chain [1] done processing\n"
     ]
    },
    {
     "name": "stdout",
     "output_type": "stream",
     "text": [
      "It's underpredicted.\n",
      "Monthly Error: It's underpredicted.73.68\n",
      "Monthly Error:  Period MAE: 75.0272.57000000000001 \n",
      "Period MAE: 74.53\n",
      "It's overpredicted.\n"
     ]
    },
    {
     "name": "stderr",
     "output_type": "stream",
     "text": [
      "22:19:21 - cmdstanpy - INFO - Chain [1] start processing\n"
     ]
    },
    {
     "name": "stdout",
     "output_type": "stream",
     "text": [
      "Monthly Error: 44.33 Period MAE: 4.2299999999999995\n"
     ]
    },
    {
     "name": "stderr",
     "output_type": "stream",
     "text": [
      "22:19:21 - cmdstanpy - INFO - Chain [1] done processing\n",
      "22:19:22 - cmdstanpy - INFO - Chain [1] start processing\n",
      "22:19:22 - cmdstanpy - INFO - Chain [1] start processing\n",
      "22:19:22 - cmdstanpy - INFO - Chain [1] done processing\n",
      "22:19:22 - cmdstanpy - INFO - Chain [1] done processing\n"
     ]
    },
    {
     "name": "stdout",
     "output_type": "stream",
     "text": [
      "It's overpredicted.\n",
      "Monthly Error: 47.83 Period MAE: 2.1399999999999997\n",
      "It's underpredicted.\n",
      "Monthly Error: 78.4 Period MAE: It's underpredicted.77.31\n",
      "\n",
      "Monthly Error: 17.58 Period MAE: 10.01\n"
     ]
    },
    {
     "name": "stderr",
     "output_type": "stream",
     "text": [
      "22:19:23 - cmdstanpy - INFO - Chain [1] start processing\n",
      "22:19:23 - cmdstanpy - INFO - Chain [1] start processing\n",
      "22:19:23 - cmdstanpy - INFO - Chain [1] start processing\n",
      "22:19:23 - cmdstanpy - INFO - Chain [1] done processing\n",
      "22:19:23 - cmdstanpy - INFO - Chain [1] done processing\n",
      "22:19:23 - cmdstanpy - INFO - Chain [1] done processing\n"
     ]
    },
    {
     "name": "stdout",
     "output_type": "stream",
     "text": [
      "It's underpredicted.\n",
      "Monthly Error: 17.08 Period MAE: 9.16\n"
     ]
    },
    {
     "name": "stderr",
     "output_type": "stream",
     "text": [
      "22:19:23 - cmdstanpy - INFO - Chain [1] start processing\n"
     ]
    },
    {
     "name": "stdout",
     "output_type": "stream",
     "text": [
      "It's underpredicted.\n"
     ]
    },
    {
     "name": "stderr",
     "output_type": "stream",
     "text": [
      "22:19:24 - cmdstanpy - INFO - Chain [1] done processing\n"
     ]
    },
    {
     "name": "stdout",
     "output_type": "stream",
     "text": [
      "Monthly Error: 74.31 Period MAE: 73.25\n",
      "It's underpredicted.\n",
      "Monthly Error: 80.17 Period MAE: 79.14\n"
     ]
    },
    {
     "name": "stderr",
     "output_type": "stream",
     "text": [
      "22:19:24 - cmdstanpy - INFO - Chain [1] start processing\n",
      "22:19:25 - cmdstanpy - INFO - Chain [1] start processing\n",
      "22:19:25 - cmdstanpy - INFO - Chain [1] done processing\n",
      "22:19:25 - cmdstanpy - INFO - Chain [1] done processing\n"
     ]
    },
    {
     "name": "stdout",
     "output_type": "stream",
     "text": [
      "It's overpredicted.\n",
      "Monthly Error: 21.04 Period MAE: 15.45\n",
      "It's underpredicted.\n",
      "Monthly Error: 16.1 Period MAE: 5.54\n",
      "It's underpredicted.\n",
      "Monthly Error: 78.9 Period MAE: 77.89\n"
     ]
    },
    {
     "name": "stderr",
     "output_type": "stream",
     "text": [
      "22:19:26 - cmdstanpy - INFO - Chain [1] start processing\n",
      "22:19:26 - cmdstanpy - INFO - Chain [1] start processing\n",
      "22:19:26 - cmdstanpy - INFO - Chain [1] start processing\n",
      "22:19:26 - cmdstanpy - INFO - Chain [1] done processing\n",
      "22:19:26 - cmdstanpy - INFO - Chain [1] done processing\n",
      "22:19:26 - cmdstanpy - INFO - Chain [1] done processing\n"
     ]
    },
    {
     "name": "stdout",
     "output_type": "stream",
     "text": [
      "It's underpredicted.\n",
      "Monthly Error: 72.28 Period MAE: 71.21\n"
     ]
    },
    {
     "name": "stderr",
     "output_type": "stream",
     "text": [
      "22:19:26 - cmdstanpy - INFO - Chain [1] start processing\n"
     ]
    },
    {
     "name": "stdout",
     "output_type": "stream",
     "text": [
      "It's overpredicted.\n",
      "Monthly Error:It's underpredicted.\n",
      "Monthly Error: 79.26 "
     ]
    },
    {
     "name": "stderr",
     "output_type": "stream",
     "text": [
      "22:19:26 - cmdstanpy - INFO - Chain [1] done processing\n"
     ]
    },
    {
     "name": "stdout",
     "output_type": "stream",
     "text": [
      "Period MAE: 78.25\n",
      " 30.44 Period MAE: 24.8\n"
     ]
    },
    {
     "name": "stderr",
     "output_type": "stream",
     "text": [
      "22:19:27 - cmdstanpy - INFO - Chain [1] start processing\n",
      "22:19:27 - cmdstanpy - INFO - Chain [1] done processing\n",
      "22:19:27 - cmdstanpy - INFO - Chain [1] start processing\n",
      "22:19:27 - cmdstanpy - INFO - Chain [1] done processing\n"
     ]
    },
    {
     "name": "stdout",
     "output_type": "stream",
     "text": [
      "It's overpredicted.\n",
      "Monthly Error: 32.61 Period MAE: 25.19\n",
      "It's underpredicted."
     ]
    },
    {
     "name": "stderr",
     "output_type": "stream",
     "text": [
      "22:19:28 - cmdstanpy - INFO - Chain [1] start processing\n"
     ]
    },
    {
     "name": "stdout",
     "output_type": "stream",
     "text": [
      "\n",
      "It's overpredicted.Monthly Error:\n",
      " Monthly Error: 79.1720.27  Period MAE:Period MAE:  78.0913.4\n",
      "\n"
     ]
    },
    {
     "name": "stderr",
     "output_type": "stream",
     "text": [
      "22:19:28 - cmdstanpy - INFO - Chain [1] start processing\n",
      "22:19:28 - cmdstanpy - INFO - Chain [1] done processing\n",
      "22:19:28 - cmdstanpy - INFO - Chain [1] done processing\n",
      "22:19:28 - cmdstanpy - INFO - Chain [1] start processing\n"
     ]
    },
    {
     "name": "stdout",
     "output_type": "stream",
     "text": [
      "It's overpredicted.\n",
      "Monthly Error: 20.06"
     ]
    },
    {
     "name": "stderr",
     "output_type": "stream",
     "text": [
      "22:19:28 - cmdstanpy - INFO - Chain [1] done processing\n"
     ]
    },
    {
     "name": "stdout",
     "output_type": "stream",
     "text": [
      " Period MAE: 13.03\n"
     ]
    },
    {
     "name": "stderr",
     "output_type": "stream",
     "text": [
      "22:19:28 - cmdstanpy - INFO - Chain [1] start processing\n"
     ]
    },
    {
     "name": "stdout",
     "output_type": "stream",
     "text": [
      "It's underpredicted.\n",
      "Monthly Error: 74.93 Period MAE: 73.54\n"
     ]
    },
    {
     "name": "stderr",
     "output_type": "stream",
     "text": [
      "22:19:28 - cmdstanpy - INFO - Chain [1] done processing\n"
     ]
    },
    {
     "name": "stdout",
     "output_type": "stream",
     "text": [
      "It's underpredicted.\n",
      "Monthly Error: 79.71 Period MAE: 78.67\n"
     ]
    },
    {
     "name": "stderr",
     "output_type": "stream",
     "text": [
      "22:19:29 - cmdstanpy - INFO - Chain [1] start processing\n",
      "22:19:29 - cmdstanpy - INFO - Chain [1] start processing\n",
      "22:19:29 - cmdstanpy - INFO - Chain [1] done processing\n",
      "22:19:29 - cmdstanpy - INFO - Chain [1] done processing\n"
     ]
    },
    {
     "name": "stdout",
     "output_type": "stream",
     "text": [
      "It's underpredicted.\n",
      "Monthly Error: 82.22 Period MAE: 81.2\n",
      "It's overpredicted.It's overpredicted.\n",
      "\n",
      "Monthly Error: Monthly Error:20.83  43.89 Period MAE: 13.91\n",
      "Period MAE: 7.1499999999999995\n"
     ]
    },
    {
     "name": "stderr",
     "output_type": "stream",
     "text": [
      "22:19:30 - cmdstanpy - INFO - Chain [1] start processing\n",
      "22:19:30 - cmdstanpy - INFO - Chain [1] start processing\n",
      "22:19:30 - cmdstanpy - INFO - Chain [1] done processing\n",
      "22:19:30 - cmdstanpy - INFO - Chain [1] start processing\n",
      "22:19:30 - cmdstanpy - INFO - Chain [1] done processing\n",
      "22:19:30 - cmdstanpy - INFO - Chain [1] done processing\n"
     ]
    },
    {
     "name": "stdout",
     "output_type": "stream",
     "text": [
      "It's overpredicted.\n",
      "Monthly Error: 47.11 Period MAE: 13.22\n"
     ]
    },
    {
     "name": "stderr",
     "output_type": "stream",
     "text": [
      "22:19:30 - cmdstanpy - INFO - Chain [1] start processing\n"
     ]
    },
    {
     "name": "stdout",
     "output_type": "stream",
     "text": [
      "It's underpredicted.\n",
      "Monthly Error:"
     ]
    },
    {
     "name": "stderr",
     "output_type": "stream",
     "text": [
      "22:19:30 - cmdstanpy - INFO - Chain [1] done processing\n"
     ]
    },
    {
     "name": "stdout",
     "output_type": "stream",
     "text": [
      " 75.22 Period MAE: 73.9\n"
     ]
    },
    {
     "name": "stderr",
     "output_type": "stream",
     "text": [
      "22:19:31 - cmdstanpy - INFO - Chain [1] start processing\n"
     ]
    },
    {
     "name": "stdout",
     "output_type": "stream",
     "text": [
      "It's underpredicted.\n",
      "Monthly Error: 83.55 Period MAE: 82.74000000000001\n"
     ]
    },
    {
     "name": "stderr",
     "output_type": "stream",
     "text": [
      "22:19:31 - cmdstanpy - INFO - Chain [1] start processing\n",
      "22:19:31 - cmdstanpy - INFO - Chain [1] done processing\n",
      "22:19:31 - cmdstanpy - INFO - Chain [1] done processing\n"
     ]
    },
    {
     "name": "stdout",
     "output_type": "stream",
     "text": [
      "It's overpredicted.\n",
      "Monthly Error: 46.79 Period MAE: 12.709999999999999\n",
      "It's underpredicted.\n",
      "It's overpredicted.\n",
      "Monthly Error:Monthly Error:  80.6545.59  Period MAE:Period MAE: 7.449999999999999 \n",
      "79.53\n"
     ]
    },
    {
     "name": "stderr",
     "output_type": "stream",
     "text": [
      "22:19:32 - cmdstanpy - INFO - Chain [1] start processing\n",
      "22:19:32 - cmdstanpy - INFO - Chain [1] start processing\n",
      "22:19:32 - cmdstanpy - INFO - Chain [1] done processing\n",
      "22:19:32 - cmdstanpy - INFO - Chain [1] start processing\n",
      "22:19:32 - cmdstanpy - INFO - Chain [1] done processing\n"
     ]
    },
    {
     "name": "stdout",
     "output_type": "stream",
     "text": [
      "It's overpredicted.\n",
      "Monthly Error:"
     ]
    },
    {
     "name": "stderr",
     "output_type": "stream",
     "text": [
      "22:19:32 - cmdstanpy - INFO - Chain [1] done processing\n"
     ]
    },
    {
     "name": "stdout",
     "output_type": "stream",
     "text": [
      " 54.84 Period MAE: 20.46\n"
     ]
    },
    {
     "name": "stderr",
     "output_type": "stream",
     "text": [
      "22:19:32 - cmdstanpy - INFO - Chain [1] start processing\n",
      "22:19:32 - cmdstanpy - INFO - Chain [1] done processing\n"
     ]
    },
    {
     "name": "stdout",
     "output_type": "stream",
     "text": [
      "It's underpredicted.\n",
      "Monthly Error: 74.25 Period MAE: 72.86\n"
     ]
    },
    {
     "name": "stderr",
     "output_type": "stream",
     "text": [
      "22:19:33 - cmdstanpy - INFO - Chain [1] start processing\n"
     ]
    },
    {
     "name": "stdout",
     "output_type": "stream",
     "text": [
      "It's underpredicted.\n",
      "Monthly Error: 83.92 Period MAE: 83.15\n"
     ]
    },
    {
     "name": "stderr",
     "output_type": "stream",
     "text": [
      "22:19:33 - cmdstanpy - INFO - Chain [1] done processing\n"
     ]
    },
    {
     "name": "stdout",
     "output_type": "stream",
     "text": [
      "It's overpredicted.\n",
      "Monthly Error: "
     ]
    },
    {
     "name": "stderr",
     "output_type": "stream",
     "text": [
      "22:19:33 - cmdstanpy - INFO - Chain [1] start processing\n"
     ]
    },
    {
     "name": "stdout",
     "output_type": "stream",
     "text": [
      "44.86 Period MAE: 6.45\n"
     ]
    },
    {
     "name": "stderr",
     "output_type": "stream",
     "text": [
      "22:19:33 - cmdstanpy - INFO - Chain [1] done processing\n"
     ]
    },
    {
     "name": "stdout",
     "output_type": "stream",
     "text": [
      "It's overpredicted.\n",
      "Monthly Error: 52.94 Period MAE: 18.19\n",
      "It's underpredicted.\n",
      "Monthly Error: 81.35 "
     ]
    },
    {
     "name": "stderr",
     "output_type": "stream",
     "text": [
      "22:19:34 - cmdstanpy - INFO - Chain [1] start processing\n"
     ]
    },
    {
     "name": "stdout",
     "output_type": "stream",
     "text": [
      "Period MAE: 80.23\n"
     ]
    },
    {
     "name": "stderr",
     "output_type": "stream",
     "text": [
      "22:19:34 - cmdstanpy - INFO - Chain [1] done processing\n",
      "22:19:34 - cmdstanpy - INFO - Chain [1] start processing\n",
      "22:19:34 - cmdstanpy - INFO - Chain [1] start processing\n",
      "22:19:34 - cmdstanpy - INFO - Chain [1] done processing\n",
      "22:19:34 - cmdstanpy - INFO - Chain [1] done processing\n"
     ]
    },
    {
     "name": "stdout",
     "output_type": "stream",
     "text": [
      "It's underpredicted.\n",
      "Monthly Error: 64.85It's overpredicted.\n",
      " Period MAE:Monthly Error: 44.93It's underpredicted. \n",
      " Monthly Error:64.5 \n",
      "Period MAE:81.13 6.4399999999999995 \n",
      "Period MAE: 80.01\n"
     ]
    },
    {
     "name": "stderr",
     "output_type": "stream",
     "text": [
      "22:19:35 - cmdstanpy - INFO - Chain [1] start processing\n",
      "22:19:35 - cmdstanpy - INFO - Chain [1] done processing\n",
      "22:19:35 - cmdstanpy - INFO - Chain [1] start processing\n",
      "22:19:35 - cmdstanpy - INFO - Chain [1] start processing\n",
      "22:19:35 - cmdstanpy - INFO - Chain [1] done processing\n",
      "22:19:35 - cmdstanpy - INFO - Chain [1] done processing\n"
     ]
    },
    {
     "name": "stdout",
     "output_type": "stream",
     "text": [
      "It's overpredicted.\n",
      "Monthly Error: 45.06 Period MAE: 6.47\n",
      "It's underpredicted.\n",
      "Monthly Error: 71.21 Period MAE: 70.33\n"
     ]
    },
    {
     "name": "stderr",
     "output_type": "stream",
     "text": [
      "22:19:36 - cmdstanpy - INFO - Chain [1] start processing\n"
     ]
    },
    {
     "name": "stdout",
     "output_type": "stream",
     "text": [
      "It's underpredicted.\n",
      "Monthly Error: 15.42 Period MAE: "
     ]
    },
    {
     "name": "stderr",
     "output_type": "stream",
     "text": [
      "22:19:36 - cmdstanpy - INFO - Chain [1] done processing\n"
     ]
    },
    {
     "name": "stdout",
     "output_type": "stream",
     "text": [
      "2.5\n"
     ]
    },
    {
     "name": "stderr",
     "output_type": "stream",
     "text": [
      "22:19:36 - cmdstanpy - INFO - Chain [1] start processing\n"
     ]
    },
    {
     "name": "stdout",
     "output_type": "stream",
     "text": [
      "It's overpredicted.\n"
     ]
    },
    {
     "name": "stderr",
     "output_type": "stream",
     "text": [
      "22:19:36 - cmdstanpy - INFO - Chain [1] start processing\n"
     ]
    },
    {
     "name": "stdout",
     "output_type": "stream",
     "text": [
      "Monthly Error: 14.79 Period MAE: "
     ]
    },
    {
     "name": "stderr",
     "output_type": "stream",
     "text": [
      "22:19:36 - cmdstanpy - INFO - Chain [1] done processing\n"
     ]
    },
    {
     "name": "stdout",
     "output_type": "stream",
     "text": [
      "1.23\n"
     ]
    },
    {
     "name": "stderr",
     "output_type": "stream",
     "text": [
      "22:19:37 - cmdstanpy - INFO - Chain [1] start processing\n",
      "22:19:37 - cmdstanpy - INFO - Chain [1] done processing\n",
      "22:19:37 - cmdstanpy - INFO - Chain [1] done processing\n"
     ]
    },
    {
     "name": "stdout",
     "output_type": "stream",
     "text": [
      "It's underpredicted.\n",
      "Monthly Error:It's underpredicted. \n",
      "71.07 Period MAE:Monthly Error:  70.867.86\n",
      " Period MAE: 67.25\n"
     ]
    },
    {
     "name": "stderr",
     "output_type": "stream",
     "text": [
      "22:19:37 - cmdstanpy - INFO - Chain [1] start processing\n",
      "22:19:37 - cmdstanpy - INFO - Chain [1] start processing\n",
      "22:19:37 - cmdstanpy - INFO - Chain [1] done processing\n",
      "22:19:38 - cmdstanpy - INFO - Chain [1] done processing\n"
     ]
    },
    {
     "name": "stdout",
     "output_type": "stream",
     "text": [
      "It's overpredicted.\n",
      "Monthly Error: 16.74 Period MAE: 3.58\n",
      "It's underpredicted.\n",
      "Monthly Error: 65.72"
     ]
    },
    {
     "name": "stderr",
     "output_type": "stream",
     "text": [
      "22:19:38 - cmdstanpy - INFO - Chain [1] start processing\n"
     ]
    },
    {
     "name": "stdout",
     "output_type": "stream",
     "text": [
      " Period MAE: It's overpredicted.\n",
      "Monthly Error:65.21000000000001 19.08\n",
      " Period MAE: 2.1999999999999997\n"
     ]
    },
    {
     "name": "stderr",
     "output_type": "stream",
     "text": [
      "22:19:38 - cmdstanpy - INFO - Chain [1] done processing\n",
      "22:19:39 - cmdstanpy - INFO - Chain [1] start processing\n"
     ]
    },
    {
     "name": "stdout",
     "output_type": "stream",
     "text": [
      "It's underpredicted.\n",
      "Monthly Error: 16.14 Period MAE:"
     ]
    },
    {
     "name": "stderr",
     "output_type": "stream",
     "text": [
      "22:19:39 - cmdstanpy - INFO - Chain [1] start processing\n"
     ]
    },
    {
     "name": "stdout",
     "output_type": "stream",
     "text": [
      " 0.5\n"
     ]
    },
    {
     "name": "stderr",
     "output_type": "stream",
     "text": [
      "22:19:39 - cmdstanpy - INFO - Chain [1] done processing\n",
      "22:19:39 - cmdstanpy - INFO - Chain [1] done processing\n",
      "22:19:39 - cmdstanpy - INFO - Chain [1] start processing\n",
      "22:19:39 - cmdstanpy - INFO - Chain [1] done processing\n"
     ]
    },
    {
     "name": "stdout",
     "output_type": "stream",
     "text": [
      "It's underpredicted.\n",
      "Monthly Error: 69.47 Period MAE: 68.92\n",
      "It's underpredicted.\n",
      "Monthly Error: 69.21 Period MAE: 69.11\n"
     ]
    },
    {
     "name": "stderr",
     "output_type": "stream",
     "text": [
      "22:19:39 - cmdstanpy - INFO - Chain [1] start processing\n",
      "22:19:40 - cmdstanpy - INFO - Chain [1] done processing\n",
      "22:19:40 - cmdstanpy - INFO - Chain [1] start processing\n",
      "22:19:40 - cmdstanpy - INFO - Chain [1] done processing\n"
     ]
    },
    {
     "name": "stdout",
     "output_type": "stream",
     "text": [
      "It's overpredicted.\n",
      "Monthly Error: 27.9 Period MAE: 23.11\n",
      "It's overpredicted.\n",
      "It's underpredicted.Monthly Error: 21.26\n",
      " Period MAE:Monthly Error:  2.6599999999999997\n",
      "69.63 Period MAE: 69.05\n"
     ]
    },
    {
     "name": "stderr",
     "output_type": "stream",
     "text": [
      "22:19:40 - cmdstanpy - INFO - Chain [1] start processing\n",
      "22:19:41 - cmdstanpy - INFO - Chain [1] start processing\n",
      "22:19:41 - cmdstanpy - INFO - Chain [1] done processing\n",
      "22:19:41 - cmdstanpy - INFO - Chain [1] done processing\n",
      "22:19:41 - cmdstanpy - INFO - Chain [1] start processing\n",
      "22:19:41 - cmdstanpy - INFO - Chain [1] done processing\n"
     ]
    },
    {
     "name": "stdout",
     "output_type": "stream",
     "text": [
      "It's underpredicted.\n",
      "It's overpredicted.\n",
      "Monthly Error: 14.21 Period MAE:Monthly Error:  4.5872.21\n",
      " Period MAE: 71.11\n"
     ]
    },
    {
     "name": "stderr",
     "output_type": "stream",
     "text": [
      "22:19:41 - cmdstanpy - INFO - Chain [1] start processing\n",
      "22:19:41 - cmdstanpy - INFO - Chain [1] done processing\n"
     ]
    },
    {
     "name": "stdout",
     "output_type": "stream",
     "text": [
      "It's underpredicted.\n",
      "Monthly Error: 70.35"
     ]
    },
    {
     "name": "stderr",
     "output_type": "stream",
     "text": [
      "22:19:41 - cmdstanpy - INFO - Chain [1] start processing\n"
     ]
    },
    {
     "name": "stdout",
     "output_type": "stream",
     "text": [
      " Period MAE: 70.23\n"
     ]
    },
    {
     "name": "stderr",
     "output_type": "stream",
     "text": [
      "22:19:42 - cmdstanpy - INFO - Chain [1] done processing\n",
      "22:19:42 - cmdstanpy - INFO - Chain [1] start processing\n",
      "22:19:42 - cmdstanpy - INFO - Chain [1] done processing\n"
     ]
    },
    {
     "name": "stdout",
     "output_type": "stream",
     "text": [
      "It's overpredicted.\n",
      "Monthly Error: 20.34 Period MAE: 3.51\n",
      "It's underpredicted.\n",
      "Monthly Error: 68.33 Period MAE: 67.44It's overpredicted.\n",
      "\n",
      "Monthly Error: 42.08"
     ]
    },
    {
     "name": "stderr",
     "output_type": "stream",
     "text": [
      "22:19:43 - cmdstanpy - INFO - Chain [1] start processing\n"
     ]
    },
    {
     "name": "stdout",
     "output_type": "stream",
     "text": [
      " Period MAE: 2.4299999999999997\n"
     ]
    },
    {
     "name": "stderr",
     "output_type": "stream",
     "text": [
      "22:19:43 - cmdstanpy - INFO - Chain [1] start processing\n",
      "22:19:43 - cmdstanpy - INFO - Chain [1] done processing\n",
      "22:19:43 - cmdstanpy - INFO - Chain [1] start processing\n",
      "22:19:43 - cmdstanpy - INFO - Chain [1] done processing\n",
      "22:19:43 - cmdstanpy - INFO - Chain [1] done processing\n"
     ]
    },
    {
     "name": "stdout",
     "output_type": "stream",
     "text": [
      "It's underpredicted.\n",
      "Monthly Error: 72.37 Period MAE: 71.3\n",
      "It's overpredicted.\n",
      "Monthly Error: 42.2 Period MAE:"
     ]
    },
    {
     "name": "stderr",
     "output_type": "stream",
     "text": [
      "22:19:44 - cmdstanpy - INFO - Chain [1] start processing\n"
     ]
    },
    {
     "name": "stdout",
     "output_type": "stream",
     "text": [
      " 2.0\n"
     ]
    },
    {
     "name": "stderr",
     "output_type": "stream",
     "text": [
      "22:19:44 - cmdstanpy - INFO - Chain [1] done processing\n"
     ]
    },
    {
     "name": "stdout",
     "output_type": "stream",
     "text": [
      "It's underpredicted.\n",
      "Monthly Error: 71.47 Period MAE: 70.97\n"
     ]
    },
    {
     "name": "stderr",
     "output_type": "stream",
     "text": [
      "22:19:44 - cmdstanpy - INFO - Chain [1] start processing\n",
      "22:19:44 - cmdstanpy - INFO - Chain [1] done processing\n",
      "22:19:44 - cmdstanpy - INFO - Chain [1] start processing\n",
      "22:19:44 - cmdstanpy - INFO - Chain [1] done processing\n"
     ]
    },
    {
     "name": "stdout",
     "output_type": "stream",
     "text": [
      "It's overpredicted.\n",
      "Monthly Error: 47.88 Period MAE: 5.47\n",
      "It's underpredicted.\n",
      "Monthly Error: 69.73 Period MAE: 68.75\n"
     ]
    },
    {
     "name": "stderr",
     "output_type": "stream",
     "text": [
      "22:19:45 - cmdstanpy - INFO - Chain [1] start processing\n",
      "22:19:45 - cmdstanpy - INFO - Chain [1] done processing\n"
     ]
    },
    {
     "name": "stdout",
     "output_type": "stream",
     "text": [
      "It's overpredicted.\n",
      "Monthly Error:"
     ]
    },
    {
     "name": "stderr",
     "output_type": "stream",
     "text": [
      "22:19:45 - cmdstanpy - INFO - Chain [1] start processing\n"
     ]
    },
    {
     "name": "stdout",
     "output_type": "stream",
     "text": [
      " 47.94 Period MAE: 5.6000000000000005\n"
     ]
    },
    {
     "name": "stderr",
     "output_type": "stream",
     "text": [
      "22:19:45 - cmdstanpy - INFO - Chain [1] done processing\n",
      "22:19:45 - cmdstanpy - INFO - Chain [1] start processing\n"
     ]
    },
    {
     "name": "stdout",
     "output_type": "stream",
     "text": [
      "It's overpredicted."
     ]
    },
    {
     "name": "stderr",
     "output_type": "stream",
     "text": [
      "22:19:46 - cmdstanpy - INFO - Chain [1] done processing\n"
     ]
    },
    {
     "name": "stdout",
     "output_type": "stream",
     "text": [
      "\n",
      "Monthly Error: 46.04 Period MAE:It's underpredicted.\n",
      "Monthly Error:  0.929999999999999970.95\n",
      " Period MAE: 70.52000000000001\n"
     ]
    },
    {
     "name": "stderr",
     "output_type": "stream",
     "text": [
      "22:19:46 - cmdstanpy - INFO - Chain [1] start processing\n",
      "22:19:46 - cmdstanpy - INFO - Chain [1] done processing\n"
     ]
    },
    {
     "name": "stdout",
     "output_type": "stream",
     "text": [
      "It's underpredicted.\n",
      "Monthly Error: 71.75"
     ]
    },
    {
     "name": "stderr",
     "output_type": "stream",
     "text": [
      "22:19:46 - cmdstanpy - INFO - Chain [1] start processing\n"
     ]
    },
    {
     "name": "stdout",
     "output_type": "stream",
     "text": [
      " Period MAE: 70.87\n"
     ]
    },
    {
     "name": "stderr",
     "output_type": "stream",
     "text": [
      "22:19:46 - cmdstanpy - INFO - Chain [1] done processing\n",
      "22:19:46 - cmdstanpy - INFO - Chain [1] start processing\n",
      "22:19:46 - cmdstanpy - INFO - Chain [1] done processing\n"
     ]
    },
    {
     "name": "stdout",
     "output_type": "stream",
     "text": [
      "It's overpredicted.\n",
      "Monthly Error: 51.51 Period MAE: 2.97\n",
      "It's underpredicted.\n",
      "Monthly Error: "
     ]
    },
    {
     "name": "stderr",
     "output_type": "stream",
     "text": [
      "22:19:47 - cmdstanpy - INFO - Chain [1] start processing\n"
     ]
    },
    {
     "name": "stdout",
     "output_type": "stream",
     "text": [
      "75.72 Period MAE: 74.69\n",
      "It's overpredicted.\n",
      "Monthly Error: 44.6 Period MAE: 6.890000000000001\n"
     ]
    },
    {
     "name": "stderr",
     "output_type": "stream",
     "text": [
      "22:19:47 - cmdstanpy - INFO - Chain [1] done processing\n",
      "22:19:47 - cmdstanpy - INFO - Chain [1] start processing\n",
      "22:19:48 - cmdstanpy - INFO - Chain [1] done processing\n",
      "22:19:48 - cmdstanpy - INFO - Chain [1] start processing\n"
     ]
    },
    {
     "name": "stdout",
     "output_type": "stream",
     "text": [
      "It's overpredicted.\n",
      "Monthly Error: 44.32 Period MAE: 4.32\n"
     ]
    },
    {
     "name": "stderr",
     "output_type": "stream",
     "text": [
      "22:19:48 - cmdstanpy - INFO - Chain [1] done processing\n",
      "22:19:48 - cmdstanpy - INFO - Chain [1] start processing\n"
     ]
    },
    {
     "name": "stdout",
     "output_type": "stream",
     "text": [
      "It's underpredicted.\n",
      "Monthly Error: 72.17 Period MAE:"
     ]
    },
    {
     "name": "stderr",
     "output_type": "stream",
     "text": [
      "22:19:48 - cmdstanpy - INFO - Chain [1] done processing\n"
     ]
    },
    {
     "name": "stdout",
     "output_type": "stream",
     "text": [
      " 71.11It's underpredicted.\n",
      "\n",
      "Monthly Error: 74.89 Period MAE: 74.42999999999999\n"
     ]
    },
    {
     "name": "stderr",
     "output_type": "stream",
     "text": [
      "22:19:48 - cmdstanpy - INFO - Chain [1] start processing\n",
      "22:19:48 - cmdstanpy - INFO - Chain [1] start processing\n",
      "22:19:48 - cmdstanpy - INFO - Chain [1] done processing\n",
      "22:19:49 - cmdstanpy - INFO - Chain [1] done processing\n"
     ]
    },
    {
     "name": "stdout",
     "output_type": "stream",
     "text": [
      "It's overpredicted.\n",
      "Monthly Error: It's underpredicted.\n",
      "47.79Monthly Error:  Period MAE:79.15  2.18\n",
      "Period MAE: It's underpredicted.\n",
      "Monthly Error: 19.6578.08 Period MAE:\n",
      " 12.46\n"
     ]
    },
    {
     "name": "stderr",
     "output_type": "stream",
     "text": [
      "22:19:49 - cmdstanpy - INFO - Chain [1] start processing\n",
      "22:19:49 - cmdstanpy - INFO - Chain [1] done processing\n",
      "22:19:49 - cmdstanpy - INFO - Chain [1] start processing\n"
     ]
    },
    {
     "name": "stdout",
     "output_type": "stream",
     "text": [
      "It's underpredicted.\n",
      "Monthly Error: 16.02"
     ]
    },
    {
     "name": "stderr",
     "output_type": "stream",
     "text": [
      "22:19:50 - cmdstanpy - INFO - Chain [1] start processing\n"
     ]
    },
    {
     "name": "stdout",
     "output_type": "stream",
     "text": [
      " Period MAE: 5.63\n"
     ]
    },
    {
     "name": "stderr",
     "output_type": "stream",
     "text": [
      "22:19:50 - cmdstanpy - INFO - Chain [1] start processing\n",
      "22:19:50 - cmdstanpy - INFO - Chain [1] done processing\n",
      "22:19:50 - cmdstanpy - INFO - Chain [1] done processing\n",
      "22:19:50 - cmdstanpy - INFO - Chain [1] done processing\n"
     ]
    },
    {
     "name": "stdout",
     "output_type": "stream",
     "text": [
      "It's underpredicted.\n",
      "Monthly Error: 76.01 Period MAE: 74.92999999999999\n"
     ]
    },
    {
     "name": "stderr",
     "output_type": "stream",
     "text": [
      "22:19:50 - cmdstanpy - INFO - Chain [1] start processing\n"
     ]
    },
    {
     "name": "stdout",
     "output_type": "stream",
     "text": [
      "It's underpredicted.\n",
      "Monthly Error: 80.49 Period MAE: 79.47999999999999\n"
     ]
    },
    {
     "name": "stderr",
     "output_type": "stream",
     "text": [
      "22:19:51 - cmdstanpy - INFO - Chain [1] done processing\n",
      "22:19:51 - cmdstanpy - INFO - Chain [1] start processing\n",
      "22:19:51 - cmdstanpy - INFO - Chain [1] done processing\n"
     ]
    },
    {
     "name": "stdout",
     "output_type": "stream",
     "text": [
      "It's underpredicted.\n",
      "It's overpredicted.Monthly Error:\n",
      "Monthly Error:  22.15 Period MAE:16.1 Period MAE: 16.8 5.62\n",
      "\n",
      "It's underpredicted.\n",
      "Monthly Error:"
     ]
    },
    {
     "name": "stderr",
     "output_type": "stream",
     "text": [
      "22:19:51 - cmdstanpy - INFO - Chain [1] start processing\n"
     ]
    },
    {
     "name": "stdout",
     "output_type": "stream",
     "text": [
      " 78.99 Period MAE: 77.99000000000001\n"
     ]
    },
    {
     "name": "stderr",
     "output_type": "stream",
     "text": [
      "22:19:51 - cmdstanpy - INFO - Chain [1] start processing\n",
      "22:19:52 - cmdstanpy - INFO - Chain [1] done processing\n",
      "22:19:52 - cmdstanpy - INFO - Chain [1] start processing\n",
      "22:19:52 - cmdstanpy - INFO - Chain [1] done processing\n",
      "22:19:52 - cmdstanpy - INFO - Chain [1] done processing\n"
     ]
    },
    {
     "name": "stdout",
     "output_type": "stream",
     "text": [
      "It's overpredicted.\n",
      "Monthly Error: 31.59 Period MAE: 26.009999999999998\n"
     ]
    },
    {
     "name": "stderr",
     "output_type": "stream",
     "text": [
      "22:19:52 - cmdstanpy - INFO - Chain [1] start processing\n"
     ]
    },
    {
     "name": "stdout",
     "output_type": "stream",
     "text": [
      "It's underpredicted.\n",
      "Monthly Error: 71.24 "
     ]
    },
    {
     "name": "stderr",
     "output_type": "stream",
     "text": [
      "22:19:52 - cmdstanpy - INFO - Chain [1] done processing\n"
     ]
    },
    {
     "name": "stdout",
     "output_type": "stream",
     "text": [
      "Period MAE: 70.22\n"
     ]
    },
    {
     "name": "stderr",
     "output_type": "stream",
     "text": [
      "22:19:53 - cmdstanpy - INFO - Chain [1] start processing\n"
     ]
    },
    {
     "name": "stdout",
     "output_type": "stream",
     "text": [
      "It's underpredicted.\n",
      "Monthly Error: 78.03 Period MAE:"
     ]
    },
    {
     "name": "stderr",
     "output_type": "stream",
     "text": [
      "22:19:53 - cmdstanpy - INFO - Chain [1] done processing\n"
     ]
    },
    {
     "name": "stdout",
     "output_type": "stream",
     "text": [
      " 76.99000000000001\n",
      "It's overpredicted.\n",
      "Monthly Error: 32.45 Period MAE: 25.1\n",
      "It's overpredicted.\n",
      "Monthly Error: 19.9 "
     ]
    },
    {
     "name": "stderr",
     "output_type": "stream",
     "text": [
      "22:19:53 - cmdstanpy - INFO - Chain [1] start processing\n"
     ]
    },
    {
     "name": "stdout",
     "output_type": "stream",
     "text": [
      "Period MAE: 13.26\n"
     ]
    },
    {
     "name": "stderr",
     "output_type": "stream",
     "text": [
      "22:19:54 - cmdstanpy - INFO - Chain [1] done processing\n"
     ]
    },
    {
     "name": "stdout",
     "output_type": "stream",
     "text": [
      "It's underpredicted.\n",
      "Monthly Error: 78.75"
     ]
    },
    {
     "name": "stderr",
     "output_type": "stream",
     "text": [
      "22:19:54 - cmdstanpy - INFO - Chain [1] start processing\n"
     ]
    },
    {
     "name": "stdout",
     "output_type": "stream",
     "text": [
      " Period MAE: 77.66"
     ]
    },
    {
     "name": "stderr",
     "output_type": "stream",
     "text": [
      "22:19:54 - cmdstanpy - INFO - Chain [1] start processing\n"
     ]
    },
    {
     "name": "stdout",
     "output_type": "stream",
     "text": [
      "\n"
     ]
    },
    {
     "name": "stderr",
     "output_type": "stream",
     "text": [
      "22:19:54 - cmdstanpy - INFO - Chain [1] start processing\n",
      "22:19:54 - cmdstanpy - INFO - Chain [1] done processing\n",
      "22:19:54 - cmdstanpy - INFO - Chain [1] done processing\n",
      "22:19:54 - cmdstanpy - INFO - Chain [1] done processing\n"
     ]
    },
    {
     "name": "stdout",
     "output_type": "stream",
     "text": [
      "It's underpredicted.\n",
      "Monthly Error: 73.8 Period MAE: 72.42\n",
      "It's overpredicted.\n"
     ]
    },
    {
     "name": "stderr",
     "output_type": "stream",
     "text": [
      "22:19:55 - cmdstanpy - INFO - Chain [1] start processing\n"
     ]
    },
    {
     "name": "stdout",
     "output_type": "stream",
     "text": [
      "Monthly Error: 20.68 Period MAE: 14.14It's underpredicted.\n",
      "\n"
     ]
    },
    {
     "name": "stderr",
     "output_type": "stream",
     "text": [
      "22:19:55 - cmdstanpy - INFO - Chain [1] done processing\n"
     ]
    },
    {
     "name": "stdout",
     "output_type": "stream",
     "text": [
      "Monthly Error: 77.28 Period MAE: 76.17\n"
     ]
    },
    {
     "name": "stderr",
     "output_type": "stream",
     "text": [
      "22:19:56 - cmdstanpy - INFO - Chain [1] start processing\n",
      "22:19:56 - cmdstanpy - INFO - Chain [1] done processing\n",
      "22:19:56 - cmdstanpy - INFO - Chain [1] start processing\n"
     ]
    },
    {
     "name": "stdout",
     "output_type": "stream",
     "text": [
      "It's overpredicted.\n",
      "Monthly Error: 20.96 Period MAE: 13.86\n"
     ]
    },
    {
     "name": "stderr",
     "output_type": "stream",
     "text": [
      "22:19:56 - cmdstanpy - INFO - Chain [1] done processing\n",
      "22:19:57 - cmdstanpy - INFO - Chain [1] start processing\n"
     ]
    },
    {
     "name": "stdout",
     "output_type": "stream",
     "text": [
      "It's overpredicted.It's underpredicted.\n",
      "Monthly Error: \n",
      "Monthly Error:43.9  81.17Period MAE:  7.140000000000001Period MAE: \n",
      "80.04\n"
     ]
    },
    {
     "name": "stderr",
     "output_type": "stream",
     "text": [
      "22:19:57 - cmdstanpy - INFO - Chain [1] done processing\n",
      "22:19:57 - cmdstanpy - INFO - Chain [1] start processing\n",
      "22:19:57 - cmdstanpy - INFO - Chain [1] done processing\n",
      "22:19:58 - cmdstanpy - INFO - Chain [1] start processing\n",
      "22:19:58 - cmdstanpy - INFO - Chain [1] done processing\n"
     ]
    },
    {
     "name": "stdout",
     "output_type": "stream",
     "text": [
      "It's underpredicted.\n",
      "Monthly Error: 76.26It's underpredicted. \n",
      "Period MAE:Monthly Error: 74.94 \n",
      "81.52 Period MAE: It's overpredicted.80.44\n",
      "\n",
      "Monthly Error: 47.59 Period MAE: 13.780000000000001\n"
     ]
    },
    {
     "name": "stderr",
     "output_type": "stream",
     "text": [
      "22:19:59 - cmdstanpy - INFO - Chain [1] start processing\n",
      "22:19:59 - cmdstanpy - INFO - Chain [1] done processing\n",
      "22:19:59 - cmdstanpy - INFO - Chain [1] start processing\n",
      "22:19:59 - cmdstanpy - INFO - Chain [1] start processing\n",
      "22:20:00 - cmdstanpy - INFO - Chain [1] done processing\n",
      "22:20:00 - cmdstanpy - INFO - Chain [1] done processing\n"
     ]
    },
    {
     "name": "stdout",
     "output_type": "stream",
     "text": [
      "It's underpredicted.\n",
      "Monthly Error: It's overpredicted.82.48 \n",
      "Period MAE:Monthly Error:  81.546.42\n",
      " Period MAE: 11.98It's overpredicted.\n",
      "\n",
      "Monthly Error: 46.94 Period MAE: 11.61\n"
     ]
    },
    {
     "name": "stderr",
     "output_type": "stream",
     "text": [
      "22:20:02 - cmdstanpy - INFO - Chain [1] start processing\n",
      "22:20:02 - cmdstanpy - INFO - Chain [1] done processing\n",
      "22:20:03 - cmdstanpy - INFO - Chain [1] start processing\n",
      "22:20:03 - cmdstanpy - INFO - Chain [1] start processing\n"
     ]
    },
    {
     "name": "stdout",
     "output_type": "stream",
     "text": [
      "It's overpredicted.\n",
      "Monthly Error: 54.89 Period MAE: 20.73\n"
     ]
    },
    {
     "name": "stderr",
     "output_type": "stream",
     "text": [
      "22:20:03 - cmdstanpy - INFO - Chain [1] done processing\n",
      "22:20:03 - cmdstanpy - INFO - Chain [1] start processing\n",
      "22:20:03 - cmdstanpy - INFO - Chain [1] done processing\n"
     ]
    },
    {
     "name": "stdout",
     "output_type": "stream",
     "text": [
      "It's underpredicted.\n",
      "Monthly Error: 74.55 Period MAE: 73.16\n"
     ]
    },
    {
     "name": "stderr",
     "output_type": "stream",
     "text": [
      "22:20:04 - cmdstanpy - INFO - Chain [1] done processing\n",
      "22:20:05 - cmdstanpy - INFO - Chain [1] start processing\n",
      "22:20:05 - cmdstanpy - INFO - Chain [1] done processing\n"
     ]
    },
    {
     "name": "stdout",
     "output_type": "stream",
     "text": [
      "It's underpredicted.\n",
      "It's overpredicted.Monthly Error: 80.56\n",
      " Monthly Error:Period MAE: 44.88  Period MAE:79.45\n",
      " 6.54\n",
      "It's overpredicted.\n",
      "Monthly Error: 55.9 Period MAE:It's underpredicted. \n",
      "19.86\n",
      "Monthly Error: 81.3 Period MAE: 80.17\n"
     ]
    },
    {
     "name": "stderr",
     "output_type": "stream",
     "text": [
      "22:20:07 - cmdstanpy - INFO - Chain [1] start processing\n",
      "22:20:07 - cmdstanpy - INFO - Chain [1] done processing\n",
      "22:20:07 - cmdstanpy - INFO - Chain [1] start processing\n",
      "22:20:07 - cmdstanpy - INFO - Chain [1] done processing\n",
      "22:20:07 - cmdstanpy - INFO - Chain [1] start processing\n",
      "22:20:07 - cmdstanpy - INFO - Chain [1] start processing\n",
      "22:20:08 - cmdstanpy - INFO - Chain [1] done processing\n"
     ]
    },
    {
     "name": "stdout",
     "output_type": "stream",
     "text": [
      "It's underpredicted.\n",
      "Monthly Error: 65.78 Period MAE: 65.35"
     ]
    },
    {
     "name": "stderr",
     "output_type": "stream",
     "text": [
      "22:20:08 - cmdstanpy - INFO - Chain [1] done processing\n"
     ]
    },
    {
     "name": "stdout",
     "output_type": "stream",
     "text": [
      "\n"
     ]
    },
    {
     "name": "stderr",
     "output_type": "stream",
     "text": [
      "22:20:08 - cmdstanpy - INFO - Chain [1] start processing\n",
      "22:20:09 - cmdstanpy - INFO - Chain [1] done processing\n"
     ]
    },
    {
     "name": "stdout",
     "output_type": "stream",
     "text": [
      "It's underpredicted.\n",
      "Monthly Error: 80.56 Period MAE: 79.39\n",
      "It's overpredicted.\n",
      "Monthly Error: 44.99 Period MAE: 6.61\n"
     ]
    },
    {
     "name": "stderr",
     "output_type": "stream",
     "text": [
      "22:20:10 - cmdstanpy - INFO - Chain [1] start processing\n",
      "22:20:10 - cmdstanpy - INFO - Chain [1] start processing\n",
      "22:20:10 - cmdstanpy - INFO - Chain [1] done processing\n",
      "22:20:11 - cmdstanpy - INFO - Chain [1] done processing\n"
     ]
    },
    {
     "name": "stdout",
     "output_type": "stream",
     "text": [
      "It's overpredicted.\n",
      "Monthly Error: 45.12It's underpredicted. Period MAE: 6.65\n",
      "\n",
      "Monthly Error: 66.5 Period MAE: 65.97\n",
      "It's underpredicted.\n",
      "Monthly Error: 17.06 Period MAE: 8.38\n"
     ]
    },
    {
     "name": "stderr",
     "output_type": "stream",
     "text": [
      "22:20:12 - cmdstanpy - INFO - Chain [1] start processing\n",
      "22:20:12 - cmdstanpy - INFO - Chain [1] start processing\n"
     ]
    },
    {
     "name": "stdout",
     "output_type": "stream",
     "text": [
      "It's underpredicted.\n",
      "Monthly Error:"
     ]
    },
    {
     "name": "stderr",
     "output_type": "stream",
     "text": [
      "22:20:12 - cmdstanpy - INFO - Chain [1] done processing\n"
     ]
    },
    {
     "name": "stdout",
     "output_type": "stream",
     "text": [
      " 18.16 Period MAE: 11.110000000000001\n"
     ]
    },
    {
     "name": "stderr",
     "output_type": "stream",
     "text": [
      "22:20:12 - cmdstanpy - INFO - Chain [1] start processing\n",
      "22:20:13 - cmdstanpy - INFO - Chain [1] done processing\n",
      "22:20:13 - cmdstanpy - INFO - Chain [1] start processing\n",
      "22:20:13 - cmdstanpy - INFO - Chain [1] done processing\n",
      "22:20:13 - cmdstanpy - INFO - Chain [1] done processing\n"
     ]
    },
    {
     "name": "stdout",
     "output_type": "stream",
     "text": [
      "It's underpredicted.\n",
      "Monthly Error: 67.18 Period MAE: 66.64\n"
     ]
    },
    {
     "name": "stderr",
     "output_type": "stream",
     "text": [
      "22:20:14 - cmdstanpy - INFO - Chain [1] start processing\n",
      "22:20:14 - cmdstanpy - INFO - Chain [1] done processing\n"
     ]
    },
    {
     "name": "stdout",
     "output_type": "stream",
     "text": [
      "It's underpredicted.\n",
      "Monthly Error: 67.42 It's underpredicted.Period MAE: \n",
      "66.82000000000001Monthly Error: \n",
      "67.95 Period MAE: 67.69\n",
      "It's underpredicted.\n",
      "Monthly Error: 14.66 Period MAE: "
     ]
    },
    {
     "name": "stderr",
     "output_type": "stream",
     "text": [
      "22:20:16 - cmdstanpy - INFO - Chain [1] start processing\n"
     ]
    },
    {
     "name": "stdout",
     "output_type": "stream",
     "text": [
      "3.15"
     ]
    },
    {
     "name": "stderr",
     "output_type": "stream",
     "text": [
      "22:20:16 - cmdstanpy - INFO - Chain [1] start processing\n"
     ]
    },
    {
     "name": "stdout",
     "output_type": "stream",
     "text": [
      "\n"
     ]
    },
    {
     "name": "stderr",
     "output_type": "stream",
     "text": [
      "22:20:16 - cmdstanpy - INFO - Chain [1] done processing\n"
     ]
    },
    {
     "name": "stdout",
     "output_type": "stream",
     "text": [
      "It's underpredicted.\n",
      "Monthly Error: 18.29 Period MAE: 3.18\n"
     ]
    },
    {
     "name": "stderr",
     "output_type": "stream",
     "text": [
      "22:20:16 - cmdstanpy - INFO - Chain [1] done processing\n",
      "22:20:17 - cmdstanpy - INFO - Chain [1] start processing\n",
      "22:20:17 - cmdstanpy - INFO - Chain [1] done processing\n",
      "22:20:17 - cmdstanpy - INFO - Chain [1] start processing\n",
      "22:20:17 - cmdstanpy - INFO - Chain [1] done processing\n"
     ]
    },
    {
     "name": "stdout",
     "output_type": "stream",
     "text": [
      "It's underpredicted.\n",
      "Monthly Error: 69.51 Period MAE: It's underpredicted.68.8\n",
      "\n",
      "Monthly Error: 14.38 Period MAE:It's underpredicted. \n",
      "5.2\n",
      "Monthly Error: 68.71 Period MAE: 68.4"
     ]
    },
    {
     "name": "stderr",
     "output_type": "stream",
     "text": [
      "22:20:18 - cmdstanpy - INFO - Chain [1] start processing\n"
     ]
    },
    {
     "name": "stdout",
     "output_type": "stream",
     "text": [
      "\n"
     ]
    },
    {
     "name": "stderr",
     "output_type": "stream",
     "text": [
      "22:20:19 - cmdstanpy - INFO - Chain [1] done processing\n",
      "22:20:19 - cmdstanpy - INFO - Chain [1] start processing\n",
      "22:20:19 - cmdstanpy - INFO - Chain [1] start processing\n",
      "22:20:19 - cmdstanpy - INFO - Chain [1] done processing\n",
      "22:20:19 - cmdstanpy - INFO - Chain [1] done processing\n"
     ]
    },
    {
     "name": "stdout",
     "output_type": "stream",
     "text": [
      "It's underpredicted.\n",
      "Monthly Error: 17.79 Period MAE: 1.28\n",
      "It's underpredicted.\n",
      "Monthly Error: 67.72 Period MAE: 67.12\n"
     ]
    },
    {
     "name": "stderr",
     "output_type": "stream",
     "text": [
      "22:20:21 - cmdstanpy - INFO - Chain [1] start processing\n"
     ]
    },
    {
     "name": "stdout",
     "output_type": "stream",
     "text": [
      "It's overpredicted.\n",
      "Monthly Error: 14.33 Period MAE: 8.77\n"
     ]
    },
    {
     "name": "stderr",
     "output_type": "stream",
     "text": [
      "22:20:22 - cmdstanpy - INFO - Chain [1] start processing\n",
      "22:20:22 - cmdstanpy - INFO - Chain [1] start processing\n",
      "22:20:22 - cmdstanpy - INFO - Chain [1] done processing\n",
      "22:20:22 - cmdstanpy - INFO - Chain [1] done processing\n",
      "22:20:22 - cmdstanpy - INFO - Chain [1] done processing\n"
     ]
    },
    {
     "name": "stdout",
     "output_type": "stream",
     "text": [
      "It's underpredicted.\n",
      "Monthly Error: 15.93 Period MAE: It's underpredicted.\n",
      "Monthly Error: 7.46\n",
      "71.08 Period MAE: 70.07\n"
     ]
    },
    {
     "name": "stderr",
     "output_type": "stream",
     "text": [
      "22:20:23 - cmdstanpy - INFO - Chain [1] start processing\n",
      "22:20:23 - cmdstanpy - INFO - Chain [1] done processing\n",
      "22:20:23 - cmdstanpy - INFO - Chain [1] start processing\n",
      "22:20:24 - cmdstanpy - INFO - Chain [1] done processing\n"
     ]
    },
    {
     "name": "stdout",
     "output_type": "stream",
     "text": [
      "It's underpredicted.\n",
      "Monthly Error: 67.48 Period MAE: 67.30000000000001\n"
     ]
    },
    {
     "name": "stderr",
     "output_type": "stream",
     "text": [
      "22:20:25 - cmdstanpy - INFO - Chain [1] start processing\n",
      "22:20:25 - cmdstanpy - INFO - Chain [1] done processing\n"
     ]
    },
    {
     "name": "stdout",
     "output_type": "stream",
     "text": [
      "It's underpredicted.\n",
      "Monthly Error: 70.53 Period MAE: 69.52000000000001\n",
      "It's underpredicted.\n",
      "Monthly Error: 17.15 Period MAE: 3.8\n",
      "It's overpredicted.\n",
      "Monthly Error: 45.51 Period MAE: 10.57\n"
     ]
    },
    {
     "name": "stderr",
     "output_type": "stream",
     "text": [
      "22:20:27 - cmdstanpy - INFO - Chain [1] start processing\n",
      "22:20:27 - cmdstanpy - INFO - Chain [1] start processing\n",
      "22:20:27 - cmdstanpy - INFO - Chain [1] done processing\n",
      "22:20:27 - cmdstanpy - INFO - Chain [1] start processing\n",
      "22:20:27 - cmdstanpy - INFO - Chain [1] done processing\n",
      "22:20:28 - cmdstanpy - INFO - Chain [1] done processing\n"
     ]
    },
    {
     "name": "stdout",
     "output_type": "stream",
     "text": [
      "It's underpredicted.\n",
      "Monthly Error: 70.08 Period MAE: 69.14\n"
     ]
    },
    {
     "name": "stderr",
     "output_type": "stream",
     "text": [
      "22:20:28 - cmdstanpy - INFO - Chain [1] start processing\n",
      "22:20:28 - cmdstanpy - INFO - Chain [1] done processing\n"
     ]
    },
    {
     "name": "stdout",
     "output_type": "stream",
     "text": [
      "It's overpredicted.\n",
      "Monthly Error: 44.97 Period MAE: 9.09\n",
      "It's underpredicted.\n",
      "Monthly Error: 71.36 Period MAE: 70.71\n"
     ]
    },
    {
     "name": "stderr",
     "output_type": "stream",
     "text": [
      "22:20:29 - cmdstanpy - INFO - Chain [1] start processing\n",
      "22:20:30 - cmdstanpy - INFO - Chain [1] done processing\n",
      "22:20:30 - cmdstanpy - INFO - Chain [1] start processing\n",
      "22:20:30 - cmdstanpy - INFO - Chain [1] done processing\n"
     ]
    },
    {
     "name": "stdout",
     "output_type": "stream",
     "text": [
      "It's overpredicted.\n",
      "It's underpredicted.\n",
      "Monthly Error:Monthly Error: 71.52  45.48Period MAE:  70.46\n",
      "Period MAE: 4.36\n",
      "It's overpredicted.\n",
      "Monthly Error: 48.6 Period MAE: 7.049999999999999\n"
     ]
    },
    {
     "name": "stderr",
     "output_type": "stream",
     "text": [
      "22:20:32 - cmdstanpy - INFO - Chain [1] start processing\n",
      "22:20:32 - cmdstanpy - INFO - Chain [1] start processing\n",
      "22:20:32 - cmdstanpy - INFO - Chain [1] done processing\n",
      "22:20:33 - cmdstanpy - INFO - Chain [1] start processing\n",
      "22:20:33 - cmdstanpy - INFO - Chain [1] done processing\n",
      "22:20:33 - cmdstanpy - INFO - Chain [1] done processing\n"
     ]
    },
    {
     "name": "stdout",
     "output_type": "stream",
     "text": [
      "It's underpredicted.\n",
      "Monthly Error: 70.07 Period MAE: 69.14\n"
     ]
    },
    {
     "name": "stderr",
     "output_type": "stream",
     "text": [
      "22:20:34 - cmdstanpy - INFO - Chain [1] start processing\n",
      "22:20:34 - cmdstanpy - INFO - Chain [1] done processing\n"
     ]
    },
    {
     "name": "stdout",
     "output_type": "stream",
     "text": [
      "It's underpredicted.\n",
      "Monthly Error: 45.59 Period MAE: 0.21\n"
     ]
    },
    {
     "name": "stderr",
     "output_type": "stream",
     "text": [
      "22:20:35 - cmdstanpy - INFO - Chain [1] start processing\n"
     ]
    },
    {
     "name": "stdout",
     "output_type": "stream",
     "text": [
      "It's underpredicted.\n",
      "Monthly Error: 71.11 Period MAE: 70.48\n"
     ]
    },
    {
     "name": "stderr",
     "output_type": "stream",
     "text": [
      "22:20:36 - cmdstanpy - INFO - Chain [1] done processing\n"
     ]
    },
    {
     "name": "stdout",
     "output_type": "stream",
     "text": [
      "It's overpredicted.\n",
      "Monthly Error:"
     ]
    },
    {
     "name": "stderr",
     "output_type": "stream",
     "text": [
      "22:20:37 - cmdstanpy - INFO - Chain [1] start processing\n"
     ]
    },
    {
     "name": "stdout",
     "output_type": "stream",
     "text": [
      " 50.63It's overpredicted. \n",
      "Monthly Error:Period MAE:  42.73 Period MAE:6.09 \n",
      "2.21\n",
      "It's underpredicted.\n",
      "Monthly Error: 71.77"
     ]
    },
    {
     "name": "stderr",
     "output_type": "stream",
     "text": [
      "22:20:37 - cmdstanpy - INFO - Chain [1] done processing\n"
     ]
    },
    {
     "name": "stdout",
     "output_type": "stream",
     "text": [
      " Period MAE: 70.72\n"
     ]
    },
    {
     "name": "stderr",
     "output_type": "stream",
     "text": [
      "22:20:38 - cmdstanpy - INFO - Chain [1] start processing\n",
      "22:20:38 - cmdstanpy - INFO - Chain [1] start processing\n",
      "22:20:38 - cmdstanpy - INFO - Chain [1] start processing\n",
      "22:20:38 - cmdstanpy - INFO - Chain [1] done processing\n",
      "22:20:38 - cmdstanpy - INFO - Chain [1] done processing\n",
      "22:20:39 - cmdstanpy - INFO - Chain [1] done processing\n"
     ]
    },
    {
     "name": "stdout",
     "output_type": "stream",
     "text": [
      "It's underpredicted.\n",
      "Monthly Error: 71.89 Period MAE: 70.84\n"
     ]
    },
    {
     "name": "stderr",
     "output_type": "stream",
     "text": [
      "22:20:39 - cmdstanpy - INFO - Chain [1] start processing\n",
      "22:20:39 - cmdstanpy - INFO - Chain [1] done processing\n"
     ]
    },
    {
     "name": "stdout",
     "output_type": "stream",
     "text": [
      "It's overpredicted.\n",
      "Monthly Error: 45.88 Period MAE: 9.9\n",
      "It's underpredicted.\n",
      "Monthly Error: 72.0 Period MAE: 71.34\n"
     ]
    },
    {
     "name": "stderr",
     "output_type": "stream",
     "text": [
      "22:20:41 - cmdstanpy - INFO - Chain [1] start processing\n",
      "22:20:41 - cmdstanpy - INFO - Chain [1] start processing\n",
      "22:20:41 - cmdstanpy - INFO - Chain [1] done processing\n",
      "22:20:42 - cmdstanpy - INFO - Chain [1] done processing\n"
     ]
    },
    {
     "name": "stdout",
     "output_type": "stream",
     "text": [
      "It's overpredicted.\n",
      "Monthly Error: 46.73 Period MAE: 6.510000000000001\n",
      "It's underpredicted.\n",
      "Monthly Error: 16.82 Period MAE: 8.38\n"
     ]
    },
    {
     "name": "stderr",
     "output_type": "stream",
     "text": [
      "22:20:43 - cmdstanpy - INFO - Chain [1] start processing\n"
     ]
    },
    {
     "name": "stdout",
     "output_type": "stream",
     "text": [
      "It's underpredicted.\n",
      "Monthly Error: 73.18 Period MAE: 72.08\n"
     ]
    },
    {
     "name": "stderr",
     "output_type": "stream",
     "text": [
      "22:20:44 - cmdstanpy - INFO - Chain [1] done processing\n",
      "22:20:44 - cmdstanpy - INFO - Chain [1] start processing\n",
      "22:20:44 - cmdstanpy - INFO - Chain [1] start processing\n",
      "22:20:44 - cmdstanpy - INFO - Chain [1] done processing\n",
      "22:20:44 - cmdstanpy - INFO - Chain [1] done processing\n"
     ]
    },
    {
     "name": "stdout",
     "output_type": "stream",
     "text": [
      "It's underpredicted.\n",
      "Monthly Error: 16.31 Period MAE: 6.78\n",
      "It's underpredicted.\n",
      "Monthly Error: 74.52 Period MAE: "
     ]
    },
    {
     "name": "stderr",
     "output_type": "stream",
     "text": [
      "22:20:45 - cmdstanpy - INFO - Chain [1] start processing\n"
     ]
    },
    {
     "name": "stdout",
     "output_type": "stream",
     "text": [
      "73.46000000000001\n"
     ]
    },
    {
     "name": "stderr",
     "output_type": "stream",
     "text": [
      "22:20:46 - cmdstanpy - INFO - Chain [1] done processing\n",
      "22:20:46 - cmdstanpy - INFO - Chain [1] start processing\n"
     ]
    },
    {
     "name": "stdout",
     "output_type": "stream",
     "text": [
      "It's underpredicted.\n",
      "Monthly Error: 73.39 Period MAE: 72.28\n"
     ]
    },
    {
     "name": "stderr",
     "output_type": "stream",
     "text": [
      "22:20:46 - cmdstanpy - INFO - Chain [1] done processing\n",
      "22:20:47 - cmdstanpy - INFO - Chain [1] start processing\n",
      "22:20:47 - cmdstanpy - INFO - Chain [1] done processing\n"
     ]
    },
    {
     "name": "stdout",
     "output_type": "stream",
     "text": [
      "It's underpredicted.\n",
      "Monthly Error: 16.5 Period MAE: 7.24\n",
      "It's underpredicted.\n",
      "Monthly Error: 70.34 Period MAE: 69.45\n",
      "It's overpredicted.\n",
      "Monthly Error: 19.27 Period MAE: 12.989999999999998\n"
     ]
    },
    {
     "name": "stderr",
     "output_type": "stream",
     "text": [
      "22:20:49 - cmdstanpy - INFO - Chain [1] start processing\n",
      "22:20:49 - cmdstanpy - INFO - Chain [1] start processing\n",
      "22:20:49 - cmdstanpy - INFO - Chain [1] start processing\n",
      "22:20:49 - cmdstanpy - INFO - Chain [1] done processing\n",
      "22:20:49 - cmdstanpy - INFO - Chain [1] done processing\n",
      "22:20:50 - cmdstanpy - INFO - Chain [1] done processing\n"
     ]
    },
    {
     "name": "stdout",
     "output_type": "stream",
     "text": [
      "It's overpredicted.\n",
      "Monthly Error: 19.94 Period MAE: 13.919999999999998\n",
      "It's underpredicted.\n",
      "Monthly Error: 75.82 74.69Period MAE: \n"
     ]
    },
    {
     "name": "stderr",
     "output_type": "stream",
     "text": [
      "22:20:51 - cmdstanpy - INFO - Chain [1] start processing\n",
      "22:20:51 - cmdstanpy - INFO - Chain [1] start processing\n",
      "22:20:51 - cmdstanpy - INFO - Chain [1] done processing\n",
      "22:20:52 - cmdstanpy - INFO - Chain [1] done processing\n"
     ]
    },
    {
     "name": "stdout",
     "output_type": "stream",
     "text": [
      "It's underpredicted.\n",
      "Monthly Error: 72.22 Period MAE: 71.22\n",
      "It's underpredicted.\n",
      "Monthly Error: 72.92"
     ]
    },
    {
     "name": "stderr",
     "output_type": "stream",
     "text": [
      "22:20:53 - cmdstanpy - INFO - Chain [1] start processing\n"
     ]
    },
    {
     "name": "stdout",
     "output_type": "stream",
     "text": [
      " Period MAE:It's underpredicted.\n",
      " Monthly Error:71.83\n",
      " 14.26"
     ]
    },
    {
     "name": "stderr",
     "output_type": "stream",
     "text": [
      "22:20:53 - cmdstanpy - INFO - Chain [1] done processing\n"
     ]
    },
    {
     "name": "stdout",
     "output_type": "stream",
     "text": [
      " Period MAE: \n",
      "5.609999999999999It's overpredicted.\n",
      "Monthly Error: "
     ]
    },
    {
     "name": "stderr",
     "output_type": "stream",
     "text": [
      "22:20:54 - cmdstanpy - INFO - Chain [1] start processing\n"
     ]
    },
    {
     "name": "stdout",
     "output_type": "stream",
     "text": [
      "13.15 Period MAE: 4.3\n"
     ]
    },
    {
     "name": "stderr",
     "output_type": "stream",
     "text": [
      "22:20:54 - cmdstanpy - INFO - Chain [1] start processing\n",
      "22:20:55 - cmdstanpy - INFO - Chain [1] start processing\n",
      "22:20:55 - cmdstanpy - INFO - Chain [1] done processing\n",
      "22:20:55 - cmdstanpy - INFO - Chain [1] done processing\n",
      "22:20:55 - cmdstanpy - INFO - Chain [1] done processing\n"
     ]
    },
    {
     "name": "stdout",
     "output_type": "stream",
     "text": [
      "It's underpredicted.\n",
      "Monthly Error: 76.24 Period MAE: 74.86\n"
     ]
    },
    {
     "name": "stderr",
     "output_type": "stream",
     "text": [
      "22:20:56 - cmdstanpy - INFO - Chain [1] start processing\n",
      "22:20:56 - cmdstanpy - INFO - Chain [1] done processing\n"
     ]
    },
    {
     "name": "stdout",
     "output_type": "stream",
     "text": [
      "It's overpredicted.\n",
      "Monthly Error: 12.6 Period MAE: 2.81\n",
      "It's underpredicted.\n",
      "Monthly Error: 72.31 Period MAE: 71.23\n"
     ]
    },
    {
     "name": "stderr",
     "output_type": "stream",
     "text": [
      "22:20:57 - cmdstanpy - INFO - Chain [1] start processing\n",
      "22:20:57 - cmdstanpy - INFO - Chain [1] done processing\n",
      "22:20:58 - cmdstanpy - INFO - Chain [1] start processing\n",
      "22:20:58 - cmdstanpy - INFO - Chain [1] done processing\n"
     ]
    },
    {
     "name": "stdout",
     "output_type": "stream",
     "text": [
      "It's overpredicted.\n",
      "Monthly Error: 13.2 Period MAE: It's underpredicted.4.21\n",
      "\n",
      "Monthly Error: 74.33 Period MAE: It's overpredicted.\n",
      "72.94Monthly Error:\n",
      " 44.49 Period MAE: 8.15\n"
     ]
    },
    {
     "name": "stderr",
     "output_type": "stream",
     "text": [
      "22:20:59 - cmdstanpy - INFO - Chain [1] start processing\n",
      "22:20:59 - cmdstanpy - INFO - Chain [1] start processing\n",
      "22:20:59 - cmdstanpy - INFO - Chain [1] done processing\n",
      "22:20:59 - cmdstanpy - INFO - Chain [1] start processing\n",
      "22:20:59 - cmdstanpy - INFO - Chain [1] done processing\n",
      "22:21:00 - cmdstanpy - INFO - Chain [1] done processing\n"
     ]
    },
    {
     "name": "stdout",
     "output_type": "stream",
     "text": [
      "It's underpredicted.\n",
      "Monthly Error: 75.46 Period MAE: 74.14\n"
     ]
    },
    {
     "name": "stderr",
     "output_type": "stream",
     "text": [
      "22:21:00 - cmdstanpy - INFO - Chain [1] start processing\n",
      "22:21:01 - cmdstanpy - INFO - Chain [1] done processing\n"
     ]
    },
    {
     "name": "stdout",
     "output_type": "stream",
     "text": [
      "It's overpredicted.\n",
      "Monthly Error: 45.23 Period MAE: 9.66\n",
      "It's underpredicted.\n",
      "Monthly Error: 74.4 Period MAE: 73.00999999999999\n"
     ]
    },
    {
     "name": "stderr",
     "output_type": "stream",
     "text": [
      "22:21:02 - cmdstanpy - INFO - Chain [1] start processing\n",
      "22:21:02 - cmdstanpy - INFO - Chain [1] done processing\n"
     ]
    },
    {
     "name": "stdout",
     "output_type": "stream",
     "text": [
      "It's overpredicted.\n",
      "Monthly Error: 44.76 Period MAE: 8.540000000000001\n"
     ]
    },
    {
     "name": "stderr",
     "output_type": "stream",
     "text": [
      "22:21:03 - cmdstanpy - INFO - Chain [1] start processing\n",
      "22:21:03 - cmdstanpy - INFO - Chain [1] done processing\n"
     ]
    },
    {
     "name": "stdout",
     "output_type": "stream",
     "text": [
      "It's underpredicted.\n",
      "Monthly Error: 76.44 "
     ]
    },
    {
     "name": "stderr",
     "output_type": "stream",
     "text": [
      "22:21:03 - cmdstanpy - INFO - Chain [1] start processing\n"
     ]
    },
    {
     "name": "stdout",
     "output_type": "stream",
     "text": [
      "Period MAE: 75.12\n",
      "It's overpredicted.\n",
      "Monthly Error: 45.62 Period MAE: 8.290000000000001\n"
     ]
    },
    {
     "name": "stderr",
     "output_type": "stream",
     "text": [
      "22:21:05 - cmdstanpy - INFO - Chain [1] done processing\n",
      "22:21:05 - cmdstanpy - INFO - Chain [1] start processing\n",
      "22:21:05 - cmdstanpy - INFO - Chain [1] start processing\n",
      "22:21:05 - cmdstanpy - INFO - Chain [1] done processing\n",
      "22:21:05 - cmdstanpy - INFO - Chain [1] done processing\n"
     ]
    },
    {
     "name": "stdout",
     "output_type": "stream",
     "text": [
      "It's underpredicted.\n",
      "Monthly Error: 75.66 Period MAE: It's underpredicted.74.28\n",
      "\n",
      "Monthly Error: 75.72 Period MAE: 74.4\n"
     ]
    },
    {
     "name": "stderr",
     "output_type": "stream",
     "text": [
      "22:21:06 - cmdstanpy - INFO - Chain [1] start processing\n"
     ]
    },
    {
     "name": "stdout",
     "output_type": "stream",
     "text": [
      "It's overpredicted."
     ]
    },
    {
     "name": "stderr",
     "output_type": "stream",
     "text": [
      "22:21:06 - cmdstanpy - INFO - Chain [1] done processing\n"
     ]
    },
    {
     "name": "stdout",
     "output_type": "stream",
     "text": [
      "\n",
      "Monthly Error: 46.25 Period MAE: 9.55\n"
     ]
    },
    {
     "name": "stderr",
     "output_type": "stream",
     "text": [
      "22:21:07 - cmdstanpy - INFO - Chain [1] start processing\n",
      "22:21:07 - cmdstanpy - INFO - Chain [1] done processing\n",
      "22:21:07 - cmdstanpy - INFO - Chain [1] start processing\n",
      "22:21:07 - cmdstanpy - INFO - Chain [1] done processing\n"
     ]
    },
    {
     "name": "stdout",
     "output_type": "stream",
     "text": [
      "It's overpredicted.\n",
      "Monthly Error: 46.02 Period MAE: 9.17\n",
      "It's underpredicted.\n",
      "Monthly Error: 76.28 Period MAE:It's overpredicted.\n",
      " Monthly Error:74.91\n",
      " 44.52 Period MAE: 7.31\n"
     ]
    },
    {
     "name": "stderr",
     "output_type": "stream",
     "text": [
      "22:21:09 - cmdstanpy - INFO - Chain [1] start processing\n",
      "22:21:09 - cmdstanpy - INFO - Chain [1] start processing\n",
      "22:21:09 - cmdstanpy - INFO - Chain [1] done processing\n",
      "22:21:09 - cmdstanpy - INFO - Chain [1] start processing\n",
      "22:21:10 - cmdstanpy - INFO - Chain [1] done processing\n"
     ]
    },
    {
     "name": "stdout",
     "output_type": "stream",
     "text": [
      "It's overpredicted.\n",
      "Monthly Error: 44.92 Period MAE:"
     ]
    },
    {
     "name": "stderr",
     "output_type": "stream",
     "text": [
      "22:21:10 - cmdstanpy - INFO - Chain [1] done processing\n"
     ]
    },
    {
     "name": "stdout",
     "output_type": "stream",
     "text": [
      " 8.35\n",
      "It's underpredicted.\n",
      "Monthly Error: 40.2 Period MAE: 40.33\n"
     ]
    },
    {
     "name": "stderr",
     "output_type": "stream",
     "text": [
      "22:21:10 - cmdstanpy - INFO - Chain [1] start processing\n",
      "22:21:10 - cmdstanpy - INFO - Chain [1] done processing\n",
      "22:21:11 - cmdstanpy - INFO - Chain [1] start processing\n",
      "22:21:11 - cmdstanpy - INFO - Chain [1] done processing\n"
     ]
    },
    {
     "name": "stdout",
     "output_type": "stream",
     "text": [
      "It's underpredicted.\n",
      "Monthly Error: 75.75 Period MAE: 74.37\n",
      "It's underpredicted.\n"
     ]
    },
    {
     "name": "stderr",
     "output_type": "stream",
     "text": [
      "22:21:12 - cmdstanpy - INFO - Chain [1] start processing\n"
     ]
    },
    {
     "name": "stdout",
     "output_type": "stream",
     "text": [
      "Monthly Error: 17.62It's overpredicted.\n",
      " Monthly Error:Period MAE: 44.97  Period MAE:9.82 \n",
      "8.27\n"
     ]
    },
    {
     "name": "stderr",
     "output_type": "stream",
     "text": [
      "22:21:13 - cmdstanpy - INFO - Chain [1] done processing\n"
     ]
    },
    {
     "name": "stdout",
     "output_type": "stream",
     "text": [
      "It's underpredicted.\n",
      "Monthly Error: 37.83 Period MAE: 37.55\n"
     ]
    },
    {
     "name": "stderr",
     "output_type": "stream",
     "text": [
      "22:21:13 - cmdstanpy - INFO - Chain [1] start processing\n",
      "22:21:13 - cmdstanpy - INFO - Chain [1] done processing\n",
      "22:21:14 - cmdstanpy - INFO - Chain [1] start processing\n",
      "22:21:14 - cmdstanpy - INFO - Chain [1] start processing\n",
      "22:21:14 - cmdstanpy - INFO - Chain [1] done processing\n",
      "22:21:14 - cmdstanpy - INFO - Chain [1] done processing\n"
     ]
    },
    {
     "name": "stdout",
     "output_type": "stream",
     "text": [
      "It's underpredicted.\n",
      "Monthly Error: 41.95 Period MAE: 42.34\n"
     ]
    },
    {
     "name": "stderr",
     "output_type": "stream",
     "text": [
      "22:21:15 - cmdstanpy - INFO - Chain [1] start processing\n",
      "22:21:15 - cmdstanpy - INFO - Chain [1] done processing\n"
     ]
    },
    {
     "name": "stdout",
     "output_type": "stream",
     "text": [
      "It's overpredicted.\n",
      "Monthly Error: 14.42 Period MAE: 2.12It's underpredicted.\n",
      "\n",
      "Monthly Error: 41.23 Period MAE: 42.02\n"
     ]
    },
    {
     "name": "stderr",
     "output_type": "stream",
     "text": [
      "22:21:16 - cmdstanpy - INFO - Chain [1] start processing\n",
      "22:21:16 - cmdstanpy - INFO - Chain [1] done processing\n",
      "22:21:16 - cmdstanpy - INFO - Chain [1] start processing\n",
      "22:21:16 - cmdstanpy - INFO - Chain [1] done processing\n"
     ]
    },
    {
     "name": "stdout",
     "output_type": "stream",
     "text": [
      "It's overpredicted.\n",
      "Monthly Error: 19.3 Period MAE: 7.249999999999999\n",
      "It's overpredicted.\n",
      "Monthly Error: It's underpredicted.17.38 Period MAE:\n",
      " Monthly Error:4.08 \n",
      "38.5 Period MAE: 38.23\n"
     ]
    },
    {
     "name": "stderr",
     "output_type": "stream",
     "text": [
      "22:21:18 - cmdstanpy - INFO - Chain [1] start processing\n",
      "22:21:18 - cmdstanpy - INFO - Chain [1] start processing\n",
      "22:21:18 - cmdstanpy - INFO - Chain [1] done processing\n",
      "22:21:18 - cmdstanpy - INFO - Chain [1] start processing\n",
      "22:21:18 - cmdstanpy - INFO - Chain [1] done processing\n",
      "22:21:18 - cmdstanpy - INFO - Chain [1] done processing\n"
     ]
    },
    {
     "name": "stdout",
     "output_type": "stream",
     "text": [
      "It's underpredicted.\n",
      "Monthly Error: 15.24 Period MAE: 4.26\n"
     ]
    },
    {
     "name": "stderr",
     "output_type": "stream",
     "text": [
      "22:21:19 - cmdstanpy - INFO - Chain [1] start processing\n"
     ]
    },
    {
     "name": "stdout",
     "output_type": "stream",
     "text": [
      "It's underpredicted.\n",
      "Monthly Error: 42.8 Period MAE: 43.35\n"
     ]
    },
    {
     "name": "stderr",
     "output_type": "stream",
     "text": [
      "22:21:19 - cmdstanpy - INFO - Chain [1] done processing\n",
      "22:21:20 - cmdstanpy - INFO - Chain [1] start processing\n"
     ]
    },
    {
     "name": "stdout",
     "output_type": "stream",
     "text": [
      "It's underpredicted.\n",
      "Monthly Error: 39.17 Period MAE: 39.67\n"
     ]
    },
    {
     "name": "stderr",
     "output_type": "stream",
     "text": [
      "22:21:20 - cmdstanpy - INFO - Chain [1] done processing\n"
     ]
    },
    {
     "name": "stdout",
     "output_type": "stream",
     "text": [
      "It's overpredicted.\n",
      "Monthly Error: 20.57 Period MAE: 1.53\n"
     ]
    },
    {
     "name": "stderr",
     "output_type": "stream",
     "text": [
      "22:21:21 - cmdstanpy - INFO - Chain [1] start processing\n",
      "22:21:21 - cmdstanpy - INFO - Chain [1] done processing\n",
      "22:21:21 - cmdstanpy - INFO - Chain [1] start processing\n"
     ]
    },
    {
     "name": "stdout",
     "output_type": "stream",
     "text": [
      "It's overpredicted.\n",
      "Monthly Error: 26.92 Period MAE: 22.36\n",
      "It's underpredicted.\n",
      "Monthly Error: 44.79 Period MAE: 45.46\n"
     ]
    },
    {
     "name": "stderr",
     "output_type": "stream",
     "text": [
      "22:21:22 - cmdstanpy - INFO - Chain [1] done processing\n",
      "22:21:22 - cmdstanpy - INFO - Chain [1] start processing\n",
      "22:21:22 - cmdstanpy - INFO - Chain [1] done processing\n",
      "22:21:22 - cmdstanpy - INFO - Chain [1] start processing\n",
      "22:21:23 - cmdstanpy - INFO - Chain [1] done processing\n"
     ]
    },
    {
     "name": "stdout",
     "output_type": "stream",
     "text": [
      "It's overpredicted.\n",
      "Monthly Error: 14.18 Period MAE: 4.52\n"
     ]
    },
    {
     "name": "stderr",
     "output_type": "stream",
     "text": [
      "22:21:23 - cmdstanpy - INFO - Chain [1] start processing\n"
     ]
    },
    {
     "name": "stdout",
     "output_type": "stream",
     "text": [
      "It's underpredicted.\n",
      "Monthly Error: 46.12 Period MAE: 46.17\n"
     ]
    },
    {
     "name": "stderr",
     "output_type": "stream",
     "text": [
      "22:21:23 - cmdstanpy - INFO - Chain [1] done processing\n",
      "22:21:24 - cmdstanpy - INFO - Chain [1] start processing\n"
     ]
    },
    {
     "name": "stdout",
     "output_type": "stream",
     "text": [
      "It's underpredicted.\n",
      "Monthly Error: 44.15 Period MAE: 45.23\n"
     ]
    },
    {
     "name": "stderr",
     "output_type": "stream",
     "text": [
      "22:21:24 - cmdstanpy - INFO - Chain [1] done processing\n",
      "22:21:24 - cmdstanpy - INFO - Chain [1] start processing\n",
      "22:21:24 - cmdstanpy - INFO - Chain [1] done processing\n"
     ]
    },
    {
     "name": "stdout",
     "output_type": "stream",
     "text": [
      "It's underpredicted.\n",
      "Monthly Error: 34.71 Period MAE: 33.54\n",
      "It's overpredicted.\n",
      "Monthly Error: 45.09 Period MAE: 9.92\n",
      "It's overpredicted.\n",
      "Monthly Error: 25.39 Period MAE: 11.940000000000001\n"
     ]
    },
    {
     "name": "stderr",
     "output_type": "stream",
     "text": [
      "22:21:26 - cmdstanpy - INFO - Chain [1] start processing\n",
      "22:21:26 - cmdstanpy - INFO - Chain [1] start processing\n",
      "22:21:26 - cmdstanpy - INFO - Chain [1] done processing\n"
     ]
    },
    {
     "name": "stdout",
     "output_type": "stream",
     "text": [
      "It's overpredicted.\n"
     ]
    },
    {
     "name": "stderr",
     "output_type": "stream",
     "text": [
      "22:21:27 - cmdstanpy - INFO - Chain [1] start processing\n",
      "22:21:27 - cmdstanpy - INFO - Chain [1] done processing\n"
     ]
    },
    {
     "name": "stdout",
     "output_type": "stream",
     "text": [
      "Monthly Error: 43.22 Period MAE: 5.01\n"
     ]
    },
    {
     "name": "stderr",
     "output_type": "stream",
     "text": [
      "22:21:27 - cmdstanpy - INFO - Chain [1] done processing\n",
      "22:21:27 - cmdstanpy - INFO - Chain [1] start processing\n",
      "22:21:27 - cmdstanpy - INFO - Chain [1] done processing\n"
     ]
    },
    {
     "name": "stdout",
     "output_type": "stream",
     "text": [
      "It's underpredicted.\n",
      "Monthly Error: 40.48 Period MAE: 40.1\n",
      "It's underpredicted.\n"
     ]
    },
    {
     "name": "stderr",
     "output_type": "stream",
     "text": [
      "22:21:28 - cmdstanpy - INFO - Chain [1] start processing\n"
     ]
    },
    {
     "name": "stdout",
     "output_type": "stream",
     "text": [
      "Monthly Error: 42.4 Period MAE: 42.95\n"
     ]
    },
    {
     "name": "stderr",
     "output_type": "stream",
     "text": [
      "22:21:28 - cmdstanpy - INFO - Chain [1] done processing\n",
      "22:21:29 - cmdstanpy - INFO - Chain [1] start processing\n",
      "22:21:29 - cmdstanpy - INFO - Chain [1] done processing\n"
     ]
    },
    {
     "name": "stdout",
     "output_type": "stream",
     "text": [
      "It's overpredicted.\n",
      "Monthly Error: 48.6 Period MAE: 6.9It's underpredicted.\n",
      "\n",
      "Monthly Error: 40.75 Period MAE: It's overpredicted.40.27\n",
      "Monthly Error:\n",
      "  47.77Period MAE: 3.93\n"
     ]
    },
    {
     "name": "stderr",
     "output_type": "stream",
     "text": [
      "22:21:30 - cmdstanpy - INFO - Chain [1] start processing\n",
      "22:21:31 - cmdstanpy - INFO - Chain [1] done processing\n",
      "22:21:31 - cmdstanpy - INFO - Chain [1] start processing\n",
      "22:21:31 - cmdstanpy - INFO - Chain [1] start processing\n",
      "22:21:31 - cmdstanpy - INFO - Chain [1] done processing\n",
      "22:21:31 - cmdstanpy - INFO - Chain [1] done processing\n"
     ]
    },
    {
     "name": "stdout",
     "output_type": "stream",
     "text": [
      "It's underpredicted.\n",
      "Monthly Error: 43.38 Period MAE:It's underpredicted. \n",
      "Monthly Error:43.29 \n",
      "43.22 Period MAE: 6.25\n"
     ]
    },
    {
     "name": "stderr",
     "output_type": "stream",
     "text": [
      "22:21:32 - cmdstanpy - INFO - Chain [1] start processing\n",
      "22:21:32 - cmdstanpy - INFO - Chain [1] start processing\n",
      "22:21:33 - cmdstanpy - INFO - Chain [1] done processing\n",
      "22:21:33 - cmdstanpy - INFO - Chain [1] done processing\n"
     ]
    },
    {
     "name": "stdout",
     "output_type": "stream",
     "text": [
      "It's underpredicted.\n",
      "Monthly Error: 41.73 Period MAE: 42.1\n",
      "It's underpredicted.\n",
      "Monthly Error: 43.83"
     ]
    },
    {
     "name": "stderr",
     "output_type": "stream",
     "text": [
      "22:21:34 - cmdstanpy - INFO - Chain [1] start processing\n"
     ]
    },
    {
     "name": "stdout",
     "output_type": "stream",
     "text": [
      " Period MAE: 43.61\n",
      "It's underpredicted.\n",
      "Monthly Error: 49.93 Period MAE: 1.01\n"
     ]
    },
    {
     "name": "stderr",
     "output_type": "stream",
     "text": [
      "22:21:34 - cmdstanpy - INFO - Chain [1] done processing\n",
      "22:21:35 - cmdstanpy - INFO - Chain [1] start processing\n",
      "22:21:35 - cmdstanpy - INFO - Chain [1] start processing\n",
      "22:21:35 - cmdstanpy - INFO - Chain [1] done processing\n",
      "22:21:36 - cmdstanpy - INFO - Chain [1] done processing\n"
     ]
    },
    {
     "name": "stdout",
     "output_type": "stream",
     "text": [
      "It's overpredicted.\n",
      "Monthly Error: 44.46 Period MAE: 6.660000000000001\n"
     ]
    },
    {
     "name": "stderr",
     "output_type": "stream",
     "text": [
      "22:21:36 - cmdstanpy - INFO - Chain [1] start processing\n",
      "22:21:36 - cmdstanpy - INFO - Chain [1] done processing\n"
     ]
    },
    {
     "name": "stdout",
     "output_type": "stream",
     "text": [
      "It's overpredicted.\n",
      "Monthly Error: 43.18It's underpredicted. \n",
      "Period MAE: Monthly Error:1.9900000000000002 \n",
      "52.02 Period MAE: 52.849999999999994\n",
      "It's underpredicted.\n"
     ]
    },
    {
     "name": "stderr",
     "output_type": "stream",
     "text": [
      "22:21:37 - cmdstanpy - INFO - Chain [1] start processing\n"
     ]
    },
    {
     "name": "stdout",
     "output_type": "stream",
     "text": [
      "Monthly Error: 44.6 Period MAE: "
     ]
    },
    {
     "name": "stderr",
     "output_type": "stream",
     "text": [
      "22:21:37 - cmdstanpy - INFO - Chain [1] done processing\n"
     ]
    },
    {
     "name": "stdout",
     "output_type": "stream",
     "text": [
      "45.2\n"
     ]
    },
    {
     "name": "stderr",
     "output_type": "stream",
     "text": [
      "22:21:38 - cmdstanpy - INFO - Chain [1] start processing\n",
      "22:21:38 - cmdstanpy - INFO - Chain [1] done processing\n",
      "22:21:38 - cmdstanpy - INFO - Chain [1] start processing\n"
     ]
    },
    {
     "name": "stdout",
     "output_type": "stream",
     "text": [
      "It's overpredicted.\n",
      "Monthly Error:"
     ]
    },
    {
     "name": "stderr",
     "output_type": "stream",
     "text": [
      "22:21:38 - cmdstanpy - INFO - Chain [1] done processing\n"
     ]
    },
    {
     "name": "stdout",
     "output_type": "stream",
     "text": [
      " 49.28 Period MAE: 4.51\n"
     ]
    },
    {
     "name": "stderr",
     "output_type": "stream",
     "text": [
      "22:21:39 - cmdstanpy - INFO - Chain [1] start processing\n"
     ]
    },
    {
     "name": "stdout",
     "output_type": "stream",
     "text": [
      "It's underpredicted.\n",
      "Monthly Error: 52.93 Period MAE: 53.66\n"
     ]
    },
    {
     "name": "stderr",
     "output_type": "stream",
     "text": [
      "22:21:40 - cmdstanpy - INFO - Chain [1] done processing\n"
     ]
    },
    {
     "name": "stdout",
     "output_type": "stream",
     "text": [
      "It's underpredicted.\n",
      "Monthly Error: 22.59 Period MAE: 15.68\n",
      "It's underpredicted.\n",
      "Monthly Error: 23.19 Period MAE: 16.41\n"
     ]
    },
    {
     "name": "stderr",
     "output_type": "stream",
     "text": [
      "22:21:40 - cmdstanpy - INFO - Chain [1] start processing\n",
      "22:21:40 - cmdstanpy - INFO - Chain [1] start processing\n",
      "22:21:40 - cmdstanpy - INFO - Chain [1] done processing\n",
      "22:21:40 - cmdstanpy - INFO - Chain [1] start processing\n",
      "22:21:41 - cmdstanpy - INFO - Chain [1] done processing\n",
      "22:21:41 - cmdstanpy - INFO - Chain [1] done processing\n"
     ]
    },
    {
     "name": "stdout",
     "output_type": "stream",
     "text": [
      "It's underpredicted.\n",
      "Monthly Error: 52.0It's underpredicted. Period MAE:\n",
      " Monthly Error:52.839999999999996 49.76 Period MAE:\n",
      " 50.79\n"
     ]
    },
    {
     "name": "stderr",
     "output_type": "stream",
     "text": [
      "22:21:42 - cmdstanpy - INFO - Chain [1] start processing\n",
      "22:21:42 - cmdstanpy - INFO - Chain [1] start processing\n",
      "22:21:42 - cmdstanpy - INFO - Chain [1] done processing\n",
      "22:21:42 - cmdstanpy - INFO - Chain [1] done processing\n"
     ]
    },
    {
     "name": "stdout",
     "output_type": "stream",
     "text": [
      "It's overpredicted.\n",
      "Monthly Error: 15.19 Period MAE: 5.01\n",
      "It's underpredicted.\n",
      "Monthly Error: 23.46 Period MAE:It's underpredicted.\n",
      "Monthly Error:  16.77\n",
      "60.89"
     ]
    },
    {
     "name": "stderr",
     "output_type": "stream",
     "text": [
      "22:21:44 - cmdstanpy - INFO - Chain [1] start processing\n"
     ]
    },
    {
     "name": "stdout",
     "output_type": "stream",
     "text": [
      " Period MAE: 60.79\n"
     ]
    },
    {
     "name": "stderr",
     "output_type": "stream",
     "text": [
      "22:21:44 - cmdstanpy - INFO - Chain [1] start processing\n",
      "22:21:44 - cmdstanpy - INFO - Chain [1] done processing\n",
      "22:21:44 - cmdstanpy - INFO - Chain [1] done processing\n",
      "22:21:45 - cmdstanpy - INFO - Chain [1] start processing\n"
     ]
    },
    {
     "name": "stdout",
     "output_type": "stream",
     "text": [
      "It's overpredicted.\n",
      "Monthly Error: 16.73 Period MAE: 8.23\n"
     ]
    },
    {
     "name": "stderr",
     "output_type": "stream",
     "text": [
      "22:21:45 - cmdstanpy - INFO - Chain [1] done processing\n",
      "22:21:45 - cmdstanpy - INFO - Chain [1] start processing\n",
      "22:21:45 - cmdstanpy - INFO - Chain [1] done processing\n"
     ]
    },
    {
     "name": "stdout",
     "output_type": "stream",
     "text": [
      "It's underpredicted.\n",
      "Monthly Error: 49.97 Period MAE: 50.980000000000004\n",
      "It's underpredicted.\n",
      "Monthly Error: 47.92 Period MAE:"
     ]
    },
    {
     "name": "stderr",
     "output_type": "stream",
     "text": [
      "22:21:46 - cmdstanpy - INFO - Chain [1] start processing\n"
     ]
    },
    {
     "name": "stdout",
     "output_type": "stream",
     "text": [
      " 48.83\n"
     ]
    },
    {
     "name": "stderr",
     "output_type": "stream",
     "text": [
      "22:21:47 - cmdstanpy - INFO - Chain [1] done processing\n",
      "22:21:47 - cmdstanpy - INFO - Chain [1] start processing\n",
      "22:21:47 - cmdstanpy - INFO - Chain [1] done processing\n"
     ]
    },
    {
     "name": "stdout",
     "output_type": "stream",
     "text": [
      "It's underpredicted.\n",
      "Monthly Error: 61.46 Period MAE: 61.3\n",
      "It's overpredicted.\n",
      "It's overpredicted.Monthly Error: 15.6 \n",
      "Period MAE: Monthly Error:6.15 \n",
      "21.62 Period MAE: 15.260000000000002\n"
     ]
    },
    {
     "name": "stderr",
     "output_type": "stream",
     "text": [
      "22:21:48 - cmdstanpy - INFO - Chain [1] start processing\n",
      "22:21:48 - cmdstanpy - INFO - Chain [1] done processing\n",
      "22:21:49 - cmdstanpy - INFO - Chain [1] start processing\n",
      "22:21:49 - cmdstanpy - INFO - Chain [1] start processing\n",
      "22:21:49 - cmdstanpy - INFO - Chain [1] done processing\n"
     ]
    },
    {
     "name": "stdout",
     "output_type": "stream",
     "text": [
      "It's overpredicted.\n",
      "Monthly Error: "
     ]
    },
    {
     "name": "stderr",
     "output_type": "stream",
     "text": [
      "22:21:49 - cmdstanpy - INFO - Chain [1] done processing\n"
     ]
    },
    {
     "name": "stdout",
     "output_type": "stream",
     "text": [
      "16.41It's underpredicted. \n",
      "Period MAE:Monthly Error:  49.413.0\n",
      " Period MAE: 49.84\n"
     ]
    },
    {
     "name": "stderr",
     "output_type": "stream",
     "text": [
      "22:21:50 - cmdstanpy - INFO - Chain [1] start processing\n",
      "22:21:50 - cmdstanpy - INFO - Chain [1] done processing\n",
      "22:21:50 - cmdstanpy - INFO - Chain [1] start processing\n",
      "22:21:50 - cmdstanpy - INFO - Chain [1] done processing\n"
     ]
    },
    {
     "name": "stdout",
     "output_type": "stream",
     "text": [
      "It's underpredicted.\n",
      "Monthly Error: 51.26 Period MAE: 52.190000000000005\n"
     ]
    },
    {
     "name": "stderr",
     "output_type": "stream",
     "text": [
      "22:21:51 - cmdstanpy - INFO - Chain [1] start processing\n",
      "22:21:51 - cmdstanpy - INFO - Chain [1] done processing\n"
     ]
    },
    {
     "name": "stdout",
     "output_type": "stream",
     "text": [
      "It's underpredicted.\n",
      "Monthly Error: 62.48 Period MAE: 62.06\n",
      "It's overpredicted.\n",
      "Monthly Error: 22.39 Period MAE: 11.23\n",
      "It's underpredicted.\n",
      "Monthly Error: 40.99 Period MAE: 0.61\n"
     ]
    },
    {
     "name": "stderr",
     "output_type": "stream",
     "text": [
      "22:21:52 - cmdstanpy - INFO - Chain [1] start processing\n",
      "22:21:52 - cmdstanpy - INFO - Chain [1] start processing\n",
      "22:21:53 - cmdstanpy - INFO - Chain [1] done processing\n",
      "22:21:53 - cmdstanpy - INFO - Chain [1] done processing\n",
      "22:21:53 - cmdstanpy - INFO - Chain [1] start processing\n",
      "22:21:53 - cmdstanpy - INFO - Chain [1] done processing\n"
     ]
    },
    {
     "name": "stdout",
     "output_type": "stream",
     "text": [
      "It's underpredicted.\n",
      "Monthly Error: 47.64 Period MAE: 47.88\n",
      "It's underpredicted.\n",
      "Monthly Error: 39.4 "
     ]
    },
    {
     "name": "stderr",
     "output_type": "stream",
     "text": [
      "22:21:54 - cmdstanpy - INFO - Chain [1] start processing\n"
     ]
    },
    {
     "name": "stdout",
     "output_type": "stream",
     "text": [
      "Period MAE: 5.43\n",
      "It's underpredicted.\n",
      "Monthly Error: 54.58"
     ]
    },
    {
     "name": "stderr",
     "output_type": "stream",
     "text": [
      "22:21:54 - cmdstanpy - INFO - Chain [1] done processing\n"
     ]
    },
    {
     "name": "stdout",
     "output_type": "stream",
     "text": [
      " Period MAE: 55.04\n"
     ]
    },
    {
     "name": "stderr",
     "output_type": "stream",
     "text": [
      "22:21:55 - cmdstanpy - INFO - Chain [1] start processing\n",
      "22:21:55 - cmdstanpy - INFO - Chain [1] start processing\n",
      "22:21:55 - cmdstanpy - INFO - Chain [1] done processing\n",
      "22:21:55 - cmdstanpy - INFO - Chain [1] done processing\n"
     ]
    },
    {
     "name": "stdout",
     "output_type": "stream",
     "text": [
      "It's underpredicted.\n",
      "Monthly Error: 39.3 Period MAE: 5.7299999999999995\n",
      "It's underpredicted.\n",
      "Monthly Error: 72.75It's underpredicted. Period MAE:\n",
      " Monthly Error:71.53 \n",
      "39.98 Period MAE: 6.21\n"
     ]
    },
    {
     "name": "stderr",
     "output_type": "stream",
     "text": [
      "22:21:57 - cmdstanpy - INFO - Chain [1] start processing\n",
      "22:21:57 - cmdstanpy - INFO - Chain [1] done processing\n",
      "22:21:57 - cmdstanpy - INFO - Chain [1] start processing\n",
      "22:21:57 - cmdstanpy - INFO - Chain [1] start processing\n",
      "22:21:58 - cmdstanpy - INFO - Chain [1] done processing\n",
      "22:21:58 - cmdstanpy - INFO - Chain [1] done processing\n"
     ]
    },
    {
     "name": "stdout",
     "output_type": "stream",
     "text": [
      "It's underpredicted.\n",
      "Monthly Error: 40.16 Period MAE: 5.87\n"
     ]
    },
    {
     "name": "stderr",
     "output_type": "stream",
     "text": [
      "22:21:58 - cmdstanpy - INFO - Chain [1] start processing\n",
      "22:21:59 - cmdstanpy - INFO - Chain [1] done processing\n"
     ]
    },
    {
     "name": "stdout",
     "output_type": "stream",
     "text": [
      "It's underpredicted.\n",
      "Monthly Error: 45.38 Period MAE: 45.410000000000004\n"
     ]
    },
    {
     "name": "stderr",
     "output_type": "stream",
     "text": [
      "22:21:59 - cmdstanpy - INFO - Chain [1] start processing\n",
      "22:22:00 - cmdstanpy - INFO - Chain [1] done processing\n"
     ]
    },
    {
     "name": "stdout",
     "output_type": "stream",
     "text": [
      "It's underpredicted.\n",
      "Monthly Error: 51.76 Period MAE: 52.26\n"
     ]
    },
    {
     "name": "stderr",
     "output_type": "stream",
     "text": [
      "22:22:01 - cmdstanpy - INFO - Chain [1] start processing\n",
      "22:22:01 - cmdstanpy - INFO - Chain [1] done processing\n"
     ]
    },
    {
     "name": "stdout",
     "output_type": "stream",
     "text": [
      "It's underpredicted.\n",
      "Monthly Error: 41.0 Period MAE:It's underpredicted.It's overpredicted. \n",
      "3.34\n",
      "\n",
      "Monthly Error:Monthly Error:  52.45 44.02 Period MAE: Period MAE:53.06999999999999 1.7500000000000002\n",
      "\n"
     ]
    },
    {
     "name": "stderr",
     "output_type": "stream",
     "text": [
      "22:22:01 - cmdstanpy - INFO - Chain [1] start processing\n",
      "22:22:01 - cmdstanpy - INFO - Chain [1] done processing\n",
      "22:22:02 - cmdstanpy - INFO - Chain [1] start processing\n",
      "22:22:02 - cmdstanpy - INFO - Chain [1] start processing\n"
     ]
    },
    {
     "name": "stdout",
     "output_type": "stream",
     "text": [
      "It's underpredicted."
     ]
    },
    {
     "name": "stderr",
     "output_type": "stream",
     "text": [
      "22:22:03 - cmdstanpy - INFO - Chain [1] done processing\n"
     ]
    },
    {
     "name": "stdout",
     "output_type": "stream",
     "text": [
      "\n",
      "Monthly Error: 40.12 Period MAE: 40.23\n"
     ]
    },
    {
     "name": "stderr",
     "output_type": "stream",
     "text": [
      "22:22:03 - cmdstanpy - INFO - Chain [1] done processing\n",
      "22:22:03 - cmdstanpy - INFO - Chain [1] start processing\n"
     ]
    },
    {
     "name": "stdout",
     "output_type": "stream",
     "text": [
      "It's overpredicted.\n",
      "Monthly Error: 44.02 "
     ]
    },
    {
     "name": "stderr",
     "output_type": "stream",
     "text": [
      "22:22:03 - cmdstanpy - INFO - Chain [1] done processing\n"
     ]
    },
    {
     "name": "stdout",
     "output_type": "stream",
     "text": [
      "Period MAE: 1.66\n"
     ]
    },
    {
     "name": "stderr",
     "output_type": "stream",
     "text": [
      "22:22:04 - cmdstanpy - INFO - Chain [1] start processing\n",
      "22:22:05 - cmdstanpy - INFO - Chain [1] done processing\n"
     ]
    },
    {
     "name": "stdout",
     "output_type": "stream",
     "text": [
      "It's underpredicted.\n",
      "Monthly Error: 51.58 Period MAE: 52.01\n",
      "It's underpredicted.\n",
      "Monthly Error: 17.57 Period MAE: 9.77\n",
      "It's overpredicted.\n",
      "Monthly Error: 44.25 Period MAE: 1.6199999999999999\n",
      "It's underpredicted."
     ]
    },
    {
     "name": "stderr",
     "output_type": "stream",
     "text": [
      "22:22:06 - cmdstanpy - INFO - Chain [1] start processing\n"
     ]
    },
    {
     "name": "stdout",
     "output_type": "stream",
     "text": [
      "\n",
      "Monthly Error: 37.78 Period MAE: 37.46\n"
     ]
    },
    {
     "name": "stderr",
     "output_type": "stream",
     "text": [
      "22:22:06 - cmdstanpy - INFO - Chain [1] done processing\n",
      "22:22:06 - cmdstanpy - INFO - Chain [1] start processing\n",
      "22:22:07 - cmdstanpy - INFO - Chain [1] start processing\n",
      "22:22:07 - cmdstanpy - INFO - Chain [1] done processing\n",
      "22:22:07 - cmdstanpy - INFO - Chain [1] start processing\n",
      "22:22:07 - cmdstanpy - INFO - Chain [1] done processing\n"
     ]
    },
    {
     "name": "stdout",
     "output_type": "stream",
     "text": [
      "It's underpredicted.\n",
      "Monthly Error: 40.07 Period MAE: 40.1\n"
     ]
    },
    {
     "name": "stderr",
     "output_type": "stream",
     "text": [
      "22:22:08 - cmdstanpy - INFO - Chain [1] done processing\n",
      "22:22:08 - cmdstanpy - INFO - Chain [1] start processing\n",
      "22:22:08 - cmdstanpy - INFO - Chain [1] done processing\n"
     ]
    },
    {
     "name": "stdout",
     "output_type": "stream",
     "text": [
      "It's overpredicted.\n",
      "Monthly Error: 14.43 Period MAE: 2.1\n"
     ]
    },
    {
     "name": "stderr",
     "output_type": "stream",
     "text": [
      "22:22:09 - cmdstanpy - INFO - Chain [1] start processing\n"
     ]
    },
    {
     "name": "stdout",
     "output_type": "stream",
     "text": [
      "It's underpredicted.\n",
      "Monthly Error: 40.48 Period MAE: 41.18\n"
     ]
    },
    {
     "name": "stderr",
     "output_type": "stream",
     "text": [
      "22:22:10 - cmdstanpy - INFO - Chain [1] done processing\n"
     ]
    },
    {
     "name": "stdout",
     "output_type": "stream",
     "text": [
      "It's overpredicted.\n",
      "Monthly Error: 18.4 Period MAE: 6.08\n"
     ]
    },
    {
     "name": "stderr",
     "output_type": "stream",
     "text": [
      "22:22:10 - cmdstanpy - INFO - Chain [1] start processing\n",
      "22:22:10 - cmdstanpy - INFO - Chain [1] done processing\n"
     ]
    },
    {
     "name": "stdout",
     "output_type": "stream",
     "text": [
      "It's overpredicted.\n",
      "Monthly Error: 17.16 Period MAE: 3.9\n",
      "It's underpredicted.\n",
      "Monthly Error: 37.24"
     ]
    },
    {
     "name": "stderr",
     "output_type": "stream",
     "text": [
      "22:22:11 - cmdstanpy - INFO - Chain [1] start processing\n"
     ]
    },
    {
     "name": "stdout",
     "output_type": "stream",
     "text": [
      " Period MAE: 36.8\n"
     ]
    },
    {
     "name": "stderr",
     "output_type": "stream",
     "text": [
      "22:22:12 - cmdstanpy - INFO - Chain [1] start processing\n",
      "22:22:12 - cmdstanpy - INFO - Chain [1] start processing\n",
      "22:22:12 - cmdstanpy - INFO - Chain [1] done processing\n",
      "22:22:12 - cmdstanpy - INFO - Chain [1] done processing\n",
      "22:22:12 - cmdstanpy - INFO - Chain [1] done processing\n"
     ]
    },
    {
     "name": "stdout",
     "output_type": "stream",
     "text": [
      "It's underpredicted.\n",
      "Monthly Error: 41.91 Period MAE: 42.230000000000004\n",
      "It's underpredicted.\n"
     ]
    },
    {
     "name": "stderr",
     "output_type": "stream",
     "text": [
      "22:22:14 - cmdstanpy - INFO - Chain [1] start processing\n"
     ]
    },
    {
     "name": "stdout",
     "output_type": "stream",
     "text": [
      "Monthly Error: 39.09 It's underpredicted.Period MAE:\n",
      "Monthly Error:  15.539.57"
     ]
    },
    {
     "name": "stderr",
     "output_type": "stream",
     "text": [
      "22:22:14 - cmdstanpy - INFO - Chain [1] done processing\n"
     ]
    },
    {
     "name": "stdout",
     "output_type": "stream",
     "text": [
      "\n",
      " 3.32Period MAE: \n"
     ]
    },
    {
     "name": "stderr",
     "output_type": "stream",
     "text": [
      "22:22:14 - cmdstanpy - INFO - Chain [1] start processing\n",
      "22:22:14 - cmdstanpy - INFO - Chain [1] start processing\n",
      "22:22:14 - cmdstanpy - INFO - Chain [1] done processing\n",
      "22:22:14 - cmdstanpy - INFO - Chain [1] done processing\n"
     ]
    },
    {
     "name": "stdout",
     "output_type": "stream",
     "text": [
      "It's overpredicted.\n",
      "Monthly Error: 20.47 Period MAE: 1.29\n"
     ]
    },
    {
     "name": "stderr",
     "output_type": "stream",
     "text": [
      "22:22:16 - cmdstanpy - INFO - Chain [1] start processing\n"
     ]
    },
    {
     "name": "stdout",
     "output_type": "stream",
     "text": [
      "It's underpredicted.\n",
      "Monthly Error: 40.99 Period MAE: 41.13\n"
     ]
    },
    {
     "name": "stderr",
     "output_type": "stream",
     "text": [
      "22:22:16 - cmdstanpy - INFO - Chain [1] done processing\n"
     ]
    },
    {
     "name": "stdout",
     "output_type": "stream",
     "text": [
      "It's overpredicted.\n",
      "Monthly Error: 25.84 Period MAE: 21.42\n"
     ]
    },
    {
     "name": "stderr",
     "output_type": "stream",
     "text": [
      "22:22:17 - cmdstanpy - INFO - Chain [1] start processing\n",
      "22:22:17 - cmdstanpy - INFO - Chain [1] start processing\n"
     ]
    },
    {
     "name": "stdout",
     "output_type": "stream",
     "text": [
      "It's overpredicted.\n",
      "Monthly Error: 13.9 Period MAE: "
     ]
    },
    {
     "name": "stderr",
     "output_type": "stream",
     "text": [
      "22:22:17 - cmdstanpy - INFO - Chain [1] done processing\n"
     ]
    },
    {
     "name": "stdout",
     "output_type": "stream",
     "text": [
      "5.35\n"
     ]
    },
    {
     "name": "stderr",
     "output_type": "stream",
     "text": [
      "22:22:17 - cmdstanpy - INFO - Chain [1] done processing\n",
      "22:22:18 - cmdstanpy - INFO - Chain [1] start processing\n",
      "22:22:18 - cmdstanpy - INFO - Chain [1] done processing\n"
     ]
    },
    {
     "name": "stdout",
     "output_type": "stream",
     "text": [
      "It's underpredicted.\n",
      "Monthly Error:It's underpredicted. \n",
      "48.1 Monthly Error:Period MAE:  45.5648.28 Period MAE:\n",
      " 46.81\n"
     ]
    },
    {
     "name": "stderr",
     "output_type": "stream",
     "text": [
      "22:22:19 - cmdstanpy - INFO - Chain [1] start processing\n",
      "22:22:19 - cmdstanpy - INFO - Chain [1] start processing\n",
      "22:22:19 - cmdstanpy - INFO - Chain [1] done processing\n",
      "22:22:19 - cmdstanpy - INFO - Chain [1] done processing\n"
     ]
    },
    {
     "name": "stdout",
     "output_type": "stream",
     "text": [
      "It's overpredicted.\n",
      "Monthly Error: 45.99 Period MAE: 11.74\n",
      "It's underpredicted."
     ]
    },
    {
     "name": "stderr",
     "output_type": "stream",
     "text": [
      "22:22:20 - cmdstanpy - INFO - Chain [1] start processing\n"
     ]
    },
    {
     "name": "stdout",
     "output_type": "stream",
     "text": [
      "\n",
      "Monthly Error: 38.62 Period MAE: 37.940000000000005\n",
      "It's overpredicted.\n",
      "Monthly Error: 23.85 Period MAE: 10.47\n"
     ]
    },
    {
     "name": "stderr",
     "output_type": "stream",
     "text": [
      "22:22:21 - cmdstanpy - INFO - Chain [1] done processing\n",
      "22:22:21 - cmdstanpy - INFO - Chain [1] start processing\n",
      "22:22:21 - cmdstanpy - INFO - Chain [1] done processing\n",
      "22:22:21 - cmdstanpy - INFO - Chain [1] start processing\n",
      "22:22:22 - cmdstanpy - INFO - Chain [1] done processing\n"
     ]
    },
    {
     "name": "stdout",
     "output_type": "stream",
     "text": [
      "It's underpredicted.\n",
      "Monthly Error: 38.48It's overpredicted.\n",
      " Monthly Error:Period MAE: 42.77  38.45Period MAE:\n",
      " 3.7600000000000002\n",
      "It's underpredicted.\n",
      "Monthly Error: 46.03"
     ]
    },
    {
     "name": "stderr",
     "output_type": "stream",
     "text": [
      "22:22:22 - cmdstanpy - INFO - Chain [1] start processing\n"
     ]
    },
    {
     "name": "stdout",
     "output_type": "stream",
     "text": [
      " Period MAE: 46.04\n"
     ]
    },
    {
     "name": "stderr",
     "output_type": "stream",
     "text": [
      "22:22:22 - cmdstanpy - INFO - Chain [1] done processing\n",
      "22:22:23 - cmdstanpy - INFO - Chain [1] start processing\n",
      "22:22:23 - cmdstanpy - INFO - Chain [1] done processing\n",
      "22:22:23 - cmdstanpy - INFO - Chain [1] start processing\n",
      "22:22:23 - cmdstanpy - INFO - Chain [1] done processing\n"
     ]
    },
    {
     "name": "stdout",
     "output_type": "stream",
     "text": [
      "It's underpredicted.\n",
      "Monthly Error: 40.22It's overpredicted. Period MAE:\n",
      " 39.67Monthly Error:\n",
      " 48.18 Period MAE: 6.279999999999999\n",
      "It's overpredicted.\n",
      "Monthly Error: 48.48 Period MAE: 7.21\n"
     ]
    },
    {
     "name": "stderr",
     "output_type": "stream",
     "text": [
      "22:22:25 - cmdstanpy - INFO - Chain [1] start processing\n",
      "22:22:25 - cmdstanpy - INFO - Chain [1] start processing\n",
      "22:22:25 - cmdstanpy - INFO - Chain [1] done processing\n",
      "22:22:25 - cmdstanpy - INFO - Chain [1] start processing\n",
      "22:22:26 - cmdstanpy - INFO - Chain [1] done processing\n",
      "22:22:26 - cmdstanpy - INFO - Chain [1] done processing\n"
     ]
    },
    {
     "name": "stdout",
     "output_type": "stream",
     "text": [
      "It's underpredicted.\n",
      "Monthly Error: 42.98 Period MAE: 6.859999999999999\n"
     ]
    },
    {
     "name": "stderr",
     "output_type": "stream",
     "text": [
      "22:22:26 - cmdstanpy - INFO - Chain [1] start processing\n",
      "22:22:27 - cmdstanpy - INFO - Chain [1] done processing\n"
     ]
    },
    {
     "name": "stdout",
     "output_type": "stream",
     "text": [
      "It's underpredicted.\n",
      "Monthly Error: 44.68 Period MAE: 44.690000000000005\n"
     ]
    },
    {
     "name": "stderr",
     "output_type": "stream",
     "text": [
      "22:22:27 - cmdstanpy - INFO - Chain [1] start processing\n"
     ]
    },
    {
     "name": "stdout",
     "output_type": "stream",
     "text": [
      "It's underpredicted.\n",
      "Monthly Error: 40.7 Period MAE: 40.86\n"
     ]
    },
    {
     "name": "stderr",
     "output_type": "stream",
     "text": [
      "22:22:28 - cmdstanpy - INFO - Chain [1] done processing\n"
     ]
    },
    {
     "name": "stdout",
     "output_type": "stream",
     "text": [
      "It's underpredicted.\n",
      "Monthly Error: 49.97 Period MAE: 0.91\n"
     ]
    },
    {
     "name": "stderr",
     "output_type": "stream",
     "text": [
      "22:22:28 - cmdstanpy - INFO - Chain [1] start processing\n",
      "22:22:28 - cmdstanpy - INFO - Chain [1] done processing\n"
     ]
    },
    {
     "name": "stdout",
     "output_type": "stream",
     "text": [
      "It's overpredicted.\n",
      "Monthly Error: 44.52 Period MAE: 6.7\n"
     ]
    },
    {
     "name": "stderr",
     "output_type": "stream",
     "text": [
      "22:22:29 - cmdstanpy - INFO - Chain [1] start processing\n"
     ]
    },
    {
     "name": "stdout",
     "output_type": "stream",
     "text": [
      "It's underpredicted.\n",
      "Monthly Error: 42.56 Period MAE: 42.18\n"
     ]
    },
    {
     "name": "stderr",
     "output_type": "stream",
     "text": [
      "22:22:30 - cmdstanpy - INFO - Chain [1] done processing\n",
      "22:22:30 - cmdstanpy - INFO - Chain [1] start processing\n",
      "22:22:30 - cmdstanpy - INFO - Chain [1] start processing\n",
      "22:22:30 - cmdstanpy - INFO - Chain [1] done processing\n",
      "22:22:30 - cmdstanpy - INFO - Chain [1] done processing\n"
     ]
    },
    {
     "name": "stdout",
     "output_type": "stream",
     "text": [
      "It's underpredicted.\n",
      "Monthly Error: 47.33 Period MAE: 48.18\n",
      "It's underpredicted.\n",
      "Monthly Error: "
     ]
    },
    {
     "name": "stderr",
     "output_type": "stream",
     "text": [
      "22:22:31 - cmdstanpy - INFO - Chain [1] start processing\n"
     ]
    },
    {
     "name": "stdout",
     "output_type": "stream",
     "text": [
      "44.02 Period MAE: It's overpredicted.44.64\n",
      "\n",
      "Monthly Error: 43.58 Period MAE: 2.93\n"
     ]
    },
    {
     "name": "stderr",
     "output_type": "stream",
     "text": [
      "22:22:32 - cmdstanpy - INFO - Chain [1] done processing\n",
      "22:22:32 - cmdstanpy - INFO - Chain [1] start processing\n",
      "22:22:32 - cmdstanpy - INFO - Chain [1] start processing\n",
      "22:22:32 - cmdstanpy - INFO - Chain [1] done processing\n",
      "22:22:32 - cmdstanpy - INFO - Chain [1] done processing\n"
     ]
    },
    {
     "name": "stdout",
     "output_type": "stream",
     "text": [
      "It's overpredicted.\n",
      "Monthly Error: 48.2 Period MAE: 3.0700000000000003\n",
      "It's underpredicted.\n",
      "Monthly Error: 54.18 Period MAE: 54.800000000000004\n"
     ]
    },
    {
     "name": "stderr",
     "output_type": "stream",
     "text": [
      "22:22:34 - cmdstanpy - INFO - Chain [1] start processing\n"
     ]
    },
    {
     "name": "stdout",
     "output_type": "stream",
     "text": [
      "It's underpredicted.\n",
      "It's underpredicted.Monthly Error:\n",
      "Monthly Error: 20.61 Period MAE:  23.33 Period MAE: 13.350000000000001\n",
      "16.66\n"
     ]
    },
    {
     "name": "stderr",
     "output_type": "stream",
     "text": [
      "22:22:35 - cmdstanpy - INFO - Chain [1] start processing\n",
      "22:22:35 - cmdstanpy - INFO - Chain [1] start processing\n",
      "22:22:35 - cmdstanpy - INFO - Chain [1] done processing\n",
      "22:22:35 - cmdstanpy - INFO - Chain [1] start processing\n",
      "22:22:35 - cmdstanpy - INFO - Chain [1] done processing\n",
      "22:22:35 - cmdstanpy - INFO - Chain [1] done processing\n",
      "22:22:35 - cmdstanpy - INFO - Chain [1] done processing\n"
     ]
    },
    {
     "name": "stdout",
     "output_type": "stream",
     "text": [
      "It's underpredicted.\n",
      "Monthly Error: 49.64 Period MAE: 50.68\n",
      "It's underpredicted.\n",
      "Monthly Error: 49.98 Period MAE: 51.0\n"
     ]
    },
    {
     "name": "stderr",
     "output_type": "stream",
     "text": [
      "22:22:38 - cmdstanpy - INFO - Chain [1] start processing\n",
      "22:22:38 - cmdstanpy - INFO - Chain [1] start processing\n",
      "22:22:38 - cmdstanpy - INFO - Chain [1] done processing\n",
      "22:22:38 - cmdstanpy - INFO - Chain [1] done processing\n"
     ]
    },
    {
     "name": "stdout",
     "output_type": "stream",
     "text": [
      "It's overpredicted.\n",
      "Monthly Error: 15.48 Period MAE:It's underpredicted. \n",
      "5.680000000000001\n",
      "Monthly Error: 23.69 Period MAE:17.06 \n",
      "It's underpredicted.\n"
     ]
    },
    {
     "name": "stderr",
     "output_type": "stream",
     "text": [
      "22:22:41 - cmdstanpy - INFO - Chain [1] start processing\n"
     ]
    },
    {
     "name": "stdout",
     "output_type": "stream",
     "text": [
      "Monthly Error: 47.89 "
     ]
    },
    {
     "name": "stderr",
     "output_type": "stream",
     "text": [
      "22:22:41 - cmdstanpy - INFO - Chain [1] start processing\n"
     ]
    },
    {
     "name": "stdout",
     "output_type": "stream",
     "text": [
      "Period MAE: 48.8\n"
     ]
    },
    {
     "name": "stderr",
     "output_type": "stream",
     "text": [
      "22:22:41 - cmdstanpy - INFO - Chain [1] done processing\n",
      "22:22:41 - cmdstanpy - INFO - Chain [1] start processing\n",
      "22:22:41 - cmdstanpy - INFO - Chain [1] done processing\n"
     ]
    },
    {
     "name": "stdout",
     "output_type": "stream",
     "text": [
      "It's overpredicted.\n",
      "Monthly Error: 17.24 Period MAE: 8.83\n"
     ]
    },
    {
     "name": "stderr",
     "output_type": "stream",
     "text": [
      "22:22:42 - cmdstanpy - INFO - Chain [1] start processing\n"
     ]
    },
    {
     "name": "stdout",
     "output_type": "stream",
     "text": [
      "It's underpredicted.\n",
      "Monthly Error: 49.68 Period MAE: 50.72"
     ]
    },
    {
     "name": "stderr",
     "output_type": "stream",
     "text": [
      "22:22:43 - cmdstanpy - INFO - Chain [1] done processing\n"
     ]
    },
    {
     "name": "stdout",
     "output_type": "stream",
     "text": [
      "\n"
     ]
    },
    {
     "name": "stderr",
     "output_type": "stream",
     "text": [
      "22:22:43 - cmdstanpy - INFO - Chain [1] done processing\n",
      "22:22:43 - cmdstanpy - INFO - Chain [1] start processing\n",
      "22:22:44 - cmdstanpy - INFO - Chain [1] done processing\n"
     ]
    },
    {
     "name": "stdout",
     "output_type": "stream",
     "text": [
      "It's underpredicted.\n",
      "Monthly Error: 49.8 Period MAE: 50.88\n",
      "It's underpredicted.\n",
      "Monthly Error: 50.27 Period MAE: 51.27It's overpredicted.\n",
      "\n",
      "Monthly Error: 15.82 "
     ]
    },
    {
     "name": "stderr",
     "output_type": "stream",
     "text": [
      "22:22:46 - cmdstanpy - INFO - Chain [1] start processing\n"
     ]
    },
    {
     "name": "stdout",
     "output_type": "stream",
     "text": [
      "Period MAE: 6.54\n"
     ]
    },
    {
     "name": "stderr",
     "output_type": "stream",
     "text": [
      "22:22:46 - cmdstanpy - INFO - Chain [1] done processing\n"
     ]
    },
    {
     "name": "stdout",
     "output_type": "stream",
     "text": [
      "It's overpredicted.\n",
      "Monthly Error: 19.32 Period MAE: 10.08\n"
     ]
    },
    {
     "name": "stderr",
     "output_type": "stream",
     "text": [
      "22:22:47 - cmdstanpy - INFO - Chain [1] start processing\n",
      "22:22:47 - cmdstanpy - INFO - Chain [1] start processing\n",
      "22:22:47 - cmdstanpy - INFO - Chain [1] done processing\n",
      "22:22:47 - cmdstanpy - INFO - Chain [1] start processing\n",
      "22:22:48 - cmdstanpy - INFO - Chain [1] done processing\n",
      "22:22:48 - cmdstanpy - INFO - Chain [1] done processing\n"
     ]
    },
    {
     "name": "stdout",
     "output_type": "stream",
     "text": [
      "It's underpredicted.\n",
      "Monthly Error: 54.27 Period MAE: 54.76\n"
     ]
    },
    {
     "name": "stderr",
     "output_type": "stream",
     "text": [
      "22:22:49 - cmdstanpy - INFO - Chain [1] start processing\n",
      "22:22:49 - cmdstanpy - INFO - Chain [1] done processing\n"
     ]
    },
    {
     "name": "stdout",
     "output_type": "stream",
     "text": [
      "It's underpredicted.\n",
      "Monthly Error: 51.66 Period MAE: 52.53\n",
      "It's overpredicted.\n",
      "Monthly Error: 22.47 Period MAE: 13.25\n"
     ]
    },
    {
     "name": "stderr",
     "output_type": "stream",
     "text": [
      "22:22:51 - cmdstanpy - INFO - Chain [1] start processing\n",
      "22:22:51 - cmdstanpy - INFO - Chain [1] start processing\n",
      "22:22:51 - cmdstanpy - INFO - Chain [1] done processing\n"
     ]
    },
    {
     "name": "stdout",
     "output_type": "stream",
     "text": [
      "It's overpredicted.\n",
      "Monthly Error: 22.26 Period MAE: 11.5\n"
     ]
    },
    {
     "name": "stderr",
     "output_type": "stream",
     "text": [
      "22:22:52 - cmdstanpy - INFO - Chain [1] done processing\n"
     ]
    },
    {
     "name": "stdout",
     "output_type": "stream",
     "text": [
      "It's underpredicted.\n",
      "Monthly Error: 38.6 Period MAE: 7.61"
     ]
    },
    {
     "name": "stderr",
     "output_type": "stream",
     "text": [
      "22:22:53 - cmdstanpy - INFO - Chain [1] start processing\n"
     ]
    },
    {
     "name": "stdout",
     "output_type": "stream",
     "text": [
      "It's underpredicted.\n",
      "\n",
      "Monthly Error: 52.97 Period MAE: 53.55\n"
     ]
    },
    {
     "name": "stderr",
     "output_type": "stream",
     "text": [
      "22:22:53 - cmdstanpy - INFO - Chain [1] start processing\n",
      "22:22:54 - cmdstanpy - INFO - Chain [1] done processing\n",
      "22:22:54 - cmdstanpy - INFO - Chain [1] done processing\n",
      "22:22:54 - cmdstanpy - INFO - Chain [1] start processing\n",
      "22:22:54 - cmdstanpy - INFO - Chain [1] done processing\n"
     ]
    },
    {
     "name": "stdout",
     "output_type": "stream",
     "text": [
      "It's underpredicted.\n",
      "Monthly Error: 51.35 Period MAE: 52.059999999999995\n",
      "It's overpredicted.\n",
      "Monthly Error: 44.64 Period MAE: 8.55\n"
     ]
    },
    {
     "name": "stderr",
     "output_type": "stream",
     "text": [
      "22:22:56 - cmdstanpy - INFO - Chain [1] start processing\n",
      "22:22:56 - cmdstanpy - INFO - Chain [1] done processing\n"
     ]
    },
    {
     "name": "stdout",
     "output_type": "stream",
     "text": [
      "It's underpredicted.\n",
      "Monthly Error: 50.89 Period MAE: 51.31\n"
     ]
    },
    {
     "name": "stderr",
     "output_type": "stream",
     "text": [
      "22:22:56 - cmdstanpy - INFO - Chain [1] start processing\n",
      "22:22:57 - cmdstanpy - INFO - Chain [1] done processing\n",
      "22:22:57 - cmdstanpy - INFO - Chain [1] start processing\n",
      "22:22:57 - cmdstanpy - INFO - Chain [1] done processing\n"
     ]
    },
    {
     "name": "stdout",
     "output_type": "stream",
     "text": [
      "It's underpredicted.\n",
      "Monthly Error: 51.91 Period MAE: 52.559999999999995\n",
      "It's underpredicted.\n",
      "Monthly Error: 38.92 Period MAE: 6.800000000000001\n",
      "It's overpredicted.\n",
      "Monthly Error: 42.82 Period MAE: 1.8499999999999999\n"
     ]
    },
    {
     "name": "stderr",
     "output_type": "stream",
     "text": [
      "22:23:00 - cmdstanpy - INFO - Chain [1] start processing\n",
      "22:23:00 - cmdstanpy - INFO - Chain [1] start processing\n"
     ]
    },
    {
     "name": "stdout",
     "output_type": "stream",
     "text": [
      "It's overpredicted.\n",
      "Monthly Error: "
     ]
    },
    {
     "name": "stderr",
     "output_type": "stream",
     "text": [
      "22:23:00 - cmdstanpy - INFO - Chain [1] start processing\n"
     ]
    },
    {
     "name": "stdout",
     "output_type": "stream",
     "text": [
      "44.37 Period MAE: "
     ]
    },
    {
     "name": "stderr",
     "output_type": "stream",
     "text": [
      "22:23:00 - cmdstanpy - INFO - Chain [1] done processing\n"
     ]
    },
    {
     "name": "stdout",
     "output_type": "stream",
     "text": [
      "5.42\n"
     ]
    },
    {
     "name": "stderr",
     "output_type": "stream",
     "text": [
      "22:23:00 - cmdstanpy - INFO - Chain [1] done processing\n",
      "22:23:01 - cmdstanpy - INFO - Chain [1] start processing\n",
      "22:23:01 - cmdstanpy - INFO - Chain [1] done processing\n",
      "22:23:01 - cmdstanpy - INFO - Chain [1] done processing\n"
     ]
    },
    {
     "name": "stdout",
     "output_type": "stream",
     "text": [
      "It's underpredicted.\n",
      "Monthly Error: 51.81 Period MAE: 52.39\n"
     ]
    },
    {
     "name": "stderr",
     "output_type": "stream",
     "text": [
      "22:23:03 - cmdstanpy - INFO - Chain [1] start processing\n",
      "22:23:04 - cmdstanpy - INFO - Chain [1] done processing\n"
     ]
    },
    {
     "name": "stdout",
     "output_type": "stream",
     "text": [
      "It's underpredicted.\n",
      "Monthly Error: 52.66 Period MAE: 53.300000000000004\n",
      "It's overpredicted.\n",
      "Monthly Error: "
     ]
    },
    {
     "name": "stderr",
     "output_type": "stream",
     "text": [
      "22:23:06 - cmdstanpy - INFO - Chain [1] start processing\n"
     ]
    },
    {
     "name": "stdout",
     "output_type": "stream",
     "text": [
      "44.3 Period MAE: 3.01\n",
      "It's underpredicted.\n"
     ]
    },
    {
     "name": "stderr",
     "output_type": "stream",
     "text": [
      "22:23:06 - cmdstanpy - INFO - Chain [1] done processing\n"
     ]
    },
    {
     "name": "stdout",
     "output_type": "stream",
     "text": [
      "Monthly Error: 64.74 Period MAE: 64.05999999999999\n",
      "It's underpredicted.\n",
      "Monthly Error: 40.86 Period MAE: 3.8699999999999997\n"
     ]
    },
    {
     "name": "stderr",
     "output_type": "stream",
     "text": [
      "22:23:06 - cmdstanpy - INFO - Chain [1] start processing\n",
      "22:23:07 - cmdstanpy - INFO - Chain [1] start processing\n",
      "22:23:07 - cmdstanpy - INFO - Chain [1] start processing\n",
      "22:23:07 - cmdstanpy - INFO - Chain [1] done processing\n",
      "22:23:07 - cmdstanpy - INFO - Chain [1] done processing\n",
      "22:23:07 - cmdstanpy - INFO - Chain [1] done processing\n"
     ]
    },
    {
     "name": "stdout",
     "output_type": "stream",
     "text": [
      "It's underpredicted.\n",
      "Monthly Error: 40.97 Period MAE: 41.160000000000004\n"
     ]
    },
    {
     "name": "stderr",
     "output_type": "stream",
     "text": [
      "22:23:09 - cmdstanpy - INFO - Chain [1] start processing\n",
      "22:23:09 - cmdstanpy - INFO - Chain [1] done processing\n"
     ]
    },
    {
     "name": "stdout",
     "output_type": "stream",
     "text": [
      "It's underpredicted.\n",
      "Monthly Error: It's overpredicted.50.09 \n",
      "Period MAE: Monthly Error:50.690000000000005\n",
      " 44.12 Period MAE: 1.91\n"
     ]
    },
    {
     "name": "stderr",
     "output_type": "stream",
     "text": [
      "22:23:10 - cmdstanpy - INFO - Chain [1] start processing\n"
     ]
    },
    {
     "name": "stdout",
     "output_type": "stream",
     "text": [
      "It's overpredicted.\n",
      "Monthly Error: 44.24 Period MAE: 1.78\n"
     ]
    },
    {
     "name": "stderr",
     "output_type": "stream",
     "text": [
      "22:23:11 - cmdstanpy - INFO - Chain [1] start processing\n",
      "22:23:11 - cmdstanpy - INFO - Chain [1] done processing\n",
      "22:23:11 - cmdstanpy - INFO - Chain [1] done processing\n",
      "22:23:12 - cmdstanpy - INFO - Chain [1] start processing\n"
     ]
    },
    {
     "name": "stdout",
     "output_type": "stream",
     "text": [
      "It's underpredicted.\n",
      "Monthly Error: 41.29 Period MAE: 41.38\n",
      "It's underpredicted.\n",
      "Monthly Error: 19.85 Period MAE: 12.55\n"
     ]
    },
    {
     "name": "stderr",
     "output_type": "stream",
     "text": [
      "22:23:13 - cmdstanpy - INFO - Chain [1] done processing\n",
      "22:23:13 - cmdstanpy - INFO - Chain [1] start processing\n",
      "22:23:13 - cmdstanpy - INFO - Chain [1] done processing\n",
      "22:23:14 - cmdstanpy - INFO - Chain [1] start processing\n",
      "22:23:14 - cmdstanpy - INFO - Chain [1] done processing\n"
     ]
    },
    {
     "name": "stdout",
     "output_type": "stream",
     "text": [
      "It's underpredicted.\n",
      "It's underpredicted.\n",
      "Monthly Error:Monthly Error:  17.76It's underpredicted. 40.8\n",
      "Period MAE:Monthly Error:  9.77 Period MAE: \n",
      "33.1840.98 32.910000000000004 Period MAE:\n",
      "\n"
     ]
    },
    {
     "name": "stderr",
     "output_type": "stream",
     "text": [
      "22:23:15 - cmdstanpy - INFO - Chain [1] start processing\n",
      "22:23:15 - cmdstanpy - INFO - Chain [1] done processing\n",
      "22:23:15 - cmdstanpy - INFO - Chain [1] start processing\n",
      "22:23:16 - cmdstanpy - INFO - Chain [1] start processing\n",
      "22:23:16 - cmdstanpy - INFO - Chain [1] done processing\n",
      "22:23:16 - cmdstanpy - INFO - Chain [1] done processing\n"
     ]
    },
    {
     "name": "stdout",
     "output_type": "stream",
     "text": [
      "It's underpredicted.\n",
      "Monthly Error: 34.24 Period MAE: 33.53\n",
      "It's underpredicted.\n",
      "Monthly Error: 18.89 Period MAE: 5.510000000000001\n"
     ]
    },
    {
     "name": "stderr",
     "output_type": "stream",
     "text": [
      "22:23:19 - cmdstanpy - INFO - Chain [1] start processing\n"
     ]
    },
    {
     "name": "stdout",
     "output_type": "stream",
     "text": [
      "It's overpredicted.\n",
      "Monthly Error: 20.16 Period MAE: 8.63\n"
     ]
    },
    {
     "name": "stderr",
     "output_type": "stream",
     "text": [
      "22:23:19 - cmdstanpy - INFO - Chain [1] done processing\n",
      "22:23:19 - cmdstanpy - INFO - Chain [1] start processing\n"
     ]
    },
    {
     "name": "stdout",
     "output_type": "stream",
     "text": [
      "It's underpredicted.\n",
      "Monthly Error: 14.65 Period MAE: 7.720000000000001\n"
     ]
    },
    {
     "name": "stderr",
     "output_type": "stream",
     "text": [
      "22:23:19 - cmdstanpy - INFO - Chain [1] start processing\n",
      "22:23:19 - cmdstanpy - INFO - Chain [1] done processing\n",
      "22:23:20 - cmdstanpy - INFO - Chain [1] done processing\n",
      "22:23:20 - cmdstanpy - INFO - Chain [1] start processing\n",
      "22:23:20 - cmdstanpy - INFO - Chain [1] done processing\n"
     ]
    },
    {
     "name": "stdout",
     "output_type": "stream",
     "text": [
      "It's underpredicted.\n",
      "Monthly Error: 43.08 Period MAE: 43.53\n",
      "It's underpredicted.\n",
      "Monthly Error: 41.34 Period MAE: 41.92\n"
     ]
    },
    {
     "name": "stderr",
     "output_type": "stream",
     "text": [
      "22:23:22 - cmdstanpy - INFO - Chain [1] start processing\n",
      "22:23:22 - cmdstanpy - INFO - Chain [1] start processing\n",
      "22:23:22 - cmdstanpy - INFO - Chain [1] done processing\n",
      "22:23:22 - cmdstanpy - INFO - Chain [1] done processing\n"
     ]
    },
    {
     "name": "stdout",
     "output_type": "stream",
     "text": [
      "It's overpredicted.\n",
      "Monthly Error: 12.51 Period MAE: 3.7600000000000002\n",
      "It's underpredicted.\n",
      "Monthly Error: 16.46 Period MAE: 6.529999999999999\n",
      "It's underpredicted.\n",
      "Monthly Error: 38.13 Period MAE: 37.91\n"
     ]
    },
    {
     "name": "stderr",
     "output_type": "stream",
     "text": [
      "22:23:25 - cmdstanpy - INFO - Chain [1] start processing\n",
      "22:23:25 - cmdstanpy - INFO - Chain [1] start processing\n",
      "22:23:25 - cmdstanpy - INFO - Chain [1] done processing\n",
      "22:23:25 - cmdstanpy - INFO - Chain [1] done processing\n",
      "22:23:25 - cmdstanpy - INFO - Chain [1] start processing\n",
      "22:23:26 - cmdstanpy - INFO - Chain [1] done processing\n"
     ]
    },
    {
     "name": "stdout",
     "output_type": "stream",
     "text": [
      "It's underpredicted.\n",
      "Monthly Error: 16.51 Period MAE: 8.84It's underpredicted.\n",
      "\n",
      "Monthly Error: 47.04 Period MAE: 47.349999999999994\n"
     ]
    },
    {
     "name": "stderr",
     "output_type": "stream",
     "text": [
      "22:23:26 - cmdstanpy - INFO - Chain [1] start processing\n",
      "22:23:27 - cmdstanpy - INFO - Chain [1] done processing\n",
      "22:23:27 - cmdstanpy - INFO - Chain [1] start processing\n",
      "22:23:27 - cmdstanpy - INFO - Chain [1] done processing\n"
     ]
    },
    {
     "name": "stdout",
     "output_type": "stream",
     "text": [
      "It's underpredicted.\n",
      "Monthly Error: 41.5 Period MAE: 42.05\n"
     ]
    },
    {
     "name": "stderr",
     "output_type": "stream",
     "text": [
      "22:23:28 - cmdstanpy - INFO - Chain [1] start processing\n",
      "22:23:29 - cmdstanpy - INFO - Chain [1] done processing\n"
     ]
    },
    {
     "name": "stdout",
     "output_type": "stream",
     "text": [
      "It's underpredicted.\n",
      "Monthly Error: 44.69 Period MAE: 44.440000000000005\n",
      "It's overpredicted.\n",
      "Monthly Error: 43.87 Period MAE: 7.22\n",
      "It's underpredicted.\n",
      "Monthly Error: 17.58 Period MAE: 4.32\n"
     ]
    },
    {
     "name": "stderr",
     "output_type": "stream",
     "text": [
      "22:23:30 - cmdstanpy - INFO - Chain [1] start processing\n",
      "22:23:31 - cmdstanpy - INFO - Chain [1] start processing\n",
      "22:23:31 - cmdstanpy - INFO - Chain [1] start processing\n",
      "22:23:31 - cmdstanpy - INFO - Chain [1] done processing\n",
      "22:23:31 - cmdstanpy - INFO - Chain [1] done processing\n",
      "22:23:31 - cmdstanpy - INFO - Chain [1] done processing\n"
     ]
    },
    {
     "name": "stdout",
     "output_type": "stream",
     "text": [
      "It's underpredicted.\n",
      "Monthly Error: It's underpredicted.39.45\n",
      " Monthly Error: Period MAE:44.51  Period MAE:6.279999999999999\n",
      " 44.34\n"
     ]
    },
    {
     "name": "stderr",
     "output_type": "stream",
     "text": [
      "22:23:33 - cmdstanpy - INFO - Chain [1] start processing\n"
     ]
    },
    {
     "name": "stdout",
     "output_type": "stream",
     "text": [
      "It's underpredicted.\n"
     ]
    },
    {
     "name": "stderr",
     "output_type": "stream",
     "text": [
      "22:23:33 - cmdstanpy - INFO - Chain [1] done processing\n"
     ]
    },
    {
     "name": "stdout",
     "output_type": "stream",
     "text": [
      "Monthly Error: 46.36 Period MAE: 46.88\n"
     ]
    },
    {
     "name": "stderr",
     "output_type": "stream",
     "text": [
      "22:23:33 - cmdstanpy - INFO - Chain [1] start processing\n",
      "22:23:34 - cmdstanpy - INFO - Chain [1] done processing\n",
      "22:23:35 - cmdstanpy - INFO - Chain [1] start processing\n",
      "22:23:35 - cmdstanpy - INFO - Chain [1] done processing\n"
     ]
    },
    {
     "name": "stdout",
     "output_type": "stream",
     "text": [
      "It's overpredicted.\n",
      "Monthly Error: 44.8 It's underpredicted.Period MAE: \n",
      "0.53Monthly Error:\n",
      " 45.77  Period MAE:1.23\n",
      "It's underpredicted.\n",
      "Monthly Error: 36.8 Period MAE: 35.809999999999995\n"
     ]
    },
    {
     "name": "stderr",
     "output_type": "stream",
     "text": [
      "22:23:36 - cmdstanpy - INFO - Chain [1] start processing\n",
      "22:23:36 - cmdstanpy - INFO - Chain [1] done processing\n",
      "22:23:37 - cmdstanpy - INFO - Chain [1] start processing\n",
      "22:23:37 - cmdstanpy - INFO - Chain [1] start processing\n",
      "22:23:37 - cmdstanpy - INFO - Chain [1] done processing\n",
      "22:23:37 - cmdstanpy - INFO - Chain [1] done processing\n"
     ]
    },
    {
     "name": "stdout",
     "output_type": "stream",
     "text": [
      "It's underpredicted.\n",
      "Monthly Error: 43.62 Period MAE: 43.29\n",
      "It's underpredicted.\n",
      "Monthly Error: 41.95 Period MAE: 8.17\n"
     ]
    },
    {
     "name": "stderr",
     "output_type": "stream",
     "text": [
      "22:23:38 - cmdstanpy - INFO - Chain [1] start processing\n",
      "22:23:39 - cmdstanpy - INFO - Chain [1] done processing\n"
     ]
    },
    {
     "name": "stdout",
     "output_type": "stream",
     "text": [
      "It's underpredicted.\n",
      "Monthly Error: "
     ]
    },
    {
     "name": "stderr",
     "output_type": "stream",
     "text": [
      "22:23:39 - cmdstanpy - INFO - Chain [1] start processing\n"
     ]
    },
    {
     "name": "stdout",
     "output_type": "stream",
     "text": [
      "42.89 Period MAE: 43.04\n"
     ]
    },
    {
     "name": "stderr",
     "output_type": "stream",
     "text": [
      "22:23:39 - cmdstanpy - INFO - Chain [1] done processing\n",
      "22:23:40 - cmdstanpy - INFO - Chain [1] start processing\n",
      "22:23:40 - cmdstanpy - INFO - Chain [1] done processing\n"
     ]
    },
    {
     "name": "stdout",
     "output_type": "stream",
     "text": [
      "It's underpredicted.\n",
      "Monthly Error: 40.16 Period MAE: 39.5\n",
      "It's underpredicted.\n",
      "Monthly Error: 44.69 Period MAE: 9.78\n"
     ]
    },
    {
     "name": "stderr",
     "output_type": "stream",
     "text": [
      "22:23:42 - cmdstanpy - INFO - Chain [1] start processing\n"
     ]
    },
    {
     "name": "stdout",
     "output_type": "stream",
     "text": [
      "It's underpredicted.\n",
      "Monthly Error: 41.67 Period MAE: 0.8200000000000001\n"
     ]
    },
    {
     "name": "stderr",
     "output_type": "stream",
     "text": [
      "22:23:43 - cmdstanpy - INFO - Chain [1] start processing\n",
      "22:23:43 - cmdstanpy - INFO - Chain [1] done processing\n",
      "22:23:43 - cmdstanpy - INFO - Chain [1] done processing\n",
      "22:23:43 - cmdstanpy - INFO - Chain [1] start processing\n",
      "22:23:43 - cmdstanpy - INFO - Chain [1] done processing\n"
     ]
    },
    {
     "name": "stdout",
     "output_type": "stream",
     "text": [
      "It's underpredicted.\n",
      "Monthly Error: 40.16 Period MAE: 5.99\n",
      "It's underpredicted.\n",
      "Monthly Error:"
     ]
    },
    {
     "name": "stderr",
     "output_type": "stream",
     "text": [
      "22:23:45 - cmdstanpy - INFO - Chain [1] start processing\n"
     ]
    },
    {
     "name": "stdout",
     "output_type": "stream",
     "text": [
      " 52.11 Period MAE: It's underpredicted.52.93\n",
      "\n",
      "Monthly Error: 42.8 Period MAE: 43.02"
     ]
    },
    {
     "name": "stderr",
     "output_type": "stream",
     "text": [
      "22:23:45 - cmdstanpy - INFO - Chain [1] done processing\n"
     ]
    },
    {
     "name": "stdout",
     "output_type": "stream",
     "text": [
      "\n"
     ]
    },
    {
     "name": "stderr",
     "output_type": "stream",
     "text": [
      "22:23:46 - cmdstanpy - INFO - Chain [1] start processing\n",
      "22:23:46 - cmdstanpy - INFO - Chain [1] start processing\n",
      "22:23:46 - cmdstanpy - INFO - Chain [1] done processing\n",
      "22:23:46 - cmdstanpy - INFO - Chain [1] done processing\n"
     ]
    },
    {
     "name": "stdout",
     "output_type": "stream",
     "text": [
      "It's underpredicted.\n",
      "Monthly Error: 53.08 Period MAE: 53.81\n",
      "It's underpredicted.\n",
      "Monthly Error: 20.16 It's underpredicted.Period MAE:\n",
      "Monthly Error: 44.06  Period MAE: 3.2399999999999998\n",
      "13.13\n"
     ]
    },
    {
     "name": "stderr",
     "output_type": "stream",
     "text": [
      "22:23:49 - cmdstanpy - INFO - Chain [1] start processing\n",
      "22:23:50 - cmdstanpy - INFO - Chain [1] start processing\n",
      "22:23:50 - cmdstanpy - INFO - Chain [1] start processing\n",
      "22:23:50 - cmdstanpy - INFO - Chain [1] done processing\n"
     ]
    },
    {
     "name": "stdout",
     "output_type": "stream",
     "text": [
      "It's underpredicted."
     ]
    },
    {
     "name": "stderr",
     "output_type": "stream",
     "text": [
      "22:23:50 - cmdstanpy - INFO - Chain [1] done processing\n"
     ]
    },
    {
     "name": "stdout",
     "output_type": "stream",
     "text": [
      "\n"
     ]
    },
    {
     "name": "stderr",
     "output_type": "stream",
     "text": [
      "22:23:50 - cmdstanpy - INFO - Chain [1] done processing\n"
     ]
    },
    {
     "name": "stdout",
     "output_type": "stream",
     "text": [
      "Monthly Error: 23.55 Period MAE: 17.09\n"
     ]
    },
    {
     "name": "stderr",
     "output_type": "stream",
     "text": [
      "22:23:50 - cmdstanpy - INFO - Chain [1] start processing\n",
      "22:23:51 - cmdstanpy - INFO - Chain [1] done processing\n"
     ]
    },
    {
     "name": "stdout",
     "output_type": "stream",
     "text": [
      "It's underpredicted.\n",
      "Monthly Error: 52.08 Period MAE: 52.910000000000004\n"
     ]
    },
    {
     "name": "stderr",
     "output_type": "stream",
     "text": [
      "22:23:51 - cmdstanpy - INFO - Chain [1] start processing\n"
     ]
    },
    {
     "name": "stdout",
     "output_type": "stream",
     "text": [
      "It's underpredicted.\n",
      "Monthly Error: 48.52 Period MAE: 49.480000000000004\n"
     ]
    },
    {
     "name": "stderr",
     "output_type": "stream",
     "text": [
      "22:23:52 - cmdstanpy - INFO - Chain [1] done processing\n",
      "22:23:52 - cmdstanpy - INFO - Chain [1] start processing\n",
      "22:23:53 - cmdstanpy - INFO - Chain [1] done processing\n"
     ]
    },
    {
     "name": "stdout",
     "output_type": "stream",
     "text": [
      "It's underpredicted.\n",
      "Monthly Error: 49.69 Period MAE: 50.72\n",
      "It's underpredicted.\n",
      "Monthly Error: 24.17 Period MAE: 17.849999999999998\n",
      "It's underpredicted.\n",
      "Monthly Error: 13.92 Period MAE: 5.1\n"
     ]
    },
    {
     "name": "stderr",
     "output_type": "stream",
     "text": [
      "22:23:55 - cmdstanpy - INFO - Chain [1] start processing\n",
      "22:23:55 - cmdstanpy - INFO - Chain [1] start processing\n",
      "22:23:55 - cmdstanpy - INFO - Chain [1] done processing\n",
      "22:23:56 - cmdstanpy - INFO - Chain [1] start processing\n",
      "22:23:56 - cmdstanpy - INFO - Chain [1] done processing\n",
      "22:23:56 - cmdstanpy - INFO - Chain [1] done processing\n"
     ]
    },
    {
     "name": "stdout",
     "output_type": "stream",
     "text": [
      "It's overpredicted.\n",
      "Monthly Error: 13.58 Period MAE: 0.03\n",
      "It's underpredicted.\n"
     ]
    },
    {
     "name": "stderr",
     "output_type": "stream",
     "text": [
      "22:23:57 - cmdstanpy - INFO - Chain [1] start processing\n"
     ]
    },
    {
     "name": "stdout",
     "output_type": "stream",
     "text": [
      "Monthly Error: 51.09 Period MAE: 52.0\n"
     ]
    },
    {
     "name": "stderr",
     "output_type": "stream",
     "text": [
      "22:23:57 - cmdstanpy - INFO - Chain [1] done processing\n",
      "22:23:58 - cmdstanpy - INFO - Chain [1] start processing\n"
     ]
    },
    {
     "name": "stdout",
     "output_type": "stream",
     "text": [
      "It's underpredicted.\n",
      "Monthly Error: 50.27 Period MAE: 51.25999999999999\n"
     ]
    },
    {
     "name": "stderr",
     "output_type": "stream",
     "text": [
      "22:23:58 - cmdstanpy - INFO - Chain [1] done processing\n",
      "22:23:58 - cmdstanpy - INFO - Chain [1] start processing\n",
      "22:23:59 - cmdstanpy - INFO - Chain [1] done processing\n"
     ]
    },
    {
     "name": "stdout",
     "output_type": "stream",
     "text": [
      "It's underpredicted.\n",
      "Monthly Error: 52.81 Period MAE: 53.56999999999999\n",
      "It's overpredicted.\n",
      "It's underpredicted.\n",
      "Monthly Error:Monthly Error: 14.43  12.36 Period MAE: 1.7999999999999998Period MAE:\n",
      " 6.279999999999999\n"
     ]
    },
    {
     "name": "stderr",
     "output_type": "stream",
     "text": [
      "22:24:01 - cmdstanpy - INFO - Chain [1] start processing\n",
      "22:24:01 - cmdstanpy - INFO - Chain [1] start processing\n",
      "22:24:01 - cmdstanpy - INFO - Chain [1] done processing\n",
      "22:24:01 - cmdstanpy - INFO - Chain [1] done processing\n",
      "22:24:02 - cmdstanpy - INFO - Chain [1] start processing\n",
      "22:24:02 - cmdstanpy - INFO - Chain [1] done processing\n"
     ]
    },
    {
     "name": "stdout",
     "output_type": "stream",
     "text": [
      "It's underpredicted.\n",
      "Monthly Error: 52.19 Period MAE: 52.73\n"
     ]
    },
    {
     "name": "stderr",
     "output_type": "stream",
     "text": [
      "22:24:03 - cmdstanpy - INFO - Chain [1] start processing\n",
      "22:24:03 - cmdstanpy - INFO - Chain [1] done processing\n"
     ]
    },
    {
     "name": "stdout",
     "output_type": "stream",
     "text": [
      "It's overpredicted.\n",
      "Monthly Error: 14.61 Period MAE: 8.61\n"
     ]
    },
    {
     "name": "stderr",
     "output_type": "stream",
     "text": [
      "22:24:04 - cmdstanpy - INFO - Chain [1] start processing\n"
     ]
    },
    {
     "name": "stdout",
     "output_type": "stream",
     "text": [
      "It's underpredicted.\n",
      "Monthly Error: 50.96 Period MAE: 51.89\n"
     ]
    },
    {
     "name": "stderr",
     "output_type": "stream",
     "text": [
      "22:24:05 - cmdstanpy - INFO - Chain [1] done processing\n",
      "22:24:05 - cmdstanpy - INFO - Chain [1] start processing\n",
      "22:24:06 - cmdstanpy - INFO - Chain [1] done processing\n"
     ]
    },
    {
     "name": "stdout",
     "output_type": "stream",
     "text": [
      "It's underpredicted.\n",
      "Monthly Error: 45.17 Period MAE: 45.14\n",
      "It's underpredicted.\n",
      "Monthly Error: 41.02 It's overpredicted.Period MAE:\n",
      " Monthly Error:1.08 \n",
      "17.38 Period MAE: 12.3\n"
     ]
    },
    {
     "name": "stderr",
     "output_type": "stream",
     "text": [
      "22:24:08 - cmdstanpy - INFO - Chain [1] start processing\n",
      "22:24:08 - cmdstanpy - INFO - Chain [1] start processing\n",
      "22:24:08 - cmdstanpy - INFO - Chain [1] done processing\n",
      "22:24:08 - cmdstanpy - INFO - Chain [1] done processing\n",
      "22:24:09 - cmdstanpy - INFO - Chain [1] start processing\n",
      "22:24:09 - cmdstanpy - INFO - Chain [1] done processing\n"
     ]
    },
    {
     "name": "stdout",
     "output_type": "stream",
     "text": [
      "It's underpredicted.\n",
      "Monthly Error: 38.68 Period MAE: 7.8100000000000005\n",
      "It's underpredicted.\n",
      "Monthly Error:"
     ]
    },
    {
     "name": "stderr",
     "output_type": "stream",
     "text": [
      "22:24:10 - cmdstanpy - INFO - Chain [1] start processing\n"
     ]
    },
    {
     "name": "stdout",
     "output_type": "stream",
     "text": [
      " 50.14 Period MAE: 50.56\n"
     ]
    },
    {
     "name": "stderr",
     "output_type": "stream",
     "text": [
      "22:24:10 - cmdstanpy - INFO - Chain [1] done processing\n",
      "22:24:11 - cmdstanpy - INFO - Chain [1] start processing\n"
     ]
    },
    {
     "name": "stdout",
     "output_type": "stream",
     "text": [
      "It's underpredicted.\n",
      "Monthly Error: 47.97 Period MAE: 48.08\n"
     ]
    },
    {
     "name": "stderr",
     "output_type": "stream",
     "text": [
      "22:24:11 - cmdstanpy - INFO - Chain [1] done processing\n",
      "22:24:12 - cmdstanpy - INFO - Chain [1] start processing\n",
      "22:24:12 - cmdstanpy - INFO - Chain [1] done processing\n"
     ]
    },
    {
     "name": "stdout",
     "output_type": "stream",
     "text": [
      "It's underpredicted.\n",
      "Monthly Error: 39.98 Period MAE: 4.2\n",
      "It's underpredicted.\n",
      "Monthly Error:It's underpredicted. \n",
      "39.96 Monthly Error: 51.94Period MAE:  6.93\n",
      "Period MAE: 52.52\n"
     ]
    },
    {
     "name": "stderr",
     "output_type": "stream",
     "text": [
      "22:24:14 - cmdstanpy - INFO - Chain [1] start processing\n",
      "22:24:14 - cmdstanpy - INFO - Chain [1] done processing\n",
      "22:24:14 - cmdstanpy - INFO - Chain [1] start processing\n",
      "22:24:14 - cmdstanpy - INFO - Chain [1] start processing\n",
      "22:24:15 - cmdstanpy - INFO - Chain [1] done processing\n",
      "22:24:15 - cmdstanpy - INFO - Chain [1] done processing\n"
     ]
    },
    {
     "name": "stdout",
     "output_type": "stream",
     "text": [
      "It's underpredicted.\n",
      "Monthly Error: 49.13 Period MAE: 49.47It's overpredicted.\n",
      "\n",
      "Monthly Error: 46.46 Period MAE: 10.549999999999999\n"
     ]
    },
    {
     "name": "stderr",
     "output_type": "stream",
     "text": [
      "22:24:16 - cmdstanpy - INFO - Chain [1] start processing\n",
      "22:24:16 - cmdstanpy - INFO - Chain [1] done processing\n",
      "22:24:16 - cmdstanpy - INFO - Chain [1] start processing\n",
      "22:24:17 - cmdstanpy - INFO - Chain [1] done processing\n"
     ]
    },
    {
     "name": "stdout",
     "output_type": "stream",
     "text": [
      "It's underpredicted.\n",
      "Monthly Error: 53.19 Period MAE: 53.74\n"
     ]
    },
    {
     "name": "stderr",
     "output_type": "stream",
     "text": [
      "22:24:18 - cmdstanpy - INFO - Chain [1] start processing\n",
      "22:24:18 - cmdstanpy - INFO - Chain [1] done processing\n"
     ]
    },
    {
     "name": "stdout",
     "output_type": "stream",
     "text": [
      "It's underpredicted.\n",
      "Monthly Error: 51.67 Period MAE: 52.1\n",
      "It's overpredicted.\n",
      "Monthly Error: 46.15 Period MAE: 9.76\n",
      "It's overpredicted.\n",
      "Monthly Error: 44.58 Period MAE: 7.35\n"
     ]
    },
    {
     "name": "stderr",
     "output_type": "stream",
     "text": [
      "22:24:20 - cmdstanpy - INFO - Chain [1] start processing\n",
      "22:24:20 - cmdstanpy - INFO - Chain [1] start processing\n",
      "22:24:20 - cmdstanpy - INFO - Chain [1] done processing\n",
      "22:24:20 - cmdstanpy - INFO - Chain [1] done processing\n",
      "22:24:20 - cmdstanpy - INFO - Chain [1] start processing\n",
      "22:24:21 - cmdstanpy - INFO - Chain [1] done processing\n"
     ]
    },
    {
     "name": "stdout",
     "output_type": "stream",
     "text": [
      "It's underpredicted.\n",
      "Monthly Error: 37.32 Period MAE: 37.07\n",
      "It's overpredicted.\n",
      "Monthly Error: "
     ]
    },
    {
     "name": "stderr",
     "output_type": "stream",
     "text": [
      "22:24:22 - cmdstanpy - INFO - Chain [1] start processing\n"
     ]
    },
    {
     "name": "stdout",
     "output_type": "stream",
     "text": [
      "44.29 Period MAE: 6.5600000000000005\n"
     ]
    },
    {
     "name": "stderr",
     "output_type": "stream",
     "text": [
      "22:24:22 - cmdstanpy - INFO - Chain [1] done processing\n"
     ]
    },
    {
     "name": "stdout",
     "output_type": "stream",
     "text": [
      "It's underpredicted.\n",
      "Monthly Error: 53.43 Period MAE: 53.97\n"
     ]
    },
    {
     "name": "stderr",
     "output_type": "stream",
     "text": [
      "22:24:23 - cmdstanpy - INFO - Chain [1] start processing\n",
      "22:24:24 - cmdstanpy - INFO - Chain [1] done processing\n",
      "22:24:24 - cmdstanpy - INFO - Chain [1] start processing\n",
      "22:24:24 - cmdstanpy - INFO - Chain [1] done processing\n"
     ]
    },
    {
     "name": "stdout",
     "output_type": "stream",
     "text": [
      "It's underpredicted.\n",
      "Monthly Error: 37.14 Period MAE: 36.86\n",
      "It's underpredicted.\n",
      "Monthly Error:It's overpredicted. \n",
      "17.52Monthly Error: Period MAE:  42.889.69 \n",
      "Period MAE: 2.44\n"
     ]
    },
    {
     "name": "stderr",
     "output_type": "stream",
     "text": [
      "22:24:26 - cmdstanpy - INFO - Chain [1] start processing\n",
      "22:24:26 - cmdstanpy - INFO - Chain [1] done processing\n",
      "22:24:26 - cmdstanpy - INFO - Chain [1] start processing\n",
      "22:24:27 - cmdstanpy - INFO - Chain [1] start processing\n",
      "22:24:27 - cmdstanpy - INFO - Chain [1] done processing\n",
      "22:24:27 - cmdstanpy - INFO - Chain [1] done processing\n"
     ]
    },
    {
     "name": "stdout",
     "output_type": "stream",
     "text": [
      "It's overpredicted.\n",
      "Monthly Error: 14.48 Period MAE: 1.9\n",
      "It's underpredicted.\n",
      "Monthly Error: 43.16 Period MAE: 43.519999999999996\n"
     ]
    },
    {
     "name": "stderr",
     "output_type": "stream",
     "text": [
      "22:24:28 - cmdstanpy - INFO - Chain [1] start processing\n",
      "22:24:28 - cmdstanpy - INFO - Chain [1] done processing\n",
      "22:24:28 - cmdstanpy - INFO - Chain [1] start processing\n",
      "22:24:29 - cmdstanpy - INFO - Chain [1] done processing\n"
     ]
    },
    {
     "name": "stdout",
     "output_type": "stream",
     "text": [
      "It's underpredicted.\n",
      "Monthly Error: 40.83 Period MAE: 41.53\n"
     ]
    },
    {
     "name": "stderr",
     "output_type": "stream",
     "text": [
      "22:24:30 - cmdstanpy - INFO - Chain [1] start processing\n",
      "22:24:30 - cmdstanpy - INFO - Chain [1] done processing\n"
     ]
    },
    {
     "name": "stdout",
     "output_type": "stream",
     "text": [
      "It's underpredicted.\n",
      "Monthly Error: 35.14 Period MAE: 34.55\n",
      "It's overpredicted.\n",
      "Monthly Error: 19.67 Period MAE: 7.6899999999999995\n",
      "It's overpredicted.\n",
      "Monthly Error: 17.19 Period MAE: 3.94\n"
     ]
    },
    {
     "name": "stderr",
     "output_type": "stream",
     "text": [
      "22:24:32 - cmdstanpy - INFO - Chain [1] start processing\n",
      "22:24:32 - cmdstanpy - INFO - Chain [1] start processing\n",
      "22:24:32 - cmdstanpy - INFO - Chain [1] start processing\n",
      "22:24:32 - cmdstanpy - INFO - Chain [1] done processing\n",
      "22:24:32 - cmdstanpy - INFO - Chain [1] done processing\n",
      "22:24:33 - cmdstanpy - INFO - Chain [1] done processing\n"
     ]
    },
    {
     "name": "stdout",
     "output_type": "stream",
     "text": [
      "It's underpredicted.\n",
      "Monthly Error: 42.86 Period MAE: 43.24\n"
     ]
    },
    {
     "name": "stderr",
     "output_type": "stream",
     "text": [
      "22:24:34 - cmdstanpy - INFO - Chain [1] start processing\n",
      "22:24:34 - cmdstanpy - INFO - Chain [1] done processing\n"
     ]
    },
    {
     "name": "stdout",
     "output_type": "stream",
     "text": [
      "It's underpredicted.\n",
      "Monthly Error: 15.69 Period MAE: 2.62\n"
     ]
    },
    {
     "name": "stderr",
     "output_type": "stream",
     "text": [
      "22:24:35 - cmdstanpy - INFO - Chain [1] start processing\n"
     ]
    },
    {
     "name": "stdout",
     "output_type": "stream",
     "text": [
      "It's underpredicted.\n",
      "Monthly Error: 40.92 Period MAE: 41.61\n"
     ]
    },
    {
     "name": "stderr",
     "output_type": "stream",
     "text": [
      "22:24:36 - cmdstanpy - INFO - Chain [1] done processing\n"
     ]
    },
    {
     "name": "stdout",
     "output_type": "stream",
     "text": [
      "It's overpredicted.\n",
      "Monthly Error: 20.59 Period MAE: 1.32\n"
     ]
    },
    {
     "name": "stderr",
     "output_type": "stream",
     "text": [
      "22:24:37 - cmdstanpy - INFO - Chain [1] start processing\n",
      "22:24:37 - cmdstanpy - INFO - Chain [1] done processing\n"
     ]
    },
    {
     "name": "stdout",
     "output_type": "stream",
     "text": [
      "It's overpredicted.\n",
      "Monthly Error: 26.68 Period MAE: 22.17\n",
      "It's underpredicted.\n",
      "Monthly Error: "
     ]
    },
    {
     "name": "stderr",
     "output_type": "stream",
     "text": [
      "22:24:38 - cmdstanpy - INFO - Chain [1] start processing\n"
     ]
    },
    {
     "name": "stdout",
     "output_type": "stream",
     "text": [
      "43.55 Period MAE: 43.89\n"
     ]
    },
    {
     "name": "stderr",
     "output_type": "stream",
     "text": [
      "22:24:38 - cmdstanpy - INFO - Chain [1] start processing\n",
      "22:24:38 - cmdstanpy - INFO - Chain [1] done processing\n",
      "22:24:39 - cmdstanpy - INFO - Chain [1] start processing\n",
      "22:24:39 - cmdstanpy - INFO - Chain [1] done processing\n",
      "22:24:39 - cmdstanpy - INFO - Chain [1] done processing\n"
     ]
    },
    {
     "name": "stdout",
     "output_type": "stream",
     "text": [
      "It's underpredicted.\n",
      "Monthly Error: 44.99 Period MAE: 44.85\n"
     ]
    },
    {
     "name": "stderr",
     "output_type": "stream",
     "text": [
      "22:24:40 - cmdstanpy - INFO - Chain [1] start processing\n"
     ]
    },
    {
     "name": "stdout",
     "output_type": "stream",
     "text": [
      "It's overpredicted.\n"
     ]
    },
    {
     "name": "stderr",
     "output_type": "stream",
     "text": [
      "22:24:40 - cmdstanpy - INFO - Chain [1] done processing\n"
     ]
    },
    {
     "name": "stdout",
     "output_type": "stream",
     "text": [
      "Monthly Error: 14.26 Period MAE: 4.5600000000000005\n",
      "It's underpredicted.\n",
      "Monthly Error: 43.3 Period MAE: 44.269999999999996\n"
     ]
    },
    {
     "name": "stderr",
     "output_type": "stream",
     "text": [
      "22:24:41 - cmdstanpy - INFO - Chain [1] start processing\n",
      "22:24:41 - cmdstanpy - INFO - Chain [1] start processing\n",
      "22:24:42 - cmdstanpy - INFO - Chain [1] done processing\n",
      "22:24:42 - cmdstanpy - INFO - Chain [1] done processing\n"
     ]
    },
    {
     "name": "stdout",
     "output_type": "stream",
     "text": [
      "It's underpredicted.\n",
      "Monthly Error: 34.03 Period MAE:It's overpredicted. \n",
      "32.769999999999996Monthly Error: \n",
      "25.21 Period MAE: 11.77\n",
      "It's overpredicted.\n",
      "Monthly Error: 44.75 Period MAE: 9.26\n"
     ]
    },
    {
     "name": "stderr",
     "output_type": "stream",
     "text": [
      "22:24:44 - cmdstanpy - INFO - Chain [1] start processing\n",
      "22:24:44 - cmdstanpy - INFO - Chain [1] done processing\n",
      "22:24:44 - cmdstanpy - INFO - Chain [1] start processing\n",
      "22:24:45 - cmdstanpy - INFO - Chain [1] start processing\n",
      "22:24:45 - cmdstanpy - INFO - Chain [1] done processing\n",
      "22:24:45 - cmdstanpy - INFO - Chain [1] done processing\n"
     ]
    },
    {
     "name": "stdout",
     "output_type": "stream",
     "text": [
      "It's overpredicted.\n",
      "Monthly Error: 42.92 It's underpredicted.Period MAE: \n",
      "Monthly Error:4.24\n",
      " 45.43  Period MAE:45.29\n"
     ]
    },
    {
     "name": "stderr",
     "output_type": "stream",
     "text": [
      "22:24:46 - cmdstanpy - INFO - Chain [1] start processing\n",
      "22:24:46 - cmdstanpy - INFO - Chain [1] done processing\n",
      "22:24:47 - cmdstanpy - INFO - Chain [1] start processing\n"
     ]
    },
    {
     "name": "stdout",
     "output_type": "stream",
     "text": [
      "It's underpredicted.\n",
      "Monthly Error: 41.37 Period MAE:"
     ]
    },
    {
     "name": "stderr",
     "output_type": "stream",
     "text": [
      "22:24:47 - cmdstanpy - INFO - Chain [1] done processing\n"
     ]
    },
    {
     "name": "stdout",
     "output_type": "stream",
     "text": [
      " 41.55\n"
     ]
    },
    {
     "name": "stderr",
     "output_type": "stream",
     "text": [
      "22:24:48 - cmdstanpy - INFO - Chain [1] start processing\n",
      "22:24:48 - cmdstanpy - INFO - Chain [1] done processing\n"
     ]
    },
    {
     "name": "stdout",
     "output_type": "stream",
     "text": [
      "It's underpredicted.\n",
      "Monthly Error: 38.26 Period MAE: 37.38\n",
      "It's overpredicted.\n",
      "Monthly Error: 48.21 Period MAE: 6.32\n",
      "It's overpredicted.\n",
      "Monthly Error: 48.79 Period MAE: 7.85\n"
     ]
    },
    {
     "name": "stderr",
     "output_type": "stream",
     "text": [
      "22:24:51 - cmdstanpy - INFO - Chain [1] start processing\n",
      "22:24:51 - cmdstanpy - INFO - Chain [1] start processing\n",
      "22:24:51 - cmdstanpy - INFO - Chain [1] start processing\n",
      "22:24:51 - cmdstanpy - INFO - Chain [1] done processing\n",
      "22:24:51 - cmdstanpy - INFO - Chain [1] done processing\n",
      "22:24:51 - cmdstanpy - INFO - Chain [1] done processing\n"
     ]
    },
    {
     "name": "stdout",
     "output_type": "stream",
     "text": [
      "It's underpredicted.\n",
      "Monthly Error: 43.63 Period MAE: 5.46\n"
     ]
    },
    {
     "name": "stderr",
     "output_type": "stream",
     "text": [
      "22:24:53 - cmdstanpy - INFO - Chain [1] start processing\n"
     ]
    },
    {
     "name": "stdout",
     "output_type": "stream",
     "text": [
      "It's underpredicted.\n",
      "Monthly Error: 47.4 Period MAE: 47.74\n"
     ]
    },
    {
     "name": "stderr",
     "output_type": "stream",
     "text": [
      "22:24:53 - cmdstanpy - INFO - Chain [1] done processing\n"
     ]
    },
    {
     "name": "stdout",
     "output_type": "stream",
     "text": [
      "It's underpredicted.\n",
      "Monthly Error:"
     ]
    },
    {
     "name": "stderr",
     "output_type": "stream",
     "text": [
      "22:24:54 - cmdstanpy - INFO - Chain [1] start processing\n"
     ]
    },
    {
     "name": "stdout",
     "output_type": "stream",
     "text": [
      " 41.92 Period MAE: 42.29\n"
     ]
    },
    {
     "name": "stderr",
     "output_type": "stream",
     "text": [
      "22:24:54 - cmdstanpy - INFO - Chain [1] done processing\n",
      "22:24:54 - cmdstanpy - INFO - Chain [1] start processing\n",
      "22:24:55 - cmdstanpy - INFO - Chain [1] done processing\n"
     ]
    },
    {
     "name": "stdout",
     "output_type": "stream",
     "text": [
      "It's underpredicted.\n",
      "Monthly Error: 43.02 Period MAE: 42.67\n",
      "It's underpredicted.\n",
      "Monthly Error: 49.97 Period MAE: 0.9400000000000001\n",
      "It's overpredicted.\n",
      "Monthly Error: 44.47 Period MAE: 6.64\n"
     ]
    },
    {
     "name": "stderr",
     "output_type": "stream",
     "text": [
      "22:24:57 - cmdstanpy - INFO - Chain [1] start processing\n",
      "22:24:57 - cmdstanpy - INFO - Chain [1] start processing\n",
      "22:24:57 - cmdstanpy - INFO - Chain [1] start processing\n",
      "22:24:57 - cmdstanpy - INFO - Chain [1] done processing\n",
      "22:24:57 - cmdstanpy - INFO - Chain [1] done processing\n",
      "22:24:58 - cmdstanpy - INFO - Chain [1] done processing\n"
     ]
    },
    {
     "name": "stdout",
     "output_type": "stream",
     "text": [
      "It's overpredicted.\n",
      "Monthly Error: 42.73 Period MAE: 0.79\n",
      "It's underpredicted.\n",
      "Monthly Error: 51.51 Period MAE: 52.38\n"
     ]
    },
    {
     "name": "stderr",
     "output_type": "stream",
     "text": [
      "22:24:59 - cmdstanpy - INFO - Chain [1] start processing\n",
      "22:24:59 - cmdstanpy - INFO - Chain [1] done processing\n",
      "22:25:00 - cmdstanpy - INFO - Chain [1] start processing\n"
     ]
    },
    {
     "name": "stdout",
     "output_type": "stream",
     "text": [
      "It's underpredicted.\n",
      "Monthly Error: 40.41 Period MAE: 40.65\n"
     ]
    },
    {
     "name": "stderr",
     "output_type": "stream",
     "text": [
      "22:25:00 - cmdstanpy - INFO - Chain [1] done processing\n",
      "22:25:01 - cmdstanpy - INFO - Chain [1] start processing\n",
      "22:25:01 - cmdstanpy - INFO - Chain [1] done processing\n"
     ]
    },
    {
     "name": "stdout",
     "output_type": "stream",
     "text": [
      "It's underpredicted.\n",
      "Monthly Error: 48.45 Period MAE: 49.39\n",
      "It's underpredicted.\n",
      "Monthly Error: 23.44 Period MAE: 16.76\n",
      "It's overpredicted.\n",
      "Monthly Error: 48.74 Period MAE: 3.6700000000000004\n"
     ]
    },
    {
     "name": "stderr",
     "output_type": "stream",
     "text": [
      "22:25:03 - cmdstanpy - INFO - Chain [1] start processing\n",
      "22:25:03 - cmdstanpy - INFO - Chain [1] done processing\n",
      "22:25:04 - cmdstanpy - INFO - Chain [1] start processing\n",
      "22:25:04 - cmdstanpy - INFO - Chain [1] start processing\n",
      "22:25:04 - cmdstanpy - INFO - Chain [1] done processing\n",
      "22:25:04 - cmdstanpy - INFO - Chain [1] done processing\n"
     ]
    },
    {
     "name": "stdout",
     "output_type": "stream",
     "text": [
      "It's underpredicted.\n",
      "Monthly Error: 48.81 Period MAE: 49.769999999999996\n"
     ]
    },
    {
     "name": "stderr",
     "output_type": "stream",
     "text": [
      "22:25:06 - cmdstanpy - INFO - Chain [1] start processing\n",
      "22:25:06 - cmdstanpy - INFO - Chain [1] done processing\n"
     ]
    },
    {
     "name": "stdout",
     "output_type": "stream",
     "text": [
      "It's underpredicted.\n",
      "Monthly Error: 48.98 Period MAE: 50.05It's underpredicted.\n",
      "\n",
      "Monthly Error: 22.66 Period MAE: 15.790000000000001\n"
     ]
    },
    {
     "name": "stderr",
     "output_type": "stream",
     "text": [
      "22:25:07 - cmdstanpy - INFO - Chain [1] start processing\n",
      "22:25:07 - cmdstanpy - INFO - Chain [1] start processing\n",
      "22:25:07 - cmdstanpy - INFO - Chain [1] done processing\n",
      "22:25:08 - cmdstanpy - INFO - Chain [1] done processing\n"
     ]
    },
    {
     "name": "stdout",
     "output_type": "stream",
     "text": [
      "It's underpredicted.\n",
      "Monthly Error: 23.49 Period MAE: 16.82\n",
      "It's overpredicted.\n",
      "Monthly Error: 13.92 Period MAE: 1.49It's underpredicted.\n",
      "\n",
      "Monthly Error: 58.49 Period MAE: 58.67\n"
     ]
    },
    {
     "name": "stderr",
     "output_type": "stream",
     "text": [
      "22:25:10 - cmdstanpy - INFO - Chain [1] start processing\n",
      "22:25:10 - cmdstanpy - INFO - Chain [1] start processing\n",
      "22:25:10 - cmdstanpy - INFO - Chain [1] done processing\n",
      "22:25:10 - cmdstanpy - INFO - Chain [1] done processing\n",
      "22:25:11 - cmdstanpy - INFO - Chain [1] start processing\n"
     ]
    },
    {
     "name": "stdout",
     "output_type": "stream",
     "text": [
      "It's overpredicted.\n",
      "Monthly Error: 15.32 Period MAE: 6.25\n"
     ]
    },
    {
     "name": "stderr",
     "output_type": "stream",
     "text": [
      "22:25:11 - cmdstanpy - INFO - Chain [1] done processing\n"
     ]
    },
    {
     "name": "stdout",
     "output_type": "stream",
     "text": [
      "It's underpredicted.\n",
      "Monthly Error: 48.22 Period MAE: 49.13\n"
     ]
    },
    {
     "name": "stderr",
     "output_type": "stream",
     "text": [
      "22:25:11 - cmdstanpy - INFO - Chain [1] start processing\n",
      "22:25:12 - cmdstanpy - INFO - Chain [1] done processing\n",
      "22:25:12 - cmdstanpy - INFO - Chain [1] start processing\n"
     ]
    },
    {
     "name": "stdout",
     "output_type": "stream",
     "text": [
      "It's underpredicted.\n",
      "Monthly Error: 45.44 Period MAE: 46.11"
     ]
    },
    {
     "name": "stderr",
     "output_type": "stream",
     "text": [
      "22:25:12 - cmdstanpy - INFO - Chain [1] done processing\n"
     ]
    },
    {
     "name": "stdout",
     "output_type": "stream",
     "text": [
      "\n"
     ]
    },
    {
     "name": "stderr",
     "output_type": "stream",
     "text": [
      "22:25:13 - cmdstanpy - INFO - Chain [1] start processing\n",
      "22:25:14 - cmdstanpy - INFO - Chain [1] done processing\n"
     ]
    },
    {
     "name": "stdout",
     "output_type": "stream",
     "text": [
      "It's underpredicted.\n",
      "Monthly Error: 49.02 Period MAE: 50.019999999999996\n",
      "It's overpredicted.\n",
      "Monthly Error: 20.41 Period MAE: 8.03\n"
     ]
    },
    {
     "name": "stderr",
     "output_type": "stream",
     "text": [
      "22:25:15 - cmdstanpy - INFO - Chain [1] start processing\n"
     ]
    },
    {
     "name": "stdout",
     "output_type": "stream",
     "text": [
      "It's overpredicted.\n",
      "Monthly Error: 15.45 Period MAE: 5.4399999999999995\n"
     ]
    },
    {
     "name": "stderr",
     "output_type": "stream",
     "text": [
      "22:25:16 - cmdstanpy - INFO - Chain [1] start processing\n",
      "22:25:16 - cmdstanpy - INFO - Chain [1] done processing\n",
      "22:25:16 - cmdstanpy - INFO - Chain [1] start processing\n",
      "22:25:16 - cmdstanpy - INFO - Chain [1] done processing\n",
      "22:25:17 - cmdstanpy - INFO - Chain [1] done processing\n"
     ]
    },
    {
     "name": "stdout",
     "output_type": "stream",
     "text": [
      "It's overpredicted.\n",
      "Monthly Error: 21.12 Period MAE: 9.950000000000001\n",
      "It's underpredicted.\n",
      "Monthly Error: 45.02 Period MAE: 44.95\n"
     ]
    },
    {
     "name": "stderr",
     "output_type": "stream",
     "text": [
      "22:25:18 - cmdstanpy - INFO - Chain [1] start processing\n",
      "22:25:18 - cmdstanpy - INFO - Chain [1] done processing\n"
     ]
    },
    {
     "name": "stdout",
     "output_type": "stream",
     "text": [
      "It's underpredicted.\n",
      "Monthly Error: 50.45 Period MAE: 51.43\n"
     ]
    },
    {
     "name": "stderr",
     "output_type": "stream",
     "text": [
      "22:25:19 - cmdstanpy - INFO - Chain [1] start processing\n",
      "22:25:19 - cmdstanpy - INFO - Chain [1] done processing\n",
      "22:25:19 - cmdstanpy - INFO - Chain [1] start processing\n",
      "22:25:20 - cmdstanpy - INFO - Chain [1] done processing\n"
     ]
    },
    {
     "name": "stdout",
     "output_type": "stream",
     "text": [
      "It's underpredicted.\n",
      "Monthly Error: 47.47 Period MAE: 47.620000000000005\n",
      "It's overpredicted.\n",
      "Monthly Error: 22.24 Period MAE: 13.86\n",
      "It's underpredicted.\n",
      "Monthly Error: 39.43"
     ]
    },
    {
     "name": "stderr",
     "output_type": "stream",
     "text": [
      "22:25:22 - cmdstanpy - INFO - Chain [1] start processing\n"
     ]
    },
    {
     "name": "stdout",
     "output_type": "stream",
     "text": [
      " Period MAE: 5.050000000000001\n"
     ]
    },
    {
     "name": "stderr",
     "output_type": "stream",
     "text": [
      "22:25:22 - cmdstanpy - INFO - Chain [1] start processing\n",
      "22:25:22 - cmdstanpy - INFO - Chain [1] done processing\n",
      "22:25:22 - cmdstanpy - INFO - Chain [1] start processing\n",
      "22:25:22 - cmdstanpy - INFO - Chain [1] done processing\n",
      "22:25:23 - cmdstanpy - INFO - Chain [1] done processing\n"
     ]
    },
    {
     "name": "stdout",
     "output_type": "stream",
     "text": [
      "It's underpredicted.\n",
      "Monthly Error: 39.84 Period MAE: 4.05\n",
      "It's underpredicted.\n",
      "Monthly Error: 50.75 Period MAE: 51.43\n"
     ]
    },
    {
     "name": "stderr",
     "output_type": "stream",
     "text": [
      "22:25:23 - cmdstanpy - INFO - Chain [1] start processing\n",
      "22:25:24 - cmdstanpy - INFO - Chain [1] done processing\n"
     ]
    },
    {
     "name": "stdout",
     "output_type": "stream",
     "text": [
      "It's underpredicted.\n",
      "Monthly Error: 47.56 Period MAE: 47.8\n"
     ]
    },
    {
     "name": "stderr",
     "output_type": "stream",
     "text": [
      "22:25:24 - cmdstanpy - INFO - Chain [1] start processing\n",
      "22:25:25 - cmdstanpy - INFO - Chain [1] done processing\n",
      "22:25:25 - cmdstanpy - INFO - Chain [1] start processing\n",
      "22:25:25 - cmdstanpy - INFO - Chain [1] done processing\n"
     ]
    },
    {
     "name": "stdout",
     "output_type": "stream",
     "text": [
      "It's underpredicted.\n",
      "Monthly Error: 52.21 Period MAE: 52.790000000000006\n",
      "It's underpredicted.\n",
      "Monthly Error:"
     ]
    },
    {
     "name": "stderr",
     "output_type": "stream",
     "text": [
      "22:30:48 - cmdstanpy - INFO - Chain [1] done processing\n"
     ]
    },
    {
     "name": "stdout",
     "output_type": "stream",
     "text": [
      "It's underpredicted.\n",
      "Monthly Error: 39.9 Period MAE: 40.07\n"
     ]
    },
    {
     "name": "stderr",
     "output_type": "stream",
     "text": [
      "22:30:49 - cmdstanpy - INFO - Chain [1] start processing\n",
      "22:30:49 - cmdstanpy - INFO - Chain [1] done processing\n"
     ]
    },
    {
     "name": "stdout",
     "output_type": "stream",
     "text": [
      "It's underpredicted.\n",
      "Monthly Error: 41.16 Period MAE: 41.68\n"
     ]
    },
    {
     "name": "stderr",
     "output_type": "stream",
     "text": [
      "22:30:51 - cmdstanpy - INFO - Chain [1] start processing\n"
     ]
    },
    {
     "name": "stdout",
     "output_type": "stream",
     "text": [
      "It's underpredicted.\n",
      "Monthly Error: 14.48 Period MAE: 3.83\n"
     ]
    },
    {
     "name": "stderr",
     "output_type": "stream",
     "text": [
      "22:30:51 - cmdstanpy - INFO - Chain [1] done processing\n",
      "22:30:52 - cmdstanpy - INFO - Chain [1] start processing\n"
     ]
    },
    {
     "name": "stdout",
     "output_type": "stream",
     "text": [
      "It's underpredicted.It's overpredicted.\n",
      "\n",
      "Monthly Error: 13.28"
     ]
    },
    {
     "name": "stderr",
     "output_type": "stream",
     "text": [
      "22:30:52 - cmdstanpy - INFO - Chain [1] done processing\n"
     ]
    },
    {
     "name": "stdout",
     "output_type": "stream",
     "text": [
      " Period MAE:Monthly Error:  5.88\n",
      "17.61 Period MAE: 3.56\n",
      "It's underpredicted.\n",
      "Monthly Error: 36.15 Period MAE: 35.65\n"
     ]
    },
    {
     "name": "stderr",
     "output_type": "stream",
     "text": [
      "22:30:54 - cmdstanpy - INFO - Chain [1] start processing\n",
      "22:30:54 - cmdstanpy - INFO - Chain [1] start processing\n",
      "22:30:54 - cmdstanpy - INFO - Chain [1] start processing\n",
      "22:30:54 - cmdstanpy - INFO - Chain [1] done processing\n",
      "22:30:54 - cmdstanpy - INFO - Chain [1] done processing\n",
      "22:30:54 - cmdstanpy - INFO - Chain [1] done processing\n"
     ]
    },
    {
     "name": "stdout",
     "output_type": "stream",
     "text": [
      "It's underpredicted.\n",
      "Monthly Error: 46.0 Period MAE: 46.160000000000004\n",
      "It's underpredicted.\n",
      "Monthly Error: 16.5 Period MAE: 8.82\n"
     ]
    },
    {
     "name": "stderr",
     "output_type": "stream",
     "text": [
      "22:30:56 - cmdstanpy - INFO - Chain [1] start processing\n",
      "22:30:56 - cmdstanpy - INFO - Chain [1] done processing\n",
      "22:30:56 - cmdstanpy - INFO - Chain [1] start processing\n"
     ]
    },
    {
     "name": "stdout",
     "output_type": "stream",
     "text": [
      "It's underpredicted.\n",
      "Monthly Error: 42.64 Period MAE: 43.35\n"
     ]
    },
    {
     "name": "stderr",
     "output_type": "stream",
     "text": [
      "22:30:57 - cmdstanpy - INFO - Chain [1] done processing\n",
      "22:30:57 - cmdstanpy - INFO - Chain [1] start processing\n",
      "22:30:57 - cmdstanpy - INFO - Chain [1] done processing\n"
     ]
    },
    {
     "name": "stdout",
     "output_type": "stream",
     "text": [
      "It's underpredicted.\n",
      "Monthly Error: 17.51 Period MAE: 3.91\n",
      "It's underpredicted.\n",
      "Monthly Error: 39.88 Period MAE: 39.1\n"
     ]
    },
    {
     "name": "stderr",
     "output_type": "stream",
     "text": [
      "22:30:59 - cmdstanpy - INFO - Chain [1] start processing\n"
     ]
    },
    {
     "name": "stdout",
     "output_type": "stream",
     "text": [
      "It's overpredicted.\n",
      "Monthly Error: 45.78 Period MAE:"
     ]
    },
    {
     "name": "stderr",
     "output_type": "stream",
     "text": [
      "22:31:00 - cmdstanpy - INFO - Chain [1] start processing\n"
     ]
    },
    {
     "name": "stdout",
     "output_type": "stream",
     "text": [
      " 11.09\n"
     ]
    },
    {
     "name": "stderr",
     "output_type": "stream",
     "text": [
      "22:31:00 - cmdstanpy - INFO - Chain [1] done processing\n",
      "22:31:00 - cmdstanpy - INFO - Chain [1] start processing\n",
      "22:31:00 - cmdstanpy - INFO - Chain [1] done processing\n",
      "22:31:00 - cmdstanpy - INFO - Chain [1] done processing\n"
     ]
    },
    {
     "name": "stdout",
     "output_type": "stream",
     "text": [
      "It's underpredicted.\n",
      "Monthly Error: 41.45 Period MAE: 0.63\n"
     ]
    },
    {
     "name": "stderr",
     "output_type": "stream",
     "text": [
      "22:31:01 - cmdstanpy - INFO - Chain [1] start processing\n",
      "22:31:02 - cmdstanpy - INFO - Chain [1] done processing\n"
     ]
    },
    {
     "name": "stdout",
     "output_type": "stream",
     "text": [
      "It's underpredicted.\n",
      "Monthly Error: 45.5 Period MAE: 45.53\n",
      "It's underpredicted.\n",
      "Monthly Error: 41.32 Period MAE: 41.27\n"
     ]
    },
    {
     "name": "stderr",
     "output_type": "stream",
     "text": [
      "22:31:03 - cmdstanpy - INFO - Chain [1] start processing\n",
      "22:31:03 - cmdstanpy - INFO - Chain [1] done processing\n",
      "22:31:04 - cmdstanpy - INFO - Chain [1] start processing\n",
      "22:31:04 - cmdstanpy - INFO - Chain [1] done processing\n"
     ]
    },
    {
     "name": "stdout",
     "output_type": "stream",
     "text": [
      "It's underpredicted.\n",
      "Monthly Error: 43.88 Period MAE: 1.72\n"
     ]
    },
    {
     "name": "stderr",
     "output_type": "stream",
     "text": [
      "22:31:05 - cmdstanpy - INFO - Chain [1] start processing\n"
     ]
    },
    {
     "name": "stdout",
     "output_type": "stream",
     "text": [
      "It's underpredicted.\n",
      "Monthly Error: 42.72"
     ]
    },
    {
     "name": "stderr",
     "output_type": "stream",
     "text": [
      "22:31:06 - cmdstanpy - INFO - Chain [1] done processing\n"
     ]
    },
    {
     "name": "stdout",
     "output_type": "stream",
     "text": [
      " Period MAE: 42.3\n",
      "It's underpredicted.\n",
      "Monthly Error: 45.09 Period MAE: 1.8800000000000001\n"
     ]
    },
    {
     "name": "stderr",
     "output_type": "stream",
     "text": [
      "22:31:07 - cmdstanpy - INFO - Chain [1] start processing\n",
      "22:31:07 - cmdstanpy - INFO - Chain [1] done processing\n",
      "22:31:07 - cmdstanpy - INFO - Chain [1] start processing\n",
      "22:31:08 - cmdstanpy - INFO - Chain [1] done processing\n"
     ]
    },
    {
     "name": "stdout",
     "output_type": "stream",
     "text": [
      "It's underpredicted.\n",
      "Monthly Error: 43.32 Period MAE: 43.51\n",
      "It's overpredicted.\n",
      "Monthly Error: 48.31 It's underpredicted.Period MAE:\n",
      " Monthly Error: 5.3\n",
      "42.92 Period MAE: 42.78\n"
     ]
    },
    {
     "name": "stderr",
     "output_type": "stream",
     "text": [
      "22:31:09 - cmdstanpy - INFO - Chain [1] start processing\n",
      "22:31:09 - cmdstanpy - INFO - Chain [1] done processing\n",
      "22:31:09 - cmdstanpy - INFO - Chain [1] start processing\n",
      "22:31:09 - cmdstanpy - INFO - Chain [1] start processing\n",
      "22:31:10 - cmdstanpy - INFO - Chain [1] done processing\n",
      "22:31:10 - cmdstanpy - INFO - Chain [1] done processing\n"
     ]
    },
    {
     "name": "stdout",
     "output_type": "stream",
     "text": [
      "It's underpredicted.\n",
      "Monthly Error: 41.91 Period MAE: 41.47\n",
      "It's underpredicted.\n",
      "Monthly Error: 46.7 Period MAE: It's overpredicted.2.5100000000000002\n",
      "\n",
      "Monthly Error: 42.06 Period MAE: 0.19\n"
     ]
    },
    {
     "name": "stderr",
     "output_type": "stream",
     "text": [
      "22:31:13 - cmdstanpy - INFO - Chain [1] start processing\n",
      "22:31:13 - cmdstanpy - INFO - Chain [1] start processing\n",
      "22:31:13 - cmdstanpy - INFO - Chain [1] done processing\n",
      "22:31:13 - cmdstanpy - INFO - Chain [1] done processing\n",
      "22:31:13 - cmdstanpy - INFO - Chain [1] start processing\n"
     ]
    },
    {
     "name": "stdout",
     "output_type": "stream",
     "text": [
      "It's underpredicted.\n"
     ]
    },
    {
     "name": "stderr",
     "output_type": "stream",
     "text": [
      "22:31:14 - cmdstanpy - INFO - Chain [1] done processing\n"
     ]
    },
    {
     "name": "stdout",
     "output_type": "stream",
     "text": [
      "Monthly Error: 43.97 Period MAE: 44.29\n",
      "It's underpredicted.\n",
      "Monthly Error: 41.76 Period MAE: 1.5599999999999998\n"
     ]
    },
    {
     "name": "stderr",
     "output_type": "stream",
     "text": [
      "22:31:14 - cmdstanpy - INFO - Chain [1] start processing\n",
      "22:31:14 - cmdstanpy - INFO - Chain [1] done processing\n",
      "22:31:15 - cmdstanpy - INFO - Chain [1] start processing\n",
      "22:31:15 - cmdstanpy - INFO - Chain [1] done processing\n"
     ]
    },
    {
     "name": "stdout",
     "output_type": "stream",
     "text": [
      "It's underpredicted.\n",
      "Monthly Error: 46.2 Period MAE: 46.69\n"
     ]
    },
    {
     "name": "stderr",
     "output_type": "stream",
     "text": [
      "22:31:17 - cmdstanpy - INFO - Chain [1] start processing\n"
     ]
    },
    {
     "name": "stdout",
     "output_type": "stream",
     "text": [
      "It's underpredicted.\n",
      "Monthly Error: 50.0 Period MAE: "
     ]
    },
    {
     "name": "stderr",
     "output_type": "stream",
     "text": [
      "22:31:17 - cmdstanpy - INFO - Chain [1] done processing\n"
     ]
    },
    {
     "name": "stdout",
     "output_type": "stream",
     "text": [
      "50.849999999999994\n",
      "It's underpredicted.\n",
      "Monthly Error: 24.87 Period MAE: 18.75\n"
     ]
    },
    {
     "name": "stderr",
     "output_type": "stream",
     "text": [
      "22:31:19 - cmdstanpy - INFO - Chain [1] start processing\n",
      "22:31:19 - cmdstanpy - INFO - Chain [1] start processing\n",
      "22:31:19 - cmdstanpy - INFO - Chain [1] done processing\n"
     ]
    },
    {
     "name": "stdout",
     "output_type": "stream",
     "text": [
      "It's underpredicted.\n",
      "Monthly Error: 43.79 Period MAE: 2.76\n"
     ]
    },
    {
     "name": "stderr",
     "output_type": "stream",
     "text": [
      "22:31:20 - cmdstanpy - INFO - Chain [1] done processing\n",
      "22:31:20 - cmdstanpy - INFO - Chain [1] start processing\n",
      "22:31:20 - cmdstanpy - INFO - Chain [1] done processing\n"
     ]
    },
    {
     "name": "stdout",
     "output_type": "stream",
     "text": [
      "It's underpredicted.\n",
      "Monthly Error: 19.47 Period MAE: 12.379999999999999\n"
     ]
    },
    {
     "name": "stderr",
     "output_type": "stream",
     "text": [
      "22:31:21 - cmdstanpy - INFO - Chain [1] start processing\n",
      "22:31:21 - cmdstanpy - INFO - Chain [1] done processing\n"
     ]
    },
    {
     "name": "stdout",
     "output_type": "stream",
     "text": [
      "It's underpredicted.\n",
      "Monthly Error: 46.28 Period MAE: 46.77\n",
      "It's underpredicted.\n",
      "Monthly Error: 51.49 Period MAE: 52.35999999999999\n"
     ]
    },
    {
     "name": "stderr",
     "output_type": "stream",
     "text": [
      "22:31:22 - cmdstanpy - INFO - Chain [1] start processing\n",
      "22:31:23 - cmdstanpy - INFO - Chain [1] done processing\n",
      "22:31:23 - cmdstanpy - INFO - Chain [1] start processing\n",
      "22:31:23 - cmdstanpy - INFO - Chain [1] done processing\n"
     ]
    },
    {
     "name": "stdout",
     "output_type": "stream",
     "text": [
      "It's underpredicted.\n",
      "Monthly Error: 21.57 Period MAE: 14.92It's underpredicted.\n",
      "\n",
      "Monthly Error: 49.14 Period MAE: 49.980000000000004\n",
      "It's overpredicted.\n",
      "Monthly Error: 14.24 Period MAE: 3.71\n"
     ]
    },
    {
     "name": "stderr",
     "output_type": "stream",
     "text": [
      "22:31:25 - cmdstanpy - INFO - Chain [1] start processing\n",
      "22:31:25 - cmdstanpy - INFO - Chain [1] start processing\n",
      "22:31:25 - cmdstanpy - INFO - Chain [1] done processing\n",
      "22:31:26 - cmdstanpy - INFO - Chain [1] start processing\n",
      "22:31:26 - cmdstanpy - INFO - Chain [1] done processing\n",
      "22:31:26 - cmdstanpy - INFO - Chain [1] done processing\n"
     ]
    },
    {
     "name": "stdout",
     "output_type": "stream",
     "text": [
      "It's overpredicted.\n",
      "Monthly Error: 14.52 Period MAE: 4.55\n",
      "It's underpredicted.\n"
     ]
    },
    {
     "name": "stderr",
     "output_type": "stream",
     "text": [
      "22:31:27 - cmdstanpy - INFO - Chain [1] start processing\n"
     ]
    },
    {
     "name": "stdout",
     "output_type": "stream",
     "text": [
      "Monthly Error: 40.89 Period MAE: 40.93\n"
     ]
    },
    {
     "name": "stderr",
     "output_type": "stream",
     "text": [
      "22:31:27 - cmdstanpy - INFO - Chain [1] done processing\n",
      "22:31:28 - cmdstanpy - INFO - Chain [1] start processing\n"
     ]
    },
    {
     "name": "stdout",
     "output_type": "stream",
     "text": [
      "It's underpredicted.\n",
      "Monthly Error: 46.49 Period MAE: 47.089999999999996\n"
     ]
    },
    {
     "name": "stderr",
     "output_type": "stream",
     "text": [
      "22:31:28 - cmdstanpy - INFO - Chain [1] done processing\n",
      "22:31:29 - cmdstanpy - INFO - Chain [1] start processing\n",
      "22:31:29 - cmdstanpy - INFO - Chain [1] done processing\n"
     ]
    },
    {
     "name": "stdout",
     "output_type": "stream",
     "text": [
      "It's overpredicted.\n",
      "Monthly Error: 14.1 Period MAE: 2.85\n",
      "It's underpredicted.\n",
      "Monthly Error: 49.31 Period MAE: 50.19\n",
      "It's overpredicted.\n",
      "Monthly Error: 13.23 Period MAE: 4.61\n"
     ]
    },
    {
     "name": "stderr",
     "output_type": "stream",
     "text": [
      "22:31:31 - cmdstanpy - INFO - Chain [1] start processing\n",
      "22:31:31 - cmdstanpy - INFO - Chain [1] done processing\n",
      "22:31:31 - cmdstanpy - INFO - Chain [1] start processing\n",
      "22:31:32 - cmdstanpy - INFO - Chain [1] start processing\n",
      "22:31:32 - cmdstanpy - INFO - Chain [1] done processing\n",
      "22:31:32 - cmdstanpy - INFO - Chain [1] done processing\n"
     ]
    },
    {
     "name": "stdout",
     "output_type": "stream",
     "text": [
      "It's underpredicted.\n",
      "Monthly Error: 48.85 Period MAE: 48.809999999999995\n"
     ]
    },
    {
     "name": "stderr",
     "output_type": "stream",
     "text": [
      "22:31:33 - cmdstanpy - INFO - Chain [1] start processing\n",
      "22:31:33 - cmdstanpy - INFO - Chain [1] done processing\n"
     ]
    },
    {
     "name": "stdout",
     "output_type": "stream",
     "text": [
      "It's overpredicted.\n",
      "Monthly Error: 12.32 Period MAE: 0.53\n",
      "It's underpredicted.\n",
      "Monthly Error: 47.83 Period MAE: 48.58\n"
     ]
    },
    {
     "name": "stderr",
     "output_type": "stream",
     "text": [
      "22:31:34 - cmdstanpy - INFO - Chain [1] start processing\n",
      "22:31:34 - cmdstanpy - INFO - Chain [1] done processing\n",
      "22:31:35 - cmdstanpy - INFO - Chain [1] start processing\n",
      "22:31:35 - cmdstanpy - INFO - Chain [1] done processing\n"
     ]
    },
    {
     "name": "stdout",
     "output_type": "stream",
     "text": [
      "It's underpredicted.\n",
      "Monthly Error: 40.89 Period MAE: 1.49\n",
      "It's underpredicted.\n",
      "Monthly Error: 45.66 Period MAE: 45.410000000000004\n",
      "It's overpredicted.\n",
      "Monthly Error:"
     ]
    },
    {
     "name": "stderr",
     "output_type": "stream",
     "text": [
      "22:31:37 - cmdstanpy - INFO - Chain [1] start processing\n"
     ]
    },
    {
     "name": "stdout",
     "output_type": "stream",
     "text": [
      " 14.12"
     ]
    },
    {
     "name": "stderr",
     "output_type": "stream",
     "text": [
      "22:31:37 - cmdstanpy - INFO - Chain [1] start processing\n"
     ]
    },
    {
     "name": "stdout",
     "output_type": "stream",
     "text": [
      " Period MAE: 6.83\n"
     ]
    },
    {
     "name": "stderr",
     "output_type": "stream",
     "text": [
      "22:31:37 - cmdstanpy - INFO - Chain [1] done processing\n",
      "22:31:38 - cmdstanpy - INFO - Chain [1] start processing\n",
      "22:31:38 - cmdstanpy - INFO - Chain [1] done processing\n",
      "22:31:38 - cmdstanpy - INFO - Chain [1] done processing\n"
     ]
    },
    {
     "name": "stdout",
     "output_type": "stream",
     "text": [
      "It's overpredicted.\n",
      "Monthly Error: 44.38 Period MAE: 7.870000000000001\n",
      "It's underpredicted.\n",
      "Monthly Error: 50.55 Period MAE: 50.79\n",
      "It's underpredicted.\n",
      "Monthly Error: 53.56 Period MAE: 54.09\n"
     ]
    },
    {
     "name": "stderr",
     "output_type": "stream",
     "text": [
      "22:31:40 - cmdstanpy - INFO - Chain [1] start processing\n",
      "22:31:40 - cmdstanpy - INFO - Chain [1] done processing\n",
      "22:31:40 - cmdstanpy - INFO - Chain [1] start processing\n",
      "22:31:40 - cmdstanpy - INFO - Chain [1] done processing\n",
      "22:31:40 - cmdstanpy - INFO - Chain [1] start processing\n",
      "22:31:41 - cmdstanpy - INFO - Chain [1] done processing\n"
     ]
    },
    {
     "name": "stdout",
     "output_type": "stream",
     "text": [
      "It's overpredicted.\n",
      "Monthly Error: 45.62 Period MAE: 10.26\n",
      "It's underpredicted.\n",
      "Monthly Error: 44.03 Period MAE: 43.64\n"
     ]
    },
    {
     "name": "stderr",
     "output_type": "stream",
     "text": [
      "22:31:43 - cmdstanpy - INFO - Chain [1] start processing\n"
     ]
    },
    {
     "name": "stdout",
     "output_type": "stream",
     "text": [
      "It's overpredicted.\n",
      "Monthly Error: 44.24 Period MAE: 4.5\n"
     ]
    },
    {
     "name": "stderr",
     "output_type": "stream",
     "text": [
      "22:31:43 - cmdstanpy - INFO - Chain [1] done processing\n",
      "22:31:44 - cmdstanpy - INFO - Chain [1] start processing\n",
      "22:31:44 - cmdstanpy - INFO - Chain [1] start processing\n"
     ]
    },
    {
     "name": "stdout",
     "output_type": "stream",
     "text": [
      "It's overpredicted.\n",
      "Monthly Error:"
     ]
    },
    {
     "name": "stderr",
     "output_type": "stream",
     "text": [
      "22:31:44 - cmdstanpy - INFO - Chain [1] done processing\n"
     ]
    },
    {
     "name": "stdout",
     "output_type": "stream",
     "text": [
      " 45.96 Period MAE: 8.98\n"
     ]
    },
    {
     "name": "stderr",
     "output_type": "stream",
     "text": [
      "22:31:44 - cmdstanpy - INFO - Chain [1] start processing\n",
      "22:31:44 - cmdstanpy - INFO - Chain [1] done processing\n",
      "22:31:44 - cmdstanpy - INFO - Chain [1] done processing\n"
     ]
    },
    {
     "name": "stdout",
     "output_type": "stream",
     "text": [
      "It's underpredicted.\n",
      "Monthly Error: 45.47 Period MAE: 45.22\n"
     ]
    },
    {
     "name": "stderr",
     "output_type": "stream",
     "text": [
      "22:31:46 - cmdstanpy - INFO - Chain [1] start processing\n"
     ]
    },
    {
     "name": "stdout",
     "output_type": "stream",
     "text": [
      "It's underpredicted.\n",
      "Monthly Error: 47.92 Period MAE: 48.02\n"
     ]
    },
    {
     "name": "stderr",
     "output_type": "stream",
     "text": [
      "22:31:46 - cmdstanpy - INFO - Chain [1] done processing\n",
      "22:31:47 - cmdstanpy - INFO - Chain [1] start processing\n",
      "22:31:47 - cmdstanpy - INFO - Chain [1] done processing\n"
     ]
    },
    {
     "name": "stdout",
     "output_type": "stream",
     "text": [
      "It's overpredicted.\n",
      "Monthly Error: 43.64 Period MAE:It's underpredicted. \n",
      "4.72\n",
      "Monthly Error: 45.61 Period MAE: 45.34\n"
     ]
    },
    {
     "name": "stderr",
     "output_type": "stream",
     "text": [
      "22:31:49 - cmdstanpy - INFO - Chain [1] start processing\n"
     ]
    },
    {
     "name": "stdout",
     "output_type": "stream",
     "text": [
      "It's overpredicted.\n",
      "Monthly Error: 43.55 Period MAE: 2.4899999999999998\n"
     ]
    },
    {
     "name": "stderr",
     "output_type": "stream",
     "text": [
      "22:31:50 - cmdstanpy - INFO - Chain [1] done processing\n",
      "22:31:50 - cmdstanpy - INFO - Chain [1] start processing\n",
      "22:31:50 - cmdstanpy - INFO - Chain [1] done processing\n"
     ]
    },
    {
     "name": "stdout",
     "output_type": "stream",
     "text": [
      "It's underpredicted.\n",
      "Monthly Error: 40.7 Period MAE: 3.53\n",
      "It's underpredicted.\n",
      "Monthly Error: 48.56 Period MAE: 48.64\n",
      "It's overpredicted.\n",
      "Monthly Error: 42.71 Period MAE: 2.0\n"
     ]
    },
    {
     "name": "stderr",
     "output_type": "stream",
     "text": [
      "100%|██████████| 1/1 [15:27<00:00, 927.66s/it]\n",
      "22:31:55 - cmdstanpy - INFO - Chain [1] start processing\n",
      "22:31:55 - cmdstanpy - INFO - Chain [1] start processing\n",
      "22:31:55 - cmdstanpy - INFO - Chain [1] done processing\n",
      "22:31:55 - cmdstanpy - INFO - Chain [1] done processing\n",
      "22:31:55 - cmdstanpy - INFO - Chain [1] start processing\n",
      "22:31:56 - cmdstanpy - INFO - Chain [1] start processing\n",
      "22:31:56 - cmdstanpy - INFO - Chain [1] done processing\n",
      "22:31:56 - cmdstanpy - INFO - Chain [1] done processing\n"
     ]
    },
    {
     "name": "stdout",
     "output_type": "stream",
     "text": [
      "It's underpredicted.\n",
      "Monthly Error: 17.93 Period MAE: 16.42\n",
      "It's underpredicted.\n",
      "Monthly Error:"
     ]
    },
    {
     "name": "stderr",
     "output_type": "stream",
     "text": [
      "22:31:57 - cmdstanpy - INFO - Chain [1] start processing\n"
     ]
    },
    {
     "name": "stdout",
     "output_type": "stream",
     "text": [
      " 19.79 Period MAE: 18.5\n"
     ]
    },
    {
     "name": "stderr",
     "output_type": "stream",
     "text": [
      "22:31:58 - cmdstanpy - INFO - Chain [1] done processing\n"
     ]
    },
    {
     "name": "stdout",
     "output_type": "stream",
     "text": [
      "It's underpredicted.\n",
      "Monthly Error: 16.77 Period MAE: 18.529999999999998\n"
     ]
    },
    {
     "name": "stderr",
     "output_type": "stream",
     "text": [
      "22:31:59 - cmdstanpy - INFO - Chain [1] start processing\n",
      "22:31:59 - cmdstanpy - INFO - Chain [1] start processing\n",
      "22:31:59 - cmdstanpy - INFO - Chain [1] done processing\n",
      "22:31:59 - cmdstanpy - INFO - Chain [1] done processing\n"
     ]
    },
    {
     "name": "stdout",
     "output_type": "stream",
     "text": [
      "It's underpredicted.\n",
      "Monthly Error: 16.09 Period MAE: 17.740000000000002\n",
      "It's underpredicted.\n",
      "Monthly Error: 20.46 Period MAE:"
     ]
    },
    {
     "name": "stderr",
     "output_type": "stream",
     "text": [
      "22:32:00 - cmdstanpy - INFO - Chain [1] start processing\n"
     ]
    },
    {
     "name": "stdout",
     "output_type": "stream",
     "text": [
      " 18.25\n"
     ]
    },
    {
     "name": "stderr",
     "output_type": "stream",
     "text": [
      "22:32:00 - cmdstanpy - INFO - Chain [1] done processing\n"
     ]
    },
    {
     "name": "stdout",
     "output_type": "stream",
     "text": [
      "It's underpredicted.\n",
      "Monthly Error: 18.42 Period MAE: 17.130000000000003\n"
     ]
    },
    {
     "name": "stderr",
     "output_type": "stream",
     "text": [
      "22:32:01 - cmdstanpy - INFO - Chain [1] start processing\n",
      "22:32:02 - cmdstanpy - INFO - Chain [1] done processing\n",
      "22:32:02 - cmdstanpy - INFO - Chain [1] start processing\n",
      "22:32:02 - cmdstanpy - INFO - Chain [1] done processing\n"
     ]
    },
    {
     "name": "stdout",
     "output_type": "stream",
     "text": [
      "It's underpredicted.\n",
      "Monthly Error: 15.87 Period MAE: 15.129999999999999\n"
     ]
    },
    {
     "name": "stderr",
     "output_type": "stream",
     "text": [
      "22:32:04 - cmdstanpy - INFO - Chain [1] start processing\n"
     ]
    },
    {
     "name": "stdout",
     "output_type": "stream",
     "text": [
      "It's overpredicted.\n",
      "Monthly Error: 30.39 Period MAE: 23.98It's underpredicted.\n",
      "\n",
      "Monthly Error: 20.67 Period MAE: 19.900000000000002\n"
     ]
    },
    {
     "name": "stderr",
     "output_type": "stream",
     "text": [
      "22:32:05 - cmdstanpy - INFO - Chain [1] start processing\n",
      "22:32:05 - cmdstanpy - INFO - Chain [1] done processing\n",
      "22:32:06 - cmdstanpy - INFO - Chain [1] done processing\n",
      "22:32:06 - cmdstanpy - INFO - Chain [1] start processing\n",
      "22:32:07 - cmdstanpy - INFO - Chain [1] done processing\n"
     ]
    },
    {
     "name": "stdout",
     "output_type": "stream",
     "text": [
      "It's overpredicted.\n",
      "Monthly Error: 30.15 Period MAE: 24.33\n"
     ]
    },
    {
     "name": "stderr",
     "output_type": "stream",
     "text": [
      "22:32:07 - cmdstanpy - INFO - Chain [1] start processing\n"
     ]
    },
    {
     "name": "stdout",
     "output_type": "stream",
     "text": [
      "It's underpredicted.\n",
      "Monthly Error: 19.65 Period MAE: "
     ]
    },
    {
     "name": "stderr",
     "output_type": "stream",
     "text": [
      "22:32:07 - cmdstanpy - INFO - Chain [1] done processing\n"
     ]
    },
    {
     "name": "stdout",
     "output_type": "stream",
     "text": [
      "18.310000000000002\n",
      "It's underpredicted.\n",
      "Monthly Error: 20.22 Period MAE: 17.91\n"
     ]
    },
    {
     "name": "stderr",
     "output_type": "stream",
     "text": [
      "22:32:08 - cmdstanpy - INFO - Chain [1] start processing\n",
      "22:32:08 - cmdstanpy - INFO - Chain [1] start processing\n",
      "22:32:09 - cmdstanpy - INFO - Chain [1] done processing\n",
      "22:32:09 - cmdstanpy - INFO - Chain [1] done processing\n"
     ]
    },
    {
     "name": "stdout",
     "output_type": "stream",
     "text": [
      "It's underpredicted.\n",
      "Monthly Error: 22.08 Period MAE: 21.19\n",
      "It's overpredicted.\n",
      "Monthly Error: 28.74 Period MAE: 23.04\n",
      "It's overpredicted.\n",
      "Monthly Error: 12.68 Period MAE: 2.8400000000000003\n"
     ]
    },
    {
     "name": "stderr",
     "output_type": "stream",
     "text": [
      "22:32:11 - cmdstanpy - INFO - Chain [1] start processing\n",
      "22:32:11 - cmdstanpy - INFO - Chain [1] start processing\n",
      "22:32:12 - cmdstanpy - INFO - Chain [1] start processing\n",
      "22:32:12 - cmdstanpy - INFO - Chain [1] done processing\n",
      "22:32:12 - cmdstanpy - INFO - Chain [1] done processing\n",
      "22:32:12 - cmdstanpy - INFO - Chain [1] done processing\n"
     ]
    },
    {
     "name": "stdout",
     "output_type": "stream",
     "text": [
      "It's overpredicted.\n",
      "Monthly Error: 11.83 Period MAE: 2.67\n",
      "It's underpredicted."
     ]
    },
    {
     "name": "stderr",
     "output_type": "stream",
     "text": [
      "22:32:13 - cmdstanpy - INFO - Chain [1] start processing\n"
     ]
    },
    {
     "name": "stdout",
     "output_type": "stream",
     "text": [
      "\n",
      "Monthly Error: 18.79 Period MAE: 17.65\n"
     ]
    },
    {
     "name": "stderr",
     "output_type": "stream",
     "text": [
      "22:32:13 - cmdstanpy - INFO - Chain [1] done processing\n",
      "22:32:14 - cmdstanpy - INFO - Chain [1] start processing\n"
     ]
    },
    {
     "name": "stdout",
     "output_type": "stream",
     "text": [
      "It's underpredicted."
     ]
    },
    {
     "name": "stderr",
     "output_type": "stream",
     "text": [
      "22:32:14 - cmdstanpy - INFO - Chain [1] done processing\n"
     ]
    },
    {
     "name": "stdout",
     "output_type": "stream",
     "text": [
      "\n",
      "Monthly Error: 22.21 Period MAE: 20.39\n"
     ]
    },
    {
     "name": "stderr",
     "output_type": "stream",
     "text": [
      "22:32:15 - cmdstanpy - INFO - Chain [1] start processing\n",
      "22:32:16 - cmdstanpy - INFO - Chain [1] done processing\n"
     ]
    },
    {
     "name": "stdout",
     "output_type": "stream",
     "text": [
      "It's underpredicted.\n",
      "Monthly Error: 20.21 Period MAE: 19.2\n",
      "It's underpredicted.\n",
      "Monthly Error: 22.09 Period MAE:It's overpredicted. 22.97\n",
      "Monthly Error: \n",
      "12.2 Period MAE: 2.62\n"
     ]
    },
    {
     "name": "stderr",
     "output_type": "stream",
     "text": [
      "22:32:17 - cmdstanpy - INFO - Chain [1] start processing\n",
      "22:32:17 - cmdstanpy - INFO - Chain [1] start processing\n",
      "22:32:18 - cmdstanpy - INFO - Chain [1] done processing\n",
      "22:32:18 - cmdstanpy - INFO - Chain [1] start processing\n",
      "22:32:18 - cmdstanpy - INFO - Chain [1] done processing\n",
      "22:32:18 - cmdstanpy - INFO - Chain [1] done processing\n"
     ]
    },
    {
     "name": "stdout",
     "output_type": "stream",
     "text": [
      "It's underpredicted.\n",
      "Monthly Error: 20.96 Period MAE: 21.66\n"
     ]
    },
    {
     "name": "stderr",
     "output_type": "stream",
     "text": [
      "22:32:19 - cmdstanpy - INFO - Chain [1] start processing\n",
      "22:32:19 - cmdstanpy - INFO - Chain [1] done processing\n"
     ]
    },
    {
     "name": "stdout",
     "output_type": "stream",
     "text": [
      "It's underpredicted.\n",
      "Monthly Error: 18.58 Period MAE: 17.32\n",
      "It's underpredicted.\n",
      "Monthly Error: 20.51 Period MAE: 18.4\n"
     ]
    },
    {
     "name": "stderr",
     "output_type": "stream",
     "text": [
      "22:32:21 - cmdstanpy - INFO - Chain [1] start processing\n",
      "22:32:21 - cmdstanpy - INFO - Chain [1] start processing\n",
      "22:32:21 - cmdstanpy - INFO - Chain [1] done processing\n",
      "22:32:21 - cmdstanpy - INFO - Chain [1] done processing\n"
     ]
    },
    {
     "name": "stdout",
     "output_type": "stream",
     "text": [
      "It's underpredicted.\n",
      "Monthly Error: 20.68 Period MAE: 19.67\n",
      "It's overpredicted.\n",
      "Monthly Error: 28.9 Period MAE: 20.64\n",
      "It's underpredicted.\n",
      "Monthly Error: 20.62 Period MAE:"
     ]
    },
    {
     "name": "stderr",
     "output_type": "stream",
     "text": [
      "22:32:23 - cmdstanpy - INFO - Chain [1] start processing\n"
     ]
    },
    {
     "name": "stdout",
     "output_type": "stream",
     "text": [
      " 19.78\n"
     ]
    },
    {
     "name": "stderr",
     "output_type": "stream",
     "text": [
      "22:32:24 - cmdstanpy - INFO - Chain [1] start processing\n",
      "22:32:24 - cmdstanpy - INFO - Chain [1] start processing\n",
      "22:32:24 - cmdstanpy - INFO - Chain [1] done processing\n",
      "22:32:24 - cmdstanpy - INFO - Chain [1] done processing\n",
      "22:32:24 - cmdstanpy - INFO - Chain [1] done processing\n"
     ]
    },
    {
     "name": "stdout",
     "output_type": "stream",
     "text": [
      "It's overpredicted.\n",
      "Monthly Error: 28.52 Period MAE: 21.67\n",
      "It's underpredicted.\n",
      "Monthly Error:"
     ]
    },
    {
     "name": "stderr",
     "output_type": "stream",
     "text": [
      "22:32:25 - cmdstanpy - INFO - Chain [1] start processing\n"
     ]
    },
    {
     "name": "stdout",
     "output_type": "stream",
     "text": [
      " 20.74 Period MAE: 19.939999999999998\n"
     ]
    },
    {
     "name": "stderr",
     "output_type": "stream",
     "text": [
      "22:32:26 - cmdstanpy - INFO - Chain [1] done processing\n"
     ]
    },
    {
     "name": "stdout",
     "output_type": "stream",
     "text": [
      "It's underpredicted.\n",
      "Monthly Error: 20.83 Period MAE:"
     ]
    },
    {
     "name": "stderr",
     "output_type": "stream",
     "text": [
      "22:32:26 - cmdstanpy - INFO - Chain [1] start processing\n"
     ]
    },
    {
     "name": "stdout",
     "output_type": "stream",
     "text": [
      " 18.85\n"
     ]
    },
    {
     "name": "stderr",
     "output_type": "stream",
     "text": [
      "22:32:27 - cmdstanpy - INFO - Chain [1] done processing\n",
      "22:32:27 - cmdstanpy - INFO - Chain [1] start processing\n",
      "22:32:27 - cmdstanpy - INFO - Chain [1] done processing\n"
     ]
    },
    {
     "name": "stdout",
     "output_type": "stream",
     "text": [
      "It's underpredicted.\n",
      "Monthly Error: 22.06 Period MAE: 20.990000000000002\n",
      "It's overpredicted.\n",
      "Monthly Error: 27.19 Period MAE: 20.89\n",
      "It's underpredicted.\n",
      "Monthly Error: 17.37 Period MAE: 5.6000000000000005\n"
     ]
    },
    {
     "name": "stderr",
     "output_type": "stream",
     "text": [
      "22:32:30 - cmdstanpy - INFO - Chain [1] start processing\n",
      "22:32:30 - cmdstanpy - INFO - Chain [1] start processing\n",
      "22:32:30 - cmdstanpy - INFO - Chain [1] start processing\n",
      "22:32:31 - cmdstanpy - INFO - Chain [1] done processing\n",
      "22:32:31 - cmdstanpy - INFO - Chain [1] done processing\n"
     ]
    },
    {
     "name": "stdout",
     "output_type": "stream",
     "text": [
      "It's underpredicted.\n",
      "Monthly Error: 16.83 Period MAE: 5.319999999999999\n"
     ]
    },
    {
     "name": "stderr",
     "output_type": "stream",
     "text": [
      "22:32:31 - cmdstanpy - INFO - Chain [1] done processing\n",
      "22:32:31 - cmdstanpy - INFO - Chain [1] start processing\n",
      "22:32:32 - cmdstanpy - INFO - Chain [1] done processing\n"
     ]
    },
    {
     "name": "stdout",
     "output_type": "stream",
     "text": [
      "It's underpredicted.\n",
      "Monthly Error: 22.83 Period MAE: 23.1\n"
     ]
    },
    {
     "name": "stderr",
     "output_type": "stream",
     "text": [
      "22:32:33 - cmdstanpy - INFO - Chain [1] start processing\n"
     ]
    },
    {
     "name": "stdout",
     "output_type": "stream",
     "text": [
      "It's underpredicted.\n",
      "Monthly Error: 22.73 "
     ]
    },
    {
     "name": "stderr",
     "output_type": "stream",
     "text": [
      "22:32:34 - cmdstanpy - INFO - Chain [1] done processing\n"
     ]
    },
    {
     "name": "stdout",
     "output_type": "stream",
     "text": [
      "Period MAE: 20.979999999999997\n"
     ]
    },
    {
     "name": "stderr",
     "output_type": "stream",
     "text": [
      "22:32:34 - cmdstanpy - INFO - Chain [1] start processing\n",
      "22:32:34 - cmdstanpy - INFO - Chain [1] done processing\n"
     ]
    },
    {
     "name": "stdout",
     "output_type": "stream",
     "text": [
      "It's overpredicted.\n",
      "Monthly Error: 20.49 Period MAE: 11.700000000000001\n",
      "It's underpredicted.\n",
      "Monthly Error: 22.84 Period MAE: 22.7\n",
      "It's underpredicted.\n",
      "Monthly Error: 17.29 Period MAE: 5.59\n"
     ]
    },
    {
     "name": "stderr",
     "output_type": "stream",
     "text": [
      "22:32:36 - cmdstanpy - INFO - Chain [1] start processing\n",
      "22:32:36 - cmdstanpy - INFO - Chain [1] start processing\n",
      "22:32:36 - cmdstanpy - INFO - Chain [1] done processing\n",
      "22:32:37 - cmdstanpy - INFO - Chain [1] start processing\n",
      "22:32:37 - cmdstanpy - INFO - Chain [1] done processing\n",
      "22:32:37 - cmdstanpy - INFO - Chain [1] done processing\n"
     ]
    },
    {
     "name": "stdout",
     "output_type": "stream",
     "text": [
      "It's underpredicted.\n",
      "Monthly Error: 17.68 Period MAE: 13.59\n",
      "It's overpredicted.\n",
      "Monthly Error: 20.34 Period MAE: 11.559999999999999\n"
     ]
    },
    {
     "name": "stderr",
     "output_type": "stream",
     "text": [
      "22:32:39 - cmdstanpy - INFO - Chain [1] start processing\n",
      "22:32:39 - cmdstanpy - INFO - Chain [1] done processing\n",
      "22:32:39 - cmdstanpy - INFO - Chain [1] start processing\n"
     ]
    },
    {
     "name": "stdout",
     "output_type": "stream",
     "text": [
      "It's underpredicted.\n",
      "Monthly Error: 24.45"
     ]
    },
    {
     "name": "stderr",
     "output_type": "stream",
     "text": [
      "22:32:40 - cmdstanpy - INFO - Chain [1] done processing\n"
     ]
    },
    {
     "name": "stdout",
     "output_type": "stream",
     "text": [
      " Period MAE: 23.3\n"
     ]
    },
    {
     "name": "stderr",
     "output_type": "stream",
     "text": [
      "22:32:41 - cmdstanpy - INFO - Chain [1] start processing\n",
      "22:32:41 - cmdstanpy - INFO - Chain [1] done processing\n"
     ]
    },
    {
     "name": "stdout",
     "output_type": "stream",
     "text": [
      "It's underpredicted.\n",
      "Monthly Error: 16.12 Period MAE: 9.48\n",
      "It's overpredicted.\n",
      "Monthly Error: 24.94 Period MAE: 16.6\n",
      "It's overpredicted.\n",
      "Monthly Error: 21.15 Period MAE: 12.509999999999998\n"
     ]
    },
    {
     "name": "stderr",
     "output_type": "stream",
     "text": [
      "22:32:43 - cmdstanpy - INFO - Chain [1] start processing\n",
      "22:32:43 - cmdstanpy - INFO - Chain [1] start processing\n",
      "22:32:43 - cmdstanpy - INFO - Chain [1] start processing\n",
      "22:32:43 - cmdstanpy - INFO - Chain [1] done processing\n",
      "22:32:43 - cmdstanpy - INFO - Chain [1] done processing\n",
      "22:32:44 - cmdstanpy - INFO - Chain [1] done processing\n"
     ]
    },
    {
     "name": "stdout",
     "output_type": "stream",
     "text": [
      "It's overpredicted.\n",
      "Monthly Error: 24.62 Period MAE: 16.27\n",
      "It's underpredicted.\n",
      "Monthly Error: 15.67 Period MAE: 9.049999999999999\n"
     ]
    },
    {
     "name": "stderr",
     "output_type": "stream",
     "text": [
      "22:32:45 - cmdstanpy - INFO - Chain [1] start processing\n",
      "22:32:45 - cmdstanpy - INFO - Chain [1] done processing\n",
      "22:32:46 - cmdstanpy - INFO - Chain [1] start processing\n"
     ]
    },
    {
     "name": "stdout",
     "output_type": "stream",
     "text": [
      "It's underpredicted.\n",
      "Monthly Error: 22.07 Period MAE: 19.88\n"
     ]
    },
    {
     "name": "stderr",
     "output_type": "stream",
     "text": [
      "22:32:47 - cmdstanpy - INFO - Chain [1] done processing\n",
      "22:32:47 - cmdstanpy - INFO - Chain [1] start processing\n",
      "22:32:47 - cmdstanpy - INFO - Chain [1] done processing\n"
     ]
    },
    {
     "name": "stdout",
     "output_type": "stream",
     "text": [
      "It's overpredicted.\n",
      "Monthly Error: 23.92 Period MAE: 15.64\n",
      "It's underpredicted.\n",
      "Monthly Error: 14.67 Period MAE: 5.800000000000001\n",
      "It's overpredicted.\n",
      "Monthly Error: 33.71 Period MAE: 26.529999999999998\n"
     ]
    },
    {
     "name": "stderr",
     "output_type": "stream",
     "text": [
      "22:32:49 - cmdstanpy - INFO - Chain [1] start processing\n",
      "22:32:50 - cmdstanpy - INFO - Chain [1] start processing\n",
      "22:32:50 - cmdstanpy - INFO - Chain [1] done processing\n",
      "22:32:50 - cmdstanpy - INFO - Chain [1] start processing\n",
      "22:32:51 - cmdstanpy - INFO - Chain [1] done processing\n"
     ]
    },
    {
     "name": "stdout",
     "output_type": "stream",
     "text": [
      "It's overpredicted.\n",
      "Monthly Error: 34.06 Period MAE: 27.029999999999998\n",
      "It's underpredicted.\n",
      "Monthly Error: 22.77 Period MAE: 22.82\n"
     ]
    },
    {
     "name": "stderr",
     "output_type": "stream",
     "text": [
      "22:32:52 - cmdstanpy - INFO - Chain [1] start processing\n",
      "22:32:52 - cmdstanpy - INFO - Chain [1] done processing\n",
      "22:32:52 - cmdstanpy - INFO - Chain [1] start processing\n",
      "22:32:52 - cmdstanpy - INFO - Chain [1] done processing\n",
      "22:32:53 - cmdstanpy - INFO - Chain [1] done processing\n"
     ]
    },
    {
     "name": "stdout",
     "output_type": "stream",
     "text": [
      "It's underpredicted.\n",
      "Monthly Error: 21.97 Period MAE: 21.36\n",
      "It's underpredicted.\n",
      "Monthly Error: 17.84 Period MAE: 13.919999999999998\n"
     ]
    },
    {
     "name": "stderr",
     "output_type": "stream",
     "text": [
      "22:32:55 - cmdstanpy - INFO - Chain [1] start processing\n"
     ]
    },
    {
     "name": "stdout",
     "output_type": "stream",
     "text": [
      "It's overpredicted.\n",
      "Monthly Error: 38.02 Period MAE: "
     ]
    },
    {
     "name": "stderr",
     "output_type": "stream",
     "text": [
      "22:32:55 - cmdstanpy - INFO - Chain [1] done processing\n"
     ]
    },
    {
     "name": "stdout",
     "output_type": "stream",
     "text": [
      "32.16\n",
      "It's underpredicted.\n",
      "Monthly Error: 15.17 Period MAE: 8.14\n"
     ]
    },
    {
     "name": "stderr",
     "output_type": "stream",
     "text": [
      "22:32:56 - cmdstanpy - INFO - Chain [1] start processing\n",
      "22:32:56 - cmdstanpy - INFO - Chain [1] start processing\n",
      "22:32:56 - cmdstanpy - INFO - Chain [1] start processing\n",
      "22:32:56 - cmdstanpy - INFO - Chain [1] done processing\n",
      "22:32:56 - cmdstanpy - INFO - Chain [1] done processing\n",
      "22:32:57 - cmdstanpy - INFO - Chain [1] done processing\n"
     ]
    },
    {
     "name": "stdout",
     "output_type": "stream",
     "text": [
      "It's underpredicted.\n",
      "Monthly Error: 17.68 Period MAE: 13.38\n"
     ]
    },
    {
     "name": "stderr",
     "output_type": "stream",
     "text": [
      "22:32:58 - cmdstanpy - INFO - Chain [1] start processing\n",
      "22:32:58 - cmdstanpy - INFO - Chain [1] done processing\n"
     ]
    },
    {
     "name": "stdout",
     "output_type": "stream",
     "text": [
      "It's underpredicted.\n",
      "It's underpredicted.Monthly Error:\n",
      " Monthly Error:15.14  24.78Period MAE: Period MAE:  8.0623.73\n",
      "\n",
      "It's underpredicted.\n",
      "Monthly Error: 13.83 Period MAE: 7.9\n"
     ]
    },
    {
     "name": "stderr",
     "output_type": "stream",
     "text": [
      "22:33:00 - cmdstanpy - INFO - Chain [1] start processing\n",
      "22:33:00 - cmdstanpy - INFO - Chain [1] start processing\n",
      "22:33:00 - cmdstanpy - INFO - Chain [1] done processing\n",
      "22:33:01 - cmdstanpy - INFO - Chain [1] done processing\n",
      "22:33:01 - cmdstanpy - INFO - Chain [1] start processing\n",
      "22:33:01 - cmdstanpy - INFO - Chain [1] done processing\n"
     ]
    },
    {
     "name": "stdout",
     "output_type": "stream",
     "text": [
      "It's overpredicted.\n",
      "Monthly Error: 24.01 Period MAE: 13.88\n",
      "It's underpredicted.\n",
      "Monthly Error: 16.7 Period MAE: 10.7\n",
      "It's underpredicted."
     ]
    },
    {
     "name": "stderr",
     "output_type": "stream",
     "text": [
      "22:33:04 - cmdstanpy - INFO - Chain [1] start processing\n"
     ]
    },
    {
     "name": "stdout",
     "output_type": "stream",
     "text": [
      "\n",
      "Monthly Error: 22.75 Period MAE: 20.66\n"
     ]
    },
    {
     "name": "stderr",
     "output_type": "stream",
     "text": [
      "22:33:04 - cmdstanpy - INFO - Chain [1] start processing\n",
      "22:33:05 - cmdstanpy - INFO - Chain [1] start processing\n",
      "22:33:05 - cmdstanpy - INFO - Chain [1] done processing\n",
      "22:33:05 - cmdstanpy - INFO - Chain [1] done processing\n",
      "22:33:05 - cmdstanpy - INFO - Chain [1] done processing\n"
     ]
    },
    {
     "name": "stdout",
     "output_type": "stream",
     "text": [
      "It's overpredicted.\n",
      "Monthly Error: 24.04 Period MAE: 13.96\n"
     ]
    },
    {
     "name": "stderr",
     "output_type": "stream",
     "text": [
      "22:33:06 - cmdstanpy - INFO - Chain [1] start processing\n"
     ]
    },
    {
     "name": "stdout",
     "output_type": "stream",
     "text": [
      "It's underpredicted.\n",
      "Monthly Error: 15.41 Period MAE: 7.9399999999999995\n"
     ]
    },
    {
     "name": "stderr",
     "output_type": "stream",
     "text": [
      "22:33:08 - cmdstanpy - INFO - Chain [1] done processing\n"
     ]
    },
    {
     "name": "stdout",
     "output_type": "stream",
     "text": [
      "It's overpredicted.\n",
      "Monthly Error: 26.23 Period MAE: "
     ]
    },
    {
     "name": "stderr",
     "output_type": "stream",
     "text": [
      "22:33:08 - cmdstanpy - INFO - Chain [1] start processing\n"
     ]
    },
    {
     "name": "stdout",
     "output_type": "stream",
     "text": [
      "15.53\n"
     ]
    },
    {
     "name": "stderr",
     "output_type": "stream",
     "text": [
      "22:33:08 - cmdstanpy - INFO - Chain [1] done processing\n",
      "22:33:09 - cmdstanpy - INFO - Chain [1] start processing\n"
     ]
    },
    {
     "name": "stdout",
     "output_type": "stream",
     "text": [
      "It's overpredicted.It's underpredicted.\n",
      "\n",
      "Monthly Error:Monthly Error: 14.67 22.66  Period MAE:Period MAE:  12.9200000000000027.5200000000000005\n",
      "\n"
     ]
    },
    {
     "name": "stderr",
     "output_type": "stream",
     "text": [
      "22:33:10 - cmdstanpy - INFO - Chain [1] start processing\n",
      "22:33:10 - cmdstanpy - INFO - Chain [1] done processing\n",
      "22:33:10 - cmdstanpy - INFO - Chain [1] start processing\n",
      "22:33:11 - cmdstanpy - INFO - Chain [1] done processing\n",
      "22:33:11 - cmdstanpy - INFO - Chain [1] done processing\n"
     ]
    },
    {
     "name": "stdout",
     "output_type": "stream",
     "text": [
      "It's underpredicted.\n",
      "Monthly Error: 18.32 Period MAE: 16.98\n",
      "It's overpredicted.\n",
      "Monthly Error:"
     ]
    },
    {
     "name": "stderr",
     "output_type": "stream",
     "text": [
      "22:33:12 - cmdstanpy - INFO - Chain [1] start processing\n"
     ]
    },
    {
     "name": "stdout",
     "output_type": "stream",
     "text": [
      " 26.02 Period MAE: 15.36\n"
     ]
    },
    {
     "name": "stderr",
     "output_type": "stream",
     "text": [
      "22:33:12 - cmdstanpy - INFO - Chain [1] done processing\n",
      "22:33:13 - cmdstanpy - INFO - Chain [1] start processing\n"
     ]
    },
    {
     "name": "stdout",
     "output_type": "stream",
     "text": [
      "It's underpredicted.\n"
     ]
    },
    {
     "name": "stderr",
     "output_type": "stream",
     "text": [
      "22:33:13 - cmdstanpy - INFO - Chain [1] done processing\n"
     ]
    },
    {
     "name": "stdout",
     "output_type": "stream",
     "text": [
      "Monthly Error: 16.48 Period MAE: 11.459999999999999\n",
      "It's overpredicted.\n",
      "Monthly Error: 29.44 Period MAE: 20.23\n"
     ]
    },
    {
     "name": "stderr",
     "output_type": "stream",
     "text": [
      "22:33:14 - cmdstanpy - INFO - Chain [1] start processing\n",
      "22:33:14 - cmdstanpy - INFO - Chain [1] done processing\n"
     ]
    },
    {
     "name": "stdout",
     "output_type": "stream",
     "text": [
      "It's underpredicted.\n",
      "Monthly Error: 20.31"
     ]
    },
    {
     "name": "stderr",
     "output_type": "stream",
     "text": [
      "22:33:15 - cmdstanpy - INFO - Chain [1] start processing\n"
     ]
    },
    {
     "name": "stdout",
     "output_type": "stream",
     "text": [
      " Period MAE: 19.35\n",
      "It's underpredicted.\n",
      "Monthly Error: 16.77 Period MAE: 18.529999999999998\n"
     ]
    },
    {
     "name": "stderr",
     "output_type": "stream",
     "text": [
      "22:33:16 - cmdstanpy - INFO - Chain [1] done processing\n",
      "22:33:16 - cmdstanpy - INFO - Chain [1] start processing\n",
      "22:33:16 - cmdstanpy - INFO - Chain [1] start processing\n",
      "22:33:16 - cmdstanpy - INFO - Chain [1] done processing\n",
      "22:33:17 - cmdstanpy - INFO - Chain [1] done processing\n"
     ]
    },
    {
     "name": "stdout",
     "output_type": "stream",
     "text": [
      "It's underpredicted.\n",
      "Monthly Error: 19.64 Period MAE: 17.05\n"
     ]
    },
    {
     "name": "stderr",
     "output_type": "stream",
     "text": [
      "22:33:18 - cmdstanpy - INFO - Chain [1] start processing\n"
     ]
    },
    {
     "name": "stdout",
     "output_type": "stream",
     "text": [
      "It's underpredicted.It's underpredicted.\n",
      "\n",
      "Monthly Error: Monthly Error: 16.0517.51 Period MAE: Period MAE:  15.7617.7\n",
      "\n"
     ]
    },
    {
     "name": "stderr",
     "output_type": "stream",
     "text": [
      "22:33:18 - cmdstanpy - INFO - Chain [1] done processing\n",
      "22:33:19 - cmdstanpy - INFO - Chain [1] start processing\n",
      "22:33:19 - cmdstanpy - INFO - Chain [1] start processing\n",
      "22:33:19 - cmdstanpy - INFO - Chain [1] done processing\n",
      "22:33:19 - cmdstanpy - INFO - Chain [1] done processing\n"
     ]
    },
    {
     "name": "stdout",
     "output_type": "stream",
     "text": [
      "It's underpredicted.It's underpredicted.\n",
      "Monthly Error:\n",
      "Monthly Error:  16.4120.37  Period MAE:Period MAE:  19.45\n",
      "14.2\n",
      "It's overpredicted.It's overpredicted.\n",
      "Monthly Error:\n",
      " 30.37 Period MAE: 23.96Monthly Error:\n",
      " 30.01 Period MAE: 24.19\n"
     ]
    },
    {
     "name": "stderr",
     "output_type": "stream",
     "text": [
      "22:33:22 - cmdstanpy - INFO - Chain [1] start processing\n",
      "22:33:22 - cmdstanpy - INFO - Chain [1] start processing\n",
      "22:33:22 - cmdstanpy - INFO - Chain [1] done processing\n",
      "22:33:22 - cmdstanpy - INFO - Chain [1] done processing\n",
      "22:33:22 - cmdstanpy - INFO - Chain [1] start processing\n",
      "22:33:23 - cmdstanpy - INFO - Chain [1] start processing\n",
      "22:33:23 - cmdstanpy - INFO - Chain [1] done processing\n",
      "22:33:24 - cmdstanpy - INFO - Chain [1] done processing\n"
     ]
    },
    {
     "name": "stdout",
     "output_type": "stream",
     "text": [
      "It's underpredicted.\n",
      "Monthly Error: 18.56 Period MAE: 16.619999999999997\n"
     ]
    },
    {
     "name": "stderr",
     "output_type": "stream",
     "text": [
      "22:33:25 - cmdstanpy - INFO - Chain [1] start processing\n",
      "22:33:25 - cmdstanpy - INFO - Chain [1] done processing\n"
     ]
    },
    {
     "name": "stdout",
     "output_type": "stream",
     "text": [
      "It's overpredicted.\n",
      "Monthly Error: 12.52 Period MAE: 2.65\n",
      "It's underpredicted.\n",
      "Monthly Error: 19.66 Period MAE: 17.14\n"
     ]
    },
    {
     "name": "stderr",
     "output_type": "stream",
     "text": [
      "22:33:27 - cmdstanpy - INFO - Chain [1] start processing\n"
     ]
    },
    {
     "name": "stdout",
     "output_type": "stream",
     "text": [
      "It's overpredicted.\n",
      "Monthly Error: 28.72 Period MAE: 23.07\n",
      "It's underpredicted.\n",
      "Monthly Error: 21.67 Period MAE: 20.47\n"
     ]
    },
    {
     "name": "stderr",
     "output_type": "stream",
     "text": [
      "22:33:27 - cmdstanpy - INFO - Chain [1] done processing\n",
      "22:33:27 - cmdstanpy - INFO - Chain [1] start processing\n",
      "22:33:27 - cmdstanpy - INFO - Chain [1] start processing\n",
      "22:33:28 - cmdstanpy - INFO - Chain [1] done processing\n",
      "22:33:28 - cmdstanpy - INFO - Chain [1] done processing\n",
      "22:33:28 - cmdstanpy - INFO - Chain [1] start processing\n",
      "22:33:29 - cmdstanpy - INFO - Chain [1] done processing\n"
     ]
    },
    {
     "name": "stdout",
     "output_type": "stream",
     "text": [
      "It's underpredicted.\n",
      "Monthly Error: 17.95 Period MAE: 16.32\n"
     ]
    },
    {
     "name": "stderr",
     "output_type": "stream",
     "text": [
      "22:33:30 - cmdstanpy - INFO - Chain [1] start processing\n",
      "22:33:30 - cmdstanpy - INFO - Chain [1] done processing\n"
     ]
    },
    {
     "name": "stdout",
     "output_type": "stream",
     "text": [
      "It's underpredicted.\n",
      "Monthly Error: 22.27 Period MAE: 20.27\n",
      "It's overpredicted.\n",
      "Monthly Error: 12.01 Period MAE: 2.9000000000000004\n"
     ]
    },
    {
     "name": "stderr",
     "output_type": "stream",
     "text": [
      "22:33:31 - cmdstanpy - INFO - Chain [1] start processing\n",
      "22:33:31 - cmdstanpy - INFO - Chain [1] start processing\n",
      "22:33:32 - cmdstanpy - INFO - Chain [1] done processing\n",
      "22:33:32 - cmdstanpy - INFO - Chain [1] done processing\n"
     ]
    },
    {
     "name": "stdout",
     "output_type": "stream",
     "text": [
      "It's overpredicted.\n",
      "Monthly Error: 11.6 Period MAE: 1.91\n",
      "It's underpredicted.\n",
      "Monthly Error: 22.09 Period MAE: 22.98\n",
      "It's underpredicted.\n",
      "Monthly Error: 19.97 Period MAE: 18.78\n"
     ]
    },
    {
     "name": "stderr",
     "output_type": "stream",
     "text": [
      "22:33:34 - cmdstanpy - INFO - Chain [1] start processing\n",
      "22:33:34 - cmdstanpy - INFO - Chain [1] start processing\n",
      "22:33:34 - cmdstanpy - INFO - Chain [1] done processing\n",
      "22:33:35 - cmdstanpy - INFO - Chain [1] start processing\n",
      "22:33:35 - cmdstanpy - INFO - Chain [1] done processing\n",
      "22:33:35 - cmdstanpy - INFO - Chain [1] done processing\n"
     ]
    },
    {
     "name": "stdout",
     "output_type": "stream",
     "text": [
      "It's underpredicted.\n",
      "Monthly Error: 20.83 Period MAE: 21.69\n"
     ]
    },
    {
     "name": "stderr",
     "output_type": "stream",
     "text": [
      "22:33:36 - cmdstanpy - INFO - Chain [1] start processing\n"
     ]
    },
    {
     "name": "stdout",
     "output_type": "stream",
     "text": [
      "It's underpredicted.\n",
      "Monthly Error: 17.98 Period MAE: "
     ]
    },
    {
     "name": "stderr",
     "output_type": "stream",
     "text": [
      "22:33:36 - cmdstanpy - INFO - Chain [1] done processing\n"
     ]
    },
    {
     "name": "stdout",
     "output_type": "stream",
     "text": [
      "16.38\n"
     ]
    },
    {
     "name": "stderr",
     "output_type": "stream",
     "text": [
      "22:33:37 - cmdstanpy - INFO - Chain [1] start processing\n"
     ]
    },
    {
     "name": "stdout",
     "output_type": "stream",
     "text": [
      "It's underpredicted.\n",
      "Monthly Error: 20.14 Period MAE: 17.79\n"
     ]
    },
    {
     "name": "stderr",
     "output_type": "stream",
     "text": [
      "22:33:37 - cmdstanpy - INFO - Chain [1] done processing\n",
      "22:33:38 - cmdstanpy - INFO - Chain [1] start processing\n",
      "22:33:38 - cmdstanpy - INFO - Chain [1] done processing\n"
     ]
    },
    {
     "name": "stdout",
     "output_type": "stream",
     "text": [
      "It's underpredicted.\n",
      "Monthly Error: 20.69 Period MAE: 19.86\n",
      "It's underpredicted.\n",
      "Monthly Error: 20.76 Period MAE: 19.99\n",
      "It's overpredicted.\n",
      "Monthly Error: 28.88 Period MAE: 20.62\n"
     ]
    },
    {
     "name": "stderr",
     "output_type": "stream",
     "text": [
      "22:33:40 - cmdstanpy - INFO - Chain [1] start processing\n",
      "22:33:40 - cmdstanpy - INFO - Chain [1] start processing\n",
      "22:33:40 - cmdstanpy - INFO - Chain [1] start processing\n",
      "22:33:40 - cmdstanpy - INFO - Chain [1] done processing\n",
      "22:33:41 - cmdstanpy - INFO - Chain [1] done processing\n",
      "22:33:41 - cmdstanpy - INFO - Chain [1] done processing\n"
     ]
    },
    {
     "name": "stdout",
     "output_type": "stream",
     "text": [
      "It's overpredicted.\n",
      "It's underpredicted.Monthly Error:\n",
      " Monthly Error:28.39 20.63  Period MAE: Period MAE: 19.7221.55\n",
      "\n"
     ]
    },
    {
     "name": "stderr",
     "output_type": "stream",
     "text": [
      "22:33:42 - cmdstanpy - INFO - Chain [1] start processing\n",
      "22:33:42 - cmdstanpy - INFO - Chain [1] done processing\n",
      "22:33:43 - cmdstanpy - INFO - Chain [1] start processing\n"
     ]
    },
    {
     "name": "stdout",
     "output_type": "stream",
     "text": [
      "It's underpredicted.\n",
      "Monthly Error: 20.48 Period MAE: 18.37\n"
     ]
    },
    {
     "name": "stderr",
     "output_type": "stream",
     "text": [
      "22:33:44 - cmdstanpy - INFO - Chain [1] done processing\n",
      "22:33:44 - cmdstanpy - INFO - Chain [1] start processing\n",
      "22:33:44 - cmdstanpy - INFO - Chain [1] done processing\n"
     ]
    },
    {
     "name": "stdout",
     "output_type": "stream",
     "text": [
      "It's overpredicted.It's underpredicted.\n",
      "\n",
      "Monthly Error:Monthly Error:  27.8423.04  Period MAE:Period MAE:  22.7\n",
      "21.62\n",
      "It's underpredicted.\n",
      "Monthly Error: 17.38 Period MAE: 5.63\n"
     ]
    },
    {
     "name": "stderr",
     "output_type": "stream",
     "text": [
      "22:33:46 - cmdstanpy - INFO - Chain [1] start processing\n",
      "22:33:47 - cmdstanpy - INFO - Chain [1] done processing\n",
      "22:33:47 - cmdstanpy - INFO - Chain [1] start processing\n",
      "22:33:47 - cmdstanpy - INFO - Chain [1] start processing\n",
      "22:33:48 - cmdstanpy - INFO - Chain [1] done processing\n"
     ]
    },
    {
     "name": "stdout",
     "output_type": "stream",
     "text": [
      "It's underpredicted.\n",
      "Monthly Error: 23.55 Period MAE: 24.0\n",
      "It's underpredicted.\n",
      "Monthly Error: 16.85 Period MAE: 5.319999999999999\n"
     ]
    },
    {
     "name": "stderr",
     "output_type": "stream",
     "text": [
      "22:33:49 - cmdstanpy - INFO - Chain [1] start processing\n",
      "22:33:49 - cmdstanpy - INFO - Chain [1] done processing\n",
      "22:33:49 - cmdstanpy - INFO - Chain [1] start processing\n",
      "22:33:49 - cmdstanpy - INFO - Chain [1] done processing\n",
      "22:33:50 - cmdstanpy - INFO - Chain [1] done processing\n"
     ]
    },
    {
     "name": "stdout",
     "output_type": "stream",
     "text": [
      "It's underpredicted.\n",
      "Monthly Error: 21.56 Period MAE: 20.78\n",
      "It's underpredicted.\n",
      "Monthly Error: 21.79 Period MAE: 19.68\n",
      "It's overpredicted."
     ]
    },
    {
     "name": "stderr",
     "output_type": "stream",
     "text": [
      "22:33:52 - cmdstanpy - INFO - Chain [1] start processing\n"
     ]
    },
    {
     "name": "stdout",
     "output_type": "stream",
     "text": [
      "\n",
      "Monthly Error: It's underpredicted.20.42\n",
      " Monthly Error: Period MAE:"
     ]
    },
    {
     "name": "stderr",
     "output_type": "stream",
     "text": [
      "22:33:52 - cmdstanpy - INFO - Chain [1] done processing\n"
     ]
    },
    {
     "name": "stdout",
     "output_type": "stream",
     "text": [
      "17.41 11.600000000000001 \n",
      "Period MAE: 5.680000000000001\n"
     ]
    },
    {
     "name": "stderr",
     "output_type": "stream",
     "text": [
      "22:33:53 - cmdstanpy - INFO - Chain [1] start processing\n",
      "22:33:53 - cmdstanpy - INFO - Chain [1] start processing\n",
      "22:33:53 - cmdstanpy - INFO - Chain [1] done processing\n",
      "22:33:53 - cmdstanpy - INFO - Chain [1] start processing\n",
      "22:33:53 - cmdstanpy - INFO - Chain [1] done processing\n",
      "22:33:54 - cmdstanpy - INFO - Chain [1] done processing\n"
     ]
    },
    {
     "name": "stdout",
     "output_type": "stream",
     "text": [
      "It's underpredicted.\n",
      "Monthly Error: 17.54 Period MAE: 13.25\n"
     ]
    },
    {
     "name": "stderr",
     "output_type": "stream",
     "text": [
      "22:33:55 - cmdstanpy - INFO - Chain [1] start processing\n",
      "22:33:56 - cmdstanpy - INFO - Chain [1] done processing\n"
     ]
    },
    {
     "name": "stdout",
     "output_type": "stream",
     "text": [
      "It's underpredicted.\n",
      "Monthly Error: 24.24 It's overpredicted.Period MAE: 23.35\n",
      "\n",
      "Monthly Error:  20.36Period MAE: 11.59\n"
     ]
    },
    {
     "name": "stderr",
     "output_type": "stream",
     "text": [
      "22:33:57 - cmdstanpy - INFO - Chain [1] start processing\n",
      "22:33:57 - cmdstanpy - INFO - Chain [1] start processing\n",
      "22:33:57 - cmdstanpy - INFO - Chain [1] done processing\n",
      "22:33:57 - cmdstanpy - INFO - Chain [1] done processing\n"
     ]
    },
    {
     "name": "stdout",
     "output_type": "stream",
     "text": [
      "It's overpredicted.\n",
      "Monthly Error: 21.17 Period MAE: 12.57\n",
      "It's underpredicted.\n",
      "Monthly Error: It's overpredicted.16.98\n",
      " Period MAE:Monthly Error:  11.37999999999999924.59\n",
      " Period MAE: 16.12\n"
     ]
    },
    {
     "name": "stderr",
     "output_type": "stream",
     "text": [
      "22:34:00 - cmdstanpy - INFO - Chain [1] start processing\n",
      "22:34:00 - cmdstanpy - INFO - Chain [1] start processing\n",
      "22:34:00 - cmdstanpy - INFO - Chain [1] start processing\n",
      "22:34:00 - cmdstanpy - INFO - Chain [1] done processing\n"
     ]
    },
    {
     "name": "stdout",
     "output_type": "stream",
     "text": [
      "It's overpredicted.\n",
      "Monthly Error: 24.78 Period MAE: 16.41\n"
     ]
    },
    {
     "name": "stderr",
     "output_type": "stream",
     "text": [
      "22:34:01 - cmdstanpy - INFO - Chain [1] done processing\n",
      "22:34:01 - cmdstanpy - INFO - Chain [1] done processing\n",
      "22:34:01 - cmdstanpy - INFO - Chain [1] start processing\n",
      "22:34:01 - cmdstanpy - INFO - Chain [1] done processing\n"
     ]
    },
    {
     "name": "stdout",
     "output_type": "stream",
     "text": [
      "It's underpredicted.\n",
      "Monthly Error: 16.62 Period MAE: 13.63\n",
      "It's overpredicted.\n",
      "Monthly Error: 24.41 Period MAE: 16.37\n"
     ]
    },
    {
     "name": "stderr",
     "output_type": "stream",
     "text": [
      "22:34:04 - cmdstanpy - INFO - Chain [1] start processing\n"
     ]
    },
    {
     "name": "stdout",
     "output_type": "stream",
     "text": [
      "It's underpredicted.\n",
      "Monthly Error: 21.55 Period MAE: 19.17\n"
     ]
    },
    {
     "name": "stderr",
     "output_type": "stream",
     "text": [
      "22:34:04 - cmdstanpy - INFO - Chain [1] start processing\n",
      "22:34:05 - cmdstanpy - INFO - Chain [1] start processing\n",
      "22:34:05 - cmdstanpy - INFO - Chain [1] done processing\n",
      "22:34:05 - cmdstanpy - INFO - Chain [1] done processing\n"
     ]
    },
    {
     "name": "stdout",
     "output_type": "stream",
     "text": [
      "It's overpredicted.\n",
      "Monthly Error: 33.51 Period MAE: 26.32\n",
      "It's underpredicted.\n",
      "Monthly Error: "
     ]
    },
    {
     "name": "stderr",
     "output_type": "stream",
     "text": [
      "22:34:07 - cmdstanpy - INFO - Chain [1] done processing\n"
     ]
    },
    {
     "name": "stdout",
     "output_type": "stream",
     "text": [
      "15.54 Period MAE: 10.02\n",
      "It's overpredicted.\n",
      "Monthly Error:"
     ]
    },
    {
     "name": "stderr",
     "output_type": "stream",
     "text": [
      "22:34:07 - cmdstanpy - INFO - Chain [1] start processing\n"
     ]
    },
    {
     "name": "stdout",
     "output_type": "stream",
     "text": [
      " 33.11 Period MAE: "
     ]
    },
    {
     "name": "stderr",
     "output_type": "stream",
     "text": [
      "22:34:08 - cmdstanpy - INFO - Chain [1] start processing\n"
     ]
    },
    {
     "name": "stdout",
     "output_type": "stream",
     "text": [
      "25.89\n"
     ]
    },
    {
     "name": "stderr",
     "output_type": "stream",
     "text": [
      "22:34:08 - cmdstanpy - INFO - Chain [1] start processing\n",
      "22:34:08 - cmdstanpy - INFO - Chain [1] done processing\n",
      "22:34:08 - cmdstanpy - INFO - Chain [1] done processing\n",
      "22:34:08 - cmdstanpy - INFO - Chain [1] done processing\n"
     ]
    },
    {
     "name": "stdout",
     "output_type": "stream",
     "text": [
      "It's underpredicted.\n",
      "Monthly Error:It's underpredicted. 23.54\n",
      " Monthly Error:Period MAE:  17.41 Period MAE:23.919999999999998\n",
      " 13.3\n"
     ]
    },
    {
     "name": "stderr",
     "output_type": "stream",
     "text": [
      "22:34:10 - cmdstanpy - INFO - Chain [1] start processing\n",
      "22:34:10 - cmdstanpy - INFO - Chain [1] start processing\n",
      "22:34:10 - cmdstanpy - INFO - Chain [1] done processing\n",
      "22:34:11 - cmdstanpy - INFO - Chain [1] done processing\n"
     ]
    },
    {
     "name": "stdout",
     "output_type": "stream",
     "text": [
      "It's underpredicted.\n",
      "Monthly Error: 15.18 Period MAE: 8.15\n",
      "It's overpredicted.\n",
      "Monthly Error: 36.49 It's underpredicted.Period MAE:\n",
      " 30.259999999999998Monthly Error:\n",
      " 20.49 Period MAE: 19.15\n"
     ]
    },
    {
     "name": "stderr",
     "output_type": "stream",
     "text": [
      "22:34:12 - cmdstanpy - INFO - Chain [1] start processing\n",
      "22:34:13 - cmdstanpy - INFO - Chain [1] start processing\n",
      "22:34:13 - cmdstanpy - INFO - Chain [1] start processing\n",
      "22:34:13 - cmdstanpy - INFO - Chain [1] done processing\n",
      "22:34:14 - cmdstanpy - INFO - Chain [1] done processing\n"
     ]
    },
    {
     "name": "stdout",
     "output_type": "stream",
     "text": [
      "It's underpredicted.\n",
      "Monthly Error: 15.16 Period MAE: 8.110000000000001\n"
     ]
    },
    {
     "name": "stderr",
     "output_type": "stream",
     "text": [
      "22:34:14 - cmdstanpy - INFO - Chain [1] done processing\n",
      "22:34:14 - cmdstanpy - INFO - Chain [1] start processing\n",
      "22:34:14 - cmdstanpy - INFO - Chain [1] done processing\n"
     ]
    },
    {
     "name": "stdout",
     "output_type": "stream",
     "text": [
      "It's underpredicted.\n",
      "Monthly Error: 17.25 Period MAE: 12.32\n",
      "It's underpredicted.\n",
      "Monthly Error: 24.91"
     ]
    },
    {
     "name": "stderr",
     "output_type": "stream",
     "text": [
      "22:34:16 - cmdstanpy - INFO - Chain [1] start processing\n"
     ]
    },
    {
     "name": "stdout",
     "output_type": "stream",
     "text": [
      " Period MAE: 24.060000000000002\n"
     ]
    },
    {
     "name": "stderr",
     "output_type": "stream",
     "text": [
      "22:34:16 - cmdstanpy - INFO - Chain [1] done processing\n",
      "22:34:16 - cmdstanpy - INFO - Chain [1] start processing\n",
      "22:34:17 - cmdstanpy - INFO - Chain [1] done processing\n"
     ]
    },
    {
     "name": "stdout",
     "output_type": "stream",
     "text": [
      "It's underpredicted.\n",
      "Monthly Error: 13.94 It's overpredicted.Period MAE:\n",
      "It's underpredicted. Monthly Error: \n",
      "8.03\n",
      "Monthly Error:24.05  16.81Period MAE:  Period MAE:13.930000000000001\n",
      " 10.9\n"
     ]
    },
    {
     "name": "stderr",
     "output_type": "stream",
     "text": [
      "22:34:19 - cmdstanpy - INFO - Chain [1] start processing\n",
      "22:34:19 - cmdstanpy - INFO - Chain [1] done processing\n",
      "22:34:19 - cmdstanpy - INFO - Chain [1] start processing\n",
      "22:34:19 - cmdstanpy - INFO - Chain [1] start processing\n",
      "22:34:20 - cmdstanpy - INFO - Chain [1] done processing\n",
      "22:34:20 - cmdstanpy - INFO - Chain [1] done processing\n"
     ]
    },
    {
     "name": "stdout",
     "output_type": "stream",
     "text": [
      "It's overpredicted.\n",
      "Monthly Error: 24.02 Period MAE: 13.930000000000001\n"
     ]
    },
    {
     "name": "stderr",
     "output_type": "stream",
     "text": [
      "22:34:21 - cmdstanpy - INFO - Chain [1] start processing\n"
     ]
    },
    {
     "name": "stdout",
     "output_type": "stream",
     "text": [
      "It's underpredicted.\n",
      "Monthly Error: 14.8 Period MAE: 4.96"
     ]
    },
    {
     "name": "stderr",
     "output_type": "stream",
     "text": [
      "22:34:21 - cmdstanpy - INFO - Chain [1] done processing\n"
     ]
    },
    {
     "name": "stdout",
     "output_type": "stream",
     "text": [
      "\n"
     ]
    },
    {
     "name": "stderr",
     "output_type": "stream",
     "text": [
      "22:34:22 - cmdstanpy - INFO - Chain [1] start processing\n"
     ]
    },
    {
     "name": "stdout",
     "output_type": "stream",
     "text": [
      "It's underpredicted.\n",
      "Monthly Error: 22.57 Period MAE: 20.51\n"
     ]
    },
    {
     "name": "stderr",
     "output_type": "stream",
     "text": [
      "22:34:22 - cmdstanpy - INFO - Chain [1] start processing\n",
      "22:34:23 - cmdstanpy - INFO - Chain [1] done processing\n",
      "22:34:23 - cmdstanpy - INFO - Chain [1] done processing\n"
     ]
    },
    {
     "name": "stdout",
     "output_type": "stream",
     "text": [
      "It's overpredicted.\n",
      "Monthly Error: 22.82 Period MAE: 12.85\n",
      "It's overpredicted.\n",
      "Monthly Error: 25.84 Period MAE: 15.07\n",
      "It's underpredicted.\n",
      "Monthly Error: 14.89 Period MAE: 8.39\n"
     ]
    },
    {
     "name": "stderr",
     "output_type": "stream",
     "text": [
      "22:34:25 - cmdstanpy - INFO - Chain [1] start processing\n",
      "22:34:25 - cmdstanpy - INFO - Chain [1] start processing\n",
      "22:34:25 - cmdstanpy - INFO - Chain [1] done processing\n",
      "22:34:25 - cmdstanpy - INFO - Chain [1] start processing\n"
     ]
    },
    {
     "name": "stdout",
     "output_type": "stream",
     "text": [
      "It's overpredicted.\n",
      "Monthly Error: 25.84"
     ]
    },
    {
     "name": "stderr",
     "output_type": "stream",
     "text": [
      "22:34:26 - cmdstanpy - INFO - Chain [1] done processing\n"
     ]
    },
    {
     "name": "stdout",
     "output_type": "stream",
     "text": [
      " Period MAE: 15.14\n"
     ]
    },
    {
     "name": "stderr",
     "output_type": "stream",
     "text": [
      "22:34:26 - cmdstanpy - INFO - Chain [1] start processing\n",
      "22:34:26 - cmdstanpy - INFO - Chain [1] done processing\n",
      "22:34:26 - cmdstanpy - INFO - Chain [1] done processing\n"
     ]
    },
    {
     "name": "stdout",
     "output_type": "stream",
     "text": [
      "It's underpredicted.\n",
      "Monthly Error: 18.3 Period MAE: 16.900000000000002\n"
     ]
    },
    {
     "name": "stderr",
     "output_type": "stream",
     "text": [
      "22:34:27 - cmdstanpy - INFO - Chain [1] start processing\n",
      "22:34:28 - cmdstanpy - INFO - Chain [1] done processing\n"
     ]
    },
    {
     "name": "stdout",
     "output_type": "stream",
     "text": [
      "It's underpredicted.\n",
      "Monthly Error: 16.57 Period MAE: 12.139999999999999\n",
      "It's underpredicted.\n",
      "Monthly Error: "
     ]
    },
    {
     "name": "stderr",
     "output_type": "stream",
     "text": [
      "22:34:29 - cmdstanpy - INFO - Chain [1] start processing\n"
     ]
    },
    {
     "name": "stdout",
     "output_type": "stream",
     "text": [
      "16.74 Period MAE: 18.5\n"
     ]
    },
    {
     "name": "stderr",
     "output_type": "stream",
     "text": [
      "22:34:29 - cmdstanpy - INFO - Chain [1] done processing\n"
     ]
    },
    {
     "name": "stdout",
     "output_type": "stream",
     "text": [
      "It's underpredicted.\n",
      "Monthly Error: 19.96 Period MAE: 19.040000000000003\n",
      "It's overpredicted.\n",
      "Monthly Error: 25.17 Period MAE: "
     ]
    },
    {
     "name": "stderr",
     "output_type": "stream",
     "text": [
      "22:34:30 - cmdstanpy - INFO - Chain [1] start processing\n"
     ]
    },
    {
     "name": "stdout",
     "output_type": "stream",
     "text": [
      "14.899999999999999\n"
     ]
    },
    {
     "name": "stderr",
     "output_type": "stream",
     "text": [
      "22:34:31 - cmdstanpy - INFO - Chain [1] start processing\n",
      "22:34:31 - cmdstanpy - INFO - Chain [1] done processing\n",
      "22:34:31 - cmdstanpy - INFO - Chain [1] start processing\n",
      "22:34:31 - cmdstanpy - INFO - Chain [1] done processing\n",
      "22:34:32 - cmdstanpy - INFO - Chain [1] done processing\n"
     ]
    },
    {
     "name": "stdout",
     "output_type": "stream",
     "text": [
      "It's underpredicted.\n",
      "Monthly Error: 17.53 Period MAE: 15.82\n",
      "It's underpredicted.\n",
      "Monthly Error: 16.58 "
     ]
    },
    {
     "name": "stderr",
     "output_type": "stream",
     "text": [
      "22:34:33 - cmdstanpy - INFO - Chain [1] start processing\n"
     ]
    },
    {
     "name": "stdout",
     "output_type": "stream",
     "text": [
      "Period MAE: 18.3\n"
     ]
    },
    {
     "name": "stderr",
     "output_type": "stream",
     "text": [
      "22:34:33 - cmdstanpy - INFO - Chain [1] done processing\n"
     ]
    },
    {
     "name": "stdout",
     "output_type": "stream",
     "text": [
      "It's underpredicted.\n",
      "Monthly Error: 18.29 Period MAE: 16.220000000000002\n"
     ]
    },
    {
     "name": "stderr",
     "output_type": "stream",
     "text": [
      "22:34:34 - cmdstanpy - INFO - Chain [1] start processing\n",
      "22:34:34 - cmdstanpy - INFO - Chain [1] done processing\n",
      "22:34:34 - cmdstanpy - INFO - Chain [1] start processing\n",
      "22:34:35 - cmdstanpy - INFO - Chain [1] done processing\n"
     ]
    },
    {
     "name": "stdout",
     "output_type": "stream",
     "text": [
      "It's underpredicted.\n",
      "Monthly Error: 15.49 Period MAE: 17.380000000000003\n",
      "It's underpredicted.\n",
      "Monthly Error: 19.28 Period MAE: 17.98\n"
     ]
    },
    {
     "name": "stderr",
     "output_type": "stream",
     "text": [
      "22:34:37 - cmdstanpy - INFO - Chain [1] start processing\n"
     ]
    },
    {
     "name": "stdout",
     "output_type": "stream",
     "text": [
      "It's overpredicted.\n",
      "Monthly Error: 29.64 Period MAE: 23.05\n"
     ]
    },
    {
     "name": "stderr",
     "output_type": "stream",
     "text": [
      "22:34:37 - cmdstanpy - INFO - Chain [1] start processing\n",
      "22:34:38 - cmdstanpy - INFO - Chain [1] start processing\n",
      "22:34:38 - cmdstanpy - INFO - Chain [1] done processing\n",
      "22:34:38 - cmdstanpy - INFO - Chain [1] done processing\n",
      "22:34:38 - cmdstanpy - INFO - Chain [1] done processing\n"
     ]
    },
    {
     "name": "stdout",
     "output_type": "stream",
     "text": [
      "It's overpredicted.\n",
      "Monthly Error: 29.4 Period MAE: 23.169999999999998\n",
      "It's underpredicted.\n",
      "Monthly Error: 18.73 Period MAE:"
     ]
    },
    {
     "name": "stderr",
     "output_type": "stream",
     "text": [
      "22:34:39 - cmdstanpy - INFO - Chain [1] start processing\n"
     ]
    },
    {
     "name": "stdout",
     "output_type": "stream",
     "text": [
      " 17.64\n"
     ]
    },
    {
     "name": "stderr",
     "output_type": "stream",
     "text": [
      "22:34:40 - cmdstanpy - INFO - Chain [1] done processing\n"
     ]
    },
    {
     "name": "stdout",
     "output_type": "stream",
     "text": [
      "It's underpredicted.\n",
      "Monthly Error: 18.66 Period MAE: 16.71\n"
     ]
    },
    {
     "name": "stderr",
     "output_type": "stream",
     "text": [
      "22:34:40 - cmdstanpy - INFO - Chain [1] start processing\n",
      "22:34:41 - cmdstanpy - INFO - Chain [1] start processing\n",
      "22:34:41 - cmdstanpy - INFO - Chain [1] done processing\n",
      "22:34:41 - cmdstanpy - INFO - Chain [1] done processing\n"
     ]
    },
    {
     "name": "stdout",
     "output_type": "stream",
     "text": [
      "It's overpredicted.\n",
      "Monthly Error: 28.71 Period MAE: 22.52\n",
      "It's underpredicted.\n",
      "Monthly Error: 10.33 Period MAE: 10.85\n",
      "It's underpredicted.\n",
      "Monthly Error: 20.53 Period MAE: 19.88\n"
     ]
    },
    {
     "name": "stderr",
     "output_type": "stream",
     "text": [
      "22:34:44 - cmdstanpy - INFO - Chain [1] start processing\n",
      "22:34:44 - cmdstanpy - INFO - Chain [1] start processing\n",
      "22:34:44 - cmdstanpy - INFO - Chain [1] done processing\n",
      "22:34:44 - cmdstanpy - INFO - Chain [1] done processing\n",
      "22:34:44 - cmdstanpy - INFO - Chain [1] start processing\n"
     ]
    },
    {
     "name": "stdout",
     "output_type": "stream",
     "text": [
      "It's underpredicted.\n",
      "Monthly Error: 10.06 Period MAE: 10.37"
     ]
    },
    {
     "name": "stderr",
     "output_type": "stream",
     "text": [
      "22:34:45 - cmdstanpy - INFO - Chain [1] done processing\n"
     ]
    },
    {
     "name": "stdout",
     "output_type": "stream",
     "text": [
      "\n"
     ]
    },
    {
     "name": "stderr",
     "output_type": "stream",
     "text": [
      "22:34:45 - cmdstanpy - INFO - Chain [1] start processing\n"
     ]
    },
    {
     "name": "stdout",
     "output_type": "stream",
     "text": [
      "It's underpredicted.\n",
      "Monthly Error: 18.0 Period MAE: 16.41\n"
     ]
    },
    {
     "name": "stderr",
     "output_type": "stream",
     "text": [
      "22:34:45 - cmdstanpy - INFO - Chain [1] done processing\n",
      "22:34:46 - cmdstanpy - INFO - Chain [1] start processing\n"
     ]
    },
    {
     "name": "stdout",
     "output_type": "stream",
     "text": [
      "It's underpredicted.\n",
      "Monthly Error: 19.89 Period MAE: 18.490000000000002\n"
     ]
    },
    {
     "name": "stderr",
     "output_type": "stream",
     "text": [
      "22:34:47 - cmdstanpy - INFO - Chain [1] done processing\n",
      "22:34:47 - cmdstanpy - INFO - Chain [1] start processing\n",
      "22:34:47 - cmdstanpy - INFO - Chain [1] done processing\n"
     ]
    },
    {
     "name": "stdout",
     "output_type": "stream",
     "text": [
      "It's underpredicted.\n",
      "Monthly Error: 9.95 Period MAE: 9.81\n",
      "It's underpredicted.\n",
      "Monthly Error: 19.58 Period MAE: 18.38\n",
      "It's underpredicted.\n",
      "Monthly Error: 22.33 Period MAE: 22.689999999999998"
     ]
    },
    {
     "name": "stderr",
     "output_type": "stream",
     "text": [
      "22:34:49 - cmdstanpy - INFO - Chain [1] start processing\n"
     ]
    },
    {
     "name": "stdout",
     "output_type": "stream",
     "text": [
      "\n"
     ]
    },
    {
     "name": "stderr",
     "output_type": "stream",
     "text": [
      "22:34:50 - cmdstanpy - INFO - Chain [1] start processing\n",
      "22:34:50 - cmdstanpy - INFO - Chain [1] start processing\n",
      "22:34:50 - cmdstanpy - INFO - Chain [1] done processing\n",
      "22:34:50 - cmdstanpy - INFO - Chain [1] done processing\n"
     ]
    },
    {
     "name": "stdout",
     "output_type": "stream",
     "text": [
      "It's underpredicted.\n",
      "Monthly Error: 21.89 Period MAE: 22.03\n"
     ]
    },
    {
     "name": "stderr",
     "output_type": "stream",
     "text": [
      "22:34:51 - cmdstanpy - INFO - Chain [1] done processing\n",
      "22:34:51 - cmdstanpy - INFO - Chain [1] start processing\n",
      "22:34:51 - cmdstanpy - INFO - Chain [1] done processing\n"
     ]
    },
    {
     "name": "stdout",
     "output_type": "stream",
     "text": [
      "It's underpredicted.\n",
      "Monthly Error: 18.43 Period MAE: 17.01\n",
      "It's underpredicted.\n",
      "Monthly Error: 20.13 Period MAE: 18.73\n"
     ]
    },
    {
     "name": "stderr",
     "output_type": "stream",
     "text": [
      "22:34:53 - cmdstanpy - INFO - Chain [1] start processing\n",
      "22:34:53 - cmdstanpy - INFO - Chain [1] done processing\n",
      "22:34:53 - cmdstanpy - INFO - Chain [1] start processing\n",
      "22:34:54 - cmdstanpy - INFO - Chain [1] done processing\n"
     ]
    },
    {
     "name": "stdout",
     "output_type": "stream",
     "text": [
      "It's underpredicted.\n",
      "Monthly Error: 21.28 Period MAE: 21.709999999999997\n",
      "It's overpredicted.\n",
      "Monthly Error: 27.96 Period MAE:It's underpredicted. 19.43\n",
      "\n",
      "Monthly Error: 20.6 Period MAE: 19.96\n"
     ]
    },
    {
     "name": "stderr",
     "output_type": "stream",
     "text": [
      "22:34:55 - cmdstanpy - INFO - Chain [1] start processing\n",
      "22:34:55 - cmdstanpy - INFO - Chain [1] start processing\n",
      "22:34:56 - cmdstanpy - INFO - Chain [1] start processing\n",
      "22:34:56 - cmdstanpy - INFO - Chain [1] done processing\n",
      "22:34:56 - cmdstanpy - INFO - Chain [1] done processing\n",
      "22:34:57 - cmdstanpy - INFO - Chain [1] done processing\n"
     ]
    },
    {
     "name": "stdout",
     "output_type": "stream",
     "text": [
      "It's overpredicted.\n",
      "Monthly Error: 31.52 Period MAE: 24.75\n"
     ]
    },
    {
     "name": "stderr",
     "output_type": "stream",
     "text": [
      "22:34:57 - cmdstanpy - INFO - Chain [1] start processing\n"
     ]
    },
    {
     "name": "stdout",
     "output_type": "stream",
     "text": [
      "It's underpredicted.\n",
      "Monthly Error: 18.82 Period MAE: 17.62\n"
     ]
    },
    {
     "name": "stderr",
     "output_type": "stream",
     "text": [
      "22:34:58 - cmdstanpy - INFO - Chain [1] done processing\n"
     ]
    },
    {
     "name": "stdout",
     "output_type": "stream",
     "text": [
      "It's underpredicted.\n"
     ]
    },
    {
     "name": "stderr",
     "output_type": "stream",
     "text": [
      "22:34:59 - cmdstanpy - INFO - Chain [1] start processing\n"
     ]
    },
    {
     "name": "stdout",
     "output_type": "stream",
     "text": [
      "Monthly Error: 19.25 Period MAE: 17.47\n"
     ]
    },
    {
     "name": "stderr",
     "output_type": "stream",
     "text": [
      "22:34:59 - cmdstanpy - INFO - Chain [1] done processing\n",
      "22:34:59 - cmdstanpy - INFO - Chain [1] start processing\n"
     ]
    },
    {
     "name": "stdout",
     "output_type": "stream",
     "text": [
      "It's overpredicted.\n",
      "Monthly Error: 30.25 Period MAE: "
     ]
    },
    {
     "name": "stderr",
     "output_type": "stream",
     "text": [
      "22:35:00 - cmdstanpy - INFO - Chain [1] done processing\n"
     ]
    },
    {
     "name": "stdout",
     "output_type": "stream",
     "text": [
      "23.7\n"
     ]
    },
    {
     "name": "stderr",
     "output_type": "stream",
     "text": [
      "22:35:01 - cmdstanpy - INFO - Chain [1] start processing\n"
     ]
    },
    {
     "name": "stdout",
     "output_type": "stream",
     "text": [
      "It's underpredicted.\n",
      "Monthly Error: 18.77 Period MAE: 18.42\n",
      "It's underpredicted.\n",
      "Monthly Error: 20.34 Period MAE: 19.49\n"
     ]
    },
    {
     "name": "stderr",
     "output_type": "stream",
     "text": [
      "22:35:02 - cmdstanpy - INFO - Chain [1] start processing\n",
      "22:35:02 - cmdstanpy - INFO - Chain [1] start processing\n",
      "22:35:03 - cmdstanpy - INFO - Chain [1] done processing\n",
      "22:35:03 - cmdstanpy - INFO - Chain [1] done processing\n",
      "22:35:03 - cmdstanpy - INFO - Chain [1] done processing\n"
     ]
    },
    {
     "name": "stdout",
     "output_type": "stream",
     "text": [
      "It's underpredicted.\n",
      "Monthly Error: 23.05 Period MAE:It's underpredicted. 23.36\n",
      "\n",
      "Monthly Error: 17.92 Period MAE: 17.380000000000003\n",
      "It's underpredicted."
     ]
    },
    {
     "name": "stderr",
     "output_type": "stream",
     "text": [
      "22:35:05 - cmdstanpy - INFO - Chain [1] start processing\n"
     ]
    },
    {
     "name": "stdout",
     "output_type": "stream",
     "text": [
      "\n",
      "Monthly Error: 19.79 Period MAE: 18.25\n"
     ]
    },
    {
     "name": "stderr",
     "output_type": "stream",
     "text": [
      "22:35:05 - cmdstanpy - INFO - Chain [1] done processing\n",
      "22:35:06 - cmdstanpy - INFO - Chain [1] start processing\n"
     ]
    },
    {
     "name": "stdout",
     "output_type": "stream",
     "text": [
      "It's underpredicted.\n",
      "Monthly Error: 18.33 Period MAE: "
     ]
    },
    {
     "name": "stderr",
     "output_type": "stream",
     "text": [
      "22:35:06 - cmdstanpy - INFO - Chain [1] start processing\n"
     ]
    },
    {
     "name": "stdout",
     "output_type": "stream",
     "text": [
      "17.16\n"
     ]
    },
    {
     "name": "stderr",
     "output_type": "stream",
     "text": [
      "22:35:07 - cmdstanpy - INFO - Chain [1] done processing\n",
      "22:35:07 - cmdstanpy - INFO - Chain [1] done processing\n",
      "22:35:08 - cmdstanpy - INFO - Chain [1] start processing\n"
     ]
    },
    {
     "name": "stdout",
     "output_type": "stream",
     "text": [
      "It's overpredicted.\n",
      "Monthly Error: 20.3 Period MAE: 11.42\n",
      "It's underpredicted.\n",
      "Monthly Error: 23.26 Period MAE: 23.61\n"
     ]
    },
    {
     "name": "stderr",
     "output_type": "stream",
     "text": [
      "22:35:09 - cmdstanpy - INFO - Chain [1] start processing\n",
      "22:35:09 - cmdstanpy - INFO - Chain [1] done processing\n",
      "22:35:09 - cmdstanpy - INFO - Chain [1] start processing\n",
      "22:35:10 - cmdstanpy - INFO - Chain [1] done processing\n",
      "22:35:10 - cmdstanpy - INFO - Chain [1] done processing\n"
     ]
    },
    {
     "name": "stdout",
     "output_type": "stream",
     "text": [
      "It's overpredicted.\n",
      "Monthly Error: 20.3 Period MAE: 11.44\n",
      "It's underpredicted.\n",
      "Monthly Error: 18.29 Period MAE:"
     ]
    },
    {
     "name": "stderr",
     "output_type": "stream",
     "text": [
      "22:35:11 - cmdstanpy - INFO - Chain [1] start processing\n"
     ]
    },
    {
     "name": "stdout",
     "output_type": "stream",
     "text": [
      " 15.58\n"
     ]
    },
    {
     "name": "stderr",
     "output_type": "stream",
     "text": [
      "22:35:12 - cmdstanpy - INFO - Chain [1] done processing\n",
      "22:35:12 - cmdstanpy - INFO - Chain [1] start processing\n"
     ]
    },
    {
     "name": "stdout",
     "output_type": "stream",
     "text": [
      "It's underpredicted.\n",
      "Monthly Error: 23.24 Period MAE: 23.330000000000002\n"
     ]
    },
    {
     "name": "stderr",
     "output_type": "stream",
     "text": [
      "22:35:13 - cmdstanpy - INFO - Chain [1] start processing\n"
     ]
    },
    {
     "name": "stdout",
     "output_type": "stream",
     "text": [
      "It's overpredicted.\n",
      "Monthly Error: 20.48"
     ]
    },
    {
     "name": "stderr",
     "output_type": "stream",
     "text": [
      "22:35:13 - cmdstanpy - INFO - Chain [1] done processing\n"
     ]
    },
    {
     "name": "stdout",
     "output_type": "stream",
     "text": [
      " "
     ]
    },
    {
     "name": "stderr",
     "output_type": "stream",
     "text": [
      "22:35:13 - cmdstanpy - INFO - Chain [1] done processing\n"
     ]
    },
    {
     "name": "stdout",
     "output_type": "stream",
     "text": [
      "Period MAE: 11.65\n"
     ]
    },
    {
     "name": "stderr",
     "output_type": "stream",
     "text": [
      "22:35:15 - cmdstanpy - INFO - Chain [1] start processing\n"
     ]
    },
    {
     "name": "stdout",
     "output_type": "stream",
     "text": [
      "It's underpredicted.\n",
      "Monthly Error: 18.91 Period MAE: 16.81\n",
      "It's overpredicted.\n",
      "Monthly Error: 24.69 Period MAE: 16.24\n"
     ]
    },
    {
     "name": "stderr",
     "output_type": "stream",
     "text": [
      "22:35:16 - cmdstanpy - INFO - Chain [1] done processing\n",
      "22:35:16 - cmdstanpy - INFO - Chain [1] start processing\n",
      "22:35:16 - cmdstanpy - INFO - Chain [1] start processing\n",
      "22:35:16 - cmdstanpy - INFO - Chain [1] done processing\n",
      "22:35:17 - cmdstanpy - INFO - Chain [1] done processing\n"
     ]
    },
    {
     "name": "stdout",
     "output_type": "stream",
     "text": [
      "It's overpredicted.\n",
      "Monthly Error: 24.65 Period MAE: 16.220000000000002\n"
     ]
    },
    {
     "name": "stderr",
     "output_type": "stream",
     "text": [
      "22:35:18 - cmdstanpy - INFO - Chain [1] start processing\n"
     ]
    },
    {
     "name": "stdout",
     "output_type": "stream",
     "text": [
      "It's underpredicted.\n",
      "Monthly Error: 22.89 Period MAE: 23.169999999999998\n"
     ]
    },
    {
     "name": "stderr",
     "output_type": "stream",
     "text": [
      "22:35:18 - cmdstanpy - INFO - Chain [1] done processing\n"
     ]
    },
    {
     "name": "stdout",
     "output_type": "stream",
     "text": [
      "It's underpredicted.\n",
      "Monthly Error: 19.96 Period MAE: 18.54\n"
     ]
    },
    {
     "name": "stderr",
     "output_type": "stream",
     "text": [
      "22:35:19 - cmdstanpy - INFO - Chain [1] start processing\n",
      "22:35:19 - cmdstanpy - INFO - Chain [1] done processing\n",
      "22:35:19 - cmdstanpy - INFO - Chain [1] start processing\n",
      "22:35:19 - cmdstanpy - INFO - Chain [1] done processing\n"
     ]
    },
    {
     "name": "stdout",
     "output_type": "stream",
     "text": [
      "It's underpredicted.\n",
      "Monthly Error: 23.12 Period MAE: 23.400000000000002\n",
      "It's overpredicted.\n",
      "Monthly Error: 25.01 Period MAE: 16.7\n"
     ]
    },
    {
     "name": "stderr",
     "output_type": "stream",
     "text": [
      "22:35:22 - cmdstanpy - INFO - Chain [1] start processing\n"
     ]
    },
    {
     "name": "stdout",
     "output_type": "stream",
     "text": [
      "It's overpredicted.\n",
      "Monthly Error: 26.58 Period MAE: 18.509999999999998\n"
     ]
    },
    {
     "name": "stderr",
     "output_type": "stream",
     "text": [
      "22:35:22 - cmdstanpy - INFO - Chain [1] start processing\n",
      "22:35:23 - cmdstanpy - INFO - Chain [1] done processing\n",
      "22:35:23 - cmdstanpy - INFO - Chain [1] start processing\n",
      "22:35:23 - cmdstanpy - INFO - Chain [1] done processing\n"
     ]
    },
    {
     "name": "stdout",
     "output_type": "stream",
     "text": [
      "It's overpredicted.\n",
      "Monthly Error: "
     ]
    },
    {
     "name": "stderr",
     "output_type": "stream",
     "text": [
      "22:35:23 - cmdstanpy - INFO - Chain [1] done processing\n"
     ]
    },
    {
     "name": "stdout",
     "output_type": "stream",
     "text": [
      "26.16 Period MAE: 17.97\n"
     ]
    },
    {
     "name": "stderr",
     "output_type": "stream",
     "text": [
      "22:35:24 - cmdstanpy - INFO - Chain [1] start processing\n",
      "22:35:24 - cmdstanpy - INFO - Chain [1] done processing\n"
     ]
    },
    {
     "name": "stdout",
     "output_type": "stream",
     "text": [
      "It's underpredicted.\n",
      "Monthly Error: 23.7 Period MAE: 24.14\n",
      "It's underpredicted.\n",
      "Monthly Error: 24.4 Period MAE: "
     ]
    },
    {
     "name": "stderr",
     "output_type": "stream",
     "text": [
      "22:35:25 - cmdstanpy - INFO - Chain [1] start processing\n"
     ]
    },
    {
     "name": "stdout",
     "output_type": "stream",
     "text": [
      "24.94\n"
     ]
    },
    {
     "name": "stderr",
     "output_type": "stream",
     "text": [
      "22:35:26 - cmdstanpy - INFO - Chain [1] done processing\n",
      "22:35:26 - cmdstanpy - INFO - Chain [1] start processing\n",
      "22:35:26 - cmdstanpy - INFO - Chain [1] done processing\n"
     ]
    },
    {
     "name": "stdout",
     "output_type": "stream",
     "text": [
      "It's underpredicted.\n",
      "Monthly Error: 15.09 Period MAE: 8.15\n",
      "It's overpredicted.\n",
      "Monthly Error: 26.51It's underpredicted.\n",
      "Monthly Error: Period MAE: 18.42\n",
      " 23.23 Period MAE: 23.380000000000003\n"
     ]
    },
    {
     "name": "stderr",
     "output_type": "stream",
     "text": [
      "22:35:28 - cmdstanpy - INFO - Chain [1] start processing\n",
      "22:35:28 - cmdstanpy - INFO - Chain [1] start processing\n",
      "22:35:28 - cmdstanpy - INFO - Chain [1] done processing\n",
      "22:35:28 - cmdstanpy - INFO - Chain [1] done processing\n",
      "22:35:29 - cmdstanpy - INFO - Chain [1] start processing\n",
      "22:35:29 - cmdstanpy - INFO - Chain [1] done processing\n"
     ]
    },
    {
     "name": "stdout",
     "output_type": "stream",
     "text": [
      "It's underpredicted.\n",
      "Monthly Error: 15.08 Period MAE: 8.129999999999999\n",
      "It's underpredicted.\n",
      "Monthly Error: 19.46 Period MAE: "
     ]
    },
    {
     "name": "stderr",
     "output_type": "stream",
     "text": [
      "22:35:30 - cmdstanpy - INFO - Chain [1] start processing\n"
     ]
    },
    {
     "name": "stdout",
     "output_type": "stream",
     "text": [
      "17.86\n"
     ]
    },
    {
     "name": "stderr",
     "output_type": "stream",
     "text": [
      "22:35:30 - cmdstanpy - INFO - Chain [1] done processing\n"
     ]
    },
    {
     "name": "stdout",
     "output_type": "stream",
     "text": [
      "It's underpredicted.\n",
      "Monthly Error: 23.25 Period MAE: 23.24\n"
     ]
    },
    {
     "name": "stderr",
     "output_type": "stream",
     "text": [
      "22:35:31 - cmdstanpy - INFO - Chain [1] start processing\n",
      "22:35:32 - cmdstanpy - INFO - Chain [1] done processing\n",
      "22:35:32 - cmdstanpy - INFO - Chain [1] start processing\n",
      "22:35:32 - cmdstanpy - INFO - Chain [1] done processing\n"
     ]
    },
    {
     "name": "stdout",
     "output_type": "stream",
     "text": [
      "It's underpredicted.\n",
      "Monthly Error: 19.48 Period MAE: 17.849999999999998\n",
      "It's overpredicted.\n",
      "Monthly Error:It's underpredicted. \n",
      "Monthly Error: 15.0623.53 Period MAE: Period MAE:  13.198.12\n",
      "\n"
     ]
    },
    {
     "name": "stderr",
     "output_type": "stream",
     "text": [
      "22:35:34 - cmdstanpy - INFO - Chain [1] start processing\n",
      "22:35:34 - cmdstanpy - INFO - Chain [1] start processing\n",
      "22:35:35 - cmdstanpy - INFO - Chain [1] done processing\n",
      "22:35:35 - cmdstanpy - INFO - Chain [1] start processing\n",
      "22:35:35 - cmdstanpy - INFO - Chain [1] done processing\n",
      "22:35:35 - cmdstanpy - INFO - Chain [1] done processing\n"
     ]
    },
    {
     "name": "stdout",
     "output_type": "stream",
     "text": [
      "It's overpredicted.\n",
      "Monthly Error: 23.43 Period MAE: 13.07\n"
     ]
    },
    {
     "name": "stderr",
     "output_type": "stream",
     "text": [
      "22:35:36 - cmdstanpy - INFO - Chain [1] start processing\n"
     ]
    },
    {
     "name": "stdout",
     "output_type": "stream",
     "text": [
      "It's underpredicted.\n",
      "Monthly Error: 23.7 Period MAE: 24.14\n"
     ]
    },
    {
     "name": "stderr",
     "output_type": "stream",
     "text": [
      "22:35:37 - cmdstanpy - INFO - Chain [1] done processing\n"
     ]
    },
    {
     "name": "stdout",
     "output_type": "stream",
     "text": [
      "It's underpredicted.\n",
      "Monthly Error: 19.85 Period MAE: 18.099999999999998\n"
     ]
    },
    {
     "name": "stderr",
     "output_type": "stream",
     "text": [
      "22:35:37 - cmdstanpy - INFO - Chain [1] start processing\n",
      "22:35:38 - cmdstanpy - INFO - Chain [1] start processing\n",
      "22:35:38 - cmdstanpy - INFO - Chain [1] done processing\n",
      "22:35:38 - cmdstanpy - INFO - Chain [1] done processing\n"
     ]
    },
    {
     "name": "stdout",
     "output_type": "stream",
     "text": [
      "It's underpredicted.\n",
      "Monthly Error: 14.68 Period MAE: 0.18\n",
      "It's underpredicted.\n",
      "Monthly Error: 22.68 Period MAE: 22.58\n",
      "It's overpredicted.\n",
      "Monthly Error: 23.25 Period MAE: 12.839999999999998\n"
     ]
    },
    {
     "name": "stderr",
     "output_type": "stream",
     "text": [
      "22:35:41 - cmdstanpy - INFO - Chain [1] start processing\n",
      "22:35:41 - cmdstanpy - INFO - Chain [1] start processing\n",
      "22:35:41 - cmdstanpy - INFO - Chain [1] start processing\n"
     ]
    },
    {
     "name": "stdout",
     "output_type": "stream",
     "text": [
      "It's underpredicted.\n",
      "Monthly Error:"
     ]
    },
    {
     "name": "stderr",
     "output_type": "stream",
     "text": [
      "22:35:42 - cmdstanpy - INFO - Chain [1] done processing\n"
     ]
    },
    {
     "name": "stdout",
     "output_type": "stream",
     "text": [
      " 14.67 "
     ]
    },
    {
     "name": "stderr",
     "output_type": "stream",
     "text": [
      "22:35:42 - cmdstanpy - INFO - Chain [1] done processing\n"
     ]
    },
    {
     "name": "stdout",
     "output_type": "stream",
     "text": [
      "Period MAE: 0.04\n"
     ]
    },
    {
     "name": "stderr",
     "output_type": "stream",
     "text": [
      "22:35:42 - cmdstanpy - INFO - Chain [1] start processing\n",
      "22:35:42 - cmdstanpy - INFO - Chain [1] done processing\n",
      "22:35:43 - cmdstanpy - INFO - Chain [1] done processing\n"
     ]
    },
    {
     "name": "stdout",
     "output_type": "stream",
     "text": [
      "It's underpredicted.\n",
      "Monthly Error: 17.59 Period MAE: 15.93\n"
     ]
    },
    {
     "name": "stderr",
     "output_type": "stream",
     "text": [
      "22:35:44 - cmdstanpy - INFO - Chain [1] start processing\n"
     ]
    },
    {
     "name": "stdout",
     "output_type": "stream",
     "text": [
      "It's underpredicted.\n"
     ]
    },
    {
     "name": "stderr",
     "output_type": "stream",
     "text": [
      "22:35:45 - cmdstanpy - INFO - Chain [1] done processing\n"
     ]
    },
    {
     "name": "stdout",
     "output_type": "stream",
     "text": [
      "Monthly Error: 24.34 Period MAE: 24.779999999999998\n"
     ]
    },
    {
     "name": "stderr",
     "output_type": "stream",
     "text": [
      "22:35:45 - cmdstanpy - INFO - Chain [1] start processing\n"
     ]
    },
    {
     "name": "stdout",
     "output_type": "stream",
     "text": [
      "It's underpredicted.\n",
      "Monthly Error:"
     ]
    },
    {
     "name": "stderr",
     "output_type": "stream",
     "text": [
      "22:35:46 - cmdstanpy - INFO - Chain [1] done processing\n"
     ]
    },
    {
     "name": "stdout",
     "output_type": "stream",
     "text": [
      " 16.77 Period MAE: 18.529999999999998\n",
      "It's underpredicted.\n",
      "Monthly Error: 20.3 Period MAE: 19.29\n",
      "It's overpredicted.\n",
      "Monthly Error: 14.73 Period MAE: 0.22999999999999998\n"
     ]
    },
    {
     "name": "stderr",
     "output_type": "stream",
     "text": [
      "22:35:47 - cmdstanpy - INFO - Chain [1] start processing\n",
      "22:35:47 - cmdstanpy - INFO - Chain [1] start processing\n",
      "22:35:47 - cmdstanpy - INFO - Chain [1] start processing\n",
      "22:35:47 - cmdstanpy - INFO - Chain [1] done processing\n",
      "22:35:48 - cmdstanpy - INFO - Chain [1] done processing\n",
      "22:35:48 - cmdstanpy - INFO - Chain [1] done processing\n"
     ]
    },
    {
     "name": "stdout",
     "output_type": "stream",
     "text": [
      "It's underpredicted.\n",
      "Monthly Error: 18.54 Period MAE: 17.31\n"
     ]
    },
    {
     "name": "stderr",
     "output_type": "stream",
     "text": [
      "22:35:49 - cmdstanpy - INFO - Chain [1] start processing\n",
      "22:35:49 - cmdstanpy - INFO - Chain [1] done processing\n"
     ]
    },
    {
     "name": "stdout",
     "output_type": "stream",
     "text": [
      "It's underpredicted.\n",
      "Monthly Error: 16.14 Period MAE: 17.83\n",
      "It's underpredicted.\n",
      "Monthly Error: 20.22 Period MAE: 17.95\n"
     ]
    },
    {
     "name": "stderr",
     "output_type": "stream",
     "text": [
      "22:35:50 - cmdstanpy - INFO - Chain [1] start processing\n",
      "22:35:51 - cmdstanpy - INFO - Chain [1] start processing\n",
      "22:35:51 - cmdstanpy - INFO - Chain [1] done processing\n",
      "22:35:51 - cmdstanpy - INFO - Chain [1] done processing\n"
     ]
    },
    {
     "name": "stdout",
     "output_type": "stream",
     "text": [
      "It's underpredicted.\n",
      "Monthly Error: 16.52 Period MAE: 14.06\n",
      "It's overpredicted.\n",
      "Monthly Error: 30.36 Period MAE: 23.95\n",
      "It's underpredicted.\n"
     ]
    },
    {
     "name": "stderr",
     "output_type": "stream",
     "text": [
      "22:35:53 - cmdstanpy - INFO - Chain [1] start processing\n"
     ]
    },
    {
     "name": "stdout",
     "output_type": "stream",
     "text": [
      "Monthly Error: 19.81 Period MAE:"
     ]
    },
    {
     "name": "stderr",
     "output_type": "stream",
     "text": [
      "22:35:53 - cmdstanpy - INFO - Chain [1] start processing\n"
     ]
    },
    {
     "name": "stdout",
     "output_type": "stream",
     "text": [
      " 18.54\n"
     ]
    },
    {
     "name": "stderr",
     "output_type": "stream",
     "text": [
      "22:35:53 - cmdstanpy - INFO - Chain [1] start processing\n",
      "22:35:53 - cmdstanpy - INFO - Chain [1] done processing\n",
      "22:35:54 - cmdstanpy - INFO - Chain [1] done processing\n",
      "22:35:54 - cmdstanpy - INFO - Chain [1] done processing\n"
     ]
    },
    {
     "name": "stdout",
     "output_type": "stream",
     "text": [
      "It's overpredicted.\n",
      "Monthly Error: 30.03 Period MAE: 24.18\n",
      "It's underpredicted.\n",
      "Monthly Error: 20.78 Period MAE: 20.03\n"
     ]
    },
    {
     "name": "stderr",
     "output_type": "stream",
     "text": [
      "22:35:55 - cmdstanpy - INFO - Chain [1] start processing\n",
      "22:35:56 - cmdstanpy - INFO - Chain [1] done processing\n"
     ]
    },
    {
     "name": "stdout",
     "output_type": "stream",
     "text": [
      "It's underpredicted.\n",
      "Monthly Error: 20.19 Period MAE: 17.91\n"
     ]
    },
    {
     "name": "stderr",
     "output_type": "stream",
     "text": [
      "22:35:56 - cmdstanpy - INFO - Chain [1] start processing\n",
      "22:35:56 - cmdstanpy - INFO - Chain [1] start processing\n",
      "22:35:57 - cmdstanpy - INFO - Chain [1] done processing\n",
      "22:35:57 - cmdstanpy - INFO - Chain [1] done processing\n"
     ]
    },
    {
     "name": "stdout",
     "output_type": "stream",
     "text": [
      "It's overpredicted.\n",
      "Monthly Error: 28.79 Period MAE: 23.13\n",
      "It's underpredicted.\n",
      "Monthly Error: 22.0 Period MAE: 21.05\n"
     ]
    },
    {
     "name": "stderr",
     "output_type": "stream",
     "text": [
      "22:35:59 - cmdstanpy - INFO - Chain [1] start processing\n"
     ]
    },
    {
     "name": "stdout",
     "output_type": "stream",
     "text": [
      "It's overpredicted.\n",
      "Monthly Error: 12.24 Period MAE: 2.3\n"
     ]
    },
    {
     "name": "stderr",
     "output_type": "stream",
     "text": [
      "22:35:59 - cmdstanpy - INFO - Chain [1] done processing\n",
      "22:35:59 - cmdstanpy - INFO - Chain [1] start processing\n",
      "22:36:00 - cmdstanpy - INFO - Chain [1] start processing\n",
      "22:36:00 - cmdstanpy - INFO - Chain [1] done processing\n",
      "22:36:00 - cmdstanpy - INFO - Chain [1] done processing\n"
     ]
    },
    {
     "name": "stdout",
     "output_type": "stream",
     "text": [
      "It's overpredicted.\n",
      "Monthly Error: 11.93 Period MAE: 2.8000000000000003\n"
     ]
    },
    {
     "name": "stderr",
     "output_type": "stream",
     "text": [
      "22:36:01 - cmdstanpy - INFO - Chain [1] start processing\n",
      "22:36:01 - cmdstanpy - INFO - Chain [1] done processing\n"
     ]
    },
    {
     "name": "stdout",
     "output_type": "stream",
     "text": [
      "It's underpredicted.\n",
      "Monthly Error: 17.85 Period MAE: 16.14\n",
      "It's underpredicted.\n",
      "Monthly Error: 23.03 Period MAE: 21.44\n"
     ]
    },
    {
     "name": "stderr",
     "output_type": "stream",
     "text": [
      "22:36:02 - cmdstanpy - INFO - Chain [1] start processing\n",
      "22:36:03 - cmdstanpy - INFO - Chain [1] done processing\n",
      "22:36:03 - cmdstanpy - INFO - Chain [1] start processing\n",
      "22:36:03 - cmdstanpy - INFO - Chain [1] done processing\n"
     ]
    },
    {
     "name": "stdout",
     "output_type": "stream",
     "text": [
      "It's underpredicted.\n",
      "Monthly Error: 20.18 Period MAE: 19.12\n",
      "It's underpredicted.\n",
      "Monthly Error: 22.08 Period MAE: 22.98\n"
     ]
    },
    {
     "name": "stderr",
     "output_type": "stream",
     "text": [
      "22:36:05 - cmdstanpy - INFO - Chain [1] start processing\n"
     ]
    },
    {
     "name": "stdout",
     "output_type": "stream",
     "text": [
      "It's overpredicted."
     ]
    },
    {
     "name": "stderr",
     "output_type": "stream",
     "text": [
      "22:36:05 - cmdstanpy - INFO - Chain [1] done processing\n"
     ]
    },
    {
     "name": "stdout",
     "output_type": "stream",
     "text": [
      "\n",
      "Monthly Error: 12.38 Period MAE: 2.6599999999999997\n"
     ]
    },
    {
     "name": "stderr",
     "output_type": "stream",
     "text": [
      "22:36:06 - cmdstanpy - INFO - Chain [1] start processing\n",
      "22:36:06 - cmdstanpy - INFO - Chain [1] start processing\n",
      "22:36:06 - cmdstanpy - INFO - Chain [1] done processing\n",
      "22:36:07 - cmdstanpy - INFO - Chain [1] done processing\n"
     ]
    },
    {
     "name": "stdout",
     "output_type": "stream",
     "text": [
      "It's underpredicted.\n",
      "Monthly Error: 20.39 Period MAE: 18.099999999999998\n",
      "It's underpredicted.\n",
      "Monthly Error:  20.69Period MAE: 21.61\n",
      "It's underpredicted."
     ]
    },
    {
     "name": "stderr",
     "output_type": "stream",
     "text": [
      "22:36:08 - cmdstanpy - INFO - Chain [1] start processing\n"
     ]
    },
    {
     "name": "stdout",
     "output_type": "stream",
     "text": [
      "\n",
      "Monthly Error: 18.41 Period MAE: 17.04\n"
     ]
    },
    {
     "name": "stderr",
     "output_type": "stream",
     "text": [
      "22:36:08 - cmdstanpy - INFO - Chain [1] done processing\n",
      "22:36:08 - cmdstanpy - INFO - Chain [1] start processing\n",
      "22:36:09 - cmdstanpy - INFO - Chain [1] start processing\n",
      "22:36:09 - cmdstanpy - INFO - Chain [1] done processing\n",
      "22:36:09 - cmdstanpy - INFO - Chain [1] done processing\n"
     ]
    },
    {
     "name": "stdout",
     "output_type": "stream",
     "text": [
      "It's underpredicted.\n",
      "Monthly Error: 20.62 Period MAE: 19.73\n",
      "It's underpredicted.\n",
      "Monthly Error: 20.71 Period MAE: 19.91\n"
     ]
    },
    {
     "name": "stderr",
     "output_type": "stream",
     "text": [
      "22:36:11 - cmdstanpy - INFO - Chain [1] start processing\n"
     ]
    },
    {
     "name": "stdout",
     "output_type": "stream",
     "text": [
      "It's overpredicted.\n",
      "Monthly Error: 28.9 Period MAE: 20.64\n"
     ]
    },
    {
     "name": "stderr",
     "output_type": "stream",
     "text": [
      "22:36:12 - cmdstanpy - INFO - Chain [1] start processing\n",
      "22:36:12 - cmdstanpy - INFO - Chain [1] done processing\n",
      "22:36:12 - cmdstanpy - INFO - Chain [1] done processing\n",
      "22:36:12 - cmdstanpy - INFO - Chain [1] start processing\n",
      "22:36:13 - cmdstanpy - INFO - Chain [1] done processing\n"
     ]
    },
    {
     "name": "stdout",
     "output_type": "stream",
     "text": [
      "It's overpredicted.\n",
      "Monthly Error: 27.19 It's underpredicted.Period MAE:\n",
      "Monthly Error:  20.11999999999999720.31\n",
      " Period MAE: 19.12\n"
     ]
    },
    {
     "name": "stderr",
     "output_type": "stream",
     "text": [
      "22:36:14 - cmdstanpy - INFO - Chain [1] start processing\n",
      "22:36:14 - cmdstanpy - INFO - Chain [1] done processing\n",
      "22:36:15 - cmdstanpy - INFO - Chain [1] start processing\n"
     ]
    },
    {
     "name": "stdout",
     "output_type": "stream",
     "text": [
      "It's underpredicted.\n",
      "Monthly Error: 20.67 Period MAE: 18.66\n"
     ]
    },
    {
     "name": "stderr",
     "output_type": "stream",
     "text": [
      "22:36:15 - cmdstanpy - INFO - Chain [1] done processing\n",
      "22:36:15 - cmdstanpy - INFO - Chain [1] start processing\n",
      "22:36:16 - cmdstanpy - INFO - Chain [1] done processing\n"
     ]
    },
    {
     "name": "stdout",
     "output_type": "stream",
     "text": [
      "It's underpredicted.\n",
      "Monthly Error: 23.26 Period MAE: 23.03\n",
      "It's underpredicted.\n",
      "It's overpredicted.\n",
      "Monthly Error: Monthly Error: 17.3728.5  Period MAE:Period MAE:  22.384.79\n",
      "\n"
     ]
    },
    {
     "name": "stderr",
     "output_type": "stream",
     "text": [
      "22:36:18 - cmdstanpy - INFO - Chain [1] start processing\n",
      "22:36:18 - cmdstanpy - INFO - Chain [1] start processing\n",
      "22:36:18 - cmdstanpy - INFO - Chain [1] done processing\n",
      "22:36:18 - cmdstanpy - INFO - Chain [1] start processing\n",
      "22:36:19 - cmdstanpy - INFO - Chain [1] done processing\n",
      "22:36:19 - cmdstanpy - INFO - Chain [1] done processing\n"
     ]
    },
    {
     "name": "stdout",
     "output_type": "stream",
     "text": [
      "It's underpredicted.\n",
      "Monthly Error: 23.36 Period MAE: 23.77\n",
      "It's underpredicted.\n",
      "Monthly Error: 16.82 Period MAE: 5.64\n"
     ]
    },
    {
     "name": "stderr",
     "output_type": "stream",
     "text": [
      "22:36:20 - cmdstanpy - INFO - Chain [1] start processing\n",
      "22:36:20 - cmdstanpy - INFO - Chain [1] done processing\n",
      "22:36:21 - cmdstanpy - INFO - Chain [1] start processing\n",
      "22:36:21 - cmdstanpy - INFO - Chain [1] done processing\n"
     ]
    },
    {
     "name": "stdout",
     "output_type": "stream",
     "text": [
      "It's underpredicted.\n",
      "Monthly Error: 21.36 Period MAE: 18.990000000000002\n",
      "It's underpredicted.It's underpredicted.\n",
      "\n",
      "Monthly Error: Monthly Error:17.85 Period MAE: 5.050000000000001\n",
      " 20.87 Period MAE: 19.78\n"
     ]
    },
    {
     "name": "stderr",
     "output_type": "stream",
     "text": [
      "22:36:23 - cmdstanpy - INFO - Chain [1] start processing\n",
      "22:36:23 - cmdstanpy - INFO - Chain [1] done processing\n",
      "22:36:24 - cmdstanpy - INFO - Chain [1] start processing\n"
     ]
    },
    {
     "name": "stdout",
     "output_type": "stream",
     "text": [
      "It's overpredicted.\n",
      "Monthly Error: 20.22 Period MAE: 11.33\n"
     ]
    },
    {
     "name": "stderr",
     "output_type": "stream",
     "text": [
      "22:36:24 - cmdstanpy - INFO - Chain [1] start processing\n",
      "22:36:24 - cmdstanpy - INFO - Chain [1] start processing\n",
      "22:36:25 - cmdstanpy - INFO - Chain [1] done processing\n",
      "22:36:25 - cmdstanpy - INFO - Chain [1] done processing\n",
      "22:36:25 - cmdstanpy - INFO - Chain [1] done processing\n"
     ]
    },
    {
     "name": "stdout",
     "output_type": "stream",
     "text": [
      "It's underpredicted.\n",
      "Monthly Error: 17.49 Period MAE: 13.29\n",
      "It's underpredicted.\n",
      "Monthly Error: 25.14 Period MAE: 24.4\n"
     ]
    },
    {
     "name": "stderr",
     "output_type": "stream",
     "text": [
      "22:36:27 - cmdstanpy - INFO - Chain [1] start processing\n",
      "22:36:27 - cmdstanpy - INFO - Chain [1] done processing\n"
     ]
    },
    {
     "name": "stdout",
     "output_type": "stream",
     "text": [
      "It's overpredicted.\n",
      "Monthly Error: 20.36 Period MAE: 11.59\n"
     ]
    },
    {
     "name": "stderr",
     "output_type": "stream",
     "text": [
      "22:36:28 - cmdstanpy - INFO - Chain [1] start processing\n",
      "22:36:28 - cmdstanpy - INFO - Chain [1] done processing\n",
      "22:36:28 - cmdstanpy - INFO - Chain [1] start processing\n"
     ]
    },
    {
     "name": "stdout",
     "output_type": "stream",
     "text": [
      "It's overpredicted.\n",
      "Monthly Error: "
     ]
    },
    {
     "name": "stderr",
     "output_type": "stream",
     "text": [
      "22:36:29 - cmdstanpy - INFO - Chain [1] done processing\n"
     ]
    },
    {
     "name": "stdout",
     "output_type": "stream",
     "text": [
      "21.44 Period MAE: 12.920000000000002\n"
     ]
    },
    {
     "name": "stderr",
     "output_type": "stream",
     "text": [
      "22:36:30 - cmdstanpy - INFO - Chain [1] start processing\n"
     ]
    },
    {
     "name": "stdout",
     "output_type": "stream",
     "text": [
      "It's underpredicted.\n",
      "Monthly Error: 17.52 Period MAE: 12.64\n"
     ]
    },
    {
     "name": "stderr",
     "output_type": "stream",
     "text": [
      "22:36:31 - cmdstanpy - INFO - Chain [1] done processing\n"
     ]
    },
    {
     "name": "stdout",
     "output_type": "stream",
     "text": [
      "It's overpredicted.\n",
      "Monthly Error: 24.61 Period MAE: 16.150000000000002\n"
     ]
    },
    {
     "name": "stderr",
     "output_type": "stream",
     "text": [
      "22:36:32 - cmdstanpy - INFO - Chain [1] start processing\n",
      "22:36:32 - cmdstanpy - INFO - Chain [1] start processing\n",
      "22:36:32 - cmdstanpy - INFO - Chain [1] done processing\n",
      "22:36:32 - cmdstanpy - INFO - Chain [1] done processing\n"
     ]
    },
    {
     "name": "stdout",
     "output_type": "stream",
     "text": [
      "It's overpredicted.\n",
      "Monthly Error: 24.57 Period MAE: 16.150000000000002\n"
     ]
    },
    {
     "name": "stderr",
     "output_type": "stream",
     "text": [
      "22:36:33 - cmdstanpy - INFO - Chain [1] start processing\n",
      "22:36:33 - cmdstanpy - INFO - Chain [1] done processing\n"
     ]
    },
    {
     "name": "stdout",
     "output_type": "stream",
     "text": [
      "It's underpredicted.\n",
      "Monthly Error: 22.9 Period MAE: 21.22\n",
      "It's underpredicted.\n",
      "Monthly Error: 16.04 Period MAE: 12.18\n"
     ]
    },
    {
     "name": "stderr",
     "output_type": "stream",
     "text": [
      "22:36:34 - cmdstanpy - INFO - Chain [1] start processing\n",
      "22:36:35 - cmdstanpy - INFO - Chain [1] start processing\n",
      "22:36:35 - cmdstanpy - INFO - Chain [1] done processing\n",
      "22:36:36 - cmdstanpy - INFO - Chain [1] done processing\n"
     ]
    },
    {
     "name": "stdout",
     "output_type": "stream",
     "text": [
      "It's overpredicted.\n",
      "Monthly Error: 23.74 Period MAE: 15.49\n",
      "It's overpredicted.\n",
      "Monthly Error: 33.52 Period MAE: 26.32\n",
      "It's underpredicted.\n",
      "Monthly Error: 15.0 Period MAE: 8.7\n"
     ]
    },
    {
     "name": "stderr",
     "output_type": "stream",
     "text": [
      "22:36:38 - cmdstanpy - INFO - Chain [1] start processing\n",
      "22:36:38 - cmdstanpy - INFO - Chain [1] start processing\n",
      "22:36:38 - cmdstanpy - INFO - Chain [1] done processing\n",
      "22:36:38 - cmdstanpy - INFO - Chain [1] start processing\n",
      "22:36:39 - cmdstanpy - INFO - Chain [1] done processing\n"
     ]
    },
    {
     "name": "stdout",
     "output_type": "stream",
     "text": [
      "It's overpredicted.\n",
      "Monthly Error: 36.44 Period MAE: 29.970000000000002\n",
      "It's underpredicted.\n",
      "Monthly Error: 23.46 Period MAE: 23.830000000000002\n"
     ]
    },
    {
     "name": "stderr",
     "output_type": "stream",
     "text": [
      "22:36:39 - cmdstanpy - INFO - Chain [1] start processing\n",
      "22:36:39 - cmdstanpy - INFO - Chain [1] done processing\n",
      "22:36:40 - cmdstanpy - INFO - Chain [1] done processing\n",
      "22:36:40 - cmdstanpy - INFO - Chain [1] start processing\n",
      "22:36:41 - cmdstanpy - INFO - Chain [1] done processing\n"
     ]
    },
    {
     "name": "stdout",
     "output_type": "stream",
     "text": [
      "It's underpredicted.\n",
      "Monthly Error: 17.76 Period MAE: It's underpredicted.13.59\n",
      "Monthly Error:\n",
      " 21.73 Period MAE: \n",
      "20.880000000000003It's overpredicted.\n",
      "Monthly Error: 36.96 Period MAE: 30.95\n"
     ]
    },
    {
     "name": "stderr",
     "output_type": "stream",
     "text": [
      "22:36:43 - cmdstanpy - INFO - Chain [1] start processing\n"
     ]
    },
    {
     "name": "stdout",
     "output_type": "stream",
     "text": [
      "It's underpredicted.\n"
     ]
    },
    {
     "name": "stderr",
     "output_type": "stream",
     "text": [
      "22:36:43 - cmdstanpy - INFO - Chain [1] done processing\n"
     ]
    },
    {
     "name": "stdout",
     "output_type": "stream",
     "text": [
      "Monthly Error: 15.2 Period MAE: 8.24\n"
     ]
    },
    {
     "name": "stderr",
     "output_type": "stream",
     "text": [
      "22:36:44 - cmdstanpy - INFO - Chain [1] start processing\n",
      "22:36:44 - cmdstanpy - INFO - Chain [1] start processing\n",
      "22:36:44 - cmdstanpy - INFO - Chain [1] start processing\n",
      "22:36:44 - cmdstanpy - INFO - Chain [1] done processing\n",
      "22:36:44 - cmdstanpy - INFO - Chain [1] done processing\n",
      "22:36:44 - cmdstanpy - INFO - Chain [1] done processing\n"
     ]
    },
    {
     "name": "stdout",
     "output_type": "stream",
     "text": [
      "It's underpredicted.\n",
      "Monthly Error: 17.88 Period MAE: 13.88\n"
     ]
    },
    {
     "name": "stderr",
     "output_type": "stream",
     "text": [
      "22:36:46 - cmdstanpy - INFO - Chain [1] start processing\n",
      "22:36:46 - cmdstanpy - INFO - Chain [1] done processing\n"
     ]
    },
    {
     "name": "stdout",
     "output_type": "stream",
     "text": [
      "It's underpredicted.\n",
      "It's underpredicted.Monthly Error:\n",
      "Monthly Error:  24.95 Period MAE: 23.66\n",
      "15.19 Period MAE: 8.25\n"
     ]
    },
    {
     "name": "stderr",
     "output_type": "stream",
     "text": [
      "22:36:48 - cmdstanpy - INFO - Chain [1] start processing\n",
      "22:36:48 - cmdstanpy - INFO - Chain [1] start processing\n",
      "22:36:48 - cmdstanpy - INFO - Chain [1] done processing\n",
      "22:36:48 - cmdstanpy - INFO - Chain [1] done processing\n"
     ]
    },
    {
     "name": "stdout",
     "output_type": "stream",
     "text": [
      "It's underpredicted.\n",
      "Monthly Error: 13.85 Period MAE: 8.0\n",
      "It's overpredicted.\n",
      "Monthly Error: 23.81"
     ]
    },
    {
     "name": "stderr",
     "output_type": "stream",
     "text": [
      "22:36:50 - cmdstanpy - INFO - Chain [1] start processing\n"
     ]
    },
    {
     "name": "stdout",
     "output_type": "stream",
     "text": [
      " Period MAE: 13.62\n",
      "It's underpredicted.\n",
      "Monthly Error: 16.6 Period MAE: 10.530000000000001\n"
     ]
    },
    {
     "name": "stderr",
     "output_type": "stream",
     "text": [
      "22:36:50 - cmdstanpy - INFO - Chain [1] done processing\n",
      "22:36:51 - cmdstanpy - INFO - Chain [1] start processing\n",
      "22:36:51 - cmdstanpy - INFO - Chain [1] start processing\n",
      "22:36:51 - cmdstanpy - INFO - Chain [1] done processing\n",
      "22:36:52 - cmdstanpy - INFO - Chain [1] done processing\n"
     ]
    },
    {
     "name": "stdout",
     "output_type": "stream",
     "text": [
      "It's overpredicted.\n",
      "Monthly Error: 23.81 Period MAE: 13.66\n"
     ]
    },
    {
     "name": "stderr",
     "output_type": "stream",
     "text": [
      "22:36:52 - cmdstanpy - INFO - Chain [1] start processing\n",
      "22:36:52 - cmdstanpy - INFO - Chain [1] done processing\n"
     ]
    },
    {
     "name": "stdout",
     "output_type": "stream",
     "text": [
      "It's underpredicted.\n",
      "Monthly Error: 23.01 Period MAE: 21.05\n",
      "It's underpredicted.Monthly Error:\n",
      " 15.59 Period MAE: 11.07\n"
     ]
    },
    {
     "name": "stderr",
     "output_type": "stream",
     "text": [
      "22:36:53 - cmdstanpy - INFO - Chain [1] start processing\n",
      "22:36:54 - cmdstanpy - INFO - Chain [1] start processing\n",
      "22:36:54 - cmdstanpy - INFO - Chain [1] done processing\n",
      "22:36:54 - cmdstanpy - INFO - Chain [1] done processing\n"
     ]
    },
    {
     "name": "stdout",
     "output_type": "stream",
     "text": [
      "It's overpredicted.\n",
      "Monthly Error: 26.16 Period MAE: 15.440000000000001\n",
      "It's overpredicted.\n",
      "Monthly Error: 22.73 Period MAE: 12.94\n",
      "It's underpredicted.\n",
      "Monthly Error: 15.61 Period MAE: 10.0\n"
     ]
    },
    {
     "name": "stderr",
     "output_type": "stream",
     "text": [
      "22:36:57 - cmdstanpy - INFO - Chain [1] start processing\n",
      "22:36:57 - cmdstanpy - INFO - Chain [1] start processing\n"
     ]
    },
    {
     "name": "stdout",
     "output_type": "stream",
     "text": [
      "It's overpredicted.\n",
      "Monthly Error: 26.08 Period MAE: 15.409999999999998\n"
     ]
    },
    {
     "name": "stderr",
     "output_type": "stream",
     "text": [
      "22:36:57 - cmdstanpy - INFO - Chain [1] done processing\n",
      "22:36:57 - cmdstanpy - INFO - Chain [1] start processing\n",
      "22:36:57 - cmdstanpy - INFO - Chain [1] start processing\n",
      "22:36:58 - cmdstanpy - INFO - Chain [1] done processing\n",
      "22:36:58 - cmdstanpy - INFO - Chain [1] done processing\n",
      "22:36:58 - cmdstanpy - INFO - Chain [1] done processing\n"
     ]
    },
    {
     "name": "stdout",
     "output_type": "stream",
     "text": [
      "It's underpredicted.\n",
      "Monthly Error: 17.71 Period MAE: 16.06\n"
     ]
    },
    {
     "name": "stderr",
     "output_type": "stream",
     "text": [
      "22:36:59 - cmdstanpy - INFO - Chain [1] start processing\n",
      "22:37:00 - cmdstanpy - INFO - Chain [1] done processing\n"
     ]
    },
    {
     "name": "stdout",
     "output_type": "stream",
     "text": [
      "It's underpredicted.\n",
      "Monthly Error: 16.89 Period MAE: 12.23\n",
      "It's underpredicted.\n",
      "Monthly Error: 16.77 Period MAE: 18.529999999999998\n"
     ]
    },
    {
     "name": "stderr",
     "output_type": "stream",
     "text": [
      "22:37:01 - cmdstanpy - INFO - Chain [1] start processing\n"
     ]
    },
    {
     "name": "stdout",
     "output_type": "stream",
     "text": [
      "It's underpredicted.\n"
     ]
    },
    {
     "name": "stderr",
     "output_type": "stream",
     "text": [
      "22:37:01 - cmdstanpy - INFO - Chain [1] done processing\n"
     ]
    },
    {
     "name": "stdout",
     "output_type": "stream",
     "text": [
      "Monthly Error: 20.54 Period MAE: 19.71\n",
      "It's overpredicted.\n",
      "Monthly Error: 32.97 Period MAE: 25.03\n"
     ]
    },
    {
     "name": "stderr",
     "output_type": "stream",
     "text": [
      "22:37:02 - cmdstanpy - INFO - Chain [1] start processing\n",
      "22:37:03 - cmdstanpy - INFO - Chain [1] start processing\n",
      "22:37:03 - cmdstanpy - INFO - Chain [1] done processing\n",
      "22:37:03 - cmdstanpy - INFO - Chain [1] start processing\n",
      "22:37:03 - cmdstanpy - INFO - Chain [1] done processing\n",
      "22:37:04 - cmdstanpy - INFO - Chain [1] done processing\n"
     ]
    },
    {
     "name": "stdout",
     "output_type": "stream",
     "text": [
      "It's underpredicted.\n",
      "Monthly Error: 18.06 Period MAE: 16.509999999999998\n"
     ]
    },
    {
     "name": "stderr",
     "output_type": "stream",
     "text": [
      "22:37:05 - cmdstanpy - INFO - Chain [1] start processing\n",
      "22:37:05 - cmdstanpy - INFO - Chain [1] done processing\n"
     ]
    },
    {
     "name": "stdout",
     "output_type": "stream",
     "text": [
      "It's underpredicted.\n",
      "Monthly Error: 16.14 Period MAE: 17.810000000000002\n",
      "It's underpredicted.\n",
      "Monthly Error: 19.53 Period MAE: 17.11\n"
     ]
    },
    {
     "name": "stderr",
     "output_type": "stream",
     "text": [
      "22:37:06 - cmdstanpy - INFO - Chain [1] start processing\n",
      "22:37:07 - cmdstanpy - INFO - Chain [1] start processing\n",
      "22:37:07 - cmdstanpy - INFO - Chain [1] done processing\n",
      "22:37:07 - cmdstanpy - INFO - Chain [1] done processing\n"
     ]
    },
    {
     "name": "stdout",
     "output_type": "stream",
     "text": [
      "It's underpredicted.\n",
      "Monthly Error: 16.42 It's overpredicted.Period MAE: \n",
      "14.299999999999999\n",
      "Monthly Error: 30.36 Period MAE: 23.94\n",
      "It's underpredicted.\n",
      "Monthly Error: 19.86 Period MAE: 18.64\n"
     ]
    },
    {
     "name": "stderr",
     "output_type": "stream",
     "text": [
      "22:37:09 - cmdstanpy - INFO - Chain [1] start processing\n",
      "22:37:09 - cmdstanpy - INFO - Chain [1] start processing\n",
      "22:37:09 - cmdstanpy - INFO - Chain [1] start processing\n",
      "22:37:10 - cmdstanpy - INFO - Chain [1] done processing\n",
      "22:37:10 - cmdstanpy - INFO - Chain [1] done processing\n",
      "22:37:10 - cmdstanpy - INFO - Chain [1] done processing\n"
     ]
    },
    {
     "name": "stdout",
     "output_type": "stream",
     "text": [
      "It's underpredicted.\n",
      "Monthly Error: 19.79It's overpredicted. Period MAE:\n",
      " Monthly Error:18.4\n",
      " 29.98 Period MAE: 24.13\n"
     ]
    },
    {
     "name": "stderr",
     "output_type": "stream",
     "text": [
      "22:37:12 - cmdstanpy - INFO - Chain [1] start processing\n",
      "22:37:12 - cmdstanpy - INFO - Chain [1] done processing\n",
      "22:37:12 - cmdstanpy - INFO - Chain [1] start processing\n"
     ]
    },
    {
     "name": "stdout",
     "output_type": "stream",
     "text": [
      "It's underpredicted.\n",
      "Monthly Error: 20.1 Period MAE: 17.669999999999998\n"
     ]
    },
    {
     "name": "stderr",
     "output_type": "stream",
     "text": [
      "22:37:13 - cmdstanpy - INFO - Chain [1] done processing\n"
     ]
    },
    {
     "name": "stdout",
     "output_type": "stream",
     "text": [
      "It's overpredicted.\n",
      "Monthly Error: 28.74 Period MAE: 23.06\n"
     ]
    },
    {
     "name": "stderr",
     "output_type": "stream",
     "text": [
      "22:37:14 - cmdstanpy - INFO - Chain [1] start processing\n",
      "22:37:14 - cmdstanpy - INFO - Chain [1] done processing\n",
      "22:37:14 - cmdstanpy - INFO - Chain [1] start processing\n"
     ]
    },
    {
     "name": "stdout",
     "output_type": "stream",
     "text": [
      "It's underpredicted.\n",
      "Monthly Error: 23.11 Period MAE: 22.91\n"
     ]
    },
    {
     "name": "stderr",
     "output_type": "stream",
     "text": [
      "22:37:16 - cmdstanpy - INFO - Chain [1] done processing\n"
     ]
    },
    {
     "name": "stdout",
     "output_type": "stream",
     "text": [
      "It's overpredicted.\n",
      "Monthly Error: 12.29 Period MAE: 2.37\n"
     ]
    },
    {
     "name": "stderr",
     "output_type": "stream",
     "text": [
      "22:37:16 - cmdstanpy - INFO - Chain [1] start processing\n",
      "22:37:16 - cmdstanpy - INFO - Chain [1] start processing\n",
      "22:37:17 - cmdstanpy - INFO - Chain [1] done processing\n",
      "22:37:17 - cmdstanpy - INFO - Chain [1] done processing\n"
     ]
    },
    {
     "name": "stdout",
     "output_type": "stream",
     "text": [
      "It's overpredicted.\n",
      "Monthly Error: It's underpredicted.11.73\n",
      " Period MAE: Monthly Error: 2.5621.69\n",
      " Period MAE: 19.470000000000002\n",
      "It's underpredicted.\n",
      "Monthly Error: 18.5 Period MAE: 17.169999999999998\n"
     ]
    },
    {
     "name": "stderr",
     "output_type": "stream",
     "text": [
      "22:37:18 - cmdstanpy - INFO - Chain [1] start processing\n",
      "22:37:18 - cmdstanpy - INFO - Chain [1] done processing\n",
      "22:37:19 - cmdstanpy - INFO - Chain [1] start processing\n",
      "22:37:19 - cmdstanpy - INFO - Chain [1] start processing\n",
      "22:37:19 - cmdstanpy - INFO - Chain [1] done processing\n",
      "22:37:19 - cmdstanpy - INFO - Chain [1] done processing\n"
     ]
    },
    {
     "name": "stdout",
     "output_type": "stream",
     "text": [
      "It's underpredicted.\n",
      "Monthly Error: 20.41 Period MAE: 19.439999999999998\n",
      "It's overpredicted.\n",
      "Monthly Error: 11.97 Period MAE: 2.35\n",
      "It's underpredicted.\n",
      "Monthly Error: 22.09 Period MAE: 22.98\n"
     ]
    },
    {
     "name": "stderr",
     "output_type": "stream",
     "text": [
      "22:37:22 - cmdstanpy - INFO - Chain [1] start processing\n",
      "22:37:22 - cmdstanpy - INFO - Chain [1] start processing\n",
      "22:37:22 - cmdstanpy - INFO - Chain [1] start processing\n",
      "22:37:22 - cmdstanpy - INFO - Chain [1] done processing\n",
      "22:37:23 - cmdstanpy - INFO - Chain [1] done processing\n"
     ]
    },
    {
     "name": "stdout",
     "output_type": "stream",
     "text": [
      "It's underpredicted.\n",
      "Monthly Error: 20.66 Period MAE: 21.52\n"
     ]
    },
    {
     "name": "stderr",
     "output_type": "stream",
     "text": [
      "22:37:23 - cmdstanpy - INFO - Chain [1] done processing\n",
      "22:37:23 - cmdstanpy - INFO - Chain [1] start processing\n",
      "22:37:23 - cmdstanpy - INFO - Chain [1] done processing\n"
     ]
    },
    {
     "name": "stdout",
     "output_type": "stream",
     "text": [
      "It's underpredicted.\n",
      "Monthly Error: 17.83 Period MAE: 16.12\n"
     ]
    },
    {
     "name": "stderr",
     "output_type": "stream",
     "text": [
      "22:37:25 - cmdstanpy - INFO - Chain [1] start processing\n"
     ]
    },
    {
     "name": "stdout",
     "output_type": "stream",
     "text": [
      "It's underpredicted.\n",
      "Monthly Error: 20.7 Period MAE: 18.6\n"
     ]
    },
    {
     "name": "stderr",
     "output_type": "stream",
     "text": [
      "22:37:26 - cmdstanpy - INFO - Chain [1] done processing\n",
      "22:37:26 - cmdstanpy - INFO - Chain [1] start processing\n"
     ]
    },
    {
     "name": "stdout",
     "output_type": "stream",
     "text": [
      "It's underpredicted.\n",
      "Monthly Error: "
     ]
    },
    {
     "name": "stderr",
     "output_type": "stream",
     "text": [
      "22:37:27 - cmdstanpy - INFO - Chain [1] done processing\n"
     ]
    },
    {
     "name": "stdout",
     "output_type": "stream",
     "text": [
      "20.64 Period MAE: It's overpredicted.19.900000000000002\n",
      "\n",
      "Monthly Error: 28.86 Period MAE: 20.599999999999998\n",
      "It's underpredicted.\n",
      "Monthly Error: 19.91 Period MAE: 18.72\n"
     ]
    },
    {
     "name": "stderr",
     "output_type": "stream",
     "text": [
      "22:37:28 - cmdstanpy - INFO - Chain [1] start processing\n",
      "22:37:28 - cmdstanpy - INFO - Chain [1] start processing\n",
      "22:37:28 - cmdstanpy - INFO - Chain [1] start processing\n",
      "22:37:28 - cmdstanpy - INFO - Chain [1] done processing\n",
      "22:37:29 - cmdstanpy - INFO - Chain [1] done processing\n",
      "22:37:29 - cmdstanpy - INFO - Chain [1] done processing\n"
     ]
    },
    {
     "name": "stdout",
     "output_type": "stream",
     "text": [
      "It's underpredicted.\n",
      "Monthly Error: 20.47 Period MAE: 19.53\n",
      "It's overpredicted.\n",
      "Monthly Error:"
     ]
    },
    {
     "name": "stderr",
     "output_type": "stream",
     "text": [
      "22:37:30 - cmdstanpy - INFO - Chain [1] start processing\n"
     ]
    },
    {
     "name": "stdout",
     "output_type": "stream",
     "text": [
      " 28.48 Period MAE: 21.65\n"
     ]
    },
    {
     "name": "stderr",
     "output_type": "stream",
     "text": [
      "22:37:30 - cmdstanpy - INFO - Chain [1] done processing\n",
      "22:37:31 - cmdstanpy - INFO - Chain [1] start processing\n"
     ]
    },
    {
     "name": "stdout",
     "output_type": "stream",
     "text": [
      "It's underpredicted.\n",
      "Monthly Error: 20.05 Period MAE: 17.76\n"
     ]
    },
    {
     "name": "stderr",
     "output_type": "stream",
     "text": [
      "22:37:31 - cmdstanpy - INFO - Chain [1] done processing\n",
      "22:37:32 - cmdstanpy - INFO - Chain [1] start processing\n",
      "22:37:33 - cmdstanpy - INFO - Chain [1] done processing\n"
     ]
    },
    {
     "name": "stdout",
     "output_type": "stream",
     "text": [
      "It's underpredicted.It's overpredicted.\n",
      "\n",
      "Monthly Error:Monthly Error:  22.4127.68 Period MAE:  Period MAE: 21.4221.67\n",
      "\n",
      "It's underpredicted.\n",
      "Monthly Error: 17.39 Period MAE: 5.609999999999999"
     ]
    },
    {
     "name": "stderr",
     "output_type": "stream",
     "text": [
      "22:37:35 - cmdstanpy - INFO - Chain [1] start processing\n"
     ]
    },
    {
     "name": "stdout",
     "output_type": "stream",
     "text": [
      "\n"
     ]
    },
    {
     "name": "stderr",
     "output_type": "stream",
     "text": [
      "22:37:36 - cmdstanpy - INFO - Chain [1] start processing\n",
      "22:37:36 - cmdstanpy - INFO - Chain [1] done processing\n",
      "22:37:36 - cmdstanpy - INFO - Chain [1] start processing\n",
      "22:37:37 - cmdstanpy - INFO - Chain [1] done processing\n"
     ]
    },
    {
     "name": "stdout",
     "output_type": "stream",
     "text": [
      "It's underpredicted.\n",
      "Monthly Error: 16.83 Period MAE: 5.47\n"
     ]
    },
    {
     "name": "stderr",
     "output_type": "stream",
     "text": [
      "22:37:37 - cmdstanpy - INFO - Chain [1] done processing\n",
      "22:37:37 - cmdstanpy - INFO - Chain [1] start processing\n",
      "22:37:37 - cmdstanpy - INFO - Chain [1] done processing\n"
     ]
    },
    {
     "name": "stdout",
     "output_type": "stream",
     "text": [
      "It's underpredicted.\n",
      "Monthly Error: 22.96 Period MAE: 23.24\n"
     ]
    },
    {
     "name": "stderr",
     "output_type": "stream",
     "text": [
      "22:37:40 - cmdstanpy - INFO - Chain [1] start processing\n",
      "22:37:40 - cmdstanpy - INFO - Chain [1] done processing\n"
     ]
    },
    {
     "name": "stdout",
     "output_type": "stream",
     "text": [
      "It's underpredicted.\n",
      "Monthly Error: 22.17 Period MAE: 20.1\n",
      "It's overpredicted.\n",
      "Monthly Error: 20.66 Period MAE: 11.92\n",
      "It's underpredicted.\n",
      "Monthly Error: 17.86"
     ]
    },
    {
     "name": "stderr",
     "output_type": "stream",
     "text": [
      "22:37:42 - cmdstanpy - INFO - Chain [1] start processing\n"
     ]
    },
    {
     "name": "stdout",
     "output_type": "stream",
     "text": [
      " Period MAE: 5.489999999999999\n",
      "It's underpredicted.\n",
      "Monthly Error: 22.26 "
     ]
    },
    {
     "name": "stderr",
     "output_type": "stream",
     "text": [
      "22:37:42 - cmdstanpy - INFO - Chain [1] done processing\n"
     ]
    },
    {
     "name": "stdout",
     "output_type": "stream",
     "text": [
      "Period MAE: 21.77\n"
     ]
    },
    {
     "name": "stderr",
     "output_type": "stream",
     "text": [
      "22:37:42 - cmdstanpy - INFO - Chain [1] start processing\n",
      "22:37:42 - cmdstanpy - INFO - Chain [1] done processing\n",
      "22:37:43 - cmdstanpy - INFO - Chain [1] start processing\n",
      "22:37:43 - cmdstanpy - INFO - Chain [1] start processing\n",
      "22:37:44 - cmdstanpy - INFO - Chain [1] done processing\n"
     ]
    },
    {
     "name": "stdout",
     "output_type": "stream",
     "text": [
      "It's underpredicted.\n",
      "Monthly Error: 17.6 Period MAE: 13.469999999999999\n"
     ]
    },
    {
     "name": "stderr",
     "output_type": "stream",
     "text": [
      "22:37:44 - cmdstanpy - INFO - Chain [1] done processing\n",
      "22:37:44 - cmdstanpy - INFO - Chain [1] start processing\n",
      "22:37:44 - cmdstanpy - INFO - Chain [1] done processing\n"
     ]
    },
    {
     "name": "stdout",
     "output_type": "stream",
     "text": [
      "It's underpredicted.\n",
      "Monthly Error: 24.45 Period MAE: 23.43It's overpredicted.\n",
      "\n",
      "Monthly Error: 20.23 Period MAE: 11.41\n"
     ]
    },
    {
     "name": "stderr",
     "output_type": "stream",
     "text": [
      "22:37:47 - cmdstanpy - INFO - Chain [1] start processing\n",
      "22:37:47 - cmdstanpy - INFO - Chain [1] start processing\n",
      "22:37:47 - cmdstanpy - INFO - Chain [1] done processing\n",
      "22:37:47 - cmdstanpy - INFO - Chain [1] done processing\n"
     ]
    },
    {
     "name": "stdout",
     "output_type": "stream",
     "text": [
      "It's overpredicted.\n",
      "Monthly Error: 21.31 Period MAE: It's overpredicted.12.770000000000001\n",
      "Monthly Error: \n",
      "24.72 Period MAE: 16.3\n",
      "It's underpredicted.\n",
      "Monthly Error: 17.06 Period MAE: 11.690000000000001\n"
     ]
    },
    {
     "name": "stderr",
     "output_type": "stream",
     "text": [
      "22:37:49 - cmdstanpy - INFO - Chain [1] start processing\n",
      "22:37:49 - cmdstanpy - INFO - Chain [1] start processing\n",
      "22:37:50 - cmdstanpy - INFO - Chain [1] start processing\n"
     ]
    },
    {
     "name": "stdout",
     "output_type": "stream",
     "text": [
      "It's overpredicted.\n",
      "Monthly Error: 24.77 Period MAE:"
     ]
    },
    {
     "name": "stderr",
     "output_type": "stream",
     "text": [
      "22:37:50 - cmdstanpy - INFO - Chain [1] done processing\n"
     ]
    },
    {
     "name": "stdout",
     "output_type": "stream",
     "text": [
      " 16.42\n"
     ]
    },
    {
     "name": "stderr",
     "output_type": "stream",
     "text": [
      "22:37:50 - cmdstanpy - INFO - Chain [1] done processing\n",
      "22:37:50 - cmdstanpy - INFO - Chain [1] done processing\n",
      "22:37:50 - cmdstanpy - INFO - Chain [1] start processing\n",
      "22:37:51 - cmdstanpy - INFO - Chain [1] done processing\n"
     ]
    },
    {
     "name": "stdout",
     "output_type": "stream",
     "text": [
      "It's underpredicted.\n",
      "Monthly Error: 15.77 Period MAE: 10.780000000000001\n",
      "It's underpredicted.\n",
      "Monthly Error: 21.82 Period MAE: 19.509999999999998\n"
     ]
    },
    {
     "name": "stderr",
     "output_type": "stream",
     "text": [
      "22:37:53 - cmdstanpy - INFO - Chain [1] start processing\n",
      "22:37:53 - cmdstanpy - INFO - Chain [1] start processing\n",
      "22:37:54 - cmdstanpy - INFO - Chain [1] done processing\n",
      "22:37:54 - cmdstanpy - INFO - Chain [1] done processing\n"
     ]
    },
    {
     "name": "stdout",
     "output_type": "stream",
     "text": [
      "It's overpredicted.It's overpredicted.\n",
      "Monthly Error:\n",
      " Monthly Error: 24.3532.76 Period MAE:  16.29Period MAE: 25.430000000000003\n",
      "\n",
      "It's underpredicted.\n",
      "Monthly Error: 14.62 Period MAE: 6.76\n"
     ]
    },
    {
     "name": "stderr",
     "output_type": "stream",
     "text": [
      "22:37:55 - cmdstanpy - INFO - Chain [1] start processing\n",
      "22:37:55 - cmdstanpy - INFO - Chain [1] start processing\n",
      "22:37:56 - cmdstanpy - INFO - Chain [1] start processing\n",
      "22:37:56 - cmdstanpy - INFO - Chain [1] done processing\n",
      "22:37:56 - cmdstanpy - INFO - Chain [1] done processing\n",
      "22:37:56 - cmdstanpy - INFO - Chain [1] done processing\n"
     ]
    },
    {
     "name": "stdout",
     "output_type": "stream",
     "text": [
      "It's underpredicted.\n",
      "Monthly Error: 23.88 Period MAE: 24.37\n",
      "It's overpredicted.\n",
      "Monthly Error: 33.06 Period MAE: 25.869999999999997\n"
     ]
    },
    {
     "name": "stderr",
     "output_type": "stream",
     "text": [
      "22:37:58 - cmdstanpy - INFO - Chain [1] start processing\n",
      "22:37:58 - cmdstanpy - INFO - Chain [1] done processing\n",
      "22:37:58 - cmdstanpy - INFO - Chain [1] start processing\n"
     ]
    },
    {
     "name": "stdout",
     "output_type": "stream",
     "text": [
      "It's underpredicted.\n",
      "Monthly Error: 23.86 Period MAE: 22.63\n"
     ]
    },
    {
     "name": "stderr",
     "output_type": "stream",
     "text": [
      "22:37:59 - cmdstanpy - INFO - Chain [1] done processing\n",
      "22:37:59 - cmdstanpy - INFO - Chain [1] start processing\n",
      "22:38:00 - cmdstanpy - INFO - Chain [1] done processing\n"
     ]
    },
    {
     "name": "stdout",
     "output_type": "stream",
     "text": [
      "It's overpredicted.\n",
      "Monthly Error: 34.64 Period MAE: 28.04\n",
      "It's underpredicted.\n",
      "Monthly Error: 21.41 Period MAE: 20.549999999999997\n"
     ]
    },
    {
     "name": "stderr",
     "output_type": "stream",
     "text": [
      "22:38:01 - cmdstanpy - INFO - Chain [1] start processing\n"
     ]
    },
    {
     "name": "stdout",
     "output_type": "stream",
     "text": [
      "It's underpredicted.\n",
      "Monthly Error: 15.2 Period MAE: 8.25\n"
     ]
    },
    {
     "name": "stderr",
     "output_type": "stream",
     "text": [
      "22:38:02 - cmdstanpy - INFO - Chain [1] start processing\n",
      "22:38:02 - cmdstanpy - INFO - Chain [1] done processing\n",
      "22:38:02 - cmdstanpy - INFO - Chain [1] start processing\n",
      "22:38:03 - cmdstanpy - INFO - Chain [1] done processing\n",
      "22:38:03 - cmdstanpy - INFO - Chain [1] done processing\n"
     ]
    },
    {
     "name": "stdout",
     "output_type": "stream",
     "text": [
      "It's underpredicted.\n",
      "Monthly Error: 15.19 Period MAE: 8.25\n"
     ]
    },
    {
     "name": "stderr",
     "output_type": "stream",
     "text": [
      "22:38:04 - cmdstanpy - INFO - Chain [1] start processing\n",
      "22:38:04 - cmdstanpy - INFO - Chain [1] done processing\n"
     ]
    },
    {
     "name": "stdout",
     "output_type": "stream",
     "text": [
      "It's underpredicted.\n",
      "Monthly Error: 17.55 Period MAE: 13.18\n",
      "It's underpredicted.\n",
      "Monthly Error: 24.96 Period MAE: 24.099999999999998\n"
     ]
    },
    {
     "name": "stderr",
     "output_type": "stream",
     "text": [
      "22:38:06 - cmdstanpy - INFO - Chain [1] start processing\n",
      "22:38:06 - cmdstanpy - INFO - Chain [1] start processing\n",
      "22:38:06 - cmdstanpy - INFO - Chain [1] done processing\n",
      "22:38:06 - cmdstanpy - INFO - Chain [1] done processing\n"
     ]
    },
    {
     "name": "stdout",
     "output_type": "stream",
     "text": [
      "It's underpredicted.\n",
      "Monthly Error: 13.94 Period MAE: 8.01\n",
      "It's overpredicted.\n",
      "Monthly Error: 23.85 Period MAE: 13.68\n"
     ]
    },
    {
     "name": "stderr",
     "output_type": "stream",
     "text": [
      "22:38:08 - cmdstanpy - INFO - Chain [1] start processing\n"
     ]
    },
    {
     "name": "stdout",
     "output_type": "stream",
     "text": [
      "It's underpredicted.\n",
      "Monthly Error: 17.11 Period MAE: 11.55\n"
     ]
    },
    {
     "name": "stderr",
     "output_type": "stream",
     "text": [
      "22:38:09 - cmdstanpy - INFO - Chain [1] start processing\n",
      "22:38:09 - cmdstanpy - INFO - Chain [1] start processing\n",
      "22:38:09 - cmdstanpy - INFO - Chain [1] done processing\n",
      "22:38:09 - cmdstanpy - INFO - Chain [1] done processing\n",
      "22:38:09 - cmdstanpy - INFO - Chain [1] done processing\n"
     ]
    },
    {
     "name": "stdout",
     "output_type": "stream",
     "text": [
      "It's overpredicted.\n",
      "Monthly Error: 23.84 Period MAE: 13.700000000000001\n",
      "It's underpredicted.\n",
      "Monthly Error: 15.35 Period MAE:It's underpredicted.\n",
      "Monthly Error: 9.180000000000001 \n",
      "21.91 Period MAE: 19.27\n"
     ]
    },
    {
     "name": "stderr",
     "output_type": "stream",
     "text": [
      "22:38:11 - cmdstanpy - INFO - Chain [1] start processing\n",
      "22:38:11 - cmdstanpy - INFO - Chain [1] done processing\n",
      "22:38:11 - cmdstanpy - INFO - Chain [1] start processing\n",
      "22:38:11 - cmdstanpy - INFO - Chain [1] start processing\n",
      "22:38:12 - cmdstanpy - INFO - Chain [1] done processing\n",
      "22:38:12 - cmdstanpy - INFO - Chain [1] done processing\n"
     ]
    },
    {
     "name": "stdout",
     "output_type": "stream",
     "text": [
      "It's overpredicted.\n",
      "Monthly Error: 23.06 Period MAE: 13.139999999999999\n",
      "It's underpredicted.\n",
      "Monthly Error: 15.14 Period MAE: 9.0\n"
     ]
    },
    {
     "name": "stderr",
     "output_type": "stream",
     "text": [
      "22:38:15 - cmdstanpy - INFO - Chain [1] start processing\n"
     ]
    },
    {
     "name": "stdout",
     "output_type": "stream",
     "text": [
      "It's overpredicted.\n",
      "Monthly Error: 25.84 Period MAE: 15.06\n"
     ]
    },
    {
     "name": "stderr",
     "output_type": "stream",
     "text": [
      "22:38:16 - cmdstanpy - INFO - Chain [1] start processing\n",
      "22:38:16 - cmdstanpy - INFO - Chain [1] start processing\n",
      "22:38:16 - cmdstanpy - INFO - Chain [1] done processing\n"
     ]
    },
    {
     "name": "stdout",
     "output_type": "stream",
     "text": [
      "It's overpredicted.\n"
     ]
    },
    {
     "name": "stderr",
     "output_type": "stream",
     "text": [
      "22:38:16 - cmdstanpy - INFO - Chain [1] done processing\n",
      "22:38:16 - cmdstanpy - INFO - Chain [1] done processing\n"
     ]
    },
    {
     "name": "stdout",
     "output_type": "stream",
     "text": [
      "Monthly Error: 25.84 Period MAE: 15.129999999999999\n"
     ]
    },
    {
     "name": "stderr",
     "output_type": "stream",
     "text": [
      "22:38:17 - cmdstanpy - INFO - Chain [1] start processing\n",
      "22:38:17 - cmdstanpy - INFO - Chain [1] done processing\n"
     ]
    },
    {
     "name": "stdout",
     "output_type": "stream",
     "text": [
      "It's underpredicted.\n",
      "Monthly Error: 18.43 Period MAE: 17.119999999999997\n",
      "It's underpredicted.\n",
      "Monthly Error: 16.71 Period MAE: 12.26\n"
     ]
    },
    {
     "name": "stderr",
     "output_type": "stream",
     "text": [
      "22:38:18 - cmdstanpy - INFO - Chain [1] start processing\n",
      "22:38:19 - cmdstanpy - INFO - Chain [1] done processing\n",
      "22:38:19 - cmdstanpy - INFO - Chain [1] start processing\n",
      "22:38:19 - cmdstanpy - INFO - Chain [1] done processing\n"
     ]
    },
    {
     "name": "stdout",
     "output_type": "stream",
     "text": [
      "It's overpredicted.\n",
      "Monthly Error: 24.03 Period MAE: 13.51\n",
      "It's underpredicted.\n",
      "Monthly Error: 16.74 Period MAE: 18.5\n",
      "It's underpredicted.\n",
      "Monthly Error: 19.63 Period MAE: 18.56\n"
     ]
    },
    {
     "name": "stderr",
     "output_type": "stream",
     "text": [
      "22:38:21 - cmdstanpy - INFO - Chain [1] start processing\n",
      "22:38:21 - cmdstanpy - INFO - Chain [1] start processing\n",
      "22:38:22 - cmdstanpy - INFO - Chain [1] done processing\n",
      "22:38:22 - cmdstanpy - INFO - Chain [1] start processing\n",
      "22:38:22 - cmdstanpy - INFO - Chain [1] done processing\n",
      "22:38:23 - cmdstanpy - INFO - Chain [1] done processing\n"
     ]
    },
    {
     "name": "stdout",
     "output_type": "stream",
     "text": [
      "It's underpredicted.\n",
      "Monthly Error: 17.72 Period MAE: 16.05\n",
      "It's underpredicted.\n",
      "Monthly Error: 16.55 Period MAE: 18.26\n"
     ]
    },
    {
     "name": "stderr",
     "output_type": "stream",
     "text": [
      "22:38:23 - cmdstanpy - INFO - Chain [1] start processing\n",
      "22:38:23 - cmdstanpy - INFO - Chain [1] done processing\n",
      "22:38:24 - cmdstanpy - INFO - Chain [1] start processing\n",
      "22:38:25 - cmdstanpy - INFO - Chain [1] done processing\n"
     ]
    },
    {
     "name": "stdout",
     "output_type": "stream",
     "text": [
      "It's underpredicted.\n",
      "Monthly Error: 19.46 Period MAE: 17.97\n"
     ]
    },
    {
     "name": "stderr",
     "output_type": "stream",
     "text": [
      "22:38:26 - cmdstanpy - INFO - Chain [1] start processing\n",
      "22:38:26 - cmdstanpy - INFO - Chain [1] done processing\n"
     ]
    },
    {
     "name": "stdout",
     "output_type": "stream",
     "text": [
      "It's underpredicted.\n",
      "Monthly Error: 15.5 Period MAE: 17.25\n",
      "It's underpredicted.\n",
      "Monthly Error: 19.27 Period MAE: 17.98\n",
      "It's overpredicted.\n",
      "Monthly Error: 29.63 Period MAE: 23.04\n"
     ]
    },
    {
     "name": "stderr",
     "output_type": "stream",
     "text": [
      "22:38:27 - cmdstanpy - INFO - Chain [1] start processing\n",
      "22:38:28 - cmdstanpy - INFO - Chain [1] done processing\n",
      "22:38:28 - cmdstanpy - INFO - Chain [1] start processing\n",
      "22:38:28 - cmdstanpy - INFO - Chain [1] start processing\n",
      "22:38:28 - cmdstanpy - INFO - Chain [1] done processing\n"
     ]
    },
    {
     "name": "stdout",
     "output_type": "stream",
     "text": [
      "It's underpredicted.\n",
      "Monthly Error: 18.77 Period MAE: 17.669999999999998\n"
     ]
    },
    {
     "name": "stderr",
     "output_type": "stream",
     "text": [
      "22:38:29 - cmdstanpy - INFO - Chain [1] done processing\n",
      "22:38:29 - cmdstanpy - INFO - Chain [1] start processing\n",
      "22:38:30 - cmdstanpy - INFO - Chain [1] done processing\n"
     ]
    },
    {
     "name": "stdout",
     "output_type": "stream",
     "text": [
      "It's overpredicted.\n",
      "Monthly Error: 29.38 Period MAE: 23.14\n"
     ]
    },
    {
     "name": "stderr",
     "output_type": "stream",
     "text": [
      "22:38:31 - cmdstanpy - INFO - Chain [1] start processing\n",
      "22:38:31 - cmdstanpy - INFO - Chain [1] done processing\n"
     ]
    },
    {
     "name": "stdout",
     "output_type": "stream",
     "text": [
      "It's underpredicted.\n",
      "Monthly Error: 19.06 Period MAE: 17.27\n"
     ]
    },
    {
     "name": "stderr",
     "output_type": "stream",
     "text": [
      "22:38:32 - cmdstanpy - INFO - Chain [1] start processing\n",
      "22:38:32 - cmdstanpy - INFO - Chain [1] done processing\n"
     ]
    },
    {
     "name": "stdout",
     "output_type": "stream",
     "text": [
      "It's underpredicted.\n",
      "Monthly Error: 10.24 Period MAE: 10.7\n",
      "It's overpredicted.\n",
      "Monthly Error: 28.73 It's underpredicted.Period MAE:\n",
      " Monthly Error:22.5 21.51\n",
      " Period MAE: 21.26\n"
     ]
    },
    {
     "name": "stderr",
     "output_type": "stream",
     "text": [
      "22:38:33 - cmdstanpy - INFO - Chain [1] start processing\n",
      "22:38:34 - cmdstanpy - INFO - Chain [1] start processing\n",
      "22:38:34 - cmdstanpy - INFO - Chain [1] done processing\n",
      "22:38:34 - cmdstanpy - INFO - Chain [1] start processing\n",
      "22:38:34 - cmdstanpy - INFO - Chain [1] done processing\n"
     ]
    },
    {
     "name": "stdout",
     "output_type": "stream",
     "text": [
      "It's underpredicted.\n",
      "Monthly Error: 18.86 Period MAE: 17.68\n"
     ]
    },
    {
     "name": "stderr",
     "output_type": "stream",
     "text": [
      "22:38:35 - cmdstanpy - INFO - Chain [1] done processing\n",
      "22:38:35 - cmdstanpy - INFO - Chain [1] start processing\n",
      "22:38:36 - cmdstanpy - INFO - Chain [1] done processing\n"
     ]
    },
    {
     "name": "stdout",
     "output_type": "stream",
     "text": [
      "It's underpredicted.\n",
      "Monthly Error: 10.14 Period MAE: 10.459999999999999\n",
      "It's underpredicted.\n",
      "Monthly Error: 19.24 Period MAE:"
     ]
    },
    {
     "name": "stderr",
     "output_type": "stream",
     "text": [
      "22:38:37 - cmdstanpy - INFO - Chain [1] start processing\n"
     ]
    },
    {
     "name": "stdout",
     "output_type": "stream",
     "text": [
      " 17.62\n"
     ]
    },
    {
     "name": "stderr",
     "output_type": "stream",
     "text": [
      "22:38:38 - cmdstanpy - INFO - Chain [1] done processing\n"
     ]
    },
    {
     "name": "stdout",
     "output_type": "stream",
     "text": [
      "It's underpredicted."
     ]
    },
    {
     "name": "stderr",
     "output_type": "stream",
     "text": [
      "22:38:38 - cmdstanpy - INFO - Chain [1] start processing\n"
     ]
    },
    {
     "name": "stdout",
     "output_type": "stream",
     "text": [
      "\n",
      "Monthly Error: 9.98 Period MAE: 9.83\n"
     ]
    },
    {
     "name": "stderr",
     "output_type": "stream",
     "text": [
      "22:38:38 - cmdstanpy - INFO - Chain [1] done processing\n"
     ]
    },
    {
     "name": "stdout",
     "output_type": "stream",
     "text": [
      "It's underpredicted.\n",
      "Monthly Error: 22.34 Period MAE:"
     ]
    },
    {
     "name": "stderr",
     "output_type": "stream",
     "text": [
      "22:38:39 - cmdstanpy - INFO - Chain [1] start processing\n"
     ]
    },
    {
     "name": "stdout",
     "output_type": "stream",
     "text": [
      " 22.7\n",
      "It's underpredicted.\n",
      "Monthly Error: 19.67 Period MAE: 18.55\n"
     ]
    },
    {
     "name": "stderr",
     "output_type": "stream",
     "text": [
      "22:38:40 - cmdstanpy - INFO - Chain [1] start processing\n",
      "22:38:40 - cmdstanpy - INFO - Chain [1] done processing\n",
      "22:38:40 - cmdstanpy - INFO - Chain [1] start processing\n",
      "22:38:40 - cmdstanpy - INFO - Chain [1] done processing\n",
      "22:38:41 - cmdstanpy - INFO - Chain [1] done processing\n"
     ]
    },
    {
     "name": "stdout",
     "output_type": "stream",
     "text": [
      "It's underpredicted.\n",
      "Monthly Error: 18.71 Period MAE: 17.419999999999998\n",
      "It's underpredicted.\n",
      "Monthly Error: 21.78 Period MAE: 22.07\n"
     ]
    },
    {
     "name": "stderr",
     "output_type": "stream",
     "text": [
      "22:38:42 - cmdstanpy - INFO - Chain [1] start processing\n",
      "22:38:42 - cmdstanpy - INFO - Chain [1] done processing\n",
      "22:38:43 - cmdstanpy - INFO - Chain [1] start processing\n"
     ]
    },
    {
     "name": "stdout",
     "output_type": "stream",
     "text": [
      "It's underpredicted.\n",
      "Monthly Error: 19.45 Period MAE: 17.86\n"
     ]
    },
    {
     "name": "stderr",
     "output_type": "stream",
     "text": [
      "22:38:43 - cmdstanpy - INFO - Chain [1] done processing\n",
      "22:38:44 - cmdstanpy - INFO - Chain [1] start processing\n",
      "22:38:44 - cmdstanpy - INFO - Chain [1] done processing\n"
     ]
    },
    {
     "name": "stdout",
     "output_type": "stream",
     "text": [
      "It's underpredicted.\n",
      "Monthly Error: 20.39 Period MAE: 19.57\n",
      "It's underpredicted.\n",
      "Monthly Error: 21.21 Period MAE: 21.66\n",
      "It's overpredicted.\n",
      "Monthly Error: 27.93 Period MAE: 19.39\n"
     ]
    },
    {
     "name": "stderr",
     "output_type": "stream",
     "text": [
      "22:38:47 - cmdstanpy - INFO - Chain [1] start processing\n",
      "22:38:47 - cmdstanpy - INFO - Chain [1] start processing\n",
      "22:38:47 - cmdstanpy - INFO - Chain [1] start processing\n",
      "22:38:47 - cmdstanpy - INFO - Chain [1] done processing\n",
      "22:38:48 - cmdstanpy - INFO - Chain [1] done processing\n"
     ]
    },
    {
     "name": "stdout",
     "output_type": "stream",
     "text": [
      "It's overpredicted.\n",
      "Monthly Error: 31.02 Period MAE: 24.23\n"
     ]
    },
    {
     "name": "stderr",
     "output_type": "stream",
     "text": [
      "22:38:48 - cmdstanpy - INFO - Chain [1] done processing\n",
      "22:38:48 - cmdstanpy - INFO - Chain [1] start processing\n"
     ]
    },
    {
     "name": "stdout",
     "output_type": "stream",
     "text": [
      "It's underpredicted.\n",
      "Monthly Error: 19.24 Period MAE: 18.310000000000002\n"
     ]
    },
    {
     "name": "stderr",
     "output_type": "stream",
     "text": [
      "22:38:49 - cmdstanpy - INFO - Chain [1] done processing\n",
      "22:38:50 - cmdstanpy - INFO - Chain [1] start processing\n",
      "22:38:50 - cmdstanpy - INFO - Chain [1] done processing\n"
     ]
    },
    {
     "name": "stdout",
     "output_type": "stream",
     "text": [
      "It's underpredicted.\n",
      "Monthly Error: 19.36 Period MAE: 17.66\n"
     ]
    },
    {
     "name": "stderr",
     "output_type": "stream",
     "text": [
      "22:38:51 - cmdstanpy - INFO - Chain [1] start processing\n",
      "22:38:51 - cmdstanpy - INFO - Chain [1] done processing\n"
     ]
    },
    {
     "name": "stdout",
     "output_type": "stream",
     "text": [
      "It's overpredicted.\n",
      "Monthly Error: It's underpredicted.30.13\n",
      " Period MAE:Monthly Error:  23.54999999999999720.07 \n",
      "Period MAE: 19.1\n",
      "It's underpredicted.\n",
      "Monthly Error: 18.45 Period MAE: 17.89\n"
     ]
    },
    {
     "name": "stderr",
     "output_type": "stream",
     "text": [
      "22:38:53 - cmdstanpy - INFO - Chain [1] start processing\n",
      "22:38:53 - cmdstanpy - INFO - Chain [1] start processing\n",
      "22:38:53 - cmdstanpy - INFO - Chain [1] done processing\n",
      "22:38:54 - cmdstanpy - INFO - Chain [1] start processing\n",
      "22:38:54 - cmdstanpy - INFO - Chain [1] done processing\n"
     ]
    },
    {
     "name": "stdout",
     "output_type": "stream",
     "text": [
      "It's underpredicted.\n",
      "Monthly Error: 22.74 Period MAE: "
     ]
    },
    {
     "name": "stderr",
     "output_type": "stream",
     "text": [
      "22:38:55 - cmdstanpy - INFO - Chain [1] done processing\n"
     ]
    },
    {
     "name": "stdout",
     "output_type": "stream",
     "text": [
      "22.88\n"
     ]
    },
    {
     "name": "stderr",
     "output_type": "stream",
     "text": [
      "22:38:55 - cmdstanpy - INFO - Chain [1] start processing\n"
     ]
    },
    {
     "name": "stdout",
     "output_type": "stream",
     "text": [
      "It's underpredicted.\n",
      "Monthly Error: 17.91"
     ]
    },
    {
     "name": "stderr",
     "output_type": "stream",
     "text": [
      "22:38:55 - cmdstanpy - INFO - Chain [1] done processing\n"
     ]
    },
    {
     "name": "stdout",
     "output_type": "stream",
     "text": [
      " Period MAE: 17.47\n"
     ]
    },
    {
     "name": "stderr",
     "output_type": "stream",
     "text": [
      "22:38:56 - cmdstanpy - INFO - Chain [1] start processing\n",
      "22:38:57 - cmdstanpy - INFO - Chain [1] done processing\n"
     ]
    },
    {
     "name": "stdout",
     "output_type": "stream",
     "text": [
      "It's underpredicted.\n",
      "Monthly Error: 19.78 Period MAE: 18.27\n"
     ]
    },
    {
     "name": "stderr",
     "output_type": "stream",
     "text": [
      "22:38:58 - cmdstanpy - INFO - Chain [1] start processing\n",
      "22:38:58 - cmdstanpy - INFO - Chain [1] done processing\n"
     ]
    },
    {
     "name": "stdout",
     "output_type": "stream",
     "text": [
      "It's underpredicted.\n",
      "Monthly Error: 22.93 Period MAE: 23.13\n",
      "It's underpredicted.\n",
      "Monthly Error: 18.29 Period MAE: 17.119999999999997\n",
      "It's overpredicted. \n",
      "Monthly Error:20.14 Period MAE: 11.19\n"
     ]
    },
    {
     "name": "stderr",
     "output_type": "stream",
     "text": [
      "22:38:59 - cmdstanpy - INFO - Chain [1] start processing\n",
      "22:39:00 - cmdstanpy - INFO - Chain [1] start processing\n",
      "22:39:00 - cmdstanpy - INFO - Chain [1] done processing\n",
      "22:39:00 - cmdstanpy - INFO - Chain [1] start processing\n",
      "22:39:00 - cmdstanpy - INFO - Chain [1] done processing\n",
      "22:39:01 - cmdstanpy - INFO - Chain [1] done processing\n"
     ]
    },
    {
     "name": "stdout",
     "output_type": "stream",
     "text": [
      "It's underpredicted.\n",
      "Monthly Error: 18.96 Period MAE: 16.84\n",
      "It's overpredicted.\n",
      "Monthly Error: 20.1"
     ]
    },
    {
     "name": "stderr",
     "output_type": "stream",
     "text": [
      "22:39:02 - cmdstanpy - INFO - Chain [1] start processing\n"
     ]
    },
    {
     "name": "stdout",
     "output_type": "stream",
     "text": [
      " Period MAE: 11.16\n"
     ]
    },
    {
     "name": "stderr",
     "output_type": "stream",
     "text": [
      "22:39:02 - cmdstanpy - INFO - Chain [1] done processing\n",
      "22:39:03 - cmdstanpy - INFO - Chain [1] start processing\n",
      "22:39:03 - cmdstanpy - INFO - Chain [1] done processing\n"
     ]
    },
    {
     "name": "stdout",
     "output_type": "stream",
     "text": [
      "It's underpredicted.\n",
      "Monthly Error: 23.56 Period MAE: 23.86\n"
     ]
    },
    {
     "name": "stderr",
     "output_type": "stream",
     "text": [
      "22:39:05 - cmdstanpy - INFO - Chain [1] start processing\n",
      "22:39:05 - cmdstanpy - INFO - Chain [1] done processing\n"
     ]
    },
    {
     "name": "stdout",
     "output_type": "stream",
     "text": [
      "It's overpredicted.\n",
      "Monthly Error: 20.57 Period MAE: 11.78\n",
      "It's overpredicted.\n",
      "Monthly Error: 24.66 Period MAE: 16.2\n",
      "It's underpredicted.\n",
      "Monthly Error: 19.06 Period MAE: 17.299999999999997\n"
     ]
    },
    {
     "name": "stderr",
     "output_type": "stream",
     "text": [
      "22:39:06 - cmdstanpy - INFO - Chain [1] start processing\n",
      "22:39:07 - cmdstanpy - INFO - Chain [1] done processing\n",
      "22:39:07 - cmdstanpy - INFO - Chain [1] start processing\n",
      "22:39:07 - cmdstanpy - INFO - Chain [1] start processing\n",
      "22:39:07 - cmdstanpy - INFO - Chain [1] done processing\n"
     ]
    },
    {
     "name": "stdout",
     "output_type": "stream",
     "text": [
      "It's underpredicted.\n",
      "Monthly Error: 23.78 Period MAE: 24.310000000000002\n"
     ]
    },
    {
     "name": "stderr",
     "output_type": "stream",
     "text": [
      "22:39:09 - cmdstanpy - INFO - Chain [1] start processing\n",
      "22:39:09 - cmdstanpy - INFO - Chain [1] done processing\n",
      "22:39:09 - cmdstanpy - INFO - Chain [1] done processing\n"
     ]
    },
    {
     "name": "stdout",
     "output_type": "stream",
     "text": [
      "It's overpredicted.\n",
      "Monthly Error: 24.46 Period MAE: 15.950000000000001\n"
     ]
    },
    {
     "name": "stderr",
     "output_type": "stream",
     "text": [
      "22:39:10 - cmdstanpy - INFO - Chain [1] start processing\n"
     ]
    },
    {
     "name": "stdout",
     "output_type": "stream",
     "text": [
      "It's overpredicted.\n",
      "Monthly Error: 25.03 Period MAE: "
     ]
    },
    {
     "name": "stderr",
     "output_type": "stream",
     "text": [
      "22:39:11 - cmdstanpy - INFO - Chain [1] done processing\n"
     ]
    },
    {
     "name": "stdout",
     "output_type": "stream",
     "text": [
      "16.72\n",
      "It's underpredicted.\n",
      "It's overpredicted.Monthly Error:\n",
      " Monthly Error: 19.8626.53  Period MAE: Period MAE: 18.39\n",
      "18.44\n"
     ]
    },
    {
     "name": "stderr",
     "output_type": "stream",
     "text": [
      "22:39:12 - cmdstanpy - INFO - Chain [1] start processing\n",
      "22:39:12 - cmdstanpy - INFO - Chain [1] done processing\n"
     ]
    },
    {
     "name": "stdout",
     "output_type": "stream",
     "text": [
      "It's underpredicted.\n",
      "Monthly Error: 23.63 Period MAE: 24.11\n"
     ]
    },
    {
     "name": "stderr",
     "output_type": "stream",
     "text": [
      "22:39:13 - cmdstanpy - INFO - Chain [1] start processing\n",
      "22:39:13 - cmdstanpy - INFO - Chain [1] start processing\n",
      "22:39:13 - cmdstanpy - INFO - Chain [1] start processing\n",
      "22:39:13 - cmdstanpy - INFO - Chain [1] done processing\n",
      "22:39:14 - cmdstanpy - INFO - Chain [1] done processing\n",
      "22:39:14 - cmdstanpy - INFO - Chain [1] done processing\n"
     ]
    },
    {
     "name": "stdout",
     "output_type": "stream",
     "text": [
      "It's underpredicted.\n",
      "Monthly Error: 22.87 Period MAE: 22.95\n"
     ]
    },
    {
     "name": "stderr",
     "output_type": "stream",
     "text": [
      "22:39:15 - cmdstanpy - INFO - Chain [1] start processing\n",
      "22:39:15 - cmdstanpy - INFO - Chain [1] done processing\n"
     ]
    },
    {
     "name": "stdout",
     "output_type": "stream",
     "text": [
      "It's overpredicted.\n",
      "Monthly Error:It's underpredicted.\n",
      " 26.5Monthly Error:  Period MAE: 23.3218.42 \n",
      "Period MAE: 23.47\n"
     ]
    },
    {
     "name": "stderr",
     "output_type": "stream",
     "text": [
      "22:39:17 - cmdstanpy - INFO - Chain [1] start processing\n",
      "22:39:17 - cmdstanpy - INFO - Chain [1] start processing\n",
      "22:39:17 - cmdstanpy - INFO - Chain [1] done processing\n",
      "22:39:17 - cmdstanpy - INFO - Chain [1] done processing\n"
     ]
    },
    {
     "name": "stdout",
     "output_type": "stream",
     "text": [
      "It's overpredicted.\n",
      "Monthly Error: 26.46 Period MAE: 18.37\n"
     ]
    },
    {
     "name": "stderr",
     "output_type": "stream",
     "text": [
      "22:39:19 - cmdstanpy - INFO - Chain [1] start processing\n"
     ]
    },
    {
     "name": "stdout",
     "output_type": "stream",
     "text": [
      "It's underpredicted.\n",
      "Monthly Error: 23.52It's underpredicted. \n",
      "Monthly Error:Period MAE:  15.1223.78 \n",
      "Period MAE: 8.27\n"
     ]
    },
    {
     "name": "stderr",
     "output_type": "stream",
     "text": [
      "22:39:20 - cmdstanpy - INFO - Chain [1] start processing\n",
      "22:39:20 - cmdstanpy - INFO - Chain [1] done processing\n",
      "22:39:20 - cmdstanpy - INFO - Chain [1] done processing\n",
      "22:39:20 - cmdstanpy - INFO - Chain [1] start processing\n"
     ]
    },
    {
     "name": "stdout",
     "output_type": "stream",
     "text": [
      "It's underpredicted.\n"
     ]
    },
    {
     "name": "stderr",
     "output_type": "stream",
     "text": [
      "22:39:21 - cmdstanpy - INFO - Chain [1] done processing\n"
     ]
    },
    {
     "name": "stdout",
     "output_type": "stream",
     "text": [
      "Monthly Error: 15.11 Period MAE: 8.25\n"
     ]
    },
    {
     "name": "stderr",
     "output_type": "stream",
     "text": [
      "22:39:21 - cmdstanpy - INFO - Chain [1] start processing\n"
     ]
    },
    {
     "name": "stdout",
     "output_type": "stream",
     "text": [
      "It's underpredicted.\n",
      "Monthly Error: 18.97"
     ]
    },
    {
     "name": "stderr",
     "output_type": "stream",
     "text": [
      "22:39:21 - cmdstanpy - INFO - Chain [1] done processing\n"
     ]
    },
    {
     "name": "stdout",
     "output_type": "stream",
     "text": [
      " Period MAE: 16.73\n"
     ]
    },
    {
     "name": "stderr",
     "output_type": "stream",
     "text": [
      "22:39:22 - cmdstanpy - INFO - Chain [1] start processing\n"
     ]
    },
    {
     "name": "stdout",
     "output_type": "stream",
     "text": [
      "It's underpredicted.\n",
      "Monthly Error: 23.22 Period MAE: 23.169999999999998\n"
     ]
    },
    {
     "name": "stderr",
     "output_type": "stream",
     "text": [
      "22:39:23 - cmdstanpy - INFO - Chain [1] start processing\n",
      "22:39:23 - cmdstanpy - INFO - Chain [1] done processing\n",
      "22:39:23 - cmdstanpy - INFO - Chain [1] done processing\n"
     ]
    },
    {
     "name": "stdout",
     "output_type": "stream",
     "text": [
      "It's underpredicted.\n",
      "Monthly Error: 20.42 Period MAE: 19.259999999999998\n",
      "It's overpredicted.It's underpredicted.\n",
      "\n",
      "Monthly Error:Monthly Error:  23.1215.06  Period MAE:Period MAE:  8.1612.67\n",
      "\n"
     ]
    },
    {
     "name": "stderr",
     "output_type": "stream",
     "text": [
      "22:39:25 - cmdstanpy - INFO - Chain [1] start processing\n",
      "22:39:26 - cmdstanpy - INFO - Chain [1] start processing\n",
      "22:39:26 - cmdstanpy - INFO - Chain [1] done processing\n",
      "22:39:26 - cmdstanpy - INFO - Chain [1] start processing\n"
     ]
    },
    {
     "name": "stdout",
     "output_type": "stream",
     "text": [
      "It's overpredicted.\n",
      "Monthly Error: 23.1 Period MAE: 12.659999999999998\n"
     ]
    },
    {
     "name": "stderr",
     "output_type": "stream",
     "text": [
      "22:39:27 - cmdstanpy - INFO - Chain [1] done processing\n",
      "22:39:27 - cmdstanpy - INFO - Chain [1] done processing\n",
      "22:39:27 - cmdstanpy - INFO - Chain [1] start processing\n",
      "22:39:27 - cmdstanpy - INFO - Chain [1] done processing\n"
     ]
    },
    {
     "name": "stdout",
     "output_type": "stream",
     "text": [
      "It's underpredicted.\n",
      "Monthly Error: 23.81 Period MAE: 24.27\n"
     ]
    },
    {
     "name": "stderr",
     "output_type": "stream",
     "text": [
      "22:39:28 - cmdstanpy - INFO - Chain [1] start processing\n"
     ]
    },
    {
     "name": "stdout",
     "output_type": "stream",
     "text": [
      "It's underpredicted.\n",
      "Monthly Error: 21.14 Period MAE: 19.97\n"
     ]
    },
    {
     "name": "stderr",
     "output_type": "stream",
     "text": [
      "22:39:29 - cmdstanpy - INFO - Chain [1] done processing\n",
      "22:39:30 - cmdstanpy - INFO - Chain [1] start processing\n",
      "22:39:30 - cmdstanpy - INFO - Chain [1] done processing\n"
     ]
    },
    {
     "name": "stdout",
     "output_type": "stream",
     "text": [
      "It's underpredicted.\n",
      "Monthly Error: 14.68 Period MAE: 0.27999999999999997\n",
      "It's underpredicted.It's overpredicted.\n",
      "\n",
      "Monthly Error:Monthly Error:  23.2523.02  Period MAE: Period MAE:23.13 \n",
      "12.839999999999998\n"
     ]
    },
    {
     "name": "stderr",
     "output_type": "stream",
     "text": [
      "22:39:32 - cmdstanpy - INFO - Chain [1] start processing\n",
      "22:39:32 - cmdstanpy - INFO - Chain [1] start processing\n",
      "22:39:32 - cmdstanpy - INFO - Chain [1] done processing\n",
      "22:39:33 - cmdstanpy - INFO - Chain [1] done processing\n",
      "22:39:33 - cmdstanpy - INFO - Chain [1] start processing\n",
      "22:39:33 - cmdstanpy - INFO - Chain [1] done processing\n"
     ]
    },
    {
     "name": "stdout",
     "output_type": "stream",
     "text": [
      "It's underpredicted.\n",
      "Monthly Error: 17.55 Period MAE: 15.82\n",
      "It's underpredicted.\n",
      "Monthly Error: 14.63 Period MAE: 0.33\n"
     ]
    },
    {
     "name": "stderr",
     "output_type": "stream",
     "text": [
      "22:39:34 - cmdstanpy - INFO - Chain [1] start processing\n",
      "22:39:34 - cmdstanpy - INFO - Chain [1] done processing\n",
      "22:39:35 - cmdstanpy - INFO - Chain [1] start processing\n"
     ]
    },
    {
     "name": "stdout",
     "output_type": "stream",
     "text": [
      "It's underpredicted.\n",
      "Monthly Error: 24.21 Period MAE: 24.62\n"
     ]
    },
    {
     "name": "stderr",
     "output_type": "stream",
     "text": [
      "22:39:35 - cmdstanpy - INFO - Chain [1] done processing\n",
      "22:39:36 - cmdstanpy - INFO - Chain [1] start processing\n",
      "22:39:36 - cmdstanpy - INFO - Chain [1] done processing\n"
     ]
    },
    {
     "name": "stdout",
     "output_type": "stream",
     "text": [
      "It's underpredicted.\n",
      "Monthly Error: 20.32 Period MAE: 19.39\n",
      "It's underpredicted.\n",
      "Monthly Error: 16.85 Period MAE: 18.61\n",
      "It's underpredicted.\n",
      "Monthly Error: 14.59 Period MAE: 0.44\n"
     ]
    },
    {
     "name": "stderr",
     "output_type": "stream",
     "text": [
      "22:39:38 - cmdstanpy - INFO - Chain [1] start processing\n",
      "22:39:38 - cmdstanpy - INFO - Chain [1] start processing\n",
      "22:39:39 - cmdstanpy - INFO - Chain [1] done processing\n",
      "22:39:39 - cmdstanpy - INFO - Chain [1] start processing\n",
      "22:39:39 - cmdstanpy - INFO - Chain [1] done processing\n",
      "22:39:39 - cmdstanpy - INFO - Chain [1] done processing\n"
     ]
    },
    {
     "name": "stdout",
     "output_type": "stream",
     "text": [
      "It's underpredicted.\n",
      "Monthly Error: 17.95 Period MAE: 16.45\n"
     ]
    },
    {
     "name": "stderr",
     "output_type": "stream",
     "text": [
      "22:39:40 - cmdstanpy - INFO - Chain [1] start processing\n"
     ]
    },
    {
     "name": "stdout",
     "output_type": "stream",
     "text": [
      "It's underpredicted.\n",
      "Monthly Error: 16.01 "
     ]
    },
    {
     "name": "stderr",
     "output_type": "stream",
     "text": [
      "22:39:40 - cmdstanpy - INFO - Chain [1] done processing\n"
     ]
    },
    {
     "name": "stdout",
     "output_type": "stream",
     "text": [
      "Period MAE: 17.65\n"
     ]
    },
    {
     "name": "stderr",
     "output_type": "stream",
     "text": [
      "22:39:41 - cmdstanpy - INFO - Chain [1] start processing\n"
     ]
    },
    {
     "name": "stdout",
     "output_type": "stream",
     "text": [
      "It's underpredicted.\n",
      "Monthly Error: 20.28 Period MAE: 18.11\n"
     ]
    },
    {
     "name": "stderr",
     "output_type": "stream",
     "text": [
      "22:39:42 - cmdstanpy - INFO - Chain [1] done processing\n",
      "22:39:42 - cmdstanpy - INFO - Chain [1] start processing\n",
      "22:39:43 - cmdstanpy - INFO - Chain [1] done processing\n"
     ]
    },
    {
     "name": "stdout",
     "output_type": "stream",
     "text": [
      "It's underpredicted.\n",
      "Monthly Error: It's underpredicted.\n",
      "16.53 Monthly Error: Period MAE: 19.7214.069999999999999 \n",
      "Period MAE: 18.42\n",
      "It's overpredicted.\n",
      "Monthly Error: 30.02 Period MAE: 23.48\n"
     ]
    },
    {
     "name": "stderr",
     "output_type": "stream",
     "text": [
      "22:39:45 - cmdstanpy - INFO - Chain [1] start processing\n",
      "22:39:45 - cmdstanpy - INFO - Chain [1] start processing\n",
      "22:39:45 - cmdstanpy - INFO - Chain [1] start processing\n",
      "22:39:45 - cmdstanpy - INFO - Chain [1] done processing\n",
      "22:39:46 - cmdstanpy - INFO - Chain [1] done processing\n"
     ]
    },
    {
     "name": "stdout",
     "output_type": "stream",
     "text": [
      "It's overpredicted.\n",
      "Monthly Error: "
     ]
    },
    {
     "name": "stderr",
     "output_type": "stream",
     "text": [
      "22:39:47 - cmdstanpy - INFO - Chain [1] done processing\n"
     ]
    },
    {
     "name": "stdout",
     "output_type": "stream",
     "text": [
      "29.65 Period MAE: 23.68\n",
      "It's underpredicted.\n",
      "Monthly Error: 19.87 Period MAE: 18.5\n"
     ]
    },
    {
     "name": "stderr",
     "output_type": "stream",
     "text": [
      "22:39:47 - cmdstanpy - INFO - Chain [1] start processing\n",
      "22:39:47 - cmdstanpy - INFO - Chain [1] done processing\n",
      "22:39:48 - cmdstanpy - INFO - Chain [1] start processing\n",
      "22:39:49 - cmdstanpy - INFO - Chain [1] done processing\n"
     ]
    },
    {
     "name": "stdout",
     "output_type": "stream",
     "text": [
      "It's underpredicted.\n",
      "Monthly Error: 19.75 Period MAE:It's underpredicted. \n",
      "17.22Monthly Error: \n",
      "21.77 Period MAE: 20.75\n"
     ]
    },
    {
     "name": "stderr",
     "output_type": "stream",
     "text": [
      "22:39:51 - cmdstanpy - INFO - Chain [1] start processing\n"
     ]
    },
    {
     "name": "stdout",
     "output_type": "stream",
     "text": [
      "It's overpredicted.\n",
      "Monthly Error: 28.26 Period MAE: 22.42\n"
     ]
    },
    {
     "name": "stderr",
     "output_type": "stream",
     "text": [
      "22:39:51 - cmdstanpy - INFO - Chain [1] done processing\n",
      "22:39:51 - cmdstanpy - INFO - Chain [1] start processing\n"
     ]
    },
    {
     "name": "stdout",
     "output_type": "stream",
     "text": [
      "It's overpredicted.\n",
      "Monthly Error: 12.5 Period MAE: 2.5700000000000003\n"
     ]
    },
    {
     "name": "stderr",
     "output_type": "stream",
     "text": [
      "22:39:52 - cmdstanpy - INFO - Chain [1] start processing\n",
      "22:39:52 - cmdstanpy - INFO - Chain [1] start processing\n",
      "22:39:52 - cmdstanpy - INFO - Chain [1] done processing\n",
      "22:39:52 - cmdstanpy - INFO - Chain [1] done processing\n",
      "22:39:53 - cmdstanpy - INFO - Chain [1] done processing\n"
     ]
    },
    {
     "name": "stdout",
     "output_type": "stream",
     "text": [
      "It's underpredicted.\n",
      "Monthly Error: 17.94 Period MAE: 16.36\n"
     ]
    },
    {
     "name": "stderr",
     "output_type": "stream",
     "text": [
      "22:39:54 - cmdstanpy - INFO - Chain [1] start processing\n"
     ]
    },
    {
     "name": "stdout",
     "output_type": "stream",
     "text": [
      "It's underpredicted."
     ]
    },
    {
     "name": "stderr",
     "output_type": "stream",
     "text": [
      "22:39:54 - cmdstanpy - INFO - Chain [1] done processing\n"
     ]
    },
    {
     "name": "stdout",
     "output_type": "stream",
     "text": [
      "\n",
      "Monthly Error: 22.2 Period MAE: 20.14\n",
      "It's overpredicted.\n",
      "Monthly Error: 12.03 Period MAE: 2.8400000000000003\n"
     ]
    },
    {
     "name": "stderr",
     "output_type": "stream",
     "text": [
      "22:39:55 - cmdstanpy - INFO - Chain [1] start processing\n",
      "22:39:56 - cmdstanpy - INFO - Chain [1] start processing\n",
      "22:39:56 - cmdstanpy - INFO - Chain [1] done processing\n",
      "22:39:56 - cmdstanpy - INFO - Chain [1] done processing\n"
     ]
    },
    {
     "name": "stdout",
     "output_type": "stream",
     "text": [
      "It's underpredicted.\n",
      "Monthly Error: 22.22 Period MAE: 23.0\n",
      "It's overpredicted.\n",
      "Monthly Error: 12.19 Period MAE: 2.45\n",
      "It's underpredicted.\n",
      "Monthly Error: 20.78 Period MAE: 20.04\n"
     ]
    },
    {
     "name": "stderr",
     "output_type": "stream",
     "text": [
      "22:39:58 - cmdstanpy - INFO - Chain [1] start processing\n",
      "22:39:58 - cmdstanpy - INFO - Chain [1] start processing\n",
      "22:39:59 - cmdstanpy - INFO - Chain [1] done processing\n",
      "22:39:59 - cmdstanpy - INFO - Chain [1] start processing\n",
      "22:39:59 - cmdstanpy - INFO - Chain [1] done processing\n"
     ]
    },
    {
     "name": "stdout",
     "output_type": "stream",
     "text": [
      "It's underpredicted.\n",
      "Monthly Error:"
     ]
    },
    {
     "name": "stderr",
     "output_type": "stream",
     "text": [
      "22:40:00 - cmdstanpy - INFO - Chain [1] done processing\n"
     ]
    },
    {
     "name": "stdout",
     "output_type": "stream",
     "text": [
      " 20.96 Period MAE: 21.759999999999998\n",
      "It's underpredicted.\n",
      "Monthly Error: 17.73 Period MAE:"
     ]
    },
    {
     "name": "stderr",
     "output_type": "stream",
     "text": [
      "22:40:00 - cmdstanpy - INFO - Chain [1] start processing\n"
     ]
    },
    {
     "name": "stdout",
     "output_type": "stream",
     "text": [
      " 16.009999999999998\n"
     ]
    },
    {
     "name": "stderr",
     "output_type": "stream",
     "text": [
      "22:40:00 - cmdstanpy - INFO - Chain [1] done processing\n",
      "22:40:01 - cmdstanpy - INFO - Chain [1] start processing\n"
     ]
    },
    {
     "name": "stdout",
     "output_type": "stream",
     "text": [
      "It's underpredicted.\n",
      "Monthly Error: 20.11 Period MAE: 17.79\n"
     ]
    },
    {
     "name": "stderr",
     "output_type": "stream",
     "text": [
      "22:40:02 - cmdstanpy - INFO - Chain [1] done processing\n",
      "22:40:03 - cmdstanpy - INFO - Chain [1] start processing\n",
      "22:40:03 - cmdstanpy - INFO - Chain [1] done processing\n"
     ]
    },
    {
     "name": "stdout",
     "output_type": "stream",
     "text": [
      "It's underpredicted.\n",
      "Monthly Error: 20.76 Period MAE: 19.96\n",
      "It's underpredicted.\n",
      "Monthly Error: 20.5 Period MAE: 19.6\n",
      "It's overpredicted.\n",
      "Monthly Error: 28.33 Period MAE: 19.900000000000002\n"
     ]
    },
    {
     "name": "stderr",
     "output_type": "stream",
     "text": [
      "22:40:05 - cmdstanpy - INFO - Chain [1] start processing\n",
      "22:40:06 - cmdstanpy - INFO - Chain [1] start processing\n",
      "22:40:06 - cmdstanpy - INFO - Chain [1] start processing\n",
      "22:40:06 - cmdstanpy - INFO - Chain [1] done processing\n",
      "22:40:06 - cmdstanpy - INFO - Chain [1] done processing\n",
      "22:40:07 - cmdstanpy - INFO - Chain [1] done processing\n"
     ]
    },
    {
     "name": "stdout",
     "output_type": "stream",
     "text": [
      "It's overpredicted.\n",
      "Monthly Error: 30.3 Period MAE: 23.62\n"
     ]
    },
    {
     "name": "stderr",
     "output_type": "stream",
     "text": [
      "22:40:07 - cmdstanpy - INFO - Chain [1] start processing\n"
     ]
    },
    {
     "name": "stdout",
     "output_type": "stream",
     "text": [
      "It's underpredicted."
     ]
    },
    {
     "name": "stderr",
     "output_type": "stream",
     "text": [
      "22:40:08 - cmdstanpy - INFO - Chain [1] done processing\n"
     ]
    },
    {
     "name": "stdout",
     "output_type": "stream",
     "text": [
      "\n",
      "Monthly Error: 21.01 Period MAE: 20.34\n"
     ]
    },
    {
     "name": "stderr",
     "output_type": "stream",
     "text": [
      "22:40:08 - cmdstanpy - INFO - Chain [1] start processing\n"
     ]
    },
    {
     "name": "stdout",
     "output_type": "stream",
     "text": [
      "It's underpredicted.\n",
      "Monthly Error: 19.77 "
     ]
    },
    {
     "name": "stderr",
     "output_type": "stream",
     "text": [
      "22:40:09 - cmdstanpy - INFO - Chain [1] done processing\n"
     ]
    },
    {
     "name": "stdout",
     "output_type": "stream",
     "text": [
      "Period MAE: 17.31\n"
     ]
    },
    {
     "name": "stderr",
     "output_type": "stream",
     "text": [
      "22:40:10 - cmdstanpy - INFO - Chain [1] start processing\n",
      "22:40:10 - cmdstanpy - INFO - Chain [1] done processing\n"
     ]
    },
    {
     "name": "stdout",
     "output_type": "stream",
     "text": [
      "It's overpredicted.\n",
      "Monthly Error: 28.44It's underpredicted. Period MAE: \n",
      "Monthly Error:22.13 \n",
      "22.86 Period MAE: 22.41\n",
      "It's underpredicted.\n",
      "Monthly Error: 17.46 Period MAE: 6.140000000000001\n"
     ]
    },
    {
     "name": "stderr",
     "output_type": "stream",
     "text": [
      "22:40:11 - cmdstanpy - INFO - Chain [1] start processing\n",
      "22:40:12 - cmdstanpy - INFO - Chain [1] done processing\n",
      "22:40:12 - cmdstanpy - INFO - Chain [1] start processing\n",
      "22:40:12 - cmdstanpy - INFO - Chain [1] start processing\n",
      "22:40:12 - cmdstanpy - INFO - Chain [1] done processing\n",
      "22:40:12 - cmdstanpy - INFO - Chain [1] done processing\n"
     ]
    },
    {
     "name": "stdout",
     "output_type": "stream",
     "text": [
      "It's underpredicted.\n",
      "Monthly Error: 23.45 Period MAE: 23.880000000000003\n"
     ]
    },
    {
     "name": "stderr",
     "output_type": "stream",
     "text": [
      "22:40:13 - cmdstanpy - INFO - Chain [1] start processing\n",
      "22:40:14 - cmdstanpy - INFO - Chain [1] done processing\n"
     ]
    },
    {
     "name": "stdout",
     "output_type": "stream",
     "text": [
      "It's underpredicted.\n",
      "Monthly Error: 16.88 Period MAE: 5.76\n",
      "It's underpredicted.\n",
      "Monthly Error: 23.3 Period MAE: 21.48\n"
     ]
    },
    {
     "name": "stderr",
     "output_type": "stream",
     "text": [
      "22:40:15 - cmdstanpy - INFO - Chain [1] start processing\n",
      "22:40:15 - cmdstanpy - INFO - Chain [1] start processing\n",
      "22:40:16 - cmdstanpy - INFO - Chain [1] done processing\n",
      "22:40:16 - cmdstanpy - INFO - Chain [1] done processing\n"
     ]
    },
    {
     "name": "stdout",
     "output_type": "stream",
     "text": [
      "It's underpredicted.\n",
      "Monthly Error: 17.86 Period MAE: 5.88\n",
      "It's underpredicted.\n",
      "Monthly Error: 12.61 Period MAE: 0.62\n",
      "It's underpredicted.\n",
      "Monthly Error: 22.2 Period MAE: 21.73\n"
     ]
    },
    {
     "name": "stderr",
     "output_type": "stream",
     "text": [
      "22:40:18 - cmdstanpy - INFO - Chain [1] start processing\n",
      "22:40:18 - cmdstanpy - INFO - Chain [1] start processing\n",
      "22:40:18 - cmdstanpy - INFO - Chain [1] start processing\n",
      "22:40:18 - cmdstanpy - INFO - Chain [1] done processing\n",
      "22:40:18 - cmdstanpy - INFO - Chain [1] done processing\n"
     ]
    },
    {
     "name": "stdout",
     "output_type": "stream",
     "text": [
      "It's underpredicted.\n",
      "Monthly Error: 12.33 Period MAE: 0.33\n"
     ]
    },
    {
     "name": "stderr",
     "output_type": "stream",
     "text": [
      "22:40:19 - cmdstanpy - INFO - Chain [1] done processing\n"
     ]
    },
    {
     "name": "stdout",
     "output_type": "stream",
     "text": [
      "It's underpredicted.\n",
      "Monthly Error: 22.69 Period MAE:"
     ]
    },
    {
     "name": "stderr",
     "output_type": "stream",
     "text": [
      "22:40:20 - cmdstanpy - INFO - Chain [1] start processing\n"
     ]
    },
    {
     "name": "stdout",
     "output_type": "stream",
     "text": [
      " 22.919999999999998\n"
     ]
    },
    {
     "name": "stderr",
     "output_type": "stream",
     "text": [
      "22:40:20 - cmdstanpy - INFO - Chain [1] done processing\n",
      "22:40:20 - cmdstanpy - INFO - Chain [1] start processing\n",
      "22:40:21 - cmdstanpy - INFO - Chain [1] done processing\n"
     ]
    },
    {
     "name": "stdout",
     "output_type": "stream",
     "text": [
      "It's underpredicted.\n",
      "Monthly Error: 25.2 Period MAE: 24.15\n"
     ]
    },
    {
     "name": "stderr",
     "output_type": "stream",
     "text": [
      "22:40:22 - cmdstanpy - INFO - Chain [1] start processing\n"
     ]
    },
    {
     "name": "stdout",
     "output_type": "stream",
     "text": [
      "It's overpredicted.\n",
      "Monthly Error: 14.39 Period MAE: 1.5599999999999998\n",
      "It's underpredicted.\n",
      "Monthly Error: 24.28 Period MAE: 24.57\n"
     ]
    },
    {
     "name": "stderr",
     "output_type": "stream",
     "text": [
      "22:40:23 - cmdstanpy - INFO - Chain [1] done processing\n"
     ]
    },
    {
     "name": "stdout",
     "output_type": "stream",
     "text": [
      "It's overpredicted.\n",
      "Monthly Error: 15.73 Period MAE: 4.09\n"
     ]
    },
    {
     "name": "stderr",
     "output_type": "stream",
     "text": [
      "22:40:24 - cmdstanpy - INFO - Chain [1] start processing\n",
      "22:40:24 - cmdstanpy - INFO - Chain [1] start processing\n",
      "22:40:24 - cmdstanpy - INFO - Chain [1] start processing\n",
      "22:40:24 - cmdstanpy - INFO - Chain [1] done processing\n",
      "22:40:25 - cmdstanpy - INFO - Chain [1] done processing\n",
      "22:40:25 - cmdstanpy - INFO - Chain [1] done processing\n"
     ]
    },
    {
     "name": "stdout",
     "output_type": "stream",
     "text": [
      "It's underpredicted.\n",
      "Monthly Error: 22.72 Period MAE: 22.84\n"
     ]
    },
    {
     "name": "stderr",
     "output_type": "stream",
     "text": [
      "22:40:26 - cmdstanpy - INFO - Chain [1] start processing\n",
      "22:40:27 - cmdstanpy - INFO - Chain [1] done processing\n"
     ]
    },
    {
     "name": "stdout",
     "output_type": "stream",
     "text": [
      "It's overpredicted.\n",
      "Monthly Error: 15.47 Period MAE: 4.21\n",
      "It's underpredicted.\n",
      "Monthly Error: 24.02 Period MAE: 22.939999999999998\n"
     ]
    },
    {
     "name": "stderr",
     "output_type": "stream",
     "text": [
      "22:40:27 - cmdstanpy - INFO - Chain [1] start processing\n",
      "22:40:27 - cmdstanpy - INFO - Chain [1] start processing\n",
      "22:40:28 - cmdstanpy - INFO - Chain [1] done processing\n",
      "22:40:28 - cmdstanpy - INFO - Chain [1] done processing\n"
     ]
    },
    {
     "name": "stdout",
     "output_type": "stream",
     "text": [
      "It's overpredicted.\n",
      "Monthly Error: 16.46 Period MAE: 4.81\n",
      "It's overpredicted.\n",
      "Monthly Error: 23.87 Period MAE: 13.469999999999999\n"
     ]
    },
    {
     "name": "stderr",
     "output_type": "stream",
     "text": [
      "22:40:30 - cmdstanpy - INFO - Chain [1] start processing\n"
     ]
    },
    {
     "name": "stdout",
     "output_type": "stream",
     "text": [
      "It's underpredicted.\n",
      "Monthly Error: 23.28 Period MAE: 23.04\n"
     ]
    },
    {
     "name": "stderr",
     "output_type": "stream",
     "text": [
      "22:40:31 - cmdstanpy - INFO - Chain [1] start processing\n",
      "22:40:31 - cmdstanpy - INFO - Chain [1] done processing\n",
      "22:40:31 - cmdstanpy - INFO - Chain [1] start processing\n"
     ]
    },
    {
     "name": "stdout",
     "output_type": "stream",
     "text": [
      "It's overpredicted.\n",
      "Monthly Error: 23.83 Period MAE: 13.530000000000001\n"
     ]
    },
    {
     "name": "stderr",
     "output_type": "stream",
     "text": [
      "22:40:31 - cmdstanpy - INFO - Chain [1] done processing\n",
      "22:40:31 - cmdstanpy - INFO - Chain [1] done processing\n",
      "22:40:32 - cmdstanpy - INFO - Chain [1] start processing\n",
      "22:40:32 - cmdstanpy - INFO - Chain [1] done processing\n"
     ]
    },
    {
     "name": "stdout",
     "output_type": "stream",
     "text": [
      "It's underpredicted.\n",
      "Monthly Error: 23.57 Period MAE: 23.96\n",
      "It's underpredicted.\n",
      "Monthly Error: 24.05 Period MAE: 22.68\n"
     ]
    },
    {
     "name": "stderr",
     "output_type": "stream",
     "text": [
      "22:40:33 - cmdstanpy - INFO - Chain [1] start processing\n",
      "22:40:34 - cmdstanpy - INFO - Chain [1] done processing\n",
      "22:40:34 - cmdstanpy - INFO - Chain [1] start processing\n",
      "22:40:34 - cmdstanpy - INFO - Chain [1] done processing\n"
     ]
    },
    {
     "name": "stdout",
     "output_type": "stream",
     "text": [
      "It's underpredicted.It's underpredicted.\n",
      "It's overpredicted.Monthly Error:\n",
      "\n",
      "Monthly Error:Monthly Error:   23.0122.21 17.56  Period MAE:Period MAE:  Period MAE:21.6412.61\n",
      " \n",
      "18.0\n"
     ]
    },
    {
     "name": "stderr",
     "output_type": "stream",
     "text": [
      "22:40:36 - cmdstanpy - INFO - Chain [1] start processing\n",
      "22:40:36 - cmdstanpy - INFO - Chain [1] done processing\n",
      "22:40:36 - cmdstanpy - INFO - Chain [1] start processing\n",
      "22:40:37 - cmdstanpy - INFO - Chain [1] start processing\n",
      "22:40:37 - cmdstanpy - INFO - Chain [1] done processing\n"
     ]
    },
    {
     "name": "stdout",
     "output_type": "stream",
     "text": [
      "It's underpredicted.\n",
      "Monthly Error: 17.48 Period MAE: 17.82\n"
     ]
    },
    {
     "name": "stderr",
     "output_type": "stream",
     "text": [
      "22:40:37 - cmdstanpy - INFO - Chain [1] done processing\n"
     ]
    },
    {
     "name": "stdout",
     "output_type": "stream",
     "text": [
      "It's underpredicted.\n",
      "Monthly Error: 22.31 Period MAE:"
     ]
    },
    {
     "name": "stderr",
     "output_type": "stream",
     "text": [
      "22:40:38 - cmdstanpy - INFO - Chain [1] start processing\n"
     ]
    },
    {
     "name": "stdout",
     "output_type": "stream",
     "text": [
      " 22.189999999999998\n"
     ]
    },
    {
     "name": "stderr",
     "output_type": "stream",
     "text": [
      "22:40:38 - cmdstanpy - INFO - Chain [1] done processing\n",
      "22:40:39 - cmdstanpy - INFO - Chain [1] start processing\n",
      "22:40:39 - cmdstanpy - INFO - Chain [1] done processing\n"
     ]
    },
    {
     "name": "stdout",
     "output_type": "stream",
     "text": [
      "It's underpredicted.\n",
      "Monthly Error: 24.06 Period MAE: 22.62\n"
     ]
    },
    {
     "name": "stderr",
     "output_type": "stream",
     "text": [
      "22:40:41 - cmdstanpy - INFO - Chain [1] start processing\n"
     ]
    },
    {
     "name": "stdout",
     "output_type": "stream",
     "text": [
      "It's underpredicted.\n",
      "Monthly Error: "
     ]
    },
    {
     "name": "stderr",
     "output_type": "stream",
     "text": [
      "22:40:41 - cmdstanpy - INFO - Chain [1] done processing\n"
     ]
    },
    {
     "name": "stdout",
     "output_type": "stream",
     "text": [
      "24.08 Period MAE: 24.27\n",
      "It's underpredicted.\n",
      "Monthly Error: 17.01 Period MAE: 16.76\n",
      "It's overpredicted.\n",
      "Monthly Error: 13.61 Period MAE: 0.35000000000000003\n"
     ]
    },
    {
     "name": "stderr",
     "output_type": "stream",
     "text": [
      "22:40:42 - cmdstanpy - INFO - Chain [1] start processing\n",
      "22:40:42 - cmdstanpy - INFO - Chain [1] start processing\n",
      "22:40:42 - cmdstanpy - INFO - Chain [1] start processing\n",
      "22:40:43 - cmdstanpy - INFO - Chain [1] done processing\n",
      "22:40:43 - cmdstanpy - INFO - Chain [1] done processing\n",
      "22:40:43 - cmdstanpy - INFO - Chain [1] done processing\n"
     ]
    },
    {
     "name": "stdout",
     "output_type": "stream",
     "text": [
      "It's underpredicted.\n",
      "Monthly Error: 22.84 Period MAE: 22.89\n",
      "It's overpredicted.\n",
      "Monthly Error: 13.44 Period MAE: 0.44999999999999996\n"
     ]
    },
    {
     "name": "stderr",
     "output_type": "stream",
     "text": [
      "22:40:45 - cmdstanpy - INFO - Chain [1] start processing\n"
     ]
    },
    {
     "name": "stdout",
     "output_type": "stream",
     "text": [
      "It's underpredicted.\n"
     ]
    },
    {
     "name": "stderr",
     "output_type": "stream",
     "text": [
      "22:40:45 - cmdstanpy - INFO - Chain [1] done processing\n"
     ]
    },
    {
     "name": "stdout",
     "output_type": "stream",
     "text": [
      "Monthly Error: 24.29 Period MAE: 23.32\n"
     ]
    },
    {
     "name": "stderr",
     "output_type": "stream",
     "text": [
      "22:40:45 - cmdstanpy - INFO - Chain [1] start processing\n",
      "22:40:46 - cmdstanpy - INFO - Chain [1] start processing\n",
      "22:40:46 - cmdstanpy - INFO - Chain [1] done processing\n",
      "22:40:46 - cmdstanpy - INFO - Chain [1] done processing\n"
     ]
    },
    {
     "name": "stdout",
     "output_type": "stream",
     "text": [
      "It's overpredicted.\n",
      "Monthly Error: 13.56 Period MAE: 0.01\n",
      "It's underpredicted.\n",
      "Monthly Error: 23.31 Period MAE: 23.03\n"
     ]
    },
    {
     "name": "stderr",
     "output_type": "stream",
     "text": [
      "22:40:48 - cmdstanpy - INFO - Chain [1] start processing\n"
     ]
    },
    {
     "name": "stdout",
     "output_type": "stream",
     "text": [
      "It's overpredicted.\n",
      "Monthly Error: 16.59 Period MAE: "
     ]
    },
    {
     "name": "stderr",
     "output_type": "stream",
     "text": [
      "22:40:49 - cmdstanpy - INFO - Chain [1] start processing\n"
     ]
    },
    {
     "name": "stdout",
     "output_type": "stream",
     "text": [
      "2.52\n"
     ]
    },
    {
     "name": "stderr",
     "output_type": "stream",
     "text": [
      "22:40:49 - cmdstanpy - INFO - Chain [1] done processing\n",
      "22:40:49 - cmdstanpy - INFO - Chain [1] start processing\n",
      "22:40:49 - cmdstanpy - INFO - Chain [1] done processing\n"
     ]
    },
    {
     "name": "stdout",
     "output_type": "stream",
     "text": [
      "It's overpredicted.\n",
      "Monthly Error: 16.49 Period MAE: 2.41\n"
     ]
    },
    {
     "name": "stderr",
     "output_type": "stream",
     "text": [
      "22:40:50 - cmdstanpy - INFO - Chain [1] done processing\n",
      "22:40:50 - cmdstanpy - INFO - Chain [1] start processing\n",
      "22:40:50 - cmdstanpy - INFO - Chain [1] done processing\n"
     ]
    },
    {
     "name": "stdout",
     "output_type": "stream",
     "text": [
      "It's underpredicted.\n",
      "Monthly Error: 24.19 It's underpredicted.Period MAE: 22.35\n",
      "\n",
      "Monthly Error: 18.43  Period MAE:17.14\n"
     ]
    },
    {
     "name": "stderr",
     "output_type": "stream",
     "text": [
      "22:40:52 - cmdstanpy - INFO - Chain [1] start processing\n",
      "22:40:52 - cmdstanpy - INFO - Chain [1] start processing\n",
      "22:40:52 - cmdstanpy - INFO - Chain [1] done processing\n",
      "22:40:52 - cmdstanpy - INFO - Chain [1] done processing\n"
     ]
    },
    {
     "name": "stdout",
     "output_type": "stream",
     "text": [
      "It's underpredicted.\n",
      "Monthly Error: 16.85 Period MAE: 18.61\n",
      "It's underpredicted.\n",
      "Monthly Error: 19.46 Period MAE: 17.98\n",
      "It's overpredicted.\n",
      "Monthly Error: 15.91 Period MAE: 1.9900000000000002\n"
     ]
    },
    {
     "name": "stderr",
     "output_type": "stream",
     "text": [
      "22:40:55 - cmdstanpy - INFO - Chain [1] start processing\n",
      "22:40:55 - cmdstanpy - INFO - Chain [1] start processing\n",
      "22:40:55 - cmdstanpy - INFO - Chain [1] done processing\n",
      "22:40:55 - cmdstanpy - INFO - Chain [1] start processing\n"
     ]
    },
    {
     "name": "stdout",
     "output_type": "stream",
     "text": [
      "It's underpredicted.\n",
      "Monthly Error: 16.17 "
     ]
    },
    {
     "name": "stderr",
     "output_type": "stream",
     "text": [
      "22:40:55 - cmdstanpy - INFO - Chain [1] done processing\n"
     ]
    },
    {
     "name": "stdout",
     "output_type": "stream",
     "text": [
      "Period MAE: 17.86\n"
     ]
    },
    {
     "name": "stderr",
     "output_type": "stream",
     "text": [
      "22:40:56 - cmdstanpy - INFO - Chain [1] done processing\n",
      "22:40:56 - cmdstanpy - INFO - Chain [1] start processing\n",
      "22:40:56 - cmdstanpy - INFO - Chain [1] done processing\n"
     ]
    },
    {
     "name": "stdout",
     "output_type": "stream",
     "text": [
      "It's underpredicted.\n",
      "Monthly Error: 17.96 Period MAE: 16.38\n"
     ]
    },
    {
     "name": "stderr",
     "output_type": "stream",
     "text": [
      "22:40:57 - cmdstanpy - INFO - Chain [1] start processing\n"
     ]
    },
    {
     "name": "stdout",
     "output_type": "stream",
     "text": [
      "It's underpredicted.\n",
      "Monthly Error: 20.3 Period MAE: 18.16\n"
     ]
    },
    {
     "name": "stderr",
     "output_type": "stream",
     "text": [
      "22:40:58 - cmdstanpy - INFO - Chain [1] done processing\n",
      "22:40:58 - cmdstanpy - INFO - Chain [1] start processing\n",
      "22:40:59 - cmdstanpy - INFO - Chain [1] done processing\n"
     ]
    },
    {
     "name": "stdout",
     "output_type": "stream",
     "text": [
      "It's underpredicted.\n",
      "Monthly Error: 16.53 Period MAE: 14.249999999999998\n",
      "It's overpredicted.\n",
      "Monthly Error: 30.02 Period MAE: 23.48\n",
      "It's underpredicted.\n",
      "Monthly Error: 19.79 Period MAE: 18.5\n"
     ]
    },
    {
     "name": "stderr",
     "output_type": "stream",
     "text": [
      "22:41:00 - cmdstanpy - INFO - Chain [1] start processing\n",
      "22:41:00 - cmdstanpy - INFO - Chain [1] start processing\n",
      "22:41:00 - cmdstanpy - INFO - Chain [1] start processing\n",
      "22:41:01 - cmdstanpy - INFO - Chain [1] done processing\n",
      "22:41:01 - cmdstanpy - INFO - Chain [1] done processing\n",
      "22:41:01 - cmdstanpy - INFO - Chain [1] done processing\n"
     ]
    },
    {
     "name": "stdout",
     "output_type": "stream",
     "text": [
      "It's underpredicted.\n",
      "Monthly Error: 19.68 Period MAE: 18.310000000000002\n",
      "It's overpredicted.\n",
      "Monthly Error: 29.57 \n",
      "Period MAE: 23.61"
     ]
    },
    {
     "name": "stderr",
     "output_type": "stream",
     "text": [
      "22:41:03 - cmdstanpy - INFO - Chain [1] start processing\n",
      "22:41:04 - cmdstanpy - INFO - Chain [1] done processing\n"
     ]
    },
    {
     "name": "stdout",
     "output_type": "stream",
     "text": [
      "It's underpredicted.\n",
      "Monthly Error: 20.4 "
     ]
    },
    {
     "name": "stderr",
     "output_type": "stream",
     "text": [
      "22:41:04 - cmdstanpy - INFO - Chain [1] start processing\n"
     ]
    },
    {
     "name": "stdout",
     "output_type": "stream",
     "text": [
      "Period MAE: 18.23\n"
     ]
    },
    {
     "name": "stderr",
     "output_type": "stream",
     "text": [
      "22:41:05 - cmdstanpy - INFO - Chain [1] done processing\n",
      "22:41:05 - cmdstanpy - INFO - Chain [1] start processing\n",
      "22:41:06 - cmdstanpy - INFO - Chain [1] done processing\n"
     ]
    },
    {
     "name": "stdout",
     "output_type": "stream",
     "text": [
      "It's overpredicted.\n",
      "Monthly Error: 28.31 Period MAE: 22.439999999999998\n",
      "It's underpredicted.\n",
      "Monthly Error: 22.37 Period MAE: 21.72\n"
     ]
    },
    {
     "name": "stderr",
     "output_type": "stream",
     "text": [
      "22:41:07 - cmdstanpy - INFO - Chain [1] start processing\n"
     ]
    },
    {
     "name": "stdout",
     "output_type": "stream",
     "text": [
      "It's overpredicted.\n",
      "Monthly Error: 12.64 Period MAE: 2.74\n"
     ]
    },
    {
     "name": "stderr",
     "output_type": "stream",
     "text": [
      "22:41:08 - cmdstanpy - INFO - Chain [1] done processing\n",
      "22:41:08 - cmdstanpy - INFO - Chain [1] start processing\n",
      "22:41:08 - cmdstanpy - INFO - Chain [1] start processing\n",
      "22:41:08 - cmdstanpy - INFO - Chain [1] done processing\n",
      "22:41:09 - cmdstanpy - INFO - Chain [1] done processing\n"
     ]
    },
    {
     "name": "stdout",
     "output_type": "stream",
     "text": [
      "It's overpredicted.\n",
      "Monthly Error: 11.5 Period MAE: 2.17\n",
      "It's underpredicted.\n",
      "Monthly Error: 19.05 "
     ]
    },
    {
     "name": "stderr",
     "output_type": "stream",
     "text": [
      "22:41:10 - cmdstanpy - INFO - Chain [1] start processing\n"
     ]
    },
    {
     "name": "stdout",
     "output_type": "stream",
     "text": [
      "Period MAE: 18.0\n"
     ]
    },
    {
     "name": "stderr",
     "output_type": "stream",
     "text": [
      "22:41:10 - cmdstanpy - INFO - Chain [1] done processing\n"
     ]
    },
    {
     "name": "stdout",
     "output_type": "stream",
     "text": [
      "It's underpredicted.\n",
      "Monthly Error: 22.63 Period MAE: 20.69\n"
     ]
    },
    {
     "name": "stderr",
     "output_type": "stream",
     "text": [
      "22:41:11 - cmdstanpy - INFO - Chain [1] start processing\n",
      "22:41:11 - cmdstanpy - INFO - Chain [1] start processing\n",
      "22:41:11 - cmdstanpy - INFO - Chain [1] done processing\n",
      "22:41:11 - cmdstanpy - INFO - Chain [1] done processing\n"
     ]
    },
    {
     "name": "stdout",
     "output_type": "stream",
     "text": [
      "It's overpredicted.\n",
      "Monthly Error: 11.64 Period MAE: 1.8399999999999999\n",
      "It's underpredicted.\n",
      "Monthly Error: 20.17 Period MAE: 19.11\n"
     ]
    },
    {
     "name": "stderr",
     "output_type": "stream",
     "text": [
      "22:41:14 - cmdstanpy - INFO - Chain [1] start processing\n"
     ]
    },
    {
     "name": "stdout",
     "output_type": "stream",
     "text": [
      "It's underpredicted.\n",
      "Monthly Error: 22.22 Period MAE: 23.0\n"
     ]
    },
    {
     "name": "stderr",
     "output_type": "stream",
     "text": [
      "22:41:14 - cmdstanpy - INFO - Chain [1] start processing\n",
      "22:41:15 - cmdstanpy - INFO - Chain [1] done processing\n",
      "22:41:15 - cmdstanpy - INFO - Chain [1] start processing\n"
     ]
    },
    {
     "name": "stdout",
     "output_type": "stream",
     "text": [
      "It's underpredicted.\n"
     ]
    },
    {
     "name": "stderr",
     "output_type": "stream",
     "text": [
      "22:41:15 - cmdstanpy - INFO - Chain [1] done processing\n"
     ]
    },
    {
     "name": "stdout",
     "output_type": "stream",
     "text": [
      "Monthly Error: 20.98 Period MAE: 21.77\n"
     ]
    },
    {
     "name": "stderr",
     "output_type": "stream",
     "text": [
      "22:41:15 - cmdstanpy - INFO - Chain [1] done processing\n",
      "22:41:16 - cmdstanpy - INFO - Chain [1] start processing\n",
      "22:41:16 - cmdstanpy - INFO - Chain [1] done processing\n"
     ]
    },
    {
     "name": "stdout",
     "output_type": "stream",
     "text": [
      "It's underpredicted.\n",
      "Monthly Error: 18.1 Period MAE: 16.63\n",
      "It's underpredicted.\n",
      "Monthly Error: 20.04 Period MAE: 17.75\n"
     ]
    },
    {
     "name": "stderr",
     "output_type": "stream",
     "text": [
      "22:41:17 - cmdstanpy - INFO - Chain [1] start processing\n",
      "22:41:17 - cmdstanpy - INFO - Chain [1] start processing\n",
      "22:41:18 - cmdstanpy - INFO - Chain [1] done processing\n",
      "22:41:18 - cmdstanpy - INFO - Chain [1] done processing\n"
     ]
    },
    {
     "name": "stdout",
     "output_type": "stream",
     "text": [
      "It's overpredicted.\n",
      "Monthly Error: 28.35 Period MAE: 19.919999999999998\n",
      "It's underpredicted.\n",
      "Monthly Error: 20.75 It's underpredicted.\n",
      "Monthly Error: 20.59 Period MAE:Period MAE: 19.79 \n",
      "19.98\n"
     ]
    },
    {
     "name": "stderr",
     "output_type": "stream",
     "text": [
      "22:41:21 - cmdstanpy - INFO - Chain [1] start processing\n",
      "22:41:21 - cmdstanpy - INFO - Chain [1] start processing\n",
      "22:41:21 - cmdstanpy - INFO - Chain [1] done processing\n",
      "22:41:21 - cmdstanpy - INFO - Chain [1] start processing\n",
      "22:41:22 - cmdstanpy - INFO - Chain [1] done processing\n"
     ]
    },
    {
     "name": "stdout",
     "output_type": "stream",
     "text": [
      "It's overpredicted.\n",
      "Monthly Error: 29.05 Period MAE: 22.28\n"
     ]
    },
    {
     "name": "stderr",
     "output_type": "stream",
     "text": [
      "22:41:22 - cmdstanpy - INFO - Chain [1] done processing\n",
      "22:41:22 - cmdstanpy - INFO - Chain [1] start processing\n"
     ]
    },
    {
     "name": "stdout",
     "output_type": "stream",
     "text": [
      "It's underpredicted.\n",
      "Monthly Error: 20.33 Period MAE: 19.36\n"
     ]
    },
    {
     "name": "stderr",
     "output_type": "stream",
     "text": [
      "22:41:23 - cmdstanpy - INFO - Chain [1] done processing\n",
      "22:41:24 - cmdstanpy - INFO - Chain [1] start processing\n"
     ]
    },
    {
     "name": "stdout",
     "output_type": "stream",
     "text": [
      "It's underpredicted.\n",
      "Monthly Error: 20.21 Period MAE: 18.029999999999998\n"
     ]
    },
    {
     "name": "stderr",
     "output_type": "stream",
     "text": [
      "22:41:25 - cmdstanpy - INFO - Chain [1] done processing\n",
      "22:41:25 - cmdstanpy - INFO - Chain [1] start processing\n"
     ]
    },
    {
     "name": "stdout",
     "output_type": "stream",
     "text": [
      "It's underpredicted.\n",
      "Monthly Error: 17.52 Period MAE: 6.4399999999999995\n"
     ]
    },
    {
     "name": "stderr",
     "output_type": "stream",
     "text": [
      "22:41:25 - cmdstanpy - INFO - Chain [1] done processing\n"
     ]
    },
    {
     "name": "stdout",
     "output_type": "stream",
     "text": [
      "It's underpredicted.\n",
      "Monthly Error: 22.48"
     ]
    },
    {
     "name": "stderr",
     "output_type": "stream",
     "text": [
      "22:41:26 - cmdstanpy - INFO - Chain [1] start processing\n"
     ]
    },
    {
     "name": "stdout",
     "output_type": "stream",
     "text": [
      " Period MAE: 21.84\n",
      "It's overpredicted.\n",
      "Monthly Error: 28.52 Period MAE: 22.3\n"
     ]
    },
    {
     "name": "stderr",
     "output_type": "stream",
     "text": [
      "22:41:27 - cmdstanpy - INFO - Chain [1] start processing\n",
      "22:41:27 - cmdstanpy - INFO - Chain [1] done processing\n",
      "22:41:27 - cmdstanpy - INFO - Chain [1] done processing\n",
      "22:41:27 - cmdstanpy - INFO - Chain [1] start processing\n",
      "22:41:28 - cmdstanpy - INFO - Chain [1] done processing\n"
     ]
    },
    {
     "name": "stdout",
     "output_type": "stream",
     "text": [
      "It's underpredicted.\n",
      "Monthly Error: 22.94 Period MAE: 23.09\n"
     ]
    },
    {
     "name": "stderr",
     "output_type": "stream",
     "text": [
      "22:41:29 - cmdstanpy - INFO - Chain [1] start processing\n"
     ]
    },
    {
     "name": "stdout",
     "output_type": "stream",
     "text": [
      "It's underpredicted.\n",
      "Monthly Error: 22.76 It's underpredicted.Period MAE: \n",
      "Monthly Error: 20.9116.91 \n",
      "Period MAE: 5.84"
     ]
    },
    {
     "name": "stderr",
     "output_type": "stream",
     "text": [
      "22:41:29 - cmdstanpy - INFO - Chain [1] done processing\n"
     ]
    },
    {
     "name": "stdout",
     "output_type": "stream",
     "text": [
      "\n"
     ]
    },
    {
     "name": "stderr",
     "output_type": "stream",
     "text": [
      "22:41:30 - cmdstanpy - INFO - Chain [1] start processing\n",
      "22:41:30 - cmdstanpy - INFO - Chain [1] start processing\n",
      "22:41:30 - cmdstanpy - INFO - Chain [1] done processing\n",
      "22:41:30 - cmdstanpy - INFO - Chain [1] done processing\n"
     ]
    },
    {
     "name": "stdout",
     "output_type": "stream",
     "text": [
      "It's underpredicted.\n",
      "Monthly Error: 22.21 Period MAE: 21.72\n",
      "It's underpredicted.\n",
      "Monthly Error: 17.89 Period MAE: 6.5\n",
      "It's underpredicted.\n",
      "Monthly Error: 12.62 Period MAE: 0.8200000000000001\n"
     ]
    },
    {
     "name": "stderr",
     "output_type": "stream",
     "text": [
      "22:41:33 - cmdstanpy - INFO - Chain [1] start processing\n",
      "22:41:33 - cmdstanpy - INFO - Chain [1] start processing\n",
      "22:41:33 - cmdstanpy - INFO - Chain [1] start processing\n",
      "22:41:34 - cmdstanpy - INFO - Chain [1] done processing\n",
      "22:41:34 - cmdstanpy - INFO - Chain [1] done processing\n",
      "22:41:34 - cmdstanpy - INFO - Chain [1] done processing\n"
     ]
    },
    {
     "name": "stdout",
     "output_type": "stream",
     "text": [
      "It's underpredicted.\n",
      "Monthly Error: 12.4 Period MAE: 0.61\n"
     ]
    },
    {
     "name": "stderr",
     "output_type": "stream",
     "text": [
      "22:41:35 - cmdstanpy - INFO - Chain [1] start processing\n",
      "22:41:35 - cmdstanpy - INFO - Chain [1] done processing\n"
     ]
    },
    {
     "name": "stdout",
     "output_type": "stream",
     "text": [
      "It's underpredicted.\n",
      "Monthly Error: 22.65 Period MAE: 22.869999999999997\n",
      "It's underpredicted.\n",
      "Monthly Error: 24.49 Period MAE: 23.43\n"
     ]
    },
    {
     "name": "stderr",
     "output_type": "stream",
     "text": [
      "22:41:36 - cmdstanpy - INFO - Chain [1] start processing\n",
      "22:41:37 - cmdstanpy - INFO - Chain [1] start processing\n",
      "22:41:37 - cmdstanpy - INFO - Chain [1] done processing\n",
      "22:41:37 - cmdstanpy - INFO - Chain [1] done processing\n"
     ]
    },
    {
     "name": "stdout",
     "output_type": "stream",
     "text": [
      "It's overpredicted.\n",
      "Monthly Error: 13.29 Period MAE: 0.21\n",
      "It's overpredicted.\n",
      "Monthly Error: It's underpredicted.15.74\n",
      " Monthly Error:Period MAE:  24.044.09 \n",
      "Period MAE: 24.27\n"
     ]
    },
    {
     "name": "stderr",
     "output_type": "stream",
     "text": [
      "22:41:39 - cmdstanpy - INFO - Chain [1] start processing\n",
      "22:41:40 - cmdstanpy - INFO - Chain [1] start processing\n",
      "22:41:40 - cmdstanpy - INFO - Chain [1] start processing\n",
      "22:41:40 - cmdstanpy - INFO - Chain [1] done processing\n"
     ]
    },
    {
     "name": "stdout",
     "output_type": "stream",
     "text": [
      "It's overpredicted.\n"
     ]
    },
    {
     "name": "stderr",
     "output_type": "stream",
     "text": [
      "22:41:40 - cmdstanpy - INFO - Chain [1] done processing\n"
     ]
    },
    {
     "name": "stdout",
     "output_type": "stream",
     "text": [
      "Monthly Error: 15.42 Period MAE: 4.130000000000001\n"
     ]
    },
    {
     "name": "stderr",
     "output_type": "stream",
     "text": [
      "22:41:40 - cmdstanpy - INFO - Chain [1] done processing\n",
      "22:41:40 - cmdstanpy - INFO - Chain [1] start processing\n",
      "22:41:41 - cmdstanpy - INFO - Chain [1] done processing\n"
     ]
    },
    {
     "name": "stdout",
     "output_type": "stream",
     "text": [
      "It's underpredicted.\n",
      "Monthly Error: 21.61 Period MAE: 21.099999999999998\n"
     ]
    },
    {
     "name": "stderr",
     "output_type": "stream",
     "text": [
      "22:41:42 - cmdstanpy - INFO - Chain [1] start processing\n",
      "22:41:43 - cmdstanpy - INFO - Chain [1] done processing\n"
     ]
    },
    {
     "name": "stdout",
     "output_type": "stream",
     "text": [
      "It's underpredicted.\n",
      "Monthly Error: 24.47 Period MAE: 23.830000000000002\n"
     ]
    },
    {
     "name": "stderr",
     "output_type": "stream",
     "text": [
      "22:41:44 - cmdstanpy - INFO - Chain [1] start processing\n"
     ]
    },
    {
     "name": "stdout",
     "output_type": "stream",
     "text": [
      "It's overpredicted.\n",
      "Monthly Error: "
     ]
    },
    {
     "name": "stderr",
     "output_type": "stream",
     "text": [
      "22:41:44 - cmdstanpy - INFO - Chain [1] done processing\n"
     ]
    },
    {
     "name": "stdout",
     "output_type": "stream",
     "text": [
      "15.97 Period MAE: 4.29\n",
      "It's overpredicted.It's underpredicted.\n",
      "\n",
      "Monthly Error:Monthly Error: 23.0 Period MAE:  22.6124.04\n",
      " Period MAE: 13.74\n"
     ]
    },
    {
     "name": "stderr",
     "output_type": "stream",
     "text": [
      "22:41:45 - cmdstanpy - INFO - Chain [1] start processing\n",
      "22:41:45 - cmdstanpy - INFO - Chain [1] start processing\n",
      "22:41:46 - cmdstanpy - INFO - Chain [1] done processing\n",
      "22:41:46 - cmdstanpy - INFO - Chain [1] done processing\n",
      "22:41:46 - cmdstanpy - INFO - Chain [1] start processing\n",
      "22:41:46 - cmdstanpy - INFO - Chain [1] done processing\n"
     ]
    },
    {
     "name": "stdout",
     "output_type": "stream",
     "text": [
      "It's underpredicted.\n",
      "Monthly Error: 23.09 Period MAE: 23.3\n"
     ]
    },
    {
     "name": "stderr",
     "output_type": "stream",
     "text": [
      "22:41:47 - cmdstanpy - INFO - Chain [1] start processing\n",
      "22:41:48 - cmdstanpy - INFO - Chain [1] done processing\n"
     ]
    },
    {
     "name": "stdout",
     "output_type": "stream",
     "text": [
      "It's underpredicted.\n",
      "Monthly Error: 23.98 Period MAE: 22.919999999999998\n",
      "It's overpredicted.\n",
      "Monthly Error: 23.31 Period MAE: 12.9\n"
     ]
    },
    {
     "name": "stderr",
     "output_type": "stream",
     "text": [
      "22:41:48 - cmdstanpy - INFO - Chain [1] start processing\n",
      "22:41:49 - cmdstanpy - INFO - Chain [1] done processing\n",
      "22:41:49 - cmdstanpy - INFO - Chain [1] start processing\n",
      "22:41:49 - cmdstanpy - INFO - Chain [1] done processing\n"
     ]
    },
    {
     "name": "stdout",
     "output_type": "stream",
     "text": [
      "It's underpredicted.\n",
      "Monthly Error: 22.05 Period MAE: 21.42\n",
      "It's overpredicted.\n",
      "Monthly Error: 22.39 Period MAE: 11.84\n",
      "It's underpredicted.\n",
      "Monthly Error: 17.5 Period MAE: 17.75\n"
     ]
    },
    {
     "name": "stderr",
     "output_type": "stream",
     "text": [
      "22:41:52 - cmdstanpy - INFO - Chain [1] start processing\n",
      "22:41:52 - cmdstanpy - INFO - Chain [1] start processing\n",
      "22:41:52 - cmdstanpy - INFO - Chain [1] start processing\n"
     ]
    },
    {
     "name": "stdout",
     "output_type": "stream",
     "text": [
      "It's underpredicted."
     ]
    },
    {
     "name": "stderr",
     "output_type": "stream",
     "text": [
      "22:41:52 - cmdstanpy - INFO - Chain [1] done processing\n"
     ]
    },
    {
     "name": "stdout",
     "output_type": "stream",
     "text": [
      "\n",
      "Monthly Error: 17.47 Period MAE: 17.72\n"
     ]
    },
    {
     "name": "stderr",
     "output_type": "stream",
     "text": [
      "22:41:53 - cmdstanpy - INFO - Chain [1] done processing\n",
      "22:41:53 - cmdstanpy - INFO - Chain [1] done processing\n",
      "22:41:53 - cmdstanpy - INFO - Chain [1] start processing\n",
      "22:41:53 - cmdstanpy - INFO - Chain [1] done processing\n"
     ]
    },
    {
     "name": "stdout",
     "output_type": "stream",
     "text": [
      "It's underpredicted.\n",
      "Monthly Error: 24.01 Period MAE: 24.54\n",
      "It's underpredicted.\n",
      "Monthly Error: 24.29 Period MAE: 23.0\n"
     ]
    },
    {
     "name": "stderr",
     "output_type": "stream",
     "text": [
      "22:41:55 - cmdstanpy - INFO - Chain [1] start processing\n",
      "22:41:55 - cmdstanpy - INFO - Chain [1] start processing\n",
      "22:41:55 - cmdstanpy - INFO - Chain [1] done processing\n",
      "22:41:55 - cmdstanpy - INFO - Chain [1] done processing\n"
     ]
    },
    {
     "name": "stdout",
     "output_type": "stream",
     "text": [
      "It's overpredicted.\n",
      "Monthly Error: 13.63 Period MAE: 0.54It's underpredicted.\n",
      "\n",
      "Monthly Error: 17.06 Period MAE: 16.98\n",
      "It's underpredicted.\n",
      "Monthly Error: 24.28 Period MAE: 24.54\n"
     ]
    },
    {
     "name": "stderr",
     "output_type": "stream",
     "text": [
      "22:41:58 - cmdstanpy - INFO - Chain [1] start processing\n",
      "22:41:58 - cmdstanpy - INFO - Chain [1] start processing\n",
      "22:41:58 - cmdstanpy - INFO - Chain [1] start processing\n",
      "22:41:58 - cmdstanpy - INFO - Chain [1] done processing\n",
      "22:41:59 - cmdstanpy - INFO - Chain [1] done processing\n",
      "22:41:59 - cmdstanpy - INFO - Chain [1] done processing\n"
     ]
    },
    {
     "name": "stdout",
     "output_type": "stream",
     "text": [
      "It's overpredicted.\n",
      "Monthly Error: 13.48 Period MAE: 0.5499999999999999\n"
     ]
    },
    {
     "name": "stderr",
     "output_type": "stream",
     "text": [
      "22:42:00 - cmdstanpy - INFO - Chain [1] start processing\n",
      "22:42:00 - cmdstanpy - INFO - Chain [1] done processing\n"
     ]
    },
    {
     "name": "stdout",
     "output_type": "stream",
     "text": [
      "It's underpredicted.\n",
      "Monthly Error: 21.71 Period MAE: 21.14\n"
     ]
    },
    {
     "name": "stderr",
     "output_type": "stream",
     "text": [
      "22:42:01 - cmdstanpy - INFO - Chain [1] start processing\n"
     ]
    },
    {
     "name": "stdout",
     "output_type": "stream",
     "text": [
      "It's underpredicted.\n",
      "Monthly Error: 25.04 Period MAE: 24.48\n"
     ]
    },
    {
     "name": "stderr",
     "output_type": "stream",
     "text": [
      "22:42:02 - cmdstanpy - INFO - Chain [1] done processing\n"
     ]
    },
    {
     "name": "stdout",
     "output_type": "stream",
     "text": [
      "It's overpredicted.\n",
      "Monthly Error: 16.5 Period MAE: "
     ]
    },
    {
     "name": "stderr",
     "output_type": "stream",
     "text": [
      "22:42:03 - cmdstanpy - INFO - Chain [1] start processing\n"
     ]
    },
    {
     "name": "stdout",
     "output_type": "stream",
     "text": [
      "2.12\n",
      "It's underpredicted.\n"
     ]
    },
    {
     "name": "stderr",
     "output_type": "stream",
     "text": [
      "22:42:03 - cmdstanpy - INFO - Chain [1] done processing\n"
     ]
    },
    {
     "name": "stdout",
     "output_type": "stream",
     "text": [
      "Monthly Error: 13.53 Period MAE: 0.26\n"
     ]
    },
    {
     "name": "stderr",
     "output_type": "stream",
     "text": [
      "22:42:05 - cmdstanpy - INFO - Chain [1] start processing\n",
      "22:42:05 - cmdstanpy - INFO - Chain [1] start processing\n"
     ]
    },
    {
     "name": "stdout",
     "output_type": "stream",
     "text": [
      "It's underpredicted.\n",
      "Monthly Error: 24.35 Period MAE: 24.67\n"
     ]
    },
    {
     "name": "stderr",
     "output_type": "stream",
     "text": [
      "22:42:05 - cmdstanpy - INFO - Chain [1] done processing\n",
      "22:42:06 - cmdstanpy - INFO - Chain [1] start processing\n",
      "22:42:06 - cmdstanpy - INFO - Chain [1] done processing\n",
      "22:42:06 - cmdstanpy - INFO - Chain [1] done processing\n"
     ]
    },
    {
     "name": "stdout",
     "output_type": "stream",
     "text": [
      "It's underpredicted.\n",
      "Monthly Error: 17.52 Period MAE: 15.790000000000001\n"
     ]
    },
    {
     "name": "stderr",
     "output_type": "stream",
     "text": [
      "22:42:08 - cmdstanpy - INFO - Chain [1] start processing\n",
      "22:42:08 - cmdstanpy - INFO - Chain [1] done processing\n"
     ]
    },
    {
     "name": "stdout",
     "output_type": "stream",
     "text": [
      "It's overpredicted.\n",
      "Monthly Error: 16.43 Period MAE: 2.17\n",
      "It's underpredicted.\n",
      "Monthly Error: 24.82 Period MAE: 24.12\n"
     ]
    },
    {
     "name": "stderr",
     "output_type": "stream",
     "text": [
      "22:42:09 - cmdstanpy - INFO - Chain [1] start processing\n"
     ]
    },
    {
     "name": "stdout",
     "output_type": "stream",
     "text": [
      "It's overpredicted.\n",
      "Monthly Error: 16.23"
     ]
    },
    {
     "name": "stderr",
     "output_type": "stream",
     "text": [
      "22:42:09 - cmdstanpy - INFO - Chain [1] start processing\n"
     ]
    },
    {
     "name": "stdout",
     "output_type": "stream",
     "text": [
      " Period MAE: 2.45\n"
     ]
    },
    {
     "name": "stderr",
     "output_type": "stream",
     "text": [
      "22:42:10 - cmdstanpy - INFO - Chain [1] done processing\n",
      "22:42:10 - cmdstanpy - INFO - Chain [1] done processing\n",
      "22:42:11 - cmdstanpy - INFO - Chain [1] start processing\n"
     ]
    },
    {
     "name": "stdout",
     "output_type": "stream",
     "text": [
      "It's underpredicted.\n",
      "Monthly Error: 16.82 Period MAE: 18.58\n",
      "It's underpredicted.\n",
      "Monthly Error: 19.72 Period MAE: 18.66\n"
     ]
    },
    {
     "name": "stderr",
     "output_type": "stream",
     "text": [
      "22:42:12 - cmdstanpy - INFO - Chain [1] start processing\n",
      "22:42:12 - cmdstanpy - INFO - Chain [1] done processing\n",
      "22:42:12 - cmdstanpy - INFO - Chain [1] start processing\n",
      "22:42:12 - cmdstanpy - INFO - Chain [1] done processing\n",
      "22:42:13 - cmdstanpy - INFO - Chain [1] done processing\n"
     ]
    },
    {
     "name": "stdout",
     "output_type": "stream",
     "text": [
      "It's underpredicted.\n",
      "Monthly Error: 16.63 Period MAE: 18.35\n"
     ]
    },
    {
     "name": "stderr",
     "output_type": "stream",
     "text": [
      "22:42:13 - cmdstanpy - INFO - Chain [1] start processing\n",
      "22:42:14 - cmdstanpy - INFO - Chain [1] done processing\n"
     ]
    },
    {
     "name": "stdout",
     "output_type": "stream",
     "text": [
      "It's underpredicted.\n",
      "Monthly Error: 18.67 Period MAE: 16.88\n",
      "It's underpredicted.\n",
      "Monthly Error: 18.03 Period MAE: 16.59\n"
     ]
    },
    {
     "name": "stderr",
     "output_type": "stream",
     "text": [
      "22:42:14 - cmdstanpy - INFO - Chain [1] start processing\n"
     ]
    },
    {
     "name": "stdout",
     "output_type": "stream",
     "text": [
      "It's underpredicted."
     ]
    },
    {
     "name": "stderr",
     "output_type": "stream",
     "text": [
      "22:42:15 - cmdstanpy - INFO - Chain [1] start processing\n"
     ]
    },
    {
     "name": "stdout",
     "output_type": "stream",
     "text": [
      "\n",
      "Monthly Error: 15.61 Period MAE: 17.37"
     ]
    },
    {
     "name": "stderr",
     "output_type": "stream",
     "text": [
      "22:42:15 - cmdstanpy - INFO - Chain [1] done processing\n"
     ]
    },
    {
     "name": "stdout",
     "output_type": "stream",
     "text": [
      "\n"
     ]
    },
    {
     "name": "stderr",
     "output_type": "stream",
     "text": [
      "22:42:15 - cmdstanpy - INFO - Chain [1] done processing\n",
      "22:42:16 - cmdstanpy - INFO - Chain [1] start processing\n"
     ]
    },
    {
     "name": "stdout",
     "output_type": "stream",
     "text": [
      "It's overpredicted.\n",
      "Monthly Error: 29.3 Period MAE: 22.59\n"
     ]
    },
    {
     "name": "stderr",
     "output_type": "stream",
     "text": [
      "22:42:16 - cmdstanpy - INFO - Chain [1] start processing\n",
      "22:42:16 - cmdstanpy - INFO - Chain [1] done processing\n"
     ]
    },
    {
     "name": "stdout",
     "output_type": "stream",
     "text": [
      "It's underpredicted.\n",
      "Monthly Error: "
     ]
    },
    {
     "name": "stderr",
     "output_type": "stream",
     "text": [
      "22:42:17 - cmdstanpy - INFO - Chain [1] done processing\n"
     ]
    },
    {
     "name": "stdout",
     "output_type": "stream",
     "text": [
      "20.48 Period MAE: 19.82\n"
     ]
    },
    {
     "name": "stderr",
     "output_type": "stream",
     "text": [
      "22:42:17 - cmdstanpy - INFO - Chain [1] start processing\n",
      "22:42:17 - cmdstanpy - INFO - Chain [1] done processing\n"
     ]
    },
    {
     "name": "stdout",
     "output_type": "stream",
     "text": [
      "It's overpredicted.\n",
      "Monthly Error: 29.0 Period MAE: 22.61\n",
      "It's underpredicted.\n",
      "Monthly Error: 19.39 Period MAE: It's underpredicted.17.77\n",
      "Monthly Error:\n",
      " 18.9 Period MAE: 17.88\n"
     ]
    },
    {
     "name": "stderr",
     "output_type": "stream",
     "text": [
      "22:42:19 - cmdstanpy - INFO - Chain [1] start processing\n",
      "22:42:19 - cmdstanpy - INFO - Chain [1] done processing\n",
      "22:42:19 - cmdstanpy - INFO - Chain [1] start processing\n",
      "22:42:20 - cmdstanpy - INFO - Chain [1] start processing\n",
      "22:42:20 - cmdstanpy - INFO - Chain [1] done processing\n",
      "22:42:20 - cmdstanpy - INFO - Chain [1] done processing\n"
     ]
    },
    {
     "name": "stdout",
     "output_type": "stream",
     "text": [
      "It's overpredicted.\n",
      "Monthly Error: 28.27 Period MAE: 21.92\n",
      "It's underpredicted.\n",
      "Monthly Error: 20.34 Period MAE: 19.6\n"
     ]
    },
    {
     "name": "stderr",
     "output_type": "stream",
     "text": [
      "22:42:22 - cmdstanpy - INFO - Chain [1] start processing\n"
     ]
    },
    {
     "name": "stdout",
     "output_type": "stream",
     "text": [
      "It's underpredicted.\n",
      "Monthly Error: 10.56 Period MAE: 11.200000000000001\n"
     ]
    },
    {
     "name": "stderr",
     "output_type": "stream",
     "text": [
      "22:42:23 - cmdstanpy - INFO - Chain [1] start processing\n",
      "22:42:23 - cmdstanpy - INFO - Chain [1] done processing\n",
      "22:42:23 - cmdstanpy - INFO - Chain [1] start processing\n",
      "22:42:23 - cmdstanpy - INFO - Chain [1] done processing\n",
      "22:42:24 - cmdstanpy - INFO - Chain [1] done processing\n"
     ]
    },
    {
     "name": "stdout",
     "output_type": "stream",
     "text": [
      "It's underpredicted.\n",
      "Monthly Error: 10.19 Period MAE: 10.59\n"
     ]
    },
    {
     "name": "stderr",
     "output_type": "stream",
     "text": [
      "22:42:24 - cmdstanpy - INFO - Chain [1] start processing\n",
      "22:42:24 - cmdstanpy - INFO - Chain [1] done processing\n"
     ]
    },
    {
     "name": "stdout",
     "output_type": "stream",
     "text": [
      "It's underpredicted.\n",
      "Monthly Error: 18.0 Period MAE: 16.439999999999998\n",
      "It's underpredicted.\n",
      "Monthly Error: 20.15 Period MAE: 18.9\n"
     ]
    },
    {
     "name": "stderr",
     "output_type": "stream",
     "text": [
      "22:42:26 - cmdstanpy - INFO - Chain [1] start processing\n",
      "22:42:26 - cmdstanpy - INFO - Chain [1] start processing\n",
      "22:42:27 - cmdstanpy - INFO - Chain [1] done processing\n",
      "22:42:27 - cmdstanpy - INFO - Chain [1] done processing\n"
     ]
    },
    {
     "name": "stdout",
     "output_type": "stream",
     "text": [
      "It's underpredicted.\n",
      "Monthly Error: 22.44 Period MAE: 22.74\n",
      "It's underpredicted.\n",
      "Monthly Error: 20.08 Period MAE: 19.21\n"
     ]
    },
    {
     "name": "stderr",
     "output_type": "stream",
     "text": [
      "22:42:29 - cmdstanpy - INFO - Chain [1] start processing\n"
     ]
    },
    {
     "name": "stdout",
     "output_type": "stream",
     "text": [
      "It's underpredicted.\n",
      "Monthly Error: 10.11 Period MAE: 10.08\n"
     ]
    },
    {
     "name": "stderr",
     "output_type": "stream",
     "text": [
      "22:42:29 - cmdstanpy - INFO - Chain [1] start processing\n",
      "22:42:30 - cmdstanpy - INFO - Chain [1] start processing\n",
      "22:42:30 - cmdstanpy - INFO - Chain [1] done processing\n",
      "22:42:31 - cmdstanpy - INFO - Chain [1] done processing\n"
     ]
    },
    {
     "name": "stdout",
     "output_type": "stream",
     "text": [
      "It's underpredicted.\n",
      "Monthly Error: 21.89 Period MAE: 22.189999999999998\n"
     ]
    },
    {
     "name": "stderr",
     "output_type": "stream",
     "text": [
      "22:42:31 - cmdstanpy - INFO - Chain [1] done processing\n",
      "22:42:31 - cmdstanpy - INFO - Chain [1] start processing\n",
      "22:42:31 - cmdstanpy - INFO - Chain [1] done processing\n"
     ]
    },
    {
     "name": "stdout",
     "output_type": "stream",
     "text": [
      "It's underpredicted.\n",
      "Monthly Error: 18.34 Period MAE: 17.0\n"
     ]
    },
    {
     "name": "stderr",
     "output_type": "stream",
     "text": [
      "22:42:33 - cmdstanpy - INFO - Chain [1] start processing\n"
     ]
    },
    {
     "name": "stdout",
     "output_type": "stream",
     "text": [
      "It's underpredicted.\n",
      "Monthly Error: 20.14 Period MAE: 18.92\n"
     ]
    },
    {
     "name": "stderr",
     "output_type": "stream",
     "text": [
      "22:42:33 - cmdstanpy - INFO - Chain [1] done processing\n",
      "22:42:34 - cmdstanpy - INFO - Chain [1] start processing\n",
      "22:42:34 - cmdstanpy - INFO - Chain [1] done processing\n"
     ]
    },
    {
     "name": "stdout",
     "output_type": "stream",
     "text": [
      "It's overpredicted.\n",
      "It's underpredicted.Monthly Error:\n",
      " 27.43Monthly Error: Period MAE:  20.01 18.75Period MAE: 19.040000000000003\n",
      "\n",
      "It's underpredicted.\n",
      "Monthly Error: 21.34 Period MAE: 21.85\n"
     ]
    },
    {
     "name": "stderr",
     "output_type": "stream",
     "text": [
      "22:42:36 - cmdstanpy - INFO - Chain [1] start processing\n",
      "22:42:36 - cmdstanpy - INFO - Chain [1] done processing\n",
      "22:42:37 - cmdstanpy - INFO - Chain [1] start processing\n",
      "22:42:37 - cmdstanpy - INFO - Chain [1] start processing\n",
      "22:42:37 - cmdstanpy - INFO - Chain [1] done processing\n",
      "22:42:37 - cmdstanpy - INFO - Chain [1] done processing\n"
     ]
    },
    {
     "name": "stdout",
     "output_type": "stream",
     "text": [
      "It's underpredicted.\n",
      "Monthly Error: 19.34 Period MAE: 18.360000000000003\n"
     ]
    },
    {
     "name": "stderr",
     "output_type": "stream",
     "text": [
      "22:42:38 - cmdstanpy - INFO - Chain [1] start processing\n",
      "22:42:38 - cmdstanpy - INFO - Chain [1] done processing\n"
     ]
    },
    {
     "name": "stdout",
     "output_type": "stream",
     "text": [
      "It's overpredicted.\n",
      "Monthly Error: 31.55 Period MAE: 24.4\n"
     ]
    },
    {
     "name": "stderr",
     "output_type": "stream",
     "text": [
      "22:42:39 - cmdstanpy - INFO - Chain [1] start processing\n"
     ]
    },
    {
     "name": "stdout",
     "output_type": "stream",
     "text": [
      "It's underpredicted.\n",
      "Monthly Error: 19.46 Period MAE: 17.84"
     ]
    },
    {
     "name": "stderr",
     "output_type": "stream",
     "text": [
      "22:42:40 - cmdstanpy - INFO - Chain [1] done processing\n"
     ]
    },
    {
     "name": "stdout",
     "output_type": "stream",
     "text": [
      "\n"
     ]
    },
    {
     "name": "stderr",
     "output_type": "stream",
     "text": [
      "22:42:41 - cmdstanpy - INFO - Chain [1] start processing\n"
     ]
    },
    {
     "name": "stdout",
     "output_type": "stream",
     "text": [
      "It's overpredicted.\n",
      "Monthly Error: 26.39 Period MAE:"
     ]
    },
    {
     "name": "stderr",
     "output_type": "stream",
     "text": [
      "22:42:41 - cmdstanpy - INFO - Chain [1] done processing\n"
     ]
    },
    {
     "name": "stdout",
     "output_type": "stream",
     "text": [
      " 18.060000000000002\n",
      "It's underpredicted.\n",
      "Monthly Error: 18.9"
     ]
    },
    {
     "name": "stderr",
     "output_type": "stream",
     "text": [
      "22:42:42 - cmdstanpy - INFO - Chain [1] start processing\n"
     ]
    },
    {
     "name": "stdout",
     "output_type": "stream",
     "text": [
      " Period MAE: 18.43\n",
      "It's underpredicted.\n",
      "Monthly Error: 20.31 Period MAE: 19.39\n"
     ]
    },
    {
     "name": "stderr",
     "output_type": "stream",
     "text": [
      "22:42:42 - cmdstanpy - INFO - Chain [1] start processing\n",
      "22:42:43 - cmdstanpy - INFO - Chain [1] done processing\n",
      "22:42:43 - cmdstanpy - INFO - Chain [1] start processing\n",
      "22:42:43 - cmdstanpy - INFO - Chain [1] done processing\n",
      "22:42:43 - cmdstanpy - INFO - Chain [1] done processing\n"
     ]
    },
    {
     "name": "stdout",
     "output_type": "stream",
     "text": [
      "It's underpredicted.\n",
      "Monthly Error: 18.13 Period MAE: 17.73\n",
      "It's underpredicted.\n",
      "Monthly Error: 23.05 Period MAE: 23.28\n"
     ]
    },
    {
     "name": "stderr",
     "output_type": "stream",
     "text": [
      "22:42:45 - cmdstanpy - INFO - Chain [1] start processing\n",
      "22:42:45 - cmdstanpy - INFO - Chain [1] done processing\n"
     ]
    },
    {
     "name": "stdout",
     "output_type": "stream",
     "text": [
      "It's underpredicted.\n",
      "Monthly Error: 20.53 Period MAE: 19.31\n"
     ]
    },
    {
     "name": "stderr",
     "output_type": "stream",
     "text": [
      "22:42:46 - cmdstanpy - INFO - Chain [1] start processing\n",
      "22:42:46 - cmdstanpy - INFO - Chain [1] start processing\n",
      "22:42:46 - cmdstanpy - INFO - Chain [1] done processing\n",
      "22:42:46 - cmdstanpy - INFO - Chain [1] done processing\n"
     ]
    },
    {
     "name": "stdout",
     "output_type": "stream",
     "text": [
      "It's underpredicted.\n",
      "Monthly Error: 23.45 Period MAE: 23.87\n",
      "It's underpredicted.\n",
      "Monthly Error: 18.35 Period MAE: 17.2\n",
      "It's underpredicted.\n",
      "Monthly Error: 12.75 Period MAE: 0.96\n"
     ]
    },
    {
     "name": "stderr",
     "output_type": "stream",
     "text": [
      "22:42:49 - cmdstanpy - INFO - Chain [1] start processing\n",
      "22:42:49 - cmdstanpy - INFO - Chain [1] start processing\n",
      "22:42:49 - cmdstanpy - INFO - Chain [1] start processing\n",
      "22:42:49 - cmdstanpy - INFO - Chain [1] done processing\n",
      "22:42:50 - cmdstanpy - INFO - Chain [1] done processing\n"
     ]
    },
    {
     "name": "stdout",
     "output_type": "stream",
     "text": [
      "It's underpredicted.\n",
      "Monthly Error: 12.76 Period MAE: 1.1199999999999999\n"
     ]
    },
    {
     "name": "stderr",
     "output_type": "stream",
     "text": [
      "22:42:50 - cmdstanpy - INFO - Chain [1] done processing\n",
      "22:42:51 - cmdstanpy - INFO - Chain [1] start processing\n",
      "22:42:51 - cmdstanpy - INFO - Chain [1] done processing\n"
     ]
    },
    {
     "name": "stdout",
     "output_type": "stream",
     "text": [
      "It's underpredicted.\n",
      "Monthly Error: 22.48 Period MAE: 22.63\n"
     ]
    },
    {
     "name": "stderr",
     "output_type": "stream",
     "text": [
      "22:42:52 - cmdstanpy - INFO - Chain [1] start processing\n"
     ]
    },
    {
     "name": "stdout",
     "output_type": "stream",
     "text": [
      "It's underpredicted.\n",
      "Monthly Error: 23.27 Period MAE: 23.46\n"
     ]
    },
    {
     "name": "stderr",
     "output_type": "stream",
     "text": [
      "22:42:53 - cmdstanpy - INFO - Chain [1] done processing\n"
     ]
    },
    {
     "name": "stdout",
     "output_type": "stream",
     "text": [
      "It's underpredicted.\n",
      "Monthly Error: 12.75 Period MAE: 0.32\n"
     ]
    },
    {
     "name": "stderr",
     "output_type": "stream",
     "text": [
      "22:42:53 - cmdstanpy - INFO - Chain [1] start processing\n",
      "22:42:54 - cmdstanpy - INFO - Chain [1] done processing\n"
     ]
    },
    {
     "name": "stdout",
     "output_type": "stream",
     "text": [
      "It's overpredicted.\n",
      "Monthly Error: 15.5 Period MAE: 3.63\n"
     ]
    },
    {
     "name": "stderr",
     "output_type": "stream",
     "text": [
      "22:42:55 - cmdstanpy - INFO - Chain [1] start processing\n"
     ]
    },
    {
     "name": "stdout",
     "output_type": "stream",
     "text": [
      "It's underpredicted.\n",
      "Monthly Error: 23.46 Period MAE: 23.87\n"
     ]
    },
    {
     "name": "stderr",
     "output_type": "stream",
     "text": [
      "22:42:55 - cmdstanpy - INFO - Chain [1] start processing\n",
      "22:42:55 - cmdstanpy - INFO - Chain [1] done processing\n",
      "22:42:55 - cmdstanpy - INFO - Chain [1] start processing\n",
      "22:42:56 - cmdstanpy - INFO - Chain [1] done processing\n",
      "22:42:56 - cmdstanpy - INFO - Chain [1] done processing\n"
     ]
    },
    {
     "name": "stdout",
     "output_type": "stream",
     "text": [
      "It's underpredicted.\n",
      "Monthly Error: 22.96 Period MAE: 23.13\n",
      "It's underpredicted.\n",
      "Monthly Error: 23.87 Period MAE: "
     ]
    },
    {
     "name": "stderr",
     "output_type": "stream",
     "text": [
      "22:42:58 - cmdstanpy - INFO - Chain [1] start processing\n"
     ]
    },
    {
     "name": "stdout",
     "output_type": "stream",
     "text": [
      "24.43\n",
      "It's overpredicted.\n",
      "Monthly Error: 15.94 Period MAE: 4.43\n"
     ]
    },
    {
     "name": "stderr",
     "output_type": "stream",
     "text": [
      "22:42:58 - cmdstanpy - INFO - Chain [1] done processing\n",
      "22:42:58 - cmdstanpy - INFO - Chain [1] start processing\n",
      "22:42:59 - cmdstanpy - INFO - Chain [1] start processing\n",
      "22:42:59 - cmdstanpy - INFO - Chain [1] done processing\n",
      "22:42:59 - cmdstanpy - INFO - Chain [1] done processing\n"
     ]
    },
    {
     "name": "stdout",
     "output_type": "stream",
     "text": [
      "It's overpredicted.\n",
      "Monthly Error: 15.95 Period MAE: 4.36\n",
      "It's underpredicted.\n",
      "Monthly Error: 22.95"
     ]
    },
    {
     "name": "stderr",
     "output_type": "stream",
     "text": [
      "22:43:01 - cmdstanpy - INFO - Chain [1] start processing\n"
     ]
    },
    {
     "name": "stdout",
     "output_type": "stream",
     "text": [
      "It's overpredicted. Period MAE:\n",
      " Monthly Error: 23.0516.76\n",
      " Period MAE: 5.390000000000001\n"
     ]
    },
    {
     "name": "stderr",
     "output_type": "stream",
     "text": [
      "22:43:01 - cmdstanpy - INFO - Chain [1] start processing\n",
      "22:43:02 - cmdstanpy - INFO - Chain [1] done processing\n",
      "22:43:02 - cmdstanpy - INFO - Chain [1] done processing\n"
     ]
    },
    {
     "name": "stdout",
     "output_type": "stream",
     "text": [
      "It's overpredicted.\n",
      "Monthly Error: 17.45 Period MAE: 6.3100000000000005\n"
     ]
    },
    {
     "name": "stderr",
     "output_type": "stream",
     "text": [
      "22:43:03 - cmdstanpy - INFO - Chain [1] start processing\n",
      "22:43:04 - cmdstanpy - INFO - Chain [1] done processing\n",
      "22:43:04 - cmdstanpy - INFO - Chain [1] start processing\n"
     ]
    },
    {
     "name": "stdout",
     "output_type": "stream",
     "text": [
      "It's underpredicted.\n",
      "Monthly Error: 22.75 Period MAE: 22.71\n"
     ]
    },
    {
     "name": "stderr",
     "output_type": "stream",
     "text": [
      "22:43:05 - cmdstanpy - INFO - Chain [1] done processing\n"
     ]
    },
    {
     "name": "stdout",
     "output_type": "stream",
     "text": [
      "It's underpredicted.\n",
      "Monthly Error: 23.02 Period MAE: "
     ]
    },
    {
     "name": "stderr",
     "output_type": "stream",
     "text": [
      "22:43:06 - cmdstanpy - INFO - Chain [1] start processing\n"
     ]
    },
    {
     "name": "stdout",
     "output_type": "stream",
     "text": [
      "22.88\n"
     ]
    },
    {
     "name": "stderr",
     "output_type": "stream",
     "text": [
      "22:43:06 - cmdstanpy - INFO - Chain [1] done processing\n",
      "22:43:07 - cmdstanpy - INFO - Chain [1] start processing\n",
      "22:43:07 - cmdstanpy - INFO - Chain [1] done processing\n"
     ]
    },
    {
     "name": "stdout",
     "output_type": "stream",
     "text": [
      "It's underpredicted.It's underpredicted.\n",
      "Monthly Error:\n",
      " Monthly Error: 23.7317.34  Period MAE: Period MAE:24.099999999999998 It's overpredicted.17.76\n",
      "\n",
      "\n",
      "Monthly Error: 16.85 Period MAE: 5.5\n"
     ]
    },
    {
     "name": "stderr",
     "output_type": "stream",
     "text": [
      "22:43:09 - cmdstanpy - INFO - Chain [1] start processing\n",
      "22:43:09 - cmdstanpy - INFO - Chain [1] done processing\n",
      "22:43:09 - cmdstanpy - INFO - Chain [1] start processing\n",
      "22:43:09 - cmdstanpy - INFO - Chain [1] start processing\n",
      "22:43:10 - cmdstanpy - INFO - Chain [1] done processing\n",
      "22:43:10 - cmdstanpy - INFO - Chain [1] done processing\n"
     ]
    },
    {
     "name": "stdout",
     "output_type": "stream",
     "text": [
      "It's underpredicted.\n",
      "Monthly Error: 23.13 Period MAE: 23.36\n"
     ]
    },
    {
     "name": "stderr",
     "output_type": "stream",
     "text": [
      "22:43:11 - cmdstanpy - INFO - Chain [1] start processing\n"
     ]
    },
    {
     "name": "stdout",
     "output_type": "stream",
     "text": [
      "It's underpredicted.\n",
      "Monthly Error: 17.32 Period MAE: 17.580000000000002\n"
     ]
    },
    {
     "name": "stderr",
     "output_type": "stream",
     "text": [
      "22:43:11 - cmdstanpy - INFO - Chain [1] done processing\n"
     ]
    },
    {
     "name": "stdout",
     "output_type": "stream",
     "text": [
      "It's underpredicted.\n",
      "Monthly Error: 23.11 Period MAE: 22.96"
     ]
    },
    {
     "name": "stderr",
     "output_type": "stream",
     "text": [
      "22:43:12 - cmdstanpy - INFO - Chain [1] start processing\n"
     ]
    },
    {
     "name": "stdout",
     "output_type": "stream",
     "text": [
      "\n"
     ]
    },
    {
     "name": "stderr",
     "output_type": "stream",
     "text": [
      "22:43:12 - cmdstanpy - INFO - Chain [1] done processing\n",
      "22:43:12 - cmdstanpy - INFO - Chain [1] start processing\n",
      "22:43:13 - cmdstanpy - INFO - Chain [1] done processing\n"
     ]
    },
    {
     "name": "stdout",
     "output_type": "stream",
     "text": [
      "It's underpredicted.\n",
      "Monthly Error: 17.3 Period MAE: 17.71\n",
      "It's underpredicted.\n",
      "Monthly Error: 23.35 Period MAE: 23.64\n",
      "It's underpredicted.\n",
      "Monthly Error:"
     ]
    },
    {
     "name": "stderr",
     "output_type": "stream",
     "text": [
      "22:43:15 - cmdstanpy - INFO - Chain [1] start processing\n"
     ]
    },
    {
     "name": "stdout",
     "output_type": "stream",
     "text": [
      " 13.73 Period MAE: 0.27999999999999997\n"
     ]
    },
    {
     "name": "stderr",
     "output_type": "stream",
     "text": [
      "22:43:15 - cmdstanpy - INFO - Chain [1] start processing\n",
      "22:43:15 - cmdstanpy - INFO - Chain [1] start processing\n",
      "22:43:15 - cmdstanpy - INFO - Chain [1] done processing\n",
      "22:43:15 - cmdstanpy - INFO - Chain [1] done processing\n",
      "22:43:15 - cmdstanpy - INFO - Chain [1] done processing\n"
     ]
    },
    {
     "name": "stdout",
     "output_type": "stream",
     "text": [
      "It's underpredicted.\n",
      "Monthly Error: 13.69 Period MAE: 0.5700000000000001\n"
     ]
    },
    {
     "name": "stderr",
     "output_type": "stream",
     "text": [
      "22:43:17 - cmdstanpy - INFO - Chain [1] start processing\n",
      "22:43:17 - cmdstanpy - INFO - Chain [1] done processing\n"
     ]
    },
    {
     "name": "stdout",
     "output_type": "stream",
     "text": [
      "It's underpredicted.\n",
      "Monthly Error: 22.98 Period MAE: 23.09\n",
      "It's underpredicted.\n",
      "Monthly Error: 23.47 Period MAE: 23.69\n"
     ]
    },
    {
     "name": "stderr",
     "output_type": "stream",
     "text": [
      "22:43:18 - cmdstanpy - INFO - Chain [1] start processing\n",
      "22:43:18 - cmdstanpy - INFO - Chain [1] start processing\n",
      "22:43:18 - cmdstanpy - INFO - Chain [1] done processing\n",
      "22:43:19 - cmdstanpy - INFO - Chain [1] done processing\n"
     ]
    },
    {
     "name": "stdout",
     "output_type": "stream",
     "text": [
      "It's underpredicted.\n",
      "Monthly Error: 15.41It's overpredicted.\n",
      " Period MAE: Monthly Error:10.17 13.7\n",
      " Period MAE: 0.05\n",
      "It's underpredicted.\n",
      "Monthly Error: 23.43 Period MAE: 23.62\n"
     ]
    },
    {
     "name": "stderr",
     "output_type": "stream",
     "text": [
      "22:43:21 - cmdstanpy - INFO - Chain [1] start processing\n",
      "22:43:21 - cmdstanpy - INFO - Chain [1] start processing\n",
      "22:43:22 - cmdstanpy - INFO - Chain [1] done processing\n",
      "22:43:22 - cmdstanpy - INFO - Chain [1] done processing\n",
      "22:43:22 - cmdstanpy - INFO - Chain [1] start processing\n"
     ]
    },
    {
     "name": "stdout",
     "output_type": "stream",
     "text": [
      "It's underpredicted.\n",
      "Monthly Error: 15.24 Period MAE: 9.21\n"
     ]
    },
    {
     "name": "stderr",
     "output_type": "stream",
     "text": [
      "22:43:23 - cmdstanpy - INFO - Chain [1] done processing\n"
     ]
    },
    {
     "name": "stdout",
     "output_type": "stream",
     "text": [
      "It's underpredicted.\n",
      "Monthly Error: 14.4 Period MAE: "
     ]
    },
    {
     "name": "stderr",
     "output_type": "stream",
     "text": [
      "22:43:23 - cmdstanpy - INFO - Chain [1] start processing\n"
     ]
    },
    {
     "name": "stdout",
     "output_type": "stream",
     "text": [
      "5.12\n"
     ]
    },
    {
     "name": "stderr",
     "output_type": "stream",
     "text": [
      "22:43:24 - cmdstanpy - INFO - Chain [1] done processing\n",
      "22:43:24 - cmdstanpy - INFO - Chain [1] start processing\n",
      "22:43:25 - cmdstanpy - INFO - Chain [1] done processing\n"
     ]
    },
    {
     "name": "stdout",
     "output_type": "stream",
     "text": [
      "It's underpredicted.\n",
      "Monthly Error: 22.86 Period MAE: 22.57\n"
     ]
    },
    {
     "name": "stderr",
     "output_type": "stream",
     "text": [
      "22:43:26 - cmdstanpy - INFO - Chain [1] start processing\n",
      "22:43:26 - cmdstanpy - INFO - Chain [1] done processing\n"
     ]
    },
    {
     "name": "stdout",
     "output_type": "stream",
     "text": [
      "It's underpredicted.\n",
      "Monthly Error: 15.14 Period MAE: 8.02\n",
      "It's underpredicted.\n",
      "Monthly Error: 15.26 Period MAE: 9.3\n",
      "It's underpredicted.\n",
      "Monthly Error: 16.76 Period MAE: 18.52\n"
     ]
    },
    {
     "name": "stderr",
     "output_type": "stream",
     "text": [
      "22:43:28 - cmdstanpy - INFO - Chain [1] start processing\n",
      "22:43:28 - cmdstanpy - INFO - Chain [1] start processing\n",
      "22:43:28 - cmdstanpy - INFO - Chain [1] start processing\n",
      "22:43:28 - cmdstanpy - INFO - Chain [1] done processing\n",
      "22:43:28 - cmdstanpy - INFO - Chain [1] done processing\n",
      "22:43:28 - cmdstanpy - INFO - Chain [1] done processing\n"
     ]
    },
    {
     "name": "stdout",
     "output_type": "stream",
     "text": [
      "It's underpredicted.\n",
      "Monthly Error: 16.17 Period MAE: 17.78\n",
      "It's underpredicted.\n",
      "Monthly Error: 14.37 Period MAE: 4.55\n"
     ]
    },
    {
     "name": "stderr",
     "output_type": "stream",
     "text": [
      "22:43:30 - cmdstanpy - INFO - Chain [1] start processing\n",
      "22:43:30 - cmdstanpy - INFO - Chain [1] done processing\n"
     ]
    },
    {
     "name": "stdout",
     "output_type": "stream",
     "text": [
      "It's underpredicted.\n",
      "Monthly Error: 12.97 Period MAE: "
     ]
    },
    {
     "name": "stderr",
     "output_type": "stream",
     "text": [
      "22:43:30 - cmdstanpy - INFO - Chain [1] start processing\n"
     ]
    },
    {
     "name": "stdout",
     "output_type": "stream",
     "text": [
      "7.39\n"
     ]
    },
    {
     "name": "stderr",
     "output_type": "stream",
     "text": [
      "22:43:31 - cmdstanpy - INFO - Chain [1] done processing\n",
      "22:43:32 - cmdstanpy - INFO - Chain [1] start processing\n"
     ]
    },
    {
     "name": "stdout",
     "output_type": "stream",
     "text": [
      "It's underpredicted.\n",
      "Monthly Error:"
     ]
    },
    {
     "name": "stderr",
     "output_type": "stream",
     "text": [
      "22:43:32 - cmdstanpy - INFO - Chain [1] done processing\n"
     ]
    },
    {
     "name": "stdout",
     "output_type": "stream",
     "text": [
      " 15.6 Period MAE: 15.35\n",
      "It's underpredicted.\n",
      "Monthly Error: 14.98 Period MAE: 7.720000000000001\n"
     ]
    },
    {
     "name": "stderr",
     "output_type": "stream",
     "text": [
      "22:43:33 - cmdstanpy - INFO - Chain [1] start processing\n"
     ]
    },
    {
     "name": "stdout",
     "output_type": "stream",
     "text": [
      "It's overpredicted.\n",
      "Monthly Error: 30.32 Period MAE: 23.89\n"
     ]
    },
    {
     "name": "stderr",
     "output_type": "stream",
     "text": [
      "22:43:33 - cmdstanpy - INFO - Chain [1] start processing\n",
      "22:43:33 - cmdstanpy - INFO - Chain [1] start processing\n",
      "22:43:33 - cmdstanpy - INFO - Chain [1] done processing\n",
      "22:43:34 - cmdstanpy - INFO - Chain [1] done processing\n",
      "22:43:34 - cmdstanpy - INFO - Chain [1] done processing\n"
     ]
    },
    {
     "name": "stdout",
     "output_type": "stream",
     "text": [
      "It's underpredicted.\n",
      "Monthly Error: 14.48 Period MAE: 5.48\n",
      "It's underpredicted.\n",
      "Monthly Error: 12.77 Period MAE: 6.76\n",
      "It's overpredicted."
     ]
    },
    {
     "name": "stderr",
     "output_type": "stream",
     "text": [
      "22:43:36 - cmdstanpy - INFO - Chain [1] start processing\n"
     ]
    },
    {
     "name": "stdout",
     "output_type": "stream",
     "text": [
      "\n",
      "Monthly Error: 30.18 Period MAE: 24.349999999999998"
     ]
    },
    {
     "name": "stderr",
     "output_type": "stream",
     "text": [
      "22:43:36 - cmdstanpy - INFO - Chain [1] done processing\n"
     ]
    },
    {
     "name": "stdout",
     "output_type": "stream",
     "text": [
      "\n"
     ]
    },
    {
     "name": "stderr",
     "output_type": "stream",
     "text": [
      "22:43:37 - cmdstanpy - INFO - Chain [1] start processing\n",
      "22:43:37 - cmdstanpy - INFO - Chain [1] start processing\n",
      "22:43:37 - cmdstanpy - INFO - Chain [1] done processing\n",
      "22:43:37 - cmdstanpy - INFO - Chain [1] done processing\n"
     ]
    },
    {
     "name": "stdout",
     "output_type": "stream",
     "text": [
      "It's overpredicted.\n",
      "Monthly Error: 28.84 Period MAE: 23.09\n",
      "It's underpredicted.\n",
      "Monthly Error: 15.31 Period MAE: 8.459999999999999\n"
     ]
    },
    {
     "name": "stderr",
     "output_type": "stream",
     "text": [
      "22:43:40 - cmdstanpy - INFO - Chain [1] start processing\n"
     ]
    },
    {
     "name": "stdout",
     "output_type": "stream",
     "text": [
      "It's overpredicted.\n",
      "Monthly Error: 12.21 Period MAE: 2.26\n"
     ]
    },
    {
     "name": "stderr",
     "output_type": "stream",
     "text": [
      "22:43:40 - cmdstanpy - INFO - Chain [1] done processing\n",
      "22:43:40 - cmdstanpy - INFO - Chain [1] start processing\n",
      "22:43:40 - cmdstanpy - INFO - Chain [1] start processing\n",
      "22:43:41 - cmdstanpy - INFO - Chain [1] done processing\n",
      "22:43:41 - cmdstanpy - INFO - Chain [1] done processing\n"
     ]
    },
    {
     "name": "stdout",
     "output_type": "stream",
     "text": [
      "It's overpredicted.\n",
      "Monthly Error: 12.09 Period MAE: 2.71\n"
     ]
    },
    {
     "name": "stderr",
     "output_type": "stream",
     "text": [
      "22:43:41 - cmdstanpy - INFO - Chain [1] start processing\n",
      "22:43:42 - cmdstanpy - INFO - Chain [1] done processing\n"
     ]
    },
    {
     "name": "stdout",
     "output_type": "stream",
     "text": [
      "It's underpredicted.\n",
      "Monthly Error: 14.54 Period MAE: 7.28\n",
      "It's underpredicted.\n",
      "Monthly Error: 13.15 Period MAE: 7.71\n"
     ]
    },
    {
     "name": "stderr",
     "output_type": "stream",
     "text": [
      "22:43:43 - cmdstanpy - INFO - Chain [1] start processing\n",
      "22:43:43 - cmdstanpy - INFO - Chain [1] done processing\n",
      "22:43:44 - cmdstanpy - INFO - Chain [1] start processing\n",
      "22:43:44 - cmdstanpy - INFO - Chain [1] done processing\n"
     ]
    },
    {
     "name": "stdout",
     "output_type": "stream",
     "text": [
      "It's underpredicted.\n",
      "Monthly Error: 14.8 Period MAE: 7.290000000000001It's overpredicted.\n",
      "\n",
      "It's underpredicted.Monthly Error:\n",
      "Monthly Error: 11.53 22.09  Period MAE:Period MAE: 1.78 \n",
      "22.97\n"
     ]
    },
    {
     "name": "stderr",
     "output_type": "stream",
     "text": [
      "22:43:46 - cmdstanpy - INFO - Chain [1] start processing\n",
      "22:43:46 - cmdstanpy - INFO - Chain [1] done processing\n",
      "22:43:46 - cmdstanpy - INFO - Chain [1] start processing\n",
      "22:43:46 - cmdstanpy - INFO - Chain [1] start processing\n",
      "22:43:46 - cmdstanpy - INFO - Chain [1] done processing\n",
      "22:43:47 - cmdstanpy - INFO - Chain [1] done processing\n"
     ]
    },
    {
     "name": "stdout",
     "output_type": "stream",
     "text": [
      "It's underpredicted.\n",
      "Monthly Error: 20.72 Period MAE: 21.48\n",
      "It's underpredicted.\n",
      "Monthly Error: 14.41 Period MAE: 6.419999999999999\n"
     ]
    },
    {
     "name": "stderr",
     "output_type": "stream",
     "text": [
      "22:43:48 - cmdstanpy - INFO - Chain [1] start processing\n",
      "22:43:48 - cmdstanpy - INFO - Chain [1] done processing\n",
      "22:43:48 - cmdstanpy - INFO - Chain [1] start processing\n",
      "22:43:49 - cmdstanpy - INFO - Chain [1] done processing\n"
     ]
    },
    {
     "name": "stdout",
     "output_type": "stream",
     "text": [
      "It's underpredicted.\n",
      "Monthly Error: 13.07 Period MAE: 7.85\n"
     ]
    },
    {
     "name": "stderr",
     "output_type": "stream",
     "text": [
      "22:43:50 - cmdstanpy - INFO - Chain [1] start processing\n",
      "22:43:50 - cmdstanpy - INFO - Chain [1] done processing\n"
     ]
    },
    {
     "name": "stdout",
     "output_type": "stream",
     "text": [
      "It's underpredicted.\n",
      "Monthly Error: 15.22 It's underpredicted.\n",
      "Period MAE:Monthly Error:  8.4120.55\n",
      " Period MAE: 20.01\n",
      "It's overpredicted.\n",
      "Monthly Error: 28.93 Period MAE: 20.669999999999998\n"
     ]
    },
    {
     "name": "stderr",
     "output_type": "stream",
     "text": [
      "22:43:52 - cmdstanpy - INFO - Chain [1] start processing\n",
      "22:43:52 - cmdstanpy - INFO - Chain [1] start processing\n",
      "22:43:52 - cmdstanpy - INFO - Chain [1] start processing\n",
      "22:43:52 - cmdstanpy - INFO - Chain [1] done processing\n",
      "22:43:52 - cmdstanpy - INFO - Chain [1] done processing\n",
      "22:43:53 - cmdstanpy - INFO - Chain [1] done processing\n"
     ]
    },
    {
     "name": "stdout",
     "output_type": "stream",
     "text": [
      "It's underpredicted.\n",
      "Monthly Error: 14.52 Period MAE: 6.950000000000001\n",
      "It's overpredicted.\n",
      "Monthly Error: 30.51 Period MAE: 24.03\n"
     ]
    },
    {
     "name": "stderr",
     "output_type": "stream",
     "text": [
      "22:43:54 - cmdstanpy - INFO - Chain [1] start processing\n",
      "22:43:54 - cmdstanpy - INFO - Chain [1] done processing\n",
      "22:43:55 - cmdstanpy - INFO - Chain [1] start processing\n",
      "22:43:55 - cmdstanpy - INFO - Chain [1] done processing\n"
     ]
    },
    {
     "name": "stdout",
     "output_type": "stream",
     "text": [
      "It's underpredicted.\n",
      "Monthly Error: 12.87 Period MAE:It's overpredicted.\n",
      " Monthly Error:7.109999999999999 27.3\n",
      " Period MAE: 20.03\n"
     ]
    },
    {
     "name": "stderr",
     "output_type": "stream",
     "text": [
      "22:43:57 - cmdstanpy - INFO - Chain [1] start processing\n"
     ]
    },
    {
     "name": "stdout",
     "output_type": "stream",
     "text": [
      "It's underpredicted.\n",
      "Monthly Error: 14.89 Period MAE: 7.35\n"
     ]
    },
    {
     "name": "stderr",
     "output_type": "stream",
     "text": [
      "22:43:57 - cmdstanpy - INFO - Chain [1] done processing\n",
      "22:43:57 - cmdstanpy - INFO - Chain [1] start processing\n"
     ]
    },
    {
     "name": "stdout",
     "output_type": "stream",
     "text": [
      "It's underpredicted.\n",
      "Monthly Error: 17.41 "
     ]
    },
    {
     "name": "stderr",
     "output_type": "stream",
     "text": [
      "22:43:57 - cmdstanpy - INFO - Chain [1] done processing\n"
     ]
    },
    {
     "name": "stdout",
     "output_type": "stream",
     "text": [
      "Period MAE: 5.19\n"
     ]
    },
    {
     "name": "stderr",
     "output_type": "stream",
     "text": [
      "22:43:58 - cmdstanpy - INFO - Chain [1] start processing\n",
      "22:43:58 - cmdstanpy - INFO - Chain [1] done processing\n",
      "22:43:58 - cmdstanpy - INFO - Chain [1] start processing\n",
      "22:43:59 - cmdstanpy - INFO - Chain [1] done processing\n"
     ]
    },
    {
     "name": "stdout",
     "output_type": "stream",
     "text": [
      "It's underpredicted.\n",
      "Monthly Error: 17.39 Period MAE: 12.959999999999999It's underpredicted.\n",
      "\n",
      "Monthly Error: 13.32 Period MAE: 8.25\n"
     ]
    },
    {
     "name": "stderr",
     "output_type": "stream",
     "text": [
      "22:44:00 - cmdstanpy - INFO - Chain [1] start processing\n",
      "22:44:00 - cmdstanpy - INFO - Chain [1] done processing\n",
      "22:44:00 - cmdstanpy - INFO - Chain [1] start processing\n"
     ]
    },
    {
     "name": "stdout",
     "output_type": "stream",
     "text": [
      "It's underpredicted.\n",
      "Monthly Error: 16.78"
     ]
    },
    {
     "name": "stderr",
     "output_type": "stream",
     "text": [
      "22:44:00 - cmdstanpy - INFO - Chain [1] done processing\n"
     ]
    },
    {
     "name": "stdout",
     "output_type": "stream",
     "text": [
      " Period MAE: 6.52\n"
     ]
    },
    {
     "name": "stderr",
     "output_type": "stream",
     "text": [
      "22:44:01 - cmdstanpy - INFO - Chain [1] start processing\n",
      "22:44:02 - cmdstanpy - INFO - Chain [1] done processing\n"
     ]
    },
    {
     "name": "stdout",
     "output_type": "stream",
     "text": [
      "It's underpredicted.\n",
      "Monthly Error: 19.09 Period MAE: 15.879999999999999\n",
      "It's overpredicted.\n",
      "Monthly Error: 19.9 Period MAE: 10.86\n"
     ]
    },
    {
     "name": "stderr",
     "output_type": "stream",
     "text": [
      "22:44:04 - cmdstanpy - INFO - Chain [1] start processing\n"
     ]
    },
    {
     "name": "stdout",
     "output_type": "stream",
     "text": [
      "It's underpredicted.\n",
      "Monthly Error: 18.02 Period MAE: 5.52\n",
      "It's overpredicted.\n",
      "Monthly Error: 19.81 Period MAE: "
     ]
    },
    {
     "name": "stderr",
     "output_type": "stream",
     "text": [
      "22:44:05 - cmdstanpy - INFO - Chain [1] start processing\n"
     ]
    },
    {
     "name": "stdout",
     "output_type": "stream",
     "text": [
      "10.8\n"
     ]
    },
    {
     "name": "stderr",
     "output_type": "stream",
     "text": [
      "22:44:05 - cmdstanpy - INFO - Chain [1] done processing\n",
      "22:44:05 - cmdstanpy - INFO - Chain [1] start processing\n",
      "22:44:05 - cmdstanpy - INFO - Chain [1] start processing\n",
      "22:44:05 - cmdstanpy - INFO - Chain [1] done processing\n",
      "22:44:05 - cmdstanpy - INFO - Chain [1] done processing\n",
      "22:44:05 - cmdstanpy - INFO - Chain [1] done processing\n"
     ]
    },
    {
     "name": "stdout",
     "output_type": "stream",
     "text": [
      "It's underpredicted.\n",
      "Monthly Error: 15.93 Period MAE: 7.7299999999999995\n",
      "It's underpredicted.\n",
      "Monthly Error: 19.01 Period MAE: 16.02\n"
     ]
    },
    {
     "name": "stderr",
     "output_type": "stream",
     "text": [
      "22:44:07 - cmdstanpy - INFO - Chain [1] start processing\n",
      "22:44:08 - cmdstanpy - INFO - Chain [1] done processing\n",
      "22:44:08 - cmdstanpy - INFO - Chain [1] start processing\n",
      "22:44:08 - cmdstanpy - INFO - Chain [1] done processing\n"
     ]
    },
    {
     "name": "stdout",
     "output_type": "stream",
     "text": [
      "It's overpredicted.\n",
      "Monthly Error: 24.71 Period MAE: 16.21\n",
      "It's overpredicted.\n",
      "Monthly Error: 19.9 Period MAE: 10.85\n",
      "It's underpredicted."
     ]
    },
    {
     "name": "stderr",
     "output_type": "stream",
     "text": [
      "22:44:10 - cmdstanpy - INFO - Chain [1] start processing\n"
     ]
    },
    {
     "name": "stdout",
     "output_type": "stream",
     "text": [
      "\n",
      "Monthly Error: 17.86 Period MAE: 12.049999999999999\n"
     ]
    },
    {
     "name": "stderr",
     "output_type": "stream",
     "text": [
      "22:44:10 - cmdstanpy - INFO - Chain [1] start processing\n",
      "22:44:11 - cmdstanpy - INFO - Chain [1] done processing\n",
      "22:44:11 - cmdstanpy - INFO - Chain [1] done processing\n",
      "22:44:11 - cmdstanpy - INFO - Chain [1] start processing\n",
      "22:44:11 - cmdstanpy - INFO - Chain [1] done processing\n"
     ]
    },
    {
     "name": "stdout",
     "output_type": "stream",
     "text": [
      "It's overpredicted.\n",
      "Monthly Error: 24.84 Period MAE: 16.439999999999998\n"
     ]
    },
    {
     "name": "stderr",
     "output_type": "stream",
     "text": [
      "22:44:12 - cmdstanpy - INFO - Chain [1] start processing\n",
      "22:44:12 - cmdstanpy - INFO - Chain [1] done processing\n"
     ]
    },
    {
     "name": "stdout",
     "output_type": "stream",
     "text": [
      "It's underpredicted.\n",
      "Monthly Error: 19.87 Period MAE: 18.4\n",
      "It's underpredicted.\n",
      "Monthly Error: 17.51 Period MAE: 13.61\n"
     ]
    },
    {
     "name": "stderr",
     "output_type": "stream",
     "text": [
      "22:44:13 - cmdstanpy - INFO - Chain [1] start processing\n",
      "22:44:14 - cmdstanpy - INFO - Chain [1] start processing\n",
      "22:44:14 - cmdstanpy - INFO - Chain [1] done processing\n",
      "22:44:15 - cmdstanpy - INFO - Chain [1] done processing\n"
     ]
    },
    {
     "name": "stdout",
     "output_type": "stream",
     "text": [
      "It's overpredicted.\n",
      "Monthly Error: 32.95 Period MAE: 25.590000000000003\n",
      "It's overpredicted.\n",
      "Monthly Error: 25.27 Period MAE: 17.01\n",
      "It's underpredicted."
     ]
    },
    {
     "name": "stderr",
     "output_type": "stream",
     "text": [
      "22:44:17 - cmdstanpy - INFO - Chain [1] start processing\n"
     ]
    },
    {
     "name": "stdout",
     "output_type": "stream",
     "text": [
      "\n",
      "Monthly Error: 21.42 Period MAE: 20.66\n"
     ]
    },
    {
     "name": "stderr",
     "output_type": "stream",
     "text": [
      "22:44:18 - cmdstanpy - INFO - Chain [1] start processing\n",
      "22:44:18 - cmdstanpy - INFO - Chain [1] done processing\n",
      "22:44:18 - cmdstanpy - INFO - Chain [1] start processing\n"
     ]
    },
    {
     "name": "stdout",
     "output_type": "stream",
     "text": [
      "It's overpredicted.\n",
      "Monthly Error: 33.08 Period MAE: 25.81\n"
     ]
    },
    {
     "name": "stderr",
     "output_type": "stream",
     "text": [
      "22:44:19 - cmdstanpy - INFO - Chain [1] start processing\n"
     ]
    },
    {
     "name": "stdout",
     "output_type": "stream",
     "text": [
      "It's underpredicted.\n"
     ]
    },
    {
     "name": "stderr",
     "output_type": "stream",
     "text": [
      "22:44:19 - cmdstanpy - INFO - Chain [1] done processing\n"
     ]
    },
    {
     "name": "stdout",
     "output_type": "stream",
     "text": [
      "Monthly Error:"
     ]
    },
    {
     "name": "stderr",
     "output_type": "stream",
     "text": [
      "22:44:19 - cmdstanpy - INFO - Chain [1] done processing\n"
     ]
    },
    {
     "name": "stdout",
     "output_type": "stream",
     "text": [
      " 17.12 Period MAE: 12.18\n"
     ]
    },
    {
     "name": "stderr",
     "output_type": "stream",
     "text": [
      "22:44:19 - cmdstanpy - INFO - Chain [1] done processing\n",
      "22:44:20 - cmdstanpy - INFO - Chain [1] start processing\n",
      "22:44:20 - cmdstanpy - INFO - Chain [1] done processing\n"
     ]
    },
    {
     "name": "stdout",
     "output_type": "stream",
     "text": [
      "It's underpredicted.\n",
      "Monthly Error: 23.26 It's underpredicted.Period MAE:\n",
      " Monthly Error:21.95 \n",
      "15.34 Period MAE: 8.81\n",
      "It's underpredicted.\n",
      "Monthly Error: 19.56 Period MAE: 16.830000000000002\n"
     ]
    },
    {
     "name": "stderr",
     "output_type": "stream",
     "text": [
      "22:44:22 - cmdstanpy - INFO - Chain [1] start processing\n",
      "22:44:23 - cmdstanpy - INFO - Chain [1] done processing\n",
      "22:44:23 - cmdstanpy - INFO - Chain [1] start processing\n"
     ]
    },
    {
     "name": "stdout",
     "output_type": "stream",
     "text": [
      "It's overpredicted.\n",
      "Monthly Error: 37.62"
     ]
    },
    {
     "name": "stderr",
     "output_type": "stream",
     "text": [
      "22:44:23 - cmdstanpy - INFO - Chain [1] start processing\n"
     ]
    },
    {
     "name": "stdout",
     "output_type": "stream",
     "text": [
      " Period MAE: 31.65\n"
     ]
    },
    {
     "name": "stderr",
     "output_type": "stream",
     "text": [
      "22:44:24 - cmdstanpy - INFO - Chain [1] done processing\n",
      "22:44:24 - cmdstanpy - INFO - Chain [1] done processing\n",
      "22:44:24 - cmdstanpy - INFO - Chain [1] start processing\n",
      "22:44:24 - cmdstanpy - INFO - Chain [1] done processing\n"
     ]
    },
    {
     "name": "stdout",
     "output_type": "stream",
     "text": [
      "It's underpredicted.It's underpredicted.\n",
      "\n",
      "Monthly Error:Monthly Error: 18.0  17.76Period MAE:It's underpredicted. Period MAE:  \n",
      "14.530000000000001Monthly Error:\n",
      "13.05 \n",
      "15.21 Period MAE: 8.36\n"
     ]
    },
    {
     "name": "stderr",
     "output_type": "stream",
     "text": [
      "22:44:26 - cmdstanpy - INFO - Chain [1] start processing\n",
      "22:44:27 - cmdstanpy - INFO - Chain [1] done processing\n",
      "22:44:27 - cmdstanpy - INFO - Chain [1] start processing\n",
      "22:44:27 - cmdstanpy - INFO - Chain [1] start processing\n",
      "22:44:27 - cmdstanpy - INFO - Chain [1] done processing\n",
      "22:44:27 - cmdstanpy - INFO - Chain [1] done processing\n"
     ]
    },
    {
     "name": "stdout",
     "output_type": "stream",
     "text": [
      "It's underpredicted.\n",
      "Monthly Error: 15.19 Period MAE: 8.309999999999999\n",
      "It's overpredicted.\n",
      "Monthly Error: 24.65 Period MAE: 14.719999999999999\n",
      "It's underpredicted.\n",
      "Monthly Error: "
     ]
    },
    {
     "name": "stderr",
     "output_type": "stream",
     "text": [
      "22:44:30 - cmdstanpy - INFO - Chain [1] start processing\n"
     ]
    },
    {
     "name": "stdout",
     "output_type": "stream",
     "text": [
      "17.98 Period MAE: 12.26\n"
     ]
    },
    {
     "name": "stderr",
     "output_type": "stream",
     "text": [
      "22:44:30 - cmdstanpy - INFO - Chain [1] start processing\n",
      "22:44:30 - cmdstanpy - INFO - Chain [1] start processing\n",
      "22:44:31 - cmdstanpy - INFO - Chain [1] done processing\n",
      "22:44:31 - cmdstanpy - INFO - Chain [1] done processing\n",
      "22:44:31 - cmdstanpy - INFO - Chain [1] done processing\n"
     ]
    },
    {
     "name": "stdout",
     "output_type": "stream",
     "text": [
      "It's overpredicted.\n",
      "Monthly Error: 24.61 Period MAE: 14.64\n"
     ]
    },
    {
     "name": "stderr",
     "output_type": "stream",
     "text": [
      "22:44:32 - cmdstanpy - INFO - Chain [1] start processing\n",
      "22:44:32 - cmdstanpy - INFO - Chain [1] done processing\n"
     ]
    },
    {
     "name": "stdout",
     "output_type": "stream",
     "text": [
      "It's underpredicted.\n",
      "Monthly Error: 20.55 Period MAE: 19.34\n",
      "It's underpredicted.\n",
      "Monthly Error: 17.47 Period MAE: 13.469999999999999\n"
     ]
    },
    {
     "name": "stderr",
     "output_type": "stream",
     "text": [
      "22:44:33 - cmdstanpy - INFO - Chain [1] start processing\n",
      "22:44:34 - cmdstanpy - INFO - Chain [1] start processing\n",
      "22:44:34 - cmdstanpy - INFO - Chain [1] done processing\n",
      "22:44:34 - cmdstanpy - INFO - Chain [1] done processing\n"
     ]
    },
    {
     "name": "stdout",
     "output_type": "stream",
     "text": [
      "It's overpredicted.\n",
      "Monthly Error: 25.63 Period MAE: 14.82\n",
      "It's overpredicted.\n",
      "Monthly Error: 24.78 Period MAE: 14.85\n",
      "It's underpredicted.\n",
      "Monthly Error: 22.56 Period MAE: 21.9\n"
     ]
    },
    {
     "name": "stderr",
     "output_type": "stream",
     "text": [
      "22:44:36 - cmdstanpy - INFO - Chain [1] start processing\n",
      "22:44:37 - cmdstanpy - INFO - Chain [1] done processing\n",
      "22:44:37 - cmdstanpy - INFO - Chain [1] start processing\n",
      "22:44:37 - cmdstanpy - INFO - Chain [1] start processing\n"
     ]
    },
    {
     "name": "stdout",
     "output_type": "stream",
     "text": [
      "It's overpredicted.\n"
     ]
    },
    {
     "name": "stderr",
     "output_type": "stream",
     "text": [
      "22:44:37 - cmdstanpy - INFO - Chain [1] done processing\n"
     ]
    },
    {
     "name": "stdout",
     "output_type": "stream",
     "text": [
      "Monthly Error: 25.59 Period MAE: 14.84\n"
     ]
    },
    {
     "name": "stderr",
     "output_type": "stream",
     "text": [
      "22:44:38 - cmdstanpy - INFO - Chain [1] start processing\n",
      "22:44:38 - cmdstanpy - INFO - Chain [1] done processing\n"
     ]
    },
    {
     "name": "stdout",
     "output_type": "stream",
     "text": [
      "It's underpredicted.\n",
      "Monthly Error: 14.16 Period MAE: 3.17\n"
     ]
    },
    {
     "name": "stderr",
     "output_type": "stream",
     "text": [
      "22:44:38 - cmdstanpy - INFO - Chain [1] done processing\n",
      "22:44:39 - cmdstanpy - INFO - Chain [1] start processing\n",
      "22:44:39 - cmdstanpy - INFO - Chain [1] done processing\n"
     ]
    },
    {
     "name": "stdout",
     "output_type": "stream",
     "text": [
      "It's underpredicted.\n",
      "Monthly Error: 21.87 Period MAE: 20.080000000000002\n"
     ]
    },
    {
     "name": "stderr",
     "output_type": "stream",
     "text": [
      "22:44:41 - cmdstanpy - INFO - Chain [1] start processing\n"
     ]
    },
    {
     "name": "stdout",
     "output_type": "stream",
     "text": [
      "It's underpredicted.It's underpredicted.\n",
      "Monthly Error:\n",
      "Monthly Error: 16.76  Period MAE:15.28 18.52\n",
      " It's overpredicted.\n",
      "Period MAE:Monthly Error: 8.57\n",
      " 26.25 Period MAE: "
     ]
    },
    {
     "name": "stderr",
     "output_type": "stream",
     "text": [
      "22:44:41 - cmdstanpy - INFO - Chain [1] done processing\n"
     ]
    },
    {
     "name": "stdout",
     "output_type": "stream",
     "text": [
      "15.590000000000002\n"
     ]
    },
    {
     "name": "stderr",
     "output_type": "stream",
     "text": [
      "22:44:42 - cmdstanpy - INFO - Chain [1] start processing\n",
      "22:44:42 - cmdstanpy - INFO - Chain [1] done processing\n",
      "22:44:43 - cmdstanpy - INFO - Chain [1] start processing\n",
      "22:44:43 - cmdstanpy - INFO - Chain [1] start processing\n",
      "22:44:43 - cmdstanpy - INFO - Chain [1] done processing\n",
      "22:44:43 - cmdstanpy - INFO - Chain [1] done processing\n"
     ]
    },
    {
     "name": "stdout",
     "output_type": "stream",
     "text": [
      "It's underpredicted.\n",
      "Monthly Error: 14.12 Period MAE: 2.67\n"
     ]
    },
    {
     "name": "stderr",
     "output_type": "stream",
     "text": [
      "22:44:44 - cmdstanpy - INFO - Chain [1] start processing\n",
      "22:44:44 - cmdstanpy - INFO - Chain [1] done processing\n"
     ]
    },
    {
     "name": "stdout",
     "output_type": "stream",
     "text": [
      "It's underpredicted.\n",
      "Monthly Error: 16.16 Period MAE: 17.78\n",
      "It's underpredicted.\n",
      "Monthly Error: 13.08 Period MAE: 7.89\n"
     ]
    },
    {
     "name": "stderr",
     "output_type": "stream",
     "text": [
      "22:44:45 - cmdstanpy - INFO - Chain [1] start processing\n",
      "22:44:46 - cmdstanpy - INFO - Chain [1] done processing\n",
      "22:44:46 - cmdstanpy - INFO - Chain [1] start processing\n",
      "22:44:46 - cmdstanpy - INFO - Chain [1] done processing\n"
     ]
    },
    {
     "name": "stdout",
     "output_type": "stream",
     "text": [
      "It's underpredicted.\n",
      "Monthly Error: 15.59 Period MAE: 15.340000000000002\n",
      "It's overpredicted.\n",
      "Monthly Error: 30.3 Period MAE:It's underpredicted.\n",
      " Monthly Error:23.87 14.71\n",
      " Period MAE: 6.959999999999999\n"
     ]
    },
    {
     "name": "stderr",
     "output_type": "stream",
     "text": [
      "22:44:48 - cmdstanpy - INFO - Chain [1] start processing\n",
      "22:44:48 - cmdstanpy - INFO - Chain [1] done processing\n",
      "22:44:48 - cmdstanpy - INFO - Chain [1] start processing\n",
      "22:44:49 - cmdstanpy - INFO - Chain [1] start processing\n",
      "22:44:49 - cmdstanpy - INFO - Chain [1] done processing\n",
      "22:44:49 - cmdstanpy - INFO - Chain [1] done processing\n"
     ]
    },
    {
     "name": "stdout",
     "output_type": "stream",
     "text": [
      "It's underpredicted.\n",
      "Monthly Error: 14.53 Period MAE: 6.329999999999999\n",
      "It's overpredicted.\n",
      "Monthly Error: 30.07 Period MAE: 24.13\n"
     ]
    },
    {
     "name": "stderr",
     "output_type": "stream",
     "text": [
      "22:44:50 - cmdstanpy - INFO - Chain [1] start processing\n",
      "22:44:50 - cmdstanpy - INFO - Chain [1] done processing\n",
      "22:44:51 - cmdstanpy - INFO - Chain [1] start processing\n"
     ]
    },
    {
     "name": "stdout",
     "output_type": "stream",
     "text": [
      "It's underpredicted.\n"
     ]
    },
    {
     "name": "stderr",
     "output_type": "stream",
     "text": [
      "22:44:51 - cmdstanpy - INFO - Chain [1] done processing\n"
     ]
    },
    {
     "name": "stdout",
     "output_type": "stream",
     "text": [
      "Monthly Error: 13.55 Period MAE: 9.24\n"
     ]
    },
    {
     "name": "stderr",
     "output_type": "stream",
     "text": [
      "22:44:52 - cmdstanpy - INFO - Chain [1] start processing\n",
      "22:44:52 - cmdstanpy - INFO - Chain [1] done processing\n"
     ]
    },
    {
     "name": "stdout",
     "output_type": "stream",
     "text": [
      "It's underpredicted.\n",
      "Monthly Error: 15.17 Period MAE: 8.07\n",
      "It's overpredicted.\n",
      "Monthly Error: 12.62 Period MAE: 2.77\n",
      "It's overpredicted.\n",
      "Monthly Error: 28.98 Period MAE: 23.34\n"
     ]
    },
    {
     "name": "stderr",
     "output_type": "stream",
     "text": [
      "22:44:54 - cmdstanpy - INFO - Chain [1] start processing\n",
      "22:44:54 - cmdstanpy - INFO - Chain [1] start processing\n",
      "22:44:54 - cmdstanpy - INFO - Chain [1] start processing\n",
      "22:44:55 - cmdstanpy - INFO - Chain [1] done processing\n",
      "22:44:55 - cmdstanpy - INFO - Chain [1] done processing\n",
      "22:44:55 - cmdstanpy - INFO - Chain [1] done processing\n"
     ]
    },
    {
     "name": "stdout",
     "output_type": "stream",
     "text": [
      "It's underpredicted.\n",
      "Monthly Error: 14.23 Period MAE: 4.09\n"
     ]
    },
    {
     "name": "stderr",
     "output_type": "stream",
     "text": [
      "22:44:56 - cmdstanpy - INFO - Chain [1] start processing\n"
     ]
    },
    {
     "name": "stdout",
     "output_type": "stream",
     "text": [
      "It's overpredicted.\n",
      "Monthly Error:"
     ]
    },
    {
     "name": "stderr",
     "output_type": "stream",
     "text": [
      "22:44:57 - cmdstanpy - INFO - Chain [1] done processing\n"
     ]
    },
    {
     "name": "stdout",
     "output_type": "stream",
     "text": [
      " 12.57 Period MAE: 3.36\n"
     ]
    },
    {
     "name": "stderr",
     "output_type": "stream",
     "text": [
      "22:44:57 - cmdstanpy - INFO - Chain [1] start processing\n"
     ]
    },
    {
     "name": "stdout",
     "output_type": "stream",
     "text": [
      "It's underpredicted.\n",
      "Monthly Error: 13.09 Period MAE: 7.22\n"
     ]
    },
    {
     "name": "stderr",
     "output_type": "stream",
     "text": [
      "22:44:58 - cmdstanpy - INFO - Chain [1] done processing\n",
      "22:44:58 - cmdstanpy - INFO - Chain [1] start processing\n",
      "22:44:58 - cmdstanpy - INFO - Chain [1] done processing\n"
     ]
    },
    {
     "name": "stdout",
     "output_type": "stream",
     "text": [
      "It's underpredicted.\n",
      "Monthly Error: 15.72 Period MAE: 9.67\n",
      "It's overpredicted.\n",
      "Monthly Error: 11.46 Period MAE: 1.7399999999999998\n",
      "It's underpredicted.\n",
      "Monthly Error: 22.11 Period MAE: 22.98\n"
     ]
    },
    {
     "name": "stderr",
     "output_type": "stream",
     "text": [
      "22:45:00 - cmdstanpy - INFO - Chain [1] start processing\n",
      "22:45:00 - cmdstanpy - INFO - Chain [1] start processing\n",
      "22:45:00 - cmdstanpy - INFO - Chain [1] done processing\n",
      "22:45:01 - cmdstanpy - INFO - Chain [1] start processing\n",
      "22:45:01 - cmdstanpy - INFO - Chain [1] done processing\n",
      "22:45:01 - cmdstanpy - INFO - Chain [1] done processing\n"
     ]
    },
    {
     "name": "stdout",
     "output_type": "stream",
     "text": [
      "It's underpredicted.\n",
      "Monthly Error: 20.74 It's underpredicted.Period MAE:\n",
      "Monthly Error: 14.67  Period MAE: 21.51\n",
      "7.670000000000001\n"
     ]
    },
    {
     "name": "stderr",
     "output_type": "stream",
     "text": [
      "22:45:03 - cmdstanpy - INFO - Chain [1] start processing\n",
      "22:45:03 - cmdstanpy - INFO - Chain [1] done processing\n"
     ]
    },
    {
     "name": "stdout",
     "output_type": "stream",
     "text": [
      "It's underpredicted.\n",
      "Monthly Error: 12.96 Period MAE: 7.28\n"
     ]
    },
    {
     "name": "stderr",
     "output_type": "stream",
     "text": [
      "22:45:04 - cmdstanpy - INFO - Chain [1] start processing\n",
      "22:45:04 - cmdstanpy - INFO - Chain [1] start processing\n",
      "22:45:04 - cmdstanpy - INFO - Chain [1] done processing\n"
     ]
    },
    {
     "name": "stdout",
     "output_type": "stream",
     "text": [
      "It's underpredicted.\n",
      "Monthly Error: 20.54 Period MAE: 20.01\n"
     ]
    },
    {
     "name": "stderr",
     "output_type": "stream",
     "text": [
      "22:45:05 - cmdstanpy - INFO - Chain [1] done processing\n",
      "22:45:06 - cmdstanpy - INFO - Chain [1] start processing\n",
      "22:45:06 - cmdstanpy - INFO - Chain [1] done processing\n"
     ]
    },
    {
     "name": "stdout",
     "output_type": "stream",
     "text": [
      "It's underpredicted.\n",
      "Monthly Error: 15.4 Period MAE: 8.72\n",
      "It's overpredicted.\n",
      "Monthly Error: 29.07 Period MAE: 20.849999999999998\n"
     ]
    },
    {
     "name": "stderr",
     "output_type": "stream",
     "text": [
      "22:45:07 - cmdstanpy - INFO - Chain [1] start processing\n",
      "22:45:08 - cmdstanpy - INFO - Chain [1] done processing\n",
      "22:45:08 - cmdstanpy - INFO - Chain [1] start processing\n"
     ]
    },
    {
     "name": "stdout",
     "output_type": "stream",
     "text": [
      "It's overpredicted.\n",
      "Monthly Error: 29.21 Period MAE: 21.22\n",
      "It's underpredicted.\n"
     ]
    },
    {
     "name": "stderr",
     "output_type": "stream",
     "text": [
      "22:45:09 - cmdstanpy - INFO - Chain [1] start processing\n"
     ]
    },
    {
     "name": "stdout",
     "output_type": "stream",
     "text": [
      "Monthly Error:"
     ]
    },
    {
     "name": "stderr",
     "output_type": "stream",
     "text": [
      "22:45:09 - cmdstanpy - INFO - Chain [1] done processing\n"
     ]
    },
    {
     "name": "stdout",
     "output_type": "stream",
     "text": [
      " 13.07 Period MAE: "
     ]
    },
    {
     "name": "stderr",
     "output_type": "stream",
     "text": [
      "22:45:09 - cmdstanpy - INFO - Chain [1] done processing\n"
     ]
    },
    {
     "name": "stdout",
     "output_type": "stream",
     "text": [
      "7.57\n",
      "It's underpredicted.\n",
      "Monthly Error: 14.47 Period MAE: 6.58\n"
     ]
    },
    {
     "name": "stderr",
     "output_type": "stream",
     "text": [
      "22:45:09 - cmdstanpy - INFO - Chain [1] start processing\n",
      "22:45:10 - cmdstanpy - INFO - Chain [1] done processing\n",
      "22:45:10 - cmdstanpy - INFO - Chain [1] start processing\n",
      "22:45:10 - cmdstanpy - INFO - Chain [1] done processing\n"
     ]
    },
    {
     "name": "stdout",
     "output_type": "stream",
     "text": [
      "It's underpredicted.\n",
      "Monthly Error: 14.92 It's underpredicted.\n",
      "Period MAE: Monthly Error: 7.35\n",
      "17.42 Period MAE: 5.59\n",
      "It's overpredicted.\n",
      "Monthly Error: "
     ]
    },
    {
     "name": "stderr",
     "output_type": "stream",
     "text": [
      "22:45:13 - cmdstanpy - INFO - Chain [1] start processing\n"
     ]
    },
    {
     "name": "stdout",
     "output_type": "stream",
     "text": [
      "27.34 Period MAE: 21.16\n"
     ]
    },
    {
     "name": "stderr",
     "output_type": "stream",
     "text": [
      "22:45:13 - cmdstanpy - INFO - Chain [1] start processing\n",
      "22:45:13 - cmdstanpy - INFO - Chain [1] start processing\n",
      "22:45:13 - cmdstanpy - INFO - Chain [1] done processing\n",
      "22:45:13 - cmdstanpy - INFO - Chain [1] done processing\n",
      "22:45:13 - cmdstanpy - INFO - Chain [1] done processing\n"
     ]
    },
    {
     "name": "stdout",
     "output_type": "stream",
     "text": [
      "It's underpredicted.\n",
      "Monthly Error: 16.81 Period MAE: 6.63\n"
     ]
    },
    {
     "name": "stderr",
     "output_type": "stream",
     "text": [
      "22:45:14 - cmdstanpy - INFO - Chain [1] start processing\n"
     ]
    },
    {
     "name": "stdout",
     "output_type": "stream",
     "text": [
      "It's underpredicted.\n",
      "Monthly Error: 17.25 Period MAE: 12.65\n"
     ]
    },
    {
     "name": "stderr",
     "output_type": "stream",
     "text": [
      "22:45:15 - cmdstanpy - INFO - Chain [1] done processing\n"
     ]
    },
    {
     "name": "stdout",
     "output_type": "stream",
     "text": [
      "It's underpredicted.\n",
      "Monthly Error: 12.99 Period MAE: 7.3\n"
     ]
    },
    {
     "name": "stderr",
     "output_type": "stream",
     "text": [
      "22:45:16 - cmdstanpy - INFO - Chain [1] start processing\n",
      "22:45:16 - cmdstanpy - INFO - Chain [1] done processing\n",
      "22:45:16 - cmdstanpy - INFO - Chain [1] start processing\n",
      "22:45:17 - cmdstanpy - INFO - Chain [1] done processing\n"
     ]
    },
    {
     "name": "stdout",
     "output_type": "stream",
     "text": [
      "It's underpredicted.\n",
      "It's underpredicted.\n",
      "Monthly Error:Monthly Error:  17.9919.0  Period MAE: Period MAE: 7.46\n",
      "15.73It's overpredicted.\n",
      "\n",
      "Monthly Error:Period MAE: 20.41 11.59 \n"
     ]
    },
    {
     "name": "stderr",
     "output_type": "stream",
     "text": [
      "22:45:19 - cmdstanpy - INFO - Chain [1] start processing\n",
      "22:45:19 - cmdstanpy - INFO - Chain [1] done processing\n",
      "22:45:20 - cmdstanpy - INFO - Chain [1] start processing\n"
     ]
    },
    {
     "name": "stdout",
     "output_type": "stream",
     "text": [
      "It's overpredicted.\n"
     ]
    },
    {
     "name": "stderr",
     "output_type": "stream",
     "text": [
      "22:45:20 - cmdstanpy - INFO - Chain [1] start processing\n"
     ]
    },
    {
     "name": "stdout",
     "output_type": "stream",
     "text": [
      "Monthly Error: 20.37 Period MAE: 11.59\n"
     ]
    },
    {
     "name": "stderr",
     "output_type": "stream",
     "text": [
      "22:45:20 - cmdstanpy - INFO - Chain [1] done processing\n",
      "22:45:20 - cmdstanpy - INFO - Chain [1] start processing\n",
      "22:45:20 - cmdstanpy - INFO - Chain [1] done processing\n",
      "22:45:20 - cmdstanpy - INFO - Chain [1] done processing\n"
     ]
    },
    {
     "name": "stdout",
     "output_type": "stream",
     "text": [
      "It's underpredicted.\n",
      "Monthly Error: 15.97 Period MAE: 7.62\n"
     ]
    },
    {
     "name": "stderr",
     "output_type": "stream",
     "text": [
      "22:45:21 - cmdstanpy - INFO - Chain [1] start processing\n",
      "22:45:22 - cmdstanpy - INFO - Chain [1] done processing\n"
     ]
    },
    {
     "name": "stdout",
     "output_type": "stream",
     "text": [
      "It's underpredicted.\n",
      "Monthly Error: 19.45 Period MAE: 17.07\n"
     ]
    },
    {
     "name": "stderr",
     "output_type": "stream",
     "text": [
      "22:45:23 - cmdstanpy - INFO - Chain [1] start processing\n",
      "22:45:23 - cmdstanpy - INFO - Chain [1] done processing\n"
     ]
    },
    {
     "name": "stdout",
     "output_type": "stream",
     "text": [
      "It's underpredicted.\n",
      "Monthly Error: 18.24 Period MAE: 13.020000000000001\n",
      "It's overpredicted.\n",
      "Monthly Error: 24.4 Period MAE: 15.809999999999999\n",
      "It's overpredicted.\n",
      "Monthly Error: 20.73 Period MAE: 12.15\n"
     ]
    },
    {
     "name": "stderr",
     "output_type": "stream",
     "text": [
      "22:45:25 - cmdstanpy - INFO - Chain [1] start processing\n",
      "22:45:25 - cmdstanpy - INFO - Chain [1] start processing\n",
      "22:45:25 - cmdstanpy - INFO - Chain [1] start processing\n",
      "22:45:25 - cmdstanpy - INFO - Chain [1] done processing\n",
      "22:45:26 - cmdstanpy - INFO - Chain [1] done processing\n",
      "22:45:26 - cmdstanpy - INFO - Chain [1] done processing\n"
     ]
    },
    {
     "name": "stdout",
     "output_type": "stream",
     "text": [
      "It's underpredicted.\n",
      "Monthly Error:It's overpredicted. \n",
      "20.4 Monthly Error:Period MAE:  19.22000000000000224.25\n",
      " Period MAE: 15.690000000000001\n"
     ]
    },
    {
     "name": "stderr",
     "output_type": "stream",
     "text": [
      "22:45:28 - cmdstanpy - INFO - Chain [1] start processing\n",
      "22:45:28 - cmdstanpy - INFO - Chain [1] done processing\n",
      "22:45:28 - cmdstanpy - INFO - Chain [1] start processing\n"
     ]
    },
    {
     "name": "stdout",
     "output_type": "stream",
     "text": [
      "It's underpredicted.\n",
      "Monthly Error: 16.21 Period MAE: 11.799999999999999\n"
     ]
    },
    {
     "name": "stderr",
     "output_type": "stream",
     "text": [
      "22:45:28 - cmdstanpy - INFO - Chain [1] done processing\n",
      "22:45:29 - cmdstanpy - INFO - Chain [1] start processing\n",
      "22:45:29 - cmdstanpy - INFO - Chain [1] done processing\n"
     ]
    },
    {
     "name": "stdout",
     "output_type": "stream",
     "text": [
      "It's underpredicted.\n",
      "Monthly Error: 19.99 Period MAE: 17.98\n",
      "It's overpredicted.\n",
      "Monthly Error: 24.46 Period MAE: 16.34\n",
      "It's overpredicted.\n",
      "Monthly Error: 33.42 Period MAE: 26.279999999999998\n"
     ]
    },
    {
     "name": "stderr",
     "output_type": "stream",
     "text": [
      "22:45:32 - cmdstanpy - INFO - Chain [1] start processing\n",
      "22:45:32 - cmdstanpy - INFO - Chain [1] start processing\n",
      "22:45:32 - cmdstanpy - INFO - Chain [1] start processing\n",
      "22:45:32 - cmdstanpy - INFO - Chain [1] done processing\n",
      "22:45:33 - cmdstanpy - INFO - Chain [1] done processing\n"
     ]
    },
    {
     "name": "stdout",
     "output_type": "stream",
     "text": [
      "It's underpredicted.\n"
     ]
    },
    {
     "name": "stderr",
     "output_type": "stream",
     "text": [
      "22:45:33 - cmdstanpy - INFO - Chain [1] done processing\n"
     ]
    },
    {
     "name": "stdout",
     "output_type": "stream",
     "text": [
      "Monthly Error: 16.91 Period MAE: 11.700000000000001\n"
     ]
    },
    {
     "name": "stderr",
     "output_type": "stream",
     "text": [
      "22:45:33 - cmdstanpy - INFO - Chain [1] start processing\n",
      "22:45:34 - cmdstanpy - INFO - Chain [1] done processing\n"
     ]
    },
    {
     "name": "stdout",
     "output_type": "stream",
     "text": [
      "It's overpredicted.\n",
      "Monthly Error: 33.78 Period MAE: 26.810000000000002\n"
     ]
    },
    {
     "name": "stderr",
     "output_type": "stream",
     "text": [
      "22:45:35 - cmdstanpy - INFO - Chain [1] start processing\n"
     ]
    },
    {
     "name": "stdout",
     "output_type": "stream",
     "text": [
      "It's underpredicted.\n",
      "Monthly Error: 19.89 Period MAE: 17.23\n"
     ]
    },
    {
     "name": "stderr",
     "output_type": "stream",
     "text": [
      "22:45:36 - cmdstanpy - INFO - Chain [1] done processing\n",
      "22:45:36 - cmdstanpy - INFO - Chain [1] start processing\n"
     ]
    },
    {
     "name": "stdout",
     "output_type": "stream",
     "text": [
      "It's overpredicted.\n"
     ]
    },
    {
     "name": "stderr",
     "output_type": "stream",
     "text": [
      "22:45:36 - cmdstanpy - INFO - Chain [1] done processing\n"
     ]
    },
    {
     "name": "stdout",
     "output_type": "stream",
     "text": [
      "Monthly Error: 36.13 Period MAE: 29.82\n",
      "It's underpredicted.\n",
      "Monthly Error: 15.33 Period MAE: 8.780000000000001\n",
      "It's underpredicted.\n",
      "Monthly Error: 18.54 Period MAE: 14.469999999999999"
     ]
    },
    {
     "name": "stderr",
     "output_type": "stream",
     "text": [
      "22:45:38 - cmdstanpy - INFO - Chain [1] start processing\n"
     ]
    },
    {
     "name": "stdout",
     "output_type": "stream",
     "text": [
      "\n"
     ]
    },
    {
     "name": "stderr",
     "output_type": "stream",
     "text": [
      "22:45:38 - cmdstanpy - INFO - Chain [1] start processing\n",
      "22:45:38 - cmdstanpy - INFO - Chain [1] start processing\n",
      "22:45:38 - cmdstanpy - INFO - Chain [1] done processing\n",
      "22:45:38 - cmdstanpy - INFO - Chain [1] done processing\n",
      "22:45:39 - cmdstanpy - INFO - Chain [1] done processing\n"
     ]
    },
    {
     "name": "stdout",
     "output_type": "stream",
     "text": [
      "It's underpredicted.\n",
      "Monthly Error: 15.21 Period MAE: 8.36\n",
      "It's underpredicted.\n",
      "Monthly Error: 15.68 Period MAE: 7.24\n",
      "It's underpredicted.\n"
     ]
    },
    {
     "name": "stderr",
     "output_type": "stream",
     "text": [
      "22:45:40 - cmdstanpy - INFO - Chain [1] start processing\n"
     ]
    },
    {
     "name": "stdout",
     "output_type": "stream",
     "text": [
      "Monthly Error: 20.04 Period MAE:"
     ]
    },
    {
     "name": "stderr",
     "output_type": "stream",
     "text": [
      "22:45:40 - cmdstanpy - INFO - Chain [1] done processing\n"
     ]
    },
    {
     "name": "stdout",
     "output_type": "stream",
     "text": [
      " 17.49\n"
     ]
    },
    {
     "name": "stderr",
     "output_type": "stream",
     "text": [
      "22:45:41 - cmdstanpy - INFO - Chain [1] start processing\n",
      "22:45:41 - cmdstanpy - INFO - Chain [1] done processing\n",
      "22:45:41 - cmdstanpy - INFO - Chain [1] start processing\n",
      "22:45:42 - cmdstanpy - INFO - Chain [1] done processing\n"
     ]
    },
    {
     "name": "stdout",
     "output_type": "stream",
     "text": [
      "It's underpredicted.\n",
      "Monthly Error: 15.2 Period MAE: 8.36\n",
      "It's underpredicted.\n",
      "Monthly Error: 16.93 Period MAE: 9.47\n"
     ]
    },
    {
     "name": "stderr",
     "output_type": "stream",
     "text": [
      "22:45:44 - cmdstanpy - INFO - Chain [1] start processing\n"
     ]
    },
    {
     "name": "stdout",
     "output_type": "stream",
     "text": [
      "It's overpredicted.\n",
      "Monthly Error: 24.64 Period MAE: 14.67\n"
     ]
    },
    {
     "name": "stderr",
     "output_type": "stream",
     "text": [
      "22:45:44 - cmdstanpy - INFO - Chain [1] start processing\n",
      "22:45:44 - cmdstanpy - INFO - Chain [1] done processing\n",
      "22:45:44 - cmdstanpy - INFO - Chain [1] start processing\n",
      "22:45:45 - cmdstanpy - INFO - Chain [1] done processing\n",
      "22:45:45 - cmdstanpy - INFO - Chain [1] done processing\n"
     ]
    },
    {
     "name": "stdout",
     "output_type": "stream",
     "text": [
      "It's overpredicted.\n",
      "Monthly Error: 24.61 Period MAE: 14.680000000000001\n"
     ]
    },
    {
     "name": "stderr",
     "output_type": "stream",
     "text": [
      "22:45:46 - cmdstanpy - INFO - Chain [1] start processing\n",
      "22:45:46 - cmdstanpy - INFO - Chain [1] done processing\n"
     ]
    },
    {
     "name": "stdout",
     "output_type": "stream",
     "text": [
      "It's underpredicted.\n",
      "Monthly Error: 21.9 Period MAE: 21.4\n",
      "It's underpredicted.\n",
      "Monthly Error: 17.9 Period MAE: 14.48\n"
     ]
    },
    {
     "name": "stderr",
     "output_type": "stream",
     "text": [
      "22:45:47 - cmdstanpy - INFO - Chain [1] start processing\n",
      "22:45:48 - cmdstanpy - INFO - Chain [1] start processing\n",
      "22:45:48 - cmdstanpy - INFO - Chain [1] done processing\n",
      "22:45:48 - cmdstanpy - INFO - Chain [1] done processing\n"
     ]
    },
    {
     "name": "stdout",
     "output_type": "stream",
     "text": [
      "It's overpredicted.\n",
      "Monthly Error: 24.68 Period MAE: 14.719999999999999\n",
      "It's overpredicted.\n",
      "Monthly Error: 25.04 Period MAE: 14.11\n"
     ]
    },
    {
     "name": "stderr",
     "output_type": "stream",
     "text": [
      "22:45:50 - cmdstanpy - INFO - Chain [1] start processing\n"
     ]
    },
    {
     "name": "stdout",
     "output_type": "stream",
     "text": [
      "It's underpredicted.\n",
      "Monthly Error: 21.61 Period MAE: 20.45\n"
     ]
    },
    {
     "name": "stderr",
     "output_type": "stream",
     "text": [
      "22:45:51 - cmdstanpy - INFO - Chain [1] start processing\n",
      "22:45:51 - cmdstanpy - INFO - Chain [1] done processing\n",
      "22:45:51 - cmdstanpy - INFO - Chain [1] start processing\n",
      "22:45:51 - cmdstanpy - INFO - Chain [1] done processing\n",
      "22:45:52 - cmdstanpy - INFO - Chain [1] done processing\n"
     ]
    },
    {
     "name": "stdout",
     "output_type": "stream",
     "text": [
      "It's overpredicted.\n",
      "Monthly Error: 25.25 Period MAE: 14.44\n"
     ]
    },
    {
     "name": "stderr",
     "output_type": "stream",
     "text": [
      "22:45:52 - cmdstanpy - INFO - Chain [1] start processing\n"
     ]
    },
    {
     "name": "stdout",
     "output_type": "stream",
     "text": [
      "It's underpredicted.\n",
      "Monthly Error: 14.14 Period MAE: 2.97\n"
     ]
    },
    {
     "name": "stderr",
     "output_type": "stream",
     "text": [
      "22:45:53 - cmdstanpy - INFO - Chain [1] done processing\n",
      "22:45:53 - cmdstanpy - INFO - Chain [1] start processing\n"
     ]
    },
    {
     "name": "stdout",
     "output_type": "stream",
     "text": [
      "It's underpredicted.\n",
      "Monthly Error: 20.33 Period MAE: 17.83\n"
     ]
    },
    {
     "name": "stderr",
     "output_type": "stream",
     "text": [
      "22:45:54 - cmdstanpy - INFO - Chain [1] done processing\n",
      "22:45:54 - cmdstanpy - INFO - Chain [1] start processing\n",
      "22:45:54 - cmdstanpy - INFO - Chain [1] done processing\n"
     ]
    },
    {
     "name": "stdout",
     "output_type": "stream",
     "text": [
      "It's underpredicted.\n",
      "Monthly Error: 14.79 Period MAE: 7.68\n",
      "It's underpredicted.\n",
      "Monthly Error: 16.75 Period MAE: 18.509999999999998\n",
      "It's overpredicted.\n",
      "Monthly Error: 25.29 Period MAE: 14.45\n"
     ]
    },
    {
     "name": "stderr",
     "output_type": "stream",
     "text": [
      "22:45:56 - cmdstanpy - INFO - Chain [1] start processing\n",
      "22:45:57 - cmdstanpy - INFO - Chain [1] start processing\n",
      "22:45:57 - cmdstanpy - INFO - Chain [1] done processing\n",
      "22:45:57 - cmdstanpy - INFO - Chain [1] start processing\n",
      "22:45:57 - cmdstanpy - INFO - Chain [1] done processing\n",
      "22:45:57 - cmdstanpy - INFO - Chain [1] done processing\n"
     ]
    },
    {
     "name": "stdout",
     "output_type": "stream",
     "text": [
      "It's underpredicted.\n",
      "Monthly Error: 16.6 Period MAE: 18.33\n"
     ]
    },
    {
     "name": "stderr",
     "output_type": "stream",
     "text": [
      "22:45:58 - cmdstanpy - INFO - Chain [1] start processing\n"
     ]
    },
    {
     "name": "stdout",
     "output_type": "stream",
     "text": [
      "It's underpredicted.\n",
      "Monthly Error:"
     ]
    },
    {
     "name": "stderr",
     "output_type": "stream",
     "text": [
      "22:45:59 - cmdstanpy - INFO - Chain [1] done processing\n"
     ]
    },
    {
     "name": "stdout",
     "output_type": "stream",
     "text": [
      " 14.55 Period MAE: 6.7299999999999995\n",
      "It's underpredicted.\n",
      "Monthly Error: 12.56 Period MAE: 5.680000000000001\n"
     ]
    },
    {
     "name": "stderr",
     "output_type": "stream",
     "text": [
      "22:45:59 - cmdstanpy - INFO - Chain [1] start processing\n",
      "22:46:00 - cmdstanpy - INFO - Chain [1] done processing\n",
      "22:46:00 - cmdstanpy - INFO - Chain [1] start processing\n",
      "22:46:00 - cmdstanpy - INFO - Chain [1] done processing\n"
     ]
    },
    {
     "name": "stdout",
     "output_type": "stream",
     "text": [
      "It's underpredicted.\n",
      "Monthly Error: 14.73 Period MAE: 7.61\n",
      "It's underpredicted.\n",
      "Monthly Error: 15.45 Period MAE: 17.14\n",
      "It's overpredicted.\n",
      "Monthly Error: 29.66 Period MAE: 23.06\n"
     ]
    },
    {
     "name": "stderr",
     "output_type": "stream",
     "text": [
      "22:46:03 - cmdstanpy - INFO - Chain [1] start processing\n",
      "22:46:04 - cmdstanpy - INFO - Chain [1] start processing\n",
      "22:46:04 - cmdstanpy - INFO - Chain [1] done processing\n",
      "22:46:04 - cmdstanpy - INFO - Chain [1] start processing\n"
     ]
    },
    {
     "name": "stdout",
     "output_type": "stream",
     "text": [
      "It's overpredicted.\n",
      "Monthly Error: 29.31 Period MAE: 23.01\n"
     ]
    },
    {
     "name": "stderr",
     "output_type": "stream",
     "text": [
      "22:46:04 - cmdstanpy - INFO - Chain [1] done processing\n",
      "22:46:04 - cmdstanpy - INFO - Chain [1] start processing\n",
      "22:46:05 - cmdstanpy - INFO - Chain [1] done processing\n",
      "22:46:05 - cmdstanpy - INFO - Chain [1] done processing\n"
     ]
    },
    {
     "name": "stdout",
     "output_type": "stream",
     "text": [
      "It's underpredicted.\n",
      "Monthly Error: 14.41 Period MAE: 4.84\n"
     ]
    },
    {
     "name": "stderr",
     "output_type": "stream",
     "text": [
      "22:46:06 - cmdstanpy - INFO - Chain [1] start processing\n",
      "22:46:07 - cmdstanpy - INFO - Chain [1] done processing\n"
     ]
    },
    {
     "name": "stdout",
     "output_type": "stream",
     "text": [
      "It's underpredicted.\n",
      "Monthly Error: 12.82 Period MAE: 6.569999999999999\n",
      "It's overpredicted.\n",
      "Monthly Error: 28.74 Period MAE: 22.52\n"
     ]
    },
    {
     "name": "stderr",
     "output_type": "stream",
     "text": [
      "22:46:08 - cmdstanpy - INFO - Chain [1] start processing\n"
     ]
    },
    {
     "name": "stdout",
     "output_type": "stream",
     "text": [
      "It's underpredicted.\n",
      "Monthly Error: 10.67"
     ]
    },
    {
     "name": "stderr",
     "output_type": "stream",
     "text": [
      "22:46:09 - cmdstanpy - INFO - Chain [1] done processing\n"
     ]
    },
    {
     "name": "stdout",
     "output_type": "stream",
     "text": [
      " Period MAE:It's underpredicted.\n",
      " Monthly Error:11.32 \n",
      "14.92 Period MAE: 8.12\n"
     ]
    },
    {
     "name": "stderr",
     "output_type": "stream",
     "text": [
      "22:46:09 - cmdstanpy - INFO - Chain [1] start processing\n",
      "22:46:09 - cmdstanpy - INFO - Chain [1] start processing\n",
      "22:46:09 - cmdstanpy - INFO - Chain [1] done processing\n",
      "22:46:10 - cmdstanpy - INFO - Chain [1] done processing\n",
      "22:46:10 - cmdstanpy - INFO - Chain [1] start processing\n",
      "22:46:10 - cmdstanpy - INFO - Chain [1] done processing\n"
     ]
    },
    {
     "name": "stdout",
     "output_type": "stream",
     "text": [
      "It's underpredicted.\n",
      "Monthly Error: 14.28 Period MAE: 4.569999999999999\n"
     ]
    },
    {
     "name": "stderr",
     "output_type": "stream",
     "text": [
      "22:46:11 - cmdstanpy - INFO - Chain [1] start processing\n",
      "22:46:11 - cmdstanpy - INFO - Chain [1] done processing\n"
     ]
    },
    {
     "name": "stdout",
     "output_type": "stream",
     "text": [
      "It's underpredicted.\n",
      "Monthly Error: 12.86 Period MAE:It's underpredicted.\n",
      " Monthly Error:6.99\n",
      " 10.07 Period MAE: 10.4\n"
     ]
    },
    {
     "name": "stderr",
     "output_type": "stream",
     "text": [
      "22:46:13 - cmdstanpy - INFO - Chain [1] start processing\n",
      "22:46:13 - cmdstanpy - INFO - Chain [1] start processing\n",
      "22:46:14 - cmdstanpy - INFO - Chain [1] done processing\n",
      "22:46:14 - cmdstanpy - INFO - Chain [1] done processing\n"
     ]
    },
    {
     "name": "stdout",
     "output_type": "stream",
     "text": [
      "It's underpredicted.\n",
      "Monthly Error: 10.24 Period MAE: 9.86\n",
      "It's underpredicted.\n",
      "Monthly Error: 22.34 Period MAE: 22.73\n",
      "It's underpredicted.\n",
      "Monthly Error: 15.0 Period MAE: 8.27\n"
     ]
    },
    {
     "name": "stderr",
     "output_type": "stream",
     "text": [
      "22:46:16 - cmdstanpy - INFO - Chain [1] start processing\n",
      "22:46:16 - cmdstanpy - INFO - Chain [1] start processing\n",
      "22:46:16 - cmdstanpy - INFO - Chain [1] start processing\n",
      "22:46:16 - cmdstanpy - INFO - Chain [1] done processing\n",
      "22:46:16 - cmdstanpy - INFO - Chain [1] done processing\n",
      "22:46:17 - cmdstanpy - INFO - Chain [1] done processing\n"
     ]
    },
    {
     "name": "stdout",
     "output_type": "stream",
     "text": [
      "It's underpredicted.\n",
      "Monthly Error: 21.51 Period MAE: 21.92\n",
      "It's underpredicted.\n",
      "Monthly Error:"
     ]
    },
    {
     "name": "stderr",
     "output_type": "stream",
     "text": [
      "22:46:18 - cmdstanpy - INFO - Chain [1] start processing\n"
     ]
    },
    {
     "name": "stdout",
     "output_type": "stream",
     "text": [
      " 14.34 Period MAE: 4.73\n"
     ]
    },
    {
     "name": "stderr",
     "output_type": "stream",
     "text": [
      "22:46:18 - cmdstanpy - INFO - Chain [1] done processing\n"
     ]
    },
    {
     "name": "stdout",
     "output_type": "stream",
     "text": [
      "It's underpredicted.\n",
      "Monthly Error: 12.7 Period MAE: 6.29\n"
     ]
    },
    {
     "name": "stderr",
     "output_type": "stream",
     "text": [
      "22:46:19 - cmdstanpy - INFO - Chain [1] start processing\n",
      "22:46:19 - cmdstanpy - INFO - Chain [1] done processing\n",
      "22:46:19 - cmdstanpy - INFO - Chain [1] start processing\n",
      "22:46:20 - cmdstanpy - INFO - Chain [1] done processing\n"
     ]
    },
    {
     "name": "stdout",
     "output_type": "stream",
     "text": [
      "It's underpredicted.\n",
      "Monthly Error: 21.35 Period MAE: 21.66\n",
      "It's underpredicted.\n",
      "Monthly Error: 15.47It's overpredicted.\n",
      " Monthly Error: Period MAE: 9.379999999999999\n",
      "27.85 Period MAE: 19.3\n"
     ]
    },
    {
     "name": "stderr",
     "output_type": "stream",
     "text": [
      "22:46:22 - cmdstanpy - INFO - Chain [1] start processing\n",
      "22:46:22 - cmdstanpy - INFO - Chain [1] start processing\n",
      "22:46:22 - cmdstanpy - INFO - Chain [1] done processing\n",
      "22:46:22 - cmdstanpy - INFO - Chain [1] start processing\n",
      "22:46:22 - cmdstanpy - INFO - Chain [1] done processing\n",
      "22:46:23 - cmdstanpy - INFO - Chain [1] done processing\n"
     ]
    },
    {
     "name": "stdout",
     "output_type": "stream",
     "text": [
      "It's overpredicted.\n",
      "Monthly Error: It's underpredicted.27.91 \n",
      "Period MAE:Monthly Error: 19.5\n",
      " 14.37 Period MAE: 5.76\n"
     ]
    },
    {
     "name": "stderr",
     "output_type": "stream",
     "text": [
      "22:46:23 - cmdstanpy - INFO - Chain [1] start processing\n",
      "22:46:24 - cmdstanpy - INFO - Chain [1] done processing\n",
      "22:46:24 - cmdstanpy - INFO - Chain [1] start processing\n",
      "22:46:24 - cmdstanpy - INFO - Chain [1] done processing\n"
     ]
    },
    {
     "name": "stdout",
     "output_type": "stream",
     "text": [
      "It's underpredicted.\n",
      "Monthly Error: 12.99 Period MAE: 7.39\n"
     ]
    },
    {
     "name": "stderr",
     "output_type": "stream",
     "text": [
      "22:46:25 - cmdstanpy - INFO - Chain [1] start processing\n",
      "22:46:26 - cmdstanpy - INFO - Chain [1] done processing\n"
     ]
    },
    {
     "name": "stdout",
     "output_type": "stream",
     "text": [
      "It's underpredicted.\n",
      "Monthly Error: 14.89 Period MAE: 7.920000000000001\n",
      "It's overpredicted.\n",
      "Monthly Error: 26.93 Period MAE: 18.82\n",
      "It's underpredicted.\n",
      "Monthly Error: 18.46 Period MAE: 17.419999999999998\n"
     ]
    },
    {
     "name": "stderr",
     "output_type": "stream",
     "text": [
      "22:46:27 - cmdstanpy - INFO - Chain [1] start processing\n",
      "22:46:27 - cmdstanpy - INFO - Chain [1] start processing\n",
      "22:46:27 - cmdstanpy - INFO - Chain [1] start processing\n",
      "22:46:28 - cmdstanpy - INFO - Chain [1] done processing\n",
      "22:46:28 - cmdstanpy - INFO - Chain [1] done processing\n",
      "22:46:28 - cmdstanpy - INFO - Chain [1] done processing\n"
     ]
    },
    {
     "name": "stdout",
     "output_type": "stream",
     "text": [
      "It's underpredicted.\n",
      "Monthly Error: 17.96 Period MAE: 16.77\n",
      "It's underpredicted.\n",
      "Monthly Error: 17.9 Period MAE: 14.23\n"
     ]
    },
    {
     "name": "stderr",
     "output_type": "stream",
     "text": [
      "22:46:29 - cmdstanpy - INFO - Chain [1] start processing\n"
     ]
    },
    {
     "name": "stdout",
     "output_type": "stream",
     "text": [
      "It's underpredicted."
     ]
    },
    {
     "name": "stderr",
     "output_type": "stream",
     "text": [
      "22:46:29 - cmdstanpy - INFO - Chain [1] done processing\n"
     ]
    },
    {
     "name": "stdout",
     "output_type": "stream",
     "text": [
      "\n",
      "Monthly Error: 12.85 Period MAE: 7.76\n"
     ]
    },
    {
     "name": "stderr",
     "output_type": "stream",
     "text": [
      "22:46:29 - cmdstanpy - INFO - Chain [1] start processing\n",
      "22:46:30 - cmdstanpy - INFO - Chain [1] start processing\n",
      "22:46:30 - cmdstanpy - INFO - Chain [1] done processing\n",
      "22:46:30 - cmdstanpy - INFO - Chain [1] done processing\n"
     ]
    },
    {
     "name": "stdout",
     "output_type": "stream",
     "text": [
      "It's underpredicted.\n",
      "Monthly Error: 18.49It's underpredicted. Period MAE:\n",
      "Monthly Error: 15.5 18.35\n",
      " Period MAE:It's overpredicted. \n",
      "Monthly Error:17.25 20.34\n",
      " Period MAE: 11.41\n"
     ]
    },
    {
     "name": "stderr",
     "output_type": "stream",
     "text": [
      "22:46:33 - cmdstanpy - INFO - Chain [1] start processing\n",
      "22:46:33 - cmdstanpy - INFO - Chain [1] done processing\n",
      "22:46:34 - cmdstanpy - INFO - Chain [1] start processing\n",
      "22:46:34 - cmdstanpy - INFO - Chain [1] start processing\n"
     ]
    },
    {
     "name": "stdout",
     "output_type": "stream",
     "text": [
      "It's overpredicted.\n",
      "Monthly Error: 20.4 Period MAE: 11.58\n"
     ]
    },
    {
     "name": "stderr",
     "output_type": "stream",
     "text": [
      "22:46:34 - cmdstanpy - INFO - Chain [1] done processing\n",
      "22:46:34 - cmdstanpy - INFO - Chain [1] start processing\n",
      "22:46:34 - cmdstanpy - INFO - Chain [1] done processing\n",
      "22:46:35 - cmdstanpy - INFO - Chain [1] done processing\n"
     ]
    },
    {
     "name": "stdout",
     "output_type": "stream",
     "text": [
      "It's underpredicted.\n",
      "Monthly Error: 17.94 Period MAE: 13.83\n"
     ]
    },
    {
     "name": "stderr",
     "output_type": "stream",
     "text": [
      "22:46:36 - cmdstanpy - INFO - Chain [1] start processing\n",
      "22:46:36 - cmdstanpy - INFO - Chain [1] done processing\n"
     ]
    },
    {
     "name": "stdout",
     "output_type": "stream",
     "text": [
      "It's underpredicted.\n",
      "Monthly Error: 17.09 Period MAE: 12.64\n"
     ]
    },
    {
     "name": "stderr",
     "output_type": "stream",
     "text": [
      "22:46:38 - cmdstanpy - INFO - Chain [1] start processing\n",
      "22:46:38 - cmdstanpy - INFO - Chain [1] done processing\n"
     ]
    },
    {
     "name": "stdout",
     "output_type": "stream",
     "text": [
      "It's underpredicted.\n",
      "Monthly Error: 17.76 Period MAE: 13.139999999999999It's overpredicted.\n",
      "\n",
      "Monthly Error:It's overpredicted.\n",
      " Monthly Error:20.14  24.46 Period MAE:Period MAE: 15.83 \n",
      "11.18\n"
     ]
    },
    {
     "name": "stderr",
     "output_type": "stream",
     "text": [
      "22:46:39 - cmdstanpy - INFO - Chain [1] start processing\n",
      "22:46:39 - cmdstanpy - INFO - Chain [1] done processing\n",
      "22:46:39 - cmdstanpy - INFO - Chain [1] start processing\n",
      "22:46:39 - cmdstanpy - INFO - Chain [1] start processing\n",
      "22:46:40 - cmdstanpy - INFO - Chain [1] done processing\n"
     ]
    },
    {
     "name": "stdout",
     "output_type": "stream",
     "text": [
      "It's underpredicted.\n",
      "Monthly Error: 18.1 Period MAE: 14.87\n"
     ]
    },
    {
     "name": "stderr",
     "output_type": "stream",
     "text": [
      "22:46:40 - cmdstanpy - INFO - Chain [1] done processing\n",
      "22:46:41 - cmdstanpy - INFO - Chain [1] start processing\n",
      "22:46:41 - cmdstanpy - INFO - Chain [1] done processing\n"
     ]
    },
    {
     "name": "stdout",
     "output_type": "stream",
     "text": [
      "It's overpredicted.\n",
      "Monthly Error: 24.38 Period MAE: 15.78\n"
     ]
    },
    {
     "name": "stderr",
     "output_type": "stream",
     "text": [
      "22:46:42 - cmdstanpy - INFO - Chain [1] start processing\n",
      "22:46:42 - cmdstanpy - INFO - Chain [1] done processing\n"
     ]
    },
    {
     "name": "stdout",
     "output_type": "stream",
     "text": [
      "It's underpredicted.\n",
      "Monthly Error: 16.99 Period MAE: 11.53\n"
     ]
    },
    {
     "name": "stderr",
     "output_type": "stream",
     "text": [
      "22:46:43 - cmdstanpy - INFO - Chain [1] start processing\n",
      "22:46:44 - cmdstanpy - INFO - Chain [1] done processing\n"
     ]
    },
    {
     "name": "stdout",
     "output_type": "stream",
     "text": [
      "It's overpredicted.\n",
      "Monthly Error: 26.72 Period MAE: 18.69\n",
      "It's underpredicted.\n",
      "It's overpredicted.Monthly Error:\n",
      " Monthly Error:18.82 24.5 Period MAE:  15.909999999999998Period MAE: \n",
      "16.37\n"
     ]
    },
    {
     "name": "stderr",
     "output_type": "stream",
     "text": [
      "22:46:45 - cmdstanpy - INFO - Chain [1] start processing\n",
      "22:46:45 - cmdstanpy - INFO - Chain [1] start processing\n",
      "22:46:46 - cmdstanpy - INFO - Chain [1] done processing\n",
      "22:46:46 - cmdstanpy - INFO - Chain [1] start processing\n",
      "22:46:46 - cmdstanpy - INFO - Chain [1] done processing\n",
      "22:46:46 - cmdstanpy - INFO - Chain [1] done processing\n"
     ]
    },
    {
     "name": "stdout",
     "output_type": "stream",
     "text": [
      "It's overpredicted.\n",
      "Monthly Error:It's underpredicted. \n",
      "Monthly Error: 26.66 Period MAE:18.17  18.65Period MAE:\n",
      " 14.96\n"
     ]
    },
    {
     "name": "stderr",
     "output_type": "stream",
     "text": [
      "22:46:48 - cmdstanpy - INFO - Chain [1] start processing\n",
      "22:46:48 - cmdstanpy - INFO - Chain [1] done processing\n",
      "22:46:49 - cmdstanpy - INFO - Chain [1] start processing\n",
      "22:46:49 - cmdstanpy - INFO - Chain [1] done processing\n"
     ]
    },
    {
     "name": "stdout",
     "output_type": "stream",
     "text": [
      "It's underpredicted.\n",
      "Monthly Error: 19.34 Period MAE: 17.330000000000002\n"
     ]
    },
    {
     "name": "stderr",
     "output_type": "stream",
     "text": [
      "22:46:50 - cmdstanpy - INFO - Chain [1] start processing\n",
      "22:46:50 - cmdstanpy - INFO - Chain [1] done processing\n"
     ]
    },
    {
     "name": "stdout",
     "output_type": "stream",
     "text": [
      "It's underpredicted.\n",
      "Monthly Error: 18.35 Period MAE: 14.860000000000001\n",
      "It's overpredicted.\n",
      "Monthly Error: 26.95  Period MAE:18.990000000000002\n",
      "It's underpredicted.\n",
      "Monthly Error: 15.17 Period MAE: 8.48\n"
     ]
    },
    {
     "name": "stderr",
     "output_type": "stream",
     "text": [
      "22:46:52 - cmdstanpy - INFO - Chain [1] start processing\n",
      "22:46:52 - cmdstanpy - INFO - Chain [1] start processing\n",
      "22:46:52 - cmdstanpy - INFO - Chain [1] start processing\n",
      "22:46:52 - cmdstanpy - INFO - Chain [1] done processing\n",
      "22:46:53 - cmdstanpy - INFO - Chain [1] done processing\n",
      "22:46:53 - cmdstanpy - INFO - Chain [1] done processing\n"
     ]
    },
    {
     "name": "stdout",
     "output_type": "stream",
     "text": [
      "It's underpredicted.\n",
      "Monthly Error: 15.2 Period MAE: 8.64\n",
      "It's underpredicted.\n",
      "Period MAE:Monthly Error: 17.6  12.520000000000001\n"
     ]
    },
    {
     "name": "stderr",
     "output_type": "stream",
     "text": [
      "22:46:54 - cmdstanpy - INFO - Chain [1] start processing\n",
      "22:46:55 - cmdstanpy - INFO - Chain [1] done processing\n"
     ]
    },
    {
     "name": "stdout",
     "output_type": "stream",
     "text": [
      "It's underpredicted.\n",
      "Monthly Error: 17.58 Period MAE: 13.68\n"
     ]
    },
    {
     "name": "stderr",
     "output_type": "stream",
     "text": [
      "22:46:55 - cmdstanpy - INFO - Chain [1] start processing\n",
      "22:46:55 - cmdstanpy - INFO - Chain [1] done processing\n",
      "22:46:55 - cmdstanpy - INFO - Chain [1] start processing\n",
      "22:46:56 - cmdstanpy - INFO - Chain [1] done processing\n"
     ]
    },
    {
     "name": "stdout",
     "output_type": "stream",
     "text": [
      "It's underpredicted.\n",
      "Monthly Error: 15.18 Period MAE: 8.62\n",
      "It's underpredicted.\n",
      "Monthly Error: 18.5 Period MAE: 15.160000000000002\n"
     ]
    },
    {
     "name": "stderr",
     "output_type": "stream",
     "text": [
      "22:46:58 - cmdstanpy - INFO - Chain [1] start processing\n"
     ]
    },
    {
     "name": "stdout",
     "output_type": "stream",
     "text": [
      "It's overpredicted.\n",
      "Monthly Error: 24.49 Period MAE: 14.39\n"
     ]
    },
    {
     "name": "stderr",
     "output_type": "stream",
     "text": [
      "22:46:59 - cmdstanpy - INFO - Chain [1] start processing\n",
      "22:46:59 - cmdstanpy - INFO - Chain [1] done processing\n",
      "22:46:59 - cmdstanpy - INFO - Chain [1] start processing\n",
      "22:46:59 - cmdstanpy - INFO - Chain [1] done processing\n",
      "22:46:59 - cmdstanpy - INFO - Chain [1] done processing\n"
     ]
    },
    {
     "name": "stdout",
     "output_type": "stream",
     "text": [
      "It's overpredicted.\n",
      "Monthly Error: 24.4 Period MAE: 14.299999999999999\n"
     ]
    },
    {
     "name": "stderr",
     "output_type": "stream",
     "text": [
      "22:47:00 - cmdstanpy - INFO - Chain [1] start processing\n",
      "22:47:00 - cmdstanpy - INFO - Chain [1] done processing\n"
     ]
    },
    {
     "name": "stdout",
     "output_type": "stream",
     "text": [
      "It's underpredicted.\n",
      "Monthly Error: 18.18 Period MAE: 14.84\n"
     ]
    },
    {
     "name": "stderr",
     "output_type": "stream",
     "text": [
      "22:47:01 - cmdstanpy - INFO - Chain [1] start processing\n"
     ]
    },
    {
     "name": "stdout",
     "output_type": "stream",
     "text": [
      "It's underpredicted.\n",
      "Monthly Error: 18.11 "
     ]
    },
    {
     "name": "stderr",
     "output_type": "stream",
     "text": [
      "22:47:02 - cmdstanpy - INFO - Chain [1] done processing\n"
     ]
    },
    {
     "name": "stdout",
     "output_type": "stream",
     "text": [
      "Period MAE: 14.35\n"
     ]
    },
    {
     "name": "stderr",
     "output_type": "stream",
     "text": [
      "22:47:04 - cmdstanpy - INFO - Chain [1] start processing\n",
      "22:47:04 - cmdstanpy - INFO - Chain [1] done processing\n"
     ]
    },
    {
     "name": "stdout",
     "output_type": "stream",
     "text": [
      "It's underpredicted.\n",
      "Monthly Error: 17.73 Period MAE: 13.389999999999999\n",
      "It's overpredicted.\n",
      "Monthly Error: 24.24 Period MAE: 14.08\n"
     ]
    },
    {
     "name": "stderr",
     "output_type": "stream",
     "text": [
      "22:47:05 - cmdstanpy - INFO - Chain [1] start processing\n"
     ]
    },
    {
     "name": "stdout",
     "output_type": "stream",
     "text": [
      "It's underpredicted.\n",
      "Monthly Error: "
     ]
    },
    {
     "name": "stderr",
     "output_type": "stream",
     "text": [
      "22:47:06 - cmdstanpy - INFO - Chain [1] done processing\n"
     ]
    },
    {
     "name": "stdout",
     "output_type": "stream",
     "text": [
      "14.75 Period MAE: 0.31\n"
     ]
    },
    {
     "name": "stderr",
     "output_type": "stream",
     "text": [
      "22:47:06 - cmdstanpy - INFO - Chain [1] start processing\n",
      "22:47:06 - cmdstanpy - INFO - Chain [1] done processing\n",
      "22:47:06 - cmdstanpy - INFO - Chain [1] start processing\n",
      "22:47:07 - cmdstanpy - INFO - Chain [1] done processing\n"
     ]
    },
    {
     "name": "stdout",
     "output_type": "stream",
     "text": [
      "It's underpredicted.\n",
      "Monthly Error: 14.69 Period MAE: 0.44\n",
      "It's underpredicted.\n",
      "Monthly Error: 14.23 Period MAE: "
     ]
    },
    {
     "name": "stderr",
     "output_type": "stream",
     "text": [
      "22:47:08 - cmdstanpy - INFO - Chain [1] start processing\n"
     ]
    },
    {
     "name": "stdout",
     "output_type": "stream",
     "text": [
      "3.1199999999999997\n"
     ]
    },
    {
     "name": "stderr",
     "output_type": "stream",
     "text": [
      "22:47:08 - cmdstanpy - INFO - Chain [1] done processing\n"
     ]
    },
    {
     "name": "stdout",
     "output_type": "stream",
     "text": [
      "It's underpredicted.\n",
      "Monthly Error: 18.22 Period MAE: 15.1\n"
     ]
    },
    {
     "name": "stderr",
     "output_type": "stream",
     "text": [
      "22:47:09 - cmdstanpy - INFO - Chain [1] start processing\n",
      "22:47:09 - cmdstanpy - INFO - Chain [1] start processing\n",
      "22:47:09 - cmdstanpy - INFO - Chain [1] done processing\n",
      "22:47:09 - cmdstanpy - INFO - Chain [1] done processing\n"
     ]
    },
    {
     "name": "stdout",
     "output_type": "stream",
     "text": [
      "It's underpredicted.\n",
      "Monthly Error: 15.22 Period MAE: 8.14\n",
      "It's underpredicted.\n",
      "Monthly Error: 14.77 Period MAE: 0.21\n",
      "It's underpredicted.\n",
      "Monthly Error: 16.76 Period MAE: 18.52\n"
     ]
    },
    {
     "name": "stderr",
     "output_type": "stream",
     "text": [
      "22:47:12 - cmdstanpy - INFO - Chain [1] start processing\n",
      "22:47:12 - cmdstanpy - INFO - Chain [1] start processing\n",
      "22:47:12 - cmdstanpy - INFO - Chain [1] done processing\n",
      "22:47:12 - cmdstanpy - INFO - Chain [1] done processing\n",
      "22:47:12 - cmdstanpy - INFO - Chain [1] start processing\n"
     ]
    },
    {
     "name": "stdout",
     "output_type": "stream",
     "text": [
      "It's underpredicted.\n",
      "Monthly Error: 16.08 Period MAE: 17.69"
     ]
    },
    {
     "name": "stderr",
     "output_type": "stream",
     "text": [
      "22:47:13 - cmdstanpy - INFO - Chain [1] done processing\n"
     ]
    },
    {
     "name": "stdout",
     "output_type": "stream",
     "text": [
      "\n"
     ]
    },
    {
     "name": "stderr",
     "output_type": "stream",
     "text": [
      "22:47:13 - cmdstanpy - INFO - Chain [1] start processing\n",
      "22:47:13 - cmdstanpy - INFO - Chain [1] done processing\n"
     ]
    },
    {
     "name": "stdout",
     "output_type": "stream",
     "text": [
      "It's underpredicted.\n",
      "Monthly Error: 14.19 Period MAE:It's underpredicted. 3.7699999999999996\n",
      "\n",
      "Monthly Error: 12.84 Period MAE: 7.04\n"
     ]
    },
    {
     "name": "stderr",
     "output_type": "stream",
     "text": [
      "22:47:15 - cmdstanpy - INFO - Chain [1] start processing\n",
      "22:47:15 - cmdstanpy - INFO - Chain [1] start processing\n",
      "22:47:15 - cmdstanpy - INFO - Chain [1] done processing\n",
      "22:47:15 - cmdstanpy - INFO - Chain [1] done processing\n"
     ]
    },
    {
     "name": "stdout",
     "output_type": "stream",
     "text": [
      "It's overpredicted.\n",
      "Monthly Error: 30.35 Period MAE: 23.919999999999998\n",
      "It's underpredicted.\n",
      "Monthly Error: 15.6 Period MAE: 15.36\n",
      "It's underpredicted.\n",
      "Monthly Error: 14.36 Period MAE: 6.05\n"
     ]
    },
    {
     "name": "stderr",
     "output_type": "stream",
     "text": [
      "22:47:17 - cmdstanpy - INFO - Chain [1] start processing\n",
      "22:47:17 - cmdstanpy - INFO - Chain [1] start processing\n",
      "22:47:18 - cmdstanpy - INFO - Chain [1] done processing\n",
      "22:47:18 - cmdstanpy - INFO - Chain [1] start processing\n",
      "22:47:18 - cmdstanpy - INFO - Chain [1] done processing\n",
      "22:47:18 - cmdstanpy - INFO - Chain [1] done processing\n"
     ]
    },
    {
     "name": "stdout",
     "output_type": "stream",
     "text": [
      "It's overpredicted.\n",
      "Monthly Error: 30.19 Period MAE: 24.39\n"
     ]
    },
    {
     "name": "stderr",
     "output_type": "stream",
     "text": [
      "22:47:19 - cmdstanpy - INFO - Chain [1] start processing\n"
     ]
    },
    {
     "name": "stdout",
     "output_type": "stream",
     "text": [
      "It's underpredicted.\n",
      "Monthly Error: 14.42 Period MAE: 4.62\n"
     ]
    },
    {
     "name": "stderr",
     "output_type": "stream",
     "text": [
      "22:47:19 - cmdstanpy - INFO - Chain [1] done processing\n",
      "22:47:20 - cmdstanpy - INFO - Chain [1] start processing\n"
     ]
    },
    {
     "name": "stdout",
     "output_type": "stream",
     "text": [
      "It's underpredicted.\n",
      "Monthly Error: 12.74 Period MAE: 6.79\n"
     ]
    },
    {
     "name": "stderr",
     "output_type": "stream",
     "text": [
      "22:47:20 - cmdstanpy - INFO - Chain [1] done processing\n",
      "22:47:21 - cmdstanpy - INFO - Chain [1] start processing\n",
      "22:47:21 - cmdstanpy - INFO - Chain [1] done processing\n"
     ]
    },
    {
     "name": "stdout",
     "output_type": "stream",
     "text": [
      "It's overpredicted.It's underpredicted.\n",
      "Monthly Error: \n",
      "12.13Monthly Error: Period MAE:  15.15 2.18Period MAE: 7.99\n",
      "\n",
      "It's overpredicted.\n",
      "Monthly Error: 28.9 Period MAE: 23.200000000000003\n"
     ]
    },
    {
     "name": "stderr",
     "output_type": "stream",
     "text": [
      "22:47:23 - cmdstanpy - INFO - Chain [1] start processing\n",
      "22:47:23 - cmdstanpy - INFO - Chain [1] start processing\n",
      "22:47:23 - cmdstanpy - INFO - Chain [1] start processing\n",
      "22:47:24 - cmdstanpy - INFO - Chain [1] done processing\n",
      "22:47:24 - cmdstanpy - INFO - Chain [1] done processing\n",
      "22:47:24 - cmdstanpy - INFO - Chain [1] done processing\n"
     ]
    },
    {
     "name": "stdout",
     "output_type": "stream",
     "text": [
      "It's underpredicted.\n",
      "Monthly Error: 14.31 Period MAE: 5.36\n",
      "It's overpredicted.\n",
      "Monthly Error: 12.1 Period MAE: 2.7199999999999998\n"
     ]
    },
    {
     "name": "stderr",
     "output_type": "stream",
     "text": [
      "22:47:26 - cmdstanpy - INFO - Chain [1] start processing\n",
      "22:47:26 - cmdstanpy - INFO - Chain [1] done processing\n",
      "22:47:26 - cmdstanpy - INFO - Chain [1] start processing\n"
     ]
    },
    {
     "name": "stdout",
     "output_type": "stream",
     "text": [
      "It's underpredicted.\n",
      "Monthly Error: 13.13 Period MAE: 7.88\n"
     ]
    },
    {
     "name": "stderr",
     "output_type": "stream",
     "text": [
      "22:47:27 - cmdstanpy - INFO - Chain [1] done processing\n",
      "22:47:27 - cmdstanpy - INFO - Chain [1] start processing\n",
      "22:47:27 - cmdstanpy - INFO - Chain [1] done processing\n"
     ]
    },
    {
     "name": "stdout",
     "output_type": "stream",
     "text": [
      "It's overpredicted.\n",
      "Monthly Error: 11.18 Period MAE: 1.1199999999999999\n",
      "It's underpredicted.\n",
      "Monthly Error: 15.19 Period MAE: 8.25\n",
      "It's underpredicted.\n",
      "Monthly Error: 22.07 "
     ]
    },
    {
     "name": "stderr",
     "output_type": "stream",
     "text": [
      "22:47:29 - cmdstanpy - INFO - Chain [1] start processing\n"
     ]
    },
    {
     "name": "stdout",
     "output_type": "stream",
     "text": [
      "Period MAE: 23.0\n"
     ]
    },
    {
     "name": "stderr",
     "output_type": "stream",
     "text": [
      "22:47:29 - cmdstanpy - INFO - Chain [1] start processing\n",
      "22:47:30 - cmdstanpy - INFO - Chain [1] start processing\n",
      "22:47:30 - cmdstanpy - INFO - Chain [1] done processing\n",
      "22:47:30 - cmdstanpy - INFO - Chain [1] done processing\n",
      "22:47:30 - cmdstanpy - INFO - Chain [1] done processing\n"
     ]
    },
    {
     "name": "stdout",
     "output_type": "stream",
     "text": [
      "It's underpredicted.\n",
      "Monthly Error: 20.71 Period MAE: 21.48\n",
      "It's underpredicted.\n",
      "Monthly Error: 14.21 Period MAE: "
     ]
    },
    {
     "name": "stderr",
     "output_type": "stream",
     "text": [
      "22:47:31 - cmdstanpy - INFO - Chain [1] start processing\n"
     ]
    },
    {
     "name": "stdout",
     "output_type": "stream",
     "text": [
      "3.9600000000000004\n",
      "It's underpredicted.\n",
      "Monthly Error: 13.1"
     ]
    },
    {
     "name": "stderr",
     "output_type": "stream",
     "text": [
      "22:47:32 - cmdstanpy - INFO - Chain [1] done processing\n"
     ]
    },
    {
     "name": "stdout",
     "output_type": "stream",
     "text": [
      " Period MAE: 7.290000000000001\n"
     ]
    },
    {
     "name": "stderr",
     "output_type": "stream",
     "text": [
      "22:47:32 - cmdstanpy - INFO - Chain [1] start processing\n",
      "22:47:32 - cmdstanpy - INFO - Chain [1] start processing\n",
      "22:47:33 - cmdstanpy - INFO - Chain [1] done processing\n",
      "22:47:33 - cmdstanpy - INFO - Chain [1] done processing\n"
     ]
    },
    {
     "name": "stdout",
     "output_type": "stream",
     "text": [
      "It's underpredicted.\n",
      "Monthly Error: 20.53 It's underpredicted.Period MAE:\n",
      " 20.05Monthly Error:\n",
      " 15.27 Period MAE: 8.41\n",
      "It's overpredicted.\n",
      "Monthly Error: 29.08 Period MAE: 20.87"
     ]
    },
    {
     "name": "stderr",
     "output_type": "stream",
     "text": [
      "22:47:36 - cmdstanpy - INFO - Chain [1] start processing\n"
     ]
    },
    {
     "name": "stdout",
     "output_type": "stream",
     "text": [
      "\n"
     ]
    },
    {
     "name": "stderr",
     "output_type": "stream",
     "text": [
      "22:47:36 - cmdstanpy - INFO - Chain [1] start processing\n",
      "22:47:36 - cmdstanpy - INFO - Chain [1] start processing\n",
      "22:47:36 - cmdstanpy - INFO - Chain [1] done processing\n",
      "22:47:36 - cmdstanpy - INFO - Chain [1] done processing\n",
      "22:47:36 - cmdstanpy - INFO - Chain [1] done processing\n"
     ]
    },
    {
     "name": "stdout",
     "output_type": "stream",
     "text": [
      "It's overpredicted.\n",
      "Monthly Error: 29.0 Period MAE: 20.93\n"
     ]
    },
    {
     "name": "stderr",
     "output_type": "stream",
     "text": [
      "22:47:37 - cmdstanpy - INFO - Chain [1] start processing\n",
      "22:47:37 - cmdstanpy - INFO - Chain [1] done processing\n"
     ]
    },
    {
     "name": "stdout",
     "output_type": "stream",
     "text": [
      "It's underpredicted.\n",
      "Monthly Error: 14.25 Period MAE: 4.68\n"
     ]
    },
    {
     "name": "stderr",
     "output_type": "stream",
     "text": [
      "22:47:39 - cmdstanpy - INFO - Chain [1] start processing\n"
     ]
    },
    {
     "name": "stdout",
     "output_type": "stream",
     "text": [
      "It's underpredicted.\n",
      "Monthly Error: 13.06 Period MAE: 7.59\n"
     ]
    },
    {
     "name": "stderr",
     "output_type": "stream",
     "text": [
      "22:47:39 - cmdstanpy - INFO - Chain [1] done processing\n",
      "22:47:39 - cmdstanpy - INFO - Chain [1] start processing\n",
      "22:47:40 - cmdstanpy - INFO - Chain [1] done processing\n"
     ]
    },
    {
     "name": "stdout",
     "output_type": "stream",
     "text": [
      "It's underpredicted.\n",
      "Monthly Error: 17.41It's underpredicted.\n",
      "Monthly Error: 14.68 Period MAE: 0.64\n",
      "It's underpredicted.\n",
      "Monthly Error: 17.18 Period MAE: 12.690000000000001\n"
     ]
    },
    {
     "name": "stderr",
     "output_type": "stream",
     "text": [
      "22:50:52 - cmdstanpy - INFO - Chain [1] start processing\n",
      "22:50:52 - cmdstanpy - INFO - Chain [1] done processing\n",
      "22:50:52 - cmdstanpy - INFO - Chain [1] start processing\n",
      "22:50:53 - cmdstanpy - INFO - Chain [1] done processing\n"
     ]
    },
    {
     "name": "stdout",
     "output_type": "stream",
     "text": [
      "It's underpredicted.\n",
      "Monthly Error: 14.71 Period MAE: 0.58\n",
      "It's underpredicted.\n",
      "Monthly Error: 14.97 Period MAE: 7.720000000000001\n",
      "It's underpredicted.\n",
      "Monthly Error: 16.85 Period MAE: 18.61\n"
     ]
    },
    {
     "name": "stderr",
     "output_type": "stream",
     "text": [
      "22:50:54 - cmdstanpy - INFO - Chain [1] start processing\n",
      "22:50:54 - cmdstanpy - INFO - Chain [1] start processing\n",
      "22:50:55 - cmdstanpy - INFO - Chain [1] done processing\n",
      "22:50:55 - cmdstanpy - INFO - Chain [1] done processing\n",
      "22:50:55 - cmdstanpy - INFO - Chain [1] start processing\n",
      "22:50:56 - cmdstanpy - INFO - Chain [1] done processing\n"
     ]
    },
    {
     "name": "stdout",
     "output_type": "stream",
     "text": [
      "It's underpredicted.\n",
      "Monthly Error: 12.93 Period MAE: 7.12\n",
      "It's underpredicted.\n",
      "Monthly Error: 15.96 Period MAE:"
     ]
    },
    {
     "name": "stderr",
     "output_type": "stream",
     "text": [
      "22:50:56 - cmdstanpy - INFO - Chain [1] start processing\n"
     ]
    },
    {
     "name": "stdout",
     "output_type": "stream",
     "text": [
      " 17.549999999999997\n",
      "It's underpredicted.\n",
      "Monthly Error:"
     ]
    },
    {
     "name": "stderr",
     "output_type": "stream",
     "text": [
      "22:50:57 - cmdstanpy - INFO - Chain [1] done processing\n"
     ]
    },
    {
     "name": "stdout",
     "output_type": "stream",
     "text": [
      " 14.43 Period MAE: 5.4\n"
     ]
    },
    {
     "name": "stderr",
     "output_type": "stream",
     "text": [
      "22:50:57 - cmdstanpy - INFO - Chain [1] start processing\n",
      "22:50:57 - cmdstanpy - INFO - Chain [1] start processing\n",
      "22:50:57 - cmdstanpy - INFO - Chain [1] done processing\n",
      "22:50:58 - cmdstanpy - INFO - Chain [1] done processing\n"
     ]
    },
    {
     "name": "stdout",
     "output_type": "stream",
     "text": [
      "It's underpredicted.\n",
      "Monthly Error: 15.18 Period MAE: 8.23\n",
      "It's underpredicted.\n",
      "Monthly Error: 15.67 Period MAE: 15.190000000000001\n",
      "It's overpredicted.\n",
      "Monthly Error: 29.93 Period MAE: 23.36\n",
      "It's overpredicted."
     ]
    },
    {
     "name": "stderr",
     "output_type": "stream",
     "text": [
      "22:51:01 - cmdstanpy - INFO - Chain [1] start processing\n"
     ]
    },
    {
     "name": "stdout",
     "output_type": "stream",
     "text": [
      "\n",
      "Monthly Error: 29.67 Period MAE: 23.630000000000003\n"
     ]
    },
    {
     "name": "stderr",
     "output_type": "stream",
     "text": [
      "22:51:01 - cmdstanpy - INFO - Chain [1] start processing\n",
      "22:51:01 - cmdstanpy - INFO - Chain [1] done processing\n",
      "22:51:01 - cmdstanpy - INFO - Chain [1] start processing\n",
      "22:51:02 - cmdstanpy - INFO - Chain [1] done processing\n",
      "22:51:02 - cmdstanpy - INFO - Chain [1] start processing\n",
      "22:51:02 - cmdstanpy - INFO - Chain [1] done processing\n",
      "22:51:02 - cmdstanpy - INFO - Chain [1] done processing\n"
     ]
    },
    {
     "name": "stdout",
     "output_type": "stream",
     "text": [
      "It's underpredicted.\n",
      "Monthly Error: 14.48 Period MAE: 4.84\n",
      "It's underpredicted.\n",
      "Monthly Error: 12.6"
     ]
    },
    {
     "name": "stderr",
     "output_type": "stream",
     "text": [
      "22:51:04 - cmdstanpy - INFO - Chain [1] start processing\n"
     ]
    },
    {
     "name": "stdout",
     "output_type": "stream",
     "text": [
      " Period MAE: 6.43\n"
     ]
    },
    {
     "name": "stderr",
     "output_type": "stream",
     "text": [
      "22:51:05 - cmdstanpy - INFO - Chain [1] done processing\n",
      "22:51:05 - cmdstanpy - INFO - Chain [1] start processing\n",
      "22:51:06 - cmdstanpy - INFO - Chain [1] done processing\n"
     ]
    },
    {
     "name": "stdout",
     "output_type": "stream",
     "text": [
      "It's overpredicted.\n",
      "Monthly Error: 12.99 Period MAE: 3.17\n",
      "It's overpredicted.\n",
      "Monthly Error: 28.25 Period MAE: 22.37\n",
      "It's underpredicted.\n",
      "Monthly Error: 15.01 Period MAE: 7.470000000000001\n"
     ]
    },
    {
     "name": "stderr",
     "output_type": "stream",
     "text": [
      "22:51:07 - cmdstanpy - INFO - Chain [1] start processing\n",
      "22:51:08 - cmdstanpy - INFO - Chain [1] start processing\n",
      "22:51:08 - cmdstanpy - INFO - Chain [1] start processing\n",
      "22:51:08 - cmdstanpy - INFO - Chain [1] done processing\n",
      "22:51:08 - cmdstanpy - INFO - Chain [1] done processing\n",
      "22:51:08 - cmdstanpy - INFO - Chain [1] done processing\n"
     ]
    },
    {
     "name": "stdout",
     "output_type": "stream",
     "text": [
      "It's underpredicted.\n",
      "Monthly Error: 14.22 Period MAE: 3.1300000000000003\n",
      "It's overpredicted.\n",
      "Monthly Error: 11.68 Period MAE: 2.2800000000000002\n"
     ]
    },
    {
     "name": "stderr",
     "output_type": "stream",
     "text": [
      "22:51:10 - cmdstanpy - INFO - Chain [1] start processing\n",
      "22:51:10 - cmdstanpy - INFO - Chain [1] done processing\n"
     ]
    },
    {
     "name": "stdout",
     "output_type": "stream",
     "text": [
      "It's underpredicted.\n"
     ]
    },
    {
     "name": "stderr",
     "output_type": "stream",
     "text": [
      "22:51:10 - cmdstanpy - INFO - Chain [1] start processing\n"
     ]
    },
    {
     "name": "stdout",
     "output_type": "stream",
     "text": [
      "Monthly Error: 13.2 Period MAE: 7.85\n"
     ]
    },
    {
     "name": "stderr",
     "output_type": "stream",
     "text": [
      "22:51:11 - cmdstanpy - INFO - Chain [1] done processing\n",
      "22:51:11 - cmdstanpy - INFO - Chain [1] start processing\n"
     ]
    },
    {
     "name": "stdout",
     "output_type": "stream",
     "text": [
      "It's overpredicted.\n",
      "Monthly Error: 11.71 Period MAE:"
     ]
    },
    {
     "name": "stderr",
     "output_type": "stream",
     "text": [
      "22:51:12 - cmdstanpy - INFO - Chain [1] done processing\n"
     ]
    },
    {
     "name": "stdout",
     "output_type": "stream",
     "text": [
      " 1.5599999999999998\n",
      "It's underpredicted.\n",
      "Monthly Error: 14.93 Period MAE: 7.59\n"
     ]
    },
    {
     "name": "stderr",
     "output_type": "stream",
     "text": [
      "22:51:13 - cmdstanpy - INFO - Chain [1] start processing\n"
     ]
    },
    {
     "name": "stdout",
     "output_type": "stream",
     "text": [
      "It's underpredicted.\n",
      "Monthly Error: 22.16 Period MAE: 23.05\n"
     ]
    },
    {
     "name": "stderr",
     "output_type": "stream",
     "text": [
      "22:51:13 - cmdstanpy - INFO - Chain [1] done processing\n",
      "22:51:14 - cmdstanpy - INFO - Chain [1] start processing\n",
      "22:51:14 - cmdstanpy - INFO - Chain [1] start processing\n",
      "22:51:14 - cmdstanpy - INFO - Chain [1] done processing\n",
      "22:51:14 - cmdstanpy - INFO - Chain [1] done processing\n"
     ]
    },
    {
     "name": "stdout",
     "output_type": "stream",
     "text": [
      "It's underpredicted.\n",
      "Monthly Error: 12.91 It's underpredicted.Period MAE:It's underpredicted. \n",
      "\n",
      "Monthly Error:6.660000000000001 Monthly Error: \n",
      "20.9214.54  Period MAE:Period MAE:  6.97\n",
      "21.43\n"
     ]
    },
    {
     "name": "stderr",
     "output_type": "stream",
     "text": [
      "22:51:16 - cmdstanpy - INFO - Chain [1] start processing\n",
      "22:51:16 - cmdstanpy - INFO - Chain [1] done processing\n",
      "22:51:16 - cmdstanpy - INFO - Chain [1] start processing\n",
      "22:51:17 - cmdstanpy - INFO - Chain [1] start processing\n",
      "22:51:17 - cmdstanpy - INFO - Chain [1] done processing\n",
      "22:51:17 - cmdstanpy - INFO - Chain [1] done processing\n"
     ]
    },
    {
     "name": "stdout",
     "output_type": "stream",
     "text": [
      "It's underpredicted.\n",
      "Monthly Error: 20.59 Period MAE: 20.080000000000002\n",
      "It's underpredicted.\n",
      "Monthly Error: It's overpredicted.16.39\n",
      "Monthly Error: Period MAE: 28.28 Period MAE: 11.540000000000001 19.82\n",
      "\n"
     ]
    },
    {
     "name": "stderr",
     "output_type": "stream",
     "text": [
      "22:51:19 - cmdstanpy - INFO - Chain [1] start processing\n",
      "22:51:20 - cmdstanpy - INFO - Chain [1] start processing\n",
      "22:51:20 - cmdstanpy - INFO - Chain [1] done processing\n",
      "22:51:20 - cmdstanpy - INFO - Chain [1] start processing\n"
     ]
    },
    {
     "name": "stdout",
     "output_type": "stream",
     "text": [
      "It's overpredicted.\n",
      "Monthly Error: 28.48 Period MAE: 20.28\n"
     ]
    },
    {
     "name": "stderr",
     "output_type": "stream",
     "text": [
      "22:51:21 - cmdstanpy - INFO - Chain [1] start processing\n",
      "22:51:21 - cmdstanpy - INFO - Chain [1] done processing\n",
      "22:51:21 - cmdstanpy - INFO - Chain [1] done processing\n",
      "22:51:21 - cmdstanpy - INFO - Chain [1] done processing\n"
     ]
    },
    {
     "name": "stdout",
     "output_type": "stream",
     "text": [
      "It's underpredicted.\n",
      "Monthly Error: 14.38 Period MAE: 4.15\n"
     ]
    },
    {
     "name": "stderr",
     "output_type": "stream",
     "text": [
      "22:51:23 - cmdstanpy - INFO - Chain [1] start processing\n"
     ]
    },
    {
     "name": "stdout",
     "output_type": "stream",
     "text": [
      "It's underpredicted.\n",
      "Monthly Error: 13.28 Period MAE: "
     ]
    },
    {
     "name": "stderr",
     "output_type": "stream",
     "text": [
      "22:51:23 - cmdstanpy - INFO - Chain [1] done processing\n"
     ]
    },
    {
     "name": "stdout",
     "output_type": "stream",
     "text": [
      "8.129999999999999\n",
      "It's overpredicted.\n",
      "Monthly Error: "
     ]
    },
    {
     "name": "stderr",
     "output_type": "stream",
     "text": [
      "22:51:24 - cmdstanpy - INFO - Chain [1] start processing\n"
     ]
    },
    {
     "name": "stdout",
     "output_type": "stream",
     "text": [
      "30.02 Period MAE: 23.89\n"
     ]
    },
    {
     "name": "stderr",
     "output_type": "stream",
     "text": [
      "22:51:24 - cmdstanpy - INFO - Chain [1] done processing\n"
     ]
    },
    {
     "name": "stdout",
     "output_type": "stream",
     "text": [
      "It's underpredicted.\n",
      "Monthly Error: 17.44 Period MAE: 5.800000000000001\n",
      "It's underpredicted.\n",
      "Monthly Error: 15.78 Period MAE: 9.36\n"
     ]
    },
    {
     "name": "stderr",
     "output_type": "stream",
     "text": [
      "22:51:26 - cmdstanpy - INFO - Chain [1] start processing\n",
      "22:51:26 - cmdstanpy - INFO - Chain [1] start processing\n",
      "22:51:26 - cmdstanpy - INFO - Chain [1] start processing\n",
      "22:51:26 - cmdstanpy - INFO - Chain [1] done processing\n",
      "22:51:26 - cmdstanpy - INFO - Chain [1] done processing\n",
      "22:51:27 - cmdstanpy - INFO - Chain [1] done processing\n"
     ]
    },
    {
     "name": "stdout",
     "output_type": "stream",
     "text": [
      "It's underpredicted.\n",
      "Monthly Error: 16.52 Period MAE: 10.639999999999999\n"
     ]
    },
    {
     "name": "stderr",
     "output_type": "stream",
     "text": [
      "22:51:28 - cmdstanpy - INFO - Chain [1] start processing\n",
      "22:51:28 - cmdstanpy - INFO - Chain [1] done processing\n"
     ]
    },
    {
     "name": "stdout",
     "output_type": "stream",
     "text": [
      "It's underpredicted.\n",
      "Monthly Error: 16.81 Period MAE: 5.71\n",
      "It's underpredicted.\n",
      "Monthly Error: 13.89 Period MAE: 10.08\n"
     ]
    },
    {
     "name": "stderr",
     "output_type": "stream",
     "text": [
      "22:51:29 - cmdstanpy - INFO - Chain [1] start processing\n",
      "22:51:29 - cmdstanpy - INFO - Chain [1] start processing\n",
      "22:51:29 - cmdstanpy - INFO - Chain [1] done processing\n",
      "22:51:29 - cmdstanpy - INFO - Chain [1] done processing\n"
     ]
    },
    {
     "name": "stdout",
     "output_type": "stream",
     "text": [
      "It's underpredicted.\n",
      "Monthly Error: 18.02 It's underpredicted.Period MAE:\n",
      "Monthly Error:  19.7It's underpredicted.6.0 Period MAE:\n",
      " 17.39\n",
      "Monthly Error:\n",
      " 12.66 Period MAE: 0.52\n"
     ]
    },
    {
     "name": "stderr",
     "output_type": "stream",
     "text": [
      "22:51:32 - cmdstanpy - INFO - Chain [1] start processing\n",
      "22:51:32 - cmdstanpy - INFO - Chain [1] done processing\n",
      "22:51:32 - cmdstanpy - INFO - Chain [1] start processing\n",
      "22:51:32 - cmdstanpy - INFO - Chain [1] start processing\n",
      "22:51:33 - cmdstanpy - INFO - Chain [1] done processing\n"
     ]
    },
    {
     "name": "stdout",
     "output_type": "stream",
     "text": [
      "It's underpredicted.\n",
      "Monthly Error: 12.59 Period MAE: 0.27999999999999997\n"
     ]
    },
    {
     "name": "stderr",
     "output_type": "stream",
     "text": [
      "22:51:33 - cmdstanpy - INFO - Chain [1] done processing\n",
      "22:51:33 - cmdstanpy - INFO - Chain [1] start processing\n"
     ]
    },
    {
     "name": "stdout",
     "output_type": "stream",
     "text": [
      "It's underpredicted.\n",
      "Monthly Error: 14.88 Period MAE: "
     ]
    },
    {
     "name": "stderr",
     "output_type": "stream",
     "text": [
      "22:51:33 - cmdstanpy - INFO - Chain [1] done processing\n"
     ]
    },
    {
     "name": "stdout",
     "output_type": "stream",
     "text": [
      "8.08\n"
     ]
    },
    {
     "name": "stderr",
     "output_type": "stream",
     "text": [
      "22:51:34 - cmdstanpy - INFO - Chain [1] start processing\n"
     ]
    },
    {
     "name": "stdout",
     "output_type": "stream",
     "text": [
      "It's underpredicted.\n",
      "Monthly Error: 18.68 Period MAE: 15.540000000000001\n"
     ]
    },
    {
     "name": "stderr",
     "output_type": "stream",
     "text": [
      "22:51:35 - cmdstanpy - INFO - Chain [1] done processing\n",
      "22:51:35 - cmdstanpy - INFO - Chain [1] start processing\n",
      "22:51:36 - cmdstanpy - INFO - Chain [1] done processing\n"
     ]
    },
    {
     "name": "stdout",
     "output_type": "stream",
     "text": [
      "It's underpredicted.\n",
      "Monthly Error: 17.73It's overpredicted.\n",
      " Monthly Error:Period MAE: 13.74\n",
      " 15.76 Period MAE: 3.91\n",
      "It's underpredicted.\n",
      "Monthly Error: 13.16 Period MAE: 0.08\n"
     ]
    },
    {
     "name": "stderr",
     "output_type": "stream",
     "text": [
      "22:51:37 - cmdstanpy - INFO - Chain [1] start processing\n",
      "22:51:37 - cmdstanpy - INFO - Chain [1] done processing\n",
      "22:51:38 - cmdstanpy - INFO - Chain [1] start processing\n",
      "22:51:38 - cmdstanpy - INFO - Chain [1] start processing\n",
      "22:51:38 - cmdstanpy - INFO - Chain [1] done processing\n"
     ]
    },
    {
     "name": "stdout",
     "output_type": "stream",
     "text": [
      "It's underpredicted.\n",
      "Monthly Error: 15.68 Period MAE: 8.25\n"
     ]
    },
    {
     "name": "stderr",
     "output_type": "stream",
     "text": [
      "22:51:39 - cmdstanpy - INFO - Chain [1] done processing\n",
      "22:51:39 - cmdstanpy - INFO - Chain [1] start processing\n",
      "22:51:39 - cmdstanpy - INFO - Chain [1] done processing\n"
     ]
    },
    {
     "name": "stdout",
     "output_type": "stream",
     "text": [
      "It's overpredicted.\n",
      "Monthly Error: 15.33 Period MAE: 3.58\n"
     ]
    },
    {
     "name": "stderr",
     "output_type": "stream",
     "text": [
      "22:51:40 - cmdstanpy - INFO - Chain [1] start processing\n",
      "22:51:41 - cmdstanpy - INFO - Chain [1] done processing\n"
     ]
    },
    {
     "name": "stdout",
     "output_type": "stream",
     "text": [
      "It's underpredicted.\n",
      "Monthly Error: 17.86 Period MAE: 15.28\n"
     ]
    },
    {
     "name": "stderr",
     "output_type": "stream",
     "text": [
      "22:51:42 - cmdstanpy - INFO - Chain [1] start processing\n",
      "22:51:42 - cmdstanpy - INFO - Chain [1] done processing\n"
     ]
    },
    {
     "name": "stdout",
     "output_type": "stream",
     "text": [
      "It's overpredicted.\n",
      "Monthly Error: 23.28 Period MAE:It's underpredicted. \n",
      "It's overpredicted.12.82Monthly Error:\n",
      " \n",
      "18.5 Period MAE:Monthly Error:  14.12\n",
      "16.08 Period MAE: 4.55\n"
     ]
    },
    {
     "name": "stderr",
     "output_type": "stream",
     "text": [
      "22:51:43 - cmdstanpy - INFO - Chain [1] start processing\n",
      "22:51:43 - cmdstanpy - INFO - Chain [1] done processing\n",
      "22:51:44 - cmdstanpy - INFO - Chain [1] start processing\n",
      "22:51:44 - cmdstanpy - INFO - Chain [1] start processing\n",
      "22:51:44 - cmdstanpy - INFO - Chain [1] done processing\n",
      "22:51:44 - cmdstanpy - INFO - Chain [1] done processing\n"
     ]
    },
    {
     "name": "stdout",
     "output_type": "stream",
     "text": [
      "It's underpredicted.\n",
      "Monthly Error: 16.79 Period MAE: 11.07\n"
     ]
    },
    {
     "name": "stderr",
     "output_type": "stream",
     "text": [
      "22:51:45 - cmdstanpy - INFO - Chain [1] start processing\n",
      "22:51:46 - cmdstanpy - INFO - Chain [1] done processing\n"
     ]
    },
    {
     "name": "stdout",
     "output_type": "stream",
     "text": [
      "It's overpredicted.\n",
      "Monthly Error: 23.77 Period MAE: 13.469999999999999\n",
      "It's underpredicted.\n",
      "Monthly Error: 15.93 Period MAE: 11.85\n"
     ]
    },
    {
     "name": "stderr",
     "output_type": "stream",
     "text": [
      "22:51:47 - cmdstanpy - INFO - Chain [1] start processing\n",
      "22:51:47 - cmdstanpy - INFO - Chain [1] start processing\n",
      "22:51:48 - cmdstanpy - INFO - Chain [1] done processing\n",
      "22:51:48 - cmdstanpy - INFO - Chain [1] done processing\n"
     ]
    },
    {
     "name": "stdout",
     "output_type": "stream",
     "text": [
      "It's overpredicted.\n",
      "Monthly Error: 24.19 Period MAE: 14.09\n",
      "It's underpredicted.\n",
      "It's underpredicted.Monthly Error:\n",
      "Monthly Error:  17.4518.0  Period MAE:Period MAE:  12.85\n",
      "17.76\n"
     ]
    },
    {
     "name": "stderr",
     "output_type": "stream",
     "text": [
      "22:51:49 - cmdstanpy - INFO - Chain [1] start processing\n",
      "22:51:50 - cmdstanpy - INFO - Chain [1] start processing\n",
      "22:51:50 - cmdstanpy - INFO - Chain [1] done processing\n",
      "22:51:50 - cmdstanpy - INFO - Chain [1] done processing\n",
      "22:51:50 - cmdstanpy - INFO - Chain [1] start processing\n",
      "22:51:51 - cmdstanpy - INFO - Chain [1] done processing\n"
     ]
    },
    {
     "name": "stdout",
     "output_type": "stream",
     "text": [
      "It's underpredicted.\n",
      "Monthly Error: 15.03 Period MAE: 7.489999999999999\n",
      "It's underpredicted.\n",
      "Monthly Error: 17.45 Period MAE: \n",
      "17.919999999999998It's underpredicted.\n",
      "Monthly Error:"
     ]
    },
    {
     "name": "stderr",
     "output_type": "stream",
     "text": [
      "22:51:52 - cmdstanpy - INFO - Chain [1] start processing\n"
     ]
    },
    {
     "name": "stdout",
     "output_type": "stream",
     "text": [
      " 18.47 Period MAE: 15.229999999999999\n"
     ]
    },
    {
     "name": "stderr",
     "output_type": "stream",
     "text": [
      "22:51:52 - cmdstanpy - INFO - Chain [1] done processing\n",
      "22:51:52 - cmdstanpy - INFO - Chain [1] start processing\n",
      "22:51:53 - cmdstanpy - INFO - Chain [1] start processing\n",
      "22:51:53 - cmdstanpy - INFO - Chain [1] done processing\n",
      "22:51:53 - cmdstanpy - INFO - Chain [1] done processing\n"
     ]
    },
    {
     "name": "stdout",
     "output_type": "stream",
     "text": [
      "It's underpredicted.\n",
      "Monthly Error: 17.98 Period MAE: 14.01\n",
      "It's underpredicted.\n",
      "Monthly Error: 17.15 Period MAE: 17.05\n",
      "It's overpredicted.\n",
      "Monthly Error: 13.71 Period MAE: 0.27\n"
     ]
    },
    {
     "name": "stderr",
     "output_type": "stream",
     "text": [
      "22:51:56 - cmdstanpy - INFO - Chain [1] start processing\n",
      "22:51:56 - cmdstanpy - INFO - Chain [1] done processing\n"
     ]
    },
    {
     "name": "stdout",
     "output_type": "stream",
     "text": [
      "It's underpredicted.\n",
      "Monthly Error:"
     ]
    },
    {
     "name": "stderr",
     "output_type": "stream",
     "text": [
      "22:51:56 - cmdstanpy - INFO - Chain [1] start processing\n"
     ]
    },
    {
     "name": "stdout",
     "output_type": "stream",
     "text": [
      " 13.41 Period MAE:"
     ]
    },
    {
     "name": "stderr",
     "output_type": "stream",
     "text": [
      "22:51:56 - cmdstanpy - INFO - Chain [1] start processing\n"
     ]
    },
    {
     "name": "stdout",
     "output_type": "stream",
     "text": [
      " 0.32\n"
     ]
    },
    {
     "name": "stderr",
     "output_type": "stream",
     "text": [
      "22:51:57 - cmdstanpy - INFO - Chain [1] start processing\n",
      "22:51:57 - cmdstanpy - INFO - Chain [1] done processing\n",
      "22:51:57 - cmdstanpy - INFO - Chain [1] done processing\n",
      "22:51:57 - cmdstanpy - INFO - Chain [1] done processing\n"
     ]
    },
    {
     "name": "stdout",
     "output_type": "stream",
     "text": [
      "It's underpredicted.\n",
      "Monthly Error: 15.4 Period MAE: 7.539999999999999\n"
     ]
    },
    {
     "name": "stderr",
     "output_type": "stream",
     "text": [
      "22:51:58 - cmdstanpy - INFO - Chain [1] start processing\n",
      "22:51:59 - cmdstanpy - INFO - Chain [1] done processing\n"
     ]
    },
    {
     "name": "stdout",
     "output_type": "stream",
     "text": [
      "It's underpredicted.\n",
      "Monthly Error: 16.87 Period MAE: 13.87\n"
     ]
    },
    {
     "name": "stderr",
     "output_type": "stream",
     "text": [
      "22:52:00 - cmdstanpy - INFO - Chain [1] start processing\n",
      "22:52:00 - cmdstanpy - INFO - Chain [1] done processing\n"
     ]
    },
    {
     "name": "stdout",
     "output_type": "stream",
     "text": [
      "It's overpredicted.\n",
      "Monthly Error: 13.68 It's underpredicted.Period MAE: \n",
      "0.7100000000000001Monthly Error:\n",
      " 19.15 Period MAE: 15.950000000000001It's overpredicted.\n",
      "\n",
      "Monthly Error: 16.51 Period MAE: 1.8499999999999999\n"
     ]
    },
    {
     "name": "stderr",
     "output_type": "stream",
     "text": [
      "22:52:01 - cmdstanpy - INFO - Chain [1] start processing\n",
      "22:52:02 - cmdstanpy - INFO - Chain [1] start processing\n",
      "22:52:02 - cmdstanpy - INFO - Chain [1] start processing\n",
      "22:52:03 - cmdstanpy - INFO - Chain [1] done processing\n",
      "22:52:03 - cmdstanpy - INFO - Chain [1] done processing\n",
      "22:52:03 - cmdstanpy - INFO - Chain [1] done processing\n"
     ]
    },
    {
     "name": "stdout",
     "output_type": "stream",
     "text": [
      "It's underpredicted.\n",
      "Monthly Error: 14.32 Period MAE:It's underpredicted. \n",
      "Monthly Error: 14.933.8600000000000003 \n",
      "Period MAE: 9.92\n",
      "It's overpredicted.\n",
      "Monthly Error:"
     ]
    },
    {
     "name": "stderr",
     "output_type": "stream",
     "text": [
      "22:52:06 - cmdstanpy - INFO - Chain [1] start processing\n"
     ]
    },
    {
     "name": "stdout",
     "output_type": "stream",
     "text": [
      " 16.43 Period MAE: 1.69\n"
     ]
    },
    {
     "name": "stderr",
     "output_type": "stream",
     "text": [
      "22:52:06 - cmdstanpy - INFO - Chain [1] done processing\n",
      "22:52:06 - cmdstanpy - INFO - Chain [1] start processing\n",
      "22:52:06 - cmdstanpy - INFO - Chain [1] start processing\n",
      "22:52:06 - cmdstanpy - INFO - Chain [1] done processing\n",
      "22:52:07 - cmdstanpy - INFO - Chain [1] done processing\n"
     ]
    },
    {
     "name": "stdout",
     "output_type": "stream",
     "text": [
      "It's overpredicted.\n",
      "Monthly Error: 16.52 Period MAE: 1.76\n",
      "It's underpredicted.\n",
      "Monthly Error: 14.96 Period MAE: 7.51\n",
      "It's underpredicted.\n",
      "Monthly Error: 16.85 Period MAE: "
     ]
    },
    {
     "name": "stderr",
     "output_type": "stream",
     "text": [
      "22:52:09 - cmdstanpy - INFO - Chain [1] start processing\n"
     ]
    },
    {
     "name": "stdout",
     "output_type": "stream",
     "text": [
      "18.61\n"
     ]
    },
    {
     "name": "stderr",
     "output_type": "stream",
     "text": [
      "22:52:09 - cmdstanpy - INFO - Chain [1] start processing\n",
      "22:52:09 - cmdstanpy - INFO - Chain [1] start processing\n",
      "22:52:09 - cmdstanpy - INFO - Chain [1] done processing\n",
      "22:52:09 - cmdstanpy - INFO - Chain [1] done processing\n",
      "22:52:10 - cmdstanpy - INFO - Chain [1] done processing\n"
     ]
    },
    {
     "name": "stdout",
     "output_type": "stream",
     "text": [
      "It's underpredicted.\n",
      "Monthly Error: 15.98 Period MAE: 17.57\n"
     ]
    },
    {
     "name": "stderr",
     "output_type": "stream",
     "text": [
      "22:52:10 - cmdstanpy - INFO - Chain [1] start processing\n",
      "22:52:11 - cmdstanpy - INFO - Chain [1] done processing\n"
     ]
    },
    {
     "name": "stdout",
     "output_type": "stream",
     "text": [
      "It's underpredicted.\n",
      "Monthly Error: 14.56 Period MAE: 6.45\n",
      "It's underpredicted.\n",
      "Monthly Error: 13.11 Period MAE: 7.28\n"
     ]
    },
    {
     "name": "stderr",
     "output_type": "stream",
     "text": [
      "22:52:12 - cmdstanpy - INFO - Chain [1] start processing\n",
      "22:52:12 - cmdstanpy - INFO - Chain [1] start processing\n",
      "22:52:12 - cmdstanpy - INFO - Chain [1] done processing\n",
      "22:52:12 - cmdstanpy - INFO - Chain [1] done processing\n"
     ]
    },
    {
     "name": "stdout",
     "output_type": "stream",
     "text": [
      "It's underpredicted.\n",
      "Monthly Error: 15.65 Period MAE: 15.28\n"
     ]
    },
    {
     "name": "stderr",
     "output_type": "stream",
     "text": [
      "22:52:14 - cmdstanpy - INFO - Chain [1] start processing\n"
     ]
    },
    {
     "name": "stdout",
     "output_type": "stream",
     "text": [
      "It's underpredicted.\n",
      "It's overpredicted.\n",
      "Monthly Error:Monthly Error: 29.91 15.66  Period MAE:Period MAE: 9.54 \n",
      "23.35\n"
     ]
    },
    {
     "name": "stderr",
     "output_type": "stream",
     "text": [
      "22:52:15 - cmdstanpy - INFO - Chain [1] done processing\n",
      "22:52:18 - cmdstanpy - INFO - Chain [1] done processing\n"
     ]
    },
    {
     "name": "stdout",
     "output_type": "stream",
     "text": [
      "It's underpredicted.\n",
      "Monthly Error: 15.68 Period MAE: 9.22\n",
      "It's overpredicted.\n",
      "Monthly Error: 12.3It's overpredicted.\n",
      " Monthly Error:Period MAE: 28.64 2.32 \n",
      "Period MAE: 22.62\n"
     ]
    },
    {
     "name": "stderr",
     "output_type": "stream",
     "text": [
      "22:52:21 - cmdstanpy - INFO - Chain [1] start processing\n",
      "22:52:21 - cmdstanpy - INFO - Chain [1] start processing\n",
      "22:52:21 - cmdstanpy - INFO - Chain [1] done processing\n"
     ]
    },
    {
     "name": "stdout",
     "output_type": "stream",
     "text": [
      "It's overpredicted.\n",
      "Monthly Error: 11.74 Period MAE: 2.33\n"
     ]
    },
    {
     "name": "stderr",
     "output_type": "stream",
     "text": [
      "22:52:22 - cmdstanpy - INFO - Chain [1] done processing\n",
      "22:52:22 - cmdstanpy - INFO - Chain [1] start processing\n",
      "22:52:22 - cmdstanpy - INFO - Chain [1] start processing\n"
     ]
    },
    {
     "name": "stdout",
     "output_type": "stream",
     "text": [
      "It's underpredicted.\n",
      "Monthly Error:"
     ]
    },
    {
     "name": "stderr",
     "output_type": "stream",
     "text": [
      "22:52:22 - cmdstanpy - INFO - Chain [1] done processing\n"
     ]
    },
    {
     "name": "stdout",
     "output_type": "stream",
     "text": [
      " 14.77"
     ]
    },
    {
     "name": "stderr",
     "output_type": "stream",
     "text": [
      "22:52:22 - cmdstanpy - INFO - Chain [1] done processing\n"
     ]
    },
    {
     "name": "stdout",
     "output_type": "stream",
     "text": [
      " Period MAE: 8.780000000000001\n"
     ]
    },
    {
     "name": "stderr",
     "output_type": "stream",
     "text": [
      "22:52:23 - cmdstanpy - INFO - Chain [1] start processing\n",
      "22:52:24 - cmdstanpy - INFO - Chain [1] done processing\n"
     ]
    },
    {
     "name": "stdout",
     "output_type": "stream",
     "text": [
      "It's underpredicted.\n",
      "Monthly Error: 13.44 Period MAE: 8.51\n"
     ]
    },
    {
     "name": "stderr",
     "output_type": "stream",
     "text": [
      "22:52:25 - cmdstanpy - INFO - Chain [1] start processing\n",
      "22:52:25 - cmdstanpy - INFO - Chain [1] done processing\n"
     ]
    },
    {
     "name": "stdout",
     "output_type": "stream",
     "text": [
      "It's underpredicted.\n",
      "Monthly Error: 15.93It's underpredicted.\n",
      "Monthly Error:  22.13Period MAE:  Period MAE:9.959999999999999\n",
      " 23.07\n",
      "It's overpredicted.\n",
      "Monthly Error: 11.24 Period MAE: 1.26\n"
     ]
    },
    {
     "name": "stderr",
     "output_type": "stream",
     "text": [
      "22:52:27 - cmdstanpy - INFO - Chain [1] start processing\n",
      "22:52:27 - cmdstanpy - INFO - Chain [1] start processing\n",
      "22:52:27 - cmdstanpy - INFO - Chain [1] start processing\n",
      "22:52:27 - cmdstanpy - INFO - Chain [1] done processing\n",
      "22:52:27 - cmdstanpy - INFO - Chain [1] done processing\n",
      "22:52:28 - cmdstanpy - INFO - Chain [1] done processing\n"
     ]
    },
    {
     "name": "stdout",
     "output_type": "stream",
     "text": [
      "It's underpredicted.\n",
      "Monthly Error: 14.43 Period MAE: 5.81\n"
     ]
    },
    {
     "name": "stderr",
     "output_type": "stream",
     "text": [
      "22:52:29 - cmdstanpy - INFO - Chain [1] start processing\n",
      "22:52:29 - cmdstanpy - INFO - Chain [1] done processing\n"
     ]
    },
    {
     "name": "stdout",
     "output_type": "stream",
     "text": [
      "It's underpredicted.\n",
      "Monthly Error: 21.03 Period MAE: 21.5\n",
      "It's underpredicted.\n",
      "Monthly Error: 13.47 Period MAE: 9.01\n"
     ]
    },
    {
     "name": "stderr",
     "output_type": "stream",
     "text": [
      "22:52:30 - cmdstanpy - INFO - Chain [1] start processing\n",
      "22:52:30 - cmdstanpy - INFO - Chain [1] start processing\n",
      "22:52:31 - cmdstanpy - INFO - Chain [1] done processing\n",
      "22:52:31 - cmdstanpy - INFO - Chain [1] done processing\n"
     ]
    },
    {
     "name": "stdout",
     "output_type": "stream",
     "text": [
      "It's underpredicted.\n",
      "Monthly Error: 20.59 Period MAE: 20.14\n",
      "It's overpredicted.\n",
      "Monthly Error: 28.38 Period MAE:It's underpredicted. \n",
      "19.96Monthly Error:\n",
      " 15.32 Period MAE: 8.41\n"
     ]
    },
    {
     "name": "stderr",
     "output_type": "stream",
     "text": [
      "22:52:33 - cmdstanpy - INFO - Chain [1] start processing\n",
      "22:52:33 - cmdstanpy - INFO - Chain [1] start processing\n",
      "22:52:33 - cmdstanpy - INFO - Chain [1] done processing\n",
      "22:52:33 - cmdstanpy - INFO - Chain [1] done processing\n",
      "22:52:33 - cmdstanpy - INFO - Chain [1] start processing\n",
      "22:52:34 - cmdstanpy - INFO - Chain [1] done processing\n"
     ]
    },
    {
     "name": "stdout",
     "output_type": "stream",
     "text": [
      "It's underpredicted.\n",
      "Monthly Error: 14.67 Period MAE: 7.28\n"
     ]
    },
    {
     "name": "stderr",
     "output_type": "stream",
     "text": [
      "22:52:36 - cmdstanpy - INFO - Chain [1] start processing\n"
     ]
    },
    {
     "name": "stdout",
     "output_type": "stream",
     "text": [
      "It's overpredicted.\n",
      "Monthly Error: 28.52 Period MAE: 20.31\n"
     ]
    },
    {
     "name": "stderr",
     "output_type": "stream",
     "text": [
      "22:52:36 - cmdstanpy - INFO - Chain [1] done processing\n"
     ]
    },
    {
     "name": "stdout",
     "output_type": "stream",
     "text": [
      "It's underpredicted.\n",
      "Monthly Error: 13.01 Period MAE: 7.6\n"
     ]
    },
    {
     "name": "stderr",
     "output_type": "stream",
     "text": [
      "22:52:37 - cmdstanpy - INFO - Chain [1] start processing\n",
      "22:52:37 - cmdstanpy - INFO - Chain [1] start processing\n",
      "22:52:37 - cmdstanpy - INFO - Chain [1] done processing\n",
      "22:52:37 - cmdstanpy - INFO - Chain [1] done processing\n"
     ]
    },
    {
     "name": "stdout",
     "output_type": "stream",
     "text": [
      "It's underpredicted.\n",
      "Monthly Error: 15.66 Period MAE: 9.16\n",
      "It's underpredicted.\n",
      "Monthly Error: 17.43 Period MAE: 6.370000000000001\n",
      "It's overpredicted.\n",
      "Monthly Error: 26.37 Period MAE: 18.709999999999997\n"
     ]
    },
    {
     "name": "stderr",
     "output_type": "stream",
     "text": [
      "22:52:40 - cmdstanpy - INFO - Chain [1] start processing\n",
      "22:52:40 - cmdstanpy - INFO - Chain [1] done processing\n",
      "22:52:40 - cmdstanpy - INFO - Chain [1] start processing\n",
      "22:52:40 - cmdstanpy - INFO - Chain [1] start processing\n",
      "22:52:41 - cmdstanpy - INFO - Chain [1] done processing\n",
      "22:52:41 - cmdstanpy - INFO - Chain [1] done processing\n"
     ]
    },
    {
     "name": "stdout",
     "output_type": "stream",
     "text": [
      "It's underpredicted.It's underpredicted.\n",
      "\n",
      "Monthly Error:Monthly Error:  18.2616.79 Period MAE:  Period MAE: 5.6714.979999999999999\n",
      "\n"
     ]
    },
    {
     "name": "stderr",
     "output_type": "stream",
     "text": [
      "22:52:42 - cmdstanpy - INFO - Chain [1] start processing\n",
      "22:52:42 - cmdstanpy - INFO - Chain [1] done processing\n",
      "22:52:42 - cmdstanpy - INFO - Chain [1] start processing\n",
      "22:52:43 - cmdstanpy - INFO - Chain [1] done processing\n"
     ]
    },
    {
     "name": "stdout",
     "output_type": "stream",
     "text": [
      "It's underpredicted.\n",
      "Monthly Error: 13.36 Period MAE: 8.19\n",
      "It's underpredicted.\n",
      "Monthly Error: 19.59 Period MAE: 16.85\n"
     ]
    },
    {
     "name": "stderr",
     "output_type": "stream",
     "text": [
      "22:52:45 - cmdstanpy - INFO - Chain [1] start processing\n",
      "22:52:45 - cmdstanpy - INFO - Chain [1] done processing\n"
     ]
    },
    {
     "name": "stdout",
     "output_type": "stream",
     "text": [
      "It's underpredicted.\n",
      "Monthly Error: 18.09 Period MAE: 6.7\n",
      "It's underpredicted."
     ]
    },
    {
     "name": "stderr",
     "output_type": "stream",
     "text": [
      "22:52:46 - cmdstanpy - INFO - Chain [1] start processing\n"
     ]
    },
    {
     "name": "stdout",
     "output_type": "stream",
     "text": [
      "\n",
      "Monthly Error: 12.78 Period MAE: 0.02\n"
     ]
    },
    {
     "name": "stderr",
     "output_type": "stream",
     "text": [
      "22:52:46 - cmdstanpy - INFO - Chain [1] start processing\n",
      "22:52:46 - cmdstanpy - INFO - Chain [1] start processing\n",
      "22:52:47 - cmdstanpy - INFO - Chain [1] done processing\n",
      "22:52:47 - cmdstanpy - INFO - Chain [1] done processing\n",
      "22:52:47 - cmdstanpy - INFO - Chain [1] done processing\n"
     ]
    },
    {
     "name": "stdout",
     "output_type": "stream",
     "text": [
      "It's underpredicted.\n",
      "Monthly Error: 16.31 Period MAE: 11.93\n",
      "It's overpredicted."
     ]
    },
    {
     "name": "stderr",
     "output_type": "stream",
     "text": [
      "22:52:49 - cmdstanpy - INFO - Chain [1] start processing\n"
     ]
    },
    {
     "name": "stdout",
     "output_type": "stream",
     "text": [
      "\n",
      "Monthly Error: 12.66 Period MAE: 0.02\n"
     ]
    },
    {
     "name": "stderr",
     "output_type": "stream",
     "text": [
      "22:52:49 - cmdstanpy - INFO - Chain [1] done processing\n"
     ]
    },
    {
     "name": "stdout",
     "output_type": "stream",
     "text": [
      "It's underpredicted.\n",
      "Monthly Error: 18.76 Period MAE: 15.840000000000002\n"
     ]
    },
    {
     "name": "stderr",
     "output_type": "stream",
     "text": [
      "22:52:50 - cmdstanpy - INFO - Chain [1] start processing\n",
      "22:52:50 - cmdstanpy - INFO - Chain [1] done processing\n",
      "22:52:50 - cmdstanpy - INFO - Chain [1] start processing\n",
      "22:52:50 - cmdstanpy - INFO - Chain [1] done processing\n"
     ]
    },
    {
     "name": "stdout",
     "output_type": "stream",
     "text": [
      "It's overpredicted.\n",
      "Monthly Error: 13.37 Period MAE: 0.6799999999999999It's underpredicted.\n",
      "\n",
      "Monthly Error: 17.68 Period MAE: 13.34\n",
      "It's overpredicted.\n",
      "Monthly Error: 16.09 Period MAE: 4.34\n"
     ]
    },
    {
     "name": "stderr",
     "output_type": "stream",
     "text": [
      "22:52:53 - cmdstanpy - INFO - Chain [1] start processing\n",
      "22:52:53 - cmdstanpy - INFO - Chain [1] start processing\n",
      "22:52:53 - cmdstanpy - INFO - Chain [1] start processing\n",
      "22:52:53 - cmdstanpy - INFO - Chain [1] done processing\n",
      "22:52:53 - cmdstanpy - INFO - Chain [1] done processing\n",
      "22:52:53 - cmdstanpy - INFO - Chain [1] done processing\n"
     ]
    },
    {
     "name": "stdout",
     "output_type": "stream",
     "text": [
      "It's overpredicted.\n",
      "Monthly Error: 15.53 Period MAE: 3.88\n"
     ]
    },
    {
     "name": "stderr",
     "output_type": "stream",
     "text": [
      "22:52:54 - cmdstanpy - INFO - Chain [1] start processing\n",
      "22:52:55 - cmdstanpy - INFO - Chain [1] done processing\n"
     ]
    },
    {
     "name": "stdout",
     "output_type": "stream",
     "text": [
      "It's underpredicted.\n",
      "Monthly Error: 15.75 Period MAE: 8.559999999999999\n",
      "It's underpredicted."
     ]
    },
    {
     "name": "stderr",
     "output_type": "stream",
     "text": [
      "22:52:56 - cmdstanpy - INFO - Chain [1] start processing\n"
     ]
    },
    {
     "name": "stdout",
     "output_type": "stream",
     "text": [
      "\n",
      "Monthly Error: 15.56 Period MAE: 11.32\n"
     ]
    },
    {
     "name": "stderr",
     "output_type": "stream",
     "text": [
      "22:52:56 - cmdstanpy - INFO - Chain [1] done processing\n",
      "22:52:57 - cmdstanpy - INFO - Chain [1] start processing\n",
      "22:52:57 - cmdstanpy - INFO - Chain [1] done processing\n"
     ]
    },
    {
     "name": "stdout",
     "output_type": "stream",
     "text": [
      "It's overpredicted.\n",
      "Monthly Error: 16.07 Period MAE: 4.46\n",
      "It's underpredicted.\n",
      "Monthly Error:It's overpredicted. \n",
      "Monthly Error:18.87  23.43 Period MAE:Period MAE:  15.12999999999999912.889999999999999\n",
      "\n"
     ]
    },
    {
     "name": "stderr",
     "output_type": "stream",
     "text": [
      "22:52:59 - cmdstanpy - INFO - Chain [1] start processing\n",
      "22:52:59 - cmdstanpy - INFO - Chain [1] start processing\n",
      "22:52:59 - cmdstanpy - INFO - Chain [1] done processing\n",
      "22:52:59 - cmdstanpy - INFO - Chain [1] done processing\n",
      "22:53:00 - cmdstanpy - INFO - Chain [1] start processing\n"
     ]
    },
    {
     "name": "stdout",
     "output_type": "stream",
     "text": [
      "It's underpredicted."
     ]
    },
    {
     "name": "stderr",
     "output_type": "stream",
     "text": [
      "22:53:00 - cmdstanpy - INFO - Chain [1] done processing\n"
     ]
    },
    {
     "name": "stdout",
     "output_type": "stream",
     "text": [
      "\n",
      "Monthly Error: 16.76 Period MAE:It's overpredicted.\n",
      " Monthly Error:10.91 23.1 \n",
      "Period MAE: 12.620000000000001\n"
     ]
    },
    {
     "name": "stderr",
     "output_type": "stream",
     "text": [
      "22:53:01 - cmdstanpy - INFO - Chain [1] start processing\n",
      "22:53:01 - cmdstanpy - INFO - Chain [1] done processing\n",
      "22:53:01 - cmdstanpy - INFO - Chain [1] start processing\n"
     ]
    },
    {
     "name": "stdout",
     "output_type": "stream",
     "text": [
      "It's underpredicted.\n",
      "Monthly Error: 15.29 Period MAE: "
     ]
    },
    {
     "name": "stderr",
     "output_type": "stream",
     "text": [
      "22:53:52 - cmdstanpy - INFO - Chain [1] done processing\n",
      "22:53:53 - cmdstanpy - INFO - Chain [1] start processing\n",
      "22:53:53 - cmdstanpy - INFO - Chain [1] done processing\n"
     ]
    },
    {
     "name": "stdout",
     "output_type": "stream",
     "text": [
      "It's overpredicted.\n",
      "Monthly Error: 27.65 Period MAE: 19.17\n"
     ]
    },
    {
     "name": "stderr",
     "output_type": "stream",
     "text": [
      "22:53:54 - cmdstanpy - INFO - Chain [1] start processing\n",
      "22:53:54 - cmdstanpy - INFO - Chain [1] done processing\n"
     ]
    },
    {
     "name": "stdout",
     "output_type": "stream",
     "text": [
      "It's underpredicted.\n",
      "Monthly Error: 14.44 Period MAE: 5.19\n",
      "It's underpredicted.\n",
      "Monthly Error: 13.06 Period MAE: 8.12\n"
     ]
    },
    {
     "name": "stderr",
     "output_type": "stream",
     "text": [
      "22:53:55 - cmdstanpy - INFO - Chain [1] start processing\n",
      "22:53:55 - cmdstanpy - INFO - Chain [1] start processing\n",
      "22:53:55 - cmdstanpy - INFO - Chain [1] done processing\n",
      "22:53:56 - cmdstanpy - INFO - Chain [1] done processing\n"
     ]
    },
    {
     "name": "stdout",
     "output_type": "stream",
     "text": [
      "It's underpredicted.\n",
      "Monthly Error:It's underpredicted. \n",
      "18.64 Monthly Error:Period MAE: 17.669999999999998\n",
      " 14.98 Period MAE: 7.9799999999999995\n",
      "It's overpredicted.\n",
      "Monthly Error: 26.49 Period MAE: 18.19\n"
     ]
    },
    {
     "name": "stderr",
     "output_type": "stream",
     "text": [
      "22:53:58 - cmdstanpy - INFO - Chain [1] start processing\n",
      "22:53:58 - cmdstanpy - INFO - Chain [1] start processing\n",
      "22:53:59 - cmdstanpy - INFO - Chain [1] done processing\n",
      "22:53:59 - cmdstanpy - INFO - Chain [1] start processing\n",
      "22:53:59 - cmdstanpy - INFO - Chain [1] done processing\n",
      "22:53:59 - cmdstanpy - INFO - Chain [1] done processing\n"
     ]
    },
    {
     "name": "stdout",
     "output_type": "stream",
     "text": [
      "It's underpredicted.\n",
      "Monthly Error: 18.32 Period MAE: 17.5\n",
      "It's underpredicted.\n",
      "Monthly Error: 17.66"
     ]
    },
    {
     "name": "stderr",
     "output_type": "stream",
     "text": [
      "22:54:00 - cmdstanpy - INFO - Chain [1] start processing\n"
     ]
    },
    {
     "name": "stdout",
     "output_type": "stream",
     "text": [
      " Period MAE: 13.55\n"
     ]
    },
    {
     "name": "stderr",
     "output_type": "stream",
     "text": [
      "22:54:00 - cmdstanpy - INFO - Chain [1] done processing\n",
      "22:54:01 - cmdstanpy - INFO - Chain [1] start processing\n",
      "22:54:01 - cmdstanpy - INFO - Chain [1] done processing\n"
     ]
    },
    {
     "name": "stdout",
     "output_type": "stream",
     "text": [
      "It's underpredicted.\n",
      "Monthly Error: 12.88 Period MAE: 7.140000000000001\n"
     ]
    },
    {
     "name": "stderr",
     "output_type": "stream",
     "text": [
      "22:54:03 - cmdstanpy - INFO - Chain [1] start processing\n",
      "22:54:04 - cmdstanpy - INFO - Chain [1] done processing\n"
     ]
    },
    {
     "name": "stdout",
     "output_type": "stream",
     "text": [
      "It's underpredicted.\n",
      "Monthly Error: 18.1 Period MAE: 14.399999999999999\n",
      "It's underpredicted.\n",
      "Monthly Error: 12.71 Period MAE: 0.83\n",
      "It's underpredicted.\n",
      "Monthly Error: 18.79 Period MAE: 16.93\n"
     ]
    },
    {
     "name": "stderr",
     "output_type": "stream",
     "text": [
      "22:54:05 - cmdstanpy - INFO - Chain [1] start processing\n",
      "22:54:06 - cmdstanpy - INFO - Chain [1] done processing\n",
      "22:54:06 - cmdstanpy - INFO - Chain [1] start processing\n",
      "22:54:06 - cmdstanpy - INFO - Chain [1] start processing\n",
      "22:54:06 - cmdstanpy - INFO - Chain [1] done processing\n",
      "22:54:07 - cmdstanpy - INFO - Chain [1] done processing\n"
     ]
    },
    {
     "name": "stdout",
     "output_type": "stream",
     "text": [
      "It's underpredicted.\n",
      "Monthly Error: 16.12 Period MAE: 10.290000000000001\n",
      "It's underpredicted.\n",
      "Monthly Error: 12.96 Period MAE: 1.78"
     ]
    },
    {
     "name": "stderr",
     "output_type": "stream",
     "text": [
      "22:54:08 - cmdstanpy - INFO - Chain [1] start processing\n"
     ]
    },
    {
     "name": "stdout",
     "output_type": "stream",
     "text": [
      "\n"
     ]
    },
    {
     "name": "stderr",
     "output_type": "stream",
     "text": [
      "22:54:08 - cmdstanpy - INFO - Chain [1] done processing\n",
      "22:54:08 - cmdstanpy - INFO - Chain [1] start processing\n"
     ]
    },
    {
     "name": "stdout",
     "output_type": "stream",
     "text": [
      "It's underpredicted.\n",
      "Monthly Error: 17.35 Period MAE:"
     ]
    },
    {
     "name": "stderr",
     "output_type": "stream",
     "text": [
      "22:54:09 - cmdstanpy - INFO - Chain [1] done processing\n"
     ]
    },
    {
     "name": "stdout",
     "output_type": "stream",
     "text": [
      " 13.139999999999999\n"
     ]
    },
    {
     "name": "stderr",
     "output_type": "stream",
     "text": [
      "22:54:10 - cmdstanpy - INFO - Chain [1] start processing\n",
      "22:54:10 - cmdstanpy - INFO - Chain [1] done processing\n"
     ]
    },
    {
     "name": "stdout",
     "output_type": "stream",
     "text": [
      "It's underpredicted.It's underpredicted.\n",
      "\n",
      "Monthly Error: Monthly Error: 16.5112.82  Period MAE:Period MAE:  11.280.5599999999999999\n",
      "\n",
      "It's overpredicted.\n",
      "Monthly Error: 16.72 Period MAE: 5.21\n"
     ]
    },
    {
     "name": "stderr",
     "output_type": "stream",
     "text": [
      "22:54:12 - cmdstanpy - INFO - Chain [1] start processing\n",
      "22:54:12 - cmdstanpy - INFO - Chain [1] start processing\n",
      "22:54:13 - cmdstanpy - INFO - Chain [1] done processing\n",
      "22:54:13 - cmdstanpy - INFO - Chain [1] start processing\n",
      "22:54:13 - cmdstanpy - INFO - Chain [1] done processing\n",
      "22:54:13 - cmdstanpy - INFO - Chain [1] done processing\n"
     ]
    },
    {
     "name": "stdout",
     "output_type": "stream",
     "text": [
      "It's overpredicted.\n",
      "Monthly Error: 16.4 Period MAE: 4.84\n",
      "It's underpredicted.\n",
      "Monthly Error: 17.88 Period MAE: 14.12\n"
     ]
    },
    {
     "name": "stderr",
     "output_type": "stream",
     "text": [
      "22:54:15 - cmdstanpy - INFO - Chain [1] start processing\n",
      "22:54:15 - cmdstanpy - INFO - Chain [1] done processing\n"
     ]
    },
    {
     "name": "stdout",
     "output_type": "stream",
     "text": [
      "It's underpredicted."
     ]
    },
    {
     "name": "stderr",
     "output_type": "stream",
     "text": [
      "22:54:15 - cmdstanpy - INFO - Chain [1] start processing\n"
     ]
    },
    {
     "name": "stdout",
     "output_type": "stream",
     "text": [
      "\n",
      "Monthly Error: 15.29 Period MAE: 9.569999999999999\n"
     ]
    },
    {
     "name": "stderr",
     "output_type": "stream",
     "text": [
      "22:54:16 - cmdstanpy - INFO - Chain [1] done processing\n"
     ]
    },
    {
     "name": "stdout",
     "output_type": "stream",
     "text": [
      "It's overpredicted.\n"
     ]
    },
    {
     "name": "stderr",
     "output_type": "stream",
     "text": [
      "22:54:16 - cmdstanpy - INFO - Chain [1] start processing\n"
     ]
    },
    {
     "name": "stdout",
     "output_type": "stream",
     "text": [
      "Monthly Error: 16.13 Period MAE: 4.5\n"
     ]
    },
    {
     "name": "stderr",
     "output_type": "stream",
     "text": [
      "22:54:16 - cmdstanpy - INFO - Chain [1] done processing\n",
      "22:54:17 - cmdstanpy - INFO - Chain [1] start processing\n"
     ]
    },
    {
     "name": "stdout",
     "output_type": "stream",
     "text": [
      "It's underpredicted.\n",
      "Monthly Error: 17.28 Period MAE: 12.31\n"
     ]
    },
    {
     "name": "stderr",
     "output_type": "stream",
     "text": [
      "22:54:18 - cmdstanpy - INFO - Chain [1] done processing\n"
     ]
    },
    {
     "name": "stdout",
     "output_type": "stream",
     "text": [
      "It's overpredicted.\n",
      "Monthly Error: 16.71 Period MAE: 5.36\n"
     ]
    },
    {
     "name": "stderr",
     "output_type": "stream",
     "text": [
      "22:54:19 - cmdstanpy - INFO - Chain [1] start processing\n",
      "22:54:19 - cmdstanpy - INFO - Chain [1] done processing\n",
      "22:54:19 - cmdstanpy - INFO - Chain [1] start processing\n",
      "22:54:20 - cmdstanpy - INFO - Chain [1] done processing\n"
     ]
    },
    {
     "name": "stdout",
     "output_type": "stream",
     "text": [
      "It's overpredicted.\n",
      "Monthly Error: 17.79 Period MAE: 6.569999999999999\n",
      "It's underpredicted.\n",
      "It's underpredicted.Monthly Error:\n",
      " Monthly Error:18.2 16.4  Period MAE:Period MAE:  14.86000000000000111.01"
     ]
    },
    {
     "name": "stderr",
     "output_type": "stream",
     "text": [
      "22:54:21 - cmdstanpy - INFO - Chain [1] start processing\n"
     ]
    },
    {
     "name": "stdout",
     "output_type": "stream",
     "text": [
      "\n",
      "\n"
     ]
    },
    {
     "name": "stderr",
     "output_type": "stream",
     "text": [
      "22:54:21 - cmdstanpy - INFO - Chain [1] start processing\n",
      "22:54:21 - cmdstanpy - INFO - Chain [1] done processing\n",
      "22:54:22 - cmdstanpy - INFO - Chain [1] start processing\n",
      "22:54:22 - cmdstanpy - INFO - Chain [1] done processing\n",
      "22:54:22 - cmdstanpy - INFO - Chain [1] done processing\n"
     ]
    },
    {
     "name": "stdout",
     "output_type": "stream",
     "text": [
      "It's underpredicted.\n",
      "Monthly Error: 19.13 Period MAE: 16.7\n",
      "It's overpredicted.\n",
      "Monthly Error: 17.6 Period MAE: 6.529999999999999\n"
     ]
    },
    {
     "name": "stderr",
     "output_type": "stream",
     "text": [
      "22:54:24 - cmdstanpy - INFO - Chain [1] start processing\n"
     ]
    },
    {
     "name": "stdout",
     "output_type": "stream",
     "text": [
      "It's underpredicted.\n",
      "Monthly Error: 17.52 Period MAE: 18.11\n"
     ]
    },
    {
     "name": "stderr",
     "output_type": "stream",
     "text": [
      "22:54:25 - cmdstanpy - INFO - Chain [1] start processing\n"
     ]
    },
    {
     "name": "stdout",
     "output_type": "stream",
     "text": [
      "It's underpredicted.\n",
      "Monthly Error: 17.33 Period MAE: 17.76\n"
     ]
    },
    {
     "name": "stderr",
     "output_type": "stream",
     "text": [
      "22:54:25 - cmdstanpy - INFO - Chain [1] done processing\n",
      "22:54:25 - cmdstanpy - INFO - Chain [1] start processing\n",
      "22:54:25 - cmdstanpy - INFO - Chain [1] done processing\n",
      "22:54:26 - cmdstanpy - INFO - Chain [1] start processing\n",
      "22:54:26 - cmdstanpy - INFO - Chain [1] done processing\n",
      "22:54:26 - cmdstanpy - INFO - Chain [1] done processing\n"
     ]
    },
    {
     "name": "stdout",
     "output_type": "stream",
     "text": [
      "It's underpredicted.\n",
      "Monthly Error: 16.25 Period MAE: 10.65\n",
      "It's underpredicted.\n",
      "Monthly Error: 17.32 Period MAE: 12.83\n"
     ]
    },
    {
     "name": "stderr",
     "output_type": "stream",
     "text": [
      "22:54:28 - cmdstanpy - INFO - Chain [1] start processing\n",
      "22:54:28 - cmdstanpy - INFO - Chain [1] done processing\n",
      "22:54:28 - cmdstanpy - INFO - Chain [1] start processing\n",
      "22:54:28 - cmdstanpy - INFO - Chain [1] done processing\n"
     ]
    },
    {
     "name": "stdout",
     "output_type": "stream",
     "text": [
      "It's overpredicted.\n",
      "Monthly Error: 13.95 It's underpredicted.\n",
      "Period MAE: Monthly Error:0.36 \n",
      "16.45 Period MAE: 10.99\n",
      "It's underpredicted.\n",
      "Monthly Error: 17.39 Period MAE: 18.09\n"
     ]
    },
    {
     "name": "stderr",
     "output_type": "stream",
     "text": [
      "22:54:31 - cmdstanpy - INFO - Chain [1] start processing\n",
      "22:54:31 - cmdstanpy - INFO - Chain [1] done processing\n",
      "22:54:31 - cmdstanpy - INFO - Chain [1] start processing\n",
      "22:54:31 - cmdstanpy - INFO - Chain [1] start processing\n",
      "22:54:31 - cmdstanpy - INFO - Chain [1] done processing\n",
      "22:54:32 - cmdstanpy - INFO - Chain [1] done processing\n"
     ]
    },
    {
     "name": "stdout",
     "output_type": "stream",
     "text": [
      "It's overpredicted.\n",
      "Monthly Error: 13.94 Period MAE:It's underpredicted. \n",
      "0.32Monthly Error:\n",
      " 16.82 Period MAE: 11.28\n"
     ]
    },
    {
     "name": "stderr",
     "output_type": "stream",
     "text": [
      "22:54:33 - cmdstanpy - INFO - Chain [1] start processing\n",
      "22:54:33 - cmdstanpy - INFO - Chain [1] done processing\n",
      "22:54:34 - cmdstanpy - INFO - Chain [1] start processing\n",
      "22:54:34 - cmdstanpy - INFO - Chain [1] done processing\n"
     ]
    },
    {
     "name": "stdout",
     "output_type": "stream",
     "text": [
      "It's underpredicted.\n",
      "Monthly Error: 16.79 Period MAE: 13.08\n"
     ]
    },
    {
     "name": "stderr",
     "output_type": "stream",
     "text": [
      "22:54:35 - cmdstanpy - INFO - Chain [1] start processing\n",
      "22:54:35 - cmdstanpy - INFO - Chain [1] done processing\n"
     ]
    },
    {
     "name": "stdout",
     "output_type": "stream",
     "text": [
      "It's underpredicted.\n",
      "Monthly Error: 16.77 Period MAE: 10.81\n",
      "It's overpredicted.\n",
      "Monthly Error: 13.89 Period MAE: 0.21\n",
      "It's underpredicted.\n",
      "Monthly Error: 15.49 Period MAE: 10.03"
     ]
    }
   ],
   "source": [
    "# %load_ext autoreload\n",
    "# %autoreload 2\n",
    "# search_engine = ProphetParameterSearch(power_flag = False) # , logistic_flag = False\n",
    "# # search_engine.add_power_params()\n",
    "# grid_brand = search_engine.search(cuts_df, df_filled)\n",
    "# #grid_bing = search_engine.search(cuts_df[(cuts_df.index==0)], df_filled)\n",
    "\n",
    "# %load_ext autoreload\n",
    "# %autoreload 2\n",
    "search_engine = ProphetParameterSearch(param_grid=param_grid, power_flag = False, base_path=base_path) # \n",
    "# search_engine.add_power_params() # consider using it when the basic setting won't get you good results\n",
    "# Mobile\n",
    "grid_brand_mobile = search_engine.search(cuts_df_mobile, df_filled) #competitor and bing generic"
   ]
  },
  {
   "cell_type": "code",
   "execution_count": null,
   "id": "3ad1e939-12b8-4476-b32b-29033430e20d",
   "metadata": {
    "tags": []
   },
   "outputs": [
    {
     "name": "stderr",
     "output_type": "stream",
     "text": [
      "  0%|          | 0/1 [00:00<?, ?it/s]"
     ]
    }
   ],
   "source": [
    "# %load_ext autoreload\n",
    "# %autoreload 2\n",
    "# search_engine = ProphetParameterSearch(power_flag = False) # , logistic_flag = False\n",
    "# # search_engine.add_power_params()\n",
    "# grid_brand = search_engine.search(cuts_df, df_filled)\n",
    "# #grid_bing = search_engine.search(cuts_df[(cuts_df.index==0)], df_filled)\n",
    "\n",
    "# %load_ext autoreload\n",
    "# %autoreload 2\n",
    "search_engine = ProphetParameterSearch(param_grid=param_grid, power_flag = False, base_path=base_path) # \n",
    "# search_engine.add_power_params() # consider using it when the basic setting won't get you good results\n",
    "# Desktop\n",
    "grid_brand_desktop = search_engine.search(cuts_df_desktop, df_filled) #competitor and bing generic"
   ]
  },
  {
   "cell_type": "code",
   "execution_count": 43,
   "id": "1d399504-4f11-42a4-bc87-ef67f2407e29",
   "metadata": {
    "tags": []
   },
   "outputs": [],
   "source": [
    "# Read the two CSV files\n",
    "df_desktop = pd.read_csv('record_df 2024-05-29 18:31:54.csv')\n",
    "df_mobile = pd.read_csv('record_df 2024-05-29 18:16:27.csv')\n",
    "\n",
    "df_best_desktop = pd.read_csv('record_df 2024-05-29 18:31:54 best result.csv')\n",
    "df_best_mobile = pd.read_csv('record_df 2024-05-29 18:16:27 best result.csv')\n",
    "\n",
    "# Append the second dataframe to the first one\n",
    "#combined_df = df_desktop.concat(df_mobile)\n",
    "#combined_best_df = df_best_desktop.concat(df_best_mobile)\n",
    "combined_df = pd.concat([df_desktop, df_mobile], ignore_index=True)\n",
    "combined_best_df = pd.concat([df_best_desktop, df_best_mobile], ignore_index=True)\n",
    "\n",
    "# Save the combined dataframe to a new CSV file\n",
    "combined_df.to_csv('results record_df 2024-05-29 18:41:32.csv', index=False)\n",
    "combined_best_df.to_csv('best result record_df 2024-05-29 18:41:32.csv', index=False)"
   ]
  },
  {
   "cell_type": "code",
   "execution_count": 44,
   "id": "fe325087-370e-473f-a8a2-7915d3abe135",
   "metadata": {
    "tags": []
   },
   "outputs": [
    {
     "data": {
      "text/plain": [
       "0    90.35\n",
       "1    88.05\n",
       "Name: MAPE, dtype: float64"
      ]
     },
     "execution_count": 44,
     "metadata": {},
     "output_type": "execute_result"
    }
   ],
   "source": [
    "Acc_best_ = 100-combined_best_df['MAPE']; Acc_best_"
   ]
  },
  {
   "cell_type": "code",
   "execution_count": 45,
   "id": "5ad10d90-1d05-43fa-87b4-d2c67b4a2695",
   "metadata": {
    "tags": []
   },
   "outputs": [],
   "source": [
    "# Remove duplicate entries from index\n",
    "#accuracy_df = accuracy_df.drop_duplicates(subset=['Month', query_item_list])\n",
    "\n",
    "subset_columns = ['Month'] + query_item_list\n",
    "\n",
    "accuracy_df = accuracy_df.drop_duplicates(subset=subset_columns)\n",
    "\n",
    "# Pivot the data\n",
    "#df_for_plt = accuracy_df.drop(['Actual', 'Forecast', 'MAPE', 'Forecast Period MAE', 'Predict Status'], axis=1).pivot(index='Month', columns=query_item_list, values='Percentage Error')"
   ]
  },
  {
   "cell_type": "code",
   "execution_count": 46,
   "id": "758d92f8-a3fe-4e77-bbd6-e1350e3595de",
   "metadata": {
    "tags": []
   },
   "outputs": [],
   "source": [
    "df_for_plt = accuracy_df.drop(['Actual', 'Forecast', 'MAPE', 'Forecast Period MAE', 'Predict Status'], axis=1).pivot(index = 'Month', columns = (query_item_list), values = 'Percentage Error')"
   ]
  },
  {
   "cell_type": "code",
   "execution_count": 47,
   "id": "096fcf46",
   "metadata": {
    "tags": []
   },
   "outputs": [
    {
     "data": {
      "image/png": "[encoded data removed]",
      "text/plain": [
       "<Figure size 1000x300 with 1 Axes>"
      ]
     },
     "metadata": {},
     "output_type": "display_data"
    }
   ],
   "source": [
    "plot_printer = PlotAndSaveAccuracyDf()\n",
    "fig = plot_printer.Plot(df_for_plt)\n",
    "plot_name = \"Accuracy_By_Month.jpg\"\n",
    "%load_ext autoreload\n",
    "%autoreload 2"
   ]
  },
  {
   "cell_type": "code",
   "execution_count": 48,
   "id": "804d256c-7052-46e8-bfda-9fb2b7090ec0",
   "metadata": {
    "tags": []
   },
   "outputs": [
    {
     "name": "stdout",
     "output_type": "stream",
     "text": [
      "ups_bj_cost_by_device_optimization/India/reg/jun_2024_upd/Accuracy_By_Month.jpg\n",
      "Image saved: ups_bj_cost_by_device_optimization/India/reg/jun_2024_upd/Accuracy_By_Month.jpg\n"
     ]
    }
   ],
   "source": [
    "#fig.savefig(plot_name)\n",
    "plot_printer.SaveToGCS(output_bucket,  plot_name, folder_name)"
   ]
  },
  {
   "cell_type": "code",
   "execution_count": 40,
   "id": "9a41fdd4",
   "metadata": {
    "tags": []
   },
   "outputs": [],
   "source": [
    "# min_score = grid_competitor[(grid_competitor['account_type'] == 'Bing Ads')&(grid_competitor['funnel'] == 'Competitor')]['MAPE'].min()\n",
    "\n",
    "# best_setting_df = grid_competitor[(grid_competitor['account_type'] == 'Bing Ads')&(grid_competitor['funnel'] == 'Competitor')\\\n",
    "#                                           &(grid_competitor['MAPE'] == min_score)]"
   ]
  },
  {
   "cell_type": "code",
   "execution_count": 22,
   "id": "e890d1f4",
   "metadata": {
    "tags": []
   },
   "outputs": [],
   "source": [
    "# search_engine = ProphetParameterSearch()\n",
    "# search_engine.add_power_params(num=5)\n",
    "# df1, df2 = search_engine.search(cuts_df, df_filled)\n",
    "# df2.to_csv('best_setting_df.csv')\n",
    "# df1.to_csv('all_setting_result_acc_df.csv')  "
   ]
  },
  {
   "cell_type": "code",
   "execution_count": 23,
   "id": "eb2451e3",
   "metadata": {
    "tags": []
   },
   "outputs": [],
   "source": [
    "# new_cuts_df = pd.read_csv('US Model Setting.csv')\n",
    "# cuts_df_col_ls = ['market', 'account_type', 'funnel', 'starting_date', 'cutoff_month', 'periods', 'periods_for_acc_cal']\n",
    "# new_cuts_df = new_cuts_df.merge(cuts_df[cuts_df_col_ls], how = 'left', on = ['market', 'account_type', 'funnel'])\n",
    "\n",
    "# new_cuts_df.to_csv(config_dict['CLIENTINFO']['country'] + ' Breakdown.csv')\n",
    "# generator = BreakdownSettingFileGenerator()\n",
    "# new_cuts_df = generator.Generate(daily_df, config_dict, new_cuts_df)\n",
    "# new_cuts_df = generator.Update()\n",
    "# generator.SaveFile(bucket_name, folder_name, 'cuts_df.csv')\n",
    "# new_cuts_df"
   ]
  },
  {
   "cell_type": "code",
   "execution_count": 24,
   "id": "98f054af",
   "metadata": {
    "tags": []
   },
   "outputs": [],
   "source": [
    "# new_cuts_df.to_csv('cuts_df.csv')"
   ]
  },
  {
   "cell_type": "code",
   "execution_count": 42,
   "id": "8603df74",
   "metadata": {
    "tags": []
   },
   "outputs": [],
   "source": [
    "# calculator = AccuracyCalculator()\n",
    "# accuracy_df = calculator.CalculateAccuracy(new_cuts_df, df, query_item_list)\n",
    "# # %load_ext autoreload\n",
    "# # %autoreload 2\n",
    "# calculator.SaveFile(bucket_name, folder_name, 'Finalized Model Score.csv')\n",
    "# accuracy_df"
   ]
  },
  {
   "cell_type": "code",
   "execution_count": 58,
   "id": "3126eebe",
   "metadata": {
    "tags": []
   },
   "outputs": [],
   "source": [
    "# import json\n",
    "# param_search_dict = {'power': 5,\n",
    "#                      'growth': ['linear', 'logistic', 'power'],\n",
    "#                     'seasonality_mode': ['additive', 'multiplicative'],\n",
    "#                     'input_mode': ['additive', 'multiplicative'],\n",
    "#                     'include_holiday': ['NA', 'Custom', 'Default'],\n",
    "#                     'weekday_or_weekend': ['NA', 'additive', 'multiplicative'],\n",
    "#                     'covid_year_exclude': ['Exclude', 'na'],\n",
    "#                     'covid_year_dummy': ['NA', 'additive', 'multiplicative'],\n",
    "#                     'anomaly_2021':['NA', 'additive', 'multiplicative'],\n",
    "#                     }\n",
    "# with open(\"param serach.json\", \"w\") as outfile:\n",
    "#     json.dump(param_search_dict, outfile)"
   ]
  },
  {
   "cell_type": "code",
   "execution_count": 59,
   "id": "6c484d4b",
   "metadata": {
    "tags": []
   },
   "outputs": [],
   "source": [
    "# param_search_f = open(\"param serach.json\")\n",
    "# param_search_dict = json.load(param_search_f)\n",
    "# power_number = int(param_search_dict['power']) \n",
    "# param_search_dict = {k: v for i, (k, v) in enumerate(param_search_dict.items()) if i > 1}\n",
    "# power_number, param_search_dict"
   ]
  },
  {
   "cell_type": "code",
   "execution_count": 60,
   "id": "49f6ba96",
   "metadata": {
    "tags": []
   },
   "outputs": [],
   "source": [
    "# import itertools\n",
    "# list(itertools.product(*param_search_dict.values()))\n",
    "# list(param_search_dict.keys())"
   ]
  },
  {
   "cell_type": "markdown",
   "id": "ccc21532",
   "metadata": {},
   "source": [
    "# Model Generator"
   ]
  },
  {
   "cell_type": "code",
   "execution_count": 18,
   "id": "50ac10ba",
   "metadata": {
    "tags": []
   },
   "outputs": [
    {
     "name": "stderr",
     "output_type": "stream",
     "text": [
      "/opt/conda/lib/python3.10/site-packages/holidays/countries/india.py:100: Warning: Diwali and Holi holidays available from 2001 to 2030 only\n",
      "  warnings.warn(warning_msg, Warning)\n",
      "03:58:54 - cmdstanpy - INFO - Chain [1] start processing\n",
      "03:58:54 - cmdstanpy - INFO - Chain [1] done processing\n",
      "03:58:55 - cmdstanpy - INFO - Chain [1] start processing\n",
      "03:58:55 - cmdstanpy - INFO - Chain [1] done processing\n"
     ]
    }
   ],
   "source": [
    "# %load_ext autoreload\n",
    "# %autoreload 2\n",
    "# model_generator = GenerateModelFile()\n",
    "# model_generator.Generate(cuts_df, df_filled, query_item_list, output_bucket, folder_name)\n",
    "\n",
    "# %load_ext autoreload\n",
    "# %autoreload \n",
    "model_generator = GenerateModelFile()\n",
    "model_generator.Generate(cuts_df, df_filled , query_item_list, output_bucket, folder_name, base_path=base_path)"
   ]
  },
  {
   "cell_type": "markdown",
   "id": "d92338c0",
   "metadata": {},
   "source": [
    "# Constraint Setting"
   ]
  },
  {
   "cell_type": "code",
   "execution_count": 14,
   "id": "68436db0-20c2-4211-b98e-54570603c515",
   "metadata": {
    "tags": []
   },
   "outputs": [
    {
     "name": "stdout",
     "output_type": "stream",
     "text": [
      "Data Frame file saved\n"
     ]
    }
   ],
   "source": [
    "bounds = cuts_df.copy()\n",
    "bounds['MinWeight'] = 0.8\n",
    "bounds['MaxWeight'] = 1.2\n",
    "bounds\n",
    "\n",
    "# %load_ext autoreload\n",
    "# %autoreload 2\n",
    "constraint_file_generator = ConstraintFileGenerator(config_dict, analytical_file_df)\n",
    "constraint_file = constraint_file_generator.Generate(bounds)\n",
    "constraint_file.loc[constraint_file['Month'].isin(['Nov']), 'MinWeight'] = 0.9\n",
    "constraint_file.loc[constraint_file['Month'].isin(['Nov']), 'MaxWeight'] = 1.0\n",
    "constraint_file_generator.SaveFile(output_bucket, folder_name, constraint_file_name)"
   ]
  },
  {
   "cell_type": "code",
   "execution_count": 20,
   "id": "0d96d301",
   "metadata": {},
   "outputs": [],
   "source": [
    "#constraint_file.to_csv('Constrain File.csv')\n",
    "#constrain_file_generator.SaveFile(output_bucket, folder_name, 'Constraint File.csv')"
   ]
  },
  {
   "cell_type": "code",
   "execution_count": 21,
   "id": "69b816bf-aa13-4980-8721-4195d32ace2d",
   "metadata": {
    "tags": []
   },
   "outputs": [
    {
     "data": {
      "text/html": [
       "<div>\n",
       "<style scoped>\n",
       "    .dataframe tbody tr th:only-of-type {\n",
       "        vertical-align: middle;\n",
       "    }\n",
       "\n",
       "    .dataframe tbody tr th {\n",
       "        vertical-align: top;\n",
       "    }\n",
       "\n",
       "    .dataframe thead th {\n",
       "        text-align: right;\n",
       "    }\n",
       "</style>\n",
       "<table border=\"1\" class=\"dataframe\">\n",
       "  <thead>\n",
       "    <tr style=\"text-align: right;\">\n",
       "      <th></th>\n",
       "      <th>X</th>\n",
       "      <th>y</th>\n",
       "      <th>weekday_or_weekend</th>\n",
       "      <th>floor</th>\n",
       "      <th>AOV</th>\n",
       "      <th>ROAS</th>\n",
       "      <th>cap</th>\n",
       "    </tr>\n",
       "    <tr>\n",
       "      <th>region</th>\n",
       "      <th></th>\n",
       "      <th></th>\n",
       "      <th></th>\n",
       "      <th></th>\n",
       "      <th></th>\n",
       "      <th></th>\n",
       "      <th></th>\n",
       "    </tr>\n",
       "  </thead>\n",
       "  <tbody>\n",
       "    <tr>\n",
       "      <th>EMEA</th>\n",
       "      <td>12757.95</td>\n",
       "      <td>1339.0</td>\n",
       "      <td>4</td>\n",
       "      <td>0</td>\n",
       "      <td>1597.410979</td>\n",
       "      <td>188.279127</td>\n",
       "      <td>1771.528473</td>\n",
       "    </tr>\n",
       "  </tbody>\n",
       "</table>\n",
       "</div>"
      ],
      "text/plain": [
       "               X       y  weekday_or_weekend  floor          AOV        ROAS  \\\n",
       "region                                                                         \n",
       "EMEA    12757.95  1339.0                   4      0  1597.410979  188.279127   \n",
       "\n",
       "                cap  \n",
       "region               \n",
       "EMEA    1771.528473  "
      ]
     },
     "execution_count": 21,
     "metadata": {},
     "output_type": "execute_result"
    }
   ],
   "source": [
    "df_filled[(df_filled.ds>='2024-01-01')&(df_filled.ds<='2024-01-10')].groupby(by='region').sum(numeric_only=1)"
   ]
  },
  {
   "cell_type": "code",
   "execution_count": 29,
   "id": "9ca87871-be50-405e-8d54-c4cb03085bda",
   "metadata": {},
   "outputs": [],
   "source": [
    "# # cuts_df.loc[5, 'growth'] = 'linear'\n",
    "# for i in cuts_df.itertuples():\n",
    "#     pass\n",
    "\n",
    "# import pickle\n",
    "# from repo.Accuracy import MakeFuture\n",
    "# file_name = \"UK Mobile & Tablet -.pkl\"\n",
    "# pickle_file_path = base_path + file_name\n",
    "# pickle_in = open(pickle_file_path,'rb') \n",
    "# # unpickled model is the model to use, training_dataset is used to get historical spend\n",
    "# unpickled_model, training_dataset, model_df = pickle.load(pickle_in)\n",
    "\n",
    "# analytical_file_copy = analytical_file_df.copy()\n",
    "# market = 'UK'\n",
    "# account_type = 'Mobile & Tablet'\n",
    "# funnel = '-'\n",
    "\n",
    "# spend_df_for_forecast = analytical_file_copy[(analytical_file_copy['market'] == market) & (analytical_file_copy['account_type'] == account_type) & \\\n",
    "#                                              (analytical_file_copy['funnel'] == funnel)].copy()\n",
    "# spend_df_for_forecast['ds'] = pd.to_datetime(spend_df_for_forecast.ds)\n",
    "\n",
    "# future = MakeFuture(unpickled_model, training_dataset, i, 183, spend_df_for_forecast)\n",
    "# # print(training_dataset.ds.max(), i)\n",
    "# forecast = unpickled_model.predict(future)\n",
    "# unpickled_model.plot_components(forecast)\n",
    "\n",
    "# from prophet.plot import plot_plotly, plot_components_plotly\n",
    "\n",
    "# plot_plotly(unpickled_model, forecast)"
   ]
  },
  {
   "cell_type": "code",
   "execution_count": null,
   "id": "46624486-5fb9-449e-8518-f3cc00f59472",
   "metadata": {},
   "outputs": [],
   "source": []
  }
 ],
 "metadata": {
  "environment": {
   "kernel": "conda-base-py",
   "name": "workbench-notebooks.m120",
   "type": "gcloud",
   "uri": "us-docker.pkg.dev/deeplearning-platform-release/gcr.io/workbench-notebooks:m120"
  },
  "kernelspec": {
   "display_name": "Python 3 (ipykernel) (Local)",
   "language": "python",
   "name": "conda-base-py"
  },
  "language_info": {
   "codemirror_mode": {
    "name": "ipython",
    "version": 3
   },
   "file_extension": ".py",
   "mimetype": "text/x-python",
   "name": "python",
   "nbconvert_exporter": "python",
   "pygments_lexer": "ipython3",
   "version": "3.10.14"
  }
 },
 "nbformat": 4,
 "nbformat_minor": 5
}
