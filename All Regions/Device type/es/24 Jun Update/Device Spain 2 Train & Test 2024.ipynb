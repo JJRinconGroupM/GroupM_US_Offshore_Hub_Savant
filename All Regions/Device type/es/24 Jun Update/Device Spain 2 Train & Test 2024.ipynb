{
 "cells": [
  {
   "cell_type": "code",
   "execution_count": 1,
   "id": "106a9eda-3059-4701-b0b6-415dcb38b5d0",
   "metadata": {},
   "outputs": [],
   "source": [
    "#pip install prophet\n",
    "#pip install pathos"
   ]
  },
  {
   "cell_type": "code",
   "execution_count": 2,
   "id": "81439665",
   "metadata": {
    "tags": []
   },
   "outputs": [],
   "source": [
    "import sys\n",
    "sys.path.append(str('/home/jupyter/SearchForecasting/'))\n",
    "from configparser import ConfigParser\n",
    "\n",
    "from repo.MyConfigParser import MyConfigParser\n",
    "\n",
    "from repo.LoadData import DataLoader\n",
    "from repo.BuildModel import GenerateModelFile, CreateModel\n",
    "from repo.Accuracy import AccuracyCalculator, ProphetParameterSearch, PlotAccuracyCharts\n",
    "from repo.FileGenerator import *"
   ]
  },
  {
   "cell_type": "code",
   "execution_count": 3,
   "id": "30322320",
   "metadata": {
    "tags": []
   },
   "outputs": [
    {
     "name": "stdout",
     "output_type": "stream",
     "text": [
      "06.05.2024\n"
     ]
    }
   ],
   "source": [
    "updated_config = ConfigParser()\n",
    "config_in_path = \"/home/jupyter/SearchForecasting/Spain/June 2024 Update/config ups spain.ini\"\n",
    "updated_config.read(config_in_path)\n",
    "\n",
    "getdict = MyConfigParser()\n",
    "config_dict=getdict.GetDict(updated_config)\n",
    "\n",
    "region = config_dict['CLIENTINFO']['country']\n",
    "cutoff_month = config_dict['PROPHETSETTING']['cut_off_point']\n",
    "base_start = config_dict['PROPHETSETTING']['reference_start_date1']\n",
    "base_end = config_dict['PROPHETSETTING']['reference_end_date1']\n",
    "periods = config_dict['PROPHETSETTING']['periods']\n",
    "base_periods  = config_dict['PROPHETSETTING']['base_periods']\n",
    "\n",
    "training_query = config_dict[\"PROPHETSETTING\"][\"training_query\"]\n",
    "_input = config_dict[\"PROPHETSETTING\"][\"input\"]\n",
    "_output = config_dict[\"PROPHETSETTING\"][\"output\"]\n",
    "\n",
    "output_bucket = config_dict[\"FILEPATH\"][\"output_bucket\"]\n",
    "folder_name = config_dict[\"FILEPATH\"][\"folder_name\"]\n",
    "\n",
    "\n",
    "today = datetime.date.today().strftime(\"%m.%d.%Y\") #'03.10.2023' #\n",
    "print(today)\n",
    "base_path = config_dict[\"FILEPATH\"][\"base_path\"]\n",
    "\n",
    "boundary_df_in_path = base_path + config_dict[\"FILEPATH\"][\"boundary_df_in_path\"]\n",
    "daily_df_out_path = base_path + config_dict[\"FILEPATH\"][\"daily_df_out_path\"]\n",
    "analytical_file_path = base_path + config_dict[\"FILEPATH\"][\"analytical_file_path\"]\n",
    "cuts_df_in_path = base_path + config_dict[\"FILEPATH\"][\"cuts_df_in_path\"]\n",
    "plot_name = base_path + config_dict[\"FILEPATH\"][\"plot_name\"]\n",
    "constraint_file_name = base_path + config_dict[\"FILEPATH\"][\"constraint_file_name\"]"
   ]
  },
  {
   "cell_type": "code",
   "execution_count": 4,
   "id": "e0f97d3d-8027-448d-a40f-4bed644165e6",
   "metadata": {
    "tags": []
   },
   "outputs": [
    {
     "name": "stderr",
     "output_type": "stream",
     "text": [
      "/home/jupyter/SearchForecasting/repo/QueryingData.py:34: FutureWarning: DataFrame.fillna with 'method' is deprecated and will raise in a future version. Use obj.ffill() or obj.bfill() instead.\n",
      "  search_df.fillna(method = 'ffill', inplace = True)\n"
     ]
    }
   ],
   "source": [
    "daily_df = GetBQData(training_query, _input, _output)"
   ]
  },
  {
   "cell_type": "code",
   "execution_count": 5,
   "id": "38579596-177b-4de0-8bbe-5febb358d3f5",
   "metadata": {
    "tags": []
   },
   "outputs": [],
   "source": [
    "df = daily_df.copy()\n",
    "df = df.groupby(['market', 'account_type', 'funnel', 'ds']).sum().reset_index()\n",
    "\n",
    "# log Transformation\n",
    "# df['cost'] = np.log(df['cost'])\n",
    "# df.loc[(df['cost'] < 0) | (np.isinf(df['cost'])), 'cost'] = 0\n",
    "\n",
    "df.ds = pd.to_datetime(df.ds)\n",
    "df = df[~df[['ds', 'y']].isin([np.nan, np.inf, -np.inf]).any(axis=1)]\n",
    "\n",
    "#Combine Tablet and desktop together \n",
    "#For November data, use the daily average for that year to fill the missing data"
   ]
  },
  {
   "cell_type": "code",
   "execution_count": 6,
   "id": "535f4c20-fee4-4ebd-828f-152ba24b7d39",
   "metadata": {
    "tags": []
   },
   "outputs": [
    {
     "data": {
      "text/html": [
       "<div>\n",
       "<style scoped>\n",
       "    .dataframe tbody tr th:only-of-type {\n",
       "        vertical-align: middle;\n",
       "    }\n",
       "\n",
       "    .dataframe tbody tr th {\n",
       "        vertical-align: top;\n",
       "    }\n",
       "\n",
       "    .dataframe thead th {\n",
       "        text-align: right;\n",
       "    }\n",
       "</style>\n",
       "<table border=\"1\" class=\"dataframe\">\n",
       "  <thead>\n",
       "    <tr style=\"text-align: right;\">\n",
       "      <th></th>\n",
       "      <th>region</th>\n",
       "      <th>market</th>\n",
       "      <th>funnel</th>\n",
       "      <th>account_type</th>\n",
       "      <th>ds</th>\n",
       "      <th>X</th>\n",
       "      <th>y</th>\n",
       "    </tr>\n",
       "  </thead>\n",
       "  <tbody>\n",
       "    <tr>\n",
       "      <th>0</th>\n",
       "      <td>EMEA</td>\n",
       "      <td>Spain</td>\n",
       "      <td>-</td>\n",
       "      <td>Desktop</td>\n",
       "      <td>2022-01-01</td>\n",
       "      <td>60.75</td>\n",
       "      <td>11.0</td>\n",
       "    </tr>\n",
       "    <tr>\n",
       "      <th>1</th>\n",
       "      <td>EMEA</td>\n",
       "      <td>Spain</td>\n",
       "      <td>-</td>\n",
       "      <td>Desktop</td>\n",
       "      <td>2022-01-02</td>\n",
       "      <td>146.65</td>\n",
       "      <td>33.0</td>\n",
       "    </tr>\n",
       "    <tr>\n",
       "      <th>2</th>\n",
       "      <td>EMEA</td>\n",
       "      <td>Spain</td>\n",
       "      <td>-</td>\n",
       "      <td>Desktop</td>\n",
       "      <td>2022-01-03</td>\n",
       "      <td>773.24</td>\n",
       "      <td>402.0</td>\n",
       "    </tr>\n",
       "    <tr>\n",
       "      <th>3</th>\n",
       "      <td>EMEA</td>\n",
       "      <td>Spain</td>\n",
       "      <td>-</td>\n",
       "      <td>Desktop</td>\n",
       "      <td>2022-01-04</td>\n",
       "      <td>618.73</td>\n",
       "      <td>332.0</td>\n",
       "    </tr>\n",
       "    <tr>\n",
       "      <th>4</th>\n",
       "      <td>EMEA</td>\n",
       "      <td>Spain</td>\n",
       "      <td>-</td>\n",
       "      <td>Desktop</td>\n",
       "      <td>2022-01-05</td>\n",
       "      <td>504.71</td>\n",
       "      <td>177.0</td>\n",
       "    </tr>\n",
       "    <tr>\n",
       "      <th>...</th>\n",
       "      <td>...</td>\n",
       "      <td>...</td>\n",
       "      <td>...</td>\n",
       "      <td>...</td>\n",
       "      <td>...</td>\n",
       "      <td>...</td>\n",
       "      <td>...</td>\n",
       "    </tr>\n",
       "    <tr>\n",
       "      <th>1637</th>\n",
       "      <td>EMEA</td>\n",
       "      <td>Spain</td>\n",
       "      <td>-</td>\n",
       "      <td>Mobile &amp; Tablet</td>\n",
       "      <td>2024-04-26</td>\n",
       "      <td>50.46</td>\n",
       "      <td>9.0</td>\n",
       "    </tr>\n",
       "    <tr>\n",
       "      <th>1638</th>\n",
       "      <td>EMEA</td>\n",
       "      <td>Spain</td>\n",
       "      <td>-</td>\n",
       "      <td>Mobile &amp; Tablet</td>\n",
       "      <td>2024-04-27</td>\n",
       "      <td>25.35</td>\n",
       "      <td>9.0</td>\n",
       "    </tr>\n",
       "    <tr>\n",
       "      <th>1639</th>\n",
       "      <td>EMEA</td>\n",
       "      <td>Spain</td>\n",
       "      <td>-</td>\n",
       "      <td>Mobile &amp; Tablet</td>\n",
       "      <td>2024-04-28</td>\n",
       "      <td>17.31</td>\n",
       "      <td>5.0</td>\n",
       "    </tr>\n",
       "    <tr>\n",
       "      <th>1640</th>\n",
       "      <td>EMEA</td>\n",
       "      <td>Spain</td>\n",
       "      <td>-</td>\n",
       "      <td>Mobile &amp; Tablet</td>\n",
       "      <td>2024-04-29</td>\n",
       "      <td>75.18</td>\n",
       "      <td>15.0</td>\n",
       "    </tr>\n",
       "    <tr>\n",
       "      <th>1641</th>\n",
       "      <td>EMEA</td>\n",
       "      <td>Spain</td>\n",
       "      <td>-</td>\n",
       "      <td>Mobile &amp; Tablet</td>\n",
       "      <td>2024-04-30</td>\n",
       "      <td>69.02</td>\n",
       "      <td>11.0</td>\n",
       "    </tr>\n",
       "  </tbody>\n",
       "</table>\n",
       "<p>1642 rows × 7 columns</p>\n",
       "</div>"
      ],
      "text/plain": [
       "     region market funnel     account_type         ds       X      y\n",
       "0      EMEA  Spain      -          Desktop 2022-01-01   60.75   11.0\n",
       "1      EMEA  Spain      -          Desktop 2022-01-02  146.65   33.0\n",
       "2      EMEA  Spain      -          Desktop 2022-01-03  773.24  402.0\n",
       "3      EMEA  Spain      -          Desktop 2022-01-04  618.73  332.0\n",
       "4      EMEA  Spain      -          Desktop 2022-01-05  504.71  177.0\n",
       "...     ...    ...    ...              ...        ...     ...    ...\n",
       "1637   EMEA  Spain      -  Mobile & Tablet 2024-04-26   50.46    9.0\n",
       "1638   EMEA  Spain      -  Mobile & Tablet 2024-04-27   25.35    9.0\n",
       "1639   EMEA  Spain      -  Mobile & Tablet 2024-04-28   17.31    5.0\n",
       "1640   EMEA  Spain      -  Mobile & Tablet 2024-04-29   75.18   15.0\n",
       "1641   EMEA  Spain      -  Mobile & Tablet 2024-04-30   69.02   11.0\n",
       "\n",
       "[1642 rows x 7 columns]"
      ]
     },
     "execution_count": 6,
     "metadata": {},
     "output_type": "execute_result"
    }
   ],
   "source": [
    "daily_df"
   ]
  },
  {
   "cell_type": "code",
   "execution_count": 7,
   "id": "f370e579",
   "metadata": {
    "tags": []
   },
   "outputs": [],
   "source": [
    "# df = daily_df.copy()\n",
    "# df.market = 'US'\n",
    "# df = df.groupby(['region', 'market', 'account_type', 'funnel', 'ds']).sum().reset_index()\n",
    "\n",
    "# # log Transformation\n",
    "# # df['cost'] = np.log(df['cost'])\n",
    "# # df.loc[(df['cost'] < 0) | (np.isinf(df['cost'])), 'cost'] = 0\n",
    "\n",
    "# df.ds = pd.to_datetime(df.ds)\n",
    "\n",
    "# df = df[~df[['ds', 'y']].isin([np.nan, np.inf, -np.inf]).any(axis=1)]\n",
    "# df = df[df.ds < cutoff_month]\n",
    "# # remove inactive days\n",
    "# df.drop(df[((df['ds'] >= '2021-08-01')&(df['ds'] <= '2021-10-31')) & ((df.account_type == 'Bing Ads') & (df.funnel == 'Brand'))].index,\n",
    "#        axis = 0, inplace = True)\n",
    "# df.drop(df[((df['ds'] >= '2019-03-01')&(df['ds'] <= '2019-08-31')) & ((df.account_type == 'Bing Ads') & (df.funnel == 'Brand'))].index,\n",
    "#        axis = 0, inplace = True)\n",
    "\n",
    "# df.drop(df[((df['ds'] >= '2021-07-01')&(df['ds'] <= '2021-10-31')) & ((df.account_type == 'Bing Ads') & (df.funnel == 'Generic'))].index,\n",
    "#        axis = 0, inplace = True)\n",
    "\n",
    "# # add regressors\n",
    "# df['anomaly_2021'] = df['ds'].apply(lambda x: 1 if (x >= datetime.datetime(2021,8,1))\\\n",
    "#                                      & (x <= datetime.datetime(2021,10,31)) else 0)\n",
    "# df['covid_year_dummy'] = 0\n",
    "# df.loc[(df['ds'] >= '2020-01-01') & (df['ds'] <= '2020-12-31'), 'Covid_Year_Dummy'] = 1\n",
    "\n",
    "# df['weekday_or_weekend'] = df['ds'].apply(lambda x: 1 if x.dayofweek > 4 else 0)\n",
    "\n",
    "# # set cap and floor for log regression\n",
    "# df['Month of Ds'] = df['ds'].dt.month_name()\n",
    "\n",
    "# df['floor'] = 0\n",
    "\n",
    "# boundary_df = pd.read_csv('Floor Cap Setting 2022.csv')\n",
    "# boundary_df.rename(columns = {'Account Type': 'account_type', 'Funnel':'funnel'}, inplace = True)\n",
    "# boundary_df.drop(['Market'], axis = 1, inplace = True)\n",
    "\n",
    "# df = pd.merge(df, boundary_df, on = ['account_type', 'funnel'])\n",
    "# df['cap'] = df.ROAS * df.X / df.AOV\n",
    "# df.loc[df.cap == 0, 'cap'] = df.cap.max()\n",
    "\n",
    "# # df.to_csv(f'Daily Data {today}.csv')\n",
    "# df.tail()\n",
    "\n",
    "#del df"
   ]
  },
  {
   "cell_type": "code",
   "execution_count": 8,
   "id": "13cc96c7-1f42-416d-994d-db7e26eac96a",
   "metadata": {
    "tags": []
   },
   "outputs": [],
   "source": [
    "df['ds'] = pd.to_datetime(df['ds'])"
   ]
  },
  {
   "cell_type": "code",
   "execution_count": 9,
   "id": "d0a23c11-282c-49fd-b729-0c882a21628a",
   "metadata": {
    "tags": []
   },
   "outputs": [
    {
     "name": "stderr",
     "output_type": "stream",
     "text": [
      "/var/tmp/ipykernel_105204/2854013778.py:29: FutureWarning: DataFrame.fillna with 'method' is deprecated and will raise in a future version. Use obj.ffill() or obj.bfill() instead.\n",
      "  filled_november_df[['region', 'market', 'funnel']] = df_2022_account_type[['region', 'market', 'funnel']].fillna(method='ffill').iloc[-1]\n",
      "/var/tmp/ipykernel_105204/2854013778.py:29: FutureWarning: Series.__getitem__ treating keys as positions is deprecated. In a future version, integer keys will always be treated as labels (consistent with DataFrame behavior). To access a value by position, use `ser.iloc[pos]`\n",
      "  filled_november_df[['region', 'market', 'funnel']] = df_2022_account_type[['region', 'market', 'funnel']].fillna(method='ffill').iloc[-1]\n",
      "/var/tmp/ipykernel_105204/2854013778.py:29: FutureWarning: Series.__getitem__ treating keys as positions is deprecated. In a future version, integer keys will always be treated as labels (consistent with DataFrame behavior). To access a value by position, use `ser.iloc[pos]`\n",
      "  filled_november_df[['region', 'market', 'funnel']] = df_2022_account_type[['region', 'market', 'funnel']].fillna(method='ffill').iloc[-1]\n",
      "/var/tmp/ipykernel_105204/2854013778.py:29: FutureWarning: Series.__getitem__ treating keys as positions is deprecated. In a future version, integer keys will always be treated as labels (consistent with DataFrame behavior). To access a value by position, use `ser.iloc[pos]`\n",
      "  filled_november_df[['region', 'market', 'funnel']] = df_2022_account_type[['region', 'market', 'funnel']].fillna(method='ffill').iloc[-1]\n",
      "/var/tmp/ipykernel_105204/2854013778.py:29: FutureWarning: DataFrame.fillna with 'method' is deprecated and will raise in a future version. Use obj.ffill() or obj.bfill() instead.\n",
      "  filled_november_df[['region', 'market', 'funnel']] = df_2022_account_type[['region', 'market', 'funnel']].fillna(method='ffill').iloc[-1]\n",
      "/var/tmp/ipykernel_105204/2854013778.py:29: FutureWarning: Series.__getitem__ treating keys as positions is deprecated. In a future version, integer keys will always be treated as labels (consistent with DataFrame behavior). To access a value by position, use `ser.iloc[pos]`\n",
      "  filled_november_df[['region', 'market', 'funnel']] = df_2022_account_type[['region', 'market', 'funnel']].fillna(method='ffill').iloc[-1]\n",
      "/var/tmp/ipykernel_105204/2854013778.py:29: FutureWarning: Series.__getitem__ treating keys as positions is deprecated. In a future version, integer keys will always be treated as labels (consistent with DataFrame behavior). To access a value by position, use `ser.iloc[pos]`\n",
      "  filled_november_df[['region', 'market', 'funnel']] = df_2022_account_type[['region', 'market', 'funnel']].fillna(method='ffill').iloc[-1]\n",
      "/var/tmp/ipykernel_105204/2854013778.py:29: FutureWarning: Series.__getitem__ treating keys as positions is deprecated. In a future version, integer keys will always be treated as labels (consistent with DataFrame behavior). To access a value by position, use `ser.iloc[pos]`\n",
      "  filled_november_df[['region', 'market', 'funnel']] = df_2022_account_type[['region', 'market', 'funnel']].fillna(method='ffill').iloc[-1]\n"
     ]
    }
   ],
   "source": [
    "# Filter the data for the year 2022\n",
    "df_2022 = df[df['ds'].dt.year == 2022]\n",
    "\n",
    "# Get the unique account types\n",
    "account_types = df['account_type'].unique()\n",
    "\n",
    "# Initialize an empty dataframe to store the filled November data\n",
    "filled_november_data = pd.DataFrame()\n",
    "\n",
    "# Loop through the unique account types\n",
    "for account_type in account_types:\n",
    "    # Filter the data for the current account type\n",
    "    df_2022_account_type = df_2022[df_2022['account_type'] == account_type]\n",
    "\n",
    "    # Group the data by day of the month and calculate the mean for X and y columns\n",
    "    daily_avg_2022 = df_2022_account_type.groupby(df_2022_account_type['ds'].dt.day)[['X', 'y']].mean()\n",
    "\n",
    "    # Create a new dataframe for November 2022 with date range from 1st to 30th\n",
    "    november_2022 = pd.date_range(start='2022-11-01', end='2022-11-30', freq='D')\n",
    "    november_df = pd.DataFrame(november_2022, columns=['ds'])\n",
    "\n",
    "    # Merge the daily averages with the November dataframe\n",
    "    filled_november_df = november_df.merge(daily_avg_2022, left_on=november_df['ds'].dt.day, right_index=True)\n",
    "\n",
    "    # Update the 'ds' column with the correct dates for November 2022\n",
    "    filled_november_df['ds'] = november_2022\n",
    "\n",
    "    # Forward-fill the missing values in region, market, funnel, and account_type columns\n",
    "    filled_november_df[['region', 'market', 'funnel']] = df_2022_account_type[['region', 'market', 'funnel']].fillna(method='ffill').iloc[-1]\n",
    "    filled_november_df['account_type'] = account_type\n",
    "\n",
    "    # Append the filled November data for the current account type to the filled_november_data dataframe\n",
    "    filled_november_data = pd.concat([filled_november_data, filled_november_df], ignore_index=True)\n",
    "\n",
    "# Append the filled November data to the original dataframe\n",
    "df_filled = pd.concat([df, filled_november_data], ignore_index=True).drop(columns='key_0')"
   ]
  },
  {
   "cell_type": "code",
   "execution_count": 10,
   "id": "97479623-5bf7-49f5-9ca6-31bbc219bda3",
   "metadata": {},
   "outputs": [],
   "source": [
    "#missing_data_df = pd.DataFrame(missing_data)\n",
    "#df = pd.concat([df, missing_data_df], ignore_index=True)"
   ]
  },
  {
   "cell_type": "code",
   "execution_count": 11,
   "id": "e8d9f1be-82fd-4071-8f17-fd9ed625f541",
   "metadata": {
    "tags": []
   },
   "outputs": [],
   "source": [
    "df_filled['weekday_or_weekend'] = df_filled['ds'].apply(lambda x: 1 if x.dayofweek > 4 else 0)\n",
    "\n",
    "# set cap and floor for log regression\n",
    "df_filled['Month of Ds'] = df_filled['ds'].dt.month_name()\n",
    "\n",
    "df_filled['floor'] = 0\n",
    "\n",
    "boundary_df = pd.read_csv(base_path + 'Spain Floor Cap Setting June 2024.csv')\n",
    "boundary_df.rename(columns = {'Account Type': 'account_type', 'Funnel':'funnel'}, inplace = True)\n",
    "boundary_df.drop(['Market'], axis = 1, inplace = True)"
   ]
  },
  {
   "cell_type": "code",
   "execution_count": 12,
   "id": "e9ade2cc-5b4c-4784-80e9-59e63c10a0b0",
   "metadata": {
    "tags": []
   },
   "outputs": [
    {
     "data": {
      "text/html": [
       "<div>\n",
       "<style scoped>\n",
       "    .dataframe tbody tr th:only-of-type {\n",
       "        vertical-align: middle;\n",
       "    }\n",
       "\n",
       "    .dataframe tbody tr th {\n",
       "        vertical-align: top;\n",
       "    }\n",
       "\n",
       "    .dataframe thead th {\n",
       "        text-align: right;\n",
       "    }\n",
       "</style>\n",
       "<table border=\"1\" class=\"dataframe\">\n",
       "  <thead>\n",
       "    <tr style=\"text-align: right;\">\n",
       "      <th></th>\n",
       "      <th>market</th>\n",
       "      <th>account_type</th>\n",
       "      <th>funnel</th>\n",
       "      <th>ds</th>\n",
       "      <th>region</th>\n",
       "      <th>X</th>\n",
       "      <th>y</th>\n",
       "      <th>weekday_or_weekend</th>\n",
       "      <th>Month of Ds</th>\n",
       "      <th>floor</th>\n",
       "    </tr>\n",
       "  </thead>\n",
       "  <tbody>\n",
       "    <tr>\n",
       "      <th>0</th>\n",
       "      <td>Spain</td>\n",
       "      <td>Desktop</td>\n",
       "      <td>-</td>\n",
       "      <td>2022-01-01</td>\n",
       "      <td>EMEA</td>\n",
       "      <td>60.750000</td>\n",
       "      <td>11.000000</td>\n",
       "      <td>1</td>\n",
       "      <td>January</td>\n",
       "      <td>0</td>\n",
       "    </tr>\n",
       "    <tr>\n",
       "      <th>1</th>\n",
       "      <td>Spain</td>\n",
       "      <td>Desktop</td>\n",
       "      <td>-</td>\n",
       "      <td>2022-01-02</td>\n",
       "      <td>EMEA</td>\n",
       "      <td>146.650000</td>\n",
       "      <td>33.000000</td>\n",
       "      <td>1</td>\n",
       "      <td>January</td>\n",
       "      <td>0</td>\n",
       "    </tr>\n",
       "    <tr>\n",
       "      <th>2</th>\n",
       "      <td>Spain</td>\n",
       "      <td>Desktop</td>\n",
       "      <td>-</td>\n",
       "      <td>2022-01-03</td>\n",
       "      <td>EMEA</td>\n",
       "      <td>773.240000</td>\n",
       "      <td>402.000000</td>\n",
       "      <td>0</td>\n",
       "      <td>January</td>\n",
       "      <td>0</td>\n",
       "    </tr>\n",
       "    <tr>\n",
       "      <th>3</th>\n",
       "      <td>Spain</td>\n",
       "      <td>Desktop</td>\n",
       "      <td>-</td>\n",
       "      <td>2022-01-04</td>\n",
       "      <td>EMEA</td>\n",
       "      <td>618.730000</td>\n",
       "      <td>332.000000</td>\n",
       "      <td>0</td>\n",
       "      <td>January</td>\n",
       "      <td>0</td>\n",
       "    </tr>\n",
       "    <tr>\n",
       "      <th>4</th>\n",
       "      <td>Spain</td>\n",
       "      <td>Desktop</td>\n",
       "      <td>-</td>\n",
       "      <td>2022-01-05</td>\n",
       "      <td>EMEA</td>\n",
       "      <td>504.710000</td>\n",
       "      <td>177.000000</td>\n",
       "      <td>0</td>\n",
       "      <td>January</td>\n",
       "      <td>0</td>\n",
       "    </tr>\n",
       "    <tr>\n",
       "      <th>...</th>\n",
       "      <td>...</td>\n",
       "      <td>...</td>\n",
       "      <td>...</td>\n",
       "      <td>...</td>\n",
       "      <td>...</td>\n",
       "      <td>...</td>\n",
       "      <td>...</td>\n",
       "      <td>...</td>\n",
       "      <td>...</td>\n",
       "      <td>...</td>\n",
       "    </tr>\n",
       "    <tr>\n",
       "      <th>1697</th>\n",
       "      <td>Spain</td>\n",
       "      <td>Mobile &amp; Tablet</td>\n",
       "      <td>-</td>\n",
       "      <td>2022-11-26</td>\n",
       "      <td>EMEA</td>\n",
       "      <td>145.077273</td>\n",
       "      <td>9.727273</td>\n",
       "      <td>1</td>\n",
       "      <td>November</td>\n",
       "      <td>0</td>\n",
       "    </tr>\n",
       "    <tr>\n",
       "      <th>1698</th>\n",
       "      <td>Spain</td>\n",
       "      <td>Mobile &amp; Tablet</td>\n",
       "      <td>-</td>\n",
       "      <td>2022-11-27</td>\n",
       "      <td>EMEA</td>\n",
       "      <td>100.128182</td>\n",
       "      <td>9.545455</td>\n",
       "      <td>1</td>\n",
       "      <td>November</td>\n",
       "      <td>0</td>\n",
       "    </tr>\n",
       "    <tr>\n",
       "      <th>1699</th>\n",
       "      <td>Spain</td>\n",
       "      <td>Mobile &amp; Tablet</td>\n",
       "      <td>-</td>\n",
       "      <td>2022-11-28</td>\n",
       "      <td>EMEA</td>\n",
       "      <td>87.284545</td>\n",
       "      <td>11.000000</td>\n",
       "      <td>0</td>\n",
       "      <td>November</td>\n",
       "      <td>0</td>\n",
       "    </tr>\n",
       "    <tr>\n",
       "      <th>1700</th>\n",
       "      <td>Spain</td>\n",
       "      <td>Mobile &amp; Tablet</td>\n",
       "      <td>-</td>\n",
       "      <td>2022-11-29</td>\n",
       "      <td>EMEA</td>\n",
       "      <td>88.184000</td>\n",
       "      <td>7.600000</td>\n",
       "      <td>0</td>\n",
       "      <td>November</td>\n",
       "      <td>0</td>\n",
       "    </tr>\n",
       "    <tr>\n",
       "      <th>1701</th>\n",
       "      <td>Spain</td>\n",
       "      <td>Mobile &amp; Tablet</td>\n",
       "      <td>-</td>\n",
       "      <td>2022-11-30</td>\n",
       "      <td>EMEA</td>\n",
       "      <td>85.722000</td>\n",
       "      <td>7.500000</td>\n",
       "      <td>0</td>\n",
       "      <td>November</td>\n",
       "      <td>0</td>\n",
       "    </tr>\n",
       "  </tbody>\n",
       "</table>\n",
       "<p>1702 rows × 10 columns</p>\n",
       "</div>"
      ],
      "text/plain": [
       "     market     account_type funnel         ds region           X           y  \\\n",
       "0     Spain          Desktop      - 2022-01-01   EMEA   60.750000   11.000000   \n",
       "1     Spain          Desktop      - 2022-01-02   EMEA  146.650000   33.000000   \n",
       "2     Spain          Desktop      - 2022-01-03   EMEA  773.240000  402.000000   \n",
       "3     Spain          Desktop      - 2022-01-04   EMEA  618.730000  332.000000   \n",
       "4     Spain          Desktop      - 2022-01-05   EMEA  504.710000  177.000000   \n",
       "...     ...              ...    ...        ...    ...         ...         ...   \n",
       "1697  Spain  Mobile & Tablet      - 2022-11-26   EMEA  145.077273    9.727273   \n",
       "1698  Spain  Mobile & Tablet      - 2022-11-27   EMEA  100.128182    9.545455   \n",
       "1699  Spain  Mobile & Tablet      - 2022-11-28   EMEA   87.284545   11.000000   \n",
       "1700  Spain  Mobile & Tablet      - 2022-11-29   EMEA   88.184000    7.600000   \n",
       "1701  Spain  Mobile & Tablet      - 2022-11-30   EMEA   85.722000    7.500000   \n",
       "\n",
       "      weekday_or_weekend Month of Ds  floor  \n",
       "0                      1     January      0  \n",
       "1                      1     January      0  \n",
       "2                      0     January      0  \n",
       "3                      0     January      0  \n",
       "4                      0     January      0  \n",
       "...                  ...         ...    ...  \n",
       "1697                   1    November      0  \n",
       "1698                   1    November      0  \n",
       "1699                   0    November      0  \n",
       "1700                   0    November      0  \n",
       "1701                   0    November      0  \n",
       "\n",
       "[1702 rows x 10 columns]"
      ]
     },
     "execution_count": 12,
     "metadata": {},
     "output_type": "execute_result"
    }
   ],
   "source": [
    "df_filled"
   ]
  },
  {
   "cell_type": "code",
   "execution_count": 13,
   "id": "549cac2a-af3e-4b0a-ad67-7bcaaf0befc6",
   "metadata": {
    "tags": []
   },
   "outputs": [
    {
     "data": {
      "text/html": [
       "<div>\n",
       "<style scoped>\n",
       "    .dataframe tbody tr th:only-of-type {\n",
       "        vertical-align: middle;\n",
       "    }\n",
       "\n",
       "    .dataframe tbody tr th {\n",
       "        vertical-align: top;\n",
       "    }\n",
       "\n",
       "    .dataframe thead th {\n",
       "        text-align: right;\n",
       "    }\n",
       "</style>\n",
       "<table border=\"1\" class=\"dataframe\">\n",
       "  <thead>\n",
       "    <tr style=\"text-align: right;\">\n",
       "      <th></th>\n",
       "      <th>market</th>\n",
       "      <th>account_type</th>\n",
       "      <th>funnel</th>\n",
       "      <th>ds</th>\n",
       "      <th>region</th>\n",
       "      <th>X</th>\n",
       "      <th>y</th>\n",
       "      <th>weekday_or_weekend</th>\n",
       "      <th>Month of Ds</th>\n",
       "      <th>floor</th>\n",
       "      <th>revenue</th>\n",
       "      <th>cost</th>\n",
       "      <th>conversion</th>\n",
       "      <th>AOV</th>\n",
       "      <th>ROAS</th>\n",
       "      <th>cap</th>\n",
       "    </tr>\n",
       "  </thead>\n",
       "  <tbody>\n",
       "    <tr>\n",
       "      <th>0</th>\n",
       "      <td>Spain</td>\n",
       "      <td>Desktop</td>\n",
       "      <td>-</td>\n",
       "      <td>2022-01-01</td>\n",
       "      <td>EMEA</td>\n",
       "      <td>60.750000</td>\n",
       "      <td>11.000000</td>\n",
       "      <td>1</td>\n",
       "      <td>January</td>\n",
       "      <td>0</td>\n",
       "      <td>2.266402e+06</td>\n",
       "      <td>8355484.22</td>\n",
       "      <td>71899</td>\n",
       "      <td>31.522022</td>\n",
       "      <td>0.271247</td>\n",
       "      <td>0.522754</td>\n",
       "    </tr>\n",
       "    <tr>\n",
       "      <th>1</th>\n",
       "      <td>Spain</td>\n",
       "      <td>Desktop</td>\n",
       "      <td>-</td>\n",
       "      <td>2022-01-02</td>\n",
       "      <td>EMEA</td>\n",
       "      <td>146.650000</td>\n",
       "      <td>33.000000</td>\n",
       "      <td>1</td>\n",
       "      <td>January</td>\n",
       "      <td>0</td>\n",
       "      <td>2.266402e+06</td>\n",
       "      <td>8355484.22</td>\n",
       "      <td>71899</td>\n",
       "      <td>31.522022</td>\n",
       "      <td>0.271247</td>\n",
       "      <td>1.261924</td>\n",
       "    </tr>\n",
       "    <tr>\n",
       "      <th>2</th>\n",
       "      <td>Spain</td>\n",
       "      <td>Desktop</td>\n",
       "      <td>-</td>\n",
       "      <td>2022-01-03</td>\n",
       "      <td>EMEA</td>\n",
       "      <td>773.240000</td>\n",
       "      <td>402.000000</td>\n",
       "      <td>0</td>\n",
       "      <td>January</td>\n",
       "      <td>0</td>\n",
       "      <td>2.266402e+06</td>\n",
       "      <td>8355484.22</td>\n",
       "      <td>71899</td>\n",
       "      <td>31.522022</td>\n",
       "      <td>0.271247</td>\n",
       "      <td>6.653736</td>\n",
       "    </tr>\n",
       "    <tr>\n",
       "      <th>3</th>\n",
       "      <td>Spain</td>\n",
       "      <td>Desktop</td>\n",
       "      <td>-</td>\n",
       "      <td>2022-01-04</td>\n",
       "      <td>EMEA</td>\n",
       "      <td>618.730000</td>\n",
       "      <td>332.000000</td>\n",
       "      <td>0</td>\n",
       "      <td>January</td>\n",
       "      <td>0</td>\n",
       "      <td>2.266402e+06</td>\n",
       "      <td>8355484.22</td>\n",
       "      <td>71899</td>\n",
       "      <td>31.522022</td>\n",
       "      <td>0.271247</td>\n",
       "      <td>5.324176</td>\n",
       "    </tr>\n",
       "    <tr>\n",
       "      <th>4</th>\n",
       "      <td>Spain</td>\n",
       "      <td>Desktop</td>\n",
       "      <td>-</td>\n",
       "      <td>2022-01-05</td>\n",
       "      <td>EMEA</td>\n",
       "      <td>504.710000</td>\n",
       "      <td>177.000000</td>\n",
       "      <td>0</td>\n",
       "      <td>January</td>\n",
       "      <td>0</td>\n",
       "      <td>2.266402e+06</td>\n",
       "      <td>8355484.22</td>\n",
       "      <td>71899</td>\n",
       "      <td>31.522022</td>\n",
       "      <td>0.271247</td>\n",
       "      <td>4.343033</td>\n",
       "    </tr>\n",
       "    <tr>\n",
       "      <th>...</th>\n",
       "      <td>...</td>\n",
       "      <td>...</td>\n",
       "      <td>...</td>\n",
       "      <td>...</td>\n",
       "      <td>...</td>\n",
       "      <td>...</td>\n",
       "      <td>...</td>\n",
       "      <td>...</td>\n",
       "      <td>...</td>\n",
       "      <td>...</td>\n",
       "      <td>...</td>\n",
       "      <td>...</td>\n",
       "      <td>...</td>\n",
       "      <td>...</td>\n",
       "      <td>...</td>\n",
       "      <td>...</td>\n",
       "    </tr>\n",
       "    <tr>\n",
       "      <th>1697</th>\n",
       "      <td>Spain</td>\n",
       "      <td>Mobile &amp; Tablet</td>\n",
       "      <td>-</td>\n",
       "      <td>2022-11-26</td>\n",
       "      <td>EMEA</td>\n",
       "      <td>145.077273</td>\n",
       "      <td>9.727273</td>\n",
       "      <td>1</td>\n",
       "      <td>November</td>\n",
       "      <td>0</td>\n",
       "      <td>6.444920e+04</td>\n",
       "      <td>536891.88</td>\n",
       "      <td>2800</td>\n",
       "      <td>23.017573</td>\n",
       "      <td>0.120041</td>\n",
       "      <td>0.756607</td>\n",
       "    </tr>\n",
       "    <tr>\n",
       "      <th>1698</th>\n",
       "      <td>Spain</td>\n",
       "      <td>Mobile &amp; Tablet</td>\n",
       "      <td>-</td>\n",
       "      <td>2022-11-27</td>\n",
       "      <td>EMEA</td>\n",
       "      <td>100.128182</td>\n",
       "      <td>9.545455</td>\n",
       "      <td>1</td>\n",
       "      <td>November</td>\n",
       "      <td>0</td>\n",
       "      <td>6.444920e+04</td>\n",
       "      <td>536891.88</td>\n",
       "      <td>2800</td>\n",
       "      <td>23.017573</td>\n",
       "      <td>0.120041</td>\n",
       "      <td>0.522189</td>\n",
       "    </tr>\n",
       "    <tr>\n",
       "      <th>1699</th>\n",
       "      <td>Spain</td>\n",
       "      <td>Mobile &amp; Tablet</td>\n",
       "      <td>-</td>\n",
       "      <td>2022-11-28</td>\n",
       "      <td>EMEA</td>\n",
       "      <td>87.284545</td>\n",
       "      <td>11.000000</td>\n",
       "      <td>0</td>\n",
       "      <td>November</td>\n",
       "      <td>0</td>\n",
       "      <td>6.444920e+04</td>\n",
       "      <td>536891.88</td>\n",
       "      <td>2800</td>\n",
       "      <td>23.017573</td>\n",
       "      <td>0.120041</td>\n",
       "      <td>0.455207</td>\n",
       "    </tr>\n",
       "    <tr>\n",
       "      <th>1700</th>\n",
       "      <td>Spain</td>\n",
       "      <td>Mobile &amp; Tablet</td>\n",
       "      <td>-</td>\n",
       "      <td>2022-11-29</td>\n",
       "      <td>EMEA</td>\n",
       "      <td>88.184000</td>\n",
       "      <td>7.600000</td>\n",
       "      <td>0</td>\n",
       "      <td>November</td>\n",
       "      <td>0</td>\n",
       "      <td>6.444920e+04</td>\n",
       "      <td>536891.88</td>\n",
       "      <td>2800</td>\n",
       "      <td>23.017573</td>\n",
       "      <td>0.120041</td>\n",
       "      <td>0.459897</td>\n",
       "    </tr>\n",
       "    <tr>\n",
       "      <th>1701</th>\n",
       "      <td>Spain</td>\n",
       "      <td>Mobile &amp; Tablet</td>\n",
       "      <td>-</td>\n",
       "      <td>2022-11-30</td>\n",
       "      <td>EMEA</td>\n",
       "      <td>85.722000</td>\n",
       "      <td>7.500000</td>\n",
       "      <td>0</td>\n",
       "      <td>November</td>\n",
       "      <td>0</td>\n",
       "      <td>6.444920e+04</td>\n",
       "      <td>536891.88</td>\n",
       "      <td>2800</td>\n",
       "      <td>23.017573</td>\n",
       "      <td>0.120041</td>\n",
       "      <td>0.447058</td>\n",
       "    </tr>\n",
       "  </tbody>\n",
       "</table>\n",
       "<p>1702 rows × 16 columns</p>\n",
       "</div>"
      ],
      "text/plain": [
       "     market     account_type funnel         ds region           X           y  \\\n",
       "0     Spain          Desktop      - 2022-01-01   EMEA   60.750000   11.000000   \n",
       "1     Spain          Desktop      - 2022-01-02   EMEA  146.650000   33.000000   \n",
       "2     Spain          Desktop      - 2022-01-03   EMEA  773.240000  402.000000   \n",
       "3     Spain          Desktop      - 2022-01-04   EMEA  618.730000  332.000000   \n",
       "4     Spain          Desktop      - 2022-01-05   EMEA  504.710000  177.000000   \n",
       "...     ...              ...    ...        ...    ...         ...         ...   \n",
       "1697  Spain  Mobile & Tablet      - 2022-11-26   EMEA  145.077273    9.727273   \n",
       "1698  Spain  Mobile & Tablet      - 2022-11-27   EMEA  100.128182    9.545455   \n",
       "1699  Spain  Mobile & Tablet      - 2022-11-28   EMEA   87.284545   11.000000   \n",
       "1700  Spain  Mobile & Tablet      - 2022-11-29   EMEA   88.184000    7.600000   \n",
       "1701  Spain  Mobile & Tablet      - 2022-11-30   EMEA   85.722000    7.500000   \n",
       "\n",
       "      weekday_or_weekend Month of Ds  floor       revenue        cost  \\\n",
       "0                      1     January      0  2.266402e+06  8355484.22   \n",
       "1                      1     January      0  2.266402e+06  8355484.22   \n",
       "2                      0     January      0  2.266402e+06  8355484.22   \n",
       "3                      0     January      0  2.266402e+06  8355484.22   \n",
       "4                      0     January      0  2.266402e+06  8355484.22   \n",
       "...                  ...         ...    ...           ...         ...   \n",
       "1697                   1    November      0  6.444920e+04   536891.88   \n",
       "1698                   1    November      0  6.444920e+04   536891.88   \n",
       "1699                   0    November      0  6.444920e+04   536891.88   \n",
       "1700                   0    November      0  6.444920e+04   536891.88   \n",
       "1701                   0    November      0  6.444920e+04   536891.88   \n",
       "\n",
       "      conversion        AOV      ROAS       cap  \n",
       "0          71899  31.522022  0.271247  0.522754  \n",
       "1          71899  31.522022  0.271247  1.261924  \n",
       "2          71899  31.522022  0.271247  6.653736  \n",
       "3          71899  31.522022  0.271247  5.324176  \n",
       "4          71899  31.522022  0.271247  4.343033  \n",
       "...          ...        ...       ...       ...  \n",
       "1697        2800  23.017573  0.120041  0.756607  \n",
       "1698        2800  23.017573  0.120041  0.522189  \n",
       "1699        2800  23.017573  0.120041  0.455207  \n",
       "1700        2800  23.017573  0.120041  0.459897  \n",
       "1701        2800  23.017573  0.120041  0.447058  \n",
       "\n",
       "[1702 rows x 16 columns]"
      ]
     },
     "execution_count": 13,
     "metadata": {},
     "output_type": "execute_result"
    }
   ],
   "source": [
    "df_filled['weekday_or_weekend'] = df_filled['ds'].apply(lambda x: 1 if x.dayofweek > 4 else 0)\n",
    "\n",
    "# set cap and floor for log regression\n",
    "df_filled['Month of Ds'] = df_filled['ds'].dt.month_name()\n",
    "\n",
    "df_filled['floor'] = 0\n",
    "\n",
    "boundary_df = pd.read_csv(base_path + 'Spain Floor Cap Setting June 2024.csv')\n",
    "boundary_df.rename(columns = {'Account Type': 'account_type', 'Funnel':'funnel'}, inplace = True)\n",
    "boundary_df.drop(['Market'], axis = 1, inplace = True)\n",
    "\n",
    "df_filled = pd.merge(df_filled, boundary_df, on = ['account_type', 'funnel'], suffixes=['', '_y']).drop(columns='region_y')\n",
    "df_filled['cap'] = df_filled.ROAS * df_filled.X / df_filled.AOV\n",
    "df_filled.loc[df_filled.cap == 0, 'cap'] = df_filled.cap.max()\n",
    "\n",
    "df_filled.to_csv(f'Daily Data {today}.csv')\n",
    "df_filled.to_csv(base_path + 'df_filled.csv')\n",
    "\n",
    "df_filled"
   ]
  },
  {
   "cell_type": "markdown",
   "id": "774b147c",
   "metadata": {},
   "source": [
    "# Analytical File Generator"
   ]
  },
  {
   "cell_type": "code",
   "execution_count": 14,
   "id": "19844efe-b38e-4fc0-ae9e-f5649a8805cd",
   "metadata": {
    "tags": []
   },
   "outputs": [
    {
     "name": "stderr",
     "output_type": "stream",
     "text": [
      "/home/jupyter/SearchForecasting/repo/QueryingData.py:34: FutureWarning: DataFrame.fillna with 'method' is deprecated and will raise in a future version. Use obj.ffill() or obj.bfill() instead.\n",
      "  search_df.fillna(method = 'ffill', inplace = True)\n"
     ]
    }
   ],
   "source": [
    "generator = AnalyticalFileGenerator(config_dict)\n",
    "analytical_file_df = generator.generate()\n",
    "analytical_file_df = pd.merge(analytical_file_df, boundary_df, on = ['account_type', 'funnel'])\n",
    "analytical_file_df.to_csv(analytical_file_path)"
   ]
  },
  {
   "cell_type": "code",
   "execution_count": 15,
   "id": "5bdb4876-a3ad-4c2a-ab3d-6fb36770bf46",
   "metadata": {
    "tags": []
   },
   "outputs": [
    {
     "data": {
      "text/plain": [
       "['Spain_Desktop_-_Apr_2024',\n",
       " 'Spain_Desktop_-_Aug_2024',\n",
       " 'Spain_Desktop_-_Dec_2024',\n",
       " 'Spain_Desktop_-_Jul_2024',\n",
       " 'Spain_Desktop_-_Jun_2024',\n",
       " 'Spain_Desktop_-_May_2024',\n",
       " 'Spain_Desktop_-_Nov_2024',\n",
       " 'Spain_Desktop_-_Oct_2024',\n",
       " 'Spain_Desktop_-_Sep_2024',\n",
       " 'Spain_Mobile_&_Tablet_-_Apr_2024',\n",
       " 'Spain_Mobile_&_Tablet_-_Aug_2024',\n",
       " 'Spain_Mobile_&_Tablet_-_Dec_2024',\n",
       " 'Spain_Mobile_&_Tablet_-_Jul_2024',\n",
       " 'Spain_Mobile_&_Tablet_-_Jun_2024',\n",
       " 'Spain_Mobile_&_Tablet_-_May_2024',\n",
       " 'Spain_Mobile_&_Tablet_-_Nov_2024',\n",
       " 'Spain_Mobile_&_Tablet_-_Oct_2024',\n",
       " 'Spain_Mobile_&_Tablet_-_Sep_2024']"
      ]
     },
     "execution_count": 15,
     "metadata": {},
     "output_type": "execute_result"
    }
   ],
   "source": [
    "[col for col in analytical_file_df.columns if 'Spain' in col]"
   ]
  },
  {
   "cell_type": "code",
   "execution_count": 16,
   "id": "15bde631-43ff-4936-8868-1de8f69dd48d",
   "metadata": {
    "tags": []
   },
   "outputs": [
    {
     "data": {
      "text/html": [
       "<div>\n",
       "<style scoped>\n",
       "    .dataframe tbody tr th:only-of-type {\n",
       "        vertical-align: middle;\n",
       "    }\n",
       "\n",
       "    .dataframe tbody tr th {\n",
       "        vertical-align: top;\n",
       "    }\n",
       "\n",
       "    .dataframe thead th {\n",
       "        text-align: right;\n",
       "    }\n",
       "</style>\n",
       "<table border=\"1\" class=\"dataframe\">\n",
       "  <thead>\n",
       "    <tr style=\"text-align: right;\">\n",
       "      <th></th>\n",
       "      <th>market</th>\n",
       "      <th>account_type</th>\n",
       "      <th>funnel</th>\n",
       "      <th>periods_for_acc_cal</th>\n",
       "      <th>changepoint_prior_scale</th>\n",
       "      <th>seasonality_prior_scale</th>\n",
       "      <th>holidays_prior_scale</th>\n",
       "      <th>seasonality_mode</th>\n",
       "      <th>input_mode</th>\n",
       "      <th>weekday_or_weekend</th>\n",
       "      <th>...</th>\n",
       "      <th>anomaly_2021</th>\n",
       "      <th>generic_cost_split</th>\n",
       "      <th>competitor_cost_split</th>\n",
       "      <th>new_confirmed</th>\n",
       "      <th>power</th>\n",
       "      <th>growth</th>\n",
       "      <th>MAPE</th>\n",
       "      <th>period_AE</th>\n",
       "      <th>periods</th>\n",
       "      <th>cutoff_month</th>\n",
       "    </tr>\n",
       "  </thead>\n",
       "  <tbody>\n",
       "    <tr>\n",
       "      <th>0</th>\n",
       "      <td>Spain</td>\n",
       "      <td>Desktop</td>\n",
       "      <td>-</td>\n",
       "      <td>183</td>\n",
       "      <td>0.05</td>\n",
       "      <td>1.0</td>\n",
       "      <td>0.1</td>\n",
       "      <td>additive</td>\n",
       "      <td>multiplicative</td>\n",
       "      <td>additive</td>\n",
       "      <td>...</td>\n",
       "      <td>na</td>\n",
       "      <td>na</td>\n",
       "      <td>na</td>\n",
       "      <td>na</td>\n",
       "      <td>na</td>\n",
       "      <td>linear</td>\n",
       "      <td>22.22</td>\n",
       "      <td>8.62</td>\n",
       "      <td>251.0</td>\n",
       "      <td>2024-04-25</td>\n",
       "    </tr>\n",
       "    <tr>\n",
       "      <th>1</th>\n",
       "      <td>Spain</td>\n",
       "      <td>Mobile &amp; Tablet</td>\n",
       "      <td>-</td>\n",
       "      <td>183</td>\n",
       "      <td>0.10</td>\n",
       "      <td>10.0</td>\n",
       "      <td>10.0</td>\n",
       "      <td>multiplicative</td>\n",
       "      <td>multiplicative</td>\n",
       "      <td>multiplicative</td>\n",
       "      <td>...</td>\n",
       "      <td>na</td>\n",
       "      <td>na</td>\n",
       "      <td>na</td>\n",
       "      <td>na</td>\n",
       "      <td>na</td>\n",
       "      <td>linear</td>\n",
       "      <td>14.61</td>\n",
       "      <td>11.93</td>\n",
       "      <td>251.0</td>\n",
       "      <td>2024-04-25</td>\n",
       "    </tr>\n",
       "  </tbody>\n",
       "</table>\n",
       "<p>2 rows × 23 columns</p>\n",
       "</div>"
      ],
      "text/plain": [
       "  market     account_type funnel  periods_for_acc_cal  \\\n",
       "0  Spain          Desktop      -                  183   \n",
       "1  Spain  Mobile & Tablet      -                  183   \n",
       "\n",
       "   changepoint_prior_scale  seasonality_prior_scale  holidays_prior_scale  \\\n",
       "0                     0.05                      1.0                   0.1   \n",
       "1                     0.10                     10.0                  10.0   \n",
       "\n",
       "  seasonality_mode      input_mode weekday_or_weekend  ... anomaly_2021  \\\n",
       "0         additive  multiplicative           additive  ...           na   \n",
       "1   multiplicative  multiplicative     multiplicative  ...           na   \n",
       "\n",
       "  generic_cost_split competitor_cost_split new_confirmed power  growth   MAPE  \\\n",
       "0                 na                    na            na    na  linear  22.22   \n",
       "1                 na                    na            na    na  linear  14.61   \n",
       "\n",
       "  period_AE periods  cutoff_month  \n",
       "0      8.62   251.0    2024-04-25  \n",
       "1     11.93   251.0    2024-04-25  \n",
       "\n",
       "[2 rows x 23 columns]"
      ]
     },
     "execution_count": 16,
     "metadata": {},
     "output_type": "execute_result"
    }
   ],
   "source": [
    "cuts_df = pd.read_csv(base_path + region + ' Breakdown June 2024.csv')\n",
    "cuts_df['periods'] = periods\n",
    "cuts_df['periods_for_acc_cal'] = 183\n",
    "cuts_df['cutoff_month'] = cutoff_month\n",
    "# cuts_df.account_type = 'unified'\n",
    "cuts_df.input_mode = 'multiplicative'\n",
    "query_item_list = [query_item for query_item in [config_dict[\"CLIENTINFO\"][\"breakdown1\"], \\\n",
    "                             config_dict[\"CLIENTINFO\"][\"breakdown2\"], \\\n",
    "                             config_dict[\"CLIENTINFO\"][\"breakdown3\"], \\\n",
    "                             config_dict[\"CLIENTINFO\"][\"breakdown4\"]]\n",
    "                             if query_item != None]\n",
    "cuts_df.drop(columns='Unnamed: 0', inplace=True)\n",
    "cuts_df"
   ]
  },
  {
   "cell_type": "markdown",
   "id": "c0705169",
   "metadata": {},
   "source": [
    "# Accuracy Calculator"
   ]
  },
  {
   "cell_type": "markdown",
   "id": "c2018159-3cec-4e88-9683-a4072962b20a",
   "metadata": {},
   "source": [
    "generic_df = pd.read_csv(\"record_df 2023-08-16 18:16:20 best result.csv\")\n",
    "generic_df"
   ]
  },
  {
   "cell_type": "code",
   "execution_count": 19,
   "id": "914727bf",
   "metadata": {
    "tags": []
   },
   "outputs": [
    {
     "name": "stderr",
     "output_type": "stream",
     "text": [
      "03:38:27 - cmdstanpy - INFO - Chain [1] start processing\n",
      "03:38:28 - cmdstanpy - INFO - Chain [1] done processing\n",
      "/home/jupyter/SearchForecasting/repo/Accuracy.py:267: FutureWarning: The behavior of DataFrame concatenation with empty or all-NA entries is deprecated. In a future version, this will no longer exclude empty or all-NA columns when determining the result dtypes. To retain the old behavior, exclude the relevant entries before the concat operation.\n",
      "  self.monthly_acc_df_temp = pd.concat([self.monthly_acc_df_temp, monthly_acc_df], ignore_index=True)\n",
      "03:38:28 - cmdstanpy - INFO - Chain [1] start processing\n",
      "03:38:28 - cmdstanpy - INFO - Chain [1] done processing\n"
     ]
    },
    {
     "name": "stdout",
     "output_type": "stream",
     "text": [
      "It's underpredicted.\n",
      "Monthly Error: 27.24 Period MAE: 25.180000000000003\n",
      "It's underpredicted.\n",
      "Monthly Error: 14.61 Period MAE: 11.93\n"
     ]
    }
   ],
   "source": [
    "# %load_ext autoreload\n",
    "# %autoreload 2\n",
    "\n",
    "\n",
    "calculator = AccuracyCalculator()\n",
    "accuracy_df = calculator.CalculateAccuracy(cuts_df, df_filled, query_item_list)\n",
    "# calculator.SaveFile()"
   ]
  },
  {
   "cell_type": "code",
   "execution_count": 20,
   "id": "30b4d7b9-f202-4563-a6a3-feec5729d62e",
   "metadata": {
    "tags": []
   },
   "outputs": [],
   "source": [
    "accuracy_df.to_csv(base_path + 'test_Acc.csv')"
   ]
  },
  {
   "cell_type": "code",
   "execution_count": 21,
   "id": "6e9a33d2",
   "metadata": {
    "tags": []
   },
   "outputs": [
    {
     "data": {
      "text/html": [
       "<div>\n",
       "<style scoped>\n",
       "    .dataframe tbody tr th:only-of-type {\n",
       "        vertical-align: middle;\n",
       "    }\n",
       "\n",
       "    .dataframe tbody tr th {\n",
       "        vertical-align: top;\n",
       "    }\n",
       "\n",
       "    .dataframe thead th {\n",
       "        text-align: right;\n",
       "    }\n",
       "</style>\n",
       "<table border=\"1\" class=\"dataframe\">\n",
       "  <thead>\n",
       "    <tr style=\"text-align: right;\">\n",
       "      <th></th>\n",
       "      <th>Actual</th>\n",
       "      <th>Forecast</th>\n",
       "      <th>Percentage Error</th>\n",
       "      <th>MAPE</th>\n",
       "      <th>Forecast Period MAE</th>\n",
       "    </tr>\n",
       "    <tr>\n",
       "      <th>account_type</th>\n",
       "      <th></th>\n",
       "      <th></th>\n",
       "      <th></th>\n",
       "      <th></th>\n",
       "      <th></th>\n",
       "    </tr>\n",
       "  </thead>\n",
       "  <tbody>\n",
       "    <tr>\n",
       "      <th>Desktop</th>\n",
       "      <td>-4887.428571</td>\n",
       "      <td>-3631.625714</td>\n",
       "      <td>78.934286</td>\n",
       "      <td>72.76</td>\n",
       "      <td>74.82</td>\n",
       "    </tr>\n",
       "    <tr>\n",
       "      <th>Mobile &amp; Tablet</th>\n",
       "      <td>-120.142857</td>\n",
       "      <td>-93.881429</td>\n",
       "      <td>90.325714</td>\n",
       "      <td>85.39</td>\n",
       "      <td>88.07</td>\n",
       "    </tr>\n",
       "  </tbody>\n",
       "</table>\n",
       "</div>"
      ],
      "text/plain": [
       "                      Actual     Forecast  Percentage Error   MAPE  \\\n",
       "account_type                                                         \n",
       "Desktop         -4887.428571 -3631.625714         78.934286  72.76   \n",
       "Mobile & Tablet  -120.142857   -93.881429         90.325714  85.39   \n",
       "\n",
       "                 Forecast Period MAE  \n",
       "account_type                          \n",
       "Desktop                        74.82  \n",
       "Mobile & Tablet                88.07  "
      ]
     },
     "execution_count": 21,
     "metadata": {},
     "output_type": "execute_result"
    }
   ],
   "source": [
    "# This is to convert error metrics to accuracy. Note the column names won't change\n",
    "100-accuracy_df.groupby(['account_type']).mean(numeric_only=1)"
   ]
  },
  {
   "cell_type": "code",
   "execution_count": 23,
   "id": "759cf7e6-36fd-406f-9206-9a3e2a79a69c",
   "metadata": {
    "tags": []
   },
   "outputs": [
    {
     "data": {
      "text/html": [
       "<div>\n",
       "<style scoped>\n",
       "    .dataframe tbody tr th:only-of-type {\n",
       "        vertical-align: middle;\n",
       "    }\n",
       "\n",
       "    .dataframe tbody tr th {\n",
       "        vertical-align: top;\n",
       "    }\n",
       "\n",
       "    .dataframe thead th {\n",
       "        text-align: right;\n",
       "    }\n",
       "</style>\n",
       "<table border=\"1\" class=\"dataframe\">\n",
       "  <thead>\n",
       "    <tr style=\"text-align: right;\">\n",
       "      <th></th>\n",
       "      <th>Actual</th>\n",
       "      <th>Forecast</th>\n",
       "      <th>Percentage Error</th>\n",
       "      <th>MAPE</th>\n",
       "      <th>Forecast Period MAE</th>\n",
       "    </tr>\n",
       "    <tr>\n",
       "      <th>market</th>\n",
       "      <th></th>\n",
       "      <th></th>\n",
       "      <th></th>\n",
       "      <th></th>\n",
       "      <th></th>\n",
       "    </tr>\n",
       "  </thead>\n",
       "  <tbody>\n",
       "    <tr>\n",
       "      <th>Spain</th>\n",
       "      <td>-2503.785714</td>\n",
       "      <td>-1862.753571</td>\n",
       "      <td>84.63</td>\n",
       "      <td>79.075</td>\n",
       "      <td>81.445</td>\n",
       "    </tr>\n",
       "  </tbody>\n",
       "</table>\n",
       "</div>"
      ],
      "text/plain": [
       "             Actual     Forecast  Percentage Error    MAPE  \\\n",
       "market                                                       \n",
       "Spain  -2503.785714 -1862.753571             84.63  79.075   \n",
       "\n",
       "        Forecast Period MAE  \n",
       "market                       \n",
       "Spain                81.445  "
      ]
     },
     "execution_count": 23,
     "metadata": {},
     "output_type": "execute_result"
    }
   ],
   "source": [
    "100-accuracy_df.groupby(['market']).mean(numeric_only=1)"
   ]
  },
  {
   "cell_type": "code",
   "execution_count": 23,
   "id": "45b16b97-2f01-4939-be0e-c08a75519fde",
   "metadata": {
    "tags": []
   },
   "outputs": [
    {
     "data": {
      "text/html": [
       "<div>\n",
       "<style scoped>\n",
       "    .dataframe tbody tr th:only-of-type {\n",
       "        vertical-align: middle;\n",
       "    }\n",
       "\n",
       "    .dataframe tbody tr th {\n",
       "        vertical-align: top;\n",
       "    }\n",
       "\n",
       "    .dataframe thead th {\n",
       "        text-align: right;\n",
       "    }\n",
       "</style>\n",
       "<table border=\"1\" class=\"dataframe\">\n",
       "  <thead>\n",
       "    <tr style=\"text-align: right;\">\n",
       "      <th></th>\n",
       "      <th>market</th>\n",
       "      <th>account_type</th>\n",
       "      <th>funnel</th>\n",
       "      <th>periods_for_acc_cal</th>\n",
       "      <th>changepoint_prior_scale</th>\n",
       "      <th>seasonality_prior_scale</th>\n",
       "      <th>holidays_prior_scale</th>\n",
       "      <th>seasonality_mode</th>\n",
       "      <th>input_mode</th>\n",
       "      <th>weekday_or_weekend</th>\n",
       "      <th>...</th>\n",
       "      <th>anomaly_2021</th>\n",
       "      <th>generic_cost_split</th>\n",
       "      <th>competitor_cost_split</th>\n",
       "      <th>new_confirmed</th>\n",
       "      <th>power</th>\n",
       "      <th>growth</th>\n",
       "      <th>MAPE</th>\n",
       "      <th>period_AE</th>\n",
       "      <th>periods</th>\n",
       "      <th>cutoff_month</th>\n",
       "    </tr>\n",
       "  </thead>\n",
       "  <tbody>\n",
       "    <tr>\n",
       "      <th>1</th>\n",
       "      <td>Spain</td>\n",
       "      <td>Mobile &amp; Tablet</td>\n",
       "      <td>-</td>\n",
       "      <td>183</td>\n",
       "      <td>0.1</td>\n",
       "      <td>1.0</td>\n",
       "      <td>10.0</td>\n",
       "      <td>multiplicative</td>\n",
       "      <td>multiplicative</td>\n",
       "      <td>multiplicative</td>\n",
       "      <td>...</td>\n",
       "      <td>na</td>\n",
       "      <td>na</td>\n",
       "      <td>na</td>\n",
       "      <td>na</td>\n",
       "      <td>na</td>\n",
       "      <td>linear</td>\n",
       "      <td>19.31</td>\n",
       "      <td>20.32</td>\n",
       "      <td>251.0</td>\n",
       "      <td>2024-04-25</td>\n",
       "    </tr>\n",
       "  </tbody>\n",
       "</table>\n",
       "<p>1 rows × 23 columns</p>\n",
       "</div>"
      ],
      "text/plain": [
       "  market     account_type funnel  periods_for_acc_cal  \\\n",
       "1  Spain  Mobile & Tablet      -                  183   \n",
       "\n",
       "   changepoint_prior_scale  seasonality_prior_scale  holidays_prior_scale  \\\n",
       "1                      0.1                      1.0                  10.0   \n",
       "\n",
       "  seasonality_mode      input_mode weekday_or_weekend  ... anomaly_2021  \\\n",
       "1   multiplicative  multiplicative     multiplicative  ...           na   \n",
       "\n",
       "  generic_cost_split competitor_cost_split new_confirmed power  growth   MAPE  \\\n",
       "1                 na                    na            na    na  linear  19.31   \n",
       "\n",
       "  period_AE periods  cutoff_month  \n",
       "1     20.32   251.0    2024-04-25  \n",
       "\n",
       "[1 rows x 23 columns]"
      ]
     },
     "execution_count": 23,
     "metadata": {},
     "output_type": "execute_result"
    }
   ],
   "source": [
    "# param_grid = {\n",
    "#                 'changepoint_prior_scale': [0.05],# ,0.001,0.1, 0.5], #  \n",
    "#                 'seasonality_prior_scale': [10.0],#,0.01,  0.1, 1.0], #\n",
    "#                 'holidays_prior_scale': [0.01],#,0.1,1.0, 10.0], #\n",
    "#                 'seasonality_mode': ['additive'],#,'multiplicative'], #\n",
    "#                 'input_mode': ['na'], #'additive','multiplicative'], #\n",
    "#                 'weekday_or_weekend':['na'],#, 'additive', 'multiplicative'],  #\n",
    "#                 'include_holiday': ['na'],#, 'default', 'customized'],#\n",
    "#                 'covid_year_exclude':['na'],\n",
    "#                 'covid_year_dummy':['na'],\n",
    "#                 'anomaly_2021':['na'],\n",
    "#                 'generic_cost_split':['na'],#, 'additive'],#\n",
    "#                 'competitor_cost_split':['na'],#, 'additive'], #\n",
    "#                 'new_confirmed':['na'],#, 'additive'],#\n",
    "#             }\n",
    "param_grid = {\n",
    "    'changepoint_prior_scale': [ 0.1, 0.05],   # 0.001\n",
    "    'seasonality_prior_scale': [10.0, 1.0, 0.1],  # 0.01\n",
    "    'holidays_prior_scale': [10.0, 1.0,  0.1], # 0.01\n",
    "    'seasonality_mode': ['additive','multiplicative'], #'multiplicative'\n",
    "    'input_mode': ['additive','multiplicative'],  #,'multiplicative'\n",
    "    'weekday_or_weekend':['na', 'additive','multiplicative'],  #, 'multiplicative'\n",
    "    'include_holiday': ['na','Default', 'Custom'], #'Default', 'custom'\n",
    "    'covid_year_exclude':['na'],\n",
    "    'covid_year_dummy':['na'],#, 'additive', 'multiplicative'],\n",
    "    'anomaly_2021':['na'],#, 'additive', 'multiplicative'],\n",
    "    'generic_cost_split':['na'],#, 'additive', 'multiplicative'\n",
    "    'competitor_cost_split':['na'], #, 'additive', 'multiplicative'\n",
    "    'new_confirmed': ['na'],#, 'additive', 'multiplicative'\n",
    "            }\n",
    "\n",
    "cuts_df_mobile = cuts_df.query(\"account_type == 'Mobile & Tablet'\")\n",
    "\n",
    "cuts_df_desktop = cuts_df.loc[cuts_df['account_type'] == 'Desktop'] \n",
    "cuts_df_mobile"
   ]
  },
  {
   "cell_type": "markdown",
   "id": "45f486de-7678-4757-b866-7965908e7dea",
   "metadata": {
    "tags": []
   },
   "source": [
    "# Parallel Param Search"
   ]
  },
  {
   "cell_type": "code",
   "execution_count": null,
   "id": "fca2c299-1dd7-44c6-aea0-b05073248886",
   "metadata": {
    "collapsed": true,
    "jupyter": {
     "outputs_hidden": true
    },
    "tags": []
   },
   "outputs": [
    {
     "name": "stderr",
     "output_type": "stream",
     "text": [
      "  0%|          | 0/1 [00:00<?, ?it/s]22:22:35 - cmdstanpy - INFO - Chain [1] start processing\n",
      "22:22:35 - cmdstanpy - INFO - Chain [1] start processing\n",
      "22:22:35 - cmdstanpy - INFO - Chain [1] done processing\n",
      "22:22:35 - cmdstanpy - INFO - Chain [1] done processing\n"
     ]
    },
    {
     "name": "stdout",
     "output_type": "stream",
     "text": [
      "It's underpredicted.\n",
      "Monthly Error: 59.96 Period MAE: 61.39\n"
     ]
    },
    {
     "name": "stderr",
     "output_type": "stream",
     "text": [
      "22:22:37 - cmdstanpy - INFO - Chain [1] start processing\n",
      "22:22:37 - cmdstanpy - INFO - Chain [1] start processing\n",
      "22:22:37 - cmdstanpy - INFO - Chain [1] done processing\n",
      "22:22:37 - cmdstanpy - INFO - Chain [1] done processing\n",
      "22:22:38 - cmdstanpy - INFO - Chain [1] start processing\n"
     ]
    },
    {
     "name": "stdout",
     "output_type": "stream",
     "text": [
      "It's underpredicted.\n",
      "Monthly Error: 78.07 Period MAE: 78.75\n"
     ]
    },
    {
     "name": "stderr",
     "output_type": "stream",
     "text": [
      "22:22:39 - cmdstanpy - INFO - Chain [1] done processing\n"
     ]
    },
    {
     "name": "stdout",
     "output_type": "stream",
     "text": [
      "It's underpredicted.\n",
      "Monthly Error: 63.76 Period MAE: 65.0\n"
     ]
    },
    {
     "name": "stderr",
     "output_type": "stream",
     "text": [
      "22:22:40 - cmdstanpy - INFO - Chain [1] start processing\n",
      "22:22:40 - cmdstanpy - INFO - Chain [1] start processing\n",
      "22:22:40 - cmdstanpy - INFO - Chain [1] done processing\n",
      "22:22:40 - cmdstanpy - INFO - Chain [1] done processing\n"
     ]
    },
    {
     "name": "stdout",
     "output_type": "stream",
     "text": [
      "It's underpredicted.\n",
      "Monthly Error: 76.23 Period MAE:It's underpredicted. 76.87\n",
      "\n",
      "Monthly Error: 49.92 Period MAE: 51.53\n"
     ]
    },
    {
     "name": "stderr",
     "output_type": "stream",
     "text": [
      "22:22:42 - cmdstanpy - INFO - Chain [1] start processing\n",
      "22:22:42 - cmdstanpy - INFO - Chain [1] done processing\n"
     ]
    },
    {
     "name": "stdout",
     "output_type": "stream",
     "text": [
      "It's underpredicted.\n",
      "Monthly Error: 52.17 Period MAE: 53.83\n"
     ]
    },
    {
     "name": "stderr",
     "output_type": "stream",
     "text": [
      "22:22:43 - cmdstanpy - INFO - Chain [1] start processing\n",
      "22:22:44 - cmdstanpy - INFO - Chain [1] done processing\n",
      "22:22:44 - cmdstanpy - INFO - Chain [1] start processing\n"
     ]
    },
    {
     "name": "stdout",
     "output_type": "stream",
     "text": [
      "It's underpredicted.\n",
      "Monthly Error: 66.62 Period MAE: 68.88\n"
     ]
    },
    {
     "name": "stderr",
     "output_type": "stream",
     "text": [
      "22:22:45 - cmdstanpy - INFO - Chain [1] done processing\n"
     ]
    },
    {
     "name": "stdout",
     "output_type": "stream",
     "text": [
      "It's overpredicted.\n",
      "Monthly Error: 24.64 Period MAE: 12.47\n"
     ]
    },
    {
     "name": "stderr",
     "output_type": "stream",
     "text": [
      "22:22:46 - cmdstanpy - INFO - Chain [1] start processing\n",
      "22:22:46 - cmdstanpy - INFO - Chain [1] done processing\n"
     ]
    },
    {
     "name": "stdout",
     "output_type": "stream",
     "text": [
      "It's underpredicted.\n",
      "Monthly Error: 59.73 Period MAE: 61.06\n"
     ]
    },
    {
     "name": "stderr",
     "output_type": "stream",
     "text": [
      "22:22:47 - cmdstanpy - INFO - Chain [1] start processing\n",
      "22:22:47 - cmdstanpy - INFO - Chain [1] start processing\n",
      "22:22:47 - cmdstanpy - INFO - Chain [1] done processing\n",
      "22:22:47 - cmdstanpy - INFO - Chain [1] done processing\n"
     ]
    },
    {
     "name": "stdout",
     "output_type": "stream",
     "text": [
      "It's overpredicted.\n",
      "Monthly Error: 24.82 Period MAE: 12.5\n"
     ]
    },
    {
     "name": "stderr",
     "output_type": "stream",
     "text": [
      "22:22:48 - cmdstanpy - INFO - Chain [1] start processing\n",
      "22:22:48 - cmdstanpy - INFO - Chain [1] done processing\n"
     ]
    },
    {
     "name": "stdout",
     "output_type": "stream",
     "text": [
      "It's underpredicted.\n",
      "Monthly Error: 65.06 Period MAE: 66.33\n",
      "It's underpredicted.\n",
      "Monthly Error: 55.31 Period MAE: 56.81\n"
     ]
    },
    {
     "name": "stderr",
     "output_type": "stream",
     "text": [
      "22:22:50 - cmdstanpy - INFO - Chain [1] start processing\n",
      "22:22:50 - cmdstanpy - INFO - Chain [1] done processing\n",
      "22:22:51 - cmdstanpy - INFO - Chain [1] start processing\n",
      "22:22:51 - cmdstanpy - INFO - Chain [1] done processing\n"
     ]
    },
    {
     "name": "stdout",
     "output_type": "stream",
     "text": [
      "It's underpredicted.\n",
      "Monthly Error: 78.08 Period MAE: 78.75\n",
      "It's overpredicted.\n",
      "Monthly Error: 25.44 Period MAE: 14.04\n"
     ]
    },
    {
     "name": "stderr",
     "output_type": "stream",
     "text": [
      "22:22:53 - cmdstanpy - INFO - Chain [1] start processing\n"
     ]
    },
    {
     "name": "stdout",
     "output_type": "stream",
     "text": [
      "It's underpredicted.\n",
      "Monthly Error: 68.69 Period MAE: 69.82000000000001\n"
     ]
    },
    {
     "name": "stderr",
     "output_type": "stream",
     "text": [
      "22:22:53 - cmdstanpy - INFO - Chain [1] start processing\n",
      "22:22:53 - cmdstanpy - INFO - Chain [1] done processing\n",
      "22:22:53 - cmdstanpy - INFO - Chain [1] start processing\n",
      "22:22:53 - cmdstanpy - INFO - Chain [1] done processing\n",
      "22:22:54 - cmdstanpy - INFO - Chain [1] done processing\n"
     ]
    },
    {
     "name": "stdout",
     "output_type": "stream",
     "text": [
      "It's underpredicted.It's underpredicted.\n",
      "\n",
      "Monthly Error: Monthly Error: 76.249.0  Period MAE:Period MAE: 50.64999999999999 \n",
      "76.84\n"
     ]
    },
    {
     "name": "stderr",
     "output_type": "stream",
     "text": [
      "22:22:55 - cmdstanpy - INFO - Chain [1] start processing\n"
     ]
    },
    {
     "name": "stdout",
     "output_type": "stream",
     "text": [
      "It's underpredicted.\n",
      "Monthly Error: "
     ]
    },
    {
     "name": "stderr",
     "output_type": "stream",
     "text": [
      "22:22:55 - cmdstanpy - INFO - Chain [1] done processing\n"
     ]
    },
    {
     "name": "stdout",
     "output_type": "stream",
     "text": [
      "58.97 Period MAE: 60.36\n"
     ]
    },
    {
     "name": "stderr",
     "output_type": "stream",
     "text": [
      "22:22:56 - cmdstanpy - INFO - Chain [1] start processing\n",
      "22:22:56 - cmdstanpy - INFO - Chain [1] done processing\n",
      "22:22:56 - cmdstanpy - INFO - Chain [1] start processing\n",
      "22:22:57 - cmdstanpy - INFO - Chain [1] done processing\n"
     ]
    },
    {
     "name": "stdout",
     "output_type": "stream",
     "text": [
      "It's underpredicted.\n",
      "Monthly Error: 50.76 Period MAE: 52.28\n",
      "It's underpredicted.\n",
      "Monthly Error: 61.21 Period MAE: 63.800000000000004\n",
      "It's underpredicted.\n",
      "Monthly Error: 77.0 Period MAE: 77.73\n"
     ]
    },
    {
     "name": "stderr",
     "output_type": "stream",
     "text": [
      "22:22:59 - cmdstanpy - INFO - Chain [1] start processing\n",
      "22:22:59 - cmdstanpy - INFO - Chain [1] start processing\n",
      "22:22:59 - cmdstanpy - INFO - Chain [1] done processing\n",
      "22:23:00 - cmdstanpy - INFO - Chain [1] start processing\n",
      "22:23:00 - cmdstanpy - INFO - Chain [1] done processing\n",
      "22:23:00 - cmdstanpy - INFO - Chain [1] done processing\n"
     ]
    },
    {
     "name": "stdout",
     "output_type": "stream",
     "text": [
      "It's underpredicted.\n",
      "Monthly Error: 75.46 Period MAE: 76.17\n",
      "It's underpredicted.\n",
      "Monthly Error: 46.58 Period MAE: 48.28\n"
     ]
    },
    {
     "name": "stderr",
     "output_type": "stream",
     "text": [
      "22:23:01 - cmdstanpy - INFO - Chain [1] start processing\n",
      "22:23:01 - cmdstanpy - INFO - Chain [1] done processing\n"
     ]
    },
    {
     "name": "stdout",
     "output_type": "stream",
     "text": [
      "It's underpredicted.\n",
      "Monthly Error: 39.04 Period MAE: 40.760000000000005\n"
     ]
    },
    {
     "name": "stderr",
     "output_type": "stream",
     "text": [
      "22:23:02 - cmdstanpy - INFO - Chain [1] start processing\n",
      "22:23:03 - cmdstanpy - INFO - Chain [1] start processing\n",
      "22:23:03 - cmdstanpy - INFO - Chain [1] done processing\n",
      "22:23:03 - cmdstanpy - INFO - Chain [1] done processing\n"
     ]
    },
    {
     "name": "stdout",
     "output_type": "stream",
     "text": [
      "It's underpredicted.\n",
      "Monthly Error: 61.85 Period MAE: 64.42\n",
      "It's underpredicted.\n",
      "Monthly Error: 48.52 Period MAE: 50.09\n"
     ]
    },
    {
     "name": "stderr",
     "output_type": "stream",
     "text": [
      "22:23:06 - cmdstanpy - INFO - Chain [1] start processing\n"
     ]
    },
    {
     "name": "stdout",
     "output_type": "stream",
     "text": [
      "It's overpredicted.\n",
      "Monthly Error: 23.1 Period MAE: 13.54\n"
     ]
    },
    {
     "name": "stderr",
     "output_type": "stream",
     "text": [
      "22:23:06 - cmdstanpy - INFO - Chain [1] start processing\n",
      "22:23:06 - cmdstanpy - INFO - Chain [1] start processing\n",
      "22:23:06 - cmdstanpy - INFO - Chain [1] done processing\n",
      "22:23:07 - cmdstanpy - INFO - Chain [1] done processing\n",
      "22:23:07 - cmdstanpy - INFO - Chain [1] done processing\n"
     ]
    },
    {
     "name": "stdout",
     "output_type": "stream",
     "text": [
      "It's overpredicted.\n",
      "Monthly Error: 23.14 Period MAE: 13.139999999999999\n"
     ]
    },
    {
     "name": "stderr",
     "output_type": "stream",
     "text": [
      "22:23:08 - cmdstanpy - INFO - Chain [1] start processing\n",
      "22:23:08 - cmdstanpy - INFO - Chain [1] done processing\n"
     ]
    },
    {
     "name": "stdout",
     "output_type": "stream",
     "text": [
      "It's underpredicted.\n",
      "Monthly Error: 51.42 Period MAE: 53.06999999999999\n",
      "It's underpredicted.\n",
      "Monthly Error: 26.36 Period MAE: "
     ]
    },
    {
     "name": "stderr",
     "output_type": "stream",
     "text": [
      "22:23:09 - cmdstanpy - INFO - Chain [1] start processing\n"
     ]
    },
    {
     "name": "stdout",
     "output_type": "stream",
     "text": [
      "28.23\n"
     ]
    },
    {
     "name": "stderr",
     "output_type": "stream",
     "text": [
      "22:23:10 - cmdstanpy - INFO - Chain [1] done processing\n",
      "22:23:10 - cmdstanpy - INFO - Chain [1] start processing\n",
      "22:23:10 - cmdstanpy - INFO - Chain [1] done processing\n"
     ]
    },
    {
     "name": "stdout",
     "output_type": "stream",
     "text": [
      "It's overpredicted.\n",
      "Monthly Error: 24.0 Period MAE: 15.479999999999999\n",
      "It's underpredicted.\n",
      "Monthly Error: 76.88 Period MAE: 77.61\n",
      "It's underpredicted.\n",
      "Monthly Error: 45.81 Period MAE: 47.449999999999996\n"
     ]
    },
    {
     "name": "stderr",
     "output_type": "stream",
     "text": [
      "22:23:12 - cmdstanpy - INFO - Chain [1] start processing\n",
      "22:23:13 - cmdstanpy - INFO - Chain [1] start processing\n",
      "22:23:13 - cmdstanpy - INFO - Chain [1] done processing\n",
      "22:23:13 - cmdstanpy - INFO - Chain [1] start processing\n",
      "22:23:13 - cmdstanpy - INFO - Chain [1] done processing\n",
      "22:23:14 - cmdstanpy - INFO - Chain [1] done processing\n"
     ]
    },
    {
     "name": "stdout",
     "output_type": "stream",
     "text": [
      "It's underpredicted.\n",
      "It's underpredicted.Monthly Error:\n",
      " Monthly Error:61.02 73.85 Period MAE:  62.629999999999995\n",
      "Period MAE: 74.62\n"
     ]
    },
    {
     "name": "stderr",
     "output_type": "stream",
     "text": [
      "22:23:14 - cmdstanpy - INFO - Chain [1] start processing\n",
      "22:23:15 - cmdstanpy - INFO - Chain [1] done processing\n",
      "22:23:15 - cmdstanpy - INFO - Chain [1] start processing\n",
      "22:23:15 - cmdstanpy - INFO - Chain [1] done processing\n"
     ]
    },
    {
     "name": "stdout",
     "output_type": "stream",
     "text": [
      "It's underpredicted.\n",
      "Monthly Error: 43.8 Period MAE: 45.440000000000005\n"
     ]
    },
    {
     "name": "stderr",
     "output_type": "stream",
     "text": [
      "22:23:17 - cmdstanpy - INFO - Chain [1] start processing\n",
      "22:23:17 - cmdstanpy - INFO - Chain [1] done processing\n"
     ]
    },
    {
     "name": "stdout",
     "output_type": "stream",
     "text": [
      "It's underpredicted.\n",
      "Monthly Error: 50.49 Period MAE: 52.22\n",
      "It's underpredicted.\n",
      "Monthly Error: 57.71 Period MAE: 60.440000000000005\n",
      "It's underpredicted.\n",
      "Monthly Error: 89.92 Period MAE: 90.53\n"
     ]
    },
    {
     "name": "stderr",
     "output_type": "stream",
     "text": [
      "22:23:19 - cmdstanpy - INFO - Chain [1] start processing\n",
      "22:23:19 - cmdstanpy - INFO - Chain [1] start processing\n",
      "22:23:19 - cmdstanpy - INFO - Chain [1] start processing\n",
      "22:23:19 - cmdstanpy - INFO - Chain [1] done processing\n",
      "22:23:19 - cmdstanpy - INFO - Chain [1] done processing\n",
      "22:23:20 - cmdstanpy - INFO - Chain [1] done processing\n"
     ]
    },
    {
     "name": "stdout",
     "output_type": "stream",
     "text": [
      "It's underpredicted.\n",
      "Monthly Error: 61.36 Period MAE: 62.949999999999996\n"
     ]
    },
    {
     "name": "stderr",
     "output_type": "stream",
     "text": [
      "22:23:21 - cmdstanpy - INFO - Chain [1] start processing\n"
     ]
    },
    {
     "name": "stdout",
     "output_type": "stream",
     "text": [
      "It's underpredicted.\n",
      "Monthly Error: 90.77 Period MAE: 91.34\n"
     ]
    },
    {
     "name": "stderr",
     "output_type": "stream",
     "text": [
      "22:23:21 - cmdstanpy - INFO - Chain [1] done processing\n"
     ]
    },
    {
     "name": "stdout",
     "output_type": "stream",
     "text": [
      "It's underpredicted.\n",
      "Monthly Error: 43.99 Period MAE: 45.71\n"
     ]
    },
    {
     "name": "stderr",
     "output_type": "stream",
     "text": [
      "22:23:22 - cmdstanpy - INFO - Chain [1] start processing\n",
      "22:23:23 - cmdstanpy - INFO - Chain [1] done processing\n",
      "22:23:23 - cmdstanpy - INFO - Chain [1] start processing\n",
      "22:23:23 - cmdstanpy - INFO - Chain [1] done processing\n"
     ]
    },
    {
     "name": "stdout",
     "output_type": "stream",
     "text": [
      "It's underpredicted.\n",
      "Monthly Error: 91.25 Period MAE: 91.79\n",
      "It's underpredicted.\n",
      "Monthly Error: 55.11 Period MAE: 56.76\n"
     ]
    },
    {
     "name": "stderr",
     "output_type": "stream",
     "text": [
      "22:23:24 - cmdstanpy - INFO - Chain [1] start processing\n"
     ]
    },
    {
     "name": "stdout",
     "output_type": "stream",
     "text": [
      "It's underpredicted.\n",
      "Monthly Error: 56.42 Period MAE: 58.06\n"
     ]
    },
    {
     "name": "stderr",
     "output_type": "stream",
     "text": [
      "22:23:25 - cmdstanpy - INFO - Chain [1] start processing\n"
     ]
    },
    {
     "name": "stdout",
     "output_type": "stream",
     "text": [
      "It's underpredicted.\n",
      "Monthly Error: 59.75 Period MAE: "
     ]
    },
    {
     "name": "stderr",
     "output_type": "stream",
     "text": [
      "22:23:26 - cmdstanpy - INFO - Chain [1] done processing\n"
     ]
    },
    {
     "name": "stdout",
     "output_type": "stream",
     "text": [
      "61.260000000000005\n"
     ]
    },
    {
     "name": "stderr",
     "output_type": "stream",
     "text": [
      "22:23:26 - cmdstanpy - INFO - Chain [1] done processing\n",
      "22:23:26 - cmdstanpy - INFO - Chain [1] start processing\n",
      "22:23:26 - cmdstanpy - INFO - Chain [1] start processing\n",
      "22:23:26 - cmdstanpy - INFO - Chain [1] done processing\n"
     ]
    },
    {
     "name": "stdout",
     "output_type": "stream",
     "text": [
      "It's underpredicted."
     ]
    },
    {
     "name": "stderr",
     "output_type": "stream",
     "text": [
      "22:23:27 - cmdstanpy - INFO - Chain [1] done processing\n"
     ]
    },
    {
     "name": "stdout",
     "output_type": "stream",
     "text": [
      "\n",
      "Monthly Error: 38.38 Period MAE: 40.27\n",
      "It's underpredicted.\n",
      "Monthly Error: 35.89 Period MAE: 37.669999999999995\n"
     ]
    },
    {
     "name": "stderr",
     "output_type": "stream",
     "text": [
      "22:23:28 - cmdstanpy - INFO - Chain [1] start processing\n",
      "22:23:29 - cmdstanpy - INFO - Chain [1] start processing\n",
      "22:23:29 - cmdstanpy - INFO - Chain [1] done processing\n",
      "22:23:30 - cmdstanpy - INFO - Chain [1] done processing\n"
     ]
    },
    {
     "name": "stdout",
     "output_type": "stream",
     "text": [
      "It's underpredicted.\n",
      "Monthly Error: 63.43 Period MAE: 64.9\n",
      "It's underpredicted."
     ]
    },
    {
     "name": "stderr",
     "output_type": "stream",
     "text": [
      "22:23:31 - cmdstanpy - INFO - Chain [1] start processing\n"
     ]
    },
    {
     "name": "stdout",
     "output_type": "stream",
     "text": [
      "\n",
      "Monthly Error: 22.27 Period MAE: 22.53\n",
      "It's underpredicted.\n",
      "Monthly Error: 19.86 Period MAE: 20.72\n"
     ]
    },
    {
     "name": "stderr",
     "output_type": "stream",
     "text": [
      "22:23:32 - cmdstanpy - INFO - Chain [1] start processing\n",
      "22:23:32 - cmdstanpy - INFO - Chain [1] done processing\n",
      "22:23:33 - cmdstanpy - INFO - Chain [1] start processing\n",
      "22:23:33 - cmdstanpy - INFO - Chain [1] done processing\n",
      "22:23:33 - cmdstanpy - INFO - Chain [1] done processing\n"
     ]
    },
    {
     "name": "stdout",
     "output_type": "stream",
     "text": [
      "It's underpredicted.\n",
      "Monthly Error: 36.44 Period MAE: 38.36\n",
      "It's underpredicted.\n",
      "Monthly Error: 69.66 "
     ]
    },
    {
     "name": "stderr",
     "output_type": "stream",
     "text": [
      "22:23:34 - cmdstanpy - INFO - Chain [1] start processing\n"
     ]
    },
    {
     "name": "stdout",
     "output_type": "stream",
     "text": [
      "Period MAE: 70.93\n"
     ]
    },
    {
     "name": "stderr",
     "output_type": "stream",
     "text": [
      "22:23:34 - cmdstanpy - INFO - Chain [1] done processing\n",
      "22:23:35 - cmdstanpy - INFO - Chain [1] start processing\n"
     ]
    },
    {
     "name": "stdout",
     "output_type": "stream",
     "text": [
      "It's underpredicted.\n",
      "Monthly Error: 25.67 Period MAE: 27.52\n"
     ]
    },
    {
     "name": "stderr",
     "output_type": "stream",
     "text": [
      "22:23:35 - cmdstanpy - INFO - Chain [1] done processing\n",
      "22:23:36 - cmdstanpy - INFO - Chain [1] start processing\n",
      "22:23:36 - cmdstanpy - INFO - Chain [1] done processing\n"
     ]
    },
    {
     "name": "stdout",
     "output_type": "stream",
     "text": [
      "It's underpredicted.\n",
      "Monthly Error: 40.69 Period MAE: 42.51\n",
      "It's underpredicted.\n",
      "Monthly Error: 21.81 Period MAE: 19.33\n",
      "It's underpredicted.\n",
      "Monthly Error: 87.71 Period MAE: 88.4\n"
     ]
    },
    {
     "name": "stderr",
     "output_type": "stream",
     "text": [
      "22:23:38 - cmdstanpy - INFO - Chain [1] start processing\n",
      "22:23:39 - cmdstanpy - INFO - Chain [1] start processing\n",
      "22:23:39 - cmdstanpy - INFO - Chain [1] done processing\n",
      "22:23:39 - cmdstanpy - INFO - Chain [1] start processing\n",
      "22:23:39 - cmdstanpy - INFO - Chain [1] done processing\n",
      "22:23:40 - cmdstanpy - INFO - Chain [1] done processing\n"
     ]
    },
    {
     "name": "stdout",
     "output_type": "stream",
     "text": [
      "It's underpredicted.\n",
      "Monthly Error: 87.79 Period MAE: 88.48\n",
      "It's underpredicted.\n",
      "Monthly Error:"
     ]
    },
    {
     "name": "stderr",
     "output_type": "stream",
     "text": [
      "22:23:41 - cmdstanpy - INFO - Chain [1] start processing\n"
     ]
    },
    {
     "name": "stdout",
     "output_type": "stream",
     "text": [
      " 47.37 Period MAE: 49.15\n"
     ]
    },
    {
     "name": "stderr",
     "output_type": "stream",
     "text": [
      "22:23:41 - cmdstanpy - INFO - Chain [1] done processing\n"
     ]
    },
    {
     "name": "stdout",
     "output_type": "stream",
     "text": [
      "It's underpredicted.\n",
      "Monthly Error: 29.4 Period MAE: 31.290000000000003\n"
     ]
    },
    {
     "name": "stderr",
     "output_type": "stream",
     "text": [
      "22:23:42 - cmdstanpy - INFO - Chain [1] start processing\n",
      "22:23:42 - cmdstanpy - INFO - Chain [1] done processing\n",
      "22:23:42 - cmdstanpy - INFO - Chain [1] start processing\n",
      "22:23:43 - cmdstanpy - INFO - Chain [1] done processing\n"
     ]
    },
    {
     "name": "stdout",
     "output_type": "stream",
     "text": [
      "It's underpredicted.\n",
      "Monthly Error: 44.25 Period MAE: 46.01\n",
      "It's underpredicted.\n",
      "Monthly Error: 87.56 Period MAE: 88.25\n",
      "It's underpredicted.\n",
      "Monthly Error: 55.79 Period MAE: 57.36\n"
     ]
    },
    {
     "name": "stderr",
     "output_type": "stream",
     "text": [
      "22:23:45 - cmdstanpy - INFO - Chain [1] start processing\n",
      "22:23:45 - cmdstanpy - INFO - Chain [1] start processing\n",
      "22:23:45 - cmdstanpy - INFO - Chain [1] start processing\n",
      "22:23:46 - cmdstanpy - INFO - Chain [1] done processing\n",
      "22:23:46 - cmdstanpy - INFO - Chain [1] done processing\n",
      "22:23:46 - cmdstanpy - INFO - Chain [1] done processing\n"
     ]
    },
    {
     "name": "stdout",
     "output_type": "stream",
     "text": [
      "It's underpredicted.\n",
      "Monthly Error: 66.13 Period MAE: 67.31\n",
      "It's underpredicted.\n",
      "Monthly Error: 14.61 Period MAE: 11.93\n"
     ]
    },
    {
     "name": "stderr",
     "output_type": "stream",
     "text": [
      "22:23:47 - cmdstanpy - INFO - Chain [1] start processing\n",
      "22:23:48 - cmdstanpy - INFO - Chain [1] done processing\n",
      "22:23:49 - cmdstanpy - INFO - Chain [1] start processing\n"
     ]
    },
    {
     "name": "stdout",
     "output_type": "stream",
     "text": [
      "It's underpredicted.\n",
      "Monthly Error: 31.57 Period MAE: 33.42\n"
     ]
    },
    {
     "name": "stderr",
     "output_type": "stream",
     "text": [
      "22:23:50 - cmdstanpy - INFO - Chain [1] done processing\n"
     ]
    },
    {
     "name": "stdout",
     "output_type": "stream",
     "text": [
      "It's underpredicted.\n",
      "Monthly Error: 88.11 Period MAE: 88.79\n"
     ]
    },
    {
     "name": "stderr",
     "output_type": "stream",
     "text": [
      "22:23:51 - cmdstanpy - INFO - Chain [1] start processing\n"
     ]
    },
    {
     "name": "stdout",
     "output_type": "stream",
     "text": [
      "It's underpredicted.\n",
      "Monthly Error: 28.42 Period MAE: 30.81\n"
     ]
    },
    {
     "name": "stderr",
     "output_type": "stream",
     "text": [
      "22:23:51 - cmdstanpy - INFO - Chain [1] done processing\n",
      "22:23:51 - cmdstanpy - INFO - Chain [1] start processing\n"
     ]
    },
    {
     "name": "stdout",
     "output_type": "stream",
     "text": [
      "It's underpredicted.\n",
      "Monthly Error: 20.0 Period MAE: 21.09\n"
     ]
    },
    {
     "name": "stderr",
     "output_type": "stream",
     "text": [
      "22:23:52 - cmdstanpy - INFO - Chain [1] start processing\n",
      "22:23:52 - cmdstanpy - INFO - Chain [1] start processing\n",
      "22:23:52 - cmdstanpy - INFO - Chain [1] done processing\n",
      "22:23:53 - cmdstanpy - INFO - Chain [1] done processing\n",
      "22:23:53 - cmdstanpy - INFO - Chain [1] done processing\n"
     ]
    },
    {
     "name": "stdout",
     "output_type": "stream",
     "text": [
      "It's underpredicted.\n",
      "Monthly Error: 51.88 Period MAE: 53.55\n"
     ]
    },
    {
     "name": "stderr",
     "output_type": "stream",
     "text": [
      "22:23:54 - cmdstanpy - INFO - Chain [1] start processing\n",
      "22:23:54 - cmdstanpy - INFO - Chain [1] done processing\n"
     ]
    },
    {
     "name": "stdout",
     "output_type": "stream",
     "text": [
      "It's underpredicted.\n",
      "Monthly Error: 63.12 Period MAE: 64.74\n",
      "It's underpredicted.\n",
      "Monthly Error: 19.55 Period MAE: 20.76\n"
     ]
    },
    {
     "name": "stderr",
     "output_type": "stream",
     "text": [
      "22:23:55 - cmdstanpy - INFO - Chain [1] start processing\n",
      "22:23:56 - cmdstanpy - INFO - Chain [1] done processing\n",
      "22:23:56 - cmdstanpy - INFO - Chain [1] start processing\n",
      "22:23:56 - cmdstanpy - INFO - Chain [1] done processing\n"
     ]
    },
    {
     "name": "stdout",
     "output_type": "stream",
     "text": [
      "It's underpredicted.\n",
      "Monthly Error: 88.32 Period MAE: 89.01\n",
      "It's underpredicted.\n",
      "Monthly Error: 78.05 Period MAE: 78.73\n"
     ]
    },
    {
     "name": "stderr",
     "output_type": "stream",
     "text": [
      "22:23:58 - cmdstanpy - INFO - Chain [1] start processing\n"
     ]
    },
    {
     "name": "stdout",
     "output_type": "stream",
     "text": [
      "It's underpredicted.\n",
      "Monthly Error: 56.12 Period MAE: 57.58\n"
     ]
    },
    {
     "name": "stderr",
     "output_type": "stream",
     "text": [
      "22:23:58 - cmdstanpy - INFO - Chain [1] start processing\n",
      "22:23:58 - cmdstanpy - INFO - Chain [1] done processing\n",
      "22:23:59 - cmdstanpy - INFO - Chain [1] done processing\n",
      "22:23:59 - cmdstanpy - INFO - Chain [1] start processing\n",
      "22:23:59 - cmdstanpy - INFO - Chain [1] done processing\n"
     ]
    },
    {
     "name": "stdout",
     "output_type": "stream",
     "text": [
      "It's underpredicted.\n",
      "Monthly Error: 47.97 Period MAE: 49.71It's underpredicted.\n",
      "\n",
      "Monthly Error:\n",
      " 76.07 Period MAE: It's underpredicted.76.72\n",
      "\n",
      "Monthly Error: 55.54 Period MAE: 57.02"
     ]
    },
    {
     "name": "stderr",
     "output_type": "stream",
     "text": [
      "22:24:01 - cmdstanpy - INFO - Chain [1] start processing\n",
      "22:24:01 - cmdstanpy - INFO - Chain [1] done processing\n",
      "22:24:02 - cmdstanpy - INFO - Chain [1] start processing\n",
      "22:24:02 - cmdstanpy - INFO - Chain [1] start processing\n",
      "22:24:02 - cmdstanpy - INFO - Chain [1] done processing\n",
      "22:24:02 - cmdstanpy - INFO - Chain [1] done processing\n"
     ]
    },
    {
     "name": "stdout",
     "output_type": "stream",
     "text": [
      "It's underpredicted.\n",
      "Monthly Error: 54.98 Period MAE: 56.48\n",
      "It's overpredicted.\n",
      "Monthly Error: 24.56 Period MAE: It's underpredicted.\n",
      "12.34\n",
      "Monthly Error: 64.9 Period MAE: 67.12\n"
     ]
    },
    {
     "name": "stderr",
     "output_type": "stream",
     "text": [
      "22:24:06 - cmdstanpy - INFO - Chain [1] start processing\n",
      "22:24:06 - cmdstanpy - INFO - Chain [1] start processing\n",
      "22:24:07 - cmdstanpy - INFO - Chain [1] done processing\n",
      "22:24:07 - cmdstanpy - INFO - Chain [1] start processing\n"
     ]
    },
    {
     "name": "stdout",
     "output_type": "stream",
     "text": [
      "It's overpredicted.\n",
      "Monthly Error: 24.68 Period MAE: 12.25\n"
     ]
    },
    {
     "name": "stderr",
     "output_type": "stream",
     "text": [
      "22:24:07 - cmdstanpy - INFO - Chain [1] done processing\n",
      "22:24:07 - cmdstanpy - INFO - Chain [1] done processing\n",
      "22:24:07 - cmdstanpy - INFO - Chain [1] start processing\n",
      "22:24:08 - cmdstanpy - INFO - Chain [1] done processing\n"
     ]
    },
    {
     "name": "stdout",
     "output_type": "stream",
     "text": [
      "It's underpredicted.\n",
      "Monthly Error: 64.92 Period MAE: 66.2\n"
     ]
    },
    {
     "name": "stderr",
     "output_type": "stream",
     "text": [
      "22:24:10 - cmdstanpy - INFO - Chain [1] start processing\n"
     ]
    },
    {
     "name": "stdout",
     "output_type": "stream",
     "text": [
      "It's underpredicted.\n",
      "Monthly Error: "
     ]
    },
    {
     "name": "stderr",
     "output_type": "stream",
     "text": [
      "22:24:10 - cmdstanpy - INFO - Chain [1] done processing\n"
     ]
    },
    {
     "name": "stdout",
     "output_type": "stream",
     "text": [
      "53.05 Period MAE: 54.6\n"
     ]
    },
    {
     "name": "stderr",
     "output_type": "stream",
     "text": [
      "22:24:11 - cmdstanpy - INFO - Chain [1] start processing\n",
      "22:24:11 - cmdstanpy - INFO - Chain [1] done processing\n"
     ]
    },
    {
     "name": "stdout",
     "output_type": "stream",
     "text": [
      "It's underpredicted.\n",
      "Monthly Error:It's overpredicted.\n",
      " Monthly Error:78.05  Period MAE: 78.7325.43\n",
      " Period MAE: 14.04\n",
      "It's underpredicted.\n",
      "Monthly Error: 59.24 Period MAE: 60.589999999999996\n"
     ]
    },
    {
     "name": "stderr",
     "output_type": "stream",
     "text": [
      "22:24:13 - cmdstanpy - INFO - Chain [1] start processing\n",
      "22:24:13 - cmdstanpy - INFO - Chain [1] start processing\n",
      "22:24:13 - cmdstanpy - INFO - Chain [1] done processing\n",
      "22:24:13 - cmdstanpy - INFO - Chain [1] start processing\n",
      "22:24:13 - cmdstanpy - INFO - Chain [1] done processing\n",
      "22:24:14 - cmdstanpy - INFO - Chain [1] done processing\n"
     ]
    },
    {
     "name": "stdout",
     "output_type": "stream",
     "text": [
      "It's underpredicted.\n",
      "Monthly Error: 43.03 Period MAE: 44.82\n"
     ]
    },
    {
     "name": "stderr",
     "output_type": "stream",
     "text": [
      "22:24:15 - cmdstanpy - INFO - Chain [1] start processing\n",
      "22:24:15 - cmdstanpy - INFO - Chain [1] done processing\n"
     ]
    },
    {
     "name": "stdout",
     "output_type": "stream",
     "text": [
      "It's underpredicted.\n",
      "Monthly Error: 76.09 Period MAE: 76.74\n",
      "It's underpredicted.\n",
      "Monthly Error: 59.59 Period MAE: 60.95\n"
     ]
    },
    {
     "name": "stderr",
     "output_type": "stream",
     "text": [
      "22:24:17 - cmdstanpy - INFO - Chain [1] start processing\n",
      "22:24:17 - cmdstanpy - INFO - Chain [1] start processing\n",
      "22:24:17 - cmdstanpy - INFO - Chain [1] done processing\n",
      "22:24:17 - cmdstanpy - INFO - Chain [1] done processing\n"
     ]
    },
    {
     "name": "stdout",
     "output_type": "stream",
     "text": [
      "It's underpredicted.\n",
      "Monthly Error: 66.99 Period MAE: 69.23\n",
      "It's underpredicted.\n",
      "Monthly Error: 76.95 Period MAE: 77.69\n"
     ]
    },
    {
     "name": "stderr",
     "output_type": "stream",
     "text": [
      "22:24:19 - cmdstanpy - INFO - Chain [1] start processing\n"
     ]
    },
    {
     "name": "stdout",
     "output_type": "stream",
     "text": [
      "It's underpredicted.\n",
      "Monthly Error: 40.9 Period MAE: 42.64\n"
     ]
    },
    {
     "name": "stderr",
     "output_type": "stream",
     "text": [
      "22:24:20 - cmdstanpy - INFO - Chain [1] start processing\n",
      "22:24:20 - cmdstanpy - INFO - Chain [1] start processing\n",
      "22:24:20 - cmdstanpy - INFO - Chain [1] done processing\n",
      "22:24:20 - cmdstanpy - INFO - Chain [1] done processing\n",
      "22:24:20 - cmdstanpy - INFO - Chain [1] done processing\n"
     ]
    },
    {
     "name": "stdout",
     "output_type": "stream",
     "text": [
      "It's underpredicted.\n",
      "Monthly Error: 75.49 Period MAE: 76.2\n"
     ]
    },
    {
     "name": "stderr",
     "output_type": "stream",
     "text": [
      "22:24:21 - cmdstanpy - INFO - Chain [1] start processing\n",
      "22:24:21 - cmdstanpy - INFO - Chain [1] done processing\n"
     ]
    },
    {
     "name": "stdout",
     "output_type": "stream",
     "text": [
      "It's underpredicted.\n",
      "Monthly Error: 45.25 Period MAE: 46.98\n",
      "It's underpredicted.\n",
      "Monthly Error: 41.2 Period MAE: 42.89\n"
     ]
    },
    {
     "name": "stderr",
     "output_type": "stream",
     "text": [
      "22:24:23 - cmdstanpy - INFO - Chain [1] start processing\n",
      "22:24:23 - cmdstanpy - INFO - Chain [1] done processing\n",
      "22:24:24 - cmdstanpy - INFO - Chain [1] start processing\n",
      "22:24:24 - cmdstanpy - INFO - Chain [1] done processing\n"
     ]
    },
    {
     "name": "stdout",
     "output_type": "stream",
     "text": [
      "It's underpredicted.\n",
      "Monthly Error: 60.52 Period MAE: 63.06\n",
      "It's underpredicted.\n",
      "Monthly Error: 34.25 Period MAE:It's overpredicted. \n",
      "36.07Monthly Error:\n",
      " 22.93 Period MAE: \n",
      "13.239999999999998"
     ]
    },
    {
     "name": "stderr",
     "output_type": "stream",
     "text": [
      "22:24:26 - cmdstanpy - INFO - Chain [1] start processing\n",
      "22:24:26 - cmdstanpy - INFO - Chain [1] start processing\n",
      "22:24:26 - cmdstanpy - INFO - Chain [1] done processing\n",
      "22:24:26 - cmdstanpy - INFO - Chain [1] start processing\n",
      "22:24:27 - cmdstanpy - INFO - Chain [1] done processing\n",
      "22:24:27 - cmdstanpy - INFO - Chain [1] done processing\n"
     ]
    },
    {
     "name": "stdout",
     "output_type": "stream",
     "text": [
      "It's overpredicted.\n",
      "Monthly Error: 23.03 Period MAE: 13.0\n",
      "It's underpredicted.\n",
      "Monthly Error: 48.8 Period MAE: 50.5\n"
     ]
    },
    {
     "name": "stderr",
     "output_type": "stream",
     "text": [
      "22:24:28 - cmdstanpy - INFO - Chain [1] start processing\n",
      "22:24:28 - cmdstanpy - INFO - Chain [1] done processing\n",
      "22:24:29 - cmdstanpy - INFO - Chain [1] start processing\n"
     ]
    },
    {
     "name": "stdout",
     "output_type": "stream",
     "text": [
      "It's underpredicted.\n",
      "Monthly Error: 32.52 Period MAE: 34.29\n"
     ]
    },
    {
     "name": "stderr",
     "output_type": "stream",
     "text": [
      "22:24:30 - cmdstanpy - INFO - Chain [1] done processing\n",
      "22:24:31 - cmdstanpy - INFO - Chain [1] start processing\n",
      "22:24:31 - cmdstanpy - INFO - Chain [1] done processing\n"
     ]
    },
    {
     "name": "stdout",
     "output_type": "stream",
     "text": [
      "It's underpredicted.\n",
      "Monthly Error: 41.62 Period MAE: 43.34\n",
      "It's overpredicted.\n",
      "Monthly Error: 24.06 Period MAE: 15.68\n",
      "It's underpredicted.\n",
      "Monthly Error: 76.87 Period MAE: 77.60000000000001\n"
     ]
    },
    {
     "name": "stderr",
     "output_type": "stream",
     "text": [
      "22:24:32 - cmdstanpy - INFO - Chain [1] start processing\n",
      "22:24:33 - cmdstanpy - INFO - Chain [1] start processing\n",
      "22:24:33 - cmdstanpy - INFO - Chain [1] done processing\n",
      "22:24:33 - cmdstanpy - INFO - Chain [1] start processing\n",
      "22:24:33 - cmdstanpy - INFO - Chain [1] done processing\n",
      "22:24:34 - cmdstanpy - INFO - Chain [1] done processing\n"
     ]
    },
    {
     "name": "stdout",
     "output_type": "stream",
     "text": [
      "It's underpredicted.\n",
      "Monthly Error:It's underpredicted. 72.87\n",
      " Monthly Error:Period MAE:  73.6161.9\n",
      " Period MAE: 63.5\n"
     ]
    },
    {
     "name": "stderr",
     "output_type": "stream",
     "text": [
      "22:24:35 - cmdstanpy - INFO - Chain [1] start processing\n",
      "22:24:35 - cmdstanpy - INFO - Chain [1] done processing\n",
      "22:24:35 - cmdstanpy - INFO - Chain [1] start processing\n"
     ]
    },
    {
     "name": "stdout",
     "output_type": "stream",
     "text": [
      "It's underpredicted.\n",
      "Monthly Error: 45.49 Period MAE:"
     ]
    },
    {
     "name": "stderr",
     "output_type": "stream",
     "text": [
      "22:24:36 - cmdstanpy - INFO - Chain [1] done processing\n"
     ]
    },
    {
     "name": "stdout",
     "output_type": "stream",
     "text": [
      " 47.11\n"
     ]
    },
    {
     "name": "stderr",
     "output_type": "stream",
     "text": [
      "22:24:37 - cmdstanpy - INFO - Chain [1] start processing\n",
      "22:24:37 - cmdstanpy - INFO - Chain [1] done processing\n"
     ]
    },
    {
     "name": "stdout",
     "output_type": "stream",
     "text": [
      "It's underpredicted.\n",
      "Monthly Error: 50.72 Period MAE: 52.449999999999996\n",
      "It's underpredicted.\n",
      "Monthly Error: 58.86 Period MAE: 61.519999999999996\n",
      "It's underpredicted.\n",
      "Monthly Error: 90.85 Period MAE: 91.41\n"
     ]
    },
    {
     "name": "stderr",
     "output_type": "stream",
     "text": [
      "22:24:39 - cmdstanpy - INFO - Chain [1] start processing\n",
      "22:24:39 - cmdstanpy - INFO - Chain [1] start processing\n",
      "22:24:39 - cmdstanpy - INFO - Chain [1] start processing\n",
      "22:24:39 - cmdstanpy - INFO - Chain [1] done processing\n",
      "22:24:40 - cmdstanpy - INFO - Chain [1] done processing\n",
      "22:24:40 - cmdstanpy - INFO - Chain [1] done processing\n"
     ]
    },
    {
     "name": "stdout",
     "output_type": "stream",
     "text": [
      "It's underpredicted.\n",
      "Monthly Error: 86.43 Period MAE: 87.14\n"
     ]
    },
    {
     "name": "stderr",
     "output_type": "stream",
     "text": [
      "22:24:41 - cmdstanpy - INFO - Chain [1] start processing\n"
     ]
    },
    {
     "name": "stdout",
     "output_type": "stream",
     "text": [
      "It's underpredicted.\n",
      "Monthly Error: 48.47 Period MAE: "
     ]
    },
    {
     "name": "stderr",
     "output_type": "stream",
     "text": [
      "22:24:41 - cmdstanpy - INFO - Chain [1] done processing\n"
     ]
    },
    {
     "name": "stdout",
     "output_type": "stream",
     "text": [
      "50.27\n",
      "It's underpredicted.\n",
      "Monthly Error: 42.8 Period MAE: 44.55\n"
     ]
    },
    {
     "name": "stderr",
     "output_type": "stream",
     "text": [
      "22:24:42 - cmdstanpy - INFO - Chain [1] start processing\n",
      "22:24:43 - cmdstanpy - INFO - Chain [1] done processing\n",
      "22:24:43 - cmdstanpy - INFO - Chain [1] start processing\n",
      "22:24:44 - cmdstanpy - INFO - Chain [1] done processing\n"
     ]
    },
    {
     "name": "stdout",
     "output_type": "stream",
     "text": [
      "It's underpredicted.\n",
      "Monthly Error: 54.09 Period MAE:It's underpredicted.\n",
      " Monthly Error:55.76 52.92\n",
      " Period MAE: 54.65\n",
      "It's underpredicted.\n",
      "Monthly Error: 75.75 Period MAE: 76.83\n"
     ]
    },
    {
     "name": "stderr",
     "output_type": "stream",
     "text": [
      "22:24:45 - cmdstanpy - INFO - Chain [1] start processing\n",
      "22:24:46 - cmdstanpy - INFO - Chain [1] start processing\n",
      "22:24:46 - cmdstanpy - INFO - Chain [1] start processing\n",
      "22:24:46 - cmdstanpy - INFO - Chain [1] done processing\n",
      "22:24:46 - cmdstanpy - INFO - Chain [1] done processing\n",
      "22:24:47 - cmdstanpy - INFO - Chain [1] done processing\n"
     ]
    },
    {
     "name": "stdout",
     "output_type": "stream",
     "text": [
      "It's underpredicted.\n",
      "Monthly Error: 37.96 Period MAE: 39.85\n",
      "It's underpredicted.\n",
      "Monthly Error:"
     ]
    },
    {
     "name": "stderr",
     "output_type": "stream",
     "text": [
      "22:24:48 - cmdstanpy - INFO - Chain [1] start processing\n"
     ]
    },
    {
     "name": "stdout",
     "output_type": "stream",
     "text": [
      " 56.02 Period MAE: 57.65\n"
     ]
    },
    {
     "name": "stderr",
     "output_type": "stream",
     "text": [
      "22:24:49 - cmdstanpy - INFO - Chain [1] done processing\n"
     ]
    },
    {
     "name": "stdout",
     "output_type": "stream",
     "text": [
      "It's underpredicted.\n",
      "Monthly Error: 47.64 Period MAE: "
     ]
    },
    {
     "name": "stderr",
     "output_type": "stream",
     "text": [
      "22:24:49 - cmdstanpy - INFO - Chain [1] start processing\n"
     ]
    },
    {
     "name": "stdout",
     "output_type": "stream",
     "text": [
      "49.36\n"
     ]
    },
    {
     "name": "stderr",
     "output_type": "stream",
     "text": [
      "22:24:50 - cmdstanpy - INFO - Chain [1] done processing\n",
      "22:24:50 - cmdstanpy - INFO - Chain [1] start processing\n",
      "22:24:51 - cmdstanpy - INFO - Chain [1] done processing\n"
     ]
    },
    {
     "name": "stdout",
     "output_type": "stream",
     "text": [
      "It's underpredicted.\n",
      "Monthly Error:It's underpredicted. \n",
      "44.02Monthly Error:  Period MAE: 40.0845.9 \n",
      "Period MAE: 41.89\n",
      "It's underpredicted.\n",
      "Monthly Error: 78.58 Period MAE: 79.57\n"
     ]
    },
    {
     "name": "stderr",
     "output_type": "stream",
     "text": [
      "22:24:53 - cmdstanpy - INFO - Chain [1] start processing\n",
      "22:24:53 - cmdstanpy - INFO - Chain [1] start processing\n",
      "22:24:54 - cmdstanpy - INFO - Chain [1] start processing\n",
      "22:24:54 - cmdstanpy - INFO - Chain [1] done processing\n"
     ]
    },
    {
     "name": "stdout",
     "output_type": "stream",
     "text": [
      "It's underpredicted.\n",
      "Monthly Error: 73.97 "
     ]
    },
    {
     "name": "stderr",
     "output_type": "stream",
     "text": [
      "22:24:54 - cmdstanpy - INFO - Chain [1] done processing\n"
     ]
    },
    {
     "name": "stdout",
     "output_type": "stream",
     "text": [
      "Period MAE: 75.12\n"
     ]
    },
    {
     "name": "stderr",
     "output_type": "stream",
     "text": [
      "22:24:54 - cmdstanpy - INFO - Chain [1] done processing\n",
      "22:24:55 - cmdstanpy - INFO - Chain [1] start processing\n",
      "22:24:55 - cmdstanpy - INFO - Chain [1] done processing\n"
     ]
    },
    {
     "name": "stdout",
     "output_type": "stream",
     "text": [
      "It's underpredicted.\n",
      "Monthly Error: 45.45 Period MAE: 47.25\n"
     ]
    },
    {
     "name": "stderr",
     "output_type": "stream",
     "text": [
      "22:24:56 - cmdstanpy - INFO - Chain [1] start processing\n",
      "22:24:56 - cmdstanpy - INFO - Chain [1] done processing\n"
     ]
    },
    {
     "name": "stdout",
     "output_type": "stream",
     "text": [
      "It's underpredicted.\n",
      "Monthly Error: 24.29 Period MAE: 26.16\n",
      "It's underpredicted.\n",
      "Monthly Error: 38.56 Period MAE: 40.400000000000006"
     ]
    },
    {
     "name": "stderr",
     "output_type": "stream",
     "text": [
      "22:24:58 - cmdstanpy - INFO - Chain [1] start processing\n"
     ]
    },
    {
     "name": "stdout",
     "output_type": "stream",
     "text": [
      "\n",
      "It's underpredicted.\n",
      "Monthly Error: 88.57 Period MAE: 89.2\n"
     ]
    },
    {
     "name": "stderr",
     "output_type": "stream",
     "text": [
      "22:24:58 - cmdstanpy - INFO - Chain [1] done processing\n"
     ]
    },
    {
     "name": "stdout",
     "output_type": "stream",
     "text": [
      "It's underpredicted.\n",
      "Monthly Error: 64.5 Period MAE: 65.88000000000001\n"
     ]
    },
    {
     "name": "stderr",
     "output_type": "stream",
     "text": [
      "22:24:59 - cmdstanpy - INFO - Chain [1] start processing\n",
      "22:24:59 - cmdstanpy - INFO - Chain [1] start processing\n",
      "22:24:59 - cmdstanpy - INFO - Chain [1] start processing\n",
      "22:25:00 - cmdstanpy - INFO - Chain [1] done processing\n",
      "22:25:00 - cmdstanpy - INFO - Chain [1] done processing\n",
      "22:25:00 - cmdstanpy - INFO - Chain [1] done processing\n"
     ]
    },
    {
     "name": "stdout",
     "output_type": "stream",
     "text": [
      "It's underpredicted.\n",
      "Monthly Error: 45.0 Period MAE: 46.81\n"
     ]
    },
    {
     "name": "stderr",
     "output_type": "stream",
     "text": [
      "22:25:02 - cmdstanpy - INFO - Chain [1] start processing\n"
     ]
    },
    {
     "name": "stdout",
     "output_type": "stream",
     "text": [
      "It's underpredicted.\n",
      "Monthly Error: 89.58 Period MAE: 90.16\n",
      "It's underpredicted.\n",
      "Monthly Error: "
     ]
    },
    {
     "name": "stderr",
     "output_type": "stream",
     "text": [
      "22:25:03 - cmdstanpy - INFO - Chain [1] done processing\n"
     ]
    },
    {
     "name": "stdout",
     "output_type": "stream",
     "text": [
      "37.2 Period MAE: 39.01\n",
      "It's underpredicted.\n",
      "Monthly Error: 84.08 Period MAE: 84.88\n"
     ]
    },
    {
     "name": "stderr",
     "output_type": "stream",
     "text": [
      "22:25:04 - cmdstanpy - INFO - Chain [1] start processing\n",
      "22:25:05 - cmdstanpy - INFO - Chain [1] start processing\n",
      "22:25:05 - cmdstanpy - INFO - Chain [1] done processing\n",
      "22:25:05 - cmdstanpy - INFO - Chain [1] done processing\n",
      "22:25:05 - cmdstanpy - INFO - Chain [1] start processing\n",
      "22:25:06 - cmdstanpy - INFO - Chain [1] done processing\n"
     ]
    },
    {
     "name": "stdout",
     "output_type": "stream",
     "text": [
      "It's underpredicted.\n",
      "Monthly Error: 40.83 Period MAE: 42.63\n",
      "It's underpredicted.\n",
      "Monthly Error: 55.93 Period MAE: 57.48\n"
     ]
    },
    {
     "name": "stderr",
     "output_type": "stream",
     "text": [
      "22:25:07 - cmdstanpy - INFO - Chain [1] start processing\n",
      "22:25:08 - cmdstanpy - INFO - Chain [1] done processing\n",
      "22:25:08 - cmdstanpy - INFO - Chain [1] start processing\n"
     ]
    },
    {
     "name": "stdout",
     "output_type": "stream",
     "text": [
      "It's underpredicted.\n",
      "Monthly Error: 28.83 Period MAE:"
     ]
    },
    {
     "name": "stderr",
     "output_type": "stream",
     "text": [
      "22:25:09 - cmdstanpy - INFO - Chain [1] done processing\n"
     ]
    },
    {
     "name": "stdout",
     "output_type": "stream",
     "text": [
      " 30.73\n",
      "It's underpredicted.\n",
      "Monthly Error: "
     ]
    },
    {
     "name": "stderr",
     "output_type": "stream",
     "text": [
      "22:25:09 - cmdstanpy - INFO - Chain [1] start processing\n"
     ]
    },
    {
     "name": "stdout",
     "output_type": "stream",
     "text": [
      "53.07 Period MAE: 54.76\n"
     ]
    },
    {
     "name": "stderr",
     "output_type": "stream",
     "text": [
      "22:25:09 - cmdstanpy - INFO - Chain [1] done processing\n"
     ]
    },
    {
     "name": "stdout",
     "output_type": "stream",
     "text": [
      "It's underpredicted.\n",
      "Monthly Error: 20.72 Period MAE: 22.830000000000002\n"
     ]
    },
    {
     "name": "stderr",
     "output_type": "stream",
     "text": [
      "22:25:10 - cmdstanpy - INFO - Chain [1] start processing\n",
      "22:25:10 - cmdstanpy - INFO - Chain [1] start processing\n",
      "22:25:11 - cmdstanpy - INFO - Chain [1] done processing\n",
      "22:25:11 - cmdstanpy - INFO - Chain [1] done processing\n"
     ]
    },
    {
     "name": "stdout",
     "output_type": "stream",
     "text": [
      "It's underpredicted.It's underpredicted.\n",
      "\n",
      "Monthly Error:Monthly Error: 82.84 29.01 Period MAE: Period MAE:  30.97\n",
      "83.72\n",
      "It's underpredicted.\n",
      "Monthly Error: 37.73 Period MAE: 39.85\n"
     ]
    },
    {
     "name": "stderr",
     "output_type": "stream",
     "text": [
      "22:25:14 - cmdstanpy - INFO - Chain [1] start processing\n",
      "22:25:14 - cmdstanpy - INFO - Chain [1] done processing\n",
      "22:25:14 - cmdstanpy - INFO - Chain [1] start processing\n",
      "22:25:14 - cmdstanpy - INFO - Chain [1] start processing\n",
      "22:25:15 - cmdstanpy - INFO - Chain [1] done processing\n"
     ]
    },
    {
     "name": "stdout",
     "output_type": "stream",
     "text": [
      "It's underpredicted.\n",
      "Monthly Error: 74.94 Period MAE: 76.13\n",
      "It's underpredicted.\n",
      "Monthly Error: 58.97 Period MAE: 60.42999999999999\n"
     ]
    },
    {
     "name": "stderr",
     "output_type": "stream",
     "text": [
      "22:25:16 - cmdstanpy - INFO - Chain [1] done processing\n",
      "22:25:16 - cmdstanpy - INFO - Chain [1] start processing\n",
      "22:25:16 - cmdstanpy - INFO - Chain [1] done processing\n",
      "22:25:17 - cmdstanpy - INFO - Chain [1] start processing\n",
      "22:25:17 - cmdstanpy - INFO - Chain [1] done processing\n"
     ]
    },
    {
     "name": "stdout",
     "output_type": "stream",
     "text": [
      "It's underpredicted.\n",
      "Monthly Error: 19.66 Period MAE: 21.05\n",
      "It's underpredicted.\n",
      "Monthly Error: 52.41 Period MAE: 54.010000000000005\n"
     ]
    },
    {
     "name": "stderr",
     "output_type": "stream",
     "text": [
      "22:25:19 - cmdstanpy - INFO - Chain [1] start processing\n"
     ]
    },
    {
     "name": "stdout",
     "output_type": "stream",
     "text": [
      "It's underpredicted.\n",
      "Monthly Error: 88.61 Period MAE: 89.27000000000001\n"
     ]
    },
    {
     "name": "stderr",
     "output_type": "stream",
     "text": [
      "22:25:19 - cmdstanpy - INFO - Chain [1] done processing\n"
     ]
    },
    {
     "name": "stdout",
     "output_type": "stream",
     "text": [
      "It's underpredicted.\n",
      "Monthly Error: 78.06 Period MAE: 78.74\n"
     ]
    },
    {
     "name": "stderr",
     "output_type": "stream",
     "text": [
      "22:25:20 - cmdstanpy - INFO - Chain [1] start processing\n",
      "22:25:20 - cmdstanpy - INFO - Chain [1] start processing\n",
      "22:25:20 - cmdstanpy - INFO - Chain [1] done processing\n",
      "22:25:20 - cmdstanpy - INFO - Chain [1] start processing\n",
      "22:25:20 - cmdstanpy - INFO - Chain [1] done processing\n",
      "22:25:21 - cmdstanpy - INFO - Chain [1] done processing\n"
     ]
    },
    {
     "name": "stdout",
     "output_type": "stream",
     "text": [
      "It's underpredicted.\n",
      "Monthly Error: 58.17 Period MAE: 59.650000000000006\n"
     ]
    },
    {
     "name": "stderr",
     "output_type": "stream",
     "text": [
      "22:25:22 - cmdstanpy - INFO - Chain [1] start processing\n",
      "22:25:22 - cmdstanpy - INFO - Chain [1] done processing\n"
     ]
    },
    {
     "name": "stdout",
     "output_type": "stream",
     "text": [
      "It's underpredicted.\n",
      "Monthly Error: 56.28 Period MAE: 57.79\n",
      "It's underpredicted.\n",
      "Monthly Error: 77.71 Period MAE: 78.39\n"
     ]
    },
    {
     "name": "stderr",
     "output_type": "stream",
     "text": [
      "22:25:24 - cmdstanpy - INFO - Chain [1] start processing\n",
      "22:25:25 - cmdstanpy - INFO - Chain [1] start processing\n",
      "22:25:25 - cmdstanpy - INFO - Chain [1] done processing\n",
      "22:25:25 - cmdstanpy - INFO - Chain [1] done processing\n"
     ]
    },
    {
     "name": "stdout",
     "output_type": "stream",
     "text": [
      "It's underpredicted.\n",
      "Monthly Error: 76.69 Period MAE: 77.59\n",
      "It's overpredicted.\n",
      "Monthly Error: 22.44 Period MAE: 8.57\n"
     ]
    },
    {
     "name": "stderr",
     "output_type": "stream",
     "text": [
      "22:25:27 - cmdstanpy - INFO - Chain [1] start processing\n",
      "22:25:27 - cmdstanpy - INFO - Chain [1] start processing\n"
     ]
    },
    {
     "name": "stdout",
     "output_type": "stream",
     "text": [
      "It's underpredicted.\n",
      "Monthly Error: 51.8"
     ]
    },
    {
     "name": "stderr",
     "output_type": "stream",
     "text": [
      "22:25:27 - cmdstanpy - INFO - Chain [1] done processing\n"
     ]
    },
    {
     "name": "stdout",
     "output_type": "stream",
     "text": [
      " Period MAE: 53.42\n"
     ]
    },
    {
     "name": "stderr",
     "output_type": "stream",
     "text": [
      "22:25:27 - cmdstanpy - INFO - Chain [1] done processing\n",
      "22:25:27 - cmdstanpy - INFO - Chain [1] start processing\n",
      "22:25:28 - cmdstanpy - INFO - Chain [1] done processing\n"
     ]
    },
    {
     "name": "stdout",
     "output_type": "stream",
     "text": [
      "It's overpredicted.\n",
      "Monthly Error: 22.6 Period MAE: 8.63\n"
     ]
    },
    {
     "name": "stderr",
     "output_type": "stream",
     "text": [
      "22:25:29 - cmdstanpy - INFO - Chain [1] start processing\n",
      "22:25:29 - cmdstanpy - INFO - Chain [1] done processing\n"
     ]
    },
    {
     "name": "stdout",
     "output_type": "stream",
     "text": [
      "It's underpredicted.\n",
      "Monthly Error: 61.75 It's underpredicted.Period MAE: 63.11\n",
      "\n",
      "Monthly Error: 52.73 Period MAE: 54.32\n",
      "It's overpredicted.\n",
      "Monthly Error: 22.37 Period MAE: 8.540000000000001\n"
     ]
    },
    {
     "name": "stderr",
     "output_type": "stream",
     "text": [
      "22:25:31 - cmdstanpy - INFO - Chain [1] start processing\n",
      "22:25:31 - cmdstanpy - INFO - Chain [1] start processing\n",
      "22:25:31 - cmdstanpy - INFO - Chain [1] done processing\n",
      "22:25:31 - cmdstanpy - INFO - Chain [1] done processing\n",
      "22:25:32 - cmdstanpy - INFO - Chain [1] start processing\n",
      "22:25:33 - cmdstanpy - INFO - Chain [1] done processing\n"
     ]
    },
    {
     "name": "stdout",
     "output_type": "stream",
     "text": [
      "It's underpredicted.\n",
      "Monthly Error: 78.07 Period MAE: 78.75\n",
      "It's underpredicted.\n",
      "Monthly Error: 54.63 Period MAE: 56.169999999999995\n"
     ]
    },
    {
     "name": "stderr",
     "output_type": "stream",
     "text": [
      "22:25:34 - cmdstanpy - INFO - Chain [1] start processing\n",
      "22:25:34 - cmdstanpy - INFO - Chain [1] start processing\n",
      "22:25:34 - cmdstanpy - INFO - Chain [1] done processing\n",
      "22:25:34 - cmdstanpy - INFO - Chain [1] done processing\n"
     ]
    },
    {
     "name": "stdout",
     "output_type": "stream",
     "text": [
      "It's underpredicted.\n",
      "Monthly Error:It's underpredicted.\n",
      "Monthly Error:  55.01 48.52Period MAE: 56.55\n",
      " Period MAE:It's underpredicted. \n",
      "50.18\n",
      "Monthly Error: 77.79 Period MAE: 78.47\n"
     ]
    },
    {
     "name": "stderr",
     "output_type": "stream",
     "text": [
      "22:25:36 - cmdstanpy - INFO - Chain [1] start processing\n",
      "22:25:36 - cmdstanpy - INFO - Chain [1] done processing\n",
      "22:25:36 - cmdstanpy - INFO - Chain [1] start processing\n",
      "22:25:37 - cmdstanpy - INFO - Chain [1] start processing\n",
      "22:25:37 - cmdstanpy - INFO - Chain [1] done processing\n",
      "22:25:37 - cmdstanpy - INFO - Chain [1] done processing\n"
     ]
    },
    {
     "name": "stdout",
     "output_type": "stream",
     "text": [
      "It's underpredicted.\n",
      "Monthly Error: 43.45It's underpredicted.\n",
      " Period MAE:Monthly Error:  76.2545.2 \n",
      "Period MAE: 76.92999999999999It's underpredicted.\n",
      "\n",
      "Monthly Error:  76.72 Period MAE:77.62\n"
     ]
    },
    {
     "name": "stderr",
     "output_type": "stream",
     "text": [
      "22:25:40 - cmdstanpy - INFO - Chain [1] start processing\n",
      "22:25:40 - cmdstanpy - INFO - Chain [1] done processing\n"
     ]
    },
    {
     "name": "stdout",
     "output_type": "stream",
     "text": [
      "It's underpredicted.\n",
      "Monthly Error: 75.85 Period MAE: 76.53\n"
     ]
    },
    {
     "name": "stderr",
     "output_type": "stream",
     "text": [
      "22:25:40 - cmdstanpy - INFO - Chain [1] start processing\n",
      "22:25:40 - cmdstanpy - INFO - Chain [1] start processing\n",
      "22:25:41 - cmdstanpy - INFO - Chain [1] done processing\n",
      "22:25:41 - cmdstanpy - INFO - Chain [1] start processing\n",
      "22:25:41 - cmdstanpy - INFO - Chain [1] done processing\n"
     ]
    },
    {
     "name": "stdout",
     "output_type": "stream",
     "text": [
      "It's underpredicted.\n",
      "Monthly Error: 46.57 Period MAE: 48.28\n"
     ]
    },
    {
     "name": "stderr",
     "output_type": "stream",
     "text": [
      "22:25:42 - cmdstanpy - INFO - Chain [1] done processing\n",
      "22:25:42 - cmdstanpy - INFO - Chain [1] start processing\n",
      "22:25:43 - cmdstanpy - INFO - Chain [1] done processing\n"
     ]
    },
    {
     "name": "stdout",
     "output_type": "stream",
     "text": [
      "It's underpredicted.\n",
      "Monthly Error: 44.35 Period MAE: 46.04\n",
      "It's overpredicted.\n",
      "Monthly Error: 21.31 Period MAE: 10.56\n",
      "It's underpredicted.\n",
      "Monthly Error: 36.05 Period MAE: 37.91\n",
      "It's underpredicted.\n",
      "Monthly Error: "
     ]
    },
    {
     "name": "stderr",
     "output_type": "stream",
     "text": [
      "22:25:45 - cmdstanpy - INFO - Chain [1] start processing\n"
     ]
    },
    {
     "name": "stdout",
     "output_type": "stream",
     "text": [
      "74.86 Period MAE: 75.77000000000001"
     ]
    },
    {
     "name": "stderr",
     "output_type": "stream",
     "text": [
      "22:25:45 - cmdstanpy - INFO - Chain [1] start processing\n"
     ]
    },
    {
     "name": "stdout",
     "output_type": "stream",
     "text": [
      "\n"
     ]
    },
    {
     "name": "stderr",
     "output_type": "stream",
     "text": [
      "22:25:45 - cmdstanpy - INFO - Chain [1] done processing\n",
      "22:25:46 - cmdstanpy - INFO - Chain [1] start processing\n",
      "22:25:46 - cmdstanpy - INFO - Chain [1] done processing\n",
      "22:25:46 - cmdstanpy - INFO - Chain [1] done processing\n",
      "22:25:47 - cmdstanpy - INFO - Chain [1] start processing\n",
      "22:25:47 - cmdstanpy - INFO - Chain [1] done processing\n"
     ]
    },
    {
     "name": "stdout",
     "output_type": "stream",
     "text": [
      "It's underpredicted.\n",
      "Monthly Error: 51.04 Period MAE: 52.66\n",
      "It's underpredicted.\n",
      "Monthly Error: 41.35 "
     ]
    },
    {
     "name": "stderr",
     "output_type": "stream",
     "text": [
      "22:25:48 - cmdstanpy - INFO - Chain [1] start processing\n"
     ]
    },
    {
     "name": "stdout",
     "output_type": "stream",
     "text": [
      "Period MAE: 43.09\n"
     ]
    },
    {
     "name": "stderr",
     "output_type": "stream",
     "text": [
      "22:25:48 - cmdstanpy - INFO - Chain [1] done processing\n"
     ]
    },
    {
     "name": "stdout",
     "output_type": "stream",
     "text": [
      "It's overpredicted.\n",
      "Monthly Error: 21.78 Period MAE: 11.12\n"
     ]
    },
    {
     "name": "stderr",
     "output_type": "stream",
     "text": [
      "22:25:50 - cmdstanpy - INFO - Chain [1] start processing\n",
      "22:25:50 - cmdstanpy - INFO - Chain [1] done processing\n",
      "22:25:51 - cmdstanpy - INFO - Chain [1] start processing\n",
      "22:25:51 - cmdstanpy - INFO - Chain [1] done processing\n"
     ]
    },
    {
     "name": "stdout",
     "output_type": "stream",
     "text": [
      "It's overpredicted.\n",
      "Monthly Error: 21.81 Period MAE: 11.709999999999999\n",
      "It's underpredicted.\n",
      "Monthly Error: 76.3 Period MAE: 76.98\n",
      "It's underpredicted.\n",
      "Monthly Error: 49.04 Period MAE: 50.660000000000004\n"
     ]
    },
    {
     "name": "stderr",
     "output_type": "stream",
     "text": [
      "22:25:53 - cmdstanpy - INFO - Chain [1] start processing\n",
      "22:25:53 - cmdstanpy - INFO - Chain [1] start processing\n",
      "22:25:53 - cmdstanpy - INFO - Chain [1] start processing\n",
      "22:25:53 - cmdstanpy - INFO - Chain [1] done processing\n",
      "22:25:53 - cmdstanpy - INFO - Chain [1] done processing\n",
      "22:25:53 - cmdstanpy - INFO - Chain [1] done processing\n"
     ]
    },
    {
     "name": "stdout",
     "output_type": "stream",
     "text": [
      "It's underpredicted.\n",
      "Monthly Error: 47.08 Period MAE: 48.89\n",
      "It's underpredicted.\n",
      "Monthly Error: 75.88 Period MAE: 76.55"
     ]
    },
    {
     "name": "stderr",
     "output_type": "stream",
     "text": [
      "22:25:55 - cmdstanpy - INFO - Chain [1] start processing\n"
     ]
    },
    {
     "name": "stdout",
     "output_type": "stream",
     "text": [
      "\n"
     ]
    },
    {
     "name": "stderr",
     "output_type": "stream",
     "text": [
      "22:25:55 - cmdstanpy - INFO - Chain [1] done processing\n"
     ]
    },
    {
     "name": "stdout",
     "output_type": "stream",
     "text": [
      "It's underpredicted.\n",
      "Monthly Error: 43.54 Period MAE: 45.24\n"
     ]
    },
    {
     "name": "stderr",
     "output_type": "stream",
     "text": [
      "22:25:56 - cmdstanpy - INFO - Chain [1] start processing\n",
      "22:25:56 - cmdstanpy - INFO - Chain [1] start processing\n",
      "22:25:56 - cmdstanpy - INFO - Chain [1] done processing\n",
      "22:25:57 - cmdstanpy - INFO - Chain [1] done processing\n"
     ]
    },
    {
     "name": "stdout",
     "output_type": "stream",
     "text": [
      "It's underpredicted.\n",
      "Monthly Error: 74.92 Period MAE: 75.83\n",
      "It's underpredicted.\n",
      "Monthly Error: 57.68 Period MAE: 59.35\n",
      "It's underpredicted.\n",
      "Monthly Error: 89.78"
     ]
    },
    {
     "name": "stderr",
     "output_type": "stream",
     "text": [
      "22:25:59 - cmdstanpy - INFO - Chain [1] start processing\n"
     ]
    },
    {
     "name": "stdout",
     "output_type": "stream",
     "text": [
      " Period MAE: 90.39\n"
     ]
    },
    {
     "name": "stderr",
     "output_type": "stream",
     "text": [
      "22:25:59 - cmdstanpy - INFO - Chain [1] done processing\n",
      "22:25:59 - cmdstanpy - INFO - Chain [1] start processing\n",
      "22:26:00 - cmdstanpy - INFO - Chain [1] start processing\n",
      "22:26:00 - cmdstanpy - INFO - Chain [1] done processing\n",
      "22:26:00 - cmdstanpy - INFO - Chain [1] done processing\n"
     ]
    },
    {
     "name": "stdout",
     "output_type": "stream",
     "text": [
      "It's underpredicted.\n",
      "Monthly Error: 90.76 Period MAE: 91.32000000000001\n"
     ]
    },
    {
     "name": "stderr",
     "output_type": "stream",
     "text": [
      "22:26:01 - cmdstanpy - INFO - Chain [1] start processing\n",
      "22:26:01 - cmdstanpy - INFO - Chain [1] done processing\n"
     ]
    },
    {
     "name": "stdout",
     "output_type": "stream",
     "text": [
      "It's underpredicted.\n",
      "Monthly Error: 57.29It's underpredicted. \n",
      "Period MAE:Monthly Error:  57.1758.98 Period MAE:\n",
      " 58.85\n",
      "It's underpredicted.\n",
      "Monthly Error: 85.81  Period MAE:86.56\n"
     ]
    },
    {
     "name": "stderr",
     "output_type": "stream",
     "text": [
      "22:26:04 - cmdstanpy - INFO - Chain [1] start processing\n",
      "22:26:04 - cmdstanpy - INFO - Chain [1] start processing\n",
      "22:26:04 - cmdstanpy - INFO - Chain [1] done processing\n",
      "22:26:04 - cmdstanpy - INFO - Chain [1] start processing\n",
      "22:26:04 - cmdstanpy - INFO - Chain [1] done processing\n"
     ]
    },
    {
     "name": "stdout",
     "output_type": "stream",
     "text": [
      "It's underpredicted.\n",
      "Monthly Error: 59.06 Period MAE: 60.6\n"
     ]
    },
    {
     "name": "stderr",
     "output_type": "stream",
     "text": [
      "22:26:05 - cmdstanpy - INFO - Chain [1] done processing\n"
     ]
    },
    {
     "name": "stdout",
     "output_type": "stream",
     "text": [
      "It's underpredicted.\n"
     ]
    },
    {
     "name": "stderr",
     "output_type": "stream",
     "text": [
      "22:26:07 - cmdstanpy - INFO - Chain [1] start processing\n"
     ]
    },
    {
     "name": "stdout",
     "output_type": "stream",
     "text": [
      "Monthly Error: 55.28 Period MAE: 56.989999999999995\n"
     ]
    },
    {
     "name": "stderr",
     "output_type": "stream",
     "text": [
      "22:26:07 - cmdstanpy - INFO - Chain [1] start processing\n",
      "22:26:07 - cmdstanpy - INFO - Chain [1] done processing\n",
      "22:26:08 - cmdstanpy - INFO - Chain [1] done processing\n"
     ]
    },
    {
     "name": "stdout",
     "output_type": "stream",
     "text": [
      "It's underpredicted.\n",
      "Monthly Error: 55.62 Period MAE: 57.31\n"
     ]
    },
    {
     "name": "stderr",
     "output_type": "stream",
     "text": [
      "22:26:08 - cmdstanpy - INFO - Chain [1] start processing\n",
      "22:26:09 - cmdstanpy - INFO - Chain [1] done processing\n"
     ]
    },
    {
     "name": "stdout",
     "output_type": "stream",
     "text": [
      "It's underpredicted.\n",
      "Monthly Error: 48.08 Period MAE: It's underpredicted.\n",
      "Monthly Error:49.95 \n",
      "55.07 Period MAE: 56.79\n"
     ]
    },
    {
     "name": "stderr",
     "output_type": "stream",
     "text": [
      "22:26:10 - cmdstanpy - INFO - Chain [1] start processing\n",
      "22:26:10 - cmdstanpy - INFO - Chain [1] start processing\n",
      "22:26:10 - cmdstanpy - INFO - Chain [1] done processing\n",
      "22:26:10 - cmdstanpy - INFO - Chain [1] done processing\n"
     ]
    },
    {
     "name": "stdout",
     "output_type": "stream",
     "text": [
      "It's underpredicted.\n",
      "Monthly Error: 54.98 Period MAE: 56.64\n",
      "It's underpredicted.\n",
      "Monthly Error: 77.95 Period MAE: 78.97999999999999\n",
      "It's underpredicted.\n",
      "Monthly Error: 54.74 Period MAE: 56.46\n"
     ]
    },
    {
     "name": "stderr",
     "output_type": "stream",
     "text": [
      "22:26:13 - cmdstanpy - INFO - Chain [1] start processing\n",
      "22:26:13 - cmdstanpy - INFO - Chain [1] start processing\n",
      "22:26:13 - cmdstanpy - INFO - Chain [1] done processing\n",
      "22:26:13 - cmdstanpy - INFO - Chain [1] start processing\n",
      "22:26:13 - cmdstanpy - INFO - Chain [1] done processing\n",
      "22:26:14 - cmdstanpy - INFO - Chain [1] done processing\n"
     ]
    },
    {
     "name": "stdout",
     "output_type": "stream",
     "text": [
      "It's underpredicted.\n",
      "Monthly Error: 84.11 Period MAE: 84.91\n"
     ]
    },
    {
     "name": "stderr",
     "output_type": "stream",
     "text": [
      "22:26:14 - cmdstanpy - INFO - Chain [1] start processing\n"
     ]
    },
    {
     "name": "stdout",
     "output_type": "stream",
     "text": [
      "It's underpredicted.\n",
      "Monthly Error: 39.28 Period MAE:"
     ]
    },
    {
     "name": "stderr",
     "output_type": "stream",
     "text": [
      "22:26:15 - cmdstanpy - INFO - Chain [1] done processing\n"
     ]
    },
    {
     "name": "stdout",
     "output_type": "stream",
     "text": [
      " 41.17\n"
     ]
    },
    {
     "name": "stderr",
     "output_type": "stream",
     "text": [
      "22:26:15 - cmdstanpy - INFO - Chain [1] start processing\n"
     ]
    },
    {
     "name": "stdout",
     "output_type": "stream",
     "text": [
      "It's underpredicted.\n",
      "Monthly Error: 58.2"
     ]
    },
    {
     "name": "stderr",
     "output_type": "stream",
     "text": [
      "22:26:16 - cmdstanpy - INFO - Chain [1] done processing\n"
     ]
    },
    {
     "name": "stdout",
     "output_type": "stream",
     "text": [
      " Period MAE: 59.86\n"
     ]
    },
    {
     "name": "stderr",
     "output_type": "stream",
     "text": [
      "22:26:17 - cmdstanpy - INFO - Chain [1] start processing\n",
      "22:26:17 - cmdstanpy - INFO - Chain [1] done processing\n"
     ]
    },
    {
     "name": "stdout",
     "output_type": "stream",
     "text": [
      "It's underpredicted.\n",
      "Monthly Error: 36.35 Period MAE: 38.269999999999996\n",
      "It's underpredicted.\n",
      "Monthly Error: 78.16 Period MAE: 79.17\n",
      "It's underpredicted.\n",
      "Monthly Error: 80.77 Period MAE: 81.65\n"
     ]
    },
    {
     "name": "stderr",
     "output_type": "stream",
     "text": [
      "22:26:19 - cmdstanpy - INFO - Chain [1] start processing\n",
      "22:26:19 - cmdstanpy - INFO - Chain [1] start processing\n",
      "22:26:19 - cmdstanpy - INFO - Chain [1] start processing\n",
      "22:26:19 - cmdstanpy - INFO - Chain [1] done processing\n",
      "22:26:19 - cmdstanpy - INFO - Chain [1] done processing\n",
      "22:26:20 - cmdstanpy - INFO - Chain [1] done processing\n"
     ]
    },
    {
     "name": "stdout",
     "output_type": "stream",
     "text": [
      "It's underpredicted.\n",
      "Monthly Error: 78.14 Period MAE: 79.14\n",
      "It's underpredicted.\n",
      " Monthly Error:41.51 Period MAE: 43.36\n"
     ]
    },
    {
     "name": "stderr",
     "output_type": "stream",
     "text": [
      "22:26:21 - cmdstanpy - INFO - Chain [1] start processing\n",
      "22:26:21 - cmdstanpy - INFO - Chain [1] done processing\n",
      "22:26:22 - cmdstanpy - INFO - Chain [1] start processing\n"
     ]
    },
    {
     "name": "stdout",
     "output_type": "stream",
     "text": [
      "It's underpredicted.\n",
      "Monthly Error: 35.21 Period MAE: 37.13\n"
     ]
    },
    {
     "name": "stderr",
     "output_type": "stream",
     "text": [
      "22:26:22 - cmdstanpy - INFO - Chain [1] done processing\n",
      "22:26:23 - cmdstanpy - INFO - Chain [1] start processing\n",
      "22:26:23 - cmdstanpy - INFO - Chain [1] done processing\n"
     ]
    },
    {
     "name": "stdout",
     "output_type": "stream",
     "text": [
      "It's underpredicted.\n",
      "Monthly Error: 90.98 Period MAE: 91.38\n",
      "It's underpredicted.\n",
      "Monthly Error: 38.35 Period MAE: 40.239999999999995\n",
      "It's underpredicted.\n",
      "Monthly Error: 57.49 Period MAE: 58.940000000000005\n"
     ]
    },
    {
     "name": "stderr",
     "output_type": "stream",
     "text": [
      "22:26:25 - cmdstanpy - INFO - Chain [1] start processing\n",
      "22:26:25 - cmdstanpy - INFO - Chain [1] start processing\n",
      "22:26:25 - cmdstanpy - INFO - Chain [1] start processing\n",
      "22:26:25 - cmdstanpy - INFO - Chain [1] done processing\n",
      "22:26:26 - cmdstanpy - INFO - Chain [1] done processing\n",
      "22:26:26 - cmdstanpy - INFO - Chain [1] done processing\n"
     ]
    },
    {
     "name": "stdout",
     "output_type": "stream",
     "text": [
      "It's underpredicted.\n",
      "Monthly Error: 34.5 Period MAE: 36.449999999999996\n",
      "It's underpredicted.\n"
     ]
    },
    {
     "name": "stderr",
     "output_type": "stream",
     "text": [
      "22:26:27 - cmdstanpy - INFO - Chain [1] start processing\n"
     ]
    },
    {
     "name": "stdout",
     "output_type": "stream",
     "text": [
      "Monthly Error: 54.15 Period MAE: 55.75\n"
     ]
    },
    {
     "name": "stderr",
     "output_type": "stream",
     "text": [
      "22:26:27 - cmdstanpy - INFO - Chain [1] done processing\n"
     ]
    },
    {
     "name": "stdout",
     "output_type": "stream",
     "text": [
      "It's underpredicted.\n",
      "Monthly Error: 35.4 Period MAE: 37.32\n"
     ]
    },
    {
     "name": "stderr",
     "output_type": "stream",
     "text": [
      "22:26:28 - cmdstanpy - INFO - Chain [1] start processing\n",
      "22:26:29 - cmdstanpy - INFO - Chain [1] done processing\n",
      "22:26:29 - cmdstanpy - INFO - Chain [1] start processing\n",
      "22:26:29 - cmdstanpy - INFO - Chain [1] done processing\n"
     ]
    },
    {
     "name": "stdout",
     "output_type": "stream",
     "text": [
      "It's underpredicted.\n",
      "Monthly Error: 46.61 Period MAE: 48.46\n",
      "It's underpredicted.\n",
      "Monthly Error: 38.38 Period MAE: 40.28\n",
      "It's underpredicted.\n",
      "Monthly Error: 80.21 Period MAE: 81.11\n"
     ]
    },
    {
     "name": "stderr",
     "output_type": "stream",
     "text": [
      "22:26:31 - cmdstanpy - INFO - Chain [1] start processing\n",
      "22:26:31 - cmdstanpy - INFO - Chain [1] start processing\n",
      "22:26:32 - cmdstanpy - INFO - Chain [1] start processing\n",
      "22:26:32 - cmdstanpy - INFO - Chain [1] done processing\n",
      "22:26:32 - cmdstanpy - INFO - Chain [1] done processing\n",
      "22:26:32 - cmdstanpy - INFO - Chain [1] done processing\n"
     ]
    },
    {
     "name": "stdout",
     "output_type": "stream",
     "text": [
      "It's underpredicted.\n",
      "Monthly Error: 46.54 Period MAE: 48.309999999999995\n",
      "It's underpredicted.\n",
      "Monthly Error:  78.93Period MAE: 79.89\n"
     ]
    },
    {
     "name": "stderr",
     "output_type": "stream",
     "text": [
      "22:26:34 - cmdstanpy - INFO - Chain [1] start processing\n",
      "22:26:34 - cmdstanpy - INFO - Chain [1] done processing\n",
      "22:26:34 - cmdstanpy - INFO - Chain [1] start processing\n"
     ]
    },
    {
     "name": "stdout",
     "output_type": "stream",
     "text": [
      "It's underpredicted.\n",
      "Monthly Error: 45.56 "
     ]
    },
    {
     "name": "stderr",
     "output_type": "stream",
     "text": [
      "22:26:34 - cmdstanpy - INFO - Chain [1] done processing\n"
     ]
    },
    {
     "name": "stdout",
     "output_type": "stream",
     "text": [
      "Period MAE: 47.349999999999994\n"
     ]
    },
    {
     "name": "stderr",
     "output_type": "stream",
     "text": [
      "22:26:35 - cmdstanpy - INFO - Chain [1] start processing\n",
      "22:26:35 - cmdstanpy - INFO - Chain [1] done processing\n"
     ]
    },
    {
     "name": "stdout",
     "output_type": "stream",
     "text": [
      "It's underpredicted.\n",
      "Monthly Error: 63.22 Period MAE: 64.47\n",
      "It's underpredicted.\n",
      "Monthly Error: 78.14 Period MAE: 79.14\n",
      "It's underpredicted.\n",
      "Monthly Error: 78.06 Period MAE: 78.74\n"
     ]
    },
    {
     "name": "stderr",
     "output_type": "stream",
     "text": [
      "22:26:38 - cmdstanpy - INFO - Chain [1] start processing\n",
      "22:26:38 - cmdstanpy - INFO - Chain [1] start processing\n",
      "22:26:38 - cmdstanpy - INFO - Chain [1] start processing\n",
      "22:26:38 - cmdstanpy - INFO - Chain [1] done processing\n",
      "22:26:38 - cmdstanpy - INFO - Chain [1] done processing\n",
      "22:26:38 - cmdstanpy - INFO - Chain [1] done processing\n"
     ]
    },
    {
     "name": "stdout",
     "output_type": "stream",
     "text": [
      "It's underpredicted.\n",
      "Monthly Error: 75.99 Period MAE: 76.64\n"
     ]
    },
    {
     "name": "stderr",
     "output_type": "stream",
     "text": [
      "22:26:39 - cmdstanpy - INFO - Chain [1] start processing\n",
      "22:26:39 - cmdstanpy - INFO - Chain [1] done processing\n"
     ]
    },
    {
     "name": "stdout",
     "output_type": "stream",
     "text": [
      "It's underpredicted.\n",
      "Monthly Error: 59.27 Period MAE: 60.709999999999994\n",
      "It's underpredicted.\n"
     ]
    },
    {
     "name": "stderr",
     "output_type": "stream",
     "text": [
      "22:26:41 - cmdstanpy - INFO - Chain [1] start processing\n"
     ]
    },
    {
     "name": "stdout",
     "output_type": "stream",
     "text": [
      "Monthly Error: 52.08 Period MAE: 53.66\n"
     ]
    },
    {
     "name": "stderr",
     "output_type": "stream",
     "text": [
      "22:26:41 - cmdstanpy - INFO - Chain [1] done processing\n",
      "22:26:42 - cmdstanpy - INFO - Chain [1] start processing\n",
      "22:26:42 - cmdstanpy - INFO - Chain [1] done processing\n"
     ]
    },
    {
     "name": "stdout",
     "output_type": "stream",
     "text": [
      "It's underpredicted.\n",
      "Monthly Error: 66.49 Period MAE: 68.78\n",
      "It's underpredicted.It's overpredicted.\n",
      "Monthly Error: \n",
      "Monthly Error: 24.454.57 Period MAE: Period MAE:  56.0812.049999999999999\n",
      "\n"
     ]
    },
    {
     "name": "stderr",
     "output_type": "stream",
     "text": [
      "22:26:44 - cmdstanpy - INFO - Chain [1] start processing\n",
      "22:26:44 - cmdstanpy - INFO - Chain [1] done processing\n",
      "22:26:44 - cmdstanpy - INFO - Chain [1] start processing\n",
      "22:26:45 - cmdstanpy - INFO - Chain [1] start processing\n",
      "22:26:45 - cmdstanpy - INFO - Chain [1] done processing\n",
      "22:26:45 - cmdstanpy - INFO - Chain [1] done processing\n"
     ]
    },
    {
     "name": "stdout",
     "output_type": "stream",
     "text": [
      "It's underpredicted.\n",
      "Monthly Error: 65.98 Period MAE: 67.24\n",
      "It's overpredicted. \n",
      "Monthly Error:24.73 Period MAE: 12.34\n"
     ]
    },
    {
     "name": "stderr",
     "output_type": "stream",
     "text": [
      "22:26:46 - cmdstanpy - INFO - Chain [1] start processing\n",
      "22:26:46 - cmdstanpy - INFO - Chain [1] done processing\n",
      "22:26:48 - cmdstanpy - INFO - Chain [1] start processing\n"
     ]
    },
    {
     "name": "stdout",
     "output_type": "stream",
     "text": [
      "It's underpredicted.\n",
      "Monthly Error: 48.26 Period MAE: 49.89\n"
     ]
    },
    {
     "name": "stderr",
     "output_type": "stream",
     "text": [
      "22:26:48 - cmdstanpy - INFO - Chain [1] done processing\n",
      "22:26:49 - cmdstanpy - INFO - Chain [1] start processing\n",
      "22:26:49 - cmdstanpy - INFO - Chain [1] done processing\n"
     ]
    },
    {
     "name": "stdout",
     "output_type": "stream",
     "text": [
      "It's overpredicted.\n",
      "Monthly Error: 25.31 Period MAE: 13.8\n",
      "It's underpredicted.\n",
      "Monthly Error: 78.08 Period MAE: 78.75999999999999\n",
      "It's underpredicted.\n",
      "Monthly Error: 68.59 Period MAE: 69.72\n"
     ]
    },
    {
     "name": "stderr",
     "output_type": "stream",
     "text": [
      "22:26:51 - cmdstanpy - INFO - Chain [1] start processing\n",
      "22:26:51 - cmdstanpy - INFO - Chain [1] start processing\n",
      "22:26:51 - cmdstanpy - INFO - Chain [1] done processing\n",
      "22:26:52 - cmdstanpy - INFO - Chain [1] done processing\n",
      "22:26:52 - cmdstanpy - INFO - Chain [1] start processing\n",
      "22:26:52 - cmdstanpy - INFO - Chain [1] done processing\n"
     ]
    },
    {
     "name": "stdout",
     "output_type": "stream",
     "text": [
      "It's underpredicted.\n",
      "Monthly Error: 47.55 Period MAE: 49.24\n"
     ]
    },
    {
     "name": "stderr",
     "output_type": "stream",
     "text": [
      "22:26:52 - cmdstanpy - INFO - Chain [1] start processing\n",
      "22:26:53 - cmdstanpy - INFO - Chain [1] done processing\n"
     ]
    },
    {
     "name": "stdout",
     "output_type": "stream",
     "text": [
      "It's underpredicted.\n",
      "Monthly Error: 76.07 Period MAE: 76.72\n",
      "It's underpredicted.\n",
      "Monthly Error: 60.17 Period MAE: 61.51\n"
     ]
    },
    {
     "name": "stderr",
     "output_type": "stream",
     "text": [
      "22:26:54 - cmdstanpy - INFO - Chain [1] start processing\n",
      "22:26:55 - cmdstanpy - INFO - Chain [1] start processing\n",
      "22:26:55 - cmdstanpy - INFO - Chain [1] done processing\n",
      "22:26:55 - cmdstanpy - INFO - Chain [1] done processing\n"
     ]
    },
    {
     "name": "stdout",
     "output_type": "stream",
     "text": [
      "It's underpredicted.\n",
      "Monthly Error: 76.96 Period MAE: 77.7\n",
      "It's underpredicted.\n",
      "Monthly Error: 38.82 Period MAE: 40.589999999999996\n",
      "It's underpredicted.\n",
      "Monthly Error:  62.62Period MAE: 65.06\n"
     ]
    },
    {
     "name": "stderr",
     "output_type": "stream",
     "text": [
      "22:26:57 - cmdstanpy - INFO - Chain [1] start processing\n",
      "22:26:57 - cmdstanpy - INFO - Chain [1] start processing\n",
      "22:26:57 - cmdstanpy - INFO - Chain [1] done processing\n",
      "22:26:58 - cmdstanpy - INFO - Chain [1] start processing\n",
      "22:26:58 - cmdstanpy - INFO - Chain [1] done processing\n",
      "22:26:59 - cmdstanpy - INFO - Chain [1] done processing\n"
     ]
    },
    {
     "name": "stdout",
     "output_type": "stream",
     "text": [
      "It's underpredicted.\n",
      "Monthly Error: 49.14 Period MAE: 50.79\n",
      "It's underpredicted.\n",
      "Monthly Error: 75.48 Period MAE: 76.19\n"
     ]
    },
    {
     "name": "stderr",
     "output_type": "stream",
     "text": [
      "22:26:59 - cmdstanpy - INFO - Chain [1] start processing\n",
      "22:27:00 - cmdstanpy - INFO - Chain [1] done processing\n"
     ]
    },
    {
     "name": "stdout",
     "output_type": "stream",
     "text": [
      "It's underpredicted.\n",
      "Monthly Error: 43.55 Period MAE: 45.21"
     ]
    },
    {
     "name": "stderr",
     "output_type": "stream",
     "text": [
      "22:27:01 - cmdstanpy - INFO - Chain [1] start processing\n"
     ]
    },
    {
     "name": "stdout",
     "output_type": "stream",
     "text": [
      "\n"
     ]
    },
    {
     "name": "stderr",
     "output_type": "stream",
     "text": [
      "22:27:01 - cmdstanpy - INFO - Chain [1] done processing\n",
      "22:27:02 - cmdstanpy - INFO - Chain [1] start processing\n",
      "22:27:02 - cmdstanpy - INFO - Chain [1] done processing\n"
     ]
    },
    {
     "name": "stdout",
     "output_type": "stream",
     "text": [
      "It's underpredicted.\n",
      "Monthly Error: 59.62 Period MAE: 62.260000000000005\n",
      "It's overpredicted.\n",
      "Monthly Error: 22.84 Period MAE: 13.089999999999998\n",
      "It's underpredicted.\n",
      "Monthly Error: 40.48 Period MAE: 42.199999999999996\n"
     ]
    },
    {
     "name": "stderr",
     "output_type": "stream",
     "text": [
      "22:27:05 - cmdstanpy - INFO - Chain [1] start processing\n",
      "22:27:05 - cmdstanpy - INFO - Chain [1] start processing\n"
     ]
    },
    {
     "name": "stdout",
     "output_type": "stream",
     "text": [
      "It's overpredicted.\n",
      "Monthly Error: 23.16 Period MAE: 13.16"
     ]
    },
    {
     "name": "stderr",
     "output_type": "stream",
     "text": [
      "22:27:05 - cmdstanpy - INFO - Chain [1] done processing\n"
     ]
    },
    {
     "name": "stdout",
     "output_type": "stream",
     "text": [
      "\n"
     ]
    },
    {
     "name": "stderr",
     "output_type": "stream",
     "text": [
      "22:27:06 - cmdstanpy - INFO - Chain [1] start processing\n",
      "22:27:06 - cmdstanpy - INFO - Chain [1] start processing\n",
      "22:27:06 - cmdstanpy - INFO - Chain [1] done processing\n",
      "22:27:06 - cmdstanpy - INFO - Chain [1] done processing\n",
      "22:27:06 - cmdstanpy - INFO - Chain [1] done processing\n"
     ]
    },
    {
     "name": "stdout",
     "output_type": "stream",
     "text": [
      "It's underpredicted.\n",
      "Monthly Error: 49.25 Period MAE: 50.94\n"
     ]
    },
    {
     "name": "stderr",
     "output_type": "stream",
     "text": [
      "22:27:08 - cmdstanpy - INFO - Chain [1] start processing\n",
      "22:27:09 - cmdstanpy - INFO - Chain [1] done processing\n"
     ]
    },
    {
     "name": "stdout",
     "output_type": "stream",
     "text": [
      "It's underpredicted.\n",
      "Monthly Error: 33.28 Period MAE: 35.02\n",
      "It's underpredicted.It's overpredicted.\n",
      "\n",
      "Monthly Error: Monthly Error: 24.076.9  Period MAE:Period MAE:  77.64\n",
      "15.559999999999999\n"
     ]
    },
    {
     "name": "stderr",
     "output_type": "stream",
     "text": [
      "22:27:10 - cmdstanpy - INFO - Chain [1] start processing\n",
      "22:27:11 - cmdstanpy - INFO - Chain [1] done processing\n"
     ]
    },
    {
     "name": "stdout",
     "output_type": "stream",
     "text": [
      "It's underpredicted."
     ]
    },
    {
     "name": "stderr",
     "output_type": "stream",
     "text": [
      "22:27:11 - cmdstanpy - INFO - Chain [1] start processing\n"
     ]
    },
    {
     "name": "stdout",
     "output_type": "stream",
     "text": [
      "\n",
      "Monthly Error: 55.09 Period MAE: 56.55\n"
     ]
    },
    {
     "name": "stderr",
     "output_type": "stream",
     "text": [
      "22:27:11 - cmdstanpy - INFO - Chain [1] start processing\n",
      "22:27:11 - cmdstanpy - INFO - Chain [1] start processing\n",
      "22:27:12 - cmdstanpy - INFO - Chain [1] done processing\n",
      "22:27:12 - cmdstanpy - INFO - Chain [1] done processing\n",
      "22:27:12 - cmdstanpy - INFO - Chain [1] done processing\n"
     ]
    },
    {
     "name": "stdout",
     "output_type": "stream",
     "text": [
      "It's underpredicted.\n",
      "Monthly Error: 48.59 Period MAE: 50.38\n"
     ]
    },
    {
     "name": "stderr",
     "output_type": "stream",
     "text": [
      "22:27:14 - cmdstanpy - INFO - Chain [1] start processing\n",
      "22:27:14 - cmdstanpy - INFO - Chain [1] done processing\n"
     ]
    },
    {
     "name": "stdout",
     "output_type": "stream",
     "text": [
      "It's underpredicted.\n",
      "Monthly Error: 44.61 Period MAE: 46.239999999999995\n",
      "It's underpredicted.\n",
      "Monthly Error: 73.19 Period MAE: 73.92999999999999\n"
     ]
    },
    {
     "name": "stderr",
     "output_type": "stream",
     "text": [
      "22:27:15 - cmdstanpy - INFO - Chain [1] start processing\n",
      "22:27:16 - cmdstanpy - INFO - Chain [1] done processing\n",
      "22:27:16 - cmdstanpy - INFO - Chain [1] start processing\n",
      "22:27:16 - cmdstanpy - INFO - Chain [1] done processing\n"
     ]
    },
    {
     "name": "stdout",
     "output_type": "stream",
     "text": [
      "It's underpredicted.\n",
      "Monthly Error: 59.9 Period MAE: It's underpredicted.62.49\n",
      "Monthly Error:\n",
      " 90.99 Period MAE: 91.55\n",
      "It's underpredicted.\n",
      "Monthly Error: 55.02 Period MAE: 56.68\n"
     ]
    },
    {
     "name": "stderr",
     "output_type": "stream",
     "text": [
      "22:27:18 - cmdstanpy - INFO - Chain [1] start processing\n",
      "22:27:18 - cmdstanpy - INFO - Chain [1] start processing\n",
      "22:27:18 - cmdstanpy - INFO - Chain [1] start processing\n",
      "22:27:19 - cmdstanpy - INFO - Chain [1] done processing\n",
      "22:27:19 - cmdstanpy - INFO - Chain [1] done processing\n",
      "22:27:19 - cmdstanpy - INFO - Chain [1] done processing\n"
     ]
    },
    {
     "name": "stdout",
     "output_type": "stream",
     "text": [
      "It's underpredicted.\n",
      "Monthly Error: 90.92 Period MAE: 91.47999999999999\n"
     ]
    },
    {
     "name": "stderr",
     "output_type": "stream",
     "text": [
      "22:27:20 - cmdstanpy - INFO - Chain [1] start processing\n"
     ]
    },
    {
     "name": "stdout",
     "output_type": "stream",
     "text": [
      "It's underpredicted.\n",
      "Monthly Error: 56.42 Period MAE: 58.099999999999994\n"
     ]
    },
    {
     "name": "stderr",
     "output_type": "stream",
     "text": [
      "22:27:21 - cmdstanpy - INFO - Chain [1] done processing\n"
     ]
    },
    {
     "name": "stdout",
     "output_type": "stream",
     "text": [
      "It's underpredicted."
     ]
    },
    {
     "name": "stderr",
     "output_type": "stream",
     "text": [
      "22:27:22 - cmdstanpy - INFO - Chain [1] start processing\n"
     ]
    },
    {
     "name": "stdout",
     "output_type": "stream",
     "text": [
      "\n",
      "Monthly Error: 41.69 Period MAE: 43.44\n"
     ]
    },
    {
     "name": "stderr",
     "output_type": "stream",
     "text": [
      "22:27:22 - cmdstanpy - INFO - Chain [1] done processing\n"
     ]
    },
    {
     "name": "stdout",
     "output_type": "stream",
     "text": [
      "It's underpredicted.\n",
      "Monthly Error: 88.41 Period MAE: 89.05999999999999\n"
     ]
    },
    {
     "name": "stderr",
     "output_type": "stream",
     "text": [
      "22:27:23 - cmdstanpy - INFO - Chain [1] start processing\n",
      "22:27:23 - cmdstanpy - INFO - Chain [1] done processing\n",
      "22:27:24 - cmdstanpy - INFO - Chain [1] start processing\n"
     ]
    },
    {
     "name": "stdout",
     "output_type": "stream",
     "text": [
      "It's underpredicted.\n",
      "It's underpredicted.Monthly Error: \n",
      "Monthly Error:63.74  51.47Period MAE: Period MAE:  65.14999999999999\n",
      "53.16\n"
     ]
    },
    {
     "name": "stderr",
     "output_type": "stream",
     "text": [
      "22:27:25 - cmdstanpy - INFO - Chain [1] start processing\n",
      "22:27:25 - cmdstanpy - INFO - Chain [1] done processing\n",
      "22:27:25 - cmdstanpy - INFO - Chain [1] start processing\n",
      "22:27:26 - cmdstanpy - INFO - Chain [1] done processing\n",
      "22:27:26 - cmdstanpy - INFO - Chain [1] done processing\n"
     ]
    },
    {
     "name": "stdout",
     "output_type": "stream",
     "text": [
      "It's underpredicted.\n",
      "Monthly Error: 33.52 Period MAE: It's underpredicted.35.449999999999996\n",
      "\n",
      "It's underpredicted.\n",
      "Monthly Error: Monthly Error: 66.5139.95  Period MAE: Period MAE:41.72 67.83\n",
      "\n"
     ]
    },
    {
     "name": "stderr",
     "output_type": "stream",
     "text": [
      "22:27:28 - cmdstanpy - INFO - Chain [1] start processing\n",
      "22:27:28 - cmdstanpy - INFO - Chain [1] done processing\n",
      "22:27:29 - cmdstanpy - INFO - Chain [1] start processing\n",
      "22:27:29 - cmdstanpy - INFO - Chain [1] start processing\n",
      "22:27:29 - cmdstanpy - INFO - Chain [1] done processing\n",
      "22:27:30 - cmdstanpy - INFO - Chain [1] done processing\n"
     ]
    },
    {
     "name": "stdout",
     "output_type": "stream",
     "text": [
      "It's underpredicted.\n",
      "Monthly Error: 61.91 Period MAE: 63.32\n",
      "It's underpredicted.\n",
      "Monthly Error: It's underpredicted.39.98\n",
      " Monthly Error: Period MAE:82.93  41.79\n",
      "Period MAE: 83.77\n"
     ]
    },
    {
     "name": "stderr",
     "output_type": "stream",
     "text": [
      "22:27:32 - cmdstanpy - INFO - Chain [1] start processing\n",
      "22:27:32 - cmdstanpy - INFO - Chain [1] start processing\n",
      "22:27:32 - cmdstanpy - INFO - Chain [1] done processing\n",
      "22:27:33 - cmdstanpy - INFO - Chain [1] start processing\n",
      "22:27:33 - cmdstanpy - INFO - Chain [1] done processing\n",
      "22:27:33 - cmdstanpy - INFO - Chain [1] done processing\n"
     ]
    },
    {
     "name": "stdout",
     "output_type": "stream",
     "text": [
      "It's underpredicted.\n",
      "Monthly Error: 88.71 Period MAE: It's underpredicted.89.36\n",
      "\n",
      "Monthly Error: 34.97 Period MAE: 36.91\n"
     ]
    },
    {
     "name": "stderr",
     "output_type": "stream",
     "text": [
      "22:27:34 - cmdstanpy - INFO - Chain [1] start processing\n",
      "22:27:34 - cmdstanpy - INFO - Chain [1] done processing\n",
      "22:27:35 - cmdstanpy - INFO - Chain [1] start processing\n"
     ]
    },
    {
     "name": "stdout",
     "output_type": "stream",
     "text": [
      "It's underpredicted.\n",
      "Monthly Error: 34.3 Period MAE: 36.09\n"
     ]
    },
    {
     "name": "stderr",
     "output_type": "stream",
     "text": [
      "22:27:36 - cmdstanpy - INFO - Chain [1] done processing\n",
      "22:27:36 - cmdstanpy - INFO - Chain [1] start processing\n",
      "22:27:37 - cmdstanpy - INFO - Chain [1] done processing\n"
     ]
    },
    {
     "name": "stdout",
     "output_type": "stream",
     "text": [
      "It's underpredicted.\n",
      "Monthly Error: 42.13 Period MAE: 43.919999999999995\n",
      "It's underpredicted.\n",
      "Monthly Error: 89.35 Period MAE: 89.96\n",
      "It's underpredicted.\n",
      "Monthly Error: 60.32 Period MAE: 61.79\n"
     ]
    },
    {
     "name": "stderr",
     "output_type": "stream",
     "text": [
      "22:27:39 - cmdstanpy - INFO - Chain [1] start processing\n",
      "22:27:39 - cmdstanpy - INFO - Chain [1] start processing\n",
      "22:27:39 - cmdstanpy - INFO - Chain [1] done processing\n",
      "22:27:39 - cmdstanpy - INFO - Chain [1] start processing\n",
      "22:27:40 - cmdstanpy - INFO - Chain [1] done processing\n",
      "22:27:40 - cmdstanpy - INFO - Chain [1] done processing\n"
     ]
    },
    {
     "name": "stdout",
     "output_type": "stream",
     "text": [
      "It's underpredicted.\n",
      "Monthly Error: 89.6 Period MAE: 90.2\n",
      "It's underpredicted.\n",
      "Monthly Error: 43.04 Period MAE: 44.87\n"
     ]
    },
    {
     "name": "stderr",
     "output_type": "stream",
     "text": [
      "22:27:41 - cmdstanpy - INFO - Chain [1] start processing\n",
      "22:27:42 - cmdstanpy - INFO - Chain [1] done processing\n"
     ]
    },
    {
     "name": "stdout",
     "output_type": "stream",
     "text": [
      "It's underpredicted.\n",
      "Monthly Error: 35.15 Period MAE: 36.980000000000004\n"
     ]
    },
    {
     "name": "stderr",
     "output_type": "stream",
     "text": [
      "22:27:43 - cmdstanpy - INFO - Chain [1] start processing\n"
     ]
    },
    {
     "name": "stdout",
     "output_type": "stream",
     "text": [
      "It's underpredicted.\n",
      "Monthly Error: 89.53 Period MAE: 90.14999999999999\n"
     ]
    },
    {
     "name": "stderr",
     "output_type": "stream",
     "text": [
      "22:27:43 - cmdstanpy - INFO - Chain [1] done processing\n",
      "22:27:44 - cmdstanpy - INFO - Chain [1] start processing\n",
      "22:27:44 - cmdstanpy - INFO - Chain [1] done processing\n"
     ]
    },
    {
     "name": "stdout",
     "output_type": "stream",
     "text": [
      "It's underpredicted."
     ]
    },
    {
     "name": "stderr",
     "output_type": "stream",
     "text": [
      "22:27:45 - cmdstanpy - INFO - Chain [1] start processing\n"
     ]
    },
    {
     "name": "stdout",
     "output_type": "stream",
     "text": [
      "\n",
      "Monthly Error: 72.39 Period MAE: 73.36\n",
      "It's underpredicted.\n",
      "Monthly Error:"
     ]
    },
    {
     "name": "stderr",
     "output_type": "stream",
     "text": [
      "22:27:45 - cmdstanpy - INFO - Chain [1] done processing\n"
     ]
    },
    {
     "name": "stdout",
     "output_type": "stream",
     "text": [
      " 39.4 Period MAE: 41.21\n"
     ]
    },
    {
     "name": "stderr",
     "output_type": "stream",
     "text": [
      "22:27:46 - cmdstanpy - INFO - Chain [1] start processing\n",
      "22:27:46 - cmdstanpy - INFO - Chain [1] start processing\n",
      "22:27:46 - cmdstanpy - INFO - Chain [1] done processing\n",
      "22:27:47 - cmdstanpy - INFO - Chain [1] done processing\n"
     ]
    },
    {
     "name": "stdout",
     "output_type": "stream",
     "text": [
      "It's underpredicted.\n",
      "Monthly Error: 38.18 Period MAE: 39.98\n",
      "It's underpredicted.\n",
      "Monthly Error: 21.44 Period MAE: 23.549999999999997\n"
     ]
    },
    {
     "name": "stderr",
     "output_type": "stream",
     "text": [
      "22:27:48 - cmdstanpy - INFO - Chain [1] start processing\n",
      "22:27:48 - cmdstanpy - INFO - Chain [1] done processing\n"
     ]
    },
    {
     "name": "stdout",
     "output_type": "stream",
     "text": [
      "It's underpredicted.\n",
      "Monthly Error: 67.36 Period MAE: 68.52000000000001\n"
     ]
    },
    {
     "name": "stderr",
     "output_type": "stream",
     "text": [
      "22:27:49 - cmdstanpy - INFO - Chain [1] start processing\n",
      "22:27:49 - cmdstanpy - INFO - Chain [1] done processing\n",
      "22:27:49 - cmdstanpy - INFO - Chain [1] start processing\n",
      "22:27:50 - cmdstanpy - INFO - Chain [1] done processing\n"
     ]
    },
    {
     "name": "stdout",
     "output_type": "stream",
     "text": [
      "It's underpredicted.\n",
      "Monthly Error: 60.03 Period MAE: 61.44\n",
      "It's underpredicted.\n",
      "Monthly Error: 32.25 Period MAE: 34.160000000000004\n",
      "It's underpredicted.\n",
      "Monthly Error: 88.25 Period MAE: 88.92999999999999\n"
     ]
    },
    {
     "name": "stderr",
     "output_type": "stream",
     "text": [
      "22:27:52 - cmdstanpy - INFO - Chain [1] start processing\n",
      "22:27:52 - cmdstanpy - INFO - Chain [1] start processing\n",
      "22:27:53 - cmdstanpy - INFO - Chain [1] start processing\n",
      "22:27:53 - cmdstanpy - INFO - Chain [1] done processing\n",
      "22:27:53 - cmdstanpy - INFO - Chain [1] done processing\n",
      "22:27:53 - cmdstanpy - INFO - Chain [1] done processing\n"
     ]
    },
    {
     "name": "stdout",
     "output_type": "stream",
     "text": [
      "It's underpredicted.\n",
      "Monthly Error: 88.37 Period MAE: 89.03999999999999\n",
      "It's underpredicted.\n",
      " Monthly Error: 59.29Period MAE: 60.73\n"
     ]
    },
    {
     "name": "stderr",
     "output_type": "stream",
     "text": [
      "22:27:54 - cmdstanpy - INFO - Chain [1] start processing\n",
      "22:27:55 - cmdstanpy - INFO - Chain [1] done processing\n",
      "22:27:55 - cmdstanpy - INFO - Chain [1] start processing\n",
      "22:27:55 - cmdstanpy - INFO - Chain [1] done processing\n"
     ]
    },
    {
     "name": "stdout",
     "output_type": "stream",
     "text": [
      "It's underpredicted.\n",
      "Monthly Error: 19.81 Period MAE: 21.22\n"
     ]
    },
    {
     "name": "stderr",
     "output_type": "stream",
     "text": [
      "22:27:56 - cmdstanpy - INFO - Chain [1] start processing\n"
     ]
    },
    {
     "name": "stdout",
     "output_type": "stream",
     "text": [
      "It's underpredicted.\n",
      "Monthly Error: 63.26 Period MAE:"
     ]
    },
    {
     "name": "stderr",
     "output_type": "stream",
     "text": [
      "22:27:57 - cmdstanpy - INFO - Chain [1] done processing\n"
     ]
    },
    {
     "name": "stdout",
     "output_type": "stream",
     "text": [
      " 64.51\n",
      "It's underpredicted.It's underpredicted.\n"
     ]
    },
    {
     "name": "stderr",
     "output_type": "stream",
     "text": [
      "22:27:58 - cmdstanpy - INFO - Chain [1] start processing\n"
     ]
    },
    {
     "name": "stdout",
     "output_type": "stream",
     "text": [
      "Monthly Error:\n",
      " 78.06Monthly Error: Period MAE:  88.8778.74 \n",
      "Period MAE: 89.53\n"
     ]
    },
    {
     "name": "stderr",
     "output_type": "stream",
     "text": [
      "22:27:59 - cmdstanpy - INFO - Chain [1] start processing\n",
      "22:27:59 - cmdstanpy - INFO - Chain [1] done processing\n",
      "22:27:59 - cmdstanpy - INFO - Chain [1] done processing\n",
      "22:27:59 - cmdstanpy - INFO - Chain [1] start processing\n",
      "22:27:59 - cmdstanpy - INFO - Chain [1] done processing\n"
     ]
    },
    {
     "name": "stdout",
     "output_type": "stream",
     "text": [
      "It's underpredicted.\n",
      "Monthly Error: 49.94 Period MAE: 51.65\n",
      "It's underpredicted.\n",
      "Monthly Error: 76.13 Period MAE: 76.78\n",
      "It's underpredicted.\n",
      "Monthly Error: 49.77 Period MAE: "
     ]
    },
    {
     "name": "stderr",
     "output_type": "stream",
     "text": [
      "22:28:01 - cmdstanpy - INFO - Chain [1] start processing\n"
     ]
    },
    {
     "name": "stdout",
     "output_type": "stream",
     "text": [
      "51.38\n"
     ]
    },
    {
     "name": "stderr",
     "output_type": "stream",
     "text": [
      "22:28:01 - cmdstanpy - INFO - Chain [1] done processing\n",
      "22:28:03 - cmdstanpy - INFO - Chain [1] start processing\n",
      "22:28:03 - cmdstanpy - INFO - Chain [1] start processing\n",
      "22:28:03 - cmdstanpy - INFO - Chain [1] done processing\n",
      "22:28:03 - cmdstanpy - INFO - Chain [1] done processing\n"
     ]
    },
    {
     "name": "stdout",
     "output_type": "stream",
     "text": [
      "It's underpredicted.\n",
      "Monthly Error: 67.18 Period MAE: 69.39999999999999\n",
      "It's underpredicted.\n",
      "Monthly Error: 52.22 Period MAE:"
     ]
    },
    {
     "name": "stderr",
     "output_type": "stream",
     "text": [
      "22:28:06 - cmdstanpy - INFO - Chain [1] start processing\n"
     ]
    },
    {
     "name": "stdout",
     "output_type": "stream",
     "text": [
      " 53.790000000000006\n",
      "It's overpredicted.\n",
      "Monthly Error: 24.32 Period MAE: 11.899999999999999\n"
     ]
    },
    {
     "name": "stderr",
     "output_type": "stream",
     "text": [
      "22:28:06 - cmdstanpy - INFO - Chain [1] start processing\n",
      "22:28:07 - cmdstanpy - INFO - Chain [1] done processing\n",
      "22:28:07 - cmdstanpy - INFO - Chain [1] done processing\n",
      "22:28:07 - cmdstanpy - INFO - Chain [1] start processing\n"
     ]
    },
    {
     "name": "stdout",
     "output_type": "stream",
     "text": [
      "It's overpredicted."
     ]
    },
    {
     "name": "stderr",
     "output_type": "stream",
     "text": [
      "22:28:07 - cmdstanpy - INFO - Chain [1] done processing\n"
     ]
    },
    {
     "name": "stdout",
     "output_type": "stream",
     "text": [
      "\n",
      "Monthly Error: 24.74 Period MAE: 12.34\n"
     ]
    },
    {
     "name": "stderr",
     "output_type": "stream",
     "text": [
      "22:28:08 - cmdstanpy - INFO - Chain [1] start processing\n"
     ]
    },
    {
     "name": "stdout",
     "output_type": "stream",
     "text": [
      "It's underpredicted.\n",
      "Monthly Error: 65.44 Period MAE: "
     ]
    },
    {
     "name": "stderr",
     "output_type": "stream",
     "text": [
      "22:28:08 - cmdstanpy - INFO - Chain [1] done processing\n"
     ]
    },
    {
     "name": "stdout",
     "output_type": "stream",
     "text": [
      "66.71000000000001\n",
      "It's underpredicted.\n",
      "Monthly Error: 53.17 Period MAE: 54.72\n"
     ]
    },
    {
     "name": "stderr",
     "output_type": "stream",
     "text": [
      "22:28:10 - cmdstanpy - INFO - Chain [1] start processing\n",
      "22:28:10 - cmdstanpy - INFO - Chain [1] start processing\n",
      "22:28:11 - cmdstanpy - INFO - Chain [1] done processing\n",
      "22:28:11 - cmdstanpy - INFO - Chain [1] done processing\n"
     ]
    },
    {
     "name": "stdout",
     "output_type": "stream",
     "text": [
      "It's overpredicted.\n",
      "Monthly Error: 25.33 Period MAE: 13.83\n",
      "It's underpredicted.\n",
      "Monthly Error: 78.06 Period MAE: 78.74\n"
     ]
    },
    {
     "name": "stderr",
     "output_type": "stream",
     "text": [
      "22:28:13 - cmdstanpy - INFO - Chain [1] start processing\n"
     ]
    },
    {
     "name": "stdout",
     "output_type": "stream",
     "text": [
      "It's underpredicted.\n",
      "Monthly Error: 63.21 Period MAE: 64.45\n"
     ]
    },
    {
     "name": "stderr",
     "output_type": "stream",
     "text": [
      "22:28:13 - cmdstanpy - INFO - Chain [1] done processing\n",
      "22:28:13 - cmdstanpy - INFO - Chain [1] start processing\n",
      "22:28:14 - cmdstanpy - INFO - Chain [1] done processing\n",
      "22:28:14 - cmdstanpy - INFO - Chain [1] start processing\n"
     ]
    },
    {
     "name": "stdout",
     "output_type": "stream",
     "text": [
      "It's underpredicted."
     ]
    },
    {
     "name": "stderr",
     "output_type": "stream",
     "text": [
      "22:28:14 - cmdstanpy - INFO - Chain [1] done processing\n"
     ]
    },
    {
     "name": "stdout",
     "output_type": "stream",
     "text": [
      "\n",
      "Monthly Error: 76.13 Period MAE: 76.78\n"
     ]
    },
    {
     "name": "stderr",
     "output_type": "stream",
     "text": [
      "22:28:15 - cmdstanpy - INFO - Chain [1] start processing\n"
     ]
    },
    {
     "name": "stdout",
     "output_type": "stream",
     "text": [
      "It's underpredicted.\n",
      "Monthly Error: 49.79 Period MAE: "
     ]
    },
    {
     "name": "stderr",
     "output_type": "stream",
     "text": [
      "22:28:15 - cmdstanpy - INFO - Chain [1] done processing\n"
     ]
    },
    {
     "name": "stdout",
     "output_type": "stream",
     "text": [
      "51.43\n"
     ]
    },
    {
     "name": "stderr",
     "output_type": "stream",
     "text": [
      "22:28:16 - cmdstanpy - INFO - Chain [1] start processing\n"
     ]
    },
    {
     "name": "stdout",
     "output_type": "stream",
     "text": [
      "It's underpredicted.\n",
      "Monthly Error: 58.13 Period MAE: 59.550000000000004\n"
     ]
    },
    {
     "name": "stderr",
     "output_type": "stream",
     "text": [
      "22:28:16 - cmdstanpy - INFO - Chain [1] done processing\n",
      "22:28:17 - cmdstanpy - INFO - Chain [1] start processing\n",
      "22:28:17 - cmdstanpy - INFO - Chain [1] done processing\n"
     ]
    },
    {
     "name": "stdout",
     "output_type": "stream",
     "text": [
      "It's underpredicted.\n",
      "Monthly Error: 76.96It's underpredicted.\n",
      " Monthly Error:Period MAE: 48.43  77.69\n",
      "Period MAE: 50.0\n",
      "It's underpredicted.\n",
      "Monthly Error: 64.41 Period MAE: 66.64\n"
     ]
    },
    {
     "name": "stderr",
     "output_type": "stream",
     "text": [
      "22:28:19 - cmdstanpy - INFO - Chain [1] start processing\n",
      "22:28:20 - cmdstanpy - INFO - Chain [1] start processing\n",
      "22:28:20 - cmdstanpy - INFO - Chain [1] start processing\n",
      "22:28:20 - cmdstanpy - INFO - Chain [1] done processing\n",
      "22:28:20 - cmdstanpy - INFO - Chain [1] done processing\n"
     ]
    },
    {
     "name": "stdout",
     "output_type": "stream",
     "text": [
      "It's underpredicted.\n",
      "Monthly Error: 75.49 Period MAE: 76.2\n"
     ]
    },
    {
     "name": "stderr",
     "output_type": "stream",
     "text": [
      "22:28:21 - cmdstanpy - INFO - Chain [1] done processing\n",
      "22:28:21 - cmdstanpy - INFO - Chain [1] start processing\n",
      "22:28:22 - cmdstanpy - INFO - Chain [1] done processing\n"
     ]
    },
    {
     "name": "stdout",
     "output_type": "stream",
     "text": [
      "It's underpredicted.\n",
      "Monthly Error: 36.62 Period MAE: 38.48\n"
     ]
    },
    {
     "name": "stderr",
     "output_type": "stream",
     "text": [
      "22:28:23 - cmdstanpy - INFO - Chain [1] start processing\n"
     ]
    },
    {
     "name": "stdout",
     "output_type": "stream",
     "text": [
      "It's underpredicted.\n",
      "Monthly Error: 42.48 Period MAE: 44.16\n",
      "It's overpredicted.\n"
     ]
    },
    {
     "name": "stderr",
     "output_type": "stream",
     "text": [
      "22:28:24 - cmdstanpy - INFO - Chain [1] done processing\n"
     ]
    },
    {
     "name": "stdout",
     "output_type": "stream",
     "text": [
      "Monthly Error: 23.34 Period MAE: 14.02\n"
     ]
    },
    {
     "name": "stderr",
     "output_type": "stream",
     "text": [
      "22:28:25 - cmdstanpy - INFO - Chain [1] start processing\n"
     ]
    },
    {
     "name": "stdout",
     "output_type": "stream",
     "text": [
      "It's underpredicted."
     ]
    },
    {
     "name": "stderr",
     "output_type": "stream",
     "text": [
      "22:28:25 - cmdstanpy - INFO - Chain [1] done processing\n"
     ]
    },
    {
     "name": "stdout",
     "output_type": "stream",
     "text": [
      "\n",
      "Monthly Error: 56.1 Period MAE: 59.089999999999996\n"
     ]
    },
    {
     "name": "stderr",
     "output_type": "stream",
     "text": [
      "22:28:25 - cmdstanpy - INFO - Chain [1] start processing\n"
     ]
    },
    {
     "name": "stdout",
     "output_type": "stream",
     "text": [
      "It's underpredicted.\n",
      "Monthly Error: 35.61 Period MAE: 37.41\n"
     ]
    },
    {
     "name": "stderr",
     "output_type": "stream",
     "text": [
      "22:28:26 - cmdstanpy - INFO - Chain [1] start processing\n",
      "22:28:26 - cmdstanpy - INFO - Chain [1] start processing\n",
      "22:28:26 - cmdstanpy - INFO - Chain [1] done processing\n",
      "22:28:27 - cmdstanpy - INFO - Chain [1] done processing\n",
      "22:28:27 - cmdstanpy - INFO - Chain [1] done processing\n"
     ]
    },
    {
     "name": "stdout",
     "output_type": "stream",
     "text": [
      "It's overpredicted.\n",
      "Monthly Error: 23.32 Period MAE: 13.569999999999999\n",
      "It's underpredicted.\n",
      "Monthly Error: 50.09Period MAE:  51.76\n",
      "It's underpredicted."
     ]
    },
    {
     "name": "stderr",
     "output_type": "stream",
     "text": [
      "22:28:29 - cmdstanpy - INFO - Chain [1] start processing\n"
     ]
    },
    {
     "name": "stdout",
     "output_type": "stream",
     "text": [
      "\n",
      "Monthly Error: 33.06 Period MAE:"
     ]
    },
    {
     "name": "stderr",
     "output_type": "stream",
     "text": [
      "22:28:29 - cmdstanpy - INFO - Chain [1] done processing\n"
     ]
    },
    {
     "name": "stdout",
     "output_type": "stream",
     "text": [
      " 34.82\n"
     ]
    },
    {
     "name": "stderr",
     "output_type": "stream",
     "text": [
      "22:28:30 - cmdstanpy - INFO - Chain [1] start processing\n",
      "22:28:30 - cmdstanpy - INFO - Chain [1] start processing\n",
      "22:28:30 - cmdstanpy - INFO - Chain [1] done processing\n",
      "22:28:30 - cmdstanpy - INFO - Chain [1] done processing\n"
     ]
    },
    {
     "name": "stdout",
     "output_type": "stream",
     "text": [
      "It's overpredicted.\n",
      "Monthly Error: 23.84 Period MAE: 15.299999999999999\n"
     ]
    },
    {
     "name": "stderr",
     "output_type": "stream",
     "text": [
      "22:28:32 - cmdstanpy - INFO - Chain [1] start processing\n"
     ]
    },
    {
     "name": "stdout",
     "output_type": "stream",
     "text": [
      "It's underpredicted.\n",
      "Monthly Error: 51.75 Period MAE: 53.300000000000004\n",
      "It's underpredicted.\n",
      "Monthly Error: 76.84 Period MAE: 77.57"
     ]
    },
    {
     "name": "stderr",
     "output_type": "stream",
     "text": [
      "22:28:33 - cmdstanpy - INFO - Chain [1] done processing\n"
     ]
    },
    {
     "name": "stdout",
     "output_type": "stream",
     "text": [
      "\n"
     ]
    },
    {
     "name": "stderr",
     "output_type": "stream",
     "text": [
      "22:28:33 - cmdstanpy - INFO - Chain [1] start processing\n",
      "22:28:33 - cmdstanpy - INFO - Chain [1] start processing\n",
      "22:28:34 - cmdstanpy - INFO - Chain [1] done processing\n"
     ]
    },
    {
     "name": "stdout",
     "output_type": "stream",
     "text": [
      "It's underpredicted.\n",
      "Monthly Error: 73.5 Period MAE: 74.22999999999999\n"
     ]
    },
    {
     "name": "stderr",
     "output_type": "stream",
     "text": [
      "22:28:34 - cmdstanpy - INFO - Chain [1] done processing\n",
      "22:28:34 - cmdstanpy - INFO - Chain [1] start processing\n",
      "22:28:34 - cmdstanpy - INFO - Chain [1] done processing\n"
     ]
    },
    {
     "name": "stdout",
     "output_type": "stream",
     "text": [
      "It's underpredicted.\n",
      "Monthly Error: 53.43 Period MAE: 55.169999999999995\n",
      "It's underpredicted.\n",
      "Monthly Error: 41.66 Period MAE: 43.3\n"
     ]
    },
    {
     "name": "stderr",
     "output_type": "stream",
     "text": [
      "22:28:36 - cmdstanpy - INFO - Chain [1] start processing\n",
      "22:28:36 - cmdstanpy - INFO - Chain [1] start processing\n",
      "22:28:36 - cmdstanpy - INFO - Chain [1] done processing\n",
      "22:28:37 - cmdstanpy - INFO - Chain [1] done processing\n"
     ]
    },
    {
     "name": "stdout",
     "output_type": "stream",
     "text": [
      "It's underpredicted.\n",
      "Monthly Error: 90.99 Period MAE: 91.53999999999999\n",
      "It's underpredicted.\n",
      "Monthly Error: 60.92 Period MAE: 63.46000000000001\n",
      "It's underpredicted.\n",
      "Monthly Error: 52.97 Period MAE: 54.669999999999995\n"
     ]
    },
    {
     "name": "stderr",
     "output_type": "stream",
     "text": [
      "22:28:39 - cmdstanpy - INFO - Chain [1] start processing\n",
      "22:28:39 - cmdstanpy - INFO - Chain [1] start processing\n",
      "22:28:39 - cmdstanpy - INFO - Chain [1] done processing\n",
      "22:28:39 - cmdstanpy - INFO - Chain [1] start processing\n",
      "22:28:40 - cmdstanpy - INFO - Chain [1] done processing\n",
      "22:28:40 - cmdstanpy - INFO - Chain [1] done processing\n"
     ]
    },
    {
     "name": "stdout",
     "output_type": "stream",
     "text": [
      "It's underpredicted.\n",
      "Monthly Error: 90.97 Period MAE: 91.53\n"
     ]
    },
    {
     "name": "stderr",
     "output_type": "stream",
     "text": [
      "22:28:41 - cmdstanpy - INFO - Chain [1] start processing\n"
     ]
    },
    {
     "name": "stdout",
     "output_type": "stream",
     "text": [
      "It's underpredicted.\n",
      "Monthly Error: 49.87"
     ]
    },
    {
     "name": "stderr",
     "output_type": "stream",
     "text": [
      "22:28:41 - cmdstanpy - INFO - Chain [1] done processing\n"
     ]
    },
    {
     "name": "stdout",
     "output_type": "stream",
     "text": [
      " Period MAE: 51.66\n"
     ]
    },
    {
     "name": "stderr",
     "output_type": "stream",
     "text": [
      "22:28:42 - cmdstanpy - INFO - Chain [1] start processing\n"
     ]
    },
    {
     "name": "stdout",
     "output_type": "stream",
     "text": [
      "It's underpredicted.\n",
      "Monthly Error: 52.09"
     ]
    },
    {
     "name": "stderr",
     "output_type": "stream",
     "text": [
      "22:28:43 - cmdstanpy - INFO - Chain [1] done processing\n"
     ]
    },
    {
     "name": "stdout",
     "output_type": "stream",
     "text": [
      " Period MAE: 53.76\n"
     ]
    },
    {
     "name": "stderr",
     "output_type": "stream",
     "text": [
      "22:28:44 - cmdstanpy - INFO - Chain [1] start processing\n",
      "22:28:44 - cmdstanpy - INFO - Chain [1] done processing\n"
     ]
    },
    {
     "name": "stdout",
     "output_type": "stream",
     "text": [
      "It's underpredicted.\n",
      "It's underpredicted.\n",
      "Monthly Error:Monthly Error:  91.3348.18 Period MAE:It's underpredicted.  Period MAE:49.919999999999995\n",
      "\n",
      " Monthly Error: 66.05 Period MAE:91.86 \n",
      "67.38\n"
     ]
    },
    {
     "name": "stderr",
     "output_type": "stream",
     "text": [
      "22:28:45 - cmdstanpy - INFO - Chain [1] start processing\n",
      "22:28:46 - cmdstanpy - INFO - Chain [1] done processing\n",
      "22:28:46 - cmdstanpy - INFO - Chain [1] start processing\n",
      "22:28:46 - cmdstanpy - INFO - Chain [1] start processing\n",
      "22:28:46 - cmdstanpy - INFO - Chain [1] done processing\n"
     ]
    },
    {
     "name": "stdout",
     "output_type": "stream",
     "text": [
      "It's underpredicted.\n",
      "Monthly Error: 41.61 Period MAE: 43.480000000000004\n"
     ]
    },
    {
     "name": "stderr",
     "output_type": "stream",
     "text": [
      "22:28:47 - cmdstanpy - INFO - Chain [1] start processing\n",
      "22:28:47 - cmdstanpy - INFO - Chain [1] done processing\n",
      "22:28:48 - cmdstanpy - INFO - Chain [1] done processing\n"
     ]
    },
    {
     "name": "stdout",
     "output_type": "stream",
     "text": [
      "It's underpredicted.\n",
      "Monthly Error: 74.24 Period MAE: 75.29\n",
      "It's underpredicted.\n",
      "Monthly Error: 45.34 Period MAE: 47.06\n"
     ]
    },
    {
     "name": "stderr",
     "output_type": "stream",
     "text": [
      "22:28:49 - cmdstanpy - INFO - Chain [1] start processing\n",
      "22:28:50 - cmdstanpy - INFO - Chain [1] done processing\n",
      "22:28:50 - cmdstanpy - INFO - Chain [1] start processing\n",
      "22:28:51 - cmdstanpy - INFO - Chain [1] done processing\n"
     ]
    },
    {
     "name": "stdout",
     "output_type": "stream",
     "text": [
      "It's underpredicted.\n",
      "Monthly Error: 83.77 Period MAE: 84.58\n",
      "It's underpredicted.\n",
      "Monthly Error: 64.3 Period MAE: 65.66\n",
      "It's underpredicted.\n",
      "Monthly Error: 50.3 Period MAE: 52.03\n"
     ]
    },
    {
     "name": "stderr",
     "output_type": "stream",
     "text": [
      "22:28:52 - cmdstanpy - INFO - Chain [1] start processing\n",
      "22:28:52 - cmdstanpy - INFO - Chain [1] start processing\n",
      "22:28:52 - cmdstanpy - INFO - Chain [1] done processing\n",
      "22:28:53 - cmdstanpy - INFO - Chain [1] start processing\n",
      "22:28:53 - cmdstanpy - INFO - Chain [1] done processing\n",
      "22:28:53 - cmdstanpy - INFO - Chain [1] done processing\n"
     ]
    },
    {
     "name": "stdout",
     "output_type": "stream",
     "text": [
      "It's underpredicted.\n",
      "Monthly Error: 30.73 Period MAE: 32.72\n",
      "It's underpredicted.\n",
      "Monthly Error: 84.25 Period MAE: 85.05\n"
     ]
    },
    {
     "name": "stderr",
     "output_type": "stream",
     "text": [
      "22:28:54 - cmdstanpy - INFO - Chain [1] start processing\n",
      "22:28:55 - cmdstanpy - INFO - Chain [1] done processing\n",
      "22:28:55 - cmdstanpy - INFO - Chain [1] start processing\n",
      "22:28:56 - cmdstanpy - INFO - Chain [1] done processing\n"
     ]
    },
    {
     "name": "stdout",
     "output_type": "stream",
     "text": [
      "It's underpredicted.\n",
      "Monthly Error: 40.36 Period MAE: 42.11\n",
      "It's underpredicted.\n"
     ]
    },
    {
     "name": "stderr",
     "output_type": "stream",
     "text": [
      "22:28:57 - cmdstanpy - INFO - Chain [1] start processing\n"
     ]
    },
    {
     "name": "stdout",
     "output_type": "stream",
     "text": [
      "Monthly Error: 34.78 Period MAE: 36.67\n"
     ]
    },
    {
     "name": "stderr",
     "output_type": "stream",
     "text": [
      "22:28:57 - cmdstanpy - INFO - Chain [1] done processing\n"
     ]
    },
    {
     "name": "stdout",
     "output_type": "stream",
     "text": [
      "It's underpredicted.\n",
      "Monthly Error: It's underpredicted.\n",
      "82.8 Period MAE:Monthly Error:  83.62\n",
      "89.53 Period MAE: 90.12\n"
     ]
    },
    {
     "name": "stderr",
     "output_type": "stream",
     "text": [
      "22:28:58 - cmdstanpy - INFO - Chain [1] start processing\n",
      "22:28:59 - cmdstanpy - INFO - Chain [1] done processing\n",
      "22:28:59 - cmdstanpy - INFO - Chain [1] start processing\n",
      "22:28:59 - cmdstanpy - INFO - Chain [1] start processing\n",
      "22:28:59 - cmdstanpy - INFO - Chain [1] done processing\n",
      "22:29:00 - cmdstanpy - INFO - Chain [1] done processing\n"
     ]
    },
    {
     "name": "stdout",
     "output_type": "stream",
     "text": [
      "It's underpredicted.\n",
      "Monthly Error: 43.55 Period MAE: 45.37\n"
     ]
    },
    {
     "name": "stderr",
     "output_type": "stream",
     "text": [
      "22:29:01 - cmdstanpy - INFO - Chain [1] start processing\n",
      "22:29:01 - cmdstanpy - INFO - Chain [1] done processing\n"
     ]
    },
    {
     "name": "stdout",
     "output_type": "stream",
     "text": [
      "It's underpredicted.\n",
      "Monthly Error: 89.6 Period MAE: 90.19\n",
      "It's underpredicted.\n",
      "Monthly Error: 35.43 Period MAE: 37.26\n"
     ]
    },
    {
     "name": "stderr",
     "output_type": "stream",
     "text": [
      "22:29:03 - cmdstanpy - INFO - Chain [1] start processing\n",
      "22:29:04 - cmdstanpy - INFO - Chain [1] start processing\n",
      "22:29:04 - cmdstanpy - INFO - Chain [1] done processing\n",
      "22:29:04 - cmdstanpy - INFO - Chain [1] done processing\n"
     ]
    },
    {
     "name": "stdout",
     "output_type": "stream",
     "text": [
      "It's underpredicted.\n",
      "Monthly Error: 89.87 Period MAE: 90.45\n",
      "It's underpredicted.\n",
      "Monthly Error: 38.39 Period MAE: 40.23\n"
     ]
    },
    {
     "name": "stderr",
     "output_type": "stream",
     "text": [
      "22:29:06 - cmdstanpy - INFO - Chain [1] start processing\n"
     ]
    },
    {
     "name": "stdout",
     "output_type": "stream",
     "text": [
      "It's underpredicted.\n",
      "Monthly Error: 71.78 Period MAE: 72.78\n"
     ]
    },
    {
     "name": "stderr",
     "output_type": "stream",
     "text": [
      "22:29:06 - cmdstanpy - INFO - Chain [1] start processing\n",
      "22:29:06 - cmdstanpy - INFO - Chain [1] start processing\n",
      "22:29:07 - cmdstanpy - INFO - Chain [1] done processing\n",
      "22:29:07 - cmdstanpy - INFO - Chain [1] done processing\n",
      "22:29:07 - cmdstanpy - INFO - Chain [1] done processing\n"
     ]
    },
    {
     "name": "stdout",
     "output_type": "stream",
     "text": [
      "It's underpredicted.\n",
      "Monthly Error: 69.88 Period MAE: 70.94\n"
     ]
    },
    {
     "name": "stderr",
     "output_type": "stream",
     "text": [
      "22:29:08 - cmdstanpy - INFO - Chain [1] start processing\n"
     ]
    },
    {
     "name": "stdout",
     "output_type": "stream",
     "text": [
      "It's underpredicted.\n",
      "Monthly Error: 25.8"
     ]
    },
    {
     "name": "stderr",
     "output_type": "stream",
     "text": [
      "22:29:09 - cmdstanpy - INFO - Chain [1] done processing\n"
     ]
    },
    {
     "name": "stdout",
     "output_type": "stream",
     "text": [
      " Period MAE: 27.85\n",
      "It's underpredicted.\n",
      "Monthly Error: 32.59 Period MAE: 34.44\n"
     ]
    },
    {
     "name": "stderr",
     "output_type": "stream",
     "text": [
      "22:29:10 - cmdstanpy - INFO - Chain [1] start processing\n",
      "22:29:10 - cmdstanpy - INFO - Chain [1] start processing\n",
      "22:29:10 - cmdstanpy - INFO - Chain [1] done processing\n"
     ]
    },
    {
     "name": "stdout",
     "output_type": "stream",
     "text": [
      "It's underpredicted.\n",
      "Monthly Error: 71.32 Period MAE:"
     ]
    },
    {
     "name": "stderr",
     "output_type": "stream",
     "text": [
      "22:29:11 - cmdstanpy - INFO - Chain [1] done processing\n"
     ]
    },
    {
     "name": "stdout",
     "output_type": "stream",
     "text": [
      " 72.31\n",
      "It's underpredicted."
     ]
    },
    {
     "name": "stderr",
     "output_type": "stream",
     "text": [
      "22:29:12 - cmdstanpy - INFO - Chain [1] start processing\n"
     ]
    },
    {
     "name": "stdout",
     "output_type": "stream",
     "text": [
      "\n",
      "Monthly Error: 88.88 Period MAE: 89.51\n",
      "It's underpredicted.\n",
      "Monthly Error: 27.12 Period MAE: 29.099999999999998\n"
     ]
    },
    {
     "name": "stderr",
     "output_type": "stream",
     "text": [
      "22:29:13 - cmdstanpy - INFO - Chain [1] start processing\n",
      "22:29:14 - cmdstanpy - INFO - Chain [1] done processing\n",
      "22:29:14 - cmdstanpy - INFO - Chain [1] start processing\n",
      "22:29:14 - cmdstanpy - INFO - Chain [1] done processing\n",
      "22:29:14 - cmdstanpy - INFO - Chain [1] done processing\n"
     ]
    },
    {
     "name": "stdout",
     "output_type": "stream",
     "text": [
      "It's underpredicted.\n",
      "Monthly Error: 88.82 Period MAE: 89.46\n"
     ]
    },
    {
     "name": "stderr",
     "output_type": "stream",
     "text": [
      "22:29:15 - cmdstanpy - INFO - Chain [1] start processing\n",
      "22:29:15 - cmdstanpy - INFO - Chain [1] done processing\n"
     ]
    },
    {
     "name": "stdout",
     "output_type": "stream",
     "text": [
      "It's underpredicted.\n",
      "Monthly Error: 60.14 Period MAE: 61.56\n",
      "It's underpredicted.\n",
      "Monthly Error: 21.07 Period MAE: 23.05\n"
     ]
    },
    {
     "name": "stderr",
     "output_type": "stream",
     "text": [
      "22:29:17 - cmdstanpy - INFO - Chain [1] start processing\n",
      "22:29:17 - cmdstanpy - INFO - Chain [1] start processing\n",
      "22:29:17 - cmdstanpy - INFO - Chain [1] done processing\n",
      "22:29:17 - cmdstanpy - INFO - Chain [1] done processing\n"
     ]
    },
    {
     "name": "stdout",
     "output_type": "stream",
     "text": [
      "It's underpredicted.It's underpredicted.\n",
      "Monthly Error:\n",
      "Monthly Error:  78.01 89.1Period MAE:  78.69\n",
      "Period MAE: 89.74\n",
      "It's underpredicted.\n",
      "Monthly Error: 51.42 Period MAE: 53.05\n"
     ]
    },
    {
     "name": "stderr",
     "output_type": "stream",
     "text": [
      "22:29:19 - cmdstanpy - INFO - Chain [1] start processing\n",
      "22:29:20 - cmdstanpy - INFO - Chain [1] done processing\n",
      "22:29:20 - cmdstanpy - INFO - Chain [1] start processing\n",
      "22:29:20 - cmdstanpy - INFO - Chain [1] start processing\n",
      "22:29:20 - cmdstanpy - INFO - Chain [1] done processing\n",
      "22:29:20 - cmdstanpy - INFO - Chain [1] done processing\n"
     ]
    },
    {
     "name": "stdout",
     "output_type": "stream",
     "text": [
      "It's underpredicted.\n",
      "Monthly Error: 77.56 Period MAE: 78.25\n"
     ]
    },
    {
     "name": "stderr",
     "output_type": "stream",
     "text": [
      "22:29:21 - cmdstanpy - INFO - Chain [1] start processing\n"
     ]
    },
    {
     "name": "stdout",
     "output_type": "stream",
     "text": [
      "It's underpredicted.\n",
      "Monthly Error: 59.49 Period MAE: 60.92999999999999\n"
     ]
    },
    {
     "name": "stderr",
     "output_type": "stream",
     "text": [
      "22:29:22 - cmdstanpy - INFO - Chain [1] done processing\n"
     ]
    },
    {
     "name": "stdout",
     "output_type": "stream",
     "text": [
      "It's underpredicted.\n",
      "Monthly Error: 55.22 Period MAE: 56.769999999999996\n"
     ]
    },
    {
     "name": "stderr",
     "output_type": "stream",
     "text": [
      "22:29:23 - cmdstanpy - INFO - Chain [1] start processing\n",
      "22:29:23 - cmdstanpy - INFO - Chain [1] done processing\n",
      "22:29:24 - cmdstanpy - INFO - Chain [1] start processing\n",
      "22:29:24 - cmdstanpy - INFO - Chain [1] done processing\n"
     ]
    },
    {
     "name": "stdout",
     "output_type": "stream",
     "text": [
      "It's overpredicted.\n",
      "Monthly Error: 22.46 Period MAE: 8.6\n",
      "It's underpredicted.\n",
      "Monthly Error: 76.71 Period MAE: 77.61\n",
      "It's underpredicted.\n",
      "Monthly Error: 50.63 Period MAE: 52.28\n"
     ]
    },
    {
     "name": "stderr",
     "output_type": "stream",
     "text": [
      "22:29:26 - cmdstanpy - INFO - Chain [1] start processing\n",
      "22:29:26 - cmdstanpy - INFO - Chain [1] start processing\n",
      "22:29:26 - cmdstanpy - INFO - Chain [1] done processing\n",
      "22:29:26 - cmdstanpy - INFO - Chain [1] start processing\n",
      "22:29:27 - cmdstanpy - INFO - Chain [1] done processing\n",
      "22:29:27 - cmdstanpy - INFO - Chain [1] done processing\n"
     ]
    },
    {
     "name": "stdout",
     "output_type": "stream",
     "text": [
      "It's overpredicted.\n",
      "Monthly Error: 22.41 Period MAE: 8.27\n"
     ]
    },
    {
     "name": "stderr",
     "output_type": "stream",
     "text": [
      "22:29:27 - cmdstanpy - INFO - Chain [1] start processing\n",
      "22:29:28 - cmdstanpy - INFO - Chain [1] done processing\n"
     ]
    },
    {
     "name": "stdout",
     "output_type": "stream",
     "text": [
      "It's underpredicted.\n",
      "Monthly Error: 57.0 Period MAE: 58.52\n",
      "It's underpredicted.\n",
      "Monthly Error: 41.7 Period MAE: 43.47\n"
     ]
    },
    {
     "name": "stderr",
     "output_type": "stream",
     "text": [
      "22:29:30 - cmdstanpy - INFO - Chain [1] start processing\n",
      "22:29:30 - cmdstanpy - INFO - Chain [1] start processing\n",
      "22:29:30 - cmdstanpy - INFO - Chain [1] done processing\n",
      "22:29:30 - cmdstanpy - INFO - Chain [1] done processing\n"
     ]
    },
    {
     "name": "stdout",
     "output_type": "stream",
     "text": [
      "It's overpredicted.\n",
      "Monthly Error: 22.37 Period MAE: 8.53It's underpredicted.\n",
      "\n",
      "Monthly Error: 78.0 Period MAE: 78.68\n",
      "It's underpredicted.\n",
      "Monthly Error: 52.37 Period MAE: 53.97\n"
     ]
    },
    {
     "name": "stderr",
     "output_type": "stream",
     "text": [
      "22:29:33 - cmdstanpy - INFO - Chain [1] start processing\n",
      "22:29:33 - cmdstanpy - INFO - Chain [1] start processing\n",
      "22:29:34 - cmdstanpy - INFO - Chain [1] done processing\n",
      "22:29:34 - cmdstanpy - INFO - Chain [1] done processing\n",
      "22:29:34 - cmdstanpy - INFO - Chain [1] start processing\n",
      "22:29:35 - cmdstanpy - INFO - Chain [1] done processing\n"
     ]
    },
    {
     "name": "stdout",
     "output_type": "stream",
     "text": [
      "It's underpredicted.\n",
      "Monthly Error:It's underpredicted.\n",
      " Monthly Error:77.7 49.33  Period MAE:Period MAE:  78.3800000000000150.970000000000006\n",
      "\n"
     ]
    },
    {
     "name": "stderr",
     "output_type": "stream",
     "text": [
      "22:29:36 - cmdstanpy - INFO - Chain [1] start processing\n",
      "22:29:36 - cmdstanpy - INFO - Chain [1] done processing\n",
      "22:29:37 - cmdstanpy - INFO - Chain [1] start processing\n",
      "22:29:37 - cmdstanpy - INFO - Chain [1] done processing\n"
     ]
    },
    {
     "name": "stdout",
     "output_type": "stream",
     "text": [
      "It's underpredicted.\n",
      "Monthly Error: 76.66 Period MAE: 77.56\n",
      "It's underpredicted.\n",
      "Monthly Error: 57.89 Period MAE: 59.35\n"
     ]
    },
    {
     "name": "stderr",
     "output_type": "stream",
     "text": [
      "22:29:39 - cmdstanpy - INFO - Chain [1] start processing\n",
      "22:29:39 - cmdstanpy - INFO - Chain [1] done processing\n",
      "22:29:39 - cmdstanpy - INFO - Chain [1] start processing\n"
     ]
    },
    {
     "name": "stdout",
     "output_type": "stream",
     "text": [
      "It's underpredicted.\n",
      "Monthly Error: 41.6 Period MAE: 43.38\n",
      "It's underpredicted.\n",
      "Monthly Error: 76.39 Period MAE: 77.06\n"
     ]
    },
    {
     "name": "stderr",
     "output_type": "stream",
     "text": [
      "22:29:40 - cmdstanpy - INFO - Chain [1] done processing\n",
      "22:29:40 - cmdstanpy - INFO - Chain [1] start processing\n",
      "22:29:41 - cmdstanpy - INFO - Chain [1] done processing\n",
      "22:29:41 - cmdstanpy - INFO - Chain [1] start processing\n",
      "22:29:41 - cmdstanpy - INFO - Chain [1] done processing\n"
     ]
    },
    {
     "name": "stdout",
     "output_type": "stream",
     "text": [
      "It's underpredicted.\n",
      "Monthly Error: 39.72 Period MAE: 41.47\n",
      "It's underpredicted.\n",
      "Monthly Error: 47.31 Period MAE: 49.0\n"
     ]
    },
    {
     "name": "stderr",
     "output_type": "stream",
     "text": [
      "22:29:43 - cmdstanpy - INFO - Chain [1] start processing\n"
     ]
    },
    {
     "name": "stdout",
     "output_type": "stream",
     "text": [
      "It's underpredicted.\n",
      "Monthly Error: 75.86 "
     ]
    },
    {
     "name": "stderr",
     "output_type": "stream",
     "text": [
      "22:29:43 - cmdstanpy - INFO - Chain [1] done processing\n"
     ]
    },
    {
     "name": "stdout",
     "output_type": "stream",
     "text": [
      "Period MAE: 76.53999999999999\n"
     ]
    },
    {
     "name": "stderr",
     "output_type": "stream",
     "text": [
      "22:29:44 - cmdstanpy - INFO - Chain [1] start processing\n",
      "22:29:44 - cmdstanpy - INFO - Chain [1] start processing\n",
      "22:29:44 - cmdstanpy - INFO - Chain [1] done processing\n",
      "22:29:44 - cmdstanpy - INFO - Chain [1] done processing\n"
     ]
    },
    {
     "name": "stdout",
     "output_type": "stream",
     "text": [
      "It's underpredicted.\n",
      "Monthly Error: 74.86 Period MAE: 75.77000000000001\n",
      "It's underpredicted.\n",
      "Monthly Error: 50.52 Period MAE: 52.1\n",
      "It's overpredicted."
     ]
    },
    {
     "name": "stderr",
     "output_type": "stream",
     "text": [
      "22:29:47 - cmdstanpy - INFO - Chain [1] start processing\n"
     ]
    },
    {
     "name": "stdout",
     "output_type": "stream",
     "text": [
      "\n",
      "Monthly Error: 21.51 Period MAE: 10.91\n"
     ]
    },
    {
     "name": "stderr",
     "output_type": "stream",
     "text": [
      "22:29:47 - cmdstanpy - INFO - Chain [1] start processing\n",
      "22:29:47 - cmdstanpy - INFO - Chain [1] done processing\n",
      "22:29:47 - cmdstanpy - INFO - Chain [1] done processing\n",
      "22:29:48 - cmdstanpy - INFO - Chain [1] start processing\n",
      "22:29:48 - cmdstanpy - INFO - Chain [1] done processing\n"
     ]
    },
    {
     "name": "stdout",
     "output_type": "stream",
     "text": [
      "It's underpredicted.\n",
      "Monthly Error: It's overpredicted.48.71 \n",
      "Monthly Error: Period MAE: 21.7350.370000000000005 \n",
      "Period MAE: 11.04\n"
     ]
    },
    {
     "name": "stderr",
     "output_type": "stream",
     "text": [
      "22:29:50 - cmdstanpy - INFO - Chain [1] start processing\n",
      "22:29:50 - cmdstanpy - INFO - Chain [1] done processing\n"
     ]
    },
    {
     "name": "stdout",
     "output_type": "stream",
     "text": [
      "It's underpredicted.\n",
      "Monthly Error: 43.9 Period MAE: 45.61\n"
     ]
    },
    {
     "name": "stderr",
     "output_type": "stream",
     "text": [
      "22:29:50 - cmdstanpy - INFO - Chain [1] start processing\n",
      "22:29:51 - cmdstanpy - INFO - Chain [1] done processing\n",
      "22:29:51 - cmdstanpy - INFO - Chain [1] start processing\n",
      "22:29:51 - cmdstanpy - INFO - Chain [1] done processing\n"
     ]
    },
    {
     "name": "stdout",
     "output_type": "stream",
     "text": [
      "It's underpredicted.\n",
      "Monthly Error: 52.2 Period MAE: 53.75\n",
      "It's overpredicted."
     ]
    },
    {
     "name": "stderr",
     "output_type": "stream",
     "text": [
      "22:29:53 - cmdstanpy - INFO - Chain [1] start processing\n"
     ]
    },
    {
     "name": "stdout",
     "output_type": "stream",
     "text": [
      "\n",
      "Monthly Error:It's underpredicted.\n",
      "Monthly Error: 92.46 Period MAE: 92.94\n",
      "It's underpredicted.\n",
      "Monthly Error: 69.48 Period MAE: 70.87\n",
      "It's underpredicted.\n",
      "Monthly Error: 92.85 Period MAE: 93.25\n"
     ]
    },
    {
     "name": "stderr",
     "output_type": "stream",
     "text": [
      "22:35:36 - cmdstanpy - INFO - Chain [1] start processing\n",
      "22:35:36 - cmdstanpy - INFO - Chain [1] start processing\n",
      "22:35:36 - cmdstanpy - INFO - Chain [1] done processing\n",
      "22:35:36 - cmdstanpy - INFO - Chain [1] start processing\n",
      "22:35:36 - cmdstanpy - INFO - Chain [1] done processing\n",
      "22:35:36 - cmdstanpy - INFO - Chain [1] done processing\n"
     ]
    },
    {
     "name": "stdout",
     "output_type": "stream",
     "text": [
      "It's underpredicted.\n",
      "Monthly Error: 92.87 Period MAE: 93.27\n"
     ]
    },
    {
     "name": "stderr",
     "output_type": "stream",
     "text": [
      "22:35:37 - cmdstanpy - INFO - Chain [1] start processing\n",
      "22:35:38 - cmdstanpy - INFO - Chain [1] done processing\n"
     ]
    },
    {
     "name": "stdout",
     "output_type": "stream",
     "text": [
      "It's underpredicted.\n",
      "Monthly Error: 64.57 Period MAE: 66.02\n",
      "It's underpredicted.\n",
      "Monthly Error: 64.77 Period MAE: 66.3\n"
     ]
    },
    {
     "name": "stderr",
     "output_type": "stream",
     "text": [
      "22:35:39 - cmdstanpy - INFO - Chain [1] start processing\n",
      "22:35:40 - cmdstanpy - INFO - Chain [1] done processing\n",
      "22:35:40 - cmdstanpy - INFO - Chain [1] start processing\n",
      "22:35:40 - cmdstanpy - INFO - Chain [1] done processing\n"
     ]
    },
    {
     "name": "stdout",
     "output_type": "stream",
     "text": [
      "It's underpredicted.\n",
      "Monthly Error: 92.85 Period MAE: 93.25\n",
      "It's underpredicted.\n",
      "Monthly Error: 72.79 Period MAE: 73.72\n",
      "It's underpredicted.\n",
      "Monthly Error: 70.71 Period MAE: 71.99\n"
     ]
    },
    {
     "name": "stderr",
     "output_type": "stream",
     "text": [
      "22:35:42 - cmdstanpy - INFO - Chain [1] start processing\n",
      "22:35:42 - cmdstanpy - INFO - Chain [1] start processing\n",
      "22:35:43 - cmdstanpy - INFO - Chain [1] done processing\n",
      "22:35:43 - cmdstanpy - INFO - Chain [1] done processing\n",
      "22:35:43 - cmdstanpy - INFO - Chain [1] start processing\n",
      "22:35:43 - cmdstanpy - INFO - Chain [1] done processing\n"
     ]
    },
    {
     "name": "stdout",
     "output_type": "stream",
     "text": [
      "It's underpredicted.\n",
      "Monthly Error: 76.18 Period MAE:It's underpredicted.\n",
      "Monthly Error:  76.9463.53 \n",
      "Period MAE: 65.14\n"
     ]
    },
    {
     "name": "stderr",
     "output_type": "stream",
     "text": [
      "22:35:45 - cmdstanpy - INFO - Chain [1] start processing\n",
      "22:35:45 - cmdstanpy - INFO - Chain [1] done processing\n",
      "22:35:46 - cmdstanpy - INFO - Chain [1] start processing\n"
     ]
    },
    {
     "name": "stdout",
     "output_type": "stream",
     "text": [
      "It's underpredicted.\n",
      "Monthly Error: 68.0 Period MAE: 69.39\n"
     ]
    },
    {
     "name": "stderr",
     "output_type": "stream",
     "text": [
      "22:35:46 - cmdstanpy - INFO - Chain [1] done processing\n",
      "22:35:47 - cmdstanpy - INFO - Chain [1] start processing\n"
     ]
    },
    {
     "name": "stdout",
     "output_type": "stream",
     "text": [
      "It's underpredicted.\n"
     ]
    },
    {
     "name": "stderr",
     "output_type": "stream",
     "text": [
      "22:35:48 - cmdstanpy - INFO - Chain [1] done processing\n"
     ]
    },
    {
     "name": "stdout",
     "output_type": "stream",
     "text": [
      "Monthly Error: 74.95 Period MAE: 75.78\n",
      "It's underpredicted.\n",
      "Monthly Error: 65.68 Period MAE: 67.22\n",
      "It's underpredicted.\n",
      "Monthly Error: 92.78 Period MAE: 93.19\n"
     ]
    },
    {
     "name": "stderr",
     "output_type": "stream",
     "text": [
      "22:35:49 - cmdstanpy - INFO - Chain [1] start processing\n",
      "22:35:49 - cmdstanpy - INFO - Chain [1] start processing\n",
      "22:35:49 - cmdstanpy - INFO - Chain [1] done processing\n",
      "22:35:49 - cmdstanpy - INFO - Chain [1] done processing\n",
      "22:35:49 - cmdstanpy - INFO - Chain [1] start processing\n",
      "22:35:50 - cmdstanpy - INFO - Chain [1] done processing\n"
     ]
    },
    {
     "name": "stdout",
     "output_type": "stream",
     "text": [
      "It's underpredicted.\n",
      "Monthly Error: 61.9 Period MAE: 63.28\n"
     ]
    },
    {
     "name": "stderr",
     "output_type": "stream",
     "text": [
      "22:35:51 - cmdstanpy - INFO - Chain [1] start processing\n",
      "22:35:51 - cmdstanpy - INFO - Chain [1] done processing\n"
     ]
    },
    {
     "name": "stdout",
     "output_type": "stream",
     "text": [
      "It's underpredicted.\n",
      "Monthly Error: 92.92 Period MAE: 93.32000000000001\n",
      "It's underpredicted.\n",
      "Monthly Error: 66.89 Period MAE: 68.39\n"
     ]
    },
    {
     "name": "stderr",
     "output_type": "stream",
     "text": [
      "22:35:53 - cmdstanpy - INFO - Chain [1] start processing\n",
      "22:35:53 - cmdstanpy - INFO - Chain [1] done processing\n"
     ]
    },
    {
     "name": "stdout",
     "output_type": "stream",
     "text": [
      "It's underpredicted.\n",
      "Monthly Error:"
     ]
    },
    {
     "name": "stderr",
     "output_type": "stream",
     "text": [
      "22:35:54 - cmdstanpy - INFO - Chain [1] start processing\n"
     ]
    },
    {
     "name": "stdout",
     "output_type": "stream",
     "text": [
      " 88.95 Period MAE: 89.60000000000001\n"
     ]
    },
    {
     "name": "stderr",
     "output_type": "stream",
     "text": [
      "22:35:54 - cmdstanpy - INFO - Chain [1] done processing\n"
     ]
    },
    {
     "name": "stdout",
     "output_type": "stream",
     "text": [
      "It's underpredicted.\n",
      "Monthly Error: 78.29It's underpredicted. \n",
      "Period MAE:Monthly Error:  65.3678.96\n",
      " Period MAE: "
     ]
    },
    {
     "name": "stderr",
     "output_type": "stream",
     "text": [
      "22:35:55 - cmdstanpy - INFO - Chain [1] start processing\n"
     ]
    },
    {
     "name": "stdout",
     "output_type": "stream",
     "text": [
      "66.57\n"
     ]
    },
    {
     "name": "stderr",
     "output_type": "stream",
     "text": [
      "22:35:55 - cmdstanpy - INFO - Chain [1] start processing\n",
      "22:35:56 - cmdstanpy - INFO - Chain [1] done processing\n",
      "22:35:56 - cmdstanpy - INFO - Chain [1] done processing\n",
      "22:35:56 - cmdstanpy - INFO - Chain [1] start processing\n",
      "22:35:57 - cmdstanpy - INFO - Chain [1] done processing\n"
     ]
    },
    {
     "name": "stdout",
     "output_type": "stream",
     "text": [
      "It's underpredicted.\n",
      "Monthly Error: 62.05 Period MAE: 63.43\n",
      "It's underpredicted.\n",
      "Monthly Error: 76.06 Period MAE: 76.71\n",
      "It's underpredicted."
     ]
    },
    {
     "name": "stderr",
     "output_type": "stream",
     "text": [
      "22:35:58 - cmdstanpy - INFO - Chain [1] start processing\n"
     ]
    },
    {
     "name": "stdout",
     "output_type": "stream",
     "text": [
      "\n",
      "Monthly Error: 63.59 Period MAE: 64.91\n"
     ]
    },
    {
     "name": "stderr",
     "output_type": "stream",
     "text": [
      "22:35:58 - cmdstanpy - INFO - Chain [1] done processing\n",
      "22:35:59 - cmdstanpy - INFO - Chain [1] start processing\n",
      "22:35:59 - cmdstanpy - INFO - Chain [1] start processing\n",
      "22:35:59 - cmdstanpy - INFO - Chain [1] done processing\n",
      "22:36:00 - cmdstanpy - INFO - Chain [1] done processing\n"
     ]
    },
    {
     "name": "stdout",
     "output_type": "stream",
     "text": [
      "It's underpredicted.\n",
      "Monthly Error: 67.57 Period MAE: 69.78\n",
      "It's underpredicted.\n",
      "Monthly Error: 65.1 Period MAE: 66.32000000000001\n",
      "It's overpredicted.\n"
     ]
    },
    {
     "name": "stderr",
     "output_type": "stream",
     "text": [
      "22:36:02 - cmdstanpy - INFO - Chain [1] start processing\n"
     ]
    },
    {
     "name": "stdout",
     "output_type": "stream",
     "text": [
      "Monthly Error: 24.83 Period MAE: 12.82\n"
     ]
    },
    {
     "name": "stderr",
     "output_type": "stream",
     "text": [
      "22:36:02 - cmdstanpy - INFO - Chain [1] start processing\n",
      "22:36:03 - cmdstanpy - INFO - Chain [1] done processing\n",
      "22:36:03 - cmdstanpy - INFO - Chain [1] start processing\n",
      "22:36:03 - cmdstanpy - INFO - Chain [1] done processing\n",
      "22:36:04 - cmdstanpy - INFO - Chain [1] done processing\n"
     ]
    },
    {
     "name": "stdout",
     "output_type": "stream",
     "text": [
      "It's overpredicted.\n",
      "It's underpredicted.\n",
      "Monthly Error: Monthly Error: 24.94 63.9Period MAE:  Period MAE:12.770000000000001 \n",
      "65.22\n",
      "It's underpredicted."
     ]
    },
    {
     "name": "stderr",
     "output_type": "stream",
     "text": [
      "22:36:06 - cmdstanpy - INFO - Chain [1] start processing\n"
     ]
    },
    {
     "name": "stdout",
     "output_type": "stream",
     "text": [
      "\n",
      "Monthly Error: 63.93 Period MAE: 65.23\n"
     ]
    },
    {
     "name": "stderr",
     "output_type": "stream",
     "text": [
      "22:36:06 - cmdstanpy - INFO - Chain [1] done processing\n",
      "22:36:07 - cmdstanpy - INFO - Chain [1] start processing\n",
      "22:36:07 - cmdstanpy - INFO - Chain [1] done processing\n",
      "22:36:07 - cmdstanpy - INFO - Chain [1] start processing\n",
      "22:36:07 - cmdstanpy - INFO - Chain [1] done processing\n"
     ]
    },
    {
     "name": "stdout",
     "output_type": "stream",
     "text": [
      "It's overpredicted.\n",
      "Monthly Error: 25.34 Period MAE: 13.889999999999999\n",
      "It's underpredicted.\n",
      "Monthly Error: 66.19 "
     ]
    },
    {
     "name": "stderr",
     "output_type": "stream",
     "text": [
      "22:36:09 - cmdstanpy - INFO - Chain [1] start processing\n"
     ]
    },
    {
     "name": "stdout",
     "output_type": "stream",
     "text": [
      "Period MAE: 67.38\n"
     ]
    },
    {
     "name": "stderr",
     "output_type": "stream",
     "text": [
      "22:36:10 - cmdstanpy - INFO - Chain [1] done processing\n"
     ]
    },
    {
     "name": "stdout",
     "output_type": "stream",
     "text": [
      "It's underpredicted.\n",
      "Monthly Error: 78.28 Period MAE: 78.95\n"
     ]
    },
    {
     "name": "stderr",
     "output_type": "stream",
     "text": [
      "22:36:10 - cmdstanpy - INFO - Chain [1] start processing\n",
      "22:36:10 - cmdstanpy - INFO - Chain [1] start processing\n",
      "22:36:11 - cmdstanpy - INFO - Chain [1] done processing\n",
      "22:36:11 - cmdstanpy - INFO - Chain [1] done processing\n"
     ]
    },
    {
     "name": "stdout",
     "output_type": "stream",
     "text": [
      "It's underpredicted.\n",
      "Monthly Error: 76.26 Period MAE: 76.91\n",
      "It's underpredicted.\n",
      "Monthly Error: 58.48 Period MAE: It's underpredicted.59.91\n",
      "\n",
      "Monthly Error: 65.47 Period MAE: 66.74\n"
     ]
    },
    {
     "name": "stderr",
     "output_type": "stream",
     "text": [
      "22:36:12 - cmdstanpy - INFO - Chain [1] start processing\n",
      "22:36:13 - cmdstanpy - INFO - Chain [1] done processing\n",
      "22:36:13 - cmdstanpy - INFO - Chain [1] start processing\n",
      "22:36:13 - cmdstanpy - INFO - Chain [1] start processing\n",
      "22:36:14 - cmdstanpy - INFO - Chain [1] done processing\n",
      "22:36:14 - cmdstanpy - INFO - Chain [1] done processing\n"
     ]
    },
    {
     "name": "stdout",
     "output_type": "stream",
     "text": [
      "It's underpredicted.\n",
      "Monthly Error: It's underpredicted.\n",
      "61.14It's underpredicted.\n",
      "Monthly Error:  Monthly Error:77.0Period MAE:   67.6462.39Period MAE: \n",
      " Period MAE: 77.73\n",
      "69.84\n"
     ]
    },
    {
     "name": "stderr",
     "output_type": "stream",
     "text": [
      "22:36:16 - cmdstanpy - INFO - Chain [1] start processing\n",
      "22:36:17 - cmdstanpy - INFO - Chain [1] done processing\n",
      "22:36:17 - cmdstanpy - INFO - Chain [1] start processing\n",
      "22:36:17 - cmdstanpy - INFO - Chain [1] start processing\n",
      "22:36:17 - cmdstanpy - INFO - Chain [1] done processing\n"
     ]
    },
    {
     "name": "stdout",
     "output_type": "stream",
     "text": [
      "It's underpredicted.\n",
      "Monthly Error: 75.45 Period MAE: 76.16000000000001\n"
     ]
    },
    {
     "name": "stderr",
     "output_type": "stream",
     "text": [
      "22:36:17 - cmdstanpy - INFO - Chain [1] done processing\n",
      "22:36:18 - cmdstanpy - INFO - Chain [1] start processing\n",
      "22:36:18 - cmdstanpy - INFO - Chain [1] done processing\n"
     ]
    },
    {
     "name": "stdout",
     "output_type": "stream",
     "text": [
      "It's underpredicted.\n",
      "Monthly Error: 58.23 Period MAE: 59.67\n"
     ]
    },
    {
     "name": "stderr",
     "output_type": "stream",
     "text": [
      "22:36:19 - cmdstanpy - INFO - Chain [1] start processing\n",
      "22:36:20 - cmdstanpy - INFO - Chain [1] done processing\n"
     ]
    },
    {
     "name": "stdout",
     "output_type": "stream",
     "text": [
      "It's underpredicted.\n",
      "Monthly Error: 59.25 Period MAE: 60.64000000000001\n"
     ]
    },
    {
     "name": "stderr",
     "output_type": "stream",
     "text": [
      "22:36:22 - cmdstanpy - INFO - Chain [1] start processing\n",
      "22:36:22 - cmdstanpy - INFO - Chain [1] done processing\n"
     ]
    },
    {
     "name": "stdout",
     "output_type": "stream",
     "text": [
      "It's underpredicted.\n",
      "Monthly Error: 60.56 Period MAE: 61.839999999999996\n",
      "It's underpredicted.\n",
      "Monthly Error: 69.8 Period MAE: 71.59\n",
      "It's overpredicted.\n",
      "Monthly Error: 23.08 Period MAE: 13.51\n"
     ]
    },
    {
     "name": "stderr",
     "output_type": "stream",
     "text": [
      "22:36:23 - cmdstanpy - INFO - Chain [1] start processing\n",
      "22:36:23 - cmdstanpy - INFO - Chain [1] start processing\n",
      "22:36:23 - cmdstanpy - INFO - Chain [1] done processing\n",
      "22:36:23 - cmdstanpy - INFO - Chain [1] done processing\n",
      "22:36:24 - cmdstanpy - INFO - Chain [1] start processing\n",
      "22:36:24 - cmdstanpy - INFO - Chain [1] done processing\n"
     ]
    },
    {
     "name": "stdout",
     "output_type": "stream",
     "text": [
      "It's underpredicted.\n",
      "Monthly Error: 58.73 Period MAE: 60.150000000000006\n",
      "It's overpredicted.\n",
      "Monthly Error:"
     ]
    },
    {
     "name": "stderr",
     "output_type": "stream",
     "text": [
      "22:36:26 - cmdstanpy - INFO - Chain [1] start processing\n"
     ]
    },
    {
     "name": "stdout",
     "output_type": "stream",
     "text": [
      " 23.32 Period MAE: 13.48\n"
     ]
    },
    {
     "name": "stderr",
     "output_type": "stream",
     "text": [
      "22:36:26 - cmdstanpy - INFO - Chain [1] done processing\n"
     ]
    },
    {
     "name": "stdout",
     "output_type": "stream",
     "text": [
      "It's underpredicted.\n",
      "Monthly Error: 60.21 Period MAE: 61.57\n"
     ]
    },
    {
     "name": "stderr",
     "output_type": "stream",
     "text": [
      "22:36:27 - cmdstanpy - INFO - Chain [1] start processing\n",
      "22:36:27 - cmdstanpy - INFO - Chain [1] start processing\n",
      "22:36:27 - cmdstanpy - INFO - Chain [1] done processing\n",
      "22:36:28 - cmdstanpy - INFO - Chain [1] done processing\n"
     ]
    },
    {
     "name": "stdout",
     "output_type": "stream",
     "text": [
      "It's overpredicted.\n",
      "Monthly Error: 23.77 Period MAE: 15.32\n",
      "It's underpredicted.\n",
      "Monthly Error: 77.05 Period MAE: 77.77\n",
      "It's underpredicted.\n",
      "Monthly Error: 62.36 Period MAE: 63.55\n"
     ]
    },
    {
     "name": "stderr",
     "output_type": "stream",
     "text": [
      "22:36:30 - cmdstanpy - INFO - Chain [1] start processing\n",
      "22:36:30 - cmdstanpy - INFO - Chain [1] start processing\n",
      "22:36:30 - cmdstanpy - INFO - Chain [1] start processing\n",
      "22:36:30 - cmdstanpy - INFO - Chain [1] done processing\n",
      "22:36:30 - cmdstanpy - INFO - Chain [1] done processing\n",
      "22:36:30 - cmdstanpy - INFO - Chain [1] done processing\n"
     ]
    },
    {
     "name": "stdout",
     "output_type": "stream",
     "text": [
      "It's underpredicted.\n",
      "Monthly Error: 75.41 Period MAE: 76.13\n"
     ]
    },
    {
     "name": "stderr",
     "output_type": "stream",
     "text": [
      "22:36:31 - cmdstanpy - INFO - Chain [1] start processing\n"
     ]
    },
    {
     "name": "stdout",
     "output_type": "stream",
     "text": [
      "It's underpredicted."
     ]
    },
    {
     "name": "stderr",
     "output_type": "stream",
     "text": [
      "22:36:32 - cmdstanpy - INFO - Chain [1] done processing\n"
     ]
    },
    {
     "name": "stdout",
     "output_type": "stream",
     "text": [
      "\n",
      "Monthly Error: 72.81 Period MAE: 73.92\n"
     ]
    },
    {
     "name": "stderr",
     "output_type": "stream",
     "text": [
      "22:36:33 - cmdstanpy - INFO - Chain [1] start processing\n"
     ]
    },
    {
     "name": "stdout",
     "output_type": "stream",
     "text": [
      "It's underpredicted.\n",
      "Monthly Error: 60.15 Period MAE: 61.519999999999996\n"
     ]
    },
    {
     "name": "stderr",
     "output_type": "stream",
     "text": [
      "22:36:33 - cmdstanpy - INFO - Chain [1] done processing\n"
     ]
    },
    {
     "name": "stdout",
     "output_type": "stream",
     "text": [
      "It's underpredicted."
     ]
    },
    {
     "name": "stderr",
     "output_type": "stream",
     "text": [
      "22:36:34 - cmdstanpy - INFO - Chain [1] start processing\n"
     ]
    },
    {
     "name": "stdout",
     "output_type": "stream",
     "text": [
      "\n",
      "Monthly Error: 69.29 Period MAE: 71.12\n"
     ]
    },
    {
     "name": "stderr",
     "output_type": "stream",
     "text": [
      "22:36:34 - cmdstanpy - INFO - Chain [1] done processing\n"
     ]
    },
    {
     "name": "stdout",
     "output_type": "stream",
     "text": [
      "It's underpredicted.\n",
      "Monthly Error: 92.41 Period MAE: 92.89\n",
      "It's underpredicted.\n",
      "Monthly Error: 76.52 Period MAE: 77.3\n"
     ]
    },
    {
     "name": "stderr",
     "output_type": "stream",
     "text": [
      "22:36:36 - cmdstanpy - INFO - Chain [1] start processing\n",
      "22:36:36 - cmdstanpy - INFO - Chain [1] start processing\n",
      "22:36:36 - cmdstanpy - INFO - Chain [1] done processing\n",
      "22:36:36 - cmdstanpy - INFO - Chain [1] done processing\n",
      "22:36:36 - cmdstanpy - INFO - Chain [1] start processing\n",
      "22:36:37 - cmdstanpy - INFO - Chain [1] done processing\n"
     ]
    },
    {
     "name": "stdout",
     "output_type": "stream",
     "text": [
      "It's underpredicted.\n",
      "Monthly Error: 71.85 Period MAE: 73.11999999999999\n",
      "It's underpredicted.\n",
      "Monthly Error: 92.39 Period MAE: "
     ]
    },
    {
     "name": "stderr",
     "output_type": "stream",
     "text": [
      "22:36:38 - cmdstanpy - INFO - Chain [1] start processing\n"
     ]
    },
    {
     "name": "stdout",
     "output_type": "stream",
     "text": [
      "92.88\n"
     ]
    },
    {
     "name": "stderr",
     "output_type": "stream",
     "text": [
      "22:36:38 - cmdstanpy - INFO - Chain [1] done processing\n"
     ]
    },
    {
     "name": "stdout",
     "output_type": "stream",
     "text": [
      "It's underpredicted.\n",
      "Monthly Error: 75.95 Period MAE: 76.81\n"
     ]
    },
    {
     "name": "stderr",
     "output_type": "stream",
     "text": [
      "22:36:39 - cmdstanpy - INFO - Chain [1] start processing\n",
      "22:36:40 - cmdstanpy - INFO - Chain [1] done processing\n",
      "22:36:40 - cmdstanpy - INFO - Chain [1] start processing\n",
      "22:36:40 - cmdstanpy - INFO - Chain [1] done processing\n"
     ]
    },
    {
     "name": "stdout",
     "output_type": "stream",
     "text": [
      "It's underpredicted.\n",
      "Monthly Error: 92.57 Period MAE: 93.05\n",
      "It's underpredicted.\n",
      "Monthly Error: 74.07 Period MAE: 75.07000000000001\n",
      "It's underpredicted.\n",
      "Monthly Error: 76.31 Period MAE: 77.31\n"
     ]
    },
    {
     "name": "stderr",
     "output_type": "stream",
     "text": [
      "22:36:42 - cmdstanpy - INFO - Chain [1] start processing\n",
      "22:36:43 - cmdstanpy - INFO - Chain [1] start processing\n",
      "22:36:43 - cmdstanpy - INFO - Chain [1] done processing\n",
      "22:36:43 - cmdstanpy - INFO - Chain [1] done processing\n",
      "22:36:43 - cmdstanpy - INFO - Chain [1] start processing\n"
     ]
    },
    {
     "name": "stdout",
     "output_type": "stream",
     "text": [
      "It's underpredicted.\n",
      "Monthly Error: 76.31 Period MAE: 77.31\n"
     ]
    },
    {
     "name": "stderr",
     "output_type": "stream",
     "text": [
      "22:36:44 - cmdstanpy - INFO - Chain [1] done processing\n",
      "22:36:44 - cmdstanpy - INFO - Chain [1] start processing\n",
      "22:36:44 - cmdstanpy - INFO - Chain [1] done processing\n"
     ]
    },
    {
     "name": "stdout",
     "output_type": "stream",
     "text": [
      "It's underpredicted.\n",
      "Monthly Error: 72.11 Period MAE: 73.27\n",
      "It's underpredicted.\n",
      "Monthly Error: 76.27 Period MAE: 77.08\n"
     ]
    },
    {
     "name": "stderr",
     "output_type": "stream",
     "text": [
      "22:36:46 - cmdstanpy - INFO - Chain [1] start processing\n",
      "22:36:47 - cmdstanpy - INFO - Chain [1] start processing\n",
      "22:36:47 - cmdstanpy - INFO - Chain [1] done processing\n",
      "22:36:47 - cmdstanpy - INFO - Chain [1] done processing\n"
     ]
    },
    {
     "name": "stdout",
     "output_type": "stream",
     "text": [
      "It's underpredicted.\n",
      "Monthly Error: 76.24 Period MAE: 77.25\n",
      "It's underpredicted.\n",
      "Monthly Error: 92.48 Period MAE: 92.96\n",
      "It's underpredicted.\n",
      " Monthly Error:76.0 Period MAE: 76.82\n"
     ]
    },
    {
     "name": "stderr",
     "output_type": "stream",
     "text": [
      "22:36:49 - cmdstanpy - INFO - Chain [1] start processing\n",
      "22:36:49 - cmdstanpy - INFO - Chain [1] start processing\n",
      "22:36:50 - cmdstanpy - INFO - Chain [1] start processing\n",
      "22:36:50 - cmdstanpy - INFO - Chain [1] done processing\n",
      "22:36:50 - cmdstanpy - INFO - Chain [1] done processing\n",
      "22:36:50 - cmdstanpy - INFO - Chain [1] done processing\n"
     ]
    },
    {
     "name": "stdout",
     "output_type": "stream",
     "text": [
      "It's underpredicted.\n",
      "Monthly Error:It's underpredicted.\n",
      "Monthly Error: 92.5  Period MAE: 64.1692.97 \n",
      "Period MAE: 65.75999999999999\n"
     ]
    },
    {
     "name": "stderr",
     "output_type": "stream",
     "text": [
      "22:36:51 - cmdstanpy - INFO - Chain [1] start processing\n",
      "22:36:51 - cmdstanpy - INFO - Chain [1] done processing\n",
      "22:36:52 - cmdstanpy - INFO - Chain [1] start processing\n"
     ]
    },
    {
     "name": "stdout",
     "output_type": "stream",
     "text": [
      "It's underpredicted.\n",
      "Monthly Error: 74.33 Period MAE: 75.32\n"
     ]
    },
    {
     "name": "stderr",
     "output_type": "stream",
     "text": [
      "22:36:52 - cmdstanpy - INFO - Chain [1] done processing\n",
      "22:36:53 - cmdstanpy - INFO - Chain [1] start processing\n",
      "22:36:53 - cmdstanpy - INFO - Chain [1] done processing\n"
     ]
    },
    {
     "name": "stdout",
     "output_type": "stream",
     "text": [
      "It's underpredicted.\n",
      "Monthly Error: It's underpredicted.65.62\n",
      " Monthly Error:Period MAE:  67.1792.51 \n",
      "Period MAE: 92.99\n",
      "It's underpredicted.\n",
      "Monthly Error: 92.81 Period MAE: "
     ]
    },
    {
     "name": "stderr",
     "output_type": "stream",
     "text": [
      "22:36:55 - cmdstanpy - INFO - Chain [1] start processing\n"
     ]
    },
    {
     "name": "stdout",
     "output_type": "stream",
     "text": [
      "93.22\n"
     ]
    },
    {
     "name": "stderr",
     "output_type": "stream",
     "text": [
      "22:36:56 - cmdstanpy - INFO - Chain [1] start processing\n",
      "22:36:56 - cmdstanpy - INFO - Chain [1] start processing\n",
      "22:36:56 - cmdstanpy - INFO - Chain [1] done processing\n",
      "22:36:56 - cmdstanpy - INFO - Chain [1] done processing\n",
      "22:36:56 - cmdstanpy - INFO - Chain [1] done processing\n"
     ]
    },
    {
     "name": "stdout",
     "output_type": "stream",
     "text": [
      "It's underpredicted.\n",
      "Monthly Error: 92.82 Period MAE: 93.22\n"
     ]
    },
    {
     "name": "stderr",
     "output_type": "stream",
     "text": [
      "22:36:57 - cmdstanpy - INFO - Chain [1] start processing\n",
      "22:36:58 - cmdstanpy - INFO - Chain [1] done processing\n"
     ]
    },
    {
     "name": "stdout",
     "output_type": "stream",
     "text": [
      "It's underpredicted.\n",
      "Monthly Error: 64.79 Period MAE: 66.24\n",
      "It's underpredicted.\n",
      "Monthly Error: 64.86 Period MAE: 66.41\n"
     ]
    },
    {
     "name": "stderr",
     "output_type": "stream",
     "text": [
      "22:36:59 - cmdstanpy - INFO - Chain [1] start processing\n",
      "22:36:59 - cmdstanpy - INFO - Chain [1] done processing\n",
      "22:37:00 - cmdstanpy - INFO - Chain [1] start processing\n",
      "22:37:00 - cmdstanpy - INFO - Chain [1] done processing\n"
     ]
    },
    {
     "name": "stdout",
     "output_type": "stream",
     "text": [
      "It's underpredicted.\n",
      "Monthly Error: 93.02 Period MAE: 93.4\n",
      "It's underpredicted.\n",
      "Monthly Error: 71.3 Period MAE: 72.56\n",
      "It's underpredicted.\n",
      "Monthly Error: 76.62 Period MAE: 77.36\n"
     ]
    },
    {
     "name": "stderr",
     "output_type": "stream",
     "text": [
      "22:37:02 - cmdstanpy - INFO - Chain [1] start processing\n",
      "22:37:02 - cmdstanpy - INFO - Chain [1] start processing\n",
      "22:37:02 - cmdstanpy - INFO - Chain [1] done processing\n",
      "22:37:03 - cmdstanpy - INFO - Chain [1] start processing\n",
      "22:37:03 - cmdstanpy - INFO - Chain [1] done processing\n",
      "22:37:03 - cmdstanpy - INFO - Chain [1] done processing\n"
     ]
    },
    {
     "name": "stdout",
     "output_type": "stream",
     "text": [
      "It's underpredicted.\n",
      "Monthly Error: 64.52 Period MAE: 66.10000000000001\n"
     ]
    },
    {
     "name": "stderr",
     "output_type": "stream",
     "text": [
      "22:37:05 - cmdstanpy - INFO - Chain [1] start processing\n",
      "22:37:05 - cmdstanpy - INFO - Chain [1] done processing\n"
     ]
    },
    {
     "name": "stdout",
     "output_type": "stream",
     "text": [
      "It's underpredicted.\n",
      "Monthly Error: 76.74 Period MAE: 77.47\n",
      "It's underpredicted.\n",
      "Monthly Error: 65.91 Period MAE: 67.38\n"
     ]
    },
    {
     "name": "stderr",
     "output_type": "stream",
     "text": [
      "22:37:07 - cmdstanpy - INFO - Chain [1] start processing\n",
      "22:37:07 - cmdstanpy - INFO - Chain [1] start processing\n",
      "22:37:08 - cmdstanpy - INFO - Chain [1] done processing\n",
      "22:37:08 - cmdstanpy - INFO - Chain [1] done processing\n"
     ]
    },
    {
     "name": "stdout",
     "output_type": "stream",
     "text": [
      "It's underpredicted.\n",
      "Monthly Error: 73.57 Period MAE: 74.47\n",
      "It's underpredicted.\n",
      "Monthly Error: 89.84 Period MAE: 90.4\n",
      "It's underpredicted.\n",
      "Monthly Error: 66.87 Period MAE: 68.38"
     ]
    },
    {
     "name": "stderr",
     "output_type": "stream",
     "text": [
      "22:37:10 - cmdstanpy - INFO - Chain [1] start processing\n"
     ]
    },
    {
     "name": "stdout",
     "output_type": "stream",
     "text": [
      "\n"
     ]
    },
    {
     "name": "stderr",
     "output_type": "stream",
     "text": [
      "22:37:10 - cmdstanpy - INFO - Chain [1] start processing\n",
      "22:37:10 - cmdstanpy - INFO - Chain [1] start processing\n",
      "22:37:11 - cmdstanpy - INFO - Chain [1] done processing\n"
     ]
    },
    {
     "name": "stdout",
     "output_type": "stream",
     "text": [
      "It's underpredicted.\n",
      "Monthly Error: 92.94 Period MAE: 93.33"
     ]
    },
    {
     "name": "stderr",
     "output_type": "stream",
     "text": [
      "22:37:11 - cmdstanpy - INFO - Chain [1] done processing\n"
     ]
    },
    {
     "name": "stdout",
     "output_type": "stream",
     "text": [
      "\n"
     ]
    },
    {
     "name": "stderr",
     "output_type": "stream",
     "text": [
      "22:37:11 - cmdstanpy - INFO - Chain [1] start processing\n",
      "22:37:11 - cmdstanpy - INFO - Chain [1] done processing\n",
      "22:37:12 - cmdstanpy - INFO - Chain [1] done processing\n"
     ]
    },
    {
     "name": "stdout",
     "output_type": "stream",
     "text": [
      "It's underpredicted.\n",
      "Monthly Error: 62.03 Period MAE: 63.41\n"
     ]
    },
    {
     "name": "stderr",
     "output_type": "stream",
     "text": [
      "22:37:13 - cmdstanpy - INFO - Chain [1] start processing\n",
      "22:37:13 - cmdstanpy - INFO - Chain [1] done processing\n"
     ]
    },
    {
     "name": "stdout",
     "output_type": "stream",
     "text": [
      "It's underpredicted.\n",
      "Monthly Error: 68.64 Period MAE: 70.09\n"
     ]
    },
    {
     "name": "stderr",
     "output_type": "stream",
     "text": [
      "22:37:14 - cmdstanpy - INFO - Chain [1] start processing\n"
     ]
    },
    {
     "name": "stdout",
     "output_type": "stream",
     "text": [
      "It's underpredicted.\n",
      "Monthly Error: 62.89 Period MAE: 64.2\n"
     ]
    },
    {
     "name": "stderr",
     "output_type": "stream",
     "text": [
      "22:37:15 - cmdstanpy - INFO - Chain [1] done processing\n"
     ]
    },
    {
     "name": "stdout",
     "output_type": "stream",
     "text": [
      "It's underpredicted.\n",
      "Monthly Error: 78.19 Period MAE: 78.86\n"
     ]
    },
    {
     "name": "stderr",
     "output_type": "stream",
     "text": [
      "22:37:16 - cmdstanpy - INFO - Chain [1] start processing\n",
      "22:37:16 - cmdstanpy - INFO - Chain [1] done processing\n"
     ]
    },
    {
     "name": "stdout",
     "output_type": "stream",
     "text": [
      "It's underpredicted.\n",
      "Monthly Error: 89.3 Period MAE: "
     ]
    },
    {
     "name": "stderr",
     "output_type": "stream",
     "text": [
      "22:37:17 - cmdstanpy - INFO - Chain [1] start processing\n"
     ]
    },
    {
     "name": "stdout",
     "output_type": "stream",
     "text": [
      "89.92\n"
     ]
    },
    {
     "name": "stderr",
     "output_type": "stream",
     "text": [
      "22:37:17 - cmdstanpy - INFO - Chain [1] done processing\n",
      "22:37:17 - cmdstanpy - INFO - Chain [1] start processing\n",
      "22:37:17 - cmdstanpy - INFO - Chain [1] done processing\n"
     ]
    },
    {
     "name": "stdout",
     "output_type": "stream",
     "text": [
      "It's underpredicted.\n",
      "Monthly Error: 62.26 Period MAE: 63.629999999999995\n",
      "It's underpredicted.\n",
      "It's underpredicted.Monthly Error:\n",
      " Monthly Error: 77.8161.45 "
     ]
    },
    {
     "name": "stderr",
     "output_type": "stream",
     "text": [
      "22:37:19 - cmdstanpy - INFO - Chain [1] start processing\n"
     ]
    },
    {
     "name": "stdout",
     "output_type": "stream",
     "text": [
      " Period MAE: 78.48\n",
      "Period MAE: 62.849999999999994\n"
     ]
    },
    {
     "name": "stderr",
     "output_type": "stream",
     "text": [
      "22:37:19 - cmdstanpy - INFO - Chain [1] done processing\n",
      "22:37:20 - cmdstanpy - INFO - Chain [1] start processing\n",
      "22:37:20 - cmdstanpy - INFO - Chain [1] start processing\n",
      "22:37:20 - cmdstanpy - INFO - Chain [1] done processing\n",
      "22:37:20 - cmdstanpy - INFO - Chain [1] done processing\n"
     ]
    },
    {
     "name": "stdout",
     "output_type": "stream",
     "text": [
      "It's underpredicted.\n",
      "Monthly Error: 76.64 Period MAE: 77.53\n",
      "It's underpredicted.\n",
      "Monthly Error: 63.84"
     ]
    },
    {
     "name": "stderr",
     "output_type": "stream",
     "text": [
      "22:37:22 - cmdstanpy - INFO - Chain [1] start processing\n"
     ]
    },
    {
     "name": "stdout",
     "output_type": "stream",
     "text": [
      " Period MAE: 65.13\n",
      "It's overpredicted.\n",
      "Monthly Error: 22.23 Period MAE: 8.16\n"
     ]
    },
    {
     "name": "stderr",
     "output_type": "stream",
     "text": [
      "22:37:23 - cmdstanpy - INFO - Chain [1] start processing\n",
      "22:37:23 - cmdstanpy - INFO - Chain [1] done processing\n",
      "22:37:23 - cmdstanpy - INFO - Chain [1] done processing\n",
      "22:37:24 - cmdstanpy - INFO - Chain [1] start processing\n",
      "22:37:24 - cmdstanpy - INFO - Chain [1] done processing\n"
     ]
    },
    {
     "name": "stdout",
     "output_type": "stream",
     "text": [
      "It's overpredicted.\n",
      "Monthly Error: 22.34 Period MAE: 8.24\n"
     ]
    },
    {
     "name": "stderr",
     "output_type": "stream",
     "text": [
      "22:37:25 - cmdstanpy - INFO - Chain [1] start processing\n",
      "22:37:25 - cmdstanpy - INFO - Chain [1] done processing\n"
     ]
    },
    {
     "name": "stdout",
     "output_type": "stream",
     "text": [
      "It's underpredicted.\n",
      "Monthly Error: 61.76 Period MAE: 63.14999999999999\n",
      "It's underpredicted.\n",
      "Monthly Error: 62.32 Period MAE: 63.68000000000001\n"
     ]
    },
    {
     "name": "stderr",
     "output_type": "stream",
     "text": [
      "22:37:26 - cmdstanpy - INFO - Chain [1] start processing\n",
      "22:37:27 - cmdstanpy - INFO - Chain [1] done processing\n",
      "22:37:27 - cmdstanpy - INFO - Chain [1] start processing\n",
      "22:37:27 - cmdstanpy - INFO - Chain [1] done processing\n"
     ]
    },
    {
     "name": "stdout",
     "output_type": "stream",
     "text": [
      "It's overpredicted.\n",
      "Monthly Error: It's underpredicted.22.33\n",
      "Monthly Error:  Period MAE:63.43  8.33\n",
      "Period MAE: 64.73\n",
      "It's underpredicted.\n",
      "Monthly Error: 78.15Period MAE:  78.82000000000001\n"
     ]
    },
    {
     "name": "stderr",
     "output_type": "stream",
     "text": [
      "22:37:29 - cmdstanpy - INFO - Chain [1] start processing\n",
      "22:37:30 - cmdstanpy - INFO - Chain [1] done processing\n",
      "22:37:30 - cmdstanpy - INFO - Chain [1] start processing\n",
      "22:37:30 - cmdstanpy - INFO - Chain [1] start processing\n",
      "22:37:30 - cmdstanpy - INFO - Chain [1] done processing\n",
      "22:37:30 - cmdstanpy - INFO - Chain [1] done processing\n"
     ]
    },
    {
     "name": "stdout",
     "output_type": "stream",
     "text": [
      "It's underpredicted.\n",
      "Monthly Error: It's underpredicted.\n",
      "58.43Monthly Error:  77.86 Period MAE: Period MAE: 59.87000000000000578.53999999999999\n",
      "\n"
     ]
    },
    {
     "name": "stderr",
     "output_type": "stream",
     "text": [
      "22:37:32 - cmdstanpy - INFO - Chain [1] start processing\n",
      "22:37:32 - cmdstanpy - INFO - Chain [1] done processing\n",
      "22:37:33 - cmdstanpy - INFO - Chain [1] start processing\n",
      "22:37:33 - cmdstanpy - INFO - Chain [1] done processing\n"
     ]
    },
    {
     "name": "stdout",
     "output_type": "stream",
     "text": [
      "It's underpredicted.\n",
      "Monthly Error: 63.36 Period MAE: 64.69\n"
     ]
    },
    {
     "name": "stderr",
     "output_type": "stream",
     "text": [
      "22:37:35 - cmdstanpy - INFO - Chain [1] start processing\n",
      "22:37:35 - cmdstanpy - INFO - Chain [1] done processing\n"
     ]
    },
    {
     "name": "stdout",
     "output_type": "stream",
     "text": [
      "It's underpredicted.\n",
      "Monthly Error: 59.73 Period MAE: 61.08\n",
      "It's underpredicted.\n",
      "Monthly Error: 76.6 Period MAE: 77.5\n",
      "It's underpredicted.\n",
      "Monthly Error: 76.25 Period MAE: 76.92999999999999\n"
     ]
    },
    {
     "name": "stderr",
     "output_type": "stream",
     "text": [
      "22:37:37 - cmdstanpy - INFO - Chain [1] start processing\n",
      "22:37:38 - cmdstanpy - INFO - Chain [1] start processing\n",
      "22:37:38 - cmdstanpy - INFO - Chain [1] done processing\n",
      "22:37:38 - cmdstanpy - INFO - Chain [1] start processing\n",
      "22:37:38 - cmdstanpy - INFO - Chain [1] done processing\n",
      "22:37:39 - cmdstanpy - INFO - Chain [1] done processing\n"
     ]
    },
    {
     "name": "stdout",
     "output_type": "stream",
     "text": [
      "It's underpredicted.\n",
      "Monthly Error: 58.17It's underpredicted. Period MAE:\n",
      " Monthly Error:59.62 75.82\n",
      " Period MAE: 76.5\n"
     ]
    },
    {
     "name": "stderr",
     "output_type": "stream",
     "text": [
      "22:37:41 - cmdstanpy - INFO - Chain [1] start processing\n",
      "22:37:41 - cmdstanpy - INFO - Chain [1] done processing\n"
     ]
    },
    {
     "name": "stdout",
     "output_type": "stream",
     "text": [
      "It's underpredicted.\n",
      "Monthly Error: 58.72 Period MAE: 60.14000000000001\n"
     ]
    },
    {
     "name": "stderr",
     "output_type": "stream",
     "text": [
      "22:37:42 - cmdstanpy - INFO - Chain [1] start processing\n",
      "22:37:42 - cmdstanpy - INFO - Chain [1] done processing\n",
      "22:37:43 - cmdstanpy - INFO - Chain [1] start processing\n",
      "22:37:43 - cmdstanpy - INFO - Chain [1] done processing\n"
     ]
    },
    {
     "name": "stdout",
     "output_type": "stream",
     "text": [
      "It's underpredicted.\n",
      "Monthly Error: 74.94 Period MAE: 75.84\n",
      "It's underpredicted.\n",
      "Monthly Error: 59.76 Period MAE: 61.1\n",
      "It's overpredicted.\n",
      "Monthly Error: 21.51 Period MAE: 10.97\n"
     ]
    },
    {
     "name": "stderr",
     "output_type": "stream",
     "text": [
      "22:37:45 - cmdstanpy - INFO - Chain [1] start processing\n",
      "22:37:45 - cmdstanpy - INFO - Chain [1] start processing\n",
      "22:37:45 - cmdstanpy - INFO - Chain [1] start processing\n",
      "22:37:45 - cmdstanpy - INFO - Chain [1] done processing\n",
      "22:37:45 - cmdstanpy - INFO - Chain [1] done processing\n",
      "22:37:46 - cmdstanpy - INFO - Chain [1] done processing\n"
     ]
    },
    {
     "name": "stdout",
     "output_type": "stream",
     "text": [
      "It's overpredicted.\n",
      "Monthly Error: 21.44 Period MAE: 10.549999999999999\n"
     ]
    },
    {
     "name": "stderr",
     "output_type": "stream",
     "text": [
      "22:37:46 - cmdstanpy - INFO - Chain [1] start processing\n"
     ]
    },
    {
     "name": "stdout",
     "output_type": "stream",
     "text": [
      "It's underpredicted.\n",
      "Monthly Error: 58.44 Period MAE: 59.88\n"
     ]
    },
    {
     "name": "stderr",
     "output_type": "stream",
     "text": [
      "22:37:47 - cmdstanpy - INFO - Chain [1] done processing\n"
     ]
    },
    {
     "name": "stdout",
     "output_type": "stream",
     "text": [
      "It's underpredicted.\n",
      "Monthly Error: 58.39"
     ]
    },
    {
     "name": "stderr",
     "output_type": "stream",
     "text": [
      "22:37:48 - cmdstanpy - INFO - Chain [1] start processing\n"
     ]
    },
    {
     "name": "stdout",
     "output_type": "stream",
     "text": [
      " Period MAE: 59.81999999999999\n"
     ]
    },
    {
     "name": "stderr",
     "output_type": "stream",
     "text": [
      "22:37:48 - cmdstanpy - INFO - Chain [1] done processing\n",
      "22:37:49 - cmdstanpy - INFO - Chain [1] start processing\n",
      "22:37:49 - cmdstanpy - INFO - Chain [1] done processing\n"
     ]
    },
    {
     "name": "stdout",
     "output_type": "stream",
     "text": [
      "It's overpredicted.\n",
      "Monthly Error: 21.81 Period MAE: 11.75\n",
      "It's underpredicted.\n",
      "Monthly Error: 60.35 Period MAE: 61.67\n",
      "It's underpredicted.\n",
      "Monthly Error: 76.23 Period MAE: 76.91\n"
     ]
    },
    {
     "name": "stderr",
     "output_type": "stream",
     "text": [
      "22:37:51 - cmdstanpy - INFO - Chain [1] start processing\n",
      "22:37:51 - cmdstanpy - INFO - Chain [1] start processing\n",
      "22:37:51 - cmdstanpy - INFO - Chain [1] done processing\n",
      "22:37:52 - cmdstanpy - INFO - Chain [1] start processing\n",
      "22:37:52 - cmdstanpy - INFO - Chain [1] done processing\n",
      "22:37:52 - cmdstanpy - INFO - Chain [1] done processing\n"
     ]
    },
    {
     "name": "stdout",
     "output_type": "stream",
     "text": [
      "It's underpredicted."
     ]
    },
    {
     "name": "stderr",
     "output_type": "stream",
     "text": [
      "22:40:11 - cmdstanpy - INFO - Chain [1] start processing\n",
      "22:40:11 - cmdstanpy - INFO - Chain [1] done processing\n",
      "22:40:11 - cmdstanpy - INFO - Chain [1] done processing\n",
      "22:40:12 - cmdstanpy - INFO - Chain [1] start processing\n",
      "22:40:12 - cmdstanpy - INFO - Chain [1] done processing\n"
     ]
    },
    {
     "name": "stdout",
     "output_type": "stream",
     "text": [
      "It's underpredicted.\n",
      "Monthly Error: 58.53 Period MAE: 59.96\n",
      "It's underpredicted.\n",
      "Monthly Error:"
     ]
    },
    {
     "name": "stderr",
     "output_type": "stream",
     "text": [
      "22:40:13 - cmdstanpy - INFO - Chain [1] start processing\n"
     ]
    },
    {
     "name": "stdout",
     "output_type": "stream",
     "text": [
      " 76.1 Period MAE: 76.74\n"
     ]
    },
    {
     "name": "stderr",
     "output_type": "stream",
     "text": [
      "22:40:13 - cmdstanpy - INFO - Chain [1] done processing\n",
      "22:40:14 - cmdstanpy - INFO - Chain [1] start processing\n"
     ]
    },
    {
     "name": "stdout",
     "output_type": "stream",
     "text": [
      "It's underpredicted.\n",
      "Monthly Error: 67.6 Period MAE: 68.8\n"
     ]
    },
    {
     "name": "stderr",
     "output_type": "stream",
     "text": [
      "22:40:14 - cmdstanpy - INFO - Chain [1] done processing\n",
      "22:40:15 - cmdstanpy - INFO - Chain [1] start processing\n",
      "22:40:15 - cmdstanpy - INFO - Chain [1] done processing\n"
     ]
    },
    {
     "name": "stdout",
     "output_type": "stream",
     "text": [
      "It's underpredicted.\n",
      "Monthly Error:It's underpredicted. 60.61\n",
      " Period MAE: 61.89Monthly Error:\n",
      " 76.93 Period MAE: 77.66\n",
      "It's underpredicted.\n",
      "Monthly Error: 68.18 Period MAE: 70.30999999999999\n"
     ]
    },
    {
     "name": "stderr",
     "output_type": "stream",
     "text": [
      "22:40:17 - cmdstanpy - INFO - Chain [1] start processing\n",
      "22:40:17 - cmdstanpy - INFO - Chain [1] start processing\n",
      "22:40:17 - cmdstanpy - INFO - Chain [1] start processing\n",
      "22:40:17 - cmdstanpy - INFO - Chain [1] done processing\n",
      "22:40:17 - cmdstanpy - INFO - Chain [1] done processing\n",
      "22:40:18 - cmdstanpy - INFO - Chain [1] done processing\n"
     ]
    },
    {
     "name": "stdout",
     "output_type": "stream",
     "text": [
      "It's underpredicted.\n",
      "Monthly Error: 58.38 Period MAE: 59.81999999999999It's underpredicted.\n",
      "\n",
      "Monthly Error: 75.51 Period MAE: 76.22\n"
     ]
    },
    {
     "name": "stderr",
     "output_type": "stream",
     "text": [
      "22:40:19 - cmdstanpy - INFO - Chain [1] start processing\n",
      "22:40:19 - cmdstanpy - INFO - Chain [1] done processing\n"
     ]
    },
    {
     "name": "stdout",
     "output_type": "stream",
     "text": [
      "It's underpredicted.\n",
      "Monthly Error: 59.22 Period MAE: 60.61\n"
     ]
    },
    {
     "name": "stderr",
     "output_type": "stream",
     "text": [
      "22:40:20 - cmdstanpy - INFO - Chain [1] start processing\n",
      "22:40:21 - cmdstanpy - INFO - Chain [1] done processing\n",
      "22:40:21 - cmdstanpy - INFO - Chain [1] start processing\n",
      "22:40:21 - cmdstanpy - INFO - Chain [1] done processing\n"
     ]
    },
    {
     "name": "stdout",
     "output_type": "stream",
     "text": [
      "It's underpredicted.\n",
      "Monthly Error: 69.78 Period MAE: 71.54\n",
      "It's underpredicted.\n",
      "Monthly Error: 61.65 Period MAE: 62.88\n"
     ]
    },
    {
     "name": "stderr",
     "output_type": "stream",
     "text": [
      "22:40:23 - cmdstanpy - INFO - Chain [1] start processing\n"
     ]
    },
    {
     "name": "stdout",
     "output_type": "stream",
     "text": [
      "It's overpredicted.\n",
      "Monthly Error: 23.0 Period MAE: 13.370000000000001\n"
     ]
    },
    {
     "name": "stderr",
     "output_type": "stream",
     "text": [
      "22:40:23 - cmdstanpy - INFO - Chain [1] done processing\n",
      "22:40:23 - cmdstanpy - INFO - Chain [1] start processing\n",
      "22:40:24 - cmdstanpy - INFO - Chain [1] done processing\n",
      "22:40:24 - cmdstanpy - INFO - Chain [1] start processing\n",
      "22:40:24 - cmdstanpy - INFO - Chain [1] done processing\n"
     ]
    },
    {
     "name": "stdout",
     "output_type": "stream",
     "text": [
      "It's overpredicted.\n",
      "Monthly Error: 23.53 Period MAE:It's underpredicted. \n",
      "Monthly Error:13.919999999999998\n",
      "  58.53Period MAE: 59.96\n"
     ]
    },
    {
     "name": "stderr",
     "output_type": "stream",
     "text": [
      "22:40:26 - cmdstanpy - INFO - Chain [1] start processing\n"
     ]
    },
    {
     "name": "stdout",
     "output_type": "stream",
     "text": [
      "It's underpredicted.\n",
      "Monthly Error:"
     ]
    },
    {
     "name": "stderr",
     "output_type": "stream",
     "text": [
      "22:40:26 - cmdstanpy - INFO - Chain [1] done processing\n"
     ]
    },
    {
     "name": "stdout",
     "output_type": "stream",
     "text": [
      " 59.92 Period MAE: 61.29\n"
     ]
    },
    {
     "name": "stderr",
     "output_type": "stream",
     "text": [
      "22:40:26 - cmdstanpy - INFO - Chain [1] start processing\n",
      "22:40:27 - cmdstanpy - INFO - Chain [1] done processing\n",
      "22:40:27 - cmdstanpy - INFO - Chain [1] start processing\n",
      "22:40:27 - cmdstanpy - INFO - Chain [1] done processing\n"
     ]
    },
    {
     "name": "stdout",
     "output_type": "stream",
     "text": [
      "It's underpredicted.\n",
      "Monthly Error: 62.38 Period MAE: 63.57000000000001\n",
      "It's overpredicted.\n",
      "Monthly Error: 23.61 Period MAE: 15.06\n",
      "It's underpredicted.\n",
      "Monthly Error: 76.87 Period MAE: 77.60000000000001\n"
     ]
    },
    {
     "name": "stderr",
     "output_type": "stream",
     "text": [
      "22:40:30 - cmdstanpy - INFO - Chain [1] start processing\n",
      "22:40:30 - cmdstanpy - INFO - Chain [1] start processing\n",
      "22:40:30 - cmdstanpy - INFO - Chain [1] done processing\n",
      "22:40:30 - cmdstanpy - INFO - Chain [1] start processing\n",
      "22:40:30 - cmdstanpy - INFO - Chain [1] done processing\n"
     ]
    },
    {
     "name": "stdout",
     "output_type": "stream",
     "text": [
      "It's underpredicted.\n"
     ]
    },
    {
     "name": "stderr",
     "output_type": "stream",
     "text": [
      "22:40:31 - cmdstanpy - INFO - Chain [1] done processing\n"
     ]
    },
    {
     "name": "stdout",
     "output_type": "stream",
     "text": [
      "Monthly Error: 75.34 Period MAE: 76.06\n",
      "It's underpredicted.\n",
      "Monthly Error: 73.33 Period MAE: 74.39\n"
     ]
    },
    {
     "name": "stderr",
     "output_type": "stream",
     "text": [
      "22:40:31 - cmdstanpy - INFO - Chain [1] start processing\n",
      "22:40:32 - cmdstanpy - INFO - Chain [1] done processing\n",
      "22:40:32 - cmdstanpy - INFO - Chain [1] start processing\n",
      "22:40:33 - cmdstanpy - INFO - Chain [1] done processing\n"
     ]
    },
    {
     "name": "stdout",
     "output_type": "stream",
     "text": [
      "It's underpredicted.\n",
      "Monthly Error: 60.55 Period MAE: 61.9\n"
     ]
    },
    {
     "name": "stderr",
     "output_type": "stream",
     "text": [
      "22:40:34 - cmdstanpy - INFO - Chain [1] start processing\n"
     ]
    },
    {
     "name": "stdout",
     "output_type": "stream",
     "text": [
      "It's underpredicted."
     ]
    },
    {
     "name": "stderr",
     "output_type": "stream",
     "text": [
      "22:40:34 - cmdstanpy - INFO - Chain [1] done processing\n"
     ]
    },
    {
     "name": "stdout",
     "output_type": "stream",
     "text": [
      "\n",
      "Monthly Error: 76.04 Period MAE: 76.85\n",
      "It's underpredicted.\n",
      "Monthly Error: 64.98 Period MAE: 67.15\n",
      "It's underpredicted.\n",
      "Monthly Error: 92.39 Period MAE: 92.86999999999999\n"
     ]
    },
    {
     "name": "stderr",
     "output_type": "stream",
     "text": [
      "22:40:36 - cmdstanpy - INFO - Chain [1] start processing\n",
      "22:40:36 - cmdstanpy - INFO - Chain [1] start processing\n",
      "22:40:36 - cmdstanpy - INFO - Chain [1] done processing\n",
      "22:40:36 - cmdstanpy - INFO - Chain [1] start processing\n",
      "22:40:36 - cmdstanpy - INFO - Chain [1] done processing\n",
      "22:40:37 - cmdstanpy - INFO - Chain [1] done processing\n"
     ]
    },
    {
     "name": "stdout",
     "output_type": "stream",
     "text": [
      "It's underpredicted.\n",
      "Monthly Error: 74.59 Period MAE: 75.58\n",
      "It's underpredicted.\n",
      "Monthly Error: 91.0 Period MAE: 91.55\n"
     ]
    },
    {
     "name": "stderr",
     "output_type": "stream",
     "text": [
      "22:40:38 - cmdstanpy - INFO - Chain [1] start processing\n",
      "22:40:39 - cmdstanpy - INFO - Chain [1] done processing\n"
     ]
    },
    {
     "name": "stdout",
     "output_type": "stream",
     "text": [
      "It's underpredicted.\n",
      "Monthly Error: 76.22 "
     ]
    },
    {
     "name": "stderr",
     "output_type": "stream",
     "text": [
      "22:40:39 - cmdstanpy - INFO - Chain [1] start processing\n"
     ]
    },
    {
     "name": "stdout",
     "output_type": "stream",
     "text": [
      "Period MAE: 77.06\n"
     ]
    },
    {
     "name": "stderr",
     "output_type": "stream",
     "text": [
      "22:40:39 - cmdstanpy - INFO - Chain [1] done processing\n",
      "22:40:40 - cmdstanpy - INFO - Chain [1] start processing\n",
      "22:40:40 - cmdstanpy - INFO - Chain [1] done processing\n"
     ]
    },
    {
     "name": "stdout",
     "output_type": "stream",
     "text": [
      "It's underpredicted.\n",
      "Monthly Error: 92.4 Period MAE: 92.88\n",
      "It's underpredicted.\n",
      "Monthly Error: 74.3 Period MAE: 75.27000000000001\n",
      "It's underpredicted.\n",
      "Monthly Error: 76.31 Period MAE: 77.31\n"
     ]
    },
    {
     "name": "stderr",
     "output_type": "stream",
     "text": [
      "22:40:42 - cmdstanpy - INFO - Chain [1] start processing\n",
      "22:40:43 - cmdstanpy - INFO - Chain [1] start processing\n",
      "22:40:43 - cmdstanpy - INFO - Chain [1] start processing\n",
      "22:40:43 - cmdstanpy - INFO - Chain [1] done processing\n",
      "22:40:43 - cmdstanpy - INFO - Chain [1] done processing\n",
      "22:40:43 - cmdstanpy - INFO - Chain [1] done processing\n"
     ]
    },
    {
     "name": "stdout",
     "output_type": "stream",
     "text": [
      "It's underpredicted.\n",
      "Monthly Error: 76.31 Period MAE: 77.3\n"
     ]
    },
    {
     "name": "stderr",
     "output_type": "stream",
     "text": [
      "22:40:44 - cmdstanpy - INFO - Chain [1] start processing\n",
      "22:40:44 - cmdstanpy - INFO - Chain [1] done processing\n"
     ]
    },
    {
     "name": "stdout",
     "output_type": "stream",
     "text": [
      "It's underpredicted.\n",
      "Monthly Error: 72.58 Period MAE: 73.7\n",
      "It's underpredicted.\n",
      "Monthly Error: 76.69 Period MAE: 77.48\n"
     ]
    },
    {
     "name": "stderr",
     "output_type": "stream",
     "text": [
      "22:40:46 - cmdstanpy - INFO - Chain [1] start processing\n",
      "22:40:47 - cmdstanpy - INFO - Chain [1] done processing\n",
      "22:40:47 - cmdstanpy - INFO - Chain [1] start processing\n"
     ]
    },
    {
     "name": "stdout",
     "output_type": "stream",
     "text": [
      "It's underpredicted.\n",
      "Monthly Error: 92.44 "
     ]
    },
    {
     "name": "stderr",
     "output_type": "stream",
     "text": [
      "22:40:47 - cmdstanpy - INFO - Chain [1] done processing\n"
     ]
    },
    {
     "name": "stdout",
     "output_type": "stream",
     "text": [
      "Period MAE: 92.92\n",
      "It's underpredicted.\n",
      "Monthly Error: 76.25 Period MAE: 77.25\n",
      "It's underpredicted.\n",
      "Monthly Error: 76.23 Period MAE: 77.03\n"
     ]
    },
    {
     "name": "stderr",
     "output_type": "stream",
     "text": [
      "22:40:48 - cmdstanpy - INFO - Chain [1] start processing\n",
      "22:40:49 - cmdstanpy - INFO - Chain [1] start processing\n",
      "22:40:49 - cmdstanpy - INFO - Chain [1] done processing\n",
      "22:40:49 - cmdstanpy - INFO - Chain [1] done processing\n",
      "22:40:49 - cmdstanpy - INFO - Chain [1] start processing\n",
      "22:40:49 - cmdstanpy - INFO - Chain [1] done processing\n"
     ]
    },
    {
     "name": "stdout",
     "output_type": "stream",
     "text": [
      "It's underpredicted.\n",
      "Monthly Error: 64.7 Period MAE: 66.28\n"
     ]
    },
    {
     "name": "stderr",
     "output_type": "stream",
     "text": [
      "22:40:51 - cmdstanpy - INFO - Chain [1] start processing\n",
      "22:40:51 - cmdstanpy - INFO - Chain [1] done processing\n"
     ]
    },
    {
     "name": "stdout",
     "output_type": "stream",
     "text": [
      "It's underpredicted.\n",
      "Monthly Error: 92.48 Period MAE: 92.96\n",
      "It's underpredicted.\n",
      "Monthly Error: 74.35 Period MAE: "
     ]
    },
    {
     "name": "stderr",
     "output_type": "stream",
     "text": [
      "22:40:52 - cmdstanpy - INFO - Chain [1] start processing\n"
     ]
    },
    {
     "name": "stdout",
     "output_type": "stream",
     "text": [
      "75.33\n"
     ]
    },
    {
     "name": "stderr",
     "output_type": "stream",
     "text": [
      "22:40:53 - cmdstanpy - INFO - Chain [1] done processing\n",
      "22:40:53 - cmdstanpy - INFO - Chain [1] start processing\n",
      "22:40:53 - cmdstanpy - INFO - Chain [1] done processing\n"
     ]
    },
    {
     "name": "stdout",
     "output_type": "stream",
     "text": [
      "It's underpredicted.\n",
      "Monthly Error: 92.41 Period MAE: 92.89It's underpredicted.\n",
      "\n",
      "Monthly Error: 92.46 Period MAE: 92.9\n",
      "It's underpredicted.\n",
      "Monthly Error: "
     ]
    },
    {
     "name": "stderr",
     "output_type": "stream",
     "text": [
      "22:40:55 - cmdstanpy - INFO - Chain [1] start processing\n"
     ]
    },
    {
     "name": "stdout",
     "output_type": "stream",
     "text": [
      "66.74 Period MAE: 68.25\n"
     ]
    },
    {
     "name": "stderr",
     "output_type": "stream",
     "text": [
      "22:40:55 - cmdstanpy - INFO - Chain [1] done processing\n",
      "22:40:55 - cmdstanpy - INFO - Chain [1] start processing\n",
      "22:40:55 - cmdstanpy - INFO - Chain [1] start processing\n",
      "22:40:55 - cmdstanpy - INFO - Chain [1] done processing\n",
      "22:40:56 - cmdstanpy - INFO - Chain [1] done processing\n"
     ]
    },
    {
     "name": "stdout",
     "output_type": "stream",
     "text": [
      "It's underpredicted.\n",
      "Monthly Error: 92.86 Period MAE: 93.25\n"
     ]
    },
    {
     "name": "stderr",
     "output_type": "stream",
     "text": [
      "22:40:57 - cmdstanpy - INFO - Chain [1] start processing\n"
     ]
    },
    {
     "name": "stdout",
     "output_type": "stream",
     "text": [
      "It's underpredicted."
     ]
    },
    {
     "name": "stderr",
     "output_type": "stream",
     "text": [
      "22:40:57 - cmdstanpy - INFO - Chain [1] done processing\n"
     ]
    },
    {
     "name": "stdout",
     "output_type": "stream",
     "text": [
      "\n",
      "Monthly Error: It's underpredicted.67.66\n",
      " Monthly Error: Period MAE:63.82 69.15\n",
      " Period MAE: 65.29\n"
     ]
    },
    {
     "name": "stderr",
     "output_type": "stream",
     "text": [
      "22:40:58 - cmdstanpy - INFO - Chain [1] start processing\n",
      "22:40:58 - cmdstanpy - INFO - Chain [1] start processing\n",
      "22:40:59 - cmdstanpy - INFO - Chain [1] done processing\n",
      "22:40:59 - cmdstanpy - INFO - Chain [1] done processing\n"
     ]
    },
    {
     "name": "stdout",
     "output_type": "stream",
     "text": [
      "It's underpredicted.\n",
      "Monthly Error: 92.93 Period MAE: 93.32000000000001\n",
      "It's underpredicted.\n",
      "Monthly Error: 76.2 Period MAE: 76.95\n",
      "It's underpredicted.\n",
      "Monthly Error: 67.72 Period MAE: "
     ]
    },
    {
     "name": "stderr",
     "output_type": "stream",
     "text": [
      "22:41:01 - cmdstanpy - INFO - Chain [1] start processing\n"
     ]
    },
    {
     "name": "stdout",
     "output_type": "stream",
     "text": [
      "69.08\n"
     ]
    },
    {
     "name": "stderr",
     "output_type": "stream",
     "text": [
      "22:41:02 - cmdstanpy - INFO - Chain [1] start processing\n",
      "22:41:02 - cmdstanpy - INFO - Chain [1] done processing\n",
      "22:41:02 - cmdstanpy - INFO - Chain [1] done processing\n",
      "22:41:03 - cmdstanpy - INFO - Chain [1] start processing\n"
     ]
    },
    {
     "name": "stdout",
     "output_type": "stream",
     "text": [
      "It's underpredicted."
     ]
    },
    {
     "name": "stderr",
     "output_type": "stream",
     "text": [
      "22:41:04 - cmdstanpy - INFO - Chain [1] done processing\n"
     ]
    },
    {
     "name": "stdout",
     "output_type": "stream",
     "text": [
      "\n",
      "Monthly Error: 76.31 Period MAE: 77.06\n"
     ]
    },
    {
     "name": "stderr",
     "output_type": "stream",
     "text": [
      "22:41:05 - cmdstanpy - INFO - Chain [1] start processing\n"
     ]
    },
    {
     "name": "stdout",
     "output_type": "stream",
     "text": [
      "It's underpredicted.\n",
      "Monthly Error: "
     ]
    },
    {
     "name": "stderr",
     "output_type": "stream",
     "text": [
      "22:41:05 - cmdstanpy - INFO - Chain [1] done processing\n"
     ]
    },
    {
     "name": "stdout",
     "output_type": "stream",
     "text": [
      "63.72 Period MAE: 65.32\n",
      "It's underpredicted.\n",
      "Monthly Error: 67.94 Period MAE: 69.34\n"
     ]
    },
    {
     "name": "stderr",
     "output_type": "stream",
     "text": [
      "22:41:06 - cmdstanpy - INFO - Chain [1] start processing\n",
      "22:41:07 - cmdstanpy - INFO - Chain [1] start processing\n",
      "22:41:07 - cmdstanpy - INFO - Chain [1] done processing\n",
      "22:41:07 - cmdstanpy - INFO - Chain [1] done processing\n"
     ]
    },
    {
     "name": "stdout",
     "output_type": "stream",
     "text": [
      "It's underpredicted.It's underpredicted.\n",
      "\n",
      "Monthly Error: Monthly Error:71.86  92.84 Period MAE:Period MAE: 72.87 \n",
      "93.24\n",
      "It's underpredicted.\n",
      "Monthly Error: 65.96 Period MAE: 67.5\n"
     ]
    },
    {
     "name": "stderr",
     "output_type": "stream",
     "text": [
      "22:41:09 - cmdstanpy - INFO - Chain [1] start processing\n",
      "22:41:09 - cmdstanpy - INFO - Chain [1] start processing\n",
      "22:41:09 - cmdstanpy - INFO - Chain [1] done processing\n",
      "22:41:10 - cmdstanpy - INFO - Chain [1] done processing\n",
      "22:41:10 - cmdstanpy - INFO - Chain [1] start processing\n",
      "22:41:10 - cmdstanpy - INFO - Chain [1] done processing\n"
     ]
    },
    {
     "name": "stdout",
     "output_type": "stream",
     "text": [
      "It's underpredicted.\n",
      "Monthly Error: 92.98 Period MAE: 93.37\n",
      "It's underpredicted."
     ]
    },
    {
     "name": "stderr",
     "output_type": "stream",
     "text": [
      "22:41:11 - cmdstanpy - INFO - Chain [1] start processing\n"
     ]
    },
    {
     "name": "stdout",
     "output_type": "stream",
     "text": [
      "\n",
      "Monthly Error: 61.75 Period MAE: 63.13999999999999\n"
     ]
    },
    {
     "name": "stderr",
     "output_type": "stream",
     "text": [
      "22:41:11 - cmdstanpy - INFO - Chain [1] done processing\n"
     ]
    },
    {
     "name": "stdout",
     "output_type": "stream",
     "text": [
      "It's underpredicted.\n",
      "Monthly Error: 68.76 Period MAE: 70.19999999999999\n"
     ]
    },
    {
     "name": "stderr",
     "output_type": "stream",
     "text": [
      "22:41:12 - cmdstanpy - INFO - Chain [1] start processing\n",
      "22:41:13 - cmdstanpy - INFO - Chain [1] done processing\n",
      "22:41:13 - cmdstanpy - INFO - Chain [1] start processing\n",
      "22:41:13 - cmdstanpy - INFO - Chain [1] done processing\n"
     ]
    },
    {
     "name": "stdout",
     "output_type": "stream",
     "text": [
      "It's underpredicted.\n",
      "Monthly Error: 63.46 Period MAE: 64.75It's underpredicted.\n",
      "\n",
      "Monthly Error: 89.13 Period MAE: 89.75\n",
      "It's underpredicted.\n",
      "Monthly Error: 78.08 Period MAE: 78.75\n"
     ]
    },
    {
     "name": "stderr",
     "output_type": "stream",
     "text": [
      "22:41:16 - cmdstanpy - INFO - Chain [1] start processing\n",
      "22:41:16 - cmdstanpy - INFO - Chain [1] start processing\n",
      "22:41:16 - cmdstanpy - INFO - Chain [1] done processing\n",
      "22:41:16 - cmdstanpy - INFO - Chain [1] start processing\n",
      "22:41:17 - cmdstanpy - INFO - Chain [1] done processing\n",
      "22:41:17 - cmdstanpy - INFO - Chain [1] done processing\n"
     ]
    },
    {
     "name": "stdout",
     "output_type": "stream",
     "text": [
      "It's underpredicted.\n",
      "Monthly Error: 78.08 Period MAE: 78.75999999999999\n"
     ]
    },
    {
     "name": "stderr",
     "output_type": "stream",
     "text": [
      "22:41:18 - cmdstanpy - INFO - Chain [1] start processing\n"
     ]
    },
    {
     "name": "stdout",
     "output_type": "stream",
     "text": [
      "It's underpredicted.\n",
      "Monthly Error: 61.64 Period MAE: 63.029999999999994\n"
     ]
    },
    {
     "name": "stderr",
     "output_type": "stream",
     "text": [
      "22:41:18 - cmdstanpy - INFO - Chain [1] done processing\n"
     ]
    },
    {
     "name": "stdout",
     "output_type": "stream",
     "text": [
      "It's underpredicted.\n",
      "Monthly Error: 62.4 Period MAE: 63.75999999999999\n"
     ]
    },
    {
     "name": "stderr",
     "output_type": "stream",
     "text": [
      "22:41:19 - cmdstanpy - INFO - Chain [1] start processing\n",
      "22:41:19 - cmdstanpy - INFO - Chain [1] done processing\n",
      "22:41:20 - cmdstanpy - INFO - Chain [1] start processing\n",
      "22:41:20 - cmdstanpy - INFO - Chain [1] done processing\n"
     ]
    },
    {
     "name": "stdout",
     "output_type": "stream",
     "text": [
      "It's underpredicted.\n",
      "Monthly Error: 63.27 Period MAE: 64.57000000000001\n",
      "It's underpredicted.\n",
      "Monthly Error: 76.59 Period MAE: 77.5\n",
      "It's overpredicted.\n",
      "Monthly Error: 22.14 Period MAE: 8.08\n"
     ]
    },
    {
     "name": "stderr",
     "output_type": "stream",
     "text": [
      "22:41:22 - cmdstanpy - INFO - Chain [1] start processing\n",
      "22:41:22 - cmdstanpy - INFO - Chain [1] start processing\n",
      "22:41:22 - cmdstanpy - INFO - Chain [1] done processing\n",
      "22:41:22 - cmdstanpy - INFO - Chain [1] done processing\n",
      "22:41:22 - cmdstanpy - INFO - Chain [1] start processing\n",
      "22:41:23 - cmdstanpy - INFO - Chain [1] done processing\n"
     ]
    },
    {
     "name": "stdout",
     "output_type": "stream",
     "text": [
      "It's underpredicted.\n",
      "Monthly Error:It's overpredicted. 62.35\n",
      " Monthly Error: Period MAE: 63.7222.3\n",
      " Period MAE: 8.15\n"
     ]
    },
    {
     "name": "stderr",
     "output_type": "stream",
     "text": [
      "22:41:24 - cmdstanpy - INFO - Chain [1] start processing\n",
      "22:41:24 - cmdstanpy - INFO - Chain [1] done processing\n"
     ]
    },
    {
     "name": "stdout",
     "output_type": "stream",
     "text": [
      "It's underpredicted.\n",
      "Monthly Error:"
     ]
    },
    {
     "name": "stderr",
     "output_type": "stream",
     "text": [
      "22:41:24 - cmdstanpy - INFO - Chain [1] start processing\n"
     ]
    },
    {
     "name": "stdout",
     "output_type": "stream",
     "text": [
      " 62.52 Period MAE: 63.88\n"
     ]
    },
    {
     "name": "stderr",
     "output_type": "stream",
     "text": [
      "22:41:25 - cmdstanpy - INFO - Chain [1] done processing\n",
      "22:41:26 - cmdstanpy - INFO - Chain [1] start processing\n",
      "22:41:26 - cmdstanpy - INFO - Chain [1] done processing\n"
     ]
    },
    {
     "name": "stdout",
     "output_type": "stream",
     "text": [
      "It's underpredicted.\n",
      "Monthly Error: 63.47 Period MAE: 64.77000000000001\n"
     ]
    },
    {
     "name": "stderr",
     "output_type": "stream",
     "text": [
      "22:41:27 - cmdstanpy - INFO - Chain [1] start processing\n"
     ]
    },
    {
     "name": "stdout",
     "output_type": "stream",
     "text": [
      "It's underpredicted.\n",
      "Monthly Error: 78.19 Period MAE: 78.86\n",
      "It's overpredicted.\n",
      "Monthly Error: 22.358.36 Period MAE: \n"
     ]
    },
    {
     "name": "stderr",
     "output_type": "stream",
     "text": [
      "22:41:28 - cmdstanpy - INFO - Chain [1] done processing\n",
      "22:41:28 - cmdstanpy - INFO - Chain [1] start processing\n",
      "22:41:28 - cmdstanpy - INFO - Chain [1] start processing\n",
      "22:41:29 - cmdstanpy - INFO - Chain [1] done processing\n",
      "22:41:29 - cmdstanpy - INFO - Chain [1] done processing\n"
     ]
    },
    {
     "name": "stdout",
     "output_type": "stream",
     "text": [
      "It's underpredicted.\n",
      "Monthly Error: 77.54 Period MAE: 78.23\n",
      "It's underpredicted.\n",
      "Monthly Error: 57.85 Period MAE: 59.309999999999995\n",
      "It's underpredicted.\n",
      "Monthly Error: 64.26 Period MAE: 65.57\n"
     ]
    },
    {
     "name": "stderr",
     "output_type": "stream",
     "text": [
      "22:41:30 - cmdstanpy - INFO - Chain [1] start processing\n",
      "22:41:31 - cmdstanpy - INFO - Chain [1] done processing\n",
      "22:41:31 - cmdstanpy - INFO - Chain [1] start processing\n",
      "22:41:31 - cmdstanpy - INFO - Chain [1] start processing\n",
      "22:41:31 - cmdstanpy - INFO - Chain [1] done processing\n",
      "22:41:32 - cmdstanpy - INFO - Chain [1] done processing\n"
     ]
    },
    {
     "name": "stdout",
     "output_type": "stream",
     "text": [
      "It's underpredicted.\n",
      "Monthly Error: 59.64 Period MAE: 60.99\n",
      "It's underpredicted.\n",
      "Monthly Error: 76.78 Period MAE: 77.68\n",
      "It's underpredicted.\n",
      "Monthly Error: 76.52 Period MAE: 77.19\n"
     ]
    },
    {
     "name": "stderr",
     "output_type": "stream",
     "text": [
      "22:41:34 - cmdstanpy - INFO - Chain [1] start processing\n",
      "22:41:34 - cmdstanpy - INFO - Chain [1] start processing\n"
     ]
    },
    {
     "name": "stdout",
     "output_type": "stream",
     "text": [
      "It's underpredicted.\n",
      "Monthly Error: 75.89 Period MAE: 76.57000000000001\n"
     ]
    },
    {
     "name": "stderr",
     "output_type": "stream",
     "text": [
      "22:41:35 - cmdstanpy - INFO - Chain [1] done processing\n",
      "22:41:35 - cmdstanpy - INFO - Chain [1] start processing\n",
      "22:41:35 - cmdstanpy - INFO - Chain [1] start processing\n",
      "22:41:35 - cmdstanpy - INFO - Chain [1] done processing\n",
      "22:41:35 - cmdstanpy - INFO - Chain [1] done processing\n",
      "22:41:35 - cmdstanpy - INFO - Chain [1] done processing\n"
     ]
    },
    {
     "name": "stdout",
     "output_type": "stream",
     "text": [
      "It's underpredicted.\n",
      "Monthly Error: 57.91 Period MAE: 59.36\n",
      "It's underpredicted.\n",
      "Monthly Error: 58.66 Period MAE: 60.08\n"
     ]
    },
    {
     "name": "stderr",
     "output_type": "stream",
     "text": [
      "22:41:38 - cmdstanpy - INFO - Chain [1] start processing\n",
      "22:41:38 - cmdstanpy - INFO - Chain [1] done processing\n"
     ]
    },
    {
     "name": "stdout",
     "output_type": "stream",
     "text": [
      "It's overpredicted.\n",
      "Monthly Error: "
     ]
    },
    {
     "name": "stderr",
     "output_type": "stream",
     "text": [
      "22:41:38 - cmdstanpy - INFO - Chain [1] start processing\n"
     ]
    },
    {
     "name": "stdout",
     "output_type": "stream",
     "text": [
      "21.99 Period MAE: 11.790000000000001\n"
     ]
    },
    {
     "name": "stderr",
     "output_type": "stream",
     "text": [
      "22:41:39 - cmdstanpy - INFO - Chain [1] done processing\n"
     ]
    },
    {
     "name": "stdout",
     "output_type": "stream",
     "text": [
      "It's underpredicted.\n",
      "Monthly Error: 74.88 Period MAE: 75.77000000000001\n"
     ]
    },
    {
     "name": "stderr",
     "output_type": "stream",
     "text": [
      "22:41:40 - cmdstanpy - INFO - Chain [1] start processing\n"
     ]
    },
    {
     "name": "stdout",
     "output_type": "stream",
     "text": [
      "It's underpredicted.\n",
      "Monthly Error: 59.35 Period MAE: 60.709999999999994\n"
     ]
    },
    {
     "name": "stderr",
     "output_type": "stream",
     "text": [
      "22:41:40 - cmdstanpy - INFO - Chain [1] start processing\n",
      "22:41:41 - cmdstanpy - INFO - Chain [1] done processing\n",
      "22:41:41 - cmdstanpy - INFO - Chain [1] done processing\n",
      "22:41:41 - cmdstanpy - INFO - Chain [1] start processing\n",
      "22:41:41 - cmdstanpy - INFO - Chain [1] done processing\n"
     ]
    },
    {
     "name": "stdout",
     "output_type": "stream",
     "text": [
      "It's overpredicted.\n",
      "Monthly Error: 21.93It's underpredicted. \n",
      "Period MAE:Monthly Error: 11.469999999999999\n",
      " 58.34 Period MAE: \n",
      "59.78"
     ]
    },
    {
     "name": "stderr",
     "output_type": "stream",
     "text": [
      "22:41:43 - cmdstanpy - INFO - Chain [1] start processing\n",
      "22:41:43 - cmdstanpy - INFO - Chain [1] done processing\n"
     ]
    },
    {
     "name": "stdout",
     "output_type": "stream",
     "text": [
      "It's underpredicted.\n",
      "Monthly Error: 58.87 "
     ]
    },
    {
     "name": "stderr",
     "output_type": "stream",
     "text": [
      "22:41:44 - cmdstanpy - INFO - Chain [1] start processing\n"
     ]
    },
    {
     "name": "stdout",
     "output_type": "stream",
     "text": [
      "Period MAE: 60.29\n"
     ]
    },
    {
     "name": "stderr",
     "output_type": "stream",
     "text": [
      "22:41:44 - cmdstanpy - INFO - Chain [1] done processing\n",
      "22:41:45 - cmdstanpy - INFO - Chain [1] start processing\n",
      "22:41:45 - cmdstanpy - INFO - Chain [1] done processing\n"
     ]
    },
    {
     "name": "stdout",
     "output_type": "stream",
     "text": [
      "It's underpredicted.\n",
      "Monthly Error: 59.89 Period MAE: 61.23\n",
      "It's overpredicted.\n",
      "Monthly Error: 21.82 Period MAE: 11.76\n",
      "It's underpredicted.\n",
      "Monthly Error:Period MAE: 76.29  76.97\n"
     ]
    },
    {
     "name": "stderr",
     "output_type": "stream",
     "text": [
      "22:41:47 - cmdstanpy - INFO - Chain [1] start processing\n",
      "22:41:47 - cmdstanpy - INFO - Chain [1] done processing\n",
      "22:41:47 - cmdstanpy - INFO - Chain [1] start processing\n",
      "22:41:48 - cmdstanpy - INFO - Chain [1] start processing\n",
      "22:41:48 - cmdstanpy - INFO - Chain [1] done processing\n",
      "22:41:48 - cmdstanpy - INFO - Chain [1] done processing\n"
     ]
    },
    {
     "name": "stdout",
     "output_type": "stream",
     "text": [
      "It's underpredicted.\n",
      "Monthly Error: 75.91It's underpredicted. \n",
      "Period MAE:Monthly Error:  73.3276.58 \n",
      "Period MAE: 74.38\n"
     ]
    },
    {
     "name": "stderr",
     "output_type": "stream",
     "text": [
      "22:41:49 - cmdstanpy - INFO - Chain [1] start processing\n",
      "22:41:49 - cmdstanpy - INFO - Chain [1] done processing\n",
      "22:41:50 - cmdstanpy - INFO - Chain [1] start processing\n",
      "22:41:50 - cmdstanpy - INFO - Chain [1] done processing\n"
     ]
    },
    {
     "name": "stdout",
     "output_type": "stream",
     "text": [
      "It's underpredicted.\n",
      "Monthly Error: 58.76 Period MAE: 60.18\n"
     ]
    },
    {
     "name": "stderr",
     "output_type": "stream",
     "text": [
      "22:41:52 - cmdstanpy - INFO - Chain [1] start processing\n",
      "22:41:52 - cmdstanpy - INFO - Chain [1] done processing\n"
     ]
    },
    {
     "name": "stdout",
     "output_type": "stream",
     "text": [
      "It's underpredicted.\n",
      "Monthly Error: 73.34 Period MAE: 74.4It's underpredicted.\n",
      "\n",
      "Monthly Error: 74.89 Period MAE: 75.78\n",
      "It's underpredicted.\n",
      "Monthly Error: 92.45 Period MAE: 92.93\n"
     ]
    },
    {
     "name": "stderr",
     "output_type": "stream",
     "text": [
      "22:41:53 - cmdstanpy - INFO - Chain [1] start processing\n",
      "22:41:54 - cmdstanpy - INFO - Chain [1] start processing\n",
      "22:41:54 - cmdstanpy - INFO - Chain [1] start processing\n",
      "22:41:54 - cmdstanpy - INFO - Chain [1] done processing\n",
      "22:41:54 - cmdstanpy - INFO - Chain [1] done processing\n",
      "22:41:54 - cmdstanpy - INFO - Chain [1] done processing\n"
     ]
    },
    {
     "name": "stdout",
     "output_type": "stream",
     "text": [
      "It's underpredicted.\n",
      "Monthly Error: 71.9 Period MAE: 73.16\n",
      "It's underpredicted.\n",
      "Monthly Error: 92.45 Period MAE: 92.93\n"
     ]
    },
    {
     "name": "stderr",
     "output_type": "stream",
     "text": [
      "22:41:56 - cmdstanpy - INFO - Chain [1] start processing\n"
     ]
    },
    {
     "name": "stdout",
     "output_type": "stream",
     "text": [
      "It's underpredicted.\n",
      "Monthly Error: 73.43 Period MAE:"
     ]
    },
    {
     "name": "stderr",
     "output_type": "stream",
     "text": [
      "22:41:56 - cmdstanpy - INFO - Chain [1] done processing\n"
     ]
    },
    {
     "name": "stdout",
     "output_type": "stream",
     "text": [
      " 74.48\n"
     ]
    },
    {
     "name": "stderr",
     "output_type": "stream",
     "text": [
      "22:41:57 - cmdstanpy - INFO - Chain [1] start processing\n",
      "22:41:58 - cmdstanpy - INFO - Chain [1] done processing\n",
      "22:41:58 - cmdstanpy - INFO - Chain [1] start processing\n",
      "22:41:58 - cmdstanpy - INFO - Chain [1] done processing\n"
     ]
    },
    {
     "name": "stdout",
     "output_type": "stream",
     "text": [
      "It's underpredicted.\n",
      "Monthly Error: 92.44 Period MAE: 92.92\n"
     ]
    },
    {
     "name": "stderr",
     "output_type": "stream",
     "text": [
      "22:41:59 - cmdstanpy - INFO - Chain [1] start processing\n"
     ]
    },
    {
     "name": "stdout",
     "output_type": "stream",
     "text": [
      "It's underpredicted.\n",
      "Monthly Error: 72.23 Period MAE: 73.46000000000001\n"
     ]
    },
    {
     "name": "stderr",
     "output_type": "stream",
     "text": [
      "22:42:00 - cmdstanpy - INFO - Chain [1] done processing\n"
     ]
    },
    {
     "name": "stdout",
     "output_type": "stream",
     "text": [
      "It's underpredicted.\n",
      "Monthly Error: 75.09 Period MAE: 76.12\n"
     ]
    },
    {
     "name": "stderr",
     "output_type": "stream",
     "text": [
      "22:42:01 - cmdstanpy - INFO - Chain [1] start processing\n",
      "22:42:02 - cmdstanpy - INFO - Chain [1] start processing\n",
      "22:42:02 - cmdstanpy - INFO - Chain [1] done processing\n",
      "22:42:02 - cmdstanpy - INFO - Chain [1] done processing\n"
     ]
    },
    {
     "name": "stdout",
     "output_type": "stream",
     "text": [
      "It's underpredicted.\n",
      "Monthly Error: 75.03 Period MAE: 76.05\n"
     ]
    },
    {
     "name": "stderr",
     "output_type": "stream",
     "text": [
      "22:42:03 - cmdstanpy - INFO - Chain [1] start processing\n",
      "22:42:03 - cmdstanpy - INFO - Chain [1] done processing\n"
     ]
    },
    {
     "name": "stdout",
     "output_type": "stream",
     "text": [
      "It's underpredicted.\n",
      "Monthly Error: 72.17 Period MAE: 73.4\n",
      "It's underpredicted.\n",
      "Monthly Error: 73.11 Period MAE: 74.19\n"
     ]
    },
    {
     "name": "stderr",
     "output_type": "stream",
     "text": [
      "22:42:05 - cmdstanpy - INFO - Chain [1] start processing\n"
     ]
    },
    {
     "name": "stdout",
     "output_type": "stream",
     "text": [
      "It's underpredicted.\n",
      "Monthly Error:"
     ]
    },
    {
     "name": "stderr",
     "output_type": "stream",
     "text": [
      "22:42:05 - cmdstanpy - INFO - Chain [1] done processing\n"
     ]
    },
    {
     "name": "stdout",
     "output_type": "stream",
     "text": [
      " 77.43 Period MAE: 78.39\n"
     ]
    },
    {
     "name": "stderr",
     "output_type": "stream",
     "text": [
      "22:42:06 - cmdstanpy - INFO - Chain [1] start processing\n",
      "22:42:06 - cmdstanpy - INFO - Chain [1] done processing\n",
      "22:42:06 - cmdstanpy - INFO - Chain [1] start processing\n",
      "22:42:07 - cmdstanpy - INFO - Chain [1] done processing\n"
     ]
    },
    {
     "name": "stdout",
     "output_type": "stream",
     "text": [
      "It's underpredicted.\n",
      "Monthly Error: 72.82 Period MAE: 73.92\n",
      "It's underpredicted.\n",
      "Monthly Error: 92.45 Period MAE: 92.93\n"
     ]
    },
    {
     "name": "stderr",
     "output_type": "stream",
     "text": [
      "22:42:09 - cmdstanpy - INFO - Chain [1] start processing\n",
      "22:42:09 - cmdstanpy - INFO - Chain [1] done processing\n",
      "22:42:09 - cmdstanpy - INFO - Chain [1] start processing\n"
     ]
    },
    {
     "name": "stdout",
     "output_type": "stream",
     "text": [
      "It's underpredicted.\n",
      "Monthly Error: 73.77 Period MAE: 74.79\n"
     ]
    },
    {
     "name": "stderr",
     "output_type": "stream",
     "text": [
      "22:42:09 - cmdstanpy - INFO - Chain [1] done processing\n",
      "22:42:10 - cmdstanpy - INFO - Chain [1] start processing\n",
      "22:42:10 - cmdstanpy - INFO - Chain [1] done processing\n"
     ]
    },
    {
     "name": "stdout",
     "output_type": "stream",
     "text": [
      "It's underpredicted.\n",
      "Monthly Error: 92.45 Period MAE: 92.93\n",
      "It's underpredicted.\n",
      "Monthly Error: 63.78 Period MAE: 65.38000000000001\n"
     ]
    },
    {
     "name": "stderr",
     "output_type": "stream",
     "text": [
      "22:42:11 - cmdstanpy - INFO - Chain [1] start processing\n",
      "22:42:11 - cmdstanpy - INFO - Chain [1] start processing\n",
      "22:42:11 - cmdstanpy - INFO - Chain [1] done processing\n",
      "22:42:12 - cmdstanpy - INFO - Chain [1] done processing\n"
     ]
    },
    {
     "name": "stdout",
     "output_type": "stream",
     "text": [
      "It's underpredicted.It's underpredicted.\n",
      "\n",
      "Monthly Error:Monthly Error:  63.7193.44 Period MAE:  Period MAE:65.31\n",
      " 93.74\n",
      "It's underpredicted.\n",
      "Monthly Error: 92.45 Period MAE: 92.93\n"
     ]
    },
    {
     "name": "stderr",
     "output_type": "stream",
     "text": [
      "22:42:14 - cmdstanpy - INFO - Chain [1] start processing\n"
     ]
    },
    {
     "name": "stdout",
     "output_type": "stream",
     "text": [
      "It's underpredicted.\n"
     ]
    },
    {
     "name": "stderr",
     "output_type": "stream",
     "text": [
      "22:42:14 - cmdstanpy - INFO - Chain [1] start processing\n"
     ]
    },
    {
     "name": "stdout",
     "output_type": "stream",
     "text": [
      "Monthly Error: 93.44 Period MAE: "
     ]
    },
    {
     "name": "stderr",
     "output_type": "stream",
     "text": [
      "22:42:14 - cmdstanpy - INFO - Chain [1] done processing\n"
     ]
    },
    {
     "name": "stdout",
     "output_type": "stream",
     "text": [
      "93.74"
     ]
    },
    {
     "name": "stderr",
     "output_type": "stream",
     "text": [
      "22:42:14 - cmdstanpy - INFO - Chain [1] start processing\n"
     ]
    },
    {
     "name": "stdout",
     "output_type": "stream",
     "text": [
      "\n"
     ]
    },
    {
     "name": "stderr",
     "output_type": "stream",
     "text": [
      "22:42:14 - cmdstanpy - INFO - Chain [1] done processing\n",
      "22:42:14 - cmdstanpy - INFO - Chain [1] start processing\n",
      "22:42:14 - cmdstanpy - INFO - Chain [1] done processing\n",
      "22:42:14 - cmdstanpy - INFO - Chain [1] done processing\n"
     ]
    },
    {
     "name": "stdout",
     "output_type": "stream",
     "text": [
      "It's underpredicted.\n",
      "Monthly Error: 64.84 Period MAE: 66.28\n"
     ]
    },
    {
     "name": "stderr",
     "output_type": "stream",
     "text": [
      "22:42:16 - cmdstanpy - INFO - Chain [1] start processing\n"
     ]
    },
    {
     "name": "stdout",
     "output_type": "stream",
     "text": [
      "It's underpredicted.\n",
      "Monthly Error: "
     ]
    },
    {
     "name": "stderr",
     "output_type": "stream",
     "text": [
      "22:42:17 - cmdstanpy - INFO - Chain [1] done processing\n"
     ]
    },
    {
     "name": "stdout",
     "output_type": "stream",
     "text": [
      "64.4 Period MAE: 66.0\n",
      "It's underpredicted.\n",
      "Monthly Error: 93.44 Period MAE: "
     ]
    },
    {
     "name": "stderr",
     "output_type": "stream",
     "text": [
      "22:42:18 - cmdstanpy - INFO - Chain [1] start processing\n"
     ]
    },
    {
     "name": "stdout",
     "output_type": "stream",
     "text": [
      "93.75\n"
     ]
    },
    {
     "name": "stderr",
     "output_type": "stream",
     "text": [
      "22:42:18 - cmdstanpy - INFO - Chain [1] done processing\n"
     ]
    },
    {
     "name": "stdout",
     "output_type": "stream",
     "text": [
      "It's underpredicted.\n",
      "Monthly Error: 78.28 Period MAE: 78.93\n",
      "It's underpredicted.\n",
      "Monthly Error: 64.83 Period MAE: 66.28\n"
     ]
    },
    {
     "name": "stderr",
     "output_type": "stream",
     "text": [
      "22:42:19 - cmdstanpy - INFO - Chain [1] start processing\n",
      "22:42:19 - cmdstanpy - INFO - Chain [1] start processing\n",
      "22:42:19 - cmdstanpy - INFO - Chain [1] done processing\n",
      "22:42:19 - cmdstanpy - INFO - Chain [1] start processing\n",
      "22:42:20 - cmdstanpy - INFO - Chain [1] done processing\n",
      "22:42:20 - cmdstanpy - INFO - Chain [1] done processing\n"
     ]
    },
    {
     "name": "stdout",
     "output_type": "stream",
     "text": [
      "It's underpredicted.\n",
      "Monthly Error: 65.64 Period MAE: 67.2\n"
     ]
    },
    {
     "name": "stderr",
     "output_type": "stream",
     "text": [
      "22:42:21 - cmdstanpy - INFO - Chain [1] start processing\n"
     ]
    },
    {
     "name": "stdout",
     "output_type": "stream",
     "text": [
      "It's underpredicted.\n",
      "Monthly Error: "
     ]
    },
    {
     "name": "stderr",
     "output_type": "stream",
     "text": [
      "22:42:22 - cmdstanpy - INFO - Chain [1] done processing\n"
     ]
    },
    {
     "name": "stdout",
     "output_type": "stream",
     "text": [
      "65.52 Period MAE: 66.95It's underpredicted.\n",
      "\n",
      "Monthly Error: 78.29 Period MAE: 78.94\n"
     ]
    },
    {
     "name": "stderr",
     "output_type": "stream",
     "text": [
      "22:42:23 - cmdstanpy - INFO - Chain [1] start processing\n",
      "22:42:23 - cmdstanpy - INFO - Chain [1] start processing\n",
      "22:42:23 - cmdstanpy - INFO - Chain [1] done processing\n",
      "22:42:23 - cmdstanpy - INFO - Chain [1] done processing\n"
     ]
    },
    {
     "name": "stdout",
     "output_type": "stream",
     "text": [
      "It's underpredicted.\n",
      "Monthly Error: 73.81 Period MAE: 74.58\n",
      "It's underpredicted.\n",
      "Monthly Error: 64.36 Period MAE: 65.95\n"
     ]
    },
    {
     "name": "stderr",
     "output_type": "stream",
     "text": [
      "22:42:25 - cmdstanpy - INFO - Chain [1] start processing\n"
     ]
    },
    {
     "name": "stdout",
     "output_type": "stream",
     "text": [
      "It's underpredicted.\n",
      "Monthly Error: 93.44 Period MAE: 93.75\n"
     ]
    },
    {
     "name": "stderr",
     "output_type": "stream",
     "text": [
      "22:42:26 - cmdstanpy - INFO - Chain [1] start processing\n",
      "22:42:26 - cmdstanpy - INFO - Chain [1] done processing\n",
      "22:42:26 - cmdstanpy - INFO - Chain [1] done processing\n",
      "22:42:26 - cmdstanpy - INFO - Chain [1] start processing\n",
      "22:42:26 - cmdstanpy - INFO - Chain [1] done processing\n"
     ]
    },
    {
     "name": "stdout",
     "output_type": "stream",
     "text": [
      "It's underpredicted.\n",
      "Monthly Error: 61.68 Period MAE: 63.07000000000001\n"
     ]
    },
    {
     "name": "stderr",
     "output_type": "stream",
     "text": [
      "22:42:27 - cmdstanpy - INFO - Chain [1] start processing\n",
      "22:42:28 - cmdstanpy - INFO - Chain [1] done processing\n"
     ]
    },
    {
     "name": "stdout",
     "output_type": "stream",
     "text": [
      "It's underpredicted.\n",
      "Monthly Error: 93.44 Period MAE: 93.74\n",
      "It's underpredicted.\n",
      "Monthly Error: 66.16 Period MAE: 67.72\n"
     ]
    },
    {
     "name": "stderr",
     "output_type": "stream",
     "text": [
      "22:42:29 - cmdstanpy - INFO - Chain [1] start processing\n",
      "22:42:29 - cmdstanpy - INFO - Chain [1] done processing\n",
      "22:42:29 - cmdstanpy - INFO - Chain [1] start processing\n",
      "22:42:30 - cmdstanpy - INFO - Chain [1] done processing\n"
     ]
    },
    {
     "name": "stdout",
     "output_type": "stream",
     "text": [
      "It's underpredicted.\n",
      "Monthly Error:It's underpredicted. \n",
      "Monthly Error:93.46  Period MAE:78.73  Period MAE:93.76 \n",
      "It's underpredicted.79.39\n",
      "\n",
      "Monthly Error: 64.78 Period MAE: 66.01\n",
      "It's underpredicted.\n",
      "Monthly Error:"
     ]
    },
    {
     "name": "stderr",
     "output_type": "stream",
     "text": [
      "22:42:32 - cmdstanpy - INFO - Chain [1] start processing\n"
     ]
    },
    {
     "name": "stdout",
     "output_type": "stream",
     "text": [
      " 76.32 Period MAE: 76.96\n"
     ]
    },
    {
     "name": "stderr",
     "output_type": "stream",
     "text": [
      "22:42:32 - cmdstanpy - INFO - Chain [1] done processing\n",
      "22:42:32 - cmdstanpy - INFO - Chain [1] start processing\n",
      "22:42:32 - cmdstanpy - INFO - Chain [1] start processing\n",
      "22:42:33 - cmdstanpy - INFO - Chain [1] start processing\n",
      "22:42:33 - cmdstanpy - INFO - Chain [1] done processing\n",
      "22:42:33 - cmdstanpy - INFO - Chain [1] done processing\n",
      "22:42:33 - cmdstanpy - INFO - Chain [1] done processing\n"
     ]
    },
    {
     "name": "stdout",
     "output_type": "stream",
     "text": [
      "It's underpredicted.\n",
      "Monthly Error: 61.8 Period MAE: 63.18\n",
      "It's underpredicted.\n",
      "Monthly Error: 63.67 Period MAE:"
     ]
    },
    {
     "name": "stderr",
     "output_type": "stream",
     "text": [
      "22:42:35 - cmdstanpy - INFO - Chain [1] start processing\n"
     ]
    },
    {
     "name": "stdout",
     "output_type": "stream",
     "text": [
      " 65.0\n"
     ]
    },
    {
     "name": "stderr",
     "output_type": "stream",
     "text": [
      "22:42:36 - cmdstanpy - INFO - Chain [1] done processing\n"
     ]
    },
    {
     "name": "stdout",
     "output_type": "stream",
     "text": [
      "It's overpredicted.\n",
      "Monthly Error: 23.38 Period MAE: 10.05\n"
     ]
    },
    {
     "name": "stderr",
     "output_type": "stream",
     "text": [
      "22:42:37 - cmdstanpy - INFO - Chain [1] start processing\n"
     ]
    },
    {
     "name": "stdout",
     "output_type": "stream",
     "text": [
      "It's underpredicted.\n",
      "Monthly Error: "
     ]
    },
    {
     "name": "stderr",
     "output_type": "stream",
     "text": [
      "22:42:37 - cmdstanpy - INFO - Chain [1] done processing\n"
     ]
    },
    {
     "name": "stdout",
     "output_type": "stream",
     "text": [
      "65.12 Period MAE: 66.34\n",
      "It's underpredicted.\n",
      "Monthly Error: 67.34 Period MAE: 69.57\n"
     ]
    },
    {
     "name": "stderr",
     "output_type": "stream",
     "text": [
      "22:42:38 - cmdstanpy - INFO - Chain [1] start processing\n",
      "22:42:38 - cmdstanpy - INFO - Chain [1] start processing\n",
      "22:42:38 - cmdstanpy - INFO - Chain [1] start processing\n",
      "22:42:38 - cmdstanpy - INFO - Chain [1] done processing\n",
      "22:42:39 - cmdstanpy - INFO - Chain [1] done processing\n",
      "22:42:39 - cmdstanpy - INFO - Chain [1] done processing\n"
     ]
    },
    {
     "name": "stdout",
     "output_type": "stream",
     "text": [
      "It's underpredicted.\n",
      "Monthly Error: 63.65 Period MAE: 64.99000000000001\n"
     ]
    },
    {
     "name": "stderr",
     "output_type": "stream",
     "text": [
      "22:42:41 - cmdstanpy - INFO - Chain [1] start processing\n"
     ]
    },
    {
     "name": "stdout",
     "output_type": "stream",
     "text": [
      "It's underpredicted.\n",
      "Monthly Error:"
     ]
    },
    {
     "name": "stderr",
     "output_type": "stream",
     "text": [
      "22:42:41 - cmdstanpy - INFO - Chain [1] done processing\n"
     ]
    },
    {
     "name": "stdout",
     "output_type": "stream",
     "text": [
      " 63.58 It's overpredicted.Period MAE: \n",
      "Monthly Error:64.91 \n",
      "23.54  Period MAE:10.01\n"
     ]
    },
    {
     "name": "stderr",
     "output_type": "stream",
     "text": [
      "22:42:42 - cmdstanpy - INFO - Chain [1] start processing\n",
      "22:42:43 - cmdstanpy - INFO - Chain [1] done processing\n"
     ]
    },
    {
     "name": "stdout",
     "output_type": "stream",
     "text": [
      "It's overpredicted.\n",
      "Monthly Error: 24.82 Period MAE:"
     ]
    },
    {
     "name": "stderr",
     "output_type": "stream",
     "text": [
      "22:42:43 - cmdstanpy - INFO - Chain [1] start processing\n"
     ]
    },
    {
     "name": "stdout",
     "output_type": "stream",
     "text": [
      " 12.49\n"
     ]
    },
    {
     "name": "stderr",
     "output_type": "stream",
     "text": [
      "22:42:44 - cmdstanpy - INFO - Chain [1] done processing\n",
      "22:42:45 - cmdstanpy - INFO - Chain [1] start processing\n"
     ]
    },
    {
     "name": "stdout",
     "output_type": "stream",
     "text": [
      "It's underpredicted.\n",
      "Monthly Error: 78.74 Period MAE: 79.41\n"
     ]
    },
    {
     "name": "stderr",
     "output_type": "stream",
     "text": [
      "22:42:46 - cmdstanpy - INFO - Chain [1] done processing\n"
     ]
    },
    {
     "name": "stdout",
     "output_type": "stream",
     "text": [
      "It's underpredicted.\n",
      "Monthly Error: 68.92 Period MAE: 70.06"
     ]
    },
    {
     "name": "stderr",
     "output_type": "stream",
     "text": [
      "22:42:46 - cmdstanpy - INFO - Chain [1] start processing\n"
     ]
    },
    {
     "name": "stdout",
     "output_type": "stream",
     "text": [
      "\n"
     ]
    },
    {
     "name": "stderr",
     "output_type": "stream",
     "text": [
      "22:42:46 - cmdstanpy - INFO - Chain [1] start processing\n",
      "22:42:46 - cmdstanpy - INFO - Chain [1] done processing\n",
      "22:42:47 - cmdstanpy - INFO - Chain [1] done processing\n"
     ]
    },
    {
     "name": "stdout",
     "output_type": "stream",
     "text": [
      "It's underpredicted.\n",
      "Monthly Error: 76.55 Period MAE: 77.19\n"
     ]
    },
    {
     "name": "stderr",
     "output_type": "stream",
     "text": [
      "22:42:47 - cmdstanpy - INFO - Chain [1] start processing\n",
      "22:42:48 - cmdstanpy - INFO - Chain [1] done processing\n"
     ]
    },
    {
     "name": "stdout",
     "output_type": "stream",
     "text": [
      "It's underpredicted.\n",
      "Monthly Error: 67.65 Period MAE: 68.86\n",
      "It's underpredicted.\n",
      "Monthly Error: 58.91 Period MAE: 60.33\n"
     ]
    },
    {
     "name": "stderr",
     "output_type": "stream",
     "text": [
      "22:42:49 - cmdstanpy - INFO - Chain [1] start processing\n",
      "22:42:49 - cmdstanpy - INFO - Chain [1] done processing\n",
      "22:42:50 - cmdstanpy - INFO - Chain [1] start processing\n",
      "22:42:50 - cmdstanpy - INFO - Chain [1] done processing\n"
     ]
    },
    {
     "name": "stdout",
     "output_type": "stream",
     "text": [
      "It's underpredicted.\n",
      "Monthly Error: 67.18 Period MAE: 69.43\n",
      "It's underpredicted.\n",
      "Monthly Error: 61.53 Period MAE: 62.77\n",
      "It's underpredicted.\n",
      "Monthly Error: 77.31 Period MAE: 78.03999999999999\n"
     ]
    },
    {
     "name": "stderr",
     "output_type": "stream",
     "text": [
      "22:42:52 - cmdstanpy - INFO - Chain [1] start processing\n",
      "22:42:52 - cmdstanpy - INFO - Chain [1] done processing\n",
      "22:42:52 - cmdstanpy - INFO - Chain [1] start processing\n",
      "22:42:52 - cmdstanpy - INFO - Chain [1] start processing\n",
      "22:42:53 - cmdstanpy - INFO - Chain [1] done processing\n",
      "22:42:53 - cmdstanpy - INFO - Chain [1] done processing\n"
     ]
    },
    {
     "name": "stdout",
     "output_type": "stream",
     "text": [
      "It's underpredicted.\n",
      "Monthly Error: 75.72 Period MAE: 76.42\n",
      "It's underpredicted.\n",
      "Monthly Error: 59.01 Period MAE: 60.419999999999995\n"
     ]
    },
    {
     "name": "stderr",
     "output_type": "stream",
     "text": [
      "22:42:54 - cmdstanpy - INFO - Chain [1] start processing\n",
      "22:42:54 - cmdstanpy - INFO - Chain [1] done processing\n",
      "22:42:55 - cmdstanpy - INFO - Chain [1] start processing\n",
      "22:42:55 - cmdstanpy - INFO - Chain [1] done processing\n"
     ]
    },
    {
     "name": "stdout",
     "output_type": "stream",
     "text": [
      "It's underpredicted.\n",
      "Monthly Error: 60.98 Period MAE: 62.32\n"
     ]
    },
    {
     "name": "stderr",
     "output_type": "stream",
     "text": [
      "22:42:56 - cmdstanpy - INFO - Chain [1] start processing\n",
      "22:42:56 - cmdstanpy - INFO - Chain [1] done processing\n"
     ]
    },
    {
     "name": "stdout",
     "output_type": "stream",
     "text": [
      "It's underpredicted.\n",
      "Monthly Error: 61.45 Period MAE: 62.69\n",
      "It's underpredicted.It's overpredicted.\n",
      "\n",
      "Monthly Error:Monthly Error:  21.769.69 Period MAE:  71.49Period MAE:\n",
      " 11.09\n"
     ]
    },
    {
     "name": "stderr",
     "output_type": "stream",
     "text": [
      "22:42:58 - cmdstanpy - INFO - Chain [1] start processing\n",
      "22:42:58 - cmdstanpy - INFO - Chain [1] start processing\n",
      "22:42:58 - cmdstanpy - INFO - Chain [1] done processing\n",
      "22:42:59 - cmdstanpy - INFO - Chain [1] start processing\n",
      "22:42:59 - cmdstanpy - INFO - Chain [1] done processing\n"
     ]
    },
    {
     "name": "stdout",
     "output_type": "stream",
     "text": [
      "It's overpredicted."
     ]
    },
    {
     "name": "stderr",
     "output_type": "stream",
     "text": [
      "22:42:59 - cmdstanpy - INFO - Chain [1] done processing\n"
     ]
    },
    {
     "name": "stdout",
     "output_type": "stream",
     "text": [
      "\n",
      "Monthly Error: 22.16 Period MAE: 11.41\n"
     ]
    },
    {
     "name": "stderr",
     "output_type": "stream",
     "text": [
      "22:43:00 - cmdstanpy - INFO - Chain [1] start processing\n"
     ]
    },
    {
     "name": "stdout",
     "output_type": "stream",
     "text": [
      "It's underpredicted.\n",
      "Monthly Error:"
     ]
    },
    {
     "name": "stderr",
     "output_type": "stream",
     "text": [
      "22:43:00 - cmdstanpy - INFO - Chain [1] done processing\n"
     ]
    },
    {
     "name": "stdout",
     "output_type": "stream",
     "text": [
      " 59.37 Period MAE: 60.77\n"
     ]
    },
    {
     "name": "stderr",
     "output_type": "stream",
     "text": [
      "22:43:01 - cmdstanpy - INFO - Chain [1] start processing\n"
     ]
    },
    {
     "name": "stdout",
     "output_type": "stream",
     "text": [
      "It's underpredicted.\n",
      "Monthly Error: 60.52 Period MAE: 61.870000000000005\n"
     ]
    },
    {
     "name": "stderr",
     "output_type": "stream",
     "text": [
      "22:43:02 - cmdstanpy - INFO - Chain [1] done processing\n",
      "22:43:03 - cmdstanpy - INFO - Chain [1] start processing\n",
      "22:43:03 - cmdstanpy - INFO - Chain [1] done processing\n"
     ]
    },
    {
     "name": "stdout",
     "output_type": "stream",
     "text": [
      "It's overpredicted.\n",
      "Monthly Error: 23.0 Period MAE: 13.61\n",
      "It's underpredicted.\n",
      "Monthly Error: 62.43 Period MAE: 63.629999999999995\n",
      "It's underpredicted.\n",
      "Monthly Error: 77.25 Period MAE: 77.98\n"
     ]
    },
    {
     "name": "stderr",
     "output_type": "stream",
     "text": [
      "22:43:05 - cmdstanpy - INFO - Chain [1] start processing\n",
      "22:43:05 - cmdstanpy - INFO - Chain [1] start processing\n",
      "22:43:06 - cmdstanpy - INFO - Chain [1] start processing\n",
      "22:43:06 - cmdstanpy - INFO - Chain [1] done processing\n",
      "22:43:06 - cmdstanpy - INFO - Chain [1] done processing\n",
      "22:43:06 - cmdstanpy - INFO - Chain [1] done processing\n"
     ]
    },
    {
     "name": "stdout",
     "output_type": "stream",
     "text": [
      "It's underpredicted.\n",
      "Monthly Error: 75.65 Period MAE: 76.36\n"
     ]
    },
    {
     "name": "stderr",
     "output_type": "stream",
     "text": [
      "22:43:08 - cmdstanpy - INFO - Chain [1] start processing\n"
     ]
    },
    {
     "name": "stdout",
     "output_type": "stream",
     "text": [
      "It's underpredicted.\n",
      "Monthly Error: 73.35"
     ]
    },
    {
     "name": "stderr",
     "output_type": "stream",
     "text": [
      "22:43:08 - cmdstanpy - INFO - Chain [1] done processing\n"
     ]
    },
    {
     "name": "stdout",
     "output_type": "stream",
     "text": [
      " Period MAE: 74.39\n",
      "It's underpredicted.\n",
      "Monthly Error: 61.03 Period MAE: 62.35000000000001\n"
     ]
    },
    {
     "name": "stderr",
     "output_type": "stream",
     "text": [
      "22:43:09 - cmdstanpy - INFO - Chain [1] start processing\n",
      "22:43:09 - cmdstanpy - INFO - Chain [1] start processing\n",
      "22:43:10 - cmdstanpy - INFO - Chain [1] done processing\n",
      "22:43:10 - cmdstanpy - INFO - Chain [1] done processing\n"
     ]
    },
    {
     "name": "stdout",
     "output_type": "stream",
     "text": [
      "It's underpredicted.\n",
      "Monthly Error: 61.85 Period MAE: 64.38000000000001\n",
      "It's underpredicted.\n",
      "Monthly Error:It's underpredicted.\n",
      "Monthly Error:  92.4175.35  Period MAE: 92.89\n",
      "Period MAE: 76.21\n"
     ]
    },
    {
     "name": "stderr",
     "output_type": "stream",
     "text": [
      "22:43:12 - cmdstanpy - INFO - Chain [1] start processing\n",
      "22:43:12 - cmdstanpy - INFO - Chain [1] start processing\n",
      "22:43:12 - cmdstanpy - INFO - Chain [1] done processing\n",
      "22:43:12 - cmdstanpy - INFO - Chain [1] done processing\n",
      "22:43:13 - cmdstanpy - INFO - Chain [1] start processing\n"
     ]
    },
    {
     "name": "stdout",
     "output_type": "stream",
     "text": [
      "It's underpredicted.\n",
      "Monthly Error: 92.37 Period MAE: 92.86\n",
      "It's underpredicted.\n",
      "Monthly Error:"
     ]
    },
    {
     "name": "stderr",
     "output_type": "stream",
     "text": [
      "22:43:14 - cmdstanpy - INFO - Chain [1] done processing\n"
     ]
    },
    {
     "name": "stdout",
     "output_type": "stream",
     "text": [
      " 67.58 Period MAE: 69.08999999999999\n",
      "It's underpredicted.\n"
     ]
    },
    {
     "name": "stderr",
     "output_type": "stream",
     "text": [
      "22:43:14 - cmdstanpy - INFO - Chain [1] start processing\n"
     ]
    },
    {
     "name": "stdout",
     "output_type": "stream",
     "text": [
      "Monthly Error: 75.76 Period MAE: 76.64"
     ]
    },
    {
     "name": "stderr",
     "output_type": "stream",
     "text": [
      "22:43:14 - cmdstanpy - INFO - Chain [1] done processing\n"
     ]
    },
    {
     "name": "stdout",
     "output_type": "stream",
     "text": [
      "\n"
     ]
    },
    {
     "name": "stderr",
     "output_type": "stream",
     "text": [
      "22:43:15 - cmdstanpy - INFO - Chain [1] start processing\n",
      "22:43:15 - cmdstanpy - INFO - Chain [1] start processing\n",
      "22:43:15 - cmdstanpy - INFO - Chain [1] done processing\n",
      "22:43:15 - cmdstanpy - INFO - Chain [1] done processing\n"
     ]
    },
    {
     "name": "stdout",
     "output_type": "stream",
     "text": [
      "It's underpredicted.\n",
      "Monthly Error: 74.17 Period MAE: 75.22999999999999\n",
      "It's underpredicted.\n",
      "Monthly Error: 76.38 It's underpredicted.Period MAE:\n",
      " 77.38000000000001Monthly Error:\n",
      " 92.47 Period MAE: 92.95\n"
     ]
    },
    {
     "name": "stderr",
     "output_type": "stream",
     "text": [
      "22:43:18 - cmdstanpy - INFO - Chain [1] start processing\n",
      "22:43:18 - cmdstanpy - INFO - Chain [1] start processing\n",
      "22:43:19 - cmdstanpy - INFO - Chain [1] done processing\n",
      "22:43:19 - cmdstanpy - INFO - Chain [1] start processing\n",
      "22:43:19 - cmdstanpy - INFO - Chain [1] done processing\n",
      "22:43:19 - cmdstanpy - INFO - Chain [1] done processing\n"
     ]
    },
    {
     "name": "stdout",
     "output_type": "stream",
     "text": [
      "It's underpredicted.\n",
      "Monthly Error: 76.38 Period MAE: 77.38000000000001\n"
     ]
    },
    {
     "name": "stderr",
     "output_type": "stream",
     "text": [
      "22:43:20 - cmdstanpy - INFO - Chain [1] start processing\n"
     ]
    },
    {
     "name": "stdout",
     "output_type": "stream",
     "text": [
      "It's underpredicted.\n",
      "Monthly Error: 75.18 Period MAE: 76.08\n"
     ]
    },
    {
     "name": "stderr",
     "output_type": "stream",
     "text": [
      "22:43:20 - cmdstanpy - INFO - Chain [1] done processing\n",
      "22:43:22 - cmdstanpy - INFO - Chain [1] start processing\n"
     ]
    },
    {
     "name": "stdout",
     "output_type": "stream",
     "text": [
      "It's underpredicted.\n",
      "Monthly Error: 73.67 Period MAE: 74.82\n"
     ]
    },
    {
     "name": "stderr",
     "output_type": "stream",
     "text": [
      "22:43:23 - cmdstanpy - INFO - Chain [1] done processing\n",
      "22:43:24 - cmdstanpy - INFO - Chain [1] start processing\n",
      "22:43:24 - cmdstanpy - INFO - Chain [1] done processing\n"
     ]
    },
    {
     "name": "stdout",
     "output_type": "stream",
     "text": [
      "It's underpredicted.\n",
      "Monthly Error: 76.3 Period MAE: 77.3\n",
      "It's underpredicted.\n",
      "Monthly Error: 92.5 Period MAE: 92.97\n",
      "It's underpredicted.\n",
      "Monthly Error: 74.57 Period MAE: 75.48\n"
     ]
    },
    {
     "name": "stderr",
     "output_type": "stream",
     "text": [
      "22:43:25 - cmdstanpy - INFO - Chain [1] start processing\n",
      "22:43:25 - cmdstanpy - INFO - Chain [1] start processing\n",
      "22:43:26 - cmdstanpy - INFO - Chain [1] done processing\n",
      "22:43:26 - cmdstanpy - INFO - Chain [1] start processing\n",
      "22:43:26 - cmdstanpy - INFO - Chain [1] done processing\n",
      "22:43:26 - cmdstanpy - INFO - Chain [1] done processing\n"
     ]
    },
    {
     "name": "stdout",
     "output_type": "stream",
     "text": [
      "It's underpredicted.\n",
      "Monthly Error: 64.27 Period MAE: 65.86999999999999\n"
     ]
    },
    {
     "name": "stderr",
     "output_type": "stream",
     "text": [
      "22:43:27 - cmdstanpy - INFO - Chain [1] start processing\n"
     ]
    },
    {
     "name": "stdout",
     "output_type": "stream",
     "text": [
      "It's underpredicted.\n",
      "Monthly Error: 92.48 Period MAE: "
     ]
    },
    {
     "name": "stderr",
     "output_type": "stream",
     "text": [
      "22:43:28 - cmdstanpy - INFO - Chain [1] done processing\n"
     ]
    },
    {
     "name": "stdout",
     "output_type": "stream",
     "text": [
      "92.96\n",
      "It's underpredicted.\n",
      "Monthly Error: 76.33 Period MAE: 77.16"
     ]
    },
    {
     "name": "stderr",
     "output_type": "stream",
     "text": [
      "22:43:29 - cmdstanpy - INFO - Chain [1] start processing\n"
     ]
    },
    {
     "name": "stdout",
     "output_type": "stream",
     "text": [
      "\n"
     ]
    },
    {
     "name": "stderr",
     "output_type": "stream",
     "text": [
      "22:43:29 - cmdstanpy - INFO - Chain [1] done processing\n",
      "22:43:30 - cmdstanpy - INFO - Chain [1] start processing\n",
      "22:43:30 - cmdstanpy - INFO - Chain [1] done processing\n"
     ]
    },
    {
     "name": "stdout",
     "output_type": "stream",
     "text": [
      "It's underpredicted.\n",
      "Monthly Error: It's underpredicted.\n",
      "70.39Monthly Error:  Period MAE: 92.4971.72 Period MAE: \n",
      "92.97\n",
      "It's underpredicted.\n",
      "Monthly Error:  93.45Period MAE: 93.84\n"
     ]
    },
    {
     "name": "stderr",
     "output_type": "stream",
     "text": [
      "22:43:32 - cmdstanpy - INFO - Chain [1] start processing\n",
      "22:43:32 - cmdstanpy - INFO - Chain [1] done processing\n",
      "22:43:32 - cmdstanpy - INFO - Chain [1] start processing\n",
      "22:43:32 - cmdstanpy - INFO - Chain [1] start processing\n",
      "22:43:33 - cmdstanpy - INFO - Chain [1] done processing\n",
      "22:43:33 - cmdstanpy - INFO - Chain [1] done processing\n"
     ]
    },
    {
     "name": "stdout",
     "output_type": "stream",
     "text": [
      "It's underpredicted.\n",
      "Monthly Error: 62.04 Period MAE: 63.55\n",
      "It's underpredicted.\n",
      "Monthly Error: 93.41 Period MAE: 93.8\n"
     ]
    },
    {
     "name": "stderr",
     "output_type": "stream",
     "text": [
      "22:43:34 - cmdstanpy - INFO - Chain [1] start processing\n",
      "22:43:34 - cmdstanpy - INFO - Chain [1] done processing\n",
      "22:43:35 - cmdstanpy - INFO - Chain [1] start processing\n"
     ]
    },
    {
     "name": "stdout",
     "output_type": "stream",
     "text": [
      "It's underpredicted.\n",
      "Monthly Error: 64.63 Period MAE: 66.16\n"
     ]
    },
    {
     "name": "stderr",
     "output_type": "stream",
     "text": [
      "22:43:36 - cmdstanpy - INFO - Chain [1] done processing\n",
      "22:43:37 - cmdstanpy - INFO - Chain [1] start processing\n",
      "22:43:37 - cmdstanpy - INFO - Chain [1] done processing\n"
     ]
    },
    {
     "name": "stdout",
     "output_type": "stream",
     "text": [
      "It's underpredicted.\n",
      "Monthly Error: 93.36 Period MAE: 93.74\n",
      "It's underpredicted.\n",
      "Monthly Error: 68.38 Period MAE: 69.72\n",
      "It's underpredicted.\n",
      "Monthly Error: 77.42 Period MAE: 78.14999999999999\n"
     ]
    },
    {
     "name": "stderr",
     "output_type": "stream",
     "text": [
      "22:43:38 - cmdstanpy - INFO - Chain [1] start processing\n",
      "22:43:39 - cmdstanpy - INFO - Chain [1] start processing\n",
      "22:43:39 - cmdstanpy - INFO - Chain [1] start processing\n",
      "22:43:39 - cmdstanpy - INFO - Chain [1] done processing\n",
      "22:43:39 - cmdstanpy - INFO - Chain [1] done processing\n",
      "22:43:40 - cmdstanpy - INFO - Chain [1] done processing\n"
     ]
    },
    {
     "name": "stdout",
     "output_type": "stream",
     "text": [
      "It's underpredicted.\n",
      "Monthly Error: 65.12 Period MAE:It's underpredicted. 66.7\n",
      "\n",
      "Monthly Error: 77.07 Period MAE: 77.82\n"
     ]
    },
    {
     "name": "stderr",
     "output_type": "stream",
     "text": [
      "22:43:41 - cmdstanpy - INFO - Chain [1] start processing\n",
      "22:43:41 - cmdstanpy - INFO - Chain [1] done processing\n"
     ]
    },
    {
     "name": "stdout",
     "output_type": "stream",
     "text": [
      "It's underpredicted.\n",
      "Monthly Error: 65.18 Period MAE: 66.62\n"
     ]
    },
    {
     "name": "stderr",
     "output_type": "stream",
     "text": [
      "22:43:42 - cmdstanpy - INFO - Chain [1] start processing\n",
      "22:43:42 - cmdstanpy - INFO - Chain [1] done processing\n",
      "22:43:43 - cmdstanpy - INFO - Chain [1] start processing\n",
      "22:43:43 - cmdstanpy - INFO - Chain [1] done processing\n"
     ]
    },
    {
     "name": "stdout",
     "output_type": "stream",
     "text": [
      "It's underpredicted.\n",
      "Monthly Error: 66.47 Period MAE: 67.97\n",
      "It's underpredicted.\n",
      "Monthly Error: 77.11 Period MAE: 77.84\n",
      "It's underpredicted.\n",
      "Monthly Error: 93.03 Period MAE: 93.46\n"
     ]
    },
    {
     "name": "stderr",
     "output_type": "stream",
     "text": [
      "22:43:45 - cmdstanpy - INFO - Chain [1] start processing\n",
      "22:43:45 - cmdstanpy - INFO - Chain [1] done processing\n",
      "22:43:45 - cmdstanpy - INFO - Chain [1] start processing\n",
      "22:43:45 - cmdstanpy - INFO - Chain [1] start processing\n",
      "22:43:46 - cmdstanpy - INFO - Chain [1] done processing\n",
      "22:43:46 - cmdstanpy - INFO - Chain [1] done processing\n"
     ]
    },
    {
     "name": "stdout",
     "output_type": "stream",
     "text": [
      "It's underpredicted.\n",
      "Monthly Error: 61.85 Period MAE: 63.239999999999995\n",
      "It's underpredicted.\n",
      "Monthly Error: 93.03 Period MAE: 93.46\n"
     ]
    },
    {
     "name": "stderr",
     "output_type": "stream",
     "text": [
      "22:43:47 - cmdstanpy - INFO - Chain [1] start processing\n",
      "22:43:47 - cmdstanpy - INFO - Chain [1] done processing\n",
      "22:43:48 - cmdstanpy - INFO - Chain [1] start processing\n",
      "22:43:48 - cmdstanpy - INFO - Chain [1] done processing\n"
     ]
    },
    {
     "name": "stdout",
     "output_type": "stream",
     "text": [
      "It's underpredicted.\n",
      "Monthly Error: 68.14 Period MAE: 69.61\n"
     ]
    },
    {
     "name": "stderr",
     "output_type": "stream",
     "text": [
      "22:43:50 - cmdstanpy - INFO - Chain [1] start processing\n"
     ]
    },
    {
     "name": "stdout",
     "output_type": "stream",
     "text": [
      "It's underpredicted.\n",
      "Monthly Error: 64.63 Period MAE: 65.86It's underpredicted.\n"
     ]
    },
    {
     "name": "stderr",
     "output_type": "stream",
     "text": [
      "22:43:50 - cmdstanpy - INFO - Chain [1] done processing\n"
     ]
    },
    {
     "name": "stdout",
     "output_type": "stream",
     "text": [
      "\n",
      "Monthly Error: 93.09 Period MAE: 93.52000000000001\n",
      "It's underpredicted.\n",
      "Monthly Error: 79.0 Period MAE: 79.66\n"
     ]
    },
    {
     "name": "stderr",
     "output_type": "stream",
     "text": [
      "22:43:51 - cmdstanpy - INFO - Chain [1] start processing\n",
      "22:43:51 - cmdstanpy - INFO - Chain [1] done processing\n",
      "22:43:51 - cmdstanpy - INFO - Chain [1] start processing\n",
      "22:43:52 - cmdstanpy - INFO - Chain [1] start processing\n",
      "22:43:52 - cmdstanpy - INFO - Chain [1] done processing\n",
      "22:43:52 - cmdstanpy - INFO - Chain [1] done processing\n"
     ]
    },
    {
     "name": "stdout",
     "output_type": "stream",
     "text": [
      "It's underpredicted.\n",
      "Monthly Error: 62.02 Period MAE: 63.4\n"
     ]
    },
    {
     "name": "stderr",
     "output_type": "stream",
     "text": [
      "22:43:53 - cmdstanpy - INFO - Chain [1] start processing\n",
      "22:43:54 - cmdstanpy - INFO - Chain [1] done processing\n"
     ]
    },
    {
     "name": "stdout",
     "output_type": "stream",
     "text": [
      "It's underpredicted.\n",
      "Monthly Error: 64.18 Period MAE: 65.48\n",
      "It's underpredicted.\n",
      "Monthly Error: 76.89 Period MAE: 77.52\n"
     ]
    },
    {
     "name": "stderr",
     "output_type": "stream",
     "text": [
      "22:43:55 - cmdstanpy - INFO - Chain [1] start processing\n",
      "22:43:55 - cmdstanpy - INFO - Chain [1] start processing\n",
      "22:43:55 - cmdstanpy - INFO - Chain [1] done processing\n",
      "22:43:55 - cmdstanpy - INFO - Chain [1] done processing\n"
     ]
    },
    {
     "name": "stdout",
     "output_type": "stream",
     "text": [
      "It's underpredicted.\n",
      "Monthly Error: 66.06 Period MAE: 68.47\n",
      "It's underpredicted.\n",
      "Monthly Error: 64.73 Period MAE:It's overpredicted.\n",
      " Monthly Error:65.96 \n",
      "23.37 Period MAE: 10.040000000000001\n"
     ]
    },
    {
     "name": "stderr",
     "output_type": "stream",
     "text": [
      "22:43:58 - cmdstanpy - INFO - Chain [1] start processing\n",
      "22:43:58 - cmdstanpy - INFO - Chain [1] start processing\n",
      "22:43:58 - cmdstanpy - INFO - Chain [1] done processing\n",
      "22:43:59 - cmdstanpy - INFO - Chain [1] done processing\n",
      "22:43:59 - cmdstanpy - INFO - Chain [1] start processing\n",
      "22:43:59 - cmdstanpy - INFO - Chain [1] done processing\n"
     ]
    },
    {
     "name": "stdout",
     "output_type": "stream",
     "text": [
      "It's overpredicted.\n",
      "Monthly Error: 23.89 Period MAE: 10.620000000000001\n",
      "It's underpredicted.\n",
      "Monthly Error: 63.76 Period MAE: 65.09\n"
     ]
    },
    {
     "name": "stderr",
     "output_type": "stream",
     "text": [
      "22:44:01 - cmdstanpy - INFO - Chain [1] start processing\n",
      "22:44:01 - cmdstanpy - INFO - Chain [1] done processing\n"
     ]
    },
    {
     "name": "stdout",
     "output_type": "stream",
     "text": [
      "It's underpredicted.\n",
      "Monthly Error: 64.14 Period MAE: 65.44\n"
     ]
    },
    {
     "name": "stderr",
     "output_type": "stream",
     "text": [
      "22:44:02 - cmdstanpy - INFO - Chain [1] start processing\n",
      "22:44:02 - cmdstanpy - INFO - Chain [1] done processing\n",
      "22:44:02 - cmdstanpy - INFO - Chain [1] start processing\n",
      "22:44:03 - cmdstanpy - INFO - Chain [1] done processing\n"
     ]
    },
    {
     "name": "stdout",
     "output_type": "stream",
     "text": [
      "It's underpredicted.It's overpredicted.\n",
      "\n",
      "Monthly Error: It's underpredicted.Monthly Error:\n",
      " 78.79Monthly Error:24.36 Period MAE:  69.66 Period MAE:  79.46Period MAE:11.64\n",
      " \n",
      "70.78999999999999\n"
     ]
    },
    {
     "name": "stderr",
     "output_type": "stream",
     "text": [
      "22:44:06 - cmdstanpy - INFO - Chain [1] start processing\n",
      "22:44:06 - cmdstanpy - INFO - Chain [1] done processing\n",
      "22:44:07 - cmdstanpy - INFO - Chain [1] start processing\n",
      "22:44:07 - cmdstanpy - INFO - Chain [1] start processing\n"
     ]
    },
    {
     "name": "stdout",
     "output_type": "stream",
     "text": [
      "It's underpredicted.\n",
      "Monthly Error: 76.6 Period MAE: 77.25\n"
     ]
    },
    {
     "name": "stderr",
     "output_type": "stream",
     "text": [
      "22:44:07 - cmdstanpy - INFO - Chain [1] done processing\n",
      "22:44:07 - cmdstanpy - INFO - Chain [1] done processing\n"
     ]
    },
    {
     "name": "stdout",
     "output_type": "stream",
     "text": [
      "It's underpredicted.\n",
      "Monthly Error: 58.02 "
     ]
    },
    {
     "name": "stderr",
     "output_type": "stream",
     "text": [
      "22:44:08 - cmdstanpy - INFO - Chain [1] start processing\n"
     ]
    },
    {
     "name": "stdout",
     "output_type": "stream",
     "text": [
      "Period MAE: 59.47\n"
     ]
    },
    {
     "name": "stderr",
     "output_type": "stream",
     "text": [
      "22:44:08 - cmdstanpy - INFO - Chain [1] done processing\n",
      "22:44:08 - cmdstanpy - INFO - Chain [1] start processing\n",
      "22:44:09 - cmdstanpy - INFO - Chain [1] done processing\n"
     ]
    },
    {
     "name": "stdout",
     "output_type": "stream",
     "text": [
      "It's underpredicted.\n",
      "Monthly Error: 67.01It's underpredicted. Period MAE: 68.23\n",
      "Monthly Error:\n",
      " 62.47 Period MAE: 63.660000000000004\n"
     ]
    },
    {
     "name": "stderr",
     "output_type": "stream",
     "text": [
      "22:44:11 - cmdstanpy - INFO - Chain [1] start processing\n",
      "22:44:11 - cmdstanpy - INFO - Chain [1] done processing\n"
     ]
    },
    {
     "name": "stdout",
     "output_type": "stream",
     "text": [
      "It's underpredicted.\n",
      "Monthly Error: 77.32 Period MAE: 78.03999999999999\n",
      "It's underpredicted.\n",
      "Monthly Error: 68.26 Period MAE: 70.37\n"
     ]
    },
    {
     "name": "stderr",
     "output_type": "stream",
     "text": [
      "22:44:12 - cmdstanpy - INFO - Chain [1] start processing\n",
      "22:44:12 - cmdstanpy - INFO - Chain [1] start processing\n",
      "22:44:12 - cmdstanpy - INFO - Chain [1] done processing\n",
      "22:44:12 - cmdstanpy - INFO - Chain [1] done processing\n",
      "22:44:13 - cmdstanpy - INFO - Chain [1] start processing\n",
      "22:44:13 - cmdstanpy - INFO - Chain [1] done processing\n"
     ]
    },
    {
     "name": "stdout",
     "output_type": "stream",
     "text": [
      "It's underpredicted.\n",
      "Monthly Error: 58.98 Period MAE: 60.39\n",
      "It's underpredicted.\n",
      "Monthly Error: 60.66 Period MAE: 62.01\n"
     ]
    },
    {
     "name": "stderr",
     "output_type": "stream",
     "text": [
      "22:44:14 - cmdstanpy - INFO - Chain [1] start processing\n",
      "22:44:15 - cmdstanpy - INFO - Chain [1] done processing\n"
     ]
    },
    {
     "name": "stdout",
     "output_type": "stream",
     "text": [
      "It's underpredicted.\n",
      "Monthly Error: 76.07 Period MAE: 76.75999999999999\n"
     ]
    },
    {
     "name": "stderr",
     "output_type": "stream",
     "text": [
      "22:44:16 - cmdstanpy - INFO - Chain [1] start processing\n",
      "22:44:16 - cmdstanpy - INFO - Chain [1] done processing\n",
      "22:44:16 - cmdstanpy - INFO - Chain [1] start processing\n",
      "22:44:17 - cmdstanpy - INFO - Chain [1] done processing\n"
     ]
    },
    {
     "name": "stdout",
     "output_type": "stream",
     "text": [
      "It's underpredicted.\n",
      "Monthly Error: 64.7 Period MAE: 66.94\n",
      "It's underpredicted.\n",
      "Monthly Error: 60.96 Period MAE: 62.22\n",
      "It's overpredicted.\n",
      "Monthly Error:"
     ]
    },
    {
     "name": "stderr",
     "output_type": "stream",
     "text": [
      "22:44:18 - cmdstanpy - INFO - Chain [1] start processing\n"
     ]
    },
    {
     "name": "stdout",
     "output_type": "stream",
     "text": [
      " 21.78 Period MAE: 11.21\n"
     ]
    },
    {
     "name": "stderr",
     "output_type": "stream",
     "text": [
      "22:44:19 - cmdstanpy - INFO - Chain [1] start processing\n",
      "22:44:19 - cmdstanpy - INFO - Chain [1] start processing\n",
      "22:44:19 - cmdstanpy - INFO - Chain [1] done processing\n",
      "22:44:19 - cmdstanpy - INFO - Chain [1] done processing\n",
      "22:44:19 - cmdstanpy - INFO - Chain [1] done processing\n"
     ]
    },
    {
     "name": "stdout",
     "output_type": "stream",
     "text": [
      "It's underpredicted.\n",
      "Monthly Error: 60.48 Period MAE: It's overpredicted.61.83\n",
      "\n",
      "Monthly Error: 22.05 Period MAE: 11.23\n"
     ]
    },
    {
     "name": "stderr",
     "output_type": "stream",
     "text": [
      "22:44:21 - cmdstanpy - INFO - Chain [1] start processing\n",
      "22:44:21 - cmdstanpy - INFO - Chain [1] done processing\n"
     ]
    },
    {
     "name": "stdout",
     "output_type": "stream",
     "text": [
      "It's underpredicted.\n",
      "Monthly Error: 60.16 Period MAE: 61.53999999999999\n"
     ]
    },
    {
     "name": "stderr",
     "output_type": "stream",
     "text": [
      "22:44:22 - cmdstanpy - INFO - Chain [1] start processing\n",
      "22:44:22 - cmdstanpy - INFO - Chain [1] done processing\n",
      "22:44:23 - cmdstanpy - INFO - Chain [1] start processing\n",
      "22:44:23 - cmdstanpy - INFO - Chain [1] done processing\n"
     ]
    },
    {
     "name": "stdout",
     "output_type": "stream",
     "text": [
      "It's underpredicted.\n",
      "Monthly Error: 64.44 Period MAE:It's overpredicted. \n",
      "65.56Monthly Error:\n",
      " 23.01 Period MAE: 13.66\n",
      "It's underpredicted.\n",
      "Monthly Error:"
     ]
    },
    {
     "name": "stderr",
     "output_type": "stream",
     "text": [
      "22:44:25 - cmdstanpy - INFO - Chain [1] start processing\n"
     ]
    },
    {
     "name": "stdout",
     "output_type": "stream",
     "text": [
      " 77.28 Period MAE: 78.01\n"
     ]
    },
    {
     "name": "stderr",
     "output_type": "stream",
     "text": [
      "22:44:25 - cmdstanpy - INFO - Chain [1] start processing\n",
      "22:44:25 - cmdstanpy - INFO - Chain [1] start processing\n",
      "22:44:25 - cmdstanpy - INFO - Chain [1] done processing\n",
      "22:44:26 - cmdstanpy - INFO - Chain [1] done processing\n",
      "22:44:26 - cmdstanpy - INFO - Chain [1] done processing\n"
     ]
    },
    {
     "name": "stdout",
     "output_type": "stream",
     "text": [
      "It's underpredicted.\n",
      "Monthly Error: 75.76 Period MAE: 76.46\n"
     ]
    },
    {
     "name": "stderr",
     "output_type": "stream",
     "text": [
      "22:44:27 - cmdstanpy - INFO - Chain [1] start processing\n"
     ]
    },
    {
     "name": "stdout",
     "output_type": "stream",
     "text": [
      "It's underpredicted.\n"
     ]
    },
    {
     "name": "stderr",
     "output_type": "stream",
     "text": [
      "22:44:27 - cmdstanpy - INFO - Chain [1] done processing\n"
     ]
    },
    {
     "name": "stdout",
     "output_type": "stream",
     "text": [
      "Monthly Error: 74.15 Period MAE: 75.13\n",
      "It's underpredicted.\n",
      "Monthly Error: 60.86 Period MAE: 62.19\n"
     ]
    },
    {
     "name": "stderr",
     "output_type": "stream",
     "text": [
      "22:44:28 - cmdstanpy - INFO - Chain [1] start processing\n",
      "22:44:28 - cmdstanpy - INFO - Chain [1] done processing\n",
      "22:44:28 - cmdstanpy - INFO - Chain [1] start processing\n"
     ]
    },
    {
     "name": "stdout",
     "output_type": "stream",
     "text": [
      "It's underpredicted.\n",
      "Monthly Error: 65.69 Period MAE: 67.83\n"
     ]
    },
    {
     "name": "stderr",
     "output_type": "stream",
     "text": [
      "22:44:29 - cmdstanpy - INFO - Chain [1] done processing\n",
      "22:44:30 - cmdstanpy - INFO - Chain [1] start processing\n"
     ]
    },
    {
     "name": "stdout",
     "output_type": "stream",
     "text": [
      "It's underpredicted.\n",
      "Monthly Error: 75.65It's underpredicted.\n",
      " Period MAE:Monthly Error:  92.3876.49000000000001 \n",
      "Period MAE: 92.86999999999999\n"
     ]
    },
    {
     "name": "stderr",
     "output_type": "stream",
     "text": [
      "22:44:31 - cmdstanpy - INFO - Chain [1] start processing\n",
      "22:44:31 - cmdstanpy - INFO - Chain [1] done processing\n",
      "22:44:32 - cmdstanpy - INFO - Chain [1] done processing\n",
      "22:44:32 - cmdstanpy - INFO - Chain [1] start processing\n",
      "22:44:33 - cmdstanpy - INFO - Chain [1] done processing\n"
     ]
    },
    {
     "name": "stdout",
     "output_type": "stream",
     "text": [
      "It's underpredicted.\n",
      "It's underpredicted.Monthly Error: \n",
      "Monthly Error: 68.592.42  Period MAE:Period MAE:  92.969.97\n",
      "\n",
      "It's underpredicted.\n",
      "Monthly Error: 76.54"
     ]
    },
    {
     "name": "stderr",
     "output_type": "stream",
     "text": [
      "22:44:34 - cmdstanpy - INFO - Chain [1] start processing\n"
     ]
    },
    {
     "name": "stdout",
     "output_type": "stream",
     "text": [
      " Period MAE: 77.36\n"
     ]
    },
    {
     "name": "stderr",
     "output_type": "stream",
     "text": [
      "22:44:34 - cmdstanpy - INFO - Chain [1] done processing\n",
      "22:44:35 - cmdstanpy - INFO - Chain [1] start processing\n",
      "22:44:35 - cmdstanpy - INFO - Chain [1] done processing\n",
      "22:44:35 - cmdstanpy - INFO - Chain [1] start processing\n",
      "22:44:35 - cmdstanpy - INFO - Chain [1] done processing\n"
     ]
    },
    {
     "name": "stdout",
     "output_type": "stream",
     "text": [
      "It's underpredicted.\n",
      "Monthly Error: 71.42 Period MAE: 72.71\n",
      "It's underpredicted.\n",
      "It's underpredicted.Monthly Error:\n",
      " Monthly Error:76.19 Period MAE:  77.1992.46 \n",
      "Period MAE: 92.94\n"
     ]
    },
    {
     "name": "stderr",
     "output_type": "stream",
     "text": [
      "22:44:38 - cmdstanpy - INFO - Chain [1] start processing\n",
      "22:44:38 - cmdstanpy - INFO - Chain [1] start processing\n",
      "22:44:38 - cmdstanpy - INFO - Chain [1] done processing\n",
      "22:44:38 - cmdstanpy - INFO - Chain [1] start processing\n",
      "22:44:39 - cmdstanpy - INFO - Chain [1] done processing\n",
      "22:44:39 - cmdstanpy - INFO - Chain [1] done processing\n"
     ]
    },
    {
     "name": "stdout",
     "output_type": "stream",
     "text": [
      "It's underpredicted.\n",
      "Monthly Error: 76.38 Period MAE: 77.39\n"
     ]
    },
    {
     "name": "stderr",
     "output_type": "stream",
     "text": [
      "22:44:39 - cmdstanpy - INFO - Chain [1] start processing\n"
     ]
    },
    {
     "name": "stdout",
     "output_type": "stream",
     "text": [
      "It's underpredicted.\n",
      "Monthly Error: 72.25 Period MAE: "
     ]
    },
    {
     "name": "stderr",
     "output_type": "stream",
     "text": [
      "22:44:40 - cmdstanpy - INFO - Chain [1] done processing\n"
     ]
    },
    {
     "name": "stdout",
     "output_type": "stream",
     "text": [
      "73.4\n"
     ]
    },
    {
     "name": "stderr",
     "output_type": "stream",
     "text": [
      "22:44:41 - cmdstanpy - INFO - Chain [1] start processing\n",
      "22:44:41 - cmdstanpy - INFO - Chain [1] done processing\n"
     ]
    },
    {
     "name": "stdout",
     "output_type": "stream",
     "text": [
      "It's underpredicted.\n",
      "Monthly Error: 72.08 Period MAE: 73.36\n"
     ]
    },
    {
     "name": "stderr",
     "output_type": "stream",
     "text": [
      "22:44:42 - cmdstanpy - INFO - Chain [1] start processing\n",
      "22:44:43 - cmdstanpy - INFO - Chain [1] done processing\n"
     ]
    },
    {
     "name": "stdout",
     "output_type": "stream",
     "text": [
      "It's underpredicted.\n",
      "Monthly Error: 72.31 Period MAE: 73.42999999999999\n",
      "It's underpredicted.\n",
      "Monthly Error: 92.54 Period MAE: 93.02\n",
      "It's underpredicted.Monthly Error:\n",
      " 76.79 Period MAE:\n",
      " 77.77"
     ]
    },
    {
     "name": "stderr",
     "output_type": "stream",
     "text": [
      "22:44:44 - cmdstanpy - INFO - Chain [1] start processing\n",
      "22:44:44 - cmdstanpy - INFO - Chain [1] done processing\n",
      "22:44:44 - cmdstanpy - INFO - Chain [1] start processing\n",
      "22:44:45 - cmdstanpy - INFO - Chain [1] start processing\n",
      "22:44:45 - cmdstanpy - INFO - Chain [1] done processing\n",
      "22:44:45 - cmdstanpy - INFO - Chain [1] done processing\n"
     ]
    },
    {
     "name": "stdout",
     "output_type": "stream",
     "text": [
      "It's underpredicted.\n",
      "Monthly Error: 64.09 Period MAE: 65.69\n"
     ]
    },
    {
     "name": "stderr",
     "output_type": "stream",
     "text": [
      "22:44:46 - cmdstanpy - INFO - Chain [1] start processing\n",
      "22:44:46 - cmdstanpy - INFO - Chain [1] done processing\n"
     ]
    },
    {
     "name": "stdout",
     "output_type": "stream",
     "text": [
      "It's underpredicted.\n",
      "Monthly Error: 92.55 Period MAE: 93.02\n"
     ]
    },
    {
     "name": "stderr",
     "output_type": "stream",
     "text": [
      "22:44:48 - cmdstanpy - INFO - Chain [1] start processing\n"
     ]
    },
    {
     "name": "stdout",
     "output_type": "stream",
     "text": [
      "It's underpredicted.\n",
      "Monthly Error: 74.84 Period MAE: 75.77000000000001\n"
     ]
    },
    {
     "name": "stderr",
     "output_type": "stream",
     "text": [
      "22:44:48 - cmdstanpy - INFO - Chain [1] done processing\n",
      "22:44:49 - cmdstanpy - INFO - Chain [1] start processing\n",
      "22:44:49 - cmdstanpy - INFO - Chain [1] done processing\n"
     ]
    },
    {
     "name": "stdout",
     "output_type": "stream",
     "text": [
      "It's underpredicted.\n",
      "Monthly Error: 92.52 Period MAE: 92.99\n",
      "It's underpredicted.\n",
      "Monthly Error: 68.16 Period MAE: 69.61\n",
      "It's underpredicted.\n",
      "Monthly Error: 93.24 Period MAE: 93.65\n"
     ]
    },
    {
     "name": "stderr",
     "output_type": "stream",
     "text": [
      "22:44:51 - cmdstanpy - INFO - Chain [1] start processing\n",
      "22:44:51 - cmdstanpy - INFO - Chain [1] start processing\n",
      "22:44:51 - cmdstanpy - INFO - Chain [1] start processing\n",
      "22:44:51 - cmdstanpy - INFO - Chain [1] done processing\n",
      "22:44:51 - cmdstanpy - INFO - Chain [1] done processing\n",
      "22:44:52 - cmdstanpy - INFO - Chain [1] done processing\n"
     ]
    },
    {
     "name": "stdout",
     "output_type": "stream",
     "text": [
      "It's underpredicted.\n",
      "Monthly Error: 93.24 Period MAE: 93.65\n",
      "It's underpredicted.\n",
      "Monthly Error: 62.75 Period MAE: 64.24\n"
     ]
    },
    {
     "name": "stderr",
     "output_type": "stream",
     "text": [
      "22:44:53 - cmdstanpy - INFO - Chain [1] start processing\n",
      "22:44:54 - cmdstanpy - INFO - Chain [1] done processing\n"
     ]
    },
    {
     "name": "stdout",
     "output_type": "stream",
     "text": [
      "It's underpredicted.\n",
      "Monthly Error: 64.92 Period MAE: 66.47999999999999\n"
     ]
    },
    {
     "name": "stderr",
     "output_type": "stream",
     "text": [
      "22:44:54 - cmdstanpy - INFO - Chain [1] start processing\n",
      "22:44:54 - cmdstanpy - INFO - Chain [1] done processing\n",
      "22:44:55 - cmdstanpy - INFO - Chain [1] start processing\n",
      "22:44:56 - cmdstanpy - INFO - Chain [1] done processing\n"
     ]
    },
    {
     "name": "stdout",
     "output_type": "stream",
     "text": [
      "It's underpredicted.\n",
      "Monthly Error: 93.37 It's underpredicted.Period MAE:\n",
      " Monthly Error:93.74 \n",
      "77.03 Period MAE:77.78 \n",
      "It's underpredicted.\n",
      "Monthly Error: 63.15 Period MAE: 64.61\n"
     ]
    },
    {
     "name": "stderr",
     "output_type": "stream",
     "text": [
      "22:44:57 - cmdstanpy - INFO - Chain [1] start processing\n",
      "22:44:57 - cmdstanpy - INFO - Chain [1] start processing\n",
      "22:44:57 - cmdstanpy - INFO - Chain [1] done processing\n",
      "22:44:58 - cmdstanpy - INFO - Chain [1] start processing\n",
      "22:44:58 - cmdstanpy - INFO - Chain [1] done processing\n",
      "22:44:58 - cmdstanpy - INFO - Chain [1] done processing\n"
     ]
    },
    {
     "name": "stdout",
     "output_type": "stream",
     "text": [
      "It's underpredicted.\n",
      "Monthly Error: 63.5 Period MAE: 65.10000000000001\n"
     ]
    },
    {
     "name": "stderr",
     "output_type": "stream",
     "text": [
      "22:44:59 - cmdstanpy - INFO - Chain [1] start processing\n",
      "22:45:00 - cmdstanpy - INFO - Chain [1] done processing\n"
     ]
    },
    {
     "name": "stdout",
     "output_type": "stream",
     "text": [
      "It's underpredicted.\n",
      "Monthly Error: 77.14 Period MAE: 77.86999999999999\n",
      "It's underpredicted.\n",
      "Monthly Error: 65.15 Period MAE: "
     ]
    },
    {
     "name": "stderr",
     "output_type": "stream",
     "text": [
      "22:45:02 - cmdstanpy - INFO - Chain [1] start processing\n"
     ]
    },
    {
     "name": "stdout",
     "output_type": "stream",
     "text": [
      "66.58\n",
      "It's underpredicted.\n",
      "Monthly Error: 77.32 Period MAE: 78.03999999999999\n"
     ]
    },
    {
     "name": "stderr",
     "output_type": "stream",
     "text": [
      "22:45:02 - cmdstanpy - INFO - Chain [1] done processing\n",
      "22:45:03 - cmdstanpy - INFO - Chain [1] start processing\n",
      "22:45:03 - cmdstanpy - INFO - Chain [1] start processing\n",
      "22:45:04 - cmdstanpy - INFO - Chain [1] done processing\n",
      "22:45:04 - cmdstanpy - INFO - Chain [1] done processing\n"
     ]
    },
    {
     "name": "stdout",
     "output_type": "stream",
     "text": [
      "It's underpredicted.\n",
      "Monthly Error:It's underpredicted.\n",
      " 66.8Monthly Error: 93.36  Period MAE:Period MAE:  93.7668.30000000000001\n",
      "\n"
     ]
    },
    {
     "name": "stderr",
     "output_type": "stream",
     "text": [
      "22:45:05 - cmdstanpy - INFO - Chain [1] start processing\n",
      "22:45:06 - cmdstanpy - INFO - Chain [1] done processing\n"
     ]
    },
    {
     "name": "stdout",
     "output_type": "stream",
     "text": [
      "It's underpredicted.\n"
     ]
    },
    {
     "name": "stderr",
     "output_type": "stream",
     "text": [
      "22:45:06 - cmdstanpy - INFO - Chain [1] start processing\n"
     ]
    },
    {
     "name": "stdout",
     "output_type": "stream",
     "text": [
      "Monthly Error: 67.92 Period MAE: 69.39999999999999\n"
     ]
    },
    {
     "name": "stderr",
     "output_type": "stream",
     "text": [
      "22:45:06 - cmdstanpy - INFO - Chain [1] done processing\n",
      "22:45:06 - cmdstanpy - INFO - Chain [1] start processing\n",
      "22:45:06 - cmdstanpy - INFO - Chain [1] done processing\n"
     ]
    },
    {
     "name": "stdout",
     "output_type": "stream",
     "text": [
      "It's underpredicted.\n",
      "Monthly Error: 62.26 Period MAE: 63.63999999999999\n",
      "It's underpredicted.\n",
      "Monthly Error: 93.44 Period MAE: 93.82000000000001\n"
     ]
    },
    {
     "name": "stderr",
     "output_type": "stream",
     "text": [
      "22:45:08 - cmdstanpy - INFO - Chain [1] start processing\n",
      "22:45:08 - cmdstanpy - INFO - Chain [1] done processing\n",
      "22:45:09 - cmdstanpy - INFO - Chain [1] start processing\n",
      "22:45:09 - cmdstanpy - INFO - Chain [1] done processing\n"
     ]
    },
    {
     "name": "stdout",
     "output_type": "stream",
     "text": [
      "It's underpredicted.\n",
      "Monthly Error: 78.55It's underpredicted.\n",
      "Monthly Error: Period MAE:  79.2293.43\n",
      " Period MAE: 93.81\n",
      "It's underpredicted.\n",
      "Monthly Error: 63.71 Period MAE: 65.01\n"
     ]
    },
    {
     "name": "stderr",
     "output_type": "stream",
     "text": [
      "22:45:11 - cmdstanpy - INFO - Chain [1] start processing\n",
      "22:45:11 - cmdstanpy - INFO - Chain [1] start processing\n",
      "22:45:11 - cmdstanpy - INFO - Chain [1] done processing\n",
      "22:45:11 - cmdstanpy - INFO - Chain [1] start processing\n",
      "22:45:11 - cmdstanpy - INFO - Chain [1] done processing\n",
      "22:45:12 - cmdstanpy - INFO - Chain [1] done processing\n"
     ]
    },
    {
     "name": "stdout",
     "output_type": "stream",
     "text": [
      "It's underpredicted.\n",
      "Monthly Error: 61.96 Period MAE:It's underpredicted. \n",
      "63.349999999999994\n",
      "Monthly Error: 78.4  Period MAE:\n",
      "79.07"
     ]
    },
    {
     "name": "stderr",
     "output_type": "stream",
     "text": [
      "22:45:13 - cmdstanpy - INFO - Chain [1] start processing\n",
      "22:45:13 - cmdstanpy - INFO - Chain [1] done processing\n"
     ]
    },
    {
     "name": "stdout",
     "output_type": "stream",
     "text": [
      "It's underpredicted.\n",
      "Monthly Error: 63.31 Period MAE: 64.64\n"
     ]
    },
    {
     "name": "stderr",
     "output_type": "stream",
     "text": [
      "22:45:14 - cmdstanpy - INFO - Chain [1] start processing\n",
      "22:45:14 - cmdstanpy - INFO - Chain [1] done processing\n",
      "22:45:15 - cmdstanpy - INFO - Chain [1] start processing\n",
      "22:45:15 - cmdstanpy - INFO - Chain [1] done processing\n"
     ]
    },
    {
     "name": "stdout",
     "output_type": "stream",
     "text": [
      "It's underpredicted.\n",
      "Monthly Error: 76.74 Period MAE: 77.64999999999999\n",
      "It's overpredicted.\n",
      "Monthly Error: 21.18 Period MAE: 6.15\n"
     ]
    },
    {
     "name": "stderr",
     "output_type": "stream",
     "text": [
      "22:45:16 - cmdstanpy - INFO - Chain [1] start processing\n"
     ]
    },
    {
     "name": "stdout",
     "output_type": "stream",
     "text": [
      "It's underpredicted.\n",
      "Monthly Error: 63.57 "
     ]
    },
    {
     "name": "stderr",
     "output_type": "stream",
     "text": [
      "22:45:17 - cmdstanpy - INFO - Chain [1] done processing\n"
     ]
    },
    {
     "name": "stdout",
     "output_type": "stream",
     "text": [
      "Period MAE: 64.87\n"
     ]
    },
    {
     "name": "stderr",
     "output_type": "stream",
     "text": [
      "22:45:17 - cmdstanpy - INFO - Chain [1] start processing\n",
      "22:45:18 - cmdstanpy - INFO - Chain [1] start processing\n",
      "22:45:18 - cmdstanpy - INFO - Chain [1] done processing\n",
      "22:45:18 - cmdstanpy - INFO - Chain [1] done processing\n"
     ]
    },
    {
     "name": "stdout",
     "output_type": "stream",
     "text": [
      "It's overpredicted.\n",
      "Monthly Error: 21.11 Period MAE: 5.81\n",
      "It's underpredicted.\n"
     ]
    },
    {
     "name": "stderr",
     "output_type": "stream",
     "text": [
      "22:45:19 - cmdstanpy - INFO - Chain [1] start processing\n"
     ]
    },
    {
     "name": "stdout",
     "output_type": "stream",
     "text": [
      "Monthly Error: 62.34 Period MAE: 63.7\n"
     ]
    },
    {
     "name": "stderr",
     "output_type": "stream",
     "text": [
      "22:45:19 - cmdstanpy - INFO - Chain [1] done processing\n"
     ]
    },
    {
     "name": "stdout",
     "output_type": "stream",
     "text": [
      "It's underpredicted.\n",
      "Monthly Error: 62.89 Period MAE: 64.25\n"
     ]
    },
    {
     "name": "stderr",
     "output_type": "stream",
     "text": [
      "22:45:20 - cmdstanpy - INFO - Chain [1] start processing\n",
      "22:45:20 - cmdstanpy - INFO - Chain [1] start processing\n",
      "22:45:20 - cmdstanpy - INFO - Chain [1] done processing\n",
      "22:45:21 - cmdstanpy - INFO - Chain [1] done processing\n"
     ]
    },
    {
     "name": "stdout",
     "output_type": "stream",
     "text": [
      "It's overpredicted.\n",
      "Monthly Error: 21.73 Period MAE: 7.16\n",
      "It's underpredicted.\n",
      "Monthly Error: 78.54 Period MAE: 79.21000000000001\n",
      "It's underpredicted.\n",
      "Monthly Error: 64.02 Period MAE: 65.31\n"
     ]
    },
    {
     "name": "stderr",
     "output_type": "stream",
     "text": [
      "22:45:23 - cmdstanpy - INFO - Chain [1] start processing\n",
      "22:45:23 - cmdstanpy - INFO - Chain [1] start processing\n",
      "22:45:23 - cmdstanpy - INFO - Chain [1] start processing\n",
      "22:45:23 - cmdstanpy - INFO - Chain [1] done processing\n",
      "22:45:24 - cmdstanpy - INFO - Chain [1] done processing\n",
      "22:45:24 - cmdstanpy - INFO - Chain [1] done processing\n"
     ]
    },
    {
     "name": "stdout",
     "output_type": "stream",
     "text": [
      "It's underpredicted.\n",
      "Monthly Error: 78.39 Period MAE: 79.07\n",
      "It's underpredicted.\n"
     ]
    },
    {
     "name": "stderr",
     "output_type": "stream",
     "text": [
      "22:45:25 - cmdstanpy - INFO - Chain [1] start processing\n"
     ]
    },
    {
     "name": "stdout",
     "output_type": "stream",
     "text": [
      "Monthly Error: 57.9 "
     ]
    },
    {
     "name": "stderr",
     "output_type": "stream",
     "text": [
      "22:45:25 - cmdstanpy - INFO - Chain [1] done processing\n"
     ]
    },
    {
     "name": "stdout",
     "output_type": "stream",
     "text": [
      "Period MAE: 59.35\n"
     ]
    },
    {
     "name": "stderr",
     "output_type": "stream",
     "text": [
      "22:45:26 - cmdstanpy - INFO - Chain [1] start processing\n",
      "22:45:26 - cmdstanpy - INFO - Chain [1] done processing\n"
     ]
    },
    {
     "name": "stdout",
     "output_type": "stream",
     "text": [
      "It's underpredicted.\n",
      "Monthly Error: 63.98 Period MAE: 65.3\n"
     ]
    },
    {
     "name": "stderr",
     "output_type": "stream",
     "text": [
      "22:45:27 - cmdstanpy - INFO - Chain [1] start processing\n"
     ]
    },
    {
     "name": "stdout",
     "output_type": "stream",
     "text": [
      "It's underpredicted.\n",
      "Monthly Error: 59.52 Period MAE: 60.88\n"
     ]
    },
    {
     "name": "stderr",
     "output_type": "stream",
     "text": [
      "22:45:28 - cmdstanpy - INFO - Chain [1] done processing\n"
     ]
    },
    {
     "name": "stdout",
     "output_type": "stream",
     "text": [
      "It's underpredicted.\n",
      "Monthly Error: 77.46 Period MAE: 78.34\n",
      "It's underpredicted.\n",
      "Monthly Error: 76.61 Period MAE: 77.27000000000001\n"
     ]
    },
    {
     "name": "stderr",
     "output_type": "stream",
     "text": [
      "22:45:29 - cmdstanpy - INFO - Chain [1] start processing\n",
      "22:45:29 - cmdstanpy - INFO - Chain [1] start processing\n",
      "22:45:29 - cmdstanpy - INFO - Chain [1] done processing\n",
      "22:45:29 - cmdstanpy - INFO - Chain [1] start processing\n",
      "22:45:30 - cmdstanpy - INFO - Chain [1] done processing\n",
      "22:45:30 - cmdstanpy - INFO - Chain [1] done processing\n"
     ]
    },
    {
     "name": "stdout",
     "output_type": "stream",
     "text": [
      "It's underpredicted.\n",
      "Monthly Error: 58.25 Period MAE: 59.699999999999996\n",
      "It's underpredicted.\n",
      "Monthly Error: 76.12 Period MAE: 76.79\n"
     ]
    },
    {
     "name": "stderr",
     "output_type": "stream",
     "text": [
      "22:45:32 - cmdstanpy - INFO - Chain [1] start processing\n",
      "22:45:32 - cmdstanpy - INFO - Chain [1] done processing\n"
     ]
    },
    {
     "name": "stdout",
     "output_type": "stream",
     "text": [
      "It's underpredicted.\n",
      "Monthly Error: 58.74 Period MAE: 60.160000000000004\n"
     ]
    },
    {
     "name": "stderr",
     "output_type": "stream",
     "text": [
      "22:45:33 - cmdstanpy - INFO - Chain [1] start processing\n",
      "22:45:34 - cmdstanpy - INFO - Chain [1] start processing\n",
      "22:45:34 - cmdstanpy - INFO - Chain [1] done processing\n",
      "22:45:34 - cmdstanpy - INFO - Chain [1] done processing\n"
     ]
    },
    {
     "name": "stdout",
     "output_type": "stream",
     "text": [
      "It's underpredicted.\n",
      "Monthly Error: 75.08 Period MAE: 75.97\n",
      "It's underpredicted.\n",
      "Monthly Error: 60.2It's overpredicted. \n",
      "Period MAE:Monthly Error: 61.529999999999994 20.9\n",
      " Period MAE: 9.91\n"
     ]
    },
    {
     "name": "stderr",
     "output_type": "stream",
     "text": [
      "22:45:36 - cmdstanpy - INFO - Chain [1] start processing\n",
      "22:45:37 - cmdstanpy - INFO - Chain [1] done processing\n",
      "22:45:37 - cmdstanpy - INFO - Chain [1] start processing\n",
      "22:45:37 - cmdstanpy - INFO - Chain [1] start processing\n",
      "22:45:37 - cmdstanpy - INFO - Chain [1] done processing\n"
     ]
    },
    {
     "name": "stdout",
     "output_type": "stream",
     "text": [
      "It's overpredicted.\n",
      "Monthly Error: 21.18 Period MAE: 10.13"
     ]
    },
    {
     "name": "stderr",
     "output_type": "stream",
     "text": [
      "22:45:38 - cmdstanpy - INFO - Chain [1] done processing\n"
     ]
    },
    {
     "name": "stdout",
     "output_type": "stream",
     "text": [
      "\n"
     ]
    },
    {
     "name": "stderr",
     "output_type": "stream",
     "text": [
      "22:45:38 - cmdstanpy - INFO - Chain [1] start processing\n",
      "22:45:38 - cmdstanpy - INFO - Chain [1] done processing\n"
     ]
    },
    {
     "name": "stdout",
     "output_type": "stream",
     "text": [
      "It's underpredicted.\n",
      "Monthly Error: 58.66 Period MAE: 60.089999999999996\n"
     ]
    },
    {
     "name": "stderr",
     "output_type": "stream",
     "text": [
      "22:45:40 - cmdstanpy - INFO - Chain [1] start processing\n"
     ]
    },
    {
     "name": "stdout",
     "output_type": "stream",
     "text": [
      "It's underpredicted.\n",
      "Monthly Error: 59.61 Period MAE: 61.01\n"
     ]
    },
    {
     "name": "stderr",
     "output_type": "stream",
     "text": [
      "22:45:40 - cmdstanpy - INFO - Chain [1] done processing\n"
     ]
    },
    {
     "name": "stdout",
     "output_type": "stream",
     "text": [
      "It's overpredicted.\n",
      "Monthly Error: 20.93 Period MAE: 10.040000000000001"
     ]
    },
    {
     "name": "stderr",
     "output_type": "stream",
     "text": [
      "22:45:41 - cmdstanpy - INFO - Chain [1] start processing\n"
     ]
    },
    {
     "name": "stdout",
     "output_type": "stream",
     "text": [
      "\n"
     ]
    },
    {
     "name": "stderr",
     "output_type": "stream",
     "text": [
      "22:45:41 - cmdstanpy - INFO - Chain [1] done processing\n"
     ]
    },
    {
     "name": "stdout",
     "output_type": "stream",
     "text": [
      "It's underpredicted.\n",
      "Monthly Error: 59.99 Period MAE: 61.31999999999999\n",
      "It's underpredicted.\n",
      "Monthly Error: 76.34 Period MAE: 77.01\n"
     ]
    },
    {
     "name": "stderr",
     "output_type": "stream",
     "text": [
      "22:45:42 - cmdstanpy - INFO - Chain [1] start processing\n",
      "22:45:43 - cmdstanpy - INFO - Chain [1] start processing\n",
      "22:45:43 - cmdstanpy - INFO - Chain [1] done processing\n",
      "22:45:43 - cmdstanpy - INFO - Chain [1] done processing\n",
      "22:45:43 - cmdstanpy - INFO - Chain [1] start processing\n",
      "22:45:44 - cmdstanpy - INFO - Chain [1] done processing\n"
     ]
    },
    {
     "name": "stdout",
     "output_type": "stream",
     "text": [
      "It's underpredicted.\n",
      "Monthly Error: 73.62 Period MAE: 74.64\n"
     ]
    },
    {
     "name": "stderr",
     "output_type": "stream",
     "text": [
      "22:45:45 - cmdstanpy - INFO - Chain [1] start processing\n",
      "22:45:45 - cmdstanpy - INFO - Chain [1] done processing\n"
     ]
    },
    {
     "name": "stdout",
     "output_type": "stream",
     "text": [
      "It's underpredicted.\n",
      "Monthly Error: 60.63 Period MAE: 61.980000000000004\n",
      "It's underpredicted.\n",
      "Monthly Error: 76.29 Period MAE: 76.96\n"
     ]
    },
    {
     "name": "stderr",
     "output_type": "stream",
     "text": [
      "22:45:47 - cmdstanpy - INFO - Chain [1] start processing\n",
      "22:45:47 - cmdstanpy - INFO - Chain [1] start processing\n",
      "22:45:47 - cmdstanpy - INFO - Chain [1] done processing\n",
      "22:45:47 - cmdstanpy - INFO - Chain [1] done processing\n"
     ]
    },
    {
     "name": "stdout",
     "output_type": "stream",
     "text": [
      "It's underpredicted.\n",
      "Monthly Error: 74.92 Period MAE: 75.81\n",
      "It's underpredicted.\n",
      "Monthly Error: 92.38 Period MAE: 92.86\n",
      "It's underpredicted.\n",
      "Monthly Error: 73.59 Period MAE: 74.61\n"
     ]
    },
    {
     "name": "stderr",
     "output_type": "stream",
     "text": [
      "22:45:49 - cmdstanpy - INFO - Chain [1] start processing\n",
      "22:45:50 - cmdstanpy - INFO - Chain [1] start processing\n",
      "22:45:50 - cmdstanpy - INFO - Chain [1] start processing\n",
      "22:45:50 - cmdstanpy - INFO - Chain [1] done processing\n",
      "22:45:50 - cmdstanpy - INFO - Chain [1] done processing\n",
      "22:45:50 - cmdstanpy - INFO - Chain [1] done processing\n"
     ]
    },
    {
     "name": "stdout",
     "output_type": "stream",
     "text": [
      "It's underpredicted.\n",
      "It's underpredicted.Monthly Error: \n",
      "Monthly Error:92.38  Period MAE: 92.86\n",
      "66.87 Period MAE: 68.39\n"
     ]
    },
    {
     "name": "stderr",
     "output_type": "stream",
     "text": [
      "22:45:52 - cmdstanpy - INFO - Chain [1] start processing\n",
      "22:45:52 - cmdstanpy - INFO - Chain [1] done processing\n"
     ]
    },
    {
     "name": "stdout",
     "output_type": "stream",
     "text": [
      "It's underpredicted.\n",
      "Monthly Error: 73.19 Period MAE: 74.24\n"
     ]
    },
    {
     "name": "stderr",
     "output_type": "stream",
     "text": [
      "22:45:52 - cmdstanpy - INFO - Chain [1] start processing\n",
      "22:45:53 - cmdstanpy - INFO - Chain [1] done processing\n",
      "22:45:53 - cmdstanpy - INFO - Chain [1] start processing\n",
      "22:45:54 - cmdstanpy - INFO - Chain [1] done processing\n"
     ]
    },
    {
     "name": "stdout",
     "output_type": "stream",
     "text": [
      "It's underpredicted.\n",
      "Monthly Error: 92.4 Period MAE: 92.88\n",
      "It's underpredicted.\n",
      "Monthly Error: 69.11 Period MAE: 70.55\n",
      "It's underpredicted.\n",
      "Monthly Error: 77.33 Period MAE: 78.3\n"
     ]
    },
    {
     "name": "stderr",
     "output_type": "stream",
     "text": [
      "22:45:56 - cmdstanpy - INFO - Chain [1] start processing\n",
      "22:45:56 - cmdstanpy - INFO - Chain [1] start processing\n",
      "22:45:56 - cmdstanpy - INFO - Chain [1] done processing\n",
      "22:45:56 - cmdstanpy - INFO - Chain [1] start processing\n",
      "22:45:56 - cmdstanpy - INFO - Chain [1] done processing\n",
      "22:45:56 - cmdstanpy - INFO - Chain [1] done processing\n"
     ]
    },
    {
     "name": "stdout",
     "output_type": "stream",
     "text": [
      "It's underpredicted.\n",
      "Monthly Error: 72.74 Period MAE: 73.83999999999999\n",
      "It's underpredicted.\n",
      "Monthly Error: 77.34 Period MAE: 78.3\n"
     ]
    },
    {
     "name": "stderr",
     "output_type": "stream",
     "text": [
      "22:45:58 - cmdstanpy - INFO - Chain [1] start processing\n",
      "22:45:58 - cmdstanpy - INFO - Chain [1] done processing\n"
     ]
    },
    {
     "name": "stdout",
     "output_type": "stream",
     "text": [
      "It's underpredicted.\n",
      "Monthly Error: 69.61 Period MAE: 71.03\n"
     ]
    },
    {
     "name": "stderr",
     "output_type": "stream",
     "text": [
      "22:45:59 - cmdstanpy - INFO - Chain [1] start processing\n",
      "22:45:59 - cmdstanpy - INFO - Chain [1] done processing\n",
      "22:46:00 - cmdstanpy - INFO - Chain [1] start processing\n",
      "22:46:00 - cmdstanpy - INFO - Chain [1] done processing\n"
     ]
    },
    {
     "name": "stdout",
     "output_type": "stream",
     "text": [
      "It's underpredicted.\n",
      "Monthly Error: 77.3 Period MAE: 78.25999999999999\n",
      "It's underpredicted.\n",
      "Monthly Error: 73.22 Period MAE: 74.28\n"
     ]
    },
    {
     "name": "stderr",
     "output_type": "stream",
     "text": [
      "22:46:02 - cmdstanpy - INFO - Chain [1] start processing\n",
      "22:46:02 - cmdstanpy - INFO - Chain [1] done processing\n"
     ]
    },
    {
     "name": "stdout",
     "output_type": "stream",
     "text": [
      "It's underpredicted.\n",
      "Monthly Error: 92.37 Period MAE: 92.86\n"
     ]
    },
    {
     "name": "stderr",
     "output_type": "stream",
     "text": [
      "22:46:03 - cmdstanpy - INFO - Chain [1] start processing\n",
      "22:46:04 - cmdstanpy - INFO - Chain [1] start processing\n"
     ]
    },
    {
     "name": "stdout",
     "output_type": "stream",
     "text": [
      "It's underpredicted.\n",
      "Monthly Error: 92.37 "
     ]
    },
    {
     "name": "stderr",
     "output_type": "stream",
     "text": [
      "22:46:04 - cmdstanpy - INFO - Chain [1] done processing\n"
     ]
    },
    {
     "name": "stdout",
     "output_type": "stream",
     "text": [
      "Period MAE: 92.86\n"
     ]
    },
    {
     "name": "stderr",
     "output_type": "stream",
     "text": [
      "22:46:05 - cmdstanpy - INFO - Chain [1] start processing\n",
      "22:46:05 - cmdstanpy - INFO - Chain [1] done processing\n"
     ]
    },
    {
     "name": "stdout",
     "output_type": "stream",
     "text": [
      "It's underpredicted."
     ]
    },
    {
     "name": "stderr",
     "output_type": "stream",
     "text": [
      "22:46:05 - cmdstanpy - INFO - Chain [1] done processing\n"
     ]
    },
    {
     "name": "stdout",
     "output_type": "stream",
     "text": [
      "\n",
      "Monthly Error: 73.32 Period MAE: 74.37\n",
      "It's underpredicted."
     ]
    },
    {
     "name": "stderr",
     "output_type": "stream",
     "text": [
      "22:46:06 - cmdstanpy - INFO - Chain [1] start processing\n"
     ]
    },
    {
     "name": "stdout",
     "output_type": "stream",
     "text": [
      "\n",
      "Monthly Error: 63.21 Period MAE: 64.83\n"
     ]
    },
    {
     "name": "stderr",
     "output_type": "stream",
     "text": [
      "22:46:06 - cmdstanpy - INFO - Chain [1] done processing\n",
      "22:46:07 - cmdstanpy - INFO - Chain [1] start processing\n",
      "22:46:07 - cmdstanpy - INFO - Chain [1] done processing\n"
     ]
    },
    {
     "name": "stdout",
     "output_type": "stream",
     "text": [
      "It's underpredicted.\n",
      "Monthly Error: 64.04 Period MAE: 65.64\n",
      "It's underpredicted.\n",
      "Monthly Error: 93.49 Period MAE: 93.78999999999999\n"
     ]
    },
    {
     "name": "stderr",
     "output_type": "stream",
     "text": [
      "22:46:09 - cmdstanpy - INFO - Chain [1] start processing\n"
     ]
    },
    {
     "name": "stdout",
     "output_type": "stream",
     "text": [
      "It's underpredicted.\n"
     ]
    },
    {
     "name": "stderr",
     "output_type": "stream",
     "text": [
      "22:46:10 - cmdstanpy - INFO - Chain [1] done processing\n"
     ]
    },
    {
     "name": "stdout",
     "output_type": "stream",
     "text": [
      "Monthly Error: 92.52 Period MAE: 92.99\n"
     ]
    },
    {
     "name": "stderr",
     "output_type": "stream",
     "text": [
      "22:46:10 - cmdstanpy - INFO - Chain [1] start processing\n",
      "22:46:10 - cmdstanpy - INFO - Chain [1] start processing\n",
      "22:46:10 - cmdstanpy - INFO - Chain [1] done processing\n"
     ]
    },
    {
     "name": "stdout",
     "output_type": "stream",
     "text": [
      "It's underpredicted.\n",
      "Monthly Error: 93.49 Period MAE: 93.78999999999999\n"
     ]
    },
    {
     "name": "stderr",
     "output_type": "stream",
     "text": [
      "22:46:11 - cmdstanpy - INFO - Chain [1] done processing\n",
      "22:46:11 - cmdstanpy - INFO - Chain [1] start processing\n",
      "22:46:11 - cmdstanpy - INFO - Chain [1] done processing\n"
     ]
    },
    {
     "name": "stdout",
     "output_type": "stream",
     "text": [
      "It's underpredicted.\n",
      "Monthly Error: 64.54 Period MAE: 66.13\n",
      "It's underpredicted.\n",
      "Monthly Error: 62.29 Period MAE: 63.79\n"
     ]
    },
    {
     "name": "stderr",
     "output_type": "stream",
     "text": [
      "22:46:13 - cmdstanpy - INFO - Chain [1] start processing\n",
      "22:46:13 - cmdstanpy - INFO - Chain [1] done processing\n",
      "22:46:13 - cmdstanpy - INFO - Chain [1] start processing\n",
      "22:46:14 - cmdstanpy - INFO - Chain [1] done processing\n"
     ]
    },
    {
     "name": "stdout",
     "output_type": "stream",
     "text": [
      "It's underpredicted.\n",
      "Monthly Error: 78.39 Period MAE: 79.03999999999999\n",
      "It's underpredicted.\n",
      "Monthly Error: 93.5 Period MAE: 93.8It's underpredicted.\n",
      "\n",
      "Monthly Error: 62.75 Period MAE: 64.24\n"
     ]
    },
    {
     "name": "stderr",
     "output_type": "stream",
     "text": [
      "22:46:15 - cmdstanpy - INFO - Chain [1] start processing\n",
      "22:46:16 - cmdstanpy - INFO - Chain [1] done processing\n",
      "22:46:16 - cmdstanpy - INFO - Chain [1] start processing\n",
      "22:46:16 - cmdstanpy - INFO - Chain [1] start processing\n",
      "22:46:17 - cmdstanpy - INFO - Chain [1] done processing\n",
      "22:46:17 - cmdstanpy - INFO - Chain [1] done processing\n"
     ]
    },
    {
     "name": "stdout",
     "output_type": "stream",
     "text": [
      "It's underpredicted.\n",
      "Monthly Error: 62.91 Period MAE: 64.53\n"
     ]
    },
    {
     "name": "stderr",
     "output_type": "stream",
     "text": [
      "22:46:18 - cmdstanpy - INFO - Chain [1] start processing\n",
      "22:46:18 - cmdstanpy - INFO - Chain [1] done processing\n"
     ]
    },
    {
     "name": "stdout",
     "output_type": "stream",
     "text": [
      "It's underpredicted.\n",
      "Monthly Error: 78.46 Period MAE: 79.10000000000001\n",
      "It's underpredicted.\n",
      "Monthly Error: 62.84 Period MAE: 64.33\n"
     ]
    },
    {
     "name": "stderr",
     "output_type": "stream",
     "text": [
      "22:46:19 - cmdstanpy - INFO - Chain [1] start processing\n",
      "22:46:20 - cmdstanpy - INFO - Chain [1] done processing\n"
     ]
    },
    {
     "name": "stdout",
     "output_type": "stream",
     "text": [
      "It's underpredicted.\n"
     ]
    },
    {
     "name": "stderr",
     "output_type": "stream",
     "text": [
      "22:46:21 - cmdstanpy - INFO - Chain [1] start processing\n"
     ]
    },
    {
     "name": "stdout",
     "output_type": "stream",
     "text": [
      "Monthly Error: 78.4 Period MAE: 79.03999999999999\n"
     ]
    },
    {
     "name": "stderr",
     "output_type": "stream",
     "text": [
      "22:46:21 - cmdstanpy - INFO - Chain [1] done processing\n"
     ]
    },
    {
     "name": "stdout",
     "output_type": "stream",
     "text": [
      "It's underpredicted.\n",
      "Monthly Error: 63.44 It's underpredicted.\n",
      "Period MAE: Monthly Error: 93.565.05 \n",
      "Period MAE: 93.8\n"
     ]
    },
    {
     "name": "stderr",
     "output_type": "stream",
     "text": [
      "22:46:22 - cmdstanpy - INFO - Chain [1] start processing\n",
      "22:46:23 - cmdstanpy - INFO - Chain [1] start processing\n",
      "22:46:23 - cmdstanpy - INFO - Chain [1] done processing\n",
      "22:46:23 - cmdstanpy - INFO - Chain [1] done processing\n"
     ]
    },
    {
     "name": "stdout",
     "output_type": "stream",
     "text": [
      "It's underpredicted.\n",
      "Monthly Error: 93.51 Period MAE: 93.81\n",
      "It's underpredicted.\n",
      "Monthly Error: 64.3 Period MAE: 65.9\n",
      "It's underpredicted.\n",
      "Monthly Error: 93.51 Period MAE: 93.81\n"
     ]
    },
    {
     "name": "stderr",
     "output_type": "stream",
     "text": [
      "100%|██████████| 1/1 [23:53<00:00, 1433.76s/it]\n",
      "22:46:28 - cmdstanpy - INFO - Chain [1] start processing\n",
      "22:46:28 - cmdstanpy - INFO - Chain [1] start processing\n",
      "22:46:29 - cmdstanpy - INFO - Chain [1] done processing\n",
      "22:46:29 - cmdstanpy - INFO - Chain [1] done processing\n",
      "22:46:29 - cmdstanpy - INFO - Chain [1] start processing\n",
      "22:46:29 - cmdstanpy - INFO - Chain [1] start processing\n",
      "22:46:29 - cmdstanpy - INFO - Chain [1] done processing\n",
      "22:46:29 - cmdstanpy - INFO - Chain [1] done processing\n"
     ]
    },
    {
     "name": "stdout",
     "output_type": "stream",
     "text": [
      "It's underpredicted.\n",
      "Monthly Error: 26.03 Period MAE: 19.89\n",
      "It's underpredicted.\n",
      "Monthly Error: 29.21 Period MAE: 25.05\n"
     ]
    },
    {
     "name": "stderr",
     "output_type": "stream",
     "text": [
      "22:46:31 - cmdstanpy - INFO - Chain [1] start processing\n",
      "22:46:32 - cmdstanpy - INFO - Chain [1] start processing\n"
     ]
    },
    {
     "name": "stdout",
     "output_type": "stream",
     "text": [
      "It's underpredicted."
     ]
    },
    {
     "name": "stderr",
     "output_type": "stream",
     "text": [
      "22:46:32 - cmdstanpy - INFO - Chain [1] done processing\n"
     ]
    },
    {
     "name": "stdout",
     "output_type": "stream",
     "text": [
      "\n",
      "It's underpredicted.Monthly Error:\n",
      "Monthly Error:  50.4951.59  "
     ]
    },
    {
     "name": "stderr",
     "output_type": "stream",
     "text": [
      "22:46:32 - cmdstanpy - INFO - Chain [1] done processing\n"
     ]
    },
    {
     "name": "stdout",
     "output_type": "stream",
     "text": [
      "Period MAE:Period MAE:  52.56999999999999\n",
      "51.449999999999996\n"
     ]
    },
    {
     "name": "stderr",
     "output_type": "stream",
     "text": [
      "22:46:33 - cmdstanpy - INFO - Chain [1] start processing\n",
      "22:46:33 - cmdstanpy - INFO - Chain [1] start processing\n",
      "22:46:33 - cmdstanpy - INFO - Chain [1] done processing\n",
      "22:46:33 - cmdstanpy - INFO - Chain [1] done processing\n"
     ]
    },
    {
     "name": "stdout",
     "output_type": "stream",
     "text": [
      "It's underpredicted.\n",
      "Monthly Error: 24.61 Period MAE: 16.900000000000002\n",
      "It's underpredicted.\n",
      "Monthly Error: 26.33 Period MAE: 20.380000000000003\n"
     ]
    },
    {
     "name": "stderr",
     "output_type": "stream",
     "text": [
      "22:46:35 - cmdstanpy - INFO - Chain [1] start processing\n",
      "22:46:36 - cmdstanpy - INFO - Chain [1] done processing\n"
     ]
    },
    {
     "name": "stdout",
     "output_type": "stream",
     "text": [
      "It's underpredicted.\n",
      "Monthly Error: 39.6 Period MAE: 41.05\n"
     ]
    },
    {
     "name": "stderr",
     "output_type": "stream",
     "text": [
      "22:46:36 - cmdstanpy - INFO - Chain [1] start processing\n",
      "22:46:37 - cmdstanpy - INFO - Chain [1] done processing\n"
     ]
    },
    {
     "name": "stdout",
     "output_type": "stream",
     "text": [
      "It's overpredicted.\n",
      "Monthly Error: 49.36 Period MAE: 44.79\n"
     ]
    },
    {
     "name": "stderr",
     "output_type": "stream",
     "text": [
      "22:46:37 - cmdstanpy - INFO - Chain [1] start processing\n"
     ]
    },
    {
     "name": "stdout",
     "output_type": "stream",
     "text": [
      "It's underpredicted.\n",
      "Monthly Error: 29.22 Period MAE: 25.080000000000002\n"
     ]
    },
    {
     "name": "stderr",
     "output_type": "stream",
     "text": [
      "22:46:38 - cmdstanpy - INFO - Chain [1] start processing\n",
      "22:46:38 - cmdstanpy - INFO - Chain [1] done processing\n",
      "22:46:38 - cmdstanpy - INFO - Chain [1] start processing\n",
      "22:46:38 - cmdstanpy - INFO - Chain [1] done processing\n",
      "22:46:39 - cmdstanpy - INFO - Chain [1] done processing\n"
     ]
    },
    {
     "name": "stdout",
     "output_type": "stream",
     "text": [
      "It's underpredicted.\n",
      "Monthly Error: 37.48 Period MAE: 36.17\n",
      "It's overpredicted.\n",
      "Monthly Error: "
     ]
    },
    {
     "name": "stderr",
     "output_type": "stream",
     "text": [
      "22:46:41 - cmdstanpy - INFO - Chain [1] start processing\n"
     ]
    },
    {
     "name": "stdout",
     "output_type": "stream",
     "text": [
      "46.64 Period MAE: 42.01\n"
     ]
    },
    {
     "name": "stderr",
     "output_type": "stream",
     "text": [
      "22:46:41 - cmdstanpy - INFO - Chain [1] done processing\n"
     ]
    },
    {
     "name": "stdout",
     "output_type": "stream",
     "text": [
      "It's underpredicted.\n",
      "Monthly Error: 24.5 Period MAE: 16.75\n"
     ]
    },
    {
     "name": "stderr",
     "output_type": "stream",
     "text": [
      "22:46:42 - cmdstanpy - INFO - Chain [1] start processing\n",
      "22:46:42 - cmdstanpy - INFO - Chain [1] start processing\n",
      "22:46:42 - cmdstanpy - INFO - Chain [1] done processing\n",
      "22:46:42 - cmdstanpy - INFO - Chain [1] done processing\n"
     ]
    },
    {
     "name": "stdout",
     "output_type": "stream",
     "text": [
      "It's overpredicted.\n",
      "Monthly Error: 49.36 Period MAE: 44.81\n"
     ]
    },
    {
     "name": "stderr",
     "output_type": "stream",
     "text": [
      "22:46:44 - cmdstanpy - INFO - Chain [1] start processing\n"
     ]
    },
    {
     "name": "stdout",
     "output_type": "stream",
     "text": [
      "It's underpredicted.\n",
      "It's underpredicted.Monthly Error:\n",
      " 50.5 Period MAE: Monthly Error:51.459999999999994 \n",
      "41.61 Period MAE: 42.15\n"
     ]
    },
    {
     "name": "stderr",
     "output_type": "stream",
     "text": [
      "22:46:45 - cmdstanpy - INFO - Chain [1] start processing\n",
      "22:46:45 - cmdstanpy - INFO - Chain [1] done processing\n",
      "22:46:45 - cmdstanpy - INFO - Chain [1] done processing\n",
      "22:46:46 - cmdstanpy - INFO - Chain [1] start processing\n",
      "22:46:46 - cmdstanpy - INFO - Chain [1] done processing\n"
     ]
    },
    {
     "name": "stdout",
     "output_type": "stream",
     "text": [
      "It's underpredicted.\n",
      "Monthly Error: 51.01 Period MAE: 51.99\n",
      "It's underpredicted.\n",
      "Monthly Error: 33.59 Period MAE: "
     ]
    },
    {
     "name": "stderr",
     "output_type": "stream",
     "text": [
      "22:46:47 - cmdstanpy - INFO - Chain [1] start processing\n"
     ]
    },
    {
     "name": "stdout",
     "output_type": "stream",
     "text": [
      "34.4\n"
     ]
    },
    {
     "name": "stderr",
     "output_type": "stream",
     "text": [
      "22:46:48 - cmdstanpy - INFO - Chain [1] done processing\n",
      "22:46:48 - cmdstanpy - INFO - Chain [1] start processing\n"
     ]
    },
    {
     "name": "stdout",
     "output_type": "stream",
     "text": [
      "It's underpredicted.\n",
      "Monthly Error:"
     ]
    },
    {
     "name": "stderr",
     "output_type": "stream",
     "text": [
      "22:46:49 - cmdstanpy - INFO - Chain [1] done processing\n"
     ]
    },
    {
     "name": "stdout",
     "output_type": "stream",
     "text": [
      " 37.19 Period MAE: 33.57\n"
     ]
    },
    {
     "name": "stderr",
     "output_type": "stream",
     "text": [
      "22:46:50 - cmdstanpy - INFO - Chain [1] start processing\n",
      "22:46:50 - cmdstanpy - INFO - Chain [1] done processing\n"
     ]
    },
    {
     "name": "stdout",
     "output_type": "stream",
     "text": [
      "It's underpredicted.\n",
      "Monthly Error: 37.35 Period MAE: 38.15\n",
      "It's underpredicted.\n",
      "Monthly Error: 29.16 Period MAE: It's underpredicted.7.08\n",
      "\n",
      "Monthly Error: 38.93 Period MAE: 40.400000000000006\n"
     ]
    },
    {
     "name": "stderr",
     "output_type": "stream",
     "text": [
      "22:46:52 - cmdstanpy - INFO - Chain [1] start processing\n",
      "22:46:52 - cmdstanpy - INFO - Chain [1] start processing\n",
      "22:46:52 - cmdstanpy - INFO - Chain [1] done processing\n",
      "22:46:53 - cmdstanpy - INFO - Chain [1] start processing\n",
      "22:46:53 - cmdstanpy - INFO - Chain [1] done processing\n",
      "22:46:53 - cmdstanpy - INFO - Chain [1] done processing\n"
     ]
    },
    {
     "name": "stdout",
     "output_type": "stream",
     "text": [
      "It's overpredicted.\n",
      "Monthly Error: 33.1 Period MAE: 3.9899999999999998\n",
      "It's underpredicted.\n",
      "Monthly Error: 47.62 Period MAE: 50.28\n"
     ]
    },
    {
     "name": "stderr",
     "output_type": "stream",
     "text": [
      "22:46:54 - cmdstanpy - INFO - Chain [1] start processing\n",
      "22:46:54 - cmdstanpy - INFO - Chain [1] done processing\n"
     ]
    },
    {
     "name": "stdout",
     "output_type": "stream",
     "text": [
      "It's underpredicted.\n",
      "Monthly Error: 31.91 Period MAE: 31.319999999999997\n"
     ]
    },
    {
     "name": "stderr",
     "output_type": "stream",
     "text": [
      "22:46:55 - cmdstanpy - INFO - Chain [1] start processing\n",
      "22:46:56 - cmdstanpy - INFO - Chain [1] done processing\n",
      "22:46:56 - cmdstanpy - INFO - Chain [1] start processing\n",
      "22:46:56 - cmdstanpy - INFO - Chain [1] done processing\n"
     ]
    },
    {
     "name": "stdout",
     "output_type": "stream",
     "text": [
      "It's underpredicted.\n",
      "Monthly Error: 50.3 Period MAE: 52.87\n",
      "It's underpredicted.\n",
      "Monthly Error: 36.0 Period MAE: 8.540000000000001\n",
      "It's overpredicted.\n",
      "Monthly Error: 44.88 Period MAE: 39.4"
     ]
    },
    {
     "name": "stderr",
     "output_type": "stream",
     "text": [
      "22:46:58 - cmdstanpy - INFO - Chain [1] start processing\n"
     ]
    },
    {
     "name": "stdout",
     "output_type": "stream",
     "text": [
      "\n"
     ]
    },
    {
     "name": "stderr",
     "output_type": "stream",
     "text": [
      "22:46:59 - cmdstanpy - INFO - Chain [1] start processing\n",
      "22:46:59 - cmdstanpy - INFO - Chain [1] done processing\n"
     ]
    },
    {
     "name": "stdout",
     "output_type": "stream",
     "text": [
      "It's overpredicted.\n",
      "Monthly Error: "
     ]
    },
    {
     "name": "stderr",
     "output_type": "stream",
     "text": [
      "22:46:59 - cmdstanpy - INFO - Chain [1] done processing\n"
     ]
    },
    {
     "name": "stdout",
     "output_type": "stream",
     "text": [
      "43.43 Period MAE: 38.11\n"
     ]
    },
    {
     "name": "stderr",
     "output_type": "stream",
     "text": [
      "22:46:59 - cmdstanpy - INFO - Chain [1] start processing\n",
      "22:46:59 - cmdstanpy - INFO - Chain [1] start processing\n",
      "22:47:00 - cmdstanpy - INFO - Chain [1] done processing\n",
      "22:47:00 - cmdstanpy - INFO - Chain [1] done processing\n"
     ]
    },
    {
     "name": "stdout",
     "output_type": "stream",
     "text": [
      "It's underpredicted.\n",
      "Monthly Error: 42.85 Period MAE: 44.45\n",
      "It's underpredicted.\n",
      "Monthly Error: 44.5 Period MAE: 46.94\n"
     ]
    },
    {
     "name": "stderr",
     "output_type": "stream",
     "text": [
      "22:47:02 - cmdstanpy - INFO - Chain [1] start processing\n",
      "22:47:02 - cmdstanpy - INFO - Chain [1] start processing\n",
      "22:47:03 - cmdstanpy - INFO - Chain [1] done processing\n",
      "22:47:03 - cmdstanpy - INFO - Chain [1] done processing\n"
     ]
    },
    {
     "name": "stdout",
     "output_type": "stream",
     "text": [
      "It's underpredicted.\n",
      "Monthly Error: 30.36 Period MAE: 2.98\n",
      "It's overpredicted.\n",
      "Monthly Error: 45.12 Period MAE: 39.839999999999996\n",
      "It's underpredicted.Monthly Error:\n",
      " 45.38 Period MAE: 46.73\n"
     ]
    },
    {
     "name": "stderr",
     "output_type": "stream",
     "text": [
      "22:47:06 - cmdstanpy - INFO - Chain [1] start processing\n",
      "22:47:06 - cmdstanpy - INFO - Chain [1] start processing\n",
      "22:47:06 - cmdstanpy - INFO - Chain [1] done processing\n",
      "22:47:06 - cmdstanpy - INFO - Chain [1] start processing\n",
      "22:47:07 - cmdstanpy - INFO - Chain [1] done processing\n",
      "22:47:07 - cmdstanpy - INFO - Chain [1] done processing\n"
     ]
    },
    {
     "name": "stdout",
     "output_type": "stream",
     "text": [
      "It's underpredicted.\n",
      "Monthly Error: 29.74 Period MAE:It's underpredicted. \n",
      "8.540000000000001Monthly Error: \n",
      "42.94 Period MAE: 45.019999999999996\n"
     ]
    },
    {
     "name": "stderr",
     "output_type": "stream",
     "text": [
      "22:47:08 - cmdstanpy - INFO - Chain [1] start processing\n",
      "22:47:08 - cmdstanpy - INFO - Chain [1] done processing\n",
      "22:47:08 - cmdstanpy - INFO - Chain [1] start processing\n"
     ]
    },
    {
     "name": "stdout",
     "output_type": "stream",
     "text": [
      "It's underpredicted.\n"
     ]
    },
    {
     "name": "stderr",
     "output_type": "stream",
     "text": [
      "22:47:09 - cmdstanpy - INFO - Chain [1] done processing\n"
     ]
    },
    {
     "name": "stdout",
     "output_type": "stream",
     "text": [
      "Monthly Error: 39.16 Period MAE: 39.57\n"
     ]
    },
    {
     "name": "stderr",
     "output_type": "stream",
     "text": [
      "22:47:10 - cmdstanpy - INFO - Chain [1] start processing\n",
      "22:47:10 - cmdstanpy - INFO - Chain [1] done processing\n"
     ]
    },
    {
     "name": "stdout",
     "output_type": "stream",
     "text": [
      "It's underpredicted.\n",
      "Monthly Error: 48.46 Period MAE: 51.05\n",
      "It's underpredicted.\n",
      "Monthly Error: 35.71It's underpredicted. \n",
      "Period MAE:Monthly Error:  10.5235.83\n",
      " Period MAE: 36.120000000000005\n"
     ]
    },
    {
     "name": "stderr",
     "output_type": "stream",
     "text": [
      "22:47:12 - cmdstanpy - INFO - Chain [1] start processing\n",
      "22:47:12 - cmdstanpy - INFO - Chain [1] start processing\n",
      "22:47:12 - cmdstanpy - INFO - Chain [1] start processing\n",
      "22:47:12 - cmdstanpy - INFO - Chain [1] done processing\n",
      "22:47:13 - cmdstanpy - INFO - Chain [1] done processing\n",
      "22:47:13 - cmdstanpy - INFO - Chain [1] done processing\n"
     ]
    },
    {
     "name": "stdout",
     "output_type": "stream",
     "text": [
      "It's underpredicted.\n",
      "Monthly Error:It's underpredicted.\n",
      " Monthly Error:35.83 34.33 Period MAE: Period MAE: 36.120000000000005 31.680000000000003\n",
      "\n"
     ]
    },
    {
     "name": "stderr",
     "output_type": "stream",
     "text": [
      "22:47:14 - cmdstanpy - INFO - Chain [1] start processing\n",
      "22:47:15 - cmdstanpy - INFO - Chain [1] done processing\n"
     ]
    },
    {
     "name": "stdout",
     "output_type": "stream",
     "text": [
      "It's underpredicted.\n",
      "Monthly Error: 39.01 Period MAE: 39.39\n"
     ]
    },
    {
     "name": "stderr",
     "output_type": "stream",
     "text": [
      "22:47:15 - cmdstanpy - INFO - Chain [1] start processing\n",
      "22:47:16 - cmdstanpy - INFO - Chain [1] start processing\n",
      "22:47:16 - cmdstanpy - INFO - Chain [1] done processing\n",
      "22:47:16 - cmdstanpy - INFO - Chain [1] done processing\n"
     ]
    },
    {
     "name": "stdout",
     "output_type": "stream",
     "text": [
      "It's underpredicted.\n",
      "Monthly Error: 35.84 Period MAE: 36.120000000000005\n",
      "It's underpredicted.\n",
      "Monthly Error: 39.9 Period MAE: 40.1\n",
      "It's overpredicted.\n",
      "Monthly Error: 31.01 Period MAE: 4.55\n"
     ]
    },
    {
     "name": "stderr",
     "output_type": "stream",
     "text": [
      "22:47:18 - cmdstanpy - INFO - Chain [1] start processing\n",
      "22:47:18 - cmdstanpy - INFO - Chain [1] start processing\n",
      "22:47:19 - cmdstanpy - INFO - Chain [1] start processing\n",
      "22:47:19 - cmdstanpy - INFO - Chain [1] done processing\n",
      "22:47:19 - cmdstanpy - INFO - Chain [1] done processing\n"
     ]
    },
    {
     "name": "stdout",
     "output_type": "stream",
     "text": [
      "It's overpredicted.\n",
      "Monthly Error: 31.01 Period MAE: 4.55\n"
     ]
    },
    {
     "name": "stderr",
     "output_type": "stream",
     "text": [
      "22:47:20 - cmdstanpy - INFO - Chain [1] start processing\n",
      "22:47:20 - cmdstanpy - INFO - Chain [1] done processing\n",
      "22:47:20 - cmdstanpy - INFO - Chain [1] done processing\n"
     ]
    },
    {
     "name": "stdout",
     "output_type": "stream",
     "text": [
      "It's underpredicted.\n",
      "Monthly Error: 44.48 Period MAE: 46.96\n"
     ]
    },
    {
     "name": "stderr",
     "output_type": "stream",
     "text": [
      "22:47:22 - cmdstanpy - INFO - Chain [1] start processing\n"
     ]
    },
    {
     "name": "stdout",
     "output_type": "stream",
     "text": [
      "It's underpredicted.\n",
      "Monthly Error: 33.72 Period MAE: 29.45\n"
     ]
    },
    {
     "name": "stderr",
     "output_type": "stream",
     "text": [
      "22:47:23 - cmdstanpy - INFO - Chain [1] done processing\n"
     ]
    },
    {
     "name": "stdout",
     "output_type": "stream",
     "text": [
      "It's overpredicted.\n",
      "Monthly Error: 31.01 Period MAE: 4.55\n"
     ]
    },
    {
     "name": "stderr",
     "output_type": "stream",
     "text": [
      "22:47:23 - cmdstanpy - INFO - Chain [1] start processing\n",
      "22:47:23 - cmdstanpy - INFO - Chain [1] done processing\n"
     ]
    },
    {
     "name": "stdout",
     "output_type": "stream",
     "text": [
      "It's underpredicted.\n",
      "Monthly Error: 35.8 Period MAE: 36.09\n"
     ]
    },
    {
     "name": "stderr",
     "output_type": "stream",
     "text": [
      "22:47:24 - cmdstanpy - INFO - Chain [1] start processing\n"
     ]
    },
    {
     "name": "stdout",
     "output_type": "stream",
     "text": [
      "It's underpredicted.\n",
      "Monthly Error: 49.93 Period MAE: 52.82\n"
     ]
    },
    {
     "name": "stderr",
     "output_type": "stream",
     "text": [
      "22:47:25 - cmdstanpy - INFO - Chain [1] start processing\n",
      "22:47:25 - cmdstanpy - INFO - Chain [1] start processing\n",
      "22:47:25 - cmdstanpy - INFO - Chain [1] done processing\n",
      "22:47:25 - cmdstanpy - INFO - Chain [1] done processing\n",
      "22:47:26 - cmdstanpy - INFO - Chain [1] done processing\n"
     ]
    },
    {
     "name": "stdout",
     "output_type": "stream",
     "text": [
      "It's underpredicted.\n",
      "Monthly Error: 46.57 Period MAE: 49.230000000000004\n"
     ]
    },
    {
     "name": "stderr",
     "output_type": "stream",
     "text": [
      "22:47:27 - cmdstanpy - INFO - Chain [1] start processing\n"
     ]
    },
    {
     "name": "stdout",
     "output_type": "stream",
     "text": [
      "It's underpredicted."
     ]
    },
    {
     "name": "stderr",
     "output_type": "stream",
     "text": [
      "22:47:27 - cmdstanpy - INFO - Chain [1] done processing\n"
     ]
    },
    {
     "name": "stdout",
     "output_type": "stream",
     "text": [
      "\n",
      "Monthly Error: 35.8 Period MAE: 36.09\n"
     ]
    },
    {
     "name": "stderr",
     "output_type": "stream",
     "text": [
      "22:47:28 - cmdstanpy - INFO - Chain [1] start processing\n"
     ]
    },
    {
     "name": "stdout",
     "output_type": "stream",
     "text": [
      "It's underpredicted.\n",
      "Monthly Error: 40.62 Period MAE: 42.25\n"
     ]
    },
    {
     "name": "stderr",
     "output_type": "stream",
     "text": [
      "22:47:29 - cmdstanpy - INFO - Chain [1] done processing\n",
      "22:47:29 - cmdstanpy - INFO - Chain [1] start processing\n"
     ]
    },
    {
     "name": "stdout",
     "output_type": "stream",
     "text": [
      "It's underpredicted.\n"
     ]
    },
    {
     "name": "stderr",
     "output_type": "stream",
     "text": [
      "22:47:30 - cmdstanpy - INFO - Chain [1] done processing\n"
     ]
    },
    {
     "name": "stdout",
     "output_type": "stream",
     "text": [
      "Monthly Error: 35.8 Period MAE: 36.09\n",
      "It's underpredicted.\n",
      "Monthly Error: 50.86 Period MAE: 53.71\n"
     ]
    },
    {
     "name": "stderr",
     "output_type": "stream",
     "text": [
      "22:47:31 - cmdstanpy - INFO - Chain [1] start processing\n"
     ]
    },
    {
     "name": "stdout",
     "output_type": "stream",
     "text": [
      "It's underpredicted.\n",
      "Monthly Error: 37.22 Period MAE: 3.0300000000000002\n"
     ]
    },
    {
     "name": "stderr",
     "output_type": "stream",
     "text": [
      "22:47:32 - cmdstanpy - INFO - Chain [1] start processing\n",
      "22:47:32 - cmdstanpy - INFO - Chain [1] start processing\n",
      "22:47:32 - cmdstanpy - INFO - Chain [1] done processing\n",
      "22:47:32 - cmdstanpy - INFO - Chain [1] done processing\n",
      "22:47:32 - cmdstanpy - INFO - Chain [1] done processing\n"
     ]
    },
    {
     "name": "stdout",
     "output_type": "stream",
     "text": [
      "It's underpredicted.\n",
      "Monthly Error: 37.18 Period MAE: 3.2199999999999998\n",
      "It's underpredicted.\n",
      "Monthly Error: 41.04 Period MAE:"
     ]
    },
    {
     "name": "stderr",
     "output_type": "stream",
     "text": [
      "22:47:34 - cmdstanpy - INFO - Chain [1] start processing\n"
     ]
    },
    {
     "name": "stdout",
     "output_type": "stream",
     "text": [
      " 42.96\n",
      "It's underpredicted."
     ]
    },
    {
     "name": "stderr",
     "output_type": "stream",
     "text": [
      "22:47:34 - cmdstanpy - INFO - Chain [1] done processing\n"
     ]
    },
    {
     "name": "stdout",
     "output_type": "stream",
     "text": [
      "\n",
      "Monthly Error: 38.18 Period MAE: 38.86\n"
     ]
    },
    {
     "name": "stderr",
     "output_type": "stream",
     "text": [
      "22:47:35 - cmdstanpy - INFO - Chain [1] start processing\n",
      "22:47:35 - cmdstanpy - INFO - Chain [1] start processing\n",
      "22:47:35 - cmdstanpy - INFO - Chain [1] done processing\n",
      "22:47:36 - cmdstanpy - INFO - Chain [1] done processing\n"
     ]
    },
    {
     "name": "stdout",
     "output_type": "stream",
     "text": [
      "It's overpredicted.\n",
      "Monthly Error: 38.58 Period MAE: 2.0500000000000003\n",
      "It's underpredicted.\n",
      "Monthly Error: 42.57 Period MAE: 43.39\n",
      "It's overpredicted.\n",
      "Monthly Error: 36.4 Period MAE: 5.3100000000000005\n"
     ]
    },
    {
     "name": "stderr",
     "output_type": "stream",
     "text": [
      "22:47:38 - cmdstanpy - INFO - Chain [1] start processing\n",
      "22:47:38 - cmdstanpy - INFO - Chain [1] start processing\n",
      "22:47:38 - cmdstanpy - INFO - Chain [1] done processing\n",
      "22:47:38 - cmdstanpy - INFO - Chain [1] start processing\n",
      "22:47:39 - cmdstanpy - INFO - Chain [1] done processing\n",
      "22:47:39 - cmdstanpy - INFO - Chain [1] done processing\n"
     ]
    },
    {
     "name": "stdout",
     "output_type": "stream",
     "text": [
      "It's overpredicted.\n",
      "Monthly Error: 35.82 Period MAE: 3.83It's underpredicted.\n",
      "\n",
      "Monthly Error: 46.04 Period MAE: 48.74\n"
     ]
    },
    {
     "name": "stderr",
     "output_type": "stream",
     "text": [
      "22:47:40 - cmdstanpy - INFO - Chain [1] start processing\n",
      "22:47:40 - cmdstanpy - INFO - Chain [1] done processing\n",
      "22:47:41 - cmdstanpy - INFO - Chain [1] start processing\n"
     ]
    },
    {
     "name": "stdout",
     "output_type": "stream",
     "text": [
      "It's underpredicted.\n",
      "Monthly Error: 36.86"
     ]
    },
    {
     "name": "stderr",
     "output_type": "stream",
     "text": [
      "22:47:41 - cmdstanpy - INFO - Chain [1] done processing\n"
     ]
    },
    {
     "name": "stdout",
     "output_type": "stream",
     "text": [
      " Period MAE: 37.230000000000004\n"
     ]
    },
    {
     "name": "stderr",
     "output_type": "stream",
     "text": [
      "22:47:43 - cmdstanpy - INFO - Chain [1] start processing\n",
      "22:47:43 - cmdstanpy - INFO - Chain [1] done processing\n"
     ]
    },
    {
     "name": "stdout",
     "output_type": "stream",
     "text": [
      "It's overpredicted.\n",
      "It's underpredicted.\n",
      "Monthly Error:Monthly Error: 51.32  39.08Period MAE:  Period MAE:54.35 \n",
      "10.11\n",
      "It's overpredicted.\n",
      "Monthly Error: 40.18 Period MAE: 5.12\n"
     ]
    },
    {
     "name": "stderr",
     "output_type": "stream",
     "text": [
      "22:47:44 - cmdstanpy - INFO - Chain [1] start processing\n",
      "22:47:45 - cmdstanpy - INFO - Chain [1] done processing\n",
      "22:47:45 - cmdstanpy - INFO - Chain [1] start processing\n",
      "22:47:45 - cmdstanpy - INFO - Chain [1] start processing\n",
      "22:47:45 - cmdstanpy - INFO - Chain [1] done processing\n",
      "22:47:45 - cmdstanpy - INFO - Chain [1] done processing\n"
     ]
    },
    {
     "name": "stdout",
     "output_type": "stream",
     "text": [
      "It's underpredicted.\n",
      "Monthly Error: 25.89 Period MAE: 19.68\n"
     ]
    },
    {
     "name": "stderr",
     "output_type": "stream",
     "text": [
      "22:47:47 - cmdstanpy - INFO - Chain [1] start processing\n",
      "22:47:47 - cmdstanpy - INFO - Chain [1] done processing\n"
     ]
    },
    {
     "name": "stdout",
     "output_type": "stream",
     "text": [
      "It's overpredicted.\n",
      "Monthly Error: 38.32 Period MAE: It's underpredicted.1.13\n",
      "\n",
      "Monthly Error: 41.02Period MAE:  42.93\n"
     ]
    },
    {
     "name": "stderr",
     "output_type": "stream",
     "text": [
      "22:47:48 - cmdstanpy - INFO - Chain [1] start processing\n",
      "22:47:48 - cmdstanpy - INFO - Chain [1] start processing\n",
      "22:47:49 - cmdstanpy - INFO - Chain [1] done processing\n",
      "22:47:49 - cmdstanpy - INFO - Chain [1] done processing\n"
     ]
    },
    {
     "name": "stdout",
     "output_type": "stream",
     "text": [
      "It's overpredicted.\n",
      "Monthly Error: 39.89 Period MAE: 4.47\n",
      "It's underpredicted.\n",
      "Monthly Error: 50.51 Period MAE: 51.459999999999994\n",
      "It's underpredicted.\n",
      "Monthly Error: 28.7 Period MAE: 24.23\n"
     ]
    },
    {
     "name": "stderr",
     "output_type": "stream",
     "text": [
      "22:47:51 - cmdstanpy - INFO - Chain [1] start processing\n",
      "22:47:51 - cmdstanpy - INFO - Chain [1] start processing\n"
     ]
    },
    {
     "name": "stdout",
     "output_type": "stream",
     "text": [
      "It's underpredicted.\n",
      "Monthly Error: 51.17"
     ]
    },
    {
     "name": "stderr",
     "output_type": "stream",
     "text": [
      "22:47:51 - cmdstanpy - INFO - Chain [1] start processing\n"
     ]
    },
    {
     "name": "stdout",
     "output_type": "stream",
     "text": [
      " Period MAE: "
     ]
    },
    {
     "name": "stderr",
     "output_type": "stream",
     "text": [
      "22:47:52 - cmdstanpy - INFO - Chain [1] done processing\n"
     ]
    },
    {
     "name": "stdout",
     "output_type": "stream",
     "text": [
      "52.15\n"
     ]
    },
    {
     "name": "stderr",
     "output_type": "stream",
     "text": [
      "22:47:52 - cmdstanpy - INFO - Chain [1] start processing\n",
      "22:47:52 - cmdstanpy - INFO - Chain [1] done processing\n",
      "22:47:52 - cmdstanpy - INFO - Chain [1] done processing\n",
      "22:47:52 - cmdstanpy - INFO - Chain [1] done processing\n"
     ]
    },
    {
     "name": "stdout",
     "output_type": "stream",
     "text": [
      "It's underpredicted.\n",
      "Monthly Error: 26.38 Period MAE: 20.44\n",
      "It's underpredicted.\n",
      "Monthly Error: 24.53 Period MAE: 16.98\n"
     ]
    },
    {
     "name": "stderr",
     "output_type": "stream",
     "text": [
      "22:47:55 - cmdstanpy - INFO - Chain [1] start processing\n",
      "22:47:55 - cmdstanpy - INFO - Chain [1] done processing\n",
      "22:47:55 - cmdstanpy - INFO - Chain [1] start processing\n"
     ]
    },
    {
     "name": "stdout",
     "output_type": "stream",
     "text": [
      "It's overpredicted.\n",
      "Monthly Error: 49.11 Period MAE: 44.55"
     ]
    },
    {
     "name": "stderr",
     "output_type": "stream",
     "text": [
      "22:47:56 - cmdstanpy - INFO - Chain [1] done processing\n"
     ]
    },
    {
     "name": "stdout",
     "output_type": "stream",
     "text": [
      "\n",
      "It's underpredicted.\n",
      "Monthly Error: 40.26 Period MAE: 41.67\n"
     ]
    },
    {
     "name": "stderr",
     "output_type": "stream",
     "text": [
      "22:47:57 - cmdstanpy - INFO - Chain [1] start processing\n"
     ]
    },
    {
     "name": "stdout",
     "output_type": "stream",
     "text": [
      "It's underpredicted.\n",
      "Monthly Error: 29.19 Period MAE: 25.009999999999998\n"
     ]
    },
    {
     "name": "stderr",
     "output_type": "stream",
     "text": [
      "22:47:58 - cmdstanpy - INFO - Chain [1] start processing\n",
      "22:47:58 - cmdstanpy - INFO - Chain [1] start processing\n",
      "22:47:58 - cmdstanpy - INFO - Chain [1] done processing\n",
      "22:47:58 - cmdstanpy - INFO - Chain [1] done processing\n",
      "22:47:58 - cmdstanpy - INFO - Chain [1] done processing\n"
     ]
    },
    {
     "name": "stdout",
     "output_type": "stream",
     "text": [
      "It's underpredicted.\n",
      "Monthly Error: 37.54 Period MAE: 36.26\n"
     ]
    },
    {
     "name": "stderr",
     "output_type": "stream",
     "text": [
      "22:48:00 - cmdstanpy - INFO - Chain [1] start processing\n"
     ]
    },
    {
     "name": "stdout",
     "output_type": "stream",
     "text": [
      "It's underpredicted.\n",
      "Monthly Error: 24.44 It's overpredicted."
     ]
    },
    {
     "name": "stderr",
     "output_type": "stream",
     "text": [
      "22:48:00 - cmdstanpy - INFO - Chain [1] done processing\n"
     ]
    },
    {
     "name": "stdout",
     "output_type": "stream",
     "text": [
      "Period MAE:\n",
      " Monthly Error: 16.646.58\n",
      " Period MAE: 41.94\n"
     ]
    },
    {
     "name": "stderr",
     "output_type": "stream",
     "text": [
      "22:48:01 - cmdstanpy - INFO - Chain [1] start processing\n",
      "22:48:01 - cmdstanpy - INFO - Chain [1] done processing\n",
      "22:48:02 - cmdstanpy - INFO - Chain [1] start processing\n",
      "22:48:02 - cmdstanpy - INFO - Chain [1] done processing\n"
     ]
    },
    {
     "name": "stdout",
     "output_type": "stream",
     "text": [
      "It's overpredicted.\n",
      "Monthly Error: 49.24 Period MAE: 44.690000000000005\n",
      "It's underpredicted.\n",
      "Monthly Error: 41.61 Period MAE: 42.15\n",
      "It's underpredicted.\n",
      "Monthly Error: 50.51 Period MAE: 51.459999999999994\n"
     ]
    },
    {
     "name": "stderr",
     "output_type": "stream",
     "text": [
      "22:48:05 - cmdstanpy - INFO - Chain [1] start processing\n",
      "22:48:05 - cmdstanpy - INFO - Chain [1] done processing\n",
      "22:48:05 - cmdstanpy - INFO - Chain [1] start processing\n",
      "22:48:06 - cmdstanpy - INFO - Chain [1] start processing\n",
      "22:48:06 - cmdstanpy - INFO - Chain [1] done processing\n"
     ]
    },
    {
     "name": "stdout",
     "output_type": "stream",
     "text": [
      "It's underpredicted.\n",
      "Monthly Error: 51.1 Period MAE: 52.07000000000001\n"
     ]
    },
    {
     "name": "stderr",
     "output_type": "stream",
     "text": [
      "22:48:06 - cmdstanpy - INFO - Chain [1] done processing\n",
      "22:48:06 - cmdstanpy - INFO - Chain [1] start processing\n",
      "22:48:07 - cmdstanpy - INFO - Chain [1] done processing\n"
     ]
    },
    {
     "name": "stdout",
     "output_type": "stream",
     "text": [
      "It's underpredicted.\n",
      "Monthly Error: 33.63 Period MAE: 34.449999999999996\n"
     ]
    },
    {
     "name": "stderr",
     "output_type": "stream",
     "text": [
      "22:48:08 - cmdstanpy - INFO - Chain [1] start processing\n",
      "22:48:08 - cmdstanpy - INFO - Chain [1] done processing\n"
     ]
    },
    {
     "name": "stdout",
     "output_type": "stream",
     "text": [
      "It's underpredicted.\n",
      "Monthly Error: 37.35 Period MAE: 33.800000000000004\n"
     ]
    },
    {
     "name": "stderr",
     "output_type": "stream",
     "text": [
      "22:48:10 - cmdstanpy - INFO - Chain [1] start processing\n"
     ]
    },
    {
     "name": "stdout",
     "output_type": "stream",
     "text": [
      "It's underpredicted.\n",
      "Monthly Error: 36.79 Period MAE: 37.480000000000004\n"
     ]
    },
    {
     "name": "stderr",
     "output_type": "stream",
     "text": [
      "22:48:10 - cmdstanpy - INFO - Chain [1] done processing\n"
     ]
    },
    {
     "name": "stdout",
     "output_type": "stream",
     "text": [
      "It's underpredicted.It's underpredicted.\n",
      "\n",
      "Monthly Error:Monthly Error:  40.5264.96  Period MAE: Period MAE:41.92 66.07\n",
      "\n"
     ]
    },
    {
     "name": "stderr",
     "output_type": "stream",
     "text": [
      "22:48:11 - cmdstanpy - INFO - Chain [1] start processing\n",
      "22:48:11 - cmdstanpy - INFO - Chain [1] start processing\n",
      "22:48:11 - cmdstanpy - INFO - Chain [1] done processing\n",
      "22:48:12 - cmdstanpy - INFO - Chain [1] start processing\n",
      "22:48:12 - cmdstanpy - INFO - Chain [1] done processing\n",
      "22:48:12 - cmdstanpy - INFO - Chain [1] done processing\n"
     ]
    },
    {
     "name": "stdout",
     "output_type": "stream",
     "text": [
      "It's underpredicted.\n",
      "Monthly Error: 46.24 Period MAE: 48.86\n"
     ]
    },
    {
     "name": "stderr",
     "output_type": "stream",
     "text": [
      "22:48:13 - cmdstanpy - INFO - Chain [1] start processing\n",
      "22:48:13 - cmdstanpy - INFO - Chain [1] done processing\n"
     ]
    },
    {
     "name": "stdout",
     "output_type": "stream",
     "text": [
      "It's underpredicted.\n",
      "Monthly Error: 31.42 Period MAE: 32.31\n",
      "It's underpredicted.\n",
      "Monthly Error: 31.31 Period MAE: 30.23\n"
     ]
    },
    {
     "name": "stderr",
     "output_type": "stream",
     "text": [
      "22:48:15 - cmdstanpy - INFO - Chain [1] start processing\n",
      "22:48:15 - cmdstanpy - INFO - Chain [1] done processing\n",
      "22:48:16 - cmdstanpy - INFO - Chain [1] start processing\n",
      "22:48:16 - cmdstanpy - INFO - Chain [1] done processing\n"
     ]
    },
    {
     "name": "stdout",
     "output_type": "stream",
     "text": [
      "It's underpredicted.\n",
      "Monthly Error: It's overpredicted.38.35 \n",
      "Monthly Error: Period MAE: 45.1823.7 \n",
      "Period MAE: 39.89\n",
      "It's underpredicted.\n",
      "Monthly Error: 51.43 Period MAE: 54.26\n"
     ]
    },
    {
     "name": "stderr",
     "output_type": "stream",
     "text": [
      "22:48:18 - cmdstanpy - INFO - Chain [1] start processing\n",
      "22:48:18 - cmdstanpy - INFO - Chain [1] start processing\n",
      "22:48:18 - cmdstanpy - INFO - Chain [1] start processing\n",
      "22:48:18 - cmdstanpy - INFO - Chain [1] done processing\n",
      "22:48:18 - cmdstanpy - INFO - Chain [1] done processing\n",
      "22:48:19 - cmdstanpy - INFO - Chain [1] done processing\n"
     ]
    },
    {
     "name": "stdout",
     "output_type": "stream",
     "text": [
      "It's underpredicted.\n",
      "Monthly Error: It's overpredicted.42.57 \n",
      "Period MAE:Monthly Error:  44.269999999999996\n",
      "44.08 Period MAE: 39.23\n"
     ]
    },
    {
     "name": "stderr",
     "output_type": "stream",
     "text": [
      "22:48:20 - cmdstanpy - INFO - Chain [1] start processing\n",
      "22:48:21 - cmdstanpy - INFO - Chain [1] done processing\n",
      "22:48:21 - cmdstanpy - INFO - Chain [1] start processing\n"
     ]
    },
    {
     "name": "stdout",
     "output_type": "stream",
     "text": [
      "It's underpredicted.\n"
     ]
    },
    {
     "name": "stderr",
     "output_type": "stream",
     "text": [
      "22:48:22 - cmdstanpy - INFO - Chain [1] done processing\n"
     ]
    },
    {
     "name": "stdout",
     "output_type": "stream",
     "text": [
      "Monthly Error: 44.67 Period MAE: 47.160000000000004\n"
     ]
    },
    {
     "name": "stderr",
     "output_type": "stream",
     "text": [
      "22:48:23 - cmdstanpy - INFO - Chain [1] start processing\n"
     ]
    },
    {
     "name": "stdout",
     "output_type": "stream",
     "text": [
      "It's overpredicted.\n",
      "Monthly Error: 43.36 Period MAE: 37.2\n",
      "It's underpredicted.\n",
      "Monthly Error: 44.71 Period MAE: 46.050000000000004\n"
     ]
    },
    {
     "name": "stderr",
     "output_type": "stream",
     "text": [
      "22:48:23 - cmdstanpy - INFO - Chain [1] done processing\n"
     ]
    },
    {
     "name": "stdout",
     "output_type": "stream",
     "text": [
      "It's underpredicted.\n",
      "Monthly Error: 64.96 Period MAE: 66.07\n"
     ]
    },
    {
     "name": "stderr",
     "output_type": "stream",
     "text": [
      "22:48:24 - cmdstanpy - INFO - Chain [1] start processing\n",
      "22:48:24 - cmdstanpy - INFO - Chain [1] start processing\n",
      "22:48:24 - cmdstanpy - INFO - Chain [1] start processing\n",
      "22:48:25 - cmdstanpy - INFO - Chain [1] done processing\n",
      "22:48:25 - cmdstanpy - INFO - Chain [1] done processing\n",
      "22:48:25 - cmdstanpy - INFO - Chain [1] done processing\n"
     ]
    },
    {
     "name": "stdout",
     "output_type": "stream",
     "text": [
      "It's underpredicted.\n",
      "Monthly Error: 42.99 Period MAE: 45.09\n"
     ]
    },
    {
     "name": "stderr",
     "output_type": "stream",
     "text": [
      "22:48:27 - cmdstanpy - INFO - Chain [1] start processing\n",
      "22:48:27 - cmdstanpy - INFO - Chain [1] done processing\n"
     ]
    },
    {
     "name": "stdout",
     "output_type": "stream",
     "text": [
      "It's underpredicted.\n",
      "Monthly Error: 27.2 Period MAE: 27.750000000000004\n",
      "It's underpredicted.\n",
      "Monthly Error: 40.0 Period MAE: 40.75\n"
     ]
    },
    {
     "name": "stderr",
     "output_type": "stream",
     "text": [
      "22:48:28 - cmdstanpy - INFO - Chain [1] start processing\n",
      "22:48:29 - cmdstanpy - INFO - Chain [1] done processing\n",
      "22:48:29 - cmdstanpy - INFO - Chain [1] start processing\n",
      "22:48:29 - cmdstanpy - INFO - Chain [1] done processing\n"
     ]
    },
    {
     "name": "stdout",
     "output_type": "stream",
     "text": [
      "It's underpredicted.\n",
      "Monthly Error: 37.8 Period MAE: 26.919999999999998\n",
      "It's underpredicted.\n",
      "Monthly Error: 36.01 Period MAE: 36.3\n",
      "It's underpredicted.\n",
      "Monthly Error:  48.4"
     ]
    },
    {
     "name": "stderr",
     "output_type": "stream",
     "text": [
      "22:48:31 - cmdstanpy - INFO - Chain [1] start processing\n"
     ]
    },
    {
     "name": "stdout",
     "output_type": "stream",
     "text": [
      "Period MAE: 50.980000000000004\n"
     ]
    },
    {
     "name": "stderr",
     "output_type": "stream",
     "text": [
      "22:48:31 - cmdstanpy - INFO - Chain [1] start processing\n",
      "22:48:31 - cmdstanpy - INFO - Chain [1] done processing\n",
      "22:48:31 - cmdstanpy - INFO - Chain [1] start processing\n",
      "22:48:32 - cmdstanpy - INFO - Chain [1] done processing\n",
      "22:48:32 - cmdstanpy - INFO - Chain [1] done processing\n"
     ]
    },
    {
     "name": "stdout",
     "output_type": "stream",
     "text": [
      "It's underpredicted.\n",
      "Monthly Error: 36.01 Period MAE: 36.3\n"
     ]
    },
    {
     "name": "stderr",
     "output_type": "stream",
     "text": [
      "22:48:33 - cmdstanpy - INFO - Chain [1] start processing\n"
     ]
    },
    {
     "name": "stdout",
     "output_type": "stream",
     "text": [
      "It's underpredicted."
     ]
    },
    {
     "name": "stderr",
     "output_type": "stream",
     "text": [
      "22:48:34 - cmdstanpy - INFO - Chain [1] done processing\n"
     ]
    },
    {
     "name": "stdout",
     "output_type": "stream",
     "text": [
      "\n",
      "Monthly Error: 34.44 Period MAE: 31.929999999999996\n",
      "It's underpredicted.\n",
      "Monthly Error: 39.51 Period MAE: 40.239999999999995\n"
     ]
    },
    {
     "name": "stderr",
     "output_type": "stream",
     "text": [
      "22:48:35 - cmdstanpy - INFO - Chain [1] start processing\n",
      "22:48:35 - cmdstanpy - INFO - Chain [1] start processing\n",
      "22:48:35 - cmdstanpy - INFO - Chain [1] done processing\n",
      "22:48:35 - cmdstanpy - INFO - Chain [1] done processing\n"
     ]
    },
    {
     "name": "stdout",
     "output_type": "stream",
     "text": [
      "It's underpredicted.\n",
      "Monthly Error: 36.04 Period MAE: 36.32\n",
      "It's underpredicted.\n",
      "Monthly Error: 40.59"
     ]
    },
    {
     "name": "stderr",
     "output_type": "stream",
     "text": [
      "22:48:37 - cmdstanpy - INFO - Chain [1] start processing\n"
     ]
    },
    {
     "name": "stdout",
     "output_type": "stream",
     "text": [
      " Period MAE: 40.98\n",
      "It's overpredicted.\n",
      "Monthly Error: 30.97 Period MAE: 4.34\n"
     ]
    },
    {
     "name": "stderr",
     "output_type": "stream",
     "text": [
      "22:48:38 - cmdstanpy - INFO - Chain [1] done processing\n",
      "22:48:38 - cmdstanpy - INFO - Chain [1] start processing\n",
      "22:48:38 - cmdstanpy - INFO - Chain [1] start processing\n",
      "22:48:38 - cmdstanpy - INFO - Chain [1] done processing\n",
      "22:48:39 - cmdstanpy - INFO - Chain [1] done processing\n"
     ]
    },
    {
     "name": "stdout",
     "output_type": "stream",
     "text": [
      "It's overpredicted.\n",
      "Monthly Error: 30.97 Period MAE: 4.34\n"
     ]
    },
    {
     "name": "stderr",
     "output_type": "stream",
     "text": [
      "22:48:39 - cmdstanpy - INFO - Chain [1] start processing\n",
      "22:48:39 - cmdstanpy - INFO - Chain [1] done processing\n"
     ]
    },
    {
     "name": "stdout",
     "output_type": "stream",
     "text": [
      "It's underpredicted.\n",
      "Monthly Error: 35.43 Period MAE: 32.45\n",
      "It's underpredicted.\n",
      "Monthly Error: 45.32 Period MAE: 47.93\n"
     ]
    },
    {
     "name": "stderr",
     "output_type": "stream",
     "text": [
      "22:48:41 - cmdstanpy - INFO - Chain [1] start processing\n",
      "22:48:42 - cmdstanpy - INFO - Chain [1] start processing\n",
      "22:48:42 - cmdstanpy - INFO - Chain [1] done processing\n",
      "22:48:42 - cmdstanpy - INFO - Chain [1] done processing\n"
     ]
    },
    {
     "name": "stdout",
     "output_type": "stream",
     "text": [
      "It's underpredicted.\n",
      "Monthly Error: 36.03 Period MAE:It's overpredicted.\n",
      "Monthly Error: 30.97 Period MAE: 36.309999999999995 4.34\n",
      "\n",
      "It's underpredicted.\n",
      "Monthly Error: 50.26 Period MAE: "
     ]
    },
    {
     "name": "stderr",
     "output_type": "stream",
     "text": [
      "22:48:44 - cmdstanpy - INFO - Chain [1] start processing\n"
     ]
    },
    {
     "name": "stdout",
     "output_type": "stream",
     "text": [
      "53.26\n"
     ]
    },
    {
     "name": "stderr",
     "output_type": "stream",
     "text": [
      "22:48:44 - cmdstanpy - INFO - Chain [1] start processing\n",
      "22:48:44 - cmdstanpy - INFO - Chain [1] start processing\n",
      "22:48:44 - cmdstanpy - INFO - Chain [1] done processing\n",
      "22:48:45 - cmdstanpy - INFO - Chain [1] done processing\n",
      "22:48:45 - cmdstanpy - INFO - Chain [1] done processing\n"
     ]
    },
    {
     "name": "stdout",
     "output_type": "stream",
     "text": [
      "It's underpredicted.\n",
      "Monthly Error: 46.5 Period MAE: 49.15\n",
      "It's underpredicted.\n",
      " Monthly Error:36.03 Period MAE: 36.309999999999995\n"
     ]
    },
    {
     "name": "stderr",
     "output_type": "stream",
     "text": [
      "22:48:47 - cmdstanpy - INFO - Chain [1] start processing\n",
      "22:48:47 - cmdstanpy - INFO - Chain [1] done processing\n",
      "22:48:47 - cmdstanpy - INFO - Chain [1] start processing\n"
     ]
    },
    {
     "name": "stdout",
     "output_type": "stream",
     "text": [
      "It's underpredicted.\n",
      "Monthly Error: 39.31 Period MAE: 40.32\n"
     ]
    },
    {
     "name": "stderr",
     "output_type": "stream",
     "text": [
      "22:48:48 - cmdstanpy - INFO - Chain [1] done processing\n"
     ]
    },
    {
     "name": "stdout",
     "output_type": "stream",
     "text": [
      "It's underpredicted.\n",
      "Monthly Error: 36.01 Period MAE: 36.29\n"
     ]
    },
    {
     "name": "stderr",
     "output_type": "stream",
     "text": [
      "22:48:49 - cmdstanpy - INFO - Chain [1] start processing\n",
      "22:48:49 - cmdstanpy - INFO - Chain [1] done processing\n",
      "22:48:50 - cmdstanpy - INFO - Chain [1] start processing\n"
     ]
    },
    {
     "name": "stdout",
     "output_type": "stream",
     "text": [
      "It's underpredicted.\n",
      "It's underpredicted.\n",
      "Monthly Error:Monthly Error:  33.7551.16 Period MAE:  Period MAE: 33.62\n",
      "54.08\n"
     ]
    },
    {
     "name": "stderr",
     "output_type": "stream",
     "text": [
      "22:48:51 - cmdstanpy - INFO - Chain [1] start processing\n",
      "22:48:51 - cmdstanpy - INFO - Chain [1] done processing\n",
      "22:48:51 - cmdstanpy - INFO - Chain [1] done processing\n",
      "22:48:51 - cmdstanpy - INFO - Chain [1] start processing\n",
      "22:48:51 - cmdstanpy - INFO - Chain [1] done processing\n"
     ]
    },
    {
     "name": "stdout",
     "output_type": "stream",
     "text": [
      "It's underpredicted.\n",
      "Monthly Error: 38.04 Period MAE: 38.690000000000005\n"
     ]
    },
    {
     "name": "stderr",
     "output_type": "stream",
     "text": [
      "22:48:53 - cmdstanpy - INFO - Chain [1] start processing\n"
     ]
    },
    {
     "name": "stdout",
     "output_type": "stream",
     "text": [
      "It's underpredicted.\n",
      "Monthly Error:It's underpredicted. \n",
      "34.05Monthly Error: Period MAE:  33.92\n",
      "40.48 Period MAE: 42.33\n"
     ]
    },
    {
     "name": "stderr",
     "output_type": "stream",
     "text": [
      "22:48:54 - cmdstanpy - INFO - Chain [1] done processing\n",
      "22:48:55 - cmdstanpy - INFO - Chain [1] start processing\n",
      "22:48:55 - cmdstanpy - INFO - Chain [1] start processing\n"
     ]
    },
    {
     "name": "stdout",
     "output_type": "stream",
     "text": [
      "It's underpredicted.\n",
      "Monthly Error: 32.1 Period MAE: 30.75\n"
     ]
    },
    {
     "name": "stderr",
     "output_type": "stream",
     "text": [
      "22:48:55 - cmdstanpy - INFO - Chain [1] done processing\n",
      "22:48:55 - cmdstanpy - INFO - Chain [1] done processing\n",
      "22:48:56 - cmdstanpy - INFO - Chain [1] start processing\n"
     ]
    },
    {
     "name": "stdout",
     "output_type": "stream",
     "text": [
      "It's underpredicted.\n",
      "Monthly Error: 44.6 Period MAE: 45.839999999999996\n"
     ]
    },
    {
     "name": "stderr",
     "output_type": "stream",
     "text": [
      "22:48:57 - cmdstanpy - INFO - Chain [1] done processing\n"
     ]
    },
    {
     "name": "stdout",
     "output_type": "stream",
     "text": [
      "It's underpredicted.\n",
      "Monthly Error: 30.57 Period MAE: 17.990000000000002\n"
     ]
    },
    {
     "name": "stderr",
     "output_type": "stream",
     "text": [
      "22:48:58 - cmdstanpy - INFO - Chain [1] start processing\n",
      "22:48:58 - cmdstanpy - INFO - Chain [1] start processing\n",
      "22:48:58 - cmdstanpy - INFO - Chain [1] done processing\n",
      "22:48:59 - cmdstanpy - INFO - Chain [1] done processing\n"
     ]
    },
    {
     "name": "stdout",
     "output_type": "stream",
     "text": [
      "It's underpredicted.\n",
      "Monthly Error: 29.16 Period MAE: 23.76\n",
      "It's underpredicted.\n",
      "Monthly Error:"
     ]
    },
    {
     "name": "stderr",
     "output_type": "stream",
     "text": [
      "22:49:00 - cmdstanpy - INFO - Chain [1] start processing\n"
     ]
    },
    {
     "name": "stdout",
     "output_type": "stream",
     "text": [
      " 36.42 Period MAE: 36.620000000000005\n"
     ]
    },
    {
     "name": "stderr",
     "output_type": "stream",
     "text": [
      "22:49:00 - cmdstanpy - INFO - Chain [1] done processing\n"
     ]
    },
    {
     "name": "stdout",
     "output_type": "stream",
     "text": [
      "It's underpredicted.\n",
      "Monthly Error: 46.58 Period MAE: 49.35\n"
     ]
    },
    {
     "name": "stderr",
     "output_type": "stream",
     "text": [
      "22:49:01 - cmdstanpy - INFO - Chain [1] start processing\n",
      "22:49:01 - cmdstanpy - INFO - Chain [1] start processing\n",
      "22:49:02 - cmdstanpy - INFO - Chain [1] done processing\n",
      "22:49:02 - cmdstanpy - INFO - Chain [1] done processing\n"
     ]
    },
    {
     "name": "stdout",
     "output_type": "stream",
     "text": [
      "It's underpredicted.\n",
      "Monthly Error: 29.63 Period MAE: 21.6\n"
     ]
    },
    {
     "name": "stderr",
     "output_type": "stream",
     "text": [
      "22:49:04 - cmdstanpy - INFO - Chain [1] start processing\n"
     ]
    },
    {
     "name": "stdout",
     "output_type": "stream",
     "text": [
      "It's underpredicted.\n",
      "Monthly Error: 31.63 Period MAE: 29.060000000000002\n",
      "It's underpredicted.\n",
      "Monthly Error: 51.21 Period MAE: 54.230000000000004\n"
     ]
    },
    {
     "name": "stderr",
     "output_type": "stream",
     "text": [
      "22:49:05 - cmdstanpy - INFO - Chain [1] start processing\n",
      "22:49:06 - cmdstanpy - INFO - Chain [1] done processing\n",
      "22:49:06 - cmdstanpy - INFO - Chain [1] start processing\n",
      "22:49:06 - cmdstanpy - INFO - Chain [1] done processing\n",
      "22:49:06 - cmdstanpy - INFO - Chain [1] done processing\n"
     ]
    },
    {
     "name": "stdout",
     "output_type": "stream",
     "text": [
      "It's underpredicted.\n",
      "Monthly Error: 31.68 It's underpredicted.\n",
      "Period MAE:Monthly Error:  29.4225.68\n",
      " Period MAE: 19.35\n"
     ]
    },
    {
     "name": "stderr",
     "output_type": "stream",
     "text": [
      "22:49:07 - cmdstanpy - INFO - Chain [1] start processing\n",
      "22:49:07 - cmdstanpy - INFO - Chain [1] done processing\n",
      "22:49:08 - cmdstanpy - INFO - Chain [1] start processing\n",
      "22:49:08 - cmdstanpy - INFO - Chain [1] done processing\n"
     ]
    },
    {
     "name": "stdout",
     "output_type": "stream",
     "text": [
      "It's underpredicted.\n",
      "Monthly Error: 40.62 Period MAE: 42.54\n"
     ]
    },
    {
     "name": "stderr",
     "output_type": "stream",
     "text": [
      "22:49:10 - cmdstanpy - INFO - Chain [1] start processing\n",
      "22:49:10 - cmdstanpy - INFO - Chain [1] done processing\n"
     ]
    },
    {
     "name": "stdout",
     "output_type": "stream",
     "text": [
      "It's underpredicted.\n",
      "Monthly Error: 28.0 Period MAE: 23.04\n",
      "It's underpredicted.\n",
      "Monthly Error: 51.08 Period MAE: 52.05\n",
      "It's underpredicted.\n",
      "Monthly Error: 31.66 Period MAE: 25.66\n"
     ]
    },
    {
     "name": "stderr",
     "output_type": "stream",
     "text": [
      "22:49:11 - cmdstanpy - INFO - Chain [1] start processing\n",
      "22:49:12 - cmdstanpy - INFO - Chain [1] start processing\n",
      "22:49:12 - cmdstanpy - INFO - Chain [1] start processing\n",
      "22:49:12 - cmdstanpy - INFO - Chain [1] done processing\n",
      "22:49:12 - cmdstanpy - INFO - Chain [1] done processing\n",
      "22:49:12 - cmdstanpy - INFO - Chain [1] done processing\n"
     ]
    },
    {
     "name": "stdout",
     "output_type": "stream",
     "text": [
      "It's underpredicted.\n",
      "Monthly Error: 24.59 Period MAE: 18.17\n",
      "It's underpredicted.\n",
      "Monthly Error: 25.95 Period MAE: 19.759999999999998\n",
      "It's underpredicted.\n",
      "Monthly Error: 51.2 Period MAE: "
     ]
    },
    {
     "name": "stderr",
     "output_type": "stream",
     "text": [
      "22:49:14 - cmdstanpy - INFO - Chain [1] start processing\n"
     ]
    },
    {
     "name": "stdout",
     "output_type": "stream",
     "text": [
      "52.18000000000001\n"
     ]
    },
    {
     "name": "stderr",
     "output_type": "stream",
     "text": [
      "22:49:15 - cmdstanpy - INFO - Chain [1] done processing\n",
      "22:49:15 - cmdstanpy - INFO - Chain [1] start processing\n",
      "22:49:15 - cmdstanpy - INFO - Chain [1] done processing\n",
      "22:49:16 - cmdstanpy - INFO - Chain [1] start processing\n",
      "22:49:16 - cmdstanpy - INFO - Chain [1] done processing\n"
     ]
    },
    {
     "name": "stdout",
     "output_type": "stream",
     "text": [
      "It's underpredicted.\n",
      "Monthly Error: 28.21 Period MAE: 23.369999999999997\n",
      "It's underpredicted.\n",
      "Monthly Error: 51.23 Period MAE: 52.27\n",
      "It's overpredicted.\n",
      "Monthly Error: "
     ]
    },
    {
     "name": "stderr",
     "output_type": "stream",
     "text": [
      "22:49:18 - cmdstanpy - INFO - Chain [1] start processing\n"
     ]
    },
    {
     "name": "stdout",
     "output_type": "stream",
     "text": [
      "46.36 Period MAE: 41.53\n"
     ]
    },
    {
     "name": "stderr",
     "output_type": "stream",
     "text": [
      "22:49:18 - cmdstanpy - INFO - Chain [1] start processing\n",
      "22:49:18 - cmdstanpy - INFO - Chain [1] start processing\n",
      "22:49:19 - cmdstanpy - INFO - Chain [1] done processing\n",
      "22:49:19 - cmdstanpy - INFO - Chain [1] done processing\n",
      "22:49:19 - cmdstanpy - INFO - Chain [1] done processing\n"
     ]
    },
    {
     "name": "stdout",
     "output_type": "stream",
     "text": [
      "It's overpredicted.\n",
      "Monthly Error: 45.23 Period MAE: 40.26\n",
      "It's underpredicted.\n",
      "Monthly Error: 33.12 Period MAE: 31.8\n",
      "It's underpredicted.\n",
      "Monthly Error: "
     ]
    },
    {
     "name": "stderr",
     "output_type": "stream",
     "text": [
      "22:49:21 - cmdstanpy - INFO - Chain [1] start processing\n"
     ]
    },
    {
     "name": "stdout",
     "output_type": "stream",
     "text": [
      "24.81 Period MAE: 18.509999999999998\n"
     ]
    },
    {
     "name": "stderr",
     "output_type": "stream",
     "text": [
      "22:49:21 - cmdstanpy - INFO - Chain [1] done processing\n",
      "22:49:22 - cmdstanpy - INFO - Chain [1] start processing\n",
      "22:49:22 - cmdstanpy - INFO - Chain [1] start processing\n",
      "22:49:22 - cmdstanpy - INFO - Chain [1] done processing\n",
      "22:49:22 - cmdstanpy - INFO - Chain [1] done processing\n"
     ]
    },
    {
     "name": "stdout",
     "output_type": "stream",
     "text": [
      "It's overpredicted.\n",
      "Monthly Error: 46.72 Period MAE: 41.980000000000004\n"
     ]
    },
    {
     "name": "stderr",
     "output_type": "stream",
     "text": [
      "22:49:24 - cmdstanpy - INFO - Chain [1] start processing\n"
     ]
    },
    {
     "name": "stdout",
     "output_type": "stream",
     "text": [
      "It's underpredicted.\n",
      "Monthly Error: 36.7 Period MAE: 37.5\n",
      "It's underpredicted.\n",
      "Monthly Error: "
     ]
    },
    {
     "name": "stderr",
     "output_type": "stream",
     "text": [
      "22:49:25 - cmdstanpy - INFO - Chain [1] done processing\n"
     ]
    },
    {
     "name": "stdout",
     "output_type": "stream",
     "text": [
      "51.07 Period MAE: 52.04\n"
     ]
    },
    {
     "name": "stderr",
     "output_type": "stream",
     "text": [
      "22:49:25 - cmdstanpy - INFO - Chain [1] start processing\n"
     ]
    },
    {
     "name": "stdout",
     "output_type": "stream",
     "text": [
      "It's underpredicted.\n",
      "Monthly Error: "
     ]
    },
    {
     "name": "stderr",
     "output_type": "stream",
     "text": [
      "22:49:26 - cmdstanpy - INFO - Chain [1] done processing\n",
      "22:49:26 - cmdstanpy - INFO - Chain [1] start processing\n"
     ]
    },
    {
     "name": "stdout",
     "output_type": "stream",
     "text": [
      "51.03 Period MAE: 51.99\n"
     ]
    },
    {
     "name": "stderr",
     "output_type": "stream",
     "text": [
      "22:49:26 - cmdstanpy - INFO - Chain [1] done processing\n",
      "22:49:26 - cmdstanpy - INFO - Chain [1] start processing\n",
      "22:49:26 - cmdstanpy - INFO - Chain [1] done processing\n"
     ]
    },
    {
     "name": "stdout",
     "output_type": "stream",
     "text": [
      "It's underpredicted.\n",
      "Monthly Error: 33.98It's underpredicted.\n",
      " Period MAE:Monthly Error:  34.84999999999999431.75\n",
      " Period MAE: 29.349999999999998\n"
     ]
    },
    {
     "name": "stderr",
     "output_type": "stream",
     "text": [
      "22:49:28 - cmdstanpy - INFO - Chain [1] start processing\n",
      "22:49:28 - cmdstanpy - INFO - Chain [1] start processing\n",
      "22:49:28 - cmdstanpy - INFO - Chain [1] done processing\n",
      "22:49:29 - cmdstanpy - INFO - Chain [1] done processing\n"
     ]
    },
    {
     "name": "stdout",
     "output_type": "stream",
     "text": [
      "It's underpredicted.\n",
      "Monthly Error: 65.0 Period MAE: 66.12\n",
      "It's underpredicted.\n",
      "Monthly Error: 50.64 Period MAE: It's underpredicted.\n",
      "Monthly Error:51.65 \n",
      "35.78 Period MAE: 36.55\n"
     ]
    },
    {
     "name": "stderr",
     "output_type": "stream",
     "text": [
      "22:49:31 - cmdstanpy - INFO - Chain [1] start processing\n",
      "22:49:31 - cmdstanpy - INFO - Chain [1] start processing\n",
      "22:49:31 - cmdstanpy - INFO - Chain [1] done processing\n",
      "22:49:32 - cmdstanpy - INFO - Chain [1] done processing\n",
      "22:49:32 - cmdstanpy - INFO - Chain [1] start processing\n"
     ]
    },
    {
     "name": "stdout",
     "output_type": "stream",
     "text": [
      "It's underpredicted.\n",
      "Monthly Error: 64.33 Period MAE: 65.45\n"
     ]
    },
    {
     "name": "stderr",
     "output_type": "stream",
     "text": [
      "22:49:32 - cmdstanpy - INFO - Chain [1] done processing\n",
      "22:49:33 - cmdstanpy - INFO - Chain [1] start processing\n",
      "22:49:33 - cmdstanpy - INFO - Chain [1] done processing\n"
     ]
    },
    {
     "name": "stdout",
     "output_type": "stream",
     "text": [
      "It's underpredicted.\n",
      "Monthly Error: 33.7 Period MAE: It's underpredicted.34.57\n",
      "Monthly Error: \n",
      "32.57 Period MAE: 33.09\n"
     ]
    },
    {
     "name": "stderr",
     "output_type": "stream",
     "text": [
      "22:49:34 - cmdstanpy - INFO - Chain [1] start processing\n",
      "22:49:35 - cmdstanpy - INFO - Chain [1] done processing\n",
      "22:49:35 - cmdstanpy - INFO - Chain [1] start processing\n",
      "22:49:35 - cmdstanpy - INFO - Chain [1] done processing\n"
     ]
    },
    {
     "name": "stdout",
     "output_type": "stream",
     "text": [
      "It's overpredicted.\n",
      "Monthly Error: 36.81 Period MAE: 27.860000000000003\n",
      "It's underpredicted.\n",
      "Monthly Error: 63.13 Period MAE: 64.27000000000001\n",
      "It's underpredicted.\n",
      "Monthly Error: 36.95 Period MAE: 37.940000000000005\n"
     ]
    },
    {
     "name": "stderr",
     "output_type": "stream",
     "text": [
      "22:49:37 - cmdstanpy - INFO - Chain [1] start processing\n",
      "22:49:37 - cmdstanpy - INFO - Chain [1] start processing\n",
      "22:49:37 - cmdstanpy - INFO - Chain [1] done processing\n",
      "22:49:38 - cmdstanpy - INFO - Chain [1] start processing\n",
      "22:49:38 - cmdstanpy - INFO - Chain [1] done processing\n",
      "22:49:38 - cmdstanpy - INFO - Chain [1] done processing\n"
     ]
    },
    {
     "name": "stdout",
     "output_type": "stream",
     "text": [
      "It's underpredicted.\n",
      "Monthly Error: 39.51 Period MAE: 41.63\n",
      "It's overpredicted.\n",
      "Monthly Error: 36.9 Period MAE: 28.389999999999997"
     ]
    },
    {
     "name": "stderr",
     "output_type": "stream",
     "text": [
      "22:49:39 - cmdstanpy - INFO - Chain [1] start processing\n"
     ]
    },
    {
     "name": "stdout",
     "output_type": "stream",
     "text": [
      "\n"
     ]
    },
    {
     "name": "stderr",
     "output_type": "stream",
     "text": [
      "22:49:40 - cmdstanpy - INFO - Chain [1] done processing\n"
     ]
    },
    {
     "name": "stdout",
     "output_type": "stream",
     "text": [
      "It's underpredicted.\n",
      "Monthly Error: 33.57"
     ]
    },
    {
     "name": "stderr",
     "output_type": "stream",
     "text": [
      "22:49:40 - cmdstanpy - INFO - Chain [1] start processing\n"
     ]
    },
    {
     "name": "stdout",
     "output_type": "stream",
     "text": [
      " Period MAE: 34.300000000000004\n"
     ]
    },
    {
     "name": "stderr",
     "output_type": "stream",
     "text": [
      "22:49:41 - cmdstanpy - INFO - Chain [1] done processing\n",
      "22:49:41 - cmdstanpy - INFO - Chain [1] start processing\n",
      "22:49:42 - cmdstanpy - INFO - Chain [1] done processing\n"
     ]
    },
    {
     "name": "stdout",
     "output_type": "stream",
     "text": [
      "It's overpredicted.\n",
      "Monthly Error: 37.02 Period MAE: 28.249999999999996\n",
      "It's underpredicted.\n",
      "Monthly Error: 43.02 Period MAE: 45.4\n",
      "It's underpredicted.\n",
      "Monthly Error: 65.02 Period MAE: 66.14"
     ]
    },
    {
     "name": "stderr",
     "output_type": "stream",
     "text": [
      "22:49:44 - cmdstanpy - INFO - Chain [1] start processing\n"
     ]
    },
    {
     "name": "stdout",
     "output_type": "stream",
     "text": [
      "\n"
     ]
    },
    {
     "name": "stderr",
     "output_type": "stream",
     "text": [
      "22:49:44 - cmdstanpy - INFO - Chain [1] start processing\n",
      "22:49:44 - cmdstanpy - INFO - Chain [1] start processing\n",
      "22:49:44 - cmdstanpy - INFO - Chain [1] done processing\n",
      "22:49:44 - cmdstanpy - INFO - Chain [1] done processing\n",
      "22:49:45 - cmdstanpy - INFO - Chain [1] done processing\n"
     ]
    },
    {
     "name": "stdout",
     "output_type": "stream",
     "text": [
      "It's underpredicted.\n",
      "Monthly Error: 64.97 Period MAE: 66.09\n",
      "It's underpredicted.\n",
      "Monthly Error: 43.01 Period MAE: 45.1\n"
     ]
    },
    {
     "name": "stderr",
     "output_type": "stream",
     "text": [
      "22:49:46 - cmdstanpy - INFO - Chain [1] start processing\n",
      "22:49:46 - cmdstanpy - INFO - Chain [1] done processing\n",
      "22:49:47 - cmdstanpy - INFO - Chain [1] start processing\n",
      "22:49:47 - cmdstanpy - INFO - Chain [1] done processing\n"
     ]
    },
    {
     "name": "stdout",
     "output_type": "stream",
     "text": [
      "It's underpredicted.\n",
      "Monthly Error: 37.35 Period MAE: 39.07\n",
      "It's underpredicted.\n",
      "Monthly Error: 62.94 Period MAE: 64.09\n"
     ]
    },
    {
     "name": "stderr",
     "output_type": "stream",
     "text": [
      "22:49:48 - cmdstanpy - INFO - Chain [1] start processing\n",
      "22:49:49 - cmdstanpy - INFO - Chain [1] done processing\n"
     ]
    },
    {
     "name": "stdout",
     "output_type": "stream",
     "text": [
      "It's underpredicted.\n",
      "Monthly Error: 43.96 Period MAE: 46.1\n"
     ]
    },
    {
     "name": "stderr",
     "output_type": "stream",
     "text": [
      "22:49:49 - cmdstanpy - INFO - Chain [1] start processing\n"
     ]
    },
    {
     "name": "stdout",
     "output_type": "stream",
     "text": [
      "It's underpredicted.\n",
      "Monthly Error: 37.18 Period MAE: 37.46\n"
     ]
    },
    {
     "name": "stderr",
     "output_type": "stream",
     "text": [
      "22:49:50 - cmdstanpy - INFO - Chain [1] done processing\n",
      "22:49:50 - cmdstanpy - INFO - Chain [1] start processing\n",
      "22:49:50 - cmdstanpy - INFO - Chain [1] start processing\n",
      "22:49:51 - cmdstanpy - INFO - Chain [1] done processing\n",
      "22:49:52 - cmdstanpy - INFO - Chain [1] done processing\n"
     ]
    },
    {
     "name": "stdout",
     "output_type": "stream",
     "text": [
      "It's underpredicted.\n",
      "Monthly Error: 42.71 Period MAE: 44.76\n"
     ]
    },
    {
     "name": "stderr",
     "output_type": "stream",
     "text": [
      "22:49:53 - cmdstanpy - INFO - Chain [1] start processing\n"
     ]
    },
    {
     "name": "stdout",
     "output_type": "stream",
     "text": [
      "It's underpredicted.\n",
      "Monthly Error: 37.18 Period MAE:"
     ]
    },
    {
     "name": "stderr",
     "output_type": "stream",
     "text": [
      "22:49:53 - cmdstanpy - INFO - Chain [1] done processing\n"
     ]
    },
    {
     "name": "stdout",
     "output_type": "stream",
     "text": [
      " 37.46\n",
      "It's underpredicted.\n",
      "Monthly Error: 36.23 Period MAE: 35.010000000000005\n"
     ]
    },
    {
     "name": "stderr",
     "output_type": "stream",
     "text": [
      "22:49:54 - cmdstanpy - INFO - Chain [1] start processing\n",
      "22:49:54 - cmdstanpy - INFO - Chain [1] start processing\n",
      "22:49:54 - cmdstanpy - INFO - Chain [1] done processing\n",
      "22:49:55 - cmdstanpy - INFO - Chain [1] done processing\n"
     ]
    },
    {
     "name": "stdout",
     "output_type": "stream",
     "text": [
      "It's underpredicted.\n",
      "Monthly Error: 37.18 Period MAE: 37.46\n"
     ]
    },
    {
     "name": "stderr",
     "output_type": "stream",
     "text": [
      "22:49:56 - cmdstanpy - INFO - Chain [1] start processing\n"
     ]
    },
    {
     "name": "stdout",
     "output_type": "stream",
     "text": [
      "It's underpredicted.\n",
      "Monthly Error: 30.16It's underpredicted. \n",
      "Monthly Error:Period MAE: 2.5100000000000002\n",
      " 39.11 Period MAE: 39.53\n"
     ]
    },
    {
     "name": "stderr",
     "output_type": "stream",
     "text": [
      "22:49:57 - cmdstanpy - INFO - Chain [1] start processing\n",
      "22:49:58 - cmdstanpy - INFO - Chain [1] done processing\n",
      "22:49:58 - cmdstanpy - INFO - Chain [1] start processing\n",
      "22:49:58 - cmdstanpy - INFO - Chain [1] done processing\n",
      "22:49:58 - cmdstanpy - INFO - Chain [1] done processing\n"
     ]
    },
    {
     "name": "stdout",
     "output_type": "stream",
     "text": [
      "It's underpredicted.\n",
      "Monthly Error: 30.16 Period MAE: 2.5100000000000002\n"
     ]
    },
    {
     "name": "stderr",
     "output_type": "stream",
     "text": [
      "22:49:59 - cmdstanpy - INFO - Chain [1] start processing\n",
      "22:49:59 - cmdstanpy - INFO - Chain [1] done processing\n"
     ]
    },
    {
     "name": "stdout",
     "output_type": "stream",
     "text": [
      "It's underpredicted.\n",
      "Monthly Error: 43.07 Period MAE: 45.18\n",
      "It's underpredicted.\n",
      "Monthly Error: 38.31 Period MAE: 38.07\n"
     ]
    },
    {
     "name": "stderr",
     "output_type": "stream",
     "text": [
      "22:50:01 - cmdstanpy - INFO - Chain [1] start processing\n",
      "22:50:01 - cmdstanpy - INFO - Chain [1] start processing\n",
      "22:50:02 - cmdstanpy - INFO - Chain [1] done processing\n",
      "22:50:02 - cmdstanpy - INFO - Chain [1] done processing\n"
     ]
    },
    {
     "name": "stdout",
     "output_type": "stream",
     "text": [
      "It's underpredicted.\n",
      "Monthly Error: 37.18 Period MAE: 37.46\n",
      "It's underpredicted.\n",
      "Monthly Error: 30.16 Period MAE: 2.5100000000000002\n",
      "It's underpredicted.\n",
      "Monthly Error: 44.79 Period MAE: 47.099999999999994\n"
     ]
    },
    {
     "name": "stderr",
     "output_type": "stream",
     "text": [
      "22:50:05 - cmdstanpy - INFO - Chain [1] start processing\n",
      "22:50:05 - cmdstanpy - INFO - Chain [1] start processing\n"
     ]
    },
    {
     "name": "stdout",
     "output_type": "stream",
     "text": [
      "It's underpredicted.\n",
      "Monthly Error: 37.18 Period MAE: 37.46\n"
     ]
    },
    {
     "name": "stderr",
     "output_type": "stream",
     "text": [
      "22:50:05 - cmdstanpy - INFO - Chain [1] done processing\n",
      "22:50:05 - cmdstanpy - INFO - Chain [1] start processing\n",
      "22:50:05 - cmdstanpy - INFO - Chain [1] start processing\n",
      "22:50:06 - cmdstanpy - INFO - Chain [1] done processing\n",
      "22:50:06 - cmdstanpy - INFO - Chain [1] done processing\n",
      "22:50:06 - cmdstanpy - INFO - Chain [1] done processing\n"
     ]
    },
    {
     "name": "stdout",
     "output_type": "stream",
     "text": [
      "It's underpredicted.\n",
      "Monthly Error: 46.87 Period MAE: 49.58\n"
     ]
    },
    {
     "name": "stderr",
     "output_type": "stream",
     "text": [
      "22:50:07 - cmdstanpy - INFO - Chain [1] start processing\n"
     ]
    },
    {
     "name": "stdout",
     "output_type": "stream",
     "text": [
      "It's underpredicted.\n",
      "Monthly Error: 42.71 Period MAE: 44.76\n"
     ]
    },
    {
     "name": "stderr",
     "output_type": "stream",
     "text": [
      "22:50:08 - cmdstanpy - INFO - Chain [1] done processing\n",
      "22:50:09 - cmdstanpy - INFO - Chain [1] start processing\n",
      "22:50:09 - cmdstanpy - INFO - Chain [1] done processing\n"
     ]
    },
    {
     "name": "stdout",
     "output_type": "stream",
     "text": [
      "It's underpredicted.\n",
      "Monthly Error: 93.26 Period MAE: 93.36\n",
      "It's underpredicted.\n",
      "Monthly Error: 48.38 Period MAE: 51.23\n",
      "It's underpredicted.\n",
      "Monthly Error: 37.18 Period MAE: 37.46\n"
     ]
    },
    {
     "name": "stderr",
     "output_type": "stream",
     "text": [
      "22:50:10 - cmdstanpy - INFO - Chain [1] start processing\n",
      "22:50:11 - cmdstanpy - INFO - Chain [1] start processing\n",
      "22:50:11 - cmdstanpy - INFO - Chain [1] start processing\n",
      "22:50:11 - cmdstanpy - INFO - Chain [1] done processing\n",
      "22:50:11 - cmdstanpy - INFO - Chain [1] done processing\n",
      "22:50:12 - cmdstanpy - INFO - Chain [1] done processing\n"
     ]
    },
    {
     "name": "stdout",
     "output_type": "stream",
     "text": [
      "It's underpredicted.\n",
      "Monthly Error: 94.48 Period MAE: 94.58\n"
     ]
    },
    {
     "name": "stderr",
     "output_type": "stream",
     "text": [
      "22:50:13 - cmdstanpy - INFO - Chain [1] start processing\n",
      "22:50:13 - cmdstanpy - INFO - Chain [1] done processing\n"
     ]
    },
    {
     "name": "stdout",
     "output_type": "stream",
     "text": [
      "It's underpredicted.\n",
      "Monthly Error: 40.8 Period MAE: 42.120000000000005\n",
      "It's underpredicted.\n",
      "Monthly Error: 46.27 Period MAE: 48.88\n"
     ]
    },
    {
     "name": "stderr",
     "output_type": "stream",
     "text": [
      "22:50:15 - cmdstanpy - INFO - Chain [1] start processing\n"
     ]
    },
    {
     "name": "stdout",
     "output_type": "stream",
     "text": [
      "It's underpredicted.\n",
      "Monthly Error:It's underpredicted."
     ]
    },
    {
     "name": "stderr",
     "output_type": "stream",
     "text": [
      "22:50:16 - cmdstanpy - INFO - Chain [1] done processing\n"
     ]
    },
    {
     "name": "stdout",
     "output_type": "stream",
     "text": [
      " \n",
      "Monthly Error:86.67 93.24 Period MAE: Period MAE:  87.0399999999999993.34\n",
      "\n"
     ]
    },
    {
     "name": "stderr",
     "output_type": "stream",
     "text": [
      "22:50:17 - cmdstanpy - INFO - Chain [1] start processing\n",
      "22:50:17 - cmdstanpy - INFO - Chain [1] done processing\n",
      "22:50:17 - cmdstanpy - INFO - Chain [1] start processing\n"
     ]
    },
    {
     "name": "stdout",
     "output_type": "stream",
     "text": [
      "It's underpredicted.\n",
      "Monthly Error: 43.66 Period MAE: "
     ]
    },
    {
     "name": "stderr",
     "output_type": "stream",
     "text": [
      "22:50:18 - cmdstanpy - INFO - Chain [1] start processing\n"
     ]
    },
    {
     "name": "stdout",
     "output_type": "stream",
     "text": [
      "45.49\n"
     ]
    },
    {
     "name": "stderr",
     "output_type": "stream",
     "text": [
      "22:50:18 - cmdstanpy - INFO - Chain [1] start processing\n",
      "22:50:18 - cmdstanpy - INFO - Chain [1] done processing\n",
      "22:50:18 - cmdstanpy - INFO - Chain [1] done processing\n",
      "22:50:19 - cmdstanpy - INFO - Chain [1] done processing\n"
     ]
    },
    {
     "name": "stdout",
     "output_type": "stream",
     "text": [
      "It's underpredicted.\n",
      "Monthly Error: 46.27 Period MAE: 48.91\n",
      "It's underpredicted.\n",
      "Monthly Error: 86.42 Period MAE: 86.8\n"
     ]
    },
    {
     "name": "stderr",
     "output_type": "stream",
     "text": [
      "22:50:21 - cmdstanpy - INFO - Chain [1] start processing\n"
     ]
    },
    {
     "name": "stdout",
     "output_type": "stream",
     "text": [
      "It's underpredicted.\n",
      "Monthly Error: 41.77 Period MAE: 43.39\n"
     ]
    },
    {
     "name": "stderr",
     "output_type": "stream",
     "text": [
      "22:50:21 - cmdstanpy - INFO - Chain [1] done processing\n",
      "22:50:22 - cmdstanpy - INFO - Chain [1] start processing\n",
      "22:50:22 - cmdstanpy - INFO - Chain [1] start processing\n",
      "22:50:22 - cmdstanpy - INFO - Chain [1] done processing\n"
     ]
    },
    {
     "name": "stdout",
     "output_type": "stream",
     "text": [
      "It's underpredicted.\n",
      "Monthly Error: 86.35 Period MAE: 86.72999999999999\n"
     ]
    },
    {
     "name": "stderr",
     "output_type": "stream",
     "text": [
      "22:50:23 - cmdstanpy - INFO - Chain [1] done processing\n",
      "22:50:23 - cmdstanpy - INFO - Chain [1] start processing\n"
     ]
    },
    {
     "name": "stdout",
     "output_type": "stream",
     "text": [
      "It's underpredicted.\n",
      "Monthly Error: 47.21 Period MAE: 49.9\n"
     ]
    },
    {
     "name": "stderr",
     "output_type": "stream",
     "text": [
      "22:50:25 - cmdstanpy - INFO - Chain [1] done processing\n"
     ]
    },
    {
     "name": "stdout",
     "output_type": "stream",
     "text": [
      "It's underpredicted.\n",
      "Monthly Error: 93.07 Period MAE: 93.16\n"
     ]
    },
    {
     "name": "stderr",
     "output_type": "stream",
     "text": [
      "22:50:25 - cmdstanpy - INFO - Chain [1] start processing\n"
     ]
    },
    {
     "name": "stdout",
     "output_type": "stream",
     "text": [
      "It's underpredicted.\n",
      "Monthly Error: 94.48 Period MAE: 94.58"
     ]
    },
    {
     "name": "stderr",
     "output_type": "stream",
     "text": [
      "22:50:26 - cmdstanpy - INFO - Chain [1] done processing\n"
     ]
    },
    {
     "name": "stdout",
     "output_type": "stream",
     "text": [
      "\n"
     ]
    },
    {
     "name": "stderr",
     "output_type": "stream",
     "text": [
      "22:50:26 - cmdstanpy - INFO - Chain [1] start processing\n",
      "22:50:26 - cmdstanpy - INFO - Chain [1] start processing\n",
      "22:50:26 - cmdstanpy - INFO - Chain [1] done processing\n",
      "22:50:26 - cmdstanpy - INFO - Chain [1] done processing\n"
     ]
    },
    {
     "name": "stdout",
     "output_type": "stream",
     "text": [
      "It's underpredicted.\n",
      "Monthly Error: 43.25 Period MAE: 45.37\n",
      "It's underpredicted.\n",
      "Monthly Error: 25.94 Period MAE: 19.75\n"
     ]
    },
    {
     "name": "stderr",
     "output_type": "stream",
     "text": [
      "22:50:28 - cmdstanpy - INFO - Chain [1] start processing\n",
      "22:50:28 - cmdstanpy - INFO - Chain [1] done processing\n",
      "22:50:28 - cmdstanpy - INFO - Chain [1] start processing\n",
      "22:50:29 - cmdstanpy - INFO - Chain [1] done processing\n"
     ]
    },
    {
     "name": "stdout",
     "output_type": "stream",
     "text": [
      "It's underpredicted.\n",
      "Monthly Error: 29.27 Period MAE: 25.130000000000003\n",
      "It's underpredicted.\n",
      "Monthly Error: 50.45 Period MAE: 51.41\n"
     ]
    },
    {
     "name": "stderr",
     "output_type": "stream",
     "text": [
      "22:50:31 - cmdstanpy - INFO - Chain [1] start processing\n"
     ]
    },
    {
     "name": "stdout",
     "output_type": "stream",
     "text": [
      "It's underpredicted.\n",
      "Monthly Error: 93.41 Period MAE: 93.51\n"
     ]
    },
    {
     "name": "stderr",
     "output_type": "stream",
     "text": [
      "22:50:31 - cmdstanpy - INFO - Chain [1] done processing\n",
      "22:50:31 - cmdstanpy - INFO - Chain [1] start processing\n",
      "22:50:31 - cmdstanpy - INFO - Chain [1] start processing\n",
      "22:50:32 - cmdstanpy - INFO - Chain [1] done processing\n"
     ]
    },
    {
     "name": "stdout",
     "output_type": "stream",
     "text": [
      "It's underpredicted.\n",
      "Monthly Error: 50.96 Period MAE: 51.949999999999996"
     ]
    },
    {
     "name": "stderr",
     "output_type": "stream",
     "text": [
      "22:50:32 - cmdstanpy - INFO - Chain [1] done processing\n"
     ]
    },
    {
     "name": "stdout",
     "output_type": "stream",
     "text": [
      "\n"
     ]
    },
    {
     "name": "stderr",
     "output_type": "stream",
     "text": [
      "22:50:32 - cmdstanpy - INFO - Chain [1] start processing\n",
      "22:50:33 - cmdstanpy - INFO - Chain [1] done processing\n"
     ]
    },
    {
     "name": "stdout",
     "output_type": "stream",
     "text": [
      "It's underpredicted.\n",
      "Monthly Error: 25.25 Period MAE: 18.07\n",
      "It's underpredicted.\n",
      "Monthly Error: 25.92 Period MAE: 19.72\n"
     ]
    },
    {
     "name": "stderr",
     "output_type": "stream",
     "text": [
      "22:50:35 - cmdstanpy - INFO - Chain [1] start processing\n",
      "22:50:35 - cmdstanpy - INFO - Chain [1] start processing\n",
      "22:50:35 - cmdstanpy - INFO - Chain [1] done processing\n",
      "22:50:35 - cmdstanpy - INFO - Chain [1] done processing\n"
     ]
    },
    {
     "name": "stdout",
     "output_type": "stream",
     "text": [
      "It's overpredicted.\n",
      "Monthly Error: It's underpredicted.\n",
      "49.16 Period MAE:Monthly Error:  44.640.09\n",
      " Period MAE: 41.49\n",
      "It's underpredicted.\n",
      "Monthly Error: 29.25 Period MAE: 25.11\n"
     ]
    },
    {
     "name": "stderr",
     "output_type": "stream",
     "text": [
      "22:50:37 - cmdstanpy - INFO - Chain [1] start processing\n",
      "22:50:38 - cmdstanpy - INFO - Chain [1] done processing\n",
      "22:50:38 - cmdstanpy - INFO - Chain [1] start processing\n",
      "22:50:38 - cmdstanpy - INFO - Chain [1] start processing\n",
      "22:50:38 - cmdstanpy - INFO - Chain [1] done processing\n",
      "22:50:39 - cmdstanpy - INFO - Chain [1] done processing\n"
     ]
    },
    {
     "name": "stdout",
     "output_type": "stream",
     "text": [
      "It's overpredicted.\n",
      "Monthly Error: 46.65 Period MAE: 42.03\n",
      "It's underpredicted.\n",
      "Monthly Error: 37.82"
     ]
    },
    {
     "name": "stderr",
     "output_type": "stream",
     "text": [
      "22:50:39 - cmdstanpy - INFO - Chain [1] start processing\n"
     ]
    },
    {
     "name": "stdout",
     "output_type": "stream",
     "text": [
      " Period MAE: 36.730000000000004\n"
     ]
    },
    {
     "name": "stderr",
     "output_type": "stream",
     "text": [
      "22:50:39 - cmdstanpy - INFO - Chain [1] done processing\n",
      "22:50:41 - cmdstanpy - INFO - Chain [1] start processing\n"
     ]
    },
    {
     "name": "stdout",
     "output_type": "stream",
     "text": [
      "It's underpredicted.\n",
      "Monthly Error: "
     ]
    },
    {
     "name": "stderr",
     "output_type": "stream",
     "text": [
      "22:50:41 - cmdstanpy - INFO - Chain [1] done processing\n"
     ]
    },
    {
     "name": "stdout",
     "output_type": "stream",
     "text": [
      "24.48 Period MAE: 16.580000000000002\n"
     ]
    },
    {
     "name": "stderr",
     "output_type": "stream",
     "text": [
      "22:50:42 - cmdstanpy - INFO - Chain [1] start processing\n",
      "22:50:42 - cmdstanpy - INFO - Chain [1] done processing\n"
     ]
    },
    {
     "name": "stdout",
     "output_type": "stream",
     "text": [
      "It's overpredicted.\n",
      "Monthly Error: 49.06 Period MAE: It's underpredicted.44.519999999999996\n",
      "\n",
      "Monthly Error: 41.19 Period MAE: 41.620000000000005\n",
      "It's underpredicted.\n",
      "Monthly Error: 50.64 Period MAE: 51.6\n"
     ]
    },
    {
     "name": "stderr",
     "output_type": "stream",
     "text": [
      "22:50:44 - cmdstanpy - INFO - Chain [1] start processing\n",
      "22:50:44 - cmdstanpy - INFO - Chain [1] start processing\n",
      "22:50:44 - cmdstanpy - INFO - Chain [1] done processing\n",
      "22:50:44 - cmdstanpy - INFO - Chain [1] start processing\n",
      "22:50:44 - cmdstanpy - INFO - Chain [1] done processing\n",
      "22:50:45 - cmdstanpy - INFO - Chain [1] done processing\n"
     ]
    },
    {
     "name": "stdout",
     "output_type": "stream",
     "text": [
      "It's underpredicted.\n",
      "Monthly Error: 33.72 Period MAE: 34.56\n"
     ]
    },
    {
     "name": "stderr",
     "output_type": "stream",
     "text": [
      "22:50:46 - cmdstanpy - INFO - Chain [1] start processing\n",
      "22:50:46 - cmdstanpy - INFO - Chain [1] done processing\n"
     ]
    },
    {
     "name": "stdout",
     "output_type": "stream",
     "text": [
      "It's underpredicted.\n",
      "Monthly Error: 50.89 Period MAE: 51.870000000000005\n",
      "It's underpredicted.\n",
      "Monthly Error: 37.01 Period MAE: 33.2\n"
     ]
    },
    {
     "name": "stderr",
     "output_type": "stream",
     "text": [
      "22:50:47 - cmdstanpy - INFO - Chain [1] start processing\n",
      "22:50:48 - cmdstanpy - INFO - Chain [1] start processing\n",
      "22:50:48 - cmdstanpy - INFO - Chain [1] done processing\n",
      "22:50:48 - cmdstanpy - INFO - Chain [1] done processing\n"
     ]
    },
    {
     "name": "stdout",
     "output_type": "stream",
     "text": [
      "It's underpredicted.\n",
      "Monthly Error: 39.19 Period MAE: 40.64\n",
      "It's underpredicted.\n",
      "Monthly Error: 36.86 Period MAE: It's underpredicted.37.55\n",
      "Monthly Error:\n",
      " 28.46 Period MAE: 9.35\n"
     ]
    },
    {
     "name": "stderr",
     "output_type": "stream",
     "text": [
      "22:50:50 - cmdstanpy - INFO - Chain [1] start processing\n",
      "22:50:50 - cmdstanpy - INFO - Chain [1] start processing\n",
      "22:50:51 - cmdstanpy - INFO - Chain [1] done processing\n",
      "22:50:51 - cmdstanpy - INFO - Chain [1] start processing\n"
     ]
    },
    {
     "name": "stdout",
     "output_type": "stream",
     "text": [
      "It's underpredicted.\n",
      "Monthly Error: 31.41 Period MAE: 2.26\n"
     ]
    },
    {
     "name": "stderr",
     "output_type": "stream",
     "text": [
      "22:50:51 - cmdstanpy - INFO - Chain [1] done processing\n",
      "22:50:51 - cmdstanpy - INFO - Chain [1] done processing\n",
      "22:50:52 - cmdstanpy - INFO - Chain [1] start processing\n",
      "22:50:52 - cmdstanpy - INFO - Chain [1] done processing\n"
     ]
    },
    {
     "name": "stdout",
     "output_type": "stream",
     "text": [
      "It's underpredicted.\n",
      "Monthly Error: 47.66 Period MAE: 50.449999999999996\n"
     ]
    },
    {
     "name": "stderr",
     "output_type": "stream",
     "text": [
      "22:50:53 - cmdstanpy - INFO - Chain [1] start processing\n",
      "22:50:53 - cmdstanpy - INFO - Chain [1] done processing\n"
     ]
    },
    {
     "name": "stdout",
     "output_type": "stream",
     "text": [
      "It's underpredicted.\n",
      "Monthly Error: 31.83 Period MAE: 31.1\n",
      "It's overpredicted.\n",
      "Monthly Error: "
     ]
    },
    {
     "name": "stderr",
     "output_type": "stream",
     "text": [
      "22:50:55 - cmdstanpy - INFO - Chain [1] start processing\n"
     ]
    },
    {
     "name": "stdout",
     "output_type": "stream",
     "text": [
      "39.91 Period MAE: 2.4299999999999997\n",
      "It's underpredicted.\n",
      "Monthly Error: 53.13 Period MAE: 56.11000000000001\n"
     ]
    },
    {
     "name": "stderr",
     "output_type": "stream",
     "text": [
      "22:50:55 - cmdstanpy - INFO - Chain [1] done processing\n"
     ]
    },
    {
     "name": "stdout",
     "output_type": "stream",
     "text": [
      "It's overpredicted.\n",
      "Monthly Error: 45.39 Period MAE: 40.2\n"
     ]
    },
    {
     "name": "stderr",
     "output_type": "stream",
     "text": [
      "22:50:56 - cmdstanpy - INFO - Chain [1] start processing\n",
      "22:50:56 - cmdstanpy - INFO - Chain [1] start processing\n",
      "22:50:56 - cmdstanpy - INFO - Chain [1] start processing\n",
      "22:50:57 - cmdstanpy - INFO - Chain [1] done processing\n",
      "22:50:57 - cmdstanpy - INFO - Chain [1] done processing\n",
      "22:50:57 - cmdstanpy - INFO - Chain [1] done processing\n"
     ]
    },
    {
     "name": "stdout",
     "output_type": "stream",
     "text": [
      "It's underpredicted.\n",
      "Monthly Error: 41.27 Period MAE: 42.54\n"
     ]
    },
    {
     "name": "stderr",
     "output_type": "stream",
     "text": [
      "22:50:59 - cmdstanpy - INFO - Chain [1] start processing\n",
      "22:50:59 - cmdstanpy - INFO - Chain [1] done processing\n"
     ]
    },
    {
     "name": "stdout",
     "output_type": "stream",
     "text": [
      "It's underpredicted.\n",
      "Monthly Error: 44.95 Period MAE: 47.47It's overpredicted.\n",
      "\n",
      "Monthly Error: 43.22 Period MAE: 37.87\n"
     ]
    },
    {
     "name": "stderr",
     "output_type": "stream",
     "text": [
      "22:51:00 - cmdstanpy - INFO - Chain [1] start processing\n"
     ]
    },
    {
     "name": "stdout",
     "output_type": "stream",
     "text": [
      "It's overpredicted.\n",
      "Monthly Error: 43.89 Period MAE: 38.06\n"
     ]
    },
    {
     "name": "stderr",
     "output_type": "stream",
     "text": [
      "22:51:01 - cmdstanpy - INFO - Chain [1] done processing\n",
      "22:51:01 - cmdstanpy - INFO - Chain [1] start processing\n",
      "22:51:01 - cmdstanpy - INFO - Chain [1] done processing\n",
      "22:51:02 - cmdstanpy - INFO - Chain [1] start processing\n"
     ]
    },
    {
     "name": "stdout",
     "output_type": "stream",
     "text": [
      "It's underpredicted.\n",
      "Monthly Error: 30.33 Period MAE: 3.01\n",
      "It's underpredicted."
     ]
    },
    {
     "name": "stderr",
     "output_type": "stream",
     "text": [
      "22:51:04 - cmdstanpy - INFO - Chain [1] done processing\n"
     ]
    },
    {
     "name": "stdout",
     "output_type": "stream",
     "text": [
      "\n",
      "Monthly Error: 46.48 Period MAE: 48.010000000000005\n"
     ]
    },
    {
     "name": "stderr",
     "output_type": "stream",
     "text": [
      "22:51:04 - cmdstanpy - INFO - Chain [1] start processing\n",
      "22:51:05 - cmdstanpy - INFO - Chain [1] start processing\n",
      "22:51:05 - cmdstanpy - INFO - Chain [1] done processing\n",
      "22:51:06 - cmdstanpy - INFO - Chain [1] done processing\n"
     ]
    },
    {
     "name": "stdout",
     "output_type": "stream",
     "text": [
      "It's underpredicted.\n",
      "Monthly Error: 29.5 Period MAE: 8.04\n",
      "It's underpredicted."
     ]
    },
    {
     "name": "stderr",
     "output_type": "stream",
     "text": [
      "22:51:06 - cmdstanpy - INFO - Chain [1] start processing\n"
     ]
    },
    {
     "name": "stdout",
     "output_type": "stream",
     "text": [
      "\n",
      "Monthly Error: 40.23It's underpredicted. Period MAE:\n",
      "Monthly Error: 41.29\n",
      " 41.41 "
     ]
    },
    {
     "name": "stderr",
     "output_type": "stream",
     "text": [
      "22:51:07 - cmdstanpy - INFO - Chain [1] done processing\n"
     ]
    },
    {
     "name": "stdout",
     "output_type": "stream",
     "text": [
      "Period MAE: 43.24\n"
     ]
    },
    {
     "name": "stderr",
     "output_type": "stream",
     "text": [
      "22:51:07 - cmdstanpy - INFO - Chain [1] start processing\n",
      "22:51:08 - cmdstanpy - INFO - Chain [1] start processing\n",
      "22:51:08 - cmdstanpy - INFO - Chain [1] done processing\n",
      "22:51:08 - cmdstanpy - INFO - Chain [1] done processing\n"
     ]
    },
    {
     "name": "stdout",
     "output_type": "stream",
     "text": [
      "It's underpredicted.\n",
      "It's underpredicted.Monthly Error:\n",
      "Monthly Error:  47.4135.87  Period MAE:Period MAE:  49.76999999999999636.16\n",
      "\n",
      "It's underpredicted.\n",
      "Monthly Error: 35.92 Period MAE: 10.68\n"
     ]
    },
    {
     "name": "stderr",
     "output_type": "stream",
     "text": [
      "22:51:11 - cmdstanpy - INFO - Chain [1] start processing\n",
      "22:51:11 - cmdstanpy - INFO - Chain [1] done processing\n",
      "22:51:11 - cmdstanpy - INFO - Chain [1] start processing\n",
      "22:51:11 - cmdstanpy - INFO - Chain [1] start processing\n",
      "22:51:11 - cmdstanpy - INFO - Chain [1] done processing\n"
     ]
    },
    {
     "name": "stdout",
     "output_type": "stream",
     "text": [
      "It's underpredicted.\n",
      "Monthly Error: 35.87 Period MAE: 36.16\n"
     ]
    },
    {
     "name": "stderr",
     "output_type": "stream",
     "text": [
      "22:51:12 - cmdstanpy - INFO - Chain [1] start processing\n",
      "22:51:12 - cmdstanpy - INFO - Chain [1] done processing\n",
      "22:51:12 - cmdstanpy - INFO - Chain [1] done processing\n"
     ]
    },
    {
     "name": "stdout",
     "output_type": "stream",
     "text": [
      "It's underpredicted.\n",
      "Monthly Error: 36.7 Period MAE: 35.18\n"
     ]
    },
    {
     "name": "stderr",
     "output_type": "stream",
     "text": [
      "22:51:14 - cmdstanpy - INFO - Chain [1] start processing\n",
      "22:51:14 - cmdstanpy - INFO - Chain [1] done processing\n"
     ]
    },
    {
     "name": "stdout",
     "output_type": "stream",
     "text": [
      "It's underpredicted.\n",
      "Monthly Error: 38.94 Period MAE: 39.23\n",
      "It's overpredicted.\n",
      "Monthly Error: 31.01 Period MAE: 4.55\n"
     ]
    },
    {
     "name": "stderr",
     "output_type": "stream",
     "text": [
      "22:51:16 - cmdstanpy - INFO - Chain [1] start processing\n"
     ]
    },
    {
     "name": "stdout",
     "output_type": "stream",
     "text": [
      "It's underpredicted.\n",
      "Monthly Error: 35.84 Period MAE:"
     ]
    },
    {
     "name": "stderr",
     "output_type": "stream",
     "text": [
      "22:51:16 - cmdstanpy - INFO - Chain [1] done processing\n"
     ]
    },
    {
     "name": "stdout",
     "output_type": "stream",
     "text": [
      " 36.13\n",
      "It's underpredicted.\n",
      "Monthly Error: 41.03 Period MAE: 41.47\n"
     ]
    },
    {
     "name": "stderr",
     "output_type": "stream",
     "text": [
      "22:51:17 - cmdstanpy - INFO - Chain [1] start processing\n",
      "22:51:17 - cmdstanpy - INFO - Chain [1] start processing\n",
      "22:51:17 - cmdstanpy - INFO - Chain [1] start processing\n",
      "22:51:17 - cmdstanpy - INFO - Chain [1] done processing\n",
      "22:51:17 - cmdstanpy - INFO - Chain [1] done processing\n",
      "22:51:18 - cmdstanpy - INFO - Chain [1] done processing\n"
     ]
    },
    {
     "name": "stdout",
     "output_type": "stream",
     "text": [
      "It's underpredicted.\n",
      "Monthly Error: 42.98 Period MAE: 45.14\n"
     ]
    },
    {
     "name": "stderr",
     "output_type": "stream",
     "text": [
      "22:51:19 - cmdstanpy - INFO - Chain [1] start processing\n",
      "22:51:20 - cmdstanpy - INFO - Chain [1] done processing\n"
     ]
    },
    {
     "name": "stdout",
     "output_type": "stream",
     "text": [
      "It's overpredicted.\n",
      "Monthly Error: 31.01 Period MAE: 4.55\n",
      "It's underpredicted.\n",
      "Monthly Error: 34.52 Period MAE: 30.85\n"
     ]
    },
    {
     "name": "stderr",
     "output_type": "stream",
     "text": [
      "22:51:21 - cmdstanpy - INFO - Chain [1] start processing\n",
      "22:51:22 - cmdstanpy - INFO - Chain [1] start processing\n",
      "22:51:22 - cmdstanpy - INFO - Chain [1] done processing\n"
     ]
    },
    {
     "name": "stdout",
     "output_type": "stream",
     "text": [
      "It's overpredicted.\n",
      "Monthly Error: 31.01 Period MAE: 4.55\n"
     ]
    },
    {
     "name": "stderr",
     "output_type": "stream",
     "text": [
      "22:51:22 - cmdstanpy - INFO - Chain [1] done processing\n"
     ]
    },
    {
     "name": "stdout",
     "output_type": "stream",
     "text": [
      "It's underpredicted.\n",
      "Monthly Error: 49.79 Period MAE: 52.66\n"
     ]
    },
    {
     "name": "stderr",
     "output_type": "stream",
     "text": [
      "22:51:24 - cmdstanpy - INFO - Chain [1] start processing\n"
     ]
    },
    {
     "name": "stdout",
     "output_type": "stream",
     "text": [
      "It's underpredicted.\n",
      "Monthly Error: 35.79 Period MAE: 36.08\n"
     ]
    },
    {
     "name": "stderr",
     "output_type": "stream",
     "text": [
      "22:51:24 - cmdstanpy - INFO - Chain [1] start processing\n",
      "22:51:25 - cmdstanpy - INFO - Chain [1] done processing\n",
      "22:51:25 - cmdstanpy - INFO - Chain [1] done processing\n",
      "22:51:25 - cmdstanpy - INFO - Chain [1] start processing\n",
      "22:51:25 - cmdstanpy - INFO - Chain [1] done processing\n"
     ]
    },
    {
     "name": "stdout",
     "output_type": "stream",
     "text": [
      "It's underpredicted.\n",
      "Monthly Error: 35.79 Period MAE: 36.08\n",
      "It's underpredicted.\n",
      "Monthly Error: 46.31"
     ]
    },
    {
     "name": "stderr",
     "output_type": "stream",
     "text": [
      "22:51:26 - cmdstanpy - INFO - Chain [1] start processing\n"
     ]
    },
    {
     "name": "stdout",
     "output_type": "stream",
     "text": [
      " Period MAE: 49.0\n"
     ]
    },
    {
     "name": "stderr",
     "output_type": "stream",
     "text": [
      "22:51:26 - cmdstanpy - INFO - Chain [1] done processing\n",
      "22:51:27 - cmdstanpy - INFO - Chain [1] start processing\n"
     ]
    },
    {
     "name": "stdout",
     "output_type": "stream",
     "text": [
      "It's underpredicted.\n",
      "Monthly Error: 39.2 Period MAE:"
     ]
    },
    {
     "name": "stderr",
     "output_type": "stream",
     "text": [
      "22:51:27 - cmdstanpy - INFO - Chain [1] done processing\n"
     ]
    },
    {
     "name": "stdout",
     "output_type": "stream",
     "text": [
      " 39.989999999999995\n"
     ]
    },
    {
     "name": "stderr",
     "output_type": "stream",
     "text": [
      "22:51:29 - cmdstanpy - INFO - Chain [1] start processing\n",
      "22:51:29 - cmdstanpy - INFO - Chain [1] done processing\n"
     ]
    },
    {
     "name": "stdout",
     "output_type": "stream",
     "text": [
      "It's underpredicted.\n",
      "Monthly Error: 52.3 Period MAE: 55.379999999999995\n",
      "It's underpredicted.\n",
      "Monthly Error: 35.87 Period MAE: 36.16\n",
      "It's underpredicted.\n",
      "Monthly Error: 35.77 Period MAE: 9.4\n"
     ]
    },
    {
     "name": "stderr",
     "output_type": "stream",
     "text": [
      "22:51:31 - cmdstanpy - INFO - Chain [1] start processing\n",
      "22:51:31 - cmdstanpy - INFO - Chain [1] start processing\n",
      "22:51:31 - cmdstanpy - INFO - Chain [1] done processing\n",
      "22:51:31 - cmdstanpy - INFO - Chain [1] start processing\n",
      "22:51:31 - cmdstanpy - INFO - Chain [1] done processing\n",
      "22:51:32 - cmdstanpy - INFO - Chain [1] done processing\n"
     ]
    },
    {
     "name": "stdout",
     "output_type": "stream",
     "text": [
      "It's underpredicted.\n",
      "Monthly Error: 39.07 Period MAE: 39.98\n",
      "It's underpredicted.\n",
      "Monthly Error: 36.13 Period MAE: 7.969999999999999\n"
     ]
    },
    {
     "name": "stderr",
     "output_type": "stream",
     "text": [
      "22:51:33 - cmdstanpy - INFO - Chain [1] start processing\n",
      "22:51:33 - cmdstanpy - INFO - Chain [1] done processing\n"
     ]
    },
    {
     "name": "stdout",
     "output_type": "stream",
     "text": [
      "It's underpredicted.\n",
      "Monthly Error: 41.33 Period MAE: "
     ]
    },
    {
     "name": "stderr",
     "output_type": "stream",
     "text": [
      "22:51:34 - cmdstanpy - INFO - Chain [1] start processing\n"
     ]
    },
    {
     "name": "stdout",
     "output_type": "stream",
     "text": [
      "43.33\n"
     ]
    },
    {
     "name": "stderr",
     "output_type": "stream",
     "text": [
      "22:51:35 - cmdstanpy - INFO - Chain [1] done processing\n",
      "22:51:35 - cmdstanpy - INFO - Chain [1] start processing\n",
      "22:51:35 - cmdstanpy - INFO - Chain [1] done processing\n"
     ]
    },
    {
     "name": "stdout",
     "output_type": "stream",
     "text": [
      "It's underpredicted.\n",
      "Monthly Error: 36.63 Period MAE: 5.94\n",
      "It's underpredicted.\n",
      "Monthly Error: 43.84 Period MAE: 44.91\n",
      "It's overpredicted.\n",
      "Monthly Error: 35.68 Period MAE: 2.74\n"
     ]
    },
    {
     "name": "stderr",
     "output_type": "stream",
     "text": [
      "22:51:37 - cmdstanpy - INFO - Chain [1] start processing\n",
      "22:51:37 - cmdstanpy - INFO - Chain [1] start processing\n",
      "22:51:38 - cmdstanpy - INFO - Chain [1] start processing\n",
      "22:51:38 - cmdstanpy - INFO - Chain [1] done processing\n",
      "22:51:38 - cmdstanpy - INFO - Chain [1] done processing\n",
      "22:51:38 - cmdstanpy - INFO - Chain [1] done processing\n"
     ]
    },
    {
     "name": "stdout",
     "output_type": "stream",
     "text": [
      "It's overpredicted.\n",
      "Monthly Error: 35.27 Period MAE: 1.09\n"
     ]
    },
    {
     "name": "stderr",
     "output_type": "stream",
     "text": [
      "22:51:39 - cmdstanpy - INFO - Chain [1] start processing\n"
     ]
    },
    {
     "name": "stdout",
     "output_type": "stream",
     "text": [
      "It's underpredicted.\n",
      "Monthly Error:"
     ]
    },
    {
     "name": "stderr",
     "output_type": "stream",
     "text": [
      "22:51:40 - cmdstanpy - INFO - Chain [1] done processing\n"
     ]
    },
    {
     "name": "stdout",
     "output_type": "stream",
     "text": [
      " 47.38 It's underpredicted.Period MAE:\n",
      " Monthly Error:50.28 36.67\n",
      " Period MAE: 36.95\n"
     ]
    },
    {
     "name": "stderr",
     "output_type": "stream",
     "text": [
      "22:51:41 - cmdstanpy - INFO - Chain [1] start processing\n",
      "22:51:41 - cmdstanpy - INFO - Chain [1] start processing\n",
      "22:51:41 - cmdstanpy - INFO - Chain [1] done processing\n",
      "22:51:42 - cmdstanpy - INFO - Chain [1] done processing\n"
     ]
    },
    {
     "name": "stdout",
     "output_type": "stream",
     "text": [
      "It's underpredicted.\n",
      "Monthly Error: 34.82 Period MAE: 0.77\n",
      "It's underpredicted.\n",
      "Monthly Error: 35.78 Period MAE: 9.379999999999999\n",
      "It's underpredicted.\n",
      "Monthly Error: 51.19 Period MAE: 54.16\n"
     ]
    },
    {
     "name": "stderr",
     "output_type": "stream",
     "text": [
      "22:51:44 - cmdstanpy - INFO - Chain [1] start processing\n",
      "22:51:44 - cmdstanpy - INFO - Chain [1] start processing\n",
      "22:51:44 - cmdstanpy - INFO - Chain [1] start processing\n",
      "22:51:45 - cmdstanpy - INFO - Chain [1] done processing\n",
      "22:51:45 - cmdstanpy - INFO - Chain [1] done processing\n"
     ]
    },
    {
     "name": "stdout",
     "output_type": "stream",
     "text": [
      "It's underpredicted.\n",
      "Monthly Error: 35.9 Period MAE: 8.88\n"
     ]
    },
    {
     "name": "stderr",
     "output_type": "stream",
     "text": [
      "22:51:45 - cmdstanpy - INFO - Chain [1] done processing\n",
      "22:51:45 - cmdstanpy - INFO - Chain [1] start processing\n",
      "22:51:46 - cmdstanpy - INFO - Chain [1] done processing\n"
     ]
    },
    {
     "name": "stdout",
     "output_type": "stream",
     "text": [
      "It's underpredicted.\n",
      "Monthly Error: 26.11 Period MAE: 20.04\n"
     ]
    },
    {
     "name": "stderr",
     "output_type": "stream",
     "text": [
      "22:51:47 - cmdstanpy - INFO - Chain [1] start processing\n"
     ]
    },
    {
     "name": "stdout",
     "output_type": "stream",
     "text": [
      "It's underpredicted.\n",
      "Monthly Error: 42.18 Period MAE:"
     ]
    },
    {
     "name": "stderr",
     "output_type": "stream",
     "text": [
      "22:51:48 - cmdstanpy - INFO - Chain [1] done processing\n"
     ]
    },
    {
     "name": "stdout",
     "output_type": "stream",
     "text": [
      " 44.42\n",
      "It's underpredicted.\n",
      "Monthly Error: 50.55 Period MAE: 51.519999999999996\n"
     ]
    },
    {
     "name": "stderr",
     "output_type": "stream",
     "text": [
      "22:51:49 - cmdstanpy - INFO - Chain [1] start processing\n"
     ]
    },
    {
     "name": "stdout",
     "output_type": "stream",
     "text": [
      "It's underpredicted."
     ]
    },
    {
     "name": "stderr",
     "output_type": "stream",
     "text": [
      "22:51:49 - cmdstanpy - INFO - Chain [1] done processing\n"
     ]
    },
    {
     "name": "stdout",
     "output_type": "stream",
     "text": [
      "\n",
      "Monthly Error: 36.89 Period MAE: 4.9\n",
      "It's underpredicted.\n",
      "Monthly Error: 29.02 Period MAE: 24.740000000000002\n"
     ]
    },
    {
     "name": "stderr",
     "output_type": "stream",
     "text": [
      "22:51:50 - cmdstanpy - INFO - Chain [1] start processing\n",
      "22:51:50 - cmdstanpy - INFO - Chain [1] start processing\n",
      "22:51:50 - cmdstanpy - INFO - Chain [1] start processing\n",
      "22:51:51 - cmdstanpy - INFO - Chain [1] done processing\n",
      "22:51:51 - cmdstanpy - INFO - Chain [1] done processing\n",
      "22:51:51 - cmdstanpy - INFO - Chain [1] done processing\n"
     ]
    },
    {
     "name": "stdout",
     "output_type": "stream",
     "text": [
      "It's underpredicted.\n",
      "Monthly Error: 26.54 Period MAE: 20.73\n"
     ]
    },
    {
     "name": "stderr",
     "output_type": "stream",
     "text": [
      "22:51:52 - cmdstanpy - INFO - Chain [1] start processing\n",
      "22:51:53 - cmdstanpy - INFO - Chain [1] done processing\n"
     ]
    },
    {
     "name": "stdout",
     "output_type": "stream",
     "text": [
      "It's underpredicted.\n",
      "Monthly Error: 50.48 Period MAE: 51.459999999999994\n",
      "It's underpredicted.\n",
      "Monthly Error: 24.83 Period MAE: 17.39\n"
     ]
    },
    {
     "name": "stderr",
     "output_type": "stream",
     "text": [
      "22:51:54 - cmdstanpy - INFO - Chain [1] start processing\n",
      "22:51:54 - cmdstanpy - INFO - Chain [1] start processing\n",
      "22:51:55 - cmdstanpy - INFO - Chain [1] done processing\n",
      "22:51:55 - cmdstanpy - INFO - Chain [1] done processing\n"
     ]
    },
    {
     "name": "stdout",
     "output_type": "stream",
     "text": [
      "It's underpredicted.\n",
      "Monthly Error: 40.24 Period MAE: 41.65\n",
      "It's overpredicted.\n",
      "Monthly Error: 49.25 Period MAE: 44.690000000000005\n",
      "It's underpredicted.\n",
      "Monthly Error: 29.0 Period MAE: 24.72\n"
     ]
    },
    {
     "name": "stderr",
     "output_type": "stream",
     "text": [
      "22:51:57 - cmdstanpy - INFO - Chain [1] start processing\n",
      "22:51:57 - cmdstanpy - INFO - Chain [1] start processing\n",
      "22:51:57 - cmdstanpy - INFO - Chain [1] done processing\n",
      "22:51:57 - cmdstanpy - INFO - Chain [1] done processing\n",
      "22:51:58 - cmdstanpy - INFO - Chain [1] start processing\n",
      "22:51:58 - cmdstanpy - INFO - Chain [1] done processing\n"
     ]
    },
    {
     "name": "stdout",
     "output_type": "stream",
     "text": [
      "It's overpredicted.\n",
      "Monthly Error: 46.55 Period MAE: 41.93\n",
      "It's underpredicted.\n",
      "Monthly Error: 37.82 Period MAE: 36.720000000000006\n"
     ]
    },
    {
     "name": "stderr",
     "output_type": "stream",
     "text": [
      "22:51:59 - cmdstanpy - INFO - Chain [1] start processing\n",
      "22:52:00 - cmdstanpy - INFO - Chain [1] done processing\n"
     ]
    },
    {
     "name": "stdout",
     "output_type": "stream",
     "text": [
      "It's underpredicted.\n",
      "Monthly Error: 24.95 Period MAE: 17.54\n"
     ]
    },
    {
     "name": "stderr",
     "output_type": "stream",
     "text": [
      "22:52:00 - cmdstanpy - INFO - Chain [1] start processing\n",
      "22:52:01 - cmdstanpy - INFO - Chain [1] done processing\n",
      "22:52:01 - cmdstanpy - INFO - Chain [1] start processing\n",
      "22:52:01 - cmdstanpy - INFO - Chain [1] done processing\n"
     ]
    },
    {
     "name": "stdout",
     "output_type": "stream",
     "text": [
      "It's underpredicted.\n",
      "Monthly Error: 41.66 Period MAE: 42.21\n",
      "It's overpredicted.\n",
      "Monthly Error: 49.2 Period MAE: 44.66\n"
     ]
    },
    {
     "name": "stderr",
     "output_type": "stream",
     "text": [
      "22:52:04 - cmdstanpy - INFO - Chain [1] start processing\n",
      "22:52:04 - cmdstanpy - INFO - Chain [1] start processing\n",
      "22:52:04 - cmdstanpy - INFO - Chain [1] done processing\n"
     ]
    },
    {
     "name": "stdout",
     "output_type": "stream",
     "text": [
      "It's underpredicted.\n",
      "Monthly Error: 51.16 Period MAE: 52.129999999999995\n"
     ]
    },
    {
     "name": "stderr",
     "output_type": "stream",
     "text": [
      "22:52:05 - cmdstanpy - INFO - Chain [1] start processing\n",
      "22:52:05 - cmdstanpy - INFO - Chain [1] done processing\n",
      "22:52:06 - cmdstanpy - INFO - Chain [1] done processing\n"
     ]
    },
    {
     "name": "stdout",
     "output_type": "stream",
     "text": [
      "It's underpredicted.\n",
      "Monthly Error: 51.1 Period MAE: 52.080000000000005\n"
     ]
    },
    {
     "name": "stderr",
     "output_type": "stream",
     "text": [
      "22:52:07 - cmdstanpy - INFO - Chain [1] start processing\n",
      "22:52:07 - cmdstanpy - INFO - Chain [1] done processing\n"
     ]
    },
    {
     "name": "stdout",
     "output_type": "stream",
     "text": [
      "It's underpredicted.\n",
      "Monthly Error: 33.12 Period MAE: 33.839999999999996\n",
      "It's underpredicted.\n",
      "Monthly Error: 37.08 Period MAE: 33.43\n"
     ]
    },
    {
     "name": "stderr",
     "output_type": "stream",
     "text": [
      "22:52:08 - cmdstanpy - INFO - Chain [1] start processing\n",
      "22:52:08 - cmdstanpy - INFO - Chain [1] done processing\n",
      "22:52:08 - cmdstanpy - INFO - Chain [1] start processing\n"
     ]
    },
    {
     "name": "stdout",
     "output_type": "stream",
     "text": [
      "It's underpredicted.\n",
      "Monthly Error:"
     ]
    },
    {
     "name": "stderr",
     "output_type": "stream",
     "text": [
      "22:52:09 - cmdstanpy - INFO - Chain [1] done processing\n"
     ]
    },
    {
     "name": "stdout",
     "output_type": "stream",
     "text": [
      " 41.07 Period MAE: 42.43\n",
      "It's underpredicted.\n",
      "Monthly Error: 36.98 Period MAE: 37.7\n"
     ]
    },
    {
     "name": "stderr",
     "output_type": "stream",
     "text": [
      "22:52:10 - cmdstanpy - INFO - Chain [1] start processing\n"
     ]
    },
    {
     "name": "stdout",
     "output_type": "stream",
     "text": [
      "It's underpredicted.\n",
      "Monthly Error: 64.96 Period MAE: 66.08000000000001\n"
     ]
    },
    {
     "name": "stderr",
     "output_type": "stream",
     "text": [
      "22:52:11 - cmdstanpy - INFO - Chain [1] start processing\n",
      "22:52:11 - cmdstanpy - INFO - Chain [1] done processing\n",
      "22:52:11 - cmdstanpy - INFO - Chain [1] start processing\n",
      "22:52:11 - cmdstanpy - INFO - Chain [1] done processing\n",
      "22:52:11 - cmdstanpy - INFO - Chain [1] done processing\n"
     ]
    },
    {
     "name": "stdout",
     "output_type": "stream",
     "text": [
      "It's underpredicted.\n",
      "Monthly Error: 46.7 It's underpredicted.Period MAE:\n",
      " Monthly Error: 25.4649.38\n",
      " Period MAE: 20.64\n",
      "It's underpredicted.\n",
      "Monthly Error: 31.7"
     ]
    },
    {
     "name": "stderr",
     "output_type": "stream",
     "text": [
      "22:52:13 - cmdstanpy - INFO - Chain [1] start processing\n"
     ]
    },
    {
     "name": "stdout",
     "output_type": "stream",
     "text": [
      " Period MAE: 30.91\n"
     ]
    },
    {
     "name": "stderr",
     "output_type": "stream",
     "text": [
      "22:52:14 - cmdstanpy - INFO - Chain [1] done processing\n",
      "22:52:14 - cmdstanpy - INFO - Chain [1] start processing\n",
      "22:52:14 - cmdstanpy - INFO - Chain [1] start processing\n",
      "22:52:15 - cmdstanpy - INFO - Chain [1] done processing\n",
      "22:52:15 - cmdstanpy - INFO - Chain [1] done processing\n"
     ]
    },
    {
     "name": "stdout",
     "output_type": "stream",
     "text": [
      "It's underpredicted.\n",
      "Monthly Error: 35.61 Period MAE: 26.900000000000002\n",
      "It's underpredicted.\n",
      "Monthly Error: 52.86 Period MAE: 55.800000000000004\n"
     ]
    },
    {
     "name": "stderr",
     "output_type": "stream",
     "text": [
      "22:52:17 - cmdstanpy - INFO - Chain [1] start processing\n"
     ]
    },
    {
     "name": "stdout",
     "output_type": "stream",
     "text": [
      "It's overpredicted.\n",
      "Monthly Error: 44.83 Period MAE: 39.37\n"
     ]
    },
    {
     "name": "stderr",
     "output_type": "stream",
     "text": [
      "22:52:17 - cmdstanpy - INFO - Chain [1] start processing\n",
      "22:52:18 - cmdstanpy - INFO - Chain [1] done processing\n",
      "22:52:18 - cmdstanpy - INFO - Chain [1] start processing\n",
      "22:52:18 - cmdstanpy - INFO - Chain [1] done processing\n",
      "22:52:18 - cmdstanpy - INFO - Chain [1] done processing\n"
     ]
    },
    {
     "name": "stdout",
     "output_type": "stream",
     "text": [
      "It's overpredicted.\n",
      "Monthly Error: 44.49 Period MAE: 39.73\n"
     ]
    },
    {
     "name": "stderr",
     "output_type": "stream",
     "text": [
      "22:52:19 - cmdstanpy - INFO - Chain [1] start processing\n",
      "22:52:19 - cmdstanpy - INFO - Chain [1] done processing\n"
     ]
    },
    {
     "name": "stdout",
     "output_type": "stream",
     "text": [
      "It's underpredicted.\n",
      "Monthly Error: 41.68 Period MAE: 43.09\n",
      "It's underpredicted.\n",
      "Monthly Error: 45.08 Period MAE: 47.63\n"
     ]
    },
    {
     "name": "stderr",
     "output_type": "stream",
     "text": [
      "22:52:21 - cmdstanpy - INFO - Chain [1] start processing\n",
      "22:52:21 - cmdstanpy - INFO - Chain [1] start processing\n",
      "22:52:21 - cmdstanpy - INFO - Chain [1] done processing\n",
      "22:52:21 - cmdstanpy - INFO - Chain [1] done processing\n"
     ]
    },
    {
     "name": "stdout",
     "output_type": "stream",
     "text": [
      "It's overpredicted.\n",
      "Monthly Error: 44.48 Period MAE: 38.97\n",
      "It's underpredicted.It's underpredicted.\n",
      "\n",
      "Monthly Error: Monthly Error:44.29 25.39  Period MAE:Period MAE:  24.95999999999999745.53\n",
      "\n"
     ]
    },
    {
     "name": "stderr",
     "output_type": "stream",
     "text": [
      "22:52:23 - cmdstanpy - INFO - Chain [1] start processing\n",
      "22:52:24 - cmdstanpy - INFO - Chain [1] done processing\n",
      "22:52:24 - cmdstanpy - INFO - Chain [1] start processing\n",
      "22:52:24 - cmdstanpy - INFO - Chain [1] start processing\n",
      "22:52:25 - cmdstanpy - INFO - Chain [1] done processing\n",
      "22:52:25 - cmdstanpy - INFO - Chain [1] done processing\n"
     ]
    },
    {
     "name": "stdout",
     "output_type": "stream",
     "text": [
      "It's underpredicted.\n",
      "Monthly Error: 42.65 Period MAE: 44.67\n",
      "It's underpredicted.\n",
      "Monthly Error: 35.23 Period MAE: 36.449999999999996\n"
     ]
    },
    {
     "name": "stderr",
     "output_type": "stream",
     "text": [
      "22:52:26 - cmdstanpy - INFO - Chain [1] start processing\n",
      "22:52:26 - cmdstanpy - INFO - Chain [1] done processing\n",
      "22:52:26 - cmdstanpy - INFO - Chain [1] start processing\n"
     ]
    },
    {
     "name": "stdout",
     "output_type": "stream",
     "text": [
      "It's underpredicted.\n",
      "Monthly Error: "
     ]
    },
    {
     "name": "stderr",
     "output_type": "stream",
     "text": [
      "22:52:27 - cmdstanpy - INFO - Chain [1] done processing\n"
     ]
    },
    {
     "name": "stdout",
     "output_type": "stream",
     "text": [
      "39.86 Period MAE: 40.589999999999996\n"
     ]
    },
    {
     "name": "stderr",
     "output_type": "stream",
     "text": [
      "22:52:28 - cmdstanpy - INFO - Chain [1] start processing\n",
      "22:52:28 - cmdstanpy - INFO - Chain [1] done processing\n"
     ]
    },
    {
     "name": "stdout",
     "output_type": "stream",
     "text": [
      "It's underpredicted.\n",
      "Monthly Error: 47.93 Period MAE: 50.42\n",
      "It's underpredicted.\n",
      "Monthly Error: 35.99 Period MAE: 36.28\n",
      "It's underpredicted.\n",
      "Monthly Error: 34.57 Period MAE: 20.69\n"
     ]
    },
    {
     "name": "stderr",
     "output_type": "stream",
     "text": [
      "22:52:30 - cmdstanpy - INFO - Chain [1] start processing\n",
      "22:52:30 - cmdstanpy - INFO - Chain [1] start processing\n",
      "22:52:30 - cmdstanpy - INFO - Chain [1] start processing\n",
      "22:52:30 - cmdstanpy - INFO - Chain [1] done processing\n",
      "22:52:30 - cmdstanpy - INFO - Chain [1] done processing\n",
      "22:52:30 - cmdstanpy - INFO - Chain [1] done processing\n"
     ]
    },
    {
     "name": "stdout",
     "output_type": "stream",
     "text": [
      "It's underpredicted.\n",
      "Monthly Error: It's underpredicted.35.12 \n",
      "Period MAE: Monthly Error: 33.040000000000006\n",
      "35.99 Period MAE: 36.28\n"
     ]
    },
    {
     "name": "stderr",
     "output_type": "stream",
     "text": [
      "22:52:32 - cmdstanpy - INFO - Chain [1] start processing\n",
      "22:52:32 - cmdstanpy - INFO - Chain [1] done processing\n"
     ]
    },
    {
     "name": "stdout",
     "output_type": "stream",
     "text": [
      "It's underpredicted.\n",
      "Monthly Error: 39.37 Period MAE: 40.0\n"
     ]
    },
    {
     "name": "stderr",
     "output_type": "stream",
     "text": [
      "22:52:33 - cmdstanpy - INFO - Chain [1] start processing\n",
      "22:52:33 - cmdstanpy - INFO - Chain [1] done processing\n",
      "22:52:34 - cmdstanpy - INFO - Chain [1] start processing\n",
      "22:52:34 - cmdstanpy - INFO - Chain [1] done processing\n"
     ]
    },
    {
     "name": "stdout",
     "output_type": "stream",
     "text": [
      "It's underpredicted.\n",
      "Monthly Error: 36.02 Period MAE: 36.309999999999995\n"
     ]
    },
    {
     "name": "stderr",
     "output_type": "stream",
     "text": [
      "22:52:36 - cmdstanpy - INFO - Chain [1] start processing\n"
     ]
    },
    {
     "name": "stdout",
     "output_type": "stream",
     "text": [
      "It's underpredicted.\n",
      "Monthly Error: 39.45 Period MAE:It's overpredicted. \n",
      "39.6Monthly Error:\n",
      " 30.97 Period MAE: 4.35\n"
     ]
    },
    {
     "name": "stderr",
     "output_type": "stream",
     "text": [
      "22:52:37 - cmdstanpy - INFO - Chain [1] start processing\n",
      "22:52:37 - cmdstanpy - INFO - Chain [1] done processing\n",
      "22:52:38 - cmdstanpy - INFO - Chain [1] start processing\n",
      "22:52:38 - cmdstanpy - INFO - Chain [1] done processing\n",
      "22:52:38 - cmdstanpy - INFO - Chain [1] done processing\n"
     ]
    },
    {
     "name": "stdout",
     "output_type": "stream",
     "text": [
      "It's overpredicted.\n",
      "Monthly Error: 30.97 Period MAE: 4.35\n"
     ]
    },
    {
     "name": "stderr",
     "output_type": "stream",
     "text": [
      "22:52:39 - cmdstanpy - INFO - Chain [1] start processing\n",
      "22:52:39 - cmdstanpy - INFO - Chain [1] done processing\n"
     ]
    },
    {
     "name": "stdout",
     "output_type": "stream",
     "text": [
      "It's underpredicted.\n",
      "Monthly Error: 35.67 Period MAE: 32.81\n",
      "It's underpredicted.\n",
      "Monthly Error: 45.16 Period MAE: 47.73\n"
     ]
    },
    {
     "name": "stderr",
     "output_type": "stream",
     "text": [
      "22:52:40 - cmdstanpy - INFO - Chain [1] start processing\n",
      "22:52:41 - cmdstanpy - INFO - Chain [1] start processing\n",
      "22:52:41 - cmdstanpy - INFO - Chain [1] done processing\n",
      "22:52:41 - cmdstanpy - INFO - Chain [1] done processing\n"
     ]
    },
    {
     "name": "stdout",
     "output_type": "stream",
     "text": [
      "It's overpredicted.\n",
      "Monthly Error: 30.97 Period MAE: 4.36\n",
      "It's underpredicted.\n",
      "It's underpredicted.\n",
      "Monthly Error:Monthly Error:  36.0149.39"
     ]
    },
    {
     "name": "stderr",
     "output_type": "stream",
     "text": [
      "22:52:43 - cmdstanpy - INFO - Chain [1] start processing\n"
     ]
    },
    {
     "name": "stdout",
     "output_type": "stream",
     "text": [
      "  Period MAE:Period MAE:  52.1800000000000136.3\n",
      "\n"
     ]
    },
    {
     "name": "stderr",
     "output_type": "stream",
     "text": [
      "22:52:44 - cmdstanpy - INFO - Chain [1] start processing\n",
      "22:52:44 - cmdstanpy - INFO - Chain [1] start processing\n",
      "22:52:44 - cmdstanpy - INFO - Chain [1] done processing\n",
      "22:52:44 - cmdstanpy - INFO - Chain [1] done processing\n",
      "22:52:44 - cmdstanpy - INFO - Chain [1] done processing\n"
     ]
    },
    {
     "name": "stdout",
     "output_type": "stream",
     "text": [
      "It's underpredicted.\n",
      "Monthly Error: 36.01 It's underpredicted.Period MAE:\n",
      " Monthly Error: 36.345.92 \n",
      "Period MAE: 48.53\n"
     ]
    },
    {
     "name": "stderr",
     "output_type": "stream",
     "text": [
      "22:52:46 - cmdstanpy - INFO - Chain [1] start processing\n",
      "22:52:46 - cmdstanpy - INFO - Chain [1] done processing\n",
      "22:52:46 - cmdstanpy - INFO - Chain [1] start processing\n"
     ]
    },
    {
     "name": "stdout",
     "output_type": "stream",
     "text": [
      "It's underpredicted.\n"
     ]
    },
    {
     "name": "stderr",
     "output_type": "stream",
     "text": [
      "22:52:47 - cmdstanpy - INFO - Chain [1] done processing\n"
     ]
    },
    {
     "name": "stdout",
     "output_type": "stream",
     "text": [
      "Monthly Error: 39.47 Period MAE: 40.43\n"
     ]
    },
    {
     "name": "stderr",
     "output_type": "stream",
     "text": [
      "22:52:48 - cmdstanpy - INFO - Chain [1] start processing\n"
     ]
    },
    {
     "name": "stdout",
     "output_type": "stream",
     "text": [
      "It's underpredicted.\n",
      "Monthly Error: 51.24"
     ]
    },
    {
     "name": "stderr",
     "output_type": "stream",
     "text": [
      "22:52:48 - cmdstanpy - INFO - Chain [1] done processing\n"
     ]
    },
    {
     "name": "stdout",
     "output_type": "stream",
     "text": [
      " Period MAE: 54.190000000000005\n",
      "It's underpredicted.\n",
      "Monthly Error: 36.04 Period MAE: 36.33\n"
     ]
    },
    {
     "name": "stderr",
     "output_type": "stream",
     "text": [
      "22:52:49 - cmdstanpy - INFO - Chain [1] start processing\n"
     ]
    },
    {
     "name": "stdout",
     "output_type": "stream",
     "text": [
      "It's underpredicted.\n",
      "Monthly Error: 34.12 Period MAE: 33.98\n"
     ]
    },
    {
     "name": "stderr",
     "output_type": "stream",
     "text": [
      "22:52:50 - cmdstanpy - INFO - Chain [1] start processing\n",
      "22:52:50 - cmdstanpy - INFO - Chain [1] start processing\n",
      "22:52:51 - cmdstanpy - INFO - Chain [1] done processing\n",
      "22:52:51 - cmdstanpy - INFO - Chain [1] done processing\n",
      "22:52:51 - cmdstanpy - INFO - Chain [1] done processing\n"
     ]
    },
    {
     "name": "stdout",
     "output_type": "stream",
     "text": [
      "It's underpredicted.\n",
      "Monthly Error: 34.84 Period MAE: 34.699999999999996\n"
     ]
    },
    {
     "name": "stderr",
     "output_type": "stream",
     "text": [
      "22:52:52 - cmdstanpy - INFO - Chain [1] start processing\n",
      "22:52:53 - cmdstanpy - INFO - Chain [1] done processing\n"
     ]
    },
    {
     "name": "stdout",
     "output_type": "stream",
     "text": [
      "It's underpredicted.\n",
      "Monthly Error: 39.45 Period MAE: 40.44\n",
      "It's underpredicted.\n",
      "Monthly Error: 40.65 Period MAE: 42.57\n"
     ]
    },
    {
     "name": "stderr",
     "output_type": "stream",
     "text": [
      "22:52:54 - cmdstanpy - INFO - Chain [1] start processing\n",
      "22:52:54 - cmdstanpy - INFO - Chain [1] done processing\n",
      "22:52:54 - cmdstanpy - INFO - Chain [1] start processing\n"
     ]
    },
    {
     "name": "stdout",
     "output_type": "stream",
     "text": [
      "It's underpredicted.\n",
      "Monthly Error: 32.9 Period MAE:"
     ]
    },
    {
     "name": "stderr",
     "output_type": "stream",
     "text": [
      "22:52:55 - cmdstanpy - INFO - Chain [1] done processing\n"
     ]
    },
    {
     "name": "stdout",
     "output_type": "stream",
     "text": [
      " 32.14\n",
      "It's underpredicted.\n",
      "Monthly Error:"
     ]
    },
    {
     "name": "stderr",
     "output_type": "stream",
     "text": [
      "22:52:56 - cmdstanpy - INFO - Chain [1] start processing\n"
     ]
    },
    {
     "name": "stdout",
     "output_type": "stream",
     "text": [
      " 43.3 Period MAE: 44.34\n",
      "It's underpredicted.\n",
      "Monthly Error: 29.03 Period MAE: 26.96\n"
     ]
    },
    {
     "name": "stderr",
     "output_type": "stream",
     "text": [
      "22:52:57 - cmdstanpy - INFO - Chain [1] start processing\n",
      "22:52:57 - cmdstanpy - INFO - Chain [1] done processing\n",
      "22:52:57 - cmdstanpy - INFO - Chain [1] start processing\n",
      "22:52:58 - cmdstanpy - INFO - Chain [1] done processing\n"
     ]
    },
    {
     "name": "stdout",
     "output_type": "stream",
     "text": [
      "It's underpredicted.\n",
      "Monthly Error: 29.06 Period MAE: 26.56\n"
     ]
    },
    {
     "name": "stderr",
     "output_type": "stream",
     "text": [
      "22:52:59 - cmdstanpy - INFO - Chain [1] done processing\n",
      "22:52:59 - cmdstanpy - INFO - Chain [1] start processing\n",
      "22:52:59 - cmdstanpy - INFO - Chain [1] done processing\n"
     ]
    },
    {
     "name": "stdout",
     "output_type": "stream",
     "text": [
      "It's underpredicted.\n",
      "Monthly Error: 47.55 Period MAE: 50.470000000000006\n",
      "It's underpredicted.\n",
      "Monthly Error: 37.03 \n",
      "Period MAE: 37.66"
     ]
    },
    {
     "name": "stderr",
     "output_type": "stream",
     "text": [
      "22:53:01 - cmdstanpy - INFO - Chain [1] start processing\n",
      "22:53:01 - cmdstanpy - INFO - Chain [1] start processing\n",
      "22:53:02 - cmdstanpy - INFO - Chain [1] done processing\n"
     ]
    },
    {
     "name": "stdout",
     "output_type": "stream",
     "text": [
      "It's underpredicted.\n",
      "Monthly Error: 32.45 Period MAE: 31.34\n"
     ]
    },
    {
     "name": "stderr",
     "output_type": "stream",
     "text": [
      "22:53:03 - cmdstanpy - INFO - Chain [1] done processing\n"
     ]
    },
    {
     "name": "stdout",
     "output_type": "stream",
     "text": [
      "It's underpredicted.\n",
      "Monthly Error: 28.99"
     ]
    },
    {
     "name": "stderr",
     "output_type": "stream",
     "text": [
      "22:53:04 - cmdstanpy - INFO - Chain [1] start processing\n"
     ]
    },
    {
     "name": "stdout",
     "output_type": "stream",
     "text": [
      " Period MAE:It's underpredicted. \n",
      "25.96Monthly Error:\n",
      " 32.46 Period MAE: 31.35\n"
     ]
    },
    {
     "name": "stderr",
     "output_type": "stream",
     "text": [
      "22:53:05 - cmdstanpy - INFO - Chain [1] start processing\n"
     ]
    },
    {
     "name": "stdout",
     "output_type": "stream",
     "text": [
      "It's underpredicted.\n",
      "Monthly Error: 51.66 Period MAE:"
     ]
    },
    {
     "name": "stderr",
     "output_type": "stream",
     "text": [
      "22:53:05 - cmdstanpy - INFO - Chain [1] done processing\n"
     ]
    },
    {
     "name": "stdout",
     "output_type": "stream",
     "text": [
      " 54.71\n"
     ]
    },
    {
     "name": "stderr",
     "output_type": "stream",
     "text": [
      "22:53:05 - cmdstanpy - INFO - Chain [1] start processing\n",
      "22:53:06 - cmdstanpy - INFO - Chain [1] done processing\n",
      "22:53:06 - cmdstanpy - INFO - Chain [1] done processing\n",
      "22:53:06 - cmdstanpy - INFO - Chain [1] start processing\n",
      "22:53:06 - cmdstanpy - INFO - Chain [1] done processing\n"
     ]
    },
    {
     "name": "stdout",
     "output_type": "stream",
     "text": [
      "It's underpredicted.\n",
      "Monthly Error: 25.81 Period MAE: 19.46\n"
     ]
    },
    {
     "name": "stderr",
     "output_type": "stream",
     "text": [
      "22:53:07 - cmdstanpy - INFO - Chain [1] start processing\n"
     ]
    },
    {
     "name": "stdout",
     "output_type": "stream",
     "text": [
      "It's underpredicted.\n",
      "Monthly Error:"
     ]
    },
    {
     "name": "stderr",
     "output_type": "stream",
     "text": [
      "22:53:08 - cmdstanpy - INFO - Chain [1] done processing\n"
     ]
    },
    {
     "name": "stdout",
     "output_type": "stream",
     "text": [
      " 41.77 Period MAE: 43.81\n",
      "It's underpredicted.\n",
      "Monthly Error: 51.13 Period MAE: 52.09\n",
      "It's underpredicted.\n",
      "Monthly Error: 28.11 Period MAE: 23.21\n"
     ]
    },
    {
     "name": "stderr",
     "output_type": "stream",
     "text": [
      "22:53:09 - cmdstanpy - INFO - Chain [1] start processing\n",
      "22:53:10 - cmdstanpy - INFO - Chain [1] done processing\n"
     ]
    },
    {
     "name": "stdout",
     "output_type": "stream",
     "text": [
      "It's underpredicted."
     ]
    },
    {
     "name": "stderr",
     "output_type": "stream",
     "text": [
      "22:53:11 - cmdstanpy - INFO - Chain [1] start processing\n"
     ]
    },
    {
     "name": "stdout",
     "output_type": "stream",
     "text": [
      "\n"
     ]
    },
    {
     "name": "stderr",
     "output_type": "stream",
     "text": [
      "22:53:11 - cmdstanpy - INFO - Chain [1] start processing\n"
     ]
    },
    {
     "name": "stdout",
     "output_type": "stream",
     "text": [
      "Monthly Error: 33.42 Period MAE: 33.06\n"
     ]
    },
    {
     "name": "stderr",
     "output_type": "stream",
     "text": [
      "22:53:11 - cmdstanpy - INFO - Chain [1] done processing\n",
      "22:53:11 - cmdstanpy - INFO - Chain [1] start processing\n",
      "22:53:11 - cmdstanpy - INFO - Chain [1] done processing\n",
      "22:53:11 - cmdstanpy - INFO - Chain [1] done processing\n"
     ]
    },
    {
     "name": "stdout",
     "output_type": "stream",
     "text": [
      "It's underpredicted.\n",
      "Monthly Error: 51.07 Period MAE:It's underpredicted. \n",
      "52.04Monthly Error:\n",
      " 26.12 Period MAE: 20.04\n"
     ]
    },
    {
     "name": "stderr",
     "output_type": "stream",
     "text": [
      "22:53:13 - cmdstanpy - INFO - Chain [1] start processing\n",
      "22:53:14 - cmdstanpy - INFO - Chain [1] done processing\n"
     ]
    },
    {
     "name": "stdout",
     "output_type": "stream",
     "text": [
      "It's underpredicted.\n",
      "Monthly Error: 24.77 Period MAE: 18.43\n"
     ]
    },
    {
     "name": "stderr",
     "output_type": "stream",
     "text": [
      "22:53:14 - cmdstanpy - INFO - Chain [1] start processing\n",
      "22:53:15 - cmdstanpy - INFO - Chain [1] done processing\n"
     ]
    },
    {
     "name": "stdout",
     "output_type": "stream",
     "text": [
      "It's underpredicted.\n"
     ]
    },
    {
     "name": "stderr",
     "output_type": "stream",
     "text": [
      "22:53:15 - cmdstanpy - INFO - Chain [1] start processing\n"
     ]
    },
    {
     "name": "stdout",
     "output_type": "stream",
     "text": [
      "Monthly Error: 50.71 Period MAE: 51.73\n"
     ]
    },
    {
     "name": "stderr",
     "output_type": "stream",
     "text": [
      "22:53:15 - cmdstanpy - INFO - Chain [1] done processing\n",
      "22:53:16 - cmdstanpy - INFO - Chain [1] start processing\n"
     ]
    },
    {
     "name": "stdout",
     "output_type": "stream",
     "text": [
      "It's underpredicted.\n",
      "Monthly Error: 28.06 Period MAE: 23.119999999999997\n",
      "It's overpredicted.\n",
      "Monthly Error: 46.42 Period MAE: 41.589999999999996\n"
     ]
    },
    {
     "name": "stderr",
     "output_type": "stream",
     "text": [
      "22:53:18 - cmdstanpy - INFO - Chain [1] start processing\n",
      "22:53:18 - cmdstanpy - INFO - Chain [1] done processing\n",
      "22:53:18 - cmdstanpy - INFO - Chain [1] start processing\n",
      "22:53:18 - cmdstanpy - INFO - Chain [1] done processing\n",
      "22:53:18 - cmdstanpy - INFO - Chain [1] done processing\n"
     ]
    },
    {
     "name": "stdout",
     "output_type": "stream",
     "text": [
      "It's overpredicted.\n",
      "Monthly Error: 45.39 Period MAE: 40.44\n"
     ]
    },
    {
     "name": "stderr",
     "output_type": "stream",
     "text": [
      "22:53:19 - cmdstanpy - INFO - Chain [1] start processing\n"
     ]
    },
    {
     "name": "stdout",
     "output_type": "stream",
     "text": [
      "It's underpredicted.\n",
      "Monthly Error:"
     ]
    },
    {
     "name": "stderr",
     "output_type": "stream",
     "text": [
      "22:53:20 - cmdstanpy - INFO - Chain [1] done processing\n"
     ]
    },
    {
     "name": "stdout",
     "output_type": "stream",
     "text": [
      " 33.03 Period MAE: 31.619999999999997\n",
      "It's underpredicted.\n",
      "Monthly Error: 24.68 Period MAE: 18.34\n"
     ]
    },
    {
     "name": "stderr",
     "output_type": "stream",
     "text": [
      "22:53:21 - cmdstanpy - INFO - Chain [1] start processing\n",
      "22:53:21 - cmdstanpy - INFO - Chain [1] done processing\n",
      "22:53:22 - cmdstanpy - INFO - Chain [1] start processing\n",
      "22:53:22 - cmdstanpy - INFO - Chain [1] done processing\n"
     ]
    },
    {
     "name": "stdout",
     "output_type": "stream",
     "text": [
      "It's underpredicted.\n",
      "Monthly Error: 36.36 Period MAE: 37.03\n",
      "It's overpredicted.\n",
      "Monthly Error: 46.7 Period MAE: 41.959999999999994\n",
      "It's underpredicted.\n",
      "Monthly Error: 51.16 Period MAE:"
     ]
    },
    {
     "name": "stderr",
     "output_type": "stream",
     "text": [
      "22:53:24 - cmdstanpy - INFO - Chain [1] start processing\n"
     ]
    },
    {
     "name": "stdout",
     "output_type": "stream",
     "text": [
      " 52.129999999999995\n"
     ]
    },
    {
     "name": "stderr",
     "output_type": "stream",
     "text": [
      "22:53:24 - cmdstanpy - INFO - Chain [1] start processing\n",
      "22:53:24 - cmdstanpy - INFO - Chain [1] start processing\n",
      "22:53:25 - cmdstanpy - INFO - Chain [1] done processing\n",
      "22:53:25 - cmdstanpy - INFO - Chain [1] done processing\n",
      "22:53:25 - cmdstanpy - INFO - Chain [1] done processing\n"
     ]
    },
    {
     "name": "stdout",
     "output_type": "stream",
     "text": [
      "It's underpredicted.\n",
      "Monthly Error: 34.89 Period MAE: 35.93\n"
     ]
    },
    {
     "name": "stderr",
     "output_type": "stream",
     "text": [
      "22:53:26 - cmdstanpy - INFO - Chain [1] start processing\n"
     ]
    },
    {
     "name": "stdout",
     "output_type": "stream",
     "text": [
      "It's underpredicted.\n",
      "Monthly Error: 51.04 Period MAE: 52.01\n"
     ]
    },
    {
     "name": "stderr",
     "output_type": "stream",
     "text": [
      "22:53:27 - cmdstanpy - INFO - Chain [1] done processing\n"
     ]
    },
    {
     "name": "stdout",
     "output_type": "stream",
     "text": [
      "It's underpredicted.\n"
     ]
    },
    {
     "name": "stderr",
     "output_type": "stream",
     "text": [
      "22:53:28 - cmdstanpy - INFO - Chain [1] start processing\n"
     ]
    },
    {
     "name": "stdout",
     "output_type": "stream",
     "text": [
      "Monthly Error: 31.21 Period MAE: 28.54\n"
     ]
    },
    {
     "name": "stderr",
     "output_type": "stream",
     "text": [
      "22:53:28 - cmdstanpy - INFO - Chain [1] done processing\n",
      "22:53:29 - cmdstanpy - INFO - Chain [1] start processing\n",
      "22:53:29 - cmdstanpy - INFO - Chain [1] done processing\n"
     ]
    },
    {
     "name": "stdout",
     "output_type": "stream",
     "text": [
      "It's underpredicted.\n",
      "Monthly Error: 50.85 Period MAE: 51.88\n",
      "It's underpredicted.\n",
      "Monthly Error: 36.46 It's underpredicted.Period MAE:\n",
      " Monthly Error:37.34\n",
      " 65.01 Period MAE: 66.12"
     ]
    },
    {
     "name": "stderr",
     "output_type": "stream",
     "text": [
      "22:53:30 - cmdstanpy - INFO - Chain [1] start processing\n"
     ]
    },
    {
     "name": "stdout",
     "output_type": "stream",
     "text": [
      "\n"
     ]
    },
    {
     "name": "stderr",
     "output_type": "stream",
     "text": [
      "22:53:31 - cmdstanpy - INFO - Chain [1] start processing\n",
      "22:53:31 - cmdstanpy - INFO - Chain [1] done processing\n",
      "22:53:31 - cmdstanpy - INFO - Chain [1] done processing\n",
      "22:53:32 - cmdstanpy - INFO - Chain [1] start processing\n",
      "22:53:32 - cmdstanpy - INFO - Chain [1] done processing\n"
     ]
    },
    {
     "name": "stdout",
     "output_type": "stream",
     "text": [
      "It's underpredicted.\n",
      "Monthly Error: 34.7 Period MAE: 35.76\n",
      "It's underpredicted.\n",
      "Monthly Error: 64.93 Period MAE: 66.05\n"
     ]
    },
    {
     "name": "stderr",
     "output_type": "stream",
     "text": [
      "22:53:33 - cmdstanpy - INFO - Chain [1] start processing\n",
      "22:53:33 - cmdstanpy - INFO - Chain [1] done processing\n"
     ]
    },
    {
     "name": "stdout",
     "output_type": "stream",
     "text": [
      "It's underpredicted.\n",
      "Monthly Error: 33.01 Period MAE: 33.589999999999996\n"
     ]
    },
    {
     "name": "stderr",
     "output_type": "stream",
     "text": [
      "22:53:34 - cmdstanpy - INFO - Chain [1] start processing\n",
      "22:53:34 - cmdstanpy - INFO - Chain [1] done processing\n",
      "22:53:35 - cmdstanpy - INFO - Chain [1] start processing\n",
      "22:53:35 - cmdstanpy - INFO - Chain [1] done processing\n"
     ]
    },
    {
     "name": "stdout",
     "output_type": "stream",
     "text": [
      "It's underpredicted.\n",
      "Monthly Error: 36.89 Period MAE: 37.89\n",
      "It's underpredicted.\n",
      "Monthly Error: 63.03 Period MAE: 64.18\n",
      "It's overpredicted.\n",
      "Monthly Error: "
     ]
    },
    {
     "name": "stderr",
     "output_type": "stream",
     "text": [
      "22:53:37 - cmdstanpy - INFO - Chain [1] start processing\n"
     ]
    },
    {
     "name": "stdout",
     "output_type": "stream",
     "text": [
      "37.02 Period MAE: 28.110000000000003\n"
     ]
    },
    {
     "name": "stderr",
     "output_type": "stream",
     "text": [
      "22:53:38 - cmdstanpy - INFO - Chain [1] start processing\n",
      "22:53:38 - cmdstanpy - INFO - Chain [1] start processing\n",
      "22:53:38 - cmdstanpy - INFO - Chain [1] done processing\n",
      "22:53:38 - cmdstanpy - INFO - Chain [1] done processing\n",
      "22:53:38 - cmdstanpy - INFO - Chain [1] done processing\n"
     ]
    },
    {
     "name": "stdout",
     "output_type": "stream",
     "text": [
      "It's overpredicted.\n",
      "Monthly Error: 37.04 Period MAE: 28.57\n"
     ]
    },
    {
     "name": "stderr",
     "output_type": "stream",
     "text": [
      "22:53:40 - cmdstanpy - INFO - Chain [1] start processing\n",
      "22:53:40 - cmdstanpy - INFO - Chain [1] done processing\n"
     ]
    },
    {
     "name": "stdout",
     "output_type": "stream",
     "text": [
      "It's underpredicted.\n",
      "Monthly Error: 40.62 Period MAE: 42.96\n",
      "It's underpredicted.\n",
      "Monthly Error: 33.26 Period MAE: 33.96\n"
     ]
    },
    {
     "name": "stderr",
     "output_type": "stream",
     "text": [
      "22:53:41 - cmdstanpy - INFO - Chain [1] start processing\n",
      "22:53:41 - cmdstanpy - INFO - Chain [1] start processing\n",
      "22:53:42 - cmdstanpy - INFO - Chain [1] done processing\n",
      "22:53:42 - cmdstanpy - INFO - Chain [1] done processing\n"
     ]
    },
    {
     "name": "stdout",
     "output_type": "stream",
     "text": [
      "It's overpredicted.\n",
      "Monthly Error: 36.81 Period MAE: 27.98\n",
      "It's underpredicted.\n",
      "Monthly Error: 43.25 Period MAE: 45.68\n",
      "It's underpredicted.\n",
      "Monthly Error: 65.05 Period MAE: 66.16\n"
     ]
    },
    {
     "name": "stderr",
     "output_type": "stream",
     "text": [
      "22:53:45 - cmdstanpy - INFO - Chain [1] start processing\n",
      "22:53:45 - cmdstanpy - INFO - Chain [1] start processing\n",
      "22:53:45 - cmdstanpy - INFO - Chain [1] start processing\n",
      "22:53:45 - cmdstanpy - INFO - Chain [1] done processing\n",
      "22:53:45 - cmdstanpy - INFO - Chain [1] done processing\n",
      "22:53:46 - cmdstanpy - INFO - Chain [1] done processing\n"
     ]
    },
    {
     "name": "stdout",
     "output_type": "stream",
     "text": [
      "It's underpredicted.\n",
      "Monthly Error: 64.98 Period MAE: 66.09\n",
      "It's underpredicted.\n",
      "Monthly Error: 43.11 Period MAE: 45.21\n"
     ]
    },
    {
     "name": "stderr",
     "output_type": "stream",
     "text": [
      "22:53:47 - cmdstanpy - INFO - Chain [1] start processing\n",
      "22:53:48 - cmdstanpy - INFO - Chain [1] done processing\n",
      "22:53:48 - cmdstanpy - INFO - Chain [1] start processing\n"
     ]
    },
    {
     "name": "stdout",
     "output_type": "stream",
     "text": [
      "It's underpredicted.\n",
      "Monthly Error: 38.77 Period MAE: 40.72\n"
     ]
    },
    {
     "name": "stderr",
     "output_type": "stream",
     "text": [
      "22:53:49 - cmdstanpy - INFO - Chain [1] done processing\n"
     ]
    },
    {
     "name": "stdout",
     "output_type": "stream",
     "text": [
      "It's underpredicted.\n",
      "Monthly Error: 63.06 "
     ]
    },
    {
     "name": "stderr",
     "output_type": "stream",
     "text": [
      "22:53:50 - cmdstanpy - INFO - Chain [1] start processing\n"
     ]
    },
    {
     "name": "stdout",
     "output_type": "stream",
     "text": [
      "Period MAE: 64.21\n"
     ]
    },
    {
     "name": "stderr",
     "output_type": "stream",
     "text": [
      "22:53:50 - cmdstanpy - INFO - Chain [1] done processing\n"
     ]
    },
    {
     "name": "stdout",
     "output_type": "stream",
     "text": [
      "It's underpredicted.\n",
      "Monthly Error: 45.25 Period MAE: 47.65\n"
     ]
    },
    {
     "name": "stderr",
     "output_type": "stream",
     "text": [
      "22:53:51 - cmdstanpy - INFO - Chain [1] start processing\n"
     ]
    },
    {
     "name": "stdout",
     "output_type": "stream",
     "text": [
      "It's underpredicted.\n",
      "Monthly Error: 37.17 Period MAE: 37.46\n"
     ]
    },
    {
     "name": "stderr",
     "output_type": "stream",
     "text": [
      "22:53:52 - cmdstanpy - INFO - Chain [1] start processing\n",
      "22:53:52 - cmdstanpy - INFO - Chain [1] start processing\n",
      "22:53:52 - cmdstanpy - INFO - Chain [1] done processing\n",
      "22:53:52 - cmdstanpy - INFO - Chain [1] done processing\n",
      "22:53:52 - cmdstanpy - INFO - Chain [1] done processing\n"
     ]
    },
    {
     "name": "stdout",
     "output_type": "stream",
     "text": [
      "It's underpredicted.\n",
      "Monthly Error: 37.17 Period MAE: 37.46\n",
      "It's underpredicted.\n",
      "Monthly Error: 36.7 Period MAE: 35.75\n",
      "It's underpredicted.\n",
      "Monthly Error: 42.46 Period MAE: 44.45\n"
     ]
    },
    {
     "name": "stderr",
     "output_type": "stream",
     "text": [
      "22:53:55 - cmdstanpy - INFO - Chain [1] start processing\n",
      "22:53:55 - cmdstanpy - INFO - Chain [1] done processing\n",
      "22:53:55 - cmdstanpy - INFO - Chain [1] start processing\n",
      "22:53:56 - cmdstanpy - INFO - Chain [1] start processing\n",
      "22:53:56 - cmdstanpy - INFO - Chain [1] done processing\n",
      "22:53:56 - cmdstanpy - INFO - Chain [1] done processing\n"
     ]
    },
    {
     "name": "stdout",
     "output_type": "stream",
     "text": [
      "It's underpredicted.\n",
      "Monthly Error: 37.18 Period MAE: 37.46\n"
     ]
    },
    {
     "name": "stderr",
     "output_type": "stream",
     "text": [
      "22:53:58 - cmdstanpy - INFO - Chain [1] start processing\n"
     ]
    },
    {
     "name": "stdout",
     "output_type": "stream",
     "text": [
      "It's underpredicted.\n",
      "Monthly Error: 39.19 Period MAE: 39.75\n"
     ]
    },
    {
     "name": "stderr",
     "output_type": "stream",
     "text": [
      "22:53:58 - cmdstanpy - INFO - Chain [1] done processing\n"
     ]
    },
    {
     "name": "stdout",
     "output_type": "stream",
     "text": [
      "It's underpredicted.\n",
      "Monthly Error: 30.16"
     ]
    },
    {
     "name": "stderr",
     "output_type": "stream",
     "text": [
      "22:53:59 - cmdstanpy - INFO - Chain [1] start processing\n"
     ]
    },
    {
     "name": "stdout",
     "output_type": "stream",
     "text": [
      " Period MAE: 2.5\n",
      "It's underpredicted.\n",
      "Monthly Error:  30.16Period MAE: 2.5\n"
     ]
    },
    {
     "name": "stderr",
     "output_type": "stream",
     "text": [
      "22:54:00 - cmdstanpy - INFO - Chain [1] done processing\n",
      "22:54:00 - cmdstanpy - INFO - Chain [1] start processing\n",
      "22:54:00 - cmdstanpy - INFO - Chain [1] start processing\n",
      "22:54:00 - cmdstanpy - INFO - Chain [1] done processing\n",
      "22:54:00 - cmdstanpy - INFO - Chain [1] done processing\n"
     ]
    },
    {
     "name": "stdout",
     "output_type": "stream",
     "text": [
      "It's underpredicted.\n",
      "Monthly Error: 38.0 Period MAE: 37.7\n",
      "It's underpredicted.\n",
      "Monthly Error: 43.97 Period MAE: 46.26\n",
      "It's underpredicted.\n",
      "Monthly Error: 37.18 Period MAE: 37.46\n"
     ]
    },
    {
     "name": "stderr",
     "output_type": "stream",
     "text": [
      "22:54:03 - cmdstanpy - INFO - Chain [1] start processing\n",
      "22:54:04 - cmdstanpy - INFO - Chain [1] done processing\n",
      "22:54:04 - cmdstanpy - INFO - Chain [1] start processing\n",
      "22:54:04 - cmdstanpy - INFO - Chain [1] start processing\n",
      "22:54:04 - cmdstanpy - INFO - Chain [1] done processing\n"
     ]
    },
    {
     "name": "stdout",
     "output_type": "stream",
     "text": [
      "It's underpredicted.\n"
     ]
    },
    {
     "name": "stderr",
     "output_type": "stream",
     "text": [
      "22:54:05 - cmdstanpy - INFO - Chain [1] done processing\n"
     ]
    },
    {
     "name": "stdout",
     "output_type": "stream",
     "text": [
      "Monthly Error: 30.16 Period MAE: 2.5100000000000002\n",
      "It's underpredicted.\n",
      "Monthly Error: 45.47 Period MAE: 47.92"
     ]
    },
    {
     "name": "stderr",
     "output_type": "stream",
     "text": [
      "22:54:06 - cmdstanpy - INFO - Chain [1] start processing\n"
     ]
    },
    {
     "name": "stdout",
     "output_type": "stream",
     "text": [
      "\n"
     ]
    },
    {
     "name": "stderr",
     "output_type": "stream",
     "text": [
      "22:54:06 - cmdstanpy - INFO - Chain [1] done processing\n",
      "22:54:06 - cmdstanpy - INFO - Chain [1] start processing\n",
      "22:54:07 - cmdstanpy - INFO - Chain [1] done processing\n"
     ]
    },
    {
     "name": "stdout",
     "output_type": "stream",
     "text": [
      "It's underpredicted.\n",
      "Monthly Error: 42.41 Period MAE: 44.32\n"
     ]
    },
    {
     "name": "stderr",
     "output_type": "stream",
     "text": [
      "22:54:08 - cmdstanpy - INFO - Chain [1] start processing\n",
      "22:54:08 - cmdstanpy - INFO - Chain [1] done processing\n"
     ]
    },
    {
     "name": "stdout",
     "output_type": "stream",
     "text": [
      "It's underpredicted.It's underpredicted.\n",
      "\n",
      "Monthly Error: 46.58Monthly Error:  Period MAE:37.18 Period MAE:  37.46\n",
      "49.24\n"
     ]
    },
    {
     "name": "stderr",
     "output_type": "stream",
     "text": [
      "22:54:09 - cmdstanpy - INFO - Chain [1] start processing\n",
      "22:54:09 - cmdstanpy - INFO - Chain [1] start processing\n",
      "22:54:10 - cmdstanpy - INFO - Chain [1] done processing\n",
      "22:54:10 - cmdstanpy - INFO - Chain [1] done processing\n"
     ]
    },
    {
     "name": "stdout",
     "output_type": "stream",
     "text": [
      "It's underpredicted.\n",
      "Monthly Error: 37.18 Period MAE: 37.46\n",
      "It's underpredicted.\n",
      "Monthly Error: 46.57It's underpredicted. \n",
      "Period MAE: Monthly Error:49.14 \n",
      "93.21 Period MAE: 93.31\n"
     ]
    },
    {
     "name": "stderr",
     "output_type": "stream",
     "text": [
      "22:54:12 - cmdstanpy - INFO - Chain [1] start processing\n",
      "22:54:13 - cmdstanpy - INFO - Chain [1] start processing\n",
      "22:54:13 - cmdstanpy - INFO - Chain [1] done processing\n",
      "22:54:13 - cmdstanpy - INFO - Chain [1] start processing\n",
      "22:54:13 - cmdstanpy - INFO - Chain [1] done processing\n"
     ]
    },
    {
     "name": "stdout",
     "output_type": "stream",
     "text": [
      "It's underpredicted.\n",
      "Monthly Error: 93.11 Period MAE: 93.2"
     ]
    },
    {
     "name": "stderr",
     "output_type": "stream",
     "text": [
      "22:54:14 - cmdstanpy - INFO - Chain [1] done processing\n"
     ]
    },
    {
     "name": "stdout",
     "output_type": "stream",
     "text": [
      "\n"
     ]
    },
    {
     "name": "stderr",
     "output_type": "stream",
     "text": [
      "22:54:14 - cmdstanpy - INFO - Chain [1] start processing\n"
     ]
    },
    {
     "name": "stdout",
     "output_type": "stream",
     "text": [
      "It's underpredicted.\n",
      "Monthly Error: 41.31 Period MAE: 42.76\n"
     ]
    },
    {
     "name": "stderr",
     "output_type": "stream",
     "text": [
      "22:54:15 - cmdstanpy - INFO - Chain [1] done processing\n",
      "22:54:16 - cmdstanpy - INFO - Chain [1] start processing\n"
     ]
    },
    {
     "name": "stdout",
     "output_type": "stream",
     "text": [
      "It's underpredicted.\n",
      "Monthly Error: 46.37 Period MAE: 48.99\n"
     ]
    },
    {
     "name": "stderr",
     "output_type": "stream",
     "text": [
      "22:54:17 - cmdstanpy - INFO - Chain [1] done processing\n"
     ]
    },
    {
     "name": "stdout",
     "output_type": "stream",
     "text": [
      "It's underpredicted.\n",
      "Monthly Error: 94.48 Period MAE: 94.58\n"
     ]
    },
    {
     "name": "stderr",
     "output_type": "stream",
     "text": [
      "22:54:17 - cmdstanpy - INFO - Chain [1] start processing\n",
      "22:54:18 - cmdstanpy - INFO - Chain [1] done processing\n"
     ]
    },
    {
     "name": "stdout",
     "output_type": "stream",
     "text": [
      "It's underpredicted.\n",
      "Monthly Error: 86.69 Period MAE: 87.06\n",
      "It's underpredicted.\n",
      "Monthly Error:"
     ]
    },
    {
     "name": "stderr",
     "output_type": "stream",
     "text": [
      "22:54:18 - cmdstanpy - INFO - Chain [1] start processing\n"
     ]
    },
    {
     "name": "stdout",
     "output_type": "stream",
     "text": [
      " 44.2 Period MAE: 46.129999999999995\n"
     ]
    },
    {
     "name": "stderr",
     "output_type": "stream",
     "text": [
      "22:54:19 - cmdstanpy - INFO - Chain [1] start processing\n",
      "22:54:19 - cmdstanpy - INFO - Chain [1] done processing\n",
      "22:54:19 - cmdstanpy - INFO - Chain [1] start processing\n",
      "22:54:20 - cmdstanpy - INFO - Chain [1] done processing\n",
      "22:54:20 - cmdstanpy - INFO - Chain [1] done processing\n"
     ]
    },
    {
     "name": "stdout",
     "output_type": "stream",
     "text": [
      "It's underpredicted.\n",
      "Monthly Error: 47.28 Period MAE: 50.080000000000005\n"
     ]
    },
    {
     "name": "stderr",
     "output_type": "stream",
     "text": [
      "22:54:21 - cmdstanpy - INFO - Chain [1] start processing\n",
      "22:54:21 - cmdstanpy - INFO - Chain [1] done processing\n"
     ]
    },
    {
     "name": "stdout",
     "output_type": "stream",
     "text": [
      "It's underpredicted.\n",
      "Monthly Error: 86.67 Period MAE: 87.03999999999999\n",
      "It's underpredicted.\n",
      "Monthly Error: 41.87 Period MAE: 43.519999999999996\n"
     ]
    },
    {
     "name": "stderr",
     "output_type": "stream",
     "text": [
      "22:54:23 - cmdstanpy - INFO - Chain [1] start processing\n",
      "22:54:23 - cmdstanpy - INFO - Chain [1] done processing\n"
     ]
    },
    {
     "name": "stdout",
     "output_type": "stream",
     "text": [
      "It's underpredicted.\n",
      "Monthly Error: 86.49 Period MAE: 86.86\n"
     ]
    },
    {
     "name": "stderr",
     "output_type": "stream",
     "text": [
      "22:54:24 - cmdstanpy - INFO - Chain [1] start processing\n",
      "22:54:24 - cmdstanpy - INFO - Chain [1] done processing\n"
     ]
    },
    {
     "name": "stdout",
     "output_type": "stream",
     "text": [
      "It's underpredicted.\n",
      "Monthly Error: 93.14 Period MAE: 93.23\n"
     ]
    },
    {
     "name": "stderr",
     "output_type": "stream",
     "text": [
      "22:54:25 - cmdstanpy - INFO - Chain [1] start processing\n"
     ]
    },
    {
     "name": "stdout",
     "output_type": "stream",
     "text": [
      "It's underpredicted.\n",
      "Monthly Error: 47.61 Period MAE: 50.32\n"
     ]
    },
    {
     "name": "stderr",
     "output_type": "stream",
     "text": [
      "22:54:25 - cmdstanpy - INFO - Chain [1] start processing\n",
      "22:54:25 - cmdstanpy - INFO - Chain [1] start processing\n",
      "22:54:26 - cmdstanpy - INFO - Chain [1] done processing\n",
      "22:54:26 - cmdstanpy - INFO - Chain [1] done processing\n",
      "22:54:26 - cmdstanpy - INFO - Chain [1] done processing\n"
     ]
    },
    {
     "name": "stdout",
     "output_type": "stream",
     "text": [
      "It's underpredicted.\n",
      "Monthly Error: 25.82 Period MAE: 19.439999999999998\n"
     ]
    },
    {
     "name": "stderr",
     "output_type": "stream",
     "text": [
      "22:54:28 - cmdstanpy - INFO - Chain [1] start processing\n"
     ]
    },
    {
     "name": "stdout",
     "output_type": "stream",
     "text": [
      "It's underpredicted."
     ]
    },
    {
     "name": "stderr",
     "output_type": "stream",
     "text": [
      "22:54:28 - cmdstanpy - INFO - Chain [1] done processing\n"
     ]
    },
    {
     "name": "stdout",
     "output_type": "stream",
     "text": [
      "\n",
      "Monthly Error: 94.48 Period MAE: It's underpredicted.94.59\n",
      "\n",
      "Monthly Error: 45.83 Period MAE: 48.33\n"
     ]
    },
    {
     "name": "stderr",
     "output_type": "stream",
     "text": [
      "22:54:29 - cmdstanpy - INFO - Chain [1] start processing\n",
      "22:54:29 - cmdstanpy - INFO - Chain [1] start processing\n",
      "22:54:29 - cmdstanpy - INFO - Chain [1] done processing\n",
      "22:54:30 - cmdstanpy - INFO - Chain [1] done processing\n"
     ]
    },
    {
     "name": "stdout",
     "output_type": "stream",
     "text": [
      "It's underpredicted.\n",
      "Monthly Error: 94.48 Period MAE: 94.58\n",
      "It's underpredicted.\n",
      "Monthly Error: 49.7 Period MAE: 50.61\n",
      "It's underpredicted.\n",
      "Monthly Error: 29.25 Period MAE: 25.080000000000002"
     ]
    },
    {
     "name": "stderr",
     "output_type": "stream",
     "text": [
      "22:54:32 - cmdstanpy - INFO - Chain [1] start processing\n"
     ]
    },
    {
     "name": "stdout",
     "output_type": "stream",
     "text": [
      "\n"
     ]
    },
    {
     "name": "stderr",
     "output_type": "stream",
     "text": [
      "22:54:32 - cmdstanpy - INFO - Chain [1] start processing\n",
      "22:54:32 - cmdstanpy - INFO - Chain [1] start processing\n",
      "22:54:32 - cmdstanpy - INFO - Chain [1] done processing\n",
      "22:54:32 - cmdstanpy - INFO - Chain [1] done processing\n",
      "22:54:32 - cmdstanpy - INFO - Chain [1] done processing\n"
     ]
    },
    {
     "name": "stdout",
     "output_type": "stream",
     "text": [
      "It's underpredicted.\n",
      "Monthly Error: 49.98 Period MAE: 50.91\n"
     ]
    },
    {
     "name": "stderr",
     "output_type": "stream",
     "text": [
      "22:54:33 - cmdstanpy - INFO - Chain [1] start processing\n",
      "22:54:33 - cmdstanpy - INFO - Chain [1] done processing\n"
     ]
    },
    {
     "name": "stdout",
     "output_type": "stream",
     "text": [
      "It's underpredicted.\n",
      "Monthly Error: 26.11 Period MAE: 20.01\n",
      "It's underpredicted.\n",
      "Monthly Error: 25.22 Period MAE: 17.93\n"
     ]
    },
    {
     "name": "stderr",
     "output_type": "stream",
     "text": [
      "22:54:35 - cmdstanpy - INFO - Chain [1] start processing\n",
      "22:54:36 - cmdstanpy - INFO - Chain [1] done processing\n",
      "22:54:36 - cmdstanpy - INFO - Chain [1] start processing\n",
      "22:54:36 - cmdstanpy - INFO - Chain [1] done processing\n"
     ]
    },
    {
     "name": "stdout",
     "output_type": "stream",
     "text": [
      "It's overpredicted.\n",
      "Monthly Error: 48.43 Period MAE: 43.93It's underpredicted.\n",
      "\n",
      "Monthly Error: 39.81 Period MAE: 41.18\n",
      "It's underpredicted.\n",
      "Monthly Error: 29.15 Period MAE: 24.95\n"
     ]
    },
    {
     "name": "stderr",
     "output_type": "stream",
     "text": [
      "22:54:38 - cmdstanpy - INFO - Chain [1] start processing\n",
      "22:54:38 - cmdstanpy - INFO - Chain [1] start processing\n",
      "22:54:38 - cmdstanpy - INFO - Chain [1] done processing\n",
      "22:54:38 - cmdstanpy - INFO - Chain [1] start processing\n",
      "22:54:39 - cmdstanpy - INFO - Chain [1] done processing\n",
      "22:54:39 - cmdstanpy - INFO - Chain [1] done processing\n"
     ]
    },
    {
     "name": "stdout",
     "output_type": "stream",
     "text": [
      "It's overpredicted.\n",
      "It's underpredicted.\n",
      "Monthly Error:Monthly Error: 45.83  38.66Period MAE: Period MAE:  37.92\n",
      "41.22\n"
     ]
    },
    {
     "name": "stderr",
     "output_type": "stream",
     "text": [
      "22:54:40 - cmdstanpy - INFO - Chain [1] start processing\n",
      "22:54:40 - cmdstanpy - INFO - Chain [1] done processing\n",
      "22:54:41 - cmdstanpy - INFO - Chain [1] start processing\n"
     ]
    },
    {
     "name": "stdout",
     "output_type": "stream",
     "text": [
      "It's underpredicted.\n",
      "Monthly Error: 24.84 Period MAE: 17.28\n"
     ]
    },
    {
     "name": "stderr",
     "output_type": "stream",
     "text": [
      "22:54:41 - cmdstanpy - INFO - Chain [1] done processing\n",
      "22:54:41 - cmdstanpy - INFO - Chain [1] start processing\n",
      "22:54:42 - cmdstanpy - INFO - Chain [1] done processing\n"
     ]
    },
    {
     "name": "stdout",
     "output_type": "stream",
     "text": [
      "It's underpredicted.\n",
      "Monthly Error: 42.72 Period MAE: 43.51\n",
      "It's overpredicted.\n",
      "Monthly Error: 48.62 Period MAE: 44.13\n",
      "It's underpredicted.\n",
      "Monthly Error: 49.66 Period MAE: 50.57000000000001\n"
     ]
    },
    {
     "name": "stderr",
     "output_type": "stream",
     "text": [
      "22:54:43 - cmdstanpy - INFO - Chain [1] start processing\n",
      "22:54:43 - cmdstanpy - INFO - Chain [1] start processing\n",
      "22:54:43 - cmdstanpy - INFO - Chain [1] done processing\n",
      "22:54:43 - cmdstanpy - INFO - Chain [1] start processing\n",
      "22:54:44 - cmdstanpy - INFO - Chain [1] done processing\n",
      "22:54:44 - cmdstanpy - INFO - Chain [1] done processing\n"
     ]
    },
    {
     "name": "stdout",
     "output_type": "stream",
     "text": [
      "It's underpredicted.\n",
      "Monthly Error: 33.46 Period MAE: 34.27\n",
      "It's underpredicted.\n",
      "Monthly Error: 49.68 Period MAE: "
     ]
    },
    {
     "name": "stderr",
     "output_type": "stream",
     "text": [
      "22:54:44 - cmdstanpy - INFO - Chain [1] start processing\n"
     ]
    },
    {
     "name": "stdout",
     "output_type": "stream",
     "text": [
      "50.6\n"
     ]
    },
    {
     "name": "stderr",
     "output_type": "stream",
     "text": [
      "22:54:45 - cmdstanpy - INFO - Chain [1] done processing\n",
      "22:54:45 - cmdstanpy - INFO - Chain [1] start processing\n"
     ]
    },
    {
     "name": "stdout",
     "output_type": "stream",
     "text": [
      "It's underpredicted."
     ]
    },
    {
     "name": "stderr",
     "output_type": "stream",
     "text": [
      "22:54:45 - cmdstanpy - INFO - Chain [1] done processing\n"
     ]
    },
    {
     "name": "stdout",
     "output_type": "stream",
     "text": [
      "\n",
      "Monthly Error: 37.43 Period MAE: 34.02\n"
     ]
    },
    {
     "name": "stderr",
     "output_type": "stream",
     "text": [
      "22:54:46 - cmdstanpy - INFO - Chain [1] start processing\n"
     ]
    },
    {
     "name": "stdout",
     "output_type": "stream",
     "text": [
      "It's underpredicted.\n",
      "Monthly Error: 39.76 Period MAE: 41.14\n"
     ]
    },
    {
     "name": "stderr",
     "output_type": "stream",
     "text": [
      "22:54:47 - cmdstanpy - INFO - Chain [1] done processing\n"
     ]
    },
    {
     "name": "stdout",
     "output_type": "stream",
     "text": [
      "It's underpredicted.\n",
      "Monthly Error: 37.52 Period MAE: 38.379999999999995\n",
      "It's underpredicted.\n",
      "Monthly Error: 29.68 Period MAE: 6.39\n"
     ]
    },
    {
     "name": "stderr",
     "output_type": "stream",
     "text": [
      "22:54:47 - cmdstanpy - INFO - Chain [1] start processing\n",
      "22:54:47 - cmdstanpy - INFO - Chain [1] start processing\n",
      "22:54:48 - cmdstanpy - INFO - Chain [1] done processing\n",
      "22:54:48 - cmdstanpy - INFO - Chain [1] start processing\n",
      "22:54:48 - cmdstanpy - INFO - Chain [1] done processing\n",
      "22:54:48 - cmdstanpy - INFO - Chain [1] done processing\n"
     ]
    },
    {
     "name": "stdout",
     "output_type": "stream",
     "text": [
      "It's underpredicted.\n",
      "Monthly Error: 33.04 Period MAE: 33.71\n"
     ]
    },
    {
     "name": "stderr",
     "output_type": "stream",
     "text": [
      "22:54:49 - cmdstanpy - INFO - Chain [1] start processing\n",
      "22:54:49 - cmdstanpy - INFO - Chain [1] done processing\n"
     ]
    },
    {
     "name": "stdout",
     "output_type": "stream",
     "text": [
      "It's underpredicted.\n",
      "Monthly Error: 30.06 Period MAE: 8.19\n",
      "It's underpredicted.\n",
      "Monthly Error: 31.77 Period MAE: 30.930000000000003\n"
     ]
    },
    {
     "name": "stderr",
     "output_type": "stream",
     "text": [
      "22:54:50 - cmdstanpy - INFO - Chain [1] start processing\n",
      "22:54:50 - cmdstanpy - INFO - Chain [1] start processing\n",
      "22:54:50 - cmdstanpy - INFO - Chain [1] done processing\n",
      "22:54:51 - cmdstanpy - INFO - Chain [1] done processing\n"
     ]
    },
    {
     "name": "stdout",
     "output_type": "stream",
     "text": [
      "It's underpredicted.\n",
      "Monthly Error: 34.02 Period MAE: 10.63\n",
      "It's overpredicted.\n",
      "Monthly Error: 45.08 Period MAE: 40.27\n"
     ]
    },
    {
     "name": "stderr",
     "output_type": "stream",
     "text": [
      "22:54:52 - cmdstanpy - INFO - Chain [1] start processing\n"
     ]
    },
    {
     "name": "stdout",
     "output_type": "stream",
     "text": [
      "It's underpredicted.\n",
      "Monthly Error: 36.49"
     ]
    },
    {
     "name": "stderr",
     "output_type": "stream",
     "text": [
      "22:54:52 - cmdstanpy - INFO - Chain [1] done processing\n"
     ]
    },
    {
     "name": "stdout",
     "output_type": "stream",
     "text": [
      " Period MAE: 37.1\n"
     ]
    },
    {
     "name": "stderr",
     "output_type": "stream",
     "text": [
      "22:54:52 - cmdstanpy - INFO - Chain [1] start processing\n",
      "22:54:53 - cmdstanpy - INFO - Chain [1] start processing\n",
      "22:54:53 - cmdstanpy - INFO - Chain [1] done processing\n",
      "22:54:53 - cmdstanpy - INFO - Chain [1] done processing\n"
     ]
    },
    {
     "name": "stdout",
     "output_type": "stream",
     "text": [
      "It's underpredicted.\n",
      "It's underpredicted.Monthly Error: 31.55 It's overpredicted.\n",
      "\n",
      "Monthly Error:Period MAE: 43.39Monthly Error:  30.48Period MAE:  43.2\n",
      "45.190000000000005 \n",
      "Period MAE: 38.24\n"
     ]
    },
    {
     "name": "stderr",
     "output_type": "stream",
     "text": [
      "22:54:54 - cmdstanpy - INFO - Chain [1] start processing\n",
      "22:54:55 - cmdstanpy - INFO - Chain [1] done processing\n",
      "22:54:55 - cmdstanpy - INFO - Chain [1] start processing\n",
      "22:54:55 - cmdstanpy - INFO - Chain [1] start processing\n",
      "22:54:55 - cmdstanpy - INFO - Chain [1] done processing\n",
      "22:54:56 - cmdstanpy - INFO - Chain [1] done processing\n"
     ]
    },
    {
     "name": "stdout",
     "output_type": "stream",
     "text": [
      "It's overpredicted.\n",
      "Monthly Error: 44.14 Period MAE: 38.76\n",
      "It's underpredicted.It's underpredicted.\n",
      "Monthly Error:\n",
      " 30.36Monthly Error: "
     ]
    },
    {
     "name": "stderr",
     "output_type": "stream",
     "text": [
      "22:54:57 - cmdstanpy - INFO - Chain [1] start processing\n"
     ]
    },
    {
     "name": "stdout",
     "output_type": "stream",
     "text": [
      " 45.55Period MAE: Period MAE:  4.0147.08\n",
      "\n"
     ]
    },
    {
     "name": "stderr",
     "output_type": "stream",
     "text": [
      "22:54:57 - cmdstanpy - INFO - Chain [1] start processing\n",
      "22:54:58 - cmdstanpy - INFO - Chain [1] done processing\n",
      "22:54:58 - cmdstanpy - INFO - Chain [1] done processing\n",
      "22:54:58 - cmdstanpy - INFO - Chain [1] start processing\n"
     ]
    },
    {
     "name": "stdout",
     "output_type": "stream",
     "text": [
      "It's underpredicted.\n",
      "Monthly Error: 29.22 Period MAE: 9.11\n"
     ]
    },
    {
     "name": "stderr",
     "output_type": "stream",
     "text": [
      "22:54:58 - cmdstanpy - INFO - Chain [1] done processing\n",
      "22:54:58 - cmdstanpy - INFO - Chain [1] start processing\n",
      "22:54:58 - cmdstanpy - INFO - Chain [1] done processing\n"
     ]
    },
    {
     "name": "stdout",
     "output_type": "stream",
     "text": [
      "It's underpredicted.\n",
      "Monthly Error: 41.93 Period MAE:It's underpredicted. \n",
      "43.74Monthly Error:\n",
      " 39.14 Period MAE: 39.54\n"
     ]
    },
    {
     "name": "stderr",
     "output_type": "stream",
     "text": [
      "22:55:00 - cmdstanpy - INFO - Chain [1] start processing\n",
      "22:55:00 - cmdstanpy - INFO - Chain [1] start processing\n",
      "22:55:00 - cmdstanpy - INFO - Chain [1] done processing\n",
      "22:55:00 - cmdstanpy - INFO - Chain [1] done processing\n"
     ]
    },
    {
     "name": "stdout",
     "output_type": "stream",
     "text": [
      "It's underpredicted.\n",
      "Monthly Error: 35.94 Period MAE: 36.230000000000004\n",
      "It's underpredicted.\n",
      "Monthly Error: 36.97 Period MAE: 14.360000000000001\n",
      "It's underpredicted.\n",
      "Monthly Error: 47.26 Period MAE: 49.53\n"
     ]
    },
    {
     "name": "stderr",
     "output_type": "stream",
     "text": [
      "22:55:02 - cmdstanpy - INFO - Chain [1] start processing\n",
      "22:55:02 - cmdstanpy - INFO - Chain [1] done processing\n",
      "22:55:02 - cmdstanpy - INFO - Chain [1] start processing\n"
     ]
    },
    {
     "name": "stdout",
     "output_type": "stream",
     "text": [
      "It's underpredicted.\n",
      "Monthly Error: 35.94 Period MAE: 36.230000000000004"
     ]
    },
    {
     "name": "stderr",
     "output_type": "stream",
     "text": [
      "22:55:02 - cmdstanpy - INFO - Chain [1] start processing\n"
     ]
    },
    {
     "name": "stdout",
     "output_type": "stream",
     "text": [
      "\n"
     ]
    },
    {
     "name": "stderr",
     "output_type": "stream",
     "text": [
      "22:55:03 - cmdstanpy - INFO - Chain [1] done processing\n",
      "22:55:03 - cmdstanpy - INFO - Chain [1] start processing\n",
      "22:55:03 - cmdstanpy - INFO - Chain [1] done processing\n",
      "22:55:03 - cmdstanpy - INFO - Chain [1] done processing\n"
     ]
    },
    {
     "name": "stdout",
     "output_type": "stream",
     "text": [
      "It's underpredicted.\n",
      "Monthly Error: 38.74 Period MAE: 40.45\n"
     ]
    },
    {
     "name": "stderr",
     "output_type": "stream",
     "text": [
      "22:55:04 - cmdstanpy - INFO - Chain [1] start processing\n",
      "22:55:05 - cmdstanpy - INFO - Chain [1] done processing\n"
     ]
    },
    {
     "name": "stdout",
     "output_type": "stream",
     "text": [
      "It's underpredicted.\n",
      "Monthly Error: 39.04 Period MAE: 38.78\n",
      "It's underpredicted.\n",
      "Monthly Error: 45.38 "
     ]
    },
    {
     "name": "stderr",
     "output_type": "stream",
     "text": [
      "22:55:06 - cmdstanpy - INFO - Chain [1] start processing\n"
     ]
    },
    {
     "name": "stdout",
     "output_type": "stream",
     "text": [
      "Period MAE: 47.81\n"
     ]
    },
    {
     "name": "stderr",
     "output_type": "stream",
     "text": [
      "22:55:06 - cmdstanpy - INFO - Chain [1] done processing\n"
     ]
    },
    {
     "name": "stdout",
     "output_type": "stream",
     "text": [
      "It's underpredicted.\n",
      "Monthly Error: 35.93 Period MAE:It's overpredicted.\n",
      " 36.22Monthly Error: \n",
      "30.98 Period MAE: 4.44\n"
     ]
    },
    {
     "name": "stderr",
     "output_type": "stream",
     "text": [
      "22:55:07 - cmdstanpy - INFO - Chain [1] start processing\n",
      "22:55:07 - cmdstanpy - INFO - Chain [1] start processing\n",
      "22:55:07 - cmdstanpy - INFO - Chain [1] done processing\n",
      "22:55:07 - cmdstanpy - INFO - Chain [1] start processing\n",
      "22:55:07 - cmdstanpy - INFO - Chain [1] done processing\n",
      "22:55:07 - cmdstanpy - INFO - Chain [1] done processing\n"
     ]
    },
    {
     "name": "stdout",
     "output_type": "stream",
     "text": [
      "It's underpredicted.\n",
      "Monthly Error: 41.14 Period MAE: 42.83\n"
     ]
    },
    {
     "name": "stderr",
     "output_type": "stream",
     "text": [
      "22:55:08 - cmdstanpy - INFO - Chain [1] start processing\n",
      "22:55:08 - cmdstanpy - INFO - Chain [1] done processing\n"
     ]
    },
    {
     "name": "stdout",
     "output_type": "stream",
     "text": [
      "It's overpredicted.\n",
      "Monthly Error: 30.98 Period MAE: 4.44\n",
      "It's underpredicted.\n",
      "Monthly Error:"
     ]
    },
    {
     "name": "stderr",
     "output_type": "stream",
     "text": [
      "22:55:09 - cmdstanpy - INFO - Chain [1] start processing\n"
     ]
    },
    {
     "name": "stdout",
     "output_type": "stream",
     "text": [
      " 36.68 Period MAE: 37.12\n"
     ]
    },
    {
     "name": "stderr",
     "output_type": "stream",
     "text": [
      "22:55:10 - cmdstanpy - INFO - Chain [1] done processing\n",
      "22:55:10 - cmdstanpy - INFO - Chain [1] start processing\n",
      "22:55:10 - cmdstanpy - INFO - Chain [1] done processing\n"
     ]
    },
    {
     "name": "stdout",
     "output_type": "stream",
     "text": [
      "It's underpredicted.\n",
      "Monthly Error: 35.87 Period MAE: 36.16\n",
      "It's underpredicted.It's overpredicted.\n",
      "\n",
      "Monthly Error: Monthly Error:30.98  48.19Period MAE: 4.44 Period MAE:\n",
      " 50.64999999999999\n"
     ]
    },
    {
     "name": "stderr",
     "output_type": "stream",
     "text": [
      "22:55:11 - cmdstanpy - INFO - Chain [1] start processing\n",
      "22:55:11 - cmdstanpy - INFO - Chain [1] start processing\n",
      "22:55:11 - cmdstanpy - INFO - Chain [1] done processing\n",
      "22:55:12 - cmdstanpy - INFO - Chain [1] start processing\n",
      "22:55:12 - cmdstanpy - INFO - Chain [1] done processing\n",
      "22:55:12 - cmdstanpy - INFO - Chain [1] done processing\n"
     ]
    },
    {
     "name": "stdout",
     "output_type": "stream",
     "text": [
      "It's underpredicted.\n",
      "Monthly Error: 45.03 Period MAE: 47.349999999999994\n",
      "It's underpredicted."
     ]
    },
    {
     "name": "stderr",
     "output_type": "stream",
     "text": [
      "22:55:13 - cmdstanpy - INFO - Chain [1] start processing\n"
     ]
    },
    {
     "name": "stdout",
     "output_type": "stream",
     "text": [
      "\n",
      "Monthly Error: 35.87 Period MAE: 36.16\n"
     ]
    },
    {
     "name": "stderr",
     "output_type": "stream",
     "text": [
      "22:55:13 - cmdstanpy - INFO - Chain [1] done processing\n"
     ]
    },
    {
     "name": "stdout",
     "output_type": "stream",
     "text": [
      "It's underpredicted."
     ]
    },
    {
     "name": "stderr",
     "output_type": "stream",
     "text": [
      "22:55:13 - cmdstanpy - INFO - Chain [1] start processing\n"
     ]
    },
    {
     "name": "stdout",
     "output_type": "stream",
     "text": [
      "\n",
      "Monthly Error: 39.18 Period MAE: 39.410000000000004\n"
     ]
    },
    {
     "name": "stderr",
     "output_type": "stream",
     "text": [
      "22:55:14 - cmdstanpy - INFO - Chain [1] done processing\n",
      "22:55:14 - cmdstanpy - INFO - Chain [1] start processing\n",
      "22:55:15 - cmdstanpy - INFO - Chain [1] done processing\n"
     ]
    },
    {
     "name": "stdout",
     "output_type": "stream",
     "text": [
      "It's underpredicted.\n",
      "Monthly Error: 35.89 Period MAE: 36.18\n",
      "It's underpredicted.\n",
      "Monthly Error: 50.09 Period MAE: 52.739999999999995\n",
      "It's underpredicted.\n",
      "Monthly Error: 39.57 Period MAE: 1.34\n"
     ]
    },
    {
     "name": "stderr",
     "output_type": "stream",
     "text": [
      "22:55:16 - cmdstanpy - INFO - Chain [1] start processing\n",
      "22:55:16 - cmdstanpy - INFO - Chain [1] start processing\n",
      "22:55:16 - cmdstanpy - INFO - Chain [1] done processing\n",
      "22:55:16 - cmdstanpy - INFO - Chain [1] start processing\n",
      "22:55:16 - cmdstanpy - INFO - Chain [1] done processing\n",
      "22:55:17 - cmdstanpy - INFO - Chain [1] done processing\n"
     ]
    },
    {
     "name": "stdout",
     "output_type": "stream",
     "text": [
      "It's underpredicted.\n",
      "Monthly Error: 44.16 Period MAE: 47.19\n",
      "It's underpredicted.\n"
     ]
    },
    {
     "name": "stderr",
     "output_type": "stream",
     "text": [
      "22:55:17 - cmdstanpy - INFO - Chain [1] start processing\n"
     ]
    },
    {
     "name": "stdout",
     "output_type": "stream",
     "text": [
      "Monthly Error: 36.75 Period MAE: "
     ]
    },
    {
     "name": "stderr",
     "output_type": "stream",
     "text": [
      "22:55:18 - cmdstanpy - INFO - Chain [1] done processing\n"
     ]
    },
    {
     "name": "stdout",
     "output_type": "stream",
     "text": [
      "11.940000000000001\n",
      "It's underpredicted.\n",
      "Monthly Error: 38.35 Period MAE: 5.86\n"
     ]
    },
    {
     "name": "stderr",
     "output_type": "stream",
     "text": [
      "22:55:18 - cmdstanpy - INFO - Chain [1] start processing\n"
     ]
    },
    {
     "name": "stdout",
     "output_type": "stream",
     "text": [
      "It's underpredicted.\n",
      "Monthly Error: 39.71 "
     ]
    },
    {
     "name": "stderr",
     "output_type": "stream",
     "text": [
      "22:55:18 - cmdstanpy - INFO - Chain [1] done processing\n"
     ]
    },
    {
     "name": "stdout",
     "output_type": "stream",
     "text": [
      "Period MAE: 41.339999999999996\n"
     ]
    },
    {
     "name": "stderr",
     "output_type": "stream",
     "text": [
      "22:55:19 - cmdstanpy - INFO - Chain [1] start processing\n",
      "22:55:19 - cmdstanpy - INFO - Chain [1] done processing\n",
      "22:55:19 - cmdstanpy - INFO - Chain [1] start processing\n"
     ]
    },
    {
     "name": "stdout",
     "output_type": "stream",
     "text": [
      "It's underpredicted.It's underpredicted.\n",
      "Monthly Error:\n"
     ]
    },
    {
     "name": "stderr",
     "output_type": "stream",
     "text": [
      "22:55:20 - cmdstanpy - INFO - Chain [1] done processing\n"
     ]
    },
    {
     "name": "stdout",
     "output_type": "stream",
     "text": [
      "Monthly Error:  36.6949.29  Period MAE:Period MAE:  52.531.34\n",
      "\n"
     ]
    },
    {
     "name": "stderr",
     "output_type": "stream",
     "text": [
      "22:55:21 - cmdstanpy - INFO - Chain [1] start processing\n",
      "22:55:21 - cmdstanpy - INFO - Chain [1] done processing\n",
      "22:55:21 - cmdstanpy - INFO - Chain [1] start processing\n"
     ]
    },
    {
     "name": "stdout",
     "output_type": "stream",
     "text": [
      "It's underpredicted.\n",
      "Monthly Error: 39.8 Period MAE: 42.16\n"
     ]
    },
    {
     "name": "stderr",
     "output_type": "stream",
     "text": [
      "22:55:21 - cmdstanpy - INFO - Chain [1] done processing\n",
      "22:55:21 - cmdstanpy - INFO - Chain [1] start processing\n"
     ]
    },
    {
     "name": "stdout",
     "output_type": "stream",
     "text": [
      "It's underpredicted.It's underpredicted.\n",
      "Monthly Error:\n",
      " Monthly Error:44.71 36.9  Period MAE:Period MAE:"
     ]
    },
    {
     "name": "stderr",
     "output_type": "stream",
     "text": [
      "22:55:22 - cmdstanpy - INFO - Chain [1] done processing\n"
     ]
    },
    {
     "name": "stdout",
     "output_type": "stream",
     "text": [
      "  0.33999999999999997\n",
      "46.989999999999995\n"
     ]
    },
    {
     "name": "stderr",
     "output_type": "stream",
     "text": [
      "22:55:22 - cmdstanpy - INFO - Chain [1] start processing\n",
      "22:55:22 - cmdstanpy - INFO - Chain [1] start processing\n",
      "22:55:23 - cmdstanpy - INFO - Chain [1] done processing\n",
      "22:55:23 - cmdstanpy - INFO - Chain [1] done processing\n"
     ]
    },
    {
     "name": "stdout",
     "output_type": "stream",
     "text": [
      "It's underpredicted.\n",
      "Monthly Error: 37.05 Period MAE: 10.77\n",
      "It's underpredicted.\n",
      "Monthly Error: 49.62 Period MAE: 52.21\n",
      "It's underpredicted.\n",
      "Monthly Error: 36.81 Period MAE: 0.8500000000000001\n"
     ]
    },
    {
     "name": "stderr",
     "output_type": "stream",
     "text": [
      "22:55:24 - cmdstanpy - INFO - Chain [1] start processing\n",
      "22:55:25 - cmdstanpy - INFO - Chain [1] start processing\n",
      "22:55:25 - cmdstanpy - INFO - Chain [1] done processing\n",
      "22:55:25 - cmdstanpy - INFO - Chain [1] start processing\n",
      "22:55:25 - cmdstanpy - INFO - Chain [1] done processing\n",
      "22:55:25 - cmdstanpy - INFO - Chain [1] done processing\n"
     ]
    },
    {
     "name": "stdout",
     "output_type": "stream",
     "text": [
      "It's underpredicted.\n",
      "Monthly Error: 37.87 Period MAE: 7.7\n",
      "It's underpredicted.\n",
      "Monthly Error: 26.19 Period MAE: "
     ]
    },
    {
     "name": "stderr",
     "output_type": "stream",
     "text": [
      "22:55:26 - cmdstanpy - INFO - Chain [1] start processing\n"
     ]
    },
    {
     "name": "stdout",
     "output_type": "stream",
     "text": [
      "20.06\n"
     ]
    },
    {
     "name": "stderr",
     "output_type": "stream",
     "text": [
      "22:55:26 - cmdstanpy - INFO - Chain [1] done processing\n",
      "22:55:26 - cmdstanpy - INFO - Chain [1] start processing\n"
     ]
    },
    {
     "name": "stdout",
     "output_type": "stream",
     "text": [
      "It's underpredicted.\n",
      "Monthly Error: 41.45 Period MAE: 43.34\n"
     ]
    },
    {
     "name": "stderr",
     "output_type": "stream",
     "text": [
      "22:55:27 - cmdstanpy - INFO - Chain [1] done processing\n",
      "22:55:27 - cmdstanpy - INFO - Chain [1] start processing\n",
      "22:55:27 - cmdstanpy - INFO - Chain [1] done processing\n"
     ]
    },
    {
     "name": "stdout",
     "output_type": "stream",
     "text": [
      "It's underpredicted.\n",
      "Monthly Error: 29.24 Period MAE: 25.06\n",
      "It's underpredicted.\n",
      "Monthly Error: 49.82 Period MAE: 50.739999999999995\n",
      "It's underpredicted.\n",
      "Monthly Error: 37.61 Period MAE: 8.75\n"
     ]
    },
    {
     "name": "stderr",
     "output_type": "stream",
     "text": [
      "22:55:29 - cmdstanpy - INFO - Chain [1] start processing\n",
      "22:55:29 - cmdstanpy - INFO - Chain [1] start processing\n",
      "22:55:29 - cmdstanpy - INFO - Chain [1] done processing\n",
      "22:55:29 - cmdstanpy - INFO - Chain [1] start processing\n",
      "22:55:29 - cmdstanpy - INFO - Chain [1] done processing\n"
     ]
    },
    {
     "name": "stdout",
     "output_type": "stream",
     "text": [
      "It's underpredicted.\n",
      "Monthly Error: 50.57 Period MAE: "
     ]
    },
    {
     "name": "stderr",
     "output_type": "stream",
     "text": [
      "22:55:29 - cmdstanpy - INFO - Chain [1] done processing\n"
     ]
    },
    {
     "name": "stdout",
     "output_type": "stream",
     "text": [
      "51.49\n"
     ]
    },
    {
     "name": "stderr",
     "output_type": "stream",
     "text": [
      "22:55:30 - cmdstanpy - INFO - Chain [1] start processing\n",
      "22:55:30 - cmdstanpy - INFO - Chain [1] done processing\n"
     ]
    },
    {
     "name": "stdout",
     "output_type": "stream",
     "text": [
      "It's underpredicted.\n",
      "Monthly Error: 25.83 Period MAE: 19.57\n",
      "It's underpredicted.\n",
      "Monthly Error: 24.82 Period MAE: "
     ]
    },
    {
     "name": "stderr",
     "output_type": "stream",
     "text": [
      "22:55:31 - cmdstanpy - INFO - Chain [1] start processing\n"
     ]
    },
    {
     "name": "stdout",
     "output_type": "stream",
     "text": [
      "17.32\n",
      "It's overpredicted.\n",
      "Monthly Error: 48.48"
     ]
    },
    {
     "name": "stderr",
     "output_type": "stream",
     "text": [
      "22:55:31 - cmdstanpy - INFO - Chain [1] done processing\n"
     ]
    },
    {
     "name": "stdout",
     "output_type": "stream",
     "text": [
      " Period MAE: 43.980000000000004\n",
      "It's underpredicted.\n",
      "Monthly Error: 40.12 Period MAE: 41.449999999999996\n"
     ]
    },
    {
     "name": "stderr",
     "output_type": "stream",
     "text": [
      "22:55:32 - cmdstanpy - INFO - Chain [1] start processing\n",
      "22:55:32 - cmdstanpy - INFO - Chain [1] start processing\n",
      "22:55:32 - cmdstanpy - INFO - Chain [1] done processing\n",
      "22:55:32 - cmdstanpy - INFO - Chain [1] done processing\n",
      "22:55:32 - cmdstanpy - INFO - Chain [1] start processing\n"
     ]
    },
    {
     "name": "stdout",
     "output_type": "stream",
     "text": [
      "It's underpredicted.\n",
      "Monthly Error: 29.49 Period MAE: 25.53\n"
     ]
    },
    {
     "name": "stderr",
     "output_type": "stream",
     "text": [
      "22:55:33 - cmdstanpy - INFO - Chain [1] done processing\n",
      "22:55:33 - cmdstanpy - INFO - Chain [1] start processing\n",
      "22:55:33 - cmdstanpy - INFO - Chain [1] done processing\n"
     ]
    },
    {
     "name": "stdout",
     "output_type": "stream",
     "text": [
      "It's underpredicted.\n",
      "Monthly Error: 24.55 Period MAE: 16.900000000000002\n"
     ]
    },
    {
     "name": "stderr",
     "output_type": "stream",
     "text": [
      "22:55:34 - cmdstanpy - INFO - Chain [1] start processing\n"
     ]
    },
    {
     "name": "stdout",
     "output_type": "stream",
     "text": [
      "It's underpredicted.\n",
      "Monthly Error: 38.59 "
     ]
    },
    {
     "name": "stderr",
     "output_type": "stream",
     "text": [
      "22:55:34 - cmdstanpy - INFO - Chain [1] done processing\n"
     ]
    },
    {
     "name": "stdout",
     "output_type": "stream",
     "text": [
      "Period MAE: 38.03\n",
      "It's overpredicted.\n",
      "Monthly Error: 46.05 Period MAE: 41.48\n"
     ]
    },
    {
     "name": "stderr",
     "output_type": "stream",
     "text": [
      "22:55:35 - cmdstanpy - INFO - Chain [1] start processing\n",
      "22:55:35 - cmdstanpy - INFO - Chain [1] start processing\n",
      "22:55:35 - cmdstanpy - INFO - Chain [1] done processing\n",
      "22:55:35 - cmdstanpy - INFO - Chain [1] done processing\n"
     ]
    },
    {
     "name": "stdout",
     "output_type": "stream",
     "text": [
      "It's overpredicted.\n",
      "Monthly Error: 48.71 Period MAE: 44.21\n",
      "It's underpredicted.\n",
      "Monthly Error: 43.22 Period MAE: 44.11\n"
     ]
    },
    {
     "name": "stderr",
     "output_type": "stream",
     "text": [
      "22:55:37 - cmdstanpy - INFO - Chain [1] start processing\n"
     ]
    },
    {
     "name": "stdout",
     "output_type": "stream",
     "text": [
      "It's underpredicted.\n",
      "Monthly Error: 49.85 Period MAE: 50.77\n"
     ]
    },
    {
     "name": "stderr",
     "output_type": "stream",
     "text": [
      "22:55:38 - cmdstanpy - INFO - Chain [1] start processing\n",
      "22:55:38 - cmdstanpy - INFO - Chain [1] start processing\n",
      "22:55:38 - cmdstanpy - INFO - Chain [1] done processing\n",
      "22:55:38 - cmdstanpy - INFO - Chain [1] done processing\n",
      "22:55:38 - cmdstanpy - INFO - Chain [1] done processing\n"
     ]
    },
    {
     "name": "stdout",
     "output_type": "stream",
     "text": [
      "It's underpredicted.\n",
      "Monthly Error: 50.04 Period MAE: 50.970000000000006\n",
      "It's underpredicted.\n",
      "Monthly Error: 32.98 Period MAE: 33.69\n"
     ]
    },
    {
     "name": "stderr",
     "output_type": "stream",
     "text": [
      "22:55:39 - cmdstanpy - INFO - Chain [1] start processing\n",
      "22:55:39 - cmdstanpy - INFO - Chain [1] done processing\n",
      "22:55:39 - cmdstanpy - INFO - Chain [1] start processing\n"
     ]
    },
    {
     "name": "stdout",
     "output_type": "stream",
     "text": [
      "It's underpredicted.\n",
      "Monthly Error: 37.54 Period MAE: 34.239999999999995\n"
     ]
    },
    {
     "name": "stderr",
     "output_type": "stream",
     "text": [
      "22:55:40 - cmdstanpy - INFO - Chain [1] done processing\n",
      "22:55:40 - cmdstanpy - INFO - Chain [1] start processing\n",
      "22:55:41 - cmdstanpy - INFO - Chain [1] done processing\n"
     ]
    },
    {
     "name": "stdout",
     "output_type": "stream",
     "text": [
      "It's underpredicted.\n",
      "Monthly Error: 36.66 Period MAE: 37.41\n",
      "It's underpredicted.\n",
      "Monthly Error: 40.28 Period MAE: 41.61\n",
      "It's underpredicted.\n",
      "Monthly Error: 28.34 Period MAE: 29.01\n"
     ]
    },
    {
     "name": "stderr",
     "output_type": "stream",
     "text": [
      "22:55:41 - cmdstanpy - INFO - Chain [1] start processing\n",
      "22:55:42 - cmdstanpy - INFO - Chain [1] done processing\n",
      "22:55:42 - cmdstanpy - INFO - Chain [1] start processing\n",
      "22:55:42 - cmdstanpy - INFO - Chain [1] start processing\n"
     ]
    },
    {
     "name": "stdout",
     "output_type": "stream",
     "text": [
      "It's underpredicted.\n",
      "Monthly Error: 32.77 Period MAE: "
     ]
    },
    {
     "name": "stderr",
     "output_type": "stream",
     "text": [
      "22:55:42 - cmdstanpy - INFO - Chain [1] done processing\n"
     ]
    },
    {
     "name": "stdout",
     "output_type": "stream",
     "text": [
      "33.58\n"
     ]
    },
    {
     "name": "stderr",
     "output_type": "stream",
     "text": [
      "22:55:43 - cmdstanpy - INFO - Chain [1] start processing\n",
      "22:55:43 - cmdstanpy - INFO - Chain [1] done processing\n",
      "22:55:43 - cmdstanpy - INFO - Chain [1] done processing\n"
     ]
    },
    {
     "name": "stdout",
     "output_type": "stream",
     "text": [
      "It's underpredicted.\n",
      "Monthly Error: 32.41 Period MAE: 32.83\n"
     ]
    },
    {
     "name": "stderr",
     "output_type": "stream",
     "text": [
      "22:55:44 - cmdstanpy - INFO - Chain [1] start processing\n"
     ]
    },
    {
     "name": "stdout",
     "output_type": "stream",
     "text": [
      "It's underpredicted."
     ]
    },
    {
     "name": "stderr",
     "output_type": "stream",
     "text": [
      "22:55:44 - cmdstanpy - INFO - Chain [1] done processing\n"
     ]
    },
    {
     "name": "stdout",
     "output_type": "stream",
     "text": [
      "\n",
      "Monthly Error: 31.76 Period MAE: 30.959999999999997\n"
     ]
    },
    {
     "name": "stderr",
     "output_type": "stream",
     "text": [
      "22:55:45 - cmdstanpy - INFO - Chain [1] start processing\n",
      "22:55:45 - cmdstanpy - INFO - Chain [1] done processing\n"
     ]
    },
    {
     "name": "stdout",
     "output_type": "stream",
     "text": [
      "It's underpredicted.\n",
      "Monthly Error: 36.4 Period MAE:It's overpredicted. \n",
      "It's underpredicted.22.58Monthly Error:\n",
      " \n",
      "44.16Monthly Error:  35.08Period MAE:  Period MAE:38.87 \n",
      "35.44\n"
     ]
    },
    {
     "name": "stderr",
     "output_type": "stream",
     "text": [
      "22:55:46 - cmdstanpy - INFO - Chain [1] start processing\n",
      "22:55:46 - cmdstanpy - INFO - Chain [1] done processing\n",
      "22:55:46 - cmdstanpy - INFO - Chain [1] start processing\n",
      "22:55:47 - cmdstanpy - INFO - Chain [1] start processing\n",
      "22:55:47 - cmdstanpy - INFO - Chain [1] done processing\n",
      "22:55:47 - cmdstanpy - INFO - Chain [1] done processing\n"
     ]
    },
    {
     "name": "stdout",
     "output_type": "stream",
     "text": [
      "It's underpredicted.\n",
      "Monthly Error: 42.78 Period MAE: 44.440000000000005\n"
     ]
    },
    {
     "name": "stderr",
     "output_type": "stream",
     "text": [
      "22:55:47 - cmdstanpy - INFO - Chain [1] start processing\n",
      "22:55:48 - cmdstanpy - INFO - Chain [1] done processing\n"
     ]
    },
    {
     "name": "stdout",
     "output_type": "stream",
     "text": [
      "It's overpredicted.\n",
      "Monthly Error: 42.19 Period MAE: 36.57\n",
      "It's underpredicted.\n",
      "Monthly Error: 31.29 Period MAE: 30.080000000000002\n"
     ]
    },
    {
     "name": "stderr",
     "output_type": "stream",
     "text": [
      "22:55:49 - cmdstanpy - INFO - Chain [1] start processing\n",
      "22:55:49 - cmdstanpy - INFO - Chain [1] done processing\n",
      "22:55:49 - cmdstanpy - INFO - Chain [1] start processing\n",
      "22:55:49 - cmdstanpy - INFO - Chain [1] done processing\n"
     ]
    },
    {
     "name": "stdout",
     "output_type": "stream",
     "text": [
      "It's underpredicted.\n",
      "Monthly Error: 46.71 Period MAE: 48.480000000000004\n",
      "It's overpredicted.\n",
      "Monthly Error: 42.9 Period MAE: 36.91\n",
      "It's underpredicted.\n"
     ]
    },
    {
     "name": "stderr",
     "output_type": "stream",
     "text": [
      "22:55:51 - cmdstanpy - INFO - Chain [1] start processing\n"
     ]
    },
    {
     "name": "stdout",
     "output_type": "stream",
     "text": [
      "Monthly Error: 26.33 Period MAE: 26.419999999999998\n"
     ]
    },
    {
     "name": "stderr",
     "output_type": "stream",
     "text": [
      "22:55:51 - cmdstanpy - INFO - Chain [1] start processing\n",
      "22:55:51 - cmdstanpy - INFO - Chain [1] done processing\n",
      "22:55:51 - cmdstanpy - INFO - Chain [1] start processing\n",
      "22:55:51 - cmdstanpy - INFO - Chain [1] done processing\n",
      "22:55:52 - cmdstanpy - INFO - Chain [1] done processing\n"
     ]
    },
    {
     "name": "stdout",
     "output_type": "stream",
     "text": [
      "It's underpredicted.\n",
      "Monthly Error: 41.71 Period MAE:It's underpredicted. \n",
      "43.5Monthly Error: \n",
      "25.69 Period MAE: 20.94\n"
     ]
    },
    {
     "name": "stderr",
     "output_type": "stream",
     "text": [
      "22:55:53 - cmdstanpy - INFO - Chain [1] start processing\n",
      "22:55:53 - cmdstanpy - INFO - Chain [1] done processing\n"
     ]
    },
    {
     "name": "stdout",
     "output_type": "stream",
     "text": [
      "It's underpredicted.\n",
      "Monthly Error: 39.71 "
     ]
    },
    {
     "name": "stderr",
     "output_type": "stream",
     "text": [
      "22:55:53 - cmdstanpy - INFO - Chain [1] start processing\n"
     ]
    },
    {
     "name": "stdout",
     "output_type": "stream",
     "text": [
      "Period MAE: 40.48\n"
     ]
    },
    {
     "name": "stderr",
     "output_type": "stream",
     "text": [
      "22:55:53 - cmdstanpy - INFO - Chain [1] done processing\n",
      "22:55:53 - cmdstanpy - INFO - Chain [1] start processing\n",
      "22:55:54 - cmdstanpy - INFO - Chain [1] done processing\n"
     ]
    },
    {
     "name": "stdout",
     "output_type": "stream",
     "text": [
      "It's underpredicted.\n",
      "Monthly Error: 47.32It's underpredicted.\n",
      " Monthly Error:Period MAE: 37.18 49.64 \n",
      "Period MAE: 15.790000000000001\n",
      "It's underpredicted.\n",
      "Monthly Error: 35.63 Period MAE: 35.92\n"
     ]
    },
    {
     "name": "stderr",
     "output_type": "stream",
     "text": [
      "22:55:55 - cmdstanpy - INFO - Chain [1] start processing\n",
      "22:55:55 - cmdstanpy - INFO - Chain [1] start processing\n",
      "22:55:56 - cmdstanpy - INFO - Chain [1] start processing\n",
      "22:55:56 - cmdstanpy - INFO - Chain [1] done processing\n",
      "22:55:56 - cmdstanpy - INFO - Chain [1] done processing\n",
      "22:55:56 - cmdstanpy - INFO - Chain [1] done processing\n"
     ]
    },
    {
     "name": "stdout",
     "output_type": "stream",
     "text": [
      "It's underpredicted.\n",
      "Monthly Error: 35.63 Period MAE: 35.92\n",
      "It's underpredicted.\n",
      "Monthly Error: 37.86 Period MAE: 39.42\n"
     ]
    },
    {
     "name": "stderr",
     "output_type": "stream",
     "text": [
      "22:55:57 - cmdstanpy - INFO - Chain [1] start processing\n",
      "22:55:57 - cmdstanpy - INFO - Chain [1] done processing\n",
      "22:55:57 - cmdstanpy - INFO - Chain [1] start processing\n",
      "22:55:58 - cmdstanpy - INFO - Chain [1] done processing\n"
     ]
    },
    {
     "name": "stdout",
     "output_type": "stream",
     "text": [
      "It's underpredicted.\n",
      "Monthly Error: 38.79 Period MAE: 38.440000000000005\n",
      "It's underpredicted.\n",
      "Monthly Error: 35.64 Period MAE: 35.92\n",
      "It's overpredicted.\n"
     ]
    },
    {
     "name": "stderr",
     "output_type": "stream",
     "text": [
      "22:55:59 - cmdstanpy - INFO - Chain [1] start processing\n"
     ]
    },
    {
     "name": "stdout",
     "output_type": "stream",
     "text": [
      "Monthly Error: 30.93 Period MAE: 4.2\n"
     ]
    },
    {
     "name": "stderr",
     "output_type": "stream",
     "text": [
      "22:55:59 - cmdstanpy - INFO - Chain [1] done processing\n"
     ]
    },
    {
     "name": "stdout",
     "output_type": "stream",
     "text": [
      "It's underpredicted.\n",
      "Monthly Error: 45.01 Period MAE: 47.42\n"
     ]
    },
    {
     "name": "stderr",
     "output_type": "stream",
     "text": [
      "22:56:00 - cmdstanpy - INFO - Chain [1] start processing\n",
      "22:56:00 - cmdstanpy - INFO - Chain [1] start processing\n",
      "22:56:00 - cmdstanpy - INFO - Chain [1] done processing\n"
     ]
    },
    {
     "name": "stdout",
     "output_type": "stream",
     "text": [
      "It's underpredicted.\n",
      "Monthly Error: 40.62 Period MAE:"
     ]
    },
    {
     "name": "stderr",
     "output_type": "stream",
     "text": [
      "22:56:01 - cmdstanpy - INFO - Chain [1] start processing\n"
     ]
    },
    {
     "name": "stdout",
     "output_type": "stream",
     "text": [
      " 42.26\n"
     ]
    },
    {
     "name": "stderr",
     "output_type": "stream",
     "text": [
      "22:56:01 - cmdstanpy - INFO - Chain [1] done processing\n",
      "22:56:01 - cmdstanpy - INFO - Chain [1] done processing\n",
      "22:56:01 - cmdstanpy - INFO - Chain [1] start processing\n",
      "22:56:01 - cmdstanpy - INFO - Chain [1] done processing\n"
     ]
    },
    {
     "name": "stdout",
     "output_type": "stream",
     "text": [
      "It's overpredicted.\n",
      "Monthly Error: 30.93 Period MAE: 4.2\n",
      "It's underpredicted.\n",
      "Monthly Error: 35.58 Period MAE: 35.410000000000004\n",
      "It's underpredicted.\n",
      "Monthly Error: 35.63 Period MAE: 35.92\n"
     ]
    },
    {
     "name": "stderr",
     "output_type": "stream",
     "text": [
      "22:56:04 - cmdstanpy - INFO - Chain [1] start processing\n",
      "22:56:04 - cmdstanpy - INFO - Chain [1] done processing\n",
      "22:56:04 - cmdstanpy - INFO - Chain [1] start processing\n",
      "22:56:05 - cmdstanpy - INFO - Chain [1] start processing\n",
      "22:56:05 - cmdstanpy - INFO - Chain [1] done processing\n",
      "22:56:05 - cmdstanpy - INFO - Chain [1] done processing\n"
     ]
    },
    {
     "name": "stdout",
     "output_type": "stream",
     "text": [
      "It's overpredicted.\n",
      "Monthly Error: 30.93 Period MAE: 4.21\n"
     ]
    },
    {
     "name": "stderr",
     "output_type": "stream",
     "text": [
      "22:56:06 - cmdstanpy - INFO - Chain [1] start processing\n"
     ]
    },
    {
     "name": "stdout",
     "output_type": "stream",
     "text": [
      "It's underpredicted.\n",
      "Monthly Error: 47.7 Period MAE: 50.07\n"
     ]
    },
    {
     "name": "stderr",
     "output_type": "stream",
     "text": [
      "22:56:06 - cmdstanpy - INFO - Chain [1] done processing\n",
      "22:56:06 - cmdstanpy - INFO - Chain [1] start processing\n",
      "22:56:06 - cmdstanpy - INFO - Chain [1] done processing\n"
     ]
    },
    {
     "name": "stdout",
     "output_type": "stream",
     "text": [
      "It's underpredicted.\n",
      "Monthly Error:It's underpredicted. 39.82\n",
      " Monthly Error:Period MAE:  40.41000000000000435.63\n",
      " Period MAE: 35.92\n"
     ]
    },
    {
     "name": "stderr",
     "output_type": "stream",
     "text": [
      "22:56:07 - cmdstanpy - INFO - Chain [1] start processing\n"
     ]
    },
    {
     "name": "stdout",
     "output_type": "stream",
     "text": [
      "It's underpredicted.\n",
      "Monthly Error: 45.38 Period MAE: 47.760000000000005"
     ]
    },
    {
     "name": "stderr",
     "output_type": "stream",
     "text": [
      "22:56:07 - cmdstanpy - INFO - Chain [1] done processing\n"
     ]
    },
    {
     "name": "stdout",
     "output_type": "stream",
     "text": [
      "\n"
     ]
    },
    {
     "name": "stderr",
     "output_type": "stream",
     "text": [
      "22:56:07 - cmdstanpy - INFO - Chain [1] start processing\n",
      "22:56:07 - cmdstanpy - INFO - Chain [1] done processing\n",
      "22:56:08 - cmdstanpy - INFO - Chain [1] start processing\n",
      "22:56:08 - cmdstanpy - INFO - Chain [1] done processing\n"
     ]
    },
    {
     "name": "stdout",
     "output_type": "stream",
     "text": [
      "It's underpredicted.\n",
      "Monthly Error: 50.81 Period MAE: 53.63\n",
      "It's underpredicted.\n",
      "Monthly Error: 35.64 Period MAE: 35.93\n",
      "It's underpredicted.\n",
      "Monthly Error: 40.89 Period MAE: 40.660000000000004\n"
     ]
    },
    {
     "name": "stderr",
     "output_type": "stream",
     "text": [
      "22:56:10 - cmdstanpy - INFO - Chain [1] start processing\n",
      "22:56:10 - cmdstanpy - INFO - Chain [1] start processing\n",
      "22:56:10 - cmdstanpy - INFO - Chain [1] done processing\n",
      "22:56:10 - cmdstanpy - INFO - Chain [1] start processing\n"
     ]
    },
    {
     "name": "stdout",
     "output_type": "stream",
     "text": [
      "It's underpredicted.\n",
      "Monthly Error: 41.17 Period MAE: 40.949999999999996\n"
     ]
    },
    {
     "name": "stderr",
     "output_type": "stream",
     "text": [
      "22:56:10 - cmdstanpy - INFO - Chain [1] done processing\n",
      "22:56:10 - cmdstanpy - INFO - Chain [1] done processing\n",
      "22:56:10 - cmdstanpy - INFO - Chain [1] start processing\n",
      "22:56:10 - cmdstanpy - INFO - Chain [1] done processing\n"
     ]
    },
    {
     "name": "stdout",
     "output_type": "stream",
     "text": [
      "It's underpredicted.\n",
      "Monthly Error: 43.58 Period MAE: 46.48\n"
     ]
    },
    {
     "name": "stderr",
     "output_type": "stream",
     "text": [
      "22:56:12 - cmdstanpy - INFO - Chain [1] start processing\n"
     ]
    },
    {
     "name": "stdout",
     "output_type": "stream",
     "text": [
      "It's underpredicted.\n"
     ]
    },
    {
     "name": "stderr",
     "output_type": "stream",
     "text": [
      "22:56:12 - cmdstanpy - INFO - Chain [1] done processing\n"
     ]
    },
    {
     "name": "stdout",
     "output_type": "stream",
     "text": [
      "Monthly Error: 40.22 Period MAE: 42.02\n",
      "It's underpredicted.\n",
      "Monthly Error: 33.07 Period MAE:"
     ]
    },
    {
     "name": "stderr",
     "output_type": "stream",
     "text": [
      "22:56:13 - cmdstanpy - INFO - Chain [1] start processing\n"
     ]
    },
    {
     "name": "stdout",
     "output_type": "stream",
     "text": [
      " 33.12\n",
      "It's underpredicted.\n",
      "Monthly Error: 42.17 Period MAE: 41.949999999999996\n"
     ]
    },
    {
     "name": "stderr",
     "output_type": "stream",
     "text": [
      "22:56:13 - cmdstanpy - INFO - Chain [1] done processing\n"
     ]
    },
    {
     "name": "stdout",
     "output_type": "stream",
     "text": [
      "It's underpredicted.\n",
      "Monthly Error: 49.6 Period MAE: 52.99\n"
     ]
    },
    {
     "name": "stderr",
     "output_type": "stream",
     "text": [
      "22:56:14 - cmdstanpy - INFO - Chain [1] start processing\n",
      "22:56:14 - cmdstanpy - INFO - Chain [1] start processing\n",
      "22:56:14 - cmdstanpy - INFO - Chain [1] start processing\n",
      "22:56:14 - cmdstanpy - INFO - Chain [1] done processing\n",
      "22:56:14 - cmdstanpy - INFO - Chain [1] done processing\n",
      "22:56:15 - cmdstanpy - INFO - Chain [1] done processing\n"
     ]
    },
    {
     "name": "stdout",
     "output_type": "stream",
     "text": [
      "It's underpredicted.\n",
      "Monthly Error: 44.71 Period MAE: 47.0\n"
     ]
    },
    {
     "name": "stderr",
     "output_type": "stream",
     "text": [
      "22:56:15 - cmdstanpy - INFO - Chain [1] start processing\n",
      "22:56:16 - cmdstanpy - INFO - Chain [1] done processing\n"
     ]
    },
    {
     "name": "stdout",
     "output_type": "stream",
     "text": [
      "It's underpredicted.\n",
      "Monthly Error: 33.53 Period MAE: 33.58\n",
      "It's underpredicted.\n",
      "Monthly Error: 40.25 Period MAE: 42.620000000000005\n"
     ]
    },
    {
     "name": "stderr",
     "output_type": "stream",
     "text": [
      "22:56:16 - cmdstanpy - INFO - Chain [1] start processing\n",
      "22:56:17 - cmdstanpy - INFO - Chain [1] done processing\n",
      "22:56:17 - cmdstanpy - INFO - Chain [1] start processing\n"
     ]
    },
    {
     "name": "stdout",
     "output_type": "stream",
     "text": [
      "It's underpredicted.\n",
      "Monthly Error: 33.59"
     ]
    },
    {
     "name": "stderr",
     "output_type": "stream",
     "text": [
      "22:56:17 - cmdstanpy - INFO - Chain [1] done processing\n"
     ]
    },
    {
     "name": "stdout",
     "output_type": "stream",
     "text": [
      " Period MAE: 33.64\n",
      "It's underpredicted.\n",
      "Monthly Error: 49.9 Period MAE: 52.55\n",
      "It's underpredicted.\n",
      "Monthly Error: 41.99 "
     ]
    },
    {
     "name": "stderr",
     "output_type": "stream",
     "text": [
      "22:56:18 - cmdstanpy - INFO - Chain [1] start processing\n"
     ]
    },
    {
     "name": "stdout",
     "output_type": "stream",
     "text": [
      "Period MAE: 41.760000000000005\n"
     ]
    },
    {
     "name": "stderr",
     "output_type": "stream",
     "text": [
      "22:56:18 - cmdstanpy - INFO - Chain [1] start processing\n",
      "22:56:18 - cmdstanpy - INFO - Chain [1] start processing\n",
      "22:56:18 - cmdstanpy - INFO - Chain [1] done processing\n",
      "22:56:18 - cmdstanpy - INFO - Chain [1] done processing\n",
      "22:56:19 - cmdstanpy - INFO - Chain [1] done processing\n"
     ]
    },
    {
     "name": "stdout",
     "output_type": "stream",
     "text": [
      "It's underpredicted.\n",
      "Monthly Error: 25.92 Period MAE: 19.66\n",
      "It's underpredicted.\n",
      "Monthly Error: 40.44 Period MAE: 40.22\n"
     ]
    },
    {
     "name": "stderr",
     "output_type": "stream",
     "text": [
      "22:56:20 - cmdstanpy - INFO - Chain [1] start processing\n",
      "22:56:20 - cmdstanpy - INFO - Chain [1] done processing\n",
      "22:56:20 - cmdstanpy - INFO - Chain [1] start processing\n"
     ]
    },
    {
     "name": "stdout",
     "output_type": "stream",
     "text": [
      "It's underpredicted.\n",
      "Monthly Error:"
     ]
    },
    {
     "name": "stderr",
     "output_type": "stream",
     "text": [
      "22:56:21 - cmdstanpy - INFO - Chain [1] done processing\n"
     ]
    },
    {
     "name": "stdout",
     "output_type": "stream",
     "text": [
      " 40.09 Period MAE: 41.77\n",
      "It's underpredicted.\n",
      "Monthly Error: 37.43 Period MAE: 37.18\n"
     ]
    },
    {
     "name": "stderr",
     "output_type": "stream",
     "text": [
      "22:56:21 - cmdstanpy - INFO - Chain [1] start processing\n",
      "22:56:22 - cmdstanpy - INFO - Chain [1] done processing\n"
     ]
    },
    {
     "name": "stdout",
     "output_type": "stream",
     "text": [
      "It's underpredicted.\n",
      "Monthly Error: 28.08 Period MAE: 23.11\n"
     ]
    },
    {
     "name": "stderr",
     "output_type": "stream",
     "text": [
      "22:56:22 - cmdstanpy - INFO - Chain [1] start processing\n"
     ]
    },
    {
     "name": "stdout",
     "output_type": "stream",
     "text": [
      "It's underpredicted.\n",
      "Monthly Error: 50.66 Period MAE: 51.580000000000005\n"
     ]
    },
    {
     "name": "stderr",
     "output_type": "stream",
     "text": [
      "22:56:23 - cmdstanpy - INFO - Chain [1] start processing\n",
      "22:56:23 - cmdstanpy - INFO - Chain [1] start processing\n",
      "22:56:23 - cmdstanpy - INFO - Chain [1] done processing\n",
      "22:56:23 - cmdstanpy - INFO - Chain [1] done processing\n",
      "22:56:23 - cmdstanpy - INFO - Chain [1] done processing\n"
     ]
    },
    {
     "name": "stdout",
     "output_type": "stream",
     "text": [
      "It's underpredicted.\n",
      "Monthly Error: 50.41It's underpredicted. \n",
      "Period MAE: Monthly Error:51.33 \n",
      "26.18It's underpredicted.\n",
      "Monthly Error: Period MAE:  24.7620.14 Period MAE:\n",
      " 18.4\n"
     ]
    },
    {
     "name": "stderr",
     "output_type": "stream",
     "text": [
      "22:56:25 - cmdstanpy - INFO - Chain [1] start processing\n",
      "22:56:25 - cmdstanpy - INFO - Chain [1] done processing\n",
      "22:56:25 - cmdstanpy - INFO - Chain [1] start processing\n"
     ]
    },
    {
     "name": "stdout",
     "output_type": "stream",
     "text": [
      "It's underpredicted.\n",
      "Monthly Error:"
     ]
    },
    {
     "name": "stderr",
     "output_type": "stream",
     "text": [
      "22:56:25 - cmdstanpy - INFO - Chain [1] start processing\n"
     ]
    },
    {
     "name": "stdout",
     "output_type": "stream",
     "text": [
      " 50.0 Period MAE: 50.970000000000006\n"
     ]
    },
    {
     "name": "stderr",
     "output_type": "stream",
     "text": [
      "22:56:25 - cmdstanpy - INFO - Chain [1] done processing\n",
      "22:56:25 - cmdstanpy - INFO - Chain [1] done processing\n",
      "22:56:26 - cmdstanpy - INFO - Chain [1] start processing\n",
      "22:56:27 - cmdstanpy - INFO - Chain [1] done processing\n"
     ]
    },
    {
     "name": "stdout",
     "output_type": "stream",
     "text": [
      "It's underpredicted.\n",
      "Monthly Error: 28.03 Period MAE: 23.06\n",
      "It's overpredicted.\n",
      "Monthly Error: 45.5 Period MAE: 40.67\n"
     ]
    },
    {
     "name": "stderr",
     "output_type": "stream",
     "text": [
      "22:56:28 - cmdstanpy - INFO - Chain [1] start processing\n",
      "22:56:28 - cmdstanpy - INFO - Chain [1] done processing\n"
     ]
    },
    {
     "name": "stdout",
     "output_type": "stream",
     "text": [
      "It's overpredicted.\n",
      "Monthly Error:"
     ]
    },
    {
     "name": "stderr",
     "output_type": "stream",
     "text": [
      "22:56:28 - cmdstanpy - INFO - Chain [1] start processing\n"
     ]
    },
    {
     "name": "stdout",
     "output_type": "stream",
     "text": [
      " 44.76 Period MAE: 39.839999999999996\n"
     ]
    },
    {
     "name": "stderr",
     "output_type": "stream",
     "text": [
      "22:56:28 - cmdstanpy - INFO - Chain [1] done processing\n"
     ]
    },
    {
     "name": "stdout",
     "output_type": "stream",
     "text": [
      "It's underpredicted.\n",
      "Monthly Error: 24.73 Period MAE: 18.41\n"
     ]
    },
    {
     "name": "stderr",
     "output_type": "stream",
     "text": [
      "22:56:29 - cmdstanpy - INFO - Chain [1] start processing\n",
      "22:56:29 - cmdstanpy - INFO - Chain [1] done processing\n"
     ]
    },
    {
     "name": "stdout",
     "output_type": "stream",
     "text": [
      "It's underpredicted.\n",
      "Monthly Error: 34.15 Period MAE: "
     ]
    },
    {
     "name": "stderr",
     "output_type": "stream",
     "text": [
      "22:56:29 - cmdstanpy - INFO - Chain [1] start processing\n"
     ]
    },
    {
     "name": "stdout",
     "output_type": "stream",
     "text": [
      "33.5\n"
     ]
    },
    {
     "name": "stderr",
     "output_type": "stream",
     "text": [
      "22:56:30 - cmdstanpy - INFO - Chain [1] done processing\n",
      "22:56:30 - cmdstanpy - INFO - Chain [1] start processing\n",
      "22:56:30 - cmdstanpy - INFO - Chain [1] done processing\n"
     ]
    },
    {
     "name": "stdout",
     "output_type": "stream",
     "text": [
      "It's underpredicted.\n",
      "Monthly Error:It's underpredicted. \n",
      "50.63Monthly Error:  Period MAE:37.98  51.55Period MAE: 39.07\n",
      "\n"
     ]
    },
    {
     "name": "stderr",
     "output_type": "stream",
     "text": [
      "22:56:32 - cmdstanpy - INFO - Chain [1] start processing\n",
      "22:56:32 - cmdstanpy - INFO - Chain [1] start processing\n"
     ]
    },
    {
     "name": "stdout",
     "output_type": "stream",
     "text": [
      "It's overpredicted.\n",
      "Monthly Error: 46.18 Period MAE: 41.47\n"
     ]
    },
    {
     "name": "stderr",
     "output_type": "stream",
     "text": [
      "22:56:32 - cmdstanpy - INFO - Chain [1] done processing\n",
      "22:56:32 - cmdstanpy - INFO - Chain [1] done processing\n",
      "22:56:32 - cmdstanpy - INFO - Chain [1] start processing\n",
      "22:56:33 - cmdstanpy - INFO - Chain [1] done processing\n"
     ]
    },
    {
     "name": "stdout",
     "output_type": "stream",
     "text": [
      "It's underpredicted.\n",
      "Monthly Error: 50.44 Period MAE: 51.35999999999999\n"
     ]
    },
    {
     "name": "stderr",
     "output_type": "stream",
     "text": [
      "22:56:33 - cmdstanpy - INFO - Chain [1] start processing\n",
      "22:56:34 - cmdstanpy - INFO - Chain [1] done processing\n"
     ]
    },
    {
     "name": "stdout",
     "output_type": "stream",
     "text": [
      "It's underpredicted.\n",
      "Monthly Error: 33.45 Period MAE: It's underpredicted.34.25\n",
      "\n",
      "Monthly Error: 33.93 Period MAE: 32.71\n"
     ]
    },
    {
     "name": "stderr",
     "output_type": "stream",
     "text": [
      "22:56:35 - cmdstanpy - INFO - Chain [1] start processing\n"
     ]
    },
    {
     "name": "stdout",
     "output_type": "stream",
     "text": [
      "It's underpredicted."
     ]
    },
    {
     "name": "stderr",
     "output_type": "stream",
     "text": [
      "22:56:35 - cmdstanpy - INFO - Chain [1] done processing\n"
     ]
    },
    {
     "name": "stdout",
     "output_type": "stream",
     "text": [
      "\n"
     ]
    },
    {
     "name": "stderr",
     "output_type": "stream",
     "text": [
      "22:56:35 - cmdstanpy - INFO - Chain [1] start processing\n"
     ]
    },
    {
     "name": "stdout",
     "output_type": "stream",
     "text": [
      "Monthly Error: 49.64 Period MAE: 50.61"
     ]
    },
    {
     "name": "stderr",
     "output_type": "stream",
     "text": [
      "22:56:35 - cmdstanpy - INFO - Chain [1] done processing\n"
     ]
    },
    {
     "name": "stdout",
     "output_type": "stream",
     "text": [
      "\n"
     ]
    },
    {
     "name": "stderr",
     "output_type": "stream",
     "text": [
      "22:56:35 - cmdstanpy - INFO - Chain [1] start processing\n"
     ]
    },
    {
     "name": "stdout",
     "output_type": "stream",
     "text": [
      "It's underpredicted."
     ]
    },
    {
     "name": "stderr",
     "output_type": "stream",
     "text": [
      "22:56:36 - cmdstanpy - INFO - Chain [1] done processing\n"
     ]
    },
    {
     "name": "stdout",
     "output_type": "stream",
     "text": [
      "\n",
      "Monthly Error: 66.18 It's underpredicted.\n",
      "Monthly Error: 36.35Period MAE:  67.25999999999999Period MAE:\n",
      " 37.21\n"
     ]
    },
    {
     "name": "stderr",
     "output_type": "stream",
     "text": [
      "22:56:36 - cmdstanpy - INFO - Chain [1] start processing\n",
      "22:56:37 - cmdstanpy - INFO - Chain [1] done processing\n",
      "22:56:37 - cmdstanpy - INFO - Chain [1] start processing\n",
      "22:56:37 - cmdstanpy - INFO - Chain [1] done processing\n"
     ]
    },
    {
     "name": "stdout",
     "output_type": "stream",
     "text": [
      "It's underpredicted.It's underpredicted.\n",
      "\n",
      "Monthly Error:Monthly Error:  66.132.72  Period MAE: Period MAE: 33.25\n",
      "67.17999999999999\n"
     ]
    },
    {
     "name": "stderr",
     "output_type": "stream",
     "text": [
      "22:56:37 - cmdstanpy - INFO - Chain [1] start processing\n"
     ]
    },
    {
     "name": "stdout",
     "output_type": "stream",
     "text": [
      "It's underpredicted.\n",
      "Monthly Error: 33.35 Period MAE: 34.11\n"
     ]
    },
    {
     "name": "stderr",
     "output_type": "stream",
     "text": [
      "22:56:38 - cmdstanpy - INFO - Chain [1] done processing\n",
      "22:56:38 - cmdstanpy - INFO - Chain [1] start processing\n",
      "22:56:39 - cmdstanpy - INFO - Chain [1] start processing\n",
      "22:56:39 - cmdstanpy - INFO - Chain [1] done processing\n",
      "22:56:39 - cmdstanpy - INFO - Chain [1] done processing\n"
     ]
    },
    {
     "name": "stdout",
     "output_type": "stream",
     "text": [
      "It's underpredicted.\n",
      "It's underpredicted.Monthly Error:\n",
      " Monthly Error:64.25  Period MAE:35.74  Period MAE:65.36 \n",
      "36.480000000000004\n",
      "It's overpredicted.\n",
      "Monthly Error: 35.61 Period MAE: 26.46\n"
     ]
    },
    {
     "name": "stderr",
     "output_type": "stream",
     "text": [
      "22:56:41 - cmdstanpy - INFO - Chain [1] start processing\n",
      "22:56:41 - cmdstanpy - INFO - Chain [1] start processing\n",
      "22:56:41 - cmdstanpy - INFO - Chain [1] done processing\n",
      "22:56:41 - cmdstanpy - INFO - Chain [1] start processing\n"
     ]
    },
    {
     "name": "stdout",
     "output_type": "stream",
     "text": [
      "It's overpredicted.\n",
      "Monthly Error: 35.67 Period MAE: "
     ]
    },
    {
     "name": "stderr",
     "output_type": "stream",
     "text": [
      "22:56:41 - cmdstanpy - INFO - Chain [1] done processing\n"
     ]
    },
    {
     "name": "stdout",
     "output_type": "stream",
     "text": [
      "26.950000000000003\n"
     ]
    },
    {
     "name": "stderr",
     "output_type": "stream",
     "text": [
      "22:56:41 - cmdstanpy - INFO - Chain [1] done processing\n",
      "22:56:42 - cmdstanpy - INFO - Chain [1] start processing\n",
      "22:56:42 - cmdstanpy - INFO - Chain [1] done processing\n"
     ]
    },
    {
     "name": "stdout",
     "output_type": "stream",
     "text": [
      "It's underpredicted.\n",
      "Monthly Error: 40.43 Period MAE: 42.75\n",
      "It's underpredicted.\n",
      "Monthly Error: 32.25 Period MAE: 32.67"
     ]
    },
    {
     "name": "stderr",
     "output_type": "stream",
     "text": [
      "22:56:43 - cmdstanpy - INFO - Chain [1] start processing\n"
     ]
    },
    {
     "name": "stdout",
     "output_type": "stream",
     "text": [
      "\n"
     ]
    },
    {
     "name": "stderr",
     "output_type": "stream",
     "text": [
      "22:56:43 - cmdstanpy - INFO - Chain [1] done processing\n",
      "22:56:44 - cmdstanpy - INFO - Chain [1] start processing\n",
      "22:56:44 - cmdstanpy - INFO - Chain [1] done processing\n"
     ]
    },
    {
     "name": "stdout",
     "output_type": "stream",
     "text": [
      "It's underpredicted.\n",
      "Monthly Error: 66.12 Period MAE: 67.19000000000001\n",
      "It's overpredicted.\n",
      "Monthly Error: 35.57 Period MAE: 26.529999999999998\n",
      "It's underpredicted.\n",
      "Monthly Error: 44.25 Period MAE: 46.82\n"
     ]
    },
    {
     "name": "stderr",
     "output_type": "stream",
     "text": [
      "22:56:45 - cmdstanpy - INFO - Chain [1] start processing\n",
      "22:56:45 - cmdstanpy - INFO - Chain [1] start processing\n",
      "22:56:45 - cmdstanpy - INFO - Chain [1] done processing\n",
      "22:56:46 - cmdstanpy - INFO - Chain [1] start processing\n",
      "22:56:46 - cmdstanpy - INFO - Chain [1] done processing\n",
      "22:56:46 - cmdstanpy - INFO - Chain [1] done processing\n"
     ]
    },
    {
     "name": "stdout",
     "output_type": "stream",
     "text": [
      "It's underpredicted.\n",
      "It's underpredicted.Monthly Error:\n",
      " Monthly Error:66.1 41.94 Period MAE: Period MAE: 67.17999999999999\n",
      " 43.75\n"
     ]
    },
    {
     "name": "stderr",
     "output_type": "stream",
     "text": [
      "22:56:47 - cmdstanpy - INFO - Chain [1] start processing\n",
      "22:56:47 - cmdstanpy - INFO - Chain [1] done processing\n"
     ]
    },
    {
     "name": "stdout",
     "output_type": "stream",
     "text": [
      "It's underpredicted.\n",
      "Monthly Error:"
     ]
    },
    {
     "name": "stderr",
     "output_type": "stream",
     "text": [
      "22:56:48 - cmdstanpy - INFO - Chain [1] start processing\n"
     ]
    },
    {
     "name": "stdout",
     "output_type": "stream",
     "text": [
      " 37.89 Period MAE: 39.7\n"
     ]
    },
    {
     "name": "stderr",
     "output_type": "stream",
     "text": [
      "22:56:48 - cmdstanpy - INFO - Chain [1] done processing\n",
      "22:59:07 - cmdstanpy - INFO - Chain [1] done processing\n",
      "22:59:07 - cmdstanpy - INFO - Chain [1] start processing\n",
      "22:59:07 - cmdstanpy - INFO - Chain [1] done processing\n"
     ]
    },
    {
     "name": "stdout",
     "output_type": "stream",
     "text": [
      "It's underpredicted.\n",
      "Monthly Error: 50.88 Period MAE: 51.85999999999999\n"
     ]
    },
    {
     "name": "stderr",
     "output_type": "stream",
     "text": [
      "22:59:08 - cmdstanpy - INFO - Chain [1] start processing\n",
      "22:59:08 - cmdstanpy - INFO - Chain [1] done processing\n"
     ]
    },
    {
     "name": "stdout",
     "output_type": "stream",
     "text": [
      "It's underpredicted.\n",
      "Monthly Error: 22.62 Period MAE: 8.95\n",
      "It's underpredicted.\n",
      "Monthly Error: 22.25 Period MAE: 8.49\n"
     ]
    },
    {
     "name": "stderr",
     "output_type": "stream",
     "text": [
      "22:59:09 - cmdstanpy - INFO - Chain [1] start processing\n",
      "22:59:09 - cmdstanpy - INFO - Chain [1] done processing\n",
      "22:59:09 - cmdstanpy - INFO - Chain [1] start processing\n",
      "22:59:10 - cmdstanpy - INFO - Chain [1] done processing\n"
     ]
    },
    {
     "name": "stdout",
     "output_type": "stream",
     "text": [
      "It's underpredicted.\n",
      "Monthly Error: 50.16It's underpredicted. \n",
      "Period MAE: Monthly Error: 51.190000000000005\n",
      "23.33 It's overpredicted.Period MAE:\n",
      " 13.74Monthly Error:\n",
      " 46.07 Period MAE: 41.18\n"
     ]
    },
    {
     "name": "stderr",
     "output_type": "stream",
     "text": [
      "22:59:11 - cmdstanpy - INFO - Chain [1] start processing\n",
      "22:59:11 - cmdstanpy - INFO - Chain [1] done processing\n",
      "22:59:11 - cmdstanpy - INFO - Chain [1] start processing\n",
      "22:59:11 - cmdstanpy - INFO - Chain [1] start processing\n",
      "22:59:11 - cmdstanpy - INFO - Chain [1] done processing\n",
      "22:59:12 - cmdstanpy - INFO - Chain [1] done processing\n"
     ]
    },
    {
     "name": "stdout",
     "output_type": "stream",
     "text": [
      "It's overpredicted.\n",
      "Monthly Error: 45.5 Period MAE: 40.550000000000004\n",
      "It's underpredicted.\n",
      "Monthly Error: 23.52 Period MAE: 15.160000000000002\n"
     ]
    },
    {
     "name": "stderr",
     "output_type": "stream",
     "text": [
      "22:59:12 - cmdstanpy - INFO - Chain [1] start processing\n",
      "22:59:13 - cmdstanpy - INFO - Chain [1] done processing\n"
     ]
    },
    {
     "name": "stdout",
     "output_type": "stream",
     "text": [
      "It's underpredicted.\n",
      "Monthly Error: 22.23 Period MAE: 8.61\n"
     ]
    },
    {
     "name": "stderr",
     "output_type": "stream",
     "text": [
      "22:59:13 - cmdstanpy - INFO - Chain [1] start processing\n",
      "22:59:14 - cmdstanpy - INFO - Chain [1] done processing\n",
      "22:59:14 - cmdstanpy - INFO - Chain [1] start processing\n"
     ]
    },
    {
     "name": "stdout",
     "output_type": "stream",
     "text": [
      "It's overpredicted.\n",
      "Monthly Error: 46.8 Period MAE: "
     ]
    },
    {
     "name": "stderr",
     "output_type": "stream",
     "text": [
      "22:59:14 - cmdstanpy - INFO - Chain [1] done processing\n"
     ]
    },
    {
     "name": "stdout",
     "output_type": "stream",
     "text": [
      "42.08\n",
      "It's underpredicted.\n",
      "Monthly Error: 26.72 Period MAE: 21.38\n"
     ]
    },
    {
     "name": "stderr",
     "output_type": "stream",
     "text": [
      "22:59:15 - cmdstanpy - INFO - Chain [1] start processing\n"
     ]
    },
    {
     "name": "stdout",
     "output_type": "stream",
     "text": [
      "It's underpredicted.\n",
      "Monthly Error: 49.49 Period MAE:"
     ]
    },
    {
     "name": "stderr",
     "output_type": "stream",
     "text": [
      "22:59:15 - cmdstanpy - INFO - Chain [1] start processing\n"
     ]
    },
    {
     "name": "stdout",
     "output_type": "stream",
     "text": [
      " 50.449999999999996\n"
     ]
    },
    {
     "name": "stderr",
     "output_type": "stream",
     "text": [
      "22:59:16 - cmdstanpy - INFO - Chain [1] done processing\n",
      "22:59:16 - cmdstanpy - INFO - Chain [1] done processing\n",
      "22:59:16 - cmdstanpy - INFO - Chain [1] start processing\n",
      "22:59:16 - cmdstanpy - INFO - Chain [1] done processing\n"
     ]
    },
    {
     "name": "stdout",
     "output_type": "stream",
     "text": [
      "It's underpredicted.\n",
      "Monthly Error:It's underpredicted. 51.15\n",
      "Monthly Error: Period MAE:  27.2552.129999999999995\n",
      " Period MAE: 24.709999999999997\n"
     ]
    },
    {
     "name": "stderr",
     "output_type": "stream",
     "text": [
      "22:59:17 - cmdstanpy - INFO - Chain [1] start processing\n",
      "22:59:17 - cmdstanpy - INFO - Chain [1] start processing\n",
      "22:59:17 - cmdstanpy - INFO - Chain [1] done processing\n"
     ]
    },
    {
     "name": "stdout",
     "output_type": "stream",
     "text": [
      "It's underpredicted.\n",
      "Monthly Error: "
     ]
    },
    {
     "name": "stderr",
     "output_type": "stream",
     "text": [
      "22:59:18 - cmdstanpy - INFO - Chain [1] done processing\n"
     ]
    },
    {
     "name": "stdout",
     "output_type": "stream",
     "text": [
      "23.97 Period MAE: 16.38\n",
      "It's underpredicted.\n",
      "Monthly Error: 49.78 Period MAE:"
     ]
    },
    {
     "name": "stderr",
     "output_type": "stream",
     "text": [
      "22:59:18 - cmdstanpy - INFO - Chain [1] start processing\n"
     ]
    },
    {
     "name": "stdout",
     "output_type": "stream",
     "text": [
      " 50.82\n"
     ]
    },
    {
     "name": "stderr",
     "output_type": "stream",
     "text": [
      "22:59:19 - cmdstanpy - INFO - Chain [1] done processing\n"
     ]
    },
    {
     "name": "stdout",
     "output_type": "stream",
     "text": [
      "It's underpredicted.\n",
      "Monthly Error: 29.84 Period MAE: 28.54\n"
     ]
    },
    {
     "name": "stderr",
     "output_type": "stream",
     "text": [
      "22:59:19 - cmdstanpy - INFO - Chain [1] start processing\n",
      "22:59:19 - cmdstanpy - INFO - Chain [1] start processing\n",
      "22:59:20 - cmdstanpy - INFO - Chain [1] done processing\n",
      "22:59:20 - cmdstanpy - INFO - Chain [1] done processing\n"
     ]
    },
    {
     "name": "stdout",
     "output_type": "stream",
     "text": [
      "It's underpredicted.\n",
      "Monthly Error: 65.37 Period MAE: 66.47\n"
     ]
    },
    {
     "name": "stderr",
     "output_type": "stream",
     "text": [
      "22:59:20 - cmdstanpy - INFO - Chain [1] start processing\n",
      "22:59:21 - cmdstanpy - INFO - Chain [1] done processing\n"
     ]
    },
    {
     "name": "stdout",
     "output_type": "stream",
     "text": [
      "It's underpredicted.\n",
      "Monthly Error: 65.25 Period MAE: 66.36\n",
      "It's underpredicted.\n",
      "Monthly Error: 27.0 Period MAE: 24.72\n"
     ]
    },
    {
     "name": "stderr",
     "output_type": "stream",
     "text": [
      "22:59:22 - cmdstanpy - INFO - Chain [1] start processing\n"
     ]
    },
    {
     "name": "stdout",
     "output_type": "stream",
     "text": [
      "It's underpredicted."
     ]
    },
    {
     "name": "stderr",
     "output_type": "stream",
     "text": [
      "22:59:22 - cmdstanpy - INFO - Chain [1] done processing\n"
     ]
    },
    {
     "name": "stdout",
     "output_type": "stream",
     "text": [
      "\n",
      "Monthly Error: 27.89 Period MAE: 25.96\n"
     ]
    },
    {
     "name": "stderr",
     "output_type": "stream",
     "text": [
      "22:59:23 - cmdstanpy - INFO - Chain [1] start processing\n",
      "22:59:23 - cmdstanpy - INFO - Chain [1] start processing\n",
      "22:59:23 - cmdstanpy - INFO - Chain [1] done processing\n",
      "22:59:23 - cmdstanpy - INFO - Chain [1] done processing\n"
     ]
    },
    {
     "name": "stdout",
     "output_type": "stream",
     "text": [
      "It's underpredicted.\n",
      "Monthly Error: 62.92 Period MAE: 64.07000000000001\n",
      "It's underpredicted."
     ]
    },
    {
     "name": "stderr",
     "output_type": "stream",
     "text": [
      "22:59:24 - cmdstanpy - INFO - Chain [1] start processing\n"
     ]
    },
    {
     "name": "stdout",
     "output_type": "stream",
     "text": [
      "\n",
      "Monthly Error: 29.8 Period MAE: 28.74\n",
      "It's overpredicted.\n",
      "Monthly Error: 36.85 Period MAE: 27.860000000000003\n"
     ]
    },
    {
     "name": "stderr",
     "output_type": "stream",
     "text": [
      "22:59:25 - cmdstanpy - INFO - Chain [1] done processing\n",
      "22:59:25 - cmdstanpy - INFO - Chain [1] start processing\n",
      "22:59:25 - cmdstanpy - INFO - Chain [1] start processing\n"
     ]
    },
    {
     "name": "stdout",
     "output_type": "stream",
     "text": [
      "It's overpredicted.\n",
      "Monthly Error: 36.96 Period MAE:"
     ]
    },
    {
     "name": "stderr",
     "output_type": "stream",
     "text": [
      "22:59:25 - cmdstanpy - INFO - Chain [1] done processing\n"
     ]
    },
    {
     "name": "stdout",
     "output_type": "stream",
     "text": [
      " 28.410000000000004\n"
     ]
    },
    {
     "name": "stderr",
     "output_type": "stream",
     "text": [
      "22:59:25 - cmdstanpy - INFO - Chain [1] done processing\n",
      "22:59:25 - cmdstanpy - INFO - Chain [1] start processing\n",
      "22:59:26 - cmdstanpy - INFO - Chain [1] done processing\n"
     ]
    },
    {
     "name": "stdout",
     "output_type": "stream",
     "text": [
      "It's underpredicted.\n",
      "Monthly Error: 29.47 It's underpredicted.Period MAE: \n",
      "Monthly Error:28.57\n",
      " 27.25  Period MAE:25.19\n"
     ]
    },
    {
     "name": "stderr",
     "output_type": "stream",
     "text": [
      "22:59:27 - cmdstanpy - INFO - Chain [1] start processing\n",
      "22:59:27 - cmdstanpy - INFO - Chain [1] start processing\n",
      "22:59:27 - cmdstanpy - INFO - Chain [1] done processing\n",
      "22:59:27 - cmdstanpy - INFO - Chain [1] done processing\n"
     ]
    },
    {
     "name": "stdout",
     "output_type": "stream",
     "text": [
      "It's underpredicted.\n",
      "Monthly Error: 65.37 Period MAE: 66.47\n",
      "It's overpredicted.\n",
      "Monthly Error: 36.63 Period MAE: 27.750000000000004\n"
     ]
    },
    {
     "name": "stderr",
     "output_type": "stream",
     "text": [
      "22:59:29 - cmdstanpy - INFO - Chain [1] start processing\n"
     ]
    },
    {
     "name": "stdout",
     "output_type": "stream",
     "text": [
      "It's underpredicted.\n",
      "Monthly Error: 33.67 Period MAE:"
     ]
    },
    {
     "name": "stderr",
     "output_type": "stream",
     "text": [
      "22:59:29 - cmdstanpy - INFO - Chain [1] start processing\n"
     ]
    },
    {
     "name": "stdout",
     "output_type": "stream",
     "text": [
      " 34.260000000000005\n"
     ]
    },
    {
     "name": "stderr",
     "output_type": "stream",
     "text": [
      "22:59:29 - cmdstanpy - INFO - Chain [1] done processing\n",
      "22:59:29 - cmdstanpy - INFO - Chain [1] start processing\n",
      "22:59:29 - cmdstanpy - INFO - Chain [1] done processing\n",
      "22:59:29 - cmdstanpy - INFO - Chain [1] done processing\n"
     ]
    },
    {
     "name": "stdout",
     "output_type": "stream",
     "text": [
      "It's underpredicted.\n",
      "Monthly Error: It's underpredicted.36.19 Period MAE:\n",
      "Monthly Error: 65.27  Period MAE: 35.260000000000005\n",
      "66.36999999999999\n"
     ]
    },
    {
     "name": "stderr",
     "output_type": "stream",
     "text": [
      "22:59:30 - cmdstanpy - INFO - Chain [1] start processing\n",
      "22:59:31 - cmdstanpy - INFO - Chain [1] done processing\n",
      "22:59:31 - cmdstanpy - INFO - Chain [1] start processing\n"
     ]
    },
    {
     "name": "stdout",
     "output_type": "stream",
     "text": [
      "It's underpredicted.\n",
      "Monthly Error: 29.05 Period MAE: 27.860000000000003\n"
     ]
    },
    {
     "name": "stderr",
     "output_type": "stream",
     "text": [
      "22:59:31 - cmdstanpy - INFO - Chain [1] done processing\n",
      "22:59:32 - cmdstanpy - INFO - Chain [1] start processing\n",
      "22:59:32 - cmdstanpy - INFO - Chain [1] done processing\n"
     ]
    },
    {
     "name": "stdout",
     "output_type": "stream",
     "text": [
      "It's underpredicted.\n",
      "Monthly Error: 63.21 Period MAE: 64.36\n",
      "It's underpredicted.\n",
      "Monthly Error: 37.31 Period MAE: 37.230000000000004\n",
      "It's underpredicted.\n",
      "Monthly Error: 36.73 Period MAE: 37.01\n"
     ]
    },
    {
     "name": "stderr",
     "output_type": "stream",
     "text": [
      "22:59:33 - cmdstanpy - INFO - Chain [1] start processing\n",
      "22:59:33 - cmdstanpy - INFO - Chain [1] start processing\n",
      "22:59:33 - cmdstanpy - INFO - Chain [1] start processing\n",
      "22:59:33 - cmdstanpy - INFO - Chain [1] done processing\n",
      "22:59:33 - cmdstanpy - INFO - Chain [1] done processing\n",
      "22:59:34 - cmdstanpy - INFO - Chain [1] done processing\n"
     ]
    },
    {
     "name": "stdout",
     "output_type": "stream",
     "text": [
      "It's underpredicted.\n",
      "Monthly Error: 36.73 Period MAE: 37.01\n",
      "It's underpredicted.\n",
      "Monthly Error: 33.14 Period MAE: 29.28\n"
     ]
    },
    {
     "name": "stderr",
     "output_type": "stream",
     "text": [
      "22:59:35 - cmdstanpy - INFO - Chain [1] start processing\n",
      "22:59:35 - cmdstanpy - INFO - Chain [1] done processing\n"
     ]
    },
    {
     "name": "stdout",
     "output_type": "stream",
     "text": [
      "It's underpredicted.\n",
      "Monthly Error: 35.63 Period MAE: 34.239999999999995\n"
     ]
    },
    {
     "name": "stderr",
     "output_type": "stream",
     "text": [
      "22:59:36 - cmdstanpy - INFO - Chain [1] start processing\n"
     ]
    },
    {
     "name": "stdout",
     "output_type": "stream",
     "text": [
      "It's underpredicted."
     ]
    },
    {
     "name": "stderr",
     "output_type": "stream",
     "text": [
      "22:59:36 - cmdstanpy - INFO - Chain [1] done processing\n"
     ]
    },
    {
     "name": "stdout",
     "output_type": "stream",
     "text": [
      "\n",
      "Monthly Error: 36.73 Period MAE: 37.01\n"
     ]
    },
    {
     "name": "stderr",
     "output_type": "stream",
     "text": [
      "22:59:36 - cmdstanpy - INFO - Chain [1] start processing\n",
      "22:59:37 - cmdstanpy - INFO - Chain [1] done processing\n",
      "22:59:37 - cmdstanpy - INFO - Chain [1] start processing\n"
     ]
    },
    {
     "name": "stdout",
     "output_type": "stream",
     "text": [
      "It's underpredicted.\n",
      "Monthly Error: 36.13 Period MAE: 34.18\n"
     ]
    },
    {
     "name": "stderr",
     "output_type": "stream",
     "text": [
      "22:59:37 - cmdstanpy - INFO - Chain [1] done processing\n"
     ]
    },
    {
     "name": "stdout",
     "output_type": "stream",
     "text": [
      "It's underpredicted.\n",
      "Monthly Error: 30.03 Period MAE: 5.34\n"
     ]
    },
    {
     "name": "stderr",
     "output_type": "stream",
     "text": [
      "22:59:38 - cmdstanpy - INFO - Chain [1] start processing\n",
      "22:59:38 - cmdstanpy - INFO - Chain [1] start processing\n",
      "22:59:38 - cmdstanpy - INFO - Chain [1] done processing\n",
      "22:59:38 - cmdstanpy - INFO - Chain [1] done processing\n"
     ]
    },
    {
     "name": "stdout",
     "output_type": "stream",
     "text": [
      "It's underpredicted.\n",
      "Monthly Error: 30.03 Period MAE: 5.34\n",
      "It's underpredicted.\n",
      "Monthly Error: 36.27It's underpredicted.\n",
      "  Period MAE:Monthly Error: 34.19\n",
      "35.15 Period MAE:"
     ]
    },
    {
     "name": "stderr",
     "output_type": "stream",
     "text": [
      "22:59:39 - cmdstanpy - INFO - Chain [1] start processing\n"
     ]
    },
    {
     "name": "stdout",
     "output_type": "stream",
     "text": [
      " 33.629999999999995\n"
     ]
    },
    {
     "name": "stderr",
     "output_type": "stream",
     "text": [
      "22:59:39 - cmdstanpy - INFO - Chain [1] done processing\n",
      "22:59:40 - cmdstanpy - INFO - Chain [1] start processing\n",
      "22:59:40 - cmdstanpy - INFO - Chain [1] start processing\n",
      "22:59:40 - cmdstanpy - INFO - Chain [1] done processing\n",
      "22:59:40 - cmdstanpy - INFO - Chain [1] done processing\n"
     ]
    },
    {
     "name": "stdout",
     "output_type": "stream",
     "text": [
      "It's underpredicted.\n",
      "Monthly Error: 30.03 Period MAE: 5.34\n",
      "It's underpredicted.\n",
      "Monthly Error: 37.05 Period MAE:"
     ]
    },
    {
     "name": "stderr",
     "output_type": "stream",
     "text": [
      "22:59:42 - cmdstanpy - INFO - Chain [1] start processing\n"
     ]
    },
    {
     "name": "stdout",
     "output_type": "stream",
     "text": [
      " 36.88\n",
      "It's underpredicted.\n",
      "Monthly Error: 36.73 Period MAE: 37.01\n"
     ]
    },
    {
     "name": "stderr",
     "output_type": "stream",
     "text": [
      "22:59:42 - cmdstanpy - INFO - Chain [1] start processing\n",
      "22:59:42 - cmdstanpy - INFO - Chain [1] done processing\n",
      "22:59:43 - cmdstanpy - INFO - Chain [1] done processing\n",
      "22:59:43 - cmdstanpy - INFO - Chain [1] start processing\n",
      "22:59:43 - cmdstanpy - INFO - Chain [1] done processing\n"
     ]
    },
    {
     "name": "stdout",
     "output_type": "stream",
     "text": [
      "It's underpredicted.\n",
      "Monthly Error: 36.73 Period MAE: 37.01\n",
      "It's underpredicted.\n",
      "Monthly Error: 38.39 Period MAE: 39.47\n"
     ]
    },
    {
     "name": "stderr",
     "output_type": "stream",
     "text": [
      "22:59:44 - cmdstanpy - INFO - Chain [1] start processing\n",
      "22:59:44 - cmdstanpy - INFO - Chain [1] done processing\n"
     ]
    },
    {
     "name": "stdout",
     "output_type": "stream",
     "text": [
      "It's underpredicted.\n",
      "Monthly Error: 36.44 Period MAE: 35.77\n"
     ]
    },
    {
     "name": "stderr",
     "output_type": "stream",
     "text": [
      "22:59:44 - cmdstanpy - INFO - Chain [1] start processing\n",
      "22:59:45 - cmdstanpy - INFO - Chain [1] done processing\n",
      "22:59:45 - cmdstanpy - INFO - Chain [1] start processing\n",
      "22:59:45 - cmdstanpy - INFO - Chain [1] done processing\n"
     ]
    },
    {
     "name": "stdout",
     "output_type": "stream",
     "text": [
      "It's underpredicted.\n",
      "Monthly Error:It's underpredicted. \n",
      "40.6 Monthly Error:Period MAE:  41.9736.73\n",
      " Period MAE: 37.01\n",
      "It's underpredicted.\n",
      "Monthly Error: 94.56 Period MAE: 94.67\n"
     ]
    },
    {
     "name": "stderr",
     "output_type": "stream",
     "text": [
      "22:59:47 - cmdstanpy - INFO - Chain [1] start processing\n",
      "22:59:47 - cmdstanpy - INFO - Chain [1] start processing\n",
      "22:59:47 - cmdstanpy - INFO - Chain [1] done processing\n",
      "22:59:47 - cmdstanpy - INFO - Chain [1] start processing\n",
      "22:59:47 - cmdstanpy - INFO - Chain [1] done processing\n",
      "22:59:47 - cmdstanpy - INFO - Chain [1] done processing\n"
     ]
    },
    {
     "name": "stdout",
     "output_type": "stream",
     "text": [
      "It's underpredicted.\n",
      "Monthly Error: 94.56 Period MAE: 94.67\n",
      "It's underpredicted.\n",
      "Monthly Error: 36.73"
     ]
    },
    {
     "name": "stderr",
     "output_type": "stream",
     "text": [
      "22:59:48 - cmdstanpy - INFO - Chain [1] start processing\n"
     ]
    },
    {
     "name": "stdout",
     "output_type": "stream",
     "text": [
      " Period MAE: 37.34\n"
     ]
    },
    {
     "name": "stderr",
     "output_type": "stream",
     "text": [
      "22:59:48 - cmdstanpy - INFO - Chain [1] done processing\n"
     ]
    },
    {
     "name": "stdout",
     "output_type": "stream",
     "text": [
      "It's underpredicted.\n",
      "Monthly Error: 39.04 Period MAE: 40.25\n"
     ]
    },
    {
     "name": "stderr",
     "output_type": "stream",
     "text": [
      "22:59:49 - cmdstanpy - INFO - Chain [1] start processing\n",
      "22:59:49 - cmdstanpy - INFO - Chain [1] done processing\n",
      "22:59:49 - cmdstanpy - INFO - Chain [1] start processing\n",
      "22:59:50 - cmdstanpy - INFO - Chain [1] done processing\n"
     ]
    },
    {
     "name": "stdout",
     "output_type": "stream",
     "text": [
      "It's underpredicted.\n",
      "Monthly Error: 38.48 Period MAE: 39.410000000000004\n",
      "It's underpredicted.\n",
      "Monthly Error: 94.56 Period MAE: 94.67\n",
      "It's underpredicted.\n",
      "Monthly Error: 88.18 Period MAE: 88.55\n"
     ]
    },
    {
     "name": "stderr",
     "output_type": "stream",
     "text": [
      "22:59:51 - cmdstanpy - INFO - Chain [1] start processing\n",
      "22:59:51 - cmdstanpy - INFO - Chain [1] start processing\n",
      "22:59:51 - cmdstanpy - INFO - Chain [1] done processing\n",
      "22:59:51 - cmdstanpy - INFO - Chain [1] start processing\n",
      "22:59:51 - cmdstanpy - INFO - Chain [1] done processing\n",
      "22:59:52 - cmdstanpy - INFO - Chain [1] done processing\n"
     ]
    },
    {
     "name": "stdout",
     "output_type": "stream",
     "text": [
      "It's underpredicted.\n",
      "Monthly Error: 88.18 Period MAE: 88.55\n",
      "It's underpredicted.\n",
      "Monthly Error: 40.29 Period MAE:"
     ]
    },
    {
     "name": "stderr",
     "output_type": "stream",
     "text": [
      "22:59:52 - cmdstanpy - INFO - Chain [1] start processing\n"
     ]
    },
    {
     "name": "stdout",
     "output_type": "stream",
     "text": [
      " 41.760000000000005\n"
     ]
    },
    {
     "name": "stderr",
     "output_type": "stream",
     "text": [
      "22:59:52 - cmdstanpy - INFO - Chain [1] done processing\n",
      "22:59:53 - cmdstanpy - INFO - Chain [1] start processing\n",
      "22:59:53 - cmdstanpy - INFO - Chain [1] done processing\n"
     ]
    },
    {
     "name": "stdout",
     "output_type": "stream",
     "text": [
      "It's underpredicted.\n",
      "Monthly Error: 38.03 Period MAE: 39.03\n",
      "It's underpredicted.\n",
      "Monthly Error: 94.56It's underpredicted. Period MAE:"
     ]
    },
    {
     "name": "stderr",
     "output_type": "stream",
     "text": [
      "22:59:55 - cmdstanpy - INFO - Chain [1] start processing\n"
     ]
    },
    {
     "name": "stdout",
     "output_type": "stream",
     "text": [
      "\n",
      " 94.67Monthly Error:\n",
      " It's underpredicted.88.18 \n",
      "Period MAE:Monthly Error: 41.01  Period MAE:88.55 "
     ]
    },
    {
     "name": "stderr",
     "output_type": "stream",
     "text": [
      "22:59:55 - cmdstanpy - INFO - Chain [1] done processing\n"
     ]
    },
    {
     "name": "stdout",
     "output_type": "stream",
     "text": [
      "\n",
      "42.480000000000004\n"
     ]
    },
    {
     "name": "stderr",
     "output_type": "stream",
     "text": [
      "22:59:55 - cmdstanpy - INFO - Chain [1] start processing\n",
      "22:59:55 - cmdstanpy - INFO - Chain [1] done processing\n",
      "22:59:56 - cmdstanpy - INFO - Chain [1] start processing\n",
      "22:59:56 - cmdstanpy - INFO - Chain [1] start processing\n",
      "22:59:56 - cmdstanpy - INFO - Chain [1] done processing\n",
      "22:59:56 - cmdstanpy - INFO - Chain [1] done processing\n"
     ]
    },
    {
     "name": "stdout",
     "output_type": "stream",
     "text": [
      "It's underpredicted.\n",
      "Monthly Error: 22.64 Period MAE: 8.92\n"
     ]
    },
    {
     "name": "stderr",
     "output_type": "stream",
     "text": [
      "22:59:57 - cmdstanpy - INFO - Chain [1] start processing\n",
      "22:59:57 - cmdstanpy - INFO - Chain [1] done processing\n"
     ]
    },
    {
     "name": "stdout",
     "output_type": "stream",
     "text": [
      "It's underpredicted.\n",
      "Monthly Error: 94.56 Period MAE: 94.67It's underpredicted.\n",
      "\n",
      "Monthly Error: 39.19 Period MAE: 40.43\n"
     ]
    },
    {
     "name": "stderr",
     "output_type": "stream",
     "text": [
      "22:59:58 - cmdstanpy - INFO - Chain [1] start processing\n"
     ]
    },
    {
     "name": "stdout",
     "output_type": "stream",
     "text": [
      "It's underpredicted."
     ]
    },
    {
     "name": "stderr",
     "output_type": "stream",
     "text": [
      "22:59:58 - cmdstanpy - INFO - Chain [1] start processing\n"
     ]
    },
    {
     "name": "stdout",
     "output_type": "stream",
     "text": [
      "\n",
      "Monthly Error: 94.56 Period MAE:"
     ]
    },
    {
     "name": "stderr",
     "output_type": "stream",
     "text": [
      "22:59:59 - cmdstanpy - INFO - Chain [1] done processing\n"
     ]
    },
    {
     "name": "stdout",
     "output_type": "stream",
     "text": [
      " "
     ]
    },
    {
     "name": "stderr",
     "output_type": "stream",
     "text": [
      "22:59:59 - cmdstanpy - INFO - Chain [1] done processing\n"
     ]
    },
    {
     "name": "stdout",
     "output_type": "stream",
     "text": [
      "94.67\n",
      "It's underpredicted.\n",
      "Monthly Error: 50.77 Period MAE: 51.739999999999995\n",
      "It's underpredicted."
     ]
    },
    {
     "name": "stderr",
     "output_type": "stream",
     "text": [
      "22:59:59 - cmdstanpy - INFO - Chain [1] start processing\n"
     ]
    },
    {
     "name": "stdout",
     "output_type": "stream",
     "text": [
      "\n",
      "Monthly Error: 23.83 Period MAE: 15.909999999999998\n"
     ]
    },
    {
     "name": "stderr",
     "output_type": "stream",
     "text": [
      "23:00:00 - cmdstanpy - INFO - Chain [1] start processing\n",
      "23:00:00 - cmdstanpy - INFO - Chain [1] done processing\n",
      "23:00:00 - cmdstanpy - INFO - Chain [1] done processing\n",
      "23:00:00 - cmdstanpy - INFO - Chain [1] start processing\n",
      "23:00:01 - cmdstanpy - INFO - Chain [1] done processing\n"
     ]
    },
    {
     "name": "stdout",
     "output_type": "stream",
     "text": [
      "It's underpredicted.\n",
      "Monthly Error: 22.63 Period MAE: 8.83\n",
      "It's underpredicted.\n",
      "Monthly Error: 50.9 Period MAE: 51.88\n"
     ]
    },
    {
     "name": "stderr",
     "output_type": "stream",
     "text": [
      "23:00:01 - cmdstanpy - INFO - Chain [1] start processing\n",
      "23:00:02 - cmdstanpy - INFO - Chain [1] done processing\n"
     ]
    },
    {
     "name": "stdout",
     "output_type": "stream",
     "text": [
      "It's underpredicted.\n",
      "Monthly Error: 22.52 Period MAE: 7.59\n"
     ]
    },
    {
     "name": "stderr",
     "output_type": "stream",
     "text": [
      "23:00:03 - cmdstanpy - INFO - Chain [1] start processing\n",
      "23:00:03 - cmdstanpy - INFO - Chain [1] done processing\n",
      "23:00:03 - cmdstanpy - INFO - Chain [1] start processing\n",
      "23:00:03 - cmdstanpy - INFO - Chain [1] done processing\n"
     ]
    },
    {
     "name": "stdout",
     "output_type": "stream",
     "text": [
      "It's underpredicted.\n",
      "Monthly Error: 40.5 Period MAE: 41.91\n",
      "It's overpredicted.\n",
      "Monthly Error: 48.95 Period MAE: 44.4\n",
      "It's underpredicted.\n",
      "Monthly Error: 23.79 Period MAE: 15.840000000000002\n"
     ]
    },
    {
     "name": "stderr",
     "output_type": "stream",
     "text": [
      "23:00:05 - cmdstanpy - INFO - Chain [1] start processing\n",
      "23:00:05 - cmdstanpy - INFO - Chain [1] done processing\n",
      "23:00:05 - cmdstanpy - INFO - Chain [1] start processing\n",
      "23:00:06 - cmdstanpy - INFO - Chain [1] start processing\n",
      "23:00:06 - cmdstanpy - INFO - Chain [1] done processing\n",
      "23:00:06 - cmdstanpy - INFO - Chain [1] done processing\n"
     ]
    },
    {
     "name": "stdout",
     "output_type": "stream",
     "text": [
      "It's overpredicted.\n",
      "Monthly Error: 46.7 Period MAE: 42.04\n",
      "It's underpredicted.\n",
      "Monthly Error: 29.86 Period MAE: 23.86\n"
     ]
    },
    {
     "name": "stderr",
     "output_type": "stream",
     "text": [
      "23:00:07 - cmdstanpy - INFO - Chain [1] start processing\n",
      "23:00:07 - cmdstanpy - INFO - Chain [1] done processing\n",
      "23:00:07 - cmdstanpy - INFO - Chain [1] start processing\n",
      "23:00:07 - cmdstanpy - INFO - Chain [1] done processing\n"
     ]
    },
    {
     "name": "stdout",
     "output_type": "stream",
     "text": [
      "It's underpredicted.\n",
      "Monthly Error: 22.51 Period MAE: 7.739999999999999\n"
     ]
    },
    {
     "name": "stderr",
     "output_type": "stream",
     "text": [
      "23:00:09 - cmdstanpy - INFO - Chain [1] start processing\n",
      "23:00:09 - cmdstanpy - INFO - Chain [1] done processing\n"
     ]
    },
    {
     "name": "stdout",
     "output_type": "stream",
     "text": [
      "It's underpredicted.\n",
      "Monthly Error: 35.07 It's underpredicted.Period MAE:\n",
      " 32.28Monthly Error: \n",
      "50.76 Period MAE: 51.73\n",
      "It's overpredicted.\n",
      "Monthly Error: 49.42 Period MAE: 44.879999999999995\n"
     ]
    },
    {
     "name": "stderr",
     "output_type": "stream",
     "text": [
      "23:00:10 - cmdstanpy - INFO - Chain [1] start processing\n",
      "23:00:10 - cmdstanpy - INFO - Chain [1] done processing\n",
      "23:00:10 - cmdstanpy - INFO - Chain [1] start processing\n",
      "23:00:10 - cmdstanpy - INFO - Chain [1] start processing\n",
      "23:00:10 - cmdstanpy - INFO - Chain [1] done processing\n",
      "23:00:10 - cmdstanpy - INFO - Chain [1] done processing\n"
     ]
    },
    {
     "name": "stdout",
     "output_type": "stream",
     "text": [
      "It's underpredicted.\n",
      "Monthly Error: 27.59 Period MAE: 25.240000000000002\n"
     ]
    },
    {
     "name": "stderr",
     "output_type": "stream",
     "text": [
      "23:00:11 - cmdstanpy - INFO - Chain [1] start processing\n",
      "23:00:11 - cmdstanpy - INFO - Chain [1] done processing\n"
     ]
    },
    {
     "name": "stdout",
     "output_type": "stream",
     "text": [
      "It's underpredicted.\n",
      "Monthly Error: 50.78 Period MAE: 51.77\n",
      "It's underpredicted.\n",
      "Monthly Error: 30.02 Period MAE: 22.84\n"
     ]
    },
    {
     "name": "stderr",
     "output_type": "stream",
     "text": [
      "23:00:13 - cmdstanpy - INFO - Chain [1] start processing\n"
     ]
    },
    {
     "name": "stdout",
     "output_type": "stream",
     "text": [
      "It's underpredicted.\n",
      "Monthly Error: 41.0 Period MAE: "
     ]
    },
    {
     "name": "stderr",
     "output_type": "stream",
     "text": [
      "23:00:13 - cmdstanpy - INFO - Chain [1] start processing\n"
     ]
    },
    {
     "name": "stdout",
     "output_type": "stream",
     "text": [
      "42.38\n"
     ]
    },
    {
     "name": "stderr",
     "output_type": "stream",
     "text": [
      "23:00:13 - cmdstanpy - INFO - Chain [1] done processing\n"
     ]
    },
    {
     "name": "stdout",
     "output_type": "stream",
     "text": [
      "It's underpredicted.\n",
      "Monthly Error: "
     ]
    },
    {
     "name": "stderr",
     "output_type": "stream",
     "text": [
      "23:00:13 - cmdstanpy - INFO - Chain [1] done processing\n"
     ]
    },
    {
     "name": "stdout",
     "output_type": "stream",
     "text": [
      "65.25 Period MAE: 66.35\n"
     ]
    },
    {
     "name": "stderr",
     "output_type": "stream",
     "text": [
      "23:00:14 - cmdstanpy - INFO - Chain [1] start processing\n",
      "23:00:14 - cmdstanpy - INFO - Chain [1] start processing\n",
      "23:00:14 - cmdstanpy - INFO - Chain [1] done processing\n"
     ]
    },
    {
     "name": "stdout",
     "output_type": "stream",
     "text": [
      "It's underpredicted.\n",
      "Monthly Error: 30.05 Period MAE: 28.799999999999997"
     ]
    },
    {
     "name": "stderr",
     "output_type": "stream",
     "text": [
      "23:00:14 - cmdstanpy - INFO - Chain [1] done processing\n"
     ]
    },
    {
     "name": "stdout",
     "output_type": "stream",
     "text": [
      "\n"
     ]
    },
    {
     "name": "stderr",
     "output_type": "stream",
     "text": [
      "23:00:14 - cmdstanpy - INFO - Chain [1] start processing\n",
      "23:00:15 - cmdstanpy - INFO - Chain [1] done processing\n"
     ]
    },
    {
     "name": "stdout",
     "output_type": "stream",
     "text": [
      "It's underpredicted.\n",
      "Monthly Error: 65.21 Period MAE: 66.32000000000001\n"
     ]
    },
    {
     "name": "stderr",
     "output_type": "stream",
     "text": [
      "23:00:16 - cmdstanpy - INFO - Chain [1] start processing\n"
     ]
    },
    {
     "name": "stdout",
     "output_type": "stream",
     "text": [
      "It's underpredicted.\n",
      "Monthly Error: "
     ]
    },
    {
     "name": "stderr",
     "output_type": "stream",
     "text": [
      "23:00:16 - cmdstanpy - INFO - Chain [1] done processing\n"
     ]
    },
    {
     "name": "stdout",
     "output_type": "stream",
     "text": [
      "26.27 Period MAE: 22.63\n",
      "It's underpredicted.\n",
      "Monthly Error: 46.62 Period MAE: 49.13\n"
     ]
    },
    {
     "name": "stderr",
     "output_type": "stream",
     "text": [
      "23:00:17 - cmdstanpy - INFO - Chain [1] start processing\n",
      "23:00:17 - cmdstanpy - INFO - Chain [1] start processing\n",
      "23:00:17 - cmdstanpy - INFO - Chain [1] done processing\n"
     ]
    },
    {
     "name": "stdout",
     "output_type": "stream",
     "text": [
      "It's underpredicted.\n",
      "Monthly Error:"
     ]
    },
    {
     "name": "stderr",
     "output_type": "stream",
     "text": [
      "23:00:17 - cmdstanpy - INFO - Chain [1] done processing\n"
     ]
    },
    {
     "name": "stdout",
     "output_type": "stream",
     "text": [
      " 46.3 Period MAE: 47.71\n",
      "It's overpredicted.\n",
      "Monthly Error: 45.1 Period MAE: 39.77\n"
     ]
    },
    {
     "name": "stderr",
     "output_type": "stream",
     "text": [
      "23:00:18 - cmdstanpy - INFO - Chain [1] start processing\n"
     ]
    },
    {
     "name": "stdout",
     "output_type": "stream",
     "text": [
      "It's underpredicted.\n",
      "Monthly Error: 51.29 Period MAE: 54.09\n"
     ]
    },
    {
     "name": "stderr",
     "output_type": "stream",
     "text": [
      "23:00:18 - cmdstanpy - INFO - Chain [1] done processing\n",
      "23:00:18 - cmdstanpy - INFO - Chain [1] start processing\n",
      "23:00:18 - cmdstanpy - INFO - Chain [1] start processing\n",
      "23:00:19 - cmdstanpy - INFO - Chain [1] done processing\n",
      "23:00:19 - cmdstanpy - INFO - Chain [1] done processing\n"
     ]
    },
    {
     "name": "stdout",
     "output_type": "stream",
     "text": [
      "It's underpredicted.\n",
      "Monthly Error:It's overpredicted. It's underpredicted.40.76\n",
      "Monthly Error:  40.93 Period MAE:Period MAE:\n",
      "  Monthly Error:34.28\n",
      "42.51 \n",
      "35.43 Period MAE: 35.9\n"
     ]
    },
    {
     "name": "stderr",
     "output_type": "stream",
     "text": [
      "23:00:20 - cmdstanpy - INFO - Chain [1] start processing\n",
      "23:00:20 - cmdstanpy - INFO - Chain [1] done processing\n",
      "23:00:21 - cmdstanpy - INFO - Chain [1] start processing\n",
      "23:00:21 - cmdstanpy - INFO - Chain [1] done processing\n",
      "23:00:21 - cmdstanpy - INFO - Chain [1] start processing\n",
      "23:00:21 - cmdstanpy - INFO - Chain [1] done processing\n"
     ]
    },
    {
     "name": "stdout",
     "output_type": "stream",
     "text": [
      "It's overpredicted.\n",
      "Monthly Error: 43.16 Period MAE: 36.919999999999995\n",
      "It's underpredicted.\n",
      "Monthly Error: 39.79 Period MAE: 40.29\n"
     ]
    },
    {
     "name": "stderr",
     "output_type": "stream",
     "text": [
      "23:00:23 - cmdstanpy - INFO - Chain [1] start processing\n"
     ]
    },
    {
     "name": "stdout",
     "output_type": "stream",
     "text": [
      "It's underpredicted.\n",
      "Monthly Error: 65.24 Period MAE: 66.34\n"
     ]
    },
    {
     "name": "stderr",
     "output_type": "stream",
     "text": [
      "23:00:23 - cmdstanpy - INFO - Chain [1] done processing\n",
      "23:00:23 - cmdstanpy - INFO - Chain [1] start processing\n",
      "23:00:23 - cmdstanpy - INFO - Chain [1] start processing\n"
     ]
    },
    {
     "name": "stdout",
     "output_type": "stream",
     "text": [
      "It's underpredicted.\n",
      "Monthly Error: 65.21 Period MAE: 66.32000000000001\n"
     ]
    },
    {
     "name": "stderr",
     "output_type": "stream",
     "text": [
      "23:00:24 - cmdstanpy - INFO - Chain [1] done processing\n",
      "23:00:24 - cmdstanpy - INFO - Chain [1] start processing\n",
      "23:00:24 - cmdstanpy - INFO - Chain [1] done processing\n",
      "23:00:24 - cmdstanpy - INFO - Chain [1] done processing\n"
     ]
    },
    {
     "name": "stdout",
     "output_type": "stream",
     "text": [
      "It's underpredicted.\n",
      "Monthly Error: 37.08 Period MAE: 36.620000000000005\n",
      "It's underpredicted.\n",
      "Monthly Error: 34.04 Period MAE: 32.31\n"
     ]
    },
    {
     "name": "stderr",
     "output_type": "stream",
     "text": [
      "23:00:25 - cmdstanpy - INFO - Chain [1] start processing\n",
      "23:00:26 - cmdstanpy - INFO - Chain [1] done processing\n",
      "23:00:26 - cmdstanpy - INFO - Chain [1] start processing\n",
      "23:00:26 - cmdstanpy - INFO - Chain [1] done processing\n"
     ]
    },
    {
     "name": "stdout",
     "output_type": "stream",
     "text": [
      "It's underpredicted.\n",
      "Monthly Error: 35.86 Period MAE: 36.15\n",
      "It's underpredicted.\n",
      "Monthly Error: 42.99 Period MAE: 44.45\n"
     ]
    },
    {
     "name": "stderr",
     "output_type": "stream",
     "text": [
      "23:00:27 - cmdstanpy - INFO - Chain [1] start processing\n"
     ]
    },
    {
     "name": "stdout",
     "output_type": "stream",
     "text": [
      "It's underpredicted.\n"
     ]
    },
    {
     "name": "stderr",
     "output_type": "stream",
     "text": [
      "23:00:28 - cmdstanpy - INFO - Chain [1] done processing\n"
     ]
    },
    {
     "name": "stdout",
     "output_type": "stream",
     "text": [
      "Monthly Error: 44.82 Period MAE: 46.25\n"
     ]
    },
    {
     "name": "stderr",
     "output_type": "stream",
     "text": [
      "23:00:28 - cmdstanpy - INFO - Chain [1] start processing\n",
      "23:00:28 - cmdstanpy - INFO - Chain [1] done processing\n",
      "23:00:28 - cmdstanpy - INFO - Chain [1] start processing\n"
     ]
    },
    {
     "name": "stdout",
     "output_type": "stream",
     "text": [
      "It's underpredicted.\n",
      "Monthly Error: 35.86 Period MAE: 36.15"
     ]
    },
    {
     "name": "stderr",
     "output_type": "stream",
     "text": [
      "23:00:28 - cmdstanpy - INFO - Chain [1] done processing\n"
     ]
    },
    {
     "name": "stdout",
     "output_type": "stream",
     "text": [
      "\n"
     ]
    },
    {
     "name": "stderr",
     "output_type": "stream",
     "text": [
      "23:00:29 - cmdstanpy - INFO - Chain [1] start processing\n",
      "23:00:29 - cmdstanpy - INFO - Chain [1] done processing\n"
     ]
    },
    {
     "name": "stdout",
     "output_type": "stream",
     "text": [
      "It's underpredicted.\n",
      "Monthly Error: 36.09 Period MAE: 34.46\n",
      "It's underpredicted.\n",
      "Monthly Error: 34.12 Period MAE: 30.769999999999996\n"
     ]
    },
    {
     "name": "stderr",
     "output_type": "stream",
     "text": [
      "23:00:30 - cmdstanpy - INFO - Chain [1] start processing\n",
      "23:00:30 - cmdstanpy - INFO - Chain [1] done processing\n",
      "23:00:31 - cmdstanpy - INFO - Chain [1] start processing\n",
      "23:00:31 - cmdstanpy - INFO - Chain [1] done processing\n"
     ]
    },
    {
     "name": "stdout",
     "output_type": "stream",
     "text": [
      "It's overpredicted.\n",
      "Monthly Error: 30.59 Period MAE: 0.67\n",
      "It's underpredicted.\n",
      "Monthly Error: 35.86 Period MAE: 36.15\n",
      "It's underpredicted.\n",
      "Monthly Error: 37.29 Period MAE: 36.19\n"
     ]
    },
    {
     "name": "stderr",
     "output_type": "stream",
     "text": [
      "23:00:32 - cmdstanpy - INFO - Chain [1] start processing\n",
      "23:00:33 - cmdstanpy - INFO - Chain [1] start processing\n",
      "23:00:33 - cmdstanpy - INFO - Chain [1] start processing\n",
      "23:00:33 - cmdstanpy - INFO - Chain [1] done processing\n",
      "23:00:33 - cmdstanpy - INFO - Chain [1] done processing\n",
      "23:00:33 - cmdstanpy - INFO - Chain [1] done processing\n"
     ]
    },
    {
     "name": "stdout",
     "output_type": "stream",
     "text": [
      "It's overpredicted.\n",
      "Monthly Error: 30.59 Period MAE: 0.67\n"
     ]
    },
    {
     "name": "stderr",
     "output_type": "stream",
     "text": [
      "23:00:34 - cmdstanpy - INFO - Chain [1] start processing\n"
     ]
    },
    {
     "name": "stdout",
     "output_type": "stream",
     "text": [
      "It's underpredicted.\n",
      "Monthly Error: 35.61 Period MAE: 34.58\n"
     ]
    },
    {
     "name": "stderr",
     "output_type": "stream",
     "text": [
      "23:00:34 - cmdstanpy - INFO - Chain [1] done processing\n"
     ]
    },
    {
     "name": "stdout",
     "output_type": "stream",
     "text": [
      "It's underpredicted.\n",
      "Monthly Error: 33.43 Period MAE: 29.099999999999998\n"
     ]
    },
    {
     "name": "stderr",
     "output_type": "stream",
     "text": [
      "23:00:35 - cmdstanpy - INFO - Chain [1] start processing\n",
      "23:00:35 - cmdstanpy - INFO - Chain [1] done processing\n",
      "23:00:36 - cmdstanpy - INFO - Chain [1] start processing\n",
      "23:00:36 - cmdstanpy - INFO - Chain [1] done processing\n"
     ]
    },
    {
     "name": "stdout",
     "output_type": "stream",
     "text": [
      "It's underpredicted.\n",
      "It's overpredicted.Monthly Error:\n",
      " 35.86Monthly Error: Period MAE: 30.59 36.15 Period MAE: \n",
      "0.67\n",
      "It's underpredicted.\n",
      "Monthly Error: 44.69 Period MAE: 46.39\n"
     ]
    },
    {
     "name": "stderr",
     "output_type": "stream",
     "text": [
      "23:00:37 - cmdstanpy - INFO - Chain [1] start processing\n",
      "23:00:37 - cmdstanpy - INFO - Chain [1] start processing\n",
      "23:00:37 - cmdstanpy - INFO - Chain [1] done processing\n",
      "23:00:38 - cmdstanpy - INFO - Chain [1] start processing\n",
      "23:00:38 - cmdstanpy - INFO - Chain [1] done processing\n",
      "23:00:38 - cmdstanpy - INFO - Chain [1] done processing\n"
     ]
    },
    {
     "name": "stdout",
     "output_type": "stream",
     "text": [
      "It's underpredicted.\n",
      "Monthly Error: 38.17 Period MAE:It's underpredicted. \n",
      "39.269999999999996Monthly Error:\n",
      " Period MAE:35.86 36.15 \n"
     ]
    },
    {
     "name": "stderr",
     "output_type": "stream",
     "text": [
      "23:00:39 - cmdstanpy - INFO - Chain [1] start processing\n",
      "23:00:39 - cmdstanpy - INFO - Chain [1] done processing\n",
      "23:00:39 - cmdstanpy - INFO - Chain [1] start processing\n",
      "23:00:40 - cmdstanpy - INFO - Chain [1] done processing\n"
     ]
    },
    {
     "name": "stdout",
     "output_type": "stream",
     "text": [
      "It's underpredicted.It's underpredicted.\n",
      "\n",
      "Monthly Error:Monthly Error:  35.86 Period MAE:34.37  Period MAE:36.15\n",
      " 31.680000000000003\n"
     ]
    },
    {
     "name": "stderr",
     "output_type": "stream",
     "text": [
      "23:00:41 - cmdstanpy - INFO - Chain [1] start processing\n",
      "23:00:41 - cmdstanpy - INFO - Chain [1] done processing\n",
      "23:00:41 - cmdstanpy - INFO - Chain [1] start processing\n"
     ]
    },
    {
     "name": "stdout",
     "output_type": "stream",
     "text": [
      "It's underpredicted.\n",
      "Monthly Error: 45.37 Period MAE: 47.23\n",
      "It's overpredicted.\n",
      "Monthly Error: 49.56 Period MAE: It's underpredicted.\n",
      "45.019999999999996Monthly Error:\n",
      " 50.82 Period MAE: 51.790000000000006\n",
      "It's underpredicted.\n",
      "Monthly Error: 35.36 Period MAE: 32.73\n"
     ]
    },
    {
     "name": "stderr",
     "output_type": "stream",
     "text": [
      "23:01:06 - cmdstanpy - INFO - Chain [1] start processing\n",
      "23:01:06 - cmdstanpy - INFO - Chain [1] start processing\n",
      "23:01:06 - cmdstanpy - INFO - Chain [1] start processing\n",
      "23:01:06 - cmdstanpy - INFO - Chain [1] done processing\n"
     ]
    },
    {
     "name": "stdout",
     "output_type": "stream",
     "text": [
      "It's underpredicted.\n",
      "Monthly Error: 50.84 Period MAE: 51.81\n"
     ]
    },
    {
     "name": "stderr",
     "output_type": "stream",
     "text": [
      "23:01:07 - cmdstanpy - INFO - Chain [1] done processing\n",
      "23:01:07 - cmdstanpy - INFO - Chain [1] done processing\n",
      "23:01:07 - cmdstanpy - INFO - Chain [1] start processing\n",
      "23:01:07 - cmdstanpy - INFO - Chain [1] done processing\n"
     ]
    },
    {
     "name": "stdout",
     "output_type": "stream",
     "text": [
      "It's underpredicted.\n",
      "Monthly Error: 27.81 Period MAE: 25.590000000000003\n",
      "It's underpredicted.\n",
      "Monthly Error: 29.56 Period MAE: 22.16\n"
     ]
    },
    {
     "name": "stderr",
     "output_type": "stream",
     "text": [
      "23:01:08 - cmdstanpy - INFO - Chain [1] start processing\n",
      "23:01:09 - cmdstanpy - INFO - Chain [1] done processing\n"
     ]
    },
    {
     "name": "stdout",
     "output_type": "stream",
     "text": [
      "It's underpredicted.\n",
      "Monthly Error: 42.68 Period MAE: 44.0\n"
     ]
    },
    {
     "name": "stderr",
     "output_type": "stream",
     "text": [
      "23:01:09 - cmdstanpy - INFO - Chain [1] start processing\n",
      "23:01:09 - cmdstanpy - INFO - Chain [1] done processing\n"
     ]
    },
    {
     "name": "stdout",
     "output_type": "stream",
     "text": [
      "It's underpredicted.\n",
      "Monthly Error: 65.24 Period MAE: 66.35\n"
     ]
    },
    {
     "name": "stderr",
     "output_type": "stream",
     "text": [
      "23:01:10 - cmdstanpy - INFO - Chain [1] start processing\n"
     ]
    },
    {
     "name": "stdout",
     "output_type": "stream",
     "text": [
      "It's underpredicted.\n",
      "Monthly Error: 30.49 Period MAE: 29.549999999999997\n"
     ]
    },
    {
     "name": "stderr",
     "output_type": "stream",
     "text": [
      "23:01:10 - cmdstanpy - INFO - Chain [1] done processing\n",
      "23:01:11 - cmdstanpy - INFO - Chain [1] start processing\n",
      "23:01:11 - cmdstanpy - INFO - Chain [1] start processing\n",
      "23:01:11 - cmdstanpy - INFO - Chain [1] done processing\n",
      "23:01:11 - cmdstanpy - INFO - Chain [1] done processing\n"
     ]
    },
    {
     "name": "stdout",
     "output_type": "stream",
     "text": [
      "It's underpredicted.\n",
      "Monthly Error: 65.21 Period MAE: 66.32000000000001\n"
     ]
    },
    {
     "name": "stderr",
     "output_type": "stream",
     "text": [
      "23:01:12 - cmdstanpy - INFO - Chain [1] start processing\n",
      "23:01:12 - cmdstanpy - INFO - Chain [1] done processing\n"
     ]
    },
    {
     "name": "stdout",
     "output_type": "stream",
     "text": [
      "It's underpredicted.\n",
      "Monthly Error: It's underpredicted.\n",
      "46.3Monthly Error:  26.21 Period MAE:Period MAE:  22.6248.76\n",
      "\n"
     ]
    },
    {
     "name": "stderr",
     "output_type": "stream",
     "text": [
      "23:01:13 - cmdstanpy - INFO - Chain [1] start processing\n",
      "23:01:13 - cmdstanpy - INFO - Chain [1] start processing\n",
      "23:01:13 - cmdstanpy - INFO - Chain [1] done processing\n",
      "23:01:14 - cmdstanpy - INFO - Chain [1] done processing\n"
     ]
    },
    {
     "name": "stdout",
     "output_type": "stream",
     "text": [
      "It's underpredicted.\n",
      "Monthly Error:It's overpredicted.\n",
      "Monthly Error: 44.75 Period MAE:  46.3439.21\n",
      " Period MAE: 47.75\n",
      "It's underpredicted.\n",
      "Monthly Error: 49.64"
     ]
    },
    {
     "name": "stderr",
     "output_type": "stream",
     "text": [
      "23:01:15 - cmdstanpy - INFO - Chain [1] start processing\n"
     ]
    },
    {
     "name": "stdout",
     "output_type": "stream",
     "text": [
      " Period MAE: 52.05\n"
     ]
    },
    {
     "name": "stderr",
     "output_type": "stream",
     "text": [
      "23:01:15 - cmdstanpy - INFO - Chain [1] start processing\n",
      "23:01:15 - cmdstanpy - INFO - Chain [1] start processing\n",
      "23:01:15 - cmdstanpy - INFO - Chain [1] done processing\n",
      "23:01:15 - cmdstanpy - INFO - Chain [1] done processing\n"
     ]
    },
    {
     "name": "stdout",
     "output_type": "stream",
     "text": [
      "It's overpredicted.\n",
      "Monthly Error: 43.01 Period MAE: "
     ]
    },
    {
     "name": "stderr",
     "output_type": "stream",
     "text": [
      "23:01:16 - cmdstanpy - INFO - Chain [1] done processing\n"
     ]
    },
    {
     "name": "stdout",
     "output_type": "stream",
     "text": [
      "37.51\n"
     ]
    },
    {
     "name": "stderr",
     "output_type": "stream",
     "text": [
      "23:01:16 - cmdstanpy - INFO - Chain [1] start processing\n",
      "23:01:16 - cmdstanpy - INFO - Chain [1] done processing\n"
     ]
    },
    {
     "name": "stdout",
     "output_type": "stream",
     "text": [
      "It's underpredicted.\n",
      "Monthly Error: 33.84 Period MAE: 34.03\n"
     ]
    },
    {
     "name": "stderr",
     "output_type": "stream",
     "text": [
      "23:01:17 - cmdstanpy - INFO - Chain [1] start processing\n"
     ]
    },
    {
     "name": "stdout",
     "output_type": "stream",
     "text": [
      "It's underpredicted.\n",
      "Monthly Error:"
     ]
    },
    {
     "name": "stderr",
     "output_type": "stream",
     "text": [
      "23:01:18 - cmdstanpy - INFO - Chain [1] done processing\n"
     ]
    },
    {
     "name": "stdout",
     "output_type": "stream",
     "text": [
      " 42.19 Period MAE: 44.190000000000005\n",
      "It's underpredicted.\n",
      "Monthly Error: 65.24It's overpredicted.\n",
      " Monthly Error:Period MAE:  66.3441.41\n",
      " Period MAE: 34.2\n"
     ]
    },
    {
     "name": "stderr",
     "output_type": "stream",
     "text": [
      "23:01:19 - cmdstanpy - INFO - Chain [1] start processing\n",
      "23:01:19 - cmdstanpy - INFO - Chain [1] done processing\n"
     ]
    },
    {
     "name": "stdout",
     "output_type": "stream",
     "text": [
      "It's underpredicted.\n",
      "Monthly Error: 40.23 Period MAE:"
     ]
    },
    {
     "name": "stderr",
     "output_type": "stream",
     "text": [
      "23:01:19 - cmdstanpy - INFO - Chain [1] start processing\n"
     ]
    },
    {
     "name": "stdout",
     "output_type": "stream",
     "text": [
      " 40.89\n"
     ]
    },
    {
     "name": "stderr",
     "output_type": "stream",
     "text": [
      "23:01:19 - cmdstanpy - INFO - Chain [1] start processing\n",
      "23:01:20 - cmdstanpy - INFO - Chain [1] start processing\n",
      "23:01:20 - cmdstanpy - INFO - Chain [1] done processing\n",
      "23:01:20 - cmdstanpy - INFO - Chain [1] done processing\n",
      "23:01:20 - cmdstanpy - INFO - Chain [1] done processing\n"
     ]
    },
    {
     "name": "stdout",
     "output_type": "stream",
     "text": [
      "It's underpredicted.\n",
      "Monthly Error: 36.11 Period MAE: 35.06\n"
     ]
    },
    {
     "name": "stderr",
     "output_type": "stream",
     "text": [
      "23:01:21 - cmdstanpy - INFO - Chain [1] start processing\n",
      "23:01:21 - cmdstanpy - INFO - Chain [1] done processing\n"
     ]
    },
    {
     "name": "stdout",
     "output_type": "stream",
     "text": [
      "It's underpredicted.\n",
      "Monthly Error: 33.77 Period MAE: 31.830000000000002\n"
     ]
    },
    {
     "name": "stderr",
     "output_type": "stream",
     "text": [
      "23:01:22 - cmdstanpy - INFO - Chain [1] start processing\n"
     ]
    },
    {
     "name": "stdout",
     "output_type": "stream",
     "text": [
      "It's underpredicted.\n",
      "Monthly Error: 65.24"
     ]
    },
    {
     "name": "stderr",
     "output_type": "stream",
     "text": [
      "23:01:22 - cmdstanpy - INFO - Chain [1] done processing\n"
     ]
    },
    {
     "name": "stdout",
     "output_type": "stream",
     "text": [
      " Period MAE: 66.34\n"
     ]
    },
    {
     "name": "stderr",
     "output_type": "stream",
     "text": [
      "23:01:23 - cmdstanpy - INFO - Chain [1] start processing\n"
     ]
    },
    {
     "name": "stdout",
     "output_type": "stream",
     "text": [
      "It's underpredicted.\n",
      "Monthly Error: 44.43 Period MAE: 46.17"
     ]
    },
    {
     "name": "stderr",
     "output_type": "stream",
     "text": [
      "23:01:23 - cmdstanpy - INFO - Chain [1] done processing\n"
     ]
    },
    {
     "name": "stdout",
     "output_type": "stream",
     "text": [
      "\n",
      "It's underpredicted.\n",
      "Monthly Error: 46.05 Period MAE: 47.47\n",
      "It's underpredicted.\n",
      "Monthly Error: 35.83 Period MAE: 36.120000000000005\n"
     ]
    },
    {
     "name": "stderr",
     "output_type": "stream",
     "text": [
      "23:01:24 - cmdstanpy - INFO - Chain [1] start processing\n",
      "23:01:24 - cmdstanpy - INFO - Chain [1] start processing\n",
      "23:01:24 - cmdstanpy - INFO - Chain [1] start processing\n",
      "23:01:25 - cmdstanpy - INFO - Chain [1] done processing\n",
      "23:01:25 - cmdstanpy - INFO - Chain [1] done processing\n"
     ]
    },
    {
     "name": "stdout",
     "output_type": "stream",
     "text": [
      "It's underpredicted.\n",
      "Monthly Error: 35.83 Period MAE: 36.120000000000005\n"
     ]
    },
    {
     "name": "stderr",
     "output_type": "stream",
     "text": [
      "23:01:25 - cmdstanpy - INFO - Chain [1] done processing\n",
      "23:01:25 - cmdstanpy - INFO - Chain [1] start processing\n",
      "23:01:25 - cmdstanpy - INFO - Chain [1] done processing\n"
     ]
    },
    {
     "name": "stdout",
     "output_type": "stream",
     "text": [
      "It's underpredicted.\n",
      "Monthly Error: 33.93 Period MAE: 30.48\n"
     ]
    },
    {
     "name": "stderr",
     "output_type": "stream",
     "text": [
      "23:01:27 - cmdstanpy - INFO - Chain [1] start processing\n"
     ]
    },
    {
     "name": "stdout",
     "output_type": "stream",
     "text": [
      "It's underpredicted.\n",
      "Monthly Error: 35.89 Period MAE: 34.2\n"
     ]
    },
    {
     "name": "stderr",
     "output_type": "stream",
     "text": [
      "23:01:27 - cmdstanpy - INFO - Chain [1] done processing\n"
     ]
    },
    {
     "name": "stdout",
     "output_type": "stream",
     "text": [
      "It's underpredicted.\n",
      "Monthly Error: 35.83 Period MAE: 36.120000000000005\n",
      "It's overpredicted.\n",
      "Monthly Error: 30.78 Period MAE: 1.8599999999999999\n"
     ]
    },
    {
     "name": "stderr",
     "output_type": "stream",
     "text": [
      "23:01:28 - cmdstanpy - INFO - Chain [1] start processing\n",
      "23:01:28 - cmdstanpy - INFO - Chain [1] done processing\n",
      "23:01:28 - cmdstanpy - INFO - Chain [1] start processing\n"
     ]
    },
    {
     "name": "stdout",
     "output_type": "stream",
     "text": [
      "It's underpredicted.\n",
      "Monthly Error: 37.42 Period MAE: 36.28\n"
     ]
    },
    {
     "name": "stderr",
     "output_type": "stream",
     "text": [
      "23:01:29 - cmdstanpy - INFO - Chain [1] start processing\n",
      "23:01:29 - cmdstanpy - INFO - Chain [1] start processing\n",
      "23:01:29 - cmdstanpy - INFO - Chain [1] done processing\n",
      "23:01:29 - cmdstanpy - INFO - Chain [1] done processing\n",
      "23:01:29 - cmdstanpy - INFO - Chain [1] done processing\n"
     ]
    },
    {
     "name": "stdout",
     "output_type": "stream",
     "text": [
      "It's underpredicted.\n",
      "Monthly Error: 32.09 Period MAE: 26.919999999999998\n",
      "It's underpredicted.\n",
      "Monthly Error: 35.38 Period MAE: 34.11\n"
     ]
    },
    {
     "name": "stderr",
     "output_type": "stream",
     "text": [
      "23:01:30 - cmdstanpy - INFO - Chain [1] start processing\n",
      "23:01:31 - cmdstanpy - INFO - Chain [1] done processing\n"
     ]
    },
    {
     "name": "stdout",
     "output_type": "stream",
     "text": [
      "It's overpredicted.\n",
      "Monthly Error: 30.78 Period MAE: 1.8599999999999999\n"
     ]
    },
    {
     "name": "stderr",
     "output_type": "stream",
     "text": [
      "23:01:31 - cmdstanpy - INFO - Chain [1] start processing\n",
      "23:01:31 - cmdstanpy - INFO - Chain [1] done processing\n",
      "23:01:32 - cmdstanpy - INFO - Chain [1] start processing\n",
      "23:01:32 - cmdstanpy - INFO - Chain [1] done processing\n"
     ]
    },
    {
     "name": "stdout",
     "output_type": "stream",
     "text": [
      "It's underpredicted.\n",
      "Monthly Error: 41.22 Period MAE: 42.36\n",
      "It's overpredicted.\n",
      "Monthly Error: 30.78 Period MAE: 1.8599999999999999\n",
      "It's underpredicted.\n",
      "Monthly Error: 35.83 Period MAE: 36.120000000000005\n"
     ]
    },
    {
     "name": "stderr",
     "output_type": "stream",
     "text": [
      "23:01:33 - cmdstanpy - INFO - Chain [1] start processing\n",
      "23:01:34 - cmdstanpy - INFO - Chain [1] start processing\n",
      "23:01:34 - cmdstanpy - INFO - Chain [1] done processing\n",
      "23:01:34 - cmdstanpy - INFO - Chain [1] start processing\n",
      "23:01:34 - cmdstanpy - INFO - Chain [1] done processing\n",
      "23:01:34 - cmdstanpy - INFO - Chain [1] done processing\n"
     ]
    },
    {
     "name": "stdout",
     "output_type": "stream",
     "text": [
      "It's underpredicted.\n",
      "Monthly Error: 35.83 Period MAE: 36.120000000000005\n"
     ]
    },
    {
     "name": "stderr",
     "output_type": "stream",
     "text": [
      "23:01:35 - cmdstanpy - INFO - Chain [1] start processing\n",
      "23:01:35 - cmdstanpy - INFO - Chain [1] done processing\n"
     ]
    },
    {
     "name": "stdout",
     "output_type": "stream",
     "text": [
      "It's underpredicted.\n",
      "Monthly Error: 38.22 Period MAE: 39.31\n"
     ]
    },
    {
     "name": "stderr",
     "output_type": "stream",
     "text": [
      "23:01:36 - cmdstanpy - INFO - Chain [1] start processing\n"
     ]
    },
    {
     "name": "stdout",
     "output_type": "stream",
     "text": [
      "It's underpredicted.\n",
      "Monthly Error: 36.13 Period MAE: 34.4"
     ]
    },
    {
     "name": "stderr",
     "output_type": "stream",
     "text": [
      "23:01:59 - cmdstanpy - INFO - Chain [1] start processing\n"
     ]
    },
    {
     "name": "stdout",
     "output_type": "stream",
     "text": [
      "It's underpredicted.\n",
      "Monthly Error: 22.22"
     ]
    },
    {
     "name": "stderr",
     "output_type": "stream",
     "text": [
      "23:01:59 - cmdstanpy - INFO - Chain [1] done processing\n"
     ]
    },
    {
     "name": "stdout",
     "output_type": "stream",
     "text": [
      " Period MAE: 8.62\n"
     ]
    },
    {
     "name": "stderr",
     "output_type": "stream",
     "text": [
      "23:02:00 - cmdstanpy - INFO - Chain [1] start processing\n",
      "23:02:00 - cmdstanpy - INFO - Chain [1] done processing\n"
     ]
    },
    {
     "name": "stdout",
     "output_type": "stream",
     "text": [
      "It's underpredicted.\n",
      "Monthly Error: 27.8 Period MAE: 23.11\n",
      "It's overpredicted.\n",
      "It's underpredicted.Monthly Error: \n",
      "Monthly Error:46.79  51.12 Period MAE:Period MAE:  52.0700000000000142.11\n",
      "\n"
     ]
    },
    {
     "name": "stderr",
     "output_type": "stream",
     "text": [
      "23:02:01 - cmdstanpy - INFO - Chain [1] start processing\n",
      "23:02:01 - cmdstanpy - INFO - Chain [1] done processing\n",
      "23:02:02 - cmdstanpy - INFO - Chain [1] start processing\n",
      "23:02:02 - cmdstanpy - INFO - Chain [1] start processing\n",
      "23:02:02 - cmdstanpy - INFO - Chain [1] done processing\n",
      "23:02:02 - cmdstanpy - INFO - Chain [1] done processing\n"
     ]
    },
    {
     "name": "stdout",
     "output_type": "stream",
     "text": [
      "It's underpredicted.\n",
      "Monthly Error:It's underpredicted. \n",
      "27.57 Monthly Error:Period MAE: 25.259999999999998 \n",
      "50.45 Period MAE: 51.39\n"
     ]
    },
    {
     "name": "stderr",
     "output_type": "stream",
     "text": [
      "23:02:03 - cmdstanpy - INFO - Chain [1] start processing\n",
      "23:02:03 - cmdstanpy - INFO - Chain [1] done processing\n"
     ]
    },
    {
     "name": "stdout",
     "output_type": "stream",
     "text": [
      "It's underpredicted.\n",
      "Monthly Error: 23.5 Period MAE: 14.92\n"
     ]
    },
    {
     "name": "stderr",
     "output_type": "stream",
     "text": [
      "23:02:04 - cmdstanpy - INFO - Chain [1] start processing\n",
      "23:02:04 - cmdstanpy - INFO - Chain [1] start processing\n",
      "23:02:04 - cmdstanpy - INFO - Chain [1] done processing\n",
      "23:02:04 - cmdstanpy - INFO - Chain [1] done processing\n"
     ]
    },
    {
     "name": "stdout",
     "output_type": "stream",
     "text": [
      "It's underpredicted.\n",
      "Monthly Error: 29.42 Period MAE: 27.88\n",
      "It's underpredicted.\n",
      "Monthly Error: 65.38 Period MAE:"
     ]
    },
    {
     "name": "stderr",
     "output_type": "stream",
     "text": [
      "23:02:06 - cmdstanpy - INFO - Chain [1] start processing\n"
     ]
    },
    {
     "name": "stdout",
     "output_type": "stream",
     "text": [
      " 66.49000000000001\n",
      "It's underpredicted.\n",
      "Monthly Error: "
     ]
    },
    {
     "name": "stderr",
     "output_type": "stream",
     "text": [
      "23:02:06 - cmdstanpy - INFO - Chain [1] done processing\n"
     ]
    },
    {
     "name": "stdout",
     "output_type": "stream",
     "text": [
      "50.92 Period MAE: 51.949999999999996\n",
      "It's underpredicted.\n"
     ]
    },
    {
     "name": "stderr",
     "output_type": "stream",
     "text": [
      "23:02:06 - cmdstanpy - INFO - Chain [1] start processing\n"
     ]
    },
    {
     "name": "stdout",
     "output_type": "stream",
     "text": [
      "Monthly Error: "
     ]
    },
    {
     "name": "stderr",
     "output_type": "stream",
     "text": [
      "23:02:06 - cmdstanpy - INFO - Chain [1] start processing\n"
     ]
    },
    {
     "name": "stdout",
     "output_type": "stream",
     "text": [
      "65.32 Period MAE: 66.42"
     ]
    },
    {
     "name": "stderr",
     "output_type": "stream",
     "text": [
      "23:02:06 - cmdstanpy - INFO - Chain [1] done processing\n"
     ]
    },
    {
     "name": "stdout",
     "output_type": "stream",
     "text": [
      "\n"
     ]
    },
    {
     "name": "stderr",
     "output_type": "stream",
     "text": [
      "23:02:06 - cmdstanpy - INFO - Chain [1] done processing\n",
      "23:02:06 - cmdstanpy - INFO - Chain [1] start processing\n",
      "23:02:07 - cmdstanpy - INFO - Chain [1] done processing\n"
     ]
    },
    {
     "name": "stdout",
     "output_type": "stream",
     "text": [
      "It's underpredicted.\n",
      "Monthly Error: 27.2 Period MAE: 25.019999999999996\n",
      "It's underpredicted.\n",
      "Monthly Error: 28.25 Period MAE: 26.419999999999998\n"
     ]
    },
    {
     "name": "stderr",
     "output_type": "stream",
     "text": [
      "23:02:07 - cmdstanpy - INFO - Chain [1] start processing\n",
      "23:02:07 - cmdstanpy - INFO - Chain [1] done processing\n",
      "23:02:07 - cmdstanpy - INFO - Chain [1] start processing\n",
      "23:02:07 - cmdstanpy - INFO - Chain [1] done processing\n"
     ]
    },
    {
     "name": "stdout",
     "output_type": "stream",
     "text": [
      "It's underpredicted.\n",
      "Monthly Error: 63.38 Period MAE: 64.52\n",
      "It's underpredicted.\n",
      "Monthly Error: 29.89 Period MAE: 28.87\n",
      "It's overpredicted.\n",
      "Monthly Error:"
     ]
    },
    {
     "name": "stderr",
     "output_type": "stream",
     "text": [
      "23:02:08 - cmdstanpy - INFO - Chain [1] start processing\n"
     ]
    },
    {
     "name": "stdout",
     "output_type": "stream",
     "text": [
      " 36.99 Period MAE: 28.02\n"
     ]
    },
    {
     "name": "stderr",
     "output_type": "stream",
     "text": [
      "23:02:09 - cmdstanpy - INFO - Chain [1] start processing\n",
      "23:02:09 - cmdstanpy - INFO - Chain [1] start processing\n",
      "23:02:09 - cmdstanpy - INFO - Chain [1] done processing\n",
      "23:02:09 - cmdstanpy - INFO - Chain [1] done processing\n"
     ]
    },
    {
     "name": "stdout",
     "output_type": "stream",
     "text": [
      "It's overpredicted.\n",
      "Monthly Error:"
     ]
    },
    {
     "name": "stderr",
     "output_type": "stream",
     "text": [
      "23:02:09 - cmdstanpy - INFO - Chain [1] done processing\n"
     ]
    },
    {
     "name": "stdout",
     "output_type": "stream",
     "text": [
      " 37.13 Period MAE: 28.599999999999998\n"
     ]
    },
    {
     "name": "stderr",
     "output_type": "stream",
     "text": [
      "23:02:09 - cmdstanpy - INFO - Chain [1] start processing\n",
      "23:02:09 - cmdstanpy - INFO - Chain [1] done processing\n"
     ]
    },
    {
     "name": "stdout",
     "output_type": "stream",
     "text": [
      "It's underpredicted.It's underpredicted.\n",
      "\n",
      "Monthly Error:Monthly Error: 29.31 27.24 Period MAE: 28.26\n",
      " Period MAE: 25.180000000000003\n"
     ]
    },
    {
     "name": "stderr",
     "output_type": "stream",
     "text": [
      "23:02:10 - cmdstanpy - INFO - Chain [1] start processing\n"
     ]
    },
    {
     "name": "stdout",
     "output_type": "stream",
     "text": [
      "It's overpredicted.\n",
      "Monthly Error:"
     ]
    },
    {
     "name": "stderr",
     "output_type": "stream",
     "text": [
      "23:02:10 - cmdstanpy - INFO - Chain [1] done processing\n"
     ]
    },
    {
     "name": "stdout",
     "output_type": "stream",
     "text": [
      " 36.56 Period MAE: 27.650000000000002\n"
     ]
    },
    {
     "name": "stderr",
     "output_type": "stream",
     "text": [
      "23:02:10 - cmdstanpy - INFO - Chain [1] start processing\n",
      "23:02:10 - cmdstanpy - INFO - Chain [1] done processing\n",
      "23:02:10 - cmdstanpy - INFO - Chain [1] start processing\n"
     ]
    },
    {
     "name": "stdout",
     "output_type": "stream",
     "text": [
      "It's underpredicted.\n",
      "Monthly Error: 65.4 Period MAE: 66.5\n",
      "It's underpredicted.\n",
      "Monthly Error: 33.5 Period MAE: 34.050000000000004\n"
     ]
    },
    {
     "name": "stderr",
     "output_type": "stream",
     "text": [
      "23:02:11 - cmdstanpy - INFO - Chain [1] done processing\n",
      "23:02:11 - cmdstanpy - INFO - Chain [1] start processing\n",
      "23:02:11 - cmdstanpy - INFO - Chain [1] done processing\n",
      "23:02:11 - cmdstanpy - INFO - Chain [1] start processing\n",
      "23:02:11 - cmdstanpy - INFO - Chain [1] done processing\n"
     ]
    },
    {
     "name": "stdout",
     "output_type": "stream",
     "text": [
      "It's underpredicted.It's underpredicted.\n",
      "Monthly Error: \n",
      "Monthly Error: 29.2236.15  Period MAE: 28.139999999999997Period MAE:\n",
      " 35.19\n",
      "It's underpredicted.\n",
      "Monthly Error:"
     ]
    },
    {
     "name": "stderr",
     "output_type": "stream",
     "text": [
      "23:02:12 - cmdstanpy - INFO - Chain [1] start processing\n"
     ]
    },
    {
     "name": "stdout",
     "output_type": "stream",
     "text": [
      " 65.32 Period MAE: "
     ]
    },
    {
     "name": "stderr",
     "output_type": "stream",
     "text": [
      "23:02:12 - cmdstanpy - INFO - Chain [1] done processing\n"
     ]
    },
    {
     "name": "stdout",
     "output_type": "stream",
     "text": [
      "66.43\n"
     ]
    },
    {
     "name": "stderr",
     "output_type": "stream",
     "text": [
      "23:02:12 - cmdstanpy - INFO - Chain [1] start processing\n",
      "23:02:12 - cmdstanpy - INFO - Chain [1] done processing\n",
      "23:02:12 - cmdstanpy - INFO - Chain [1] start processing\n",
      "23:02:12 - cmdstanpy - INFO - Chain [1] done processing\n"
     ]
    },
    {
     "name": "stdout",
     "output_type": "stream",
     "text": [
      "It's underpredicted.\n",
      "Monthly Error: 63.14 Period MAE:It's underpredicted.\n",
      "Monthly Error:  64.2937.99\n",
      " Period MAE: 38.06\n",
      "It's underpredicted.\n",
      "Monthly Error: 36.73 Period MAE: 37.01\n"
     ]
    },
    {
     "name": "stderr",
     "output_type": "stream",
     "text": [
      "23:02:13 - cmdstanpy - INFO - Chain [1] start processing\n",
      "23:02:13 - cmdstanpy - INFO - Chain [1] start processing\n"
     ]
    },
    {
     "name": "stdout",
     "output_type": "stream",
     "text": [
      "It's underpredicted.\n",
      "Monthly Error:"
     ]
    },
    {
     "name": "stderr",
     "output_type": "stream",
     "text": [
      "23:02:13 - cmdstanpy - INFO - Chain [1] start processing\n"
     ]
    },
    {
     "name": "stdout",
     "output_type": "stream",
     "text": [
      " 36.73 Period MAE: "
     ]
    },
    {
     "name": "stderr",
     "output_type": "stream",
     "text": [
      "23:02:13 - cmdstanpy - INFO - Chain [1] done processing\n",
      "23:02:13 - cmdstanpy - INFO - Chain [1] done processing\n"
     ]
    },
    {
     "name": "stdout",
     "output_type": "stream",
     "text": [
      "37.01\n"
     ]
    },
    {
     "name": "stderr",
     "output_type": "stream",
     "text": [
      "23:02:14 - cmdstanpy - INFO - Chain [1] done processing\n",
      "23:02:14 - cmdstanpy - INFO - Chain [1] start processing\n",
      "23:02:14 - cmdstanpy - INFO - Chain [1] done processing\n"
     ]
    },
    {
     "name": "stdout",
     "output_type": "stream",
     "text": [
      "It's underpredicted.\n",
      "Monthly Error: 34.55 Period MAE: 31.6\n"
     ]
    },
    {
     "name": "stderr",
     "output_type": "stream",
     "text": [
      "23:02:14 - cmdstanpy - INFO - Chain [1] start processing\n"
     ]
    },
    {
     "name": "stdout",
     "output_type": "stream",
     "text": [
      "It's underpredicted.\n",
      "Monthly Error: "
     ]
    },
    {
     "name": "stderr",
     "output_type": "stream",
     "text": [
      "23:02:14 - cmdstanpy - INFO - Chain [1] done processing\n"
     ]
    },
    {
     "name": "stdout",
     "output_type": "stream",
     "text": [
      "36.48 Period MAE: 35.8\n"
     ]
    },
    {
     "name": "stderr",
     "output_type": "stream",
     "text": [
      "23:02:15 - cmdstanpy - INFO - Chain [1] start processing\n",
      "23:02:15 - cmdstanpy - INFO - Chain [1] done processing\n"
     ]
    },
    {
     "name": "stdout",
     "output_type": "stream",
     "text": [
      "It's underpredicted.\n",
      "It's underpredicted.Monthly Error:\n",
      "Monthly Error:  30.05 Period MAE:36.73  5.3100000000000005\n",
      "Period MAE: 37.01\n",
      "It's underpredicted.\n",
      "Monthly Error: 34.85 Period MAE: 32.11\n"
     ]
    },
    {
     "name": "stderr",
     "output_type": "stream",
     "text": [
      "23:02:15 - cmdstanpy - INFO - Chain [1] start processing\n",
      "23:02:16 - cmdstanpy - INFO - Chain [1] start processing\n",
      "23:02:16 - cmdstanpy - INFO - Chain [1] done processing\n",
      "23:02:16 - cmdstanpy - INFO - Chain [1] start processing\n",
      "23:02:16 - cmdstanpy - INFO - Chain [1] done processing\n",
      "23:02:16 - cmdstanpy - INFO - Chain [1] done processing\n"
     ]
    },
    {
     "name": "stdout",
     "output_type": "stream",
     "text": [
      "It's underpredicted.\n",
      "Monthly Error: 30.05 Period MAE: 5.3100000000000005It's underpredicted.\n",
      "\n",
      "Monthly Error: 36.61 Period MAE: "
     ]
    },
    {
     "name": "stderr",
     "output_type": "stream",
     "text": [
      "23:02:16 - cmdstanpy - INFO - Chain [1] start processing\n"
     ]
    },
    {
     "name": "stdout",
     "output_type": "stream",
     "text": [
      "35.99\n"
     ]
    },
    {
     "name": "stderr",
     "output_type": "stream",
     "text": [
      "23:02:16 - cmdstanpy - INFO - Chain [1] done processing\n",
      "23:02:17 - cmdstanpy - INFO - Chain [1] start processing\n",
      "23:02:17 - cmdstanpy - INFO - Chain [1] done processing\n"
     ]
    },
    {
     "name": "stdout",
     "output_type": "stream",
     "text": [
      "It's underpredicted.\n",
      "Monthly Error: 35.16 Period MAE: 32.36\n",
      "It's underpredicted.\n",
      "Monthly Error: 30.05 Period MAE:It's underpredicted.\n",
      " Monthly Error: 5.310000000000000536.73 Period MAE:\n",
      " 37.01"
     ]
    },
    {
     "name": "stderr",
     "output_type": "stream",
     "text": [
      "23:02:18 - cmdstanpy - INFO - Chain [1] start processing\n"
     ]
    },
    {
     "name": "stdout",
     "output_type": "stream",
     "text": [
      "\n"
     ]
    },
    {
     "name": "stderr",
     "output_type": "stream",
     "text": [
      "23:02:18 - cmdstanpy - INFO - Chain [1] done processing\n"
     ]
    },
    {
     "name": "stdout",
     "output_type": "stream",
     "text": [
      "It's underpredicted.\n",
      "Monthly Error: 37.16 Period MAE: 36.86\n"
     ]
    },
    {
     "name": "stderr",
     "output_type": "stream",
     "text": [
      "23:02:18 - cmdstanpy - INFO - Chain [1] start processing\n",
      "23:02:18 - cmdstanpy - INFO - Chain [1] start processing\n",
      "23:02:18 - cmdstanpy - INFO - Chain [1] start processing\n",
      "23:02:18 - cmdstanpy - INFO - Chain [1] done processing\n",
      "23:02:18 - cmdstanpy - INFO - Chain [1] done processing\n",
      "23:02:18 - cmdstanpy - INFO - Chain [1] done processing\n"
     ]
    },
    {
     "name": "stdout",
     "output_type": "stream",
     "text": [
      "It's underpredicted.\n",
      "Monthly Error: 40.16 Period MAE: 41.52\n"
     ]
    },
    {
     "name": "stderr",
     "output_type": "stream",
     "text": [
      "23:02:19 - cmdstanpy - INFO - Chain [1] start processing\n"
     ]
    },
    {
     "name": "stdout",
     "output_type": "stream",
     "text": [
      "It's underpredicted.\n"
     ]
    },
    {
     "name": "stderr",
     "output_type": "stream",
     "text": [
      "23:02:19 - cmdstanpy - INFO - Chain [1] done processing\n"
     ]
    },
    {
     "name": "stdout",
     "output_type": "stream",
     "text": [
      "Monthly Error: 36.73 "
     ]
    },
    {
     "name": "stderr",
     "output_type": "stream",
     "text": [
      "23:02:32 - cmdstanpy - INFO - Chain [1] done processing\n"
     ]
    },
    {
     "name": "stdout",
     "output_type": "stream",
     "text": [
      "It's underpredicted.\n",
      "Monthly Error: It's underpredicted.31.78\n",
      "Monthly Error:  Period MAE:22.56 Period MAE: 27.0 6.88\n",
      "\n"
     ]
    },
    {
     "name": "stderr",
     "output_type": "stream",
     "text": [
      "23:02:32 - cmdstanpy - INFO - Chain [1] start processing\n"
     ]
    },
    {
     "name": "stdout",
     "output_type": "stream",
     "text": [
      "It's overpredicted.\n",
      "Monthly Error: 49.02 "
     ]
    },
    {
     "name": "stderr",
     "output_type": "stream",
     "text": [
      "23:02:32 - cmdstanpy - INFO - Chain [1] start processing\n"
     ]
    },
    {
     "name": "stdout",
     "output_type": "stream",
     "text": [
      "Period MAE: "
     ]
    },
    {
     "name": "stderr",
     "output_type": "stream",
     "text": [
      "23:02:32 - cmdstanpy - INFO - Chain [1] done processing\n"
     ]
    },
    {
     "name": "stdout",
     "output_type": "stream",
     "text": [
      "44.529999999999994\n"
     ]
    },
    {
     "name": "stderr",
     "output_type": "stream",
     "text": [
      "23:02:32 - cmdstanpy - INFO - Chain [1] done processing\n"
     ]
    },
    {
     "name": "stdout",
     "output_type": "stream",
     "text": [
      "It's underpredicted.\n",
      "Monthly Error: 50.15 Period MAE: 51.05\n"
     ]
    },
    {
     "name": "stderr",
     "output_type": "stream",
     "text": [
      "23:02:33 - cmdstanpy - INFO - Chain [1] start processing\n"
     ]
    },
    {
     "name": "stdout",
     "output_type": "stream",
     "text": [
      "It's underpredicted.\n",
      "Monthly Error: 35.64"
     ]
    },
    {
     "name": "stderr",
     "output_type": "stream",
     "text": [
      "23:02:33 - cmdstanpy - INFO - Chain [1] start processing\n"
     ]
    },
    {
     "name": "stdout",
     "output_type": "stream",
     "text": [
      " Period MAE: "
     ]
    },
    {
     "name": "stderr",
     "output_type": "stream",
     "text": [
      "23:02:33 - cmdstanpy - INFO - Chain [1] done processing\n"
     ]
    },
    {
     "name": "stdout",
     "output_type": "stream",
     "text": [
      "33.32\n"
     ]
    },
    {
     "name": "stderr",
     "output_type": "stream",
     "text": [
      "23:02:33 - cmdstanpy - INFO - Chain [1] done processing\n",
      "23:02:33 - cmdstanpy - INFO - Chain [1] start processing\n",
      "23:02:34 - cmdstanpy - INFO - Chain [1] done processing\n"
     ]
    },
    {
     "name": "stdout",
     "output_type": "stream",
     "text": [
      "It's underpredicted.\n",
      "Monthly Error: 48.8 Period MAE: 49.72\n"
     ]
    },
    {
     "name": "stderr",
     "output_type": "stream",
     "text": [
      "23:02:34 - cmdstanpy - INFO - Chain [1] start processing\n",
      "23:02:34 - cmdstanpy - INFO - Chain [1] done processing\n"
     ]
    },
    {
     "name": "stdout",
     "output_type": "stream",
     "text": [
      "It's underpredicted.\n",
      "Monthly Error: It's underpredicted.27.84\n",
      " Period MAE: Monthly Error:25.61 \n",
      "30.0 Period MAE: 22.82\n"
     ]
    },
    {
     "name": "stderr",
     "output_type": "stream",
     "text": [
      "23:02:35 - cmdstanpy - INFO - Chain [1] start processing\n",
      "23:02:35 - cmdstanpy - INFO - Chain [1] start processing\n",
      "23:02:35 - cmdstanpy - INFO - Chain [1] done processing\n",
      "23:02:35 - cmdstanpy - INFO - Chain [1] done processing\n"
     ]
    },
    {
     "name": "stdout",
     "output_type": "stream",
     "text": [
      "It's underpredicted.\n",
      "It's underpredicted.Monthly Error:\n",
      "Monthly Error:  66.3740.02  It's underpredicted.Period MAE:Period MAE:\n",
      "  Monthly Error:41.34999999999999467.44 \n",
      "30.38\n",
      " Period MAE: 29.34\n"
     ]
    },
    {
     "name": "stderr",
     "output_type": "stream",
     "text": [
      "23:02:36 - cmdstanpy - INFO - Chain [1] start processing\n",
      "23:02:36 - cmdstanpy - INFO - Chain [1] start processing\n",
      "23:02:36 - cmdstanpy - INFO - Chain [1] done processing\n",
      "23:02:36 - cmdstanpy - INFO - Chain [1] start processing\n"
     ]
    },
    {
     "name": "stdout",
     "output_type": "stream",
     "text": [
      "It's underpredicted.\n",
      "Monthly Error: 66.32 Period MAE: "
     ]
    },
    {
     "name": "stderr",
     "output_type": "stream",
     "text": [
      "23:02:36 - cmdstanpy - INFO - Chain [1] done processing\n"
     ]
    },
    {
     "name": "stdout",
     "output_type": "stream",
     "text": [
      "67.39\n"
     ]
    },
    {
     "name": "stderr",
     "output_type": "stream",
     "text": [
      "23:02:36 - cmdstanpy - INFO - Chain [1] done processing\n",
      "23:02:36 - cmdstanpy - INFO - Chain [1] start processing\n"
     ]
    },
    {
     "name": "stdout",
     "output_type": "stream",
     "text": [
      "It's underpredicted.\n",
      "Monthly Error: 27.49 Period MAE: 24.959999999999997"
     ]
    },
    {
     "name": "stderr",
     "output_type": "stream",
     "text": [
      "23:02:36 - cmdstanpy - INFO - Chain [1] done processing\n"
     ]
    },
    {
     "name": "stdout",
     "output_type": "stream",
     "text": [
      "\n"
     ]
    },
    {
     "name": "stderr",
     "output_type": "stream",
     "text": [
      "23:02:37 - cmdstanpy - INFO - Chain [1] start processing\n",
      "23:02:37 - cmdstanpy - INFO - Chain [1] done processing\n"
     ]
    },
    {
     "name": "stdout",
     "output_type": "stream",
     "text": [
      "It's underpredicted.\n",
      "Monthly Error: 26.41 Period MAE: 22.82\n",
      "It's underpredicted.\n",
      "Monthly Error: 37.33It's underpredicted. Period MAE: \n",
      "Monthly Error:32.45"
     ]
    },
    {
     "name": "stderr",
     "output_type": "stream",
     "text": [
      "23:02:38 - cmdstanpy - INFO - Chain [1] start processing\n"
     ]
    },
    {
     "name": "stdout",
     "output_type": "stream",
     "text": [
      " \n",
      "30.18 Period MAE: 28.910000000000004\n"
     ]
    },
    {
     "name": "stderr",
     "output_type": "stream",
     "text": [
      "23:02:38 - cmdstanpy - INFO - Chain [1] done processing\n"
     ]
    },
    {
     "name": "stdout",
     "output_type": "stream",
     "text": [
      "It's overpredicted.\n",
      "Monthly Error: 44.51 Period MAE: 39.43\n"
     ]
    },
    {
     "name": "stderr",
     "output_type": "stream",
     "text": [
      "23:02:38 - cmdstanpy - INFO - Chain [1] start processing\n",
      "23:02:38 - cmdstanpy - INFO - Chain [1] start processing\n",
      "23:02:38 - cmdstanpy - INFO - Chain [1] start processing\n",
      "23:02:38 - cmdstanpy - INFO - Chain [1] done processing\n",
      "23:02:38 - cmdstanpy - INFO - Chain [1] done processing\n",
      "23:02:38 - cmdstanpy - INFO - Chain [1] done processing\n"
     ]
    },
    {
     "name": "stdout",
     "output_type": "stream",
     "text": [
      "It's underpredicted.\n",
      "Monthly Error: 34.59 Period MAE: 34.300000000000004\n",
      "It's overpredicted.It's underpredicted.\n"
     ]
    },
    {
     "name": "stderr",
     "output_type": "stream",
     "text": [
      "23:02:39 - cmdstanpy - INFO - Chain [1] start processing\n"
     ]
    },
    {
     "name": "stdout",
     "output_type": "stream",
     "text": [
      "Monthly Error:\n",
      "Monthly Error:  39.8526.28  Period MAE: 33.07\n",
      "Period MAE:"
     ]
    },
    {
     "name": "stderr",
     "output_type": "stream",
     "text": [
      "23:02:39 - cmdstanpy - INFO - Chain [1] done processing\n"
     ]
    },
    {
     "name": "stdout",
     "output_type": "stream",
     "text": [
      " 22.57\n"
     ]
    },
    {
     "name": "stderr",
     "output_type": "stream",
     "text": [
      "23:02:40 - cmdstanpy - INFO - Chain [1] start processing\n",
      "23:02:40 - cmdstanpy - INFO - Chain [1] start processing\n",
      "23:02:40 - cmdstanpy - INFO - Chain [1] done processing\n"
     ]
    },
    {
     "name": "stdout",
     "output_type": "stream",
     "text": [
      "It's overpredicted."
     ]
    },
    {
     "name": "stderr",
     "output_type": "stream",
     "text": [
      "23:02:40 - cmdstanpy - INFO - Chain [1] done processing\n"
     ]
    },
    {
     "name": "stdout",
     "output_type": "stream",
     "text": [
      "\n",
      "Monthly Error: 40.51 Period MAE: 33.15\n",
      "It's underpredicted."
     ]
    },
    {
     "name": "stderr",
     "output_type": "stream",
     "text": [
      "23:02:41 - cmdstanpy - INFO - Chain [1] start processing\n"
     ]
    },
    {
     "name": "stdout",
     "output_type": "stream",
     "text": [
      "\n",
      "Monthly Error: 39.98 Period MAE: 40.57\n",
      "It's underpredicted.\n",
      "Monthly Error: 66.37 Period MAE: "
     ]
    },
    {
     "name": "stderr",
     "output_type": "stream",
     "text": [
      "23:02:41 - cmdstanpy - INFO - Chain [1] done processing\n"
     ]
    },
    {
     "name": "stdout",
     "output_type": "stream",
     "text": [
      "67.44\n"
     ]
    },
    {
     "name": "stderr",
     "output_type": "stream",
     "text": [
      "23:02:41 - cmdstanpy - INFO - Chain [1] start processing\n",
      "23:02:41 - cmdstanpy - INFO - Chain [1] start processing\n",
      "23:02:41 - cmdstanpy - INFO - Chain [1] done processing\n"
     ]
    },
    {
     "name": "stdout",
     "output_type": "stream",
     "text": [
      "It's underpredicted.\n",
      "Monthly Error:"
     ]
    },
    {
     "name": "stderr",
     "output_type": "stream",
     "text": [
      "23:02:41 - cmdstanpy - INFO - Chain [1] done processing\n"
     ]
    },
    {
     "name": "stdout",
     "output_type": "stream",
     "text": [
      " 66.34 Period MAE: 67.41\n",
      "It's underpredicted.\n",
      "Monthly Error:"
     ]
    },
    {
     "name": "stderr",
     "output_type": "stream",
     "text": [
      "23:02:42 - cmdstanpy - INFO - Chain [1] start processing\n"
     ]
    },
    {
     "name": "stdout",
     "output_type": "stream",
     "text": [
      " 35.51 Period MAE: "
     ]
    },
    {
     "name": "stderr",
     "output_type": "stream",
     "text": [
      "23:02:42 - cmdstanpy - INFO - Chain [1] done processing\n"
     ]
    },
    {
     "name": "stdout",
     "output_type": "stream",
     "text": [
      "33.62It's underpredicted.\n",
      "\n",
      "Monthly Error: 33.56 Period MAE: 31.59\n"
     ]
    },
    {
     "name": "stderr",
     "output_type": "stream",
     "text": [
      "23:02:42 - cmdstanpy - INFO - Chain [1] start processing\n",
      "23:02:42 - cmdstanpy - INFO - Chain [1] start processing\n",
      "23:02:42 - cmdstanpy - INFO - Chain [1] done processing\n",
      "23:02:42 - cmdstanpy - INFO - Chain [1] done processing\n"
     ]
    },
    {
     "name": "stdout",
     "output_type": "stream",
     "text": [
      "It's underpredicted.\n",
      "It's underpredicted.Monthly Error:It's underpredicted.\n",
      " \n",
      "Monthly Error:Monthly Error:45.15  40.5735.87   Period MAE:Period MAE:  41.5Period MAE: 36.1646.56\n",
      "\n",
      "\n"
     ]
    },
    {
     "name": "stderr",
     "output_type": "stream",
     "text": [
      "23:02:43 - cmdstanpy - INFO - Chain [1] start processing\n",
      "23:02:43 - cmdstanpy - INFO - Chain [1] start processing\n",
      "23:02:43 - cmdstanpy - INFO - Chain [1] done processing\n"
     ]
    },
    {
     "name": "stdout",
     "output_type": "stream",
     "text": [
      "It's underpredicted.\n",
      "Monthly Error: 35.87 Period MAE: 36.15\n"
     ]
    },
    {
     "name": "stderr",
     "output_type": "stream",
     "text": [
      "23:02:43 - cmdstanpy - INFO - Chain [1] start processing\n",
      "23:02:44 - cmdstanpy - INFO - Chain [1] done processing\n",
      "23:02:44 - cmdstanpy - INFO - Chain [1] start processing\n",
      "23:02:44 - cmdstanpy - INFO - Chain [1] done processing\n",
      "23:02:44 - cmdstanpy - INFO - Chain [1] done processing\n"
     ]
    },
    {
     "name": "stdout",
     "output_type": "stream",
     "text": [
      "It's underpredicted.\n",
      "Monthly Error: 29.65 Period MAE: 26.340000000000003\n"
     ]
    },
    {
     "name": "stderr",
     "output_type": "stream",
     "text": [
      "23:02:45 - cmdstanpy - INFO - Chain [1] start processing\n"
     ]
    },
    {
     "name": "stdout",
     "output_type": "stream",
     "text": [
      "It's underpredicted.\n",
      "Monthly Error: 34.58 Period MAE:"
     ]
    },
    {
     "name": "stderr",
     "output_type": "stream",
     "text": [
      "23:02:45 - cmdstanpy - INFO - Chain [1] done processing\n"
     ]
    },
    {
     "name": "stdout",
     "output_type": "stream",
     "text": [
      " 31.52\n",
      "It's overpredicted.\n",
      "Monthly Error: 30.63 Period MAE: 0.8\n",
      "It's underpredicted.\n",
      "Monthly Error: 35.86 Period MAE: 36.15\n"
     ]
    },
    {
     "name": "stderr",
     "output_type": "stream",
     "text": [
      "23:02:46 - cmdstanpy - INFO - Chain [1] start processing\n",
      "23:02:46 - cmdstanpy - INFO - Chain [1] done processing\n"
     ]
    },
    {
     "name": "stdout",
     "output_type": "stream",
     "text": [
      "It's underpredicted.\n",
      "Monthly Error: "
     ]
    },
    {
     "name": "stderr",
     "output_type": "stream",
     "text": [
      "23:02:46 - cmdstanpy - INFO - Chain [1] start processing\n"
     ]
    },
    {
     "name": "stdout",
     "output_type": "stream",
     "text": [
      "40.12 Period MAE: 41.49\n"
     ]
    },
    {
     "name": "stderr",
     "output_type": "stream",
     "text": [
      "23:02:46 - cmdstanpy - INFO - Chain [1] start processing\n",
      "23:02:46 - cmdstanpy - INFO - Chain [1] start processing\n",
      "23:02:46 - cmdstanpy - INFO - Chain [1] done processing\n",
      "23:02:46 - cmdstanpy - INFO - Chain [1] done processing\n",
      "23:02:46 - cmdstanpy - INFO - Chain [1] done processing\n"
     ]
    },
    {
     "name": "stdout",
     "output_type": "stream",
     "text": [
      "It's underpredicted.\n",
      "Monthly Error: 33.46 Period MAE: 30.630000000000003\n"
     ]
    },
    {
     "name": "stderr",
     "output_type": "stream",
     "text": [
      "23:02:47 - cmdstanpy - INFO - Chain [1] start processing\n"
     ]
    },
    {
     "name": "stdout",
     "output_type": "stream",
     "text": [
      "It's underpredicted.\n"
     ]
    },
    {
     "name": "stderr",
     "output_type": "stream",
     "text": [
      "23:02:47 - cmdstanpy - INFO - Chain [1] done processing\n"
     ]
    },
    {
     "name": "stdout",
     "output_type": "stream",
     "text": [
      "Monthly Error: 28.37 Period MAE: 24.11\n",
      "It's overpredicted.\n",
      "Monthly Error: 30.63 Period MAE: 0.8\n"
     ]
    },
    {
     "name": "stderr",
     "output_type": "stream",
     "text": [
      "23:02:48 - cmdstanpy - INFO - Chain [1] start processing\n"
     ]
    },
    {
     "name": "stdout",
     "output_type": "stream",
     "text": [
      "It's overpredicted.\n"
     ]
    },
    {
     "name": "stderr",
     "output_type": "stream",
     "text": [
      "23:02:48 - cmdstanpy - INFO - Chain [1] done processing\n"
     ]
    },
    {
     "name": "stdout",
     "output_type": "stream",
     "text": [
      "Monthly Error: 30.63 Period MAE: 0.8099999999999999\n"
     ]
    },
    {
     "name": "stderr",
     "output_type": "stream",
     "text": [
      "23:02:48 - cmdstanpy - INFO - Chain [1] start processing\n",
      "23:02:48 - cmdstanpy - INFO - Chain [1] done processing\n"
     ]
    },
    {
     "name": "stdout",
     "output_type": "stream",
     "text": [
      "It's underpredicted.\n",
      "Monthly Error: 35.88 Period MAE: 36.17"
     ]
    },
    {
     "name": "stderr",
     "output_type": "stream",
     "text": [
      "23:02:48 - cmdstanpy - INFO - Chain [1] start processing\n"
     ]
    },
    {
     "name": "stdout",
     "output_type": "stream",
     "text": [
      "\n",
      "It's underpredicted.\n",
      "Monthly Error: 40.36 Period MAE: 41.29\n"
     ]
    },
    {
     "name": "stderr",
     "output_type": "stream",
     "text": [
      "23:02:49 - cmdstanpy - INFO - Chain [1] done processing\n",
      "23:02:49 - cmdstanpy - INFO - Chain [1] start processing\n",
      "23:02:49 - cmdstanpy - INFO - Chain [1] done processing\n",
      "23:02:49 - cmdstanpy - INFO - Chain [1] start processing\n",
      "23:02:49 - cmdstanpy - INFO - Chain [1] done processing\n"
     ]
    },
    {
     "name": "stdout",
     "output_type": "stream",
     "text": [
      "It's underpredicted.\n",
      "Monthly Error: 38.54 Period MAE: 23.669999999999998\n",
      "It's underpredicted.\n",
      "Monthly Error: 41.05 Period MAE: 42.36\n"
     ]
    },
    {
     "name": "stderr",
     "output_type": "stream",
     "text": [
      "23:03:07 - cmdstanpy - INFO - Chain [1] start processing\n",
      "23:03:07 - cmdstanpy - INFO - Chain [1] done processing\n"
     ]
    },
    {
     "name": "stdout",
     "output_type": "stream",
     "text": [
      "It's underpredicted.\n",
      "Monthly Error: 30.13 Period MAE:It's underpredicted.\n",
      " 28.910000000000004\n",
      "Monthly Error: 66.38 Period MAE: 67.45\n"
     ]
    },
    {
     "name": "stderr",
     "output_type": "stream",
     "text": [
      "23:03:07 - cmdstanpy - INFO - Chain [1] start processing\n",
      "23:03:07 - cmdstanpy - INFO - Chain [1] start processing\n",
      "23:03:07 - cmdstanpy - INFO - Chain [1] done processing\n",
      "23:03:07 - cmdstanpy - INFO - Chain [1] done processing\n",
      "23:03:07 - cmdstanpy - INFO - Chain [1] start processing\n",
      "23:03:07 - cmdstanpy - INFO - Chain [1] done processing\n"
     ]
    },
    {
     "name": "stdout",
     "output_type": "stream",
     "text": [
      "It's underpredicted.\n",
      "Monthly Error: It's underpredicted.66.32 \n",
      "Period MAE:Monthly Error: 67.39 \n",
      "27.05 Period MAE: 24.25\n"
     ]
    },
    {
     "name": "stderr",
     "output_type": "stream",
     "text": [
      "23:03:08 - cmdstanpy - INFO - Chain [1] start processing\n"
     ]
    },
    {
     "name": "stdout",
     "output_type": "stream",
     "text": [
      "It's underpredicted.\n"
     ]
    },
    {
     "name": "stderr",
     "output_type": "stream",
     "text": [
      "23:03:08 - cmdstanpy - INFO - Chain [1] done processing\n"
     ]
    },
    {
     "name": "stdout",
     "output_type": "stream",
     "text": [
      "Monthly Error: 26.08"
     ]
    },
    {
     "name": "stderr",
     "output_type": "stream",
     "text": [
      "23:03:08 - cmdstanpy - INFO - Chain [1] start processing\n"
     ]
    },
    {
     "name": "stdout",
     "output_type": "stream",
     "text": [
      " Period MAE: 22.29\n"
     ]
    },
    {
     "name": "stderr",
     "output_type": "stream",
     "text": [
      "23:03:08 - cmdstanpy - INFO - Chain [1] done processing\n",
      "23:03:09 - cmdstanpy - INFO - Chain [1] start processing\n",
      "23:03:09 - cmdstanpy - INFO - Chain [1] done processing\n"
     ]
    },
    {
     "name": "stdout",
     "output_type": "stream",
     "text": [
      "It's underpredicted.\n",
      "Monthly Error: 29.34 Period MAE: 27.529999999999998\n",
      "It's underpredicted.\n",
      "Monthly Error: 47.68 Period MAE: 49.05\n",
      "It's overpredicted.\n",
      "Monthly Error: 44.11 Period MAE: 38.75\n"
     ]
    },
    {
     "name": "stderr",
     "output_type": "stream",
     "text": [
      "23:03:09 - cmdstanpy - INFO - Chain [1] start processing\n",
      "23:03:10 - cmdstanpy - INFO - Chain [1] start processing\n",
      "23:03:10 - cmdstanpy - INFO - Chain [1] done processing\n",
      "23:03:10 - cmdstanpy - INFO - Chain [1] done processing\n",
      "23:03:10 - cmdstanpy - INFO - Chain [1] start processing\n"
     ]
    },
    {
     "name": "stdout",
     "output_type": "stream",
     "text": [
      "It's overpredicted.\n",
      "Monthly Error: "
     ]
    },
    {
     "name": "stderr",
     "output_type": "stream",
     "text": [
      "23:03:10 - cmdstanpy - INFO - Chain [1] done processing\n"
     ]
    },
    {
     "name": "stdout",
     "output_type": "stream",
     "text": [
      "39.87 Period MAE: 33.01\n"
     ]
    },
    {
     "name": "stderr",
     "output_type": "stream",
     "text": [
      "23:03:10 - cmdstanpy - INFO - Chain [1] start processing\n",
      "23:03:10 - cmdstanpy - INFO - Chain [1] done processing\n"
     ]
    },
    {
     "name": "stdout",
     "output_type": "stream",
     "text": [
      "It's underpredicted.\n",
      "Monthly Error: 34.26 Period MAE: 33.81\n",
      "It's underpredicted.\n",
      "Monthly Error: 25.85 Period MAE: 21.8\n"
     ]
    },
    {
     "name": "stderr",
     "output_type": "stream",
     "text": [
      "23:03:11 - cmdstanpy - INFO - Chain [1] start processing\n",
      "23:03:11 - cmdstanpy - INFO - Chain [1] done processing\n",
      "23:03:11 - cmdstanpy - INFO - Chain [1] start processing\n",
      "23:03:11 - cmdstanpy - INFO - Chain [1] done processing\n"
     ]
    },
    {
     "name": "stdout",
     "output_type": "stream",
     "text": [
      "It's underpredicted.\n",
      "Monthly Error: 66.37 Period MAE: 67.44\n",
      "It's overpredicted.\n",
      "Monthly Error: 43.89 Period MAE: 38.31\n",
      "It's underpredicted.\n",
      "Monthly Error: 41.3 Period MAE: 42.26\n"
     ]
    },
    {
     "name": "stderr",
     "output_type": "stream",
     "text": [
      "23:03:12 - cmdstanpy - INFO - Chain [1] start processing\n",
      "23:03:12 - cmdstanpy - INFO - Chain [1] start processing\n",
      "23:03:12 - cmdstanpy - INFO - Chain [1] start processing\n",
      "23:03:12 - cmdstanpy - INFO - Chain [1] done processing\n",
      "23:03:12 - cmdstanpy - INFO - Chain [1] done processing\n",
      "23:03:12 - cmdstanpy - INFO - Chain [1] done processing\n"
     ]
    },
    {
     "name": "stdout",
     "output_type": "stream",
     "text": [
      "It's underpredicted.\n",
      "Monthly Error: 66.35 Period MAE: 67.42\n",
      "It's underpredicted.\n",
      "Monthly Error: 35.06 Period MAE: 32.84\n"
     ]
    },
    {
     "name": "stderr",
     "output_type": "stream",
     "text": [
      "23:03:13 - cmdstanpy - INFO - Chain [1] start processing\n",
      "23:03:13 - cmdstanpy - INFO - Chain [1] done processing\n",
      "23:03:13 - cmdstanpy - INFO - Chain [1] start processing\n"
     ]
    },
    {
     "name": "stdout",
     "output_type": "stream",
     "text": [
      "It's underpredicted.\n",
      "Monthly Error: 33.69 Period MAE: "
     ]
    },
    {
     "name": "stderr",
     "output_type": "stream",
     "text": [
      "23:03:13 - cmdstanpy - INFO - Chain [1] done processing\n"
     ]
    },
    {
     "name": "stdout",
     "output_type": "stream",
     "text": [
      "31.66\n"
     ]
    },
    {
     "name": "stderr",
     "output_type": "stream",
     "text": [
      "23:03:14 - cmdstanpy - INFO - Chain [1] start processing\n",
      "23:03:14 - cmdstanpy - INFO - Chain [1] done processing\n"
     ]
    },
    {
     "name": "stdout",
     "output_type": "stream",
     "text": [
      "It's underpredicted.It's underpredicted.\n",
      "\n",
      "Monthly Error: 41.56 Period MAE: Monthly Error:42.620000000000005\n",
      " 48.1 Period MAE: 49.45\n",
      "It's underpredicted.\n",
      "Monthly Error: 35.85 Period MAE: "
     ]
    },
    {
     "name": "stderr",
     "output_type": "stream",
     "text": [
      "23:03:14 - cmdstanpy - INFO - Chain [1] start processing\n"
     ]
    },
    {
     "name": "stdout",
     "output_type": "stream",
     "text": [
      "36.14\n"
     ]
    },
    {
     "name": "stderr",
     "output_type": "stream",
     "text": [
      "23:03:14 - cmdstanpy - INFO - Chain [1] start processing\n",
      "23:03:15 - cmdstanpy - INFO - Chain [1] start processing\n",
      "23:03:15 - cmdstanpy - INFO - Chain [1] done processing\n",
      "23:03:15 - cmdstanpy - INFO - Chain [1] done processing\n",
      "23:03:15 - cmdstanpy - INFO - Chain [1] done processing\n"
     ]
    },
    {
     "name": "stdout",
     "output_type": "stream",
     "text": [
      "It's underpredicted.\n",
      "Monthly Error: 35.85 Period MAE: 36.14\n",
      "It's underpredicted.\n",
      "Monthly Error: 28.73 Period MAE:"
     ]
    },
    {
     "name": "stderr",
     "output_type": "stream",
     "text": [
      "23:03:15 - cmdstanpy - INFO - Chain [1] start processing\n"
     ]
    },
    {
     "name": "stdout",
     "output_type": "stream",
     "text": [
      " 24.87\n"
     ]
    },
    {
     "name": "stderr",
     "output_type": "stream",
     "text": [
      "23:03:15 - cmdstanpy - INFO - Chain [1] done processing\n",
      "23:03:16 - cmdstanpy - INFO - Chain [1] start processing\n"
     ]
    },
    {
     "name": "stdout",
     "output_type": "stream",
     "text": [
      "It's underpredicted.\n",
      "Monthly Error: 34.41 Period MAE: 31.119999999999997\n"
     ]
    },
    {
     "name": "stderr",
     "output_type": "stream",
     "text": [
      "23:03:16 - cmdstanpy - INFO - Chain [1] done processing\n"
     ]
    },
    {
     "name": "stdout",
     "output_type": "stream",
     "text": [
      "It's underpredicted.\n",
      "Monthly Error: 35.85 Period MAE: 36.14\n"
     ]
    },
    {
     "name": "stderr",
     "output_type": "stream",
     "text": [
      "23:03:16 - cmdstanpy - INFO - Chain [1] start processing\n",
      "23:03:16 - cmdstanpy - INFO - Chain [1] done processing\n"
     ]
    },
    {
     "name": "stdout",
     "output_type": "stream",
     "text": [
      "It's overpredicted.\n",
      "Monthly Error: 30.77 Period MAE: 1.8599999999999999\n",
      "It's underpredicted.\n",
      "Monthly Error: 37.73 Period MAE: 38.72\n"
     ]
    },
    {
     "name": "stderr",
     "output_type": "stream",
     "text": [
      "23:03:17 - cmdstanpy - INFO - Chain [1] start processing\n",
      "23:03:17 - cmdstanpy - INFO - Chain [1] start processing\n",
      "23:03:17 - cmdstanpy - INFO - Chain [1] done processing\n",
      "23:03:17 - cmdstanpy - INFO - Chain [1] start processing\n",
      "23:03:17 - cmdstanpy - INFO - Chain [1] done processing\n",
      "23:03:17 - cmdstanpy - INFO - Chain [1] done processing\n"
     ]
    },
    {
     "name": "stdout",
     "output_type": "stream",
     "text": [
      "It's underpredicted.\n",
      "Monthly Error: 33.59 Period MAE: 30.84\n",
      "It's overpredicted.\n",
      "Monthly Error: 30.77 Period MAE: "
     ]
    },
    {
     "name": "stderr",
     "output_type": "stream",
     "text": [
      "23:03:18 - cmdstanpy - INFO - Chain [1] start processing\n"
     ]
    },
    {
     "name": "stdout",
     "output_type": "stream",
     "text": [
      "1.8599999999999999\n"
     ]
    },
    {
     "name": "stderr",
     "output_type": "stream",
     "text": [
      "23:03:18 - cmdstanpy - INFO - Chain [1] done processing\n"
     ]
    },
    {
     "name": "stdout",
     "output_type": "stream",
     "text": [
      "It's underpredicted.\n",
      "Monthly Error: 30.2 Period MAE: 26.77\n"
     ]
    },
    {
     "name": "stderr",
     "output_type": "stream",
     "text": [
      "23:03:18 - cmdstanpy - INFO - Chain [1] start processing\n",
      "23:03:18 - cmdstanpy - INFO - Chain [1] done processing\n",
      "23:03:18 - cmdstanpy - INFO - Chain [1] start processing\n",
      "23:03:19 - cmdstanpy - INFO - Chain [1] done processing\n"
     ]
    },
    {
     "name": "stdout",
     "output_type": "stream",
     "text": [
      "It's underpredicted.\n",
      "Monthly Error: 35.85 Period MAE:It's overpredicted. \n",
      "36.14Monthly Error:\n",
      " 30.77 Period MAE: 1.8599999999999999\n",
      "It's underpredicted.\n",
      "Monthly Error: 39.66 Period MAE: 40.5\n"
     ]
    },
    {
     "name": "stderr",
     "output_type": "stream",
     "text": [
      "23:03:19 - cmdstanpy - INFO - Chain [1] start processing\n",
      "23:03:19 - cmdstanpy - INFO - Chain [1] start processing\n",
      "23:03:19 - cmdstanpy - INFO - Chain [1] done processing\n",
      "23:03:19 - cmdstanpy - INFO - Chain [1] start processing\n",
      "23:03:19 - cmdstanpy - INFO - Chain [1] done processing\n"
     ]
    },
    {
     "name": "stdout",
     "output_type": "stream",
     "text": [
      "It's underpredicted.\n",
      "Monthly Error: 35.85 Period MAE: 36.14\n"
     ]
    },
    {
     "name": "stderr",
     "output_type": "stream",
     "text": [
      "23:03:20 - cmdstanpy - INFO - Chain [1] done processing\n"
     ]
    },
    {
     "name": "stdout",
     "output_type": "stream",
     "text": [
      "It's underpredicted.\n",
      "Monthly Error: 37.8 "
     ]
    },
    {
     "name": "stderr",
     "output_type": "stream",
     "text": [
      "23:03:20 - cmdstanpy - INFO - Chain [1] start processing\n"
     ]
    },
    {
     "name": "stdout",
     "output_type": "stream",
     "text": [
      "Period MAE: 38.73\n"
     ]
    },
    {
     "name": "stderr",
     "output_type": "stream",
     "text": [
      "23:03:20 - cmdstanpy - INFO - Chain [1] done processing\n",
      "23:03:20 - cmdstanpy - INFO - Chain [1] start processing\n",
      "23:03:21 - cmdstanpy - INFO - Chain [1] done processing\n"
     ]
    },
    {
     "name": "stdout",
     "output_type": "stream",
     "text": [
      "It's underpredicted.\n",
      "Monthly Error: 32.16 Period MAE: 28.02\n",
      "It's underpredicted.\n",
      "Monthly Error: 35.85 Period MAE: 36.14\n",
      "It's underpredicted.\n",
      "Monthly Error: 94.54 Period MAE: 94.65\n",
      "It's underpredicted."
     ]
    },
    {
     "name": "stderr",
     "output_type": "stream",
     "text": [
      "23:03:21 - cmdstanpy - INFO - Chain [1] start processing\n"
     ]
    },
    {
     "name": "stdout",
     "output_type": "stream",
     "text": [
      "\n",
      "Monthly Error: 45.22 Period MAE:"
     ]
    },
    {
     "name": "stderr",
     "output_type": "stream",
     "text": [
      "23:03:21 - cmdstanpy - INFO - Chain [1] done processing\n"
     ]
    },
    {
     "name": "stdout",
     "output_type": "stream",
     "text": [
      " 46.97\n"
     ]
    },
    {
     "name": "stderr",
     "output_type": "stream",
     "text": [
      "23:03:22 - cmdstanpy - INFO - Chain [1] start processing\n",
      "23:03:22 - cmdstanpy - INFO - Chain [1] start processing\n",
      "23:03:22 - cmdstanpy - INFO - Chain [1] start processing\n",
      "23:03:22 - cmdstanpy - INFO - Chain [1] done processing\n",
      "23:03:22 - cmdstanpy - INFO - Chain [1] done processing\n",
      "23:03:22 - cmdstanpy - INFO - Chain [1] done processing\n"
     ]
    },
    {
     "name": "stdout",
     "output_type": "stream",
     "text": [
      "It's underpredicted.\n",
      "Monthly Error: 33.68It's underpredicted. \n",
      "Period MAE:Monthly Error:  36.9334.73 \n",
      "Period MAE: 37.16\n"
     ]
    },
    {
     "name": "stderr",
     "output_type": "stream",
     "text": [
      "23:03:23 - cmdstanpy - INFO - Chain [1] start processing\n"
     ]
    },
    {
     "name": "stdout",
     "output_type": "stream",
     "text": [
      "It's underpredicted.\n",
      "Monthly Error: 94.54 "
     ]
    },
    {
     "name": "stderr",
     "output_type": "stream",
     "text": [
      "23:03:36 - cmdstanpy - INFO - Chain [1] start processing\n",
      "23:03:36 - cmdstanpy - INFO - Chain [1] done processing\n",
      "23:03:36 - cmdstanpy - INFO - Chain [1] done processing\n"
     ]
    },
    {
     "name": "stdout",
     "output_type": "stream",
     "text": [
      "It's underpredicted.\n",
      "Monthly Error:It's underpredicted. 29.32 \n",
      "Period MAE: Monthly Error: 27.750000000000004\n",
      "66.4 Period MAE: It's underpredicted.67.47\n",
      "\n",
      "Monthly Error: 49.49 Period MAE: 50.470000000000006\n",
      "It's underpredicted.\n",
      "Monthly Error: 66.36 Period MAE: 67.43"
     ]
    },
    {
     "name": "stderr",
     "output_type": "stream",
     "text": [
      "23:03:37 - cmdstanpy - INFO - Chain [1] start processing\n"
     ]
    },
    {
     "name": "stdout",
     "output_type": "stream",
     "text": [
      "\n"
     ]
    },
    {
     "name": "stderr",
     "output_type": "stream",
     "text": [
      "23:03:37 - cmdstanpy - INFO - Chain [1] start processing\n",
      "23:03:37 - cmdstanpy - INFO - Chain [1] done processing\n",
      "23:03:37 - cmdstanpy - INFO - Chain [1] start processing\n",
      "23:03:37 - cmdstanpy - INFO - Chain [1] start processing\n",
      "23:03:37 - cmdstanpy - INFO - Chain [1] done processing\n",
      "23:03:37 - cmdstanpy - INFO - Chain [1] done processing\n",
      "23:03:37 - cmdstanpy - INFO - Chain [1] done processing\n"
     ]
    },
    {
     "name": "stdout",
     "output_type": "stream",
     "text": [
      "It's underpredicted.\n",
      "Monthly Error: 27.53 Period MAE: 25.130000000000003\n",
      "It's underpredicted.\n",
      "Monthly Error: 27.05 Period MAE: 24.85\n"
     ]
    },
    {
     "name": "stderr",
     "output_type": "stream",
     "text": [
      "23:03:38 - cmdstanpy - INFO - Chain [1] start processing\n",
      "23:03:38 - cmdstanpy - INFO - Chain [1] start processing\n",
      "23:03:38 - cmdstanpy - INFO - Chain [1] done processing\n"
     ]
    },
    {
     "name": "stdout",
     "output_type": "stream",
     "text": [
      "It's underpredicted.\n",
      "Monthly Error: 64.35 "
     ]
    },
    {
     "name": "stderr",
     "output_type": "stream",
     "text": [
      "23:03:38 - cmdstanpy - INFO - Chain [1] done processing\n"
     ]
    },
    {
     "name": "stdout",
     "output_type": "stream",
     "text": [
      "Period MAE: 65.45\n",
      "It's overpredicted.\n",
      "Monthly Error: 35.25 Period MAE: 25.97\n"
     ]
    },
    {
     "name": "stderr",
     "output_type": "stream",
     "text": [
      "23:03:39 - cmdstanpy - INFO - Chain [1] start processing\n"
     ]
    },
    {
     "name": "stdout",
     "output_type": "stream",
     "text": [
      "It's underpredicted.\n",
      "Monthly Error:"
     ]
    },
    {
     "name": "stderr",
     "output_type": "stream",
     "text": [
      "23:03:39 - cmdstanpy - INFO - Chain [1] done processing\n"
     ]
    },
    {
     "name": "stdout",
     "output_type": "stream",
     "text": [
      " 29.25 Period MAE: 27.52\n"
     ]
    },
    {
     "name": "stderr",
     "output_type": "stream",
     "text": [
      "23:03:39 - cmdstanpy - INFO - Chain [1] start processing\n",
      "23:03:39 - cmdstanpy - INFO - Chain [1] done processing\n",
      "23:03:39 - cmdstanpy - INFO - Chain [1] start processing\n"
     ]
    },
    {
     "name": "stdout",
     "output_type": "stream",
     "text": [
      "It's overpredicted.\n",
      "Monthly Error: 35.87 "
     ]
    },
    {
     "name": "stderr",
     "output_type": "stream",
     "text": [
      "23:03:40 - cmdstanpy - INFO - Chain [1] done processing\n"
     ]
    },
    {
     "name": "stdout",
     "output_type": "stream",
     "text": [
      "Period MAE: 27.18\n",
      "It's underpredicted.\n",
      "Monthly Error: 26.95 Period MAE: 24.55\n"
     ]
    },
    {
     "name": "stderr",
     "output_type": "stream",
     "text": [
      "23:03:40 - cmdstanpy - INFO - Chain [1] start processing\n",
      "23:03:40 - cmdstanpy - INFO - Chain [1] done processing\n"
     ]
    },
    {
     "name": "stdout",
     "output_type": "stream",
     "text": [
      "It's underpredicted.\n",
      "Monthly Error: 30.41 Period MAE:"
     ]
    },
    {
     "name": "stderr",
     "output_type": "stream",
     "text": [
      "23:03:40 - cmdstanpy - INFO - Chain [1] start processing\n"
     ]
    },
    {
     "name": "stdout",
     "output_type": "stream",
     "text": [
      " 30.19\n"
     ]
    },
    {
     "name": "stderr",
     "output_type": "stream",
     "text": [
      "23:03:41 - cmdstanpy - INFO - Chain [1] done processing\n",
      "23:03:41 - cmdstanpy - INFO - Chain [1] start processing\n"
     ]
    },
    {
     "name": "stdout",
     "output_type": "stream",
     "text": [
      "It's overpredicted.\n",
      "Monthly Error: "
     ]
    },
    {
     "name": "stderr",
     "output_type": "stream",
     "text": [
      "23:03:41 - cmdstanpy - INFO - Chain [1] done processing\n"
     ]
    },
    {
     "name": "stdout",
     "output_type": "stream",
     "text": [
      "35.78 Period MAE: 26.77\n",
      "It's underpredicted.\n",
      "Monthly Error: 66.41 Period MAE: 67.47It's underpredicted.\n",
      "\n",
      "Monthly Error: 34.55 Period MAE: 35.33\n"
     ]
    },
    {
     "name": "stderr",
     "output_type": "stream",
     "text": [
      "23:03:42 - cmdstanpy - INFO - Chain [1] start processing\n",
      "23:03:42 - cmdstanpy - INFO - Chain [1] start processing\n",
      "23:03:42 - cmdstanpy - INFO - Chain [1] done processing\n",
      "23:03:42 - cmdstanpy - INFO - Chain [1] start processing\n",
      "23:03:42 - cmdstanpy - INFO - Chain [1] done processing\n",
      "23:03:42 - cmdstanpy - INFO - Chain [1] done processing\n"
     ]
    },
    {
     "name": "stdout",
     "output_type": "stream",
     "text": [
      "It's underpredicted.\n",
      "Monthly Error:It's underpredicted. 35.24\n",
      "Monthly Error:  Period MAE:66.35 33.14\n",
      " Period MAE: 67.42\n"
     ]
    },
    {
     "name": "stderr",
     "output_type": "stream",
     "text": [
      "23:03:43 - cmdstanpy - INFO - Chain [1] start processing\n",
      "23:03:43 - cmdstanpy - INFO - Chain [1] done processing\n"
     ]
    },
    {
     "name": "stdout",
     "output_type": "stream",
     "text": [
      "It's underpredicted."
     ]
    },
    {
     "name": "stderr",
     "output_type": "stream",
     "text": [
      "23:03:43 - cmdstanpy - INFO - Chain [1] start processing\n"
     ]
    },
    {
     "name": "stdout",
     "output_type": "stream",
     "text": [
      "\n",
      "Monthly Error: 30.54 Period MAE: 30.25\n"
     ]
    },
    {
     "name": "stderr",
     "output_type": "stream",
     "text": [
      "23:03:43 - cmdstanpy - INFO - Chain [1] done processing\n"
     ]
    },
    {
     "name": "stdout",
     "output_type": "stream",
     "text": [
      "It's underpredicted.\n",
      "Monthly Error: 64.31 Period MAE: 65.42\n"
     ]
    },
    {
     "name": "stderr",
     "output_type": "stream",
     "text": [
      "23:03:43 - cmdstanpy - INFO - Chain [1] start processing\n"
     ]
    },
    {
     "name": "stdout",
     "output_type": "stream",
     "text": [
      "It's underpredicted.\n",
      "Monthly Error:"
     ]
    },
    {
     "name": "stderr",
     "output_type": "stream",
     "text": [
      "23:03:44 - cmdstanpy - INFO - Chain [1] done processing\n"
     ]
    },
    {
     "name": "stdout",
     "output_type": "stream",
     "text": [
      " 36.16 Period MAE: 34.660000000000004"
     ]
    },
    {
     "name": "stderr",
     "output_type": "stream",
     "text": [
      "23:03:44 - cmdstanpy - INFO - Chain [1] start processing\n"
     ]
    },
    {
     "name": "stdout",
     "output_type": "stream",
     "text": [
      "\n",
      "It's underpredicted.\n",
      "Monthly Error: 36.73 Period MAE: 37.019999999999996\n"
     ]
    },
    {
     "name": "stderr",
     "output_type": "stream",
     "text": [
      "23:03:44 - cmdstanpy - INFO - Chain [1] done processing\n",
      "23:03:44 - cmdstanpy - INFO - Chain [1] start processing\n",
      "23:03:44 - cmdstanpy - INFO - Chain [1] done processing\n",
      "23:03:44 - cmdstanpy - INFO - Chain [1] start processing\n",
      "23:03:44 - cmdstanpy - INFO - Chain [1] done processing\n"
     ]
    },
    {
     "name": "stdout",
     "output_type": "stream",
     "text": [
      "It's underpredicted.\n",
      "Monthly Error: It's underpredicted.36.73 Period MAE: 37.019999999999996\n",
      "\n",
      "Monthly Error: It's underpredicted.30.48 Period MAE:\n",
      "Monthly Error:  35.3 27.57Period MAE:\n",
      " 33.17\n"
     ]
    },
    {
     "name": "stderr",
     "output_type": "stream",
     "text": [
      "23:03:45 - cmdstanpy - INFO - Chain [1] start processing\n",
      "23:03:45 - cmdstanpy - INFO - Chain [1] done processing\n",
      "23:03:45 - cmdstanpy - INFO - Chain [1] start processing\n",
      "23:03:45 - cmdstanpy - INFO - Chain [1] start processing\n",
      "23:03:45 - cmdstanpy - INFO - Chain [1] done processing\n",
      "23:03:45 - cmdstanpy - INFO - Chain [1] done processing\n"
     ]
    },
    {
     "name": "stdout",
     "output_type": "stream",
     "text": [
      "It's underpredicted.\n",
      "Monthly Error: 36.73 Period MAE: 37.019999999999996\n",
      "It's underpredicted.\n",
      "Monthly Error: It's underpredicted.\n",
      "33.08Monthly Error:  Period MAE:30.39  Period MAE:31.77 \n",
      "3.06\n"
     ]
    },
    {
     "name": "stderr",
     "output_type": "stream",
     "text": [
      "23:03:46 - cmdstanpy - INFO - Chain [1] start processing\n"
     ]
    },
    {
     "name": "stdout",
     "output_type": "stream",
     "text": [
      "It's underpredicted.\n",
      "Monthly Error: 30.38 Period MAE: 3.0700000000000003\n"
     ]
    },
    {
     "name": "stderr",
     "output_type": "stream",
     "text": [
      "23:03:47 - cmdstanpy - INFO - Chain [1] start processing\n",
      "23:03:47 - cmdstanpy - INFO - Chain [1] done processing\n",
      "23:03:47 - cmdstanpy - INFO - Chain [1] start processing\n",
      "23:03:47 - cmdstanpy - INFO - Chain [1] start processing\n",
      "23:03:47 - cmdstanpy - INFO - Chain [1] done processing\n",
      "23:03:47 - cmdstanpy - INFO - Chain [1] done processing\n",
      "23:03:47 - cmdstanpy - INFO - Chain [1] done processing\n"
     ]
    },
    {
     "name": "stdout",
     "output_type": "stream",
     "text": [
      "It's underpredicted.It's underpredicted.\n",
      "Monthly Error: \n",
      "29.26 Period MAE: 25.88Monthly Error:\n",
      " 35.53 Period MAE: 33.82\n",
      "It's underpredicted.\n",
      "Monthly Error: 36.73 Period MAE: 37.019999999999996\n",
      "It's underpredicted."
     ]
    },
    {
     "name": "stderr",
     "output_type": "stream",
     "text": [
      "23:03:48 - cmdstanpy - INFO - Chain [1] start processing\n"
     ]
    },
    {
     "name": "stdout",
     "output_type": "stream",
     "text": [
      "\n",
      "Monthly Error: 30.31"
     ]
    },
    {
     "name": "stderr",
     "output_type": "stream",
     "text": [
      "23:03:48 - cmdstanpy - INFO - Chain [1] start processing\n"
     ]
    },
    {
     "name": "stdout",
     "output_type": "stream",
     "text": [
      " "
     ]
    },
    {
     "name": "stderr",
     "output_type": "stream",
     "text": [
      "23:03:48 - cmdstanpy - INFO - Chain [1] done processing\n"
     ]
    },
    {
     "name": "stdout",
     "output_type": "stream",
     "text": [
      "Period MAE: 3.29\n"
     ]
    },
    {
     "name": "stderr",
     "output_type": "stream",
     "text": [
      "23:03:48 - cmdstanpy - INFO - Chain [1] done processing\n",
      "23:03:49 - cmdstanpy - INFO - Chain [1] start processing\n",
      "23:03:49 - cmdstanpy - INFO - Chain [1] start processing\n",
      "23:03:49 - cmdstanpy - INFO - Chain [1] done processing\n"
     ]
    },
    {
     "name": "stdout",
     "output_type": "stream",
     "text": [
      "It's underpredicted.\n"
     ]
    },
    {
     "name": "stderr",
     "output_type": "stream",
     "text": [
      "23:03:49 - cmdstanpy - INFO - Chain [1] done processing\n"
     ]
    },
    {
     "name": "stdout",
     "output_type": "stream",
     "text": [
      "Monthly Error: 36.44 Period MAE: 35.339999999999996\n",
      "It's underpredicted."
     ]
    },
    {
     "name": "stderr",
     "output_type": "stream",
     "text": [
      "23:03:49 - cmdstanpy - INFO - Chain [1] start processing\n"
     ]
    },
    {
     "name": "stdout",
     "output_type": "stream",
     "text": [
      "\n",
      "Monthly Error: 36.73 Period MAE: 37.019999999999996\n"
     ]
    },
    {
     "name": "stderr",
     "output_type": "stream",
     "text": [
      "23:03:50 - cmdstanpy - INFO - Chain [1] done processing\n",
      "23:03:50 - cmdstanpy - INFO - Chain [1] start processing\n",
      "23:03:50 - cmdstanpy - INFO - Chain [1] done processing\n"
     ]
    },
    {
     "name": "stdout",
     "output_type": "stream",
     "text": [
      "It's underpredicted.\n",
      "Monthly Error: 33.76 Period MAE: 30.819999999999997\n",
      "It's underpredicted.\n",
      "Monthly Error: 37.35 Period MAE: 38.23\n",
      "It's underpredicted.\n",
      "Monthly Error: 36.73 Period MAE: 37.019999999999996\n"
     ]
    },
    {
     "name": "stderr",
     "output_type": "stream",
     "text": [
      "23:03:51 - cmdstanpy - INFO - Chain [1] start processing\n",
      "23:03:51 - cmdstanpy - INFO - Chain [1] start processing\n"
     ]
    },
    {
     "name": "stdout",
     "output_type": "stream",
     "text": [
      "It's underpredicted."
     ]
    },
    {
     "name": "stderr",
     "output_type": "stream",
     "text": [
      "23:03:51 - cmdstanpy - INFO - Chain [1] done processing\n"
     ]
    },
    {
     "name": "stdout",
     "output_type": "stream",
     "text": [
      "\n"
     ]
    },
    {
     "name": "stderr",
     "output_type": "stream",
     "text": [
      "23:03:51 - cmdstanpy - INFO - Chain [1] done processing\n"
     ]
    },
    {
     "name": "stdout",
     "output_type": "stream",
     "text": [
      "Monthly Error: 94.56 Period MAE: 94.67\n"
     ]
    },
    {
     "name": "stderr",
     "output_type": "stream",
     "text": [
      "23:03:51 - cmdstanpy - INFO - Chain [1] start processing\n",
      "23:03:51 - cmdstanpy - INFO - Chain [1] done processing\n"
     ]
    },
    {
     "name": "stdout",
     "output_type": "stream",
     "text": [
      "It's underpredicted.\n",
      "Monthly Error: 38.17 Period MAE: 39.07\n"
     ]
    },
    {
     "name": "stderr",
     "output_type": "stream",
     "text": [
      "23:03:52 - cmdstanpy - INFO - Chain [1] start processing\n",
      "23:03:52 - cmdstanpy - INFO - Chain [1] done processing\n",
      "23:03:52 - cmdstanpy - INFO - Chain [1] start processing\n",
      "23:03:52 - cmdstanpy - INFO - Chain [1] done processing\n"
     ]
    },
    {
     "name": "stdout",
     "output_type": "stream",
     "text": [
      "It's underpredicted.\n",
      "Monthly Error: 37.92 Period MAE: 38.82\n",
      "It's underpredicted.\n",
      "Monthly Error: 94.56 "
     ]
    },
    {
     "name": "stderr",
     "output_type": "stream",
     "text": [
      "23:03:53 - cmdstanpy - INFO - Chain [1] start processing\n"
     ]
    },
    {
     "name": "stdout",
     "output_type": "stream",
     "text": [
      "Period MAE: 94.67\n"
     ]
    },
    {
     "name": "stderr",
     "output_type": "stream",
     "text": [
      "23:03:53 - cmdstanpy - INFO - Chain [1] done processing\n"
     ]
    },
    {
     "name": "stdout",
     "output_type": "stream",
     "text": [
      "It's underpredicted.\n",
      "Monthly Error: 35.78 Period MAE:"
     ]
    }
   ],
   "source": [
    "# %load_ext autoreload\n",
    "# %autoreload 2\n",
    "# search_engine = ProphetParameterSearch(power_flag = False) # , logistic_flag = False\n",
    "# # search_engine.add_power_params()\n",
    "# grid_brand = search_engine.search(cuts_df, df_filled)\n",
    "# #grid_bing = search_engine.search(cuts_df[(cuts_df.index==0)], df_filled)\n",
    "\n",
    "# %load_ext autoreload\n",
    "# %autoreload 2\n",
    "search_engine = ProphetParameterSearch(param_grid=param_grid, power_flag = False, base_path=base_path) # \n",
    "# search_engine.add_power_params() # consider using it when the basic setting won't get you good results\n",
    "# Mobile\n",
    "grid_brand_mobile = search_engine.search(cuts_df_mobile, df_filled) #competitor and bing generic"
   ]
  },
  {
   "cell_type": "code",
   "execution_count": null,
   "id": "3ad1e939-12b8-4476-b32b-29033430e20d",
   "metadata": {
    "tags": []
   },
   "outputs": [
    {
     "name": "stderr",
     "output_type": "stream",
     "text": [
      "  0%|          | 0/1 [00:00<?, ?it/s]"
     ]
    }
   ],
   "source": [
    "# %load_ext autoreload\n",
    "# %autoreload 2\n",
    "# search_engine = ProphetParameterSearch(power_flag = False) # , logistic_flag = False\n",
    "# # search_engine.add_power_params()\n",
    "# grid_brand = search_engine.search(cuts_df, df_filled)\n",
    "# #grid_bing = search_engine.search(cuts_df[(cuts_df.index==0)], df_filled)\n",
    "\n",
    "# %load_ext autoreload\n",
    "# %autoreload 2\n",
    "search_engine = ProphetParameterSearch(param_grid=param_grid, power_flag = False, base_path=base_path) # \n",
    "# search_engine.add_power_params() # consider using it when the basic setting won't get you good results\n",
    "# Desktop\n",
    "grid_brand_desktop = search_engine.search(cuts_df_desktop, df_filled) #competitor and bing generic"
   ]
  },
  {
   "cell_type": "code",
   "execution_count": 27,
   "id": "1d399504-4f11-42a4-bc87-ef67f2407e29",
   "metadata": {
    "tags": []
   },
   "outputs": [],
   "source": [
    "# Read the two CSV files\n",
    "df_desktop = pd.read_csv('record_df 2024-05-29 18:46:28.csv')\n",
    "df_mobile = pd.read_csv('record_df 2024-05-29 18:22:34.csv')\n",
    "\n",
    "df_best_desktop = pd.read_csv('record_df 2024-05-29 18:46:28 best result.csv')\n",
    "df_best_mobile = pd.read_csv('record_df 2024-05-29 18:22:34 best result.csv')\n",
    "\n",
    "# Append the second dataframe to the first one\n",
    "#combined_df = df_desktop.concat(df_mobile)\n",
    "#combined_best_df = df_best_desktop.concat(df_best_mobile)\n",
    "combined_df = pd.concat([df_desktop, df_mobile], ignore_index=True)\n",
    "combined_best_df = pd.concat([df_best_desktop, df_best_mobile], ignore_index=True)\n",
    "\n",
    "# Save the combined dataframe to a new CSV file\n",
    "combined_df.to_csv('results record_df 2024-05-29 18:50:18.csv', index=False)\n",
    "combined_best_df.to_csv('best result record_df 2024-05-29 18:50:18.csv', index=False)"
   ]
  },
  {
   "cell_type": "code",
   "execution_count": 28,
   "id": "fe325087-370e-473f-a8a2-7915d3abe135",
   "metadata": {
    "tags": []
   },
   "outputs": [
    {
     "data": {
      "text/plain": [
       "0    77.78\n",
       "1    85.39\n",
       "Name: MAPE, dtype: float64"
      ]
     },
     "execution_count": 28,
     "metadata": {},
     "output_type": "execute_result"
    }
   ],
   "source": [
    "Acc_best_ = 100-combined_best_df['MAPE']; Acc_best_"
   ]
  },
  {
   "cell_type": "code",
   "execution_count": 26,
   "id": "5ad10d90-1d05-43fa-87b4-d2c67b4a2695",
   "metadata": {
    "tags": []
   },
   "outputs": [],
   "source": [
    "# Remove duplicate entries from index\n",
    "#accuracy_df = accuracy_df.drop_duplicates(subset=['Month', query_item_list])\n",
    "\n",
    "subset_columns = ['Month'] + query_item_list\n",
    "\n",
    "accuracy_df = accuracy_df.drop_duplicates(subset=subset_columns)\n",
    "\n",
    "# Pivot the data\n",
    "#df_for_plt = accuracy_df.drop(['Actual', 'Forecast', 'MAPE', 'Forecast Period MAE', 'Predict Status'], axis=1).pivot(index='Month', columns=query_item_list, values='Percentage Error')"
   ]
  },
  {
   "cell_type": "code",
   "execution_count": 27,
   "id": "758d92f8-a3fe-4e77-bbd6-e1350e3595de",
   "metadata": {
    "tags": []
   },
   "outputs": [],
   "source": [
    "df_for_plt = accuracy_df.drop(['Actual', 'Forecast', 'MAPE', 'Forecast Period MAE', 'Predict Status'], axis=1).pivot(index = 'Month', columns = (query_item_list), values = 'Percentage Error')"
   ]
  },
  {
   "cell_type": "code",
   "execution_count": 28,
   "id": "096fcf46",
   "metadata": {
    "tags": []
   },
   "outputs": [
    {
     "data": {
      "image/png": "[encoded data removed]",
      "text/plain": [
       "<Figure size 1000x300 with 1 Axes>"
      ]
     },
     "metadata": {},
     "output_type": "display_data"
    }
   ],
   "source": [
    "plot_printer = PlotAndSaveAccuracyDf()\n",
    "fig = plot_printer.Plot(df_for_plt)\n",
    "plot_name = \"Accuracy_By_Month.jpg\"\n",
    "%load_ext autoreload\n",
    "%autoreload 2"
   ]
  },
  {
   "cell_type": "code",
   "execution_count": 37,
   "id": "804d256c-7052-46e8-bfda-9fb2b7090ec0",
   "metadata": {},
   "outputs": [
    {
     "name": "stdout",
     "output_type": "stream",
     "text": [
      "ups_bj_cost_by_device_optimization/UK/feb_2024_device_upd/Accuracy_By_Month.jpg\n",
      "Image saved: ups_bj_cost_by_device_optimization/UK/feb_2024_device_upd/Accuracy_By_Month.jpg\n"
     ]
    }
   ],
   "source": [
    "#fig.savefig(plot_name)\n",
    "plot_printer.SaveToGCS(output_bucket,  plot_name, folder_name)"
   ]
  },
  {
   "cell_type": "code",
   "execution_count": 40,
   "id": "9a41fdd4",
   "metadata": {
    "tags": []
   },
   "outputs": [],
   "source": [
    "# min_score = grid_competitor[(grid_competitor['account_type'] == 'Bing Ads')&(grid_competitor['funnel'] == 'Competitor')]['MAPE'].min()\n",
    "\n",
    "# best_setting_df = grid_competitor[(grid_competitor['account_type'] == 'Bing Ads')&(grid_competitor['funnel'] == 'Competitor')\\\n",
    "#                                           &(grid_competitor['MAPE'] == min_score)]"
   ]
  },
  {
   "cell_type": "code",
   "execution_count": 22,
   "id": "e890d1f4",
   "metadata": {
    "tags": []
   },
   "outputs": [],
   "source": [
    "# search_engine = ProphetParameterSearch()\n",
    "# search_engine.add_power_params(num=5)\n",
    "# df1, df2 = search_engine.search(cuts_df, df_filled)\n",
    "# df2.to_csv('best_setting_df.csv')\n",
    "# df1.to_csv('all_setting_result_acc_df.csv')  "
   ]
  },
  {
   "cell_type": "code",
   "execution_count": 23,
   "id": "eb2451e3",
   "metadata": {
    "tags": []
   },
   "outputs": [],
   "source": [
    "# new_cuts_df = pd.read_csv('US Model Setting.csv')\n",
    "# cuts_df_col_ls = ['market', 'account_type', 'funnel', 'starting_date', 'cutoff_month', 'periods', 'periods_for_acc_cal']\n",
    "# new_cuts_df = new_cuts_df.merge(cuts_df[cuts_df_col_ls], how = 'left', on = ['market', 'account_type', 'funnel'])\n",
    "\n",
    "# new_cuts_df.to_csv(config_dict['CLIENTINFO']['country'] + ' Breakdown.csv')\n",
    "# generator = BreakdownSettingFileGenerator()\n",
    "# new_cuts_df = generator.Generate(daily_df, config_dict, new_cuts_df)\n",
    "# new_cuts_df = generator.Update()\n",
    "# generator.SaveFile(bucket_name, folder_name, 'cuts_df.csv')\n",
    "# new_cuts_df"
   ]
  },
  {
   "cell_type": "code",
   "execution_count": 24,
   "id": "98f054af",
   "metadata": {
    "tags": []
   },
   "outputs": [],
   "source": [
    "# new_cuts_df.to_csv('cuts_df.csv')"
   ]
  },
  {
   "cell_type": "code",
   "execution_count": 42,
   "id": "8603df74",
   "metadata": {
    "tags": []
   },
   "outputs": [],
   "source": [
    "# calculator = AccuracyCalculator()\n",
    "# accuracy_df = calculator.CalculateAccuracy(new_cuts_df, df, query_item_list)\n",
    "# # %load_ext autoreload\n",
    "# # %autoreload 2\n",
    "# calculator.SaveFile(bucket_name, folder_name, 'Finalized Model Score.csv')\n",
    "# accuracy_df"
   ]
  },
  {
   "cell_type": "code",
   "execution_count": 58,
   "id": "3126eebe",
   "metadata": {
    "tags": []
   },
   "outputs": [],
   "source": [
    "# import json\n",
    "# param_search_dict = {'power': 5,\n",
    "#                      'growth': ['linear', 'logistic', 'power'],\n",
    "#                     'seasonality_mode': ['additive', 'multiplicative'],\n",
    "#                     'input_mode': ['additive', 'multiplicative'],\n",
    "#                     'include_holiday': ['NA', 'Custom', 'Default'],\n",
    "#                     'weekday_or_weekend': ['NA', 'additive', 'multiplicative'],\n",
    "#                     'covid_year_exclude': ['Exclude', 'na'],\n",
    "#                     'covid_year_dummy': ['NA', 'additive', 'multiplicative'],\n",
    "#                     'anomaly_2021':['NA', 'additive', 'multiplicative'],\n",
    "#                     }\n",
    "# with open(\"param serach.json\", \"w\") as outfile:\n",
    "#     json.dump(param_search_dict, outfile)"
   ]
  },
  {
   "cell_type": "code",
   "execution_count": 59,
   "id": "6c484d4b",
   "metadata": {
    "tags": []
   },
   "outputs": [],
   "source": [
    "# param_search_f = open(\"param serach.json\")\n",
    "# param_search_dict = json.load(param_search_f)\n",
    "# power_number = int(param_search_dict['power']) \n",
    "# param_search_dict = {k: v for i, (k, v) in enumerate(param_search_dict.items()) if i > 1}\n",
    "# power_number, param_search_dict"
   ]
  },
  {
   "cell_type": "code",
   "execution_count": 60,
   "id": "49f6ba96",
   "metadata": {
    "tags": []
   },
   "outputs": [],
   "source": [
    "# import itertools\n",
    "# list(itertools.product(*param_search_dict.values()))\n",
    "# list(param_search_dict.keys())"
   ]
  },
  {
   "cell_type": "markdown",
   "id": "ccc21532",
   "metadata": {},
   "source": [
    "# Model Generator"
   ]
  },
  {
   "cell_type": "code",
   "execution_count": 24,
   "id": "50ac10ba",
   "metadata": {
    "tags": []
   },
   "outputs": [
    {
     "name": "stderr",
     "output_type": "stream",
     "text": [
      "03:40:11 - cmdstanpy - INFO - Chain [1] start processing\n",
      "03:40:11 - cmdstanpy - INFO - Chain [1] done processing\n",
      "03:40:12 - cmdstanpy - INFO - Chain [1] start processing\n",
      "03:40:12 - cmdstanpy - INFO - Chain [1] done processing\n"
     ]
    }
   ],
   "source": [
    "# %load_ext autoreload\n",
    "# %autoreload 2\n",
    "# model_generator = GenerateModelFile()\n",
    "# model_generator.Generate(cuts_df, df_filled, query_item_list, output_bucket, folder_name)\n",
    "\n",
    "# %load_ext autoreload\n",
    "# %autoreload \n",
    "model_generator = GenerateModelFile()\n",
    "model_generator.Generate(cuts_df, df_filled , query_item_list, output_bucket, folder_name, base_path=base_path)"
   ]
  },
  {
   "cell_type": "markdown",
   "id": "d92338c0",
   "metadata": {},
   "source": [
    "# Constraint Setting"
   ]
  },
  {
   "cell_type": "code",
   "execution_count": 17,
   "id": "68436db0-20c2-4211-b98e-54570603c515",
   "metadata": {
    "tags": []
   },
   "outputs": [
    {
     "name": "stdout",
     "output_type": "stream",
     "text": [
      "Data Frame file saved\n"
     ]
    }
   ],
   "source": [
    "bounds = cuts_df.copy()\n",
    "bounds['MinWeight'] = 0.8\n",
    "bounds['MaxWeight'] = 1.2\n",
    "bounds\n",
    "\n",
    "# %load_ext autoreload\n",
    "# %autoreload 2\n",
    "constraint_file_generator = ConstraintFileGenerator(config_dict, analytical_file_df)\n",
    "constraint_file = constraint_file_generator.Generate(bounds)\n",
    "constraint_file.loc[constraint_file['Month'].isin(['Nov']), 'MinWeight'] = 0.8\n",
    "constraint_file.loc[constraint_file['Month'].isin(['Nov']), 'MaxWeight'] = 0.9\n",
    "constraint_file_generator.SaveFile(output_bucket, folder_name, constraint_file_name)"
   ]
  },
  {
   "cell_type": "code",
   "execution_count": 23,
   "id": "0d96d301",
   "metadata": {
    "tags": []
   },
   "outputs": [],
   "source": [
    "#constraint_file.to_csv('Constrain File.csv')\n",
    "#constrain_file_generator.SaveFile(output_bucket, folder_name, 'Constraint File.csv')"
   ]
  },
  {
   "cell_type": "code",
   "execution_count": 26,
   "id": "69b816bf-aa13-4980-8721-4195d32ace2d",
   "metadata": {
    "collapsed": true,
    "jupyter": {
     "outputs_hidden": true
    },
    "tags": []
   },
   "outputs": [
    {
     "ename": "KeyError",
     "evalue": "'region'",
     "output_type": "error",
     "traceback": [
      "\u001b[0;31m---------------------------------------------------------------------------\u001b[0m",
      "\u001b[0;31mKeyError\u001b[0m                                  Traceback (most recent call last)",
      "Cell \u001b[0;32mIn[26], line 1\u001b[0m\n\u001b[0;32m----> 1\u001b[0m \u001b[43mdf_filled\u001b[49m\u001b[43m[\u001b[49m\u001b[43m(\u001b[49m\u001b[43mdf_filled\u001b[49m\u001b[38;5;241;43m.\u001b[39;49m\u001b[43mds\u001b[49m\u001b[38;5;241;43m>\u001b[39;49m\u001b[38;5;241;43m=\u001b[39;49m\u001b[38;5;124;43m'\u001b[39;49m\u001b[38;5;124;43m2024-01-01\u001b[39;49m\u001b[38;5;124;43m'\u001b[39;49m\u001b[43m)\u001b[49m\u001b[38;5;241;43m&\u001b[39;49m\u001b[43m(\u001b[49m\u001b[43mdf_filled\u001b[49m\u001b[38;5;241;43m.\u001b[39;49m\u001b[43mds\u001b[49m\u001b[38;5;241;43m<\u001b[39;49m\u001b[38;5;241;43m=\u001b[39;49m\u001b[38;5;124;43m'\u001b[39;49m\u001b[38;5;124;43m2024-01-10\u001b[39;49m\u001b[38;5;124;43m'\u001b[39;49m\u001b[43m)\u001b[49m\u001b[43m]\u001b[49m\u001b[38;5;241;43m.\u001b[39;49m\u001b[43mgroupby\u001b[49m\u001b[43m(\u001b[49m\u001b[43mby\u001b[49m\u001b[38;5;241;43m=\u001b[39;49m\u001b[38;5;124;43m'\u001b[39;49m\u001b[38;5;124;43mregion\u001b[39;49m\u001b[38;5;124;43m'\u001b[39;49m\u001b[43m)\u001b[49m\u001b[38;5;241m.\u001b[39msum(numeric_only\u001b[38;5;241m=\u001b[39m\u001b[38;5;241m1\u001b[39m)\n",
      "File \u001b[0;32m/opt/conda/lib/python3.10/site-packages/pandas/core/frame.py:9183\u001b[0m, in \u001b[0;36mDataFrame.groupby\u001b[0;34m(self, by, axis, level, as_index, sort, group_keys, observed, dropna)\u001b[0m\n\u001b[1;32m   9180\u001b[0m \u001b[38;5;28;01mif\u001b[39;00m level \u001b[38;5;129;01mis\u001b[39;00m \u001b[38;5;28;01mNone\u001b[39;00m \u001b[38;5;129;01mand\u001b[39;00m by \u001b[38;5;129;01mis\u001b[39;00m \u001b[38;5;28;01mNone\u001b[39;00m:\n\u001b[1;32m   9181\u001b[0m     \u001b[38;5;28;01mraise\u001b[39;00m \u001b[38;5;167;01mTypeError\u001b[39;00m(\u001b[38;5;124m\"\u001b[39m\u001b[38;5;124mYou have to supply one of \u001b[39m\u001b[38;5;124m'\u001b[39m\u001b[38;5;124mby\u001b[39m\u001b[38;5;124m'\u001b[39m\u001b[38;5;124m and \u001b[39m\u001b[38;5;124m'\u001b[39m\u001b[38;5;124mlevel\u001b[39m\u001b[38;5;124m'\u001b[39m\u001b[38;5;124m\"\u001b[39m)\n\u001b[0;32m-> 9183\u001b[0m \u001b[38;5;28;01mreturn\u001b[39;00m \u001b[43mDataFrameGroupBy\u001b[49m\u001b[43m(\u001b[49m\n\u001b[1;32m   9184\u001b[0m \u001b[43m    \u001b[49m\u001b[43mobj\u001b[49m\u001b[38;5;241;43m=\u001b[39;49m\u001b[38;5;28;43mself\u001b[39;49m\u001b[43m,\u001b[49m\n\u001b[1;32m   9185\u001b[0m \u001b[43m    \u001b[49m\u001b[43mkeys\u001b[49m\u001b[38;5;241;43m=\u001b[39;49m\u001b[43mby\u001b[49m\u001b[43m,\u001b[49m\n\u001b[1;32m   9186\u001b[0m \u001b[43m    \u001b[49m\u001b[43maxis\u001b[49m\u001b[38;5;241;43m=\u001b[39;49m\u001b[43maxis\u001b[49m\u001b[43m,\u001b[49m\n\u001b[1;32m   9187\u001b[0m \u001b[43m    \u001b[49m\u001b[43mlevel\u001b[49m\u001b[38;5;241;43m=\u001b[39;49m\u001b[43mlevel\u001b[49m\u001b[43m,\u001b[49m\n\u001b[1;32m   9188\u001b[0m \u001b[43m    \u001b[49m\u001b[43mas_index\u001b[49m\u001b[38;5;241;43m=\u001b[39;49m\u001b[43mas_index\u001b[49m\u001b[43m,\u001b[49m\n\u001b[1;32m   9189\u001b[0m \u001b[43m    \u001b[49m\u001b[43msort\u001b[49m\u001b[38;5;241;43m=\u001b[39;49m\u001b[43msort\u001b[49m\u001b[43m,\u001b[49m\n\u001b[1;32m   9190\u001b[0m \u001b[43m    \u001b[49m\u001b[43mgroup_keys\u001b[49m\u001b[38;5;241;43m=\u001b[39;49m\u001b[43mgroup_keys\u001b[49m\u001b[43m,\u001b[49m\n\u001b[1;32m   9191\u001b[0m \u001b[43m    \u001b[49m\u001b[43mobserved\u001b[49m\u001b[38;5;241;43m=\u001b[39;49m\u001b[43mobserved\u001b[49m\u001b[43m,\u001b[49m\n\u001b[1;32m   9192\u001b[0m \u001b[43m    \u001b[49m\u001b[43mdropna\u001b[49m\u001b[38;5;241;43m=\u001b[39;49m\u001b[43mdropna\u001b[49m\u001b[43m,\u001b[49m\n\u001b[1;32m   9193\u001b[0m \u001b[43m\u001b[49m\u001b[43m)\u001b[49m\n",
      "File \u001b[0;32m/opt/conda/lib/python3.10/site-packages/pandas/core/groupby/groupby.py:1329\u001b[0m, in \u001b[0;36mGroupBy.__init__\u001b[0;34m(self, obj, keys, axis, level, grouper, exclusions, selection, as_index, sort, group_keys, observed, dropna)\u001b[0m\n\u001b[1;32m   1326\u001b[0m \u001b[38;5;28mself\u001b[39m\u001b[38;5;241m.\u001b[39mdropna \u001b[38;5;241m=\u001b[39m dropna\n\u001b[1;32m   1328\u001b[0m \u001b[38;5;28;01mif\u001b[39;00m grouper \u001b[38;5;129;01mis\u001b[39;00m \u001b[38;5;28;01mNone\u001b[39;00m:\n\u001b[0;32m-> 1329\u001b[0m     grouper, exclusions, obj \u001b[38;5;241m=\u001b[39m \u001b[43mget_grouper\u001b[49m\u001b[43m(\u001b[49m\n\u001b[1;32m   1330\u001b[0m \u001b[43m        \u001b[49m\u001b[43mobj\u001b[49m\u001b[43m,\u001b[49m\n\u001b[1;32m   1331\u001b[0m \u001b[43m        \u001b[49m\u001b[43mkeys\u001b[49m\u001b[43m,\u001b[49m\n\u001b[1;32m   1332\u001b[0m \u001b[43m        \u001b[49m\u001b[43maxis\u001b[49m\u001b[38;5;241;43m=\u001b[39;49m\u001b[43maxis\u001b[49m\u001b[43m,\u001b[49m\n\u001b[1;32m   1333\u001b[0m \u001b[43m        \u001b[49m\u001b[43mlevel\u001b[49m\u001b[38;5;241;43m=\u001b[39;49m\u001b[43mlevel\u001b[49m\u001b[43m,\u001b[49m\n\u001b[1;32m   1334\u001b[0m \u001b[43m        \u001b[49m\u001b[43msort\u001b[49m\u001b[38;5;241;43m=\u001b[39;49m\u001b[43msort\u001b[49m\u001b[43m,\u001b[49m\n\u001b[1;32m   1335\u001b[0m \u001b[43m        \u001b[49m\u001b[43mobserved\u001b[49m\u001b[38;5;241;43m=\u001b[39;49m\u001b[38;5;28;43;01mFalse\u001b[39;49;00m\u001b[43m \u001b[49m\u001b[38;5;28;43;01mif\u001b[39;49;00m\u001b[43m \u001b[49m\u001b[43mobserved\u001b[49m\u001b[43m \u001b[49m\u001b[38;5;129;43;01mis\u001b[39;49;00m\u001b[43m \u001b[49m\u001b[43mlib\u001b[49m\u001b[38;5;241;43m.\u001b[39;49m\u001b[43mno_default\u001b[49m\u001b[43m \u001b[49m\u001b[38;5;28;43;01melse\u001b[39;49;00m\u001b[43m \u001b[49m\u001b[43mobserved\u001b[49m\u001b[43m,\u001b[49m\n\u001b[1;32m   1336\u001b[0m \u001b[43m        \u001b[49m\u001b[43mdropna\u001b[49m\u001b[38;5;241;43m=\u001b[39;49m\u001b[38;5;28;43mself\u001b[39;49m\u001b[38;5;241;43m.\u001b[39;49m\u001b[43mdropna\u001b[49m\u001b[43m,\u001b[49m\n\u001b[1;32m   1337\u001b[0m \u001b[43m    \u001b[49m\u001b[43m)\u001b[49m\n\u001b[1;32m   1339\u001b[0m \u001b[38;5;28;01mif\u001b[39;00m observed \u001b[38;5;129;01mis\u001b[39;00m lib\u001b[38;5;241m.\u001b[39mno_default:\n\u001b[1;32m   1340\u001b[0m     \u001b[38;5;28;01mif\u001b[39;00m \u001b[38;5;28many\u001b[39m(ping\u001b[38;5;241m.\u001b[39m_passed_categorical \u001b[38;5;28;01mfor\u001b[39;00m ping \u001b[38;5;129;01min\u001b[39;00m grouper\u001b[38;5;241m.\u001b[39mgroupings):\n",
      "File \u001b[0;32m/opt/conda/lib/python3.10/site-packages/pandas/core/groupby/grouper.py:1043\u001b[0m, in \u001b[0;36mget_grouper\u001b[0;34m(obj, key, axis, level, sort, observed, validate, dropna)\u001b[0m\n\u001b[1;32m   1041\u001b[0m         in_axis, level, gpr \u001b[38;5;241m=\u001b[39m \u001b[38;5;28;01mFalse\u001b[39;00m, gpr, \u001b[38;5;28;01mNone\u001b[39;00m\n\u001b[1;32m   1042\u001b[0m     \u001b[38;5;28;01melse\u001b[39;00m:\n\u001b[0;32m-> 1043\u001b[0m         \u001b[38;5;28;01mraise\u001b[39;00m \u001b[38;5;167;01mKeyError\u001b[39;00m(gpr)\n\u001b[1;32m   1044\u001b[0m \u001b[38;5;28;01melif\u001b[39;00m \u001b[38;5;28misinstance\u001b[39m(gpr, Grouper) \u001b[38;5;129;01mand\u001b[39;00m gpr\u001b[38;5;241m.\u001b[39mkey \u001b[38;5;129;01mis\u001b[39;00m \u001b[38;5;129;01mnot\u001b[39;00m \u001b[38;5;28;01mNone\u001b[39;00m:\n\u001b[1;32m   1045\u001b[0m     \u001b[38;5;66;03m# Add key to exclusions\u001b[39;00m\n\u001b[1;32m   1046\u001b[0m     exclusions\u001b[38;5;241m.\u001b[39madd(gpr\u001b[38;5;241m.\u001b[39mkey)\n",
      "\u001b[0;31mKeyError\u001b[0m: 'region'"
     ]
    }
   ],
   "source": [
    "df_filled[(df_filled.ds>='2024-01-01')&(df_filled.ds<='2024-01-10')].groupby(by='region').sum(numeric_only=1)"
   ]
  },
  {
   "cell_type": "code",
   "execution_count": null,
   "id": "5b6ac956-8dd2-4a78-9eb2-02bb628b17a9",
   "metadata": {
    "tags": []
   },
   "outputs": [],
   "source": [
    "cuts_df"
   ]
  },
  {
   "cell_type": "code",
   "execution_count": 29,
   "id": "9ca87871-be50-405e-8d54-c4cb03085bda",
   "metadata": {},
   "outputs": [],
   "source": [
    "# # cuts_df.loc[5, 'growth'] = 'linear'\n",
    "# for i in cuts_df.itertuples():\n",
    "#     pass\n",
    "\n",
    "# import pickle\n",
    "# from repo.Accuracy import MakeFuture\n",
    "# file_name = \"UK Mobile & Tablet -.pkl\"\n",
    "# pickle_file_path = base_path + file_name\n",
    "# pickle_in = open(pickle_file_path,'rb') \n",
    "# # unpickled model is the model to use, training_dataset is used to get historical spend\n",
    "# unpickled_model, training_dataset, model_df = pickle.load(pickle_in)\n",
    "\n",
    "# analytical_file_copy = analytical_file_df.copy()\n",
    "# market = 'UK'\n",
    "# account_type = 'Mobile & Tablet'\n",
    "# funnel = '-'\n",
    "\n",
    "# spend_df_for_forecast = analytical_file_copy[(analytical_file_copy['market'] == market) & (analytical_file_copy['account_type'] == account_type) & \\\n",
    "#                                              (analytical_file_copy['funnel'] == funnel)].copy()\n",
    "# spend_df_for_forecast['ds'] = pd.to_datetime(spend_df_for_forecast.ds)\n",
    "\n",
    "# future = MakeFuture(unpickled_model, training_dataset, i, 183, spend_df_for_forecast)\n",
    "# # print(training_dataset.ds.max(), i)\n",
    "# forecast = unpickled_model.predict(future)\n",
    "# unpickled_model.plot_components(forecast)\n",
    "\n",
    "# from prophet.plot import plot_plotly, plot_components_plotly\n",
    "\n",
    "# plot_plotly(unpickled_model, forecast)"
   ]
  },
  {
   "cell_type": "code",
   "execution_count": null,
   "id": "46624486-5fb9-449e-8518-f3cc00f59472",
   "metadata": {},
   "outputs": [],
   "source": []
  }
 ],
 "metadata": {
  "environment": {
   "kernel": "conda-base-py",
   "name": "workbench-notebooks.m120",
   "type": "gcloud",
   "uri": "us-docker.pkg.dev/deeplearning-platform-release/gcr.io/workbench-notebooks:m120"
  },
  "kernelspec": {
   "display_name": "Python 3 (ipykernel) (Local)",
   "language": "python",
   "name": "conda-base-py"
  },
  "language_info": {
   "codemirror_mode": {
    "name": "ipython",
    "version": 3
   },
   "file_extension": ".py",
   "mimetype": "text/x-python",
   "name": "python",
   "nbconvert_exporter": "python",
   "pygments_lexer": "ipython3",
   "version": "3.10.14"
  }
 },
 "nbformat": 4,
 "nbformat_minor": 5
}
